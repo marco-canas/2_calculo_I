{
 "cells": [
  {
   "attachments": {},
   "cell_type": "markdown",
   "metadata": {},
   "source": [
    "### Hallar el limite  ###\n",
    "\n",
    "* Encontrar el límite de la función (si existe).\n",
    "* Escribir una función más simple que coincida con la dada salvo en un punto. \n",
    "* Utilizar una herramienta de graficación para confirmar el resultado.\n",
    "\n",
    "$$ \\lim_{x \\to 6} \\frac{x - 6}{x^{2} - 36} $$\n"
   ]
  },
  {
   "attachments": {},
   "cell_type": "markdown",
   "metadata": {},
   "source": [
    "### primeramente, remplazamos las $x$ por 6\n",
    "\n",
    "$$ \\lim_{x\\to 6} \\frac{6-6}{36-36} $$\n",
    "$$ \\lim_{x\\to 6} \\frac{0}{0} $$"
   ]
  },
  {
   "attachments": {},
   "cell_type": "markdown",
   "metadata": {},
   "source": [
    "## Forma puntual\n",
    "¿Qué es lo que nos piden determinar?\n",
    "\n",
    "nos piden hallar la tendencia del cociente $\\frac{x - 6}{x^{2} - 36}$ cuando o a medida que $x $ tiende o se acerca a 6"
   ]
  },
  {
   "cell_type": "code",
   "execution_count": 117,
   "metadata": {},
   "outputs": [],
   "source": [
    "def f(x):\n",
    "    return (x - 6)/(x**2 - 36)"
   ]
  },
  {
   "cell_type": "code",
   "execution_count": 123,
   "metadata": {},
   "outputs": [
    {
     "data": {
      "text/plain": [
       "0.08332638946753723"
      ]
     },
     "execution_count": 123,
     "metadata": {},
     "output_type": "execute_result"
    }
   ],
   "source": [
    "f(6.001)"
   ]
  },
  {
   "attachments": {},
   "cell_type": "markdown",
   "metadata": {},
   "source": [
    "$$ \\lim_{x \\to 6} f(x)= 0.083 $$"
   ]
  },
  {
   "attachments": {},
   "cell_type": "markdown",
   "metadata": {},
   "source": [
    "### Y este simbolo se lee: \"a medida que $x$ se aproxima a 6, $f(x)$ es 0.083\"\n"
   ]
  },
  {
   "attachments": {},
   "cell_type": "markdown",
   "metadata": {},
   "source": [
    "## Representación tabular"
   ]
  },
  {
   "cell_type": "code",
   "execution_count": 65,
   "metadata": {},
   "outputs": [],
   "source": [
    "def f(x):\n",
    "    return(x-6)/(x**2 -36)"
   ]
  },
  {
   "cell_type": "code",
   "execution_count": 124,
   "metadata": {},
   "outputs": [],
   "source": [
    "import numpy as np\n",
    "import pandas as pd\n",
    "\n",
    "X= np.array([5.9, 5.99, 5.999, 6.001, 6.01, 6.1])"
   ]
  },
  {
   "cell_type": "code",
   "execution_count": 111,
   "metadata": {},
   "outputs": [
    {
     "data": {
      "text/plain": [
       "array([5.9  , 5.99 , 5.999, 6.001, 6.01 , 6.1  ])"
      ]
     },
     "execution_count": 111,
     "metadata": {},
     "output_type": "execute_result"
    }
   ],
   "source": [
    "X\n"
   ]
  },
  {
   "cell_type": "code",
   "execution_count": 125,
   "metadata": {},
   "outputs": [
    {
     "data": {
      "text/plain": [
       "array([0.08403361, 0.08340284, 0.08334028, 0.08332639, 0.08326395,\n",
       "       0.08264463])"
      ]
     },
     "execution_count": 125,
     "metadata": {},
     "output_type": "execute_result"
    }
   ],
   "source": [
    "F = f(X)\n",
    "F"
   ]
  },
  {
   "cell_type": "code",
   "execution_count": 101,
   "metadata": {},
   "outputs": [
    {
     "data": {
      "text/html": [
       "<div>\n",
       "<style scoped>\n",
       "    .dataframe tbody tr th:only-of-type {\n",
       "        vertical-align: middle;\n",
       "    }\n",
       "\n",
       "    .dataframe tbody tr th {\n",
       "        vertical-align: top;\n",
       "    }\n",
       "\n",
       "    .dataframe thead th {\n",
       "        text-align: right;\n",
       "    }\n",
       "</style>\n",
       "<table border=\"1\" class=\"dataframe\">\n",
       "  <thead>\n",
       "    <tr style=\"text-align: right;\">\n",
       "      <th></th>\n",
       "      <th>tendecia de la x</th>\n",
       "      <th>tendencia de la y</th>\n",
       "    </tr>\n",
       "  </thead>\n",
       "  <tbody>\n",
       "    <tr>\n",
       "      <th>0</th>\n",
       "      <td>5.900</td>\n",
       "      <td>0.084034</td>\n",
       "    </tr>\n",
       "    <tr>\n",
       "      <th>1</th>\n",
       "      <td>5.990</td>\n",
       "      <td>0.083403</td>\n",
       "    </tr>\n",
       "    <tr>\n",
       "      <th>2</th>\n",
       "      <td>5.999</td>\n",
       "      <td>0.083340</td>\n",
       "    </tr>\n",
       "    <tr>\n",
       "      <th>3</th>\n",
       "      <td>6.001</td>\n",
       "      <td>0.083326</td>\n",
       "    </tr>\n",
       "    <tr>\n",
       "      <th>4</th>\n",
       "      <td>6.010</td>\n",
       "      <td>0.083264</td>\n",
       "    </tr>\n",
       "    <tr>\n",
       "      <th>5</th>\n",
       "      <td>6.100</td>\n",
       "      <td>0.082645</td>\n",
       "    </tr>\n",
       "  </tbody>\n",
       "</table>\n",
       "</div>"
      ],
      "text/plain": [
       "   tendecia de la x  tendencia de la y\n",
       "0             5.900           0.084034\n",
       "1             5.990           0.083403\n",
       "2             5.999           0.083340\n",
       "3             6.001           0.083326\n",
       "4             6.010           0.083264\n",
       "5             6.100           0.082645"
      ]
     },
     "execution_count": 101,
     "metadata": {},
     "output_type": "execute_result"
    }
   ],
   "source": [
    "diccionario={'tendecia de la x':X, 'tendencia de la y':F}\n",
    "pd.DataFrame(diccionario)"
   ]
  },
  {
   "attachments": {},
   "cell_type": "markdown",
   "metadata": {},
   "source": [
    "### Definiitivamente \n",
    "\n",
    "* A medida que $x$ tiende a 6 por izquierda, $f(x)$ disminuye entre más valores cercanos a 0.083\n",
    "* A medida que $x$ tiende a 6 por derecha, $f(x)$ aumenta entre más valores cercanos a 0.083"
   ]
  },
  {
   "attachments": {},
   "cell_type": "markdown",
   "metadata": {},
   "source": [
    "## Representación gráfica"
   ]
  },
  {
   "cell_type": "code",
   "execution_count": 103,
   "metadata": {},
   "outputs": [
    {
     "data": {
      "image/png": "[encoded data removed]",
      "text/plain": [
       "<Figure size 640x480 with 1 Axes>"
      ]
     },
     "metadata": {},
     "output_type": "display_data"
    }
   ],
   "source": [
    "import matplotlib.pyplot as plt\n",
    "plt.scatter(X,F)\n",
    "plt.grid()"
   ]
  },
  {
   "attachments": {},
   "cell_type": "markdown",
   "metadata": {},
   "source": [
    "# Inferencias o interpretaciones del gráfico\n",
    "\n",
    "* A medida que me acerco a 6 por izquierda, los puntos van descendiendo hacia 0.083. \n",
    "\n",
    "* que a medida que me acerco a 6 por derecha, los puntos van ascendiendo hacia 0.083\n",
    "\n",
    "\n",
    "Por lo tanto, \n",
    "\n",
    "$$ \\lim_{x \\to 6}f(x) = 0.083 $$"
   ]
  },
  {
   "attachments": {},
   "cell_type": "markdown",
   "metadata": {},
   "source": [
    "## Forma analítica "
   ]
  },
  {
   "attachments": {},
   "cell_type": "markdown",
   "metadata": {},
   "source": [
    "$$ \\lim_{x\\to 6} \\frac{x - 6}{x^{2} - 36} $$"
   ]
  },
  {
   "attachments": {},
   "cell_type": "markdown",
   "metadata": {},
   "source": [
    "#### Factorizamos con una diferencia de cuadradros\n",
    "\n",
    "$$ \\lim_{x\\to 6} \\frac{x-6} {(x - 6)(x + 6)}"
   ]
  },
  {
   "attachments": {},
   "cell_type": "markdown",
   "metadata": {},
   "source": [
    "$$ \\lim_{x \\to 6} \\frac{1}{x + 6} $$"
   ]
  },
  {
   "attachments": {},
   "cell_type": "markdown",
   "metadata": {},
   "source": [
    "#### Reemplazamos $x$ por 6\n",
    "\n",
    "$$ \\lim_{x \\to 6} \\frac{1}{6+6}"
   ]
  },
  {
   "attachments": {},
   "cell_type": "markdown",
   "metadata": {},
   "source": [
    "$$ \\lim_{x \\to 6} \\frac{1}{12}"
   ]
  },
  {
   "attachments": {},
   "cell_type": "markdown",
   "metadata": {},
   "source": [
    "$$ \\lim_{x \\to 6} f(x)= 0.083"
   ]
  },
  {
   "attachments": {},
   "cell_type": "markdown",
   "metadata": {},
   "source": [
    "## Inferencia\n",
    "\n",
    "#### El limite cuando $x$ tiende 6 de la función $f(x)$ es igual o se acerca a 0.083"
   ]
  }
 ],
 "metadata": {
  "kernelspec": {
   "display_name": "Python 3",
   "language": "python",
   "name": "python3"
  },
  "language_info": {
   "codemirror_mode": {
    "name": "ipython",
    "version": 3
   },
   "file_extension": ".py",
   "mimetype": "text/x-python",
   "name": "python",
   "nbconvert_exporter": "python",
   "pygments_lexer": "ipython3",
   "version": "3.11.2"
  },
  "orig_nbformat": 4
 },
 "nbformat": 4,
 "nbformat_minor": 2
}
