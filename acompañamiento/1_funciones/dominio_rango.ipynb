{
 "cells": [
  {
   "cell_type": "markdown",
   "id": "5f11adb3",
   "metadata": {
    "slideshow": {
     "slide_type": "slide"
    }
   },
   "source": [
    "<table align=\"left\">\n",
    "  <td>\n",
    "    <a href=\"https://colab.research.google.com/github/marco-canas/calculo_I/blob/main/banco_ejemplos/1_funciones/dominio_rango.ipynb\" target=\"_parent\"><img src=\"https://colab.research.google.com/assets/colab-badge.svg\" alt=\"Open In Colab\"/></a>\n",
    "  </td>\n",
    "  <td>\n",
    "    <a target=\"_blank\" href=\"https://kaggle.com/kernels/welcome?src=https://github.com/marco-canas/calculo_I/blob/main/banco_ejemplos/1_funciones/dominio_rango.ipynb\"><img src=\"https://kaggle.com/static/images/open-in-kaggle.svg\" /></a>\n",
    "  </td>\n",
    "</table>"
   ]
  },
  {
   "cell_type": "markdown",
   "id": "5dc9a27b",
   "metadata": {
    "slideshow": {
     "slide_type": "slide"
    }
   },
   "source": [
    "# Determinación del dominio trazando la proyección del gráfico sobre el eje x"
   ]
  },
  {
   "cell_type": "markdown",
   "id": "50086d16",
   "metadata": {
    "slideshow": {
     "slide_type": "slide"
    }
   },
   "source": [
    "## [Video de apoyo]() "
   ]
  },
  {
   "cell_type": "markdown",
   "id": "8bc85b70",
   "metadata": {
    "slideshow": {
     "slide_type": "slide"
    }
   },
   "source": [
    "Ejercicio 30 de la página 46 de Larson"
   ]
  },
  {
   "cell_type": "code",
   "execution_count": 1,
   "id": "af959eb5",
   "metadata": {
    "scrolled": true,
    "slideshow": {
     "slide_type": "slide"
    }
   },
   "outputs": [
    {
     "data": {
      "application/vnd.jupyter.widget-view+json": {
       "model_id": "bc1db37308cb4104b9abe6b020040b94",
       "version_major": 2,
       "version_minor": 0
      },
      "text/plain": [
       "interactive(children=(FloatSlider(value=-4.0, description='px', max=8.0, min=-4.0), Output()), _dom_classes=('…"
      ]
     },
     "metadata": {},
     "output_type": "display_data"
    }
   ],
   "source": [
    "import numpy as np \n",
    "import matplotlib.pyplot as plt \n",
    "from ipywidgets import interact \n",
    "\n",
    "\n",
    "\n",
    "def f(x):   # función definida a trozos \n",
    "    if x<=5:\n",
    "        f = np.sqrt(x+4)\n",
    "    else:\n",
    "        f = (x-5)**2\n",
    "    return f  \n",
    "\n",
    "X = np.linspace(-4,8, 1000)\n",
    "F = np.array([f(x) for x in X])        \n",
    "        \n",
    "def proySobrex(px = -4):\n",
    "    fig,ax = plt.subplots()\n",
    "    ax.plot(X,F,'b-' )\n",
    "    ax.plot([px],[f(px)],'ro') \n",
    "    ax.plot([px],[0],'ro') \n",
    "    ax.plot([px,px],[f(px),0],'r--') \n",
    "    ax.plot([-4,8], [0,0], 'g-', alpha = 0.6)  # Eje x \n",
    "    ax.plot([0,0], [-2,10], 'g-', alpha = 0.6)  # Eje y\n",
    "    ax.axis([-5,10, -2,10])\n",
    "\n",
    "    \n",
    "interact(proySobrex, px = (-4,8, 0.1))\n",
    "\n",
    "plt.show() "
   ]
  },
  {
   "cell_type": "markdown",
   "id": "2d201edc",
   "metadata": {
    "slideshow": {
     "slide_type": "slide"
    }
   },
   "source": [
    "Y a partir de lo observado, el dominio de esta función es $[-4, +\\infty)$, pues esta función se puede evaluar en cualquier número mayor que 5 pues al reemplazar cualquier número mayor que 5 en la función, obtendrás un número real, ya que al restar cinco y luego elevar al cuadrado, siempre obtendremos un número real al sustituir un número mayor que 5. "
   ]
  },
  {
   "cell_type": "markdown",
   "id": "33c2b3b3",
   "metadata": {
    "slideshow": {
     "slide_type": "slide"
    }
   },
   "source": [
    "# Determinación del Rango trazando la proyección del gráfico sobre el eje y"
   ]
  },
  {
   "cell_type": "code",
   "execution_count": 2,
   "id": "7e3bec7f",
   "metadata": {
    "slideshow": {
     "slide_type": "slide"
    }
   },
   "outputs": [
    {
     "data": {
      "application/vnd.jupyter.widget-view+json": {
       "model_id": "f060364cfc00441ab67fe963c1203538",
       "version_major": 2,
       "version_minor": 0
      },
      "text/plain": [
       "interactive(children=(FloatSlider(value=-4.0, description='px', max=8.0, min=-4.0), Output()), _dom_classes=('…"
      ]
     },
     "metadata": {},
     "output_type": "display_data"
    }
   ],
   "source": [
    "import numpy as np \n",
    "import matplotlib.pyplot as plt \n",
    "from ipywidgets import interact \n",
    "\n",
    "\n",
    "\n",
    "def f(x):\n",
    "    if x<=5:\n",
    "        f = np.sqrt(x+4)\n",
    "    else:\n",
    "        f = (x-5)**2\n",
    "    return f  \n",
    "\n",
    "X = np.linspace(-4,8, 1000)\n",
    "F = np.array([f(x) for x in X])        \n",
    "lista_proy = []  \n",
    "lista_ceros = []\n",
    "\n",
    "def proySobrex(px = -4):\n",
    "    fig,ax = plt.subplots()\n",
    "    ax.plot(X,F,'b-' )\n",
    "    \n",
    "    ax.plot([px],[f(px)],'ro') \n",
    "    ax.plot([0],[f(px)],'ro') \n",
    "    ax.plot([px,0],[f(px),f(px)],'r--', alpha = 0.8) \n",
    "    \n",
    "    lista_proy.append(f(px))\n",
    "    lista_ceros.append(0) \n",
    "    ax.plot(lista_ceros, lista_proy, 'r-', linewidth = 4)\n",
    "    \n",
    "    ax.plot([-4,8], [0,0], 'g-', alpha = 0.6)  # Eje x \n",
    "    ax.plot([0,0], [-2,10], 'g-', alpha = 0.6)  # Eje y\n",
    "    ax.axis([-5,10, -2,10])\n",
    "\n",
    "    \n",
    "interact(proySobrex, px = (-4,8, 0.1))\n",
    "\n",
    "plt.show() "
   ]
  },
  {
   "cell_type": "markdown",
   "id": "a1f56437",
   "metadata": {
    "slideshow": {
     "slide_type": "slide"
    }
   },
   "source": [
    "**Conclusión** El rango de esta función es el intervalo $[0, +\\infty) $"
   ]
  },
  {
   "cell_type": "markdown",
   "id": "9f9fc1a0",
   "metadata": {
    "slideshow": {
     "slide_type": "slide"
    }
   },
   "source": [
    "## Ejemplo 2 de derminación del rango"
   ]
  },
  {
   "cell_type": "markdown",
   "id": "eb6157b4",
   "metadata": {
    "slideshow": {
     "slide_type": "slide"
    }
   },
   "source": [
    "$$g(x) = x^{2} - 5$$"
   ]
  },
  {
   "cell_type": "code",
   "execution_count": 4,
   "id": "aa49274c",
   "metadata": {
    "slideshow": {
     "slide_type": "slide"
    }
   },
   "outputs": [
    {
     "data": {
      "application/vnd.jupyter.widget-view+json": {
       "model_id": "26b536072bf24f4586bb373a0d1e984b",
       "version_major": 2,
       "version_minor": 0
      },
      "text/plain": [
       "interactive(children=(FloatSlider(value=-4.0, description='px', max=8.0, min=-5.0), Output()), _dom_classes=('…"
      ]
     },
     "metadata": {},
     "output_type": "display_data"
    }
   ],
   "source": [
    "import numpy as np \n",
    "import matplotlib.pyplot as plt \n",
    "from ipywidgets import interact \n",
    "\n",
    "\n",
    "\n",
    "def f(x):\n",
    "    f = x**2-5\n",
    "    return f  \n",
    "\n",
    "X = np.linspace(-4,4, 1000)\n",
    "F = np.array([f(x) for x in X])        \n",
    "lista_proy = []  \n",
    "lista_ceros = []\n",
    "\n",
    "def proySobrex(px = -4):\n",
    "    fig,ax = plt.subplots()\n",
    "    ax.plot(X,F,'b-' )\n",
    "    \n",
    "    ax.plot([px],[f(px)],'ro') \n",
    "    ax.plot([0],[f(px)],'ro') \n",
    "    ax.plot([px,0],[f(px),f(px)],'r--', alpha = 0.8) \n",
    "    \n",
    "    lista_proy.append(f(px))\n",
    "    lista_ceros.append(0) \n",
    "    ax.plot(lista_ceros, lista_proy, 'r-', linewidth = 4)\n",
    "    \n",
    "    ax.plot([-4,8], [0,0], 'g-', alpha = 0.6)  # Eje x \n",
    "    ax.plot([0,0], [-2,10], 'g-', alpha = 0.6)  # Eje y\n",
    "    ax.axis([-5,5, -7,10])\n",
    "    ax.grid()\n",
    "\n",
    "    \n",
    "interact(proySobrex, px = (-5,8, 0.1))\n",
    "\n",
    "plt.show() "
   ]
  },
  {
   "cell_type": "code",
   "execution_count": null,
   "id": "3169dfc7",
   "metadata": {},
   "outputs": [],
   "source": []
  },
  {
   "cell_type": "code",
   "execution_count": null,
   "id": "3d9f7ea1",
   "metadata": {},
   "outputs": [],
   "source": []
  },
  {
   "cell_type": "code",
   "execution_count": null,
   "id": "ed045ecb",
   "metadata": {},
   "outputs": [],
   "source": []
  }
 ],
 "metadata": {
  "celltoolbar": "Slideshow",
  "kernelspec": {
   "display_name": "Python 3 (ipykernel)",
   "language": "python",
   "name": "python3"
  },
  "language_info": {
   "codemirror_mode": {
    "name": "ipython",
    "version": 3
   },
   "file_extension": ".py",
   "mimetype": "text/x-python",
   "name": "python",
   "nbconvert_exporter": "python",
   "pygments_lexer": "ipython3",
   "version": "3.9.7"
  },
  "latex_envs": {
   "LaTeX_envs_menu_present": true,
   "autoclose": false,
   "autocomplete": false,
   "bibliofile": "biblio.bib",
   "cite_by": "apalike",
   "current_citInitial": 1,
   "eqLabelWithNumbers": true,
   "eqNumInitial": 1,
   "hotkeys": {
    "equation": "Ctrl-E",
    "itemize": "Ctrl-I"
   },
   "labels_anchors": false,
   "latex_user_defs": false,
   "report_style_numbering": false,
   "user_envs_cfg": false
  }
 },
 "nbformat": 4,
 "nbformat_minor": 5
}
