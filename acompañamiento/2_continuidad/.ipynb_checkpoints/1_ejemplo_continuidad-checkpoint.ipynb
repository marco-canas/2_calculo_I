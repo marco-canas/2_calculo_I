{
 "cells": [
  {
   "cell_type": "markdown",
   "id": "bdd28dbb",
   "metadata": {
    "slideshow": {
     "slide_type": "slide"
    }
   },
   "source": [
    "<table align=\"left\">\n",
    "  <td>\n",
    "    <a href=\"https://colab.research.google.com/github/marco-canas/edo/blob/main/banco_ejemplos/ejer_sec_7_6_boyce/solucion_pvi_sistema_eigenvalores_complejos.ipynb\" target=\"_parent\"><img src=\"https://colab.research.google.com/assets/colab-badge.svg\" alt=\"Open In Colab\"/></a>\n",
    "  </td>\n",
    "  <td>\n",
    "    <a target=\"_blank\" href=\"https://kaggle.com/kernels/welcome?src=https://github.com/marco-canas/edo/blob/main/banco_ejemplos/ejer_sec_7_6_boyce/solucion_pvi_sistema_eigenvalores_complejos.ipynb\"><img src=\"https://kaggle.com/static/images/open-in-kaggle.svg\" /></a>\n",
    "  </td>\n",
    "</table>"
   ]
  },
  {
   "cell_type": "markdown",
   "id": "1253140e",
   "metadata": {
    "slideshow": {
     "slide_type": "slide"
    }
   },
   "source": [
    "# Ejemplo 1 Continuidad"
   ]
  },
  {
   "cell_type": "markdown",
   "id": "206d6be4",
   "metadata": {
    "slideshow": {
     "slide_type": "slide"
    }
   },
   "source": [
    "<img src = 'https://github.com/marco-canas/calculo_I/blob/main/banco_ejemplos/2_continuidad/1_continuidad.PNG?raw=true'> "
   ]
  },
  {
   "cell_type": "markdown",
   "id": "41a33b95",
   "metadata": {
    "slideshow": {
     "slide_type": "slide"
    }
   },
   "source": [
    "El grpafico anterior es el de la función $f(x)$. Selecciones cuál es la única afrimación falsa de las 4 siguientes:\n",
    "\n",
    "A. $Dom(f(x)) = (-\\infty, \\infty)$.  \n",
    "B. $f(2)$ no existe.   \n",
    "C. $f(-2) = -3$.  \n",
    "D. $f(2) = 3$"
   ]
  },
  {
   "cell_type": "markdown",
   "id": "82ed521e",
   "metadata": {
    "slideshow": {
     "slide_type": "slide"
    }
   },
   "source": [
    "La única afirmación falsa es la B. "
   ]
  },
  {
   "cell_type": "markdown",
   "id": "4a7b9ae1",
   "metadata": {
    "slideshow": {
     "slide_type": "slide"
    }
   },
   "source": [
    "## Gráfico animado de $f$"
   ]
  },
  {
   "cell_type": "code",
   "execution_count": 10,
   "id": "5c4ad0be",
   "metadata": {
    "slideshow": {
     "slide_type": "slide"
    }
   },
   "outputs": [
    {
     "data": {
      "application/vnd.jupyter.widget-view+json": {
       "model_id": "7e4ffbc495f94a2086dd06bf38b311fa",
       "version_major": 2,
       "version_minor": 0
      },
      "text/plain": [
       "interactive(children=(FloatSlider(value=-3.0, description='t', max=3.0, min=-3.0), Output()), _dom_classes=('w…"
      ]
     },
     "metadata": {},
     "output_type": "display_data"
    }
   ],
   "source": [
    "import numpy as np\n",
    "import matplotlib.pyplot as plt \n",
    "\n",
    "from ipywidgets import interact \n",
    "\n",
    "%matplotlib inline\n",
    "\n",
    "def f(t):\n",
    "    return t**2\n",
    "x = []\n",
    "y = []\n",
    "\n",
    "def graficar(t = -3):\n",
    "    fig, ax = plt.subplots() \n",
    "    ax.scatter([t],[f(t)], color = 'black') \n",
    "    x.append(t)\n",
    "    y.append(f(t))\n",
    "    ax.plot(x,y)\n",
    "    ax.set(title = 'la función', xlim = (-3,3), ylim = (-1,9)) \n",
    "    ax.grid() \n",
    "    ax.text(t+0.1,f(t), '({:.2f},{:.2f})'.format( t, f(t) ) )\n",
    "    ax.plot([0,0],[0,9], color = 'red') # eje y \n",
    "    ax.plot([-3,3], [0,0], color = 'red') # eje x\n",
    "interact(graficar, t = (-3,3,0.1)) \n",
    "\n",
    "plt.show() \n"
   ]
  },
  {
   "cell_type": "markdown",
   "id": "ee636b38",
   "metadata": {
    "slideshow": {
     "slide_type": "slide"
    }
   },
   "source": [
    "2. Sean $f(x)$, $g(x)$, $h(x)$ funciones tales que , para toda $x$  en un intervalo abierto que contiene a un número a, el  $f(x) = 4$; $g(x) = -12$; $h(x) = 32$ entonces no se puede afirmar que,  \n",
    "\n",
    "A. $h(x) + f(x) = \\frac{11}{2}$     \n",
    "B. $ 2h(x) - f(x) = -1 $ \n",
    "C. $f(x)*3g(x)=6$   \n",
    "D. $g(x)f(x)=- \\frac{1}{8}$ \n",
    "\n"
   ]
  },
  {
   "cell_type": "markdown",
   "id": "9bbc394d",
   "metadata": {
    "slideshow": {
     "slide_type": "slide"
    }
   },
   "source": [
    "**Conclusión:** No se puede afirmar que $f(x)[3g(x)] = 6$, es decir, la afirmación incorrecta es la $C$. "
   ]
  },
  {
   "cell_type": "markdown",
   "id": "17be6db6",
   "metadata": {
    "slideshow": {
     "slide_type": "slide"
    }
   },
   "source": [
    "La justificación de la conclusión: \n",
    "\n",
    "\\begin{align*}\n",
    "f(x)[3g(x)] & = 4 (3)  \\left( -\\frac{1}{2} \\right) \\\\\n",
    "            & =  12\\left( -\\frac{1}{2} \\right) \\\\\n",
    "            & = -\\frac{12}{2} \\\\\n",
    "            & = -6 \n",
    "\\end{align*}\n"
   ]
  },
  {
   "cell_type": "markdown",
   "id": "2da15b70",
   "metadata": {
    "slideshow": {
     "slide_type": "slide"
    }
   },
   "source": [
    "La única falla en la afirmación $C$ es con el signo. "
   ]
  },
  {
   "cell_type": "markdown",
   "id": "59cb0ace",
   "metadata": {
    "slideshow": {
     "slide_type": "slide"
    }
   },
   "source": [
    "# Problema 4"
   ]
  },
  {
   "cell_type": "markdown",
   "id": "bc3bc400",
   "metadata": {
    "slideshow": {
     "slide_type": "slide"
    }
   },
   "source": [
    "(Valor 12) Use la siguiente gráfica de $f(x)$ para encontrar los límites indicados.\n"
   ]
  },
  {
   "cell_type": "markdown",
   "id": "f42e6094",
   "metadata": {
    "slideshow": {
     "slide_type": "slide"
    }
   },
   "source": [
    "<img src = 'https://github.com/marco-canas/calculo_I/blob/main/banco_ejemplos/2_continuidad/2_cintinuidad.PNG?raw=true'> "
   ]
  },
  {
   "cell_type": "code",
   "execution_count": 48,
   "id": "19a127e4",
   "metadata": {
    "slideshow": {
     "slide_type": "slide"
    }
   },
   "outputs": [
    {
     "data": {
      "application/vnd.jupyter.widget-view+json": {
       "model_id": "89527c44632a4c31bc603a8a8e3ed1fe",
       "version_major": 2,
       "version_minor": 0
      },
      "text/plain": [
       "interactive(children=(FloatSlider(value=-1.0, description='t', max=5.0, min=-10.0, step=0.01), Output()), _dom…"
      ]
     },
     "metadata": {},
     "output_type": "display_data"
    },
    {
     "data": {
      "image/png": "[encoded data removed]",
      "text/plain": [
       "<Figure size 432x288 with 1 Axes>"
      ]
     },
     "metadata": {
      "needs_background": "light"
     },
     "output_type": "display_data"
    }
   ],
   "source": [
    "import numpy as np\n",
    "import matplotlib.pyplot as plt \n",
    "\n",
    "from ipywidgets import interact \n",
    "\n",
    "%matplotlib inline\n",
    "\n",
    "def f(t):\n",
    "    if -10<=t<-4:\n",
    "        return 1/(-(t+4)) \n",
    "    elif -4 < t < -2:\n",
    "        return (3/2)*(t-(-2)) + 1      # utilizando y = m(x-x0) + y0\n",
    "    elif -2 < t < 1:\n",
    "        return -(4/3)*(t-(-2)) + 1 # utilizando y = m(x-x0) + y0\n",
    "    elif 1<=t<=5:\n",
    "        return -(t-4)**2 + 8\n",
    "    \n",
    "x = []\n",
    "y = []\n",
    "\n",
    "def graficar(t = -1): \n",
    "    fig, ax = plt.subplots() \n",
    "    ax.scatter([t],[f(t)], color = 'red') \n",
    "    x.append(t)\n",
    "    y.append(f(t))\n",
    "    ax.plot(x,y, color = 'blue')\n",
    "    ax.set(title = 'la función $y = f(x)$', xlim = (-10,5), ylim = (-5,8)) \n",
    "    ax.grid() \n",
    "    ax.text(t,f(t)+0.2, '({:.2f},{:.2f})'.format( t, f(t) ) )\n",
    "    ax.plot([0,0],[-10,8], color = 'red') # eje y \n",
    "    ax.plot([-10,5], [0,0], color = 'red') # eje x\n",
    "    \n",
    "    ax.plot([-4,-4],[-10,8], '--', color = 'black', alpha = 0.6) # trazo de la asíntota vertical\n",
    "\n",
    "interact(graficar, t = (-10,5,0.01)) \n",
    "\n",
    "plt.show() \n"
   ]
  },
  {
   "cell_type": "markdown",
   "id": "0f9486d8",
   "metadata": {
    "slideshow": {
     "slide_type": "slide"
    }
   },
   "source": [
    "1. $\\lim\\limits_{x \\to -4^{-}}f(x) = +\\infty$ \n",
    "2. $\\lim\\limits_{x \\to -4^{+}}f(x) = -2$\n",
    "3. $\\lim\\limits_{x \\to 4} f(x) = $ no existe porque al menos uno de los límites lateras no existe. \n",
    "4. $\\lim\\limits_{x \\to -2^{-}} f(x) = 1$\n",
    "5. $\\lim\\limits_{x \\to -2^{+}} f(x) = 1$\n",
    "6. $\\lim\\limits_{x \\to -2} f(x) = 1$"
   ]
  },
  {
   "cell_type": "markdown",
   "id": "10368c5a",
   "metadata": {
    "slideshow": {
     "slide_type": "slide"
    }
   },
   "source": [
    "Note que \n",
    "* $f(-4)$ no existe. }\n",
    "* $-4$ no pertenece al dominio de la función dada $f$\n",
    "* $-4$ es un número real que no tiene imagen bajo $f$\n",
    "* La función $f$ no está denida en $-4$. "
   ]
  },
  {
   "cell_type": "markdown",
   "id": "51ce8b97",
   "metadata": {
    "slideshow": {
     "slide_type": "slide"
    }
   },
   "source": [
    "## Veamos que el límite en -4 por izquierda de $f$ no existe. "
   ]
  },
  {
   "cell_type": "markdown",
   "id": "eb96bc6f",
   "metadata": {
    "slideshow": {
     "slide_type": "slide"
    }
   },
   "source": [
    "## Veamos que el límite en -2 por izquierda de $f$ es 1. "
   ]
  },
  {
   "cell_type": "code",
   "execution_count": 37,
   "id": "b2232eaa",
   "metadata": {
    "slideshow": {
     "slide_type": "slide"
    }
   },
   "outputs": [
    {
     "data": {
      "text/html": [
       "<div>\n",
       "<style scoped>\n",
       "    .dataframe tbody tr th:only-of-type {\n",
       "        vertical-align: middle;\n",
       "    }\n",
       "\n",
       "    .dataframe tbody tr th {\n",
       "        vertical-align: top;\n",
       "    }\n",
       "\n",
       "    .dataframe thead th {\n",
       "        text-align: right;\n",
       "    }\n",
       "</style>\n",
       "<table border=\"1\" class=\"dataframe\">\n",
       "  <thead>\n",
       "    <tr style=\"text-align: right;\">\n",
       "      <th></th>\n",
       "      <th>t</th>\n",
       "      <th>f(t)</th>\n",
       "    </tr>\n",
       "  </thead>\n",
       "  <tbody>\n",
       "    <tr>\n",
       "      <th>0</th>\n",
       "      <td>-3.000</td>\n",
       "      <td>-0.5000</td>\n",
       "    </tr>\n",
       "    <tr>\n",
       "      <th>1</th>\n",
       "      <td>-2.999</td>\n",
       "      <td>-0.4985</td>\n",
       "    </tr>\n",
       "    <tr>\n",
       "      <th>2</th>\n",
       "      <td>-2.998</td>\n",
       "      <td>-0.4970</td>\n",
       "    </tr>\n",
       "    <tr>\n",
       "      <th>3</th>\n",
       "      <td>-2.997</td>\n",
       "      <td>-0.4955</td>\n",
       "    </tr>\n",
       "    <tr>\n",
       "      <th>4</th>\n",
       "      <td>-2.996</td>\n",
       "      <td>-0.4940</td>\n",
       "    </tr>\n",
       "    <tr>\n",
       "      <th>...</th>\n",
       "      <td>...</td>\n",
       "      <td>...</td>\n",
       "    </tr>\n",
       "    <tr>\n",
       "      <th>995</th>\n",
       "      <td>-2.005</td>\n",
       "      <td>0.9925</td>\n",
       "    </tr>\n",
       "    <tr>\n",
       "      <th>996</th>\n",
       "      <td>-2.004</td>\n",
       "      <td>0.9940</td>\n",
       "    </tr>\n",
       "    <tr>\n",
       "      <th>997</th>\n",
       "      <td>-2.003</td>\n",
       "      <td>0.9955</td>\n",
       "    </tr>\n",
       "    <tr>\n",
       "      <th>998</th>\n",
       "      <td>-2.002</td>\n",
       "      <td>0.9970</td>\n",
       "    </tr>\n",
       "    <tr>\n",
       "      <th>999</th>\n",
       "      <td>-2.001</td>\n",
       "      <td>0.9985</td>\n",
       "    </tr>\n",
       "  </tbody>\n",
       "</table>\n",
       "<p>1000 rows × 2 columns</p>\n",
       "</div>"
      ],
      "text/plain": [
       "         t    f(t)\n",
       "0   -3.000 -0.5000\n",
       "1   -2.999 -0.4985\n",
       "2   -2.998 -0.4970\n",
       "3   -2.997 -0.4955\n",
       "4   -2.996 -0.4940\n",
       "..     ...     ...\n",
       "995 -2.005  0.9925\n",
       "996 -2.004  0.9940\n",
       "997 -2.003  0.9955\n",
       "998 -2.002  0.9970\n",
       "999 -2.001  0.9985\n",
       "\n",
       "[1000 rows x 2 columns]"
      ]
     },
     "execution_count": 37,
     "metadata": {},
     "output_type": "execute_result"
    }
   ],
   "source": [
    "import numpy as np \n",
    "\n",
    "import pandas as pd \n",
    "\n",
    "t = np.arange(-3,-2, 0.001) \n",
    "\n",
    "f = (3/2)*(t-(-2)) + 1 \n",
    "\n",
    "df = pd.DataFrame({'t':t, 'f(t)':f}) \n",
    "df "
   ]
  },
  {
   "cell_type": "markdown",
   "id": "a266eeaa",
   "metadata": {},
   "source": [
    "## Veamos que el límite en -2 por derecha de $f$ también es 1. "
   ]
  },
  {
   "cell_type": "code",
   "execution_count": 46,
   "id": "fead1358",
   "metadata": {},
   "outputs": [
    {
     "data": {
      "text/html": [
       "<div>\n",
       "<style scoped>\n",
       "    .dataframe tbody tr th:only-of-type {\n",
       "        vertical-align: middle;\n",
       "    }\n",
       "\n",
       "    .dataframe tbody tr th {\n",
       "        vertical-align: top;\n",
       "    }\n",
       "\n",
       "    .dataframe thead th {\n",
       "        text-align: right;\n",
       "    }\n",
       "</style>\n",
       "<table border=\"1\" class=\"dataframe\">\n",
       "  <thead>\n",
       "    <tr style=\"text-align: right;\">\n",
       "      <th></th>\n",
       "      <th>t</th>\n",
       "      <th>f(t)</th>\n",
       "    </tr>\n",
       "  </thead>\n",
       "  <tbody>\n",
       "    <tr>\n",
       "      <th>0</th>\n",
       "      <td>-1.999</td>\n",
       "      <td>0.998667</td>\n",
       "    </tr>\n",
       "    <tr>\n",
       "      <th>1</th>\n",
       "      <td>-1.998</td>\n",
       "      <td>0.997333</td>\n",
       "    </tr>\n",
       "    <tr>\n",
       "      <th>2</th>\n",
       "      <td>-1.997</td>\n",
       "      <td>0.996000</td>\n",
       "    </tr>\n",
       "    <tr>\n",
       "      <th>3</th>\n",
       "      <td>-1.996</td>\n",
       "      <td>0.994667</td>\n",
       "    </tr>\n",
       "    <tr>\n",
       "      <th>4</th>\n",
       "      <td>-1.995</td>\n",
       "      <td>0.993333</td>\n",
       "    </tr>\n",
       "    <tr>\n",
       "      <th>...</th>\n",
       "      <td>...</td>\n",
       "      <td>...</td>\n",
       "    </tr>\n",
       "    <tr>\n",
       "      <th>995</th>\n",
       "      <td>-1.004</td>\n",
       "      <td>-0.328000</td>\n",
       "    </tr>\n",
       "    <tr>\n",
       "      <th>996</th>\n",
       "      <td>-1.003</td>\n",
       "      <td>-0.329333</td>\n",
       "    </tr>\n",
       "    <tr>\n",
       "      <th>997</th>\n",
       "      <td>-1.002</td>\n",
       "      <td>-0.330667</td>\n",
       "    </tr>\n",
       "    <tr>\n",
       "      <th>998</th>\n",
       "      <td>-1.001</td>\n",
       "      <td>-0.332000</td>\n",
       "    </tr>\n",
       "    <tr>\n",
       "      <th>999</th>\n",
       "      <td>-1.000</td>\n",
       "      <td>-0.333333</td>\n",
       "    </tr>\n",
       "  </tbody>\n",
       "</table>\n",
       "<p>1000 rows × 2 columns</p>\n",
       "</div>"
      ],
      "text/plain": [
       "         t      f(t)\n",
       "0   -1.999  0.998667\n",
       "1   -1.998  0.997333\n",
       "2   -1.997  0.996000\n",
       "3   -1.996  0.994667\n",
       "4   -1.995  0.993333\n",
       "..     ...       ...\n",
       "995 -1.004 -0.328000\n",
       "996 -1.003 -0.329333\n",
       "997 -1.002 -0.330667\n",
       "998 -1.001 -0.332000\n",
       "999 -1.000 -0.333333\n",
       "\n",
       "[1000 rows x 2 columns]"
      ]
     },
     "execution_count": 46,
     "metadata": {},
     "output_type": "execute_result"
    }
   ],
   "source": [
    "import numpy as np \n",
    "\n",
    "import pandas as pd \n",
    "\n",
    "t = np.arange(-1.999,-1, 0.001) \n",
    "\n",
    "f =-(4/3)*(t-(-2)) + 1\n",
    "\n",
    "df = pd.DataFrame({'t':t, 'f(t)':f}) \n",
    "df "
   ]
  },
  {
   "cell_type": "code",
   "execution_count": null,
   "id": "160d5666",
   "metadata": {},
   "outputs": [],
   "source": []
  },
  {
   "cell_type": "code",
   "execution_count": null,
   "id": "ea5f90dd",
   "metadata": {},
   "outputs": [],
   "source": []
  },
  {
   "cell_type": "markdown",
   "id": "7eb3f54b",
   "metadata": {
    "slideshow": {
     "slide_type": "slide"
    }
   },
   "source": [
    "## Referentes  \n",
    "\n",
    "* https://dolar.wilkinsonpc.com.co/\n",
    "* https://matplotlib.org/stable/api/_as_gen/matplotlib.pyplot.text.html \n"
   ]
  },
  {
   "cell_type": "code",
   "execution_count": 19,
   "id": "9c016f34",
   "metadata": {},
   "outputs": [
    {
     "data": {
      "text/plain": [
       "False"
      ]
     },
     "execution_count": 19,
     "metadata": {},
     "output_type": "execute_result"
    }
   ],
   "source": [
    "-6 < -10"
   ]
  },
  {
   "cell_type": "code",
   "execution_count": null,
   "id": "e586fed0",
   "metadata": {},
   "outputs": [],
   "source": []
  }
 ],
 "metadata": {
  "celltoolbar": "Slideshow",
  "kernelspec": {
   "display_name": "Python 3",
   "language": "python",
   "name": "python3"
  },
  "language_info": {
   "codemirror_mode": {
    "name": "ipython",
    "version": 3
   },
   "file_extension": ".py",
   "mimetype": "text/x-python",
   "name": "python",
   "nbconvert_exporter": "python",
   "pygments_lexer": "ipython3",
   "version": "3.8.8"
  },
  "latex_envs": {
   "LaTeX_envs_menu_present": true,
   "autoclose": false,
   "autocomplete": false,
   "bibliofile": "biblio.bib",
   "cite_by": "apalike",
   "current_citInitial": 1,
   "eqLabelWithNumbers": true,
   "eqNumInitial": 1,
   "hotkeys": {
    "equation": "Ctrl-E",
    "itemize": "Ctrl-I"
   },
   "labels_anchors": false,
   "latex_user_defs": false,
   "report_style_numbering": false,
   "user_envs_cfg": false
  }
 },
 "nbformat": 4,
 "nbformat_minor": 5
}
