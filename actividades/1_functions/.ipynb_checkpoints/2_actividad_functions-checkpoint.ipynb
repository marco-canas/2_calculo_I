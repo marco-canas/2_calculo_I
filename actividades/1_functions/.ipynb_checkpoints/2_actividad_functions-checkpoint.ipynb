{
 "cells": [
  {
   "cell_type": "markdown",
   "id": "76d70d45",
   "metadata": {
    "slideshow": {
     "slide_type": "slide"
    }
   },
   "source": [
    "# Ejercicio sobre evaluación de funciones"
   ]
  },
  {
   "cell_type": "markdown",
   "id": "c427b08f",
   "metadata": {
    "slideshow": {
     "slide_type": "slide"
    }
   },
   "source": [
    "## Planteamiento del problema "
   ]
  },
  {
   "cell_type": "markdown",
   "id": "d587b1e9",
   "metadata": {
    "slideshow": {
     "slide_type": "slide"
    }
   },
   "source": [
    "2. El costo mensual ($y$) de conducir un automóvil depende del número de millas ($x$) que se recorran. Cierta persona encontró que en el mes de mayo recorrer 960 millas le costó 760 dólares y en junio le costó 920 dólares recorrer 1600 millas. Suponiendo que una función lineal provee un modelo adecuado y está representada por la ecuación:\n",
    " $$ y = (1/4)x + 520 $$  \n",
    "\n",
    "El costo de conducir 1000 millas al mes es igual a: "
   ]
  },
  {
   "cell_type": "markdown",
   "id": "b9a056cb",
   "metadata": {
    "slideshow": {
     "slide_type": "slide"
    }
   },
   "source": [
    "## Solución:"
   ]
  },
  {
   "cell_type": "markdown",
   "id": "441aee09",
   "metadata": {
    "slideshow": {
     "slide_type": "slide"
    }
   },
   "source": [
    "\\begin{align*}\n",
    "y & = (1/4)1000 + 520 \\\\\n",
    "  & = 250 + 520 \\\\\n",
    "  & = 770 \n",
    "\\end{align*}\n",
    "\n",
    "Conclusión: recorrer 1000 millas cuesta 770 dólares.  "
   ]
  },
  {
   "cell_type": "code",
   "execution_count": 9,
   "id": "c4eff2fb",
   "metadata": {
    "slideshow": {
     "slide_type": "slide"
    }
   },
   "outputs": [],
   "source": [
    "def y(x):\n",
    "    return (1/4)*x + 520 "
   ]
  },
  {
   "cell_type": "code",
   "execution_count": 6,
   "id": "f3ca1c68",
   "metadata": {
    "slideshow": {
     "slide_type": "slide"
    }
   },
   "outputs": [
    {
     "data": {
      "text/plain": [
       "770.0"
      ]
     },
     "execution_count": 6,
     "metadata": {},
     "output_type": "execute_result"
    }
   ],
   "source": [
    "y(1000) "
   ]
  },
  {
   "cell_type": "markdown",
   "id": "207b9782",
   "metadata": {
    "slideshow": {
     "slide_type": "slide"
    }
   },
   "source": [
    "## Observaciones:\n",
    "1. \n",
    "$$\\frac{1}{4}x = \\frac{x}{4}$$\n",
    "\n",
    "multiplicar por un cuarto es lo mismo que dividir por $4$. "
   ]
  },
  {
   "cell_type": "code",
   "execution_count": 1,
   "id": "2b2201c3",
   "metadata": {
    "slideshow": {
     "slide_type": "slide"
    }
   },
   "outputs": [
    {
     "data": {
      "text/plain": [
       "250.0"
      ]
     },
     "execution_count": 1,
     "metadata": {},
     "output_type": "execute_result"
    }
   ],
   "source": [
    "(1/4)*1000"
   ]
  },
  {
   "cell_type": "code",
   "execution_count": 2,
   "id": "16121fd3",
   "metadata": {
    "slideshow": {
     "slide_type": "slide"
    }
   },
   "outputs": [
    {
     "data": {
      "text/plain": [
       "250.0"
      ]
     },
     "execution_count": 2,
     "metadata": {},
     "output_type": "execute_result"
    }
   ],
   "source": [
    "1000/4"
   ]
  },
  {
   "cell_type": "markdown",
   "id": "851ee32b",
   "metadata": {
    "slideshow": {
     "slide_type": "slide"
    }
   },
   "source": [
    "## Veamos el gráfico de esta función"
   ]
  },
  {
   "cell_type": "code",
   "execution_count": 8,
   "id": "ee930941",
   "metadata": {
    "slideshow": {
     "slide_type": "slide"
    }
   },
   "outputs": [
    {
     "data": {
      "text/plain": [
       "Text(0, 0.5, 'Costo($y$)')"
      ]
     },
     "execution_count": 8,
     "metadata": {},
     "output_type": "execute_result"
    },
    {
     "data": {
      "image/png": "[encoded data removed]",
      "text/plain": [
       "<Figure size 432x288 with 1 Axes>"
      ]
     },
     "metadata": {
      "needs_background": "light"
     },
     "output_type": "display_data"
    }
   ],
   "source": [
    "import numpy as np \n",
    "import matplotlib.pyplot as plt \n",
    "\n",
    "x = np.array([960, 1000, 1600]) \n",
    "y = (1/4)*x + 520\n",
    "\n",
    "plt.plot(x,y) \n",
    "plt.grid()\n",
    "plt.xlabel(r'distancia recorrida en millas($x$)')\n",
    "plt.ylabel(r'Costo($y$)')"
   ]
  },
  {
   "cell_type": "code",
   "execution_count": null,
   "id": "be93ca21",
   "metadata": {
    "slideshow": {
     "slide_type": "slide"
    }
   },
   "outputs": [],
   "source": []
  }
 ],
 "metadata": {
  "celltoolbar": "Slideshow",
  "kernelspec": {
   "display_name": "Python 3",
   "language": "python",
   "name": "python3"
  },
  "language_info": {
   "codemirror_mode": {
    "name": "ipython",
    "version": 3
   },
   "file_extension": ".py",
   "mimetype": "text/x-python",
   "name": "python",
   "nbconvert_exporter": "python",
   "pygments_lexer": "ipython3",
   "version": "3.8.8"
  },
  "latex_envs": {
   "LaTeX_envs_menu_present": true,
   "autoclose": false,
   "autocomplete": false,
   "bibliofile": "biblio.bib",
   "cite_by": "apalike",
   "current_citInitial": 1,
   "eqLabelWithNumbers": true,
   "eqNumInitial": 1,
   "hotkeys": {
    "equation": "Ctrl-E",
    "itemize": "Ctrl-I"
   },
   "labels_anchors": false,
   "latex_user_defs": false,
   "report_style_numbering": false,
   "user_envs_cfg": false
  },
  "rise": {
   "enable_chalkboard": true,
   "theme": "sky",
   "transition": "sky"
  }
 },
 "nbformat": 4,
 "nbformat_minor": 5
}
