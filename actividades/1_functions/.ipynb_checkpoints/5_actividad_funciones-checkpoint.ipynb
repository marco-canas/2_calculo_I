{
 "cells": [
  {
   "cell_type": "markdown",
   "metadata": {
    "id": "_Y9cua4633kY"
   },
   "source": [
    "# Problema sobre una función de costo de elaboración "
   ]
  },
  {
   "cell_type": "markdown",
   "metadata": {
    "id": "IWK6B-Rxg-ka"
   },
   "source": [
    "2. En una fábrica, el costo total de elaborar $𝑞$ unidades durante un día de trabajo es \n",
    "\n",
    "$$ 𝐶(𝑞) = 𝑞^{2} + 4𝑞 + 6000 \\ \\ \\ \\text{dolares}. $$\n",
    "\n",
    "En un día típico de trabajo, durante las primeras 𝑡 horas se \n",
    "fabrican \n",
    "\n",
    "$$ 𝑞(𝑡) = 10𝑡 \\ \\ \\ \\text{unidades}. $$ \n",
    "\n",
    "a) Exprese el costo de fabricación total como una función de $𝑡$.  \n",
    "b) ¿Cuánto se habrá gastado en la producción al final de la cuarta hora?  \n",
    "c) ¿Cuándo llegará el costo total de fabricación a los $4000?"
   ]
  },
  {
   "cell_type": "markdown",
   "metadata": {
    "id": "51jIaCFuiTbz"
   },
   "source": [
    "## Solución:\n",
    "\n",
    "\n"
   ]
  },
  {
   "cell_type": "markdown",
   "metadata": {
    "id": "h3ysoxgyjiNI"
   },
   "source": [
    "$$ C(t) = C(10t ) = (10t)^{2} + 4(10t) + 6000 \\ \\ \\text{dolares} $$"
   ]
  },
  {
   "cell_type": "markdown",
   "metadata": {
    "id": "Esi4aT8Wjpfd"
   },
   "source": [
    "$$C(t) = 100t^{2} + 40t + 6000 \\ \\ \\text{dólares} $$"
   ]
  },
  {
   "cell_type": "markdown",
   "metadata": {
    "id": "FWzVkwG7kJGt"
   },
   "source": [
    "Conclusión, el corto como función del tiempo es:\n",
    "\n",
    "$$C(t) = 100t^{2} + 40t + 6000 \\ \\ \\text{dólares} $$\n",
    "\n"
   ]
  },
  {
   "cell_type": "markdown",
   "metadata": {
    "id": "KWKnYHFzmSsH"
   },
   "source": []
  },
  {
   "cell_type": "markdown",
   "metadata": {
    "id": "4VxdqScvkUDf"
   },
   "source": [
    "b) ¿Cuánto se habrá gastado en la producción al final de la cuarta hora? "
   ]
  },
  {
   "cell_type": "code",
   "execution_count": 2,
   "metadata": {
    "id": "cgYHD1lNko4h"
   },
   "outputs": [],
   "source": [
    "def C(t):\n",
    "  return 100*t**2 + 40*t + 6000 "
   ]
  },
  {
   "cell_type": "code",
   "execution_count": 3,
   "metadata": {
    "colab": {
     "base_uri": "https://localhost:8080/"
    },
    "id": "yF-pOHeMk2dR",
    "outputId": "9e06f7f3-7fd3-4297-91fe-7e0f8be69007"
   },
   "outputs": [
    {
     "data": {
      "text/plain": [
       "7760"
      ]
     },
     "execution_count": 3,
     "metadata": {},
     "output_type": "execute_result"
    }
   ],
   "source": [
    "C(4)"
   ]
  },
  {
   "cell_type": "markdown",
   "metadata": {
    "id": "4IBD9P0ikUGG"
   },
   "source": [
    "c) ¿Cuándo llegará el costo total de fabricación a los $4000?"
   ]
  },
  {
   "cell_type": "markdown",
   "metadata": {
    "id": "gLf-CIqTkUK-"
   },
   "source": [
    "En este caso sustituyto el valor de $C = 4000$ para hallar el valor de $t$"
   ]
  },
  {
   "cell_type": "markdown",
   "metadata": {
    "id": "_CYet3wcmRpB"
   },
   "source": [
    "$$C(t) = 100t^{2} + 40t + 6000 \\ \\ \\text{dólares} $$"
   ]
  },
  {
   "cell_type": "markdown",
   "metadata": {
    "id": "dtJFVmHJmRuX"
   },
   "source": [
    "\n",
    "apliquemos la ley uniforme o principio de la balanza. "
   ]
  },
  {
   "cell_type": "markdown",
   "metadata": {
    "id": "XsUjzCQjnuou"
   },
   "source": [
    "$$ 4000 -4000 = 100t^{2} + 40t + 6000 -4000  $$"
   ]
  },
  {
   "cell_type": "markdown",
   "metadata": {
    "id": "_w1U2jXem2qB"
   },
   "source": [
    "\n",
    "\n",
    "$$ 0 = 100t^{2} + 40t + 6000 - 4000 $$\n"
   ]
  },
  {
   "cell_type": "markdown",
   "metadata": {
    "id": "qz8cTkqIm2tv"
   },
   "source": [
    "$$ 0 = 100t^{2} + 40t + 2000 $$\n"
   ]
  },
  {
   "cell_type": "markdown",
   "metadata": {
    "id": "jDEua9j_pGqj"
   },
   "source": [
    "utilicemos la fórmula general para resolver la ecuación cuadrática anterior:\n",
    "\n",
    "\n",
    "\n",
    "$$ t = \\frac{-b \\pm \\sqrt{b^{2} - 4ac}}{2a} $$\n",
    "\n",
    "donde $a$ es el coeficiente del términos cuadrático, \n",
    "$b$ es el coeficiente del término lineal,\n",
    "$c$ es el término independiente\n",
    "\n",
    "\n"
   ]
  },
  {
   "cell_type": "markdown",
   "metadata": {
    "id": "TUxNLamNp-Gw"
   },
   "source": [
    "$$ t = \\frac{-40 \\pm \\sqrt{40^{2} - 4(100)(2000)}}{2(100)} $$"
   ]
  },
  {
   "cell_type": "code",
   "execution_count": 4,
   "metadata": {
    "colab": {
     "base_uri": "https://localhost:8080/"
    },
    "id": "zlwKv79Yqqph",
    "outputId": "257f3cb5-9cd5-4202-a1ab-c49469fd24af"
   },
   "outputs": [
    {
     "data": {
      "text/plain": [
       "1600"
      ]
     },
     "execution_count": 4,
     "metadata": {},
     "output_type": "execute_result"
    }
   ],
   "source": [
    "40**2"
   ]
  },
  {
   "cell_type": "code",
   "execution_count": 5,
   "metadata": {
    "colab": {
     "base_uri": "https://localhost:8080/"
    },
    "id": "aAJuOAHWqxx-",
    "outputId": "f3c8e7cd-523e-4c25-93ff-ab4d7bba8db1"
   },
   "outputs": [
    {
     "data": {
      "text/plain": [
       "800000"
      ]
     },
     "execution_count": 5,
     "metadata": {},
     "output_type": "execute_result"
    }
   ],
   "source": [
    "4*100*2000"
   ]
  },
  {
   "cell_type": "code",
   "execution_count": 12,
   "metadata": {
    "id": "QITnNINFqZQK"
   },
   "outputs": [],
   "source": [
    "def solu_ecu_cuadratica(a,b,c):\n",
    "  t1 = (-b-np.sqrt(b**2 - 4*a*c))/(2*a)\n",
    "  t2 = (-b+np.sqrt(b**2 - 4*a*c))/(2*a)  \n",
    "  return t1,t2\n"
   ]
  },
  {
   "cell_type": "code",
   "execution_count": 21,
   "metadata": {
    "colab": {
     "base_uri": "https://localhost:8080/"
    },
    "id": "P6Xk3rsMuJ9Q",
    "outputId": "ff330260-8949-4a2b-d9c9-ca101c241f81"
   },
   "outputs": [
    {
     "name": "stderr",
     "output_type": "stream",
     "text": [
      "/usr/local/lib/python3.7/dist-packages/ipykernel_launcher.py:2: RuntimeWarning: invalid value encountered in sqrt\n",
      "  \n",
      "/usr/local/lib/python3.7/dist-packages/ipykernel_launcher.py:3: RuntimeWarning: invalid value encountered in sqrt\n",
      "  This is separate from the ipykernel package so we can avoid doing imports until\n"
     ]
    },
    {
     "data": {
      "text/plain": [
       "(nan, nan)"
      ]
     },
     "execution_count": 21,
     "metadata": {},
     "output_type": "execute_result"
    }
   ],
   "source": [
    "solu_ecu_cuadratica(100,40,2000) "
   ]
  },
  {
   "cell_type": "markdown",
   "metadata": {
    "id": "NdIToPsXvcEm"
   },
   "source": [
    "**Conclusión:**\n",
    "\n",
    "Nunca el costo será de 4000 dólares, ya que al sustuir 4000 en la función $C(t)$, la ecuación cuadrática resultante no tiene solución. "
   ]
  },
  {
   "cell_type": "code",
   "execution_count": 10,
   "metadata": {
    "colab": {
     "base_uri": "https://localhost:8080/",
     "height": 265
    },
    "id": "GPxsq8c_rsGS",
    "outputId": "acc2ebf5-01f8-4bb7-9c34-af76cdb67ea3"
   },
   "outputs": [
    {
     "data": {
      "image/png": "[encoded data removed]",
      "text/plain": [
       "<Figure size 432x288 with 1 Axes>"
      ]
     },
     "metadata": {
      "needs_background": "light"
     },
     "output_type": "display_data"
    }
   ],
   "source": [
    "import numpy as np \n",
    "import matplotlib.pyplot as plt\n",
    "\n",
    "t = np.arange(0, 20, 1)  \n",
    "t \n",
    "\n",
    "C_ = C(t)\n",
    "\n",
    "plt.plot(t,C_) \n",
    "\n",
    "plt.grid()\n",
    "\n"
   ]
  },
  {
   "cell_type": "markdown",
   "metadata": {
    "id": "n1JR8dNHkUN1"
   },
   "source": [
    "# Precedencia de las operaciones  \n",
    "\n",
    "1. signos de agrupación\n",
    "2. potencias\n",
    "3. multiplicaciones\n",
    "4. sumas "
   ]
  },
  {
   "cell_type": "code",
   "execution_count": 22,
   "metadata": {
    "colab": {
     "base_uri": "https://localhost:8080/"
    },
    "id": "W2iKdHaelcEb",
    "outputId": "5631b076-9f43-43a3-b22f-d38eaa8e1ea8"
   },
   "outputs": [
    {
     "data": {
      "text/plain": [
       "0.2"
      ]
     },
     "execution_count": 22,
     "metadata": {},
     "output_type": "execute_result"
    }
   ],
   "source": [
    "1/5"
   ]
  },
  {
   "cell_type": "code",
   "execution_count": null,
   "metadata": {
    "id": "TR2rJjqwxFDs"
   },
   "outputs": [],
   "source": []
  }
 ],
 "metadata": {
  "colab": {
   "name": "actividad_5",
   "provenance": []
  },
  "kernelspec": {
   "display_name": "Python 3",
   "language": "python",
   "name": "python3"
  },
  "language_info": {
   "codemirror_mode": {
    "name": "ipython",
    "version": 3
   },
   "file_extension": ".py",
   "mimetype": "text/x-python",
   "name": "python",
   "nbconvert_exporter": "python",
   "pygments_lexer": "ipython3",
   "version": "3.8.8"
  },
  "latex_envs": {
   "LaTeX_envs_menu_present": true,
   "autoclose": false,
   "autocomplete": false,
   "bibliofile": "biblio.bib",
   "cite_by": "apalike",
   "current_citInitial": 1,
   "eqLabelWithNumbers": true,
   "eqNumInitial": 1,
   "hotkeys": {
    "equation": "Ctrl-E",
    "itemize": "Ctrl-I"
   },
   "labels_anchors": false,
   "latex_user_defs": false,
   "report_style_numbering": false,
   "user_envs_cfg": false
  }
 },
 "nbformat": 4,
 "nbformat_minor": 1
}
