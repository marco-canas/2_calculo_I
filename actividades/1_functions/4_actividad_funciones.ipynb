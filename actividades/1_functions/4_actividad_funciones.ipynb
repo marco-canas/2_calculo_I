{
 "cells": [
  {
   "cell_type": "markdown",
   "id": "9020a6ee",
   "metadata": {},
   "source": [
    "<table align=\"left\">\n",
    "  <td>\n",
    "    <a href=\"https://colab.research.google.com/github/marco-canas/Ecuaciones_Diferenciales/blob/main/asesoria_EDO/ejer_sec_3.1/Ejer_22_sec_3.1_Boyce_DiPrima.ipynb\" target=\"_parent\"><img src=\"https://colab.research.google.com/assets/colab-badge.svg\" alt=\"Open In Colab\"/></a>\n",
    "  </td>\n",
    "  <td>\n",
    "    <a target=\"_blank\" href=\"https://kaggle.com/kernels/welcome?src=https://github.com/marco-canas/Ecuaciones_Diferenciales/blob/main/asesoria_EDO/ejer_sec_3.1/Ejer_22_sec_3.1_Boyce_DiPrima.ipynb\"><img src=\"https://kaggle.com/static/images/open-in-kaggle.svg\" /></a>\n",
    "  </td>\n",
    "</table>"
   ]
  },
  {
   "cell_type": "markdown",
   "id": "161323a7",
   "metadata": {},
   "source": [
    "# Actividad 4 sobre funciones "
   ]
  },
  {
   "cell_type": "markdown",
   "id": "04a5071a",
   "metadata": {},
   "source": [
    "Un estudio ambiental de cierta comunidad suburbana sugiere que el nivel diario \n",
    "promedio de monóxido de carbono en el aire será $𝐶(𝑝) = 0.5𝑝 + 3$ partes por millón cuando la \n",
    "población sea $p$ miles. Se estima que en $𝑡$ años la población de la comunidad será \n",
    "\n",
    "$$ 𝑝(𝑡) = 6 + 0,3𝑡^{2} \\  \\text{miles} $$\n",
    "\n",
    "a) Exprese el nivel de monóxido de carbono en el aire como una función del tiempo.  \n",
    "b) ¿Cuál será el nivel de monóxido de carbono en 4 años, a partir de hoy?  \n",
    "c) ¿Cuándo alcanzará el nivel de monóxido de carbono las 9 partes por millón?  "
   ]
  },
  {
   "cell_type": "markdown",
   "id": "306a5a00",
   "metadata": {},
   "source": [
    "## Solución: "
   ]
  },
  {
   "cell_type": "markdown",
   "id": "b39413b0",
   "metadata": {},
   "source": [
    "$$C(t) = 0.3( 6 + 0.3t^{2} ) + 3$$"
   ]
  },
  {
   "cell_type": "markdown",
   "id": "31b94d50",
   "metadata": {},
   "source": [
    "Conclusón: El nivél de monóxido de carbono como función del tiempo es una función cuadrática, luego su gráfico es una parábola. "
   ]
  },
  {
   "cell_type": "markdown",
   "id": "8bc089b7",
   "metadata": {},
   "source": [
    "## Hagamos la representación gráfica de esta función $C(t)$"
   ]
  },
  {
   "cell_type": "code",
   "execution_count": 10,
   "id": "0bc5fdc5",
   "metadata": {},
   "outputs": [
    {
     "data": {
      "text/plain": [
       "array([1, 2, 3, 4, 5, 6, 7, 8, 9])"
      ]
     },
     "execution_count": 10,
     "metadata": {},
     "output_type": "execute_result"
    }
   ],
   "source": [
    "import numpy as np \n",
    "import matplotlib.pyplot as plt \n",
    "plt.style.use('dark_background') \n",
    "t = np.arange(1,10)\n",
    " \n",
    "t "
   ]
  },
  {
   "cell_type": "code",
   "execution_count": 21,
   "id": "3f8ee736",
   "metadata": {},
   "outputs": [
    {
     "data": {
      "text/plain": [
       "array([ 4.89,  5.16,  5.61,  6.24,  7.05,  8.04,  9.21, 10.56, 12.09])"
      ]
     },
     "execution_count": 21,
     "metadata": {},
     "output_type": "execute_result"
    }
   ],
   "source": [
    "C = 0.3*(6+0.3*t**2)+ 3 \n",
    "C "
   ]
  },
  {
   "cell_type": "code",
   "execution_count": 22,
   "id": "0407a7cb",
   "metadata": {},
   "outputs": [
    {
     "data": {
      "text/html": [
       "<div>\n",
       "<style scoped>\n",
       "    .dataframe tbody tr th:only-of-type {\n",
       "        vertical-align: middle;\n",
       "    }\n",
       "\n",
       "    .dataframe tbody tr th {\n",
       "        vertical-align: top;\n",
       "    }\n",
       "\n",
       "    .dataframe thead th {\n",
       "        text-align: right;\n",
       "    }\n",
       "</style>\n",
       "<table border=\"1\" class=\"dataframe\">\n",
       "  <thead>\n",
       "    <tr style=\"text-align: right;\">\n",
       "      <th></th>\n",
       "      <th>tiempo</th>\n",
       "      <th>nivel monóxido de carbono</th>\n",
       "    </tr>\n",
       "  </thead>\n",
       "  <tbody>\n",
       "    <tr>\n",
       "      <th>0</th>\n",
       "      <td>1</td>\n",
       "      <td>4.89</td>\n",
       "    </tr>\n",
       "    <tr>\n",
       "      <th>1</th>\n",
       "      <td>2</td>\n",
       "      <td>5.16</td>\n",
       "    </tr>\n",
       "    <tr>\n",
       "      <th>2</th>\n",
       "      <td>3</td>\n",
       "      <td>5.61</td>\n",
       "    </tr>\n",
       "    <tr>\n",
       "      <th>3</th>\n",
       "      <td>4</td>\n",
       "      <td>6.24</td>\n",
       "    </tr>\n",
       "    <tr>\n",
       "      <th>4</th>\n",
       "      <td>5</td>\n",
       "      <td>7.05</td>\n",
       "    </tr>\n",
       "    <tr>\n",
       "      <th>5</th>\n",
       "      <td>6</td>\n",
       "      <td>8.04</td>\n",
       "    </tr>\n",
       "    <tr>\n",
       "      <th>6</th>\n",
       "      <td>7</td>\n",
       "      <td>9.21</td>\n",
       "    </tr>\n",
       "    <tr>\n",
       "      <th>7</th>\n",
       "      <td>8</td>\n",
       "      <td>10.56</td>\n",
       "    </tr>\n",
       "    <tr>\n",
       "      <th>8</th>\n",
       "      <td>9</td>\n",
       "      <td>12.09</td>\n",
       "    </tr>\n",
       "  </tbody>\n",
       "</table>\n",
       "</div>"
      ],
      "text/plain": [
       "   tiempo  nivel monóxido de carbono\n",
       "0       1                       4.89\n",
       "1       2                       5.16\n",
       "2       3                       5.61\n",
       "3       4                       6.24\n",
       "4       5                       7.05\n",
       "5       6                       8.04\n",
       "6       7                       9.21\n",
       "7       8                      10.56\n",
       "8       9                      12.09"
      ]
     },
     "execution_count": 22,
     "metadata": {},
     "output_type": "execute_result"
    }
   ],
   "source": [
    "import pandas as pd \n",
    "dic = {'tiempo':t, 'nivel monóxido de carbono':C} \n",
    "df = pd.DataFrame(dic) \n",
    "df "
   ]
  },
  {
   "cell_type": "code",
   "execution_count": 23,
   "id": "4367c811",
   "metadata": {},
   "outputs": [
    {
     "data": {
      "image/png": "[encoded data removed]",
      "text/plain": [
       "<Figure size 432x288 with 1 Axes>"
      ]
     },
     "metadata": {},
     "output_type": "display_data"
    }
   ],
   "source": [
    "plt.plot(t,C) \n",
    "plt.grid(True, alpha = 0.4)  "
   ]
  },
  {
   "cell_type": "code",
   "execution_count": 12,
   "id": "7852e3fb",
   "metadata": {},
   "outputs": [],
   "source": [
    "def C(t):\n",
    "    return 0.3*(6+0.3*t**2)+ 3 "
   ]
  },
  {
   "cell_type": "code",
   "execution_count": 13,
   "id": "35e9d05e",
   "metadata": {},
   "outputs": [
    {
     "data": {
      "text/plain": [
       "6.24"
      ]
     },
     "execution_count": 13,
     "metadata": {},
     "output_type": "execute_result"
    }
   ],
   "source": [
    "C(4) "
   ]
  },
  {
   "cell_type": "markdown",
   "id": "93ee6156",
   "metadata": {},
   "source": [
    "**Conclusión**: Al término de 4 años, el nivel de nonóxido de carbono será de 6.24 partes por millón "
   ]
  },
  {
   "cell_type": "markdown",
   "id": "bd252982",
   "metadata": {},
   "source": [
    "## Tercera pregunta "
   ]
  },
  {
   "cell_type": "markdown",
   "id": "cb2013f7",
   "metadata": {},
   "source": [
    "c) ¿Cuándo alcanzará el nivel de monóxido de carbono las 9 partes por millón?  "
   ]
  },
  {
   "cell_type": "markdown",
   "id": "b3dfd6c1",
   "metadata": {},
   "source": [
    "### Solución: "
   ]
  },
  {
   "cell_type": "markdown",
   "id": "fc110032",
   "metadata": {},
   "source": [
    "$$C(t) = 0.3( 6 + 0.3t^{2} ) + 3$$"
   ]
  },
  {
   "cell_type": "markdown",
   "id": "f9ac056f",
   "metadata": {},
   "source": [
    "$$9 = 0.3( 6 + 0.3t^{2} ) + 3$$"
   ]
  },
  {
   "cell_type": "markdown",
   "id": "b60d9037",
   "metadata": {},
   "source": [
    "$$9-3 = 0.3( 6 + 0.3t^{2} ) $$"
   ]
  },
  {
   "cell_type": "markdown",
   "id": "8b7a2151",
   "metadata": {},
   "source": [
    "$$\\frac{9-3}{0.3} = ( 6 + 0.3t^{2} ) $$"
   ]
  },
  {
   "cell_type": "markdown",
   "id": "0e0b2823",
   "metadata": {},
   "source": [
    "$$\\frac{9-3}{0.3} - 6 =  0.3t^{2} $$"
   ]
  },
  {
   "cell_type": "code",
   "execution_count": 25,
   "id": "d7ed44f0",
   "metadata": {},
   "outputs": [
    {
     "data": {
      "text/plain": [
       "14.0"
      ]
     },
     "execution_count": 25,
     "metadata": {},
     "output_type": "execute_result"
    }
   ],
   "source": [
    "(9-3)/0.3 - 6 "
   ]
  },
  {
   "cell_type": "markdown",
   "id": "14c3f195",
   "metadata": {},
   "source": [
    "$$ 14 = 0.3t^{2} $$"
   ]
  },
  {
   "cell_type": "markdown",
   "id": "0321328c",
   "metadata": {},
   "source": [
    "$$  \\frac{14}{0.3} = t^{2} $$"
   ]
  },
  {
   "cell_type": "code",
   "execution_count": 26,
   "id": "6c8c09ac",
   "metadata": {},
   "outputs": [
    {
     "data": {
      "text/plain": [
       "46.66666666666667"
      ]
     },
     "execution_count": 26,
     "metadata": {},
     "output_type": "execute_result"
    }
   ],
   "source": [
    "14/0.3"
   ]
  },
  {
   "cell_type": "markdown",
   "id": "19e8bfbf",
   "metadata": {},
   "source": [
    "$$ 46.667 = t^{2} $$"
   ]
  },
  {
   "cell_type": "markdown",
   "id": "711ed109",
   "metadata": {},
   "source": [
    "$$ \\sqrt{46.667} = t$$"
   ]
  },
  {
   "cell_type": "code",
   "execution_count": 27,
   "id": "84a0b3f7",
   "metadata": {},
   "outputs": [
    {
     "data": {
      "text/plain": [
       "6.831300510639732"
      ]
     },
     "execution_count": 27,
     "metadata": {},
     "output_type": "execute_result"
    }
   ],
   "source": [
    "import math as m \n",
    "m.sqrt(46.666666666666666)"
   ]
  },
  {
   "cell_type": "markdown",
   "id": "10b5f9a1",
   "metadata": {},
   "source": [
    "$$ t \\approx  6.83 $$ "
   ]
  },
  {
   "cell_type": "markdown",
   "id": "4fbc5bca",
   "metadata": {},
   "source": [
    "## Concepto clave \n",
    "* Transposición de términos "
   ]
  },
  {
   "cell_type": "code",
   "execution_count": null,
   "id": "7e5368a3",
   "metadata": {},
   "outputs": [],
   "source": []
  }
 ],
 "metadata": {
  "kernelspec": {
   "display_name": "Python 3",
   "language": "python",
   "name": "python3"
  },
  "language_info": {
   "codemirror_mode": {
    "name": "ipython",
    "version": 3
   },
   "file_extension": ".py",
   "mimetype": "text/x-python",
   "name": "python",
   "nbconvert_exporter": "python",
   "pygments_lexer": "ipython3",
   "version": "3.8.8"
  },
  "latex_envs": {
   "LaTeX_envs_menu_present": true,
   "autoclose": false,
   "autocomplete": false,
   "bibliofile": "biblio.bib",
   "cite_by": "apalike",
   "current_citInitial": 1,
   "eqLabelWithNumbers": true,
   "eqNumInitial": 1,
   "hotkeys": {
    "equation": "Ctrl-E",
    "itemize": "Ctrl-I"
   },
   "labels_anchors": false,
   "latex_user_defs": false,
   "report_style_numbering": false,
   "user_envs_cfg": false
  }
 },
 "nbformat": 4,
 "nbformat_minor": 5
}
