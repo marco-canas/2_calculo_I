{
 "cells": [
  {
   "cell_type": "markdown",
   "id": "b2bdbeef",
   "metadata": {},
   "source": [
    "# Actividad 6 de funciones "
   ]
  },
  {
   "cell_type": "markdown",
   "id": "fea41986",
   "metadata": {},
   "source": [
    "## Determinar intersecciones con los coordenados y dominio y rango a partir del gráfico de la función"
   ]
  },
  {
   "cell_type": "markdown",
   "id": "9dde93c2",
   "metadata": {},
   "source": [
    "## [Video de apoyo]() "
   ]
  },
  {
   "cell_type": "markdown",
   "id": "acea991d",
   "metadata": {},
   "source": [
    "## Gráfico 1 "
   ]
  },
  {
   "cell_type": "code",
   "execution_count": 8,
   "id": "8423ff05",
   "metadata": {},
   "outputs": [
    {
     "data": {
      "image/png": "[encoded data removed]",
      "text/plain": [
       "<Figure size 432x288 with 1 Axes>"
      ]
     },
     "metadata": {
      "needs_background": "light"
     },
     "output_type": "display_data"
    }
   ],
   "source": [
    "import matplotlib.pyplot as plt \n",
    "\n",
    "plt.plot([0,50],[350, 3000], color = 'purple') \n",
    "\n",
    "plt.scatter([0,50],[350, 3000], color = 'red') \n",
    "\n",
    "plt.plot([0,50],[350, 350],'--', color = 'black', alpha = 0.6 )   \n",
    "plt.plot([50,50],[350, 3000],'--', color = 'red', alpha = 0.6 )   \n",
    "\n",
    "plt.grid() \n"
   ]
  },
  {
   "cell_type": "markdown",
   "id": "dcfbeb35",
   "metadata": {},
   "source": [
    "El dominio de la función representada en el gráfico es $[0,\\infty]$"
   ]
  },
  {
   "cell_type": "markdown",
   "id": "0acee68e",
   "metadata": {},
   "source": [
    "El rango de la función representada en el gráfico es $[350,\\infty]$"
   ]
  },
  {
   "cell_type": "markdown",
   "id": "0d90ca05",
   "metadata": {},
   "source": [
    "El intersecto de esta semirecta con el eje $y$ es $350$. "
   ]
  },
  {
   "cell_type": "code",
   "execution_count": null,
   "id": "56050abf",
   "metadata": {},
   "outputs": [],
   "source": []
  },
  {
   "cell_type": "code",
   "execution_count": null,
   "id": "0bbfcb6f",
   "metadata": {},
   "outputs": [],
   "source": []
  },
  {
   "cell_type": "code",
   "execution_count": null,
   "id": "6cf0cf76",
   "metadata": {},
   "outputs": [],
   "source": []
  },
  {
   "cell_type": "markdown",
   "id": "95687ec9",
   "metadata": {},
   "source": [
    "## Referencias "
   ]
  },
  {
   "cell_type": "markdown",
   "id": "d15e9dea",
   "metadata": {},
   "source": [
    "Calculo de Larson"
   ]
  },
  {
   "cell_type": "code",
   "execution_count": null,
   "id": "28fac929",
   "metadata": {},
   "outputs": [],
   "source": []
  }
 ],
 "metadata": {
  "kernelspec": {
   "display_name": "Python 3",
   "language": "python",
   "name": "python3"
  },
  "language_info": {
   "codemirror_mode": {
    "name": "ipython",
    "version": 3
   },
   "file_extension": ".py",
   "mimetype": "text/x-python",
   "name": "python",
   "nbconvert_exporter": "python",
   "pygments_lexer": "ipython3",
   "version": "3.8.8"
  },
  "latex_envs": {
   "LaTeX_envs_menu_present": true,
   "autoclose": false,
   "autocomplete": false,
   "bibliofile": "biblio.bib",
   "cite_by": "apalike",
   "current_citInitial": 1,
   "eqLabelWithNumbers": true,
   "eqNumInitial": 1,
   "hotkeys": {
    "equation": "Ctrl-E",
    "itemize": "Ctrl-I"
   },
   "labels_anchors": false,
   "latex_user_defs": false,
   "report_style_numbering": false,
   "user_envs_cfg": false
  }
 },
 "nbformat": 4,
 "nbformat_minor": 5
}
