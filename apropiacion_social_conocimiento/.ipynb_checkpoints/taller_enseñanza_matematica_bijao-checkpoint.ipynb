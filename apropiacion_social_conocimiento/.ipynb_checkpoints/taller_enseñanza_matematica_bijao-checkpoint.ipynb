{
 "cells": [
  {
   "cell_type": "markdown",
   "id": "530153f9",
   "metadata": {
    "slideshow": {
     "slide_type": "slide"
    }
   },
   "source": [
    "<table align=\"left\">\n",
    "  <td>\n",
    "    <a href=\"https://colab.research.google.com/github/marco-canas/2_calculo_I/blob/main/apropiacion_social_conocimiento/taller_ense%C3%B1anza_matematica_bijao.ipynb\" target=\"_parent\"><img src=\"https://colab.research.google.com/assets/colab-badge.svg\" alt=\"Open In Colab\"/></a>\n",
    "  </td>\n",
    "</table>"
   ]
  },
  {
   "cell_type": "markdown",
   "id": "4f00c380",
   "metadata": {
    "slideshow": {
     "slide_type": "slide"
    }
   },
   "source": [
    "# Apropiación social del conocimiento \n",
    "\n",
    "Taller de didáctica de la matemática con el modelo pedagógico de Aula invertida"
   ]
  },
  {
   "cell_type": "markdown",
   "id": "e44b0604",
   "metadata": {
    "slideshow": {
     "slide_type": "subslide"
    }
   },
   "source": [
    "## Agenda  \n",
    "\n",
    "1. Planteamiento del problema de utilizar el cálculo para las ciencias.\n",
    "\n",
    "A veces no podemos saber el valor de una función en un punto, pero podemos deducirlo haciendo una análisis de tendencias. \n",
    "\n",
    "¿Cómo es posible que no se introduzca el tema de límites de funciones a través de situaciones problemáticas que muestren la relevancia de este concepto para la aplicación en las ciencias físicas y agropecuarias?\n",
    "\n",
    "[LAS SITUACIONES PROBLEMA COMO ESTRATEGIA PARA LA CONCEPTUALIZACION MATEMÁTICA](https://udeaeduco-my.sharepoint.com/:b:/g/personal/marco_canas_udea_edu_co/EQyfu2tsEa1PiaSa1WOp-ggBFdDHokZWVj3DAiMsTigySg?e=GGLVZE)\n",
    "\n",
    "2. Recomendaciones de la Unesco para la ciencia abierta: Reducir las brechas digitales. \n",
    "3. Aprendizaje invertido  \n",
    "4. Python, GitHub, Cuadernos Jupyter, YouTube, drive de Google, Google Colab. "
   ]
  },
  {
   "cell_type": "markdown",
   "id": "7fb31eab",
   "metadata": {
    "slideshow": {
     "slide_type": "slide"
    }
   },
   "source": [
    "# Enseñanza desde una situación problemática como actividad de aula en el modelo de Aprendizaje invertido"
   ]
  },
  {
   "cell_type": "markdown",
   "id": "626ec59c",
   "metadata": {
    "slideshow": {
     "slide_type": "slide"
    }
   },
   "source": [
    " # 75. Medio ambiente   \n",
    " \n",
    " Una central térmica quema carbón para generar energía eléctrica. El costo $C$, en dólares, de eliminar $p\\%$ de las sustancias contaminantes del aire en sus emisiones de humo es  \n",
    "\n",
    "$$ C = \\frac{80\\ 000p}{100 - p} \\ \\ \\ \\quad 0 \\leq p < 100 $$\n",
    "\n",
    "Calcular cuánto cuesta eliminar \n",
    "\n",
    "a) $15\\%$,   \n",
    "b) $50\\%$ y  \n",
    "c) $90\\%$ de los contaminantes.   \n",
    "\n",
    "d) Encontrar el límite de $C$ cuando $p \\to 100^{-}$.\n",
    "\n",
    "Página 111 del PDF de Cálculo de [Larson]()"
   ]
  },
  {
   "cell_type": "code",
   "execution_count": 1,
   "id": "462ec263",
   "metadata": {
    "slideshow": {
     "slide_type": "slide"
    }
   },
   "outputs": [],
   "source": [
    "from calculo_limite_tabular_grafico import tabla_izquierda,\\\n",
    "tabla_derecha, \\\n",
    "grafica_funcion_en_una_vecindad"
   ]
  },
  {
   "cell_type": "code",
   "execution_count": 2,
   "id": "25e27ae0",
   "metadata": {
    "slideshow": {
     "slide_type": "slide"
    }
   },
   "outputs": [],
   "source": [
    "def C(p):\n",
    "    return (80_000*p)/(100 - p)"
   ]
  },
  {
   "cell_type": "markdown",
   "id": "b10316f2",
   "metadata": {
    "slideshow": {
     "slide_type": "slide"
    }
   },
   "source": [
    "### Respuesta al item a"
   ]
  },
  {
   "cell_type": "code",
   "execution_count": 3,
   "id": "df73b232",
   "metadata": {
    "slideshow": {
     "slide_type": "slide"
    }
   },
   "outputs": [
    {
     "data": {
      "text/plain": [
       "14117.64705882353"
      ]
     },
     "execution_count": 3,
     "metadata": {},
     "output_type": "execute_result"
    }
   ],
   "source": [
    "C(15)"
   ]
  },
  {
   "cell_type": "markdown",
   "id": "eac878f3",
   "metadata": {
    "slideshow": {
     "slide_type": "slide"
    }
   },
   "source": [
    "### Respuesta al item b"
   ]
  },
  {
   "cell_type": "code",
   "execution_count": 4,
   "id": "8d70c9b5",
   "metadata": {
    "slideshow": {
     "slide_type": "slide"
    }
   },
   "outputs": [
    {
     "data": {
      "text/plain": [
       "80000.0"
      ]
     },
     "execution_count": 4,
     "metadata": {},
     "output_type": "execute_result"
    }
   ],
   "source": [
    "C(50)"
   ]
  },
  {
   "cell_type": "markdown",
   "id": "86394bc7",
   "metadata": {
    "slideshow": {
     "slide_type": "slide"
    }
   },
   "source": [
    "### Respuesta al item c"
   ]
  },
  {
   "cell_type": "code",
   "execution_count": 5,
   "id": "68185060",
   "metadata": {
    "slideshow": {
     "slide_type": "slide"
    }
   },
   "outputs": [
    {
     "data": {
      "text/plain": [
       "720000.0"
      ]
     },
     "execution_count": 5,
     "metadata": {},
     "output_type": "execute_result"
    }
   ],
   "source": [
    "C(90)"
   ]
  },
  {
   "cell_type": "code",
   "execution_count": 6,
   "id": "c53cc7e1",
   "metadata": {
    "slideshow": {
     "slide_type": "slide"
    }
   },
   "outputs": [
    {
     "data": {
      "text/html": [
       "<div>\n",
       "<style scoped>\n",
       "    .dataframe tbody tr th:only-of-type {\n",
       "        vertical-align: middle;\n",
       "    }\n",
       "\n",
       "    .dataframe tbody tr th {\n",
       "        vertical-align: top;\n",
       "    }\n",
       "\n",
       "    .dataframe thead th {\n",
       "        text-align: right;\n",
       "    }\n",
       "</style>\n",
       "<table border=\"1\" class=\"dataframe\">\n",
       "  <thead>\n",
       "    <tr style=\"text-align: right;\">\n",
       "      <th></th>\n",
       "      <th>x</th>\n",
       "      <th>y</th>\n",
       "    </tr>\n",
       "  </thead>\n",
       "  <tbody>\n",
       "    <tr>\n",
       "      <th>0</th>\n",
       "      <td>99.000</td>\n",
       "      <td>7.920000e+06</td>\n",
       "    </tr>\n",
       "    <tr>\n",
       "      <th>1</th>\n",
       "      <td>99.111</td>\n",
       "      <td>8.918875e+06</td>\n",
       "    </tr>\n",
       "    <tr>\n",
       "      <th>2</th>\n",
       "      <td>99.222</td>\n",
       "      <td>1.020278e+07</td>\n",
       "    </tr>\n",
       "    <tr>\n",
       "      <th>3</th>\n",
       "      <td>99.333</td>\n",
       "      <td>1.191400e+07</td>\n",
       "    </tr>\n",
       "    <tr>\n",
       "      <th>4</th>\n",
       "      <td>99.444</td>\n",
       "      <td>1.430849e+07</td>\n",
       "    </tr>\n",
       "    <tr>\n",
       "      <th>5</th>\n",
       "      <td>99.555</td>\n",
       "      <td>1.789753e+07</td>\n",
       "    </tr>\n",
       "    <tr>\n",
       "      <th>6</th>\n",
       "      <td>99.666</td>\n",
       "      <td>2.387210e+07</td>\n",
       "    </tr>\n",
       "    <tr>\n",
       "      <th>7</th>\n",
       "      <td>99.777</td>\n",
       "      <td>3.579444e+07</td>\n",
       "    </tr>\n",
       "    <tr>\n",
       "      <th>8</th>\n",
       "      <td>99.888</td>\n",
       "      <td>7.134857e+07</td>\n",
       "    </tr>\n",
       "    <tr>\n",
       "      <th>9</th>\n",
       "      <td>99.999</td>\n",
       "      <td>7.999920e+09</td>\n",
       "    </tr>\n",
       "  </tbody>\n",
       "</table>\n",
       "</div>"
      ],
      "text/plain": [
       "        x             y\n",
       "0  99.000  7.920000e+06\n",
       "1  99.111  8.918875e+06\n",
       "2  99.222  1.020278e+07\n",
       "3  99.333  1.191400e+07\n",
       "4  99.444  1.430849e+07\n",
       "5  99.555  1.789753e+07\n",
       "6  99.666  2.387210e+07\n",
       "7  99.777  3.579444e+07\n",
       "8  99.888  7.134857e+07\n",
       "9  99.999  7.999920e+09"
      ]
     },
     "execution_count": 6,
     "metadata": {},
     "output_type": "execute_result"
    }
   ],
   "source": [
    "tabla_izquierda(C, c = 100)"
   ]
  },
  {
   "cell_type": "markdown",
   "id": "e51a250f",
   "metadata": {
    "slideshow": {
     "slide_type": "slide"
    }
   },
   "source": [
    "### Conclusión de la lectura de la tabla de aproximación por izquierda\n",
    "\n",
    "* $$ \\lim_{p \\to 100^{-}} C(p) = +\\infty $$\n",
    "\n",
    "es decir, a medida que el porcentaje de eliminar las sustancias contaminantes se acerque a 100, el costo tiende a ser arbitrariamente grande, tan grande como se quiera. "
   ]
  },
  {
   "cell_type": "markdown",
   "id": "df2a9aca",
   "metadata": {
    "slideshow": {
     "slide_type": "slide"
    }
   },
   "source": [
    "# Gráfico de la función de costo"
   ]
  },
  {
   "cell_type": "code",
   "execution_count": 7,
   "id": "a9bae064",
   "metadata": {
    "slideshow": {
     "slide_type": "slide"
    }
   },
   "outputs": [
    {
     "data": {
      "image/png": "[encoded data removed]",
      "text/plain": [
       "<Figure size 640x480 with 1 Axes>"
      ]
     },
     "metadata": {},
     "output_type": "display_data"
    }
   ],
   "source": [
    "\n",
    "grafica_funcion_en_una_vecindad(C, dominio = [10, 99])"
   ]
  },
  {
   "cell_type": "markdown",
   "id": "930240ba",
   "metadata": {
    "slideshow": {
     "slide_type": "slide"
    }
   },
   "source": [
    "# Una aplicación a la apasionante astronomía"
   ]
  },
  {
   "cell_type": "markdown",
   "id": "4f2e00f5",
   "metadata": {
    "slideshow": {
     "slide_type": "slide"
    }
   },
   "source": [
    "12. Para que un cohete escape del campo gravitacional de la Tierra, se debe lanzar con una velocidad inicial denominada velocidad de escape. Un cohete lanzado desde la superficie de la Tierra \n",
    "tiene una velocidad v (en millas por segundo) dada por:\n",
    "\n",
    "$$ v = \\sqrt{\\frac{2GM}{r} + v_{0}^{2} - \\frac{2GM}{r}  } \\approx \\sqrt{\\frac{2GM}{r} + v_{0}^{2} - 48  } $$\n",
    "\n",
    "donde $v_{0}$ es la velocidad inicial, $r$ es la distancia entre el cohete y el centro de la Tierra, $G$ es la constante gravitacional, $M$ es la masa de la Tierra y $R$ es el radio de la Tierra ($4\\ 000$ millas, aproximadamente).    \n",
    "\n",
    "\n",
    "a) Encontrar el valor de $v_{0}$ para el que se obtiene un límite infinito para $r$ cuando $v$ tiende a cero. Este valor de $v_{0}$ es la velocidad de escape para la Tierra.  \n",
    " \n",
    "b) Un cohete lanzado desde la superficie de la Luna se traslada \n",
    "con una velocidad v (en millas por segundo) dada por  \n",
    "\n",
    "$$ v = \\sqrt{ \\frac{1\\ 920}{r} + v_{0}^{2} - 2.27 } $$\n",
    "\n",
    "Encontrar la velocidad de escape para la Luna.  \n",
    "\n",
    "c) Un cohete lanzado desde la superficie de un planeta se traslada con una velocidad $v$ (en millas por segundo) dada por  \n",
    "\n",
    "$$ v = \\sqrt{ \\frac{10\\ 600}{r} + v_{0}^{2} - 6.99}  $$\n",
    "\n",
    "Encontrar la velocidad de escape de este planeta. ¿Es la masa de este planeta mayor o menor que la de la Tierra?   (Suponer que la densidad media de este planeta es igual a la de la Tierra.)\n",
    "\n",
    "Página 113 del PDF de cálculo de Larson. "
   ]
  },
  {
   "cell_type": "markdown",
   "id": "5975205d",
   "metadata": {
    "slideshow": {
     "slide_type": "slide"
    }
   },
   "source": [
    "# Solución del item a) "
   ]
  },
  {
   "cell_type": "markdown",
   "id": "3036eee2",
   "metadata": {
    "slideshow": {
     "slide_type": "slide"
    }
   },
   "source": [
    "$$ v \\approx \\sqrt{ \\frac{2GM}{r} + v_{0}^{2} - 48  } $$"
   ]
  },
  {
   "cell_type": "markdown",
   "id": "f9fb9c03",
   "metadata": {
    "slideshow": {
     "slide_type": "slide"
    }
   },
   "source": [
    "$$ v^{2} \\approx \\frac{2GM}{r} + v_{0}^{2} - 48  $$"
   ]
  },
  {
   "cell_type": "code",
   "execution_count": null,
   "id": "496cba87",
   "metadata": {
    "slideshow": {
     "slide_type": "slide"
    }
   },
   "outputs": [],
   "source": []
  },
  {
   "cell_type": "code",
   "execution_count": null,
   "id": "95bd989a",
   "metadata": {
    "slideshow": {
     "slide_type": "slide"
    }
   },
   "outputs": [],
   "source": []
  },
  {
   "cell_type": "code",
   "execution_count": null,
   "id": "9d9557b1",
   "metadata": {
    "slideshow": {
     "slide_type": "slide"
    }
   },
   "outputs": [],
   "source": []
  },
  {
   "cell_type": "code",
   "execution_count": null,
   "id": "a921a4de",
   "metadata": {
    "slideshow": {
     "slide_type": "slide"
    }
   },
   "outputs": [],
   "source": []
  },
  {
   "cell_type": "markdown",
   "id": "cd1999e1",
   "metadata": {
    "slideshow": {
     "slide_type": "slide"
    }
   },
   "source": [
    "## Referentes \n",
    "\n",
    "* [UNESCO. Recomendación sobre la ciencia abierta](https://www.unesco.org/es/legal-affairs/recommendation-open-science)\n"
   ]
  },
  {
   "cell_type": "markdown",
   "id": "8c06821a",
   "metadata": {
    "slideshow": {
     "slide_type": "slide"
    }
   },
   "source": [
    "## [Evaluación al taller acompañado por el profesor Marco]()"
   ]
  }
 ],
 "metadata": {
  "celltoolbar": "Slideshow",
  "kernelspec": {
   "display_name": "Python 3 (ipykernel)",
   "language": "python",
   "name": "python3"
  },
  "language_info": {
   "codemirror_mode": {
    "name": "ipython",
    "version": 3
   },
   "file_extension": ".py",
   "mimetype": "text/x-python",
   "name": "python",
   "nbconvert_exporter": "python",
   "pygments_lexer": "ipython3",
   "version": "3.9.13"
  },
  "rise": {
   "enable_chalkboard": true,
   "theme": "sky",
   "transition": "sky"
  }
 },
 "nbformat": 4,
 "nbformat_minor": 5
}
