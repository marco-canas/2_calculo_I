{
 "cells": [
  {
   "cell_type": "markdown",
   "id": "838cafcb",
   "metadata": {
    "slideshow": {
     "slide_type": "slide"
    }
   },
   "source": [
    "<table align=\"left\">\n",
    "  <td>\n",
    "    <a href=\"https://colab.research.google.com/github/marco-canas/2_calculo_I/blob/main/apropiacion_social_conocimiento/taller_ense%C3%B1anza_matematica_bijao.ipynb\" target=\"_parent\"><img src=\"https://colab.research.google.com/assets/colab-badge.svg\" alt=\"Open In Colab\"/></a>\n",
    "  </td>\n",
    "</table>"
   ]
  },
  {
   "cell_type": "markdown",
   "id": "4f00c380",
   "metadata": {
    "slideshow": {
     "slide_type": "slide"
    }
   },
   "source": [
    "# Apropiación social del conocimiento \n",
    "\n",
    "Taller de didáctica de la matemática con el modelo pedagógico de Aula invertida"
   ]
  },
  {
   "cell_type": "markdown",
   "id": "e44b0604",
   "metadata": {
    "slideshow": {
     "slide_type": "subslide"
    }
   },
   "source": [
    "## Agenda  \n",
    "\n",
    "1. Planteamiento del problema de utilizar el cálculo para las ciencias.\n",
    "\n",
    "A veces no podemos saber el valor de una función en un punto, pero podemos deducirlo haciendo una análisis de tendencias. \n",
    "\n",
    "¿Cómo es posible que no se introduzca el tema de límites de funciones a través de situaciones problemáticas que muestren la relevancia de este concepto para la aplicación en las ciencias físicas y agropecuarias?\n",
    "\n",
    "[LAS SITUACIONES PROBLEMA COMO ESTRATEGIA PARA LA CONCEPTUALIZACION MATEMÁTICA](https://udeaeduco-my.sharepoint.com/:b:/g/personal/marco_canas_udea_edu_co/EQyfu2tsEa1PiaSa1WOp-ggBFdDHokZWVj3DAiMsTigySg?e=GGLVZE)\n",
    "\n",
    "2. Recomendaciones de la Unesco para la ciencia abierta: Reducir las brechas digitales. \n",
    "3. Aprendizaje invertido  \n",
    "4. Python, GitHub, Cuadernos Jupyter, YouTube, drive de Google, Google Colab. "
   ]
  },
  {
   "cell_type": "markdown",
   "id": "544da5fe",
   "metadata": {
    "slideshow": {
     "slide_type": "slide"
    }
   },
   "source": [
    "# Enseñanza desde una situación problemática como actividad de aula en el modelo de Aprendizaje invertido"
   ]
  },
  {
   "cell_type": "markdown",
   "id": "730489da",
   "metadata": {
    "slideshow": {
     "slide_type": "slide"
    }
   },
   "source": [
    " # 75. Medio ambiente   \n",
    " \n",
    " Una central térmica quema carbón para generar energía eléctrica. El costo $C$, en dólares, de eliminar $p\\%$ de las sustancias contaminantes del aire en sus emisiones de humo es  \n",
    "\n",
    "$$ C = \\frac{80\\ 000p}{100 - p} \\ \\ \\ \\quad 0 \\leq p < 100 $$\n",
    "\n",
    "Calcular cuánto cuesta eliminar \n",
    "\n",
    "a) $15\\%$,   \n",
    "b) $50\\%$ y  \n",
    "c) $90\\%$ de los contaminantes.   \n",
    "\n",
    "d) Encontrar el límite de $C$ cuando $p \\to 100^{-}$.\n",
    "\n",
    "Página 111 del PDF de Cálculo de [Larson]()"
   ]
  },
  {
   "cell_type": "code",
   "execution_count": 2,
   "id": "ebb062a4",
   "metadata": {
    "slideshow": {
     "slide_type": "slide"
    }
   },
   "outputs": [],
   "source": [
    "from calculo_limite_tabular_grafico import tabla_izquierda,\\\n",
    "tabla_derecha, \\\n",
    "grafica_funcion_en_una_vecindad"
   ]
  },
  {
   "cell_type": "code",
   "execution_count": null,
   "id": "8c162762",
   "metadata": {
    "slideshow": {
     "slide_type": "slide"
    }
   },
   "outputs": [],
   "source": [
    "def C(p):\n",
    "    return (80_000*p)/(100 - p)"
   ]
  },
  {
   "cell_type": "markdown",
   "id": "c24ee3a5",
   "metadata": {
    "slideshow": {
     "slide_type": "slide"
    }
   },
   "source": [
    "### Respuesta al item a"
   ]
  },
  {
   "cell_type": "code",
   "execution_count": null,
   "id": "76922d2d",
   "metadata": {
    "slideshow": {
     "slide_type": "slide"
    }
   },
   "outputs": [],
   "source": [
    "C(15)"
   ]
  },
  {
   "cell_type": "markdown",
   "id": "f36aa623",
   "metadata": {
    "slideshow": {
     "slide_type": "slide"
    }
   },
   "source": [
    "### Respuesta al item b"
   ]
  },
  {
   "cell_type": "code",
   "execution_count": null,
   "id": "df59b689",
   "metadata": {
    "slideshow": {
     "slide_type": "slide"
    }
   },
   "outputs": [],
   "source": [
    "C(50)"
   ]
  },
  {
   "cell_type": "markdown",
   "id": "2dad3cd2",
   "metadata": {
    "slideshow": {
     "slide_type": "slide"
    }
   },
   "source": [
    "### Respuesta al item c"
   ]
  },
  {
   "cell_type": "code",
   "execution_count": null,
   "id": "76cdac46",
   "metadata": {
    "slideshow": {
     "slide_type": "slide"
    }
   },
   "outputs": [],
   "source": [
    "C(90)"
   ]
  },
  {
   "cell_type": "code",
   "execution_count": null,
   "id": "c3429d6d",
   "metadata": {
    "slideshow": {
     "slide_type": "slide"
    }
   },
   "outputs": [],
   "source": [
    "tabla_izquierda(C, c = 100)"
   ]
  },
  {
   "cell_type": "markdown",
   "id": "c6fa3758",
   "metadata": {
    "slideshow": {
     "slide_type": "slide"
    }
   },
   "source": [
    "### Conclusión de la lectura de la tabla de aproximación por izquierda\n",
    "\n",
    "* $$ \\lim_{p \\to 100^{-}} C(p) = +\\infty $$\n",
    "\n",
    "es decir, a medida que el porcentaje se acerque a 100, el costo tiende a ser arbitrariamente grande, tan grande como se quiera. "
   ]
  },
  {
   "cell_type": "markdown",
   "id": "51af8a4a",
   "metadata": {
    "slideshow": {
     "slide_type": "slide"
    }
   },
   "source": [
    "# Una aplicación a la apasionante astronomía"
   ]
  },
  {
   "cell_type": "markdown",
   "id": "e02fa64d",
   "metadata": {
    "slideshow": {
     "slide_type": "slide"
    }
   },
   "source": [
    "12. Para que un cohete escape del campo gravitacional de la Tierra, se debe lanzar con una velocidad inicial denominada velocidad de escape. Un cohete lanzado desde la superficie de la Tierra \n",
    "tiene una velocidad v (en millas por segundo) dada por:\n",
    "\n",
    "$$ v = \\sqrt{\\frac{2GM}{r} } $$\n",
    "\n",
    "donde $v_{0}$ es la velocidad inicial, $r$ es la distancia entre el cohete y el centro de la Tierra, $G$ es la constante gravitacional, $M$ es la masa de la Tierra y $R$ es el radio de la Tierra ($4\\ 000$ millas, aproximadamente).  \n",
    "\n",
    "\n",
    " a) Encontrar el valor de v\n",
    "0\n",
    " para el que se obtiene un límite \n",
    "infinito para r cuando v tiende a cero. Este valor de v\n",
    "0\n",
    " es la \n",
    "velocidad de escape para la Tierra.\n",
    "b) Un cohete lanzado desde la superficie de la Luna se traslada \n",
    "con una velocidad v (en millas por segundo) dada por\n",
    "Encontrar la velocidad de escape para la Luna.\n",
    " c) Un cohete lanzado desde la superficie de un planeta se \n",
    "traslada con una velocidad v (en millas por segundo) dada \n",
    "por\n",
    "Encontrar la velocidad de escape de este planeta. ¿Es la \n",
    "masa de este planeta mayor o menor que la de la Tierra? \n",
    "(Suponer que la densidad media de este planeta es igual a \n",
    "la de la Tierra.)\n",
    "\n",
    "Página 113 del PDF de cálculo de Larson. "
   ]
  },
  {
   "cell_type": "code",
   "execution_count": null,
   "id": "b3a2d860",
   "metadata": {},
   "outputs": [],
   "source": []
  },
  {
   "cell_type": "code",
   "execution_count": null,
   "id": "53471c72",
   "metadata": {},
   "outputs": [],
   "source": []
  }
 ],
 "metadata": {
  "celltoolbar": "Slideshow",
  "kernelspec": {
   "display_name": "Python 3 (ipykernel)",
   "language": "python",
   "name": "python3"
  },
  "language_info": {
   "codemirror_mode": {
    "name": "ipython",
    "version": 3
   },
   "file_extension": ".py",
   "mimetype": "text/x-python",
   "name": "python",
   "nbconvert_exporter": "python",
   "pygments_lexer": "ipython3",
   "version": "3.9.13"
  },
  "rise": {
   "enable_chalkboard": true,
   "theme": "sky",
   "transition": "sky"
  }
 },
 "nbformat": 4,
 "nbformat_minor": 5
}
