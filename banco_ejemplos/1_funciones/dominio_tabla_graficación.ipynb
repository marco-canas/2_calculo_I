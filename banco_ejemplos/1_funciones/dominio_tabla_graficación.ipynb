{
 "cells": [
  {
   "cell_type": "code",
   "execution_count": null,
   "id": "06a23a6b",
   "metadata": {},
   "outputs": [],
   "source": []
  },
  {
   "cell_type": "markdown",
   "id": "1134952f",
   "metadata": {},
   "source": [
    "# Determine dominio, elabore una tabla y grafique"
   ]
  },
  {
   "cell_type": "markdown",
   "id": "f7135cac",
   "metadata": {},
   "source": [
    "$$ f(x) = \\frac{8}{\\sqrt{x^{2} - 2x - 8}} $$"
   ]
  },
  {
   "cell_type": "markdown",
   "id": "a7daecf4",
   "metadata": {},
   "source": [
    "## Solución:"
   ]
  },
  {
   "cell_type": "markdown",
   "id": "40afddeb",
   "metadata": {},
   "source": [
    "El dominio de $f$ es el conjunto de los números $x$ tales que \n",
    "\n",
    "$$ x^{2} - 2x - 8 > 0 $$\n"
   ]
  },
  {
   "cell_type": "markdown",
   "id": "9a6d19c9",
   "metadata": {},
   "source": [
    "Y lo que se hace para resolver esta inecuacuación cuadrática es: \n",
    "\n",
    "$$ (x-4)(x+2) > 0  $$\n"
   ]
  },
  {
   "cell_type": "markdown",
   "id": "34cdc0f0",
   "metadata": {},
   "source": [
    "$$ x-4 > 0  \\ \\ \\ \\ \\ \\ \\ \\ \\ x + 2 > 0$$"
   ]
  },
  {
   "cell_type": "markdown",
   "id": "6f83f4cc",
   "metadata": {},
   "source": [
    "$$ x > 4 \\ \\ \\ \\ \\ \\text{y} \\ \\ \\ \\ x > -2 $$"
   ]
  },
  {
   "cell_type": "code",
   "execution_count": 1,
   "id": "2d7994f6",
   "metadata": {},
   "outputs": [],
   "source": [
    "def f(x):\n",
    "    return 8/np.sqrt(x**2 - 2*x -8)"
   ]
  },
  {
   "cell_type": "code",
   "execution_count": 5,
   "id": "0d232a68",
   "metadata": {},
   "outputs": [],
   "source": [
    "import numpy as np \n",
    "X = np.array([-10,-9,-8,-6, -5, -4, -3, 5, 6, 7, 8, 9, 10])"
   ]
  },
  {
   "cell_type": "code",
   "execution_count": 6,
   "id": "a4b570bc",
   "metadata": {},
   "outputs": [],
   "source": [
    "y = np.array([f(x) for x in X])"
   ]
  },
  {
   "cell_type": "code",
   "execution_count": 7,
   "id": "16aa73b6",
   "metadata": {},
   "outputs": [
    {
     "data": {
      "text/plain": [
       "array([-10,  -9,  -8,  -6,  -5,  -4,  -3,   5,   6,   7,   8,   9,  10])"
      ]
     },
     "execution_count": 7,
     "metadata": {},
     "output_type": "execute_result"
    }
   ],
   "source": [
    "x "
   ]
  },
  {
   "cell_type": "code",
   "execution_count": 8,
   "id": "f50dbe23",
   "metadata": {},
   "outputs": [
    {
     "data": {
      "text/plain": [
       "array([0.75592895, 0.83862787, 0.94280904, 1.26491106, 1.53960072,\n",
       "       2.        , 3.02371578, 3.02371578, 2.        , 1.53960072,\n",
       "       1.26491106, 1.07871978, 0.94280904])"
      ]
     },
     "execution_count": 8,
     "metadata": {},
     "output_type": "execute_result"
    }
   ],
   "source": [
    "y "
   ]
  },
  {
   "cell_type": "code",
   "execution_count": 9,
   "id": "b4d00b76",
   "metadata": {},
   "outputs": [],
   "source": [
    "import pandas as pd "
   ]
  },
  {
   "cell_type": "code",
   "execution_count": 10,
   "id": "7340b4c8",
   "metadata": {},
   "outputs": [
    {
     "data": {
      "text/html": [
       "<div>\n",
       "<style scoped>\n",
       "    .dataframe tbody tr th:only-of-type {\n",
       "        vertical-align: middle;\n",
       "    }\n",
       "\n",
       "    .dataframe tbody tr th {\n",
       "        vertical-align: top;\n",
       "    }\n",
       "\n",
       "    .dataframe thead th {\n",
       "        text-align: right;\n",
       "    }\n",
       "</style>\n",
       "<table border=\"1\" class=\"dataframe\">\n",
       "  <thead>\n",
       "    <tr style=\"text-align: right;\">\n",
       "      <th></th>\n",
       "      <th>x</th>\n",
       "      <th>f(x)</th>\n",
       "    </tr>\n",
       "  </thead>\n",
       "  <tbody>\n",
       "    <tr>\n",
       "      <th>0</th>\n",
       "      <td>-10</td>\n",
       "      <td>0.755929</td>\n",
       "    </tr>\n",
       "    <tr>\n",
       "      <th>1</th>\n",
       "      <td>-9</td>\n",
       "      <td>0.838628</td>\n",
       "    </tr>\n",
       "    <tr>\n",
       "      <th>2</th>\n",
       "      <td>-8</td>\n",
       "      <td>0.942809</td>\n",
       "    </tr>\n",
       "    <tr>\n",
       "      <th>3</th>\n",
       "      <td>-6</td>\n",
       "      <td>1.264911</td>\n",
       "    </tr>\n",
       "    <tr>\n",
       "      <th>4</th>\n",
       "      <td>-5</td>\n",
       "      <td>1.539601</td>\n",
       "    </tr>\n",
       "    <tr>\n",
       "      <th>5</th>\n",
       "      <td>-4</td>\n",
       "      <td>2.000000</td>\n",
       "    </tr>\n",
       "    <tr>\n",
       "      <th>6</th>\n",
       "      <td>-3</td>\n",
       "      <td>3.023716</td>\n",
       "    </tr>\n",
       "    <tr>\n",
       "      <th>7</th>\n",
       "      <td>5</td>\n",
       "      <td>3.023716</td>\n",
       "    </tr>\n",
       "    <tr>\n",
       "      <th>8</th>\n",
       "      <td>6</td>\n",
       "      <td>2.000000</td>\n",
       "    </tr>\n",
       "    <tr>\n",
       "      <th>9</th>\n",
       "      <td>7</td>\n",
       "      <td>1.539601</td>\n",
       "    </tr>\n",
       "    <tr>\n",
       "      <th>10</th>\n",
       "      <td>8</td>\n",
       "      <td>1.264911</td>\n",
       "    </tr>\n",
       "    <tr>\n",
       "      <th>11</th>\n",
       "      <td>9</td>\n",
       "      <td>1.078720</td>\n",
       "    </tr>\n",
       "    <tr>\n",
       "      <th>12</th>\n",
       "      <td>10</td>\n",
       "      <td>0.942809</td>\n",
       "    </tr>\n",
       "  </tbody>\n",
       "</table>\n",
       "</div>"
      ],
      "text/plain": [
       "     x      f(x)\n",
       "0  -10  0.755929\n",
       "1   -9  0.838628\n",
       "2   -8  0.942809\n",
       "3   -6  1.264911\n",
       "4   -5  1.539601\n",
       "5   -4  2.000000\n",
       "6   -3  3.023716\n",
       "7    5  3.023716\n",
       "8    6  2.000000\n",
       "9    7  1.539601\n",
       "10   8  1.264911\n",
       "11   9  1.078720\n",
       "12  10  0.942809"
      ]
     },
     "execution_count": 10,
     "metadata": {},
     "output_type": "execute_result"
    }
   ],
   "source": [
    "tabla = pd.DataFrame({'x':X, 'f(x)':y})\n",
    "tabla "
   ]
  },
  {
   "cell_type": "code",
   "execution_count": 13,
   "id": "1498f2ad",
   "metadata": {},
   "outputs": [
    {
     "data": {
      "image/png": "[encoded data removed]",
      "text/plain": [
       "<Figure size 432x288 with 1 Axes>"
      ]
     },
     "metadata": {
      "needs_background": "light"
     },
     "output_type": "display_data"
    }
   ],
   "source": [
    "import matplotlib.pyplot as plt \n",
    "\n",
    "fig, ax = plt.subplots()\n",
    "\n",
    "ax.plot(X,y)\n",
    "\n",
    "plt.grid() \n",
    "\n",
    "plt.show() \n",
    "\n"
   ]
  },
  {
   "cell_type": "code",
   "execution_count": null,
   "id": "1a3893b2",
   "metadata": {},
   "outputs": [],
   "source": []
  }
 ],
 "metadata": {
  "kernelspec": {
   "display_name": "Python 3 (ipykernel)",
   "language": "python",
   "name": "python3"
  },
  "language_info": {
   "codemirror_mode": {
    "name": "ipython",
    "version": 3
   },
   "file_extension": ".py",
   "mimetype": "text/x-python",
   "name": "python",
   "nbconvert_exporter": "python",
   "pygments_lexer": "ipython3",
   "version": "3.9.7"
  }
 },
 "nbformat": 4,
 "nbformat_minor": 5
}
