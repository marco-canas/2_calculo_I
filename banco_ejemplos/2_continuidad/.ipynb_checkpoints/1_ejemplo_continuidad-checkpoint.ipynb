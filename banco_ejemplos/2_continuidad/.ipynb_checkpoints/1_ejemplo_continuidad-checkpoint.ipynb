{
 "cells": [
  {
   "cell_type": "markdown",
   "id": "bdd28dbb",
   "metadata": {
    "slideshow": {
     "slide_type": "slide"
    }
   },
   "source": [
    "<table align=\"left\">\n",
    "  <td>\n",
    "    <a href=\"https://colab.research.google.com/github/marco-canas/edo/blob/main/banco_ejemplos/ejer_sec_7_6_boyce/solucion_pvi_sistema_eigenvalores_complejos.ipynb\" target=\"_parent\"><img src=\"https://colab.research.google.com/assets/colab-badge.svg\" alt=\"Open In Colab\"/></a>\n",
    "  </td>\n",
    "  <td>\n",
    "    <a target=\"_blank\" href=\"https://kaggle.com/kernels/welcome?src=https://github.com/marco-canas/edo/blob/main/banco_ejemplos/ejer_sec_7_6_boyce/solucion_pvi_sistema_eigenvalores_complejos.ipynb\"><img src=\"https://kaggle.com/static/images/open-in-kaggle.svg\" /></a>\n",
    "  </td>\n",
    "</table>"
   ]
  },
  {
   "cell_type": "markdown",
   "id": "1253140e",
   "metadata": {
    "slideshow": {
     "slide_type": "slide"
    }
   },
   "source": [
    "# Ejemplo 1 Continuidad"
   ]
  },
  {
   "cell_type": "markdown",
   "id": "206d6be4",
   "metadata": {
    "slideshow": {
     "slide_type": "slide"
    }
   },
   "source": [
    "<img src = 'https://github.com/marco-canas/calculo_I/blob/main/banco_ejemplos/2_continuidad/1_continuidad.PNG?raw=true'> "
   ]
  },
  {
   "cell_type": "markdown",
   "id": "41a33b95",
   "metadata": {
    "slideshow": {
     "slide_type": "slide"
    }
   },
   "source": [
    "El grpafico anterior es el de la función $f(x)$. Selecciones cuál es la única afrimación falsa de las 4 siguientes:\n",
    "\n",
    "A. $Dom(f(x)) = (-\\infty, \\infty)$.  \n",
    "B. $f(2)$ no existe.   \n",
    "C. $f(-2) = -3$.  \n",
    "D. $f(2) = 3$"
   ]
  },
  {
   "cell_type": "markdown",
   "id": "82ed521e",
   "metadata": {
    "slideshow": {
     "slide_type": "slide"
    }
   },
   "source": [
    "La única afirmación falsa es la B. "
   ]
  },
  {
   "cell_type": "markdown",
   "id": "4a7b9ae1",
   "metadata": {
    "slideshow": {
     "slide_type": "slide"
    }
   },
   "source": [
    "## Gráfico animado de $f$"
   ]
  },
  {
   "cell_type": "code",
   "execution_count": 10,
   "id": "5c4ad0be",
   "metadata": {
    "slideshow": {
     "slide_type": "slide"
    }
   },
   "outputs": [
    {
     "data": {
      "application/vnd.jupyter.widget-view+json": {
       "model_id": "7e4ffbc495f94a2086dd06bf38b311fa",
       "version_major": 2,
       "version_minor": 0
      },
      "text/plain": [
       "interactive(children=(FloatSlider(value=-3.0, description='t', max=3.0, min=-3.0), Output()), _dom_classes=('w…"
      ]
     },
     "metadata": {},
     "output_type": "display_data"
    }
   ],
   "source": [
    "import numpy as np\n",
    "import matplotlib.pyplot as plt \n",
    "\n",
    "from ipywidgets import interact \n",
    "\n",
    "%matplotlib inline\n",
    "\n",
    "def f(t):\n",
    "    return t**2\n",
    "x = []\n",
    "y = []\n",
    "\n",
    "def graficar(t = -3):\n",
    "    fig, ax = plt.subplots() \n",
    "    ax.scatter([t],[f(t)], color = 'black') \n",
    "    x.append(t)\n",
    "    y.append(f(t))\n",
    "    ax.plot(x,y)\n",
    "    ax.set(title = 'la función', xlim = (-3,3), ylim = (-1,9)) \n",
    "    ax.grid() \n",
    "    ax.text(t+0.1,f(t), '({:.2f},{:.2f})'.format( t, f(t) ) )\n",
    "    ax.plot([0,0],[0,9], color = 'red') # eje y \n",
    "    ax.plot([-3,3], [0,0], color = 'red')\n",
    "interact(graficar, t = (-3,3,0.1)) \n",
    "\n",
    "plt.show() \n"
   ]
  },
  {
   "cell_type": "markdown",
   "id": "ee636b38",
   "metadata": {
    "slideshow": {
     "slide_type": "slide"
    }
   },
   "source": [
    "2. Sean $f(x)$, $g(x)$, $h(x)$ funciones tales que , para toda $x$  en un intervalo abierto que contiene a un número a, el  $f(x) = 4$; $g(x) = -12$; $h(x) = 32$ entonces no se puede afirmar que,  \n",
    "\n",
    "A. $h(x) + f(x) = \\frac{11}{2}$     \n",
    "B. $ 2h(x) - f(x) = -1 $ \n",
    "C. $f(x)*3g(x)=6$   \n",
    "D. $g(x)f(x)=- \\frac{1}{8}$ \n",
    "\n"
   ]
  },
  {
   "cell_type": "markdown",
   "id": "9bbc394d",
   "metadata": {
    "slideshow": {
     "slide_type": "slide"
    }
   },
   "source": [
    "**Conclusión:** No se puede afirmar que $f(x)[3g(x)] = 6$, es decir, la afirmación incorrecta es la $C$. "
   ]
  },
  {
   "cell_type": "markdown",
   "id": "17be6db6",
   "metadata": {
    "slideshow": {
     "slide_type": "slide"
    }
   },
   "source": [
    "La justificación de la conclusión: \n",
    "\n",
    "\\begin{align*}\n",
    "f(x)[3g(x)] & = 4 (3)  \\left( -\\frac{1}{2} \\right) \\\\\n",
    "            & =  12\\left( -\\frac{1}{2} \\right) \\\\\n",
    "            & = -\\frac{12}{2} \\\\\n",
    "            & = -6 \n",
    "\\end{align*}\n"
   ]
  },
  {
   "cell_type": "markdown",
   "id": "2da15b70",
   "metadata": {
    "slideshow": {
     "slide_type": "slide"
    }
   },
   "source": [
    "La única falla en la afirmación $C$ es con el signo. "
   ]
  },
  {
   "cell_type": "markdown",
   "id": "59cb0ace",
   "metadata": {
    "slideshow": {
     "slide_type": "slide"
    }
   },
   "source": [
    "# Problema 4"
   ]
  },
  {
   "cell_type": "markdown",
   "id": "bc3bc400",
   "metadata": {
    "slideshow": {
     "slide_type": "slide"
    }
   },
   "source": [
    "(Valor 12) Use la siguiente gráfica de $f(x)$ para encontrar los límites indicados.\n"
   ]
  },
  {
   "cell_type": "code",
   "execution_count": 38,
   "id": "19a127e4",
   "metadata": {
    "slideshow": {
     "slide_type": "slide"
    }
   },
   "outputs": [
    {
     "data": {
      "application/vnd.jupyter.widget-view+json": {
       "model_id": "d493b5cf82404e56bd4d2e671fbee6cb",
       "version_major": 2,
       "version_minor": 0
      },
      "text/plain": [
       "interactive(children=(FloatSlider(value=-10.0, description='t', max=5.0, min=-10.0), Output()), _dom_classes=(…"
      ]
     },
     "metadata": {},
     "output_type": "display_data"
    },
    {
     "data": {
      "image/png": "[encoded data removed]",
      "text/plain": [
       "<Figure size 432x288 with 1 Axes>"
      ]
     },
     "metadata": {
      "needs_background": "light"
     },
     "output_type": "display_data"
    },
    {
     "data": {
      "image/png": "[encoded data removed]",
      "text/plain": [
       "<Figure size 432x288 with 1 Axes>"
      ]
     },
     "metadata": {
      "needs_background": "light"
     },
     "output_type": "display_data"
    }
   ],
   "source": [
    "import numpy as np\n",
    "import matplotlib.pyplot as plt \n",
    "\n",
    "from ipywidgets import interact \n",
    "\n",
    "%matplotlib inline\n",
    "\n",
    "def f(t):\n",
    "    if -10<=t<-4:\n",
    "        return 1/(-(t+4)) \n",
    "    elif -4 < t < -2:\n",
    "        return (3/2)*t + 4\n",
    "    elif -2 < t < 1:\n",
    "        return -(4/3)*(t-1) - 3 # utilizando y = m(x-x0) + y0\n",
    "    elif 1<=t<=5:\n",
    "        return -(t-4)**2 + 8\n",
    "    \n",
    "x = []\n",
    "y = []\n",
    "\n",
    "def graficar(t = -10):\n",
    "    fig, ax = plt.subplots() \n",
    "    ax.scatter([t],[f(t)], color = 'red') \n",
    "    x.append(t)\n",
    "    y.append(f(t))\n",
    "    ax.plot(x,y, color = 'blue')\n",
    "    ax.set(title = 'la función $y = f(x)$', xlim = (-10,5), ylim = (-5,9)) \n",
    "    ax.grid() \n",
    "    ax.text(t,f(t), '({:.2f},{:.2f})'.format( t, f(t) ) )\n",
    "\n",
    "interact(graficar, t = (-10,5,0.1)) \n",
    "\n",
    "plt.show() \n"
   ]
  },
  {
   "cell_type": "markdown",
   "id": "0f9486d8",
   "metadata": {
    "slideshow": {
     "slide_type": "slide"
    }
   },
   "source": [
    "1. $\\lim\\limits_{x \\to -4^{-}}f(x) = $\n",
    "2. $\\lim\\limits_{x \\to -4^{+}}f(x) = $"
   ]
  },
  {
   "cell_type": "markdown",
   "id": "7eb3f54b",
   "metadata": {
    "slideshow": {
     "slide_type": "slide"
    }
   },
   "source": [
    "## Referentes  \n",
    "\n",
    "* https://dolar.wilkinsonpc.com.co/\n",
    "* https://matplotlib.org/stable/api/_as_gen/matplotlib.pyplot.text.html \n"
   ]
  },
  {
   "cell_type": "code",
   "execution_count": null,
   "id": "9c016f34",
   "metadata": {},
   "outputs": [],
   "source": []
  }
 ],
 "metadata": {
  "celltoolbar": "Slideshow",
  "kernelspec": {
   "display_name": "Python 3",
   "language": "python",
   "name": "python3"
  },
  "language_info": {
   "codemirror_mode": {
    "name": "ipython",
    "version": 3
   },
   "file_extension": ".py",
   "mimetype": "text/x-python",
   "name": "python",
   "nbconvert_exporter": "python",
   "pygments_lexer": "ipython3",
   "version": "3.8.8"
  },
  "latex_envs": {
   "LaTeX_envs_menu_present": true,
   "autoclose": false,
   "autocomplete": false,
   "bibliofile": "biblio.bib",
   "cite_by": "apalike",
   "current_citInitial": 1,
   "eqLabelWithNumbers": true,
   "eqNumInitial": 1,
   "hotkeys": {
    "equation": "Ctrl-E",
    "itemize": "Ctrl-I"
   },
   "labels_anchors": false,
   "latex_user_defs": false,
   "report_style_numbering": false,
   "user_envs_cfg": false
  }
 },
 "nbformat": 4,
 "nbformat_minor": 5
}
