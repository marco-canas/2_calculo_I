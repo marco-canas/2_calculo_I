{
 "cells": [
  {
   "cell_type": "markdown",
   "id": "7c1a86c5",
   "metadata": {},
   "source": []
  },
  {
   "cell_type": "markdown",
   "id": "336c4a64",
   "metadata": {},
   "source": []
  },
  {
   "cell_type": "markdown",
   "id": "749dd98d",
   "metadata": {},
   "source": [
    "3. La ecuación de una línea recta viene determinada por la ecuación $3𝑥 − 6𝑦 + 15 = 0$. Con respecto a la ecuación dada puede afirmarse que:\n",
    "\n",
    "Seleccione una:  \n",
    "\n",
    "a. Representa una recta que es perpendicular a la recta dada por la ecuación $y = -2x -5/2$ , porque    el producto de sus pendientes es $-1$.  \n",
    "b. Representa una recta que tiene como pendiente $m = -1/2$ e intercepta el eje y en el punto   \n",
    "   $(0.5, 2)$.\n",
    "c. Representa una recta que es paralela a la recta dada por la ecuación la ecuación   \n",
    "   $2𝑥 + 4𝑦 +15 = 0$, porque sus pendientes son iguales.\n",
    "d. Representa una recta que tiene como pendiente 3 y pasa interceptando el eje y en $-15$.\n"
   ]
  },
  {
   "cell_type": "markdown",
   "id": "49a1e291",
   "metadata": {},
   "source": [
    "## Solución: \n"
   ]
  },
  {
   "cell_type": "markdown",
   "id": "9edd6699",
   "metadata": {},
   "source": [
    "Despejemos la $y$ de la ecuación de la recta $3𝑥 − 6𝑦 + 15 = 0$ para determinar la pendiente de ella:\n",
    "\n",
    "\n"
   ]
  },
  {
   "cell_type": "markdown",
   "id": "a8af0e68",
   "metadata": {},
   "source": [
    "\\begin{align*}\n",
    "3𝑥 − 6𝑦 + 15 & = 0 \\\\\n",
    " 3x + 15 & = 6y  \\\\\n",
    " \\frac{3x + 15}{6} & = y \\\\\n",
    " \\frac{3}{6}x + \\frac{15}{6} & = y \n",
    "\\end{align*}"
   ]
  },
  {
   "cell_type": "markdown",
   "id": "f1704671",
   "metadata": {},
   "source": [
    "Entonces la pendiente de la recta inicial dada es $m_{1} = 1/2$"
   ]
  },
  {
   "cell_type": "code",
   "execution_count": 12,
   "id": "434da53b",
   "metadata": {},
   "outputs": [
    {
     "data": {
      "text/plain": [
       "-1.0"
      ]
     },
     "execution_count": 12,
     "metadata": {},
     "output_type": "execute_result"
    }
   ],
   "source": [
    "1/2*(-2)"
   ]
  },
  {
   "cell_type": "code",
   "execution_count": 13,
   "id": "e2fe955b",
   "metadata": {},
   "outputs": [
    {
     "data": {
      "text/plain": [
       "-1.0"
      ]
     },
     "execution_count": 13,
     "metadata": {},
     "output_type": "execute_result"
    }
   ],
   "source": [
    "(3/6)*(-2)"
   ]
  },
  {
   "cell_type": "markdown",
   "id": "93adf085",
   "metadata": {},
   "source": []
  },
  {
   "cell_type": "markdown",
   "id": "c6d0341b",
   "metadata": {},
   "source": [
    "# Presaberes "
   ]
  },
  {
   "cell_type": "markdown",
   "id": "1c097fb7",
   "metadata": {},
   "source": [
    "* Perpendicularidad   \n",
    "* paralelismo \n",
    "* pendientes \n",
    "* interceptar \n",
    "* ¿Cómo debemos transformar la ecuación de una recta para ver de manera explícita su pendiente?\n",
    "* El producto de las pendientes de rectas perpendiculares es $-1$. \n",
    "\n",
    "* Despejar variables por transposición de términos. \n",
    "* Coeficiente: Por ejemplo, en la expresión $2x$, el número $2$ es el coeficiente de la $x$. En realidad, el coeficiente es el que acompaña en un producto. \n",
    "* Simplificar fracciones:\n",
    "\n",
    "\n",
    "$$\\frac{3}{6} = \\frac{1}{2} $$"
   ]
  },
  {
   "cell_type": "code",
   "execution_count": 14,
   "id": "891d1c42",
   "metadata": {},
   "outputs": [
    {
     "data": {
      "text/plain": [
       "Text(0.5, 1.0, 'Ejemplo de rectas perpendiculares')"
      ]
     },
     "execution_count": 14,
     "metadata": {},
     "output_type": "execute_result"
    },
    {
     "data": {
      "image/png": "[encoded data removed]",
      "text/plain": [
       "<Figure size 432x288 with 1 Axes>"
      ]
     },
     "metadata": {
      "needs_background": "light"
     },
     "output_type": "display_data"
    }
   ],
   "source": [
    "import numpy as np \n",
    "import matplotlib.pyplot as plt \n",
    "\n",
    "q = np.arange(0,10+1,1)\n",
    "p = 100 - 10*q \n",
    "\n",
    "plt.plot([-3,3],[0,0])\n",
    "plt.plot([0,0],[-3,3])\n",
    "\n",
    "plt.grid()\n",
    "plt.xlabel(r'eje $x$')\n",
    "plt.ylabel(r'eje $y$') \n",
    "plt.title('Ejemplo de rectas perpendiculares')"
   ]
  },
  {
   "cell_type": "code",
   "execution_count": 15,
   "id": "4b87e92c",
   "metadata": {},
   "outputs": [
    {
     "data": {
      "text/plain": [
       "(-1.0, 2.0, -3.0, 3.0)"
      ]
     },
     "execution_count": 15,
     "metadata": {},
     "output_type": "execute_result"
    },
    {
     "data": {
      "image/png": "[encoded data removed]",
      "text/plain": [
       "<Figure size 432x288 with 1 Axes>"
      ]
     },
     "metadata": {
      "needs_background": "light"
     },
     "output_type": "display_data"
    }
   ],
   "source": [
    "import numpy as np \n",
    "import matplotlib.pyplot as plt \n",
    "\n",
    "q = np.arange(0,10+1,1)\n",
    "p = 100 - 10*q \n",
    "\n",
    "plt.plot([1,1],[-3,3])\n",
    "plt.plot([0,0],[-3,3])\n",
    "\n",
    "plt.grid()\n",
    "plt.xlabel(r'eje $x$')\n",
    "plt.ylabel(r'eje $y$') \n",
    "plt.title('Ejemplo de rectas paralelas')\n",
    "plt.axis([-1,2,-3,3]) "
   ]
  },
  {
   "cell_type": "markdown",
   "id": "39dd5b56",
   "metadata": {},
   "source": [
    "## Animación para ver cómo cambia la inclinación con el cambio de la pendiente $m$"
   ]
  },
  {
   "cell_type": "code",
   "execution_count": 1,
   "id": "e5c46c51",
   "metadata": {},
   "outputs": [
    {
     "data": {
      "application/vnd.jupyter.widget-view+json": {
       "model_id": "700bc5ac159a4fc88c31f0c70f56f0c6",
       "version_major": 2,
       "version_minor": 0
      },
      "text/plain": [
       "interactive(children=(IntSlider(value=0, description='m', max=200), Output()), _dom_classes=('widget-interact'…"
      ]
     },
     "metadata": {},
     "output_type": "display_data"
    },
    {
     "data": {
      "text/plain": [
       "<function __main__.variacion(m=0)>"
      ]
     },
     "execution_count": 1,
     "metadata": {},
     "output_type": "execute_result"
    }
   ],
   "source": [
    "import numpy as np \n",
    "import matplotlib.pyplot as plt \n",
    "from ipywidgets import interact \n",
    "\n",
    "def variacion(m = 0): \n",
    "    x = np.array([0,1])\n",
    "    y = m*x\n",
    "    plt.plot(x,y)\n",
    "    plt.grid(True, alpha = 0.6)\n",
    " \n",
    "    plt.axis([-1,2,-2,2])\n",
    "interact(variacion, m = (0,200, 1))    \n"
   ]
  },
  {
   "cell_type": "code",
   "execution_count": null,
   "id": "1ea19070",
   "metadata": {},
   "outputs": [],
   "source": []
  }
 ],
 "metadata": {
  "kernelspec": {
   "display_name": "Python 3",
   "language": "python",
   "name": "python3"
  },
  "language_info": {
   "codemirror_mode": {
    "name": "ipython",
    "version": 3
   },
   "file_extension": ".py",
   "mimetype": "text/x-python",
   "name": "python",
   "nbconvert_exporter": "python",
   "pygments_lexer": "ipython3",
   "version": "3.8.8"
  },
  "latex_envs": {
   "LaTeX_envs_menu_present": true,
   "autoclose": false,
   "autocomplete": false,
   "bibliofile": "biblio.bib",
   "cite_by": "apalike",
   "current_citInitial": 1,
   "eqLabelWithNumbers": true,
   "eqNumInitial": 1,
   "hotkeys": {
    "equation": "Ctrl-E",
    "itemize": "Ctrl-I"
   },
   "labels_anchors": false,
   "latex_user_defs": false,
   "report_style_numbering": false,
   "user_envs_cfg": false
  }
 },
 "nbformat": 4,
 "nbformat_minor": 5
}
