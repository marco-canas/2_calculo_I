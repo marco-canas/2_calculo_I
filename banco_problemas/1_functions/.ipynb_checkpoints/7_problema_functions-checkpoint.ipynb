{
 "cells": [
  {
   "cell_type": "markdown",
   "id": "16dcd168",
   "metadata": {
    "slideshow": {
     "slide_type": "slide"
    }
   },
   "source": [
    "\n",
    "<table align=\"left\">\n",
    "  <td>\n",
    "    <a href=\"https://colab.research.google.com/github/marco-canas/introducci-n-al-Machine-Learning/blob/main/classes/class_10/class_10_taller_numpy.ipynb\" target=\"_parent\"><img src=\"https://colab.research.google.com/assets/colab-badge.svg\" alt=\"Open In Colab\"/></a>\n",
    "  </td>\n",
    "  <td>\n",
    "    <a target=\"_blank\" href=\"https://kaggle.com/kernels/welcome?src=https://github.com/marco-canas/introducci-n-al-Machine-Learning/blob/main/classes/class_10/class_10_taller_numpy.ipynb\"><img src=\"https://kaggle.com/static/images/open-in-kaggle.svg\" /></a>\n",
    "  </td>\n",
    "</table> \n"
   ]
  },
  {
   "cell_type": "markdown",
   "id": "7a2303d9",
   "metadata": {
    "slideshow": {
     "slide_type": "slide"
    }
   },
   "source": [
    "# Problema 7 sobre funciones "
   ]
  },
  {
   "cell_type": "markdown",
   "id": "6b209713",
   "metadata": {},
   "source": [
    "Página 49 del Larson"
   ]
  },
  {
   "cell_type": "markdown",
   "id": "f6c66efe",
   "metadata": {
    "slideshow": {
     "slide_type": "slide"
    }
   },
   "source": [
    "### Problema de longitud.  \n",
    "\n",
    "Una recta que pasa por el punto $(3, 2)$ forma con los ejes $x$ y $y$ un triángulo rectángulo en el primer cuadrante (ver la figura).   \n",
    "\n",
    "Expresar la longitud $L$ de la hipotenusa como función de $x$.\n"
   ]
  },
  {
   "cell_type": "markdown",
   "id": "619ea736",
   "metadata": {
    "slideshow": {
     "slide_type": "slide"
    }
   },
   "source": [
    "<img src = 'https://github.com/marco-canas/calculo_I/blob/main/banco_ejemplos/1_funciones/ejer_98_sec_p3_larson.png?raw=true'>"
   ]
  },
  {
   "cell_type": "code",
   "execution_count": 1,
   "id": "ac37d443",
   "metadata": {
    "slideshow": {
     "slide_type": "slide"
    }
   },
   "outputs": [
    {
     "data": {
      "application/vnd.jupyter.widget-view+json": {
       "model_id": "d7cf11aec0b4421fb13e13dc2b17127b",
       "version_major": 2,
       "version_minor": 0
      },
      "text/plain": [
       "interactive(children=(FloatSlider(value=5.0, description='a', max=10.1, min=3.1), Output()), _dom_classes=('wi…"
      ]
     },
     "metadata": {},
     "output_type": "display_data"
    },
    {
     "data": {
      "text/plain": [
       "<function __main__.variacion(a=5)>"
      ]
     },
     "execution_count": 1,
     "metadata": {},
     "output_type": "execute_result"
    }
   ],
   "source": [
    "import numpy as np \n",
    "import matplotlib.pyplot as plt \n",
    "from ipywidgets import interact \n",
    "\n",
    "def variacion(a = 5): \n",
    "    fig, ax = plt.subplots()\n",
    "    ax.scatter([3],[2], color = 'red') \n",
    "    # otro punto del segmento es (a,0)\n",
    "    x = np.array([0,a]) \n",
    "    y = (2-0)/(3-a)*(x - 3) + 2\n",
    "    ax.plot(x,y)               # y = m(x-x0) + y0 con (x0,y0) = (3,2)\n",
    "    ax.grid() \n",
    "    ax.axis([-1,11,-1,11])\n",
    "plt.show()     \n",
    "interact(variacion, a = (3.1, 10.1,0.1))      \n",
    "\n"
   ]
  },
  {
   "cell_type": "markdown",
   "id": "9a542fbf",
   "metadata": {
    "slideshow": {
     "slide_type": "slide"
    }
   },
   "source": []
  },
  {
   "cell_type": "code",
   "execution_count": null,
   "id": "f27fe8a5",
   "metadata": {},
   "outputs": [],
   "source": []
  },
  {
   "cell_type": "code",
   "execution_count": null,
   "id": "cc5e624a",
   "metadata": {},
   "outputs": [],
   "source": []
  },
  {
   "cell_type": "code",
   "execution_count": null,
   "id": "f6f54363",
   "metadata": {},
   "outputs": [],
   "source": []
  },
  {
   "cell_type": "code",
   "execution_count": null,
   "id": "5bdc769b",
   "metadata": {},
   "outputs": [],
   "source": []
  },
  {
   "cell_type": "code",
   "execution_count": null,
   "id": "61cc6ce2",
   "metadata": {},
   "outputs": [],
   "source": []
  },
  {
   "cell_type": "code",
   "execution_count": null,
   "id": "9d8d50d8",
   "metadata": {},
   "outputs": [],
   "source": []
  }
 ],
 "metadata": {
  "celltoolbar": "Slideshow",
  "kernelspec": {
   "display_name": "Python 3",
   "language": "python",
   "name": "python3"
  },
  "language_info": {
   "codemirror_mode": {
    "name": "ipython",
    "version": 3
   },
   "file_extension": ".py",
   "mimetype": "text/x-python",
   "name": "python",
   "nbconvert_exporter": "python",
   "pygments_lexer": "ipython3",
   "version": "3.8.8"
  },
  "latex_envs": {
   "LaTeX_envs_menu_present": true,
   "autoclose": false,
   "autocomplete": false,
   "bibliofile": "biblio.bib",
   "cite_by": "apalike",
   "current_citInitial": 1,
   "eqLabelWithNumbers": true,
   "eqNumInitial": 1,
   "hotkeys": {
    "equation": "Ctrl-E",
    "itemize": "Ctrl-I"
   },
   "labels_anchors": false,
   "latex_user_defs": false,
   "report_style_numbering": false,
   "user_envs_cfg": false
  }
 },
 "nbformat": 4,
 "nbformat_minor": 5
}
