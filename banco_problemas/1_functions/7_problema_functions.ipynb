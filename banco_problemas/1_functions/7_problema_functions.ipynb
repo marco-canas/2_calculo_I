{
 "cells": [
  {
   "cell_type": "markdown",
   "id": "16dcd168",
   "metadata": {
    "slideshow": {
     "slide_type": "slide"
    }
   },
   "source": [
    "\n",
    "<table align=\"left\">\n",
    "  <td>\n",
    "    <a href=\"https://colab.research.google.com/github/marco-canas/introducci-n-al-Machine-Learning/blob/main/classes/class_10/class_10_taller_numpy.ipynb\" target=\"_parent\"><img src=\"https://colab.research.google.com/assets/colab-badge.svg\" alt=\"Open In Colab\"/></a>\n",
    "  </td>\n",
    "  <td>\n",
    "    <a target=\"_blank\" href=\"https://kaggle.com/kernels/welcome?src=https://github.com/marco-canas/introducci-n-al-Machine-Learning/blob/main/classes/class_10/class_10_taller_numpy.ipynb\"><img src=\"https://kaggle.com/static/images/open-in-kaggle.svg\" /></a>\n",
    "  </td>\n",
    "</table> \n"
   ]
  },
  {
   "cell_type": "markdown",
   "id": "7a2303d9",
   "metadata": {
    "slideshow": {
     "slide_type": "slide"
    }
   },
   "source": [
    "# Problema 7 sobre funciones "
   ]
  },
  {
   "cell_type": "markdown",
   "id": "10222174",
   "metadata": {
    "slideshow": {
     "slide_type": "slide"
    }
   },
   "source": [
    "## [Video de apoyo]()"
   ]
  },
  {
   "cell_type": "markdown",
   "id": "11daa286",
   "metadata": {
    "slideshow": {
     "slide_type": "slide"
    }
   },
   "source": [
    "Página 49 del Larson"
   ]
  },
  {
   "cell_type": "markdown",
   "id": "f6c66efe",
   "metadata": {
    "slideshow": {
     "slide_type": "slide"
    }
   },
   "source": [
    "### Problema de longitud.  \n",
    "\n",
    "Una recta que pasa por el punto $(3, 2)$ forma con los ejes $x$ y $y$ un triángulo rectángulo en el primer cuadrante (ver la figura).   \n",
    "\n",
    "Expresar la longitud $L$ de la hipotenusa como función de $x$.\n"
   ]
  },
  {
   "cell_type": "markdown",
   "id": "619ea736",
   "metadata": {
    "slideshow": {
     "slide_type": "slide"
    }
   },
   "source": [
    "<img src = 'https://github.com/marco-canas/calculo_I/blob/main/banco_ejemplos/1_funciones/ejer_98_sec_p3_larson.png?raw=true'>"
   ]
  },
  {
   "cell_type": "code",
   "execution_count": 6,
   "id": "ac37d443",
   "metadata": {
    "slideshow": {
     "slide_type": "slide"
    }
   },
   "outputs": [
    {
     "data": {
      "application/vnd.jupyter.widget-view+json": {
       "model_id": "d3bcaab4eb944f6a8a83c07ba84718b6",
       "version_major": 2,
       "version_minor": 0
      },
      "text/plain": [
       "interactive(children=(FloatSlider(value=5.0, description='x', max=10.1, min=3.1), Output()), _dom_classes=('wi…"
      ]
     },
     "metadata": {},
     "output_type": "display_data"
    },
    {
     "data": {
      "text/plain": [
       "<function __main__.variacion(x=5)>"
      ]
     },
     "execution_count": 6,
     "metadata": {},
     "output_type": "execute_result"
    }
   ],
   "source": [
    "import numpy as np \n",
    "import matplotlib.pyplot as plt \n",
    "from ipywidgets import interact \n",
    "\n",
    "def variacion(x = 5): \n",
    "    fig, ax = plt.subplots()\n",
    "    ax.scatter([3],[2], color = 'red') \n",
    "    # otro punto del segmento es (a,0)\n",
    "    X = np.array([0,x]) \n",
    "    Y = (2-0)/(3-x)*(X - 3) + 2\n",
    "    ax.plot(X,Y)               # y = m(x-x0) + y0 con (x0,y0) = (3,2)\n",
    "    ax.grid() \n",
    "    ax.axis([-1,11,-1,11])\n",
    "    plt.show() \n",
    "    \n",
    "    \n",
    "interact(variacion, x = (3.1, 10.1,0.1))      \n",
    "\n"
   ]
  },
  {
   "cell_type": "markdown",
   "id": "6a607187",
   "metadata": {
    "slideshow": {
     "slide_type": "slide"
    }
   },
   "source": [
    "## Solución"
   ]
  },
  {
   "cell_type": "markdown",
   "id": "8b4fe535",
   "metadata": {
    "slideshow": {
     "slide_type": "slide"
    }
   },
   "source": [
    "Denotemos a los puntos $(x,0)$ y $(0,y)$ con las letras $A$ y $B$ respectivamente. "
   ]
  },
  {
   "cell_type": "markdown",
   "id": "aa531a62",
   "metadata": {
    "slideshow": {
     "slide_type": "slide"
    }
   },
   "source": [
    "Denotemos el punto dado fijo $(3,2)$ como el punto $C$"
   ]
  },
  {
   "cell_type": "markdown",
   "id": "5d0e41c4",
   "metadata": {
    "slideshow": {
     "slide_type": "slide"
    }
   },
   "source": [
    "Entonces, la longitud $L$ del segmento $AB$ es la distancia entre estos dos puntos, es decir, \n",
    "\n",
    "$$ L = \\sqrt{(x-0)^{2} + (0-y)^{2}} = \\sqrt{x^{2} + y^{2}} $$\n"
   ]
  },
  {
   "cell_type": "markdown",
   "id": "8757415e",
   "metadata": {
    "slideshow": {
     "slide_type": "slide"
    }
   },
   "source": [
    "Como La pendiente del segmento la podemos calcular a través de los extremos del segmento y a través de los puntos A y C. "
   ]
  },
  {
   "cell_type": "markdown",
   "id": "79643b00",
   "metadata": {},
   "source": [
    "$$ m_{AB} = \\frac{}{} $$"
   ]
  },
  {
   "cell_type": "code",
   "execution_count": null,
   "id": "61cc6ce2",
   "metadata": {},
   "outputs": [],
   "source": []
  },
  {
   "cell_type": "code",
   "execution_count": null,
   "id": "9d8d50d8",
   "metadata": {},
   "outputs": [],
   "source": []
  }
 ],
 "metadata": {
  "celltoolbar": "Slideshow",
  "kernelspec": {
   "display_name": "Python 3",
   "language": "python",
   "name": "python3"
  },
  "language_info": {
   "codemirror_mode": {
    "name": "ipython",
    "version": 3
   },
   "file_extension": ".py",
   "mimetype": "text/x-python",
   "name": "python",
   "nbconvert_exporter": "python",
   "pygments_lexer": "ipython3",
   "version": "3.8.8"
  },
  "latex_envs": {
   "LaTeX_envs_menu_present": true,
   "autoclose": false,
   "autocomplete": false,
   "bibliofile": "biblio.bib",
   "cite_by": "apalike",
   "current_citInitial": 1,
   "eqLabelWithNumbers": true,
   "eqNumInitial": 1,
   "hotkeys": {
    "equation": "Ctrl-E",
    "itemize": "Ctrl-I"
   },
   "labels_anchors": false,
   "latex_user_defs": false,
   "report_style_numbering": false,
   "user_envs_cfg": false
  }
 },
 "nbformat": 4,
 "nbformat_minor": 5
}
