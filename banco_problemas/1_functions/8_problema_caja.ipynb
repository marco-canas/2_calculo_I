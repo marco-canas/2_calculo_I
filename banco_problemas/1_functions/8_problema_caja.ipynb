{
 "cells": [
  {
   "cell_type": "markdown",
   "id": "59ca3581",
   "metadata": {},
   "source": [
    "<table align=\"left\">\n",
    "  <td>\n",
    "    <a href=\"https://colab.research.google.com/github/marco-canas/introducci-n-al-Machine-Learning/blob/main/classes/class_10/class_10_taller_numpy.ipynb\" target=\"_parent\"><img src=\"https://colab.research.google.com/assets/colab-badge.svg\" alt=\"Open In Colab\"/></a>\n",
    "  </td>\n",
    "  <td>\n",
    "    <a target=\"_blank\" href=\"https://kaggle.com/kernels/welcome?src=https://github.com/marco-canas/introducci-n-al-Machine-Learning/blob/main/classes/class_10/class_10_taller_numpy.ipynb\"><img src=\"https://kaggle.com/static/images/open-in-kaggle.svg\" /></a>\n",
    "  </td>\n",
    "</table> \n"
   ]
  },
  {
   "cell_type": "markdown",
   "id": "10862e80",
   "metadata": {},
   "source": [
    "## Construcción de función de Volumen: \n",
    "\n",
    "Se va a construir una caja abierta (sin tapa) de volumen máximo con una pieza cuadrada de material de 24 centímetros de lado, recortando cuadrados iguales en las esquinas y doblando los lados hacia arriba (ver la figura)."
   ]
  },
  {
   "cell_type": "markdown",
   "id": "5f5667c1",
   "metadata": {},
   "source": [
    "<img src = 'https://github.com/marco-canas/calculo_I/blob/main/banco_ejemplos/1_funciones/ejer_93_sec_P3_larson.png?raw=true'>"
   ]
  },
  {
   "cell_type": "markdown",
   "id": "628839e9",
   "metadata": {},
   "source": [
    " a) Expresar el volumen $V$ como función de $x$, que es la longitud de las esquinas cuadradas. ¿Cuál es el dominio de la \n",
    "función?\n"
   ]
  },
  {
   "cell_type": "markdown",
   "id": "4563879e",
   "metadata": {},
   "source": [
    "b) Utilizar una herramienta de graficación para representar la función volumen y aproximar las dimensiones de la caja \n",
    "que producen el volumen máximo.  "
   ]
  },
  {
   "cell_type": "markdown",
   "id": "7cbd4427",
   "metadata": {},
   "source": [
    " c) Utilizar la función tabla de la herramienta de graficación para verificar su respuesta del apartado b). (Se muestran los dos primeros renglones de la tabla.)"
   ]
  },
  {
   "cell_type": "markdown",
   "id": "157c52ec",
   "metadata": {},
   "source": [
    "<img src = ''>"
   ]
  },
  {
   "cell_type": "markdown",
   "id": "3c7681af",
   "metadata": {},
   "source": [
    "## Solución: "
   ]
  },
  {
   "cell_type": "markdown",
   "id": "5b1f5241",
   "metadata": {},
   "source": [
    "a) \n",
    "\n",
    "$$ V = x(24-2x)^{2}   \\nonumber $$\n"
   ]
  },
  {
   "cell_type": "code",
   "execution_count": null,
   "id": "a6c0aeb4",
   "metadata": {},
   "outputs": [],
   "source": []
  },
  {
   "cell_type": "code",
   "execution_count": null,
   "id": "886dd128",
   "metadata": {},
   "outputs": [],
   "source": []
  }
 ],
 "metadata": {
  "kernelspec": {
   "display_name": "Python 3",
   "language": "python",
   "name": "python3"
  },
  "language_info": {
   "codemirror_mode": {
    "name": "ipython",
    "version": 3
   },
   "file_extension": ".py",
   "mimetype": "text/x-python",
   "name": "python",
   "nbconvert_exporter": "python",
   "pygments_lexer": "ipython3",
   "version": "3.8.8"
  },
  "latex_envs": {
   "LaTeX_envs_menu_present": true,
   "autoclose": false,
   "autocomplete": false,
   "bibliofile": "biblio.bib",
   "cite_by": "apalike",
   "current_citInitial": 1,
   "eqLabelWithNumbers": true,
   "eqNumInitial": 1,
   "hotkeys": {
    "equation": "Ctrl-E",
    "itemize": "Ctrl-I"
   },
   "labels_anchors": false,
   "latex_user_defs": false,
   "report_style_numbering": false,
   "user_envs_cfg": false
  }
 },
 "nbformat": 4,
 "nbformat_minor": 5
}
