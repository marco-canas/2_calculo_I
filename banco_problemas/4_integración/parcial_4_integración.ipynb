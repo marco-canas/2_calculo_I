{
 "cells": [
  {
   "cell_type": "markdown",
   "id": "fa3e4827",
   "metadata": {
    "slideshow": {
     "slide_type": "slide"
    }
   },
   "source": [
    "<table align=\"left\">\n",
    "  <td>\n",
    "    <a href=\"https://colab.research.google.com/github/marco-canas/intro-Machine-Learning/blob/main/classes/class_18/class_18_pipeline_linear_regression.ipynb\" target=\"_parent\"><img src=\"https://colab.research.google.com/assets/colab-badge.svg\" alt=\"Open In Colab\"/></a>\n",
    "  </td>\n",
    "</table> "
   ]
  },
  {
   "cell_type": "markdown",
   "id": "db8766e7",
   "metadata": {
    "slideshow": {
     "slide_type": "slide"
    }
   },
   "source": [
    "# Parcial 4 sobre integración "
   ]
  },
  {
   "cell_type": "markdown",
   "id": "73caae4a",
   "metadata": {
    "slideshow": {
     "slide_type": "slide"
    }
   },
   "source": [
    "utilizar la gráfica de $f'$ para dibujar una gráfica de $f$.\n",
    "\n",
    "Elabore una conclusión de su proceso de graficación. \n"
   ]
  },
  {
   "cell_type": "code",
   "execution_count": 4,
   "id": "cf3b44b8",
   "metadata": {
    "scrolled": true,
    "slideshow": {
     "slide_type": "slide"
    }
   },
   "outputs": [
    {
     "data": {
      "image/png": "[encoded data removed]",
      "text/plain": [
       "<Figure size 432x288 with 1 Axes>"
      ]
     },
     "metadata": {
      "needs_background": "light"
     },
     "output_type": "display_data"
    }
   ],
   "source": [
    "import numpy as np\n",
    "import matplotlib.pyplot as plt \n",
    "\n",
    "x = np.linspace(-3,3)\n",
    "\n",
    "plt.plot(x,1-x**2, 'r-')\n",
    "plt.grid(alpha = 0.6)\n",
    "\n",
    "# eje x\n",
    "\n",
    "plt.plot([-3,3],[0,0], color = 'b')\n",
    "\n",
    "# eje y \n",
    "\n",
    "plt.plot([0,0],[-9,2], color = 'b')\n",
    "\n",
    "plt.xlabel('x')\n",
    "plt.ylabel('y') \n",
    "\n",
    "plt.show() "
   ]
  },
  {
   "cell_type": "markdown",
   "id": "48efdd91",
   "metadata": {
    "slideshow": {
     "slide_type": "slide"
    }
   },
   "source": [
    "## Punto 2"
   ]
  },
  {
   "cell_type": "markdown",
   "id": "fe556f6b",
   "metadata": {
    "slideshow": {
     "slide_type": "slide"
    }
   },
   "source": [
    "Encontrar la integral indefinida\n",
    "\n",
    "$$ \\int (1 + x + x^{2} + x^{3}) dx $$\n"
   ]
  },
  {
   "cell_type": "markdown",
   "id": "fd3ae12b",
   "metadata": {
    "slideshow": {
     "slide_type": "slide"
    }
   },
   "source": [
    "## Punto 3 "
   ]
  },
  {
   "cell_type": "markdown",
   "id": "343c4ad5",
   "metadata": {
    "slideshow": {
     "slide_type": "slide"
    }
   },
   "source": [
    "dibujar la región cuya área está dada por la integral definida. Utilizar después una fórmula geométrica para calcular la integral.  \n",
    "\n",
    "$$ \\int_{0}^{1}x dx  $$\n",
    "y finalmente calcular el área realizando el proceso de integración visto en clase.  Elabore una conclusión de la comparación de los resultados con la formula geométrica y con el proceso de integración. "
   ]
  },
  {
   "cell_type": "code",
   "execution_count": null,
   "id": "aef0173f",
   "metadata": {},
   "outputs": [],
   "source": []
  }
 ],
 "metadata": {
  "celltoolbar": "Slideshow",
  "kernelspec": {
   "display_name": "Python 3 (ipykernel)",
   "language": "python",
   "name": "python3"
  },
  "language_info": {
   "codemirror_mode": {
    "name": "ipython",
    "version": 3
   },
   "file_extension": ".py",
   "mimetype": "text/x-python",
   "name": "python",
   "nbconvert_exporter": "python",
   "pygments_lexer": "ipython3",
   "version": "3.9.7"
  }
 },
 "nbformat": 4,
 "nbformat_minor": 5
}
