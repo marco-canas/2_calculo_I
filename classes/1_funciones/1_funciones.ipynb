{
 "cells": [
  {
   "cell_type": "markdown",
   "id": "fd9d68fe",
   "metadata": {
    "slideshow": {
     "slide_type": "slide"
    }
   },
   "source": [
    "<table align=\"left\">\n",
    "  <td>\n",
    "    <a href=\"https://colab.research.google.com/github/marco-canas/introducci-n-al-Machine-Learning/blob/main/classes/class_10/class_10_taller_numpy.ipynb\" target=\"_parent\"><img src=\"https://colab.research.google.com/assets/colab-badge.svg\" alt=\"Open In Colab\"/></a>\n",
    "  </td>\n",
    "  <td>\n",
    "    <a target=\"_blank\" href=\"https://kaggle.com/kernels/welcome?src=https://github.com/marco-canas/introducci-n-al-Machine-Learning/blob/main/classes/class_10/class_10_taller_numpy.ipynb\"><img src=\"https://kaggle.com/static/images/open-in-kaggle.svg\" /></a>\n",
    "  </td>\n",
    "</table> \n"
   ]
  },
  {
   "cell_type": "markdown",
   "id": "e7ed3d92",
   "metadata": {
    "slideshow": {
     "slide_type": "slide"
    }
   },
   "source": [
    "# Funciones y notación de funciones "
   ]
  },
  {
   "cell_type": "markdown",
   "id": "7a67fcf3",
   "metadata": {
    "slideshow": {
     "slide_type": "slide"
    }
   },
   "source": [
    "Una relación entre dos conjuntos X y Y es un conjunto de pares ordenados, cada uno de la forma (x, y), donde x es un elemento de X y y un elemento de Y. "
   ]
  },
  {
   "cell_type": "markdown",
   "id": "c06274f8",
   "metadata": {
    "slideshow": {
     "slide_type": "slide"
    }
   },
   "source": [
    "Una función de X a Y es una relación entre X y Y con la propiedad de que si dos pares ordenados tienen el mismo valor de x, entonces también tienen el mismo valor de y. "
   ]
  },
  {
   "cell_type": "markdown",
   "id": "0fb5e82f",
   "metadata": {
    "slideshow": {
     "slide_type": "slide"
    }
   },
   "source": [
    "La variable x se denomina variable independiente, mientras que la variable y se denomina variable dependiente."
   ]
  },
  {
   "cell_type": "markdown",
   "id": "21427a25",
   "metadata": {
    "slideshow": {
     "slide_type": "slide"
    }
   },
   "source": [
    "Muchas situaciones de la vida real pueden describirse mediante funciones. Por ejemplo, \n",
    "el área A de un círculo es una función de su radio r.\n",
    "\n",
    "$$ A = \\pi r^{2}   \\nonumber $$\n",
    "\n",
    "$A$ es una función de $r$.\n",
    "\n",
    "En este caso, $r$ es la variable independiente y $A$, la variable dependiente."
   ]
  },
  {
   "cell_type": "markdown",
   "id": "acd7d88c",
   "metadata": {
    "slideshow": {
     "slide_type": "slide"
    }
   },
   "source": [
    "## Definición de función"
   ]
  },
  {
   "cell_type": "markdown",
   "id": "45f7f5cb",
   "metadata": {
    "slideshow": {
     "slide_type": "slide"
    }
   },
   "source": [
    "Sean X y Y conjuntos de números reales. Una función real f de una variable real x de X a Y es una regla de correspondencia que asigna a cada número x de X exactamente un número y de Y."
   ]
  },
  {
   "cell_type": "markdown",
   "id": "00003a61",
   "metadata": {
    "slideshow": {
     "slide_type": "slide"
    }
   },
   "source": [
    "El dominio de f es el conjunto X. El número y es la imagen de x por f y se denota mediante f(x), a lo cual se le llama el valor de f en x. "
   ]
  },
  {
   "cell_type": "markdown",
   "id": "a14fd656",
   "metadata": {
    "slideshow": {
     "slide_type": "slide"
    }
   },
   "source": [
    "El recorrido o rango de f se define como el subconjunto de Y formado por todas las imágenes de los números de\n",
    "X."
   ]
  },
  {
   "cell_type": "markdown",
   "id": "da2e4cd9",
   "metadata": {
    "slideshow": {
     "slide_type": "slide"
    }
   },
   "source": []
  },
  {
   "cell_type": "markdown",
   "id": "7296ca43",
   "metadata": {
    "slideshow": {
     "slide_type": "slide"
    }
   },
   "source": [
    "## Evaluación de funciones"
   ]
  },
  {
   "cell_type": "code",
   "execution_count": 8,
   "id": "78d66253",
   "metadata": {
    "slideshow": {
     "slide_type": "slide"
    }
   },
   "outputs": [],
   "source": [
    "from sympy import * \n",
    "x,y,f = symbols('x,y,f')\n",
    "a,b,h = symbols('a,b,h') \n",
    "f = Function('f')(x)\n"
   ]
  },
  {
   "cell_type": "code",
   "execution_count": 9,
   "id": "a1017b05",
   "metadata": {
    "slideshow": {
     "slide_type": "slide"
    }
   },
   "outputs": [],
   "source": [
    "def f(x):\n",
    "    return 2*x"
   ]
  },
  {
   "cell_type": "code",
   "execution_count": 10,
   "id": "ea693a25",
   "metadata": {
    "slideshow": {
     "slide_type": "slide"
    }
   },
   "outputs": [
    {
     "data": {
      "text/latex": [
       "$\\displaystyle 2 a$"
      ],
      "text/plain": [
       "2*a"
      ]
     },
     "execution_count": 10,
     "metadata": {},
     "output_type": "execute_result"
    }
   ],
   "source": [
    "f(a)"
   ]
  },
  {
   "cell_type": "code",
   "execution_count": null,
   "id": "9017d1b6",
   "metadata": {},
   "outputs": [],
   "source": []
  },
  {
   "cell_type": "code",
   "execution_count": null,
   "id": "34db6128",
   "metadata": {},
   "outputs": [],
   "source": []
  },
  {
   "cell_type": "code",
   "execution_count": null,
   "id": "61e5ba54",
   "metadata": {},
   "outputs": [],
   "source": []
  },
  {
   "cell_type": "markdown",
   "id": "9147a2a0",
   "metadata": {
    "slideshow": {
     "slide_type": "slide"
    }
   },
   "source": [
    "# Límites de funciones "
   ]
  },
  {
   "cell_type": "code",
   "execution_count": null,
   "id": "c8889542",
   "metadata": {
    "slideshow": {
     "slide_type": "slide"
    }
   },
   "outputs": [],
   "source": []
  },
  {
   "cell_type": "code",
   "execution_count": null,
   "id": "11799996",
   "metadata": {},
   "outputs": [],
   "source": []
  }
 ],
 "metadata": {
  "celltoolbar": "Slideshow",
  "kernelspec": {
   "display_name": "Python 3",
   "language": "python",
   "name": "python3"
  },
  "language_info": {
   "codemirror_mode": {
    "name": "ipython",
    "version": 3
   },
   "file_extension": ".py",
   "mimetype": "text/x-python",
   "name": "python",
   "nbconvert_exporter": "python",
   "pygments_lexer": "ipython3",
   "version": "3.8.8"
  },
  "latex_envs": {
   "LaTeX_envs_menu_present": true,
   "autoclose": false,
   "autocomplete": false,
   "bibliofile": "biblio.bib",
   "cite_by": "apalike",
   "current_citInitial": 1,
   "eqLabelWithNumbers": true,
   "eqNumInitial": 1,
   "hotkeys": {
    "equation": "Ctrl-E",
    "itemize": "Ctrl-I"
   },
   "labels_anchors": false,
   "latex_user_defs": false,
   "report_style_numbering": false,
   "user_envs_cfg": false
  }
 },
 "nbformat": 4,
 "nbformat_minor": 5
}
