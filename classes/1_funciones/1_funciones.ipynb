{
 "cells": [
  {
   "cell_type": "markdown",
   "id": "b8a82043",
   "metadata": {
    "slideshow": {
     "slide_type": "slide"
    }
   },
   "source": [
    "<table align=\"left\">\n",
    "  <td>\n",
    "    <a href=\"https://colab.research.google.com/github/marco-canas/calculo_I/blob/main/classes/1_funciones/1_funciones.ipynb\" target=\"_parent\"><img src=\"https://colab.research.google.com/assets/colab-badge.svg\" alt=\"Open In Colab\"/></a>\n",
    "  </td>\n",
    "  <td>\n",
    "    <a target=\"_blank\" href=\"https://kaggle.com/kernels/welcome?src=https://github.com/marco-canas/calculo_I/blob/main/classes/1_funciones/1_funciones.ipynb\"><img src=\"https://kaggle.com/static/images/open-in-kaggle.svg\" /></a>\n",
    "  </td>\n",
    "</table> \n"
   ]
  },
  {
   "cell_type": "code",
   "execution_count": 20,
   "id": "f17fafa5",
   "metadata": {
    "slideshow": {
     "slide_type": "slide"
    }
   },
   "outputs": [],
   "source": [
    "def estudiante_que_va_a_participar():\n",
    "    import numpy as np \n",
    "    import pandas as pd \n",
    "    grupo_calculo = pd.read_csv('grupo_calculo.csv', sep = ',')\n",
    "    from random import choice\n",
    "    lista_estudiantes = grupo_calculo.Nombre\n",
    "    for i in range(len(grupo_calculo.Nombre)):\n",
    "        estudiante_a_participar = choice(lista_estudiantes)\n",
    "\n",
    "    return estudiante_participar\n",
    "\n",
    "# grupo_intro_ml.head() "
   ]
  },
  {
   "cell_type": "code",
   "execution_count": 25,
   "id": "63f91570",
   "metadata": {
    "slideshow": {
     "slide_type": "slide"
    }
   },
   "outputs": [
    {
     "data": {
      "text/plain": [
       "'MOSQUERA PALACIO ANYI YULIETH'"
      ]
     },
     "execution_count": 25,
     "metadata": {},
     "output_type": "execute_result"
    }
   ],
   "source": [
    "estudiante_que_va_a_participar() "
   ]
  },
  {
   "cell_type": "code",
   "execution_count": null,
   "id": "5b4ae9ef",
   "metadata": {},
   "outputs": [],
   "source": [
    "# Función para asignar grupos de ejercicios sin repetición\n",
    "import numpy as np \n",
    "import pandas as pd \n",
    "\n",
    "grupoCalculo_df = pd.read_csv('grupo_calculo.csv')\n",
    "\n",
    "\n",
    "n_ejer_asignados = 3\n",
    "tamaño_taller = 33\n",
    "estudiantes = grupoCalculo_df.Nombre\n",
    "\n",
    "def asignacion_parcial(estudiantes, tamaño_taller, n_ejer_asignados):\n",
    "    np.random.seed(513)\n",
    "    lista_ejercicios = list(range(1,tamaño_taller+1))  \n",
    "    # Construyamos una matriz cuyas filas sean los ejercicios asignados por estudiante\n",
    "    matriz_ejercicios = np.zeros( (len(estudiantes), n_ejer_asignados) , dtype = np.int32)\n",
    "    for estudiante in range(len(estudiantes)):\n",
    "        for ejercicio in range(n_ejer_asignados):\n",
    "            matriz_ejercicios[estudiante, ejercicio] = np.random.choice(lista_ejercicios)\n",
    "            lista_ejercicios.remove(matriz_ejercicios[estudiante, ejercicio])\n",
    "    asignación = pd.Series(\n",
    "                           {estudiante:matriz_ejercicios[i,:] \\\n",
    "                            for estudiante,i in zip(estudiantes, range(len(estudiantes)))\n",
    "                             }\n",
    "                             )        \n",
    "    return  asignación\n",
    "\n",
    "asignacion_parcial(estudiantes, tamaño_taller, n_ejer_asignados)"
   ]
  },
  {
   "cell_type": "markdown",
   "id": "14a4ff8f",
   "metadata": {
    "slideshow": {
     "slide_type": "slide"
    }
   },
   "source": [
    "# Funciones y notación de funciones "
   ]
  },
  {
   "cell_type": "markdown",
   "id": "289be104",
   "metadata": {
    "slideshow": {
     "slide_type": "slide"
    }
   },
   "source": [
    "Una relación entre dos conjuntos $X$ y $Y$ es un conjunto de pares ordenados, cada uno de la forma $(x, y)$, donde $x$ es un elemento de $X$ y $y$ un elemento de $Y$. "
   ]
  },
  {
   "cell_type": "markdown",
   "id": "5d2415ca",
   "metadata": {
    "slideshow": {
     "slide_type": "slide"
    }
   },
   "source": [
    "Una función de X a Y es una relación entre X y Y con la propiedad de que si dos pares ordenados tienen el mismo valor de x, entonces también tienen el mismo valor de y. "
   ]
  },
  {
   "cell_type": "markdown",
   "id": "9cb4dcc8",
   "metadata": {
    "slideshow": {
     "slide_type": "slide"
    }
   },
   "source": [
    "La variable x se denomina variable independiente, mientras que la variable y se denomina variable dependiente."
   ]
  },
  {
   "cell_type": "markdown",
   "id": "5765725c",
   "metadata": {
    "slideshow": {
     "slide_type": "slide"
    }
   },
   "source": [
    "Muchas situaciones de la vida real pueden describirse mediante funciones. Por ejemplo, \n",
    "el área A de un círculo es una función de su radio r.\n",
    "\n",
    "$$ A = \\pi r^{2}   \\nonumber $$\n",
    "\n",
    "$A$ es una función de $r$.\n",
    "\n",
    "En este caso, $r$ es la variable independiente y $A$, la variable dependiente."
   ]
  },
  {
   "cell_type": "markdown",
   "id": "16377d0d",
   "metadata": {
    "slideshow": {
     "slide_type": "slide"
    }
   },
   "source": [
    "## Definición de función"
   ]
  },
  {
   "cell_type": "markdown",
   "id": "6c1d6f68",
   "metadata": {
    "slideshow": {
     "slide_type": "slide"
    }
   },
   "source": [
    "Sean X y Y conjuntos de números reales. Una función real f de una variable real x de X a Y es una regla de correspondencia que asigna a cada número x de X exactamente un número y de Y."
   ]
  },
  {
   "cell_type": "markdown",
   "id": "0c108851",
   "metadata": {
    "slideshow": {
     "slide_type": "slide"
    }
   },
   "source": [
    "El dominio de f es el conjunto X. El número y es la imagen de x por f y se denota mediante f(x), a lo cual se le llama el valor de f en x. "
   ]
  },
  {
   "cell_type": "markdown",
   "id": "7977db66",
   "metadata": {
    "slideshow": {
     "slide_type": "slide"
    }
   },
   "source": [
    "El recorrido o rango de f se define como el subconjunto de Y formado por todas las imágenes de los números de\n",
    "X."
   ]
  },
  {
   "cell_type": "markdown",
   "id": "7e180a09",
   "metadata": {
    "slideshow": {
     "slide_type": "slide"
    }
   },
   "source": [
    "## Evaluación de funciones"
   ]
  },
  {
   "cell_type": "code",
   "execution_count": 42,
   "id": "81c5368d",
   "metadata": {
    "slideshow": {
     "slide_type": "slide"
    }
   },
   "outputs": [],
   "source": [
    "from sympy import * \n",
    "x,y,f = symbols('x,y,f')\n",
    "a,b,h = symbols('a,b,h') \n",
    "f = Function('f')(x)\n"
   ]
  },
  {
   "cell_type": "code",
   "execution_count": 43,
   "id": "d6062b9d",
   "metadata": {
    "slideshow": {
     "slide_type": "slide"
    }
   },
   "outputs": [],
   "source": [
    "def f(x):\n",
    "    return 7*x-4"
   ]
  },
  {
   "cell_type": "code",
   "execution_count": 41,
   "id": "76524f71",
   "metadata": {
    "slideshow": {
     "slide_type": "slide"
    }
   },
   "outputs": [
    {
     "data": {
      "text/latex": [
       "$\\displaystyle 7 x - 11$"
      ],
      "text/plain": [
       "7*x - 11"
      ]
     },
     "execution_count": 41,
     "metadata": {},
     "output_type": "execute_result"
    }
   ],
   "source": [
    "f(x-1)"
   ]
  },
  {
   "cell_type": "markdown",
   "id": "8fe8beab",
   "metadata": {
    "slideshow": {
     "slide_type": "slide"
    }
   },
   "source": [
    "[Comportamiento del covic 19 en sudafrica](https://elpais.com/sociedad/2021-12-28/los-contagios-de-la-omicron-descienden-en-sudafrica-tan-rapido-como-subieron.html) "
   ]
  },
  {
   "cell_type": "markdown",
   "id": "682dd4ef",
   "metadata": {
    "slideshow": {
     "slide_type": "slide"
    }
   },
   "source": [
    "# La función seno "
   ]
  },
  {
   "cell_type": "code",
   "execution_count": 34,
   "id": "4f0bbc15",
   "metadata": {
    "slideshow": {
     "slide_type": "slide"
    }
   },
   "outputs": [],
   "source": [
    "import numpy as np \n",
    "import matplotlib.pyplot as plt \n",
    "%matplotlib inline "
   ]
  },
  {
   "cell_type": "code",
   "execution_count": 35,
   "id": "9d525b37",
   "metadata": {},
   "outputs": [
    {
     "data": {
      "text/plain": [
       "[<matplotlib.lines.Line2D at 0x1bd24426c40>]"
      ]
     },
     "execution_count": 35,
     "metadata": {},
     "output_type": "execute_result"
    },
    {
     "data": {
      "image/png": "[encoded data removed]",
      "text/plain": [
       "<Figure size 432x288 with 1 Axes>"
      ]
     },
     "metadata": {
      "needs_background": "light"
     },
     "output_type": "display_data"
    }
   ],
   "source": [
    "x = np.linspace(-2*np.pi, 2*np.pi, 100)\n",
    "y = np.sin(x) \n",
    "plt.plot(x,y)"
   ]
  },
  {
   "cell_type": "code",
   "execution_count": null,
   "id": "4438c42f",
   "metadata": {},
   "outputs": [],
   "source": []
  },
  {
   "cell_type": "code",
   "execution_count": null,
   "id": "98b6f6bf",
   "metadata": {},
   "outputs": [],
   "source": []
  },
  {
   "cell_type": "markdown",
   "id": "8391a106",
   "metadata": {
    "slideshow": {
     "slide_type": "slide"
    }
   },
   "source": [
    "# Límites de funciones "
   ]
  },
  {
   "cell_type": "code",
   "execution_count": null,
   "id": "8aeba2b8",
   "metadata": {
    "slideshow": {
     "slide_type": "slide"
    }
   },
   "outputs": [],
   "source": []
  },
  {
   "cell_type": "code",
   "execution_count": null,
   "id": "e29010ec",
   "metadata": {},
   "outputs": [],
   "source": []
  }
 ],
 "metadata": {
  "celltoolbar": "Slideshow",
  "kernelspec": {
   "display_name": "Python 3 (ipykernel)",
   "language": "python",
   "name": "python3"
  },
  "language_info": {
   "codemirror_mode": {
    "name": "ipython",
    "version": 3
   },
   "file_extension": ".py",
   "mimetype": "text/x-python",
   "name": "python",
   "nbconvert_exporter": "python",
   "pygments_lexer": "ipython3",
   "version": "3.9.7"
  },
  "latex_envs": {
   "LaTeX_envs_menu_present": true,
   "autoclose": false,
   "autocomplete": false,
   "bibliofile": "biblio.bib",
   "cite_by": "apalike",
   "current_citInitial": 1,
   "eqLabelWithNumbers": true,
   "eqNumInitial": 1,
   "hotkeys": {
    "equation": "Ctrl-E",
    "itemize": "Ctrl-I"
   },
   "labels_anchors": false,
   "latex_user_defs": false,
   "report_style_numbering": false,
   "user_envs_cfg": false
  }
 },
 "nbformat": 4,
 "nbformat_minor": 5
}
