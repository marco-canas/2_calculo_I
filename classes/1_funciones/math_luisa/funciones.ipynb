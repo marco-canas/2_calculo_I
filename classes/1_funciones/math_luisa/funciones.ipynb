{
 "cells": [
  {
   "cell_type": "markdown",
   "id": "492d702e",
   "metadata": {
    "slideshow": {
     "slide_type": "slide"
    }
   },
   "source": [
    "\n",
    "<table align=\"left\">\n",
    "  <td>\n",
    "    <a href=\"https://colab.research.google.com/github/marco-canas/calculo_I/blob/main/classes/1_funciones/math_luisa/funciones.ipynb?authuser=1\" target=\"_parent\"><img src=\"https://colab.research.google.com/assets/colab-badge.svg\" alt=\"Open In Colab\"/></a>\n",
    "  </td>\n",
    "  <td>\n",
    "    <a target=\"_blank\" href=\"https://kaggle.com/kernels/welcome?src=https://github.com/marco-canas/calculo_I/blob/main/classes/1_funciones/math_luisa/funciones.ipynb?authuser=1\"><img src=\"https://kaggle.com/static/images/open-in-kaggle.svg\" /></a>\n",
    "  </td>\n",
    "</table> \n"
   ]
  },
  {
   "cell_type": "markdown",
   "id": "7c8607cf",
   "metadata": {
    "slideshow": {
     "slide_type": "slide"
    }
   },
   "source": [
    "# Feria de matemáticas \n",
    "\n",
    "1. Arte  \n",
    "2. Música  \n",
    "3. **Tecnología**  \n",
    "4. Salud  \n",
    "5. Medio ambiente  \n",
    "6. Apuestas  \n",
    "7. Deportes"
   ]
  },
  {
   "cell_type": "markdown",
   "id": "88f45e0b",
   "metadata": {
    "slideshow": {
     "slide_type": "slide"
    }
   },
   "source": [
    "## Preconceptos"
   ]
  },
  {
   "cell_type": "markdown",
   "id": "c8257b94",
   "metadata": {
    "slideshow": {
     "slide_type": "slide"
    }
   },
   "source": [
    "* Inecuaciones lineales \n",
    "* Ineacuciones cuadráticas \n"
   ]
  },
  {
   "cell_type": "markdown",
   "id": "b050d709",
   "metadata": {
    "slideshow": {
     "slide_type": "slide"
    }
   },
   "source": [
    "## Ejemplo: Resuelva\n",
    "\n",
    "$$ x-1 > 0 $$\n"
   ]
  },
  {
   "cell_type": "code",
   "execution_count": 3,
   "id": "ee9541cd",
   "metadata": {
    "slideshow": {
     "slide_type": "slide"
    }
   },
   "outputs": [
    {
     "data": {
      "image/png": "[encoded data removed]",
      "text/plain": [
       "<Figure size 432x288 with 1 Axes>"
      ]
     },
     "metadata": {
      "needs_background": "light"
     },
     "output_type": "display_data"
    }
   ],
   "source": [
    "import numpy as np \n",
    "import pandas as pd \n",
    "import matplotlib.pyplot as plt \n",
    "\n",
    "x = np.array([-3,3]) \n",
    "y = x-1\n",
    "\n",
    "plt.plot(x,y)\n",
    "\n",
    "plt.show() \n"
   ]
  },
  {
   "cell_type": "markdown",
   "id": "7851c874",
   "metadata": {
    "slideshow": {
     "slide_type": "slide"
    }
   },
   "source": [
    "Ejemplo Resuelva:\n",
    "\n",
    "$$x^{2} - 2x - 8$$"
   ]
  },
  {
   "cell_type": "markdown",
   "id": "de91a5b3",
   "metadata": {
    "slideshow": {
     "slide_type": "slide"
    }
   },
   "source": [
    "# Funciones"
   ]
  },
  {
   "cell_type": "markdown",
   "id": "d05961d0",
   "metadata": {},
   "source": [
    "## Criterio de la recta vertical\n"
   ]
  },
  {
   "cell_type": "markdown",
   "id": "2f4a063c",
   "metadata": {},
   "source": [
    "## Evaluar funciones "
   ]
  },
  {
   "cell_type": "markdown",
   "id": "6e67a3be",
   "metadata": {},
   "source": [
    "## Dominio de una función\n"
   ]
  },
  {
   "cell_type": "code",
   "execution_count": 4,
   "id": "2cf54d4e",
   "metadata": {},
   "outputs": [
    {
     "ename": "ZeroDivisionError",
     "evalue": "division by zero",
     "output_type": "error",
     "traceback": [
      "\u001b[1;31m---------------------------------------------------------------------------\u001b[0m",
      "\u001b[1;31mZeroDivisionError\u001b[0m                         Traceback (most recent call last)",
      "\u001b[1;32m~\\AppData\\Local\\Temp/ipykernel_16160/600699680.py\u001b[0m in \u001b[0;36m<module>\u001b[1;34m\u001b[0m\n\u001b[1;32m----> 1\u001b[1;33m \u001b[1;36m8\u001b[0m\u001b[1;33m/\u001b[0m\u001b[1;36m0\u001b[0m\u001b[1;33m\u001b[0m\u001b[1;33m\u001b[0m\u001b[0m\n\u001b[0m",
      "\u001b[1;31mZeroDivisionError\u001b[0m: division by zero"
     ]
    }
   ],
   "source": [
    "8/0"
   ]
  },
  {
   "cell_type": "code",
   "execution_count": 3,
   "id": "1281e842",
   "metadata": {},
   "outputs": [
    {
     "name": "stderr",
     "output_type": "stream",
     "text": [
      "C:\\Users\\Marco\\AppData\\Local\\Temp/ipykernel_13048/3060739713.py:1: RuntimeWarning: invalid value encountered in sqrt\n",
      "  np.sqrt(-4)\n"
     ]
    },
    {
     "data": {
      "text/plain": [
       "nan"
      ]
     },
     "execution_count": 3,
     "metadata": {},
     "output_type": "execute_result"
    }
   ],
   "source": [
    "np.sqrt(-4)"
   ]
  },
  {
   "cell_type": "markdown",
   "id": "e5a10661",
   "metadata": {},
   "source": [
    "## Ejemplo:\n",
    "\n",
    "$$ \\sqrt{x^{2} - x - 6} $$\n"
   ]
  },
  {
   "cell_type": "markdown",
   "id": "3fded9d6",
   "metadata": {
    "slideshow": {
     "slide_type": "slide"
    }
   },
   "source": [
    "### Ejemplo:\n",
    "\n",
    "$$ f(x) = \\frac{8}{\\sqrt{x^{2} - 2x - 8}} $$\n"
   ]
  },
  {
   "cell_type": "code",
   "execution_count": 9,
   "id": "5d29aa19",
   "metadata": {
    "slideshow": {
     "slide_type": "slide"
    }
   },
   "outputs": [
    {
     "name": "stderr",
     "output_type": "stream",
     "text": [
      "C:\\Users\\Marco\\AppData\\Local\\Temp/ipykernel_16160/1223224395.py:3: RuntimeWarning: invalid value encountered in sqrt\n",
      "  np.sqrt(-4)\n"
     ]
    },
    {
     "data": {
      "text/plain": [
       "nan"
      ]
     },
     "execution_count": 9,
     "metadata": {},
     "output_type": "execute_result"
    }
   ],
   "source": [
    "import numpy as np \n",
    "\n",
    "np.sqrt(-4)"
   ]
  },
  {
   "cell_type": "markdown",
   "id": "abd863b3",
   "metadata": {
    "slideshow": {
     "slide_type": "slide"
    }
   },
   "source": [
    "* No podemos dividir por cero \n",
    "* No podemos sacar raiz a número negativos \n"
   ]
  },
  {
   "cell_type": "markdown",
   "id": "d7aba039",
   "metadata": {
    "slideshow": {
     "slide_type": "slide"
    }
   },
   "source": [
    "$$ x^{2} - 2x - 8 > 0  $$"
   ]
  },
  {
   "cell_type": "code",
   "execution_count": null,
   "id": "9e91f6d1",
   "metadata": {
    "slideshow": {
     "slide_type": "slide"
    }
   },
   "outputs": [],
   "source": []
  },
  {
   "cell_type": "code",
   "execution_count": null,
   "id": "fa967859",
   "metadata": {
    "slideshow": {
     "slide_type": "slide"
    }
   },
   "outputs": [],
   "source": []
  },
  {
   "cell_type": "markdown",
   "id": "d9ca865e",
   "metadata": {},
   "source": [
    "### Ejemplo:\n",
    "\n",
    "$$ y = \\frac{1}{\\sqrt{25 - x^{2}}}$$\n"
   ]
  },
  {
   "cell_type": "markdown",
   "id": "9502416f",
   "metadata": {},
   "source": [
    "## Rango de la función"
   ]
  },
  {
   "cell_type": "markdown",
   "id": "c10a5889",
   "metadata": {},
   "source": [
    "## Gráfica de una función\n"
   ]
  },
  {
   "cell_type": "markdown",
   "id": "5a2afd4b",
   "metadata": {},
   "source": [
    "### Ejemplo: $y = x^{2}$"
   ]
  },
  {
   "cell_type": "markdown",
   "id": "8bf5d005",
   "metadata": {},
   "source": [
    "## Operaciones con funciones\n"
   ]
  },
  {
   "cell_type": "markdown",
   "id": "4dc50145",
   "metadata": {},
   "source": [
    "### Composición de funciones "
   ]
  },
  {
   "cell_type": "markdown",
   "id": "188c4f44",
   "metadata": {},
   "source": [
    "# Funciones y sus inversas "
   ]
  },
  {
   "cell_type": "markdown",
   "id": "6c20869d",
   "metadata": {},
   "source": [
    "Ejemplo: Determine la inversa $f^{-1}$ de la función $f$\n",
    "\n",
    "$$ f(x) = 3x + 4 $$\n"
   ]
  },
  {
   "cell_type": "code",
   "execution_count": null,
   "id": "8ee19ab5",
   "metadata": {},
   "outputs": [],
   "source": []
  },
  {
   "cell_type": "code",
   "execution_count": null,
   "id": "9a61a38f",
   "metadata": {},
   "outputs": [],
   "source": []
  },
  {
   "cell_type": "code",
   "execution_count": null,
   "id": "b5f0a46f",
   "metadata": {},
   "outputs": [],
   "source": []
  },
  {
   "cell_type": "code",
   "execution_count": null,
   "id": "0d50e7e8",
   "metadata": {},
   "outputs": [],
   "source": []
  },
  {
   "cell_type": "code",
   "execution_count": null,
   "id": "e75e4d38",
   "metadata": {},
   "outputs": [],
   "source": []
  },
  {
   "cell_type": "code",
   "execution_count": null,
   "id": "ab95d932",
   "metadata": {},
   "outputs": [],
   "source": []
  },
  {
   "cell_type": "code",
   "execution_count": null,
   "id": "71429304",
   "metadata": {},
   "outputs": [],
   "source": []
  },
  {
   "cell_type": "code",
   "execution_count": null,
   "id": "056b4f34",
   "metadata": {},
   "outputs": [],
   "source": []
  },
  {
   "cell_type": "code",
   "execution_count": null,
   "id": "921d8557",
   "metadata": {},
   "outputs": [],
   "source": []
  },
  {
   "cell_type": "code",
   "execution_count": null,
   "id": "1a72640c",
   "metadata": {},
   "outputs": [],
   "source": []
  },
  {
   "cell_type": "markdown",
   "id": "357d74a6",
   "metadata": {
    "slideshow": {
     "slide_type": "slide"
    }
   },
   "source": [
    "## Referentes \n",
    "\n",
    "* Geogebra en línea: https://www.geogebra.org/classic  \n",
    "\n"
   ]
  },
  {
   "cell_type": "code",
   "execution_count": null,
   "id": "cc69e8fb",
   "metadata": {},
   "outputs": [],
   "source": []
  }
 ],
 "metadata": {
  "celltoolbar": "Slideshow",
  "kernelspec": {
   "display_name": "Python 3 (ipykernel)",
   "language": "python",
   "name": "python3"
  },
  "language_info": {
   "codemirror_mode": {
    "name": "ipython",
    "version": 3
   },
   "file_extension": ".py",
   "mimetype": "text/x-python",
   "name": "python",
   "nbconvert_exporter": "python",
   "pygments_lexer": "ipython3",
   "version": "3.9.7"
  }
 },
 "nbformat": 4,
 "nbformat_minor": 5
}
