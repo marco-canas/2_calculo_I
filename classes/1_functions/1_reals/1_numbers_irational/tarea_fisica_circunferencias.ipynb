{
 "cells": [
  {
   "cell_type": "markdown",
   "metadata": {},
   "source": [
    "<table align=\"left\">\n",
    "  <td>\n",
    "    <a href=\"https://colab.research.google.com/github/marco-canas/4_didactica_aritmetica/blob/main/modelo_general_clase_aula_invertida.ipynb\" target=\"_parent\"><img src=\"https://colab.research.google.com/assets/colab-badge.svg\" alt=\"Open In Colab\"/></a>\n",
    "  </td>\n",
    "</table>"
   ]
  },
  {
   "cell_type": "markdown",
   "metadata": {},
   "source": [
    "# Experimento 1 Introducción a las gráficas "
   ]
  },
  {
   "cell_type": "markdown",
   "metadata": {},
   "source": [
    "a. ¿Cuántos diámetros se pueden dibujar en una circunferencia?.   \n",
    "\n",
    "Verifique su respuesta midiendo el diámetro para todos los discos. (Tenga cuidado con las cifras significativas)."
   ]
  },
  {
   "cell_type": "code",
   "execution_count": 5,
   "metadata": {},
   "outputs": [
    {
     "data": {
      "text/plain": [
       "(-1.0990919077869434,\n",
       " 1.099956757513664,\n",
       " -1.099898100594381,\n",
       " 1.0995484460717855)"
      ]
     },
     "execution_count": 5,
     "metadata": {},
     "output_type": "execute_result"
    },
    {
     "data": {
      "image/png": "[encoded data removed]",
      "text/plain": [
       "<Figure size 640x480 with 1 Axes>"
      ]
     },
     "metadata": {},
     "output_type": "display_data"
    }
   ],
   "source": [
    "import numpy as np \n",
    "\n",
    "import matplotlib.pyplot as plt\n",
    "\n",
    "angulo = np.arange(0,2*np.pi+0.1, 0.1) \n",
    "\n",
    "x = np.cos(angulo)\n",
    "y = np.sin(angulo)\n",
    "\n",
    "plt.plot(x, y)\n",
    "\n",
    "plt.axis('equal')"
   ]
  },
  {
   "cell_type": "markdown",
   "metadata": {},
   "source": [
    "# Experiencia de medición de circunferencia, diemetro y cociente de estos para diferentes discos\n",
    "\n"
   ]
  },
  {
   "cell_type": "code",
   "execution_count": 2,
   "metadata": {},
   "outputs": [],
   "source": [
    "import pandas as pd \n",
    "import numpy as np \n",
    "\n",
    "indices = ['Disco 1', 'Disco 2', 'Disco 3', 'Disco 4']\n",
    "\n",
    "perimetros_de_las_circunferencias = np.array([29.5,23.0,19.5, 16.0  ])\n",
    "\n",
    "diametros = np.array([9.3, 7.3, 6.2, 5.1])\n",
    "\n",
    "diccionario = {'CIRCUNFERENCIA': perimetros_de_las_circunferencias, 'DIAMETROS':diametros }"
   ]
  },
  {
   "cell_type": "code",
   "execution_count": 5,
   "metadata": {},
   "outputs": [
    {
     "data": {
      "text/html": [
       "<div>\n",
       "<style scoped>\n",
       "    .dataframe tbody tr th:only-of-type {\n",
       "        vertical-align: middle;\n",
       "    }\n",
       "\n",
       "    .dataframe tbody tr th {\n",
       "        vertical-align: top;\n",
       "    }\n",
       "\n",
       "    .dataframe thead th {\n",
       "        text-align: right;\n",
       "    }\n",
       "</style>\n",
       "<table border=\"1\" class=\"dataframe\">\n",
       "  <thead>\n",
       "    <tr style=\"text-align: right;\">\n",
       "      <th></th>\n",
       "      <th>CIRCUNFERENCIA</th>\n",
       "      <th>DIAMETROS</th>\n",
       "    </tr>\n",
       "  </thead>\n",
       "  <tbody>\n",
       "    <tr>\n",
       "      <th>Disco 1</th>\n",
       "      <td>29.5</td>\n",
       "      <td>9.3</td>\n",
       "    </tr>\n",
       "    <tr>\n",
       "      <th>Disco 2</th>\n",
       "      <td>23.0</td>\n",
       "      <td>7.3</td>\n",
       "    </tr>\n",
       "    <tr>\n",
       "      <th>Disco 3</th>\n",
       "      <td>19.5</td>\n",
       "      <td>6.2</td>\n",
       "    </tr>\n",
       "    <tr>\n",
       "      <th>Disco 4</th>\n",
       "      <td>16.0</td>\n",
       "      <td>5.1</td>\n",
       "    </tr>\n",
       "  </tbody>\n",
       "</table>\n",
       "</div>"
      ],
      "text/plain": [
       "         CIRCUNFERENCIA  DIAMETROS\n",
       "Disco 1            29.5        9.3\n",
       "Disco 2            23.0        7.3\n",
       "Disco 3            19.5        6.2\n",
       "Disco 4            16.0        5.1"
      ]
     },
     "execution_count": 5,
     "metadata": {},
     "output_type": "execute_result"
    }
   ],
   "source": [
    "tabla = pd.DataFrame(diccionario, index = indices)  \n",
    "\n",
    "tabla "
   ]
  },
  {
   "cell_type": "code",
   "execution_count": 6,
   "metadata": {},
   "outputs": [],
   "source": [
    "tabla['CIRCUNFERENCIA/DIAMETROS'] = tabla.CIRCUNFERENCIA/tabla.DIAMETROS"
   ]
  },
  {
   "cell_type": "code",
   "execution_count": 7,
   "metadata": {},
   "outputs": [
    {
     "data": {
      "text/html": [
       "<div>\n",
       "<style scoped>\n",
       "    .dataframe tbody tr th:only-of-type {\n",
       "        vertical-align: middle;\n",
       "    }\n",
       "\n",
       "    .dataframe tbody tr th {\n",
       "        vertical-align: top;\n",
       "    }\n",
       "\n",
       "    .dataframe thead th {\n",
       "        text-align: right;\n",
       "    }\n",
       "</style>\n",
       "<table border=\"1\" class=\"dataframe\">\n",
       "  <thead>\n",
       "    <tr style=\"text-align: right;\">\n",
       "      <th></th>\n",
       "      <th>CIRCUNFERENCIA</th>\n",
       "      <th>DIAMETROS</th>\n",
       "      <th>CIRCUNFERENCIA/DIAMETROS</th>\n",
       "    </tr>\n",
       "  </thead>\n",
       "  <tbody>\n",
       "    <tr>\n",
       "      <th>Disco 1</th>\n",
       "      <td>29.5</td>\n",
       "      <td>9.3</td>\n",
       "      <td>3.172043</td>\n",
       "    </tr>\n",
       "    <tr>\n",
       "      <th>Disco 2</th>\n",
       "      <td>23.0</td>\n",
       "      <td>7.3</td>\n",
       "      <td>3.150685</td>\n",
       "    </tr>\n",
       "    <tr>\n",
       "      <th>Disco 3</th>\n",
       "      <td>19.5</td>\n",
       "      <td>6.2</td>\n",
       "      <td>3.145161</td>\n",
       "    </tr>\n",
       "    <tr>\n",
       "      <th>Disco 4</th>\n",
       "      <td>16.0</td>\n",
       "      <td>5.1</td>\n",
       "      <td>3.137255</td>\n",
       "    </tr>\n",
       "  </tbody>\n",
       "</table>\n",
       "</div>"
      ],
      "text/plain": [
       "         CIRCUNFERENCIA  DIAMETROS  CIRCUNFERENCIA/DIAMETROS\n",
       "Disco 1            29.5        9.3                  3.172043\n",
       "Disco 2            23.0        7.3                  3.150685\n",
       "Disco 3            19.5        6.2                  3.145161\n",
       "Disco 4            16.0        5.1                  3.137255"
      ]
     },
     "execution_count": 7,
     "metadata": {},
     "output_type": "execute_result"
    }
   ],
   "source": [
    "tabla"
   ]
  },
  {
   "cell_type": "markdown",
   "metadata": {},
   "source": [
    "¿Qué tienen de particular los resultados obtenidos?"
   ]
  },
  {
   "cell_type": "markdown",
   "metadata": {},
   "source": [
    "La relación entre la circunferencia de un círculo y su diámetro es constante y se conoce como \"pi\" (π). El descubrimiento de esta constante se atribuye a varios matemáticos a lo largo de la historia. Uno de los primeros cálculos precisos de pi fue realizado por Arquímedes alrededor del siglo III a.C.\n",
    "\n",
    "Arquímedes utilizó un método geométrico para aproximar el valor de pi. Posteriormente, otros matemáticos, como el matemático indio Madhava en el siglo XIV, también hicieron contribuciones significativas al cálculo de pi. Sin embargo, el símbolo π para representar esta constante fue introducido más tarde por el matemático galés William Jones en 1706 y popularizado por Leonhard Euler en el siglo XVIII. Hoy en día, pi es una constante fundamental en matemáticas y tiene un valor aproximado de 3.14159."
   ]
  },
  {
   "cell_type": "markdown",
   "metadata": {},
   "source": [
    "Esto quiere decir que la circunferencia es una variable directamente proporcional all diametro y que la constante de proporcionalidad es $\\pi$"
   ]
  },
  {
   "cell_type": "markdown",
   "metadata": {},
   "source": [
    "\n",
    "Reconocimiento a alguien que inpira y sirve: \n",
    "\n",
    "\n",
    "<img src = 'https://wesmckinney.com/images/wes-2017-01-12-small.png'>"
   ]
  },
  {
   "cell_type": "markdown",
   "metadata": {},
   "source": [
    "**Hola**"
   ]
  }
 ],
 "metadata": {
  "kernelspec": {
   "display_name": ".venv",
   "language": "python",
   "name": "python3"
  },
  "language_info": {
   "codemirror_mode": {
    "name": "ipython",
    "version": 3
   },
   "file_extension": ".py",
   "mimetype": "text/x-python",
   "name": "python",
   "nbconvert_exporter": "python",
   "pygments_lexer": "ipython3",
   "version": "3.10.12"
  }
 },
 "nbformat": 4,
 "nbformat_minor": 2
}
