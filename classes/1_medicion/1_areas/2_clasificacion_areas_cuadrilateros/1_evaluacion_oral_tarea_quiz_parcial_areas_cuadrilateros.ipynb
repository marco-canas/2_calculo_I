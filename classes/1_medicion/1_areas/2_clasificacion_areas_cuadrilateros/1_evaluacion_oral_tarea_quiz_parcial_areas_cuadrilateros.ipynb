{
 "cells": [
  {
   "cell_type": "markdown",
   "id": "dc06dec7",
   "metadata": {
    "slideshow": {
     "slide_type": "slide"
    }
   },
   "source": [
    "<table align=\"left\">\n",
    "  <td>\n",
    "    <a href=\"https://colab.research.google.com/github/marco-canas/4_didactica_aritmetica/blob/main/modelo_general_clase_aula_invertida.ipynb\" target=\"_parent\"><img src=\"https://colab.research.google.com/assets/colab-badge.svg\" alt=\"Open In Colab\"/></a>\n",
    "  </td>\n",
    "</table>"
   ]
  },
  {
   "cell_type": "markdown",
   "id": "e0c5b198",
   "metadata": {
    "slideshow": {
     "slide_type": "slide"
    }
   },
   "source": [
    "### [Video de apoyo a la lectura interactiva y experimental de este cuaderno]()"
   ]
  },
  {
   "cell_type": "markdown",
   "id": "41e82203",
   "metadata": {
    "slideshow": {
     "slide_type": "slide"
    }
   },
   "source": [
    "## [Vínculo al programa del curso:  ]()"
   ]
  },
  {
   "cell_type": "markdown",
   "id": "ca46c23b",
   "metadata": {
    "slideshow": {
     "slide_type": "slide"
    }
   },
   "source": [
    "# Modelo general de clase: [aula invertida](https://www3.gobiernodecanarias.org/medusa/ecoescuela/pedagotic/aprendizaje-invertido-flipped-classroom/)\n",
    "\n",
    "## Definición y características de este modelo"
   ]
  },
  {
   "cell_type": "markdown",
   "id": "d2b0e776",
   "metadata": {
    "slideshow": {
     "slide_type": "slide"
    }
   },
   "source": [
    "## ¿Qué es?  \n",
    "\n",
    "Flipped Learning o aprendizaje invertido es un enfoque pedagógico en el que:  \n",
    "\n",
    "* la instrucción directa se realiza fuera del aula y \n",
    "* se utiliza el tiempo de clase para llevar a cabo actividades que impliquen el desarrollo de procesos cognitivos de mayor complejidad, en las que son necesarias la ayuda y la experiencia del docente."
   ]
  },
  {
   "cell_type": "markdown",
   "id": "5fc4f731",
   "metadata": {
    "slideshow": {
     "slide_type": "slide"
    }
   },
   "source": [
    "## ¿Para qué sirve?  \n",
    "\n",
    "Mejora el proceso de enseñanza-aprendizaje realizando,   \n",
    "\n",
    "* fuera del aula, actividades de aprendizaje sencillas (observar, memorizar, resumir, etc.) y, \n",
    "* en el aula, actividades más complejas (razonar, examinar, priorizar, argumentar, proponer, etc.) que requieren la interacción entre iguales y la ayuda del docente como facilitador."
   ]
  },
  {
   "cell_type": "markdown",
   "id": "b42472d6",
   "metadata": {
    "slideshow": {
     "slide_type": "slide"
    }
   },
   "source": [
    "<img src = 'https://github.com/marco-canas/7_didactica_ciencia_datos/blob/main/4_images/atributos_aprendizaje_invertido.png?raw=true'>"
   ]
  },
  {
   "cell_type": "markdown",
   "id": "8cee33b3",
   "metadata": {
    "slideshow": {
     "slide_type": "slide"
    }
   },
   "source": [
    "# Proceso Flipped Learning"
   ]
  },
  {
   "cell_type": "markdown",
   "id": "9c61b8b5",
   "metadata": {
    "slideshow": {
     "slide_type": "slide"
    }
   },
   "source": [
    "## Fuera del Aula"
   ]
  },
  {
   "cell_type": "markdown",
   "id": "fe20721d",
   "metadata": {
    "slideshow": {
     "slide_type": "slide"
    }
   },
   "source": [
    "### Docente:"
   ]
  },
  {
   "cell_type": "markdown",
   "id": "5b022dc9",
   "metadata": {
    "slideshow": {
     "slide_type": "slide"
    }
   },
   "source": [
    "* Diseña y planea el proceso de enseñanza-aprendizaje del aula, integrando estrategias, modelos de enseñanza y metodologías (aprendizaje basado en proyectos, aprendizaje cooperativo y colaborativo,…).  \n",
    "\n",
    "* Diseña y planea actividades que se realizarán fuera del aula (ver vídeos, cumplimentar cuestionarios,…).  \n",
    "\n",
    "* Selecciona e integra la tecnología en actividades de aprendizaje activo.  \n",
    "\n",
    "* Diseña actividades de evaluación que promuevan el aprendizaje del alumnado."
   ]
  },
  {
   "cell_type": "markdown",
   "id": "467fb978",
   "metadata": {
    "slideshow": {
     "slide_type": "slide"
    }
   },
   "source": [
    "### Alumnado:"
   ]
  },
  {
   "cell_type": "markdown",
   "id": "87d6d661",
   "metadata": {
    "slideshow": {
     "slide_type": "slide"
    }
   },
   "source": [
    "* Accede, cuantas veces necesite, a las actividades facilitadas por el profesorado.\n",
    "* Realiza las actividades propuestas."
   ]
  },
  {
   "cell_type": "markdown",
   "id": "93cd48b6",
   "metadata": {
    "slideshow": {
     "slide_type": "slide"
    }
   },
   "source": [
    "## En el Aula"
   ]
  },
  {
   "cell_type": "markdown",
   "id": "79ea8675",
   "metadata": {
    "slideshow": {
     "slide_type": "slide"
    }
   },
   "source": [
    "### Docente:"
   ]
  },
  {
   "cell_type": "markdown",
   "id": "d4d6f829",
   "metadata": {
    "slideshow": {
     "slide_type": "slide"
    }
   },
   "source": [
    "* Guía y facilita los procesos de aprendizaje, atendiendo a la diversidad.\n",
    "* Retroalimenta el desempeño de los equipos/grupos y del alumnado individualmente.\n",
    "* Genera espacios para la coevaluación y autoevaluación."
   ]
  },
  {
   "cell_type": "markdown",
   "id": "7178794c",
   "metadata": {
    "slideshow": {
     "slide_type": "slide"
    }
   },
   "source": [
    "### Alumnado:"
   ]
  },
  {
   "cell_type": "markdown",
   "id": "88d1c0f7",
   "metadata": {
    "slideshow": {
     "slide_type": "slide"
    }
   },
   "source": [
    "* Realiza las actividades (debates, exposiciones orales, informes, diario de aprendizaje, cuaderno de trabajo cooperativo,…).\n",
    "* Recibe retroalimentación inmediata del profesorado y de sus compañeros y compañeras.\n",
    "* Accede, si fuera necesario, a las actividades previas facilitadas por el profesorado."
   ]
  },
  {
   "cell_type": "markdown",
   "id": "7f9be90f",
   "metadata": {
    "slideshow": {
     "slide_type": "slide"
    }
   },
   "source": [
    "# Fomento de la lectura literaria asociada a Ingeniería agropecuaria y licenciatura en Matemáticas  \n",
    "\n",
    "[Confiar e inspirar](https://github.com/marco-canas/confiar_e_inspirar/blob/main/primera_parte_el_futuro_del_liderazgo_de_mandar_y_controlar_confiar_e_inspirar/6_la_segunda_disposicion_esencial_la_confianza_o_como/6_la_segunda_disposicion_esencial.ipynb)"
   ]
  },
  {
   "cell_type": "markdown",
   "id": "96775931",
   "metadata": {
    "slideshow": {
     "slide_type": "slide"
    }
   },
   "source": [
    "# Título de la clase: Realización evaluación escrita a través de Tareas en cuaderno manuscrito y cuaderno Jupyter, Quiz o Parcial y una evaluación final oral.  \n",
    "\n"
   ]
  },
  {
   "cell_type": "markdown",
   "id": "1d38dd4e",
   "metadata": {
    "slideshow": {
     "slide_type": "slide"
    }
   },
   "source": [
    "### Objetivo de aprendizaje (Enunciar, de manera corta sencilla y clara para todos los asistentes)\n",
    "\n",
    "* Que el ingeniero agropecuario aprenda a identiticar el típo de cuadrilátero asociado a una medición de áreas y efectivamente, esta identificación le permita realizar una medición correcta de el área del terreno. "
   ]
  },
  {
   "cell_type": "markdown",
   "id": "ca7261b1",
   "metadata": {
    "slideshow": {
     "slide_type": "slide"
    }
   },
   "source": [
    "## Establecimiento de prerrequisitos conceptuales para alcanzar el objetivo de aprendizaje trazado.   \n",
    "\n",
    "(Elabore una lista de preguntas al rededor de los conceptos que consideres necesarios para empezar la clase).  \n",
    "\n",
    "1. \n",
    "2. \n",
    "3. "
   ]
  },
  {
   "cell_type": "markdown",
   "id": "2298e976",
   "metadata": {
    "slideshow": {
     "slide_type": "slide"
    }
   },
   "source": [
    "# Para el diseño de la clase tenga en cuenta algunos problemas de aprendizaje"
   ]
  },
  {
   "cell_type": "code",
   "execution_count": null,
   "metadata": {},
   "outputs": [],
   "source": []
  },
  {
   "cell_type": "markdown",
   "metadata": {},
   "source": [
    "# Tarea asignada o taller para evaluar"
   ]
  },
  {
   "cell_type": "markdown",
   "id": "523d3acf",
   "metadata": {
    "slideshow": {
     "slide_type": "slide"
    }
   },
   "source": []
  },
  {
   "cell_type": "markdown",
   "id": "a40a4704",
   "metadata": {
    "slideshow": {
     "slide_type": "slide"
    }
   },
   "source": [
    "# Ejemplo de quiz"
   ]
  },
  {
   "cell_type": "code",
   "execution_count": 4,
   "id": "05883934",
   "metadata": {},
   "outputs": [
    {
     "name": "stdout",
     "output_type": "stream",
     "text": [
      "Asignaciones guardadas en tarea_seccion_01_purcell.csv\n"
     ]
    },
    {
     "data": {
      "text/html": [
       "<div>\n",
       "<style scoped>\n",
       "    .dataframe tbody tr th:only-of-type {\n",
       "        vertical-align: middle;\n",
       "    }\n",
       "\n",
       "    .dataframe tbody tr th {\n",
       "        vertical-align: top;\n",
       "    }\n",
       "\n",
       "    .dataframe thead th {\n",
       "        text-align: right;\n",
       "    }\n",
       "</style>\n",
       "<table border=\"1\" class=\"dataframe\">\n",
       "  <thead>\n",
       "    <tr style=\"text-align: right;\">\n",
       "      <th></th>\n",
       "      <th>Student</th>\n",
       "      <th>Exercise 1</th>\n",
       "      <th>Exercise 2</th>\n",
       "      <th>Exercise 3</th>\n",
       "    </tr>\n",
       "  </thead>\n",
       "  <tbody>\n",
       "    <tr>\n",
       "      <th>0</th>\n",
       "      <td>AGUDELO MORENO RENATO DIRNEY</td>\n",
       "      <td>24</td>\n",
       "      <td>65</td>\n",
       "      <td>59</td>\n",
       "    </tr>\n",
       "    <tr>\n",
       "      <th>1</th>\n",
       "      <td>AMARIS FERNANDEZ SEBASTIAN CAMILO</td>\n",
       "      <td>21</td>\n",
       "      <td>34</td>\n",
       "      <td>39</td>\n",
       "    </tr>\n",
       "    <tr>\n",
       "      <th>2</th>\n",
       "      <td>ARENAS HERAZO GABRIEL ENRIQUE</td>\n",
       "      <td>58</td>\n",
       "      <td>19</td>\n",
       "      <td>18</td>\n",
       "    </tr>\n",
       "    <tr>\n",
       "      <th>3</th>\n",
       "      <td>AYALA MENDOZA MARISOL YACIRA</td>\n",
       "      <td>81</td>\n",
       "      <td>61</td>\n",
       "      <td>7</td>\n",
       "    </tr>\n",
       "    <tr>\n",
       "      <th>4</th>\n",
       "      <td>BERTEL RODELO MICHELL SMIT</td>\n",
       "      <td>74</td>\n",
       "      <td>46</td>\n",
       "      <td>39</td>\n",
       "    </tr>\n",
       "    <tr>\n",
       "      <th>5</th>\n",
       "      <td>BULA VERGARA MARIA PAULA</td>\n",
       "      <td>39</td>\n",
       "      <td>54</td>\n",
       "      <td>60</td>\n",
       "    </tr>\n",
       "    <tr>\n",
       "      <th>6</th>\n",
       "      <td>CANTILLO ENSUCHO DANIEL</td>\n",
       "      <td>58</td>\n",
       "      <td>22</td>\n",
       "      <td>78</td>\n",
       "    </tr>\n",
       "    <tr>\n",
       "      <th>7</th>\n",
       "      <td>CERVANTES DURAN ANGELICA</td>\n",
       "      <td>47</td>\n",
       "      <td>70</td>\n",
       "      <td>17</td>\n",
       "    </tr>\n",
       "    <tr>\n",
       "      <th>8</th>\n",
       "      <td>GALLEGO TEJADA JUAN ESTEBAN</td>\n",
       "      <td>35</td>\n",
       "      <td>72</td>\n",
       "      <td>42</td>\n",
       "    </tr>\n",
       "    <tr>\n",
       "      <th>9</th>\n",
       "      <td>GUERRA NORIEGA YONATHAN</td>\n",
       "      <td>18</td>\n",
       "      <td>24</td>\n",
       "      <td>19</td>\n",
       "    </tr>\n",
       "    <tr>\n",
       "      <th>10</th>\n",
       "      <td>HINCAPIE CASTRO JOHAN SEBASTIAN</td>\n",
       "      <td>13</td>\n",
       "      <td>74</td>\n",
       "      <td>62</td>\n",
       "    </tr>\n",
       "    <tr>\n",
       "      <th>11</th>\n",
       "      <td>HUMANEZ SANCHEZ CAMILO</td>\n",
       "      <td>42</td>\n",
       "      <td>80</td>\n",
       "      <td>31</td>\n",
       "    </tr>\n",
       "    <tr>\n",
       "      <th>12</th>\n",
       "      <td>IBA�EZ MORENO FRANCISCO LUIS</td>\n",
       "      <td>13</td>\n",
       "      <td>76</td>\n",
       "      <td>41</td>\n",
       "    </tr>\n",
       "    <tr>\n",
       "      <th>13</th>\n",
       "      <td>LONDONO CUADRADO CRISTIAN ALBERTO</td>\n",
       "      <td>51</td>\n",
       "      <td>42</td>\n",
       "      <td>64</td>\n",
       "    </tr>\n",
       "    <tr>\n",
       "      <th>14</th>\n",
       "      <td>LOZANO HOLGUIN LIZETH JOHANA</td>\n",
       "      <td>55</td>\n",
       "      <td>34</td>\n",
       "      <td>17</td>\n",
       "    </tr>\n",
       "    <tr>\n",
       "      <th>15</th>\n",
       "      <td>MASS MIRANDA RIVALDO JOSE</td>\n",
       "      <td>10</td>\n",
       "      <td>8</td>\n",
       "      <td>18</td>\n",
       "    </tr>\n",
       "    <tr>\n",
       "      <th>16</th>\n",
       "      <td>MIRANDA MARTINEZ CARLOS ANDRES</td>\n",
       "      <td>51</td>\n",
       "      <td>25</td>\n",
       "      <td>73</td>\n",
       "    </tr>\n",
       "    <tr>\n",
       "      <th>17</th>\n",
       "      <td>MONTERROSA SOTO ABRIL</td>\n",
       "      <td>64</td>\n",
       "      <td>74</td>\n",
       "      <td>27</td>\n",
       "    </tr>\n",
       "    <tr>\n",
       "      <th>18</th>\n",
       "      <td>NORIEGA JIMENEZ GABRIELA</td>\n",
       "      <td>15</td>\n",
       "      <td>2</td>\n",
       "      <td>80</td>\n",
       "    </tr>\n",
       "    <tr>\n",
       "      <th>19</th>\n",
       "      <td>PEREZ REYES IVAN DARIO</td>\n",
       "      <td>37</td>\n",
       "      <td>13</td>\n",
       "      <td>40</td>\n",
       "    </tr>\n",
       "    <tr>\n",
       "      <th>20</th>\n",
       "      <td>PEREZ THERAN ERLINDA</td>\n",
       "      <td>62</td>\n",
       "      <td>57</td>\n",
       "      <td>33</td>\n",
       "    </tr>\n",
       "    <tr>\n",
       "      <th>21</th>\n",
       "      <td>PINEDA ROMERO YOSMERI</td>\n",
       "      <td>50</td>\n",
       "      <td>46</td>\n",
       "      <td>6</td>\n",
       "    </tr>\n",
       "    <tr>\n",
       "      <th>22</th>\n",
       "      <td>QUINONEZ CERVANTES MARIANA</td>\n",
       "      <td>70</td>\n",
       "      <td>3</td>\n",
       "      <td>46</td>\n",
       "    </tr>\n",
       "    <tr>\n",
       "      <th>23</th>\n",
       "      <td>QUIROZ DURAN JUAN MANUEL</td>\n",
       "      <td>66</td>\n",
       "      <td>80</td>\n",
       "      <td>6</td>\n",
       "    </tr>\n",
       "    <tr>\n",
       "      <th>24</th>\n",
       "      <td>RAMOS PEREZ YANINE</td>\n",
       "      <td>1</td>\n",
       "      <td>28</td>\n",
       "      <td>80</td>\n",
       "    </tr>\n",
       "    <tr>\n",
       "      <th>25</th>\n",
       "      <td>RIVAS HOYOS ESTEFANIA</td>\n",
       "      <td>55</td>\n",
       "      <td>26</td>\n",
       "      <td>30</td>\n",
       "    </tr>\n",
       "    <tr>\n",
       "      <th>26</th>\n",
       "      <td>ROSILLO TEJADA VANESA</td>\n",
       "      <td>24</td>\n",
       "      <td>41</td>\n",
       "      <td>68</td>\n",
       "    </tr>\n",
       "    <tr>\n",
       "      <th>27</th>\n",
       "      <td>SANCHEZ PADILLA SILVESTRE</td>\n",
       "      <td>53</td>\n",
       "      <td>30</td>\n",
       "      <td>68</td>\n",
       "    </tr>\n",
       "    <tr>\n",
       "      <th>28</th>\n",
       "      <td>SILVA ROYERO MAILY CRISTINA</td>\n",
       "      <td>15</td>\n",
       "      <td>17</td>\n",
       "      <td>36</td>\n",
       "    </tr>\n",
       "    <tr>\n",
       "      <th>29</th>\n",
       "      <td>USUGA GEORGE JHON ESTIVEN</td>\n",
       "      <td>61</td>\n",
       "      <td>81</td>\n",
       "      <td>19</td>\n",
       "    </tr>\n",
       "    <tr>\n",
       "      <th>30</th>\n",
       "      <td>JUAN FELIPE HERNANDEZ ARDILA</td>\n",
       "      <td>58</td>\n",
       "      <td>45</td>\n",
       "      <td>15</td>\n",
       "    </tr>\n",
       "  </tbody>\n",
       "</table>\n",
       "</div>"
      ],
      "text/plain": [
       "                              Student  Exercise 1  Exercise 2  Exercise 3\n",
       "0        AGUDELO MORENO RENATO DIRNEY          24          65          59\n",
       "1   AMARIS FERNANDEZ SEBASTIAN CAMILO          21          34          39\n",
       "2       ARENAS HERAZO GABRIEL ENRIQUE          58          19          18\n",
       "3        AYALA MENDOZA MARISOL YACIRA          81          61           7\n",
       "4          BERTEL RODELO MICHELL SMIT          74          46          39\n",
       "5            BULA VERGARA MARIA PAULA          39          54          60\n",
       "6             CANTILLO ENSUCHO DANIEL          58          22          78\n",
       "7            CERVANTES DURAN ANGELICA          47          70          17\n",
       "8         GALLEGO TEJADA JUAN ESTEBAN          35          72          42\n",
       "9             GUERRA NORIEGA YONATHAN          18          24          19\n",
       "10    HINCAPIE CASTRO JOHAN SEBASTIAN          13          74          62\n",
       "11             HUMANEZ SANCHEZ CAMILO          42          80          31\n",
       "12       IBA�EZ MORENO FRANCISCO LUIS          13          76          41\n",
       "13  LONDONO CUADRADO CRISTIAN ALBERTO          51          42          64\n",
       "14       LOZANO HOLGUIN LIZETH JOHANA          55          34          17\n",
       "15          MASS MIRANDA RIVALDO JOSE          10           8          18\n",
       "16     MIRANDA MARTINEZ CARLOS ANDRES          51          25          73\n",
       "17              MONTERROSA SOTO ABRIL          64          74          27\n",
       "18           NORIEGA JIMENEZ GABRIELA          15           2          80\n",
       "19             PEREZ REYES IVAN DARIO          37          13          40\n",
       "20               PEREZ THERAN ERLINDA          62          57          33\n",
       "21              PINEDA ROMERO YOSMERI          50          46           6\n",
       "22         QUINONEZ CERVANTES MARIANA          70           3          46\n",
       "23           QUIROZ DURAN JUAN MANUEL          66          80           6\n",
       "24                 RAMOS PEREZ YANINE           1          28          80\n",
       "25              RIVAS HOYOS ESTEFANIA          55          26          30\n",
       "26              ROSILLO TEJADA VANESA          24          41          68\n",
       "27          SANCHEZ PADILLA SILVESTRE          53          30          68\n",
       "28        SILVA ROYERO MAILY CRISTINA          15          17          36\n",
       "29          USUGA GEORGE JHON ESTIVEN          61          81          19\n",
       "30       JUAN FELIPE HERNANDEZ ARDILA          58          45          15"
      ]
     },
     "execution_count": 4,
     "metadata": {},
     "output_type": "execute_result"
    }
   ],
   "source": [
    "# asignación de tres ejercicio del taller para quiz\n",
    "\n",
    "import pandas as pd\n",
    "import numpy as np\n",
    "import random\n",
    "import requests\n",
    "\n",
    "# Descargar la lista de estudiantes y ejercicios\n",
    "students_url = \"https://raw.githubusercontent.com/marco-canas/groups_list/main/calculo_diferencial.csv\"\n",
    "exercises = list(range(1, 84))  # Lista de ejercicios del 1 al 83\n",
    "\n",
    "# Cargar la lista de estudiantes\n",
    "students_data = pd.read_csv(students_url)\n",
    "\n",
    "# Crear una lista para almacenar las asignaciones\n",
    "assignments = []\n",
    "\n",
    "# Asignar ejercicios aleatorios a cada estudiante\n",
    "for index, student in students_data.iterrows():\n",
    "    random_exercises = random.sample(exercises, 3)  # Seleccionar 5 ejercicios aleatorios sin repetición\n",
    "    assignments.append([students_data[\"Nombre\"][index], *random_exercises])  # Agregar asignación a la lista\n",
    "\n",
    "# Crear un DataFrame con las asignaciones\n",
    "columns = [\"Student\", \"Exercise 1\", \"Exercise 2\", \"Exercise 3\"]\n",
    "assignment_df = pd.DataFrame(assignments, columns=columns)\n",
    "\n",
    "# Guardar el DataFrame en un archivo CSV\n",
    "assignment_csv = \"tarea_seccion_01_purcell.csv\"\n",
    "assignment_df.to_csv(assignment_csv, index=False)\n",
    "\n",
    "print(\"Asignaciones guardadas en\", assignment_csv)\n",
    "assignment_df"
   ]
  },
  {
   "cell_type": "code",
   "execution_count": null,
   "id": "1ff0d02b",
   "metadata": {
    "slideshow": {
     "slide_type": "slide"
    }
   },
   "outputs": [],
   "source": [
    "import random\n",
    "\n",
    "def pregunta_1():\n",
    "    print(\"1. ¿Cuál es la derivada de la función f(x) = 3x^2?\")\n",
    "    opciones = [\"a. f'(x) = 6x\", \"b. f'(x) = 3x\", \"c. f'(x) = 2x^2\", \"d. f'(x) = 9x\"]\n",
    "    respuesta_correcta = \"a\"\n",
    "    return opciones, respuesta_correcta\n",
    "\n",
    "def pregunta_2():\n",
    "    print(\"2. ¿Cuál es la integral indefinida de la función f(x) = 4x^3?\")\n",
    "    opciones = [\"a. F(x) = x^4\", \"b. F(x) = 2x^4\", \"c. F(x) = 4x^4\", \"d. F(x) = x^3\"]\n",
    "    respuesta_correcta = \"a\"\n",
    "    return opciones, respuesta_correcta\n",
    "\n",
    "def pregunta_3():\n",
    "    print(\"3. ¿Cuál es la derivada de la función f(x) = sin(x)?\")\n",
    "    opciones = [\"a. f'(x) = cos(x)\", \"b. f'(x) = -sin(x)\", \"c. f'(x) = cos^2(x)\", \"d. f'(x) = 1\"]\n",
    "    respuesta_correcta = \"a\"\n",
    "    return opciones, respuesta_correcta\n",
    "\n",
    "preguntas = [pregunta_1, pregunta_2, pregunta_3]\n",
    "puntuacion_total = 0\n",
    "\n",
    "random.shuffle(preguntas)\n",
    "\n",
    "for indice, pregunta in enumerate(preguntas):\n",
    "    print(f\"Pregunta {indice + 1}:\")\n",
    "    opciones, respuesta_correcta = pregunta()\n",
    "    for opcion in opciones:\n",
    "        print(opcion)\n",
    "    respuesta_usuario = input(\"Selecciona la opción correcta (a, b, c o d): \")\n",
    "    if respuesta_usuario == respuesta_correcta:\n",
    "        puntuacion_total += 1\n",
    "\n",
    "print(f\"Tu puntuación final es: {puntuacion_total}/{len(preguntas)}\")\n"
   ]
  },
  {
   "cell_type": "markdown",
   "id": "e01461ad",
   "metadata": {
    "slideshow": {
     "slide_type": "slide"
    }
   },
   "source": []
  },
  {
   "cell_type": "markdown",
   "id": "981c618a",
   "metadata": {
    "slideshow": {
     "slide_type": "slide"
    }
   },
   "source": [
    "# Ejemplo de parcial"
   ]
  },
  {
   "cell_type": "code",
   "execution_count": 16,
   "id": "c641f979",
   "metadata": {
    "slideshow": {
     "slide_type": "slide"
    }
   },
   "outputs": [
    {
     "data": {
      "image/png": "[encoded data removed]",
      "text/plain": [
       "<Figure size 640x480 with 1 Axes>"
      ]
     },
     "metadata": {},
     "output_type": "display_data"
    }
   ],
   "source": [
    "import matplotlib.pyplot as plt\n",
    "import numpy as np\n",
    "\n",
    "# Coordenadas de los vértices del rombo\n",
    "x = [0, 0.5, 0, -0.5, 0]\n",
    "y = [0, 0.5, 1, 0.5, 0]\n",
    "\n",
    "# Dibujar el rombo\n",
    "plt.plot(x, y, 'r-')\n",
    "plt.plot([0,0],[0, 1]) # trazo de la diagonal de longitud 1\n",
    "plt.plot([0, 0.5], [0.5, 0.5]) # trazo de la altura relativa a la diagonal como base elegida del triángulo de la derecha\n",
    "plt.axis('equal')\n",
    "plt.xlabel('Eje X')\n",
    "plt.ylabel('Eje Y')\n",
    "plt.title('Rombo con una diagonal de longitud 1')\n",
    "plt.grid(True)\n",
    "plt.xticks(np.arange(-0.7, 0.8, 0.1))\n",
    "plt.text(-0.05, 0.5, 'O')\n",
    "plt.text(0.54, 0.5, 'A')\n",
    "plt.text(0, 1, 'B')\n",
    "plt.text(-0.5, 0.5, 'C')\n",
    "plt.text(0, 0, 'D')\n",
    "\n",
    "plt.show()\n"
   ]
  },
  {
   "cell_type": "markdown",
   "id": "d3767a77",
   "metadata": {},
   "source": [
    "## Solución\n",
    "\n",
    "Empecemos determinando el área del triángulo $\\Delta ABD$. "
   ]
  },
  {
   "cell_type": "code",
   "execution_count": null,
   "id": "51055520",
   "metadata": {},
   "outputs": [],
   "source": []
  },
  {
   "cell_type": "code",
   "execution_count": null,
   "id": "333e4550",
   "metadata": {},
   "outputs": [],
   "source": []
  },
  {
   "cell_type": "code",
   "execution_count": 1,
   "id": "7960c0c6",
   "metadata": {},
   "outputs": [
    {
     "name": "stdout",
     "output_type": "stream",
     "text": [
      "Estudiante seleccionado: RIVAS HOYOS ESTEFANIA\n",
      "Archivo calculo_diferencial_con_notas.csv actualizado exitosamente.\n"
     ]
    }
   ],
   "source": [
    "# Llamada aleatoria para los estudiantes a participar para ser evaluados de manera oral\n",
    "import pandas as pd\n",
    "import random\n",
    "\n",
    "def generar_notas_seguimiento(numero_estudiantes):\n",
    "    \"\"\"Genera una lista de notas de seguimiento aleatorias para cada estudiante.\"\"\"\n",
    "    return [random.randint(1, 100) for _ in range(numero_estudiantes)]\n",
    "\n",
    "def crear_columnas_vacias(df, atributos):\n",
    "    \"\"\"Crea columnas con atributos solicitados y establece NaN como valor.\"\"\"\n",
    "    for atributo in atributos:\n",
    "        df[atributo] = pd.NA\n",
    "    return df\n",
    "\n",
    "def main():\n",
    "    # URL del archivo .csv con los estudiantes\n",
    "    url = 'https://raw.githubusercontent.com/marco-canas/groups_list/main/calculo_integral.csv'\n",
    "\n",
    "    # Leer el archivo .csv y almacenar los datos en un DataFrame\n",
    "    df = pd.read_csv(url)\n",
    "\n",
    "    # Generar una nota de seguimiento aleatoria para cada estudiante\n",
    "    df['seguimiento'] = generar_notas_seguimiento(len(df))\n",
    "\n",
    "    # Crear las columnas con los atributos solicitados y establecerlas en NaN (vacío)\n",
    "    atributos = ['parcial 1', 'parcial 2', 'parcial 3', 'quiz 1', 'quiz 2', 'autoevaluacion', 'video_aplicaciones_para_aprender_calculo']\n",
    "    df = crear_columnas_vacias(df, atributos)\n",
    "\n",
    "    # Guardar el DataFrame con los atributos actualizados en un nuevo archivo .csv\n",
    "    df.to_csv('calculo_diferencial_con_notas.csv', index=False)\n",
    "\n",
    "    # Seleccionar un estudiante aleatoriamente\n",
    "    estudiante_aleatorio = df.sample(1)\n",
    "\n",
    "    # Obtener el nombre del estudiante\n",
    "    nombre_estudiante = estudiante_aleatorio['Nombre'].values[0]\n",
    "    \n",
    "    print(f\"Estudiante seleccionado: {nombre_estudiante}\")\n",
    "\n",
    "    # Solicitar la nota de participación al usuario\n",
    "    nota_participacion = int(input(\"Ingrese la nota de participación para el estudiante (entre 1 y 100): \"))\n",
    "\n",
    "    # Agregar la nota de participación al DataFrame\n",
    "    df.loc[df['Nombre'] == nombre_estudiante, 'seguimiento'] = nota_participacion\n",
    "\n",
    "    # Guardar los cambios en el archivo .csv\n",
    "    df.to_csv('calculo_diferencial_con_notas.csv', index=False)\n",
    "\n",
    "    print(\"Archivo calculo_diferencial_con_notas.csv actualizado exitosamente.\")\n",
    "\n",
    "if __name__ == \"__main__\":\n",
    "    main()\n"
   ]
  },
  {
   "cell_type": "code",
   "execution_count": null,
   "id": "384af1d4",
   "metadata": {},
   "outputs": [],
   "source": []
  },
  {
   "cell_type": "code",
   "execution_count": null,
   "id": "3fc8d3df",
   "metadata": {
    "slideshow": {
     "slide_type": "slide"
    }
   },
   "outputs": [],
   "source": []
  },
  {
   "cell_type": "code",
   "execution_count": null,
   "id": "3b788bca",
   "metadata": {
    "slideshow": {
     "slide_type": "slide"
    }
   },
   "outputs": [],
   "source": []
  },
  {
   "cell_type": "markdown",
   "id": "bf8d11a1",
   "metadata": {
    "slideshow": {
     "slide_type": "slide"
    }
   },
   "source": [
    "## Mapa conceptual de la clase elaborado en CMapTools"
   ]
  },
  {
   "cell_type": "markdown",
   "id": "aac04d00",
   "metadata": {
    "slideshow": {
     "slide_type": "slide"
    }
   },
   "source": [
    "<img src = ''>"
   ]
  },
  {
   "cell_type": "markdown",
   "id": "8a6f7ef9",
   "metadata": {
    "slideshow": {
     "slide_type": "slide"
    }
   },
   "source": [
    "## Tareas para realizar antes de la clase"
   ]
  },
  {
   "cell_type": "markdown",
   "id": "90cae469",
   "metadata": {
    "slideshow": {
     "slide_type": "slide"
    }
   },
   "source": [
    "1. Ver los videos respectivos []()\n",
    "2. Memorizar las definiciones []()\n",
    "3. Sintetizar o resumir la información en mapas conceptuales. []()"
   ]
  },
  {
   "cell_type": "markdown",
   "id": "fccb447c",
   "metadata": {
    "slideshow": {
     "slide_type": "slide"
    }
   },
   "source": [
    "# Tareas para realizar en clase"
   ]
  },
  {
   "cell_type": "markdown",
   "id": "e5c48edf",
   "metadata": {
    "slideshow": {
     "slide_type": "slide"
    }
   },
   "source": [
    "* Modelación matemática \n",
    "* Trabajo en equipos"
   ]
  },
  {
   "cell_type": "markdown",
   "id": "8b6b0112",
   "metadata": {
    "slideshow": {
     "slide_type": "slide"
    }
   },
   "source": [
    "# Tareas para realizar después de la realización de la clase"
   ]
  },
  {
   "cell_type": "markdown",
   "id": "947460e3",
   "metadata": {
    "slideshow": {
     "slide_type": "slide"
    }
   },
   "source": [
    "* Actividades de memorización: \n",
    "  - escucha reiterada de grabaciones de formulas y resultados científicos. \n",
    "  - relectura de notas. \n",
    "  - ejercicios de mayor complejidad. \n",
    "  "
   ]
  },
  {
   "cell_type": "code",
   "execution_count": 3,
   "id": "a304b218",
   "metadata": {},
   "outputs": [
    {
     "name": "stdout",
     "output_type": "stream",
     "text": [
      "Asignaciones guardadas en tarea_seccion_1_3:precalculo_stewart.csv\n"
     ]
    },
    {
     "data": {
      "text/html": [
       "<div>\n",
       "<style scoped>\n",
       "    .dataframe tbody tr th:only-of-type {\n",
       "        vertical-align: middle;\n",
       "    }\n",
       "\n",
       "    .dataframe tbody tr th {\n",
       "        vertical-align: top;\n",
       "    }\n",
       "\n",
       "    .dataframe thead th {\n",
       "        text-align: right;\n",
       "    }\n",
       "</style>\n",
       "<table border=\"1\" class=\"dataframe\">\n",
       "  <thead>\n",
       "    <tr style=\"text-align: right;\">\n",
       "      <th></th>\n",
       "      <th>Student</th>\n",
       "      <th>Exer1</th>\n",
       "      <th>Exer2</th>\n",
       "      <th>Exer3</th>\n",
       "      <th>Exer4</th>\n",
       "      <th>Exer5</th>\n",
       "      <th>Exercise 6</th>\n",
       "      <th>Exercise 7</th>\n",
       "      <th>Exercise 8</th>\n",
       "      <th>Exercise 9</th>\n",
       "      <th>...</th>\n",
       "      <th>Exer11</th>\n",
       "      <th>Exer12</th>\n",
       "      <th>Exer13</th>\n",
       "      <th>Exer14</th>\n",
       "      <th>Exer15</th>\n",
       "      <th>Exer16</th>\n",
       "      <th>Exer17</th>\n",
       "      <th>Exer18</th>\n",
       "      <th>Exer19</th>\n",
       "      <th>exer20</th>\n",
       "    </tr>\n",
       "  </thead>\n",
       "  <tbody>\n",
       "    <tr>\n",
       "      <th>0</th>\n",
       "      <td>ARIAS ARRIETA FREDY</td>\n",
       "      <td>29</td>\n",
       "      <td>96</td>\n",
       "      <td>110</td>\n",
       "      <td>40</td>\n",
       "      <td>63</td>\n",
       "      <td>120</td>\n",
       "      <td>75</td>\n",
       "      <td>105</td>\n",
       "      <td>34</td>\n",
       "      <td>...</td>\n",
       "      <td>111</td>\n",
       "      <td>22</td>\n",
       "      <td>11</td>\n",
       "      <td>131</td>\n",
       "      <td>44</td>\n",
       "      <td>69</td>\n",
       "      <td>20</td>\n",
       "      <td>90</td>\n",
       "      <td>13</td>\n",
       "      <td>60</td>\n",
       "    </tr>\n",
       "    <tr>\n",
       "      <th>1</th>\n",
       "      <td>BOHORQUEZ NAVARRO DINA ESTELA</td>\n",
       "      <td>32</td>\n",
       "      <td>15</td>\n",
       "      <td>120</td>\n",
       "      <td>39</td>\n",
       "      <td>114</td>\n",
       "      <td>95</td>\n",
       "      <td>85</td>\n",
       "      <td>42</td>\n",
       "      <td>6</td>\n",
       "      <td>...</td>\n",
       "      <td>74</td>\n",
       "      <td>124</td>\n",
       "      <td>52</td>\n",
       "      <td>89</td>\n",
       "      <td>79</td>\n",
       "      <td>99</td>\n",
       "      <td>47</td>\n",
       "      <td>11</td>\n",
       "      <td>132</td>\n",
       "      <td>111</td>\n",
       "    </tr>\n",
       "    <tr>\n",
       "      <th>2</th>\n",
       "      <td>CARDONA RAM�REZ SARA PAULINA</td>\n",
       "      <td>62</td>\n",
       "      <td>12</td>\n",
       "      <td>107</td>\n",
       "      <td>13</td>\n",
       "      <td>79</td>\n",
       "      <td>68</td>\n",
       "      <td>112</td>\n",
       "      <td>18</td>\n",
       "      <td>64</td>\n",
       "      <td>...</td>\n",
       "      <td>131</td>\n",
       "      <td>93</td>\n",
       "      <td>90</td>\n",
       "      <td>103</td>\n",
       "      <td>116</td>\n",
       "      <td>69</td>\n",
       "      <td>100</td>\n",
       "      <td>51</td>\n",
       "      <td>35</td>\n",
       "      <td>48</td>\n",
       "    </tr>\n",
       "    <tr>\n",
       "      <th>3</th>\n",
       "      <td>CASTANEDA REINOZA DIEGO</td>\n",
       "      <td>119</td>\n",
       "      <td>25</td>\n",
       "      <td>1</td>\n",
       "      <td>43</td>\n",
       "      <td>48</td>\n",
       "      <td>81</td>\n",
       "      <td>107</td>\n",
       "      <td>38</td>\n",
       "      <td>97</td>\n",
       "      <td>...</td>\n",
       "      <td>72</td>\n",
       "      <td>18</td>\n",
       "      <td>89</td>\n",
       "      <td>30</td>\n",
       "      <td>109</td>\n",
       "      <td>10</td>\n",
       "      <td>8</td>\n",
       "      <td>34</td>\n",
       "      <td>2</td>\n",
       "      <td>7</td>\n",
       "    </tr>\n",
       "    <tr>\n",
       "      <th>4</th>\n",
       "      <td>ESPEJO PEREZ LUIS DAVID</td>\n",
       "      <td>30</td>\n",
       "      <td>6</td>\n",
       "      <td>96</td>\n",
       "      <td>74</td>\n",
       "      <td>126</td>\n",
       "      <td>75</td>\n",
       "      <td>26</td>\n",
       "      <td>11</td>\n",
       "      <td>71</td>\n",
       "      <td>...</td>\n",
       "      <td>42</td>\n",
       "      <td>91</td>\n",
       "      <td>79</td>\n",
       "      <td>49</td>\n",
       "      <td>10</td>\n",
       "      <td>95</td>\n",
       "      <td>34</td>\n",
       "      <td>61</td>\n",
       "      <td>103</td>\n",
       "      <td>62</td>\n",
       "    </tr>\n",
       "    <tr>\n",
       "      <th>5</th>\n",
       "      <td>HERNANDEZ GUERRA FABIAN ALEJANDRO</td>\n",
       "      <td>97</td>\n",
       "      <td>8</td>\n",
       "      <td>84</td>\n",
       "      <td>89</td>\n",
       "      <td>120</td>\n",
       "      <td>36</td>\n",
       "      <td>95</td>\n",
       "      <td>131</td>\n",
       "      <td>126</td>\n",
       "      <td>...</td>\n",
       "      <td>1</td>\n",
       "      <td>72</td>\n",
       "      <td>19</td>\n",
       "      <td>67</td>\n",
       "      <td>128</td>\n",
       "      <td>49</td>\n",
       "      <td>24</td>\n",
       "      <td>57</td>\n",
       "      <td>51</td>\n",
       "      <td>48</td>\n",
       "    </tr>\n",
       "    <tr>\n",
       "      <th>6</th>\n",
       "      <td>HERRERA PAYARES RAFAEL ANTONIO</td>\n",
       "      <td>57</td>\n",
       "      <td>71</td>\n",
       "      <td>22</td>\n",
       "      <td>87</td>\n",
       "      <td>124</td>\n",
       "      <td>67</td>\n",
       "      <td>51</td>\n",
       "      <td>65</td>\n",
       "      <td>56</td>\n",
       "      <td>...</td>\n",
       "      <td>47</td>\n",
       "      <td>24</td>\n",
       "      <td>41</td>\n",
       "      <td>121</td>\n",
       "      <td>131</td>\n",
       "      <td>80</td>\n",
       "      <td>110</td>\n",
       "      <td>2</td>\n",
       "      <td>13</td>\n",
       "      <td>123</td>\n",
       "    </tr>\n",
       "    <tr>\n",
       "      <th>7</th>\n",
       "      <td>LUCAS FLOREZ NAYELIS NATALIA</td>\n",
       "      <td>122</td>\n",
       "      <td>55</td>\n",
       "      <td>110</td>\n",
       "      <td>121</td>\n",
       "      <td>117</td>\n",
       "      <td>32</td>\n",
       "      <td>72</td>\n",
       "      <td>53</td>\n",
       "      <td>40</td>\n",
       "      <td>...</td>\n",
       "      <td>73</td>\n",
       "      <td>130</td>\n",
       "      <td>126</td>\n",
       "      <td>12</td>\n",
       "      <td>105</td>\n",
       "      <td>13</td>\n",
       "      <td>64</td>\n",
       "      <td>83</td>\n",
       "      <td>100</td>\n",
       "      <td>59</td>\n",
       "    </tr>\n",
       "    <tr>\n",
       "      <th>8</th>\n",
       "      <td>MARTINEZ BALLESTEROS VICTOR HUGO</td>\n",
       "      <td>73</td>\n",
       "      <td>67</td>\n",
       "      <td>62</td>\n",
       "      <td>120</td>\n",
       "      <td>71</td>\n",
       "      <td>55</td>\n",
       "      <td>101</td>\n",
       "      <td>43</td>\n",
       "      <td>51</td>\n",
       "      <td>...</td>\n",
       "      <td>8</td>\n",
       "      <td>110</td>\n",
       "      <td>111</td>\n",
       "      <td>121</td>\n",
       "      <td>32</td>\n",
       "      <td>45</td>\n",
       "      <td>98</td>\n",
       "      <td>85</td>\n",
       "      <td>127</td>\n",
       "      <td>125</td>\n",
       "    </tr>\n",
       "    <tr>\n",
       "      <th>9</th>\n",
       "      <td>MARTINEZ MENDOZA JAIR MIGUEL</td>\n",
       "      <td>53</td>\n",
       "      <td>57</td>\n",
       "      <td>119</td>\n",
       "      <td>75</td>\n",
       "      <td>55</td>\n",
       "      <td>104</td>\n",
       "      <td>86</td>\n",
       "      <td>126</td>\n",
       "      <td>7</td>\n",
       "      <td>...</td>\n",
       "      <td>30</td>\n",
       "      <td>134</td>\n",
       "      <td>109</td>\n",
       "      <td>17</td>\n",
       "      <td>87</td>\n",
       "      <td>70</td>\n",
       "      <td>47</td>\n",
       "      <td>18</td>\n",
       "      <td>22</td>\n",
       "      <td>40</td>\n",
       "    </tr>\n",
       "    <tr>\n",
       "      <th>10</th>\n",
       "      <td>MAZO PEREZ SAMUEL</td>\n",
       "      <td>132</td>\n",
       "      <td>110</td>\n",
       "      <td>31</td>\n",
       "      <td>133</td>\n",
       "      <td>65</td>\n",
       "      <td>25</td>\n",
       "      <td>34</td>\n",
       "      <td>109</td>\n",
       "      <td>28</td>\n",
       "      <td>...</td>\n",
       "      <td>35</td>\n",
       "      <td>101</td>\n",
       "      <td>85</td>\n",
       "      <td>22</td>\n",
       "      <td>125</td>\n",
       "      <td>103</td>\n",
       "      <td>4</td>\n",
       "      <td>77</td>\n",
       "      <td>37</td>\n",
       "      <td>124</td>\n",
       "    </tr>\n",
       "    <tr>\n",
       "      <th>11</th>\n",
       "      <td>MONTES DIAZ DIEGO ALEJANDRO</td>\n",
       "      <td>120</td>\n",
       "      <td>134</td>\n",
       "      <td>43</td>\n",
       "      <td>68</td>\n",
       "      <td>77</td>\n",
       "      <td>52</td>\n",
       "      <td>89</td>\n",
       "      <td>73</td>\n",
       "      <td>63</td>\n",
       "      <td>...</td>\n",
       "      <td>94</td>\n",
       "      <td>131</td>\n",
       "      <td>34</td>\n",
       "      <td>37</td>\n",
       "      <td>25</td>\n",
       "      <td>106</td>\n",
       "      <td>123</td>\n",
       "      <td>15</td>\n",
       "      <td>35</td>\n",
       "      <td>39</td>\n",
       "    </tr>\n",
       "    <tr>\n",
       "      <th>12</th>\n",
       "      <td>OCHOA ARRIETA JUAN ANDRES</td>\n",
       "      <td>61</td>\n",
       "      <td>23</td>\n",
       "      <td>41</td>\n",
       "      <td>1</td>\n",
       "      <td>122</td>\n",
       "      <td>30</td>\n",
       "      <td>59</td>\n",
       "      <td>33</td>\n",
       "      <td>5</td>\n",
       "      <td>...</td>\n",
       "      <td>107</td>\n",
       "      <td>31</td>\n",
       "      <td>36</td>\n",
       "      <td>120</td>\n",
       "      <td>119</td>\n",
       "      <td>65</td>\n",
       "      <td>132</td>\n",
       "      <td>70</td>\n",
       "      <td>103</td>\n",
       "      <td>71</td>\n",
       "    </tr>\n",
       "    <tr>\n",
       "      <th>13</th>\n",
       "      <td>RUIZ CARDENAS LUIS MARIO</td>\n",
       "      <td>34</td>\n",
       "      <td>57</td>\n",
       "      <td>1</td>\n",
       "      <td>68</td>\n",
       "      <td>113</td>\n",
       "      <td>79</td>\n",
       "      <td>67</td>\n",
       "      <td>39</td>\n",
       "      <td>75</td>\n",
       "      <td>...</td>\n",
       "      <td>71</td>\n",
       "      <td>11</td>\n",
       "      <td>122</td>\n",
       "      <td>78</td>\n",
       "      <td>61</td>\n",
       "      <td>101</td>\n",
       "      <td>66</td>\n",
       "      <td>126</td>\n",
       "      <td>83</td>\n",
       "      <td>52</td>\n",
       "    </tr>\n",
       "    <tr>\n",
       "      <th>14</th>\n",
       "      <td>SIERRA OLIVEROS OMAR DARIO</td>\n",
       "      <td>67</td>\n",
       "      <td>59</td>\n",
       "      <td>68</td>\n",
       "      <td>5</td>\n",
       "      <td>92</td>\n",
       "      <td>116</td>\n",
       "      <td>129</td>\n",
       "      <td>34</td>\n",
       "      <td>62</td>\n",
       "      <td>...</td>\n",
       "      <td>35</td>\n",
       "      <td>107</td>\n",
       "      <td>48</td>\n",
       "      <td>7</td>\n",
       "      <td>120</td>\n",
       "      <td>12</td>\n",
       "      <td>27</td>\n",
       "      <td>126</td>\n",
       "      <td>64</td>\n",
       "      <td>82</td>\n",
       "    </tr>\n",
       "    <tr>\n",
       "      <th>15</th>\n",
       "      <td>SUAREZ RESTREPO MARIA ANGELICA</td>\n",
       "      <td>58</td>\n",
       "      <td>102</td>\n",
       "      <td>92</td>\n",
       "      <td>91</td>\n",
       "      <td>105</td>\n",
       "      <td>78</td>\n",
       "      <td>80</td>\n",
       "      <td>101</td>\n",
       "      <td>49</td>\n",
       "      <td>...</td>\n",
       "      <td>30</td>\n",
       "      <td>1</td>\n",
       "      <td>34</td>\n",
       "      <td>62</td>\n",
       "      <td>46</td>\n",
       "      <td>65</td>\n",
       "      <td>42</td>\n",
       "      <td>128</td>\n",
       "      <td>31</td>\n",
       "      <td>113</td>\n",
       "    </tr>\n",
       "    <tr>\n",
       "      <th>16</th>\n",
       "      <td>TAMAYO DE LA OSSA SARA</td>\n",
       "      <td>79</td>\n",
       "      <td>38</td>\n",
       "      <td>15</td>\n",
       "      <td>122</td>\n",
       "      <td>70</td>\n",
       "      <td>110</td>\n",
       "      <td>9</td>\n",
       "      <td>12</td>\n",
       "      <td>78</td>\n",
       "      <td>...</td>\n",
       "      <td>33</td>\n",
       "      <td>82</td>\n",
       "      <td>87</td>\n",
       "      <td>32</td>\n",
       "      <td>22</td>\n",
       "      <td>131</td>\n",
       "      <td>52</td>\n",
       "      <td>8</td>\n",
       "      <td>126</td>\n",
       "      <td>7</td>\n",
       "    </tr>\n",
       "  </tbody>\n",
       "</table>\n",
       "<p>17 rows × 21 columns</p>\n",
       "</div>"
      ],
      "text/plain": [
       "                              Student  Exer1  Exer2  Exer3  Exer4  Exer5  \\\n",
       "0                 ARIAS ARRIETA FREDY     29     96    110     40     63   \n",
       "1       BOHORQUEZ NAVARRO DINA ESTELA     32     15    120     39    114   \n",
       "2        CARDONA RAM�REZ SARA PAULINA     62     12    107     13     79   \n",
       "3             CASTANEDA REINOZA DIEGO    119     25      1     43     48   \n",
       "4             ESPEJO PEREZ LUIS DAVID     30      6     96     74    126   \n",
       "5   HERNANDEZ GUERRA FABIAN ALEJANDRO     97      8     84     89    120   \n",
       "6      HERRERA PAYARES RAFAEL ANTONIO     57     71     22     87    124   \n",
       "7        LUCAS FLOREZ NAYELIS NATALIA    122     55    110    121    117   \n",
       "8    MARTINEZ BALLESTEROS VICTOR HUGO     73     67     62    120     71   \n",
       "9        MARTINEZ MENDOZA JAIR MIGUEL     53     57    119     75     55   \n",
       "10                  MAZO PEREZ SAMUEL    132    110     31    133     65   \n",
       "11        MONTES DIAZ DIEGO ALEJANDRO    120    134     43     68     77   \n",
       "12          OCHOA ARRIETA JUAN ANDRES     61     23     41      1    122   \n",
       "13           RUIZ CARDENAS LUIS MARIO     34     57      1     68    113   \n",
       "14         SIERRA OLIVEROS OMAR DARIO     67     59     68      5     92   \n",
       "15     SUAREZ RESTREPO MARIA ANGELICA     58    102     92     91    105   \n",
       "16             TAMAYO DE LA OSSA SARA     79     38     15    122     70   \n",
       "\n",
       "    Exercise 6  Exercise 7  Exercise 8  Exercise 9  ...  Exer11  Exer12  \\\n",
       "0          120          75         105          34  ...     111      22   \n",
       "1           95          85          42           6  ...      74     124   \n",
       "2           68         112          18          64  ...     131      93   \n",
       "3           81         107          38          97  ...      72      18   \n",
       "4           75          26          11          71  ...      42      91   \n",
       "5           36          95         131         126  ...       1      72   \n",
       "6           67          51          65          56  ...      47      24   \n",
       "7           32          72          53          40  ...      73     130   \n",
       "8           55         101          43          51  ...       8     110   \n",
       "9          104          86         126           7  ...      30     134   \n",
       "10          25          34         109          28  ...      35     101   \n",
       "11          52          89          73          63  ...      94     131   \n",
       "12          30          59          33           5  ...     107      31   \n",
       "13          79          67          39          75  ...      71      11   \n",
       "14         116         129          34          62  ...      35     107   \n",
       "15          78          80         101          49  ...      30       1   \n",
       "16         110           9          12          78  ...      33      82   \n",
       "\n",
       "    Exer13  Exer14  Exer15  Exer16  Exer17  Exer18  Exer19  exer20  \n",
       "0       11     131      44      69      20      90      13      60  \n",
       "1       52      89      79      99      47      11     132     111  \n",
       "2       90     103     116      69     100      51      35      48  \n",
       "3       89      30     109      10       8      34       2       7  \n",
       "4       79      49      10      95      34      61     103      62  \n",
       "5       19      67     128      49      24      57      51      48  \n",
       "6       41     121     131      80     110       2      13     123  \n",
       "7      126      12     105      13      64      83     100      59  \n",
       "8      111     121      32      45      98      85     127     125  \n",
       "9      109      17      87      70      47      18      22      40  \n",
       "10      85      22     125     103       4      77      37     124  \n",
       "11      34      37      25     106     123      15      35      39  \n",
       "12      36     120     119      65     132      70     103      71  \n",
       "13     122      78      61     101      66     126      83      52  \n",
       "14      48       7     120      12      27     126      64      82  \n",
       "15      34      62      46      65      42     128      31     113  \n",
       "16      87      32      22     131      52       8     126       7  \n",
       "\n",
       "[17 rows x 21 columns]"
      ]
     },
     "execution_count": 3,
     "metadata": {},
     "output_type": "execute_result"
    }
   ],
   "source": [
    "# asignación de tres ejercicio del taller para quiz\n",
    "\n",
    "import pandas as pd\n",
    "import numpy as np\n",
    "import random\n",
    "import requests\n",
    "np.random.seed(42)\n",
    "# Descargar la lista de  estudiantes y ejercicios\n",
    "students_url = \"https://raw.githubusercontent.com/marco-canas/groups_list/main/fund_math.csv\"\n",
    "exercises = list(range(1, 135))  # Lista de ejercicios del 1 al 83\n",
    "\n",
    "# Cargar la lista de estudiantes\n",
    "students_data = pd.read_csv(students_url)\n",
    "\n",
    "# Crear una lista para almacenar las asignaciones\n",
    "assignments = []\n",
    "\n",
    "# Asignar ejercicios aleatorios a cada estudiante\n",
    "for index, student in students_data.iterrows():\n",
    "    random_exercises = random.sample(exercises, 20)  # Seleccionar 5 ejercicios aleatorios sin repetición\n",
    "    assignments.append([students_data[\"Nombre\"][index], *random_exercises])  # Agregar asignación a la lista\n",
    "\n",
    "# Crear un DataFrame con las asignaciones\n",
    "columns = [\"Student\", \"Exer1\", \"Exer2\", \"Exer3\",\"Exer4\", \"Exer5\", \\\n",
    "           \"Exercise 6\", \"Exercise 7\", \"Exercise 8\", \"Exercise 9\", \"exercise 10\", \\\n",
    "           \"Exer11\", \"Exer12\", \"Exer13\",\"Exer14\", \"Exer15\", \\\n",
    "           \"Exer16\", \"Exer17\", \"Exer18\", \"Exer19\", \"exer20\"\n",
    "            ]\n",
    "assignment_df = pd.DataFrame(assignments, columns=columns)\n",
    "\n",
    "# Guardar el DataFrame en un archivo CSV\n",
    "assignment_csv = \"tarea_seccion_1_3:precalculo_stewart.csv\"\n",
    "assignment_df.to_csv(assignment_csv, index=False)\n",
    "\n",
    "print(\"Asignaciones guardadas en\", assignment_csv)\n",
    "assignment_df"
   ]
  },
  {
   "cell_type": "markdown",
   "id": "935a5567",
   "metadata": {
    "slideshow": {
     "slide_type": "slide"
    }
   },
   "source": [
    "## Dificultades de aprendizaje detectados durante la clase"
   ]
  },
  {
   "cell_type": "code",
   "execution_count": null,
   "id": "7d9c6c7f",
   "metadata": {
    "slideshow": {
     "slide_type": "slide"
    }
   },
   "outputs": [],
   "source": []
  },
  {
   "cell_type": "markdown",
   "id": "fb9402bb",
   "metadata": {
    "slideshow": {
     "slide_type": "slide"
    }
   },
   "source": [
    "## Estrategias propuestas para la solución de las dificultades de aprendizaje detectadas"
   ]
  },
  {
   "cell_type": "markdown",
   "id": "2dd3bd5c",
   "metadata": {
    "slideshow": {
     "slide_type": "slide"
    }
   },
   "source": []
  },
  {
   "cell_type": "markdown",
   "id": "d11570a2",
   "metadata": {
    "slideshow": {
     "slide_type": "slide"
    }
   },
   "source": [
    "## Cuestionario para realizar labores de memorización y observación,  a la síntesis de la información"
   ]
  },
  {
   "cell_type": "markdown",
   "id": "540f0ec1",
   "metadata": {
    "slideshow": {
     "slide_type": "slide"
    }
   },
   "source": []
  },
  {
   "cell_type": "markdown",
   "id": "236b43fc",
   "metadata": {
    "slideshow": {
     "slide_type": "slide"
    }
   },
   "source": [
    "## Grabaciones en audio para fomentar la capacidad de memorizar enunciados de teoremas y resultados científicos y la capacidad de parafrasear estos resultados. "
   ]
  },
  {
   "cell_type": "markdown",
   "id": "319f2ffa",
   "metadata": {
    "slideshow": {
     "slide_type": "slide"
    }
   },
   "source": [
    "Se dispondrá de un lugar en el drive asociuado al correo institucional de la Universidad Nacional del Profesor Marso para albergar los archivosd de audio de fomento a la memoirización, enunciación y parafraseo de los resultados científicos, prtopiedades, reglas, etc. \n",
    "\n",
    "* Vocaroo"
   ]
  },
  {
   "cell_type": "markdown",
   "id": "564fa59d",
   "metadata": {
    "slideshow": {
     "slide_type": "slide"
    }
   },
   "source": [
    "### Comparta sus cuadernos y videos, evidencias de su aprendizaje [aquí](https://forms.office.com/Pages/ResponsePage.aspx?id=IefhmYRxjkmK_7KtTlPBwkanXIs1i1FEujpsZgO6dXpUMEMwTEZVMzEwVVBPTElWNVg5OVEyWUhMUy4u)"
   ]
  },
  {
   "cell_type": "code",
   "execution_count": null,
   "id": "5fe498b3",
   "metadata": {
    "slideshow": {
     "slide_type": "slide"
    }
   },
   "outputs": [],
   "source": []
  },
  {
   "cell_type": "markdown",
   "id": "44be6d93",
   "metadata": {
    "slideshow": {
     "slide_type": "slide"
    }
   },
   "source": [
    "# Vocabulary "
   ]
  },
  {
   "cell_type": "code",
   "execution_count": null,
   "id": "99b8dfed",
   "metadata": {
    "slideshow": {
     "slide_type": "slide"
    }
   },
   "outputs": [],
   "source": []
  },
  {
   "cell_type": "markdown",
   "id": "ee46cb9a",
   "metadata": {
    "slideshow": {
     "slide_type": "slide"
    }
   },
   "source": [
    "## Mapa conceptual que vincula los conceptos asoaciados al objetivo de aprendizaje"
   ]
  },
  {
   "cell_type": "code",
   "execution_count": null,
   "id": "bf552488",
   "metadata": {
    "slideshow": {
     "slide_type": "slide"
    }
   },
   "outputs": [],
   "source": []
  },
  {
   "cell_type": "markdown",
   "id": "0266e3c5",
   "metadata": {
    "slideshow": {
     "slide_type": "slide"
    }
   },
   "source": [
    "## Quiz de 5 minutos para ejercitación y adquisición de habilidades "
   ]
  },
  {
   "cell_type": "markdown",
   "id": "3a1b127f",
   "metadata": {
    "slideshow": {
     "slide_type": "slide"
    }
   },
   "source": []
  },
  {
   "cell_type": "markdown",
   "id": "c6236d5d",
   "metadata": {},
   "source": [
    "# FODA del grupo y del profesor  \n",
    "\n",
    "* F: Fortalezas\n",
    "* O: Oportunidades\n",
    "* D: Dificultades\n",
    "* A: Amenazas."
   ]
  },
  {
   "cell_type": "markdown",
   "id": "b48f9542",
   "metadata": {},
   "source": [
    "## ¿Cómo se sintió en este espacio de enseñanza y aprendizaje?\n",
    "\n",
    "!Dios te bendiga¡"
   ]
  },
  {
   "cell_type": "markdown",
   "id": "10bce0d0",
   "metadata": {
    "slideshow": {
     "slide_type": "slide"
    }
   },
   "source": [
    "## Referentes "
   ]
  },
  {
   "cell_type": "markdown",
   "id": "1db3c468",
   "metadata": {
    "slideshow": {
     "slide_type": "slide"
    }
   },
   "source": [
    "* [stewart precálculo](https://udeaeduco-my.sharepoint.com/:b:/g/personal/marco_canas_udea_edu_co/ERHIq62I6qFNrmxy6LZb8ZMBci7kUsyNME1nIh9yCBMJ_w?e=0zMSla)  \n",
    "\n",
    "* [stewart cálculo](https://udeaeduco-my.sharepoint.com/:b:/g/personal/marco_canas_udea_edu_co/EZgXZjAp8QxPqOAim2hs6LcBNPLGjSHf-xwYnUVYkwa04w?e=RZdTCy)  \n",
    "\n",
    "* [larson](https://udeaeduco-my.sharepoint.com/:b:/g/personal/marco_canas_udea_edu_co/ES71ChFeO9ZDhW3TwC5Ijk8BjxUK3Pdqz_fjHxTTFAfIAg?e=VDEjfu)\n",
    "\n",
    "* [uzcategui](https://udeaeduco-my.sharepoint.com/:b:/g/personal/marco_canas_udea_edu_co/ETDikm-lVl1Or8XoEo9oyh0BEti9Zs8le-f0D-dBdtZmbA?e=bBsoyQ)\n",
    "\n",
    "* [Recomendación de la UNESCO sobre ciencia abierta](https://unesdoc.unesco.org/ark:/48223/pf0000379949_spa)  \n",
    "\n",
    "* [chatGPT](https://openai.com/blog/chatgpt)  \n",
    "\n",
    "* Géron, A. (2017). Hands-on machine learning with scikit-learn and tensorflow: Concepts. Tools, and Techniques to build intelligent systems.[Geron, Aurelien. Hands on Machine Learning](https://udeaeduco-my.sharepoint.com/:b:/g/personal/marco_canas_udea_edu_co/Ecet27yjQzZIlT1Y_Bc2erkBUhbeYuIe6HG8i1FYZRlZww?e=dlvZ4v)  \n",
    "\n",
    "* McKinney, W. (2012). Python for data analysis: Data wrangling with Pandas, NumPy, and IPython. \" O'Reilly Media, Inc.\".[Wes Mackinney. ](https://udeaeduco-my.sharepoint.com/:b:/g/personal/marco_canas_udea_edu_co/EVbi5JIeBl9ErbiUnZfGe8YBhNTnZ8sxTK5hjIOPK4UpGw?e=fFclah)"
   ]
  },
  {
   "cell_type": "markdown",
   "id": "6b9e56a8",
   "metadata": {
    "slideshow": {
     "slide_type": "slide"
    }
   },
   "source": [
    "### [Evaluamos al profesor Marco Cañas Aquí](https://forms.office.com/Pages/ResponsePage.aspx?id=IefhmYRxjkmK_7KtTlPBwkanXIs1i1FEujpsZgO6dXpUREJPV1kxUk1JV1ozTFJIQVNIQjY5WEY3US4u)"
   ]
  },
  {
   "cell_type": "markdown",
   "id": "071afa04",
   "metadata": {
    "slideshow": {
     "slide_type": "slide"
    }
   },
   "source": [
    "## [Evaluación luego de alcanzar estos objetivos de aprendizaje]()"
   ]
  },
  {
   "cell_type": "markdown",
   "id": "10f43536",
   "metadata": {
    "slideshow": {
     "slide_type": "slide"
    }
   },
   "source": [
    "### Continue su aprendizaje en la siguiente clase a través del siguiente [vínculo]()"
   ]
  },
  {
   "cell_type": "markdown",
   "id": "af751e30",
   "metadata": {
    "slideshow": {
     "slide_type": "slide"
    }
   },
   "source": [
    "# Conjeturas pedagógicas fruto de la aplicación del modelo de aprendizaje invertido y del enfoque hacia la ciencia de datos con python\n",
    "\n",
    "1. Todo cálculo o resultado debe ser interpretado en una línea markdown del cuaderno Jupyter, inmediatamente después de la enunciación del resultado y después de la presentación de una tabla o gráfico bidimensional, de tal menera que el estudiante explicite la comprensión verbal del resultado y las inferencias o estrategias que este resultado le sugieren.   "
   ]
  }
 ],
 "metadata": {
  "celltoolbar": "Slideshow",
  "kernelspec": {
   "display_name": "Python 3 (ipykernel)",
   "language": "python",
   "name": "python3"
  },
  "language_info": {
   "codemirror_mode": {
    "name": "ipython",
    "version": 3
   },
   "file_extension": ".py",
   "mimetype": "text/x-python",
   "name": "python",
   "nbconvert_exporter": "python",
   "pygments_lexer": "ipython3",
   "version": "3.10.12"
  },
  "rise": {
   "enable_chalkboard": true,
   "theme": "sky",
   "transition": "zoom"
  }
 },
 "nbformat": 4,
 "nbformat_minor": 5
}
