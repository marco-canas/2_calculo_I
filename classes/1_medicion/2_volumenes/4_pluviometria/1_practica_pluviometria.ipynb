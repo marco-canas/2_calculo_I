{
 "cells": [
  {
   "cell_type": "markdown",
   "id": "dc06dec7",
   "metadata": {
    "slideshow": {
     "slide_type": "slide"
    }
   },
   "source": [
    "<table align=\"left\">\n",
    "  <td>\n",
    "    <a href=\"https://colab.research.google.com/github/marco-canas/calculo/blob/main/classes/1_medicion/2_volumenes/4_pluviometria/1_practica_pluviometria.ipynb\" target=\"_parent\"><img src=\"https://colab.research.google.com/assets/colab-badge.svg\" alt=\"Open In Colab\"/></a>\n",
    "  </td>\n",
    "  <td>\n",
    "    <a target=\"_blank\" href=\"https://kaggle.com/kernels/welcome?src=https://github.com/marco-canas/calculo/blob/main/classes/1_medicion/2_volumenes/4_pluviometria/1_practica_pluviometria.ipynb\"><img src=\"https://kaggle.com/static/images/open-in-kaggle.svg\" /></a>\n",
    "  </td>\n",
    "</table>"
   ]
  },
  {
   "cell_type": "markdown",
   "id": "e0c5b198",
   "metadata": {
    "slideshow": {
     "slide_type": "slide"
    }
   },
   "source": [
    "### [Video de apoyo a la lectura interactiva y experimental de este cuaderno]()"
   ]
  },
  {
   "cell_type": "markdown",
   "id": "41e82203",
   "metadata": {
    "slideshow": {
     "slide_type": "slide"
    }
   },
   "source": [
    "## [Vínculo al programa del curso:  ]()\n",
    "\n"
   ]
  },
  {
   "cell_type": "markdown",
   "id": "d11ab06d",
   "metadata": {
    "slideshow": {
     "slide_type": "slide"
    }
   },
   "source": [
    "Un reconocimiento a mis estudiantes que han construido conmigo este saber pedagógico:\n",
    "\n",
    "<img src = ''> \n",
    "\n"
   ]
  },
  {
   "cell_type": "markdown",
   "id": "ae9860dc",
   "metadata": {},
   "source": [
    "# Cómo mejorar cada día la propuesta didáctica y pedagógica para enseñanza de la matemática\n"
   ]
  },
  {
   "cell_type": "markdown",
   "id": "1014ce5d",
   "metadata": {},
   "source": [
    "\n",
    "Para estructurar una propuesta pedagógica y didáctica centrada en: \n",
    "*  mostrar la matemática como un conjunto de **lenguajes** que ayudan a la comunicación científica y cotidiana, y \n",
    "* la promoción del inglés, el lenguaje Markdown, el lenguaje Latex, el lenguaje Python en los cuadernos Jupyter, y \n",
    "* adoptar un enfoque pedagógico de aula invertida y una metodología de clase basada en problemas (ABP),  \n",
    "  \n",
    "puedes seguir los siguientes pasos:\n"
   ]
  },
  {
   "cell_type": "markdown",
   "id": "19b90db0",
   "metadata": {},
   "source": [
    "\n",
    "1. **Diagnóstico de necesidades:**\n",
    "   - Realiza un análisis detallado de las necesidades y habilidades de los estudiantes en matemáticas, inglés y tecnología.\n",
    "   - Identifica las áreas de dificultad y las áreas en las que los estudiantes muestran interés.\n"
   ]
  },
  {
   "cell_type": "markdown",
   "id": "4a85e2ae",
   "metadata": {},
   "source": [
    "\n",
    "2. **Definición de objetivos:**\n",
    "   - Establece objetivos claros y alcanzables que integren el aprendizaje de matemáticas, inglés y tecnología.\n",
    "   - Los objetivos deben centrarse en mejorar la comprensión de conceptos matemáticos, desarrollar habilidades en inglés y fomentar la competencia en el uso de herramientas tecnológicas.\n"
   ]
  },
  {
   "cell_type": "markdown",
   "id": "c1174613",
   "metadata": {},
   "source": [
    "\n",
    "3. **Diseño de actividades y recursos:**\n",
    "   - Diseña actividades interactivas y colaborativas que permitan a los estudiantes explorar conceptos matemáticos a través del uso de cuadernos Jupyter, Python y Markdown.\n",
    "   - Incorpora lecturas y ejercicios en inglés relacionados con conceptos matemáticos para fortalecer el vocabulario y la comprensión del idioma.\n",
    "   - Utiliza recursos multimedia, como videos y tutoriales en línea, para apoyar el aprendizaje autónomo de los estudiantes.\n"
   ]
  },
  {
   "cell_type": "markdown",
   "id": "94eb1010",
   "metadata": {},
   "source": [
    "\n",
    "4. **Implementación del enfoque pedagógico de aula invertida:**\n",
    "   - Proporciona a los estudiantes acceso a materiales de aprendizaje antes de la clase, como cuadernos Jupyter con ejercicios y lecturas en inglés.\n",
    "   - Utiliza el tiempo en clase para actividades prácticas y colaborativas, donde los estudiantes puedan aplicar los conceptos aprendidos, resolver problemas y discutir en grupos.\n"
   ]
  },
  {
   "cell_type": "markdown",
   "id": "75dda2d1",
   "metadata": {},
   "source": [
    "\n",
    "5. **Metodología de clase basada en problemas (ABP):**\n",
    "   - Plantea problemas y desafíos relacionados con situaciones reales que requieran el uso de conceptos matemáticos, el inglés y la tecnología para su solución.\n",
    "   - Fomenta la participación activa de los estudiantes en la resolución de problemas, la discusión de estrategias y la presentación de soluciones.\n"
   ]
  },
  {
   "cell_type": "markdown",
   "id": "f5262339",
   "metadata": {},
   "source": [
    "\n",
    "6. **Evaluación y retroalimentación:**\n",
    "   - Implementa un sistema de evaluación formativa que permita monitorear el progreso de los estudiantes de manera continua.\n",
    "   - Proporciona retroalimentación individualizada y oportunidades para la reflexión sobre el aprendizaje y el desarrollo de habilidades.\n"
   ]
  },
  {
   "cell_type": "markdown",
   "id": "7bb4e865",
   "metadata": {},
   "source": [
    "\n",
    "7. **Mejora continua:**\n",
    "   - Recopila retroalimentación de los estudiantes y realiza ajustes en el plan de enseñanza según sea necesario.\n",
    "   - Mantente al tanto de las nuevas tendencias y herramientas en matemáticas, tecnología y enseñanza de idiomas para seguir mejorando la propuesta pedagógica y didáctica.\n"
   ]
  },
  {
   "cell_type": "markdown",
   "id": "4dbe7644",
   "metadata": {},
   "source": [
    "\n",
    "Al seguir estos pasos, podrás estructurar una propuesta pedagógica y didáctica efectiva que integre la enseñanza de matemáticas, inglés y tecnología, y promueva el aprendizaje significativo y el desarrollo de habilidades clave en los estudiantes de la licenciatura en matemáticas."
   ]
  },
  {
   "cell_type": "code",
   "execution_count": 1,
   "id": "7604880f",
   "metadata": {
    "slideshow": {
     "slide_type": "slide"
    }
   },
   "outputs": [
    {
     "name": "stdout",
     "output_type": "stream",
     "text": [
      "Llamando a ROSILLO TEJADA VANESA...\n",
      "Cambios guardados en el archivo CSV.\n",
      "Llamando a QUINONEZ CERVANTES MARIANA...\n"
     ]
    }
   ],
   "source": [
    "import pandas as pd\n",
    "import numpy as np\n",
    "\n",
    "# Cargar la lista de estudiantes desde la URL\n",
    "path = 'Users/marco/Documentos/docencia/groups_list/calculo_vectorial.csv'\n",
    "estudiantes = pd.read_csv(path)\n",
    "estudiantes['Parcial'] = estudiantes['Parcial'].astype(float) # hacer que todos los valores de la columna Parcial seen de tipo float\n",
    "\n",
    "# Convertir la columna 'Nombre' a una lista de Python\n",
    "lista_estudiantes = estudiantes['Nombre'].tolist()\n",
    "\n",
    "# Función para llamar a un estudiante aleatoriamente y registrar su nota de seguimiento\n",
    "def asistencia():\n",
    "    if lista_estudiantes:\n",
    "        estudiante_aleatorio = np.random.choice(lista_estudiantes)\n",
    "        print(f\"Llamando a {estudiante_aleatorio}...\")\n",
    "        asistencia = input(f\"¿Asistió {estudiante_aleatorio}? (s/n): \").strip().lower()\n",
    "        \n",
    "        if asistencia == 's':\n",
    "            # Obtener el índice del estudiante en el DataFrame\n",
    "            indice = estudiantes[estudiantes['Nombre'] == estudiante_aleatorio].index[0]\n",
    "            # Incrementar su valor en la columna 'Parcial'\n",
    "            estudiantes.at[indice, 'Parcial'] += 0.2\n",
    "            print(f\"Actualizado: {estudiante_aleatorio} ahora tiene {estudiantes.at[indice, 'Parcial']} en la columna 'Parcial'.\")\n",
    "        \n",
    "        lista_estudiantes.remove(estudiante_aleatorio)\n",
    "    else:\n",
    "        print(\"Se han llamado a todos los estudiantes del grupo completo.\")\n",
    "\n",
    "# Guardar los cambios en el archivo CSV\n",
    "def guardar_cambios():\n",
    "    estudiantes.to_csv(path, index=False)\n",
    "    print(\"Cambios guardados en el archivo CSV.\")\n",
    "\n",
    "# Ejemplo de uso\n",
    "while lista_estudiantes:\n",
    "    asistencia()\n",
    "    guardar_cambios()\n",
    "\n",
    "\n"
   ]
  },
  {
   "cell_type": "code",
   "execution_count": 8,
   "id": "d60b2bf1",
   "metadata": {},
   "outputs": [
    {
     "name": "stdout",
     "output_type": "stream",
     "text": [
      "Llamando a AYALA MENDOZA MARISOL YACIRA...\n"
     ]
    }
   ],
   "source": [
    "\n",
    "# Llamar a la función para realizar el proceso\n",
    "asistencia()\n"
   ]
  },
  {
   "cell_type": "markdown",
   "id": "4f9d8cf9",
   "metadata": {
    "slideshow": {
     "slide_type": "slide"
    }
   },
   "source": [
    "# Modelo general de clase: [aula invertida](https://www3.gobiernodecanarias.org/medusa/ecoescuela/pedagotic/aprendizaje-invertido-flipped-classroom/)"
   ]
  },
  {
   "cell_type": "markdown",
   "id": "eb6ed03a",
   "metadata": {},
   "source": [
    "![Definamos flipped learning de manera gráfica](https://resources.maneuveringthemiddle.com/wp-content/uploads/2020/07/04212706/1-5.png)"
   ]
  },
  {
   "cell_type": "markdown",
   "id": "8d97dc80",
   "metadata": {
    "slideshow": {
     "slide_type": "slide"
    }
   },
   "source": [
    "## Fomento de la lectura literaria asociada a Ingeniería agropecuaria y licenciatura en Matemáticas\n",
    "\n"
   ]
  },
  {
   "cell_type": "markdown",
   "id": "96775931",
   "metadata": {
    "slideshow": {
     "slide_type": "slide"
    }
   },
   "source": [
    "## Título de la clase: Práctica de pluviometría\n",
    "\n",
    "[]()"
   ]
  },
  {
   "cell_type": "markdown",
   "id": "1d38dd4e",
   "metadata": {
    "slideshow": {
     "slide_type": "slide"
    }
   },
   "source": [
    "### Objetivo de aprendizaje (Enunciar, de manera corta sencilla y clara para todos los asistentes)  \n",
    "\n",
    "1. Que el ingeniero agropecuario en formación presente de manera detallada y fundamentada, la forma de construcción de un pluviómetro casero atendiendo a los princípios matemáticos que fundamentan esta construcción. \n",
    "\n",
    "2. Y que el Ingeniero agropecuario en formación sepa obtener datos sobre precipitación y los sepa interpretar y visualizar tabular y gráficamente utilizando python en  cuadernos Jupyter. "
   ]
  },
  {
   "cell_type": "markdown",
   "id": "abeac7e1",
   "metadata": {},
   "source": [
    " De ahora en adelante, las clase tendran 4 objetivos de clase de acuerdo a las 4 dimensiones de mi práctica pedagógica\n",
    "\n",
    " \n"
   ]
  },
  {
   "cell_type": "markdown",
   "id": "1365025c",
   "metadata": {},
   "source": [
    "1. Conocimiento Teórico de Matemáticas\n",
    "\n",
    "Indicadores:\n",
    "\n",
    "* Comprensión de conceptos fundamentales de pluviometría.\n",
    "* Capacidad para medir el área de la base de un cilíndro circular recto.\n",
    "* Habilidad para metrizar un recipiente para medición de pluviometría.  \n",
    "* Capacidad de leer, escribir e interpretar utilizando la notación y terminología matemática propia de esta clase.\n",
    "* Capacidad para aplicar resultados científicos en problemas.\n"
   ]
  },
  {
   "cell_type": "markdown",
   "id": "97ab69df",
   "metadata": {},
   "source": [
    "\n",
    "2. Habilidad en Programación con Python\n",
    "\n",
    "Indicadores:\n",
    "\n",
    "* Capacidad para escribir y ejecutar scripts básicos en Python que le permitan obtener y visualizar la información o datos de pluviometría.\n",
    "* Comprensión y uso de estructuras de control (condicionales, bucles).\n",
    "* Uso de funciones y módulos en Python.\n",
    "* Manejo de estructuras de datos (listas, diccionarios, tuplas, nd-array de numpy, DataFrame de Pandas).\n",
    "* Habilidad para depurar y solucionar errores en el código.\n",
    "* Uso de bibliotecas matemáticas como NumPy, SymPy, scipy.\n"
   ]
  },
  {
   "cell_type": "markdown",
   "id": "0dd775aa",
   "metadata": {},
   "source": [
    "\n",
    "3. Pensamiento Computacional\n",
    "\n",
    "Indicadores:\n",
    "\n",
    "* Capacidad para descomponer problemas complejos en subproblemas manejables.\n",
    "* Habilidad para diseñar algoritmos eficientes para resolver problemas específicos.\n",
    "* Comprensión de la lógica detrás de las estructuras de control y su aplicación en la programación.\n",
    "* Capacidad para abstraer conceptos matemáticos en soluciones programables.\n",
    "* Habilidad para identificar y aplicar patrones en la resolución de problemas.\n"
   ]
  },
  {
   "cell_type": "markdown",
   "id": "1a57907e",
   "metadata": {},
   "source": [
    "\n",
    "4. Aplicación de Matemáticas en Problemas Reales\n",
    "\n",
    "Indicadores:\n",
    "\n",
    "* Capacidad para modelar situaciones reales utilizando funciones matemáticas.\n",
    "* Habilidad para implementar soluciones matemáticas en código Python para resolver problemas prácticos.\n",
    "* Comprensión de cómo interpretar los resultados obtenidos mediante simulaciones o cálculos computacionales.\n",
    "* Uso de Python para la visualización de datos y resultados matemáticos.\n",
    "* Capacidad para integrar conocimientos matemáticos y de programación en proyectos interdisciplinarios."
   ]
  },
  {
   "cell_type": "markdown",
   "id": "540f0ec1",
   "metadata": {
    "slideshow": {
     "slide_type": "slide"
    }
   },
   "source": [
    "## Cuestionario para realizar labores de memorización, observación y síntesis de la información (Además de diagnóstico)  \n",
    "[Realizar encuesta para participacion de todos los estudiantes para diagnosticar presaberes para la clase: mentimeter](https://www.mentimeter.com/es-ES/education/lectures)\n",
    "\n",
    "1. ¿?\n",
    "2. ¿?\n",
    "3. ¿?\n",
    "4. ¿?\n",
    "5. ¿?"
   ]
  },
  {
   "cell_type": "markdown",
   "id": "8e457ea2",
   "metadata": {},
   "source": [
    "# Definiciones y Resultados científicos a comprender y memorizar \n",
    "\n",
    "[Primera grabación en Vocaroo]()"
   ]
  },
  {
   "cell_type": "markdown",
   "id": "ca7261b1",
   "metadata": {
    "slideshow": {
     "slide_type": "slide"
    }
   },
   "source": [
    "## Establecimiento de prerrequisitos conceptuales para alcanzar el objetivo de aprendizaje trazado.   \n",
    "\n",
    "(Elabore una lista de preguntas al rededor de los conceptos que consideres necesarios para empezar la clase).  \n",
    "\n",
    "1. \n",
    "2. \n",
    "3. "
   ]
  },
  {
   "cell_type": "markdown",
   "id": "2298e976",
   "metadata": {
    "slideshow": {
     "slide_type": "slide"
    }
   },
   "source": [
    "# Para el diseño de la clase tenga en cuenta algunos problemas de aprendizaje"
   ]
  },
  {
   "cell_type": "markdown",
   "id": "523d3acf",
   "metadata": {
    "slideshow": {
     "slide_type": "slide"
    }
   },
   "source": []
  },
  {
   "cell_type": "markdown",
   "id": "a40a4704",
   "metadata": {
    "slideshow": {
     "slide_type": "slide"
    }
   },
   "source": [
    "## Secuencia conceptual introductoria a la clase"
   ]
  },
  {
   "cell_type": "markdown",
   "id": "8853d874",
   "metadata": {},
   "source": [
    "## El componente histórico y epistemológico"
   ]
  },
  {
   "cell_type": "markdown",
   "id": "e3ffa494",
   "metadata": {},
   "source": [
    "# Vocabulary   \n",
    "\n",
    "1. \n",
    "2.  \n",
    "3.  \n",
    "4.  \n",
    "5.  "
   ]
  },
  {
   "cell_type": "code",
   "execution_count": 3,
   "id": "bc0addfe",
   "metadata": {},
   "outputs": [
    {
     "data": {
      "text/plain": [
       "'Users\\\\marco\\\\Documentos\\\\docencia\\\\calculo\\\\images\\\\1_medicion\\\\Práctica de pluviometría.pdf'"
      ]
     },
     "execution_count": 3,
     "metadata": {},
     "output_type": "execute_result"
    }
   ],
   "source": [
    "# Mapa conceptual para la clase de pluviometría\n",
    "from graphviz import Digraph\n",
    "import pandas as pd\n",
    "import matplotlib.pyplot as plt\n",
    "\n",
    "# Crear un nuevo grafo dirigido\n",
    "dot = Digraph()\n",
    "\n",
    "# Concepto principal\n",
    "main_concept = 'Práctica de pluviometría'\n",
    "dot.node('A', main_concept)\n",
    "\n",
    "# Añadir conceptos clave\n",
    "dot.node('B', 'Precipitación')\n",
    "dot.node('C', 'Fundamentos Matemáticos')\n",
    "dot.node('D', 'Unidades de Medida')\n",
    "dot.node('E', 'Construcción de un Pluviómetro Casero')\n",
    "dot.node('F', 'Visualización de Datos con Python')\n",
    "dot.node('G', 'Pluviómetro')\n",
    "dot.node('H', 'Volumen de Precipitación (mm)')\n",
    "dot.node('I', 'Cálculo de Áreas y Volumen')\n",
    "dot.node('J', 'Obtención de Datos Históricos')\n",
    "dot.node('K', 'Uso de pandas y matplotlib')\n",
    "\n",
    "# Añadir relaciones entre los nodos\n",
    "dot.edges(['AB', 'AC', 'AD', 'AE', 'AF', 'BG', 'BH', 'CI', 'FJ', 'FK'])\n",
    "\n",
    "# Guardar el grafo como un archivo de imagen\n",
    "dot.render(filename=main_concept, format='png', cleanup=True, directory='Users/marco/Documentos/docencia/calculo/images/1_medicion')\n",
    "dot.view()\n"
   ]
  },
  {
   "cell_type": "code",
   "execution_count": 4,
   "id": "720995b8",
   "metadata": {},
   "outputs": [
    {
     "data": {
      "image/png": "[encoded data removed]",
      "text/plain": [
       "<Figure size 1000x600 with 1 Axes>"
      ]
     },
     "metadata": {},
     "output_type": "display_data"
    }
   ],
   "source": [
    "\n",
    "# Ejemplo de obtención y visualización de datos de pluviometría\n",
    "# Datos simulados de precipitación (puedes sustituir con datos reales)\n",
    "data = {'Fecha': pd.date_range(start='2023-01-01', periods=10, freq='D'),\n",
    "        'Precipitación (mm)': [5.2, 0.0, 3.5, 8.0, 1.2, 0.0, 4.3, 0.0, 6.5, 0.1]}\n",
    "df = pd.DataFrame(data)\n",
    "\n",
    "# Visualizar los datos\n",
    "df.set_index('Fecha', inplace=True)\n",
    "df.plot(kind='bar', figsize=(10, 6))\n",
    "plt.title('Precipitación Diaria')\n",
    "plt.ylabel('Precipitación (mm)')\n",
    "plt.xlabel('Fecha')\n",
    "plt.grid(True)\n",
    "plt.tight_layout()\n",
    "plt.show()"
   ]
  },
  {
   "cell_type": "markdown",
   "id": "10e55ccf",
   "metadata": {},
   "source": [
    "# Práctica de pluviometría "
   ]
  },
  {
   "cell_type": "markdown",
   "id": "239427f7",
   "metadata": {},
   "source": [
    "Para guiar a tus estudiantes en la práctica de pluviómetría para Ingeniería Agropecuaria, propongo una rúbrica que evalúe tanto:  \n",
    "\n",
    "* la parte práctica (elaboración de un pluviómetro casero) como \n",
    "* la parte matemática y técnica (uso de Jupyter con Python y LaTeX para modelar los fundamentos matemáticos de la precipitación).\n"
   ]
  },
  {
   "cell_type": "markdown",
   "id": "2d56031f",
   "metadata": {},
   "source": [
    "\n",
    "### Rúbrica para la Práctica de Pluviometría\n",
    "\n",
    "#### Criterios de evaluación (Total: 100 puntos)\n",
    "\n",
    "---\n"
   ]
  },
  {
   "cell_type": "markdown",
   "id": "b036f23f",
   "metadata": {},
   "source": [
    "\n",
    "### 1. **Elaboración y explicación del pluviómetro casero (30 puntos)**\n",
    "\n",
    "| Criterio                                          | Excelente (10 puntos)                     | Bueno (8 puntos)                         | Aceptable (6 puntos)                      | Insuficiente (4 puntos o menos) |\n",
    "|---------------------------------------------------|-------------------------------------------|------------------------------------------|-------------------------------------------|--------------------------------|\n",
    "| **Calidad del video**                             | El video es claro, bien iluminado, con audio nítido y buena edición. | El video es claro, pero con algunos problemas menores de calidad. | El video es comprensible, pero tiene varios problemas de calidad (audio o video). | El video es confuso o tiene muchos problemas técnicos. |\n",
    "| **Explicación del pluviómetro**                   | Explica detalladamente cada paso de la construcción del pluviómetro, mencionando herramientas y materiales. | Explica la construcción del pluviómetro, pero con algunos pasos no tan detallados. | Explica de manera muy general la construcción, con detalles faltantes. | No explica adecuadamente los pasos de la construcción. |\n",
    "| **Descripción de las unidades de medida (precipitación)** | Describe de manera precisa las unidades de medida en Colombia (mm, litros/m²), explicando sus usos en agropecuaria. | Menciona las unidades de medida correctas, pero con explicaciones limitadas. | Menciona algunas unidades de medida, pero con errores o sin explicación clara. | No describe adecuadamente las unidades de medida. |\n",
    "\n",
    "---\n"
   ]
  },
  {
   "cell_type": "markdown",
   "id": "3c6a514d",
   "metadata": {},
   "source": [
    "\n",
    "### 2. **Explicación matemática y uso de Jupyter Notebook (70 puntos)**\n",
    "\n",
    "#### Parte 1: **Explicación Matemática en Jupyter Notebook (34 puntos)**\n",
    "\n",
    "| Criterio                                          | Excelente (12 puntos)                     | Bueno (8 puntos)                         | Aceptable (6 puntos)                      | Insuficiente (4 puntos o menos) |\n",
    "|---------------------------------------------------|-------------------------------------------|------------------------------------------|-------------------------------------------|--------------------------------|\n",
    "| **Uso de LaTeX para ecuaciones**                  | Usa correctamente LaTeX para mostrar las ecuaciones matemáticas con claridad y buena presentación. | Usa LaTeX para mostrar las ecuaciones, aunque con pequeños errores en la sintaxis. | Usa LaTeX de manera básica, pero con varios errores. | No usa LaTeX o lo usa de forma incorrecta. |\n",
    "| **Proporcionalidad entre precipitación y área**   | Explica claramente la relación proporcional entre la medida en el pluviómetro y los litros por metro cuadrado (con ecuaciones). | Explica la proporcionalidad, pero con algunas deficiencias o confusiones en las ecuaciones. | La explicación es poco clara, con errores matemáticos. | No presenta adecuadamente la relación matemática o está ausente. |\n",
    "| **Fundamentos matemáticos bien explicados**       | Muestra y explica correctamente las fórmulas y conceptos matemáticos involucrados (volumen, área, altura de precipitación). | Muestra las fórmulas correctas, pero con explicaciones poco detalladas. | Presenta algunos fundamentos matemáticos, pero con errores conceptuales. | No presenta los fundamentos matemáticos o son erróneos. |\n"
   ]
  },
  {
   "cell_type": "markdown",
   "id": "ac08de54",
   "metadata": {},
   "source": [
    "\n",
    "#### Parte 2: **Uso de Python en Jupyter Notebook (30 puntos)**\n",
    "\n",
    "| Criterio                                          | Excelente (12 puntos)                     | Bueno (8 puntos)                         | Aceptable (6 puntos)                      | Insuficiente (4 puntos o menos) |\n",
    "|---------------------------------------------------|-------------------------------------------|------------------------------------------|-------------------------------------------|--------------------------------|\n",
    "| **Cálculos automáticos de precipitación**         | Implementa código Python claro y eficiente para realizar los cálculos de precipitación (litros/m²) a partir de las medidas del pluviómetro. | Implementa código Python funcional, aunque con algunos errores menores o ineficiencias. | El código Python presenta problemas importantes o no realiza correctamente los cálculos. | No presenta código Python funcional o está ausente. |\n",
    "| **Visualización de resultados**                   | Muestra los resultados de manera clara usando gráficos (matplotlib u otra librería), comparando las medidas de precipitación. | Muestra los resultados con gráficos básicos o no tan claros. | Presenta los resultados numéricos, pero sin visualización gráfica. | No presenta resultados claros ni gráficos. |\n",
    "| **Comentarios en el código**                      | El código está bien comentado, explicando cada paso y su relación con el problema de la precipitación. | El código tiene algunos comentarios, pero no explica todo el proceso. | El código tiene pocos comentarios o no explican adecuadamente el proceso. | El código no tiene comentarios o no está bien explicado. |\n",
    "\n",
    "---\n"
   ]
  },
  {
   "cell_type": "markdown",
   "id": "a54f5778",
   "metadata": {},
   "source": [
    "\n",
    "### **Total de Puntos: ____ / 100**\n",
    "\n",
    "---\n",
    "\n",
    "### Recomendaciones para el estudiante:\n",
    "- **Claridad en la explicación:** Tanto en el video como en el Jupyter Notebook, asegúrate de que tus explicaciones sean claras y detalladas. No asumas que los espectadores tienen conocimientos previos.\n",
    "- **Práctica en Python:** Revisa tu código y asegúrate de que los cálculos sean correctos. Python es una excelente herramienta para automatizar y verificar los cálculos de precipitación.\n",
    "- **Presentación visual:** Los gráficos pueden hacer que la información sea más accesible y fácil de entender. Utiliza bibliotecas como `matplotlib` o `seaborn` para mejorar la calidad de tus resultados visuales.\n",
    "- **Revisar errores:** Antes de finalizar tu video o tu cuaderno Jupyter, revisa todo en busca de errores de cálculo, sintaxis o presentación."
   ]
  },
  {
   "cell_type": "markdown",
   "id": "ec048afb",
   "metadata": {},
   "source": [
    "# Fundamentos matemáticos detrás de la medición de precipitación con pluvióemetro.   \n"
   ]
  },
  {
   "cell_type": "markdown",
   "id": "9b916025",
   "metadata": {},
   "source": [
    "\n",
    "A continuación te proporciono una presentación de los fundamentos matemáticos de la medición de precipitación con un pluviómetro casero, utilizando lenguaje LaTeX para las fórmulas y código Python para los cálculos. "
   ]
  },
  {
   "cell_type": "markdown",
   "id": "d1981d43",
   "metadata": {},
   "source": [
    "Este contenido puede ser integrado en un cuaderno Jupyter, donde los estudiantes podrán interactuar con el código y las ecuaciones.\n",
    "\n",
    "---\n"
   ]
  },
  {
   "cell_type": "markdown",
   "id": "81811c67",
   "metadata": {},
   "source": [
    "\n",
    "## **Fundamentos Matemáticos de la Medición de Precipitación con un Pluviómetro Casero**\n"
   ]
  },
  {
   "cell_type": "markdown",
   "id": "e7cb9600",
   "metadata": {},
   "source": [
    "\n",
    "La precipitación es una medida del volumen de agua que cae sobre una superficie en un periodo de tiempo determinado, usualmente expresada en **milímetros (mm)**. En esta práctica, utilizaremos un pluviómetro casero y Python para calcular la precipitación en litros por metro cuadrado (**L/m²**).\n"
   ]
  },
  {
   "cell_type": "markdown",
   "id": "61d8ed17",
   "metadata": {},
   "source": [
    "\n",
    "### 1. **Relación Matemática entre la Medida del Pluviómetro y la Precipitación**\n",
    "   \n",
    "Un pluviómetro casero mide la altura de la precipitación en un recipiente cilíndrico. Para calcular la cantidad de precipitación en litros por metro cuadrado a partir de la altura de agua recolectada, usamos la siguiente fórmula:\n",
    "\n",
    "$$\n",
    "P = \\frac{V_{\\text{recipiente}}}{A_{\\text{base del pluviometro}}}\n",
    "$$\n",
    "\n",
    "Donde:\n",
    "- $P$ es la precipitación en litros por metro cuadrado (L/m²),\n",
    "- $V$ es el volumen de agua en litros ($L$),\n",
    "- $A$ es el área de la superficie donde se mide la precipitación, en metros cuadrados ($m^2$).\n"
   ]
  },
  {
   "cell_type": "markdown",
   "id": "a48763f9",
   "metadata": {},
   "source": [
    "\n",
    "En un pluviómetro casero, el volumen del agua acumulada es el producto del área de la base del recipiente ($A_{\\text{base}}$) y la altura de la precipitación ($h$):\n"
   ]
  },
  {
   "cell_type": "markdown",
   "id": "f720241e",
   "metadata": {},
   "source": [
    "\n",
    "$$\n",
    "V = A_{\\text{base}} \\cdot h\n",
    "$$\n",
    "\n",
    "Sustituyendo $V$ en la primera ecuación:\n",
    "\n",
    "$$\n",
    "P = \\frac{A_{\\text{base}} \\cdot h}{A}\n",
    "$$\n"
   ]
  },
  {
   "cell_type": "markdown",
   "id": "419d0b34",
   "metadata": {},
   "source": [
    "\n",
    "Si el área $A$ es medida en metros cuadrados, la fórmula se simplifica a:\n",
    "\n",
    "$$\n",
    "P = h \\quad \\text{(en mm para una relación directa entre la altura del pluviómetro y la precipitación en L/m²)} \n",
    "$$\n",
    "\n",
    "---\n"
   ]
  },
  {
   "cell_type": "markdown",
   "id": "9e0a7aad",
   "metadata": {},
   "source": [
    "\n",
    "### 2. **Código Python para Cálculos de Precipitación**\n",
    "\n",
    "A continuación, implementamos el cálculo de precipitación en un cuaderno Jupyter utilizando Python.\n",
    "\n",
    "#### Definir los parámetros del pluviómetro\n"
   ]
  },
  {
   "cell_type": "code",
   "execution_count": 6,
   "id": "b6eb8591",
   "metadata": {},
   "outputs": [],
   "source": [
    "import math\n",
    "def calcular_precipitacion(diametro_cm, altura_precipitacion_mm):\n",
    "    '''diametro_cm: el diametro del recipiente o pluviometro\n",
    "    altura_cm: la altura alcanzada por el agua en milímetros\n",
    "    '''\n",
    "    radio_pluviometro_cm = diametro_cm/2  # Radio de la base del pluviómetro en cm\n",
    "    # Convertir radio a metros\n",
    "    radio_pluviometro_m = radio_pluviometro_cm / 100\n",
    "\n",
    "    # Área de la base del pluviómetro en m²\n",
    "    area_base_pluviometro_m2 = math.pi * radio_pluviometro_m**2\n",
    "    # Convertir altura de mm a metros\n",
    "    altura_precipitacion_m = altura_precipitacion_mm / 1000\n",
    "    # Volumen de agua en m³ (equivale a Litros, ya que 1 m³ = 1000 Litros)\n",
    "    volumen_agua_m3 = area_base_pluviometro_m2 * altura_precipitacion_m\n",
    "    volumen_agua_L = volumen_agua_m3 * 1000  # Convertimos a litros\n",
    "    # Precipitación en litros por metro cuadrado\n",
    "    precipitacion_L_por_m2 = volumen_agua_L/area_base_pluviometro_m2  # Equivale directamente a la altura en mm\n",
    "    return precipitacion_L_por_m2\n"
   ]
  },
  {
   "cell_type": "code",
   "execution_count": 7,
   "id": "356fcba5",
   "metadata": {},
   "outputs": [
    {
     "data": {
      "text/plain": [
       "3.0"
      ]
     },
     "execution_count": 7,
     "metadata": {},
     "output_type": "execute_result"
    }
   ],
   "source": [
    "calcular_precipitacion(10, 3)"
   ]
  },
  {
   "cell_type": "markdown",
   "id": "7953355a",
   "metadata": {},
   "source": [
    "## Interpretación y conclusiones del usu de la función para calcular precipitación  \n",
    "\n",
    "* la altura en milímetros alcanzada por el agua en el pluviómetro es numéricamente igual a la cantidad de litros por metro cuadrado que  cae en un día en la zona de estudio. "
   ]
  },
  {
   "cell_type": "markdown",
   "id": "0e5299e6",
   "metadata": {},
   "source": [
    "[Fundamentos matemáticos de la pluviometría](https://www.youtube.com/watch?v=as5c_UhcWSU)"
   ]
  },
  {
   "cell_type": "markdown",
   "id": "4d4a003e",
   "metadata": {},
   "source": [
    "\n",
    "#### Explicación del código:\n",
    "1. Definimos el **radio** de la base del pluviómetro y la **altura** de la precipitación recolectada.\n",
    "2. Calculamos el **área de la base** del pluviómetro en metros cuadrados utilizando la fórmula $ A_{\\text{base}} = \\pi r^{2} $.\n",
    "3. Convertimos la altura de la precipitación de milímetros a metros y calculamos el **volumen de agua** recolectada en litros.\n",
    "4. Dado que 1 mm de precipitación corresponde a 1 litro por metro cuadrado, la precipitación en $L/m^{2}$ es igual a la altura recolectada en el pluviómetro.\n",
    "\n",
    "---\n"
   ]
  },
  {
   "cell_type": "markdown",
   "id": "76ab35bf",
   "metadata": {},
   "source": [
    "\n",
    "### 3. **Conclusión**\n",
    "\n",
    "A través de este modelo matemático y su implementación en Python, hemos demostrado cómo la altura de precipitación recolectada en un pluviómetro casero se puede traducir en litros por metro cuadrado. Este tipo de mediciones es útil en la ingeniería agropecuaria para monitorear la disponibilidad de agua en una zona y tomar decisiones sobre riego y manejo de cultivos.\n",
    "\n",
    "Además, utilizando herramientas como LaTeX y Python en cuadernos Jupyter, podemos visualizar y realizar cálculos de manera eficiente, facilitando el análisis de datos experimentales."
   ]
  },
  {
   "cell_type": "markdown",
   "id": "c9b6602d",
   "metadata": {},
   "source": [
    "# Práctica de obtención y visualización de datos de precipitación en Caucasia y municipios cercanos  \n",
    "\n",
    "Para obtener datos de pluviometría de las estaciones asociadas a Fedearroz que estén cerca de Caucasia, Antioquia, te sugiero seguir estos pasos:\n",
    "\n",
    "### 1. **Identificar las estaciones meteorológicas de Fedearroz**\n",
    "   - **Fedearroz** (Federación Nacional de Arroceros de Colombia) tiene varias estaciones meteorológicas en las principales zonas arroceras del país. Para determinar si hay alguna cercana a Caucasia, puedes:\n",
    "     - **Contactar directamente a Fedearroz**: Consulta su página web oficial o contacta al equipo de Fedearroz por correo o teléfono para solicitar datos de estaciones meteorológicas en Antioquia, y específicamente en la zona de Caucasia.\n",
    "     - **Consulta pública en plataformas de Fedearroz**: Fedearroz podría tener una plataforma o informes anuales que incluyan información sobre las estaciones meteorológicas que manejan. A menudo, los datos se publican de manera regionalizada.\n",
    "\n",
    "[Conozca el clima histórico de la región](https://clima.fedearroz.com.co/historico-region/)\n"
   ]
  },
  {
   "cell_type": "markdown",
   "id": "60c2509c",
   "metadata": {},
   "source": [
    "\n",
    "\n",
    "### 2. **Solicitar acceso a los datos**\n",
    "   - Si Fedearroz no publica los datos en línea, es posible que debas enviar una solicitud formal para obtener acceso a los datos de pluviometría. Puedes explicar el propósito de tu investigación, indicando que deseas obtener datos históricos y actuales de pluviometría para estaciones meteorológicas cercanas a Caucasia.\n",
    "\n",
    "   Un ejemplo de correo formal podría ser:\n"
   ]
  },
  {
   "cell_type": "markdown",
   "id": "00c200e9",
   "metadata": {},
   "source": [
    "   ```text\n",
    "   Estimados señores de Fedearroz,\n",
    "\n",
    "   Mi nombre es Marco Julio y soy docente e investigador en la Universidad de Antioquia, Campus Caucasia. Actualmente estamos desarrollando un proyecto de investigación en el que analizamos las relaciones entre variables meteorológicas y las tasas de enfermedades virales transmitidas por vectores en la región del Bajo Cauca.\n",
    "\n",
    "   En este sentido, me gustaría solicitar acceso a los datos históricos y actuales de pluviometría de las estaciones meteorológicas de Fedearroz más cercanas a Caucasia, Antioquia. Estos datos serán fundamentales para correlacionar las condiciones climáticas con los indicadores de salud pública en nuestra investigación.\n",
    "\n",
    "   Agradezco de antemano su atención y quedo atento a cualquier trámite adicional o información que requieran.\n",
    "\n",
    "   Cordialmente,  \n",
    "   Marco Julio  \n",
    "   Profesor de Matemáticas  \n",
    "   Universidad de Antioquia – Campus Caucasia\n",
    "   ```\n"
   ]
  },
  {
   "cell_type": "markdown",
   "id": "550ff80c",
   "metadata": {},
   "source": [
    "\n",
    "### 3. **Otras fuentes complementarias**\n",
    "   - **IDEAM (Instituto de Hidrología, Meteorología y Estudios Ambientales)**: Puedes consultar la página de IDEAM, ya que ellos suelen ofrecer datos meteorológicos y climáticos, incluyendo pluviometría, para diversas estaciones en todo el país, y es posible que encuentres información cercana a Caucasia. Si Fedearroz no tiene estaciones cercanas, [IDEAM](https://ideam.gov.co/) podría cubrir la zona.\n",
    "   \n",
    "   - **Antioquia Mira Su Cielo**: Otro recurso que puedes usar es el proyecto \"Antioquia Mira Su Cielo\", que ha recopilado información meteorológica en varias subregiones de Antioquia. Esto podría complementar los datos que obtengas de Fedearroz.\n"
   ]
  },
  {
   "cell_type": "markdown",
   "id": "cf1a0f33",
   "metadata": {},
   "source": [
    "\n",
    "### 4. **Plataformas de datos abiertos**\n",
    "   - Si las anteriores fuentes no ofrecen lo que necesitas, considera explorar bases de datos abiertos o repositorios de investigaciones meteorológicas y agropecuarias en Colombia. Estas pueden incluir datos históricos de varias fuentes colaborativas.\n",
    "\n",
    "Siguiendo estos pasos, estarás bien encaminado para recopilar los datos de pluviometría necesarios para tu proyecto de investigación."
   ]
  },
  {
   "cell_type": "markdown",
   "id": "ee5e7308",
   "metadata": {},
   "source": [
    "# Práctica de obtención y visualización de datos de precipitación"
   ]
  },
  {
   "cell_type": "code",
   "execution_count": 2,
   "id": "d532d6de",
   "metadata": {},
   "outputs": [
    {
     "data": {
      "text/html": [
       "<div>\n",
       "<style scoped>\n",
       "    .dataframe tbody tr th:only-of-type {\n",
       "        vertical-align: middle;\n",
       "    }\n",
       "\n",
       "    .dataframe tbody tr th {\n",
       "        vertical-align: top;\n",
       "    }\n",
       "\n",
       "    .dataframe thead th {\n",
       "        text-align: right;\n",
       "    }\n",
       "</style>\n",
       "<table border=\"1\" class=\"dataframe\">\n",
       "  <thead>\n",
       "    <tr style=\"text-align: right;\">\n",
       "      <th></th>\n",
       "      <th>CodigoEstacion</th>\n",
       "      <th>NombreEstacion</th>\n",
       "      <th>Latitud</th>\n",
       "      <th>Longitud</th>\n",
       "      <th>Altitud</th>\n",
       "      <th>Categoria</th>\n",
       "      <th>Entidad</th>\n",
       "      <th>AreaOperativa</th>\n",
       "      <th>Departamento</th>\n",
       "      <th>Municipio</th>\n",
       "      <th>...</th>\n",
       "      <th>FechaSuspension</th>\n",
       "      <th>IdParametro</th>\n",
       "      <th>Etiqueta</th>\n",
       "      <th>DescripcionSerie</th>\n",
       "      <th>Frecuencia</th>\n",
       "      <th>Fecha</th>\n",
       "      <th>Valor</th>\n",
       "      <th>Grado</th>\n",
       "      <th>Calificador</th>\n",
       "      <th>NivelAprobacion</th>\n",
       "    </tr>\n",
       "  </thead>\n",
       "  <tbody>\n",
       "    <tr>\n",
       "      <th>0</th>\n",
       "      <td>26247020</td>\n",
       "      <td>LA COQUERA [26247020]</td>\n",
       "      <td>7.96</td>\n",
       "      <td>-75.2</td>\n",
       "      <td>49</td>\n",
       "      <td>Limnigráfica</td>\n",
       "      <td>INSTITUTO DE HIDROLOGIA METEOROLOGIA Y ESTUDIO...</td>\n",
       "      <td>Area Operativa 01 - Antioquia-Chocó</td>\n",
       "      <td>Antioquia</td>\n",
       "      <td>Caucasia</td>\n",
       "      <td>...</td>\n",
       "      <td>NaN</td>\n",
       "      <td>PRECIPITACION</td>\n",
       "      <td>PT_10_TT_D</td>\n",
       "      <td>Precipitación total diaria (automática)</td>\n",
       "      <td>Diaria</td>\n",
       "      <td>2021-01-01 00:00</td>\n",
       "      <td>0.0</td>\n",
       "      <td>50</td>\n",
       "      <td>NaN</td>\n",
       "      <td>900</td>\n",
       "    </tr>\n",
       "    <tr>\n",
       "      <th>1</th>\n",
       "      <td>26247020</td>\n",
       "      <td>LA COQUERA [26247020]</td>\n",
       "      <td>7.96</td>\n",
       "      <td>-75.2</td>\n",
       "      <td>49</td>\n",
       "      <td>Limnigráfica</td>\n",
       "      <td>INSTITUTO DE HIDROLOGIA METEOROLOGIA Y ESTUDIO...</td>\n",
       "      <td>Area Operativa 01 - Antioquia-Chocó</td>\n",
       "      <td>Antioquia</td>\n",
       "      <td>Caucasia</td>\n",
       "      <td>...</td>\n",
       "      <td>NaN</td>\n",
       "      <td>PRECIPITACION</td>\n",
       "      <td>PT_10_TT_D</td>\n",
       "      <td>Precipitación total diaria (automática)</td>\n",
       "      <td>Diaria</td>\n",
       "      <td>2021-01-02 00:00</td>\n",
       "      <td>0.0</td>\n",
       "      <td>50</td>\n",
       "      <td>NaN</td>\n",
       "      <td>900</td>\n",
       "    </tr>\n",
       "    <tr>\n",
       "      <th>2</th>\n",
       "      <td>26247020</td>\n",
       "      <td>LA COQUERA [26247020]</td>\n",
       "      <td>7.96</td>\n",
       "      <td>-75.2</td>\n",
       "      <td>49</td>\n",
       "      <td>Limnigráfica</td>\n",
       "      <td>INSTITUTO DE HIDROLOGIA METEOROLOGIA Y ESTUDIO...</td>\n",
       "      <td>Area Operativa 01 - Antioquia-Chocó</td>\n",
       "      <td>Antioquia</td>\n",
       "      <td>Caucasia</td>\n",
       "      <td>...</td>\n",
       "      <td>NaN</td>\n",
       "      <td>PRECIPITACION</td>\n",
       "      <td>PT_10_TT_D</td>\n",
       "      <td>Precipitación total diaria (automática)</td>\n",
       "      <td>Diaria</td>\n",
       "      <td>2021-01-03 00:00</td>\n",
       "      <td>0.0</td>\n",
       "      <td>50</td>\n",
       "      <td>NaN</td>\n",
       "      <td>900</td>\n",
       "    </tr>\n",
       "    <tr>\n",
       "      <th>3</th>\n",
       "      <td>26247020</td>\n",
       "      <td>LA COQUERA [26247020]</td>\n",
       "      <td>7.96</td>\n",
       "      <td>-75.2</td>\n",
       "      <td>49</td>\n",
       "      <td>Limnigráfica</td>\n",
       "      <td>INSTITUTO DE HIDROLOGIA METEOROLOGIA Y ESTUDIO...</td>\n",
       "      <td>Area Operativa 01 - Antioquia-Chocó</td>\n",
       "      <td>Antioquia</td>\n",
       "      <td>Caucasia</td>\n",
       "      <td>...</td>\n",
       "      <td>NaN</td>\n",
       "      <td>PRECIPITACION</td>\n",
       "      <td>PT_10_TT_D</td>\n",
       "      <td>Precipitación total diaria (automática)</td>\n",
       "      <td>Diaria</td>\n",
       "      <td>2021-01-04 00:00</td>\n",
       "      <td>0.0</td>\n",
       "      <td>50</td>\n",
       "      <td>NaN</td>\n",
       "      <td>900</td>\n",
       "    </tr>\n",
       "    <tr>\n",
       "      <th>4</th>\n",
       "      <td>26247020</td>\n",
       "      <td>LA COQUERA [26247020]</td>\n",
       "      <td>7.96</td>\n",
       "      <td>-75.2</td>\n",
       "      <td>49</td>\n",
       "      <td>Limnigráfica</td>\n",
       "      <td>INSTITUTO DE HIDROLOGIA METEOROLOGIA Y ESTUDIO...</td>\n",
       "      <td>Area Operativa 01 - Antioquia-Chocó</td>\n",
       "      <td>Antioquia</td>\n",
       "      <td>Caucasia</td>\n",
       "      <td>...</td>\n",
       "      <td>NaN</td>\n",
       "      <td>PRECIPITACION</td>\n",
       "      <td>PT_10_TT_D</td>\n",
       "      <td>Precipitación total diaria (automática)</td>\n",
       "      <td>Diaria</td>\n",
       "      <td>2021-01-05 00:00</td>\n",
       "      <td>0.0</td>\n",
       "      <td>50</td>\n",
       "      <td>NaN</td>\n",
       "      <td>900</td>\n",
       "    </tr>\n",
       "  </tbody>\n",
       "</table>\n",
       "<p>5 rows × 21 columns</p>\n",
       "</div>"
      ],
      "text/plain": [
       "   CodigoEstacion         NombreEstacion  Latitud  Longitud  Altitud  \\\n",
       "0        26247020  LA COQUERA [26247020]     7.96     -75.2       49   \n",
       "1        26247020  LA COQUERA [26247020]     7.96     -75.2       49   \n",
       "2        26247020  LA COQUERA [26247020]     7.96     -75.2       49   \n",
       "3        26247020  LA COQUERA [26247020]     7.96     -75.2       49   \n",
       "4        26247020  LA COQUERA [26247020]     7.96     -75.2       49   \n",
       "\n",
       "      Categoria                                            Entidad  \\\n",
       "0  Limnigráfica  INSTITUTO DE HIDROLOGIA METEOROLOGIA Y ESTUDIO...   \n",
       "1  Limnigráfica  INSTITUTO DE HIDROLOGIA METEOROLOGIA Y ESTUDIO...   \n",
       "2  Limnigráfica  INSTITUTO DE HIDROLOGIA METEOROLOGIA Y ESTUDIO...   \n",
       "3  Limnigráfica  INSTITUTO DE HIDROLOGIA METEOROLOGIA Y ESTUDIO...   \n",
       "4  Limnigráfica  INSTITUTO DE HIDROLOGIA METEOROLOGIA Y ESTUDIO...   \n",
       "\n",
       "                         AreaOperativa Departamento Municipio  ...  \\\n",
       "0  Area Operativa 01 - Antioquia-Chocó    Antioquia  Caucasia  ...   \n",
       "1  Area Operativa 01 - Antioquia-Chocó    Antioquia  Caucasia  ...   \n",
       "2  Area Operativa 01 - Antioquia-Chocó    Antioquia  Caucasia  ...   \n",
       "3  Area Operativa 01 - Antioquia-Chocó    Antioquia  Caucasia  ...   \n",
       "4  Area Operativa 01 - Antioquia-Chocó    Antioquia  Caucasia  ...   \n",
       "\n",
       "  FechaSuspension    IdParametro    Etiqueta  \\\n",
       "0             NaN  PRECIPITACION  PT_10_TT_D   \n",
       "1             NaN  PRECIPITACION  PT_10_TT_D   \n",
       "2             NaN  PRECIPITACION  PT_10_TT_D   \n",
       "3             NaN  PRECIPITACION  PT_10_TT_D   \n",
       "4             NaN  PRECIPITACION  PT_10_TT_D   \n",
       "\n",
       "                          DescripcionSerie Frecuencia             Fecha Valor  \\\n",
       "0  Precipitación total diaria (automática)     Diaria  2021-01-01 00:00   0.0   \n",
       "1  Precipitación total diaria (automática)     Diaria  2021-01-02 00:00   0.0   \n",
       "2  Precipitación total diaria (automática)     Diaria  2021-01-03 00:00   0.0   \n",
       "3  Precipitación total diaria (automática)     Diaria  2021-01-04 00:00   0.0   \n",
       "4  Precipitación total diaria (automática)     Diaria  2021-01-05 00:00   0.0   \n",
       "\n",
       "   Grado  Calificador  NivelAprobacion  \n",
       "0     50          NaN              900  \n",
       "1     50          NaN              900  \n",
       "2     50          NaN              900  \n",
       "3     50          NaN              900  \n",
       "4     50          NaN              900  \n",
       "\n",
       "[5 rows x 21 columns]"
      ]
     },
     "execution_count": 2,
     "metadata": {},
     "output_type": "execute_result"
    }
   ],
   "source": [
    "import pandas as pd      \n",
    "url = 'https://raw.githubusercontent.com/marco-canas/calculo/refs/heads/main/classes/1_medicion/2_volumenes/4_pluviometria/precipitacion_2022_caucasia.csv.csv'\n",
    "df = pd.read_csv(url)\n",
    "\n",
    "df.head() "
   ]
  },
  {
   "cell_type": "markdown",
   "id": "b9e585e7",
   "metadata": {},
   "source": [
    "[Datos de precipitación en caucasia de 2022 del IDEAM](https://www.youtube.com/watch?v=0ZqUnbw5_9A)"
   ]
  },
  {
   "cell_type": "code",
   "execution_count": null,
   "id": "b3a3c053",
   "metadata": {},
   "outputs": [],
   "source": []
  },
  {
   "cell_type": "code",
   "execution_count": null,
   "id": "fc6a85be",
   "metadata": {},
   "outputs": [],
   "source": []
  },
  {
   "cell_type": "markdown",
   "id": "64ac8d32",
   "metadata": {},
   "source": [
    "# Ejemplo ilustrativo"
   ]
  },
  {
   "cell_type": "markdown",
   "id": "a3e5e6ab",
   "metadata": {},
   "source": [
    "# 10 ejercicios de entrenamiento o adquisición de habilidades obtenido a través de ChatGPT para una formación personalizada y centrada en la habilidad que se quiere lograr con la enseñanza del ejemplo anterior"
   ]
  },
  {
   "cell_type": "code",
   "execution_count": null,
   "id": "cc539357",
   "metadata": {},
   "outputs": [],
   "source": []
  },
  {
   "cell_type": "markdown",
   "id": "2f0141c3",
   "metadata": {},
   "source": [
    "## Tareas para realizar antes de la clase  \n",
    "\n",
    "1. Ver los videos respectivos []()\n",
    "2. Memorizar las definiciones []()\n",
    "3. Sintetizar o resumir la información en mapas conceptuales. []()\n",
    "4. Tareas para incentivar el uso de la calculadora Casio Para ingenieros y licenciados. \n",
    "5. Leer los ejemplos resueltos y repricar la manera de hacerlos"
   ]
  },
  {
   "cell_type": "code",
   "execution_count": 1,
   "id": "83d849ab",
   "metadata": {},
   "outputs": [
    {
     "ename": "HTTPError",
     "evalue": "HTTP Error 404: Not Found",
     "output_type": "error",
     "traceback": [
      "\u001b[1;31m---------------------------------------------------------------------------\u001b[0m",
      "\u001b[1;31mHTTPError\u001b[0m                                 Traceback (most recent call last)",
      "Cell \u001b[1;32mIn[1], line 23\u001b[0m\n\u001b[0;32m     20\u001b[0m students_url \u001b[38;5;241m=\u001b[39m \u001b[38;5;124m\"\u001b[39m\u001b[38;5;124mhttps://raw.githubusercontent.com/marco-canas/groups_list/main/\u001b[39m\u001b[38;5;124m\"\u001b[39m \u001b[38;5;241m+\u001b[39m grupo_estudiantes \u001b[38;5;241m+\u001b[39m \u001b[38;5;124m\"\u001b[39m\u001b[38;5;124m.csv\u001b[39m\u001b[38;5;124m\"\u001b[39m\n\u001b[0;32m     21\u001b[0m examples \u001b[38;5;241m=\u001b[39m \u001b[38;5;28mlist\u001b[39m(\u001b[38;5;28mrange\u001b[39m(\u001b[38;5;241m1\u001b[39m, numero_ejemplos_de_la_seccion))  \n\u001b[1;32m---> 23\u001b[0m students_data \u001b[38;5;241m=\u001b[39m \u001b[43mpd\u001b[49m\u001b[38;5;241;43m.\u001b[39;49m\u001b[43mread_csv\u001b[49m\u001b[43m(\u001b[49m\u001b[43mstudents_url\u001b[49m\u001b[43m)\u001b[49m\n\u001b[0;32m     25\u001b[0m \u001b[38;5;66;03m# Crear una lista para almacenar las asignaciones\u001b[39;00m\n\u001b[0;32m     26\u001b[0m assignments \u001b[38;5;241m=\u001b[39m []\n",
      "File \u001b[1;32m~\\AppData\\Local\\Packages\\PythonSoftwareFoundation.Python.3.12_qbz5n2kfra8p0\\LocalCache\\local-packages\\Python312\\site-packages\\pandas\\io\\parsers\\readers.py:1026\u001b[0m, in \u001b[0;36mread_csv\u001b[1;34m(filepath_or_buffer, sep, delimiter, header, names, index_col, usecols, dtype, engine, converters, true_values, false_values, skipinitialspace, skiprows, skipfooter, nrows, na_values, keep_default_na, na_filter, verbose, skip_blank_lines, parse_dates, infer_datetime_format, keep_date_col, date_parser, date_format, dayfirst, cache_dates, iterator, chunksize, compression, thousands, decimal, lineterminator, quotechar, quoting, doublequote, escapechar, comment, encoding, encoding_errors, dialect, on_bad_lines, delim_whitespace, low_memory, memory_map, float_precision, storage_options, dtype_backend)\u001b[0m\n\u001b[0;32m   1013\u001b[0m kwds_defaults \u001b[38;5;241m=\u001b[39m _refine_defaults_read(\n\u001b[0;32m   1014\u001b[0m     dialect,\n\u001b[0;32m   1015\u001b[0m     delimiter,\n\u001b[1;32m   (...)\u001b[0m\n\u001b[0;32m   1022\u001b[0m     dtype_backend\u001b[38;5;241m=\u001b[39mdtype_backend,\n\u001b[0;32m   1023\u001b[0m )\n\u001b[0;32m   1024\u001b[0m kwds\u001b[38;5;241m.\u001b[39mupdate(kwds_defaults)\n\u001b[1;32m-> 1026\u001b[0m \u001b[38;5;28;01mreturn\u001b[39;00m \u001b[43m_read\u001b[49m\u001b[43m(\u001b[49m\u001b[43mfilepath_or_buffer\u001b[49m\u001b[43m,\u001b[49m\u001b[43m \u001b[49m\u001b[43mkwds\u001b[49m\u001b[43m)\u001b[49m\n",
      "File \u001b[1;32m~\\AppData\\Local\\Packages\\PythonSoftwareFoundation.Python.3.12_qbz5n2kfra8p0\\LocalCache\\local-packages\\Python312\\site-packages\\pandas\\io\\parsers\\readers.py:620\u001b[0m, in \u001b[0;36m_read\u001b[1;34m(filepath_or_buffer, kwds)\u001b[0m\n\u001b[0;32m    617\u001b[0m _validate_names(kwds\u001b[38;5;241m.\u001b[39mget(\u001b[38;5;124m\"\u001b[39m\u001b[38;5;124mnames\u001b[39m\u001b[38;5;124m\"\u001b[39m, \u001b[38;5;28;01mNone\u001b[39;00m))\n\u001b[0;32m    619\u001b[0m \u001b[38;5;66;03m# Create the parser.\u001b[39;00m\n\u001b[1;32m--> 620\u001b[0m parser \u001b[38;5;241m=\u001b[39m \u001b[43mTextFileReader\u001b[49m\u001b[43m(\u001b[49m\u001b[43mfilepath_or_buffer\u001b[49m\u001b[43m,\u001b[49m\u001b[43m \u001b[49m\u001b[38;5;241;43m*\u001b[39;49m\u001b[38;5;241;43m*\u001b[39;49m\u001b[43mkwds\u001b[49m\u001b[43m)\u001b[49m\n\u001b[0;32m    622\u001b[0m \u001b[38;5;28;01mif\u001b[39;00m chunksize \u001b[38;5;129;01mor\u001b[39;00m iterator:\n\u001b[0;32m    623\u001b[0m     \u001b[38;5;28;01mreturn\u001b[39;00m parser\n",
      "File \u001b[1;32m~\\AppData\\Local\\Packages\\PythonSoftwareFoundation.Python.3.12_qbz5n2kfra8p0\\LocalCache\\local-packages\\Python312\\site-packages\\pandas\\io\\parsers\\readers.py:1620\u001b[0m, in \u001b[0;36mTextFileReader.__init__\u001b[1;34m(self, f, engine, **kwds)\u001b[0m\n\u001b[0;32m   1617\u001b[0m     \u001b[38;5;28mself\u001b[39m\u001b[38;5;241m.\u001b[39moptions[\u001b[38;5;124m\"\u001b[39m\u001b[38;5;124mhas_index_names\u001b[39m\u001b[38;5;124m\"\u001b[39m] \u001b[38;5;241m=\u001b[39m kwds[\u001b[38;5;124m\"\u001b[39m\u001b[38;5;124mhas_index_names\u001b[39m\u001b[38;5;124m\"\u001b[39m]\n\u001b[0;32m   1619\u001b[0m \u001b[38;5;28mself\u001b[39m\u001b[38;5;241m.\u001b[39mhandles: IOHandles \u001b[38;5;241m|\u001b[39m \u001b[38;5;28;01mNone\u001b[39;00m \u001b[38;5;241m=\u001b[39m \u001b[38;5;28;01mNone\u001b[39;00m\n\u001b[1;32m-> 1620\u001b[0m \u001b[38;5;28mself\u001b[39m\u001b[38;5;241m.\u001b[39m_engine \u001b[38;5;241m=\u001b[39m \u001b[38;5;28;43mself\u001b[39;49m\u001b[38;5;241;43m.\u001b[39;49m\u001b[43m_make_engine\u001b[49m\u001b[43m(\u001b[49m\u001b[43mf\u001b[49m\u001b[43m,\u001b[49m\u001b[43m \u001b[49m\u001b[38;5;28;43mself\u001b[39;49m\u001b[38;5;241;43m.\u001b[39;49m\u001b[43mengine\u001b[49m\u001b[43m)\u001b[49m\n",
      "File \u001b[1;32m~\\AppData\\Local\\Packages\\PythonSoftwareFoundation.Python.3.12_qbz5n2kfra8p0\\LocalCache\\local-packages\\Python312\\site-packages\\pandas\\io\\parsers\\readers.py:1880\u001b[0m, in \u001b[0;36mTextFileReader._make_engine\u001b[1;34m(self, f, engine)\u001b[0m\n\u001b[0;32m   1878\u001b[0m     \u001b[38;5;28;01mif\u001b[39;00m \u001b[38;5;124m\"\u001b[39m\u001b[38;5;124mb\u001b[39m\u001b[38;5;124m\"\u001b[39m \u001b[38;5;129;01mnot\u001b[39;00m \u001b[38;5;129;01min\u001b[39;00m mode:\n\u001b[0;32m   1879\u001b[0m         mode \u001b[38;5;241m+\u001b[39m\u001b[38;5;241m=\u001b[39m \u001b[38;5;124m\"\u001b[39m\u001b[38;5;124mb\u001b[39m\u001b[38;5;124m\"\u001b[39m\n\u001b[1;32m-> 1880\u001b[0m \u001b[38;5;28mself\u001b[39m\u001b[38;5;241m.\u001b[39mhandles \u001b[38;5;241m=\u001b[39m \u001b[43mget_handle\u001b[49m\u001b[43m(\u001b[49m\n\u001b[0;32m   1881\u001b[0m \u001b[43m    \u001b[49m\u001b[43mf\u001b[49m\u001b[43m,\u001b[49m\n\u001b[0;32m   1882\u001b[0m \u001b[43m    \u001b[49m\u001b[43mmode\u001b[49m\u001b[43m,\u001b[49m\n\u001b[0;32m   1883\u001b[0m \u001b[43m    \u001b[49m\u001b[43mencoding\u001b[49m\u001b[38;5;241;43m=\u001b[39;49m\u001b[38;5;28;43mself\u001b[39;49m\u001b[38;5;241;43m.\u001b[39;49m\u001b[43moptions\u001b[49m\u001b[38;5;241;43m.\u001b[39;49m\u001b[43mget\u001b[49m\u001b[43m(\u001b[49m\u001b[38;5;124;43m\"\u001b[39;49m\u001b[38;5;124;43mencoding\u001b[39;49m\u001b[38;5;124;43m\"\u001b[39;49m\u001b[43m,\u001b[49m\u001b[43m \u001b[49m\u001b[38;5;28;43;01mNone\u001b[39;49;00m\u001b[43m)\u001b[49m\u001b[43m,\u001b[49m\n\u001b[0;32m   1884\u001b[0m \u001b[43m    \u001b[49m\u001b[43mcompression\u001b[49m\u001b[38;5;241;43m=\u001b[39;49m\u001b[38;5;28;43mself\u001b[39;49m\u001b[38;5;241;43m.\u001b[39;49m\u001b[43moptions\u001b[49m\u001b[38;5;241;43m.\u001b[39;49m\u001b[43mget\u001b[49m\u001b[43m(\u001b[49m\u001b[38;5;124;43m\"\u001b[39;49m\u001b[38;5;124;43mcompression\u001b[39;49m\u001b[38;5;124;43m\"\u001b[39;49m\u001b[43m,\u001b[49m\u001b[43m \u001b[49m\u001b[38;5;28;43;01mNone\u001b[39;49;00m\u001b[43m)\u001b[49m\u001b[43m,\u001b[49m\n\u001b[0;32m   1885\u001b[0m \u001b[43m    \u001b[49m\u001b[43mmemory_map\u001b[49m\u001b[38;5;241;43m=\u001b[39;49m\u001b[38;5;28;43mself\u001b[39;49m\u001b[38;5;241;43m.\u001b[39;49m\u001b[43moptions\u001b[49m\u001b[38;5;241;43m.\u001b[39;49m\u001b[43mget\u001b[49m\u001b[43m(\u001b[49m\u001b[38;5;124;43m\"\u001b[39;49m\u001b[38;5;124;43mmemory_map\u001b[39;49m\u001b[38;5;124;43m\"\u001b[39;49m\u001b[43m,\u001b[49m\u001b[43m \u001b[49m\u001b[38;5;28;43;01mFalse\u001b[39;49;00m\u001b[43m)\u001b[49m\u001b[43m,\u001b[49m\n\u001b[0;32m   1886\u001b[0m \u001b[43m    \u001b[49m\u001b[43mis_text\u001b[49m\u001b[38;5;241;43m=\u001b[39;49m\u001b[43mis_text\u001b[49m\u001b[43m,\u001b[49m\n\u001b[0;32m   1887\u001b[0m \u001b[43m    \u001b[49m\u001b[43merrors\u001b[49m\u001b[38;5;241;43m=\u001b[39;49m\u001b[38;5;28;43mself\u001b[39;49m\u001b[38;5;241;43m.\u001b[39;49m\u001b[43moptions\u001b[49m\u001b[38;5;241;43m.\u001b[39;49m\u001b[43mget\u001b[49m\u001b[43m(\u001b[49m\u001b[38;5;124;43m\"\u001b[39;49m\u001b[38;5;124;43mencoding_errors\u001b[39;49m\u001b[38;5;124;43m\"\u001b[39;49m\u001b[43m,\u001b[49m\u001b[43m \u001b[49m\u001b[38;5;124;43m\"\u001b[39;49m\u001b[38;5;124;43mstrict\u001b[39;49m\u001b[38;5;124;43m\"\u001b[39;49m\u001b[43m)\u001b[49m\u001b[43m,\u001b[49m\n\u001b[0;32m   1888\u001b[0m \u001b[43m    \u001b[49m\u001b[43mstorage_options\u001b[49m\u001b[38;5;241;43m=\u001b[39;49m\u001b[38;5;28;43mself\u001b[39;49m\u001b[38;5;241;43m.\u001b[39;49m\u001b[43moptions\u001b[49m\u001b[38;5;241;43m.\u001b[39;49m\u001b[43mget\u001b[49m\u001b[43m(\u001b[49m\u001b[38;5;124;43m\"\u001b[39;49m\u001b[38;5;124;43mstorage_options\u001b[39;49m\u001b[38;5;124;43m\"\u001b[39;49m\u001b[43m,\u001b[49m\u001b[43m \u001b[49m\u001b[38;5;28;43;01mNone\u001b[39;49;00m\u001b[43m)\u001b[49m\u001b[43m,\u001b[49m\n\u001b[0;32m   1889\u001b[0m \u001b[43m\u001b[49m\u001b[43m)\u001b[49m\n\u001b[0;32m   1890\u001b[0m \u001b[38;5;28;01massert\u001b[39;00m \u001b[38;5;28mself\u001b[39m\u001b[38;5;241m.\u001b[39mhandles \u001b[38;5;129;01mis\u001b[39;00m \u001b[38;5;129;01mnot\u001b[39;00m \u001b[38;5;28;01mNone\u001b[39;00m\n\u001b[0;32m   1891\u001b[0m f \u001b[38;5;241m=\u001b[39m \u001b[38;5;28mself\u001b[39m\u001b[38;5;241m.\u001b[39mhandles\u001b[38;5;241m.\u001b[39mhandle\n",
      "File \u001b[1;32m~\\AppData\\Local\\Packages\\PythonSoftwareFoundation.Python.3.12_qbz5n2kfra8p0\\LocalCache\\local-packages\\Python312\\site-packages\\pandas\\io\\common.py:728\u001b[0m, in \u001b[0;36mget_handle\u001b[1;34m(path_or_buf, mode, encoding, compression, memory_map, is_text, errors, storage_options)\u001b[0m\n\u001b[0;32m    725\u001b[0m     codecs\u001b[38;5;241m.\u001b[39mlookup_error(errors)\n\u001b[0;32m    727\u001b[0m \u001b[38;5;66;03m# open URLs\u001b[39;00m\n\u001b[1;32m--> 728\u001b[0m ioargs \u001b[38;5;241m=\u001b[39m \u001b[43m_get_filepath_or_buffer\u001b[49m\u001b[43m(\u001b[49m\n\u001b[0;32m    729\u001b[0m \u001b[43m    \u001b[49m\u001b[43mpath_or_buf\u001b[49m\u001b[43m,\u001b[49m\n\u001b[0;32m    730\u001b[0m \u001b[43m    \u001b[49m\u001b[43mencoding\u001b[49m\u001b[38;5;241;43m=\u001b[39;49m\u001b[43mencoding\u001b[49m\u001b[43m,\u001b[49m\n\u001b[0;32m    731\u001b[0m \u001b[43m    \u001b[49m\u001b[43mcompression\u001b[49m\u001b[38;5;241;43m=\u001b[39;49m\u001b[43mcompression\u001b[49m\u001b[43m,\u001b[49m\n\u001b[0;32m    732\u001b[0m \u001b[43m    \u001b[49m\u001b[43mmode\u001b[49m\u001b[38;5;241;43m=\u001b[39;49m\u001b[43mmode\u001b[49m\u001b[43m,\u001b[49m\n\u001b[0;32m    733\u001b[0m \u001b[43m    \u001b[49m\u001b[43mstorage_options\u001b[49m\u001b[38;5;241;43m=\u001b[39;49m\u001b[43mstorage_options\u001b[49m\u001b[43m,\u001b[49m\n\u001b[0;32m    734\u001b[0m \u001b[43m\u001b[49m\u001b[43m)\u001b[49m\n\u001b[0;32m    736\u001b[0m handle \u001b[38;5;241m=\u001b[39m ioargs\u001b[38;5;241m.\u001b[39mfilepath_or_buffer\n\u001b[0;32m    737\u001b[0m handles: \u001b[38;5;28mlist\u001b[39m[BaseBuffer]\n",
      "File \u001b[1;32m~\\AppData\\Local\\Packages\\PythonSoftwareFoundation.Python.3.12_qbz5n2kfra8p0\\LocalCache\\local-packages\\Python312\\site-packages\\pandas\\io\\common.py:384\u001b[0m, in \u001b[0;36m_get_filepath_or_buffer\u001b[1;34m(filepath_or_buffer, encoding, compression, mode, storage_options)\u001b[0m\n\u001b[0;32m    382\u001b[0m \u001b[38;5;66;03m# assuming storage_options is to be interpreted as headers\u001b[39;00m\n\u001b[0;32m    383\u001b[0m req_info \u001b[38;5;241m=\u001b[39m urllib\u001b[38;5;241m.\u001b[39mrequest\u001b[38;5;241m.\u001b[39mRequest(filepath_or_buffer, headers\u001b[38;5;241m=\u001b[39mstorage_options)\n\u001b[1;32m--> 384\u001b[0m \u001b[38;5;28;01mwith\u001b[39;00m \u001b[43murlopen\u001b[49m\u001b[43m(\u001b[49m\u001b[43mreq_info\u001b[49m\u001b[43m)\u001b[49m \u001b[38;5;28;01mas\u001b[39;00m req:\n\u001b[0;32m    385\u001b[0m     content_encoding \u001b[38;5;241m=\u001b[39m req\u001b[38;5;241m.\u001b[39mheaders\u001b[38;5;241m.\u001b[39mget(\u001b[38;5;124m\"\u001b[39m\u001b[38;5;124mContent-Encoding\u001b[39m\u001b[38;5;124m\"\u001b[39m, \u001b[38;5;28;01mNone\u001b[39;00m)\n\u001b[0;32m    386\u001b[0m     \u001b[38;5;28;01mif\u001b[39;00m content_encoding \u001b[38;5;241m==\u001b[39m \u001b[38;5;124m\"\u001b[39m\u001b[38;5;124mgzip\u001b[39m\u001b[38;5;124m\"\u001b[39m:\n\u001b[0;32m    387\u001b[0m         \u001b[38;5;66;03m# Override compression based on Content-Encoding header\u001b[39;00m\n",
      "File \u001b[1;32m~\\AppData\\Local\\Packages\\PythonSoftwareFoundation.Python.3.12_qbz5n2kfra8p0\\LocalCache\\local-packages\\Python312\\site-packages\\pandas\\io\\common.py:289\u001b[0m, in \u001b[0;36murlopen\u001b[1;34m(*args, **kwargs)\u001b[0m\n\u001b[0;32m    283\u001b[0m \u001b[38;5;250m\u001b[39m\u001b[38;5;124;03m\"\"\"\u001b[39;00m\n\u001b[0;32m    284\u001b[0m \u001b[38;5;124;03mLazy-import wrapper for stdlib urlopen, as that imports a big chunk of\u001b[39;00m\n\u001b[0;32m    285\u001b[0m \u001b[38;5;124;03mthe stdlib.\u001b[39;00m\n\u001b[0;32m    286\u001b[0m \u001b[38;5;124;03m\"\"\"\u001b[39;00m\n\u001b[0;32m    287\u001b[0m \u001b[38;5;28;01mimport\u001b[39;00m \u001b[38;5;21;01murllib\u001b[39;00m\u001b[38;5;21;01m.\u001b[39;00m\u001b[38;5;21;01mrequest\u001b[39;00m\n\u001b[1;32m--> 289\u001b[0m \u001b[38;5;28;01mreturn\u001b[39;00m \u001b[43murllib\u001b[49m\u001b[38;5;241;43m.\u001b[39;49m\u001b[43mrequest\u001b[49m\u001b[38;5;241;43m.\u001b[39;49m\u001b[43murlopen\u001b[49m\u001b[43m(\u001b[49m\u001b[38;5;241;43m*\u001b[39;49m\u001b[43margs\u001b[49m\u001b[43m,\u001b[49m\u001b[43m \u001b[49m\u001b[38;5;241;43m*\u001b[39;49m\u001b[38;5;241;43m*\u001b[39;49m\u001b[43mkwargs\u001b[49m\u001b[43m)\u001b[49m\n",
      "File \u001b[1;32mC:\\Program Files\\WindowsApps\\PythonSoftwareFoundation.Python.3.12_3.12.2032.0_x64__qbz5n2kfra8p0\\Lib\\urllib\\request.py:215\u001b[0m, in \u001b[0;36murlopen\u001b[1;34m(url, data, timeout, cafile, capath, cadefault, context)\u001b[0m\n\u001b[0;32m    213\u001b[0m \u001b[38;5;28;01melse\u001b[39;00m:\n\u001b[0;32m    214\u001b[0m     opener \u001b[38;5;241m=\u001b[39m _opener\n\u001b[1;32m--> 215\u001b[0m \u001b[38;5;28;01mreturn\u001b[39;00m \u001b[43mopener\u001b[49m\u001b[38;5;241;43m.\u001b[39;49m\u001b[43mopen\u001b[49m\u001b[43m(\u001b[49m\u001b[43murl\u001b[49m\u001b[43m,\u001b[49m\u001b[43m \u001b[49m\u001b[43mdata\u001b[49m\u001b[43m,\u001b[49m\u001b[43m \u001b[49m\u001b[43mtimeout\u001b[49m\u001b[43m)\u001b[49m\n",
      "File \u001b[1;32mC:\\Program Files\\WindowsApps\\PythonSoftwareFoundation.Python.3.12_3.12.2032.0_x64__qbz5n2kfra8p0\\Lib\\urllib\\request.py:521\u001b[0m, in \u001b[0;36mOpenerDirector.open\u001b[1;34m(self, fullurl, data, timeout)\u001b[0m\n\u001b[0;32m    519\u001b[0m \u001b[38;5;28;01mfor\u001b[39;00m processor \u001b[38;5;129;01min\u001b[39;00m \u001b[38;5;28mself\u001b[39m\u001b[38;5;241m.\u001b[39mprocess_response\u001b[38;5;241m.\u001b[39mget(protocol, []):\n\u001b[0;32m    520\u001b[0m     meth \u001b[38;5;241m=\u001b[39m \u001b[38;5;28mgetattr\u001b[39m(processor, meth_name)\n\u001b[1;32m--> 521\u001b[0m     response \u001b[38;5;241m=\u001b[39m \u001b[43mmeth\u001b[49m\u001b[43m(\u001b[49m\u001b[43mreq\u001b[49m\u001b[43m,\u001b[49m\u001b[43m \u001b[49m\u001b[43mresponse\u001b[49m\u001b[43m)\u001b[49m\n\u001b[0;32m    523\u001b[0m \u001b[38;5;28;01mreturn\u001b[39;00m response\n",
      "File \u001b[1;32mC:\\Program Files\\WindowsApps\\PythonSoftwareFoundation.Python.3.12_3.12.2032.0_x64__qbz5n2kfra8p0\\Lib\\urllib\\request.py:630\u001b[0m, in \u001b[0;36mHTTPErrorProcessor.http_response\u001b[1;34m(self, request, response)\u001b[0m\n\u001b[0;32m    627\u001b[0m \u001b[38;5;66;03m# According to RFC 2616, \"2xx\" code indicates that the client's\u001b[39;00m\n\u001b[0;32m    628\u001b[0m \u001b[38;5;66;03m# request was successfully received, understood, and accepted.\u001b[39;00m\n\u001b[0;32m    629\u001b[0m \u001b[38;5;28;01mif\u001b[39;00m \u001b[38;5;129;01mnot\u001b[39;00m (\u001b[38;5;241m200\u001b[39m \u001b[38;5;241m<\u001b[39m\u001b[38;5;241m=\u001b[39m code \u001b[38;5;241m<\u001b[39m \u001b[38;5;241m300\u001b[39m):\n\u001b[1;32m--> 630\u001b[0m     response \u001b[38;5;241m=\u001b[39m \u001b[38;5;28;43mself\u001b[39;49m\u001b[38;5;241;43m.\u001b[39;49m\u001b[43mparent\u001b[49m\u001b[38;5;241;43m.\u001b[39;49m\u001b[43merror\u001b[49m\u001b[43m(\u001b[49m\n\u001b[0;32m    631\u001b[0m \u001b[43m        \u001b[49m\u001b[38;5;124;43m'\u001b[39;49m\u001b[38;5;124;43mhttp\u001b[39;49m\u001b[38;5;124;43m'\u001b[39;49m\u001b[43m,\u001b[49m\u001b[43m \u001b[49m\u001b[43mrequest\u001b[49m\u001b[43m,\u001b[49m\u001b[43m \u001b[49m\u001b[43mresponse\u001b[49m\u001b[43m,\u001b[49m\u001b[43m \u001b[49m\u001b[43mcode\u001b[49m\u001b[43m,\u001b[49m\u001b[43m \u001b[49m\u001b[43mmsg\u001b[49m\u001b[43m,\u001b[49m\u001b[43m \u001b[49m\u001b[43mhdrs\u001b[49m\u001b[43m)\u001b[49m\n\u001b[0;32m    633\u001b[0m \u001b[38;5;28;01mreturn\u001b[39;00m response\n",
      "File \u001b[1;32mC:\\Program Files\\WindowsApps\\PythonSoftwareFoundation.Python.3.12_3.12.2032.0_x64__qbz5n2kfra8p0\\Lib\\urllib\\request.py:559\u001b[0m, in \u001b[0;36mOpenerDirector.error\u001b[1;34m(self, proto, *args)\u001b[0m\n\u001b[0;32m    557\u001b[0m \u001b[38;5;28;01mif\u001b[39;00m http_err:\n\u001b[0;32m    558\u001b[0m     args \u001b[38;5;241m=\u001b[39m (\u001b[38;5;28mdict\u001b[39m, \u001b[38;5;124m'\u001b[39m\u001b[38;5;124mdefault\u001b[39m\u001b[38;5;124m'\u001b[39m, \u001b[38;5;124m'\u001b[39m\u001b[38;5;124mhttp_error_default\u001b[39m\u001b[38;5;124m'\u001b[39m) \u001b[38;5;241m+\u001b[39m orig_args\n\u001b[1;32m--> 559\u001b[0m     \u001b[38;5;28;01mreturn\u001b[39;00m \u001b[38;5;28;43mself\u001b[39;49m\u001b[38;5;241;43m.\u001b[39;49m\u001b[43m_call_chain\u001b[49m\u001b[43m(\u001b[49m\u001b[38;5;241;43m*\u001b[39;49m\u001b[43margs\u001b[49m\u001b[43m)\u001b[49m\n",
      "File \u001b[1;32mC:\\Program Files\\WindowsApps\\PythonSoftwareFoundation.Python.3.12_3.12.2032.0_x64__qbz5n2kfra8p0\\Lib\\urllib\\request.py:492\u001b[0m, in \u001b[0;36mOpenerDirector._call_chain\u001b[1;34m(self, chain, kind, meth_name, *args)\u001b[0m\n\u001b[0;32m    490\u001b[0m \u001b[38;5;28;01mfor\u001b[39;00m handler \u001b[38;5;129;01min\u001b[39;00m handlers:\n\u001b[0;32m    491\u001b[0m     func \u001b[38;5;241m=\u001b[39m \u001b[38;5;28mgetattr\u001b[39m(handler, meth_name)\n\u001b[1;32m--> 492\u001b[0m     result \u001b[38;5;241m=\u001b[39m \u001b[43mfunc\u001b[49m\u001b[43m(\u001b[49m\u001b[38;5;241;43m*\u001b[39;49m\u001b[43margs\u001b[49m\u001b[43m)\u001b[49m\n\u001b[0;32m    493\u001b[0m     \u001b[38;5;28;01mif\u001b[39;00m result \u001b[38;5;129;01mis\u001b[39;00m \u001b[38;5;129;01mnot\u001b[39;00m \u001b[38;5;28;01mNone\u001b[39;00m:\n\u001b[0;32m    494\u001b[0m         \u001b[38;5;28;01mreturn\u001b[39;00m result\n",
      "File \u001b[1;32mC:\\Program Files\\WindowsApps\\PythonSoftwareFoundation.Python.3.12_3.12.2032.0_x64__qbz5n2kfra8p0\\Lib\\urllib\\request.py:639\u001b[0m, in \u001b[0;36mHTTPDefaultErrorHandler.http_error_default\u001b[1;34m(self, req, fp, code, msg, hdrs)\u001b[0m\n\u001b[0;32m    638\u001b[0m \u001b[38;5;28;01mdef\u001b[39;00m \u001b[38;5;21mhttp_error_default\u001b[39m(\u001b[38;5;28mself\u001b[39m, req, fp, code, msg, hdrs):\n\u001b[1;32m--> 639\u001b[0m     \u001b[38;5;28;01mraise\u001b[39;00m HTTPError(req\u001b[38;5;241m.\u001b[39mfull_url, code, msg, hdrs, fp)\n",
      "\u001b[1;31mHTTPError\u001b[0m: HTTP Error 404: Not Found"
     ]
    }
   ],
   "source": [
    "# Tarea 1 de lectura de ejemplos y completación de procedimientos\n",
    "# asignación de tarea para realizar antes de clase\n",
    "# Consiste en leer y completar un ejemplo de texto guía\n",
    "\n",
    "import pandas as pd\n",
    "import numpy as np\n",
    "import requests\n",
    "np.random.seed(1213)  # establecer semilla aleatoria para hacer los resultados reproducibles\n",
    "\n",
    "\n",
    "nombre_tarea = ''\n",
    "grupo_estudiantes = 'calculo_integral'\n",
    "nombre_texto_guia = 'Purcell'\n",
    "pagina_y_seccion = 'Página_202_Sección_3.8'\n",
    "numero_ejemplos_de_la_seccion = 10\n",
    "numero_de_ejemplos_asignados = 5\n",
    "\n",
    "\n",
    "# Descargar la lista de  estudiantes\n",
    "students_url = \"https://raw.githubusercontent.com/marco-canas/groups_list/main/\" + grupo_estudiantes + \".csv\"\n",
    "examples = list(range(1, numero_ejemplos_de_la_seccion))  \n",
    "\n",
    "students_data = pd.read_csv(students_url)\n",
    "\n",
    "# Crear una lista para almacenar las asignaciones\n",
    "assignments = []\n",
    "\n",
    "# Asignar ejercicios aleatorios a cada estudiante\n",
    "for index, student in students_data.iterrows():\n",
    "    # Seleccionar 5 ejercicios aleatorios sin repetición\n",
    "    random_exercises = np.random.choice(examples, numero_de_ejemplos_asignados, replace = False)+ 1 \n",
    "    assignments.append([students_data[\"Nombre\"][index], *random_exercises])  # Agregar asignación a la lista\n",
    "\n",
    "# Crear un DataFrame con las asignaciones\n",
    "columns = [\"Student\"] + [ \"Example\" + str(i+1) for i in range(numero_de_ejemplos_asignados)]\n",
    "assignment_df = pd.DataFrame(assignments, columns=columns)\n",
    "\n",
    "# Guardar el DataFrame en un archivo CSV\n",
    "assignment_csv = \"tarea\" + \"_\" + nombre_texto_guia + \"_\"+ pagina_y_seccion + \".csv\"\n",
    "assignment_df.to_csv(assignment_csv, index=False)\n",
    "\n",
    "print(\"\"\"Tarea 1 de lectura de ejemplos y completación de procedimientos: \n",
    "     Si faltan los enunciados de los problemas, no se valora la tarea\n",
    "      Si faltan de la conclusión verbales, no se valora la tarea \n",
    "      \"\"\", assignment_csv)\n",
    "assignment_df"
   ]
  },
  {
   "cell_type": "markdown",
   "id": "740f3401",
   "metadata": {
    "slideshow": {
     "slide_type": "slide"
    }
   },
   "source": [
    "# Componente de manejo de calculadora Casio asociado al objetivo de aprendizaje de esta clase  \n",
    "\n",
    "## Pasos para lograr el objetivo de aprendizaje con la experimentación en la calculadora casio 991 LA cw \n",
    "\n"
   ]
  },
  {
   "cell_type": "markdown",
   "id": "fccb447c",
   "metadata": {
    "slideshow": {
     "slide_type": "slide"
    }
   },
   "source": [
    "# Tareas para realizar en clase"
   ]
  },
  {
   "cell_type": "code",
   "execution_count": 3,
   "id": "0f1f0ab2",
   "metadata": {},
   "outputs": [
    {
     "name": "stdout",
     "output_type": "stream",
     "text": [
      "Tarea 2 de solución de problemas: \n",
      "       tarea_Purcell_Página_202_Sección_3.8.csv\n"
     ]
    },
    {
     "data": {
      "text/html": [
       "<div>\n",
       "<style scoped>\n",
       "    .dataframe tbody tr th:only-of-type {\n",
       "        vertical-align: middle;\n",
       "    }\n",
       "\n",
       "    .dataframe tbody tr th {\n",
       "        vertical-align: top;\n",
       "    }\n",
       "\n",
       "    .dataframe thead th {\n",
       "        text-align: right;\n",
       "    }\n",
       "</style>\n",
       "<table border=\"1\" class=\"dataframe\">\n",
       "  <thead>\n",
       "    <tr style=\"text-align: right;\">\n",
       "      <th></th>\n",
       "      <th>Student</th>\n",
       "      <th>Exer1</th>\n",
       "      <th>Exer2</th>\n",
       "      <th>Exer3</th>\n",
       "      <th>Exer4</th>\n",
       "      <th>Exer5</th>\n",
       "      <th>Exer6</th>\n",
       "      <th>Exer7</th>\n",
       "      <th>Exer8</th>\n",
       "      <th>Exer9</th>\n",
       "      <th>Exer10</th>\n",
       "    </tr>\n",
       "  </thead>\n",
       "  <tbody>\n",
       "    <tr>\n",
       "      <th>0</th>\n",
       "      <td>AGUDELO MORENO RENATO DIRNEY</td>\n",
       "      <td>47</td>\n",
       "      <td>2</td>\n",
       "      <td>52</td>\n",
       "      <td>29</td>\n",
       "      <td>21</td>\n",
       "      <td>4</td>\n",
       "      <td>36</td>\n",
       "      <td>54</td>\n",
       "      <td>35</td>\n",
       "      <td>53</td>\n",
       "    </tr>\n",
       "    <tr>\n",
       "      <th>1</th>\n",
       "      <td>AMARIS FERNANDEZ SEBASTIAN CAMILO</td>\n",
       "      <td>42</td>\n",
       "      <td>23</td>\n",
       "      <td>44</td>\n",
       "      <td>20</td>\n",
       "      <td>2</td>\n",
       "      <td>34</td>\n",
       "      <td>45</td>\n",
       "      <td>43</td>\n",
       "      <td>37</td>\n",
       "      <td>8</td>\n",
       "    </tr>\n",
       "    <tr>\n",
       "      <th>2</th>\n",
       "      <td>ARENAS HERAZO GABRIEL ENRIQUE</td>\n",
       "      <td>45</td>\n",
       "      <td>26</td>\n",
       "      <td>20</td>\n",
       "      <td>10</td>\n",
       "      <td>35</td>\n",
       "      <td>36</td>\n",
       "      <td>23</td>\n",
       "      <td>29</td>\n",
       "      <td>31</td>\n",
       "      <td>12</td>\n",
       "    </tr>\n",
       "    <tr>\n",
       "      <th>3</th>\n",
       "      <td>AYALA MENDOZA MARISOL YACIRA</td>\n",
       "      <td>24</td>\n",
       "      <td>18</td>\n",
       "      <td>39</td>\n",
       "      <td>54</td>\n",
       "      <td>5</td>\n",
       "      <td>19</td>\n",
       "      <td>38</td>\n",
       "      <td>41</td>\n",
       "      <td>30</td>\n",
       "      <td>28</td>\n",
       "    </tr>\n",
       "    <tr>\n",
       "      <th>4</th>\n",
       "      <td>BERTEL RODELO MICHELL SMIT</td>\n",
       "      <td>9</td>\n",
       "      <td>23</td>\n",
       "      <td>32</td>\n",
       "      <td>46</td>\n",
       "      <td>18</td>\n",
       "      <td>48</td>\n",
       "      <td>34</td>\n",
       "      <td>21</td>\n",
       "      <td>10</td>\n",
       "      <td>33</td>\n",
       "    </tr>\n",
       "    <tr>\n",
       "      <th>5</th>\n",
       "      <td>BULA VERGARA MARIA PAULA</td>\n",
       "      <td>34</td>\n",
       "      <td>5</td>\n",
       "      <td>44</td>\n",
       "      <td>43</td>\n",
       "      <td>21</td>\n",
       "      <td>23</td>\n",
       "      <td>40</td>\n",
       "      <td>36</td>\n",
       "      <td>18</td>\n",
       "      <td>51</td>\n",
       "    </tr>\n",
       "    <tr>\n",
       "      <th>6</th>\n",
       "      <td>CANTILLO ENSUCHO DANIEL</td>\n",
       "      <td>2</td>\n",
       "      <td>20</td>\n",
       "      <td>43</td>\n",
       "      <td>7</td>\n",
       "      <td>32</td>\n",
       "      <td>11</td>\n",
       "      <td>23</td>\n",
       "      <td>12</td>\n",
       "      <td>22</td>\n",
       "      <td>34</td>\n",
       "    </tr>\n",
       "    <tr>\n",
       "      <th>7</th>\n",
       "      <td>CERVANTES DURAN ANGELICA</td>\n",
       "      <td>46</td>\n",
       "      <td>39</td>\n",
       "      <td>20</td>\n",
       "      <td>19</td>\n",
       "      <td>36</td>\n",
       "      <td>42</td>\n",
       "      <td>12</td>\n",
       "      <td>23</td>\n",
       "      <td>25</td>\n",
       "      <td>34</td>\n",
       "    </tr>\n",
       "    <tr>\n",
       "      <th>8</th>\n",
       "      <td>GALLEGO TEJADA JUAN ESTEBAN</td>\n",
       "      <td>19</td>\n",
       "      <td>7</td>\n",
       "      <td>6</td>\n",
       "      <td>34</td>\n",
       "      <td>30</td>\n",
       "      <td>37</td>\n",
       "      <td>18</td>\n",
       "      <td>41</td>\n",
       "      <td>11</td>\n",
       "      <td>24</td>\n",
       "    </tr>\n",
       "    <tr>\n",
       "      <th>9</th>\n",
       "      <td>GUERRA NORIEGA YONATHAN</td>\n",
       "      <td>54</td>\n",
       "      <td>46</td>\n",
       "      <td>2</td>\n",
       "      <td>35</td>\n",
       "      <td>9</td>\n",
       "      <td>7</td>\n",
       "      <td>31</td>\n",
       "      <td>11</td>\n",
       "      <td>34</td>\n",
       "      <td>23</td>\n",
       "    </tr>\n",
       "    <tr>\n",
       "      <th>10</th>\n",
       "      <td>HINCAPIE CASTRO JOHAN SEBASTIAN</td>\n",
       "      <td>47</td>\n",
       "      <td>53</td>\n",
       "      <td>42</td>\n",
       "      <td>46</td>\n",
       "      <td>4</td>\n",
       "      <td>54</td>\n",
       "      <td>30</td>\n",
       "      <td>13</td>\n",
       "      <td>50</td>\n",
       "      <td>36</td>\n",
       "    </tr>\n",
       "    <tr>\n",
       "      <th>11</th>\n",
       "      <td>HUMANEZ SANCHEZ CAMILO</td>\n",
       "      <td>5</td>\n",
       "      <td>14</td>\n",
       "      <td>43</td>\n",
       "      <td>16</td>\n",
       "      <td>33</td>\n",
       "      <td>28</td>\n",
       "      <td>8</td>\n",
       "      <td>41</td>\n",
       "      <td>52</td>\n",
       "      <td>2</td>\n",
       "    </tr>\n",
       "    <tr>\n",
       "      <th>12</th>\n",
       "      <td>IBAnEZ MORENO FRANCISCO LUIS</td>\n",
       "      <td>25</td>\n",
       "      <td>31</td>\n",
       "      <td>16</td>\n",
       "      <td>47</td>\n",
       "      <td>26</td>\n",
       "      <td>48</td>\n",
       "      <td>32</td>\n",
       "      <td>40</td>\n",
       "      <td>27</td>\n",
       "      <td>3</td>\n",
       "    </tr>\n",
       "    <tr>\n",
       "      <th>13</th>\n",
       "      <td>LONDONO CUADRADO CRISTIAN ALBERTO</td>\n",
       "      <td>4</td>\n",
       "      <td>26</td>\n",
       "      <td>30</td>\n",
       "      <td>25</td>\n",
       "      <td>33</td>\n",
       "      <td>13</td>\n",
       "      <td>7</td>\n",
       "      <td>23</td>\n",
       "      <td>19</td>\n",
       "      <td>14</td>\n",
       "    </tr>\n",
       "    <tr>\n",
       "      <th>14</th>\n",
       "      <td>MASS MIRANDA RIVALDO JOSE</td>\n",
       "      <td>19</td>\n",
       "      <td>11</td>\n",
       "      <td>43</td>\n",
       "      <td>47</td>\n",
       "      <td>21</td>\n",
       "      <td>13</td>\n",
       "      <td>38</td>\n",
       "      <td>29</td>\n",
       "      <td>33</td>\n",
       "      <td>50</td>\n",
       "    </tr>\n",
       "    <tr>\n",
       "      <th>15</th>\n",
       "      <td>MIRANDA MARTINEZ CARLOS ANDRES</td>\n",
       "      <td>15</td>\n",
       "      <td>10</td>\n",
       "      <td>45</td>\n",
       "      <td>14</td>\n",
       "      <td>21</td>\n",
       "      <td>36</td>\n",
       "      <td>42</td>\n",
       "      <td>30</td>\n",
       "      <td>13</td>\n",
       "      <td>29</td>\n",
       "    </tr>\n",
       "    <tr>\n",
       "      <th>16</th>\n",
       "      <td>MONTERROSA SOTO ABRIL</td>\n",
       "      <td>5</td>\n",
       "      <td>52</td>\n",
       "      <td>10</td>\n",
       "      <td>32</td>\n",
       "      <td>35</td>\n",
       "      <td>21</td>\n",
       "      <td>11</td>\n",
       "      <td>15</td>\n",
       "      <td>46</td>\n",
       "      <td>39</td>\n",
       "    </tr>\n",
       "    <tr>\n",
       "      <th>17</th>\n",
       "      <td>NORIEGA JIMENEZ GABRIELA</td>\n",
       "      <td>10</td>\n",
       "      <td>52</td>\n",
       "      <td>24</td>\n",
       "      <td>6</td>\n",
       "      <td>50</td>\n",
       "      <td>26</td>\n",
       "      <td>41</td>\n",
       "      <td>18</td>\n",
       "      <td>7</td>\n",
       "      <td>21</td>\n",
       "    </tr>\n",
       "    <tr>\n",
       "      <th>18</th>\n",
       "      <td>PEREZ REYES IVAN DARIO</td>\n",
       "      <td>39</td>\n",
       "      <td>38</td>\n",
       "      <td>12</td>\n",
       "      <td>22</td>\n",
       "      <td>17</td>\n",
       "      <td>47</td>\n",
       "      <td>52</td>\n",
       "      <td>27</td>\n",
       "      <td>53</td>\n",
       "      <td>34</td>\n",
       "    </tr>\n",
       "    <tr>\n",
       "      <th>19</th>\n",
       "      <td>PEREZ THERAN ERLINDA</td>\n",
       "      <td>52</td>\n",
       "      <td>3</td>\n",
       "      <td>46</td>\n",
       "      <td>23</td>\n",
       "      <td>50</td>\n",
       "      <td>25</td>\n",
       "      <td>51</td>\n",
       "      <td>39</td>\n",
       "      <td>20</td>\n",
       "      <td>35</td>\n",
       "    </tr>\n",
       "    <tr>\n",
       "      <th>20</th>\n",
       "      <td>PINEDA ROMERO YOSMERI</td>\n",
       "      <td>6</td>\n",
       "      <td>20</td>\n",
       "      <td>49</td>\n",
       "      <td>37</td>\n",
       "      <td>18</td>\n",
       "      <td>15</td>\n",
       "      <td>33</td>\n",
       "      <td>25</td>\n",
       "      <td>43</td>\n",
       "      <td>24</td>\n",
       "    </tr>\n",
       "    <tr>\n",
       "      <th>21</th>\n",
       "      <td>QUINONEZ CERVANTES MARIANA</td>\n",
       "      <td>17</td>\n",
       "      <td>24</td>\n",
       "      <td>27</td>\n",
       "      <td>41</td>\n",
       "      <td>37</td>\n",
       "      <td>21</td>\n",
       "      <td>51</td>\n",
       "      <td>50</td>\n",
       "      <td>11</td>\n",
       "      <td>42</td>\n",
       "    </tr>\n",
       "    <tr>\n",
       "      <th>22</th>\n",
       "      <td>QUIROZ DURAN JUAN MANUEL</td>\n",
       "      <td>7</td>\n",
       "      <td>32</td>\n",
       "      <td>45</td>\n",
       "      <td>14</td>\n",
       "      <td>10</td>\n",
       "      <td>47</td>\n",
       "      <td>6</td>\n",
       "      <td>3</td>\n",
       "      <td>38</td>\n",
       "      <td>12</td>\n",
       "    </tr>\n",
       "    <tr>\n",
       "      <th>23</th>\n",
       "      <td>RAMOS PEREZ YANINE</td>\n",
       "      <td>14</td>\n",
       "      <td>13</td>\n",
       "      <td>18</td>\n",
       "      <td>38</td>\n",
       "      <td>11</td>\n",
       "      <td>2</td>\n",
       "      <td>3</td>\n",
       "      <td>4</td>\n",
       "      <td>22</td>\n",
       "      <td>32</td>\n",
       "    </tr>\n",
       "    <tr>\n",
       "      <th>24</th>\n",
       "      <td>RIVAS HOYOS ESTEFANIA</td>\n",
       "      <td>11</td>\n",
       "      <td>12</td>\n",
       "      <td>45</td>\n",
       "      <td>43</td>\n",
       "      <td>15</td>\n",
       "      <td>13</td>\n",
       "      <td>49</td>\n",
       "      <td>18</td>\n",
       "      <td>31</td>\n",
       "      <td>28</td>\n",
       "    </tr>\n",
       "    <tr>\n",
       "      <th>25</th>\n",
       "      <td>ROSILLO TEJADA VANESA</td>\n",
       "      <td>18</td>\n",
       "      <td>52</td>\n",
       "      <td>26</td>\n",
       "      <td>43</td>\n",
       "      <td>23</td>\n",
       "      <td>16</td>\n",
       "      <td>10</td>\n",
       "      <td>25</td>\n",
       "      <td>39</td>\n",
       "      <td>27</td>\n",
       "    </tr>\n",
       "    <tr>\n",
       "      <th>26</th>\n",
       "      <td>SANCHEZ PADILLA SILVESTRE</td>\n",
       "      <td>25</td>\n",
       "      <td>24</td>\n",
       "      <td>33</td>\n",
       "      <td>42</td>\n",
       "      <td>15</td>\n",
       "      <td>36</td>\n",
       "      <td>20</td>\n",
       "      <td>45</td>\n",
       "      <td>11</td>\n",
       "      <td>17</td>\n",
       "    </tr>\n",
       "    <tr>\n",
       "      <th>27</th>\n",
       "      <td>SILVA ROYERO MAILY CRISTINA</td>\n",
       "      <td>4</td>\n",
       "      <td>54</td>\n",
       "      <td>24</td>\n",
       "      <td>53</td>\n",
       "      <td>13</td>\n",
       "      <td>50</td>\n",
       "      <td>27</td>\n",
       "      <td>45</td>\n",
       "      <td>31</td>\n",
       "      <td>26</td>\n",
       "    </tr>\n",
       "    <tr>\n",
       "      <th>28</th>\n",
       "      <td>USUGA GEORGE JHON ESTIVEN</td>\n",
       "      <td>47</td>\n",
       "      <td>52</td>\n",
       "      <td>33</td>\n",
       "      <td>14</td>\n",
       "      <td>22</td>\n",
       "      <td>8</td>\n",
       "      <td>3</td>\n",
       "      <td>53</td>\n",
       "      <td>12</td>\n",
       "      <td>32</td>\n",
       "    </tr>\n",
       "  </tbody>\n",
       "</table>\n",
       "</div>"
      ],
      "text/plain": [
       "                              Student  Exer1  Exer2  Exer3  Exer4  Exer5  \\\n",
       "0        AGUDELO MORENO RENATO DIRNEY     47      2     52     29     21   \n",
       "1   AMARIS FERNANDEZ SEBASTIAN CAMILO     42     23     44     20      2   \n",
       "2       ARENAS HERAZO GABRIEL ENRIQUE     45     26     20     10     35   \n",
       "3        AYALA MENDOZA MARISOL YACIRA     24     18     39     54      5   \n",
       "4          BERTEL RODELO MICHELL SMIT      9     23     32     46     18   \n",
       "5            BULA VERGARA MARIA PAULA     34      5     44     43     21   \n",
       "6             CANTILLO ENSUCHO DANIEL      2     20     43      7     32   \n",
       "7            CERVANTES DURAN ANGELICA     46     39     20     19     36   \n",
       "8         GALLEGO TEJADA JUAN ESTEBAN     19      7      6     34     30   \n",
       "9             GUERRA NORIEGA YONATHAN     54     46      2     35      9   \n",
       "10    HINCAPIE CASTRO JOHAN SEBASTIAN     47     53     42     46      4   \n",
       "11             HUMANEZ SANCHEZ CAMILO      5     14     43     16     33   \n",
       "12       IBAnEZ MORENO FRANCISCO LUIS     25     31     16     47     26   \n",
       "13  LONDONO CUADRADO CRISTIAN ALBERTO      4     26     30     25     33   \n",
       "14          MASS MIRANDA RIVALDO JOSE     19     11     43     47     21   \n",
       "15     MIRANDA MARTINEZ CARLOS ANDRES     15     10     45     14     21   \n",
       "16              MONTERROSA SOTO ABRIL      5     52     10     32     35   \n",
       "17           NORIEGA JIMENEZ GABRIELA     10     52     24      6     50   \n",
       "18             PEREZ REYES IVAN DARIO     39     38     12     22     17   \n",
       "19               PEREZ THERAN ERLINDA     52      3     46     23     50   \n",
       "20              PINEDA ROMERO YOSMERI      6     20     49     37     18   \n",
       "21         QUINONEZ CERVANTES MARIANA     17     24     27     41     37   \n",
       "22           QUIROZ DURAN JUAN MANUEL      7     32     45     14     10   \n",
       "23                 RAMOS PEREZ YANINE     14     13     18     38     11   \n",
       "24              RIVAS HOYOS ESTEFANIA     11     12     45     43     15   \n",
       "25              ROSILLO TEJADA VANESA     18     52     26     43     23   \n",
       "26          SANCHEZ PADILLA SILVESTRE     25     24     33     42     15   \n",
       "27        SILVA ROYERO MAILY CRISTINA      4     54     24     53     13   \n",
       "28          USUGA GEORGE JHON ESTIVEN     47     52     33     14     22   \n",
       "\n",
       "    Exer6  Exer7  Exer8  Exer9  Exer10  \n",
       "0       4     36     54     35      53  \n",
       "1      34     45     43     37       8  \n",
       "2      36     23     29     31      12  \n",
       "3      19     38     41     30      28  \n",
       "4      48     34     21     10      33  \n",
       "5      23     40     36     18      51  \n",
       "6      11     23     12     22      34  \n",
       "7      42     12     23     25      34  \n",
       "8      37     18     41     11      24  \n",
       "9       7     31     11     34      23  \n",
       "10     54     30     13     50      36  \n",
       "11     28      8     41     52       2  \n",
       "12     48     32     40     27       3  \n",
       "13     13      7     23     19      14  \n",
       "14     13     38     29     33      50  \n",
       "15     36     42     30     13      29  \n",
       "16     21     11     15     46      39  \n",
       "17     26     41     18      7      21  \n",
       "18     47     52     27     53      34  \n",
       "19     25     51     39     20      35  \n",
       "20     15     33     25     43      24  \n",
       "21     21     51     50     11      42  \n",
       "22     47      6      3     38      12  \n",
       "23      2      3      4     22      32  \n",
       "24     13     49     18     31      28  \n",
       "25     16     10     25     39      27  \n",
       "26     36     20     45     11      17  \n",
       "27     50     27     45     31      26  \n",
       "28      8      3     53     12      32  "
      ]
     },
     "execution_count": 3,
     "metadata": {},
     "output_type": "execute_result"
    }
   ],
   "source": [
    "# Tarea 2 de solución de problemas \n",
    "# asignación de ejercicios de un seccion del texto guía\n",
    "\n",
    "# numpy.random.choice() obten la documentación de esta función en: \n",
    "# https://numpy.org/doc/stable/reference/random/generated/numpy.random.choice.html\n",
    "\n",
    "import pandas as pd\n",
    "import numpy as np\n",
    "import requests\n",
    "np.random.seed(424)  # establecer semilla aleatoria para hacer los resultados reproducibles\n",
    "\n",
    "\n",
    "\n",
    "grupo_estudiantes = 'calculo_integral'\n",
    "nombre_texto_guia = 'Purcell'\n",
    "pagina_y_seccion = 'Página_202_Sección_3.8'\n",
    "numero_ejercicios_taller = 54\n",
    "numero_de_ejercicios_asignados = 10\n",
    "\n",
    "\n",
    "# Descargar la lista de  estudiantes\n",
    "students_url = \"https://raw.githubusercontent.com/marco-canas/groups_list/main/\" + grupo_estudiantes + \".csv\"\n",
    "exercises = list(range(1, numero_ejercicios_taller))  \n",
    "\n",
    "students_data = pd.read_csv(students_url)\n",
    "\n",
    "# Crear una lista para almacenar las asignaciones\n",
    "assignments = []\n",
    "\n",
    "# Asignar ejercicios aleatorios a cada estudiante\n",
    "for index, student in students_data.iterrows():\n",
    "    # Seleccionar 5 ejercicios aleatorios sin repetición\n",
    "    random_exercises = np.random.choice(exercises, numero_de_ejercicios_asignados, replace = False)+ 1 \n",
    "    assignments.append([students_data[\"Nombre\"][index], *random_exercises])  # Agregar asignación a la lista\n",
    "\n",
    "# Crear un DataFrame con las asignaciones\n",
    "columns = [\"Student\"] + [ \"Exer\" + str(i+1) for i in range(numero_de_ejercicios_asignados)]\n",
    "assignment_df = pd.DataFrame(assignments, columns=columns)\n",
    "\n",
    "# Guardar el DataFrame en un archivo CSV\n",
    "assignment_csv = \"tarea\" + \"_\" + nombre_texto_guia + \"_\"+ pagina_y_seccion + \".csv\"\n",
    "assignment_df.to_csv(assignment_csv, index=False)\n",
    "\n",
    "print(\"\"\"Tarea 2 de solución de problemas:\n",
    "      Si faltan los enunciados de los problemas, no se valora la tarea\n",
    "      Si faltan de la conclusión verbales, no se valora la tarea \n",
    "        \"\"\", assignment_csv)\n",
    "assignment_df"
   ]
  },
  {
   "cell_type": "markdown",
   "id": "8b6b0112",
   "metadata": {
    "slideshow": {
     "slide_type": "slide"
    }
   },
   "source": [
    "# Tareas para realizar después de la realización de la clase"
   ]
  },
  {
   "cell_type": "markdown",
   "id": "947460e3",
   "metadata": {
    "slideshow": {
     "slide_type": "slide"
    }
   },
   "source": [
    "* Actividades de memorización: \n",
    "  - escucha reiterada de grabaciones de formulas y resultados científicos. \n",
    "  - relectura de notas. \n",
    "  - ejercicios de mayor complejidad.\n",
    "\n",
    "\n",
    "### No olvide asignar las tareas a los estudiantes a través de Google Colab y compartiendole el cuaderno de asignación a su correo institucional con fecha de entrega. [Google Colab](https://colab.research.google.com/?hl=es)   \n",
    "  "
   ]
  },
  {
   "cell_type": "markdown",
   "id": "d34defb9",
   "metadata": {
    "slideshow": {
     "slide_type": "slide"
    }
   },
   "source": [
    "## Asignación individual de tareas semanales "
   ]
  },
  {
   "cell_type": "code",
   "execution_count": 9,
   "id": "0406f442",
   "metadata": {
    "slideshow": {
     "slide_type": "slide"
    }
   },
   "outputs": [
    {
     "name": "stdout",
     "output_type": "stream",
     "text": [
      "Tarea 3 Solución problemas describiendo y justificando:  tarea_Purcell_Página_202_Sección_3.8.csv\n"
     ]
    },
    {
     "data": {
      "text/html": [
       "<div>\n",
       "<style scoped>\n",
       "    .dataframe tbody tr th:only-of-type {\n",
       "        vertical-align: middle;\n",
       "    }\n",
       "\n",
       "    .dataframe tbody tr th {\n",
       "        vertical-align: top;\n",
       "    }\n",
       "\n",
       "    .dataframe thead th {\n",
       "        text-align: right;\n",
       "    }\n",
       "</style>\n",
       "<table border=\"1\" class=\"dataframe\">\n",
       "  <thead>\n",
       "    <tr style=\"text-align: right;\">\n",
       "      <th></th>\n",
       "      <th>Student</th>\n",
       "      <th>Exer1</th>\n",
       "      <th>Exer2</th>\n",
       "      <th>Exer3</th>\n",
       "      <th>Exer4</th>\n",
       "      <th>Exer5</th>\n",
       "      <th>Exer6</th>\n",
       "      <th>Exer7</th>\n",
       "      <th>Exer8</th>\n",
       "      <th>Exer9</th>\n",
       "      <th>Exer10</th>\n",
       "    </tr>\n",
       "  </thead>\n",
       "  <tbody>\n",
       "    <tr>\n",
       "      <th>0</th>\n",
       "      <td>AGUDELO MORENO RENATO DIRNEY</td>\n",
       "      <td>39</td>\n",
       "      <td>17</td>\n",
       "      <td>21</td>\n",
       "      <td>4</td>\n",
       "      <td>9</td>\n",
       "      <td>44</td>\n",
       "      <td>7</td>\n",
       "      <td>30</td>\n",
       "      <td>51</td>\n",
       "      <td>54</td>\n",
       "    </tr>\n",
       "    <tr>\n",
       "      <th>1</th>\n",
       "      <td>AMARIS FERNANDEZ SEBASTIAN CAMILO</td>\n",
       "      <td>2</td>\n",
       "      <td>28</td>\n",
       "      <td>32</td>\n",
       "      <td>5</td>\n",
       "      <td>17</td>\n",
       "      <td>40</td>\n",
       "      <td>46</td>\n",
       "      <td>26</td>\n",
       "      <td>11</td>\n",
       "      <td>50</td>\n",
       "    </tr>\n",
       "    <tr>\n",
       "      <th>2</th>\n",
       "      <td>ARENAS HERAZO GABRIEL ENRIQUE</td>\n",
       "      <td>37</td>\n",
       "      <td>10</td>\n",
       "      <td>39</td>\n",
       "      <td>51</td>\n",
       "      <td>47</td>\n",
       "      <td>21</td>\n",
       "      <td>52</td>\n",
       "      <td>45</td>\n",
       "      <td>18</td>\n",
       "      <td>46</td>\n",
       "    </tr>\n",
       "    <tr>\n",
       "      <th>3</th>\n",
       "      <td>AYALA MENDOZA MARISOL YACIRA</td>\n",
       "      <td>4</td>\n",
       "      <td>20</td>\n",
       "      <td>40</td>\n",
       "      <td>26</td>\n",
       "      <td>47</td>\n",
       "      <td>33</td>\n",
       "      <td>28</td>\n",
       "      <td>42</td>\n",
       "      <td>41</td>\n",
       "      <td>8</td>\n",
       "    </tr>\n",
       "    <tr>\n",
       "      <th>4</th>\n",
       "      <td>BERTEL RODELO MICHELL SMIT</td>\n",
       "      <td>12</td>\n",
       "      <td>13</td>\n",
       "      <td>48</td>\n",
       "      <td>30</td>\n",
       "      <td>29</td>\n",
       "      <td>20</td>\n",
       "      <td>23</td>\n",
       "      <td>27</td>\n",
       "      <td>34</td>\n",
       "      <td>25</td>\n",
       "    </tr>\n",
       "    <tr>\n",
       "      <th>5</th>\n",
       "      <td>BULA VERGARA MARIA PAULA</td>\n",
       "      <td>51</td>\n",
       "      <td>4</td>\n",
       "      <td>15</td>\n",
       "      <td>46</td>\n",
       "      <td>2</td>\n",
       "      <td>33</td>\n",
       "      <td>25</td>\n",
       "      <td>27</td>\n",
       "      <td>7</td>\n",
       "      <td>5</td>\n",
       "    </tr>\n",
       "    <tr>\n",
       "      <th>6</th>\n",
       "      <td>CANTILLO ENSUCHO DANIEL</td>\n",
       "      <td>5</td>\n",
       "      <td>52</td>\n",
       "      <td>24</td>\n",
       "      <td>34</td>\n",
       "      <td>19</td>\n",
       "      <td>17</td>\n",
       "      <td>14</td>\n",
       "      <td>22</td>\n",
       "      <td>2</td>\n",
       "      <td>4</td>\n",
       "    </tr>\n",
       "    <tr>\n",
       "      <th>7</th>\n",
       "      <td>CERVANTES DURAN ANGELICA</td>\n",
       "      <td>49</td>\n",
       "      <td>20</td>\n",
       "      <td>48</td>\n",
       "      <td>53</td>\n",
       "      <td>26</td>\n",
       "      <td>39</td>\n",
       "      <td>28</td>\n",
       "      <td>35</td>\n",
       "      <td>24</td>\n",
       "      <td>3</td>\n",
       "    </tr>\n",
       "    <tr>\n",
       "      <th>8</th>\n",
       "      <td>GALLEGO TEJADA JUAN ESTEBAN</td>\n",
       "      <td>28</td>\n",
       "      <td>17</td>\n",
       "      <td>29</td>\n",
       "      <td>32</td>\n",
       "      <td>27</td>\n",
       "      <td>48</td>\n",
       "      <td>36</td>\n",
       "      <td>44</td>\n",
       "      <td>10</td>\n",
       "      <td>54</td>\n",
       "    </tr>\n",
       "    <tr>\n",
       "      <th>9</th>\n",
       "      <td>GUERRA NORIEGA YONATHAN</td>\n",
       "      <td>33</td>\n",
       "      <td>41</td>\n",
       "      <td>49</td>\n",
       "      <td>19</td>\n",
       "      <td>3</td>\n",
       "      <td>44</td>\n",
       "      <td>24</td>\n",
       "      <td>47</td>\n",
       "      <td>16</td>\n",
       "      <td>43</td>\n",
       "    </tr>\n",
       "    <tr>\n",
       "      <th>10</th>\n",
       "      <td>HINCAPIE CASTRO JOHAN SEBASTIAN</td>\n",
       "      <td>27</td>\n",
       "      <td>43</td>\n",
       "      <td>31</td>\n",
       "      <td>16</td>\n",
       "      <td>42</td>\n",
       "      <td>28</td>\n",
       "      <td>13</td>\n",
       "      <td>3</td>\n",
       "      <td>8</td>\n",
       "      <td>21</td>\n",
       "    </tr>\n",
       "    <tr>\n",
       "      <th>11</th>\n",
       "      <td>HUMANEZ SANCHEZ CAMILO</td>\n",
       "      <td>46</td>\n",
       "      <td>3</td>\n",
       "      <td>12</td>\n",
       "      <td>31</td>\n",
       "      <td>35</td>\n",
       "      <td>2</td>\n",
       "      <td>13</td>\n",
       "      <td>23</td>\n",
       "      <td>52</td>\n",
       "      <td>24</td>\n",
       "    </tr>\n",
       "    <tr>\n",
       "      <th>12</th>\n",
       "      <td>IBAnEZ MORENO FRANCISCO LUIS</td>\n",
       "      <td>26</td>\n",
       "      <td>10</td>\n",
       "      <td>27</td>\n",
       "      <td>25</td>\n",
       "      <td>12</td>\n",
       "      <td>21</td>\n",
       "      <td>24</td>\n",
       "      <td>50</td>\n",
       "      <td>39</td>\n",
       "      <td>29</td>\n",
       "    </tr>\n",
       "    <tr>\n",
       "      <th>13</th>\n",
       "      <td>LONDONO CUADRADO CRISTIAN ALBERTO</td>\n",
       "      <td>42</td>\n",
       "      <td>35</td>\n",
       "      <td>30</td>\n",
       "      <td>36</td>\n",
       "      <td>28</td>\n",
       "      <td>14</td>\n",
       "      <td>10</td>\n",
       "      <td>18</td>\n",
       "      <td>16</td>\n",
       "      <td>50</td>\n",
       "    </tr>\n",
       "    <tr>\n",
       "      <th>14</th>\n",
       "      <td>MASS MIRANDA RIVALDO JOSE</td>\n",
       "      <td>16</td>\n",
       "      <td>13</td>\n",
       "      <td>14</td>\n",
       "      <td>36</td>\n",
       "      <td>37</td>\n",
       "      <td>22</td>\n",
       "      <td>4</td>\n",
       "      <td>46</td>\n",
       "      <td>51</td>\n",
       "      <td>19</td>\n",
       "    </tr>\n",
       "    <tr>\n",
       "      <th>15</th>\n",
       "      <td>MIRANDA MARTINEZ CARLOS ANDRES</td>\n",
       "      <td>46</td>\n",
       "      <td>17</td>\n",
       "      <td>53</td>\n",
       "      <td>40</td>\n",
       "      <td>34</td>\n",
       "      <td>33</td>\n",
       "      <td>26</td>\n",
       "      <td>23</td>\n",
       "      <td>19</td>\n",
       "      <td>30</td>\n",
       "    </tr>\n",
       "    <tr>\n",
       "      <th>16</th>\n",
       "      <td>MONTERROSA SOTO ABRIL</td>\n",
       "      <td>30</td>\n",
       "      <td>3</td>\n",
       "      <td>19</td>\n",
       "      <td>42</td>\n",
       "      <td>6</td>\n",
       "      <td>32</td>\n",
       "      <td>45</td>\n",
       "      <td>39</td>\n",
       "      <td>21</td>\n",
       "      <td>25</td>\n",
       "    </tr>\n",
       "    <tr>\n",
       "      <th>17</th>\n",
       "      <td>NORIEGA JIMENEZ GABRIELA</td>\n",
       "      <td>50</td>\n",
       "      <td>36</td>\n",
       "      <td>31</td>\n",
       "      <td>2</td>\n",
       "      <td>37</td>\n",
       "      <td>32</td>\n",
       "      <td>42</td>\n",
       "      <td>35</td>\n",
       "      <td>30</td>\n",
       "      <td>47</td>\n",
       "    </tr>\n",
       "    <tr>\n",
       "      <th>18</th>\n",
       "      <td>PEREZ REYES IVAN DARIO</td>\n",
       "      <td>15</td>\n",
       "      <td>13</td>\n",
       "      <td>6</td>\n",
       "      <td>46</td>\n",
       "      <td>5</td>\n",
       "      <td>32</td>\n",
       "      <td>33</td>\n",
       "      <td>49</td>\n",
       "      <td>8</td>\n",
       "      <td>42</td>\n",
       "    </tr>\n",
       "    <tr>\n",
       "      <th>19</th>\n",
       "      <td>PEREZ THERAN ERLINDA</td>\n",
       "      <td>46</td>\n",
       "      <td>52</td>\n",
       "      <td>37</td>\n",
       "      <td>29</td>\n",
       "      <td>28</td>\n",
       "      <td>11</td>\n",
       "      <td>39</td>\n",
       "      <td>20</td>\n",
       "      <td>44</td>\n",
       "      <td>21</td>\n",
       "    </tr>\n",
       "    <tr>\n",
       "      <th>20</th>\n",
       "      <td>PINEDA ROMERO YOSMERI</td>\n",
       "      <td>17</td>\n",
       "      <td>14</td>\n",
       "      <td>25</td>\n",
       "      <td>48</td>\n",
       "      <td>30</td>\n",
       "      <td>12</td>\n",
       "      <td>37</td>\n",
       "      <td>28</td>\n",
       "      <td>7</td>\n",
       "      <td>10</td>\n",
       "    </tr>\n",
       "    <tr>\n",
       "      <th>21</th>\n",
       "      <td>QUINONEZ CERVANTES MARIANA</td>\n",
       "      <td>23</td>\n",
       "      <td>40</td>\n",
       "      <td>27</td>\n",
       "      <td>36</td>\n",
       "      <td>22</td>\n",
       "      <td>34</td>\n",
       "      <td>28</td>\n",
       "      <td>12</td>\n",
       "      <td>44</td>\n",
       "      <td>30</td>\n",
       "    </tr>\n",
       "    <tr>\n",
       "      <th>22</th>\n",
       "      <td>QUIROZ DURAN JUAN MANUEL</td>\n",
       "      <td>38</td>\n",
       "      <td>53</td>\n",
       "      <td>4</td>\n",
       "      <td>43</td>\n",
       "      <td>22</td>\n",
       "      <td>7</td>\n",
       "      <td>48</td>\n",
       "      <td>32</td>\n",
       "      <td>15</td>\n",
       "      <td>34</td>\n",
       "    </tr>\n",
       "    <tr>\n",
       "      <th>23</th>\n",
       "      <td>RAMOS PEREZ YANINE</td>\n",
       "      <td>35</td>\n",
       "      <td>42</td>\n",
       "      <td>12</td>\n",
       "      <td>25</td>\n",
       "      <td>54</td>\n",
       "      <td>20</td>\n",
       "      <td>13</td>\n",
       "      <td>30</td>\n",
       "      <td>4</td>\n",
       "      <td>5</td>\n",
       "    </tr>\n",
       "    <tr>\n",
       "      <th>24</th>\n",
       "      <td>RIVAS HOYOS ESTEFANIA</td>\n",
       "      <td>10</td>\n",
       "      <td>42</td>\n",
       "      <td>5</td>\n",
       "      <td>44</td>\n",
       "      <td>37</td>\n",
       "      <td>51</td>\n",
       "      <td>39</td>\n",
       "      <td>7</td>\n",
       "      <td>22</td>\n",
       "      <td>8</td>\n",
       "    </tr>\n",
       "    <tr>\n",
       "      <th>25</th>\n",
       "      <td>ROSILLO TEJADA VANESA</td>\n",
       "      <td>29</td>\n",
       "      <td>12</td>\n",
       "      <td>17</td>\n",
       "      <td>24</td>\n",
       "      <td>7</td>\n",
       "      <td>31</td>\n",
       "      <td>9</td>\n",
       "      <td>33</td>\n",
       "      <td>16</td>\n",
       "      <td>46</td>\n",
       "    </tr>\n",
       "    <tr>\n",
       "      <th>26</th>\n",
       "      <td>SANCHEZ PADILLA SILVESTRE</td>\n",
       "      <td>46</td>\n",
       "      <td>48</td>\n",
       "      <td>53</td>\n",
       "      <td>28</td>\n",
       "      <td>17</td>\n",
       "      <td>19</td>\n",
       "      <td>14</td>\n",
       "      <td>47</td>\n",
       "      <td>23</td>\n",
       "      <td>20</td>\n",
       "    </tr>\n",
       "    <tr>\n",
       "      <th>27</th>\n",
       "      <td>SILVA ROYERO MAILY CRISTINA</td>\n",
       "      <td>3</td>\n",
       "      <td>24</td>\n",
       "      <td>26</td>\n",
       "      <td>49</td>\n",
       "      <td>6</td>\n",
       "      <td>48</td>\n",
       "      <td>8</td>\n",
       "      <td>34</td>\n",
       "      <td>2</td>\n",
       "      <td>19</td>\n",
       "    </tr>\n",
       "    <tr>\n",
       "      <th>28</th>\n",
       "      <td>USUGA GEORGE JHON ESTIVEN</td>\n",
       "      <td>29</td>\n",
       "      <td>35</td>\n",
       "      <td>24</td>\n",
       "      <td>41</td>\n",
       "      <td>33</td>\n",
       "      <td>39</td>\n",
       "      <td>6</td>\n",
       "      <td>31</td>\n",
       "      <td>21</td>\n",
       "      <td>44</td>\n",
       "    </tr>\n",
       "  </tbody>\n",
       "</table>\n",
       "</div>"
      ],
      "text/plain": [
       "                              Student  Exer1  Exer2  Exer3  Exer4  Exer5  \\\n",
       "0        AGUDELO MORENO RENATO DIRNEY     39     17     21      4      9   \n",
       "1   AMARIS FERNANDEZ SEBASTIAN CAMILO      2     28     32      5     17   \n",
       "2       ARENAS HERAZO GABRIEL ENRIQUE     37     10     39     51     47   \n",
       "3        AYALA MENDOZA MARISOL YACIRA      4     20     40     26     47   \n",
       "4          BERTEL RODELO MICHELL SMIT     12     13     48     30     29   \n",
       "5            BULA VERGARA MARIA PAULA     51      4     15     46      2   \n",
       "6             CANTILLO ENSUCHO DANIEL      5     52     24     34     19   \n",
       "7            CERVANTES DURAN ANGELICA     49     20     48     53     26   \n",
       "8         GALLEGO TEJADA JUAN ESTEBAN     28     17     29     32     27   \n",
       "9             GUERRA NORIEGA YONATHAN     33     41     49     19      3   \n",
       "10    HINCAPIE CASTRO JOHAN SEBASTIAN     27     43     31     16     42   \n",
       "11             HUMANEZ SANCHEZ CAMILO     46      3     12     31     35   \n",
       "12       IBAnEZ MORENO FRANCISCO LUIS     26     10     27     25     12   \n",
       "13  LONDONO CUADRADO CRISTIAN ALBERTO     42     35     30     36     28   \n",
       "14          MASS MIRANDA RIVALDO JOSE     16     13     14     36     37   \n",
       "15     MIRANDA MARTINEZ CARLOS ANDRES     46     17     53     40     34   \n",
       "16              MONTERROSA SOTO ABRIL     30      3     19     42      6   \n",
       "17           NORIEGA JIMENEZ GABRIELA     50     36     31      2     37   \n",
       "18             PEREZ REYES IVAN DARIO     15     13      6     46      5   \n",
       "19               PEREZ THERAN ERLINDA     46     52     37     29     28   \n",
       "20              PINEDA ROMERO YOSMERI     17     14     25     48     30   \n",
       "21         QUINONEZ CERVANTES MARIANA     23     40     27     36     22   \n",
       "22           QUIROZ DURAN JUAN MANUEL     38     53      4     43     22   \n",
       "23                 RAMOS PEREZ YANINE     35     42     12     25     54   \n",
       "24              RIVAS HOYOS ESTEFANIA     10     42      5     44     37   \n",
       "25              ROSILLO TEJADA VANESA     29     12     17     24      7   \n",
       "26          SANCHEZ PADILLA SILVESTRE     46     48     53     28     17   \n",
       "27        SILVA ROYERO MAILY CRISTINA      3     24     26     49      6   \n",
       "28          USUGA GEORGE JHON ESTIVEN     29     35     24     41     33   \n",
       "\n",
       "    Exer6  Exer7  Exer8  Exer9  Exer10  \n",
       "0      44      7     30     51      54  \n",
       "1      40     46     26     11      50  \n",
       "2      21     52     45     18      46  \n",
       "3      33     28     42     41       8  \n",
       "4      20     23     27     34      25  \n",
       "5      33     25     27      7       5  \n",
       "6      17     14     22      2       4  \n",
       "7      39     28     35     24       3  \n",
       "8      48     36     44     10      54  \n",
       "9      44     24     47     16      43  \n",
       "10     28     13      3      8      21  \n",
       "11      2     13     23     52      24  \n",
       "12     21     24     50     39      29  \n",
       "13     14     10     18     16      50  \n",
       "14     22      4     46     51      19  \n",
       "15     33     26     23     19      30  \n",
       "16     32     45     39     21      25  \n",
       "17     32     42     35     30      47  \n",
       "18     32     33     49      8      42  \n",
       "19     11     39     20     44      21  \n",
       "20     12     37     28      7      10  \n",
       "21     34     28     12     44      30  \n",
       "22      7     48     32     15      34  \n",
       "23     20     13     30      4       5  \n",
       "24     51     39      7     22       8  \n",
       "25     31      9     33     16      46  \n",
       "26     19     14     47     23      20  \n",
       "27     48      8     34      2      19  \n",
       "28     39      6     31     21      44  "
      ]
     },
     "execution_count": 9,
     "metadata": {},
     "output_type": "execute_result"
    }
   ],
   "source": [
    "# Tarea 3 de solución de problemas describiendo procedimientos y justificándolos\n",
    "\n",
    "# asignación de ejercicios de un seccion del texto guía\n",
    "\n",
    "# numpy.random.choice() obten la documentación de esta función en: \n",
    "# https://numpy.org/doc/stable/reference/random/generated/numpy.random.choice.html\n",
    "\n",
    "import pandas as pd\n",
    "import numpy as np\n",
    "np.random.seed(126)  # establecer semilla aleatoria para hacer los resultados reproducibles\n",
    "\n",
    "\n",
    "nombre_tarea = ''\n",
    "grupo_estudiantes = 'calculo_integral'\n",
    "nombre_texto_guia = 'Purcell'\n",
    "pagina_y_seccion = 'Página_202_Sección_3.8'\n",
    "numero_ejercicios_taller = 54\n",
    "numero_de_ejercicios_asignados = 5\n",
    "\n",
    "\n",
    "# Descargar la lista de  estudiantes\n",
    "students_url = \"https://raw.githubusercontent.com/marco-canas/groups_list/main/\" + grupo_estudiantes + \".csv\"\n",
    "exercises = list(range(1, numero_ejercicios_taller))  \n",
    "\n",
    "students_data = pd.read_csv(students_url)\n",
    "\n",
    "# Crear una lista para almacenar las asignaciones\n",
    "assignments = []\n",
    "\n",
    "# Asignar ejercicios aleatorios a cada estudiante\n",
    "for index, student in students_data.iterrows():\n",
    "    # Seleccionar 5 ejercicios aleatorios sin repetición\n",
    "    random_exercises = np.random.choice(exercises, numero_de_ejercicios_asignados, replace = False)+ 1 \n",
    "    assignments.append([students_data[\"Nombre\"][index], *random_exercises])  # Agregar asignación a la lista\n",
    "\n",
    "# Crear un DataFrame con las asignaciones\n",
    "columns = [\"Student\"] + [ \"Exer\" + str(i+1) for i in range(numero_de_ejercicios_asignados)]\n",
    "assignment_df = pd.DataFrame(assignments, columns=columns)\n",
    "\n",
    "# Guardar el DataFrame en un archivo CSV\n",
    "assignment_csv = \"tarea\" + \"_\" + nombre_texto_guia + \"_\"+ pagina_y_seccion + \".csv\"\n",
    "assignment_df.to_csv(assignment_csv, index=False)\n",
    "\n",
    "print(\"\"\"Tarea 3 Solución problemas describiendo y justificando verbalmente: \n",
    "      Si faltan los enunciados de los problemas, no se valora la tarea\n",
    "      Si faltan de la conclusión verbales, no se valora la tarea \"\"\", assignment_csv)\n",
    "assignment_df"
   ]
  },
  {
   "cell_type": "markdown",
   "id": "742281f4",
   "metadata": {},
   "source": [
    "# No olvide la tarea de realizar la foda para autoevaluarse\n",
    "\n",
    "Fortalezas: F  \n",
    "Oportuniudades O:  \n",
    "Debilidades: D:   \n",
    "Amenazas: A:     "
   ]
  },
  {
   "cell_type": "markdown",
   "id": "8d41fe58",
   "metadata": {
    "slideshow": {
     "slide_type": "slide"
    }
   },
   "source": [
    "# Horario de clases del profesor Marco\n",
    "\n",
    "* Martes y jueves de 10 a 12: Fundamentos de las matemáticas\n",
    "* Martes y jueves de 2 a 4 PM: Fundamentos de la aritmética\n",
    "\n",
    "* Didáctica de la aritmética: Miércoles de 8 - 12\n",
    "\n"
   ]
  },
  {
   "cell_type": "markdown",
   "id": "ae114e14",
   "metadata": {
    "slideshow": {
     "slide_type": "slide"
    }
   },
   "source": [
    "# Horarios de monitoría y asesoría"
   ]
  },
  {
   "cell_type": "markdown",
   "id": "b1db4b6c",
   "metadata": {
    "slideshow": {
     "slide_type": "slide"
    }
   },
   "source": [
    "## Monitor Manuel"
   ]
  },
  {
   "cell_type": "markdown",
   "id": "39559692",
   "metadata": {
    "slideshow": {
     "slide_type": "slide"
    }
   },
   "source": [
    "Martes y jueves de 8 - 12  \n",
    "Miércoles 10 - 12 y de 2 a 4 PM  \n",
    "Sábado: 8 - 12"
   ]
  },
  {
   "cell_type": "markdown",
   "id": "5a190057",
   "metadata": {},
   "source": [
    "## Monitoría virtual   \n",
    "\n",
    "Telefono del monitos en whatsApp: 3043936088  \n",
    "\n",
    "Juan David Cano Castrillón  \n",
    "Estudiante de Pregrado.  \n",
    "juan.canoc1@udea.edu.co  \n",
    "3043936088  \n"
   ]
  },
  {
   "cell_type": "markdown",
   "id": "10bce0d0",
   "metadata": {
    "slideshow": {
     "slide_type": "slide"
    }
   },
   "source": [
    "## Referentes "
   ]
  },
  {
   "cell_type": "markdown",
   "id": "1db3c468",
   "metadata": {
    "slideshow": {
     "slide_type": "slide"
    }
   },
   "source": [
    "* [Purcell, E. J., Varberg, D., & Rigdon, S. E. (2007). Cálculo diferencial e integral. Pearson Educación.](chrome-extension://efaidnbmnnnibpcajpcglclefindmkaj/https://www.cimat.mx/ciencia_para_jovenes/bachillerato/libros/[Purcell,Varberg,Rigdon]Calculo/[Purcell,Varberg,Rigdon]Calculo.pdf)\n",
    "\n",
    "* [Chollet, F. (2021). Deep learning with Python. Simon and Schuster.](https://github.com/marco-canas/didactica_ciencia_datos/blob/main/2_referentes/chollet/Fran%C3%A7ois%20Chollet%20-%20Deep%20Learning%20with%20Python-Manning%20(2018).pdf)  \n",
    "  \n",
    "* [stewart precálculo](https://udeaeduco-my.sharepoint.com/:b:/g/personal/marco_canas_udea_edu_co/ERHIq62I6qFNrmxy6LZb8ZMBci7kUsyNME1nIh9yCBMJ_w?e=0zMSla)  \n",
    "\n",
    "* [stewart cálculo](https://udeaeduco-my.sharepoint.com/:b:/g/personal/marco_canas_udea_edu_co/EZgXZjAp8QxPqOAim2hs6LcBNPLGjSHf-xwYnUVYkwa04w?e=RZdTCy)  \n",
    "\n",
    "* [larson](https://udeaeduco-my.sharepoint.com/:b:/g/personal/marco_canas_udea_edu_co/ES71ChFeO9ZDhW3TwC5Ijk8BjxUK3Pdqz_fjHxTTFAfIAg?e=VDEjfu)\n",
    "\n",
    "* [Aylwin, C. U. (2011). Lógica, conjuntos y números. Universidad de los Andes, Consejo de Publicaciones, Colección: Ciencias Básicas, Serie: Matemáticas.](https://github.com/marco-canas/fundamentos_logica/blob/main/referentes/2_uzcategui/uscategui.pdf)\n",
    "\n",
    "* [Recomendación de la UNESCO sobre ciencia abierta](https://unesdoc.unesco.org/ark:/48223/pf0000379949_spa)\n",
    "\n",
    "* [chatGPT](https://openai.com/blog/chatgpt)  \n",
    "\n",
    "* [Géron, A. (2017). Hands-on machine learning with scikit-learn and tensorflow: Concepts. Tools, and Techniques to build intelligent systems.](https://github.com/marco-canas/didactica_ciencia_datos/blob/main/2_referentes/geron/Hands-On%20Machine%20Learning-3nd_Edition(2022).pdf)  \n",
    "\n",
    "* [McKinney, W. (2012). Python for data analysis: Data wrangling with Pandas, NumPy, and IPython. \" O'Reilly Media, Inc.\".](https://github.com/marco-canas/didactica_ciencia_datos/blob/main/2_referentes/mckinney/Wes_McKinney.pdf)  \n",
    "\n"
   ]
  },
  {
   "cell_type": "markdown",
   "id": "45c59aa9",
   "metadata": {},
   "source": [
    "[Autoevaluemonos para hacernos concientes de nuestro aprendizaje y en lo que debemos enfocarnos en mejorar]()  \n",
    "\n",
    "Aquí tienes una lista de preguntas de selección múltiple para una autoevaluación en un curso de cálculo con un enfoque pedagógico de aula invertida. Estas preguntas abarcan los objetivos de desarrollo del pensamiento variacional, pensamiento computacional a través de Python, capacidad de comunicación científica con LaTeX, Git y el uso de cuadernos Jupyter, así como la promoción de políticas de ciencia libre. \n",
    "\n",
    "1. **Pensamiento Variacional:**\n",
    "   a. ¿Qué significa el término \"variación\" en el contexto del pensamiento variacional?\n",
    "   b. ¿Cómo se relaciona el cálculo con el pensamiento variacional?\n",
    "   c. ¿Puede proporcionar un ejemplo práctico que ilustre el concepto de variación en un problema de cálculo?\n",
    "\n",
    "2. **Pensamiento Computacional (Python):**\n",
    "   a. ¿Cuál es el propósito principal de utilizar Python en un curso de cálculo?\n",
    "   b. ¿Cómo se puede utilizar Python para resolver problemas matemáticos complejos?\n",
    "   c. Menciona al menos dos ventajas de usar Python en comparación con otros lenguajes de programación en el contexto del cálculo.\n",
    "\n",
    "3. **Comunicación Científica (LaTeX):**\n",
    "   a. ¿Por qué es importante utilizar LaTeX para la comunicación científica en matemáticas y ciencias?\n",
    "   b. Enumera al menos tres comandos básicos de LaTeX utilizados para escribir ecuaciones matemáticas.\n",
    "   c. ¿Cómo mejorarías la presentación visual de una fórmula matemática utilizando LaTeX?\n",
    "\n",
    "4. **Gestión de Versiones (Git):**\n",
    "   a. ¿Cuál es el propósito principal de utilizar Git en el desarrollo de proyectos científicos?\n",
    "   b. Explica el concepto de \"commit\" en Git.\n",
    "   c. ¿Cómo resolverías un conflicto de fusión (merge conflict) en Git?\n",
    "\n",
    "5. **Cuadernos Jupyter:**\n",
    "   a. ¿Cuáles son las ventajas de utilizar cuadernos Jupyter en comparación con otros entornos de desarrollo?\n",
    "   b. Describe cómo se integra el código Python y la documentación en un cuaderno Jupyter.\n",
    "   c. ¿Cómo compartirías un cuaderno Jupyter con tus compañeros de clase utilizando GitHub?\n",
    "\n",
    "6. **Promoción de Políticas de Ciencia Libre:**\n",
    "   a. ¿Cuáles son los beneficios de utilizar plataformas como GitHub y YouTube para compartir recursos científicos?\n",
    "   b. ¿Cómo podrías contribuir a la promoción de la ciencia libre en tu comunidad académica?\n",
    "   c. ¿Por qué es importante la transparencia y accesibilidad en la investigación científica?\n",
    "\n",
    "Estas preguntas están diseñadas para evaluar la comprensión de los estudiantes en diversos aspectos del curso, abarcando desde los conceptos matemáticos hasta las habilidades tecnológicas y la conciencia sobre la ciencia libre."
   ]
  },
  {
   "cell_type": "markdown",
   "id": "8e65d6f9",
   "metadata": {},
   "source": [
    "# Como estudiante, encuentro que...   \n",
    "\n",
    "F: Mis Fortalezas son:     \n",
    "O: Mis Oportunidades son:    \n",
    "D: Mis Debilidades son:    \n",
    "A: Lo que Amenazas mi aprendizaje es:  "
   ]
  },
  {
   "cell_type": "markdown",
   "id": "6b9e56a8",
   "metadata": {
    "slideshow": {
     "slide_type": "slide"
    }
   },
   "source": [
    "### [Evaluamos al profesor Marco Cañas Aquí](https://forms.office.com/Pages/ResponsePage.aspx?id=IefhmYRxjkmK_7KtTlPBwkanXIs1i1FEujpsZgO6dXpUREJPV1kxUk1JV1ozTFJIQVNIQjY5WEY3US4u)"
   ]
  },
  {
   "cell_type": "markdown",
   "id": "050b9508",
   "metadata": {},
   "source": [
    "# Aportes de mis estudiantes a la metodología del curso  \n",
    "1. \n",
    "\n",
    "Sus opiniones y aportes son muy importantes para mi. Pues esta es una investigación educativa y un servicio de enseñanza para ustedes. Ustedes son la razón de ser de mi actividad docente. Dios los bendiga. "
   ]
  },
  {
   "cell_type": "markdown",
   "id": "6c4af91f",
   "metadata": {},
   "source": [
    "# Aportes de mis colegas docentes a la metodología que estoy aplicando en mis cursos. "
   ]
  },
  {
   "cell_type": "markdown",
   "id": "071afa04",
   "metadata": {
    "slideshow": {
     "slide_type": "slide"
    }
   },
   "source": [
    "## [Evaluación luego de alcanzar estos objetivos de aprendizaje]()"
   ]
  },
  {
   "cell_type": "markdown",
   "id": "10f43536",
   "metadata": {
    "slideshow": {
     "slide_type": "slide"
    }
   },
   "source": [
    "### Continue su aprendizaje en la siguiente clase a través del siguiente [vínculo]()"
   ]
  },
  {
   "cell_type": "markdown",
   "id": "53cc9115",
   "metadata": {
    "slideshow": {
     "slide_type": "slide"
    }
   },
   "source": [
    "## Agradecimientos  \n",
    "\n",
    "Doy gracias a Dios por la vida de mi Hijo Joseph Cañas Osorio y la madurez que ha alcanzado.\n",
    "\n",
    "Y a mi esposa Yasmira por su apoyo, orientación y acompañamiento. "
   ]
  }
 ],
 "metadata": {
  "celltoolbar": "Slideshow",
  "kernelspec": {
   "display_name": "Python 3",
   "language": "python",
   "name": "python3"
  },
  "language_info": {
   "codemirror_mode": {
    "name": "ipython",
    "version": 3
   },
   "file_extension": ".py",
   "mimetype": "text/x-python",
   "name": "python",
   "nbconvert_exporter": "python",
   "pygments_lexer": "ipython3",
   "version": "3.12.7"
  },
  "rise": {
   "enable_chalkboard": true,
   "theme": "sky",
   "transition": "zoom"
  }
 },
 "nbformat": 4,
 "nbformat_minor": 5
}
