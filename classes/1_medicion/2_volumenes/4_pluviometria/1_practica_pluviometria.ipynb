{
 "cells": [
  {
   "cell_type": "markdown",
   "id": "dc06dec7",
   "metadata": {
    "slideshow": {
     "slide_type": "slide"
    }
   },
   "source": [
    "<table align=\"left\">\n",
    "  <td>\n",
    "    <a href=\"https://colab.research.google.com/github/marco-canas/calculo/blob/main/classes/1_medicion/2_volumenes/4_pluviometria/1_practica_pluviometria.ipynb\" target=\"_parent\"><img src=\"https://colab.research.google.com/assets/colab-badge.svg\" alt=\"Open In Colab\"/></a>\n",
    "  </td>\n",
    "  <td>\n",
    "    <a target=\"_blank\" href=\"https://kaggle.com/kernels/welcome?src=https://github.com/marco-canas/calculo/blob/main/classes/1_medicion/2_volumenes/4_pluviometria/1_practica_pluviometria.ipynb\"><img src=\"https://kaggle.com/static/images/open-in-kaggle.svg\" /></a>\n",
    "  </td>\n",
    "</table>"
   ]
  },
  {
   "cell_type": "markdown",
   "id": "e0c5b198",
   "metadata": {
    "slideshow": {
     "slide_type": "slide"
    }
   },
   "source": [
    "### [Video de apoyo a la lectura interactiva y experimental de este cuaderno]()"
   ]
  },
  {
   "cell_type": "markdown",
   "id": "41e82203",
   "metadata": {
    "slideshow": {
     "slide_type": "slide"
    }
   },
   "source": [
    "## [Vínculo al programa del curso:  ]()\n",
    "\n"
   ]
  },
  {
   "cell_type": "markdown",
   "id": "d11ab06d",
   "metadata": {
    "slideshow": {
     "slide_type": "slide"
    }
   },
   "source": [
    "Un reconocimiento a mis estudiantes que han construido conmigo este saber pedagógico:\n",
    "\n",
    "<img src = ''> \n",
    "\n"
   ]
  },
  {
   "cell_type": "markdown",
   "id": "4dbe7644",
   "metadata": {},
   "source": [
    "\n",
    "Al seguir estos pasos, podrás estructurar una propuesta pedagógica y didáctica efectiva que integre la enseñanza de matemáticas, inglés y tecnología, y promueva el aprendizaje significativo y el desarrollo de habilidades clave en los estudiantes de la licenciatura en matemáticas."
   ]
  },
  {
   "cell_type": "markdown",
   "id": "8d97dc80",
   "metadata": {
    "slideshow": {
     "slide_type": "slide"
    }
   },
   "source": [
    "## Fomento de la lectura literaria asociada a Ingeniería agropecuaria y licenciatura en Matemáticas\n",
    "\n"
   ]
  },
  {
   "cell_type": "markdown",
   "id": "96775931",
   "metadata": {
    "slideshow": {
     "slide_type": "slide"
    }
   },
   "source": [
    "## Título de la clase: Práctica de pluviometría\n",
    "\n",
    "[]()"
   ]
  },
  {
   "cell_type": "markdown",
   "id": "1d38dd4e",
   "metadata": {
    "slideshow": {
     "slide_type": "slide"
    }
   },
   "source": [
    "### Objetivo de aprendizaje (Enunciar, de manera corta sencilla y clara para todos los asistentes)  \n",
    "\n",
    "1. Que el ingeniero agropecuario en formación presente de manera detallada y fundamentada, la forma de construcción de un pluviómetro casero atendiendo a los princípios matemáticos que fundamentan esta construcción.   \n",
    "   \n",
    "2. Que el ingeniero muestre los fundamentos matemáticos del pluviómetro. ¿Por qué una lingitud se traduce en una medida relativa de volumen por unidad de área?\n",
    "\n",
    "3. Y que el Ingeniero agropecuario en formación sepa obtener datos sobre precipitación y visualizar tabular y gráficamente utilizando python en  cuadernos Jupyter y finalmente sepa interpretar.  "
   ]
  },
  {
   "cell_type": "markdown",
   "id": "540f0ec1",
   "metadata": {
    "slideshow": {
     "slide_type": "slide"
    }
   },
   "source": [
    "## Cuestionario para realizar labores de memorización, observación y síntesis de la información (Además de diagnóstico)  \n",
    "[Realizar encuesta para participacion de todos los estudiantes para diagnosticar presaberes para la clase: mentimeter](https://www.mentimeter.com/es-ES/education/lectures)\n",
    "\n",
    "1. ¿Cómo se haya el volumen de un cilíndro cicular recto?\n",
    "2. ¿Cómo se haya el volumen de un cono circular recto? \n",
    "3. ¿Cómo se caçula el area de un circulo?\n",
    "4. ¿?\n",
    "5. ¿?"
   ]
  },
  {
   "cell_type": "markdown",
   "id": "8e457ea2",
   "metadata": {},
   "source": [
    "# Definiciones y Resultados científicos a comprender y memorizar \n",
    "\n",
    "[Primera grabación en Vocaroo]()"
   ]
  },
  {
   "cell_type": "markdown",
   "id": "2298e976",
   "metadata": {
    "slideshow": {
     "slide_type": "slide"
    }
   },
   "source": [
    "# Para el diseño de la clase tenga en cuenta algunos problemas de aprendizaje"
   ]
  },
  {
   "cell_type": "markdown",
   "id": "523d3acf",
   "metadata": {
    "slideshow": {
     "slide_type": "slide"
    }
   },
   "source": []
  },
  {
   "cell_type": "markdown",
   "id": "a40a4704",
   "metadata": {
    "slideshow": {
     "slide_type": "slide"
    }
   },
   "source": [
    "## Secuencia conceptual introductoria a la clase"
   ]
  },
  {
   "cell_type": "markdown",
   "id": "8853d874",
   "metadata": {},
   "source": [
    "## El componente histórico y epistemológico"
   ]
  },
  {
   "cell_type": "code",
   "execution_count": 1,
   "id": "bc0addfe",
   "metadata": {},
   "outputs": [
    {
     "data": {
      "text/plain": [
       "'Users\\\\marco\\\\Documentos\\\\docencia\\\\calculo\\\\images\\\\1_medicion\\\\Práctica de pluviometría.pdf'"
      ]
     },
     "execution_count": 1,
     "metadata": {},
     "output_type": "execute_result"
    }
   ],
   "source": [
    "# Mapa conceptual para la clase de pluviometría\n",
    "from graphviz import Digraph\n",
    "import pandas as pd\n",
    "import matplotlib.pyplot as plt\n",
    "\n",
    "# Crear un nuevo grafo dirigido\n",
    "dot = Digraph()\n",
    "\n",
    "# Concepto principal\n",
    "main_concept = 'Práctica de pluviometría'\n",
    "dot.node('A', main_concept)\n",
    "\n",
    "# Añadir conceptos clave\n",
    "dot.node('B', 'Precipitación')\n",
    "dot.node('C', 'Fundamentos Matemáticos')\n",
    "dot.node('D', 'Unidades de Medida')\n",
    "dot.node('E', 'Construcción de un Pluviómetro Casero')\n",
    "dot.node('F', 'Visualización de Datos con Python')\n",
    "dot.node('G', 'Pluviómetro')\n",
    "dot.node('H', 'Volumen de Precipitación (mm)')\n",
    "dot.node('I', 'Cálculo de Áreas y Volumen')\n",
    "dot.node('J', 'Obtención de Datos Históricos')\n",
    "dot.node('K', 'Uso de pandas y matplotlib')\n",
    "\n",
    "# Añadir relaciones entre los nodos\n",
    "dot.edges(['AB', 'AC', 'AD', 'AE', 'AF', 'BG', 'BH', 'CI', 'FJ', 'FK'])\n",
    "\n",
    "# Guardar el grafo como un archivo de imagen\n",
    "dot.render(filename=main_concept, format='png', cleanup=True, directory='Users/marco/Documentos/docencia/calculo/images/1_medicion')\n",
    "dot.view()\n"
   ]
  },
  {
   "cell_type": "markdown",
   "id": "4321caa7",
   "metadata": {},
   "source": [
    "# Descripción de la construcción de un pluviómetro casero  "
   ]
  },
  {
   "cell_type": "markdown",
   "id": "34455277",
   "metadata": {},
   "source": [
    "Aquí tienes una secuencia para construir un pluviómetro casero con un recipiente cilíndrico y medir la precipitación en milímetros:\n",
    "\n",
    "### Materiales:\n",
    "- Un recipiente cilíndrico transparente (como una botella de plástico de 2 litros).\n",
    "- Tijeras o cúter.\n",
    "- Regla o cinta métrica.\n",
    "- Marcador permanente.\n",
    "- Agua.\n",
    "\n",
    "### Pasos:\n",
    "\n",
    "1. **Preparación del recipiente**:\n",
    "   - Corta la parte superior de la botella (la que tiene el cuello) para crear una boca abierta que facilite la recogida de lluvia. Asegúrate de que el corte sea recto para evitar errores de medición.\n",
    "   \n",
    "2. **Creación de la escala de medición**:\n",
    "   - Coloca la botella en una superficie plana y usa una regla para medir desde el fondo hacia arriba en milímetros.\n",
    "   - Con el marcador, traza líneas horizontales cada 10 milímetros (1 centímetro), comenzando desde el fondo del recipiente. Cada línea representará un milímetro de precipitación.\n",
    "   - Marca cada línea con su valor correspondiente en milímetros, hasta el borde del recipiente o hasta donde puedas medir.\n",
    "\n",
    "3. **Calibración (opcional)**:\n",
    "   - Para asegurarte de que la medición es precisa, llena el recipiente con agua en incrementos conocidos (por ejemplo, 10 ml) y verifica si coinciden con las marcas en milímetros. Cada milímetro de altura en un recipiente cilíndrico debe representar un milímetro de precipitación si la base es uniforme.\n",
    "\n",
    "4. **Instalación y uso**:\n",
    "   - Coloca el pluviómetro en un área abierta, alejada de edificios, árboles o cualquier estructura que pueda interferir en la recolección de lluvia.\n",
    "   - Asegúrate de que el pluviómetro esté nivelado y estable para evitar que el agua se derrame.\n",
    "   - Después de cada lluvia, observa el nivel de agua y anota la lectura en milímetros. Vacía el pluviómetro después de cada medición para que esté listo para la siguiente precipitación.\n",
    "\n",
    "Este método te permitirá medir la cantidad de lluvia caída en milímetros con un pluviómetro sencillo y efectivo."
   ]
  },
  {
   "cell_type": "markdown",
   "id": "59f009d0",
   "metadata": {},
   "source": [
    "# Descripción de los fundamentos matemáticos "
   ]
  },
  {
   "cell_type": "markdown",
   "id": "006c0b10",
   "metadata": {},
   "source": [
    "$$ P = \\frac{V}{A} $$"
   ]
  },
  {
   "cell_type": "markdown",
   "id": "4fbe6722",
   "metadata": {},
   "source": [
    "Donde la precipitación $P$ se mide internacionalmente en litros por metro cuadrado. "
   ]
  },
  {
   "cell_type": "markdown",
   "id": "b28fbc81",
   "metadata": {},
   "source": [
    "$$ V = \\text{Área de su base por la altura} = Ah $$"
   ]
  },
  {
   "cell_type": "markdown",
   "id": "985a1b7a",
   "metadata": {},
   "source": [
    "$$ P = \\frac{\\cancel{A}h}{\\cancel{A}} $$"
   ]
  },
  {
   "cell_type": "markdown",
   "id": "ac0fbb3a",
   "metadata": {},
   "source": [
    "$$ P = h $$\n",
    "\n",
    "Conclusión: La precipitación es numéricamente igual a la altura medida en el pluviómetro. \n",
    "\n",
    "Entonces, de ahora en adelante, la medida en milímetros que nos dá el pluviómetro la debemos traducir en litros por metro cuadrado. "
   ]
  },
  {
   "cell_type": "markdown",
   "id": "b7c335fd",
   "metadata": {},
   "source": [
    "# Cómo el ingeniero agropecuario sistematiza la información y cómo la obtiene, visualiza e interpreta"
   ]
  },
  {
   "cell_type": "code",
   "execution_count": 36,
   "id": "720995b8",
   "metadata": {},
   "outputs": [
    {
     "data": {
      "text/html": [
       "<div>\n",
       "<style scoped>\n",
       "    .dataframe tbody tr th:only-of-type {\n",
       "        vertical-align: middle;\n",
       "    }\n",
       "\n",
       "    .dataframe tbody tr th {\n",
       "        vertical-align: top;\n",
       "    }\n",
       "\n",
       "    .dataframe thead th {\n",
       "        text-align: right;\n",
       "    }\n",
       "</style>\n",
       "<table border=\"1\" class=\"dataframe\">\n",
       "  <thead>\n",
       "    <tr style=\"text-align: right;\">\n",
       "      <th></th>\n",
       "      <th>Fecha</th>\n",
       "      <th>Precipitación (mm)</th>\n",
       "    </tr>\n",
       "  </thead>\n",
       "  <tbody>\n",
       "    <tr>\n",
       "      <th>0</th>\n",
       "      <td>2024-10-01</td>\n",
       "      <td>5.2</td>\n",
       "    </tr>\n",
       "    <tr>\n",
       "      <th>1</th>\n",
       "      <td>2024-10-02</td>\n",
       "      <td>0.0</td>\n",
       "    </tr>\n",
       "    <tr>\n",
       "      <th>2</th>\n",
       "      <td>2024-10-03</td>\n",
       "      <td>3.5</td>\n",
       "    </tr>\n",
       "    <tr>\n",
       "      <th>3</th>\n",
       "      <td>2024-10-04</td>\n",
       "      <td>8.0</td>\n",
       "    </tr>\n",
       "    <tr>\n",
       "      <th>4</th>\n",
       "      <td>2024-10-05</td>\n",
       "      <td>1.2</td>\n",
       "    </tr>\n",
       "    <tr>\n",
       "      <th>5</th>\n",
       "      <td>2024-10-06</td>\n",
       "      <td>0.0</td>\n",
       "    </tr>\n",
       "    <tr>\n",
       "      <th>6</th>\n",
       "      <td>2024-10-07</td>\n",
       "      <td>4.3</td>\n",
       "    </tr>\n",
       "    <tr>\n",
       "      <th>7</th>\n",
       "      <td>2024-10-08</td>\n",
       "      <td>0.0</td>\n",
       "    </tr>\n",
       "    <tr>\n",
       "      <th>8</th>\n",
       "      <td>2024-10-09</td>\n",
       "      <td>6.5</td>\n",
       "    </tr>\n",
       "    <tr>\n",
       "      <th>9</th>\n",
       "      <td>2024-10-10</td>\n",
       "      <td>0.1</td>\n",
       "    </tr>\n",
       "    <tr>\n",
       "      <th>10</th>\n",
       "      <td>2024-10-11</td>\n",
       "      <td>0.0</td>\n",
       "    </tr>\n",
       "    <tr>\n",
       "      <th>11</th>\n",
       "      <td>2024-10-12</td>\n",
       "      <td>1.0</td>\n",
       "    </tr>\n",
       "    <tr>\n",
       "      <th>12</th>\n",
       "      <td>2024-10-13</td>\n",
       "      <td>2.0</td>\n",
       "    </tr>\n",
       "    <tr>\n",
       "      <th>13</th>\n",
       "      <td>2024-10-14</td>\n",
       "      <td>3.0</td>\n",
       "    </tr>\n",
       "    <tr>\n",
       "      <th>14</th>\n",
       "      <td>2024-10-15</td>\n",
       "      <td>4.0</td>\n",
       "    </tr>\n",
       "    <tr>\n",
       "      <th>15</th>\n",
       "      <td>2024-10-16</td>\n",
       "      <td>5.0</td>\n",
       "    </tr>\n",
       "    <tr>\n",
       "      <th>16</th>\n",
       "      <td>2024-10-17</td>\n",
       "      <td>5.0</td>\n",
       "    </tr>\n",
       "    <tr>\n",
       "      <th>17</th>\n",
       "      <td>2024-10-18</td>\n",
       "      <td>6.0</td>\n",
       "    </tr>\n",
       "    <tr>\n",
       "      <th>18</th>\n",
       "      <td>2024-10-19</td>\n",
       "      <td>7.0</td>\n",
       "    </tr>\n",
       "    <tr>\n",
       "      <th>19</th>\n",
       "      <td>2024-10-20</td>\n",
       "      <td>8.0</td>\n",
       "    </tr>\n",
       "    <tr>\n",
       "      <th>20</th>\n",
       "      <td>2024-10-21</td>\n",
       "      <td>9.0</td>\n",
       "    </tr>\n",
       "    <tr>\n",
       "      <th>21</th>\n",
       "      <td>2024-10-22</td>\n",
       "      <td>10.0</td>\n",
       "    </tr>\n",
       "    <tr>\n",
       "      <th>22</th>\n",
       "      <td>2024-10-23</td>\n",
       "      <td>11.0</td>\n",
       "    </tr>\n",
       "    <tr>\n",
       "      <th>23</th>\n",
       "      <td>2024-10-24</td>\n",
       "      <td>12.0</td>\n",
       "    </tr>\n",
       "    <tr>\n",
       "      <th>24</th>\n",
       "      <td>2024-10-25</td>\n",
       "      <td>13.0</td>\n",
       "    </tr>\n",
       "  </tbody>\n",
       "</table>\n",
       "</div>"
      ],
      "text/plain": [
       "        Fecha  Precipitación (mm)\n",
       "0  2024-10-01                 5.2\n",
       "1  2024-10-02                 0.0\n",
       "2  2024-10-03                 3.5\n",
       "3  2024-10-04                 8.0\n",
       "4  2024-10-05                 1.2\n",
       "5  2024-10-06                 0.0\n",
       "6  2024-10-07                 4.3\n",
       "7  2024-10-08                 0.0\n",
       "8  2024-10-09                 6.5\n",
       "9  2024-10-10                 0.1\n",
       "10 2024-10-11                 0.0\n",
       "11 2024-10-12                 1.0\n",
       "12 2024-10-13                 2.0\n",
       "13 2024-10-14                 3.0\n",
       "14 2024-10-15                 4.0\n",
       "15 2024-10-16                 5.0\n",
       "16 2024-10-17                 5.0\n",
       "17 2024-10-18                 6.0\n",
       "18 2024-10-19                 7.0\n",
       "19 2024-10-20                 8.0\n",
       "20 2024-10-21                 9.0\n",
       "21 2024-10-22                10.0\n",
       "22 2024-10-23                11.0\n",
       "23 2024-10-24                12.0\n",
       "24 2024-10-25                13.0"
      ]
     },
     "execution_count": 36,
     "metadata": {},
     "output_type": "execute_result"
    }
   ],
   "source": [
    "\n",
    "# Ejemplo de obtención y visualización de datos de pluviometría\n",
    "# Datos simulados de precipitación (puedes sustituir con datos reales)\n",
    "import matplotlib.pyplot as plt \n",
    "data = {'Fecha': pd.date_range(start='2024-10-01', periods=25, freq='D'),\n",
    "        'Precipitación (mm)': [5.2, 0.0, 3.5, 8.0, 1.2, 0.0, 4.3, 0.0, 6.5, 0.1, 0.0, 1, 2,\n",
    "                               3, 4, 5, 5, 6, 7, 8, 9, 10, 11, 12, 13]}\n",
    "df = pd.DataFrame(data)\n",
    "df "
   ]
  },
  {
   "cell_type": "markdown",
   "id": "a43da948",
   "metadata": {},
   "source": [
    "## Interpretación de la tabla "
   ]
  },
  {
   "cell_type": "markdown",
   "id": "c400405d",
   "metadata": {},
   "source": [
    "# Representación gráfica de los datos de pluviometría  \n",
    "\n",
    "## Representación en diagrama de barras"
   ]
  },
  {
   "cell_type": "code",
   "execution_count": 34,
   "id": "6ae717c0",
   "metadata": {},
   "outputs": [
    {
     "data": {
      "image/png": "[encoded data removed]",
      "text/plain": [
       "<Figure size 640x480 with 1 Axes>"
      ]
     },
     "metadata": {},
     "output_type": "display_data"
    }
   ],
   "source": [
    "\n",
    "# Visualizar los datos\n",
    "#df.set_index('Fecha', inplace=True)  \n",
    "plt.bar(x =df['Fecha'], height= df['Precipitación (mm)'])\n",
    "plt.title('Precipitación Diaria Obtenida con un generador aleatorio')\n",
    "plt.ylabel('Precipitación (mm)')\n",
    "plt.xlabel('Fecha')\n",
    "plt.grid(True)\n",
    "plt.tight_layout()\n",
    "plt.show()"
   ]
  },
  {
   "cell_type": "markdown",
   "id": "746bd316",
   "metadata": {},
   "source": [
    "# Interpretación de los gráficos sobre pluviometría. "
   ]
  },
  {
   "cell_type": "markdown",
   "id": "85d23d35",
   "metadata": {},
   "source": [
    "## Representación en diagrama de dispersion "
   ]
  },
  {
   "cell_type": "code",
   "execution_count": 28,
   "id": "47556826",
   "metadata": {},
   "outputs": [
    {
     "data": {
      "text/plain": [
       "Index(['Fecha', 'Precipitación (mm)'], dtype='object')"
      ]
     },
     "execution_count": 28,
     "metadata": {},
     "output_type": "execute_result"
    }
   ],
   "source": [
    "df.columns"
   ]
  },
  {
   "cell_type": "code",
   "execution_count": 29,
   "id": "761b5b79",
   "metadata": {},
   "outputs": [
    {
     "data": {
      "image/png": "[encoded data removed]",
      "text/plain": [
       "<Figure size 640x480 with 1 Axes>"
      ]
     },
     "metadata": {},
     "output_type": "display_data"
    }
   ],
   "source": [
    "# Visualizar los datos\n",
    "plt.scatter(df['Fecha'], df['Precipitación (mm)'])\n",
    "\n",
    "plt.title('Precipitación Diaria Obtenida con un generador aleatorio')\n",
    "plt.ylabel('Precipitación (mm)')\n",
    "plt.xlabel('Fecha')\n",
    "plt.grid(True)\n",
    "plt.tight_layout()\n",
    "plt.show()"
   ]
  },
  {
   "cell_type": "markdown",
   "id": "6ecac4a2",
   "metadata": {},
   "source": [
    "## Interpretar el gráfico de dispersión"
   ]
  },
  {
   "cell_type": "markdown",
   "id": "02162d5a",
   "metadata": {},
   "source": [
    "## Representación en diagrama de Líneas "
   ]
  },
  {
   "cell_type": "code",
   "execution_count": 30,
   "id": "5e003fe8",
   "metadata": {},
   "outputs": [
    {
     "data": {
      "image/png": "[encoded data removed]",
      "text/plain": [
       "<Figure size 640x480 with 1 Axes>"
      ]
     },
     "metadata": {},
     "output_type": "display_data"
    }
   ],
   "source": [
    "# Visualizar los datos\n",
    "plt.plot(df['Fecha'], df['Precipitación (mm)'])\n",
    "\n",
    "plt.title('Precipitación Diaria Obtenida con un generador aleatorio')\n",
    "plt.ylabel('Precipitación (mm)')\n",
    "plt.xlabel('Fecha')\n",
    "plt.grid(True)\n",
    "plt.tight_layout()\n",
    "plt.show()"
   ]
  },
  {
   "cell_type": "markdown",
   "id": "6b994c12",
   "metadata": {},
   "source": [
    "## Interpretación del gráfico de líneas "
   ]
  },
  {
   "cell_type": "markdown",
   "id": "10e55ccf",
   "metadata": {},
   "source": [
    "# Práctica de pluviometría "
   ]
  },
  {
   "cell_type": "markdown",
   "id": "239427f7",
   "metadata": {},
   "source": [
    "Para guiar a tus estudiantes en la práctica de pluviómetría para Ingeniería Agropecuaria, propongo una rúbrica que evalúe tanto:  \n",
    "\n",
    "* la parte práctica (elaboración de un pluviómetro casero) como \n",
    "* la parte matemática y técnica (uso de Jupyter con Python y LaTeX para modelar los fundamentos matemáticos de la precipitación).\n"
   ]
  },
  {
   "cell_type": "markdown",
   "id": "2d56031f",
   "metadata": {},
   "source": [
    "\n",
    "### Rúbrica para la Práctica de Pluviometría\n",
    "\n",
    "#### Criterios de evaluación (Total: 100 puntos)\n",
    "\n",
    "---\n"
   ]
  },
  {
   "cell_type": "markdown",
   "id": "b036f23f",
   "metadata": {},
   "source": [
    "\n",
    "### 1. **Elaboración y explicación del pluviómetro casero (30 puntos)**\n",
    "\n",
    "| Criterio                                          | Excelente (10 puntos)                     | Bueno (8 puntos)                         | Aceptable (6 puntos)                      | Insuficiente (4 puntos o menos) |\n",
    "|---------------------------------------------------|-------------------------------------------|------------------------------------------|-------------------------------------------|--------------------------------|\n",
    "| **Calidad del video**                             | El video es claro, bien iluminado, con audio nítido y buena edición. | El video es claro, pero con algunos problemas menores de calidad. | El video es comprensible, pero tiene varios problemas de calidad (audio o video). | El video es confuso o tiene muchos problemas técnicos. |\n",
    "| **Explicación del pluviómetro**                   | Explica detalladamente cada paso de la construcción del pluviómetro, mencionando herramientas y materiales. | Explica la construcción del pluviómetro, pero con algunos pasos no tan detallados. | Explica de manera muy general la construcción, con detalles faltantes. | No explica adecuadamente los pasos de la construcción. |\n",
    "| **Descripción de las unidades de medida (precipitación)** | Describe de manera precisa las unidades de medida en Colombia (mm, litros/m²), explicando sus usos en agropecuaria. | Menciona las unidades de medida correctas, pero con explicaciones limitadas. | Menciona algunas unidades de medida, pero con errores o sin explicación clara. | No describe adecuadamente las unidades de medida. |\n",
    "\n",
    "---\n"
   ]
  },
  {
   "cell_type": "markdown",
   "id": "3c6a514d",
   "metadata": {},
   "source": [
    "\n",
    "### 2. **Explicación matemática y uso de Jupyter Notebook (70 puntos)**\n",
    "\n",
    "#### Parte 1: **Explicación Matemática en Jupyter Notebook (34 puntos)**\n",
    "\n",
    "| Criterio                                          | Excelente (12 puntos)                     | Bueno (8 puntos)                         | Aceptable (6 puntos)                      | Insuficiente (4 puntos o menos) |\n",
    "|---------------------------------------------------|-------------------------------------------|------------------------------------------|-------------------------------------------|--------------------------------|\n",
    "| **Uso de LaTeX para ecuaciones**                  | Usa correctamente LaTeX para mostrar las ecuaciones matemáticas con claridad y buena presentación. | Usa LaTeX para mostrar las ecuaciones, aunque con pequeños errores en la sintaxis. | Usa LaTeX de manera básica, pero con varios errores. | No usa LaTeX o lo usa de forma incorrecta. |\n",
    "| **Proporcionalidad entre precipitación y área**   | Explica claramente la relación proporcional entre la medida en el pluviómetro y los litros por metro cuadrado (con ecuaciones). | Explica la proporcionalidad, pero con algunas deficiencias o confusiones en las ecuaciones. | La explicación es poco clara, con errores matemáticos. | No presenta adecuadamente la relación matemática o está ausente. |\n",
    "| **Fundamentos matemáticos bien explicados**       | Muestra y explica correctamente las fórmulas y conceptos matemáticos involucrados (volumen, área, altura de precipitación). | Muestra las fórmulas correctas, pero con explicaciones poco detalladas. | Presenta algunos fundamentos matemáticos, pero con errores conceptuales. | No presenta los fundamentos matemáticos o son erróneos. |\n"
   ]
  },
  {
   "cell_type": "markdown",
   "id": "ac08de54",
   "metadata": {},
   "source": [
    "\n",
    "#### Parte 2: **Uso de Python en Jupyter Notebook (30 puntos)**\n",
    "\n",
    "| Criterio                                          | Excelente (12 puntos)                     | Bueno (8 puntos)                         | Aceptable (6 puntos)                      | Insuficiente (4 puntos o menos) |\n",
    "|---------------------------------------------------|-------------------------------------------|------------------------------------------|-------------------------------------------|--------------------------------|\n",
    "| **Cálculos automáticos de precipitación**         | Implementa código Python claro y eficiente para realizar los cálculos de precipitación (litros/m²) a partir de las medidas del pluviómetro. | Implementa código Python funcional, aunque con algunos errores menores o ineficiencias. | El código Python presenta problemas importantes o no realiza correctamente los cálculos. | No presenta código Python funcional o está ausente. |\n",
    "| **Visualización de resultados**                   | Muestra los resultados de manera clara usando gráficos (matplotlib u otra librería), comparando las medidas de precipitación. | Muestra los resultados con gráficos básicos o no tan claros. | Presenta los resultados numéricos, pero sin visualización gráfica. | No presenta resultados claros ni gráficos. |\n",
    "| **Comentarios en el código**                      | El código está bien comentado, explicando cada paso y su relación con el problema de la precipitación. | El código tiene algunos comentarios, pero no explica todo el proceso. | El código tiene pocos comentarios o no explican adecuadamente el proceso. | El código no tiene comentarios o no está bien explicado. |\n",
    "\n",
    "---\n"
   ]
  },
  {
   "cell_type": "markdown",
   "id": "a54f5778",
   "metadata": {},
   "source": [
    "\n",
    "### **Total de Puntos: ____ / 100**\n",
    "\n",
    "---\n",
    "\n",
    "### Recomendaciones para el estudiante:\n",
    "- **Claridad en la explicación:** Tanto en el video como en el Jupyter Notebook, asegúrate de que tus explicaciones sean claras y detalladas. No asumas que los espectadores tienen conocimientos previos.\n",
    "- **Práctica en Python:** Revisa tu código y asegúrate de que los cálculos sean correctos. Python es una excelente herramienta para automatizar y verificar los cálculos de precipitación.\n",
    "- **Presentación visual:** Los gráficos pueden hacer que la información sea más accesible y fácil de entender. Utiliza bibliotecas como `matplotlib` o `seaborn` para mejorar la calidad de tus resultados visuales.\n",
    "- **Revisar errores:** Antes de finalizar tu video o tu cuaderno Jupyter, revisa todo en busca de errores de cálculo, sintaxis o presentación."
   ]
  },
  {
   "cell_type": "markdown",
   "id": "ec048afb",
   "metadata": {},
   "source": [
    "# Fundamentos matemáticos detrás de la medición de precipitación con pluvióemetro.   \n"
   ]
  },
  {
   "cell_type": "markdown",
   "id": "9b916025",
   "metadata": {},
   "source": [
    "\n",
    "A continuación te proporciono una presentación de los fundamentos matemáticos de la medición de precipitación con un pluviómetro casero, utilizando lenguaje LaTeX para las fórmulas y código Python para los cálculos. "
   ]
  },
  {
   "cell_type": "markdown",
   "id": "d1981d43",
   "metadata": {},
   "source": [
    "Este contenido puede ser integrado en un cuaderno Jupyter, donde los estudiantes podrán interactuar con el código y las ecuaciones.\n",
    "\n",
    "---\n"
   ]
  },
  {
   "cell_type": "markdown",
   "id": "81811c67",
   "metadata": {},
   "source": [
    "\n",
    "## **Fundamentos Matemáticos de la Medición de Precipitación con un Pluviómetro Casero**\n"
   ]
  },
  {
   "cell_type": "markdown",
   "id": "e7cb9600",
   "metadata": {},
   "source": [
    "\n",
    "La precipitación es una medida del volumen de agua que cae sobre una superficie en un periodo de tiempo determinado, usualmente expresada en **milímetros (mm)**. En esta práctica, utilizaremos un pluviómetro casero y Python para calcular la precipitación en litros por metro cuadrado (**L/m²**).\n"
   ]
  },
  {
   "cell_type": "markdown",
   "id": "61d8ed17",
   "metadata": {},
   "source": [
    "\n",
    "### 1. **Relación Matemática entre la Medida del Pluviómetro y la Precipitación**\n"
   ]
  },
  {
   "cell_type": "markdown",
   "id": "b882d732",
   "metadata": {},
   "source": [
    "  \n",
    "Un pluviómetro casero mide la altura de la precipitación en un recipiente cilíndrico. "
   ]
  },
  {
   "cell_type": "markdown",
   "id": "23b02cb1",
   "metadata": {},
   "source": [
    "Aquí tienes un texto explicativo sobre la relación de proporcionalidad entre el volumen de agua que cae durante la lluvia y el área sobre la que cae, seguido de un ejemplo con datos artificiales en un DataFrame y su visualización gráfica.\n",
    "\n",
    "---\n",
    "\n",
    "### Texto Explicativo\n",
    "\n",
    "Durante una lluvia, el volumen de agua que cae sobre una región es directamente proporcional al área de dicha región. Esto significa que si consideramos dos áreas distintas, el volumen de agua recogido en cada una dependerá directamente de su tamaño: el doble de área captará el doble de volumen, y así sucesivamente.\n",
    "\n",
    "En términos matemáticos, podemos expresar esta relación de proporcionalidad directa con la fórmula:\n",
    "\n",
    "\\[\n",
    "V = P \\times A\n",
    "\\]\n",
    "\n",
    "donde:\n",
    "- \\( V \\) es el volumen de agua que cae,\n",
    "- \\( A \\) es el área de la región sobre la que cae el agua,\n",
    "- \\( P \\) es la constante de proporcionalidad, que en este caso llamamos **precipitación**.\n",
    "\n",
    "**Precipitación** se mide en litros por metro cuadrado (L/m²), lo cual representa la cantidad de agua acumulada por unidad de área. Esta medida permite comparar la cantidad de lluvia de forma relativa, independientemente del área en cuestión.\n",
    "\n",
    "A continuación, mostramos un ejemplo con datos artificiales en Python. Se crea un DataFrame con columnas de **área** y **volumen** para visualizar esta relación de proporcionalidad directa, y se grafica usando `matplotlib`.\n",
    "\n",
    "### Ejemplo con Datos Artificiales\n",
    "\n",
    "Para este ejemplo, asumiremos una precipitación constante de 5 L/m². Esto significa que cada metro cuadrado de área recogerá 5 litros de agua.\n"
   ]
  },
  {
   "cell_type": "code",
   "execution_count": 3,
   "id": "0582f9ef",
   "metadata": {},
   "outputs": [
    {
     "data": {
      "text/html": [
       "<div>\n",
       "<style scoped>\n",
       "    .dataframe tbody tr th:only-of-type {\n",
       "        vertical-align: middle;\n",
       "    }\n",
       "\n",
       "    .dataframe tbody tr th {\n",
       "        vertical-align: top;\n",
       "    }\n",
       "\n",
       "    .dataframe thead th {\n",
       "        text-align: right;\n",
       "    }\n",
       "</style>\n",
       "<table border=\"1\" class=\"dataframe\">\n",
       "  <thead>\n",
       "    <tr style=\"text-align: right;\">\n",
       "      <th></th>\n",
       "      <th>Área (m²)</th>\n",
       "      <th>Volumen (L)</th>\n",
       "    </tr>\n",
       "  </thead>\n",
       "  <tbody>\n",
       "    <tr>\n",
       "      <th>0</th>\n",
       "      <td>10</td>\n",
       "      <td>50</td>\n",
       "    </tr>\n",
       "    <tr>\n",
       "      <th>1</th>\n",
       "      <td>20</td>\n",
       "      <td>100</td>\n",
       "    </tr>\n",
       "    <tr>\n",
       "      <th>2</th>\n",
       "      <td>30</td>\n",
       "      <td>150</td>\n",
       "    </tr>\n",
       "    <tr>\n",
       "      <th>3</th>\n",
       "      <td>40</td>\n",
       "      <td>200</td>\n",
       "    </tr>\n",
       "    <tr>\n",
       "      <th>4</th>\n",
       "      <td>50</td>\n",
       "      <td>250</td>\n",
       "    </tr>\n",
       "    <tr>\n",
       "      <th>5</th>\n",
       "      <td>60</td>\n",
       "      <td>300</td>\n",
       "    </tr>\n",
       "    <tr>\n",
       "      <th>6</th>\n",
       "      <td>70</td>\n",
       "      <td>350</td>\n",
       "    </tr>\n",
       "    <tr>\n",
       "      <th>7</th>\n",
       "      <td>80</td>\n",
       "      <td>400</td>\n",
       "    </tr>\n",
       "    <tr>\n",
       "      <th>8</th>\n",
       "      <td>90</td>\n",
       "      <td>450</td>\n",
       "    </tr>\n",
       "    <tr>\n",
       "      <th>9</th>\n",
       "      <td>100</td>\n",
       "      <td>500</td>\n",
       "    </tr>\n",
       "  </tbody>\n",
       "</table>\n",
       "</div>"
      ],
      "text/plain": [
       "   Área (m²)  Volumen (L)\n",
       "0         10           50\n",
       "1         20          100\n",
       "2         30          150\n",
       "3         40          200\n",
       "4         50          250\n",
       "5         60          300\n",
       "6         70          350\n",
       "7         80          400\n",
       "8         90          450\n",
       "9        100          500"
      ]
     },
     "execution_count": 3,
     "metadata": {},
     "output_type": "execute_result"
    }
   ],
   "source": [
    "import pandas as pd\n",
    "import matplotlib.pyplot as plt\n",
    "\n",
    "# Constante de proporcionalidad (precipitación en L/m²)\n",
    "precipitacion = 5  # L/m²\n",
    "\n",
    "# Datos artificiales para el área en metros cuadrados\n",
    "areas = [10, 20, 30, 40, 50, 60, 70, 80, 90, 100]  # m²\n",
    "\n",
    "# Calcular el volumen de agua en función del área\n",
    "volumenes = [precipitacion * area for area in areas]\n",
    "\n",
    "# Crear el DataFrame\n",
    "df = pd.DataFrame({'Área (m²)': areas, 'Volumen (L)': volumenes})\n",
    "\n",
    "# Mostrar el DataFrame\n",
    "df\n"
   ]
  },
  {
   "cell_type": "code",
   "execution_count": 4,
   "id": "20b4513e",
   "metadata": {},
   "outputs": [
    {
     "data": {
      "image/png": "[encoded data removed]",
      "text/plain": [
       "<Figure size 800x500 with 1 Axes>"
      ]
     },
     "metadata": {},
     "output_type": "display_data"
    }
   ],
   "source": [
    "# Graficar la relación\n",
    "import matplotlib.pyplot as plt \n",
    "plt.figure(figsize=(8, 5))\n",
    "plt.plot(df['Área (m²)'], df['Volumen (L)'], marker='o', color='b', linestyle='-')\n",
    "plt.xlabel('Área (m²)')\n",
    "plt.ylabel('Volumen (L)')\n",
    "plt.title('Relación de Proporcionalidad Directa entre Volumen y Área')\n",
    "plt.grid(True)\n",
    "plt.show()\n",
    "\n"
   ]
  },
  {
   "cell_type": "markdown",
   "id": "cc3d4096",
   "metadata": {},
   "source": [
    "\n",
    "### Explicación de la Gráfica\n"
   ]
  },
  {
   "cell_type": "markdown",
   "id": "738e4daf",
   "metadata": {},
   "source": [
    "\n",
    "La gráfica muestra cómo el **volumen** de agua acumulado aumenta linealmente con el **área**. La pendiente de la línea es la constante de proporcionalidad, que hemos definido como **precipitación ($P$)**. "
   ]
  },
  {
   "cell_type": "markdown",
   "id": "94ee07a7",
   "metadata": {},
   "source": [
    "Así, en este ejemplo, cada metro cuadrado de área aporta 5 litros de agua, indicando una precipitación de 5 $L/m^{2}$.\n",
    "\n",
    "Esta relación lineal refuerza el concepto de que la **precipitación es una medida relativa**, cuantificando la cantidad de agua que cae por unidad de área, y puede compararse independientemente del tamaño de la superficie analizada."
   ]
  },
  {
   "cell_type": "markdown",
   "id": "d703337f",
   "metadata": {},
   "source": [
    "Para calcular la cantidad de precipitación en litros por metro cuadrado a partir de la altura de agua recolectada, usamos la siguiente fórmula:\n",
    "\n",
    "$$\n",
    "P = \\frac{V_{\\text{recipiente}}}{A_{\\text{base del pluviometro}}}\n",
    "$$\n",
    "\n",
    "Donde:\n",
    "- $P$ es la precipitación en litros por metro cuadrado (L/m²),\n",
    "- $V$ es el volumen de agua en litros ($L$),\n",
    "- $A$ es el área de la superficie donde se mide la precipitación, en metros cuadrados ($m^2$).\n"
   ]
  },
  {
   "cell_type": "markdown",
   "id": "a48763f9",
   "metadata": {},
   "source": [
    "\n",
    "En un pluviómetro casero, el volumen del agua acumulada es el producto del área de la base del recipiente ($A_{\\text{base}}$) y la altura de la precipitación ($h$):\n"
   ]
  },
  {
   "cell_type": "markdown",
   "id": "f720241e",
   "metadata": {},
   "source": [
    "\n",
    "$$\n",
    "V = A_{\\text{base}} \\cdot h\n",
    "$$\n",
    "\n",
    "Sustituyendo $V$ en la primera ecuación:\n",
    "\n",
    "$$\n",
    "P = \\frac{A_{\\text{base}} \\cdot h}{A}\n",
    "$$\n"
   ]
  },
  {
   "cell_type": "markdown",
   "id": "419d0b34",
   "metadata": {},
   "source": [
    "\n",
    "Si el área $A$ es medida en metros cuadrados, la fórmula se simplifica a:\n",
    "\n",
    "$$\n",
    "P = h \\quad \\text{(en mm para una relación directa entre la altura del pluviómetro y la precipitación en L/m²)} \n",
    "$$\n",
    "\n",
    "---\n"
   ]
  },
  {
   "cell_type": "markdown",
   "id": "9e0a7aad",
   "metadata": {},
   "source": [
    "\n",
    "### 2. **Código Python para Cálculos de Precipitación**\n",
    "\n",
    "A continuación, implementamos el cálculo de precipitación en un cuaderno Jupyter utilizando Python.\n",
    "\n",
    "#### Definir los parámetros del pluviómetro\n"
   ]
  },
  {
   "cell_type": "code",
   "execution_count": 6,
   "id": "b6eb8591",
   "metadata": {},
   "outputs": [],
   "source": [
    "import math\n",
    "def calcular_precipitacion(diametro_cm, altura_precipitacion_mm):\n",
    "    '''diametro_cm: el diametro del recipiente o pluviometro\n",
    "    altura_cm: la altura alcanzada por el agua en milímetros\n",
    "    '''\n",
    "    radio_pluviometro_cm = diametro_cm/2  # Radio de la base del pluviómetro en cm\n",
    "    # Convertir radio a metros\n",
    "    radio_pluviometro_m = radio_pluviometro_cm / 100\n",
    "\n",
    "    # Área de la base del pluviómetro en m²\n",
    "    area_base_pluviometro_m2 = math.pi * radio_pluviometro_m**2\n",
    "    # Convertir altura de mm a metros\n",
    "    altura_precipitacion_m = altura_precipitacion_mm / 1000\n",
    "    # Volumen de agua en m³ (equivale a Litros, ya que 1 m³ = 1000 Litros)\n",
    "    volumen_agua_m3 = area_base_pluviometro_m2 * altura_precipitacion_m\n",
    "    volumen_agua_L = volumen_agua_m3 * 1000  # Convertimos a litros\n",
    "    # Precipitación en litros por metro cuadrado\n",
    "    precipitacion_L_por_m2 = volumen_agua_L/area_base_pluviometro_m2  # Equivale directamente a la altura en mm\n",
    "    return precipitacion_L_por_m2\n"
   ]
  },
  {
   "cell_type": "code",
   "execution_count": 7,
   "id": "356fcba5",
   "metadata": {},
   "outputs": [
    {
     "data": {
      "text/plain": [
       "3.0"
      ]
     },
     "execution_count": 7,
     "metadata": {},
     "output_type": "execute_result"
    }
   ],
   "source": [
    "calcular_precipitacion(10, 3)"
   ]
  },
  {
   "cell_type": "markdown",
   "id": "7953355a",
   "metadata": {},
   "source": [
    "## Interpretación y conclusiones del usu de la función para calcular precipitación  \n",
    "\n",
    "* la altura en milímetros alcanzada por el agua en el pluviómetro es numéricamente igual a la cantidad de litros por metro cuadrado que  cae en un día en la zona de estudio. "
   ]
  },
  {
   "cell_type": "markdown",
   "id": "0e5299e6",
   "metadata": {},
   "source": [
    "[Fundamentos matemáticos de la pluviometría](https://www.youtube.com/watch?v=as5c_UhcWSU)"
   ]
  },
  {
   "cell_type": "markdown",
   "id": "4d4a003e",
   "metadata": {},
   "source": [
    "\n",
    "#### Explicación del código:\n",
    "1. Definimos el **radio** de la base del pluviómetro y la **altura** de la precipitación recolectada.\n",
    "2. Calculamos el **área de la base** del pluviómetro en metros cuadrados utilizando la fórmula $ A_{\\text{base}} = \\pi r^{2} $.\n",
    "3. Convertimos la altura de la precipitación de milímetros a metros y calculamos el **volumen de agua** recolectada en litros.\n",
    "4. Dado que 1 mm de precipitación corresponde a 1 litro por metro cuadrado, la precipitación en $L/m^{2}$ es igual a la altura recolectada en el pluviómetro.\n",
    "\n",
    "---\n"
   ]
  },
  {
   "cell_type": "markdown",
   "id": "76ab35bf",
   "metadata": {},
   "source": [
    "\n",
    "### 3. **Conclusión**\n",
    "\n",
    "A través de este modelo matemático y su implementación en Python, hemos demostrado cómo la altura de precipitación recolectada en un pluviómetro casero se puede traducir en litros por metro cuadrado. Este tipo de mediciones es útil en la ingeniería agropecuaria para monitorear la disponibilidad de agua en una zona y tomar decisiones sobre riego y manejo de cultivos.\n",
    "\n",
    "Además, utilizando herramientas como LaTeX y Python en cuadernos Jupyter, podemos visualizar y realizar cálculos de manera eficiente, facilitando el análisis de datos experimentales."
   ]
  },
  {
   "cell_type": "markdown",
   "id": "c9b6602d",
   "metadata": {},
   "source": [
    "# Práctica de obtención y visualización de datos de precipitación en Caucasia y municipios cercanos  \n",
    "\n",
    "Para obtener datos de pluviometría de las estaciones asociadas a Fedearroz que estén cerca de Caucasia, Antioquia, te sugiero seguir estos pasos:\n",
    "\n",
    "### 1. **Identificar las estaciones meteorológicas de Fedearroz**\n",
    "   - **Fedearroz** (Federación Nacional de Arroceros de Colombia) tiene varias estaciones meteorológicas en las principales zonas arroceras del país. Para determinar si hay alguna cercana a Caucasia, puedes:\n",
    "     - **Contactar directamente a Fedearroz**: Consulta su página web oficial o contacta al equipo de Fedearroz por correo o teléfono para solicitar datos de estaciones meteorológicas en Antioquia, y específicamente en la zona de Caucasia.\n",
    "     - **Consulta pública en plataformas de Fedearroz**: Fedearroz podría tener una plataforma o informes anuales que incluyan información sobre las estaciones meteorológicas que manejan. A menudo, los datos se publican de manera regionalizada.\n",
    "\n",
    "[Conozca el clima histórico de la región](https://clima.fedearroz.com.co/historico-region/)\n"
   ]
  },
  {
   "cell_type": "markdown",
   "id": "60c2509c",
   "metadata": {},
   "source": [
    "\n",
    "\n",
    "### 2. **Solicitar acceso a los datos**\n",
    "   - Si Fedearroz no publica los datos en línea, es posible que debas enviar una solicitud formal para obtener acceso a los datos de pluviometría. Puedes explicar el propósito de tu investigación, indicando que deseas obtener datos históricos y actuales de pluviometría para estaciones meteorológicas cercanas a Caucasia.\n",
    "\n",
    "   Un ejemplo de correo formal podría ser:\n"
   ]
  },
  {
   "cell_type": "markdown",
   "id": "00c200e9",
   "metadata": {},
   "source": [
    "   ```text\n",
    "   Estimados señores de Fedearroz,\n",
    "\n",
    "   Mi nombre es Marco Julio y soy docente e investigador en la Universidad de Antioquia, Campus Caucasia. Actualmente estamos desarrollando un proyecto de investigación en el que analizamos las relaciones entre variables meteorológicas y las tasas de enfermedades virales transmitidas por vectores en la región del Bajo Cauca.\n",
    "\n",
    "   En este sentido, me gustaría solicitar acceso a los datos históricos y actuales de pluviometría de las estaciones meteorológicas de Fedearroz más cercanas a Caucasia, Antioquia. Estos datos serán fundamentales para correlacionar las condiciones climáticas con los indicadores de salud pública en nuestra investigación.\n",
    "\n",
    "   Agradezco de antemano su atención y quedo atento a cualquier trámite adicional o información que requieran.\n",
    "\n",
    "   Cordialmente,  \n",
    "   Marco Julio  \n",
    "   Profesor de Matemáticas  \n",
    "   Universidad de Antioquia – Campus Caucasia\n",
    "   ```\n"
   ]
  },
  {
   "cell_type": "markdown",
   "id": "550ff80c",
   "metadata": {},
   "source": [
    "\n",
    "### 3. **Otras fuentes complementarias**\n",
    "   - **IDEAM (Instituto de Hidrología, Meteorología y Estudios Ambientales)**: Puedes consultar la página de IDEAM, ya que ellos suelen ofrecer datos meteorológicos y climáticos, incluyendo pluviometría, para diversas estaciones en todo el país, y es posible que encuentres información cercana a Caucasia. Si Fedearroz no tiene estaciones cercanas, [IDEAM](https://ideam.gov.co/) podría cubrir la zona.\n",
    "   \n",
    "   - **Antioquia Mira Su Cielo**: Otro recurso que puedes usar es el proyecto \"Antioquia Mira Su Cielo\", que ha recopilado información meteorológica en varias subregiones de Antioquia. Esto podría complementar los datos que obtengas de Fedearroz.\n"
   ]
  },
  {
   "cell_type": "markdown",
   "id": "cf1a0f33",
   "metadata": {},
   "source": [
    "\n",
    "### 4. **Plataformas de datos abiertos**\n",
    "   - Si las anteriores fuentes no ofrecen lo que necesitas, considera explorar bases de datos abiertos o repositorios de investigaciones meteorológicas y agropecuarias en Colombia. Estas pueden incluir datos históricos de varias fuentes colaborativas.\n",
    "\n",
    "Siguiendo estos pasos, estarás bien encaminado para recopilar los datos de pluviometría necesarios para tu proyecto de investigación."
   ]
  },
  {
   "cell_type": "markdown",
   "id": "ee5e7308",
   "metadata": {},
   "source": [
    "# Práctica de obtención y visualización de datos de precipitación"
   ]
  },
  {
   "cell_type": "code",
   "execution_count": 2,
   "id": "d532d6de",
   "metadata": {},
   "outputs": [
    {
     "data": {
      "text/html": [
       "<div>\n",
       "<style scoped>\n",
       "    .dataframe tbody tr th:only-of-type {\n",
       "        vertical-align: middle;\n",
       "    }\n",
       "\n",
       "    .dataframe tbody tr th {\n",
       "        vertical-align: top;\n",
       "    }\n",
       "\n",
       "    .dataframe thead th {\n",
       "        text-align: right;\n",
       "    }\n",
       "</style>\n",
       "<table border=\"1\" class=\"dataframe\">\n",
       "  <thead>\n",
       "    <tr style=\"text-align: right;\">\n",
       "      <th></th>\n",
       "      <th>CodigoEstacion</th>\n",
       "      <th>NombreEstacion</th>\n",
       "      <th>Latitud</th>\n",
       "      <th>Longitud</th>\n",
       "      <th>Altitud</th>\n",
       "      <th>Categoria</th>\n",
       "      <th>Entidad</th>\n",
       "      <th>AreaOperativa</th>\n",
       "      <th>Departamento</th>\n",
       "      <th>Municipio</th>\n",
       "      <th>...</th>\n",
       "      <th>FechaSuspension</th>\n",
       "      <th>IdParametro</th>\n",
       "      <th>Etiqueta</th>\n",
       "      <th>DescripcionSerie</th>\n",
       "      <th>Frecuencia</th>\n",
       "      <th>Fecha</th>\n",
       "      <th>Valor</th>\n",
       "      <th>Grado</th>\n",
       "      <th>Calificador</th>\n",
       "      <th>NivelAprobacion</th>\n",
       "    </tr>\n",
       "  </thead>\n",
       "  <tbody>\n",
       "    <tr>\n",
       "      <th>0</th>\n",
       "      <td>26247020</td>\n",
       "      <td>LA COQUERA [26247020]</td>\n",
       "      <td>7.96</td>\n",
       "      <td>-75.2</td>\n",
       "      <td>49</td>\n",
       "      <td>Limnigráfica</td>\n",
       "      <td>INSTITUTO DE HIDROLOGIA METEOROLOGIA Y ESTUDIO...</td>\n",
       "      <td>Area Operativa 01 - Antioquia-Chocó</td>\n",
       "      <td>Antioquia</td>\n",
       "      <td>Caucasia</td>\n",
       "      <td>...</td>\n",
       "      <td>NaN</td>\n",
       "      <td>PRECIPITACION</td>\n",
       "      <td>PT_10_TT_D</td>\n",
       "      <td>Precipitación total diaria (automática)</td>\n",
       "      <td>Diaria</td>\n",
       "      <td>2021-01-01 00:00</td>\n",
       "      <td>0.0</td>\n",
       "      <td>50</td>\n",
       "      <td>NaN</td>\n",
       "      <td>900</td>\n",
       "    </tr>\n",
       "    <tr>\n",
       "      <th>1</th>\n",
       "      <td>26247020</td>\n",
       "      <td>LA COQUERA [26247020]</td>\n",
       "      <td>7.96</td>\n",
       "      <td>-75.2</td>\n",
       "      <td>49</td>\n",
       "      <td>Limnigráfica</td>\n",
       "      <td>INSTITUTO DE HIDROLOGIA METEOROLOGIA Y ESTUDIO...</td>\n",
       "      <td>Area Operativa 01 - Antioquia-Chocó</td>\n",
       "      <td>Antioquia</td>\n",
       "      <td>Caucasia</td>\n",
       "      <td>...</td>\n",
       "      <td>NaN</td>\n",
       "      <td>PRECIPITACION</td>\n",
       "      <td>PT_10_TT_D</td>\n",
       "      <td>Precipitación total diaria (automática)</td>\n",
       "      <td>Diaria</td>\n",
       "      <td>2021-01-02 00:00</td>\n",
       "      <td>0.0</td>\n",
       "      <td>50</td>\n",
       "      <td>NaN</td>\n",
       "      <td>900</td>\n",
       "    </tr>\n",
       "    <tr>\n",
       "      <th>2</th>\n",
       "      <td>26247020</td>\n",
       "      <td>LA COQUERA [26247020]</td>\n",
       "      <td>7.96</td>\n",
       "      <td>-75.2</td>\n",
       "      <td>49</td>\n",
       "      <td>Limnigráfica</td>\n",
       "      <td>INSTITUTO DE HIDROLOGIA METEOROLOGIA Y ESTUDIO...</td>\n",
       "      <td>Area Operativa 01 - Antioquia-Chocó</td>\n",
       "      <td>Antioquia</td>\n",
       "      <td>Caucasia</td>\n",
       "      <td>...</td>\n",
       "      <td>NaN</td>\n",
       "      <td>PRECIPITACION</td>\n",
       "      <td>PT_10_TT_D</td>\n",
       "      <td>Precipitación total diaria (automática)</td>\n",
       "      <td>Diaria</td>\n",
       "      <td>2021-01-03 00:00</td>\n",
       "      <td>0.0</td>\n",
       "      <td>50</td>\n",
       "      <td>NaN</td>\n",
       "      <td>900</td>\n",
       "    </tr>\n",
       "    <tr>\n",
       "      <th>3</th>\n",
       "      <td>26247020</td>\n",
       "      <td>LA COQUERA [26247020]</td>\n",
       "      <td>7.96</td>\n",
       "      <td>-75.2</td>\n",
       "      <td>49</td>\n",
       "      <td>Limnigráfica</td>\n",
       "      <td>INSTITUTO DE HIDROLOGIA METEOROLOGIA Y ESTUDIO...</td>\n",
       "      <td>Area Operativa 01 - Antioquia-Chocó</td>\n",
       "      <td>Antioquia</td>\n",
       "      <td>Caucasia</td>\n",
       "      <td>...</td>\n",
       "      <td>NaN</td>\n",
       "      <td>PRECIPITACION</td>\n",
       "      <td>PT_10_TT_D</td>\n",
       "      <td>Precipitación total diaria (automática)</td>\n",
       "      <td>Diaria</td>\n",
       "      <td>2021-01-04 00:00</td>\n",
       "      <td>0.0</td>\n",
       "      <td>50</td>\n",
       "      <td>NaN</td>\n",
       "      <td>900</td>\n",
       "    </tr>\n",
       "    <tr>\n",
       "      <th>4</th>\n",
       "      <td>26247020</td>\n",
       "      <td>LA COQUERA [26247020]</td>\n",
       "      <td>7.96</td>\n",
       "      <td>-75.2</td>\n",
       "      <td>49</td>\n",
       "      <td>Limnigráfica</td>\n",
       "      <td>INSTITUTO DE HIDROLOGIA METEOROLOGIA Y ESTUDIO...</td>\n",
       "      <td>Area Operativa 01 - Antioquia-Chocó</td>\n",
       "      <td>Antioquia</td>\n",
       "      <td>Caucasia</td>\n",
       "      <td>...</td>\n",
       "      <td>NaN</td>\n",
       "      <td>PRECIPITACION</td>\n",
       "      <td>PT_10_TT_D</td>\n",
       "      <td>Precipitación total diaria (automática)</td>\n",
       "      <td>Diaria</td>\n",
       "      <td>2021-01-05 00:00</td>\n",
       "      <td>0.0</td>\n",
       "      <td>50</td>\n",
       "      <td>NaN</td>\n",
       "      <td>900</td>\n",
       "    </tr>\n",
       "  </tbody>\n",
       "</table>\n",
       "<p>5 rows × 21 columns</p>\n",
       "</div>"
      ],
      "text/plain": [
       "   CodigoEstacion         NombreEstacion  Latitud  Longitud  Altitud  \\\n",
       "0        26247020  LA COQUERA [26247020]     7.96     -75.2       49   \n",
       "1        26247020  LA COQUERA [26247020]     7.96     -75.2       49   \n",
       "2        26247020  LA COQUERA [26247020]     7.96     -75.2       49   \n",
       "3        26247020  LA COQUERA [26247020]     7.96     -75.2       49   \n",
       "4        26247020  LA COQUERA [26247020]     7.96     -75.2       49   \n",
       "\n",
       "      Categoria                                            Entidad  \\\n",
       "0  Limnigráfica  INSTITUTO DE HIDROLOGIA METEOROLOGIA Y ESTUDIO...   \n",
       "1  Limnigráfica  INSTITUTO DE HIDROLOGIA METEOROLOGIA Y ESTUDIO...   \n",
       "2  Limnigráfica  INSTITUTO DE HIDROLOGIA METEOROLOGIA Y ESTUDIO...   \n",
       "3  Limnigráfica  INSTITUTO DE HIDROLOGIA METEOROLOGIA Y ESTUDIO...   \n",
       "4  Limnigráfica  INSTITUTO DE HIDROLOGIA METEOROLOGIA Y ESTUDIO...   \n",
       "\n",
       "                         AreaOperativa Departamento Municipio  ...  \\\n",
       "0  Area Operativa 01 - Antioquia-Chocó    Antioquia  Caucasia  ...   \n",
       "1  Area Operativa 01 - Antioquia-Chocó    Antioquia  Caucasia  ...   \n",
       "2  Area Operativa 01 - Antioquia-Chocó    Antioquia  Caucasia  ...   \n",
       "3  Area Operativa 01 - Antioquia-Chocó    Antioquia  Caucasia  ...   \n",
       "4  Area Operativa 01 - Antioquia-Chocó    Antioquia  Caucasia  ...   \n",
       "\n",
       "  FechaSuspension    IdParametro    Etiqueta  \\\n",
       "0             NaN  PRECIPITACION  PT_10_TT_D   \n",
       "1             NaN  PRECIPITACION  PT_10_TT_D   \n",
       "2             NaN  PRECIPITACION  PT_10_TT_D   \n",
       "3             NaN  PRECIPITACION  PT_10_TT_D   \n",
       "4             NaN  PRECIPITACION  PT_10_TT_D   \n",
       "\n",
       "                          DescripcionSerie Frecuencia             Fecha Valor  \\\n",
       "0  Precipitación total diaria (automática)     Diaria  2021-01-01 00:00   0.0   \n",
       "1  Precipitación total diaria (automática)     Diaria  2021-01-02 00:00   0.0   \n",
       "2  Precipitación total diaria (automática)     Diaria  2021-01-03 00:00   0.0   \n",
       "3  Precipitación total diaria (automática)     Diaria  2021-01-04 00:00   0.0   \n",
       "4  Precipitación total diaria (automática)     Diaria  2021-01-05 00:00   0.0   \n",
       "\n",
       "   Grado  Calificador  NivelAprobacion  \n",
       "0     50          NaN              900  \n",
       "1     50          NaN              900  \n",
       "2     50          NaN              900  \n",
       "3     50          NaN              900  \n",
       "4     50          NaN              900  \n",
       "\n",
       "[5 rows x 21 columns]"
      ]
     },
     "execution_count": 2,
     "metadata": {},
     "output_type": "execute_result"
    }
   ],
   "source": [
    "import pandas as pd      \n",
    "url = 'https://raw.githubusercontent.com/marco-canas/calculo/refs/heads/main/classes/1_medicion/2_volumenes/4_pluviometria/precipitacion_2022_caucasia.csv.csv'\n",
    "df = pd.read_csv(url)\n",
    "\n",
    "df.head() "
   ]
  },
  {
   "cell_type": "markdown",
   "id": "b9e585e7",
   "metadata": {},
   "source": [
    "[Datos de precipitación en caucasia de 2022 del IDEAM](https://www.youtube.com/watch?v=0ZqUnbw5_9A)"
   ]
  },
  {
   "cell_type": "markdown",
   "id": "b3a3c053",
   "metadata": {},
   "source": [
    "# Importancia del análisis de datos de pluviometría  \n"
   ]
  },
  {
   "cell_type": "markdown",
   "id": "f4bcfe7a",
   "metadata": {},
   "source": [
    "Los datos de precipitación son cruciales para un ingeniero agropecuario porque permiten tomar decisiones informadas sobre el manejo del agua y las prácticas agrícolas. Estos son algunos beneficios específicos:\n"
   ]
  },
  {
   "cell_type": "markdown",
   "id": "ebe546a3",
   "metadata": {},
   "source": [
    "\n",
    "1. **Planificación de Cultivos y Siembra**:\n",
    "   - Conocer el patrón de lluvias ayuda a determinar las épocas más adecuadas para sembrar, evitando pérdidas por lluvias excesivas o sequías.\n",
    "   - La precipitación influye en el calendario agrícola, ayudando a coordinar mejor los tiempos de siembra y cosecha.\n"
   ]
  },
  {
   "cell_type": "markdown",
   "id": "007034a5",
   "metadata": {},
   "source": [
    "\n",
    "2. **Gestión del Agua y Riego**:\n",
    "   - Los datos de precipitación permiten calcular el balance hídrico del suelo, ayudando a optimizar el riego en función de las lluvias.\n",
    "   - Evitar riego innecesario durante las épocas de lluvia contribuye a la sostenibilidad y a la reducción de costos.\n"
   ]
  },
  {
   "cell_type": "markdown",
   "id": "07b5cc53",
   "metadata": {},
   "source": [
    "\n",
    "3. **Control de Plagas y Enfermedades**:\n",
    "   - La humedad derivada de la lluvia puede favorecer la aparición de enfermedades fúngicas y plagas. El monitoreo de la precipitación permite implementar estrategias preventivas para proteger los cultivos.\n"
   ]
  },
  {
   "cell_type": "markdown",
   "id": "ddce0090",
   "metadata": {},
   "source": [
    "\n",
    "4. **Selección de Cultivos Adaptados al Clima**:\n",
    "   - En función de los niveles de precipitación promedio, el ingeniero agropecuario puede seleccionar cultivos que se adapten mejor al clima de la región, mejorando la producción y reduciendo los riesgos.\n"
   ]
  },
  {
   "cell_type": "markdown",
   "id": "8df46c8a",
   "metadata": {},
   "source": [
    "\n",
    "5. **Prevención de Inundaciones y Manejo del Suelo**:\n",
    "   - Conocer los patrones de precipitación ayuda a prevenir inundaciones y erosión del suelo, y permite planificar sistemas de drenaje y otras infraestructuras para proteger la tierra agrícola.\n"
   ]
  },
  {
   "cell_type": "markdown",
   "id": "df26d5e8",
   "metadata": {},
   "source": [
    "\n",
    "6. **Adaptación al Cambio Climático**:\n",
    "   - Analizar datos históricos de precipitación permite entender cómo está cambiando el clima en la región y cómo podría impactar en la productividad agrícola a largo plazo. Esto facilita la adopción de prácticas agrícolas más resilientes.\n"
   ]
  },
  {
   "cell_type": "markdown",
   "id": "5f11278e",
   "metadata": {},
   "source": [
    "\n",
    "7. **Proyección de Rendimiento de Cosechas**:\n",
    "   - Con datos de precipitación, el ingeniero puede prever cómo será la temporada agrícola y hacer ajustes en el manejo de los cultivos, mejorando la eficiencia y reduciendo pérdidas. \n"
   ]
  },
  {
   "cell_type": "markdown",
   "id": "ef324634",
   "metadata": {},
   "source": [
    "\n",
    "En resumen, los datos de precipitación son esenciales para la gestión hídrica y de recursos, la planeación de cultivos y la implementación de prácticas sostenibles, contribuyendo a la productividad y sostenibilidad de la agricultura."
   ]
  },
  {
   "cell_type": "code",
   "execution_count": null,
   "id": "fc6a85be",
   "metadata": {},
   "outputs": [],
   "source": []
  },
  {
   "cell_type": "markdown",
   "id": "a3e5e6ab",
   "metadata": {},
   "source": [
    "# 10 ejercicios de entrenamiento o adquisición de habilidades obtenido a través de ChatGPT para una formación personalizada y centrada en la habilidad que se quiere lograr con la enseñanza del ejemplo anterior"
   ]
  },
  {
   "cell_type": "code",
   "execution_count": null,
   "id": "cc539357",
   "metadata": {},
   "outputs": [],
   "source": []
  },
  {
   "cell_type": "markdown",
   "id": "10bce0d0",
   "metadata": {
    "slideshow": {
     "slide_type": "slide"
    }
   },
   "source": [
    "## Referentes "
   ]
  },
  {
   "cell_type": "markdown",
   "id": "1db3c468",
   "metadata": {
    "slideshow": {
     "slide_type": "slide"
    }
   },
   "source": [
    "* [Purcell, E. J., Varberg, D., & Rigdon, S. E. (2007). Cálculo diferencial e integral. Pearson Educación.](chrome-extension://efaidnbmnnnibpcajpcglclefindmkaj/https://www.cimat.mx/ciencia_para_jovenes/bachillerato/libros/[Purcell,Varberg,Rigdon]Calculo/[Purcell,Varberg,Rigdon]Calculo.pdf)\n",
    "\n",
    "* [Chollet, F. (2021). Deep learning with Python. Simon and Schuster.](https://github.com/marco-canas/didactica_ciencia_datos/blob/main/2_referentes/chollet/Fran%C3%A7ois%20Chollet%20-%20Deep%20Learning%20with%20Python-Manning%20(2018).pdf)  \n",
    "  \n",
    "* [stewart precálculo](https://udeaeduco-my.sharepoint.com/:b:/g/personal/marco_canas_udea_edu_co/ERHIq62I6qFNrmxy6LZb8ZMBci7kUsyNME1nIh9yCBMJ_w?e=0zMSla)  \n",
    "\n",
    "* [stewart cálculo](https://udeaeduco-my.sharepoint.com/:b:/g/personal/marco_canas_udea_edu_co/EZgXZjAp8QxPqOAim2hs6LcBNPLGjSHf-xwYnUVYkwa04w?e=RZdTCy)  \n",
    "\n",
    "\n",
    "* [Recomendación de la UNESCO sobre ciencia abierta](https://unesdoc.unesco.org/ark:/48223/pf0000379949_spa)\n",
    "\n",
    "* [chatGPT](https://openai.com/blog/chatgpt)  \n",
    "\n",
    "* [Géron, A. (2017). Hands-on machine learning with scikit-learn and tensorflow: Concepts. Tools, and Techniques to build intelligent systems.](https://github.com/marco-canas/didactica_ciencia_datos/blob/main/2_referentes/geron/Hands-On%20Machine%20Learning-3nd_Edition(2022).pdf)  \n",
    "\n",
    "* [McKinney, W. (2012). Python for data analysis: Data wrangling with Pandas, NumPy, and IPython. \" O'Reilly Media, Inc.\".](https://github.com/marco-canas/didactica_ciencia_datos/blob/main/2_referentes/mckinney/Wes_McKinney.pdf)  \n",
    "\n"
   ]
  },
  {
   "cell_type": "markdown",
   "id": "6b9e56a8",
   "metadata": {
    "slideshow": {
     "slide_type": "slide"
    }
   },
   "source": [
    "### [Evaluamos al profesor Marco Cañas Aquí](https://forms.office.com/Pages/ResponsePage.aspx?id=IefhmYRxjkmK_7KtTlPBwkanXIs1i1FEujpsZgO6dXpUREJPV1kxUk1JV1ozTFJIQVNIQjY5WEY3US4u)"
   ]
  },
  {
   "cell_type": "markdown",
   "id": "10f43536",
   "metadata": {
    "slideshow": {
     "slide_type": "slide"
    }
   },
   "source": [
    "### Continue su aprendizaje en la siguiente clase a través del siguiente [vínculo]()"
   ]
  },
  {
   "cell_type": "markdown",
   "id": "53cc9115",
   "metadata": {
    "slideshow": {
     "slide_type": "slide"
    }
   },
   "source": [
    "## Agradecimientos  \n",
    "\n",
    "Doy gracias a Dios por la vida de mi Hijo Joseph Cañas Osorio y la madurez que ha alcanzado.\n",
    "\n",
    "Y a mi esposa Yasmira por su apoyo, orientación y acompañamiento. "
   ]
  }
 ],
 "metadata": {
  "celltoolbar": "Slideshow",
  "kernelspec": {
   "display_name": "Python 3",
   "language": "python",
   "name": "python3"
  },
  "language_info": {
   "codemirror_mode": {
    "name": "ipython",
    "version": 3
   },
   "file_extension": ".py",
   "mimetype": "text/x-python",
   "name": "python",
   "nbconvert_exporter": "python",
   "pygments_lexer": "ipython3",
   "version": "3.12.7"
  },
  "rise": {
   "enable_chalkboard": true,
   "theme": "sky",
   "transition": "zoom"
  }
 },
 "nbformat": 4,
 "nbformat_minor": 5
}
