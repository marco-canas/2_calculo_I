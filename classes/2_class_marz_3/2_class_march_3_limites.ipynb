{
 "cells": [
  {
   "cell_type": "markdown",
   "id": "1568f004",
   "metadata": {
    "slideshow": {
     "slide_type": "slide"
    }
   },
   "source": [
    "<table align=\"left\">\n",
    "  <td>\n",
    "    <a href=\"https://colab.research.google.com/github/marco-canas/2_calculo_I/blob/main/classes/2_class_marz_3/2_class_march_3_limites.ipynb\" target=\"_parent\"><img src=\"https://colab.research.google.com/assets/colab-badge.svg\" alt=\"Open In Colab\"/></a>\n",
    "  </td>\n",
    "</table>"
   ]
  },
  {
   "cell_type": "markdown",
   "id": "9225b8ef",
   "metadata": {
    "slideshow": {
     "slide_type": "slide"
    }
   },
   "source": [
    "## [Video de apoyo a la lectura interactiva y experimental de este cuaderno](https://www.youtube.com/watch?v=fBcMaOC5ezA)"
   ]
  },
  {
   "cell_type": "markdown",
   "id": "a98dfadb",
   "metadata": {
    "slideshow": {
     "slide_type": "slide"
    }
   },
   "source": [
    "Nuestra labor docente es una labor de servicio al desarrollo profesional de estos estudiantes: \n",
    "<img src = 'https://github.com/marco-canas/2_calculo_I/blob/main/classes/2_class_marz_3/ingenieros_2023_1.jpeg?raw=true'>"
   ]
  },
  {
   "cell_type": "markdown",
   "id": "1660635d",
   "metadata": {
    "slideshow": {
     "slide_type": "slide"
    }
   },
   "source": [
    "# Clase 2 de Marzo de 2023\n",
    "\n",
    "## Funciones y límite de funciones\n",
    "\n",
    "* Libro guía [Larson](https://udeaeduco-my.sharepoint.com/:b:/r/personal/marco_canas_udea_edu_co/Documents/plan_trabajo/ref/larson.pdf?csf=1&web=1&e=GK5KDX) Página 77 o   \n",
    "\n",
    "* [Stewart](https://udeaeduco-my.sharepoint.com/:b:/g/personal/marco_canas_udea_edu_co/EZgXZjAp8QxPqOAim2hs6LcBNPLGjSHf-xwYnUVYkwa04w?e=dQpV5c) Cálculo de una variable. Trascendentes tempranas"
   ]
  },
  {
   "cell_type": "markdown",
   "id": "9e28450c",
   "metadata": {
    "slideshow": {
     "slide_type": "slide"
    }
   },
   "source": [
    "## Horario propuesto de la clase de Cálculo para Ingeniería Agropecuaria\n",
    "\n",
    "Viernes de 7 AM a 12 M. "
   ]
  },
  {
   "cell_type": "markdown",
   "id": "fb139e40",
   "metadata": {
    "slideshow": {
     "slide_type": "slide"
    }
   },
   "source": [
    "Modelo pedagógico seguido en las clase: [Aula invertida](https://udeaeduco-my.sharepoint.com/:b:/g/personal/marco_canas_udea_edu_co/EelvUuuDvaVAmJUCFE-XNicB_MPrWZfrqbpx7USTUovKUQ?e=QG0U29)  \n",
    "\n",
    "## El modelo flipped classroom de Cristian Aguilera Ruiz\n",
    "\n",
    "### RESUMEN\n",
    "El modelo de clase tradicional, donde el alumnado permanece con una actitud pasiva, y senta\u0002do en sus pupitres escuchando la lección, está siendo sustituido por nuevas metodologías de ense\u0002ñanza-aprendizaje, por un amplio sector de profesionales. Cada vez son más aquellas personas que\n",
    "ponen en duda su eficacia y opinan que se precisan metodologías innovadoras, que resulten más\n",
    "motivadoras al alumnado, donde participe activamente en la construcción del conocimiento y cons\u0002tituya un modelo que atienda a las necesidades particulares de cada individuo.\n",
    "En esta investigación nos centraremos en un nuevo e innovador modelo: El modelo Flipped\n",
    "Classroom, o “aula invertida”. Dicho modelo es cada vez más usado por aquellos docentes que atri\u0002buyen al modelo tradicional de enseñanza muchos déficits y que han dado el salto a una total “inver\u0002sión” o cambio de esencia a sus clases.  "
   ]
  },
  {
   "cell_type": "markdown",
   "id": "eef019e4",
   "metadata": {
    "slideshow": {
     "slide_type": "slide"
    }
   },
   "source": [
    "### INTRODUCCIÓN"
   ]
  },
  {
   "cell_type": "markdown",
   "id": "74c1185c",
   "metadata": {
    "slideshow": {
     "slide_type": "slide"
    }
   },
   "source": [
    "Una de las principales aportaciones de las Tecnología de la Información y la Comunicación (TIC)\n",
    "a la educación, especialmente en los últimos años con la puesta en escena de aplicaciones y herramientas de la llamada Web 2.0, han sido las distintas posibilidades que aparecen en el ámbito del\n",
    "aprendizaje formal e informal en entornos abiertos y flexibles (Tucker, 2012). "
   ]
  },
  {
   "cell_type": "markdown",
   "id": "70aae34c",
   "metadata": {
    "slideshow": {
     "slide_type": "slide"
    }
   },
   "source": [
    "El modelo tradicional, el que bien conoce nuestra sociedad, podría resumirse en la visión de que los alumnos asisten a las lecciones que los profesores imparten y, en casa, realizan los deberes que les hayan sido asignados en clase (Bergmann y Sams, 2012)."
   ]
  },
  {
   "cell_type": "markdown",
   "id": "65422518",
   "metadata": {
    "slideshow": {
     "slide_type": "slide"
    }
   },
   "source": [
    "“El aula invertida o flipped classroom es un método de enseñanza cuyo principal objetivo es que\n",
    "el alumno/a asuma un rol mucho más activo en su proceso de aprendizaje que el que venía ocupando tradicionalmente” (Berenguer, 2016: 1466). En definitiva, supone una inversión con el método anterior (Wasserman, Quint, Norris y Carr 2017), donde los alumnos y alumnas estudiarán por\n",
    "sí mismos los conceptos teóricos que el docente les facilite y el tiempo de clase será aprovechado\n",
    "para resolver dudas, realizar prácticas e iniciar debates relevantes con el contenido. "
   ]
  },
  {
   "cell_type": "markdown",
   "id": "51d7af50",
   "metadata": {
    "slideshow": {
     "slide_type": "slide"
    }
   },
   "source": [
    "Una reflexión relevante sería la de la autora Esteve (2016), que cita:  \n",
    "\n",
    "*“En cualquier oficio, si uno va trabajando y analizando lo que hace bien, lo que hace mal y va\n",
    "limpiando, irá mejorando. Si sólo trabaja y no hace balance de lo que ha hecho, seguirá siempre\n",
    "igual por muchos años que pasen. Pero esto no es distinto de otras profesiones” (p.77).\n",
    "Además, Flipped Classroom puede ser aplicado en todas las aéras curriculares; educación primaria, educación secundaria, educación superior e, incluso, educación para adultos (Blasco,\n",
    "Lorenzo y Sarsa 2016).*  \n",
    "\n",
    "A continuación, veremos algunos de las ventajas y desventajas de la aplicación de esta innovadora metodología."
   ]
  },
  {
   "cell_type": "markdown",
   "id": "d9c42707",
   "metadata": {
    "slideshow": {
     "slide_type": "slide"
    }
   },
   "source": [
    "## Objetivos de aprendizaje  \n",
    "\n",
    "* Definir el concepto de límite de una función en un punto $x = c$. \n",
    "* graficar el límite de una función\n",
    "* determinar puntualmente el límite de una función en un punto. \n",
    "* representar el límite de manera tabular.\n",
    "* saberlo deberminar de manera analítica. \n",
    "* definir que es una recta tangente que es la recta cuya pendiente describe la pendiente de la curva asociada. \n",
    "\n",
    "* definir la pendiente de una curva en un punto. \n",
    "\n",
    "* determinar analíticamente la tendencia de una función en un punto. \n",
    "\n",
    "* Evaluar un límite mediante el uso de las propiedades de los límites.\n",
    "\n",
    "* Desarrollar y usar una estrategia para el cálculo de límites."
   ]
  },
  {
   "cell_type": "markdown",
   "id": "7e7945d1",
   "metadata": {
    "slideshow": {
     "slide_type": "slide"
    }
   },
   "source": [
    "## Cálculo analítico de límites"
   ]
  },
  {
   "cell_type": "markdown",
   "id": "eb37b8b5",
   "metadata": {
    "slideshow": {
     "slide_type": "slide"
    }
   },
   "source": [
    "### Propiedades de los límites  "
   ]
  },
  {
   "cell_type": "markdown",
   "id": "c6b554f8",
   "metadata": {
    "slideshow": {
     "slide_type": "slide"
    }
   },
   "source": [
    "En la sección 1.2 se vio que el límite de $f(x)$ cuando $x$ se aproxima a $c$ no depende del valor de $f$ en $x=c$. Sin embargo, puede darse el caso de que este límite sea $f(c)$. "
   ]
  },
  {
   "cell_type": "markdown",
   "id": "99badf7d",
   "metadata": {
    "slideshow": {
     "slide_type": "slide"
    }
   },
   "source": [
    "En esta situación, se puede evaluar el límite por sustitución directa. Esto es:\n",
    "\n",
    "$$ \\lim_{x \\to c} f(x) = f(c) \\ \\ \\ \\ \\text{sustituir } x \\text{ por } c $$\n",
    "\n",
    "\n",
    "Las  funciones  con  este  buen  comportamiento  son **continuas**  en  $c$.  En  la  sección  1.4  se  examinará con más detalle este concepto. "
   ]
  },
  {
   "cell_type": "markdown",
   "id": "3f2bda88",
   "metadata": {
    "slideshow": {
     "slide_type": "slide"
    }
   },
   "source": [
    "## Teorema. Algunos límites básicos"
   ]
  },
  {
   "cell_type": "markdown",
   "id": "df10c68c",
   "metadata": {
    "slideshow": {
     "slide_type": "slide"
    }
   },
   "source": [
    "Si $b$ y $c$ son números reales y $n$ un entero positivo:\n",
    "\n",
    "$$ \\lim_{x \\to c} b = b $$\n",
    "\n",
    "es decir, el límite de una función constante es la constante que define a la función. "
   ]
  },
  {
   "cell_type": "markdown",
   "id": "451c9071",
   "metadata": {
    "slideshow": {
     "slide_type": "slide"
    }
   },
   "source": [
    "$$ \\lim_{x \\to c} x = c $$\n",
    "\n",
    "El límite o tendencia de la función identidad a medida que la variable independiente $x$ tiende a $c$ es hacia $c$"
   ]
  },
  {
   "cell_type": "markdown",
   "id": "ba70b441",
   "metadata": {
    "slideshow": {
     "slide_type": "slide"
    }
   },
   "source": [
    "$$ \\lim_{x \\to c} x^{n} = c^{n} $$"
   ]
  },
  {
   "cell_type": "markdown",
   "id": "34ef8ac9",
   "metadata": {
    "slideshow": {
     "slide_type": "slide"
    }
   },
   "source": [
    "## Ejemplo 1  \n",
    "\n",
    "### Evaluación de límites básicos\n",
    "\n"
   ]
  },
  {
   "cell_type": "markdown",
   "id": "966cafb7",
   "metadata": {
    "slideshow": {
     "slide_type": "slide"
    }
   },
   "source": [
    "$$ \\lim_{x \\to 2} 3 = 3 $$"
   ]
  },
  {
   "cell_type": "code",
   "execution_count": 8,
   "id": "d1fd1a65",
   "metadata": {
    "slideshow": {
     "slide_type": "slide"
    }
   },
   "outputs": [
    {
     "data": {
      "text/latex": [
       "$\\displaystyle 3$"
      ],
      "text/plain": [
       "3"
      ]
     },
     "execution_count": 8,
     "metadata": {},
     "output_type": "execute_result"
    }
   ],
   "source": [
    "limit(3, x, 2)"
   ]
  },
  {
   "cell_type": "markdown",
   "id": "0006558c",
   "metadata": {
    "slideshow": {
     "slide_type": "slide"
    }
   },
   "source": [
    "$$ \\lim_{x \\to -4} x = -4 $$\n",
    "\n",
    "es decir, la tendencia de la función identidad cuando $x$ tiende a -4 es hacia -4 "
   ]
  },
  {
   "cell_type": "code",
   "execution_count": 9,
   "id": "c0f94d55",
   "metadata": {
    "slideshow": {
     "slide_type": "slide"
    }
   },
   "outputs": [
    {
     "data": {
      "text/latex": [
       "$\\displaystyle -4$"
      ],
      "text/plain": [
       "-4"
      ]
     },
     "execution_count": 9,
     "metadata": {},
     "output_type": "execute_result"
    }
   ],
   "source": [
    "limit(x, x, -4)"
   ]
  },
  {
   "cell_type": "markdown",
   "id": "ef280ff7",
   "metadata": {
    "slideshow": {
     "slide_type": "slide"
    }
   },
   "source": [
    "# Evaluación de límites con sympy"
   ]
  },
  {
   "cell_type": "code",
   "execution_count": 11,
   "id": "80281ea1",
   "metadata": {},
   "outputs": [],
   "source": [
    "from sympy import * "
   ]
  },
  {
   "cell_type": "code",
   "execution_count": 12,
   "id": "504a6f4c",
   "metadata": {
    "slideshow": {
     "slide_type": "slide"
    }
   },
   "outputs": [],
   "source": [
    "x, b, c = var('x, b, c')"
   ]
  },
  {
   "cell_type": "code",
   "execution_count": 13,
   "id": "9fb36472",
   "metadata": {
    "slideshow": {
     "slide_type": "slide"
    }
   },
   "outputs": [
    {
     "data": {
      "text/latex": [
       "$\\displaystyle b$"
      ],
      "text/plain": [
       "b"
      ]
     },
     "execution_count": 13,
     "metadata": {},
     "output_type": "execute_result"
    }
   ],
   "source": [
    "limit(b,x, c) # limit(f(x), x, c)"
   ]
  },
  {
   "cell_type": "markdown",
   "id": "d802feaf",
   "metadata": {
    "slideshow": {
     "slide_type": "slide"
    }
   },
   "source": [
    "$$ \\lim_{x \\to 2} x^{2}  = 2^{2} = 4$$\n",
    "\n",
    "es decir, que a medida que $x$se aproxima a 2, entonces su cuadrado tiende a 4. "
   ]
  },
  {
   "cell_type": "code",
   "execution_count": 10,
   "id": "86993296",
   "metadata": {
    "slideshow": {
     "slide_type": "slide"
    }
   },
   "outputs": [
    {
     "data": {
      "text/latex": [
       "$\\displaystyle 4$"
      ],
      "text/plain": [
       "4"
      ]
     },
     "execution_count": 10,
     "metadata": {},
     "output_type": "execute_result"
    }
   ],
   "source": [
    "limit(x**2, x, 2)"
   ]
  },
  {
   "cell_type": "markdown",
   "id": "3ee1b7c6",
   "metadata": {
    "slideshow": {
     "slide_type": "slide"
    }
   },
   "source": [
    "## Representación gráfica del anterior límite"
   ]
  },
  {
   "cell_type": "code",
   "execution_count": 19,
   "id": "b626a7d2",
   "metadata": {
    "slideshow": {
     "slide_type": "slide"
    }
   },
   "outputs": [],
   "source": []
  },
  {
   "cell_type": "code",
   "execution_count": 5,
   "id": "f9b4e619",
   "metadata": {},
   "outputs": [
    {
     "data": {
      "image/png": "[encoded data removed]",
      "text/plain": [
       "<Figure size 640x480 with 1 Axes>"
      ]
     },
     "metadata": {},
     "output_type": "display_data"
    }
   ],
   "source": [
    "import numpy as np \n",
    "\n",
    "import matplotlib.pyplot as plt\n",
    "\n",
    "def show(axis=\"equal\", ax=None, title=None, xlabel=\"$x$\", ylabel=\"$y$\"):\n",
    "    ax = ax or plt.gca()\n",
    "    ax.axis(axis)\n",
    "    ax.grid()\n",
    "    ax.set_title(title, fontsize=14)\n",
    "    ax.set_xlabel(xlabel, fontsize=14)\n",
    "    ax.set_ylabel(ylabel, fontsize=14, rotation=0)\n",
    "    ax.axhline(y=0, color='k')\n",
    "    ax.axvline(x=0, color='k')\n",
    "\n",
    "\n",
    "\n",
    "xs = np.linspace(-2.1, 3, 500)\n",
    "ys = xs**2\n",
    "plt.plot(xs, ys, label = r\"$f(x) = x^{2}$\") # curva x^{2}\n",
    "\n",
    "plt.plot([0, 0], [0, 3], \"k--\") # eje vertical\n",
    "\n",
    "def f(x):\n",
    "    return x**2\n",
    "\n",
    "def plot_tendencia_funcion(c = 2):\n",
    "    punto_final_flechas = [c, f(c)]\n",
    "    epsilon = 0.000001\n",
    "    derivada_en_c = (f(c+epsilon) - f(c-epsilon))/(2*epsilon)\n",
    "    #punto_inicial_flecha_inferior = \n",
    "    plt.arrow(c + 1,c + 6, -1, -derivada_en_c, head_width=0.1) # flecha superior\n",
    "    plt.arrow(c-1, c-2, 1, derivada_en_c, head_width=0.1) # flecha inferior\n",
    "    #plt.arrow()\n",
    "plot_tendencia_funcion()\n",
    "\n",
    "show([-2, 5, 0, 10], title=\"limit of the curve $y = x^2$ in $x = 2$\")\n",
    "\n",
    "plt.savefig('limite_en_x_=2.jpg')\n",
    "\n",
    "plt.show() "
   ]
  },
  {
   "cell_type": "markdown",
   "id": "0190aaa8",
   "metadata": {},
   "source": [
    "## Cómo se determina el límite de una función desde su representación gráfica"
   ]
  },
  {
   "cell_type": "markdown",
   "id": "8099895e",
   "metadata": {
    "slideshow": {
     "slide_type": "slide"
    }
   },
   "source": [
    "* Se trazan dos flechas concurrentes en el punto $x = c$ y luego\n",
    "* se trazan dos flechas concurrentes en el punto de la curva $(c,f(c))$"
   ]
  },
  {
   "cell_type": "markdown",
   "id": "d1a76fcf",
   "metadata": {
    "slideshow": {
     "slide_type": "slide"
    }
   },
   "source": [
    "# Propiedades de los límites"
   ]
  },
  {
   "cell_type": "markdown",
   "id": "55148912",
   "metadata": {
    "slideshow": {
     "slide_type": "slide"
    }
   },
   "source": [
    "Si $b$ y $c$ son números reales y $n$ un entero positivo, $f$ y $g$ son funciones con los límites \n",
    "siguientes:    \n",
    "\n",
    "\n",
    "$$  \\lim_{x \\to c} f(x) = L \\ \\ \\ \\text{     } \\ \\ \\  \\lim_{x \\to c} g(x) = K $$  \n",
    "\n",
    "\n",
    "1. Múltiplo escalar: $\\lim\\limits_{x \\to c} [bf(x)] = bL$.  \n",
    "\n",
    "2. Suma o diferencia: $\\lim\\limits_{x \\to c} [f(x) \\pm g(x)] = L\\pm K$.  \n",
    "\n",
    "3. Producto: $\\lim\\limits_{x \\to c} [f(x)g(x)] = LK$.  \n",
    "\n",
    "\n",
    "4. Cociente: $\\lim\\limits_{x \\to c} [f(x)/g(x)] = L/K$, siempre que $K \\neq 0$.  \n",
    "\n",
    "5. Potencias:  $\\lim\\limits_{x \\to c} [f(x)]^{n} = L^{n}$. \n",
    "\n",
    "\n"
   ]
  },
  {
   "cell_type": "markdown",
   "id": "534613ab",
   "metadata": {
    "slideshow": {
     "slide_type": "slide"
    }
   },
   "source": [
    "## EJEMPLO 2 Límite de un polinomio\n",
    "\n",
    "$$  $$"
   ]
  },
  {
   "cell_type": "code",
   "execution_count": null,
   "id": "2d81026f",
   "metadata": {
    "slideshow": {
     "slide_type": "slide"
    }
   },
   "outputs": [],
   "source": []
  },
  {
   "cell_type": "code",
   "execution_count": null,
   "id": "6d2d8cad",
   "metadata": {
    "slideshow": {
     "slide_type": "slide"
    }
   },
   "outputs": [],
   "source": []
  },
  {
   "cell_type": "markdown",
   "id": "f2a09c71",
   "metadata": {
    "slideshow": {
     "slide_type": "slide"
    }
   },
   "source": []
  },
  {
   "cell_type": "markdown",
   "id": "941e2e21",
   "metadata": {},
   "source": [
    "#  Ejemplos de límites"
   ]
  },
  {
   "cell_type": "markdown",
   "id": "664f8a36",
   "metadata": {},
   "source": [
    "Ejercicio 45 de Larson página 87 del pdf. \n",
    "\n",
    "* Encontrar el límite de la función (si existe).\n",
    "* Escribir una función más simple que coincida con la dada salvo en un punto. \n",
    "* Utilizar una herramienta de graficación para confirmar el resultado.\n",
    "\n",
    "$$ \\lim_{x \\to -1} \\frac{x^{2} - 1}{x + 1} $$"
   ]
  },
  {
   "cell_type": "markdown",
   "id": "8d06b9a5",
   "metadata": {
    "slideshow": {
     "slide_type": "slide"
    }
   },
   "source": [
    "¿Qué es lo que nos piden determinar?\n",
    "\n",
    "nos piden hallar la tendencia del cociente $\\frac{x^{2} - 1}{x + 1}$ cuando o a medida que $x $ tiende o se acerca a -1. "
   ]
  },
  {
   "cell_type": "code",
   "execution_count": 8,
   "id": "d89a2666",
   "metadata": {},
   "outputs": [],
   "source": [
    "def f(x):\n",
    "    return (x**2 - 1)/(x + 1)"
   ]
  },
  {
   "cell_type": "code",
   "execution_count": 10,
   "id": "efd2917c",
   "metadata": {},
   "outputs": [
    {
     "data": {
      "text/plain": [
       "-1.9989999999999712"
      ]
     },
     "execution_count": 10,
     "metadata": {},
     "output_type": "execute_result"
    }
   ],
   "source": [
    "f(-0.999)"
   ]
  },
  {
   "attachments": {},
   "cell_type": "markdown",
   "id": "826a2d76",
   "metadata": {},
   "source": [
    "$$ \\lim_{x \\to -1} f(x) = -2 $$\n",
    "\n",
    "y este símbolo se lee: \" medida que x se aproxima a -1, $f(x)$ se aproxima a -2\". "
   ]
  },
  {
   "attachments": {},
   "cell_type": "markdown",
   "id": "11529d88",
   "metadata": {},
   "source": [
    "El objetivo es aprender a describir fenómenos correlacionados. "
   ]
  },
  {
   "attachments": {},
   "cell_type": "markdown",
   "id": "68d2d7b7",
   "metadata": {},
   "source": [
    "# Representación tabular"
   ]
  },
  {
   "cell_type": "code",
   "execution_count": 3,
   "id": "fcf58751",
   "metadata": {},
   "outputs": [],
   "source": [
    "def f(x):\n",
    "    return (x**2-1)/(x+1)"
   ]
  },
  {
   "cell_type": "code",
   "execution_count": 6,
   "id": "5ce0c5a3",
   "metadata": {},
   "outputs": [
    {
     "data": {
      "text/plain": [
       "array([-3.   , -2.5  , -2.1  , -2.01 , -2.001, -1.99 , -1.9  , -1.5  ,\n",
       "       -1.   ])"
      ]
     },
     "execution_count": 6,
     "metadata": {},
     "output_type": "execute_result"
    }
   ],
   "source": [
    "import pandas as pd \n",
    "\n",
    "import numpy as np \n",
    "\n",
    "X = np.array([-2, -1.5, -1.1, -1.01, -1.001, -0.99, -0.9, -0.5, 0])\n",
    "\n",
    "F = f(X)\n",
    "F "
   ]
  },
  {
   "cell_type": "code",
   "execution_count": 11,
   "id": "8da11134",
   "metadata": {},
   "outputs": [
    {
     "data": {
      "text/html": [
       "<div>\n",
       "<style scoped>\n",
       "    .dataframe tbody tr th:only-of-type {\n",
       "        vertical-align: middle;\n",
       "    }\n",
       "\n",
       "    .dataframe tbody tr th {\n",
       "        vertical-align: top;\n",
       "    }\n",
       "\n",
       "    .dataframe thead th {\n",
       "        text-align: right;\n",
       "    }\n",
       "</style>\n",
       "<table border=\"1\" class=\"dataframe\">\n",
       "  <thead>\n",
       "    <tr style=\"text-align: right;\">\n",
       "      <th></th>\n",
       "      <th>tendencia de la x</th>\n",
       "      <th>tendencia de la y</th>\n",
       "    </tr>\n",
       "  </thead>\n",
       "  <tbody>\n",
       "    <tr>\n",
       "      <th>0</th>\n",
       "      <td>-2.000</td>\n",
       "      <td>-3.000</td>\n",
       "    </tr>\n",
       "    <tr>\n",
       "      <th>1</th>\n",
       "      <td>-1.500</td>\n",
       "      <td>-2.500</td>\n",
       "    </tr>\n",
       "    <tr>\n",
       "      <th>2</th>\n",
       "      <td>-1.100</td>\n",
       "      <td>-2.100</td>\n",
       "    </tr>\n",
       "    <tr>\n",
       "      <th>3</th>\n",
       "      <td>-1.010</td>\n",
       "      <td>-2.010</td>\n",
       "    </tr>\n",
       "    <tr>\n",
       "      <th>4</th>\n",
       "      <td>-1.001</td>\n",
       "      <td>-2.001</td>\n",
       "    </tr>\n",
       "    <tr>\n",
       "      <th>5</th>\n",
       "      <td>-0.990</td>\n",
       "      <td>-1.990</td>\n",
       "    </tr>\n",
       "    <tr>\n",
       "      <th>6</th>\n",
       "      <td>-0.900</td>\n",
       "      <td>-1.900</td>\n",
       "    </tr>\n",
       "    <tr>\n",
       "      <th>7</th>\n",
       "      <td>-0.500</td>\n",
       "      <td>-1.500</td>\n",
       "    </tr>\n",
       "    <tr>\n",
       "      <th>8</th>\n",
       "      <td>0.000</td>\n",
       "      <td>-1.000</td>\n",
       "    </tr>\n",
       "  </tbody>\n",
       "</table>\n",
       "</div>"
      ],
      "text/plain": [
       "   tendencia de la x  tendencia de la y\n",
       "0             -2.000             -3.000\n",
       "1             -1.500             -2.500\n",
       "2             -1.100             -2.100\n",
       "3             -1.010             -2.010\n",
       "4             -1.001             -2.001\n",
       "5             -0.990             -1.990\n",
       "6             -0.900             -1.900\n",
       "7             -0.500             -1.500\n",
       "8              0.000             -1.000"
      ]
     },
     "execution_count": 11,
     "metadata": {},
     "output_type": "execute_result"
    }
   ],
   "source": [
    "diccionario = {'tendencia de la x': X, 'tendencia de la y':F}\n",
    "\n",
    "pd.DataFrame(diccionario) "
   ]
  },
  {
   "attachments": {},
   "cell_type": "markdown",
   "id": "d149d312",
   "metadata": {},
   "source": [
    "Definitivamente \n",
    "$$\\lim_{x \\to -1} f(x) = -2$$"
   ]
  },
  {
   "attachments": {},
   "cell_type": "markdown",
   "id": "919d84f9",
   "metadata": {},
   "source": [
    "# Determine el límite gráficamente"
   ]
  },
  {
   "cell_type": "code",
   "execution_count": 7,
   "id": "dbc7081f",
   "metadata": {},
   "outputs": [
    {
     "data": {
      "text/plain": [
       "<matplotlib.collections.PathCollection at 0x270d092df90>"
      ]
     },
     "execution_count": 7,
     "metadata": {},
     "output_type": "execute_result"
    },
    {
     "data": {
      "image/png": "[encoded data removed]",
      "text/plain": [
       "<Figure size 640x480 with 1 Axes>"
      ]
     },
     "metadata": {},
     "output_type": "display_data"
    }
   ],
   "source": [
    "import matplotlib.pyplot as plt \n",
    "\n",
    "plt.scatter(X, F)"
   ]
  },
  {
   "attachments": {},
   "cell_type": "markdown",
   "id": "0404a395",
   "metadata": {},
   "source": [
    "## Forma analítica de determinación de este mismo límite"
   ]
  },
  {
   "cell_type": "code",
   "execution_count": null,
   "id": "cffcd9b1",
   "metadata": {},
   "outputs": [],
   "source": []
  },
  {
   "attachments": {},
   "cell_type": "markdown",
   "id": "c244bc14",
   "metadata": {},
   "source": [
    "La comunicación científica significa trabajar no para uno mismo sino por el desarrollo del agro colombiano para mejorar la calidad de vida de nuestros vecinos del Bajo cauca: https://www.youtube.com/watch?v=-UuUjPNEwjU"
   ]
  },
  {
   "cell_type": "code",
   "execution_count": null,
   "id": "b871bb7e",
   "metadata": {},
   "outputs": [],
   "source": []
  },
  {
   "attachments": {},
   "cell_type": "markdown",
   "id": "3659241d",
   "metadata": {},
   "source": [
    "# Inferencias o interpretaciones del gráfico\n",
    "\n",
    "* A medida que me acerco a -1 por izquierda, los puntos van ascendiendo hacia -2. \n",
    "\n",
    "* que a medida que me acerco a -1 por derecha, los puntos van descendiendo hacia -2\n",
    "\n",
    "\n",
    "Por lo tanto, \n",
    "\n",
    "$$ \\lim_{x \\to -1}f(x) = -2 $$"
   ]
  },
  {
   "cell_type": "code",
   "execution_count": null,
   "id": "5e9b4e44",
   "metadata": {},
   "outputs": [],
   "source": []
  },
  {
   "cell_type": "code",
   "execution_count": null,
   "id": "b9432e38",
   "metadata": {},
   "outputs": [],
   "source": []
  },
  {
   "cell_type": "code",
   "execution_count": null,
   "id": "1f92370b",
   "metadata": {},
   "outputs": [],
   "source": []
  },
  {
   "cell_type": "code",
   "execution_count": null,
   "id": "ceeaf9c2",
   "metadata": {},
   "outputs": [],
   "source": []
  },
  {
   "cell_type": "markdown",
   "id": "2a32b39e",
   "metadata": {
    "slideshow": {
     "slide_type": "slide"
    }
   },
   "source": [
    "## Tareas o Actividades en clase"
   ]
  },
  {
   "cell_type": "markdown",
   "id": "2768eaa2",
   "metadata": {
    "slideshow": {
     "slide_type": "slide"
    }
   },
   "source": [
    "1. "
   ]
  },
  {
   "cell_type": "markdown",
   "id": "f77c3183",
   "metadata": {
    "slideshow": {
     "slide_type": "slide"
    }
   },
   "source": [
    "## Tareas o actividades fuera de la clase"
   ]
  },
  {
   "attachments": {},
   "cell_type": "markdown",
   "id": "1bbab9cf",
   "metadata": {
    "slideshow": {
     "slide_type": "slide"
    }
   },
   "source": [
    "* Determinar tendencias o aproximaciones con pandas y con matplotlib y de maner4a analítica. \n",
    "\n",
    "* determinar el límite de manera puntual, tabular y gráfica con excel. "
   ]
  },
  {
   "attachments": {},
   "cell_type": "markdown",
   "id": "ae70773c",
   "metadata": {
    "slideshow": {
     "slide_type": "slide"
    }
   },
   "source": [
    "## Cuestionario para resolver fuera de clase  (estimula las actividades cognitivas de memorización)\n",
    "\n",
    "1. ¿Qué se entiende por límite de una función en $x = c$. \n",
    "2. ¿Qué es una función polinómica y de 4 ejemplos de funciones de diferente grado?.\n",
    "3. ¿Qués es factorizar? \n",
    "\n",
    "Factorizar es expresar como multiplicación\n",
    "\n",
    "$$16 = 8(2) $$\n",
    "\n",
    "$$ x^{2} - 4 = (x+2)(x-2)$$\n",
    "\n",
    "4. ¿Cuales son los casos de factorización?\n",
    "\n",
    "3. ¿Qué es una función polinómica?\n",
    "\n",
    "son las que se definen a través de sumas y multiplicaciones. \n",
    "\n",
    "3. ¿Qué es una función racional? y de ejemplos\n",
    "es una función definida como un cociente o división de polinomios. \n",
    "$$ \\frac{1}{x} $$\n",
    "\n",
    "\n",
    "es un cocente de polinomios. "
   ]
  },
  {
   "attachments": {},
   "cell_type": "markdown",
   "id": "436eb57c",
   "metadata": {},
   "source": [
    "##  Vocabulary  \n",
    "\n",
    "* limit: límite.\n",
    "* scatter: gráfico de dispersión. "
   ]
  },
  {
   "cell_type": "markdown",
   "id": "118abe95",
   "metadata": {
    "slideshow": {
     "slide_type": "slide"
    }
   },
   "source": [
    "## Evalución al profesor [Marco](https://forms.office.com/Pages/ResponsePage.aspx?id=IefhmYRxjkmK_7KtTlPBwkanXIs1i1FEujpsZgO6dXpUREJPV1kxUk1JV1ozTFJIQVNIQjY5WEY3US4u)\n",
    "\n"
   ]
  },
  {
   "cell_type": "markdown",
   "id": "b5bae319",
   "metadata": {
    "slideshow": {
     "slide_type": "slide"
    }
   },
   "source": [
    "## Referentes  \n",
    "\n",
    "* [Larson, Ron. Edwards, Bruce H. Cálculo. Novena edición. McGrawHill](https://udeaeduco-my.sharepoint.com/:b:/g/personal/marco_canas_udea_edu_co/EelvUuuDvaVAmJUCFE-XNicB_MPrWZfrqbpx7USTUovKUQ?e=QG0U29). Página 78. \n",
    "\n",
    "* [calculus of sympy](https://docs.sympy.org/latest/tutorials/intro-tutorial/calculus.html). "
   ]
  },
  {
   "cell_type": "markdown",
   "id": "c0d6568a",
   "metadata": {
    "slideshow": {
     "slide_type": "slide"
    }
   },
   "source": [
    "## Apéndice\n",
    "\n",
    "[Calculus](https://docs.sympy.org/latest/tutorials/intro-tutorial/calculus.html)\n",
    "This section covers how to do basic calculus tasks such as derivatives, integrals, limits, and series expansions in SymPy. If you are not familiar with the math of any part of this section, you may safely skip it."
   ]
  },
  {
   "cell_type": "code",
   "execution_count": 14,
   "id": "2cdc7015",
   "metadata": {
    "slideshow": {
     "slide_type": "slide"
    }
   },
   "outputs": [],
   "source": [
    "from sympy import *\n",
    "x, y, z = symbols('x y z')\n",
    "init_printing(use_unicode=True)"
   ]
  },
  {
   "cell_type": "markdown",
   "id": "75e3cf66",
   "metadata": {
    "slideshow": {
     "slide_type": "slide"
    }
   },
   "source": [
    "Derivatives\n",
    "To take derivatives, use the diff function."
   ]
  },
  {
   "cell_type": "code",
   "execution_count": 15,
   "id": "1037b306",
   "metadata": {
    "slideshow": {
     "slide_type": "slide"
    }
   },
   "outputs": [
    {
     "data": {
      "text/latex": [
       "$\\displaystyle - \\sin{\\left(x \\right)}$"
      ],
      "text/plain": [
       "-sin(x)"
      ]
     },
     "execution_count": 15,
     "metadata": {},
     "output_type": "execute_result"
    }
   ],
   "source": [
    "diff(cos(x), x)"
   ]
  },
  {
   "cell_type": "code",
   "execution_count": 16,
   "id": "a5ca9a14",
   "metadata": {
    "slideshow": {
     "slide_type": "slide"
    }
   },
   "outputs": [
    {
     "data": {
      "text/latex": [
       "$\\displaystyle 2 x e^{x^{2}}$"
      ],
      "text/plain": [
       "     ⎛ 2⎞\n",
       "     ⎝x ⎠\n",
       "2⋅x⋅ℯ    "
      ]
     },
     "execution_count": 16,
     "metadata": {},
     "output_type": "execute_result"
    }
   ],
   "source": [
    "diff(exp(x**2), x)"
   ]
  },
  {
   "cell_type": "code",
   "execution_count": 17,
   "id": "e25aa32a",
   "metadata": {
    "slideshow": {
     "slide_type": "slide"
    }
   },
   "outputs": [
    {
     "data": {
      "text/latex": [
       "$\\displaystyle 0$"
      ],
      "text/plain": [
       "0"
      ]
     },
     "execution_count": 17,
     "metadata": {},
     "output_type": "execute_result"
    }
   ],
   "source": [
    "diff(1, x)"
   ]
  },
  {
   "cell_type": "code",
   "execution_count": null,
   "id": "8be2311c",
   "metadata": {},
   "outputs": [],
   "source": []
  },
  {
   "cell_type": "code",
   "execution_count": null,
   "id": "f9d285e7",
   "metadata": {},
   "outputs": [],
   "source": []
  },
  {
   "cell_type": "code",
   "execution_count": null,
   "id": "4b2e33da",
   "metadata": {},
   "outputs": [],
   "source": []
  },
  {
   "cell_type": "markdown",
   "id": "5968f046",
   "metadata": {
    "slideshow": {
     "slide_type": "slide"
    }
   },
   "source": [
    "# Limits\n",
    "\n",
    "SymPy can compute symbolic limits with the limit function. The syntax to compute\n",
    "\n",
    "$$\\lim_{x \\to x0}f(x) $$\n",
    "\n",
    "\n",
    "\n",
    "is `limit(f(x), x, x0)`."
   ]
  }
 ],
 "metadata": {
  "celltoolbar": "Slideshow",
  "kernelspec": {
   "display_name": "Python 3",
   "language": "python",
   "name": "python3"
  },
  "language_info": {
   "codemirror_mode": {
    "name": "ipython",
    "version": 3
   },
   "file_extension": ".py",
   "mimetype": "text/x-python",
   "name": "python",
   "nbconvert_exporter": "python",
   "pygments_lexer": "ipython3",
   "version": "3.10.10"
  },
  "rise": {
   "enable_chalboard": true,
   "theme": "sky"
  },
  "vscode": {
   "interpreter": {
    "hash": "ae115c8122ba000a648ea691cf086e95841d767d998fc7ed45e791bf48fd755e"
   }
  }
 },
 "nbformat": 4,
 "nbformat_minor": 5
}
