{
 "cells": [
  {
   "cell_type": "markdown",
   "id": "1568f004",
   "metadata": {
    "slideshow": {
     "slide_type": "slide"
    }
   },
   "source": [
    "<table align=\"left\">\n",
    "  <td>\n",
    "    <a href=\"https://colab.research.google.com/github/marco-canas/2_calculo_I/blob/main/classes/2_class_marz_3/2_class_march_3_limites.ipynb\" target=\"_parent\"><img src=\"https://colab.research.google.com/assets/colab-badge.svg\" alt=\"Open In Colab\"/></a>\n",
    "  </td>\n",
    "</table>"
   ]
  },
  {
   "cell_type": "markdown",
   "id": "9225b8ef",
   "metadata": {
    "slideshow": {
     "slide_type": "slide"
    }
   },
   "source": [
    "## [Video de apoyo a la lectura interactiva y experimental de este cuaderno](https://www.youtube.com/watch?v=fBcMaOC5ezA)"
   ]
  },
  {
   "cell_type": "markdown",
   "id": "a98dfadb",
   "metadata": {
    "slideshow": {
     "slide_type": "slide"
    }
   },
   "source": [
    "Nuestra labor docente es una labor de servicio al desarrollo profesional de estos estudiantes: \n",
    "<img src = 'https://github.com/marco-canas/2_calculo_I/blob/main/classes/2_class_marz_3/ingenieros_2023_1.jpeg?raw=true'>"
   ]
  },
  {
   "cell_type": "markdown",
   "id": "1660635d",
   "metadata": {
    "slideshow": {
     "slide_type": "slide"
    }
   },
   "source": [
    "# Clase 2 de Marzo de 2023\n",
    "\n",
    "## Funciones y límite de funciones\n",
    "\n",
    "* Libro guía [Larson](https://udeaeduco-my.sharepoint.com/:b:/r/personal/marco_canas_udea_edu_co/Documents/plan_trabajo/ref/larson.pdf?csf=1&web=1&e=GK5KDX) Página 77 o   \n",
    "\n",
    "* [Stewart](https://udeaeduco-my.sharepoint.com/:b:/g/personal/marco_canas_udea_edu_co/EZgXZjAp8QxPqOAim2hs6LcBNPLGjSHf-xwYnUVYkwa04w?e=dQpV5c) Cálculo de una variable. Trascendentes tempranas"
   ]
  },
  {
   "cell_type": "markdown",
   "id": "9e28450c",
   "metadata": {
    "slideshow": {
     "slide_type": "slide"
    }
   },
   "source": [
    "## Horario propuesto de la clase de Cálculo para Ingeniería Agropecuaria\n",
    "\n",
    "Viernes de 7 AM a 12 M. "
   ]
  },
  {
   "cell_type": "markdown",
   "id": "fb139e40",
   "metadata": {
    "slideshow": {
     "slide_type": "slide"
    }
   },
   "source": [
    "Modelo pedagógico seguido en las clase: [Aula invertida](https://udeaeduco-my.sharepoint.com/:b:/g/personal/marco_canas_udea_edu_co/EelvUuuDvaVAmJUCFE-XNicB_MPrWZfrqbpx7USTUovKUQ?e=QG0U29)  \n",
    "\n",
    "## El modelo flipped classroom de Cristian Aguilera Ruiz\n",
    "\n",
    "### RESUMEN\n",
    "El modelo de clase tradicional, donde el alumnado permanece con una actitud pasiva, y senta\u0002do en sus pupitres escuchando la lección, está siendo sustituido por nuevas metodologías de ense\u0002ñanza-aprendizaje, por un amplio sector de profesionales. Cada vez son más aquellas personas que\n",
    "ponen en duda su eficacia y opinan que se precisan metodologías innovadoras, que resulten más\n",
    "motivadoras al alumnado, donde participe activamente en la construcción del conocimiento y cons\u0002tituya un modelo que atienda a las necesidades particulares de cada individuo.\n",
    "En esta investigación nos centraremos en un nuevo e innovador modelo: El modelo Flipped\n",
    "Classroom, o “aula invertida”. Dicho modelo es cada vez más usado por aquellos docentes que atri\u0002buyen al modelo tradicional de enseñanza muchos déficits y que han dado el salto a una total “inver\u0002sión” o cambio de esencia a sus clases.  "
   ]
  },
  {
   "cell_type": "markdown",
   "id": "eef019e4",
   "metadata": {
    "slideshow": {
     "slide_type": "slide"
    }
   },
   "source": [
    "### INTRODUCCIÓN"
   ]
  },
  {
   "cell_type": "markdown",
   "id": "74c1185c",
   "metadata": {
    "slideshow": {
     "slide_type": "slide"
    }
   },
   "source": [
    "Una de las principales aportaciones de las Tecnología de la Información y la Comunicación (TIC)\n",
    "a la educación, especialmente en los últimos años con la puesta en escena de aplicaciones y herramientas de la llamada Web 2.0, han sido las distintas posibilidades que aparecen en el ámbito del\n",
    "aprendizaje formal e informal en entornos abiertos y flexibles (Tucker, 2012). "
   ]
  },
  {
   "cell_type": "markdown",
   "id": "70aae34c",
   "metadata": {
    "slideshow": {
     "slide_type": "slide"
    }
   },
   "source": [
    "El modelo tradicional, el que bien conoce nuestra sociedad, podría resumirse en la visión de que los alumnos asisten a las lecciones que los profesores imparten y, en casa, realizan los deberes que les hayan sido asignados en clase (Bergmann y Sams, 2012)."
   ]
  },
  {
   "cell_type": "markdown",
   "id": "65422518",
   "metadata": {
    "slideshow": {
     "slide_type": "slide"
    }
   },
   "source": [
    "“El aula invertida o flipped classroom es un método de enseñanza cuyo principal objetivo es que\n",
    "el alumno/a asuma un rol mucho más activo en su proceso de aprendizaje que el que venía ocupando tradicionalmente” (Berenguer, 2016: 1466). En definitiva, supone una inversión con el método anterior (Wasserman, Quint, Norris y Carr 2017), donde los alumnos y alumnas estudiarán por\n",
    "sí mismos los conceptos teóricos que el docente les facilite y el tiempo de clase será aprovechado\n",
    "para resolver dudas, realizar prácticas e iniciar debates relevantes con el contenido. "
   ]
  },
  {
   "cell_type": "markdown",
   "id": "51d7af50",
   "metadata": {
    "slideshow": {
     "slide_type": "slide"
    }
   },
   "source": [
    "Una reflexión relevante sería la de la autora Esteve (2016), que cita:  \n",
    "\n",
    "*“En cualquier oficio, si uno va trabajando y analizando lo que hace bien, lo que hace mal y va\n",
    "limpiando, irá mejorando. Si sólo trabaja y no hace balance de lo que ha hecho, seguirá siempre\n",
    "igual por muchos años que pasen. Pero esto no es distinto de otras profesiones” (p.77).\n",
    "Además, Flipped Classroom puede ser aplicado en todas las aéras curriculares; educación primaria, educación secundaria, educación superior e, incluso, educación para adultos (Blasco,\n",
    "Lorenzo y Sarsa 2016).*  \n",
    "\n",
    "A continuación, veremos algunos de las ventajas y desventajas de la aplicación de esta innovadora metodología."
   ]
  },
  {
   "cell_type": "markdown",
   "id": "d9c42707",
   "metadata": {
    "slideshow": {
     "slide_type": "slide"
    }
   },
   "source": [
    "## Objetivos de aprendizaje  \n",
    "\n",
    "* Definir el concepto de límite de una función en un punto $x = c$. \n",
    "* graficar el límite de una función\n",
    "* determinar puntualmente el límite de una función en un punto. \n",
    "* representar el límite de manera tabular.\n",
    "* saberlo deberminar de manera analítica. \n",
    "* definir que es una recta tangente que es la recta cuya pendiente describe la pendiente de la curva asociada. \n",
    "\n",
    "* definir la pendiente de una curva en un punto. \n",
    "\n",
    "* determinar analíticamente la tendencia de una función en un punto. \n",
    "\n",
    "* Evaluar un límite mediante el uso de las propiedades de los límites.\n",
    "\n",
    "* Desarrollar y usar una estrategia para el cálculo de límites."
   ]
  },
  {
   "cell_type": "markdown",
   "id": "7e7945d1",
   "metadata": {
    "slideshow": {
     "slide_type": "slide"
    }
   },
   "source": [
    "## Cálculo analítico de límites"
   ]
  },
  {
   "cell_type": "markdown",
   "id": "eb37b8b5",
   "metadata": {
    "slideshow": {
     "slide_type": "slide"
    }
   },
   "source": [
    "### Propiedades de los límites  "
   ]
  },
  {
   "cell_type": "markdown",
   "id": "c6b554f8",
   "metadata": {
    "slideshow": {
     "slide_type": "slide"
    }
   },
   "source": [
    "En la sección 1.2 se vio que el límite de $f(x)$ cuando $x$ se aproxima a $c$ no depende del valor de $f$ en $x=c$. Sin embargo, puede darse el caso de que este límite sea $f(c)$. "
   ]
  },
  {
   "cell_type": "markdown",
   "id": "99badf7d",
   "metadata": {
    "slideshow": {
     "slide_type": "slide"
    }
   },
   "source": [
    "En esta situación, se puede evaluar el límite por sustitución directa. Esto es:\n",
    "\n",
    "$$ \\lim_{x \\to c} f(x) = f(c) \\ \\ \\ \\ \\text{sustituir } x \\text{ por } c $$\n",
    "\n",
    "\n",
    "Las  funciones  con  este  buen  comportamiento  son **continuas**  en  $c$.  En  la  sección  1.4  se  examinará con más detalle este concepto. "
   ]
  },
  {
   "cell_type": "markdown",
   "id": "3f2bda88",
   "metadata": {
    "slideshow": {
     "slide_type": "slide"
    }
   },
   "source": [
    "## Teorema. Algunos límites básicos"
   ]
  },
  {
   "cell_type": "markdown",
   "id": "df10c68c",
   "metadata": {
    "slideshow": {
     "slide_type": "slide"
    }
   },
   "source": [
    "Si $b$ y $c$ son números reales y $n$ un entero positivo:\n",
    "\n",
    "$$ \\lim_{x \\to c} b = b $$\n",
    "\n",
    "es decir, el límite de una función constante es la constante que define a la función. "
   ]
  },
  {
   "cell_type": "markdown",
   "id": "451c9071",
   "metadata": {
    "slideshow": {
     "slide_type": "slide"
    }
   },
   "source": [
    "$$ \\lim_{x \\to c} x = c $$\n",
    "\n",
    "El límite o tendencia de la función identidad a medida que la variable independiente $x$ tiende a $c$ es hacia $c$"
   ]
  },
  {
   "cell_type": "markdown",
   "id": "ba70b441",
   "metadata": {
    "slideshow": {
     "slide_type": "slide"
    }
   },
   "source": [
    "$$ \\lim_{x \\to c} x^{n} = c^{n} $$"
   ]
  },
  {
   "cell_type": "markdown",
   "id": "34ef8ac9",
   "metadata": {
    "slideshow": {
     "slide_type": "slide"
    }
   },
   "source": [
    "## Ejemplo 1  \n",
    "\n",
    "### Evaluación de límites básicos\n",
    "\n"
   ]
  },
  {
   "cell_type": "markdown",
   "id": "966cafb7",
   "metadata": {
    "slideshow": {
     "slide_type": "slide"
    }
   },
   "source": [
    "$$ \\lim_{x \\to 2} 3 = 3 $$"
   ]
  },
  {
   "cell_type": "code",
   "execution_count": 8,
   "id": "d1fd1a65",
   "metadata": {
    "slideshow": {
     "slide_type": "slide"
    }
   },
   "outputs": [
    {
     "data": {
      "text/latex": [
       "$\\displaystyle 3$"
      ],
      "text/plain": [
       "3"
      ]
     },
     "execution_count": 8,
     "metadata": {},
     "output_type": "execute_result"
    }
   ],
   "source": [
    "limit(3, x, 2)"
   ]
  },
  {
   "cell_type": "markdown",
   "id": "0006558c",
   "metadata": {
    "slideshow": {
     "slide_type": "slide"
    }
   },
   "source": [
    "$$ \\lim_{x \\to -4} x = -4 $$\n",
    "\n",
    "es decir, la tendencia de la función identidad cuando $x$ tiende a -4 es hacia -4 "
   ]
  },
  {
   "cell_type": "code",
   "execution_count": 9,
   "id": "c0f94d55",
   "metadata": {
    "slideshow": {
     "slide_type": "slide"
    }
   },
   "outputs": [
    {
     "data": {
      "text/latex": [
       "$\\displaystyle -4$"
      ],
      "text/plain": [
       "-4"
      ]
     },
     "execution_count": 9,
     "metadata": {},
     "output_type": "execute_result"
    }
   ],
   "source": [
    "limit(x, x, -4)"
   ]
  },
  {
   "cell_type": "markdown",
   "id": "ef280ff7",
   "metadata": {
    "slideshow": {
     "slide_type": "slide"
    }
   },
   "source": [
    "# Evaluación de límites con sympy"
   ]
  },
  {
   "cell_type": "code",
   "execution_count": 11,
   "id": "80281ea1",
   "metadata": {
    "slideshow": {
     "slide_type": "slide"
    }
   },
   "outputs": [],
   "source": [
    "from sympy import * "
   ]
  },
  {
   "cell_type": "code",
   "execution_count": 12,
   "id": "504a6f4c",
   "metadata": {
    "slideshow": {
     "slide_type": "slide"
    }
   },
   "outputs": [],
   "source": [
    "x, b, c = var('x, b, c')"
   ]
  },
  {
   "cell_type": "code",
   "execution_count": 13,
   "id": "9fb36472",
   "metadata": {
    "slideshow": {
     "slide_type": "slide"
    }
   },
   "outputs": [
    {
     "data": {
      "text/latex": [
       "$\\displaystyle b$"
      ],
      "text/plain": [
       "b"
      ]
     },
     "execution_count": 13,
     "metadata": {},
     "output_type": "execute_result"
    }
   ],
   "source": [
    "limit(b,x, c) # limit(f(x), x, c)"
   ]
  },
  {
   "cell_type": "markdown",
   "id": "d802feaf",
   "metadata": {
    "slideshow": {
     "slide_type": "slide"
    }
   },
   "source": [
    "$$ \\lim_{x \\to 2} x^{2}  = 2^{2} = 4$$\n",
    "\n",
    "es decir, que a medida que $x$se aproxima a 2, entonces su cuadrado tiende a 4. "
   ]
  },
  {
   "cell_type": "code",
   "execution_count": 10,
   "id": "86993296",
   "metadata": {
    "slideshow": {
     "slide_type": "slide"
    }
   },
   "outputs": [
    {
     "data": {
      "text/latex": [
       "$\\displaystyle 4$"
      ],
      "text/plain": [
       "4"
      ]
     },
     "execution_count": 10,
     "metadata": {},
     "output_type": "execute_result"
    }
   ],
   "source": [
    "limit(x**2, x, 2)"
   ]
  },
  {
   "cell_type": "markdown",
   "id": "3ee1b7c6",
   "metadata": {
    "slideshow": {
     "slide_type": "slide"
    }
   },
   "source": [
    "## Representación gráfica del anterior límite"
   ]
  },
  {
   "cell_type": "code",
   "execution_count": 19,
   "id": "b626a7d2",
   "metadata": {
    "slideshow": {
     "slide_type": "slide"
    }
   },
   "outputs": [],
   "source": []
  },
  {
   "cell_type": "code",
   "execution_count": 3,
   "id": "f9b4e619",
   "metadata": {
    "slideshow": {
     "slide_type": "slide"
    }
   },
   "outputs": [
    {
     "data": {
      "image/png": "[encoded data removed]",
      "text/plain": [
       "<Figure size 640x480 with 1 Axes>"
      ]
     },
     "metadata": {},
     "output_type": "display_data"
    }
   ],
   "source": [
    "import numpy as np \n",
    "\n",
    "import matplotlib.pyplot as plt\n",
    "\n",
    "def show(axis=\"equal\", ax=None, title=None, xlabel=\"$x$\", ylabel=\"$y$\"):\n",
    "    ax = ax or plt.gca()\n",
    "    ax.axis(axis)\n",
    "    ax.grid()\n",
    "    ax.set_title(title, fontsize=14)\n",
    "    ax.set_xlabel(xlabel, fontsize=14)\n",
    "    ax.set_ylabel(ylabel, fontsize=14, rotation=0)\n",
    "    ax.axhline(y=0, color='k')\n",
    "    ax.axvline(x=0, color='k')\n",
    "\n",
    "\n",
    "\n",
    "xs = np.linspace(-2.1, 3, 500)\n",
    "ys = xs**2\n",
    "plt.plot(xs, ys, label = r\"$f(x) = x^{2}$\") # curva x^{2}\n",
    "\n",
    "plt.plot([0, 0], [0, 3], \"k--\") # eje vertical\n",
    "\n",
    "def f(x):\n",
    "    return x**2\n",
    "\n",
    "def plot_tendencia_funcion(c = 2):\n",
    "    punto_final_flechas = [c, f(c)]\n",
    "    epsilon = 0.000001\n",
    "    derivada_en_c = (f(c+epsilon) - f(c-epsilon))/(2*epsilon)\n",
    "    # flecha superior\n",
    "    plt.arrow(c + 1.2,c + 6.4, -1, -derivada_en_c, head_width=0.1)\n",
    "    \n",
    "    # flecha inferior\n",
    "    plt.arrow(c-1, c-2, 1, derivada_en_c, head_width=0.1) \n",
    "    #plt.arrow()\n",
    "plot_tendencia_funcion()\n",
    "\n",
    "show([-2, 5, -2, 10], title=\"limit of the curve $y = x^2$ in $x = 2$\")\n",
    "\n",
    "plt.savefig('limite_en_x_=2.jpg')\n",
    "\n",
    "plt.show() "
   ]
  },
  {
   "cell_type": "markdown",
   "id": "0190aaa8",
   "metadata": {},
   "source": [
    "## Cómo se determina el límite de una función desde su representación gráfica"
   ]
  },
  {
   "cell_type": "markdown",
   "id": "8099895e",
   "metadata": {
    "slideshow": {
     "slide_type": "slide"
    }
   },
   "source": [
    "* Se trazan dos flechas concurrentes en el punto $x = c$ y luego\n",
    "* se trazan dos flechas concurrentes en el punto de la curva $(c,f(c))$"
   ]
  },
  {
   "cell_type": "markdown",
   "id": "d1a76fcf",
   "metadata": {
    "slideshow": {
     "slide_type": "slide"
    }
   },
   "source": [
    "# Propiedades de los límites"
   ]
  },
  {
   "cell_type": "markdown",
   "id": "55148912",
   "metadata": {
    "slideshow": {
     "slide_type": "slide"
    }
   },
   "source": [
    "Si $b$ y $c$ son números reales y $n$ un entero positivo, $f$ y $g$ son funciones con los límites \n",
    "siguientes:    \n",
    "\n",
    "\n",
    "$$  \\lim_{x \\to c} f(x) = L \\ \\ \\ \\text{     } \\ \\ \\  \\lim_{x \\to c} g(x) = K $$  \n",
    "\n",
    "\n",
    "1. Múltiplo escalar: $\\lim\\limits_{x \\to c} [bf(x)] = bL$.  \n",
    "\n",
    "2. Suma o diferencia: $\\lim\\limits_{x \\to c} [f(x) \\pm g(x)] = L\\pm K$.  \n",
    "\n",
    "3. Producto: $\\lim\\limits_{x \\to c} [f(x)g(x)] = LK$.  \n",
    "\n",
    "\n",
    "4. Cociente: $\\lim\\limits_{x \\to c} [f(x)/g(x)] = L/K$, siempre que $K \\neq 0$.  \n",
    "\n",
    "5. Potencias:  $\\lim\\limits_{x \\to c} [f(x)]^{n} = L^{n}$. \n",
    "\n",
    "\n"
   ]
  },
  {
   "cell_type": "markdown",
   "id": "534613ab",
   "metadata": {
    "slideshow": {
     "slide_type": "slide"
    }
   },
   "source": [
    "## EJEMPLO 2 Límite de un polinomio\n",
    "\n",
    "$$  $$"
   ]
  },
  {
   "cell_type": "markdown",
   "id": "4fac7ee7",
   "metadata": {},
   "source": [
    "# Acercamiento por izquierda a cero"
   ]
  },
  {
   "cell_type": "code",
   "execution_count": 4,
   "id": "b1cd83ce",
   "metadata": {
    "slideshow": {
     "slide_type": "slide"
    }
   },
   "outputs": [
    {
     "data": {
      "text/plain": [
       "[-0.1, -0.01, -0.001]"
      ]
     },
     "execution_count": 4,
     "metadata": {},
     "output_type": "execute_result"
    }
   ],
   "source": [
    "import numpy as np \n",
    "\n",
    "X = [-0.1, -0.01, -0.001] # estos son puntos que describen el acercamiento a cero por izquierda\n",
    "X "
   ]
  },
  {
   "cell_type": "markdown",
   "id": "0101d812",
   "metadata": {
    "slideshow": {
     "slide_type": "slide"
    }
   },
   "source": [
    "<img src = 'https://aulamathema.weebly.com/uploads/7/8/5/0/78507704/published/l-mite-ejemplo-gr-fico_1.png'>"
   ]
  },
  {
   "cell_type": "code",
   "execution_count": null,
   "id": "6d2d8cad",
   "metadata": {
    "slideshow": {
     "slide_type": "slide"
    }
   },
   "outputs": [],
   "source": []
  },
  {
   "cell_type": "markdown",
   "id": "f2a09c71",
   "metadata": {
    "slideshow": {
     "slide_type": "slide"
    }
   },
   "source": []
  },
  {
   "cell_type": "markdown",
   "id": "941e2e21",
   "metadata": {},
   "source": [
    "#  Ejemplos de límites"
   ]
  },
  {
   "cell_type": "markdown",
   "id": "664f8a36",
   "metadata": {},
   "source": [
    "Ejercicio 45 de Larson página 87 del pdf. \n",
    "\n",
    "* Encontrar el límite de la función (si existe).\n",
    "* Escribir una función más simple que coincida con la dada salvo en un punto. \n",
    "* Utilizar una herramienta de graficación para confirmar el resultado.\n",
    "\n",
    "$$ \\lim_{x \\to -1} \\frac{x^{2} - 1}{x + 1} $$"
   ]
  },
  {
   "cell_type": "markdown",
   "id": "8d06b9a5",
   "metadata": {
    "slideshow": {
     "slide_type": "slide"
    }
   },
   "source": [
    "¿Qué es lo que nos piden determinar?\n",
    "\n",
    "nos piden hallar la tendencia del cociente $\\frac{x^{2} - 1}{x + 1}$ cuando o a medida que $x $ tiende o se acerca a -1. "
   ]
  },
  {
   "cell_type": "markdown",
   "id": "69907335",
   "metadata": {
    "slideshow": {
     "slide_type": "slide"
    }
   },
   "source": [
    "## Estimación del límite de manera puntual o a través de evaluaciones puntuales"
   ]
  },
  {
   "cell_type": "code",
   "execution_count": 8,
   "id": "d89a2666",
   "metadata": {
    "slideshow": {
     "slide_type": "slide"
    }
   },
   "outputs": [],
   "source": [
    "def f(x):\n",
    "    return (x**2 - 1)/(x + 1)"
   ]
  },
  {
   "cell_type": "code",
   "execution_count": 10,
   "id": "efd2917c",
   "metadata": {
    "slideshow": {
     "slide_type": "slide"
    }
   },
   "outputs": [
    {
     "data": {
      "text/plain": [
       "-1.9989999999999712"
      ]
     },
     "execution_count": 10,
     "metadata": {},
     "output_type": "execute_result"
    }
   ],
   "source": [
    "f(-0.999)"
   ]
  },
  {
   "cell_type": "markdown",
   "id": "826a2d76",
   "metadata": {
    "slideshow": {
     "slide_type": "slide"
    }
   },
   "source": [
    "$$ \\lim_{x \\to -1} f(x) = -2 $$\n",
    "\n",
    "y este símbolo se lee: \" medida que x se aproxima a -1, $f(x)$ se aproxima a -2\". "
   ]
  },
  {
   "cell_type": "markdown",
   "id": "11529d88",
   "metadata": {
    "slideshow": {
     "slide_type": "slide"
    }
   },
   "source": [
    "El objetivo es aprender a describir fenómenos correlacionados. "
   ]
  },
  {
   "cell_type": "markdown",
   "id": "68d2d7b7",
   "metadata": {
    "slideshow": {
     "slide_type": "slide"
    }
   },
   "source": [
    "# Representación tabular"
   ]
  },
  {
   "cell_type": "code",
   "execution_count": 5,
   "id": "fcf58751",
   "metadata": {
    "slideshow": {
     "slide_type": "slide"
    }
   },
   "outputs": [],
   "source": [
    "def f(x):\n",
    "    return (x**2-1)/(x+1)"
   ]
  },
  {
   "cell_type": "code",
   "execution_count": 1,
   "id": "4344fbe7",
   "metadata": {
    "slideshow": {
     "slide_type": "slide"
    }
   },
   "outputs": [],
   "source": [
    "import pandas as pd \n",
    "\n",
    "import numpy as np \n",
    "\n",
    "X = np.array([-2, -1.5, -1.1, -1.01, -1.001, -0.99, -0.9, -0.5, 0])"
   ]
  },
  {
   "cell_type": "code",
   "execution_count": 2,
   "id": "89eb10c4",
   "metadata": {
    "slideshow": {
     "slide_type": "slide"
    }
   },
   "outputs": [
    {
     "data": {
      "text/plain": [
       "array([-2.   , -1.5  , -1.1  , -1.01 , -1.001, -0.99 , -0.9  , -0.5  ,\n",
       "        0.   ])"
      ]
     },
     "execution_count": 2,
     "metadata": {},
     "output_type": "execute_result"
    }
   ],
   "source": [
    "X "
   ]
  },
  {
   "cell_type": "code",
   "execution_count": 6,
   "id": "5ce0c5a3",
   "metadata": {
    "slideshow": {
     "slide_type": "slide"
    }
   },
   "outputs": [
    {
     "data": {
      "text/plain": [
       "array([-3.   , -2.5  , -2.1  , -2.01 , -2.001, -1.99 , -1.9  , -1.5  ,\n",
       "       -1.   ])"
      ]
     },
     "execution_count": 6,
     "metadata": {},
     "output_type": "execute_result"
    }
   ],
   "source": [
    "F = f(X)\n",
    "F "
   ]
  },
  {
   "cell_type": "code",
   "execution_count": 7,
   "id": "8da11134",
   "metadata": {
    "slideshow": {
     "slide_type": "slide"
    }
   },
   "outputs": [
    {
     "data": {
      "text/html": [
       "<div>\n",
       "<style scoped>\n",
       "    .dataframe tbody tr th:only-of-type {\n",
       "        vertical-align: middle;\n",
       "    }\n",
       "\n",
       "    .dataframe tbody tr th {\n",
       "        vertical-align: top;\n",
       "    }\n",
       "\n",
       "    .dataframe thead th {\n",
       "        text-align: right;\n",
       "    }\n",
       "</style>\n",
       "<table border=\"1\" class=\"dataframe\">\n",
       "  <thead>\n",
       "    <tr style=\"text-align: right;\">\n",
       "      <th></th>\n",
       "      <th>tendencia de la x</th>\n",
       "      <th>tendencia de la y</th>\n",
       "    </tr>\n",
       "  </thead>\n",
       "  <tbody>\n",
       "    <tr>\n",
       "      <th>0</th>\n",
       "      <td>-2.000</td>\n",
       "      <td>-3.000</td>\n",
       "    </tr>\n",
       "    <tr>\n",
       "      <th>1</th>\n",
       "      <td>-1.500</td>\n",
       "      <td>-2.500</td>\n",
       "    </tr>\n",
       "    <tr>\n",
       "      <th>2</th>\n",
       "      <td>-1.100</td>\n",
       "      <td>-2.100</td>\n",
       "    </tr>\n",
       "    <tr>\n",
       "      <th>3</th>\n",
       "      <td>-1.010</td>\n",
       "      <td>-2.010</td>\n",
       "    </tr>\n",
       "    <tr>\n",
       "      <th>4</th>\n",
       "      <td>-1.001</td>\n",
       "      <td>-2.001</td>\n",
       "    </tr>\n",
       "    <tr>\n",
       "      <th>5</th>\n",
       "      <td>-0.990</td>\n",
       "      <td>-1.990</td>\n",
       "    </tr>\n",
       "    <tr>\n",
       "      <th>6</th>\n",
       "      <td>-0.900</td>\n",
       "      <td>-1.900</td>\n",
       "    </tr>\n",
       "    <tr>\n",
       "      <th>7</th>\n",
       "      <td>-0.500</td>\n",
       "      <td>-1.500</td>\n",
       "    </tr>\n",
       "    <tr>\n",
       "      <th>8</th>\n",
       "      <td>0.000</td>\n",
       "      <td>-1.000</td>\n",
       "    </tr>\n",
       "  </tbody>\n",
       "</table>\n",
       "</div>"
      ],
      "text/plain": [
       "   tendencia de la x  tendencia de la y\n",
       "0             -2.000             -3.000\n",
       "1             -1.500             -2.500\n",
       "2             -1.100             -2.100\n",
       "3             -1.010             -2.010\n",
       "4             -1.001             -2.001\n",
       "5             -0.990             -1.990\n",
       "6             -0.900             -1.900\n",
       "7             -0.500             -1.500\n",
       "8              0.000             -1.000"
      ]
     },
     "execution_count": 7,
     "metadata": {},
     "output_type": "execute_result"
    }
   ],
   "source": [
    "diccionario = {'tendencia de la x': X, 'tendencia de la y':F}\n",
    "\n",
    "pd.DataFrame(diccionario) "
   ]
  },
  {
   "cell_type": "markdown",
   "id": "d149d312",
   "metadata": {
    "slideshow": {
     "slide_type": "slide"
    }
   },
   "source": [
    "Definitivamente \n",
    "$$\\lim_{x \\to -1} f(x) = -2$$"
   ]
  },
  {
   "cell_type": "markdown",
   "id": "919d84f9",
   "metadata": {
    "slideshow": {
     "slide_type": "slide"
    }
   },
   "source": [
    "# Determine el límite gráficamente"
   ]
  },
  {
   "cell_type": "code",
   "execution_count": 8,
   "id": "dbc7081f",
   "metadata": {
    "scrolled": true
   },
   "outputs": [
    {
     "data": {
      "image/png": "[encoded data removed]",
      "text/plain": [
       "<Figure size 640x480 with 1 Axes>"
      ]
     },
     "metadata": {},
     "output_type": "display_data"
    }
   ],
   "source": [
    "import matplotlib.pyplot as plt \n",
    "\n",
    "plt.scatter(X, F)\n",
    "\n",
    "plt.grid(alpha = 0.4)"
   ]
  },
  {
   "cell_type": "markdown",
   "id": "42574ff6",
   "metadata": {
    "slideshow": {
     "slide_type": "slide"
    }
   },
   "source": [
    "## Interpretaciones o inferencias de la lectura del gráfico de dispersión anterior"
   ]
  },
  {
   "cell_type": "markdown",
   "id": "3659241d",
   "metadata": {
    "slideshow": {
     "slide_type": "slide"
    }
   },
   "source": [
    "# Inferencias o interpretaciones del gráfico\n",
    "\n",
    "* A medida que me acerco a -1 por izquierda, los puntos van ascendiendo hacia -2. \n",
    "\n",
    "* que a medida que me acerco a -1 por derecha, los puntos van descendiendo hacia -2\n",
    "\n",
    "\n",
    "Por lo tanto, \n",
    "\n",
    "$$ \\lim_{x \\to -1}f(x) = -2 $$"
   ]
  },
  {
   "cell_type": "markdown",
   "id": "0404a395",
   "metadata": {
    "slideshow": {
     "slide_type": "slide"
    }
   },
   "source": [
    "## Forma analítica de determinación de este mismo límite"
   ]
  },
  {
   "cell_type": "markdown",
   "id": "bdf8ced9",
   "metadata": {
    "slideshow": {
     "slide_type": "slide"
    }
   },
   "source": [
    "\\begin{align*}\n",
    "\\lim_{x \\to -1} \\frac{x^{2} - 1}{x+1} & =  \n",
    "\\end{align*}"
   ]
  },
  {
   "cell_type": "markdown",
   "id": "c244bc14",
   "metadata": {
    "slideshow": {
     "slide_type": "slide"
    }
   },
   "source": [
    "La comunicación científica significa trabajar no para uno mismo sino por el desarrollo del agro colombiano, en pos de mejorar la calidad de vida de nuestros vecinos del Bajo cauca: https://www.youtube.com/watch?v=-UuUjPNEwjU"
   ]
  },
  {
   "cell_type": "code",
   "execution_count": null,
   "id": "b871bb7e",
   "metadata": {
    "slideshow": {
     "slide_type": "slide"
    }
   },
   "outputs": [],
   "source": []
  },
  {
   "cell_type": "markdown",
   "id": "5e9b4e44",
   "metadata": {
    "slideshow": {
     "slide_type": "slide"
    }
   },
   "source": [
    "# Ejemplo 2  \n",
    "\n",
    "Ejercicio planteado en la página 87 del larson. \n",
    "\n",
    "Respuesta en la página 742 de Larson.\n",
    "\n",
    "¿cuáles son las estrategias para hallar límites analíticamente?\n",
    "\n",
    "1. sustituir\n",
    "2. factorizar\n",
    "3. racionalizar\n",
    "4. sumar fracciones \n",
    "\n",
    "$$ \\lim_{x \\to 0} \\frac{\\frac{1}{3+x} - \\frac{1}{3}}{x} $$\n",
    "\n"
   ]
  },
  {
   "cell_type": "code",
   "execution_count": null,
   "id": "b9432e38",
   "metadata": {
    "slideshow": {
     "slide_type": "slide"
    }
   },
   "outputs": [],
   "source": []
  },
  {
   "cell_type": "code",
   "execution_count": null,
   "id": "1f92370b",
   "metadata": {
    "slideshow": {
     "slide_type": "slide"
    }
   },
   "outputs": [],
   "source": []
  },
  {
   "cell_type": "code",
   "execution_count": null,
   "id": "ceeaf9c2",
   "metadata": {
    "slideshow": {
     "slide_type": "slide"
    }
   },
   "outputs": [],
   "source": []
  },
  {
   "cell_type": "markdown",
   "id": "2a32b39e",
   "metadata": {
    "slideshow": {
     "slide_type": "slide"
    }
   },
   "source": [
    "## Tareas o Actividades en clase"
   ]
  },
  {
   "cell_type": "markdown",
   "id": "2768eaa2",
   "metadata": {
    "slideshow": {
     "slide_type": "slide"
    }
   },
   "source": [
    "1. Determinar el siguiente límite \n",
    "\n",
    "$$ \\lim_{x \\to -3} \\frac{x^{2} + x - 6}{x^{2} - 9} $$\n",
    "\n",
    "ejercicio 53 de la sección 1.3 del [Larson](https://udeaeduco-my.sharepoint.com/:b:/g/personal/marco_canas_udea_edu_co/ES71ChFeO9ZDhW3TwC5Ijk8BjxUK3Pdqz_fjHxTTFAfIAg?e=jyJXak). Página 87. \n",
    "\n",
    "Y las respuestas las encuentra en la página 747 de Larson. "
   ]
  },
  {
   "cell_type": "markdown",
   "id": "82ea9232",
   "metadata": {
    "slideshow": {
     "slide_type": "slide"
    }
   },
   "source": [
    "1. Definir una función de python \n",
    "2. evaluaciones en puntos cerca a $x = -3$\n",
    "3. Conclusión de las evaluaciones puntuales. \n",
    "4. Determinaremos el límite de manera tabular. \n",
    "5. Sacaremos conclusiones de la lectura de la tabla realizada en Pandas. \n",
    "6. Haremos un gráfico de dispersión.\n",
    "7. Determinaremos el límite a partir de la lectura del gráfico. \n",
    "8. Determinaremos el límite utilizando teoremas"
   ]
  },
  {
   "cell_type": "code",
   "execution_count": 10,
   "id": "ec44d4b2",
   "metadata": {
    "slideshow": {
     "slide_type": "slide"
    }
   },
   "outputs": [],
   "source": [
    "def f(x):\n",
    "    return (x**2 + x - 6)/(x**2 - 9)"
   ]
  },
  {
   "cell_type": "code",
   "execution_count": 11,
   "id": "d0188391",
   "metadata": {
    "slideshow": {
     "slide_type": "slide"
    }
   },
   "outputs": [
    {
     "ename": "ZeroDivisionError",
     "evalue": "division by zero",
     "output_type": "error",
     "traceback": [
      "\u001b[1;31m---------------------------------------------------------------------------\u001b[0m",
      "\u001b[1;31mZeroDivisionError\u001b[0m                         Traceback (most recent call last)",
      "\u001b[1;32m~\\AppData\\Local\\Temp\\ipykernel_2172\\2389408286.py\u001b[0m in \u001b[0;36m<module>\u001b[1;34m\u001b[0m\n\u001b[1;32m----> 1\u001b[1;33m \u001b[0mf\u001b[0m\u001b[1;33m(\u001b[0m\u001b[0mx\u001b[0m \u001b[1;33m=\u001b[0m \u001b[1;33m-\u001b[0m\u001b[1;36m3\u001b[0m\u001b[1;33m)\u001b[0m\u001b[1;33m\u001b[0m\u001b[1;33m\u001b[0m\u001b[0m\n\u001b[0m",
      "\u001b[1;32m~\\AppData\\Local\\Temp\\ipykernel_2172\\1533208609.py\u001b[0m in \u001b[0;36mf\u001b[1;34m(x)\u001b[0m\n\u001b[0;32m      1\u001b[0m \u001b[1;32mdef\u001b[0m \u001b[0mf\u001b[0m\u001b[1;33m(\u001b[0m\u001b[0mx\u001b[0m\u001b[1;33m)\u001b[0m\u001b[1;33m:\u001b[0m\u001b[1;33m\u001b[0m\u001b[1;33m\u001b[0m\u001b[0m\n\u001b[1;32m----> 2\u001b[1;33m     \u001b[1;32mreturn\u001b[0m \u001b[1;33m(\u001b[0m\u001b[0mx\u001b[0m\u001b[1;33m**\u001b[0m\u001b[1;36m2\u001b[0m \u001b[1;33m+\u001b[0m \u001b[0mx\u001b[0m \u001b[1;33m-\u001b[0m \u001b[1;36m6\u001b[0m\u001b[1;33m)\u001b[0m\u001b[1;33m/\u001b[0m\u001b[1;33m(\u001b[0m\u001b[0mx\u001b[0m\u001b[1;33m**\u001b[0m\u001b[1;36m2\u001b[0m \u001b[1;33m-\u001b[0m \u001b[1;36m9\u001b[0m\u001b[1;33m)\u001b[0m\u001b[1;33m\u001b[0m\u001b[1;33m\u001b[0m\u001b[0m\n\u001b[0m",
      "\u001b[1;31mZeroDivisionError\u001b[0m: division by zero"
     ]
    }
   ],
   "source": [
    "f(x = -3) # note que -3 no pertenece al dominio de esta función. "
   ]
  },
  {
   "cell_type": "code",
   "execution_count": 16,
   "id": "0e52a937",
   "metadata": {
    "slideshow": {
     "slide_type": "slide"
    }
   },
   "outputs": [
    {
     "data": {
      "text/plain": [
       "(0.8360655737704927,\n",
       " 0.8336106489184686,\n",
       " 0.8333611064823309,\n",
       " 0.8333361110655388,\n",
       " 0.8333055509252243,\n",
       " 0.8330550918197002,\n",
       " 0.8305084745762717,\n",
       " 0.8181818181818182)"
      ]
     },
     "execution_count": 16,
     "metadata": {},
     "output_type": "execute_result"
    }
   ],
   "source": [
    "f(-3.1), f(-3.01), f(-3.001), f(-3.0001), f(-2.999),f(-2.99),f(-2.9),f(-2.5)"
   ]
  },
  {
   "cell_type": "markdown",
   "id": "d3bd32ce",
   "metadata": {
    "slideshow": {
     "slide_type": "slide"
    }
   },
   "source": [
    "**Conclusión:**  \n",
    "\n",
    "$$ \\lim_{x \\to -3} f(x) \\approx 0.833333333.... $$"
   ]
  },
  {
   "cell_type": "markdown",
   "id": "8166f46e",
   "metadata": {
    "slideshow": {
     "slide_type": "slide"
    }
   },
   "source": [
    "y = 0.8333...\n",
    "10y = 8.3333333...\n",
    "100y = 83.3333333..\n",
    "\n",
    "90y = 75"
   ]
  },
  {
   "cell_type": "code",
   "execution_count": 18,
   "id": "667ffbe6",
   "metadata": {
    "slideshow": {
     "slide_type": "slide"
    }
   },
   "outputs": [],
   "source": [
    "y = 75/90"
   ]
  },
  {
   "cell_type": "code",
   "execution_count": 19,
   "id": "be84adce",
   "metadata": {
    "slideshow": {
     "slide_type": "slide"
    }
   },
   "outputs": [
    {
     "data": {
      "text/plain": [
       "0.8333333333333334"
      ]
     },
     "execution_count": 19,
     "metadata": {},
     "output_type": "execute_result"
    }
   ],
   "source": [
    "y "
   ]
  },
  {
   "cell_type": "code",
   "execution_count": 20,
   "id": "add80356",
   "metadata": {
    "slideshow": {
     "slide_type": "slide"
    }
   },
   "outputs": [
    {
     "data": {
      "text/plain": [
       "0.8333333333333334"
      ]
     },
     "execution_count": 20,
     "metadata": {},
     "output_type": "execute_result"
    }
   ],
   "source": [
    "y = 15/18\n",
    "y "
   ]
  },
  {
   "cell_type": "code",
   "execution_count": 22,
   "id": "6080f920",
   "metadata": {
    "slideshow": {
     "slide_type": "slide"
    }
   },
   "outputs": [
    {
     "data": {
      "text/plain": [
       "0.8333333333333334"
      ]
     },
     "execution_count": 22,
     "metadata": {},
     "output_type": "execute_result"
    }
   ],
   "source": [
    "y = 5/6\n",
    "y "
   ]
  },
  {
   "cell_type": "code",
   "execution_count": 24,
   "id": "6c8dbff4",
   "metadata": {
    "slideshow": {
     "slide_type": "slide"
    }
   },
   "outputs": [
    {
     "data": {
      "text/plain": [
       "array([0.83606557, 0.83361065, 0.83336111, 0.83330555, 0.83305509,\n",
       "       0.83050847])"
      ]
     },
     "execution_count": 24,
     "metadata": {},
     "output_type": "execute_result"
    }
   ],
   "source": [
    "import numpy as np \n",
    "import pandas as pd \n",
    "\n",
    "X = np.array([-3.1, -3.01, -3.001,-2.999, -2.99, -2.9])\n",
    "\n",
    "Y = f(X)\n",
    "Y "
   ]
  },
  {
   "cell_type": "code",
   "execution_count": 25,
   "id": "dc066942",
   "metadata": {},
   "outputs": [
    {
     "data": {
      "text/html": [
       "<div>\n",
       "<style scoped>\n",
       "    .dataframe tbody tr th:only-of-type {\n",
       "        vertical-align: middle;\n",
       "    }\n",
       "\n",
       "    .dataframe tbody tr th {\n",
       "        vertical-align: top;\n",
       "    }\n",
       "\n",
       "    .dataframe thead th {\n",
       "        text-align: right;\n",
       "    }\n",
       "</style>\n",
       "<table border=\"1\" class=\"dataframe\">\n",
       "  <thead>\n",
       "    <tr style=\"text-align: right;\">\n",
       "      <th></th>\n",
       "      <th>tendencia de x hacia -3</th>\n",
       "      <th>tendencia de y</th>\n",
       "    </tr>\n",
       "  </thead>\n",
       "  <tbody>\n",
       "    <tr>\n",
       "      <th>0</th>\n",
       "      <td>-3.100</td>\n",
       "      <td>0.836066</td>\n",
       "    </tr>\n",
       "    <tr>\n",
       "      <th>1</th>\n",
       "      <td>-3.010</td>\n",
       "      <td>0.833611</td>\n",
       "    </tr>\n",
       "    <tr>\n",
       "      <th>2</th>\n",
       "      <td>-3.001</td>\n",
       "      <td>0.833361</td>\n",
       "    </tr>\n",
       "    <tr>\n",
       "      <th>3</th>\n",
       "      <td>-2.999</td>\n",
       "      <td>0.833306</td>\n",
       "    </tr>\n",
       "    <tr>\n",
       "      <th>4</th>\n",
       "      <td>-2.990</td>\n",
       "      <td>0.833055</td>\n",
       "    </tr>\n",
       "    <tr>\n",
       "      <th>5</th>\n",
       "      <td>-2.900</td>\n",
       "      <td>0.830508</td>\n",
       "    </tr>\n",
       "  </tbody>\n",
       "</table>\n",
       "</div>"
      ],
      "text/plain": [
       "   tendencia de x hacia -3  tendencia de y\n",
       "0                   -3.100        0.836066\n",
       "1                   -3.010        0.833611\n",
       "2                   -3.001        0.833361\n",
       "3                   -2.999        0.833306\n",
       "4                   -2.990        0.833055\n",
       "5                   -2.900        0.830508"
      ]
     },
     "execution_count": 25,
     "metadata": {},
     "output_type": "execute_result"
    }
   ],
   "source": [
    "diccionario = {'tendencia de x hacia -3':X, 'tendencia de y':Y }\n",
    "\n",
    "tabla = pd.DataFrame(diccionario)\n",
    "tabla "
   ]
  },
  {
   "cell_type": "markdown",
   "id": "821a1c48",
   "metadata": {
    "slideshow": {
     "slide_type": "slide"
    }
   },
   "source": [
    "## Conclusión\n",
    "\n",
    "Las tablas se leen de arriba hacia abajo y comparando columnas. (columnas son los arreglos verticales) \n",
    "\n",
    "$$ \\lim_{x \\to -3} f(x) = \\frac{5}{6} \\approx  0.8333$$"
   ]
  },
  {
   "cell_type": "code",
   "execution_count": 27,
   "id": "0ffb082e",
   "metadata": {},
   "outputs": [
    {
     "data": {
      "image/png": "[encoded data removed]",
      "text/plain": [
       "<Figure size 640x480 with 1 Axes>"
      ]
     },
     "metadata": {},
     "output_type": "display_data"
    }
   ],
   "source": [
    "import matplotlib.pyplot as plt\n",
    "\n",
    "plt.scatter(X, Y)\n",
    "\n",
    "plt.grid()\n",
    "\n",
    "plt.savefig('tendencia_en_menos_3.jpg')\n",
    "\n",
    "plt.show()"
   ]
  },
  {
   "cell_type": "markdown",
   "id": "96d9711d",
   "metadata": {
    "slideshow": {
     "slide_type": "slide"
    }
   },
   "source": [
    "A medida que te acercas a -3 por izquierda, los puntos decienden hacia $5/6$.\n",
    "\n",
    "A medida que te acercas a -3 por derecha, los puntos ascienden hacia $5/6$.\n",
    "\n"
   ]
  },
  {
   "cell_type": "markdown",
   "id": "dc402a66",
   "metadata": {
    "slideshow": {
     "slide_type": "slide"
    }
   },
   "source": [
    "## Mejor un gráfico animado"
   ]
  },
  {
   "cell_type": "code",
   "execution_count": 33,
   "id": "cb8d6b42",
   "metadata": {
    "slideshow": {
     "slide_type": "slide"
    }
   },
   "outputs": [
    {
     "data": {
      "application/vnd.plotly.v1+json": {
       "config": {
        "plotlyServerURL": "https://plot.ly"
       },
       "data": [
        {
         "hovertemplate": "tendencia de x hacia -3=%{x}<br>tendencia de y=%{y}<extra></extra>",
         "legendgroup": "",
         "line": {
          "color": "#636efa",
          "dash": "solid"
         },
         "marker": {
          "symbol": "circle"
         },
         "mode": "lines",
         "name": "",
         "orientation": "v",
         "showlegend": false,
         "type": "scatter",
         "x": [
          -3.1,
          -3.01,
          -3.001,
          -2.999,
          -2.99,
          -2.9
         ],
         "xaxis": "x",
         "y": [
          0.8360655737704927,
          0.8336106489184686,
          0.8333611064823309,
          0.8333055509252243,
          0.8330550918197002,
          0.8305084745762717
         ],
         "yaxis": "y"
        }
       ],
       "layout": {
        "legend": {
         "tracegroupgap": 0
        },
        "template": {
         "data": {
          "bar": [
           {
            "error_x": {
             "color": "#2a3f5f"
            },
            "error_y": {
             "color": "#2a3f5f"
            },
            "marker": {
             "line": {
              "color": "#E5ECF6",
              "width": 0.5
             },
             "pattern": {
              "fillmode": "overlay",
              "size": 10,
              "solidity": 0.2
             }
            },
            "type": "bar"
           }
          ],
          "barpolar": [
           {
            "marker": {
             "line": {
              "color": "#E5ECF6",
              "width": 0.5
             },
             "pattern": {
              "fillmode": "overlay",
              "size": 10,
              "solidity": 0.2
             }
            },
            "type": "barpolar"
           }
          ],
          "carpet": [
           {
            "aaxis": {
             "endlinecolor": "#2a3f5f",
             "gridcolor": "white",
             "linecolor": "white",
             "minorgridcolor": "white",
             "startlinecolor": "#2a3f5f"
            },
            "baxis": {
             "endlinecolor": "#2a3f5f",
             "gridcolor": "white",
             "linecolor": "white",
             "minorgridcolor": "white",
             "startlinecolor": "#2a3f5f"
            },
            "type": "carpet"
           }
          ],
          "choropleth": [
           {
            "colorbar": {
             "outlinewidth": 0,
             "ticks": ""
            },
            "type": "choropleth"
           }
          ],
          "contour": [
           {
            "colorbar": {
             "outlinewidth": 0,
             "ticks": ""
            },
            "colorscale": [
             [
              0,
              "#0d0887"
             ],
             [
              0.1111111111111111,
              "#46039f"
             ],
             [
              0.2222222222222222,
              "#7201a8"
             ],
             [
              0.3333333333333333,
              "#9c179e"
             ],
             [
              0.4444444444444444,
              "#bd3786"
             ],
             [
              0.5555555555555556,
              "#d8576b"
             ],
             [
              0.6666666666666666,
              "#ed7953"
             ],
             [
              0.7777777777777778,
              "#fb9f3a"
             ],
             [
              0.8888888888888888,
              "#fdca26"
             ],
             [
              1,
              "#f0f921"
             ]
            ],
            "type": "contour"
           }
          ],
          "contourcarpet": [
           {
            "colorbar": {
             "outlinewidth": 0,
             "ticks": ""
            },
            "type": "contourcarpet"
           }
          ],
          "heatmap": [
           {
            "colorbar": {
             "outlinewidth": 0,
             "ticks": ""
            },
            "colorscale": [
             [
              0,
              "#0d0887"
             ],
             [
              0.1111111111111111,
              "#46039f"
             ],
             [
              0.2222222222222222,
              "#7201a8"
             ],
             [
              0.3333333333333333,
              "#9c179e"
             ],
             [
              0.4444444444444444,
              "#bd3786"
             ],
             [
              0.5555555555555556,
              "#d8576b"
             ],
             [
              0.6666666666666666,
              "#ed7953"
             ],
             [
              0.7777777777777778,
              "#fb9f3a"
             ],
             [
              0.8888888888888888,
              "#fdca26"
             ],
             [
              1,
              "#f0f921"
             ]
            ],
            "type": "heatmap"
           }
          ],
          "heatmapgl": [
           {
            "colorbar": {
             "outlinewidth": 0,
             "ticks": ""
            },
            "colorscale": [
             [
              0,
              "#0d0887"
             ],
             [
              0.1111111111111111,
              "#46039f"
             ],
             [
              0.2222222222222222,
              "#7201a8"
             ],
             [
              0.3333333333333333,
              "#9c179e"
             ],
             [
              0.4444444444444444,
              "#bd3786"
             ],
             [
              0.5555555555555556,
              "#d8576b"
             ],
             [
              0.6666666666666666,
              "#ed7953"
             ],
             [
              0.7777777777777778,
              "#fb9f3a"
             ],
             [
              0.8888888888888888,
              "#fdca26"
             ],
             [
              1,
              "#f0f921"
             ]
            ],
            "type": "heatmapgl"
           }
          ],
          "histogram": [
           {
            "marker": {
             "pattern": {
              "fillmode": "overlay",
              "size": 10,
              "solidity": 0.2
             }
            },
            "type": "histogram"
           }
          ],
          "histogram2d": [
           {
            "colorbar": {
             "outlinewidth": 0,
             "ticks": ""
            },
            "colorscale": [
             [
              0,
              "#0d0887"
             ],
             [
              0.1111111111111111,
              "#46039f"
             ],
             [
              0.2222222222222222,
              "#7201a8"
             ],
             [
              0.3333333333333333,
              "#9c179e"
             ],
             [
              0.4444444444444444,
              "#bd3786"
             ],
             [
              0.5555555555555556,
              "#d8576b"
             ],
             [
              0.6666666666666666,
              "#ed7953"
             ],
             [
              0.7777777777777778,
              "#fb9f3a"
             ],
             [
              0.8888888888888888,
              "#fdca26"
             ],
             [
              1,
              "#f0f921"
             ]
            ],
            "type": "histogram2d"
           }
          ],
          "histogram2dcontour": [
           {
            "colorbar": {
             "outlinewidth": 0,
             "ticks": ""
            },
            "colorscale": [
             [
              0,
              "#0d0887"
             ],
             [
              0.1111111111111111,
              "#46039f"
             ],
             [
              0.2222222222222222,
              "#7201a8"
             ],
             [
              0.3333333333333333,
              "#9c179e"
             ],
             [
              0.4444444444444444,
              "#bd3786"
             ],
             [
              0.5555555555555556,
              "#d8576b"
             ],
             [
              0.6666666666666666,
              "#ed7953"
             ],
             [
              0.7777777777777778,
              "#fb9f3a"
             ],
             [
              0.8888888888888888,
              "#fdca26"
             ],
             [
              1,
              "#f0f921"
             ]
            ],
            "type": "histogram2dcontour"
           }
          ],
          "mesh3d": [
           {
            "colorbar": {
             "outlinewidth": 0,
             "ticks": ""
            },
            "type": "mesh3d"
           }
          ],
          "parcoords": [
           {
            "line": {
             "colorbar": {
              "outlinewidth": 0,
              "ticks": ""
             }
            },
            "type": "parcoords"
           }
          ],
          "pie": [
           {
            "automargin": true,
            "type": "pie"
           }
          ],
          "scatter": [
           {
            "fillpattern": {
             "fillmode": "overlay",
             "size": 10,
             "solidity": 0.2
            },
            "type": "scatter"
           }
          ],
          "scatter3d": [
           {
            "line": {
             "colorbar": {
              "outlinewidth": 0,
              "ticks": ""
             }
            },
            "marker": {
             "colorbar": {
              "outlinewidth": 0,
              "ticks": ""
             }
            },
            "type": "scatter3d"
           }
          ],
          "scattercarpet": [
           {
            "marker": {
             "colorbar": {
              "outlinewidth": 0,
              "ticks": ""
             }
            },
            "type": "scattercarpet"
           }
          ],
          "scattergeo": [
           {
            "marker": {
             "colorbar": {
              "outlinewidth": 0,
              "ticks": ""
             }
            },
            "type": "scattergeo"
           }
          ],
          "scattergl": [
           {
            "marker": {
             "colorbar": {
              "outlinewidth": 0,
              "ticks": ""
             }
            },
            "type": "scattergl"
           }
          ],
          "scattermapbox": [
           {
            "marker": {
             "colorbar": {
              "outlinewidth": 0,
              "ticks": ""
             }
            },
            "type": "scattermapbox"
           }
          ],
          "scatterpolar": [
           {
            "marker": {
             "colorbar": {
              "outlinewidth": 0,
              "ticks": ""
             }
            },
            "type": "scatterpolar"
           }
          ],
          "scatterpolargl": [
           {
            "marker": {
             "colorbar": {
              "outlinewidth": 0,
              "ticks": ""
             }
            },
            "type": "scatterpolargl"
           }
          ],
          "scatterternary": [
           {
            "marker": {
             "colorbar": {
              "outlinewidth": 0,
              "ticks": ""
             }
            },
            "type": "scatterternary"
           }
          ],
          "surface": [
           {
            "colorbar": {
             "outlinewidth": 0,
             "ticks": ""
            },
            "colorscale": [
             [
              0,
              "#0d0887"
             ],
             [
              0.1111111111111111,
              "#46039f"
             ],
             [
              0.2222222222222222,
              "#7201a8"
             ],
             [
              0.3333333333333333,
              "#9c179e"
             ],
             [
              0.4444444444444444,
              "#bd3786"
             ],
             [
              0.5555555555555556,
              "#d8576b"
             ],
             [
              0.6666666666666666,
              "#ed7953"
             ],
             [
              0.7777777777777778,
              "#fb9f3a"
             ],
             [
              0.8888888888888888,
              "#fdca26"
             ],
             [
              1,
              "#f0f921"
             ]
            ],
            "type": "surface"
           }
          ],
          "table": [
           {
            "cells": {
             "fill": {
              "color": "#EBF0F8"
             },
             "line": {
              "color": "white"
             }
            },
            "header": {
             "fill": {
              "color": "#C8D4E3"
             },
             "line": {
              "color": "white"
             }
            },
            "type": "table"
           }
          ]
         },
         "layout": {
          "annotationdefaults": {
           "arrowcolor": "#2a3f5f",
           "arrowhead": 0,
           "arrowwidth": 1
          },
          "autotypenumbers": "strict",
          "coloraxis": {
           "colorbar": {
            "outlinewidth": 0,
            "ticks": ""
           }
          },
          "colorscale": {
           "diverging": [
            [
             0,
             "#8e0152"
            ],
            [
             0.1,
             "#c51b7d"
            ],
            [
             0.2,
             "#de77ae"
            ],
            [
             0.3,
             "#f1b6da"
            ],
            [
             0.4,
             "#fde0ef"
            ],
            [
             0.5,
             "#f7f7f7"
            ],
            [
             0.6,
             "#e6f5d0"
            ],
            [
             0.7,
             "#b8e186"
            ],
            [
             0.8,
             "#7fbc41"
            ],
            [
             0.9,
             "#4d9221"
            ],
            [
             1,
             "#276419"
            ]
           ],
           "sequential": [
            [
             0,
             "#0d0887"
            ],
            [
             0.1111111111111111,
             "#46039f"
            ],
            [
             0.2222222222222222,
             "#7201a8"
            ],
            [
             0.3333333333333333,
             "#9c179e"
            ],
            [
             0.4444444444444444,
             "#bd3786"
            ],
            [
             0.5555555555555556,
             "#d8576b"
            ],
            [
             0.6666666666666666,
             "#ed7953"
            ],
            [
             0.7777777777777778,
             "#fb9f3a"
            ],
            [
             0.8888888888888888,
             "#fdca26"
            ],
            [
             1,
             "#f0f921"
            ]
           ],
           "sequentialminus": [
            [
             0,
             "#0d0887"
            ],
            [
             0.1111111111111111,
             "#46039f"
            ],
            [
             0.2222222222222222,
             "#7201a8"
            ],
            [
             0.3333333333333333,
             "#9c179e"
            ],
            [
             0.4444444444444444,
             "#bd3786"
            ],
            [
             0.5555555555555556,
             "#d8576b"
            ],
            [
             0.6666666666666666,
             "#ed7953"
            ],
            [
             0.7777777777777778,
             "#fb9f3a"
            ],
            [
             0.8888888888888888,
             "#fdca26"
            ],
            [
             1,
             "#f0f921"
            ]
           ]
          },
          "colorway": [
           "#636efa",
           "#EF553B",
           "#00cc96",
           "#ab63fa",
           "#FFA15A",
           "#19d3f3",
           "#FF6692",
           "#B6E880",
           "#FF97FF",
           "#FECB52"
          ],
          "font": {
           "color": "#2a3f5f"
          },
          "geo": {
           "bgcolor": "white",
           "lakecolor": "white",
           "landcolor": "#E5ECF6",
           "showlakes": true,
           "showland": true,
           "subunitcolor": "white"
          },
          "hoverlabel": {
           "align": "left"
          },
          "hovermode": "closest",
          "mapbox": {
           "style": "light"
          },
          "paper_bgcolor": "white",
          "plot_bgcolor": "#E5ECF6",
          "polar": {
           "angularaxis": {
            "gridcolor": "white",
            "linecolor": "white",
            "ticks": ""
           },
           "bgcolor": "#E5ECF6",
           "radialaxis": {
            "gridcolor": "white",
            "linecolor": "white",
            "ticks": ""
           }
          },
          "scene": {
           "xaxis": {
            "backgroundcolor": "#E5ECF6",
            "gridcolor": "white",
            "gridwidth": 2,
            "linecolor": "white",
            "showbackground": true,
            "ticks": "",
            "zerolinecolor": "white"
           },
           "yaxis": {
            "backgroundcolor": "#E5ECF6",
            "gridcolor": "white",
            "gridwidth": 2,
            "linecolor": "white",
            "showbackground": true,
            "ticks": "",
            "zerolinecolor": "white"
           },
           "zaxis": {
            "backgroundcolor": "#E5ECF6",
            "gridcolor": "white",
            "gridwidth": 2,
            "linecolor": "white",
            "showbackground": true,
            "ticks": "",
            "zerolinecolor": "white"
           }
          },
          "shapedefaults": {
           "line": {
            "color": "#2a3f5f"
           }
          },
          "ternary": {
           "aaxis": {
            "gridcolor": "white",
            "linecolor": "white",
            "ticks": ""
           },
           "baxis": {
            "gridcolor": "white",
            "linecolor": "white",
            "ticks": ""
           },
           "bgcolor": "#E5ECF6",
           "caxis": {
            "gridcolor": "white",
            "linecolor": "white",
            "ticks": ""
           }
          },
          "title": {
           "x": 0.05
          },
          "xaxis": {
           "automargin": true,
           "gridcolor": "white",
           "linecolor": "white",
           "ticks": "",
           "title": {
            "standoff": 15
           },
           "zerolinecolor": "white",
           "zerolinewidth": 2
          },
          "yaxis": {
           "automargin": true,
           "gridcolor": "white",
           "linecolor": "white",
           "ticks": "",
           "title": {
            "standoff": 15
           },
           "zerolinecolor": "white",
           "zerolinewidth": 2
          }
         }
        },
        "title": {
         "text": "Relación entre $x$ y $y$"
        },
        "xaxis": {
         "anchor": "y",
         "domain": [
          0,
          1
         ],
         "title": {
          "text": "tendencia de x hacia -3"
         }
        },
        "yaxis": {
         "anchor": "x",
         "domain": [
          0,
          1
         ],
         "title": {
          "text": "tendencia de y"
         }
        }
       }
      },
      "text/html": [
       "<div>                            <div id=\"c926ac08-e106-4f70-b29c-f891c858ba01\" class=\"plotly-graph-div\" style=\"height:525px; width:100%;\"></div>            <script type=\"text/javascript\">                require([\"plotly\"], function(Plotly) {                    window.PLOTLYENV=window.PLOTLYENV || {};                                    if (document.getElementById(\"c926ac08-e106-4f70-b29c-f891c858ba01\")) {                    Plotly.newPlot(                        \"c926ac08-e106-4f70-b29c-f891c858ba01\",                        [{\"hovertemplate\":\"tendencia de x hacia -3=%{x}<br>tendencia de y=%{y}<extra></extra>\",\"legendgroup\":\"\",\"line\":{\"color\":\"#636efa\",\"dash\":\"solid\"},\"marker\":{\"symbol\":\"circle\"},\"mode\":\"lines\",\"name\":\"\",\"orientation\":\"v\",\"showlegend\":false,\"x\":[-3.1,-3.01,-3.001,-2.999,-2.99,-2.9],\"xaxis\":\"x\",\"y\":[0.8360655737704927,0.8336106489184686,0.8333611064823309,0.8333055509252243,0.8330550918197002,0.8305084745762717],\"yaxis\":\"y\",\"type\":\"scatter\"}],                        {\"template\":{\"data\":{\"histogram2dcontour\":[{\"type\":\"histogram2dcontour\",\"colorbar\":{\"outlinewidth\":0,\"ticks\":\"\"},\"colorscale\":[[0.0,\"#0d0887\"],[0.1111111111111111,\"#46039f\"],[0.2222222222222222,\"#7201a8\"],[0.3333333333333333,\"#9c179e\"],[0.4444444444444444,\"#bd3786\"],[0.5555555555555556,\"#d8576b\"],[0.6666666666666666,\"#ed7953\"],[0.7777777777777778,\"#fb9f3a\"],[0.8888888888888888,\"#fdca26\"],[1.0,\"#f0f921\"]]}],\"choropleth\":[{\"type\":\"choropleth\",\"colorbar\":{\"outlinewidth\":0,\"ticks\":\"\"}}],\"histogram2d\":[{\"type\":\"histogram2d\",\"colorbar\":{\"outlinewidth\":0,\"ticks\":\"\"},\"colorscale\":[[0.0,\"#0d0887\"],[0.1111111111111111,\"#46039f\"],[0.2222222222222222,\"#7201a8\"],[0.3333333333333333,\"#9c179e\"],[0.4444444444444444,\"#bd3786\"],[0.5555555555555556,\"#d8576b\"],[0.6666666666666666,\"#ed7953\"],[0.7777777777777778,\"#fb9f3a\"],[0.8888888888888888,\"#fdca26\"],[1.0,\"#f0f921\"]]}],\"heatmap\":[{\"type\":\"heatmap\",\"colorbar\":{\"outlinewidth\":0,\"ticks\":\"\"},\"colorscale\":[[0.0,\"#0d0887\"],[0.1111111111111111,\"#46039f\"],[0.2222222222222222,\"#7201a8\"],[0.3333333333333333,\"#9c179e\"],[0.4444444444444444,\"#bd3786\"],[0.5555555555555556,\"#d8576b\"],[0.6666666666666666,\"#ed7953\"],[0.7777777777777778,\"#fb9f3a\"],[0.8888888888888888,\"#fdca26\"],[1.0,\"#f0f921\"]]}],\"heatmapgl\":[{\"type\":\"heatmapgl\",\"colorbar\":{\"outlinewidth\":0,\"ticks\":\"\"},\"colorscale\":[[0.0,\"#0d0887\"],[0.1111111111111111,\"#46039f\"],[0.2222222222222222,\"#7201a8\"],[0.3333333333333333,\"#9c179e\"],[0.4444444444444444,\"#bd3786\"],[0.5555555555555556,\"#d8576b\"],[0.6666666666666666,\"#ed7953\"],[0.7777777777777778,\"#fb9f3a\"],[0.8888888888888888,\"#fdca26\"],[1.0,\"#f0f921\"]]}],\"contourcarpet\":[{\"type\":\"contourcarpet\",\"colorbar\":{\"outlinewidth\":0,\"ticks\":\"\"}}],\"contour\":[{\"type\":\"contour\",\"colorbar\":{\"outlinewidth\":0,\"ticks\":\"\"},\"colorscale\":[[0.0,\"#0d0887\"],[0.1111111111111111,\"#46039f\"],[0.2222222222222222,\"#7201a8\"],[0.3333333333333333,\"#9c179e\"],[0.4444444444444444,\"#bd3786\"],[0.5555555555555556,\"#d8576b\"],[0.6666666666666666,\"#ed7953\"],[0.7777777777777778,\"#fb9f3a\"],[0.8888888888888888,\"#fdca26\"],[1.0,\"#f0f921\"]]}],\"surface\":[{\"type\":\"surface\",\"colorbar\":{\"outlinewidth\":0,\"ticks\":\"\"},\"colorscale\":[[0.0,\"#0d0887\"],[0.1111111111111111,\"#46039f\"],[0.2222222222222222,\"#7201a8\"],[0.3333333333333333,\"#9c179e\"],[0.4444444444444444,\"#bd3786\"],[0.5555555555555556,\"#d8576b\"],[0.6666666666666666,\"#ed7953\"],[0.7777777777777778,\"#fb9f3a\"],[0.8888888888888888,\"#fdca26\"],[1.0,\"#f0f921\"]]}],\"mesh3d\":[{\"type\":\"mesh3d\",\"colorbar\":{\"outlinewidth\":0,\"ticks\":\"\"}}],\"scatter\":[{\"fillpattern\":{\"fillmode\":\"overlay\",\"size\":10,\"solidity\":0.2},\"type\":\"scatter\"}],\"parcoords\":[{\"type\":\"parcoords\",\"line\":{\"colorbar\":{\"outlinewidth\":0,\"ticks\":\"\"}}}],\"scatterpolargl\":[{\"type\":\"scatterpolargl\",\"marker\":{\"colorbar\":{\"outlinewidth\":0,\"ticks\":\"\"}}}],\"bar\":[{\"error_x\":{\"color\":\"#2a3f5f\"},\"error_y\":{\"color\":\"#2a3f5f\"},\"marker\":{\"line\":{\"color\":\"#E5ECF6\",\"width\":0.5},\"pattern\":{\"fillmode\":\"overlay\",\"size\":10,\"solidity\":0.2}},\"type\":\"bar\"}],\"scattergeo\":[{\"type\":\"scattergeo\",\"marker\":{\"colorbar\":{\"outlinewidth\":0,\"ticks\":\"\"}}}],\"scatterpolar\":[{\"type\":\"scatterpolar\",\"marker\":{\"colorbar\":{\"outlinewidth\":0,\"ticks\":\"\"}}}],\"histogram\":[{\"marker\":{\"pattern\":{\"fillmode\":\"overlay\",\"size\":10,\"solidity\":0.2}},\"type\":\"histogram\"}],\"scattergl\":[{\"type\":\"scattergl\",\"marker\":{\"colorbar\":{\"outlinewidth\":0,\"ticks\":\"\"}}}],\"scatter3d\":[{\"type\":\"scatter3d\",\"line\":{\"colorbar\":{\"outlinewidth\":0,\"ticks\":\"\"}},\"marker\":{\"colorbar\":{\"outlinewidth\":0,\"ticks\":\"\"}}}],\"scattermapbox\":[{\"type\":\"scattermapbox\",\"marker\":{\"colorbar\":{\"outlinewidth\":0,\"ticks\":\"\"}}}],\"scatterternary\":[{\"type\":\"scatterternary\",\"marker\":{\"colorbar\":{\"outlinewidth\":0,\"ticks\":\"\"}}}],\"scattercarpet\":[{\"type\":\"scattercarpet\",\"marker\":{\"colorbar\":{\"outlinewidth\":0,\"ticks\":\"\"}}}],\"carpet\":[{\"aaxis\":{\"endlinecolor\":\"#2a3f5f\",\"gridcolor\":\"white\",\"linecolor\":\"white\",\"minorgridcolor\":\"white\",\"startlinecolor\":\"#2a3f5f\"},\"baxis\":{\"endlinecolor\":\"#2a3f5f\",\"gridcolor\":\"white\",\"linecolor\":\"white\",\"minorgridcolor\":\"white\",\"startlinecolor\":\"#2a3f5f\"},\"type\":\"carpet\"}],\"table\":[{\"cells\":{\"fill\":{\"color\":\"#EBF0F8\"},\"line\":{\"color\":\"white\"}},\"header\":{\"fill\":{\"color\":\"#C8D4E3\"},\"line\":{\"color\":\"white\"}},\"type\":\"table\"}],\"barpolar\":[{\"marker\":{\"line\":{\"color\":\"#E5ECF6\",\"width\":0.5},\"pattern\":{\"fillmode\":\"overlay\",\"size\":10,\"solidity\":0.2}},\"type\":\"barpolar\"}],\"pie\":[{\"automargin\":true,\"type\":\"pie\"}]},\"layout\":{\"autotypenumbers\":\"strict\",\"colorway\":[\"#636efa\",\"#EF553B\",\"#00cc96\",\"#ab63fa\",\"#FFA15A\",\"#19d3f3\",\"#FF6692\",\"#B6E880\",\"#FF97FF\",\"#FECB52\"],\"font\":{\"color\":\"#2a3f5f\"},\"hovermode\":\"closest\",\"hoverlabel\":{\"align\":\"left\"},\"paper_bgcolor\":\"white\",\"plot_bgcolor\":\"#E5ECF6\",\"polar\":{\"bgcolor\":\"#E5ECF6\",\"angularaxis\":{\"gridcolor\":\"white\",\"linecolor\":\"white\",\"ticks\":\"\"},\"radialaxis\":{\"gridcolor\":\"white\",\"linecolor\":\"white\",\"ticks\":\"\"}},\"ternary\":{\"bgcolor\":\"#E5ECF6\",\"aaxis\":{\"gridcolor\":\"white\",\"linecolor\":\"white\",\"ticks\":\"\"},\"baxis\":{\"gridcolor\":\"white\",\"linecolor\":\"white\",\"ticks\":\"\"},\"caxis\":{\"gridcolor\":\"white\",\"linecolor\":\"white\",\"ticks\":\"\"}},\"coloraxis\":{\"colorbar\":{\"outlinewidth\":0,\"ticks\":\"\"}},\"colorscale\":{\"sequential\":[[0.0,\"#0d0887\"],[0.1111111111111111,\"#46039f\"],[0.2222222222222222,\"#7201a8\"],[0.3333333333333333,\"#9c179e\"],[0.4444444444444444,\"#bd3786\"],[0.5555555555555556,\"#d8576b\"],[0.6666666666666666,\"#ed7953\"],[0.7777777777777778,\"#fb9f3a\"],[0.8888888888888888,\"#fdca26\"],[1.0,\"#f0f921\"]],\"sequentialminus\":[[0.0,\"#0d0887\"],[0.1111111111111111,\"#46039f\"],[0.2222222222222222,\"#7201a8\"],[0.3333333333333333,\"#9c179e\"],[0.4444444444444444,\"#bd3786\"],[0.5555555555555556,\"#d8576b\"],[0.6666666666666666,\"#ed7953\"],[0.7777777777777778,\"#fb9f3a\"],[0.8888888888888888,\"#fdca26\"],[1.0,\"#f0f921\"]],\"diverging\":[[0,\"#8e0152\"],[0.1,\"#c51b7d\"],[0.2,\"#de77ae\"],[0.3,\"#f1b6da\"],[0.4,\"#fde0ef\"],[0.5,\"#f7f7f7\"],[0.6,\"#e6f5d0\"],[0.7,\"#b8e186\"],[0.8,\"#7fbc41\"],[0.9,\"#4d9221\"],[1,\"#276419\"]]},\"xaxis\":{\"gridcolor\":\"white\",\"linecolor\":\"white\",\"ticks\":\"\",\"title\":{\"standoff\":15},\"zerolinecolor\":\"white\",\"automargin\":true,\"zerolinewidth\":2},\"yaxis\":{\"gridcolor\":\"white\",\"linecolor\":\"white\",\"ticks\":\"\",\"title\":{\"standoff\":15},\"zerolinecolor\":\"white\",\"automargin\":true,\"zerolinewidth\":2},\"scene\":{\"xaxis\":{\"backgroundcolor\":\"#E5ECF6\",\"gridcolor\":\"white\",\"linecolor\":\"white\",\"showbackground\":true,\"ticks\":\"\",\"zerolinecolor\":\"white\",\"gridwidth\":2},\"yaxis\":{\"backgroundcolor\":\"#E5ECF6\",\"gridcolor\":\"white\",\"linecolor\":\"white\",\"showbackground\":true,\"ticks\":\"\",\"zerolinecolor\":\"white\",\"gridwidth\":2},\"zaxis\":{\"backgroundcolor\":\"#E5ECF6\",\"gridcolor\":\"white\",\"linecolor\":\"white\",\"showbackground\":true,\"ticks\":\"\",\"zerolinecolor\":\"white\",\"gridwidth\":2}},\"shapedefaults\":{\"line\":{\"color\":\"#2a3f5f\"}},\"annotationdefaults\":{\"arrowcolor\":\"#2a3f5f\",\"arrowhead\":0,\"arrowwidth\":1},\"geo\":{\"bgcolor\":\"white\",\"landcolor\":\"#E5ECF6\",\"subunitcolor\":\"white\",\"showland\":true,\"showlakes\":true,\"lakecolor\":\"white\"},\"title\":{\"x\":0.05},\"mapbox\":{\"style\":\"light\"}}},\"xaxis\":{\"anchor\":\"y\",\"domain\":[0.0,1.0],\"title\":{\"text\":\"tendencia de x hacia -3\"}},\"yaxis\":{\"anchor\":\"x\",\"domain\":[0.0,1.0],\"title\":{\"text\":\"tendencia de y\"}},\"legend\":{\"tracegroupgap\":0},\"title\":{\"text\":\"Relaci\\u00f3n entre $x$ y $y$\"}},                        {\"responsive\": true}                    ).then(function(){\n",
       "                            \n",
       "var gd = document.getElementById('c926ac08-e106-4f70-b29c-f891c858ba01');\n",
       "var x = new MutationObserver(function (mutations, observer) {{\n",
       "        var display = window.getComputedStyle(gd).display;\n",
       "        if (!display || display === 'none') {{\n",
       "            console.log([gd, 'removed!']);\n",
       "            Plotly.purge(gd);\n",
       "            observer.disconnect();\n",
       "        }}\n",
       "}});\n",
       "\n",
       "// Listen for the removal of the full notebook cells\n",
       "var notebookContainer = gd.closest('#notebook-container');\n",
       "if (notebookContainer) {{\n",
       "    x.observe(notebookContainer, {childList: true});\n",
       "}}\n",
       "\n",
       "// Listen for the clearing of the current output cell\n",
       "var outputEl = gd.closest('.output');\n",
       "if (outputEl) {{\n",
       "    x.observe(outputEl, {childList: true});\n",
       "}}\n",
       "\n",
       "                        })                };                });            </script>        </div>"
      ]
     },
     "metadata": {},
     "output_type": "display_data"
    }
   ],
   "source": [
    "import pandas as pd \n",
    "import plotly.express as px\n",
    "fig = px.line(tabla,x = tabla.keys()[0], y = tabla.keys()[1],\\\n",
    "              title=r'Relación entre $x$ y $y$')\n",
    "\n",
    "\n",
    "fig.show()\n",
    "\n",
    "fig.write_html('relacion_entre_x_e_y.html', auto_open=True)"
   ]
  },
  {
   "cell_type": "markdown",
   "id": "c8dda976",
   "metadata": {
    "slideshow": {
     "slide_type": "slide"
    }
   },
   "source": [
    "## Determinación del límite de manera analítica"
   ]
  },
  {
   "cell_type": "markdown",
   "id": "f5bcf878",
   "metadata": {
    "slideshow": {
     "slide_type": "slide"
    }
   },
   "source": []
  },
  {
   "cell_type": "markdown",
   "id": "48131ab8",
   "metadata": {
    "slideshow": {
     "slide_type": "slide"
    }
   },
   "source": [
    "\\begin{align*}\n",
    "\\lim_{x \\to -3} \\frac{x^{2} + x - 6}{x^{2} - 9} & = \n",
    "\\end{align*}"
   ]
  },
  {
   "cell_type": "markdown",
   "id": "bcc1b3da",
   "metadata": {
    "slideshow": {
     "slide_type": "slide"
    }
   },
   "source": [
    "¿Cómo se factoriza un trinomio de la forma $x^{2} + bx + c$?"
   ]
  },
  {
   "cell_type": "code",
   "execution_count": null,
   "id": "dc015f8d",
   "metadata": {
    "slideshow": {
     "slide_type": "slide"
    }
   },
   "outputs": [],
   "source": []
  },
  {
   "cell_type": "code",
   "execution_count": null,
   "id": "04046632",
   "metadata": {},
   "outputs": [],
   "source": []
  },
  {
   "cell_type": "markdown",
   "id": "f77c3183",
   "metadata": {
    "slideshow": {
     "slide_type": "slide"
    }
   },
   "source": [
    "## Tareas o actividades fuera de la clase"
   ]
  },
  {
   "cell_type": "markdown",
   "id": "1bbab9cf",
   "metadata": {
    "slideshow": {
     "slide_type": "slide"
    }
   },
   "source": [
    "* Determinar tendencias o aproximaciones con pandas y con matplotlib y de manera analítica. \n",
    "\n",
    "* determinar el límite de manera puntual, tabular y gráfica con excel. \n",
    "\n",
    "$$ \\lim_{x \\to } \\frac{}{}  $$"
   ]
  },
  {
   "cell_type": "markdown",
   "id": "ae70773c",
   "metadata": {
    "slideshow": {
     "slide_type": "slide"
    }
   },
   "source": [
    "## Cuestionario para resolver fuera de clase  (estimula las actividades cognitivas de memorización)\n",
    "\n",
    "1. ¿Qué se entiende por límite de una función en $x = c$. \n",
    "2. ¿Qué es una función polinómica y de 4 ejemplos de funciones de diferente grado?.\n",
    "3. ¿Qués es factorizar? \n",
    "\n",
    "Factorizar es expresar como multiplicación\n",
    "\n",
    "$$16 = 8(2) $$\n",
    "\n",
    "$$ x^{2} - 4 = (x+2)(x-2)$$\n"
   ]
  },
  {
   "cell_type": "markdown",
   "id": "4c87608e",
   "metadata": {},
   "source": [
    "\n",
    "4. ¿Cuales son los casos de factorización?\n",
    "\n",
    "* Factor común $x + x^{2} = x (1 + x)$"
   ]
  },
  {
   "cell_type": "markdown",
   "id": "ade02130",
   "metadata": {},
   "source": [
    "5. ¿Qué es una función polinómica?\n",
    "\n",
    "son las que se definen a través de sumas y multiplicaciones. "
   ]
  },
  {
   "cell_type": "markdown",
   "id": "5c5f96a5",
   "metadata": {},
   "source": [
    "6. ¿Qué es una función racional? y de ejemplos\n",
    "es una función definida como un cociente o división de polinomios. \n",
    "$$ \\frac{1}{x} $$\n",
    "\n",
    "\n",
    "es un cociente de polinomios."
   ]
  },
  {
   "cell_type": "markdown",
   "id": "c9fda22a",
   "metadata": {},
   "source": [
    "7. ¿Cómo se factoriza una diferencia de cuadrados?\n",
    "\n",
    "Como la suma por la diferencia de las raices de los cuadrados. "
   ]
  },
  {
   "cell_type": "markdown",
   "id": "d5129701",
   "metadata": {},
   "source": [
    "8. ¿Cómo se factoriza un trinomio de la forma $x^{2} + bx + c$?  "
   ]
  },
  {
   "cell_type": "markdown",
   "id": "37049196",
   "metadata": {
    "slideshow": {
     "slide_type": "slide"
    }
   },
   "source": [
    "9. Cómo se suman fracciones\n",
    "\n",
    "$$ \\frac{a}{b} + \\frac{c}{d}  = \\frac{ad +  bc}{bd}$$\n",
    "\n",
    "con el método de la carita feliz. o en x. "
   ]
  },
  {
   "cell_type": "markdown",
   "id": "6a4bd3aa",
   "metadata": {
    "slideshow": {
     "slide_type": "slide"
    }
   },
   "source": [
    "10. Cómo se amplifican fracciones?\n",
    "\n",
    "Se multiplica arriba y abajo por lo mismo, es decir\n",
    "\n",
    "$$ \\frac{a}{b} = \\frac{an}{bn}   $$"
   ]
  },
  {
   "cell_type": "markdown",
   "id": "dd2408df",
   "metadata": {
    "slideshow": {
     "slide_type": "slide"
    }
   },
   "source": [
    "11. ¿Cómo se simplifican fracciones?\n",
    "\n",
    "$$ \\frac{a}{b} = \\frac{a/c}{b/c} $$"
   ]
  },
  {
   "cell_type": "markdown",
   "id": "436eb57c",
   "metadata": {
    "slideshow": {
     "slide_type": "slide"
    }
   },
   "source": [
    "##  Vocabulary  \n",
    "\n",
    "* limit: límite.\n",
    "* scatter: gráfico de dispersión. "
   ]
  },
  {
   "cell_type": "markdown",
   "id": "118abe95",
   "metadata": {
    "slideshow": {
     "slide_type": "slide"
    }
   },
   "source": [
    "## Evalución al profesor [Marco](https://forms.office.com/Pages/ResponsePage.aspx?id=IefhmYRxjkmK_7KtTlPBwkanXIs1i1FEujpsZgO6dXpUREJPV1kxUk1JV1ozTFJIQVNIQjY5WEY3US4u)\n",
    "\n"
   ]
  },
  {
   "cell_type": "markdown",
   "id": "b5bae319",
   "metadata": {
    "slideshow": {
     "slide_type": "slide"
    }
   },
   "source": [
    "## Referentes  \n",
    "\n",
    "* [Larson, Ron. Edwards, Bruce H. Cálculo. Novena edición. McGrawHill](https://udeaeduco-my.sharepoint.com/:b:/g/personal/marco_canas_udea_edu_co/EelvUuuDvaVAmJUCFE-XNicB_MPrWZfrqbpx7USTUovKUQ?e=QG0U29). Página 78. \n",
    "\n",
    "* [calculus of sympy](https://docs.sympy.org/latest/tutorials/intro-tutorial/calculus.html). \n",
    "\n",
    "* plotly para gráficos animados: https://plotly.com/python/getting-started/"
   ]
  },
  {
   "cell_type": "code",
   "execution_count": null,
   "id": "f834fccf",
   "metadata": {},
   "outputs": [],
   "source": []
  },
  {
   "cell_type": "markdown",
   "id": "c0d6568a",
   "metadata": {
    "slideshow": {
     "slide_type": "slide"
    }
   },
   "source": [
    "## Apéndice\n",
    "\n",
    "[Calculus](https://docs.sympy.org/latest/tutorials/intro-tutorial/calculus.html)\n",
    "This section covers how to do basic calculus tasks such as derivatives, integrals, limits, and series expansions in SymPy. If you are not familiar with the math of any part of this section, you may safely skip it."
   ]
  },
  {
   "cell_type": "code",
   "execution_count": 14,
   "id": "2cdc7015",
   "metadata": {
    "slideshow": {
     "slide_type": "slide"
    }
   },
   "outputs": [],
   "source": [
    "from sympy import *\n",
    "x, y, z = symbols('x y z')\n",
    "init_printing(use_unicode=True)"
   ]
  },
  {
   "cell_type": "markdown",
   "id": "75e3cf66",
   "metadata": {
    "slideshow": {
     "slide_type": "slide"
    }
   },
   "source": [
    "Derivatives\n",
    "To take derivatives, use the diff function."
   ]
  },
  {
   "cell_type": "code",
   "execution_count": 15,
   "id": "1037b306",
   "metadata": {
    "slideshow": {
     "slide_type": "slide"
    }
   },
   "outputs": [
    {
     "data": {
      "text/latex": [
       "$\\displaystyle - \\sin{\\left(x \\right)}$"
      ],
      "text/plain": [
       "-sin(x)"
      ]
     },
     "execution_count": 15,
     "metadata": {},
     "output_type": "execute_result"
    }
   ],
   "source": [
    "diff(cos(x), x)"
   ]
  },
  {
   "cell_type": "code",
   "execution_count": 16,
   "id": "a5ca9a14",
   "metadata": {
    "slideshow": {
     "slide_type": "slide"
    }
   },
   "outputs": [
    {
     "data": {
      "text/latex": [
       "$\\displaystyle 2 x e^{x^{2}}$"
      ],
      "text/plain": [
       "     ⎛ 2⎞\n",
       "     ⎝x ⎠\n",
       "2⋅x⋅ℯ    "
      ]
     },
     "execution_count": 16,
     "metadata": {},
     "output_type": "execute_result"
    }
   ],
   "source": [
    "diff(exp(x**2), x)"
   ]
  },
  {
   "cell_type": "code",
   "execution_count": 17,
   "id": "e25aa32a",
   "metadata": {
    "slideshow": {
     "slide_type": "slide"
    }
   },
   "outputs": [
    {
     "data": {
      "text/latex": [
       "$\\displaystyle 0$"
      ],
      "text/plain": [
       "0"
      ]
     },
     "execution_count": 17,
     "metadata": {},
     "output_type": "execute_result"
    }
   ],
   "source": [
    "diff(1, x)"
   ]
  },
  {
   "cell_type": "code",
   "execution_count": null,
   "id": "8be2311c",
   "metadata": {},
   "outputs": [],
   "source": []
  },
  {
   "cell_type": "code",
   "execution_count": null,
   "id": "f9d285e7",
   "metadata": {
    "slideshow": {
     "slide_type": "slide"
    }
   },
   "outputs": [],
   "source": []
  },
  {
   "cell_type": "code",
   "execution_count": null,
   "id": "4b2e33da",
   "metadata": {},
   "outputs": [],
   "source": []
  },
  {
   "cell_type": "markdown",
   "id": "5968f046",
   "metadata": {
    "slideshow": {
     "slide_type": "slide"
    }
   },
   "source": [
    "# Limits\n",
    "\n",
    "SymPy can compute symbolic limits with the limit function. The syntax to compute\n",
    "\n",
    "$$\\lim_{x \\to x0}f(x) $$\n",
    "\n",
    "\n",
    "\n",
    "is `limit(f(x), x, x0)`."
   ]
  },
  {
   "cell_type": "markdown",
   "id": "529e8fb3",
   "metadata": {
    "slideshow": {
     "slide_type": "slide"
    }
   },
   "source": [
    "## [Continue con su formación en cálculo diferencial a través de este vínculo](https://github.com/marco-canas/2_calculo_I/blob/main/classes/3_class_marzo_10_quiz_1/3_class_march_10_limites.ipynb)"
   ]
  },
  {
   "cell_type": "code",
   "execution_count": null,
   "id": "17d2a316",
   "metadata": {},
   "outputs": [],
   "source": []
  }
 ],
 "metadata": {
  "celltoolbar": "Slideshow",
  "kernelspec": {
   "display_name": "Python 3 (ipykernel)",
   "language": "python",
   "name": "python3"
  },
  "language_info": {
   "codemirror_mode": {
    "name": "ipython",
    "version": 3
   },
   "file_extension": ".py",
   "mimetype": "text/x-python",
   "name": "python",
   "nbconvert_exporter": "python",
   "pygments_lexer": "ipython3",
   "version": "3.9.13"
  },
  "rise": {
   "enable_chalboard": true,
   "theme": "sky"
  },
  "vscode": {
   "interpreter": {
    "hash": "ae115c8122ba000a648ea691cf086e95841d767d998fc7ed45e791bf48fd755e"
   }
  }
 },
 "nbformat": 4,
 "nbformat_minor": 5
}
