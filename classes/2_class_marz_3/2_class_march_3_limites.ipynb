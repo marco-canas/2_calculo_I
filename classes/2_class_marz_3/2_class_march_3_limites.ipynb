{
 "cells": [
  {
   "cell_type": "markdown",
   "id": "1568f004",
   "metadata": {
    "slideshow": {
     "slide_type": "slide"
    }
   },
   "source": [
    "<table align=\"left\">\n",
    "  <td>\n",
    "    <a href=\"https://colab.research.google.com/github/marco-canas/calculo_I/blob/main/classes/2_class_feb_24_.ipynb\" target=\"_parent\"><img src=\"https://colab.research.google.com/assets/colab-badge.svg\" alt=\"Open In Colab\"/></a>\n",
    "  </td>\n",
    "</table>"
   ]
  },
  {
   "cell_type": "markdown",
   "id": "9225b8ef",
   "metadata": {
    "slideshow": {
     "slide_type": "slide"
    }
   },
   "source": [
    "## [Video de apoyo a la lectura interactiva y experimental de este cuaderno]()"
   ]
  },
  {
   "cell_type": "markdown",
   "id": "1660635d",
   "metadata": {
    "slideshow": {
     "slide_type": "slide"
    }
   },
   "source": [
    "# Clase 2 de Febrero 24 de 2023\n",
    "\n",
    "## Funciones y límite de funciones\n",
    "\n",
    "* Libro guía [Larson](https://udeaeduco-my.sharepoint.com/:b:/r/personal/marco_canas_udea_edu_co/Documents/plan_trabajo/ref/larson.pdf?csf=1&web=1&e=GK5KDX) o \n",
    "* [Stewart](https://udeaeduco-my.sharepoint.com/:b:/g/personal/marco_canas_udea_edu_co/EZgXZjAp8QxPqOAim2hs6LcBNPLGjSHf-xwYnUVYkwa04w?e=dQpV5c)"
   ]
  },
  {
   "cell_type": "markdown",
   "id": "4d550c19",
   "metadata": {},
   "source": [
    "## Horario propuesto de la clase de Cálculo para Ingeniería Agropecuaria\n",
    "\n",
    "Viernes de 7 AM a 12 M. "
   ]
  },
  {
   "cell_type": "markdown",
   "id": "6d7db52f",
   "metadata": {
    "slideshow": {
     "slide_type": "slide"
    }
   },
   "source": [
    "Modelo pedagógico seguido en las clase: [Aula invertida](https://udeaeduco-my.sharepoint.com/:b:/g/personal/marco_canas_udea_edu_co/EelvUuuDvaVAmJUCFE-XNicB_MPrWZfrqbpx7USTUovKUQ?e=QG0U29)  \n",
    "\n",
    "## El modelo flipped classroom \n",
    "\n",
    "### RESUMEN\n",
    "El modelo de clase tradicional, donde el alumnado permanece con una actitud pasiva, y senta\u0002do en sus pupitres escuchando la lección, está siendo sustituido por nuevas metodologías de ense\u0002ñanza-aprendizaje, por un amplio sector de profesionales. Cada vez son más aquellas personas que\n",
    "ponen en duda su eficacia y opinan que se precisan metodologías innovadoras, que resulten más\n",
    "motivadoras al alumnado, donde participe activamente en la construcción del conocimiento y cons\u0002tituya un modelo que atienda a las necesidades particulares de cada individuo.\n",
    "En esta investigación nos centraremos en un nuevo e innovador modelo: El modelo Flipped\n",
    "Classroom, o “aula invertida”. Dicho modelo es cada vez más usado por aquellos docentes que atri\u0002buyen al modelo tradicional de enseñanza muchos déficits y que han dado el salto a una total “inver\u0002sión” o cambio de esencia a sus clases.  "
   ]
  },
  {
   "cell_type": "markdown",
   "id": "51db3077",
   "metadata": {
    "slideshow": {
     "slide_type": "slide"
    }
   },
   "source": [
    "### INTRODUCCIÓN"
   ]
  },
  {
   "cell_type": "markdown",
   "id": "35856b2b",
   "metadata": {
    "slideshow": {
     "slide_type": "slide"
    }
   },
   "source": [
    "Una de las principales aportaciones de las Tecnología de la Información y la Comunicación (TIC)\n",
    "a la educación, especialmente en los últimos años con la puesta en escena de aplicaciones y herramientas de la llamada Web 2.0, han sido las distintas posibilidades que aparecen en el ámbito del\n",
    "aprendizaje formal e informal en entornos abiertos y flexibles (Tucker, 2012). El modelo tradicional,\n",
    "el que bien conoce nuestra sociedad, podría resumirse en la visión de que los alumnos asisten a las\n",
    "lecciones que los profesores imparten y, en casa, realizan los deberes que les hayan sido asignados\n",
    "en clase (Bergmann y Sams, 2012)."
   ]
  },
  {
   "cell_type": "markdown",
   "id": "51d7af50",
   "metadata": {
    "slideshow": {
     "slide_type": "slide"
    }
   },
   "source": [
    "“El aula invertida o flipped classroom es un método de enseñanza cuyo principal objetivo es que\n",
    "el alumno/a asuma un rol mucho más activo en su proceso de aprendizaje que el que venía ocupando tradicionalmente” (Berenguer, 2016: 1466). En definitiva, supone una inversión con el método anterior (Wasserman, Quint, Norris y Carr 2017), donde los alumnos y alumnas estudiarán por\n",
    "sí mismos los conceptos teóricos que el docente les facilite y el tiempo de clase será aprovechado\n",
    "para resolver dudas, realizar prácticas e iniciar debates relevantes con el contenido. Una reflexión\n",
    "relevante sería la de la autora Esteve (2016), que cita:\n",
    "“En cualquier oficio, si uno va trabajando y analizando lo que hace bien, lo que hace mal y va\n",
    "limpiando, irá mejorando. Si sólo trabaja y no hace balance de lo que ha hecho, seguirá siempre\n",
    "igual por muchos años que pasen. Pero esto no es distinto de otras profesiones” (p.77).\n",
    "Además, Flipped Classroom puede ser aplicado en todas las aéras curriculares; educación primaria, educación secundaria, educación superior e, incluso, educación para adutlos (Blasco,\n",
    "Lorenzo y Sarsa 2016).\n",
    "A continuación, veremos algunos de las ventajas y desventajas de la aplicación de esta innovadora metodología."
   ]
  },
  {
   "cell_type": "markdown",
   "id": "d9c42707",
   "metadata": {
    "slideshow": {
     "slide_type": "slide"
    }
   },
   "source": [
    "## Objetivos de aprendizaje  \n",
    "\n",
    "* Definir el concepto de límite \n",
    "\n",
    "* definir que es una recta tangente\n",
    "\n",
    "* definir la pendiente de una curva en un punto. \n",
    "\n",
    "* determinar analíticamente la tendencia de una función en un punto. \n",
    "\n",
    "* Evaluar un límite mediante el uso de las propiedades de los límites.\n",
    "\n",
    " * Desarrollar y usar una estrategia para el cálculo de límites."
   ]
  },
  {
   "cell_type": "markdown",
   "id": "7e7945d1",
   "metadata": {
    "slideshow": {
     "slide_type": "slide"
    }
   },
   "source": [
    "## Cálculo analítico de límites"
   ]
  },
  {
   "cell_type": "markdown",
   "id": "0c0c9aaf",
   "metadata": {
    "slideshow": {
     "slide_type": "slide"
    }
   },
   "source": [
    "### Propiedades de los límites  "
   ]
  },
  {
   "cell_type": "markdown",
   "id": "bfe95f9b",
   "metadata": {
    "slideshow": {
     "slide_type": "slide"
    }
   },
   "source": [
    "En la sección 1.2 se vio que el límite de $f(x)$ cuando $x$ se aproxima a $c$ no depende del valor de $f$ en $x=c$. Sin embargo, puede darse el caso de que este límite sea $f(c)$. "
   ]
  },
  {
   "cell_type": "markdown",
   "id": "fe6b9664",
   "metadata": {
    "slideshow": {
     "slide_type": "slide"
    }
   },
   "source": [
    "En esta situación, se puede evaluar el límite por sustitución directa. Esto es:\n",
    "\n",
    "$$ \\lim_{x \\to c} f(x) = f(c) $$"
   ]
  },
  {
   "cell_type": "code",
   "execution_count": null,
   "id": "f137e3f7",
   "metadata": {
    "slideshow": {
     "slide_type": "slide"
    }
   },
   "outputs": [],
   "source": []
  },
  {
   "cell_type": "code",
   "execution_count": null,
   "id": "96a841d9",
   "metadata": {
    "slideshow": {
     "slide_type": "slide"
    }
   },
   "outputs": [],
   "source": []
  },
  {
   "cell_type": "code",
   "execution_count": null,
   "id": "4a7afb81",
   "metadata": {
    "slideshow": {
     "slide_type": "slide"
    }
   },
   "outputs": [],
   "source": []
  },
  {
   "cell_type": "code",
   "execution_count": null,
   "id": "4e92bc43",
   "metadata": {
    "slideshow": {
     "slide_type": "slide"
    }
   },
   "outputs": [],
   "source": []
  },
  {
   "cell_type": "markdown",
   "id": "b5bae319",
   "metadata": {
    "slideshow": {
     "slide_type": "slide"
    }
   },
   "source": [
    "## Referentes  \n",
    "\n",
    "* [Larson, Ron. Edwards, Bruce H. Cálculo. Novena edición. McGrawHill](https://udeaeduco-my.sharepoint.com/:b:/g/personal/marco_canas_udea_edu_co/EelvUuuDvaVAmJUCFE-XNicB_MPrWZfrqbpx7USTUovKUQ?e=QG0U29)"
   ]
  },
  {
   "cell_type": "code",
   "execution_count": null,
   "id": "8f0d9bd3",
   "metadata": {},
   "outputs": [],
   "source": []
  }
 ],
 "metadata": {
  "celltoolbar": "Slideshow",
  "kernelspec": {
   "display_name": "Python 3 (ipykernel)",
   "language": "python",
   "name": "python3"
  },
  "language_info": {
   "codemirror_mode": {
    "name": "ipython",
    "version": 3
   },
   "file_extension": ".py",
   "mimetype": "text/x-python",
   "name": "python",
   "nbconvert_exporter": "python",
   "pygments_lexer": "ipython3",
   "version": "3.9.13"
  },
  "rise": {
   "enable_chalboard": true,
   "theme": "sky"
  }
 },
 "nbformat": 4,
 "nbformat_minor": 5
}
