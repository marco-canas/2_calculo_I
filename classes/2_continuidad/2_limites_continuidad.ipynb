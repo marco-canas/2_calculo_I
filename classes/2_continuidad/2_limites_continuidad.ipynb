{
 "cells": [
  {
   "cell_type": "markdown",
   "id": "44657f8f",
   "metadata": {
    "slideshow": {
     "slide_type": "slide"
    }
   },
   "source": [
    "<table align=\"left\">\n",
    "  <td>\n",
    "    <a href=\"https://colab.research.google.com/github/marco-canas/introducci-n-al-Machine-Learning/blob/main/classes/class_12/class_12.ipynb\" target=\"_parent\"><img src=\"https://colab.research.google.com/assets/colab-badge.svg\" alt=\"Open In Colab\"/></a>\n",
    "  </td>\n",
    "  <td>\n",
    "    <a target=\"_blank\" href=\"https://kaggle.com/kernels/welcome?src=https://github.com/marco-canas/introducci-n-al-Machine-Learning/blob/main/classes/class_12/class_12.ipynb\"><img src=\"https://kaggle.com/static/images/open-in-kaggle.svg\" /></a>\n",
    "  </td>\n",
    "</table> "
   ]
  },
  {
   "cell_type": "markdown",
   "id": "ef5bae37",
   "metadata": {
    "slideshow": {
     "slide_type": "slide"
    }
   },
   "source": [
    "# Asignación de ejercicios para el parcial"
   ]
  },
  {
   "cell_type": "code",
   "execution_count": 17,
   "id": "320aafdc",
   "metadata": {
    "scrolled": true,
    "slideshow": {
     "slide_type": "slide"
    }
   },
   "outputs": [
    {
     "data": {
      "text/html": [
       "<div>\n",
       "<style scoped>\n",
       "    .dataframe tbody tr th:only-of-type {\n",
       "        vertical-align: middle;\n",
       "    }\n",
       "\n",
       "    .dataframe tbody tr th {\n",
       "        vertical-align: top;\n",
       "    }\n",
       "\n",
       "    .dataframe thead th {\n",
       "        text-align: right;\n",
       "    }\n",
       "</style>\n",
       "<table border=\"1\" class=\"dataframe\">\n",
       "  <thead>\n",
       "    <tr style=\"text-align: right;\">\n",
       "      <th></th>\n",
       "      <th>Nombre</th>\n",
       "      <th>Asignación</th>\n",
       "    </tr>\n",
       "  </thead>\n",
       "  <tbody>\n",
       "    <tr>\n",
       "      <th>0</th>\n",
       "      <td>ÁLVARES OLIVEROS YULIETH PAOLA</td>\n",
       "      <td>[44 25 13 23  8]</td>\n",
       "    </tr>\n",
       "    <tr>\n",
       "      <th>1</th>\n",
       "      <td>CALDERA ASSIA BRYAN DAVID</td>\n",
       "      <td>[39 43 29 11 17]</td>\n",
       "    </tr>\n",
       "    <tr>\n",
       "      <th>2</th>\n",
       "      <td>LONDOÑO MONTERROSA JULIANA</td>\n",
       "      <td>[41 46 27 26 24]</td>\n",
       "    </tr>\n",
       "    <tr>\n",
       "      <th>3</th>\n",
       "      <td>MARTINEZ SALAZAR NAYELY</td>\n",
       "      <td>[44 33  5 14 11]</td>\n",
       "    </tr>\n",
       "    <tr>\n",
       "      <th>4</th>\n",
       "      <td>MARTÍNEZ TORREJANO HUMBERTO DE JESÚS</td>\n",
       "      <td>[11  1 23 21  6]</td>\n",
       "    </tr>\n",
       "    <tr>\n",
       "      <th>5</th>\n",
       "      <td>MORENO BERVEL EVA SANDRITH</td>\n",
       "      <td>[38 38 42 41 40]</td>\n",
       "    </tr>\n",
       "    <tr>\n",
       "      <th>6</th>\n",
       "      <td>MOSQUERA PALACIO ANYI YULIETH</td>\n",
       "      <td>[ 4 16  5 14 46]</td>\n",
       "    </tr>\n",
       "    <tr>\n",
       "      <th>7</th>\n",
       "      <td>PEREZ CONTRERAS YESSICA PAOLA</td>\n",
       "      <td>[18  1 32 10 28]</td>\n",
       "    </tr>\n",
       "    <tr>\n",
       "      <th>8</th>\n",
       "      <td>RESTAN OSPINA LUZ CELESTE</td>\n",
       "      <td>[27 44  2  8 41]</td>\n",
       "    </tr>\n",
       "    <tr>\n",
       "      <th>9</th>\n",
       "      <td>TUBERQUIA AREIZA YURI ALEXANDRA</td>\n",
       "      <td>[11 46 31 20  2]</td>\n",
       "    </tr>\n",
       "    <tr>\n",
       "      <th>10</th>\n",
       "      <td>Isabel Cristina</td>\n",
       "      <td>[12 14 18 38 14]</td>\n",
       "    </tr>\n",
       "  </tbody>\n",
       "</table>\n",
       "</div>"
      ],
      "text/plain": [
       "                                  Nombre        Asignación\n",
       "0         ÁLVARES OLIVEROS YULIETH PAOLA  [44 25 13 23  8]\n",
       "1              CALDERA ASSIA BRYAN DAVID  [39 43 29 11 17]\n",
       "2             LONDOÑO MONTERROSA JULIANA  [41 46 27 26 24]\n",
       "3                MARTINEZ SALAZAR NAYELY  [44 33  5 14 11]\n",
       "4   MARTÍNEZ TORREJANO HUMBERTO DE JESÚS  [11  1 23 21  6]\n",
       "5             MORENO BERVEL EVA SANDRITH  [38 38 42 41 40]\n",
       "6          MOSQUERA PALACIO ANYI YULIETH  [ 4 16  5 14 46]\n",
       "7          PEREZ CONTRERAS YESSICA PAOLA  [18  1 32 10 28]\n",
       "8              RESTAN OSPINA LUZ CELESTE  [27 44  2  8 41]\n",
       "9        TUBERQUIA AREIZA YURI ALEXANDRA  [11 46 31 20  2]\n",
       "10                      Isabel Cristina   [12 14 18 38 14]"
      ]
     },
     "execution_count": 17,
     "metadata": {},
     "output_type": "execute_result"
    }
   ],
   "source": [
    "import numpy as np \n",
    "import pandas as pd \n",
    "\n",
    "grupoCalculo_df = pd.read_csv('grupo_calculo.csv')\n",
    "grupoCalculo_df.Email.to_csv('Email.csv', index = False )\n",
    "\n",
    "lista_ejercicios = np.arange(1,48)\n",
    "\n",
    "np.random.seed(14)\n",
    "julieth = np.random.choice(lista_ejercicios, 5)\n",
    "bryan = np.random.choice(lista_ejercicios, 5)\n",
    "juliana= np.random.choice(lista_ejercicios, 5)\n",
    "isabel= np.random.choice(lista_ejercicios, 5)\n",
    "yessica= np.random.choice(lista_ejercicios, 5)\n",
    "yuri= np.random.choice(lista_ejercicios, 5)\n",
    "luz_celeste= np.random.choice(lista_ejercicios, 5)\n",
    "nayely= np.random.choice(lista_ejercicios, 5)\n",
    "eva= np.random.choice(lista_ejercicios, 5)\n",
    "humberto= np.random.choice(lista_ejercicios, 5)\n",
    "anyi= np.random.choice(lista_ejercicios, 5)\n",
    " \n",
    "pd.Series(np.array([str(julieth), str(bryan),str(juliana), str(isabel), str(yessica), str(yuri), \\\n",
    "                       str(luz_celeste), str(nayely), str(eva), str(humberto), str(anyi)]).ravel() )\n",
    "\n",
    "tabla = pd.DataFrame({\n",
    "'Nombre': grupoCalculo_df.Nombre,\n",
    "'Asignación': pd.Series(np.array( [str(julieth), str(bryan),str(juliana), str(isabel), str(yessica), \\\n",
    "                                   str(yuri), str(luz_celeste), str(nayely), str(eva), str(humberto),\\\n",
    "                                   str(anyi)]).ravel() )\n",
    "})\n",
    "\n",
    "tabla "
   ]
  },
  {
   "cell_type": "markdown",
   "id": "bdfb6f61",
   "metadata": {
    "slideshow": {
     "slide_type": "slide"
    }
   },
   "source": [
    "# 2 Límites y continuidad"
   ]
  },
  {
   "cell_type": "markdown",
   "id": "660d7728",
   "metadata": {},
   "source": [
    "Página de Larson 110. "
   ]
  },
  {
   "cell_type": "markdown",
   "id": "bdb03db6",
   "metadata": {},
   "source": [
    "## Ejemplo ejercicio 3 sobre estimar un límite"
   ]
  },
  {
   "cell_type": "markdown",
   "id": "683e7f90",
   "metadata": {
    "slideshow": {
     "slide_type": "slide"
    }
   },
   "source": [
    "[Calculadora casio fx82](http://3con14.com/104-%C3%BAtiles/software/27-i-%C2%B7-calculadora-casio-fx-82es-emulador-software.html)"
   ]
  },
  {
   "cell_type": "markdown",
   "id": "f957c5af",
   "metadata": {
    "slideshow": {
     "slide_type": "slide"
    }
   },
   "source": [
    "[Notas de calse de Cálculo en GitHub](https://github.com/marco-canas/calculo_I)"
   ]
  },
  {
   "cell_type": "markdown",
   "id": "047f7232",
   "metadata": {
    "slideshow": {
     "slide_type": "slide"
    }
   },
   "source": [
    "$$ f(x) = \\frac{\\frac{4}{x+2} - 2}{x} $$"
   ]
  },
  {
   "cell_type": "markdown",
   "id": "16f702da",
   "metadata": {},
   "source": [
    "Determine \n",
    "\n",
    "$$ \\lim_{x \\to 0} f(x) =  $$\n"
   ]
  },
  {
   "cell_type": "code",
   "execution_count": null,
   "id": "f6cc62ba",
   "metadata": {
    "slideshow": {
     "slide_type": "slide"
    }
   },
   "outputs": [],
   "source": [
    "def f(x):\n",
    "    return (4/(x+2)-2)/x"
   ]
  },
  {
   "cell_type": "code",
   "execution_count": null,
   "id": "d9da9073",
   "metadata": {
    "slideshow": {
     "slide_type": "slide"
    }
   },
   "outputs": [],
   "source": [
    "f(-0.1)"
   ]
  },
  {
   "cell_type": "code",
   "execution_count": null,
   "id": "fb93a50a",
   "metadata": {
    "slideshow": {
     "slide_type": "slide"
    }
   },
   "outputs": [],
   "source": [
    "import numpy as np \n",
    "x = np.array([-0.1, -0.01, -0.001, 0.001, 0.01, 0.1])\n",
    "y = [f(i) for i in x]"
   ]
  },
  {
   "cell_type": "code",
   "execution_count": null,
   "id": "246578bd",
   "metadata": {},
   "outputs": [],
   "source": [
    "y"
   ]
  },
  {
   "cell_type": "code",
   "execution_count": null,
   "id": "2ef01c25",
   "metadata": {},
   "outputs": [],
   "source": [
    "import pandas as pd \n",
    "funcion_en_forma_tabular =pd.DataFrame({'x':x,'y':y}) \n",
    "funcion_en_forma_tabular "
   ]
  },
  {
   "cell_type": "code",
   "execution_count": null,
   "id": "559bd977",
   "metadata": {
    "scrolled": true
   },
   "outputs": [],
   "source": [
    "import matplotlib.pyplot as plt\n",
    "\n",
    "fig,ax = plt.subplots()\n",
    "\n",
    "ax.plot(x,y)\n",
    "ax.grid() "
   ]
  },
  {
   "cell_type": "markdown",
   "id": "d5ae9136",
   "metadata": {
    "slideshow": {
     "slide_type": "slide"
    }
   },
   "source": [
    "$$ \\lim_{x \\to 0} f(x) = -1 $$"
   ]
  },
  {
   "cell_type": "markdown",
   "id": "46c90d39",
   "metadata": {},
   "source": [
    "**Conclusión:** a medida que $x$ se aproxima a cero, la $f(x)$ tiende a -1. "
   ]
  },
  {
   "cell_type": "markdown",
   "id": "8ccfffc1",
   "metadata": {
    "slideshow": {
     "slide_type": "slide"
    }
   },
   "source": [
    "## Ejemplo: Ejercicio 4 de Larson. Página 110. \n",
    "\n",
    "Estimar el límite. "
   ]
  },
  {
   "cell_type": "markdown",
   "id": "fb3fb670",
   "metadata": {
    "slideshow": {
     "slide_type": "slide"
    }
   },
   "source": [
    "$$ f(x) = \\frac{4(\\sqrt{x+2}) - \\sqrt{2}}{x} $$"
   ]
  },
  {
   "cell_type": "code",
   "execution_count": null,
   "id": "ab763bd2",
   "metadata": {
    "slideshow": {
     "slide_type": "slide"
    }
   },
   "outputs": [],
   "source": [
    "import  numpy as np \n",
    "def f(x):\n",
    "    return 4*(np.sqrt(x+2) - np.sqrt(2))/x"
   ]
  },
  {
   "cell_type": "code",
   "execution_count": null,
   "id": "4a6c54cc",
   "metadata": {},
   "outputs": [],
   "source": [
    "import numpy as np \n",
    "x = np.array([-0.1, -0.01, -0.001, 0.001, 0.01, 0.1])\n",
    "f = [f(i) for i in x]\n",
    "f"
   ]
  },
  {
   "cell_type": "code",
   "execution_count": null,
   "id": "0571e745",
   "metadata": {},
   "outputs": [],
   "source": [
    "np.sqrt(2)"
   ]
  },
  {
   "cell_type": "code",
   "execution_count": null,
   "id": "fc9fd780",
   "metadata": {},
   "outputs": [],
   "source": [
    "import pandas as pd \n",
    "funcion_en_forma_tabular =pd.DataFrame({'x':x,'f(x)':f}) \n",
    "funcion_en_forma_tabular "
   ]
  },
  {
   "cell_type": "code",
   "execution_count": null,
   "id": "1c73b0a5",
   "metadata": {
    "scrolled": true
   },
   "outputs": [],
   "source": [
    "import matplotlib.pyplot as plt\n",
    "\n",
    "fig,ax = plt.subplots()\n",
    "\n",
    "ax.plot(x,f)\n",
    "ax.grid() "
   ]
  },
  {
   "cell_type": "markdown",
   "id": "de41c63b",
   "metadata": {},
   "source": [
    "## Ejemplo 5 Ejercicio 5 de la página 110 de larson \n",
    "\n",
    "$$\\lim_{x \\to 1} x+4 = 5$$\n"
   ]
  },
  {
   "cell_type": "markdown",
   "id": "09cf8ab9",
   "metadata": {
    "slideshow": {
     "slide_type": "slide"
    }
   },
   "source": [
    "## Ejemplo: Ejercicio 6 de la página 110 de larson \n",
    "\n",
    "$$\\lim_{x \\to 9} \\sqrt{x} =  3 $$\n"
   ]
  },
  {
   "cell_type": "code",
   "execution_count": null,
   "id": "7d14358d",
   "metadata": {
    "slideshow": {
     "slide_type": "slide"
    }
   },
   "outputs": [],
   "source": [
    "import  numpy as np \n",
    "def f(x):\n",
    "    return np.sqrt(x)\n",
    "\n",
    "\n",
    "import numpy as np \n",
    "c = 9\n",
    "x = np.linspace(c-1, c+1, 10)\n",
    "f = [f(i) for i in x]\n",
    "\n",
    "import pandas as pd \n",
    "funcion_en_forma_tabular =pd.DataFrame({'x':x,'f(x)':f}) \n",
    "funcion_en_forma_tabular "
   ]
  },
  {
   "cell_type": "code",
   "execution_count": null,
   "id": "dc19b536",
   "metadata": {},
   "outputs": [],
   "source": [
    "import matplotlib.pyplot as plt\n",
    "\n",
    "fig,ax = plt.subplots()\n",
    "\n",
    "ax.plot(x,f)\n",
    "ax.grid() "
   ]
  },
  {
   "cell_type": "markdown",
   "id": "0c5e0790",
   "metadata": {
    "slideshow": {
     "slide_type": "slide"
    }
   },
   "source": [
    "## Ejemplo: Ejercicio 7 de la página 110 de larson \n",
    "\n",
    "$$\\lim_{x \\to 2} 1-x^{2} =  1-(x)^{2} = 1 - 4 = -3 $$\n"
   ]
  },
  {
   "cell_type": "code",
   "execution_count": null,
   "id": "78296d3a",
   "metadata": {},
   "outputs": [],
   "source": [
    "import  numpy as np \n",
    "def f(x):\n",
    "    return 1-x**2\n",
    "\n",
    "\n",
    "import numpy as np \n",
    "c = 2\n",
    "x = np.linspace(c-1, c+1, 100)\n",
    "f = [f(i) for i in x]\n",
    "\n",
    "import pandas as pd \n",
    "funcion_en_forma_tabular =pd.DataFrame({'x':x,'f(x)':f}) \n",
    "funcion_en_forma_tabular[45:56] "
   ]
  },
  {
   "cell_type": "markdown",
   "id": "e21bfd6d",
   "metadata": {},
   "source": [
    "$$ \\lim_{x \\to 2} f(x) = -3 $$"
   ]
  },
  {
   "cell_type": "code",
   "execution_count": null,
   "id": "ed88197b",
   "metadata": {},
   "outputs": [],
   "source": [
    "import matplotlib.pyplot as plt\n",
    "\n",
    "fig,ax = plt.subplots()\n",
    "\n",
    "ax.plot(x,f)\n",
    "ax.grid() "
   ]
  },
  {
   "cell_type": "markdown",
   "id": "6bcfd6d7",
   "metadata": {
    "slideshow": {
     "slide_type": "slide"
    }
   },
   "source": [
    "## Ejemplo: Ejercicio 8 de la página 110 de larson \n",
    "\n",
    "$$\\lim_{x \\to 5} 9 =  9$$\n"
   ]
  },
  {
   "cell_type": "code",
   "execution_count": null,
   "id": "c847c1e2",
   "metadata": {
    "slideshow": {
     "slide_type": "slide"
    }
   },
   "outputs": [],
   "source": [
    "import  numpy as np \n",
    "def f(x):\n",
    "    return 9\n",
    "\n",
    "\n",
    "import numpy as np \n",
    "c = 5\n",
    "x = np.linspace(c-1, c+1, 100)\n",
    "f = [f(i) for i in x]\n",
    "\n",
    "import pandas as pd \n",
    "funcion_en_forma_tabular =pd.DataFrame({'x':x,'f(x)':f}) \n",
    "funcion_en_forma_tabular[45:56] "
   ]
  },
  {
   "cell_type": "code",
   "execution_count": null,
   "id": "89a30b03",
   "metadata": {
    "slideshow": {
     "slide_type": "slide"
    }
   },
   "outputs": [],
   "source": [
    "import matplotlib.pyplot as plt\n",
    "\n",
    "fig,ax = plt.subplots()\n",
    "\n",
    "ax.plot(x,f)\n",
    "ax.grid() "
   ]
  },
  {
   "cell_type": "markdown",
   "id": "2f0f4f3f",
   "metadata": {
    "slideshow": {
     "slide_type": "slide"
    }
   },
   "source": [
    "$$ \\lim_{x \\to 5} 9 = 9 $$"
   ]
  },
  {
   "cell_type": "code",
   "execution_count": null,
   "id": "26569e02",
   "metadata": {},
   "outputs": [],
   "source": []
  },
  {
   "cell_type": "code",
   "execution_count": null,
   "id": "5da64d2c",
   "metadata": {},
   "outputs": [],
   "source": []
  },
  {
   "cell_type": "code",
   "execution_count": null,
   "id": "42ead974",
   "metadata": {},
   "outputs": [],
   "source": []
  },
  {
   "cell_type": "code",
   "execution_count": null,
   "id": "6d2c3826",
   "metadata": {},
   "outputs": [],
   "source": []
  },
  {
   "cell_type": "markdown",
   "id": "cf8c19f3",
   "metadata": {
    "slideshow": {
     "slide_type": "slide"
    }
   },
   "source": [
    "## El problema de la recta tangente"
   ]
  },
  {
   "cell_type": "markdown",
   "id": "e76e1b25",
   "metadata": {
    "slideshow": {
     "slide_type": "slide"
    }
   },
   "source": [
    "La noción de límite es fundamental en el estudio del cálculo. "
   ]
  },
  {
   "cell_type": "markdown",
   "id": "ad1404c4",
   "metadata": {
    "slideshow": {
     "slide_type": "slide"
    }
   },
   "source": [
    "A continuación se dan breves descripciones de dos problemas clásicos del cálculo —el problema de la recta tangente y el problema del área— que muestran la forma en que intervienen los límites en el cálculo."
   ]
  },
  {
   "cell_type": "markdown",
   "id": "f87dbde7",
   "metadata": {
    "slideshow": {
     "slide_type": "slide"
    }
   },
   "source": [
    "En el problema de la recta tangente, se tiene una función f y un punto P de su gráfica \n",
    "y se trata de encontrar la ecuación de la recta tangente a la gráfica en el punto P, como se \n",
    "muestra en la figura 1.1."
   ]
  },
  {
   "cell_type": "markdown",
   "id": "d073da92",
   "metadata": {
    "slideshow": {
     "slide_type": "slide"
    }
   },
   "source": [
    "Exceptuando los casos en que la recta tangente es vertical, el problema de encontrar la recta tangente en el punto $P$ equivale al de determinar la pendiente de la recta tangente en $P$. "
   ]
  },
  {
   "cell_type": "markdown",
   "id": "3097d224",
   "metadata": {
    "slideshow": {
     "slide_type": "slide"
    }
   },
   "source": [
    "Se puede calcular aproximadamente esta pendiente trazando una recta por el punto de tangencia y por otro punto sobre la curva, como se muestra en la figura 1.2a. "
   ]
  },
  {
   "cell_type": "markdown",
   "id": "b373ae02",
   "metadata": {
    "slideshow": {
     "slide_type": "slide"
    }
   },
   "source": [
    "Tal recta se llama recta secante. Si $P(c, f(c))$ es el punto de tangencia \n",
    "\n",
    "$$ Q(c+\\Delta x, f(c+\\Delta x)) $$"
   ]
  },
  {
   "cell_type": "markdown",
   "id": "e6c7b24e",
   "metadata": {
    "slideshow": {
     "slide_type": "slide"
    }
   },
   "source": [
    "es un segundo punto de la gráfica de f, la pendiente de la recta secante que pasa por estos \n",
    "DOSªPUNTOSªPUEDEªENCONTRARSEªALªUTILIZARªPRECÈLCULOªYªESTÈªDADAªPOR"
   ]
  },
  {
   "cell_type": "markdown",
   "id": "908a5271",
   "metadata": {
    "slideshow": {
     "slide_type": "slide"
    }
   },
   "source": [
    "$$ m_{sec} = \\frac{f(c+\\Delta x) - f(c)}{\\Delta x} $$"
   ]
  },
  {
   "cell_type": "markdown",
   "id": "3e8efd31",
   "metadata": {
    "slideshow": {
     "slide_type": "slide"
    }
   },
   "source": [
    "## Animación de aproximación de la recta tangente a través de rectas secantes"
   ]
  },
  {
   "cell_type": "code",
   "execution_count": null,
   "id": "a82f3db4",
   "metadata": {
    "scrolled": true,
    "slideshow": {
     "slide_type": "slide"
    }
   },
   "outputs": [],
   "source": [
    "import numpy as np \n",
    "import matplotlib.pyplot as plt \n",
    "from ipywidgets import interact \n",
    "\n",
    "def aproximacion_recta_tangente(deltax = 1):\n",
    "    fig, ax = plt.subplots()\n",
    "    ax.scatter([2],[5], color = 'red')\n",
    "    ax.set(xlim = [0,4], ylim = [0,8])\n",
    "    ax.grid() \n",
    "\n",
    "interact(aproximacion_recta_tangente, deltax = (0.01,1,0.01))"
   ]
  },
  {
   "cell_type": "markdown",
   "id": "cb777fcb",
   "metadata": {
    "slideshow": {
     "slide_type": "slide"
    }
   },
   "source": [
    "## 1.2 Cálculo de límites de manera gráfica y numérica"
   ]
  },
  {
   "cell_type": "markdown",
   "id": "5e2fa1e0",
   "metadata": {
    "slideshow": {
     "slide_type": "slide"
    }
   },
   "source": [
    "* Estimar un límite utilizando los métodos numérico y gráfico.\n",
    "* Aprender diferentes formas en las que un límite puede no existir.\n",
    "* Estudiar y utilizar la definición formal de límite."
   ]
  },
  {
   "cell_type": "markdown",
   "id": "c9f80cc7",
   "metadata": {
    "slideshow": {
     "slide_type": "slide"
    }
   },
   "source": [
    "Introducción a los límites\n",
    "Suponer que se pide dibujar la gráfica de la función f dada por\n",
    "\n",
    "$$ f(x) = \\frac{x^{3} - 1}{x-1}, \\ \\ \\ \\ \\  x \\neq 1 $$\n"
   ]
  },
  {
   "cell_type": "code",
   "execution_count": null,
   "id": "70f753cf",
   "metadata": {
    "slideshow": {
     "slide_type": "slide"
    }
   },
   "outputs": [],
   "source": [
    "import numpy as np \n",
    "import matplotlib.pyplot as plt \n",
    "\n",
    "fig, ax = plt.subplots()\n",
    "\n",
    "x = np.array([i for i in np.arange(-3,3,0.1) if i != 1]) \n",
    "\n",
    "y = (x**3 - 1)/(x-1)\n",
    "\n",
    "ax.plot(x,y) "
   ]
  },
  {
   "cell_type": "markdown",
   "id": "7a9a9a26",
   "metadata": {
    "slideshow": {
     "slide_type": "slide"
    }
   },
   "source": [
    "## Tabla de aproximación de x a 1"
   ]
  },
  {
   "cell_type": "code",
   "execution_count": null,
   "id": "acbf01b1",
   "metadata": {
    "slideshow": {
     "slide_type": "slide"
    }
   },
   "outputs": [],
   "source": [
    "import numpy as np \n",
    "import pandas as pd \n",
    "\n",
    "x = np.array([i for i in np.arange(0,2,0.01) if i != 1]) \n",
    "y = (x**3 - 1)/(x-1)\n",
    "\n",
    "dic = {'x':x, 'y':y}\n",
    "\n",
    "tabla = pd.DataFrame(dic)\n",
    "tabla[95:105] \n"
   ]
  },
  {
   "cell_type": "markdown",
   "id": "51bdb506",
   "metadata": {
    "slideshow": {
     "slide_type": "slide"
    }
   },
   "source": [
    "Como se muestra en la figura, la gráfica de $f$ es una parábola con un hueco en el \n",
    "punto $(1, 3)$. "
   ]
  },
  {
   "cell_type": "markdown",
   "id": "cb7371a4",
   "metadata": {
    "slideshow": {
     "slide_type": "slide"
    }
   },
   "source": [
    "A pesar de que x no puede ser igual a 1, se puede acercar arbitrariamente a 1 y, en consecuencia, $f(x)$ se acerca a $3$ de la misma manera. "
   ]
  },
  {
   "cell_type": "markdown",
   "id": "b71d45a3",
   "metadata": {
    "slideshow": {
     "slide_type": "slide"
    }
   },
   "source": [
    "Utilizando la notación que se emplea con los límites, se podría escribir \n",
    "\n",
    "$$ \\lim_{x \\to 1} f(x) = 3 $$"
   ]
  },
  {
   "cell_type": "markdown",
   "id": "7da2e073",
   "metadata": {
    "slideshow": {
     "slide_type": "slide"
    }
   },
   "source": [
    "## Definición informal de límite de una función"
   ]
  },
  {
   "cell_type": "markdown",
   "id": "e78c5556",
   "metadata": {
    "slideshow": {
     "slide_type": "slide"
    }
   },
   "source": [
    "Este análisis conduce a una descripción informal de límite. "
   ]
  },
  {
   "cell_type": "markdown",
   "id": "59be00e9",
   "metadata": {
    "slideshow": {
     "slide_type": "slide"
    }
   },
   "source": [
    "Si $f(x)$ se acerca arbitrariamente a un número $L$ cuando $x$ se aproxima a $c$ por cualquiera de los dos lados, entonces el límite de $f(x)$, cuando $x$ se aproxima a $c$, es $L$. "
   ]
  },
  {
   "cell_type": "markdown",
   "id": "1a1f01cf",
   "metadata": {
    "slideshow": {
     "slide_type": "slide"
    }
   },
   "source": [
    "Esto se escribe\n",
    "\n",
    "$$ \\lim_{x \\to c} f(x) = L  \\nonumber $$\n"
   ]
  },
  {
   "cell_type": "markdown",
   "id": "55bf4bd3",
   "metadata": {
    "slideshow": {
     "slide_type": "slide"
    }
   },
   "source": [
    "## Ejemplo EXPLORACIÓN  \n",
    "\n",
    "El análisis anterior proporciona un ejemplo de cómo estimar un límite de manera numérica mediante la construcción de una tabla, o de manera gráfica, al dibujar un esquema. \n",
    "Calcular el siguiente límite de forma numérica al completar la tabla.\n",
    "\n",
    "$$ \\lim_{x \\to 2} \\frac{x^{2} - 3x + 2}{x - 2} $$\n",
    "\n",
    "Luego utilizar una herramienta de graficación para estimar el límite"
   ]
  },
  {
   "cell_type": "code",
   "execution_count": null,
   "id": "fec1075f",
   "metadata": {
    "slideshow": {
     "slide_type": "slide"
    }
   },
   "outputs": [],
   "source": [
    "x = np.array([i for i in np.linspace(1,3,10) if i != 2]).reshape(-1,1)\n",
    "y = (x**2 -3*x + 2)/(x-2)\n",
    "array_xy = np.concatenate((x,y), axis = 1)\n",
    "array_xy \n",
    "tabla = pd.DataFrame(array_xy, columns = ['x', 'y'])\n",
    "tabla "
   ]
  },
  {
   "cell_type": "code",
   "execution_count": null,
   "id": "a6fd59f4",
   "metadata": {
    "slideshow": {
     "slide_type": "slide"
    }
   },
   "outputs": [],
   "source": [
    "import matplotlib.pyplot as plt \n",
    "\n",
    "x = np.array([i for i in np.linspace(1,3,5) if i != 2])\n",
    "y = (x**2 -3*x + 2)/(x-2)\n",
    "\n",
    "fig,ax = plt.subplots()\n",
    "\n",
    "ax.plot(x,y)\n",
    "ax.grid() "
   ]
  },
  {
   "cell_type": "markdown",
   "id": "74535f3f",
   "metadata": {
    "slideshow": {
     "slide_type": "slide"
    }
   },
   "source": [
    "## Ejemplo Estimación numérica de un límite"
   ]
  },
  {
   "cell_type": "markdown",
   "id": "3104eb97",
   "metadata": {
    "slideshow": {
     "slide_type": "slide"
    }
   },
   "source": [
    "Evaluar la función $f(x) = \\frac{x}{\\sqrt{x+1} - 1}$ en varios puntos cercanos a $x = 0$ y usar el \n",
    "resultado para estimar el límite:  \n",
    "\n",
    "$$ \\lim_{x \\to 0} \\frac{x}{\\sqrt{x + 1} - 1}   \\nonumber $$ \n",
    "\n"
   ]
  },
  {
   "cell_type": "code",
   "execution_count": null,
   "id": "865358a7",
   "metadata": {
    "slideshow": {
     "slide_type": "slide"
    }
   },
   "outputs": [],
   "source": [
    "import numpy as np \n",
    "import pandas as pd \n",
    "\n",
    "c = 0\n",
    "x = np.array([i for i in np.linspace(c-1,c+1,10) if i != c]).reshape(-1,1)\n",
    "y = x/(np.sqrt(x+1)-1)\n",
    "array_xy = np.concatenate((x,y), axis = 1)\n",
    "array_xy \n",
    "tabla = pd.DataFrame(array_xy, columns = ['x', 'y'])\n",
    "tabla "
   ]
  },
  {
   "cell_type": "code",
   "execution_count": null,
   "id": "b60bf02f",
   "metadata": {
    "slideshow": {
     "slide_type": "slide"
    }
   },
   "outputs": [],
   "source": [
    "import matplotlib.pyplot as plt \n",
    "\n",
    "c = 0\n",
    "x = np.array([i for i in np.linspace(c-1,c+1,100) if i != c])\n",
    "y = x/(np.sqrt(x+1)-1)\n",
    "\n",
    "fig,ax = plt.subplots()\n",
    "\n",
    "ax.plot(x,y, color = 'red')\n",
    "\n",
    "ax.axis([-2,1,-1,3])\n",
    "\n",
    "ax.plot([-2,1],[0,0], color = 'blue')  # eje x \n",
    "ax.plot([0,0],[-1,3], color = 'blue')   # eje y\n",
    "\n",
    "ax.grid() "
   ]
  },
  {
   "cell_type": "markdown",
   "id": "97046544",
   "metadata": {
    "slideshow": {
     "slide_type": "slide"
    }
   },
   "source": [
    "## EJEMPLO 2 Cálculo de un límite"
   ]
  },
  {
   "cell_type": "markdown",
   "id": "ae65171d",
   "metadata": {
    "slideshow": {
     "slide_type": "slide"
    }
   },
   "source": [
    "Encontrar el límite de $f(x)$ cuando $x$ se aproxima a $2$, donde $f$ se define como:\n",
    "\n",
    "$$ f(x) = \\begin{cases} 1 & x \\neq 2 \\\\\n",
    "0 & x = 2 \\end{cases} $$"
   ]
  },
  {
   "cell_type": "markdown",
   "id": "0249295d",
   "metadata": {
    "slideshow": {
     "slide_type": "slide"
    }
   },
   "source": [
    "## Métodos para calcular límites "
   ]
  },
  {
   "cell_type": "markdown",
   "id": "35b2634f",
   "metadata": {
    "slideshow": {
     "slide_type": "slide"
    }
   },
   "source": [
    "Hasta este punto de la sección, se han calculado los límites de manera numérica y \n",
    "gráfica. Cada uno de estos métodos genera una estimación del límite. En la sección 1.3 se \n",
    "estudiarán técnicas analíticas para evaluarlos. A lo largo de este curso, se trata de desarrollar \n",
    "el hábito de utilizar este método de árbol para resolver problemas.  \n",
    "\n",
    "1. **Método numérico**: Construir una tabla de valores.\n",
    "2. **Método gráfico** Elaborar una gráfica a mano o con algún dispositivo tecnológico.\n",
    "3. **Método analítico** Utilizar álgebra o cálculo."
   ]
  },
  {
   "cell_type": "markdown",
   "id": "c38099f4",
   "metadata": {
    "slideshow": {
     "slide_type": "slide"
    }
   },
   "source": [
    "## Límites que no existen"
   ]
  },
  {
   "cell_type": "markdown",
   "id": "3cb7d1f2",
   "metadata": {
    "slideshow": {
     "slide_type": "slide"
    }
   },
   "source": [
    "En los tres ejemplos siguientes se examinarán algunos límites que no existen.\n",
    "EJEMPLO 3 Comportamiento diferente por la derecha\n",
    "y por la izquierda\n",
    "Demostrar que el siguiente límite no existe.\n",
    "\n",
    "$$ \\lim_{x \\to 0} \\frac{|x|}{x} $$\n"
   ]
  },
  {
   "cell_type": "code",
   "execution_count": null,
   "id": "9362f7ac",
   "metadata": {
    "slideshow": {
     "slide_type": "slide"
    }
   },
   "outputs": [],
   "source": [
    "import numpy as np \n",
    "import pandas as pd \n",
    "\n",
    "c = 0\n",
    "x = np.array([i for i in np.linspace(c-1,c+1,10) if i != c]).reshape(-1,1)\n",
    "y = np.abs(x)/x\n",
    "array_xy = np.concatenate((x,y), axis = 1)\n",
    "array_xy \n",
    "tabla = pd.DataFrame(array_xy, columns = ['x', 'y'])\n",
    "tabla "
   ]
  },
  {
   "cell_type": "code",
   "execution_count": null,
   "id": "9649813e",
   "metadata": {
    "slideshow": {
     "slide_type": "slide"
    }
   },
   "outputs": [],
   "source": [
    "import matplotlib.pyplot as plt \n",
    "\n",
    "c = 0\n",
    "x = np.array([i for i in np.linspace(c-1,c+1,200) if i != c])\n",
    "y = np.abs(x)/x\n",
    "\n",
    "fig, ax = plt.subplots()\n",
    "\n",
    "ax.plot(x,y, color = 'red')\n",
    "\n",
    "ax.axis([c-2,c+2,-2,3])\n",
    "\n",
    "ax.plot([c-2,c+2],[0,0], color = 'blue', alpha = 0.4)  # eje x \n",
    "ax.plot([0,0],[-2,3], color = 'blue', alpha = 0.4)   # eje y\n",
    "\n",
    "ax.grid() "
   ]
  },
  {
   "cell_type": "markdown",
   "id": "80fe8cf5",
   "metadata": {
    "slideshow": {
     "slide_type": "slide"
    }
   },
   "source": [
    "EJEMPLO 4 Comportamiento no acotado\n",
    "Analizar la existencia del límite\n",
    "\n",
    "$$ \\lim_{x \\to 0} \\frac{1}{x^{2}} $$\n"
   ]
  },
  {
   "cell_type": "code",
   "execution_count": null,
   "id": "8e629c6b",
   "metadata": {
    "slideshow": {
     "slide_type": "slide"
    }
   },
   "outputs": [],
   "source": []
  },
  {
   "cell_type": "code",
   "execution_count": null,
   "id": "f4b392f0",
   "metadata": {},
   "outputs": [],
   "source": []
  },
  {
   "cell_type": "code",
   "execution_count": null,
   "id": "47e9fccf",
   "metadata": {},
   "outputs": [],
   "source": []
  },
  {
   "cell_type": "markdown",
   "id": "c84dd278",
   "metadata": {
    "slideshow": {
     "slide_type": "slide"
    }
   },
   "source": [
    "## Ejemplo sobre la función recíproca"
   ]
  },
  {
   "cell_type": "code",
   "execution_count": null,
   "id": "f63ce5d0",
   "metadata": {
    "slideshow": {
     "slide_type": "slide"
    }
   },
   "outputs": [],
   "source": [
    "import numpy as np \n",
    "import pandas as pd "
   ]
  },
  {
   "cell_type": "code",
   "execution_count": null,
   "id": "1337c485",
   "metadata": {
    "slideshow": {
     "slide_type": "slide"
    }
   },
   "outputs": [],
   "source": [
    "x = [1,  2,   3 ,   4, 5,   6,   7,   8, 9,   10, 100, 1000]\n",
    "y = [1, 1/2, 1/3, 1/4, 1/5, 1/6, 1/7, 1/8, 1/9, 1/10, 1/100, 1/1000] "
   ]
  },
  {
   "cell_type": "code",
   "execution_count": null,
   "id": "e244ac51",
   "metadata": {
    "scrolled": true,
    "slideshow": {
     "slide_type": "slide"
    }
   },
   "outputs": [],
   "source": [
    "tabla = pd.DataFrame({'x':x, 'y':y})\n",
    "tabla "
   ]
  },
  {
   "cell_type": "markdown",
   "id": "052fadd0",
   "metadata": {
    "slideshow": {
     "slide_type": "slide"
    }
   },
   "source": [
    "$$ \\lim_{ x \\to \\infty} \\frac{1}{x} = 0 $$"
   ]
  },
  {
   "cell_type": "code",
   "execution_count": null,
   "id": "c25ab4ec",
   "metadata": {
    "slideshow": {
     "slide_type": "slide"
    }
   },
   "outputs": [],
   "source": [
    "import matplotlib.pyplot as plt \n",
    "fig,ax = plt.subplots()\n",
    "\n",
    "ax.plot(x,y)\n",
    "ax.grid() \n",
    "\n"
   ]
  },
  {
   "cell_type": "markdown",
   "id": "1f22a334",
   "metadata": {},
   "source": [
    "## El cociente de diferencias "
   ]
  },
  {
   "cell_type": "markdown",
   "id": "97b7428c",
   "metadata": {},
   "source": [
    "Grafique la función $y = f(x) = 3x $"
   ]
  },
  {
   "cell_type": "code",
   "execution_count": null,
   "id": "97c382c9",
   "metadata": {},
   "outputs": [],
   "source": [
    "x = np.arange(-3,4)\n",
    "y = 3*x"
   ]
  },
  {
   "cell_type": "code",
   "execution_count": null,
   "id": "bf5cdd0d",
   "metadata": {},
   "outputs": [],
   "source": [
    "tabla = pd.DataFrame({'x':x, 'y':y})\n",
    "tabla "
   ]
  },
  {
   "cell_type": "code",
   "execution_count": null,
   "id": "25ea6544",
   "metadata": {},
   "outputs": [],
   "source": [
    "plt.plot(x,y)"
   ]
  },
  {
   "cell_type": "markdown",
   "id": "990e4a59",
   "metadata": {},
   "source": [
    "## Ejemplo de cálculo de velocidad de crecimiento"
   ]
  },
  {
   "cell_type": "code",
   "execution_count": null,
   "id": "15b64f5c",
   "metadata": {},
   "outputs": [],
   "source": [
    "from sympy import *\n",
    "x,f,h = symbols('x,f,h')"
   ]
  },
  {
   "cell_type": "code",
   "execution_count": null,
   "id": "794df546",
   "metadata": {},
   "outputs": [],
   "source": [
    "def f(x):\n",
    "    return 2*x"
   ]
  },
  {
   "cell_type": "code",
   "execution_count": null,
   "id": "a8e9cdf2",
   "metadata": {},
   "outputs": [],
   "source": [
    "(f(x+h)-f(x))/h"
   ]
  },
  {
   "cell_type": "markdown",
   "id": "779af72c",
   "metadata": {},
   "source": [
    "Note que la velocidad de crecimiento de la función $f(x) = 2x$ es independiente de x"
   ]
  },
  {
   "cell_type": "code",
   "execution_count": null,
   "id": "b2829e63",
   "metadata": {},
   "outputs": [],
   "source": []
  },
  {
   "cell_type": "code",
   "execution_count": null,
   "id": "7fd5d139",
   "metadata": {},
   "outputs": [],
   "source": []
  },
  {
   "cell_type": "code",
   "execution_count": null,
   "id": "d91b41dc",
   "metadata": {},
   "outputs": [],
   "source": []
  },
  {
   "cell_type": "code",
   "execution_count": null,
   "id": "b5fe828c",
   "metadata": {},
   "outputs": [],
   "source": []
  }
 ],
 "metadata": {
  "celltoolbar": "Slideshow",
  "kernelspec": {
   "display_name": "Python 3",
   "language": "python",
   "name": "python3"
  },
  "language_info": {
   "codemirror_mode": {
    "name": "ipython",
    "version": 3
   },
   "file_extension": ".py",
   "mimetype": "text/x-python",
   "name": "python",
   "nbconvert_exporter": "python",
   "pygments_lexer": "ipython3",
   "version": "3.8.8"
  },
  "latex_envs": {
   "LaTeX_envs_menu_present": true,
   "autoclose": false,
   "autocomplete": false,
   "bibliofile": "biblio.bib",
   "cite_by": "apalike",
   "current_citInitial": 1,
   "eqLabelWithNumbers": true,
   "eqNumInitial": 1,
   "hotkeys": {
    "equation": "Ctrl-E",
    "itemize": "Ctrl-I"
   },
   "labels_anchors": false,
   "latex_user_defs": false,
   "report_style_numbering": false,
   "user_envs_cfg": false
  }
 },
 "nbformat": 4,
 "nbformat_minor": 5
}
