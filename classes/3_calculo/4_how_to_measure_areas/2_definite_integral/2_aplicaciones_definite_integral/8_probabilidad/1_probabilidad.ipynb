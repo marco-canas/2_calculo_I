{
 "cells": [
  {
   "cell_type": "markdown",
   "id": "dc06dec7",
   "metadata": {
    "slideshow": {
     "slide_type": "slide"
    }
   },
   "source": [
    "<table align=\"left\">\n",
    "  <td>\n",
    "    <a href=\"https://colab.research.google.com/github/ageron/handson-ml3/blob/main/tools_numpy.ipynb\" target=\"_parent\"><img src=\"https://colab.research.google.com/assets/colab-badge.svg\" alt=\"Open In Colab\"/></a>\n",
    "  </td>\n",
    "  <td>\n",
    "    <a target=\"_blank\" href=\"https://kaggle.com/kernels/welcome?src=https://github.com/ageron/handson-ml3/blob/main/tools_numpy.ipynb\"><img src=\"https://kaggle.com/static/images/open-in-kaggle.svg\" /></a>\n",
    "  </td>\n",
    "</table>"
   ]
  },
  {
   "cell_type": "markdown",
   "id": "e0c5b198",
   "metadata": {
    "slideshow": {
     "slide_type": "slide"
    }
   },
   "source": [
    "### [Video de apoyo a la lectura interactiva y experimental de este cuaderno]()"
   ]
  },
  {
   "cell_type": "markdown",
   "id": "41e82203",
   "metadata": {
    "slideshow": {
     "slide_type": "slide"
    }
   },
   "source": [
    "### [Vínculo al programa del curso:  ]()\n",
    "\n"
   ]
  },
  {
   "cell_type": "markdown",
   "id": "d11ab06d",
   "metadata": {
    "slideshow": {
     "slide_type": "slide"
    }
   },
   "source": [
    "Un reconocimiento a mis estudiantes que han construido conmigo este saber pedagógico:\n",
    "\n",
    "<img src = ''> \n",
    "\n"
   ]
  },
  {
   "cell_type": "markdown",
   "id": "8a74a56c-0ce6-4ad6-b985-553fd7fb68bb",
   "metadata": {},
   "source": [
    "Reconocimiento a las profesoras destacadas en enseñanza de la matemática en Colombia\n"
   ]
  },
  {
   "cell_type": "code",
   "execution_count": 4,
   "id": "0b69cf98",
   "metadata": {},
   "outputs": [
    {
     "name": "stdout",
     "output_type": "stream",
     "text": [
      "{'encoding': 'ISO-8859-1', 'confidence': 0.73, 'language': ''}\n"
     ]
    }
   ],
   "source": [
    "import chardet\n",
    "\n",
    "# Leer una muestra del archivo\n",
    "with open('C:/Users/marco/Documentos/docencia/groups_list/calculo_vectorial.csv', 'rb') as f:\n",
    "    result = chardet.detect(f.read())\n",
    "    print(result)\n"
   ]
  },
  {
   "cell_type": "code",
   "execution_count": 6,
   "id": "7604880f",
   "metadata": {
    "slideshow": {
     "slide_type": "slide"
    }
   },
   "outputs": [
    {
     "name": "stdout",
     "output_type": "stream",
     "text": [
      "Llamando a MASS MIRANDA RIVALDO JOSE...\n",
      "Actualizado: MASS MIRANDA RIVALDO JOSE ahora tiene 0.3 en la columna 'Parcial'.\n",
      "Llamando a SILVA ROYERO MAILY CRISTINA...\n",
      "Actualizado: SILVA ROYERO MAILY CRISTINA ahora tiene 0.3 en la columna 'Parcial'.\n",
      "Llamando a RAMOS PEREZ YANINE...\n",
      "Actualizado: RAMOS PEREZ YANINE ahora tiene 0.3 en la columna 'Parcial'.\n",
      "Llamando a BERTEL RODELO MICHELL SMIT...\n",
      "Actualizado: BERTEL RODELO MICHELL SMIT ahora tiene 0.3 en la columna 'Parcial'.\n",
      "Llamando a BULA VERGARA MARIA PAULA...\n",
      "Actualizado: BULA VERGARA MARIA PAULA ahora tiene 0.3 en la columna 'Parcial'.\n",
      "Llamando a RIVAS HOYOS ESTEFANIA...\n",
      "Actualizado: RIVAS HOYOS ESTEFANIA ahora tiene 0.3 en la columna 'Parcial'.\n",
      "Llamando a MIRANDA MARTINEZ CARLOS ANDRES...\n",
      "Actualizado: MIRANDA MARTINEZ CARLOS ANDRES ahora tiene 0.3 en la columna 'Parcial'.\n",
      "Llamando a CERVANTES DURAN ANGELICA...\n",
      "Actualizado: CERVANTES DURAN ANGELICA ahora tiene 0.3 en la columna 'Parcial'.\n",
      "Llamando a ARENAS HERAZO GABRIEL ENRIQUE...\n",
      "Actualizado: ARENAS HERAZO GABRIEL ENRIQUE ahora tiene 0.3 en la columna 'Parcial'.\n",
      "Llamando a HUMANEZ SANCHEZ CAMILO...\n",
      "Actualizado: HUMANEZ SANCHEZ CAMILO ahora tiene 0.3 en la columna 'Parcial'.\n",
      "Llamando a GUERRA NORIEGA YONATHAN...\n",
      "Actualizado: GUERRA NORIEGA YONATHAN ahora tiene 0.3 en la columna 'Parcial'.\n",
      "Llamando a MONTERROSA SOTO ABRIL...\n",
      "Actualizado: MONTERROSA SOTO ABRIL ahora tiene 0.3 en la columna 'Parcial'.\n",
      "Llamando a USUGA GEORGE JHON ESTIVEN...\n",
      "Actualizado: USUGA GEORGE JHON ESTIVEN ahora tiene 0.3 en la columna 'Parcial'.\n",
      "Llamando a AMARIS FERNANDEZ SEBASTIAN CAMILO...\n",
      "Actualizado: AMARIS FERNANDEZ SEBASTIAN CAMILO ahora tiene 0.3 en la columna 'Parcial'.\n",
      "Llamando a CANTILLO ENSUCHO DANIEL...\n",
      "Actualizado: CANTILLO ENSUCHO DANIEL ahora tiene 0.3 en la columna 'Parcial'.\n",
      "Llamando a HINCAPIE CASTRO JOHAN SEBASTIAN...\n",
      "Actualizado: HINCAPIE CASTRO JOHAN SEBASTIAN ahora tiene 0.3 en la columna 'Parcial'.\n",
      "Llamando a PINEDA ROMERO YOSMERI...\n",
      "Actualizado: PINEDA ROMERO YOSMERI ahora tiene 0.3 en la columna 'Parcial'.\n",
      "Llamando a IBAÑEZ MORENO FRANCISCO LUIS...\n",
      "Actualizado: IBAÑEZ MORENO FRANCISCO LUIS ahora tiene 0.3 en la columna 'Parcial'.\n",
      "Llamando a PEREZ THERAN ERLINDA...\n",
      "Actualizado: PEREZ THERAN ERLINDA ahora tiene 0.3 en la columna 'Parcial'.\n",
      "Llamando a PEREZ REYES IVAN DARIO...\n",
      "Actualizado: PEREZ REYES IVAN DARIO ahora tiene 0.3 en la columna 'Parcial'.\n",
      "Llamando a QUINONEZ CERVANTES MARIANA...\n",
      "Actualizado: QUINONEZ CERVANTES MARIANA ahora tiene 0.3 en la columna 'Parcial'.\n",
      "Llamando a SANCHEZ PADILLA SILVESTRE...\n",
      "Actualizado: SANCHEZ PADILLA SILVESTRE ahora tiene 0.3 en la columna 'Parcial'.\n",
      "Llamando a ROSILLO TEJADA VANESA...\n",
      "Actualizado: ROSILLO TEJADA VANESA ahora tiene 0.3 en la columna 'Parcial'.\n",
      "Llamando a NORIEGA JIMENEZ GABRIELA...\n",
      "Actualizado: NORIEGA JIMENEZ GABRIELA ahora tiene 0.3 en la columna 'Parcial'.\n",
      "Llamando a AYALA MENDOZA MARISOL YACIRA...\n",
      "Actualizado: AYALA MENDOZA MARISOL YACIRA ahora tiene 0.3 en la columna 'Parcial'.\n",
      "Cambios guardados en el archivo CSV.\n"
     ]
    }
   ],
   "source": [
    "import pandas as pd\n",
    "import numpy as np\n",
    "\n",
    "# Cargar la lista de estudiantes desde el archivo CSV\n",
    "path = 'C:/Users/marco/Documentos/docencia/groups_list/calculo_vectorial.csv'\n",
    "estudiantes = pd.read_csv(path, encoding='ISO-8859-1', sep = ';')\n",
    "estudiantes['Parcial'] = estudiantes['Parcial'].astype(float)  # Asegurar que la columna 'Parcial' es float\n",
    "\n",
    "# Convertir la columna 'Nombre' a una lista de Python\n",
    "lista_estudiantes = estudiantes['Nombre'].tolist()\n",
    "\n",
    "# Función para llamar a un estudiante aleatoriamente y registrar su nota de seguimiento\n",
    "def asistencia():\n",
    "    global lista_estudiantes\n",
    "    if lista_estudiantes:\n",
    "        estudiante_aleatorio = np.random.choice(lista_estudiantes)\n",
    "        print(f\"Llamando a {estudiante_aleatorio}...\")\n",
    "        asistencia = input(f\"¿Asistió {estudiante_aleatorio}? (s/n): \").strip().lower()\n",
    "        \n",
    "        # Validación de entrada\n",
    "        if asistencia == 's':\n",
    "            # Obtener el índice del estudiante en el DataFrame\n",
    "            indice = estudiantes[estudiantes['Nombre'] == estudiante_aleatorio].index[0]\n",
    "            # Incrementar su valor en la columna 'Parcial'\n",
    "            estudiantes.at[indice, 'Parcial'] += 0.3\n",
    "            print(f\"Actualizado: {estudiante_aleatorio} ahora tiene {estudiantes.at[indice, 'Parcial']} en la columna 'Parcial'.\")\n",
    "        \n",
    "        elif asistencia != 'n':\n",
    "            print(\"Entrada inválida. Por favor, introduce 's' para sí o 'n' para no.\")\n",
    "            return  # Volver a preguntar para el mismo estudiante si la entrada es inválida\n",
    "        \n",
    "        # Remover al estudiante de la lista para no llamarlo de nuevo\n",
    "        lista_estudiantes.remove(estudiante_aleatorio)\n",
    "    else:\n",
    "        print(\"Se han llamado a todos los estudiantes del grupo completo.\")\n",
    "\n",
    "# Función para guardar cambios al final de la sesión\n",
    "def guardar_cambios():\n",
    "    estudiantes.to_csv(path, index=False)\n",
    "    print(\"Cambios guardados en el archivo CSV.\")\n",
    "\n",
    "# Ejemplo de uso\n",
    "while lista_estudiantes:\n",
    "    asistencia()\n",
    "\n",
    "# Guardar los cambios una vez que todos los estudiantes hayan sido llamados\n",
    "guardar_cambios()\n",
    "\n"
   ]
  },
  {
   "cell_type": "markdown",
   "id": "d7598d0a-d9b7-4ae0-b029-a0ed6ed1130b",
   "metadata": {},
   "source": [
    "\n",
    "# Principios de mi labor docente"
   ]
  },
  {
   "cell_type": "markdown",
   "id": "4f9d8cf9",
   "metadata": {
    "slideshow": {
     "slide_type": "slide"
    }
   },
   "source": [
    "## Modelo general de clase: [aula invertida](https://www3.gobiernodecanarias.org/medusa/ecoescuela/pedagotic/aprendizaje-invertido-flipped-classroom/)"
   ]
  },
  {
   "cell_type": "markdown",
   "id": "eb6ed03a",
   "metadata": {},
   "source": [
    "<img src = 'https://resources.maneuveringthemiddle.com/wp-content/uploads/2020/07/04212706/1-5.png' width = 400>  \n",
    "\n"
   ]
  },
  {
   "cell_type": "markdown",
   "id": "34319cce-a71b-4f64-aab8-b53e521efa40",
   "metadata": {},
   "source": [
    "# Metodología de enseñanza basada en problemas (ABP)\n"
   ]
  },
  {
   "cell_type": "markdown",
   "id": "c4f73d81",
   "metadata": {},
   "source": [
    "\n",
    "<img src = 'https://www.unir.net/wp-content/uploads/2020/07/aprendizaje-problemas2-1-1-1-1.jpeg' width = 300>"
   ]
  },
  {
   "cell_type": "markdown",
   "id": "841a985c-bd9b-4dd3-8e4c-893983980af2",
   "metadata": {},
   "source": [
    "# Desarrollo del pensamiento computacional con python y cuadernos Jupyter  orientado a la formación en ciencia de datos \n",
    "\n"
   ]
  },
  {
   "cell_type": "markdown",
   "id": "3d0eba94",
   "metadata": {},
   "source": [
    "\n",
    "<img src = 'https://i.ytimg.com/vi/mcG_wcR4e6M/maxresdefault.jpg' width = 400>"
   ]
  },
  {
   "cell_type": "markdown",
   "id": "65aa0404-f7ae-495e-864c-1aec01b4255e",
   "metadata": {},
   "source": [
    "# Principio de fomento a la ciencia abierta, enseñar en el acceso a los datos públicos y el uso de software de código abierto  \n"
   ]
  },
  {
   "cell_type": "markdown",
   "id": "18ae9b87",
   "metadata": {},
   "source": [
    "\n",
    "<img src = 'https://unesdoc.unesco.org/in/rest/Thumb/image?id=p%3A%3Ausmarcdef_0000379949_spa&author=UNESCO&title=Recomendaci%C3%B3n+de+la+UNESCO+sobre+la+Ciencia+Abierta&year=2021&publisher=UNESCO&TypeOfDocument=UnescoPhysicalDocument&mat=PGD&ct=true&size=512&isPhysical=1' width = 200>"
   ]
  },
  {
   "cell_type": "markdown",
   "id": "d9559f85",
   "metadata": {},
   "source": [
    "El enfoque STEAMS en educación preescolar, primaria y secundaria es una extensión del enfoque STEM (Ciencia, Tecnología, Ingeniería y Matemáticas) y su variante STEAM, que incorpora el Arte. "
   ]
  },
  {
   "cell_type": "markdown",
   "id": "72e1cfd2",
   "metadata": {},
   "source": [
    "El acrónimo STEAMS incluye:\n"
   ]
  },
  {
   "cell_type": "markdown",
   "id": "03182fd1",
   "metadata": {},
   "source": [
    "\n",
    "1. **Science (Ciencia):** Fomenta la curiosidad por el mundo natural y el desarrollo de habilidades científicas, como la observación, experimentación y análisis.\n"
   ]
  },
  {
   "cell_type": "markdown",
   "id": "1306d0fa",
   "metadata": {},
   "source": [
    "\n",
    "2. **Technology (Tecnología):** Integra herramientas tecnológicas para potenciar el aprendizaje y la resolución de problemas, promoviendo la alfabetización digital desde edades tempranas.\n"
   ]
  },
  {
   "cell_type": "markdown",
   "id": "3b1a53e8",
   "metadata": {},
   "source": [
    "\n",
    "3. **Engineering (Ingeniería):** Introduce el pensamiento lógico y la resolución de problemas estructurados, fomentando habilidades como el diseño y la construcción de soluciones.\n"
   ]
  },
  {
   "cell_type": "markdown",
   "id": "0196de87",
   "metadata": {},
   "source": [
    "\n",
    "4. **Arts (Arte):** Añade creatividad y pensamiento crítico, permitiendo a los estudiantes expresarse y explorar el aprendizaje a través de formas artísticas (plásticas, música, teatro).\n"
   ]
  },
  {
   "cell_type": "markdown",
   "id": "8bcc485a",
   "metadata": {},
   "source": [
    "\n",
    "5. **Mathematics (Matemáticas):** Refuerza las habilidades numéricas y el razonamiento lógico, fundamentales en la resolución de problemas y comprensión de conceptos abstractos.\n"
   ]
  },
  {
   "cell_type": "markdown",
   "id": "907935f4",
   "metadata": {},
   "source": [
    "\n",
    "6. **Social Sciences (Ciencias Sociales):** Incorpora la comprensión del entorno social, político, cultural y económico, promoviendo el desarrollo de la conciencia crítica sobre el mundo y su historia, además de habilidades de empatía y ciudadanía.\n"
   ]
  },
  {
   "cell_type": "markdown",
   "id": "39967d63",
   "metadata": {},
   "source": [
    "\n",
    "El enfoque STEAMS pretende desarrollar un aprendizaje **interdisciplinario** que integre estas áreas para fomentar un pensamiento más holístico y práctico. "
   ]
  },
  {
   "cell_type": "markdown",
   "id": "5145f077",
   "metadata": {},
   "source": [
    "Se busca que los estudiantes no solo aprendan conocimientos técnicos, sino también cómo aplicarlos creativa y críticamente en situaciones reales, promoviendo habilidades como el trabajo en equipo, la comunicación y la innovación. "
   ]
  },
  {
   "cell_type": "markdown",
   "id": "9d556584",
   "metadata": {},
   "source": [
    "En educación preescolar, primaria, secundaria y superior, se adapta a las diferentes etapas de desarrollo cognitivo y emocional de los estudiantes, promoviendo el aprendizaje activo y contextualizado.  \n"
   ]
  },
  {
   "cell_type": "markdown",
   "id": "0130ec1b",
   "metadata": {},
   "source": [
    "\n",
    "<img src = 'https://www.campuseducacion.com/blog/wp-content/uploads/2023/03/foto01-1.jpg' width = 400>"
   ]
  },
  {
   "cell_type": "markdown",
   "id": "9d15c10d-2c02-4158-9419-b1ed79b4c1ee",
   "metadata": {},
   "source": [
    "# Qué estamos haciendo por la internalización en esta clase y este curso  \n"
   ]
  },
  {
   "cell_type": "markdown",
   "id": "6e4feef2",
   "metadata": {},
   "source": [
    "\n",
    "Para presentar tus acciones como docente de matemáticas en la Universidad de Antioquia con miras a la **internacionalización** de tu práctica docente y el desarrollo de competencias internacionales en tus estudiantes, te sugiero estructurar tu enfoque en los siguientes aspectos clave:"
   ]
  },
  {
   "cell_type": "markdown",
   "id": "964d9de7-53ee-4255-9bcd-d8e6454f2993",
   "metadata": {},
   "source": [
    "### 1. **Visión Global en la Formación Académica**\n"
   ]
  },
  {
   "cell_type": "markdown",
   "id": "d9bdd3e2",
   "metadata": {},
   "source": [
    "   - **Competencias Internacionales**: Asegúrate de que el contenido de tus cursos fomente habilidades que sean reconocidas globalmente. Al educar a los estudiantes en **Python, LaTeX, Markdown y Jupyter Notebooks** y en la **introducción a la ciencia de datos y técnicas de Machine Learning**, estás proporcionando competencias altamente demandadas en los sectores tecnológicos y académicos a nivel internacional.\n"
   ]
  },
  {
   "cell_type": "markdown",
   "id": "39b55206",
   "metadata": {},
   "source": [
    "   - **Relevancia de los Contenidos**: Destaca cómo los temas que enseñas, como el **desarrollo del pensamiento computacional** y la **ciencia de datos**, están alineados con las necesidades globales actuales en diversas industrias, desde la tecnología hasta las ciencias naturales y sociales.\n"
   ]
  },
  {
   "cell_type": "markdown",
   "id": "a054599e",
   "metadata": {},
   "source": [
    "   - **Referencias a Estándares Internacionales**: Puedes vincular tu enseñanza a estándares internacionales de competencias en programación y ciencia de datos (por ejemplo, frameworks del **IEEE, ACM**, y estándares de la **data science** o la **computación en la nube**)."
   ]
  },
  {
   "cell_type": "markdown",
   "id": "0f1d110c-3142-48fe-9e7d-5fbd9e8bb931",
   "metadata": {},
   "source": [
    "### 2. **Innovación Pedagógica con Enfoque Internacional**\n"
   ]
  },
  {
   "cell_type": "markdown",
   "id": "fae6ae34",
   "metadata": {},
   "source": [
    "   - **Aula Invertida y ABP**: Presenta cómo tu enfoque de **aula invertida** y **aprendizaje basado en problemas (ABP)** permite a los estudiantes trabajar de manera autónoma y colaborativa, lo que los prepara para escenarios laborales internacionales que requieren autoaprendizaje y habilidades de resolución de problemas en equipo.\n"
   ]
  },
  {
   "cell_type": "markdown",
   "id": "c83062d9",
   "metadata": {},
   "source": [
    "   - **Uso de Jupyter Notebooks**: El uso de **Jupyter Notebooks** en tus clases no solo facilita la **integración de código, matemáticas y texto**, sino que también es una plataforma utilizada globalmente en ambientes académicos y profesionales, lo que hace a tus estudiantes más competitivos internacionalmente."
   ]
  },
  {
   "cell_type": "markdown",
   "id": "960d52b7-03cd-4eb3-965e-5cdfeb7d9f8e",
   "metadata": {},
   "source": [
    "### 3. **Tecnología y Herramientas de Uso Global**\n"
   ]
  },
  {
   "cell_type": "markdown",
   "id": "4be7269f",
   "metadata": {},
   "source": [
    "   - **Lenguaje Python**: Python es uno de los lenguajes de programación más usados a nivel mundial, tanto en la academia como en la industria. Al formar a tus estudiantes en Python para ciencia de datos y machine learning, los preparas para operar en entornos tecnológicos globales.\n"
   ]
  },
  {
   "cell_type": "markdown",
   "id": "102655af",
   "metadata": {},
   "source": [
    "   - **Herramientas de Ciencia Abierta**: Resalta cómo herramientas como **GitHub**, **Google Colab** y otras plataformas de código abierto están alineadas con el movimiento de **ciencia abierta**, el cual es internacionalmente reconocido y permite que los estudiantes colaboren y compartan proyectos a nivel global."
   ]
  },
  {
   "cell_type": "markdown",
   "id": "3b2ffa32-7a6f-4545-ba7b-c6a69f51109f",
   "metadata": {},
   "source": [
    "### 4. **Investigación y Publicaciones Internacionales**\n"
   ]
  },
  {
   "cell_type": "markdown",
   "id": "bdbf52a5",
   "metadata": {},
   "source": [
    "   - **Promoción de la Investigación**: Detalla cómo promueves que tus estudiantes participen en proyectos de **investigación aplicada**, con posibilidad de publicación en revistas internacionales. Esto contribuye a la reputación internacional de la Universidad de Antioquia.\n"
   ]
  },
  {
   "cell_type": "markdown",
   "id": "ea01fcbc",
   "metadata": {},
   "source": [
    "   - **Colaboraciones Internacionales**: Si has colaborado con investigadores de otras instituciones o universidades en el extranjero, menciona estos proyectos y cómo han enriquecido tu enseñanza y proporcionado a los estudiantes una visión más globalizada."
   ]
  },
  {
   "cell_type": "markdown",
   "id": "5d1e396e-aece-4bf7-9421-32fa7809eaf4",
   "metadata": {},
   "source": [
    "### 5. **Uso del Inglés para la Internacionalización**\n",
    "   - **Comunicación Científica en Inglés**: Fomentar el aprendizaje del inglés como lengua científica es clave para que tus estudiantes puedan acceder a publicaciones internacionales, conferencias, y material académico que no está disponible en español. Esto es esencial para que adquieran competencias que les permitan desempeñarse en cualquier contexto internacional.\n",
    "   - **Material Bilingüe**: Al generar material educativo en Python, LaTeX y Markdown, considera ofrecer algunos de estos recursos en inglés, para que los estudiantes se familiaricen con el vocabulario técnico y científico internacional."
   ]
  },
  {
   "cell_type": "markdown",
   "id": "c6a8c3b0-426a-4692-a384-3065aea81c9a",
   "metadata": {},
   "source": [
    "### 6. **Certificaciones y Estándares Internacionales**\n"
   ]
  },
  {
   "cell_type": "markdown",
   "id": "b1f41da5",
   "metadata": {},
   "source": [
    "   - **Participación en Certificaciones Internacionales**: Impulsa que los estudiantes busquen certificaciones internacionales en Python o ciencia de datos (como las ofrecidas por **Coursera, edX,** o **Google**). Estas certificaciones no solo validan sus competencias, sino que también incrementan el reconocimiento de la Universidad de Antioquia en el contexto internacional.\n",
    "   - **Alineación con Acreditaciones Internacionales**: Vincula tu trabajo docente con los estándares de acreditación y certificación que garantizan que la universidad siga siendo reconocida internacionalmente. Puedes vincularte con organizaciones internacionales que promuevan la excelencia en la educación y tecnología, como **ABET** para la acreditación en ingeniería y ciencias computacionales."
   ]
  },
  {
   "cell_type": "markdown",
   "id": "65d3d9e1-ea84-43e0-8197-a2a9c9e21594",
   "metadata": {},
   "source": [
    "### 7. **Proyectos Abiertos y Ciencia Reproducible**\n",
    "   - **GitHub y Open Science**: La utilización de **GitHub** para almacenar los proyectos y materiales de enseñanza en repositorios públicos permite que otros investigadores y educadores internacionales puedan revisar y replicar tu trabajo. Esto contribuye a la creación de una red de colaboración científica abierta.\n",
    "   - **Transparencia y Reproducibilidad**: La ciencia de datos y machine learning están profundamente ligados a la reproducibilidad. Asegura que tus estudiantes desarrollen prácticas de transparencia y documentación en la investigación, que son pilares en la comunidad científica global.\n"
   ]
  },
  {
   "cell_type": "markdown",
   "id": "215cb551",
   "metadata": {},
   "source": [
    "\n",
    "### 8. **Participación en Redes y Conferencias Internacionales**\n",
    "   - **Presentación en Conferencias Internacionales**: Destaca cómo tu participación en conferencias internacionales (como la **ASCOLFA** o eventos sobre educación en matemáticas) contribuye al prestigio de la universidad y permite que tus prácticas sean evaluadas y reconocidas a nivel global.\n"
   ]
  },
  {
   "cell_type": "markdown",
   "id": "cdf46e29",
   "metadata": {},
   "source": [
    "   - **Promoción de Estudiantes en Eventos Internacionales**: Impulsa la participación de tus estudiantes en competiciones internacionales de programación o hackathons, como los organizados por **Google**, **ACM** o **Kaggle**. Esto no solo desarrolla sus habilidades, sino que también visibiliza el talento de la Universidad de Antioquia a nivel global.\n",
    "\n",
    "---"
   ]
  },
  {
   "cell_type": "markdown",
   "id": "233294a4-1983-4641-a7ad-866825e02315",
   "metadata": {},
   "source": [
    "Con esta estrategia, presento mis acciones docentes en términos de competencias internacionales, innovación pedagógica, tecnología, investigación y participación en redes globales, asegurando que tu práctica esté alineada con los estándares internacionales y que tus estudiantes estén preparados para competir en contextos internacionales."
   ]
  },
  {
   "cell_type": "markdown",
   "id": "8d97dc80",
   "metadata": {
    "slideshow": {
     "slide_type": "slide"
    }
   },
   "source": [
    "## Fomento de la lectura literaria asociada a Ingeniería agropecuaria y licenciatura en Matemáticas\n",
    "\n",
    "[Aprender a obtener el sí sin ceder]()"
   ]
  },
  {
   "cell_type": "markdown",
   "id": "96775931",
   "metadata": {
    "slideshow": {
     "slide_type": "slide"
    }
   },
   "source": [
    "## Título de la clase: Aplicación de la integral definida cl cálculo de probabilidades y esperanzas.   \n",
    "\n",
    "[]()"
   ]
  },
  {
   "cell_type": "markdown",
   "id": "1d38dd4e",
   "metadata": {
    "slideshow": {
     "slide_type": "slide"
    }
   },
   "source": [
    "### Objetivo de aprendizaje \n"
   ]
  },
  {
   "cell_type": "markdown",
   "id": "540f0ec1",
   "metadata": {
    "slideshow": {
     "slide_type": "slide"
    }
   },
   "source": [
    "## Cuestionario para realizar labores de memorización, observación y síntesis de la información (Además de diagnóstico)  \n",
    "\n",
    "1. ¿Qué?\n",
    "2. ¿Cómo?\n",
    "3. ¿Dónde?\n",
    "4. ¿Cuándo?\n",
    "5. ¿Por qué? "
   ]
  },
  {
   "cell_type": "markdown",
   "id": "8e457ea2",
   "metadata": {},
   "source": [
    "# Definiciones y Resultados científicos a comprender y memorizar \n",
    "\n",
    "[Primera grabación en Vocaroo]()"
   ]
  },
  {
   "cell_type": "markdown",
   "id": "ca7261b1",
   "metadata": {
    "slideshow": {
     "slide_type": "slide"
    }
   },
   "source": [
    "## Establecimiento de prerrequisitos conceptuales para alcanzar el objetivo de aprendizaje trazado.   \n",
    "\n",
    "(Elabore una lista de preguntas al rededor de los conceptos que consideres necesarios para empezar la clase).  \n",
    "\n",
    "1. \n",
    "2. \n",
    "3. "
   ]
  },
  {
   "cell_type": "markdown",
   "id": "2298e976",
   "metadata": {
    "slideshow": {
     "slide_type": "slide"
    }
   },
   "source": [
    "# Para el diseño de la clase tenga en cuenta algunos problemas de aprendizaje"
   ]
  },
  {
   "cell_type": "markdown",
   "id": "523d3acf",
   "metadata": {
    "slideshow": {
     "slide_type": "slide"
    }
   },
   "source": []
  },
  {
   "cell_type": "markdown",
   "id": "a40a4704",
   "metadata": {
    "slideshow": {
     "slide_type": "slide"
    }
   },
   "source": [
    "## Secuencia conceptual introductoria a la clase"
   ]
  },
  {
   "cell_type": "markdown",
   "id": "8853d874",
   "metadata": {},
   "source": [
    "## El componente histórico y epistemológico"
   ]
  },
  {
   "cell_type": "markdown",
   "id": "e3ffa494",
   "metadata": {},
   "source": [
    "# Vocabulary   \n",
    "\n",
    "1. \n",
    "2.  \n",
    "3.  \n",
    "4.  \n",
    "5.  "
   ]
  },
  {
   "cell_type": "code",
   "execution_count": 4,
   "id": "6ff395c3",
   "metadata": {},
   "outputs": [],
   "source": [
    "# Traducción del inglés al español con python\n",
    "\n",
    "def traducir(texto):\n",
    "    from googletrans import Translator\n",
    "\n",
    "    translator = Translator() # instancia la clase \n",
    "\n",
    "    # Traducir al español\n",
    "    translation = translator.translate(texto, src='en', dest='es')\n",
    "    return translation.text"
   ]
  },
  {
   "cell_type": "code",
   "execution_count": 5,
   "id": "b583f414-ac87-4912-8a86-b338234d83d7",
   "metadata": {},
   "outputs": [
    {
     "data": {
      "text/plain": [
       "'Hola'"
      ]
     },
     "execution_count": 5,
     "metadata": {},
     "output_type": "execute_result"
    }
   ],
   "source": [
    "traducir('Hi')"
   ]
  },
  {
   "cell_type": "code",
   "execution_count": null,
   "id": "bc0addfe",
   "metadata": {},
   "outputs": [
    {
     "data": {
      "text/plain": [
       "'/home/marco/Documentos/docencia/calculo/images/0_reales/ .pdf'"
      ]
     },
     "execution_count": 1,
     "metadata": {},
     "output_type": "execute_result"
    }
   ],
   "source": [
    "# mapa conceptual para cada clase  \n",
    "from graphviz import Digraph\n",
    "\n",
    "# Crear un nuevo grafo dirigido\n",
    "dot = Digraph()\n",
    "\n",
    "# Añadir nodos y relaciones al grafo\n",
    "main_concept = ' '\n",
    "dot.node('A', main_concept)\n",
    "dot.node('B', '')\n",
    "dot.node('C', '')\n",
    "dot.node('D', '')\n",
    "\n",
    "dot.edges(['AB'])\n",
    "\n",
    "\n",
    "# Guardar el grafo como un archivo de imagen\n",
    "dot.render(filename=main_concept, format='png', cleanup=True, \\\n",
    "           directory='C:/Users/marco/Documentos/docencia/')\n",
    "\n",
    "dot.view()\n"
   ]
  },
  {
   "cell_type": "markdown",
   "id": "10e55ccf",
   "metadata": {},
   "source": [
    "# Estructura general para todas las clases\n",
    "\n",
    "Dame, por favor, un diseño de clase sobre la estructura de datos llamada DataFrame de Pandas en python y su utilización en ciencia de datos con técnicas de machine learning siguiendo la siguiente estructura: \n",
    "1. Título de la clase \n",
    "2. Objetivo de aprendizaje\n",
    "3. Contenido de la clase\n",
    "4. Actividades de aprendizaje\n",
    "5. Tarea o actividades de ejercitación y fijación\n",
    "6. Diseño de actividad de retroalimentación. "
   ]
  },
  {
   "cell_type": "markdown",
   "id": "239427f7",
   "metadata": {},
   "source": [
    "# Diseño de la clase  \n",
    "\n",
    "### **Diseño de clase: Aplicación de la integral definida para el cálculo de probabilidades en Ingeniería agropecuaria usando Python y datos del IDEAM en Colombia**\n",
    "\n",
    "---\n"
   ]
  },
  {
   "cell_type": "markdown",
   "id": "73126e94",
   "metadata": {},
   "source": [
    "\n",
    "### **1. Título de la clase**\n",
    "**Cálculo de probabilidades aplicadas a eventos agroclimáticos mediante la integral definida con Python y datos del IDEAM.**\n",
    "\n",
    "---\n",
    "\n",
    "### **2. Objetivo de aprendizaje**\n",
    "Los estudiantes comprenderán cómo utilizar la integral definida para calcular probabilidades relacionadas con eventos agroclimáticos, empleando distribuciones de probabilidad, datos reales del IDEAM y herramientas computacionales en Python.\n",
    "\n",
    "---\n"
   ]
  },
  {
   "cell_type": "markdown",
   "id": "6903fa86",
   "metadata": {},
   "source": [
    "\n",
    "### **3. Contenido de la clase**\n",
    "1. **Introducción teórica:**\n",
    "   - Definición de integral definida.\n",
    "   - Distribuciones de probabilidad aplicadas a datos climáticos (e.g., Normal, Exponencial).\n",
    "   - Relación entre la integral definida y el cálculo de probabilidades.\n",
    "2. **Contexto aplicado:**\n",
    "   - Importancia de la predicción climática en la Ingeniería agropecuaria.\n",
    "   - Descripción de los datos meteorológicos del IDEAM: precipitación, temperatura, humedad.\n",
    "3. **Implementación en Python:**\n",
    "   - Uso de bibliotecas como `numpy`, `scipy.stats`, y `matplotlib`.\n",
    "   - Ejemplo práctico: cálculo de la probabilidad de un evento de alta precipitación (>50 mm).\n",
    "\n",
    "---\n"
   ]
  },
  {
   "cell_type": "markdown",
   "id": "9ffbd84b",
   "metadata": {},
   "source": [
    "\n",
    "### **4. Actividades de aprendizaje**\n",
    "1. **Exploración de datos:**\n",
    "   - Los estudiantes cargarán y explorarán un conjunto de datos proporcionado por el IDEAM en formato CSV (temperatura y precipitación).\n",
    "   - Identificarán variables clave, como rangos de precipitación y temperaturas extremas.\n",
    "   - Uso de gráficos para visualizar la distribución de las variables (e.g., histogramas y curvas de densidad).\n",
    "   \n",
    "   Código base:\n"
   ]
  },
  {
   "cell_type": "code",
   "execution_count": 12,
   "id": "da06986d",
   "metadata": {},
   "outputs": [
    {
     "name": "stderr",
     "output_type": "stream",
     "text": [
      "C:\\Users\\marco\\AppData\\Local\\Temp\\ipykernel_19764\\1862630612.py:5: DtypeWarning: Columns (0) have mixed types. Specify dtype option on import or set low_memory=False.\n",
      "  datos = pd.read_csv('C:/Users/marco/Documentos/docencia/ideam_precipitacion_caucasia/Precipitacion_ultimo_año_2024_nov15_4.csv')\n"
     ]
    },
    {
     "data": {
      "image/png": "[encoded data removed]",
      "text/plain": [
       "<Figure size 640x480 with 1 Axes>"
      ]
     },
     "metadata": {},
     "output_type": "display_data"
    }
   ],
   "source": [
    "import pandas as pd\n",
    "import matplotlib.pyplot as plt\n",
    "\n",
    "# Cargar datos\n",
    "datos = pd.read_csv('C:/Users/marco/Documentos/docencia/ideam_precipitacion_caucasia/Precipitacion_ultimo_año_2024_nov15_4.csv')\n",
    "plt.hist(datos['ValorObservado'], bins=20, density=True, alpha=0.6, color='g')\n",
    "plt.title('Distribución de Precipitación')\n",
    "plt.xlabel('Precipitación (mm)')\n",
    "plt.ylabel('Densidad')\n",
    "plt.show()\n",
    "\n"
   ]
  },
  {
   "cell_type": "markdown",
   "id": "a7ff7284",
   "metadata": {},
   "source": [
    "2. **Cálculo de probabilidades:**\n",
    "   - Usar Python para integrar distribuciones conocidas (e.g., Normal o Exponencial) y calcular probabilidades de eventos como:\n",
    "     - La probabilidad de días con precipitación mayor a 50 mm.\n",
    "     - La probabilidad de temperaturas dentro de un rango óptimo para cultivos específicos.\n",
    "\n",
    "   Ejemplo:\n"
   ]
  },
  {
   "cell_type": "code",
   "execution_count": 19,
   "id": "dcd4e4b1",
   "metadata": {},
   "outputs": [
    {
     "name": "stdout",
     "output_type": "stream",
     "text": [
      "Probabilidad de precipitación > 1 mm: 13.13%\n"
     ]
    }
   ],
   "source": [
    "from scipy.stats import norm\n",
    "\n",
    "# Parámetros de la distribución\n",
    "media = datos['ValorObservado'].mean()\n",
    "desviacion = datos['ValorObservado'].std()\n",
    "medida_precipitacion = 1\n",
    "# Cálculo de probabilidad: P(X > 50)\n",
    "probabilidad = 1 - norm.cdf(medida_precipitacion, loc=media, scale=desviacion)\n",
    "print(f\"Probabilidad de precipitación > {medida_precipitacion} mm: {probabilidad:.2%}\")\n",
    "\n"
   ]
  },
  {
   "cell_type": "markdown",
   "id": "d0e9527b",
   "metadata": {},
   "source": [
    "\n",
    "---\n",
    "\n",
    "### **5. Tarea o actividades de ejercitación y fijación**\n",
    "1. **Ejercicios de aplicación:**\n",
    "   - Calcular la probabilidad de días con temperaturas entre 18°C y 25°C.\n",
    "   - Estimar el porcentaje de días con precipitación menor a 10 mm.\n",
    "2. **Desafíos:**\n",
    "   - Ajustar un modelo de distribución a los datos observados y justificar su elección.\n",
    "   - Crear un gráfico de probabilidad acumulada de precipitación.\n",
    "3. **Entrega:** Subir los análisis y gráficos a un repositorio de GitHub, acompañado de una explicación de los resultados obtenidos.\n",
    "\n",
    "---\n",
    "\n",
    "### **6. Diseño de actividad de retroalimentación**\n",
    "**Actividad grupal: Presentación y discusión de resultados**\n",
    "1. Cada grupo presentará:\n",
    "   - Su modelo de distribución seleccionado.\n",
    "   - Los cálculos de probabilidad realizados y su interpretación en el contexto agropecuario.\n",
    "   - Gráficos generados para visualizar los datos y probabilidades.\n",
    "2. **Retroalimentación del docente y compañeros:**\n",
    "   - El docente evaluará la coherencia de los análisis y brindará comentarios para mejorar el entendimiento.\n",
    "   - Los estudiantes responderán preguntas de sus compañeros y justificarán su enfoque.\n",
    "3. **Cierre:**\n",
    "   - Se presentará una solución general al problema, usando los datos de toda la clase para construir un análisis colectivo.\n",
    "\n",
    "---\n",
    "\n",
    "### **Recursos necesarios**\n",
    "- Jupyter Notebooks para la programación en Python.\n",
    "- Conjunto de datos del IDEAM en formato CSV.\n",
    "- Acceso a bibliotecas como `numpy`, `scipy`, `pandas`, y `matplotlib`.\n",
    "\n",
    "---\n",
    "\n",
    "¿Te gustaría ejemplos más detallados para los ejercicios o un conjunto de datos ficticio para practicar? "
   ]
  },
  {
   "cell_type": "markdown",
   "id": "3cb3b04f",
   "metadata": {},
   "source": [
    "[Video de apoyo a la lectura del diseño de la clase](https://www.youtube.com/watch?v=KGZySXeAkkw)"
   ]
  },
  {
   "cell_type": "markdown",
   "id": "ec048afb",
   "metadata": {},
   "source": [
    "# Implementación de la clase  \n",
    "\n",
    "### **Diseño de clase: Aplicación de la integral definida para el cálculo de probabilidades en Ingeniería agropecuaria usando Python y datos del IDEAM en Colombia**\n"
   ]
  },
  {
   "cell_type": "markdown",
   "id": "e9dfc236",
   "metadata": {},
   "source": [
    "\n",
    "---\n",
    "\n",
    "### **1. Título de la clase**\n",
    "**Cálculo de probabilidades aplicadas a eventos agroclimáticos mediante la integral definida con Python y datos del IDEAM.**\n"
   ]
  },
  {
   "cell_type": "markdown",
   "id": "3c19fb7b",
   "metadata": {},
   "source": [
    "\n",
    "---\n",
    "\n",
    "### **2. Objetivo de aprendizaje**\n",
    "Los estudiantes comprenderán cómo utilizar la integral definida para calcular probabilidades relacionadas con eventos agroclimáticos, empleando distribuciones de probabilidad, datos reales del IDEAM y herramientas computacionales en Python.\n",
    "\n",
    "---\n"
   ]
  },
  {
   "cell_type": "markdown",
   "id": "09c88079",
   "metadata": {},
   "source": [
    "\n",
    "### **3. Contenido de la clase**\n",
    "1. **Introducción teórica:**\n",
    "   - Definición de integral definida.\n",
    "   - Distribuciones de probabilidad aplicadas a datos climáticos (e.g., Normal, Exponencial).\n",
    "   - Relación entre la integral definida y el cálculo de probabilidades.\n"
   ]
  },
  {
   "cell_type": "markdown",
   "id": "28b3072e",
   "metadata": {},
   "source": [
    "### **3. Contenido de la clase**\n",
    "\n",
    "#### **1. Introducción teórica**\n",
    "##### **Definición de integral definida**\n",
    "La integral definida es una herramienta fundamental en el cálculo que permite medir el área bajo una curva en un intervalo específico \\([a, b]\\). Matemáticamente, se expresa como:\n",
    "\n",
    "$$\n",
    "\\int_a^b f(x) \\, dx\n",
    "$$\n",
    "\n",
    "Donde:\n",
    "- $f(x)$ es una función continua en el intervalo $[a, b]$,\n",
    "- \\(a\\) y \\(b\\) son los límites de integración.\n"
   ]
  },
  {
   "cell_type": "markdown",
   "id": "ff1a72b4",
   "metadata": {},
   "source": [
    "\n",
    "En términos prácticos, la integral definida no solo calcula áreas geométricas, sino también acumula valores que representan cantidades físicas, probabilidades o tasas de cambio.\n"
   ]
  },
  {
   "cell_type": "markdown",
   "id": "381e60f5",
   "metadata": {},
   "source": [
    "\n",
    "##### **Distribuciones de probabilidad aplicadas a datos climáticos**\n",
    "En el contexto de datos meteorológicos, las distribuciones de probabilidad permiten modelar fenómenos aleatorios como temperaturas, precipitaciones y vientos. Algunas distribuciones comunes son:\n"
   ]
  },
  {
   "cell_type": "markdown",
   "id": "bf7d7693",
   "metadata": {},
   "source": [
    "\n",
    "- **Distribución Normal (Gaussiana)**: \n",
    "   - Ideal para variables continuas como temperaturas promedio.\n",
    "   - Función de densidad: \n",
    "     $$\n",
    "     f(x) = \\frac{1}{\\sqrt{2\\pi\\sigma^2}} e^{-\\frac{(x-\\mu)^2}{2\\sigma^2}}\n",
    "     $$\n",
    "   - Parámetros: \n",
    "     - $\\mu$: media,\n",
    "     - $\\sigma$: desviación estándar.\n"
   ]
  },
  {
   "cell_type": "code",
   "execution_count": 23,
   "id": "87eda67a",
   "metadata": {},
   "outputs": [
    {
     "data": {
      "application/vnd.plotly.v1+json": {
       "config": {
        "plotlyServerURL": "https://plot.ly"
       },
       "data": [
        {
         "mode": "lines",
         "name": "Densidad Normal",
         "type": "scatter",
         "x": [
          10,
          10.080160320641282,
          10.160320641282565,
          10.240480961923847,
          10.32064128256513,
          10.400801603206412,
          10.480961923847696,
          10.561122244488978,
          10.641282565130261,
          10.721442885771543,
          10.801603206412825,
          10.881763527054108,
          10.96192384769539,
          11.042084168336673,
          11.122244488977955,
          11.202404809619239,
          11.28256513026052,
          11.362725450901804,
          11.442885771543086,
          11.52304609218437,
          11.603206412825651,
          11.683366733466933,
          11.763527054108216,
          11.843687374749498,
          11.923847695390782,
          12.004008016032063,
          12.084168336673347,
          12.164328657314629,
          12.244488977955912,
          12.324649298597194,
          12.404809619238478,
          12.48496993987976,
          12.565130260521041,
          12.645290581162325,
          12.725450901803608,
          12.80561122244489,
          12.885771543086172,
          12.965931863727455,
          13.046092184368737,
          13.12625250501002,
          13.206412825651302,
          13.286573146292586,
          13.366733466933868,
          13.44689378757515,
          13.527054108216433,
          13.607214428857716,
          13.687374749498998,
          13.76753507014028,
          13.847695390781563,
          13.927855711422845,
          14.008016032064127,
          14.08817635270541,
          14.168336673346694,
          14.248496993987976,
          14.328657314629258,
          14.408817635270541,
          14.488977955911825,
          14.569138276553106,
          14.649298597194388,
          14.729458917835672,
          14.809619238476953,
          14.889779559118235,
          14.969939879759519,
          15.050100200400802,
          15.130260521042084,
          15.210420841683366,
          15.29058116232465,
          15.370741482965933,
          15.450901803607215,
          15.531062124248496,
          15.61122244488978,
          15.691382765531062,
          15.771543086172343,
          15.851703406813627,
          15.93186372745491,
          16.012024048096194,
          16.092184368737474,
          16.172344689378757,
          16.25250501002004,
          16.33266533066132,
          16.412825651302605,
          16.492985971943888,
          16.57314629258517,
          16.65330661322645,
          16.733466933867735,
          16.81362725450902,
          16.8937875751503,
          16.973947895791582,
          17.054108216432866,
          17.13426853707415,
          17.214428857715433,
          17.294589178356713,
          17.374749498997996,
          17.454909819639276,
          17.53507014028056,
          17.615230460921843,
          17.695390781563127,
          17.77555110220441,
          17.85571142284569,
          17.935871743486974,
          18.016032064128254,
          18.096192384769537,
          18.17635270541082,
          18.256513026052104,
          18.336673346693388,
          18.41683366733467,
          18.49699398797595,
          18.57715430861723,
          18.657314629258515,
          18.7374749498998,
          18.817635270541082,
          18.897795591182366,
          18.97795591182365,
          19.05811623246493,
          19.138276553106213,
          19.218436873747493,
          19.298597194388776,
          19.37875751503006,
          19.458917835671343,
          19.539078156312627,
          19.619238476953907,
          19.69939879759519,
          19.77955911823647,
          19.859719438877754,
          19.939879759519037,
          20.02004008016032,
          20.100200400801604,
          20.180360721442888,
          20.260521042084168,
          20.340681362725448,
          20.42084168336673,
          20.501002004008015,
          20.5811623246493,
          20.661322645290582,
          20.741482965931866,
          20.821643286573146,
          20.90180360721443,
          20.98196392785571,
          21.062124248496993,
          21.142284569138276,
          21.22244488977956,
          21.302605210420843,
          21.382765531062123,
          21.462925851703407,
          21.543086172344687,
          21.62324649298597,
          21.703406813627254,
          21.783567134268537,
          21.86372745490982,
          21.943887775551104,
          22.024048096192384,
          22.104208416833664,
          22.184368737474948,
          22.26452905811623,
          22.344689378757515,
          22.4248496993988,
          22.505010020040082,
          22.585170340681362,
          22.665330661322646,
          22.745490981963925,
          22.82565130260521,
          22.905811623246493,
          22.985971943887776,
          23.06613226452906,
          23.14629258517034,
          23.226452905811623,
          23.306613226452903,
          23.386773547094187,
          23.46693386773547,
          23.547094188376754,
          23.627254509018037,
          23.707414829659317,
          23.7875751503006,
          23.86773547094188,
          23.947895791583164,
          24.028056112224448,
          24.10821643286573,
          24.188376753507015,
          24.2685370741483,
          24.34869739478958,
          24.428857715430862,
          24.509018036072142,
          24.589178356713425,
          24.66933867735471,
          24.749498997995993,
          24.829659318637276,
          24.909819639278556,
          24.98997995991984,
          25.07014028056112,
          25.150300601202403,
          25.230460921843687,
          25.31062124248497,
          25.390781563126254,
          25.470941883767534,
          25.551102204408817,
          25.631262525050097,
          25.71142284569138,
          25.791583166332664,
          25.871743486973948,
          25.95190380761523,
          26.03206412825651,
          26.112224448897795,
          26.19238476953908,
          26.27254509018036,
          26.352705410821642,
          26.432865731462925,
          26.51302605210421,
          26.59318637274549,
          26.673346693386772,
          26.753507014028056,
          26.83366733466934,
          26.91382765531062,
          26.993987975951903,
          27.074148296593187,
          27.154308617234467,
          27.23446893787575,
          27.314629258517034,
          27.394789579158317,
          27.474949899799597,
          27.55511022044088,
          27.635270541082164,
          27.715430861723448,
          27.795591182364728,
          27.87575150300601,
          27.955911823647295,
          28.036072144288575,
          28.11623246492986,
          28.196392785571142,
          28.276553106212425,
          28.356713426853705,
          28.43687374749499,
          28.517034068136272,
          28.597194388777556,
          28.677354709418836,
          28.75751503006012,
          28.837675350701403,
          28.917835671342683,
          28.997995991983966,
          29.07815631262525,
          29.158316633266534,
          29.238476953907814,
          29.318637274549097,
          29.39879759519038,
          29.478957915831664,
          29.559118236472944,
          29.639278557114228,
          29.71943887775551,
          29.79959919839679,
          29.879759519038075,
          29.95991983967936,
          30.04008016032064,
          30.12024048096192,
          30.200400801603205,
          30.28056112224449,
          30.360721442885772,
          30.440881763527052,
          30.521042084168336,
          30.60120240480962,
          30.6813627254509,
          30.761523046092183,
          30.841683366733466,
          30.92184368737475,
          31.00200400801603,
          31.082164328657313,
          31.162324649298597,
          31.24248496993988,
          31.32264529058116,
          31.402805611222444,
          31.482965931863728,
          31.563126252505008,
          31.64328657314629,
          31.723446893787575,
          31.803607214428858,
          31.883767535070138,
          31.96392785571142,
          32.0440881763527,
          32.124248496993985,
          32.20440881763527,
          32.28456913827655,
          32.364729458917836,
          32.44488977955912,
          32.5250501002004,
          32.605210420841686,
          32.68537074148297,
          32.765531062124246,
          32.84569138276553,
          32.92585170340681,
          33.0060120240481,
          33.08617234468937,
          33.16633266533066,
          33.24649298597194,
          33.326653306613224,
          33.40681362725451,
          33.48697394789579,
          33.567134268537075,
          33.64729458917836,
          33.72745490981964,
          33.807615230460925,
          33.88777555110221,
          33.967935871743485,
          34.04809619238477,
          34.12825651302605,
          34.20841683366733,
          34.28857715430861,
          34.368737474949896,
          34.44889779559118,
          34.52905811623246,
          34.609218436873746,
          34.68937875751503,
          34.76953907815631,
          34.8496993987976,
          34.92985971943888,
          35.010020040080164,
          35.09018036072144,
          35.170340681362724,
          35.25050100200401,
          35.33066132264529,
          35.41082164328657,
          35.49098196392785,
          35.571142284569135,
          35.65130260521042,
          35.7314629258517,
          35.811623246492985,
          35.89178356713427,
          35.97194388777555,
          36.052104208416836,
          36.13226452905812,
          36.2124248496994,
          36.29258517034068,
          36.37274549098196,
          36.452905811623246,
          36.53306613226452,
          36.613226452905806,
          36.69338677354709,
          36.77354709418837,
          36.85370741482966,
          36.93386773547094,
          37.014028056112224,
          37.09418837675351,
          37.17434869739479,
          37.254509018036075,
          37.33466933867736,
          37.414829659318634,
          37.49498997995992,
          37.5751503006012,
          37.655310621242485,
          37.73547094188376,
          37.815631262525045,
          37.89579158316633,
          37.97595190380761,
          38.056112224448896,
          38.13627254509018,
          38.21643286573146,
          38.296593186372746,
          38.37675350701403,
          38.45691382765531,
          38.5370741482966,
          38.61723446893787,
          38.69739478957916,
          38.77755511022044,
          38.857715430861724,
          38.937875751503,
          39.018036072144284,
          39.09819639278557,
          39.17835671342685,
          39.258517034068134,
          39.33867735470942,
          39.4188376753507,
          39.498997995991985,
          39.57915831663327,
          39.65931863727455,
          39.739478957915836,
          39.81963927855711,
          39.899799599198396,
          39.97995991983968,
          40.060120240480956,
          40.14028056112224,
          40.22044088176352,
          40.300601202404806,
          40.38076152304609,
          40.46092184368737,
          40.54108216432866,
          40.62124248496994,
          40.701402805611224,
          40.78156312625251,
          40.86172344689379,
          40.94188376753507,
          41.02204408817635,
          41.102204408817634,
          41.18236472945892,
          41.262525050100194,
          41.34268537074148,
          41.42284569138276,
          41.503006012024045,
          41.58316633266533,
          41.66332665330661,
          41.743486973947896,
          41.82364729458918,
          41.90380761523046,
          41.983967935871746,
          42.06412825651302,
          42.144288577154306,
          42.22444889779559,
          42.30460921843687,
          42.38476953907816,
          42.46492985971944,
          42.54509018036072,
          42.625250501002,
          42.705410821643284,
          42.78557114228457,
          42.86573146292585,
          42.945891783567134,
          43.02605210420842,
          43.1062124248497,
          43.18637274549098,
          43.26653306613226,
          43.346693386773545,
          43.42685370741483,
          43.50701402805611,
          43.587174348697395,
          43.66733466933868,
          43.747494989979955,
          43.82765531062124,
          43.90781563126252,
          43.987975951903806,
          44.06813627254509,
          44.14829659318637,
          44.22845691382766,
          44.30861723446893,
          44.38877755511022,
          44.4689378757515,
          44.549098196392784,
          44.62925851703407,
          44.70941883767535,
          44.789579158316634,
          44.86973947895792,
          44.949899799599194,
          45.03006012024048,
          45.11022044088176,
          45.190380761523045,
          45.27054108216433,
          45.35070140280561,
          45.430861723446895,
          45.51102204408817,
          45.591182364729455,
          45.67134268537074,
          45.75150300601202,
          45.831663326653306,
          45.91182364729459,
          45.99198396793587,
          46.07214428857715,
          46.15230460921843,
          46.23246492985972,
          46.312625250501,
          46.392785571142284,
          46.47294589178357,
          46.55310621242485,
          46.633266533066134,
          46.71342685370741,
          46.793587174348694,
          46.87374749498998,
          46.95390781563126,
          47.034068136272545,
          47.11422845691383,
          47.19438877755511,
          47.27454909819639,
          47.35470941883767,
          47.434869739478955,
          47.51503006012024,
          47.59519038076152,
          47.675350701402806,
          47.75551102204409,
          47.835671342685366,
          47.91583166332665,
          47.99599198396793,
          48.07615230460922,
          48.1563126252505,
          48.236472945891784,
          48.31663326653307,
          48.39679358717435,
          48.47695390781563,
          48.55711422845691,
          48.637274549098194,
          48.71743486973948,
          48.79759519038076,
          48.877755511022045,
          48.95791583166333,
          49.038076152304605,
          49.11823647294589,
          49.19839679358717,
          49.278557114228455,
          49.35871743486974,
          49.43887775551102,
          49.519038076152306,
          49.59919839679358,
          49.679358717434866,
          49.75951903807615,
          49.83967935871743,
          49.91983967935872,
          50
         ],
         "y": [
          0.00002676604515297707,
          0.000028535069948209446,
          0.000030413195331414453,
          0.00003240660499860232,
          0.00003452179700334539,
          0.00003676559746330287,
          0.0000391451747280101,
          0.000041668054015483196,
          0.0000443421325248182,
          0.00004717569503154154,
          0.00005017742997200992,
          0.00005335644602265621,
          0.00005672228917932874,
          0.00006028496034138143,
          0.0000640549334045262,
          0.00006804317386577609,
          0.00007226115794305991,
          0.00007672089221130225,
          0.00008143493375591315,
          0.00008641641084373472,
          0.0000916790441105305,
          0.00009723716826309731,
          0.00010310575429299923,
          0.00010930043219779943,
          0.00011583751420447113,
          0.00012273401848841725,
          0.00013000769338021643,
          0.00013767704205083382,
          0.00014576134766460297,
          0.0001542806989877754,
          0.00016325601643887765,
          0.00017270907856548252,
          0.00018266254893031244,
          0.0001931400033878429,
          0.00020416595773074694,
          0.00021576589568366098,
          0.00022796629721980413,
          0.00024079466717398334,
          0.00025427956412347314,
          0.0002684506295061392,
          0.00028333861694300634,
          0.00029897542173026685,
          0.0003153941104634322,
          0.0003326289507540431,
          0.00035071544099696657,
          0.00036969034014392056,
          0.0003895916974364216,
          0.00041045888204886997,
          0.0004323326125899895,
          0.00045525498640829114,
          0.0004792695086447013,
          0.0005044211209728906,
          0.0005307562299652826,
          0.0005583227350201227,
          0.0005871700557823998,
          0.000617349158988823,
          0.0006489125846644958,
          0.0006819144715963734,
          0.0007164105820060621,
          0.0007524583253420258,
          0.0007901167811088063,
          0.0008294467206484997,
          0.0008705106277873148,
          0.0009133727182578301,
          0.0009580989578053326,
          0.0010047570788844725,
          0.001053416595850496,
          0.0011041488185473246,
          0.0011570268641929989,
          0.0012121256674612545,
          0.001269521988656448,
          0.0013292944198776571,
          0.0013915233890664565,
          0.0014562911618318038,
          0.0015236818409444857,
          0.0015937813633928783,
          0.001666677494891121,
          0.001742459821730564,
          0.0018212197398650226,
          0.0019030504411206531,
          0.0019880468964214213,
          0.002076305835921672,
          0.00216792572593828,
          0.0022630067425757016,
          0.002361650741938766,
          0.0024639612268295102,
          0.0025700433098264186,
          0.002680003672646503,
          0.002793950521693198,
          0.0029119935396959167,
          0.0030342438333501964,
          0.00316081387687083,
          0.003291817451374202,
          0.0034273695800101193,
          0.0035675864587680147,
          0.0037125853828870307,
          0.003862484668804876,
          0.0040174035715856374,
          0.004177462197772765,
          0.004342781413619598,
          0.004513482748656257,
          0.004689688294558894,
          0.004871520599294246,
          0.0050591025565203205,
          0.005252557290231776,
          0.005452008034646926,
          0.00565757800934193,
          0.00586939028964662,
          0.006087567672325552,
          0.0063122325365776,
          0.006543506700397122,
          0.006781511272349802,
          0.0070263664988267005,
          0.007278191606850631,
          0.007537104642519907,
          0.007803222305185351,
          0.008076659777468104,
          0.008357530551236728,
          0.008645946249674243,
          0.008942016445576946,
          0.009245848476039136,
          0.00955754725368961,
          0.009877215074657717,
          0.010204951423459233,
          0.010540852775003603,
          0.010885012393937186,
          0.01123752013154811,
          0.011598462220470954,
          0.01196792106744106,
          0.012345975044359966,
          0.012732698277944961,
          0.013128160438247079,
          0.013532426526333135,
          0.013945556661437857,
          0.014367605867902984,
          0.014798623862230229,
          0.015238654840585043,
          0.015687737267096994,
          0.01614590366331243,
          0.01661318039916257,
          0.017089587485819097,
          0.017575138370816087,
          0.01806983973582444,
          0.01857369129747104,
          0.019086685611600412,
          0.019608807881382195,
          0.02014003576967099,
          0.020680339216029877,
          0.021229680258830676,
          0.021788012862846724,
          0.022355282752754602,
          0.022931427252962145,
          0.023516375134178938,
          0.024110046467144614,
          0.02471235248392791,
          0.025323195447205914,
          0.025942468527929075,
          0.026570055691772478,
          0.027205831594767766,
          0.027849661488502694,
          0.028501401135268365,
          0.029160896733523713,
          0.029827984854038266,
          0.03050249238706235,
          0.031184236500862283,
          0.031873024611945286,
          0.03256865436728451,
          0.033270913638840695,
          0.03397958053065975,
          0.03469442339881036,
          0.03541520088440699,
          0.03614166195994546,
          0.03687354598915937,
          0.03761058280058429,
          0.038352492774997075,
          0.03909898694687438,
          0.03984976711999313,
          0.04060452599727151,
          0.04136294732492569,
          0.0421247060509927,
          0.04288946849824495,
          0.043656892551495616,
          0.04442662785926935,
          0.04519831604978429,
          0.04597159096116635,
          0.046746078885788064,
          0.04752139882859761,
          0.048297162779275725,
          0.04907297599802973,
          0.04984843731480767,
          0.05062313944168526,
          0.05139666929815285,
          0.05216860834899997,
          0.05293853295446877,
          0.05370601473231965,
          0.05447062093142527,
          0.05523191481648363,
          0.05598945606341303,
          0.05674280116496781,
          0.057491503846087616,
          0.05823511548846887,
          0.058973185563824033,
          0.05970526207527006,
          0.06043089200626723,
          0.06114962177650694,
          0.06186099770412748,
          0.06256456647361808,
          0.063259875608753,
          0.0639464739498809,
          0.06462391213487866,
          0.06529174308306533,
          0.06594952248135784,
          0.06659680927193867,
          0.06723316614069566,
          0.06785816000568465,
          0.06847136250485868,
          0.06907235048230079,
          0.06966070647219387,
          0.0702360191797572,
          0.07079788395837879,
          0.07134590328217158,
          0.07187968721318519,
          0.07239885386250645,
          0.07290302984448829,
          0.07339185072335211,
          0.07386496145141824,
          0.07432201679822772,
          0.07476268176983057,
          0.07518663201752875,
          0.07559355423537653,
          0.07598314654575697,
          0.07635511887237022,
          0.0767091932999899,
          0.07704510442036244,
          0.07736259966364736,
          0.0776614396148192,
          0.0779413983144763,
          0.07820226354352783,
          0.07844383709125623,
          0.07866593500628216,
          0.07886838782998627,
          0.07905104081197384,
          0.0792137541071982,
          0.07935640295439203,
          0.07947887783548736,
          0.07958108461573941,
          0.07966294466430313,
          0.07972439495504624,
          0.07976538814741808,
          0.07978589264722862,
          0.07978589264722862,
          0.07976538814741808,
          0.07972439495504624,
          0.07966294466430313,
          0.07958108461573941,
          0.07947887783548736,
          0.07935640295439203,
          0.0792137541071982,
          0.07905104081197385,
          0.07886838782998629,
          0.07866593500628216,
          0.07844383709125623,
          0.07820226354352784,
          0.07794139831447632,
          0.0776614396148192,
          0.07736259966364736,
          0.07704510442036246,
          0.0767091932999899,
          0.07635511887237022,
          0.07598314654575698,
          0.07559355423537654,
          0.07518663201752875,
          0.07476268176983057,
          0.07432201679822775,
          0.07386496145141826,
          0.07339185072335212,
          0.07290302984448832,
          0.07239885386250648,
          0.07187968721318519,
          0.07134590328217158,
          0.07079788395837879,
          0.0702360191797572,
          0.06966070647219384,
          0.06907235048230076,
          0.0684713625048587,
          0.06785816000568468,
          0.06723316614069566,
          0.06659680927193867,
          0.0659495224813579,
          0.06529174308306537,
          0.06462391213487867,
          0.06394647394988093,
          0.06325987560875304,
          0.06256456647361808,
          0.06186099770412748,
          0.06114962177650694,
          0.06043089200626723,
          0.05970526207527003,
          0.058973185563824,
          0.05823511548846891,
          0.057491503846087616,
          0.05674280116496781,
          0.055989456063413094,
          0.05523191481648369,
          0.05447062093142534,
          0.053706014732319694,
          0.05293853295446881,
          0.05216860834899997,
          0.05139666929815285,
          0.05062313944168526,
          0.04984843731480767,
          0.04907297599802973,
          0.04829716277927569,
          0.047521398828597655,
          0.046746078885788064,
          0.04597159096116635,
          0.04519831604978429,
          0.044426627859269416,
          0.043656892551495685,
          0.04288946849824499,
          0.042124706050992736,
          0.04136294732492569,
          0.04060452599727151,
          0.03984976711999313,
          0.03909898694687438,
          0.038352492774997075,
          0.03761058280058429,
          0.036873545989159345,
          0.0361416619599455,
          0.03541520088440699,
          0.03469442339881036,
          0.03397958053065981,
          0.03327091363884076,
          0.032568654367284566,
          0.03187302461194532,
          0.031184236500862314,
          0.03050249238706235,
          0.029827984854038266,
          0.029160896733523713,
          0.028501401135268365,
          0.027849661488502694,
          0.027205831594767735,
          0.026570055691772506,
          0.025942468527929075,
          0.025323195447205914,
          0.02471235248392791,
          0.02411004646714467,
          0.023516375134178986,
          0.022931427252962194,
          0.022355282752754634,
          0.021788012862846724,
          0.021229680258830676,
          0.020680339216029877,
          0.02014003576967099,
          0.019608807881382195,
          0.019086685611600412,
          0.018573691297471016,
          0.01806983973582446,
          0.017575138370816087,
          0.017089587485819097,
          0.01661318039916257,
          0.01614590366331247,
          0.015687737267097032,
          0.015238654840585068,
          0.01479862386223025,
          0.014367605867902984,
          0.013945556661437857,
          0.013532426526333135,
          0.013128160438247079,
          0.012732698277944961,
          0.012345975044359966,
          0.01196792106744104,
          0.011598462220470954,
          0.01123752013154811,
          0.010885012393937186,
          0.010540852775003632,
          0.01020495142345926,
          0.009877215074657749,
          0.009557547253689623,
          0.009245848476039148,
          0.008942016445576946,
          0.008645946249674243,
          0.008357530551236728,
          0.008076659777468104,
          0.007803222305185351,
          0.007537104642519898,
          0.007278191606850641,
          0.0070263664988267005,
          0.006781511272349802,
          0.006543506700397122,
          0.006312232536577618,
          0.0060875676723255705,
          0.005869390289646636,
          0.00565757800934194,
          0.005452008034646926,
          0.005252557290231776,
          0.0050591025565203205,
          0.004871520599294246,
          0.004689688294558894,
          0.004513482748656257,
          0.004342781413619606,
          0.004177462197772773,
          0.0040174035715856374,
          0.003862484668804876,
          0.0037125853828870307,
          0.0035675864587680147,
          0.0034273695800101306,
          0.0032918174513742082,
          0.0031608138768708344,
          0.0030342438333501964,
          0.0029119935396959167,
          0.002793950521693198,
          0.002680003672646503,
          0.0025700433098264186,
          0.002463961226829515,
          0.0023616507419387703,
          0.0022630067425757064,
          0.00216792572593828,
          0.002076305835921672,
          0.0019880468964214213,
          0.0019030504411206531,
          0.0018212197398650265,
          0.001742459821730568,
          0.0016666774948911253,
          0.0015937813633928783,
          0.0015236818409444857,
          0.0014562911618318038,
          0.0013915233890664565,
          0.0013292944198776608,
          0.0012695219886564503,
          0.0012121256674612556,
          0.001157026864193,
          0.0011041488185473246,
          0.001053416595850496,
          0.0010047570788844725,
          0.0009580989578053317,
          0.0009133727182578326,
          0.0008705106277873163,
          0.000829446720648502,
          0.0007901167811088077,
          0.0007524583253420258,
          0.0007164105820060621,
          0.0006819144715963721,
          0.000648912584664497,
          0.0006173491589888246,
          0.0005871700557824013,
          0.0005583227350201231,
          0.0005307562299652826,
          0.0005044211209728906,
          0.0004792695086447013,
          0.0004552549864082932,
          0.0004323326125899906,
          0.00041045888204887106,
          0.0003895916974364216,
          0.00036969034014392056,
          0.00035071544099696657,
          0.0003326289507540431,
          0.0003153941104634322,
          0.00029897542173026767,
          0.0002833386169430069,
          0.0002684506295061392,
          0.00025427956412347314,
          0.00024079466717398334,
          0.00022796629721980413,
          0.00021576589568366098,
          0.0002041659577307475,
          0.0001931400033878436,
          0.00018266254893031277,
          0.00017270907856548252,
          0.00016325601643887765,
          0.0001542806989877754,
          0.00014576134766460297,
          0.00013767704205083442,
          0.00013000769338021676,
          0.0001227340184884175,
          0.00011583751420447113,
          0.00010930043219779943,
          0.00010310575429299923,
          0.00009723716826309731,
          0.0000916790441105305,
          0.00008641641084373496,
          0.00008143493375591335,
          0.00007672089221130225,
          0.00007226115794305991,
          0.00006804317386577609,
          0.0000640549334045262,
          0.00006028496034138143,
          0.000056722289179329086,
          0.000053356446022656406,
          0.00005017742997201,
          0.00004717569503154154,
          0.0000443421325248182,
          0.000041668054015483196,
          0.0000391451747280101,
          0.000036765597463303066,
          0.00003452179700334545,
          0.00003240660499860244,
          0.000030413195331414453,
          0.000028535069948209446,
          0.00002676604515297707
         ]
        }
       ],
       "layout": {
        "template": {
         "data": {
          "bar": [
           {
            "error_x": {
             "color": "#2a3f5f"
            },
            "error_y": {
             "color": "#2a3f5f"
            },
            "marker": {
             "line": {
              "color": "white",
              "width": 0.5
             },
             "pattern": {
              "fillmode": "overlay",
              "size": 10,
              "solidity": 0.2
             }
            },
            "type": "bar"
           }
          ],
          "barpolar": [
           {
            "marker": {
             "line": {
              "color": "white",
              "width": 0.5
             },
             "pattern": {
              "fillmode": "overlay",
              "size": 10,
              "solidity": 0.2
             }
            },
            "type": "barpolar"
           }
          ],
          "carpet": [
           {
            "aaxis": {
             "endlinecolor": "#2a3f5f",
             "gridcolor": "#C8D4E3",
             "linecolor": "#C8D4E3",
             "minorgridcolor": "#C8D4E3",
             "startlinecolor": "#2a3f5f"
            },
            "baxis": {
             "endlinecolor": "#2a3f5f",
             "gridcolor": "#C8D4E3",
             "linecolor": "#C8D4E3",
             "minorgridcolor": "#C8D4E3",
             "startlinecolor": "#2a3f5f"
            },
            "type": "carpet"
           }
          ],
          "choropleth": [
           {
            "colorbar": {
             "outlinewidth": 0,
             "ticks": ""
            },
            "type": "choropleth"
           }
          ],
          "contour": [
           {
            "colorbar": {
             "outlinewidth": 0,
             "ticks": ""
            },
            "colorscale": [
             [
              0,
              "#0d0887"
             ],
             [
              0.1111111111111111,
              "#46039f"
             ],
             [
              0.2222222222222222,
              "#7201a8"
             ],
             [
              0.3333333333333333,
              "#9c179e"
             ],
             [
              0.4444444444444444,
              "#bd3786"
             ],
             [
              0.5555555555555556,
              "#d8576b"
             ],
             [
              0.6666666666666666,
              "#ed7953"
             ],
             [
              0.7777777777777778,
              "#fb9f3a"
             ],
             [
              0.8888888888888888,
              "#fdca26"
             ],
             [
              1,
              "#f0f921"
             ]
            ],
            "type": "contour"
           }
          ],
          "contourcarpet": [
           {
            "colorbar": {
             "outlinewidth": 0,
             "ticks": ""
            },
            "type": "contourcarpet"
           }
          ],
          "heatmap": [
           {
            "colorbar": {
             "outlinewidth": 0,
             "ticks": ""
            },
            "colorscale": [
             [
              0,
              "#0d0887"
             ],
             [
              0.1111111111111111,
              "#46039f"
             ],
             [
              0.2222222222222222,
              "#7201a8"
             ],
             [
              0.3333333333333333,
              "#9c179e"
             ],
             [
              0.4444444444444444,
              "#bd3786"
             ],
             [
              0.5555555555555556,
              "#d8576b"
             ],
             [
              0.6666666666666666,
              "#ed7953"
             ],
             [
              0.7777777777777778,
              "#fb9f3a"
             ],
             [
              0.8888888888888888,
              "#fdca26"
             ],
             [
              1,
              "#f0f921"
             ]
            ],
            "type": "heatmap"
           }
          ],
          "heatmapgl": [
           {
            "colorbar": {
             "outlinewidth": 0,
             "ticks": ""
            },
            "colorscale": [
             [
              0,
              "#0d0887"
             ],
             [
              0.1111111111111111,
              "#46039f"
             ],
             [
              0.2222222222222222,
              "#7201a8"
             ],
             [
              0.3333333333333333,
              "#9c179e"
             ],
             [
              0.4444444444444444,
              "#bd3786"
             ],
             [
              0.5555555555555556,
              "#d8576b"
             ],
             [
              0.6666666666666666,
              "#ed7953"
             ],
             [
              0.7777777777777778,
              "#fb9f3a"
             ],
             [
              0.8888888888888888,
              "#fdca26"
             ],
             [
              1,
              "#f0f921"
             ]
            ],
            "type": "heatmapgl"
           }
          ],
          "histogram": [
           {
            "marker": {
             "pattern": {
              "fillmode": "overlay",
              "size": 10,
              "solidity": 0.2
             }
            },
            "type": "histogram"
           }
          ],
          "histogram2d": [
           {
            "colorbar": {
             "outlinewidth": 0,
             "ticks": ""
            },
            "colorscale": [
             [
              0,
              "#0d0887"
             ],
             [
              0.1111111111111111,
              "#46039f"
             ],
             [
              0.2222222222222222,
              "#7201a8"
             ],
             [
              0.3333333333333333,
              "#9c179e"
             ],
             [
              0.4444444444444444,
              "#bd3786"
             ],
             [
              0.5555555555555556,
              "#d8576b"
             ],
             [
              0.6666666666666666,
              "#ed7953"
             ],
             [
              0.7777777777777778,
              "#fb9f3a"
             ],
             [
              0.8888888888888888,
              "#fdca26"
             ],
             [
              1,
              "#f0f921"
             ]
            ],
            "type": "histogram2d"
           }
          ],
          "histogram2dcontour": [
           {
            "colorbar": {
             "outlinewidth": 0,
             "ticks": ""
            },
            "colorscale": [
             [
              0,
              "#0d0887"
             ],
             [
              0.1111111111111111,
              "#46039f"
             ],
             [
              0.2222222222222222,
              "#7201a8"
             ],
             [
              0.3333333333333333,
              "#9c179e"
             ],
             [
              0.4444444444444444,
              "#bd3786"
             ],
             [
              0.5555555555555556,
              "#d8576b"
             ],
             [
              0.6666666666666666,
              "#ed7953"
             ],
             [
              0.7777777777777778,
              "#fb9f3a"
             ],
             [
              0.8888888888888888,
              "#fdca26"
             ],
             [
              1,
              "#f0f921"
             ]
            ],
            "type": "histogram2dcontour"
           }
          ],
          "mesh3d": [
           {
            "colorbar": {
             "outlinewidth": 0,
             "ticks": ""
            },
            "type": "mesh3d"
           }
          ],
          "parcoords": [
           {
            "line": {
             "colorbar": {
              "outlinewidth": 0,
              "ticks": ""
             }
            },
            "type": "parcoords"
           }
          ],
          "pie": [
           {
            "automargin": true,
            "type": "pie"
           }
          ],
          "scatter": [
           {
            "fillpattern": {
             "fillmode": "overlay",
             "size": 10,
             "solidity": 0.2
            },
            "type": "scatter"
           }
          ],
          "scatter3d": [
           {
            "line": {
             "colorbar": {
              "outlinewidth": 0,
              "ticks": ""
             }
            },
            "marker": {
             "colorbar": {
              "outlinewidth": 0,
              "ticks": ""
             }
            },
            "type": "scatter3d"
           }
          ],
          "scattercarpet": [
           {
            "marker": {
             "colorbar": {
              "outlinewidth": 0,
              "ticks": ""
             }
            },
            "type": "scattercarpet"
           }
          ],
          "scattergeo": [
           {
            "marker": {
             "colorbar": {
              "outlinewidth": 0,
              "ticks": ""
             }
            },
            "type": "scattergeo"
           }
          ],
          "scattergl": [
           {
            "marker": {
             "colorbar": {
              "outlinewidth": 0,
              "ticks": ""
             }
            },
            "type": "scattergl"
           }
          ],
          "scattermapbox": [
           {
            "marker": {
             "colorbar": {
              "outlinewidth": 0,
              "ticks": ""
             }
            },
            "type": "scattermapbox"
           }
          ],
          "scatterpolar": [
           {
            "marker": {
             "colorbar": {
              "outlinewidth": 0,
              "ticks": ""
             }
            },
            "type": "scatterpolar"
           }
          ],
          "scatterpolargl": [
           {
            "marker": {
             "colorbar": {
              "outlinewidth": 0,
              "ticks": ""
             }
            },
            "type": "scatterpolargl"
           }
          ],
          "scatterternary": [
           {
            "marker": {
             "colorbar": {
              "outlinewidth": 0,
              "ticks": ""
             }
            },
            "type": "scatterternary"
           }
          ],
          "surface": [
           {
            "colorbar": {
             "outlinewidth": 0,
             "ticks": ""
            },
            "colorscale": [
             [
              0,
              "#0d0887"
             ],
             [
              0.1111111111111111,
              "#46039f"
             ],
             [
              0.2222222222222222,
              "#7201a8"
             ],
             [
              0.3333333333333333,
              "#9c179e"
             ],
             [
              0.4444444444444444,
              "#bd3786"
             ],
             [
              0.5555555555555556,
              "#d8576b"
             ],
             [
              0.6666666666666666,
              "#ed7953"
             ],
             [
              0.7777777777777778,
              "#fb9f3a"
             ],
             [
              0.8888888888888888,
              "#fdca26"
             ],
             [
              1,
              "#f0f921"
             ]
            ],
            "type": "surface"
           }
          ],
          "table": [
           {
            "cells": {
             "fill": {
              "color": "#EBF0F8"
             },
             "line": {
              "color": "white"
             }
            },
            "header": {
             "fill": {
              "color": "#C8D4E3"
             },
             "line": {
              "color": "white"
             }
            },
            "type": "table"
           }
          ]
         },
         "layout": {
          "annotationdefaults": {
           "arrowcolor": "#2a3f5f",
           "arrowhead": 0,
           "arrowwidth": 1
          },
          "autotypenumbers": "strict",
          "coloraxis": {
           "colorbar": {
            "outlinewidth": 0,
            "ticks": ""
           }
          },
          "colorscale": {
           "diverging": [
            [
             0,
             "#8e0152"
            ],
            [
             0.1,
             "#c51b7d"
            ],
            [
             0.2,
             "#de77ae"
            ],
            [
             0.3,
             "#f1b6da"
            ],
            [
             0.4,
             "#fde0ef"
            ],
            [
             0.5,
             "#f7f7f7"
            ],
            [
             0.6,
             "#e6f5d0"
            ],
            [
             0.7,
             "#b8e186"
            ],
            [
             0.8,
             "#7fbc41"
            ],
            [
             0.9,
             "#4d9221"
            ],
            [
             1,
             "#276419"
            ]
           ],
           "sequential": [
            [
             0,
             "#0d0887"
            ],
            [
             0.1111111111111111,
             "#46039f"
            ],
            [
             0.2222222222222222,
             "#7201a8"
            ],
            [
             0.3333333333333333,
             "#9c179e"
            ],
            [
             0.4444444444444444,
             "#bd3786"
            ],
            [
             0.5555555555555556,
             "#d8576b"
            ],
            [
             0.6666666666666666,
             "#ed7953"
            ],
            [
             0.7777777777777778,
             "#fb9f3a"
            ],
            [
             0.8888888888888888,
             "#fdca26"
            ],
            [
             1,
             "#f0f921"
            ]
           ],
           "sequentialminus": [
            [
             0,
             "#0d0887"
            ],
            [
             0.1111111111111111,
             "#46039f"
            ],
            [
             0.2222222222222222,
             "#7201a8"
            ],
            [
             0.3333333333333333,
             "#9c179e"
            ],
            [
             0.4444444444444444,
             "#bd3786"
            ],
            [
             0.5555555555555556,
             "#d8576b"
            ],
            [
             0.6666666666666666,
             "#ed7953"
            ],
            [
             0.7777777777777778,
             "#fb9f3a"
            ],
            [
             0.8888888888888888,
             "#fdca26"
            ],
            [
             1,
             "#f0f921"
            ]
           ]
          },
          "colorway": [
           "#636efa",
           "#EF553B",
           "#00cc96",
           "#ab63fa",
           "#FFA15A",
           "#19d3f3",
           "#FF6692",
           "#B6E880",
           "#FF97FF",
           "#FECB52"
          ],
          "font": {
           "color": "#2a3f5f"
          },
          "geo": {
           "bgcolor": "white",
           "lakecolor": "white",
           "landcolor": "white",
           "showlakes": true,
           "showland": true,
           "subunitcolor": "#C8D4E3"
          },
          "hoverlabel": {
           "align": "left"
          },
          "hovermode": "closest",
          "mapbox": {
           "style": "light"
          },
          "paper_bgcolor": "white",
          "plot_bgcolor": "white",
          "polar": {
           "angularaxis": {
            "gridcolor": "#EBF0F8",
            "linecolor": "#EBF0F8",
            "ticks": ""
           },
           "bgcolor": "white",
           "radialaxis": {
            "gridcolor": "#EBF0F8",
            "linecolor": "#EBF0F8",
            "ticks": ""
           }
          },
          "scene": {
           "xaxis": {
            "backgroundcolor": "white",
            "gridcolor": "#DFE8F3",
            "gridwidth": 2,
            "linecolor": "#EBF0F8",
            "showbackground": true,
            "ticks": "",
            "zerolinecolor": "#EBF0F8"
           },
           "yaxis": {
            "backgroundcolor": "white",
            "gridcolor": "#DFE8F3",
            "gridwidth": 2,
            "linecolor": "#EBF0F8",
            "showbackground": true,
            "ticks": "",
            "zerolinecolor": "#EBF0F8"
           },
           "zaxis": {
            "backgroundcolor": "white",
            "gridcolor": "#DFE8F3",
            "gridwidth": 2,
            "linecolor": "#EBF0F8",
            "showbackground": true,
            "ticks": "",
            "zerolinecolor": "#EBF0F8"
           }
          },
          "shapedefaults": {
           "line": {
            "color": "#2a3f5f"
           }
          },
          "ternary": {
           "aaxis": {
            "gridcolor": "#DFE8F3",
            "linecolor": "#A2B1C6",
            "ticks": ""
           },
           "baxis": {
            "gridcolor": "#DFE8F3",
            "linecolor": "#A2B1C6",
            "ticks": ""
           },
           "bgcolor": "white",
           "caxis": {
            "gridcolor": "#DFE8F3",
            "linecolor": "#A2B1C6",
            "ticks": ""
           }
          },
          "title": {
           "x": 0.05
          },
          "xaxis": {
           "automargin": true,
           "gridcolor": "#EBF0F8",
           "linecolor": "#EBF0F8",
           "ticks": "",
           "title": {
            "standoff": 15
           },
           "zerolinecolor": "#EBF0F8",
           "zerolinewidth": 2
          },
          "yaxis": {
           "automargin": true,
           "gridcolor": "#EBF0F8",
           "linecolor": "#EBF0F8",
           "ticks": "",
           "title": {
            "standoff": 15
           },
           "zerolinecolor": "#EBF0F8",
           "zerolinewidth": 2
          }
         }
        },
        "title": {
         "text": "Función de Densidad de la Distribución Normal"
        },
        "xaxis": {
         "title": {
          "text": "x (e.g., Temperatura en °C)"
         }
        },
        "yaxis": {
         "title": {
          "text": "f(x)"
         }
        }
       }
      }
     },
     "metadata": {},
     "output_type": "display_data"
    }
   ],
   "source": [
    "import numpy as np\n",
    "import plotly.graph_objects as go\n",
    "\n",
    "# Parámetros de la distribución\n",
    "mu = 30  # Media (ejemplo: temperatura promedio en °C)\n",
    "sigma = 5  # Desviación estándar\n",
    "\n",
    "# Rango de valores para x\n",
    "x = np.linspace(mu - 4 * sigma, mu + 4 * sigma, 500)\n",
    "\n",
    "# Función de densidad de la distribución normal\n",
    "f_x = (1 / (np.sqrt(2 * np.pi * sigma**2))) * np.exp(-((x - mu)**2) / (2 * sigma**2))\n",
    "\n",
    "# Crear el gráfico con Plotly\n",
    "fig = go.Figure()\n",
    "\n",
    "# Agregar la curva de densidad\n",
    "fig.add_trace(go.Scatter(x=x, y=f_x, mode='lines', name='Densidad Normal'))\n",
    "\n",
    "# Personalizar el diseño del gráfico\n",
    "fig.update_layout(\n",
    "    title='Función de Densidad de la Distribución Normal',\n",
    "    xaxis_title='x (e.g., Temperatura en °C)',\n",
    "    yaxis_title='f(x)',\n",
    "    template='plotly_white'\n",
    ")\n",
    "\n",
    "# Mostrar el gráfico\n",
    "fig.show()\n"
   ]
  },
  {
   "cell_type": "markdown",
   "id": "af669b4a",
   "metadata": {},
   "source": [
    "\n",
    "- **Distribución Exponencial**:\n",
    "   - Útil para modelar tiempos entre eventos independientes, como lluvias.\n",
    "   - Función de densidad:\n",
    "     $$\n",
    "     f(x) = \\lambda e^{-\\lambda x}, \\, x \\geq 0\n",
    "     $$\n",
    "   - Parámetro: $\\lambda$ (tasa de ocurrencia).\n",
    "\n",
    "Estas distribuciones se adaptan a los datos climáticos utilizando técnicas de ajuste basadas en datos históricos.\n"
   ]
  },
  {
   "cell_type": "code",
   "execution_count": 24,
   "id": "456e36fe",
   "metadata": {},
   "outputs": [
    {
     "data": {
      "application/vnd.plotly.v1+json": {
       "config": {
        "plotlyServerURL": "https://plot.ly"
       },
       "data": [
        {
         "mode": "lines",
         "name": "Densidad Exponencial",
         "type": "scatter",
         "x": [
          0,
          0.04008016032064128,
          0.08016032064128256,
          0.12024048096192384,
          0.16032064128256512,
          0.2004008016032064,
          0.24048096192384769,
          0.280561122244489,
          0.32064128256513025,
          0.3607214428857715,
          0.4008016032064128,
          0.4408817635270541,
          0.48096192384769537,
          0.5210420841683366,
          0.561122244488978,
          0.6012024048096192,
          0.6412825651302605,
          0.6813627254509018,
          0.721442885771543,
          0.7615230460921844,
          0.8016032064128256,
          0.8416833667334669,
          0.8817635270541082,
          0.9218436873747494,
          0.9619238476953907,
          1.002004008016032,
          1.0420841683366733,
          1.0821643286573146,
          1.122244488977956,
          1.1623246492985972,
          1.2024048096192383,
          1.2424849699398797,
          1.282565130260521,
          1.3226452905811623,
          1.3627254509018036,
          1.4028056112224447,
          1.442885771543086,
          1.4829659318637274,
          1.5230460921843687,
          1.56312625250501,
          1.6032064128256511,
          1.6432865731462925,
          1.6833667334669338,
          1.723446893787575,
          1.7635270541082164,
          1.8036072144288577,
          1.8436873747494988,
          1.8837675350701402,
          1.9238476953907815,
          1.9639278557114228,
          2.004008016032064,
          2.0440881763527052,
          2.0841683366733466,
          2.124248496993988,
          2.164328657314629,
          2.2044088176352705,
          2.244488977955912,
          2.284569138276553,
          2.3246492985971945,
          2.3647294589178354,
          2.4048096192384767,
          2.444889779559118,
          2.4849699398797593,
          2.5250501002004007,
          2.565130260521042,
          2.6052104208416833,
          2.6452905811623246,
          2.685370741482966,
          2.7254509018036073,
          2.7655310621242486,
          2.8056112224448895,
          2.845691382765531,
          2.885771543086172,
          2.9258517034068134,
          2.9659318637274548,
          3.006012024048096,
          3.0460921843687374,
          3.0861723446893787,
          3.12625250501002,
          3.1663326653306614,
          3.2064128256513023,
          3.2464929859719436,
          3.286573146292585,
          3.3266533066132262,
          3.3667334669338675,
          3.406813627254509,
          3.44689378757515,
          3.4869739478957915,
          3.527054108216433,
          3.567134268537074,
          3.6072144288577155,
          3.6472945891783564,
          3.6873747494989977,
          3.727454909819639,
          3.7675350701402803,
          3.8076152304609217,
          3.847695390781563,
          3.8877755511022043,
          3.9278557114228456,
          3.967935871743487,
          4.008016032064128,
          4.04809619238477,
          4.0881763527054105,
          4.128256513026052,
          4.168336673346693,
          4.208416833667335,
          4.248496993987976,
          4.288577154308617,
          4.328657314629258,
          4.368737474949899,
          4.408817635270541,
          4.448897795591182,
          4.488977955911824,
          4.529058116232465,
          4.569138276553106,
          4.609218436873747,
          4.649298597194389,
          4.68937875751503,
          4.729458917835671,
          4.7695390781563125,
          4.809619238476953,
          4.849699398797595,
          4.889779559118236,
          4.929859719438878,
          4.969939879759519,
          5.01002004008016,
          5.050100200400801,
          5.090180360721443,
          5.130260521042084,
          5.170340681362725,
          5.210420841683367,
          5.2505010020040075,
          5.290581162324649,
          5.33066132264529,
          5.370741482965932,
          5.410821643286573,
          5.4509018036072145,
          5.490981963927855,
          5.531062124248497,
          5.571142284569138,
          5.611222444889779,
          5.651302605210421,
          5.691382765531062,
          5.731462925851703,
          5.771543086172344,
          5.811623246492986,
          5.851703406813627,
          5.891783567134269,
          5.9318637274549095,
          5.971943887775551,
          6.012024048096192,
          6.052104208416833,
          6.092184368737475,
          6.132264529058116,
          6.1723446893787575,
          6.212424849699398,
          6.25250501002004,
          6.292585170340681,
          6.332665330661323,
          6.372745490981964,
          6.4128256513026045,
          6.452905811623246,
          6.492985971943887,
          6.533066132264529,
          6.57314629258517,
          6.613226452905812,
          6.6533066132264524,
          6.693386773547094,
          6.733466933867735,
          6.773547094188377,
          6.813627254509018,
          6.853707414829659,
          6.8937875751503,
          6.933867735470941,
          6.973947895791583,
          7.014028056112224,
          7.054108216432866,
          7.0941883767535066,
          7.134268537074148,
          7.174348697394789,
          7.214428857715431,
          7.254509018036072,
          7.294589178356713,
          7.3346693386773545,
          7.374749498997995,
          7.414829659318637,
          7.454909819639278,
          7.49498997995992,
          7.535070140280561,
          7.575150300601202,
          7.615230460921843,
          7.655310621242485,
          7.695390781563126,
          7.735470941883767,
          7.775551102204409,
          7.8156312625250495,
          7.855711422845691,
          7.895791583166332,
          7.935871743486974,
          7.975951903807615,
          8.016032064128256,
          8.056112224448897,
          8.09619238476954,
          8.13627254509018,
          8.176352705410821,
          8.216432865731463,
          8.256513026052104,
          8.296593186372744,
          8.336673346693386,
          8.376753507014028,
          8.41683366733467,
          8.45691382765531,
          8.496993987975952,
          8.537074148296593,
          8.577154308617233,
          8.617234468937875,
          8.657314629258517,
          8.697394789579159,
          8.737474949899799,
          8.77755511022044,
          8.817635270541082,
          8.857715430861724,
          8.897795591182364,
          8.937875751503006,
          8.977955911823647,
          9.018036072144287,
          9.05811623246493,
          9.098196392785571,
          9.138276553106213,
          9.178356713426853,
          9.218436873747494,
          9.258517034068136,
          9.298597194388778,
          9.338677354709418,
          9.37875751503006,
          9.418837675350701,
          9.458917835671341,
          9.498997995991983,
          9.539078156312625,
          9.579158316633267,
          9.619238476953907,
          9.659318637274549,
          9.69939879759519,
          9.739478957915832,
          9.779559118236472,
          9.819639278557114,
          9.859719438877756,
          9.899799599198396,
          9.939879759519037,
          9.97995991983968,
          10.02004008016032,
          10.06012024048096,
          10.100200400801603,
          10.140280561122244,
          10.180360721442886,
          10.220440881763526,
          10.260521042084168,
          10.30060120240481,
          10.34068136272545,
          10.380761523046091,
          10.420841683366733,
          10.460921843687375,
          10.501002004008015,
          10.541082164328657,
          10.581162324649299,
          10.62124248496994,
          10.66132264529058,
          10.701402805611222,
          10.741482965931864,
          10.781563126252504,
          10.821643286573146,
          10.861723446893787,
          10.901803607214429,
          10.941883767535069,
          10.98196392785571,
          11.022044088176353,
          11.062124248496994,
          11.102204408817634,
          11.142284569138276,
          11.182364729458918,
          11.222444889779558,
          11.2625250501002,
          11.302605210420841,
          11.342685370741483,
          11.382765531062123,
          11.422845691382765,
          11.462925851703407,
          11.503006012024048,
          11.543086172344688,
          11.58316633266533,
          11.623246492985972,
          11.663326653306612,
          11.703406813627254,
          11.743486973947896,
          11.783567134268537,
          11.823647294589177,
          11.863727454909819,
          11.90380761523046,
          11.943887775551103,
          11.983967935871743,
          12.024048096192384,
          12.064128256513026,
          12.104208416833666,
          12.144288577154308,
          12.18436873747495,
          12.224448897795591,
          12.264529058116231,
          12.304609218436873,
          12.344689378757515,
          12.384769539078157,
          12.424849699398797,
          12.464929859719438,
          12.50501002004008,
          12.54509018036072,
          12.585170340681362,
          12.625250501002004,
          12.665330661322646,
          12.705410821643286,
          12.745490981963927,
          12.785571142284569,
          12.825651302605209,
          12.86573146292585,
          12.905811623246493,
          12.945891783567134,
          12.985971943887774,
          13.026052104208416,
          13.066132264529058,
          13.1062124248497,
          13.14629258517034,
          13.186372745490981,
          13.226452905811623,
          13.266533066132263,
          13.306613226452905,
          13.346693386773547,
          13.386773547094188,
          13.426853707414828,
          13.46693386773547,
          13.507014028056112,
          13.547094188376754,
          13.587174348697394,
          13.627254509018035,
          13.667334669338677,
          13.707414829659317,
          13.747494989979959,
          13.7875751503006,
          13.827655310621243,
          13.867735470941883,
          13.907815631262524,
          13.947895791583166,
          13.987975951903808,
          14.028056112224448,
          14.06813627254509,
          14.108216432865731,
          14.148296593186371,
          14.188376753507013,
          14.228456913827655,
          14.268537074148297,
          14.308617234468937,
          14.348697394789578,
          14.38877755511022,
          14.428857715430862,
          14.468937875751502,
          14.509018036072144,
          14.549098196392785,
          14.589178356713425,
          14.629258517034067,
          14.669338677354709,
          14.70941883767535,
          14.74949899799599,
          14.789579158316633,
          14.829659318637274,
          14.869739478957916,
          14.909819639278556,
          14.949899799599198,
          14.98997995991984,
          15.03006012024048,
          15.070140280561121,
          15.110220440881763,
          15.150300601202405,
          15.190380761523045,
          15.230460921843687,
          15.270541082164328,
          15.31062124248497,
          15.35070140280561,
          15.390781563126252,
          15.430861723446894,
          15.470941883767534,
          15.511022044088175,
          15.551102204408817,
          15.591182364729459,
          15.631262525050099,
          15.67134268537074,
          15.711422845691382,
          15.751503006012024,
          15.791583166332664,
          15.831663326653306,
          15.871743486973948,
          15.911823647294588,
          15.95190380761523,
          15.991983967935871,
          16.03206412825651,
          16.072144288577153,
          16.112224448897795,
          16.152304609218437,
          16.19238476953908,
          16.23246492985972,
          16.27254509018036,
          16.312625250501,
          16.352705410821642,
          16.392785571142284,
          16.432865731462925,
          16.472945891783567,
          16.51302605210421,
          16.55310621242485,
          16.59318637274549,
          16.63326653306613,
          16.673346693386772,
          16.713426853707414,
          16.753507014028056,
          16.793587174348698,
          16.83366733466934,
          16.873747494989978,
          16.91382765531062,
          16.95390781563126,
          16.993987975951903,
          17.034068136272545,
          17.074148296593187,
          17.11422845691383,
          17.154308617234467,
          17.19438877755511,
          17.23446893787575,
          17.274549098196392,
          17.314629258517034,
          17.354709418837675,
          17.394789579158317,
          17.43486973947896,
          17.474949899799597,
          17.51503006012024,
          17.55511022044088,
          17.595190380761522,
          17.635270541082164,
          17.675350701402806,
          17.715430861723448,
          17.755511022044086,
          17.795591182364728,
          17.83567134268537,
          17.87575150300601,
          17.915831663326653,
          17.955911823647295,
          17.995991983967937,
          18.036072144288575,
          18.076152304609217,
          18.11623246492986,
          18.1563126252505,
          18.196392785571142,
          18.236472945891784,
          18.276553106212425,
          18.316633266533067,
          18.356713426853705,
          18.396793587174347,
          18.43687374749499,
          18.47695390781563,
          18.517034068136272,
          18.557114228456914,
          18.597194388777556,
          18.637274549098194,
          18.677354709418836,
          18.717434869739478,
          18.75751503006012,
          18.79759519038076,
          18.837675350701403,
          18.877755511022045,
          18.917835671342683,
          18.957915831663325,
          18.997995991983966,
          19.03807615230461,
          19.07815631262525,
          19.118236472945892,
          19.158316633266534,
          19.198396793587175,
          19.238476953907814,
          19.278557114228455,
          19.318637274549097,
          19.35871743486974,
          19.39879759519038,
          19.438877755511022,
          19.478957915831664,
          19.519038076152302,
          19.559118236472944,
          19.599198396793586,
          19.639278557114228,
          19.67935871743487,
          19.71943887775551,
          19.759519038076153,
          19.79959919839679,
          19.839679358717433,
          19.879759519038075,
          19.919839679358716,
          19.95991983967936,
          20
         ],
         "y": [
          0.2,
          0.1984032021290547,
          0.19681915307531272,
          0.19524775105235315,
          0.19368889508641685,
          0.19214248500991818,
          0.1906084214550083,
          0.18908660584719028,
          0.18757694039898498,
          0.18607932810364733,
          0.18459367272893315,
          0.1831198788109155,
          0.18165785164785034,
          0.1802074972940914,
          0.1787687225540535,
          0.1773414349762239,
          0.1759255428472218,
          0.1745209551859051,
          0.17312758173752416,
          0.17174533296792222,
          0.17037412005778238,
          0.16901385489692014,
          0.16766445007862185,
          0.1663258188940281,
          0.164997875326562,
          0.16368053404640226,
          0.16237371040499982,
          0.16107732042963885,
          0.15979128081804075,
          0.15851550893301142,
          0.1572499227971312,
          0.15599444108748736,
          0.15474898313044835,
          0.1535134688964801,
          0.1522878189950035,
          0.15107195466929285,
          0.14986579779141548,
          0.14866927085721124,
          0.14748229698131232,
          0.1463047998922029,
          0.1451367039273182,
          0.1439779340281824,
          0.14282841573558588,
          0.1416880751848005,
          0.1405568391008334,
          0.13943463479371832,
          0.13832139015384512,
          0.13721703364732585,
          0.13612149431139847,
          0.1350347017498668,
          0.1339565861285772,
          0.13288707817093112,
          0.1318261091534337,
          0.13077361090127768,
          0.12972951578396275,
          0.1286937567109498,
          0.1276662671273498,
          0.12664698100964736,
          0.1256358328614581,
          0.12463275770932003,
          0.12363769109851862,
          0.12265056908894507,
          0.1216713282509878,
          0.1206999056614565,
          0.11973623889953894,
          0.11878026604279002,
          0.11783192566315281,
          0.11689115682301128,
          0.1159578990712747,
          0.1150320924394932,
          0.11411367743800437,
          0.11320259505211067,
          0.11229878673828719,
          0.11140219442042001,
          0.1105127604860742,
          0.10963042778279196,
          0.10875513961442003,
          0.10788683973746671,
          0.1070254723574877,
          0.10617098212550094,
          0.10532331413443011,
          0.10448241391557629,
          0.10364822743511821,
          0.10282070109063997,
          0.10199978170768678,
          0.10118541653634819,
          0.10037755324786841,
          0.09957613993128395,
          0.09878112509008782,
          0.09799245763892066,
          0.09721008690028804,
          0.0964339626013041,
          0.09566403487046121,
          0.09490025423442526,
          0.09414257161485677,
          0.09339093832525719,
          0.09264530606784041,
          0.0919056269304294,
          0.0911718533833774,
          0.09044393827651381,
          0.08972183483611461,
          0.08900549666189653,
          0.08829487772403583,
          0.08758993236021023,
          0.08689061527266512,
          0.08619688152530251,
          0.08550868654079388,
          0.08482598609771554,
          0.0841487363277072,
          0.0834768937126531,
          0.08281041508188565,
          0.08214925760941139,
          0.08149337881115917,
          0.08084273654225019,
          0.0801972889942899,
          0.07955699469268157,
          0.07892181249396117,
          0.07829170158315367,
          0.07766662147115036,
          0.0770465319921071,
          0.07643139330086354,
          0.07582116587038253,
          0.07521581048921044,
          0.07461528825895745,
          0.07401956059179811,
          0.07342858920799165,
          0.07284233613342249,
          0.07226076369715982,
          0.0716838345290373,
          0.0711115115572515,
          0.07054375800597988,
          0.06998053739301774,
          0.06942181352743386,
          0.06886755050724501,
          0.06831771271710908,
          0.06777226482603642,
          0.06723117178511966,
          0.06669439882528147,
          0.06616191145504054,
          0.06563367545829514,
          0.06510965689212454,
          0.06458982208460792,
          0.06407413763266073,
          0.06356257039988829,
          0.06305508751445653,
          0.06255165636697976,
          0.06205224460842529,
          0.06155682014803474,
          0.06106535115126202,
          0.060577806037727715,
          0.06009415347918981,
          0.059614362397530665,
          0.05913840196275996,
          0.058666241591033765,
          0.058197850942689124,
          0.057733199920294756,
          0.05727225866671681,
          0.056814997563200624,
          0.0563613872274672,
          0.0559113985118255,
          0.05546500250129921,
          0.05502217051176897,
          0.054582874088129056,
          0.054147085002459065,
          0.05371477525220996,
          0.05328591705840479,
          0.05286048286385364,
          0.052438445331382935,
          0.05201977734207877,
          0.05160445199354437,
          0.05119244259817142,
          0.05078372268142517,
          0.05037826598014329,
          0.04997604644084825,
          0.0495770382180732,
          0.04918121567270124,
          0.048788553370317886,
          0.04839902607957677,
          0.048012608770578294,
          0.04762927661326135,
          0.04724900497580775,
          0.046871769423059484,
          0.046497545714948595,
          0.04612630980493953,
          0.04575803783848408,
          0.045392706151488445,
          0.045030291268792745,
          0.044670769902662465,
          0.04431411895129218,
          0.04396031549732097,
          0.04360933680635995,
          0.04326116032553128,
          0.04291576368201913,
          0.042573124681631935,
          0.04223322130737635,
          0.041896031718042445,
          0.041561534246800313,
          0.04122970739980776,
          0.040900529854829205,
          0.04057398045986558,
          0.04025003823179514,
          0.03992868235502514,
          0.03960989218015437,
          0.039293647222646166,
          0.03897992716151218,
          0.038668711838006645,
          0.038359981254331016,
          0.038053715572348934,
          0.03774989511231151,
          0.03744850035159277,
          0.03714951192343518,
          0.0368529106157052,
          0.036558677369658725,
          0.03626679327871648,
          0.03597723958724915,
          0.03568999768937211,
          0.03540504912774995,
          0.03512237559241042,
          0.03484195891956792,
          0.03456378109045627,
          0.034287824230170974,
          0.03401407060652054,
          0.03374250262888718,
          0.03347310284709631,
          0.033205853950295426,
          0.03294073876584168,
          0.03267774025819836,
          0.03241684152784039,
          0.032158025810168266,
          0.03190127647443086,
          0.031646577022656816,
          0.03139391108859439,
          0.031143262436659824,
          0.030894614960894087,
          0.030647952683927927,
          0.030403259755955286,
          0.030160520453714763,
          0.029919719179479293,
          0.029680840460053922,
          0.029443868945781517,
          0.029208789409556443,
          0.028975586745846094,
          0.028744245969720302,
          0.028514752215888412,
          0.028287090737744103,
          0.028061246906417776,
          0.027837206209836575,
          0.02761495425179193,
          0.02739447675101436,
          0.02717575954025596,
          0.026958788565379938,
          0.026743549884457637,
          0.02653002966687253,
          0.026318214192431633,
          0.026108089850483848,
          0.025899643139045355,
          0.025692860663932,
          0.025487729137898686,
          0.025284235379785566,
          0.02508236631367096,
          0.024882108968031256,
          0.024683450474907342,
          0.024486378069077774,
          0.02429087908723845,
          0.02409694096718899,
          0.02390455124702547,
          0.023713697564339716,
          0.023524367655424823,
          0.02333654935448724,
          0.023150230592864966,
          0.022965399398252068,
          0.02278204389392938,
          0.02260015229800134,
          0.0224197129226389,
          0.022240714173328527,
          0.022063144548127158,
          0.02188699263692312,
          0.021712247120702948,
          0.021538896770824066,
          0.021366930448293256,
          0.021196337103050897,
          0.021027105773260946,
          0.020859225584606525,
          0.020692685749591187,
          0.020527475566845754,
          0.020363584420440648,
          0.020201001779203778,
          0.020039717196043805,
          0.01987972030727886,
          0.019721000831970606,
          0.019563548571263602,
          0.019407353407729967,
          0.019252405304719226,
          0.019098694305713468,
          0.018946210533687478,
          0.018794944190474117,
          0.018644885556134687,
          0.018496024988334414,
          0.018348352921722797,
          0.018201859867319006,
          0.0180565364119021,
          0.01791237321740624,
          0.01776936102032059,
          0.017627490631094055,
          0.017486752933544857,
          0.017347138884274704,
          0.0172086395120877,
          0.01707124591741386,
          0.01693494927173731,
          0.016799740817028924,
          0.016665611865183613,
          0.016532553797461973,
          0.016400558063936595,
          0.01626961618294256,
          0.016139719740532462,
          0.016010860389935773,
          0.015883029851022513,
          0.015756219909771156,
          0.015630422417740812,
          0.015505629291547685,
          0.01538183251234564,
          0.015259024125310886,
          0.01513719623913089,
          0.015016341025497258,
          0.01489645071860275,
          0.01477751761464222,
          0.014659534071317632,
          0.014542492507346978,
          0.014426385401977136,
          0.014311205294500568,
          0.01419694478377597,
          0.014083596527752665,
          0.013971153242998824,
          0.013859607704233468,
          0.013748952743862184,
          0.01363918125151655,
          0.013530286173597259,
          0.013422260512820855,
          0.013315097327770128,
          0.013208789732448066,
          0.013103330895835378,
          0.012998714041451571,
          0.012894932446919489,
          0.012791979443533366,
          0.012689848415830316,
          0.012588532801165234,
          0.012488026089289105,
          0.012388321821930675,
          0.012289413592381455,
          0.01219129504508405,
          0.01209395987522377,
          0.011997401828323494,
          0.011901614699841783,
          0.011806592334774196,
          0.011712328627257759,
          0.011618817520178674,
          0.011526053004783057,
          0.011434029120290862,
          0.011342739953512822,
          0.011252179638470547,
          0.011162342356019527,
          0.01107322233347526,
          0.01098481384424227,
          0.010897111207446186,
          0.01081010878756867,
          0.010723800994085287,
          0.010638182281106301,
          0.010553247147020307,
          0.010468990134140705,
          0.010385405828354989,
          0.010302488858776883,
          0.010220233897401221,
          0.01013863565876156,
          0.010057688899590557,
          0.009977388418483071,
          0.009897729055561936,
          0.009818705692146363,
          0.009740313250423073,
          0.009662546693119991,
          0.009585401023182578,
          0.009508871283452703,
          0.009432952556350153,
          0.009357639963556609,
          0.009282928665702213,
          0.009208813862054561,
          0.00913529079021026,
          0.009062354725788892,
          0.008990000982129437,
          0.008918224909989135,
          0.008847021897244726,
          0.008776387368596093,
          0.008706316785272266,
          0.008636805644739775,
          0.008567849480413331,
          0.008499443861368812,
          0.00843158439205855,
          0.008364266712028876,
          0.008297486495639944,
          0.008231239451787768,
          0.00816552132362849,
          0.00810032788830485,
          0.008035654956674828,
          0.007971498373042481,
          0.007907854014890891,
          0.00784471779261727,
          0.00778208564927018,
          0.007719953560288842,
          0.007658317533244513,
          0.007597173607583974,
          0.007536517854375011,
          0.0074763463760539745,
          0.007416655306175313,
          0.007357440809163132,
          0.007298699080064744,
          0.0072404263443061586,
          0.007182618857449537,
          0.007125272904952603,
          0.007068384801929936,
          0.007011950892916218,
          0.0069559675516313105,
          0.006900431180747263,
          0.0068453382116571565,
          0.006790685104245783,
          0.006736468346662187,
          0.006682684455093984,
          0.006629329973543515,
          0.006576401473605774,
          0.006523895554248098,
          0.0064718088415916366,
          0.006420137988694544,
          0.006368879675336932,
          0.006318030607807508,
          0.0062675875186919364,
          0.006217547166662882,
          0.006167906336271735,
          0.006118661837741991,
          0.006069810506764291,
          0.006021349204293078,
          0.005973274816344912,
          0.005925584253798358,
          0.005878274452195497,
          0.0058313423715450055,
          0.0057847849961268245,
          0.005738599334298372,
          0.005692782418302291,
          0.005647331304075791,
          0.005602243071061436,
          0.005557514822019492,
          0.0055131436828417535,
          0.005469126802366865,
          0.005425461352197123,
          0.005382144526516702,
          0.005339173541911391,
          0.005296545637189733,
          0.005254258073205587,
          0.005212308132682128,
          0.00517069312003724,
          0.005129410361210303,
          0.005088457203490381,
          0.0050478310153457325,
          0.005007529186254751,
          0.004967549126538212,
          0.0049278882671928495,
          0.004888544059726301,
          0.0048495139759933345,
          0.004810795508033408,
          0.004772386167909504,
          0.004734283487548271,
          0.004696485018581426,
          0.004658988332188439,
          0.004621791018940452,
          0.00458489068864546,
          0.004548284970194732,
          0.004511971511410436,
          0.004475947978894506,
          0.0044402120578787025,
          0.004404761452075869,
          0.004369593883532386,
          0.004334707092481785,
          0.004300098837199554,
          0.004265766893859082,
          0.004231709056388767,
          0.00419792313633026,
          0.004164406962697839,
          0.004131158381838909,
          0.004098175257295617,
          0.004065455469667566,
          0.004032996916475628,
          0.0040007975120268414,
          0.003968855187280402,
          0.003937167889714706,
          0.0039057335831954518,
          0.0038745502478448202,
          0.0038436158799116747,
          0.003812928491642805,
          0.0037824861111551943,
          0.0037522867823093307,
          0.0037223285645834915,
          0.003692609532949063,
          0.003663127777746836
         ]
        }
       ],
       "layout": {
        "template": {
         "data": {
          "bar": [
           {
            "error_x": {
             "color": "#2a3f5f"
            },
            "error_y": {
             "color": "#2a3f5f"
            },
            "marker": {
             "line": {
              "color": "white",
              "width": 0.5
             },
             "pattern": {
              "fillmode": "overlay",
              "size": 10,
              "solidity": 0.2
             }
            },
            "type": "bar"
           }
          ],
          "barpolar": [
           {
            "marker": {
             "line": {
              "color": "white",
              "width": 0.5
             },
             "pattern": {
              "fillmode": "overlay",
              "size": 10,
              "solidity": 0.2
             }
            },
            "type": "barpolar"
           }
          ],
          "carpet": [
           {
            "aaxis": {
             "endlinecolor": "#2a3f5f",
             "gridcolor": "#C8D4E3",
             "linecolor": "#C8D4E3",
             "minorgridcolor": "#C8D4E3",
             "startlinecolor": "#2a3f5f"
            },
            "baxis": {
             "endlinecolor": "#2a3f5f",
             "gridcolor": "#C8D4E3",
             "linecolor": "#C8D4E3",
             "minorgridcolor": "#C8D4E3",
             "startlinecolor": "#2a3f5f"
            },
            "type": "carpet"
           }
          ],
          "choropleth": [
           {
            "colorbar": {
             "outlinewidth": 0,
             "ticks": ""
            },
            "type": "choropleth"
           }
          ],
          "contour": [
           {
            "colorbar": {
             "outlinewidth": 0,
             "ticks": ""
            },
            "colorscale": [
             [
              0,
              "#0d0887"
             ],
             [
              0.1111111111111111,
              "#46039f"
             ],
             [
              0.2222222222222222,
              "#7201a8"
             ],
             [
              0.3333333333333333,
              "#9c179e"
             ],
             [
              0.4444444444444444,
              "#bd3786"
             ],
             [
              0.5555555555555556,
              "#d8576b"
             ],
             [
              0.6666666666666666,
              "#ed7953"
             ],
             [
              0.7777777777777778,
              "#fb9f3a"
             ],
             [
              0.8888888888888888,
              "#fdca26"
             ],
             [
              1,
              "#f0f921"
             ]
            ],
            "type": "contour"
           }
          ],
          "contourcarpet": [
           {
            "colorbar": {
             "outlinewidth": 0,
             "ticks": ""
            },
            "type": "contourcarpet"
           }
          ],
          "heatmap": [
           {
            "colorbar": {
             "outlinewidth": 0,
             "ticks": ""
            },
            "colorscale": [
             [
              0,
              "#0d0887"
             ],
             [
              0.1111111111111111,
              "#46039f"
             ],
             [
              0.2222222222222222,
              "#7201a8"
             ],
             [
              0.3333333333333333,
              "#9c179e"
             ],
             [
              0.4444444444444444,
              "#bd3786"
             ],
             [
              0.5555555555555556,
              "#d8576b"
             ],
             [
              0.6666666666666666,
              "#ed7953"
             ],
             [
              0.7777777777777778,
              "#fb9f3a"
             ],
             [
              0.8888888888888888,
              "#fdca26"
             ],
             [
              1,
              "#f0f921"
             ]
            ],
            "type": "heatmap"
           }
          ],
          "heatmapgl": [
           {
            "colorbar": {
             "outlinewidth": 0,
             "ticks": ""
            },
            "colorscale": [
             [
              0,
              "#0d0887"
             ],
             [
              0.1111111111111111,
              "#46039f"
             ],
             [
              0.2222222222222222,
              "#7201a8"
             ],
             [
              0.3333333333333333,
              "#9c179e"
             ],
             [
              0.4444444444444444,
              "#bd3786"
             ],
             [
              0.5555555555555556,
              "#d8576b"
             ],
             [
              0.6666666666666666,
              "#ed7953"
             ],
             [
              0.7777777777777778,
              "#fb9f3a"
             ],
             [
              0.8888888888888888,
              "#fdca26"
             ],
             [
              1,
              "#f0f921"
             ]
            ],
            "type": "heatmapgl"
           }
          ],
          "histogram": [
           {
            "marker": {
             "pattern": {
              "fillmode": "overlay",
              "size": 10,
              "solidity": 0.2
             }
            },
            "type": "histogram"
           }
          ],
          "histogram2d": [
           {
            "colorbar": {
             "outlinewidth": 0,
             "ticks": ""
            },
            "colorscale": [
             [
              0,
              "#0d0887"
             ],
             [
              0.1111111111111111,
              "#46039f"
             ],
             [
              0.2222222222222222,
              "#7201a8"
             ],
             [
              0.3333333333333333,
              "#9c179e"
             ],
             [
              0.4444444444444444,
              "#bd3786"
             ],
             [
              0.5555555555555556,
              "#d8576b"
             ],
             [
              0.6666666666666666,
              "#ed7953"
             ],
             [
              0.7777777777777778,
              "#fb9f3a"
             ],
             [
              0.8888888888888888,
              "#fdca26"
             ],
             [
              1,
              "#f0f921"
             ]
            ],
            "type": "histogram2d"
           }
          ],
          "histogram2dcontour": [
           {
            "colorbar": {
             "outlinewidth": 0,
             "ticks": ""
            },
            "colorscale": [
             [
              0,
              "#0d0887"
             ],
             [
              0.1111111111111111,
              "#46039f"
             ],
             [
              0.2222222222222222,
              "#7201a8"
             ],
             [
              0.3333333333333333,
              "#9c179e"
             ],
             [
              0.4444444444444444,
              "#bd3786"
             ],
             [
              0.5555555555555556,
              "#d8576b"
             ],
             [
              0.6666666666666666,
              "#ed7953"
             ],
             [
              0.7777777777777778,
              "#fb9f3a"
             ],
             [
              0.8888888888888888,
              "#fdca26"
             ],
             [
              1,
              "#f0f921"
             ]
            ],
            "type": "histogram2dcontour"
           }
          ],
          "mesh3d": [
           {
            "colorbar": {
             "outlinewidth": 0,
             "ticks": ""
            },
            "type": "mesh3d"
           }
          ],
          "parcoords": [
           {
            "line": {
             "colorbar": {
              "outlinewidth": 0,
              "ticks": ""
             }
            },
            "type": "parcoords"
           }
          ],
          "pie": [
           {
            "automargin": true,
            "type": "pie"
           }
          ],
          "scatter": [
           {
            "fillpattern": {
             "fillmode": "overlay",
             "size": 10,
             "solidity": 0.2
            },
            "type": "scatter"
           }
          ],
          "scatter3d": [
           {
            "line": {
             "colorbar": {
              "outlinewidth": 0,
              "ticks": ""
             }
            },
            "marker": {
             "colorbar": {
              "outlinewidth": 0,
              "ticks": ""
             }
            },
            "type": "scatter3d"
           }
          ],
          "scattercarpet": [
           {
            "marker": {
             "colorbar": {
              "outlinewidth": 0,
              "ticks": ""
             }
            },
            "type": "scattercarpet"
           }
          ],
          "scattergeo": [
           {
            "marker": {
             "colorbar": {
              "outlinewidth": 0,
              "ticks": ""
             }
            },
            "type": "scattergeo"
           }
          ],
          "scattergl": [
           {
            "marker": {
             "colorbar": {
              "outlinewidth": 0,
              "ticks": ""
             }
            },
            "type": "scattergl"
           }
          ],
          "scattermapbox": [
           {
            "marker": {
             "colorbar": {
              "outlinewidth": 0,
              "ticks": ""
             }
            },
            "type": "scattermapbox"
           }
          ],
          "scatterpolar": [
           {
            "marker": {
             "colorbar": {
              "outlinewidth": 0,
              "ticks": ""
             }
            },
            "type": "scatterpolar"
           }
          ],
          "scatterpolargl": [
           {
            "marker": {
             "colorbar": {
              "outlinewidth": 0,
              "ticks": ""
             }
            },
            "type": "scatterpolargl"
           }
          ],
          "scatterternary": [
           {
            "marker": {
             "colorbar": {
              "outlinewidth": 0,
              "ticks": ""
             }
            },
            "type": "scatterternary"
           }
          ],
          "surface": [
           {
            "colorbar": {
             "outlinewidth": 0,
             "ticks": ""
            },
            "colorscale": [
             [
              0,
              "#0d0887"
             ],
             [
              0.1111111111111111,
              "#46039f"
             ],
             [
              0.2222222222222222,
              "#7201a8"
             ],
             [
              0.3333333333333333,
              "#9c179e"
             ],
             [
              0.4444444444444444,
              "#bd3786"
             ],
             [
              0.5555555555555556,
              "#d8576b"
             ],
             [
              0.6666666666666666,
              "#ed7953"
             ],
             [
              0.7777777777777778,
              "#fb9f3a"
             ],
             [
              0.8888888888888888,
              "#fdca26"
             ],
             [
              1,
              "#f0f921"
             ]
            ],
            "type": "surface"
           }
          ],
          "table": [
           {
            "cells": {
             "fill": {
              "color": "#EBF0F8"
             },
             "line": {
              "color": "white"
             }
            },
            "header": {
             "fill": {
              "color": "#C8D4E3"
             },
             "line": {
              "color": "white"
             }
            },
            "type": "table"
           }
          ]
         },
         "layout": {
          "annotationdefaults": {
           "arrowcolor": "#2a3f5f",
           "arrowhead": 0,
           "arrowwidth": 1
          },
          "autotypenumbers": "strict",
          "coloraxis": {
           "colorbar": {
            "outlinewidth": 0,
            "ticks": ""
           }
          },
          "colorscale": {
           "diverging": [
            [
             0,
             "#8e0152"
            ],
            [
             0.1,
             "#c51b7d"
            ],
            [
             0.2,
             "#de77ae"
            ],
            [
             0.3,
             "#f1b6da"
            ],
            [
             0.4,
             "#fde0ef"
            ],
            [
             0.5,
             "#f7f7f7"
            ],
            [
             0.6,
             "#e6f5d0"
            ],
            [
             0.7,
             "#b8e186"
            ],
            [
             0.8,
             "#7fbc41"
            ],
            [
             0.9,
             "#4d9221"
            ],
            [
             1,
             "#276419"
            ]
           ],
           "sequential": [
            [
             0,
             "#0d0887"
            ],
            [
             0.1111111111111111,
             "#46039f"
            ],
            [
             0.2222222222222222,
             "#7201a8"
            ],
            [
             0.3333333333333333,
             "#9c179e"
            ],
            [
             0.4444444444444444,
             "#bd3786"
            ],
            [
             0.5555555555555556,
             "#d8576b"
            ],
            [
             0.6666666666666666,
             "#ed7953"
            ],
            [
             0.7777777777777778,
             "#fb9f3a"
            ],
            [
             0.8888888888888888,
             "#fdca26"
            ],
            [
             1,
             "#f0f921"
            ]
           ],
           "sequentialminus": [
            [
             0,
             "#0d0887"
            ],
            [
             0.1111111111111111,
             "#46039f"
            ],
            [
             0.2222222222222222,
             "#7201a8"
            ],
            [
             0.3333333333333333,
             "#9c179e"
            ],
            [
             0.4444444444444444,
             "#bd3786"
            ],
            [
             0.5555555555555556,
             "#d8576b"
            ],
            [
             0.6666666666666666,
             "#ed7953"
            ],
            [
             0.7777777777777778,
             "#fb9f3a"
            ],
            [
             0.8888888888888888,
             "#fdca26"
            ],
            [
             1,
             "#f0f921"
            ]
           ]
          },
          "colorway": [
           "#636efa",
           "#EF553B",
           "#00cc96",
           "#ab63fa",
           "#FFA15A",
           "#19d3f3",
           "#FF6692",
           "#B6E880",
           "#FF97FF",
           "#FECB52"
          ],
          "font": {
           "color": "#2a3f5f"
          },
          "geo": {
           "bgcolor": "white",
           "lakecolor": "white",
           "landcolor": "white",
           "showlakes": true,
           "showland": true,
           "subunitcolor": "#C8D4E3"
          },
          "hoverlabel": {
           "align": "left"
          },
          "hovermode": "closest",
          "mapbox": {
           "style": "light"
          },
          "paper_bgcolor": "white",
          "plot_bgcolor": "white",
          "polar": {
           "angularaxis": {
            "gridcolor": "#EBF0F8",
            "linecolor": "#EBF0F8",
            "ticks": ""
           },
           "bgcolor": "white",
           "radialaxis": {
            "gridcolor": "#EBF0F8",
            "linecolor": "#EBF0F8",
            "ticks": ""
           }
          },
          "scene": {
           "xaxis": {
            "backgroundcolor": "white",
            "gridcolor": "#DFE8F3",
            "gridwidth": 2,
            "linecolor": "#EBF0F8",
            "showbackground": true,
            "ticks": "",
            "zerolinecolor": "#EBF0F8"
           },
           "yaxis": {
            "backgroundcolor": "white",
            "gridcolor": "#DFE8F3",
            "gridwidth": 2,
            "linecolor": "#EBF0F8",
            "showbackground": true,
            "ticks": "",
            "zerolinecolor": "#EBF0F8"
           },
           "zaxis": {
            "backgroundcolor": "white",
            "gridcolor": "#DFE8F3",
            "gridwidth": 2,
            "linecolor": "#EBF0F8",
            "showbackground": true,
            "ticks": "",
            "zerolinecolor": "#EBF0F8"
           }
          },
          "shapedefaults": {
           "line": {
            "color": "#2a3f5f"
           }
          },
          "ternary": {
           "aaxis": {
            "gridcolor": "#DFE8F3",
            "linecolor": "#A2B1C6",
            "ticks": ""
           },
           "baxis": {
            "gridcolor": "#DFE8F3",
            "linecolor": "#A2B1C6",
            "ticks": ""
           },
           "bgcolor": "white",
           "caxis": {
            "gridcolor": "#DFE8F3",
            "linecolor": "#A2B1C6",
            "ticks": ""
           }
          },
          "title": {
           "x": 0.05
          },
          "xaxis": {
           "automargin": true,
           "gridcolor": "#EBF0F8",
           "linecolor": "#EBF0F8",
           "ticks": "",
           "title": {
            "standoff": 15
           },
           "zerolinecolor": "#EBF0F8",
           "zerolinewidth": 2
          },
          "yaxis": {
           "automargin": true,
           "gridcolor": "#EBF0F8",
           "linecolor": "#EBF0F8",
           "ticks": "",
           "title": {
            "standoff": 15
           },
           "zerolinecolor": "#EBF0F8",
           "zerolinewidth": 2
          }
         }
        },
        "title": {
         "text": "Función de Densidad de la Distribución Exponencial"
        },
        "xaxis": {
         "title": {
          "text": "Tiempo entre lluvias (horas)"
         }
        },
        "yaxis": {
         "title": {
          "text": "f(x)"
         }
        }
       }
      }
     },
     "metadata": {},
     "output_type": "display_data"
    }
   ],
   "source": [
    "import numpy as np\n",
    "import plotly.graph_objects as go\n",
    "\n",
    "# Parámetro de la distribución (tasa de ocurrencia)\n",
    "lambd = 0.2  # Ejemplo: tasa de lluvias significativas por hora\n",
    "\n",
    "# Rango de valores para x (tiempo entre eventos)\n",
    "x = np.linspace(0, 20, 500)\n",
    "\n",
    "# Función de densidad de la distribución exponencial\n",
    "f_x = lambd * np.exp(-lambd * x)\n",
    "\n",
    "# Crear el gráfico con Plotly\n",
    "fig = go.Figure()\n",
    "\n",
    "# Agregar la curva de densidad\n",
    "fig.add_trace(go.Scatter(x=x, y=f_x, mode='lines', name='Densidad Exponencial'))\n",
    "\n",
    "# Personalizar el diseño del gráfico\n",
    "fig.update_layout(\n",
    "    title='Función de Densidad de la Distribución Exponencial',\n",
    "    xaxis_title='Tiempo entre lluvias (horas)',\n",
    "    yaxis_title='f(x)',\n",
    "    template='plotly_white'\n",
    ")\n",
    "\n",
    "# Mostrar el gráfico\n",
    "fig.show()\n"
   ]
  },
  {
   "cell_type": "markdown",
   "id": "ea66de0c",
   "metadata": {},
   "source": [
    "\n",
    "##### **Relación entre la integral definida y el cálculo de probabilidades**\n",
    "La integral definida es clave para calcular probabilidades en variables continuas. Si $X$ es una variable aleatoria continua con función de densidad $f(x)$, la probabilidad de que $X$ esté en un intervalo $[a, b]$ es:\n",
    "\n",
    "$$\n",
    "P(a \\leq X \\leq b) = \\int_a^b f(x) \\, dx\n",
    "$$\n",
    "\n",
    "Ejemplo aplicado:\n",
    "- Calcular la probabilidad de que la temperatura en Caucasia esté entre 30°C y 35°C, utilizando una distribución normal ajustada a datos históricos del IDEAM.\n",
    "\n",
    "Este enfoque combina la teoría matemática con aplicaciones prácticas en el análisis de datos meteorológicos."
   ]
  },
  {
   "cell_type": "markdown",
   "id": "9bf60134",
   "metadata": {},
   "source": [
    "[Video de apoyo hasta aquí]()"
   ]
  },
  {
   "cell_type": "markdown",
   "id": "bae86914",
   "metadata": {},
   "source": [
    "2. **Contexto aplicado:**\n",
    "   - Importancia de la predicción climática en la Ingeniería agropecuaria.\n",
    "   - Descripción de los datos meteorológicos del IDEAM: precipitación, temperatura, humedad.\n"
   ]
  },
  {
   "cell_type": "markdown",
   "id": "4e86a27e",
   "metadata": {},
   "source": [
    "3. **Implementación en Python:**\n",
    "   - Uso de bibliotecas como `numpy`, `scipy.stats`, y `matplotlib`.\n",
    "   - Ejemplo práctico: cálculo de la probabilidad de un evento de alta precipitación (>50 mm).\n",
    "\n",
    "---\n"
   ]
  },
  {
   "cell_type": "markdown",
   "id": "cd68dcc0",
   "metadata": {},
   "source": [
    "\n",
    "### **4. Actividades de aprendizaje**\n",
    "1. **Exploración de datos:**\n",
    "   - Los estudiantes cargarán y explorarán un conjunto de datos proporcionado por el IDEAM en formato CSV (temperatura y precipitación).\n",
    "   - Identificarán variables clave, como rangos de precipitación y temperaturas extremas.\n",
    "   - Uso de gráficos para visualizar la distribución de las variables (e.g., histogramas y curvas de densidad).\n",
    "   \n",
    "   Código base:\n"
   ]
  },
  {
   "cell_type": "markdown",
   "id": "4ef70ce5",
   "metadata": {},
   "source": [
    "   ```python\n",
    "   import pandas as pd\n",
    "   import matplotlib.pyplot as plt\n",
    "\n",
    "   # Cargar datos\n",
    "   datos = pd.read_csv('IDEAM_data.csv')\n",
    "   plt.hist(datos['Precipitacion'], bins=20, density=True, alpha=0.6, color='g')\n",
    "   plt.title('Distribución de Precipitación')\n",
    "   plt.xlabel('Precipitación (mm)')\n",
    "   plt.ylabel('Densidad')\n",
    "   plt.show()\n",
    "   ```\n"
   ]
  },
  {
   "cell_type": "markdown",
   "id": "514dba2a",
   "metadata": {},
   "source": [
    "2. **Cálculo de probabilidades:**\n",
    "   - Usar Python para integrar distribuciones conocidas (e.g., Normal o Exponencial) y calcular probabilidades de eventos como:\n",
    "     - La probabilidad de días con precipitación mayor a 50 mm.\n",
    "     - La probabilidad de temperaturas dentro de un rango óptimo para cultivos específicos.\n",
    "\n",
    "   Ejemplo:\n"
   ]
  },
  {
   "cell_type": "code",
   "execution_count": 22,
   "id": "ec01d23d",
   "metadata": {},
   "outputs": [
    {
     "name": "stdout",
     "output_type": "stream",
     "text": [
      "Probabilidad de precipitación > 10 mm: 0.00%\n"
     ]
    }
   ],
   "source": [
    "from scipy.stats import norm\n",
    "\n",
    "# Parámetros de la distribución\n",
    "variable_meteorologica = 'ValorObservado'\n",
    "media = datos[variable_meteorologica].mean()\n",
    "desviacion = datos[variable_meteorologica].std()\n",
    "valor_de_variable_meteorologica = 10\n",
    "# Cálculo de probabilidad: P(X > valor_de_variable_meteorologica) \n",
    "probabilidad = 1 - norm.cdf(valor_de_variable_meteorologica, loc=media, scale=desviacion)\n",
    "print(f\"Probabilidad de precipitación > {valor_de_variable_meteorologica} mm: {probabilidad:.2%}\")\n",
    "\n"
   ]
  },
  {
   "cell_type": "markdown",
   "id": "5a09a60c",
   "metadata": {},
   "source": [
    "\n",
    "---\n",
    "\n",
    "### **5. Tarea o actividades de ejercitación y fijación**\n",
    "1. **Ejercicios de aplicación:**\n",
    "   - Calcular la probabilidad de días con temperaturas entre 18°C y 25°C.\n",
    "   - Estimar el porcentaje de días con precipitación menor a 10 mm.\n",
    "2. **Desafíos:**\n",
    "   - Ajustar un modelo de distribución a los datos observados y justificar su elección.\n",
    "   - Crear un gráfico de probabilidad acumulada de precipitación.\n",
    "3. **Entrega:** Subir los análisis y gráficos a un repositorio de GitHub, acompañado de una explicación de los resultados obtenidos.\n",
    "\n",
    "---\n"
   ]
  },
  {
   "cell_type": "markdown",
   "id": "651190b3",
   "metadata": {},
   "source": [
    "\n",
    "### **6. Diseño de actividad de retroalimentación**\n",
    "**Actividad grupal: Presentación y discusión de resultados**\n",
    "1. Cada grupo presentará:\n",
    "   - Su modelo de distribución seleccionado.\n",
    "   - Los cálculos de probabilidad realizados y su interpretación en el contexto agropecuario.\n",
    "   - Gráficos generados para visualizar los datos y probabilidades.\n",
    "2. **Retroalimentación del docente y compañeros:**\n",
    "   - El docente evaluará la coherencia de los análisis y brindará comentarios para mejorar el entendimiento.\n",
    "   - Los estudiantes responderán preguntas de sus compañeros y justificarán su enfoque.\n",
    "3. **Cierre:**\n",
    "   - Se presentará una solución general al problema, usando los datos de toda la clase para construir un análisis colectivo.\n",
    "\n",
    "---\n"
   ]
  },
  {
   "cell_type": "markdown",
   "id": "119163ef",
   "metadata": {},
   "source": [
    "\n",
    "### **Recursos necesarios**\n",
    "- Jupyter Notebooks para la programación en Python.\n",
    "- Conjunto de datos del IDEAM en formato CSV.\n",
    "- Acceso a bibliotecas como `numpy`, `scipy`, `pandas`, y `matplotlib`.\n",
    "\n",
    "---\n",
    "\n",
    "¿Te gustaría ejemplos más detallados para los ejercicios o un conjunto de datos ficticio para practicar? 😊"
   ]
  },
  {
   "cell_type": "markdown",
   "id": "edf1ce8b",
   "metadata": {},
   "source": [
    "# Ensayo de automatización para obtener datos meteorológicos \n",
    "\n"
   ]
  },
  {
   "cell_type": "code",
   "execution_count": null,
   "id": "dd7f130a",
   "metadata": {},
   "outputs": [],
   "source": []
  },
  {
   "cell_type": "code",
   "execution_count": 8,
   "id": "6b62d8f7",
   "metadata": {},
   "outputs": [
    {
     "ename": "SSLError",
     "evalue": "HTTPSConnectionPool(host='www.ideam.gov.co', port=443): Max retries exceeded with url: /datos-meteorologicos?codigo=2502000077 (Caused by SSLError(SSLCertVerificationError(1, '[SSL: CERTIFICATE_VERIFY_FAILED] certificate verify failed: unable to get local issuer certificate (_ssl.c:1000)')))",
     "output_type": "error",
     "traceback": [
      "\u001b[1;31m---------------------------------------------------------------------------\u001b[0m",
      "\u001b[1;31mSSLCertVerificationError\u001b[0m                  Traceback (most recent call last)",
      "File \u001b[1;32m~\\AppData\\Local\\Packages\\PythonSoftwareFoundation.Python.3.12_qbz5n2kfra8p0\\LocalCache\\local-packages\\Python312\\site-packages\\urllib3\\connectionpool.py:466\u001b[0m, in \u001b[0;36mHTTPConnectionPool._make_request\u001b[1;34m(self, conn, method, url, body, headers, retries, timeout, chunked, response_conn, preload_content, decode_content, enforce_content_length)\u001b[0m\n\u001b[0;32m    465\u001b[0m \u001b[38;5;28;01mtry\u001b[39;00m:\n\u001b[1;32m--> 466\u001b[0m     \u001b[38;5;28;43mself\u001b[39;49m\u001b[38;5;241;43m.\u001b[39;49m\u001b[43m_validate_conn\u001b[49m\u001b[43m(\u001b[49m\u001b[43mconn\u001b[49m\u001b[43m)\u001b[49m\n\u001b[0;32m    467\u001b[0m \u001b[38;5;28;01mexcept\u001b[39;00m (SocketTimeout, BaseSSLError) \u001b[38;5;28;01mas\u001b[39;00m e:\n",
      "File \u001b[1;32m~\\AppData\\Local\\Packages\\PythonSoftwareFoundation.Python.3.12_qbz5n2kfra8p0\\LocalCache\\local-packages\\Python312\\site-packages\\urllib3\\connectionpool.py:1095\u001b[0m, in \u001b[0;36mHTTPSConnectionPool._validate_conn\u001b[1;34m(self, conn)\u001b[0m\n\u001b[0;32m   1094\u001b[0m \u001b[38;5;28;01mif\u001b[39;00m conn\u001b[38;5;241m.\u001b[39mis_closed:\n\u001b[1;32m-> 1095\u001b[0m     \u001b[43mconn\u001b[49m\u001b[38;5;241;43m.\u001b[39;49m\u001b[43mconnect\u001b[49m\u001b[43m(\u001b[49m\u001b[43m)\u001b[49m\n\u001b[0;32m   1097\u001b[0m \u001b[38;5;66;03m# TODO revise this, see https://github.com/urllib3/urllib3/issues/2791\u001b[39;00m\n",
      "File \u001b[1;32m~\\AppData\\Local\\Packages\\PythonSoftwareFoundation.Python.3.12_qbz5n2kfra8p0\\LocalCache\\local-packages\\Python312\\site-packages\\urllib3\\connection.py:730\u001b[0m, in \u001b[0;36mHTTPSConnection.connect\u001b[1;34m(self)\u001b[0m\n\u001b[0;32m    728\u001b[0m server_hostname_rm_dot \u001b[38;5;241m=\u001b[39m server_hostname\u001b[38;5;241m.\u001b[39mrstrip(\u001b[38;5;124m\"\u001b[39m\u001b[38;5;124m.\u001b[39m\u001b[38;5;124m\"\u001b[39m)\n\u001b[1;32m--> 730\u001b[0m sock_and_verified \u001b[38;5;241m=\u001b[39m \u001b[43m_ssl_wrap_socket_and_match_hostname\u001b[49m\u001b[43m(\u001b[49m\n\u001b[0;32m    731\u001b[0m \u001b[43m    \u001b[49m\u001b[43msock\u001b[49m\u001b[38;5;241;43m=\u001b[39;49m\u001b[43msock\u001b[49m\u001b[43m,\u001b[49m\n\u001b[0;32m    732\u001b[0m \u001b[43m    \u001b[49m\u001b[43mcert_reqs\u001b[49m\u001b[38;5;241;43m=\u001b[39;49m\u001b[38;5;28;43mself\u001b[39;49m\u001b[38;5;241;43m.\u001b[39;49m\u001b[43mcert_reqs\u001b[49m\u001b[43m,\u001b[49m\n\u001b[0;32m    733\u001b[0m \u001b[43m    \u001b[49m\u001b[43mssl_version\u001b[49m\u001b[38;5;241;43m=\u001b[39;49m\u001b[38;5;28;43mself\u001b[39;49m\u001b[38;5;241;43m.\u001b[39;49m\u001b[43mssl_version\u001b[49m\u001b[43m,\u001b[49m\n\u001b[0;32m    734\u001b[0m \u001b[43m    \u001b[49m\u001b[43mssl_minimum_version\u001b[49m\u001b[38;5;241;43m=\u001b[39;49m\u001b[38;5;28;43mself\u001b[39;49m\u001b[38;5;241;43m.\u001b[39;49m\u001b[43mssl_minimum_version\u001b[49m\u001b[43m,\u001b[49m\n\u001b[0;32m    735\u001b[0m \u001b[43m    \u001b[49m\u001b[43mssl_maximum_version\u001b[49m\u001b[38;5;241;43m=\u001b[39;49m\u001b[38;5;28;43mself\u001b[39;49m\u001b[38;5;241;43m.\u001b[39;49m\u001b[43mssl_maximum_version\u001b[49m\u001b[43m,\u001b[49m\n\u001b[0;32m    736\u001b[0m \u001b[43m    \u001b[49m\u001b[43mca_certs\u001b[49m\u001b[38;5;241;43m=\u001b[39;49m\u001b[38;5;28;43mself\u001b[39;49m\u001b[38;5;241;43m.\u001b[39;49m\u001b[43mca_certs\u001b[49m\u001b[43m,\u001b[49m\n\u001b[0;32m    737\u001b[0m \u001b[43m    \u001b[49m\u001b[43mca_cert_dir\u001b[49m\u001b[38;5;241;43m=\u001b[39;49m\u001b[38;5;28;43mself\u001b[39;49m\u001b[38;5;241;43m.\u001b[39;49m\u001b[43mca_cert_dir\u001b[49m\u001b[43m,\u001b[49m\n\u001b[0;32m    738\u001b[0m \u001b[43m    \u001b[49m\u001b[43mca_cert_data\u001b[49m\u001b[38;5;241;43m=\u001b[39;49m\u001b[38;5;28;43mself\u001b[39;49m\u001b[38;5;241;43m.\u001b[39;49m\u001b[43mca_cert_data\u001b[49m\u001b[43m,\u001b[49m\n\u001b[0;32m    739\u001b[0m \u001b[43m    \u001b[49m\u001b[43mcert_file\u001b[49m\u001b[38;5;241;43m=\u001b[39;49m\u001b[38;5;28;43mself\u001b[39;49m\u001b[38;5;241;43m.\u001b[39;49m\u001b[43mcert_file\u001b[49m\u001b[43m,\u001b[49m\n\u001b[0;32m    740\u001b[0m \u001b[43m    \u001b[49m\u001b[43mkey_file\u001b[49m\u001b[38;5;241;43m=\u001b[39;49m\u001b[38;5;28;43mself\u001b[39;49m\u001b[38;5;241;43m.\u001b[39;49m\u001b[43mkey_file\u001b[49m\u001b[43m,\u001b[49m\n\u001b[0;32m    741\u001b[0m \u001b[43m    \u001b[49m\u001b[43mkey_password\u001b[49m\u001b[38;5;241;43m=\u001b[39;49m\u001b[38;5;28;43mself\u001b[39;49m\u001b[38;5;241;43m.\u001b[39;49m\u001b[43mkey_password\u001b[49m\u001b[43m,\u001b[49m\n\u001b[0;32m    742\u001b[0m \u001b[43m    \u001b[49m\u001b[43mserver_hostname\u001b[49m\u001b[38;5;241;43m=\u001b[39;49m\u001b[43mserver_hostname_rm_dot\u001b[49m\u001b[43m,\u001b[49m\n\u001b[0;32m    743\u001b[0m \u001b[43m    \u001b[49m\u001b[43mssl_context\u001b[49m\u001b[38;5;241;43m=\u001b[39;49m\u001b[38;5;28;43mself\u001b[39;49m\u001b[38;5;241;43m.\u001b[39;49m\u001b[43mssl_context\u001b[49m\u001b[43m,\u001b[49m\n\u001b[0;32m    744\u001b[0m \u001b[43m    \u001b[49m\u001b[43mtls_in_tls\u001b[49m\u001b[38;5;241;43m=\u001b[39;49m\u001b[43mtls_in_tls\u001b[49m\u001b[43m,\u001b[49m\n\u001b[0;32m    745\u001b[0m \u001b[43m    \u001b[49m\u001b[43massert_hostname\u001b[49m\u001b[38;5;241;43m=\u001b[39;49m\u001b[38;5;28;43mself\u001b[39;49m\u001b[38;5;241;43m.\u001b[39;49m\u001b[43massert_hostname\u001b[49m\u001b[43m,\u001b[49m\n\u001b[0;32m    746\u001b[0m \u001b[43m    \u001b[49m\u001b[43massert_fingerprint\u001b[49m\u001b[38;5;241;43m=\u001b[39;49m\u001b[38;5;28;43mself\u001b[39;49m\u001b[38;5;241;43m.\u001b[39;49m\u001b[43massert_fingerprint\u001b[49m\u001b[43m,\u001b[49m\n\u001b[0;32m    747\u001b[0m \u001b[43m\u001b[49m\u001b[43m)\u001b[49m\n\u001b[0;32m    748\u001b[0m \u001b[38;5;28mself\u001b[39m\u001b[38;5;241m.\u001b[39msock \u001b[38;5;241m=\u001b[39m sock_and_verified\u001b[38;5;241m.\u001b[39msocket\n",
      "File \u001b[1;32m~\\AppData\\Local\\Packages\\PythonSoftwareFoundation.Python.3.12_qbz5n2kfra8p0\\LocalCache\\local-packages\\Python312\\site-packages\\urllib3\\connection.py:909\u001b[0m, in \u001b[0;36m_ssl_wrap_socket_and_match_hostname\u001b[1;34m(sock, cert_reqs, ssl_version, ssl_minimum_version, ssl_maximum_version, cert_file, key_file, key_password, ca_certs, ca_cert_dir, ca_cert_data, assert_hostname, assert_fingerprint, server_hostname, ssl_context, tls_in_tls)\u001b[0m\n\u001b[0;32m    907\u001b[0m         server_hostname \u001b[38;5;241m=\u001b[39m normalized\n\u001b[1;32m--> 909\u001b[0m ssl_sock \u001b[38;5;241m=\u001b[39m \u001b[43mssl_wrap_socket\u001b[49m\u001b[43m(\u001b[49m\n\u001b[0;32m    910\u001b[0m \u001b[43m    \u001b[49m\u001b[43msock\u001b[49m\u001b[38;5;241;43m=\u001b[39;49m\u001b[43msock\u001b[49m\u001b[43m,\u001b[49m\n\u001b[0;32m    911\u001b[0m \u001b[43m    \u001b[49m\u001b[43mkeyfile\u001b[49m\u001b[38;5;241;43m=\u001b[39;49m\u001b[43mkey_file\u001b[49m\u001b[43m,\u001b[49m\n\u001b[0;32m    912\u001b[0m \u001b[43m    \u001b[49m\u001b[43mcertfile\u001b[49m\u001b[38;5;241;43m=\u001b[39;49m\u001b[43mcert_file\u001b[49m\u001b[43m,\u001b[49m\n\u001b[0;32m    913\u001b[0m \u001b[43m    \u001b[49m\u001b[43mkey_password\u001b[49m\u001b[38;5;241;43m=\u001b[39;49m\u001b[43mkey_password\u001b[49m\u001b[43m,\u001b[49m\n\u001b[0;32m    914\u001b[0m \u001b[43m    \u001b[49m\u001b[43mca_certs\u001b[49m\u001b[38;5;241;43m=\u001b[39;49m\u001b[43mca_certs\u001b[49m\u001b[43m,\u001b[49m\n\u001b[0;32m    915\u001b[0m \u001b[43m    \u001b[49m\u001b[43mca_cert_dir\u001b[49m\u001b[38;5;241;43m=\u001b[39;49m\u001b[43mca_cert_dir\u001b[49m\u001b[43m,\u001b[49m\n\u001b[0;32m    916\u001b[0m \u001b[43m    \u001b[49m\u001b[43mca_cert_data\u001b[49m\u001b[38;5;241;43m=\u001b[39;49m\u001b[43mca_cert_data\u001b[49m\u001b[43m,\u001b[49m\n\u001b[0;32m    917\u001b[0m \u001b[43m    \u001b[49m\u001b[43mserver_hostname\u001b[49m\u001b[38;5;241;43m=\u001b[39;49m\u001b[43mserver_hostname\u001b[49m\u001b[43m,\u001b[49m\n\u001b[0;32m    918\u001b[0m \u001b[43m    \u001b[49m\u001b[43mssl_context\u001b[49m\u001b[38;5;241;43m=\u001b[39;49m\u001b[43mcontext\u001b[49m\u001b[43m,\u001b[49m\n\u001b[0;32m    919\u001b[0m \u001b[43m    \u001b[49m\u001b[43mtls_in_tls\u001b[49m\u001b[38;5;241;43m=\u001b[39;49m\u001b[43mtls_in_tls\u001b[49m\u001b[43m,\u001b[49m\n\u001b[0;32m    920\u001b[0m \u001b[43m\u001b[49m\u001b[43m)\u001b[49m\n\u001b[0;32m    922\u001b[0m \u001b[38;5;28;01mtry\u001b[39;00m:\n",
      "File \u001b[1;32m~\\AppData\\Local\\Packages\\PythonSoftwareFoundation.Python.3.12_qbz5n2kfra8p0\\LocalCache\\local-packages\\Python312\\site-packages\\urllib3\\util\\ssl_.py:469\u001b[0m, in \u001b[0;36mssl_wrap_socket\u001b[1;34m(sock, keyfile, certfile, cert_reqs, ca_certs, server_hostname, ssl_version, ciphers, ssl_context, ca_cert_dir, key_password, ca_cert_data, tls_in_tls)\u001b[0m\n\u001b[0;32m    467\u001b[0m context\u001b[38;5;241m.\u001b[39mset_alpn_protocols(ALPN_PROTOCOLS)\n\u001b[1;32m--> 469\u001b[0m ssl_sock \u001b[38;5;241m=\u001b[39m \u001b[43m_ssl_wrap_socket_impl\u001b[49m\u001b[43m(\u001b[49m\u001b[43msock\u001b[49m\u001b[43m,\u001b[49m\u001b[43m \u001b[49m\u001b[43mcontext\u001b[49m\u001b[43m,\u001b[49m\u001b[43m \u001b[49m\u001b[43mtls_in_tls\u001b[49m\u001b[43m,\u001b[49m\u001b[43m \u001b[49m\u001b[43mserver_hostname\u001b[49m\u001b[43m)\u001b[49m\n\u001b[0;32m    470\u001b[0m \u001b[38;5;28;01mreturn\u001b[39;00m ssl_sock\n",
      "File \u001b[1;32m~\\AppData\\Local\\Packages\\PythonSoftwareFoundation.Python.3.12_qbz5n2kfra8p0\\LocalCache\\local-packages\\Python312\\site-packages\\urllib3\\util\\ssl_.py:513\u001b[0m, in \u001b[0;36m_ssl_wrap_socket_impl\u001b[1;34m(sock, ssl_context, tls_in_tls, server_hostname)\u001b[0m\n\u001b[0;32m    511\u001b[0m     \u001b[38;5;28;01mreturn\u001b[39;00m SSLTransport(sock, ssl_context, server_hostname)\n\u001b[1;32m--> 513\u001b[0m \u001b[38;5;28;01mreturn\u001b[39;00m \u001b[43mssl_context\u001b[49m\u001b[38;5;241;43m.\u001b[39;49m\u001b[43mwrap_socket\u001b[49m\u001b[43m(\u001b[49m\u001b[43msock\u001b[49m\u001b[43m,\u001b[49m\u001b[43m \u001b[49m\u001b[43mserver_hostname\u001b[49m\u001b[38;5;241;43m=\u001b[39;49m\u001b[43mserver_hostname\u001b[49m\u001b[43m)\u001b[49m\n",
      "File \u001b[1;32mC:\\Program Files\\WindowsApps\\PythonSoftwareFoundation.Python.3.12_3.12.2032.0_x64__qbz5n2kfra8p0\\Lib\\ssl.py:455\u001b[0m, in \u001b[0;36mSSLContext.wrap_socket\u001b[1;34m(self, sock, server_side, do_handshake_on_connect, suppress_ragged_eofs, server_hostname, session)\u001b[0m\n\u001b[0;32m    449\u001b[0m \u001b[38;5;28;01mdef\u001b[39;00m \u001b[38;5;21mwrap_socket\u001b[39m(\u001b[38;5;28mself\u001b[39m, sock, server_side\u001b[38;5;241m=\u001b[39m\u001b[38;5;28;01mFalse\u001b[39;00m,\n\u001b[0;32m    450\u001b[0m                 do_handshake_on_connect\u001b[38;5;241m=\u001b[39m\u001b[38;5;28;01mTrue\u001b[39;00m,\n\u001b[0;32m    451\u001b[0m                 suppress_ragged_eofs\u001b[38;5;241m=\u001b[39m\u001b[38;5;28;01mTrue\u001b[39;00m,\n\u001b[0;32m    452\u001b[0m                 server_hostname\u001b[38;5;241m=\u001b[39m\u001b[38;5;28;01mNone\u001b[39;00m, session\u001b[38;5;241m=\u001b[39m\u001b[38;5;28;01mNone\u001b[39;00m):\n\u001b[0;32m    453\u001b[0m     \u001b[38;5;66;03m# SSLSocket class handles server_hostname encoding before it calls\u001b[39;00m\n\u001b[0;32m    454\u001b[0m     \u001b[38;5;66;03m# ctx._wrap_socket()\u001b[39;00m\n\u001b[1;32m--> 455\u001b[0m     \u001b[38;5;28;01mreturn\u001b[39;00m \u001b[38;5;28;43mself\u001b[39;49m\u001b[38;5;241;43m.\u001b[39;49m\u001b[43msslsocket_class\u001b[49m\u001b[38;5;241;43m.\u001b[39;49m\u001b[43m_create\u001b[49m\u001b[43m(\u001b[49m\n\u001b[0;32m    456\u001b[0m \u001b[43m        \u001b[49m\u001b[43msock\u001b[49m\u001b[38;5;241;43m=\u001b[39;49m\u001b[43msock\u001b[49m\u001b[43m,\u001b[49m\n\u001b[0;32m    457\u001b[0m \u001b[43m        \u001b[49m\u001b[43mserver_side\u001b[49m\u001b[38;5;241;43m=\u001b[39;49m\u001b[43mserver_side\u001b[49m\u001b[43m,\u001b[49m\n\u001b[0;32m    458\u001b[0m \u001b[43m        \u001b[49m\u001b[43mdo_handshake_on_connect\u001b[49m\u001b[38;5;241;43m=\u001b[39;49m\u001b[43mdo_handshake_on_connect\u001b[49m\u001b[43m,\u001b[49m\n\u001b[0;32m    459\u001b[0m \u001b[43m        \u001b[49m\u001b[43msuppress_ragged_eofs\u001b[49m\u001b[38;5;241;43m=\u001b[39;49m\u001b[43msuppress_ragged_eofs\u001b[49m\u001b[43m,\u001b[49m\n\u001b[0;32m    460\u001b[0m \u001b[43m        \u001b[49m\u001b[43mserver_hostname\u001b[49m\u001b[38;5;241;43m=\u001b[39;49m\u001b[43mserver_hostname\u001b[49m\u001b[43m,\u001b[49m\n\u001b[0;32m    461\u001b[0m \u001b[43m        \u001b[49m\u001b[43mcontext\u001b[49m\u001b[38;5;241;43m=\u001b[39;49m\u001b[38;5;28;43mself\u001b[39;49m\u001b[43m,\u001b[49m\n\u001b[0;32m    462\u001b[0m \u001b[43m        \u001b[49m\u001b[43msession\u001b[49m\u001b[38;5;241;43m=\u001b[39;49m\u001b[43msession\u001b[49m\n\u001b[0;32m    463\u001b[0m \u001b[43m    \u001b[49m\u001b[43m)\u001b[49m\n",
      "File \u001b[1;32mC:\\Program Files\\WindowsApps\\PythonSoftwareFoundation.Python.3.12_3.12.2032.0_x64__qbz5n2kfra8p0\\Lib\\ssl.py:1041\u001b[0m, in \u001b[0;36mSSLSocket._create\u001b[1;34m(cls, sock, server_side, do_handshake_on_connect, suppress_ragged_eofs, server_hostname, context, session)\u001b[0m\n\u001b[0;32m   1040\u001b[0m                 \u001b[38;5;28;01mraise\u001b[39;00m \u001b[38;5;167;01mValueError\u001b[39;00m(\u001b[38;5;124m\"\u001b[39m\u001b[38;5;124mdo_handshake_on_connect should not be specified for non-blocking sockets\u001b[39m\u001b[38;5;124m\"\u001b[39m)\n\u001b[1;32m-> 1041\u001b[0m             \u001b[38;5;28;43mself\u001b[39;49m\u001b[38;5;241;43m.\u001b[39;49m\u001b[43mdo_handshake\u001b[49m\u001b[43m(\u001b[49m\u001b[43m)\u001b[49m\n\u001b[0;32m   1042\u001b[0m \u001b[38;5;28;01mexcept\u001b[39;00m:\n",
      "File \u001b[1;32mC:\\Program Files\\WindowsApps\\PythonSoftwareFoundation.Python.3.12_3.12.2032.0_x64__qbz5n2kfra8p0\\Lib\\ssl.py:1319\u001b[0m, in \u001b[0;36mSSLSocket.do_handshake\u001b[1;34m(self, block)\u001b[0m\n\u001b[0;32m   1318\u001b[0m         \u001b[38;5;28mself\u001b[39m\u001b[38;5;241m.\u001b[39msettimeout(\u001b[38;5;28;01mNone\u001b[39;00m)\n\u001b[1;32m-> 1319\u001b[0m     \u001b[38;5;28;43mself\u001b[39;49m\u001b[38;5;241;43m.\u001b[39;49m\u001b[43m_sslobj\u001b[49m\u001b[38;5;241;43m.\u001b[39;49m\u001b[43mdo_handshake\u001b[49m\u001b[43m(\u001b[49m\u001b[43m)\u001b[49m\n\u001b[0;32m   1320\u001b[0m \u001b[38;5;28;01mfinally\u001b[39;00m:\n",
      "\u001b[1;31mSSLCertVerificationError\u001b[0m: [SSL: CERTIFICATE_VERIFY_FAILED] certificate verify failed: unable to get local issuer certificate (_ssl.c:1000)",
      "\nDuring handling of the above exception, another exception occurred:\n",
      "\u001b[1;31mSSLError\u001b[0m                                  Traceback (most recent call last)",
      "File \u001b[1;32m~\\AppData\\Local\\Packages\\PythonSoftwareFoundation.Python.3.12_qbz5n2kfra8p0\\LocalCache\\local-packages\\Python312\\site-packages\\urllib3\\connectionpool.py:789\u001b[0m, in \u001b[0;36mHTTPConnectionPool.urlopen\u001b[1;34m(self, method, url, body, headers, retries, redirect, assert_same_host, timeout, pool_timeout, release_conn, chunked, body_pos, preload_content, decode_content, **response_kw)\u001b[0m\n\u001b[0;32m    788\u001b[0m \u001b[38;5;66;03m# Make the request on the HTTPConnection object\u001b[39;00m\n\u001b[1;32m--> 789\u001b[0m response \u001b[38;5;241m=\u001b[39m \u001b[38;5;28;43mself\u001b[39;49m\u001b[38;5;241;43m.\u001b[39;49m\u001b[43m_make_request\u001b[49m\u001b[43m(\u001b[49m\n\u001b[0;32m    790\u001b[0m \u001b[43m    \u001b[49m\u001b[43mconn\u001b[49m\u001b[43m,\u001b[49m\n\u001b[0;32m    791\u001b[0m \u001b[43m    \u001b[49m\u001b[43mmethod\u001b[49m\u001b[43m,\u001b[49m\n\u001b[0;32m    792\u001b[0m \u001b[43m    \u001b[49m\u001b[43murl\u001b[49m\u001b[43m,\u001b[49m\n\u001b[0;32m    793\u001b[0m \u001b[43m    \u001b[49m\u001b[43mtimeout\u001b[49m\u001b[38;5;241;43m=\u001b[39;49m\u001b[43mtimeout_obj\u001b[49m\u001b[43m,\u001b[49m\n\u001b[0;32m    794\u001b[0m \u001b[43m    \u001b[49m\u001b[43mbody\u001b[49m\u001b[38;5;241;43m=\u001b[39;49m\u001b[43mbody\u001b[49m\u001b[43m,\u001b[49m\n\u001b[0;32m    795\u001b[0m \u001b[43m    \u001b[49m\u001b[43mheaders\u001b[49m\u001b[38;5;241;43m=\u001b[39;49m\u001b[43mheaders\u001b[49m\u001b[43m,\u001b[49m\n\u001b[0;32m    796\u001b[0m \u001b[43m    \u001b[49m\u001b[43mchunked\u001b[49m\u001b[38;5;241;43m=\u001b[39;49m\u001b[43mchunked\u001b[49m\u001b[43m,\u001b[49m\n\u001b[0;32m    797\u001b[0m \u001b[43m    \u001b[49m\u001b[43mretries\u001b[49m\u001b[38;5;241;43m=\u001b[39;49m\u001b[43mretries\u001b[49m\u001b[43m,\u001b[49m\n\u001b[0;32m    798\u001b[0m \u001b[43m    \u001b[49m\u001b[43mresponse_conn\u001b[49m\u001b[38;5;241;43m=\u001b[39;49m\u001b[43mresponse_conn\u001b[49m\u001b[43m,\u001b[49m\n\u001b[0;32m    799\u001b[0m \u001b[43m    \u001b[49m\u001b[43mpreload_content\u001b[49m\u001b[38;5;241;43m=\u001b[39;49m\u001b[43mpreload_content\u001b[49m\u001b[43m,\u001b[49m\n\u001b[0;32m    800\u001b[0m \u001b[43m    \u001b[49m\u001b[43mdecode_content\u001b[49m\u001b[38;5;241;43m=\u001b[39;49m\u001b[43mdecode_content\u001b[49m\u001b[43m,\u001b[49m\n\u001b[0;32m    801\u001b[0m \u001b[43m    \u001b[49m\u001b[38;5;241;43m*\u001b[39;49m\u001b[38;5;241;43m*\u001b[39;49m\u001b[43mresponse_kw\u001b[49m\u001b[43m,\u001b[49m\n\u001b[0;32m    802\u001b[0m \u001b[43m\u001b[49m\u001b[43m)\u001b[49m\n\u001b[0;32m    804\u001b[0m \u001b[38;5;66;03m# Everything went great!\u001b[39;00m\n",
      "File \u001b[1;32m~\\AppData\\Local\\Packages\\PythonSoftwareFoundation.Python.3.12_qbz5n2kfra8p0\\LocalCache\\local-packages\\Python312\\site-packages\\urllib3\\connectionpool.py:490\u001b[0m, in \u001b[0;36mHTTPConnectionPool._make_request\u001b[1;34m(self, conn, method, url, body, headers, retries, timeout, chunked, response_conn, preload_content, decode_content, enforce_content_length)\u001b[0m\n\u001b[0;32m    489\u001b[0m         new_e \u001b[38;5;241m=\u001b[39m _wrap_proxy_error(new_e, conn\u001b[38;5;241m.\u001b[39mproxy\u001b[38;5;241m.\u001b[39mscheme)\n\u001b[1;32m--> 490\u001b[0m     \u001b[38;5;28;01mraise\u001b[39;00m new_e\n\u001b[0;32m    492\u001b[0m \u001b[38;5;66;03m# conn.request() calls http.client.*.request, not the method in\u001b[39;00m\n\u001b[0;32m    493\u001b[0m \u001b[38;5;66;03m# urllib3.request. It also calls makefile (recv) on the socket.\u001b[39;00m\n",
      "\u001b[1;31mSSLError\u001b[0m: [SSL: CERTIFICATE_VERIFY_FAILED] certificate verify failed: unable to get local issuer certificate (_ssl.c:1000)",
      "\nThe above exception was the direct cause of the following exception:\n",
      "\u001b[1;31mMaxRetryError\u001b[0m                             Traceback (most recent call last)",
      "File \u001b[1;32m~\\AppData\\Local\\Packages\\PythonSoftwareFoundation.Python.3.12_qbz5n2kfra8p0\\LocalCache\\local-packages\\Python312\\site-packages\\requests\\adapters.py:667\u001b[0m, in \u001b[0;36mHTTPAdapter.send\u001b[1;34m(self, request, stream, timeout, verify, cert, proxies)\u001b[0m\n\u001b[0;32m    666\u001b[0m \u001b[38;5;28;01mtry\u001b[39;00m:\n\u001b[1;32m--> 667\u001b[0m     resp \u001b[38;5;241m=\u001b[39m \u001b[43mconn\u001b[49m\u001b[38;5;241;43m.\u001b[39;49m\u001b[43murlopen\u001b[49m\u001b[43m(\u001b[49m\n\u001b[0;32m    668\u001b[0m \u001b[43m        \u001b[49m\u001b[43mmethod\u001b[49m\u001b[38;5;241;43m=\u001b[39;49m\u001b[43mrequest\u001b[49m\u001b[38;5;241;43m.\u001b[39;49m\u001b[43mmethod\u001b[49m\u001b[43m,\u001b[49m\n\u001b[0;32m    669\u001b[0m \u001b[43m        \u001b[49m\u001b[43murl\u001b[49m\u001b[38;5;241;43m=\u001b[39;49m\u001b[43murl\u001b[49m\u001b[43m,\u001b[49m\n\u001b[0;32m    670\u001b[0m \u001b[43m        \u001b[49m\u001b[43mbody\u001b[49m\u001b[38;5;241;43m=\u001b[39;49m\u001b[43mrequest\u001b[49m\u001b[38;5;241;43m.\u001b[39;49m\u001b[43mbody\u001b[49m\u001b[43m,\u001b[49m\n\u001b[0;32m    671\u001b[0m \u001b[43m        \u001b[49m\u001b[43mheaders\u001b[49m\u001b[38;5;241;43m=\u001b[39;49m\u001b[43mrequest\u001b[49m\u001b[38;5;241;43m.\u001b[39;49m\u001b[43mheaders\u001b[49m\u001b[43m,\u001b[49m\n\u001b[0;32m    672\u001b[0m \u001b[43m        \u001b[49m\u001b[43mredirect\u001b[49m\u001b[38;5;241;43m=\u001b[39;49m\u001b[38;5;28;43;01mFalse\u001b[39;49;00m\u001b[43m,\u001b[49m\n\u001b[0;32m    673\u001b[0m \u001b[43m        \u001b[49m\u001b[43massert_same_host\u001b[49m\u001b[38;5;241;43m=\u001b[39;49m\u001b[38;5;28;43;01mFalse\u001b[39;49;00m\u001b[43m,\u001b[49m\n\u001b[0;32m    674\u001b[0m \u001b[43m        \u001b[49m\u001b[43mpreload_content\u001b[49m\u001b[38;5;241;43m=\u001b[39;49m\u001b[38;5;28;43;01mFalse\u001b[39;49;00m\u001b[43m,\u001b[49m\n\u001b[0;32m    675\u001b[0m \u001b[43m        \u001b[49m\u001b[43mdecode_content\u001b[49m\u001b[38;5;241;43m=\u001b[39;49m\u001b[38;5;28;43;01mFalse\u001b[39;49;00m\u001b[43m,\u001b[49m\n\u001b[0;32m    676\u001b[0m \u001b[43m        \u001b[49m\u001b[43mretries\u001b[49m\u001b[38;5;241;43m=\u001b[39;49m\u001b[38;5;28;43mself\u001b[39;49m\u001b[38;5;241;43m.\u001b[39;49m\u001b[43mmax_retries\u001b[49m\u001b[43m,\u001b[49m\n\u001b[0;32m    677\u001b[0m \u001b[43m        \u001b[49m\u001b[43mtimeout\u001b[49m\u001b[38;5;241;43m=\u001b[39;49m\u001b[43mtimeout\u001b[49m\u001b[43m,\u001b[49m\n\u001b[0;32m    678\u001b[0m \u001b[43m        \u001b[49m\u001b[43mchunked\u001b[49m\u001b[38;5;241;43m=\u001b[39;49m\u001b[43mchunked\u001b[49m\u001b[43m,\u001b[49m\n\u001b[0;32m    679\u001b[0m \u001b[43m    \u001b[49m\u001b[43m)\u001b[49m\n\u001b[0;32m    681\u001b[0m \u001b[38;5;28;01mexcept\u001b[39;00m (ProtocolError, \u001b[38;5;167;01mOSError\u001b[39;00m) \u001b[38;5;28;01mas\u001b[39;00m err:\n",
      "File \u001b[1;32m~\\AppData\\Local\\Packages\\PythonSoftwareFoundation.Python.3.12_qbz5n2kfra8p0\\LocalCache\\local-packages\\Python312\\site-packages\\urllib3\\connectionpool.py:843\u001b[0m, in \u001b[0;36mHTTPConnectionPool.urlopen\u001b[1;34m(self, method, url, body, headers, retries, redirect, assert_same_host, timeout, pool_timeout, release_conn, chunked, body_pos, preload_content, decode_content, **response_kw)\u001b[0m\n\u001b[0;32m    841\u001b[0m     new_e \u001b[38;5;241m=\u001b[39m ProtocolError(\u001b[38;5;124m\"\u001b[39m\u001b[38;5;124mConnection aborted.\u001b[39m\u001b[38;5;124m\"\u001b[39m, new_e)\n\u001b[1;32m--> 843\u001b[0m retries \u001b[38;5;241m=\u001b[39m \u001b[43mretries\u001b[49m\u001b[38;5;241;43m.\u001b[39;49m\u001b[43mincrement\u001b[49m\u001b[43m(\u001b[49m\n\u001b[0;32m    844\u001b[0m \u001b[43m    \u001b[49m\u001b[43mmethod\u001b[49m\u001b[43m,\u001b[49m\u001b[43m \u001b[49m\u001b[43murl\u001b[49m\u001b[43m,\u001b[49m\u001b[43m \u001b[49m\u001b[43merror\u001b[49m\u001b[38;5;241;43m=\u001b[39;49m\u001b[43mnew_e\u001b[49m\u001b[43m,\u001b[49m\u001b[43m \u001b[49m\u001b[43m_pool\u001b[49m\u001b[38;5;241;43m=\u001b[39;49m\u001b[38;5;28;43mself\u001b[39;49m\u001b[43m,\u001b[49m\u001b[43m \u001b[49m\u001b[43m_stacktrace\u001b[49m\u001b[38;5;241;43m=\u001b[39;49m\u001b[43msys\u001b[49m\u001b[38;5;241;43m.\u001b[39;49m\u001b[43mexc_info\u001b[49m\u001b[43m(\u001b[49m\u001b[43m)\u001b[49m\u001b[43m[\u001b[49m\u001b[38;5;241;43m2\u001b[39;49m\u001b[43m]\u001b[49m\n\u001b[0;32m    845\u001b[0m \u001b[43m\u001b[49m\u001b[43m)\u001b[49m\n\u001b[0;32m    846\u001b[0m retries\u001b[38;5;241m.\u001b[39msleep()\n",
      "File \u001b[1;32m~\\AppData\\Local\\Packages\\PythonSoftwareFoundation.Python.3.12_qbz5n2kfra8p0\\LocalCache\\local-packages\\Python312\\site-packages\\urllib3\\util\\retry.py:519\u001b[0m, in \u001b[0;36mRetry.increment\u001b[1;34m(self, method, url, response, error, _pool, _stacktrace)\u001b[0m\n\u001b[0;32m    518\u001b[0m     reason \u001b[38;5;241m=\u001b[39m error \u001b[38;5;129;01mor\u001b[39;00m ResponseError(cause)\n\u001b[1;32m--> 519\u001b[0m     \u001b[38;5;28;01mraise\u001b[39;00m MaxRetryError(_pool, url, reason) \u001b[38;5;28;01mfrom\u001b[39;00m \u001b[38;5;21;01mreason\u001b[39;00m  \u001b[38;5;66;03m# type: ignore[arg-type]\u001b[39;00m\n\u001b[0;32m    521\u001b[0m log\u001b[38;5;241m.\u001b[39mdebug(\u001b[38;5;124m\"\u001b[39m\u001b[38;5;124mIncremented Retry for (url=\u001b[39m\u001b[38;5;124m'\u001b[39m\u001b[38;5;132;01m%s\u001b[39;00m\u001b[38;5;124m'\u001b[39m\u001b[38;5;124m): \u001b[39m\u001b[38;5;132;01m%r\u001b[39;00m\u001b[38;5;124m\"\u001b[39m, url, new_retry)\n",
      "\u001b[1;31mMaxRetryError\u001b[0m: HTTPSConnectionPool(host='www.ideam.gov.co', port=443): Max retries exceeded with url: /datos-meteorologicos?codigo=2502000077 (Caused by SSLError(SSLCertVerificationError(1, '[SSL: CERTIFICATE_VERIFY_FAILED] certificate verify failed: unable to get local issuer certificate (_ssl.c:1000)')))",
      "\nDuring handling of the above exception, another exception occurred:\n",
      "\u001b[1;31mSSLError\u001b[0m                                  Traceback (most recent call last)",
      "Cell \u001b[1;32mIn[8], line 17\u001b[0m\n\u001b[0;32m     13\u001b[0m \u001b[38;5;66;03m# Realizar la solicitud HTTP\u001b[39;00m\n\u001b[0;32m     14\u001b[0m headers \u001b[38;5;241m=\u001b[39m {\n\u001b[0;32m     15\u001b[0m     \u001b[38;5;124m\"\u001b[39m\u001b[38;5;124mUser-Agent\u001b[39m\u001b[38;5;124m\"\u001b[39m: \u001b[38;5;124m\"\u001b[39m\u001b[38;5;124mMozilla/5.0 (Windows NT 10.0; Win64; x64) AppleWebKit/537.36 (KHTML, like Gecko) Chrome/115.0.0.0 Safari/537.36\u001b[39m\u001b[38;5;124m\"\u001b[39m\n\u001b[0;32m     16\u001b[0m }\n\u001b[1;32m---> 17\u001b[0m response \u001b[38;5;241m=\u001b[39m \u001b[43mrequests\u001b[49m\u001b[38;5;241;43m.\u001b[39;49m\u001b[43mget\u001b[49m\u001b[43m(\u001b[49m\u001b[43murl_estacion\u001b[49m\u001b[43m,\u001b[49m\u001b[43m \u001b[49m\u001b[43mheaders\u001b[49m\u001b[38;5;241;43m=\u001b[39;49m\u001b[43mheaders\u001b[49m\u001b[43m)\u001b[49m\n\u001b[0;32m     19\u001b[0m \u001b[38;5;66;03m# Verificar si la solicitud fue exitosa\u001b[39;00m\n\u001b[0;32m     20\u001b[0m \u001b[38;5;28;01mif\u001b[39;00m response\u001b[38;5;241m.\u001b[39mstatus_code \u001b[38;5;241m==\u001b[39m \u001b[38;5;241m200\u001b[39m:\n\u001b[0;32m     21\u001b[0m     \u001b[38;5;66;03m# Analizar el contenido HTML\u001b[39;00m\n",
      "File \u001b[1;32m~\\AppData\\Local\\Packages\\PythonSoftwareFoundation.Python.3.12_qbz5n2kfra8p0\\LocalCache\\local-packages\\Python312\\site-packages\\requests\\api.py:73\u001b[0m, in \u001b[0;36mget\u001b[1;34m(url, params, **kwargs)\u001b[0m\n\u001b[0;32m     62\u001b[0m \u001b[38;5;28;01mdef\u001b[39;00m \u001b[38;5;21mget\u001b[39m(url, params\u001b[38;5;241m=\u001b[39m\u001b[38;5;28;01mNone\u001b[39;00m, \u001b[38;5;241m*\u001b[39m\u001b[38;5;241m*\u001b[39mkwargs):\n\u001b[0;32m     63\u001b[0m \u001b[38;5;250m    \u001b[39m\u001b[38;5;124mr\u001b[39m\u001b[38;5;124;03m\"\"\"Sends a GET request.\u001b[39;00m\n\u001b[0;32m     64\u001b[0m \n\u001b[0;32m     65\u001b[0m \u001b[38;5;124;03m    :param url: URL for the new :class:`Request` object.\u001b[39;00m\n\u001b[1;32m   (...)\u001b[0m\n\u001b[0;32m     70\u001b[0m \u001b[38;5;124;03m    :rtype: requests.Response\u001b[39;00m\n\u001b[0;32m     71\u001b[0m \u001b[38;5;124;03m    \"\"\"\u001b[39;00m\n\u001b[1;32m---> 73\u001b[0m     \u001b[38;5;28;01mreturn\u001b[39;00m \u001b[43mrequest\u001b[49m\u001b[43m(\u001b[49m\u001b[38;5;124;43m\"\u001b[39;49m\u001b[38;5;124;43mget\u001b[39;49m\u001b[38;5;124;43m\"\u001b[39;49m\u001b[43m,\u001b[49m\u001b[43m \u001b[49m\u001b[43murl\u001b[49m\u001b[43m,\u001b[49m\u001b[43m \u001b[49m\u001b[43mparams\u001b[49m\u001b[38;5;241;43m=\u001b[39;49m\u001b[43mparams\u001b[49m\u001b[43m,\u001b[49m\u001b[43m \u001b[49m\u001b[38;5;241;43m*\u001b[39;49m\u001b[38;5;241;43m*\u001b[39;49m\u001b[43mkwargs\u001b[49m\u001b[43m)\u001b[49m\n",
      "File \u001b[1;32m~\\AppData\\Local\\Packages\\PythonSoftwareFoundation.Python.3.12_qbz5n2kfra8p0\\LocalCache\\local-packages\\Python312\\site-packages\\requests\\api.py:59\u001b[0m, in \u001b[0;36mrequest\u001b[1;34m(method, url, **kwargs)\u001b[0m\n\u001b[0;32m     55\u001b[0m \u001b[38;5;66;03m# By using the 'with' statement we are sure the session is closed, thus we\u001b[39;00m\n\u001b[0;32m     56\u001b[0m \u001b[38;5;66;03m# avoid leaving sockets open which can trigger a ResourceWarning in some\u001b[39;00m\n\u001b[0;32m     57\u001b[0m \u001b[38;5;66;03m# cases, and look like a memory leak in others.\u001b[39;00m\n\u001b[0;32m     58\u001b[0m \u001b[38;5;28;01mwith\u001b[39;00m sessions\u001b[38;5;241m.\u001b[39mSession() \u001b[38;5;28;01mas\u001b[39;00m session:\n\u001b[1;32m---> 59\u001b[0m     \u001b[38;5;28;01mreturn\u001b[39;00m \u001b[43msession\u001b[49m\u001b[38;5;241;43m.\u001b[39;49m\u001b[43mrequest\u001b[49m\u001b[43m(\u001b[49m\u001b[43mmethod\u001b[49m\u001b[38;5;241;43m=\u001b[39;49m\u001b[43mmethod\u001b[49m\u001b[43m,\u001b[49m\u001b[43m \u001b[49m\u001b[43murl\u001b[49m\u001b[38;5;241;43m=\u001b[39;49m\u001b[43murl\u001b[49m\u001b[43m,\u001b[49m\u001b[43m \u001b[49m\u001b[38;5;241;43m*\u001b[39;49m\u001b[38;5;241;43m*\u001b[39;49m\u001b[43mkwargs\u001b[49m\u001b[43m)\u001b[49m\n",
      "File \u001b[1;32m~\\AppData\\Local\\Packages\\PythonSoftwareFoundation.Python.3.12_qbz5n2kfra8p0\\LocalCache\\local-packages\\Python312\\site-packages\\requests\\sessions.py:589\u001b[0m, in \u001b[0;36mSession.request\u001b[1;34m(self, method, url, params, data, headers, cookies, files, auth, timeout, allow_redirects, proxies, hooks, stream, verify, cert, json)\u001b[0m\n\u001b[0;32m    584\u001b[0m send_kwargs \u001b[38;5;241m=\u001b[39m {\n\u001b[0;32m    585\u001b[0m     \u001b[38;5;124m\"\u001b[39m\u001b[38;5;124mtimeout\u001b[39m\u001b[38;5;124m\"\u001b[39m: timeout,\n\u001b[0;32m    586\u001b[0m     \u001b[38;5;124m\"\u001b[39m\u001b[38;5;124mallow_redirects\u001b[39m\u001b[38;5;124m\"\u001b[39m: allow_redirects,\n\u001b[0;32m    587\u001b[0m }\n\u001b[0;32m    588\u001b[0m send_kwargs\u001b[38;5;241m.\u001b[39mupdate(settings)\n\u001b[1;32m--> 589\u001b[0m resp \u001b[38;5;241m=\u001b[39m \u001b[38;5;28;43mself\u001b[39;49m\u001b[38;5;241;43m.\u001b[39;49m\u001b[43msend\u001b[49m\u001b[43m(\u001b[49m\u001b[43mprep\u001b[49m\u001b[43m,\u001b[49m\u001b[43m \u001b[49m\u001b[38;5;241;43m*\u001b[39;49m\u001b[38;5;241;43m*\u001b[39;49m\u001b[43msend_kwargs\u001b[49m\u001b[43m)\u001b[49m\n\u001b[0;32m    591\u001b[0m \u001b[38;5;28;01mreturn\u001b[39;00m resp\n",
      "File \u001b[1;32m~\\AppData\\Local\\Packages\\PythonSoftwareFoundation.Python.3.12_qbz5n2kfra8p0\\LocalCache\\local-packages\\Python312\\site-packages\\requests\\sessions.py:703\u001b[0m, in \u001b[0;36mSession.send\u001b[1;34m(self, request, **kwargs)\u001b[0m\n\u001b[0;32m    700\u001b[0m start \u001b[38;5;241m=\u001b[39m preferred_clock()\n\u001b[0;32m    702\u001b[0m \u001b[38;5;66;03m# Send the request\u001b[39;00m\n\u001b[1;32m--> 703\u001b[0m r \u001b[38;5;241m=\u001b[39m \u001b[43madapter\u001b[49m\u001b[38;5;241;43m.\u001b[39;49m\u001b[43msend\u001b[49m\u001b[43m(\u001b[49m\u001b[43mrequest\u001b[49m\u001b[43m,\u001b[49m\u001b[43m \u001b[49m\u001b[38;5;241;43m*\u001b[39;49m\u001b[38;5;241;43m*\u001b[39;49m\u001b[43mkwargs\u001b[49m\u001b[43m)\u001b[49m\n\u001b[0;32m    705\u001b[0m \u001b[38;5;66;03m# Total elapsed time of the request (approximately)\u001b[39;00m\n\u001b[0;32m    706\u001b[0m elapsed \u001b[38;5;241m=\u001b[39m preferred_clock() \u001b[38;5;241m-\u001b[39m start\n",
      "File \u001b[1;32m~\\AppData\\Local\\Packages\\PythonSoftwareFoundation.Python.3.12_qbz5n2kfra8p0\\LocalCache\\local-packages\\Python312\\site-packages\\requests\\adapters.py:698\u001b[0m, in \u001b[0;36mHTTPAdapter.send\u001b[1;34m(self, request, stream, timeout, verify, cert, proxies)\u001b[0m\n\u001b[0;32m    694\u001b[0m         \u001b[38;5;28;01mraise\u001b[39;00m ProxyError(e, request\u001b[38;5;241m=\u001b[39mrequest)\n\u001b[0;32m    696\u001b[0m     \u001b[38;5;28;01mif\u001b[39;00m \u001b[38;5;28misinstance\u001b[39m(e\u001b[38;5;241m.\u001b[39mreason, _SSLError):\n\u001b[0;32m    697\u001b[0m         \u001b[38;5;66;03m# This branch is for urllib3 v1.22 and later.\u001b[39;00m\n\u001b[1;32m--> 698\u001b[0m         \u001b[38;5;28;01mraise\u001b[39;00m SSLError(e, request\u001b[38;5;241m=\u001b[39mrequest)\n\u001b[0;32m    700\u001b[0m     \u001b[38;5;28;01mraise\u001b[39;00m \u001b[38;5;167;01mConnectionError\u001b[39;00m(e, request\u001b[38;5;241m=\u001b[39mrequest)\n\u001b[0;32m    702\u001b[0m \u001b[38;5;28;01mexcept\u001b[39;00m ClosedPoolError \u001b[38;5;28;01mas\u001b[39;00m e:\n",
      "\u001b[1;31mSSLError\u001b[0m: HTTPSConnectionPool(host='www.ideam.gov.co', port=443): Max retries exceeded with url: /datos-meteorologicos?codigo=2502000077 (Caused by SSLError(SSLCertVerificationError(1, '[SSL: CERTIFICATE_VERIFY_FAILED] certificate verify failed: unable to get local issuer certificate (_ssl.c:1000)')))"
     ]
    }
   ],
   "source": [
    "import requests\n",
    "from bs4 import BeautifulSoup\n",
    "\n",
    "# URL base del IDEAM (reemplaza con la URL específica del sitio)\n",
    "base_url = \"https://www.ideam.gov.co/\"\n",
    "\n",
    "# Código de estación meteorológica\n",
    "codigo_estacion = \"2502000077\"  # Reemplaza con el código de la estación\n",
    "\n",
    "# Endpoint o URL específica para buscar por estación\n",
    "url_estacion = f\"{base_url}datos-meteorologicos?codigo={codigo_estacion}\"\n",
    "\n",
    "# Realizar la solicitud HTTP\n",
    "headers = {\n",
    "    \"User-Agent\": \"Mozilla/5.0 (Windows NT 10.0; Win64; x64) AppleWebKit/537.36 (KHTML, like Gecko) Chrome/115.0.0.0 Safari/537.36\"\n",
    "}\n",
    "response = requests.get(url_estacion, headers=headers)\n",
    "\n",
    "# Verificar si la solicitud fue exitosa\n",
    "if response.status_code == 200:\n",
    "    # Analizar el contenido HTML\n",
    "    soup = BeautifulSoup(response.content, \"html.parser\")\n",
    "    \n",
    "    # Extraer datos (esto dependerá de cómo estén estructurados en el sitio)\n",
    "    datos_tabla = soup.find_all(\"table\")  # Buscar tablas de datos\n",
    "    \n",
    "    if datos_tabla:\n",
    "        print(\"Datos encontrados:\")\n",
    "        for tabla in datos_tabla:\n",
    "            print(tabla.get_text())\n",
    "    else:\n",
    "        print(\"No se encontraron datos en la página.\")\n",
    "else:\n",
    "    print(f\"Error al acceder a la página: {response.status_code}\")\n"
   ]
  },
  {
   "cell_type": "markdown",
   "id": "64ac8d32",
   "metadata": {},
   "source": [
    "# Ejemplo ilustrativo"
   ]
  },
  {
   "cell_type": "markdown",
   "id": "a3e5e6ab",
   "metadata": {},
   "source": [
    "# 10 ejercicios de entrenamiento o adquisición de habilidades obtenido a través de ChatGPT para una formación personalizada y centrada en la habilidad que se quiere lograr con la enseñanza del ejemplo anterior"
   ]
  },
  {
   "cell_type": "code",
   "execution_count": null,
   "id": "cc539357",
   "metadata": {},
   "outputs": [],
   "source": []
  },
  {
   "cell_type": "markdown",
   "id": "2f0141c3",
   "metadata": {},
   "source": [
    "## Tareas para realizar antes de la clase  \n",
    "\n",
    "1. Ver los videos respectivos []()\n",
    "2. Memorizar las definiciones []()\n",
    "3. Sintetizar o resumir la información en mapas conceptuales. []()\n",
    "4. Tareas para incentivar el uso de la calculadora Casio 991LA cw Para ingenieros, licenciados y administradores.  \n",
    "5. Leer los ejemplos resueltos y replicar la manera de hacerlos"
   ]
  },
  {
   "cell_type": "code",
   "execution_count": 1,
   "id": "83d849ab",
   "metadata": {},
   "outputs": [],
   "source": [
    "# Tarea 1 de lectura de ejemplos y completación de procedimientos\n",
    "# asignación de tarea para realizar antes de clase\n",
    "# Consiste en leer y completar un ejemplo de texto guía\n",
    "# Esta tarea es para realizar solo de manera manuscrita en su cuaderno de clase. \n",
    "# La otra opción de presentación es elaborada en cuadernos Jupyter (En este caso solo debe realizar la cuarta parte de los ejercicios asignados)\n",
    "# \n",
    "def asignador_de_tareas(nombre_tarea, ubicacion_tarea):\n",
    "    import pandas as pd\n",
    "    import numpy as np\n",
    "    import requests\n",
    "    np.random.seed(1213)  # establecer semilla aleatoria para hacer los resultados reproducibles\n",
    "\n",
    "    def asignar_tarea(nombre_tarea, grupo_estudiantes, nombre_texto_guia, pag_seccion, numero_ejemplos_seccion, numero_ejemplos_asignados):\n",
    "        students_path = \"/home/marco/Documentos/docencia/groups_list/\" + grupo_estudiantes + \".csv\"\n",
    "        examples = list(range(1, numero_ejemplos_de_la_seccion))  \n",
    "        students_data = pd.read_csv(students_path)\n",
    "        # Crear una lista para almacenar las asignaciones\n",
    "        assignments = []\n",
    "\n",
    "        # Asignar ejercicios aleatorios a cada estudiante\n",
    "        for index, student in students_data.iterrows():\n",
    "            # Seleccionar 5 ejercicios aleatorios sin repetición\n",
    "            random_exercises = np.sort(np.random.choice(examples, numero_de_ejemplos_asignados, \\\n",
    "                                                replace = False)+ 1)\n",
    "            assignments.append([students_data[\"Nombre\"][index], *random_exercises])  # Agregar asignación a la lista\n",
    "\n",
    "    # Crear un DataFrame con las asignaciones\n",
    "        columns = [\"Student\"] + [ \"Example\" + str(i+1) for i in range(numero_de_ejemplos_asignados)]\n",
    "        assignment_df = pd.DataFrame(assignments, columns=columns)\n",
    "\n",
    "    # Guardar el DataFrame en un archivo CSV\n",
    "        assignment_csv = nombre_tarea + \"_\" + nombre_texto_guia + \"_\"+ pagina_y_seccion + \".csv\"\n",
    "        assignment_df.to_csv(assignment_csv, index=False)\n",
    "\n",
    "        print(\"\"\"Tarea 1 de lectura de ejemplos y completación de procedimientos: \n",
    "     Si faltan los enunciados de los problemas, no se valora la tarea\n",
    "    Si faltan de la conclusión verbales, no se valora la tarea.\n",
    "    Esta tarea se valora solo si la presenta de manera manuscrita en su cuaderno de clase.  \n",
    "      \"\"\", assignment_csv)\n",
    "        return assignment_df"
   ]
  },
  {
   "cell_type": "markdown",
   "id": "740f3401",
   "metadata": {
    "slideshow": {
     "slide_type": "slide"
    }
   },
   "source": [
    "# Componente de manejo de calculadora Casio asociado al objetivo de aprendizaje de esta clase  \n",
    "\n",
    "## Pasos para lograr el objetivo de aprendizaje con la experimentación en la calculadora Casio 991LA cw  "
   ]
  },
  {
   "cell_type": "code",
   "execution_count": 2,
   "id": "0f1f0ab2",
   "metadata": {},
   "outputs": [
    {
     "ename": "NameError",
     "evalue": "name 'nombre_tarea' is not defined",
     "output_type": "error",
     "traceback": [
      "\u001b[1;31m---------------------------------------------------------------------------\u001b[0m",
      "\u001b[1;31mNameError\u001b[0m                                 Traceback (most recent call last)",
      "Cell \u001b[1;32mIn[2], line 1\u001b[0m\n\u001b[1;32m----> 1\u001b[0m asignador_de_tareas(\u001b[43mnombre_tarea\u001b[49m, ubicacion_tarea)\n",
      "\u001b[1;31mNameError\u001b[0m: name 'nombre_tarea' is not defined"
     ]
    }
   ],
   "source": [
    "asignador_de_tareas(nombre_tarea, ubicacion_tarea)\n",
    "\n"
   ]
  },
  {
   "cell_type": "code",
   "execution_count": null,
   "id": "0406f442",
   "metadata": {
    "slideshow": {
     "slide_type": "slide"
    }
   },
   "outputs": [
    {
     "name": "stdout",
     "output_type": "stream",
     "text": [
      "Tarea 3 Solución problemas describiendo y justificando verbalmente: \n",
      "      Si faltan los enunciados de los problemas, no se valora la tarea\n",
      "      Si faltan de la conclusión verbales, no se valora la tarea \n",
      "      Esta tarea se valora solo si la presenta de manera manuscrita en su cuaderno de clase  \n",
      "       tarea_Purcell_Página_202_Sección_3.8.csv\n"
     ]
    },
    {
     "data": {
      "text/html": [
       "<div>\n",
       "<style scoped>\n",
       "    .dataframe tbody tr th:only-of-type {\n",
       "        vertical-align: middle;\n",
       "    }\n",
       "\n",
       "    .dataframe tbody tr th {\n",
       "        vertical-align: top;\n",
       "    }\n",
       "\n",
       "    .dataframe thead th {\n",
       "        text-align: right;\n",
       "    }\n",
       "</style>\n",
       "<table border=\"1\" class=\"dataframe\">\n",
       "  <thead>\n",
       "    <tr style=\"text-align: right;\">\n",
       "      <th></th>\n",
       "      <th>Student</th>\n",
       "      <th>Exer1</th>\n",
       "      <th>Exer2</th>\n",
       "      <th>Exer3</th>\n",
       "      <th>Exer4</th>\n",
       "      <th>Exer5</th>\n",
       "      <th>Exer6</th>\n",
       "      <th>Exer7</th>\n",
       "      <th>Exer8</th>\n",
       "      <th>Exer9</th>\n",
       "      <th>Exer10</th>\n",
       "    </tr>\n",
       "  </thead>\n",
       "  <tbody>\n",
       "    <tr>\n",
       "      <th>0</th>\n",
       "      <td>AMARIS FERNANDEZ SEBASTIAN CAMILO</td>\n",
       "      <td>4</td>\n",
       "      <td>7</td>\n",
       "      <td>9</td>\n",
       "      <td>17</td>\n",
       "      <td>21</td>\n",
       "      <td>30</td>\n",
       "      <td>39</td>\n",
       "      <td>44</td>\n",
       "      <td>51</td>\n",
       "      <td>54</td>\n",
       "    </tr>\n",
       "    <tr>\n",
       "      <th>1</th>\n",
       "      <td>ARENAS HERAZO GABRIEL ENRIQUE</td>\n",
       "      <td>2</td>\n",
       "      <td>5</td>\n",
       "      <td>11</td>\n",
       "      <td>17</td>\n",
       "      <td>26</td>\n",
       "      <td>28</td>\n",
       "      <td>32</td>\n",
       "      <td>40</td>\n",
       "      <td>46</td>\n",
       "      <td>50</td>\n",
       "    </tr>\n",
       "    <tr>\n",
       "      <th>2</th>\n",
       "      <td>AYALA MENDOZA MARISOL YACIRA</td>\n",
       "      <td>10</td>\n",
       "      <td>18</td>\n",
       "      <td>21</td>\n",
       "      <td>37</td>\n",
       "      <td>39</td>\n",
       "      <td>45</td>\n",
       "      <td>46</td>\n",
       "      <td>47</td>\n",
       "      <td>51</td>\n",
       "      <td>52</td>\n",
       "    </tr>\n",
       "    <tr>\n",
       "      <th>3</th>\n",
       "      <td>BERTEL RODELO MICHELL SMIT</td>\n",
       "      <td>4</td>\n",
       "      <td>8</td>\n",
       "      <td>20</td>\n",
       "      <td>26</td>\n",
       "      <td>28</td>\n",
       "      <td>33</td>\n",
       "      <td>40</td>\n",
       "      <td>41</td>\n",
       "      <td>42</td>\n",
       "      <td>47</td>\n",
       "    </tr>\n",
       "    <tr>\n",
       "      <th>4</th>\n",
       "      <td>BULA VERGARA MARIA PAULA</td>\n",
       "      <td>12</td>\n",
       "      <td>13</td>\n",
       "      <td>20</td>\n",
       "      <td>23</td>\n",
       "      <td>25</td>\n",
       "      <td>27</td>\n",
       "      <td>29</td>\n",
       "      <td>30</td>\n",
       "      <td>34</td>\n",
       "      <td>48</td>\n",
       "    </tr>\n",
       "    <tr>\n",
       "      <th>5</th>\n",
       "      <td>CANTILLO ENSUCHO DANIEL</td>\n",
       "      <td>2</td>\n",
       "      <td>4</td>\n",
       "      <td>5</td>\n",
       "      <td>7</td>\n",
       "      <td>15</td>\n",
       "      <td>25</td>\n",
       "      <td>27</td>\n",
       "      <td>33</td>\n",
       "      <td>46</td>\n",
       "      <td>51</td>\n",
       "    </tr>\n",
       "    <tr>\n",
       "      <th>6</th>\n",
       "      <td>CERVANTES DURAN ANGELICA</td>\n",
       "      <td>2</td>\n",
       "      <td>4</td>\n",
       "      <td>5</td>\n",
       "      <td>14</td>\n",
       "      <td>17</td>\n",
       "      <td>19</td>\n",
       "      <td>22</td>\n",
       "      <td>24</td>\n",
       "      <td>34</td>\n",
       "      <td>52</td>\n",
       "    </tr>\n",
       "    <tr>\n",
       "      <th>7</th>\n",
       "      <td>GUERRA NORIEGA YONATHAN</td>\n",
       "      <td>3</td>\n",
       "      <td>20</td>\n",
       "      <td>24</td>\n",
       "      <td>26</td>\n",
       "      <td>28</td>\n",
       "      <td>35</td>\n",
       "      <td>39</td>\n",
       "      <td>48</td>\n",
       "      <td>49</td>\n",
       "      <td>53</td>\n",
       "    </tr>\n",
       "    <tr>\n",
       "      <th>8</th>\n",
       "      <td>HINCAPIE CASTRO JOHAN SEBASTIAN</td>\n",
       "      <td>10</td>\n",
       "      <td>17</td>\n",
       "      <td>27</td>\n",
       "      <td>28</td>\n",
       "      <td>29</td>\n",
       "      <td>32</td>\n",
       "      <td>36</td>\n",
       "      <td>44</td>\n",
       "      <td>48</td>\n",
       "      <td>54</td>\n",
       "    </tr>\n",
       "    <tr>\n",
       "      <th>9</th>\n",
       "      <td>HUMANEZ SANCHEZ CAMILO</td>\n",
       "      <td>3</td>\n",
       "      <td>16</td>\n",
       "      <td>19</td>\n",
       "      <td>24</td>\n",
       "      <td>33</td>\n",
       "      <td>41</td>\n",
       "      <td>43</td>\n",
       "      <td>44</td>\n",
       "      <td>47</td>\n",
       "      <td>49</td>\n",
       "    </tr>\n",
       "    <tr>\n",
       "      <th>10</th>\n",
       "      <td>IBAÑEZ MORENO FRANCISCO LUIS</td>\n",
       "      <td>3</td>\n",
       "      <td>8</td>\n",
       "      <td>13</td>\n",
       "      <td>16</td>\n",
       "      <td>21</td>\n",
       "      <td>27</td>\n",
       "      <td>28</td>\n",
       "      <td>31</td>\n",
       "      <td>42</td>\n",
       "      <td>43</td>\n",
       "    </tr>\n",
       "    <tr>\n",
       "      <th>11</th>\n",
       "      <td>MASS MIRANDA RIVALDO JOSE</td>\n",
       "      <td>2</td>\n",
       "      <td>3</td>\n",
       "      <td>12</td>\n",
       "      <td>13</td>\n",
       "      <td>23</td>\n",
       "      <td>24</td>\n",
       "      <td>31</td>\n",
       "      <td>35</td>\n",
       "      <td>46</td>\n",
       "      <td>52</td>\n",
       "    </tr>\n",
       "    <tr>\n",
       "      <th>12</th>\n",
       "      <td>MIRANDA MARTINEZ CARLOS ANDRES</td>\n",
       "      <td>10</td>\n",
       "      <td>12</td>\n",
       "      <td>21</td>\n",
       "      <td>24</td>\n",
       "      <td>25</td>\n",
       "      <td>26</td>\n",
       "      <td>27</td>\n",
       "      <td>29</td>\n",
       "      <td>39</td>\n",
       "      <td>50</td>\n",
       "    </tr>\n",
       "    <tr>\n",
       "      <th>13</th>\n",
       "      <td>MONTERROSA SOTO ABRIL</td>\n",
       "      <td>10</td>\n",
       "      <td>14</td>\n",
       "      <td>16</td>\n",
       "      <td>18</td>\n",
       "      <td>28</td>\n",
       "      <td>30</td>\n",
       "      <td>35</td>\n",
       "      <td>36</td>\n",
       "      <td>42</td>\n",
       "      <td>50</td>\n",
       "    </tr>\n",
       "    <tr>\n",
       "      <th>14</th>\n",
       "      <td>NORIEGA JIMENEZ GABRIELA</td>\n",
       "      <td>4</td>\n",
       "      <td>13</td>\n",
       "      <td>14</td>\n",
       "      <td>16</td>\n",
       "      <td>19</td>\n",
       "      <td>22</td>\n",
       "      <td>36</td>\n",
       "      <td>37</td>\n",
       "      <td>46</td>\n",
       "      <td>51</td>\n",
       "    </tr>\n",
       "    <tr>\n",
       "      <th>15</th>\n",
       "      <td>PEREZ REYES IVAN DARIO</td>\n",
       "      <td>17</td>\n",
       "      <td>19</td>\n",
       "      <td>23</td>\n",
       "      <td>26</td>\n",
       "      <td>30</td>\n",
       "      <td>33</td>\n",
       "      <td>34</td>\n",
       "      <td>40</td>\n",
       "      <td>46</td>\n",
       "      <td>53</td>\n",
       "    </tr>\n",
       "    <tr>\n",
       "      <th>16</th>\n",
       "      <td>PEREZ THERAN ERLINDA</td>\n",
       "      <td>3</td>\n",
       "      <td>6</td>\n",
       "      <td>19</td>\n",
       "      <td>21</td>\n",
       "      <td>25</td>\n",
       "      <td>30</td>\n",
       "      <td>32</td>\n",
       "      <td>39</td>\n",
       "      <td>42</td>\n",
       "      <td>45</td>\n",
       "    </tr>\n",
       "    <tr>\n",
       "      <th>17</th>\n",
       "      <td>PINEDA ROMERO YOSMERI</td>\n",
       "      <td>2</td>\n",
       "      <td>30</td>\n",
       "      <td>31</td>\n",
       "      <td>32</td>\n",
       "      <td>35</td>\n",
       "      <td>36</td>\n",
       "      <td>37</td>\n",
       "      <td>42</td>\n",
       "      <td>47</td>\n",
       "      <td>50</td>\n",
       "    </tr>\n",
       "    <tr>\n",
       "      <th>18</th>\n",
       "      <td>QUINONEZ CERVANTES MARIANA</td>\n",
       "      <td>5</td>\n",
       "      <td>6</td>\n",
       "      <td>8</td>\n",
       "      <td>13</td>\n",
       "      <td>15</td>\n",
       "      <td>32</td>\n",
       "      <td>33</td>\n",
       "      <td>42</td>\n",
       "      <td>46</td>\n",
       "      <td>49</td>\n",
       "    </tr>\n",
       "    <tr>\n",
       "      <th>19</th>\n",
       "      <td>RAMOS PEREZ YANINE</td>\n",
       "      <td>11</td>\n",
       "      <td>20</td>\n",
       "      <td>21</td>\n",
       "      <td>28</td>\n",
       "      <td>29</td>\n",
       "      <td>37</td>\n",
       "      <td>39</td>\n",
       "      <td>44</td>\n",
       "      <td>46</td>\n",
       "      <td>52</td>\n",
       "    </tr>\n",
       "    <tr>\n",
       "      <th>20</th>\n",
       "      <td>RIVAS HOYOS ESTEFANIA</td>\n",
       "      <td>7</td>\n",
       "      <td>10</td>\n",
       "      <td>12</td>\n",
       "      <td>14</td>\n",
       "      <td>17</td>\n",
       "      <td>25</td>\n",
       "      <td>28</td>\n",
       "      <td>30</td>\n",
       "      <td>37</td>\n",
       "      <td>48</td>\n",
       "    </tr>\n",
       "    <tr>\n",
       "      <th>21</th>\n",
       "      <td>ROSILLO TEJADA VANESA</td>\n",
       "      <td>12</td>\n",
       "      <td>22</td>\n",
       "      <td>23</td>\n",
       "      <td>27</td>\n",
       "      <td>28</td>\n",
       "      <td>30</td>\n",
       "      <td>34</td>\n",
       "      <td>36</td>\n",
       "      <td>40</td>\n",
       "      <td>44</td>\n",
       "    </tr>\n",
       "    <tr>\n",
       "      <th>22</th>\n",
       "      <td>SANCHEZ PADILLA SILVESTRE</td>\n",
       "      <td>4</td>\n",
       "      <td>7</td>\n",
       "      <td>15</td>\n",
       "      <td>22</td>\n",
       "      <td>32</td>\n",
       "      <td>34</td>\n",
       "      <td>38</td>\n",
       "      <td>43</td>\n",
       "      <td>48</td>\n",
       "      <td>53</td>\n",
       "    </tr>\n",
       "    <tr>\n",
       "      <th>23</th>\n",
       "      <td>SILVA ROYERO MAILY CRISTINA</td>\n",
       "      <td>4</td>\n",
       "      <td>5</td>\n",
       "      <td>12</td>\n",
       "      <td>13</td>\n",
       "      <td>20</td>\n",
       "      <td>25</td>\n",
       "      <td>30</td>\n",
       "      <td>35</td>\n",
       "      <td>42</td>\n",
       "      <td>54</td>\n",
       "    </tr>\n",
       "    <tr>\n",
       "      <th>24</th>\n",
       "      <td>USUGA GEORGE JHON ESTIVEN</td>\n",
       "      <td>5</td>\n",
       "      <td>7</td>\n",
       "      <td>8</td>\n",
       "      <td>10</td>\n",
       "      <td>22</td>\n",
       "      <td>37</td>\n",
       "      <td>39</td>\n",
       "      <td>42</td>\n",
       "      <td>44</td>\n",
       "      <td>51</td>\n",
       "    </tr>\n",
       "  </tbody>\n",
       "</table>\n",
       "</div>"
      ],
      "text/plain": [
       "                              Student  Exer1  Exer2  Exer3  Exer4  Exer5  \\\n",
       "0   AMARIS FERNANDEZ SEBASTIAN CAMILO      4      7      9     17     21   \n",
       "1       ARENAS HERAZO GABRIEL ENRIQUE      2      5     11     17     26   \n",
       "2        AYALA MENDOZA MARISOL YACIRA     10     18     21     37     39   \n",
       "3          BERTEL RODELO MICHELL SMIT      4      8     20     26     28   \n",
       "4            BULA VERGARA MARIA PAULA     12     13     20     23     25   \n",
       "5             CANTILLO ENSUCHO DANIEL      2      4      5      7     15   \n",
       "6            CERVANTES DURAN ANGELICA      2      4      5     14     17   \n",
       "7             GUERRA NORIEGA YONATHAN      3     20     24     26     28   \n",
       "8     HINCAPIE CASTRO JOHAN SEBASTIAN     10     17     27     28     29   \n",
       "9              HUMANEZ SANCHEZ CAMILO      3     16     19     24     33   \n",
       "10       IBAÑEZ MORENO FRANCISCO LUIS      3      8     13     16     21   \n",
       "11          MASS MIRANDA RIVALDO JOSE      2      3     12     13     23   \n",
       "12     MIRANDA MARTINEZ CARLOS ANDRES     10     12     21     24     25   \n",
       "13              MONTERROSA SOTO ABRIL     10     14     16     18     28   \n",
       "14           NORIEGA JIMENEZ GABRIELA      4     13     14     16     19   \n",
       "15             PEREZ REYES IVAN DARIO     17     19     23     26     30   \n",
       "16               PEREZ THERAN ERLINDA      3      6     19     21     25   \n",
       "17              PINEDA ROMERO YOSMERI      2     30     31     32     35   \n",
       "18         QUINONEZ CERVANTES MARIANA      5      6      8     13     15   \n",
       "19                 RAMOS PEREZ YANINE     11     20     21     28     29   \n",
       "20              RIVAS HOYOS ESTEFANIA      7     10     12     14     17   \n",
       "21              ROSILLO TEJADA VANESA     12     22     23     27     28   \n",
       "22          SANCHEZ PADILLA SILVESTRE      4      7     15     22     32   \n",
       "23        SILVA ROYERO MAILY CRISTINA      4      5     12     13     20   \n",
       "24          USUGA GEORGE JHON ESTIVEN      5      7      8     10     22   \n",
       "\n",
       "    Exer6  Exer7  Exer8  Exer9  Exer10  \n",
       "0      30     39     44     51      54  \n",
       "1      28     32     40     46      50  \n",
       "2      45     46     47     51      52  \n",
       "3      33     40     41     42      47  \n",
       "4      27     29     30     34      48  \n",
       "5      25     27     33     46      51  \n",
       "6      19     22     24     34      52  \n",
       "7      35     39     48     49      53  \n",
       "8      32     36     44     48      54  \n",
       "9      41     43     44     47      49  \n",
       "10     27     28     31     42      43  \n",
       "11     24     31     35     46      52  \n",
       "12     26     27     29     39      50  \n",
       "13     30     35     36     42      50  \n",
       "14     22     36     37     46      51  \n",
       "15     33     34     40     46      53  \n",
       "16     30     32     39     42      45  \n",
       "17     36     37     42     47      50  \n",
       "18     32     33     42     46      49  \n",
       "19     37     39     44     46      52  \n",
       "20     25     28     30     37      48  \n",
       "21     30     34     36     40      44  \n",
       "22     34     38     43     48      53  \n",
       "23     25     30     35     42      54  \n",
       "24     37     39     42     44      51  "
      ]
     },
     "execution_count": 5,
     "metadata": {},
     "output_type": "execute_result"
    }
   ],
   "source": [
    "asignador_de_tareas(nombre_tarea, ubicacion_tarea):\n",
    "\n",
    "\n",
    "\n"
   ]
  },
  {
   "cell_type": "markdown",
   "id": "8d41fe58",
   "metadata": {
    "slideshow": {
     "slide_type": "slide"
    }
   },
   "source": [
    "# Horario de clases del profesor Marco\n",
    "\n",
    "* Lunes 8-12: Cálculo Vectorial\n",
    "* Martes 8-12 M: Fundamentos de Aritmética. \n",
    "* Miércoles 8 a 12 M: Fundamentos de la Lógica\n",
    "* Jueves 2 a 6 PM: Desarrollo del pensamiento matemático en la infancia. \n",
    "* Viernes 8 - 12 M: Desarrollo del pensamiento matemático en la infancia. \n",
    "* Sábados 8-12 Asesorías y espacio para retroalimentación y apoyo al trabajo independiente. "
   ]
  },
  {
   "cell_type": "markdown",
   "id": "ae114e14",
   "metadata": {
    "slideshow": {
     "slide_type": "slide"
    }
   },
   "source": [
    "# Horarios de monitoría y asesoría  \n",
    "\n",
    "Coordinador de los cursos de la Facultad de Educación para regiones:    \n",
    "\n",
    "Andrés Vélez: regioneducacion.fedu@udea.edu.co  \n",
    "Coordinador Regiones  \n",
    "Facultad de Educación  \n",
    "Universidad de Antioquia  "
   ]
  },
  {
   "cell_type": "markdown",
   "id": "b1db4b6c",
   "metadata": {
    "slideshow": {
     "slide_type": "slide"
    }
   },
   "source": [
    "## Monitor Manuel San Juan Serrano\n",
    "\n",
    "Contactar escribiendo al correo: manuel.serrano1@udea.edu.co"
   ]
  },
  {
   "cell_type": "markdown",
   "id": "39559692",
   "metadata": {
    "slideshow": {
     "slide_type": "slide"
    }
   },
   "source": [
    "Martes y jueves de 8 - 12  \n",
    "Miércoles 10 - 12 y de 2 a 4 PM  \n",
    "Sábado: 8 - 12"
   ]
  },
  {
   "cell_type": "markdown",
   "id": "5a190057",
   "metadata": {},
   "source": [
    "## Monitoría virtual   \n",
    "\n",
    "Telefono del monitos en whatsApp: 3043936088  \n",
    "\n",
    "Juan David Cano Castrillón  \n",
    "Estudiante de Pregrado.  \n",
    "juan.canoc1@udea.edu.co  \n",
    "3043936088  \n"
   ]
  },
  {
   "cell_type": "markdown",
   "id": "10bce0d0",
   "metadata": {
    "slideshow": {
     "slide_type": "slide"
    }
   },
   "source": [
    "## Referentes "
   ]
  },
  {
   "cell_type": "markdown",
   "id": "1db3c468",
   "metadata": {
    "slideshow": {
     "slide_type": "slide"
    }
   },
   "source": [
    "* [Grajales Vanegas, L. M., Restrepo Estrada, C. E., Restrepo Ochoa, S. I., & Ruíz De Villalba, F. (2015). Matemáticas I para las ciencias económicas.](https://github.com/marco-canas/fundamentos_de_la_aritmetica/blob/main/referentes/2_grajales_logica/grajales_lina_matemticas.pdf)\n",
    "  \n",
    "* Duval, R. (2004). Semiosis y pensamiento humano: registros semióticos y aprendizajes intelectuales. Universidad del Valle.\n",
    "\n",
    "* [Aylwin, C. U. (2011). Lógica, conjuntos y números. Universidad de los Andes, Consejo de Publicaciones, Colección: Ciencias Básicas, Serie: Matemáticas.](https://github.com/marco-canas/fundamentos_logica/blob/main/referentes/2_uzcategui/uscategui.pdf)\n",
    "  \n",
    "* [Chollet, F. (2021). Deep learning with Python. Simon and Schuster.](https://github.com/marco-canas/didactica_ciencia_datos/blob/main/2_referentes/chollet/Fran%C3%A7ois%20Chollet%20-%20Deep%20Learning%20with%20Python-Manning%20(2018).pdf)  \n",
    "  \n",
    "* [Watson, S., Stewart, J., & Redlin, L. (2009). Precálculo. Matemáticas para el cálculo.](https://github.com/marco-canas/calculo/blob/main/referents/1_precalculo_stewart/stewart_precalculo.pdf)  \n",
    "\n",
    "* [Purcell, E. J., Varberg, D., & Rigdon, S. E. (2007). Cálculo diferencial e integral. Pearson Educación.](https://github.com/marco-canas/calculo/blob/main/referents/purcell/purcell_calculo.pdf)\n",
    "\n",
    "  \n",
    "\n",
    "* [stewart cálculo](https://udeaeduco-my.sharepoint.com/:b:/g/personal/marco_canas_udea_edu_co/EZgXZjAp8QxPqOAim2hs6LcBNPLGjSHf-xwYnUVYkwa04w?e=RZdTCy)  \n",
    "\n",
    "* [larson](https://udeaeduco-my.sharepoint.com/:b:/g/personal/marco_canas_udea_edu_co/ES71ChFeO9ZDhW3TwC5Ijk8BjxUK3Pdqz_fjHxTTFAfIAg?e=VDEjfu)\n",
    "\n",
    "\n",
    "\n",
    "* [Recomendación de la UNESCO sobre ciencia abierta](https://unesdoc.unesco.org/ark:/48223/pf0000379949_spa)\n",
    "\n",
    "* [chatGPT](https://openai.com/blog/chatgpt)  \n",
    "\n",
    "* [Géron, A. (2017). Hands-on machine learning with scikit-learn and tensorflow: Concepts. Tools, and Techniques to build intelligent systems.](https://github.com/marco-canas/didactica_ciencia_datos/blob/main/2_referentes/geron/Hands-On%20Machine%20Learning-3nd_Edition(2022).pdf)  \n",
    "\n",
    "* [McKinney, W. (2012). Python for data analysis: Data wrangling with Pandas, NumPy, and IPython. \" O'Reilly Media, Inc.\".](https://github.com/marco-canas/didactica_ciencia_datos/blob/main/2_referentes/mckinney/Wes_McKinney.pdf)  "
   ]
  },
  {
   "cell_type": "markdown",
   "id": "8e65d6f9",
   "metadata": {},
   "source": [
    "# Como estudiante, encuentro que...   \n",
    "\n",
    "F: Mis Fortalezas son:     \n",
    "O: Mis Oportunidades son:    \n",
    "D: Mis Debilidades son:    \n",
    "A: Lo que Amenazas mi aprendizaje es:  "
   ]
  },
  {
   "cell_type": "markdown",
   "id": "6b9e56a8",
   "metadata": {
    "slideshow": {
     "slide_type": "slide"
    }
   },
   "source": [
    "### [Evaluamos al profesor Marco Cañas Aquí](https://forms.office.com/Pages/ResponsePage.aspx?id=IefhmYRxjkmK_7KtTlPBwkanXIs1i1FEujpsZgO6dXpUREJPV1kxUk1JV1ozTFJIQVNIQjY5WEY3US4u)"
   ]
  },
  {
   "cell_type": "markdown",
   "id": "10f43536",
   "metadata": {
    "slideshow": {
     "slide_type": "slide"
    }
   },
   "source": [
    "### Continue su aprendizaje en la siguiente clase a través del siguiente [vínculo]()"
   ]
  },
  {
   "cell_type": "markdown",
   "id": "ba236f4d",
   "metadata": {},
   "source": [
    "### **Actividad de Clase: Expresar Ideas, Dudas y Emociones de Manera Respetuosa y Asertiva**\n"
   ]
  },
  {
   "cell_type": "markdown",
   "id": "33bcd185",
   "metadata": {},
   "source": [
    "\n",
    "**Objetivo:**  \n",
    "Desarrollar habilidades de comunicación efectiva en los estudiantes para que puedan expresar sus ideas, dudas y emociones de forma respetuosa y asertiva.\n"
   ]
  },
  {
   "cell_type": "markdown",
   "id": "701a6b0c",
   "metadata": {},
   "source": [
    "\n",
    "**Duración:**  \n",
    "15-20 minutos\n",
    "\n",
    "---\n"
   ]
  },
  {
   "cell_type": "markdown",
   "id": "f61da648",
   "metadata": {},
   "source": [
    "\n",
    "### **1. Introducción (5 minutos)**  \n",
    "- **Tema:** Introducir a los estudiantes al concepto de la comunicación asertiva, explicando cómo expresar pensamientos y emociones de manera clara y respetuosa sin agredir o ser pasivo.\n",
    "- **Dinámica:** Mostrar dos ejemplos contrastantes: uno de comunicación pasiva/agresiva y otro de comunicación asertiva. Preguntar a los estudiantes cuál creen que es más efectivo y por qué.\n"
   ]
  },
  {
   "cell_type": "markdown",
   "id": "fb5fcc8d",
   "metadata": {},
   "source": [
    "\n",
    "**Materiales:**  \n",
    "- Pizarra o diapositivas con ejemplos de frases pasivas, agresivas y asertivas.\n",
    "  \n",
    "**Ejemplo:**  \n",
    "- **Pasivo:** “Bueno… no sé si es una buena idea, pero… tal vez podrías intentarlo.”\n",
    "- **Agresivo:** “¡Tu idea es terrible, no va a funcionar!”\n",
    "- **Asertivo:** “Creo que podríamos mejorar esa idea si consideramos otro enfoque.”\n",
    "\n",
    "---\n"
   ]
  },
  {
   "cell_type": "markdown",
   "id": "b5445d5e",
   "metadata": {},
   "source": [
    "\n",
    "### **2. Ejercicio en Parejas (10 minutos)**  \n",
    "- **Instrucciones:** Dividir a los estudiantes en parejas. Darles diferentes situaciones cotidianas en las que deben comunicarse (pedir ayuda, expresar desacuerdo, compartir una idea, etc.). Cada pareja debe crear una breve conversación donde practiquen la comunicación asertiva.\n",
    "  \n",
    "**Situaciones propuestas:**\n",
    "  - Expresar desacuerdo con un compañero sobre una tarea de grupo.\n",
    "  - Pedirle ayuda al profesor sobre un concepto difícil.\n",
    "  - Expresar frustración por un malentendido en clase.\n",
    "\n",
    "- **Reglas:** Cada estudiante debe asegurarse de usar lenguaje respetuoso y asertivo para expresar su posición y emociones. Al final, cada pareja debe compartir con la clase un ejemplo de lo que discutieron.\n",
    "\n",
    "---\n"
   ]
  },
  {
   "cell_type": "markdown",
   "id": "9bcd1b30",
   "metadata": {},
   "source": [
    "\n",
    "### **3. Retroalimentación y Discusión (5 minutos)**  \n",
    "- **Discusión:** Invitar a algunos estudiantes a compartir sus experiencias de la actividad. \n",
    "- **Preguntas:** ¿Cómo se sintieron al intentar ser asertivos? ¿Les resultó difícil? ¿Cómo fue recibido el mensaje?\n",
    "  \n",
    "**Consejo:** Resaltar la importancia de practicar la asertividad como una herramienta para mejorar la comunicación interpersonal y reducir conflictos.\n",
    "\n",
    "---\n"
   ]
  },
  {
   "cell_type": "markdown",
   "id": "512fe655",
   "metadata": {},
   "source": [
    "\n",
    "### **Cierre**  \n",
    "- Resumir las características de la comunicación asertiva: uso de \"yo\" en lugar de \"tú\" para evitar culpabilizar, tono de voz calmado, y respeto hacia el interlocutor.\n",
    "- **Tarea opcional:** Pedirles que practiquen la comunicación asertiva en sus conversaciones durante la semana y escriban una reflexión breve sobre cómo les fue.\n"
   ]
  },
  {
   "cell_type": "markdown",
   "id": "42b177d7",
   "metadata": {},
   "source": [
    "\n",
    "**Material adicional:**  \n",
    "- Video corto o recurso digital sobre la importancia de la comunicación asertiva."
   ]
  },
  {
   "cell_type": "markdown",
   "id": "53cc9115",
   "metadata": {
    "slideshow": {
     "slide_type": "slide"
    }
   },
   "source": [
    "## Agradecimientos  \n",
    "\n",
    "Doy gracias a Dios por la vida de mi Hijo Joseph Cañas Osorio y la madurez que ha alcanzado. Este hijo me enorgullece y me hace falta abrazarlo cada día. \n",
    "\n",
    "Y a mi esposa Yasmira Emperatriz Barboza Mogollón por su apoyo, orientación y acompañamiento. "
   ]
  },
  {
   "cell_type": "markdown",
   "id": "88f7dbda",
   "metadata": {},
   "source": []
  }
 ],
 "metadata": {
  "celltoolbar": "Slideshow",
  "kernelspec": {
   "display_name": "Python 3",
   "language": "python",
   "name": "python3"
  },
  "language_info": {
   "codemirror_mode": {
    "name": "ipython",
    "version": 3
   },
   "file_extension": ".py",
   "mimetype": "text/x-python",
   "name": "python",
   "nbconvert_exporter": "python",
   "pygments_lexer": "ipython3",
   "version": "3.12.7"
  },
  "rise": {
   "enable_chalkboard": true,
   "theme": "sky",
   "transition": "zoom"
  }
 },
 "nbformat": 4,
 "nbformat_minor": 5
}
