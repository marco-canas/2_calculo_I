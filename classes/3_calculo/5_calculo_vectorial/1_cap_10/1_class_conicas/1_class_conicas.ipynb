{
 "cells": [
  {
   "cell_type": "markdown",
   "id": "dc06dec7",
   "metadata": {
    "slideshow": {
     "slide_type": "slide"
    }
   },
   "source": [
    "<table align=\"left\">\n",
    "  <td>\n",
    "    <a href=\"https://colab.research.google.com/github/ageron/handson-ml3/blob/main/tools_numpy.ipynb\" target=\"_parent\"><img src=\"https://colab.research.google.com/assets/colab-badge.svg\" alt=\"Open In Colab\"/></a>\n",
    "  </td>\n",
    "  <td>\n",
    "    <a target=\"_blank\" href=\"https://kaggle.com/kernels/welcome?src=https://github.com/ageron/handson-ml3/blob/main/tools_numpy.ipynb\"><img src=\"https://kaggle.com/static/images/open-in-kaggle.svg\" /></a>\n",
    "  </td>\n",
    "</table>"
   ]
  },
  {
   "cell_type": "markdown",
   "id": "e0c5b198",
   "metadata": {
    "slideshow": {
     "slide_type": "slide"
    }
   },
   "source": [
    "### [Video de apoyo a la lectura interactiva y experimental de este cuaderno]()"
   ]
  },
  {
   "cell_type": "markdown",
   "id": "41e82203",
   "metadata": {
    "slideshow": {
     "slide_type": "slide"
    }
   },
   "source": [
    "### [Vínculo al programa del curso:  ]()\n",
    "\n"
   ]
  },
  {
   "cell_type": "markdown",
   "id": "d11ab06d",
   "metadata": {
    "slideshow": {
     "slide_type": "slide"
    }
   },
   "source": [
    "Un reconocimiento a mis estudiantes que han construido conmigo este saber pedagógico:\n",
    "\n",
    "<img src = 'https://github.com/marco-canas/calculo/blob/main/images/IMG-20241206-WA0013.jpg?raw=true'> \n",
    "\n"
   ]
  },
  {
   "cell_type": "code",
   "execution_count": null,
   "id": "7604880f",
   "metadata": {
    "slideshow": {
     "slide_type": "slide"
    }
   },
   "outputs": [
    {
     "name": "stdout",
     "output_type": "stream",
     "text": [
      "Llamando a ROSILLO TEJADA VANESA...\n",
      "Cambios guardados en el archivo CSV.\n",
      "Llamando a QUINONEZ CERVANTES MARIANA...\n"
     ]
    }
   ],
   "source": [
    "import pandas as pd\n",
    "import numpy as np\n",
    "\n",
    "# Cargar la lista de estudiantes desde el archivo CSV\n",
    "path = 'C:/Users/marco/Documentos/docencia/groups_list/vectorial.csv'\n",
    "estudiantes = pd.read_csv(path)\n",
    "estudiantes['Parcial'] = estudiantes['Parcial'].astype(float)  # Asegurar que la columna 'Parcial' es float\n",
    "\n",
    "# Convertir la columna 'Nombre' a una lista de Python\n",
    "lista_estudiantes = estudiantes['Nombre'].tolist()\n",
    "\n",
    "# Función para llamar a un estudiante aleatoriamente y registrar su nota de seguimiento\n",
    "def asistencia():\n",
    "    global lista_estudiantes\n",
    "    if lista_estudiantes:\n",
    "        estudiante_aleatorio = np.random.choice(lista_estudiantes)\n",
    "        print(f\"Llamando a {estudiante_aleatorio}...\")\n",
    "        asistencia = input(f\"¿Asistió {estudiante_aleatorio}? (s/n): \").strip().lower()\n",
    "        \n",
    "        # Validación de entrada\n",
    "        if asistencia == 's':\n",
    "            # Obtener el índice del estudiante en el DataFrame\n",
    "            indice = estudiantes[estudiantes['Nombre'] == estudiante_aleatorio].index[0]\n",
    "            # Incrementar su valor en la columna 'Parcial'\n",
    "            estudiantes.at[indice, 'Parcial'] += 0.3\n",
    "            print(f\"Actualizado: {estudiante_aleatorio} ahora tiene {estudiantes.at[indice, 'Parcial']} en la columna 'Parcial'.\")\n",
    "        \n",
    "        elif asistencia != 'n':\n",
    "            print(\"Entrada inválida. Por favor, introduce 's' para sí o 'n' para no.\")\n",
    "            return  # Volver a preguntar para el mismo estudiante si la entrada es inválida\n",
    "        \n",
    "        # Remover al estudiante de la lista para no llamarlo de nuevo\n",
    "        lista_estudiantes.remove(estudiante_aleatorio)\n",
    "    else:\n",
    "        print(\"Se han llamado a todos los estudiantes del grupo completo.\")\n",
    "\n",
    "# Función para guardar cambios al final de la sesión\n",
    "def guardar_cambios():\n",
    "    estudiantes.to_csv(path, index=False)\n",
    "    print(\"Cambios guardados en el archivo CSV.\")\n",
    "\n",
    "# Ejemplo de uso\n",
    "while lista_estudiantes:\n",
    "    asistencia()\n",
    "\n",
    "# Guardar los cambios una vez que todos los estudiantes hayan sido llamados\n",
    "guardar_cambios()\n",
    "\n"
   ]
  },
  {
   "cell_type": "markdown",
   "id": "d7598d0a-d9b7-4ae0-b029-a0ed6ed1130b",
   "metadata": {},
   "source": [
    "\n",
    "# Principios de mi labor docente"
   ]
  },
  {
   "cell_type": "markdown",
   "id": "4f9d8cf9",
   "metadata": {
    "slideshow": {
     "slide_type": "slide"
    }
   },
   "source": [
    "## Modelo general de clase: [aula invertida](https://www3.gobiernodecanarias.org/medusa/ecoescuela/pedagotic/aprendizaje-invertido-flipped-classroom/)"
   ]
  },
  {
   "cell_type": "markdown",
   "id": "eb6ed03a",
   "metadata": {},
   "source": [
    "<img src = 'https://resources.maneuveringthemiddle.com/wp-content/uploads/2020/07/04212706/1-5.png' width = 200>  \n",
    "\n"
   ]
  },
  {
   "cell_type": "markdown",
   "id": "34319cce-a71b-4f64-aab8-b53e521efa40",
   "metadata": {},
   "source": [
    "# Metodología de enseñanza basada en problemas (ABP)\n"
   ]
  },
  {
   "cell_type": "markdown",
   "id": "c4f73d81",
   "metadata": {},
   "source": [
    "\n",
    "<img src = 'https://www.unir.net/wp-content/uploads/2020/07/aprendizaje-problemas2-1-1-1-1.jpeg' width = 200>"
   ]
  },
  {
   "cell_type": "markdown",
   "id": "841a985c-bd9b-4dd3-8e4c-893983980af2",
   "metadata": {},
   "source": [
    "# Desarrollo del pensamiento computacional con python y cuadernos Jupyter  orientado a la formación en ciencia de datos \n",
    "\n"
   ]
  },
  {
   "cell_type": "markdown",
   "id": "3d0eba94",
   "metadata": {},
   "source": [
    "\n",
    "<img src = 'https://i.ytimg.com/vi/mcG_wcR4e6M/maxresdefault.jpg' width = 200>"
   ]
  },
  {
   "cell_type": "markdown",
   "id": "65aa0404-f7ae-495e-864c-1aec01b4255e",
   "metadata": {},
   "source": [
    "# Principio de fomento a la ciencia abierta, enseñar en el acceso a los datos públicos y el uso de software de código abierto  \n"
   ]
  },
  {
   "cell_type": "markdown",
   "id": "18ae9b87",
   "metadata": {},
   "source": [
    "\n",
    "<img src = 'https://unesdoc.unesco.org/in/rest/Thumb/image?id=p%3A%3Ausmarcdef_0000379949_spa&author=UNESCO&title=Recomendaci%C3%B3n+de+la+UNESCO+sobre+la+Ciencia+Abierta&year=2021&publisher=UNESCO&TypeOfDocument=UnescoPhysicalDocument&mat=PGD&ct=true&size=512&isPhysical=1' width = 200>"
   ]
  },
  {
   "cell_type": "markdown",
   "id": "d9559f85",
   "metadata": {},
   "source": [
    "El enfoque STEAMS en educación preescolar, primaria y secundaria es una extensión del enfoque STEM (Ciencia, Tecnología, Ingeniería y Matemáticas) y su variante STEAM, que incorpora el Arte. "
   ]
  },
  {
   "cell_type": "markdown",
   "id": "72e1cfd2",
   "metadata": {},
   "source": [
    "El acrónimo STEAMS incluye:\n"
   ]
  },
  {
   "cell_type": "markdown",
   "id": "03182fd1",
   "metadata": {},
   "source": [
    "\n",
    "1. **Science (Ciencia):** Fomenta la curiosidad por el mundo natural y el desarrollo de habilidades científicas, como la observación, experimentación y análisis.\n"
   ]
  },
  {
   "cell_type": "markdown",
   "id": "1306d0fa",
   "metadata": {},
   "source": [
    "\n",
    "2. **Technology (Tecnología):** Integra herramientas tecnológicas para potenciar el aprendizaje y la resolución de problemas, promoviendo la alfabetización digital desde edades tempranas.\n"
   ]
  },
  {
   "cell_type": "markdown",
   "id": "3b1a53e8",
   "metadata": {},
   "source": [
    "\n",
    "3. **Engineering (Ingeniería):** Introduce el pensamiento lógico y la resolución de problemas estructurados, fomentando habilidades como el diseño y la construcción de soluciones.\n"
   ]
  },
  {
   "cell_type": "markdown",
   "id": "0196de87",
   "metadata": {},
   "source": [
    "\n",
    "4. **Arts (Arte):** Añade creatividad y pensamiento crítico, permitiendo a los estudiantes expresarse y explorar el aprendizaje a través de formas artísticas (plásticas, música, teatro).\n"
   ]
  },
  {
   "cell_type": "markdown",
   "id": "8bcc485a",
   "metadata": {},
   "source": [
    "\n",
    "5. **Mathematics (Matemáticas):** Refuerza las habilidades numéricas y el razonamiento lógico, fundamentales en la resolución de problemas y comprensión de conceptos abstractos.\n"
   ]
  },
  {
   "cell_type": "markdown",
   "id": "907935f4",
   "metadata": {},
   "source": [
    "\n",
    "6. **Social Sciences (Ciencias Sociales):** Incorpora la comprensión del entorno social, político, cultural y económico, promoviendo el desarrollo de la conciencia crítica sobre el mundo y su historia, además de habilidades de empatía y ciudadanía.\n"
   ]
  },
  {
   "cell_type": "markdown",
   "id": "0130ec1b",
   "metadata": {},
   "source": [
    "\n",
    "<img src = 'https://www.campuseducacion.com/blog/wp-content/uploads/2023/03/foto01-1.jpg' width = 200>"
   ]
  },
  {
   "cell_type": "markdown",
   "id": "0eeba3f5",
   "metadata": {},
   "source": [
    "\n",
    "### **1. Fundamentos del ABPP**\n"
   ]
  },
  {
   "cell_type": "markdown",
   "id": "bf56ccd8",
   "metadata": {},
   "source": [
    "El ABPP se basa en:\n",
    "- **Resolución de Problemas Reales:** Los estudiantes analizan y resuelven problemas auténticos relacionados con su área de formación, fomentando la aplicación práctica del conocimiento.\n",
    "- **Proyectos como Herramientas Integradoras:** Los proyectos permiten desarrollar habilidades interdisciplinarias y ofrecer soluciones concretas a los problemas planteados.\n",
    "- **Aprendizaje Activo:** Los estudiantes son responsables de su aprendizaje y participan activamente en el proceso de investigación, diseño y solución.\n",
    "\n",
    "---\n"
   ]
  },
  {
   "cell_type": "markdown",
   "id": "3728d010",
   "metadata": {},
   "source": [
    "\n",
    "### **2. Aplicación del ABPP en Áreas Específicas**\n"
   ]
  },
  {
   "cell_type": "markdown",
   "id": "9bac823e",
   "metadata": {},
   "source": [
    "\n",
    "#### **Educación Infantil (Licenciatura en Educación Infantil)**\n",
    "- **Enfoque:** Desarrollo del pensamiento matemático en la infancia desde contextos lúdicos, familiares y culturales.\n",
    "- **Problemas típicos:** \n",
    "  - ¿Cómo enseñar los números naturales mediante actividades prácticas y juegos?\n",
    "  - ¿Qué estrategias pueden emplearse para abordar el concepto de cantidad en edades tempranas?\n",
    "- **Proyectos:** Diseño de secuencias didácticas que usen Python, Jupyter Notebooks y materiales manipulativos para enseñar matemáticas de forma interactiva.\n",
    "- **Competencias desarrolladas:** \n",
    "  - Uso de herramientas tecnológicas para diseñar actividades educativas.\n",
    "  - Comprensión del desarrollo cognitivo infantil y su relación con las matemáticas.\n"
   ]
  },
  {
   "cell_type": "markdown",
   "id": "481f614a",
   "metadata": {},
   "source": [
    "\n",
    "#### **Licenciatura en Matemáticas**\n",
    "- **Enfoque:** Resolución de problemas matemáticos aplicados y profundización teórica en áreas como análisis matemático y modelado.\n",
    "- **Problemas típicos:**\n",
    "  - ¿Cómo se pueden resolver ecuaciones diferenciales aplicadas a modelos físicos o económicos?\n",
    "  - ¿Cómo modelar fenómenos naturales mediante funciones matemáticas?\n",
    "- **Proyectos:** \n",
    "  - Desarrollo de software educativo para explorar conceptos matemáticos.\n",
    "  - Aplicación de modelado matemático para resolver problemas reales en otras disciplinas.\n",
    "- **Competencias desarrolladas:**\n",
    "  - Dominio de la matemática teórica y aplicada.\n",
    "  - Uso de tecnología para la enseñanza y la investigación.\n"
   ]
  },
  {
   "cell_type": "markdown",
   "id": "83ab236f",
   "metadata": {},
   "source": [
    "\n",
    "#### **Ingeniería Agropecuaria**\n",
    "- **Enfoque:** Modelado matemático y análisis de datos para mejorar la producción agrícola y la gestión de recursos.\n",
    "- **Problemas típicos:**\n",
    "  - ¿Cómo modelar el crecimiento de cultivos considerando variables climáticas?\n",
    "  - ¿Cómo optimizar el uso del agua en sistemas de riego mediante análisis matemático?\n",
    "- **Proyectos:** \n",
    "  - Desarrollo de modelos predictivos con Python y bibliotecas de aprendizaje automático.\n",
    "  - Implementación de proyectos que combinen matemáticas y ciencias de datos para resolver problemas agrícolas.\n",
    "- **Competencias desarrolladas:**\n",
    "  - Integración de matemáticas con tecnologías avanzadas.\n",
    "  - Resolución de problemas agropecuarios mediante análisis y modelado.\n"
   ]
  },
  {
   "cell_type": "markdown",
   "id": "c4519bb3",
   "metadata": {},
   "source": [
    "\n",
    "#### **Administración de Empresas**\n",
    "- **Enfoque:** Uso de las matemáticas y la ciencia de datos para la toma de decisiones estratégicas.\n",
    "- **Problemas típicos:**\n",
    "  - ¿Cómo identificar patrones de comportamiento del consumidor usando series de tiempo?\n",
    "  - ¿Qué estrategias matemáticas pueden optimizar la asignación de recursos en una empresa?\n",
    "- **Proyectos:** \n",
    "  - Implementación de modelos de análisis financiero y simulaciones.\n",
    "  - Desarrollo de dashboards interactivos para la gestión de datos empresariales.\n",
    "- **Competencias desarrolladas:**\n",
    "  - Habilidad para interpretar datos matemáticos en contextos de negocio.\n",
    "  - Capacidad para diseñar soluciones basadas en datos.\n",
    "\n",
    "---\n"
   ]
  },
  {
   "cell_type": "markdown",
   "id": "19be58d4",
   "metadata": {},
   "source": [
    "\n",
    "### **3. Beneficios del ABPP**\n",
    "- **Desarrollo de competencias clave:**\n",
    "  - Pensamiento crítico y creativo.\n",
    "  - Trabajo colaborativo.\n",
    "  - Comunicación efectiva.\n",
    "  - Uso de herramientas tecnológicas avanzadas.\n",
    "- **Adaptación al contexto laboral:** Los estudiantes aprenden a enfrentar desafíos del mundo real y a diseñar soluciones prácticas y aplicables.\n",
    "- **Flexibilidad e interdisciplinariedad:** La metodología se adapta a diversas áreas, fomentando el aprendizaje integrado.\n",
    "\n",
    "---\n"
   ]
  },
  {
   "cell_type": "markdown",
   "id": "e36034c3",
   "metadata": {},
   "source": [
    "\n",
    "### **4. Ejemplo General de Implementación**\n"
   ]
  },
  {
   "cell_type": "markdown",
   "id": "4390d2fb",
   "metadata": {},
   "source": [
    "1. **Identificación del problema:** Se plantea un desafío concreto, como modelar el crecimiento poblacional de una comunidad rural (Ingeniería Agropecuaria) o diseñar una estrategia para enseñar fracciones a niños de 8 años (Educación Infantil).\n",
    "2. **Formación de equipos:** Los estudiantes trabajan en grupos, distribuyendo roles y tareas.\n",
    "3. **Investigación y diseño:** Los estudiantes investigan el problema, proponen soluciones y diseñan un proyecto.\n",
    "4. **Implementación:** Se desarrolla el proyecto, como una herramienta tecnológica o una propuesta pedagógica.\n",
    "5. **Evaluación:** Los estudiantes presentan sus resultados en un informe o una exposición, recibiendo retroalimentación de sus compañeros y docentes.\n",
    "\n",
    "---\n",
    "\n",
    "El ABPP es una metodología versátil que conecta el conocimiento teórico con la práctica, preparando a los estudiantes para los retos de sus profesiones en la enseñanza de la matemática, la ingeniería y la administración."
   ]
  },
  {
   "cell_type": "markdown",
   "id": "8d97dc80",
   "metadata": {
    "slideshow": {
     "slide_type": "slide"
    }
   },
   "source": [
    "## Fomento de la lectura literaria asociada a Ingeniería agropecuaria y licenciatura en Matemáticas\n",
    "\n",
    "[Aprender a obtener el sí sin ceder]()"
   ]
  },
  {
   "cell_type": "markdown",
   "id": "96775931",
   "metadata": {
    "slideshow": {
     "slide_type": "slide"
    }
   },
   "source": [
    "## Título de la clase: 10.1 Larson: Cónicas y Cálculo  \n",
    "\n",
    "[]()"
   ]
  },
  {
   "cell_type": "markdown",
   "id": "8853d874",
   "metadata": {},
   "source": [
    "## El componente histórico y epistemológico  \n",
    "\n",
    "Voy a analizar el contenido de tu archivo para proponerte componentes históricos y epistemológicos adecuados para la clase sobre secciones cónicas. Dame un momento.\n",
    "\n",
    "El archivo contiene referencias a metodologías pedagógicas como el aula invertida y algunos enlaces externos. Ahora, extraeré información relevante sobre secciones cónicas para proponerte los componentes históricos y epistemológicos adecuados.\n",
    "\n",
    "El archivo menciona que la clase sigue un enfoque de Aprendizaje Basado en Problemas y Proyectos (ABPP) y cubre temas como parábolas, elipses e hipérbolas. Con base en esto, aquí tienes algunos componentes históricos y epistemológicos para enriquecer la clase:\n",
    "\n",
    "### **Componentes Históricos**\n",
    "1. **Orígenes en la Antigua Grecia**  \n",
    "   - **Menaechmus (c. 350 a.C.)**: Descubrió las secciones cónicas al estudiar problemas geométricos relacionados con la duplicación del cubo.  \n",
    "   - **Apolonio de Perga (c. 262-190 a.C.)**: Escribió el tratado *Sobre las Secciones Cónicas*, donde introdujo los términos parábola, elipse e hipérbola y demostró sus propiedades algebraicas.\n",
    "\n",
    "2. **Uso en Astronomía**  \n",
    "   - **Johannes Kepler (1571-1630)**: Formuló sus leyes del movimiento planetario, estableciendo que las órbitas de los planetas son elipses con el Sol en uno de los focos.  \n",
    "   - **Isaac Newton (1643-1727)**: Demostró que las trayectorias de los cuerpos celestes bajo la influencia de la gravedad siguen secciones cónicas según la mecánica clásica.\n",
    "\n",
    "3. **Aplicaciones en la Modernidad**  \n",
    "   - **Carl Friedrich Gauss (1777-1855)** utilizó secciones cónicas para predecir la órbita del asteroide Ceres.  \n",
    "   - **Óptica y Acústica**: Las parábolas se usan en antenas y reflectores, mientras que las elipses tienen aplicaciones en acústica (salas de conciertos, susurros en galerías elípticas).\n",
    "\n",
    "### **Componentes Epistemológicos**\n",
    "1. **Relación entre la Geometría y el Álgebra**  \n",
    "   - La transición de la geometría griega a la formulación algebraica en el siglo XVII con Descartes y Fermat permitió el estudio analítico de las secciones cónicas.  \n",
    "   - En el siglo XIX, el desarrollo de la geometría proyectiva generalizó el concepto de cónicas.\n",
    "\n",
    "2. **Vínculo con la Física y la Ingeniería**  \n",
    "   - Las secciones cónicas aparecen naturalmente en problemas de mecánica celeste, trayectorias de proyectiles y sistemas ópticos.  \n",
    "   - Son fundamentales en la teoría de control y la dinámica de robots.\n",
    "\n",
    "3. **Evolución Conceptual**  \n",
    "   - Inicialmente, las secciones cónicas eran vistas como cortes de un cono, pero con el desarrollo del álgebra, se convirtieron en ecuaciones cuadráticas en dos variables.  \n",
    "   - En la actualidad, con herramientas computacionales, su visualización y análisis se ha expandido enormemente.\n",
    "\n",
    "Si deseas un enfoque específico dentro de estos aspectos, dime y lo ajustamos a tus necesidades."
   ]
  },
  {
   "cell_type": "code",
   "execution_count": 1,
   "id": "bc0addfe",
   "metadata": {},
   "outputs": [
    {
     "data": {
      "text/plain": [
       "'C:\\\\Users\\\\marco\\\\Documentos\\\\docencia\\\\calculo\\\\classes\\\\3_calculo\\\\5_calculo_vectorial\\\\1_cap_10\\\\1_class_conicas\\\\images\\\\mapa_conceptual.pdf'"
      ]
     },
     "execution_count": 1,
     "metadata": {},
     "output_type": "execute_result"
    }
   ],
   "source": [
    "# Mapa conceptual para la clase sobre secciones cónicas  \n",
    "from graphviz import Digraph  \n",
    "\n",
    "# Crear un nuevo grafo dirigido  \n",
    "dot = Digraph()\n",
    "\n",
    "# Concepto central\n",
    "main_concept = \"Secciones Cónicas\"\n",
    "dot.node('A', main_concept)\n",
    "\n",
    "# Tipos de secciones cónicas\n",
    "dot.node('B', 'Parábola')\n",
    "dot.node('C', 'Elipse')\n",
    "dot.node('D', 'Hipérbola')\n",
    "\n",
    "# Relaciones con la geometría\n",
    "dot.node('E', 'Definición geométrica')\n",
    "dot.node('F', 'Ecuaciones algebraicas')\n",
    "\n",
    "# Aplicaciones\n",
    "dot.node('G', 'Óptica y Astronomía')\n",
    "dot.node('H', 'Mecánica Celeste')\n",
    "\n",
    "# Conectar los nodos\n",
    "dot.edges(['AB', 'AC', 'AD'])  # Tipos de cónicas\n",
    "dot.edges(['AE', 'AF'])  # Relación con la geometría y ecuaciones\n",
    "dot.edges(['BG', 'CG', 'CH'])  # Aplicaciones científicas\n",
    "\n",
    "# Guardar y visualizar el grafo\n",
    "output_path = r\"C:\\Users\\marco\\Documentos\\docencia\\calculo\\classes\\3_calculo\\5_calculo_vectorial\\1_cap_10\\1_class_conicas\\images\\mapa_conceptual\"\n",
    "dot.render(filename=output_path, format='png', cleanup=True)\n",
    "dot.view()\n",
    "\n"
   ]
  },
  {
   "cell_type": "markdown",
   "id": "10e55ccf",
   "metadata": {},
   "source": [
    "# Estructura general para todas las clases\n",
    "\n",
    "Dame, por favor, un diseño de clase, con el enfoque: De aprendizaje basado en problemas y proyectos(ABPP) sobre:\"Cónicas, ecuaciones\n",
    "paramétricas y coordenadas polares\", siguiendo la estructura: \n",
    "1. Título de la clase \n",
    "2. Objetivo de aprendizaje: Cómo analizar y escribir ecuaciones de una parábola, una elipse y una hipérbola. (10.1) Cómo trazar una curva representada por ecuaciones paramétricas. (10.2) Cómo usar un conjunto de ecuaciones paramétricas para encontrar la\n",
    "pendiente de una línea tangente a una curva y la longitud de arco de una curva. (10.3) Cómo dibujar la gráfica de una ecuación\n",
    "en forma polar, encontrar la pendiente de una línea tangente a una gráfica polar e identificar gráficas polares especiales. (10.4); Cómo encontrar el área de una región acotada por una gráfica polar y encontrar la longitud de arco de una gráfica polar. (10.5) Cómo analizar y escribir una ecuación polar de una cónica. (10.6) \n",
    "3. Contenido de la clase\n",
    "4. Actividades de aprendizaje\n",
    "5. Tarea o actividades de ejercitación y fijación\n",
    "6. Diseño de actividad de retroalimentación.   \n",
    "\n",
    "Pero  que este diseño sea para que el estudiante pueda aprender experimentando en cuadernos Jupyter con funciones de usuario y animaciones y visualizaciones en python. "
   ]
  },
  {
   "cell_type": "markdown",
   "id": "7182ac81",
   "metadata": {},
   "source": [
    "### **Diseño de Clase ABPP: Cónicas, Ecuaciones Paramétricas y Coordenadas Polares con Python**\n",
    "\n",
    "---\n"
   ]
  },
  {
   "cell_type": "markdown",
   "id": "d3df0dc6",
   "metadata": {},
   "source": [
    "\n",
    "#### **1. Título de la clase**  \n",
    "**\"Exploración interactiva de cónicas, ecuaciones paramétricas y coordenadas polares con Python: Modelado y visualización en Jupyter\"**\n",
    "\n",
    "---\n"
   ]
  },
  {
   "cell_type": "markdown",
   "id": "59da331e",
   "metadata": {},
   "source": [
    "\n",
    "#### **2. Objetivo de aprendizaje**  \n",
    "Al finalizar la clase, el estudiante será capaz de:  \n",
    "- Analizar y escribir ecuaciones de parábolas, elipses e hipérbolas (10.1).  \n",
    "- Graficar curvas paramétricas y calcular pendientes de tangentes y longitud de arco (10.2, 10.3).  \n",
    "- Representar gráficas polares, calcular áreas, longitudes de arco y derivar ecuaciones polares de cónicas (10.4, 10.5, 10.6).  \n",
    "\n",
    "---\n"
   ]
  },
  {
   "cell_type": "markdown",
   "id": "1e006003",
   "metadata": {},
   "source": [
    "\n",
    "#### **3. Contenido de la clase**  \n"
   ]
  },
  {
   "cell_type": "markdown",
   "id": "b70572ef",
   "metadata": {},
   "source": [
    "**A. Conceptos teóricos breves** (20% del tiempo):  \n",
    "- Repaso de cónicas: ecuaciones canónicas, focos, excentricidad.  \n",
    "- Ecuaciones paramétricas: relación con curvas en física e ingeniería.  \n",
    "- Coordenadas polares: conversión a cartesianas, gráficas especiales (rosa polar, cardioide).  \n",
    "- Aplicaciones: órbitas planetarias (elipses), antenas parabólicas, diseño de curvas en ingeniería.  \n"
   ]
  },
  {
   "cell_type": "markdown",
   "id": "ea330a8a",
   "metadata": {},
   "source": [
    "\n",
    "**B. Herramientas prácticas** (80% del tiempo):  \n",
    "- Uso de bibliotecas Python: `sympy` (simbólico), `matplotlib` (gráficos), `numpy` (cálculo numérico), `scipy` (integración).  \n",
    "- Creación de funciones personalizadas para generar cónicas, curvas paramétricas y polares.  \n",
    "- Animaciones interactivas para explorar parámetros (ej: variar excentricidad en elipses/hipérbolas).  \n",
    "\n",
    "---\n"
   ]
  },
  {
   "cell_type": "markdown",
   "id": "017c295a",
   "metadata": {},
   "source": [
    "\n",
    "#### **4. Actividades de aprendizaje**  \n",
    "**Actividad 1: Problema Inicial (ABP)**  \n",
    "- **Contexto**: Diseñar una antena parabólica.  \n",
    "  - Los estudiantes derivan la ecuación de una parábola a partir del foco y la directriz.  \n",
    "  - **Código en Jupyter**:  \n"
   ]
  },
  {
   "cell_type": "code",
   "execution_count": 3,
   "id": "82b58dba",
   "metadata": {},
   "outputs": [
    {
     "data": {
      "image/png": "[encoded data removed]",
      "text/plain": [
       "<Figure size 640x480 with 1 Axes>"
      ]
     },
     "metadata": {},
     "output_type": "display_data"
    }
   ],
   "source": [
    "import matplotlib.pyplot as plt\n",
    "import numpy as np\n",
    "\n",
    "def parabola(foco, directriz, x_lim):\n",
    "    x = np.linspace(-x_lim, x_lim, 400)\n",
    "    y = (x**2) / (4*foco) \n",
    "    \n",
    "    plt.plot(x, y, label=f'Parábola: foco en (0, {foco})')\n",
    "    plt.scatter(0, foco, color='red', label='Foco')\n",
    "    plt.axhline(y=directriz, color='green', linestyle='--', label='Directriz')\n",
    "    \n",
    "    # Agregar ejes coordenados\n",
    "    plt.axhline(y=0, color='black', linewidth=1)\n",
    "    plt.axvline(x=0, color='black', linewidth=1)\n",
    "    \n",
    "    plt.legend()\n",
    "    plt.grid()\n",
    "    plt.show()\n",
    "\n",
    "parabola(foco=3, directriz=-3, x_lim=10)\n",
    "\n"
   ]
  },
  {
   "cell_type": "markdown",
   "id": "1124b5fb",
   "metadata": {},
   "source": [
    "  - **Preguntas guía**: ¿Cómo cambia la forma de la parábola al modificar el foco?  \n",
    "\n",
    "**Actividad 2: Proyecto Integrador (ABP)**  \n",
    "- **Proyecto**: Simular la órbita de un planeta (elipse) y un cometa (hipérbola) usando ecuaciones paramétricas y polares.  \n",
    "  - **Tareas**:  \n",
    "    1. Usar `sympy` para derivar ecuaciones de cónicas en coordenadas polares (10.6).  \n",
    "    2. Crear una animación con `matplotlib.animation` para mostrar órbitas.  \n",
    "    3. Calcular la longitud de arco de la órbita elíptica con `scipy.integrate`.  \n"
   ]
  },
  {
   "cell_type": "markdown",
   "id": "d4a33b7a",
   "metadata": {},
   "source": [
    "\n",
    "**Actividad 3: Exploración de Tangentes (10.3, 10.4)**  \n",
    "- **Ejercicio**: Dada una curva paramétrica $ x(t) = 3\\cos(t), y(t) = 2\\sin(t) $:  \n",
    "  - Calcular la pendiente de la tangente en $ t = \\pi/4 $ usando derivadas simbólicas.  \n",
    "  - **Código**: "
   ]
  },
  {
   "cell_type": "code",
   "execution_count": 4,
   "id": "e66b444c",
   "metadata": {},
   "outputs": [
    {
     "name": "stdout",
     "output_type": "stream",
     "text": [
      "Pendiente en π/4: -0.666666666666667\n"
     ]
    }
   ],
   "source": [
    " \n",
    "from sympy import symbols, cos, sin, diff\n",
    "\n",
    "t = symbols('t')\n",
    "x = 3 * cos(t)\n",
    "y = 2 * sin(t)\n",
    "dy_dx = diff(y, t) / diff(x, t)\n",
    "print(f\"Pendiente en π/4: {dy_dx.subs(t, np.pi/4).evalf()}\")\n",
    "\n"
   ]
  },
  {
   "cell_type": "markdown",
   "id": "74e4c96a",
   "metadata": {},
   "source": [
    "\n",
    "---\n",
    "\n",
    "#### **5. Tarea o actividades de ejercitación**  \n",
    "- **Ejercicio 1**: Generar una hipérbola con focos en $(±5, 0)$ y graficarla junto a sus asíntotas.  \n",
    "- **Ejercicio 2**: Parametrizar un cicloide $x(t) = r(t - \\sin t), y(t) = r(1 - \\cos t)$ y animar su trayectoria.  \n",
    "- **Ejercicio 3**: Calcular el área de un pétalo de la rosa polar $r = 4\\cos(3\\theta)$.  \n",
    "\n",
    "---\n"
   ]
  },
  {
   "cell_type": "markdown",
   "id": "f2d25003",
   "metadata": {},
   "source": [
    "\n",
    "#### **6. Diseño de retroalimentación**  \n",
    "**A. Revisión de código automatizada**  \n",
    "- Usar `nbgrader` para evaluar la corrección de funciones y gráficos en los notebooks.  \n",
    "- Ejemplo de criterio: "
   ]
  },
  {
   "cell_type": "code",
   "execution_count": 5,
   "id": "7ecd9cd8",
   "metadata": {},
   "outputs": [
    {
     "ename": "NameError",
     "evalue": "name 'area_polar' is not defined",
     "output_type": "error",
     "traceback": [
      "\u001b[1;31m---------------------------------------------------------------------------\u001b[0m",
      "\u001b[1;31mNameError\u001b[0m                                 Traceback (most recent call last)",
      "Cell \u001b[1;32mIn[5], line 1\u001b[0m\n\u001b[1;32m----> 1\u001b[0m \u001b[38;5;28;01massert\u001b[39;00m np\u001b[38;5;241m.\u001b[39misclose(\u001b[43marea_polar\u001b[49m(\u001b[38;5;241m4\u001b[39m, \u001b[38;5;241m3\u001b[39m, \u001b[38;5;241m0\u001b[39m, np\u001b[38;5;241m.\u001b[39mpi\u001b[38;5;241m/\u001b[39m\u001b[38;5;241m3\u001b[39m), \u001b[38;5;241m8.0\u001b[39m), \u001b[38;5;124m\"\u001b[39m\u001b[38;5;124mEl área calculada es incorrecta\u001b[39m\u001b[38;5;124m\"\u001b[39m\n",
      "\u001b[1;31mNameError\u001b[0m: name 'area_polar' is not defined"
     ]
    }
   ],
   "source": [
    "assert np.isclose(area_polar(4, 3, 0, np.pi/3), 8.0), \"El área calculada es incorrecta\"\n",
    "\n"
   ]
  },
  {
   "cell_type": "markdown",
   "id": "355f08e5",
   "metadata": {},
   "source": [
    "\n",
    "**B. Discusión grupal con rúbrica**  \n",
    "- **Rúbrica**:  \n",
    "  - **4 puntos**: Gráficos interactivos, código limpio, resultados precisos.  \n",
    "  - **2 puntos**: Gráficos estáticos o errores menores en cálculos.  \n",
    "\n",
    "**C. Taller remedial**  \n",
    "- Estudiantes con dificultades reciben un notebook adicional con ejercicios guiados paso a paso (ej: derivar una elipse polar usando `sympy`).  \n",
    "\n",
    "---\n"
   ]
  },
  {
   "cell_type": "markdown",
   "id": "2d563dde",
   "metadata": {},
   "source": [
    "\n",
    "**Recursos adicionales**:  \n",
    "- Plantillas de código en Jupyter con funciones incompletas para que los estudiantes las completen.  \n",
    "- Video tutorial de 10 minutos: \"Cómo animar curvas paramétricas con `FuncAnimation`\".  \n",
    "\n",
    "Este diseño fomenta el aprendizaje activo mediante la experimentación directa con código, vinculando teoría y aplicaciones reales."
   ]
  },
  {
   "cell_type": "markdown",
   "id": "22a3183f",
   "metadata": {},
   "source": [
    "# Implementación de la clase  \n"
   ]
  },
  {
   "cell_type": "markdown",
   "id": "4537998f",
   "metadata": {},
   "source": [
    "\n",
    "### **Diseño de Clase ABPP: Cónicas, Ecuaciones Paramétricas y Coordenadas Polares con Python**\n",
    "\n",
    "---\n"
   ]
  },
  {
   "cell_type": "markdown",
   "id": "b62d13b8",
   "metadata": {},
   "source": [
    "\n",
    "#### **1. Título de la clase**  \n",
    "**\"Exploración interactiva de cónicas, ecuaciones paramétricas y coordenadas polares con Python: Modelado y visualización en Jupyter\"**\n",
    "\n",
    "---\n"
   ]
  },
  {
   "cell_type": "markdown",
   "id": "7d0cd2b3",
   "metadata": {},
   "source": [
    "\n",
    "#### **2. Objetivo de aprendizaje**  \n",
    "Al finalizar la clase, el estudiante será capaz de:  \n",
    "- Analizar y escribir ecuaciones de parábolas, elipses e hipérbolas (10.1).  \n",
    "- Graficar curvas paramétricas y calcular pendientes de tangentes y longitud de arco (10.2, 10.3).  \n",
    "- Representar gráficas polares, calcular áreas, longitudes de arco y derivar ecuaciones polares de cónicas (10.4, 10.5, 10.6).  \n",
    "\n",
    "---\n"
   ]
  },
  {
   "cell_type": "markdown",
   "id": "8a07d634",
   "metadata": {},
   "source": [
    "\n",
    "#### **3. Contenido de la clase**  \n"
   ]
  },
  {
   "cell_type": "markdown",
   "id": "25b435f8",
   "metadata": {},
   "source": [
    "**A. Conceptos teóricos breves** (20% del tiempo):  \n",
    "- Repaso de cónicas: ecuaciones canónicas, focos, excentricidad.  \n",
    "- Ecuaciones paramétricas: relación con curvas en física e ingeniería.  \n",
    "- Coordenadas polares: conversión a cartesianas, gráficas especiales (rosa polar, cardioide).  \n",
    "- Aplicaciones: órbitas planetarias (elipses), antenas parabólicas, diseño de curvas en ingeniería.  \n"
   ]
  },
  {
   "cell_type": "code",
   "execution_count": 10,
   "id": "0c3d7d51",
   "metadata": {},
   "outputs": [],
   "source": [
    "import numpy as np\n",
    "import matplotlib.pyplot as plt\n",
    "import plotly.graph_objects as go\n",
    "import ipywidgets as widgets\n",
    "from IPython.display import display, Markdown\n"
   ]
  },
  {
   "cell_type": "markdown",
   "id": "408e7084",
   "metadata": {},
   "source": [
    "\n",
    "# Título en Markdown\n",
    "display(Markdown(\"\"\"# A. Conceptos teóricos breves\n",
    "## 1. Repaso de cónicas\n",
    "Las cónicas incluyen la circunferencia, la elipse, la parábola y la hipérbola. Sus ecuaciones canónicas son:\n",
    "- **Circunferencia**: $(x-h)^2 + (y-k)^2 = r^2$\n",
    "- **Elipse**: $\\frac{(x-h)^2}{a^2} + \\frac{(y-k)^2}{b^2} = 1$\n",
    "- **Parábola**: $y - k = a(x-h)^2$\n",
    "- **Hipérbola**: $\\frac{(x-h)^2}{a^2} - \\frac{(y-k)^2}{b^2} = 1$\n"
   ]
  },
  {
   "cell_type": "markdown",
   "id": "72d73249",
   "metadata": {},
   "source": [
    "\n",
    "## 2. Ecuaciones paramétricas\n",
    "Las ecuaciones paramétricas describen curvas con respecto a un parámetro $t$. Ejemplo para una circunferencia:\n",
    "$$ x = r \\cos t, \\quad y = r \\sin t $$\n"
   ]
  },
  {
   "cell_type": "markdown",
   "id": "c80a4ff1",
   "metadata": {},
   "source": [
    "\n",
    "## 3. Coordenadas polares\n",
    "Las coordenadas polares $(r,\\theta)$ se convierten en cartesianas usando:\n",
    "$$ x = r \\cos \\theta, \\quad y = r \\sin \\theta $$\n",
    "Ejemplos de curvas polares:\n",
    "- **Rosa polar**: $r = a \\cos(k\\theta)$\n",
    "- **Cardioide**: $r = a(1+\\cos \\theta)$\n",
    "\n",
    "## 4. Aplicaciones\n",
    "- **Órbitas planetarias**: Elipses con el Sol en un foco.\n",
    "- **Antenas parabólicas**: Reflectan señales hacia un foco.\n",
    "- **Diseño de curvas en ingeniería**: Representación de trayectorias y ondas.\n",
    "\"\"\"))\n"
   ]
  },
  {
   "cell_type": "code",
   "execution_count": 12,
   "id": "ccb9187c",
   "metadata": {},
   "outputs": [
    {
     "data": {
      "application/vnd.jupyter.widget-view+json": {
       "model_id": "9e17be9e2dd044caa279418407f40b66",
       "version_major": 2,
       "version_minor": 0
      },
      "text/plain": [
       "interactive(children=(Dropdown(description='conic_type', index=1, options=('circle', 'ellipse', 'parabola', 'h…"
      ]
     },
     "metadata": {},
     "output_type": "display_data"
    },
    {
     "data": {
      "text/plain": [
       "<function __main__.plot_conic(conic_type='ellipse')>"
      ]
     },
     "execution_count": 12,
     "metadata": {},
     "output_type": "execute_result"
    }
   ],
   "source": [
    "\n",
    "# Visualización de cónicas con Matplotlib\n",
    "def plot_conic(conic_type='ellipse'):\n",
    "    theta = np.linspace(0, 2*np.pi, 300)\n",
    "    fig, ax = plt.subplots(figsize=(6,6))\n",
    "    if conic_type == 'circle':\n",
    "        x = np.cos(theta)\n",
    "        y = np.sin(theta)\n",
    "        ax.set_title(\"Circunferencia\")\n",
    "    elif conic_type == 'ellipse':\n",
    "        x = 2*np.cos(theta)\n",
    "        y = np.sin(theta)\n",
    "        ax.set_title(\"Elipse\")\n",
    "    elif conic_type == 'parabola':\n",
    "        x = np.linspace(-2, 2, 100)\n",
    "        y = x**2\n",
    "        ax.set_title(\"Parábola\")\n",
    "    elif conic_type == 'hyperbola':\n",
    "        x = np.linspace(-2, 2, 100)\n",
    "        y = 1/x\n",
    "        ax.set_title(\"Hipérbola\")\n",
    "    \n",
    "    ax.plot(x, y, label=conic_type)\n",
    "    ax.axhline(0, color='black', linewidth=0.5)\n",
    "    ax.axvline(0, color='black', linewidth=0.5)\n",
    "    ax.legend()\n",
    "    ax.axis('equal')\n",
    "    plt.show()\n",
    "\n",
    "widgets.interact(plot_conic, conic_type=['circle', 'ellipse', 'parabola', 'hyperbola'])\n"
   ]
  },
  {
   "cell_type": "markdown",
   "id": "5c3ac478",
   "metadata": {},
   "source": [
    "\n",
    "**B. Herramientas prácticas** (80% del tiempo):  \n",
    "- Uso de bibliotecas Python: `sympy` (simbólico), `matplotlib` (gráficos), `numpy` (cálculo numérico), `scipy` (integración).  \n",
    "- Creación de funciones personalizadas para generar cónicas, curvas paramétricas y polares.  \n",
    "- Animaciones interactivas para explorar parámetros (ej: variar excentricidad en elipses/hipérbolas).  \n",
    "\n",
    "---\n"
   ]
  },
  {
   "cell_type": "code",
   "execution_count": 14,
   "id": "5b4e5f13",
   "metadata": {},
   "outputs": [],
   "source": [
    "import numpy as np\n",
    "import matplotlib.pyplot as plt\n",
    "import plotly.graph_objects as go\n",
    "import ipywidgets as widgets\n",
    "import sympy as sp\n",
    "import scipy.integrate as spi\n",
    "from IPython.display import display, Markdown\n"
   ]
  },
  {
   "cell_type": "markdown",
   "id": "8ea42a62",
   "metadata": {},
   "source": [
    "\n",
    "# Título en Markdown\n",
    "display(Markdown(\"\"\"# A. Conceptos teóricos breves\n",
    "## 1. Repaso de cónicas\n",
    "Las cónicas incluyen la circunferencia, la elipse, la parábola y la hipérbola. Sus ecuaciones canónicas son:\n",
    "- **Circunferencia**: $(x-h)^2 + (y-k)^2 = r^2$\n",
    "- **Elipse**: $\\frac{(x-h)^2}{a^2} + \\frac{(y-k)^2}{b^2} = 1$\n",
    "- **Parábola**: $y - k = a(x-h)^2$\n",
    "- **Hipérbola**: $\\frac{(x-h)^2}{a^2} - \\frac{(y-k)^2}{b^2} = 1$\n",
    "\n",
    "## 2. Ecuaciones paramétricas\n",
    "Las ecuaciones paramétricas describen curvas con respecto a un parámetro $t$. Ejemplo para una circunferencia:\n",
    "$$ x = r \\cos t, \\quad y = r \\sin t $$\n",
    "\n",
    "## 3. Coordenadas polares\n",
    "Las coordenadas polares $(r,\\theta)$ se convierten en cartesianas usando:\n",
    "$$ x = r \\cos \\theta, \\quad y = r \\sin \\theta $$\n",
    "Ejemplos de curvas polares:\n",
    "- **Rosa polar**: $r = a \\cos(k\\theta)$\n",
    "- **Cardioide**: $r = a(1+\\cos \\theta)$\n",
    "\n",
    "## 4. Aplicaciones\n",
    "- **Órbitas planetarias**: Elipses con el Sol en un foco.\n",
    "- **Antenas parabólicas**: Reflectan señales hacia un foco.\n",
    "- **Diseño de curvas en ingeniería**: Representación de trayectorias y ondas.\n",
    "\n",
    "# B. Herramientas prácticas\n",
    "## 1. Uso de bibliotecas Python\n",
    "Se utilizarán las siguientes bibliotecas:\n",
    "- `sympy` para cálculos simbólicos.\n",
    "- `matplotlib` para gráficos estáticos.\n",
    "- `numpy` para cálculos numéricos.\n",
    "- `scipy` para integración y optimización.\n",
    "\n",
    "## 2. Creación de funciones personalizadas\n",
    "### Generación de cónicas\n",
    "```python\n",
    "def conica(tipo='elipse'):\n",
    "    theta = np.linspace(0, 2*np.pi, 300)\n",
    "    if tipo == 'circunferencia':\n",
    "        x, y = np.cos(theta), np.sin(theta)\n",
    "    elif tipo == 'elipse':\n",
    "        x, y = 2*np.cos(theta), np.sin(theta)\n",
    "    elif tipo == 'parabola':\n",
    "        x = np.linspace(-2, 2, 100)\n",
    "        y = x**2\n",
    "    elif tipo == 'hiperbola':\n",
    "        x = np.linspace(-2, 2, 100)\n",
    "        y = 1/x\n",
    "    plt.plot(x, y)\n",
    "    plt.axhline(0, color='black', linewidth=0.5)\n",
    "    plt.axvline(0, color='black', linewidth=0.5)\n",
    "    plt.title(tipo.capitalize())\n",
    "    plt.show()\n",
    "widgets.interact(conica, tipo=['circunferencia', 'elipse', 'parabola', 'hiperbola'])\n",
    "```\n",
    "\n",
    "### Curvas paramétricas y polares\n",
    "```python\n",
    "def curva_parametrica(a=1, b=1):\n",
    "    t = np.linspace(0, 2*np.pi, 300)\n",
    "    x, y = a*np.cos(t), b*np.sin(t)\n",
    "    plt.plot(x, y)\n",
    "    plt.title(f\"Curva paramétrica: a={a}, b={b}\")\n",
    "    plt.show()\n",
    "widgets.interact(curva_parametrica, a=(0.5, 2, 0.1), b=(0.5, 2, 0.1))\n",
    "```\n",
    "\n",
    "## 3. Animaciones interactivas\n",
    "```python\n",
    "def variar_excentricidad(e=0.5):\n",
    "    a, b = 2, 2*np.sqrt(1-e**2)\n",
    "    t = np.linspace(0, 2*np.pi, 300)\n",
    "    x, y = a*np.cos(t), b*np.sin(t)\n",
    "    plt.plot(x, y)\n",
    "    plt.title(f\"Elipse con excentricidad {e:.2f}\")\n",
    "    plt.show()\n",
    "widgets.interact(variar_excentricidad, e=(0, 0.99, 0.01))\n",
    "```\"))\n"
   ]
  },
  {
   "cell_type": "code",
   "execution_count": 13,
   "id": "c90a7e00",
   "metadata": {},
   "outputs": [
    {
     "data": {
      "application/vnd.jupyter.widget-view+json": {
       "model_id": "b582480b88b941c9a3cc12d4798931ae",
       "version_major": 2,
       "version_minor": 0
      },
      "text/plain": [
       "interactive(children=(Dropdown(description='conic_type', index=1, options=('circle', 'ellipse', 'parabola', 'h…"
      ]
     },
     "metadata": {},
     "output_type": "display_data"
    },
    {
     "data": {
      "text/plain": [
       "<function __main__.plot_conic(conic_type='ellipse')>"
      ]
     },
     "execution_count": 13,
     "metadata": {},
     "output_type": "execute_result"
    }
   ],
   "source": [
    "\n",
    "# Visualización de cónicas con Matplotlib\n",
    "def plot_conic(conic_type='ellipse'):\n",
    "    theta = np.linspace(0, 2*np.pi, 300)\n",
    "    fig, ax = plt.subplots(figsize=(6,6))\n",
    "    if conic_type == 'circle':\n",
    "        x = np.cos(theta)\n",
    "        y = np.sin(theta)\n",
    "        ax.set_title(\"Circunferencia\")\n",
    "    elif conic_type == 'ellipse':\n",
    "        x = 2*np.cos(theta)\n",
    "        y = np.sin(theta)\n",
    "        ax.set_title(\"Elipse\")\n",
    "    elif conic_type == 'parabola':\n",
    "        x = np.linspace(-2, 2, 100)\n",
    "        y = x**2\n",
    "        ax.set_title(\"Parábola\")\n",
    "    elif conic_type == 'hyperbola':\n",
    "        x = np.linspace(-2, 2, 100)\n",
    "        y = 1/x\n",
    "        ax.set_title(\"Hipérbola\")\n",
    "    \n",
    "    ax.plot(x, y, label=conic_type)\n",
    "    ax.axhline(0, color='black', linewidth=0.5)\n",
    "    ax.axvline(0, color='black', linewidth=0.5)\n",
    "    ax.legend()\n",
    "    plt.show()\n",
    "\n",
    "widgets.interact(plot_conic, conic_type=['circle', 'ellipse', 'parabola', 'hyperbola'])\n"
   ]
  },
  {
   "cell_type": "markdown",
   "id": "d50cb90b",
   "metadata": {},
   "source": [
    "\n",
    "#### **4. Actividades de aprendizaje**  \n",
    "**Actividad 1: Problema Inicial (ABP)**  \n",
    "- **Contexto**: Diseñar una antena parabólica.  \n",
    "  - Los estudiantes derivan la ecuación de una parábola a partir del foco y la directriz.  \n",
    "  - **Código en Jupyter**: "
   ]
  },
  {
   "cell_type": "code",
   "execution_count": 7,
   "id": "52a5c8c0",
   "metadata": {},
   "outputs": [
    {
     "data": {
      "image/png": "[encoded data removed]",
      "text/plain": [
       "<Figure size 640x480 with 1 Axes>"
      ]
     },
     "metadata": {},
     "output_type": "display_data"
    }
   ],
   "source": [
    "import matplotlib.pyplot as plt\n",
    "import numpy as np\n",
    "\n",
    "def parabola(foco, directriz, x_lim):\n",
    "    x = np.linspace(-x_lim, x_lim, 400)\n",
    "    y = (x**2) / (4*foco)\n",
    "    plt.plot(x, y, label=f'Parábola: foco en (0, {foco})')\n",
    "    plt.scatter(0, foco, color='red')\n",
    "    plt.axhline(y=directriz, color='green', linestyle='--')\n",
    "    plt.legend()\n",
    "    plt.grid()\n",
    "    plt.show()\n",
    "\n",
    "parabola(foco=3, directriz=-3, x_lim=10)\n",
    "\n"
   ]
  },
  {
   "cell_type": "markdown",
   "id": "8ef4f0d2",
   "metadata": {},
   "source": [
    "  - **Preguntas guía**: ¿Cómo cambia la forma de la parábola al modificar el foco?  \n",
    "\n",
    "**Actividad 2: Proyecto Integrador (ABP)**  \n",
    "- **Proyecto**: Simular la órbita de un planeta (elipse) y un cometa (hipérbola) usando ecuaciones paramétricas y polares.  \n",
    "  - **Tareas**:  \n",
    "    1. Usar `sympy` para derivar ecuaciones de cónicas en coordenadas polares (10.6).  \n",
    "    2. Crear una animación con `matplotlib.animation` para mostrar órbitas.  \n",
    "    3. Calcular la longitud de arco de la órbita elíptica con `scipy.integrate`.  \n"
   ]
  },
  {
   "cell_type": "markdown",
   "id": "f6877e9e",
   "metadata": {},
   "source": [
    "\n",
    "**Actividad 3: Exploración de Tangentes (10.3, 10.4)**  \n",
    "- **Ejercicio**: Dada una curva paramétrica $x(t) = 3\\cos(t), y(t) = 2\\sin(t)$:  \n",
    "  - Calcular la pendiente de la tangente en $t = \\pi/4$ usando derivadas simbólicas.  \n",
    "  - **Código**: "
   ]
  },
  {
   "cell_type": "code",
   "execution_count": 8,
   "id": "ade6f022",
   "metadata": {},
   "outputs": [
    {
     "name": "stdout",
     "output_type": "stream",
     "text": [
      "Pendiente en π/4: -0.666666666666667\n"
     ]
    }
   ],
   "source": [
    "from sympy import symbols, cos, sin, diff\n",
    "\n",
    "t = symbols('t')\n",
    "x = 3 * cos(t)\n",
    "y = 2 * sin(t)\n",
    "dy_dx = diff(y, t) / diff(x, t)\n",
    "print(f\"Pendiente en π/4: {dy_dx.subs(t, np.pi/4).evalf()}\")\n",
    "\n"
   ]
  },
  {
   "cell_type": "markdown",
   "id": "561efe65",
   "metadata": {},
   "source": [
    "\n",
    "---\n",
    "\n",
    "#### **5. Tarea o actividades de ejercitación**  \n",
    "- **Ejercicio 1**: Generar una hipérbola con focos en $(±5, 0)$ y graficarla junto a sus asíntotas.  \n",
    "- **Ejercicio 2**: Parametrizar un cicloide $x(t) = r(t - \\sin t), y(t) = r(1 - \\cos t)$ y animar su trayectoria.  \n",
    "- **Ejercicio 3**: Calcular el área de un pétalo de la rosa polar $r = 4\\cos(3\\theta)$.  \n",
    "\n",
    "---\n"
   ]
  },
  {
   "cell_type": "markdown",
   "id": "5809e9b3",
   "metadata": {},
   "source": [
    "\n",
    "#### **6. Diseño de retroalimentación** "
   ]
  },
  {
   "cell_type": "markdown",
   "id": "112ded48",
   "metadata": {},
   "source": [
    " \n",
    "**A. Revisión de código automatizada**  \n",
    "- Usar `nbgrader` para evaluar la corrección de funciones y gráficos en los notebooks.  \n",
    "- Ejemplo de criterio:  \n"
   ]
  },
  {
   "cell_type": "code",
   "execution_count": 9,
   "id": "6bb5042c",
   "metadata": {},
   "outputs": [
    {
     "ename": "NameError",
     "evalue": "name 'area_polar' is not defined",
     "output_type": "error",
     "traceback": [
      "\u001b[1;31m---------------------------------------------------------------------------\u001b[0m",
      "\u001b[1;31mNameError\u001b[0m                                 Traceback (most recent call last)",
      "Cell \u001b[1;32mIn[9], line 1\u001b[0m\n\u001b[1;32m----> 1\u001b[0m \u001b[38;5;28;01massert\u001b[39;00m np\u001b[38;5;241m.\u001b[39misclose(\u001b[43marea_polar\u001b[49m(\u001b[38;5;241m4\u001b[39m, \u001b[38;5;241m3\u001b[39m, \u001b[38;5;241m0\u001b[39m, np\u001b[38;5;241m.\u001b[39mpi\u001b[38;5;241m/\u001b[39m\u001b[38;5;241m3\u001b[39m), \u001b[38;5;241m8.0\u001b[39m), \u001b[38;5;124m\"\u001b[39m\u001b[38;5;124mEl área calculada es incorrecta\u001b[39m\u001b[38;5;124m\"\u001b[39m\n",
      "\u001b[1;31mNameError\u001b[0m: name 'area_polar' is not defined"
     ]
    }
   ],
   "source": [
    "assert np.isclose(area_polar(4, 3, 0, np.pi/3), 8.0), \"El área calculada es incorrecta\"\n",
    "  \n"
   ]
  },
  {
   "cell_type": "markdown",
   "id": "643f9794",
   "metadata": {},
   "source": [
    "\n",
    "**B. Discusión grupal con rúbrica**  \n",
    "- **Rúbrica**:  \n",
    "  - **4 puntos**: Gráficos interactivos, código limpio, resultados precisos.  \n",
    "  - **2 puntos**: Gráficos estáticos o errores menores en cálculos.  \n",
    "\n",
    "**C. Taller remedial**  \n",
    "- Estudiantes con dificultades reciben un notebook adicional con ejercicios guiados paso a paso (ej: derivar una elipse polar usando `sympy`).  \n",
    "\n",
    "---\n"
   ]
  },
  {
   "cell_type": "markdown",
   "id": "a08a9ef5",
   "metadata": {},
   "source": [
    "\n",
    "**Recursos adicionales**:  \n",
    "- Plantillas de código en Jupyter con funciones incompletas para que los estudiantes las completen.  \n",
    "- Video tutorial de 10 minutos: \"Cómo animar curvas paramétricas con `FuncAnimation`\".  \n",
    "\n",
    "Este diseño fomenta el aprendizaje activo mediante la experimentación directa con código, vinculando teoría y aplicaciones reales."
   ]
  },
  {
   "cell_type": "markdown",
   "id": "239427f7",
   "metadata": {},
   "source": [
    "# ARTÍCULO 1. Definir el calendario académico para los diferentes programas de pregrado de los campus\n",
    "regionalizados, correspondiente al primer periodo académico del año 2025, así:\n",
    "* Oferta 28 de enero de 2025\n",
    "* Matrícula 30 de enero de 2025\n",
    "* Ajustes 03 al 10 de febrero de 2025\n",
    "* Inicio de clases 10 de febrero de 2025\n",
    "* Límite evaluación del 40% 06 de abril de 2025\n",
    "* Terminación de clases 08 de junio de 2025\n",
    "* Exámenes finales 09 al 15 de junio de 2025\n",
    "* Habilitación y validación 16 al 22 de junio de 2025\n",
    "* Terminación oficial 23 de junio de 2025"
   ]
  },
  {
   "cell_type": "code",
   "execution_count": null,
   "id": "ec048afb",
   "metadata": {},
   "outputs": [],
   "source": []
  },
  {
   "cell_type": "code",
   "execution_count": null,
   "id": "c804f8d3",
   "metadata": {},
   "outputs": [],
   "source": []
  },
  {
   "cell_type": "code",
   "execution_count": null,
   "id": "cc539357",
   "metadata": {},
   "outputs": [],
   "source": []
  },
  {
   "cell_type": "markdown",
   "id": "740f3401",
   "metadata": {
    "slideshow": {
     "slide_type": "slide"
    }
   },
   "source": [
    "# Componente de manejo de calculadora Casio asociado al objetivo de aprendizaje de esta clase  \n",
    "\n",
    "## Pasos para lograr el objetivo de aprendizaje con la experimentación en la calculadora Casio 991LA cw  "
   ]
  },
  {
   "cell_type": "markdown",
   "id": "8ba64aed",
   "metadata": {},
   "source": [
    "# Cursos que orienta el profesor Marco Julio Cañas Campillo en 2025  \n",
    "\n",
    "1. Práctica Pedagógica V para Licenciatura en Educación Infantil\n",
    "2. Fundamentos de Lógica para Licenciatura en Matemáticas \n",
    "3. Análisis Numérico para Licenciatura en Matemáticas. \n",
    "4. Cálculo Vectorial para Ingeniería Agropecuaria"
   ]
  },
  {
   "cell_type": "markdown",
   "id": "8d41fe58",
   "metadata": {
    "slideshow": {
     "slide_type": "slide"
    }
   },
   "source": [
    "# Horario de clases del profesor Marco\n",
    "\n",
    "* Lunes 8-12: Cálculo Vectorial\n",
    "* Martes 8-12 M: Fundamentos de Aritmética. \n",
    "* Miércoles 8 a 12 M: Fundamentos de la Lógica\n",
    "* Jueves 2 a 6 PM: Desarrollo del pensamiento matemático en la infancia. \n",
    "* Viernes 8 - 12 M: Desarrollo del pensamiento matemático en la infancia. \n",
    "* Sábados 8-12 Asesorías y espacio para retroalimentación y apoyo al trabajo independiente. "
   ]
  },
  {
   "cell_type": "markdown",
   "id": "ae114e14",
   "metadata": {
    "slideshow": {
     "slide_type": "slide"
    }
   },
   "source": [
    "# Horarios de monitoría y asesoría  \n",
    "\n",
    "Coordinador de los cursos de la Facultad de Educación para regiones:    \n",
    "\n",
    "Andrés Vélez: regioneducacion.fedu@udea.edu.co  \n",
    "Coordinador Regiones  \n",
    "Facultad de Educación  \n",
    "Universidad de Antioquia  "
   ]
  },
  {
   "cell_type": "markdown",
   "id": "b1db4b6c",
   "metadata": {
    "slideshow": {
     "slide_type": "slide"
    }
   },
   "source": [
    "## Monitor Manuel San Juan Serrano\n",
    "\n",
    "Contactar escribiendo al correo: manuel.serrano1@udea.edu.co"
   ]
  },
  {
   "cell_type": "markdown",
   "id": "39559692",
   "metadata": {
    "slideshow": {
     "slide_type": "slide"
    }
   },
   "source": [
    "Martes y jueves de 8 - 12  \n",
    "Miércoles 10 - 12 y de 2 a 4 PM  \n",
    "Sábado: 8 - 12"
   ]
  },
  {
   "cell_type": "markdown",
   "id": "10bce0d0",
   "metadata": {
    "slideshow": {
     "slide_type": "slide"
    }
   },
   "source": [
    "## Referentes "
   ]
  },
  {
   "cell_type": "markdown",
   "id": "1db3c468",
   "metadata": {
    "slideshow": {
     "slide_type": "slide"
    }
   },
   "source": [
    "* [Grajales Vanegas, L. M., Restrepo Estrada, C. E., Restrepo Ochoa, S. I., & Ruíz De Villalba, F. (2015). Matemáticas I para las ciencias económicas.](https://bibliotecadigital.udea.edu.co/handle/10495/3010)\n",
    "  \n",
    "* R. Duval y Semiosis y pensamiento humano, 2.ª ed. Cali, Colombia: Programa Editorial Universidad del Valle, 2017. [En línea]. Disponible en: https://programaeditorial.univalle.edu.co/gpd-semiosis-y-pensamiento-humano-9789587655278-63324cdb0f6b3.html\n",
    "\n",
    "* [Aylwin, C. U. (2011). Lógica, conjuntos y números. Universidad de los Andes, Consejo de Publicaciones, Colección: Ciencias Básicas, Serie: Matemáticas.](https://github.com/marco-canas/fundamentos_logica/blob/main/referentes/2_uzcategui/uscategui.pdf)\n",
    "  \n",
    "* [Chollet, F. (2021). Deep learning with Python. Simon and Schuster.](chrome-extension://efaidnbmnnnibpcajpcglclefindmkaj/https://tanthiamhuat.wordpress.com/wp-content/uploads/2018/03/deeplearningwithpython.pdf)  \n",
    "  \n",
    "* [Watson, S., Stewart, J., & Redlin, L. (2009). Precálculo. Matemáticas para el cálculo.](https://github.com/marco-canas/calculo/blob/main/referents/1_precalculo_stewart/stewart_precalculo.pdf)  \n",
    "\n",
    "* [Purcell, E. J., Varberg, D., & Rigdon, S. E. (2007). Cálculo diferencial e integral. Pearson Educación.](https://github.com/marco-canas/calculo/blob/main/referents/purcell/purcell_calculo.pdf)\n",
    "\n",
    "  \n",
    "\n",
    "* [stewart cálculo](https://udeaeduco-my.sharepoint.com/:b:/g/personal/marco_canas_udea_edu_co/EZgXZjAp8QxPqOAim2hs6LcBNPLGjSHf-xwYnUVYkwa04w?e=RZdTCy)  \n",
    "\n",
    "* [larson](https://udeaeduco-my.sharepoint.com/:b:/g/personal/marco_canas_udea_edu_co/ES71ChFeO9ZDhW3TwC5Ijk8BjxUK3Pdqz_fjHxTTFAfIAg?e=VDEjfu)\n",
    "\n",
    "\n",
    "\n",
    "* [Recomendación de la UNESCO sobre ciencia abierta](https://unesdoc.unesco.org/ark:/48223/pf0000379949_spa)\n",
    "\n",
    "* [chatGPT](https://openai.com/blog/chatgpt)  \n",
    "\n",
    "* [Géron, A. (2017). Hands-on machine learning with scikit-learn and tensorflow: Concepts. Tools, and Techniques to build intelligent systems.](chrome-extension://efaidnbmnnnibpcajpcglclefindmkaj/http://14.139.161.31/OddSem-0822-1122/Hands-On_Machine_Learning_with_Scikit-Learn-Keras-and-TensorFlow-2nd-Edition-Aurelien-Geron.pdf)   \n"
   ]
  },
  {
   "cell_type": "markdown",
   "id": "df925560",
   "metadata": {},
   "source": [
    "\n",
    "* [McKinney, W. (2012). Python for data analysis: Data wrangling with Pandas, NumPy, and IPython. \" O'Reilly Media, Inc.\".](https://wesmckinney.com/book/) "
   ]
  },
  {
   "cell_type": "markdown",
   "id": "8e65d6f9",
   "metadata": {},
   "source": [
    "# Como estudiante, encuentro que...   \n",
    "\n",
    "F: Mis Fortalezas son:     \n",
    "O: Mis Oportunidades son:    \n",
    "D: Mis Debilidades son:    \n",
    "A: Lo que Amenazas mi aprendizaje es:  "
   ]
  },
  {
   "cell_type": "markdown",
   "id": "6b9e56a8",
   "metadata": {
    "slideshow": {
     "slide_type": "slide"
    }
   },
   "source": [
    "### [Evaluamos al profesor Marco Cañas Aquí](https://forms.office.com/Pages/ResponsePage.aspx?id=IefhmYRxjkmK_7KtTlPBwkanXIs1i1FEujpsZgO6dXpUREJPV1kxUk1JV1ozTFJIQVNIQjY5WEY3US4u)"
   ]
  },
  {
   "cell_type": "markdown",
   "id": "10f43536",
   "metadata": {
    "slideshow": {
     "slide_type": "slide"
    }
   },
   "source": [
    "### Continue su aprendizaje en la siguiente clase a través del siguiente [vínculo]()"
   ]
  },
  {
   "cell_type": "markdown",
   "id": "53cc9115",
   "metadata": {
    "slideshow": {
     "slide_type": "slide"
    }
   },
   "source": [
    "## Agradecimientos  \n",
    "\n",
    "Doy gracias a Dios por la vida de mi Hijo Joseph Cañas Osorio y la madurez que ha alcanzado. Este hijo me enorgullece y me hace falta abrazarlo cada día. \n",
    "\n",
    "Y a mi esposa Yasmira Emperatriz Barboza Mogollón por su apoyo, orientación y acompañamiento. "
   ]
  },
  {
   "cell_type": "code",
   "execution_count": 1,
   "id": "cfb4dd14",
   "metadata": {},
   "outputs": [
    {
     "ename": "SyntaxError",
     "evalue": "invalid syntax (2558568560.py, line 1)",
     "output_type": "error",
     "traceback": [
      "\u001b[1;36m  Cell \u001b[1;32mIn[1], line 1\u001b[1;36m\u001b[0m\n\u001b[1;33m    Buen día\u001b[0m\n\u001b[1;37m         ^\u001b[0m\n\u001b[1;31mSyntaxError\u001b[0m\u001b[1;31m:\u001b[0m invalid syntax\n"
     ]
    }
   ],
   "source": [
    "Buen día\n",
    "\n",
    "Cordial saludo\n",
    "\n",
    "\n",
    "Profesor Marco espero que se encuentre bien. Le escribo para pedirle el gran favor de ser posible, me corra estos códigos que le comparto y me envía el diagrama que le arroja.\n",
    "\n",
    "Tengo problemas con instalar ePython en el computador de mesa.\n",
    "\n",
    "Quedo atenta, muchas gracias.\n"
   ]
  },
  {
   "cell_type": "code",
   "execution_count": 3,
   "id": "f65bb407",
   "metadata": {},
   "outputs": [
    {
     "data": {
      "text/plain": [
       "'Contratacion_Personal.gv.pdf'"
      ]
     },
     "execution_count": 3,
     "metadata": {},
     "output_type": "execute_result"
    }
   ],
   "source": [
    "\n",
    "\n",
    "from graphviz import Digraph\n",
    "\n",
    "def crear_diagrama_contratacion():\n",
    "    dot = Digraph(\"Contratacion_Personal\")\n",
    "    dot.attr(rankdir='TB')\n",
    "   \n",
    "    dot.node(\"Inicio\", shape=\"ellipse\")\n",
    "    dot.node(\"Identificación del perfil requerido\")\n",
    "    dot.node(\"Apertura de convocatoria\")\n",
    "    dot.node(\"Recepción de hojas de vida\")\n",
    "    dot.node(\"Evaluación de hojas de vida\")\n",
    "    dot.node(\"Entrevista\")\n",
    "    dot.node(\"Selección del candidato\")\n",
    "    dot.node(\"Verificación de referencias laborales\")\n",
    "    dot.node(\"Confirmación de disponibilidad\")\n",
    "    dot.node(\"Elaboración del contrato\")\n",
    "    dot.node(\"Afiliaciones a seguridad social\")\n",
    "    dot.node(\"Fin\", shape=\"ellipse\")\n",
    "   \n",
    "    dot.edges([\n",
    "        (\"Inicio\", \"Identificación del perfil requerido\"),\n",
    "        (\"Identificación del perfil requerido\", \"Apertura de convocatoria\"),\n",
    "        (\"Apertura de convocatoria\", \"Recepción de hojas de vida\"),\n",
    "        (\"Recepción de hojas de vida\", \"Evaluación de hojas de vida\"),\n",
    "        (\"Evaluación de hojas de vida\", \"Entrevista\"),\n",
    "        (\"Entrevista\", \"Selección del candidato\"),\n",
    "        (\"Selección del candidato\", \"Verificación de referencias laborales\"),\n",
    "        (\"Verificación de referencias laborales\", \"Confirmación de disponibilidad\"),\n",
    "        (\"Confirmación de disponibilidad\", \"Elaboración del contrato\"),\n",
    "        (\"Elaboración del contrato\", \"Afiliaciones a seguridad social\"),\n",
    "        (\"Afiliaciones a seguridad social\", \"Fin\")\n",
    "    ])\n",
    "   \n",
    "    return dot\n",
    "\n",
    "crear_diagrama_contratacion().render(\"diagrama_contratacion\", format=\"png\", cleanup=False)\n",
    "\n",
    "crear_diagrama_contratacion().view()"
   ]
  }
 ],
 "metadata": {
  "celltoolbar": "Slideshow",
  "kernelspec": {
   "display_name": "base",
   "language": "python",
   "name": "python3"
  },
  "language_info": {
   "codemirror_mode": {
    "name": "ipython",
    "version": 3
   },
   "file_extension": ".py",
   "mimetype": "text/x-python",
   "name": "python",
   "nbconvert_exporter": "python",
   "pygments_lexer": "ipython3",
   "version": "3.12.4"
  },
  "rise": {
   "enable_chalkboard": true,
   "theme": "sky",
   "transition": "zoom"
  }
 },
 "nbformat": 4,
 "nbformat_minor": 5
}
