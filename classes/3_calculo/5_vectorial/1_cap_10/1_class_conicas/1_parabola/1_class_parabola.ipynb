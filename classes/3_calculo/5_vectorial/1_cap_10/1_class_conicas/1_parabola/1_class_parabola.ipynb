{
 "cells": [
  {
   "cell_type": "markdown",
   "id": "dc06dec7",
   "metadata": {
    "slideshow": {
     "slide_type": "slide"
    }
   },
   "source": [
    "<table align=\"left\">\n",
    "  <td>\n",
    "    <a href=\"https://colab.research.google.com/github/ageron/handson-ml3/blob/main/tools_numpy.ipynb\" target=\"_parent\"><img src=\"https://colab.research.google.com/assets/colab-badge.svg\" alt=\"Open In Colab\"/></a>\n",
    "  </td>\n",
    "  <td>\n",
    "    <a target=\"_blank\" href=\"https://kaggle.com/kernels/welcome?src=https://github.com/ageron/handson-ml3/blob/main/tools_numpy.ipynb\"><img src=\"https://kaggle.com/static/images/open-in-kaggle.svg\" /></a>\n",
    "  </td>\n",
    "</table>"
   ]
  },
  {
   "cell_type": "markdown",
   "id": "e0c5b198",
   "metadata": {
    "slideshow": {
     "slide_type": "slide"
    }
   },
   "source": [
    "### [Video de apoyo a la lectura interactiva y experimental de este cuaderno]()"
   ]
  },
  {
   "cell_type": "markdown",
   "id": "41e82203",
   "metadata": {
    "slideshow": {
     "slide_type": "slide"
    }
   },
   "source": [
    "### [Vínculo al programa del curso:  ]()\n",
    "\n",
    "Código del curso de Cálculo Vectorial: 5009344  "
   ]
  },
  {
   "cell_type": "markdown",
   "id": "d11ab06d",
   "metadata": {
    "slideshow": {
     "slide_type": "slide"
    }
   },
   "source": [
    "Un reconocimiento a mis estudiantes que han construido conmigo este saber pedagógico:\n",
    "\n",
    "<img src = ''> \n",
    "\n"
   ]
  },
  {
   "cell_type": "code",
   "execution_count": 8,
   "id": "7604880f",
   "metadata": {
    "slideshow": {
     "slide_type": "slide"
    }
   },
   "outputs": [
    {
     "data": {
      "application/vnd.microsoft.datawrangler.viewer.v0+json": {
       "columns": [
        {
         "name": "index",
         "rawType": "int64",
         "type": "integer"
        },
        {
         "name": "Cedula",
         "rawType": "int64",
         "type": "integer"
        },
        {
         "name": "Nombre",
         "rawType": "object",
         "type": "string"
        },
        {
         "name": "Email",
         "rawType": "object",
         "type": "string"
        },
        {
         "name": "Parcial",
         "rawType": "float64",
         "type": "float"
        },
        {
         "name": "Asistencia",
         "rawType": "float64",
         "type": "float"
        }
       ],
       "conversionMethod": "pd.DataFrame",
       "ref": "c7d90c5c-4beb-4025-9ad1-b974e3f64da4",
       "rows": [
        [
         "0",
         "1007528664",
         "AYALA MENDOZA MARISOL YACIRA",
         "marisol.ayala@udea.edu.co",
         "0.0",
         null
        ],
        [
         "1",
         "1064188463",
         "MASS MIRANDA RIVALDO JOSE",
         "rivaldo.mass@udea.edu.co",
         "0.0",
         null
        ],
        [
         "2",
         "1066570075",
         "MONTERROSA SOTO ABRIL",
         "a.monterrosa@udea.edu.co",
         "0.0",
         null
        ]
       ],
       "shape": {
        "columns": 5,
        "rows": 3
       }
      },
      "text/html": [
       "<div>\n",
       "<style scoped>\n",
       "    .dataframe tbody tr th:only-of-type {\n",
       "        vertical-align: middle;\n",
       "    }\n",
       "\n",
       "    .dataframe tbody tr th {\n",
       "        vertical-align: top;\n",
       "    }\n",
       "\n",
       "    .dataframe thead th {\n",
       "        text-align: right;\n",
       "    }\n",
       "</style>\n",
       "<table border=\"1\" class=\"dataframe\">\n",
       "  <thead>\n",
       "    <tr style=\"text-align: right;\">\n",
       "      <th></th>\n",
       "      <th>Cedula</th>\n",
       "      <th>Nombre</th>\n",
       "      <th>Email</th>\n",
       "      <th>Parcial</th>\n",
       "      <th>Asistencia</th>\n",
       "    </tr>\n",
       "  </thead>\n",
       "  <tbody>\n",
       "    <tr>\n",
       "      <th>0</th>\n",
       "      <td>1007528664</td>\n",
       "      <td>AYALA MENDOZA MARISOL YACIRA</td>\n",
       "      <td>marisol.ayala@udea.edu.co</td>\n",
       "      <td>0.0</td>\n",
       "      <td>NaN</td>\n",
       "    </tr>\n",
       "    <tr>\n",
       "      <th>1</th>\n",
       "      <td>1064188463</td>\n",
       "      <td>MASS MIRANDA RIVALDO JOSE</td>\n",
       "      <td>rivaldo.mass@udea.edu.co</td>\n",
       "      <td>0.0</td>\n",
       "      <td>NaN</td>\n",
       "    </tr>\n",
       "    <tr>\n",
       "      <th>2</th>\n",
       "      <td>1066570075</td>\n",
       "      <td>MONTERROSA SOTO ABRIL</td>\n",
       "      <td>a.monterrosa@udea.edu.co</td>\n",
       "      <td>0.0</td>\n",
       "      <td>NaN</td>\n",
       "    </tr>\n",
       "  </tbody>\n",
       "</table>\n",
       "</div>"
      ],
      "text/plain": [
       "       Cedula                        Nombre                      Email  \\\n",
       "0  1007528664  AYALA MENDOZA MARISOL YACIRA  marisol.ayala@udea.edu.co   \n",
       "1  1064188463     MASS MIRANDA RIVALDO JOSE   rivaldo.mass@udea.edu.co   \n",
       "2  1066570075         MONTERROSA SOTO ABRIL   a.monterrosa@udea.edu.co   \n",
       "\n",
       "   Parcial  Asistencia  \n",
       "0      0.0         NaN  \n",
       "1      0.0         NaN  \n",
       "2      0.0         NaN  "
      ]
     },
     "execution_count": 8,
     "metadata": {},
     "output_type": "execute_result"
    }
   ],
   "source": [
    "import pandas as pd\n",
    "import numpy as np\n",
    "\n",
    "# Cargar la lista de estudiantes desde el archivo CSV\n",
    "path = 'C:/Users/marco/Documentos/docencia/groups_list/vectorial.xlsx'\n",
    "vectorial_df = pd.read_excel(path)\n",
    "vectorial_df.head()"
   ]
  },
  {
   "cell_type": "code",
   "execution_count": null,
   "id": "68d815a0",
   "metadata": {},
   "outputs": [],
   "source": [
    "# Convertir la columna 'Nombre' a una lista de Python\n",
    "lista_estudiantes = vectorial_df['Nombre'].tolist()\n",
    "\n",
    "# Función para llamar a un estudiante aleatoriamente y registrar su nota de seguimiento\n",
    "def asistencia():\n",
    "    global lista_estudiantes\n",
    "    if lista_estudiantes:\n",
    "        estudiante_aleatorio = np.random.choice(lista_estudiantes)\n",
    "        print(f\"Llamando a {estudiante_aleatorio}...\")\n",
    "        asistencia = input(f\"¿Asistió {estudiante_aleatorio}? (s/n): \").strip().lower()\n",
    "        \n",
    "        # Validación de entrada\n",
    "        if asistencia == 's':\n",
    "            # Obtener el índice del estudiante en el DataFrame\n",
    "            indice = estudiantes[estudiantes['Nombre'] == estudiante_aleatorio].index[0]\n",
    "            # Incrementar su valor en la columna 'Parcial'\n",
    "            estudiantes.at[indice, 'Parcial'] += 0.3\n",
    "            print(f\"Actualizado: {estudiante_aleatorio} ahora tiene {estudiantes.at[indice, 'Parcial']} en la columna 'Parcial'.\")\n",
    "        \n",
    "        elif asistencia != 'n':\n",
    "            print(\"Entrada inválida. Por favor, introduce 's' para sí o 'n' para no.\")\n",
    "            return  # Volver a preguntar para el mismo estudiante si la entrada es inválida\n",
    "        \n",
    "        # Remover al estudiante de la lista para no llamarlo de nuevo\n",
    "        lista_estudiantes.remove(estudiante_aleatorio)\n",
    "    else:\n",
    "        print(\"Se han llamado a todos los estudiantes del grupo completo.\")\n",
    "\n",
    "# Función para guardar cambios al final de la sesión\n",
    "def guardar_cambios():\n",
    "    estudiantes.to_csv(path, index=False)\n",
    "    print(\"Cambios guardados en el archivo CSV.\")\n",
    "\n",
    "# Ejemplo de uso\n",
    "while lista_estudiantes:\n",
    "    asistencia()\n",
    "\n",
    "# Guardar los cambios una vez que todos los estudiantes hayan sido llamados\n",
    "guardar_cambios()\n",
    "\n"
   ]
  },
  {
   "cell_type": "markdown",
   "id": "d7598d0a-d9b7-4ae0-b029-a0ed6ed1130b",
   "metadata": {},
   "source": [
    "\n",
    "# Principios de mi labor docente"
   ]
  },
  {
   "cell_type": "markdown",
   "id": "4f9d8cf9",
   "metadata": {
    "slideshow": {
     "slide_type": "slide"
    }
   },
   "source": [
    "## Modelo general de clase: [aula invertida](https://www3.gobiernodecanarias.org/medusa/ecoescuela/pedagotic/aprendizaje-invertido-flipped-classroom/)"
   ]
  },
  {
   "cell_type": "markdown",
   "id": "eb6ed03a",
   "metadata": {},
   "source": [
    "<img src = 'https://resources.maneuveringthemiddle.com/wp-content/uploads/2020/07/04212706/1-5.png' width = 200>  \n",
    "\n"
   ]
  },
  {
   "cell_type": "markdown",
   "id": "34319cce-a71b-4f64-aab8-b53e521efa40",
   "metadata": {},
   "source": [
    "# Metodología de enseñanza basada en problemas (ABP)\n"
   ]
  },
  {
   "cell_type": "markdown",
   "id": "c4f73d81",
   "metadata": {},
   "source": [
    "\n",
    "<img src = 'https://www.unir.net/wp-content/uploads/2020/07/aprendizaje-problemas2-1-1-1-1.jpeg' width = 200>"
   ]
  },
  {
   "cell_type": "markdown",
   "id": "841a985c-bd9b-4dd3-8e4c-893983980af2",
   "metadata": {},
   "source": [
    "# Desarrollo del pensamiento computacional con Lenguaje R y con archivos R Markdown orientado a la formación en ciencia de datos \n",
    "\n"
   ]
  },
  {
   "cell_type": "markdown",
   "id": "3d0eba94",
   "metadata": {},
   "source": [
    "\n",
    "<img src = 'https://i.ytimg.com/vi/mcG_wcR4e6M/maxresdefault.jpg' width = 200>"
   ]
  },
  {
   "cell_type": "markdown",
   "id": "65aa0404-f7ae-495e-864c-1aec01b4255e",
   "metadata": {},
   "source": [
    "# Principio de fomento a la ciencia abierta, enseñar en el acceso a los datos públicos y el uso de software de código abierto  \n"
   ]
  },
  {
   "cell_type": "markdown",
   "id": "18ae9b87",
   "metadata": {},
   "source": [
    "\n",
    "<img src = 'https://unesdoc.unesco.org/in/rest/Thumb/image?id=p%3A%3Ausmarcdef_0000379949_spa&author=UNESCO&title=Recomendaci%C3%B3n+de+la+UNESCO+sobre+la+Ciencia+Abierta&year=2021&publisher=UNESCO&TypeOfDocument=UnescoPhysicalDocument&mat=PGD&ct=true&size=512&isPhysical=1' width = 200>"
   ]
  },
  {
   "cell_type": "markdown",
   "id": "d9559f85",
   "metadata": {},
   "source": [
    "El enfoque STEAMS en educación preescolar, primaria y secundaria es una extensión del enfoque STEM (Ciencia, Tecnología, Ingeniería y Matemáticas) y su variante STEAM, que incorpora el Arte. "
   ]
  },
  {
   "cell_type": "markdown",
   "id": "72e1cfd2",
   "metadata": {},
   "source": [
    "El acrónimo STEAMS incluye:\n"
   ]
  },
  {
   "cell_type": "markdown",
   "id": "03182fd1",
   "metadata": {},
   "source": [
    "\n",
    "1. **Science (Ciencia):** Fomenta la curiosidad por el mundo natural y el desarrollo de habilidades científicas, como la observación, experimentación y análisis.\n"
   ]
  },
  {
   "cell_type": "markdown",
   "id": "1306d0fa",
   "metadata": {},
   "source": [
    "\n",
    "2. **Technology (Tecnología):** Integra herramientas tecnológicas para potenciar el aprendizaje y la resolución de problemas, promoviendo la alfabetización digital desde edades tempranas.\n"
   ]
  },
  {
   "cell_type": "markdown",
   "id": "3b1a53e8",
   "metadata": {},
   "source": [
    "\n",
    "3. **Engineering (Ingeniería):** Introduce el pensamiento lógico y la resolución de problemas estructurados, fomentando habilidades como el diseño y la construcción de soluciones.\n"
   ]
  },
  {
   "cell_type": "markdown",
   "id": "0196de87",
   "metadata": {},
   "source": [
    "\n",
    "4. **Arts (Arte):** Añade creatividad y pensamiento crítico, permitiendo a los estudiantes expresarse y explorar el aprendizaje a través de formas artísticas (plásticas, música, teatro).\n"
   ]
  },
  {
   "cell_type": "markdown",
   "id": "8bcc485a",
   "metadata": {},
   "source": [
    "\n",
    "5. **Mathematics (Matemáticas):** Refuerza las habilidades numéricas y el razonamiento lógico, fundamentales en la resolución de problemas y comprensión de conceptos abstractos.\n"
   ]
  },
  {
   "cell_type": "markdown",
   "id": "907935f4",
   "metadata": {},
   "source": [
    "\n",
    "6. **Social Sciences (Ciencias Sociales):** Incorpora la comprensión del entorno social, político, cultural y económico, promoviendo el desarrollo de la conciencia crítica sobre el mundo y su historia, además de habilidades de empatía y ciudadanía.\n"
   ]
  },
  {
   "cell_type": "markdown",
   "id": "39967d63",
   "metadata": {},
   "source": [
    "\n",
    "El enfoque STEAMS pretende desarrollar un aprendizaje **interdisciplinario** que integre estas áreas para fomentar un pensamiento más holístico y práctico. "
   ]
  },
  {
   "cell_type": "markdown",
   "id": "5145f077",
   "metadata": {},
   "source": [
    "Se busca que los estudiantes no solo aprendan conocimientos técnicos, sino también cómo aplicarlos creativa y críticamente en situaciones reales, promoviendo habilidades como el trabajo en equipo, la comunicación y la innovación. "
   ]
  },
  {
   "cell_type": "markdown",
   "id": "9d556584",
   "metadata": {},
   "source": [
    "En educación preescolar, primaria, secundaria y superior, se adapta a las diferentes etapas de desarrollo cognitivo y emocional de los estudiantes, promoviendo el aprendizaje activo y contextualizado.  \n"
   ]
  },
  {
   "cell_type": "markdown",
   "id": "0130ec1b",
   "metadata": {},
   "source": [
    "\n",
    "<img src = 'https://www.campuseducacion.com/blog/wp-content/uploads/2023/03/foto01-1.jpg' width = 200>"
   ]
  },
  {
   "cell_type": "markdown",
   "id": "9d15c10d-2c02-4158-9419-b1ed79b4c1ee",
   "metadata": {},
   "source": [
    "# Qué estamos haciendo por la internalización en esta clase y este curso  \n"
   ]
  },
  {
   "cell_type": "markdown",
   "id": "6e4feef2",
   "metadata": {},
   "source": [
    "Estas son mis acciones como docente de matemáticas en la Universidad de Antioquia con miras a la **internacionalización** de mi práctica docente y el desarrollo de competencias internacionales para mis estudiantes, ls cuales he estructurado con el siguiente enfoque:\n"
   ]
  },
  {
   "cell_type": "markdown",
   "id": "964d9de7-53ee-4255-9bcd-d8e6454f2993",
   "metadata": {},
   "source": [
    "### 1. **Visión Global en la Formación Académica**\n"
   ]
  },
  {
   "cell_type": "markdown",
   "id": "d9bdd3e2",
   "metadata": {},
   "source": [
    "   - **Competencias Internacionales**: Asegúrate de que el contenido de tus cursos fomente habilidades que sean reconocidas globalmente. "
   ]
  },
  {
   "cell_type": "markdown",
   "id": "785fc0ef",
   "metadata": {},
   "source": [
    "Al educar a los estudiantes en **Python, LaTeX, Markdown y Jupyter Notebooks** y en la **introducción a la ciencia de datos y técnicas de Machine Learning**, estás proporcionando competencias altamente demandadas en los sectores tecnológicos y académicos a nivel internacional.\n"
   ]
  },
  {
   "cell_type": "markdown",
   "id": "39b55206",
   "metadata": {},
   "source": [
    "   - **Relevancia de los Contenidos**: Destaca cómo los temas que enseñas, como el **desarrollo del pensamiento computacional** y la **ciencia de datos**, están alineados con las necesidades globales actuales en diversas industrias, desde la tecnología hasta las ciencias naturales y sociales.\n"
   ]
  },
  {
   "cell_type": "markdown",
   "id": "a054599e",
   "metadata": {},
   "source": [
    "   - **Referencias a Estándares Internacionales**: Puedes vincular tu enseñanza a estándares internacionales de competencias en programación y ciencia de datos (por ejemplo, frameworks del **IEEE, ACM**, y estándares de la **data science** o la **computación en la nube**)."
   ]
  },
  {
   "cell_type": "markdown",
   "id": "0f1d110c-3142-48fe-9e7d-5fbd9e8bb931",
   "metadata": {},
   "source": [
    "### 2. **Innovación Pedagógica con Enfoque Internacional**\n"
   ]
  },
  {
   "cell_type": "markdown",
   "id": "fae6ae34",
   "metadata": {},
   "source": [
    "   - **Aula Invertida y ABP**: Presenta cómo tu enfoque de **aula invertida** y **aprendizaje basado en problemas (ABP)** permite a los estudiantes trabajar de manera autónoma y colaborativa, lo que los prepara para escenarios laborales internacionales que requieren autoaprendizaje y habilidades de resolución de problemas en equipo.\n"
   ]
  },
  {
   "cell_type": "markdown",
   "id": "c83062d9",
   "metadata": {},
   "source": [
    "   - **Uso de Jupyter Notebooks**: El uso de **Jupyter Notebooks** en tus clases no solo facilita la **integración de código, matemáticas y texto**, sino que también es una plataforma utilizada globalmente en ambientes académicos y profesionales, lo que hace a tus estudiantes más competitivos internacionalmente."
   ]
  },
  {
   "cell_type": "markdown",
   "id": "960d52b7-03cd-4eb3-965e-5cdfeb7d9f8e",
   "metadata": {},
   "source": [
    "### 3. **Tecnología y Herramientas de Uso Global**\n"
   ]
  },
  {
   "cell_type": "markdown",
   "id": "4be7269f",
   "metadata": {},
   "source": [
    "   - **Lenguaje Python**: Python es uno de los lenguajes de programación más usados a nivel mundial, tanto en la academia como en la industria. Al formar a tus estudiantes en Python para ciencia de datos y machine learning, los preparas para operar en entornos tecnológicos globales.\n"
   ]
  },
  {
   "cell_type": "markdown",
   "id": "102655af",
   "metadata": {},
   "source": [
    "   - **Herramientas de Ciencia Abierta**: Resalta cómo herramientas como **GitHub**, **Google Colab** y otras plataformas de código abierto están alineadas con el movimiento de **ciencia abierta**, el cual es internacionalmente reconocido y permite que los estudiantes colaboren y compartan proyectos a nivel global."
   ]
  },
  {
   "cell_type": "markdown",
   "id": "3b2ffa32-7a6f-4545-ba7b-c6a69f51109f",
   "metadata": {},
   "source": [
    "### 4. **Investigación y Publicaciones Internacionales**\n"
   ]
  },
  {
   "cell_type": "markdown",
   "id": "bdbf52a5",
   "metadata": {},
   "source": [
    "   - **Promoción de la Investigación**: Detalla cómo promueves que tus estudiantes participen en proyectos de **investigación aplicada**, con posibilidad de publicación en revistas internacionales. Esto contribuye a la reputación internacional de la Universidad de Antioquia.\n"
   ]
  },
  {
   "cell_type": "markdown",
   "id": "ea01fcbc",
   "metadata": {},
   "source": [
    "   - **Colaboraciones Internacionales**: Si has colaborado con investigadores de otras instituciones o universidades en el extranjero, menciona estos proyectos y cómo han enriquecido tu enseñanza y proporcionado a los estudiantes una visión más globalizada."
   ]
  },
  {
   "cell_type": "markdown",
   "id": "5d1e396e-aece-4bf7-9421-32fa7809eaf4",
   "metadata": {},
   "source": [
    "## 5. **Uso del Inglés para la Internacionalización**\n"
   ]
  },
  {
   "cell_type": "markdown",
   "id": "29cabf26",
   "metadata": {},
   "source": [
    "   - **Comunicación Científica en Inglés**: "
   ]
  },
  {
   "cell_type": "markdown",
   "id": "8ec53ff3",
   "metadata": {},
   "source": [
    "Fomentar el aprendizaje del inglés como lengua científica es clave para que tus estudiantes puedan acceder a publicaciones internacionales, conferencias, y material académico que no está disponible en español. "
   ]
  },
  {
   "cell_type": "markdown",
   "id": "6347dd43",
   "metadata": {},
   "source": [
    "Esto es esencial para que adquieran competencias que les permitan desempeñarse en cualquier contexto internacional.\n"
   ]
  },
  {
   "cell_type": "markdown",
   "id": "b831224f",
   "metadata": {},
   "source": [
    "   - **Material Bilingüe**: Al generar material educativo en Python, LaTeX y Markdown, considera ofrecer algunos de estos recursos en inglés, para que los estudiantes se familiaricen con el vocabulario técnico y científico internacional."
   ]
  },
  {
   "cell_type": "markdown",
   "id": "c6a8c3b0-426a-4692-a384-3065aea81c9a",
   "metadata": {},
   "source": [
    "### 6. **Certificaciones y Estándares Internacionales**\n"
   ]
  },
  {
   "cell_type": "markdown",
   "id": "b1f41da5",
   "metadata": {},
   "source": [
    "   - **Participación en Certificaciones Internacionales**: Impulsa que los estudiantes busquen certificaciones internacionales en Python o ciencia de datos (como las ofrecidas por **Coursera, edX,** o **Google**). "
   ]
  },
  {
   "cell_type": "markdown",
   "id": "4dde3f5e",
   "metadata": {},
   "source": [
    "Estas certificaciones no solo validan sus competencias, sino que también incrementan el reconocimiento de la Universidad de Antioquia en el contexto internacional.\n"
   ]
  },
  {
   "cell_type": "markdown",
   "id": "7cc66317",
   "metadata": {},
   "source": [
    "   - **Alineación con Acreditaciones Internacionales**: Vincula tu trabajo docente con los estándares de acreditación y certificación que garantizan que la universidad siga siendo reconocida internacionalmente. "
   ]
  },
  {
   "cell_type": "markdown",
   "id": "50a0cf51",
   "metadata": {},
   "source": [
    "Puedes vincularte con organizaciones internacionales que promuevan la excelencia en la educación y tecnología, como **ABET** para la acreditación en ingeniería y ciencias computacionales."
   ]
  },
  {
   "cell_type": "markdown",
   "id": "65d3d9e1-ea84-43e0-8197-a2a9c9e21594",
   "metadata": {},
   "source": [
    "### 7. **Proyectos Abiertos y Ciencia Reproducible**\n"
   ]
  },
  {
   "cell_type": "markdown",
   "id": "f03f7b20",
   "metadata": {},
   "source": [
    "   - **GitHub y Open Science**: La utilización de **GitHub** para almacenar los proyectos y materiales de enseñanza en repositorios públicos permite que otros investigadores y educadores internacionales puedan revisar y replicar tu trabajo. Esto contribuye a la creación de una red de colaboración científica abierta.\n"
   ]
  },
  {
   "cell_type": "markdown",
   "id": "25a72a32",
   "metadata": {},
   "source": [
    "   - **Transparencia y Reproducibilidad**: La ciencia de datos y machine learning están profundamente ligados a la reproducibilidad. Asegura que tus estudiantes desarrollen prácticas de transparencia y documentación en la investigación, que son pilares en la comunidad científica global.\n"
   ]
  },
  {
   "cell_type": "markdown",
   "id": "215cb551",
   "metadata": {},
   "source": [
    "\n",
    "### 8. **Participación en Redes y Conferencias Internacionales**\n",
    "   - **Presentación en Conferencias Internacionales**: Destaca cómo tu participación en conferencias internacionales (como la **ASCOLFA** o eventos sobre educación en matemáticas) contribuye al prestigio de la universidad y permite que tus prácticas sean evaluadas y reconocidas a nivel global.\n"
   ]
  },
  {
   "cell_type": "markdown",
   "id": "cdf46e29",
   "metadata": {},
   "source": [
    "   - **Promoción de Estudiantes en Eventos Internacionales**: Impulsa la participación de tus estudiantes en competiciones internacionales de programación o hackathons, como los organizados por **Google**, **ACM** o **Kaggle**. Esto no solo desarrolla sus habilidades, sino que también visibiliza el talento de la Universidad de Antioquia a nivel global.\n",
    "\n",
    "---"
   ]
  },
  {
   "cell_type": "markdown",
   "id": "77da458b",
   "metadata": {},
   "source": [
    "### **Metodología de Enseñanza: Aprendizaje Basado en Problemas y Proyectos (ABPP)**\n"
   ]
  },
  {
   "cell_type": "markdown",
   "id": "c943d273",
   "metadata": {},
   "source": [
    "\n",
    "El **Aprendizaje Basado en Problemas y Proyectos (ABPP)** es una metodología educativa que integra los enfoques del **Aprendizaje Basado en Problemas (ABP)** y el **Aprendizaje Basado en Proyectos (PBL, por sus siglas en inglés)**. "
   ]
  },
  {
   "cell_type": "markdown",
   "id": "c85333b6",
   "metadata": {},
   "source": [
    "Es especialmente útil para la formación de futuros docentes, ingenieros y administradores, ya que combina el desarrollo de habilidades prácticas con el pensamiento crítico y reflexivo. "
   ]
  },
  {
   "cell_type": "markdown",
   "id": "9f59962f",
   "metadata": {},
   "source": [
    "A continuación, se presenta una descripción adaptada a la enseñanza de las matemáticas en educación infantil, Licenciatura en Matemáticas, Ingeniería Agropecuaria y Administración de Empresas:\n",
    "\n",
    "---\n"
   ]
  },
  {
   "cell_type": "markdown",
   "id": "0eeba3f5",
   "metadata": {},
   "source": [
    "\n",
    "### **1. Fundamentos del ABPP**\n"
   ]
  },
  {
   "cell_type": "markdown",
   "id": "388691be",
   "metadata": {},
   "source": [
    "El ABPP se basa en:\n",
    "- **Resolución de Problemas Reales:** Los estudiantes analizan y resuelven problemas auténticos relacionados con su área de formación, fomentando la aplicación práctica del conocimiento.\n"
   ]
  },
  {
   "cell_type": "markdown",
   "id": "f913709e",
   "metadata": {},
   "source": [
    "- **Proyectos como Herramientas Integradoras:** Los proyectos permiten desarrollar habilidades interdisciplinarias y ofrecer soluciones concretas a los problemas planteados.\n",
    "- **Aprendizaje Activo:** Los estudiantes son responsables de su aprendizaje y participan activamente en el proceso de investigación, diseño y solución.\n",
    "\n",
    "---\n"
   ]
  },
  {
   "cell_type": "markdown",
   "id": "3728d010",
   "metadata": {},
   "source": [
    "\n",
    "### **2. Aplicación del ABPP en Áreas Específicas**\n",
    "\n",
    "#### **Educación Infantil (Licenciatura en Educación Infantil)**\n",
    "- **Enfoque:** Desarrollo del pensamiento matemático en la infancia desde contextos lúdicos, familiares y culturales.\n",
    "- **Problemas típicos:** \n",
    "  - ¿Cómo enseñar los números naturales mediante actividades prácticas y juegos?\n",
    "  - ¿Qué estrategias pueden emplearse para abordar el concepto de cantidad en edades tempranas?\n",
    "- **Proyectos:** Diseño de secuencias didácticas que usen Python, Jupyter Notebooks y materiales manipulativos para enseñar matemáticas de forma interactiva.\n"
   ]
  },
  {
   "cell_type": "markdown",
   "id": "375f99c5",
   "metadata": {},
   "source": [
    "- **Competencias desarrolladas:** \n",
    "  - Uso de herramientas tecnológicas para diseñar actividades educativas.\n",
    "  - Comprensión del desarrollo cognitivo infantil y su relación con las matemáticas.\n"
   ]
  },
  {
   "cell_type": "markdown",
   "id": "481f614a",
   "metadata": {},
   "source": [
    "\n",
    "#### **Licenciatura en Matemáticas**\n",
    "- **Enfoque:** Resolución de problemas matemáticos aplicados y profundización teórica en áreas como análisis matemático y modelado.\n",
    "- **Problemas típicos:**\n",
    "  - ¿Cómo se pueden resolver ecuaciones diferenciales aplicadas a modelos físicos o económicos?\n",
    "  - ¿Cómo modelar fenómenos naturales mediante funciones matemáticas?\n"
   ]
  },
  {
   "cell_type": "markdown",
   "id": "3a23234b",
   "metadata": {},
   "source": [
    "- **Proyectos:** \n",
    "  - Desarrollo de software educativo para explorar conceptos matemáticos.\n",
    "  - Aplicación de modelado matemático para resolver problemas reales en otras disciplinas.\n",
    "- **Competencias desarrolladas:**\n",
    "  - Dominio de la matemática teórica y aplicada.\n",
    "  - Uso de tecnología para la enseñanza y la investigación.\n"
   ]
  },
  {
   "cell_type": "markdown",
   "id": "83ab236f",
   "metadata": {},
   "source": [
    "\n",
    "#### **Ingeniería Agropecuaria**\n",
    "- **Enfoque:** Modelado matemático y análisis de datos para mejorar la producción agrícola y la gestión de recursos.\n",
    "- **Problemas típicos:**\n",
    "  - ¿Cómo modelar el crecimiento de cultivos considerando variables climáticas?\n",
    "  - ¿Cómo optimizar el uso del agua en sistemas de riego mediante análisis matemático?\n",
    "- **Proyectos:** \n",
    "  - Desarrollo de modelos predictivos con Python y bibliotecas de aprendizaje automático.\n",
    "  - Implementación de proyectos que combinen matemáticas y ciencias de datos para resolver problemas agrícolas.\n",
    "- **Competencias desarrolladas:**\n",
    "  - Integración de matemáticas con tecnologías avanzadas.\n",
    "  - Resolución de problemas agropecuarios mediante análisis y modelado.\n"
   ]
  },
  {
   "cell_type": "markdown",
   "id": "c4519bb3",
   "metadata": {},
   "source": [
    "\n",
    "#### **Administración de Empresas**\n",
    "- **Enfoque:** Uso de las matemáticas y la ciencia de datos para la toma de decisiones estratégicas.\n",
    "- **Problemas típicos:**\n",
    "  - ¿Cómo identificar patrones de comportamiento del consumidor usando series de tiempo?\n",
    "  - ¿Qué estrategias matemáticas pueden optimizar la asignación de recursos en una empresa?\n",
    "- **Proyectos:** \n",
    "  - Implementación de modelos de análisis financiero y simulaciones.\n",
    "  - Desarrollo de dashboards interactivos para la gestión de datos empresariales.\n",
    "- **Competencias desarrolladas:**\n",
    "  - Habilidad para interpretar datos matemáticos en contextos de negocio.\n",
    "  - Capacidad para diseñar soluciones basadas en datos.\n",
    "\n",
    "---\n"
   ]
  },
  {
   "cell_type": "markdown",
   "id": "19be58d4",
   "metadata": {},
   "source": [
    "\n",
    "### **3. Beneficios del ABPP**\n",
    "- **Desarrollo de competencias clave:**\n",
    "  - Pensamiento crítico y creativo.\n",
    "  - Trabajo colaborativo.\n",
    "  - Comunicación efectiva.\n",
    "  - Uso de herramientas tecnológicas avanzadas.\n",
    "- **Adaptación al contexto laboral:** Los estudiantes aprenden a enfrentar desafíos del mundo real y a diseñar soluciones prácticas y aplicables.\n",
    "- **Flexibilidad e interdisciplinariedad:** La metodología se adapta a diversas áreas, fomentando el aprendizaje integrado.\n",
    "\n",
    "---\n"
   ]
  },
  {
   "cell_type": "markdown",
   "id": "e36034c3",
   "metadata": {},
   "source": [
    "\n",
    "### **4. Ejemplo General de Implementación**\n",
    "1. **Identificación del problema:** Se plantea un desafío concreto, como modelar el crecimiento poblacional de una comunidad rural (Ingeniería Agropecuaria) o diseñar una estrategia para enseñar fracciones a niños de 8 años (Educación Infantil).\n",
    "2. **Formación de equipos:** Los estudiantes trabajan en grupos, distribuyendo roles y tareas.\n",
    "3. **Investigación y diseño:** Los estudiantes investigan el problema, proponen soluciones y diseñan un proyecto.\n",
    "4. **Implementación:** Se desarrolla el proyecto, como una herramienta tecnológica o una propuesta pedagógica.\n",
    "5. **Evaluación:** Los estudiantes presentan sus resultados en un informe o una exposición, recibiendo retroalimentación de sus compañeros y docentes.\n",
    "\n",
    "---\n"
   ]
  },
  {
   "cell_type": "markdown",
   "id": "8ee46797",
   "metadata": {},
   "source": [
    "\n",
    "El ABPP es una metodología versátil que conecta el conocimiento teórico con la práctica, preparando a los estudiantes para los retos de sus profesiones en la enseñanza de la matemática, la ingeniería y la administración."
   ]
  },
  {
   "cell_type": "markdown",
   "id": "8d97dc80",
   "metadata": {
    "slideshow": {
     "slide_type": "slide"
    }
   },
   "source": [
    "## Fomento de la lectura literaria asociada a Ingeniería agropecuaria y licenciatura en Matemáticas\n",
    "\n",
    "[Aprender a obtener el sí sin ceder]()"
   ]
  },
  {
   "cell_type": "markdown",
   "id": "96775931",
   "metadata": {
    "slideshow": {
     "slide_type": "slide"
    }
   },
   "source": [
    "## Título de la clase: La parábola para Ingeniería Agropecuaria   \n",
    "\n",
    "[]()"
   ]
  },
  {
   "cell_type": "markdown",
   "id": "10e55ccf",
   "metadata": {},
   "source": [
    "# Estructura general para todas las clases\n",
    "\n",
    "Dame, por favor, un diseño de clase, con los enfoques didácticos de enseñanza: \" STEAMS y de Aprendizaje Basado en Problemas y Proyectos (ABPP)\" sobre: \"La sección cónica de la parábola y sus aplicaciones a las ciencias agrarias\", siguiendo la estructura:   \n",
    "\n",
    "1. Título de la clase \n",
    "2. Objetivos de aprendizaje  e indicadores del logro de estos objetivos. \n",
    "3. Mapa conceptual jerarquico en Graphviz de python con nodos y edges de diferentes formas, colores y rellenos y que se renderize este mapa en la ubicación: `\"C:\\Users\\marco\\Documentos\\docencia\\calculo\\classes\\3_calculo\\5_calculo_vectorial\\1_cap_10\\1_class_conicas\\images\"`\n",
    "4. Contenido de la clase adaptado a lo que este curso de calculo vectorial y de varias variables le puede aportar a que los estudiantes puedan alcanzar su perfil de Ingenieros Agropecuarios de la Facultad de Ciencias Agrarias de la Universidad de Antioquia - Campus Caucasia.\n",
    "     *  Definición de la sección cónica de la parábola como lugar geométrico de puntos que equidistan de un punto fijo (foco) y de una recta fija (directriz).\n",
    "     *  ¿Cómo cambia la forma de la parábola al variar la distancia focal $f$?\n",
    "     *  Ejemplos de aplicaciones de la parábola en la agricultura: uso de parábolas para la riego, comunicaciones y otras. \n",
    "5. Elementos Epistemológicos e históricos para esta clase.\n",
    "6. Actividades de aprendizaje\n",
    "7. Tarea o actividades de ejercitación y fijación.\n",
    "8. Evaluación que incluya 5 proyectos, un quiz y un parcial. \n",
    "9.  Diseño de actividad de retroalimentación.   \n",
    "\n",
    "Pero  que este diseño sea para que el estudiante pueda aprender experimentando en cuadernos Jupyter con funciones de usuario y animaciones y visualizaciones en python. En particular usa Numpy, Pandas, Matplotlib.pyplot, Seaborn, Plotly, Scikit-learn, Scipy, ipywidgets, matplotlib.animation y SymPy y Jupyter notebook."
   ]
  },
  {
   "cell_type": "markdown",
   "id": "c988e184",
   "metadata": {},
   "source": [
    "\n",
    "### **1. Título de la clase**  \n",
    "\"**Parábolas en la Ingeniería Agropecuaria: Modelando Fenómenos Naturales y Tecnológicos**\"\n",
    "\n",
    "---\n"
   ]
  },
  {
   "cell_type": "markdown",
   "id": "f9e0902f",
   "metadata": {},
   "source": [
    "\n",
    "### **2. Objetivos de Aprendizaje e Indicadores**  \n"
   ]
  },
  {
   "cell_type": "markdown",
   "id": "e34bae88",
   "metadata": {},
   "source": [
    "| **Objetivos** | **Indicadores de Logro** |\n",
    "|---------------|--------------------------|\n",
    "| 1. Comprender la parábola como sección cónica y su relación con fenómenos agropecuarios | - Derivan ecuaciones canónicas desde definiciones geométricas<br>- Simulan variaciones paramétricas en Jupyter |\n",
    "| 2. Analizar el efecto de la distancia focal en sistemas agrícolas | - Crean visualizaciones interactivas con `ipywidgets`<br>- Relacionan parámetros matemáticos con variables físicas |\n",
    "| 3. Aplicar modelos parabólicos en diseño de sistemas de riego y comunicaciones | - Desarrollan prototipos computacionales con `scipy`<br>- Optimizan parámetros usando `sympy` |\n",
    "\n",
    "---\n"
   ]
  },
  {
   "cell_type": "markdown",
   "id": "224be1f8",
   "metadata": {},
   "source": [
    "\n",
    "### **3. Mapa Conceptual en Graphviz**  \n"
   ]
  },
  {
   "cell_type": "code",
   "execution_count": 13,
   "id": "1181306a",
   "metadata": {},
   "outputs": [
    {
     "data": {
      "text/plain": [
       "'C:\\\\Users\\\\marco\\\\Documentos\\\\docencia\\\\calculo\\\\classes\\\\3_calculo\\\\5_calculo_vectorial\\\\1_cap_10\\\\1_class_conicas\\\\images\\\\mapa_parabola\\\\Digraph.gv.png'"
      ]
     },
     "execution_count": 13,
     "metadata": {},
     "output_type": "execute_result"
    }
   ],
   "source": [
    "from graphviz import Digraph\n",
    "\n",
    "dot = Digraph(comment='Mapa Parábola', \n",
    "              format='png',\n",
    "              engine='dot',  # Cambiamos a 'dot' para mejor jerarquización\n",
    "              graph_attr={\n",
    "                  'rankdir': 'TB',\n",
    "                  'nodesep': '1.0',  # Espacio entre nodos\n",
    "                  'ranksep': '0.5'   # Espacio entre niveles\n",
    "              },\n",
    "              node_attr={\n",
    "                  'style': 'filled',\n",
    "                  'fontname': 'Helvetica',\n",
    "                  'width': '1.5',     # Ancho mínimo de nodos\n",
    "                  'height': '0.8'     # Altura mínima de nodos\n",
    "              })\n",
    "\n",
    "# Nodos principales con agrupación jerárquica\n",
    "with dot.subgraph(name='cluster_main') as main:\n",
    "    main.attr(style='rounded', color='lightgrey')\n",
    "    \n",
    "    # Nivel 1\n",
    "    main.node('A', 'Secciones Cónicas', shape='ellipse', color='#4B0082', fillcolor='#E6E6FA')\n",
    "    \n",
    "    # Nivel 2\n",
    "    main.node('B', 'Parábola', shape='doubleoctagon', color='#8B0000', fillcolor='#FFB6C1')\n",
    "    \n",
    "    # Nivel 3\n",
    "    main.node('C', 'Aplicaciones Agropecuarias', shape='component', color='#006400', fillcolor='#90EE90')\n",
    "\n",
    "# Subnodos parábola con agrupación horizontal\n",
    "with dot.subgraph(name='cluster_sub') as sub:\n",
    "    sub.attr(rank='same', style='dashed')\n",
    "    sub.node('D', 'Ecuación Canónica:\\n$y^2 = 4px$', shape='note', color='#8B4513', fillcolor='#F5DEB3')\n",
    "    sub.node('E', 'Propiedades Focales', shape='tab', color='#4B0082', fillcolor='#E0B0FF')\n",
    "    sub.node('F', 'Optimización con Cálculo', shape='folder', color='#2F4F4F', fillcolor='#AFEEEE')\n",
    "\n",
    "# Conexiones principales\n",
    "dot.edges(['AB', 'BC'])\n",
    "dot.edge('B', 'D', style='dashed')\n",
    "dot.edge('B', 'E', style='dashed')\n",
    "dot.edge('B', 'F', style='dashed')\n",
    "dot.edge('C', 'F', label=' Relación ', style='dashed', color='#808080')\n",
    "\n",
    "# Ordenamiento jerárquico explícito\n",
    "dot.edge('A', 'B', minlen='2')  # Fuerza distancia vertical\n",
    "dot.edge('B', 'C', minlen='2')\n",
    "\n",
    "# Conexiones invisibles para alinear subnodos\n",
    "dot.edge('D', 'E', style='invis')\n",
    "dot.edge('E', 'F', style='invis')\n",
    "\n",
    "# Renderizar y guardar\n",
    "dot.render(directory=r'C:/Users/marco/Documentos/docencia/calculo/classes/3_calculo/5_calculo_vectorial/1_cap_10/1_class_conicas/images/mapa_parabola', \n",
    "          view=True,\n",
    "          cleanup=True)  # Limpia archivos temporales\n"
   ]
  },
  {
   "cell_type": "markdown",
   "id": "da041290",
   "metadata": {},
   "source": [
    "\n",
    "---\n",
    "\n",
    "### **4. Contenido Adaptado a Ingeniería Agropecuaria**  \n",
    "**a. Definición Geométrica**  \n"
   ]
  },
  {
   "cell_type": "code",
   "execution_count": null,
   "id": "48740d44",
   "metadata": {},
   "outputs": [],
   "source": [
    "# En Jupyter: Visualización interactiva\n",
    "import matplotlib.pyplot as plt\n",
    "import numpy as np\n",
    "from ipywidgets import interact\n",
    "\n",
    "def plot_parabola(foco=2):\n",
    "    x = np.linspace(0, 10, 400)\n",
    "    y = np.sqrt(4*foco*x)\n",
    "    plt.figure(figsize=(8,6))\n",
    "    plt.plot(x, y, 'g-', label='Parábola')\n",
    "    plt.scatter([foco], [0], c='red', label='Foco')\n",
    "    plt.axvline(-foco, color='blue', label='Directriz') # recta directriz \n",
    "    plt.title(f'Parábola: $y^2 = {4*foco}x$')\n",
    "    plt.legend()\n",
    "    plt.grid(True)\n",
    "    plt.axis([-5, 20, -1, 15]) # Fijar el rectángulo de visualización \n",
    "    plt.show()\n",
    "\n",
    "interact(plot_parabola, foco=(1, 5))\n",
    "\n"
   ]
  },
  {
   "cell_type": "markdown",
   "id": "74d22cc2",
   "metadata": {},
   "source": [
    "\n",
    "**b. Variación de la Distancia Focal**  \n"
   ]
  },
  {
   "cell_type": "code",
   "execution_count": 4,
   "id": "d04a5318",
   "metadata": {},
   "outputs": [
    {
     "data": {
      "text/plain": [
       "Text(0.5, 1.0, 'Relación Foco-Curvatura en Parábolas')"
      ]
     },
     "execution_count": 4,
     "metadata": {},
     "output_type": "execute_result"
    },
    {
     "data": {
      "image/png": "[encoded data removed]",
      "text/plain": [
       "<Figure size 640x480 with 1 Axes>"
      ]
     },
     "metadata": {},
     "output_type": "display_data"
    }
   ],
   "source": [
    "\n",
    "# Análisis con pandas y visualización\n",
    "import numpy as np \n",
    "import pandas as pd\n",
    "import matplotlib.pyplot as plt \n",
    "import seaborn as sns \n",
    "\n",
    "focos = np.arange(1, 6)\n",
    "datos = pd.DataFrame({\n",
    "    'Foco': focos,\n",
    "    'Apertura': 1/(4*focos),\n",
    "    'Curvatura': np.sqrt(focos)\n",
    "})\n",
    "\n",
    "sns.lineplot(data=datos, x='Foco', y='Curvatura', marker='o')\n",
    "plt.title('Relación Foco-Curvatura en Parábolas')\n",
    "\n"
   ]
  },
  {
   "cell_type": "markdown",
   "id": "c186ccc4",
   "metadata": {},
   "source": [
    "\n",
    "**c. Aplicaciones Agrícolas**  \n",
    "- **Riego Parabólico**: Simulación de trayectorias de agua con `scipy.integrate`\n",
    "- **Antenas para Comunicaciones Rurales**: Optimización de parámetros con `sympy`\n",
    "\n",
    "---\n"
   ]
  },
  {
   "cell_type": "markdown",
   "id": "433bc68c",
   "metadata": {},
   "source": [
    "\n",
    "### **5. Elementos Epistemológicos**  \n",
    "- **Histórico**: Estudio de Apolonio de Perga (200 a.C.) y su aplicación por Galileo en trayectorias parabólicas\n",
    "- **Agropecuario**: Uso moderno en sistemas de riego por aspersión y diseño de invernaderos\n",
    "\n",
    "---\n"
   ]
  },
  {
   "cell_type": "markdown",
   "id": "bf7adb68",
   "metadata": {},
   "source": [
    "\n",
    "### **6. Actividades de Aprendizaje ABPP**  \n",
    "**Proyecto 1**:  \n"
   ]
  },
  {
   "cell_type": "markdown",
   "id": "88b4cc1c",
   "metadata": {},
   "source": [
    "**Descripción del Proyecto:**  \n",
    "**Título:** \"Modelado Computacional de Parábolas para Optimización de Sistemas de Riego en Ingeniería Agropecuaria\"  \n",
    "\n",
    "**Objetivo:**  \n",
    "Desarrollar un sistema computacional en Python que modele trayectorias parabólicas para optimizar el diseño de sistemas de riego agrícola, integrando conceptos de cálculo vectorial y análisis numérico.  \n",
    "\n",
    "**Componentes Clave:**  \n",
    "1. **Mapa Conceptual Interactivo**: Generación automática de diagramas de relaciones entre conceptos matemáticos y aplicaciones agrícolas.  \n",
    "2. **Simulación Física**: Modelado de trayectorias de agua mediante ecuaciones parabólicas.  \n",
    "3. **Optimización**: Ajuste de parámetros (ángulo, presión) para maximizar la eficiencia hídrica.  \n",
    "\n",
    "**Herramientas Utilizadas:**  \n"
   ]
  },
  {
   "cell_type": "code",
   "execution_count": 4,
   "id": "52440a8e",
   "metadata": {},
   "outputs": [
    {
     "ename": "ModuleNotFoundError",
     "evalue": "No module named 'scipy'",
     "output_type": "error",
     "traceback": [
      "\u001b[1;31m---------------------------------------------------------------------------\u001b[0m",
      "\u001b[1;31mModuleNotFoundError\u001b[0m                       Traceback (most recent call last)",
      "Cell \u001b[1;32mIn[4], line 4\u001b[0m\n\u001b[0;32m      2\u001b[0m \u001b[38;5;28;01mimport\u001b[39;00m \u001b[38;5;21;01mnumpy\u001b[39;00m \u001b[38;5;28;01mas\u001b[39;00m \u001b[38;5;21;01mnp\u001b[39;00m\n\u001b[0;32m      3\u001b[0m \u001b[38;5;28;01mimport\u001b[39;00m \u001b[38;5;21;01mmatplotlib\u001b[39;00m\u001b[38;5;21;01m.\u001b[39;00m\u001b[38;5;21;01mpyplot\u001b[39;00m \u001b[38;5;28;01mas\u001b[39;00m \u001b[38;5;21;01mplt\u001b[39;00m\n\u001b[1;32m----> 4\u001b[0m \u001b[38;5;28;01mfrom\u001b[39;00m \u001b[38;5;21;01mscipy\u001b[39;00m\u001b[38;5;21;01m.\u001b[39;00m\u001b[38;5;21;01moptimize\u001b[39;00m \u001b[38;5;28;01mimport\u001b[39;00m minimize\n\u001b[0;32m      5\u001b[0m \u001b[38;5;28;01mfrom\u001b[39;00m \u001b[38;5;21;01mmatplotlib\u001b[39;00m\u001b[38;5;21;01m.\u001b[39;00m\u001b[38;5;21;01manimation\u001b[39;00m \u001b[38;5;28;01mimport\u001b[39;00m FuncAnimation\n\u001b[0;32m      6\u001b[0m \u001b[38;5;28;01mimport\u001b[39;00m \u001b[38;5;21;01mplotly\u001b[39;00m\u001b[38;5;21;01m.\u001b[39;00m\u001b[38;5;21;01mgraph_objects\u001b[39;00m \u001b[38;5;28;01mas\u001b[39;00m \u001b[38;5;21;01mgo\u001b[39;00m\n",
      "\u001b[1;31mModuleNotFoundError\u001b[0m: No module named 'scipy'"
     ]
    }
   ],
   "source": [
    "# Bibliotecas principales\n",
    "import numpy as np\n",
    "import matplotlib.pyplot as plt\n",
    "from scipy.optimize import minimize\n",
    "from matplotlib.animation import FuncAnimation\n",
    "import plotly.graph_objects as go\n",
    "\n"
   ]
  },
  {
   "cell_type": "markdown",
   "id": "6203c38d",
   "metadata": {},
   "source": [
    "\n",
    "---\n",
    "\n",
    "### **Imágenes Generadas (Código para Reproducirlas):**  \n",
    "\n",
    "#### **1. Mapa Conceptual Jerárquico** (Resultado del Graphviz corregido):  \n",
    "![mapa_parabola](https://github.com/AllenDowney/ThinkComplexity2/raw/master/notebooks/figs/mapa_parabola.png)  \n",
    "*(Nota: Esta es una representación conceptual. Ejecuta el script Graphviz corregido para generar tu versión local)*  \n",
    "\n",
    "---\n",
    "\n",
    "#### **2. Simulación de Trayectorias Parabólicas**  \n",
    "```python\n",
    "# Generar imagen de trayectorias\n",
    "def plot_trayectorias():\n",
    "    angles = np.deg2rad([30, 45, 60])\n",
    "    v0 = 20  # m/s\n",
    "    \n",
    "    plt.figure(figsize=(10, 6))\n",
    "    for theta in angles:\n",
    "        t = np.linspace(0, 2*v0*np.sin(theta)/9.81, 100)\n",
    "        x = v0 * np.cos(theta) * t\n",
    "        y = v0 * np.sin(theta) * t - 0.5*9.81*t**2\n",
    "        plt.plot(x, y, label=f'{np.rad2deg(theta):.0f}°')\n",
    "    \n",
    "    plt.title('Trayectorias Parabólicas de Riego')\n",
    "    plt.xlabel('Distancia (m)')\n",
    "    plt.ylabel('Altura (m)')\n",
    "    plt.legend()\n",
    "    plt.grid(True)\n",
    "    plt.savefig('trayectorias_riego.png', dpi=300)\n",
    "    plt.show()\n",
    "\n",
    "plot_trayectorias()\n",
    "```\n",
    "\n",
    "---\n",
    "\n",
    "#### **3. Optimización de Parámetros con Scipy**  \n",
    "```python\n",
    "# Generar gráfica de optimización\n",
    "def optimizacion_riego():\n",
    "    def perdida_agua(params):\n",
    "        p, theta = params\n",
    "        return (4*p*np.tan(theta) - 15)**2  # Función objetivo\n",
    "    \n",
    "    resultados = []\n",
    "    for p_inicial in [1, 2, 3]:\n",
    "        res = minimize(perdida_agua, [p_inicial, np.pi/4])\n",
    "        resultados.append(res.x)\n",
    "    \n",
    "    plt.figure(figsize=(8, 5))\n",
    "    plt.plot([r[0] for r in resultados], [r[1] for r in resultados], 'o-')\n",
    "    plt.title('Optimización de Parámetros de Riego')\n",
    "    plt.xlabel('Distancia Focal (p)')\n",
    "    plt.ylabel('Ángulo (rad)')\n",
    "    plt.grid(True)\n",
    "    plt.savefig('optimizacion.png', dpi=300)\n",
    "    plt.show()\n",
    "\n",
    "optimizacion_riego()\n",
    "```\n",
    "\n",
    "---\n",
    "\n",
    "#### **4. Modelado 3D de Terreno con Parábolas**  \n",
    "```python\n",
    "# Generar modelo 3D interactivo\n",
    "def terreno_3d():\n",
    "    x = np.linspace(-5, 5, 50)\n",
    "    y = np.linspace(-5, 5, 50)\n",
    "    X, Y = np.meshgrid(x, y)\n",
    "    Z = X**2 + Y**2  # Superficie parabólica\n",
    "    \n",
    "    fig = go.Figure(data=[go.Surface(z=Z, colorscale='Earth')])\n",
    "    fig.update_layout(\n",
    "        title='Modelado 3D de Terreno para Riego',\n",
    "        scene=dict(\n",
    "            xaxis_title='Eje X (m)',\n",
    "            yaxis_title='Eje Y (m)',\n",
    "            zaxis_title='Altura (m)'\n",
    "        )\n",
    "    )\n",
    "    fig.write_image(\"terreno_3d.png\")\n",
    "    fig.show()\n",
    "\n",
    "terreno_3d()\n",
    "```\n",
    "\n",
    "---\n",
    "\n",
    "**Notas Importantes:**  \n",
    "1. Ejecuta los scripts en tu entorno local para generar las imágenes.  \n",
    "2. Asegúrate de tener instaladas todas las dependencias:  \n",
    "```bash\n",
    "pip install numpy matplotlib scipy plotly graphviz\n",
    "```  \n",
    "3. Los gráficos generados se guardarán en el directorio actual como:  \n",
    "   - `trayectorias_riego.png`  \n",
    "   - `optimizacion.png`  \n",
    "   - `terreno_3d.png`  \n",
    "\n",
    "Este proyecto integra conceptos matemáticos con aplicaciones prácticas en agricultura, desarrollando competencias clave en modelado computacional para ingenieros agropecuarios."
   ]
  },
  {
   "cell_type": "markdown",
   "id": "9c7ef292",
   "metadata": {},
   "source": [
    "\n",
    "---\n",
    "\n",
    "### **7. Tareas**  \n",
    "**Ejercicio**:  \n",
    "```python\n",
    "# Análisis de datos reales con pandas\n",
    "datos_riego = pd.read_csv('datos_riego.csv')\n",
    "sns.regplot(x='presion', y='alcance', data=datos_riego, order=2)\n",
    "plt.title('Modelo Parabólico de Alcance de Riego')\n",
    "```\n",
    "\n",
    "---\n",
    "\n",
    "### **8. Evaluación**  \n",
    "| **Componente** | **Herramientas Usadas** | **Evaluación** |\n",
    "|----------------|-------------------------|----------------|\n",
    "| Proyecto 1: Optimización de Riego | `scipy`, `matplotlib` | Rúbrica de eficiencia hídrica |\n",
    "| Quiz: Teoría Parabólica | Jupyter Widgets | Automatizado con `nbgrader` |\n",
    "| Parcial: Modelado Integral | `sympy`, `plotly` | Presentación 3D interactiva |\n",
    "\n",
    "---\n",
    "\n",
    "### **9. Retroalimentación**  \n",
    "**Actividad en Jupyter**:  \n",
    "```python\n",
    "# Widget interactivo de autoevaluación\n",
    "from ipywidgets import RadioButtons, Output\n",
    "\n",
    "preguntas = {\n",
    "    \"¿Cómo afecta aumentar p en y²=4px?\": ['Abre la parábola', 'Cierra la parábola'],\n",
    "    \"Aplicación clave en agricultura\": ['Riego parabólico', 'Cosecha circular']\n",
    "}\n",
    "\n",
    "def verificar_respuestas(change):\n",
    "    with output:\n",
    "        print(\"Respuestas correctas:\\n1. Abre la parábola\\n2. Riego parabólico\")\n",
    "\n",
    "radio = RadioButtons(options=preguntas[\"¿Cómo afecta aumentar p en y²=4px?\"])\n",
    "output = Output()\n",
    "radio.observe(verificar_respuestas, names='value')\n",
    "display(radio, output)\n",
    "```\n",
    "\n",
    "---\n",
    "\n",
    "### **Recursos Tecnológicos**  \n",
    "- **Plantillas de Código**: Notebooks Jupyter preconfigurados con celdas interactivas\n",
    "- **Dataset Público**: [FAO Water Reports](https://www.fao.org/aquastat) para análisis reales\n",
    "- **Visualización 3D**: `plotly.graph_objects` para modelado de superficies parabólicas en terrenos agrícolas\n",
    "\n",
    "Este diseño integra cálculo multivariable con aplicaciones prácticas en ingeniería agrícola, utilizando herramientas modernas de análisis numérico y visualización científica."
   ]
  },
  {
   "cell_type": "code",
   "execution_count": 5,
   "id": "9b184101",
   "metadata": {},
   "outputs": [],
   "source": [
    "def save_fig(nombre_archivo_imagen):\n",
    "    ubicacion_para_imagenes = r\"C:/Users/marco/Documentos/docencia/calculo/classes/3_calculo/6_analisis_numerico/1_ceros_funciones/images\"\n",
    "    imagen_path = os.path.join(ubicacion_para_imagenes, nombre_archivo_imagen)\n",
    "    plt.savefig(imagen_path, bbox_inches='tight')"
   ]
  },
  {
   "cell_type": "markdown",
   "id": "a8a30026",
   "metadata": {},
   "source": [
    "# Implementación de esta estructura de clase  \n",
    "\n"
   ]
  },
  {
   "cell_type": "markdown",
   "id": "385be177",
   "metadata": {},
   "source": [
    "Aquí tienes un diseño de clase integrando los enfoques STEAMS y ABPP, con implementación práctica en Python:\n",
    "\n",
    "---\n",
    "\n",
    "### **1. Título de la clase**  \n",
    "\"**Parábolas en la Ingeniería Agropecuaria: Modelando Fenómenos Naturales y Tecnológicos**\"\n",
    "\n",
    "---\n",
    "\n",
    "### **2. Objetivos de Aprendizaje e Indicadores**  \n",
    "| **Objetivos** | **Indicadores de Logro** |\n",
    "|---------------|--------------------------|\n",
    "| 1. Comprender la parábola como sección cónica y su relación con fenómenos agropecuarios | - Derivan ecuaciones canónicas desde definiciones geométricas<br>- Simulan variaciones paramétricas en Jupyter |\n",
    "| 2. Analizar el efecto de la distancia focal en sistemas agrícolas | - Crean visualizaciones interactivas con `ipywidgets`<br>- Relacionan parámetros matemáticos con variables físicas |\n",
    "| 3. Aplicar modelos parabólicos en diseño de sistemas de riego y comunicaciones | - Desarrollan prototipos computacionales con `scipy`<br>- Optimizan parámetros usando `sympy` |\n",
    "\n",
    "---\n",
    "\n",
    "### **3. Mapa Conceptual en Graphviz**  \n",
    "```python\n",
    "from graphviz import Digraph\n",
    "\n",
    "dot = Digraph(comment='Mapa Parábola', \n",
    "              format='png',\n",
    "              engine='neato',\n",
    "              graph_attr={'rankdir':'TB'},\n",
    "              node_attr={'style':'filled', 'fontname':'Helvetica'})\n",
    "\n",
    "# Nodos principales\n",
    "dot.node('A', 'Secciones Cónicas', shape='ellipse', color='#4B0082', fillcolor='#E6E6FA')\n",
    "dot.node('B', 'Parábola', shape='doubleoctagon', color='#8B0000', fillcolor='#FFB6C1')\n",
    "dot.node('C', 'Aplicaciones Agropecuarias', shape='component', color='#006400', fillcolor='#90EE90')\n",
    "\n",
    "# Subnodos parábola\n",
    "dot.node('D', 'Ecuación Canónica:\\n$y^2 = 4px$', shape='note', color='#8B4513', fillcolor='#F5DEB3')\n",
    "dot.node('E', 'Propiedades Focales', shape='tab', color='#4B0082', fillcolor='#E0B0FF')\n",
    "dot.node('F', 'Optimización con Cálculo', shape='folder', color='#2F4F4F', fillcolor='#AFEEEE')\n",
    "\n",
    "# Conexiones\n",
    "dot.edges(['AB', 'BC', 'BD', 'BE', 'BF', 'CF'])\n",
    "dot.edge('C', 'F', label='Relación', style='dashed')\n",
    "\n",
    "# Renderizar y guardar\n",
    "dot.render(directory=r'C:\\Users\\marco\\Documentos\\docencia\\calculo\\classes\\3_calculo\\5_calculo_vectorial\\1_cap_10\\1_class_conicas\\images\\mapa_parabola', \n",
    "          view=True)\n",
    "```\n",
    "\n",
    "---\n",
    "\n",
    "### **4. Contenido Adaptado a Ingeniería Agropecuaria**  \n",
    "**a. Definición Geométrica**  \n",
    "```python\n",
    "# En Jupyter: Visualización interactiva\n",
    "import matplotlib.pyplot as plt\n",
    "import numpy as np\n",
    "from ipywidgets import interact\n",
    "\n",
    "def plot_parabola(foco=2):\n",
    "    x = np.linspace(-10, 10, 400)\n",
    "    y = np.sqrt(4*foco*x)\n",
    "    plt.figure(figsize=(8,6))\n",
    "    plt.plot(x, y, 'g-', label='Parábola')\n",
    "    plt.scatter([foco], [0], c='red', label='Foco')\n",
    "    plt.axvline(-foco, color='blue', label='Directriz')\n",
    "    plt.title(f'Parábola: $y^2 = {4*foco}x$')\n",
    "    plt.legend()\n",
    "    plt.grid(True)\n",
    "    plt.show()\n",
    "\n",
    "interact(plot_parabola, foco=(1, 5))\n",
    "```\n",
    "\n",
    "**b. Variación de la Distancia Focal**  \n",
    "```python\n",
    "# Análisis con pandas y visualización\n",
    "import pandas as pd\n",
    "\n",
    "focos = np.arange(1, 6)\n",
    "datos = pd.DataFrame({\n",
    "    'Foco': focos,\n",
    "    'Apertura': 1/(4*focos),\n",
    "    'Curvatura': np.sqrt(focos)\n",
    "})\n",
    "\n",
    "sns.lineplot(data=datos, x='Foco', y='Curvatura', marker='o')\n",
    "plt.title('Relación Foco-Curvatura en Parábolas')\n",
    "```\n",
    "\n",
    "**c. Aplicaciones Agrícolas**  \n",
    "- **Riego Parabólico**: Simulación de trayectorias de agua con `scipy.integrate`\n",
    "- **Antenas para Comunicaciones Rurales**: Optimización de parámetros con `sympy`\n",
    "\n",
    "---\n",
    "\n",
    "### **5. Elementos Epistemológicos**  \n",
    "- **Histórico**: Estudio de Apolonio de Perga (200 a.C.) y su aplicación por Galileo en trayectorias parabólicas\n",
    "- **Agropecuario**: Uso moderno en sistemas de riego por aspersión y diseño de invernaderos\n",
    "\n",
    "---\n",
    "\n",
    "### **6. Actividades de Aprendizaje ABPP**  \n",
    "**Proyecto 1**:  \n",
    "```python\n",
    "# Modelado de sistema de riego\n",
    "from scipy.optimize import minimize\n",
    "\n",
    "def perdida_agua(params):\n",
    "    p, angulo = params\n",
    "    return (4*p*np.tan(angulo) - 15)**2  # Función a minimizar\n",
    "\n",
    "resultado = minimize(perdida_agua, [2, np.pi/4))\n",
    "print(f\"Parámetros óptimos: p={resultado.x[0]:.2f}, ángulo={np.degrees(resultado.x[1]):.2f}°\")\n",
    "```\n",
    "\n",
    "---\n",
    "\n",
    "### **7. Tareas**  \n",
    "**Ejercicio**:  \n",
    "```python\n",
    "# Análisis de datos reales con pandas\n",
    "datos_riego = pd.read_csv('datos_riego.csv')\n",
    "sns.regplot(x='presion', y='alcance', data=datos_riego, order=2)\n",
    "plt.title('Modelo Parabólico de Alcance de Riego')\n",
    "```\n",
    "\n",
    "---\n",
    "\n",
    "### **8. Evaluación**  \n",
    "| **Componente** | **Herramientas Usadas** | **Evaluación** |\n",
    "|----------------|-------------------------|----------------|\n",
    "| Proyecto 1: Optimización de Riego | `scipy`, `matplotlib` | Rúbrica de eficiencia hídrica |\n",
    "| Quiz: Teoría Parabólica | Jupyter Widgets | Automatizado con `nbgrader` |\n",
    "| Parcial: Modelado Integral | `sympy`, `plotly` | Presentación 3D interactiva |\n",
    "\n",
    "---\n",
    "\n",
    "### **9. Retroalimentación**  \n",
    "**Actividad en Jupyter**:  \n",
    "```python\n",
    "# Widget interactivo de autoevaluación\n",
    "from ipywidgets import RadioButtons, Output\n",
    "\n",
    "preguntas = {\n",
    "    \"¿Cómo afecta aumentar p en y²=4px?\": ['Abre la parábola', 'Cierra la parábola'],\n",
    "    \"Aplicación clave en agricultura\": ['Riego parabólico', 'Cosecha circular']\n",
    "}\n",
    "\n",
    "def verificar_respuestas(change):\n",
    "    with output:\n",
    "        print(\"Respuestas correctas:\\n1. Abre la parábola\\n2. Riego parabólico\")\n",
    "\n",
    "radio = RadioButtons(options=preguntas[\"¿Cómo afecta aumentar p en y²=4px?\"])\n",
    "output = Output()\n",
    "radio.observe(verificar_respuestas, names='value')\n",
    "display(radio, output)\n",
    "```\n",
    "\n",
    "---\n",
    "\n",
    "### **Recursos Tecnológicos**  \n",
    "- **Plantillas de Código**: Notebooks Jupyter preconfigurados con celdas interactivas\n",
    "- **Dataset Público**: [FAO Water Reports](https://www.fao.org/aquastat) para análisis reales\n",
    "- **Visualización 3D**: `plotly.graph_objects` para modelado de superficies parabólicas en terrenos agrícolas\n",
    "\n",
    "Este diseño integra cálculo multivariable con aplicaciones prácticas en ingeniería agrícola, utilizando herramientas modernas de análisis numérico y visualización científica."
   ]
  },
  {
   "cell_type": "markdown",
   "id": "239427f7",
   "metadata": {},
   "source": [
    "# ARTÍCULO 1. Definir el calendario académico para los diferentes programas de pregrado de los campus\n",
    "regionalizados, correspondiente al primer periodo académico del año 2025, así:\n",
    "* Oferta 28 de enero de 2025\n",
    "* Matrícula 30 de enero de 2025\n",
    "* Ajustes 03 al 10 de febrero de 2025\n",
    "* Inicio de clases 10 de febrero de 2025\n",
    "* Límite evaluación del 40% 06 de abril de 2025\n",
    "* Terminación de clases 08 de junio de 2025\n",
    "* Exámenes finales 09 al 15 de junio de 2025\n",
    "* Habilitación y validación 16 al 22 de junio de 2025\n",
    "* Terminación oficial 23 de junio de 2025"
   ]
  },
  {
   "cell_type": "code",
   "execution_count": null,
   "id": "ec048afb",
   "metadata": {},
   "outputs": [],
   "source": []
  },
  {
   "cell_type": "code",
   "execution_count": null,
   "id": "c804f8d3",
   "metadata": {},
   "outputs": [],
   "source": []
  },
  {
   "cell_type": "code",
   "execution_count": null,
   "id": "cc539357",
   "metadata": {},
   "outputs": [],
   "source": []
  },
  {
   "cell_type": "markdown",
   "id": "740f3401",
   "metadata": {
    "slideshow": {
     "slide_type": "slide"
    }
   },
   "source": [
    "# Componente de manejo de calculadora Casio asociado al objetivo de aprendizaje de esta clase  \n",
    "\n",
    "## Pasos para lograr el objetivo de aprendizaje con la experimentación en la calculadora Casio 991LA cw  "
   ]
  },
  {
   "cell_type": "markdown",
   "id": "8ba64aed",
   "metadata": {},
   "source": [
    "# Cursos que orienta el profesor Marco Julio Cañas Campillo en 2025  \n",
    "\n",
    "1. Práctica Pedagógica V para Licenciatura en Educación Infantil\n",
    "2. Fundamentos de Lógica para Licenciatura en Matemáticas \n",
    "3. Análisis Numérico para Licenciatura en Matemáticas. \n",
    "4. Cálculo Vectorial para Ingeniería Agropecuaria"
   ]
  },
  {
   "cell_type": "markdown",
   "id": "8d41fe58",
   "metadata": {
    "slideshow": {
     "slide_type": "slide"
    }
   },
   "source": [
    "# Horario de clases del profesor Marco\n",
    "\n",
    "* Lunes 8-12: Cálculo Vectorial\n",
    "* Martes 8-12 M: Fundamentos de Aritmética. \n",
    "* Miércoles 8 a 12 M: Fundamentos de la Lógica\n",
    "* Jueves 2 a 6 PM: Desarrollo del pensamiento matemático en la infancia. \n",
    "* Viernes 8 - 12 M: Desarrollo del pensamiento matemático en la infancia. \n",
    "* Sábados 8-12 Asesorías y espacio para retroalimentación y apoyo al trabajo independiente. "
   ]
  },
  {
   "cell_type": "markdown",
   "id": "ae114e14",
   "metadata": {
    "slideshow": {
     "slide_type": "slide"
    }
   },
   "source": [
    "# Horarios de monitoría y asesoría  \n",
    "\n",
    "Coordinador de los cursos de la Facultad de Educación para regiones:    \n",
    "\n",
    "Andrés Vélez: regioneducacion.fedu@udea.edu.co  \n",
    "Coordinador Regiones  \n",
    "Facultad de Educación  \n",
    "Universidad de Antioquia  "
   ]
  },
  {
   "cell_type": "markdown",
   "id": "b1db4b6c",
   "metadata": {
    "slideshow": {
     "slide_type": "slide"
    }
   },
   "source": [
    "## Monitores presenciales   \n",
    "\n",
    "* Manuel San Juan Serrano:  Contactar escribiendo al correo: manuel.serrano1@udea.edu.co\n",
    "* Yeifry Sebastián Uribe: Contactar escribiendo al correo: yeifry.uribe@udea.edu.co"
   ]
  },
  {
   "cell_type": "markdown",
   "id": "39559692",
   "metadata": {
    "slideshow": {
     "slide_type": "slide"
    }
   },
   "source": [
    "Martes y jueves de 8 - 12  \n",
    "Miércoles 10 - 12 y de 2 a 4 PM  \n",
    "Sábado: 8 - 12"
   ]
  },
  {
   "cell_type": "markdown",
   "id": "10bce0d0",
   "metadata": {
    "slideshow": {
     "slide_type": "slide"
    }
   },
   "source": [
    "## Referentes "
   ]
  },
  {
   "cell_type": "markdown",
   "id": "1db3c468",
   "metadata": {
    "slideshow": {
     "slide_type": "slide"
    }
   },
   "source": [
    "* [CALCULO I DE UNA VARIABLE Ron Larson-Bruce Edwards. Mc Graw Hill. 9º Edición](https://www.academia.edu/42139251/CALCULO_I_DE_UNA_VARIABLE_Ron_Larson_Bruce_Edwards_Mc_Graw_Hill_9o_Edici%C3%B3n)   \n",
    "  \n",
    "\n",
    "* [Grajales Vanegas, L. M., Restrepo Estrada, C. E., Restrepo Ochoa, S. I., & Ruíz De Villalba, F. (2015). Matemáticas I para las ciencias económicas.](https://bibliotecadigital.udea.edu.co/handle/10495/3010)\n",
    "  \n",
    "* R. Duval y Semiosis y pensamiento humano, 2.ª ed. Cali, Colombia: Programa Editorial Universidad del Valle, 2017. [En línea]. Disponible en: https://programaeditorial.univalle.edu.co/gpd-semiosis-y-pensamiento-humano-9789587655278-63324cdb0f6b3.html\n",
    "\n",
    "* [Aylwin, C. U. (2011). Lógica, conjuntos y números. Universidad de los Andes, Consejo de Publicaciones, Colección: Ciencias Básicas, Serie: Matemáticas.](chrome-extension://efaidnbmnnnibpcajpcglclefindmkaj/https://www.u-cursos.cl/ciencias/2011/1/MC110/1/material_docente/bajar?id_material=574722)\n",
    "  \n",
    "* [Chollet, F. (2021). Deep learning with Python. Simon and Schuster.](chrome-extension://efaidnbmnnnibpcajpcglclefindmkaj/https://tanthiamhuat.wordpress.com/wp-content/uploads/2018/03/deeplearningwithpython.pdf)  \n",
    "  \n",
    "* [Watson, S., Stewart, J., & Redlin, L. (2009). Precálculo. Matemáticas para el cálculo.](https://github.com/marco-canas/calculo/blob/main/referents/1_precalculo_stewart/stewart_precalculo.pdf)  \n",
    "\n",
    "* [Purcell, E. J., Varberg, D., & Rigdon, S. E. (2007). Cálculo diferencial e integral. Pearson Educación.](https://github.com/marco-canas/calculo/blob/main/referents/purcell/purcell_calculo.pdf)\n",
    "\n",
    "  \n",
    "\n",
    "* [stewart cálculo](https://udeaeduco-my.sharepoint.com/:b:/g/personal/marco_canas_udea_edu_co/EZgXZjAp8QxPqOAim2hs6LcBNPLGjSHf-xwYnUVYkwa04w?e=RZdTCy)  \n",
    "\n",
    "\n",
    "\n",
    "\n",
    "\n",
    "* [Recomendación de la UNESCO sobre ciencia abierta](https://unesdoc.unesco.org/ark:/48223/pf0000379949_spa)\n",
    "\n",
    "* [chatGPT](https://openai.com/blog/chatgpt)  \n",
    "\n",
    "* [Géron, A. (2017). Hands-on machine learning with scikit-learn and tensorflow: Concepts. Tools, and Techniques to build intelligent systems.](chrome-extension://efaidnbmnnnibpcajpcglclefindmkaj/http://14.139.161.31/OddSem-0822-1122/Hands-On_Machine_Learning_with_Scikit-Learn-Keras-and-TensorFlow-2nd-Edition-Aurelien-Geron.pdf)   \n"
   ]
  },
  {
   "cell_type": "markdown",
   "id": "df925560",
   "metadata": {},
   "source": [
    "\n",
    "* [McKinney, W. (2012). Python for data analysis: Data wrangling with Pandas, NumPy, and IPython. \" O'Reilly Media, Inc.\".](https://wesmckinney.com/book/) "
   ]
  },
  {
   "cell_type": "markdown",
   "id": "8e65d6f9",
   "metadata": {},
   "source": [
    "# Como estudiante, encuentro que...   \n",
    "\n",
    "F: Mis Fortalezas son:     \n",
    "O: Mis Oportunidades son:    \n",
    "D: Mis Debilidades son:    \n",
    "A: Lo que Amenazas mi aprendizaje es:  "
   ]
  },
  {
   "cell_type": "markdown",
   "id": "6b9e56a8",
   "metadata": {
    "slideshow": {
     "slide_type": "slide"
    }
   },
   "source": [
    "### [Evaluamos al profesor Marco Cañas Aquí](https://forms.office.com/Pages/ResponsePage.aspx?id=IefhmYRxjkmK_7KtTlPBwkanXIs1i1FEujpsZgO6dXpUREJPV1kxUk1JV1ozTFJIQVNIQjY5WEY3US4u)"
   ]
  },
  {
   "cell_type": "markdown",
   "id": "10f43536",
   "metadata": {
    "slideshow": {
     "slide_type": "slide"
    }
   },
   "source": [
    "### Continue su aprendizaje en la siguiente clase a través del siguiente [vínculo]()"
   ]
  },
  {
   "cell_type": "markdown",
   "id": "53cc9115",
   "metadata": {
    "slideshow": {
     "slide_type": "slide"
    }
   },
   "source": [
    "## Agradecimientos  \n",
    "\n",
    "Doy gracias a Dios por la vida de mi Hijo Joseph Cañas Osorio y la madurez que ha alcanzado. Este hijo me enorgullece y me hace falta abrazarlo cada día. \n",
    "\n",
    "Y a mi esposa Yasmira Emperatriz Barboza Mogollón por su apoyo, orientación y acompañamiento. "
   ]
  },
  {
   "cell_type": "markdown",
   "id": "b6ba1c23",
   "metadata": {},
   "source": [
    "# Apéndice sobre calendarios y coordinaciones \n",
    "\n",
    "A continuación le envío el horario de la asignatura Cálculo Vectorial  \n",
    "\n",
    "Días:  \n",
    "Lunes - Hora: 7:00 a 12:00M  \n",
    "Fechas:  \n",
    "Febrero: 10-17-24                                          \n",
    " Marzo: 3-10-17-31                                                  \n",
    "Abril:7-21-28                                                   \n",
    "Mayo:5-12-19  \n",
    "\n",
    "Agradezco su apoyo, y si presenta alguna dificultad puede contactarme.  \n",
    "\n",
    "Cordialmente,  \n",
    "Juan Felipe Rivera Hernández  \n",
    "Contacto: 3106314300  "
   ]
  },
  {
   "cell_type": "markdown",
   "id": "0e66cd7c",
   "metadata": {},
   "source": [
    "# Clase de análisis numérico los Martes de 8 a 12 del medio día. "
   ]
  },
  {
   "cell_type": "markdown",
   "id": "c5ff61b1",
   "metadata": {},
   "source": []
  }
 ],
 "metadata": {
  "celltoolbar": "Slideshow",
  "kernelspec": {
   "display_name": ".venv",
   "language": "python",
   "name": "python3"
  },
  "language_info": {
   "codemirror_mode": {
    "name": "ipython",
    "version": 3
   },
   "file_extension": ".py",
   "mimetype": "text/x-python",
   "name": "python",
   "nbconvert_exporter": "python",
   "pygments_lexer": "ipython3",
   "version": "3.12.6"
  },
  "rise": {
   "enable_chalkboard": true,
   "theme": "sky",
   "transition": "zoom"
  }
 },
 "nbformat": 4,
 "nbformat_minor": 5
}
