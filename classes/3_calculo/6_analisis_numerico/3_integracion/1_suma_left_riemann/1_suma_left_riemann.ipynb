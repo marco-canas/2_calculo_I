{
 "cells": [
  {
   "cell_type": "markdown",
   "id": "dc06dec7",
   "metadata": {
    "slideshow": {
     "slide_type": "slide"
    }
   },
   "source": [
    "<table align=\"left\">\n",
    "  <td>\n",
    "    <a href=\"https://colab.research.google.com/github/ageron/handson-ml3/blob/main/tools_numpy.ipynb\" target=\"_parent\"><img src=\"https://colab.research.google.com/assets/colab-badge.svg\" alt=\"Open In Colab\"/></a>\n",
    "  </td>\n",
    "  <td>\n",
    "    <a target=\"_blank\" href=\"https://kaggle.com/kernels/welcome?src=https://github.com/ageron/handson-ml3/blob/main/tools_numpy.ipynb\"><img src=\"https://kaggle.com/static/images/open-in-kaggle.svg\" /></a>\n",
    "  </td>\n",
    "</table>"
   ]
  },
  {
   "cell_type": "markdown",
   "id": "e0c5b198",
   "metadata": {
    "slideshow": {
     "slide_type": "slide"
    }
   },
   "source": [
    "### [Video de apoyo a la lectura interactiva y experimental de este cuaderno]()"
   ]
  },
  {
   "cell_type": "markdown",
   "id": "41e82203",
   "metadata": {
    "slideshow": {
     "slide_type": "slide"
    }
   },
   "source": [
    "### [Vínculo al programa del curso:  ]()\n",
    "\n"
   ]
  },
  {
   "cell_type": "markdown",
   "id": "d11ab06d",
   "metadata": {
    "slideshow": {
     "slide_type": "slide"
    }
   },
   "source": [
    "Un reconocimiento a mis estudiantes que han construido conmigo este saber pedagógico:\n",
    "\n",
    "<img src = ''> \n",
    "\n"
   ]
  },
  {
   "cell_type": "markdown",
   "id": "8a74a56c-0ce6-4ad6-b985-553fd7fb68bb",
   "metadata": {},
   "source": [
    "Reconocimiento a las profesoras destacadas en enseñanza de la matemática en Colombia\n"
   ]
  },
  {
   "cell_type": "code",
   "execution_count": null,
   "id": "1fc181fa",
   "metadata": {},
   "outputs": [],
   "source": [
    "import pandas as pd\n",
    "import numpy as np\n",
    "\n",
    "# Cargar la lista de estudiantes desde el archivo CSV\n",
    "path = r\"C:\\Users\\marco\\Documentos\\docencia\\groups_list\\numerico.csv\"\n",
    "estudiantes = pd.read_csv(path) \n",
    "estudiantes "
   ]
  },
  {
   "cell_type": "markdown",
   "id": "2ea92512",
   "metadata": {},
   "source": [
    "Definitivamente, el archivo de lista de estudiantes de la universidad de antioquia debe ser leído por pandas.read_csv(path, sep = '\\t') pues es un archivo donde la información está separada por tabulaciones. "
   ]
  },
  {
   "cell_type": "code",
   "execution_count": null,
   "id": "7604880f",
   "metadata": {
    "slideshow": {
     "slide_type": "slide"
    }
   },
   "outputs": [],
   "source": [
    "import pandas as pd\n",
    "import numpy as np\n",
    "\n",
    "# Cargar la lista de estudiantes desde el archivo CSV\n",
    "path = r\"C:\\Users\\marco\\Documentos\\docencia\\groups_list\\numerico.csv\"\n",
    "estudiantes = pd.read_csv(path) \n",
    "estudiantes['Faltas'] = estudiantes['Faltas'].astype(np.int64)  # Asegurar que la columna 'Faltas' es int\n",
    "\n",
    "# Convertir la columna 'Nombre' a una lista de Python\n",
    "lista_estudiantes = estudiantes['Nombre'].tolist()\n",
    "\n",
    "# Función para llamar a un estudiante aleatoriamente y registrar su nota de seguimiento\n",
    "def asistencia():\n",
    "    global lista_estudiantes\n",
    "    if lista_estudiantes:\n",
    "        estudiante_aleatorio = np.random.choice(lista_estudiantes)\n",
    "        print(f\"Llamando a {estudiante_aleatorio}...\")\n",
    "        asistencia = input(f\"¿Asistió {estudiante_aleatorio}? (s/n): \").strip().lower()\n",
    "        \n",
    "        # Validación de entrada\n",
    "        if asistencia == 'n':\n",
    "            # Obtener el índice del estudiante en el DataFrame\n",
    "            indice = estudiantes[estudiantes['Nombre'] == estudiante_aleatorio].index[0]\n",
    "            # Incrementar su valor en la columna 'Parcial'\n",
    "            estudiantes.at[indice, 'Faltas'] += 4\n",
    "            print(f\"Actualizado: {estudiante_aleatorio} ahora tiene {estudiantes.at[indice, 'Faltas']} en la columna 'Faltas'.\")\n",
    "        \n",
    "        elif asistencia != 's':\n",
    "            print(\"Entrada inválida. Por favor, introduce 's' para sí o 'n' para no.\")\n",
    "            return  # Volver a preguntar para el mismo estudiante si la entrada es inválida\n",
    "        \n",
    "        # Remover al estudiante de la lista para no llamarlo de nuevo\n",
    "        lista_estudiantes.remove(estudiante_aleatorio)\n",
    "    else:\n",
    "        print(\"Se han llamado a todos los estudiantes del grupo completo.\")\n",
    "\n",
    "# Función para guardar cambios al final de la sesión\n",
    "def guardar_cambios():\n",
    "    estudiantes.to_csv(path, index=False)\n",
    "    print(\"Cambios guardados en el archivo CSV.\")\n",
    "\n",
    "# Ejemplo de uso\n",
    "while lista_estudiantes:\n",
    "    asistencia()\n",
    "\n",
    "# Guardar los cambios una vez que todos los estudiantes hayan sido llamados\n",
    "guardar_cambios()\n",
    "\n"
   ]
  },
  {
   "cell_type": "markdown",
   "id": "d7598d0a-d9b7-4ae0-b029-a0ed6ed1130b",
   "metadata": {},
   "source": [
    "\n",
    "# Principios de mi labor docente"
   ]
  },
  {
   "cell_type": "markdown",
   "id": "4f9d8cf9",
   "metadata": {
    "slideshow": {
     "slide_type": "slide"
    }
   },
   "source": [
    "## Modelo general de clase: [aula invertida](https://www3.gobiernodecanarias.org/medusa/ecoescuela/pedagotic/aprendizaje-invertido-flipped-classroom/)"
   ]
  },
  {
   "cell_type": "markdown",
   "id": "eb6ed03a",
   "metadata": {},
   "source": [
    "<img src = 'https://resources.maneuveringthemiddle.com/wp-content/uploads/2020/07/04212706/1-5.png' width = 200>  \n",
    "\n"
   ]
  },
  {
   "cell_type": "markdown",
   "id": "34319cce-a71b-4f64-aab8-b53e521efa40",
   "metadata": {},
   "source": [
    "# Metodología de enseñanza basada en problemas (ABP)\n"
   ]
  },
  {
   "cell_type": "markdown",
   "id": "c4f73d81",
   "metadata": {},
   "source": [
    "\n",
    "<img src = 'https://www.unir.net/wp-content/uploads/2020/07/aprendizaje-problemas2-1-1-1-1.jpeg' width = 200>"
   ]
  },
  {
   "cell_type": "markdown",
   "id": "841a985c-bd9b-4dd3-8e4c-893983980af2",
   "metadata": {},
   "source": [
    "# Desarrollo del pensamiento computacional con Lenguaje R y con archivos R Markdown orientado a la formación en ciencia de datos \n",
    "\n"
   ]
  },
  {
   "cell_type": "markdown",
   "id": "3d0eba94",
   "metadata": {},
   "source": [
    "\n",
    "<img src = 'https://i.ytimg.com/vi/mcG_wcR4e6M/maxresdefault.jpg' width = 200>"
   ]
  },
  {
   "cell_type": "markdown",
   "id": "65aa0404-f7ae-495e-864c-1aec01b4255e",
   "metadata": {},
   "source": [
    "# Principio de fomento a la ciencia abierta, enseñar en el acceso a los datos públicos y el uso de software de código abierto  \n"
   ]
  },
  {
   "cell_type": "markdown",
   "id": "18ae9b87",
   "metadata": {},
   "source": [
    "\n",
    "<img src = 'https://unesdoc.unesco.org/in/rest/Thumb/image?id=p%3A%3Ausmarcdef_0000379949_spa&author=UNESCO&title=Recomendaci%C3%B3n+de+la+UNESCO+sobre+la+Ciencia+Abierta&year=2021&publisher=UNESCO&TypeOfDocument=UnescoPhysicalDocument&mat=PGD&ct=true&size=512&isPhysical=1' width = 200>"
   ]
  },
  {
   "cell_type": "markdown",
   "id": "d9559f85",
   "metadata": {},
   "source": [
    "El enfoque STEAMS en educación preescolar, primaria y secundaria es una extensión del enfoque STEM (Ciencia, Tecnología, Ingeniería y Matemáticas) y su variante STEAM, que incorpora el Arte. "
   ]
  },
  {
   "cell_type": "markdown",
   "id": "72e1cfd2",
   "metadata": {},
   "source": [
    "El acrónimo STEAMS incluye:\n"
   ]
  },
  {
   "cell_type": "markdown",
   "id": "03182fd1",
   "metadata": {},
   "source": [
    "\n",
    "1. **Science (Ciencia):** Fomenta la curiosidad por el mundo natural y el desarrollo de habilidades científicas, como la observación, experimentación y análisis.\n"
   ]
  },
  {
   "cell_type": "markdown",
   "id": "1306d0fa",
   "metadata": {},
   "source": [
    "\n",
    "2. **Technology (Tecnología):** Integra herramientas tecnológicas para potenciar el aprendizaje y la resolución de problemas, promoviendo la alfabetización digital desde edades tempranas.\n"
   ]
  },
  {
   "cell_type": "markdown",
   "id": "3b1a53e8",
   "metadata": {},
   "source": [
    "\n",
    "3. **Engineering (Ingeniería):** Introduce el pensamiento lógico y la resolución de problemas estructurados, fomentando habilidades como el diseño y la construcción de soluciones.\n"
   ]
  },
  {
   "cell_type": "markdown",
   "id": "0196de87",
   "metadata": {},
   "source": [
    "\n",
    "4. **Arts (Arte):** Añade creatividad y pensamiento crítico, permitiendo a los estudiantes expresarse y explorar el aprendizaje a través de formas artísticas (plásticas, música, teatro).\n"
   ]
  },
  {
   "cell_type": "markdown",
   "id": "8bcc485a",
   "metadata": {},
   "source": [
    "\n",
    "5. **Mathematics (Matemáticas):** Refuerza las habilidades numéricas y el razonamiento lógico, fundamentales en la resolución de problemas y comprensión de conceptos abstractos.\n"
   ]
  },
  {
   "cell_type": "markdown",
   "id": "907935f4",
   "metadata": {},
   "source": [
    "\n",
    "6. **Social Sciences (Ciencias Sociales):** Incorpora la comprensión del entorno social, político, cultural y económico, promoviendo el desarrollo de la conciencia crítica sobre el mundo y su historia, además de habilidades de empatía y ciudadanía.\n"
   ]
  },
  {
   "cell_type": "markdown",
   "id": "39967d63",
   "metadata": {},
   "source": [
    "\n",
    "El enfoque STEAMS pretende desarrollar un aprendizaje **interdisciplinario** que integre estas áreas para fomentar un pensamiento más holístico y práctico. "
   ]
  },
  {
   "cell_type": "markdown",
   "id": "5145f077",
   "metadata": {},
   "source": [
    "Se busca que los estudiantes no solo aprendan conocimientos técnicos, sino también cómo aplicarlos creativa y críticamente en situaciones reales, promoviendo habilidades como el trabajo en equipo, la comunicación y la innovación. "
   ]
  },
  {
   "cell_type": "markdown",
   "id": "9d556584",
   "metadata": {},
   "source": [
    "En educación preescolar, primaria, secundaria y superior, se adapta a las diferentes etapas de desarrollo cognitivo y emocional de los estudiantes, promoviendo el aprendizaje activo y contextualizado.  \n"
   ]
  },
  {
   "cell_type": "markdown",
   "id": "0130ec1b",
   "metadata": {},
   "source": [
    "\n",
    "<img src = 'https://www.campuseducacion.com/blog/wp-content/uploads/2023/03/foto01-1.jpg' width = 200>"
   ]
  },
  {
   "cell_type": "markdown",
   "id": "9d15c10d-2c02-4158-9419-b1ed79b4c1ee",
   "metadata": {},
   "source": [
    "# Qué estamos haciendo por la internalización en esta clase y este curso  \n"
   ]
  },
  {
   "cell_type": "markdown",
   "id": "6e4feef2",
   "metadata": {},
   "source": [
    "Estas son mis acciones como docente de matemáticas en la Universidad de Antioquia con miras a la **internacionalización** de mi práctica docente y el desarrollo de competencias internacionales para mis estudiantes, ls cuales he estructurado con el siguiente enfoque:\n"
   ]
  },
  {
   "cell_type": "markdown",
   "id": "964d9de7-53ee-4255-9bcd-d8e6454f2993",
   "metadata": {},
   "source": [
    "### 1. **Visión Global en la Formación Académica**\n"
   ]
  },
  {
   "cell_type": "markdown",
   "id": "d9bdd3e2",
   "metadata": {},
   "source": [
    "   - **Competencias Internacionales**: Asegúrate de que el contenido de tus cursos fomente habilidades que sean reconocidas globalmente. Al educar a los estudiantes en **Python, LaTeX, Markdown y Jupyter Notebooks** y en la **introducción a la ciencia de datos y técnicas de Machine Learning**, estás proporcionando competencias altamente demandadas en los sectores tecnológicos y académicos a nivel internacional.\n"
   ]
  },
  {
   "cell_type": "markdown",
   "id": "39b55206",
   "metadata": {},
   "source": [
    "   - **Relevancia de los Contenidos**: Destaca cómo los temas que enseñas, como el **desarrollo del pensamiento computacional** y la **ciencia de datos**, están alineados con las necesidades globales actuales en diversas industrias, desde la tecnología hasta las ciencias naturales y sociales.\n"
   ]
  },
  {
   "cell_type": "markdown",
   "id": "a054599e",
   "metadata": {},
   "source": [
    "   - **Referencias a Estándares Internacionales**: Puedes vincular tu enseñanza a estándares internacionales de competencias en programación y ciencia de datos (por ejemplo, frameworks del **IEEE, ACM**, y estándares de la **data science** o la **computación en la nube**)."
   ]
  },
  {
   "cell_type": "markdown",
   "id": "0f1d110c-3142-48fe-9e7d-5fbd9e8bb931",
   "metadata": {},
   "source": [
    "### 2. **Innovación Pedagógica con Enfoque Internacional**\n"
   ]
  },
  {
   "cell_type": "markdown",
   "id": "fae6ae34",
   "metadata": {},
   "source": [
    "   - **Aula Invertida y ABP**: Presenta cómo tu enfoque de **aula invertida** y **aprendizaje basado en problemas (ABP)** permite a los estudiantes trabajar de manera autónoma y colaborativa, lo que los prepara para escenarios laborales internacionales que requieren autoaprendizaje y habilidades de resolución de problemas en equipo.\n"
   ]
  },
  {
   "cell_type": "markdown",
   "id": "c83062d9",
   "metadata": {},
   "source": [
    "   - **Uso de Jupyter Notebooks**: El uso de **Jupyter Notebooks** en tus clases no solo facilita la **integración de código, matemáticas y texto**, sino que también es una plataforma utilizada globalmente en ambientes académicos y profesionales, lo que hace a tus estudiantes más competitivos internacionalmente."
   ]
  },
  {
   "cell_type": "markdown",
   "id": "960d52b7-03cd-4eb3-965e-5cdfeb7d9f8e",
   "metadata": {},
   "source": [
    "### 3. **Tecnología y Herramientas de Uso Global**\n"
   ]
  },
  {
   "cell_type": "markdown",
   "id": "4be7269f",
   "metadata": {},
   "source": [
    "   - **Lenguaje Python**: Python es uno de los lenguajes de programación más usados a nivel mundial, tanto en la academia como en la industria. Al formar a tus estudiantes en Python para ciencia de datos y machine learning, los preparas para operar en entornos tecnológicos globales.\n"
   ]
  },
  {
   "cell_type": "markdown",
   "id": "102655af",
   "metadata": {},
   "source": [
    "   - **Herramientas de Ciencia Abierta**: Resalta cómo herramientas como **GitHub**, **Google Colab** y otras plataformas de código abierto están alineadas con el movimiento de **ciencia abierta**, el cual es internacionalmente reconocido y permite que los estudiantes colaboren y compartan proyectos a nivel global."
   ]
  },
  {
   "cell_type": "markdown",
   "id": "3b2ffa32-7a6f-4545-ba7b-c6a69f51109f",
   "metadata": {},
   "source": [
    "### 4. **Investigación y Publicaciones Internacionales**\n"
   ]
  },
  {
   "cell_type": "markdown",
   "id": "bdbf52a5",
   "metadata": {},
   "source": [
    "   - **Promoción de la Investigación**: Detalla cómo promueves que tus estudiantes participen en proyectos de **investigación aplicada**, con posibilidad de publicación en revistas internacionales. Esto contribuye a la reputación internacional de la Universidad de Antioquia.\n"
   ]
  },
  {
   "cell_type": "markdown",
   "id": "ea01fcbc",
   "metadata": {},
   "source": [
    "   - **Colaboraciones Internacionales**: Si has colaborado con investigadores de otras instituciones o universidades en el extranjero, menciona estos proyectos y cómo han enriquecido tu enseñanza y proporcionado a los estudiantes una visión más globalizada."
   ]
  },
  {
   "cell_type": "markdown",
   "id": "5d1e396e-aece-4bf7-9421-32fa7809eaf4",
   "metadata": {},
   "source": [
    "## 5. **Uso del Inglés para la Internacionalización**\n"
   ]
  },
  {
   "cell_type": "markdown",
   "id": "29cabf26",
   "metadata": {},
   "source": [
    "   - **Comunicación Científica en Inglés**: "
   ]
  },
  {
   "cell_type": "markdown",
   "id": "8ec53ff3",
   "metadata": {},
   "source": [
    "Fomentar el aprendizaje del inglés como lengua científica es clave para que tus estudiantes puedan acceder a publicaciones internacionales, conferencias, y material académico que no está disponible en español. Esto es esencial para que adquieran competencias que les permitan desempeñarse en cualquier contexto internacional.\n"
   ]
  },
  {
   "cell_type": "markdown",
   "id": "b831224f",
   "metadata": {},
   "source": [
    "   - **Material Bilingüe**: Al generar material educativo en Python, LaTeX y Markdown, considera ofrecer algunos de estos recursos en inglés, para que los estudiantes se familiaricen con el vocabulario técnico y científico internacional."
   ]
  },
  {
   "cell_type": "markdown",
   "id": "c6a8c3b0-426a-4692-a384-3065aea81c9a",
   "metadata": {},
   "source": [
    "### 6. **Certificaciones y Estándares Internacionales**\n"
   ]
  },
  {
   "cell_type": "markdown",
   "id": "b1f41da5",
   "metadata": {},
   "source": [
    "   - **Participación en Certificaciones Internacionales**: Impulsa que los estudiantes busquen certificaciones internacionales en Python o ciencia de datos (como las ofrecidas por **Coursera, edX,** o **Google**). Estas certificaciones no solo validan sus competencias, sino que también incrementan el reconocimiento de la Universidad de Antioquia en el contexto internacional.\n"
   ]
  },
  {
   "cell_type": "markdown",
   "id": "7cc66317",
   "metadata": {},
   "source": [
    "   - **Alineación con Acreditaciones Internacionales**: Vincula tu trabajo docente con los estándares de acreditación y certificación que garantizan que la universidad siga siendo reconocida internacionalmente. Puedes vincularte con organizaciones internacionales que promuevan la excelencia en la educación y tecnología, como **ABET** para la acreditación en ingeniería y ciencias computacionales."
   ]
  },
  {
   "cell_type": "markdown",
   "id": "65d3d9e1-ea84-43e0-8197-a2a9c9e21594",
   "metadata": {},
   "source": [
    "### 7. **Proyectos Abiertos y Ciencia Reproducible**\n"
   ]
  },
  {
   "cell_type": "markdown",
   "id": "f03f7b20",
   "metadata": {},
   "source": [
    "   - **GitHub y Open Science**: La utilización de **GitHub** para almacenar los proyectos y materiales de enseñanza en repositorios públicos permite que otros investigadores y educadores internacionales puedan revisar y replicar tu trabajo. Esto contribuye a la creación de una red de colaboración científica abierta.\n",
    "   - **Transparencia y Reproducibilidad**: La ciencia de datos y machine learning están profundamente ligados a la reproducibilidad. Asegura que tus estudiantes desarrollen prácticas de transparencia y documentación en la investigación, que son pilares en la comunidad científica global.\n"
   ]
  },
  {
   "cell_type": "markdown",
   "id": "215cb551",
   "metadata": {},
   "source": [
    "\n",
    "### 8. **Participación en Redes y Conferencias Internacionales**\n",
    "   - **Presentación en Conferencias Internacionales**: Destaca cómo tu participación en conferencias internacionales (como la **ASCOLFA** o eventos sobre educación en matemáticas) contribuye al prestigio de la universidad y permite que tus prácticas sean evaluadas y reconocidas a nivel global.\n"
   ]
  },
  {
   "cell_type": "markdown",
   "id": "cdf46e29",
   "metadata": {},
   "source": [
    "   - **Promoción de Estudiantes en Eventos Internacionales**: Impulsa la participación de tus estudiantes en competiciones internacionales de programación o hackathons, como los organizados por **Google**, **ACM** o **Kaggle**. Esto no solo desarrolla sus habilidades, sino que también visibiliza el talento de la Universidad de Antioquia a nivel global.\n",
    "\n",
    "---"
   ]
  },
  {
   "cell_type": "markdown",
   "id": "233294a4-1983-4641-a7ad-866825e02315",
   "metadata": {},
   "source": [
    "Con esta estrategia, presento mis acciones docentes en términos de competencias internacionales, innovación pedagógica, tecnología, investigación y participación en redes globales, asegurando que mi práctica esté alineada con los estándares internacionales y que tus estudiantes estén preparados para competir en contextos internacionales."
   ]
  },
  {
   "cell_type": "markdown",
   "id": "77da458b",
   "metadata": {},
   "source": [
    "### **Metodología de Enseñanza: Aprendizaje Basado en Problemas y Proyectos (ABPP)**\n"
   ]
  },
  {
   "cell_type": "markdown",
   "id": "c943d273",
   "metadata": {},
   "source": [
    "\n",
    "El **Aprendizaje Basado en Problemas y Proyectos (ABPP)** es una metodología educativa que integra los enfoques del **Aprendizaje Basado en Problemas (ABP)** y el **Aprendizaje Basado en Proyectos (PBL, por sus siglas en inglés)**. Es especialmente útil para la formación de futuros docentes, ingenieros y administradores, ya que combina el desarrollo de habilidades prácticas con el pensamiento crítico y reflexivo. A continuación, se presenta una descripción adaptada a la enseñanza de las matemáticas en educación infantil, Licenciatura en Matemáticas, Ingeniería Agropecuaria y Administración de Empresas:\n",
    "\n",
    "---\n"
   ]
  },
  {
   "cell_type": "markdown",
   "id": "0eeba3f5",
   "metadata": {},
   "source": [
    "\n",
    "### **1. Fundamentos del ABPP**\n",
    "El ABPP se basa en:\n",
    "- **Resolución de Problemas Reales:** Los estudiantes analizan y resuelven problemas auténticos relacionados con su área de formación, fomentando la aplicación práctica del conocimiento.\n",
    "- **Proyectos como Herramientas Integradoras:** Los proyectos permiten desarrollar habilidades interdisciplinarias y ofrecer soluciones concretas a los problemas planteados.\n",
    "- **Aprendizaje Activo:** Los estudiantes son responsables de su aprendizaje y participan activamente en el proceso de investigación, diseño y solución.\n",
    "\n",
    "---\n"
   ]
  },
  {
   "cell_type": "markdown",
   "id": "3728d010",
   "metadata": {},
   "source": [
    "\n",
    "### **2. Aplicación del ABPP en Áreas Específicas**\n",
    "\n",
    "#### **Educación Infantil (Licenciatura en Educación Infantil)**\n",
    "- **Enfoque:** Desarrollo del pensamiento matemático en la infancia desde contextos lúdicos, familiares y culturales.\n",
    "- **Problemas típicos:** \n",
    "  - ¿Cómo enseñar los números naturales mediante actividades prácticas y juegos?\n",
    "  - ¿Qué estrategias pueden emplearse para abordar el concepto de cantidad en edades tempranas?\n",
    "- **Proyectos:** Diseño de secuencias didácticas que usen Python, Jupyter Notebooks y materiales manipulativos para enseñar matemáticas de forma interactiva.\n",
    "- **Competencias desarrolladas:** \n",
    "  - Uso de herramientas tecnológicas para diseñar actividades educativas.\n",
    "  - Comprensión del desarrollo cognitivo infantil y su relación con las matemáticas.\n"
   ]
  },
  {
   "cell_type": "markdown",
   "id": "481f614a",
   "metadata": {},
   "source": [
    "\n",
    "#### **Licenciatura en Matemáticas**\n",
    "- **Enfoque:** Resolución de problemas matemáticos aplicados y profundización teórica en áreas como análisis matemático y modelado.\n",
    "- **Problemas típicos:**\n",
    "  - ¿Cómo se pueden resolver ecuaciones diferenciales aplicadas a modelos físicos o económicos?\n",
    "  - ¿Cómo modelar fenómenos naturales mediante funciones matemáticas?\n",
    "- **Proyectos:** \n",
    "  - Desarrollo de software educativo para explorar conceptos matemáticos.\n",
    "  - Aplicación de modelado matemático para resolver problemas reales en otras disciplinas.\n",
    "- **Competencias desarrolladas:**\n",
    "  - Dominio de la matemática teórica y aplicada.\n",
    "  - Uso de tecnología para la enseñanza y la investigación.\n"
   ]
  },
  {
   "cell_type": "markdown",
   "id": "83ab236f",
   "metadata": {},
   "source": [
    "\n",
    "#### **Ingeniería Agropecuaria**\n",
    "- **Enfoque:** Modelado matemático y análisis de datos para mejorar la producción agrícola y la gestión de recursos.\n",
    "- **Problemas típicos:**\n",
    "  - ¿Cómo modelar el crecimiento de cultivos considerando variables climáticas?\n",
    "  - ¿Cómo optimizar el uso del agua en sistemas de riego mediante análisis matemático?\n",
    "- **Proyectos:** \n",
    "  - Desarrollo de modelos predictivos con Python y bibliotecas de aprendizaje automático.\n",
    "  - Implementación de proyectos que combinen matemáticas y ciencias de datos para resolver problemas agrícolas.\n",
    "- **Competencias desarrolladas:**\n",
    "  - Integración de matemáticas con tecnologías avanzadas.\n",
    "  - Resolución de problemas agropecuarios mediante análisis y modelado.\n"
   ]
  },
  {
   "cell_type": "markdown",
   "id": "c4519bb3",
   "metadata": {},
   "source": [
    "\n",
    "#### **Administración de Empresas**\n",
    "- **Enfoque:** Uso de las matemáticas y la ciencia de datos para la toma de decisiones estratégicas.\n",
    "- **Problemas típicos:**\n",
    "  - ¿Cómo identificar patrones de comportamiento del consumidor usando series de tiempo?\n",
    "  - ¿Qué estrategias matemáticas pueden optimizar la asignación de recursos en una empresa?\n",
    "- **Proyectos:** \n",
    "  - Implementación de modelos de análisis financiero y simulaciones.\n",
    "  - Desarrollo de dashboards interactivos para la gestión de datos empresariales.\n",
    "- **Competencias desarrolladas:**\n",
    "  - Habilidad para interpretar datos matemáticos en contextos de negocio.\n",
    "  - Capacidad para diseñar soluciones basadas en datos.\n",
    "\n",
    "---\n"
   ]
  },
  {
   "cell_type": "markdown",
   "id": "19be58d4",
   "metadata": {},
   "source": [
    "\n",
    "### **3. Beneficios del ABPP**\n",
    "- **Desarrollo de competencias clave:**\n",
    "  - Pensamiento crítico y creativo.\n",
    "  - Trabajo colaborativo.\n",
    "  - Comunicación efectiva.\n",
    "  - Uso de herramientas tecnológicas avanzadas.\n",
    "- **Adaptación al contexto laboral:** Los estudiantes aprenden a enfrentar desafíos del mundo real y a diseñar soluciones prácticas y aplicables.\n",
    "- **Flexibilidad e interdisciplinariedad:** La metodología se adapta a diversas áreas, fomentando el aprendizaje integrado.\n",
    "\n",
    "---\n"
   ]
  },
  {
   "cell_type": "markdown",
   "id": "e36034c3",
   "metadata": {},
   "source": [
    "\n",
    "### **4. Ejemplo General de Implementación**\n",
    "1. **Identificación del problema:** Se plantea un desafío concreto, como modelar el crecimiento poblacional de una comunidad rural (Ingeniería Agropecuaria) o diseñar una estrategia para enseñar fracciones a niños de 8 años (Educación Infantil).\n",
    "2. **Formación de equipos:** Los estudiantes trabajan en grupos, distribuyendo roles y tareas.\n",
    "3. **Investigación y diseño:** Los estudiantes investigan el problema, proponen soluciones y diseñan un proyecto.\n",
    "4. **Implementación:** Se desarrolla el proyecto, como una herramienta tecnológica o una propuesta pedagógica.\n",
    "5. **Evaluación:** Los estudiantes presentan sus resultados en un informe o una exposición, recibiendo retroalimentación de sus compañeros y docentes.\n",
    "\n",
    "---\n",
    "\n",
    "El ABPP es una metodología versátil que conecta el conocimiento teórico con la práctica, preparando a los estudiantes para los retos de sus profesiones en la enseñanza de la matemática, la ingeniería y la administración."
   ]
  },
  {
   "cell_type": "markdown",
   "id": "8d97dc80",
   "metadata": {
    "slideshow": {
     "slide_type": "slide"
    }
   },
   "source": [
    "## Fomento de la lectura literaria asociada a Ingeniería agropecuaria y licenciatura en Matemáticas\n",
    "\n",
    "[Aprender a obtener el sí sin ceder]()"
   ]
  },
  {
   "cell_type": "markdown",
   "id": "96775931",
   "metadata": {
    "slideshow": {
     "slide_type": "slide"
    }
   },
   "source": [
    "## Título de la clase: Método numérico de integración definida con sumas inferiores o sumas izquierdas.   \n",
    "\n",
    "[]()"
   ]
  },
  {
   "cell_type": "code",
   "execution_count": 17,
   "id": "28bae6cb",
   "metadata": {},
   "outputs": [],
   "source": [
    "def save_fig(nombre_archivo_imagen):\n",
    "    import os \n",
    "    ubicacion_para_imagenes = r\"C:\\Users\\marco\\Documentos\\docencia\\calculo\\classes\\3_calculo\\6_analisis_numerico\\3_integracion\\1_suma_left_riemann\\images\"\n",
    "    imagen_path = os.path.join(ubicacion_para_imagenes, nombre_archivo_imagen)\n",
    "    plt.savefig(imagen_path, bbox_inches='tight')"
   ]
  },
  {
   "cell_type": "markdown",
   "id": "540f0ec1",
   "metadata": {
    "slideshow": {
     "slide_type": "slide"
    }
   },
   "source": [
    "## Cuestionario para realizar labores de memorización, observación y síntesis de la información (Además de diagnóstico)  \n",
    "\n",
    "1. ¿Qué?\n",
    "2. ¿Cómo?\n",
    "3. ¿Dónde?\n",
    "4. ¿Cuándo?\n",
    "5. ¿Por qué? "
   ]
  },
  {
   "cell_type": "markdown",
   "id": "8e457ea2",
   "metadata": {},
   "source": [
    "# Definiciones y Resultados científicos a comprender y memorizar \n",
    "\n",
    "[Primera grabación en Vocaroo]()"
   ]
  },
  {
   "cell_type": "markdown",
   "id": "ca7261b1",
   "metadata": {
    "slideshow": {
     "slide_type": "slide"
    }
   },
   "source": [
    "## Establecimiento de prerrequisitos conceptuales para alcanzar el objetivo de aprendizaje trazado.   \n",
    "\n",
    "(Elabore una lista de preguntas al rededor de los conceptos que consideres necesarios para empezar la clase).  \n",
    "\n",
    "1. \n",
    "2. \n",
    "3. "
   ]
  },
  {
   "cell_type": "markdown",
   "id": "2298e976",
   "metadata": {
    "slideshow": {
     "slide_type": "slide"
    }
   },
   "source": [
    "# Para el diseño de la clase tenga en cuenta algunos problemas de aprendizaje"
   ]
  },
  {
   "cell_type": "markdown",
   "id": "523d3acf",
   "metadata": {
    "slideshow": {
     "slide_type": "slide"
    }
   },
   "source": []
  },
  {
   "cell_type": "markdown",
   "id": "a40a4704",
   "metadata": {
    "slideshow": {
     "slide_type": "slide"
    }
   },
   "source": [
    "## Secuencia conceptual introductoria a la clase"
   ]
  },
  {
   "cell_type": "markdown",
   "id": "8853d874",
   "metadata": {},
   "source": [
    "## El componente histórico y epistemológico"
   ]
  },
  {
   "cell_type": "markdown",
   "id": "e3ffa494",
   "metadata": {},
   "source": [
    "# Vocabulary   \n",
    "\n",
    "1. left: izquierda. \n",
    "2.  \n",
    "3.  \n",
    "4.  \n",
    "5.  "
   ]
  },
  {
   "cell_type": "code",
   "execution_count": null,
   "id": "6ff395c3",
   "metadata": {},
   "outputs": [],
   "source": [
    "# Traducción del inglés al español con python\n",
    "\n",
    "def traducir(texto):\n",
    "    from googletrans import Translator\n",
    "\n",
    "    translator = Translator() # instancia la clase \n",
    "\n",
    "    # Traducir al español\n",
    "    translation = translator.translate(texto, src='en', dest='es')\n",
    "    return translation.text"
   ]
  },
  {
   "cell_type": "code",
   "execution_count": null,
   "id": "b583f414-ac87-4912-8a86-b338234d83d7",
   "metadata": {},
   "outputs": [],
   "source": [
    "traducir('Hi')"
   ]
  },
  {
   "cell_type": "code",
   "execution_count": null,
   "id": "bc0addfe",
   "metadata": {},
   "outputs": [],
   "source": [
    "# Mapa conceptual para la clase \"Método numérico de integración - Suma de Riemann izquierda\"\n",
    "from graphviz import Digraph\n",
    "\n",
    "# Crear un nuevo grafo dirigido\n",
    "dot = Digraph()\n",
    "\n",
    "# Definir el concepto principal\n",
    "main_concept = 'Método numérico de integración\\n(Suma de Riemann izquierda)'\n",
    "dot.node('A', main_concept, shape='box', style='filled', fillcolor='lightblue')\n",
    "\n",
    "# Nodos secundarios\n",
    "dot.node('B', 'Pensamiento Variacional', shape='ellipse', style='filled', fillcolor='lightyellow')\n",
    "dot.node('C', 'Pensamiento Computacional', shape='ellipse', style='filled', fillcolor='lightgreen')\n",
    "dot.node('D', 'Pensamiento Algorítmico', shape='ellipse', style='filled', fillcolor='lightcoral')\n",
    "\n",
    "dot.node('E', 'Escritura Verbal del Algoritmo', shape='parallelogram', style='filled', fillcolor='lightgrey')\n",
    "dot.node('F', 'Pseudocódigo', shape='parallelogram', style='filled', fillcolor='lightpink')\n",
    "dot.node('G', 'Implementación en Python', shape='parallelogram', style='filled', fillcolor='lightskyblue')\n",
    "\n",
    "dot.node('H', 'Pruebas de Escritorio', shape='diamond', style='filled', fillcolor='orange')\n",
    "dot.node('I', 'Visualización con Animaciones', shape='diamond', style='filled', fillcolor='cyan')\n",
    "\n",
    "# Relaciones principales\n",
    "dot.edge('A', 'B', label=' Relación con', color='black')\n",
    "dot.edge('A', 'C', label=' Relación con', color='black')\n",
    "dot.edge('A', 'D', label=' Relación con', color='black')\n",
    "\n",
    "dot.edge('D', 'E', label=' Desarrollo', color='blue')\n",
    "dot.edge('E', 'F', label=' Traducción', color='purple')\n",
    "dot.edge('F', 'G', label=' Codificación', color='green')\n",
    "\n",
    "dot.edge('G', 'H', label=' Validación', color='red')\n",
    "dot.edge('G', 'I', label=' Experimentación', color='darkblue')\n",
    "\n",
    "# Guardar y visualizar el mapa conceptual\n",
    "dot.render(filename=\"mapa_suma_riemann_left\", format='png', cleanup=True, \n",
    "           directory=r\"C:/Users/marco/Documentos/docencia/calculo/classes/3_calculo/6_analisis_numerico/3_integracion/1_suma_left_riemann\\images\")\n",
    "\n",
    "dot.view()\n"
   ]
  },
  {
   "cell_type": "markdown",
   "id": "10e55ccf",
   "metadata": {},
   "source": [
    "# Estructura general para todas las clases\n",
    "\n",
    "Dame, por favor, un diseño de clase, con el enfoque: de aprendizaje basado en problemas y proyectos(ABPP) sobre: \"El método numérico de integración a través de rectángulos inscritos o particiones del intervalo de integración tomando los extremos izquierdos de cada subintervalo\", siguiendo la estructura: \n",
    "1. Título de la clase \n",
    "2. Objetivo de aprendizaje que incluya el desarrollo del pensamiento variacional, el pensamiento computacional y el pensamiento algoritmico de los futuros profesores de Cálculo de la Licenciatura en matemáticas. \n",
    "3. Contenido de la clase: donde este contenido busque el desarrollo del pensamiento algoritmico al proponer a los estudiantes actividades de escritura manuscrita del algoritmo en forma verbal , luego en forma de seudo código, para llegar al algoritmo en lenguaje python. \n",
    "4. Actividades de aprendizaje: que incluya pruebas de escritorio para los algoritmos en forma verbal y seudo código, y la implementación del algoritmo en lenguaje python. \n",
    "5. Tarea o actividades de ejercitación y fijación\n",
    "6. Diseño de actividad de retroalimentación.   \n",
    "\n",
    "Pero  que este diseño sea para que el estudiante pueda aprender experimentando en cuadernos Jupyter con funciones de usuario y animaciones y visualizaciones en python. "
   ]
  },
  {
   "cell_type": "markdown",
   "id": "11cb49d9",
   "metadata": {},
   "source": [
    "# Diseño de Clase: Integración Numérica por el Método de Rectángulos (Extremos Izquierdos)\n"
   ]
  },
  {
   "cell_type": "markdown",
   "id": "3e8261b2",
   "metadata": {},
   "source": [
    "\n",
    "## 1. Título de la Clase\n",
    "**Integración numérica por el método de rectángulos con extremos izquierdos: exploración algorítmica y computacional**\n"
   ]
  },
  {
   "cell_type": "markdown",
   "id": "7d410347",
   "metadata": {},
   "source": [
    "\n",
    "## 2. Objetivo de Aprendizaje\n",
    "Al finalizar la clase, los estudiantes serán capaces de aplicar el método numérico de integración mediante rectángulos inscritos, utilizando los extremos izquierdos de cada subintervalo. En este proceso, desarrollarán:\n",
    "- **Pensamiento variacional** al analizar la aproximación de áreas bajo curvas y su relación con la integral definida.\n",
    "- **Pensamiento computacional** al diseñar y ejecutar simulaciones en Jupyter notebooks.\n",
    "- **Pensamiento algorítmico** al construir el algoritmo desde su representación en lenguaje natural hasta su implementación en Python.\n"
   ]
  },
  {
   "cell_type": "markdown",
   "id": "3f3097a7",
   "metadata": {},
   "source": [
    "\n",
    "## 3. Contenido de la Clase\n",
    "1. **Concepto de integral definida y su interpretación geométrica**.\n",
    "2. **Método de rectángulos con extremos izquierdos**:\n",
    "   - Definición y justificación del método.\n",
    "   - Interpretación geométrica.\n",
    "   - Aproximación de la integral con diferentes cantidades de subintervalos.\n"
   ]
  },
  {
   "cell_type": "markdown",
   "id": "2062e9a7",
   "metadata": {},
   "source": [
    "3. **Diseño del algoritmo paso a paso**:\n",
    "   - Escritura manuscrita del algoritmo en lenguaje natural.\n",
    "   - Traducción a seudocódigo.\n",
    "   - Implementación en Python con funciones de usuario.\n",
    "   - Visualización y animación del proceso.\n"
   ]
  },
  {
   "cell_type": "markdown",
   "id": "0f3e6fca",
   "metadata": {},
   "source": [
    "\n",
    "## 4. Actividades de Aprendizaje\n"
   ]
  },
  {
   "cell_type": "markdown",
   "id": "ab757ad5",
   "metadata": {},
   "source": [
    "1. **Análisis manual del algoritmo**:\n",
    "   - Describir en lenguaje natural los pasos para calcular la integral aproximada.\n",
    "   - Diseñar el algoritmo en seudocódigo.\n",
    "   - Realizar pruebas de escritorio con ejemplos sencillos.\n",
    "2. **Implementación en Jupyter Notebook**:\n",
    "   - Definir una función en Python que implemente el método de rectángulos.\n",
    "   - Crear visualizaciones gráficas con `matplotlib` para ilustrar la aproximación.\n",
    "   - Usar `ipywidgets` para generar animaciones que permitan observar el cambio al aumentar el número de subintervalos.\n"
   ]
  },
  {
   "cell_type": "markdown",
   "id": "52ccf3ce",
   "metadata": {},
   "source": [
    "\n",
    "## 5. Tarea o Actividades de Ejercitación y Fijación\n",
    "- Implementar el método con funciones matemáticas diferentes (por ejemplo, polinomios, exponenciales y trigonométricas).\n",
    "- Comparar los resultados obtenidos con el valor de la integral calculado analíticamente.\n",
    "- Diseñar una función en Python que permita cambiar la estrategia de aproximación (puntos medios, extremos derechos, trapezoidal).\n"
   ]
  },
  {
   "cell_type": "markdown",
   "id": "9d0359ba",
   "metadata": {},
   "source": [
    "\n",
    "## 6. Diseño de Actividad de Retroalimentación\n",
    "- **Discusión en grupos**: Comparar los resultados obtenidos con diferentes funciones y distintos números de subintervalos.\n",
    "- **Exploración interactiva**: Usar `ipywidgets` para modificar la cantidad de subintervalos en tiempo real y analizar el comportamiento de la aproximación.\n",
    "- **Reflexión escrita**: Responder preguntas sobre el impacto de aumentar el número de particiones y la relación con el teorema fundamental del cálculo.\n",
    "\n",
    "Este diseño permitirá a los futuros docentes de matemáticas explorar el concepto de integral desde una perspectiva algorítmica y computacional, promoviendo el aprendizaje basado en experimentación.\n",
    "\n"
   ]
  },
  {
   "cell_type": "markdown",
   "id": "fde422cc",
   "metadata": {},
   "source": [
    "[Video de apoyo a la presentación de la estructura de esta clase](https://www.youtube.com/watch?v=1leP4_enkS0)"
   ]
  },
  {
   "cell_type": "markdown",
   "id": "67bed855",
   "metadata": {},
   "source": [
    "# Implementación de esta clase  \n"
   ]
  },
  {
   "cell_type": "markdown",
   "id": "024f2ce3",
   "metadata": {},
   "source": [
    "\n",
    "# Diseño de Clase: Integración Numérica por el Método de Rectángulos (Extremos Izquierdos)\n"
   ]
  },
  {
   "cell_type": "markdown",
   "id": "6e9ca6bb",
   "metadata": {},
   "source": [
    "\n",
    "# **Integración numérica por el método de rectángulos con extremos izquierdos: exploración algorítmica y computacional**\n"
   ]
  },
  {
   "cell_type": "markdown",
   "id": "b1e86a37",
   "metadata": {},
   "source": [
    "\n",
    "## 2. Objetivo de Aprendizaje\n",
    "Al finalizar la clase, los estudiantes serán capaces de aplicar el método numérico de integración mediante rectángulos inscritos, utilizando los extremos izquierdos de cada subintervalo. En este proceso, desarrollarán:\n",
    "- **Pensamiento variacional** al analizar la aproximación de áreas bajo curvas y su relación con la integral definida.\n",
    "- **Pensamiento computacional** al diseñar y ejecutar simulaciones en Jupyter notebooks.\n",
    "- **Pensamiento algorítmico** al construir el algoritmo desde su representación en lenguaje natural hasta su implementación en Python.\n"
   ]
  },
  {
   "cell_type": "markdown",
   "id": "6d03af88",
   "metadata": {},
   "source": [
    "\n",
    "## 3. Contenido de la Clase\n"
   ]
  },
  {
   "cell_type": "markdown",
   "id": "70f9ca1d",
   "metadata": {},
   "source": [
    "1. **Concepto de integral definida y su interpretación geométrica**.\n"
   ]
  },
  {
   "cell_type": "markdown",
   "id": "27fe2910",
   "metadata": {},
   "source": [
    "2. **Método de rectángulos con extremos izquierdos**:\n",
    "   - Definición y justificación del método.\n",
    "   - Interpretación geométrica.\n",
    "   - Aproximación de la integral con diferentes cantidades de subintervalos.\n"
   ]
  },
  {
   "cell_type": "markdown",
   "id": "9ba0e3cb",
   "metadata": {},
   "source": [
    "3. **Diseño del algoritmo paso a paso**:\n",
    "   - Escritura manuscrita del algoritmo en lenguaje natural.\n",
    "   - Traducción a seudocódigo.\n",
    "   - Implementación en Python con funciones de usuario.\n",
    "   - Visualización y animación del proceso.\n"
   ]
  },
  {
   "cell_type": "markdown",
   "id": "493a8d8a",
   "metadata": {},
   "source": [
    "## 3. Contenido de la Clase\n"
   ]
  },
  {
   "cell_type": "markdown",
   "id": "cc56aba0",
   "metadata": {},
   "source": [
    "\n",
    "### 1. Concepto de integral definida y su interpretación geométrica\n"
   ]
  },
  {
   "cell_type": "markdown",
   "id": "e1ffbd1c",
   "metadata": {},
   "source": [
    "La integral definida de una función continua $f(x)$ en un intervalo $[a, b]$ se denota como:\n",
    "$$\n",
    "\\int_{a}^{b} f(x)\\,dx = \\lim_{n \\to \\infty} \\sum_{i = 1}^{n} f(x_{i-1})\\Delta x \n",
    "$$\n"
   ]
  },
  {
   "cell_type": "markdown",
   "id": "ff653598",
   "metadata": {},
   "source": [
    "Esta integral representa el área neta bajo la curva $y = f(x)$ desde $x = a$ hasta $x = b$, considerando las áreas por encima del eje $x$ como positivas y las áreas por debajo como negativas. "
   ]
  },
  {
   "cell_type": "markdown",
   "id": "c4ebeec4",
   "metadata": {},
   "source": [
    "Su interpretación geométrica permite aproximar áreas bajo curvas utilizando métodos numéricos, como la regla de los rectángulos, cuando no es posible hallar la primitiva de $f(x)$.\n",
    "\n",
    "---\n"
   ]
  },
  {
   "cell_type": "markdown",
   "id": "0d6e75a7",
   "metadata": {},
   "source": [
    "\n",
    "### 2. Método de rectángulos con extremos izquierdos\n"
   ]
  },
  {
   "cell_type": "markdown",
   "id": "b48055df",
   "metadata": {},
   "source": [
    "\n",
    "#### Definición y justificación del método\n"
   ]
  },
  {
   "cell_type": "markdown",
   "id": "f6a3c869",
   "metadata": {},
   "source": [
    "El método de los rectángulos con extremos izquierdos es un procedimiento numérico para aproximar integrales definidas mediante la suma de áreas de rectángulos. "
   ]
  },
  {
   "cell_type": "markdown",
   "id": "600db36c",
   "metadata": {},
   "source": [
    "Se basa en dividir el intervalo $[a, b]$ en $n$ subintervalos de igual longitud $\\Delta x$:\n",
    "$$\n"
   ]
  },
  {
   "cell_type": "markdown",
   "id": "d3fb5ca8",
   "metadata": {},
   "source": [
    "$$\n",
    "\\Delta x = \\frac{b - a}{n}\n",
    "$$\n"
   ]
  },
  {
   "cell_type": "markdown",
   "id": "d88a0355",
   "metadata": {},
   "source": [
    "Cada subintervalo $[x_i, x_{i+1}]$ define un rectángulo cuya altura se evalúa en el extremo izquierdo $x_i$, de manera que la suma de las áreas de estos rectángulos aproxima la integral:\n",
    "$$\n",
    "I \\approx \\sum_{i=0}^{n-1} f(x_i) \\Delta x\n",
    "$$\n"
   ]
  },
  {
   "cell_type": "markdown",
   "id": "9a9625c9",
   "metadata": {},
   "source": [
    "\n",
    "#### Interpretación geométrica\n"
   ]
  },
  {
   "cell_type": "markdown",
   "id": "73ab8729",
   "metadata": {},
   "source": [
    "Cada rectángulo tiene su base en $\\Delta x$ y su altura en $f(x_i)$. "
   ]
  },
  {
   "cell_type": "markdown",
   "id": "be8cffac",
   "metadata": {},
   "source": [
    "Cuando $f(x)$ es creciente en $[a, b]$, este método proporciona una subestimación del área; cuando $f(x)$ es decreciente, sobreestima la integral.\n"
   ]
  },
  {
   "cell_type": "markdown",
   "id": "0076d9d6",
   "metadata": {},
   "source": [
    "\n",
    "#### Aproximación con diferentes cantidades de subintervalos\n"
   ]
  },
  {
   "cell_type": "markdown",
   "id": "05a57805",
   "metadata": {},
   "source": [
    "Al aumentar $n$, la precisión de la aproximación mejora, ya que los rectángulos se ajustan mejor a la curva. "
   ]
  },
  {
   "cell_type": "markdown",
   "id": "97c56b99",
   "metadata": {},
   "source": [
    "En el límite, cuando $n \\to \\infty$, la aproximación converge al valor exacto de la integral.\n"
   ]
  },
  {
   "cell_type": "markdown",
   "id": "c0cf5a38",
   "metadata": {},
   "source": [
    "\n",
    "---\n",
    "\n",
    "### 3. Diseño del algoritmo paso a paso\n"
   ]
  },
  {
   "cell_type": "markdown",
   "id": "3e7b3784",
   "metadata": {},
   "source": [
    "\n",
    "#### Escritura manuscrita del algoritmo en lenguaje natural\n"
   ]
  },
  {
   "cell_type": "markdown",
   "id": "760b42fa",
   "metadata": {},
   "source": [
    "1. Definir los límites de integración $a$ y $b$.\n",
    "2. Elegir el número de subintervalos $n$.\n",
    "3. Calcular el ancho de cada subintervalo: $\\Delta x = \\frac{b-a}{n}$.\n",
    "4. Inicializar una variable suma en cero.\n",
    "5. Iterar desde $i = 0$ hasta $n-1$:\n",
    "   - Evaluar $x_i = a + i \\cdot \\Delta x$.\n",
    "   - Calcular $f(x_i)$.\n",
    "   - Sumar $f(x_i) \\cdot \\Delta x$ a la variable suma.\n",
    "6. Imprimir el resultado como aproximación de la integral.\n"
   ]
  },
  {
   "cell_type": "markdown",
   "id": "b31405f6",
   "metadata": {},
   "source": [
    "\n",
    "#### Traducción a seudocódigo\n"
   ]
  },
  {
   "cell_type": "markdown",
   "id": "3317e041",
   "metadata": {},
   "source": [
    "```plaintext\n",
    "INICIO\n",
    "    Definir f(x)\n",
    "    Definir a, b, n\n",
    "    Calcular Δx = (b - a) / n\n",
    "    Suma = 0\n",
    "    PARA i desde 0 hasta n-1 HACER\n",
    "        x_i = a + i * Δx\n",
    "        Suma = Suma + f(x_i) * Δx\n",
    "    FIN PARA\n",
    "    Mostrar Suma\n",
    "FIN\n",
    "```\n"
   ]
  },
  {
   "cell_type": "markdown",
   "id": "65257309",
   "metadata": {},
   "source": [
    "\n",
    "#### Implementación en Python con funciones de usuario\n"
   ]
  },
  {
   "cell_type": "code",
   "execution_count": null,
   "id": "492ed1cc",
   "metadata": {},
   "outputs": [],
   "source": [
    "import numpy as np\n",
    "import matplotlib.pyplot as plt\n",
    "\n",
    "def f(x):\n",
    "    return x**2  # Función de ejemplo\n",
    "\n",
    "def rectangulos_izquierdos(f, a, b, n):\n",
    "    dx = (b - a) / n\n",
    "    suma = 0\n",
    "    for i in range(n):\n",
    "        x_i = a + i * dx\n",
    "        suma += f(x_i) * dx\n",
    "    return suma\n"
   ]
  },
  {
   "cell_type": "code",
   "execution_count": null,
   "id": "46c99d07",
   "metadata": {},
   "outputs": [],
   "source": [
    "\n",
    "a, b, n = 0, 2, 10\n",
    "aprox_integral = rectangulos_izquierdos(f, a, b, n)\n",
    "print(f\"Aproximación de la integral: {aprox_integral}\")\n"
   ]
  },
  {
   "cell_type": "markdown",
   "id": "a6281160",
   "metadata": {},
   "source": [
    "\n",
    "#### Visualización y animación del proceso\n"
   ]
  },
  {
   "cell_type": "code",
   "execution_count": null,
   "id": "dbf8b376",
   "metadata": {},
   "outputs": [],
   "source": [
    "import os \n",
    "import numpy as np \n",
    "n = 1000\n",
    "x = np.linspace(a, b, n)\n",
    "y = f(x)\n",
    "area_aproximada = rectangulos_izquierdos(f, a, b, n)\n",
    "plt.plot(x, y, 'r', label='f(x)')\n",
    "dx = (b-a)/n\n",
    "# Dibujar los rectángulos\n",
    "x_rects = np.linspace(a, b-dx, n)\n",
    "y_rects = f(x_rects)\n",
    "plt.bar(x_rects, y_rects, width=dx, alpha=0.3, edgecolor='b', align='edge', \\\n",
    "    label = f'el área aproximada es {area_aproximada}')\n",
    "\n",
    "plt.xlabel('x')\n",
    "plt.ylabel('f(x)')\n",
    "plt.title('Aproximación de la integral con rectángulos izquierdos')\n",
    "plt.legend()\n",
    "save_fig('animacion_2')\n",
    "plt.show()\n"
   ]
  },
  {
   "cell_type": "markdown",
   "id": "4ccd2d67",
   "metadata": {},
   "source": [
    "\n",
    "\n",
    "La respuesta final es: $\\boxed{2.6666666666666665}$"
   ]
  },
  {
   "cell_type": "markdown",
   "id": "2209aa31",
   "metadata": {},
   "source": [
    "[Video de apoyo al contenido de la clase](https://www.youtube.com/watch?v=PoeJ_gv6PE4)"
   ]
  },
  {
   "cell_type": "markdown",
   "id": "e1786f63",
   "metadata": {},
   "source": [
    "\n",
    "## 4. Actividades de Aprendizaje\n"
   ]
  },
  {
   "cell_type": "markdown",
   "id": "0dd95ccb",
   "metadata": {},
   "source": [
    "[Página 506 de Stewart Cálculo de una Variable.](https://www.academia.edu/44088107/CALCULO_TRASCENDENTES_TEMPRANAS_8va_Edi) "
   ]
  },
  {
   "cell_type": "markdown",
   "id": "aa9894c2",
   "metadata": {},
   "source": [
    "1. **Análisis manual del algoritmo**:\n",
    "   - Describir en lenguaje natural los pasos para calcular la integral aproximada.\n",
    "   - Diseñar el algoritmo en seudocódigo.\n",
    "   - Realizar pruebas de escritorio con ejemplos sencillos.\n",
    "2. **Implementación en Jupyter Notebook**:\n",
    "   - Definir una función en Python que implemente el método de rectángulos.\n",
    "   - Crear visualizaciones gráficas con `matplotlib` para ilustrar la aproximación.\n",
    "   - Usar `ipywidgets` para generar animaciones que permitan observar el cambio al aumentar el número de subintervalos.\n"
   ]
  },
  {
   "cell_type": "markdown",
   "id": "0e08d458",
   "metadata": {},
   "source": [
    "## 3. Contenido de la Clase\n"
   ]
  },
  {
   "cell_type": "markdown",
   "id": "10ef127c",
   "metadata": {},
   "source": [
    "\n",
    "### 1. Concepto de integral definida y su interpretación geométrica\n"
   ]
  },
  {
   "cell_type": "markdown",
   "id": "db8f08cb",
   "metadata": {},
   "source": [
    "La integral definida de una función continua $f(x)$ en un intervalo $[a, b]$ se denota como:\n",
    "\\[\n",
    "\\int_{a}^{b} f(x)\\,dx\n",
    "\\]\n"
   ]
  },
  {
   "cell_type": "markdown",
   "id": "2626a139",
   "metadata": {},
   "source": [
    "Esta integral representa el área neta bajo la curva $y = f(x)$ desde $x = a$ hasta $x = b$, considerando las áreas por encima del eje $x$ como positivas y las áreas por debajo como negativas. "
   ]
  },
  {
   "cell_type": "markdown",
   "id": "2be2f426",
   "metadata": {},
   "source": [
    "Su interpretación geométrica permite aproximar áreas bajo curvas utilizando métodos numéricos, como la regla de los rectángulos, cuando no es posible hallar la primitiva de $f(x)$.\n"
   ]
  },
  {
   "cell_type": "markdown",
   "id": "8aaa0329",
   "metadata": {},
   "source": [
    "\n",
    "---\n",
    "\n",
    "### 2. Método de rectángulos con extremos izquierdos\n",
    "\n",
    "#### Definición y justificación del método\n"
   ]
  },
  {
   "cell_type": "markdown",
   "id": "5f4acacc",
   "metadata": {},
   "source": [
    "El método de los rectángulos con extremos izquierdos es un procedimiento numérico para aproximar integrales definidas mediante la suma de áreas de rectángulos. Se basa en dividir el intervalo $[a, b]$ en $n$ subintervalos de igual longitud $\\Delta x$:\n"
   ]
  },
  {
   "cell_type": "markdown",
   "id": "45039a4d",
   "metadata": {},
   "source": [
    "$$\n",
    "\\Delta x = \\frac{b - a}{n}\n",
    "$$\n",
    "Cada subintervalo $[x_i, x_{i+1}]$ define un rectángulo cuya altura se evalúa en el extremo izquierdo $x_i$, de manera que la suma de las áreas de estos rectángulos aproxima la integral:\n",
    "$$\n",
    "I \\approx \\sum_{i=0}^{n-1} f(x_i) \\Delta x\n",
    "$$\n"
   ]
  },
  {
   "cell_type": "markdown",
   "id": "ec2dce83",
   "metadata": {},
   "source": [
    "\n",
    "#### Interpretación geométrica\n"
   ]
  },
  {
   "cell_type": "markdown",
   "id": "726502f3",
   "metadata": {},
   "source": [
    "Cada rectángulo tiene su base en $\\Delta x$ y su altura en $f(x_i)$. Cuando $f(x)$ es creciente en $[a, b]$, este método proporciona una subestimación del área; cuando $f(x)$ es decreciente, sobreestima la integral.\n"
   ]
  },
  {
   "cell_type": "markdown",
   "id": "dac87dfa",
   "metadata": {},
   "source": [
    "\n",
    "#### Aproximación con diferentes cantidades de subintervalos\n",
    "Al aumentar $n$, la precisión de la aproximación mejora, ya que los rectángulos se ajustan mejor a la curva. "
   ]
  },
  {
   "cell_type": "markdown",
   "id": "d9b591b2",
   "metadata": {},
   "source": [
    "En el límite, cuando $n \\to \\infty$, la aproximación converge al valor exacto de la integral.\n"
   ]
  },
  {
   "cell_type": "markdown",
   "id": "ee754086",
   "metadata": {},
   "source": [
    "\n",
    "---\n",
    "\n",
    "### 3. Diseño del algoritmo paso a paso\n"
   ]
  },
  {
   "cell_type": "markdown",
   "id": "ae6765db",
   "metadata": {},
   "source": [
    "\n",
    "#### Escritura manuscrita del algoritmo en lenguaje natural\n"
   ]
  },
  {
   "cell_type": "markdown",
   "id": "e1a7c983",
   "metadata": {},
   "source": [
    "1. Definir los límites de integración $a$ y $b$.\n",
    "2. Elegir el número de subintervalos $n$.\n",
    "3. Calcular el ancho de cada subintervalo: $\\Delta x = \\frac{b-a}{n}$.\n",
    "4. Inicializar una variable suma en cero.\n",
    "5. Iterar desde $i = 0$ hasta $n-1$:\n",
    "   - Evaluar $x_i = a + i \\cdot \\Delta x$.\n",
    "   - Calcular $f(x_i)$.\n",
    "   - Sumar $f(x_i) \\cdot \\Delta x$ a la variable suma.\n",
    "6. Imprimir el resultado como aproximación de la integral.\n"
   ]
  },
  {
   "cell_type": "markdown",
   "id": "c195b729",
   "metadata": {},
   "source": [
    "\n",
    "#### Traducción a seudocódigo\n"
   ]
  },
  {
   "cell_type": "markdown",
   "id": "59894c96",
   "metadata": {},
   "source": [
    "```plaintext\n",
    "INICIO\n",
    "    Definir f(x)\n",
    "    Definir a, b, n\n",
    "    Calcular Δx = (b - a) / n\n",
    "    Suma = 0\n",
    "    PARA i desde 0 hasta n-1 HACER\n",
    "        x_i = a + i * Δx\n",
    "        Suma = Suma + f(x_i) * Δx\n",
    "    FIN PARA\n",
    "    Mostrar Suma\n",
    "FIN\n",
    "```\n"
   ]
  },
  {
   "cell_type": "markdown",
   "id": "2140b2a0",
   "metadata": {},
   "source": [
    "\n",
    "#### Implementación en Python con funciones de usuario\n"
   ]
  },
  {
   "cell_type": "code",
   "execution_count": 9,
   "id": "edddea03",
   "metadata": {},
   "outputs": [
    {
     "name": "stdout",
     "output_type": "stream",
     "text": [
      "Aproximación de la integral: 2.2800000000000007\n"
     ]
    }
   ],
   "source": [
    "import numpy as np\n",
    "import matplotlib.pyplot as plt\n",
    "\n",
    "def f(x):\n",
    "    return x**2  # Función de ejemplo\n",
    "\n",
    "def rectangulos_izquierdos(f, a, b, n):\n",
    "    dx = (b - a) / n\n",
    "    suma = 0\n",
    "    for i in range(n):\n",
    "        x_i = a + i * dx\n",
    "        suma += f(x_i) * dx\n",
    "    return suma\n",
    "\n",
    "a, b, n = 0, 2, 10\n",
    "aprox_integral = rectangulos_izquierdos(f, a, b, n)\n",
    "print(f\"Aproximación de la integral: {aprox_integral}\")\n",
    "\n"
   ]
  },
  {
   "cell_type": "markdown",
   "id": "06692fff",
   "metadata": {},
   "source": [
    "\n",
    "#### Visualización y animación del proceso\n"
   ]
  },
  {
   "cell_type": "code",
   "execution_count": null,
   "id": "3f954ef8",
   "metadata": {},
   "outputs": [],
   "source": [
    "x = np.linspace(a, b, 100) # partición regular en 100 subintervalos \n",
    "y = f(x)\n",
    "plt.plot(x, y, 'r', label='f(x)')\n",
    "\n",
    "# Dibujar los rectángulos\n",
    "x_rects = np.linspace(a, b-dx, n)\n",
    "y_rects = f(x_rects)\n",
    "plt.bar(x_rects, y_rects, width=dx, alpha=0.3, edgecolor='b', align='edge')\n",
    "\n",
    "plt.xlabel('x')\n",
    "plt.ylabel('f(x)')\n",
    "plt.title('Aproximación de la integral con rectángulos izquierdos')\n",
    "plt.legend()\n",
    "plt.show()\n",
    "\n"
   ]
  },
  {
   "cell_type": "markdown",
   "id": "043ecf3d",
   "metadata": {},
   "source": [
    "\n",
    "---\n",
    "\n",
    "### 4. Actividades de aprendizaje\n"
   ]
  },
  {
   "cell_type": "markdown",
   "id": "c326d3e5",
   "metadata": {},
   "source": [
    "\n",
    "#### 1. Análisis manual del algoritmo\n",
    "- Describir en lenguaje natural los pasos para calcular la integral aproximada.\n",
    "- Diseñar el algoritmo en seudocódigo.\n",
    "- Realizar pruebas de escritorio con ejemplos sencillos, verificando que el algoritmo produce resultados consistentes al aplicar valores de entrada específicos.\n"
   ]
  },
  {
   "cell_type": "markdown",
   "id": "f83a2628",
   "metadata": {},
   "source": [
    "\n",
    "#### 2. Implementación en Jupyter Notebook\n",
    "- Definir una función en Python que implemente el método de rectángulos.\n",
    "- Crear visualizaciones gráficas con `matplotlib` para ilustrar la aproximación.\n",
    "- Usar `ipywidgets` para generar animaciones que permitan observar el cambio al aumentar el número de subintervalos.\n"
   ]
  },
  {
   "cell_type": "markdown",
   "id": "28634214",
   "metadata": {},
   "source": [
    "\n",
    "##### Código base en Jupyter Notebook\n"
   ]
  },
  {
   "cell_type": "code",
   "execution_count": 18,
   "id": "f8cac2c9",
   "metadata": {},
   "outputs": [
    {
     "data": {
      "application/vnd.jupyter.widget-view+json": {
       "model_id": "b287ff2dcb2e40e2aa44353a7f86df89",
       "version_major": 2,
       "version_minor": 0
      },
      "text/plain": [
       "IntSlider(value=10, description='Subintervalos:', min=1)"
      ]
     },
     "metadata": {},
     "output_type": "display_data"
    },
    {
     "data": {
      "application/vnd.jupyter.widget-view+json": {
       "model_id": "311fed35f1574762942beed129c25833",
       "version_major": 2,
       "version_minor": 0
      },
      "text/plain": [
       "Output()"
      ]
     },
     "metadata": {},
     "output_type": "display_data"
    }
   ],
   "source": [
    "import os\n",
    "import ipywidgets as widgets\n",
    "from IPython.display import display\n",
    "import numpy as np\n",
    "import matplotlib.pyplot as plt\n",
    "\n",
    "def f(x):\n",
    "    return x**(1/2)  # Función de ejemplo\n",
    "\n",
    "def actualizar(n):\n",
    "    fig, ax = plt.subplots(figsize=(6, 4))\n",
    "    x = np.linspace(a, b, 100) # genera partición regular del intervalo [a,b]\n",
    "    y = f(x)\n",
    "    ax.plot(x, y, 'r', label='f(x)')\n",
    "    area_aproximada = rectangulos_izquierdos(f, a, b, n)\n",
    "    dx = (b - a) / n\n",
    "    x_rects = np.linspace(a, b - dx, n)\n",
    "    y_rects = f(x_rects)\n",
    "    ax.bar(x_rects, y_rects, width=dx, alpha=0.3, edgecolor='b', align='edge', \\\n",
    "        label = f'el área aproximada es {area_aproximada}')\n",
    "    \n",
    "    ax.set_xlabel('x')\n",
    "    ax.set_ylabel('f(x)')\n",
    "    ax.set_title('Aproximación con rectángulos izquierdos')\n",
    "    ax.legend()\n",
    "    save_fig('aproximacion_left')\n",
    "    plt.show()\n",
    "\n",
    "a, b = 0, 1  # Definir límites de integración\n",
    "slider = widgets.IntSlider(min=1, max=100, step=1, value=10, description='Subintervalos:')\n",
    "interactive_plot = widgets.interactive_output(actualizar, {'n': slider})\n",
    "display(slider, interactive_plot)"
   ]
  },
  {
   "cell_type": "markdown",
   "id": "7d7543e8",
   "metadata": {},
   "source": [
    "[Video de apoyo a las actividades de aprendizaje]()"
   ]
  },
  {
   "cell_type": "markdown",
   "id": "63f32323",
   "metadata": {},
   "source": [
    "\n",
    "## 5. Tarea o Actividades de Ejercitación y Fijación\n",
    "- Implementar el método con funciones matemáticas diferentes (por ejemplo, polinomios, exponenciales y trigonométricas).\n",
    "- Comparar los resultados obtenidos con el valor de la integral calculado analíticamente.\n",
    "- Diseñar una función en Python que permita cambiar la estrategia de aproximación (puntos medios, extremos derechos, trapezoidal).\n"
   ]
  },
  {
   "cell_type": "markdown",
   "id": "5acd87db",
   "metadata": {},
   "source": []
  },
  {
   "cell_type": "markdown",
   "id": "4f63ea7a",
   "metadata": {},
   "source": []
  },
  {
   "cell_type": "markdown",
   "id": "c277578e",
   "metadata": {},
   "source": [
    "\n",
    "## 6. Diseño de Actividad de Retroalimentación\n",
    "- **Discusión en grupos**: Comparar los resultados obtenidos con diferentes funciones y distintos números de subintervalos.\n",
    "- **Exploración interactiva**: Usar `ipywidgets` para modificar la cantidad de subintervalos en tiempo real y analizar el comportamiento de la aproximación.\n",
    "- **Reflexión escrita**: Responder preguntas sobre el impacto de aumentar el número de particiones y la relación con el teorema fundamental del cálculo.\n"
   ]
  },
  {
   "cell_type": "markdown",
   "id": "a7becfd4",
   "metadata": {},
   "source": [
    "\n",
    "Este diseño permitirá a los futuros docentes de matemáticas explorar el concepto de integral desde una perspectiva algorítmica y computacional, promoviendo el aprendizaje basado en experimentación.\n",
    "\n"
   ]
  },
  {
   "cell_type": "markdown",
   "id": "239427f7",
   "metadata": {},
   "source": [
    "# ARTÍCULO 1. Definir el calendario académico para los diferentes programas de pregrado de los campus\n",
    "regionalizados, correspondiente al primer periodo académico del año 2025, así:\n",
    "\n",
    "\n",
    "\n",
    "* Ajustes 03 al 10 de febrero de 2025\n",
    "* Inicio de clases 10 de febrero de 2025\n",
    "* Límite evaluación del 40% 06 de abril de 2025\n",
    "* Terminación de clases 08 de junio de 2025\n",
    "* Exámenes finales 09 al 15 de junio de 2025\n",
    "* Habilitación y validación 16 al 22 de junio de 2025\n",
    "* Terminación oficial 23 de junio de 2025"
   ]
  },
  {
   "cell_type": "code",
   "execution_count": null,
   "id": "ec048afb",
   "metadata": {},
   "outputs": [],
   "source": []
  },
  {
   "cell_type": "code",
   "execution_count": null,
   "id": "c804f8d3",
   "metadata": {},
   "outputs": [],
   "source": []
  },
  {
   "cell_type": "code",
   "execution_count": null,
   "id": "cc539357",
   "metadata": {},
   "outputs": [],
   "source": []
  },
  {
   "cell_type": "markdown",
   "id": "740f3401",
   "metadata": {
    "slideshow": {
     "slide_type": "slide"
    }
   },
   "source": [
    "# Componente de manejo de calculadora Casio asociado al objetivo de aprendizaje de esta clase  \n",
    "\n",
    "## Pasos para lograr el objetivo de aprendizaje con la experimentación en la calculadora Casio 991LA cw  "
   ]
  },
  {
   "cell_type": "markdown",
   "id": "8ba64aed",
   "metadata": {},
   "source": [
    "# Cursos que orienta el profesor Marco Julio Cañas Campillo en 2025  \n",
    "\n",
    "1. Práctica Pedagógica V para Licenciatura en Educación Infantil\n",
    "2. Fundamentos de Lógica para Licenciatura en Matemáticas \n",
    "3. Análisis Numérico para Licenciatura en Matemáticas. \n",
    "4. Cálculo Vectorial para Ingeniería Agropecuaria"
   ]
  },
  {
   "cell_type": "markdown",
   "id": "8d41fe58",
   "metadata": {
    "slideshow": {
     "slide_type": "slide"
    }
   },
   "source": [
    "# Horario de clases del profesor Marco\n",
    "\n",
    "* Lunes 8 - 12: Cálculo Vectorial\n",
    "* Martes 8 - 12 M: Análisis Numérico. \n",
    "* Miércoles 8 a 12 M: Fundamentos de la Lógica\n",
    "* Jueves 2 a 6 PM: Desarrollo del pensamiento matemático en la infancia (Práctica V). \n",
    "* Viernes 8 - 12 M: Fundamentos de Lógica. \n",
    "* Sábados 8 - 12 Asesorías y espacio para retroalimentación y apoyo al trabajo independiente. "
   ]
  },
  {
   "cell_type": "markdown",
   "id": "ae114e14",
   "metadata": {
    "slideshow": {
     "slide_type": "slide"
    }
   },
   "source": [
    "# Horarios de monitoría y asesoría  \n",
    "\n",
    "Coordinador de los cursos de la Facultad de Educación para regiones:    \n",
    "\n",
    "Andrés Vélez: regioneducacion.fedu@udea.edu.co  \n",
    "Coordinador Regiones  \n",
    "Facultad de Educación  \n",
    "Universidad de Antioquia  "
   ]
  },
  {
   "cell_type": "markdown",
   "id": "b1db4b6c",
   "metadata": {
    "slideshow": {
     "slide_type": "slide"
    }
   },
   "source": [
    "## Monitor Manuel San Juan Serrano\n",
    "\n",
    "Contactar escribiendo al correo: manuel.serrano1@udea.edu.co"
   ]
  },
  {
   "cell_type": "markdown",
   "id": "39559692",
   "metadata": {
    "slideshow": {
     "slide_type": "slide"
    }
   },
   "source": [
    "Martes y jueves de 8 - 12  \n",
    "Miércoles 10 - 12 y de 2 a 4 PM  \n",
    "Sábado: 8 - 12"
   ]
  },
  {
   "cell_type": "markdown",
   "id": "10bce0d0",
   "metadata": {
    "slideshow": {
     "slide_type": "slide"
    }
   },
   "source": [
    "## Referentes "
   ]
  },
  {
   "cell_type": "markdown",
   "id": "1db3c468",
   "metadata": {
    "slideshow": {
     "slide_type": "slide"
    }
   },
   "source": [
    "* [CALCULO I DE UNA VARIABLE Ron Larson-Bruce Edwards. Mc Graw Hill. 9º Edición](https://www.academia.edu/42139251/CALCULO_I_DE_UNA_VARIABLE_Ron_Larson_Bruce_Edwards_Mc_Graw_Hill_9o_Edici%C3%B3n)   \n",
    "  \n",
    "\n",
    "* [Grajales Vanegas, L. M., Restrepo Estrada, C. E., Restrepo Ochoa, S. I., & Ruíz De Villalba, F. (2015). Matemáticas I para las ciencias económicas.](https://bibliotecadigital.udea.edu.co/handle/10495/3010)\n",
    "  \n",
    "* R. Duval y Semiosis y pensamiento humano, 2.ª ed. Cali, Colombia: Programa Editorial Universidad del Valle, 2017. [En línea]. Disponible en: https://programaeditorial.univalle.edu.co/gpd-semiosis-y-pensamiento-humano-9789587655278-63324cdb0f6b3.html\n",
    "\n",
    "* [Aylwin, C. U. (2011). Lógica, conjuntos y números. Universidad de los Andes, Consejo de Publicaciones, Colección: Ciencias Básicas, Serie: Matemáticas.](chrome-extension://efaidnbmnnnibpcajpcglclefindmkaj/https://www.u-cursos.cl/ciencias/2011/1/MC110/1/material_docente/bajar?id_material=574722)\n",
    "  \n",
    "* [Chollet, F. (2021). Deep learning with Python. Simon and Schuster.](chrome-extension://efaidnbmnnnibpcajpcglclefindmkaj/https://tanthiamhuat.wordpress.com/wp-content/uploads/2018/03/deeplearningwithpython.pdf)  \n",
    "  \n",
    "* [Watson, S., Stewart, J., & Redlin, L. (2009). Precálculo. Matemáticas para el cálculo.](https://github.com/marco-canas/calculo/blob/main/referents/1_precalculo_stewart/stewart_precalculo.pdf)  \n",
    "\n",
    "* [Purcell, E. J., Varberg, D., & Rigdon, S. E. (2007). Cálculo diferencial e integral. Pearson Educación.](https://github.com/marco-canas/calculo/blob/main/referents/purcell/purcell_calculo.pdf)\n",
    "\n",
    "  \n",
    "\n",
    "* [stewart cálculo](https://udeaeduco-my.sharepoint.com/:b:/g/personal/marco_canas_udea_edu_co/EZgXZjAp8QxPqOAim2hs6LcBNPLGjSHf-xwYnUVYkwa04w?e=RZdTCy)  \n",
    "\n",
    "\n",
    "\n",
    "\n",
    "\n",
    "* [Recomendación de la UNESCO sobre ciencia abierta](https://unesdoc.unesco.org/ark:/48223/pf0000379949_spa)\n",
    "\n",
    "* [chatGPT](https://openai.com/blog/chatgpt)  \n",
    "\n",
    "* [Géron, A. (2017). Hands-on machine learning with scikit-learn and tensorflow: Concepts. Tools, and Techniques to build intelligent systems.](chrome-extension://efaidnbmnnnibpcajpcglclefindmkaj/http://14.139.161.31/OddSem-0822-1122/Hands-On_Machine_Learning_with_Scikit-Learn-Keras-and-TensorFlow-2nd-Edition-Aurelien-Geron.pdf)   \n"
   ]
  },
  {
   "cell_type": "markdown",
   "id": "df925560",
   "metadata": {},
   "source": [
    "\n",
    "* [McKinney, W. (2012). Python for data analysis: Data wrangling with Pandas, NumPy, and IPython. \" O'Reilly Media, Inc.\".](https://wesmckinney.com/book/) "
   ]
  },
  {
   "cell_type": "markdown",
   "id": "8e65d6f9",
   "metadata": {},
   "source": [
    "# Como estudiante, encuentro que...   \n",
    "\n",
    "F: Mis Fortalezas son:     \n",
    "O: Mis Oportunidades son:    \n",
    "D: Mis Debilidades son:    \n",
    "A: Lo que Amenazas mi aprendizaje es:  "
   ]
  },
  {
   "cell_type": "markdown",
   "id": "6b9e56a8",
   "metadata": {
    "slideshow": {
     "slide_type": "slide"
    }
   },
   "source": [
    "### [Evaluamos al profesor Marco Cañas Aquí](https://forms.office.com/Pages/ResponsePage.aspx?id=IefhmYRxjkmK_7KtTlPBwkanXIs1i1FEujpsZgO6dXpUREJPV1kxUk1JV1ozTFJIQVNIQjY5WEY3US4u)"
   ]
  },
  {
   "cell_type": "markdown",
   "id": "10f43536",
   "metadata": {
    "slideshow": {
     "slide_type": "slide"
    }
   },
   "source": [
    "### Continue su aprendizaje en la siguiente clase a través del siguiente [vínculo]()"
   ]
  },
  {
   "cell_type": "markdown",
   "id": "53cc9115",
   "metadata": {
    "slideshow": {
     "slide_type": "slide"
    }
   },
   "source": [
    "## Agradecimientos  \n",
    "\n",
    "Doy gracias a Dios por la vida de mi Hijo Joseph Cañas Osorio y la madurez que ha alcanzado. Este hijo me enorgullece y me hace falta abrazarlo cada día. \n",
    "\n",
    "Y a mi esposa Yasmira Emperatriz Barboza Mogollón por su apoyo, orientación y acompañamiento. "
   ]
  },
  {
   "cell_type": "markdown",
   "id": "b6ba1c23",
   "metadata": {},
   "source": [
    "# Apéndice sobre calendarios y coordinaciones \n",
    "\n",
    "A continuación le envío el horario de la asignatura Cálculo Vectorial  \n",
    "\n",
    "Días:  \n",
    "Lunes - Hora: 7:00 a 12:00M  \n",
    "Fechas:  \n",
    "Febrero: 10-17-24                                          \n",
    " Marzo: 3-10-17-31                                                  \n",
    "Abril:7-21-28                                                   \n",
    "Mayo:5-12-19  \n",
    "\n",
    "Agradezco su apoyo, y si presenta alguna dificultad puede contactarme.  \n",
    "\n",
    "Cordialmente,  \n",
    "Juan Felipe Rivera Hernández  \n",
    "Contacto: 3106314300  "
   ]
  },
  {
   "cell_type": "markdown",
   "id": "0e66cd7c",
   "metadata": {},
   "source": [
    "# Clase de análisis numérico los Martes de 8 a 12 del medio día. "
   ]
  },
  {
   "cell_type": "markdown",
   "id": "c5ff61b1",
   "metadata": {},
   "source": []
  }
 ],
 "metadata": {
  "celltoolbar": "Slideshow",
  "kernelspec": {
   "display_name": "Python 3",
   "language": "python",
   "name": "python3"
  },
  "language_info": {
   "codemirror_mode": {
    "name": "ipython",
    "version": 3
   },
   "file_extension": ".py",
   "mimetype": "text/x-python",
   "name": "python",
   "nbconvert_exporter": "python",
   "pygments_lexer": "ipython3",
   "version": "3.12.9"
  },
  "rise": {
   "enable_chalkboard": true,
   "theme": "sky",
   "transition": "zoom"
  }
 },
 "nbformat": 4,
 "nbformat_minor": 5
}
