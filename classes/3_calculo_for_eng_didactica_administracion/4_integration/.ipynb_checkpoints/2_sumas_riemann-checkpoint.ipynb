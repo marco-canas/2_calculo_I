{
 "cells": [
  {
   "cell_type": "markdown",
   "id": "f47460f0",
   "metadata": {},
   "source": []
  },
  {
   "cell_type": "markdown",
   "id": "693921e6",
   "metadata": {},
   "source": [
    "## [Video de apoyo a la lectura interactiva y experimental de este cuaderno sobre sumas de Riemann]()"
   ]
  },
  {
   "cell_type": "markdown",
   "id": "e8142350",
   "metadata": {},
   "source": [
    "# Sumas de Riemannn"
   ]
  },
  {
   "cell_type": "code",
   "execution_count": null,
   "id": "22e18b4d",
   "metadata": {},
   "outputs": [],
   "source": []
  },
  {
   "cell_type": "code",
   "execution_count": null,
   "id": "b64b0895",
   "metadata": {},
   "outputs": [],
   "source": []
  },
  {
   "cell_type": "code",
   "execution_count": null,
   "id": "c14dc432",
   "metadata": {},
   "outputs": [],
   "source": []
  },
  {
   "cell_type": "code",
   "execution_count": null,
   "id": "59e4c1b6",
   "metadata": {},
   "outputs": [],
   "source": []
  }
 ],
 "metadata": {
  "kernelspec": {
   "display_name": "Python 3 (ipykernel)",
   "language": "python",
   "name": "python3"
  },
  "language_info": {
   "codemirror_mode": {
    "name": "ipython",
    "version": 3
   },
   "file_extension": ".py",
   "mimetype": "text/x-python",
   "name": "python",
   "nbconvert_exporter": "python",
   "pygments_lexer": "ipython3",
   "version": "3.9.13"
  }
 },
 "nbformat": 4,
 "nbformat_minor": 5
}
