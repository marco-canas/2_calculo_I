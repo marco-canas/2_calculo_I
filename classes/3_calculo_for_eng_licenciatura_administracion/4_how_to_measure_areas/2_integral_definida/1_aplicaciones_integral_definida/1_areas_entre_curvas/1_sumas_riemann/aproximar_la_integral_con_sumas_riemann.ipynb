{
 "cells": [
  {
   "cell_type": "markdown",
   "id": "9760b720",
   "metadata": {
    "slideshow": {
     "slide_type": "slide"
    }
   },
   "source": [
    "<table align=\"left\">\n",
    "  <td>\n",
    "    <a href=\"https://colab.research.google.com/github/marco-canas/calculo/blob/main/classes/3_calculo_for_eng_licenciatura_administracion/4_how_to_measure_areas%3Aintegral_calculus/2_integral_definida/1_aplicaciones_integral_definida/1_areas_entre_curvas/1_sumas_riemann/aproximar_la_integral_con_sumas_riemann.ipynb\" target=\"_parent\"><img src=\"https://colab.research.google.com/assets/colab-badge.svg\" alt=\"Open In Colab\"/></a>\n",
    "  </td>\n",
    "</table>"
   ]
  },
  {
   "cell_type": "markdown",
   "id": "35f8e6e6",
   "metadata": {
    "slideshow": {
     "slide_type": "slide"
    }
   },
   "source": [
    "## [Video de apoyo a la lectura interactiva y experimental de este cuaderno](https://www.youtube.com/watch?v=lBLEz8xEBtU&t=1s)"
   ]
  },
  {
   "cell_type": "markdown",
   "id": "87a2788e",
   "metadata": {
    "slideshow": {
     "slide_type": "slide"
    }
   },
   "source": [
    "# Aproximación del área bajo la curva con sumas de Riemann"
   ]
  },
  {
   "cell_type": "markdown",
   "id": "937bf074",
   "metadata": {
    "slideshow": {
     "slide_type": "slide"
    }
   },
   "source": [
    "## Objetivos de aprendizaje \n",
    "\n",
    "* Aproximar el área de una región no rectangular a través de rectángulos.\n",
    "\n"
   ]
  },
  {
   "cell_type": "markdown",
   "id": "e926b60b",
   "metadata": {
    "slideshow": {
     "slide_type": "slide"
    }
   },
   "source": [
    "<img src = 'https://github.com/marco-canas/2_calculo_I/blob/main/classes/clases_integracion/2_sumas_riemann/problema_area_bajo_la_curva.png?raw=true'>"
   ]
  },
  {
   "cell_type": "markdown",
   "id": "50d07807",
   "metadata": {
    "slideshow": {
     "slide_type": "slide"
    }
   },
   "source": [
    "Dadas la función, el intervalo y el valor de $n$, **estime la suma de Riemann** de la función en el intervalo usando $n$ subintervalos regulares para:  \n",
    "\n",
    "* los extremos izquierdos, \n",
    "* para los extremos derechos y \n",
    "* para los puntos medios\n"
   ]
  },
  {
   "cell_type": "markdown",
   "id": "c0c93237",
   "metadata": {
    "slideshow": {
     "slide_type": "slide"
    }
   },
   "source": [
    "$$ f(u) = \\sqrt{2u + 4}, \\ \\ \\ \\ u \\in [-2,-1], \\ \\ \\ n = 8 $$"
   ]
  },
  {
   "cell_type": "markdown",
   "id": "4c7bdbdc",
   "metadata": {
    "slideshow": {
     "slide_type": "slide"
    }
   },
   "source": [
    "# Solución del problema"
   ]
  },
  {
   "cell_type": "markdown",
   "id": "22cb7fda",
   "metadata": {
    "slideshow": {
     "slide_type": "slide"
    }
   },
   "source": [
    "Sumas inferiores de Riemann que en este caso son las que corresponden a las sumas de riemann cuando tomamos los extremos izquierdos de los subintervalos. "
   ]
  },
  {
   "cell_type": "markdown",
   "id": "56382cae",
   "metadata": {
    "slideshow": {
     "slide_type": "slide"
    }
   },
   "source": [
    "$$ \\Delta x = \\frac{b-a}{n}  =  \\frac{-1 - (-2)}{n} = \\frac{1}{n}$$\n",
    "\n",
    "la longitud de los subintervalos. "
   ]
  },
  {
   "cell_type": "markdown",
   "id": "44af4dfa",
   "metadata": {
    "slideshow": {
     "slide_type": "slide"
    }
   },
   "source": [
    "$$ x_{i-1} = a + (i-1)\\Delta x = -2 + \\frac{(i-1)}{n} \\quad \\text{los extremos izquierdos}$$ "
   ]
  },
  {
   "cell_type": "markdown",
   "id": "60e61178",
   "metadata": {
    "slideshow": {
     "slide_type": "slide"
    }
   },
   "source": [
    "$$ x_{i} = a + (i)\\Delta x = -2 + \\frac{(i)}{n} \\quad \\text{los extremos derechos.} $$ "
   ]
  },
  {
   "cell_type": "code",
   "execution_count": null,
   "id": "1a161998",
   "metadata": {},
   "outputs": [],
   "source": []
  },
  {
   "cell_type": "code",
   "execution_count": null,
   "id": "46143b73",
   "metadata": {},
   "outputs": [],
   "source": []
  },
  {
   "cell_type": "markdown",
   "id": "6835c167",
   "metadata": {
    "slideshow": {
     "slide_type": "slide"
    }
   },
   "source": [
    "$$ \\bar{x_{i}}  = \\frac{x_{i-1} + x_{i}}{2}$$"
   ]
  },
  {
   "cell_type": "markdown",
   "id": "9c0b9b96",
   "metadata": {},
   "source": [
    "Para hallar la altura del i-ésimo subintervalo, realizamos un proceso de evaluación o sustitución de los puntos distinguidos en la función $f$ dada. \n",
    "\n",
    "$$ \\text{altura}_{i} = f(x_{i}^{\\ast}) $$"
   ]
  },
  {
   "cell_type": "code",
   "execution_count": 26,
   "id": "d536a547",
   "metadata": {
    "slideshow": {
     "slide_type": "slide"
    }
   },
   "outputs": [],
   "source": [
    "import numpy as np \n",
    "\n",
    "def f(x):\n",
    "    return np.sqrt(2*x + 4)"
   ]
  },
  {
   "cell_type": "code",
   "execution_count": 27,
   "id": "af9e0a4a",
   "metadata": {
    "slideshow": {
     "slide_type": "slide"
    }
   },
   "outputs": [],
   "source": [
    "import numpy as np \n",
    "def suma_riemann(f = lambda x:np.sqrt(2*x + 4), dominio = [-2,-1], n = 8, extremos = 'izquierdo'):\n",
    "    delta_x = (dominio[1] - dominio[0])/n # delta x = (b-a)/n\n",
    "    suma_riemann_ = 0\n",
    "    for i in range(1, n+1):\n",
    "        if extremos=='izquierdo':\n",
    "            puntos_distinguidos = dominio[0] + (i-1)*delta_x\n",
    "        elif extremos=='derecho': \n",
    "            puntos_distinguidos = dominio[0] + (i)*delta_x\n",
    "        elif extremos=='medios':\n",
    "            puntos_distinguidos = (dominio[0] + (i-1)*delta_x + dominio[0] + (i)*delta_x)/2\n",
    "        altura = f(puntos_distinguidos)\n",
    "        area = altura*delta_x\n",
    "        suma_riemann_ += area \n",
    "    return suma_riemann_    "
   ]
  },
  {
   "cell_type": "code",
   "execution_count": 31,
   "id": "5130db7d",
   "metadata": {
    "slideshow": {
     "slide_type": "slide"
    }
   },
   "outputs": [
    {
     "data": {
      "text/plain": [
       "0.9419122572877129"
      ]
     },
     "execution_count": 31,
     "metadata": {},
     "output_type": "execute_result"
    }
   ],
   "source": [
    "suma_riemann(n = 800, extremos = 'izquierdo')"
   ]
  },
  {
   "cell_type": "code",
   "execution_count": 32,
   "id": "cc0e4596",
   "metadata": {
    "slideshow": {
     "slide_type": "slide"
    }
   },
   "outputs": [
    {
     "data": {
      "text/plain": [
       "0.9436800242406792"
      ]
     },
     "execution_count": 32,
     "metadata": {},
     "output_type": "execute_result"
    }
   ],
   "source": [
    "suma_riemann(n = 800, extremos = 'derecho')"
   ]
  },
  {
   "cell_type": "code",
   "execution_count": 33,
   "id": "c9849e56",
   "metadata": {
    "slideshow": {
     "slide_type": "slide"
    }
   },
   "outputs": [
    {
     "data": {
      "text/plain": [
       "0.9428128010755662"
      ]
     },
     "execution_count": 33,
     "metadata": {},
     "output_type": "execute_result"
    }
   ],
   "source": [
    "suma_riemann(n = 800, extremos = 'medios')"
   ]
  },
  {
   "cell_type": "markdown",
   "id": "0c718b89",
   "metadata": {
    "slideshow": {
     "slide_type": "slide"
    }
   },
   "source": [
    "# Valor exacto de la integral utilizando la función integrate de sympy"
   ]
  },
  {
   "cell_type": "code",
   "execution_count": 10,
   "id": "0d826a4e",
   "metadata": {
    "slideshow": {
     "slide_type": "slide"
    }
   },
   "outputs": [
    {
     "data": {
      "text/latex": [
       "$\\displaystyle \\frac{2 \\sqrt{2}}{3}$"
      ],
      "text/plain": [
       "2*sqrt(2)/3"
      ]
     },
     "execution_count": 10,
     "metadata": {},
     "output_type": "execute_result"
    }
   ],
   "source": [
    "from sympy import *\n",
    "\n",
    "x = symbols('x')\n",
    "\n",
    "integrate(sqrt(2*x+4), (x, (-2, -1)))"
   ]
  },
  {
   "cell_type": "code",
   "execution_count": 11,
   "id": "d79a6576",
   "metadata": {
    "slideshow": {
     "slide_type": "slide"
    }
   },
   "outputs": [
    {
     "data": {
      "text/latex": [
       "$\\displaystyle 0.942809041582063$"
      ],
      "text/plain": [
       "0.942809041582063"
      ]
     },
     "execution_count": 11,
     "metadata": {},
     "output_type": "execute_result"
    }
   ],
   "source": [
    "integrate(sqrt(2*x+4), (x, (-2, -1))).evalf()"
   ]
  },
  {
   "cell_type": "markdown",
   "id": "50e393d7",
   "metadata": {
    "slideshow": {
     "slide_type": "slide"
    }
   },
   "source": [
    "## Tareas para realizar fuera de clase"
   ]
  },
  {
   "cell_type": "markdown",
   "id": "d65aa0d5",
   "metadata": {
    "slideshow": {
     "slide_type": "slide"
    }
   },
   "source": [
    "* Observación\n",
    "\n",
    "* síntesis\n",
    "\n",
    "* memorización "
   ]
  },
  {
   "cell_type": "markdown",
   "id": "ca85c2d5",
   "metadata": {
    "slideshow": {
     "slide_type": "slide"
    }
   },
   "source": [
    "## Tareas para realizar en clase"
   ]
  },
  {
   "cell_type": "markdown",
   "id": "0de810c2",
   "metadata": {
    "slideshow": {
     "slide_type": "slide"
    }
   },
   "source": [
    "* Actividades de debates y confrontación de procedimientos"
   ]
  },
  {
   "cell_type": "markdown",
   "id": "be229f0d",
   "metadata": {
    "slideshow": {
     "slide_type": "slide"
    }
   },
   "source": [
    "## Evaluación (Puntos tipo quiz o parcial)"
   ]
  },
  {
   "cell_type": "code",
   "execution_count": null,
   "id": "c4091d17",
   "metadata": {
    "slideshow": {
     "slide_type": "slide"
    }
   },
   "outputs": [],
   "source": []
  },
  {
   "cell_type": "markdown",
   "id": "29881f25",
   "metadata": {
    "slideshow": {
     "slide_type": "slide"
    }
   },
   "source": [
    "## Referentes  \n",
    "\n",
    "* [stewart](https://udeaeduco-my.sharepoint.com/:b:/g/personal/marco_canas_udea_edu_co/EZgXZjAp8QxPqOAim2hs6LcBNPLGjSHf-xwYnUVYkwa04w?e=z1TOmD) Cálculo. Capítulo 5. Página del pdf 396. \n",
    "\n"
   ]
  },
  {
   "cell_type": "code",
   "execution_count": null,
   "id": "65ead7e0",
   "metadata": {},
   "outputs": [],
   "source": []
  }
 ],
 "metadata": {
  "celltoolbar": "Slideshow",
  "kernelspec": {
   "display_name": "Python 3 (ipykernel)",
   "language": "python",
   "name": "python3"
  },
  "language_info": {
   "codemirror_mode": {
    "name": "ipython",
    "version": 3
   },
   "file_extension": ".py",
   "mimetype": "text/x-python",
   "name": "python",
   "nbconvert_exporter": "python",
   "pygments_lexer": "ipython3",
   "version": "3.9.13"
  }
 },
 "nbformat": 4,
 "nbformat_minor": 5
}
