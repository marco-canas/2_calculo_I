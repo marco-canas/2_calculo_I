{
 "cells": [
  {
   "cell_type": "markdown",
   "id": "87ac6e31",
   "metadata": {
    "slideshow": {
     "slide_type": "slide"
    }
   },
   "source": [
    "<table align=\"left\">\n",
    "  <td>\n",
    "    <a href=\"https://colab.research.google.com/github/ageron/handson-ml3/blob/main/math_differential_calculus.ipynb\" target=\"_parent\"><img src=\"https://colab.research.google.com/assets/colab-badge.svg\" alt=\"Open In Colab\"/></a>\n",
    "  </td>\n",
    "</table>"
   ]
  },
  {
   "cell_type": "markdown",
   "id": "0bbc30eb",
   "metadata": {
    "slideshow": {
     "slide_type": "slide"
    }
   },
   "source": [
    "## [Video de apoyo](https://www.youtube.com/watch?v=FRMctyT0VUo)"
   ]
  },
  {
   "cell_type": "markdown",
   "id": "b260f0de",
   "metadata": {
    "slideshow": {
     "slide_type": "slide"
    }
   },
   "source": [
    "# Integración de funciones racionales por descomposición en fracciones parciales"
   ]
  },
  {
   "cell_type": "markdown",
   "id": "e63bbf94",
   "metadata": {
    "slideshow": {
     "slide_type": "slide"
    }
   },
   "source": [
    "Página 524 del [Stewart](https://udeaeduco-my.sharepoint.com/:b:/g/personal/marco_canas_udea_edu_co/EZgXZjAp8QxPqOAim2hs6LcBNPLGjSHf-xwYnUVYkwa04w?e=ybsM9q)  Cálculo de una variable. Trascendentes tempranas. "
   ]
  },
  {
   "cell_type": "markdown",
   "id": "b248efe9",
   "metadata": {
    "slideshow": {
     "slide_type": "slide"
    }
   },
   "source": [
    "$$ \\frac{2}{x-1} - \\frac{1}{x+2} = \\frac{x+5}{x^{2} + x -2} $$"
   ]
  },
  {
   "cell_type": "markdown",
   "id": "6e7f6470",
   "metadata": {
    "slideshow": {
     "slide_type": "slide"
    }
   },
   "source": [
    "Ahora, si se invierte el procedimiento, verá cómo integrar la función del lado derecho de \n",
    "esta ecuación:"
   ]
  },
  {
   "cell_type": "markdown",
   "id": "27d657c4",
   "metadata": {
    "slideshow": {
     "slide_type": "slide"
    }
   },
   "source": [
    "\\begin{align*}\n",
    "\\int \\frac{x+5}{x^{2} + x -2}dx & = \\int \\left(\\frac{2}{x-1} - \\frac{1}{x+2} \\right)dx\\\\\n",
    "& = 2\\ln|| - \n",
    "\\end{align*}"
   ]
  },
  {
   "cell_type": "markdown",
   "id": "6229732b",
   "metadata": {
    "slideshow": {
     "slide_type": "slide"
    }
   },
   "source": [
    "Para ver cómo funciona en general el método de fracciones parciales, considere la función racional \n",
    "\n",
    "$$ f(x) = \\frac{P(x)}{Q(x)} $$\n",
    "\n",
    "donde $P$ y $Q$ son funciones polinomiales. "
   ]
  },
  {
   "cell_type": "markdown",
   "id": "7a9970de",
   "metadata": {
    "slideshow": {
     "slide_type": "slide"
    }
   },
   "source": []
  },
  {
   "cell_type": "markdown",
   "id": "2e30a094",
   "metadata": {
    "slideshow": {
     "slide_type": "slide"
    }
   },
   "source": [
    "Las respuestas a los ejercicios la encuentra en la página 917 de stewart"
   ]
  },
  {
   "cell_type": "code",
   "execution_count": null,
   "id": "46b0239f",
   "metadata": {},
   "outputs": [],
   "source": []
  },
  {
   "cell_type": "markdown",
   "id": "d6ec1b4c",
   "metadata": {
    "slideshow": {
     "slide_type": "slide"
    }
   },
   "source": [
    "# Como aprendes a integrar con sympy"
   ]
  },
  {
   "cell_type": "code",
   "execution_count": 1,
   "id": "5d883e07",
   "metadata": {
    "slideshow": {
     "slide_type": "slide"
    }
   },
   "outputs": [
    {
     "data": {
      "text/latex": [
       "$\\displaystyle \\frac{x^{3}}{3} + \\frac{x^{2}}{2} + x$"
      ],
      "text/plain": [
       " 3    2    \n",
       "x    x     \n",
       "-- + -- + x\n",
       "3    2     "
      ]
     },
     "execution_count": 1,
     "metadata": {},
     "output_type": "execute_result"
    }
   ],
   "source": [
    "from sympy import *\n",
    "init_printing(use_unicode=False, wrap_line=False)\n",
    "x = Symbol('x')\n",
    "integrate(x**2 + x + 1, x)"
   ]
  },
  {
   "cell_type": "markdown",
   "id": "61f00410",
   "metadata": {
    "slideshow": {
     "slide_type": "slide"
    }
   },
   "source": [
    "Rational functions:"
   ]
  },
  {
   "cell_type": "code",
   "execution_count": 1,
   "id": "b62efff0",
   "metadata": {
    "slideshow": {
     "slide_type": "slide"
    }
   },
   "outputs": [
    {
     "data": {
      "text/latex": [
       "$\\displaystyle \\frac{r^{2}}{2} - 4 r + 16 \\log{\\left(r + 4 \\right)}$"
      ],
      "text/plain": [
       "r**2/2 - 4*r + 16*log(r + 4)"
      ]
     },
     "execution_count": 1,
     "metadata": {},
     "output_type": "execute_result"
    }
   ],
   "source": [
    "from sympy import *\n",
    "r = Symbol('r')\n",
    "integrate(r**2/(r+4), r)"
   ]
  },
  {
   "cell_type": "code",
   "execution_count": 2,
   "id": "276558a5",
   "metadata": {
    "slideshow": {
     "slide_type": "slide"
    }
   },
   "outputs": [
    {
     "data": {
      "text/latex": [
       "$\\displaystyle \\log{\\left(x \\right)} - \\frac{\\log{\\left(x - \\frac{1}{2} \\right)}}{4} + \\frac{3 \\log{\\left(x + \\frac{1}{2} \\right)}}{4}$"
      ],
      "text/plain": [
       "log(x) - log(x - 1/2)/4 + 3*log(x + 1/2)/4"
      ]
     },
     "execution_count": 2,
     "metadata": {},
     "output_type": "execute_result"
    }
   ],
   "source": [
    "from sympy import *\n",
    "x = Symbol('x')\n",
    "integrate((6*x**2-2*x-1)/(4*x**3-x), x)"
   ]
  },
  {
   "cell_type": "markdown",
   "id": "40e1594b",
   "metadata": {
    "slideshow": {
     "slide_type": "slide"
    }
   },
   "source": [
    "# [Partial fraction decomposition](https://mattpap.github.io/scipy-2011-tutorial/html/partfrac.html)"
   ]
  },
  {
   "cell_type": "markdown",
   "id": "c37ffa8f",
   "metadata": {
    "slideshow": {
     "slide_type": "slide"
    }
   },
   "source": [
    "The partial fraction decomposition of a univariate rational function:"
   ]
  },
  {
   "cell_type": "markdown",
   "id": "b21d140b",
   "metadata": {
    "slideshow": {
     "slide_type": "slide"
    }
   },
   "source": [
    "$$ f(x) = \\frac{p(x)}{q(x)} $$"
   ]
  },
  {
   "cell_type": "markdown",
   "id": "88171a54",
   "metadata": {
    "slideshow": {
     "slide_type": "slide"
    }
   },
   "source": [
    "where \\(p\\) and \\(q\\) are co-prime and \\(\\deg(p) < \\deg(q)\\), is an expression of the form:\n",
    "$$ \\sum_{i=1}^k \\sum_{j=1}^{n_i} \\frac{a_{ij}(x)}{q_i^j(x)} $$"
   ]
  },
  {
   "cell_type": "markdown",
   "id": "3a783043",
   "metadata": {
    "slideshow": {
     "slide_type": "slide"
    }
   },
   "source": [
    "where \\(q_i\\) for \\(i=1 \\ldots k\\) are factors (e.g. over rationals or Gaussian rationals) of \\(q\\):\n",
    "\\[q(x) = \\prod_{i=1}^k q_i^{n_i}\\]\n",
    "\n",
    "If \\(p\\) and \\(q\\) aren’t co-prime, we can use cancel() to remove common factors and if \\(\\deg(p) >= \\deg(q)\\), then div() can be used to extract the polynomial part of \\(f\\) and reduce the degree of \\(p\\).\n",
    "\n",
    "Suppose we would like to compute partial fraction decomposition of:"
   ]
  },
  {
   "cell_type": "code",
   "execution_count": 1,
   "id": "73ca57ca",
   "metadata": {
    "slideshow": {
     "slide_type": "slide"
    }
   },
   "outputs": [],
   "source": [
    "from sympy import *\n",
    "x,f = var('x,f')"
   ]
  },
  {
   "cell_type": "code",
   "execution_count": 2,
   "id": "7b999cdb",
   "metadata": {
    "slideshow": {
     "slide_type": "slide"
    }
   },
   "outputs": [
    {
     "data": {
      "text/latex": [
       "$\\displaystyle \\frac{1}{x^{2} \\left(x^{2} + 1\\right)}$"
      ],
      "text/plain": [
       "1/(x**2*(x**2 + 1))"
      ]
     },
     "execution_count": 2,
     "metadata": {},
     "output_type": "execute_result"
    }
   ],
   "source": [
    "f = 1/(x**2*(x**2 + 1))\n",
    "f"
   ]
  },
  {
   "cell_type": "code",
   "execution_count": null,
   "id": "0a7e7692",
   "metadata": {
    "slideshow": {
     "slide_type": "slide"
    }
   },
   "outputs": [],
   "source": []
  },
  {
   "cell_type": "code",
   "execution_count": null,
   "id": "96696b40",
   "metadata": {
    "slideshow": {
     "slide_type": "slide"
    }
   },
   "outputs": [],
   "source": []
  },
  {
   "cell_type": "code",
   "execution_count": null,
   "id": "e690ad35",
   "metadata": {},
   "outputs": [],
   "source": []
  },
  {
   "cell_type": "code",
   "execution_count": null,
   "id": "20799673",
   "metadata": {},
   "outputs": [],
   "source": []
  },
  {
   "cell_type": "markdown",
   "id": "678202c5",
   "metadata": {},
   "source": [
    "## Referentes  \n",
    "\n",
    "* chatGPT: https://openai.com/blog/chatgpt/"
   ]
  },
  {
   "cell_type": "code",
   "execution_count": null,
   "id": "79df4b7d",
   "metadata": {},
   "outputs": [],
   "source": []
  }
 ],
 "metadata": {
  "celltoolbar": "Slideshow",
  "kernelspec": {
   "display_name": "Python 3 (ipykernel)",
   "language": "python",
   "name": "python3"
  },
  "language_info": {
   "codemirror_mode": {
    "name": "ipython",
    "version": 3
   },
   "file_extension": ".py",
   "mimetype": "text/x-python",
   "name": "python",
   "nbconvert_exporter": "python",
   "pygments_lexer": "ipython3",
   "version": "3.9.13"
  }
 },
 "nbformat": 4,
 "nbformat_minor": 5
}
