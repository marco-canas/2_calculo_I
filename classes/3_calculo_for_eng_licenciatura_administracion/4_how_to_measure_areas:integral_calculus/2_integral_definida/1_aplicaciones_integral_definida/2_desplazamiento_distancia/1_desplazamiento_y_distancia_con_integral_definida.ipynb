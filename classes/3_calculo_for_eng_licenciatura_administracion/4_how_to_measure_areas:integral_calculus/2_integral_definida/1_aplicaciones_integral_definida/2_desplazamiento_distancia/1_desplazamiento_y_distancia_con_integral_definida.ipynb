{
 "cells": [
  {
   "cell_type": "markdown",
   "id": "dc06dec7",
   "metadata": {
    "slideshow": {
     "slide_type": "slide"
    }
   },
   "source": [
    "<table align=\"left\">\n",
    "  <td>\n",
    "    <a href=\"https://colab.research.google.com/github/marco-canas/calculo/blob/main/classes/3_calculo_for_eng_licenciatura_administracion/4_how_to_measure_areas%3Aintegral_calculus/2_integral_definida/1_aplicaciones_integral_definida/2_desplazamiento_distancia/1_desplazamiento_y_distancia_con_integral_definida.ipynb\" target=\"_parent\"><img src=\"https://colab.research.google.com/assets/colab-badge.svg\" alt=\"Open In Colab\"/></a>\n",
    "  </td>\n",
    "  <td>\n",
    "    <a target=\"_blank\" href=\"https://kaggle.com/kernels/welcome?src=https://github.com/marco-canas/calculo/blob/main/classes/3_calculo_for_eng_licenciatura_administracion/4_how_to_measure_areas%3Aintegral_calculus/2_integral_definida/1_aplicaciones_integral_definida/2_desplazamiento_distancia/1_desplazamiento_y_distancia_con_integral_definida.ipynb\"><img src=\"https://kaggle.com/static/images/open-in-kaggle.svg\" /></a>\n",
    "  </td>\n",
    "</table>"
   ]
  },
  {
   "cell_type": "markdown",
   "id": "e0c5b198",
   "metadata": {
    "slideshow": {
     "slide_type": "slide"
    }
   },
   "source": [
    "### [Video de apoyo a la lectura interactiva y experimental de este cuaderno](https://www.youtube.com/watch?v=eJBNJvEnzcU)"
   ]
  },
  {
   "cell_type": "markdown",
   "id": "41e82203",
   "metadata": {
    "slideshow": {
     "slide_type": "slide"
    }
   },
   "source": [
    "## [Vínculo al programa del curso de cálculo integral para ingeniería agropecuaria:](https://github.com/marco-canas/calculo/blob/main/programas_de_curso/2_programa_calculo_Integral_ingenieria_agropecuaria.docx)\n",
    "\n"
   ]
  },
  {
   "cell_type": "markdown",
   "id": "d11ab06d",
   "metadata": {
    "slideshow": {
     "slide_type": "slide"
    }
   },
   "source": [
    "Un reconocimiento a mis estudiantes que han construido conmigo este saber pedagógico:\n",
    "\n",
    "<img src = 'https://github.com/marco-canas/calculo/blob/main/images/student_images/3_calculo_integral/retroalimentacion_evaluacion_cuadrilateros_2024-05-02.jpeg?raw=true' width = 400> \n",
    "\n"
   ]
  },
  {
   "cell_type": "markdown",
   "id": "991451b4",
   "metadata": {},
   "source": [
    "Aquí tienes una lista de algunas mujeres destacadas en la ingeniería agropecuaria en Colombia, con una breve biografía de cada una:\n",
    "\n",
    "1. **María Camila Escobar**  \n",
    "   **Biografía:** María Camila Escobar es ingeniera agropecuaria egresada de la Universidad Nacional de Colombia. Ha trabajado en la gestión de proyectos de desarrollo rural y agricultura sostenible. Su trabajo se ha centrado en la implementación de prácticas agrícolas que promuevan la conservación del suelo y el agua en regiones afectadas por la deforestación y la degradación ambiental.  [Forbes](https://forbes.co/2024/05/10/forbes-women/camila-escobar-la-caficultora-mas-importante-de-colombia)\n",
    "<img src = 'https://forbes.co/_next/image?url=https%3A%2F%2Fcdn.forbes.co%2F2024%2F04%2FDREYM_IMG_1251.jpg%3Fv%3D1280720&w=1920&q=75'>  \n"
   ]
  },
  {
   "cell_type": "markdown",
   "id": "a72a6214",
   "metadata": {},
   "source": [
    "2. **Catalina Suárez**  \n",
    "   **Biografía:** Catalina Suárez es ingeniera agropecuaria con un máster en Ciencias Ambientales de la Universidad de los Andes. Ha liderado varios proyectos relacionados con la gestión integrada de recursos naturales y el desarrollo de tecnologías para la agricultura de precisión. Su enfoque ha sido mejorar la eficiencia en el uso del agua y los nutrientes en cultivos agrícolas.\n",
    "\n",
    "3. **Paola Vargas**  \n",
    "   **Biografía:** Paola Vargas se graduó como ingeniera agropecuaria en la Universidad de La Salle y ha trabajado en el sector agroindustrial en Colombia. Su experiencia incluye la optimización de procesos en la producción de alimentos y la implementación de prácticas agrícolas sostenibles. Paola ha colaborado con organizaciones para promover la seguridad alimentaria en comunidades rurales.\n",
    "\n",
    "4. **Sandra Ospina**  \n",
    "   **Biografía:** Sandra Ospina es ingeniera agropecuaria de la Universidad de Cundinamarca y cuenta con experiencia en el diseño de sistemas de producción agrícola y ganadera. Ha participado en proyectos de investigación sobre la mejora genética de cultivos y el manejo eficiente de recursos en sistemas agroecológicos.\n",
    "\n",
    "5. **Andrea Hernández**  \n",
    "   **Biografía:** Andrea Hernández es ingeniera agropecuaria de la Universidad del Valle. Su carrera se ha centrado en la agricultura sostenible y la restauración de ecosistemas degradados. Andrea ha trabajado en proyectos de rehabilitación de tierras agrícolas y en la promoción de prácticas de cultivo que respeten el equilibrio ecológico.\n",
    "\n",
    "Estas mujeres han hecho importantes contribuciones en el campo de la ingeniería agropecuaria en Colombia y han trabajado en diversas áreas relacionadas con la agricultura y el desarrollo sostenible."
   ]
  },
  {
   "cell_type": "code",
   "execution_count": 1,
   "id": "7604880f",
   "metadata": {
    "slideshow": {
     "slide_type": "slide"
    }
   },
   "outputs": [
    {
     "name": "stdout",
     "output_type": "stream",
     "text": [
      "Llamando a RAMOS PEREZ YANINE...\n",
      "Cambios guardados en el archivo CSV.\n",
      "Llamando a RIVAS HOYOS ESTEFANIA...\n",
      "Cambios guardados en el archivo CSV.\n",
      "Llamando a SANCHEZ PADILLA SILVESTRE...\n",
      "Cambios guardados en el archivo CSV.\n",
      "Llamando a HUMANEZ SANCHEZ CAMILO...\n",
      "Cambios guardados en el archivo CSV.\n",
      "Llamando a ARENAS HERAZO GABRIEL ENRIQUE...\n",
      "Cambios guardados en el archivo CSV.\n",
      "Llamando a MIRANDA MARTINEZ CARLOS ANDRES...\n",
      "Cambios guardados en el archivo CSV.\n",
      "Llamando a PEREZ THERAN ERLINDA...\n",
      "Cambios guardados en el archivo CSV.\n",
      "Llamando a BULA VERGARA MARIA PAULA...\n",
      "Cambios guardados en el archivo CSV.\n",
      "Llamando a CANTILLO ENSUCHO DANIEL...\n",
      "Cambios guardados en el archivo CSV.\n",
      "Llamando a AMARIS FERNANDEZ SEBASTIAN CAMILO...\n",
      "Cambios guardados en el archivo CSV.\n",
      "Llamando a BERTEL RODELO MICHELL SMIT...\n",
      "Cambios guardados en el archivo CSV.\n",
      "Llamando a SILVA ROYERO MAILY CRISTINA...\n",
      "Cambios guardados en el archivo CSV.\n",
      "Llamando a PEREZ REYES IVAN DARIO...\n",
      "Cambios guardados en el archivo CSV.\n",
      "Llamando a NORIEGA JIMENEZ GABRIELA...\n",
      "Cambios guardados en el archivo CSV.\n",
      "Llamando a AYALA MENDOZA MARISOL YACIRA...\n",
      "Cambios guardados en el archivo CSV.\n",
      "Llamando a USUGA GEORGE JHON ESTIVEN...\n",
      "Cambios guardados en el archivo CSV.\n",
      "Llamando a GUERRA NORIEGA YONATHAN...\n",
      "Cambios guardados en el archivo CSV.\n",
      "Llamando a MONTERROSA SOTO ABRIL...\n",
      "Cambios guardados en el archivo CSV.\n",
      "Llamando a QUINONEZ CERVANTES MARIANA...\n",
      "Cambios guardados en el archivo CSV.\n",
      "Llamando a CERVANTES DURAN ANGELICA...\n",
      "Cambios guardados en el archivo CSV.\n",
      "Llamando a ROSILLO TEJADA VANESA...\n",
      "Cambios guardados en el archivo CSV.\n",
      "Llamando a IBAÑEZ MORENO FRANCISCO LUIS...\n",
      "Cambios guardados en el archivo CSV.\n",
      "Llamando a HINCAPIE CASTRO JOHAN SEBASTIAN...\n",
      "Cambios guardados en el archivo CSV.\n",
      "Llamando a PINEDA ROMERO YOSMERI...\n",
      "Cambios guardados en el archivo CSV.\n",
      "Llamando a MASS MIRANDA RIVALDO JOSE...\n",
      "Cambios guardados en el archivo CSV.\n"
     ]
    }
   ],
   "source": [
    "import pandas as pd\n",
    "import numpy as np\n",
    "\n",
    "# Cargar la lista de estudiantes desde la URL\n",
    "path = '/home/marco/Documentos/docencia/groups_list/calculo_vectorial.csv'\n",
    "estudiantes = pd.read_csv(path)\n",
    "estudiantes['Parcial'] = estudiantes['Parcial'].astype(float) # hacer que todos los valores de la columna Parcial seen de tipo float\n",
    "\n",
    "# Convertir la columna 'Nombre' a una lista de Python\n",
    "lista_estudiantes = estudiantes['Nombre'].tolist()\n",
    "\n",
    "# Función para llamar a un estudiante aleatoriamente y registrar su nota de seguimiento\n",
    "def asistencia():\n",
    "    if lista_estudiantes:\n",
    "        estudiante_aleatorio = np.random.choice(lista_estudiantes)\n",
    "        print(f\"Llamando a {estudiante_aleatorio}...\")\n",
    "        asistencia = input(f\"¿Asistió {estudiante_aleatorio}? (s/n): \").strip().lower()\n",
    "        \n",
    "        if asistencia == 's':\n",
    "            # Obtener el índice del estudiante en el DataFrame\n",
    "            indice = estudiantes[estudiantes['Nombre'] == estudiante_aleatorio].index[0]\n",
    "            # Incrementar su valor en la columna 'Parcial'\n",
    "            estudiantes.at[indice, 'Parcial'] += 0.01\n",
    "            print(f\"Actualizado: {estudiante_aleatorio} ahora tiene {estudiantes.at[indice, 'Parcial']} en la columna 'Parcial'.\")\n",
    "        \n",
    "        lista_estudiantes.remove(estudiante_aleatorio)\n",
    "    else:\n",
    "        print(\"Se han llamado a todos los estudiantes del grupo completo.\")\n",
    "\n",
    "# Guardar los cambios en el archivo CSV\n",
    "def guardar_cambios():\n",
    "    estudiantes.to_csv(path, index=False)\n",
    "    print(\"Cambios guardados en el archivo CSV.\")\n",
    "\n",
    "# Ejemplo de uso\n",
    "while lista_estudiantes:\n",
    "    asistencia()\n",
    "    guardar_cambios()\n",
    "\n",
    "\n"
   ]
  },
  {
   "cell_type": "code",
   "execution_count": null,
   "id": "d60b2bf1",
   "metadata": {},
   "outputs": [],
   "source": [
    "\n",
    "asistencia()\n",
    "guardar_cambios()\n"
   ]
  },
  {
   "cell_type": "markdown",
   "id": "4f9d8cf9",
   "metadata": {
    "slideshow": {
     "slide_type": "slide"
    }
   },
   "source": [
    "# Modelo general de clase: [aula invertida](https://www3.gobiernodecanarias.org/medusa/ecoescuela/pedagotic/aprendizaje-invertido-flipped-classroom/)"
   ]
  },
  {
   "cell_type": "markdown",
   "id": "eb6ed03a",
   "metadata": {},
   "source": [
    "![Definamos flipped learning de manera gráfica](https://resources.maneuveringthemiddle.com/wp-content/uploads/2020/07/04212706/1-5.png)"
   ]
  },
  {
   "cell_type": "markdown",
   "id": "8d97dc80",
   "metadata": {
    "slideshow": {
     "slide_type": "slide"
    }
   },
   "source": [
    "## Fomento de la lectura literaria asociada a Ingeniería agropecuaria y licenciatura en Matemáticas\n",
    "\n",
    "[Confiar e inspirar de Stephen covey](https://github.com/marco-canas/confiar_e_inspirar/blob/main/primera_parte_el_futuro_del_liderazgo_de_mandar_y_controlar_confiar_e_inspirar/1_el_mundo_ha_cambiado_nuestro_estilo_de_liderazgo_no/1_el_mundo_ha_cambiado_nuestro_estilo_de_liderazgo_no.ipynb)"
   ]
  },
  {
   "cell_type": "markdown",
   "id": "96775931",
   "metadata": {
    "slideshow": {
     "slide_type": "slide"
    }
   },
   "source": [
    "## Título de la clase:  La integral definida aplicada a la determinación de desplazamiento y distancia de un cuerpo que se mueve a lo largo de una trayectoria rectilínea.  \n",
    "\n"
   ]
  },
  {
   "cell_type": "markdown",
   "id": "1d38dd4e",
   "metadata": {
    "slideshow": {
     "slide_type": "slide"
    }
   },
   "source": [
    "### Objetivo de aprendizaje (Enunciar, de manera corta sencilla y clara para todos los asistentes)\n",
    "\n",
    "* Que el estudiante de ingeniería aprenda a **describir** y a **predecir** un fenómeno físico utilizando los conceptos de integral definida, velocidad, tiempo, posición y **distancia y desplazamiento**. "
   ]
  },
  {
   "cell_type": "markdown",
   "id": "540f0ec1",
   "metadata": {
    "slideshow": {
     "slide_type": "slide"
    }
   },
   "source": [
    "## Cuestionario para realizar labores de memorización, observación y síntesis de la información (Además de diagnóstico)   \n",
    "\n",
    "\n"
   ]
  },
  {
   "cell_type": "markdown",
   "id": "758e091a",
   "metadata": {},
   "source": [
    "\n",
    "Aquí tienes un cuestionario diseñado para realizar un diagnóstico sobre la aplicación de la integral definida en el cálculo de desplazamiento y distancia recorrida en un movimiento rectilíneo. He incluido preguntas conceptuales y prácticas, así como preguntas que requieren el conocimiento de fórmulas de integración indefinida.\n",
    "\n",
    "---\n"
   ]
  },
  {
   "cell_type": "markdown",
   "id": "852e50fd",
   "metadata": {},
   "source": [
    "\n",
    "### **Cuestionario de Diagnóstico**\n",
    "\n",
    "#### **Parte 1: Conceptos Básicos**\n",
    "\n",
    "1. **¿Qué es la integral definida y cómo se relaciona con el cálculo del área bajo una curva?**  \n",
    "   **Respuesta:** La integral definida de una función $f(x)$ desde $a$ hasta $ b $ se representa como $ \\int_{a}^{b} f(x) \\, dx $. Esta integral calcula el área bajo la curva de $f(x)$ desde $ x = a$ hasta $ x = b $. En el contexto de física, cuando $f(x)$ representa la velocidad, la integral definida nos da el desplazamiento o la distancia recorrida.\n"
   ]
  },
  {
   "cell_type": "markdown",
   "id": "256de522",
   "metadata": {},
   "source": [
    "\n",
    "2. **¿Cuál es la diferencia entre desplazamiento y distancia recorrida en un movimiento rectilíneo?**  \n",
    "   **Respuesta:** El **desplazamiento** es el cambio neto en la posición de un objeto y puede ser positivo, negativo, o cero. Se calcula mediante la integral definida de la velocidad con respecto al tiempo. La **distancia recorrida** es la longitud total del camino recorrido y siempre es positiva. Se calcula como la integral definida del valor absoluto de la velocidad.\n",
    "\n",
    "3. **¿Qué representa la función de velocidad en términos de movimiento rectilíneo?**  \n",
    "   **Respuesta:** La función de velocidad \\( v(t) \\) representa la velocidad instantánea del objeto en movimiento en función del tiempo \\( t \\). Es la derivada de la posición \\( s(t) \\) con respecto al tiempo.\n"
   ]
  },
  {
   "cell_type": "markdown",
   "id": "8faa91f1",
   "metadata": {},
   "source": [
    "\n",
    "4. **Explica el proceso para determinar el desplazamiento de un objeto utilizando la integral definida.**  \n",
    "   **Respuesta:** Para determinar el desplazamiento de un objeto, se integra la función de velocidad \\( v(t) \\) con respecto al tiempo sobre el intervalo de tiempo dado. Esto se expresa como \\( \\text{Desplazamiento} = \\int_{t_1}^{t_2} v(t) \\, dt \\).\n",
    "\n",
    "5. **¿Cómo calculas la distancia recorrida por un objeto cuando la velocidad cambia de signo durante el movimiento?**  \n",
    "   **Respuesta:** Se debe integrar el valor absoluto de la función de velocidad \\( v(t) \\) en cada subintervalo donde \\( v(t) \\) mantenga un mismo signo. Luego se suma el valor absoluto de cada una de estas integrales. Es decir, \\( \\text{Distancia Recorrida} = \\int_{t_1}^{t_2} |v(t)| \\, dt \\).\n"
   ]
  },
  {
   "cell_type": "markdown",
   "id": "7c89677f",
   "metadata": {},
   "source": [
    "\n",
    "#### **Parte 2: Integrales Indefinidas**\n",
    "\n",
    "6. **Encuentra la integral indefinida de $ \\int x^2 \\, dx $.**  \n",
    "   **Respuesta:** $\\frac{x^3}{3} + C $\n"
   ]
  },
  {
   "cell_type": "markdown",
   "id": "7116a9c0",
   "metadata": {},
   "source": [
    "\n",
    "7. **Encuentra la integral indefinida de \\( \\int e^x \\, dx \\).**  \n",
    "   **Respuesta:** $ e^x + C $\n"
   ]
  },
  {
   "cell_type": "markdown",
   "id": "be3c2b5c",
   "metadata": {},
   "source": [
    "\n",
    "8. **Encuentra la integral indefinida de $ \\int \\sin(x) \\, dx $.**    \n",
    "   **Respuesta:** $-\\cos(x) + C $\n"
   ]
  },
  {
   "cell_type": "markdown",
   "id": "43e63b9e",
   "metadata": {},
   "source": [
    "\n",
    "9. **Encuentra la integral indefinida de \\( \\int \\cos(x) \\, dx \\).**  \n",
    "   **Respuesta:** \\( \\sin(x) + C \\)\n",
    "\n",
    "10. **Encuentra la integral indefinida de \\( \\int \\sec^2(x) \\, dx \\).**  \n",
    "    **Respuesta:** \\( \\tan(x) + C \\)\n",
    "\n",
    "11. **Encuentra la integral indefinida de \\( \\int \\csc^2(x) \\, dx \\).**  \n",
    "    **Respuesta:** \\( -\\cot(x) + C \\)\n",
    "\n",
    "12. **Encuentra la integral indefinida de \\( \\int \\sec(x) \\tan(x) \\, dx \\).**  \n",
    "    **Respuesta:** \\( \\sec(x) + C \\)\n",
    "\n",
    "13. **Encuentra la integral indefinida de \\( \\int \\frac{1}{x} \\, dx \\).**  \n",
    "    **Respuesta:** \\( \\ln|x| + C \\)\n"
   ]
  },
  {
   "cell_type": "markdown",
   "id": "cfdeef7f",
   "metadata": {},
   "source": [
    "\n",
    "14. **Encuentra la integral indefinida de $ \\int \\frac{1}{1+x^2} \\, dx $.**  \n",
    "    **Respuesta:** $ \\arctan(x) + C $\n"
   ]
  },
  {
   "cell_type": "markdown",
   "id": "cf5e204d",
   "metadata": {},
   "source": [
    "\n",
    "15. **Encuentra la integral indefinida de \\( \\int \\frac{1}{\\sqrt{1-x^2}} \\, dx \\).**  \n",
    "    **Respuesta:** $\\arcsin(x) + C$\n",
    "\n",
    "16. **Encuentra la integral indefinida de \\( \\int e^{-x} \\, dx \\).**  \n",
    "    **Respuesta:** $ -e^{-x} + C $\n",
    "\n",
    "17. **Encuentra la integral indefinida de \\( \\int \\sinh(x) \\, dx \\).**  \n",
    "    **Respuesta:** $ \\cosh(x) + C $\n",
    "\n",
    "18. **Encuentra la integral indefinida de \\( \\int \\cosh(x) \\, dx \\).**  \n",
    "    **Respuesta:** $ \\sinh(x) + C $\n"
   ]
  },
  {
   "cell_type": "markdown",
   "id": "66d31541",
   "metadata": {},
   "source": [
    "\n",
    "#### **Parte 3: Problemas Aplicados**\n",
    "\n",
    "19. **Si la velocidad de un objeto está dada por \\( v(t) = 3t^2 - 4t + 2 \\), ¿cuál es el desplazamiento del objeto entre \\( t = 1 \\) y \\( t = 3 \\)?**  \n",
    "   **Respuesta:** El desplazamiento es $ \\int_{1}^{3} (3t^2 - 4t + 2) \\, dt $. Calculando la integral:  \n",
    "   $ \\int (3t^2 - 4t + 2) \\, dt = t^3 - 2t^2 + 2t $.  \n",
    "   Evaluando en \\( t = 3 \\) y \\( t = 1 \\):  \n",
    "   \\( [27 - 18 + 6] - [1 - 2 + 2] = 15 - 1 = 14 \\).  \n",
    "   El desplazamiento es 14 unidades.\n"
   ]
  },
  {
   "cell_type": "markdown",
   "id": "7a473776",
   "metadata": {},
   "source": [
    "\n",
    "20. **Dada la velocidad $ v(t) = t^2 - 4t + 3 $, calcula la distancia total recorrida entre $ t = 0 $ y $ t = 4 $.**  \n",
    "   **Respuesta:** Primero, determinamos dónde $ v(t) $ cambia de signo:   \n",
    "\n",
    "   $ t^2 - 4t + 3 = 0 $ tiene raíces en $ t = 1 $ y $ t = 3 $.    \n",
    "\n",
    "   Entonces, la distancia es:   \n",
    "\n",
    "   $$ \\int_{0}^{1} |v(t)| \\, dt + \\int_{1}^{3} |v(t)| \\, dt + \\int_{3}^{4} |v(t)| \\, dt. $$  \n",
    "\n",
    "   Esto da:    \n",
    "\n",
    "   $$ \\int_{0}^{1} (3 - 4t + t^2) \\, dt + \\int_{1}^{3} (-3 + 4t - t^2) \\, dt + \\int_{3}^{4} (t^2 - 4t + 3) \\, dt. $$    \n",
    "   \n",
    "   Resolvemos cada integral y sumamos los valores absolutos para obtener la distancia total recorrida.\n"
   ]
  },
  {
   "cell_type": "markdown",
   "id": "cfcda3e7",
   "metadata": {},
   "source": [
    "\n",
    "---\n",
    "\n",
    "Este cuestionario debería proporcionar una buena evaluación del conocimiento inicial del estudiante en el tema. Las preguntas cubren tanto la teoría como la práctica, así como las habilidades necesarias en integración indefinida para abordar problemas más complejos."
   ]
  },
  {
   "cell_type": "markdown",
   "id": "8e457ea2",
   "metadata": {},
   "source": [
    "# Definiciones y Resultados científicos a comprender y memorizar \n",
    "\n",
    "[Primera grabación en Vocaroo]()\n",
    "\n",
    "aquí tienes las definiciones de desplazamiento y distancia en un movimiento rectilíneo de una partícula, junto con los conceptos asociados al uso de la integral definida para calcular estos valores:\n",
    "\n",
    "1. **Desplazamiento**  \n",
    "   **Definición:** El desplazamiento de una partícula en un movimiento rectilíneo es la diferencia entre su posición final y su posición inicial. Es una cantidad vectorial que tiene dirección y magnitud. Matemáticamente, si $ x(t)$ es la posición de la partícula en función del tiempo  $t $, el desplazamiento en el intervalo de tiempo $[t_1, t_2]$ se define como:\n",
    "   \n",
    "   $$\n",
    "   \\text{Desplazamiento} = x(t_2) - x(t_1)\n",
    "   $$\n",
    "\n",
    "   Donde $x(t_2)$ es la posición final y $ x(t_1)$ es la posición inicial.\n"
   ]
  },
  {
   "cell_type": "markdown",
   "id": "ba4a7596",
   "metadata": {},
   "source": [
    "\n",
    "2. **Distancia recorrida**  \n",
    "   **Definición:** La distancia recorrida es la longitud total del camino seguido por la partícula, sin tener en cuenta la dirección. En un movimiento rectilíneo, se calcula sumando las longitudes de los segmentos de trayecto, y en el caso general donde la partícula puede cambiar de dirección, se usa la integral definida del valor absoluto de la velocidad para calcularla. Si \\( v(t) \\) es la velocidad de la partícula, la distancia recorrida en el intervalo $[t_1, t_2]$ se define como:\n",
    "\n",
    "   $$\n",
    "   \\text{Distancia recorrida} = \\int_{t_1}^{t_2} |v(t)| \\, dt\n",
    "   $$\n",
    "\n",
    "   Donde $ |v(t)| $ es el valor absoluto de la velocidad en función del tiempo.\n"
   ]
  },
  {
   "cell_type": "markdown",
   "id": "c11f29dd",
   "metadata": {},
   "source": [
    "\n",
    "**Conceptos asociados al uso de la integral definida:**\n",
    "\n",
    "- **Integral definida:** Es una herramienta matemática que permite calcular el área bajo la curva de una función sobre un intervalo \\([a, b]\\). En el contexto de la distancia recorrida, se usa para sumar infinitesimales contribuciones a lo largo del intervalo de tiempo.\n",
    "\n",
    "   La integral definida de una función \\( f(t) \\) sobre el intervalo \\([a, b]\\) se expresa como:\n",
    "\n",
    "   \\[\n",
    "   \\int_{a}^{b} f(t) \\, dt\n",
    "   \\]\n",
    "\n",
    "   Donde \\( a \\) y \\( b \\) son los límites de integración, y \\( f(t) \\) es la función a integrar.\n",
    "\n",
    "- **Valor absoluto:** En el cálculo de la distancia recorrida, se utiliza el valor absoluto de la velocidad para asegurarse de que todas las contribuciones a la distancia son positivas, independientemente de la dirección del movimiento.\n",
    "\n",
    "Espero que estas definiciones y expresiones matemáticas te sean útiles para tus necesidades en Visual Studio."
   ]
  },
  {
   "cell_type": "markdown",
   "id": "ca7261b1",
   "metadata": {
    "slideshow": {
     "slide_type": "slide"
    }
   },
   "source": [
    "## Establecimiento de prerrequisitos conceptuales para alcanzar el objetivo de aprendizaje trazado.   \n",
    "\n",
    "(Elabore una lista de preguntas al rededor de los conceptos que consideres necesarios para empezar la clase).  \n",
    "\n",
    "1. Recordar que la integral indefinida de la velocidad $v(t)$ es la función posición: $s(t)$, es decir, recordar que \n",
    "\n",
    "$$ \\int v(t) = s(t) + C $$\n",
    "\n",
    "$$ \\int_{a}^{b} v(t) \\ dt = \\text{Desplazamiento realizado} $$\n",
    "\n",
    "2. \n",
    "3. "
   ]
  },
  {
   "cell_type": "markdown",
   "id": "2298e976",
   "metadata": {
    "slideshow": {
     "slide_type": "slide"
    }
   },
   "source": [
    "# Para el diseño de la clase tenga en cuenta algunos problemas de aprendizaje"
   ]
  },
  {
   "cell_type": "markdown",
   "id": "523d3acf",
   "metadata": {
    "slideshow": {
     "slide_type": "slide"
    }
   },
   "source": []
  },
  {
   "cell_type": "markdown",
   "id": "a40a4704",
   "metadata": {
    "slideshow": {
     "slide_type": "slide"
    }
   },
   "source": [
    "## Secuencia conceptual introductoria a la clase"
   ]
  },
  {
   "cell_type": "markdown",
   "id": "8853d874",
   "metadata": {},
   "source": [
    "## El componente histórico y epistemológico"
   ]
  },
  {
   "cell_type": "markdown",
   "id": "8fba6c73",
   "metadata": {},
   "source": [
    "# fomento del aprendizaje del idioma inglés\n",
    "## Vocabulary  \n",
    "1. Source = (src): fuente\n",
    "2.  \n",
    "3.  \n",
    "4.  \n",
    "5. \n"
   ]
  },
  {
   "cell_type": "markdown",
   "id": "35ef2184",
   "metadata": {},
   "source": [
    "\n",
    "## Here's a presentation in English for your students:\n",
    "\n",
    "---\n",
    "\n",
    "**Hello everyone!**\n",
    "\n",
    "My name is Marco Julio. I am a licensed teacher in Mathematics and Physics in Colombia and hold a Master's degree in Mathematical Sciences from the National University of Colombia, Medellín campus.\n",
    "\n",
    "I have a deep passion for mathematical analysis and enjoy applying it to various fields. Outside of academia, I am an avid cyclist, which is a great way for me to stay active and clear my mind.\n",
    "\n",
    "In my professional work, I focus on educational research, particularly around modeling and the development of computational thinking. I am dedicated to exploring innovative ways to enhance teaching and learning through these areas.\n",
    "\n",
    "I am excited to work with you and share my knowledge in mathematics and its applications. Let’s make this a great learning experience together!\n",
    "\n",
    "Thank you.\n",
    "\n",
    "---\n",
    "\n",
    "Feel free to adjust any details to better fit your style or the context of your presentation."
   ]
  },
  {
   "cell_type": "markdown",
   "id": "144db6bf",
   "metadata": {},
   "source": [
    "# Distancia y desplazamiento utilizando la integral definida \n",
    "\n",
    "Tomado de [Purcell](https://github.com/marco-canas/calculo/blob/main/referents/purcell/purcell_calculo.pdf) Página 279.  "
   ]
  },
  {
   "cell_type": "markdown",
   "id": "6d0877a2",
   "metadata": {},
   "source": [
    "\n",
    "Considere un objeto que se mueve a lo largo de una recta con velocidad $v(t)$ en el instante $t$.  \n",
    "\n",
    "Si $v(t) \\geq 0$, entonces $\\int_{a}^{b} v(t) dt$ proporciona la distancia recorrida durante el intervalo de tiempo $a \\leq t \\leq b$.  \n",
    "\n",
    "Sin embargo, si algunas veces $v(t)$ es negativa (que corresponde a que el objeto se mueva en sentido inverso), entonces\n",
    "\n",
    "$$ \\int_{a}^{b} v(t) \\ dt = s(b) - s(a)  = \\text{Desplazamiento realizado} $$\n",
    "\n",
    "mide el **desplazamiento** del objeto, esto es, la distancia dirigida desde su posición inicial $s(a)$ hasta su posición final $s(b)$.   "
   ]
  },
  {
   "cell_type": "markdown",
   "id": "41db0db6",
   "metadata": {},
   "source": [
    "Para obtener la **distancia total** que el objeto recorrió durante $a \\leq t \\leq b$, debemos calcular $\\int_{a}^{b} |v(t)|\\ dt$ el área entre la curva de la velocidad y el eje $t$. "
   ]
  },
  {
   "cell_type": "markdown",
   "id": "64ac8d32",
   "metadata": {},
   "source": [
    "# Ejemplo ilustrativo: Ejercicio 33 de la página 280 del Purcell. Conjunto de problemas 5.1.\n",
    "\n",
    "[Segundo video de apoyo a la lectura de este cuaderno](https://www.youtube.com/watch?v=18kfaRDDzr8)"
   ]
  },
  {
   "cell_type": "markdown",
   "id": "a682c4e8",
   "metadata": {},
   "source": [
    "\n",
    "Iniciando en una posición $s = 0$ cuando $t = 0$, un objeto se mueve a lo largo de una recta de modo que su velocidad en el instante $t$ es $v(t) = 2t - 4$ centímetros por segundo.   \n",
    "\n",
    "¿Cuánto tiempo le toma llegar a la posición $s = 12$?   \n",
    "\n",
    "¿Cuánto tiempo le toma recorrer una distancia total de $12$ centímetros?\n",
    "\n",
    "\n",
    "\n"
   ]
  },
  {
   "cell_type": "markdown",
   "id": "9006afb0",
   "metadata": {},
   "source": [
    "# Descripción animada de este movimiento rectilíneo "
   ]
  },
  {
   "cell_type": "code",
   "execution_count": 34,
   "id": "812e2455",
   "metadata": {},
   "outputs": [
    {
     "data": {
      "application/vnd.jupyter.widget-view+json": {
       "model_id": "df68d4036b084b3a874d2a34481ec897",
       "version_major": 2,
       "version_minor": 0
      },
      "text/plain": [
       "interactive(children=(FloatSlider(value=0.0, description='t', max=6.0), Output()), _dom_classes=('widget-inter…"
      ]
     },
     "metadata": {},
     "output_type": "display_data"
    },
    {
     "data": {
      "text/plain": [
       "<function __main__.trazar_particula_en_movimiento_horizontal(t=0)>"
      ]
     },
     "execution_count": 34,
     "metadata": {},
     "output_type": "execute_result"
    }
   ],
   "source": [
    "# descripción animada utilizando deslizadores gracias a la funcion interact\n",
    "from sympy import * \n",
    "tiempo, posicion, velocidad, tiempo_para_posicion_12, tiempo_para_distancia_12  = \\\n",
    "    var('tiempo, posicion, velocidad, tiempo_para_posicion_12, tiempo_para_posicion_12 ')\n",
    "\n",
    "velocidad = 2*tiempo - 4  # definir la velocidad como función simbólica de sympy\n",
    "\n",
    "valor_absoluto_de_la_velocidad = abs(velocidad)\n",
    "\n",
    "\n",
    "import numpy as np \n",
    "import matplotlib.pyplot as plt \n",
    "from ipywidgets import interact    \n",
    "\n",
    "velocidad_lambda = lambdify(tiempo, velocidad) # convertir las funciones simbólicas de sympy en funciones numéticas lambda de python\n",
    "valor_absoluto_de_la_velocidad_lambda = lambdify(tiempo, valor_absoluto_de_la_velocidad)\n",
    "\n",
    "\n",
    "\n",
    "\n",
    "def trazar_particula_en_movimiento_horizontal(t = 0):\n",
    "    def posicion(tiempo_):\n",
    "        return integrate(velocidad, (tiempo, 0, tiempo_))\n",
    "\n",
    "    def distancia(tiempo_):\n",
    "        if tiempo_ <= 2:\n",
    "            return integrate(-velocidad, (tiempo, 0, tiempo_))\n",
    "        elif tiempo_ > 2:\n",
    "            return integrate(-velocidad, (tiempo, 0, 2)) + integrate(velocidad, (tiempo, 2, tiempo_))\n",
    "        \n",
    "    plt.scatter([posicion(t)], [0], linewidth = 8, color = 'red',\\\n",
    "                 label = f'la distancia recorrida por la partícula es {distancia(t):.2f}') \n",
    "    \n",
    "    plt.axis([-5, 13, -1,1])\n",
    "    plt.legend()\n",
    "    plt.grid(alpha = 0.4)\n",
    "    plt.xticks(np.arange(-4,13))\n",
    "    plt.xlabel('posición de la partícula')\n",
    "    plt.title('Siculación de un movimiento rectímineo que cambia de sentido de movimiento')\n",
    "    plt.axhline(y = 0, xmin = -5, xmax = 13)\n",
    "    plt.show() \n",
    "\n",
    "\n",
    "interact(trazar_particula_en_movimiento_horizontal, t = (0,6, 0.1))\n",
    "\n"
   ]
  },
  {
   "cell_type": "code",
   "execution_count": 3,
   "id": "50fac2b2",
   "metadata": {},
   "outputs": [
    {
     "data": {
      "text/plain": [
       "(2*tiempo - 4, Abs(2*tiempo - 4))"
      ]
     },
     "execution_count": 3,
     "metadata": {},
     "output_type": "execute_result"
    }
   ],
   "source": [
    "# Metodología  \n",
    "\n",
    "# 1. importar sympy que es la librería de cálculo simbólico asociada a python\n",
    "# 2. definir variables tiempo t, posición s y de velocidad v\n",
    "# 3. definir a la función velocidad como función de sympy\n",
    "# 4. calcula la función valor absoluto de la velocidad. \n",
    "\n",
    "\n",
    "from sympy import * \n",
    "tiempo,posicion, velocidad, tiempo_para_posicion_12 = var('tiempo, posicion, velocidad, tiempo_para_posicion_12')\n",
    "\n",
    "velocidad = 2*tiempo - 4  # definir la velocidad como función simbólica de sympy\n",
    "\n",
    "valor_absoluto_de_la_velocidad = abs(velocidad)\n",
    "\n",
    "velocidad, valor_absoluto_de_la_velocidad"
   ]
  },
  {
   "cell_type": "code",
   "execution_count": 8,
   "id": "e85742da",
   "metadata": {},
   "outputs": [
    {
     "data": {
      "text/latex": [
       "$\\displaystyle tiempo_{para posicion 12}^{2} - 4 tiempo_{para posicion 12} = 12$"
      ],
      "text/plain": [
       "Eq(tiempo_para_posicion_12**2 - 4*tiempo_para_posicion_12, 12)"
      ]
     },
     "execution_count": 8,
     "metadata": {},
     "output_type": "execute_result"
    }
   ],
   "source": [
    "ecuacion = Eq(integrate(velocidad, (tiempo, 0, tiempo_para_posicion_12)), 12 - 0)\n",
    "ecuacion "
   ]
  },
  {
   "cell_type": "code",
   "execution_count": 7,
   "id": "e8629e26",
   "metadata": {},
   "outputs": [
    {
     "data": {
      "text/plain": [
       "[-2, 6]"
      ]
     },
     "execution_count": 7,
     "metadata": {},
     "output_type": "execute_result"
    }
   ],
   "source": [
    "solve(ecuacion, tiempo_para_posicion_12)"
   ]
  },
  {
   "cell_type": "markdown",
   "id": "2c542a1e",
   "metadata": {},
   "source": [
    "Conclusión, el objeto o partícula tarda 6 segundos en llegar a la posición de 12. "
   ]
  },
  {
   "cell_type": "code",
   "execution_count": 2,
   "id": "ecfa008d",
   "metadata": {},
   "outputs": [],
   "source": [
    "\n",
    "velocidad_lambda = lambdify(tiempo, velocidad) # convertir las funciones simbólicas de sympy en funciones numéticas lambda de python\n",
    "valor_absoluto_de_la_velocidad_lambda = lambdify(tiempo, valor_absoluto_de_la_velocidad)"
   ]
  },
  {
   "cell_type": "code",
   "execution_count": 13,
   "id": "c2a229d7",
   "metadata": {},
   "outputs": [
    {
     "data": {
      "image/png": "[encoded data removed]",
      "text/plain": [
       "<Figure size 640x480 with 1 Axes>"
      ]
     },
     "metadata": {},
     "output_type": "display_data"
    }
   ],
   "source": [
    "# Grafiquemos a la función velocidad para determinar su valor absoluto \n",
    "import numpy as np \n",
    "import matplotlib.pyplot as plt \n",
    "\n",
    "tiempos = np.arange(0,7)\n",
    "velocidades = velocidad_lambda(tiempos) \n",
    "\n",
    "plt.plot(tiempos, velocidades, label = 'función velocidad')\n",
    "plt.hlines(y = 0, xmin = 0, xmax = 6, color = 'green')\n",
    "plt.title('Gráfico de la función velocidad')\n",
    "plt.ylabel('Velocidad')\n",
    "plt.xlabel('tiempo')\n",
    "plt.grid() \n",
    "plt.legend() \n",
    "plt.vlines(x = 0, ymin = velocidades[0], ymax = velocidades[-1])\n",
    "\n",
    "plt.savefig('/home/marco/Documentos/docencia/calculo/images/4_integral/2_aplicaciones_integral_definida/3_desplazamiento_distancia/velocidad_1.jpg')\n"
   ]
  },
  {
   "cell_type": "markdown",
   "id": "cb77ff6b",
   "metadata": {},
   "source": [
    "* matplotlib es mejor que symbolab o geogebra porque permite al estudiante el personalizar sus gráficos con título y etiquetas para los ejes, de tal menra que esto facilite el análisis por pate del estudiante y su presentación el comunicar el significado de los texto gráficos que presenta. "
   ]
  },
  {
   "cell_type": "code",
   "execution_count": 8,
   "id": "82b91337",
   "metadata": {},
   "outputs": [],
   "source": [
    "\n",
    "def posicion(tiempo):\n",
    "    return integrate(v, (t, 0, tiempo))\n",
    "\n",
    "def distancia(tiempo):\n",
    "    if tiempo <= 2:\n",
    "        return integrate(-v, (t, 0, tiempo))\n",
    "    elif tiempo > 2:\n",
    "        return integrate(-v, (t, 0, 2)) + integrate(v, (t, 2, tiempo))\n",
    "\n",
    "\n",
    "\n",
    "\n"
   ]
  },
  {
   "cell_type": "code",
   "execution_count": 7,
   "id": "d95e86e5",
   "metadata": {},
   "outputs": [
    {
     "data": {
      "text/latex": [
       "$\\displaystyle 5$"
      ],
      "text/plain": [
       "5"
      ]
     },
     "execution_count": 7,
     "metadata": {},
     "output_type": "execute_result"
    }
   ],
   "source": [
    "distancia(3)"
   ]
  },
  {
   "cell_type": "code",
   "execution_count": 10,
   "id": "2f79abb3",
   "metadata": {},
   "outputs": [
    {
     "data": {
      "text/latex": [
       "$\\displaystyle tiempo_{12 cm}^{2} - 4 tiempo_{12 cm} = 12$"
      ],
      "text/plain": [
       "Eq(tiempo_12_cm**2 - 4*tiempo_12_cm, 12)"
      ]
     },
     "execution_count": 10,
     "metadata": {},
     "output_type": "execute_result"
    }
   ],
   "source": [
    "ecuacion1 = Eq(posicion(tiempo_12_cm), 12)\n",
    "ecuacion1"
   ]
  },
  {
   "cell_type": "code",
   "execution_count": 12,
   "id": "a80fb27d",
   "metadata": {},
   "outputs": [
    {
     "data": {
      "text/latex": [
       "$\\displaystyle 6$"
      ],
      "text/plain": [
       "6"
      ]
     },
     "execution_count": 12,
     "metadata": {},
     "output_type": "execute_result"
    }
   ],
   "source": [
    "solve(ecuacion1, tiempo_12_cm)[1]"
   ]
  },
  {
   "cell_type": "markdown",
   "id": "b240c164",
   "metadata": {},
   "source": [
    "## Conclusión\n",
    "\n",
    "Al cabo de 6 segundo, la partícula alcanza una posición de 12. "
   ]
  },
  {
   "cell_type": "code",
   "execution_count": 14,
   "id": "f6e304cb",
   "metadata": {},
   "outputs": [],
   "source": [
    "def distancia_para_t_mayor_a_2(tiempo):\n",
    "    return integrate(-v, (t, 0, 2)) + integrate(v, (t, 2, tiempo)) \n",
    "# para evitar el uso de la función abs() de sympy y así funcione bien la función solve()"
   ]
  },
  {
   "cell_type": "code",
   "execution_count": 15,
   "id": "da9b1d59",
   "metadata": {},
   "outputs": [
    {
     "data": {
      "text/latex": [
       "$\\displaystyle tiempo_{12 cm}^{2} - 4 tiempo_{12 cm} + 8 = 12$"
      ],
      "text/plain": [
       "Eq(tiempo_12_cm**2 - 4*tiempo_12_cm + 8, 12)"
      ]
     },
     "execution_count": 15,
     "metadata": {},
     "output_type": "execute_result"
    }
   ],
   "source": [
    "ecuacion2 = Eq(distancia_para_t_mayor_a_2(tiempo_12_cm), 12)\n",
    "ecuacion2"
   ]
  },
  {
   "cell_type": "code",
   "execution_count": 16,
   "id": "39b7c9e0",
   "metadata": {},
   "outputs": [
    {
     "data": {
      "text/latex": [
       "$\\displaystyle 4.82842712474619$"
      ],
      "text/plain": [
       "4.82842712474619"
      ]
     },
     "execution_count": 16,
     "metadata": {},
     "output_type": "execute_result"
    }
   ],
   "source": [
    "solve(ecuacion2, tiempo_12_cm)[1].evalf() "
   ]
  },
  {
   "cell_type": "markdown",
   "id": "fd300286",
   "metadata": {},
   "source": [
    "## Conclusión o segunda respuesta    \n",
    "\n",
    "El tiempo requerido para recorrer una distancia de 12 centímetros es 4.8284 segundos. "
   ]
  },
  {
   "cell_type": "markdown",
   "id": "a3e5e6ab",
   "metadata": {},
   "source": [
    "# 10 ejercicios de entrenamiento o adquisición de habilidades obtenidas a través de ChatGPT para una formación personalizada y centrada en la habilidad que se quiere lograr con la enseñanza del ejemplo anterior"
   ]
  },
  {
   "cell_type": "markdown",
   "id": "cc539357",
   "metadata": {},
   "source": [
    "Claro, aquí tienes 10 ejercicios análogos que puedes utilizar para practicar la aplicación de la integral definida en la determinación de desplazamientos y distancias en movimientos rectilíneos:\n"
   ]
  },
  {
   "cell_type": "markdown",
   "id": "16c2cb64",
   "metadata": {},
   "source": [
    "\n",
    "1. **Ejercicio 1:**\n",
    "   \n",
    "   Iniciando en $s = 0$ cuando $t = 0$, un objeto se mueve a lo largo de una recta de modo que su velocidad en el instante $t$ es $v(t) = 3t - 6$ centímetros por segundo.\n",
    "\n",
    "   - ¿Cuánto tiempo le toma llegar a $s = 18$?\n",
    "   - ¿Cuánto tiempo le toma recorrer una distancia total de $18$ centímetros?\n"
   ]
  },
  {
   "cell_type": "markdown",
   "id": "4b57e9d1",
   "metadata": {},
   "source": [
    "# Animación del ejercicio 1"
   ]
  },
  {
   "cell_type": "markdown",
   "id": "e4e31f64",
   "metadata": {},
   "source": [
    "\n",
    "2. **Ejercicio 2:**\n",
    "   \n",
    "   Iniciando en $s = 0$ cuando $t = 0$, un objeto se mueve a lo largo de una recta de modo que su velocidad en el instante $t$ es $v(t) = t^2 - 4t + 3$ centímetros por segundo.\n",
    "\n",
    "   - ¿Cuánto tiempo le toma llegar a $s = 8$?\n",
    "   - ¿Cuánto tiempo le toma recorrer una distancia total de $8$ centímetros?\n"
   ]
  },
  {
   "cell_type": "markdown",
   "id": "b5456667",
   "metadata": {},
   "source": [
    "\n",
    "3. **Ejercicio 3:**\n",
    "   \n",
    "   Iniciando en $s = 0$ cuando $t = 0$, un objeto se mueve a lo largo de una recta de modo que su velocidad en el instante $t$ es $v(t) = 4 - 2t$ centímetros por segundo.\n",
    "\n",
    "   - ¿Cuánto tiempo le toma llegar a $s = 10$?\n",
    "   - ¿Cuánto tiempo le toma recorrer una distancia total de $10$ centímetros?\n"
   ]
  },
  {
   "cell_type": "markdown",
   "id": "f9ec8284",
   "metadata": {},
   "source": [
    "\n",
    "4. **Ejercicio 4:**\n",
    "   \n",
    "   Iniciando en $s = 0$ cuando $t = 0$, un objeto se mueve a lo largo de una recta de modo que su velocidad en el instante $t$ es $v(t) = 2t^2 - 8t + 5$ centímetros por segundo.\n",
    "\n",
    "   - ¿Cuánto tiempo le toma llegar a la posición $s = 15$?\n",
    "   - ¿Cuánto tiempo le toma recorrer una distancia total de $15$ centímetros?\n"
   ]
  },
  {
   "cell_type": "code",
   "execution_count": 42,
   "id": "dfaa109c",
   "metadata": {},
   "outputs": [
    {
     "data": {
      "image/png": "[encoded data removed]",
      "text/plain": [
       "<Figure size 640x480 with 1 Axes>"
      ]
     },
     "metadata": {},
     "output_type": "display_data"
    }
   ],
   "source": [
    "import numpy as np \n",
    "import matplotlib.pyplot as plt \n",
    "a,b = 0,4\n",
    "dominio = np.arange(a,b, 0.1)\n",
    "def v(t):\n",
    "    return 2*t**2 - 8*t + 5\n",
    "rango = v(dominio)\n",
    "plt.title('Gráfica de la función velocidad')\n",
    "plt.axhline(y = 0, xmin = a, xmax = b, color = 'blue')\n",
    "plt.plot(dominio, rango, color = 'red') \n",
    "plt.grid() "
   ]
  },
  {
   "cell_type": "code",
   "execution_count": 52,
   "id": "4c65debe",
   "metadata": {},
   "outputs": [
    {
     "data": {
      "text/plain": [
       "(2 - sqrt(6)/2, sqrt(6)/2 + 2)"
      ]
     },
     "execution_count": 52,
     "metadata": {},
     "output_type": "execute_result"
    }
   ],
   "source": [
    "from sympy import * \n",
    "t, v, t_ =var('t, v, t_') \n",
    "v = 2*t**2 - 8*t + 5\n",
    "solve(Eq(v.subs(t, t_), 0), t_)[0], solve(Eq(v.subs(t, t_), 0), t_)[1]"
   ]
  },
  {
   "cell_type": "code",
   "execution_count": 69,
   "id": "4b7ded80",
   "metadata": {},
   "outputs": [
    {
     "data": {
      "application/vnd.jupyter.widget-view+json": {
       "model_id": "5c49108218314134b77b388fd95d4a12",
       "version_major": 2,
       "version_minor": 0
      },
      "text/plain": [
       "interactive(children=(FloatSlider(value=0.0, description='t', max=6.0), Output()), _dom_classes=('widget-inter…"
      ]
     },
     "metadata": {},
     "output_type": "display_data"
    },
    {
     "data": {
      "text/plain": [
       "<function __main__.trazar_particula_en_movimiento_horizontal(t=0)>"
      ]
     },
     "execution_count": 69,
     "metadata": {},
     "output_type": "execute_result"
    }
   ],
   "source": [
    "# descripción animada utilizando deslizadores gracias a la funcion interact\n",
    "from sympy import * \n",
    "tiempo, posicion, velocidad, tiempo_para_posicion_12, tiempo_para_distancia_12  = \\\n",
    "    var('tiempo, posicion, velocidad, tiempo_para_posicion_12, tiempo_para_posicion_12 ')\n",
    "\n",
    "velocidad = 2*tiempo**2 - 8*tiempo + 5  # definir la velocidad como función simbólica de sympy\n",
    "\n",
    "valor_absoluto_de_la_velocidad = abs(velocidad)\n",
    "\n",
    "\n",
    "import numpy as np \n",
    "import matplotlib.pyplot as plt \n",
    "from ipywidgets import interact    \n",
    "\n",
    "velocidad_lambda = lambdify(tiempo, velocidad) # convertir las funciones simbólicas de sympy en funciones numéticas lambda de python\n",
    "valor_absoluto_de_la_velocidad_lambda = lambdify(tiempo, valor_absoluto_de_la_velocidad)\n",
    "\n",
    "\n",
    "\n",
    "\n",
    "def trazar_particula_en_movimiento_horizontal(t = 0):\n",
    "    def posicion(tiempo_):\n",
    "        return integrate(velocidad, (tiempo, 0, tiempo_))\n",
    "\n",
    "    def distancia(tiempo_):\n",
    "        primer_cero_de_la_velocidad = 2-sqrt(6)/2\n",
    "        segundo_cero_de_la_velocidad = 2 + sqrt(6)/2\n",
    "        if tiempo_ <= primer_cero_de_la_velocidad:\n",
    "            return (integrate(velocidad, (tiempo, 0, tiempo_))).evalf()\n",
    "        elif (tiempo_ > primer_cero_de_la_velocidad) and (tiempo_ <= segundo_cero_de_la_velocidad): \n",
    "            return (integrate(velocidad, (tiempo, 0, primer_cero_de_la_velocidad)) \\\n",
    "                + integrate(-velocidad, (tiempo, primer_cero_de_la_velocidad, tiempo_))).evalf()\n",
    "        elif tiempo_ > segundo_cero_de_la_velocidad:\n",
    "            return (integrate(velocidad, (tiempo, 0, primer_cero_de_la_velocidad)) \\\n",
    "                + integrate(-velocidad, (tiempo, primer_cero_de_la_velocidad, segundo_cero_de_la_velocidad)) \\\n",
    "                + integrate(velocidad, (tiempo, segundo_cero_de_la_velocidad, tiempo_))).evalf()\n",
    "        \n",
    "    plt.scatter([posicion(t)], [0], linewidth = 8, color = 'red',\\\n",
    "                 label = f'la distancia recorrida por la partícula es {distancia(t):.2f}') \n",
    "    \n",
    "    plt.axis([-5, 18, -1,1])\n",
    "    plt.legend()\n",
    "    plt.grid(alpha = 0.4)\n",
    "    plt.xticks(np.arange(-4,18))\n",
    "    plt.xlabel('posición de la partícula')\n",
    "    plt.title('Siculación de un movimiento rectímineo que cambia de sentido de movimiento')\n",
    "    plt.axhline(y = 0, xmin = -5, xmax = 18)\n",
    "    plt.show() \n",
    "\n",
    "\n",
    "interact(trazar_particula_en_movimiento_horizontal, t = (0,6, 0.1))\n"
   ]
  },
  {
   "cell_type": "code",
   "execution_count": 66,
   "id": "03abd6ef",
   "metadata": {},
   "outputs": [],
   "source": [
    "valor_absoluto_de_la_velocidad = abs(velocidad)\n",
    "\n",
    "\n",
    "import numpy as np \n",
    "import matplotlib.pyplot as plt \n",
    "from ipywidgets import interact    \n",
    "\n",
    "velocidad_lambda = lambdify(tiempo, velocidad) # convertir las funciones simbólicas de sympy en funciones numéticas lambda de python\n",
    "valor_absoluto_de_la_velocidad_lambda = lambdify(tiempo, valor_absoluto_de_la_velocidad)\n",
    "\n",
    "\n",
    "\n",
    "\n",
    "def trazar_particula_en_movimiento_horizontal(t = 0):\n",
    "    def posicion(tiempo_):\n",
    "        return integrate(velocidad, (tiempo, 0, tiempo_))\n",
    "\n",
    "    def distancia(tiempo_):\n",
    "        primer_cero_de_la_velocidad = 2-np.sqrt(6)/2\n",
    "        segundo_cero_de_la_velocidad = 2 + np.sqrt(6)/2\n",
    "        if tiempo_ <= primer_cero_de_la_velocidad:\n",
    "            return (integrate(velocidad, (tiempo, 0, tiempo_))).evalf()\n",
    "        elif (tiempo_ > primer_cero_de_la_velocidad) and (tiempo_ <= segundo_cero_de_la_velocidad): \n",
    "            return (integrate(velocidad, (tiempo, 0, primer_cero_de_la_velocidad)) \\\n",
    "                + integrate(-velocidad, (tiempo, primer_cero_de_la_velocidad, tiempo_))).evalf()\n",
    "        elif tiempo_ > segundo_cero_de_la_velocidad:\n",
    "            return (integrate(velocidad, (tiempo, 0, primer_cero_de_la_velocidad)) \\\n",
    "                + integrate(-velocidad, (tiempo, primer_cero_de_la_velocidad, segundo_cero_de_la_velocidad)) \\\n",
    "                + integrate(velocidad, (tiempo, segundo_cero_de_la_velocidad, tiempo_))).evalf()"
   ]
  },
  {
   "cell_type": "code",
   "execution_count": 67,
   "id": "ec45a0ea",
   "metadata": {},
   "outputs": [
    {
     "ename": "TypeError",
     "evalue": "cannot determine truth value of Relational",
     "output_type": "error",
     "traceback": [
      "\u001b[0;31m---------------------------------------------------------------------------\u001b[0m",
      "\u001b[0;31mTypeError\u001b[0m                                 Traceback (most recent call last)",
      "Cell \u001b[0;32mIn[67], line 1\u001b[0m\n\u001b[0;32m----> 1\u001b[0m \u001b[43mdistancia\u001b[49m\u001b[43m(\u001b[49m\u001b[38;5;241;43m0.5\u001b[39;49m\u001b[43m)\u001b[49m\n",
      "Cell \u001b[0;32mIn[26], line 22\u001b[0m, in \u001b[0;36mdistancia\u001b[0;34m(tiempo_)\u001b[0m\n\u001b[1;32m     21\u001b[0m \u001b[38;5;28;01mdef\u001b[39;00m \u001b[38;5;21mdistancia\u001b[39m(tiempo_):\n\u001b[0;32m---> 22\u001b[0m     \u001b[38;5;28;01mif\u001b[39;00m tiempo \u001b[38;5;241m<\u001b[39m\u001b[38;5;241m=\u001b[39m \u001b[38;5;241m2\u001b[39m:\n\u001b[1;32m     23\u001b[0m         \u001b[38;5;28;01mreturn\u001b[39;00m integrate(\u001b[38;5;241m-\u001b[39mvelocidad, (tiempo, \u001b[38;5;241m0\u001b[39m, tiempo_))\n\u001b[1;32m     24\u001b[0m     \u001b[38;5;28;01melif\u001b[39;00m tiempo \u001b[38;5;241m>\u001b[39m \u001b[38;5;241m2\u001b[39m:\n",
      "File \u001b[0;32m~/Documentos/docencia/calculo/.venv/lib/python3.10/site-packages/sympy/core/relational.py:510\u001b[0m, in \u001b[0;36mRelational.__bool__\u001b[0;34m(self)\u001b[0m\n\u001b[1;32m    509\u001b[0m \u001b[38;5;28;01mdef\u001b[39;00m \u001b[38;5;21m__bool__\u001b[39m(\u001b[38;5;28mself\u001b[39m):\n\u001b[0;32m--> 510\u001b[0m     \u001b[38;5;28;01mraise\u001b[39;00m \u001b[38;5;167;01mTypeError\u001b[39;00m(\u001b[38;5;124m\"\u001b[39m\u001b[38;5;124mcannot determine truth value of Relational\u001b[39m\u001b[38;5;124m\"\u001b[39m)\n",
      "\u001b[0;31mTypeError\u001b[0m: cannot determine truth value of Relational"
     ]
    }
   ],
   "source": [
    "distancia(0.5)"
   ]
  },
  {
   "cell_type": "markdown",
   "id": "93b40277",
   "metadata": {},
   "source": [
    "\n",
    "5. **Ejercicio 5:**\n",
    "   \n",
    "   Iniciando en $s = 0$ cuando $t = 0$, un objeto se mueve a lo largo de una recta de modo que su velocidad en el instante $t$ es $v(t) = \\sin(t)$ centímetros por segundo.\n",
    "\n",
    "   - ¿Cuánto tiempo le toma llegar a $s = 5$?\n",
    "   - ¿Cuánto tiempo le toma recorrer una distancia total de $5$ centímetros?\n"
   ]
  },
  {
   "cell_type": "markdown",
   "id": "6db1f296",
   "metadata": {},
   "source": [
    "\n",
    "6. **Ejercicio 6:**\n",
    "   \n",
    "   Iniciando en $s = 0$ cuando $t = 0$, un objeto se mueve a lo largo de una recta de modo que su velocidad en el instante $t$ es $v(t) = e^t - 1$ centímetros por segundo.\n",
    "\n",
    "   - ¿Cuánto tiempo le toma llegar a $s = 7$?\n",
    "   - ¿Cuánto tiempo le toma recorrer una distancia total de $7$ centímetros?\n"
   ]
  },
  {
   "cell_type": "markdown",
   "id": "ea20a221",
   "metadata": {},
   "source": [
    "\n",
    "7. **Ejercicio 7:**\n",
    "   \n",
    "   Iniciando en $s = 0$ cuando $t = 0$, un objeto se mueve a lo largo de una recta de modo que su velocidad en el instante $t$ es $v(t) = \\ln(t + 1)$ centímetros por segundo.\n",
    "\n",
    "   - ¿Cuánto tiempo le toma llegar a $s = 3$?\n",
    "   - ¿Cuánto tiempo le toma recorrer una distancia total de $3$ centímetros?\n"
   ]
  },
  {
   "cell_type": "markdown",
   "id": "4f5729b8",
   "metadata": {},
   "source": [
    "\n",
    "8. **Ejercicio 8:**\n",
    "   \n",
    "   Iniciando en $s = 0$ cuando $t = 0$, un objeto se mueve a lo largo de una recta de modo que su velocidad en el instante $t$ es $v(t) = \\sqrt{t}$ centímetros por segundo.\n",
    "\n",
    "   - ¿Cuánto tiempo le toma llegar a $s = 4$?\n",
    "   - ¿Cuánto tiempo le toma recorrer una distancia total de $4$ centímetros?\n"
   ]
  },
  {
   "cell_type": "markdown",
   "id": "97527fe4",
   "metadata": {},
   "source": [
    "\n",
    "9. **Ejercicio 9:**\n",
    "   \n",
    "   Iniciando en $s = 0$ cuando $t = 0$, un objeto se mueve a lo largo de una recta de modo que su velocidad en el instante $t$ es $v(t) = t - \\frac{t^2}{2}$ centímetros por segundo.\n",
    "\n",
    "   - ¿Cuánto tiempo le toma llegar a $s = 6$?\n",
    "   - ¿Cuánto tiempo le toma recorrer una distancia total de $6$ centímetros?\n"
   ]
  },
  {
   "cell_type": "markdown",
   "id": "8cf04bc8",
   "metadata": {},
   "source": [
    "\n",
    "10. **Ejercicio 10:**\n",
    "    \n",
    "    Iniciando en $s = 0$ cuando $t = 0$, un objeto se mueve a lo largo de una recta de modo que su velocidad en el instante $t$ es $v(t) = 5 - 3t$ centímetros por segundo.\n",
    "\n",
    "    - ¿Cuánto tiempo le toma llegar a $s = 8$?\n",
    "    - ¿Cuánto tiempo le toma recorrer una distancia total de $8$ centímetros?\n"
   ]
  },
  {
   "cell_type": "markdown",
   "id": "3989681b",
   "metadata": {},
   "source": [
    "\n",
    "Cada ejercicio sigue el mismo esquema que el ejemplo proporcionado: determinar\n",
    "* el tiempo que tarda en alcanzar una posición específica y \n",
    "* el tiempo que tarda en recorrer una distancia total específica."
   ]
  },
  {
   "cell_type": "markdown",
   "id": "2f0141c3",
   "metadata": {},
   "source": [
    "## Tareas para realizar antes de la clase  \n",
    "\n",
    "1. Ver los videos respectivos []()\n",
    "2. Memorizar las definiciones []()\n",
    "3. Sintetizar o resumir la información en mapas conceptuales. []()\n",
    "4. Tareas para incentivar el uso de la calculadora Casio Para ingenieros y licenciados. \n",
    "5. Leer los ejemplos resueltos y repricar la manera de hacerlos"
   ]
  },
  {
   "cell_type": "code",
   "execution_count": 28,
   "id": "3db51219",
   "metadata": {},
   "outputs": [
    {
     "data": {
      "text/plain": [
       "'/home/marco/Documentos/docencia/calculo/images/4_integral/2_aplicaciones_integral_definida/3_desplazamiento_distancia/La integral definida como desplazamiento y como distancia.pdf'"
      ]
     },
     "execution_count": 28,
     "metadata": {},
     "output_type": "execute_result"
    }
   ],
   "source": [
    "# mapa conceptual para cada clase  \n",
    "from graphviz import Digraph\n",
    "\n",
    "# Crear un nuevo grafo dirigido\n",
    "dot = Digraph()\n",
    "\n",
    "# Añadir nodos y relaciones al grafo\n",
    "main_concept = 'La integral definida como desplazamiento y como distancia'\n",
    "dot.node('A', main_concept)\n",
    "dot.node('B', 'posición')\n",
    "dot.node('C', 'desplazamiento')\n",
    "dot.node('D', 'distancia')\n",
    "\n",
    "\n",
    "dot.edges(['AB', 'AC', 'AD'])\n",
    "\n",
    "\n",
    "# Guardar el grafo como un archivo de imagen\n",
    "dot.render(filename=main_concept, format='png', cleanup=True, \\\n",
    "           directory='/home/marco/Documentos/docencia/calculo/images/4_integral/2_aplicaciones_integral_definida/3_desplazamiento_distancia')\n",
    "\n",
    "dot.view()\n"
   ]
  },
  {
   "cell_type": "code",
   "execution_count": 15,
   "metadata": {},
   "outputs": [
    {
     "name": "stdout",
     "output_type": "stream",
     "text": [
      "Tarea 1 sobre lectura a ejemplos:  tarea_Purcell_Página_275_Sección_5.1.csv\n"
     ]
    },
    {
     "data": {
      "text/html": [
       "<div>\n",
       "<style scoped>\n",
       "    .dataframe tbody tr th:only-of-type {\n",
       "        vertical-align: middle;\n",
       "    }\n",
       "\n",
       "    .dataframe tbody tr th {\n",
       "        vertical-align: top;\n",
       "    }\n",
       "\n",
       "    .dataframe thead th {\n",
       "        text-align: right;\n",
       "    }\n",
       "</style>\n",
       "<table border=\"1\" class=\"dataframe\">\n",
       "  <thead>\n",
       "    <tr style=\"text-align: right;\">\n",
       "      <th></th>\n",
       "      <th>Student</th>\n",
       "      <th>Example1</th>\n",
       "      <th>Example2</th>\n",
       "      <th>Example3</th>\n",
       "      <th>Example4</th>\n",
       "      <th>Example5</th>\n",
       "      <th>Example6</th>\n",
       "    </tr>\n",
       "  </thead>\n",
       "  <tbody>\n",
       "    <tr>\n",
       "      <th>0</th>\n",
       "      <td>AMARIS FERNANDEZ SEBASTIAN CAMILO</td>\n",
       "      <td>6</td>\n",
       "      <td>7</td>\n",
       "      <td>4</td>\n",
       "      <td>3</td>\n",
       "      <td>5</td>\n",
       "      <td>2</td>\n",
       "    </tr>\n",
       "    <tr>\n",
       "      <th>1</th>\n",
       "      <td>ARENAS HERAZO GABRIEL ENRIQUE</td>\n",
       "      <td>3</td>\n",
       "      <td>5</td>\n",
       "      <td>4</td>\n",
       "      <td>6</td>\n",
       "      <td>7</td>\n",
       "      <td>2</td>\n",
       "    </tr>\n",
       "    <tr>\n",
       "      <th>2</th>\n",
       "      <td>AYALA MENDOZA MARISOL YACIRA</td>\n",
       "      <td>2</td>\n",
       "      <td>3</td>\n",
       "      <td>7</td>\n",
       "      <td>5</td>\n",
       "      <td>4</td>\n",
       "      <td>6</td>\n",
       "    </tr>\n",
       "    <tr>\n",
       "      <th>3</th>\n",
       "      <td>BERTEL RODELO MICHELL SMIT</td>\n",
       "      <td>7</td>\n",
       "      <td>6</td>\n",
       "      <td>4</td>\n",
       "      <td>5</td>\n",
       "      <td>3</td>\n",
       "      <td>2</td>\n",
       "    </tr>\n",
       "    <tr>\n",
       "      <th>4</th>\n",
       "      <td>BULA VERGARA MARIA PAULA</td>\n",
       "      <td>2</td>\n",
       "      <td>5</td>\n",
       "      <td>3</td>\n",
       "      <td>4</td>\n",
       "      <td>6</td>\n",
       "      <td>7</td>\n",
       "    </tr>\n",
       "    <tr>\n",
       "      <th>5</th>\n",
       "      <td>CANTILLO ENSUCHO DANIEL</td>\n",
       "      <td>6</td>\n",
       "      <td>2</td>\n",
       "      <td>4</td>\n",
       "      <td>7</td>\n",
       "      <td>3</td>\n",
       "      <td>5</td>\n",
       "    </tr>\n",
       "    <tr>\n",
       "      <th>6</th>\n",
       "      <td>CERVANTES DURAN ANGELICA</td>\n",
       "      <td>4</td>\n",
       "      <td>3</td>\n",
       "      <td>6</td>\n",
       "      <td>2</td>\n",
       "      <td>7</td>\n",
       "      <td>5</td>\n",
       "    </tr>\n",
       "    <tr>\n",
       "      <th>7</th>\n",
       "      <td>GUERRA NORIEGA YONATHAN</td>\n",
       "      <td>7</td>\n",
       "      <td>2</td>\n",
       "      <td>5</td>\n",
       "      <td>3</td>\n",
       "      <td>6</td>\n",
       "      <td>4</td>\n",
       "    </tr>\n",
       "    <tr>\n",
       "      <th>8</th>\n",
       "      <td>HINCAPIE CASTRO JOHAN SEBASTIAN</td>\n",
       "      <td>7</td>\n",
       "      <td>2</td>\n",
       "      <td>5</td>\n",
       "      <td>4</td>\n",
       "      <td>6</td>\n",
       "      <td>3</td>\n",
       "    </tr>\n",
       "    <tr>\n",
       "      <th>9</th>\n",
       "      <td>HUMANEZ SANCHEZ CAMILO</td>\n",
       "      <td>2</td>\n",
       "      <td>4</td>\n",
       "      <td>5</td>\n",
       "      <td>3</td>\n",
       "      <td>7</td>\n",
       "      <td>6</td>\n",
       "    </tr>\n",
       "    <tr>\n",
       "      <th>10</th>\n",
       "      <td>IBAÑEZ MORENO FRANCISCO LUIS</td>\n",
       "      <td>6</td>\n",
       "      <td>4</td>\n",
       "      <td>2</td>\n",
       "      <td>7</td>\n",
       "      <td>5</td>\n",
       "      <td>3</td>\n",
       "    </tr>\n",
       "    <tr>\n",
       "      <th>11</th>\n",
       "      <td>MASS MIRANDA RIVALDO JOSE</td>\n",
       "      <td>7</td>\n",
       "      <td>5</td>\n",
       "      <td>4</td>\n",
       "      <td>6</td>\n",
       "      <td>3</td>\n",
       "      <td>2</td>\n",
       "    </tr>\n",
       "    <tr>\n",
       "      <th>12</th>\n",
       "      <td>MIRANDA MARTINEZ CARLOS ANDRES</td>\n",
       "      <td>7</td>\n",
       "      <td>5</td>\n",
       "      <td>2</td>\n",
       "      <td>6</td>\n",
       "      <td>3</td>\n",
       "      <td>4</td>\n",
       "    </tr>\n",
       "    <tr>\n",
       "      <th>13</th>\n",
       "      <td>MONTERROSA SOTO ABRIL</td>\n",
       "      <td>2</td>\n",
       "      <td>4</td>\n",
       "      <td>6</td>\n",
       "      <td>5</td>\n",
       "      <td>7</td>\n",
       "      <td>3</td>\n",
       "    </tr>\n",
       "    <tr>\n",
       "      <th>14</th>\n",
       "      <td>NORIEGA JIMENEZ GABRIELA</td>\n",
       "      <td>3</td>\n",
       "      <td>5</td>\n",
       "      <td>4</td>\n",
       "      <td>6</td>\n",
       "      <td>2</td>\n",
       "      <td>7</td>\n",
       "    </tr>\n",
       "    <tr>\n",
       "      <th>15</th>\n",
       "      <td>PEREZ REYES IVAN DARIO</td>\n",
       "      <td>2</td>\n",
       "      <td>7</td>\n",
       "      <td>4</td>\n",
       "      <td>5</td>\n",
       "      <td>6</td>\n",
       "      <td>3</td>\n",
       "    </tr>\n",
       "    <tr>\n",
       "      <th>16</th>\n",
       "      <td>PEREZ THERAN ERLINDA</td>\n",
       "      <td>4</td>\n",
       "      <td>7</td>\n",
       "      <td>3</td>\n",
       "      <td>2</td>\n",
       "      <td>6</td>\n",
       "      <td>5</td>\n",
       "    </tr>\n",
       "    <tr>\n",
       "      <th>17</th>\n",
       "      <td>PINEDA ROMERO YOSMERI</td>\n",
       "      <td>2</td>\n",
       "      <td>7</td>\n",
       "      <td>3</td>\n",
       "      <td>4</td>\n",
       "      <td>6</td>\n",
       "      <td>5</td>\n",
       "    </tr>\n",
       "    <tr>\n",
       "      <th>18</th>\n",
       "      <td>QUINONEZ CERVANTES MARIANA</td>\n",
       "      <td>2</td>\n",
       "      <td>6</td>\n",
       "      <td>7</td>\n",
       "      <td>4</td>\n",
       "      <td>5</td>\n",
       "      <td>3</td>\n",
       "    </tr>\n",
       "    <tr>\n",
       "      <th>19</th>\n",
       "      <td>RAMOS PEREZ YANINE</td>\n",
       "      <td>5</td>\n",
       "      <td>7</td>\n",
       "      <td>3</td>\n",
       "      <td>2</td>\n",
       "      <td>4</td>\n",
       "      <td>6</td>\n",
       "    </tr>\n",
       "    <tr>\n",
       "      <th>20</th>\n",
       "      <td>RIVAS HOYOS ESTEFANIA</td>\n",
       "      <td>4</td>\n",
       "      <td>5</td>\n",
       "      <td>7</td>\n",
       "      <td>6</td>\n",
       "      <td>2</td>\n",
       "      <td>3</td>\n",
       "    </tr>\n",
       "    <tr>\n",
       "      <th>21</th>\n",
       "      <td>ROSILLO TEJADA VANESA</td>\n",
       "      <td>3</td>\n",
       "      <td>4</td>\n",
       "      <td>7</td>\n",
       "      <td>6</td>\n",
       "      <td>2</td>\n",
       "      <td>5</td>\n",
       "    </tr>\n",
       "    <tr>\n",
       "      <th>22</th>\n",
       "      <td>SANCHEZ PADILLA SILVESTRE</td>\n",
       "      <td>3</td>\n",
       "      <td>6</td>\n",
       "      <td>5</td>\n",
       "      <td>2</td>\n",
       "      <td>7</td>\n",
       "      <td>4</td>\n",
       "    </tr>\n",
       "    <tr>\n",
       "      <th>23</th>\n",
       "      <td>SILVA ROYERO MAILY CRISTINA</td>\n",
       "      <td>6</td>\n",
       "      <td>7</td>\n",
       "      <td>3</td>\n",
       "      <td>2</td>\n",
       "      <td>4</td>\n",
       "      <td>5</td>\n",
       "    </tr>\n",
       "    <tr>\n",
       "      <th>24</th>\n",
       "      <td>USUGA GEORGE JHON ESTIVEN</td>\n",
       "      <td>3</td>\n",
       "      <td>5</td>\n",
       "      <td>4</td>\n",
       "      <td>2</td>\n",
       "      <td>7</td>\n",
       "      <td>6</td>\n",
       "    </tr>\n",
       "  </tbody>\n",
       "</table>\n",
       "</div>"
      ],
      "text/plain": [
       "                              Student  Example1  Example2  Example3  Example4  \\\n",
       "0   AMARIS FERNANDEZ SEBASTIAN CAMILO         6         7         4         3   \n",
       "1       ARENAS HERAZO GABRIEL ENRIQUE         3         5         4         6   \n",
       "2        AYALA MENDOZA MARISOL YACIRA         2         3         7         5   \n",
       "3          BERTEL RODELO MICHELL SMIT         7         6         4         5   \n",
       "4            BULA VERGARA MARIA PAULA         2         5         3         4   \n",
       "5             CANTILLO ENSUCHO DANIEL         6         2         4         7   \n",
       "6            CERVANTES DURAN ANGELICA         4         3         6         2   \n",
       "7             GUERRA NORIEGA YONATHAN         7         2         5         3   \n",
       "8     HINCAPIE CASTRO JOHAN SEBASTIAN         7         2         5         4   \n",
       "9              HUMANEZ SANCHEZ CAMILO         2         4         5         3   \n",
       "10       IBAÑEZ MORENO FRANCISCO LUIS         6         4         2         7   \n",
       "11          MASS MIRANDA RIVALDO JOSE         7         5         4         6   \n",
       "12     MIRANDA MARTINEZ CARLOS ANDRES         7         5         2         6   \n",
       "13              MONTERROSA SOTO ABRIL         2         4         6         5   \n",
       "14           NORIEGA JIMENEZ GABRIELA         3         5         4         6   \n",
       "15             PEREZ REYES IVAN DARIO         2         7         4         5   \n",
       "16               PEREZ THERAN ERLINDA         4         7         3         2   \n",
       "17              PINEDA ROMERO YOSMERI         2         7         3         4   \n",
       "18         QUINONEZ CERVANTES MARIANA         2         6         7         4   \n",
       "19                 RAMOS PEREZ YANINE         5         7         3         2   \n",
       "20              RIVAS HOYOS ESTEFANIA         4         5         7         6   \n",
       "21              ROSILLO TEJADA VANESA         3         4         7         6   \n",
       "22          SANCHEZ PADILLA SILVESTRE         3         6         5         2   \n",
       "23        SILVA ROYERO MAILY CRISTINA         6         7         3         2   \n",
       "24          USUGA GEORGE JHON ESTIVEN         3         5         4         2   \n",
       "\n",
       "    Example5  Example6  \n",
       "0          5         2  \n",
       "1          7         2  \n",
       "2          4         6  \n",
       "3          3         2  \n",
       "4          6         7  \n",
       "5          3         5  \n",
       "6          7         5  \n",
       "7          6         4  \n",
       "8          6         3  \n",
       "9          7         6  \n",
       "10         5         3  \n",
       "11         3         2  \n",
       "12         3         4  \n",
       "13         7         3  \n",
       "14         2         7  \n",
       "15         6         3  \n",
       "16         6         5  \n",
       "17         6         5  \n",
       "18         5         3  \n",
       "19         4         6  \n",
       "20         2         3  \n",
       "21         2         5  \n",
       "22         7         4  \n",
       "23         4         5  \n",
       "24         7         6  "
      ]
     },
     "execution_count": 15,
     "metadata": {},
     "output_type": "execute_result"
    }
   ],
   "source": [
    "# Tarea 1 de lectura y completación de ejemplos \n",
    "# asignación de tarea para realizar antes de clase\n",
    "# Consiste en leer y completar un ejemplo de texto guía\n",
    "\n",
    "import pandas as pd\n",
    "import numpy as np\n",
    "import requests\n",
    "np.random.seed(1213)  # establecer semilla aleatoria para hacer los resultados reproducibles\n",
    "\n",
    "\n",
    "\n",
    "grupo_estudiantes = 'calculo_vectorial'\n",
    "nombre_texto_guia = 'Purcell'\n",
    "pagina_y_seccion = 'Página_275_Sección_5.1'\n",
    "numero_ejemplos_de_la_seccion = 7\n",
    "numero_de_ejemplos_para_leer_y_completar = 6\n",
    "\n",
    "\n",
    "# Descargar la lista de  estudiantes\n",
    "students_path = \"/home/marco/Documentos/docencia/groups_list/\" + grupo_estudiantes + \".csv\"\n",
    "exercises = list(range(1, numero_ejemplos_de_la_seccion))  \n",
    "\n",
    "students_data = pd.read_csv(students_path)\n",
    "\n",
    "# Crear una lista para almacenar las asignaciones\n",
    "assignments = []\n",
    "\n",
    "# Asignar ejercicios aleatorios a cada estudiante\n",
    "for index, student in students_data.iterrows():\n",
    "    # Seleccionar 5 ejercicios aleatorios sin repetición\n",
    "    random_exercises = np.random.choice(exercises, numero_de_ejemplos_para_leer_y_completar, \\\n",
    "                                        replace = False) + 1 \n",
    "    assignments.append([students_data[\"Nombre\"][index], *random_exercises])  # Agregar asignación a la lista\n",
    "\n",
    "# Crear un DataFrame con las asignaciones\n",
    "columns = [\"Student\"] + [ \"Example\" + str(i+1) for i in range(numero_de_ejemplos_para_leer_y_completar)]\n",
    "assignment_df = pd.DataFrame(assignments, columns=columns)\n",
    "\n",
    "# Guardar el DataFrame en un archivo CSV\n",
    "assignment_csv = \"tarea\" + \"_\" + nombre_texto_guia + \"_\"+ pagina_y_seccion + \".csv\"\n",
    "assignment_df.to_csv(assignment_csv, index=False)\n",
    "\n",
    "print(\"Tarea 1 sobre lectura a ejemplos: \", assignment_csv)\n",
    "assignment_df"
   ]
  },
  {
   "cell_type": "markdown",
   "id": "740f3401",
   "metadata": {
    "slideshow": {
     "slide_type": "slide"
    }
   },
   "source": [
    "# Componente de manejo de calculadora Casio asociado al objetivo de aprendizaje de esta clase"
   ]
  },
  {
   "cell_type": "markdown",
   "id": "8eecb2d9",
   "metadata": {
    "slideshow": {
     "slide_type": "slide"
    }
   },
   "source": [
    "## Descripción del proceso para realizar integración definida con la calculadora Casio 570 \n",
    "\n"
   ]
  },
  {
   "cell_type": "markdown",
   "id": "3cd72835",
   "metadata": {
    "slideshow": {
     "slide_type": "slide"
    }
   },
   "source": [
    "Claro, aquí tienes una secuencia de pasos para guiar a tus estudiantes en el uso de la calculadora Casio fx-570 para calcular integrales definidas y valores absolutos:\n",
    "\n",
    "### Cálculo de Integrales Definidas\n",
    "\n",
    "1. **Encender la Calculadora:**\n",
    "   - Presiona el botón `ON` para encender la calculadora.\n",
    "\n",
    "2. **Seleccionar el Modo de Cálculo:**\n",
    "   - Presiona el botón `MODE` para acceder al menú de modos.\n",
    "   - Usa las flechas de dirección para seleccionar `6: Integral` y presiona `=` para elegir el modo de cálculo de integrales.\n",
    "\n",
    "3. **Ingresar la Función:**\n",
    "   - En el campo de la función, ingresa la expresión matemática que deseas integrar. Por ejemplo, para integrar \\( x^2 \\), escribe `x^2` (nota que algunas calculadoras requieren que uses `^` para exponentes).\n",
    "\n",
    "4. **Establecer los Límites de Integración:**\n",
    "   - Después de ingresar la función, presiona `SHIFT` seguido de `x−1` para ingresar los límites de integración.\n",
    "   - Ingresa el límite inferior (por ejemplo, `0`), presiona `,`, luego ingresa el límite superior (por ejemplo, `1`).\n",
    "\n",
    "5. **Calcular la Integral:**\n",
    "   - Presiona `=` para calcular la integral definida. La calculadora mostrará el resultado en la pantalla.\n",
    "\n",
    "### Cálculo de Valores Absolutos\n",
    "\n",
    "1. **Seleccionar el Modo de Cálculo:**\n",
    "   - Presiona el botón `MODE` para acceder al menú de modos.\n",
    "   - Selecciona `1: Cálculo` (si no está en este modo ya) y presiona `=`.\n",
    "\n",
    "2. **Ingresar la Expresión:**\n",
    "   - Ingresa la expresión que deseas evaluar. Para valores absolutos, usa la función de valor absoluto de la calculadora.\n",
    "   - Presiona `SHIFT` seguido de `(` para abrir el menú de funciones.\n",
    "   - Selecciona `ABS` (valor absoluto) de la lista de funciones.\n",
    "   - Ingresa la expresión dentro del paréntesis. Por ejemplo, para calcular \\( |x - 3| \\) donde \\( x = 5 \\), primero ingresa `5 - 3`.\n",
    "\n",
    "3. **Evaluar la Expresión:**\n",
    "   - Presiona `=` para calcular el valor absoluto. La calculadora mostrará el resultado.\n",
    "\n",
    "### Ejemplo Práctico\n",
    "\n",
    "**Ejemplo 1: Calcular la Integral Definida de \\( x^2 \\) desde 0 hasta 1**\n",
    "\n",
    "1. Enciende la calculadora y selecciona el modo `6: Integral`.\n",
    "2. Ingresa `x^2` como la función a integrar.\n",
    "3. Establece los límites de integración: `0` y `1`.\n",
    "4. Presiona `=` para obtener el resultado.\n",
    "\n",
    "**Ejemplo 2: Calcular el Valor Absoluto de \\( -7 \\)**\n",
    "\n",
    "1. Enciende la calculadora y selecciona el modo `1: Cálculo`.\n",
    "2. Presiona `SHIFT` seguido de `(` para abrir el menú de funciones.\n",
    "3. Selecciona `ABS` y luego ingresa `-7`.\n",
    "4. Presiona `=` para obtener el resultado.\n",
    "\n",
    "Con estos pasos, tus estudiantes deberían poder usar la calculadora Casio fx-570 para realizar cálculos de integrales definidas y valores absolutos de manera efectiva."
   ]
  },
  {
   "cell_type": "code",
   "execution_count": null,
   "id": "d8a111c4",
   "metadata": {
    "slideshow": {
     "slide_type": "slide"
    }
   },
   "outputs": [],
   "source": []
  },
  {
   "cell_type": "markdown",
   "id": "fccb447c",
   "metadata": {
    "slideshow": {
     "slide_type": "slide"
    }
   },
   "source": [
    "# Tareas para realizar en clase"
   ]
  },
  {
   "cell_type": "markdown",
   "id": "e5c48edf",
   "metadata": {
    "slideshow": {
     "slide_type": "slide"
    }
   },
   "source": [
    "* Modelación matemática \n",
    "* Trabajo en equipos"
   ]
  },
  {
   "cell_type": "code",
   "execution_count": 17,
   "metadata": {},
   "outputs": [
    {
     "name": "stdout",
     "output_type": "stream",
     "text": [
      "Tarea 2: solucionar utilizando integracion definida:  tarea_Purcell_Página_280_Sección_5.1.csv\n"
     ]
    },
    {
     "data": {
      "text/html": [
       "<div>\n",
       "<style scoped>\n",
       "    .dataframe tbody tr th:only-of-type {\n",
       "        vertical-align: middle;\n",
       "    }\n",
       "\n",
       "    .dataframe tbody tr th {\n",
       "        vertical-align: top;\n",
       "    }\n",
       "\n",
       "    .dataframe thead th {\n",
       "        text-align: right;\n",
       "    }\n",
       "</style>\n",
       "<table border=\"1\" class=\"dataframe\">\n",
       "  <thead>\n",
       "    <tr style=\"text-align: right;\">\n",
       "      <th></th>\n",
       "      <th>Student</th>\n",
       "      <th>Exer1</th>\n",
       "      <th>Exer2</th>\n",
       "      <th>Exer3</th>\n",
       "      <th>Exer4</th>\n",
       "      <th>Exer5</th>\n",
       "      <th>Exer6</th>\n",
       "      <th>Exer7</th>\n",
       "      <th>Exer8</th>\n",
       "      <th>Exer9</th>\n",
       "      <th>Exer10</th>\n",
       "    </tr>\n",
       "  </thead>\n",
       "  <tbody>\n",
       "    <tr>\n",
       "      <th>0</th>\n",
       "      <td>AMARIS FERNANDEZ SEBASTIAN CAMILO</td>\n",
       "      <td>16</td>\n",
       "      <td>7</td>\n",
       "      <td>19</td>\n",
       "      <td>26</td>\n",
       "      <td>11</td>\n",
       "      <td>4</td>\n",
       "      <td>37</td>\n",
       "      <td>23</td>\n",
       "      <td>30</td>\n",
       "      <td>31</td>\n",
       "    </tr>\n",
       "    <tr>\n",
       "      <th>1</th>\n",
       "      <td>ARENAS HERAZO GABRIEL ENRIQUE</td>\n",
       "      <td>18</td>\n",
       "      <td>10</td>\n",
       "      <td>34</td>\n",
       "      <td>27</td>\n",
       "      <td>2</td>\n",
       "      <td>24</td>\n",
       "      <td>37</td>\n",
       "      <td>13</td>\n",
       "      <td>9</td>\n",
       "      <td>12</td>\n",
       "    </tr>\n",
       "    <tr>\n",
       "      <th>2</th>\n",
       "      <td>AYALA MENDOZA MARISOL YACIRA</td>\n",
       "      <td>4</td>\n",
       "      <td>16</td>\n",
       "      <td>28</td>\n",
       "      <td>37</td>\n",
       "      <td>8</td>\n",
       "      <td>7</td>\n",
       "      <td>25</td>\n",
       "      <td>29</td>\n",
       "      <td>31</td>\n",
       "      <td>26</td>\n",
       "    </tr>\n",
       "    <tr>\n",
       "      <th>3</th>\n",
       "      <td>BERTEL RODELO MICHELL SMIT</td>\n",
       "      <td>29</td>\n",
       "      <td>35</td>\n",
       "      <td>30</td>\n",
       "      <td>16</td>\n",
       "      <td>10</td>\n",
       "      <td>15</td>\n",
       "      <td>18</td>\n",
       "      <td>26</td>\n",
       "      <td>25</td>\n",
       "      <td>12</td>\n",
       "    </tr>\n",
       "    <tr>\n",
       "      <th>4</th>\n",
       "      <td>BULA VERGARA MARIA PAULA</td>\n",
       "      <td>33</td>\n",
       "      <td>5</td>\n",
       "      <td>8</td>\n",
       "      <td>11</td>\n",
       "      <td>22</td>\n",
       "      <td>31</td>\n",
       "      <td>21</td>\n",
       "      <td>10</td>\n",
       "      <td>30</td>\n",
       "      <td>24</td>\n",
       "    </tr>\n",
       "    <tr>\n",
       "      <th>5</th>\n",
       "      <td>CANTILLO ENSUCHO DANIEL</td>\n",
       "      <td>6</td>\n",
       "      <td>38</td>\n",
       "      <td>32</td>\n",
       "      <td>18</td>\n",
       "      <td>11</td>\n",
       "      <td>33</td>\n",
       "      <td>26</td>\n",
       "      <td>15</td>\n",
       "      <td>2</td>\n",
       "      <td>24</td>\n",
       "    </tr>\n",
       "    <tr>\n",
       "      <th>6</th>\n",
       "      <td>CERVANTES DURAN ANGELICA</td>\n",
       "      <td>7</td>\n",
       "      <td>26</td>\n",
       "      <td>3</td>\n",
       "      <td>20</td>\n",
       "      <td>10</td>\n",
       "      <td>21</td>\n",
       "      <td>29</td>\n",
       "      <td>6</td>\n",
       "      <td>18</td>\n",
       "      <td>35</td>\n",
       "    </tr>\n",
       "    <tr>\n",
       "      <th>7</th>\n",
       "      <td>GUERRA NORIEGA YONATHAN</td>\n",
       "      <td>7</td>\n",
       "      <td>29</td>\n",
       "      <td>23</td>\n",
       "      <td>20</td>\n",
       "      <td>19</td>\n",
       "      <td>38</td>\n",
       "      <td>22</td>\n",
       "      <td>11</td>\n",
       "      <td>28</td>\n",
       "      <td>31</td>\n",
       "    </tr>\n",
       "    <tr>\n",
       "      <th>8</th>\n",
       "      <td>HINCAPIE CASTRO JOHAN SEBASTIAN</td>\n",
       "      <td>29</td>\n",
       "      <td>19</td>\n",
       "      <td>37</td>\n",
       "      <td>13</td>\n",
       "      <td>5</td>\n",
       "      <td>38</td>\n",
       "      <td>24</td>\n",
       "      <td>10</td>\n",
       "      <td>30</td>\n",
       "      <td>28</td>\n",
       "    </tr>\n",
       "    <tr>\n",
       "      <th>9</th>\n",
       "      <td>HUMANEZ SANCHEZ CAMILO</td>\n",
       "      <td>22</td>\n",
       "      <td>7</td>\n",
       "      <td>27</td>\n",
       "      <td>32</td>\n",
       "      <td>33</td>\n",
       "      <td>38</td>\n",
       "      <td>23</td>\n",
       "      <td>10</td>\n",
       "      <td>11</td>\n",
       "      <td>13</td>\n",
       "    </tr>\n",
       "    <tr>\n",
       "      <th>10</th>\n",
       "      <td>IBAÑEZ MORENO FRANCISCO LUIS</td>\n",
       "      <td>34</td>\n",
       "      <td>24</td>\n",
       "      <td>26</td>\n",
       "      <td>32</td>\n",
       "      <td>6</td>\n",
       "      <td>36</td>\n",
       "      <td>38</td>\n",
       "      <td>20</td>\n",
       "      <td>21</td>\n",
       "      <td>8</td>\n",
       "    </tr>\n",
       "    <tr>\n",
       "      <th>11</th>\n",
       "      <td>MASS MIRANDA RIVALDO JOSE</td>\n",
       "      <td>8</td>\n",
       "      <td>13</td>\n",
       "      <td>12</td>\n",
       "      <td>30</td>\n",
       "      <td>19</td>\n",
       "      <td>29</td>\n",
       "      <td>25</td>\n",
       "      <td>37</td>\n",
       "      <td>23</td>\n",
       "      <td>17</td>\n",
       "    </tr>\n",
       "    <tr>\n",
       "      <th>12</th>\n",
       "      <td>MIRANDA MARTINEZ CARLOS ANDRES</td>\n",
       "      <td>11</td>\n",
       "      <td>31</td>\n",
       "      <td>25</td>\n",
       "      <td>36</td>\n",
       "      <td>7</td>\n",
       "      <td>13</td>\n",
       "      <td>18</td>\n",
       "      <td>19</td>\n",
       "      <td>38</td>\n",
       "      <td>35</td>\n",
       "    </tr>\n",
       "    <tr>\n",
       "      <th>13</th>\n",
       "      <td>MONTERROSA SOTO ABRIL</td>\n",
       "      <td>17</td>\n",
       "      <td>31</td>\n",
       "      <td>12</td>\n",
       "      <td>30</td>\n",
       "      <td>29</td>\n",
       "      <td>9</td>\n",
       "      <td>33</td>\n",
       "      <td>5</td>\n",
       "      <td>28</td>\n",
       "      <td>27</td>\n",
       "    </tr>\n",
       "    <tr>\n",
       "      <th>14</th>\n",
       "      <td>NORIEGA JIMENEZ GABRIELA</td>\n",
       "      <td>7</td>\n",
       "      <td>12</td>\n",
       "      <td>13</td>\n",
       "      <td>25</td>\n",
       "      <td>14</td>\n",
       "      <td>36</td>\n",
       "      <td>29</td>\n",
       "      <td>20</td>\n",
       "      <td>8</td>\n",
       "      <td>35</td>\n",
       "    </tr>\n",
       "    <tr>\n",
       "      <th>15</th>\n",
       "      <td>PEREZ REYES IVAN DARIO</td>\n",
       "      <td>19</td>\n",
       "      <td>30</td>\n",
       "      <td>23</td>\n",
       "      <td>25</td>\n",
       "      <td>35</td>\n",
       "      <td>4</td>\n",
       "      <td>24</td>\n",
       "      <td>28</td>\n",
       "      <td>33</td>\n",
       "      <td>26</td>\n",
       "    </tr>\n",
       "    <tr>\n",
       "      <th>16</th>\n",
       "      <td>PEREZ THERAN ERLINDA</td>\n",
       "      <td>21</td>\n",
       "      <td>28</td>\n",
       "      <td>10</td>\n",
       "      <td>20</td>\n",
       "      <td>18</td>\n",
       "      <td>14</td>\n",
       "      <td>7</td>\n",
       "      <td>2</td>\n",
       "      <td>3</td>\n",
       "      <td>5</td>\n",
       "    </tr>\n",
       "    <tr>\n",
       "      <th>17</th>\n",
       "      <td>PINEDA ROMERO YOSMERI</td>\n",
       "      <td>13</td>\n",
       "      <td>15</td>\n",
       "      <td>37</td>\n",
       "      <td>2</td>\n",
       "      <td>14</td>\n",
       "      <td>3</td>\n",
       "      <td>22</td>\n",
       "      <td>36</td>\n",
       "      <td>26</td>\n",
       "      <td>5</td>\n",
       "    </tr>\n",
       "    <tr>\n",
       "      <th>18</th>\n",
       "      <td>QUINONEZ CERVANTES MARIANA</td>\n",
       "      <td>3</td>\n",
       "      <td>16</td>\n",
       "      <td>36</td>\n",
       "      <td>20</td>\n",
       "      <td>23</td>\n",
       "      <td>33</td>\n",
       "      <td>13</td>\n",
       "      <td>11</td>\n",
       "      <td>19</td>\n",
       "      <td>31</td>\n",
       "    </tr>\n",
       "    <tr>\n",
       "      <th>19</th>\n",
       "      <td>RAMOS PEREZ YANINE</td>\n",
       "      <td>21</td>\n",
       "      <td>26</td>\n",
       "      <td>35</td>\n",
       "      <td>2</td>\n",
       "      <td>32</td>\n",
       "      <td>25</td>\n",
       "      <td>7</td>\n",
       "      <td>16</td>\n",
       "      <td>30</td>\n",
       "      <td>12</td>\n",
       "    </tr>\n",
       "    <tr>\n",
       "      <th>20</th>\n",
       "      <td>RIVAS HOYOS ESTEFANIA</td>\n",
       "      <td>4</td>\n",
       "      <td>26</td>\n",
       "      <td>30</td>\n",
       "      <td>25</td>\n",
       "      <td>33</td>\n",
       "      <td>13</td>\n",
       "      <td>7</td>\n",
       "      <td>23</td>\n",
       "      <td>19</td>\n",
       "      <td>14</td>\n",
       "    </tr>\n",
       "    <tr>\n",
       "      <th>21</th>\n",
       "      <td>ROSILLO TEJADA VANESA</td>\n",
       "      <td>28</td>\n",
       "      <td>34</td>\n",
       "      <td>25</td>\n",
       "      <td>19</td>\n",
       "      <td>37</td>\n",
       "      <td>7</td>\n",
       "      <td>30</td>\n",
       "      <td>13</td>\n",
       "      <td>32</td>\n",
       "      <td>18</td>\n",
       "    </tr>\n",
       "    <tr>\n",
       "      <th>22</th>\n",
       "      <td>SANCHEZ PADILLA SILVESTRE</td>\n",
       "      <td>33</td>\n",
       "      <td>30</td>\n",
       "      <td>38</td>\n",
       "      <td>28</td>\n",
       "      <td>14</td>\n",
       "      <td>23</td>\n",
       "      <td>2</td>\n",
       "      <td>15</td>\n",
       "      <td>7</td>\n",
       "      <td>32</td>\n",
       "    </tr>\n",
       "    <tr>\n",
       "      <th>23</th>\n",
       "      <td>SILVA ROYERO MAILY CRISTINA</td>\n",
       "      <td>11</td>\n",
       "      <td>22</td>\n",
       "      <td>21</td>\n",
       "      <td>30</td>\n",
       "      <td>37</td>\n",
       "      <td>35</td>\n",
       "      <td>33</td>\n",
       "      <td>20</td>\n",
       "      <td>27</td>\n",
       "      <td>29</td>\n",
       "    </tr>\n",
       "    <tr>\n",
       "      <th>24</th>\n",
       "      <td>USUGA GEORGE JHON ESTIVEN</td>\n",
       "      <td>2</td>\n",
       "      <td>3</td>\n",
       "      <td>7</td>\n",
       "      <td>5</td>\n",
       "      <td>10</td>\n",
       "      <td>24</td>\n",
       "      <td>30</td>\n",
       "      <td>22</td>\n",
       "      <td>15</td>\n",
       "      <td>18</td>\n",
       "    </tr>\n",
       "  </tbody>\n",
       "</table>\n",
       "</div>"
      ],
      "text/plain": [
       "                              Student  Exer1  Exer2  Exer3  Exer4  Exer5  \\\n",
       "0   AMARIS FERNANDEZ SEBASTIAN CAMILO     16      7     19     26     11   \n",
       "1       ARENAS HERAZO GABRIEL ENRIQUE     18     10     34     27      2   \n",
       "2        AYALA MENDOZA MARISOL YACIRA      4     16     28     37      8   \n",
       "3          BERTEL RODELO MICHELL SMIT     29     35     30     16     10   \n",
       "4            BULA VERGARA MARIA PAULA     33      5      8     11     22   \n",
       "5             CANTILLO ENSUCHO DANIEL      6     38     32     18     11   \n",
       "6            CERVANTES DURAN ANGELICA      7     26      3     20     10   \n",
       "7             GUERRA NORIEGA YONATHAN      7     29     23     20     19   \n",
       "8     HINCAPIE CASTRO JOHAN SEBASTIAN     29     19     37     13      5   \n",
       "9              HUMANEZ SANCHEZ CAMILO     22      7     27     32     33   \n",
       "10       IBAÑEZ MORENO FRANCISCO LUIS     34     24     26     32      6   \n",
       "11          MASS MIRANDA RIVALDO JOSE      8     13     12     30     19   \n",
       "12     MIRANDA MARTINEZ CARLOS ANDRES     11     31     25     36      7   \n",
       "13              MONTERROSA SOTO ABRIL     17     31     12     30     29   \n",
       "14           NORIEGA JIMENEZ GABRIELA      7     12     13     25     14   \n",
       "15             PEREZ REYES IVAN DARIO     19     30     23     25     35   \n",
       "16               PEREZ THERAN ERLINDA     21     28     10     20     18   \n",
       "17              PINEDA ROMERO YOSMERI     13     15     37      2     14   \n",
       "18         QUINONEZ CERVANTES MARIANA      3     16     36     20     23   \n",
       "19                 RAMOS PEREZ YANINE     21     26     35      2     32   \n",
       "20              RIVAS HOYOS ESTEFANIA      4     26     30     25     33   \n",
       "21              ROSILLO TEJADA VANESA     28     34     25     19     37   \n",
       "22          SANCHEZ PADILLA SILVESTRE     33     30     38     28     14   \n",
       "23        SILVA ROYERO MAILY CRISTINA     11     22     21     30     37   \n",
       "24          USUGA GEORGE JHON ESTIVEN      2      3      7      5     10   \n",
       "\n",
       "    Exer6  Exer7  Exer8  Exer9  Exer10  \n",
       "0       4     37     23     30      31  \n",
       "1      24     37     13      9      12  \n",
       "2       7     25     29     31      26  \n",
       "3      15     18     26     25      12  \n",
       "4      31     21     10     30      24  \n",
       "5      33     26     15      2      24  \n",
       "6      21     29      6     18      35  \n",
       "7      38     22     11     28      31  \n",
       "8      38     24     10     30      28  \n",
       "9      38     23     10     11      13  \n",
       "10     36     38     20     21       8  \n",
       "11     29     25     37     23      17  \n",
       "12     13     18     19     38      35  \n",
       "13      9     33      5     28      27  \n",
       "14     36     29     20      8      35  \n",
       "15      4     24     28     33      26  \n",
       "16     14      7      2      3       5  \n",
       "17      3     22     36     26       5  \n",
       "18     33     13     11     19      31  \n",
       "19     25      7     16     30      12  \n",
       "20     13      7     23     19      14  \n",
       "21      7     30     13     32      18  \n",
       "22     23      2     15      7      32  \n",
       "23     35     33     20     27      29  \n",
       "24     24     30     22     15      18  "
      ]
     },
     "execution_count": 17,
     "metadata": {},
     "output_type": "execute_result"
    }
   ],
   "source": [
    "# Tarea 2 de solución de problemas \n",
    "# asignación de ejercicios de un seccion del texto guía\n",
    "\n",
    "# numpy.random.choice() obten la documentación de esta función en: \n",
    "# https://numpy.org/doc/stable/reference/random/generated/numpy.random.choice.html\n",
    "\n",
    "import pandas as pd\n",
    "import numpy as np\n",
    "import requests\n",
    "np.random.seed(424)  # establecer semilla aleatoria para hacer los resultados reproducibles\n",
    "\n",
    "\n",
    "\n",
    "grupo_estudiantes = 'calculo_vectorial'\n",
    "nombre_texto_guia = 'Purcell'\n",
    "pagina_y_seccion = 'Página_280_Sección_5.1'\n",
    "numero_ejercicios_taller = 38\n",
    "numero_de_ejercicios_asignados = 10\n",
    "\n",
    "\n",
    "# Descargar la lista de  estudiantes\n",
    "students_path = \"/home/marco/Documentos/docencia/groups_list/\" + grupo_estudiantes + \".csv\"\n",
    "exercises = list(range(1, numero_ejercicios_taller))  \n",
    "\n",
    "students_data = pd.read_csv(students_path)\n",
    "\n",
    "# Crear una lista para almacenar las asignaciones\n",
    "assignments = []\n",
    "\n",
    "# Asignar ejercicios aleatorios a cada estudiante\n",
    "for index, student in students_data.iterrows():\n",
    "    # Seleccionar 5 ejercicios aleatorios sin repetición\n",
    "    random_exercises = np.random.choice(exercises, numero_de_ejercicios_asignados, replace = False)+ 1 \n",
    "    assignments.append([students_data[\"Nombre\"][index], *random_exercises])  # Agregar asignación a la lista\n",
    "\n",
    "# Crear un DataFrame con las asignaciones\n",
    "columns = [\"Student\"] + [ \"Exer\" + str(i+1) for i in range(numero_de_ejercicios_asignados)]\n",
    "assignment_df = pd.DataFrame(assignments, columns=columns)\n",
    "\n",
    "# Guardar el DataFrame en un archivo CSV\n",
    "assignment_csv = \"tarea\" + \"_\" + nombre_texto_guia + \"_\"+ pagina_y_seccion + \".csv\"\n",
    "assignment_df.to_csv(assignment_csv, index=False)\n",
    "\n",
    "print(\"Tarea 2: solucionar utilizando integracion definida: \", assignment_csv)\n",
    "assignment_df"
   ]
  },
  {
   "cell_type": "markdown",
   "id": "8b6b0112",
   "metadata": {
    "slideshow": {
     "slide_type": "slide"
    }
   },
   "source": [
    "# Tareas para realizar después de la realización de la clase"
   ]
  },
  {
   "cell_type": "markdown",
   "id": "947460e3",
   "metadata": {
    "slideshow": {
     "slide_type": "slide"
    }
   },
   "source": [
    "* Actividades de memorización: \n",
    "  - escucha reiterada de grabaciones de formulas y resultados científicos. \n",
    "  - relectura de notas. \n",
    "  - ejercicios de mayor complejidad.\n",
    "\n",
    "\n",
    "### No olvide asignar las tareas a los estudiantes a través de Google Colab y compartiendole el cuaderno de asignación a su correo institucional con fecha de entrega. [Google Colab](https://colab.research.google.com/?hl=es)   \n",
    "  "
   ]
  },
  {
   "cell_type": "markdown",
   "id": "d34defb9",
   "metadata": {
    "slideshow": {
     "slide_type": "slide"
    }
   },
   "source": [
    "## Asignación individual de tareas semanales "
   ]
  },
  {
   "cell_type": "code",
   "execution_count": 18,
   "id": "0406f442",
   "metadata": {
    "slideshow": {
     "slide_type": "slide"
    }
   },
   "outputs": [
    {
     "name": "stdout",
     "output_type": "stream",
     "text": [
      "Tarea 3 Solucionar con integral definida y describiendo y justificando:  tarea_Purcell_Página_280_Sección_5.1.csv\n"
     ]
    },
    {
     "data": {
      "text/html": [
       "<div>\n",
       "<style scoped>\n",
       "    .dataframe tbody tr th:only-of-type {\n",
       "        vertical-align: middle;\n",
       "    }\n",
       "\n",
       "    .dataframe tbody tr th {\n",
       "        vertical-align: top;\n",
       "    }\n",
       "\n",
       "    .dataframe thead th {\n",
       "        text-align: right;\n",
       "    }\n",
       "</style>\n",
       "<table border=\"1\" class=\"dataframe\">\n",
       "  <thead>\n",
       "    <tr style=\"text-align: right;\">\n",
       "      <th></th>\n",
       "      <th>Student</th>\n",
       "      <th>Exer1</th>\n",
       "      <th>Exer2</th>\n",
       "      <th>Exer3</th>\n",
       "      <th>Exer4</th>\n",
       "      <th>Exer5</th>\n",
       "      <th>Exer6</th>\n",
       "      <th>Exer7</th>\n",
       "      <th>Exer8</th>\n",
       "      <th>Exer9</th>\n",
       "      <th>Exer10</th>\n",
       "    </tr>\n",
       "  </thead>\n",
       "  <tbody>\n",
       "    <tr>\n",
       "      <th>0</th>\n",
       "      <td>AMARIS FERNANDEZ SEBASTIAN CAMILO</td>\n",
       "      <td>21</td>\n",
       "      <td>23</td>\n",
       "      <td>32</td>\n",
       "      <td>13</td>\n",
       "      <td>17</td>\n",
       "      <td>2</td>\n",
       "      <td>30</td>\n",
       "      <td>29</td>\n",
       "      <td>9</td>\n",
       "      <td>33</td>\n",
       "    </tr>\n",
       "    <tr>\n",
       "      <th>1</th>\n",
       "      <td>ARENAS HERAZO GABRIEL ENRIQUE</td>\n",
       "      <td>29</td>\n",
       "      <td>13</td>\n",
       "      <td>7</td>\n",
       "      <td>4</td>\n",
       "      <td>25</td>\n",
       "      <td>31</td>\n",
       "      <td>27</td>\n",
       "      <td>35</td>\n",
       "      <td>23</td>\n",
       "      <td>26</td>\n",
       "    </tr>\n",
       "    <tr>\n",
       "      <th>2</th>\n",
       "      <td>AYALA MENDOZA MARISOL YACIRA</td>\n",
       "      <td>2</td>\n",
       "      <td>28</td>\n",
       "      <td>32</td>\n",
       "      <td>5</td>\n",
       "      <td>17</td>\n",
       "      <td>8</td>\n",
       "      <td>6</td>\n",
       "      <td>26</td>\n",
       "      <td>11</td>\n",
       "      <td>10</td>\n",
       "    </tr>\n",
       "    <tr>\n",
       "      <th>3</th>\n",
       "      <td>BERTEL RODELO MICHELL SMIT</td>\n",
       "      <td>10</td>\n",
       "      <td>29</td>\n",
       "      <td>21</td>\n",
       "      <td>32</td>\n",
       "      <td>12</td>\n",
       "      <td>37</td>\n",
       "      <td>15</td>\n",
       "      <td>35</td>\n",
       "      <td>6</td>\n",
       "      <td>22</td>\n",
       "    </tr>\n",
       "    <tr>\n",
       "      <th>4</th>\n",
       "      <td>BULA VERGARA MARIA PAULA</td>\n",
       "      <td>2</td>\n",
       "      <td>9</td>\n",
       "      <td>27</td>\n",
       "      <td>29</td>\n",
       "      <td>3</td>\n",
       "      <td>24</td>\n",
       "      <td>15</td>\n",
       "      <td>23</td>\n",
       "      <td>10</td>\n",
       "      <td>37</td>\n",
       "    </tr>\n",
       "    <tr>\n",
       "      <th>5</th>\n",
       "      <td>CANTILLO ENSUCHO DANIEL</td>\n",
       "      <td>7</td>\n",
       "      <td>6</td>\n",
       "      <td>38</td>\n",
       "      <td>20</td>\n",
       "      <td>36</td>\n",
       "      <td>15</td>\n",
       "      <td>37</td>\n",
       "      <td>5</td>\n",
       "      <td>4</td>\n",
       "      <td>33</td>\n",
       "    </tr>\n",
       "    <tr>\n",
       "      <th>6</th>\n",
       "      <td>CERVANTES DURAN ANGELICA</td>\n",
       "      <td>31</td>\n",
       "      <td>13</td>\n",
       "      <td>29</td>\n",
       "      <td>25</td>\n",
       "      <td>20</td>\n",
       "      <td>24</td>\n",
       "      <td>2</td>\n",
       "      <td>12</td>\n",
       "      <td>10</td>\n",
       "      <td>19</td>\n",
       "    </tr>\n",
       "    <tr>\n",
       "      <th>7</th>\n",
       "      <td>GUERRA NORIEGA YONATHAN</td>\n",
       "      <td>10</td>\n",
       "      <td>23</td>\n",
       "      <td>26</td>\n",
       "      <td>29</td>\n",
       "      <td>17</td>\n",
       "      <td>24</td>\n",
       "      <td>16</td>\n",
       "      <td>4</td>\n",
       "      <td>32</td>\n",
       "      <td>3</td>\n",
       "    </tr>\n",
       "    <tr>\n",
       "      <th>8</th>\n",
       "      <td>HINCAPIE CASTRO JOHAN SEBASTIAN</td>\n",
       "      <td>15</td>\n",
       "      <td>36</td>\n",
       "      <td>32</td>\n",
       "      <td>31</td>\n",
       "      <td>12</td>\n",
       "      <td>4</td>\n",
       "      <td>9</td>\n",
       "      <td>24</td>\n",
       "      <td>29</td>\n",
       "      <td>21</td>\n",
       "    </tr>\n",
       "    <tr>\n",
       "      <th>9</th>\n",
       "      <td>HUMANEZ SANCHEZ CAMILO</td>\n",
       "      <td>5</td>\n",
       "      <td>32</td>\n",
       "      <td>24</td>\n",
       "      <td>34</td>\n",
       "      <td>19</td>\n",
       "      <td>17</td>\n",
       "      <td>14</td>\n",
       "      <td>22</td>\n",
       "      <td>2</td>\n",
       "      <td>4</td>\n",
       "    </tr>\n",
       "    <tr>\n",
       "      <th>10</th>\n",
       "      <td>IBAÑEZ MORENO FRANCISCO LUIS</td>\n",
       "      <td>10</td>\n",
       "      <td>31</td>\n",
       "      <td>33</td>\n",
       "      <td>29</td>\n",
       "      <td>16</td>\n",
       "      <td>24</td>\n",
       "      <td>3</td>\n",
       "      <td>12</td>\n",
       "      <td>18</td>\n",
       "      <td>27</td>\n",
       "    </tr>\n",
       "    <tr>\n",
       "      <th>11</th>\n",
       "      <td>MASS MIRANDA RIVALDO JOSE</td>\n",
       "      <td>37</td>\n",
       "      <td>9</td>\n",
       "      <td>13</td>\n",
       "      <td>5</td>\n",
       "      <td>38</td>\n",
       "      <td>28</td>\n",
       "      <td>29</td>\n",
       "      <td>12</td>\n",
       "      <td>24</td>\n",
       "      <td>4</td>\n",
       "    </tr>\n",
       "    <tr>\n",
       "      <th>12</th>\n",
       "      <td>MIRANDA MARTINEZ CARLOS ANDRES</td>\n",
       "      <td>27</td>\n",
       "      <td>36</td>\n",
       "      <td>17</td>\n",
       "      <td>30</td>\n",
       "      <td>28</td>\n",
       "      <td>35</td>\n",
       "      <td>22</td>\n",
       "      <td>34</td>\n",
       "      <td>10</td>\n",
       "      <td>2</td>\n",
       "    </tr>\n",
       "    <tr>\n",
       "      <th>13</th>\n",
       "      <td>MONTERROSA SOTO ABRIL</td>\n",
       "      <td>23</td>\n",
       "      <td>18</td>\n",
       "      <td>2</td>\n",
       "      <td>31</td>\n",
       "      <td>3</td>\n",
       "      <td>16</td>\n",
       "      <td>25</td>\n",
       "      <td>14</td>\n",
       "      <td>9</td>\n",
       "      <td>28</td>\n",
       "    </tr>\n",
       "    <tr>\n",
       "      <th>14</th>\n",
       "      <td>NORIEGA JIMENEZ GABRIELA</td>\n",
       "      <td>17</td>\n",
       "      <td>32</td>\n",
       "      <td>27</td>\n",
       "      <td>8</td>\n",
       "      <td>20</td>\n",
       "      <td>37</td>\n",
       "      <td>13</td>\n",
       "      <td>7</td>\n",
       "      <td>34</td>\n",
       "      <td>15</td>\n",
       "    </tr>\n",
       "    <tr>\n",
       "      <th>15</th>\n",
       "      <td>PEREZ REYES IVAN DARIO</td>\n",
       "      <td>20</td>\n",
       "      <td>28</td>\n",
       "      <td>21</td>\n",
       "      <td>8</td>\n",
       "      <td>31</td>\n",
       "      <td>3</td>\n",
       "      <td>15</td>\n",
       "      <td>13</td>\n",
       "      <td>17</td>\n",
       "      <td>34</td>\n",
       "    </tr>\n",
       "    <tr>\n",
       "      <th>16</th>\n",
       "      <td>PEREZ THERAN ERLINDA</td>\n",
       "      <td>15</td>\n",
       "      <td>25</td>\n",
       "      <td>36</td>\n",
       "      <td>7</td>\n",
       "      <td>12</td>\n",
       "      <td>13</td>\n",
       "      <td>2</td>\n",
       "      <td>11</td>\n",
       "      <td>3</td>\n",
       "      <td>32</td>\n",
       "    </tr>\n",
       "    <tr>\n",
       "      <th>17</th>\n",
       "      <td>PINEDA ROMERO YOSMERI</td>\n",
       "      <td>20</td>\n",
       "      <td>10</td>\n",
       "      <td>8</td>\n",
       "      <td>3</td>\n",
       "      <td>18</td>\n",
       "      <td>26</td>\n",
       "      <td>5</td>\n",
       "      <td>29</td>\n",
       "      <td>21</td>\n",
       "      <td>19</td>\n",
       "    </tr>\n",
       "    <tr>\n",
       "      <th>18</th>\n",
       "      <td>QUINONEZ CERVANTES MARIANA</td>\n",
       "      <td>27</td>\n",
       "      <td>29</td>\n",
       "      <td>25</td>\n",
       "      <td>10</td>\n",
       "      <td>21</td>\n",
       "      <td>12</td>\n",
       "      <td>33</td>\n",
       "      <td>30</td>\n",
       "      <td>34</td>\n",
       "      <td>26</td>\n",
       "    </tr>\n",
       "    <tr>\n",
       "      <th>19</th>\n",
       "      <td>RAMOS PEREZ YANINE</td>\n",
       "      <td>13</td>\n",
       "      <td>14</td>\n",
       "      <td>21</td>\n",
       "      <td>33</td>\n",
       "      <td>19</td>\n",
       "      <td>10</td>\n",
       "      <td>11</td>\n",
       "      <td>3</td>\n",
       "      <td>24</td>\n",
       "      <td>31</td>\n",
       "    </tr>\n",
       "    <tr>\n",
       "      <th>20</th>\n",
       "      <td>RIVAS HOYOS ESTEFANIA</td>\n",
       "      <td>24</td>\n",
       "      <td>12</td>\n",
       "      <td>35</td>\n",
       "      <td>15</td>\n",
       "      <td>19</td>\n",
       "      <td>14</td>\n",
       "      <td>22</td>\n",
       "      <td>6</td>\n",
       "      <td>8</td>\n",
       "      <td>26</td>\n",
       "    </tr>\n",
       "    <tr>\n",
       "      <th>21</th>\n",
       "      <td>ROSILLO TEJADA VANESA</td>\n",
       "      <td>19</td>\n",
       "      <td>24</td>\n",
       "      <td>16</td>\n",
       "      <td>38</td>\n",
       "      <td>25</td>\n",
       "      <td>20</td>\n",
       "      <td>2</td>\n",
       "      <td>34</td>\n",
       "      <td>4</td>\n",
       "      <td>7</td>\n",
       "    </tr>\n",
       "    <tr>\n",
       "      <th>22</th>\n",
       "      <td>SANCHEZ PADILLA SILVESTRE</td>\n",
       "      <td>18</td>\n",
       "      <td>19</td>\n",
       "      <td>36</td>\n",
       "      <td>25</td>\n",
       "      <td>33</td>\n",
       "      <td>30</td>\n",
       "      <td>29</td>\n",
       "      <td>21</td>\n",
       "      <td>20</td>\n",
       "      <td>22</td>\n",
       "    </tr>\n",
       "    <tr>\n",
       "      <th>23</th>\n",
       "      <td>SILVA ROYERO MAILY CRISTINA</td>\n",
       "      <td>9</td>\n",
       "      <td>12</td>\n",
       "      <td>38</td>\n",
       "      <td>3</td>\n",
       "      <td>34</td>\n",
       "      <td>21</td>\n",
       "      <td>29</td>\n",
       "      <td>13</td>\n",
       "      <td>23</td>\n",
       "      <td>28</td>\n",
       "    </tr>\n",
       "    <tr>\n",
       "      <th>24</th>\n",
       "      <td>USUGA GEORGE JHON ESTIVEN</td>\n",
       "      <td>20</td>\n",
       "      <td>25</td>\n",
       "      <td>10</td>\n",
       "      <td>3</td>\n",
       "      <td>38</td>\n",
       "      <td>29</td>\n",
       "      <td>21</td>\n",
       "      <td>5</td>\n",
       "      <td>6</td>\n",
       "      <td>19</td>\n",
       "    </tr>\n",
       "  </tbody>\n",
       "</table>\n",
       "</div>"
      ],
      "text/plain": [
       "                              Student  Exer1  Exer2  Exer3  Exer4  Exer5  \\\n",
       "0   AMARIS FERNANDEZ SEBASTIAN CAMILO     21     23     32     13     17   \n",
       "1       ARENAS HERAZO GABRIEL ENRIQUE     29     13      7      4     25   \n",
       "2        AYALA MENDOZA MARISOL YACIRA      2     28     32      5     17   \n",
       "3          BERTEL RODELO MICHELL SMIT     10     29     21     32     12   \n",
       "4            BULA VERGARA MARIA PAULA      2      9     27     29      3   \n",
       "5             CANTILLO ENSUCHO DANIEL      7      6     38     20     36   \n",
       "6            CERVANTES DURAN ANGELICA     31     13     29     25     20   \n",
       "7             GUERRA NORIEGA YONATHAN     10     23     26     29     17   \n",
       "8     HINCAPIE CASTRO JOHAN SEBASTIAN     15     36     32     31     12   \n",
       "9              HUMANEZ SANCHEZ CAMILO      5     32     24     34     19   \n",
       "10       IBAÑEZ MORENO FRANCISCO LUIS     10     31     33     29     16   \n",
       "11          MASS MIRANDA RIVALDO JOSE     37      9     13      5     38   \n",
       "12     MIRANDA MARTINEZ CARLOS ANDRES     27     36     17     30     28   \n",
       "13              MONTERROSA SOTO ABRIL     23     18      2     31      3   \n",
       "14           NORIEGA JIMENEZ GABRIELA     17     32     27      8     20   \n",
       "15             PEREZ REYES IVAN DARIO     20     28     21      8     31   \n",
       "16               PEREZ THERAN ERLINDA     15     25     36      7     12   \n",
       "17              PINEDA ROMERO YOSMERI     20     10      8      3     18   \n",
       "18         QUINONEZ CERVANTES MARIANA     27     29     25     10     21   \n",
       "19                 RAMOS PEREZ YANINE     13     14     21     33     19   \n",
       "20              RIVAS HOYOS ESTEFANIA     24     12     35     15     19   \n",
       "21              ROSILLO TEJADA VANESA     19     24     16     38     25   \n",
       "22          SANCHEZ PADILLA SILVESTRE     18     19     36     25     33   \n",
       "23        SILVA ROYERO MAILY CRISTINA      9     12     38      3     34   \n",
       "24          USUGA GEORGE JHON ESTIVEN     20     25     10      3     38   \n",
       "\n",
       "    Exer6  Exer7  Exer8  Exer9  Exer10  \n",
       "0       2     30     29      9      33  \n",
       "1      31     27     35     23      26  \n",
       "2       8      6     26     11      10  \n",
       "3      37     15     35      6      22  \n",
       "4      24     15     23     10      37  \n",
       "5      15     37      5      4      33  \n",
       "6      24      2     12     10      19  \n",
       "7      24     16      4     32       3  \n",
       "8       4      9     24     29      21  \n",
       "9      17     14     22      2       4  \n",
       "10     24      3     12     18      27  \n",
       "11     28     29     12     24       4  \n",
       "12     35     22     34     10       2  \n",
       "13     16     25     14      9      28  \n",
       "14     37     13      7     34      15  \n",
       "15      3     15     13     17      34  \n",
       "16     13      2     11      3      32  \n",
       "17     26      5     29     21      19  \n",
       "18     12     33     30     34      26  \n",
       "19     10     11      3     24      31  \n",
       "20     14     22      6      8      26  \n",
       "21     20      2     34      4       7  \n",
       "22     30     29     21     20      22  \n",
       "23     21     29     13     23      28  \n",
       "24     29     21      5      6      19  "
      ]
     },
     "execution_count": 18,
     "metadata": {},
     "output_type": "execute_result"
    }
   ],
   "source": [
    "# Tarea 3 para solucionar describiendo y justificando \n",
    "# asignación de ejercicios de un seccion del texto guía\n",
    "\n",
    "# numpy.random.choice() obten la documentación de esta función en: \n",
    "# https://numpy.org/doc/stable/reference/random/generated/numpy.random.choice.html\n",
    "\n",
    "import pandas as pd\n",
    "import numpy as np\n",
    "import requests\n",
    "np.random.seed(126)  # establecer semilla aleatoria para hacer los resultados reproducibles\n",
    "\n",
    "\n",
    "\n",
    "grupo_estudiantes = 'calculo_vectorial'\n",
    "nombre_texto_guia = 'Purcell'\n",
    "pagina_y_seccion = 'Página_280_Sección_5.1'\n",
    "numero_ejercicios_taller = 38\n",
    "numero_de_ejercicios_asignados = 10\n",
    "\n",
    "\n",
    "# Descargar la lista de  estudiantes\n",
    "students_path = \"/home/marco/Documentos/docencia/groups_list/\" + grupo_estudiantes + \".csv\"\n",
    "exercises = list(range(1, numero_ejercicios_taller))  \n",
    "\n",
    "students_data = pd.read_csv(students_path)\n",
    "\n",
    "# Crear una lista para almacenar las asignaciones\n",
    "assignments = []\n",
    "\n",
    "# Asignar ejercicios aleatorios a cada estudiante\n",
    "for index, student in students_data.iterrows():\n",
    "    # Seleccionar 5 ejercicios aleatorios sin repetición\n",
    "    random_exercises = np.random.choice(exercises, numero_de_ejercicios_asignados, replace = False)+ 1 \n",
    "    assignments.append([students_data[\"Nombre\"][index], *random_exercises])  # Agregar asignación a la lista\n",
    "\n",
    "# Crear un DataFrame con las asignaciones\n",
    "columns = [\"Student\"] + [ \"Exer\" + str(i+1) for i in range(numero_de_ejercicios_asignados)]\n",
    "assignment_df = pd.DataFrame(assignments, columns=columns)\n",
    "\n",
    "# Guardar el DataFrame en un archivo CSV\n",
    "assignment_csv = \"tarea\" + \"_\" + nombre_texto_guia + \"_\"+ pagina_y_seccion + \".csv\"\n",
    "assignment_df.to_csv(assignment_csv, index=False)\n",
    "\n",
    "print(\"Tarea 3 Solucionar con integral definida y describiendo y justificando: \", assignment_csv)\n",
    "assignment_df"
   ]
  },
  {
   "cell_type": "markdown",
   "id": "742281f4",
   "metadata": {},
   "source": [
    "# No olvide la tarea de realizar la foda para autoevaluarse\n",
    "\n",
    "Fortalezas: F  \n",
    "Oportuniudades O:  \n",
    "Debilidades: D:   Atención y el uso de celulares en el aula. \n",
    "Amenazas: A:     "
   ]
  },
  {
   "cell_type": "markdown",
   "id": "8d41fe58",
   "metadata": {
    "slideshow": {
     "slide_type": "slide"
    }
   },
   "source": [
    "# Horario de clases del profesor Marco\n",
    "\n",
    "* Martes y jueves de 10 a 12: Fundamentos de las matemáticas\n",
    "* Martes y jueves de 2 a 4 PM: Fundamentos de la aritmética\n",
    "\n",
    "* Didáctica de la aritmética: Miércoles de 8 - 12\n",
    "\n"
   ]
  },
  {
   "cell_type": "markdown",
   "id": "ae114e14",
   "metadata": {
    "slideshow": {
     "slide_type": "slide"
    }
   },
   "source": [
    "# Horarios de monitoría y asesoría"
   ]
  },
  {
   "cell_type": "markdown",
   "id": "b1db4b6c",
   "metadata": {
    "slideshow": {
     "slide_type": "slide"
    }
   },
   "source": [
    "## Monitor Manuel"
   ]
  },
  {
   "cell_type": "markdown",
   "id": "39559692",
   "metadata": {
    "slideshow": {
     "slide_type": "slide"
    }
   },
   "source": [
    "Martes y jueves de 8 - 12  \n",
    "Miércoles 10 - 12 y de 2 a 4 PM  \n",
    "Sábado: 8 - 12"
   ]
  },
  {
   "cell_type": "markdown",
   "id": "935a5567",
   "metadata": {
    "slideshow": {
     "slide_type": "slide"
    }
   },
   "source": [
    "## Dificultades de aprendizaje detectados durante la clase"
   ]
  },
  {
   "cell_type": "markdown",
   "id": "3bd7500d",
   "metadata": {
    "slideshow": {
     "slide_type": "slide"
    }
   },
   "source": []
  },
  {
   "cell_type": "markdown",
   "id": "fb9402bb",
   "metadata": {
    "slideshow": {
     "slide_type": "slide"
    }
   },
   "source": [
    "## Estrategias propuestas para la solución de las dificultades de aprendizaje detectadas"
   ]
  },
  {
   "cell_type": "markdown",
   "id": "d437294b",
   "metadata": {
    "slideshow": {
     "slide_type": "slide"
    }
   },
   "source": []
  },
  {
   "cell_type": "markdown",
   "id": "d11570a2",
   "metadata": {
    "slideshow": {
     "slide_type": "slide"
    }
   },
   "source": []
  },
  {
   "cell_type": "markdown",
   "id": "319f2ffa",
   "metadata": {
    "slideshow": {
     "slide_type": "slide"
    }
   },
   "source": [
    "## Grabaciones en audio para fomentar la capacidad de memorizar enunciados de teoremas y resultados científicos y la capacidad de parafrasear estos resultados. Y así desarrollar memoria muscular para los comandos comunes. \n",
    "Se dispondrá de un lugar en Vocaroo para albergar archivos de audio de fomento a la memorización, enunciación y parafraseo de los resultados científicos, propiedades, reglas, etc. \n",
    "\n",
    "[Vocaroo](https://vocaroo.com/)\n",
    "\n"
   ]
  },
  {
   "cell_type": "markdown",
   "id": "564fa59d",
   "metadata": {
    "slideshow": {
     "slide_type": "slide"
    }
   },
   "source": [
    "### Comparta sus cuadernos y videos, evidencias de su aprendizaje [aquí](https://forms.office.com/Pages/ResponsePage.aspx?id=IefhmYRxjkmK_7KtTlPBwkanXIs1i1FEujpsZgO6dXpUMEMwTEZVMzEwVVBPTElWNVg5OVEyWUhMUy4u)"
   ]
  },
  {
   "cell_type": "markdown",
   "id": "1a1a3e41",
   "metadata": {
    "slideshow": {
     "slide_type": "slide"
    }
   },
   "source": []
  },
  {
   "cell_type": "markdown",
   "id": "10bce0d0",
   "metadata": {
    "slideshow": {
     "slide_type": "slide"
    }
   },
   "source": [
    "## Referentes "
   ]
  },
  {
   "cell_type": "markdown",
   "id": "1db3c468",
   "metadata": {
    "slideshow": {
     "slide_type": "slide"
    }
   },
   "source": [
    "* Chollet, F. (2021). Deep learning with Python. Simon and Schuster.  \n",
    "  \n",
    "* [stewart precálculo](https://udeaeduco-my.sharepoint.com/:b:/g/personal/marco_canas_udea_edu_co/ERHIq62I6qFNrmxy6LZb8ZMBci7kUsyNME1nIh9yCBMJ_w?e=0zMSla)  \n",
    "\n",
    "* [stewart cálculo](https://udeaeduco-my.sharepoint.com/:b:/g/personal/marco_canas_udea_edu_co/EZgXZjAp8QxPqOAim2hs6LcBNPLGjSHf-xwYnUVYkwa04w?e=RZdTCy)  \n",
    "\n",
    "* [larson](https://udeaeduco-my.sharepoint.com/:b:/g/personal/marco_canas_udea_edu_co/ES71ChFeO9ZDhW3TwC5Ijk8BjxUK3Pdqz_fjHxTTFAfIAg?e=VDEjfu)\n",
    "\n",
    "* [uzcategui](https://udeaeduco-my.sharepoint.com/:b:/g/personal/marco_canas_udea_edu_co/ETDikm-lVl1Or8XoEo9oyh0BEti9Zs8le-f0D-dBdtZmbA?e=bBsoyQ)\n",
    "\n",
    "* [Cálculo de Purcell](https://udeaeduco-my.sharepoint.com/:b:/g/personal/marco_canas_udea_edu_co/ES60UB4h-QFFqqRQUFmkpWcBIgoLBJeqTfZjNajWNWSeJA?e=9NxjKJ)\n",
    "\n",
    "* [Recomendación de la UNESCO sobre ciencia abierta](https://unesdoc.unesco.org/ark:/48223/pf0000379949_spa)\n",
    "\n",
    "* [Fórmulas más comunes en latex](https://wiki.geogebra.org/es/C%C3%B3digo_LaTeX_para_las_f%C3%B3rmulas_m%C3%A1s_comunes) \n",
    "\n",
    "* [chatGPT](https://openai.com/blog/chatgpt)  \n",
    "\n",
    "* Géron, A. (2017). Hands-on machine learning with scikit-learn and tensorflow: Concepts. Tools, and Techniques to build intelligent systems.[Geron, Aurelien. Hands on Machine Learning](https://udeaeduco-my.sharepoint.com/:b:/g/personal/marco_canas_udea_edu_co/Ecet27yjQzZIlT1Y_Bc2erkBUhbeYuIe6HG8i1FYZRlZww?e=dlvZ4v)  \n",
    "\n",
    "* McKinney, W. (2012). Python for data analysis: Data wrangling with Pandas, NumPy, and IPython. \" O'Reilly Media, Inc.\".[Wes Mackinney. ](https://udeaeduco-my.sharepoint.com/:b:/g/personal/marco_canas_udea_edu_co/EVbi5JIeBl9ErbiUnZfGe8YBhNTnZ8sxTK5hjIOPK4UpGw?e=fFclah)  \n",
    "\n",
    "* [Ledezma, C., Font, V., & Sala-Sebastià, G. MODELIZACIÓN MATEMÁTICA DESDE UNA ARTICULACIÓN TEÓRICA ENTRE LOS ENFOQUES COGNITIVO Y ONTO-SEMIÓTICO.](https://www.researchgate.net/profile/Carlos-Ledezma-4/publication/376076920_Modelizacion_matematica_desde_una_articulacion_teorica_entre_los_enfoques_cognitivo_y_onto-semiotico/links/6568cb363fa26f66f43b292a/Modelizacion-matematica-desde-una-articulacion-teorica-entre-los-enfoques-cognitivo-y-onto-semiotico.pdf)"
   ]
  },
  {
   "cell_type": "markdown",
   "id": "45c59aa9",
   "metadata": {},
   "source": [
    "[Autoevaluemonos para hacernos concientes de nuestro aprendizaje y en lo que debemos enfocarnos en mejorar]()  \n"
   ]
  },
  {
   "cell_type": "markdown",
   "id": "44e98c05",
   "metadata": {},
   "source": [
    "\n",
    "Aquí tienes una lista de preguntas de selección múltiple para una autoevaluación en un curso de cálculo con un enfoque pedagógico de aula invertida. Estas preguntas abarcan los objetivos de desarrollo del pensamiento variacional, pensamiento computacional a través de Python, capacidad de comunicación científica con LaTeX, Git y el uso de cuadernos Jupyter, así como la promoción de políticas de ciencia libre. \n"
   ]
  },
  {
   "cell_type": "markdown",
   "id": "487cc5d4",
   "metadata": {},
   "source": [
    "\n",
    "1. **Pensamiento Variacional:**\n",
    "   a. ¿Qué significa el término \"variación\" en el contexto del pensamiento variacional?\n",
    "   b. ¿Cómo se relaciona el cálculo con el pensamiento variacional?\n",
    "   c. ¿Puede proporcionar un ejemplo práctico que ilustre el concepto de variación en un problema de cálculo?\n"
   ]
  },
  {
   "cell_type": "markdown",
   "id": "ee755e95",
   "metadata": {},
   "source": [
    "\n",
    "2. **Pensamiento Computacional (Python):**\n",
    "   a. ¿Cuál es el propósito principal de utilizar Python en un curso de cálculo?\n",
    "   b. ¿Cómo se puede utilizar Python para resolver problemas matemáticos complejos?\n",
    "   c. Menciona al menos dos ventajas de usar Python en comparación con otros lenguajes de programación en el contexto del cálculo.\n"
   ]
  },
  {
   "cell_type": "markdown",
   "id": "4f8d6415",
   "metadata": {},
   "source": [
    "\n",
    "3. **Comunicación Científica (LaTeX):**\n",
    "   a. ¿Por qué es importante utilizar LaTeX para la comunicación científica en matemáticas y ciencias?\n",
    "   b. Enumera al menos tres comandos básicos de LaTeX utilizados para escribir ecuaciones matemáticas.\n",
    "   c. ¿Cómo mejorarías la presentación visual de una fórmula matemática utilizando LaTeX?\n",
    "\n",
    "4. **Gestión de Versiones (Git):**\n",
    "   a. ¿Cuál es el propósito principal de utilizar Git en el desarrollo de proyectos científicos?\n",
    "   b. Explica el concepto de \"commit\" en Git.\n",
    "   c. ¿Cómo resolverías un conflicto de fusión (merge conflict) en Git?\n",
    "\n",
    "5. **Cuadernos Jupyter:**\n",
    "   a. ¿Cuáles son las ventajas de utilizar cuadernos Jupyter en comparación con otros entornos de desarrollo?\n",
    "   b. Describe cómo se integra el código Python y la documentación en un cuaderno Jupyter.\n",
    "   c. ¿Cómo compartirías un cuaderno Jupyter con tus compañeros de clase utilizando GitHub?\n",
    "\n",
    "6. **Promoción de Políticas de Ciencia Libre:**\n",
    "   a. ¿Cuáles son los beneficios de utilizar plataformas como GitHub y YouTube para compartir recursos científicos?\n",
    "   b. ¿Cómo podrías contribuir a la promoción de la ciencia libre en tu comunidad académica?\n",
    "   c. ¿Por qué es importante la transparencia y accesibilidad en la investigación científica?\n",
    "\n",
    "Estas preguntas están diseñadas para evaluar la comprensión de los estudiantes en diversos aspectos del curso, abarcando desde los conceptos matemáticos hasta las habilidades tecnológicas y la conciencia sobre la ciencia libre."
   ]
  },
  {
   "cell_type": "markdown",
   "id": "8e65d6f9",
   "metadata": {},
   "source": [
    "# Como estudiante, encuentro que...   \n",
    "\n",
    "F: Mis Fortalezas son:     \n",
    "O: Mis Oportunidades son:    \n",
    "D: Mis Debilidades son:    \n",
    "A: Lo que Amenazas mi aprendizaje es:  "
   ]
  },
  {
   "cell_type": "markdown",
   "id": "6b9e56a8",
   "metadata": {
    "slideshow": {
     "slide_type": "slide"
    }
   },
   "source": [
    "### [Evaluamos al profesor Marco Cañas Aquí](https://forms.office.com/Pages/ResponsePage.aspx?id=IefhmYRxjkmK_7KtTlPBwkanXIs1i1FEujpsZgO6dXpUREJPV1kxUk1JV1ozTFJIQVNIQjY5WEY3US4u)"
   ]
  },
  {
   "cell_type": "markdown",
   "id": "050b9508",
   "metadata": {},
   "source": [
    "# Aportes de mis estudiantes a la metodología del curso  \n",
    "1. \n",
    "\n",
    "Sus opiniones y aportes son muy importantes para mi. Pues esta es una investigación educativa y un servicio de enseñanza para ustedes. Ustedes son la razón de ser de mi actividad docente. Dios los bendiga. "
   ]
  },
  {
   "cell_type": "markdown",
   "id": "6c4af91f",
   "metadata": {},
   "source": [
    "# Aportes de mis colegas docentes a la metodología que estoy aplicando en mis cursos. "
   ]
  },
  {
   "cell_type": "markdown",
   "id": "071afa04",
   "metadata": {
    "slideshow": {
     "slide_type": "slide"
    }
   },
   "source": [
    "## [Evaluación luego de alcanzar estos objetivos de aprendizaje]()"
   ]
  },
  {
   "cell_type": "markdown",
   "id": "10f43536",
   "metadata": {
    "slideshow": {
     "slide_type": "slide"
    }
   },
   "source": [
    "### Continue su aprendizaje en la siguiente clase a través del siguiente [vínculo](https://github.com/marco-canas/calculo/blob/main/classes/3_calculo_for_eng_licenciatura_administracion/4_how_to_measure_areas%3Aintegral_calculus/2_integral_definida/1_aplicaciones_integral_definida/2_desplazamiento_distancia/2_evaluacion_tarea_quiz_parcial_oral_desplazamiento_distancia_con_integral_definida.ipynb)"
   ]
  },
  {
   "cell_type": "markdown",
   "id": "af751e30",
   "metadata": {
    "slideshow": {
     "slide_type": "slide"
    }
   },
   "source": [
    "# Conjeturas pedagógicas fruto de la aplicación del modelo de aprendizaje invertido y del enfoque hacia la ciencia de datos con python\n"
   ]
  },
  {
   "cell_type": "markdown",
   "id": "96358751",
   "metadata": {},
   "source": [
    "\n",
    "1. Todo cálculo o resultado debe ser interpretado en una línea markdown del cuaderno Jupyter, inmediatamente después de la enunciación del resultado y después de la presentación de una tabla o gráfico bidimensional, de tal menera que el estudiante explicite la comprensión verbal del resultado y las inferencias o estrategias que este resultado le sugieren.  \n",
    "\n",
    "2. Debo colocar las conjeturas pedagógicas, que el uso en el aula de [ChatGPT](https://openai.com/blog/chatgpt/) traiga para la enseñanza y el aprendizaje de las matemáticas. \n",
    "\n",
    "3. Promover ciencia abierta en clase de matemáticas puede ser pidiendo a los estudiantes, tomar nota en clase pero en cuadernos Jupyter y entregar siempre al final de cada clase su cuaderno con todas las notas y experimentaciones de clase replicadas. \n",
    "4. Profesor Marco, ¿ha contemplado la posibilidad de intercambio de experiencias de aprendizaje y aplicación de Python al día a día con comfama? (Estudio Trabajo Social y allí, en comfama, aprendí los fundamentos, lo básico de Python)\n",
    "\n",
    "¿Conoce si en la Universidad de Antioquia hay medios para poder aprender Swift/XCODE? (Para programar para dispositivos de Apple)\n",
    "5. Debo considerar la metodología ABP, es decir, diseñar las clase bajo la metodología de Aprendizaje Basado en Problemas. \n",
    "\n"
   ]
  },
  {
   "cell_type": "markdown",
   "id": "53cc9115",
   "metadata": {
    "slideshow": {
     "slide_type": "slide"
    }
   },
   "source": [
    "## Agradecimientos  \n",
    "\n",
    "Doy gracias a Dios por la vida de mi Hijo Joseph Cañas Osorio y la madurez que ha alcanzado.\n",
    "\n",
    "Y a mi esposa Yasmira por su apoyo, orientación y acompañamiento. "
   ]
  }
 ],
 "metadata": {
  "celltoolbar": "Slideshow",
  "kernelspec": {
   "display_name": "Python 3 (ipykernel)",
   "language": "python",
   "name": "python3"
  },
  "language_info": {
   "codemirror_mode": {
    "name": "ipython",
    "version": 3
   },
   "file_extension": ".py",
   "mimetype": "text/x-python",
   "name": "python",
   "nbconvert_exporter": "python",
   "pygments_lexer": "ipython3",
   "version": "3.10.12"
  },
  "rise": {
   "enable_chalkboard": true,
   "theme": "sky",
   "transition": "zoom"
  }
 },
 "nbformat": 4,
 "nbformat_minor": 5
}
