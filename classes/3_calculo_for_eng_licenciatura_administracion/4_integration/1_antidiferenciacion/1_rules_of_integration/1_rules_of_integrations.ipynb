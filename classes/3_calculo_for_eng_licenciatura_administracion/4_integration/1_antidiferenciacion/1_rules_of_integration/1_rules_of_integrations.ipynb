{
 "cells": [
  {
   "cell_type": "markdown",
   "id": "dc06dec7",
   "metadata": {
    "slideshow": {
     "slide_type": "slide"
    }
   },
   "source": [
    "<table align=\"left\">\n",
    "  <td>\n",
    "    <a href=\"https://colab.research.google.com/github/marco-canas/calculo/blob/main/classes/3_calculo_for_eng_licenciatura_administracion/4_integration/1_antidiferenciacion/1_rules_of_integration/1_rules_of_integrations.ipynb\" target=\"_parent\"><img src=\"https://colab.research.google.com/assets/colab-badge.svg\" alt=\"Open In Colab\"/></a>\n",
    "  </td>\n",
    "</table>"
   ]
  },
  {
   "cell_type": "markdown",
   "id": "e0c5b198",
   "metadata": {
    "slideshow": {
     "slide_type": "slide"
    }
   },
   "source": [
    "## [Video de apoyo a la lectura interactiva y experimental de este cuaderno](https://www.youtube.com/watch?v=JTk_iIC_j9I)"
   ]
  },
  {
   "cell_type": "markdown",
   "id": "41e82203",
   "metadata": {
    "slideshow": {
     "slide_type": "slide"
    }
   },
   "source": [
    "## [Vínculo al programa del curso de cálculo integral para ingeniería Agropecuaria:  ](https://github.com/marco-canas/calculo/blob/main/2_programa_calculo_Integral_ingenieria_agropecuaria.docx)"
   ]
  },
  {
   "cell_type": "markdown",
   "id": "ca46c23b",
   "metadata": {
    "slideshow": {
     "slide_type": "slide"
    }
   },
   "source": [
    "# Modelo general de clase: [aula invertida](https://www3.gobiernodecanarias.org/medusa/ecoescuela/pedagotic/aprendizaje-invertido-flipped-classroom/)\n"
   ]
  },
  {
   "cell_type": "markdown",
   "id": "7f9be90f",
   "metadata": {
    "slideshow": {
     "slide_type": "slide"
    }
   },
   "source": [
    "# Fomento de la lectura literaria asociada a Ingeniería agropecuaria y licenciatura en Matemáticas"
   ]
  },
  {
   "cell_type": "markdown",
   "id": "3d50b884",
   "metadata": {},
   "source": [
    "[El costo del analfabetismo emocional](https://github.com/marco-canas/inteligencia_emocional/blob/main/15_el_costo_del_analfabetismo_emocional/1_15_el_costo_del_analfabetismo_emocional.ipynb)"
   ]
  },
  {
   "cell_type": "markdown",
   "id": "96775931",
   "metadata": {
    "slideshow": {
     "slide_type": "slide"
    }
   },
   "source": [
    "# Título de la clase: Rules of integration\n",
    "\n"
   ]
  },
  {
   "cell_type": "markdown",
   "id": "1d38dd4e",
   "metadata": {
    "slideshow": {
     "slide_type": "slide"
    }
   },
   "source": [
    "### Objetivo de aprendizaje (Enunciar, de manera corta sencilla y clara para todos los asistentes)\n",
    "\n",
    "* Identificar las reglas de integración indefinida básicas para aplicaciones en ingeniería Agropecuaria  \n",
    "* Tener las habilidades para integrar e interpretar las integrales indefinidas que realice. "
   ]
  },
  {
   "cell_type": "markdown",
   "metadata": {},
   "source": [
    "# Llamada aleatoria para los estudiantes a participar para ser evaluados de manera oral\n",
    "\n"
   ]
  },
  {
   "cell_type": "code",
   "execution_count": null,
   "metadata": {},
   "outputs": [],
   "source": [
    "import pandas as pd\n",
    "import random\n",
    "\n",
    "# Cargar la lista de estudiantes desde la URL\n",
    "url = 'https://raw.githubusercontent.com/marco-canas/groups_list/main/calculo_integral.csv'\n",
    "estudiantes = pd.read_csv(url)\n",
    "\n",
    "# Función para llamar a un estudiante aleatoriamente y registrar su nota de seguimiento\n",
    "def llamar_estudiante():\n",
    "    estudiante_aleatorio = random.choice(estudiantes['Nombre'])\n",
    "    print(f\"Llamando a {estudiante_aleatorio}...\")\n",
    "    \n",
    "    \n",
    "# Llamar a la función para realizar el proceso\n",
    "llamar_estudiante()\n"
   ]
  },
  {
   "cell_type": "markdown",
   "id": "ecf6932b",
   "metadata": {},
   "source": [
    "# Cuestionario de presaberes asociado al objetivo de aprendizaje\n"
   ]
  },
  {
   "cell_type": "markdown",
   "id": "885109b0",
   "metadata": {},
   "source": [
    "\n",
    "Aquí tienes un cuestionario de diagnóstico para evaluar los presaberes necesarios para el objetivo de aprendizaje \"Identificar las reglas de integración indefinida básicas para aplicaciones en ingeniería Agropecuaria y aprender a utilizarlas con fluidez\":\n"
   ]
  },
  {
   "cell_type": "markdown",
   "id": "3479a097",
   "metadata": {},
   "source": [
    "\n",
    "**1. ¿Cuál es el concepto de integral indefinida y cómo se relaciona con la integral definida?**\n",
    "   Respuesta: La integral indefinida representa una familia de funciones primitivas de una función dada, mientras que la integral definida calcula el área bajo una curva entre dos puntos específicos.\n"
   ]
  },
  {
   "cell_type": "markdown",
   "id": "e1d23745",
   "metadata": {},
   "source": [
    "\n",
    "**2. ¿Qué es una regla de integración básica y cuáles son algunas de las reglas fundamentales que has aprendido hasta ahora?**\n",
    "   Respuesta: Una regla de integración básica es una fórmula que se utiliza para calcular la integral de una función. Algunas reglas fundamentales incluyen la regla de potencias, la regla de la suma, la regla del producto y la regla del cociente.\n"
   ]
  },
  {
   "cell_type": "markdown",
   "id": "4c6c26d2",
   "metadata": {},
   "source": [
    "\n",
    "**3. ¿Cuál es la diferencia entre una integral definida y una integral indefinida?**\n",
    "   Respuesta: Una integral definida tiene límites de integración específicos y calcula el área bajo una curva entre esos límites, mientras que una integral indefinida no tiene límites y representa una función primitiva de otra función.\n",
    "\n",
    "**4. ¿Cómo se calcula la integral de una función polinómica?**\n",
    "   Respuesta: Se utiliza la regla de potencias, donde se suma 1 al exponente y se divide el coeficiente del término por el nuevo exponente.\n"
   ]
  },
  {
   "cell_type": "markdown",
   "id": "40f4790d",
   "metadata": {},
   "source": [
    "\n",
    "**5. ¿Puedes mencionar una aplicación específica de las integrales en la ingeniería agropecuaria?**\n",
    "   Respuesta: Una aplicación específica podría ser calcular el área bajo una curva de crecimiento de cultivos para determinar el rendimiento de la cosecha.\n"
   ]
  },
  {
   "cell_type": "markdown",
   "id": "94b994bc",
   "metadata": {},
   "source": [
    "\n",
    "**6. ¿Cómo se utiliza la integral para calcular el volumen de un tanque de almacenamiento para líquidos en la agricultura?**\n",
    "   Respuesta: Se puede calcular sumando las áreas de secciones transversales infinitesimales de líquido dentro del tanque a lo largo de su altura.\n"
   ]
  },
  {
   "cell_type": "markdown",
   "id": "81e912f7",
   "metadata": {},
   "source": [
    "\n",
    "**7. ¿Qué importancia tiene la fluidez en la aplicación de reglas de integración en la ingeniería agropecuaria?**\n",
    "   Respuesta: La fluidez en el uso de las reglas de integración es crucial para resolver problemas rápidamente y con precisión, lo que permite a los ingenieros agropecuarios tomar decisiones informadas y eficientes en el diseño y gestión de sistemas agrícolas.\n"
   ]
  },
  {
   "cell_type": "markdown",
   "id": "a8873336",
   "metadata": {},
   "source": [
    "\n",
    "**8. ¿Cuál es la diferencia entre la integración numérica y la integración simbólica?**\n",
    "   Respuesta: La integración numérica utiliza métodos de aproximación para calcular el valor numérico de una integral, mientras que la integración simbólica encuentra una expresión algebraica para la integral.\n",
    "\n",
    "Estas preguntas permitirán evaluar los conocimientos previos de los estudiantes y determinar las áreas en las que pueden necesitar refuerzo antes de abordar el objetivo de aprendizaje específico."
   ]
  },
  {
   "cell_type": "markdown",
   "id": "e182df08",
   "metadata": {},
   "source": [
    "# Prerequisitos conceptuales para alcanzar el objetivo de aprendizaje propuesto.   \n"
   ]
  },
  {
   "cell_type": "markdown",
   "id": "2417822e",
   "metadata": {},
   "source": [
    " \n",
    "\n",
    "\n",
    "1. **Conceptos básicos de álgebra:** Los estudiantes deben tener un sólido entendimiento de álgebra elemental, incluyendo manipulación de expresiones algebraicas, factorización, propiedades de exponentes y logaritmos.\n"
   ]
  },
  {
   "cell_type": "markdown",
   "id": "13a64ff1",
   "metadata": {},
   "source": [
    "\n",
    "2. **Funciones trigonométricas:** Conocimiento de las funciones trigonométricas básicas (seno, coseno, tangente) y sus propiedades, así como la capacidad para trabajar con identidades trigonométricas.\n",
    "\n",
    "3. **Funciones exponenciales y logarítmicas:** Comprender las propiedades de las funciones exponenciales y logarítmicas, así como la capacidad para resolver ecuaciones exponenciales y logarítmicas.\n"
   ]
  },
  {
   "cell_type": "markdown",
   "id": "a673c51d",
   "metadata": {},
   "source": [
    "\n",
    "4. **Concepto de límites:** Entender el concepto de límite y su relación con la continuidad y la derivación de funciones.\n",
    "\n",
    "5. **Derivadas:** Conocimiento de las reglas de derivación básicas y la capacidad para calcular la derivada de funciones polinómicas, trigonométricas, exponenciales y logarítmicas.\n",
    "\n",
    "6. **Conceptos de área y volumen:** Familiaridad con el cálculo de áreas bajo curvas y volúmenes de sólidos mediante métodos de sumas de Riemann y el teorema de Pappus-Guldin.\n",
    "\n",
    "7. **Integración definida:** Comprender el concepto de integral definida como una suma infinitesimal de áreas y la relación entre la integral definida y la integral indefinida.\n",
    "\n",
    "8. **Notación matemática:** Capacidad para interpretar y manipular símbolos y expresiones matemáticas de manera precisa y coherente, incluyendo la notación de integración y las reglas de la derivada.\n",
    "\n",
    "9. **Aplicaciones en ingeniería agropecuaria:** Tener una comprensión básica de los conceptos y aplicaciones de la ingeniería agropecuaria, incluyendo el cálculo de áreas de terreno, volúmenes de tanques y canales, tasas de crecimiento y decaimiento en poblaciones agrícolas, entre otros.\n",
    "\n",
    "Estos prerrequisitos conceptuales proporcionan la base necesaria para abordar el estudio de las reglas de integración indefinida y su aplicación en contextos específicos de ingeniería agropecuaria dentro de un curso de cálculo."
   ]
  },
  {
   "cell_type": "markdown",
   "id": "2298e976",
   "metadata": {
    "slideshow": {
     "slide_type": "slide"
    }
   },
   "source": [
    "# Para el diseño de la clase tenga en cuenta algunos problemas de aprendizaje"
   ]
  },
  {
   "cell_type": "markdown",
   "id": "092c4c5f",
   "metadata": {},
   "source": [
    "\n",
    "**1. Falta de comprensión de los conceptos básicos:** Los estudiantes pueden tener dificultades para comprender conceptos fundamentales como la diferencia entre integral indefinida y definida, las reglas de integración básicas y su aplicación en ingeniería agropecuaria.\n",
    "\n",
    "   *Estrategias de solución:* Proporcionar una revisión detallada de los conceptos básicos antes de abordar la integración indefinida. Utilizar ejemplos concretos relacionados con la ingeniería agropecuaria para hacer los conceptos más tangibles y significativos para los estudiantes.\n"
   ]
  },
  {
   "cell_type": "markdown",
   "id": "9bf1f9b9",
   "metadata": {},
   "source": [
    "\n",
    "**2. Dificultad para recordar reglas de integración:** Los estudiantes pueden luchar por recordar las diversas reglas de integración, especialmente cuando se enfrentan a problemas complejos que requieren la aplicación de múltiples reglas.\n",
    "\n",
    "   *Estrategias de solución:* Fomentar la práctica regular mediante la resolución de una variedad de problemas de integración. Proporcionar hojas de trucos o tarjetas de referencia rápida que resuman las reglas de integración básicas para que los estudiantes las consulten cuando sea necesario.\n"
   ]
  },
  {
   "cell_type": "markdown",
   "id": "64596460",
   "metadata": {},
   "source": [
    "\n",
    "**3. Falta de contextualización:** Los estudiantes pueden tener dificultades para comprender cómo se aplican las reglas de integración en situaciones específicas de ingeniería agropecuaria, lo que dificulta su capacidad para relacionar los conceptos con aplicaciones prácticas.\n",
    "\n",
    "   *Estrategias de solución:* Incorporar ejemplos y problemas prácticos relacionados con la ingeniería agropecuaria en el material de enseñanza. Realizar estudios de casos o proyectos que requieran a los estudiantes aplicar las reglas de integración para resolver problemas reales en el campo de la ingeniería agropecuaria.\n"
   ]
  },
  {
   "cell_type": "markdown",
   "id": "e487ad26",
   "metadata": {},
   "source": [
    "\n",
    "**4. Temor a cometer errores:** Los estudiantes pueden sentirse intimidados por la posibilidad de cometer errores al aplicar las reglas de integración, lo que puede afectar su confianza y disposición para practicar y participar en clase.\n",
    "\n",
    "   *Estrategias de solución:* Fomentar un ambiente de aprendizaje positivo y de apoyo donde se anime a los estudiantes a cometer errores como parte del proceso de aprendizaje. Proporcionar retroalimentación constructiva y oportunidades para corregir errores a medida que los estudiantes practican y refinan sus habilidades de integración.\n",
    "\n",
    "**5. Dificultades con la fluidez en la aplicación:** Los estudiantes pueden tener dificultades para aplicar las reglas de integración de manera rápida y eficiente, lo que puede limitar su capacidad para resolver problemas de manera oportuna.\n",
    "\n",
    "   *Estrategias de solución:* Fomentar la práctica regular y la resolución de problemas cronometrados para mejorar la fluidez en la aplicación de las reglas de integración. Proporcionar oportunidades para trabajar en colaboración con compañeros de clase o mediante actividades de tutoría para reforzar las habilidades y compartir estrategias eficaces."
   ]
  },
  {
   "cell_type": "markdown",
   "metadata": {},
   "source": [
    "# Secuencia conceptual para la clase\n",
    "\n"
   ]
  },
  {
   "cell_type": "markdown",
   "id": "5994bd8d",
   "metadata": {},
   "source": [
    "# 3.8 Antiderivadas según Purcell\n",
    "\n",
    "Página 197 del PDF (En Purcell la página del texto coincide con la página del PDF)\n",
    "\n"
   ]
  },
  {
   "cell_type": "code",
   "execution_count": null,
   "id": "53943523",
   "metadata": {},
   "outputs": [],
   "source": [
    "from graphviz import Digraph\n",
    "\n",
    "# Crear un nuevo grafo dirigido\n",
    "dot = Digraph()\n",
    "\n",
    "# Añadir nodos y relaciones al grafo\n",
    "dot.node('A', 'Antiderivada')\n",
    "dot.node('B', 'Derivada')\n",
    "dot.node('C', 'Integración Indefinida')\n",
    "dot.node('D', 'La primitiva de una derivada')\n",
    "dot.node('E', 'Constante de integración')\n",
    "dot.node('F', '')\n",
    "dot.node('G', '')\n",
    "dot.node('H', '')\n",
    "dot.node('I', '')\n",
    "dot.node('J', '')\n",
    "\n",
    "dot.edges(['AB'])\n",
    "dot.edges(['BC'])\n",
    "dot.edges(['CD'])\n",
    "dot.edges(['DJ'])\n",
    "dot.edges(['EF'])\n",
    "dot.edges(['FG'])\n",
    "dot.edges(['GH'])\n",
    "dot.edges(['HI'])\n",
    "dot.edges(['IJ'])\n",
    "\n",
    "# Guardar el grafo como un archivo de imagen\n",
    "dot.render('Mapa_Conceptual_Integral_indefinida', format='png', cleanup=True, \\\n",
    "           directory='/home/marco/Documentos/docencia/calculo/images/4_integral/1_aplicaciones_integral_indefinida/')\n",
    "\n",
    "dot.view()"
   ]
  },
  {
   "cell_type": "markdown",
   "id": "f0ba1294",
   "metadata": {},
   "source": [
    "# 3.8 Antiderivadas  \n"
   ]
  },
  {
   "cell_type": "markdown",
   "id": "5fc44086",
   "metadata": {},
   "source": [
    "\n",
    "La mayoría de las operaciones matemáticas con que trabajamos vienen en pares de inversas: suma y resta, multiplicación y división, y exponenciación y extracción de raíces.\n"
   ]
  },
  {
   "cell_type": "markdown",
   "id": "14fbe9a6",
   "metadata": {},
   "source": [
    "En cada caso, la segunda operación deshace la primera y viceversa. "
   ]
  },
  {
   "cell_type": "markdown",
   "id": "cacfa0ae",
   "metadata": {},
   "source": [
    "Una razón para nuestro interés en las operaciones inversas es su utilidad en la resolución de ecuaciones. "
   ]
  },
  {
   "cell_type": "markdown",
   "id": "9557d8c7",
   "metadata": {},
   "source": [
    "Por ejemplo, la resolución de $x^{3} = 8$ implica el uso de extraer raíces. "
   ]
  },
  {
   "cell_type": "markdown",
   "id": "51b85acb",
   "metadata": {},
   "source": [
    "En este capítulo y en el anterior hemos estudiado derivación. Si queremos resolver ecuaciones que incluyan derivadas necesitaremos su inversa, denominada *antiderivación* o *integración*."
   ]
  },
  {
   "cell_type": "markdown",
   "id": "3867e456",
   "metadata": {},
   "source": [
    "## Definición  \n",
    "\n",
    "Llamamos a $F$ una antiderivada de $f$ en el intervalo $I$ si $D_{x}F(x) = f(x)$ en $I$; esto es, si $F'(x) = f(x)$ para toda $x$ en $I$."
   ]
  },
  {
   "cell_type": "markdown",
   "id": "28262a2b",
   "metadata": {},
   "source": [
    "En nuestra definición utilizamos una antiderivada, en lugar de la antiderivada.\n",
    "Pronto verá por qué.\n"
   ]
  },
  {
   "cell_type": "markdown",
   "id": "3fad0fb3",
   "metadata": {},
   "source": [
    "\n",
    "## EJEMPLO 1   \n",
    "\n",
    "Encuentre una antiderivada de la función f (x) = 4x en (- q, q).\n",
    "\n"
   ]
  },
  {
   "cell_type": "markdown",
   "id": "5f49afa6",
   "metadata": {},
   "source": [
    "### SOLUCIÓN   \n",
    "\n",
    "Buscamos una función F que satisfaga $F¿(x) = 4x$ para toda $x$ real. De nuestra experiencia con derivación, sabemos que F(x) = x4 es una de tales funciones. \n",
    "\n",
    "\n",
    "\n",
    "En cada caso\n",
    "F'(x) = 4x3\n",
    "Figura 1\n",
    "x\n",
    "F(x) = x4 – 4\n",
    "Un momento de reflexión sugerirá otras soluciones para el ejemplo 1. La función\n",
    "F(x) = x4 + 6 también satisface F ¿(x) = 4x3; también es una antiderivada de f (x) = 4x3.\n",
    "De hecho, F(x) = x4 + C, donde C es cualquier constante, es una antiderivada de 4x3 en\n",
    "(- q, q) (véase la figura 1).\n",
    "Ahora planteamos una pregunta importante. ¿Toda derivada de f (x) = 4x3 es de la\n",
    "forma F(x) = x4 + C? La respuesta es sí. Esto se deduce del teorema 3.6B, el cual esta-\n",
    "blece que si dos funciones tienen la misma derivada, deben diferir en una constante."
   ]
  },
  {
   "cell_type": "code",
   "execution_count": null,
   "id": "0cd582d9",
   "metadata": {},
   "outputs": [],
   "source": [
    "from ipywidgets import interact  # para animar el C y así mostrar una antiderivada para cada valor de C\n",
    "from sympy import * \n",
    "\n",
    "def F(x):\n",
    "    return x**4\n",
    "\n",
    "def trazar_antiderivada(C = 0):\n",
    "    incremento = 0.5\n",
    "    dominio = np.arange(-4,4+incremento, incremento)\n",
    "    rango = F(dominio)+C\n",
    "    plt.plot(dominio, rango)\n",
    "\n",
    "interact(trazar_antiderivada, C = (-4,4))    "
   ]
  },
  {
   "cell_type": "code",
   "execution_count": null,
   "id": "b35770aa",
   "metadata": {},
   "outputs": [],
   "source": []
  },
  {
   "cell_type": "markdown",
   "id": "f21d1859",
   "metadata": {},
   "source": [
    "# Lista de reglas de integración identificadas para aplicación en Ingeniería\n",
    "\n",
    "1. Reglas de linealidad \n",
    "\n",
    "$$ \\int f+g = \\int f + \\int g $$\n",
    "\n",
    "$$ \\int kf = k \\int f $$\n",
    "\n",
    "2. Integral de una función constante: \n",
    "\n",
    "$$ \\int k = kx + C $$\n",
    "\n",
    "3. Regla de la potencia para integrales: \n",
    "\n",
    "$$ \\int x^{n} = \\frac{x^{n+1}}{n+1} + C $$"
   ]
  },
  {
   "cell_type": "markdown",
   "id": "5736b7ca",
   "metadata": {},
   "source": [
    "Estas son las aplicaciones que hemos identificado que se requieren más en aplicaciones de lanzamiento vertical y caída libre. "
   ]
  },
  {
   "cell_type": "code",
   "execution_count": null,
   "id": "ed2ae18e",
   "metadata": {},
   "outputs": [],
   "source": []
  },
  {
   "cell_type": "code",
   "execution_count": null,
   "id": "f0764142",
   "metadata": {},
   "outputs": [],
   "source": []
  },
  {
   "cell_type": "markdown",
   "metadata": {},
   "source": [
    "<img src = \"https://www.adama.com/colombia/sites/adama_colombia/files/2021-09/Foto%20Arroz_Home.jpg\">"
   ]
  },
  {
   "cell_type": "markdown",
   "metadata": {},
   "source": [
    "# Aplicaciones a ingeniería agropecuaria de la función logarítica\n",
    "\n",
    "La función logarítmica tiene diversas aplicaciones en ingeniería agropecuaria. A continuación, se presentan algunas áreas donde se utiliza:\n",
    "\n",
    "1. **Modelado de Crecimiento de Cultivos:**\n",
    "   - Los modelos de crecimiento de cultivos a menudo incorporan funciones logarítmicas para describir la relación entre el tiempo y el crecimiento de las plantas. Estos modelos son esenciales para prever el rendimiento de los cultivos, la maduración de los frutos y la necesidad de prácticas agronómicas.\n",
    "\n",
    "2. **Análisis de Datos de Producción:**\n",
    "   - En el análisis de datos agrícolas, se utilizan funciones logarítmicas para modelar y entender las relaciones entre variables, como la cantidad de fertilizantes utilizados y el rendimiento del cultivo. Esto puede ayudar a optimizar las prácticas agrícolas para mejorar la eficiencia y la productividad.\n",
    "\n",
    "3. **Manejo del Agua:**\n",
    "   - En la gestión del agua en la agricultura, las funciones logarítmicas se pueden emplear para modelar la relación entre la cantidad de agua aplicada y su absorción por las plantas. Esto es crucial para el riego eficiente y la conservación del agua.\n"
   ]
  },
  {
   "cell_type": "markdown",
   "metadata": {},
   "source": [
    "\n",
    "4. **Estimación de Rendimiento:**\n",
    "   - Las funciones logarítmicas también pueden utilizarse para estimar el rendimiento de los cultivos en función de factores como la cantidad de luz solar, la temperatura y la humedad del suelo. Estos modelos ayudan a los agricultores a tomar decisiones informadas sobre la gestión de sus cultivos.\n",
    "\n",
    "5. **Diseño de Experimentos:**\n",
    "   - En el diseño experimental, las funciones logarítmicas pueden ser útiles para modelar la respuesta de los cultivos a diferentes condiciones ambientales o tratamientos. Esto es esencial para realizar experimentos eficientes y obtener resultados significativos.\n",
    "\n",
    "6. **Análisis de Suelos:**\n",
    "   - En la ingeniería agropecuaria, la calidad del suelo es crucial. Las funciones logarítmicas pueden utilizarse para modelar la relación entre la cantidad de nutrientes aplicados al suelo y la absorción por las plantas, lo que ayuda en la gestión adecuada de los nutrientes del suelo.\n",
    "\n",
    "7. **Optimización de Recursos:**\n",
    "   - La optimización de recursos, como la cantidad de insumos agrícolas utilizados, puede beneficiarse del uso de funciones logarítmicas para modelar las respuestas de los cultivos. Esto ayuda a minimizar costos y reducir el impacto ambiental.\n",
    "\n",
    "En resumen, la función logarítmica se utiliza en ingeniería agropecuaria para modelar y entender relaciones complejas entre variables, lo que facilita la toma de decisiones informadas y la optimización de prácticas agrícolas."
   ]
  },
  {
   "cell_type": "code",
   "execution_count": null,
   "metadata": {},
   "outputs": [],
   "source": [
    "import plotly.graph_objects as go\n",
    "import numpy as np\n",
    "\n",
    "# Definir la función logarítmica\n",
    "def log_function(x):\n",
    "    return np.log(x)\n",
    "\n",
    "# Generar datos para el gráfico\n",
    "x_values = np.linspace(0.1, 5, 100)  # Evitar el logaritmo de 0\n",
    "y_values = log_function(x_values)\n",
    "\n",
    "# Crear el gráfico\n",
    "fig = go.Figure()\n",
    "\n",
    "# Agregar la curva de la función logarítmica\n",
    "fig.add_trace(go.Scatter(x=x_values, y=y_values, mode='lines', name='Logaritmo'))\n",
    "\n",
    "# Configurar el diseño del gráfico\n",
    "fig.update_layout(\n",
    "    title='Gráfico de la Función Logarítmica',\n",
    "    xaxis=dict(title='X'),\n",
    "    yaxis=dict(title='log(X)'),\n",
    "    template='plotly_dark'  # Puedes cambiar el tema según tus preferencias\n",
    ")\n",
    "\n",
    "# Mostrar el gráfico\n",
    "fig.show()\n"
   ]
  },
  {
   "cell_type": "code",
   "execution_count": null,
   "metadata": {},
   "outputs": [],
   "source": []
  },
  {
   "cell_type": "code",
   "execution_count": null,
   "id": "3b788bca",
   "metadata": {
    "slideshow": {
     "slide_type": "slide"
    }
   },
   "outputs": [],
   "source": []
  },
  {
   "cell_type": "markdown",
   "id": "aac04d00",
   "metadata": {
    "slideshow": {
     "slide_type": "slide"
    }
   },
   "source": [
    "<img src = ''>"
   ]
  },
  {
   "cell_type": "markdown",
   "id": "8a6f7ef9",
   "metadata": {
    "slideshow": {
     "slide_type": "slide"
    }
   },
   "source": [
    "## Tareas para realizar antes de la clase"
   ]
  },
  {
   "cell_type": "markdown",
   "id": "90cae469",
   "metadata": {
    "slideshow": {
     "slide_type": "slide"
    }
   },
   "source": [
    "1. Ver los videos respectivos []()\n",
    "2. Memorizar las definiciones []()\n",
    "3. Sintetizar o resumir la información en mapas conceptuales. []()\n",
    "4. Leer los ejemplos del texto y repricar o reproducir los procedimientos. "
   ]
  },
  {
   "cell_type": "code",
   "execution_count": null,
   "id": "6ec363d8",
   "metadata": {},
   "outputs": [],
   "source": [
    "# asignación de tres ejercicio del taller para quiz\n",
    "\n",
    "import pandas as pd\n",
    "import numpy as np\n",
    "import random\n",
    "import requests\n",
    "np.random.seed(42)\n",
    "\n",
    "texto_guia = 'Calculo diferencial e integral de Purcell'\n",
    "página_pdf = 202\n",
    "seccion_libro= '3.8'\n",
    "num_ejercicios_del_taller = 6\n",
    "numero_ejerccios_a_asignar = 1\n",
    "\n",
    "\n",
    "# Descargar la lista de  estudiantes y ejercicios\n",
    "students_url = \"https://raw.githubusercontent.com/marco-canas/groups_list/main/calculo_integral.csv\"\n",
    "exercises = list(range(1, num_ejercicios_del_taller))  # Lista de ejercicios del 1 al 83\n",
    "\n",
    "# Cargar la lista de estudiantes\n",
    "students_data = pd.read_csv(students_url)\n",
    "\n",
    "# Crear una lista para almacenar las asignaciones\n",
    "assignments = []\n",
    "\n",
    "# Asignar ejercicios aleatorios a cada estudiante\n",
    "for index, student in students_data.iterrows():\n",
    "    random_exercises = random.sample(exercises, numero_ejerccios_a_asignar)  # Seleccionar 5 ejercicios aleatorios sin repetición\n",
    "    assignments.append([students_data[\"Nombre\"][index], *random_exercises])  # Agregar asignación a la lista\n",
    "\n",
    "# Crear un DataFrame con las asignaciones  \n",
    "lista_ejercicios_asignados = ['Exam' + str(i+1) for i in range(numero_ejerccios_a_asignar)]    \n",
    "columns = [\"Student\"] + lista_ejercicios_asignados\n",
    "            \n",
    "assignment_df = pd.DataFrame(assignments, columns=columns)\n",
    "\n",
    "# Guardar el DataFrame en un archivo CSV\n",
    "assignment_csv = \"tarea\" + seccion_libro + texto_guia\n",
    "assignment_df.to_csv(assignment_csv, index=False)\n",
    "\n",
    "print(\"Asignaciones guardadas en\", assignment_csv)\n",
    "assignment_df"
   ]
  },
  {
   "cell_type": "markdown",
   "id": "fccb447c",
   "metadata": {
    "slideshow": {
     "slide_type": "slide"
    }
   },
   "source": [
    "# Tareas para realizar en clase"
   ]
  },
  {
   "cell_type": "markdown",
   "id": "e5c48edf",
   "metadata": {
    "slideshow": {
     "slide_type": "slide"
    }
   },
   "source": [
    "* Modelación matemática \n",
    "* Trabajo en equipos"
   ]
  },
  {
   "cell_type": "code",
   "execution_count": null,
   "id": "33949e3f",
   "metadata": {},
   "outputs": [],
   "source": [
    "# asignación de tres ejercicio del taller para quiz\n",
    "\n",
    "import pandas as pd\n",
    "import numpy as np\n",
    "import random\n",
    "import requests\n",
    "np.random.seed(42)\n",
    "\n",
    "texto_guia = 'Calculo diferencial e integral de Purcell'\n",
    "página_pdf = 202\n",
    "seccion_libro= '3.8'\n",
    "num_ejercicios_del_taller = 54\n",
    "numero_ejerccios_a_asignar = 3\n",
    "\n",
    "\n",
    "# Descargar la lista de  estudiantes y ejercicios\n",
    "students_url = \"https://raw.githubusercontent.com/marco-canas/groups_list/main/calculo_integral.csv\"\n",
    "exercises = list(range(1, num_ejercicios_del_taller))  # Lista de ejercicios del 1 al 83\n",
    "\n",
    "# Cargar la lista de estudiantes\n",
    "students_data = pd.read_csv(students_url)\n",
    "\n",
    "# Crear una lista para almacenar las asignaciones\n",
    "assignments = []\n",
    "\n",
    "# Asignar ejercicios aleatorios a cada estudiante\n",
    "for index, student in students_data.iterrows():\n",
    "    random_exercises = random.sample(exercises, numero_ejerccios_a_asignar)  # Seleccionar 5 ejercicios aleatorios sin repetición\n",
    "    assignments.append([students_data[\"Nombre\"][index], *random_exercises])  # Agregar asignación a la lista\n",
    "\n",
    "# Crear un DataFrame con las asignaciones  \n",
    "lista_ejercicios_asignados = ['exercise' + str(i+1) for i in range(numero_ejerccios_a_asignar)]    \n",
    "columns = [\"Student\"] + lista_ejercicios_asignados\n",
    "            \n",
    "assignment_df = pd.DataFrame(assignments, columns=columns)\n",
    "\n",
    "# Guardar el DataFrame en un archivo CSV\n",
    "assignment_csv = \"tarea\" + seccion_libro + texto_guia\n",
    "assignment_df.to_csv(assignment_csv, index=False)\n",
    "\n",
    "print(\"Asignaciones guardadas en\", assignment_csv)\n",
    "assignment_df"
   ]
  },
  {
   "cell_type": "markdown",
   "id": "8b6b0112",
   "metadata": {
    "slideshow": {
     "slide_type": "slide"
    }
   },
   "source": [
    "# Tareas para realizar después de la realización de la clase"
   ]
  },
  {
   "cell_type": "markdown",
   "id": "947460e3",
   "metadata": {
    "slideshow": {
     "slide_type": "slide"
    }
   },
   "source": [
    "* Actividades de memorización: \n",
    "  - escucha reiterada de grabaciones de formulas y resultados científicos. \n",
    "  - relectura de notas. \n",
    "  - ejercicios de mayor complejidad. \n",
    "  "
   ]
  },
  {
   "cell_type": "code",
   "execution_count": null,
   "id": "a304b218",
   "metadata": {},
   "outputs": [],
   "source": [
    "# asignación de tres ejercicio del taller para quiz\n",
    "\n",
    "import pandas as pd\n",
    "import numpy as np\n",
    "import random\n",
    "import requests\n",
    "np.random.seed(42)\n",
    "\n",
    "texto_guia = 'Calculo diferencial e integral de Purcell'\n",
    "página_pdf = 202\n",
    "seccion_libro= '3.8'\n",
    "num_ejercicios_del_taller = 54\n",
    "numero_ejerccios_a_asignar = 10\n",
    "\n",
    "\n",
    "# Descargar la lista de  estudiantes y ejercicios\n",
    "students_url = \"https://raw.githubusercontent.com/marco-canas/groups_list/main/calculo_integral.csv\"\n",
    "exercises = list(range(1, num_ejercicios_del_taller))  # Lista de ejercicios del 1 al 83\n",
    "\n",
    "# Cargar la lista de estudiantes\n",
    "students_data = pd.read_csv(students_url)\n",
    "\n",
    "# Crear una lista para almacenar las asignaciones\n",
    "assignments = []\n",
    "\n",
    "# Asignar ejercicios aleatorios a cada estudiante\n",
    "for index, student in students_data.iterrows():\n",
    "    random_exercises = random.sample(exercises, numero_ejerccios_a_asignar)  # Seleccionar 5 ejercicios aleatorios sin repetición\n",
    "    assignments.append([students_data[\"Nombre\"][index], *random_exercises])  # Agregar asignación a la lista\n",
    "\n",
    "# Crear un DataFrame con las asignaciones  \n",
    "lista_ejercicios_asignados = ['exercise' + str(i+1) for i in range(numero_ejerccios_a_asignar)]    \n",
    "columns = [\"Student\"] + lista_ejercicios_asignados\n",
    "            \n",
    "assignment_df = pd.DataFrame(assignments, columns=columns)\n",
    "\n",
    "# Guardar el DataFrame en un archivo CSV\n",
    "assignment_csv = \"tarea\" + seccion_libro + texto_guia\n",
    "assignment_df.to_csv(assignment_csv, index=False)\n",
    "\n",
    "print(\"Asignaciones guardadas en\", assignment_csv)\n",
    "assignment_df"
   ]
  },
  {
   "cell_type": "markdown",
   "id": "236b43fc",
   "metadata": {
    "slideshow": {
     "slide_type": "slide"
    }
   },
   "source": [
    "## Grabaciones en audio para fomentar la capacidad de memorizar enunciados de teoremas y resultados científicos y la capacidad de parafrasear estos resultados. "
   ]
  },
  {
   "cell_type": "markdown",
   "id": "319f2ffa",
   "metadata": {
    "slideshow": {
     "slide_type": "slide"
    }
   },
   "source": [
    "Se dispondrá de un lugar en el drive asociuado al correo institucional de la Universidad Nacional del Profesor Marso para albergar los archivosd de audio de fomento a la memoirización, enunciación y parafraseo de los resultados científicos, prtopiedades, reglas, etc. \n",
    "\n",
    "* Vocaroo"
   ]
  },
  {
   "cell_type": "markdown",
   "id": "564fa59d",
   "metadata": {
    "slideshow": {
     "slide_type": "slide"
    }
   },
   "source": [
    "### Comparta sus cuadernos y videos, evidencias de su aprendizaje [aquí](https://forms.office.com/Pages/ResponsePage.aspx?id=IefhmYRxjkmK_7KtTlPBwkanXIs1i1FEujpsZgO6dXpUMEMwTEZVMzEwVVBPTElWNVg5OVEyWUhMUy4u)"
   ]
  },
  {
   "cell_type": "markdown",
   "id": "44be6d93",
   "metadata": {
    "slideshow": {
     "slide_type": "slide"
    }
   },
   "source": [
    "# Vocabulary "
   ]
  },
  {
   "cell_type": "markdown",
   "id": "99b8dfed",
   "metadata": {
    "slideshow": {
     "slide_type": "slide"
    }
   },
   "source": []
  },
  {
   "cell_type": "markdown",
   "id": "c6236d5d",
   "metadata": {},
   "source": [
    "# FODA del grupo y del profesor  \n",
    "\n",
    "* F: Fortalezas\n",
    "* O: Oportunidades\n",
    "* D: Dificultades\n",
    "* A: Amenazas."
   ]
  },
  {
   "cell_type": "markdown",
   "id": "b48f9542",
   "metadata": {},
   "source": [
    "## ¿Cómo se sintió en este espacio de enseñanza y aprendizaje?\n",
    "\n",
    "!Dios te bendiga¡"
   ]
  },
  {
   "cell_type": "markdown",
   "id": "10bce0d0",
   "metadata": {
    "slideshow": {
     "slide_type": "slide"
    }
   },
   "source": [
    "## Referentes "
   ]
  },
  {
   "cell_type": "markdown",
   "id": "1db3c468",
   "metadata": {
    "slideshow": {
     "slide_type": "slide"
    }
   },
   "source": [
    "* [Varberg, P., & Rigdon, R. P. V. (2000). Cálculo diferencial e integral.\n",
    "](https://github.com/marco-canas/calculo/blob/main/referents/purcell/purcell_calculo.pdf)\n",
    "* [stewart precálculo](https://udeaeduco-my.sharepoint.com/:b:/g/personal/marco_canas_udea_edu_co/ERHIq62I6qFNrmxy6LZb8ZMBci7kUsyNME1nIh9yCBMJ_w?e=0zMSla)  \n",
    "\n",
    "* [stewart cálculo](https://udeaeduco-my.sharepoint.com/:b:/g/personal/marco_canas_udea_edu_co/EZgXZjAp8QxPqOAim2hs6LcBNPLGjSHf-xwYnUVYkwa04w?e=RZdTCy)  \n",
    "\n",
    "* [larson](https://udeaeduco-my.sharepoint.com/:b:/g/personal/marco_canas_udea_edu_co/ES71ChFeO9ZDhW3TwC5Ijk8BjxUK3Pdqz_fjHxTTFAfIAg?e=VDEjfu)\n",
    "\n",
    "* [uzcategui](https://udeaeduco-my.sharepoint.com/:b:/g/personal/marco_canas_udea_edu_co/ETDikm-lVl1Or8XoEo9oyh0BEti9Zs8le-f0D-dBdtZmbA?e=bBsoyQ)\n",
    "\n",
    "* [Recomendación de la UNESCO sobre ciencia abierta](https://unesdoc.unesco.org/ark:/48223/pf0000379949_spa)  \n",
    "\n",
    "* [chatGPT](https://openai.com/blog/chatgpt)  \n",
    "\n",
    "* Géron, A. (2017). Hands-on machine learning with scikit-learn and tensorflow: Concepts. Tools, and Techniques to build intelligent systems.[Geron, Aurelien. Hands on Machine Learning](https://udeaeduco-my.sharepoint.com/:b:/g/personal/marco_canas_udea_edu_co/Ecet27yjQzZIlT1Y_Bc2erkBUhbeYuIe6HG8i1FYZRlZww?e=dlvZ4v)  \n",
    "\n",
    "* McKinney, W. (2012). Python for data analysis: Data wrangling with Pandas, NumPy, and IPython. \" O'Reilly Media, Inc.\".[Wes Mackinney. ](https://udeaeduco-my.sharepoint.com/:b:/g/personal/marco_canas_udea_edu_co/EVbi5JIeBl9ErbiUnZfGe8YBhNTnZ8sxTK5hjIOPK4UpGw?e=fFclah)"
   ]
  },
  {
   "cell_type": "markdown",
   "id": "6b9e56a8",
   "metadata": {
    "slideshow": {
     "slide_type": "slide"
    }
   },
   "source": [
    "### [Evaluamos al profesor Marco Cañas Aquí](https://forms.office.com/Pages/ResponsePage.aspx?id=IefhmYRxjkmK_7KtTlPBwkanXIs1i1FEujpsZgO6dXpUREJPV1kxUk1JV1ozTFJIQVNIQjY5WEY3US4u)"
   ]
  },
  {
   "cell_type": "markdown",
   "id": "071afa04",
   "metadata": {
    "slideshow": {
     "slide_type": "slide"
    }
   },
   "source": [
    "## [Evaluación luego de alcanzar estos objetivos de aprendizaje]()"
   ]
  },
  {
   "cell_type": "markdown",
   "id": "10f43536",
   "metadata": {
    "slideshow": {
     "slide_type": "slide"
    }
   },
   "source": [
    "### Continue su aprendizaje en la siguiente clase a través del siguiente [vínculo]()"
   ]
  },
  {
   "cell_type": "markdown",
   "id": "af751e30",
   "metadata": {
    "slideshow": {
     "slide_type": "slide"
    }
   },
   "source": [
    "# Conjeturas pedagógicas fruto de la aplicación del modelo de aprendizaje invertido y del enfoque hacia la ciencia de datos con python\n",
    "\n",
    "1. Todo cálculo o resultado debe ser interpretado en una línea markdown del cuaderno Jupyter, inmediatamente después de la enunciación del resultado y después de la presentación de una tabla o gráfico bidimensional, de tal menera que el estudiante explicite la comprensión verbal del resultado y las inferencias o estrategias que este resultado le sugieren.   "
   ]
  }
 ],
 "metadata": {
  "celltoolbar": "Slideshow",
  "kernelspec": {
   "display_name": "Python 3 (ipykernel)",
   "language": "python",
   "name": "python3"
  },
  "language_info": {
   "codemirror_mode": {
    "name": "ipython",
    "version": 3
   },
   "file_extension": ".py",
   "mimetype": "text/x-python",
   "name": "python",
   "nbconvert_exporter": "python",
   "pygments_lexer": "ipython3",
   "version": "3.10.12"
  },
  "rise": {
   "enable_chalkboard": true,
   "theme": "sky",
   "transition": "zoom"
  }
 },
 "nbformat": 4,
 "nbformat_minor": 5
}
