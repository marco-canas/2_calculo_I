{
 "cells": [
  {
   "cell_type": "markdown",
   "metadata": {},
   "source": [
    "<table align=\"left\">\n",
    "  <td>\n",
    "    <a href=\"https://colab.research.google.com/github/marco-canas/calculo/blob/main/classes/3_calculo_for_eng_licenciatura_administracion/4_integration/4_aplicaciones_integral/1_areas_entre_curvas/1_areas_entre_curvas.ipynb\" target=\"_parent\"><img src=\"https://colab.research.google.com/assets/colab-badge.svg\" alt=\"Open In Colab\"/></a>\n",
    "  </td>\n",
    "</table>"
   ]
  },
  {
   "cell_type": "markdown",
   "metadata": {},
   "source": [
    "## [Video de apoyo a la lectura interactiva y experimental ](https://www.youtube.com/watch?v=0LeMjF5kL5w)"
   ]
  },
  {
   "cell_type": "markdown",
   "metadata": {},
   "source": [
    "## [Vínculo al programa del curso:](https://github.com/marco-canas/calculo/blob/main/2_programa_calculo_Integral_ingenieria_agropecuaria.docx)"
   ]
  },
  {
   "cell_type": "code",
   "execution_count": 1,
   "metadata": {},
   "outputs": [],
   "source": [
    "# Llamar a lista o tomar asistencia con python \n",
    "\n",
    "import pandas as pd # convertir la lista de estudiantes en un dataframe\n",
    "import numpy as np # elección aleatoria\n",
    "\n",
    "# Cargar la lista de estudiantes desde la URL\n",
    "url = 'https://raw.githubusercontent.com/marco-canas/groups_list/main/calculo_integral.csv'\n",
    "estudiantes = pd.read_csv(url) # convierte el csv en una dataframe\n",
    "\n",
    "# Convertir la columna 'Nombre' a una lista de Python\n",
    "lista_estudiantes = estudiantes['Nombre'].tolist()\n",
    "\n",
    "# Función para llamar a un estudiante aleatoriamente y registrar su nota de seguimiento\n",
    "def llamar_estudiante():\n",
    "    if lista_estudiantes:\n",
    "        estudiante_aleatorio = np.random.choice(lista_estudiantes)\n",
    "        print(f\"Llamando a {estudiante_aleatorio}...\")\n",
    "        lista_estudiantes.remove(estudiante_aleatorio)\n",
    "    else:\n",
    "        print(\"Se han llamado a todos los estudiantes del grupo completo.\")"
   ]
  },
  {
   "cell_type": "code",
   "execution_count": 2,
   "metadata": {},
   "outputs": [
    {
     "name": "stdout",
     "output_type": "stream",
     "text": [
      "Llamando a ROSILLO TEJADA VANESA...\n"
     ]
    }
   ],
   "source": [
    "llamar_estudiante()"
   ]
  },
  {
   "cell_type": "markdown",
   "metadata": {},
   "source": [
    "Un reconocimiento a mis estudiantes que han construido conmigo este saber pedagógico:\n",
    "\n",
    "<img src = 'https://github.com/marco-canas/calculo/blob/main/images/student_images/alegria_femenina_2023-11-17.jpeg?raw=true'> \n",
    "\n"
   ]
  },
  {
   "cell_type": "markdown",
   "metadata": {},
   "source": [
    "# Modelo general de clase: [aula invertida](https://www3.gobiernodecanarias.org/medusa/ecoescuela/pedagotic/aprendizaje-invertido-flipped-classroom/)"
   ]
  },
  {
   "cell_type": "markdown",
   "metadata": {},
   "source": [
    "![Definamos flipped learning de manera gráfica](https://resources.maneuveringthemiddle.com/wp-content/uploads/2020/07/04212706/1-5.png)"
   ]
  },
  {
   "cell_type": "markdown",
   "metadata": {},
   "source": [
    "## Fomento de la lectura literaria asociada a Ingeniería agropecuaria y licenciatura en Matemáticas\n",
    "\n",
    "[Encuentra tu persona vitamina](https://github.com/marco-canas/encuentra_tu_persona_vitamina/blob/main/14_el_placer/14_1_no_me_se_su_nombre_solo_he_tenido_sexo_con_el/1_14_1_el_placer_no_me_se_su_nombre_solo_he_tenido_sexo_con_el.ipynb)"
   ]
  },
  {
   "cell_type": "markdown",
   "metadata": {},
   "source": [
    "## Título de la clase: Aplicaciones de la integración definida al cálculo de áreas de regiones no poligonales  "
   ]
  },
  {
   "cell_type": "markdown",
   "metadata": {},
   "source": [
    "### Objetivo de aprendizaje (Enunciar, de manera corta sencilla y clara para todos los asistentes)\n",
    "\n",
    "* Recordar cómo clasificar los triángulos y cómo determinar su área. \n",
    "* Recordar cómo clasificar los cuadriláteros y cómo determinar su área.\n",
    "* Presentar la integral definida como el límite de una suma de áreas de rectángulos inscritos en una región.  \n",
    "* Determinar el área de regiones no triangulares y no cuadrangulares utilizando el concepto de integración definida: \n",
    "\n",
    "$$ \\text{Área} = \\int_{a}^{b} f(x) \\ dx  $$\n"
   ]
  },
  {
   "cell_type": "markdown",
   "metadata": {},
   "source": [
    "## Cuestionario para realizar labores de memorización, observación y síntesis de la información (Además de diagnóstico)\n",
    "\n",
    "Aquí tienes un cuestionario de presaberes para la clase sobre aplicaciones de la integral definida:\n",
    "\n",
    "**Cuestionario de Presaberes: Aplicaciones de la Integral Definida**\n",
    "\n",
    "1. ¿Cómo se clasifican los triángulos según la medida de sus lados?  \n",
    "   a) Equiláteros, isósceles, escalenos  \n",
    "   b) Acutángulos, obtusángulos, rectángulos  \n",
    "   c) Agudos, obtusos, rectos  \n",
    "   Respuesta correcta: a) Equiláteros, isósceles, escalenos  \n"
   ]
  },
  {
   "cell_type": "markdown",
   "metadata": {},
   "source": [
    "\n",
    "2. ¿Cuál es la fórmula para calcular el área de un triángulo?  \n",
    "   a) A = 1/2 * base * altura  \n",
    "   b) A = base * altura  \n",
    "   c) A = lado^2  \n",
    "   Respuesta correcta: a) A = 1/2 * base * altura  \n"
   ]
  },
  {
   "cell_type": "markdown",
   "metadata": {},
   "source": [
    "\n",
    "3. ¿Cómo se clasifican los cuadriláteros según la forma de sus lados?  \n",
    "   a) Cuadrados, rectángulos, rombos, trapecios  \n",
    "   b) Cuadrados, rombos, trapecios, pentágonos  \n",
    "   c) Triángulos, cuadriláteros, pentágonos, hexágonos  \n",
    "   Respuesta correcta: a) Cuadrados, rectángulos, rombos, trapecios  \n"
   ]
  },
  {
   "cell_type": "markdown",
   "metadata": {},
   "source": [
    "\n",
    "4. ¿Cuál es la fórmula para calcular el área de un cuadrilátero?  \n",
    "   a) A = base * altura  \n",
    "   b) A = lado^2  \n",
    "   c) Depende del tipo de cuadrilátero  \n",
    "   Respuesta correcta: c) Depende del tipo de cuadrilátero  \n"
   ]
  },
  {
   "cell_type": "markdown",
   "metadata": {},
   "source": [
    "\n",
    "5. ¿Cómo se define la integral definida?    \n",
    "   a) Como la suma de las áreas de rectángulos inscritos en una región    \n",
    "   b) Como el límite de una suma de áreas de rectángulos inscritos en una región  \n",
    "   c) Como la diferencia entre las áreas de rectángulos inscritos y circunscritos en una región  \n",
    "   Respuesta correcta: b) Como el límite de una suma de áreas de rectángulos inscritos en una región  \n"
   ]
  },
  {
   "cell_type": "markdown",
   "metadata": {},
   "source": [
    "\n",
    "6. ¿Qué representa la expresión $$ \\int_{a}^{b} f(x) \\ dx $$ en el contexto de la integral definida?  \n",
    "   a) El área bajo la curva de la función $f(x)$ en el intervalo \\([a, b]\\)    \n",
    "   b) El límite de una suma de áreas de rectángulos inscritos en una región    \n",
    "   c) La longitud de la curva \\( f(x) \\) en el intervalo \\([a, b]\\)    \n",
    "   Respuesta correcta: a) El área bajo la curva de la función \\( f(x) \\) en el intervalo \\([a, b]  \\)  \n",
    "\n",
    "Espero que este cuestionario sea útil para evaluar los presaberes de tus estudiantes.  "
   ]
  },
  {
   "cell_type": "markdown",
   "metadata": {},
   "source": [
    "## Establecimiento de prerrequisitos conceptuales para alcanzar el objetivo de aprendizaje trazado.   \n"
   ]
  },
  {
   "cell_type": "markdown",
   "metadata": {},
   "source": [
    "\n",
    "Aquí tienes una lista de prerrequisitos conceptuales para la clase sobre aplicaciones de la integral definida:\n"
   ]
  },
  {
   "cell_type": "markdown",
   "metadata": {},
   "source": [
    "\n",
    "1. Comprensión de los conceptos básicos de geometría, incluyendo la clasificación de triángulos y cuadriláteros, así como el cálculo de áreas.\n",
    "2. Conocimiento de funciones y cómo interpretarlas gráficamente.\n",
    "3. Entendimiento de la definición de integral definida y su relación con el cálculo de áreas bajo una curva.  \n",
    "4. Familiaridad con los conceptos de límites y sumas de Riemann, ya que la integral definida se define como el límite de una suma de áreas de rectángulos inscritos en una región.\n",
    "5. Conocimiento básico de álgebra y trigonometría, especialmente en el contexto de funciones.\n",
    "6. Familiaridad con el uso de notación matemática, incluyendo la comprensión de símbolos como \\( \\int \\) y \\( dx \\) en el contexto de la integral definida.  \n"
   ]
  },
  {
   "cell_type": "markdown",
   "metadata": {},
   "source": [
    "\n",
    "Estos prerrequisitos conceptuales son importantes para que los estudiantes puedan comprender y aplicar adecuadamente los conceptos relacionados con las aplicaciones de la integral definida en la clase."
   ]
  },
  {
   "cell_type": "markdown",
   "metadata": {},
   "source": [
    "# Para el diseño de la clase tenga en cuenta algunos problemas de aprendizaje  \n",
    "\n",
    "Aquí tienes una lista de posibles problemas de aprendizaje para la clase sobre aplicaciones de la integral definida, junto con algunas estrategias para abordarlos:\n"
   ]
  },
  {
   "cell_type": "markdown",
   "metadata": {},
   "source": [
    "\n",
    "1. **Falta de comprensión de los conceptos básicos de geometría:** Algunos estudiantes pueden tener dificultades para clasificar triángulos y cuadriláteros, así como para calcular áreas. \n",
    "   - Estrategia: Repasar brevemente los conceptos básicos de geometría al principio de la clase y proporcionar ejemplos prácticos para reforzar el aprendizaje.\n"
   ]
  },
  {
   "cell_type": "markdown",
   "metadata": {},
   "source": [
    "\n",
    "2. **Dificultad para comprender la relación entre la integral definida y el cálculo de áreas:** Algunos estudiantes pueden tener dificultades para entender cómo la integral definida se relaciona con el cálculo de áreas bajo una curva.\n",
    "   - Estrategia: Utilizar ejemplos visuales y prácticos para ilustrar cómo la integral definida representa el área bajo una curva. Proporcionar ejercicios guiados para que los estudiantes practiquen calcular áreas utilizando la integral definida.\n"
   ]
  },
  {
   "cell_type": "markdown",
   "metadata": {},
   "source": [
    "\n",
    "3. **Problemas para aplicar la integral definida en el cálculo de áreas de regiones no triangulares y no cuadrangulares:** Algunos estudiantes pueden encontrar difícil aplicar la integral definida para determinar el área de regiones con formas irregulares.\n",
    "   - Estrategia: Proporcionar una variedad de ejemplos que cubran diferentes tipos de regiones, incluyendo polígonos no regulares y curvas. Guiar a los estudiantes a través del proceso paso a paso y proporcionar retroalimentación inmediata sobre su trabajo.\n",
    "\n",
    "4. **Confusión con la notación matemática y los símbolos utilizados en la integral definida:** Algunos estudiantes pueden tener dificultades para entender la notación matemática utilizada en la integral definida.\n",
    "   - Estrategia: Explicar claramente la notación matemática utilizada en la integral definida y proporcionar ejemplos de su aplicación en contextos reales. Animar a los estudiantes a practicar la escritura y manipulación de expresiones matemáticas para mejorar su comprensión.\n",
    "\n",
    "Al abordar estos posibles problemas de aprendizaje y aplicar estas estrategias, los estudiantes podrán desarrollar una comprensión más sólida de las aplicaciones de la integral definida y mejorar su capacidad para resolver problemas relacionados con el cálculo de áreas."
   ]
  },
  {
   "cell_type": "markdown",
   "metadata": {},
   "source": [
    "# Secuencia conceptual introductoria a la clase  \n",
    "\n",
    "## El componente histórico y epistemológico  sobre la integral definida como él area bajo la curva de una función continua en un intervalo $[a,b]$  \n",
    "\n",
    "Aquí tienes algunos elementos históricos y epistemológicos relevantes para la clase sobre aplicaciones de la integral definida:\n",
    "\n",
    "1. **Orígenes del cálculo integral:** El cálculo integral tiene sus raíces en el trabajo de matemáticos antiguos como Arquímedes, quien desarrolló métodos para calcular áreas y volúmenes mediante la aproximación de figuras con polígonos. Sin embargo, el formalismo moderno del cálculo integral se desarrolló principalmente en el siglo XVII, con contribuciones clave de matemáticos como Isaac Newton y Gottfried Wilhelm Leibniz.\n",
    "\n",
    "2. **Desarrollo del concepto de área bajo una curva:** Durante el Renacimiento y la Era de la Ilustración, los matemáticos comenzaron a investigar el área bajo una curva como un problema matemático fundamental. Este trabajo culminó en la formulación del teorema fundamental del cálculo, que establece la relación entre la integral definida y la derivada de una función.\n",
    "\n",
    "3. **Aplicaciones en la física y la ingeniería:** El cálculo integral ha demostrado ser una herramienta poderosa en la resolución de problemas en física y ingeniería. Desde el cálculo de áreas y volúmenes hasta la determinación de centros de masa y momentos de inercia, las aplicaciones prácticas del cálculo integral son numerosas y diversas.\n",
    "\n",
    "4. **Avances en la teoría matemática:** A lo largo de los siglos XIX y XX, el cálculo integral experimentó un desarrollo significativo con la formulación de nuevas teorías y métodos. La teoría de la medida y la integración de Lebesgue, por ejemplo, extendió el alcance del cálculo integral y proporcionó una base más sólida para el análisis matemático moderno.\n",
    "\n",
    "5. **Epistemología del cálculo integral:** La comprensión del cálculo integral implica la apreciación de conceptos fundamentales como límites, infinitesimales y la relación entre cambio y acumulación. Estos conceptos tienen implicaciones filosóficas profundas en nuestra comprensión de la naturaleza del cambio y la continuidad en el mundo físico y matemático.\n"
   ]
  },
  {
   "cell_type": "markdown",
   "metadata": {},
   "source": [
    "\n",
    "Al explorar estos elementos históricos y epistemológicos, los estudiantes pueden adquirir una comprensión más profunda y contextualizada de las aplicaciones de la integral definida y su importancia en diversos campos del conocimiento.\n",
    "\n"
   ]
  },
  {
   "cell_type": "markdown",
   "metadata": {},
   "source": [
    "## Agenda de la clase\n",
    "\n",
    "1. Recorderis de las cuatro fórmulas de integración indefinida que hemos considerado necesarias para aplicaciones a la ingeniería agropecuaria. \n",
    "2. Clasificación de los triangulos y determinación del área de ellos.\n",
    "3. Clasificación de los cuadriláteros y determinación del área de ellos.\n",
    "4. Determinación de áreas de regiones no poligonales utilizando Integración definida. \n",
    "5. Estimar el área del Campus Caucasia de la Universidad de Antioquia "
   ]
  },
  {
   "cell_type": "markdown",
   "metadata": {},
   "source": [
    "# Clasificación de los triángulos y área de ellos"
   ]
  },
  {
   "cell_type": "code",
   "execution_count": 3,
   "metadata": {},
   "outputs": [
    {
     "data": {
      "text/plain": [
       "'/home/marco/Documentos/docencia/calculo/images/4_integral/2_aplicaciones_integral_definida/2_areas/Clasificación de los triángulos.pdf'"
      ]
     },
     "execution_count": 3,
     "metadata": {},
     "output_type": "execute_result"
    },
    {
     "name": "stderr",
     "output_type": "stream",
     "text": [
      "/snap/core20/current/lib/x86_64-linux-gnu/libstdc++.so.6: version `GLIBCXX_3.4.29' not found (required by /lib/x86_64-linux-gnu/libproxy.so.1)\n",
      "Failed to load module: /home/marco/snap/code/common/.cache/gio-modules/libgiolibproxy.so\n",
      "\n",
      "(process:12096): Gtk-WARNING **: 16:53:30.707: Locale not supported by C library.\n",
      "\tUsing the fallback 'C' locale.\n",
      "/home/marco/snap/code/common/.cache/gio-modules/libgiolibproxy.so: cannot open shared object file: Permission denied\n",
      "Failed to load module: /home/marco/snap/code/common/.cache/gio-modules/libgiolibproxy.so\n",
      "\n",
      "(evince:12096): Gtk-WARNING **: 16:53:30.779: Theme parsing error: gtk-keys.css:1:0: Failed to import: Error opening file /snap/code/156/usr/share/themes/Default/gtk-3.0/gtk-keys.css: Permission denied\n",
      "Gtk-Message: 16:53:30.780: Failed to load module \"canberra-gtk-module\"\n",
      "Gtk-Message: 16:53:30.782: Failed to load module \"canberra-gtk-module\"\n",
      "/home/marco/snap/code/common/.cache/gio-modules/libdconfsettings.so: cannot open shared object file: Permission denied\n",
      "Failed to load module: /home/marco/snap/code/common/.cache/gio-modules/libdconfsettings.so\n",
      "\n",
      "(evince:12096): Gtk-WARNING **: 16:53:31.010: Could not load a pixbuf from icon theme.\n",
      "This may indicate that pixbuf loaders or the mime database could not be found.\n"
     ]
    }
   ],
   "source": [
    "from graphviz import Digraph\n",
    "\n",
    "# Crear un nuevo grafo dirigido\n",
    "dot = Digraph()\n",
    "\n",
    "# Añadir nodos y relaciones al grafo\n",
    "main_concept = 'Clasificación de los triángulos'\n",
    "dot.node('A', main_concept)\n",
    "dot.node('B', 'Criterio de la medida de los ángulos')\n",
    "dot.node('C', 'Criterio de la medida de los lados')\n",
    "dot.node('D', '')\n",
    "dot.node('E', '')\n",
    "dot.node('F', '')\n",
    "dot.node('G', '')\n",
    "dot.node('H', '')\n",
    "dot.node('I', '')\n",
    "dot.node('J', '')\n",
    "\n",
    "dot.edges(['AB'])\n",
    "dot.edges(['AC'])\n",
    "dot.edges(['CD'])\n",
    "dot.edges(['DJ'])\n",
    "dot.edges(['EF'])\n",
    "dot.edges(['FG'])\n",
    "dot.edges(['GH'])\n",
    "dot.edges(['HI'])\n",
    "dot.edges(['IJ'])\n",
    "\n",
    "# Guardar el grafo como un archivo de imagen\n",
    "dot.render(filename=main_concept, format='png', cleanup=True, \\\n",
    "           directory='/home/marco/Documentos/docencia/calculo/images/4_integral/2_aplicaciones_integral_definida/2_areas')\n",
    "\n",
    "dot.view()\n"
   ]
  },
  {
   "cell_type": "markdown",
   "metadata": {},
   "source": [
    "# Fórmulas de integración\n",
    "\n",
    "1. La regla de la potencia: $$ \\int x^{n} = \\frac{x^{n+1}}{n+1}  + C$$\n",
    "2. La integral de una constante: $$ \\int k \\ dx = kx + C $$\n",
    "3. La integral de un múltiplo constante de una función $f$\n",
    "   $$\\int kf \\ dx = k \\inf f(x) \\ dx$$  \n",
    "4. La integral de una suma de funciones::\n",
    "\n",
    "$$ \\int f + g = \\int f + \\in g $$\n",
    "\n",
    " "
   ]
  },
  {
   "cell_type": "markdown",
   "metadata": {},
   "source": [
    "# Dificultades de aprendizaje encontradas\n",
    "\n",
    "1. El cuadrado de una décima es una centésima: Problemas para calcular el cuadrado de un decimal. \n",
    "2. El cuadrado de un cociente es el cociente de los cuadrados. \n",
    "3. Alinear los iguales. \n",
    "4. Dificultad de aplicación del teorema fundamental del cálculo. \n",
    "5. Elevar al cuadrado no es multiplicar por 2 \n",
    "\n"
   ]
  },
  {
   "cell_type": "markdown",
   "metadata": {},
   "source": [
    "# Secuencia de clase  \n",
    "\n",
    "1. Clasificación de triángulos y determinación de áreas de ellos.   \n",
    "   [Video sólo para triángulos]()\n",
    "2. Clasificación de cuadriláteros y determinación del área de ellos.   \n",
    "   [Video sólo para cuadriláteros]()\n",
    "3. Áres de regiones no triangulares y no cuadrangulares.   \n",
    "   [Un video que valla al grano]()"
   ]
  },
  {
   "cell_type": "code",
   "execution_count": null,
   "metadata": {},
   "outputs": [],
   "source": []
  },
  {
   "cell_type": "markdown",
   "metadata": {},
   "source": [
    "# Áreas de regiones no triangulares y no cuadrangulares utilizando integración definida\n"
   ]
  },
  {
   "cell_type": "markdown",
   "metadata": {},
   "source": [
    "Purcell página 280.  \n",
    "\n",
    "En los problemas del 1 al 10 utilice el procedimiento de tres pasos (rebanar, aproximar, integrar) para configurar y evaluar una integral (o integrales) para el área de la región que se indica.  \n",
    "\n",
    "\n"
   ]
  },
  {
   "cell_type": "code",
   "execution_count": null,
   "metadata": {},
   "outputs": [],
   "source": []
  },
  {
   "cell_type": "code",
   "execution_count": null,
   "metadata": {},
   "outputs": [],
   "source": []
  },
  {
   "cell_type": "code",
   "execution_count": null,
   "metadata": {},
   "outputs": [],
   "source": []
  },
  {
   "cell_type": "code",
   "execution_count": null,
   "metadata": {},
   "outputs": [],
   "source": []
  },
  {
   "cell_type": "markdown",
   "metadata": {},
   "source": [
    "# Asignación para el trabajo con decimales "
   ]
  },
  {
   "cell_type": "code",
   "execution_count": null,
   "metadata": {},
   "outputs": [],
   "source": [
    "# asignación de tres ejercicio del taller para quiz\n",
    "\n",
    "import pandas as pd\n",
    "import numpy as np\n",
    "import random\n",
    "import requests\n",
    "np.random.seed(42)\n",
    "# Descargar la lista de  estudiantes y ejercicios\n",
    "students_url = \"https://raw.githubusercontent.com/marco-canas/groups_list/main/fund_math.csv\"\n",
    "exercises = list(range(1, 135))  # Lista de ejercicios del 1 al 83\n",
    "\n",
    "# Cargar la lista de estudiantes\n",
    "students_data = pd.read_csv(students_url)\n",
    "\n",
    "# Crear una lista para almacenar las asignaciones\n",
    "assignments = []\n",
    "\n",
    "# Asignar ejercicios aleatorios a cada estudiante\n",
    "for index, student in students_data.iterrows():\n",
    "    random_exercises = random.sample(exercises, 20)  # Seleccionar 5 ejercicios aleatorios sin repetición\n",
    "    assignments.append([students_data[\"Nombre\"][index], *random_exercises])  # Agregar asignación a la lista\n",
    "\n",
    "# Crear un DataFrame con las asignaciones\n",
    "columns = [\"Student\", \"Exer1\", \"Exer2\", \"Exer3\",\"Exer4\", \"Exer5\", \\\n",
    "           \"Exercise 6\", \"Exercise 7\", \"Exercise 8\", \"Exercise 9\", \"exercise 10\", \\\n",
    "           \"Exer11\", \"Exer12\", \"Exer13\",\"Exer14\", \"Exer15\", \\\n",
    "           \"Exer16\", \"Exer17\", \"Exer18\", \"Exer19\", \"exer20\"\n",
    "            ]\n",
    "assignment_df = pd.DataFrame(assignments, columns=columns)\n",
    "\n",
    "# Guardar el DataFrame en un archivo CSV\n",
    "assignment_csv = \"tarea_seccion_1_3:precalculo_stewart_pagina_32.csv\"\n",
    "assignment_df.to_csv(assignment_csv, index=False)\n",
    "\n",
    "print(\"Asignaciones guardadas en\", assignment_csv)\n",
    "assignment_df"
   ]
  },
  {
   "cell_type": "markdown",
   "metadata": {},
   "source": [
    "¡Por supuesto! Aquí tienes diez ejercicios sobre operaciones con números decimales:\n",
    "\n",
    "**Ejercicio 1: Suma de números decimales**\n",
    "$3.45 + 2.67 = ?$\n",
    "\n",
    "**Ejercicio 2: Resta de números decimales**\n",
    "\\[ 8.92 - 4.76 = ? \\]\n",
    "\n",
    "**Ejercicio 3: Multiplicación de números decimales**\n",
    "\\[ 2.3 \\times 1.5 = ? \\]\n",
    "\n",
    "**Ejercicio 4: División de números decimales**\n",
    "\\[ \\frac{6.75}{2.5} = ? \\]\n",
    "\n",
    "**Ejercicio 5: Suma y resta de números decimales**\n",
    "\\[ (5.4 + 3.2) - 2.1 = ? \\]\n",
    "\n",
    "**Ejercicio 6: Multiplicación y suma de números decimales**\n",
    "\\[ 1.8 \\times 2 + 4.6 = ? \\]\n",
    "\n",
    "**Ejercicio 7: Resta y multiplicación de números decimales**\n",
    "\\[ (7.3 - 2.1) \\times 3 = ? \\]\n",
    "\n",
    "**Ejercicio 8: División y resta de números decimales**\n",
    "\\[ (9.6 \\div 2) - 1.3 = ? \\]\n",
    "\n",
    "**Ejercicio 9: Suma, resta y multiplicación de números decimales**\n",
    "\\[ (6.7 + 2.4) - 3.1 \\times 2 = ? \\]\n",
    "\n",
    "**Ejercicio 10: Operaciones mixtas con números decimales**\n",
    "\\[ (4.2 \\times 2) + (9.3 - 1.8) = ? \\]\n",
    "\n",
    "Recuerda seguir las reglas básicas de las operaciones matemáticas al resolver estos ejercicios. ¡Buena suerte!"
   ]
  },
  {
   "cell_type": "markdown",
   "metadata": {},
   "source": [
    "# Asignación para la sección 1.2 del precaĺculo de stewart sobre potenciación y radicación. "
   ]
  },
  {
   "cell_type": "code",
   "execution_count": 4,
   "metadata": {},
   "outputs": [
    {
     "name": "stdout",
     "output_type": "stream",
     "text": [
      "Asignaciones guardadas en tarea_seccion_1_2:precalculo_stewart_pagina_21.csv\n"
     ]
    },
    {
     "data": {
      "text/html": [
       "<div>\n",
       "<style scoped>\n",
       "    .dataframe tbody tr th:only-of-type {\n",
       "        vertical-align: middle;\n",
       "    }\n",
       "\n",
       "    .dataframe tbody tr th {\n",
       "        vertical-align: top;\n",
       "    }\n",
       "\n",
       "    .dataframe thead th {\n",
       "        text-align: right;\n",
       "    }\n",
       "</style>\n",
       "<table border=\"1\" class=\"dataframe\">\n",
       "  <thead>\n",
       "    <tr style=\"text-align: right;\">\n",
       "      <th></th>\n",
       "      <th>Student</th>\n",
       "      <th>Exer1</th>\n",
       "      <th>Exer2</th>\n",
       "      <th>Exer3</th>\n",
       "      <th>Exer4</th>\n",
       "      <th>Exer5</th>\n",
       "      <th>Exercise 6</th>\n",
       "      <th>Exercise 7</th>\n",
       "      <th>Exercise 8</th>\n",
       "      <th>Exercise 9</th>\n",
       "      <th>...</th>\n",
       "      <th>Exer11</th>\n",
       "      <th>Exer12</th>\n",
       "      <th>Exer13</th>\n",
       "      <th>Exer14</th>\n",
       "      <th>Exer15</th>\n",
       "      <th>Exer16</th>\n",
       "      <th>Exer17</th>\n",
       "      <th>Exer18</th>\n",
       "      <th>Exer19</th>\n",
       "      <th>exer20</th>\n",
       "    </tr>\n",
       "  </thead>\n",
       "  <tbody>\n",
       "    <tr>\n",
       "      <th>0</th>\n",
       "      <td>leonardo</td>\n",
       "      <td>64</td>\n",
       "      <td>38</td>\n",
       "      <td>58</td>\n",
       "      <td>30</td>\n",
       "      <td>20</td>\n",
       "      <td>39</td>\n",
       "      <td>104</td>\n",
       "      <td>18</td>\n",
       "      <td>45</td>\n",
       "      <td>...</td>\n",
       "      <td>51</td>\n",
       "      <td>28</td>\n",
       "      <td>21</td>\n",
       "      <td>35</td>\n",
       "      <td>82</td>\n",
       "      <td>53</td>\n",
       "      <td>105</td>\n",
       "      <td>94</td>\n",
       "      <td>17</td>\n",
       "      <td>70</td>\n",
       "    </tr>\n",
       "    <tr>\n",
       "      <th>1</th>\n",
       "      <td>Duvan trejo</td>\n",
       "      <td>90</td>\n",
       "      <td>1</td>\n",
       "      <td>8</td>\n",
       "      <td>93</td>\n",
       "      <td>6</td>\n",
       "      <td>59</td>\n",
       "      <td>96</td>\n",
       "      <td>50</td>\n",
       "      <td>48</td>\n",
       "      <td>...</td>\n",
       "      <td>67</td>\n",
       "      <td>45</td>\n",
       "      <td>15</td>\n",
       "      <td>84</td>\n",
       "      <td>102</td>\n",
       "      <td>26</td>\n",
       "      <td>33</td>\n",
       "      <td>39</td>\n",
       "      <td>79</td>\n",
       "      <td>71</td>\n",
       "    </tr>\n",
       "    <tr>\n",
       "      <th>2</th>\n",
       "      <td>angel</td>\n",
       "      <td>43</td>\n",
       "      <td>82</td>\n",
       "      <td>66</td>\n",
       "      <td>29</td>\n",
       "      <td>8</td>\n",
       "      <td>71</td>\n",
       "      <td>102</td>\n",
       "      <td>51</td>\n",
       "      <td>104</td>\n",
       "      <td>...</td>\n",
       "      <td>76</td>\n",
       "      <td>19</td>\n",
       "      <td>26</td>\n",
       "      <td>40</td>\n",
       "      <td>72</td>\n",
       "      <td>17</td>\n",
       "      <td>13</td>\n",
       "      <td>84</td>\n",
       "      <td>31</td>\n",
       "      <td>68</td>\n",
       "    </tr>\n",
       "    <tr>\n",
       "      <th>3</th>\n",
       "      <td>camila</td>\n",
       "      <td>24</td>\n",
       "      <td>29</td>\n",
       "      <td>62</td>\n",
       "      <td>90</td>\n",
       "      <td>67</td>\n",
       "      <td>74</td>\n",
       "      <td>65</td>\n",
       "      <td>59</td>\n",
       "      <td>105</td>\n",
       "      <td>...</td>\n",
       "      <td>54</td>\n",
       "      <td>39</td>\n",
       "      <td>98</td>\n",
       "      <td>64</td>\n",
       "      <td>76</td>\n",
       "      <td>51</td>\n",
       "      <td>5</td>\n",
       "      <td>70</td>\n",
       "      <td>42</td>\n",
       "      <td>6</td>\n",
       "    </tr>\n",
       "    <tr>\n",
       "      <th>4</th>\n",
       "      <td>luis fernando</td>\n",
       "      <td>79</td>\n",
       "      <td>81</td>\n",
       "      <td>21</td>\n",
       "      <td>101</td>\n",
       "      <td>70</td>\n",
       "      <td>105</td>\n",
       "      <td>19</td>\n",
       "      <td>85</td>\n",
       "      <td>63</td>\n",
       "      <td>...</td>\n",
       "      <td>53</td>\n",
       "      <td>67</td>\n",
       "      <td>26</td>\n",
       "      <td>54</td>\n",
       "      <td>69</td>\n",
       "      <td>11</td>\n",
       "      <td>49</td>\n",
       "      <td>64</td>\n",
       "      <td>33</td>\n",
       "      <td>10</td>\n",
       "    </tr>\n",
       "    <tr>\n",
       "      <th>5</th>\n",
       "      <td>mariana</td>\n",
       "      <td>24</td>\n",
       "      <td>22</td>\n",
       "      <td>87</td>\n",
       "      <td>89</td>\n",
       "      <td>4</td>\n",
       "      <td>96</td>\n",
       "      <td>38</td>\n",
       "      <td>50</td>\n",
       "      <td>93</td>\n",
       "      <td>...</td>\n",
       "      <td>30</td>\n",
       "      <td>45</td>\n",
       "      <td>104</td>\n",
       "      <td>84</td>\n",
       "      <td>83</td>\n",
       "      <td>13</td>\n",
       "      <td>72</td>\n",
       "      <td>43</td>\n",
       "      <td>37</td>\n",
       "      <td>71</td>\n",
       "    </tr>\n",
       "    <tr>\n",
       "      <th>6</th>\n",
       "      <td>oscar david</td>\n",
       "      <td>17</td>\n",
       "      <td>34</td>\n",
       "      <td>18</td>\n",
       "      <td>80</td>\n",
       "      <td>93</td>\n",
       "      <td>51</td>\n",
       "      <td>84</td>\n",
       "      <td>81</td>\n",
       "      <td>25</td>\n",
       "      <td>...</td>\n",
       "      <td>95</td>\n",
       "      <td>9</td>\n",
       "      <td>89</td>\n",
       "      <td>47</td>\n",
       "      <td>98</td>\n",
       "      <td>74</td>\n",
       "      <td>88</td>\n",
       "      <td>70</td>\n",
       "      <td>37</td>\n",
       "      <td>41</td>\n",
       "    </tr>\n",
       "    <tr>\n",
       "      <th>7</th>\n",
       "      <td>duvan salgado</td>\n",
       "      <td>30</td>\n",
       "      <td>80</td>\n",
       "      <td>39</td>\n",
       "      <td>83</td>\n",
       "      <td>28</td>\n",
       "      <td>8</td>\n",
       "      <td>26</td>\n",
       "      <td>78</td>\n",
       "      <td>70</td>\n",
       "      <td>...</td>\n",
       "      <td>86</td>\n",
       "      <td>24</td>\n",
       "      <td>45</td>\n",
       "      <td>13</td>\n",
       "      <td>34</td>\n",
       "      <td>35</td>\n",
       "      <td>95</td>\n",
       "      <td>69</td>\n",
       "      <td>53</td>\n",
       "      <td>20</td>\n",
       "    </tr>\n",
       "  </tbody>\n",
       "</table>\n",
       "<p>8 rows × 21 columns</p>\n",
       "</div>"
      ],
      "text/plain": [
       "         Student  Exer1  Exer2  Exer3  Exer4  Exer5  Exercise 6  Exercise 7  \\\n",
       "0       leonardo     64     38     58     30     20          39         104   \n",
       "1    Duvan trejo     90      1      8     93      6          59          96   \n",
       "2          angel     43     82     66     29      8          71         102   \n",
       "3         camila     24     29     62     90     67          74          65   \n",
       "4  luis fernando     79     81     21    101     70         105          19   \n",
       "5        mariana     24     22     87     89      4          96          38   \n",
       "6    oscar david     17     34     18     80     93          51          84   \n",
       "7  duvan salgado     30     80     39     83     28           8          26   \n",
       "\n",
       "   Exercise 8  Exercise 9  ...  Exer11  Exer12  Exer13  Exer14  Exer15  \\\n",
       "0          18          45  ...      51      28      21      35      82   \n",
       "1          50          48  ...      67      45      15      84     102   \n",
       "2          51         104  ...      76      19      26      40      72   \n",
       "3          59         105  ...      54      39      98      64      76   \n",
       "4          85          63  ...      53      67      26      54      69   \n",
       "5          50          93  ...      30      45     104      84      83   \n",
       "6          81          25  ...      95       9      89      47      98   \n",
       "7          78          70  ...      86      24      45      13      34   \n",
       "\n",
       "   Exer16  Exer17  Exer18  Exer19  exer20  \n",
       "0      53     105      94      17      70  \n",
       "1      26      33      39      79      71  \n",
       "2      17      13      84      31      68  \n",
       "3      51       5      70      42       6  \n",
       "4      11      49      64      33      10  \n",
       "5      13      72      43      37      71  \n",
       "6      74      88      70      37      41  \n",
       "7      35      95      69      53      20  \n",
       "\n",
       "[8 rows x 21 columns]"
      ]
     },
     "execution_count": 4,
     "metadata": {},
     "output_type": "execute_result"
    }
   ],
   "source": [
    "# asignación de tres ejercicio del taller para quiz\n",
    "\n",
    "import pandas as pd\n",
    "import numpy as np\n",
    "import random\n",
    "import requests\n",
    "np.random.seed(42)\n",
    "# Descargar la lista de  estudiantes y ejercicios\n",
    "students_url = \"https://raw.githubusercontent.com/marco-canas/groups_list/main/calculo_integral.csv\"\n",
    "exercises = list(range(1, 106))  # Lista de ejercicios del 1 al 83\n",
    "\n",
    "# Cargar la lista de estudiantes\n",
    "students_data = pd.read_csv(students_url)\n",
    "\n",
    "# Crear una lista para almacenar las asignaciones\n",
    "assignments = []\n",
    "\n",
    "# Asignar ejercicios aleatorios a cada estudiante\n",
    "for index, student in students_data.iterrows():\n",
    "    random_exercises = random.sample(exercises, 20)  # Seleccionar 5 ejercicios aleatorios sin repetición\n",
    "    assignments.append([students_data[\"Nombre\"][index], *random_exercises])  # Agregar asignación a la lista\n",
    "\n",
    "# Crear un DataFrame con las asignaciones\n",
    "columns = [\"Student\", \"Exer1\", \"Exer2\", \"Exer3\",\"Exer4\", \"Exer5\", \\\n",
    "           \"Exercise 6\", \"Exercise 7\", \"Exercise 8\", \"Exercise 9\", \"exercise 10\", \\\n",
    "           \"Exer11\", \"Exer12\", \"Exer13\",\"Exer14\", \"Exer15\", \\\n",
    "           \"Exer16\", \"Exer17\", \"Exer18\", \"Exer19\", \"exer20\"\n",
    "            ]\n",
    "assignment_df = pd.DataFrame(assignments, columns=columns)\n",
    "\n",
    "# Guardar el DataFrame en un archivo CSV\n",
    "assignment_csv = \"tarea_seccion_1_2:precalculo_stewart_pagina_21.csv\"\n",
    "assignment_df.to_csv(assignment_csv, index=False)\n",
    "\n",
    "print(\"Asignaciones guardadas en\", assignment_csv)\n",
    "assignment_df"
   ]
  },
  {
   "cell_type": "markdown",
   "metadata": {},
   "source": [
    "# El teorema fundamental del cálculo\n",
    "\n"
   ]
  },
  {
   "cell_type": "code",
   "execution_count": 5,
   "metadata": {},
   "outputs": [
    {
     "name": "stdout",
     "output_type": "stream",
     "text": [
      "Asignaciones guardadas en tarea_seccion_4.4:purcell_pagina_243.csv\n"
     ]
    },
    {
     "data": {
      "text/html": [
       "<div>\n",
       "<style scoped>\n",
       "    .dataframe tbody tr th:only-of-type {\n",
       "        vertical-align: middle;\n",
       "    }\n",
       "\n",
       "    .dataframe tbody tr th {\n",
       "        vertical-align: top;\n",
       "    }\n",
       "\n",
       "    .dataframe thead th {\n",
       "        text-align: right;\n",
       "    }\n",
       "</style>\n",
       "<table border=\"1\" class=\"dataframe\">\n",
       "  <thead>\n",
       "    <tr style=\"text-align: right;\">\n",
       "      <th></th>\n",
       "      <th>Student</th>\n",
       "      <th>Exer1</th>\n",
       "      <th>Exer2</th>\n",
       "      <th>Exer3</th>\n",
       "      <th>Exer4</th>\n",
       "      <th>Exer5</th>\n",
       "      <th>Exercise 6</th>\n",
       "      <th>Exercise 7</th>\n",
       "      <th>Exercise 8</th>\n",
       "      <th>Exercise 9</th>\n",
       "      <th>...</th>\n",
       "      <th>Exer11</th>\n",
       "      <th>Exer12</th>\n",
       "      <th>Exer13</th>\n",
       "      <th>Exer14</th>\n",
       "      <th>Exer15</th>\n",
       "      <th>Exer16</th>\n",
       "      <th>Exer17</th>\n",
       "      <th>Exer18</th>\n",
       "      <th>Exer19</th>\n",
       "      <th>exer20</th>\n",
       "    </tr>\n",
       "  </thead>\n",
       "  <tbody>\n",
       "    <tr>\n",
       "      <th>0</th>\n",
       "      <td>leonardo</td>\n",
       "      <td>16</td>\n",
       "      <td>21</td>\n",
       "      <td>37</td>\n",
       "      <td>20</td>\n",
       "      <td>62</td>\n",
       "      <td>35</td>\n",
       "      <td>53</td>\n",
       "      <td>15</td>\n",
       "      <td>52</td>\n",
       "      <td>...</td>\n",
       "      <td>71</td>\n",
       "      <td>40</td>\n",
       "      <td>19</td>\n",
       "      <td>1</td>\n",
       "      <td>42</td>\n",
       "      <td>68</td>\n",
       "      <td>5</td>\n",
       "      <td>43</td>\n",
       "      <td>50</td>\n",
       "      <td>4</td>\n",
       "    </tr>\n",
       "    <tr>\n",
       "      <th>1</th>\n",
       "      <td>Duvan trejo</td>\n",
       "      <td>28</td>\n",
       "      <td>47</td>\n",
       "      <td>19</td>\n",
       "      <td>9</td>\n",
       "      <td>17</td>\n",
       "      <td>42</td>\n",
       "      <td>74</td>\n",
       "      <td>75</td>\n",
       "      <td>13</td>\n",
       "      <td>...</td>\n",
       "      <td>59</td>\n",
       "      <td>7</td>\n",
       "      <td>44</td>\n",
       "      <td>18</td>\n",
       "      <td>55</td>\n",
       "      <td>15</td>\n",
       "      <td>26</td>\n",
       "      <td>6</td>\n",
       "      <td>48</td>\n",
       "      <td>24</td>\n",
       "    </tr>\n",
       "    <tr>\n",
       "      <th>2</th>\n",
       "      <td>angel</td>\n",
       "      <td>65</td>\n",
       "      <td>14</td>\n",
       "      <td>6</td>\n",
       "      <td>8</td>\n",
       "      <td>23</td>\n",
       "      <td>19</td>\n",
       "      <td>52</td>\n",
       "      <td>16</td>\n",
       "      <td>69</td>\n",
       "      <td>...</td>\n",
       "      <td>22</td>\n",
       "      <td>36</td>\n",
       "      <td>53</td>\n",
       "      <td>41</td>\n",
       "      <td>30</td>\n",
       "      <td>31</td>\n",
       "      <td>48</td>\n",
       "      <td>64</td>\n",
       "      <td>46</td>\n",
       "      <td>29</td>\n",
       "    </tr>\n",
       "    <tr>\n",
       "      <th>3</th>\n",
       "      <td>camila</td>\n",
       "      <td>50</td>\n",
       "      <td>46</td>\n",
       "      <td>9</td>\n",
       "      <td>31</td>\n",
       "      <td>72</td>\n",
       "      <td>11</td>\n",
       "      <td>47</td>\n",
       "      <td>59</td>\n",
       "      <td>63</td>\n",
       "      <td>...</td>\n",
       "      <td>32</td>\n",
       "      <td>16</td>\n",
       "      <td>73</td>\n",
       "      <td>77</td>\n",
       "      <td>75</td>\n",
       "      <td>69</td>\n",
       "      <td>35</td>\n",
       "      <td>23</td>\n",
       "      <td>71</td>\n",
       "      <td>13</td>\n",
       "    </tr>\n",
       "    <tr>\n",
       "      <th>4</th>\n",
       "      <td>luis fernando</td>\n",
       "      <td>26</td>\n",
       "      <td>8</td>\n",
       "      <td>58</td>\n",
       "      <td>49</td>\n",
       "      <td>10</td>\n",
       "      <td>1</td>\n",
       "      <td>69</td>\n",
       "      <td>13</td>\n",
       "      <td>59</td>\n",
       "      <td>...</td>\n",
       "      <td>39</td>\n",
       "      <td>30</td>\n",
       "      <td>61</td>\n",
       "      <td>45</td>\n",
       "      <td>43</td>\n",
       "      <td>25</td>\n",
       "      <td>63</td>\n",
       "      <td>68</td>\n",
       "      <td>5</td>\n",
       "      <td>20</td>\n",
       "    </tr>\n",
       "    <tr>\n",
       "      <th>5</th>\n",
       "      <td>mariana</td>\n",
       "      <td>30</td>\n",
       "      <td>3</td>\n",
       "      <td>42</td>\n",
       "      <td>69</td>\n",
       "      <td>14</td>\n",
       "      <td>58</td>\n",
       "      <td>45</td>\n",
       "      <td>31</td>\n",
       "      <td>53</td>\n",
       "      <td>...</td>\n",
       "      <td>33</td>\n",
       "      <td>72</td>\n",
       "      <td>40</td>\n",
       "      <td>64</td>\n",
       "      <td>5</td>\n",
       "      <td>50</td>\n",
       "      <td>26</td>\n",
       "      <td>74</td>\n",
       "      <td>77</td>\n",
       "      <td>67</td>\n",
       "    </tr>\n",
       "    <tr>\n",
       "      <th>6</th>\n",
       "      <td>oscar david</td>\n",
       "      <td>38</td>\n",
       "      <td>14</td>\n",
       "      <td>34</td>\n",
       "      <td>63</td>\n",
       "      <td>45</td>\n",
       "      <td>15</td>\n",
       "      <td>47</td>\n",
       "      <td>58</td>\n",
       "      <td>52</td>\n",
       "      <td>...</td>\n",
       "      <td>16</td>\n",
       "      <td>67</td>\n",
       "      <td>20</td>\n",
       "      <td>56</td>\n",
       "      <td>27</td>\n",
       "      <td>53</td>\n",
       "      <td>55</td>\n",
       "      <td>44</td>\n",
       "      <td>76</td>\n",
       "      <td>29</td>\n",
       "    </tr>\n",
       "    <tr>\n",
       "      <th>7</th>\n",
       "      <td>duvan salgado</td>\n",
       "      <td>66</td>\n",
       "      <td>6</td>\n",
       "      <td>25</td>\n",
       "      <td>64</td>\n",
       "      <td>14</td>\n",
       "      <td>65</td>\n",
       "      <td>43</td>\n",
       "      <td>9</td>\n",
       "      <td>38</td>\n",
       "      <td>...</td>\n",
       "      <td>36</td>\n",
       "      <td>60</td>\n",
       "      <td>2</td>\n",
       "      <td>73</td>\n",
       "      <td>5</td>\n",
       "      <td>22</td>\n",
       "      <td>17</td>\n",
       "      <td>26</td>\n",
       "      <td>71</td>\n",
       "      <td>47</td>\n",
       "    </tr>\n",
       "  </tbody>\n",
       "</table>\n",
       "<p>8 rows × 21 columns</p>\n",
       "</div>"
      ],
      "text/plain": [
       "         Student  Exer1  Exer2  Exer3  Exer4  Exer5  Exercise 6  Exercise 7  \\\n",
       "0       leonardo     16     21     37     20     62          35          53   \n",
       "1    Duvan trejo     28     47     19      9     17          42          74   \n",
       "2          angel     65     14      6      8     23          19          52   \n",
       "3         camila     50     46      9     31     72          11          47   \n",
       "4  luis fernando     26      8     58     49     10           1          69   \n",
       "5        mariana     30      3     42     69     14          58          45   \n",
       "6    oscar david     38     14     34     63     45          15          47   \n",
       "7  duvan salgado     66      6     25     64     14          65          43   \n",
       "\n",
       "   Exercise 8  Exercise 9  ...  Exer11  Exer12  Exer13  Exer14  Exer15  \\\n",
       "0          15          52  ...      71      40      19       1      42   \n",
       "1          75          13  ...      59       7      44      18      55   \n",
       "2          16          69  ...      22      36      53      41      30   \n",
       "3          59          63  ...      32      16      73      77      75   \n",
       "4          13          59  ...      39      30      61      45      43   \n",
       "5          31          53  ...      33      72      40      64       5   \n",
       "6          58          52  ...      16      67      20      56      27   \n",
       "7           9          38  ...      36      60       2      73       5   \n",
       "\n",
       "   Exer16  Exer17  Exer18  Exer19  exer20  \n",
       "0      68       5      43      50       4  \n",
       "1      15      26       6      48      24  \n",
       "2      31      48      64      46      29  \n",
       "3      69      35      23      71      13  \n",
       "4      25      63      68       5      20  \n",
       "5      50      26      74      77      67  \n",
       "6      53      55      44      76      29  \n",
       "7      22      17      26      71      47  \n",
       "\n",
       "[8 rows x 21 columns]"
      ]
     },
     "execution_count": 5,
     "metadata": {},
     "output_type": "execute_result"
    }
   ],
   "source": [
    "# asignación de tres ejercicio del taller para quiz\n",
    "\n",
    "import pandas as pd\n",
    "import numpy as np\n",
    "import random\n",
    "import requests\n",
    "np.random.seed(42)\n",
    "# Descargar la lista de  estudiantes y ejercicios\n",
    "students_url = \"https://raw.githubusercontent.com/marco-canas/groups_list/main/calculo_integral.csv\"\n",
    "exercises = list(range(1, 78))  # Lista de ejercicios del 1 al 83\n",
    "\n",
    "# Cargar la lista de estudiantes\n",
    "students_data = pd.read_csv(students_url)\n",
    "\n",
    "# Crear una lista para almacenar las asignaciones\n",
    "assignments = []\n",
    "\n",
    "# Asignar ejercicios aleatorios a cada estudiante\n",
    "for index, student in students_data.iterrows():\n",
    "    random_exercises = random.sample(exercises, 20)  # Seleccionar 5 ejercicios aleatorios sin repetición\n",
    "    assignments.append([students_data[\"Nombre\"][index], *random_exercises])  # Agregar asignación a la lista\n",
    "\n",
    "# Crear un DataFrame con las asignaciones\n",
    "columns = [\"Student\", \"Exer1\", \"Exer2\", \"Exer3\",\"Exer4\", \"Exer5\", \\\n",
    "           \"Exercise 6\", \"Exercise 7\", \"Exercise 8\", \"Exercise 9\", \"exercise 10\", \\\n",
    "           \"Exer11\", \"Exer12\", \"Exer13\",\"Exer14\", \"Exer15\", \\\n",
    "           \"Exer16\", \"Exer17\", \"Exer18\", \"Exer19\", \"exer20\"\n",
    "            ]\n",
    "assignment_df = pd.DataFrame(assignments, columns=columns)\n",
    "\n",
    "# Guardar el DataFrame en un archivo CSV\n",
    "assignment_csv = \"tarea_seccion_4.4:purcell_pagina_243.csv\"\n",
    "assignment_df.to_csv(assignment_csv, index=False)\n",
    "\n",
    "print(\"Asignaciones guardadas en\", assignment_csv)\n",
    "assignment_df"
   ]
  },
  {
   "cell_type": "code",
   "execution_count": 6,
   "metadata": {},
   "outputs": [
    {
     "data": {
      "text/plain": [
       "2.0"
      ]
     },
     "execution_count": 6,
     "metadata": {},
     "output_type": "execute_result"
    }
   ],
   "source": [
    "4**(1/2)"
   ]
  },
  {
   "cell_type": "code",
   "execution_count": null,
   "metadata": {},
   "outputs": [],
   "source": [
    "import numpy as np \n",
    "\n",
    "np.sqrt(4)\n"
   ]
  },
  {
   "cell_type": "code",
   "execution_count": 7,
   "metadata": {},
   "outputs": [
    {
     "data": {
      "text/plain": [
       "3.0"
      ]
     },
     "execution_count": 7,
     "metadata": {},
     "output_type": "execute_result"
    }
   ],
   "source": [
    "import math as m\n",
    "\n",
    "m.sqrt(9)"
   ]
  },
  {
   "cell_type": "code",
   "execution_count": 9,
   "metadata": {},
   "outputs": [],
   "source": [
    "from sympy import * \n",
    "z = var('z')"
   ]
  },
  {
   "cell_type": "code",
   "execution_count": 11,
   "metadata": {},
   "outputs": [
    {
     "ename": "_CoeffExpValueError",
     "evalue": "expr not of form a*x**b: 0.355028053887817",
     "output_type": "error",
     "traceback": [
      "\u001b[0;31m---------------------------------------------------------------------------\u001b[0m",
      "\u001b[0;31m_CoeffExpValueError\u001b[0m                       Traceback (most recent call last)",
      "\u001b[1;32m/home/marco/Documentos/docencia/calculo/classes/4_integration/4_aplicaciones_integral/1_areas_entre_curvas/1_areas_entre_curvas.ipynb Celda 20\u001b[0m line \u001b[0;36m1\n\u001b[0;32m----> <a href='vscode-notebook-cell:/home/marco/Documentos/docencia/calculo/classes/4_integration/4_aplicaciones_integral/1_areas_entre_curvas/1_areas_entre_curvas.ipynb#X40sZmlsZQ%3D%3D?line=0'>1</a>\u001b[0m integrate( z\u001b[39m*\u001b[39;49mcos((z\u001b[39m*\u001b[39;49m\u001b[39m*\u001b[39;49m\u001b[39m2\u001b[39;49m\u001b[39m+\u001b[39;49m\u001b[39m3\u001b[39;49m)\u001b[39m*\u001b[39;49m\u001b[39m*\u001b[39;49m(\u001b[39m1\u001b[39;49m\u001b[39m/\u001b[39;49m\u001b[39m3\u001b[39;49m))\u001b[39m/\u001b[39;49m((z\u001b[39m*\u001b[39;49m\u001b[39m*\u001b[39;49m\u001b[39m2\u001b[39;49m\u001b[39m+\u001b[39;49m\u001b[39m3\u001b[39;49m)\u001b[39m*\u001b[39;49m\u001b[39m*\u001b[39;49m(\u001b[39m1\u001b[39;49m\u001b[39m/\u001b[39;49m\u001b[39m3\u001b[39;49m))\u001b[39m*\u001b[39;49m\u001b[39m*\u001b[39;49m\u001b[39m2\u001b[39;49m, z)\n",
      "File \u001b[0;32m~/Documentos/docencia/calculo/.venv/lib/python3.10/site-packages/sympy/integrals/integrals.py:1567\u001b[0m, in \u001b[0;36mintegrate\u001b[0;34m(meijerg, conds, risch, heurisch, manual, *args, **kwargs)\u001b[0m\n\u001b[1;32m   1564\u001b[0m integral \u001b[39m=\u001b[39m Integral(\u001b[39m*\u001b[39margs, \u001b[39m*\u001b[39m\u001b[39m*\u001b[39mkwargs)\n\u001b[1;32m   1566\u001b[0m \u001b[39mif\u001b[39;00m \u001b[39misinstance\u001b[39m(integral, Integral):\n\u001b[0;32m-> 1567\u001b[0m     \u001b[39mreturn\u001b[39;00m integral\u001b[39m.\u001b[39;49mdoit(\u001b[39m*\u001b[39;49m\u001b[39m*\u001b[39;49mdoit_flags)\n\u001b[1;32m   1568\u001b[0m \u001b[39melse\u001b[39;00m:\n\u001b[1;32m   1569\u001b[0m     new_args \u001b[39m=\u001b[39m [a\u001b[39m.\u001b[39mdoit(\u001b[39m*\u001b[39m\u001b[39m*\u001b[39mdoit_flags) \u001b[39mif\u001b[39;00m \u001b[39misinstance\u001b[39m(a, Integral) \u001b[39melse\u001b[39;00m a\n\u001b[1;32m   1570\u001b[0m         \u001b[39mfor\u001b[39;00m a \u001b[39min\u001b[39;00m integral\u001b[39m.\u001b[39margs]\n",
      "File \u001b[0;32m~/Documentos/docencia/calculo/.venv/lib/python3.10/site-packages/sympy/integrals/integrals.py:612\u001b[0m, in \u001b[0;36mIntegral.doit\u001b[0;34m(self, **hints)\u001b[0m\n\u001b[1;32m    610\u001b[0m     antideriv \u001b[39m=\u001b[39m \u001b[39mNone\u001b[39;00m\n\u001b[1;32m    611\u001b[0m \u001b[39melse\u001b[39;00m:\n\u001b[0;32m--> 612\u001b[0m     antideriv \u001b[39m=\u001b[39m \u001b[39mself\u001b[39;49m\u001b[39m.\u001b[39;49m_eval_integral(\n\u001b[1;32m    613\u001b[0m         function, xab[\u001b[39m0\u001b[39;49m], \u001b[39m*\u001b[39;49m\u001b[39m*\u001b[39;49meval_kwargs)\n\u001b[1;32m    614\u001b[0m     \u001b[39mif\u001b[39;00m antideriv \u001b[39mis\u001b[39;00m \u001b[39mNone\u001b[39;00m \u001b[39mand\u001b[39;00m meijerg \u001b[39mis\u001b[39;00m \u001b[39mTrue\u001b[39;00m:\n\u001b[1;32m    615\u001b[0m         ret \u001b[39m=\u001b[39m try_meijerg(function, xab)\n",
      "File \u001b[0;32m~/Documentos/docencia/calculo/.venv/lib/python3.10/site-packages/sympy/integrals/integrals.py:1098\u001b[0m, in \u001b[0;36mIntegral._eval_integral\u001b[0;34m(self, f, x, meijerg, risch, manual, heurisch, conds, final)\u001b[0m\n\u001b[1;32m   1095\u001b[0m \u001b[39mif\u001b[39;00m meijerg \u001b[39mis\u001b[39;00m \u001b[39mnot\u001b[39;00m \u001b[39mFalse\u001b[39;00m \u001b[39mand\u001b[39;00m h \u001b[39mis\u001b[39;00m \u001b[39mNone\u001b[39;00m:\n\u001b[1;32m   1096\u001b[0m     \u001b[39m# rewrite using G functions\u001b[39;00m\n\u001b[1;32m   1097\u001b[0m     \u001b[39mtry\u001b[39;00m:\n\u001b[0;32m-> 1098\u001b[0m         h \u001b[39m=\u001b[39m meijerint_indefinite(g, x)\n\u001b[1;32m   1099\u001b[0m     \u001b[39mexcept\u001b[39;00m \u001b[39mNotImplementedError\u001b[39;00m:\n\u001b[1;32m   1100\u001b[0m         _debug(\u001b[39m'\u001b[39m\u001b[39mNotImplementedError from meijerint_definite\u001b[39m\u001b[39m'\u001b[39m)\n",
      "File \u001b[0;32m~/Documentos/docencia/calculo/.venv/lib/python3.10/site-packages/sympy/integrals/meijerint.py:1668\u001b[0m, in \u001b[0;36mmeijerint_indefinite\u001b[0;34m(f, x)\u001b[0m\n\u001b[1;32m   1666\u001b[0m results \u001b[39m=\u001b[39m []\n\u001b[1;32m   1667\u001b[0m \u001b[39mfor\u001b[39;00m a \u001b[39min\u001b[39;00m \u001b[39msorted\u001b[39m(_find_splitting_points(f, x) \u001b[39m|\u001b[39m {S\u001b[39m.\u001b[39mZero}, key\u001b[39m=\u001b[39mdefault_sort_key):\n\u001b[0;32m-> 1668\u001b[0m     res \u001b[39m=\u001b[39m _meijerint_indefinite_1(f\u001b[39m.\u001b[39;49msubs(x, x \u001b[39m+\u001b[39;49m a), x)\n\u001b[1;32m   1669\u001b[0m     \u001b[39mif\u001b[39;00m \u001b[39mnot\u001b[39;00m res:\n\u001b[1;32m   1670\u001b[0m         \u001b[39mcontinue\u001b[39;00m\n",
      "File \u001b[0;32m~/Documentos/docencia/calculo/.venv/lib/python3.10/site-packages/sympy/integrals/meijerint.py:1694\u001b[0m, in \u001b[0;36m_meijerint_indefinite_1\u001b[0;34m(f, x)\u001b[0m\n\u001b[1;32m   1691\u001b[0m _debug(\u001b[39m'\u001b[39m\u001b[39mTrying to compute the indefinite integral of\u001b[39m\u001b[39m'\u001b[39m, f, \u001b[39m'\u001b[39m\u001b[39mwrt\u001b[39m\u001b[39m'\u001b[39m, x)\n\u001b[1;32m   1692\u001b[0m \u001b[39mfrom\u001b[39;00m \u001b[39msympy\u001b[39;00m\u001b[39m.\u001b[39;00m\u001b[39msimplify\u001b[39;00m \u001b[39mimport\u001b[39;00m hyperexpand, powdenest\n\u001b[0;32m-> 1694\u001b[0m gs \u001b[39m=\u001b[39m _rewrite1(f, x)\n\u001b[1;32m   1695\u001b[0m \u001b[39mif\u001b[39;00m gs \u001b[39mis\u001b[39;00m \u001b[39mNone\u001b[39;00m:\n\u001b[1;32m   1696\u001b[0m     \u001b[39m# Note: the code that calls us will do expand() and try again\u001b[39;00m\n\u001b[1;32m   1697\u001b[0m     \u001b[39mreturn\u001b[39;00m \u001b[39mNone\u001b[39;00m\n",
      "File \u001b[0;32m~/Documentos/docencia/calculo/.venv/lib/python3.10/site-packages/sympy/integrals/meijerint.py:1618\u001b[0m, in \u001b[0;36m_rewrite1\u001b[0;34m(f, x, recursive)\u001b[0m\n\u001b[1;32m   1610\u001b[0m \u001b[39m\u001b[39m\u001b[39m\"\"\"\u001b[39;00m\n\u001b[1;32m   1611\u001b[0m \u001b[39mTry to rewrite ``f`` using a (sum of) single G functions with argument a*x**b.\u001b[39;00m\n\u001b[1;32m   1612\u001b[0m \u001b[39mReturn fac, po, g such that f = fac*po*g, fac is independent of ``x``.\u001b[39;00m\n\u001b[0;32m   (...)\u001b[0m\n\u001b[1;32m   1615\u001b[0m \u001b[39mReturn None on failure.\u001b[39;00m\n\u001b[1;32m   1616\u001b[0m \u001b[39m\"\"\"\u001b[39;00m\n\u001b[1;32m   1617\u001b[0m fac, po, g \u001b[39m=\u001b[39m _split_mul(f, x)\n\u001b[0;32m-> 1618\u001b[0m g \u001b[39m=\u001b[39m _rewrite_single(g, x, recursive)\n\u001b[1;32m   1619\u001b[0m \u001b[39mif\u001b[39;00m g:\n\u001b[1;32m   1620\u001b[0m     \u001b[39mreturn\u001b[39;00m fac, po, g[\u001b[39m0\u001b[39m], g[\u001b[39m1\u001b[39m]\n",
      "File \u001b[0;32m~/Documentos/docencia/calculo/.venv/lib/python3.10/site-packages/sympy/core/cache.py:72\u001b[0m, in \u001b[0;36m__cacheit.<locals>.func_wrapper.<locals>.wrapper\u001b[0;34m(*args, **kwargs)\u001b[0m\n\u001b[1;32m     69\u001b[0m \u001b[39m@wraps\u001b[39m(func)\n\u001b[1;32m     70\u001b[0m \u001b[39mdef\u001b[39;00m \u001b[39mwrapper\u001b[39m(\u001b[39m*\u001b[39margs, \u001b[39m*\u001b[39m\u001b[39m*\u001b[39mkwargs):\n\u001b[1;32m     71\u001b[0m     \u001b[39mtry\u001b[39;00m:\n\u001b[0;32m---> 72\u001b[0m         retval \u001b[39m=\u001b[39m cfunc(\u001b[39m*\u001b[39;49margs, \u001b[39m*\u001b[39;49m\u001b[39m*\u001b[39;49mkwargs)\n\u001b[1;32m     73\u001b[0m     \u001b[39mexcept\u001b[39;00m \u001b[39mTypeError\u001b[39;00m \u001b[39mas\u001b[39;00m e:\n\u001b[1;32m     74\u001b[0m         \u001b[39mif\u001b[39;00m \u001b[39mnot\u001b[39;00m e\u001b[39m.\u001b[39margs \u001b[39mor\u001b[39;00m \u001b[39mnot\u001b[39;00m e\u001b[39m.\u001b[39margs[\u001b[39m0\u001b[39m]\u001b[39m.\u001b[39mstartswith(\u001b[39m'\u001b[39m\u001b[39munhashable type:\u001b[39m\u001b[39m'\u001b[39m):\n",
      "File \u001b[0;32m~/Documentos/docencia/calculo/.venv/lib/python3.10/site-packages/sympy/integrals/meijerint.py:1572\u001b[0m, in \u001b[0;36m_rewrite_single\u001b[0;34m(f, x, recursive)\u001b[0m\n\u001b[1;32m   1570\u001b[0m     \u001b[39mreturn\u001b[39;00m Integral(f, (x, S\u001b[39m.\u001b[39mZero, S\u001b[39m.\u001b[39mInfinity))\n\u001b[1;32m   1571\u001b[0m \u001b[39mtry\u001b[39;00m:\n\u001b[0;32m-> 1572\u001b[0m     F, strip, _ \u001b[39m=\u001b[39m mellin_transform(f, x, s, integrator\u001b[39m=\u001b[39;49mmy_integrator,\n\u001b[1;32m   1573\u001b[0m                                    simplify\u001b[39m=\u001b[39;49m\u001b[39mFalse\u001b[39;49;00m, needeval\u001b[39m=\u001b[39;49m\u001b[39mTrue\u001b[39;49;00m)\n\u001b[1;32m   1574\u001b[0m     g \u001b[39m=\u001b[39m my_imt(F, s, x, strip)\n\u001b[1;32m   1575\u001b[0m \u001b[39mexcept\u001b[39;00m IntegralTransformError:\n",
      "File \u001b[0;32m~/Documentos/docencia/calculo/.venv/lib/python3.10/site-packages/sympy/integrals/transforms.py:405\u001b[0m, in \u001b[0;36mmellin_transform\u001b[0;34m(f, x, s, **hints)\u001b[0m\n\u001b[1;32m    364\u001b[0m \u001b[39mdef\u001b[39;00m \u001b[39mmellin_transform\u001b[39m(f, x, s, \u001b[39m*\u001b[39m\u001b[39m*\u001b[39mhints):\n\u001b[1;32m    365\u001b[0m \u001b[39m    \u001b[39m\u001b[39mr\u001b[39m\u001b[39m\"\"\"\u001b[39;00m\n\u001b[1;32m    366\u001b[0m \u001b[39m    Compute the Mellin transform `F(s)` of `f(x)`,\u001b[39;00m\n\u001b[1;32m    367\u001b[0m \n\u001b[0;32m   (...)\u001b[0m\n\u001b[1;32m    403\u001b[0m \u001b[39m    hankel_transform, inverse_hankel_transform\u001b[39;00m\n\u001b[1;32m    404\u001b[0m \u001b[39m    \"\"\"\u001b[39;00m\n\u001b[0;32m--> 405\u001b[0m     \u001b[39mreturn\u001b[39;00m MellinTransform(f, x, s)\u001b[39m.\u001b[39;49mdoit(\u001b[39m*\u001b[39;49m\u001b[39m*\u001b[39;49mhints)\n",
      "File \u001b[0;32m~/Documentos/docencia/calculo/.venv/lib/python3.10/site-packages/sympy/integrals/transforms.py:161\u001b[0m, in \u001b[0;36mIntegralTransform.doit\u001b[0;34m(self, **hints)\u001b[0m\n\u001b[1;32m    158\u001b[0m simplify \u001b[39m=\u001b[39m hints\u001b[39m.\u001b[39mpop(\u001b[39m'\u001b[39m\u001b[39msimplify\u001b[39m\u001b[39m'\u001b[39m, \u001b[39mTrue\u001b[39;00m)\n\u001b[1;32m    159\u001b[0m hints[\u001b[39m'\u001b[39m\u001b[39msimplify\u001b[39m\u001b[39m'\u001b[39m] \u001b[39m=\u001b[39m simplify\n\u001b[0;32m--> 161\u001b[0m fn, T \u001b[39m=\u001b[39m \u001b[39mself\u001b[39;49m\u001b[39m.\u001b[39;49m_try_directly(\u001b[39m*\u001b[39;49m\u001b[39m*\u001b[39;49mhints)\n\u001b[1;32m    163\u001b[0m \u001b[39mif\u001b[39;00m T \u001b[39mis\u001b[39;00m \u001b[39mnot\u001b[39;00m \u001b[39mNone\u001b[39;00m:\n\u001b[1;32m    164\u001b[0m     \u001b[39mreturn\u001b[39;00m T\n",
      "File \u001b[0;32m~/Documentos/docencia/calculo/.venv/lib/python3.10/site-packages/sympy/integrals/transforms.py:125\u001b[0m, in \u001b[0;36mIntegralTransform._try_directly\u001b[0;34m(self, **hints)\u001b[0m\n\u001b[1;32m    123\u001b[0m \u001b[39mif\u001b[39;00m try_directly:\n\u001b[1;32m    124\u001b[0m     \u001b[39mtry\u001b[39;00m:\n\u001b[0;32m--> 125\u001b[0m         T \u001b[39m=\u001b[39m \u001b[39mself\u001b[39;49m\u001b[39m.\u001b[39;49m_compute_transform(\u001b[39mself\u001b[39;49m\u001b[39m.\u001b[39;49mfunction,\n\u001b[1;32m    126\u001b[0m             \u001b[39mself\u001b[39;49m\u001b[39m.\u001b[39;49mfunction_variable, \u001b[39mself\u001b[39;49m\u001b[39m.\u001b[39;49mtransform_variable, \u001b[39m*\u001b[39;49m\u001b[39m*\u001b[39;49mhints)\n\u001b[1;32m    127\u001b[0m     \u001b[39mexcept\u001b[39;00m IntegralTransformError:\n\u001b[1;32m    128\u001b[0m         debug(\u001b[39m'\u001b[39m\u001b[39m[IT _try ] Caught IntegralTransformError, returns None\u001b[39m\u001b[39m'\u001b[39m)\n",
      "File \u001b[0;32m~/Documentos/docencia/calculo/.venv/lib/python3.10/site-packages/sympy/integrals/transforms.py:344\u001b[0m, in \u001b[0;36mMellinTransform._compute_transform\u001b[0;34m(self, f, x, s, **hints)\u001b[0m\n\u001b[1;32m    343\u001b[0m \u001b[39mdef\u001b[39;00m \u001b[39m_compute_transform\u001b[39m(\u001b[39mself\u001b[39m, f, x, s, \u001b[39m*\u001b[39m\u001b[39m*\u001b[39mhints):\n\u001b[0;32m--> 344\u001b[0m     \u001b[39mreturn\u001b[39;00m _mellin_transform(f, x, s, \u001b[39m*\u001b[39;49m\u001b[39m*\u001b[39;49mhints)\n",
      "File \u001b[0;32m~/Documentos/docencia/calculo/.venv/lib/python3.10/site-packages/sympy/integrals/transforms.py:245\u001b[0m, in \u001b[0;36m_noconds_.<locals>.make_wrapper.<locals>.wrapper\u001b[0;34m(noconds, *args, **kwargs)\u001b[0m\n\u001b[1;32m    243\u001b[0m \u001b[39m@wraps\u001b[39m(func)\n\u001b[1;32m    244\u001b[0m \u001b[39mdef\u001b[39;00m \u001b[39mwrapper\u001b[39m(\u001b[39m*\u001b[39margs, noconds\u001b[39m=\u001b[39mdefault, \u001b[39m*\u001b[39m\u001b[39m*\u001b[39mkwargs):\n\u001b[0;32m--> 245\u001b[0m     res \u001b[39m=\u001b[39m func(\u001b[39m*\u001b[39;49margs, \u001b[39m*\u001b[39;49m\u001b[39m*\u001b[39;49mkwargs)\n\u001b[1;32m    246\u001b[0m     \u001b[39mif\u001b[39;00m noconds:\n\u001b[1;32m    247\u001b[0m         \u001b[39mreturn\u001b[39;00m res[\u001b[39m0\u001b[39m]\n",
      "File \u001b[0;32m~/Documentos/docencia/calculo/.venv/lib/python3.10/site-packages/sympy/integrals/transforms.py:268\u001b[0m, in \u001b[0;36m_mellin_transform\u001b[0;34m(f, x, s_, integrator, simplify)\u001b[0m\n\u001b[1;32m    265\u001b[0m \u001b[39m# We use a fresh dummy, because assumptions on s might drop conditions on\u001b[39;00m\n\u001b[1;32m    266\u001b[0m \u001b[39m# convergence of the integral.\u001b[39;00m\n\u001b[1;32m    267\u001b[0m s \u001b[39m=\u001b[39m _dummy(\u001b[39m'\u001b[39m\u001b[39ms\u001b[39m\u001b[39m'\u001b[39m, \u001b[39m'\u001b[39m\u001b[39mmellin-transform\u001b[39m\u001b[39m'\u001b[39m, f)\n\u001b[0;32m--> 268\u001b[0m F \u001b[39m=\u001b[39m integrator(x\u001b[39m*\u001b[39;49m\u001b[39m*\u001b[39;49m(s \u001b[39m-\u001b[39;49m \u001b[39m1\u001b[39;49m) \u001b[39m*\u001b[39;49m f, x)\n\u001b[1;32m    270\u001b[0m \u001b[39mif\u001b[39;00m \u001b[39mnot\u001b[39;00m F\u001b[39m.\u001b[39mhas(Integral):\n\u001b[1;32m    271\u001b[0m     \u001b[39mreturn\u001b[39;00m _simplify(F\u001b[39m.\u001b[39msubs(s, s_), simplify), (S\u001b[39m.\u001b[39mNegativeInfinity, S\u001b[39m.\u001b[39mInfinity), S\u001b[39m.\u001b[39mtrue\n",
      "File \u001b[0;32m~/Documentos/docencia/calculo/.venv/lib/python3.10/site-packages/sympy/integrals/meijerint.py:1563\u001b[0m, in \u001b[0;36m_rewrite_single.<locals>.my_integrator\u001b[0;34m(f, x)\u001b[0m\n\u001b[1;32m   1562\u001b[0m \u001b[39mdef\u001b[39;00m \u001b[39mmy_integrator\u001b[39m(f, x):\n\u001b[0;32m-> 1563\u001b[0m     r \u001b[39m=\u001b[39m _meijerint_definite_4(f, x, only_double\u001b[39m=\u001b[39;49m\u001b[39mTrue\u001b[39;49;00m)\n\u001b[1;32m   1564\u001b[0m     \u001b[39mif\u001b[39;00m r \u001b[39mis\u001b[39;00m \u001b[39mnot\u001b[39;00m \u001b[39mNone\u001b[39;00m:\n\u001b[1;32m   1565\u001b[0m         \u001b[39mfrom\u001b[39;00m \u001b[39msympy\u001b[39;00m\u001b[39m.\u001b[39;00m\u001b[39msimplify\u001b[39;00m \u001b[39mimport\u001b[39;00m hyperexpand\n",
      "File \u001b[0;32m~/Documentos/docencia/calculo/.venv/lib/python3.10/site-packages/sympy/integrals/meijerint.py:2048\u001b[0m, in \u001b[0;36m_meijerint_definite_4\u001b[0;34m(f, x, only_double)\u001b[0m\n\u001b[1;32m   2045\u001b[0m             \u001b[39mreturn\u001b[39;00m _my_unpolarify(hyperexpand(res)), cond\n\u001b[1;32m   2047\u001b[0m \u001b[39m# Try two G functions.\u001b[39;00m\n\u001b[0;32m-> 2048\u001b[0m gs \u001b[39m=\u001b[39m _rewrite2(f, x)\n\u001b[1;32m   2049\u001b[0m \u001b[39mif\u001b[39;00m gs \u001b[39mis\u001b[39;00m \u001b[39mnot\u001b[39;00m \u001b[39mNone\u001b[39;00m:\n\u001b[1;32m   2050\u001b[0m     \u001b[39mfor\u001b[39;00m full_pb \u001b[39min\u001b[39;00m [\u001b[39mFalse\u001b[39;00m, \u001b[39mTrue\u001b[39;00m]:\n",
      "File \u001b[0;32m~/Documentos/docencia/calculo/.venv/lib/python3.10/site-packages/sympy/integrals/meijerint.py:1632\u001b[0m, in \u001b[0;36m_rewrite2\u001b[0;34m(f, x)\u001b[0m\n\u001b[1;32m   1624\u001b[0m \u001b[39m\u001b[39m\u001b[39m\"\"\"\u001b[39;00m\n\u001b[1;32m   1625\u001b[0m \u001b[39mTry to rewrite ``f`` as a product of two G functions of arguments a*x**b.\u001b[39;00m\n\u001b[1;32m   1626\u001b[0m \u001b[39mReturn fac, po, g1, g2 such that f = fac*po*g1*g2, where fac is\u001b[39;00m\n\u001b[0;32m   (...)\u001b[0m\n\u001b[1;32m   1629\u001b[0m \u001b[39mReturns None on failure.\u001b[39;00m\n\u001b[1;32m   1630\u001b[0m \u001b[39m\"\"\"\u001b[39;00m\n\u001b[1;32m   1631\u001b[0m fac, po, g \u001b[39m=\u001b[39m _split_mul(f, x)\n\u001b[0;32m-> 1632\u001b[0m \u001b[39mif\u001b[39;00m \u001b[39many\u001b[39;49m(_rewrite_single(expr, x, \u001b[39mFalse\u001b[39;49;00m) \u001b[39mis\u001b[39;49;00m \u001b[39mNone\u001b[39;49;00m \u001b[39mfor\u001b[39;49;00m expr \u001b[39min\u001b[39;49;00m _mul_args(g)):\n\u001b[1;32m   1633\u001b[0m     \u001b[39mreturn\u001b[39;00m \u001b[39mNone\u001b[39;00m\n\u001b[1;32m   1634\u001b[0m l \u001b[39m=\u001b[39m _mul_as_two_parts(g)\n",
      "File \u001b[0;32m~/Documentos/docencia/calculo/.venv/lib/python3.10/site-packages/sympy/integrals/meijerint.py:1632\u001b[0m, in \u001b[0;36m<genexpr>\u001b[0;34m(.0)\u001b[0m\n\u001b[1;32m   1624\u001b[0m \u001b[39m\u001b[39m\u001b[39m\"\"\"\u001b[39;00m\n\u001b[1;32m   1625\u001b[0m \u001b[39mTry to rewrite ``f`` as a product of two G functions of arguments a*x**b.\u001b[39;00m\n\u001b[1;32m   1626\u001b[0m \u001b[39mReturn fac, po, g1, g2 such that f = fac*po*g1*g2, where fac is\u001b[39;00m\n\u001b[0;32m   (...)\u001b[0m\n\u001b[1;32m   1629\u001b[0m \u001b[39mReturns None on failure.\u001b[39;00m\n\u001b[1;32m   1630\u001b[0m \u001b[39m\"\"\"\u001b[39;00m\n\u001b[1;32m   1631\u001b[0m fac, po, g \u001b[39m=\u001b[39m _split_mul(f, x)\n\u001b[0;32m-> 1632\u001b[0m \u001b[39mif\u001b[39;00m \u001b[39many\u001b[39m(_rewrite_single(expr, x, \u001b[39mFalse\u001b[39;49;00m) \u001b[39mis\u001b[39;00m \u001b[39mNone\u001b[39;00m \u001b[39mfor\u001b[39;00m expr \u001b[39min\u001b[39;00m _mul_args(g)):\n\u001b[1;32m   1633\u001b[0m     \u001b[39mreturn\u001b[39;00m \u001b[39mNone\u001b[39;00m\n\u001b[1;32m   1634\u001b[0m l \u001b[39m=\u001b[39m _mul_as_two_parts(g)\n",
      "File \u001b[0;32m~/Documentos/docencia/calculo/.venv/lib/python3.10/site-packages/sympy/core/cache.py:72\u001b[0m, in \u001b[0;36m__cacheit.<locals>.func_wrapper.<locals>.wrapper\u001b[0;34m(*args, **kwargs)\u001b[0m\n\u001b[1;32m     69\u001b[0m \u001b[39m@wraps\u001b[39m(func)\n\u001b[1;32m     70\u001b[0m \u001b[39mdef\u001b[39;00m \u001b[39mwrapper\u001b[39m(\u001b[39m*\u001b[39margs, \u001b[39m*\u001b[39m\u001b[39m*\u001b[39mkwargs):\n\u001b[1;32m     71\u001b[0m     \u001b[39mtry\u001b[39;00m:\n\u001b[0;32m---> 72\u001b[0m         retval \u001b[39m=\u001b[39m cfunc(\u001b[39m*\u001b[39;49margs, \u001b[39m*\u001b[39;49m\u001b[39m*\u001b[39;49mkwargs)\n\u001b[1;32m     73\u001b[0m     \u001b[39mexcept\u001b[39;00m \u001b[39mTypeError\u001b[39;00m \u001b[39mas\u001b[39;00m e:\n\u001b[1;32m     74\u001b[0m         \u001b[39mif\u001b[39;00m \u001b[39mnot\u001b[39;00m e\u001b[39m.\u001b[39margs \u001b[39mor\u001b[39;00m \u001b[39mnot\u001b[39;00m e\u001b[39m.\u001b[39margs[\u001b[39m0\u001b[39m]\u001b[39m.\u001b[39mstartswith(\u001b[39m'\u001b[39m\u001b[39munhashable type:\u001b[39m\u001b[39m'\u001b[39m):\n",
      "File \u001b[0;32m~/Documentos/docencia/calculo/.venv/lib/python3.10/site-packages/sympy/integrals/meijerint.py:1523\u001b[0m, in \u001b[0;36m_rewrite_single\u001b[0;34m(f, x, recursive)\u001b[0m\n\u001b[1;32m   1521\u001b[0m res \u001b[39m=\u001b[39m []\n\u001b[1;32m   1522\u001b[0m \u001b[39mfor\u001b[39;00m fac, g \u001b[39min\u001b[39;00m terms:\n\u001b[0;32m-> 1523\u001b[0m     r1 \u001b[39m=\u001b[39m _get_coeff_exp(unpolarify(fac\u001b[39m.\u001b[39;49msubs(subs)\u001b[39m.\u001b[39;49msubs(z, x),\n\u001b[1;32m   1524\u001b[0m                                    exponents_only\u001b[39m=\u001b[39;49m\u001b[39mTrue\u001b[39;49;00m), x)\n\u001b[1;32m   1525\u001b[0m     \u001b[39mtry\u001b[39;00m:\n\u001b[1;32m   1526\u001b[0m         g \u001b[39m=\u001b[39m g\u001b[39m.\u001b[39msubs(subs)\u001b[39m.\u001b[39msubs(z, x)\n",
      "File \u001b[0;32m~/Documentos/docencia/calculo/.venv/lib/python3.10/site-packages/sympy/integrals/meijerint.py:350\u001b[0m, in \u001b[0;36m_get_coeff_exp\u001b[0;34m(expr, x)\u001b[0m\n\u001b[1;32m    348\u001b[0m     \u001b[39mreturn\u001b[39;00m c, S\u001b[39m.\u001b[39mOne\n\u001b[1;32m    349\u001b[0m \u001b[39melse\u001b[39;00m:\n\u001b[0;32m--> 350\u001b[0m     \u001b[39mraise\u001b[39;00m _CoeffExpValueError(\u001b[39m'\u001b[39m\u001b[39mexpr not of form a*x**b: \u001b[39m\u001b[39m%s\u001b[39;00m\u001b[39m'\u001b[39m \u001b[39m%\u001b[39m expr)\n",
      "\u001b[0;31m_CoeffExpValueError\u001b[0m: expr not of form a*x**b: 0.355028053887817"
     ]
    }
   ],
   "source": [
    "integrate( z*cos((z**2+3)**(1/3))/((z**2+3)**(1/3))**2, z)"
   ]
  },
  {
   "cell_type": "code",
   "execution_count": 12,
   "metadata": {},
   "outputs": [
    {
     "data": {
      "text/latex": [
       "$\\displaystyle \\frac{1.0 z \\cos{\\left(\\left(z^{2} + 3\\right)^{0.333333333333333} \\right)}}{\\left(z^{2} + 3\\right)^{0.666666666666667}}$"
      ],
      "text/plain": [
       "1.0*z*cos((z**2 + 3)**0.333333333333333)/(z**2 + 3)**0.666666666666667"
      ]
     },
     "execution_count": 12,
     "metadata": {},
     "output_type": "execute_result"
    }
   ],
   "source": [
    "diff((3/2)*sin((z**2+3)**(1/3)), z)"
   ]
  }
 ],
 "metadata": {
  "kernelspec": {
   "display_name": ".venv",
   "language": "python",
   "name": "python3"
  },
  "language_info": {
   "codemirror_mode": {
    "name": "ipython",
    "version": 3
   },
   "file_extension": ".py",
   "mimetype": "text/x-python",
   "name": "python",
   "nbconvert_exporter": "python",
   "pygments_lexer": "ipython3",
   "version": "3.10.12"
  },
  "orig_nbformat": 4
 },
 "nbformat": 4,
 "nbformat_minor": 2
}
