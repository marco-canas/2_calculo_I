{
 "cells": [
  {
   "cell_type": "markdown",
   "id": "0c39acba",
   "metadata": {},
   "source": []
  },
  {
   "cell_type": "markdown",
   "id": "7b2a8c05",
   "metadata": {},
   "source": []
  },
  {
   "cell_type": "markdown",
   "id": "129320a3",
   "metadata": {},
   "source": [
    "# Cálculo analítico de límites \n",
    "\n",
    "Tomado de Larson página 78 del PDF. "
   ]
  },
  {
   "cell_type": "markdown",
   "id": "65dfe013",
   "metadata": {},
   "source": [
    "## Objetivo de aprendizaje"
   ]
  },
  {
   "cell_type": "markdown",
   "id": "53fc898a",
   "metadata": {},
   "source": [
    "* Aprender a determinar límites por racionalización "
   ]
  },
  {
   "cell_type": "code",
   "execution_count": null,
   "id": "392705d8",
   "metadata": {},
   "outputs": [],
   "source": []
  },
  {
   "cell_type": "code",
   "execution_count": null,
   "id": "1b40f736",
   "metadata": {},
   "outputs": [],
   "source": []
  },
  {
   "cell_type": "markdown",
   "id": "6efca1a5",
   "metadata": {},
   "source": [
    "## Referentes\n",
    "\n",
    "* [Larson página ](https://udeaeduco-my.sharepoint.com/:b:/g/personal/marco_canas_udea_edu_co/ES71ChFeO9ZDhW3TwC5Ijk8BjxUK3Pdqz_fjHxTTFAfIAg?e=6ZikeA)"
   ]
  },
  {
   "cell_type": "markdown",
   "id": "c7b790fe",
   "metadata": {},
   "source": [
    "## [Evaluación al profesor Marco]()"
   ]
  },
  {
   "cell_type": "code",
   "execution_count": null,
   "id": "a1f4cf9d",
   "metadata": {},
   "outputs": [],
   "source": []
  }
 ],
 "metadata": {
  "kernelspec": {
   "display_name": "Python 3 (ipykernel)",
   "language": "python",
   "name": "python3"
  },
  "language_info": {
   "codemirror_mode": {
    "name": "ipython",
    "version": 3
   },
   "file_extension": ".py",
   "mimetype": "text/x-python",
   "name": "python",
   "nbconvert_exporter": "python",
   "pygments_lexer": "ipython3",
   "version": "3.9.13"
  }
 },
 "nbformat": 4,
 "nbformat_minor": 5
}
