{
 "cells": [
  {
   "cell_type": "markdown",
   "id": "d93da050",
   "metadata": {},
   "source": [
    "<table align=\"left\">\n",
    "  <td>\n",
    "    <a href=\"https://colab.research.google.com/github/marco-canas/2_calculo_I/blob/main/classes/2_class_marz_3/2_class_march_3_limites.ipynb\" target=\"_parent\"><img src=\"https://colab.research.google.com/assets/colab-badge.svg\" alt=\"Open In Colab\"/></a>\n",
    "  </td>\n",
    "</table>"
   ]
  },
  {
   "cell_type": "markdown",
   "id": "78a475a1",
   "metadata": {},
   "source": []
  },
  {
   "cell_type": "markdown",
   "id": "8f0811a2",
   "metadata": {},
   "source": [
    "# Cálculo analítico de límites \n",
    "\n",
    "Tomado de Larson página 78 del PDF. "
   ]
  },
  {
   "cell_type": "markdown",
   "id": "437f7b31",
   "metadata": {},
   "source": [
    "## Objetivo de aprendizaje"
   ]
  },
  {
   "cell_type": "markdown",
   "id": "f5f867e2",
   "metadata": {},
   "source": [
    "* Aprender a determinar límites por racionalización "
   ]
  },
  {
   "cell_type": "code",
   "execution_count": null,
   "id": "9a24c5a9",
   "metadata": {},
   "outputs": [],
   "source": []
  },
  {
   "cell_type": "code",
   "execution_count": null,
   "id": "c605fab9",
   "metadata": {},
   "outputs": [],
   "source": []
  },
  {
   "cell_type": "markdown",
   "id": "76c5b9fb",
   "metadata": {},
   "source": [
    "## Referentes\n",
    "\n",
    "* [Larson página ](https://udeaeduco-my.sharepoint.com/:b:/g/personal/marco_canas_udea_edu_co/ES71ChFeO9ZDhW3TwC5Ijk8BjxUK3Pdqz_fjHxTTFAfIAg?e=6ZikeA)"
   ]
  },
  {
   "cell_type": "markdown",
   "id": "af1dd564",
   "metadata": {},
   "source": [
    "## [Evaluación al profesor Marco]()"
   ]
  },
  {
   "cell_type": "code",
   "execution_count": null,
   "id": "b0596324",
   "metadata": {},
   "outputs": [],
   "source": []
  }
 ],
 "metadata": {
  "kernelspec": {
   "display_name": "Python 3 (ipykernel)",
   "language": "python",
   "name": "python3"
  },
  "language_info": {
   "codemirror_mode": {
    "name": "ipython",
    "version": 3
   },
   "file_extension": ".py",
   "mimetype": "text/x-python",
   "name": "python",
   "nbconvert_exporter": "python",
   "pygments_lexer": "ipython3",
   "version": "3.9.13"
  }
 },
 "nbformat": 4,
 "nbformat_minor": 5
}
