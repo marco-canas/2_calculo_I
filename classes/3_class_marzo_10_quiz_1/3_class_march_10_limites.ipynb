{
 "cells": [
  {
   "cell_type": "markdown",
   "id": "98a4c624",
   "metadata": {
    "slideshow": {
     "slide_type": "slide"
    }
   },
   "source": [
    "<table align=\"left\">\n",
    "  <td>\n",
    "    <a href=\"https://colab.research.google.com/github/marco-canas/2_calculo_I/blob/main/classes/3_class_marzo_10_quiz_1/3_class_march_10_limites.ipynb\" target=\"_parent\"><img src=\"https://colab.research.google.com/assets/colab-badge.svg\" alt=\"Open In Colab\"/></a>\n",
    "  </td>\n",
    "</table>"
   ]
  },
  {
   "cell_type": "markdown",
   "id": "853facd7",
   "metadata": {},
   "source": [
    "### [Video de apoyo a la lectura interactiva y experimental de este cuaderno]()"
   ]
  },
  {
   "cell_type": "markdown",
   "id": "f0857d87",
   "metadata": {
    "slideshow": {
     "slide_type": "slide"
    }
   },
   "source": [
    "# Cálculo analítico de límites \n",
    "\n",
    "Tomado de Larson página 78 del PDF. "
   ]
  },
  {
   "cell_type": "markdown",
   "id": "4819453b",
   "metadata": {
    "slideshow": {
     "slide_type": "slide"
    }
   },
   "source": [
    "# Horario de clase  \n",
    "\n",
    "Viernes de 7AM a 12 del medio día. \n",
    "\n"
   ]
  },
  {
   "cell_type": "markdown",
   "id": "5e9a26e6",
   "metadata": {
    "slideshow": {
     "slide_type": "slide"
    }
   },
   "source": [
    "## Objetivo de aprendizaje"
   ]
  },
  {
   "cell_type": "markdown",
   "id": "4a3f818e",
   "metadata": {
    "slideshow": {
     "slide_type": "slide"
    }
   },
   "source": [
    "* Aprender a determinar límites por racionalización \n",
    "* Aprender a describir comportamientos correlacionados. \n",
    "\n",
    "* utilice diversas herramientas tecnológicas para determinar límtes de funciones (excel, python, R, symbolab, GeoGebra, wolfram Alpha)\n",
    "\n"
   ]
  },
  {
   "cell_type": "markdown",
   "id": "59d1b28a",
   "metadata": {
    "slideshow": {
     "slide_type": "slide"
    }
   },
   "source": [
    "Estos son estudiantes de Ingeniería Agropecuaria a quienes debo un servicio de acompañamiento a su aprendizaje. Dios los bendiga \n",
    "<img src = 'https://github.com/marco-canas/2_calculo_I/blob/main/classes/3_class_marzo_10_quiz_1/angel_luis_mariana_camila_duvan_marco.jpeg?raw=true'>"
   ]
  },
  {
   "cell_type": "markdown",
   "id": "735493b0",
   "metadata": {
    "slideshow": {
     "slide_type": "slide"
    }
   },
   "source": [
    "# TEOREMA 1.6 LÍMITES DE FUNCIONES TRIGONOMÉTRICAS"
   ]
  },
  {
   "cell_type": "markdown",
   "id": "3f92458e",
   "metadata": {
    "slideshow": {
     "slide_type": "slide"
    }
   },
   "source": [
    "página 80 del Larson:\n",
    "\n",
    "Sea $c$ un número real en el dominio de la función trigonométrica dada:  \n",
    "\n",
    "1. $\\lim\\limits_{x \\to c} \\sin x = \\sin c$"
   ]
  },
  {
   "cell_type": "code",
   "execution_count": null,
   "id": "4920fd17",
   "metadata": {
    "slideshow": {
     "slide_type": "slide"
    }
   },
   "outputs": [],
   "source": []
  },
  {
   "cell_type": "markdown",
   "id": "a820bc38",
   "metadata": {
    "slideshow": {
     "slide_type": "slide"
    }
   },
   "source": [
    "# UNA ESTRATEGIA PARA EL CÁLCULO DE LÍMITES"
   ]
  },
  {
   "cell_type": "markdown",
   "id": "94a03714",
   "metadata": {
    "slideshow": {
     "slide_type": "slide"
    }
   },
   "source": [
    "1. Aprender a reconocer cuáles límites pueden evaluarse por medio de la sustitución directa (estos límites se enumeran en los teoremas 1.1 a 1.6).  \n",
    "\n",
    "2. Si el límite de $f(x)$ cuando $x$ se aproxima a $c$ no se puede evaluar por sustitución directa, tratar de encontrar una función $g$ que coincida con $f$ para todo $x$ distinto de $x = c$. [Seleccionar una $g$ tal que el límite de $g(x)$ se pueda evaluar por medio de la sustitución directa.]  \n",
    "\n",
    "3. Aplicar el teorema 1.7 para concluir de manera analítica que \n",
    "\n",
    "$$ \\lim_{x \\to c} f(x) =  lim_{x \\to c} g(x) = g(c) $$  \n",
    "\n",
    "4. Utilizar una **gráfica** o una **tabla** para respaldar la conclusión."
   ]
  },
  {
   "cell_type": "markdown",
   "id": "9d03a7b8",
   "metadata": {
    "slideshow": {
     "slide_type": "slide"
    }
   },
   "source": [
    "## 1. Determinación de límites factorizando por factor común"
   ]
  },
  {
   "cell_type": "markdown",
   "id": "6c613320",
   "metadata": {
    "slideshow": {
     "slide_type": "slide"
    }
   },
   "source": []
  },
  {
   "cell_type": "markdown",
   "id": "5b99e66f",
   "metadata": {
    "slideshow": {
     "slide_type": "slide"
    }
   },
   "source": [
    "# 2. Determinación de límites por factorización de diferencias de cuadrados"
   ]
  },
  {
   "cell_type": "markdown",
   "id": "c1403714",
   "metadata": {
    "slideshow": {
     "slide_type": "slide"
    }
   },
   "source": [
    "$$ \\lim_{x \\to } $$"
   ]
  },
  {
   "cell_type": "markdown",
   "id": "660f104f",
   "metadata": {
    "slideshow": {
     "slide_type": "slide"
    }
   },
   "source": [
    "## 3. Determinación de límites por factorización del trinomio de la forma $x^{2} + bx + c$"
   ]
  },
  {
   "cell_type": "markdown",
   "id": "5221b73c",
   "metadata": {
    "slideshow": {
     "slide_type": "slide"
    }
   },
   "source": [
    "ejercicio 53 del Larson: \n",
    "\n",
    "$$ \\lim_{x \\to -3} \\frac{x^{2} + x - 6}{x^{2} - 9} $$\n",
    "\n",
    "y las respuestas stán en la página 747. "
   ]
  },
  {
   "cell_type": "markdown",
   "id": "45c3cac6",
   "metadata": {
    "slideshow": {
     "slide_type": "slide"
    }
   },
   "source": [
    "## Solución "
   ]
  },
  {
   "cell_type": "markdown",
   "id": "5390e2a5",
   "metadata": {
    "slideshow": {
     "slide_type": "slide"
    }
   },
   "source": [
    "Empezamos a determinar el límite analíticamente: \n",
    "\n",
    "* Y para ello ensayamos primero sustituyendo\n",
    "\n",
    "\n"
   ]
  },
  {
   "cell_type": "markdown",
   "id": "749984bb",
   "metadata": {
    "slideshow": {
     "slide_type": "slide"
    }
   },
   "source": [
    "$$ \\lim_{x \\to -3} \\frac{x^{2} + x - 6}{x^{2} - 9} = \\frac{(-3)^{2} + (-3) - 6}{(-3)^{2} - 9} $$\n",
    "\n",
    "jerarquia de las operaciones o prelación de las operación. "
   ]
  },
  {
   "cell_type": "markdown",
   "id": "e0e09a2c",
   "metadata": {
    "slideshow": {
     "slide_type": "slide"
    }
   },
   "source": [
    "$$\\frac{9 + (-3) - 6}{9 - 9} $$ "
   ]
  },
  {
   "cell_type": "markdown",
   "id": "fcfb86b4",
   "metadata": {
    "slideshow": {
     "slide_type": "slide"
    }
   },
   "source": [
    "$$ \\frac{0}{0} $$\n",
    "\n",
    "es decir, obtuve una indeterminación.  Es decir, no pude determinar el límite sustituyendo. "
   ]
  },
  {
   "cell_type": "markdown",
   "id": "d44eca3e",
   "metadata": {
    "slideshow": {
     "slide_type": "slide"
    }
   },
   "source": [
    "Busquemos este límite por otro camino. \n",
    "\n",
    "¿Qué camino seguimos?  \n",
    "\n",
    "utilicemos la estrategia Mariana (Factorizar)"
   ]
  },
  {
   "cell_type": "code",
   "execution_count": 3,
   "id": "09eb2aaa",
   "metadata": {
    "slideshow": {
     "slide_type": "slide"
    }
   },
   "outputs": [
    {
     "data": {
      "text/plain": [
       "9"
      ]
     },
     "execution_count": 3,
     "metadata": {},
     "output_type": "execute_result"
    }
   ],
   "source": [
    "(-3)**2 # el cuadrado de cantidades negativas es positivo, por ley de signos. "
   ]
  },
  {
   "cell_type": "markdown",
   "id": "e55a26f5",
   "metadata": {
    "slideshow": {
     "slide_type": "slide"
    }
   },
   "source": [
    "$$ \\lim_{x \\to -3} \\frac{x^{2} + x - 6}{x^{2} - 9} = \\lim_{x \\to -3} \\frac{(x+3)(x-2)}{(x+3)(x-3)} $$"
   ]
  },
  {
   "cell_type": "markdown",
   "id": "bdb17133",
   "metadata": {
    "slideshow": {
     "slide_type": "slide"
    }
   },
   "source": [
    "y lñuego simplifico o cancelo para obtener:\n",
    "\n",
    "$$\\lim_{x \\to -3} \\frac{(x-2)}{(x-3)} $$ "
   ]
  },
  {
   "cell_type": "markdown",
   "id": "f634996d",
   "metadata": {
    "slideshow": {
     "slide_type": "slide"
    }
   },
   "source": [
    "ahora sí, después de cancelar puedo reemplaza para hallar el límite"
   ]
  },
  {
   "cell_type": "markdown",
   "id": "8ab00980",
   "metadata": {},
   "source": [
    "$$\\lim_{x \\to -3} \\frac{(x-2)}{(x-3)} =  \\frac{((\\ )-2)}{((\\ )-3)}  $$ "
   ]
  },
  {
   "cell_type": "markdown",
   "id": "8934d03c",
   "metadata": {},
   "source": [
    "$$\\lim_{x \\to -3} \\frac{(x-2)}{(x-3)} =  \\frac{((-3)-2)}{((-3)-3)}  $$ "
   ]
  },
  {
   "cell_type": "markdown",
   "id": "f22daee8",
   "metadata": {
    "slideshow": {
     "slide_type": "slide"
    }
   },
   "source": [
    "$$ \\frac{-5}{-6} = \\frac{5}{6} \\approx 0.83 $$\n",
    "\n",
    "el ejercicio nos quedó bueno. Las repuestas están en la página 747.  \n",
    "\n",
    "Lo que significa que cuando x se acerque a -3, $y$ se dirigirá hacia 0.83. "
   ]
  },
  {
   "cell_type": "code",
   "execution_count": 4,
   "id": "3bf66f5b",
   "metadata": {
    "slideshow": {
     "slide_type": "slide"
    }
   },
   "outputs": [
    {
     "data": {
      "text/plain": [
       "0.8333333333333334"
      ]
     },
     "execution_count": 4,
     "metadata": {},
     "output_type": "execute_result"
    }
   ],
   "source": [
    "(-5)/(-6)"
   ]
  },
  {
   "cell_type": "markdown",
   "id": "6c6e96d4",
   "metadata": {
    "slideshow": {
     "slide_type": "slide"
    }
   },
   "source": [
    "## Problema ilustrativo"
   ]
  },
  {
   "cell_type": "markdown",
   "id": "76aeaefa",
   "metadata": {
    "slideshow": {
     "slide_type": "slide"
    }
   },
   "source": [
    "$$  $$"
   ]
  },
  {
   "cell_type": "markdown",
   "id": "2292d2a2",
   "metadata": {
    "slideshow": {
     "slide_type": "slide"
    }
   },
   "source": []
  },
  {
   "cell_type": "markdown",
   "id": "a8969540",
   "metadata": {
    "slideshow": {
     "slide_type": "slide"
    }
   },
   "source": [
    "## Actividades a realizar fuera de clase"
   ]
  },
  {
   "cell_type": "markdown",
   "id": "89336d70",
   "metadata": {
    "slideshow": {
     "slide_type": "slide"
    }
   },
   "source": [
    "* Memorización: Aprenderce de memoria los casos de factorización, los casos de racionalización y los casos de simplificación de fracciones. \n",
    "* Habilidad: hacer ejercicios muchos para adquirir habilidades\n",
    "* cronometras para medir eficiencia. \n",
    "\n"
   ]
  },
  {
   "cell_type": "markdown",
   "id": "28f155bc",
   "metadata": {
    "slideshow": {
     "slide_type": "slide"
    }
   },
   "source": [
    "### Cuestionario\n",
    "\n",
    "1. ¿Que es una razón en matemáticas?\n",
    "\n",
    "es una división.  (se utiliza para comparar)\n",
    "\n",
    "1. ¿Qué es una función racional?\n",
    "\n",
    "Es una división de polinomios. \n",
    "\n",
    "\n",
    "2. ¿Qué es el grado de un polinomio?\n",
    "\n",
    "3. ¿Cómo se factoriza una diferencia de cuadrados?\n",
    "Eso se factoriza como el producto de la suma por la diferencia de las raices de los cuadrados\n",
    "\n",
    "4. ¿Cómo se factoriza un trinomio de la forma $x^{2} + bx + c$?\n",
    "\n",
    "* te preguntas por dos numeros que sumas o restados den b y que multiplicados den c. \n",
    "\n"
   ]
  },
  {
   "cell_type": "markdown",
   "id": "9b1bf86c",
   "metadata": {
    "slideshow": {
     "slide_type": "slide"
    }
   },
   "source": [
    "### Asignación del quiz 1 para entregar\n",
    "\n",
    "1. Mariana\n",
    "\n",
    "$$ \\lim_{x \\to 2} \\frac{x^{3} - 8}{x - 2} \\ \\ \\ \\text{Este ejercicio es opcional}  $$\n",
    "\n",
    "Sugerencia: utilice el método de factorización de diferencias de cubos. \n",
    "\n",
    "$$ a^{3} - b^{3} = (a-b)(a^{2} + ab + b^{2}) $$\n",
    "\n",
    "$$ \\text{diferencia de cubos} = (\\text{binomio}) \\cdot (\\text{trinomio no perfecto})  $$\n",
    "\n",
    "\n",
    "$$ \\lim_{x \\to 4} \\frac{x-4}{x^{2} - 16} \\ \\ \\  \\ \\text{este si lo debe entregar} $$\n",
    "\n",
    "* Primero: Muestra que el límite no se puede determinar sustituyendo. \n",
    "* Segundo: Determina el límite factorizando la diferencia de cuadrados y luego cancelando el factor que causa la indeterminación\n",
    "* Tercero: escribe una conclusión verbal (\"Cuando x tiende a ...., $y$ se dirige o aproxima a....\").\n",
    "* Cuarto: determina el límte de manera puntual (Esto se hace sustituyendo $x$ por puntos cercanos a ... y ver a donde tienden losvalores de $f(x)$)\n",
    "\n",
    "* Quinto: elabore dos tablitas que describan el acercamiento por izquierda y por derecha de la variable $x$ y la tendencia de la variable $y$. (y de cada una de las dos tablitas, escribimos su interpretación verbal) \n",
    " \n",
    "<img src = 'https://aulamathema.weebly.com/uploads/7/8/5/0/78507704/published/l-mite-ejemplo-gr-fico_1.png'>\n",
    "\n",
    "* sexto: determine el límite gráficamente. (mira en el eje horizonral el acercamiento por izquierda y luego mira en el gráfico la tendencia de los valores funciones a medida que te acercas por izquierda. Luego, hace lo mimo pero por derecha. )\n",
    "\n",
    "merta para el profesor: Realizar una animación de comparación de las tendencias de x y de $y$. \n",
    "<img src = ''>\n",
    "\n",
    "2. Camila\n",
    "\n",
    "$$ \\lim_{x \\to 1} \\frac{x - 1}{x^{2} - 1} $$\n",
    "\n",
    "3. Angel\n",
    "\n",
    "$$ \\lim_{x \\to 2} \\frac{x - 2}{x^{2} - 4} $$\n",
    "\n",
    "4. Oscar\n",
    "\n",
    "$$ \\lim_{x \\to 3} \\frac{x - 3}{x^{2} - 9} $$\n",
    "\n",
    "5. Leonardo\n",
    "\n",
    "$$ \\lim_{x \\to 4} \\frac{x - 4}{x^{2} - 16} $$\n",
    "\n",
    "6. Felipe\n",
    "\n",
    "$$ \\lim_{x \\to 5} \\frac{x - 5}{x^{2} - 25} $$\n",
    "\n",
    "\n",
    "7. Luis\n",
    "\n",
    "$$ \\lim_{x \\to 6} \\frac{x - 6}{x^{2} - 36} $$\n",
    "\n",
    "8. Duvan \n",
    "\n",
    "$$ \\lim_{x \\to 7} \\frac{x - 7}{x^{2} - 49} $$\n",
    "\n",
    "Para entregar con fecha límite del 17 de marzo a las 11 y 59 PM. \n",
    "\n",
    "#### [Video y cuaderno de apoyo para apoyar este momento evaluativo]\n"
   ]
  },
  {
   "cell_type": "code",
   "execution_count": 1,
   "id": "916cb7fd",
   "metadata": {
    "slideshow": {
     "slide_type": "slide"
    }
   },
   "outputs": [
    {
     "ename": "ZeroDivisionError",
     "evalue": "division by zero",
     "output_type": "error",
     "traceback": [
      "\u001b[1;31m---------------------------------------------------------------------------\u001b[0m",
      "\u001b[1;31mZeroDivisionError\u001b[0m                         Traceback (most recent call last)",
      "\u001b[1;32m~\\AppData\\Local\\Temp\\ipykernel_20760\\182040962.py\u001b[0m in \u001b[0;36m<module>\u001b[1;34m\u001b[0m\n\u001b[1;32m----> 1\u001b[1;33m \u001b[1;36m0\u001b[0m\u001b[1;33m/\u001b[0m\u001b[1;36m0\u001b[0m\u001b[1;33m\u001b[0m\u001b[1;33m\u001b[0m\u001b[0m\n\u001b[0m",
      "\u001b[1;31mZeroDivisionError\u001b[0m: division by zero"
     ]
    }
   ],
   "source": [
    "0/0"
   ]
  },
  {
   "cell_type": "markdown",
   "id": "7122e96d",
   "metadata": {
    "slideshow": {
     "slide_type": "slide"
    }
   },
   "source": [
    "## Referentes\n",
    "\n",
    "* [Larson página ](https://udeaeduco-my.sharepoint.com/:b:/g/personal/marco_canas_udea_edu_co/ES71ChFeO9ZDhW3TwC5Ijk8BjxUK3Pdqz_fjHxTTFAfIAg?e=6ZikeA)"
   ]
  },
  {
   "cell_type": "markdown",
   "id": "b1e764dc",
   "metadata": {
    "slideshow": {
     "slide_type": "slide"
    }
   },
   "source": [
    "## Evalución al profesor [Marco](https://forms.office.com/Pages/ResponsePage.aspx?id=IefhmYRxjkmK_7KtTlPBwkanXIs1i1FEujpsZgO6dXpUREJPV1kxUk1JV1ozTFJIQVNIQjY5WEY3US4u)\n",
    "\n"
   ]
  },
  {
   "cell_type": "markdown",
   "id": "7a7a80a5",
   "metadata": {
    "slideshow": {
     "slide_type": "slide"
    }
   },
   "source": [
    "## [Envie su cuaderno y su video de 3 minutos a través de este vínculo](https://forms.office.com/Pages/ResponsePage.aspx?id=IefhmYRxjkmK_7KtTlPBwkanXIs1i1FEujpsZgO6dXpUREZUOUY0MEsxUE5ETjk4S1dOMFRWR1lEMS4u)\n",
    "\n",
    "Ojo. La fecha límute para enviar el primer quiz es viernes 17 de marzo a las 11:59 de la noches. "
   ]
  },
  {
   "cell_type": "markdown",
   "id": "b56ebbc8",
   "metadata": {
    "slideshow": {
     "slide_type": "slide"
    }
   },
   "source": [
    "## [Continue con su formación en cálculo diferencial a través de este vínculo]()"
   ]
  },
  {
   "cell_type": "code",
   "execution_count": null,
   "id": "83e06555",
   "metadata": {},
   "outputs": [],
   "source": []
  }
 ],
 "metadata": {
  "celltoolbar": "Slideshow",
  "kernelspec": {
   "display_name": "Python 3 (ipykernel)",
   "language": "python",
   "name": "python3"
  },
  "language_info": {
   "codemirror_mode": {
    "name": "ipython",
    "version": 3
   },
   "file_extension": ".py",
   "mimetype": "text/x-python",
   "name": "python",
   "nbconvert_exporter": "python",
   "pygments_lexer": "ipython3",
   "version": "3.9.13"
  }
 },
 "nbformat": 4,
 "nbformat_minor": 5
}
