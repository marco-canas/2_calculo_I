{
 "cells": [
  {
   "cell_type": "markdown",
   "id": "6552cf74",
   "metadata": {},
   "source": [
    "<table align=\"left\">\n",
    "  <td>\n",
    "    <a href=\"https://colab.research.google.com/github/marco-canas/2_calculo_I/blob/main/classes/2_class_marz_3/2_class_march_3_limites.ipynb\" target=\"_parent\"><img src=\"https://colab.research.google.com/assets/colab-badge.svg\" alt=\"Open In Colab\"/></a>\n",
    "  </td>\n",
    "</table>"
   ]
  },
  {
   "cell_type": "markdown",
   "id": "f2df0f0d",
   "metadata": {},
   "source": []
  },
  {
   "cell_type": "markdown",
   "id": "7f9b73ec",
   "metadata": {},
   "source": [
    "# Cálculo analítico de límites \n",
    "\n",
    "Tomado de Larson página 78 del PDF. "
   ]
  },
  {
   "cell_type": "markdown",
   "id": "dff017a9",
   "metadata": {},
   "source": [
    "## Objetivo de aprendizaje"
   ]
  },
  {
   "cell_type": "markdown",
   "id": "4f0f7041",
   "metadata": {},
   "source": [
    "* Aprender a determinar límites por racionalización "
   ]
  },
  {
   "cell_type": "markdown",
   "id": "d96d6964",
   "metadata": {},
   "source": [
    "Estos son estudiantes de Ingeniería Agropecuaria a quienes debo un servicio de acompañamiento a su aprendizaje. Dios los bendiga \n",
    "<img src = 'https://github.com/marco-canas/2_calculo_I/blob/main/classes/3_class_marzo_10_quiz_1/angel_luis_mariana_camila_duvan_marco.jpeg?raw=true'>"
   ]
  },
  {
   "cell_type": "code",
   "execution_count": null,
   "id": "b6346781",
   "metadata": {},
   "outputs": [],
   "source": []
  },
  {
   "cell_type": "code",
   "execution_count": null,
   "id": "06675460",
   "metadata": {},
   "outputs": [],
   "source": []
  },
  {
   "cell_type": "markdown",
   "id": "21efa3cf",
   "metadata": {},
   "source": []
  },
  {
   "cell_type": "markdown",
   "id": "eccfd7b4",
   "metadata": {},
   "source": [
    "## Actividades a realizar fuera de clase"
   ]
  },
  {
   "cell_type": "markdown",
   "id": "e548792e",
   "metadata": {},
   "source": [
    "### Cuestionario\n",
    "\n",
    "1. "
   ]
  },
  {
   "cell_type": "markdown",
   "id": "7ef827ae",
   "metadata": {
    "slideshow": {
     "slide_type": "slide"
    }
   },
   "source": [
    "## Referentes\n",
    "\n",
    "* [Larson página ](https://udeaeduco-my.sharepoint.com/:b:/g/personal/marco_canas_udea_edu_co/ES71ChFeO9ZDhW3TwC5Ijk8BjxUK3Pdqz_fjHxTTFAfIAg?e=6ZikeA)"
   ]
  },
  {
   "cell_type": "markdown",
   "id": "1456bc20",
   "metadata": {
    "slideshow": {
     "slide_type": "slide"
    }
   },
   "source": [
    "## [Evaluación al profesor Marco]()"
   ]
  },
  {
   "cell_type": "markdown",
   "id": "b8bacaf0",
   "metadata": {
    "slideshow": {
     "slide_type": "slide"
    }
   },
   "source": [
    "## [Envie su cuaderno y su video de 3 minutos a través de este vínculo](https://forms.office.com/Pages/ResponsePage.aspx?id=IefhmYRxjkmK_7KtTlPBwkanXIs1i1FEujpsZgO6dXpUREZUOUY0MEsxUE5ETjk4S1dOMFRWR1lEMS4u)"
   ]
  },
  {
   "cell_type": "markdown",
   "id": "58b633cf",
   "metadata": {
    "slideshow": {
     "slide_type": "slide"
    }
   },
   "source": [
    "## [Continue con su formación en cálculo diferencial a través de este vínculo]()"
   ]
  },
  {
   "cell_type": "code",
   "execution_count": null,
   "id": "4a40b9cb",
   "metadata": {},
   "outputs": [],
   "source": []
  }
 ],
 "metadata": {
  "celltoolbar": "Slideshow",
  "kernelspec": {
   "display_name": "Python 3 (ipykernel)",
   "language": "python",
   "name": "python3"
  },
  "language_info": {
   "codemirror_mode": {
    "name": "ipython",
    "version": 3
   },
   "file_extension": ".py",
   "mimetype": "text/x-python",
   "name": "python",
   "nbconvert_exporter": "python",
   "pygments_lexer": "ipython3",
   "version": "3.9.13"
  }
 },
 "nbformat": 4,
 "nbformat_minor": 5
}
