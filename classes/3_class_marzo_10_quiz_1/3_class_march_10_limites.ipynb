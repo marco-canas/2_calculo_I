{
 "cells": [
  {
   "cell_type": "markdown",
   "id": "1e876458",
   "metadata": {},
   "source": [
    "<table align=\"left\">\n",
    "  <td>\n",
    "    <a href=\"https://colab.research.google.com/github/marco-canas/2_calculo_I/blob/main/classes/2_class_marz_3/2_class_march_3_limites.ipynb\" target=\"_parent\"><img src=\"https://colab.research.google.com/assets/colab-badge.svg\" alt=\"Open In Colab\"/></a>\n",
    "  </td>\n",
    "</table>"
   ]
  },
  {
   "cell_type": "markdown",
   "id": "8d5ba976",
   "metadata": {},
   "source": []
  },
  {
   "cell_type": "markdown",
   "id": "cc62610f",
   "metadata": {
    "slideshow": {
     "slide_type": "slide"
    }
   },
   "source": [
    "# Cálculo analítico de límites \n",
    "\n",
    "Tomado de Larson página 78 del PDF. "
   ]
  },
  {
   "cell_type": "markdown",
   "id": "8592bacd",
   "metadata": {
    "slideshow": {
     "slide_type": "slide"
    }
   },
   "source": [
    "# Horario de clase  \n",
    "\n",
    "Viernes de 7AM a 12 del medio día. \n",
    "\n"
   ]
  },
  {
   "cell_type": "markdown",
   "id": "4b7de1fd",
   "metadata": {
    "slideshow": {
     "slide_type": "slide"
    }
   },
   "source": [
    "## Objetivo de aprendizaje"
   ]
  },
  {
   "cell_type": "markdown",
   "id": "44fe1482",
   "metadata": {},
   "source": [
    "* Aprender a determinar límites por racionalización "
   ]
  },
  {
   "cell_type": "markdown",
   "id": "03944d5e",
   "metadata": {},
   "source": [
    "Estos son estudiantes de Ingeniería Agropecuaria a quienes debo un servicio de acompañamiento a su aprendizaje. Dios los bendiga \n",
    "<img src = 'https://github.com/marco-canas/2_calculo_I/blob/main/classes/3_class_marzo_10_quiz_1/angel_luis_mariana_camila_duvan_marco.jpeg?raw=true'>"
   ]
  },
  {
   "cell_type": "markdown",
   "id": "df587126",
   "metadata": {
    "slideshow": {
     "slide_type": "slide"
    }
   },
   "source": [
    "# TEOREMA 1.6 LÍMITES DE FUNCIONES TRIGONOMÉTRICAS"
   ]
  },
  {
   "cell_type": "markdown",
   "id": "dbdabcc2",
   "metadata": {
    "slideshow": {
     "slide_type": "slide"
    }
   },
   "source": [
    "página 80 del Larson:\n",
    "\n",
    "Sea $c$ un número real en el dominio de la función trigonométrica dada:  \n",
    "\n",
    "1. $\\lim\\limits_{x \\to c} \\sin x = \\sin c$"
   ]
  },
  {
   "cell_type": "code",
   "execution_count": null,
   "id": "e7201588",
   "metadata": {
    "slideshow": {
     "slide_type": "slide"
    }
   },
   "outputs": [],
   "source": []
  },
  {
   "cell_type": "markdown",
   "id": "0a9144fd",
   "metadata": {
    "slideshow": {
     "slide_type": "slide"
    }
   },
   "source": [
    "# UNA ESTRATEGIA PARA EL CÁLCULO DE LÍMITES"
   ]
  },
  {
   "cell_type": "markdown",
   "id": "10e5d594",
   "metadata": {
    "slideshow": {
     "slide_type": "slide"
    }
   },
   "source": [
    "1. Aprender a reconocer cuáles límites pueden evaluarse por medio de la sustitución directa (estos límites se enumeran en los teoremas 1.1 a 1.6).\n",
    "2. Si el límite de $f(x)$ cuando x se aproxima a c no se puede evaluar por sustitución \n",
    "directa, tratar de encontrar una función g que coincida con f para todo x distinto \n",
    "de x \u0015 c. [Seleccionar una g tal que el límite de g(x) se pueda evaluar por medio \n",
    "de la sustitución directa.]  \n",
    "\n",
    "3. Aplicar el teorema 1.7 para concluir de manera analítica que\n",
    " $$ lím lím $$\n",
    "4. Utilizar una gráfica o una tabla para respaldar la conclusión."
   ]
  },
  {
   "cell_type": "code",
   "execution_count": null,
   "id": "774c4d89",
   "metadata": {
    "slideshow": {
     "slide_type": "slide"
    }
   },
   "outputs": [],
   "source": []
  },
  {
   "cell_type": "code",
   "execution_count": null,
   "id": "78eefb90",
   "metadata": {},
   "outputs": [],
   "source": []
  },
  {
   "cell_type": "code",
   "execution_count": null,
   "id": "ebb987ae",
   "metadata": {},
   "outputs": [],
   "source": []
  },
  {
   "cell_type": "markdown",
   "id": "aa821c4c",
   "metadata": {
    "slideshow": {
     "slide_type": "slide"
    }
   },
   "source": [
    "## Problema ilustrativo"
   ]
  },
  {
   "cell_type": "markdown",
   "id": "551591b3",
   "metadata": {
    "slideshow": {
     "slide_type": "slide"
    }
   },
   "source": [
    "$$  $$"
   ]
  },
  {
   "cell_type": "markdown",
   "id": "a75df8c0",
   "metadata": {
    "slideshow": {
     "slide_type": "slide"
    }
   },
   "source": []
  },
  {
   "cell_type": "markdown",
   "id": "7ae1f99d",
   "metadata": {},
   "source": [
    "## Actividades a realizar fuera de clase"
   ]
  },
  {
   "cell_type": "markdown",
   "id": "6404f7cc",
   "metadata": {},
   "source": [
    "### Cuestionario\n",
    "\n",
    "1. "
   ]
  },
  {
   "cell_type": "markdown",
   "id": "16f618fd",
   "metadata": {
    "slideshow": {
     "slide_type": "slide"
    }
   },
   "source": [
    "## Referentes\n",
    "\n",
    "* [Larson página ](https://udeaeduco-my.sharepoint.com/:b:/g/personal/marco_canas_udea_edu_co/ES71ChFeO9ZDhW3TwC5Ijk8BjxUK3Pdqz_fjHxTTFAfIAg?e=6ZikeA)"
   ]
  },
  {
   "cell_type": "markdown",
   "id": "bd2461ba",
   "metadata": {
    "slideshow": {
     "slide_type": "slide"
    }
   },
   "source": [
    "## [Evaluación al profesor Marco]()"
   ]
  },
  {
   "cell_type": "markdown",
   "id": "a3bb1b96",
   "metadata": {
    "slideshow": {
     "slide_type": "slide"
    }
   },
   "source": [
    "## [Envie su cuaderno y su video de 3 minutos a través de este vínculo](https://forms.office.com/Pages/ResponsePage.aspx?id=IefhmYRxjkmK_7KtTlPBwkanXIs1i1FEujpsZgO6dXpUREZUOUY0MEsxUE5ETjk4S1dOMFRWR1lEMS4u)"
   ]
  },
  {
   "cell_type": "markdown",
   "id": "335c4754",
   "metadata": {
    "slideshow": {
     "slide_type": "slide"
    }
   },
   "source": [
    "## [Continue con su formación en cálculo diferencial a través de este vínculo]()"
   ]
  },
  {
   "cell_type": "code",
   "execution_count": null,
   "id": "7acb7a37",
   "metadata": {},
   "outputs": [],
   "source": []
  }
 ],
 "metadata": {
  "celltoolbar": "Slideshow",
  "kernelspec": {
   "display_name": "Python 3 (ipykernel)",
   "language": "python",
   "name": "python3"
  },
  "language_info": {
   "codemirror_mode": {
    "name": "ipython",
    "version": 3
   },
   "file_extension": ".py",
   "mimetype": "text/x-python",
   "name": "python",
   "nbconvert_exporter": "python",
   "pygments_lexer": "ipython3",
   "version": "3.9.13"
  }
 },
 "nbformat": 4,
 "nbformat_minor": 5
}
