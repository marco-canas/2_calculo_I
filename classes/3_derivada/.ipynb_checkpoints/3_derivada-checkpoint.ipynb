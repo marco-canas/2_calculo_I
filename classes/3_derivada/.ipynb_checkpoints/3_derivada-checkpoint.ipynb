{
 "cells": [
  {
   "cell_type": "markdown",
   "id": "02266126",
   "metadata": {
    "slideshow": {
     "slide_type": "slide"
    }
   },
   "source": [
    "# Unidad 3"
   ]
  },
  {
   "cell_type": "code",
   "execution_count": 6,
   "id": "24f6f186",
   "metadata": {
    "slideshow": {
     "slide_type": "slide"
    }
   },
   "outputs": [
    {
     "data": {
      "text/plain": [
       "'PEREZ CONTRERAS YESSICA PAOLA'"
      ]
     },
     "execution_count": 6,
     "metadata": {},
     "output_type": "execute_result"
    }
   ],
   "source": [
    "def estudiante_que_va_a_participar():\n",
    "    import numpy as np \n",
    "    import pandas as pd \n",
    "\n",
    "    grupo_calculo = pd.read_csv('grupo_calculo.csv', sep = ',')\n",
    "\n",
    "    from random import choice\n",
    "\n",
    "    return choice(grupo_calculo.Nombre)\n",
    "\n",
    "estudiante_que_va_a_participar() "
   ]
  },
  {
   "cell_type": "code",
   "execution_count": 2,
   "id": "df44884c",
   "metadata": {},
   "outputs": [
    {
     "data": {
      "text/html": [
       "<div>\n",
       "<style scoped>\n",
       "    .dataframe tbody tr th:only-of-type {\n",
       "        vertical-align: middle;\n",
       "    }\n",
       "\n",
       "    .dataframe tbody tr th {\n",
       "        vertical-align: top;\n",
       "    }\n",
       "\n",
       "    .dataframe thead th {\n",
       "        text-align: right;\n",
       "    }\n",
       "</style>\n",
       "<table border=\"1\" class=\"dataframe\">\n",
       "  <thead>\n",
       "    <tr style=\"text-align: right;\">\n",
       "      <th></th>\n",
       "      <th>Cédula</th>\n",
       "      <th>Nombre</th>\n",
       "      <th>Email</th>\n",
       "    </tr>\n",
       "  </thead>\n",
       "  <tbody>\n",
       "    <tr>\n",
       "      <th>0</th>\n",
       "      <td>1.038136e+09</td>\n",
       "      <td>ÁLVARES OLIVEROS YULIETH PAOLA</td>\n",
       "      <td>yuliethp.alvarez@udea.edu.co</td>\n",
       "    </tr>\n",
       "    <tr>\n",
       "      <th>1</th>\n",
       "      <td>1.063367e+09</td>\n",
       "      <td>CALDERA ASSIA BRYAN DAVID</td>\n",
       "      <td>bryan.caldera@udea.edu.co</td>\n",
       "    </tr>\n",
       "    <tr>\n",
       "      <th>2</th>\n",
       "      <td>1.007076e+09</td>\n",
       "      <td>LONDOÑO MONTERROSA JULIANA</td>\n",
       "      <td>juliana.londonom@udea.edu.co</td>\n",
       "    </tr>\n",
       "    <tr>\n",
       "      <th>3</th>\n",
       "      <td>1.007351e+09</td>\n",
       "      <td>MARTINEZ SALAZAR NAYELY</td>\n",
       "      <td>nayely.martinez@udea.edu.co</td>\n",
       "    </tr>\n",
       "    <tr>\n",
       "      <th>4</th>\n",
       "      <td>9.865454e+07</td>\n",
       "      <td>MARTÍNEZ TORREJANO HUMBERTO DE JESÚS</td>\n",
       "      <td>hdejesus.martinez@udea.edu.co</td>\n",
       "    </tr>\n",
       "  </tbody>\n",
       "</table>\n",
       "</div>"
      ],
      "text/plain": [
       "         Cédula                                Nombre  \\\n",
       "0  1.038136e+09        ÁLVARES OLIVEROS YULIETH PAOLA   \n",
       "1  1.063367e+09             CALDERA ASSIA BRYAN DAVID   \n",
       "2  1.007076e+09            LONDOÑO MONTERROSA JULIANA   \n",
       "3  1.007351e+09               MARTINEZ SALAZAR NAYELY   \n",
       "4  9.865454e+07  MARTÍNEZ TORREJANO HUMBERTO DE JESÚS   \n",
       "\n",
       "                           Email  \n",
       "0   yuliethp.alvarez@udea.edu.co  \n",
       "1      bryan.caldera@udea.edu.co  \n",
       "2   juliana.londonom@udea.edu.co  \n",
       "3    nayely.martinez@udea.edu.co  \n",
       "4  hdejesus.martinez@udea.edu.co  "
      ]
     },
     "execution_count": 2,
     "metadata": {},
     "output_type": "execute_result"
    }
   ],
   "source": [
    "grupoCalculo_df.head() "
   ]
  },
  {
   "cell_type": "code",
   "execution_count": 5,
   "id": "3531b3aa",
   "metadata": {
    "slideshow": {
     "slide_type": "slide"
    }
   },
   "outputs": [
    {
     "data": {
      "text/plain": [
       "ÁLVARES OLIVEROS YULIETH PAOLA           [21, 32, 8]\n",
       "CALDERA ASSIA BRYAN DAVID                 [33, 4, 6]\n",
       "LONDOÑO MONTERROSA JULIANA              [12, 26, 30]\n",
       "MARTINEZ SALAZAR NAYELY                  [3, 16, 17]\n",
       "MARTÍNEZ TORREJANO HUMBERTO DE JESÚS      [5, 14, 2]\n",
       "MORENO BERVEL EVA SANDRITH               [11, 18, 9]\n",
       "MOSQUERA PALACIO ANYI YULIETH            [25, 24, 1]\n",
       "PEREZ CONTRERAS YESSICA PAOLA           [23, 27, 13]\n",
       "RESTAN OSPINA LUZ CELESTE               [28, 31, 15]\n",
       "TUBERQUIA AREIZA YURI ALEXANDRA         [19, 22, 29]\n",
       "Isabel Cristina                          [10, 7, 20]\n",
       "dtype: object"
      ]
     },
     "execution_count": 5,
     "metadata": {},
     "output_type": "execute_result"
    }
   ],
   "source": [
    "# Función para asignar grupos de ejercicios sin repetición\n",
    "import numpy as np \n",
    "import pandas as pd \n",
    "\n",
    "grupoCalculo_df = pd.read_csv('grupo_calculo.csv')\n",
    "\n",
    "\n",
    "n_ejer_asignados = 3\n",
    "tamaño_taller = 33\n",
    "estudiantes = grupoCalculo_df.Nombre\n",
    "\n",
    "def asignacion_parcial(estudiantes, tamaño_taller, n_ejer_asignados):\n",
    "    np.random.seed(513)\n",
    "    lista_ejercicios = list(range(1,tamaño_taller+1))  \n",
    "    # Construyamos una matriz cuyas filas sean los ejercicios asignados por estudiante\n",
    "    matriz_ejercicios = np.zeros( (len(estudiantes), n_ejer_asignados) , dtype = np.int32)\n",
    "    for estudiante in range(len(estudiantes)):\n",
    "        for ejercicio in range(n_ejer_asignados):\n",
    "            matriz_ejercicios[estudiante, ejercicio] = np.random.choice(lista_ejercicios)\n",
    "            lista_ejercicios.remove(matriz_ejercicios[estudiante, ejercicio])\n",
    "    asignación = pd.Series(\n",
    "                           {estudiante:matriz_ejercicios[i,:] \\\n",
    "                            for estudiante,i in zip(estudiantes, range(len(estudiantes)))\n",
    "                             }\n",
    "                             )        \n",
    "    return  asignación\n",
    "\n",
    "asignacion_parcial(estudiantes, tamaño_taller, n_ejer_asignados)\n"
   ]
  },
  {
   "cell_type": "markdown",
   "id": "4e250cad",
   "metadata": {
    "slideshow": {
     "slide_type": "slide"
    }
   },
   "source": [
    "## La derivada"
   ]
  },
  {
   "cell_type": "markdown",
   "id": "ed8dfe49",
   "metadata": {
    "slideshow": {
     "slide_type": "slide"
    }
   },
   "source": [
    "### Presentación "
   ]
  },
  {
   "cell_type": "markdown",
   "id": "bed4439a",
   "metadata": {
    "slideshow": {
     "slide_type": "slide"
    }
   },
   "source": [
    "La maximización de utilidades de un fabricante que distribuye televisores para la venta es \n",
    "\n",
    "$$ p(x) = 400(15 - x)(x-2) $$\n",
    "\n",
    "expresados en miles de pesos, \n"
   ]
  },
  {
   "cell_type": "code",
   "execution_count": null,
   "id": "477e54ff",
   "metadata": {
    "slideshow": {
     "slide_type": "slide"
    }
   },
   "outputs": [],
   "source": []
  },
  {
   "cell_type": "code",
   "execution_count": 40,
   "id": "cec31a17",
   "metadata": {
    "slideshow": {
     "slide_type": "slide"
    }
   },
   "outputs": [
    {
     "data": {
      "text/plain": [
       "'PEREZ CONTRERAS YESSICA PAOLA'"
      ]
     },
     "execution_count": 40,
     "metadata": {},
     "output_type": "execute_result"
    }
   ],
   "source": [
    "def estudiante_que_va_a_participar():\n",
    "    import numpy as np \n",
    "    import pandas as pd \n",
    "\n",
    "    grupo_calculo = pd.read_csv('grupo_calculo.csv', sep = ',')\n",
    "\n",
    "    from random import choice\n",
    "\n",
    "    return choice(grupo_calculo.Nombre)\n",
    "\n",
    "estudiante_que_va_a_participar() "
   ]
  },
  {
   "cell_type": "markdown",
   "id": "97c96885",
   "metadata": {
    "slideshow": {
     "slide_type": "slide"
    }
   },
   "source": [
    "## Determine \n",
    "\n",
    "Determine la pendiente de la curva en el punto (3,7) si $f(x) = y = 2x + 1$\n",
    "\n",
    "$$ \\lim_{x \\to 3} \\frac{f(x) - f(3)}{x - 3} = 2 $$\n"
   ]
  },
  {
   "cell_type": "markdown",
   "id": "a11cffe8",
   "metadata": {
    "slideshow": {
     "slide_type": "slide"
    }
   },
   "source": [
    "## Ejemplo Calcule la pendiente de la curva en el punto indicado\n",
    "\n",
    "$f(x) = x^{2}$ en el punto $(1,1)$"
   ]
  },
  {
   "cell_type": "markdown",
   "id": "6689b366",
   "metadata": {
    "slideshow": {
     "slide_type": "slide"
    }
   },
   "source": [
    "## Solución:"
   ]
  },
  {
   "cell_type": "markdown",
   "id": "233a77c5",
   "metadata": {
    "slideshow": {
     "slide_type": "slide"
    }
   },
   "source": [
    "Cuando se pide la pendiente de una curva en un punto de ella, significa que queremos la pendiente de la recta tangente a la curva en dicho punto, es decir, la velocidad instantánea de variación de $f$. "
   ]
  },
  {
   "cell_type": "markdown",
   "id": "471cddea",
   "metadata": {
    "slideshow": {
     "slide_type": "slide"
    }
   },
   "source": [
    "Esta pendiente se haya a través del siguiente límite:\n",
    "\n",
    "$$ m(1) = \\lim_{x \\to 1} \\frac{f(x) - f(1)}{x - 1}  $$\n"
   ]
  },
  {
   "cell_type": "markdown",
   "id": "2f8bfb24",
   "metadata": {
    "slideshow": {
     "slide_type": "slide"
    }
   },
   "source": [
    "$$ m(1) = \\lim_{x \\to 1} \\frac{(x)^{2} - (1)^{2}}{x - 1} $$"
   ]
  },
  {
   "cell_type": "markdown",
   "id": "9c4a9136",
   "metadata": {
    "slideshow": {
     "slide_type": "slide"
    }
   },
   "source": [
    "$$ m(1) = \\lim_{x \\to 1} \\frac{(x-1)(x+1)}{x-1} $$"
   ]
  },
  {
   "cell_type": "markdown",
   "id": "2295d114",
   "metadata": {
    "slideshow": {
     "slide_type": "slide"
    }
   },
   "source": [
    "$$ m(1) = \\lim_{x \\to 1} x+1 = 1+1 = 2 $$"
   ]
  },
  {
   "cell_type": "markdown",
   "id": "4e80f40a",
   "metadata": {
    "slideshow": {
     "slide_type": "slide"
    }
   },
   "source": [
    "Por lo tanto, la velocidad de crecimiento instantánea de la función $x^{2}$ en $x = 1$ es 2. "
   ]
  },
  {
   "cell_type": "markdown",
   "id": "960b9995",
   "metadata": {},
   "source": [
    "Verifiquemos esto gráficamente:"
   ]
  },
  {
   "cell_type": "code",
   "execution_count": 14,
   "id": "c0100282",
   "metadata": {
    "scrolled": true,
    "slideshow": {
     "slide_type": "slide"
    }
   },
   "outputs": [
    {
     "data": {
      "image/png": "[encoded data removed]",
      "text/plain": [
       "<Figure size 432x288 with 1 Axes>"
      ]
     },
     "metadata": {
      "needs_background": "light"
     },
     "output_type": "display_data"
    }
   ],
   "source": [
    "import numpy as np \n",
    "import matplotlib.pyplot as plt \n",
    "\n",
    "fig, ax = plt.subplots() \n",
    "\n",
    "x = np.linspace(-1,3,20)\n",
    "\n",
    "ax.plot(x,x**2, color = 'black') \n",
    "\n",
    "ax.plot(x,2*(x-1) + 1, color = 'red', alpha = 0.4)  # Ecuación de una recta y = m(x-x0) + y0\n",
    "\n",
    "plt.grid(True) \n",
    "\n",
    "plt.show() \n"
   ]
  },
  {
   "cell_type": "markdown",
   "id": "1526556a",
   "metadata": {
    "slideshow": {
     "slide_type": "slide"
    }
   },
   "source": [
    "## Determine la pendiente general de la curva $f(x) = x^{2}$"
   ]
  },
  {
   "cell_type": "markdown",
   "id": "4843d71a",
   "metadata": {
    "slideshow": {
     "slide_type": "slide"
    }
   },
   "source": [
    "## Solución:"
   ]
  },
  {
   "cell_type": "markdown",
   "id": "909d317d",
   "metadata": {
    "slideshow": {
     "slide_type": "slide"
    }
   },
   "source": [
    "\\begin{align*}\n",
    "f'(x) & =  \\lim_{h \\to 0} \\frac{}{} \\\\\n",
    "      & = \n",
    "\\end{align*}"
   ]
  },
  {
   "cell_type": "markdown",
   "id": "82847af6",
   "metadata": {
    "slideshow": {
     "slide_type": "slide"
    }
   },
   "source": [
    "## Ejemplo\n",
    "\n",
    "Calcula la derivada de: \n",
    "\n",
    "\n",
    "$$ f(x) = x^{2} - 4x + 5 $$"
   ]
  },
  {
   "cell_type": "markdown",
   "id": "618019d8",
   "metadata": {
    "slideshow": {
     "slide_type": "slide"
    }
   },
   "source": [
    "### Solución:  \n"
   ]
  },
  {
   "cell_type": "markdown",
   "id": "e7b5d50a",
   "metadata": {
    "slideshow": {
     "slide_type": "slide"
    }
   },
   "source": [
    "## Ejemplo \n",
    "\n",
    "Calcule la derivada de: \n",
    "\n",
    "\n",
    "$$f(x) = \\sqrt{x} $$"
   ]
  },
  {
   "cell_type": "markdown",
   "id": "600ed0a1",
   "metadata": {
    "slideshow": {
     "slide_type": "slide"
    }
   },
   "source": [
    "$$f'(x) = \\lim_{\\Delta x \\to 0} \\frac{f(x + \\Delta x) - f(x)}{\\Delta x} $$"
   ]
  },
  {
   "cell_type": "markdown",
   "id": "738ec65f",
   "metadata": {
    "slideshow": {
     "slide_type": "slide"
    }
   },
   "source": [
    "$$ f'(x) = \\lim_{\\Delta x \\to 0} \\frac{\\sqrt{x + \\Delta x} - \\sqrt{x}}{\\Delta x} $$"
   ]
  },
  {
   "cell_type": "code",
   "execution_count": 26,
   "id": "17d71249",
   "metadata": {},
   "outputs": [
    {
     "data": {
      "text/plain": [
       "2.0"
      ]
     },
     "execution_count": 26,
     "metadata": {},
     "output_type": "execute_result"
    }
   ],
   "source": [
    "0.04*50"
   ]
  },
  {
   "cell_type": "markdown",
   "id": "b398430d",
   "metadata": {
    "slideshow": {
     "slide_type": "slide"
    }
   },
   "source": [
    "## Ejemplo Hallar la derivada por definición y con reglas de derivación de la función recíproca"
   ]
  },
  {
   "cell_type": "markdown",
   "id": "b838f502",
   "metadata": {
    "slideshow": {
     "slide_type": "slide"
    }
   },
   "source": [
    "$$ f(x) = \\frac{1}{x} $$"
   ]
  },
  {
   "cell_type": "markdown",
   "id": "c1bf78a6",
   "metadata": {
    "slideshow": {
     "slide_type": "slide"
    }
   },
   "source": [
    "## Solución:"
   ]
  },
  {
   "cell_type": "markdown",
   "id": "f8fd74d0",
   "metadata": {
    "slideshow": {
     "slide_type": "slide"
    }
   },
   "source": [
    "$$ f'(x) = \\lim_{h \\to 0} \\frac{f(x+h) - f(x)}{h} $$"
   ]
  },
  {
   "cell_type": "markdown",
   "id": "ab33af21",
   "metadata": {},
   "source": [
    "$$   = \\lim_{h \\to 0} \\frac{\\frac{1}{x+h} - \\frac{1}{x}}{h} $$"
   ]
  },
  {
   "cell_type": "markdown",
   "id": "2385913a",
   "metadata": {},
   "source": [
    "$$ = \\lim_{h \\to 0} \\frac{\\frac{x-(x+h)}{x(x+h)}}{h} $$"
   ]
  },
  {
   "cell_type": "markdown",
   "id": "22cd234f",
   "metadata": {
    "slideshow": {
     "slide_type": "slide"
    }
   },
   "source": [
    "$$ = \\lim_{h \\to 0} \\frac{\\frac{x-x-h}{x(x+h)}}{h} $$"
   ]
  },
  {
   "cell_type": "markdown",
   "id": "2c35d446",
   "metadata": {
    "slideshow": {
     "slide_type": "slide"
    }
   },
   "source": [
    "$$ = \\lim_{h \\to 0} \\frac{\\frac{-h}{x(x+h)}}{\\frac{h}{1}} $$"
   ]
  },
  {
   "cell_type": "markdown",
   "id": "f9b92526",
   "metadata": {
    "slideshow": {
     "slide_type": "slide"
    }
   },
   "source": [
    "$$ = \\lim_{h \\to 0} \\frac{-h}{hx(x+h)} $$"
   ]
  },
  {
   "cell_type": "markdown",
   "id": "350dcf78",
   "metadata": {
    "slideshow": {
     "slide_type": "slide"
    }
   },
   "source": [
    "$$ = \\lim_{h \\to 0} \\frac{-1}{x(x+h)} $$"
   ]
  },
  {
   "cell_type": "markdown",
   "id": "82a51e5e",
   "metadata": {
    "slideshow": {
     "slide_type": "slide"
    }
   },
   "source": [
    "$$ \\frac{-1}{x(x+0)} $$"
   ]
  },
  {
   "cell_type": "markdown",
   "id": "e0617f2d",
   "metadata": {
    "slideshow": {
     "slide_type": "slide"
    }
   },
   "source": [
    "$$ -\\frac{1}{x^{2}} $$"
   ]
  },
  {
   "cell_type": "markdown",
   "id": "c1cebf39",
   "metadata": {
    "slideshow": {
     "slide_type": "slide"
    }
   },
   "source": [
    "Por lo tanto: \n",
    "\n",
    "$$ f'(x) = -\\frac{1}{x^{2}}$$\n"
   ]
  },
  {
   "cell_type": "markdown",
   "id": "f685ebc2",
   "metadata": {
    "slideshow": {
     "slide_type": "slide"
    }
   },
   "source": [
    "**Conclusión verbal**  \n",
    "\n",
    "La derivada de la función recíproca es una función negativa, lo que quiere decir que ella es una función de velocidad negativa. >Es decir, una función decreciente. \n"
   ]
  },
  {
   "cell_type": "markdown",
   "id": "314edef1",
   "metadata": {},
   "source": [
    "## Ejemplo"
   ]
  },
  {
   "cell_type": "markdown",
   "id": "ed779da2",
   "metadata": {
    "slideshow": {
     "slide_type": "slide"
    }
   },
   "source": [
    "Calcular la derivada por definición de $$f(x) = x^{2} + 1$$"
   ]
  },
  {
   "cell_type": "markdown",
   "id": "f3c1ba4f",
   "metadata": {
    "slideshow": {
     "slide_type": "slide"
    }
   },
   "source": [
    "## Reglas de derivación"
   ]
  },
  {
   "cell_type": "markdown",
   "id": "1ec72d87",
   "metadata": {
    "slideshow": {
     "slide_type": "slide"
    }
   },
   "source": [
    "1. $$ D_{x}(x^{n}) = nx^{n-1} $$ "
   ]
  },
  {
   "cell_type": "markdown",
   "id": "49375645",
   "metadata": {
    "slideshow": {
     "slide_type": "slide"
    }
   },
   "source": [
    "2. $$D_{x}(k) = 0$$\n",
    "donde $k$ es una constante real "
   ]
  },
  {
   "cell_type": "markdown",
   "id": "f57bfee3",
   "metadata": {},
   "source": [
    "3. $$ D_{x}(cf(x)) = cf'(x) $$"
   ]
  },
  {
   "cell_type": "markdown",
   "id": "6fcd6f85",
   "metadata": {
    "slideshow": {
     "slide_type": "slide"
    }
   },
   "source": [
    "## Ejemplo 33 de la página 177 de larson"
   ]
  },
  {
   "cell_type": "markdown",
   "id": "00167ad6",
   "metadata": {
    "slideshow": {
     "slide_type": "slide"
    }
   },
   "source": [
    "Cuerda vibrante: "
   ]
  },
  {
   "cell_type": "code",
   "execution_count": 19,
   "id": "7cd3a5aa",
   "metadata": {
    "slideshow": {
     "slide_type": "slide"
    }
   },
   "outputs": [
    {
     "data": {
      "application/vnd.jupyter.widget-view+json": {
       "model_id": "214529e85e8243e6ad6423e388ad0192",
       "version_major": 2,
       "version_minor": 0
      },
      "text/plain": [
       "interactive(children=(FloatSlider(value=0.1, description='t', max=10.0, min=0.1), Output()), _dom_classes=('wi…"
      ]
     },
     "metadata": {},
     "output_type": "display_data"
    }
   ],
   "source": [
    "import numpy as np \n",
    "import matplotlib.pyplot as plt \n",
    "\n",
    "from ipywidgets import interact \n",
    "\n",
    "T = np.linspace(0, 10, 100)\n",
    "\n",
    "def f(t):\n",
    "    return 200*t**(1/2)\n",
    "\n",
    "def pendiente_curva(t = 0.1):\n",
    "    F = [f(t_) for t_ in T]\n",
    "    plt.plot(T,F, color = 'red')\n",
    "    m = 100/t**(1/2)\n",
    "    y = m*(T-t) + f(t)\n",
    "    plt.plot(T,y)\n",
    "    plt.title(r'$F = 200\\sqrt{T}$')\n",
    "    plt.xlabel('Tensión')\n",
    "    plt.ylabel('Frecuencia')\n",
    "    plt.axis([0,10,0,600])\n",
    "    plt.grid() \n",
    "\n",
    "interact(pendiente_curva, t = (0.1,10, 0.1))\n",
    "\n",
    "plt.show() "
   ]
  },
  {
   "cell_type": "markdown",
   "id": "37b6f966",
   "metadata": {
    "slideshow": {
     "slide_type": "slide"
    }
   },
   "source": [
    "## Ejemplo 34 del Larson"
   ]
  },
  {
   "cell_type": "code",
   "execution_count": 24,
   "id": "186ee74e",
   "metadata": {},
   "outputs": [
    {
     "data": {
      "text/plain": [
       "0.0"
      ]
     },
     "execution_count": 24,
     "metadata": {},
     "output_type": "execute_result"
    }
   ],
   "source": [
    "-16*(2.5)**2+100"
   ]
  },
  {
   "cell_type": "code",
   "execution_count": 25,
   "id": "602284e9",
   "metadata": {
    "slideshow": {
     "slide_type": "slide"
    }
   },
   "outputs": [],
   "source": [
    "def s1(t):\n",
    "    return -16*t**2 + 100"
   ]
  },
  {
   "cell_type": "code",
   "execution_count": 29,
   "id": "89b8d177",
   "metadata": {},
   "outputs": [
    {
     "data": {
      "text/plain": [
       "0.0"
      ]
     },
     "execution_count": 29,
     "metadata": {},
     "output_type": "execute_result"
    }
   ],
   "source": [
    "s1(2.5)"
   ]
  },
  {
   "cell_type": "code",
   "execution_count": 30,
   "id": "1ffeac91",
   "metadata": {},
   "outputs": [
    {
     "data": {
      "text/plain": [
       "2.165063509461097"
      ]
     },
     "execution_count": 30,
     "metadata": {},
     "output_type": "execute_result"
    }
   ],
   "source": [
    "(75/16)**(1/2)"
   ]
  },
  {
   "cell_type": "markdown",
   "id": "ec806eec",
   "metadata": {
    "slideshow": {
     "slide_type": "slide"
    }
   },
   "source": [
    "## 113. Profundidad   \n",
    "\n",
    "Página 179 del Larson (La respuesta a este ejercicio la encuentras en la página 759 del larson)\n",
    "\n",
    "La sección transversal de un canal de 5 metros es un trapezoide isósceles con base menor de dos metros, base mayor de tres metros y una altura de dos metros.   \n",
    "\n",
    "El agua corre por el canal a un ritmo de un metro cúbico por minuto. \n",
    "\n",
    "¿Con qué rapidez aumenta el nivel del agua cuando ésta tiene un \n",
    "metro de profundidad?"
   ]
  },
  {
   "cell_type": "markdown",
   "id": "897e565c",
   "metadata": {
    "slideshow": {
     "slide_type": "slide"
    }
   },
   "source": [
    "## Solución "
   ]
  },
  {
   "cell_type": "markdown",
   "id": "c332766e",
   "metadata": {
    "slideshow": {
     "slide_type": "slide"
    }
   },
   "source": [
    "Calculemos el volumen de la canal cuando enta llana hasta una profuncidad $h$:\n",
    "\n",
    "$$v = \\left( \\frac{2 + (2r+2)}{2}(h) \\right) 5$$\n",
    "donde \n",
    "\n",
    "$$ \\frac{r}{h} = \\frac{0.5}{2} $$\n"
   ]
  },
  {
   "cell_type": "markdown",
   "id": "60638105",
   "metadata": {
    "slideshow": {
     "slide_type": "slide"
    }
   },
   "source": [
    "$$ r = \\frac{1}{4}h $$"
   ]
  },
  {
   "cell_type": "markdown",
   "id": "bc107b6e",
   "metadata": {
    "slideshow": {
     "slide_type": "slide"
    }
   },
   "source": [
    "$$v = 5h \\cdot \\frac{4 + 2r}{2} $$"
   ]
  },
  {
   "cell_type": "markdown",
   "id": "196263da",
   "metadata": {
    "slideshow": {
     "slide_type": "slide"
    }
   },
   "source": [
    "$$ v = 5h \\cdot \\frac{2(2+r)}{2} $$"
   ]
  },
  {
   "cell_type": "markdown",
   "id": "4237fd89",
   "metadata": {
    "slideshow": {
     "slide_type": "slide"
    }
   },
   "source": [
    "$$ v = 5h \\cdot (2+r) $$"
   ]
  },
  {
   "cell_type": "markdown",
   "id": "11bd1936",
   "metadata": {
    "slideshow": {
     "slide_type": "slide"
    }
   },
   "source": [
    "$$v = 10h + 5hr $$"
   ]
  },
  {
   "cell_type": "markdown",
   "id": "48b7d0bb",
   "metadata": {
    "slideshow": {
     "slide_type": "slide"
    }
   },
   "source": [
    "$$ v = 10h + 5h\\left( \\frac{1}{4}h \\right) $$"
   ]
  },
  {
   "cell_type": "markdown",
   "id": "34d0f19f",
   "metadata": {
    "slideshow": {
     "slide_type": "slide"
    }
   },
   "source": [
    "$$ v = 10h + \\frac{5}{4}h^{2} $$"
   ]
  },
  {
   "cell_type": "markdown",
   "id": "a7739e59",
   "metadata": {
    "slideshow": {
     "slide_type": "slide"
    }
   },
   "source": [
    "$$ \\frac{dv}{dt} = 10\\frac{dh}{dt} + \\frac{5}{2}h\\frac{dh}{dt} $$"
   ]
  },
  {
   "cell_type": "code",
   "execution_count": null,
   "id": "5bd93588",
   "metadata": {},
   "outputs": [],
   "source": []
  }
 ],
 "metadata": {
  "celltoolbar": "Slideshow",
  "kernelspec": {
   "display_name": "Python 3 (ipykernel)",
   "language": "python",
   "name": "python3"
  },
  "language_info": {
   "codemirror_mode": {
    "name": "ipython",
    "version": 3
   },
   "file_extension": ".py",
   "mimetype": "text/x-python",
   "name": "python",
   "nbconvert_exporter": "python",
   "pygments_lexer": "ipython3",
   "version": "3.9.7"
  },
  "latex_envs": {
   "LaTeX_envs_menu_present": true,
   "autoclose": false,
   "autocomplete": true,
   "bibliofile": "biblio.bib",
   "cite_by": "apalike",
   "current_citInitial": 1,
   "eqLabelWithNumbers": true,
   "eqNumInitial": 1,
   "hotkeys": {
    "equation": "Ctrl-E",
    "itemize": "Ctrl-I"
   },
   "labels_anchors": false,
   "latex_user_defs": false,
   "report_style_numbering": false,
   "user_envs_cfg": false
  }
 },
 "nbformat": 4,
 "nbformat_minor": 5
}
