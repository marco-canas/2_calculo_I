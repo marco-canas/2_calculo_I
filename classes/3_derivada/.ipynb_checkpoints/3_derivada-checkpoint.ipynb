{
 "cells": [
  {
   "cell_type": "markdown",
   "id": "02266126",
   "metadata": {
    "slideshow": {
     "slide_type": "slide"
    }
   },
   "source": [
    "# Unidad 3"
   ]
  },
  {
   "cell_type": "code",
   "execution_count": 44,
   "id": "4978ef0c",
   "metadata": {
    "scrolled": true,
    "slideshow": {
     "slide_type": "slide"
    }
   },
   "outputs": [
    {
     "ename": "ValueError",
     "evalue": "Shape of passed values is (11, 3), indices imply (11, 2)",
     "output_type": "error",
     "traceback": [
      "\u001b[1;31m---------------------------------------------------------------------------\u001b[0m",
      "\u001b[1;31mValueError\u001b[0m                                Traceback (most recent call last)",
      "\u001b[1;32m~\\AppData\\Local\\Temp/ipykernel_2304/4071573668.py\u001b[0m in \u001b[0;36m<module>\u001b[1;34m\u001b[0m\n\u001b[0;32m     25\u001b[0m     \u001b[1;32mreturn\u001b[0m \u001b[0mtabla\u001b[0m\u001b[1;33m\u001b[0m\u001b[1;33m\u001b[0m\u001b[0m\n\u001b[0;32m     26\u001b[0m \u001b[1;33m\u001b[0m\u001b[0m\n\u001b[1;32m---> 27\u001b[1;33m \u001b[0masignacion_parcial\u001b[0m\u001b[1;33m(\u001b[0m\u001b[0mestudiantes\u001b[0m\u001b[1;33m,\u001b[0m \u001b[0mtamaño_taller\u001b[0m\u001b[1;33m,\u001b[0m \u001b[0mn_ejer_asignados\u001b[0m\u001b[1;33m)\u001b[0m\u001b[1;33m\u001b[0m\u001b[1;33m\u001b[0m\u001b[0m\n\u001b[0m",
      "\u001b[1;32m~\\AppData\\Local\\Temp/ipykernel_2304/4071573668.py\u001b[0m in \u001b[0;36masignacion_parcial\u001b[1;34m(estudiantes, tamaño_taller, n_ejer_asignados)\u001b[0m\n\u001b[0;32m     20\u001b[0m             \u001b[0mlista_ejercicios\u001b[0m\u001b[1;33m.\u001b[0m\u001b[0mremove\u001b[0m\u001b[1;33m(\u001b[0m\u001b[0mmatriz_ejercicios\u001b[0m\u001b[1;33m[\u001b[0m\u001b[0mestudiante\u001b[0m\u001b[1;33m,\u001b[0m \u001b[0mejercicio\u001b[0m\u001b[1;33m]\u001b[0m\u001b[1;33m)\u001b[0m\u001b[1;33m\u001b[0m\u001b[1;33m\u001b[0m\u001b[0m\n\u001b[0;32m     21\u001b[0m \u001b[1;33m\u001b[0m\u001b[0m\n\u001b[1;32m---> 22\u001b[1;33m     tabla = pd.DataFrame(matriz_ejercicios,\\\n\u001b[0m\u001b[0;32m     23\u001b[0m                      \u001b[0mcolumns\u001b[0m \u001b[1;33m=\u001b[0m \u001b[1;33m[\u001b[0m\u001b[1;34m'estudiante'\u001b[0m\u001b[1;33m,\u001b[0m \u001b[1;34m'ejercicios asignados'\u001b[0m\u001b[1;33m]\u001b[0m\u001b[1;33m,\u001b[0m\u001b[0;31m\\\u001b[0m\u001b[1;33m\u001b[0m\u001b[1;33m\u001b[0m\u001b[0m\n\u001b[0;32m     24\u001b[0m                      index = np.arange(1,len(estudiantes)+1))\n",
      "\u001b[1;32m~\\anaconda3\\lib\\site-packages\\pandas\\core\\frame.py\u001b[0m in \u001b[0;36m__init__\u001b[1;34m(self, data, index, columns, dtype, copy)\u001b[0m\n\u001b[0;32m    670\u001b[0m                 )\n\u001b[0;32m    671\u001b[0m             \u001b[1;32melse\u001b[0m\u001b[1;33m:\u001b[0m\u001b[1;33m\u001b[0m\u001b[1;33m\u001b[0m\u001b[0m\n\u001b[1;32m--> 672\u001b[1;33m                 mgr = ndarray_to_mgr(\n\u001b[0m\u001b[0;32m    673\u001b[0m                     \u001b[0mdata\u001b[0m\u001b[1;33m,\u001b[0m\u001b[1;33m\u001b[0m\u001b[1;33m\u001b[0m\u001b[0m\n\u001b[0;32m    674\u001b[0m                     \u001b[0mindex\u001b[0m\u001b[1;33m,\u001b[0m\u001b[1;33m\u001b[0m\u001b[1;33m\u001b[0m\u001b[0m\n",
      "\u001b[1;32m~\\anaconda3\\lib\\site-packages\\pandas\\core\\internals\\construction.py\u001b[0m in \u001b[0;36mndarray_to_mgr\u001b[1;34m(values, index, columns, dtype, copy, typ)\u001b[0m\n\u001b[0;32m    322\u001b[0m     )\n\u001b[0;32m    323\u001b[0m \u001b[1;33m\u001b[0m\u001b[0m\n\u001b[1;32m--> 324\u001b[1;33m     \u001b[0m_check_values_indices_shape_match\u001b[0m\u001b[1;33m(\u001b[0m\u001b[0mvalues\u001b[0m\u001b[1;33m,\u001b[0m \u001b[0mindex\u001b[0m\u001b[1;33m,\u001b[0m \u001b[0mcolumns\u001b[0m\u001b[1;33m)\u001b[0m\u001b[1;33m\u001b[0m\u001b[1;33m\u001b[0m\u001b[0m\n\u001b[0m\u001b[0;32m    325\u001b[0m \u001b[1;33m\u001b[0m\u001b[0m\n\u001b[0;32m    326\u001b[0m     \u001b[1;32mif\u001b[0m \u001b[0mtyp\u001b[0m \u001b[1;33m==\u001b[0m \u001b[1;34m\"array\"\u001b[0m\u001b[1;33m:\u001b[0m\u001b[1;33m\u001b[0m\u001b[1;33m\u001b[0m\u001b[0m\n",
      "\u001b[1;32m~\\anaconda3\\lib\\site-packages\\pandas\\core\\internals\\construction.py\u001b[0m in \u001b[0;36m_check_values_indices_shape_match\u001b[1;34m(values, index, columns)\u001b[0m\n\u001b[0;32m    391\u001b[0m         \u001b[0mpassed\u001b[0m \u001b[1;33m=\u001b[0m \u001b[0mvalues\u001b[0m\u001b[1;33m.\u001b[0m\u001b[0mshape\u001b[0m\u001b[1;33m\u001b[0m\u001b[1;33m\u001b[0m\u001b[0m\n\u001b[0;32m    392\u001b[0m         \u001b[0mimplied\u001b[0m \u001b[1;33m=\u001b[0m \u001b[1;33m(\u001b[0m\u001b[0mlen\u001b[0m\u001b[1;33m(\u001b[0m\u001b[0mindex\u001b[0m\u001b[1;33m)\u001b[0m\u001b[1;33m,\u001b[0m \u001b[0mlen\u001b[0m\u001b[1;33m(\u001b[0m\u001b[0mcolumns\u001b[0m\u001b[1;33m)\u001b[0m\u001b[1;33m)\u001b[0m\u001b[1;33m\u001b[0m\u001b[1;33m\u001b[0m\u001b[0m\n\u001b[1;32m--> 393\u001b[1;33m         \u001b[1;32mraise\u001b[0m \u001b[0mValueError\u001b[0m\u001b[1;33m(\u001b[0m\u001b[1;34mf\"Shape of passed values is {passed}, indices imply {implied}\"\u001b[0m\u001b[1;33m)\u001b[0m\u001b[1;33m\u001b[0m\u001b[1;33m\u001b[0m\u001b[0m\n\u001b[0m\u001b[0;32m    394\u001b[0m \u001b[1;33m\u001b[0m\u001b[0m\n\u001b[0;32m    395\u001b[0m \u001b[1;33m\u001b[0m\u001b[0m\n",
      "\u001b[1;31mValueError\u001b[0m: Shape of passed values is (11, 3), indices imply (11, 2)"
     ]
    }
   ],
   "source": [
    "import numpy as np \n",
    "import pandas as pd \n",
    "\n",
    "grupoCalculo_df = pd.read_csv('grupo_calculo.csv')\n",
    "\n",
    "\n",
    "n_ejer_asignados = 3\n",
    "tamaño_taller = 33\n",
    "estudiantes = grupoCalculo_df.Nombre\n",
    "\n",
    "def asignacion_parcial(estudiantes, tamaño_taller, n_ejer_asignados):\n",
    "    np.random.seed(513)\n",
    "    lista_ejercicios = list(range(1,tamaño_taller+1))  \n",
    "    # Construyamos una matriz cuyas filas sean los ejercicios asignados por estudiante\n",
    "    matriz_ejercicios = np.zeros( (len(estudiantes), n_ejer_asignados) )\n",
    "    \n",
    "    for estudiante in range(len(estudiantes)):\n",
    "        for ejercicio in range(n_ejer_asignados):\n",
    "            matriz_ejercicios[estudiante, ejercicio] = np.random.choice(lista_ejercicios)\n",
    "            lista_ejercicios.remove(matriz_ejercicios[estudiante, ejercicio])\n",
    "            \n",
    "    tabla = pd.DataFrame(matriz_ejercicios,\\\n",
    "                     columns = ['estudiante', 'ejercicios asignados'],\\\n",
    "                     index = np.arange(1,len(estudiantes)+1))\n",
    "    return tabla \n",
    "\n",
    "asignacion_parcial(estudiantes, tamaño_taller, n_ejer_asignados)"
   ]
  },
  {
   "cell_type": "code",
   "execution_count": 46,
   "id": "edcae5a3",
   "metadata": {},
   "outputs": [],
   "source": []
  },
  {
   "cell_type": "code",
   "execution_count": 47,
   "id": "74c55eab",
   "metadata": {
    "slideshow": {
     "slide_type": "slide"
    }
   },
   "outputs": [
    {
     "data": {
      "text/plain": [
       "0           ÁLVARES OLIVEROS YULIETH PAOLA\n",
       "1                CALDERA ASSIA BRYAN DAVID\n",
       "2               LONDOÑO MONTERROSA JULIANA\n",
       "3                  MARTINEZ SALAZAR NAYELY\n",
       "4     MARTÍNEZ TORREJANO HUMBERTO DE JESÚS\n",
       "5               MORENO BERVEL EVA SANDRITH\n",
       "6            MOSQUERA PALACIO ANYI YULIETH\n",
       "7            PEREZ CONTRERAS YESSICA PAOLA\n",
       "8                RESTAN OSPINA LUZ CELESTE\n",
       "9          TUBERQUIA AREIZA YURI ALEXANDRA\n",
       "10                        Isabel Cristina \n",
       "Name: Nombre, dtype: object"
      ]
     },
     "execution_count": 47,
     "metadata": {},
     "output_type": "execute_result"
    }
   ],
   "source": [
    "estudiantes "
   ]
  },
  {
   "cell_type": "code",
   "execution_count": 75,
   "id": "3531b3aa",
   "metadata": {
    "slideshow": {
     "slide_type": "slide"
    }
   },
   "outputs": [
    {
     "data": {
      "text/plain": [
       "ÁLVARES OLIVEROS YULIETH PAOLA           [21, 32, 8]\n",
       "CALDERA ASSIA BRYAN DAVID                 [33, 4, 6]\n",
       "LONDOÑO MONTERROSA JULIANA              [12, 26, 30]\n",
       "MARTINEZ SALAZAR NAYELY                  [3, 16, 17]\n",
       "MARTÍNEZ TORREJANO HUMBERTO DE JESÚS      [5, 14, 2]\n",
       "MORENO BERVEL EVA SANDRITH               [11, 18, 9]\n",
       "MOSQUERA PALACIO ANYI YULIETH            [25, 24, 1]\n",
       "PEREZ CONTRERAS YESSICA PAOLA           [23, 27, 13]\n",
       "RESTAN OSPINA LUZ CELESTE               [28, 31, 15]\n",
       "TUBERQUIA AREIZA YURI ALEXANDRA         [19, 22, 29]\n",
       "Isabel Cristina                          [10, 7, 20]\n",
       "dtype: object"
      ]
     },
     "execution_count": 75,
     "metadata": {},
     "output_type": "execute_result"
    }
   ],
   "source": [
    "# Función para asignar grupos de ejercicios sin repetición\n",
    "import numpy as np \n",
    "import pandas as pd \n",
    "\n",
    "grupoCalculo_df = pd.read_csv('grupo_calculo.csv')\n",
    "\n",
    "\n",
    "n_ejer_asignados = 3\n",
    "tamaño_taller = 33\n",
    "estudiantes = grupoCalculo_df.Nombre\n",
    "\n",
    "def asignacion_parcial(estudiantes, tamaño_taller, n_ejer_asignados):\n",
    "    np.random.seed(513)\n",
    "    lista_ejercicios = list(range(1,tamaño_taller+1))  \n",
    "    # Construyamos una matriz cuyas filas sean los ejercicios asignados por estudiante\n",
    "    matriz_ejercicios = np.zeros( (len(estudiantes), n_ejer_asignados) , dtype = np.int32)\n",
    "    for estudiante in range(len(estudiantes)):\n",
    "        for ejercicio in range(n_ejer_asignados):\n",
    "            matriz_ejercicios[estudiante, ejercicio] = np.random.choice(lista_ejercicios)\n",
    "            lista_ejercicios.remove(matriz_ejercicios[estudiante, ejercicio])\n",
    "    asignación = pd.Series(\n",
    "                           {estudiante:matriz_ejercicios[i,:] \\\n",
    "                            for estudiante,i in zip(estudiantes, range(len(estudiantes)))\n",
    "                             }\n",
    "                             )        \n",
    "    return  asignación\n",
    "\n",
    "asignacion_parcial(estudiantes, tamaño_taller, n_ejer_asignados)\n"
   ]
  },
  {
   "cell_type": "markdown",
   "id": "4e250cad",
   "metadata": {
    "slideshow": {
     "slide_type": "slide"
    }
   },
   "source": [
    "## La derivada"
   ]
  },
  {
   "cell_type": "markdown",
   "id": "ed8dfe49",
   "metadata": {
    "slideshow": {
     "slide_type": "slide"
    }
   },
   "source": [
    "### Presentación "
   ]
  },
  {
   "cell_type": "markdown",
   "id": "bed4439a",
   "metadata": {
    "slideshow": {
     "slide_type": "slide"
    }
   },
   "source": [
    "La maximización de utilidades de un fabricante que distribuye televisores para la venta es \n",
    "\n",
    "$$ p(x) = 400(15 - x)(x-2) $$\n",
    "\n",
    "expresados en miles de pesos, \n"
   ]
  },
  {
   "cell_type": "code",
   "execution_count": null,
   "id": "477e54ff",
   "metadata": {
    "slideshow": {
     "slide_type": "slide"
    }
   },
   "outputs": [],
   "source": []
  },
  {
   "cell_type": "markdown",
   "id": "60b79ef7",
   "metadata": {
    "slideshow": {
     "slide_type": "slide"
    }
   },
   "source": [
    "## Justificación "
   ]
  },
  {
   "cell_type": "markdown",
   "id": "a83a2e86",
   "metadata": {
    "slideshow": {
     "slide_type": "slide"
    }
   },
   "source": [
    "Los conocimientos matemáticos constituyen un aporte integral en la formación del futuro profesional, ya que al conocer los conceptos básicos y su metodología estará preparado para desarrollar y evaluar los resultados de una investigación y demés informaciones que se obtengan como el producto de su trabajo, en el desempeño de su queahacer con la empresa y/o negocio independiente. "
   ]
  },
  {
   "cell_type": "markdown",
   "id": "f249a8ca",
   "metadata": {
    "slideshow": {
     "slide_type": "slide"
    }
   },
   "source": [
    "## Competencias a desarrollar"
   ]
  },
  {
   "cell_type": "markdown",
   "id": "9fe89a64",
   "metadata": {
    "slideshow": {
     "slide_type": "slide"
    }
   },
   "source": [
    "### Para el desarrollo del conocer o cognoscitivas"
   ]
  },
  {
   "cell_type": "markdown",
   "id": "5679e580",
   "metadata": {
    "slideshow": {
     "slide_type": "slide"
    }
   },
   "source": [
    "* Conoce u utiliza las reglas de derivación.\n",
    "* Conoce y utiliza las reglas de derivación de funciones logarítmicas y exponenciales. \n",
    "* Conoce y utiliza la regla de la cadena. \n",
    "* Conoce y utiliza la regla de derivación implícita. "
   ]
  },
  {
   "cell_type": "markdown",
   "id": "610bf032",
   "metadata": {
    "slideshow": {
     "slide_type": "slide"
    }
   },
   "source": [
    "## Para el desarrollo del hacer o precedimentales"
   ]
  },
  {
   "cell_type": "markdown",
   "id": "998d65a1",
   "metadata": {
    "slideshow": {
     "slide_type": "slide"
    }
   },
   "source": [
    "* Determina la derivada de una función\n",
    "* aplica la derivada de orden superior\n",
    "* calcula valores máximos y mínimos de una función\n",
    "* Determina la derivada dada una ecuación implícita. \n",
    "* Aplica las propiedades de las derivadas\n",
    "* Representa graficamente valores máximos y mínimos, concavidades de funciones.\n",
    "* resuelve problemas de aplicación de la derivada. "
   ]
  },
  {
   "cell_type": "markdown",
   "id": "fe47761a",
   "metadata": {
    "slideshow": {
     "slide_type": "slide"
    }
   },
   "source": [
    "## Objetivo general de la asignatura"
   ]
  },
  {
   "cell_type": "markdown",
   "id": "91e46b3b",
   "metadata": {
    "slideshow": {
     "slide_type": "slide"
    }
   },
   "source": [
    "Aplicar el estudio del cálculo diferencial, que trata de cómo una cantidad varía con relación a otra. "
   ]
  },
  {
   "cell_type": "code",
   "execution_count": 23,
   "id": "cec31a17",
   "metadata": {
    "slideshow": {
     "slide_type": "slide"
    }
   },
   "outputs": [
    {
     "data": {
      "text/plain": [
       "'MARTINEZ SALAZAR NAYELY'"
      ]
     },
     "execution_count": 23,
     "metadata": {},
     "output_type": "execute_result"
    }
   ],
   "source": [
    "def estudiante_que_va_a_participar():\n",
    "    import numpy as np \n",
    "    import pandas as pd \n",
    "\n",
    "    grupo_calculo = pd.read_csv('grupo_calculo.csv', sep = ',')\n",
    "\n",
    "    from random import choice\n",
    "\n",
    "    return choice(grupo_calculo.Nombre)\n",
    "\n",
    "estudiante_que_va_a_participar() "
   ]
  },
  {
   "cell_type": "markdown",
   "id": "97c96885",
   "metadata": {
    "slideshow": {
     "slide_type": "slide"
    }
   },
   "source": [
    "## Determine \n",
    "\n",
    "Determine la pendiente de la curva en el punto (3,7) si $f(x) = y = 2x + 1$\n",
    "\n",
    "$$ \\lim_{x \\to 3} \\frac{f(x) - f(3)}{x - 3} = 2 $$\n"
   ]
  },
  {
   "cell_type": "markdown",
   "id": "a11cffe8",
   "metadata": {
    "slideshow": {
     "slide_type": "slide"
    }
   },
   "source": [
    "## Ejemplo Calcule la pendiente de la curva en el punto indicado\n",
    "\n",
    "$f(x) = x^{2}$ en $(1,2)$"
   ]
  },
  {
   "cell_type": "markdown",
   "id": "82847af6",
   "metadata": {
    "slideshow": {
     "slide_type": "slide"
    }
   },
   "source": [
    "## Ejemplo\n",
    "\n",
    "Calcula la derivada de: \n",
    "\n",
    "\n",
    "$$ f(x) = x^{2} - 4x + 5 $$"
   ]
  },
  {
   "cell_type": "markdown",
   "id": "618019d8",
   "metadata": {
    "slideshow": {
     "slide_type": "slide"
    }
   },
   "source": [
    "### Solución:  \n"
   ]
  },
  {
   "cell_type": "markdown",
   "id": "e7b5d50a",
   "metadata": {
    "slideshow": {
     "slide_type": "slide"
    }
   },
   "source": [
    "## Ejemplo \n",
    "\n",
    "Calcule la derivada de: \n",
    "\n",
    "\n",
    "$$f(x) = \\sqrt{x} $$"
   ]
  },
  {
   "cell_type": "markdown",
   "id": "600ed0a1",
   "metadata": {
    "slideshow": {
     "slide_type": "slide"
    }
   },
   "source": [
    "$$f'(x) = \\lim_{\\Delta x \\to 0} \\frac{f(x + \\Delta x) - f(x)}{\\Delta x} $$"
   ]
  },
  {
   "cell_type": "markdown",
   "id": "738ec65f",
   "metadata": {
    "slideshow": {
     "slide_type": "slide"
    }
   },
   "source": [
    "$$ f'(x) = \\lim_{\\Delta x \\to 0} \\frac{\\sqrt{x + \\Delta x} - \\sqrt{x}}{\\Delta x} $$"
   ]
  },
  {
   "cell_type": "code",
   "execution_count": 26,
   "id": "17d71249",
   "metadata": {},
   "outputs": [
    {
     "data": {
      "text/plain": [
       "2.0"
      ]
     },
     "execution_count": 26,
     "metadata": {},
     "output_type": "execute_result"
    }
   ],
   "source": [
    "0.04*50"
   ]
  },
  {
   "cell_type": "code",
   "execution_count": null,
   "id": "d891ac7b",
   "metadata": {},
   "outputs": [],
   "source": []
  },
  {
   "cell_type": "code",
   "execution_count": null,
   "id": "239e2afc",
   "metadata": {},
   "outputs": [],
   "source": []
  },
  {
   "cell_type": "code",
   "execution_count": null,
   "id": "fedca7f5",
   "metadata": {},
   "outputs": [],
   "source": []
  }
 ],
 "metadata": {
  "celltoolbar": "Slideshow",
  "kernelspec": {
   "display_name": "Python 3 (ipykernel)",
   "language": "python",
   "name": "python3"
  },
  "language_info": {
   "codemirror_mode": {
    "name": "ipython",
    "version": 3
   },
   "file_extension": ".py",
   "mimetype": "text/x-python",
   "name": "python",
   "nbconvert_exporter": "python",
   "pygments_lexer": "ipython3",
   "version": "3.9.7"
  },
  "latex_envs": {
   "LaTeX_envs_menu_present": true,
   "autoclose": false,
   "autocomplete": true,
   "bibliofile": "biblio.bib",
   "cite_by": "apalike",
   "current_citInitial": 1,
   "eqLabelWithNumbers": true,
   "eqNumInitial": 1,
   "hotkeys": {
    "equation": "Ctrl-E",
    "itemize": "Ctrl-I"
   },
   "labels_anchors": false,
   "latex_user_defs": false,
   "report_style_numbering": false,
   "user_envs_cfg": false
  }
 },
 "nbformat": 4,
 "nbformat_minor": 5
}
