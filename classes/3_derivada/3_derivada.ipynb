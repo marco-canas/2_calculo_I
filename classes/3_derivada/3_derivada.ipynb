{
 "cells": [
  {
   "cell_type": "markdown",
   "id": "02266126",
   "metadata": {
    "slideshow": {
     "slide_type": "slide"
    }
   },
   "source": [
    "# Unidad 3"
   ]
  },
  {
   "cell_type": "markdown",
   "id": "4e250cad",
   "metadata": {
    "slideshow": {
     "slide_type": "slide"
    }
   },
   "source": [
    "## La derivada"
   ]
  },
  {
   "cell_type": "markdown",
   "id": "ed8dfe49",
   "metadata": {
    "slideshow": {
     "slide_type": "slide"
    }
   },
   "source": [
    "### Presentación "
   ]
  },
  {
   "cell_type": "markdown",
   "id": "bed4439a",
   "metadata": {
    "slideshow": {
     "slide_type": "slide"
    }
   },
   "source": [
    "La maximización de utilidades de un fabricante que distribuye televisores para la venta es \n",
    "\n",
    "$$ p(x) = 400(15 - x)(x-2) $$\n",
    "\n",
    "expresados en miles de pesos, \n"
   ]
  },
  {
   "cell_type": "code",
   "execution_count": null,
   "id": "477e54ff",
   "metadata": {
    "slideshow": {
     "slide_type": "slide"
    }
   },
   "outputs": [],
   "source": []
  },
  {
   "cell_type": "markdown",
   "id": "60b79ef7",
   "metadata": {
    "slideshow": {
     "slide_type": "slide"
    }
   },
   "source": [
    "## Justificación "
   ]
  },
  {
   "cell_type": "markdown",
   "id": "a83a2e86",
   "metadata": {
    "slideshow": {
     "slide_type": "slide"
    }
   },
   "source": [
    "Los conocimientos matemáticos constituyen un aporte integral en la formación del futuro profesional, ya que al conocer los conceptos básicos y su metodología estará preparado para desarrollar y evaluar los resultados de una investigación y demés informaciones que se obtengan como el producto de su trabajo, en el desempeño de su queahacer con la empresa y/o negocio independiente. "
   ]
  },
  {
   "cell_type": "markdown",
   "id": "f249a8ca",
   "metadata": {
    "slideshow": {
     "slide_type": "slide"
    }
   },
   "source": [
    "## Competencias a desarrollar"
   ]
  },
  {
   "cell_type": "markdown",
   "id": "9fe89a64",
   "metadata": {
    "slideshow": {
     "slide_type": "slide"
    }
   },
   "source": [
    "### Para el desarrollo del conocer o cognoscitivas"
   ]
  },
  {
   "cell_type": "markdown",
   "id": "5679e580",
   "metadata": {
    "slideshow": {
     "slide_type": "slide"
    }
   },
   "source": [
    "* Conoce u utiliza las reglas de derivación.\n",
    "* Conoce y utiliza las reglas de derivación de funciones logarítmicas y exponenciales. \n",
    "* Conoce y utiliza la regla de la cadena. \n",
    "* Conoce y utiliza la regla de derivación implícita. "
   ]
  },
  {
   "cell_type": "markdown",
   "id": "610bf032",
   "metadata": {
    "slideshow": {
     "slide_type": "slide"
    }
   },
   "source": [
    "## Para el desarrollo del hacer o precedimentales"
   ]
  },
  {
   "cell_type": "markdown",
   "id": "998d65a1",
   "metadata": {
    "slideshow": {
     "slide_type": "slide"
    }
   },
   "source": [
    "* Determina la derivada de una función\n",
    "* aplica la derivada de orden superior\n",
    "* calcula valores máximos y mínimos de una función\n",
    "* Determina la derivada dada una ecuación implícita. \n",
    "* Aplica las propiedades de las derivadas\n",
    "* Representa graficamente valores máximos y mínimos, concavidades de funciones.\n",
    "* resuelve problemas de aplicación de la derivada. "
   ]
  },
  {
   "cell_type": "markdown",
   "id": "fe47761a",
   "metadata": {
    "slideshow": {
     "slide_type": "slide"
    }
   },
   "source": [
    "## Objetivo general de la asignatura"
   ]
  },
  {
   "cell_type": "markdown",
   "id": "91e46b3b",
   "metadata": {
    "slideshow": {
     "slide_type": "slide"
    }
   },
   "source": [
    "Aplicar el estudio del cálculo diferencial, que trata de cómo una cantidad varía con relación a otra. "
   ]
  },
  {
   "cell_type": "markdown",
   "id": "254dde29",
   "metadata": {
    "slideshow": {
     "slide_type": "slide"
    }
   },
   "source": [
    "### Objetivos especícicos "
   ]
  },
  {
   "cell_type": "code",
   "execution_count": null,
   "id": "7880a203",
   "metadata": {
    "slideshow": {
     "slide_type": "slide"
    }
   },
   "outputs": [],
   "source": []
  },
  {
   "cell_type": "code",
   "execution_count": null,
   "id": "fa0fc1fd",
   "metadata": {
    "slideshow": {
     "slide_type": "slide"
    }
   },
   "outputs": [],
   "source": []
  },
  {
   "cell_type": "code",
   "execution_count": null,
   "id": "175c1ae4",
   "metadata": {
    "slideshow": {
     "slide_type": "slide"
    }
   },
   "outputs": [],
   "source": []
  }
 ],
 "metadata": {
  "celltoolbar": "Slideshow",
  "kernelspec": {
   "display_name": "Python 3",
   "language": "python",
   "name": "python3"
  },
  "language_info": {
   "codemirror_mode": {
    "name": "ipython",
    "version": 3
   },
   "file_extension": ".py",
   "mimetype": "text/x-python",
   "name": "python",
   "nbconvert_exporter": "python",
   "pygments_lexer": "ipython3",
   "version": "3.8.8"
  },
  "latex_envs": {
   "LaTeX_envs_menu_present": true,
   "autoclose": false,
   "autocomplete": true,
   "bibliofile": "biblio.bib",
   "cite_by": "apalike",
   "current_citInitial": 1,
   "eqLabelWithNumbers": true,
   "eqNumInitial": 1,
   "hotkeys": {
    "equation": "Ctrl-E",
    "itemize": "Ctrl-I"
   },
   "labels_anchors": false,
   "latex_user_defs": false,
   "report_style_numbering": false,
   "user_envs_cfg": false
  }
 },
 "nbformat": 4,
 "nbformat_minor": 5
}
