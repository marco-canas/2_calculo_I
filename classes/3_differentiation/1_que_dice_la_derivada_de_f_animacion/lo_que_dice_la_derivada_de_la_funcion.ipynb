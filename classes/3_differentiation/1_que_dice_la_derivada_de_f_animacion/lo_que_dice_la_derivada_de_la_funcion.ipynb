{
 "cells": [
  {
   "cell_type": "markdown",
   "id": "dc06dec7",
   "metadata": {
    "slideshow": {
     "slide_type": "slide"
    }
   },
   "source": [
    "<table align=\"left\">\n",
    "  <td>\n",
    "    <a href=\"https://colab.research.google.com/github/marco-canas/calculo/blob/main/classes/3_differentiation/1_que_dice_la_derivada_de_f_animacion/lo_que_dice_la_derivada_de_la_funcion.ipynb\" target=\"_parent\"><img src=\"https://colab.research.google.com/assets/colab-badge.svg\" alt=\"Open In Colab\"/></a>\n",
    "  </td>\n",
    "</table>"
   ]
  },
  {
   "cell_type": "markdown",
   "id": "e0c5b198",
   "metadata": {
    "slideshow": {
     "slide_type": "slide"
    }
   },
   "source": [
    "### [Video de apoyo a la lectura interactiva y experimental de este cuaderno]()"
   ]
  },
  {
   "cell_type": "markdown",
   "id": "41e82203",
   "metadata": {
    "slideshow": {
     "slide_type": "slide"
    }
   },
   "source": [
    "## [Vínculo al programa del curso:  ]()"
   ]
  },
  {
   "cell_type": "markdown",
   "id": "ca46c23b",
   "metadata": {
    "slideshow": {
     "slide_type": "slide"
    }
   },
   "source": [
    "# Modelo general de clase: [aula invertida](https://www3.gobiernodecanarias.org/medusa/ecoescuela/pedagotic/aprendizaje-invertido-flipped-classroom/)\n",
    "\n",
    "## Definición y características de este modelo"
   ]
  },
  {
   "cell_type": "markdown",
   "id": "d2b0e776",
   "metadata": {
    "slideshow": {
     "slide_type": "slide"
    }
   },
   "source": [
    "## ¿Qué es?  \n",
    "\n",
    "Flipped Learning o aprendizaje invertido es un enfoque pedagógico en el que:  \n",
    "\n",
    "* la instrucción directa se realiza fuera del aula y \n",
    "* se utiliza el tiempo de clase para llevar a cabo actividades que impliquen el desarrollo de procesos cognitivos de mayor complejidad, en las que son necesarias la ayuda y la experiencia del docente."
   ]
  },
  {
   "cell_type": "markdown",
   "id": "5fc4f731",
   "metadata": {
    "slideshow": {
     "slide_type": "slide"
    }
   },
   "source": [
    "## ¿Para qué sirve?  \n",
    "\n",
    "Mejora el proceso de enseñanza-aprendizaje realizando,   \n",
    "\n",
    "* fuera del aula, actividades de aprendizaje sencillas (observar, memorizar, resumir, etc.) y, \n",
    "* en el aula, actividades más complejas (razonar, examinar, priorizar, argumentar, proponer, etc.) que requieren la interacción entre iguales y la ayuda del docente como facilitador."
   ]
  },
  {
   "cell_type": "markdown",
   "id": "b42472d6",
   "metadata": {
    "slideshow": {
     "slide_type": "slide"
    }
   },
   "source": [
    "<img src = 'https://github.com/marco-canas/didactica_ciencia_datos/blob/main/4_images/atributos_aprendizaje_invertido.png?raw=true'>"
   ]
  },
  {
   "cell_type": "markdown",
   "id": "8cee33b3",
   "metadata": {
    "slideshow": {
     "slide_type": "slide"
    }
   },
   "source": [
    "# Proceso Flipped Learning"
   ]
  },
  {
   "cell_type": "markdown",
   "id": "9c61b8b5",
   "metadata": {
    "slideshow": {
     "slide_type": "slide"
    }
   },
   "source": [
    "## Fuera del Aula"
   ]
  },
  {
   "cell_type": "markdown",
   "id": "fe20721d",
   "metadata": {
    "slideshow": {
     "slide_type": "slide"
    }
   },
   "source": [
    "### Docente:"
   ]
  },
  {
   "cell_type": "markdown",
   "id": "5b022dc9",
   "metadata": {
    "slideshow": {
     "slide_type": "slide"
    }
   },
   "source": [
    "* Diseña y planea el proceso de enseñanza-aprendizaje del aula, integrando estrategias, modelos de enseñanza y metodologías (aprendizaje basado en proyectos, aprendizaje cooperativo y colaborativo,…).  \n",
    "\n",
    "* Diseña y planea actividades que se realizarán fuera del aula (ver vídeos, cumplimentar cuestionarios,…).  \n",
    "\n",
    "* Selecciona e integra la tecnología en actividades de aprendizaje activo.  \n",
    "\n",
    "* Diseña actividades de evaluación que promuevan el aprendizaje del alumnado."
   ]
  },
  {
   "cell_type": "markdown",
   "id": "467fb978",
   "metadata": {
    "slideshow": {
     "slide_type": "slide"
    }
   },
   "source": [
    "### Alumnado:"
   ]
  },
  {
   "cell_type": "markdown",
   "id": "87d6d661",
   "metadata": {
    "slideshow": {
     "slide_type": "slide"
    }
   },
   "source": [
    "* Accede, cuantas veces necesite, a las actividades facilitadas por el profesorado.\n",
    "* Realiza las actividades propuestas."
   ]
  },
  {
   "cell_type": "markdown",
   "id": "93cd48b6",
   "metadata": {
    "slideshow": {
     "slide_type": "slide"
    }
   },
   "source": [
    "## En el Aula"
   ]
  },
  {
   "cell_type": "markdown",
   "id": "79ea8675",
   "metadata": {
    "slideshow": {
     "slide_type": "slide"
    }
   },
   "source": [
    "### Docente:"
   ]
  },
  {
   "cell_type": "markdown",
   "id": "d4d6f829",
   "metadata": {
    "slideshow": {
     "slide_type": "slide"
    }
   },
   "source": [
    "* Guía y facilita los procesos de aprendizaje, atendiendo a la diversidad.\n",
    "* Retroalimenta el desempeño de los equipos/grupos y del alumnado individualmente.\n",
    "* Genera espacios para la coevaluación y autoevaluación."
   ]
  },
  {
   "cell_type": "markdown",
   "id": "7178794c",
   "metadata": {
    "slideshow": {
     "slide_type": "slide"
    }
   },
   "source": [
    "### Alumnado:"
   ]
  },
  {
   "cell_type": "markdown",
   "id": "88d1c0f7",
   "metadata": {
    "slideshow": {
     "slide_type": "slide"
    }
   },
   "source": [
    "* Realiza las actividades (debates, exposiciones orales, informes, diario de aprendizaje, cuaderno de trabajo cooperativo,…).\n",
    "* Recibe retroalimentación inmediata del profesorado y de sus compañeros y compañeras.\n",
    "* Accede, si fuera necesario, a las actividades previas facilitadas por el profesorado."
   ]
  },
  {
   "cell_type": "markdown",
   "id": "b72f4e52",
   "metadata": {},
   "source": [
    "# Fomento a la lectura  \n",
    "\n",
    "## La inteligencia emocional\n",
    "\n",
    "\n",
    "\n"
   ]
  },
  {
   "cell_type": "markdown",
   "id": "8d95e2ac",
   "metadata": {},
   "source": [
    "# Título de la clase: Lo que dice la derivada de la función: Animación de la velocidad de cambio de una función"
   ]
  },
  {
   "cell_type": "code",
   "execution_count": null,
   "id": "e28e5d5f",
   "metadata": {
    "slideshow": {
     "slide_type": "slide"
    }
   },
   "outputs": [],
   "source": [
    "import pandas as pd\n",
    "import random\n",
    "\n",
    "# Cargar la lista de estudiantes desde la URL\n",
    "url = 'https://raw.githubusercontent.com/marco-canas/groups_list/main/calculo_integral.csv'\n",
    "estudiantes = pd.read_csv(url)\n",
    "\n",
    "# Función para llamar a un estudiante aleatoriamente y registrar su nota de seguimiento\n",
    "def llamar_estudiante():\n",
    "    estudiante_aleatorio = random.choice(estudiantes['Nombre'])\n",
    "    print(f\"Llamando a {estudiante_aleatorio}...\")\n",
    "    \n",
    "    \n",
    "    \n",
    "# Llamar a la función para realizar el proceso\n",
    "llamar_estudiante()\n"
   ]
  },
  {
   "cell_type": "markdown",
   "id": "1d38dd4e",
   "metadata": {
    "slideshow": {
     "slide_type": "slide"
    }
   },
   "source": [
    "### Objetivo de aprendizaje (Enunciar, de manera corta sencilla y clara para todos los asistentes)\n",
    "\n",
    "* Que el estudiante, pueda de la animación, reconocer la velocidad de cambio como la pendiente de la recta tangente en cada punto de su gráfico. "
   ]
  },
  {
   "cell_type": "markdown",
   "id": "ca7261b1",
   "metadata": {
    "slideshow": {
     "slide_type": "slide"
    }
   },
   "source": [
    "## Establecimiento de prerrequisitos conceptuales para alcanzar el objetivo de aprendizaje trazado.   \n",
    "\n",
    "(Elabore una lista de preguntas al rededor de los conceptos que consideres necesarios para empezar la clase).  \n",
    "\n",
    "1. Línea recta $y = f(x) = mx + b = a + bx$\n",
    "2. Pendiente de la línea recta $m$\n",
    "3. Intersecto de la recta con el eje $y$: $b$. "
   ]
  },
  {
   "cell_type": "markdown",
   "id": "2298e976",
   "metadata": {
    "slideshow": {
     "slide_type": "slide"
    }
   },
   "source": [
    "# Para el diseño de la clase tenga en cuenta algunos problemas de aprendizaje"
   ]
  },
  {
   "cell_type": "markdown",
   "id": "523d3acf",
   "metadata": {
    "slideshow": {
     "slide_type": "slide"
    }
   },
   "source": [
    "Claro, aquí te proporciono algunos problemas de aprendizaje relacionados con la línea recta, la función lineal y la velocidad de cambio de una función derivable. Estos problemas son adecuados para practicar conceptos de cálculo diferencial y también para comprender mejor las propiedades de las funciones lineales y sus gráficos.\n",
    "\n",
    "### Problemas sobre la Línea Recta y la Función Lineal:\n",
    "\n",
    "1. **Problema 1 - Encontrar la Ecuación de una Línea:**\n",
    "   Dados dos puntos \\((x_1, y_1)\\) y \\((x_2, y_2)\\), encuentra la ecuación de la línea recta que pasa a través de estos puntos.\n",
    "\n",
    "2. **Problema 2 - Pendiente y Ordenada al Origen:**\n",
    "   Dada la ecuación de una línea \\(y = mx + b\\), donde \\(m\\) es la pendiente y \\(b\\) es la ordenada al origen, encuentra la pendiente y la ordenada al origen para la línea dada.\n",
    "\n",
    "3. **Problema 3 - Intersección de Líneas:**\n",
    "   Encuentra el punto de intersección entre las líneas \\(y = 2x + 3\\) y \\(y = -x + 5\\).\n",
    "\n",
    "4. **Problema 4 - Graficar una Función Lineal:**\n",
    "   Grafica la función \\(y = 0.5x - 2\\) en un sistema de coordenadas.\n",
    "\n",
    "### Problemas sobre la Velocidad de Cambio y Derivadas:\n",
    "\n",
    "1. **Problema 1 - Velocidad Instantánea:**\n",
    "   Si la posición de un objeto en el tiempo \\(t\\) está dada por \\(s(t) = 3t^2 - 2t + 5\\), encuentra la velocidad instantánea del objeto en el tiempo \\(t = 2\\).\n",
    "\n",
    "2. **Problema 2 - Derivada de una Función Lineal:**\n",
    "   Encuentra la derivada de la función \\(f(x) = 4x - 7\\). ¿Qué representa esta derivada en términos del problema original?\n",
    "\n",
    "3. **Problema 3 - Tasa de Cambio:**\n",
    "   Un automóvil se mueve a lo largo de una línea recta de manera que su posición en el tiempo \\(t\\) está dada por \\(s(t) = 2t^2 - 3t + 7\\). Encuentra la tasa de cambio de la posición del automóvil en \\(t = 3\\).\n",
    "\n",
    "4. **Problema 4 - Problema de Optimización:**\n",
    "   Un agricultor tiene 2400 metros de vallas y quiere cercar un área rectangular de tierra. Encuentra las dimensiones del rectángulo que maximizan el área.\n",
    "\n",
    "Estos problemas te ayudarán a entender mejor los conceptos de línea recta, función lineal y velocidad de cambio en el contexto del cálculo diferencial y te darán la oportunidad de practicar tus habilidades en resolución de problemas y derivadas."
   ]
  },
  {
   "cell_type": "markdown",
   "id": "c4dad1ad",
   "metadata": {},
   "source": [
    "# Secuencia de clase sobre la derivada como velocidad de cambio de la función\n",
    "\n"
   ]
  },
  {
   "cell_type": "code",
   "execution_count": 1,
   "id": "c477a6c0",
   "metadata": {},
   "outputs": [
    {
     "data": {
      "application/vnd.jupyter.widget-view+json": {
       "model_id": "f53932888dd144e28f7549b66d3e3e64",
       "version_major": 2,
       "version_minor": 0
      },
      "text/plain": [
       "interactive(children=(IntSlider(value=0, description='a', max=4, min=-4), Output()), _dom_classes=('widget-int…"
      ]
     },
     "metadata": {},
     "output_type": "display_data"
    }
   ],
   "source": [
    "# Animación de una función de velicidad de cambio variable\n",
    "import numpy as np \n",
    "import matplotlib.pyplot as plt\n",
    "from ipywidgets import interact # interactuar la función de trazado con el deslizador \n",
    "\n",
    "\n",
    "def trazar_recta_tangente(a = 0):\n",
    "    plt.figure(figsize = (12, 7))\n",
    "    plt.title('Animacion de la pendiente de una curva a través de la pendiente de la tangente')\n",
    "    #graficar_funcion cuadratica\n",
    "    epsilon = 0.1\n",
    "    dominio_funcion_cuadratica  = np.arange(-4, 4+epsilon, epsilon)\n",
    "    f_cuadratica = lambda x: x**2\n",
    "    rango_funcion_cuadratica = f_cuadratica(dominio_funcion_cuadratica) \n",
    "    plt.plot(dominio_funcion_cuadratica, rango_funcion_cuadratica, color = 'green', label = r'$y = f(x) = x^{2}$')\n",
    "    \n",
    "    plt.grid()\n",
    "    #graficar el punto (a, a**2)\n",
    "    plt.scatter(a,a**2, color = 'red', linewidths = 4) # partícula movil a través de la trayectoria parabólica\n",
    "    # trazado del segmento tangente\n",
    "    dominio_segmento_tangente = np.array([a-6*epsilon, a+6*epsilon])\n",
    "    f_pendiente_curva = lambda x: 2*a*x - a**2 # ecuación de la función tangente a la curva en (a, a**2) y = 2*a*x -a**2\n",
    "    rango_segmento_tangente = f_pendiente_curva(dominio_segmento_tangente)\n",
    "    plt.plot(dominio_segmento_tangente, rango_segmento_tangente, linewidth = 3.0,\\\n",
    "              color = 'red', label = f'Velocidad = {2*a}') # segmento tangente\n",
    "    plt.yticks(np.arange(0, 18))\n",
    "    plt.legend()\n",
    "    plt.axis([-4,4,-1,18])\n",
    "\n",
    "\n",
    "interact(trazar_recta_tangente, a = (-4,4, 1))\n",
    "\n",
    "plt.show()"
   ]
  },
  {
   "cell_type": "markdown",
   "id": "0e725005",
   "metadata": {},
   "source": [
    "# Interpretaciones de la animación de la función cuadrática con su velocidad\n",
    "\n",
    "* La función cuadrática $y = f(x) = x^{2}$, es una función de velocidad variable. \n",
    "* "
   ]
  },
  {
   "cell_type": "markdown",
   "id": "8a6f7ef9",
   "metadata": {
    "slideshow": {
     "slide_type": "slide"
    }
   },
   "source": [
    "## Tareas para realizar antes de la clase"
   ]
  },
  {
   "cell_type": "markdown",
   "id": "90cae469",
   "metadata": {
    "slideshow": {
     "slide_type": "slide"
    }
   },
   "source": [
    "1. Ver los videos respectivos []()\n",
    "2. Memorizar las definiciones []()\n",
    "3. Sintetizar o resumir la información en mapas conceptuales. []()"
   ]
  },
  {
   "cell_type": "markdown",
   "id": "fccb447c",
   "metadata": {
    "slideshow": {
     "slide_type": "slide"
    }
   },
   "source": [
    "# Tareas para realizar en clase"
   ]
  },
  {
   "cell_type": "markdown",
   "id": "e5c48edf",
   "metadata": {
    "slideshow": {
     "slide_type": "slide"
    }
   },
   "source": [
    "* Modelación matemática \n",
    "* Trabajo en equipos\n",
    "* Programar en python una función que entregue la animación de la representación geométrica de la pendiente de la curva de cualquier función dada por el usuario, en un dominio dado por el usuario. "
   ]
  },
  {
   "cell_type": "markdown",
   "id": "922c7cd3",
   "metadata": {},
   "source": [
    "Deriva a la función raiz cuadrada de x\n",
    "\n",
    "$$ F(x) = \\sqrt{x} \\ \\ \\to \\ \\  F'(x) = \\frac{1}{2\\sqrt{x}}  $$"
   ]
  },
  {
   "cell_type": "markdown",
   "id": "8b6b0112",
   "metadata": {
    "slideshow": {
     "slide_type": "slide"
    }
   },
   "source": [
    "# Tareas para realizar después de la realización de la clase"
   ]
  },
  {
   "cell_type": "markdown",
   "id": "947460e3",
   "metadata": {
    "slideshow": {
     "slide_type": "slide"
    }
   },
   "source": [
    "* Actividades de memorización: \n",
    "  - escucha reiterada de grabaciones de formulas y resultados científicos. \n",
    "  - relectura de notas. \n",
    "  - ejercicios de mayor complejidad. \n",
    "  "
   ]
  },
  {
   "cell_type": "markdown",
   "id": "e15a1ad6",
   "metadata": {},
   "source": [
    "Cree una función de python, que para cada función $y = f(x)$ dada por el usuario, en un dominio dado $[a,b]$, nos trace la velocidad o pendiente de la curva en cada punto de su gráfico. "
   ]
  },
  {
   "cell_type": "code",
   "execution_count": 7,
   "id": "ceeede0e",
   "metadata": {},
   "outputs": [
    {
     "data": {
      "application/vnd.jupyter.widget-view+json": {
       "model_id": "e334285eb17f4467a29efff80adcbe83",
       "version_major": 2,
       "version_minor": 0
      },
      "text/plain": [
       "interactive(children=(IntSlider(value=0, description='e', max=4, min=-4), Output()), _dom_classes=('widget-int…"
      ]
     },
     "metadata": {},
     "output_type": "display_data"
    },
    {
     "data": {
      "text/plain": [
       "<function __main__.trazar_funcion_y_velocidad(e=0)>"
      ]
     },
     "execution_count": 7,
     "metadata": {},
     "output_type": "execute_result"
    }
   ],
   "source": [
    "# Animación de una función de velicidad de cambio variable\n",
    "import numpy as np \n",
    "from sympy import *\n",
    "x = var('x')\n",
    "import matplotlib.pyplot as plt\n",
    "from ipywidgets import interact # interactuar la función de trazado con el deslizador \n",
    "\n",
    "def trazar_funcion_y_velocidad(e = 0):\n",
    "        '''\n",
    "        INPUT: funcion es una expresion de python\n",
    "        '''\n",
    "        plt.figure(figsize = (12, 7))\n",
    "        \n",
    "        #graficar_funcion cuadratica\n",
    "        epsilon = 0.1\n",
    "\n",
    "        a,b = -4,4 # dominio de graficación\n",
    "        \n",
    "        f = 2**x # la función a graficar\n",
    "\n",
    "        dominio_funcion  = np.arange(a, b + epsilon, epsilon)\n",
    "        rango_funcion = np.array([f.subs(x,c) for c in dominio_funcion]) \n",
    "        plt.title(f'Animacion de la velocidad de la curva {f}')\n",
    "        plt.plot(dominio_funcion, rango_funcion, color = 'green', label = r'$y = f(x)$')\n",
    "    \n",
    "        plt.grid()\n",
    "        #graficar el punto (e, f(e))\n",
    "        plt.scatter(e,f.subs(x,e), color = 'red', linewidths = 4) # partícula movil a través de la trayectoria definida por la función f\n",
    "        # trazado del segmento tangente\n",
    "        dominio_segmento_tangente = np.array([e - 6*epsilon, e + 6*epsilon])\n",
    "\n",
    "        f_prima = diff(f, x) # ecuación de la función tangente a la curva en (e, f(e)) y = f'(e)*x  + (f(e) - f'(e)*e)\n",
    "        # b = f(e) - f'(e)e\n",
    "        b_recta_tangente = f.subs(x,e) - (f_prima.subs(x,e))*e\n",
    "        recta_tangente = lambda z: f_prima.subs(x,e)*z + b_recta_tangente\n",
    "        rango_segmento_tangente = np.array([ recta_tangente(d) for d in dominio_segmento_tangente ])\n",
    "        plt.plot(dominio_segmento_tangente, rango_segmento_tangente, linewidth = 3.0,\\\n",
    "              color = 'red', label = f'pendiente de la curva igual a {f_prima.subs(x,e).evalf()}') # segmento tangente\n",
    "        plt.yticks(np.arange(0, 18))\n",
    "        plt.legend()\n",
    "        plt.show()\n",
    "\n",
    "\n",
    "\n",
    "interact(trazar_funcion_y_velocidad, e = (-4,4, 1))\n",
    "\n",
    "\n",
    "\n"
   ]
  },
  {
   "cell_type": "code",
   "execution_count": 6,
   "id": "5d66ef20",
   "metadata": {},
   "outputs": [
    {
     "ename": "AttributeError",
     "evalue": "'function' object has no attribute 'subs'",
     "output_type": "error",
     "traceback": [
      "\u001b[0;31m---------------------------------------------------------------------------\u001b[0m",
      "\u001b[0;31mAttributeError\u001b[0m                            Traceback (most recent call last)",
      "\u001b[1;32m/home/marco/Documentos/docencia/calculo/classes/3_differentiation/1_que_dice_la_derivada_de_f_animacion/lo_que_dice_la_derivada_de_la_funcion.ipynb Celda 37\u001b[0m line \u001b[0;36m4\n\u001b[1;32m      <a href='vscode-notebook-cell:/home/marco/Documentos/docencia/calculo/classes/3_differentiation/1_que_dice_la_derivada_de_f_animacion/lo_que_dice_la_derivada_de_la_funcion.ipynb#X51sZmlsZQ%3D%3D?line=1'>2</a>\u001b[0m f_prima \u001b[39m=\u001b[39m diff(f, x) \n\u001b[1;32m      <a href='vscode-notebook-cell:/home/marco/Documentos/docencia/calculo/classes/3_differentiation/1_que_dice_la_derivada_de_f_animacion/lo_que_dice_la_derivada_de_la_funcion.ipynb#X51sZmlsZQ%3D%3D?line=2'>3</a>\u001b[0m r \u001b[39m=\u001b[39m \u001b[39mlambda\u001b[39;00m z: f_prima\u001b[39m.\u001b[39msubs(x,e)\u001b[39m*\u001b[39mz \u001b[39m+\u001b[39m b_recta_tangente\n\u001b[0;32m----> <a href='vscode-notebook-cell:/home/marco/Documentos/docencia/calculo/classes/3_differentiation/1_que_dice_la_derivada_de_f_animacion/lo_que_dice_la_derivada_de_la_funcion.ipynb#X51sZmlsZQ%3D%3D?line=3'>4</a>\u001b[0m r\u001b[39m.\u001b[39;49msubs(z,x)\n",
      "\u001b[0;31mAttributeError\u001b[0m: 'function' object has no attribute 'subs'"
     ]
    }
   ],
   "source": [
    "f = 2**x\n",
    "f_prima = diff(f, x) \n",
    "r = lambda z: f_prima.subs(x,e)*z + b_recta_tangente\n",
    "r.subs(z,x)"
   ]
  },
  {
   "cell_type": "markdown",
   "id": "935a5567",
   "metadata": {
    "slideshow": {
     "slide_type": "slide"
    }
   },
   "source": [
    "## Dificultades de aprendizaje detectados durante la clase"
   ]
  },
  {
   "cell_type": "markdown",
   "id": "7d9c6c7f",
   "metadata": {
    "slideshow": {
     "slide_type": "slide"
    }
   },
   "source": []
  },
  {
   "cell_type": "markdown",
   "id": "fb9402bb",
   "metadata": {
    "slideshow": {
     "slide_type": "slide"
    }
   },
   "source": [
    "## Estrategias propuestas para la solución de las dificultades de aprendizaje detectadas"
   ]
  },
  {
   "cell_type": "markdown",
   "id": "2dd3bd5c",
   "metadata": {
    "slideshow": {
     "slide_type": "slide"
    }
   },
   "source": []
  },
  {
   "cell_type": "markdown",
   "id": "d11570a2",
   "metadata": {
    "slideshow": {
     "slide_type": "slide"
    }
   },
   "source": [
    "## Cuestionario para realizar labores de memorización y observación,  a la síntesis de la información"
   ]
  },
  {
   "cell_type": "markdown",
   "id": "540f0ec1",
   "metadata": {
    "slideshow": {
     "slide_type": "slide"
    }
   },
   "source": []
  },
  {
   "cell_type": "markdown",
   "id": "236b43fc",
   "metadata": {
    "slideshow": {
     "slide_type": "slide"
    }
   },
   "source": [
    "## Grabaciones en audio para fomentar la capacidad de memorizar enunciados de teoremas y resultados científicos y la capacidad de parafrasear estos resultados. "
   ]
  },
  {
   "cell_type": "markdown",
   "id": "319f2ffa",
   "metadata": {
    "slideshow": {
     "slide_type": "slide"
    }
   },
   "source": [
    "Se dispondrá de un lugar en el drive asociuado al correo institucional de la Universidad Nacional del Profesor Marso para albergar los archivosd de audio de fomento a la memoirización, enunciación y parafraseo de los resultados científicos, prtopiedades, reglas, etc. \n",
    "\n",
    "* Vocaroo"
   ]
  },
  {
   "cell_type": "markdown",
   "id": "8df97176",
   "metadata": {},
   "source": [
    "# Reglas de derivación para memorizar\n",
    "\n",
    "1. [La derivada de la función raiz](https://voca.ro/1gJ97ZdHex2H)\n",
    "\n",
    "$$ D_{x}(\\sqrt{x}) = \\frac{1}{2\\sqrt{x}} $$"
   ]
  },
  {
   "cell_type": "code",
   "execution_count": null,
   "id": "380bd971",
   "metadata": {},
   "outputs": [],
   "source": [
    "import matplotlib.pyplot as plt\n",
    "import numpy as np\n",
    "plt.title('La función raiz cuadrada')\n",
    "plt.xlabel('Puntos x')\n",
    "plt.ylabel(r'Valores $y = f(x) = \\sqrt{x}$')\n",
    "dominio = np.array([0, 1, 4, 9, 16, 25, 36])\n",
    "rango =   np.array([0, 1, 2, 3, 4,   5,  6]) # valores de la función raiz cuadrada\n",
    "plt.scatter(dominio, rango, color = 'red')\n",
    "plt.plot(dominio, rango)\n",
    "plt.grid() \n",
    "\n",
    "plt.savefig('/home/marco/Documentos/docencia/calculo/images/raiz_cuadrada.jpg')\n",
    "\n",
    "plt.show()\n"
   ]
  },
  {
   "cell_type": "markdown",
   "id": "564fa59d",
   "metadata": {
    "slideshow": {
     "slide_type": "slide"
    }
   },
   "source": [
    "### Comparta sus cuadernos y videos, evidencias de su aprendizaje [aquí](https://forms.office.com/Pages/ResponsePage.aspx?id=IefhmYRxjkmK_7KtTlPBwkanXIs1i1FEujpsZgO6dXpUMEMwTEZVMzEwVVBPTElWNVg5OVEyWUhMUy4u)"
   ]
  },
  {
   "cell_type": "code",
   "execution_count": null,
   "id": "5fe498b3",
   "metadata": {
    "slideshow": {
     "slide_type": "slide"
    }
   },
   "outputs": [],
   "source": []
  },
  {
   "cell_type": "markdown",
   "id": "44be6d93",
   "metadata": {
    "slideshow": {
     "slide_type": "slide"
    }
   },
   "source": [
    "# Vocabulary "
   ]
  },
  {
   "cell_type": "markdown",
   "id": "99b8dfed",
   "metadata": {
    "slideshow": {
     "slide_type": "slide"
    }
   },
   "source": [
    "\n",
    "1. Derivative: derivada\n",
    "2. "
   ]
  },
  {
   "cell_type": "markdown",
   "id": "ee46cb9a",
   "metadata": {
    "slideshow": {
     "slide_type": "slide"
    }
   },
   "source": [
    "## Mapa conceptual que vincula los conceptos asoaciados al objetivo de aprendizaje"
   ]
  },
  {
   "cell_type": "code",
   "execution_count": null,
   "id": "bf552488",
   "metadata": {
    "slideshow": {
     "slide_type": "slide"
    }
   },
   "outputs": [],
   "source": []
  },
  {
   "cell_type": "markdown",
   "id": "0266e3c5",
   "metadata": {
    "slideshow": {
     "slide_type": "slide"
    }
   },
   "source": [
    "## Quiz de 5 minutos para ejercitación y adquisición de habilidades "
   ]
  },
  {
   "cell_type": "markdown",
   "id": "3a1b127f",
   "metadata": {
    "slideshow": {
     "slide_type": "slide"
    }
   },
   "source": []
  },
  {
   "cell_type": "markdown",
   "id": "10bce0d0",
   "metadata": {
    "slideshow": {
     "slide_type": "slide"
    }
   },
   "source": [
    "## Referentes "
   ]
  },
  {
   "cell_type": "markdown",
   "id": "1db3c468",
   "metadata": {
    "slideshow": {
     "slide_type": "slide"
    }
   },
   "source": [
    "* [stewart precálculo](https://udeaeduco-my.sharepoint.com/:b:/g/personal/marco_canas_udea_edu_co/ERHIq62I6qFNrmxy6LZb8ZMBci7kUsyNME1nIh9yCBMJ_w?e=0zMSla)  \n",
    "\n",
    "* [stewart cálculo](https://udeaeduco-my.sharepoint.com/:b:/g/personal/marco_canas_udea_edu_co/EZgXZjAp8QxPqOAim2hs6LcBNPLGjSHf-xwYnUVYkwa04w?e=RZdTCy)  \n",
    "\n",
    "* [larson](https://udeaeduco-my.sharepoint.com/:b:/g/personal/marco_canas_udea_edu_co/ES71ChFeO9ZDhW3TwC5Ijk8BjxUK3Pdqz_fjHxTTFAfIAg?e=VDEjfu)\n",
    "\n",
    "* [uzcategui](https://udeaeduco-my.sharepoint.com/:b:/g/personal/marco_canas_udea_edu_co/ETDikm-lVl1Or8XoEo9oyh0BEti9Zs8le-f0D-dBdtZmbA?e=bBsoyQ)"
   ]
  },
  {
   "cell_type": "markdown",
   "id": "6b9e56a8",
   "metadata": {
    "slideshow": {
     "slide_type": "slide"
    }
   },
   "source": [
    "### [Evaluamos al profesor Marco Cañas Aquí](https://forms.office.com/Pages/ResponsePage.aspx?id=IefhmYRxjkmK_7KtTlPBwkanXIs1i1FEujpsZgO6dXpUREJPV1kxUk1JV1ozTFJIQVNIQjY5WEY3US4u)"
   ]
  },
  {
   "cell_type": "markdown",
   "id": "071afa04",
   "metadata": {
    "slideshow": {
     "slide_type": "slide"
    }
   },
   "source": [
    "## [Evaluación luego de alcanzar estos objetivos de aprendizaje]()"
   ]
  },
  {
   "cell_type": "markdown",
   "id": "10f43536",
   "metadata": {
    "slideshow": {
     "slide_type": "slide"
    }
   },
   "source": [
    "### Continue su aprendizaje en la siguiente clase a través del siguiente [vínculo]()"
   ]
  },
  {
   "cell_type": "markdown",
   "id": "af751e30",
   "metadata": {
    "slideshow": {
     "slide_type": "slide"
    }
   },
   "source": [
    "# Conjeturas pedagógicas fruto de la aplicación del modelo de aprendizaje invertido y del enfoque hacia la ciencia de datos con python\n",
    "\n",
    "1. Todo cálculo o resultado debe ser interpretado en una línea markdown del cuaderno Jupyter, inmediatamente después de la enunciación del resultado y después de la presentación de una tabla o gráfico bidimensional, de tal menera que el estudiante explicite la comprensión verbal del resultado y las inferencias o estrategias que este resultado le sugieren.   "
   ]
  },
  {
   "cell_type": "markdown",
   "id": "53cc9115",
   "metadata": {
    "slideshow": {
     "slide_type": "slide"
    }
   },
   "source": [
    "## Agradecimientos  \n",
    "\n",
    "Doy gracias a Dios por la vida de mi Hijo Joseph Cañas Osorio y la madurez que ha alcanzado.\n",
    "\n",
    "Y a mi esposa Yasmira por su apoyo, orientación y acompañamiento. "
   ]
  },
  {
   "cell_type": "markdown",
   "id": "4d6c6e2c",
   "metadata": {},
   "source": [
    "# La FODA de  la clase y de la evaluación\n",
    "\n",
    "#### Fortalezas:\n",
    "\n",
    "* Trabajo en equipo\n",
    "\n",
    "#### Oportunidades\n",
    "\n",
    "Debilidades: Expresar una potencia como raiz\n",
    "\n",
    "$$ x^{m/n} = \\sqrt[n]{x^{m}}$$\n",
    "\n",
    "* La notación de derivada\n",
    "\n",
    "$$ f'(x) = \\frac{d}{dx}(f(x)) = D_{x}(f(x))  $$"
   ]
  },
  {
   "cell_type": "code",
   "execution_count": null,
   "id": "b080a840",
   "metadata": {},
   "outputs": [],
   "source": []
  }
 ],
 "metadata": {
  "celltoolbar": "Slideshow",
  "kernelspec": {
   "display_name": "Python 3 (ipykernel)",
   "language": "python",
   "name": "python3"
  },
  "language_info": {
   "codemirror_mode": {
    "name": "ipython",
    "version": 3
   },
   "file_extension": ".py",
   "mimetype": "text/x-python",
   "name": "python",
   "nbconvert_exporter": "python",
   "pygments_lexer": "ipython3",
   "version": "3.10.12"
  },
  "rise": {
   "enable_chalkboard": true,
   "theme": "sky",
   "transition": "zoom"
  }
 },
 "nbformat": 4,
 "nbformat_minor": 5
}
