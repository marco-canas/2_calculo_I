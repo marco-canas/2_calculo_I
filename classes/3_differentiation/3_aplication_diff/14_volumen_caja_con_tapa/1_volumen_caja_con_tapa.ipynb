{
 "cells": [
  {
   "cell_type": "markdown",
   "id": "7e1bd9b3",
   "metadata": {
    "slideshow": {
     "slide_type": "slide"
    }
   },
   "source": [
    "<table align=\"left\">\n",
    "  <td>\n",
    "    <a href=\"https://colab.research.google.com/github/marco-canas/calculo/blob/main/classes/3_differentiation/3_aplication_diff/14_volumen_caja_con_tapa/1_volumen_caja_con_tapa.ipynb\" target=\"_parent\"><img src=\"https://colab.research.google.com/assets/colab-badge.svg\" alt=\"Open In Colab\"/></a>\n",
    "  </td>\n",
    "</table>"
   ]
  },
  {
   "cell_type": "markdown",
   "id": "0f6c74d8",
   "metadata": {
    "slideshow": {
     "slide_type": "slide"
    }
   },
   "source": [
    "## [Video de apoyo a la lectura interactiva y experimental de este cuaderno](https://www.youtube.com/watch?v=2n4ENaqnw4A)"
   ]
  },
  {
   "cell_type": "markdown",
   "id": "2d22e389",
   "metadata": {
    "slideshow": {
     "slide_type": "slide"
    }
   },
   "source": [
    "## [Vínculo al programa del curso para Cálculo diferencial de Ingeniería agropecuaria](https://github.com/marco-canas/calculo/blob/main/3_programa_calculo_ingenieria_agropecuaria.docx)"
   ]
  },
  {
   "cell_type": "markdown",
   "id": "516c1f84",
   "metadata": {
    "slideshow": {
     "slide_type": "slide"
    }
   },
   "source": [
    "Mis estudiantes son la razón de mi actividad docente:\n",
    "\n",
    "<img src = 'https://github.com/marco-canas/algebra_y_trigonometria/blob/main/images/funciones_python_con_celular_2.jpg?raw=true'>"
   ]
  },
  {
   "cell_type": "markdown",
   "id": "253babac",
   "metadata": {
    "slideshow": {
     "slide_type": "slide"
    }
   },
   "source": [
    "### Modelo pedagógico de la clase: [Aula invertida](https://www3.gobiernodecanarias.org/medusa/ecoescuela/pedagotic/aprendizaje-invertido-flipped-classroom/)  \n",
    "\n",
    "#### ¿Para qué sirve?\n",
    "\n",
    "Mejora el proceso de enseñanza-aprendizaje realizando,   \n",
    "\n",
    "* fuera del aula, actividades de aprendizaje sencillas (observar, memorizar, resumir, etc.) y, \n",
    "* en el aula, actividades más complejas (razonar, examinar, experimentar, priorizar, argumentar, proponer, etc.) que requieren la interacción entre iguales y la ayuda del docente como facilitador."
   ]
  },
  {
   "cell_type": "code",
   "execution_count": null,
   "id": "e0e6dd72",
   "metadata": {
    "slideshow": {
     "slide_type": "slide"
    }
   },
   "outputs": [],
   "source": [
    "import pandas as pd\n",
    "import random\n",
    "\n",
    "def generar_notas_seguimiento(numero_estudiantes):\n",
    "    \"\"\"Genera una lista de notas de seguimiento aleatorias para cada estudiante.\"\"\"\n",
    "    return [random.randint(1, 100) for _ in range(numero_estudiantes)]\n",
    "\n",
    "def crear_columnas_vacias(df, atributos):\n",
    "    \"\"\"Crea columnas con atributos solicitados y establece NaN como valor.\"\"\"\n",
    "    for atributo in atributos:\n",
    "        df[atributo] = pd.NA\n",
    "    return df\n",
    "\n",
    "def main():\n",
    "    # URL del archivo .csv con los estudiantes\n",
    "    url = 'https://raw.githubusercontent.com/marco-canas/groups_list/main/calculo_diferencial.csv'\n",
    "\n",
    "    # Leer el archivo .csv y almacenar los datos en un DataFrame\n",
    "    df = pd.read_csv(url)\n",
    "\n",
    "    # Generar una nota de seguimiento aleatoria para cada estudiante\n",
    "    df['seguimiento'] = generar_notas_seguimiento(len(df))\n",
    "\n",
    "    # Crear las columnas con los atributos solicitados y establecerlas en NaN (vacío)\n",
    "    atributos = ['parcial 1', 'parcial 2', 'parcial 3', 'quiz 1', 'quiz 2', 'autoevaluacion', 'video_aplicaciones_para_aprender_calculo']\n",
    "    df = crear_columnas_vacias(df, atributos)\n",
    "\n",
    "    # Guardar el DataFrame con los atributos actualizados en un nuevo archivo .csv\n",
    "    df.to_csv('calculo_diferencial_con_notas.csv', index=False)\n",
    "\n",
    "    # Seleccionar un estudiante aleatoriamente\n",
    "    estudiante_aleatorio = df.sample(1)\n",
    "\n",
    "    # Obtener el nombre del estudiante\n",
    "    nombre_estudiante = estudiante_aleatorio['Nombre'].values[0]\n",
    "    \n",
    "    print(f\"Estudiante seleccionado: {nombre_estudiante}\")\n",
    "\n",
    "    # Solicitar la nota de participación al usuario\n",
    "    nota_participacion = int(input(\"Ingrese la nota de participación para el estudiante (entre 1 y 100): \"))\n",
    "\n",
    "    # Agregar la nota de participación al DataFrame\n",
    "    df.loc[df['Nombre'] == nombre_estudiante, 'seguimiento'] = nota_participacion\n",
    "\n",
    "    # Guardar los cambios en el archivo .csv\n",
    "    df.to_csv('calculo_diferencial_con_notas.csv', index=False)\n",
    "\n",
    "    print(\"Archivo calculo_diferencial_con_notas.csv actualizado exitosamente.\")\n",
    "\n",
    "if __name__ == \"__main__\":\n",
    "    main()\n"
   ]
  },
  {
   "cell_type": "code",
   "execution_count": null,
   "id": "81f556f6",
   "metadata": {
    "slideshow": {
     "slide_type": "slide"
    }
   },
   "outputs": [],
   "source": [
    "#llamar a lista o tomar registro de asistencia a clase\n",
    "def llamar_estudiantes_a_participar():\n",
    "    import numpy as np \n",
    "    from random import choice\n",
    "    if len(lista_estudiantes) != 0:\n",
    "        estudiante = choice(lista_estudiantes)\n",
    "        lista_estudiantes.remove(estudiante)\n",
    "        return print(estudiante)\n",
    "    else:\n",
    "        print('Todos los estudiantes han participado.\\n \\\n",
    "               Muchas gracias y Felicitaciones')"
   ]
  },
  {
   "cell_type": "code",
   "execution_count": null,
   "id": "fc1a79d1",
   "metadata": {
    "slideshow": {
     "slide_type": "slide"
    }
   },
   "outputs": [],
   "source": [
    "ubicacion_lista='https://raw.githubusercontent.com/marco-canas/groups_list/main/2_calculo.csv'\n",
    "lista_estudiantes = crear_lista_estudiantes(ubicacion_lista)"
   ]
  },
  {
   "cell_type": "code",
   "execution_count": null,
   "id": "d933f30c",
   "metadata": {
    "slideshow": {
     "slide_type": "slide"
    }
   },
   "outputs": [],
   "source": [
    "llamar_estudiantes_a_participar()"
   ]
  },
  {
   "cell_type": "markdown",
   "metadata": {},
   "source": [
    "# Problema número 43 del Purcell sobre Máximización de volumen de una caja con tapa"
   ]
  },
  {
   "cell_type": "markdown",
   "metadata": {},
   "source": [
    "Con una hoja rectangular de cartón, que mide 5 por 8 pies, se confeccionará una caja con tapa. Esto se realiza cortando las regiones sombreadas de la figura 29 y luego doblando por las líneas discontinuas. ¿Cuáles son las dimensiones $x$, $y$ y $z$ que maximizan el volumen?"
   ]
  },
  {
   "cell_type": "markdown",
   "metadata": {},
   "source": [
    "<img src =\"https://github.com/marco-canas/calculo/blob/main/images/3_derivada/aplicaciones_derivada/fig_29_maximizacion_volumen_caja_con_tapa.png?raw=true\">"
   ]
  },
  {
   "cell_type": "code",
   "execution_count": 22,
   "metadata": {},
   "outputs": [],
   "source": [
    "def volumen_como_función_solo_de_la_altura(altura):\n",
    "    return altura*(4-altura)*(5-2*altura)"
   ]
  },
  {
   "cell_type": "markdown",
   "metadata": {},
   "source": [
    "$$ altura \\leq 2.5 $$"
   ]
  },
  {
   "cell_type": "code",
   "execution_count": 32,
   "metadata": {},
   "outputs": [
    {
     "data": {
      "text/plain": [
       "9"
      ]
     },
     "execution_count": 32,
     "metadata": {},
     "output_type": "execute_result"
    }
   ],
   "source": [
    "volumen_como_función_solo_de_la_altura(altura = 1)"
   ]
  },
  {
   "cell_type": "markdown",
   "metadata": {},
   "source": [
    "# Suposición\n",
    "\n",
    "La altura parece que debe ser de 1 pie para quue el volumen sea de 9 pies cúbicos. "
   ]
  },
  {
   "cell_type": "markdown",
   "metadata": {},
   "source": [
    "# Elaboración de la tabla\n",
    "\n"
   ]
  },
  {
   "cell_type": "code",
   "execution_count": 21,
   "metadata": {},
   "outputs": [
    {
     "data": {
      "text/html": [
       "<div>\n",
       "<style scoped>\n",
       "    .dataframe tbody tr th:only-of-type {\n",
       "        vertical-align: middle;\n",
       "    }\n",
       "\n",
       "    .dataframe tbody tr th {\n",
       "        vertical-align: top;\n",
       "    }\n",
       "\n",
       "    .dataframe thead th {\n",
       "        text-align: right;\n",
       "    }\n",
       "</style>\n",
       "<table border=\"1\" class=\"dataframe\">\n",
       "  <thead>\n",
       "    <tr style=\"text-align: right;\">\n",
       "      <th></th>\n",
       "      <th>alturas</th>\n",
       "      <th>volúmenes</th>\n",
       "    </tr>\n",
       "  </thead>\n",
       "  <tbody>\n",
       "    <tr>\n",
       "      <th>0</th>\n",
       "      <td>0.0</td>\n",
       "      <td>0.000</td>\n",
       "    </tr>\n",
       "    <tr>\n",
       "      <th>1</th>\n",
       "      <td>0.5</td>\n",
       "      <td>7.000</td>\n",
       "    </tr>\n",
       "    <tr>\n",
       "      <th>2</th>\n",
       "      <td>0.8</td>\n",
       "      <td>8.704</td>\n",
       "    </tr>\n",
       "    <tr>\n",
       "      <th>3</th>\n",
       "      <td>0.9</td>\n",
       "      <td>8.928</td>\n",
       "    </tr>\n",
       "    <tr>\n",
       "      <th>4</th>\n",
       "      <td>1.0</td>\n",
       "      <td>9.000</td>\n",
       "    </tr>\n",
       "    <tr>\n",
       "      <th>5</th>\n",
       "      <td>2.0</td>\n",
       "      <td>4.000</td>\n",
       "    </tr>\n",
       "    <tr>\n",
       "      <th>6</th>\n",
       "      <td>2.5</td>\n",
       "      <td>0.000</td>\n",
       "    </tr>\n",
       "  </tbody>\n",
       "</table>\n",
       "</div>"
      ],
      "text/plain": [
       "   alturas  volúmenes\n",
       "0      0.0      0.000\n",
       "1      0.5      7.000\n",
       "2      0.8      8.704\n",
       "3      0.9      8.928\n",
       "4      1.0      9.000\n",
       "5      2.0      4.000\n",
       "6      2.5      0.000"
      ]
     },
     "execution_count": 21,
     "metadata": {},
     "output_type": "execute_result"
    }
   ],
   "source": [
    "import pandas as pd \n",
    "import numpy as np \n",
    "\n",
    "alturas = np.array([0, 0.5, 0.8 , 0.9,  1, 2, 2.5])\n",
    "volumenes = volumen_como_función_solo_de_la_altura(alturas)\n",
    "\n",
    "tabla = pd.DataFrame({'alturas':alturas, 'volúmenes': volumenes})\n",
    "\n",
    "tabla "
   ]
  },
  {
   "cell_type": "code",
   "execution_count": 15,
   "metadata": {},
   "outputs": [
    {
     "data": {
      "text/plain": [
       "array([0.   , 7.   , 8.704, 8.928, 9.   , 4.   , 0.   ])"
      ]
     },
     "execution_count": 15,
     "metadata": {},
     "output_type": "execute_result"
    }
   ],
   "source": [
    "import numpy as np  # numpy es para vectores y matrices y funciones matemáticas \n",
    "import matplotlib.pyplot as plt  # para graficar \n",
    "\n",
    "alturas = np.array([0, 0.5, 0.8 , 0.9,  1, 2, 2.5])\n",
    "volumenes = volumen_como_función_solo_de_la_altura(alturas)\n",
    "\n",
    "volumenes"
   ]
  },
  {
   "cell_type": "code",
   "execution_count": null,
   "metadata": {},
   "outputs": [],
   "source": []
  },
  {
   "cell_type": "code",
   "execution_count": 34,
   "metadata": {},
   "outputs": [
    {
     "data": {
      "text/plain": [
       "Text(0, 0.5, 'Volumen de la caja')"
      ]
     },
     "execution_count": 34,
     "metadata": {},
     "output_type": "execute_result"
    },
    {
     "data": {
      "image/png": "[encoded data removed]",
      "text/plain": [
       "<Figure size 640x480 with 1 Axes>"
      ]
     },
     "metadata": {},
     "output_type": "display_data"
    }
   ],
   "source": [
    "plt.plot(alturas, volumenes)\n",
    "\n",
    "plt.xlabel('altura')\n",
    "plt.ylabel('Volumen de la caja')"
   ]
  },
  {
   "cell_type": "markdown",
   "metadata": {},
   "source": [
    "Conclusión\n",
    "\n",
    "El análisis gráfico arroja que parece ser que nuestra supocisión de que la altura debe ser de 1 pie para que el volumen sea máximo, es cierta. \n",
    "\n",
    "Utilicemos la derivada para asegurarnos y así tomar una decisión informada y bien fundamentada. "
   ]
  },
  {
   "cell_type": "code",
   "execution_count": 20,
   "metadata": {},
   "outputs": [
    {
     "data": {
      "text/plain": [
       "[1, 10/3]"
      ]
     },
     "execution_count": 20,
     "metadata": {},
     "output_type": "execute_result"
    }
   ],
   "source": [
    "from sympy import * \n",
    "\n",
    "altura, volumen = var('altura, volumen')\n",
    "\n",
    "volumen = altura*(4-altura)*(5-2*altura)\n",
    "\n",
    "derivada = diff(volumen, altura)\n",
    "\n",
    "igualar_a_cero = Eq(derivada, 0) # utiliza la función Equation() de sympy para crear ecuaciones \n",
    "\n",
    "solve(igualar_a_cero, altura) \n",
    "\n"
   ]
  },
  {
   "cell_type": "markdown",
   "metadata": {},
   "source": [
    "# Conclusión o decisión\n",
    "\n",
    "Construyan la caja con una altura de 1 pie, porque así, obtendremos una caja que le quepa el mayor número flores. \n",
    "\n",
    "Las tres dimensiones son: \n",
    "\n",
    "* altura = 1 pie\n",
    "\n",
    "* largo = 3 pies\n",
    "* ancho = 3 pies\n",
    "* \n",
    "\n"
   ]
  },
  {
   "cell_type": "code",
   "execution_count": null,
   "metadata": {},
   "outputs": [],
   "source": []
  },
  {
   "cell_type": "markdown",
   "id": "20b24d19",
   "metadata": {
    "slideshow": {
     "slide_type": "slide"
    }
   },
   "source": [
    "# Differenciation Class "
   ]
  },
  {
   "cell_type": "markdown",
   "id": "72013bf1",
   "metadata": {
    "slideshow": {
     "slide_type": "slide"
    }
   },
   "source": [
    "### Objetivo de aprendizaje  \n",
    "\n",
    "1. Comprender que la derivada de una función es una función que describe la velocidad o tasa de cambio instantánea en cada punto  del dominio de $f$ donde esta es derivable. \n",
    "\n",
    "2. Aprender las funciones básicas y a derivarlas haciendo uso de las reglas de derivación. "
   ]
  },
  {
   "cell_type": "markdown",
   "id": "27781bf3",
   "metadata": {
    "slideshow": {
     "slide_type": "slide"
    }
   },
   "source": [
    "Página 112 del [purcell]([Cálculo purcell](https://udeaeduco-my.sharepoint.com/:b:/g/personal/marco_canas_udea_edu_co/ES60UB4h-QFFqqRQUFmkpWcBIgoLBJeqTfZjNajWNWSeJA?e=SO4M1M))  \n",
    "\n",
    "\n",
    "# Sección 2.1 Dos problemas con el mismo tema  "
   ]
  },
  {
   "cell_type": "markdown",
   "id": "bd761089",
   "metadata": {
    "slideshow": {
     "slide_type": "slide"
    }
   },
   "source": [
    "Nuestro primer problema es muy antiguo; se remonta a la época del gran científico griego Arquímedes (287-212 A. C.). "
   ]
  },
  {
   "cell_type": "markdown",
   "id": "8e48043d",
   "metadata": {
    "slideshow": {
     "slide_type": "slide"
    }
   },
   "source": [
    "Nos referimos al problema de la pendiente de la recta tangente. "
   ]
  },
  {
   "cell_type": "markdown",
   "id": "51c5bd8b",
   "metadata": {
    "slideshow": {
     "slide_type": "slide"
    }
   },
   "source": [
    "Nuestro segundo problema es más reciente. Surgió con los intentos de Kepler (1571-1630), Galileo (1564-1642), Newton (1642-1727) y otros para describir la velocidad de un cuerpo en movimiento. "
   ]
  },
  {
   "cell_type": "markdown",
   "id": "6a379a4c",
   "metadata": {
    "slideshow": {
     "slide_type": "slide"
    }
   },
   "source": [
    "Es el problema de la velocidad instantánea."
   ]
  },
  {
   "cell_type": "markdown",
   "id": "6b81f89b",
   "metadata": {
    "slideshow": {
     "slide_type": "slide"
    }
   },
   "source": [
    "Los dos problemas, uno geométrico y el otro mecánico, parecen no estar muy relacionados. "
   ]
  },
  {
   "cell_type": "markdown",
   "id": "db3f0ea7",
   "metadata": {
    "slideshow": {
     "slide_type": "slide"
    }
   },
   "source": [
    "En este caso, las apariencias engañan. Los dos problemas son gemelos idénticos."
   ]
  },
  {
   "cell_type": "markdown",
   "id": "6110ec3b",
   "metadata": {
    "slideshow": {
     "slide_type": "slide"
    }
   },
   "source": [
    "La recta tangente La noción de Euclides de una tangente, como una recta que toca a una curva en un solo punto es totalmente correcta para circunferencias (véase la figura 1); pero completamente insatisfactoria para otras curvas (véase la figura 2). "
   ]
  },
  {
   "cell_type": "markdown",
   "id": "305b7d47",
   "metadata": {
    "slideshow": {
     "slide_type": "slide"
    }
   },
   "source": [
    "La idea de una tangente, en $P$ a una curva como la recta que mejor se aproxima a la curva cerca de $P$ es bastante mejor, pero aún muy vaga para la precisión matemática. "
   ]
  },
  {
   "cell_type": "markdown",
   "id": "5fdc7d4d",
   "metadata": {
    "slideshow": {
     "slide_type": "slide"
    }
   },
   "source": [
    "El concepto de límite proporciona una manera de obtener una mejor descripción."
   ]
  },
  {
   "cell_type": "markdown",
   "id": "bf72b07f",
   "metadata": {
    "slideshow": {
     "slide_type": "slide"
    }
   },
   "source": [
    "Sea $P$ un punto en una curva y sea $Q$ un punto móvil cercano a $P$ en esa curva."
   ]
  },
  {
   "cell_type": "markdown",
   "id": "908121fc",
   "metadata": {
    "slideshow": {
     "slide_type": "slide"
    }
   },
   "source": [
    "Considere la recta que pasa por P y Q, llamada recta secante. La recta tangente en P es la posición límite (si ésta existe) de la recta secante cuando Q se mueve hacia P a lo largo de la curva (véase la figura 3).\n",
    "Suponga que la curva es la gráfica de la ecuación Entonces, P tiene\n",
    "coordenadas un punto cercano Q tiene coordenadas y la\n",
    "recta secante de P y Q tiene pendiente dada por (véase la figura 4)"
   ]
  },
  {
   "cell_type": "markdown",
   "id": "0057c756",
   "metadata": {
    "slideshow": {
     "slide_type": "slide"
    }
   },
   "source": [
    "$$ m_{sec} = \\frac{f(c+h) - f(c)}{h} $$"
   ]
  },
  {
   "cell_type": "markdown",
   "id": "991bebfe",
   "metadata": {
    "slideshow": {
     "slide_type": "slide"
    }
   },
   "source": [
    "# Animación de aproximación de la pendiente de la tangente a través de las pendientes de secantes"
   ]
  },
  {
   "cell_type": "code",
   "execution_count": 5,
   "id": "f57090f3",
   "metadata": {
    "slideshow": {
     "slide_type": "slide"
    }
   },
   "outputs": [
    {
     "data": {
      "application/vnd.jupyter.widget-view+json": {
       "model_id": "fd90882f129b4dd1b5f4bb263745d7a9",
       "version_major": 2,
       "version_minor": 0
      },
      "text/plain": [
       "interactive(children=(FloatSlider(value=1.0, description='h', max=1.0), Output()), _dom_classes=('widget-inter…"
      ]
     },
     "metadata": {},
     "output_type": "display_data"
    }
   ],
   "source": [
    "import numpy as np\n",
    "import matplotlib.pyplot as plt\n",
    "\n",
    "from ipywidgets import interact\n",
    "import sympy as sp\n",
    "\n",
    "def f(x):\n",
    "    return (x - 1) ** 2 + 1\n",
    "\n",
    "c = 2\n",
    "punto_tangencia = (c, f(c))\n",
    "\n",
    "def trazar_secantes_y_tangente(h=1):\n",
    "    # Dominio de la función original para graficarla\n",
    "    dominio_f = np.linspace(-1, 5)\n",
    "    rango_f = f(dominio_f)\n",
    "    \n",
    "    # Calcular la derivada de la función cuadrática f(x)\n",
    "    x = sp.Symbol('x')\n",
    "    f_prime = sp.diff(f(x), x)\n",
    "    \n",
    "    # Calcular la pendiente de la recta tangente en el punto (c, f(c))\n",
    "    pendiente_tangente = f_prime.subs(x, c)\n",
    "    \n",
    "    # Definir la ecuación de la recta tangente usando la pendiente y el punto de tangencia\n",
    "    def recta_tangente(x):\n",
    "        return pendiente_tangente * (x - c) + f(c)\n",
    "    \n",
    "    # Dominio de la recta tangente para graficarla\n",
    "    dominio_tangente = np.linspace(c - 1, 5)\n",
    "    rango_tangente = recta_tangente(dominio_tangente)\n",
    "    \n",
    "    # Graficar la función cuadrática y la recta tangente\n",
    "    plt.plot(dominio_f, rango_f, label='Función cuadrática')\n",
    "    plt.plot(dominio_tangente, rango_tangente, label='Recta tangente', color='red')\n",
    "    plt.scatter([punto_tangencia[0]], [punto_tangencia[1]], color='red')\n",
    "    plt.text(x=c - 1, y=f(c) + 1, s=r'$(c,f(c))$')\n",
    "    plt.grid(alpha=0.4)\n",
    "    plt.title(r'La función cuadrática $y = f(x) = (x-1)^{2} + 1$ y su recta tangente')\n",
    "    plt.legend()\n",
    "    plt.ylim(0, 8)  # Ajustar el rango del eje y para una mejor visualización\n",
    "\n",
    "interact(trazar_secantes_y_tangente, h=(0, 1, 0.1))\n",
    "\n",
    "plt.show()\n"
   ]
  },
  {
   "cell_type": "markdown",
   "id": "162e5dc3",
   "metadata": {
    "slideshow": {
     "slide_type": "slide"
    }
   },
   "source": [
    "## Interpretaciones de esta animación"
   ]
  },
  {
   "cell_type": "markdown",
   "id": "cd04b8d9",
   "metadata": {
    "slideshow": {
     "slide_type": "slide"
    }
   },
   "source": [
    "1.  La pendiente de la curva en un punto, es la pendiente de la recta tangente a la curva en ese preciso punto. \n",
    "2.  \n",
    "3.  \n",
    "4. \n",
    "5.  \n",
    "6.  \n",
    "7.  "
   ]
  },
  {
   "cell_type": "markdown",
   "id": "0d56707e",
   "metadata": {
    "slideshow": {
     "slide_type": "slide"
    }
   },
   "source": [
    "## Mapa conceptual de la clase"
   ]
  },
  {
   "cell_type": "markdown",
   "id": "f00feaef",
   "metadata": {
    "slideshow": {
     "slide_type": "slide"
    }
   },
   "source": [
    "<img src = 'https://github.com/marco-canas/2_calculo_I/blob/main/classes/7_class_april_14_differentiation/concepto%20de%20derivada%20-%20%C2%BFCu%C3%A1l%20es%20la%20velocidad%20de%20cambio%20en%20un%20punto%20de%20una%20funci%C3%B3n.jpg?raw=true'>"
   ]
  },
  {
   "cell_type": "markdown",
   "id": "e69c68be",
   "metadata": {
    "slideshow": {
     "slide_type": "slide"
    }
   },
   "source": [
    "# Prerrequisitos conceptuales  \n",
    "\n",
    "1. La [función seno](https://es.symbolab.com/solver/step-by-step/%5Csin%5Cleft(x%5Cright)?or=input) \n",
    "\n",
    "2. Lista de funciones\n",
    "\n",
    "3. Cual es la más simple de las racionales\n",
    "\n",
    "4. cómo graficar por lo menos 10 polinomicas de manera animada con geogebra\n",
    "\n"
   ]
  },
  {
   "cell_type": "markdown",
   "id": "02ae9635",
   "metadata": {
    "slideshow": {
     "slide_type": "slide"
    }
   },
   "source": [
    "## Gráfico de la función seno \n",
    "\n"
   ]
  },
  {
   "cell_type": "markdown",
   "id": "97cfd900",
   "metadata": {
    "slideshow": {
     "slide_type": "slide"
    }
   },
   "source": [
    "# Tareas para realizar en clase"
   ]
  },
  {
   "cell_type": "markdown",
   "id": "d3f62b7c",
   "metadata": {
    "slideshow": {
     "slide_type": "slide"
    }
   },
   "source": [
    "Ejercicio 119 de la página 117 del  [Cálculo purcell](https://udeaeduco-my.sharepoint.com/:b:/g/personal/marco_canas_udea_edu_co/ES60UB4h-QFFqqRQUFmkpWcBIgoLBJeqTfZjNajWNWSeJA?e=SO4M1M).  \n"
   ]
  },
  {
   "cell_type": "markdown",
   "id": "66c197e1",
   "metadata": {
    "slideshow": {
     "slide_type": "slide"
    }
   },
   "source": [
    "|nombre de la función|fórmula|derivada|  \n",
    "|--------------------|-------|--------|  \n",
    "|función constante|f(x) = 600|f'(x) = 0|\n",
    "|función identidad|f(x) = x||\n",
    "|función seno|f(x) = sin(x)||\n",
    "|funcion raiz|f(x) = sqrt(x)||\n",
    "||||\n",
    "||||\n",
    "||||\n",
    "||||\n",
    "||||\n",
    "||||\n",
    "||||\n",
    "||||\n",
    "||||\n",
    "||||\n",
    "||||\n",
    "||||\n",
    "||||\n",
    "||||\n",
    "|||| "
   ]
  },
  {
   "cell_type": "markdown",
   "id": "1d794427",
   "metadata": {
    "slideshow": {
     "slide_type": "slide"
    }
   },
   "source": [
    "# Tareas para realizar fuera de clase"
   ]
  },
  {
   "cell_type": "markdown",
   "id": "d65d473e",
   "metadata": {
    "slideshow": {
     "slide_type": "slide"
    }
   },
   "source": [
    "1. Leer desde la página 112 na 119 del Purcell Sobre la primera sección sobre la derivada de una función. \n",
    "2. Realice una síntesis de del tema anterior. \n",
    "3. Emule los ejemplos que el autor presenta\n",
    "4. Trate de realizar los ejercicios propuestos por el autor en esta sección. (señale los ejercicios en los que encuentre dificultal para ayudarle en clase). \n",
    "5. Hacer por lo menos 30 ejercicios sobre aplicación de las [reglas de derivación](https://udeaeduco-my.sharepoint.com/:b:/g/personal/marco_canas_udea_edu_co/ES60UB4h-QFFqqRQUFmkpWcBIgoLBJeqTfZjNajWNWSeJA?e=klbAif) y busque esos ejercicios de entrenamiento en la página  y sección 2.3 del Purcell. \n",
    "marco.canas@udea.edu.co\n",
    "\n",
    "6. Hacer por lo menos 10 ejercicios de determinación del dominio de una función. "
   ]
  },
  {
   "cell_type": "markdown",
   "id": "d74c9eb1",
   "metadata": {},
   "source": [
    "De la página 132 del precálcilo de stewart estudiar por lo menos 10 ejercicios de aplicación"
   ]
  },
  {
   "cell_type": "markdown",
   "id": "be5e748c",
   "metadata": {
    "slideshow": {
     "slide_type": "slide"
    }
   },
   "source": [
    "## Cuestionario para memorizar"
   ]
  },
  {
   "cell_type": "markdown",
   "id": "bd73de84",
   "metadata": {
    "slideshow": {
     "slide_type": "slide"
    }
   },
   "source": [
    "1. ¿Qué es Velocidad, desde el punto de vista físico?\n",
    "2. ¿Qué es una recta?\n",
    "3. ¿Qué es una recta secante?\n",
    "4. ¿Qué es una recta tangente?\n",
    "5. ¿Qué es pendiente de una recta?"
   ]
  },
  {
   "cell_type": "markdown",
   "id": "0141de19",
   "metadata": {
    "slideshow": {
     "slide_type": "slide"
    }
   },
   "source": [
    "## Grabaciones en audio para fomentar la capacidad de memorizar enunciados de teoremas y resultados científicos y la capacidad de parafrasear estos resultados. Y así desarrollar memoria muscular para los comandos comunes. \n",
    "Se dispondrá de un lugar en Vocaroo para albergar archivos de audio de fomento a la memorización, enunciación y parafraseo de los resultados científicos, propiedades, reglas, etc. \n",
    "\n",
    "[Vocaroo](https://vocaroo.com/)\n",
    "\n",
    "[Derivada de una suma](https://voca.ro/17FmbXdTXDWh)\n",
    "\n",
    "[Definición de derivada](https://voca.ro/1mqcwTmwEQ7y)\n",
    "\n",
    "[La derivada de la función cuadrática](https://voca.ro/1lWJGwhQdQRg)  \n",
    "\n",
    "[el cuadrado de una suma](https://voca.ro/1oBfeYRQ6smg)"
   ]
  },
  {
   "cell_type": "markdown",
   "id": "4c444ecf",
   "metadata": {
    "slideshow": {
     "slide_type": "slide"
    }
   },
   "source": [
    "# Vocabulary"
   ]
  },
  {
   "cell_type": "markdown",
   "id": "b34e49fe",
   "metadata": {
    "slideshow": {
     "slide_type": "slide"
    }
   },
   "source": [
    "1. size: Tamaño.\n",
    "2. interact: \n",
    "3. space: espacio\n",
    "4. plot\n",
    "5. scatter\n",
    "6. text: texto verbal"
   ]
  },
  {
   "cell_type": "markdown",
   "id": "d278c79b",
   "metadata": {
    "slideshow": {
     "slide_type": "slide"
    }
   },
   "source": [
    "## Referentes\n",
    "\n",
    "* [Precálculo de Stewart](https://udeaeduco-my.sharepoint.com/:b:/g/personal/marco_canas_udea_edu_co/ERHIq62I6qFNrmxy6LZb8ZMBci7kUsyNME1nIh9yCBMJ_w?e=cOQjzv)\n",
    "* [Cálculo Stewart](https://udeaeduco-my.sharepoint.com/:b:/g/personal/marco_canas_udea_edu_co/EZgXZjAp8QxPqOAim2hs6LcBNPLGjSHf-xwYnUVYkwa04w?e=k1HOhB)\n",
    "\n",
    "* [Cálculo purcell](https://udeaeduco-my.sharepoint.com/:b:/g/personal/marco_canas_udea_edu_co/ES60UB4h-QFFqqRQUFmkpWcBIgoLBJeqTfZjNajWNWSeJA?e=SO4M1M). Página 112 todo sobre derivadas. \n",
    "\n",
    "* La función plt.text(): https://matplotlib.org/stable/api/_as_gen/matplotlib.pyplot.text.html  \n",
    "\n",
    "* [Cálculo para ciencia de datos de Geron](https://github.com/ageron/handson-ml3/blob/main/math_differential_calculus.ipynb)"
   ]
  },
  {
   "cell_type": "markdown",
   "id": "896bf645",
   "metadata": {
    "slideshow": {
     "slide_type": "slide"
    }
   },
   "source": [
    "### [Evaluamos al profesor Marco Cañas Aquí](https://forms.office.com/Pages/ResponsePage.aspx?id=IefhmYRxjkmK_7KtTlPBwkanXIs1i1FEujpsZgO6dXpUREJPV1kxUk1JV1ozTFJIQVNIQjY5WEY3US4u)"
   ]
  },
  {
   "cell_type": "markdown",
   "id": "ef4f9f85",
   "metadata": {
    "slideshow": {
     "slide_type": "slide"
    }
   },
   "source": [
    "### Continue su aprendizaje en la siguiente clase a través del siguiente [vínculo](https://github.com/marco-canas/2_calculo_I/blob/main/classes/8_class_april_21_derivada_2/8_class_april_21_derivada_parte_2.ipynb)"
   ]
  },
  {
   "cell_type": "markdown",
   "id": "b705ffa5",
   "metadata": {},
   "source": [
    "# Conjeturas pedagógicas fruto de la aplicación del modelo de aprendizaje invertido y del enfoque hacia la ciencia de datos con python\n",
    "\n",
    "1. Todo cálculo o resultado debe ser interpretado en una línea markdown en la línea del cuaderno Jupyter, inmediatamente después de la enunciación del resultado y después de la presentación de una tabla o gráfico bidimensional, de tal menera que el estudiante explicite la comprensión verbal del resultado y las inferencias o estrategias que este resultado le sugieren.   \n",
    "\n",
    "\n",
    "### Agradecimientos  \n",
    "\n",
    "Doy gracias a Dios por la vida de mi Hijo Joseph Cañas Osorio y la madurez que ha alcanzado. "
   ]
  },
  {
   "cell_type": "code",
   "execution_count": null,
   "id": "e0420687",
   "metadata": {},
   "outputs": [],
   "source": []
  }
 ],
 "metadata": {
  "celltoolbar": "Slideshow",
  "kernelspec": {
   "display_name": "Python 3 (ipykernel)",
   "language": "python",
   "name": "python3"
  },
  "language_info": {
   "codemirror_mode": {
    "name": "ipython",
    "version": 3
   },
   "file_extension": ".py",
   "mimetype": "text/x-python",
   "name": "python",
   "nbconvert_exporter": "python",
   "pygments_lexer": "ipython3",
   "version": "3.10.12"
  },
  "rise": {
   "enable_chalkboard": true,
   "theme": "sky",
   "transition": "zoom"
  }
 },
 "nbformat": 4,
 "nbformat_minor": 5
}
