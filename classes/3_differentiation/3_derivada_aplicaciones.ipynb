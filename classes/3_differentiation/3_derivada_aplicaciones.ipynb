{
 "cells": [
  {
   "cell_type": "markdown",
   "id": "dc06dec7",
   "metadata": {
    "slideshow": {
     "slide_type": "slide"
    }
   },
   "source": [
    "<table align=\"left\">\n",
    "  <td>\n",
    "    <a href=\"https://colab.research.google.com/github/marco-canas/calculo/blob/main/classes/3_differentiation/3_derivada_aplicaciones.ipynb\" target=\"_parent\"><img src=\"https://colab.research.google.com/assets/colab-badge.svg\" alt=\"Open In Colab\"/></a>\n",
    "  </td>\n",
    "</table>"
   ]
  },
  {
   "cell_type": "markdown",
   "id": "e0c5b198",
   "metadata": {
    "slideshow": {
     "slide_type": "slide"
    }
   },
   "source": [
    "## [Video de apoyo a la lectura interactiva y experimental de este cuaderno]()"
   ]
  },
  {
   "cell_type": "markdown",
   "id": "41e82203",
   "metadata": {
    "slideshow": {
     "slide_type": "slide"
    }
   },
   "source": [
    "## [Vínculo al programa del curso en OneDrive:  ](https://udeaeduco-my.sharepoint.com/:w:/g/personal/marco_canas_udea_edu_co/EWZW7Y6aMUtOuOgQH_c5lGYBMS9lop754iWnTTJWHh9G4g?e=IxcmVT)"
   ]
  },
  {
   "cell_type": "markdown",
   "id": "ca46c23b",
   "metadata": {
    "slideshow": {
     "slide_type": "slide"
    }
   },
   "source": [
    "# Modelo general de clase: [aula invertida](https://www3.gobiernodecanarias.org/medusa/ecoescuela/pedagotic/aprendizaje-invertido-flipped-classroom/)\n",
    "\n",
    "## Definición y características de este modelo"
   ]
  },
  {
   "cell_type": "markdown",
   "id": "d2b0e776",
   "metadata": {
    "slideshow": {
     "slide_type": "slide"
    }
   },
   "source": [
    "## ¿Qué es?  \n",
    "\n",
    "Flipped Learning o aprendizaje invertido es un enfoque pedagógico en el que:  \n",
    "\n",
    "* la instrucción directa se realiza fuera del aula y \n",
    "* se utiliza el tiempo de clase para llevar a cabo actividades que impliquen el desarrollo de procesos cognitivos de mayor complejidad, en las que son necesarias la ayuda y la experiencia del docente."
   ]
  },
  {
   "cell_type": "markdown",
   "id": "5fc4f731",
   "metadata": {
    "slideshow": {
     "slide_type": "slide"
    }
   },
   "source": [
    "## ¿Para qué sirve?  \n",
    "\n",
    "Mejora el proceso de enseñanza-aprendizaje realizando,   \n",
    "\n",
    "* fuera del aula, actividades de aprendizaje sencillas (observar, memorizar, resumir, etc.) y, \n",
    "* en el aula, actividades más complejas (razonar, examinar, priorizar, argumentar, proponer, etc.) que requieren la interacción entre iguales y la ayuda del docente como facilitador."
   ]
  },
  {
   "cell_type": "markdown",
   "id": "b42472d6",
   "metadata": {
    "slideshow": {
     "slide_type": "slide"
    }
   },
   "source": [
    "<img src = 'https://github.com/marco-canas/7_didactica_ciencia_datos/blob/main/4_images/atributos_aprendizaje_invertido.png?raw=true'>"
   ]
  },
  {
   "cell_type": "markdown",
   "id": "8cee33b3",
   "metadata": {
    "slideshow": {
     "slide_type": "slide"
    }
   },
   "source": [
    "# Proceso Flipped Learning"
   ]
  },
  {
   "cell_type": "markdown",
   "id": "9c61b8b5",
   "metadata": {
    "slideshow": {
     "slide_type": "slide"
    }
   },
   "source": [
    "## Fuera del Aula"
   ]
  },
  {
   "cell_type": "markdown",
   "id": "fe20721d",
   "metadata": {
    "slideshow": {
     "slide_type": "slide"
    }
   },
   "source": [
    "### Docente:"
   ]
  },
  {
   "cell_type": "markdown",
   "id": "5b022dc9",
   "metadata": {
    "slideshow": {
     "slide_type": "slide"
    }
   },
   "source": [
    "* Diseña y planea el proceso de enseñanza-aprendizaje del aula, integrando estrategias, modelos de enseñanza y metodologías (aprendizaje basado en proyectos, aprendizaje cooperativo y colaborativo,…).  \n",
    "\n",
    "* Diseña y planea actividades que se realizarán fuera del aula (ver vídeos, cumplimentar cuestionarios,…).  \n",
    "\n",
    "* Selecciona e integra la tecnología en actividades de aprendizaje activo.  \n",
    "\n",
    "* Diseña actividades de evaluación que promuevan el aprendizaje del alumnado."
   ]
  },
  {
   "cell_type": "markdown",
   "id": "467fb978",
   "metadata": {
    "slideshow": {
     "slide_type": "slide"
    }
   },
   "source": [
    "### Alumnado:"
   ]
  },
  {
   "cell_type": "markdown",
   "id": "87d6d661",
   "metadata": {
    "slideshow": {
     "slide_type": "slide"
    }
   },
   "source": [
    "* Accede, cuantas veces necesite, a las actividades facilitadas por el profesorado.\n",
    "* Realiza las actividades propuestas."
   ]
  },
  {
   "cell_type": "markdown",
   "id": "93cd48b6",
   "metadata": {
    "slideshow": {
     "slide_type": "slide"
    }
   },
   "source": [
    "## En el Aula"
   ]
  },
  {
   "cell_type": "markdown",
   "id": "79ea8675",
   "metadata": {
    "slideshow": {
     "slide_type": "slide"
    }
   },
   "source": [
    "### Docente:"
   ]
  },
  {
   "cell_type": "markdown",
   "id": "d4d6f829",
   "metadata": {
    "slideshow": {
     "slide_type": "slide"
    }
   },
   "source": [
    "* Guía y facilita los procesos de aprendizaje, atendiendo a la diversidad.\n",
    "* Retroalimenta el desempeño de los equipos/grupos y del alumnado individualmente.\n",
    "* Genera espacios para la coevaluación y autoevaluación."
   ]
  },
  {
   "cell_type": "markdown",
   "id": "7178794c",
   "metadata": {
    "slideshow": {
     "slide_type": "slide"
    }
   },
   "source": [
    "### Alumnado:"
   ]
  },
  {
   "cell_type": "markdown",
   "id": "88d1c0f7",
   "metadata": {
    "slideshow": {
     "slide_type": "slide"
    }
   },
   "source": [
    "* Realiza las actividades (debates, exposiciones orales, informes, diario de aprendizaje, cuaderno de trabajo cooperativo,…).\n",
    "* Recibe retroalimentación inmediata del profesorado y de sus compañeros y compañeras.\n",
    "* Accede, si fuera necesario, a las actividades previas facilitadas por el profesorado."
   ]
  },
  {
   "cell_type": "markdown",
   "id": "2074b62f",
   "metadata": {
    "slideshow": {
     "slide_type": "slide"
    }
   },
   "source": [
    "## Fomento de la lectura literaria asociada a Ingeniería agropecuaria y licenciatura en Matemáticas\n",
    "\n",
    "### Una manera de centrar la atención"
   ]
  },
  {
   "cell_type": "markdown",
   "id": "dd574005",
   "metadata": {
    "slideshow": {
     "slide_type": "slide"
    }
   },
   "source": [
    "La CNV se basa en las habilidades relativas al lenguaje y la comunicación que\n",
    "refuerzan nuestra capacidad de seguir siendo humanos incluso en las condiciones más extremas. No se trata de nada nuevo: hace siglos que se conocen todos los elementos de la CNV. "
   ]
  },
  {
   "cell_type": "markdown",
   "id": "c9d3a511",
   "metadata": {
    "slideshow": {
     "slide_type": "slide"
    }
   },
   "source": [
    "El objetivo es que recordemos algo que ya sabemos –de qué modo hemos de relacionarnos los seres humanos– y que vivamos de una manera que manifieste abiertamente este conocimiento."
   ]
  },
  {
   "cell_type": "markdown",
   "id": "e28f4cbd",
   "metadata": {
    "slideshow": {
     "slide_type": "slide"
    }
   },
   "source": [
    "La CNV nos orienta para reestructurar nuestra forma de expresarnos y de escuchar a los demás. "
   ]
  },
  {
   "cell_type": "markdown",
   "id": "95b17a68",
   "metadata": {
    "slideshow": {
     "slide_type": "slide"
    }
   },
   "source": [
    "En lugar de obedecer a reacciones habituales y automáticas, nuestras palabras se convierten en respuestas conscientes con una base firme en un registro de lo que percibimos, sentimos y deseamos. "
   ]
  },
  {
   "cell_type": "markdown",
   "id": "0be89e09",
   "metadata": {
    "slideshow": {
     "slide_type": "slide"
    }
   },
   "source": [
    "Nos ayuda a expresarnos con sinceridad y claridad, al mismo tiempo que prestamos una atención respetuosa y empática a los demás. "
   ]
  },
  {
   "cell_type": "markdown",
   "id": "52d9b05f",
   "metadata": {
    "slideshow": {
     "slide_type": "slide"
    }
   },
   "source": [
    "En cualquier interacción, pasamos a tener en cuenta tanto nuestras necesidades más profundas como las ajenas. "
   ]
  },
  {
   "cell_type": "markdown",
   "id": "b0bc3c06",
   "metadata": {
    "slideshow": {
     "slide_type": "slide"
    }
   },
   "source": [
    "La CNV nos enseña a observar cui\u0002dadosamente y a detectar conductas y situaciones que nos afectan. "
   ]
  },
  {
   "cell_type": "markdown",
   "id": "d5711028",
   "metadata": {
    "slideshow": {
     "slide_type": "slide"
    }
   },
   "source": [
    "Con ella aprendemos a identificar y a expresar con claridad lo que esperamos en concreto de una situación dada. "
   ]
  },
  {
   "cell_type": "markdown",
   "id": "815e502d",
   "metadata": {
    "slideshow": {
     "slide_type": "slide"
    }
   },
   "source": [
    "El método es simple, pero su poder de transformación es extraordinario."
   ]
  },
  {
   "cell_type": "markdown",
   "id": "c6a456a0",
   "metadata": {
    "slideshow": {
     "slide_type": "slide"
    }
   },
   "source": [
    "Dado que la CNV reemplaza nuestras antiguas pautas de defensa, de huida o de ataque ante los juicios y las críticas de otras personas, empezamos a percibir a los demás y a nosotros mismos, así como a nuestras intenciones y relaciones, bajo una nueva luz. "
   ]
  },
  {
   "cell_type": "markdown",
   "id": "40289958",
   "metadata": {
    "slideshow": {
     "slide_type": "slide"
    }
   },
   "source": [
    "Las reacciones de resistencia, defensa y violencia se ven reducidas. "
   ]
  },
  {
   "cell_type": "markdown",
   "id": "a4e2d7a1",
   "metadata": {
    "slideshow": {
     "slide_type": "slide"
    }
   },
   "source": [
    "Cuando nos centramos en clarificar lo que observamos, sentimos y necesitamos, en lugar de dedicarnos a diagnosticar y a juzgar, descubrimos cuán profunda es nuestra compasión. "
   ]
  },
  {
   "cell_type": "markdown",
   "id": "1ccb2ea6",
   "metadata": {
    "slideshow": {
     "slide_type": "slide"
    }
   },
   "source": [
    "A través de su énfasis en una escucha atenta y profunda–no sólo a los demás, sino también a nosotros mismos–, la CNV propicia el respeto y la empatía y engendra un deseo mutuo de dar desde el corazón."
   ]
  },
  {
   "cell_type": "markdown",
   "id": "d36943fd",
   "metadata": {
    "slideshow": {
     "slide_type": "slide"
    }
   },
   "source": [
    "Aun cuando me refiero a la CNV como un «proceso de comunicación» o un «lenguaje de compasión», en realidad es bastan\u0002te más que eso. A un nivel más profundo, es un recordatorio constante a mantener nuestra atención en un lugar donde es más probable que\n",
    "encontremos lo que buscamos."
   ]
  },
  {
   "cell_type": "markdown",
   "id": "e8101755",
   "metadata": {
    "slideshow": {
     "slide_type": "slide"
    }
   },
   "source": [
    "Es conocido el cuento del hombre que estaba en la calle, agachado, buscando algo debajo de un farol. "
   ]
  },
  {
   "cell_type": "markdown",
   "id": "79c35435",
   "metadata": {
    "slideshow": {
     "slide_type": "slide"
    }
   },
   "source": [
    "Un policía que pasaba por el lugar le preguntó qué estaba haciendo. «Estoy buscando las llaves del auto», respondió el hombre, que parecía estar un poco borracho. «¿Se le cayeron aquí?», siguió inquiriendo"
   ]
  },
  {
   "cell_type": "markdown",
   "id": "e28e5d5f",
   "metadata": {
    "slideshow": {
     "slide_type": "slide"
    }
   },
   "source": [
    "# Título de la clase: Aplicaciones de la derivada"
   ]
  },
  {
   "cell_type": "markdown",
   "id": "1d38dd4e",
   "metadata": {
    "slideshow": {
     "slide_type": "slide"
    }
   },
   "source": [
    "### Objetivo de aprendizaje (Enunciar, de manera corta sencilla y clara para todos los asistentes)\n",
    "\n",
    "* Aplicar la derivada para problemas reales de ingeniería agropecuaria con el fin de optimizar procesos. \n",
    "* Aprender a visualizar modelos geométricos animados, con el animo del desarrollo del pensamiento variacional\n",
    "\n",
    "Objetivo general de aprendizaje para el curso de Cálculo Diferencial con metodología de aula invertida y medios de enseñanza con cuadernos Jupyter, lenguaje Python y la librería Sympy:\n",
    "\n",
    "\"Desarrollar en los estudiantes la capacidad de comprender, aplicar y analizar conceptos fundamentales del cálculo diferencial, utilizando la metodología de aula invertida y herramientas interactivas como cuadernos Jupyter con Python y la librería Sympy. Al finalizar el curso, los estudiantes serán capaces de resolver problemas de límites, derivadas y aplicaciones del cálculo diferencial, demostrando habilidades para modelar y resolver situaciones reales mediante la aplicación de las técnicas aprendidas.\""
   ]
  },
  {
   "cell_type": "markdown",
   "id": "0070b429",
   "metadata": {
    "slideshow": {
     "slide_type": "slide"
    }
   },
   "source": [
    "# Agenda\n",
    "\n",
    "1. Lista de 24 funciones\n",
    "2. Reglas de derivación\n",
    "   * derivada de una función constante\n",
    "   * derivada de una función lineal $f(x) = mx + b$\n",
    "   * La regla de la ppotencia\n",
    "   * la derivada de una función exponencial. \n",
    "3. Aplicar la derivada en situaciones asociadas a la ingeniería agropecuria y la contaduría. "
   ]
  },
  {
   "cell_type": "markdown",
   "id": "ca7261b1",
   "metadata": {
    "slideshow": {
     "slide_type": "slide"
    }
   },
   "source": [
    "## Establecimiento de prerrequisitos conceptuales para alcanzar el objetivo de aprendizaje trazado.   \n",
    "\n",
    "(Elabore una lista de preguntas al rededor de los conceptos que consideres necesarios para empezar la clase).  \n",
    "\n",
    "1. Función $y = f(x)$\n",
    "2. Recta tangente al gráfico de una función\n",
    "\n",
    "$$ y = f'(x_{0})x + b $$\n",
    "\n",
    "3. Recta secante al gráfico de una función.\n",
    "4. Cómo es la ecuación de una recta en el plano es\n",
    "\n",
    "$$ y = mx + b $$"
   ]
  },
  {
   "cell_type": "markdown",
   "id": "22ac7d7a",
   "metadata": {
    "slideshow": {
     "slide_type": "slide"
    }
   },
   "source": [
    "# Lista de funciones"
   ]
  },
  {
   "cell_type": "markdown",
   "id": "96f99085",
   "metadata": {
    "slideshow": {
     "slide_type": "slide"
    }
   },
   "source": [
    "|Nombre|Fórmula|Gráfico|Derivada|  \n",
    "|------|-------|--------|--------|  \n",
    "|Funciones polinómicas||||\n",
    "|Funciones constantes|f(x) = k|||\n",
    "|Funciones lineales||||  \n",
    "|Funciones cuadráticas||||  \n",
    "|Funciones cúbicas||||\n",
    "|Función potencia de x|x^{n}|||  \n",
    "|||||  \n",
    "\n"
   ]
  },
  {
   "cell_type": "code",
   "execution_count": 2,
   "id": "bcf92a2c",
   "metadata": {
    "slideshow": {
     "slide_type": "slide"
    }
   },
   "outputs": [
    {
     "data": {
      "text/plain": [
       "0    |    | Expresion                |\\n|---:|:----...\n",
       "1    |    | Expresion                |\\n|---:|:----...\n",
       "2    |    | Expresion                |\\n|---:|:----...\n",
       "Name: Expresion, dtype: object"
      ]
     },
     "execution_count": 2,
     "metadata": {},
     "output_type": "execute_result"
    }
   ],
   "source": [
    "import pandas as pd\n",
    "import tabulate\n",
    "\n",
    "# Crear DataFrame con una columna que contiene expresiones LaTeX\n",
    "data = {'Expresion': [r'$x^{2}$', r'$\\frac{1}{2}$', r'$\\sum_{i=1}^{n} x_{i}$']}\n",
    "df = pd.DataFrame(data)\n",
    "\n",
    "# Renderizar la columna como Markdown\n",
    "df['Expresion'] = df['Expresion'].apply(lambda x: f'${x}$').to_markdown()\n",
    "\n",
    "# Imprimir el DataFrame\n",
    "df.Expresion \n"
   ]
  },
  {
   "cell_type": "markdown",
   "id": "21f40b0f",
   "metadata": {
    "slideshow": {
     "slide_type": "slide"
    }
   },
   "source": [
    "# Aplicaciones a ingeniería agropecuaria"
   ]
  },
  {
   "cell_type": "markdown",
   "id": "5bb9dfd8",
   "metadata": {
    "slideshow": {
     "slide_type": "slide"
    }
   },
   "source": [
    "Un ejemplo de una función lineal en ingeniería agropecuaria podría ser la relación entre la cantidad de fertilizante aplicado en un cultivo y el rendimiento de la cosecha. Supongamos que se ha llevado a cabo un experimento donde se ha variado la cantidad de fertilizante aplicado y se ha medido el rendimiento obtenido. Los datos recolectados podrían representarse mediante una función lineal.\n",
    "\n",
    "Si denotamos la cantidad de fertilizante aplicado como \"x\" (en kg, por ejemplo) y el rendimiento de la cosecha como \"y\" (en toneladas, por ejemplo), una función lineal que modele esta relación podría ser:\n",
    "\n",
    "$$ y = mx + b $$\n",
    "\n",
    "Donde $\"m\"$ es la pendiente de la recta y $\"b\"$ es la ordenada al origen. "
   ]
  },
  {
   "cell_type": "markdown",
   "id": "8d4a5653",
   "metadata": {
    "slideshow": {
     "slide_type": "slide"
    }
   },
   "source": [
    "La pendiente \"m\" representa la cantidad de rendimiento adicional esperado por cada unidad adicional de fertilizante aplicado, y la ordenada al origen \"b\" representa el rendimiento esperado cuando **no** se aplica fertilizante."
   ]
  },
  {
   "cell_type": "markdown",
   "id": "031597fc",
   "metadata": {
    "slideshow": {
     "slide_type": "slide"
    }
   },
   "source": [
    "En el contexto de la ingeniería agropecuaria, esta función lineal puede ayudar a los agricultores a determinar la cantidad óptima de fertilizante a aplicar para maximizar el rendimiento de su cultivo, considerando factores como el costo del fertilizante y la capacidad del suelo para absorber los nutrientes."
   ]
  },
  {
   "cell_type": "markdown",
   "id": "7aee7569",
   "metadata": {
    "slideshow": {
     "slide_type": "slide"
    }
   },
   "source": [
    "# Aplicación sobre optimización de área superficial"
   ]
  },
  {
   "cell_type": "markdown",
   "id": "c98c2842",
   "metadata": {
    "slideshow": {
     "slide_type": "slide"
    }
   },
   "source": [
    "27. ¿Cuáles son las dimensiones de un cilindro circular recto, con mayor área de superficie, que puede inscribirse en una esfera de radio $r$?  \n",
    "\n",
    "Ejercicio 27 de la página 94 del Purcell "
   ]
  },
  {
   "cell_type": "markdown",
   "id": "92e3da69",
   "metadata": {
    "slideshow": {
     "slide_type": "slide"
    }
   },
   "source": [
    "## Metodología de solución\n",
    "\n",
    "1. Hacer un dibujito o esquema\n",
    "2. Definir variables\n",
    "3. Construir la función objetivo como función de una sola variable\n",
    "4. Grafica y busca la cima o el fondo del valle o deriva e iguala a cero. \n"
   ]
  },
  {
   "cell_type": "markdown",
   "id": "8e7168f5",
   "metadata": {
    "slideshow": {
     "slide_type": "slide"
    }
   },
   "source": [
    "## Definición de variables"
   ]
  },
  {
   "cell_type": "markdown",
   "id": "316d3660",
   "metadata": {
    "slideshow": {
     "slide_type": "slide"
    }
   },
   "source": [
    "* $r$ : radio de la esfera  \n",
    "* $c$ : radio del cilindro  \n",
    "* $h$ : altura del cilidro  "
   ]
  },
  {
   "cell_type": "markdown",
   "id": "1782bf0e",
   "metadata": {
    "slideshow": {
     "slide_type": "slide"
    }
   },
   "source": [
    "Tarea: hacer el dibujito con una inteligencia artificial"
   ]
  },
  {
   "cell_type": "markdown",
   "id": "195c2c20",
   "metadata": {},
   "source": [
    "Para ilustrar la situación del cilindro circular recto inscrito en una esfera de radio $r$ y encontrar sus dimensiones con el área superficial máxima, vamos a utilizar Python y Matplotlib para crear un gráfico. El gráfico mostrará la esfera con el cilindro inscrito en ella.\n",
    "\n",
    "Primero, importemos las bibliotecas necesarias y definamos la función para calcular el área superficial del cilindro en función de su altura.\n"
   ]
  },
  {
   "cell_type": "code",
   "execution_count": 4,
   "id": "e7425cee",
   "metadata": {},
   "outputs": [],
   "source": [
    "import numpy as np\n",
    "import matplotlib.pyplot as plt\n",
    "\n",
    "# Función para calcular el área superficial de un cilindro en función de su altura (h) y radio (r)\n",
    "def area_superficial_cilindro(h, r):\n",
    "    return 2 * np.pi * r * (r + h)\n",
    "\n"
   ]
  },
  {
   "cell_type": "markdown",
   "id": "ac3b203d",
   "metadata": {},
   "source": [
    "\n",
    "A continuación, definiremos la función para graficar el cilindro y la esfera. Utilizaremos la biblioteca Axes3D de Matplotlib para generar un gráfico 3D.\n"
   ]
  },
  {
   "cell_type": "code",
   "execution_count": 7,
   "id": "ce68d930",
   "metadata": {},
   "outputs": [
    {
     "data": {
      "image/png": "[encoded data removed]",
      "text/plain": [
       "<Figure size 1000x800 with 2 Axes>"
      ]
     },
     "metadata": {},
     "output_type": "display_data"
    }
   ],
   "source": [
    "\n",
    "import numpy as np\n",
    "import matplotlib.pyplot as plt\n",
    "from mpl_toolkits.mplot3d import Axes3D\n",
    "\n",
    "# Función para calcular el área superficial de un cilindro en función de su altura (h) y radio (r)\n",
    "def area_superficial_cilindro(h, r):\n",
    "    return 2 * np.pi * r * (r + h)\n",
    "\n",
    "def graficar_cilindro_y_esfera(r):\n",
    "    # Altura del cilindro para maximizar el área superficial\n",
    "    h_optima = 2 * r\n",
    "\n",
    "    # Área superficial del cilindro con la altura óptima\n",
    "    area_superficial_optima = area_superficial_cilindro(h_optima, r)\n",
    "\n",
    "    # Crear figuras y ejes 3D\n",
    "    fig = plt.figure(figsize=(10, 8))\n",
    "    ax_cilindro = fig.add_subplot(111, projection='3d')\n",
    "    ax_esfera = fig.add_subplot(111, projection='3d', frame_on=False)\n",
    "\n",
    "    # Parámetros para graficar el cilindro\n",
    "    z_cilindro = np.linspace(0, h_optima, 100)\n",
    "    theta_cilindro = np.linspace(0, 2 * np.pi, 100)\n",
    "    Z_cilindro, Theta_cilindro = np.meshgrid(z_cilindro, theta_cilindro)\n",
    "    X_cilindro = r * np.cos(Theta_cilindro)\n",
    "    Y_cilindro = r * np.sin(Theta_cilindro)\n",
    "\n",
    "    # Graficar el cilindro\n",
    "    ax_cilindro.plot_surface(X_cilindro, Y_cilindro, Z_cilindro, alpha=0.6)\n",
    "\n",
    "    # Graficar la esfera\n",
    "    u = np.linspace(0, 2 * np.pi, 100)\n",
    "    v = np.linspace(0, np.pi, 100)\n",
    "    x = r * np.outer(np.cos(u), np.sin(v))\n",
    "    y = r * np.outer(np.sin(u), np.sin(v))\n",
    "    z = r * np.outer(np.ones(np.size(u)), np.cos(v))\n",
    "    ax_esfera.plot_surface(x, y, z, color='b', alpha=0.2)\n",
    "\n",
    "    # Configuración de los ejes y etiquetas para el cilindro\n",
    "    ax_cilindro.set_xlabel('X')\n",
    "    ax_cilindro.set_ylabel('Y')\n",
    "    ax_cilindro.set_zlabel('Z')\n",
    "    ax_cilindro.set_title('Cilindro inscrito en una esfera')\n",
    "    ax_cilindro.set_xlim(-r - 1, r + 1)\n",
    "    ax_cilindro.set_ylim(-r - 1, r + 1)\n",
    "    ax_cilindro.set_zlim(0, h_optima + 1)\n",
    "\n",
    "    # Configuración de los ejes y etiquetas para la esfera\n",
    "    ax_esfera.set_xticks([])\n",
    "    ax_esfera.set_yticks([])\n",
    "    ax_esfera.set_zticks([])\n",
    "    ax_esfera.set_xlim(-r - 1, r + 1)\n",
    "    ax_esfera.set_ylim(-r - 1, r + 1)\n",
    "    ax_esfera.set_zlim(0, h_optima + 1)\n",
    "\n",
    "    # Punto para mostrar la altura óptima del cilindro\n",
    "    ax_cilindro.scatter(0, 0, h_optima, color='red', s=100, label='Área máxima')\n",
    "\n",
    "    # Mostrar leyenda para el cilindro\n",
    "    ax_cilindro.legend()\n",
    "\n",
    "    plt.show()\n",
    "\n",
    "# Graficar con un radio r arbitrario, por ejemplo, r = 3\n",
    "graficar_cilindro_y_esfera(3)\n"
   ]
  },
  {
   "cell_type": "markdown",
   "id": "b7728580",
   "metadata": {},
   "source": [
    "\n",
    "\n",
    "Este código generará un gráfico 3D que muestra el cilindro circular recto inscrito en la esfera de radio $r$. El cilindro tendrá la altura óptima de $2r$ para maximizar el área superficial. El punto en rojo muestra la posición donde el área superficial del cilindro es máxima. Puedes modificar el valor de `r` para ver cómo cambia la figura con diferentes radios de la esfera."
   ]
  },
  {
   "cell_type": "markdown",
   "id": "9f3dae5d",
   "metadata": {},
   "source": [
    "# Sección transversal de la esfera con un cilindro inscrito, que contiene al eje del cilidro"
   ]
  },
  {
   "cell_type": "code",
   "execution_count": 32,
   "id": "7d39adeb",
   "metadata": {},
   "outputs": [
    {
     "data": {
      "image/png": "[encoded data removed]",
      "text/plain": [
       "<Figure size 800x800 with 1 Axes>"
      ]
     },
     "metadata": {},
     "output_type": "display_data"
    }
   ],
   "source": [
    "import numpy as np\n",
    "import matplotlib.pyplot as plt\n",
    "\n",
    "# Función para graficar la circunferencia y el rectángulo inscrito\n",
    "def graficar_circunferencia_y_rectangulo(r):\n",
    "    # Coordenadas del centro de la circunferencia\n",
    "    x_centro = 0\n",
    "    y_centro = 0\n",
    "\n",
    "    # Coordenadas del círculo\n",
    "    theta = np.linspace(0, 2 * np.pi, 100)\n",
    "    x_circulo = x_centro + r * np.cos(theta)\n",
    "    y_circulo = y_centro + r * np.sin(theta)\n",
    "\n",
    "    # Coordenadas del rectángulo inscrito en la circunferencia\n",
    "    theta_ = np.array([np.pi/3, 2*np.pi/3, 4*np.pi/3, 5*np.pi/3, np.pi/3])\n",
    "    x_rectangulo = r * np.cos(theta_)\n",
    "    y_rectangulo = r * np.sin(theta_)\n",
    "\n",
    "    # Crear la figura y los ejes\n",
    "    plt.figure(figsize=(8, 8))\n",
    "    plt.axis('equal')\n",
    "\n",
    "    # Graficar la circunferencia\n",
    "    plt.plot(x_circulo, y_circulo, color='b', label='Circunferencia')\n",
    "\n",
    "    # Graficar el rectángulo inscrito en la circunferencia\n",
    "    plt.plot(x_rectangulo, y_rectangulo, color='g', linestyle='dashed', label='Rectángulo inscrito')\n",
    "\n",
    "    # Etiquetas y título\n",
    "    plt.xlabel('X')\n",
    "    plt.ylabel('Y')\n",
    "    plt.title('Circunferencia y rectángulo inscrito')\n",
    "    plt.legend()\n",
    "\n",
    "    # Mostrar la figura\n",
    "    plt.grid()\n",
    "    plt.show()\n",
    "\n",
    "# Graficar con un radio r arbitrario, por ejemplo, r = 3\n",
    "graficar_circunferencia_y_rectangulo(3)\n"
   ]
  },
  {
   "cell_type": "markdown",
   "id": "4bcdd992",
   "metadata": {},
   "source": [
    "Ahora la gráfica incluirá tanto la sección transversal de la esfera (círculo rojo) como la sección transversal del cilindro (línea verde discontinua)."
   ]
  },
  {
   "cell_type": "code",
   "execution_count": 3,
   "id": "a5c15537",
   "metadata": {
    "scrolled": true,
    "slideshow": {
     "slide_type": "slide"
    }
   },
   "outputs": [
    {
     "data": {
      "text/latex": [
       "$\\displaystyle 2 \\pi \\left(h + \\sqrt{- \\frac{h^{2}}{4} + r^{2}}\\right) \\sqrt{- \\frac{h^{2}}{4} + r^{2}}$"
      ],
      "text/plain": [
       "2*pi*(h + sqrt(-h**2/4 + r**2))*sqrt(-h**2/4 + r**2)"
      ]
     },
     "execution_count": 3,
     "metadata": {},
     "output_type": "execute_result"
    }
   ],
   "source": [
    "from sympy import * \n",
    "A,h, r = var('A, h, r', real = True, positive = True)\n",
    "area_superficial_cilindro = 2*pi*sqrt(r**2-h**2/4)*(sqrt(r**2-h**2/4)+h)\n",
    "area_superficial_cilindro "
   ]
  },
  {
   "cell_type": "code",
   "execution_count": 5,
   "id": "d940bc37",
   "metadata": {
    "slideshow": {
     "slide_type": "slide"
    }
   },
   "outputs": [
    {
     "data": {
      "text/latex": [
       "$\\displaystyle - \\frac{\\pi h \\left(h + \\sqrt{- \\frac{h^{2}}{4} + r^{2}}\\right)}{2 \\sqrt{- \\frac{h^{2}}{4} + r^{2}}} + 2 \\pi \\sqrt{- \\frac{h^{2}}{4} + r^{2}} \\left(- \\frac{h}{4 \\sqrt{- \\frac{h^{2}}{4} + r^{2}}} + 1\\right)$"
      ],
      "text/plain": [
       "-pi*h*(h + sqrt(-h**2/4 + r**2))/(2*sqrt(-h**2/4 + r**2)) + 2*pi*sqrt(-h**2/4 + r**2)*(-h/(4*sqrt(-h**2/4 + r**2)) + 1)"
      ]
     },
     "execution_count": 5,
     "metadata": {},
     "output_type": "execute_result"
    }
   ],
   "source": [
    "derivada_del_area = diff(area_superficial_cilindro, h)\n",
    "derivada_del_area "
   ]
  },
  {
   "cell_type": "code",
   "execution_count": 7,
   "id": "ab5ae6e3",
   "metadata": {
    "slideshow": {
     "slide_type": "slide"
    }
   },
   "outputs": [
    {
     "data": {
      "text/latex": [
       "$\\displaystyle - \\frac{\\pi h \\left(h + \\sqrt{- \\frac{h^{2}}{4} + r^{2}}\\right)}{2 \\sqrt{- \\frac{h^{2}}{4} + r^{2}}} + 2 \\pi \\sqrt{- \\frac{h^{2}}{4} + r^{2}} \\left(- \\frac{h}{4 \\sqrt{- \\frac{h^{2}}{4} + r^{2}}} + 1\\right) = 0$"
      ],
      "text/plain": [
       "Eq(-pi*h*(h + sqrt(-h**2/4 + r**2))/(2*sqrt(-h**2/4 + r**2)) + 2*pi*sqrt(-h**2/4 + r**2)*(-h/(4*sqrt(-h**2/4 + r**2)) + 1), 0)"
      ]
     },
     "execution_count": 7,
     "metadata": {},
     "output_type": "execute_result"
    }
   ],
   "source": [
    "ecuacion = Eq(derivada_del_area,0) # igualamos a cero la derivada para hallar los puntos críticos\n",
    "ecuacion"
   ]
  },
  {
   "cell_type": "code",
   "execution_count": 10,
   "id": "ae0cd842",
   "metadata": {
    "slideshow": {
     "slide_type": "slide"
    }
   },
   "outputs": [
    {
     "data": {
      "text/plain": [
       "[-2*r*sqrt(1/2 - sqrt(5)/10),\n",
       " 2*r*sqrt(1/2 - sqrt(5)/10),\n",
       " -2*r*sqrt(sqrt(5)/10 + 1/2),\n",
       " 2*r*sqrt(sqrt(5)/10 + 1/2)]"
      ]
     },
     "execution_count": 10,
     "metadata": {},
     "output_type": "execute_result"
    }
   ],
   "source": [
    "solucion = solve(ecuacion, h)\n",
    "solucion"
   ]
  },
  {
   "cell_type": "code",
   "execution_count": 8,
   "id": "903cad74",
   "metadata": {
    "slideshow": {
     "slide_type": "slide"
    }
   },
   "outputs": [],
   "source": [
    "# seleccione de esos puntos críticos\n",
    "\n"
   ]
  },
  {
   "cell_type": "markdown",
   "id": "428727f4",
   "metadata": {
    "slideshow": {
     "slide_type": "slide"
    }
   },
   "source": [
    "## redacte la conclusión de manera verbal"
   ]
  },
  {
   "cell_type": "code",
   "execution_count": null,
   "id": "c49c113e",
   "metadata": {
    "slideshow": {
     "slide_type": "slide"
    }
   },
   "outputs": [],
   "source": []
  },
  {
   "cell_type": "code",
   "execution_count": 25,
   "id": "470c35bd",
   "metadata": {
    "slideshow": {
     "slide_type": "slide"
    }
   },
   "outputs": [],
   "source": [
    "# llamar a lista\n",
    "import numpy as np \n",
    "import pandas as pd \n",
    "from random import choice\n",
    "grupo_df = pd.read_csv('calculo' + '.csv', sep = ';') \n",
    "# cuando el .csv file proviene de un .xlsx file, debe utilizarse sep = ';'\n",
    "lista_estudiantes = list(grupo_df.Nombre.values)\n",
    "def estudiante_que_va_a_participar(): # el grupo se introduce como una cadena de caracteres \n",
    "    if len(lista_estudiantes) != 0:\n",
    "        estudiante = choice(lista_estudiantes)\n",
    "        lista_estudiantes.remove(estudiante)\n",
    "        return print(estudiante)\n",
    "    else:\n",
    "        print('Todos los estudiantes han participado.\\n Muchas gracias y Felicitaciones')"
   ]
  },
  {
   "cell_type": "code",
   "execution_count": 31,
   "id": "10cc6d0f",
   "metadata": {
    "slideshow": {
     "slide_type": "slide"
    }
   },
   "outputs": [
    {
     "name": "stdout",
     "output_type": "stream",
     "text": [
      "CANCHILA RIVERA OSCAR DAVID\n"
     ]
    }
   ],
   "source": [
    "estudiante_que_va_a_participar()"
   ]
  },
  {
   "cell_type": "markdown",
   "id": "9e082815",
   "metadata": {
    "slideshow": {
     "slide_type": "slide"
    }
   },
   "source": [
    "# Llamar a la participación en clase"
   ]
  },
  {
   "cell_type": "markdown",
   "id": "2298e976",
   "metadata": {
    "slideshow": {
     "slide_type": "slide"
    }
   },
   "source": [
    "# Para el diseño de la clase tenga en cuenta algunos problemas de aprendizaje"
   ]
  },
  {
   "cell_type": "markdown",
   "id": "4136e076",
   "metadata": {
    "slideshow": {
     "slide_type": "slide"
    }
   },
   "source": [
    "# Secuencia conceptual de la clase"
   ]
  },
  {
   "cell_type": "markdown",
   "id": "d04d6464",
   "metadata": {
    "slideshow": {
     "slide_type": "slide"
    }
   },
   "source": [
    "La lista de las funciones básicas que debemos aprender y no podemos pasar de c+alculo sin saberlas de memororia\n",
    "\n",
    "|Nombre|gráfico|fórmula|derivada|  \n",
    "|------|-------|-------|--------|  \n",
    "|F. constante||||\n",
    "|F lineal||f(x) = mx + b|m|"
   ]
  },
  {
   "cell_type": "markdown",
   "id": "4e5f25a2",
   "metadata": {
    "slideshow": {
     "slide_type": "slide"
    }
   },
   "source": [
    "# Animación en Geogebra\n",
    "\n",
    "1. Crear el deslizador  \n",
    "2. Crear el objeto geométrico con la fórmula que incluya el deslizador.\n",
    "\n"
   ]
  },
  {
   "cell_type": "markdown",
   "id": "6553504d",
   "metadata": {},
   "source": [
    "# Animación 2 \n",
    "¿Por qué la derivada de una curva me indica cuándo se optimiza una función?\n",
    "\n"
   ]
  },
  {
   "cell_type": "markdown",
   "id": "81d2441c",
   "metadata": {},
   "source": [
    "# Problema de aplicación de la derivada para economía\n",
    "\n",
    "Página 336 del Cálculo de Stewart"
   ]
  },
  {
   "cell_type": "markdown",
   "id": "f04323e7",
   "metadata": {},
   "source": [
    "En la sección 3.7 se ha introducido la idea de costo marginal. Recuerde que si C(x), la\n",
    "función de costo es el costo de producir x unidades de un determinado producto, enton-\n",
    "ces el costo marginal es la tasa de cambio de C respecto a x. En otras palabras, la\n",
    "función de costo marginal es la derivada, C9(x), de la función de costo."
   ]
  },
  {
   "cell_type": "markdown",
   "id": "423987ab",
   "metadata": {},
   "source": [
    "Ahora se considera la comercialización. Sea $p(x)$ el precio por unidad que la empresa puede cobrar si vende $x$ unidades. "
   ]
  },
  {
   "cell_type": "markdown",
   "id": "a782aef2",
   "metadata": {},
   "source": [
    "Entonces $p$ se llama función de demanda (o función de precio) y se esperaría que sea una función de $x$ decreciente. (Más unidades vendidas corresponden a menor precio.) Si x unidades son vendidas y el precio por unidad es de p(x), entonces el ingreso total es\n",
    "R(x) 5 cantidad 3 precio 5 xp(x) y R se llama función de ingreso. La derivada R9 de la función de ingreso se llama función de ingreso marginal y es la tasa de cambio de ingreso respecto al número de unidades vendidas.\n"
   ]
  },
  {
   "cell_type": "markdown",
   "id": "59573f0e",
   "metadata": {},
   "source": [
    "Si se venden x unidades, entonces la utilidad total es\n",
    "\n",
    "$$ P(x) 5 R(x) 2 C(x) $$\n",
    "\n",
    "y P se llama función de utilidad. La función de utilidad marginal es P9, la derivada de la función de utilidad. En los ejercicios 59-63, se le pide que utilice las funciones de costo marginal, ingreso y utilidad para minimizar los costos y maximizar los ingresos y utilidades."
   ]
  },
  {
   "cell_type": "markdown",
   "id": "242d76bd",
   "metadata": {},
   "source": [
    "## EJEMPLO 6 \n",
    "\n",
    "Una tienda ha estado vendiendo 200 televisiones de pantalla plana por semana a $350 cada uno. Un estudio de mercado indica que por cada $10 de descuento ofrecido a los compradores, el número de unidades vendidas se incrementará en 20 a la semana. Encuentre la función de demanda y la función de ingreso. ¿Qué tan grande debe ser el descuento que ofrezca la tienda para maximizar sus ingresos?"
   ]
  },
  {
   "cell_type": "markdown",
   "id": "3eda9050",
   "metadata": {},
   "source": [
    "## SOLUCIÓN \n"
   ]
  },
  {
   "cell_type": "markdown",
   "id": "d6ce4cfa",
   "metadata": {},
   "source": [
    "\n",
    "Si $x$ es el número de TV vendidas por semana, entonces el aumento semanal\n",
    "de ventas es x 2 200. Por cada aumento de 20 unidades vendidas, el precio se reduce por $10. Por tanto, por cada unidad adicional vendida, la disminución del precio será\n"
   ]
  },
  {
   "cell_type": "markdown",
   "id": "a4340d4d",
   "metadata": {},
   "source": [
    "$$ \\frac{1}{20}10,$$\n"
   ]
  },
  {
   "cell_type": "markdown",
   "id": "d8da8543",
   "metadata": {},
   "source": [
    " y la función de demanda es\n"
   ]
  },
  {
   "cell_type": "markdown",
   "id": "2790e120",
   "metadata": {},
   "source": [
    "$$ p(x) = 350 - \\frac{10}{20}(x - 200) = 450 - \\frac{1}{2}x $$\n"
   ]
  },
  {
   "cell_type": "markdown",
   "id": "5cc63d5d",
   "metadata": {},
   "source": [
    "La función de ingreso es\n",
    "$$ R(x) =  xp(x) = 450x - \\frac{1}{2}x^{2} $$ "
   ]
  },
  {
   "cell_type": "code",
   "execution_count": 30,
   "id": "55b7b5c8",
   "metadata": {},
   "outputs": [
    {
     "data": {
      "image/png": "[encoded data removed]",
      "text/plain": [
       "<Figure size 1600x800 with 1 Axes>"
      ]
     },
     "metadata": {},
     "output_type": "display_data"
    }
   ],
   "source": [
    "import numpy as np \n",
    "\n",
    "import matplotlib.pyplot as plt\n",
    "\n",
    "X =np.linspace(0, 900, 20) \n",
    "def R(x):\n",
    "    return 450*x -(1/2)*x**2\n",
    "Y = R(X)\n",
    "plt.figure(figsize = (16, 8))\n",
    "\n",
    "plt.plot(X,Y)\n",
    "\n",
    "plt.xlabel('El número de televisores vendidos (x)')\n",
    "plt.ylabel(r'El ingreso ($R(x)$)')\n",
    "plt.grid() \n",
    "plt.xticks(np.arange(0,1000, 50))\n",
    "\n",
    "plt.show()\n",
    "\n"
   ]
  },
  {
   "cell_type": "markdown",
   "id": "4119bc8e",
   "metadata": {},
   "source": [
    "### Conclusión: \n",
    "\n",
    "El número de televisores $x$ que se deben vender para maximizar el ingreso $R$ es de 450 televisores por semana.\n"
   ]
  },
  {
   "cell_type": "markdown",
   "id": "f2598eb2",
   "metadata": {},
   "source": [
    "Determinemos el precio por unidad cundo se venden 450 tenevisores por semana\n",
    "\n"
   ]
  },
  {
   "cell_type": "code",
   "execution_count": 26,
   "id": "2d62c8e7",
   "metadata": {},
   "outputs": [],
   "source": [
    "def p(x):\n",
    "    return 450 - (1/2)*x"
   ]
  },
  {
   "cell_type": "code",
   "execution_count": 27,
   "id": "0291a612",
   "metadata": {},
   "outputs": [
    {
     "data": {
      "text/plain": [
       "225.0"
      ]
     },
     "execution_count": 27,
     "metadata": {},
     "output_type": "execute_result"
    }
   ],
   "source": [
    "p(450)"
   ]
  },
  {
   "cell_type": "code",
   "execution_count": 28,
   "id": "2e819ddc",
   "metadata": {},
   "outputs": [],
   "source": [
    "def descuento(x):\n",
    "    return 350 - p(x)"
   ]
  },
  {
   "cell_type": "code",
   "execution_count": 29,
   "id": "a0909b0a",
   "metadata": {},
   "outputs": [
    {
     "data": {
      "text/plain": [
       "125.0"
      ]
     },
     "execution_count": 29,
     "metadata": {},
     "output_type": "execute_result"
    }
   ],
   "source": [
    "descuento(450)"
   ]
  },
  {
   "cell_type": "markdown",
   "id": "0a59a611",
   "metadata": {},
   "source": [
    "### Conclusión:\n",
    "\n",
    "Para maximizar el ingreso, se deben descontar 125 dolares al precio orinal de cada televisor. "
   ]
  },
  {
   "cell_type": "markdown",
   "id": "8a6f7ef9",
   "metadata": {
    "slideshow": {
     "slide_type": "slide"
    }
   },
   "source": [
    "## Tareas para realizar antes de la clase"
   ]
  },
  {
   "cell_type": "markdown",
   "id": "90cae469",
   "metadata": {
    "slideshow": {
     "slide_type": "slide"
    }
   },
   "source": [
    "1. Ver los videos respectivos []()\n",
    "2. Memorizar las definiciones []()\n",
    "3. Sintetizar o resumir la información en mapas conceptuales. []()"
   ]
  },
  {
   "cell_type": "markdown",
   "id": "fccb447c",
   "metadata": {
    "slideshow": {
     "slide_type": "slide"
    }
   },
   "source": [
    "# Tareas para realizar en clase"
   ]
  },
  {
   "cell_type": "markdown",
   "id": "e5c48edf",
   "metadata": {
    "slideshow": {
     "slide_type": "slide"
    }
   },
   "source": [
    "* Modelación matemática \n",
    "* Trabajo en equipos"
   ]
  },
  {
   "cell_type": "markdown",
   "id": "8b6b0112",
   "metadata": {
    "slideshow": {
     "slide_type": "slide"
    }
   },
   "source": [
    "# Tareas para realizar después de la realización de la clase"
   ]
  },
  {
   "cell_type": "markdown",
   "id": "947460e3",
   "metadata": {
    "slideshow": {
     "slide_type": "slide"
    }
   },
   "source": [
    "* Actividades de memorización: \n",
    "  - escucha reiterada de grabaciones de formulas y resultados científicos. \n",
    "  - relectura de notas. \n",
    "  - ejercicios de mayor complejidad. \n",
    "  "
   ]
  },
  {
   "cell_type": "markdown",
   "id": "dc29a045",
   "metadata": {
    "slideshow": {
     "slide_type": "slide"
    }
   },
   "source": [
    "* Realizar la animación en Geogebra de una partícula que se mueve a través de una digonal de un cubo.\n",
    "* Realizar la animación en Geogebra de una partícula que se mueve de un extremo de una digonal a el otro extremo a través de las aristas del cubo.\n",
    "\n",
    "Lamaremos individual y de manera aleatoria. "
   ]
  },
  {
   "cell_type": "markdown",
   "id": "1e0c755c",
   "metadata": {},
   "source": [
    "## Grabaciones en audio para fomentar la capacidad de memorizar enunciados de teoremas y resultados científicos y la capacidad de parafrasear estos resultados. Y así desarrollar memoria muscular para los comandos comunes. \n",
    "Se dispondrá de un lugar en Vocaroo para albergar archivos de audio de fomento a la memorización, enunciación y parafraseo de los resultados científicos, propiedades, reglas, etc. \n",
    "\n",
    "[Vocaroo](https://vocaroo.com/)\n",
    "\n",
    "[Derivada de una suma](https://voca.ro/17FmbXdTXDWh)\n",
    "\n",
    "[Definición de derivada](https://voca.ro/1mqcwTmwEQ7y)\n",
    "\n",
    "[La derivada de la función cuadrática](https://voca.ro/1lWJGwhQdQRg)  \n",
    "\n",
    "[el cuadrado de una suma](https://voca.ro/1oBfeYRQ6smg)\n",
    "\n",
    "[Volumen de un cilindro](https://voca.ro/1D3PkbImBFHD)  \n",
    "\n",
    "[área y perimetro de un terreno circular](https://voca.ro/11w5KkT3d9lw)"
   ]
  },
  {
   "cell_type": "markdown",
   "id": "935a5567",
   "metadata": {
    "slideshow": {
     "slide_type": "slide"
    }
   },
   "source": [
    "## Dificultades de aprendizaje detectados durante la clase"
   ]
  },
  {
   "cell_type": "code",
   "execution_count": null,
   "id": "7d9c6c7f",
   "metadata": {
    "slideshow": {
     "slide_type": "slide"
    }
   },
   "outputs": [],
   "source": []
  },
  {
   "cell_type": "markdown",
   "id": "fb9402bb",
   "metadata": {
    "slideshow": {
     "slide_type": "slide"
    }
   },
   "source": [
    "## Estrategias propuestas para la solución de las dificultades de aprendizaje detectadas"
   ]
  },
  {
   "cell_type": "code",
   "execution_count": null,
   "id": "2dd3bd5c",
   "metadata": {
    "slideshow": {
     "slide_type": "slide"
    }
   },
   "outputs": [],
   "source": []
  },
  {
   "cell_type": "markdown",
   "id": "d11570a2",
   "metadata": {
    "slideshow": {
     "slide_type": "slide"
    }
   },
   "source": [
    "## Cuestionario para realizar labores de memorización y observación,  a la síntesis de la información"
   ]
  },
  {
   "cell_type": "markdown",
   "id": "540f0ec1",
   "metadata": {
    "slideshow": {
     "slide_type": "slide"
    }
   },
   "source": []
  },
  {
   "cell_type": "markdown",
   "id": "236b43fc",
   "metadata": {
    "slideshow": {
     "slide_type": "slide"
    }
   },
   "source": [
    "## Grabaciones en audio para fomentar la capacidad de memorizar enunciados de teoremas y resultados científicos y la capacidad de parafrasear estos resultados. "
   ]
  },
  {
   "cell_type": "markdown",
   "id": "319f2ffa",
   "metadata": {
    "slideshow": {
     "slide_type": "slide"
    }
   },
   "source": [
    "Se dispondrá de un lugar en el drive asociuado al correo institucional de la Universidad Nacional del Profesor Marso para albergar los archivosd de audio de fomento a la memoirización, enunciación y parafraseo de los resultados científicos, prtopiedades, reglas, etc. \n",
    "\n",
    "* [Lista de las 25 funciones]()"
   ]
  },
  {
   "cell_type": "markdown",
   "id": "85349560",
   "metadata": {
    "slideshow": {
     "slide_type": "slide"
    }
   },
   "source": [
    "1. [grabación sobre cómo hallar el mínimo](https://udeaeduco-my.sharepoint.com/:u:/g/personal/marco_canas_udea_edu_co/EXoaldrnzfFEvmgzPUs-DBABbHNMk4hPjA9-GxRIYNVgKg?e=fdl6zm)"
   ]
  },
  {
   "cell_type": "markdown",
   "id": "564fa59d",
   "metadata": {
    "slideshow": {
     "slide_type": "slide"
    }
   },
   "source": [
    "### Comparta sus cuadernos y videos, evidencias de su aprendizaje [aquí](https://forms.office.com/Pages/ResponsePage.aspx?id=IefhmYRxjkmK_7KtTlPBwkanXIs1i1FEujpsZgO6dXpUMEMwTEZVMzEwVVBPTElWNVg5OVEyWUhMUy4u)"
   ]
  },
  {
   "cell_type": "code",
   "execution_count": null,
   "id": "5fe498b3",
   "metadata": {
    "slideshow": {
     "slide_type": "slide"
    }
   },
   "outputs": [],
   "source": []
  },
  {
   "cell_type": "markdown",
   "id": "44be6d93",
   "metadata": {
    "slideshow": {
     "slide_type": "slide"
    }
   },
   "source": [
    "# Vocabulary "
   ]
  },
  {
   "cell_type": "markdown",
   "id": "acf7a074",
   "metadata": {
    "slideshow": {
     "slide_type": "slide"
    }
   },
   "source": [
    "1. \n",
    "2. "
   ]
  },
  {
   "cell_type": "markdown",
   "id": "ee46cb9a",
   "metadata": {
    "slideshow": {
     "slide_type": "slide"
    }
   },
   "source": [
    "## Mapa conceptual que vincula los conceptos asoaciados al objetivo de aprendizaje"
   ]
  },
  {
   "cell_type": "code",
   "execution_count": null,
   "id": "bf552488",
   "metadata": {
    "slideshow": {
     "slide_type": "slide"
    }
   },
   "outputs": [],
   "source": []
  },
  {
   "cell_type": "markdown",
   "id": "0266e3c5",
   "metadata": {
    "slideshow": {
     "slide_type": "slide"
    }
   },
   "source": [
    "## Quiz de 5 minutos para ejercitación y adquisición de habilidades "
   ]
  },
  {
   "cell_type": "markdown",
   "id": "3a1b127f",
   "metadata": {
    "slideshow": {
     "slide_type": "slide"
    }
   },
   "source": [
    "## Aplicación a medición de volúmenes\n",
    "\n",
    "\n"
   ]
  },
  {
   "cell_type": "markdown",
   "id": "5df2718c",
   "metadata": {
    "slideshow": {
     "slide_type": "slide"
    }
   },
   "source": [
    "## Cómo optimizar volúmenes de una caja con python"
   ]
  },
  {
   "cell_type": "code",
   "execution_count": 12,
   "id": "12b5c253",
   "metadata": {
    "slideshow": {
     "slide_type": "slide"
    }
   },
   "outputs": [
    {
     "name": "stdout",
     "output_type": "stream",
     "text": [
      "El mayor volumen se obtiene para cuando cortamos esquinas cuadradas de longitud x = 2\n"
     ]
    }
   ],
   "source": [
    "import numpy as np \n",
    "from sympy import * \n",
    "\n",
    "x,v = var('x,volumen')\n",
    "v = x*(9-2*x)*(24-2*x) \n",
    "ecuacion = Eq(diff(v, x), 0)\n",
    "puntos_criticos = np.array(solve(ecuacion, x))\n",
    "def volumen(a):\n",
    "    return a*(9-2*a)*(24-2*a) \n",
    "if volumen(puntos_criticos[0]) > volumen(puntos_criticos[1]):\n",
    "    print('El mayor volumen se obtiene para cuando cortamos esquinas cuadradas de longitud x =',\\\n",
    "           puntos_criticos[0])"
   ]
  },
  {
   "cell_type": "markdown",
   "id": "b310dbe1",
   "metadata": {
    "slideshow": {
     "slide_type": "slide"
    }
   },
   "source": [
    "Respuesta: Las dimensiones de la caja de mayor volumen son: 20, 5, y 2. Y el volumen máximo es 200. "
   ]
  },
  {
   "cell_type": "markdown",
   "id": "10bce0d0",
   "metadata": {
    "slideshow": {
     "slide_type": "slide"
    }
   },
   "source": [
    "## Referentes "
   ]
  },
  {
   "cell_type": "markdown",
   "id": "1db3c468",
   "metadata": {
    "slideshow": {
     "slide_type": "slide"
    }
   },
   "source": [
    "* [stewart precálculo](https://udeaeduco-my.sharepoint.com/:b:/g/personal/marco_canas_udea_edu_co/ERHIq62I6qFNrmxy6LZb8ZMBci7kUsyNME1nIh9yCBMJ_w?e=0zMSla)  \n",
    "\n",
    "* [stewart cálculo](https://udeaeduco-my.sharepoint.com/:b:/g/personal/marco_canas_udea_edu_co/EZgXZjAp8QxPqOAim2hs6LcBNPLGjSHf-xwYnUVYkwa04w?e=RZdTCy)  \n",
    "\n",
    "* [larson](https://udeaeduco-my.sharepoint.com/:b:/g/personal/marco_canas_udea_edu_co/ES71ChFeO9ZDhW3TwC5Ijk8BjxUK3Pdqz_fjHxTTFAfIAg?e=VDEjfu)\n",
    "\n",
    "* [uzcategui](https://udeaeduco-my.sharepoint.com/:b:/g/personal/marco_canas_udea_edu_co/ETDikm-lVl1Or8XoEo9oyh0BEti9Zs8le-f0D-dBdtZmbA?e=bBsoyQ)\n",
    "\n",
    "* [Guardar las grabaciones de sonido de las ideas claves para aprender](https://vocaroo.com/)"
   ]
  },
  {
   "cell_type": "markdown",
   "id": "6b9e56a8",
   "metadata": {
    "slideshow": {
     "slide_type": "slide"
    }
   },
   "source": [
    "### [Evaluamos al profesor Marco Cañas Aquí](https://forms.office.com/Pages/ResponsePage.aspx?id=IefhmYRxjkmK_7KtTlPBwkanXIs1i1FEujpsZgO6dXpUREJPV1kxUk1JV1ozTFJIQVNIQjY5WEY3US4u)"
   ]
  },
  {
   "cell_type": "markdown",
   "id": "071afa04",
   "metadata": {
    "slideshow": {
     "slide_type": "slide"
    }
   },
   "source": [
    "## [Evaluación luego de alcanzar estos objetivos de aprendizaje]()"
   ]
  },
  {
   "cell_type": "markdown",
   "id": "10f43536",
   "metadata": {
    "slideshow": {
     "slide_type": "slide"
    }
   },
   "source": [
    "### Continue su aprendizaje en la siguiente clase a través del siguiente [vínculo]()"
   ]
  },
  {
   "cell_type": "markdown",
   "id": "af751e30",
   "metadata": {
    "slideshow": {
     "slide_type": "slide"
    }
   },
   "source": [
    "# Conjeturas pedagógicas fruto de la aplicación del modelo de aprendizaje invertido y del enfoque hacia la ciencia de datos con python\n",
    "\n",
    "1. Todo cálculo o resultado debe ser interpretado en una línea markdown del cuaderno Jupyter, inmediatamente después de la enunciación del resultado y después de la presentación de una tabla o gráfico bidimensional, de tal menera que el estudiante explicite la comprensión verbal del resultado y las inferencias o estrategias que este resultado le sugieren.   "
   ]
  },
  {
   "cell_type": "markdown",
   "id": "53cc9115",
   "metadata": {
    "slideshow": {
     "slide_type": "slide"
    }
   },
   "source": [
    "## Agradecimientos  \n",
    "\n",
    "Doy gracias a Dios por la vida de mi Hijo Joseph Cañas Osorio y la madurez que ha alcanzado.\n",
    "\n",
    "Y a mi esposa Yasmira por su apoyo, orientación y acompañamiento. "
   ]
  },
  {
   "cell_type": "markdown",
   "id": "81c7f9b8",
   "metadata": {
    "slideshow": {
     "slide_type": "slide"
    }
   },
   "source": [
    "# McKinney"
   ]
  },
  {
   "cell_type": "markdown",
   "id": "b9a01957",
   "metadata": {},
   "source": [
    "2.2 IPython Basics\n",
    "In this section, we’ll get you up and running with the IPython shell and Jupyter note‐\n",
    "book, and introduce you to some of the essential concepts.\n",
    "Running the IPython Shell\n",
    "You can launch the IPython shell on the command line just like launching the regular\n",
    "Python interpreter except with the ipython command:\n",
    "$ ipython\n",
    "Python 3.6.0 | packaged by conda-forge | (default, Jan 13 2017, 23:17:12)\n",
    "Type \"copyright\", \"credits\" or \"license\" for more information.\n",
    "IPython 5.1.0 -- An enhanced Interactive Python.\n",
    "? -> Introduction and overview of IPython's features.\n",
    "%quickref -> Quick reference.\n",
    "help -> Python's own help system.\n",
    "\n",
    "object? -> Details about 'object', use 'object??' for extra details.\n",
    "In [1]: a = 5\n",
    "In [2]: a\n",
    "Out[2]: 5\n",
    "You can execute arbitrary Python statements by typing them in and pressing Return\n",
    "(or Enter). When you type just a variable into IPython, it renders a string representa‐\n",
    "tion of the object:\n",
    "In [5]: import numpy as np\n",
    "In [6]: data = {i : np.random.randn() for i in range(7)}\n",
    "In [7]: data\n",
    "Out[7]:\n",
    "{0: -0.20470765948471295,\n",
    "1: 0.47894333805754824,\n",
    "2: -0.5194387150567381,\n",
    "3: -0.55573030434749,\n",
    "4: 1.9657805725027142,\n",
    "5: 1.3934058329729904,\n",
    "6: 0.09290787674371767}\n",
    "The first two lines are Python code statements; the second statement creates a vari‐\n",
    "able named data that refers to a newly created Python dictionary. The last line prints\n",
    "the value of data in the console.\n",
    "Many kinds of Python objects are formatted to be more readable, or pretty-printed,\n",
    "which is distinct from normal printing with print. If you printed the above data\n",
    "variable in the standard Python interpreter, it would be much less readable:"
   ]
  },
  {
   "cell_type": "code",
   "execution_count": null,
   "id": "5962eccb",
   "metadata": {
    "slideshow": {
     "slide_type": "slide"
    }
   },
   "outputs": [],
   "source": [
    ">>> from numpy.random import randn\n",
    ">>> data = {i : randn() for i in range(7)}\n",
    ">>> print(data)"
   ]
  },
  {
   "cell_type": "markdown",
   "id": "467ef290",
   "metadata": {
    "slideshow": {
     "slide_type": "slide"
    }
   },
   "source": [
    "IPython also provides facilities to execute arbitrary blocks of code (via a somewhat\n",
    "glorified copy-and-paste approach) and whole Python scripts. You can also use the\n",
    "Jupyter notebook to work with larger blocks of code, as we’ll soon see.\n",
    "# Running the Jupyter Notebook\n",
    "One of the major components of the Jupyter project is the notebook, a type of interac‐\n",
    "tive document for code, text (with or without markup), data visualizations, and other\n",
    "output. The Jupyter notebook interacts with kernels, which are implementations of\n",
    "the Jupyter interactive computing protocol in any number of programming lan‐\n",
    "guages. Python’s Jupyter kernel uses the IPython system for its underlying behavior.\n",
    "To start up Jupyter, run the command jupyter notebook in a terminal:\n",
    "$ jupyter notebook\n",
    "[I 15:20:52.739 NotebookApp] Serving notebooks from local directory:\n",
    "/home/wesm/code/pydata-book\n",
    "[I 15:20:52.739 NotebookApp] 0 active kernels\n",
    "[I 15:20:52.739 NotebookApp] The Jupyter Notebook is running at:\n",
    "http://localhost:8888/\n",
    "[I 15:20:52.740 NotebookApp] Use Control-C to stop this server and shut down\n",
    "all kernels (twice to skip confirmation).\n",
    "Created new window in existing browser session.\n",
    "On many platforms, Jupyter will automatically open up in your default web browser\n",
    "(unless you start it with --no-browser). Otherwise, you can navigate to the HTTP\n",
    "address printed when you started the notebook, here http://localhost:8888/. See\n",
    "Figure 2-1 for what this looks like in Google Chrome.\n",
    "Many people use Jupyter as a local computing environment, but it\n",
    "can also be deployed on servers and accessed remotely. "
   ]
  },
  {
   "cell_type": "markdown",
   "id": "341ab489",
   "metadata": {
    "slideshow": {
     "slide_type": "slide"
    }
   },
   "source": [
    "I won’t cover those details here, but encourage you to explore this topic on the internet if it’s relevant to your needs.  \n",
    "\n",
    "figura 2-1\n",
    "<img src = ''>"
   ]
  },
  {
   "cell_type": "code",
   "execution_count": null,
   "id": "8e59daf7",
   "metadata": {},
   "outputs": [],
   "source": []
  },
  {
   "cell_type": "markdown",
   "id": "a6859bf2",
   "metadata": {},
   "source": [
    "# Geron"
   ]
  },
  {
   "cell_type": "markdown",
   "id": "51eed607",
   "metadata": {},
   "source": []
  },
  {
   "cell_type": "code",
   "execution_count": null,
   "id": "c9f3b2f0",
   "metadata": {},
   "outputs": [],
   "source": []
  }
 ],
 "metadata": {
  "celltoolbar": "Slideshow",
  "kernelspec": {
   "display_name": "Python 3 (ipykernel)",
   "language": "python",
   "name": "python3"
  },
  "language_info": {
   "codemirror_mode": {
    "name": "ipython",
    "version": 3
   },
   "file_extension": ".py",
   "mimetype": "text/x-python",
   "name": "python",
   "nbconvert_exporter": "python",
   "pygments_lexer": "ipython3",
   "version": "3.10.12"
  },
  "rise": {
   "enable_chalkboard": true,
   "theme": "sky",
   "transition": "zoom"
  }
 },
 "nbformat": 4,
 "nbformat_minor": 5
}
