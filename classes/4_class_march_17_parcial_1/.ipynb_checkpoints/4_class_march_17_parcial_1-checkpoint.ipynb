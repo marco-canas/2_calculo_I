{
 "cells": [
  {
   "cell_type": "markdown",
   "id": "49afa43b",
   "metadata": {
    "slideshow": {
     "slide_type": "slide"
    }
   },
   "source": [
    "<table align=\"left\">\n",
    "  <td>\n",
    "    <a href=\"https://colab.research.google.com/github/marco-canas/2_calculo_I/blob/main/classes/4_class_march_17_parcial_1/4_class_march_17_parcial_1.ipynb\" target=\"_parent\"><img src=\"https://colab.research.google.com/assets/colab-badge.svg\" alt=\"Open In Colab\"/></a>\n",
    "  </td>\n",
    "</table>"
   ]
  },
  {
   "cell_type": "markdown",
   "id": "61516cfa",
   "metadata": {
    "slideshow": {
     "slide_type": "slide"
    }
   },
   "source": [
    "## [Video de apoyo a la lectura interactiva y experimental de este cuaderno]()"
   ]
  },
  {
   "cell_type": "markdown",
   "id": "55492f3a",
   "metadata": {
    "slideshow": {
     "slide_type": "slide"
    }
   },
   "source": [
    "# Clase 4 March 17  Límites de funciones"
   ]
  },
  {
   "cell_type": "markdown",
   "id": "efcbb25b",
   "metadata": {
    "slideshow": {
     "slide_type": "slide"
    }
   },
   "source": [
    "Estos Jóvenes ingenieros de la seccional Bajo Cauca tienen cualidades profesionales y personales en numerosas dimensiones del ser: arte, academia, intelectualidad, ...\n",
    "<img src = 'https://github.com/marco-canas/2_calculo_I/blob/main/classes/4_class_march_17_parcial_1/nariguera_20221130.jpg?raw=true'>"
   ]
  },
  {
   "cell_type": "markdown",
   "id": "4fa59dc9",
   "metadata": {
    "slideshow": {
     "slide_type": "slide"
    }
   },
   "source": [
    "## Modelo pedagógico: \n",
    "\n",
    "[Aula invertida](https://www3.gobiernodecanarias.org/medusa/ecoescuela/pedagotic/files/2018/11/flipped-classroom.pdf)\n",
    "\n",
    "### Actividades fuera del aula según el modelo de Flipped Classroom  \n",
    "#### El docente  \n",
    "\n",
    "* Diseña y planifica el proceso de enseñanza-aprendizaje del aula, integrando estrategias, modelos de enseñanza y\n",
    "metodologías (aprendizaje basado en proyectos, aprendizaje cooperativo y colaborativo,...).  \n",
    "\n",
    "* Diseña y planea actividades que se realizarán fuera del aula\n",
    "(ver vídeos, cumplimentar cuestionarios,...).\n",
    "Selecciona e integra la tecnología en actividades de\n",
    "aprendizaje activo.\n",
    "Diseña actividades de evaluación que promuevan el aprendizaje\n",
    "del alumnado.\n",
    "\n",
    "#### El alumnado\n",
    "\n",
    "* Accede, repetida y libremente, a los contenidos y actividades facilitados por el/la docente.\n",
    "* Realiza las actividades propuestas."
   ]
  },
  {
   "cell_type": "markdown",
   "id": "a15a6a31",
   "metadata": {
    "slideshow": {
     "slide_type": "slide"
    }
   },
   "source": [
    "# Objetivo de aprendizaje\n",
    "\n",
    "* Aprender a determinar límites por por simplificación de fracciones utilizando operaciones de fracciones. \n",
    " "
   ]
  },
  {
   "cell_type": "markdown",
   "id": "476a7af7",
   "metadata": {
    "slideshow": {
     "slide_type": "slide"
    }
   },
   "source": [
    "# Propuesta de evaluación"
   ]
  },
  {
   "cell_type": "markdown",
   "id": "76ebc813",
   "metadata": {
    "slideshow": {
     "slide_type": "slide"
    }
   },
   "source": [
    "* Parciales: 60% (3 o 4, dependiendo del curso).\n",
    "\n",
    "* Seguimiento: 15% (quices, pruebas cortas, tareas, trabajos, talleres, participación o pequeña presentación, dependiendo del curso).\n",
    "\n",
    "* Trabajo final: 20% (video explicando alguna aplicación o ejercicio, ensayo sobre artículo en inglés relacionado con los temas del curso, exposición o trabajo sobre uso de herramienta digital).\n",
    "\n",
    "* Autoevaluación: 5%"
   ]
  },
  {
   "cell_type": "markdown",
   "id": "a714541e",
   "metadata": {
    "slideshow": {
     "slide_type": "slide"
    }
   },
   "source": [
    "# Recomendaciones para trabajar en equipo"
   ]
  },
  {
   "cell_type": "markdown",
   "id": "c123b525",
   "metadata": {
    "slideshow": {
     "slide_type": "slide"
    }
   },
   "source": [
    "Un buen líder es consciente de sí mismo, se comunica eficazmente, delega trabajo, fomenta el pensamiento estratégico y motiva a los miembros del equipo para dar lo mejor. En este artículo, descubre qué es ser un líder, las 15 cualidades de líder más importantes y ejemplos de cómo ser un buen líder para que tú también puedas inspirar a quienes te rodean."
   ]
  },
  {
   "cell_type": "markdown",
   "id": "60f44530",
   "metadata": {
    "slideshow": {
     "slide_type": "slide"
    }
   },
   "source": [
    "EJEMPLO 8 Técnica de racionalización\n",
    "\n",
    "Página 83 del [Larson](https://udeaeduco-my.sharepoint.com/:b:/g/personal/marco_canas_udea_edu_co/ES71ChFeO9ZDhW3TwC5Ijk8BjxUK3Pdqz_fjHxTTFAfIAg?e=6qFJkq)"
   ]
  },
  {
   "cell_type": "markdown",
   "id": "eddfb514",
   "metadata": {
    "slideshow": {
     "slide_type": "slide"
    }
   },
   "source": [
    "$$ \\lim_{x \\to 0} \\frac{\\sqrt{x + 1} - 1}{x} $$"
   ]
  },
  {
   "cell_type": "markdown",
   "id": "3eb700e9",
   "metadata": {
    "slideshow": {
     "slide_type": "slide"
    }
   },
   "source": [
    "### [video de apoyo para calcular el límite anterior](https://www.youtube.com/watch?v=xMIVA7Nh2ck)"
   ]
  },
  {
   "cell_type": "markdown",
   "id": "d797c518",
   "metadata": {
    "slideshow": {
     "slide_type": "slide"
    }
   },
   "source": [
    "### Solución:  \n",
    "\n",
    "Al utilizar la sustitución directa, se obtiene la forma indeterminada $0/0$.\n"
   ]
  },
  {
   "cell_type": "markdown",
   "id": "02bbf036",
   "metadata": {
    "slideshow": {
     "slide_type": "slide"
    }
   },
   "source": [
    "Primero empezamos identificando a la función a la que vamos a calcularle el límite\n",
    "\n",
    "La función \n",
    "\n",
    "$$ f(x)= \\frac{\\sqrt{x+1} - 1}{x} $$\n",
    "\n",
    "No es racional por que hay raiz (recuerde que una función racional es el cociente de polinomios)\n",
    "\n",
    "$$ \\sqrt{x+1} = (x+1)^{1/2} $$\n",
    "\n",
    "Recuerde que la función $x$ es la función identidad y ella es una función polinómica. \n"
   ]
  },
  {
   "cell_type": "markdown",
   "id": "372f482e",
   "metadata": {
    "slideshow": {
     "slide_type": "slide"
    }
   },
   "source": [
    "Luego sutituimos cero en la función\n",
    "\n",
    "$$ f(x)= \\frac{\\sqrt{x+1} - 1}{x} $$\n",
    "\n",
    "$$ f(\\ )= \\frac{\\sqrt{(\\ )+1} - 1}{(\\ )} $$\n",
    "\n",
    "$$ f(0)= \\frac{\\sqrt{(0)+1} - 1}{(0)} $$\n",
    "\n"
   ]
  },
  {
   "cell_type": "markdown",
   "id": "1d6f34dc",
   "metadata": {
    "slideshow": {
     "slide_type": "slide"
    }
   },
   "source": [
    "$$ f(0) = \\frac{\\sqrt{1} - 1}{0} $$"
   ]
  },
  {
   "cell_type": "markdown",
   "id": "d2269369",
   "metadata": {
    "slideshow": {
     "slide_type": "slide"
    }
   },
   "source": [
    "$$ f(0) = \\frac{1 - 1}{0} $$"
   ]
  },
  {
   "cell_type": "markdown",
   "id": "88b4f2df",
   "metadata": {
    "slideshow": {
     "slide_type": "slide"
    }
   },
   "source": [
    "$$ f(0) = \\frac{0}{0} $$\n",
    "\n",
    "lo que quiere decir que la función en cero no está definida. Note que obtuve una forma indeterminada $0/0$"
   ]
  },
  {
   "cell_type": "code",
   "execution_count": 1,
   "id": "05dda617",
   "metadata": {},
   "outputs": [
    {
     "ename": "ZeroDivisionError",
     "evalue": "division by zero",
     "output_type": "error",
     "traceback": [
      "\u001b[1;31m---------------------------------------------------------------------------\u001b[0m",
      "\u001b[1;31mZeroDivisionError\u001b[0m                         Traceback (most recent call last)",
      "\u001b[1;32m~\\AppData\\Local\\Temp\\ipykernel_12284\\182040962.py\u001b[0m in \u001b[0;36m<module>\u001b[1;34m\u001b[0m\n\u001b[1;32m----> 1\u001b[1;33m \u001b[1;36m0\u001b[0m\u001b[1;33m/\u001b[0m\u001b[1;36m0\u001b[0m\u001b[1;33m\u001b[0m\u001b[1;33m\u001b[0m\u001b[0m\n\u001b[0m",
      "\u001b[1;31mZeroDivisionError\u001b[0m: division by zero"
     ]
    }
   ],
   "source": [
    "0/0"
   ]
  },
  {
   "cell_type": "markdown",
   "id": "e9ba70e3",
   "metadata": {
    "slideshow": {
     "slide_type": "slide"
    }
   },
   "source": [
    "Es decir, no pudimos hallar el límite sustituyendo. Entonces debemos utilizar otro método: \n",
    "\n",
    "Y ese método debe ser el de racionalizar porque en la función hay una raiz cuadrada. \n"
   ]
  },
  {
   "cell_type": "markdown",
   "id": "101e0f29",
   "metadata": {
    "slideshow": {
     "slide_type": "slide"
    }
   },
   "source": [
    "$$ \\frac{\\sqrt{x+1} - 1}{x} \\cdot \\frac{\\left( \\sqrt{x+1}+1 \\right)}{ \\left( \\sqrt{x+1}+1 \\right)} $$\n",
    "\n",
    "es decir, multiplico arriba y abajo por el **conjugado** del numerador de la fracción original.\n",
    "\n",
    "\n",
    "Y multiplicar fracciones es la operación más facil de todo el universo de las operaciones entre fracciones porque se hace derecho. "
   ]
  },
  {
   "cell_type": "markdown",
   "id": "eb78a89f",
   "metadata": {
    "slideshow": {
     "slide_type": "slide"
    }
   },
   "source": [
    "$$ \\frac{\\left( \\sqrt{x+1} \\right)^{2}-(1)^{2}}{x(\\sqrt{x + 1} + 1)} $$\n",
    "\n",
    "* ^ este es el acento cincunflejo. "
   ]
  },
  {
   "cell_type": "markdown",
   "id": "285404d2",
   "metadata": {
    "slideshow": {
     "slide_type": "slide"
    }
   },
   "source": [
    "$$ \\frac{\\left( x+1 \\right)-1}{x\\left( \\sqrt{x + 1} + 1 \\right)} $$"
   ]
  },
  {
   "cell_type": "markdown",
   "id": "8d0fae74",
   "metadata": {
    "slideshow": {
     "slide_type": "slide"
    }
   },
   "source": [
    "$$ \\frac{ x}{x \\left(\\sqrt{x + 1} + 1 \\right)} $$\n",
    "\n",
    "lo que hice fue eliminar paréntesis y restar"
   ]
  },
  {
   "cell_type": "markdown",
   "id": "7411e658",
   "metadata": {
    "slideshow": {
     "slide_type": "slide"
    }
   },
   "source": [
    "y ahora, aplicamos cancelatividad de factores repetidos o dividimos arriba y abajo por $x$:\n",
    "\n",
    "$$ \\frac{1}{\\sqrt{x + 1} + 1 } $$"
   ]
  },
  {
   "cell_type": "markdown",
   "id": "a88e1ab0",
   "metadata": {
    "slideshow": {
     "slide_type": "slide"
    }
   },
   "source": [
    "$$ \\lim_{x \\to 0} \\frac{\\sqrt{x + 1} - 1}{x} = \\lim_{x \\to 0} \\frac{1}{\\sqrt{x+1} + 1} = \\frac{1}{\\sqrt{(\\ )+1} + 1} = \\frac{1}{\\sqrt{(0)+1} + 1} = \\frac{1}{2}  $$"
   ]
  },
  {
   "cell_type": "markdown",
   "id": "4fe413ef",
   "metadata": {
    "slideshow": {
     "slide_type": "slide"
    }
   },
   "source": [
    "### Conclusión:\n",
    "\n",
    "En la medida que x se aproxime a cero, la función $f(x)$ se aproxima a $1/2$\n"
   ]
  },
  {
   "cell_type": "code",
   "execution_count": null,
   "id": "2ade0a13",
   "metadata": {},
   "outputs": [],
   "source": []
  },
  {
   "cell_type": "markdown",
   "id": "f80c4a27",
   "metadata": {
    "slideshow": {
     "slide_type": "slide"
    }
   },
   "source": [
    "# Teorema del encaje  \n",
    "\n",
    "El siguiente teorema se refiere al límite de una función que está “encajada” entre otras dos, \n",
    "cada una de las cuales tiene el mismo límite en un valor dado de x, como se muestra en la \n",
    "figura 1.21 (ver la demostración de este teorema en el apéndice A).\n"
   ]
  },
  {
   "cell_type": "code",
   "execution_count": null,
   "id": "5d22b227",
   "metadata": {},
   "outputs": [],
   "source": []
  },
  {
   "cell_type": "code",
   "execution_count": null,
   "id": "56ce91fd",
   "metadata": {
    "slideshow": {
     "slide_type": "slide"
    }
   },
   "outputs": [],
   "source": []
  },
  {
   "cell_type": "markdown",
   "id": "819c92f4",
   "metadata": {
    "slideshow": {
     "slide_type": "slide"
    }
   },
   "source": [
    "## Proyecto propuesto a los estudiantes para incentivar su aprendizaje  \n"
   ]
  },
  {
   "cell_type": "markdown",
   "id": "071ffd60",
   "metadata": {
    "slideshow": {
     "slide_type": "slide"
    }
   },
   "source": [
    "* resolver un problema de determinación de límites de funciones con:  \n",
    "\n",
    "  * excel\n",
    "  * python\n",
    "  * WolframAlpha\n",
    "  * Geogebra\n",
    "  * Symbolab\n",
    "  \n",
    "e identificar potencialidades y limitaciones de cada una de estas herramientas para la comprensión, visualización  y comunicación de este importante concepto de análisis matemático que sirve a las ciencias.\n",
    "  "
   ]
  },
  {
   "cell_type": "markdown",
   "id": "32fa9d9d",
   "metadata": {
    "slideshow": {
     "slide_type": "slide"
    }
   },
   "source": [
    "## Tareas para realizar fuera de clase\n",
    "\n",
    "<img src = 'https://github.com/marco-canas/2_calculo_I/blob/main/classes/4_class_march_17_parcial_1/tarea_larson_seccion_1_2.png?raw=true'>"
   ]
  },
  {
   "cell_type": "markdown",
   "id": "c151b66b",
   "metadata": {
    "slideshow": {
     "slide_type": "slide"
    }
   },
   "source": [
    "# Memorización de los casos de factorización"
   ]
  },
  {
   "cell_type": "markdown",
   "id": "ae359227",
   "metadata": {
    "slideshow": {
     "slide_type": "slide"
    }
   },
   "source": [
    "\\begin{matrix} \n",
    "\\text{Nombre del caso de factorización} & \\text{algebraicamente} & \\text{Cómo se factoriza} \\\\ \n",
    "\\text{1. Factor común: }& a^{2} + ab & a(a + b)\\\\\n",
    "\\text{2. Factor común por agrupación de términos } && \\\\\n",
    "\\text{3. Trinomio cuadrado perfecto  } && \\\\\n",
    "\\text{4. Trinomio de la forma $x^{2} + bx + c$ } & & \\\\\n",
    "\\text{5. Trinomio de la forma $ax^{2} + bx + c$} && \\\\\n",
    "\\text{6. Factorizar completando el trinomio cuadrado perfecto} && \\\\\n",
    "\\text{7. diferencia de cuadrados} && \\\\\n",
    "\\text{8. Sumas o diferencias de cubos} && \\\\\n",
    "\\text{9. } && \\\\\n",
    "\\text{10. } && \n",
    "\\end{matrix}\n",
    "\n"
   ]
  },
  {
   "cell_type": "markdown",
   "id": "d1712b4c",
   "metadata": {
    "slideshow": {
     "slide_type": "slide"
    }
   },
   "source": [
    "## Ejemplo de factor común\n",
    "\n",
    "$3x + 6y = $ el factor común aquí es $3$. \n",
    "\n"
   ]
  },
  {
   "cell_type": "markdown",
   "id": "cc7ae8a7",
   "metadata": {
    "slideshow": {
     "slide_type": "slide"
    }
   },
   "source": [
    "#### [Sobre factorización les pido que entrenemos del Baldor](https://udeaeduco-my.sharepoint.com/:b:/g/personal/marco_canas_udea_edu_co/EQXrt-owIclDiroV7jNMLtgBl-qlJstaxqaML-fsH8mUSg?e=uBRSfB)"
   ]
  },
  {
   "cell_type": "markdown",
   "id": "8fed7707",
   "metadata": {
    "slideshow": {
     "slide_type": "slide"
    }
   },
   "source": [
    "## Tarea para el 24 de marzo de 2023 Viernes\n",
    "\n",
    "* Realizar por lo menos 5 ejercicios de cada caso de productos notables (especiales o usuales) los cuales encuentre el página 48 del algebra de baldor. \n",
    "\n",
    "* Ojo, los van a preguntar. Van a llamar a lista. Ojo van a pedir el cuaderno. Ojo, en esta materia hay nota de seguimiento.\n",
    "\n",
    "* Ojo, van a preguntar los casos de factorización en orden. \n",
    "\n",
    "* Ojo, van a preguntar que es el conjugado de una suma\n",
    "\n",
    "* Ojo, van a preguntar que es el conjugado de una resta.\n",
    "\n",
    "* ¿Que da la diferencia por la suma?\n",
    "\n",
    "da una diferencia de cuadrados. \n",
    "\n",
    "* "
   ]
  },
  {
   "cell_type": "code",
   "execution_count": null,
   "id": "a1ea753d",
   "metadata": {},
   "outputs": [],
   "source": []
  },
  {
   "cell_type": "code",
   "execution_count": null,
   "id": "3e92a1bb",
   "metadata": {},
   "outputs": [],
   "source": []
  },
  {
   "cell_type": "markdown",
   "id": "e3b32040",
   "metadata": {
    "slideshow": {
     "slide_type": "slide"
    }
   },
   "source": [
    "## Compromisos en cuanto a la evalución\n",
    "\n",
    "* Tenemos una semana más para entregar el cuaderno y el video del primer quiz. Es decir, tenemos has el 24 de marzo a las 11:59 PM para enviar el trabajo por el siguiente [vínculo](https://forms.office.com/Pages/ResponsePage.aspx?id=IefhmYRxjkmK_7KtTlPBwkanXIs1i1FEujpsZgO6dXpUREZUOUY0MEsxUE5ETjk4S1dOMFRWR1lEMS4u): \n",
    "\n",
    "* el acuerdo de valor entre el video y el cuaderno es de 50% para cada uno de estos componentes. Es decir, el video vala la mitad de nota del quiz 1. \n",
    "\n",
    "* Parcial 1. Realizamos el parcial 1 de manera escrita: El próximo 24 de marzo, al inicio de la clase (7 a 9 de la mañana). "
   ]
  },
  {
   "cell_type": "code",
   "execution_count": null,
   "id": "5a46baab",
   "metadata": {},
   "outputs": [],
   "source": []
  },
  {
   "cell_type": "markdown",
   "id": "ed626e01",
   "metadata": {
    "slideshow": {
     "slide_type": "slide"
    }
   },
   "source": [
    "## Referentes  \n",
    "\n",
    "* [Flipped Classroom](https://www3.gobiernodecanarias.org/medusa/ecoescuela/pedagotic/files/2018/11/flipped-classroom.pdf)\n",
    "\n",
    "* [Cálculo de Larson](https://udeaeduco-my.sharepoint.com/:b:/g/personal/marco_canas_udea_edu_co/ES71ChFeO9ZDhW3TwC5Ijk8BjxUK3Pdqz_fjHxTTFAfIAg?e=6qFJkq). Página 83"
   ]
  },
  {
   "cell_type": "markdown",
   "id": "22838a0d",
   "metadata": {
    "slideshow": {
     "slide_type": "slide"
    }
   },
   "source": [
    "## [Evaluemos al profe Marco a ver si se logró el objetivo de aprendizaje o no](https://forms.office.com/Pages/ResponsePage.aspx?id=IefhmYRxjkmK_7KtTlPBwkanXIs1i1FEujpsZgO6dXpUREJPV1kxUk1JV1ozTFJIQVNIQjY5WEY3US4u)"
   ]
  },
  {
   "cell_type": "markdown",
   "id": "0aaff40b",
   "metadata": {
    "slideshow": {
     "slide_type": "slide"
    }
   },
   "source": [
    "## Siga su aprendizaje en la clase 5 [aquí](https://github.com/marco-canas/2_calculo_I/blob/main/classes/5_class_march_23_quiz_2/5_class_March_24_quiz_2.ipynb)"
   ]
  },
  {
   "cell_type": "code",
   "execution_count": null,
   "id": "60a5b203",
   "metadata": {},
   "outputs": [],
   "source": []
  }
 ],
 "metadata": {
  "celltoolbar": "Slideshow",
  "kernelspec": {
   "display_name": "Python 3 (ipykernel)",
   "language": "python",
   "name": "python3"
  },
  "language_info": {
   "codemirror_mode": {
    "name": "ipython",
    "version": 3
   },
   "file_extension": ".py",
   "mimetype": "text/x-python",
   "name": "python",
   "nbconvert_exporter": "python",
   "pygments_lexer": "ipython3",
   "version": "3.9.13"
  }
 },
 "nbformat": 4,
 "nbformat_minor": 5
}
