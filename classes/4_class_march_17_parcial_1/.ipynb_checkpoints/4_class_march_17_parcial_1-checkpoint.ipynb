{
 "cells": [
  {
   "cell_type": "markdown",
   "id": "49afa43b",
   "metadata": {
    "slideshow": {
     "slide_type": "slide"
    }
   },
   "source": [
    "<table align=\"left\">\n",
    "  <td>\n",
    "    <a href=\"https://colab.research.google.com/github/marco-canas/2_calculo_I/blob/main/classes/4_class_march_17_parcial_1/4_class_march_17_parcial_1.ipynb\" target=\"_parent\"><img src=\"https://colab.research.google.com/assets/colab-badge.svg\" alt=\"Open In Colab\"/></a>\n",
    "  </td>\n",
    "</table>"
   ]
  },
  {
   "cell_type": "markdown",
   "id": "61516cfa",
   "metadata": {
    "slideshow": {
     "slide_type": "slide"
    }
   },
   "source": [
    "## [Video de apoyo a la lectura interactiva y experimental de este cuaderno]()"
   ]
  },
  {
   "cell_type": "markdown",
   "id": "55492f3a",
   "metadata": {
    "slideshow": {
     "slide_type": "slide"
    }
   },
   "source": [
    "# Clase 4 March 17  Límites de funciones"
   ]
  },
  {
   "cell_type": "markdown",
   "id": "efcbb25b",
   "metadata": {
    "slideshow": {
     "slide_type": "slide"
    }
   },
   "source": [
    "Estos Jóvenes ingenieros de la seccional Bajo Cauca tienen cualidades profesionales y personales en numerosas dimensiones del ser: arte, academia, intelectualidad, ...\n",
    "<img src = 'https://github.com/marco-canas/2_calculo_I/blob/main/classes/4_class_march_17_parcial_1/nariguera_20221130.jpg?raw=true'>"
   ]
  },
  {
   "cell_type": "markdown",
   "id": "4fa59dc9",
   "metadata": {
    "slideshow": {
     "slide_type": "slide"
    }
   },
   "source": [
    "## Modelo pedagógico: \n",
    "\n",
    "[Aula invertida](https://www3.gobiernodecanarias.org/medusa/ecoescuela/pedagotic/files/2018/11/flipped-classroom.pdf)\n",
    "\n",
    "### Actividades fuera del aula según el modelo de Flipped Classroom  \n",
    "#### El docente  \n",
    "\n",
    "* Diseña y planifica el proceso de enseñanza-aprendizaje del aula, integrando estrategias, modelos de enseñanza y\n",
    "metodologías (aprendizaje basado en proyectos, aprendizaje cooperativo y colaborativo,...).  \n",
    "\n",
    "* Diseña y planea actividades que se realizarán fuera del aula\n",
    "(ver vídeos, cumplimentar cuestionarios,...).\n",
    "Selecciona e integra la tecnología en actividades de\n",
    "aprendizaje activo.\n",
    "Diseña actividades de evaluación que promuevan el aprendizaje\n",
    "del alumnado.\n",
    "\n",
    "#### El alum,nado\n",
    "\n",
    "* Accede, repetida y libremente, a los contenidos y actividades facilitados por el/la docente.\n",
    "* Realiza las actividades propuestas."
   ]
  },
  {
   "cell_type": "markdown",
   "id": "76ebc813",
   "metadata": {
    "slideshow": {
     "slide_type": "slide"
    }
   },
   "source": [
    "# Objetivos generales del núcleo\n",
    "\n",
    "* Desarrollar competencias analíticas, sintéticas, operativas, interpretativas y gráficas, en el estudio de temas propios de las matemáticas y el cálculo.\n",
    "\n",
    "* Discutir situaciones contextuales, fenómenos, problemas intra o extramatemáticos, de naturaleza variacional, que favorezcan la comprensión y utilización de conceptos y representaciones matemáticas variacionales que los modelen.\n",
    "\n",
    " \n",
    "\n",
    "    Propuesta de evaluación\n",
    "\n",
    "    Parciales: 60% (3 o 4, dependiendo del curso).\n",
    "\n",
    "    Seguimiento: 15% (quices, pruebas cortas, tareas, trabajos, talleres, participación o pequeña presentación, dependiendo del curso).\n",
    "\n",
    "    Trabajo final: 20% (video explicando alguna aplicación o ejercicio, ensayo sobre artículo en inglés relacionado con los temas del curso, exposición o trabajo sobre uso de herramienta digital).\n",
    "\n",
    "    Autoevaluación: 5%"
   ]
  },
  {
   "cell_type": "markdown",
   "id": "60f44530",
   "metadata": {
    "slideshow": {
     "slide_type": "slide"
    }
   },
   "source": [
    "EJEMPLO 8 Técnica de racionalización\n",
    "\n",
    "Página 83 del [Larson](https://udeaeduco-my.sharepoint.com/:b:/g/personal/marco_canas_udea_edu_co/ES71ChFeO9ZDhW3TwC5Ijk8BjxUK3Pdqz_fjHxTTFAfIAg?e=6qFJkq)"
   ]
  },
  {
   "cell_type": "markdown",
   "id": "eddfb514",
   "metadata": {
    "slideshow": {
     "slide_type": "slide"
    }
   },
   "source": [
    "$$ \\lim_{x \\to 0} \\frac{\\sqrt{x + 1} - 1}{x} $$"
   ]
  },
  {
   "cell_type": "markdown",
   "id": "d797c518",
   "metadata": {
    "slideshow": {
     "slide_type": "slide"
    }
   },
   "source": [
    "### Solución:  \n",
    "\n",
    "Al utilizar la sustitución directa, se obtiene la forma indeterminada $0/0$.\n"
   ]
  },
  {
   "cell_type": "code",
   "execution_count": null,
   "id": "9b126b65",
   "metadata": {
    "slideshow": {
     "slide_type": "slide"
    }
   },
   "outputs": [],
   "source": []
  },
  {
   "cell_type": "markdown",
   "id": "f80c4a27",
   "metadata": {
    "slideshow": {
     "slide_type": "slide"
    }
   },
   "source": [
    "# Teorema del encaje  \n",
    "\n",
    "El siguiente teorema se refiere al límite de una función que está “encajada” entre otras dos, \n",
    "cada una de las cuales tiene el mismo límite en un valor dado de x, como se muestra en la \n",
    "figura 1.21 (ver la demostración de este teorema en el apéndice A).\n"
   ]
  },
  {
   "cell_type": "code",
   "execution_count": null,
   "id": "5d22b227",
   "metadata": {},
   "outputs": [],
   "source": []
  },
  {
   "cell_type": "code",
   "execution_count": null,
   "id": "56ce91fd",
   "metadata": {
    "slideshow": {
     "slide_type": "slide"
    }
   },
   "outputs": [],
   "source": []
  },
  {
   "cell_type": "markdown",
   "id": "819c92f4",
   "metadata": {
    "slideshow": {
     "slide_type": "slide"
    }
   },
   "source": [
    "## Proyecto propuesto a los estudiantes para incentivar su aprendizaje  \n"
   ]
  },
  {
   "cell_type": "markdown",
   "id": "071ffd60",
   "metadata": {
    "slideshow": {
     "slide_type": "slide"
    }
   },
   "source": [
    "* resolver un problema de determinación de límites de funciones con:  \n",
    "\n",
    "  * excel\n",
    "  * python\n",
    "  * WolframAlpha\n",
    "  * Geogebra\n",
    "  * Symbolab\n",
    "  \n",
    "e identificar potencialidades y limitaciones de cada una de estas herramientas para la comprensión, visualización  y comunicación de este importante concepto de análisis matemático que sirve a las ciencias.\n",
    "  "
   ]
  },
  {
   "cell_type": "code",
   "execution_count": null,
   "id": "4c514fbb",
   "metadata": {
    "slideshow": {
     "slide_type": "slide"
    }
   },
   "outputs": [],
   "source": []
  },
  {
   "cell_type": "code",
   "execution_count": null,
   "id": "7b7b227f",
   "metadata": {
    "slideshow": {
     "slide_type": "slide"
    }
   },
   "outputs": [],
   "source": []
  },
  {
   "cell_type": "markdown",
   "id": "ed626e01",
   "metadata": {},
   "source": [
    "## Referentes  \n",
    "\n",
    "* [Flipped Classroom](https://www3.gobiernodecanarias.org/medusa/ecoescuela/pedagotic/files/2018/11/flipped-classroom.pdf)\n",
    "\n",
    "* [Cálculo de Larson](https://udeaeduco-my.sharepoint.com/:b:/g/personal/marco_canas_udea_edu_co/ES71ChFeO9ZDhW3TwC5Ijk8BjxUK3Pdqz_fjHxTTFAfIAg?e=6qFJkq). Página 83"
   ]
  },
  {
   "cell_type": "code",
   "execution_count": null,
   "id": "9bb4c831",
   "metadata": {},
   "outputs": [],
   "source": []
  }
 ],
 "metadata": {
  "celltoolbar": "Slideshow",
  "kernelspec": {
   "display_name": "Python 3 (ipykernel)",
   "language": "python",
   "name": "python3"
  },
  "language_info": {
   "codemirror_mode": {
    "name": "ipython",
    "version": 3
   },
   "file_extension": ".py",
   "mimetype": "text/x-python",
   "name": "python",
   "nbconvert_exporter": "python",
   "pygments_lexer": "ipython3",
   "version": "3.9.13"
  }
 },
 "nbformat": 4,
 "nbformat_minor": 5
}
