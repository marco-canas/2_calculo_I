{
 "cells": [
  {
   "cell_type": "markdown",
   "id": "49afa43b",
   "metadata": {
    "slideshow": {
     "slide_type": "slide"
    }
   },
   "source": [
    "<table align=\"left\">\n",
    "  <td>\n",
    "    <a href=\"https://colab.research.google.com/github/marco-canas/2_calculo_I/blob/main/classes/4_class_march_17_parcial_1/4_class_march_17_parcial_1.ipynb\" target=\"_parent\"><img src=\"https://colab.research.google.com/assets/colab-badge.svg\" alt=\"Open In Colab\"/></a>\n",
    "  </td>\n",
    "</table>"
   ]
  },
  {
   "cell_type": "markdown",
   "id": "61516cfa",
   "metadata": {
    "slideshow": {
     "slide_type": "slide"
    }
   },
   "source": [
    "## [Video de apoyo a la lectura interactiva y experimental de este cuaderno]()"
   ]
  },
  {
   "cell_type": "markdown",
   "id": "55492f3a",
   "metadata": {
    "slideshow": {
     "slide_type": "slide"
    }
   },
   "source": [
    "# Clase 4 March 17  Límites de funciones"
   ]
  },
  {
   "cell_type": "markdown",
   "id": "efcbb25b",
   "metadata": {
    "slideshow": {
     "slide_type": "slide"
    }
   },
   "source": [
    "Estos Jóvenes ingenieros de la seccional Bajo Cauca tienen cualidades profesionales y personales en numerosas dimensiones del ser: arte, academia, intelectualidad, ...\n",
    "<img src = 'https://github.com/marco-canas/2_calculo_I/blob/main/classes/4_class_march_17_parcial_1/nariguera_20221130.jpg?raw=true'>"
   ]
  },
  {
   "cell_type": "markdown",
   "id": "4fa59dc9",
   "metadata": {
    "slideshow": {
     "slide_type": "slide"
    }
   },
   "source": [
    "## Modelo pedagógico: \n",
    "\n",
    "[Aula invertida](https://www3.gobiernodecanarias.org/medusa/ecoescuela/pedagotic/files/2018/11/flipped-classroom.pdf)\n",
    "\n",
    "### Actividades fuera del aula según el modelo de Flipped Classroom  \n",
    "#### El docente  \n",
    "\n",
    "* Diseña y planifica el proceso de enseñanza-aprendizaje del aula, integrando estrategias, modelos de enseñanza y\n",
    "metodologías (aprendizaje basado en proyectos, aprendizaje cooperativo y colaborativo,...).  \n",
    "\n",
    "* Diseña y planea actividades que se realizarán fuera del aula\n",
    "(ver vídeos, cumplimentar cuestionarios,...).\n",
    "Selecciona e integra la tecnología en actividades de\n",
    "aprendizaje activo.\n",
    "Diseña actividades de evaluación que promuevan el aprendizaje\n",
    "del alumnado.\n",
    "\n",
    "#### El alumnado\n",
    "\n",
    "* Accede, repetida y libremente, a los contenidos y actividades facilitados por el/la docente.\n",
    "* Realiza las actividades propuestas."
   ]
  },
  {
   "cell_type": "markdown",
   "id": "76ebc813",
   "metadata": {
    "slideshow": {
     "slide_type": "slide"
    }
   },
   "source": [
    "# Objetivos generales del núcleo\n",
    "\n",
    "* Desarrollar competencias analíticas, sintéticas, operativas, interpretativas y gráficas, en el estudio de temas propios de las matemáticas y el cálculo.\n",
    "\n",
    "* Discutir situaciones contextuales, fenómenos, problemas intra o extramatemáticos, de naturaleza variacional, que favorezcan la comprensión y utilización de conceptos y representaciones matemáticas variacionales que los modelen.\n",
    "\n",
    " \n",
    "\n",
    "    Propuesta de evaluación\n",
    "\n",
    "    Parciales: 60% (3 o 4, dependiendo del curso).\n",
    "\n",
    "    Seguimiento: 15% (quices, pruebas cortas, tareas, trabajos, talleres, participación o pequeña presentación, dependiendo del curso).\n",
    "\n",
    "    Trabajo final: 20% (video explicando alguna aplicación o ejercicio, ensayo sobre artículo en inglés relacionado con los temas del curso, exposición o trabajo sobre uso de herramienta digital).\n",
    "\n",
    "    Autoevaluación: 5%"
   ]
  },
  {
   "cell_type": "markdown",
   "id": "f4f1fafb",
   "metadata": {
    "slideshow": {
     "slide_type": "slide"
    }
   },
   "source": [
    "# Recomendaciones para trabajar en equipo"
   ]
  },
  {
   "cell_type": "markdown",
   "id": "ca826f81",
   "metadata": {
    "slideshow": {
     "slide_type": "slide"
    }
   },
   "source": [
    "Un buen líder es consciente de sí mismo, se comunica eficazmente, delega trabajo, fomenta el pensamiento estratégico y motiva a los miembros del equipo para dar lo mejor. En este artículo, descubre qué es ser un líder, las 15 cualidades de líder más importantes y ejemplos de cómo ser un buen líder para que tú también puedas inspirar a quienes te rodean."
   ]
  },
  {
   "cell_type": "markdown",
   "id": "60f44530",
   "metadata": {
    "slideshow": {
     "slide_type": "slide"
    }
   },
   "source": [
    "EJEMPLO 8 Técnica de racionalización\n",
    "\n",
    "Página 83 del [Larson](https://udeaeduco-my.sharepoint.com/:b:/g/personal/marco_canas_udea_edu_co/ES71ChFeO9ZDhW3TwC5Ijk8BjxUK3Pdqz_fjHxTTFAfIAg?e=6qFJkq)"
   ]
  },
  {
   "cell_type": "markdown",
   "id": "eddfb514",
   "metadata": {
    "slideshow": {
     "slide_type": "slide"
    }
   },
   "source": [
    "$$ \\lim_{x \\to 0} \\frac{\\sqrt{x + 1} - 1}{x} $$"
   ]
  },
  {
   "cell_type": "markdown",
   "id": "d797c518",
   "metadata": {
    "slideshow": {
     "slide_type": "slide"
    }
   },
   "source": [
    "### Solución:  \n",
    "\n",
    "Al utilizar la sustitución directa, se obtiene la forma indeterminada $0/0$.\n"
   ]
  },
  {
   "cell_type": "code",
   "execution_count": null,
   "id": "9b126b65",
   "metadata": {
    "slideshow": {
     "slide_type": "slide"
    }
   },
   "outputs": [],
   "source": []
  },
  {
   "cell_type": "markdown",
   "id": "f80c4a27",
   "metadata": {
    "slideshow": {
     "slide_type": "slide"
    }
   },
   "source": [
    "# Teorema del encaje  \n",
    "\n",
    "El siguiente teorema se refiere al límite de una función que está “encajada” entre otras dos, \n",
    "cada una de las cuales tiene el mismo límite en un valor dado de x, como se muestra en la \n",
    "figura 1.21 (ver la demostración de este teorema en el apéndice A).\n"
   ]
  },
  {
   "cell_type": "code",
   "execution_count": null,
   "id": "5d22b227",
   "metadata": {},
   "outputs": [],
   "source": []
  },
  {
   "cell_type": "code",
   "execution_count": null,
   "id": "56ce91fd",
   "metadata": {
    "slideshow": {
     "slide_type": "slide"
    }
   },
   "outputs": [],
   "source": []
  },
  {
   "cell_type": "markdown",
   "id": "819c92f4",
   "metadata": {
    "slideshow": {
     "slide_type": "slide"
    }
   },
   "source": [
    "## Proyecto propuesto a los estudiantes para incentivar su aprendizaje  \n"
   ]
  },
  {
   "cell_type": "markdown",
   "id": "071ffd60",
   "metadata": {
    "slideshow": {
     "slide_type": "slide"
    }
   },
   "source": [
    "* resolver un problema de determinación de límites de funciones con:  \n",
    "\n",
    "  * excel\n",
    "  * python\n",
    "  * WolframAlpha\n",
    "  * Geogebra\n",
    "  * Symbolab\n",
    "  \n",
    "e identificar potencialidades y limitaciones de cada una de estas herramientas para la comprensión, visualización  y comunicación de este importante concepto de análisis matemático que sirve a las ciencias.\n",
    "  "
   ]
  },
  {
   "cell_type": "markdown",
   "id": "29c21e48",
   "metadata": {
    "slideshow": {
     "slide_type": "slide"
    }
   },
   "source": [
    "## Tareas para realizar fuera de clase\n",
    "\n",
    "<img src = 'https://github.com/marco-canas/2_calculo_I/blob/main/classes/4_class_march_17_parcial_1/tarea_larson_seccion_1_2.png?raw=true'>"
   ]
  },
  {
   "cell_type": "markdown",
   "id": "4b854065",
   "metadata": {
    "slideshow": {
     "slide_type": "slide"
    }
   },
   "source": [
    "# Memorización de los casos de factorización"
   ]
  },
  {
   "cell_type": "markdown",
   "id": "508ce3eb",
   "metadata": {
    "slideshow": {
     "slide_type": "slide"
    }
   },
   "source": [
    "\\begin{matrix} \n",
    "\\text{Nombre del caso de factorización} & \\text{algebraicamente} & \\text{Cómo se factoriza} \\\\ \n",
    "\\text{1. Factor común: }& a^{2} + ab & a(a + b)\\\\\n",
    "\\text{2. Factor común por agrupación de términos } && \\\\\n",
    "\\text{3. Trinomio cuadrado perfecto  } && \\\\\n",
    "\\text{4. Trinomio de la forma $x^{2} + bx + c$ } & & \\\\\n",
    "\\text{5. Trinomio de la forma $ax^{2} + bx + c$} && \\\\\n",
    "\\text{6. Factorizar completando el trinomio cuadrado perfecto} && \\\\\n",
    "\\text{7. diferencia de cuadrados} && \\\\\n",
    "\\text{8. Sumas o diferencias de cubos} && \\\\\n",
    "\\text{9. } && \\\\\n",
    "\\text{10. } && \n",
    "\\end{matrix}\n",
    "\n"
   ]
  },
  {
   "cell_type": "markdown",
   "id": "45a02985",
   "metadata": {
    "slideshow": {
     "slide_type": "slide"
    }
   },
   "source": [
    "## Ejemplo de factor común\n",
    "\n",
    "$3x + 6y = $ el factor común aquí es $3$. \n",
    "\n"
   ]
  },
  {
   "cell_type": "markdown",
   "id": "31a2b18f",
   "metadata": {
    "slideshow": {
     "slide_type": "slide"
    }
   },
   "source": [
    "#### [Sobre factorización les pido que entrenemos del Baldor](https://udeaeduco-my.sharepoint.com/:b:/g/personal/marco_canas_udea_edu_co/EQXrt-owIclDiroV7jNMLtgBl-qlJstaxqaML-fsH8mUSg?e=uBRSfB)"
   ]
  },
  {
   "cell_type": "markdown",
   "id": "c9c182a3",
   "metadata": {
    "slideshow": {
     "slide_type": "slide"
    }
   },
   "source": [
    "## Tarea para el 24 de marzo de 2023 Viernes\n",
    "\n",
    "* Realizar por lo menos 5 ejercicios de cada caso de productos notables (especiales o usuales) los cuales encuentre el página 48 del algebra de baldor. \n",
    "\n",
    "* Ojo, los van a preguntar. Van a llamar a lista. Ojo van a pedir el cuaderno. Ojo, en esta materia hay nota de seguimiento.\n",
    "\n",
    "* Ojo, van a preguntar los casos de factorización en orden. "
   ]
  },
  {
   "cell_type": "code",
   "execution_count": null,
   "id": "c37c989c",
   "metadata": {},
   "outputs": [],
   "source": []
  },
  {
   "cell_type": "code",
   "execution_count": null,
   "id": "7f708281",
   "metadata": {},
   "outputs": [],
   "source": []
  },
  {
   "cell_type": "markdown",
   "id": "fd4d242c",
   "metadata": {
    "slideshow": {
     "slide_type": "slide"
    }
   },
   "source": [
    "## Compromisos en cuanto a la evalución\n",
    "\n",
    "* Tenemos una semana más para entregar el cuaderno y el video del primer quiz. Es decir, tenemos has el 24 de marzo a las 11:59 PM para enviar el trabajo por el siguiente [vínculo](https://forms.office.com/Pages/ResponsePage.aspx?id=IefhmYRxjkmK_7KtTlPBwkanXIs1i1FEujpsZgO6dXpUREZUOUY0MEsxUE5ETjk4S1dOMFRWR1lEMS4u): \n",
    "\n",
    "* el acuerdo de valor entre el video y el cuaderno es de 50% para cada uno de estos componentes. Es decir, el video vala la mitad de nota del quiz 1. \n",
    "\n",
    "* Parcial 1. Realizamos el parcial 1 de manera escrita: El próximo 24 de marzo, al inicio de la clase (7 a 9 de la mañana). "
   ]
  },
  {
   "cell_type": "code",
   "execution_count": null,
   "id": "10f5d587",
   "metadata": {},
   "outputs": [],
   "source": []
  },
  {
   "cell_type": "markdown",
   "id": "ed626e01",
   "metadata": {},
   "source": [
    "## Referentes  \n",
    "\n",
    "* [Flipped Classroom](https://www3.gobiernodecanarias.org/medusa/ecoescuela/pedagotic/files/2018/11/flipped-classroom.pdf)\n",
    "\n",
    "* [Cálculo de Larson](https://udeaeduco-my.sharepoint.com/:b:/g/personal/marco_canas_udea_edu_co/ES71ChFeO9ZDhW3TwC5Ijk8BjxUK3Pdqz_fjHxTTFAfIAg?e=6qFJkq). Página 83"
   ]
  },
  {
   "cell_type": "code",
   "execution_count": null,
   "id": "9bb4c831",
   "metadata": {},
   "outputs": [],
   "source": []
  }
 ],
 "metadata": {
  "celltoolbar": "Slideshow",
  "kernelspec": {
   "display_name": "Python 3 (ipykernel)",
   "language": "python",
   "name": "python3"
  },
  "language_info": {
   "codemirror_mode": {
    "name": "ipython",
    "version": 3
   },
   "file_extension": ".py",
   "mimetype": "text/x-python",
   "name": "python",
   "nbconvert_exporter": "python",
   "pygments_lexer": "ipython3",
   "version": "3.9.13"
  }
 },
 "nbformat": 4,
 "nbformat_minor": 5
}
