{
 "cells": [
  {
   "cell_type": "markdown",
   "id": "7faa68bf",
   "metadata": {
    "slideshow": {
     "slide_type": "slide"
    }
   },
   "source": [
    "<table align=\"left\">\n",
    "  <td>\n",
    "    <a href=\"https://colab.research.google.com/github/marco-canas/intro-Machine-Learning/blob/main/classes/class_20/class_20.ipynb\" target=\"_parent\"><img src=\"https://colab.research.google.com/assets/colab-badge.svg\" alt=\"Open In Colab\"/></a>\n",
    "  </td>\n",
    "</table> "
   ]
  },
  {
   "cell_type": "code",
   "execution_count": 6,
   "id": "df09b58d",
   "metadata": {
    "slideshow": {
     "slide_type": "slide"
    }
   },
   "outputs": [
    {
     "data": {
      "text/plain": [
       "'CALDERA ASSIA BRYAN DAVID'"
      ]
     },
     "execution_count": 6,
     "metadata": {},
     "output_type": "execute_result"
    }
   ],
   "source": [
    "def estudiante_que_va_a_participar():\n",
    "    import numpy as np \n",
    "    import pandas as pd \n",
    "\n",
    "    grupo_calculo = pd.read_csv('grupo_calculo.csv', sep = ',')\n",
    "\n",
    "    from random import choice\n",
    "\n",
    "    return choice(grupo_calculo.Nombre)\n",
    "\n",
    "estudiante_que_va_a_participar() "
   ]
  },
  {
   "cell_type": "markdown",
   "id": "1d8ace1f",
   "metadata": {
    "slideshow": {
     "slide_type": "slide"
    }
   },
   "source": [
    "# 4 Integración"
   ]
  },
  {
   "cell_type": "markdown",
   "id": "d000cdc9",
   "metadata": {
    "slideshow": {
     "slide_type": "slide"
    }
   },
   "source": [
    "Página 337 de Larson. Ejercicios de repaso. "
   ]
  },
  {
   "cell_type": "markdown",
   "id": "2830efb5",
   "metadata": {
    "slideshow": {
     "slide_type": "slide"
    }
   },
   "source": [
    "# Ejercicio 1 Dibujar el gráfico aproximado de $f$ a partir del gráfico de $f'$"
   ]
  },
  {
   "cell_type": "markdown",
   "id": "b3947840",
   "metadata": {
    "slideshow": {
     "slide_type": "slide"
    }
   },
   "source": [
    "utilizar la gráfica de $f'$ para dibujar una gráfica de $f$."
   ]
  },
  {
   "cell_type": "markdown",
   "id": "62ab510c",
   "metadata": {
    "slideshow": {
     "slide_type": "slide"
    }
   },
   "source": [
    "<img src = 'https://github.com/marco-canas/calculo_I/blob/main/classes/4_integracion/ejer_1_derivada.png?raw=true'> "
   ]
  },
  {
   "cell_type": "markdown",
   "id": "75d23d8f",
   "metadata": {
    "slideshow": {
     "slide_type": "slide"
    }
   },
   "source": [
    "1. Trazamos el dominio de $f'$ que supondremos será el dominio de $f$. \n",
    "2. Resaltamos los intervalos donde la derivada es negativa, donde es cero y donde es positiva. \n",
    "3. Utilizamos que derivada negativa implica que la función es decreciente, y que derivada cero, significa que la función llegó a un mínimo o un máximo relativo y que derivada positiva significa que la función es creciente.\n",
    "4. Derivada lineal (no horizontal) implica función cuadrática.\n",
    "5. Derivada constante implica función lineal. "
   ]
  },
  {
   "cell_type": "markdown",
   "id": "28797fcf",
   "metadata": {
    "slideshow": {
     "slide_type": "slide"
    }
   },
   "source": [
    "# Ejercicio 5 del larson 337"
   ]
  },
  {
   "cell_type": "markdown",
   "id": "4353ceb3",
   "metadata": {
    "slideshow": {
     "slide_type": "slide"
    }
   },
   "source": [
    "$$ \\int \\frac{x^{4} + 8}{x^{3}}dx $$"
   ]
  },
  {
   "cell_type": "markdown",
   "id": "3fc0448b",
   "metadata": {
    "slideshow": {
     "slide_type": "slide"
    }
   },
   "source": [
    "## Solución"
   ]
  },
  {
   "cell_type": "markdown",
   "id": "2b3a9b65",
   "metadata": {
    "slideshow": {
     "slide_type": "slide"
    }
   },
   "source": [
    "Los elementos a tener en cuenta:\n",
    "\n",
    "* la integral de un cociente no es el cociente de als integrales \n",
    "* Pero la integral de una suma es la suma de las integrales. \n",
    "* el denominador distribuye para los sumandos del numerador.  \n",
    "$$ \\frac{a+b}{c} = \\frac{a}{c} + \\frac{b}{c} $$\n",
    "\n",
    "* división de potencias de igual base:\n",
    "\n",
    "* propiedad invertiva de la multiplicación de los números reales.\n",
    "\n",
    "$$ \\frac{1}{x^{3}} = x^{-3} $$\n"
   ]
  },
  {
   "cell_type": "code",
   "execution_count": null,
   "id": "aa46816c",
   "metadata": {},
   "outputs": [],
   "source": []
  },
  {
   "cell_type": "code",
   "execution_count": null,
   "id": "88485c67",
   "metadata": {},
   "outputs": [],
   "source": []
  },
  {
   "cell_type": "code",
   "execution_count": null,
   "id": "b10e4102",
   "metadata": {},
   "outputs": [],
   "source": []
  },
  {
   "cell_type": "code",
   "execution_count": null,
   "id": "464f1ddb",
   "metadata": {},
   "outputs": [],
   "source": []
  }
 ],
 "metadata": {
  "celltoolbar": "Slideshow",
  "kernelspec": {
   "display_name": "Python 3 (ipykernel)",
   "language": "python",
   "name": "python3"
  },
  "language_info": {
   "codemirror_mode": {
    "name": "ipython",
    "version": 3
   },
   "file_extension": ".py",
   "mimetype": "text/x-python",
   "name": "python",
   "nbconvert_exporter": "python",
   "pygments_lexer": "ipython3",
   "version": "3.9.7"
  }
 },
 "nbformat": 4,
 "nbformat_minor": 5
}
