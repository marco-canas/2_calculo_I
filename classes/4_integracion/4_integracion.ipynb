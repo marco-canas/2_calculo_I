{
 "cells": [
  {
   "cell_type": "markdown",
   "id": "eeec524d",
   "metadata": {
    "slideshow": {
     "slide_type": "slide"
    }
   },
   "source": [
    "<table align=\"left\">\n",
    "  <td>\n",
    "    <a href=\"https://colab.research.google.com/github/marco-canas/intro-Machine-Learning/blob/main/classes/class_20/class_20.ipynb\" target=\"_parent\"><img src=\"https://colab.research.google.com/assets/colab-badge.svg\" alt=\"Open In Colab\"/></a>\n",
    "  </td>\n",
    "</table> "
   ]
  },
  {
   "cell_type": "code",
   "execution_count": 3,
   "id": "6f6bafa5",
   "metadata": {
    "slideshow": {
     "slide_type": "slide"
    }
   },
   "outputs": [
    {
     "data": {
      "text/plain": [
       "'LONDOÑO MONTERROSA JULIANA'"
      ]
     },
     "execution_count": 3,
     "metadata": {},
     "output_type": "execute_result"
    }
   ],
   "source": [
    "def estudiante_que_va_a_participar():\n",
    "    import numpy as np \n",
    "    import pandas as pd \n",
    "    from random import choice\n",
    "\n",
    "    calculo = pd.read_csv('calculo.csv', sep = ',')\n",
    "    lista_estudiantes = list(calculo.Nombre.values)                        \n",
    "    \n",
    "\n",
    "    return choice(calculo.Nombre)\n",
    "\n",
    "estudiante_que_va_a_participar() "
   ]
  },
  {
   "cell_type": "markdown",
   "id": "c3c686ca",
   "metadata": {
    "slideshow": {
     "slide_type": "slide"
    }
   },
   "source": [
    "# 4 Integración"
   ]
  },
  {
   "cell_type": "markdown",
   "id": "9d08f71a",
   "metadata": {
    "slideshow": {
     "slide_type": "slide"
    }
   },
   "source": [
    "Página 337 de Larson. Ejercicios de repaso. "
   ]
  },
  {
   "cell_type": "markdown",
   "id": "167d4aa3",
   "metadata": {
    "slideshow": {
     "slide_type": "slide"
    }
   },
   "source": [
    "# Ejercicio 1 Dibujar el gráfico aproximado de $f$ a partir del gráfico de $f'$"
   ]
  },
  {
   "cell_type": "markdown",
   "id": "348654f0",
   "metadata": {
    "slideshow": {
     "slide_type": "slide"
    }
   },
   "source": [
    "utilizar la gráfica de $f'$ para dibujar una gráfica de $f$."
   ]
  },
  {
   "cell_type": "markdown",
   "id": "1abb6a60",
   "metadata": {
    "slideshow": {
     "slide_type": "slide"
    }
   },
   "source": [
    "<img src = 'https://github.com/marco-canas/calculo_I/blob/main/classes/4_integracion/ejer_1_derivada.png?raw=true'> "
   ]
  },
  {
   "cell_type": "markdown",
   "id": "6d6f4b89",
   "metadata": {
    "slideshow": {
     "slide_type": "slide"
    }
   },
   "source": [
    "1. Trazamos el dominio de $f'$ que supondremos será el dominio de $f$. \n",
    "2. Resaltamos los intervalos donde la derivada es negativa, donde es cero y donde es positiva. \n",
    "3. Utilizamos que derivada negativa implica que la función es decreciente, y que derivada cero, significa que la función llegó a un mínimo o un máximo relativo y que derivada positiva significa que la función es creciente.\n",
    "4. Derivada lineal (no horizontal) implica función cuadrática.\n",
    "5. Derivada constante implica función lineal. "
   ]
  },
  {
   "cell_type": "markdown",
   "id": "82a0da5f",
   "metadata": {
    "slideshow": {
     "slide_type": "slide"
    }
   },
   "source": [
    "# Ejercicio 5 del larson 337"
   ]
  },
  {
   "cell_type": "markdown",
   "id": "aad44277",
   "metadata": {
    "slideshow": {
     "slide_type": "slide"
    }
   },
   "source": [
    "$$ \\int \\frac{x^{4} + 8}{x^{3}}dx $$"
   ]
  },
  {
   "cell_type": "markdown",
   "id": "76f92bd0",
   "metadata": {
    "slideshow": {
     "slide_type": "slide"
    }
   },
   "source": [
    "## Solución"
   ]
  },
  {
   "cell_type": "markdown",
   "id": "495b5871",
   "metadata": {
    "slideshow": {
     "slide_type": "slide"
    }
   },
   "source": [
    "Los elementos a tener en cuenta:\n",
    "\n",
    "* la integral de un cociente no es el cociente de als integrales \n",
    "* Pero la integral de una suma es la suma de las integrales. \n",
    "* el denominador distribuye para los sumandos del numerador.  \n",
    "$$ \\frac{a+b}{c} = \\frac{a}{c} + \\frac{b}{c} $$\n",
    "\n",
    "* división de potencias de igual base:\n",
    "\n",
    "* propiedad invertiva de la multiplicación de los números reales.\n",
    "\n",
    "$$ \\frac{1}{x^{3}} = x^{-3} $$\n"
   ]
  },
  {
   "cell_type": "markdown",
   "id": "a95fbcdb",
   "metadata": {
    "slideshow": {
     "slide_type": "slide"
    }
   },
   "source": [
    "# Integral definida y área"
   ]
  },
  {
   "cell_type": "markdown",
   "id": "89d16fd2",
   "metadata": {
    "slideshow": {
     "slide_type": "slide"
    }
   },
   "source": [
    "Determinar el área de la regíon determinada por la función $f(x) = \\frac{1}{4}x^{3}$, las rectas $x = 2$, $x = 4$ y el eje x. "
   ]
  },
  {
   "cell_type": "markdown",
   "id": "99427761",
   "metadata": {
    "slideshow": {
     "slide_type": "slide"
    }
   },
   "source": [
    "## Solución:"
   ]
  },
  {
   "cell_type": "markdown",
   "id": "6344cb8c",
   "metadata": {
    "slideshow": {
     "slide_type": "slide"
    }
   },
   "source": [
    "Para ello calcule la integral definida:\n",
    "\n",
    "$$ \\int_{2}^{4} \\frac{1}{4}x^{3}dx =  $$\n",
    "\n"
   ]
  },
  {
   "cell_type": "code",
   "execution_count": 6,
   "id": "a397d4b0",
   "metadata": {},
   "outputs": [
    {
     "data": {
      "image/png": "[encoded data removed]",
      "text/plain": [
       "<Figure size 432x288 with 1 Axes>"
      ]
     },
     "metadata": {
      "needs_background": "light"
     },
     "output_type": "display_data"
    }
   ],
   "source": [
    "import numpy as np \n",
    "import matplotlib.pyplot as plt \n",
    "\n",
    "x1 = np.linspace(2,4,200)\n",
    "x2 = x1\n",
    "x = np.c_[x1,x2]\n",
    "y1 = 0.25*x1**3\n",
    "y2 = np.zeros_like(x1)\n",
    "y = np.c_[y1,y2]\n",
    "\n",
    "\n",
    "plt.plot(x,y)\n",
    "\n",
    "\n",
    "plt.show() "
   ]
  },
  {
   "cell_type": "markdown",
   "id": "cb89c4e9",
   "metadata": {
    "slideshow": {
     "slide_type": "slide"
    }
   },
   "source": [
    "# Parcial 4 (Taller en parejas)"
   ]
  },
  {
   "cell_type": "markdown",
   "id": "095c20fd",
   "metadata": {
    "slideshow": {
     "slide_type": "slide"
    }
   },
   "source": [
    "1. Calcular la integral utilizando reglas de integración (Hacer el cálculo manual).\n",
    "2. Dibujar con GeoGebra la región de integración y determinar con este software esta área. \n",
    "3. Conclusión. \n",
    "\n",
    "Página 338 del PDF. "
   ]
  },
  {
   "cell_type": "code",
   "execution_count": null,
   "id": "d50d82a4",
   "metadata": {
    "slideshow": {
     "slide_type": "slide"
    }
   },
   "outputs": [],
   "source": []
  },
  {
   "cell_type": "code",
   "execution_count": null,
   "id": "80b9bb65",
   "metadata": {
    "slideshow": {
     "slide_type": "slide"
    }
   },
   "outputs": [],
   "source": []
  },
  {
   "cell_type": "code",
   "execution_count": null,
   "id": "18369fd9",
   "metadata": {
    "slideshow": {
     "slide_type": "slide"
    }
   },
   "outputs": [],
   "source": []
  },
  {
   "cell_type": "code",
   "execution_count": null,
   "id": "df018e9f",
   "metadata": {
    "slideshow": {
     "slide_type": "slide"
    }
   },
   "outputs": [],
   "source": []
  },
  {
   "cell_type": "code",
   "execution_count": null,
   "id": "2947970a",
   "metadata": {
    "slideshow": {
     "slide_type": "slide"
    }
   },
   "outputs": [],
   "source": []
  }
 ],
 "metadata": {
  "celltoolbar": "Slideshow",
  "kernelspec": {
   "display_name": "Python 3 (ipykernel)",
   "language": "python",
   "name": "python3"
  },
  "language_info": {
   "codemirror_mode": {
    "name": "ipython",
    "version": 3
   },
   "file_extension": ".py",
   "mimetype": "text/x-python",
   "name": "python",
   "nbconvert_exporter": "python",
   "pygments_lexer": "ipython3",
   "version": "3.9.7"
  }
 },
 "nbformat": 4,
 "nbformat_minor": 5
}
