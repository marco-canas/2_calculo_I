{
 "cells": [
  {
   "cell_type": "markdown",
   "id": "f47460f0",
   "metadata": {
    "slideshow": {
     "slide_type": "slide"
    }
   },
   "source": [
    "<table align=\"left\">\n",
    "  <td>\n",
    "    <a href=\"https://colab.research.google.com/github/ageron/handson-ml3/blob/main/math_differential_calculus.ipynb\" target=\"_parent\"><img src=\"https://colab.research.google.com/assets/colab-badge.svg\" alt=\"Open In Colab\"/></a>\n",
    "  </td>\n",
    "</table>"
   ]
  },
  {
   "cell_type": "markdown",
   "id": "693921e6",
   "metadata": {
    "slideshow": {
     "slide_type": "slide"
    }
   },
   "source": [
    "## [Video de apoyo a la lectura interactiva y experimental de este cuaderno sobre sumas de Riemann](https://www.youtube.com/watch?v=dTklSrqHpo4)"
   ]
  },
  {
   "cell_type": "markdown",
   "id": "e8142350",
   "metadata": {
    "slideshow": {
     "slide_type": "slide"
    }
   },
   "source": [
    "# [Sumas de Riemannn con sympy](https://docs.sympy.org/latest/modules/integrals/integrals.html)"
   ]
  },
  {
   "cell_type": "markdown",
   "id": "19329800",
   "metadata": {
    "slideshow": {
     "slide_type": "slide"
    }
   },
   "source": [
    "# Áreas y distancias"
   ]
  },
  {
   "cell_type": "markdown",
   "id": "e064e546",
   "metadata": {
    "slideshow": {
     "slide_type": "slide"
    }
   },
   "source": [
    "Página 397 de Stewart. "
   ]
  },
  {
   "cell_type": "markdown",
   "id": "db367a19",
   "metadata": {
    "slideshow": {
     "slide_type": "slide"
    }
   },
   "source": [
    "En esta sección se descubre que, al intentar calcular el área bajo una curva o la distancia \n",
    "recorrida por un automóvil, se llega al mismo tipo especial de límite."
   ]
  },
  {
   "cell_type": "markdown",
   "id": "43506b42",
   "metadata": {
    "slideshow": {
     "slide_type": "slide"
    }
   },
   "source": [
    "## El problema del área"
   ]
  },
  {
   "cell_type": "markdown",
   "id": "d951da0c",
   "metadata": {
    "slideshow": {
     "slide_type": "slide"
    }
   },
   "source": [
    "Intente resolver el problema del área: encuentre el área de la región $S$ que está debajo \n",
    "de la curva $y = f(x)$, de $a$ a $b$. "
   ]
  },
  {
   "cell_type": "markdown",
   "id": "3be6383e",
   "metadata": {
    "slideshow": {
     "slide_type": "slide"
    }
   },
   "source": [
    "Esto significa que $S$, la cual se muestra en la figura 1, está limitada por la gráfica de una función continua $f$ [donde $f(x) > 0$], las rectas verticales  $x = a$ y $x = b$, y el eje $x$. "
   ]
  },
  {
   "cell_type": "markdown",
   "id": "2a77be39",
   "metadata": {
    "slideshow": {
     "slide_type": "slide"
    }
   },
   "source": [
    "Al intentar resolver el problema del área, debe preguntarse: ¿cuál es el significado de la palabra área?"
   ]
  },
  {
   "cell_type": "markdown",
   "id": "8349676d",
   "metadata": {
    "slideshow": {
     "slide_type": "slide"
    }
   },
   "source": [
    "Esta cuestión es fácil de responder para regiones con lados rectos. "
   ]
  },
  {
   "cell_type": "markdown",
   "id": "94ad0f36",
   "metadata": {
    "slideshow": {
     "slide_type": "slide"
    }
   },
   "source": [
    "Para un rectángulo, el área se de\u001f ne como el producto del largo y el ancho. El área de \n",
    "un triángulo es la mitad de la base multiplicada por la altura. El área de un polígono \n",
    "se encuentra al dividirlo en triángulos (como en la \u001f gura 2) y sumar las áreas de esos \n",
    "triángulos."
   ]
  },
  {
   "cell_type": "markdown",
   "id": "4e9d4b88",
   "metadata": {},
   "source": [
    "# Ejemplo del Purcell Página 219. \n",
    "\n",
    "## Área por medio de polígonos inscritos \n",
    "\n",
    "Considere la región R acotada por la parábola $y = f(x) = x^{2}$, el eje $x$ y la recta vertical $x = 2$ (figura 5).   \n",
    "\n",
    "Nos referiremos a $R$ como la región acotada bajo la curva $y = x^{2}$, entre $x = 0$ y $x = 2$. Nuestra meta es calcular su área $A(R)$."
   ]
  },
  {
   "cell_type": "code",
   "execution_count": null,
   "id": "48114439",
   "metadata": {},
   "outputs": [],
   "source": [
    "import numpy as np \n",
    "\n",
    "import matplotlib.pyplot as plt \n",
    "\n",
    "from ipywidgets import interact\n",
    "\n"
   ]
  },
  {
   "cell_type": "code",
   "execution_count": null,
   "id": "49fc29d3",
   "metadata": {},
   "outputs": [],
   "source": []
  },
  {
   "cell_type": "code",
   "execution_count": null,
   "id": "317cd864",
   "metadata": {},
   "outputs": [],
   "source": []
  },
  {
   "cell_type": "markdown",
   "id": "e473f1e8",
   "metadata": {
    "slideshow": {
     "slide_type": "slide"
    }
   },
   "source": [
    "## EJEMPLO 1 \n",
    "\n",
    "página 397 del PDF de Cálculo de Stewart. "
   ]
  },
  {
   "cell_type": "markdown",
   "id": "775382fc",
   "metadata": {
    "slideshow": {
     "slide_type": "slide"
    }
   },
   "source": [
    "Utilice rectángulos para estimar el área bajo la parábola $y = x^{2}$ , de $0$ a $1$ \n",
    "(la región parabólica S se ilustra en la figura 3)."
   ]
  },
  {
   "cell_type": "code",
   "execution_count": null,
   "id": "2da06f5b",
   "metadata": {
    "slideshow": {
     "slide_type": "slide"
    }
   },
   "outputs": [],
   "source": []
  },
  {
   "cell_type": "code",
   "execution_count": null,
   "id": "0be018cd",
   "metadata": {},
   "outputs": [],
   "source": []
  },
  {
   "cell_type": "code",
   "execution_count": null,
   "id": "752cfe18",
   "metadata": {},
   "outputs": [],
   "source": []
  },
  {
   "cell_type": "code",
   "execution_count": null,
   "id": "392c5466",
   "metadata": {},
   "outputs": [],
   "source": []
  },
  {
   "cell_type": "code",
   "execution_count": null,
   "id": "1684a22a",
   "metadata": {},
   "outputs": [],
   "source": []
  },
  {
   "cell_type": "markdown",
   "id": "511faec1",
   "metadata": {
    "slideshow": {
     "slide_type": "slide"
    }
   },
   "source": [
    "# Taller sumas de Riemann"
   ]
  },
  {
   "cell_type": "code",
   "execution_count": 8,
   "id": "b9f00a29",
   "metadata": {
    "slideshow": {
     "slide_type": "slide"
    }
   },
   "outputs": [],
   "source": [
    "def f(x):\n",
    "    return (2*x+4)**0.5"
   ]
  },
  {
   "cell_type": "code",
   "execution_count": 18,
   "id": "5a58d64d",
   "metadata": {
    "slideshow": {
     "slide_type": "slide"
    }
   },
   "outputs": [
    {
     "data": {
      "text/plain": [
       "0.8423483375805956"
      ]
     },
     "execution_count": 18,
     "metadata": {},
     "output_type": "execute_result"
    }
   ],
   "source": [
    "(f(-2)+f(-2+1/8) + f(-2+2*1/8) + f(-2+3*1/8)+ f(-2+4*1/8)+ f(-2+5*1/8)+ f(-2+6*1/8)+ f(-2+7*1/8))*1/8"
   ]
  },
  {
   "cell_type": "code",
   "execution_count": null,
   "id": "796375ba",
   "metadata": {
    "slideshow": {
     "slide_type": "slide"
    }
   },
   "outputs": [],
   "source": [
    "(f(-2)+f(-2+1/8) + f(-2+2*1/8) + f(-2+3*1/8)+ f(-2+4*1/8)+ f(-2+5*1/8)+ f(-2+6*1/8)+ f(-2+7*1/8))*1/8"
   ]
  },
  {
   "cell_type": "code",
   "execution_count": 1,
   "id": "e43d1084",
   "metadata": {
    "slideshow": {
     "slide_type": "slide"
    }
   },
   "outputs": [
    {
     "data": {
      "text/plain": [
       "-1.875"
      ]
     },
     "execution_count": 1,
     "metadata": {},
     "output_type": "execute_result"
    }
   ],
   "source": [
    "-2+1/8"
   ]
  },
  {
   "cell_type": "code",
   "execution_count": 2,
   "id": "ec61c0d8",
   "metadata": {
    "slideshow": {
     "slide_type": "slide"
    }
   },
   "outputs": [
    {
     "data": {
      "text/plain": [
       "-1.75"
      ]
     },
     "execution_count": 2,
     "metadata": {},
     "output_type": "execute_result"
    }
   ],
   "source": [
    "-2+2*1/8"
   ]
  },
  {
   "cell_type": "code",
   "execution_count": 3,
   "id": "20eeb967",
   "metadata": {
    "slideshow": {
     "slide_type": "slide"
    }
   },
   "outputs": [
    {
     "data": {
      "text/plain": [
       "-1.625"
      ]
     },
     "execution_count": 3,
     "metadata": {},
     "output_type": "execute_result"
    }
   ],
   "source": [
    "-2+3*1/8"
   ]
  },
  {
   "cell_type": "code",
   "execution_count": 4,
   "id": "1ffe17a3",
   "metadata": {
    "slideshow": {
     "slide_type": "slide"
    }
   },
   "outputs": [
    {
     "data": {
      "text/plain": [
       "-1.5"
      ]
     },
     "execution_count": 4,
     "metadata": {},
     "output_type": "execute_result"
    }
   ],
   "source": [
    "-2+4*1/8"
   ]
  },
  {
   "cell_type": "code",
   "execution_count": 5,
   "id": "fac09bc8",
   "metadata": {
    "slideshow": {
     "slide_type": "slide"
    }
   },
   "outputs": [
    {
     "data": {
      "text/plain": [
       "-1.375"
      ]
     },
     "execution_count": 5,
     "metadata": {},
     "output_type": "execute_result"
    }
   ],
   "source": [
    "-2+5*1/8"
   ]
  },
  {
   "cell_type": "code",
   "execution_count": 6,
   "id": "f3757137",
   "metadata": {
    "slideshow": {
     "slide_type": "slide"
    }
   },
   "outputs": [
    {
     "data": {
      "text/plain": [
       "-1.25"
      ]
     },
     "execution_count": 6,
     "metadata": {},
     "output_type": "execute_result"
    }
   ],
   "source": [
    "-2+6*1/8"
   ]
  },
  {
   "cell_type": "code",
   "execution_count": 7,
   "id": "74293231",
   "metadata": {
    "slideshow": {
     "slide_type": "slide"
    }
   },
   "outputs": [
    {
     "data": {
      "text/plain": [
       "-1.125"
      ]
     },
     "execution_count": 7,
     "metadata": {},
     "output_type": "execute_result"
    }
   ],
   "source": [
    "-2+7*1/8"
   ]
  },
  {
   "cell_type": "code",
   "execution_count": 20,
   "id": "ddb743c6",
   "metadata": {
    "slideshow": {
     "slide_type": "slide"
    }
   },
   "outputs": [
    {
     "data": {
      "text/plain": [
       "array([-2.   , -1.875, -1.75 , -1.625, -1.5  , -1.375, -1.25 , -1.125])"
      ]
     },
     "execution_count": 20,
     "metadata": {},
     "output_type": "execute_result"
    }
   ],
   "source": [
    "import numpy as np\n",
    "\n",
    "np.arange(start = -2, stop = -1, step = 1/8 ) # el step es delta x"
   ]
  },
  {
   "cell_type": "code",
   "execution_count": 25,
   "id": "affeabce",
   "metadata": {
    "slideshow": {
     "slide_type": "slide"
    }
   },
   "outputs": [
    {
     "data": {
      "text/plain": [
       "array([0.        , 0.5       , 0.70710678, 0.8660254 , 1.        ,\n",
       "       1.11803399, 1.22474487, 1.32287566])"
      ]
     },
     "execution_count": 25,
     "metadata": {},
     "output_type": "execute_result"
    }
   ],
   "source": [
    "f(np.arange(start = -2, stop = -1, step = 1/8 ))"
   ]
  },
  {
   "cell_type": "code",
   "execution_count": 26,
   "id": "0f9cc85d",
   "metadata": {
    "slideshow": {
     "slide_type": "slide"
    }
   },
   "outputs": [
    {
     "data": {
      "text/plain": [
       "6.738786700644765"
      ]
     },
     "execution_count": 26,
     "metadata": {},
     "output_type": "execute_result"
    }
   ],
   "source": [
    "sum(f(np.arange(start = -2, stop = -1, step = 1/8 )))"
   ]
  },
  {
   "cell_type": "code",
   "execution_count": 24,
   "id": "78e3bf91",
   "metadata": {
    "slideshow": {
     "slide_type": "slide"
    }
   },
   "outputs": [
    {
     "data": {
      "text/plain": [
       "0.8423483375805956"
      ]
     },
     "execution_count": 24,
     "metadata": {},
     "output_type": "execute_result"
    }
   ],
   "source": [
    "sum(f(np.arange(start = -2, stop = -1, step = 1/8 )))*1/8"
   ]
  },
  {
   "cell_type": "markdown",
   "id": "035953e7",
   "metadata": {
    "slideshow": {
     "slide_type": "slide"
    }
   },
   "source": [
    "## [Sumas de Riemann con Python](https://stackoverflow.com/questions/29318682/integration-with-riemann-sum-python)"
   ]
  },
  {
   "cell_type": "code",
   "execution_count": 5,
   "id": "2862e2d7",
   "metadata": {
    "slideshow": {
     "slide_type": "slide"
    }
   },
   "outputs": [
    {
     "name": "stdout",
     "output_type": "stream",
     "text": [
      "0.33283350000000095\n"
     ]
    }
   ],
   "source": [
    "def integral(a, b, d):\n",
    "    if a > b:\n",
    "        a,b = b,a\n",
    "    delta_x = float((b-a)/1000)\n",
    "    j = abs((b-a)/delta_x)\n",
    "    i = int(j)\n",
    "    n = s = 0\n",
    "    x = a\n",
    "    while n < i:\n",
    "        delta_A = (x**2) * delta_x\n",
    "        x += delta_x\n",
    "        s += delta_A\n",
    "\n",
    "        n += 1\n",
    "\n",
    "    return abs(s)\n",
    "\n",
    "print(integral(0,1,0.0001))"
   ]
  },
  {
   "cell_type": "code",
   "execution_count": 41,
   "id": "237dab0b",
   "metadata": {},
   "outputs": [],
   "source": [
    "n = 10000000000000000000000000000000000000000000000000000000000000000000000000000000000000000"
   ]
  },
  {
   "cell_type": "code",
   "execution_count": 43,
   "id": "c531b8a1",
   "metadata": {},
   "outputs": [
    {
     "data": {
      "text/plain": [
       "2e-88"
      ]
     },
     "execution_count": 43,
     "metadata": {},
     "output_type": "execute_result"
    }
   ],
   "source": [
    "1/n*2"
   ]
  },
  {
   "cell_type": "markdown",
   "id": "e801a386",
   "metadata": {},
   "source": [
    "## Referentes  \n",
    "\n",
    "* Integrals of Sympy: https://docs.sympy.org/latest/modules/integrals/integrals.html"
   ]
  },
  {
   "cell_type": "code",
   "execution_count": 45,
   "id": "d29cc47e",
   "metadata": {},
   "outputs": [
    {
     "data": {
      "text/plain": [
       "158.0"
      ]
     },
     "execution_count": 45,
     "metadata": {},
     "output_type": "execute_result"
    }
   ],
   "source": [
    "(18+24+32/3)*3"
   ]
  },
  {
   "cell_type": "code",
   "execution_count": 46,
   "id": "2be46daa",
   "metadata": {
    "slideshow": {
     "slide_type": "slide"
    }
   },
   "outputs": [
    {
     "data": {
      "text/plain": [
       "110.66666666666667"
      ]
     },
     "execution_count": 46,
     "metadata": {},
     "output_type": "execute_result"
    }
   ],
   "source": [
    "332/3"
   ]
  },
  {
   "cell_type": "code",
   "execution_count": 50,
   "id": "f9854638",
   "metadata": {
    "slideshow": {
     "slide_type": "slide"
    }
   },
   "outputs": [
    {
     "data": {
      "text/latex": [
       "$\\displaystyle \\frac{332}{3}$"
      ],
      "text/plain": [
       "332/3"
      ]
     },
     "execution_count": 50,
     "metadata": {},
     "output_type": "execute_result"
    }
   ],
   "source": [
    "from sympy import *\n",
    "\n",
    "x = var('x')\n",
    "\n",
    "integrate(2*x**2-5*x, (x, (3, 7))) "
   ]
  },
  {
   "cell_type": "code",
   "execution_count": null,
   "id": "5f61a9ca",
   "metadata": {},
   "outputs": [],
   "source": []
  }
 ],
 "metadata": {
  "celltoolbar": "Slideshow",
  "kernelspec": {
   "display_name": "Python 3 (ipykernel)",
   "language": "python",
   "name": "python3"
  },
  "language_info": {
   "codemirror_mode": {
    "name": "ipython",
    "version": 3
   },
   "file_extension": ".py",
   "mimetype": "text/x-python",
   "name": "python",
   "nbconvert_exporter": "python",
   "pygments_lexer": "ipython3",
   "version": "3.9.13"
  }
 },
 "nbformat": 4,
 "nbformat_minor": 5
}
