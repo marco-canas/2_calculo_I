{
 "cells": [
  {
   "cell_type": "code",
   "execution_count": null,
   "metadata": {},
   "outputs": [],
   "source": []
  },
  {
   "cell_type": "code",
   "execution_count": null,
   "metadata": {},
   "outputs": [],
   "source": []
  },
  {
   "cell_type": "markdown",
   "metadata": {},
   "source": [
    "Plan \n",
    "\n",
    "1. Genere 5000 puntos en el cuadradoo $[0,1] \\times [0,1]$\n",
    "2. Seleccione de estos puntos cuales tienen segunda coordenada menor al cuadrdo de la primera.\n",
    "3. hallar la razón entre los que cumplan la condición 2 y 5000. "
   ]
  },
  {
   "cell_type": "code",
   "execution_count": 21,
   "metadata": {},
   "outputs": [
    {
     "data": {
      "text/plain": [
       "array([[0.76045192, 0.47875438],\n",
       "       [0.97746921, 0.58275397],\n",
       "       [0.51292604, 0.1139781 ],\n",
       "       ...,\n",
       "       [0.69260234, 0.71604263],\n",
       "       [0.28937304, 0.37452134],\n",
       "       [0.7888372 , 0.79907109]])"
      ]
     },
     "execution_count": 21,
     "metadata": {},
     "output_type": "execute_result"
    }
   ],
   "source": [
    "import numpy as np \n",
    "n = 100_000\n",
    "puntos_en_cuadrado = np.random.rand(n, 2)\n",
    "\n",
    "puntos_en_cuadrado"
   ]
  },
  {
   "cell_type": "code",
   "execution_count": 22,
   "metadata": {},
   "outputs": [
    {
     "data": {
      "text/plain": [
       "0.334"
      ]
     },
     "execution_count": 22,
     "metadata": {},
     "output_type": "execute_result"
    }
   ],
   "source": [
    "contador = 0\n",
    "for i in range(5000):\n",
    "    if puntos_en_cuadrado[i, 1] <= puntos_en_cuadrado[i, 0]**2:\n",
    "        contador +=1\n",
    "contador/5000        "
   ]
  },
  {
   "cell_type": "markdown",
   "metadata": {},
   "source": [
    "# Visualización del conjunto de puntos del cuadrado $[] \\times []$ que está por debajo de $y = x^{2}$"
   ]
  },
  {
   "cell_type": "markdown",
   "metadata": {},
   "source": []
  }
 ],
 "metadata": {
  "kernelspec": {
   "display_name": ".venv",
   "language": "python",
   "name": "python3"
  },
  "language_info": {
   "codemirror_mode": {
    "name": "ipython",
    "version": 3
   },
   "file_extension": ".py",
   "mimetype": "text/x-python",
   "name": "python",
   "nbconvert_exporter": "python",
   "pygments_lexer": "ipython3",
   "version": "3.10.13"
  },
  "orig_nbformat": 4
 },
 "nbformat": 4,
 "nbformat_minor": 2
}
