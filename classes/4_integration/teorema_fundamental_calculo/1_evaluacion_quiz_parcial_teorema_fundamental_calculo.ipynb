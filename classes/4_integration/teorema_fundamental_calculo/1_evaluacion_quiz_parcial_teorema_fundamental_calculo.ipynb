{
 "cells": [
  {
   "cell_type": "markdown",
   "id": "dc06dec7",
   "metadata": {
    "slideshow": {
     "slide_type": "slide"
    }
   },
   "source": [
    "<table align=\"left\">\n",
    "  <td>\n",
    "    <a href=\"https://colab.research.google.com/github/marco-canas/calculo/blob/main/classes/4_integration/teorema_fundamental_calculo/1_evaluacion_quiz_parcial_teorema_fundamental_calculo.ipynb\" target=\"_parent\"><img src=\"https://colab.research.google.com/assets/colab-badge.svg\" alt=\"Open In Colab\"/></a>\n",
    "  </td>\n",
    "</table>"
   ]
  },
  {
   "cell_type": "markdown",
   "id": "e0c5b198",
   "metadata": {
    "slideshow": {
     "slide_type": "slide"
    }
   },
   "source": [
    "### [Video de apoyo a la lectura interactiva y experimental de este cuaderno]()"
   ]
  },
  {
   "cell_type": "markdown",
   "id": "41e82203",
   "metadata": {
    "slideshow": {
     "slide_type": "slide"
    }
   },
   "source": [
    "## [Vínculo al programa del curso:  ]()"
   ]
  },
  {
   "cell_type": "markdown",
   "id": "ca46c23b",
   "metadata": {
    "slideshow": {
     "slide_type": "slide"
    }
   },
   "source": [
    "# Modelo general de clase: [aula invertida](https://www3.gobiernodecanarias.org/medusa/ecoescuela/pedagotic/aprendizaje-invertido-flipped-classroom/)\n",
    "\n",
    "## Definición y características de este modelo"
   ]
  },
  {
   "cell_type": "markdown",
   "id": "d2b0e776",
   "metadata": {
    "slideshow": {
     "slide_type": "slide"
    }
   },
   "source": [
    "## ¿Qué es?  \n",
    "\n",
    "Flipped Learning o aprendizaje invertido es un enfoque pedagógico en el que:  \n",
    "\n",
    "* la instrucción directa se realiza fuera del aula y \n",
    "* se utiliza el tiempo de clase para llevar a cabo actividades que impliquen el desarrollo de procesos cognitivos de mayor complejidad, en las que son necesarias la ayuda y la experiencia del docente."
   ]
  },
  {
   "cell_type": "markdown",
   "id": "5fc4f731",
   "metadata": {
    "slideshow": {
     "slide_type": "slide"
    }
   },
   "source": [
    "## ¿Para qué sirve?  \n",
    "\n",
    "Mejora el proceso de enseñanza-aprendizaje realizando,   \n",
    "\n",
    "* fuera del aula, actividades de aprendizaje sencillas (observar, memorizar, resumir, etc.) y, \n",
    "* en el aula, actividades más complejas (razonar, examinar, priorizar, argumentar, proponer, etc.) que requieren la interacción entre iguales y la ayuda del docente como facilitador."
   ]
  },
  {
   "cell_type": "markdown",
   "id": "b42472d6",
   "metadata": {
    "slideshow": {
     "slide_type": "slide"
    }
   },
   "source": [
    "<img src = 'https://github.com/marco-canas/7_didactica_ciencia_datos/blob/main/4_images/atributos_aprendizaje_invertido.png?raw=true'>"
   ]
  },
  {
   "cell_type": "markdown",
   "id": "8cee33b3",
   "metadata": {
    "slideshow": {
     "slide_type": "slide"
    }
   },
   "source": [
    "# Proceso Flipped Learning"
   ]
  },
  {
   "cell_type": "markdown",
   "id": "9c61b8b5",
   "metadata": {
    "slideshow": {
     "slide_type": "slide"
    }
   },
   "source": [
    "## Fuera del Aula"
   ]
  },
  {
   "cell_type": "markdown",
   "id": "fe20721d",
   "metadata": {
    "slideshow": {
     "slide_type": "slide"
    }
   },
   "source": [
    "### Docente:"
   ]
  },
  {
   "cell_type": "markdown",
   "id": "5b022dc9",
   "metadata": {
    "slideshow": {
     "slide_type": "slide"
    }
   },
   "source": [
    "* Diseña y planea el proceso de enseñanza-aprendizaje del aula, integrando estrategias, modelos de enseñanza y metodologías (aprendizaje basado en proyectos, aprendizaje cooperativo y colaborativo,…).  \n",
    "\n",
    "* Diseña y planea actividades que se realizarán fuera del aula (ver vídeos, cumplimentar cuestionarios,…).  \n",
    "\n",
    "* Selecciona e integra la tecnología en actividades de aprendizaje activo.  \n",
    "\n",
    "* Diseña actividades de evaluación que promuevan el aprendizaje del alumnado."
   ]
  },
  {
   "cell_type": "markdown",
   "id": "467fb978",
   "metadata": {
    "slideshow": {
     "slide_type": "slide"
    }
   },
   "source": [
    "### Alumnado:"
   ]
  },
  {
   "cell_type": "markdown",
   "id": "87d6d661",
   "metadata": {
    "slideshow": {
     "slide_type": "slide"
    }
   },
   "source": [
    "* Accede, cuantas veces necesite, a las actividades facilitadas por el profesorado.\n",
    "* Realiza las actividades propuestas."
   ]
  },
  {
   "cell_type": "markdown",
   "id": "93cd48b6",
   "metadata": {
    "slideshow": {
     "slide_type": "slide"
    }
   },
   "source": [
    "## En el Aula"
   ]
  },
  {
   "cell_type": "markdown",
   "id": "79ea8675",
   "metadata": {
    "slideshow": {
     "slide_type": "slide"
    }
   },
   "source": [
    "### Docente:"
   ]
  },
  {
   "cell_type": "markdown",
   "id": "d4d6f829",
   "metadata": {
    "slideshow": {
     "slide_type": "slide"
    }
   },
   "source": [
    "* Guía y facilita los procesos de aprendizaje, atendiendo a la diversidad.\n",
    "* Retroalimenta el desempeño de los equipos/grupos y del alumnado individualmente.\n",
    "* Genera espacios para la coevaluación y autoevaluación."
   ]
  },
  {
   "cell_type": "markdown",
   "id": "7178794c",
   "metadata": {
    "slideshow": {
     "slide_type": "slide"
    }
   },
   "source": [
    "### Alumnado:"
   ]
  },
  {
   "cell_type": "markdown",
   "id": "88d1c0f7",
   "metadata": {
    "slideshow": {
     "slide_type": "slide"
    }
   },
   "source": [
    "* Realiza las actividades (debates, exposiciones orales, informes, diario de aprendizaje, cuaderno de trabajo cooperativo,…).\n",
    "* Recibe retroalimentación inmediata del profesorado y de sus compañeros y compañeras.\n",
    "* Accede, si fuera necesario, a las actividades previas facilitadas por el profesorado."
   ]
  },
  {
   "cell_type": "markdown",
   "id": "7f9be90f",
   "metadata": {
    "slideshow": {
     "slide_type": "slide"
    }
   },
   "source": [
    "# Fomento de la lectura literaria asociada a Ingeniería agropecuaria y licenciatura en Matemáticas"
   ]
  },
  {
   "cell_type": "markdown",
   "id": "1145cd94",
   "metadata": {
    "slideshow": {
     "slide_type": "slide"
    }
   },
   "source": [
    "## Otras formas de comunicación que alienan de la vida "
   ]
  },
  {
   "cell_type": "markdown",
   "id": "0dd2653d",
   "metadata": {
    "slideshow": {
     "slide_type": "fragment"
    }
   },
   "source": [
    "La comunicación de nuestros deseos expresada en forma de exigencias constituye otra forma de lenguaje que bloquea la compasión. "
   ]
  },
  {
   "cell_type": "markdown",
   "id": "e782b66b",
   "metadata": {
    "slideshow": {
     "slide_type": "fragment"
    }
   },
   "source": [
    "Toda exigencia amenaza explícita o implícitamente a la persona que la escucha con la culpa o el castigo, en caso de que no la satisfaga. "
   ]
  },
  {
   "cell_type": "markdown",
   "id": "414e598b",
   "metadata": {
    "slideshow": {
     "slide_type": "fragment"
    }
   },
   "source": [
    "Se trata de una forma de comunicación muy corriente en nuestra cultura, sobre todo por parte de quienes ocupan posiciones de autoridad."
   ]
  },
  {
   "cell_type": "markdown",
   "id": "ec85a421",
   "metadata": {
    "slideshow": {
     "slide_type": "slide"
    }
   },
   "source": [
    "Mis hijos me han dado lecciones muy valiosas en lo que se refiere a las exigencias. "
   ]
  },
  {
   "cell_type": "markdown",
   "id": "2bc38c7c",
   "metadata": {
    "slideshow": {
     "slide_type": "slide"
    }
   },
   "source": [
    "Sin saber muy bien por qué, yo estaba convencido de que, por mi condición de padre, me correspondía exigirles determinadas cosas. "
   ]
  },
  {
   "cell_type": "markdown",
   "id": "04607bcf",
   "metadata": {
    "slideshow": {
     "slide_type": "slide"
    }
   },
   "source": [
    "Pero aprendí que, por mucho que les exigiera que las hicieran, no por eso conseguía mi propósito. "
   ]
  },
  {
   "cell_type": "markdown",
   "id": "3dc94c1c",
   "metadata": {
    "slideshow": {
     "slide_type": "slide"
    }
   },
   "source": [
    "Es una lección de humildad para aquellos de nosotros que creemos que, por el simple hecho de ser padres, maestros o jefes, vamos a cambiar a los demás y conseguir que hagan lo que nosotros queremos. "
   ]
  },
  {
   "cell_type": "markdown",
   "id": "d7c42438",
   "metadata": {
    "slideshow": {
     "slide_type": "slide"
    }
   },
   "source": [
    "A mí, mis hijos me enseñaron que yo no conseguiría que ellos hicieran lo que yo quería. "
   ]
  },
  {
   "cell_type": "markdown",
   "id": "c3186e89",
   "metadata": {
    "slideshow": {
     "slide_type": "slide"
    }
   },
   "source": [
    "Lo máximo que podía conseguir, a través del castigo, era que se arrepintiesen y desearan no haber actuado como lo habían hecho. "
   ]
  },
  {
   "cell_type": "markdown",
   "id": "eb277e91",
   "metadata": {},
   "source": [
    "Con el tiempo, también me enseñaron que, siempre que yo cometía el error de obligarlos a someterse a mis deseos ante la perspectiva del castigo, ellos disponían de medios para lograr que yo deseara no haber recurrido a ese método."
   ]
  },
  {
   "cell_type": "markdown",
   "id": "5ba963d7",
   "metadata": {
    "slideshow": {
     "slide_type": "slide"
    }
   },
   "source": [
    "Volveremos a examinar este tema cuando aprendamos a diferenciar las peti\u0002ciones de las exigencias, un aspecto muy importante de la CNV."
   ]
  },
  {
   "cell_type": "markdown",
   "id": "33799888",
   "metadata": {
    "slideshow": {
     "slide_type": "slide"
    }
   },
   "source": [
    "La comunicación que aliena de la vida también se relaciona con el concepto de que ciertas acciones merecen recompensa mientras que otras merecen castigo."
   ]
  },
  {
   "cell_type": "markdown",
   "id": "1573cd66",
   "metadata": {
    "slideshow": {
     "slide_type": "slide"
    }
   },
   "source": [
    "Esta idea se expresa en la palabra “merecer”, como en “Él merece castigo por lo que hizo”. "
   ]
  },
  {
   "cell_type": "markdown",
   "id": "f635c655",
   "metadata": {
    "slideshow": {
     "slide_type": "slide"
    }
   },
   "source": [
    "Supone “maldad” por parte de las personas que actúan de determinada manera y requiere castigo para que se arrepientan y cambien su comportamiento."
   ]
  },
  {
   "cell_type": "markdown",
   "id": "f8d4dd7c",
   "metadata": {
    "slideshow": {
     "slide_type": "slide"
    }
   },
   "source": [
    "Creo que interesa a todo el mundo que las personas cambien no para evitar el castigo sino porque consideran que el cambio los beneficia."
   ]
  },
  {
   "cell_type": "markdown",
   "id": "95d96385",
   "metadata": {
    "slideshow": {
     "slide_type": "slide"
    }
   },
   "source": [
    "La mayoría de nosotros crecimos hablando un lenguaje que nos estimula a etiquetar, comparar, exigir y emitir juicios más que a darnos cuenta de lo que esta\u0002mos sintiendo y necesitando. "
   ]
  },
  {
   "cell_type": "markdown",
   "id": "7737422f",
   "metadata": {
    "slideshow": {
     "slide_type": "slide"
    }
   },
   "source": [
    "Creo que la comunicación que aliena de la vida se basa en concepciones de la naturaleza humana que han ejercido su influencia durante varios siglos. "
   ]
  },
  {
   "cell_type": "markdown",
   "id": "731ca5e2",
   "metadata": {
    "slideshow": {
     "slide_type": "slide"
    }
   },
   "source": [
    "Estas concepciones ponen el énfasis en nuestra maldad y en nuestras deficiencias innatas, así como en la necesidad de una educación que controle nuestra naturaleza inherentemente indeseable. "
   ]
  },
  {
   "cell_type": "markdown",
   "id": "a6dc494f",
   "metadata": {},
   "source": [
    "Tal educación con frecuencia nos deja preguntándonos si hay algo incorrecto en cualquier tipo de sentimiento o necesidad que podamos tener. Desde pequeños aprendemos a dejar a un lado lo que sucede en nuestro interior.\n"
   ]
  },
  {
   "cell_type": "markdown",
   "id": "dc5bb843",
   "metadata": {},
   "source": [
    "La comunicación que nos aliena de la vida surge de las sociedades jerárquicas o de dominación, y las sustenta. Cuando los pueblos están controlados por un número pequeño de individuos que buscan el beneficio propio, a los reyes, zares, nobles, etc., les resulta muy útil que las masas se eduquen con una mentalidad de esclavos. "
   ]
  },
  {
   "cell_type": "markdown",
   "id": "d7ca8d18",
   "metadata": {},
   "source": [
    "A tal efecto, el lenguaje de lo incorrecto y de expresiones como “deberías” y “tienes que”\n",
    "es totalmente adecuado para ese propósito: cuanto más acostumbramos a las personas a pensar en términos de juicios moralistas que implican lo que está mal o incorrecto, tanto más aprenden a mirar hacia afuera de sí mismos –a las autoridades externas– para encontrar la definición de lo que constituye lo correcto, lo incorrecto, lo bueno y lo malo. "
   ]
  },
  {
   "cell_type": "markdown",
   "id": "5d8e1708",
   "metadata": {},
   "source": [
    "Cuando nos ponemos en contacto con\n",
    "nuestros sentimientos y necesidades, los seres humanos dejamos de ser buenos esclavos o subordinados."
   ]
  },
  {
   "cell_type": "markdown",
   "id": "79c35435",
   "metadata": {
    "slideshow": {
     "slide_type": "slide"
    }
   },
   "source": [
    "### Resumen  \n",
    "\n",
    "Disfrutar cuando damos y recibimos con compasión forma parte de nuestra naturaleza. "
   ]
  },
  {
   "cell_type": "markdown",
   "id": "0adab921",
   "metadata": {},
   "source": [
    "Sin embargo, está tan profundamente arraigada en nosotros una serie de formas de «comunicación que aliena de la vida», que eso nos lleva a hablar y a conducirnos de tal modo que herimos a los demás y nos herimos a nosotros mismos. Una forma de comunicación que aliena de la vida consiste en emitir juicios moralistas que presuponen error o maldad en todo aquel que no actúa de acuerdo con nuestro sistema de valores. "
   ]
  },
  {
   "cell_type": "markdown",
   "id": "3d50b884",
   "metadata": {},
   "source": [
    "Otra forma de comunicación que aliena de la vida consiste en el uso de comparaciones, que\n",
    "bloquean la compasión por los demás y por nosotros mismos."
   ]
  },
  {
   "cell_type": "markdown",
   "id": "96775931",
   "metadata": {
    "slideshow": {
     "slide_type": "slide"
    }
   },
   "source": [
    "## Título de la clase: Realización de quiz o parcial  \n",
    "\n"
   ]
  },
  {
   "cell_type": "markdown",
   "id": "1d38dd4e",
   "metadata": {
    "slideshow": {
     "slide_type": "slide"
    }
   },
   "source": [
    "### Objetivo de aprendizaje (Enunciar, de manera corta sencilla y clara para todos los asistentes)\n",
    "\n",
    "* "
   ]
  },
  {
   "cell_type": "markdown",
   "id": "ca7261b1",
   "metadata": {
    "slideshow": {
     "slide_type": "slide"
    }
   },
   "source": [
    "## Establecimiento de prerrequisitos conceptuales para alcanzar el objetivo de aprendizaje trazado.   \n",
    "\n",
    "(Elabore una lista de preguntas al rededor de los conceptos que consideres necesarios para empezar la clase).  \n",
    "\n",
    "1. \n",
    "2. \n",
    "3. "
   ]
  },
  {
   "cell_type": "markdown",
   "id": "2298e976",
   "metadata": {
    "slideshow": {
     "slide_type": "slide"
    }
   },
   "source": [
    "# Para el diseño de la clase tenga en cuenta algunos problemas de aprendizaje"
   ]
  },
  {
   "cell_type": "code",
   "execution_count": null,
   "id": "523d3acf",
   "metadata": {
    "slideshow": {
     "slide_type": "slide"
    }
   },
   "outputs": [],
   "source": []
  },
  {
   "cell_type": "markdown",
   "id": "a40a4704",
   "metadata": {
    "slideshow": {
     "slide_type": "slide"
    }
   },
   "source": [
    "# Ejemplo de quiz"
   ]
  },
  {
   "cell_type": "code",
   "execution_count": 4,
   "id": "05883934",
   "metadata": {},
   "outputs": [
    {
     "name": "stdout",
     "output_type": "stream",
     "text": [
      "Asignaciones guardadas en tarea_seccion_01_purcell.csv\n"
     ]
    },
    {
     "data": {
      "text/html": [
       "<div>\n",
       "<style scoped>\n",
       "    .dataframe tbody tr th:only-of-type {\n",
       "        vertical-align: middle;\n",
       "    }\n",
       "\n",
       "    .dataframe tbody tr th {\n",
       "        vertical-align: top;\n",
       "    }\n",
       "\n",
       "    .dataframe thead th {\n",
       "        text-align: right;\n",
       "    }\n",
       "</style>\n",
       "<table border=\"1\" class=\"dataframe\">\n",
       "  <thead>\n",
       "    <tr style=\"text-align: right;\">\n",
       "      <th></th>\n",
       "      <th>Student</th>\n",
       "      <th>Exercise 1</th>\n",
       "      <th>Exercise 2</th>\n",
       "      <th>Exercise 3</th>\n",
       "    </tr>\n",
       "  </thead>\n",
       "  <tbody>\n",
       "    <tr>\n",
       "      <th>0</th>\n",
       "      <td>AGUDELO MORENO RENATO DIRNEY</td>\n",
       "      <td>24</td>\n",
       "      <td>65</td>\n",
       "      <td>59</td>\n",
       "    </tr>\n",
       "    <tr>\n",
       "      <th>1</th>\n",
       "      <td>AMARIS FERNANDEZ SEBASTIAN CAMILO</td>\n",
       "      <td>21</td>\n",
       "      <td>34</td>\n",
       "      <td>39</td>\n",
       "    </tr>\n",
       "    <tr>\n",
       "      <th>2</th>\n",
       "      <td>ARENAS HERAZO GABRIEL ENRIQUE</td>\n",
       "      <td>58</td>\n",
       "      <td>19</td>\n",
       "      <td>18</td>\n",
       "    </tr>\n",
       "    <tr>\n",
       "      <th>3</th>\n",
       "      <td>AYALA MENDOZA MARISOL YACIRA</td>\n",
       "      <td>81</td>\n",
       "      <td>61</td>\n",
       "      <td>7</td>\n",
       "    </tr>\n",
       "    <tr>\n",
       "      <th>4</th>\n",
       "      <td>BERTEL RODELO MICHELL SMIT</td>\n",
       "      <td>74</td>\n",
       "      <td>46</td>\n",
       "      <td>39</td>\n",
       "    </tr>\n",
       "    <tr>\n",
       "      <th>5</th>\n",
       "      <td>BULA VERGARA MARIA PAULA</td>\n",
       "      <td>39</td>\n",
       "      <td>54</td>\n",
       "      <td>60</td>\n",
       "    </tr>\n",
       "    <tr>\n",
       "      <th>6</th>\n",
       "      <td>CANTILLO ENSUCHO DANIEL</td>\n",
       "      <td>58</td>\n",
       "      <td>22</td>\n",
       "      <td>78</td>\n",
       "    </tr>\n",
       "    <tr>\n",
       "      <th>7</th>\n",
       "      <td>CERVANTES DURAN ANGELICA</td>\n",
       "      <td>47</td>\n",
       "      <td>70</td>\n",
       "      <td>17</td>\n",
       "    </tr>\n",
       "    <tr>\n",
       "      <th>8</th>\n",
       "      <td>GALLEGO TEJADA JUAN ESTEBAN</td>\n",
       "      <td>35</td>\n",
       "      <td>72</td>\n",
       "      <td>42</td>\n",
       "    </tr>\n",
       "    <tr>\n",
       "      <th>9</th>\n",
       "      <td>GUERRA NORIEGA YONATHAN</td>\n",
       "      <td>18</td>\n",
       "      <td>24</td>\n",
       "      <td>19</td>\n",
       "    </tr>\n",
       "    <tr>\n",
       "      <th>10</th>\n",
       "      <td>HINCAPIE CASTRO JOHAN SEBASTIAN</td>\n",
       "      <td>13</td>\n",
       "      <td>74</td>\n",
       "      <td>62</td>\n",
       "    </tr>\n",
       "    <tr>\n",
       "      <th>11</th>\n",
       "      <td>HUMANEZ SANCHEZ CAMILO</td>\n",
       "      <td>42</td>\n",
       "      <td>80</td>\n",
       "      <td>31</td>\n",
       "    </tr>\n",
       "    <tr>\n",
       "      <th>12</th>\n",
       "      <td>IBA�EZ MORENO FRANCISCO LUIS</td>\n",
       "      <td>13</td>\n",
       "      <td>76</td>\n",
       "      <td>41</td>\n",
       "    </tr>\n",
       "    <tr>\n",
       "      <th>13</th>\n",
       "      <td>LONDONO CUADRADO CRISTIAN ALBERTO</td>\n",
       "      <td>51</td>\n",
       "      <td>42</td>\n",
       "      <td>64</td>\n",
       "    </tr>\n",
       "    <tr>\n",
       "      <th>14</th>\n",
       "      <td>LOZANO HOLGUIN LIZETH JOHANA</td>\n",
       "      <td>55</td>\n",
       "      <td>34</td>\n",
       "      <td>17</td>\n",
       "    </tr>\n",
       "    <tr>\n",
       "      <th>15</th>\n",
       "      <td>MASS MIRANDA RIVALDO JOSE</td>\n",
       "      <td>10</td>\n",
       "      <td>8</td>\n",
       "      <td>18</td>\n",
       "    </tr>\n",
       "    <tr>\n",
       "      <th>16</th>\n",
       "      <td>MIRANDA MARTINEZ CARLOS ANDRES</td>\n",
       "      <td>51</td>\n",
       "      <td>25</td>\n",
       "      <td>73</td>\n",
       "    </tr>\n",
       "    <tr>\n",
       "      <th>17</th>\n",
       "      <td>MONTERROSA SOTO ABRIL</td>\n",
       "      <td>64</td>\n",
       "      <td>74</td>\n",
       "      <td>27</td>\n",
       "    </tr>\n",
       "    <tr>\n",
       "      <th>18</th>\n",
       "      <td>NORIEGA JIMENEZ GABRIELA</td>\n",
       "      <td>15</td>\n",
       "      <td>2</td>\n",
       "      <td>80</td>\n",
       "    </tr>\n",
       "    <tr>\n",
       "      <th>19</th>\n",
       "      <td>PEREZ REYES IVAN DARIO</td>\n",
       "      <td>37</td>\n",
       "      <td>13</td>\n",
       "      <td>40</td>\n",
       "    </tr>\n",
       "    <tr>\n",
       "      <th>20</th>\n",
       "      <td>PEREZ THERAN ERLINDA</td>\n",
       "      <td>62</td>\n",
       "      <td>57</td>\n",
       "      <td>33</td>\n",
       "    </tr>\n",
       "    <tr>\n",
       "      <th>21</th>\n",
       "      <td>PINEDA ROMERO YOSMERI</td>\n",
       "      <td>50</td>\n",
       "      <td>46</td>\n",
       "      <td>6</td>\n",
       "    </tr>\n",
       "    <tr>\n",
       "      <th>22</th>\n",
       "      <td>QUINONEZ CERVANTES MARIANA</td>\n",
       "      <td>70</td>\n",
       "      <td>3</td>\n",
       "      <td>46</td>\n",
       "    </tr>\n",
       "    <tr>\n",
       "      <th>23</th>\n",
       "      <td>QUIROZ DURAN JUAN MANUEL</td>\n",
       "      <td>66</td>\n",
       "      <td>80</td>\n",
       "      <td>6</td>\n",
       "    </tr>\n",
       "    <tr>\n",
       "      <th>24</th>\n",
       "      <td>RAMOS PEREZ YANINE</td>\n",
       "      <td>1</td>\n",
       "      <td>28</td>\n",
       "      <td>80</td>\n",
       "    </tr>\n",
       "    <tr>\n",
       "      <th>25</th>\n",
       "      <td>RIVAS HOYOS ESTEFANIA</td>\n",
       "      <td>55</td>\n",
       "      <td>26</td>\n",
       "      <td>30</td>\n",
       "    </tr>\n",
       "    <tr>\n",
       "      <th>26</th>\n",
       "      <td>ROSILLO TEJADA VANESA</td>\n",
       "      <td>24</td>\n",
       "      <td>41</td>\n",
       "      <td>68</td>\n",
       "    </tr>\n",
       "    <tr>\n",
       "      <th>27</th>\n",
       "      <td>SANCHEZ PADILLA SILVESTRE</td>\n",
       "      <td>53</td>\n",
       "      <td>30</td>\n",
       "      <td>68</td>\n",
       "    </tr>\n",
       "    <tr>\n",
       "      <th>28</th>\n",
       "      <td>SILVA ROYERO MAILY CRISTINA</td>\n",
       "      <td>15</td>\n",
       "      <td>17</td>\n",
       "      <td>36</td>\n",
       "    </tr>\n",
       "    <tr>\n",
       "      <th>29</th>\n",
       "      <td>USUGA GEORGE JHON ESTIVEN</td>\n",
       "      <td>61</td>\n",
       "      <td>81</td>\n",
       "      <td>19</td>\n",
       "    </tr>\n",
       "    <tr>\n",
       "      <th>30</th>\n",
       "      <td>JUAN FELIPE HERNANDEZ ARDILA</td>\n",
       "      <td>58</td>\n",
       "      <td>45</td>\n",
       "      <td>15</td>\n",
       "    </tr>\n",
       "  </tbody>\n",
       "</table>\n",
       "</div>"
      ],
      "text/plain": [
       "                              Student  Exercise 1  Exercise 2  Exercise 3\n",
       "0        AGUDELO MORENO RENATO DIRNEY          24          65          59\n",
       "1   AMARIS FERNANDEZ SEBASTIAN CAMILO          21          34          39\n",
       "2       ARENAS HERAZO GABRIEL ENRIQUE          58          19          18\n",
       "3        AYALA MENDOZA MARISOL YACIRA          81          61           7\n",
       "4          BERTEL RODELO MICHELL SMIT          74          46          39\n",
       "5            BULA VERGARA MARIA PAULA          39          54          60\n",
       "6             CANTILLO ENSUCHO DANIEL          58          22          78\n",
       "7            CERVANTES DURAN ANGELICA          47          70          17\n",
       "8         GALLEGO TEJADA JUAN ESTEBAN          35          72          42\n",
       "9             GUERRA NORIEGA YONATHAN          18          24          19\n",
       "10    HINCAPIE CASTRO JOHAN SEBASTIAN          13          74          62\n",
       "11             HUMANEZ SANCHEZ CAMILO          42          80          31\n",
       "12       IBA�EZ MORENO FRANCISCO LUIS          13          76          41\n",
       "13  LONDONO CUADRADO CRISTIAN ALBERTO          51          42          64\n",
       "14       LOZANO HOLGUIN LIZETH JOHANA          55          34          17\n",
       "15          MASS MIRANDA RIVALDO JOSE          10           8          18\n",
       "16     MIRANDA MARTINEZ CARLOS ANDRES          51          25          73\n",
       "17              MONTERROSA SOTO ABRIL          64          74          27\n",
       "18           NORIEGA JIMENEZ GABRIELA          15           2          80\n",
       "19             PEREZ REYES IVAN DARIO          37          13          40\n",
       "20               PEREZ THERAN ERLINDA          62          57          33\n",
       "21              PINEDA ROMERO YOSMERI          50          46           6\n",
       "22         QUINONEZ CERVANTES MARIANA          70           3          46\n",
       "23           QUIROZ DURAN JUAN MANUEL          66          80           6\n",
       "24                 RAMOS PEREZ YANINE           1          28          80\n",
       "25              RIVAS HOYOS ESTEFANIA          55          26          30\n",
       "26              ROSILLO TEJADA VANESA          24          41          68\n",
       "27          SANCHEZ PADILLA SILVESTRE          53          30          68\n",
       "28        SILVA ROYERO MAILY CRISTINA          15          17          36\n",
       "29          USUGA GEORGE JHON ESTIVEN          61          81          19\n",
       "30       JUAN FELIPE HERNANDEZ ARDILA          58          45          15"
      ]
     },
     "execution_count": 4,
     "metadata": {},
     "output_type": "execute_result"
    }
   ],
   "source": [
    "# asignación de tres ejercicio del taller para quiz\n",
    "\n",
    "import pandas as pd\n",
    "import numpy as np\n",
    "import random\n",
    "import requests\n",
    "\n",
    "# Descargar la lista de estudiantes y ejercicios\n",
    "students_url = \"https://raw.githubusercontent.com/marco-canas/groups_list/main/calculo_diferencial.csv\"\n",
    "exercises = list(range(1, 84))  # Lista de ejercicios del 1 al 83\n",
    "\n",
    "# Cargar la lista de estudiantes\n",
    "students_data = pd.read_csv(students_url)\n",
    "\n",
    "# Crear una lista para almacenar las asignaciones\n",
    "assignments = []\n",
    "\n",
    "# Asignar ejercicios aleatorios a cada estudiante\n",
    "for index, student in students_data.iterrows():\n",
    "    random_exercises = random.sample(exercises, 3)  # Seleccionar 5 ejercicios aleatorios sin repetición\n",
    "    assignments.append([students_data[\"Nombre\"][index], *random_exercises])  # Agregar asignación a la lista\n",
    "\n",
    "# Crear un DataFrame con las asignaciones\n",
    "columns = [\"Student\", \"Exercise 1\", \"Exercise 2\", \"Exercise 3\"]\n",
    "assignment_df = pd.DataFrame(assignments, columns=columns)\n",
    "\n",
    "# Guardar el DataFrame en un archivo CSV\n",
    "assignment_csv = \"tarea_seccion_01_purcell.csv\"\n",
    "assignment_df.to_csv(assignment_csv, index=False)\n",
    "\n",
    "print(\"Asignaciones guardadas en\", assignment_csv)\n",
    "assignment_df"
   ]
  },
  {
   "cell_type": "code",
   "execution_count": null,
   "id": "1ff0d02b",
   "metadata": {
    "slideshow": {
     "slide_type": "slide"
    }
   },
   "outputs": [],
   "source": [
    "import random\n",
    "\n",
    "def pregunta_1():\n",
    "    print(\"1. ¿Cuál es la derivada de la función f(x) = 3x^2?\")\n",
    "    opciones = [\"a. f'(x) = 6x\", \"b. f'(x) = 3x\", \"c. f'(x) = 2x^2\", \"d. f'(x) = 9x\"]\n",
    "    respuesta_correcta = \"a\"\n",
    "    return opciones, respuesta_correcta\n",
    "\n",
    "def pregunta_2():\n",
    "    print(\"2. ¿Cuál es la integral indefinida de la función f(x) = 4x^3?\")\n",
    "    opciones = [\"a. F(x) = x^4\", \"b. F(x) = 2x^4\", \"c. F(x) = 4x^4\", \"d. F(x) = x^3\"]\n",
    "    respuesta_correcta = \"a\"\n",
    "    return opciones, respuesta_correcta\n",
    "\n",
    "def pregunta_3():\n",
    "    print(\"3. ¿Cuál es la derivada de la función f(x) = sin(x)?\")\n",
    "    opciones = [\"a. f'(x) = cos(x)\", \"b. f'(x) = -sin(x)\", \"c. f'(x) = cos^2(x)\", \"d. f'(x) = 1\"]\n",
    "    respuesta_correcta = \"a\"\n",
    "    return opciones, respuesta_correcta\n",
    "\n",
    "preguntas = [pregunta_1, pregunta_2, pregunta_3]\n",
    "puntuacion_total = 0\n",
    "\n",
    "random.shuffle(preguntas)\n",
    "\n",
    "for indice, pregunta in enumerate(preguntas):\n",
    "    print(f\"Pregunta {indice + 1}:\")\n",
    "    opciones, respuesta_correcta = pregunta()\n",
    "    for opcion in opciones:\n",
    "        print(opcion)\n",
    "    respuesta_usuario = input(\"Selecciona la opción correcta (a, b, c o d): \")\n",
    "    if respuesta_usuario == respuesta_correcta:\n",
    "        puntuacion_total += 1\n",
    "\n",
    "print(f\"Tu puntuación final es: {puntuacion_total}/{len(preguntas)}\")\n"
   ]
  },
  {
   "cell_type": "markdown",
   "id": "e01461ad",
   "metadata": {
    "slideshow": {
     "slide_type": "slide"
    }
   },
   "source": []
  },
  {
   "cell_type": "markdown",
   "id": "981c618a",
   "metadata": {
    "slideshow": {
     "slide_type": "slide"
    }
   },
   "source": [
    "# Ejemplo de parcial"
   ]
  },
  {
   "cell_type": "markdown",
   "id": "c641f979",
   "metadata": {
    "slideshow": {
     "slide_type": "slide"
    }
   },
   "source": [
    "Dada la integral\n",
    "\n",
    "$$ \\int_{-2}^{3} (x^{2} - 4x + 3)\\ dx  $$"
   ]
  },
  {
   "cell_type": "markdown",
   "id": "424c5561",
   "metadata": {},
   "source": [
    "1. ($20\\% $) Resuelva la integral mediante sumas de Riemann"
   ]
  },
  {
   "cell_type": "markdown",
   "id": "37b149b8",
   "metadata": {},
   "source": [
    "Traigamos primero la función que dibuja el área bajo la curva representada por la integral definida dada. "
   ]
  },
  {
   "cell_type": "code",
   "execution_count": 4,
   "id": "2b6ce4dd",
   "metadata": {},
   "outputs": [
    {
     "data": {
      "image/png": "[encoded data removed]",
      "text/plain": [
       "<Figure size 1300x500 with 1 Axes>"
      ]
     },
     "metadata": {},
     "output_type": "display_data"
    }
   ],
   "source": [
    "def dibujar_area_bajo_la_curva():\n",
    "    import matplotlib.pyplot as plt\n",
    "    plt.figure(figsize = (13,5))\n",
    "    plt.title('Región representada por la integral')\n",
    "\n",
    "    return \n",
    "\n",
    "dibujar_area_bajo_la_curva()"
   ]
  },
  {
   "cell_type": "markdown",
   "id": "d3767a77",
   "metadata": {},
   "source": [
    "### [Video de apoyo]()"
   ]
  },
  {
   "cell_type": "code",
   "execution_count": null,
   "id": "384af1d4",
   "metadata": {},
   "outputs": [],
   "source": []
  },
  {
   "cell_type": "code",
   "execution_count": null,
   "id": "3fc8d3df",
   "metadata": {
    "slideshow": {
     "slide_type": "slide"
    }
   },
   "outputs": [],
   "source": []
  },
  {
   "cell_type": "code",
   "execution_count": null,
   "id": "3b788bca",
   "metadata": {
    "slideshow": {
     "slide_type": "slide"
    }
   },
   "outputs": [],
   "source": []
  },
  {
   "cell_type": "markdown",
   "id": "63d19f42",
   "metadata": {
    "slideshow": {
     "slide_type": "slide"
    }
   },
   "source": [
    "# Programa en Python para ingresar registro de las calificaciones en archivo excel"
   ]
  },
  {
   "cell_type": "markdown",
   "id": "e6ff3c98",
   "metadata": {
    "slideshow": {
     "slide_type": "slide"
    }
   },
   "source": [
    "# Desarrollo creciente del programa para gestión de notas\n",
    "\n"
   ]
  },
  {
   "cell_type": "code",
   "execution_count": 1,
   "id": "df0cd30a",
   "metadata": {
    "slideshow": {
     "slide_type": "slide"
    }
   },
   "outputs": [
    {
     "name": "stdout",
     "output_type": "stream",
     "text": [
      "Juan\n",
      "María\n",
      "Pedro\n",
      "Ana\n"
     ]
    }
   ],
   "source": [
    "import pandas as pd\n",
    "\n",
    "# Crear DataFrame de ejemplo\n",
    "data = {'Nombre': ['Juan', 'María', 'Pedro', 'Ana']}\n",
    "df = pd.DataFrame(data)\n",
    "\n",
    "# Iterar sobre cada fila del DataFrame\n",
    "for index, row in df.iterrows():\n",
    "    nombre = row['Nombre']\n",
    "    print(nombre)"
   ]
  },
  {
   "cell_type": "code",
   "execution_count": 9,
   "id": "b9c187ed",
   "metadata": {},
   "outputs": [
    {
     "ename": "FileNotFoundError",
     "evalue": "[Errno 2] No such file or directory: 'ruta/del/archivo.xlsx'",
     "output_type": "error",
     "traceback": [
      "\u001b[1;31m---------------------------------------------------------------------------\u001b[0m",
      "\u001b[1;31mFileNotFoundError\u001b[0m                         Traceback (most recent call last)",
      "\u001b[1;32m~\\AppData\\Local\\Temp\\ipykernel_3996\\4043350476.py\u001b[0m in \u001b[0;36m<module>\u001b[1;34m\u001b[0m\n\u001b[0;32m      6\u001b[0m \u001b[1;33m\u001b[0m\u001b[0m\n\u001b[0;32m      7\u001b[0m \u001b[1;31m# Leer el archivo .xlsx y crear un DataFrame\u001b[0m\u001b[1;33m\u001b[0m\u001b[1;33m\u001b[0m\u001b[0m\n\u001b[1;32m----> 8\u001b[1;33m \u001b[0mdataframe\u001b[0m \u001b[1;33m=\u001b[0m \u001b[0mpd\u001b[0m\u001b[1;33m.\u001b[0m\u001b[0mread_excel\u001b[0m\u001b[1;33m(\u001b[0m\u001b[0marchivo_excel\u001b[0m\u001b[1;33m)\u001b[0m\u001b[1;33m\u001b[0m\u001b[1;33m\u001b[0m\u001b[0m\n\u001b[0m\u001b[0;32m      9\u001b[0m \u001b[1;33m\u001b[0m\u001b[0m\n\u001b[0;32m     10\u001b[0m \u001b[1;31m# Imprimir el DataFrame\u001b[0m\u001b[1;33m\u001b[0m\u001b[1;33m\u001b[0m\u001b[0m\n",
      "\u001b[1;32m~\\anaconda3\\lib\\site-packages\\pandas\\util\\_decorators.py\u001b[0m in \u001b[0;36mwrapper\u001b[1;34m(*args, **kwargs)\u001b[0m\n\u001b[0;32m    309\u001b[0m                     \u001b[0mstacklevel\u001b[0m\u001b[1;33m=\u001b[0m\u001b[0mstacklevel\u001b[0m\u001b[1;33m,\u001b[0m\u001b[1;33m\u001b[0m\u001b[1;33m\u001b[0m\u001b[0m\n\u001b[0;32m    310\u001b[0m                 )\n\u001b[1;32m--> 311\u001b[1;33m             \u001b[1;32mreturn\u001b[0m \u001b[0mfunc\u001b[0m\u001b[1;33m(\u001b[0m\u001b[1;33m*\u001b[0m\u001b[0margs\u001b[0m\u001b[1;33m,\u001b[0m \u001b[1;33m**\u001b[0m\u001b[0mkwargs\u001b[0m\u001b[1;33m)\u001b[0m\u001b[1;33m\u001b[0m\u001b[1;33m\u001b[0m\u001b[0m\n\u001b[0m\u001b[0;32m    312\u001b[0m \u001b[1;33m\u001b[0m\u001b[0m\n\u001b[0;32m    313\u001b[0m         \u001b[1;32mreturn\u001b[0m \u001b[0mwrapper\u001b[0m\u001b[1;33m\u001b[0m\u001b[1;33m\u001b[0m\u001b[0m\n",
      "\u001b[1;32m~\\anaconda3\\lib\\site-packages\\pandas\\io\\excel\\_base.py\u001b[0m in \u001b[0;36mread_excel\u001b[1;34m(io, sheet_name, header, names, index_col, usecols, squeeze, dtype, engine, converters, true_values, false_values, skiprows, nrows, na_values, keep_default_na, na_filter, verbose, parse_dates, date_parser, thousands, decimal, comment, skipfooter, convert_float, mangle_dupe_cols, storage_options)\u001b[0m\n\u001b[0;32m    455\u001b[0m     \u001b[1;32mif\u001b[0m \u001b[1;32mnot\u001b[0m \u001b[0misinstance\u001b[0m\u001b[1;33m(\u001b[0m\u001b[0mio\u001b[0m\u001b[1;33m,\u001b[0m \u001b[0mExcelFile\u001b[0m\u001b[1;33m)\u001b[0m\u001b[1;33m:\u001b[0m\u001b[1;33m\u001b[0m\u001b[1;33m\u001b[0m\u001b[0m\n\u001b[0;32m    456\u001b[0m         \u001b[0mshould_close\u001b[0m \u001b[1;33m=\u001b[0m \u001b[1;32mTrue\u001b[0m\u001b[1;33m\u001b[0m\u001b[1;33m\u001b[0m\u001b[0m\n\u001b[1;32m--> 457\u001b[1;33m         \u001b[0mio\u001b[0m \u001b[1;33m=\u001b[0m \u001b[0mExcelFile\u001b[0m\u001b[1;33m(\u001b[0m\u001b[0mio\u001b[0m\u001b[1;33m,\u001b[0m \u001b[0mstorage_options\u001b[0m\u001b[1;33m=\u001b[0m\u001b[0mstorage_options\u001b[0m\u001b[1;33m,\u001b[0m \u001b[0mengine\u001b[0m\u001b[1;33m=\u001b[0m\u001b[0mengine\u001b[0m\u001b[1;33m)\u001b[0m\u001b[1;33m\u001b[0m\u001b[1;33m\u001b[0m\u001b[0m\n\u001b[0m\u001b[0;32m    458\u001b[0m     \u001b[1;32melif\u001b[0m \u001b[0mengine\u001b[0m \u001b[1;32mand\u001b[0m \u001b[0mengine\u001b[0m \u001b[1;33m!=\u001b[0m \u001b[0mio\u001b[0m\u001b[1;33m.\u001b[0m\u001b[0mengine\u001b[0m\u001b[1;33m:\u001b[0m\u001b[1;33m\u001b[0m\u001b[1;33m\u001b[0m\u001b[0m\n\u001b[0;32m    459\u001b[0m         raise ValueError(\n",
      "\u001b[1;32m~\\anaconda3\\lib\\site-packages\\pandas\\io\\excel\\_base.py\u001b[0m in \u001b[0;36m__init__\u001b[1;34m(self, path_or_buffer, engine, storage_options)\u001b[0m\n\u001b[0;32m   1374\u001b[0m                 \u001b[0mext\u001b[0m \u001b[1;33m=\u001b[0m \u001b[1;34m\"xls\"\u001b[0m\u001b[1;33m\u001b[0m\u001b[1;33m\u001b[0m\u001b[0m\n\u001b[0;32m   1375\u001b[0m             \u001b[1;32melse\u001b[0m\u001b[1;33m:\u001b[0m\u001b[1;33m\u001b[0m\u001b[1;33m\u001b[0m\u001b[0m\n\u001b[1;32m-> 1376\u001b[1;33m                 ext = inspect_excel_format(\n\u001b[0m\u001b[0;32m   1377\u001b[0m                     \u001b[0mcontent_or_path\u001b[0m\u001b[1;33m=\u001b[0m\u001b[0mpath_or_buffer\u001b[0m\u001b[1;33m,\u001b[0m \u001b[0mstorage_options\u001b[0m\u001b[1;33m=\u001b[0m\u001b[0mstorage_options\u001b[0m\u001b[1;33m\u001b[0m\u001b[1;33m\u001b[0m\u001b[0m\n\u001b[0;32m   1378\u001b[0m                 )\n",
      "\u001b[1;32m~\\anaconda3\\lib\\site-packages\\pandas\\io\\excel\\_base.py\u001b[0m in \u001b[0;36minspect_excel_format\u001b[1;34m(content_or_path, storage_options)\u001b[0m\n\u001b[0;32m   1248\u001b[0m         \u001b[0mcontent_or_path\u001b[0m \u001b[1;33m=\u001b[0m \u001b[0mBytesIO\u001b[0m\u001b[1;33m(\u001b[0m\u001b[0mcontent_or_path\u001b[0m\u001b[1;33m)\u001b[0m\u001b[1;33m\u001b[0m\u001b[1;33m\u001b[0m\u001b[0m\n\u001b[0;32m   1249\u001b[0m \u001b[1;33m\u001b[0m\u001b[0m\n\u001b[1;32m-> 1250\u001b[1;33m     with get_handle(\n\u001b[0m\u001b[0;32m   1251\u001b[0m         \u001b[0mcontent_or_path\u001b[0m\u001b[1;33m,\u001b[0m \u001b[1;34m\"rb\"\u001b[0m\u001b[1;33m,\u001b[0m \u001b[0mstorage_options\u001b[0m\u001b[1;33m=\u001b[0m\u001b[0mstorage_options\u001b[0m\u001b[1;33m,\u001b[0m \u001b[0mis_text\u001b[0m\u001b[1;33m=\u001b[0m\u001b[1;32mFalse\u001b[0m\u001b[1;33m\u001b[0m\u001b[1;33m\u001b[0m\u001b[0m\n\u001b[0;32m   1252\u001b[0m     ) as handle:\n",
      "\u001b[1;32m~\\anaconda3\\lib\\site-packages\\pandas\\io\\common.py\u001b[0m in \u001b[0;36mget_handle\u001b[1;34m(path_or_buf, mode, encoding, compression, memory_map, is_text, errors, storage_options)\u001b[0m\n\u001b[0;32m    793\u001b[0m         \u001b[1;32melse\u001b[0m\u001b[1;33m:\u001b[0m\u001b[1;33m\u001b[0m\u001b[1;33m\u001b[0m\u001b[0m\n\u001b[0;32m    794\u001b[0m             \u001b[1;31m# Binary mode\u001b[0m\u001b[1;33m\u001b[0m\u001b[1;33m\u001b[0m\u001b[0m\n\u001b[1;32m--> 795\u001b[1;33m             \u001b[0mhandle\u001b[0m \u001b[1;33m=\u001b[0m \u001b[0mopen\u001b[0m\u001b[1;33m(\u001b[0m\u001b[0mhandle\u001b[0m\u001b[1;33m,\u001b[0m \u001b[0mioargs\u001b[0m\u001b[1;33m.\u001b[0m\u001b[0mmode\u001b[0m\u001b[1;33m)\u001b[0m\u001b[1;33m\u001b[0m\u001b[1;33m\u001b[0m\u001b[0m\n\u001b[0m\u001b[0;32m    796\u001b[0m         \u001b[0mhandles\u001b[0m\u001b[1;33m.\u001b[0m\u001b[0mappend\u001b[0m\u001b[1;33m(\u001b[0m\u001b[0mhandle\u001b[0m\u001b[1;33m)\u001b[0m\u001b[1;33m\u001b[0m\u001b[1;33m\u001b[0m\u001b[0m\n\u001b[0;32m    797\u001b[0m \u001b[1;33m\u001b[0m\u001b[0m\n",
      "\u001b[1;31mFileNotFoundError\u001b[0m: [Errno 2] No such file or directory: 'ruta/del/archivo.xlsx'"
     ]
    }
   ],
   "source": [
    "# Desarrollo creciente del programa para gestión de notas\n",
    "import pandas as pd\n",
    "\n",
    "# Ruta del archivo .xlsx\n",
    "archivo_excel = 'ruta/del/archivo.xlsx'\n",
    "\n",
    "# Leer el archivo .xlsx y crear un DataFrame\n",
    "dataframe = pd.read_excel(archivo_excel)\n",
    "\n",
    "# Imprimir el DataFrame\n",
    "print(dataframe)\n"
   ]
  },
  {
   "cell_type": "code",
   "execution_count": 3,
   "id": "6f027710",
   "metadata": {
    "slideshow": {
     "slide_type": "slide"
    }
   },
   "outputs": [
    {
     "name": "stdout",
     "output_type": "stream",
     "text": [
      "Promedio general de todos los estudiantes: 4.033333333333333\n",
      "Promedio de Juan: 4.033333333333333\n"
     ]
    }
   ],
   "source": [
    "import pandas as pd \n",
    "\n",
    "\n",
    "class Estudiante:\n",
    "    def __init__(self, nombre, notas):\n",
    "        self.nombre = nombre\n",
    "        self.notas = notas\n",
    "\n",
    "    def promedio(self):\n",
    "        return sum(self.notas) / len(self.notas)\n",
    "\n",
    "class GestorEstudiantes:\n",
    "    def __init__(self):\n",
    "        self.estudiantes = []\n",
    "\n",
    "    def agregar_estudiante(self, estudiante):\n",
    "        self.estudiantes.append(estudiante)\n",
    "\n",
    "    def obtener_promedio_general(self):\n",
    "        promedios = [estudiante.promedio() for estudiante in self.estudiantes]\n",
    "        return sum(promedios) / len(promedios)\n",
    "\n",
    "    def obtener_promedio_estudiante(self, nombre):\n",
    "        for estudiante in self.estudiantes:\n",
    "            if estudiante.nombre == nombre:\n",
    "                return estudiante.promedio()\n",
    "        return None\n",
    "\n",
    "# Crear el gestor de estudiantes\n",
    "gestor = GestorEstudiantes()\n",
    "\n",
    "# Agregar estudiantes\n",
    "estudiante1 = Estudiante(\"Juan\", [4, 4.2, 3.9])\n",
    "estudiante2 = Estudiante(\"María\", [4, 4.2, 3.9])\n",
    "estudiante3 = Estudiante(\"Pedro\", [4, 4.2, 3.9])\n",
    "gestor.agregar_estudiante(estudiante1)\n",
    "gestor.agregar_estudiante(estudiante2)\n",
    "gestor.agregar_estudiante(estudiante3)\n",
    "\n",
    "# Obtener promedio general\n",
    "promedio_general = gestor.obtener_promedio_general()\n",
    "print(\"Promedio general de todos los estudiantes:\", promedio_general)\n",
    "\n",
    "# Obtener promedio de un estudiante específico\n",
    "nombre_estudiante = \"Juan\"\n",
    "promedio_estudiante = gestor.obtener_promedio_estudiante(nombre_estudiante)\n",
    "if promedio_estudiante is not None:\n",
    "    print(\"Promedio de\", nombre_estudiante + \":\", promedio_estudiante)\n",
    "else:\n",
    "    print(\"No se encontró al estudiante\", nombre_estudiante)\n"
   ]
  },
  {
   "cell_type": "markdown",
   "id": "bf8d11a1",
   "metadata": {
    "slideshow": {
     "slide_type": "slide"
    }
   },
   "source": [
    "## Mapa conceptual de la clase elaborado en CMapTools"
   ]
  },
  {
   "cell_type": "markdown",
   "id": "aac04d00",
   "metadata": {
    "slideshow": {
     "slide_type": "slide"
    }
   },
   "source": [
    "<img src = ''>"
   ]
  },
  {
   "cell_type": "markdown",
   "id": "8a6f7ef9",
   "metadata": {
    "slideshow": {
     "slide_type": "slide"
    }
   },
   "source": [
    "## Tareas para realizar antes de la clase"
   ]
  },
  {
   "cell_type": "markdown",
   "id": "90cae469",
   "metadata": {
    "slideshow": {
     "slide_type": "slide"
    }
   },
   "source": [
    "1. Ver los videos respectivos []()\n",
    "2. Memorizar las definiciones []()\n",
    "3. Sintetizar o resumir la información en mapas conceptuales. []()"
   ]
  },
  {
   "cell_type": "markdown",
   "id": "fccb447c",
   "metadata": {
    "slideshow": {
     "slide_type": "slide"
    }
   },
   "source": [
    "# Tareas para realizar en clase"
   ]
  },
  {
   "cell_type": "markdown",
   "id": "e5c48edf",
   "metadata": {
    "slideshow": {
     "slide_type": "slide"
    }
   },
   "source": [
    "* Modelación matemática \n",
    "* Trabajo en equipos"
   ]
  },
  {
   "cell_type": "markdown",
   "id": "8b6b0112",
   "metadata": {
    "slideshow": {
     "slide_type": "slide"
    }
   },
   "source": [
    "# Tareas para realizar después de la realización de la clase"
   ]
  },
  {
   "cell_type": "markdown",
   "id": "947460e3",
   "metadata": {
    "slideshow": {
     "slide_type": "slide"
    }
   },
   "source": [
    "* Actividades de memorización: \n",
    "  - escucha reiterada de grabaciones de formulas y resultados científicos. \n",
    "  - relectura de notas. \n",
    "  - ejercicios de mayor complejidad. \n",
    "  "
   ]
  },
  {
   "cell_type": "markdown",
   "id": "935a5567",
   "metadata": {
    "slideshow": {
     "slide_type": "slide"
    }
   },
   "source": [
    "## Dificultades de aprendizaje detectados durante la clase"
   ]
  },
  {
   "cell_type": "code",
   "execution_count": null,
   "id": "7d9c6c7f",
   "metadata": {
    "slideshow": {
     "slide_type": "slide"
    }
   },
   "outputs": [],
   "source": []
  },
  {
   "cell_type": "markdown",
   "id": "fb9402bb",
   "metadata": {
    "slideshow": {
     "slide_type": "slide"
    }
   },
   "source": [
    "## Estrategias propuestas para la solución de las dificultades de aprendizaje detectadas"
   ]
  },
  {
   "cell_type": "markdown",
   "id": "2dd3bd5c",
   "metadata": {
    "slideshow": {
     "slide_type": "slide"
    }
   },
   "source": []
  },
  {
   "cell_type": "markdown",
   "id": "d11570a2",
   "metadata": {
    "slideshow": {
     "slide_type": "slide"
    }
   },
   "source": [
    "## Cuestionario para realizar labores de memorización y observación,  a la síntesis de la información"
   ]
  },
  {
   "cell_type": "markdown",
   "id": "540f0ec1",
   "metadata": {
    "slideshow": {
     "slide_type": "slide"
    }
   },
   "source": []
  },
  {
   "cell_type": "markdown",
   "id": "236b43fc",
   "metadata": {
    "slideshow": {
     "slide_type": "slide"
    }
   },
   "source": [
    "## Grabaciones en audio para fomentar la capacidad de memorizar enunciados de teoremas y resultados científicos y la capacidad de parafrasear estos resultados. "
   ]
  },
  {
   "cell_type": "markdown",
   "id": "319f2ffa",
   "metadata": {
    "slideshow": {
     "slide_type": "slide"
    }
   },
   "source": [
    "Se dispondrá de un lugar en el drive asociuado al correo institucional de la Universidad Nacional del Profesor Marso para albergar los archivosd de audio de fomento a la memoirización, enunciación y parafraseo de los resultados científicos, prtopiedades, reglas, etc. \n",
    "\n",
    "* Vocaroo"
   ]
  },
  {
   "cell_type": "markdown",
   "id": "564fa59d",
   "metadata": {
    "slideshow": {
     "slide_type": "slide"
    }
   },
   "source": [
    "### Comparta sus cuadernos y videos, evidencias de su aprendizaje [aquí](https://forms.office.com/Pages/ResponsePage.aspx?id=IefhmYRxjkmK_7KtTlPBwkanXIs1i1FEujpsZgO6dXpUMEMwTEZVMzEwVVBPTElWNVg5OVEyWUhMUy4u)"
   ]
  },
  {
   "cell_type": "code",
   "execution_count": null,
   "id": "5fe498b3",
   "metadata": {
    "slideshow": {
     "slide_type": "slide"
    }
   },
   "outputs": [],
   "source": []
  },
  {
   "cell_type": "markdown",
   "id": "44be6d93",
   "metadata": {
    "slideshow": {
     "slide_type": "slide"
    }
   },
   "source": [
    "# Vocabulary "
   ]
  },
  {
   "cell_type": "code",
   "execution_count": null,
   "id": "99b8dfed",
   "metadata": {
    "slideshow": {
     "slide_type": "slide"
    }
   },
   "outputs": [],
   "source": []
  },
  {
   "cell_type": "markdown",
   "id": "ee46cb9a",
   "metadata": {
    "slideshow": {
     "slide_type": "slide"
    }
   },
   "source": [
    "## Mapa conceptual que vincula los conceptos asoaciados al objetivo de aprendizaje"
   ]
  },
  {
   "cell_type": "code",
   "execution_count": null,
   "id": "bf552488",
   "metadata": {
    "slideshow": {
     "slide_type": "slide"
    }
   },
   "outputs": [],
   "source": []
  },
  {
   "cell_type": "markdown",
   "id": "0266e3c5",
   "metadata": {
    "slideshow": {
     "slide_type": "slide"
    }
   },
   "source": [
    "## Quiz de 5 minutos para ejercitación y adquisición de habilidades "
   ]
  },
  {
   "cell_type": "markdown",
   "id": "3a1b127f",
   "metadata": {
    "slideshow": {
     "slide_type": "slide"
    }
   },
   "source": []
  },
  {
   "cell_type": "markdown",
   "id": "c6236d5d",
   "metadata": {},
   "source": [
    "# DOFA del grupo y dell profesor\n",
    "* D:\n",
    "* O:\n",
    "* F:\n",
    "* A: "
   ]
  },
  {
   "cell_type": "markdown",
   "id": "b48f9542",
   "metadata": {},
   "source": [
    "## ¿Cómo se sintió en este espacio de enseñanza y aprendizaje?\n",
    "\n",
    "!Dios te bendiga¡"
   ]
  },
  {
   "cell_type": "markdown",
   "id": "10bce0d0",
   "metadata": {
    "slideshow": {
     "slide_type": "slide"
    }
   },
   "source": [
    "## Referentes "
   ]
  },
  {
   "cell_type": "markdown",
   "id": "1db3c468",
   "metadata": {
    "slideshow": {
     "slide_type": "slide"
    }
   },
   "source": [
    "* [stewart precálculo](https://udeaeduco-my.sharepoint.com/:b:/g/personal/marco_canas_udea_edu_co/ERHIq62I6qFNrmxy6LZb8ZMBci7kUsyNME1nIh9yCBMJ_w?e=0zMSla)  \n",
    "\n",
    "* [stewart cálculo](https://udeaeduco-my.sharepoint.com/:b:/g/personal/marco_canas_udea_edu_co/EZgXZjAp8QxPqOAim2hs6LcBNPLGjSHf-xwYnUVYkwa04w?e=RZdTCy)  \n",
    "\n",
    "* [larson](https://udeaeduco-my.sharepoint.com/:b:/g/personal/marco_canas_udea_edu_co/ES71ChFeO9ZDhW3TwC5Ijk8BjxUK3Pdqz_fjHxTTFAfIAg?e=VDEjfu)\n",
    "\n",
    "* [uzcategui](https://udeaeduco-my.sharepoint.com/:b:/g/personal/marco_canas_udea_edu_co/ETDikm-lVl1Or8XoEo9oyh0BEti9Zs8le-f0D-dBdtZmbA?e=bBsoyQ)\n",
    "\n",
    "* [Recomendación de la UNESCO sobre ciencia abierta](https://unesdoc.unesco.org/ark:/48223/pf0000379949_spa)  \n",
    "\n",
    "* [chatGPT](https://openai.com/blog/chatgpt)  \n",
    "\n",
    "* Géron, A. (2017). Hands-on machine learning with scikit-learn and tensorflow: Concepts. Tools, and Techniques to build intelligent systems.[Geron, Aurelien. Hands on Machine Learning](https://udeaeduco-my.sharepoint.com/:b:/g/personal/marco_canas_udea_edu_co/Ecet27yjQzZIlT1Y_Bc2erkBUhbeYuIe6HG8i1FYZRlZww?e=dlvZ4v)  \n",
    "\n",
    "* McKinney, W. (2012). Python for data analysis: Data wrangling with Pandas, NumPy, and IPython. \" O'Reilly Media, Inc.\".[Wes Mackinney. ](https://udeaeduco-my.sharepoint.com/:b:/g/personal/marco_canas_udea_edu_co/EVbi5JIeBl9ErbiUnZfGe8YBhNTnZ8sxTK5hjIOPK4UpGw?e=fFclah)"
   ]
  },
  {
   "cell_type": "markdown",
   "id": "6b9e56a8",
   "metadata": {
    "slideshow": {
     "slide_type": "slide"
    }
   },
   "source": [
    "### [Evaluamos al profesor Marco Cañas Aquí](https://forms.office.com/Pages/ResponsePage.aspx?id=IefhmYRxjkmK_7KtTlPBwkanXIs1i1FEujpsZgO6dXpUREJPV1kxUk1JV1ozTFJIQVNIQjY5WEY3US4u)"
   ]
  },
  {
   "cell_type": "markdown",
   "id": "071afa04",
   "metadata": {
    "slideshow": {
     "slide_type": "slide"
    }
   },
   "source": [
    "## [Evaluación luego de alcanzar estos objetivos de aprendizaje]()"
   ]
  },
  {
   "cell_type": "markdown",
   "id": "10f43536",
   "metadata": {
    "slideshow": {
     "slide_type": "slide"
    }
   },
   "source": [
    "### Continue su aprendizaje en la siguiente clase a través del siguiente [vínculo]()"
   ]
  },
  {
   "cell_type": "markdown",
   "id": "af751e30",
   "metadata": {
    "slideshow": {
     "slide_type": "slide"
    }
   },
   "source": [
    "# Conjeturas pedagógicas fruto de la aplicación del modelo de aprendizaje invertido y del enfoque hacia la ciencia de datos con python\n",
    "\n",
    "1. Todo cálculo o resultado debe ser interpretado en una línea markdown del cuaderno Jupyter, inmediatamente después de la enunciación del resultado y después de la presentación de una tabla o gráfico bidimensional, de tal menera que el estudiante explicite la comprensión verbal del resultado y las inferencias o estrategias que este resultado le sugieren.   "
   ]
  }
 ],
 "metadata": {
  "celltoolbar": "Slideshow",
  "kernelspec": {
   "display_name": "Python 3 (ipykernel)",
   "language": "python",
   "name": "python3"
  },
  "language_info": {
   "codemirror_mode": {
    "name": "ipython",
    "version": 3
   },
   "file_extension": ".py",
   "mimetype": "text/x-python",
   "name": "python",
   "nbconvert_exporter": "python",
   "pygments_lexer": "ipython3",
   "version": "3.10.13"
  },
  "rise": {
   "enable_chalkboard": true,
   "theme": "sky",
   "transition": "zoom"
  }
 },
 "nbformat": 4,
 "nbformat_minor": 5
}
