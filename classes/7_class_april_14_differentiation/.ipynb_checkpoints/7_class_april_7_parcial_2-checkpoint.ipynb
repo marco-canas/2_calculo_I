{
 "cells": [
  {
   "cell_type": "markdown",
   "id": "7e1bd9b3",
   "metadata": {
    "slideshow": {
     "slide_type": "slide"
    }
   },
   "source": [
    "<table align=\"left\">\n",
    "  <td>\n",
    "    <a href=\"https://colab.research.google.com/github/marco-canas/2_calculo_I/blob/main/classes/7_class_april_14_differentiation/7_class_april_7_parcial_2.ipynb?authuser=1\" target=\"_parent\"><img src=\"https://colab.research.google.com/assets/colab-badge.svg\" alt=\"Open In Colab\"/></a>\n",
    "  </td>\n",
    "</table>"
   ]
  },
  {
   "cell_type": "markdown",
   "id": "0f6c74d8",
   "metadata": {
    "slideshow": {
     "slide_type": "slide"
    }
   },
   "source": [
    "## [Video de apoyo a la lectura interactiva y experimental de este cuaderno](https://www.youtube.com/watch?v=2n4ENaqnw4A)"
   ]
  },
  {
   "cell_type": "markdown",
   "id": "516c1f84",
   "metadata": {
    "slideshow": {
     "slide_type": "slide"
    }
   },
   "source": [
    "Mis estudiantes son la razón de mi actividad docente:\n",
    "\n",
    "<img src = 'https://github.com/marco-canas/2_calculo_I/blob/main/classes/7_class_april_14_differentiation/IMG-20221102-WA0046.jpeg?raw=true'>"
   ]
  },
  {
   "cell_type": "markdown",
   "id": "20b24d19",
   "metadata": {
    "slideshow": {
     "slide_type": "slide"
    }
   },
   "source": [
    "# Class 7 April 14 "
   ]
  },
  {
   "cell_type": "markdown",
   "id": "253babac",
   "metadata": {
    "slideshow": {
     "slide_type": "slide"
    }
   },
   "source": [
    "### Modelo pedagógico de la clase: [Aula invertida](https://www3.gobiernodecanarias.org/medusa/ecoescuela/pedagotic/aprendizaje-invertido-flipped-classroom/)  \n",
    "\n",
    "#### ¿Para qué sirve?\n",
    "\n",
    "Mejora el proceso de enseñanza-aprendizaje realizando,   \n",
    "\n",
    "* fuera del aula, actividades de aprendizaje sencillas (observar, memorizar, resumir, etc.) y, \n",
    "* en el aula, actividades más complejas (razonar, examinar, experimentar, priorizar, argumentar, proponer, etc.) que requieren la interacción entre iguales y la ayuda del docente como facilitador."
   ]
  },
  {
   "cell_type": "markdown",
   "id": "72013bf1",
   "metadata": {
    "slideshow": {
     "slide_type": "slide"
    }
   },
   "source": [
    "### Objetivo de aprendizaje  \n",
    "\n",
    "1. Comprender que la derivada de una función es una función que describe la velocidad o tasa de cambio instantánea en cada punto  del dominio de $f$ donde esta es derivable. "
   ]
  },
  {
   "cell_type": "markdown",
   "id": "19122364",
   "metadata": {
    "slideshow": {
     "slide_type": "slide"
    }
   },
   "source": [
    "Página 112 del [purcell]([Cálculo purcell](https://udeaeduco-my.sharepoint.com/:b:/g/personal/marco_canas_udea_edu_co/ES60UB4h-QFFqqRQUFmkpWcBIgoLBJeqTfZjNajWNWSeJA?e=SO4M1M))  \n",
    "\n",
    "\n",
    "# Sección 2.1 Dos problemas con el mismo tema  "
   ]
  },
  {
   "cell_type": "markdown",
   "id": "331622ec",
   "metadata": {
    "slideshow": {
     "slide_type": "slide"
    }
   },
   "source": [
    "Nuestro primer problema es muy antiguo; se remonta a la época del gran científico griego Arquímedes (287-212 A. C.). "
   ]
  },
  {
   "cell_type": "markdown",
   "id": "90207137",
   "metadata": {
    "slideshow": {
     "slide_type": "slide"
    }
   },
   "source": [
    "Nos referimos al problema de la pendiente de la recta tangente. "
   ]
  },
  {
   "cell_type": "markdown",
   "id": "f6460928",
   "metadata": {
    "slideshow": {
     "slide_type": "slide"
    }
   },
   "source": [
    "Nuestro segundo problema es más reciente. Surgió con los intentos de Kepler (1571-1630), Galileo (1564-1642), Newton (1642-1727) y otros para describir la velocidad de un cuerpo en movimiento. "
   ]
  },
  {
   "cell_type": "markdown",
   "id": "46c40a7b",
   "metadata": {
    "slideshow": {
     "slide_type": "slide"
    }
   },
   "source": [
    "Es el problema de la velocidad instantánea."
   ]
  },
  {
   "cell_type": "markdown",
   "id": "a79acd9c",
   "metadata": {
    "slideshow": {
     "slide_type": "slide"
    }
   },
   "source": [
    "Los dos problemas, uno geométrico y el otro mecánico, parecen no estar muy relacionados. "
   ]
  },
  {
   "cell_type": "markdown",
   "id": "1e5422f8",
   "metadata": {
    "slideshow": {
     "slide_type": "slide"
    }
   },
   "source": [
    "En este caso, las apariencias engañan. Los dos problemas son gemelos idénticos."
   ]
  },
  {
   "cell_type": "markdown",
   "id": "5f1a8373",
   "metadata": {
    "slideshow": {
     "slide_type": "slide"
    }
   },
   "source": [
    "La recta tangente La noción de Euclides de una tangente, como una recta que toca a una curva en un solo punto es totalmente correcta para circunferencias (véase la figura 1); pero completamente insatisfactoria para otras curvas (véase la figura 2). "
   ]
  },
  {
   "cell_type": "markdown",
   "id": "0f0b8cc3",
   "metadata": {
    "slideshow": {
     "slide_type": "slide"
    }
   },
   "source": [
    "La idea de una tangente, en $P$ a una curva como la recta que mejor se aproxima a la curva cerca de $P$ es bastante mejor, pero aún muy vaga para la precisión matemática. "
   ]
  },
  {
   "cell_type": "markdown",
   "id": "ba277082",
   "metadata": {
    "slideshow": {
     "slide_type": "slide"
    }
   },
   "source": [
    "El concepto de límite proporciona una manera de obtener una mejor descripción."
   ]
  },
  {
   "cell_type": "markdown",
   "id": "fc8682c8",
   "metadata": {
    "slideshow": {
     "slide_type": "slide"
    }
   },
   "source": [
    "Sea $P$ un punto en una curva y sea $Q$ un punto móvil cercano a $P$ en esa curva."
   ]
  },
  {
   "cell_type": "markdown",
   "id": "5316e9bb",
   "metadata": {
    "slideshow": {
     "slide_type": "slide"
    }
   },
   "source": [
    "Considere la recta que pasa por P y Q, llamada recta secante. La recta tangente en P es la posición límite (si ésta existe) de la recta secante cuando Q se mueve hacia P a lo largo de la curva (véase la figura 3).\n",
    "Suponga que la curva es la gráfica de la ecuación Entonces, P tiene\n",
    "coordenadas un punto cercano Q tiene coordenadas y la\n",
    "recta secante de P y Q tiene pendiente dada por (véase la figura 4)"
   ]
  },
  {
   "cell_type": "markdown",
   "id": "5b13505d",
   "metadata": {
    "slideshow": {
     "slide_type": "slide"
    }
   },
   "source": [
    "$$ m_{sec} = \\frac{f(c+h) - f(c)}{h} $$"
   ]
  },
  {
   "cell_type": "markdown",
   "id": "fed3a80d",
   "metadata": {
    "slideshow": {
     "slide_type": "slide"
    }
   },
   "source": [
    "# Animación de aproximación de la pendiente de la tangente a través de las pendientes de secantes"
   ]
  },
  {
   "cell_type": "code",
   "execution_count": 13,
   "id": "90434c32",
   "metadata": {
    "slideshow": {
     "slide_type": "slide"
    }
   },
   "outputs": [
    {
     "data": {
      "application/vnd.jupyter.widget-view+json": {
       "model_id": "db7e05c7f10a412aa8d9dabd3505984d",
       "version_major": 2,
       "version_minor": 0
      },
      "text/plain": [
       "interactive(children=(FloatSlider(value=1.0, description='h', max=1.0), Output()), _dom_classes=('widget-inter…"
      ]
     },
     "metadata": {},
     "output_type": "display_data"
    },
    {
     "data": {
      "text/plain": [
       "<function __main__.trazar_secantes_y_tangente(h=1)>"
      ]
     },
     "execution_count": 13,
     "metadata": {},
     "output_type": "execute_result"
    }
   ],
   "source": [
    "import numpy as np \n",
    "import matplotlib.pyplot as plt  \n",
    "\n",
    "from ipywidgets import interact \n",
    "\n",
    "def f(x):\n",
    "    return (x-1)**2+1\n",
    "c = 2\n",
    "punto_tangencia = (c,f(c))\n",
    "def trazar_secantes_y_tangente(h = 1):\n",
    "    dominio_f = np.linspace(-1,5) # dominio de la curva a la que se le busca su pendiente en el punto (c,f(c))\n",
    "    rango_f = f(dominio_f)\n",
    "    plt.plot(dominio_f, rango_f)\n",
    "    plt.scatter([punto_tangencia[0]], [punto_tangencia[1]], color = 'red')  # trazado de punto de tangencia con la función scatter\n",
    "    plt.text(x = c-1, y = f(c)+1, s = r'$(c,f(c))$')\n",
    "    plt.grid(alpha = 0.4)\n",
    "    dominio_secante = [c,5]\n",
    "    \n",
    "interact(trazar_secantes_y_tangente, h = (0,1,0.1))"
   ]
  },
  {
   "cell_type": "markdown",
   "id": "a4b734d6",
   "metadata": {
    "slideshow": {
     "slide_type": "slide"
    }
   },
   "source": [
    "## Interpretaciones de esta animación"
   ]
  },
  {
   "cell_type": "markdown",
   "id": "88436c5e",
   "metadata": {
    "slideshow": {
     "slide_type": "slide"
    }
   },
   "source": [
    "1.  \n",
    "2.  \n",
    "3.  \n",
    "4. \n",
    "5.  \n",
    "6.  \n",
    "7.  "
   ]
  },
  {
   "cell_type": "markdown",
   "id": "0d56707e",
   "metadata": {
    "slideshow": {
     "slide_type": "slide"
    }
   },
   "source": [
    "## Mapa conceptual de la clase"
   ]
  },
  {
   "cell_type": "markdown",
   "id": "f00feaef",
   "metadata": {
    "slideshow": {
     "slide_type": "slide"
    }
   },
   "source": [
    "<img src = 'https://github.com/marco-canas/2_calculo_I/blob/main/classes/7_class_april_14_differentiation/concepto%20de%20derivada%20-%20%C2%BFCu%C3%A1l%20es%20la%20velocidad%20de%20cambio%20en%20un%20punto%20de%20una%20funci%C3%B3n.jpg?raw=true'>"
   ]
  },
  {
   "cell_type": "markdown",
   "id": "97cfd900",
   "metadata": {
    "slideshow": {
     "slide_type": "slide"
    }
   },
   "source": [
    "# Tareas para realizar en clase"
   ]
  },
  {
   "cell_type": "markdown",
   "id": "fa11ce55",
   "metadata": {
    "slideshow": {
     "slide_type": "slide"
    }
   },
   "source": [
    "Ejercicio 119 de la página 117 del  [Cálculo purcell](https://udeaeduco-my.sharepoint.com/:b:/g/personal/marco_canas_udea_edu_co/ES60UB4h-QFFqqRQUFmkpWcBIgoLBJeqTfZjNajWNWSeJA?e=SO4M1M).  \n"
   ]
  },
  {
   "cell_type": "markdown",
   "id": "1d794427",
   "metadata": {
    "slideshow": {
     "slide_type": "slide"
    }
   },
   "source": [
    "# Tareas para realizar fuera de clase"
   ]
  },
  {
   "cell_type": "markdown",
   "id": "0941fb23",
   "metadata": {
    "slideshow": {
     "slide_type": "slide"
    }
   },
   "source": [
    "1. Leer desde la página 112 na 119 del Purcell Sobre la primera sección sobre la derivada de una función. \n",
    "2. Realice una síntesis de del tema anterior. \n",
    "3. Emule los ejemplos que el autor presenta\n",
    "4. Trate de realizar los ejercicios propuestos por el autor en esta sección. (señale los ejercicios en los que encuentre dificultal para ayudarle en clase). \n",
    "marco.canas@udea.edu.co"
   ]
  },
  {
   "cell_type": "markdown",
   "id": "be5e748c",
   "metadata": {
    "slideshow": {
     "slide_type": "slide"
    }
   },
   "source": [
    "## Cuestionario para memorizar"
   ]
  },
  {
   "cell_type": "markdown",
   "id": "bd73de84",
   "metadata": {
    "slideshow": {
     "slide_type": "slide"
    }
   },
   "source": [
    "1. ¿Qué es Velocidad, desde el punto de vista físico?\n",
    "2. ¿Qué es una recta?\n",
    "3. ¿Qué es una recta secante?\n",
    "4. ¿Qué es una recta tangente?\n",
    "5. ¿Qué es pendiente de una recta?"
   ]
  },
  {
   "cell_type": "code",
   "execution_count": null,
   "id": "d2c87b72",
   "metadata": {
    "slideshow": {
     "slide_type": "slide"
    }
   },
   "outputs": [],
   "source": []
  },
  {
   "cell_type": "markdown",
   "id": "4c444ecf",
   "metadata": {
    "slideshow": {
     "slide_type": "slide"
    }
   },
   "source": [
    "# Vocabulary"
   ]
  },
  {
   "cell_type": "markdown",
   "id": "01f0acd4",
   "metadata": {
    "slideshow": {
     "slide_type": "slide"
    }
   },
   "source": [
    "1. size: Tamaño.\n",
    "2. interact: \n",
    "3. space: espacio\n"
   ]
  },
  {
   "cell_type": "markdown",
   "id": "d278c79b",
   "metadata": {
    "slideshow": {
     "slide_type": "slide"
    }
   },
   "source": [
    "## Referentes\n",
    "\n",
    "* [Precálculo de Stewart](https://udeaeduco-my.sharepoint.com/:b:/g/personal/marco_canas_udea_edu_co/ERHIq62I6qFNrmxy6LZb8ZMBci7kUsyNME1nIh9yCBMJ_w?e=cOQjzv)\n",
    "* [Cálculo Stewart](https://udeaeduco-my.sharepoint.com/:b:/g/personal/marco_canas_udea_edu_co/EZgXZjAp8QxPqOAim2hs6LcBNPLGjSHf-xwYnUVYkwa04w?e=k1HOhB)\n",
    "\n",
    "* [Cálculo purcell](https://udeaeduco-my.sharepoint.com/:b:/g/personal/marco_canas_udea_edu_co/ES60UB4h-QFFqqRQUFmkpWcBIgoLBJeqTfZjNajWNWSeJA?e=SO4M1M)"
   ]
  },
  {
   "cell_type": "markdown",
   "id": "896bf645",
   "metadata": {
    "slideshow": {
     "slide_type": "slide"
    }
   },
   "source": [
    "### [Evaluamos al profesor Marco Cañas Aquí](https://forms.office.com/Pages/ResponsePage.aspx?id=IefhmYRxjkmK_7KtTlPBwkanXIs1i1FEujpsZgO6dXpUREJPV1kxUk1JV1ozTFJIQVNIQjY5WEY3US4u)"
   ]
  },
  {
   "cell_type": "markdown",
   "id": "ef4f9f85",
   "metadata": {
    "slideshow": {
     "slide_type": "slide"
    }
   },
   "source": [
    "### Continue su aprendizaje en la siguiente clase a través del siguiente [vínculo](https://github.com/marco-canas/2_calculo_I/blob/main/classes/8_class_april_21_derivada_2/8_class_april_21_derivada_parte_2.ipynb)"
   ]
  },
  {
   "cell_type": "code",
   "execution_count": null,
   "id": "7b6a956e",
   "metadata": {},
   "outputs": [],
   "source": []
  }
 ],
 "metadata": {
  "celltoolbar": "Slideshow",
  "kernelspec": {
   "display_name": "Python 3 (ipykernel)",
   "language": "python",
   "name": "python3"
  },
  "language_info": {
   "codemirror_mode": {
    "name": "ipython",
    "version": 3
   },
   "file_extension": ".py",
   "mimetype": "text/x-python",
   "name": "python",
   "nbconvert_exporter": "python",
   "pygments_lexer": "ipython3",
   "version": "3.9.13"
  },
  "rise": {
   "enable_chalkboard": true,
   "theme": "sky",
   "transition": "zoom"
  }
 },
 "nbformat": 4,
 "nbformat_minor": 5
}
