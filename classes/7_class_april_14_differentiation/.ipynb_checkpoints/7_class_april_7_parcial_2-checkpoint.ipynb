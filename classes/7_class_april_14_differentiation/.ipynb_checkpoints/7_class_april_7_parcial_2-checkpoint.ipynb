{
 "cells": [
  {
   "cell_type": "markdown",
   "id": "7e1bd9b3",
   "metadata": {
    "slideshow": {
     "slide_type": "slide"
    }
   },
   "source": [
    "<table align=\"left\">\n",
    "  <td>\n",
    "    <a href=\"https://colab.research.google.com/github/marco-canas/1_algebra/blob/main/classes/ciencia_datos/6_class_march_15_quiz_1/5_class_march_15.ipynb\" target=\"_parent\"><img src=\"https://colab.research.google.com/assets/colab-badge.svg\" alt=\"Open In Colab\"/></a>\n",
    "  </td>\n",
    "</table>"
   ]
  },
  {
   "cell_type": "markdown",
   "id": "0f6c74d8",
   "metadata": {
    "slideshow": {
     "slide_type": "slide"
    }
   },
   "source": [
    "## [Video de apoyo a la lectura interactiva y experimental de este cuaderno]()"
   ]
  },
  {
   "cell_type": "markdown",
   "id": "516c1f84",
   "metadata": {
    "slideshow": {
     "slide_type": "slide"
    }
   },
   "source": [
    "Mis estudiantes son la razón de mi actividad docente:\n",
    "\n",
    "<img src = ''>"
   ]
  },
  {
   "cell_type": "markdown",
   "id": "20b24d19",
   "metadata": {
    "slideshow": {
     "slide_type": "slide"
    }
   },
   "source": [
    "# Class 7 April 14 "
   ]
  },
  {
   "cell_type": "markdown",
   "id": "253babac",
   "metadata": {
    "slideshow": {
     "slide_type": "slide"
    }
   },
   "source": [
    "### Modelo pedagógico de la clase: [Aula invertida](https://www3.gobiernodecanarias.org/medusa/ecoescuela/pedagotic/aprendizaje-invertido-flipped-classroom/)  \n",
    "\n",
    "#### ¿Para qué sirve?\n",
    "\n",
    "Mejora el proceso de enseñanza-aprendizaje realizando, fuera del aula, actividades de aprendizaje sencillas (observar, memorizar, resumir, etc.) y, en el aula, actividades más complejas (razonar, examinar, priorizar, argumentar, proponer, etc.) que requieren la interacción entre iguales y la ayuda del docente como facilitador."
   ]
  },
  {
   "cell_type": "markdown",
   "id": "72013bf1",
   "metadata": {
    "slideshow": {
     "slide_type": "slide"
    }
   },
   "source": [
    "### Objetivo de aprendizaje  \n",
    "\n",
    "1. Comprender que la derivada de una función es una función que describe la velocidad o tasa de cambio instantánea en cada punto  del dominio de $f$ donde esta es derivable. "
   ]
  },
  {
   "cell_type": "markdown",
   "id": "4afe5b4a",
   "metadata": {
    "slideshow": {
     "slide_type": "slide"
    }
   },
   "source": [
    "Página 112 del purcell  \n",
    "\n",
    "\n",
    "# Sección 2.1 Dos problemas con el mismo tema\n",
    "Nuestro primer problema es muy antiguo; se remonta a la época del gran científico\n",
    "griego Arquímedes (287-212 A. C.). Nos referimos al problema de la pendiente de la recta\n",
    "tangente. Nuestro segundo problema es más reciente. Surgió con los intentos de Kepler\n",
    "(1571-1630), Galileo (1564-1642), Newton (1642-1727) y otros para describir la veloci\u0002dad de un cuerpo en movimiento. Es el problema de la velocidad instantánea.\n",
    "Los dos problemas, uno geométrico y el otro mecánico, parecen no estar muy relacio\u0002nados. En este caso, las apariencias engañan. Los dos problemas son gemelos idénticos.\n",
    "La recta tangente La noción de Euclides de una tangente, como una recta que to\u0002ca a una curva en un solo punto es totalmente correcta para circunferencias (véase la\n",
    "figura 1); pero completamente insatisfactoria para otras curvas (véase la figura 2). La\n",
    "idea de una tangente, en P a una curva como la recta que mejor se aproxima a la curva\n",
    "cerca de P es bastante mejor, pero aún muy vaga para la precisión matemática. El con\u0002cepto de límite proporciona una manera de obtener una mejor descripción.\n",
    "Sea P un punto en una curva y sea Q un punto móvil cercano a P en esa curva.\n",
    "Considere la recta que pasa por P y Q, llamada recta secante. La recta tangente en P es\n",
    "la posición límite (si ésta existe) de la recta secante cuando Q se mueve hacia P a lo lar\u0002go de la curva (véase la figura 3).\n",
    "Suponga que la curva es la gráfica de la ecuación Entonces, P tiene\n",
    "coordenadas un punto cercano Q tiene coordenadas y la\n",
    "recta secante de P y Q tiene pendiente dada por (véase la figura 4)"
   ]
  },
  {
   "cell_type": "markdown",
   "id": "5bc20d8b",
   "metadata": {
    "slideshow": {
     "slide_type": "slide"
    }
   },
   "source": []
  },
  {
   "cell_type": "markdown",
   "id": "eef0dbc9",
   "metadata": {
    "slideshow": {
     "slide_type": "slide"
    }
   },
   "source": [
    "# Animación de aproximación de la pendiente de la tangente a través de las pendientes de secantes"
   ]
  },
  {
   "cell_type": "code",
   "execution_count": 2,
   "id": "c87d05dc",
   "metadata": {
    "slideshow": {
     "slide_type": "slide"
    }
   },
   "outputs": [],
   "source": [
    "import numpy as np \n",
    "from ipywidgets import interact "
   ]
  },
  {
   "cell_type": "code",
   "execution_count": null,
   "id": "70920575",
   "metadata": {},
   "outputs": [],
   "source": []
  },
  {
   "cell_type": "markdown",
   "id": "0d56707e",
   "metadata": {
    "slideshow": {
     "slide_type": "slide"
    }
   },
   "source": [
    "## Mapa conceptual de la clase"
   ]
  },
  {
   "cell_type": "markdown",
   "id": "f00feaef",
   "metadata": {
    "slideshow": {
     "slide_type": "slide"
    }
   },
   "source": []
  },
  {
   "cell_type": "markdown",
   "id": "97cfd900",
   "metadata": {
    "slideshow": {
     "slide_type": "slide"
    }
   },
   "source": [
    "# Tareas para realizar en clase"
   ]
  },
  {
   "cell_type": "code",
   "execution_count": null,
   "id": "4ff3b6d9",
   "metadata": {
    "slideshow": {
     "slide_type": "slide"
    }
   },
   "outputs": [],
   "source": []
  },
  {
   "cell_type": "markdown",
   "id": "1d794427",
   "metadata": {
    "slideshow": {
     "slide_type": "slide"
    }
   },
   "source": [
    "# Tareas para realizar fuera de clase"
   ]
  },
  {
   "cell_type": "code",
   "execution_count": null,
   "id": "a848365d",
   "metadata": {
    "slideshow": {
     "slide_type": "slide"
    }
   },
   "outputs": [],
   "source": []
  },
  {
   "cell_type": "markdown",
   "id": "be5e748c",
   "metadata": {
    "slideshow": {
     "slide_type": "slide"
    }
   },
   "source": [
    "## Cuestionario para memorizar"
   ]
  },
  {
   "cell_type": "markdown",
   "id": "bd73de84",
   "metadata": {
    "slideshow": {
     "slide_type": "slide"
    }
   },
   "source": [
    "1."
   ]
  },
  {
   "cell_type": "code",
   "execution_count": null,
   "id": "d2c87b72",
   "metadata": {
    "slideshow": {
     "slide_type": "slide"
    }
   },
   "outputs": [],
   "source": []
  },
  {
   "cell_type": "markdown",
   "id": "4c444ecf",
   "metadata": {
    "slideshow": {
     "slide_type": "slide"
    }
   },
   "source": [
    "# Vocabulary"
   ]
  },
  {
   "cell_type": "markdown",
   "id": "90865176",
   "metadata": {
    "slideshow": {
     "slide_type": "slide"
    }
   },
   "source": [
    "1. size: Tamaño.\n"
   ]
  },
  {
   "cell_type": "markdown",
   "id": "d278c79b",
   "metadata": {
    "slideshow": {
     "slide_type": "slide"
    }
   },
   "source": [
    "## Referentes\n",
    "\n",
    "* [Precálculo de Stewart](https://udeaeduco-my.sharepoint.com/:b:/g/personal/marco_canas_udea_edu_co/ERHIq62I6qFNrmxy6LZb8ZMBci7kUsyNME1nIh9yCBMJ_w?e=cOQjzv)\n",
    "* [Cálculo Stewart](https://udeaeduco-my.sharepoint.com/:b:/g/personal/marco_canas_udea_edu_co/EZgXZjAp8QxPqOAim2hs6LcBNPLGjSHf-xwYnUVYkwa04w?e=k1HOhB)\n",
    "\n",
    "* [Cálculo purcell](https://udeaeduco-my.sharepoint.com/:b:/g/personal/marco_canas_udea_edu_co/ES60UB4h-QFFqqRQUFmkpWcBIgoLBJeqTfZjNajWNWSeJA?e=SO4M1M)"
   ]
  },
  {
   "cell_type": "markdown",
   "id": "896bf645",
   "metadata": {
    "slideshow": {
     "slide_type": "slide"
    }
   },
   "source": [
    "### [Evaluamos al profesor Marco Cañas Aquí](https://forms.office.com/Pages/ResponsePage.aspx?id=IefhmYRxjkmK_7KtTlPBwkanXIs1i1FEujpsZgO6dXpUREJPV1kxUk1JV1ozTFJIQVNIQjY5WEY3US4u)"
   ]
  },
  {
   "cell_type": "markdown",
   "id": "ef4f9f85",
   "metadata": {
    "slideshow": {
     "slide_type": "slide"
    }
   },
   "source": [
    "### Continue su aprendizaje en la siguiente clase a través del siguiente [vínculo]()"
   ]
  }
 ],
 "metadata": {
  "celltoolbar": "Slideshow",
  "kernelspec": {
   "display_name": "Python 3 (ipykernel)",
   "language": "python",
   "name": "python3"
  },
  "language_info": {
   "codemirror_mode": {
    "name": "ipython",
    "version": 3
   },
   "file_extension": ".py",
   "mimetype": "text/x-python",
   "name": "python",
   "nbconvert_exporter": "python",
   "pygments_lexer": "ipython3",
   "version": "3.9.13"
  },
  "rise": {
   "enable_chalkboard": true,
   "theme": "sky",
   "transition": "zoom"
  }
 },
 "nbformat": 4,
 "nbformat_minor": 5
}
