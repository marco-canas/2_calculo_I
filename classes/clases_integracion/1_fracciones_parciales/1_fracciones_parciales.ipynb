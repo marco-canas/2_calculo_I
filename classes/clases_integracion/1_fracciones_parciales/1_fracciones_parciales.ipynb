{
 "cells": [
  {
   "cell_type": "markdown",
   "id": "26138fd7",
   "metadata": {
    "slideshow": {
     "slide_type": "slide"
    }
   },
   "source": [
    "<table align=\"left\">\n",
    "  <td>\n",
    "    <a href=\"https://colab.research.google.com/github/ageron/handson-ml3/blob/main/math_differential_calculus.ipynb\" target=\"_parent\"><img src=\"https://colab.research.google.com/assets/colab-badge.svg\" alt=\"Open In Colab\"/></a>\n",
    "  </td>\n",
    "</table>"
   ]
  },
  {
   "cell_type": "markdown",
   "id": "56e825f9",
   "metadata": {
    "slideshow": {
     "slide_type": "slide"
    }
   },
   "source": [
    "## [Video de apoyo](https://www.youtube.com/watch?v=FRMctyT0VUo)"
   ]
  },
  {
   "cell_type": "markdown",
   "id": "b260f0de",
   "metadata": {
    "slideshow": {
     "slide_type": "slide"
    }
   },
   "source": [
    "# Integración de funciones racionales por descomposición en fracciones parciales"
   ]
  },
  {
   "cell_type": "markdown",
   "id": "e63bbf94",
   "metadata": {
    "slideshow": {
     "slide_type": "slide"
    }
   },
   "source": [
    "Página 524 del [Stewart](https://udeaeduco-my.sharepoint.com/:b:/g/personal/marco_canas_udea_edu_co/EZgXZjAp8QxPqOAim2hs6LcBNPLGjSHf-xwYnUVYkwa04w?e=ybsM9q)  Cálculo de una variable. Trascendentes tempranas. "
   ]
  },
  {
   "cell_type": "markdown",
   "id": "b248efe9",
   "metadata": {
    "slideshow": {
     "slide_type": "slide"
    }
   },
   "source": [
    "$$ \\frac{2}{x-1} - \\frac{1}{x+2} = \\frac{x+5}{x^{2} + x -2} $$"
   ]
  },
  {
   "cell_type": "markdown",
   "id": "087ce466",
   "metadata": {
    "slideshow": {
     "slide_type": "slide"
    }
   },
   "source": [
    "Ahora, si se invierte el procedimiento, verá cómo integrar la función del lado derecho de \n",
    "esta ecuación:"
   ]
  },
  {
   "cell_type": "markdown",
   "id": "68660d62",
   "metadata": {
    "slideshow": {
     "slide_type": "slide"
    }
   },
   "source": [
    "\\begin{align*}\n",
    "\\int \\frac{}{}dx & = \\int \\left(frac{}{} - \\frac{}{} \\right)dx\\\\\n",
    "& = 2\\ln|| - \n",
    "\\end{align*}"
   ]
  },
  {
   "cell_type": "markdown",
   "id": "6c294fb9",
   "metadata": {
    "slideshow": {
     "slide_type": "slide"
    }
   },
   "source": [
    "Para ver cómo funciona en general el método de fracciones parciales, considere la función racional \n",
    "\n",
    "$$ f(x) = \\frac{P(x)}{Q(x)} $$\n",
    "\n",
    "donde $P$ y $Q$ son funciones polinomiales. "
   ]
  },
  {
   "cell_type": "markdown",
   "id": "67d86973",
   "metadata": {
    "slideshow": {
     "slide_type": "slide"
    }
   },
   "source": []
  },
  {
   "cell_type": "markdown",
   "id": "ed605b10",
   "metadata": {
    "slideshow": {
     "slide_type": "slide"
    }
   },
   "source": [
    "# Como aprendes a integrar con sympy"
   ]
  },
  {
   "cell_type": "code",
   "execution_count": 1,
   "id": "58053a01",
   "metadata": {
    "slideshow": {
     "slide_type": "slide"
    }
   },
   "outputs": [
    {
     "data": {
      "text/latex": [
       "$\\displaystyle \\frac{x^{3}}{3} + \\frac{x^{2}}{2} + x$"
      ],
      "text/plain": [
       " 3    2    \n",
       "x    x     \n",
       "-- + -- + x\n",
       "3    2     "
      ]
     },
     "execution_count": 1,
     "metadata": {},
     "output_type": "execute_result"
    }
   ],
   "source": [
    "from sympy import *\n",
    "init_printing(use_unicode=False, wrap_line=False)\n",
    "x = Symbol('x')\n",
    "integrate(x**2 + x + 1, x)"
   ]
  },
  {
   "cell_type": "code",
   "execution_count": null,
   "id": "f8f5eb0f",
   "metadata": {},
   "outputs": [],
   "source": []
  },
  {
   "cell_type": "markdown",
   "id": "35b3219d",
   "metadata": {},
   "source": [
    "## Referentes  \n",
    "\n",
    "* chatGPT: https://openai.com/blog/chatgpt/"
   ]
  },
  {
   "cell_type": "code",
   "execution_count": null,
   "id": "e7bbcee8",
   "metadata": {},
   "outputs": [],
   "source": []
  }
 ],
 "metadata": {
  "celltoolbar": "Slideshow",
  "kernelspec": {
   "display_name": "Python 3 (ipykernel)",
   "language": "python",
   "name": "python3"
  },
  "language_info": {
   "codemirror_mode": {
    "name": "ipython",
    "version": 3
   },
   "file_extension": ".py",
   "mimetype": "text/x-python",
   "name": "python",
   "nbconvert_exporter": "python",
   "pygments_lexer": "ipython3",
   "version": "3.9.13"
  }
 },
 "nbformat": 4,
 "nbformat_minor": 5
}
