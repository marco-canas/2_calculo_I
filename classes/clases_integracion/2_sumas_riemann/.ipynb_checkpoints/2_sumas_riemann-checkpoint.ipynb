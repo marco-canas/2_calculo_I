{
 "cells": [
  {
   "cell_type": "markdown",
   "id": "f47460f0",
   "metadata": {
    "slideshow": {
     "slide_type": "slide"
    }
   },
   "source": [
    "<table align=\"left\">\n",
    "  <td>\n",
    "    <a href=\"https://colab.research.google.com/github/ageron/handson-ml3/blob/main/math_differential_calculus.ipynb\" target=\"_parent\"><img src=\"https://colab.research.google.com/assets/colab-badge.svg\" alt=\"Open In Colab\"/></a>\n",
    "  </td>\n",
    "</table>"
   ]
  },
  {
   "cell_type": "markdown",
   "id": "693921e6",
   "metadata": {
    "slideshow": {
     "slide_type": "slide"
    }
   },
   "source": [
    "## [Video de apoyo a la lectura interactiva y experimental de este cuaderno sobre sumas de Riemann]()"
   ]
  },
  {
   "cell_type": "markdown",
   "id": "e8142350",
   "metadata": {
    "slideshow": {
     "slide_type": "slide"
    }
   },
   "source": [
    "# [Sumas de Riemannn con sympy](https://docs.sympy.org/latest/modules/integrals/integrals.html)"
   ]
  },
  {
   "cell_type": "markdown",
   "id": "0bbf8184",
   "metadata": {
    "slideshow": {
     "slide_type": "slide"
    }
   },
   "source": [
    "# Áreas y distancias"
   ]
  },
  {
   "cell_type": "markdown",
   "id": "f1c8f115",
   "metadata": {},
   "source": [
    "Página 397 de Stewart. "
   ]
  },
  {
   "cell_type": "code",
   "execution_count": null,
   "id": "c14dc432",
   "metadata": {
    "slideshow": {
     "slide_type": "slide"
    }
   },
   "outputs": [],
   "source": []
  },
  {
   "cell_type": "code",
   "execution_count": null,
   "id": "837d47e4",
   "metadata": {},
   "outputs": [],
   "source": []
  },
  {
   "cell_type": "markdown",
   "id": "cfb77960",
   "metadata": {
    "slideshow": {
     "slide_type": "slide"
    }
   },
   "source": [
    "## Sumas de Riemann con Python"
   ]
  },
  {
   "cell_type": "code",
   "execution_count": 3,
   "id": "c03b3298",
   "metadata": {
    "slideshow": {
     "slide_type": "slide"
    }
   },
   "outputs": [
    {
     "name": "stdout",
     "output_type": "stream",
     "text": [
      "0.33283350000000095\n"
     ]
    }
   ],
   "source": [
    "def integral(a, b, d):\n",
    "    if a > b:\n",
    "        a,b = b,a\n",
    "    delta_x = float((b-a)/1000)\n",
    "    j = abs((b-a)/delta_x)\n",
    "    i = int(j)\n",
    "    n = s = 0\n",
    "    x = a\n",
    "    while n < i:\n",
    "        delta_A = (x**2) * delta_x\n",
    "        x += delta_x\n",
    "        s += delta_A\n",
    "\n",
    "        n += 1\n",
    "\n",
    "    return abs(s)\n",
    "\n",
    "print(integral(0,1,0.01))"
   ]
  },
  {
   "cell_type": "code",
   "execution_count": null,
   "id": "4f42a811",
   "metadata": {},
   "outputs": [],
   "source": []
  },
  {
   "cell_type": "code",
   "execution_count": null,
   "id": "cc3dcd01",
   "metadata": {},
   "outputs": [],
   "source": []
  },
  {
   "cell_type": "markdown",
   "id": "a3a22a74",
   "metadata": {},
   "source": [
    "## Referentes  \n",
    "\n",
    "* Integrals of Sympy: https://docs.sympy.org/latest/modules/integrals/integrals.html"
   ]
  },
  {
   "cell_type": "code",
   "execution_count": null,
   "id": "2e75e1d8",
   "metadata": {},
   "outputs": [],
   "source": []
  }
 ],
 "metadata": {
  "celltoolbar": "Slideshow",
  "kernelspec": {
   "display_name": "Python 3 (ipykernel)",
   "language": "python",
   "name": "python3"
  },
  "language_info": {
   "codemirror_mode": {
    "name": "ipython",
    "version": 3
   },
   "file_extension": ".py",
   "mimetype": "text/x-python",
   "name": "python",
   "nbconvert_exporter": "python",
   "pygments_lexer": "ipython3",
   "version": "3.9.13"
  }
 },
 "nbformat": 4,
 "nbformat_minor": 5
}
