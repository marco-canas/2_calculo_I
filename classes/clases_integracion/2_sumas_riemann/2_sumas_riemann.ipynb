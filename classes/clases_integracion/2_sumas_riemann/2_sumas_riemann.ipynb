{
 "cells": [
  {
   "cell_type": "markdown",
   "id": "f47460f0",
   "metadata": {
    "slideshow": {
     "slide_type": "slide"
    }
   },
   "source": [
    "<table align=\"left\">\n",
    "  <td>\n",
    "    <a href=\"https://colab.research.google.com/github/ageron/handson-ml3/blob/main/math_differential_calculus.ipynb\" target=\"_parent\"><img src=\"https://colab.research.google.com/assets/colab-badge.svg\" alt=\"Open In Colab\"/></a>\n",
    "  </td>\n",
    "</table>"
   ]
  },
  {
   "cell_type": "markdown",
   "id": "693921e6",
   "metadata": {
    "slideshow": {
     "slide_type": "slide"
    }
   },
   "source": [
    "## [Video de apoyo a la lectura interactiva y experimental de este cuaderno sobre sumas de Riemann](https://www.youtube.com/watch?v=dTklSrqHpo4)"
   ]
  },
  {
   "cell_type": "markdown",
   "id": "e8142350",
   "metadata": {
    "slideshow": {
     "slide_type": "slide"
    }
   },
   "source": [
    "# [Sumas de Riemannn con sympy](https://docs.sympy.org/latest/modules/integrals/integrals.html)"
   ]
  },
  {
   "cell_type": "markdown",
   "id": "19329800",
   "metadata": {
    "slideshow": {
     "slide_type": "slide"
    }
   },
   "source": [
    "# Áreas y distancias"
   ]
  },
  {
   "cell_type": "markdown",
   "id": "e064e546",
   "metadata": {
    "slideshow": {
     "slide_type": "slide"
    }
   },
   "source": [
    "Página 397 de Stewart. "
   ]
  },
  {
   "cell_type": "markdown",
   "id": "db367a19",
   "metadata": {
    "slideshow": {
     "slide_type": "slide"
    }
   },
   "source": [
    "En esta sección se descubre que, al intentar calcular el área bajo una curva o la distancia \n",
    "recorrida por un automóvil, se llega al mismo tipo especial de límite."
   ]
  },
  {
   "cell_type": "markdown",
   "id": "43506b42",
   "metadata": {
    "slideshow": {
     "slide_type": "slide"
    }
   },
   "source": [
    "## El problema del área"
   ]
  },
  {
   "cell_type": "markdown",
   "id": "d951da0c",
   "metadata": {
    "slideshow": {
     "slide_type": "slide"
    }
   },
   "source": [
    "Intente resolver el problema del área: encuentre el área de la región $S$ que está debajo \n",
    "de la curva $y = f(x)$, de $a$ a $b$. "
   ]
  },
  {
   "cell_type": "markdown",
   "id": "3be6383e",
   "metadata": {
    "slideshow": {
     "slide_type": "slide"
    }
   },
   "source": [
    "Esto significa que $S$, la cual se muestra en la figura 1, está limitada por la gráfica de una función continua $f$ [donde $f(x) > 0$], las rectas verticales  $x = a$ y $x = b$, y el eje $x$. "
   ]
  },
  {
   "cell_type": "markdown",
   "id": "2a77be39",
   "metadata": {
    "slideshow": {
     "slide_type": "slide"
    }
   },
   "source": [
    "Al intentar resolver el problema del área, debe preguntarse: ¿cuál es el significado de la palabra área?"
   ]
  },
  {
   "cell_type": "markdown",
   "id": "8349676d",
   "metadata": {
    "slideshow": {
     "slide_type": "slide"
    }
   },
   "source": [
    "Esta cuestión es fácil de responder para regiones con lados rectos. "
   ]
  },
  {
   "cell_type": "markdown",
   "id": "94ad0f36",
   "metadata": {
    "slideshow": {
     "slide_type": "slide"
    }
   },
   "source": [
    "Para un rectángulo, el área se de\u001f ne como el producto del largo y el ancho. El área de \n",
    "un triángulo es la mitad de la base multiplicada por la altura. El área de un polígono \n",
    "se encuentra al dividirlo en triángulos (como en la \u001f gura 2) y sumar las áreas de esos \n",
    "triángulos."
   ]
  },
  {
   "cell_type": "markdown",
   "id": "e473f1e8",
   "metadata": {
    "slideshow": {
     "slide_type": "slide"
    }
   },
   "source": [
    "## EJEMPLO 1 \n",
    "\n",
    "página 397 del PDF de Cálculo de Stewart. "
   ]
  },
  {
   "cell_type": "markdown",
   "id": "775382fc",
   "metadata": {},
   "source": [
    "Utilice rectángulos para estimar el área bajo la parábola $y = x^{2}$ , de $0$ a $1$ \n",
    "(la región parabólica S se ilustra en la figura 3)."
   ]
  },
  {
   "cell_type": "code",
   "execution_count": null,
   "id": "2da06f5b",
   "metadata": {
    "slideshow": {
     "slide_type": "slide"
    }
   },
   "outputs": [],
   "source": []
  },
  {
   "cell_type": "code",
   "execution_count": null,
   "id": "5edacfdc",
   "metadata": {
    "slideshow": {
     "slide_type": "slide"
    }
   },
   "outputs": [],
   "source": []
  },
  {
   "cell_type": "code",
   "execution_count": null,
   "id": "fb82cee5",
   "metadata": {
    "slideshow": {
     "slide_type": "slide"
    }
   },
   "outputs": [],
   "source": []
  },
  {
   "cell_type": "code",
   "execution_count": null,
   "id": "fac09bc8",
   "metadata": {},
   "outputs": [],
   "source": []
  },
  {
   "cell_type": "markdown",
   "id": "035953e7",
   "metadata": {
    "slideshow": {
     "slide_type": "slide"
    }
   },
   "source": [
    "## [Sumas de Riemann con Python](https://stackoverflow.com/questions/29318682/integration-with-riemann-sum-python)"
   ]
  },
  {
   "cell_type": "code",
   "execution_count": 5,
   "id": "2862e2d7",
   "metadata": {
    "slideshow": {
     "slide_type": "slide"
    }
   },
   "outputs": [
    {
     "name": "stdout",
     "output_type": "stream",
     "text": [
      "0.33283350000000095\n"
     ]
    }
   ],
   "source": [
    "def integral(a, b, d):\n",
    "    if a > b:\n",
    "        a,b = b,a\n",
    "    delta_x = float((b-a)/1000)\n",
    "    j = abs((b-a)/delta_x)\n",
    "    i = int(j)\n",
    "    n = s = 0\n",
    "    x = a\n",
    "    while n < i:\n",
    "        delta_A = (x**2) * delta_x\n",
    "        x += delta_x\n",
    "        s += delta_A\n",
    "\n",
    "        n += 1\n",
    "\n",
    "    return abs(s)\n",
    "\n",
    "print(integral(0,1,0.0001))"
   ]
  },
  {
   "cell_type": "code",
   "execution_count": null,
   "id": "237dab0b",
   "metadata": {},
   "outputs": [],
   "source": []
  },
  {
   "cell_type": "code",
   "execution_count": null,
   "id": "c531b8a1",
   "metadata": {},
   "outputs": [],
   "source": []
  },
  {
   "cell_type": "markdown",
   "id": "e801a386",
   "metadata": {},
   "source": [
    "## Referentes  \n",
    "\n",
    "* Integrals of Sympy: https://docs.sympy.org/latest/modules/integrals/integrals.html"
   ]
  },
  {
   "cell_type": "code",
   "execution_count": null,
   "id": "d29cc47e",
   "metadata": {},
   "outputs": [],
   "source": []
  }
 ],
 "metadata": {
  "celltoolbar": "Slideshow",
  "kernelspec": {
   "display_name": "Python 3 (ipykernel)",
   "language": "python",
   "name": "python3"
  },
  "language_info": {
   "codemirror_mode": {
    "name": "ipython",
    "version": 3
   },
   "file_extension": ".py",
   "mimetype": "text/x-python",
   "name": "python",
   "nbconvert_exporter": "python",
   "pygments_lexer": "ipython3",
   "version": "3.9.13"
  }
 },
 "nbformat": 4,
 "nbformat_minor": 5
}
