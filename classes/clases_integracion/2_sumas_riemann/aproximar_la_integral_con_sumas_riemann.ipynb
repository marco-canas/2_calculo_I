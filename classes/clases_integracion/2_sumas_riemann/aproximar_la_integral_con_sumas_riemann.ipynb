{
 "cells": [
  {
   "cell_type": "markdown",
   "id": "9760b720",
   "metadata": {
    "slideshow": {
     "slide_type": "slide"
    }
   },
   "source": [
    "<table align=\"left\">\n",
    "  <td>\n",
    "    <a href=\"https://colab.research.google.com/github/marco-canas/12_coloquio_machine_learnig/blob/main/4_coloquio_feb_27_redes_neuronales.ipynb\" target=\"_parent\"><img src=\"https://colab.research.google.com/assets/colab-badge.svg\" alt=\"Open In Colab\"/></a>\n",
    "  </td>\n",
    "</table>"
   ]
  },
  {
   "cell_type": "markdown",
   "id": "35f8e6e6",
   "metadata": {
    "slideshow": {
     "slide_type": "slide"
    }
   },
   "source": [
    "## [Video de apoyo a la lectura interactiva y experimental de este cuaderno]()"
   ]
  },
  {
   "cell_type": "markdown",
   "id": "87a2788e",
   "metadata": {
    "slideshow": {
     "slide_type": "slide"
    }
   },
   "source": [
    "# Aproximación del área bajo la curva con sumas de Riemann"
   ]
  },
  {
   "cell_type": "markdown",
   "id": "50d07807",
   "metadata": {
    "slideshow": {
     "slide_type": "slide"
    }
   },
   "source": [
    "Dadas la función, el intervalo y el valor de $n$, **estime la suma de Riemann** de la función en el intervalo usando $n$ subintervalos regulares para los extremos izquierdos, para los extremos derechos y para los puntos medios\n"
   ]
  },
  {
   "cell_type": "markdown",
   "id": "c0c93237",
   "metadata": {
    "slideshow": {
     "slide_type": "slide"
    }
   },
   "source": [
    "$$ f(u) = \\sqrt{2u + 4}, \\ \\ \\ \\ u \\in [-2,-1], \\ \\ \\ n = 8 $$"
   ]
  },
  {
   "cell_type": "markdown",
   "id": "4c7bdbdc",
   "metadata": {
    "slideshow": {
     "slide_type": "slide"
    }
   },
   "source": [
    "# Solución del problema"
   ]
  },
  {
   "cell_type": "markdown",
   "id": "22cb7fda",
   "metadata": {
    "slideshow": {
     "slide_type": "slide"
    }
   },
   "source": [
    "Sumas inferiores de Riemann que en este caso son las que corresponden a las sumas de riemann cuando tomamos los extremos izquierdos de los subintervalos. "
   ]
  },
  {
   "cell_type": "markdown",
   "id": "56382cae",
   "metadata": {
    "slideshow": {
     "slide_type": "slide"
    }
   },
   "source": [
    "$$ \\Delta x = \\frac{b-a}{n}  =  \\frac{-1 - (-2)}{n} = \\frac{1}{n}$$\n",
    "\n",
    "la longitud de los subintervalos. "
   ]
  },
  {
   "cell_type": "markdown",
   "id": "44af4dfa",
   "metadata": {},
   "source": [
    "$$ x_{i-1} = a + i\\Delta x = -2 + \\frac{(i-1)}{n}  $$ los extremos izquierdos"
   ]
  },
  {
   "cell_type": "code",
   "execution_count": null,
   "id": "9931b3a9",
   "metadata": {},
   "outputs": [],
   "source": []
  },
  {
   "cell_type": "code",
   "execution_count": 8,
   "id": "d536a547",
   "metadata": {},
   "outputs": [],
   "source": [
    "import numpy as np \n",
    "def f(x):\n",
    "    return np.sqrt(2*x + 4)"
   ]
  },
  {
   "cell_type": "code",
   "execution_count": 9,
   "id": "af9e0a4a",
   "metadata": {
    "slideshow": {
     "slide_type": "slide"
    }
   },
   "outputs": [],
   "source": [
    "import numpy as np \n",
    "def suma_inferior(f = lambda x:np.sqrt(2*x + 4), dominio = [-2,-1], n = 8):\n",
    "    delta_x = (dominio[1] - dominio[0])/n\n",
    "    suma_inferior_r = 0\n",
    "    for i in range(1, 9):\n",
    "        extremos_izq = dominio[0] + (i-1)*delta_x\n",
    "        altura = f(extremos_izq)\n",
    "        area = altura*delta_x\n",
    "        suma_inferior_r += area \n",
    "    return suma_inferior_r     "
   ]
  },
  {
   "cell_type": "code",
   "execution_count": 13,
   "id": "5130db7d",
   "metadata": {},
   "outputs": [
    {
     "data": {
      "text/plain": [
       "0.8423483375805956"
      ]
     },
     "execution_count": 13,
     "metadata": {},
     "output_type": "execute_result"
    }
   ],
   "source": [
    "suma_inferior(n = 8)"
   ]
  },
  {
   "cell_type": "code",
   "execution_count": null,
   "id": "12ae6ec7",
   "metadata": {},
   "outputs": [],
   "source": []
  },
  {
   "cell_type": "code",
   "execution_count": null,
   "id": "0d826a4e",
   "metadata": {},
   "outputs": [],
   "source": []
  },
  {
   "cell_type": "code",
   "execution_count": null,
   "id": "d79a6576",
   "metadata": {},
   "outputs": [],
   "source": []
  }
 ],
 "metadata": {
  "celltoolbar": "Slideshow",
  "kernelspec": {
   "display_name": "Python 3 (ipykernel)",
   "language": "python",
   "name": "python3"
  },
  "language_info": {
   "codemirror_mode": {
    "name": "ipython",
    "version": 3
   },
   "file_extension": ".py",
   "mimetype": "text/x-python",
   "name": "python",
   "nbconvert_exporter": "python",
   "pygments_lexer": "ipython3",
   "version": "3.9.13"
  }
 },
 "nbformat": 4,
 "nbformat_minor": 5
}
