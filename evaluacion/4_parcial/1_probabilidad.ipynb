{
 "cells": [
  {
   "cell_type": "markdown",
   "id": "dc06dec7",
   "metadata": {
    "slideshow": {
     "slide_type": "slide"
    }
   },
   "source": [
    "<table align=\"left\">\n",
    "  <td>\n",
    "    <a href=\"https://colab.research.google.com/github/ageron/handson-ml3/blob/main/tools_numpy.ipynb\" target=\"_parent\"><img src=\"https://colab.research.google.com/assets/colab-badge.svg\" alt=\"Open In Colab\"/></a>\n",
    "  </td>\n",
    "  <td>\n",
    "    <a target=\"_blank\" href=\"https://kaggle.com/kernels/welcome?src=https://github.com/ageron/handson-ml3/blob/main/tools_numpy.ipynb\"><img src=\"https://kaggle.com/static/images/open-in-kaggle.svg\" /></a>\n",
    "  </td>\n",
    "</table>"
   ]
  },
  {
   "cell_type": "markdown",
   "id": "e0c5b198",
   "metadata": {
    "slideshow": {
     "slide_type": "slide"
    }
   },
   "source": [
    "### [Video de apoyo a la lectura interactiva y experimental de este cuaderno]()"
   ]
  },
  {
   "cell_type": "markdown",
   "id": "41e82203",
   "metadata": {
    "slideshow": {
     "slide_type": "slide"
    }
   },
   "source": [
    "### [Vínculo al programa del curso:  ]()\n",
    "\n"
   ]
  },
  {
   "cell_type": "markdown",
   "id": "d11ab06d",
   "metadata": {
    "slideshow": {
     "slide_type": "slide"
    }
   },
   "source": [
    "Un reconocimiento a mis estudiantes que han construido conmigo este saber pedagógico:\n",
    "\n",
    "<img src = 'https://github.com/marco-canas/calculo/blob/main/images/agro_jornadas_invest_2024-10-31.jpeg?raw=true'> \n",
    "\n"
   ]
  },
  {
   "cell_type": "code",
   "execution_count": null,
   "id": "7604880f",
   "metadata": {
    "slideshow": {
     "slide_type": "slide"
    }
   },
   "outputs": [
    {
     "name": "stdout",
     "output_type": "stream",
     "text": [
      "Llamando a ROSILLO TEJADA VANESA...\n",
      "Cambios guardados en el archivo CSV.\n",
      "Llamando a QUINONEZ CERVANTES MARIANA...\n"
     ]
    }
   ],
   "source": [
    "import pandas as pd\n",
    "import numpy as np\n",
    "\n",
    "# Cargar la lista de estudiantes desde el archivo CSV\n",
    "path = 'C:/Users/marco/Documentos/docencia/groups_list/calculo_vectorial.csv'\n",
    "estudiantes = pd.read_csv(path)\n",
    "estudiantes['Parcial'] = estudiantes['Parcial'].astype(float)  # Asegurar que la columna 'Parcial' es float\n",
    "\n",
    "# Convertir la columna 'Nombre' a una lista de Python\n",
    "lista_estudiantes = estudiantes['Nombre'].tolist()\n",
    "\n",
    "# Función para llamar a un estudiante aleatoriamente y registrar su nota de seguimiento\n",
    "def asistencia():\n",
    "    global lista_estudiantes\n",
    "    if lista_estudiantes:\n",
    "        estudiante_aleatorio = np.random.choice(lista_estudiantes)\n",
    "        print(f\"Llamando a {estudiante_aleatorio}...\")\n",
    "        asistencia = input(f\"¿Asistió {estudiante_aleatorio}? (s/n): \").strip().lower()\n",
    "        \n",
    "        # Validación de entrada\n",
    "        if asistencia == 's':\n",
    "            # Obtener el índice del estudiante en el DataFrame\n",
    "            indice = estudiantes[estudiantes['Nombre'] == estudiante_aleatorio].index[0]\n",
    "            # Incrementar su valor en la columna 'Parcial'\n",
    "            estudiantes.at[indice, 'Parcial'] += 0.3\n",
    "            print(f\"Actualizado: {estudiante_aleatorio} ahora tiene {estudiantes.at[indice, 'Parcial']} en la columna 'Parcial'.\")\n",
    "        \n",
    "        elif asistencia != 'n':\n",
    "            print(\"Entrada inválida. Por favor, introduce 's' para sí o 'n' para no.\")\n",
    "            return  # Volver a preguntar para el mismo estudiante si la entrada es inválida\n",
    "        \n",
    "        # Remover al estudiante de la lista para no llamarlo de nuevo\n",
    "        lista_estudiantes.remove(estudiante_aleatorio)\n",
    "    else:\n",
    "        print(\"Se han llamado a todos los estudiantes del grupo completo.\")\n",
    "\n",
    "# Función para guardar cambios al final de la sesión\n",
    "def guardar_cambios():\n",
    "    estudiantes.to_csv(path, index=False)\n",
    "    print(\"Cambios guardados en el archivo CSV.\")\n",
    "\n",
    "# Ejemplo de uso\n",
    "while lista_estudiantes:\n",
    "    asistencia()\n",
    "\n",
    "# Guardar los cambios una vez que todos los estudiantes hayan sido llamados\n",
    "guardar_cambios()\n",
    "\n"
   ]
  },
  {
   "cell_type": "markdown",
   "id": "d7598d0a-d9b7-4ae0-b029-a0ed6ed1130b",
   "metadata": {},
   "source": [
    "\n",
    "# Principios de mi labor docente"
   ]
  },
  {
   "cell_type": "markdown",
   "id": "4f9d8cf9",
   "metadata": {
    "slideshow": {
     "slide_type": "slide"
    }
   },
   "source": [
    "## Modelo general de clase: [aula invertida](https://www3.gobiernodecanarias.org/medusa/ecoescuela/pedagotic/aprendizaje-invertido-flipped-classroom/)"
   ]
  },
  {
   "cell_type": "markdown",
   "id": "eb6ed03a",
   "metadata": {},
   "source": [
    "<img src = 'https://resources.maneuveringthemiddle.com/wp-content/uploads/2020/07/04212706/1-5.png' width = 400>  \n",
    "\n"
   ]
  },
  {
   "cell_type": "markdown",
   "id": "34319cce-a71b-4f64-aab8-b53e521efa40",
   "metadata": {},
   "source": [
    "# Metodología de enseñanza basada en problemas (ABP)\n"
   ]
  },
  {
   "cell_type": "markdown",
   "id": "c4f73d81",
   "metadata": {},
   "source": [
    "\n",
    "<img src = 'https://www.unir.net/wp-content/uploads/2020/07/aprendizaje-problemas2-1-1-1-1.jpeg' width = 300>"
   ]
  },
  {
   "cell_type": "markdown",
   "id": "841a985c-bd9b-4dd3-8e4c-893983980af2",
   "metadata": {},
   "source": [
    "# Desarrollo del pensamiento computacional con python y cuadernos Jupyter  orientado a la formación en ciencia de datos \n",
    "\n"
   ]
  },
  {
   "cell_type": "markdown",
   "id": "3d0eba94",
   "metadata": {},
   "source": [
    "\n",
    "<img src = 'https://i.ytimg.com/vi/mcG_wcR4e6M/maxresdefault.jpg' width = 400>"
   ]
  },
  {
   "cell_type": "markdown",
   "id": "65aa0404-f7ae-495e-864c-1aec01b4255e",
   "metadata": {},
   "source": [
    "# Principio de fomento a la ciencia abierta, enseñar en el acceso a los datos públicos y el uso de software de código abierto  \n"
   ]
  },
  {
   "cell_type": "markdown",
   "id": "18ae9b87",
   "metadata": {},
   "source": [
    "\n",
    "<img src = 'https://unesdoc.unesco.org/in/rest/Thumb/image?id=p%3A%3Ausmarcdef_0000379949_spa&author=UNESCO&title=Recomendaci%C3%B3n+de+la+UNESCO+sobre+la+Ciencia+Abierta&year=2021&publisher=UNESCO&TypeOfDocument=UnescoPhysicalDocument&mat=PGD&ct=true&size=512&isPhysical=1' width = 200>"
   ]
  },
  {
   "cell_type": "markdown",
   "id": "d9559f85",
   "metadata": {},
   "source": [
    "El enfoque STEAMS en educación preescolar, primaria y secundaria es una extensión del enfoque STEM (Ciencia, Tecnología, Ingeniería y Matemáticas) y su variante STEAM, que incorpora el Arte. "
   ]
  },
  {
   "cell_type": "markdown",
   "id": "72e1cfd2",
   "metadata": {},
   "source": [
    "El acrónimo STEAMS incluye:\n"
   ]
  },
  {
   "cell_type": "markdown",
   "id": "03182fd1",
   "metadata": {},
   "source": [
    "\n",
    "1. **Science (Ciencia):** Fomenta la curiosidad por el mundo natural y el desarrollo de habilidades científicas, como la observación, experimentación y análisis.\n"
   ]
  },
  {
   "cell_type": "markdown",
   "id": "1306d0fa",
   "metadata": {},
   "source": [
    "\n",
    "2. **Technology (Tecnología):** Integra herramientas tecnológicas para potenciar el aprendizaje y la resolución de problemas, promoviendo la alfabetización digital desde edades tempranas.\n"
   ]
  },
  {
   "cell_type": "markdown",
   "id": "3b1a53e8",
   "metadata": {},
   "source": [
    "\n",
    "3. **Engineering (Ingeniería):** Introduce el pensamiento lógico y la resolución de problemas estructurados, fomentando habilidades como el diseño y la construcción de soluciones.\n"
   ]
  },
  {
   "cell_type": "markdown",
   "id": "0196de87",
   "metadata": {},
   "source": [
    "\n",
    "4. **Arts (Arte):** Añade creatividad y pensamiento crítico, permitiendo a los estudiantes expresarse y explorar el aprendizaje a través de formas artísticas (plásticas, música, teatro).\n"
   ]
  },
  {
   "cell_type": "markdown",
   "id": "8bcc485a",
   "metadata": {},
   "source": [
    "\n",
    "5. **Mathematics (Matemáticas):** Refuerza las habilidades numéricas y el razonamiento lógico, fundamentales en la resolución de problemas y comprensión de conceptos abstractos.\n"
   ]
  },
  {
   "cell_type": "markdown",
   "id": "907935f4",
   "metadata": {},
   "source": [
    "\n",
    "6. **Social Sciences (Ciencias Sociales):** Incorpora la comprensión del entorno social, político, cultural y económico, promoviendo el desarrollo de la conciencia crítica sobre el mundo y su historia, además de habilidades de empatía y ciudadanía.\n"
   ]
  },
  {
   "cell_type": "markdown",
   "id": "39967d63",
   "metadata": {},
   "source": [
    "\n",
    "El enfoque STEAMS pretende desarrollar un aprendizaje **interdisciplinario** que integre estas áreas para fomentar un pensamiento más holístico y práctico. "
   ]
  },
  {
   "cell_type": "markdown",
   "id": "5145f077",
   "metadata": {},
   "source": [
    "Se busca que los estudiantes no solo aprendan conocimientos técnicos, sino también cómo aplicarlos creativa y críticamente en situaciones reales, promoviendo habilidades como el trabajo en equipo, la comunicación y la innovación. "
   ]
  },
  {
   "cell_type": "markdown",
   "id": "9d556584",
   "metadata": {},
   "source": [
    "En educación preescolar, primaria, secundaria y superior, se adapta a las diferentes etapas de desarrollo cognitivo y emocional de los estudiantes, promoviendo el aprendizaje activo y contextualizado.  \n"
   ]
  },
  {
   "cell_type": "markdown",
   "id": "0130ec1b",
   "metadata": {},
   "source": [
    "\n",
    "<img src = 'https://www.campuseducacion.com/blog/wp-content/uploads/2023/03/foto01-1.jpg' width = 400>"
   ]
  },
  {
   "cell_type": "markdown",
   "id": "96775931",
   "metadata": {
    "slideshow": {
     "slide_type": "slide"
    }
   },
   "source": [
    "# Examen parcial sobre probabilidad  \n",
    "\n",
    "[]()"
   ]
  },
  {
   "cell_type": "code",
   "execution_count": 2,
   "id": "bc0addfe",
   "metadata": {},
   "outputs": [
    {
     "data": {
      "text/plain": [
       "'C:\\\\Users\\\\marco\\\\Documentos\\\\docencia\\\\Probabilidad.pdf'"
      ]
     },
     "execution_count": 2,
     "metadata": {},
     "output_type": "execute_result"
    }
   ],
   "source": [
    "# mapa conceptual para cada clase  \n",
    "from graphviz import Digraph\n",
    "\n",
    "# Crear un nuevo grafo dirigido\n",
    "dot = Digraph()\n",
    "\n",
    "# Añadir nodos y relaciones al grafo\n",
    "main_concept = 'Probabilidad'\n",
    "dot.node('A', main_concept)\n",
    "dot.node('B', 'Función de Distribución de Probabilidad FDP')\n",
    "dot.node('C', 'Función de Distribución Acumulada')\n",
    "dot.node('D', '')\n",
    "\n",
    "dot.edges(['AB'])\n",
    "\n",
    "\n",
    "# Guardar el grafo como un archivo de imagen\n",
    "dot.render(filename=main_concept, format='png', cleanup=True, \\\n",
    "           directory='C:/Users/marco/Documentos/docencia/')\n",
    "\n",
    "dot.view()\n"
   ]
  },
  {
   "cell_type": "markdown",
   "id": "10e55ccf",
   "metadata": {},
   "source": [
    "# Estructura general para todas las clases\n",
    "\n",
    "Dame, por favor, un diseño de clase sobre la estructura de datos llamada DataFrame de Pandas en python y su utilización en ciencia de datos con técnicas de machine learning siguiendo la siguiente estructura: \n",
    "1. Título de la clase \n",
    "2. Objetivo de aprendizaje\n",
    "3. Contenido de la clase\n",
    "4. Actividades de aprendizaje\n",
    "5. Tarea o actividades de ejercitación y fijación\n",
    "6. Diseño de actividad de retroalimentación. "
   ]
  },
  {
   "cell_type": "markdown",
   "id": "239427f7",
   "metadata": {},
   "source": [
    "## Diseño de parcial sobre Aplicaciones de la integral definida al cálculo de probabilidad   \n",
    "\n",
    "En teoría de confiabilidad, con frecuencia la variable aleatoria es la vida de un componente, y la función de distribución de probabilidad de la variable aleatorial tiempo de vida de algún artículo, tal como la batería de una laptop. La FDP puede usarse para determinar las probabilidades y esperanzas respecto al tiempo de vida. Entonces, suponga que el tiempo de vida, en horas, de una batería es una variable aleatoria continua $X$ que tiene FDP  \n",
    "\n",
    "$$ f(x) = \\begin{cases} \\frac{12}{625} x^{2}(5-x) & \\text{Si } 0 \\leq x \\leq 5 \\\\ \n",
    "0, & \\text{en otro caso}  \\end{cases} $$  \n",
    "\n",
    "(a) Verifique que esto es una FDP válida y dibuje su gráfica.  \n",
    "(b) Determine la probabilidad de que la batería dure al menos tres horas.  \n",
    "(c) Determine el valor esperado del tiempo de vida.  \n",
    "(d) Determine y dibuje una gráfica de la FDA.  "
   ]
  },
  {
   "cell_type": "markdown",
   "id": "ec048afb",
   "metadata": {},
   "source": [
    "# Tema de parcial 1  \n",
    "\n",
    "### Diseño de Parcial - Tema: Probabilidad en Ciencias Agrarias\n",
    "\n",
    "**Instrucciones:** Responda cada uno de los puntos planteados en los ejercicios. Justifique cada paso, mostrando las fórmulas, cálculos y razonamientos utilizados.\n",
    "\n",
    "---\n",
    "\n",
    "**Punto 1: Producción de un cultivo agrícola**  \n",
    "La cantidad de producción diaria (en toneladas) de un cultivo agrícola en una finca es una variable aleatoria continua $X$ con la siguiente función de densidad de probabilidad (FDP):  \n",
    "\n",
    "$$\n",
    "f(x) = \n",
    "\\begin{cases} \n",
    "\\frac{1}{25} (5-x), & \\text{si } 0 \\leq x \\leq 5, \\\\ \n",
    "0, & \\text{en otro caso}.\n",
    "\\end{cases}\n",
    "$$\n",
    "\n",
    "(a) Verifique que esto es una FDP válida y dibuje su gráfica.  \n",
    "(b) Determine la probabilidad de que la producción diaria supere las 3 toneladas.  \n",
    "(c) Calcule la producción promedio diaria esperada.  \n",
    "(d) Determine y grafique la función de distribución acumulativa (FDA).\n",
    "\n",
    "---\n"
   ]
  },
  {
   "cell_type": "markdown",
   "id": "637de5fc",
   "metadata": {},
   "source": [
    "\n",
    "**Punto 2: Vida útil de un pesticida**  \n",
    "El tiempo de degradación (en semanas) de un pesticida en el suelo sigue la siguiente función de densidad de probabilidad:  \n",
    "\n",
    "$$\n",
    "f(x) = \n",
    "\\begin{cases} \n",
    "\\frac{3}{64} x^2, & \\text{si } 0 \\leq x \\leq 4, \\\\ \n",
    "0, & \\text{en otro caso}.\n",
    "\\end{cases}\n",
    "$$\n",
    "\n",
    "(a) Verifique que esta función es una FDP válida y grafíquela.  \n",
    "(b) Determine la probabilidad de que el pesticida se degrade en menos de 2 semanas.  \n",
    "(c) Encuentre el tiempo promedio de degradación esperado.  \n",
    "(d) Determine y grafique la FDA asociada.\n",
    "\n",
    "---\n"
   ]
  },
  {
   "cell_type": "markdown",
   "id": "cc213d66",
   "metadata": {},
   "source": [
    "\n",
    "**Punto 3: Tamaño de frutos en una cosecha**  \n",
    "El tamaño (en milímetros) de frutos seleccionados al azar en una cosecha tiene una distribución con la siguiente FDP:  \n",
    "\n",
    "$$\n",
    "f(x) = \n",
    "\\begin{cases} \n",
    "\\frac{6}{125} x (5-x), & \\text{si } 0 \\leq x \\leq 5, \\\\ \n",
    "0, & \\text{en otro caso}.\n",
    "\\end{cases}\n",
    "$$\n",
    "\n",
    "(a) Verifique que esta función es una FDP válida y dibuje su gráfica.  \n",
    "(b) Calcule la probabilidad de que el tamaño de los frutos esté entre 2 y 4 mm.  \n",
    "(c) Determine el tamaño promedio de los frutos.  \n",
    "(d) Determine y grafique la FDA.\n",
    "\n",
    "---\n"
   ]
  },
  {
   "cell_type": "markdown",
   "id": "2df79ca4",
   "metadata": {},
   "source": [
    "\n",
    "**Punto 4: Consumo de agua en un sistema de riego**  \n",
    "El consumo de agua diario (en litros) en un sistema de riego automático sigue la distribución:  \n",
    "\n",
    "$$\n",
    "f(x) = \n",
    "\\begin{cases} \n",
    "\\frac{1}{50} e^{-x/50}, & \\text{si } x \\geq 0, \\\\ \n",
    "0, & \\text{en otro caso}.\n",
    "\\end{cases}\n",
    "$$\n",
    "\n",
    "(a) Verifique que esta función es una FDP válida.  \n",
    "(b) Determine la probabilidad de que el sistema consuma más de 60 litros de agua en un día.  \n",
    "(c) Encuentre el consumo promedio de agua esperado.  \n",
    "(d) Determine y grafique la FDA.  \n",
    "\n",
    "---\n"
   ]
  },
  {
   "cell_type": "markdown",
   "id": "290df91f",
   "metadata": {},
   "source": [
    "Sugerencia:   \n",
    "\n",
    "$$ \\int_{a}^{\\infty} \\frac{1}{k}e^{-x/k} \\, dx = \\lim_{b \\to \\infty}  -\\int_{a}^{b} \\frac{-1}{k}e^{-x/k} \\, dx  $$\n"
   ]
  },
  {
   "cell_type": "markdown",
   "id": "3c470295",
   "metadata": {},
   "source": [
    "\n",
    "$$ = \\lim_{b \\to \\infty}  \\int_{b}^{a} \\frac{-1}{k}e^{-x/k} \\, dx  = \\lim_{b \\to \\infty} \\left[ e^{-x/k} \\right]_{b}^{a} = e^{-a/k} $$"
   ]
  },
  {
   "cell_type": "markdown",
   "id": "d58cf499",
   "metadata": {},
   "source": [
    "\n",
    "**Criterios de Evaluación:**  \n",
    "- Comprensión y aplicación correcta de conceptos de probabilidad.  \n",
    "- Claridad en las gráficas y justificación matemática.  \n",
    "- Organización y presentación de los cálculos."
   ]
  },
  {
   "cell_type": "markdown",
   "id": "422a5947",
   "metadata": {},
   "source": [
    "# Segundo tema de parcial  sobre aplicaciones de la integral defoinida al cálculo de probabilidades  \n",
    "\n",
    "## Elementos a evaluar  \n",
    "\n",
    "En muchas situaciones, el resultado de un experimento varía de un ensayo al siguiente.  \n",
    "  \n",
    "Por ejemplo, al lanzar una moneda algunas veces caerá cara y otras, cruz; un lanzador de las ligas mayores puede lanzar 2 entradas en un juego y 7 en otro; una batería de un automóvil puede durar 20 meses y otra, 40 meses. Decimos que el resultado de un experimento es aleatorio si el resultado varía de un ensayo a otro, pero que a la larga, esto es, después de un número grande de repeticiones, existe una distribución regular de los resultados.  \n",
    "Algunos resultados ocurren de forma frecuente, tal como la llegada segura a su destino después de un vuelo, mientras que algunos eventos ocurren rara vez, como ganar en la lotería. Utilizamos la probabilidad para medir qué tan probables son los resultados\n",
    "o eventos (conjunto de resultados). Un evento que es casi seguro que suceda\n",
    "tiene una probabilidad cercana a 1. Un evento que raramente ocurre tiene probabilidad\n",
    "cercana a cero. Un evento que es tan probable que suceda como de que no ocurra,\n",
    "como obtener una cara en el lanzamiento de una moneda balanceada, tendrá una probabilidad\n",
    "de En general, la probabilidad de un evento es la proporción de veces que\n",
    "el evento ocurrirá en una sucesión grande de ensayos. Si A es un evento, esto es, un conjunto\n",
    "de posibles resultados, entonces denotamos la probabilidad de A por $P(A)$. Las\n",
    "probabilidades deben satisfacer las siguientes propiedades:  \n",
    "\n",
    "1. $0 \\leq P(A) \\leq 1$ para todo evento $A$.\n",
    "2. Si S es el conjunto de todos los resultados posibles, denominado espacio muestral,\n",
    "entonces $P(S) = 1$.\n",
    "3. Si los eventos A y B son disjuntos, esto es, no tienen resultados en común, entonces $P(A o B) = P(A) + P(B)$. (En realidad, se requiere una condición más fuerte,\n",
    "pero por ahora esto funcionará).  \n",
    "\n",
    "Con estos enunciados podemos deducir lo siguiente: si $A^{c}$ denota al complemento del evento A, esto es, el conjunto de todos los resultados en el espacio muestral S que no están en el evento A, entonces $P(A^{c}) = 1 - P(A)$. Además, si $A_{1}, A_{2}, \\ldots , A_{n}$ son disjuntos,\n",
    "entonces $P(A1 o A2 o \\cdots o An) = P(A1) + P(A2) + \\cdots + P(An)$.\n",
    "Una regla que asigna un valor numérico al resultado de un experimento se denomina variable aleatoria. Es costumbre utilizar letras mayúsculas para denotar a las variables aleatorias y letras minúsculas para denotar valores posibles o reales para las variables aleatorias. Por ejemplo, nuestro experimento podría ser el lanzamiento de tres monedas balanceadas. En este caso, el espacio muestral es el conjunto $\\{HHH,\n",
    "HHT, HTH, THH, HTT,THT, TTH, TTT\\}$. Podríamos definir la variable aleatoria X como el número de caras en los tres lanzamientos. La distribución de probabilidad de X, esto es, una lista de todos los valores posibles de X, junto con sus probabilidades correspondientes, se mostrará en una tabla como la siguiente.\n",
    "\n",
    "|x|P(x)|  \n",
    "|-|----|  \n",
    "|0|1/8|\n",
    "|1|3/8|\n",
    "|2|3/8|\n",
    "|3|1/8|  \n",
    "\n",
    "Un concepto importante en probabilidad y estadística es el de la esperanza de una\n",
    "variable aleatoria. Para motivar la definición, que se dará más adelante, considere el siguiente\n",
    "experimento. Imagine el lanzamiento repetido de tres monedas a la vez. Para\n",
    "ilustrar esto, suponga que las tres monedas se lanzarán 10,000 veces. Por medio de\n",
    "nuestra definición de probabilidad, “esperamos” ver cero caras un octavo de las veces\n",
    "en los ensayos, esto es veces en una secuencia de 10,000. De forma\n",
    "análoga, esperaríamos ocurrencias de una cara,\n",
    "ocurrencias de dos caras y ocurrencias de tres caras. ¿Cuántas caras\n",
    "en total esperaríamos ver en 10,000 lanzamientos de 3 monedas? Esperaríamos \n",
    "cero caras 1250 veces, para un total de 0 caras,\n",
    "una cara 3750 veces, para un total de 3750 caras,\n",
    "dos caras 3750 veces, para un total de 7500 caras,\n",
    "tres caras 1250 veces, para un total de 3750 caras.  \n",
    "En total, esperaríamos 0 + 3759 + 7500 + 3750 = 15,000 caras. Por lo tanto, esperamos\n",
    "15,000>10,000 = 1.5 caras por ensayo (lanzamiento de tres monedas). Un poco de reflexión\n",
    "sobre los cálculos sugiere que 10,000 es arbitrario y que se eliminará de todos\n",
    "modos. Multiplicamos cada probabilidad por 10,000 para obtener la frecuencia esperada,\n",
    "pero luego dividimos entre 10,000. Esto es,   \n",
    "\n",
    "\n",
    "Definición Esperanza de una variable aleatoria\n",
    "Si X es una variable aleatoria con distribución de probabilidad\n",
    "x\n",
    "entonces la esperanza de X, denotada por E(X), que también se denomina media de\n",
    "X y se denota con m, es\n",
    "m = E1X2 = x1p1 + x2p2 + Á + xnpn = a\n",
    "n\n",
    "i=1\n",
    "xipi  \n",
    "\n",
    "■ EJEMPLO 1 Se fabrican 20 piezas de plástico a la vez, por medio de la inyección\n",
    "de plástico a un molde. Se inspeccionan las 20 piezas para buscar defectos tales como\n",
    "huecos (burbujas dentro de la pieza) y fracturas. Suponga que la distribución de probabilidad\n",
    "para el número de piezas defectuosas de las 20 está dada en la siguiente tabla.  \n",
    "\n",
    "Determine (a) la probabilidad de que un lote de 20 piezas tenga al menos una pieza defectuosa\n",
    "y (b) el número esperado de piezas defectuosas por lote de 20.\n",
    "SOLUCIÓN\n",
    "(a)\n",
    "(b) El valor esperado para el número de piezas defectuosas es\n",
    "Por lo tanto, en promedio esperaríamos 0.15 piezas defectuosas por lote.  \n",
    "\n",
    "Hasta ahora, en esta sección hemos tratado con variables aleatorias en donde el número de valores posibles es finito; esta situación es análoga a tener masas puntuales\n",
    "en la sección anterior. Existen otras situaciones en donde hay un número infinito de\n",
    "posibles resultados. Si el conjunto de valores posibles de una variable aleatoria X es\n",
    "finito, tal como {x1, x2, . . . , xn}, o es infinito, pero puede ponerse en una lista, tal como\n",
    "{x1, x2, . . .}, entonces se dice que la variable aleatoria X es discreta. Si una variable aleatoria\n",
    "Xpuede tomar cualquier valor en algún intervalo de números reales, entonces decimos\n",
    "que X es una variable aleatoria continua. Existe una gran cantidad de situaciones en\n",
    "donde, al menos teóricamente, el resultado puede ser cualquier número real en un intervalo:\n",
    "por ejemplo, el tiempo de espera para la luz de alto, la masa de una pieza moldeada\n",
    "o el tiempo de vida de una batería. En la práctica, por supuesto, cada medida se\n",
    "redondea; por ejemplo, al segundo, miligramo, día, etcétera, más cercano. En situaciones\n",
    "como ésta, la variable aleatoria en realidad es discreta (con muchos posibles resultados),\n",
    "pero, con frecuencia, una variable aleatoria continua es una buena aproximación.\n",
    "Las variables aleatorias continuas se estudian de una manera análoga a la distribución\n",
    "continua de masa de la sección anterior. Para una variable aleatoria continua\n",
    "debemos especificar la función de densidad de probabilidad (FDP). Una FDP para\n",
    "una variable aleatoria X que toma valores en el intervalo [A, B] es una función que satisface\n",
    "1. $f(x) \\geq 0$ \n",
    "2. $\\int_{A}^{B} f(x) \\, dx$\n",
    "3. $P(a \\leq x \\leq b) = \\int_{a}_{b}f(x) \\, dx$  para toda $a, b$ $(a \\leq b)$ en el intervalo $[A, B]$\n",
    "La tercera propiedad dice que podemos determinar probabilidades para una variable aleatoria continua determinando áreas bajo la FDP (véase la figura 1). Es costumbre\n",
    "definir a la FDP como cero fuera del intervalo [A, B].\n",
    "El valor esperado, o media, de una variable aleatoria continua X es\n",
    "Al igual que en el caso de las variables aleatorias discretas, ésta es análoga al centro de\n",
    "masa de un objeto con densidad variable:\n",
    "■ EJEMPLO 2 Una variable aleatoria continua X tiene FDP\n",
    "$$ f(x) = \\begin{cases} \\frac{1}{10} & \\text{si } 0 \\leq X \\leq 10 \\\\ 0 & \\text{de lo contrario} \\end{cases} $$\n",
    "\n",
    "Determine (a) $P(1 \\leq X \\leq 9)$ (b) $P(X \\leq 4)$ (c) E(X).\n",
    "SOLUCIÓN La variable aleatoria X toma valores en [0, 10].\n",
    "(a) \n",
    "(b)\n",
    "(c) $E(X) $\n",
    "¿Son razonables estas respuestas? La variable aleatoria X se distribuye de manera uniforme en el intervalo $[0, 10]$, por lo que 80% de la probabilidad debe estar entre 1 y 9, al igual que 80% de la masa de una varilla uniforme estaría entre 1 y 9. Por simetría, esperaríamos que la media, o esperanza, de X sea 5, al igual que esperaríamos que el centro de masa de una barra uniforme de longitud 10 se encuentre a 5 unidades de cualquiera de los extremos. ■  \n",
    "\n",
    "Una función relacionada estrechamente con la FDP es la función de distribución acumulada (FDA) que, para una variable aleatoria X, es la función F definida por  \n",
    "$$  $$\n",
    "Esta función está definida tanto para variables aleatorias discretas como continuas.\n",
    "Para una variable aleatoria discreta como la dada en el ejemplo 1, la FDA es una función\n",
    "escalonada que da un salto de pi = P(X = xi) en el valor xi (véase el problema 33).\n",
    "Para una variable aleatoria continua X que toma valores en el intervalo [A, B] y que\n",
    "tiene FDP f (x), la FDA es igual a la integral definida (véase la figura 2), Para x 6 A, la FDA F(x) es cero, ya que la probabilidad de que sea menor o igual a un valor menor que A es cero. De forma análoga, para x 7 B, la FDA es uno, ya que la probabilidad de que sea menor o igual a un valor que es mayor a B es uno.  \n",
    "\n",
    "En el capítulo 4 utilizamos el término función de acumulación para referirnos a\n",
    "una función definida de esta manera. La FDA se define como el área acumulada bajo\n",
    "la FDP, por lo que es una función de acumulación. El siguiente teorema da varias propiedades\n",
    "de la FDA. Las demostraciones son sencillas y se dejan como ejercicios. (Véase\n",
    "el problema 19).  \n",
    "\n",
    "Sea X una variable aleatoria continua que toma valores en el intervalo [A, B] y que\n",
    "tiene FDP $f(x)$ y $FDA$ $F(x)$. Entonces\n",
    "1. $F'(x) = f(x)$  \n",
    "2. $F(A) = 0$ y $F(B) = 1$. \n",
    "3. P(a \\leq X \\leq b) = F1b2 - F1a2  \n",
    "\n",
    "## Ejercicios propuestos: \n",
    "\n",
    "El índice diario de calidad del aire en verano (ICA) en San Luis, Missouri, es una variable aleatoria cuya FDP es $f(x) = kx^{2}(180 - x), 0 \\leq x \\leq 180.$\n",
    "(a) Determine el valor de k que hace de $f (x)$ una FDP válida.\n",
    "(b) Cierto día es de “alerta anaranjada”, si el ICA está entre 100 y 150.\n",
    "¿Cuál es la probabilidad de que un día de verano sea de alerta\n",
    "anaranjada?\n",
    "(c) Determine el valor esperado del ICA de verano.\n"
   ]
  },
  {
   "cell_type": "markdown",
   "id": "47829b26",
   "metadata": {},
   "source": [
    "### **Taller práctico: Generación, visualización y modelado de datos meteorológicos en la región del Bajo Cauca Antioqueño**  \n"
   ]
  },
  {
   "cell_type": "markdown",
   "id": "a3b45a44",
   "metadata": {},
   "source": [
    "\n",
    "**Dirigido a:** Estudiantes de Ingeniería Agropecuaria  \n",
    "**Duración:** 3 horas  \n",
    "**Modalidad:** Laboratorio práctico en Jupyter Notebook  \n",
    "\n",
    "---\n"
   ]
  },
  {
   "cell_type": "markdown",
   "id": "e5cb433d",
   "metadata": {},
   "source": [
    "\n",
    "### **Objetivos del taller:**  \n",
    "1. Enseñar a los estudiantes a generar datos artificiales que simulen variables meteorológicas de la región del Bajo Cauca Antioqueño.  \n",
    "2. Visualizar y analizar la distribución de los datos generados.  \n",
    "3. Determinar la función de distribución de probabilidad de cada variable meteorológica.  \n",
    "4. Calcular probabilidades de eventos meteorológicos utilizando integración numérica.\n",
    "\n",
    "---\n",
    "\n",
    "### **Materiales necesarios:**  \n",
    "- Computador con Python instalado (Jupyter Notebook).  \n",
    "- Bibliotecas: `numpy`, `matplotlib`, `seaborn`, `scipy`.  \n",
    "- Conexión a internet para consultar documentación y buscar inspiración en ejemplos adicionales.\n",
    "\n",
    "---\n",
    "\n",
    "### **Estructura del taller:**  \n",
    "\n",
    "#### **Parte 1: Generación de datos artificiales (45 minutos)**  \n",
    "**Concepto clave:** Uso de distribuciones estadísticas para simular datos meteorológicos.  \n",
    "\n",
    "**Actividades:**  \n",
    "1. **Introducción breve a la región del Bajo Cauca y sus características climáticas.**  \n",
    "   - Contexto de las variables: temperatura (°C), precipitación (mm), velocidad del viento (m/s), presión atmosférica (hPa).  \n",
    "2. **Código base para generación de datos:**  \n",
    "   - Distribución normal para la temperatura: media = 27°C, desviación estándar = 3°C.  \n",
    "   - Distribución exponencial para la precipitación: media = 10 mm/día.  \n",
    "   - Distribución de Weibull para la velocidad del viento: forma = 2, escala = 3 m/s.  \n",
    "   - Distribución normal para la presión atmosférica: media = 1013 hPa, desviación estándar = 10 hPa.  \n",
    "\n",
    "**Ejemplo de código:**  \n",
    "```python\n",
    "import numpy as np\n",
    "\n",
    "# Generar datos\n",
    "np.random.seed(42)\n",
    "dias = 365  # Un año de datos\n",
    "\n",
    "# Variables\n",
    "temperatura = np.random.normal(loc=27, scale=3, size=dias)\n",
    "precipitacion = np.random.exponential(scale=10, size=dias)\n",
    "viento = np.random.weibull(a=2, size=dias) * 3\n",
    "presion = np.random.normal(loc=1013, scale=10, size=dias)\n",
    "\n",
    "# Almacenar en un diccionario\n",
    "datos_meteorologicos = {\n",
    "    'Día': np.arange(1, dias + 1),\n",
    "    'Temperatura (°C)': temperatura,\n",
    "    'Precipitación (mm)': precipitacion,\n",
    "    'Velocidad del viento (m/s)': viento,\n",
    "    'Presión atmosférica (hPa)': presion\n",
    "}\n",
    "```\n",
    "\n",
    "---\n",
    "\n",
    "#### **Parte 2: Visualización de datos y análisis exploratorio (45 minutos)**  \n",
    "**Concepto clave:** Interpretación gráfica para comprender los patrones en los datos.  \n",
    "\n",
    "**Actividades:**  \n",
    "1. **Gráficos individuales para cada variable:**  \n",
    "   - Histogramas y diagramas de caja (`boxplot`) usando `matplotlib` y `seaborn`.  \n",
    "2. **Comparaciones:**  \n",
    "   - Relación entre variables, como la correlación entre temperatura y precipitación.  \n",
    "\n",
    "**Ejemplo de código:**  \n",
    "```python\n",
    "import matplotlib.pyplot as plt\n",
    "import seaborn as sns\n",
    "\n",
    "# Histograma de temperatura\n",
    "plt.figure(figsize=(8, 5))\n",
    "sns.histplot(temperatura, kde=True, bins=20, color='blue')\n",
    "plt.title(\"Distribución de la Temperatura\")\n",
    "plt.xlabel(\"Temperatura (°C)\")\n",
    "plt.ylabel(\"Frecuencia\")\n",
    "plt.show()\n",
    "\n",
    "# Gráfico de caja para precipitación\n",
    "plt.figure(figsize=(6, 4))\n",
    "sns.boxplot(precipitacion, color='green')\n",
    "plt.title(\"Distribución de la Precipitación\")\n",
    "plt.xlabel(\"Precipitación (mm)\")\n",
    "plt.show()\n",
    "```\n",
    "\n",
    "---\n",
    "\n",
    "#### **Parte 3: Modelado y cálculo de probabilidades (1 hora)**  \n",
    "**Concepto clave:** Uso de funciones de distribución de probabilidad (PDF) y cálculo de probabilidades con `scipy.integrate.quad`.  \n",
    "\n",
    "**Actividades:**  \n",
    "1. **Ajuste de funciones de distribución:**  \n",
    "   - Determinar la función que mejor se ajusta a cada variable con `scipy.stats`.  \n",
    "2. **Cálculo de probabilidades:**  \n",
    "   - Ejemplo: Probabilidad de que la temperatura esté entre 25°C y 30°C durante un día.  \n",
    "\n",
    "**Ejemplo de código:**  \n",
    "```python\n",
    "from scipy.stats import norm\n",
    "from scipy.integrate import quad\n",
    "\n",
    "# Ajuste de distribución para la temperatura\n",
    "mu, sigma = norm.fit(temperatura)\n",
    "\n",
    "# Probabilidad de que la temperatura esté entre 25°C y 30°C\n",
    "probabilidad, _ = quad(lambda x: norm.pdf(x, loc=mu, scale=sigma), 25, 30)\n",
    "print(f\"Probabilidad de temperatura entre 25°C y 30°C: {probabilidad:.4f}\")\n",
    "```\n",
    "\n",
    "**Eventos adicionales:**  \n",
    "- Precipitación mayor a 50 mm en un día.  \n",
    "- Velocidad del viento menor a 2 m/s.  \n",
    "\n",
    "---\n",
    "\n",
    "### **Evaluación del taller:**  \n",
    "1. **Discusión final (15 minutos):** Reflexión grupal sobre la utilidad de los datos meteorológicos simulados en la planificación agropecuaria.  \n",
    "2. **Tarea opcional:** Aplicar el mismo procedimiento a otro conjunto de datos climáticos simulados para otra región.\n",
    "\n",
    "---\n",
    "\n",
    "### **Resultados esperados:**  \n",
    "1. Los estudiantes generarán datos realistas para la región.  \n",
    "2. Comprenderán cómo las distribuciones de probabilidad describen los datos.  \n",
    "3. Serán capaces de calcular probabilidades de eventos útiles para la toma de decisiones agrícolas.  \n",
    "\n",
    "¿Te gustaría que desarrolle el código completo en un cuaderno Jupyter?"
   ]
  },
  {
   "cell_type": "markdown",
   "id": "f129b2fd",
   "metadata": {},
   "source": [
    "# Implementación del taller "
   ]
  },
  {
   "cell_type": "markdown",
   "id": "c0defa9a",
   "metadata": {},
   "source": [
    "### **Taller práctico: Generación, visualización y modelado de datos meteorológicos en la región del Bajo Cauca Antioqueño**  \n"
   ]
  },
  {
   "cell_type": "markdown",
   "id": "01ddf7a0",
   "metadata": {},
   "source": [
    "\n",
    "**Dirigido a:** Estudiantes de Ingeniería Agropecuaria  \n",
    "**Duración:** 3 horas  \n",
    "**Modalidad:** Laboratorio práctico en Jupyter Notebook  \n",
    "\n",
    "---\n",
    "\n",
    "### **Objetivos del taller:**  \n",
    "1. Enseñar a los estudiantes a generar datos artificiales que simulen variables meteorológicas de la región del Bajo Cauca Antioqueño.  \n",
    "2. Visualizar y analizar la distribución de los datos generados.  \n",
    "3. Determinar la función de distribución de probabilidad de cada variable meteorológica.  \n",
    "4. Calcular probabilidades de eventos meteorológicos utilizando integración numérica.\n",
    "\n",
    "---\n"
   ]
  },
  {
   "cell_type": "markdown",
   "id": "2d5dfc5a",
   "metadata": {},
   "source": [
    "\n",
    "### **Materiales necesarios:**  \n",
    "- Computador con Python instalado (Jupyter Notebook).  \n",
    "- Bibliotecas: `numpy`, `matplotlib`, `seaborn`, `scipy`.  \n",
    "- Conexión a internet para consultar documentación y buscar inspiración en ejemplos adicionales.\n",
    "\n",
    "---\n"
   ]
  },
  {
   "cell_type": "markdown",
   "id": "35532257",
   "metadata": {},
   "source": [
    "\n",
    "### **Estructura del taller:**  \n",
    "\n",
    "#### **Parte 1: Generación de datos artificiales (45 minutos)**  \n",
    "**Concepto clave:** Uso de distribuciones estadísticas para simular datos meteorológicos.  \n",
    "\n",
    "**Actividades:**  \n",
    "1. **Introducción breve a la región del Bajo Cauca y sus características climáticas.**  \n",
    "   - Contexto de las variables: temperatura (°C), precipitación (mm), velocidad del viento (m/s), presión atmosférica (hPa).  \n",
    "2. **Código base para generación de datos:**  \n",
    "   - Distribución normal para la temperatura: media = 27°C, desviación estándar = 3°C.  \n",
    "   - Distribución exponencial para la precipitación: media = 10 mm/día.  \n",
    "   - Distribución de Weibull para la velocidad del viento: forma = 2, escala = 3 m/s.  \n",
    "   - Distribución normal para la presión atmosférica: media = 1013 hPa, desviación estándar = 10 hPa.  \n",
    "\n",
    "**Ejemplo de código:**  \n"
   ]
  },
  {
   "cell_type": "code",
   "execution_count": 5,
   "id": "231ae089",
   "metadata": {},
   "outputs": [
    {
     "data": {
      "text/html": [
       "<div>\n",
       "<style scoped>\n",
       "    .dataframe tbody tr th:only-of-type {\n",
       "        vertical-align: middle;\n",
       "    }\n",
       "\n",
       "    .dataframe tbody tr th {\n",
       "        vertical-align: top;\n",
       "    }\n",
       "\n",
       "    .dataframe thead th {\n",
       "        text-align: right;\n",
       "    }\n",
       "</style>\n",
       "<table border=\"1\" class=\"dataframe\">\n",
       "  <thead>\n",
       "    <tr style=\"text-align: right;\">\n",
       "      <th></th>\n",
       "      <th>Día</th>\n",
       "      <th>Temperatura (°C)</th>\n",
       "      <th>Precipitación (mm)</th>\n",
       "      <th>Velocidad del viento (m/s)</th>\n",
       "      <th>Presión atmosférica (hPa)</th>\n",
       "    </tr>\n",
       "  </thead>\n",
       "  <tbody>\n",
       "    <tr>\n",
       "      <th>0</th>\n",
       "      <td>1</td>\n",
       "      <td>28.490142</td>\n",
       "      <td>2.530821</td>\n",
       "      <td>1.321549</td>\n",
       "      <td>1008.987795</td>\n",
       "    </tr>\n",
       "    <tr>\n",
       "      <th>1</th>\n",
       "      <td>2</td>\n",
       "      <td>26.585207</td>\n",
       "      <td>33.028701</td>\n",
       "      <td>2.491785</td>\n",
       "      <td>1007.410782</td>\n",
       "    </tr>\n",
       "    <tr>\n",
       "      <th>2</th>\n",
       "      <td>3</td>\n",
       "      <td>28.943066</td>\n",
       "      <td>0.122289</td>\n",
       "      <td>2.210404</td>\n",
       "      <td>1016.772119</td>\n",
       "    </tr>\n",
       "    <tr>\n",
       "      <th>3</th>\n",
       "      <td>4</td>\n",
       "      <td>31.569090</td>\n",
       "      <td>35.025269</td>\n",
       "      <td>4.708464</td>\n",
       "      <td>1028.655240</td>\n",
       "    </tr>\n",
       "    <tr>\n",
       "      <th>4</th>\n",
       "      <td>5</td>\n",
       "      <td>26.297540</td>\n",
       "      <td>0.441190</td>\n",
       "      <td>2.012539</td>\n",
       "      <td>1012.342497</td>\n",
       "    </tr>\n",
       "  </tbody>\n",
       "</table>\n",
       "</div>"
      ],
      "text/plain": [
       "   Día  Temperatura (°C)  Precipitación (mm)  Velocidad del viento (m/s)  \\\n",
       "0    1         28.490142            2.530821                    1.321549   \n",
       "1    2         26.585207           33.028701                    2.491785   \n",
       "2    3         28.943066            0.122289                    2.210404   \n",
       "3    4         31.569090           35.025269                    4.708464   \n",
       "4    5         26.297540            0.441190                    2.012539   \n",
       "\n",
       "   Presión atmosférica (hPa)  \n",
       "0                1008.987795  \n",
       "1                1007.410782  \n",
       "2                1016.772119  \n",
       "3                1028.655240  \n",
       "4                1012.342497  "
      ]
     },
     "execution_count": 5,
     "metadata": {},
     "output_type": "execute_result"
    }
   ],
   "source": [
    "\n",
    "import numpy as np\n",
    "import pandas as pd \n",
    "\n",
    "# Generar datos\n",
    "np.random.seed(42)\n",
    "dias = 365  # Un año de datos\n",
    "\n",
    "# Variables\n",
    "temperatura = np.random.normal(loc=27, scale=3, size=dias)\n",
    "precipitacion = np.random.exponential(scale=10, size=dias)\n",
    "viento = np.random.weibull(a=2, size=dias) * 3\n",
    "presion = np.random.normal(loc=1013, scale=10, size=dias)\n",
    "\n",
    "# Almacenar en un diccionario\n",
    "datos_meteorologicos = {\n",
    "    'Día': np.arange(1, dias + 1),\n",
    "    'Temperatura (°C)': temperatura,\n",
    "    'Precipitación (mm)': precipitacion,\n",
    "    'Velocidad del viento (m/s)': viento,\n",
    "    'Presión atmosférica (hPa)': presion\n",
    "}\n",
    "\n",
    "datos_meteorologicos_df = pd.DataFrame(datos_meteorologicos)\n",
    "datos_meteorologicos_df.head()"
   ]
  },
  {
   "cell_type": "markdown",
   "id": "1ec25e2d",
   "metadata": {},
   "source": [
    "\n",
    "---\n",
    "\n",
    "#### **Parte 2: Visualización de datos y análisis exploratorio (45 minutos)**  \n",
    "**Concepto clave:** Interpretación gráfica para comprender los patrones en los datos.  \n",
    "\n",
    "**Actividades:**  \n",
    "1. **Gráficos individuales para cada variable:**  \n",
    "   - Histogramas y diagramas de caja (`boxplot`) usando `matplotlib` y `seaborn`.  \n",
    "2. **Comparaciones:**  \n",
    "   - Relación entre variables, como la correlación entre temperatura y precipitación.  \n",
    "\n",
    "**Ejemplo de código:** "
   ]
  },
  {
   "cell_type": "code",
   "execution_count": null,
   "id": "a999187f",
   "metadata": {},
   "outputs": [
    {
     "data": {
      "image/png": "[encoded data removed]",
      "text/plain": [
       "<Figure size 800x500 with 1 Axes>"
      ]
     },
     "metadata": {},
     "output_type": "display_data"
    },
    {
     "data": {
      "image/png": "[encoded data removed]",
      "text/plain": [
       "<Figure size 600x400 with 1 Axes>"
      ]
     },
     "metadata": {},
     "output_type": "display_data"
    }
   ],
   "source": [
    "import matplotlib.pyplot as plt\n",
    "import seaborn as sns\n",
    "\n",
    "# Histograma de temperatura\n",
    "plt.figure(figsize=(8, 5))\n",
    "sns.histplot(temperatura, kde=True, bins=20, color='blue')\n",
    "plt.title(\"Distribución de la Temperatura\")\n",
    "plt.xlabel(\"Temperatura (°C)\")\n",
    "plt.ylabel(\"Frecuencia\")\n",
    "plt.show()\n",
    "\n",
    "# Gráfico de caja para precipitación\n",
    "plt.figure(figsize=(6, 4))\n",
    "sns.boxplot(precipitacion, color='green')\n",
    "plt.title(\"Distribución de la Precipitación\")\n",
    "plt.xlabel(\"Precipitación (mm)\")\n",
    "plt.show()\n",
    "\n"
   ]
  },
  {
   "cell_type": "markdown",
   "id": "9711fa3e",
   "metadata": {},
   "source": [
    "\n",
    "---\n",
    "\n",
    "#### **Parte 3: Modelado y cálculo de probabilidades (1 hora)**  \n",
    "**Concepto clave:** Uso de funciones de distribución de probabilidad (PDF) y cálculo de probabilidades con `scipy.integrate.quad`.  \n",
    "\n",
    "**Actividades:**  \n",
    "1. **Ajuste de funciones de distribución:**  \n",
    "   - Determinar la función que mejor se ajusta a cada variable con `scipy.stats`.  \n",
    "2. **Cálculo de probabilidades:**  \n",
    "   - Ejemplo: Probabilidad de que la temperatura esté entre 25°C y 30°C durante un día.  \n",
    "\n",
    "**Ejemplo de código:** "
   ]
  },
  {
   "cell_type": "code",
   "execution_count": 6,
   "id": "02f43dc2",
   "metadata": {},
   "outputs": [
    {
     "name": "stdout",
     "output_type": "stream",
     "text": [
      "Probabilidad de temperatura entre 25°C y 30°C: 0.6148\n"
     ]
    }
   ],
   "source": [
    " \n",
    "from scipy.stats import norm\n",
    "from scipy.integrate import quad\n",
    "\n",
    "# Ajuste de distribución para la temperatura\n",
    "mu, sigma = norm.fit(temperatura)\n",
    "\n",
    "# Probabilidad de que la temperatura esté entre 25°C y 30°C\n",
    "probabilidad, _ = quad(lambda x: norm.pdf(x, loc=mu, scale=sigma), 25, 30)\n",
    "print(f\"Probabilidad de temperatura entre 25°C y 30°C: {probabilidad:.4f}\")\n",
    "\n"
   ]
  },
  {
   "cell_type": "markdown",
   "id": "43f7ce70",
   "metadata": {},
   "source": [
    "\n",
    "**Eventos adicionales:**  \n",
    "- Precipitación mayor a 50 mm en un día.  \n",
    "- Velocidad del viento menor a 2 m/s.  \n",
    "\n",
    "---\n",
    "\n",
    "### **Evaluación del taller:**  \n",
    "1. **Discusión final (15 minutos):** Reflexión grupal sobre la utilidad de los datos meteorológicos simulados en la planificación agropecuaria.  \n",
    "2. **Tarea opcional:** Aplicar el mismo procedimiento a otro conjunto de datos climáticos simulados para otra región.\n",
    "\n",
    "---\n",
    "\n",
    "### **Resultados esperados:**  \n",
    "1. Los estudiantes generarán datos realistas para la región.  \n",
    "2. Comprenderán cómo las distribuciones de probabilidad describen los datos.  \n",
    "3. Serán capaces de calcular probabilidades de eventos útiles para la toma de decisiones agrícolas.  \n",
    "\n",
    "¿Te gustaría que desarrolle el código completo en un cuaderno Jupyter?"
   ]
  },
  {
   "cell_type": "code",
   "execution_count": null,
   "id": "5a04d916",
   "metadata": {},
   "outputs": [],
   "source": []
  },
  {
   "cell_type": "markdown",
   "id": "64ac8d32",
   "metadata": {},
   "source": [
    "# Ejemplo ilustrativo"
   ]
  },
  {
   "cell_type": "markdown",
   "id": "a3e5e6ab",
   "metadata": {},
   "source": [
    "# 10 ejercicios de entrenamiento o adquisición de habilidades obtenido a través de ChatGPT para una formación personalizada y centrada en la habilidad que se quiere lograr con la enseñanza del ejemplo anterior"
   ]
  },
  {
   "cell_type": "code",
   "execution_count": null,
   "id": "cc539357",
   "metadata": {},
   "outputs": [],
   "source": []
  },
  {
   "cell_type": "markdown",
   "id": "2f0141c3",
   "metadata": {},
   "source": [
    "## Tareas para realizar antes de la clase  \n",
    "\n",
    "1. Ver los videos respectivos []()\n",
    "2. Memorizar las definiciones []()\n",
    "3. Sintetizar o resumir la información en mapas conceptuales. []()\n",
    "4. Tareas para incentivar el uso de la calculadora Casio 991LA cw Para ingenieros, licenciados y administradores.  \n",
    "5. Leer los ejemplos resueltos y replicar la manera de hacerlos"
   ]
  },
  {
   "cell_type": "code",
   "execution_count": 1,
   "id": "83d849ab",
   "metadata": {},
   "outputs": [],
   "source": [
    "# Tarea 1 de lectura de ejemplos y completación de procedimientos\n",
    "# asignación de tarea para realizar antes de clase\n",
    "# Consiste en leer y completar un ejemplo de texto guía\n",
    "# Esta tarea es para realizar solo de manera manuscrita en su cuaderno de clase. \n",
    "# La otra opción de presentación es elaborada en cuadernos Jupyter (En este caso solo debe realizar la cuarta parte de los ejercicios asignados)\n",
    "# \n",
    "def asignador_de_tareas(nombre_tarea, ubicacion_tarea):\n",
    "    import pandas as pd\n",
    "    import numpy as np\n",
    "    import requests\n",
    "    np.random.seed(1213)  # establecer semilla aleatoria para hacer los resultados reproducibles\n",
    "\n",
    "    def asignar_tarea(nombre_tarea, grupo_estudiantes, nombre_texto_guia, pag_seccion, numero_ejemplos_seccion, numero_ejemplos_asignados):\n",
    "        students_path = \"/home/marco/Documentos/docencia/groups_list/\" + grupo_estudiantes + \".csv\"\n",
    "        examples = list(range(1, numero_ejemplos_de_la_seccion))  \n",
    "        students_data = pd.read_csv(students_path)\n",
    "        # Crear una lista para almacenar las asignaciones\n",
    "        assignments = []\n",
    "\n",
    "        # Asignar ejercicios aleatorios a cada estudiante\n",
    "        for index, student in students_data.iterrows():\n",
    "            # Seleccionar 5 ejercicios aleatorios sin repetición\n",
    "            random_exercises = np.sort(np.random.choice(examples, numero_de_ejemplos_asignados, \\\n",
    "                                                replace = False)+ 1)\n",
    "            assignments.append([students_data[\"Nombre\"][index], *random_exercises])  # Agregar asignación a la lista\n",
    "\n",
    "    # Crear un DataFrame con las asignaciones\n",
    "        columns = [\"Student\"] + [ \"Example\" + str(i+1) for i in range(numero_de_ejemplos_asignados)]\n",
    "        assignment_df = pd.DataFrame(assignments, columns=columns)\n",
    "\n",
    "    # Guardar el DataFrame en un archivo CSV\n",
    "        assignment_csv = nombre_tarea + \"_\" + nombre_texto_guia + \"_\"+ pagina_y_seccion + \".csv\"\n",
    "        assignment_df.to_csv(assignment_csv, index=False)\n",
    "\n",
    "        print(\"\"\"Tarea 1 de lectura de ejemplos y completación de procedimientos: \n",
    "     Si faltan los enunciados de los problemas, no se valora la tarea\n",
    "    Si faltan de la conclusión verbales, no se valora la tarea.\n",
    "    Esta tarea se valora solo si la presenta de manera manuscrita en su cuaderno de clase.  \n",
    "      \"\"\", assignment_csv)\n",
    "        return assignment_df"
   ]
  },
  {
   "cell_type": "markdown",
   "id": "740f3401",
   "metadata": {
    "slideshow": {
     "slide_type": "slide"
    }
   },
   "source": [
    "# Componente de manejo de calculadora Casio asociado al objetivo de aprendizaje de esta clase  \n",
    "\n",
    "## Pasos para lograr el objetivo de aprendizaje con la experimentación en la calculadora Casio 991LA cw  "
   ]
  },
  {
   "cell_type": "code",
   "execution_count": 2,
   "id": "0f1f0ab2",
   "metadata": {},
   "outputs": [
    {
     "ename": "NameError",
     "evalue": "name 'nombre_tarea' is not defined",
     "output_type": "error",
     "traceback": [
      "\u001b[1;31m---------------------------------------------------------------------------\u001b[0m",
      "\u001b[1;31mNameError\u001b[0m                                 Traceback (most recent call last)",
      "Cell \u001b[1;32mIn[2], line 1\u001b[0m\n\u001b[1;32m----> 1\u001b[0m asignador_de_tareas(\u001b[43mnombre_tarea\u001b[49m, ubicacion_tarea)\n",
      "\u001b[1;31mNameError\u001b[0m: name 'nombre_tarea' is not defined"
     ]
    }
   ],
   "source": [
    "asignador_de_tareas(nombre_tarea, ubicacion_tarea)\n",
    "\n"
   ]
  },
  {
   "cell_type": "code",
   "execution_count": null,
   "id": "0406f442",
   "metadata": {
    "slideshow": {
     "slide_type": "slide"
    }
   },
   "outputs": [
    {
     "name": "stdout",
     "output_type": "stream",
     "text": [
      "Tarea 3 Solución problemas describiendo y justificando verbalmente: \n",
      "      Si faltan los enunciados de los problemas, no se valora la tarea\n",
      "      Si faltan de la conclusión verbales, no se valora la tarea \n",
      "      Esta tarea se valora solo si la presenta de manera manuscrita en su cuaderno de clase  \n",
      "       tarea_Purcell_Página_202_Sección_3.8.csv\n"
     ]
    },
    {
     "data": {
      "text/html": [
       "<div>\n",
       "<style scoped>\n",
       "    .dataframe tbody tr th:only-of-type {\n",
       "        vertical-align: middle;\n",
       "    }\n",
       "\n",
       "    .dataframe tbody tr th {\n",
       "        vertical-align: top;\n",
       "    }\n",
       "\n",
       "    .dataframe thead th {\n",
       "        text-align: right;\n",
       "    }\n",
       "</style>\n",
       "<table border=\"1\" class=\"dataframe\">\n",
       "  <thead>\n",
       "    <tr style=\"text-align: right;\">\n",
       "      <th></th>\n",
       "      <th>Student</th>\n",
       "      <th>Exer1</th>\n",
       "      <th>Exer2</th>\n",
       "      <th>Exer3</th>\n",
       "      <th>Exer4</th>\n",
       "      <th>Exer5</th>\n",
       "      <th>Exer6</th>\n",
       "      <th>Exer7</th>\n",
       "      <th>Exer8</th>\n",
       "      <th>Exer9</th>\n",
       "      <th>Exer10</th>\n",
       "    </tr>\n",
       "  </thead>\n",
       "  <tbody>\n",
       "    <tr>\n",
       "      <th>0</th>\n",
       "      <td>AMARIS FERNANDEZ SEBASTIAN CAMILO</td>\n",
       "      <td>4</td>\n",
       "      <td>7</td>\n",
       "      <td>9</td>\n",
       "      <td>17</td>\n",
       "      <td>21</td>\n",
       "      <td>30</td>\n",
       "      <td>39</td>\n",
       "      <td>44</td>\n",
       "      <td>51</td>\n",
       "      <td>54</td>\n",
       "    </tr>\n",
       "    <tr>\n",
       "      <th>1</th>\n",
       "      <td>ARENAS HERAZO GABRIEL ENRIQUE</td>\n",
       "      <td>2</td>\n",
       "      <td>5</td>\n",
       "      <td>11</td>\n",
       "      <td>17</td>\n",
       "      <td>26</td>\n",
       "      <td>28</td>\n",
       "      <td>32</td>\n",
       "      <td>40</td>\n",
       "      <td>46</td>\n",
       "      <td>50</td>\n",
       "    </tr>\n",
       "    <tr>\n",
       "      <th>2</th>\n",
       "      <td>AYALA MENDOZA MARISOL YACIRA</td>\n",
       "      <td>10</td>\n",
       "      <td>18</td>\n",
       "      <td>21</td>\n",
       "      <td>37</td>\n",
       "      <td>39</td>\n",
       "      <td>45</td>\n",
       "      <td>46</td>\n",
       "      <td>47</td>\n",
       "      <td>51</td>\n",
       "      <td>52</td>\n",
       "    </tr>\n",
       "    <tr>\n",
       "      <th>3</th>\n",
       "      <td>BERTEL RODELO MICHELL SMIT</td>\n",
       "      <td>4</td>\n",
       "      <td>8</td>\n",
       "      <td>20</td>\n",
       "      <td>26</td>\n",
       "      <td>28</td>\n",
       "      <td>33</td>\n",
       "      <td>40</td>\n",
       "      <td>41</td>\n",
       "      <td>42</td>\n",
       "      <td>47</td>\n",
       "    </tr>\n",
       "    <tr>\n",
       "      <th>4</th>\n",
       "      <td>BULA VERGARA MARIA PAULA</td>\n",
       "      <td>12</td>\n",
       "      <td>13</td>\n",
       "      <td>20</td>\n",
       "      <td>23</td>\n",
       "      <td>25</td>\n",
       "      <td>27</td>\n",
       "      <td>29</td>\n",
       "      <td>30</td>\n",
       "      <td>34</td>\n",
       "      <td>48</td>\n",
       "    </tr>\n",
       "    <tr>\n",
       "      <th>5</th>\n",
       "      <td>CANTILLO ENSUCHO DANIEL</td>\n",
       "      <td>2</td>\n",
       "      <td>4</td>\n",
       "      <td>5</td>\n",
       "      <td>7</td>\n",
       "      <td>15</td>\n",
       "      <td>25</td>\n",
       "      <td>27</td>\n",
       "      <td>33</td>\n",
       "      <td>46</td>\n",
       "      <td>51</td>\n",
       "    </tr>\n",
       "    <tr>\n",
       "      <th>6</th>\n",
       "      <td>CERVANTES DURAN ANGELICA</td>\n",
       "      <td>2</td>\n",
       "      <td>4</td>\n",
       "      <td>5</td>\n",
       "      <td>14</td>\n",
       "      <td>17</td>\n",
       "      <td>19</td>\n",
       "      <td>22</td>\n",
       "      <td>24</td>\n",
       "      <td>34</td>\n",
       "      <td>52</td>\n",
       "    </tr>\n",
       "    <tr>\n",
       "      <th>7</th>\n",
       "      <td>GUERRA NORIEGA YONATHAN</td>\n",
       "      <td>3</td>\n",
       "      <td>20</td>\n",
       "      <td>24</td>\n",
       "      <td>26</td>\n",
       "      <td>28</td>\n",
       "      <td>35</td>\n",
       "      <td>39</td>\n",
       "      <td>48</td>\n",
       "      <td>49</td>\n",
       "      <td>53</td>\n",
       "    </tr>\n",
       "    <tr>\n",
       "      <th>8</th>\n",
       "      <td>HINCAPIE CASTRO JOHAN SEBASTIAN</td>\n",
       "      <td>10</td>\n",
       "      <td>17</td>\n",
       "      <td>27</td>\n",
       "      <td>28</td>\n",
       "      <td>29</td>\n",
       "      <td>32</td>\n",
       "      <td>36</td>\n",
       "      <td>44</td>\n",
       "      <td>48</td>\n",
       "      <td>54</td>\n",
       "    </tr>\n",
       "    <tr>\n",
       "      <th>9</th>\n",
       "      <td>HUMANEZ SANCHEZ CAMILO</td>\n",
       "      <td>3</td>\n",
       "      <td>16</td>\n",
       "      <td>19</td>\n",
       "      <td>24</td>\n",
       "      <td>33</td>\n",
       "      <td>41</td>\n",
       "      <td>43</td>\n",
       "      <td>44</td>\n",
       "      <td>47</td>\n",
       "      <td>49</td>\n",
       "    </tr>\n",
       "    <tr>\n",
       "      <th>10</th>\n",
       "      <td>IBAÑEZ MORENO FRANCISCO LUIS</td>\n",
       "      <td>3</td>\n",
       "      <td>8</td>\n",
       "      <td>13</td>\n",
       "      <td>16</td>\n",
       "      <td>21</td>\n",
       "      <td>27</td>\n",
       "      <td>28</td>\n",
       "      <td>31</td>\n",
       "      <td>42</td>\n",
       "      <td>43</td>\n",
       "    </tr>\n",
       "    <tr>\n",
       "      <th>11</th>\n",
       "      <td>MASS MIRANDA RIVALDO JOSE</td>\n",
       "      <td>2</td>\n",
       "      <td>3</td>\n",
       "      <td>12</td>\n",
       "      <td>13</td>\n",
       "      <td>23</td>\n",
       "      <td>24</td>\n",
       "      <td>31</td>\n",
       "      <td>35</td>\n",
       "      <td>46</td>\n",
       "      <td>52</td>\n",
       "    </tr>\n",
       "    <tr>\n",
       "      <th>12</th>\n",
       "      <td>MIRANDA MARTINEZ CARLOS ANDRES</td>\n",
       "      <td>10</td>\n",
       "      <td>12</td>\n",
       "      <td>21</td>\n",
       "      <td>24</td>\n",
       "      <td>25</td>\n",
       "      <td>26</td>\n",
       "      <td>27</td>\n",
       "      <td>29</td>\n",
       "      <td>39</td>\n",
       "      <td>50</td>\n",
       "    </tr>\n",
       "    <tr>\n",
       "      <th>13</th>\n",
       "      <td>MONTERROSA SOTO ABRIL</td>\n",
       "      <td>10</td>\n",
       "      <td>14</td>\n",
       "      <td>16</td>\n",
       "      <td>18</td>\n",
       "      <td>28</td>\n",
       "      <td>30</td>\n",
       "      <td>35</td>\n",
       "      <td>36</td>\n",
       "      <td>42</td>\n",
       "      <td>50</td>\n",
       "    </tr>\n",
       "    <tr>\n",
       "      <th>14</th>\n",
       "      <td>NORIEGA JIMENEZ GABRIELA</td>\n",
       "      <td>4</td>\n",
       "      <td>13</td>\n",
       "      <td>14</td>\n",
       "      <td>16</td>\n",
       "      <td>19</td>\n",
       "      <td>22</td>\n",
       "      <td>36</td>\n",
       "      <td>37</td>\n",
       "      <td>46</td>\n",
       "      <td>51</td>\n",
       "    </tr>\n",
       "    <tr>\n",
       "      <th>15</th>\n",
       "      <td>PEREZ REYES IVAN DARIO</td>\n",
       "      <td>17</td>\n",
       "      <td>19</td>\n",
       "      <td>23</td>\n",
       "      <td>26</td>\n",
       "      <td>30</td>\n",
       "      <td>33</td>\n",
       "      <td>34</td>\n",
       "      <td>40</td>\n",
       "      <td>46</td>\n",
       "      <td>53</td>\n",
       "    </tr>\n",
       "    <tr>\n",
       "      <th>16</th>\n",
       "      <td>PEREZ THERAN ERLINDA</td>\n",
       "      <td>3</td>\n",
       "      <td>6</td>\n",
       "      <td>19</td>\n",
       "      <td>21</td>\n",
       "      <td>25</td>\n",
       "      <td>30</td>\n",
       "      <td>32</td>\n",
       "      <td>39</td>\n",
       "      <td>42</td>\n",
       "      <td>45</td>\n",
       "    </tr>\n",
       "    <tr>\n",
       "      <th>17</th>\n",
       "      <td>PINEDA ROMERO YOSMERI</td>\n",
       "      <td>2</td>\n",
       "      <td>30</td>\n",
       "      <td>31</td>\n",
       "      <td>32</td>\n",
       "      <td>35</td>\n",
       "      <td>36</td>\n",
       "      <td>37</td>\n",
       "      <td>42</td>\n",
       "      <td>47</td>\n",
       "      <td>50</td>\n",
       "    </tr>\n",
       "    <tr>\n",
       "      <th>18</th>\n",
       "      <td>QUINONEZ CERVANTES MARIANA</td>\n",
       "      <td>5</td>\n",
       "      <td>6</td>\n",
       "      <td>8</td>\n",
       "      <td>13</td>\n",
       "      <td>15</td>\n",
       "      <td>32</td>\n",
       "      <td>33</td>\n",
       "      <td>42</td>\n",
       "      <td>46</td>\n",
       "      <td>49</td>\n",
       "    </tr>\n",
       "    <tr>\n",
       "      <th>19</th>\n",
       "      <td>RAMOS PEREZ YANINE</td>\n",
       "      <td>11</td>\n",
       "      <td>20</td>\n",
       "      <td>21</td>\n",
       "      <td>28</td>\n",
       "      <td>29</td>\n",
       "      <td>37</td>\n",
       "      <td>39</td>\n",
       "      <td>44</td>\n",
       "      <td>46</td>\n",
       "      <td>52</td>\n",
       "    </tr>\n",
       "    <tr>\n",
       "      <th>20</th>\n",
       "      <td>RIVAS HOYOS ESTEFANIA</td>\n",
       "      <td>7</td>\n",
       "      <td>10</td>\n",
       "      <td>12</td>\n",
       "      <td>14</td>\n",
       "      <td>17</td>\n",
       "      <td>25</td>\n",
       "      <td>28</td>\n",
       "      <td>30</td>\n",
       "      <td>37</td>\n",
       "      <td>48</td>\n",
       "    </tr>\n",
       "    <tr>\n",
       "      <th>21</th>\n",
       "      <td>ROSILLO TEJADA VANESA</td>\n",
       "      <td>12</td>\n",
       "      <td>22</td>\n",
       "      <td>23</td>\n",
       "      <td>27</td>\n",
       "      <td>28</td>\n",
       "      <td>30</td>\n",
       "      <td>34</td>\n",
       "      <td>36</td>\n",
       "      <td>40</td>\n",
       "      <td>44</td>\n",
       "    </tr>\n",
       "    <tr>\n",
       "      <th>22</th>\n",
       "      <td>SANCHEZ PADILLA SILVESTRE</td>\n",
       "      <td>4</td>\n",
       "      <td>7</td>\n",
       "      <td>15</td>\n",
       "      <td>22</td>\n",
       "      <td>32</td>\n",
       "      <td>34</td>\n",
       "      <td>38</td>\n",
       "      <td>43</td>\n",
       "      <td>48</td>\n",
       "      <td>53</td>\n",
       "    </tr>\n",
       "    <tr>\n",
       "      <th>23</th>\n",
       "      <td>SILVA ROYERO MAILY CRISTINA</td>\n",
       "      <td>4</td>\n",
       "      <td>5</td>\n",
       "      <td>12</td>\n",
       "      <td>13</td>\n",
       "      <td>20</td>\n",
       "      <td>25</td>\n",
       "      <td>30</td>\n",
       "      <td>35</td>\n",
       "      <td>42</td>\n",
       "      <td>54</td>\n",
       "    </tr>\n",
       "    <tr>\n",
       "      <th>24</th>\n",
       "      <td>USUGA GEORGE JHON ESTIVEN</td>\n",
       "      <td>5</td>\n",
       "      <td>7</td>\n",
       "      <td>8</td>\n",
       "      <td>10</td>\n",
       "      <td>22</td>\n",
       "      <td>37</td>\n",
       "      <td>39</td>\n",
       "      <td>42</td>\n",
       "      <td>44</td>\n",
       "      <td>51</td>\n",
       "    </tr>\n",
       "  </tbody>\n",
       "</table>\n",
       "</div>"
      ],
      "text/plain": [
       "                              Student  Exer1  Exer2  Exer3  Exer4  Exer5  \\\n",
       "0   AMARIS FERNANDEZ SEBASTIAN CAMILO      4      7      9     17     21   \n",
       "1       ARENAS HERAZO GABRIEL ENRIQUE      2      5     11     17     26   \n",
       "2        AYALA MENDOZA MARISOL YACIRA     10     18     21     37     39   \n",
       "3          BERTEL RODELO MICHELL SMIT      4      8     20     26     28   \n",
       "4            BULA VERGARA MARIA PAULA     12     13     20     23     25   \n",
       "5             CANTILLO ENSUCHO DANIEL      2      4      5      7     15   \n",
       "6            CERVANTES DURAN ANGELICA      2      4      5     14     17   \n",
       "7             GUERRA NORIEGA YONATHAN      3     20     24     26     28   \n",
       "8     HINCAPIE CASTRO JOHAN SEBASTIAN     10     17     27     28     29   \n",
       "9              HUMANEZ SANCHEZ CAMILO      3     16     19     24     33   \n",
       "10       IBAÑEZ MORENO FRANCISCO LUIS      3      8     13     16     21   \n",
       "11          MASS MIRANDA RIVALDO JOSE      2      3     12     13     23   \n",
       "12     MIRANDA MARTINEZ CARLOS ANDRES     10     12     21     24     25   \n",
       "13              MONTERROSA SOTO ABRIL     10     14     16     18     28   \n",
       "14           NORIEGA JIMENEZ GABRIELA      4     13     14     16     19   \n",
       "15             PEREZ REYES IVAN DARIO     17     19     23     26     30   \n",
       "16               PEREZ THERAN ERLINDA      3      6     19     21     25   \n",
       "17              PINEDA ROMERO YOSMERI      2     30     31     32     35   \n",
       "18         QUINONEZ CERVANTES MARIANA      5      6      8     13     15   \n",
       "19                 RAMOS PEREZ YANINE     11     20     21     28     29   \n",
       "20              RIVAS HOYOS ESTEFANIA      7     10     12     14     17   \n",
       "21              ROSILLO TEJADA VANESA     12     22     23     27     28   \n",
       "22          SANCHEZ PADILLA SILVESTRE      4      7     15     22     32   \n",
       "23        SILVA ROYERO MAILY CRISTINA      4      5     12     13     20   \n",
       "24          USUGA GEORGE JHON ESTIVEN      5      7      8     10     22   \n",
       "\n",
       "    Exer6  Exer7  Exer8  Exer9  Exer10  \n",
       "0      30     39     44     51      54  \n",
       "1      28     32     40     46      50  \n",
       "2      45     46     47     51      52  \n",
       "3      33     40     41     42      47  \n",
       "4      27     29     30     34      48  \n",
       "5      25     27     33     46      51  \n",
       "6      19     22     24     34      52  \n",
       "7      35     39     48     49      53  \n",
       "8      32     36     44     48      54  \n",
       "9      41     43     44     47      49  \n",
       "10     27     28     31     42      43  \n",
       "11     24     31     35     46      52  \n",
       "12     26     27     29     39      50  \n",
       "13     30     35     36     42      50  \n",
       "14     22     36     37     46      51  \n",
       "15     33     34     40     46      53  \n",
       "16     30     32     39     42      45  \n",
       "17     36     37     42     47      50  \n",
       "18     32     33     42     46      49  \n",
       "19     37     39     44     46      52  \n",
       "20     25     28     30     37      48  \n",
       "21     30     34     36     40      44  \n",
       "22     34     38     43     48      53  \n",
       "23     25     30     35     42      54  \n",
       "24     37     39     42     44      51  "
      ]
     },
     "execution_count": 5,
     "metadata": {},
     "output_type": "execute_result"
    }
   ],
   "source": [
    "asignador_de_tareas(nombre_tarea, ubicacion_tarea):\n",
    "\n",
    "\n",
    "\n"
   ]
  },
  {
   "cell_type": "markdown",
   "id": "8d41fe58",
   "metadata": {
    "slideshow": {
     "slide_type": "slide"
    }
   },
   "source": [
    "# Horario de clases del profesor Marco\n",
    "\n",
    "* Lunes 8-12: Cálculo Vectorial\n",
    "* Martes 8-12 M: Fundamentos de Aritmética. \n",
    "* Miércoles 8 a 12 M: Fundamentos de la Lógica\n",
    "* Jueves 2 a 6 PM: Desarrollo del pensamiento matemático en la infancia. \n",
    "* Viernes 8 - 12 M: Desarrollo del pensamiento matemático en la infancia. \n",
    "* Sábados 8-12 Asesorías y espacio para retroalimentación y apoyo al trabajo independiente. "
   ]
  },
  {
   "cell_type": "markdown",
   "id": "ae114e14",
   "metadata": {
    "slideshow": {
     "slide_type": "slide"
    }
   },
   "source": [
    "# Horarios de monitoría y asesoría  \n",
    "\n",
    "Coordinador de los cursos de la Facultad de Educación para regiones:    \n",
    "\n",
    "Andrés Vélez: regioneducacion.fedu@udea.edu.co  \n",
    "Coordinador Regiones  \n",
    "Facultad de Educación  \n",
    "Universidad de Antioquia  "
   ]
  },
  {
   "cell_type": "markdown",
   "id": "b1db4b6c",
   "metadata": {
    "slideshow": {
     "slide_type": "slide"
    }
   },
   "source": [
    "## Monitor Manuel San Juan Serrano\n",
    "\n",
    "Contactar escribiendo al correo: manuel.serrano1@udea.edu.co"
   ]
  },
  {
   "cell_type": "markdown",
   "id": "39559692",
   "metadata": {
    "slideshow": {
     "slide_type": "slide"
    }
   },
   "source": [
    "Martes y jueves de 8 - 12  \n",
    "Miércoles 10 - 12 y de 2 a 4 PM  \n",
    "Sábado: 8 - 12"
   ]
  },
  {
   "cell_type": "markdown",
   "id": "5a190057",
   "metadata": {},
   "source": [
    "## Monitoría virtual   \n",
    "\n",
    "Telefono del monitos en whatsApp: 3043936088  \n",
    "\n",
    "Juan David Cano Castrillón  \n",
    "Estudiante de Pregrado.  \n",
    "juan.canoc1@udea.edu.co  \n",
    "3043936088  \n"
   ]
  },
  {
   "cell_type": "markdown",
   "id": "10bce0d0",
   "metadata": {
    "slideshow": {
     "slide_type": "slide"
    }
   },
   "source": [
    "## Referentes "
   ]
  },
  {
   "cell_type": "markdown",
   "id": "1db3c468",
   "metadata": {
    "slideshow": {
     "slide_type": "slide"
    }
   },
   "source": [
    "* [Grajales Vanegas, L. M., Restrepo Estrada, C. E., Restrepo Ochoa, S. I., & Ruíz De Villalba, F. (2015). Matemáticas I para las ciencias económicas.](https://github.com/marco-canas/fundamentos_de_la_aritmetica/blob/main/referentes/2_grajales_logica/grajales_lina_matemticas.pdf)\n",
    "  \n",
    "* Duval, R. (2004). Semiosis y pensamiento humano: registros semióticos y aprendizajes intelectuales. Universidad del Valle.\n",
    "\n",
    "* [Aylwin, C. U. (2011). Lógica, conjuntos y números. Universidad de los Andes, Consejo de Publicaciones, Colección: Ciencias Básicas, Serie: Matemáticas.](https://github.com/marco-canas/fundamentos_logica/blob/main/referentes/2_uzcategui/uscategui.pdf)\n",
    "  \n",
    "* [Chollet, F. (2021). Deep learning with Python. Simon and Schuster.](https://github.com/marco-canas/didactica_ciencia_datos/blob/main/2_referentes/chollet/Fran%C3%A7ois%20Chollet%20-%20Deep%20Learning%20with%20Python-Manning%20(2018).pdf)  \n",
    "  \n",
    "* [Watson, S., Stewart, J., & Redlin, L. (2009). Precálculo. Matemáticas para el cálculo.](https://github.com/marco-canas/calculo/blob/main/referents/1_precalculo_stewart/stewart_precalculo.pdf)  \n",
    "\n",
    "* [Purcell, E. J., Varberg, D., & Rigdon, S. E. (2007). Cálculo diferencial e integral. Pearson Educación.](https://github.com/marco-canas/calculo/blob/main/referents/purcell/purcell_calculo.pdf)\n",
    "\n",
    "  \n",
    "\n",
    "* [stewart cálculo](https://udeaeduco-my.sharepoint.com/:b:/g/personal/marco_canas_udea_edu_co/EZgXZjAp8QxPqOAim2hs6LcBNPLGjSHf-xwYnUVYkwa04w?e=RZdTCy)  \n",
    "\n",
    "* [larson](https://udeaeduco-my.sharepoint.com/:b:/g/personal/marco_canas_udea_edu_co/ES71ChFeO9ZDhW3TwC5Ijk8BjxUK3Pdqz_fjHxTTFAfIAg?e=VDEjfu)\n",
    "\n",
    "\n",
    "\n",
    "* [Recomendación de la UNESCO sobre ciencia abierta](https://unesdoc.unesco.org/ark:/48223/pf0000379949_spa)\n",
    "\n",
    "* [chatGPT](https://openai.com/blog/chatgpt)  \n",
    "\n",
    "* [Géron, A. (2017). Hands-on machine learning with scikit-learn and tensorflow: Concepts. Tools, and Techniques to build intelligent systems.](https://github.com/marco-canas/didactica_ciencia_datos/blob/main/2_referentes/geron/Hands-On%20Machine%20Learning-3nd_Edition(2022).pdf)  \n",
    "\n",
    "* [McKinney, W. (2012). Python for data analysis: Data wrangling with Pandas, NumPy, and IPython. \" O'Reilly Media, Inc.\".](https://github.com/marco-canas/didactica_ciencia_datos/blob/main/2_referentes/mckinney/Wes_McKinney.pdf)  "
   ]
  },
  {
   "cell_type": "markdown",
   "id": "8e65d6f9",
   "metadata": {},
   "source": [
    "# Como estudiante, encuentro que...   \n",
    "\n",
    "F: Mis Fortalezas son:     \n",
    "O: Mis Oportunidades son:    \n",
    "D: Mis Debilidades son:    \n",
    "A: Lo que Amenazas mi aprendizaje es:  "
   ]
  },
  {
   "cell_type": "markdown",
   "id": "6b9e56a8",
   "metadata": {
    "slideshow": {
     "slide_type": "slide"
    }
   },
   "source": [
    "### [Evaluamos al profesor Marco Cañas Aquí](https://forms.office.com/Pages/ResponsePage.aspx?id=IefhmYRxjkmK_7KtTlPBwkanXIs1i1FEujpsZgO6dXpUREJPV1kxUk1JV1ozTFJIQVNIQjY5WEY3US4u)"
   ]
  },
  {
   "cell_type": "markdown",
   "id": "10f43536",
   "metadata": {
    "slideshow": {
     "slide_type": "slide"
    }
   },
   "source": [
    "### Continue su aprendizaje en la siguiente clase a través del siguiente [vínculo]()"
   ]
  },
  {
   "cell_type": "markdown",
   "id": "ba236f4d",
   "metadata": {},
   "source": [
    "### **Actividad de Clase: Expresar Ideas, Dudas y Emociones de Manera Respetuosa y Asertiva**\n"
   ]
  },
  {
   "cell_type": "markdown",
   "id": "33bcd185",
   "metadata": {},
   "source": [
    "\n",
    "**Objetivo:**  \n",
    "Desarrollar habilidades de comunicación efectiva en los estudiantes para que puedan expresar sus ideas, dudas y emociones de forma respetuosa y asertiva.\n"
   ]
  },
  {
   "cell_type": "markdown",
   "id": "701a6b0c",
   "metadata": {},
   "source": [
    "\n",
    "**Duración:**  \n",
    "15-20 minutos\n",
    "\n",
    "---\n"
   ]
  },
  {
   "cell_type": "markdown",
   "id": "f61da648",
   "metadata": {},
   "source": [
    "\n",
    "### **1. Introducción (5 minutos)**  \n",
    "- **Tema:** Introducir a los estudiantes al concepto de la comunicación asertiva, explicando cómo expresar pensamientos y emociones de manera clara y respetuosa sin agredir o ser pasivo.\n",
    "- **Dinámica:** Mostrar dos ejemplos contrastantes: uno de comunicación pasiva/agresiva y otro de comunicación asertiva. Preguntar a los estudiantes cuál creen que es más efectivo y por qué.\n"
   ]
  },
  {
   "cell_type": "markdown",
   "id": "fb5fcc8d",
   "metadata": {},
   "source": [
    "\n",
    "**Materiales:**  \n",
    "- Pizarra o diapositivas con ejemplos de frases pasivas, agresivas y asertivas.\n",
    "  \n",
    "**Ejemplo:**  \n",
    "- **Pasivo:** “Bueno… no sé si es una buena idea, pero… tal vez podrías intentarlo.”\n",
    "- **Agresivo:** “¡Tu idea es terrible, no va a funcionar!”\n",
    "- **Asertivo:** “Creo que podríamos mejorar esa idea si consideramos otro enfoque.”\n",
    "\n",
    "---\n"
   ]
  },
  {
   "cell_type": "markdown",
   "id": "b5445d5e",
   "metadata": {},
   "source": [
    "\n",
    "### **2. Ejercicio en Parejas (10 minutos)**  \n",
    "- **Instrucciones:** Dividir a los estudiantes en parejas. Darles diferentes situaciones cotidianas en las que deben comunicarse (pedir ayuda, expresar desacuerdo, compartir una idea, etc.). Cada pareja debe crear una breve conversación donde practiquen la comunicación asertiva.\n",
    "  \n",
    "**Situaciones propuestas:**\n",
    "  - Expresar desacuerdo con un compañero sobre una tarea de grupo.\n",
    "  - Pedirle ayuda al profesor sobre un concepto difícil.\n",
    "  - Expresar frustración por un malentendido en clase.\n",
    "\n",
    "- **Reglas:** Cada estudiante debe asegurarse de usar lenguaje respetuoso y asertivo para expresar su posición y emociones. Al final, cada pareja debe compartir con la clase un ejemplo de lo que discutieron.\n",
    "\n",
    "---\n"
   ]
  },
  {
   "cell_type": "markdown",
   "id": "9bcd1b30",
   "metadata": {},
   "source": [
    "\n",
    "### **3. Retroalimentación y Discusión (5 minutos)**  \n",
    "- **Discusión:** Invitar a algunos estudiantes a compartir sus experiencias de la actividad. \n",
    "- **Preguntas:** ¿Cómo se sintieron al intentar ser asertivos? ¿Les resultó difícil? ¿Cómo fue recibido el mensaje?\n",
    "  \n",
    "**Consejo:** Resaltar la importancia de practicar la asertividad como una herramienta para mejorar la comunicación interpersonal y reducir conflictos.\n",
    "\n",
    "---\n"
   ]
  },
  {
   "cell_type": "markdown",
   "id": "512fe655",
   "metadata": {},
   "source": [
    "\n",
    "### **Cierre**  \n",
    "- Resumir las características de la comunicación asertiva: uso de \"yo\" en lugar de \"tú\" para evitar culpabilizar, tono de voz calmado, y respeto hacia el interlocutor.\n",
    "- **Tarea opcional:** Pedirles que practiquen la comunicación asertiva en sus conversaciones durante la semana y escriban una reflexión breve sobre cómo les fue.\n"
   ]
  },
  {
   "cell_type": "markdown",
   "id": "42b177d7",
   "metadata": {},
   "source": [
    "\n",
    "**Material adicional:**  \n",
    "- Video corto o recurso digital sobre la importancia de la comunicación asertiva."
   ]
  },
  {
   "cell_type": "markdown",
   "id": "53cc9115",
   "metadata": {
    "slideshow": {
     "slide_type": "slide"
    }
   },
   "source": [
    "## Agradecimientos  \n",
    "\n",
    "Doy gracias a Dios por la vida de mi Hijo Joseph Cañas Osorio y la madurez que ha alcanzado. Este hijo me enorgullece y me hace falta abrazarlo cada día. \n",
    "\n",
    "Y a mi esposa Yasmira Emperatriz Barboza Mogollón por su apoyo, orientación y acompañamiento. "
   ]
  },
  {
   "cell_type": "markdown",
   "id": "88f7dbda",
   "metadata": {},
   "source": []
  }
 ],
 "metadata": {
  "celltoolbar": "Slideshow",
  "kernelspec": {
   "display_name": "Python 3",
   "language": "python",
   "name": "python3"
  },
  "language_info": {
   "codemirror_mode": {
    "name": "ipython",
    "version": 3
   },
   "file_extension": ".py",
   "mimetype": "text/x-python",
   "name": "python",
   "nbconvert_exporter": "python",
   "pygments_lexer": "ipython3",
   "version": "3.12.7"
  },
  "rise": {
   "enable_chalkboard": true,
   "theme": "sky",
   "transition": "zoom"
  }
 },
 "nbformat": 4,
 "nbformat_minor": 5
}
