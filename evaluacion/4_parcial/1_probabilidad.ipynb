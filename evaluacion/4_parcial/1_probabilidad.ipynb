{
 "cells": [
  {
   "cell_type": "markdown",
   "id": "dc06dec7",
   "metadata": {
    "slideshow": {
     "slide_type": "slide"
    }
   },
   "source": [
    "<table align=\"left\">\n",
    "  <td>\n",
    "    <a href=\"https://colab.research.google.com/github/marco-canas/calculo/blob/main/evaluacion/4_parcial/1_probabilidad.ipynb\" target=\"_parent\"><img src=\"https://colab.research.google.com/assets/colab-badge.svg\" alt=\"Open In Colab\"/></a>\n",
    "  </td>\n",
    "  <td>\n",
    "    <a target=\"_blank\" href=\"https://kaggle.com/kernels/welcome?src=https://github.com/marco-canas/calculo/blob/main/evaluacion/4_parcial/1_probabilidad.ipynb\"><img src=\"https://kaggle.com/static/images/open-in-kaggle.svg\" /></a>\n",
    "  </td>\n",
    "</table>"
   ]
  },
  {
   "cell_type": "markdown",
   "id": "e0c5b198",
   "metadata": {
    "slideshow": {
     "slide_type": "slide"
    }
   },
   "source": [
    "### [Video de apoyo a la lectura interactiva y experimental de este cuaderno]()"
   ]
  },
  {
   "cell_type": "markdown",
   "id": "41e82203",
   "metadata": {
    "slideshow": {
     "slide_type": "slide"
    }
   },
   "source": [
    "### [Vínculo al programa del curso:  ]()\n",
    "\n"
   ]
  },
  {
   "cell_type": "markdown",
   "id": "d11ab06d",
   "metadata": {
    "slideshow": {
     "slide_type": "slide"
    }
   },
   "source": [
    "Un reconocimiento a mis estudiantes que han construido conmigo este saber pedagógico:\n",
    "\n",
    "<img src = 'https://github.com/marco-canas/calculo/blob/main/images/agro_jornadas_invest_2024-10-31.jpeg?raw=true'> \n",
    "\n"
   ]
  },
  {
   "cell_type": "code",
   "execution_count": 1,
   "id": "bc0addfe",
   "metadata": {},
   "outputs": [
    {
     "data": {
      "text/plain": [
       "'C:\\\\Users\\\\marco\\\\Documentos\\\\docencia\\\\Proceso de Análisis de Temperatura.pdf'"
      ]
     },
     "execution_count": 1,
     "metadata": {},
     "output_type": "execute_result"
    }
   ],
   "source": [
    "from graphviz import Digraph\n",
    "\n",
    "# Crear un nuevo grafo dirigido\n",
    "dot = Digraph()\n",
    "\n",
    "# Título principal del mapa conceptual\n",
    "main_concept = 'Proceso de Análisis de Temperatura'\n",
    "dot.node('A', main_concept)\n",
    "\n",
    "# Nodos principales del flujo\n",
    "dot.node('B', 'Obtención de Datos del IDEAM')\n",
    "dot.node('C', 'Visualización Tabular con DataFrame')\n",
    "dot.node('D', 'Visualización con Histograma (Seaborn)')\n",
    "dot.node('E', 'Modelación con scipy.stats.norm.fit()')\n",
    "dot.node('F', 'Determinación de Probabilidad')\n",
    "\n",
    "# Nodos secundarios\n",
    "dot.node('B1', 'Conexión al servidor IDEAM')\n",
    "dot.node('B2', 'Descarga de datos en formato CSV')\n",
    "dot.node('C1', 'Carga de datos en Pandas DataFrame')\n",
    "dot.node('C2', 'Inspección: .head(), .describe()')\n",
    "dot.node('D1', 'Uso de sns.histplot()')\n",
    "dot.node('D2', 'Configuración de bins y etiquetas')\n",
    "dot.node('E1', 'Ajuste de parámetros μ y σ')\n",
    "dot.node('E2', 'Validación con gráficos de ajuste')\n",
    "dot.node('F1', 'Uso de scipy.stats.norm.cdf()')\n",
    "dot.node('F2', 'Cálculo para un rango de interés')\n",
    "\n",
    "# Relaciones entre nodos principales y secundarios\n",
    "edges = [\n",
    "    ('A', 'B'), ('B', 'C'), ('C', 'D'), ('D', 'E'), ('E', 'F'),\n",
    "    ('B', 'B1'), ('B1', 'B2'), ('B2', 'C1'), ('C1', 'C2'),\n",
    "    ('C2', 'D1'), ('D1', 'D2'), ('D2', 'E1'), ('E1', 'E2'),\n",
    "    ('E2', 'F1'), ('F1', 'F2')\n",
    "]\n",
    "\n",
    "# Añadir las aristas al grafo\n",
    "dot.edges(edges)\n",
    "\n",
    "# Guardar y visualizar el mapa conceptual\n",
    "dot.render(filename=main_concept, format='png', cleanup=True, \\\n",
    "           directory='C:/Users/marco/Documentos/docencia/')\n",
    "\n",
    "dot.view()\n"
   ]
  },
  {
   "cell_type": "markdown",
   "id": "239427f7",
   "metadata": {},
   "source": [
    "## Diseño de parcial sobre Aplicaciones de la integral definida al cálculo de probabilidad   \n",
    "\n",
    "En teoría de confiabilidad, con frecuencia la variable aleatoria es la vida de un componente, y la función de distribución de probabilidad de la variable aleatorial tiempo de vida de algún artículo, tal como la batería de una laptop. "
   ]
  },
  {
   "cell_type": "markdown",
   "id": "0d8171e8",
   "metadata": {},
   "source": [
    "La FDP puede usarse para determinar las probabilidades y esperanzas respecto al tiempo de vida. "
   ]
  },
  {
   "cell_type": "markdown",
   "id": "3afbfe4f",
   "metadata": {},
   "source": [
    "Entonces, suponga que el tiempo de vida, en horas, de una batería es una variable aleatoria continua $X$ que tiene FDP  \n",
    "\n",
    "$$ f(x) = \\begin{cases} \\frac{12}{625} x^{2}(5-x) & \\text{Si } 0 \\leq x \\leq 5 \\\\ \n",
    "0, & \\text{en otro caso}  \\end{cases} $$  \n",
    "\n",
    "(a) Verifique que esto es una Fúnción de Distribución de probabilidad (FDP) válida y dibuje su gráfica.  \n",
    "(b) Determine la probabilidad de que la batería dure al menos tres horas.  \n",
    "(c) Determine el valor esperado del tiempo de vida.  \n",
    "(d) Determine y dibuje una gráfica de la FDA.  "
   ]
  },
  {
   "cell_type": "markdown",
   "id": "ec048afb",
   "metadata": {},
   "source": [
    "# Tema de parcial 1  \n",
    "\n",
    "### Diseño de Parcial - Tema: Probabilidad en Ciencias Agrarias\n",
    "\n",
    "**Instrucciones:** Responda cada uno de los puntos planteados en los ejercicios. Justifique cada paso, mostrando las fórmulas, cálculos y razonamientos utilizados.\n",
    "\n",
    "---\n",
    "\n",
    "**Punto 1: Producción de un cultivo agrícola**  \n",
    "La cantidad de producción diaria (en toneladas) de un cultivo agrícola en una finca es una variable aleatoria continua $X$ con la siguiente función de densidad de probabilidad (FDP):  \n",
    "\n",
    "$$\n",
    "f(x) = \n",
    "\\begin{cases} \n",
    "\\frac{1}{25} (5-x), & \\text{si } 0 \\leq x \\leq 5, \\\\ \n",
    "0, & \\text{en otro caso}.\n",
    "\\end{cases}\n",
    "$$\n",
    "\n",
    "(a) Verifique que esto es una FDP válida y dibuje su gráfica.  \n",
    "(b) Determine la probabilidad de que la producción diaria supere las 3 toneladas.  \n",
    "(c) Calcule la producción promedio diaria esperada.  \n",
    "(d) Determine y grafique la función de distribución acumulativa (FDA).\n",
    "\n",
    "---\n"
   ]
  },
  {
   "cell_type": "markdown",
   "id": "637de5fc",
   "metadata": {},
   "source": [
    "\n",
    "**Punto 2: Vida útil de un pesticida**  \n",
    "El tiempo de degradación (en semanas) de un pesticida en el suelo sigue la siguiente función de densidad de probabilidad:  \n",
    "\n",
    "$$\n",
    "f(x) = \n",
    "\\begin{cases} \n",
    "\\frac{3}{64} x^2, & \\text{si } 0 \\leq x \\leq 4, \\\\ \n",
    "0, & \\text{en otro caso}.\n",
    "\\end{cases}\n",
    "$$\n",
    "\n",
    "(a) Verifique que esta función es una FDP válida y grafíquela.  \n",
    "(b) Determine la probabilidad de que el pesticida se degrade en menos de 2 semanas.  \n",
    "(c) Encuentre el tiempo promedio de degradación esperado.  \n",
    "(d) Determine y grafique la FDA asociada.\n",
    "\n",
    "---\n"
   ]
  },
  {
   "cell_type": "markdown",
   "id": "cc213d66",
   "metadata": {},
   "source": [
    "\n",
    "**Punto 3: Tamaño de frutos en una cosecha**  \n",
    "El tamaño (en milímetros) de frutos seleccionados al azar en una cosecha tiene una distribución con la siguiente FDP:  \n",
    "\n",
    "$$\n",
    "f(x) = \n",
    "\\begin{cases} \n",
    "\\frac{6}{125} x (5-x), & \\text{si } 0 \\leq x \\leq 5, \\\\ \n",
    "0, & \\text{en otro caso}.\n",
    "\\end{cases}\n",
    "$$\n",
    "\n",
    "(a) Verifique que esta función es una FDP válida y dibuje su gráfica.  \n",
    "(b) Calcule la probabilidad de que el tamaño de los frutos esté entre 2 y 4 mm.  \n",
    "(c) Determine el tamaño promedio de los frutos.  \n",
    "(d) Determine y grafique la FDA.\n",
    "\n",
    "---\n"
   ]
  },
  {
   "cell_type": "markdown",
   "id": "2df79ca4",
   "metadata": {},
   "source": [
    "\n",
    "**Punto 4: Consumo de agua en un sistema de riego**  \n",
    "El consumo de agua diario (en litros) en un sistema de riego automático sigue la distribución:  \n",
    "\n",
    "$$\n",
    "f(x) = \n",
    "\\begin{cases} \n",
    "\\frac{1}{50} e^{-x/50}, & \\text{si } x \\geq 0, \\\\ \n",
    "0, & \\text{en otro caso}.\n",
    "\\end{cases}\n",
    "$$\n",
    "\n",
    "(a) Verifique que esta función es una FDP válida.  \n",
    "(b) Determine la probabilidad de que el sistema consuma más de 60 litros de agua en un día.  \n",
    "(c) Encuentre el consumo promedio de agua esperado.  \n",
    "(d) Determine y grafique la FDA.  \n",
    "\n",
    "---\n"
   ]
  },
  {
   "cell_type": "markdown",
   "id": "290df91f",
   "metadata": {},
   "source": [
    "Sugerencia:   \n",
    "\n",
    "$$ \\int_{a}^{\\infty} \\frac{1}{k}e^{-x/k} \\, dx = \\lim_{b \\to \\infty}  -\\int_{a}^{b} \\frac{-1}{k}e^{-x/k} \\, dx  $$\n"
   ]
  },
  {
   "cell_type": "markdown",
   "id": "3c470295",
   "metadata": {},
   "source": [
    "\n",
    "$$ = \\lim_{b \\to \\infty}  \\int_{b}^{a} \\frac{-1}{k}e^{-x/k} \\, dx  = \\lim_{b \\to \\infty} \\left[ e^{-x/k} \\right]_{b}^{a} = e^{-a/k} $$"
   ]
  },
  {
   "cell_type": "markdown",
   "id": "d58cf499",
   "metadata": {},
   "source": [
    "\n",
    "**Criterios de Evaluación:**  \n",
    "- Comprensión y aplicación correcta de conceptos de probabilidad.  \n",
    "- Claridad en las gráficas y justificación matemática.  \n",
    "- Organización y presentación de los cálculos."
   ]
  },
  {
   "cell_type": "markdown",
   "id": "422a5947",
   "metadata": {},
   "source": [
    "# Segundo tema de parcial  sobre aplicaciones de la integral defoinida al cálculo de probabilidades  \n",
    "\n",
    "## Elementos a evaluar  \n",
    "\n",
    "En muchas situaciones, el resultado de un experimento varía de un ensayo al siguiente.  \n",
    "  \n"
   ]
  },
  {
   "cell_type": "markdown",
   "id": "b451ec8a",
   "metadata": {},
   "source": [
    "Por ejemplo, al lanzar una moneda algunas veces caerá cara y otras, cruz; un lanzador de las ligas mayores puede lanzar 2 entradas en un juego y 7 en otro; una batería de un automóvil puede durar 20 meses y otra, 40 meses. "
   ]
  },
  {
   "cell_type": "markdown",
   "id": "61141b55",
   "metadata": {},
   "source": [
    "Decimos que el resultado de un experimento es aleatorio si el resultado varía de un ensayo a otro, pero que a la larga, esto es, después de un número grande de repeticiones, existe una distribución regular de los resultados.  \n",
    "Algunos resultados ocurren de forma frecuente, tal como la llegada segura a su destino después de un vuelo, mientras que algunos eventos ocurren rara vez, como ganar en la lotería. Utilizamos la probabilidad para medir qué tan probables son los resultados o eventos (conjunto de resultados). "
   ]
  },
  {
   "cell_type": "markdown",
   "id": "9c504318",
   "metadata": {},
   "source": [
    "Un evento que es casi seguro que suceda tiene una probabilidad cercana a 1. "
   ]
  },
  {
   "cell_type": "markdown",
   "id": "c07af368",
   "metadata": {},
   "source": [
    "Un evento que raramente ocurre tiene probabilidad cercana a cero. "
   ]
  },
  {
   "cell_type": "markdown",
   "id": "7d48c92b",
   "metadata": {},
   "source": [
    "Un evento que es tan probable que suceda como de que no ocurra, como obtener una cara en el lanzamiento de una moneda balanceada, tendrá una probabilidad\n",
    "de En general, la probabilidad de un evento es la proporción de veces que el evento ocurrirá en una sucesión grande de ensayos. "
   ]
  },
  {
   "cell_type": "markdown",
   "id": "9a5b9aea",
   "metadata": {},
   "source": [
    "Si $A$ es un evento, esto es, un conjunto de posibles resultados, entonces denotamos la probabilidad de $A$ por $P(A)$. "
   ]
  },
  {
   "cell_type": "markdown",
   "id": "db3d2b80",
   "metadata": {},
   "source": [
    "Las probabilidades deben satisfacer las siguientes propiedades:  \n"
   ]
  },
  {
   "cell_type": "markdown",
   "id": "272ed5d7",
   "metadata": {},
   "source": [
    "\n",
    "1. $0 \\leq P(A) \\leq 1$ para todo evento $A$.\n",
    "2. Si S es el conjunto de todos los resultados posibles, denominado espacio muestral,\n",
    "entonces $P(S) = 1$.\n",
    "3. Si los eventos A y B son disjuntos, esto es, no tienen resultados en común, entonces $P(A o B) = P(A) + P(B)$. (En realidad, se requiere una condición más fuerte,\n",
    "pero por ahora esto funcionará).  \n",
    "\n",
    "Con estos enunciados podemos deducir lo siguiente: si $A^{c}$ denota al complemento del evento A, esto es, el conjunto de todos los resultados en el espacio muestral S que no están en el evento A, entonces $P(A^{c}) = 1 - P(A)$. Además, si $A_{1}, A_{2}, \\ldots , A_{n}$ son disjuntos,\n",
    "entonces $P(A1 o A2 o \\cdots o An) = P(A1) + P(A2) + \\cdots + P(An)$.\n",
    "Una regla que asigna un valor numérico al resultado de un experimento se denomina variable aleatoria. Es costumbre utilizar letras mayúsculas para denotar a las variables aleatorias y letras minúsculas para denotar valores posibles o reales para las variables aleatorias. Por ejemplo, nuestro experimento podría ser el lanzamiento de tres monedas balanceadas. En este caso, el espacio muestral es el conjunto $\\{HHH,\n",
    "HHT, HTH, THH, HTT,THT, TTH, TTT\\}$. Podríamos definir la variable aleatoria X como el número de caras en los tres lanzamientos. La distribución de probabilidad de X, esto es, una lista de todos los valores posibles de X, junto con sus probabilidades correspondientes, se mostrará en una tabla como la siguiente.\n"
   ]
  },
  {
   "cell_type": "markdown",
   "id": "209ca2d9",
   "metadata": {},
   "source": [
    "\n",
    "|x|P(x)|  \n",
    "|-|----|  \n",
    "|0|1/8|\n",
    "|1|3/8|\n",
    "|2|3/8|\n",
    "|3|1/8|  \n"
   ]
  },
  {
   "cell_type": "markdown",
   "id": "14ed9d09",
   "metadata": {},
   "source": [
    "\n",
    "Un concepto importante en probabilidad y estadística es el de la esperanza de una variable aleatoria. "
   ]
  },
  {
   "cell_type": "markdown",
   "id": "2378589f",
   "metadata": {},
   "source": [
    "Para motivar la definición, que se dará más adelante, considere el siguiente\n",
    "experimento. Imagine el lanzamiento repetido de tres monedas a la vez. Para\n",
    "ilustrar esto, suponga que las tres monedas se lanzarán 10,000 veces. Por medio de\n",
    "nuestra definición de probabilidad, “esperamos” ver cero caras un octavo de las veces\n",
    "en los ensayos, esto es veces en una secuencia de 10,000. "
   ]
  },
  {
   "cell_type": "markdown",
   "id": "399abbca",
   "metadata": {},
   "source": [
    "De forma análoga, esperaríamos ocurrencias de una cara, ocurrencias de dos caras y ocurrencias de tres caras."
   ]
  },
  {
   "cell_type": "markdown",
   "id": "2817c6d8",
   "metadata": {},
   "source": [
    " ¿Cuántas caras en total esperaríamos ver en 10,000 lanzamientos de 3 monedas? "
   ]
  },
  {
   "cell_type": "markdown",
   "id": "58854425",
   "metadata": {},
   "source": [
    "Esperaríamos \n",
    "cero caras 1250 veces, para un total de 0 caras,\n",
    "una cara 3750 veces, para un total de 3750 caras,\n",
    "dos caras 3750 veces, para un total de 7500 caras,\n",
    "tres caras 1250 veces, para un total de 3750 caras.  \n",
    "En total, esperaríamos 0 + 3759 + 7500 + 3750 = 15,000 caras. Por lo tanto, esperamos\n",
    "15,000>10,000 = 1.5 caras por ensayo (lanzamiento de tres monedas). Un poco de reflexión\n",
    "sobre los cálculos sugiere que 10,000 es arbitrario y que se eliminará de todos\n",
    "modos. Multiplicamos cada probabilidad por 10,000 para obtener la frecuencia esperada,\n",
    "pero luego dividimos entre 10,000. Esto es,   \n",
    "\n",
    "\n",
    "Definición Esperanza de una variable aleatoria\n",
    "Si X es una variable aleatoria con distribución de probabilidad\n",
    "x\n",
    "entonces la esperanza de X, denotada por E(X), que también se denomina media de\n",
    "X y se denota con m, es\n",
    "m = E1X2 = x1p1 + x2p2 + Á + xnpn = a\n",
    "n\n",
    "i=1\n",
    "xipi  \n",
    "\n",
    "■ EJEMPLO 1 Se fabrican 20 piezas de plástico a la vez, por medio de la inyección\n",
    "de plástico a un molde. Se inspeccionan las 20 piezas para buscar defectos tales como\n",
    "huecos (burbujas dentro de la pieza) y fracturas. Suponga que la distribución de probabilidad\n",
    "para el número de piezas defectuosas de las 20 está dada en la siguiente tabla.  \n",
    "\n",
    "Determine (a) la probabilidad de que un lote de 20 piezas tenga al menos una pieza defectuosa\n",
    "y (b) el número esperado de piezas defectuosas por lote de 20.\n",
    "SOLUCIÓN\n",
    "(a)\n",
    "(b) El valor esperado para el número de piezas defectuosas es\n",
    "Por lo tanto, en promedio esperaríamos 0.15 piezas defectuosas por lote.  \n",
    "\n",
    "Hasta ahora, en esta sección hemos tratado con variables aleatorias en donde el número de valores posibles es finito; esta situación es análoga a tener masas puntuales\n",
    "en la sección anterior. Existen otras situaciones en donde hay un número infinito de\n",
    "posibles resultados. Si el conjunto de valores posibles de una variable aleatoria X es\n",
    "finito, tal como {x1, x2, . . . , xn}, o es infinito, pero puede ponerse en una lista, tal como\n",
    "{x1, x2, . . .}, entonces se dice que la variable aleatoria X es discreta. Si una variable aleatoria\n",
    "Xpuede tomar cualquier valor en algún intervalo de números reales, entonces decimos\n",
    "que X es una variable aleatoria continua. Existe una gran cantidad de situaciones en\n",
    "donde, al menos teóricamente, el resultado puede ser cualquier número real en un intervalo:\n",
    "por ejemplo, el tiempo de espera para la luz de alto, la masa de una pieza moldeada\n",
    "o el tiempo de vida de una batería. En la práctica, por supuesto, cada medida se\n",
    "redondea; por ejemplo, al segundo, miligramo, día, etcétera, más cercano. En situaciones\n",
    "como ésta, la variable aleatoria en realidad es discreta (con muchos posibles resultados),\n",
    "pero, con frecuencia, una variable aleatoria continua es una buena aproximación.\n",
    "Las variables aleatorias continuas se estudian de una manera análoga a la distribución\n",
    "continua de masa de la sección anterior. Para una variable aleatoria continua\n",
    "debemos especificar la función de densidad de probabilidad (FDP). Una FDP para\n",
    "una variable aleatoria X que toma valores en el intervalo [A, B] es una función que satisface\n",
    "1. $f(x) \\geq 0$ \n",
    "2. $\\int_{A}^{B} f(x) \\, dx$\n",
    "3. $P(a \\leq x \\leq b) = \\int_{a}_{b}f(x) \\, dx$  para toda $a, b$ $(a \\leq b)$ en el intervalo $[A, B]$\n",
    "La tercera propiedad dice que podemos determinar probabilidades para una variable aleatoria continua determinando áreas bajo la FDP (véase la figura 1). Es costumbre\n",
    "definir a la FDP como cero fuera del intervalo [A, B].\n",
    "El valor esperado, o media, de una variable aleatoria continua X es\n",
    "Al igual que en el caso de las variables aleatorias discretas, ésta es análoga al centro de\n",
    "masa de un objeto con densidad variable:\n",
    "■ EJEMPLO 2 Una variable aleatoria continua X tiene FDP\n",
    "$$ f(x) = \\begin{cases} \\frac{1}{10} & \\text{si } 0 \\leq X \\leq 10 \\\\ 0 & \\text{de lo contrario} \\end{cases} $$\n",
    "\n",
    "Determine (a) $P(1 \\leq X \\leq 9)$ (b) $P(X \\leq 4)$ (c) E(X).\n",
    "SOLUCIÓN La variable aleatoria X toma valores en [0, 10].\n",
    "(a) \n",
    "(b)\n",
    "(c) $E(X) $\n",
    "¿Son razonables estas respuestas? La variable aleatoria X se distribuye de manera uniforme en el intervalo $[0, 10]$, por lo que 80% de la probabilidad debe estar entre 1 y 9, al igual que 80% de la masa de una varilla uniforme estaría entre 1 y 9. Por simetría, esperaríamos que la media, o esperanza, de X sea 5, al igual que esperaríamos que el centro de masa de una barra uniforme de longitud 10 se encuentre a 5 unidades de cualquiera de los extremos. ■  \n",
    "\n",
    "Una función relacionada estrechamente con la FDP es la función de distribución acumulada (FDA) que, para una variable aleatoria X, es la función F definida por  \n",
    "$$  $$\n",
    "Esta función está definida tanto para variables aleatorias discretas como continuas.\n",
    "Para una variable aleatoria discreta como la dada en el ejemplo 1, la FDA es una función\n",
    "escalonada que da un salto de pi = P(X = xi) en el valor xi (véase el problema 33).\n",
    "Para una variable aleatoria continua X que toma valores en el intervalo [A, B] y que\n",
    "tiene FDP f (x), la FDA es igual a la integral definida (véase la figura 2), Para x 6 A, la FDA F(x) es cero, ya que la probabilidad de que sea menor o igual a un valor menor que A es cero. De forma análoga, para x 7 B, la FDA es uno, ya que la probabilidad de que sea menor o igual a un valor que es mayor a B es uno.  \n",
    "\n",
    "En el capítulo 4 utilizamos el término función de acumulación para referirnos a\n",
    "una función definida de esta manera. La FDA se define como el área acumulada bajo\n",
    "la FDP, por lo que es una función de acumulación. El siguiente teorema da varias propiedades\n",
    "de la FDA. Las demostraciones son sencillas y se dejan como ejercicios. (Véase\n",
    "el problema 19).  \n",
    "\n",
    "Sea X una variable aleatoria continua que toma valores en el intervalo [A, B] y que\n",
    "tiene FDP $f(x)$ y $FDA$ $F(x)$. Entonces\n",
    "1. $F'(x) = f(x)$  \n",
    "2. $F(A) = 0$ y $F(B) = 1$. \n",
    "3. P(a \\leq X \\leq b) = F1b2 - F1a2  \n",
    "\n",
    "## Ejercicios propuestos: \n",
    "\n",
    "El índice diario de calidad del aire en verano (ICA) en San Luis, Missouri, es una variable aleatoria cuya FDP es $f(x) = kx^{2}(180 - x), 0 \\leq x \\leq 180.$\n",
    "(a) Determine el valor de k que hace de $f (x)$ una FDP válida.\n",
    "(b) Cierto día es de “alerta anaranjada”, si el ICA está entre 100 y 150.\n",
    "¿Cuál es la probabilidad de que un día de verano sea de alerta\n",
    "anaranjada?\n",
    "(c) Determine el valor esperado del ICA de verano.\n"
   ]
  },
  {
   "cell_type": "markdown",
   "id": "47829b26",
   "metadata": {},
   "source": [
    "### **Taller práctico: Generación, visualización y modelado de datos meteorológicos en la región del Bajo Cauca Antioqueño**  \n"
   ]
  },
  {
   "cell_type": "markdown",
   "id": "a3b45a44",
   "metadata": {},
   "source": [
    "\n",
    "**Dirigido a:** Estudiantes de Ingeniería Agropecuaria  \n",
    "**Duración:** 3 horas  \n",
    "**Modalidad:** Laboratorio práctico en Jupyter Notebook  \n",
    "\n",
    "---\n"
   ]
  },
  {
   "cell_type": "markdown",
   "id": "e5cb433d",
   "metadata": {},
   "source": [
    "\n",
    "### **Objetivos del taller:**  \n",
    "1. Enseñar a los estudiantes a generar datos artificiales que simulen variables meteorológicas de la región del Bajo Cauca Antioqueño.  \n",
    "2. Visualizar y analizar la distribución de los datos generados.  \n",
    "3. Determinar la función de distribución de probabilidad de cada variable meteorológica.  \n",
    "4. Calcular probabilidades de eventos meteorológicos utilizando integración numérica.\n",
    "\n",
    "---\n"
   ]
  },
  {
   "cell_type": "markdown",
   "id": "36d343f3",
   "metadata": {},
   "source": [
    "\n",
    "### **Materiales necesarios:**  \n",
    "- Computador con Python instalado (Jupyter Notebook).  \n",
    "- Bibliotecas: `numpy`, `matplotlib`, `seaborn`, `scipy`.  \n",
    "- Conexión a internet para consultar documentación y buscar inspiración en ejemplos adicionales.\n",
    "\n",
    "---\n"
   ]
  },
  {
   "cell_type": "markdown",
   "id": "28f789d3",
   "metadata": {},
   "source": [
    "\n",
    "### **Estructura del taller:**  \n",
    "\n",
    "#### **Parte 1: Generación de datos artificiales (45 minutos)**  \n",
    "**Concepto clave:** Uso de distribuciones estadísticas para simular datos meteorológicos.  \n",
    "\n",
    "**Actividades:**  \n",
    "1. **Introducción breve a la región del Bajo Cauca y sus características climáticas.**  \n",
    "   - Contexto de las variables: temperatura (°C), precipitación (mm), velocidad del viento (m/s), presión atmosférica (hPa).  \n",
    "2. **Código base para generación de datos:**  \n",
    "   - Distribución normal para la temperatura: media = 27°C, desviación estándar = 3°C.  \n",
    "   - Distribución exponencial para la precipitación: media = 10 mm/día.  \n",
    "   - Distribución de Weibull para la velocidad del viento: forma = 2, escala = 3 m/s.  \n",
    "   - Distribución normal para la presión atmosférica: media = 1013 hPa, desviación estándar = 10 hPa.  \n",
    "\n",
    "**Ejemplo de código:**  \n"
   ]
  },
  {
   "cell_type": "code",
   "execution_count": 7,
   "id": "32ad7348",
   "metadata": {},
   "outputs": [],
   "source": [
    "datos_reales_temperatura_ideam = pd.read_csv(\"C:/Users/marco/Documentos/docencia/ideam/temperatura_ideam/Temperatura_Max_20241124.csv\")"
   ]
  },
  {
   "cell_type": "code",
   "execution_count": 8,
   "id": "c7b3ea94",
   "metadata": {},
   "outputs": [
    {
     "data": {
      "text/html": [
       "<div>\n",
       "<style scoped>\n",
       "    .dataframe tbody tr th:only-of-type {\n",
       "        vertical-align: middle;\n",
       "    }\n",
       "\n",
       "    .dataframe tbody tr th {\n",
       "        vertical-align: top;\n",
       "    }\n",
       "\n",
       "    .dataframe thead th {\n",
       "        text-align: right;\n",
       "    }\n",
       "</style>\n",
       "<table border=\"1\" class=\"dataframe\">\n",
       "  <thead>\n",
       "    <tr style=\"text-align: right;\">\n",
       "      <th></th>\n",
       "      <th>CodigoEstacion</th>\n",
       "      <th>CodigoSensor</th>\n",
       "      <th>FechaObservacion</th>\n",
       "      <th>ValorObservado</th>\n",
       "      <th>NombreEstacion</th>\n",
       "      <th>Departamento</th>\n",
       "      <th>Municipio</th>\n",
       "      <th>ZonaHidrografica</th>\n",
       "      <th>Latitud</th>\n",
       "      <th>Longitud</th>\n",
       "      <th>DescripcionSensor</th>\n",
       "      <th>UnidadMedida</th>\n",
       "    </tr>\n",
       "  </thead>\n",
       "  <tbody>\n",
       "    <tr>\n",
       "      <th>0</th>\n",
       "      <td>35185010</td>\n",
       "      <td>69</td>\n",
       "      <td>01/12/2010 05:01:00 PM</td>\n",
       "      <td>34.3</td>\n",
       "      <td>LA PALOMERA - AUT</td>\n",
       "      <td>META</td>\n",
       "      <td>PUERTO LÓPEZ</td>\n",
       "      <td>META</td>\n",
       "      <td>4.260361</td>\n",
       "      <td>-72.564472</td>\n",
       "      <td>Temp Max Aire 2 m</td>\n",
       "      <td>°C</td>\n",
       "    </tr>\n",
       "    <tr>\n",
       "      <th>1</th>\n",
       "      <td>48015040</td>\n",
       "      <td>69</td>\n",
       "      <td>04/11/2011 04:00:00 AM</td>\n",
       "      <td>23.3</td>\n",
       "      <td>PTO NARIÑO</td>\n",
       "      <td>AMAZONAS</td>\n",
       "      <td>PUERTO NARIÑO</td>\n",
       "      <td>AMAZONAS - DIRECTOS</td>\n",
       "      <td>-3.780000</td>\n",
       "      <td>-70.363000</td>\n",
       "      <td>Temp Max Aire 2 m</td>\n",
       "      <td>°C</td>\n",
       "    </tr>\n",
       "    <tr>\n",
       "      <th>2</th>\n",
       "      <td>35035100</td>\n",
       "      <td>69</td>\n",
       "      <td>08/16/2015 06:01:00 PM</td>\n",
       "      <td>24.1</td>\n",
       "      <td>ICA VILLAVICENCIO  - AUT</td>\n",
       "      <td>META</td>\n",
       "      <td>VILLAVICENCIO</td>\n",
       "      <td>META</td>\n",
       "      <td>4.137389</td>\n",
       "      <td>-73.625000</td>\n",
       "      <td>Temp Max Aire 2 m</td>\n",
       "      <td>°C</td>\n",
       "    </tr>\n",
       "    <tr>\n",
       "      <th>3</th>\n",
       "      <td>26155250</td>\n",
       "      <td>69</td>\n",
       "      <td>08/15/2016 02:54:00 AM</td>\n",
       "      <td>4.1</td>\n",
       "      <td>PARAMO CONEJERAS  - AUT</td>\n",
       "      <td>CALDAS</td>\n",
       "      <td>VILLAMARIA</td>\n",
       "      <td>CAUCA</td>\n",
       "      <td>4.829806</td>\n",
       "      <td>-75.375833</td>\n",
       "      <td>Temp Max Aire 2 m</td>\n",
       "      <td>°C</td>\n",
       "    </tr>\n",
       "    <tr>\n",
       "      <th>4</th>\n",
       "      <td>35035100</td>\n",
       "      <td>69</td>\n",
       "      <td>11/02/2017 02:54:00 PM</td>\n",
       "      <td>33.4</td>\n",
       "      <td>ICA VILLAVICENCIO  - AUT</td>\n",
       "      <td>META</td>\n",
       "      <td>VILLAVICENCIO</td>\n",
       "      <td>META</td>\n",
       "      <td>4.137389</td>\n",
       "      <td>-73.625000</td>\n",
       "      <td>Temp Max Aire 2 m</td>\n",
       "      <td>°C</td>\n",
       "    </tr>\n",
       "  </tbody>\n",
       "</table>\n",
       "</div>"
      ],
      "text/plain": [
       "   CodigoEstacion  CodigoSensor        FechaObservacion  ValorObservado  \\\n",
       "0        35185010            69  01/12/2010 05:01:00 PM            34.3   \n",
       "1        48015040            69  04/11/2011 04:00:00 AM            23.3   \n",
       "2        35035100            69  08/16/2015 06:01:00 PM            24.1   \n",
       "3        26155250            69  08/15/2016 02:54:00 AM             4.1   \n",
       "4        35035100            69  11/02/2017 02:54:00 PM            33.4   \n",
       "\n",
       "             NombreEstacion Departamento      Municipio     ZonaHidrografica  \\\n",
       "0         LA PALOMERA - AUT         META   PUERTO LÓPEZ                 META   \n",
       "1                PTO NARIÑO     AMAZONAS  PUERTO NARIÑO  AMAZONAS - DIRECTOS   \n",
       "2  ICA VILLAVICENCIO  - AUT         META  VILLAVICENCIO                 META   \n",
       "3   PARAMO CONEJERAS  - AUT       CALDAS     VILLAMARIA                CAUCA   \n",
       "4  ICA VILLAVICENCIO  - AUT         META  VILLAVICENCIO                 META   \n",
       "\n",
       "    Latitud   Longitud  DescripcionSensor UnidadMedida  \n",
       "0  4.260361 -72.564472  Temp Max Aire 2 m           °C  \n",
       "1 -3.780000 -70.363000  Temp Max Aire 2 m           °C  \n",
       "2  4.137389 -73.625000  Temp Max Aire 2 m           °C  \n",
       "3  4.829806 -75.375833  Temp Max Aire 2 m           °C  \n",
       "4  4.137389 -73.625000  Temp Max Aire 2 m           °C  "
      ]
     },
     "execution_count": 8,
     "metadata": {},
     "output_type": "execute_result"
    }
   ],
   "source": [
    "datos_reales_temperatura_ideam.head() "
   ]
  },
  {
   "cell_type": "code",
   "execution_count": 13,
   "id": "4ad9a06f",
   "metadata": {},
   "outputs": [
    {
     "data": {
      "image/png": "[encoded data removed]",
      "text/plain": [
       "<Figure size 800x500 with 1 Axes>"
      ]
     },
     "metadata": {},
     "output_type": "display_data"
    },
    {
     "data": {
      "image/png": "[encoded data removed]",
      "text/plain": [
       "<Figure size 600x400 with 1 Axes>"
      ]
     },
     "metadata": {},
     "output_type": "display_data"
    }
   ],
   "source": [
    "import matplotlib.pyplot as plt\n",
    "import seaborn as sns\n",
    "\n",
    "# Histograma de temperatura\n",
    "plt.figure(figsize=(8, 5))\n",
    "\n",
    "caucasia_datos = datos_reales_temperatura_ideam[(datos_reales_temperatura_ideam['Municipio'] == 'CAUCASIA')] \n",
    "#                             (datos_reales_temperatura_ideam['Departamento'] == 'ANTIOQUIA')]\n",
    "\n",
    "sns.histplot(datos_reales_temperatura_ideam.ValorObservado, kde=True, bins=20, color='blue')\n",
    "plt.title(\"Distribución de la Temperatura\")\n",
    "plt.xlabel(\"Temperatura (°C)\")\n",
    "plt.ylabel(\"Frecuencia\")\n",
    "plt.show()\n",
    "\n",
    "# Gráfico de caja para precipitación\n",
    "plt.figure(figsize=(6, 4))\n",
    "sns.boxplot(precipitacion, color='green')\n",
    "plt.title(\"Distribución de la Precipitación\")\n",
    "plt.xlabel(\"Precipitación (mm)\")\n",
    "plt.grid() \n",
    "plt.show()\n"
   ]
  },
  {
   "cell_type": "code",
   "execution_count": 4,
   "id": "8fb80115",
   "metadata": {},
   "outputs": [
    {
     "data": {
      "text/html": [
       "<div>\n",
       "<style scoped>\n",
       "    .dataframe tbody tr th:only-of-type {\n",
       "        vertical-align: middle;\n",
       "    }\n",
       "\n",
       "    .dataframe tbody tr th {\n",
       "        vertical-align: top;\n",
       "    }\n",
       "\n",
       "    .dataframe thead th {\n",
       "        text-align: right;\n",
       "    }\n",
       "</style>\n",
       "<table border=\"1\" class=\"dataframe\">\n",
       "  <thead>\n",
       "    <tr style=\"text-align: right;\">\n",
       "      <th></th>\n",
       "      <th>Día</th>\n",
       "      <th>Temperatura (°C)</th>\n",
       "      <th>Precipitación (mm)</th>\n",
       "      <th>Velocidad del viento (m/s)</th>\n",
       "      <th>Presión atmosférica (hPa)</th>\n",
       "    </tr>\n",
       "  </thead>\n",
       "  <tbody>\n",
       "    <tr>\n",
       "      <th>0</th>\n",
       "      <td>1</td>\n",
       "      <td>28.490142</td>\n",
       "      <td>2.530821</td>\n",
       "      <td>1.321549</td>\n",
       "      <td>1008.987795</td>\n",
       "    </tr>\n",
       "    <tr>\n",
       "      <th>1</th>\n",
       "      <td>2</td>\n",
       "      <td>26.585207</td>\n",
       "      <td>33.028701</td>\n",
       "      <td>2.491785</td>\n",
       "      <td>1007.410782</td>\n",
       "    </tr>\n",
       "    <tr>\n",
       "      <th>2</th>\n",
       "      <td>3</td>\n",
       "      <td>28.943066</td>\n",
       "      <td>0.122289</td>\n",
       "      <td>2.210404</td>\n",
       "      <td>1016.772119</td>\n",
       "    </tr>\n",
       "    <tr>\n",
       "      <th>3</th>\n",
       "      <td>4</td>\n",
       "      <td>31.569090</td>\n",
       "      <td>35.025269</td>\n",
       "      <td>4.708464</td>\n",
       "      <td>1028.655240</td>\n",
       "    </tr>\n",
       "    <tr>\n",
       "      <th>4</th>\n",
       "      <td>5</td>\n",
       "      <td>26.297540</td>\n",
       "      <td>0.441190</td>\n",
       "      <td>2.012539</td>\n",
       "      <td>1012.342497</td>\n",
       "    </tr>\n",
       "    <tr>\n",
       "      <th>...</th>\n",
       "      <td>...</td>\n",
       "      <td>...</td>\n",
       "      <td>...</td>\n",
       "      <td>...</td>\n",
       "      <td>...</td>\n",
       "    </tr>\n",
       "    <tr>\n",
       "      <th>360</th>\n",
       "      <td>361</td>\n",
       "      <td>28.558040</td>\n",
       "      <td>13.375090</td>\n",
       "      <td>2.954652</td>\n",
       "      <td>999.687670</td>\n",
       "    </tr>\n",
       "    <tr>\n",
       "      <th>361</th>\n",
       "      <td>362</td>\n",
       "      <td>31.598217</td>\n",
       "      <td>6.018778</td>\n",
       "      <td>0.649146</td>\n",
       "      <td>994.637946</td>\n",
       "    </tr>\n",
       "    <tr>\n",
       "      <th>362</th>\n",
       "      <td>363</td>\n",
       "      <td>26.673720</td>\n",
       "      <td>2.543825</td>\n",
       "      <td>4.297559</td>\n",
       "      <td>1018.079913</td>\n",
       "    </tr>\n",
       "    <tr>\n",
       "      <th>363</th>\n",
       "      <td>364</td>\n",
       "      <td>28.205135</td>\n",
       "      <td>6.022824</td>\n",
       "      <td>5.715921</td>\n",
       "      <td>1001.966334</td>\n",
       "    </tr>\n",
       "    <tr>\n",
       "      <th>364</th>\n",
       "      <td>365</td>\n",
       "      <td>29.070432</td>\n",
       "      <td>1.518199</td>\n",
       "      <td>5.588248</td>\n",
       "      <td>991.471094</td>\n",
       "    </tr>\n",
       "  </tbody>\n",
       "</table>\n",
       "<p>365 rows × 5 columns</p>\n",
       "</div>"
      ],
      "text/plain": [
       "     Día  Temperatura (°C)  Precipitación (mm)  Velocidad del viento (m/s)  \\\n",
       "0      1         28.490142            2.530821                    1.321549   \n",
       "1      2         26.585207           33.028701                    2.491785   \n",
       "2      3         28.943066            0.122289                    2.210404   \n",
       "3      4         31.569090           35.025269                    4.708464   \n",
       "4      5         26.297540            0.441190                    2.012539   \n",
       "..   ...               ...                 ...                         ...   \n",
       "360  361         28.558040           13.375090                    2.954652   \n",
       "361  362         31.598217            6.018778                    0.649146   \n",
       "362  363         26.673720            2.543825                    4.297559   \n",
       "363  364         28.205135            6.022824                    5.715921   \n",
       "364  365         29.070432            1.518199                    5.588248   \n",
       "\n",
       "     Presión atmosférica (hPa)  \n",
       "0                  1008.987795  \n",
       "1                  1007.410782  \n",
       "2                  1016.772119  \n",
       "3                  1028.655240  \n",
       "4                  1012.342497  \n",
       "..                         ...  \n",
       "360                 999.687670  \n",
       "361                 994.637946  \n",
       "362                1018.079913  \n",
       "363                1001.966334  \n",
       "364                 991.471094  \n",
       "\n",
       "[365 rows x 5 columns]"
      ]
     },
     "execution_count": 4,
     "metadata": {},
     "output_type": "execute_result"
    }
   ],
   "source": [
    "import pandas as pd \n",
    "pd.DataFrame(datos_meteorologicos)"
   ]
  },
  {
   "cell_type": "markdown",
   "id": "adb24590",
   "metadata": {},
   "source": [
    "\n",
    "---\n",
    "\n",
    "#### **Parte 2: Visualización de datos y análisis exploratorio (45 minutos)**  \n",
    "**Concepto clave:** Interpretación gráfica para comprender los patrones en los datos.  \n",
    "\n",
    "**Actividades:**  \n",
    "1. **Gráficos individuales para cada variable:**  \n",
    "   - Histogramas y diagramas de caja (`boxplot`) usando `matplotlib` y `seaborn`.  \n",
    "2. **Comparaciones:**  \n",
    "   - Relación entre variables, como la correlación entre temperatura y precipitación.  \n",
    "\n",
    "**Ejemplo de código:**  \n"
   ]
  },
  {
   "cell_type": "code",
   "execution_count": 5,
   "id": "c05ec719",
   "metadata": {},
   "outputs": [
    {
     "data": {
      "image/png": "[encoded data removed]",
      "text/plain": [
       "<Figure size 800x500 with 1 Axes>"
      ]
     },
     "metadata": {},
     "output_type": "display_data"
    },
    {
     "data": {
      "image/png": "[encoded data removed]",
      "text/plain": [
       "<Figure size 600x400 with 1 Axes>"
      ]
     },
     "metadata": {},
     "output_type": "display_data"
    }
   ],
   "source": [
    "\n",
    "import matplotlib.pyplot as plt\n",
    "import seaborn as sns\n",
    "\n",
    "# Histograma de temperatura\n",
    "plt.figure(figsize=(8, 5))\n",
    "sns.histplot(temperatura, kde=True, bins=20, color='blue')\n",
    "plt.title(\"Distribución de la Temperatura\")\n",
    "plt.xlabel(\"Temperatura (°C)\")\n",
    "plt.ylabel(\"Frecuencia\")\n",
    "plt.show()\n",
    "\n",
    "# Gráfico de caja para precipitación\n",
    "plt.figure(figsize=(6, 4))\n",
    "sns.boxplot(precipitacion, color='green')\n",
    "plt.title(\"Distribución de la Precipitación\")\n",
    "plt.xlabel(\"Precipitación (mm)\")\n",
    "plt.show()\n"
   ]
  },
  {
   "cell_type": "markdown",
   "id": "d8da6777",
   "metadata": {},
   "source": [
    "\n",
    "---\n",
    "\n",
    "#### **Parte 3: Modelado y cálculo de probabilidades (1 hora)**  \n",
    "**Concepto clave:** Uso de funciones de distribución de probabilidad (PDF) y cálculo de probabilidades con `scipy.integrate.quad`.  \n",
    "\n",
    "**Actividades:**  \n",
    "1. **Ajuste de funciones de distribución:**  \n",
    "   - Determinar la función que mejor se ajusta a cada variable con `scipy.stats`.  \n",
    "2. **Cálculo de probabilidades:**  \n",
    "   - Ejemplo: Probabilidad de que la temperatura esté entre 25°C y 30°C durante un día.  \n",
    "\n",
    "**Ejemplo de código:**  \n"
   ]
  },
  {
   "cell_type": "code",
   "execution_count": 17,
   "id": "198e03ef",
   "metadata": {},
   "outputs": [
    {
     "name": "stdout",
     "output_type": "stream",
     "text": [
      "Probabilidad de temperatura entre 25°C y 30°C: 0.4694\n"
     ]
    }
   ],
   "source": [
    "\n",
    "from scipy.stats import norm\n",
    "from scipy.integrate import quad\n",
    "\n",
    "# Ajuste de distribución para la temperatura\n",
    "mu, sigma = norm.fit(datos_reales_temperatura_ideam.ValorObservado)\n",
    "\n",
    "# Probabilidad de que la temperatura esté entre 25°C y 30°C\n",
    "probabilidad, _ = quad(lambda x: norm.pdf(x, loc=mu, scale=sigma), 15, 25)\n",
    "print(f\"Probabilidad de temperatura entre 25°C y 30°C: {probabilidad:.4f}\")\n"
   ]
  },
  {
   "cell_type": "markdown",
   "id": "c7547fa1",
   "metadata": {},
   "source": [
    "\n",
    "**Eventos adicionales:**  \n",
    "- Precipitación mayor a 50 mm en un día.  \n",
    "- Velocidad del viento menor a 2 m/s.  \n",
    "\n",
    "---\n",
    "\n",
    "### **Evaluación del taller:**  \n",
    "1. **Discusión final (15 minutos):** Reflexión grupal sobre la utilidad de los datos meteorológicos simulados en la planificación agropecuaria.  \n",
    "2. **Tarea opcional:** Aplicar el mismo procedimiento a otro conjunto de datos climáticos simulados para otra región.\n",
    "\n",
    "---\n",
    "\n",
    "### **Resultados esperados:**  \n",
    "1. Los estudiantes generarán datos realistas para la región.  \n",
    "2. Comprenderán cómo las distribuciones de probabilidad describen los datos.  \n",
    "3. Serán capaces de calcular probabilidades de eventos útiles para la toma de decisiones agrícolas.  \n",
    "\n",
    "¿Te gustaría que desarrolle el código completo en un cuaderno Jupyter?"
   ]
  },
  {
   "cell_type": "markdown",
   "id": "f129b2fd",
   "metadata": {},
   "source": [
    "# Implementación del taller "
   ]
  },
  {
   "cell_type": "markdown",
   "id": "c0defa9a",
   "metadata": {},
   "source": [
    "### **Taller práctico: Generación, visualización y modelado de datos meteorológicos en la región del Bajo Cauca Antioqueño**  \n"
   ]
  },
  {
   "cell_type": "markdown",
   "id": "01ddf7a0",
   "metadata": {},
   "source": [
    "\n",
    "**Dirigido a:** Estudiantes de Ingeniería Agropecuaria  \n",
    "**Modalidad:** Laboratorio práctico en Jupyter Notebook  \n",
    "\n",
    "---\n"
   ]
  },
  {
   "cell_type": "markdown",
   "id": "cb97ea4b",
   "metadata": {},
   "source": [
    "\n",
    "### **Objetivos del taller:**  \n",
    "1. Enseñar a los estudiantes a generar datos artificiales que simulen variables meteorológicas de la región del Bajo Cauca Antioqueño.  \n",
    "2. Visualizar y analizar la distribución de los datos generados.  \n",
    "3. Determinar la función de distribución de probabilidad de cada variable meteorológica.  \n",
    "4. Calcular probabilidades de eventos meteorológicos utilizando integración numérica.\n",
    "\n",
    "---\n"
   ]
  },
  {
   "cell_type": "markdown",
   "id": "2d5dfc5a",
   "metadata": {},
   "source": [
    "\n",
    "### **Materiales necesarios:**  \n",
    "- Computador con Python instalado (Jupyter Notebook).  \n",
    "- Bibliotecas: `numpy`, `matplotlib`, `seaborn`, `scipy`.  \n",
    "- Conexión a internet para consultar documentación y buscar inspiración en ejemplos adicionales.\n",
    "\n",
    "---\n"
   ]
  },
  {
   "cell_type": "markdown",
   "id": "35532257",
   "metadata": {},
   "source": [
    "\n",
    "### **Estructura del taller:**  \n",
    "\n",
    "#### **Parte 1: Generación de datos artificiales (45 minutos)**  \n",
    "**Concepto clave:** Uso de distribuciones estadísticas para simular datos meteorológicos.  \n",
    "\n",
    "**Actividades:**  \n",
    "1. **Introducción breve a la región del Bajo Cauca y sus características climáticas.**  \n",
    "   - Contexto de las variables: temperatura (°C), precipitación (mm), velocidad del viento (m/s), presión atmosférica (hPa).  \n",
    "2. **Código base para generación de datos:**  \n",
    "   - Distribución normal para la temperatura: media = 27°C, desviación estándar = 3°C.  \n",
    "   - Distribución exponencial para la precipitación: media = 10 mm/día.  \n",
    "   - Distribución de Weibull para la velocidad del viento: forma = 2, escala = 3 m/s.  \n",
    "   - Distribución normal para la presión atmosférica: media = 1013 hPa, desviación estándar = 10 hPa.  \n",
    "\n",
    "**Ejemplo de código:**  \n"
   ]
  },
  {
   "cell_type": "markdown",
   "id": "1ec25e2d",
   "metadata": {},
   "source": [
    "\n",
    "---\n",
    "\n",
    "#### **Parte 2: Visualización de datos y análisis exploratorio (45 minutos)**  \n",
    "**Concepto clave:** Interpretación gráfica para comprender los patrones en los datos.  \n"
   ]
  },
  {
   "cell_type": "markdown",
   "id": "5e0ab08e",
   "metadata": {},
   "source": [
    "\n",
    "**Actividades:**  \n",
    "1. **Gráficos individuales para cada variable:**  \n",
    "   - Histogramas y diagramas de caja (`boxplot`) usando `matplotlib` y `seaborn`.  \n",
    "2. **Comparaciones:**  \n",
    "   - Relación entre variables, como la correlación entre temperatura y precipitación.  \n",
    "\n",
    "**Ejemplo de código:** "
   ]
  },
  {
   "cell_type": "code",
   "execution_count": null,
   "id": "a999187f",
   "metadata": {},
   "outputs": [
    {
     "data": {
      "image/png": "[encoded data removed]",
      "text/plain": [
       "<Figure size 800x500 with 1 Axes>"
      ]
     },
     "metadata": {},
     "output_type": "display_data"
    },
    {
     "data": {
      "image/png": "[encoded data removed]",
      "text/plain": [
       "<Figure size 600x400 with 1 Axes>"
      ]
     },
     "metadata": {},
     "output_type": "display_data"
    }
   ],
   "source": [
    "import matplotlib.pyplot as plt\n",
    "import seaborn as sns\n",
    "\n",
    "# Histograma de temperatura\n",
    "plt.figure(figsize=(8, 5))\n",
    "sns.histplot(temperatura, kde=True, bins=20, color='blue')\n",
    "plt.title(\"Distribución de la Temperatura\")\n",
    "plt.xlabel(\"Temperatura (°C)\")\n",
    "plt.ylabel(\"Frecuencia\")\n",
    "plt.show()\n",
    "\n"
   ]
  },
  {
   "cell_type": "markdown",
   "id": "9711fa3e",
   "metadata": {},
   "source": [
    "\n",
    "---\n"
   ]
  },
  {
   "cell_type": "markdown",
   "id": "d9a7631e",
   "metadata": {},
   "source": [
    "\n",
    "#### **Parte 3: Modelado y cálculo de probabilidades (1 hora)**  \n",
    "**Concepto clave:** Uso de funciones de distribución de probabilidad (PDF) y cálculo de probabilidades con `scipy.integrate.quad`.  \n"
   ]
  },
  {
   "cell_type": "markdown",
   "id": "d12d8cab",
   "metadata": {},
   "source": [
    "\n",
    "**Actividades:**  \n",
    "1. **Ajuste de funciones de distribución:**  \n",
    "   - Determinar la función que mejor se ajusta a cada variable con `scipy.stats`.  \n",
    "2. **Cálculo de probabilidades:**  \n",
    "   - Ejemplo: Probabilidad de que la temperatura esté entre 25°C y 30°C durante un día.  \n",
    "\n",
    "**Ejemplo de código:** "
   ]
  },
  {
   "cell_type": "code",
   "execution_count": null,
   "id": "02f43dc2",
   "metadata": {},
   "outputs": [
    {
     "name": "stdout",
     "output_type": "stream",
     "text": [
      "Probabilidad de temperatura entre 25°C y 30°C: 0.6148\n"
     ]
    }
   ],
   "source": [
    " \n",
    "from scipy.stats import norm\n",
    "from scipy.integrate import quad\n",
    "\n",
    "# Ajuste de distribución para la temperatura\n",
    "mu, sigma = norm.fit(temperatura)\n"
   ]
  },
  {
   "cell_type": "markdown",
   "id": "9769f6ee",
   "metadata": {},
   "source": [
    "# Visualización de los datos reales con el modelo estadístico ajustado a los datos. "
   ]
  },
  {
   "cell_type": "code",
   "execution_count": null,
   "id": "ca7d727d",
   "metadata": {},
   "outputs": [],
   "source": [
    "\n",
    "# Probabilidad de que la temperatura esté entre 25°C y 30°C\n",
    "probabilidad, _ = quad(lambda x: norm.pdf(x, loc=mu, scale=sigma), 25, 30)\n",
    "print(f\"Probabilidad de temperatura entre 25°C y 30°C: {probabilidad:.4f}\")\n",
    "\n"
   ]
  },
  {
   "cell_type": "markdown",
   "id": "43f7ce70",
   "metadata": {},
   "source": [
    "\n",
    "**Eventos adicionales:**  \n",
    "- Precipitación mayor a 50 mm en un día.  \n",
    "- Velocidad del viento menor a 2 m/s.  \n",
    "\n",
    "---\n"
   ]
  },
  {
   "cell_type": "markdown",
   "id": "dec5ea90",
   "metadata": {},
   "source": [
    "\n",
    "### **Evaluación del taller:**  \n",
    "1. **Discusión final (15 minutos):** Reflexión grupal sobre la utilidad de los datos meteorológicos simulados en la planificación agropecuaria.  \n",
    "2. **Tarea opcional:** Aplicar el mismo procedimiento a otro conjunto de datos climáticos simulados para otra región.\n",
    "\n",
    "---\n",
    "\n",
    "### **Resultados esperados:**  \n",
    "1. Los estudiantes generarán datos realistas para la región.  \n",
    "2. Comprenderán cómo las distribuciones de probabilidad describen los datos.  \n",
    "3. Serán capaces de calcular probabilidades de eventos útiles para la toma de decisiones agrícolas.  \n",
    "\n",
    "¿Te gustaría que desarrolle el código completo en un cuaderno Jupyter?"
   ]
  },
  {
   "cell_type": "code",
   "execution_count": null,
   "id": "5a04d916",
   "metadata": {},
   "outputs": [],
   "source": []
  },
  {
   "cell_type": "markdown",
   "id": "64ac8d32",
   "metadata": {},
   "source": [
    "# Ejemplo ilustrativo"
   ]
  },
  {
   "cell_type": "markdown",
   "id": "a3e5e6ab",
   "metadata": {},
   "source": [
    "# 10 ejercicios de entrenamiento o adquisición de habilidades obtenido a través de ChatGPT para una formación personalizada y centrada en la habilidad que se quiere lograr con la enseñanza del ejemplo anterior"
   ]
  },
  {
   "cell_type": "code",
   "execution_count": null,
   "id": "cc539357",
   "metadata": {},
   "outputs": [],
   "source": []
  },
  {
   "cell_type": "markdown",
   "id": "2f0141c3",
   "metadata": {},
   "source": [
    "## Tareas para realizar antes de la clase  \n",
    "\n",
    "1. Ver los videos respectivos []()\n",
    "2. Memorizar las definiciones []()\n",
    "3. Sintetizar o resumir la información en mapas conceptuales. []()\n",
    "4. Tareas para incentivar el uso de la calculadora Casio 991LA cw Para ingenieros, licenciados y administradores.  \n",
    "5. Leer los ejemplos resueltos y replicar la manera de hacerlos"
   ]
  },
  {
   "cell_type": "markdown",
   "id": "10bce0d0",
   "metadata": {
    "slideshow": {
     "slide_type": "slide"
    }
   },
   "source": [
    "## Referentes "
   ]
  },
  {
   "cell_type": "markdown",
   "id": "1db3c468",
   "metadata": {
    "slideshow": {
     "slide_type": "slide"
    }
   },
   "source": [
    "* [Grajales Vanegas, L. M., Restrepo Estrada, C. E., Restrepo Ochoa, S. I., & Ruíz De Villalba, F. (2015). Matemáticas I para las ciencias económicas.](https://github.com/marco-canas/fundamentos_de_la_aritmetica/blob/main/referentes/2_grajales_logica/grajales_lina_matemticas.pdf)\n",
    "  \n",
    "* Duval, R. (2004). Semiosis y pensamiento humano: registros semióticos y aprendizajes intelectuales. Universidad del Valle.\n",
    "\n",
    "* [Aylwin, C. U. (2011). Lógica, conjuntos y números. Universidad de los Andes, Consejo de Publicaciones, Colección: Ciencias Básicas, Serie: Matemáticas.](https://github.com/marco-canas/fundamentos_logica/blob/main/referentes/2_uzcategui/uscategui.pdf)\n",
    "  \n",
    "* [Chollet, F. (2021). Deep learning with Python. Simon and Schuster.](https://github.com/marco-canas/didactica_ciencia_datos/blob/main/2_referentes/chollet/Fran%C3%A7ois%20Chollet%20-%20Deep%20Learning%20with%20Python-Manning%20(2018).pdf)  \n",
    "  \n",
    "* [Watson, S., Stewart, J., & Redlin, L. (2009). Precálculo. Matemáticas para el cálculo.](https://github.com/marco-canas/calculo/blob/main/referents/1_precalculo_stewart/stewart_precalculo.pdf)  \n",
    "\n",
    "* [Purcell, E. J., Varberg, D., & Rigdon, S. E. (2007). Cálculo diferencial e integral. Pearson Educación.](https://github.com/marco-canas/calculo/blob/main/referents/purcell/purcell_calculo.pdf)\n",
    "\n",
    "  \n",
    "\n",
    "* [stewart cálculo](https://udeaeduco-my.sharepoint.com/:b:/g/personal/marco_canas_udea_edu_co/EZgXZjAp8QxPqOAim2hs6LcBNPLGjSHf-xwYnUVYkwa04w?e=RZdTCy)  \n",
    "\n",
    "* [larson](https://udeaeduco-my.sharepoint.com/:b:/g/personal/marco_canas_udea_edu_co/ES71ChFeO9ZDhW3TwC5Ijk8BjxUK3Pdqz_fjHxTTFAfIAg?e=VDEjfu)\n",
    "\n",
    "\n",
    "\n",
    "* [Recomendación de la UNESCO sobre ciencia abierta](https://unesdoc.unesco.org/ark:/48223/pf0000379949_spa)\n",
    "\n",
    "* [chatGPT](https://openai.com/blog/chatgpt)  \n",
    "\n",
    "* [Géron, A. (2017). Hands-on machine learning with scikit-learn and tensorflow: Concepts. Tools, and Techniques to build intelligent systems.](https://github.com/marco-canas/didactica_ciencia_datos/blob/main/2_referentes/geron/Hands-On%20Machine%20Learning-3nd_Edition(2022).pdf)  \n",
    "\n",
    "* [McKinney, W. (2012). Python for data analysis: Data wrangling with Pandas, NumPy, and IPython. \" O'Reilly Media, Inc.\".](https://github.com/marco-canas/didactica_ciencia_datos/blob/main/2_referentes/mckinney/Wes_McKinney.pdf)  "
   ]
  },
  {
   "cell_type": "markdown",
   "id": "8e65d6f9",
   "metadata": {},
   "source": [
    "# Como estudiante, encuentro que...   \n",
    "\n",
    "F: Mis Fortalezas son:     \n",
    "O: Mis Oportunidades son:    \n",
    "D: Mis Debilidades son:    \n",
    "A: Lo que Amenazas mi aprendizaje es:  "
   ]
  },
  {
   "cell_type": "markdown",
   "id": "6b9e56a8",
   "metadata": {
    "slideshow": {
     "slide_type": "slide"
    }
   },
   "source": [
    "### [Evaluamos al profesor Marco Cañas Aquí](https://forms.office.com/Pages/ResponsePage.aspx?id=IefhmYRxjkmK_7KtTlPBwkanXIs1i1FEujpsZgO6dXpUREJPV1kxUk1JV1ozTFJIQVNIQjY5WEY3US4u)"
   ]
  },
  {
   "cell_type": "markdown",
   "id": "10f43536",
   "metadata": {
    "slideshow": {
     "slide_type": "slide"
    }
   },
   "source": [
    "### Continue su aprendizaje en la siguiente clase a través del siguiente [vínculo]()"
   ]
  },
  {
   "cell_type": "markdown",
   "id": "ba236f4d",
   "metadata": {},
   "source": [
    "### **Actividad de Clase: Expresar Ideas, Dudas y Emociones de Manera Respetuosa y Asertiva**\n"
   ]
  },
  {
   "cell_type": "markdown",
   "id": "33bcd185",
   "metadata": {},
   "source": [
    "\n",
    "**Objetivo:**  \n",
    "Desarrollar habilidades de comunicación efectiva en los estudiantes para que puedan expresar sus ideas, dudas y emociones de forma respetuosa y asertiva.\n"
   ]
  },
  {
   "cell_type": "markdown",
   "id": "701a6b0c",
   "metadata": {},
   "source": [
    "\n",
    "**Duración:**  \n",
    "15-20 minutos\n",
    "\n",
    "---\n"
   ]
  },
  {
   "cell_type": "markdown",
   "id": "f61da648",
   "metadata": {},
   "source": [
    "\n",
    "### **1. Introducción (5 minutos)**  \n",
    "- **Tema:** Introducir a los estudiantes al concepto de la comunicación asertiva, explicando cómo expresar pensamientos y emociones de manera clara y respetuosa sin agredir o ser pasivo.\n",
    "- **Dinámica:** Mostrar dos ejemplos contrastantes: uno de comunicación pasiva/agresiva y otro de comunicación asertiva. Preguntar a los estudiantes cuál creen que es más efectivo y por qué.\n"
   ]
  },
  {
   "cell_type": "markdown",
   "id": "fb5fcc8d",
   "metadata": {},
   "source": [
    "\n",
    "**Materiales:**  \n",
    "- Pizarra o diapositivas con ejemplos de frases pasivas, agresivas y asertivas.\n",
    "  \n",
    "**Ejemplo:**  \n",
    "- **Pasivo:** “Bueno… no sé si es una buena idea, pero… tal vez podrías intentarlo.”\n",
    "- **Agresivo:** “¡Tu idea es terrible, no va a funcionar!”\n",
    "- **Asertivo:** “Creo que podríamos mejorar esa idea si consideramos otro enfoque.”\n",
    "\n",
    "---\n"
   ]
  },
  {
   "cell_type": "markdown",
   "id": "b5445d5e",
   "metadata": {},
   "source": [
    "\n",
    "### **2. Ejercicio en Parejas (10 minutos)**  \n",
    "- **Instrucciones:** Dividir a los estudiantes en parejas. Darles diferentes situaciones cotidianas en las que deben comunicarse (pedir ayuda, expresar desacuerdo, compartir una idea, etc.). Cada pareja debe crear una breve conversación donde practiquen la comunicación asertiva.\n",
    "  \n",
    "**Situaciones propuestas:**\n",
    "  - Expresar desacuerdo con un compañero sobre una tarea de grupo.\n",
    "  - Pedirle ayuda al profesor sobre un concepto difícil.\n",
    "  - Expresar frustración por un malentendido en clase.\n",
    "\n",
    "- **Reglas:** Cada estudiante debe asegurarse de usar lenguaje respetuoso y asertivo para expresar su posición y emociones. Al final, cada pareja debe compartir con la clase un ejemplo de lo que discutieron.\n",
    "\n",
    "---\n"
   ]
  },
  {
   "cell_type": "markdown",
   "id": "9bcd1b30",
   "metadata": {},
   "source": [
    "\n",
    "### **3. Retroalimentación y Discusión (5 minutos)**  \n",
    "- **Discusión:** Invitar a algunos estudiantes a compartir sus experiencias de la actividad. \n",
    "- **Preguntas:** ¿Cómo se sintieron al intentar ser asertivos? ¿Les resultó difícil? ¿Cómo fue recibido el mensaje?\n",
    "  \n",
    "**Consejo:** Resaltar la importancia de practicar la asertividad como una herramienta para mejorar la comunicación interpersonal y reducir conflictos.\n",
    "\n",
    "---\n"
   ]
  },
  {
   "cell_type": "markdown",
   "id": "512fe655",
   "metadata": {},
   "source": [
    "\n",
    "### **Cierre**  \n",
    "- Resumir las características de la comunicación asertiva: uso de \"yo\" en lugar de \"tú\" para evitar culpabilizar, tono de voz calmado, y respeto hacia el interlocutor.\n",
    "- **Tarea opcional:** Pedirles que practiquen la comunicación asertiva en sus conversaciones durante la semana y escriban una reflexión breve sobre cómo les fue.\n"
   ]
  },
  {
   "cell_type": "markdown",
   "id": "42b177d7",
   "metadata": {},
   "source": [
    "\n",
    "**Material adicional:**  \n",
    "- Video corto o recurso digital sobre la importancia de la comunicación asertiva."
   ]
  },
  {
   "cell_type": "markdown",
   "id": "53cc9115",
   "metadata": {
    "slideshow": {
     "slide_type": "slide"
    }
   },
   "source": [
    "## Agradecimientos  \n",
    "\n",
    "Doy gracias a Dios por la vida de mi Hijo Joseph Cañas Osorio y la madurez que ha alcanzado. Este hijo me enorgullece y me hace falta abrazarlo cada día. \n",
    "\n",
    "Y a mi esposa Yasmira Emperatriz Barboza Mogollón por su apoyo, orientación y acompañamiento. "
   ]
  },
  {
   "cell_type": "markdown",
   "id": "88f7dbda",
   "metadata": {},
   "source": []
  }
 ],
 "metadata": {
  "celltoolbar": "Slideshow",
  "kernelspec": {
   "display_name": "Python 3",
   "language": "python",
   "name": "python3"
  },
  "language_info": {
   "codemirror_mode": {
    "name": "ipython",
    "version": 3
   },
   "file_extension": ".py",
   "mimetype": "text/x-python",
   "name": "python",
   "nbconvert_exporter": "python",
   "pygments_lexer": "ipython3",
   "version": "3.12.8"
  },
  "rise": {
   "enable_chalkboard": true,
   "theme": "sky",
   "transition": "zoom"
  }
 },
 "nbformat": 4,
 "nbformat_minor": 5
}
