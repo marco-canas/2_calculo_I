{
 "cells": [
  {
   "cell_type": "markdown",
   "id": "dc06dec7",
   "metadata": {
    "slideshow": {
     "slide_type": "slide"
    }
   },
   "source": [
    "<table align=\"left\">\n",
    "  <td>\n",
    "    <a href=\"https://colab.research.google.com/github/marco-canas/calculo/blob/main/evaluacion/exposicion_final/1_areas/areas_1/1_area_1.ipynb\" target=\"_parent\"><img src=\"https://colab.research.google.com/assets/colab-badge.svg\" alt=\"Open In Colab\"/></a>\n",
    "  </td>\n",
    "  <td>\n",
    "    <a target=\"_blank\" href=\"https://kaggle.com/kernels/welcome?src=https://github.com/marco-canas/calculo/blob/main/evaluacion/exposicion_final/1_areas/areas_1/1_area_1.ipynb\"><img src=\"https://kaggle.com/static/images/open-in-kaggle.svg\" /></a>\n",
    "  </td>\n",
    "</table>"
   ]
  },
  {
   "cell_type": "markdown",
   "id": "e0c5b198",
   "metadata": {
    "slideshow": {
     "slide_type": "slide"
    }
   },
   "source": [
    "### [Video de apoyo a la lectura interactiva y experimental de este cuaderno]()"
   ]
  },
  {
   "cell_type": "markdown",
   "id": "41e82203",
   "metadata": {
    "slideshow": {
     "slide_type": "slide"
    }
   },
   "source": [
    "### [Vínculo al programa del curso:  ]()\n",
    "\n"
   ]
  },
  {
   "cell_type": "markdown",
   "id": "d11ab06d",
   "metadata": {
    "slideshow": {
     "slide_type": "slide"
    }
   },
   "source": [
    "Un reconocimiento a mis estudiantes que han construido conmigo este saber pedagógico:\n",
    "\n",
    "<img src = ''> \n",
    "\n"
   ]
  },
  {
   "cell_type": "markdown",
   "id": "8d97dc80",
   "metadata": {
    "slideshow": {
     "slide_type": "slide"
    }
   },
   "source": [
    "## Fomento de la lectura literaria asociada a Ingeniería agropecuaria y licenciatura en Matemáticas\n",
    "\n",
    "[Aprender a obtener el sí sin ceder]()"
   ]
  },
  {
   "cell_type": "markdown",
   "id": "96775931",
   "metadata": {
    "slideshow": {
     "slide_type": "slide"
    }
   },
   "source": [
    "## Título de la Exposición: Aplicaciones de la integral definida al cálculo de áreas en Ciencias Agrarias usando Python y cuadernos Jupyter  \n",
    "\n",
    "[]()"
   ]
  },
  {
   "cell_type": "markdown",
   "id": "1d38dd4e",
   "metadata": {
    "slideshow": {
     "slide_type": "slide"
    }
   },
   "source": [
    "### Objetivo de aprendizaje \n"
   ]
  },
  {
   "cell_type": "markdown",
   "id": "8853d874",
   "metadata": {},
   "source": [
    "## El componente histórico y epistemológico"
   ]
  },
  {
   "cell_type": "code",
   "execution_count": 5,
   "id": "bc0addfe",
   "metadata": {},
   "outputs": [
    {
     "data": {
      "text/plain": [
       "'C:\\\\Users\\\\marco\\\\Documentos\\\\docencia\\\\calculo\\\\evaluacion\\\\mapa_conceptual_area_bajo_curva.pdf'"
      ]
     },
     "execution_count": 5,
     "metadata": {},
     "output_type": "execute_result"
    }
   ],
   "source": [
    "# Importar la librería graphviz\n",
    "from graphviz import Digraph\n",
    "\n",
    "# Crear un nuevo grafo dirigido\n",
    "dot = Digraph(comment='Mapa Conceptual: Área Bajo la Curva', engine='dot')\n",
    "\n",
    "# Personalizar el estilo global\n",
    "dot.attr(rankdir='TB', size='8,5')  # Orientación vertical, tamaño ajustado\n",
    "dot.attr('node', style='filled', color='lightblue', shape='box', fontname='Arial')\n",
    "\n",
    "# Añadir nodos principales y subtemas\n",
    "main_concept = 'Python y Jupyter para el Área Bajo la Curva'\n",
    "\n",
    "# Nodo principal\n",
    "dot.node('A', main_concept)\n",
    "\n",
    "# Nodos secundarios\n",
    "dot.node('B', 'Introducción')\n",
    "dot.node('C', 'Fundamentos Teóricos')\n",
    "dot.node('D', 'Implementación en Python')\n",
    "dot.node('E', 'Aplicaciones Agropecuarias')\n",
    "dot.node('F', 'Actividad Interactiva')\n",
    "dot.node('G', 'Conclusión y Cierre')\n",
    "\n",
    "# Conectar el nodo principal con los secundarios\n",
    "dot.edges(['AB', 'AC', 'AD', 'AE', 'AF', 'AG'])\n",
    "\n",
    "# Subnodos para cada sección con mayor detalle\n",
    "dot.node('B1', 'Importancia del cálculo integral\\n en ciencias agropecuarias', color='lightgreen')\n",
    "dot.node('B2', 'Ventajas de usar Python\\n y Jupyter Notebooks', color='lightgreen')\n",
    "dot.edges([('B','B1'), ('B','B2')])\n",
    "\n",
    "dot.node('C1', 'Integral definida\\n y área bajo la curva', color='lightpink')\n",
    "dot.node('C2', 'Aproximaciones numéricas\\n (Regla de Riemann y trapecio)', color='lightpink')\n",
    "dot.edges([('C','C1'), ('C','C2')])\n",
    "\n",
    "dot.node('D1', 'Uso de Scipy para cálculo\\n de integrales', color='yellow')\n",
    "dot.node('D2', 'Visualización interactiva\\n con Matplotlib', color='yellow')\n",
    "dot.edges([('D','D1'), ('D', 'D2')])\n",
    "\n",
    "dot.node('E1', 'Estimación de áreas\\n de parcelas agrícolas', color='lightcoral')\n",
    "dot.node('E2', 'Distribución de recursos\\n hídricos acumulados', color='lightcoral')\n",
    "dot.edges([('E','E1'), ('E', 'E2')])\n",
    "\n",
    "dot.node('F1', 'Ejercicio en equipos:\\n Implementación en Python', color='lightgray')\n",
    "dot.edges([('F','F1')])\n",
    "\n",
    "dot.node('G1', 'Resumen de conceptos\\n y herramientas', color='lightblue')\n",
    "dot.node('G2', 'Material adicional en GitHub\\n y YouTube', color='lightblue')\n",
    "dot.edges([('G','G1'), ('G','G2')])\n",
    "\n",
    "# Guardar el grafo como un archivo de imagen\n",
    "output_directory = 'C:/Users/marco/Documentos/docencia/calculo/evaluacion'\n",
    "dot.render(filename='mapa_conceptual_area_bajo_curva', format='png', cleanup=True, directory=output_directory)\n",
    "\n",
    "# Visualizar el grafo\n",
    "dot.view()\n"
   ]
  },
  {
   "cell_type": "markdown",
   "id": "7b578fbf",
   "metadata": {},
   "source": [
    "# Diseño de la exposición  \n",
    "Dame un diseño de exposición de cómo python y los cuadernos Jupyter pueden ser utilizados para la adquisición del concepto de \"Área bajo la curva con integral definida para estudiantes de Ingeniería Agropecuaria\" que necesitan estos conceptos y estas herramientas para un curso de estadística enfocado a Ciencias Agrarías en Colombia."
   ]
  },
  {
   "cell_type": "markdown",
   "id": "295976f1",
   "metadata": {},
   "source": [
    "### **Diseño de Exposición: Uso de Python y Jupyter para Adquirir el Concepto de Área Bajo la Curva con Integral Definida**  \n",
    "\n",
    "#### **Título**  \n",
    "*\"Aplicación de Python y Jupyter Notebooks en la Enseñanza del Cálculo Integral para Estudiantes de Ingeniería Agropecuaria: Área Bajo la Curva y sus Implicaciones en Estadística Aplicada a Ciencias Agrarias\"*\n",
    "\n",
    "---\n"
   ]
  },
  {
   "cell_type": "markdown",
   "id": "fee59f10",
   "metadata": {},
   "source": [
    "\n",
    "### **Objetivos**  \n",
    "1. Introducir el concepto de área bajo la curva como una aplicación de la integral definida en problemas agropecuarios.  \n",
    "2. Enseñar el uso de Python y Jupyter Notebooks para calcular y visualizar áreas bajo curvas.  \n",
    "3. Conectar el cálculo integral con aplicaciones prácticas en estadísticas agrarias, como estimaciones de rendimiento de cultivos y análisis de distribución de recursos.\n",
    "\n",
    "---\n"
   ]
  },
  {
   "cell_type": "markdown",
   "id": "4cbff22e",
   "metadata": {},
   "source": [
    "\n",
    "### **Estructura de la Exposición**  \n",
    "\n",
    "#### **1. Introducción**  \n",
    "- **Duración:** 5 minutos  \n",
    "- **Contenido:**  \n",
    "  - Importancia del cálculo integral en ciencias agrarias:  \n",
    "    - Estimación de áreas de parcelas agrícolas.  \n",
    "    - Cálculo de volúmenes de agua acumulada en cuencas.  \n",
    "    - Análisis de probabilidades en estadística (curva de distribución normal).  \n",
    "  - Beneficios de usar Python y Jupyter Notebooks:  \n",
    "    - Automatización de cálculos.  \n",
    "    - Visualización interactiva de funciones y áreas.  \n",
    "    - Facilita experimentación y comprensión.  \n",
    "\n",
    "---\n"
   ]
  },
  {
   "cell_type": "markdown",
   "id": "9ab4563e",
   "metadata": {},
   "source": [
    "\n",
    "#### **2. Fundamentos Teóricos**  \n",
    "- **Duración:** 10 minutos  \n",
    "- **Contenido:**  \n",
    "  - Concepto de integral definida:  \n",
    "    - Relación con el área bajo la curva de una función $f(x)$ en un intervalo $[a, b]$:  \n",
    "      $$\\int_a^b f(x) \\, dx.$$  \n",
    "    - Interpretación geométrica y aplicaciones prácticas.  \n",
    "  - Importancia de la discretización: conexión con aproximaciones numéricas (reglas de Riemann y trapecio).  \n",
    "\n",
    "---\n"
   ]
  },
  {
   "cell_type": "markdown",
   "id": "964d9a61",
   "metadata": {},
   "source": [
    "\n",
    "#### **3. Implementación Práctica en Python**  \n",
    "- **Duración:** 20 minutos  \n",
    "- **Contenido:**  \n",
    "  - **Instalación y configuración:**  \n",
    "    - Mostrar cómo abrir un Jupyter Notebook y cargar las bibliotecas necesarias:  \n"
   ]
  },
  {
   "cell_type": "code",
   "execution_count": null,
   "id": "73472c43",
   "metadata": {},
   "outputs": [],
   "source": [
    "import numpy as np\n",
    "import matplotlib.pyplot as plt\n",
    "from scipy.integrate import quad\n",
    "  \n"
   ]
  },
  {
   "cell_type": "markdown",
   "id": "e0398106",
   "metadata": {},
   "source": [
    "\n",
    "  - **Cálculo de áreas con Python:**  \n",
    "    - Definición de una función $f(x)$:  \n"
   ]
  },
  {
   "cell_type": "code",
   "execution_count": 1,
   "id": "c905af94",
   "metadata": {},
   "outputs": [],
   "source": [
    "def f(x):\n",
    "    return x**2 + 3\n",
    "     "
   ]
  },
  {
   "cell_type": "code",
   "execution_count": 2,
   "id": "89d337ec",
   "metadata": {},
   "outputs": [
    {
     "data": {
      "text/plain": [
       "7"
      ]
     },
     "execution_count": 2,
     "metadata": {},
     "output_type": "execute_result"
    }
   ],
   "source": [
    "f(2)"
   ]
  },
  {
   "cell_type": "markdown",
   "id": "2c8f3665",
   "metadata": {},
   "source": [
    " \n",
    "- Uso de `quad` para calcular la integral:  \n"
   ]
  },
  {
   "cell_type": "code",
   "execution_count": 5,
   "id": "8c742a28",
   "metadata": {},
   "outputs": [
    {
     "name": "stdout",
     "output_type": "stream",
     "text": [
      "Área bajo la curva: 8.666666666666668 unidades de longitud al cuadrado\n"
     ]
    }
   ],
   "source": [
    "from scipy.integrate import quad \n",
    "result, error = quad(f, 0, 2)\n",
    "print(f\"Área bajo la curva: {result} unidades de longitud al cuadrado\")\n",
    " \n"
   ]
  },
  {
   "cell_type": "markdown",
   "id": "54502062",
   "metadata": {},
   "source": [
    "\n",
    "  - **Visualización de la curva y el área:**  \n",
    "    - Crear un gráfico que sombreé el área bajo la curva: "
   ]
  },
  {
   "cell_type": "code",
   "execution_count": 7,
   "id": "e53c67b5",
   "metadata": {},
   "outputs": [
    {
     "data": {
      "image/png": "[encoded data removed]",
      "text/plain": [
       "<Figure size 640x480 with 1 Axes>"
      ]
     },
     "metadata": {},
     "output_type": "display_data"
    }
   ],
   "source": [
    "import numpy as np \n",
    "import matplotlib.pyplot as plt \n",
    " \n",
    "x = np.linspace(0, 2, 100)\n",
    "y = f(x)\n",
    "plt.plot(x, y, label='f(x) = x^2 + 3')\n",
    "plt.fill_between(x, y, alpha=0.3)\n",
    "plt.legend()\n",
    "plt.title('Área bajo la curva')\n",
    "plt.xlabel('x')\n",
    "plt.ylabel('f(x)')\n",
    "plt.savefig('f1.jpg')\n",
    "plt.show()\n",
    " "
   ]
  },
  {
   "cell_type": "markdown",
   "id": "acf28e9c",
   "metadata": {},
   "source": [
    "\n",
    "#### **4. Aplicación a Ciencias Agrarias**  \n",
    "- **Duración:** 10 minutos  \n",
    "- **Contenido:**  \n",
    "  - **Problema 1:** Estimar el área de una parcela con bordes curvilíneos representados por una función $f(x)$.  \n",
    "    - **Paso 1:** Definir límites de integración según las coordenadas de los bordes.  \n",
    "    - **Paso 2:** Calcular el área con Python.  \n",
    "  - **Problema 2:** Analizar la distribución de agua acumulada en el tiempo a través de una función $f(t)$.  \n",
    "    - Visualización del área bajo la curva como volumen acumulado.  \n",
    "\n",
    "---\n"
   ]
  },
  {
   "cell_type": "markdown",
   "id": "75e5c6ee",
   "metadata": {},
   "source": [
    "\n",
    "#### **5. Actividad Interactiva para Estudiantes**  \n",
    "- **Duración:** 15 minutos  \n",
    "- **Contenido:**  \n",
    "  - Dividir a los estudiantes en equipos y plantear el siguiente ejercicio:  \n",
    "    - \"En una parcela de cultivo, la productividad de plantas por metro cuadrado está modelada por la función $f(x) = 2x + 1$. Calcular el área bajo la curva en el intervalo $[1, 4]$ para estimar la producción total.\"  \n",
    "  - Pedirles que implementen la solución en Jupyter Notebook.  \n",
    "  - Discutir los resultados como grupo.  \n",
    "\n",
    "---\n"
   ]
  },
  {
   "cell_type": "markdown",
   "id": "da8a9354",
   "metadata": {},
   "source": [
    "\n",
    "#### **6. Conclusión y Cierre**  \n",
    "- **Duración:** 5 minutos  \n",
    "- **Contenido:**  \n",
    "  - Resumir los conceptos clave:  \n",
    "    - Área bajo la curva como herramienta de análisis.  \n",
    "    - Potencial de Python para automatizar cálculos.  \n",
    "  - Enfatizar la importancia de combinar herramientas matemáticas y tecnológicas en la resolución de problemas reales en ciencias agrarias.  \n",
    "  - Presentar materiales adicionales: cuadernos de ejemplo en GitHub y tutoriales en YouTube.  \n",
    "\n",
    "---\n",
    "\n",
    "### **Recursos Necesarios**  \n",
    "1. Computadoras con Jupyter Notebook instalado.  \n",
    "2. Materiales impresos o digitales con guías de Python.  \n",
    "3. Proyector para la presentación interactiva.  \n",
    "\n",
    "---\n",
    "\n",
    "### **Evaluación del Aprendizaje**  \n",
    "- Reporte de resultados y gráficas generadas por los estudiantes en sus notebooks.  \n",
    "- Preguntas reflexivas sobre el uso de integrales en problemas agropecuarios.  \n"
   ]
  },
  {
   "cell_type": "markdown",
   "id": "be74b8bf",
   "metadata": {},
   "source": [
    "# Implementación de este diseño de exposición  \n",
    "\n",
    "### Uso de Python y Jupyter para Adquirir el Concepto de Área Bajo la Curva con Integral Definida**  \n"
   ]
  },
  {
   "cell_type": "markdown",
   "id": "e3adf272",
   "metadata": {},
   "source": [
    "\n",
    "#### **Título**  \n",
    "*\"Aplicación de Python y Jupyter Notebooks en la Enseñanza del Cálculo Integral para Estudiantes de Ingeniería Agropecuaria: Área Bajo la Curva y sus Implicaciones en Estadística Aplicada a Ciencias Agrarias\"*\n",
    "\n",
    "---\n"
   ]
  },
  {
   "cell_type": "markdown",
   "id": "b3960290",
   "metadata": {},
   "source": [
    "\n",
    "### **Objetivos**  \n",
    "1. Introducir el concepto de área bajo la curva como una aplicación de la integral definida en problemas agropecuarios.  \n",
    "2. Enseñar el uso de Python y Jupyter Notebooks para calcular y visualizar áreas bajo curvas.  \n",
    "3. Conectar el cálculo integral con aplicaciones prácticas en estadísticas agrarias, como estimaciones de rendimiento de cultivos y análisis de distribución de recursos.\n",
    "\n",
    "---\n"
   ]
  },
  {
   "cell_type": "markdown",
   "id": "3c946548",
   "metadata": {},
   "source": [
    "\n",
    "### **Estructura de la Exposición**  \n",
    "\n",
    "#### **1. Introducción**  \n",
    "- **Duración:** 5 minutos  \n",
    "- **Contenido:**  \n",
    "  - Importancia del cálculo integral en ciencias agrarias:  \n",
    "    - Estimación de áreas de parcelas agrícolas.  \n",
    "    - Cálculo de volúmenes de agua acumulada en cuencas.  \n",
    "    - Análisis de probabilidades en estadística (curva de distribución normal).  \n",
    "  - Beneficios de usar Python y Jupyter Notebooks:  \n",
    "    - Automatización de cálculos.  \n",
    "    - Visualización interactiva de funciones y áreas.  \n",
    "    - Facilita experimentación y comprensión.  \n",
    "\n",
    "---\n",
    "\n",
    "#### **2. Fundamentos Teóricos**  \n",
    "- **Duración:** 10 minutos  \n",
    "- **Contenido:**  \n",
    "  - Concepto de integral definida:  \n",
    "    - Relación con el área bajo la curva de una función $f(x)$ en un intervalo $[a, b]$:  \n",
    "      $$\\int_a^b f(x) \\, dx.$$  \n",
    "    - Interpretación geométrica y aplicaciones prácticas.  \n",
    "  - Importancia de la discretización: conexión con aproximaciones numéricas (reglas de Riemann y trapecio).  \n",
    "\n",
    "---\n",
    "\n",
    "#### **3. Implementación Práctica en Python**  \n",
    "- **Duración:** 20 minutos  \n",
    "- **Contenido:**  \n",
    "  - **Instalación y configuración:**  \n",
    "    - Mostrar cómo abrir un Jupyter Notebook y cargar las bibliotecas necesarias:  \n",
    "      ```python\n",
    "      import numpy as np\n",
    "      import matplotlib.pyplot as plt\n",
    "      from scipy.integrate import quad\n",
    "      ```  \n",
    "\n",
    "  - **Cálculo de áreas con Python:**  \n",
    "    - Definición de una función $f(x)$:  \n",
    "      ```python\n",
    "      def f(x):\n",
    "          return x**2 + 3\n",
    "      ```  \n",
    "    - Uso de `quad` para calcular la integral:  \n",
    "      ```python\n",
    "      result, error = quad(f, 0, 2)\n",
    "      print(f\"Área bajo la curva: {result}\")\n",
    "      ```  \n",
    "\n",
    "  - **Visualización de la curva y el área:**  \n",
    "    - Crear un gráfico que sombreé el área bajo la curva:  \n",
    "      ```python\n",
    "      x = np.linspace(0, 2, 100)\n",
    "      y = f(x)\n",
    "      plt.plot(x, y, label='f(x) = x^2 + 3')\n",
    "      plt.fill_between(x, y, alpha=0.3)\n",
    "      plt.legend()\n",
    "      plt.title('Área bajo la curva')\n",
    "      plt.xlabel('x')\n",
    "      plt.ylabel('f(x)')\n",
    "      plt.show()\n",
    "      ```  \n",
    "\n",
    "---\n",
    "\n",
    "#### **4. Aplicación a Ciencias Agrarias**  \n",
    "- **Duración:** 10 minutos  \n",
    "- **Contenido:**  \n",
    "  - **Problema 1:** Estimar el área de una parcela con bordes curvilíneos representados por una función $f(x)$.  \n",
    "    - **Paso 1:** Definir límites de integración según las coordenadas de los bordes.  \n",
    "    - **Paso 2:** Calcular el área con Python.  \n",
    "  - **Problema 2:** Analizar la distribución de agua acumulada en el tiempo a través de una función $f(t)$.  \n",
    "    - Visualización del área bajo la curva como volumen acumulado.  \n",
    "\n",
    "---\n",
    "\n",
    "#### **5. Actividad Interactiva para Estudiantes**  \n",
    "- **Duración:** 15 minutos  \n",
    "- **Contenido:**  \n",
    "  - Dividir a los estudiantes en equipos y plantear el siguiente ejercicio:  \n",
    "    - \"En una parcela de cultivo, la productividad de plantas por metro cuadrado está modelada por la función $f(x) = 2x + 1$. Calcular el área bajo la curva en el intervalo $[1, 4]$ para estimar la producción total.\"  \n",
    "  - Pedirles que implementen la solución en Jupyter Notebook.  \n",
    "  - Discutir los resultados como grupo.  \n",
    "\n",
    "---\n",
    "\n",
    "#### **6. Conclusión y Cierre**  \n",
    "- **Duración:** 5 minutos  \n",
    "- **Contenido:**  \n",
    "  - Resumir los conceptos clave:  \n",
    "    - Área bajo la curva como herramienta de análisis.  \n",
    "    - Potencial de Python para automatizar cálculos.  \n",
    "  - Enfatizar la importancia de combinar herramientas matemáticas y tecnológicas en la resolución de problemas reales en ciencias agrarias.  \n",
    "  - Presentar materiales adicionales: cuadernos de ejemplo en GitHub y tutoriales en YouTube.  \n",
    "\n",
    "---\n",
    "\n",
    "### **Recursos Necesarios**  \n",
    "1. Computadoras con Jupyter Notebook instalado.  \n",
    "2. Materiales impresos o digitales con guías de Python.  \n",
    "3. Proyector para la presentación interactiva.  \n",
    "\n",
    "---\n",
    "\n",
    "### **Evaluación del Aprendizaje**  \n",
    "- Reporte de resultados y gráficas generadas por los estudiantes en sus notebooks.  \n",
    "- Preguntas reflexivas sobre el uso de integrales en problemas agropecuarios.  \n",
    "\n",
    "¿Te gustaría que desarrolle algún material de soporte, como un notebook de ejemplo? "
   ]
  },
  {
   "cell_type": "code",
   "execution_count": null,
   "id": "239427f7",
   "metadata": {},
   "outputs": [],
   "source": []
  },
  {
   "cell_type": "code",
   "execution_count": null,
   "id": "ec048afb",
   "metadata": {},
   "outputs": [],
   "source": []
  },
  {
   "cell_type": "markdown",
   "id": "8d41fe58",
   "metadata": {
    "slideshow": {
     "slide_type": "slide"
    }
   },
   "source": [
    "# Horario de clases del profesor Marco\n",
    "\n",
    "* Lunes 8-12: Cálculo Vectorial\n",
    "* Martes 8-12 M: Fundamentos de Aritmética. \n",
    "* Miércoles 8 a 12 M: Fundamentos de la Lógica\n",
    "* Jueves 2 a 6 PM: Desarrollo del pensamiento matemático en la infancia. \n",
    "* Viernes 8 - 12 M: Desarrollo del pensamiento matemático en la infancia. \n",
    "* Sábados 8-12 Asesorías y espacio para retroalimentación y apoyo al trabajo independiente. "
   ]
  },
  {
   "cell_type": "markdown",
   "id": "ae114e14",
   "metadata": {
    "slideshow": {
     "slide_type": "slide"
    }
   },
   "source": [
    "# Horarios de monitoría y asesoría  \n",
    "\n",
    "Coordinador de los cursos de la Facultad de Educación para regiones:    \n",
    "\n",
    "Andrés Vélez: regioneducacion.fedu@udea.edu.co  \n",
    "Coordinador Regiones  \n",
    "Facultad de Educación  \n",
    "Universidad de Antioquia  "
   ]
  },
  {
   "cell_type": "markdown",
   "id": "b1db4b6c",
   "metadata": {
    "slideshow": {
     "slide_type": "slide"
    }
   },
   "source": [
    "## Monitor Manuel San Juan Serrano\n",
    "\n",
    "Contactar escribiendo al correo: manuel.serrano1@udea.edu.co"
   ]
  },
  {
   "cell_type": "markdown",
   "id": "39559692",
   "metadata": {
    "slideshow": {
     "slide_type": "slide"
    }
   },
   "source": [
    "Martes y jueves de 8 - 12  \n",
    "Miércoles 10 - 12 y de 2 a 4 PM  \n",
    "Sábado: 8 - 12"
   ]
  },
  {
   "cell_type": "markdown",
   "id": "5a190057",
   "metadata": {},
   "source": [
    "## Monitoría virtual   \n",
    "\n",
    "Telefono del monitos en whatsApp: 3043936088  \n",
    "\n",
    "Juan David Cano Castrillón  \n",
    "Estudiante de Pregrado.  \n",
    "juan.canoc1@udea.edu.co  \n",
    "3043936088  \n"
   ]
  },
  {
   "cell_type": "markdown",
   "id": "10bce0d0",
   "metadata": {
    "slideshow": {
     "slide_type": "slide"
    }
   },
   "source": [
    "## Referentes "
   ]
  },
  {
   "cell_type": "markdown",
   "id": "1db3c468",
   "metadata": {
    "slideshow": {
     "slide_type": "slide"
    }
   },
   "source": [
    "* [Grajales Vanegas, L. M., Restrepo Estrada, C. E., Restrepo Ochoa, S. I., & Ruíz De Villalba, F. (2015). Matemáticas I para las ciencias económicas.](https://github.com/marco-canas/fundamentos_de_la_aritmetica/blob/main/referentes/2_grajales_logica/grajales_lina_matemticas.pdf)\n",
    "  \n",
    "* Duval, R. (2004). Semiosis y pensamiento humano: registros semióticos y aprendizajes intelectuales. Universidad del Valle.\n",
    "\n",
    "* [Aylwin, C. U. (2011). Lógica, conjuntos y números. Universidad de los Andes, Consejo de Publicaciones, Colección: Ciencias Básicas, Serie: Matemáticas.](https://github.com/marco-canas/fundamentos_logica/blob/main/referentes/2_uzcategui/uscategui.pdf)\n",
    "  \n",
    "* [Chollet, F. (2021). Deep learning with Python. Simon and Schuster.](https://github.com/marco-canas/didactica_ciencia_datos/blob/main/2_referentes/chollet/Fran%C3%A7ois%20Chollet%20-%20Deep%20Learning%20with%20Python-Manning%20(2018).pdf)  \n",
    "  \n",
    "* [Watson, S., Stewart, J., & Redlin, L. (2009). Precálculo. Matemáticas para el cálculo.](https://github.com/marco-canas/calculo/blob/main/referents/1_precalculo_stewart/stewart_precalculo.pdf)  \n",
    "\n",
    "* [Purcell, E. J., Varberg, D., & Rigdon, S. E. (2007). Cálculo diferencial e integral. Pearson Educación.](https://github.com/marco-canas/calculo/blob/main/referents/purcell/purcell_calculo.pdf)\n",
    "\n",
    "  \n",
    "\n",
    "* [stewart cálculo](https://udeaeduco-my.sharepoint.com/:b:/g/personal/marco_canas_udea_edu_co/EZgXZjAp8QxPqOAim2hs6LcBNPLGjSHf-xwYnUVYkwa04w?e=RZdTCy)  \n",
    "\n",
    "* [larson](https://udeaeduco-my.sharepoint.com/:b:/g/personal/marco_canas_udea_edu_co/ES71ChFeO9ZDhW3TwC5Ijk8BjxUK3Pdqz_fjHxTTFAfIAg?e=VDEjfu)\n",
    "\n",
    "\n",
    "\n",
    "* [Recomendación de la UNESCO sobre ciencia abierta](https://unesdoc.unesco.org/ark:/48223/pf0000379949_spa)\n",
    "\n",
    "* [chatGPT](https://openai.com/blog/chatgpt)  \n",
    "\n",
    "* [Géron, A. (2017). Hands-on machine learning with scikit-learn and tensorflow: Concepts. Tools, and Techniques to build intelligent systems.](https://github.com/marco-canas/didactica_ciencia_datos/blob/main/2_referentes/geron/Hands-On%20Machine%20Learning-3nd_Edition(2022).pdf)  \n",
    "\n",
    "* [McKinney, W. (2012). Python for data analysis: Data wrangling with Pandas, NumPy, and IPython. \" O'Reilly Media, Inc.\".](https://github.com/marco-canas/didactica_ciencia_datos/blob/main/2_referentes/mckinney/Wes_McKinney.pdf)  "
   ]
  },
  {
   "cell_type": "markdown",
   "id": "8e65d6f9",
   "metadata": {},
   "source": [
    "# Como estudiante, encuentro que...   \n",
    "\n",
    "F: Mis Fortalezas son:     \n",
    "O: Mis Oportunidades son:    \n",
    "D: Mis Debilidades son:    \n",
    "A: Lo que Amenazas mi aprendizaje es:  "
   ]
  },
  {
   "cell_type": "markdown",
   "id": "6b9e56a8",
   "metadata": {
    "slideshow": {
     "slide_type": "slide"
    }
   },
   "source": [
    "### [Evaluamos al profesor Marco Cañas Aquí](https://forms.office.com/Pages/ResponsePage.aspx?id=IefhmYRxjkmK_7KtTlPBwkanXIs1i1FEujpsZgO6dXpUREJPV1kxUk1JV1ozTFJIQVNIQjY5WEY3US4u)"
   ]
  },
  {
   "cell_type": "markdown",
   "id": "10f43536",
   "metadata": {
    "slideshow": {
     "slide_type": "slide"
    }
   },
   "source": [
    "### Continue su aprendizaje en la siguiente clase a través del siguiente [vínculo]()"
   ]
  },
  {
   "cell_type": "markdown",
   "id": "ba236f4d",
   "metadata": {},
   "source": [
    "### **Actividad de Clase: Expresar Ideas, Dudas y Emociones de Manera Respetuosa y Asertiva**\n"
   ]
  },
  {
   "cell_type": "markdown",
   "id": "33bcd185",
   "metadata": {},
   "source": [
    "\n",
    "**Objetivo:**  \n",
    "Desarrollar habilidades de comunicación efectiva en los estudiantes para que puedan expresar sus ideas, dudas y emociones de forma respetuosa y asertiva.\n"
   ]
  },
  {
   "cell_type": "markdown",
   "id": "701a6b0c",
   "metadata": {},
   "source": [
    "\n",
    "**Duración:**  \n",
    "15-20 minutos\n",
    "\n",
    "---\n"
   ]
  },
  {
   "cell_type": "markdown",
   "id": "f61da648",
   "metadata": {},
   "source": [
    "\n",
    "### **1. Introducción (5 minutos)**  \n",
    "- **Tema:** Introducir a los estudiantes al concepto de la comunicación asertiva, explicando cómo expresar pensamientos y emociones de manera clara y respetuosa sin agredir o ser pasivo.\n",
    "- **Dinámica:** Mostrar dos ejemplos contrastantes: uno de comunicación pasiva/agresiva y otro de comunicación asertiva. Preguntar a los estudiantes cuál creen que es más efectivo y por qué.\n"
   ]
  },
  {
   "cell_type": "markdown",
   "id": "fb5fcc8d",
   "metadata": {},
   "source": [
    "\n",
    "**Materiales:**  \n",
    "- Pizarra o diapositivas con ejemplos de frases pasivas, agresivas y asertivas.\n",
    "  \n",
    "**Ejemplo:**  \n",
    "- **Pasivo:** “Bueno… no sé si es una buena idea, pero… tal vez podrías intentarlo.”\n",
    "- **Agresivo:** “¡Tu idea es terrible, no va a funcionar!”\n",
    "- **Asertivo:** “Creo que podríamos mejorar esa idea si consideramos otro enfoque.”\n",
    "\n",
    "---\n"
   ]
  },
  {
   "cell_type": "markdown",
   "id": "b5445d5e",
   "metadata": {},
   "source": [
    "\n",
    "### **2. Ejercicio en Parejas (10 minutos)**  \n",
    "- **Instrucciones:** Dividir a los estudiantes en parejas. Darles diferentes situaciones cotidianas en las que deben comunicarse (pedir ayuda, expresar desacuerdo, compartir una idea, etc.). Cada pareja debe crear una breve conversación donde practiquen la comunicación asertiva.\n",
    "  \n",
    "**Situaciones propuestas:**\n",
    "  - Expresar desacuerdo con un compañero sobre una tarea de grupo.\n",
    "  - Pedirle ayuda al profesor sobre un concepto difícil.\n",
    "  - Expresar frustración por un malentendido en clase.\n",
    "\n",
    "- **Reglas:** Cada estudiante debe asegurarse de usar lenguaje respetuoso y asertivo para expresar su posición y emociones. Al final, cada pareja debe compartir con la clase un ejemplo de lo que discutieron.\n",
    "\n",
    "---\n"
   ]
  },
  {
   "cell_type": "markdown",
   "id": "9bcd1b30",
   "metadata": {},
   "source": [
    "\n",
    "### **3. Retroalimentación y Discusión (5 minutos)**  \n",
    "- **Discusión:** Invitar a algunos estudiantes a compartir sus experiencias de la actividad. \n",
    "- **Preguntas:** ¿Cómo se sintieron al intentar ser asertivos? ¿Les resultó difícil? ¿Cómo fue recibido el mensaje?\n",
    "  \n",
    "**Consejo:** Resaltar la importancia de practicar la asertividad como una herramienta para mejorar la comunicación interpersonal y reducir conflictos.\n",
    "\n",
    "---\n"
   ]
  },
  {
   "cell_type": "markdown",
   "id": "512fe655",
   "metadata": {},
   "source": [
    "\n",
    "### **Cierre**  \n",
    "- Resumir las características de la comunicación asertiva: uso de \"yo\" en lugar de \"tú\" para evitar culpabilizar, tono de voz calmado, y respeto hacia el interlocutor.\n",
    "- **Tarea opcional:** Pedirles que practiquen la comunicación asertiva en sus conversaciones durante la semana y escriban una reflexión breve sobre cómo les fue.\n"
   ]
  },
  {
   "cell_type": "markdown",
   "id": "42b177d7",
   "metadata": {},
   "source": [
    "\n",
    "**Material adicional:**  \n",
    "- Video corto o recurso digital sobre la importancia de la comunicación asertiva."
   ]
  },
  {
   "cell_type": "markdown",
   "id": "53cc9115",
   "metadata": {
    "slideshow": {
     "slide_type": "slide"
    }
   },
   "source": [
    "## Agradecimientos  \n",
    "\n",
    "Doy gracias a Dios por la vida de mi Hijo Joseph Cañas Osorio y la madurez que ha alcanzado. Este hijo me enorgullece y me hace falta abrazarlo cada día. \n",
    "\n",
    "Y a mi esposa Yasmira Emperatriz Barboza Mogollón por su apoyo, orientación y acompañamiento. "
   ]
  },
  {
   "cell_type": "markdown",
   "id": "88f7dbda",
   "metadata": {},
   "source": []
  }
 ],
 "metadata": {
  "celltoolbar": "Slideshow",
  "kernelspec": {
   "display_name": "Python 3",
   "language": "python",
   "name": "python3"
  },
  "language_info": {
   "codemirror_mode": {
    "name": "ipython",
    "version": 3
   },
   "file_extension": ".py",
   "mimetype": "text/x-python",
   "name": "python",
   "nbconvert_exporter": "python",
   "pygments_lexer": "ipython3",
   "version": "3.12.7"
  },
  "rise": {
   "enable_chalkboard": true,
   "theme": "sky",
   "transition": "zoom"
  }
 },
 "nbformat": 4,
 "nbformat_minor": 5
}
