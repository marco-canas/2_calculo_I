{
 "cells": [
  {
   "cell_type": "markdown",
   "id": "dc06dec7",
   "metadata": {
    "slideshow": {
     "slide_type": "slide"
    }
   },
   "source": [
    "<table align=\"left\">\n",
    "  <td>\n",
    "    <a href=\"https://colab.research.google.com/github/marco-canas/calculo/blob/main/evaluacion/exposicion_final/2_volumenes/volumen_2/1_volumen_2.ipynb\" target=\"_parent\"><img src=\"https://colab.research.google.com/assets/colab-badge.svg\" alt=\"Open In Colab\"/></a>\n",
    "  </td>\n",
    "  <td>\n",
    "    <a target=\"_blank\" href=\"https://kaggle.com/kernels/welcome?src=https://github.com/marco-canas/calculo/blob/main/evaluacion/exposicion_final/2_volumenes/volumen_2/1_volumen_2.ipynb\"><img src=\"https://kaggle.com/static/images/open-in-kaggle.svg\" /></a>\n",
    "  </td>\n",
    "</table>"
   ]
  },
  {
   "cell_type": "markdown",
   "id": "e0c5b198",
   "metadata": {
    "slideshow": {
     "slide_type": "slide"
    }
   },
   "source": [
    "### [Video de apoyo a la lectura interactiva y experimental de este cuaderno]()"
   ]
  },
  {
   "cell_type": "markdown",
   "id": "41e82203",
   "metadata": {
    "slideshow": {
     "slide_type": "slide"
    }
   },
   "source": [
    "### [Vínculo al programa del curso:  ]()\n",
    "\n"
   ]
  },
  {
   "cell_type": "markdown",
   "id": "d11ab06d",
   "metadata": {
    "slideshow": {
     "slide_type": "slide"
    }
   },
   "source": [
    "Un reconocimiento a mis estudiantes que han construido conmigo este saber pedagógico:\n",
    "\n",
    "<img src = ''> \n",
    "\n"
   ]
  },
  {
   "cell_type": "markdown",
   "id": "8d97dc80",
   "metadata": {
    "slideshow": {
     "slide_type": "slide"
    }
   },
   "source": [
    "## Fomento de la lectura literaria asociada a Ingeniería agropecuaria y licenciatura en Matemáticas\n",
    "\n",
    "[Aprender a obtener el sí sin ceder]()"
   ]
  },
  {
   "cell_type": "markdown",
   "id": "96775931",
   "metadata": {
    "slideshow": {
     "slide_type": "slide"
    }
   },
   "source": [
    "## Título de la clase: Aplicaciones de la Integral Definida al Cálculo de Volúmenes en Ciencias Agrarias y Uso de Distribuciones de Probabilidad para Describir Variables Meteorológicas\n",
    "\n",
    "\n",
    "[]()"
   ]
  },
  {
   "cell_type": "markdown",
   "id": "1d38dd4e",
   "metadata": {
    "slideshow": {
     "slide_type": "slide"
    }
   },
   "source": [
    "### Objetivo de aprendizaje \n"
   ]
  },
  {
   "cell_type": "markdown",
   "id": "540f0ec1",
   "metadata": {
    "slideshow": {
     "slide_type": "slide"
    }
   },
   "source": [
    "## Cuestionario para realizar labores de memorización, observación y síntesis de la información (Además de diagnóstico)  \n",
    "\n",
    "1. ¿Qué?\n",
    "2. ¿Cómo?\n",
    "3. ¿Dónde?\n",
    "4. ¿Cuándo?\n",
    "5. ¿Por qué? "
   ]
  },
  {
   "cell_type": "markdown",
   "id": "8e457ea2",
   "metadata": {},
   "source": [
    "# Definiciones y Resultados científicos a comprender y memorizar \n",
    "\n",
    "[Primera grabación en Vocaroo]()"
   ]
  },
  {
   "cell_type": "markdown",
   "id": "ca7261b1",
   "metadata": {
    "slideshow": {
     "slide_type": "slide"
    }
   },
   "source": [
    "## Establecimiento de prerrequisitos conceptuales para alcanzar el objetivo de aprendizaje trazado.   \n",
    "\n",
    "(Elabore una lista de preguntas al rededor de los conceptos que consideres necesarios para empezar la clase).  \n",
    "\n",
    "1. \n",
    "2. \n",
    "3. "
   ]
  },
  {
   "cell_type": "markdown",
   "id": "2298e976",
   "metadata": {
    "slideshow": {
     "slide_type": "slide"
    }
   },
   "source": [
    "# Para el diseño de la clase tenga en cuenta algunos problemas de aprendizaje"
   ]
  },
  {
   "cell_type": "markdown",
   "id": "523d3acf",
   "metadata": {
    "slideshow": {
     "slide_type": "slide"
    }
   },
   "source": []
  },
  {
   "cell_type": "markdown",
   "id": "8853d874",
   "metadata": {},
   "source": [
    "## El componente histórico y epistemológico"
   ]
  },
  {
   "cell_type": "code",
   "execution_count": 4,
   "id": "6ff395c3",
   "metadata": {},
   "outputs": [],
   "source": [
    "# Traducción del inglés al español con python\n",
    "\n",
    "def traducir(texto):\n",
    "    from googletrans import Translator\n",
    "\n",
    "    translator = Translator() # instancia la clase \n",
    "\n",
    "    # Traducir al español\n",
    "    translation = translator.translate(texto, src='en', dest='es')\n",
    "    return translation.text"
   ]
  },
  {
   "cell_type": "code",
   "execution_count": 5,
   "id": "b583f414-ac87-4912-8a86-b338234d83d7",
   "metadata": {},
   "outputs": [
    {
     "data": {
      "text/plain": [
       "'Hola'"
      ]
     },
     "execution_count": 5,
     "metadata": {},
     "output_type": "execute_result"
    }
   ],
   "source": [
    "traducir('Hi')"
   ]
  },
  {
   "cell_type": "code",
   "execution_count": 3,
   "id": "bc0addfe",
   "metadata": {},
   "outputs": [
    {
     "name": "stderr",
     "output_type": "stream",
     "text": [
      "<>:24: SyntaxWarning: invalid escape sequence '\\('\n",
      "<>:36: SyntaxWarning: invalid escape sequence '\\('\n",
      "<>:24: SyntaxWarning: invalid escape sequence '\\('\n",
      "<>:36: SyntaxWarning: invalid escape sequence '\\('\n",
      "C:\\Users\\marco\\AppData\\Local\\Temp\\ipykernel_17052\\2681267347.py:24: SyntaxWarning: invalid escape sequence '\\('\n",
      "  dot.node('E', 'Volumen del Tanque\\n(Ecuación \\(y=x^2\\))', color='lightgreen2')\n",
      "C:\\Users\\marco\\AppData\\Local\\Temp\\ipykernel_17052\\2681267347.py:36: SyntaxWarning: invalid escape sequence '\\('\n",
      "  dot.node('H', 'Probabilidad de Eventos\\nEjemplo: \\(P(precip > 100 mm)\\)', color='lightcoral')\n",
      "Warning: lightgreen2 is not a known color.\n",
      "Warning: lightgreen2 is not a known color.\n"
     ]
    },
    {
     "data": {
      "text/plain": [
       "'C:\\\\Users\\\\marco\\\\Documentos\\\\docencia\\\\mapa_conceptual_volumenes.pdf'"
      ]
     },
     "execution_count": 3,
     "metadata": {},
     "output_type": "execute_result"
    }
   ],
   "source": [
    "from graphviz import Digraph\n",
    "\n",
    "# Crear un nuevo grafo dirigido\n",
    "dot = Digraph()\n",
    "\n",
    "# Configuración general del grafo\n",
    "dot.attr(rankdir='LR', size='10')  # Dirección de izquierda a derecha\n",
    "dot.attr('node', shape='ellipse', style='filled', fontname='Arial')\n",
    "\n",
    "# Concepto principal\n",
    "main_concept = 'Aplicaciones de la Integral Definida'\n",
    "dot.node('A', main_concept, color='lightblue', fontcolor='black')\n",
    "\n",
    "# Subconceptos\n",
    "dot.node('B', 'Cálculo de Volúmenes\\n(Sólidos de Revolución)', color='lightgreen')\n",
    "dot.node('C', 'Distribuciones de Probabilidad\\nen Ciencias Agrarias', color='lightpink')\n",
    "dot.node('D', 'Análisis de Datos Meteorológicos\\n(IDEAM)', color='lightyellow')\n",
    "\n",
    "# Relacionar el concepto principal con los subconceptos\n",
    "dot.edges(['AB', 'AC', 'AD'])\n",
    "\n",
    "# Detalles específicos para cada subconcepto\n",
    "# Nodo para el volumen del tanque de almacenamiento\n",
    "dot.node('E', 'Volumen del Tanque\\n(Ecuación \\(y=x^2\\))', color='lightgreen2')\n",
    "dot.edge('B', 'E')\n",
    "\n",
    "# Nodo para visualización gráfica\n",
    "dot.node('F', 'Visualización Gráfica\\n(Matplotlib, Python)', color='lightgreen2')\n",
    "dot.edge('B', 'F')\n",
    "\n",
    "# Nodo para distribuciones de probabilidad\n",
    "dot.node('G', 'Distribuciones Ajustadas:\\nNormal, Exponencial', color='lightcoral')\n",
    "dot.edge('C', 'G')\n",
    "\n",
    "# Nodo para preguntas prácticas\n",
    "dot.node('H', 'Probabilidad de Eventos\\nEjemplo: \\(P(precip > 100 mm)\\)', color='lightcoral')\n",
    "dot.edge('C', 'H')\n",
    "\n",
    "# Nodo para fuentes de datos\n",
    "dot.node('I', 'Datos Meteorológicos\\nIDEAM (2007-2024)', color='lightgoldenrod')\n",
    "dot.edge('D', 'I')\n",
    "\n",
    "# Nodo para decisiones agrícolas\n",
    "dot.node('J', 'Planificación de Riego\\nBasada en Análisis', color='lightgoldenrod')\n",
    "dot.edge('D', 'J')\n",
    "\n",
    "# Guardar el grafo como un archivo de imagen\n",
    "dot.render(filename='mapa_conceptual_volumenes', format='png', cleanup=True, \n",
    "           directory='C:/Users/marco/Documentos/docencia/')\n",
    "\n",
    "dot.view()\n"
   ]
  },
  {
   "cell_type": "markdown",
   "id": "10e55ccf",
   "metadata": {},
   "source": [
    "# Estructura general para todas las clases\n",
    "\n",
    "Dame, por favor, un diseño de clase sobre la estructura de datos llamada DataFrame de Pandas en python y su utilización en ciencia de datos con técnicas de machine learning siguiendo la siguiente estructura: \n",
    "1. Título de la clase \n",
    "2. Objetivo de aprendizaje\n",
    "3. Contenido de la clase\n",
    "4. Actividades de aprendizaje\n",
    "5. Tarea o actividades de ejercitación y fijación\n",
    "6. Diseño de actividad de retroalimentación. "
   ]
  },
  {
   "cell_type": "markdown",
   "id": "239427f7",
   "metadata": {},
   "source": [
    "# Aplicaciones de la Integral Definida al Cálculo de Volúmenes en Ciencias Agrarias y Uso de Distribuciones de Probabilidad para Describir Variables Meteorológicas\n",
    "\n",
    "---\n"
   ]
  },
  {
   "cell_type": "markdown",
   "id": "f8ef7995",
   "metadata": {},
   "source": [
    "\n",
    "#### **Información General**\n",
    "- **Asignatura**: Cálculo Integral\n",
    "- **Duración**: 3 horas\n",
    "- **Modalidad**: Aula invertida con metodología ABP (Aprendizaje Basado en Problemas)\n",
    "- **Nivel**: Estudiantes de programas como Ingeniería Agropecuaria y Licenciatura en Matemáticas\n",
    "- **Recursos**: Jupyter Notebooks, Python (bibliotecas: NumPy, SciPy, Matplotlib, SymPy), datos meteorológicos del IDEAM (2007-2024), videos introductorios en el canal de YouTube _DiMathData_.\n",
    "\n",
    "---\n"
   ]
  },
  {
   "cell_type": "markdown",
   "id": "91600228",
   "metadata": {},
   "source": [
    "\n",
    "#### **Objetivos de Aprendizaje**\n",
    "1. **Matemáticos**: \n",
    "   - Comprender y aplicar la integral definida para calcular volúmenes de sólidos de revolución.\n",
    "   - Identificar la relación entre distribuciones de probabilidad y el modelado de variables meteorológicas.\n"
   ]
  },
  {
   "cell_type": "markdown",
   "id": "59094660",
   "metadata": {},
   "source": [
    "\n",
    "2. **Aplicados**:\n",
    "   - Modelar el volumen de almacenamiento de agua en un tanque diseñado para cultivos utilizando la integral definida.\n",
    "   - Analizar datos meteorológicos del IDEAM utilizando distribuciones de probabilidad para describir variables como precipitación y temperatura.\n",
    "\n",
    "3. **Tecnológicos**:\n",
    "   - Implementar cálculos y visualizaciones en Python para resolver problemas agrarios y meteorológicos.\n",
    "\n",
    "---\n"
   ]
  },
  {
   "cell_type": "markdown",
   "id": "b03b9bd1",
   "metadata": {},
   "source": [
    "\n",
    "#### **Etapas de la Clase**\n",
    "\n",
    "### **1. Antes de Clase: Preparación**\n",
    "**Actividades Previas:**\n",
    "- **Videos:** \n",
    "  - Introducción a las aplicaciones de la integral definida en el cálculo de volúmenes.\n",
    "  - Conceptos básicos de distribuciones de probabilidad (Normal, Exponencial) con aplicaciones en meteorología.\n",
    "- **Lectura Asignada:**\n",
    "  - Capítulo sobre sólidos de revolución.\n",
    "  - Documento introductorio sobre el uso de datos meteorológicos en ciencias agrarias (disponible en GitHub del curso).\n",
    "\n",
    "---\n"
   ]
  },
  {
   "cell_type": "markdown",
   "id": "3508ca50",
   "metadata": {},
   "source": [
    "\n",
    "### **2. Durante la Clase: Actividades Prácticas**\n",
    "**Fase 1: Introducción Rápida (20 min)**\n",
    "   - Breve repaso de conceptos clave sobre sólidos de revolución y distribuciones de probabilidad.\n",
    "   - Presentación del problema agrario: \n",
    "     > *Diseñar un tanque cilíndrico para capturar y almacenar agua durante temporadas de lluvia, con datos históricos de precipitación del IDEAM.*\n"
   ]
  },
  {
   "cell_type": "markdown",
   "id": "b671c8c8",
   "metadata": {},
   "source": [
    "\n",
    "**Fase 2: Actividad 1 - Volumen del Tanque de Almacenamiento**\n",
    "   - **Problema:** Dado el perfil de un tanque con ecuación \\(y = x^2\\), calcular el volumen mediante la rotación de la curva respecto al eje \\(x\\) en el intervalo [0, 3].\n",
    "   - **Pasos:**\n",
    "     1. Derivar la fórmula del volumen usando la integral definida:\n",
    "        $$\n",
    "        V = \\pi \\int_{a}^{b} [f(x)]^2 dx\n",
    "        $$\n",
    "     2. Resolver la integral manualmente y luego verificar con Python:\n"
   ]
  },
  {
   "cell_type": "code",
   "execution_count": 5,
   "id": "7a11b9c7",
   "metadata": {},
   "outputs": [
    {
     "name": "stdout",
     "output_type": "stream",
     "text": [
      "El volumen del tanque en litros es de:  152.681402964464\n"
     ]
    }
   ],
   "source": [
    "\n",
    "from sympy import symbols, integrate, pi\n",
    "\n",
    "x = symbols('x')\n",
    "f = x**2\n",
    "volume = pi * integrate(f**2, (x, 0, 3))\n",
    "print('El volumen del tanque en litros es de: ', volume.evalf())\n",
    "        \n"
   ]
  },
  {
   "cell_type": "markdown",
   "id": "b6112973",
   "metadata": {},
   "source": [
    "     3. Visualizar el sólido de revolución usando Matplotlib:\n"
   ]
  },
  {
   "cell_type": "code",
   "execution_count": 6,
   "id": "a01bd8f1",
   "metadata": {},
   "outputs": [
    {
     "data": {
      "image/png": "[encoded data removed]",
      "text/plain": [
       "<Figure size 640x480 with 1 Axes>"
      ]
     },
     "metadata": {},
     "output_type": "display_data"
    }
   ],
   "source": [
    "\n",
    "import matplotlib.pyplot as plt\n",
    "import numpy as np\n",
    "from mpl_toolkits.mplot3d import Axes3D\n",
    "\n",
    "theta = np.linspace(0, 2*np.pi, 100)\n",
    "x = np.linspace(0, 3, 50)\n",
    "X, Theta = np.meshgrid(x, theta)\n",
    "Y = X**2\n",
    "Z = Y * np.cos(Theta)\n",
    "W = Y * np.sin(Theta)\n",
    "fig = plt.figure()\n",
    "ax = fig.add_subplot(111, projection='3d')\n",
    "ax.plot_surface(Z, W, X, alpha=0.7)\n",
    "plt.show()\n",
    "        \n"
   ]
  },
  {
   "cell_type": "markdown",
   "id": "e9d28be7",
   "metadata": {},
   "source": [
    "\n",
    "**Fase 3: Actividad 2 - Análisis de Variables Meteorológicas (50 min)**\n",
    "   - **Problema:** Analizar datos históricos de precipitación en Caucasia para ajustar una distribución de probabilidad y calcular probabilidades útiles para planificar riegos agrícolas.\n",
    "   - **Pasos:**\n",
    "     1. **Cargar los datos meteorológicos** (archivo .csv de IDEAM).\n"
   ]
  },
  {
   "cell_type": "code",
   "execution_count": 7,
   "id": "507e0cfb",
   "metadata": {},
   "outputs": [
    {
     "name": "stderr",
     "output_type": "stream",
     "text": [
      "C:\\Users\\marco\\AppData\\Local\\Temp\\ipykernel_15848\\2751573850.py:3: DtypeWarning: Columns (0) have mixed types. Specify dtype option on import or set low_memory=False.\n",
      "  data = pd.read_csv('C:/Users/marco/Documentos/docencia/ideam/precipitacion_caucasia/precipitaci_ideam_1.csv')\n"
     ]
    }
   ],
   "source": [
    "import pandas as pd\n",
    "\n",
    "data = pd.read_csv('C:/Users/marco/Documentos/docencia/ideam/precipitacion_caucasia/precipitaci_ideam_1.csv')\n",
    "\n",
    "        \n"
   ]
  },
  {
   "cell_type": "code",
   "execution_count": 8,
   "id": "926a91cb",
   "metadata": {},
   "outputs": [
    {
     "data": {
      "text/html": [
       "<div>\n",
       "<style scoped>\n",
       "    .dataframe tbody tr th:only-of-type {\n",
       "        vertical-align: middle;\n",
       "    }\n",
       "\n",
       "    .dataframe tbody tr th {\n",
       "        vertical-align: top;\n",
       "    }\n",
       "\n",
       "    .dataframe thead th {\n",
       "        text-align: right;\n",
       "    }\n",
       "</style>\n",
       "<table border=\"1\" class=\"dataframe\">\n",
       "  <thead>\n",
       "    <tr style=\"text-align: right;\">\n",
       "      <th></th>\n",
       "      <th>CodigoEstacion</th>\n",
       "      <th>CodigoSensor</th>\n",
       "      <th>FechaObservacion</th>\n",
       "      <th>ValorObservado</th>\n",
       "      <th>NombreEstacion</th>\n",
       "      <th>Departamento</th>\n",
       "      <th>Municipio</th>\n",
       "      <th>ZonaHidrografica</th>\n",
       "      <th>Latitud</th>\n",
       "      <th>Longitud</th>\n",
       "      <th>DescripcionSensor</th>\n",
       "      <th>UnidadMedida</th>\n",
       "    </tr>\n",
       "  </thead>\n",
       "  <tbody>\n",
       "    <tr>\n",
       "      <th>0</th>\n",
       "      <td>14019030</td>\n",
       "      <td>240.0</td>\n",
       "      <td>07/07/2014 04:00:00 AM</td>\n",
       "      <td>0.0</td>\n",
       "      <td>CC DIQUE: CIOH</td>\n",
       "      <td>BOLÍVAR</td>\n",
       "      <td>CARTAGENA DE INDIAS</td>\n",
       "      <td>CARIBE - LITORAL</td>\n",
       "      <td>10.391000</td>\n",
       "      <td>-75.534000</td>\n",
       "      <td>Precipitacion</td>\n",
       "      <td>mm</td>\n",
       "    </tr>\n",
       "    <tr>\n",
       "      <th>1</th>\n",
       "      <td>21167080</td>\n",
       "      <td>240.0</td>\n",
       "      <td>08/29/2005 08:40:00 AM</td>\n",
       "      <td>0.0</td>\n",
       "      <td>LA MORA - AUT</td>\n",
       "      <td>TOLIMA</td>\n",
       "      <td>PRADO</td>\n",
       "      <td>ALTO MAGDALENA</td>\n",
       "      <td>3.725194</td>\n",
       "      <td>-74.826444</td>\n",
       "      <td>Precipitacion</td>\n",
       "      <td>mm</td>\n",
       "    </tr>\n",
       "    <tr>\n",
       "      <th>2</th>\n",
       "      <td>16027300</td>\n",
       "      <td>240.0</td>\n",
       "      <td>06/23/2015 08:30:00 PM</td>\n",
       "      <td>0.0</td>\n",
       "      <td>PUENTE CAPIRA - AUT</td>\n",
       "      <td>NORTE DE SANTANDER</td>\n",
       "      <td>CUCUTILLA</td>\n",
       "      <td>CATATUMBO</td>\n",
       "      <td>7.537194</td>\n",
       "      <td>-72.771139</td>\n",
       "      <td>Precipitacion</td>\n",
       "      <td>mm</td>\n",
       "    </tr>\n",
       "    <tr>\n",
       "      <th>3</th>\n",
       "      <td>21202240</td>\n",
       "      <td>240.0</td>\n",
       "      <td>09/15/2014 10:20:00 AM</td>\n",
       "      <td>0.0</td>\n",
       "      <td>UAN SEDE CIRCUNVALAR - FOPAE</td>\n",
       "      <td>BOGOTA D.C.</td>\n",
       "      <td>BOGOTA, D.C</td>\n",
       "      <td>ALTO MAGDALENA</td>\n",
       "      <td>4.633000</td>\n",
       "      <td>-74.050000</td>\n",
       "      <td>Precipitacion</td>\n",
       "      <td>mm</td>\n",
       "    </tr>\n",
       "    <tr>\n",
       "      <th>4</th>\n",
       "      <td>26255030</td>\n",
       "      <td>240.0</td>\n",
       "      <td>01/22/2019 01:30:00 AM</td>\n",
       "      <td>0.0</td>\n",
       "      <td>SANTA ISABEL VALDIVIA - AUT</td>\n",
       "      <td>ANTIOQUIA</td>\n",
       "      <td>VALDIVIA</td>\n",
       "      <td>CAUCA</td>\n",
       "      <td>7.157278</td>\n",
       "      <td>-75.442222</td>\n",
       "      <td>Precipitacion</td>\n",
       "      <td>mm</td>\n",
       "    </tr>\n",
       "  </tbody>\n",
       "</table>\n",
       "</div>"
      ],
      "text/plain": [
       "  CodigoEstacion  CodigoSensor        FechaObservacion  ValorObservado  \\\n",
       "0       14019030         240.0  07/07/2014 04:00:00 AM             0.0   \n",
       "1       21167080         240.0  08/29/2005 08:40:00 AM             0.0   \n",
       "2       16027300         240.0  06/23/2015 08:30:00 PM             0.0   \n",
       "3       21202240         240.0  09/15/2014 10:20:00 AM             0.0   \n",
       "4       26255030         240.0  01/22/2019 01:30:00 AM             0.0   \n",
       "\n",
       "                 NombreEstacion        Departamento            Municipio  \\\n",
       "0                CC DIQUE: CIOH             BOLÍVAR  CARTAGENA DE INDIAS   \n",
       "1                 LA MORA - AUT              TOLIMA                PRADO   \n",
       "2           PUENTE CAPIRA - AUT  NORTE DE SANTANDER            CUCUTILLA   \n",
       "3  UAN SEDE CIRCUNVALAR - FOPAE         BOGOTA D.C.          BOGOTA, D.C   \n",
       "4   SANTA ISABEL VALDIVIA - AUT           ANTIOQUIA             VALDIVIA   \n",
       "\n",
       "   ZonaHidrografica    Latitud   Longitud DescripcionSensor UnidadMedida  \n",
       "0  CARIBE - LITORAL  10.391000 -75.534000     Precipitacion           mm  \n",
       "1    ALTO MAGDALENA   3.725194 -74.826444     Precipitacion           mm  \n",
       "2         CATATUMBO   7.537194 -72.771139     Precipitacion           mm  \n",
       "3    ALTO MAGDALENA   4.633000 -74.050000     Precipitacion           mm  \n",
       "4             CAUCA   7.157278 -75.442222     Precipitacion           mm  "
      ]
     },
     "execution_count": 8,
     "metadata": {},
     "output_type": "execute_result"
    }
   ],
   "source": [
    "data.head() "
   ]
  },
  {
   "cell_type": "markdown",
   "id": "ce0fb7b4",
   "metadata": {},
   "source": [
    "2. **Visualizar los datos y ajustar una distribución de probabilidad:**\n"
   ]
  },
  {
   "cell_type": "code",
   "execution_count": 11,
   "id": "ee9e5d0e",
   "metadata": {},
   "outputs": [
    {
     "ename": "ValueError",
     "evalue": "The data contains non-finite values.",
     "output_type": "error",
     "traceback": [
      "\u001b[1;31m---------------------------------------------------------------------------\u001b[0m",
      "\u001b[1;31mValueError\u001b[0m                                Traceback (most recent call last)",
      "\u001b[1;32m~\\AppData\\Local\\Temp\\ipykernel_15848\\2610552460.py\u001b[0m in \u001b[0;36m?\u001b[1;34m()\u001b[0m\n\u001b[0;32m      1\u001b[0m \u001b[1;32mfrom\u001b[0m \u001b[0mscipy\u001b[0m\u001b[1;33m.\u001b[0m\u001b[0mstats\u001b[0m \u001b[1;32mimport\u001b[0m \u001b[0mnorm\u001b[0m\u001b[1;33m\u001b[0m\u001b[1;33m\u001b[0m\u001b[0m\n\u001b[0;32m      2\u001b[0m \u001b[1;32mimport\u001b[0m \u001b[0mmatplotlib\u001b[0m\u001b[1;33m.\u001b[0m\u001b[0mpyplot\u001b[0m \u001b[1;32mas\u001b[0m \u001b[0mplt\u001b[0m\u001b[1;33m\u001b[0m\u001b[1;33m\u001b[0m\u001b[0m\n\u001b[0;32m      3\u001b[0m \u001b[1;33m\u001b[0m\u001b[0m\n\u001b[1;32m----> 4\u001b[1;33m \u001b[0mmu\u001b[0m\u001b[1;33m,\u001b[0m \u001b[0msigma\u001b[0m \u001b[1;33m=\u001b[0m \u001b[0mnorm\u001b[0m\u001b[1;33m.\u001b[0m\u001b[0mfit\u001b[0m\u001b[1;33m(\u001b[0m\u001b[0mdata\u001b[0m\u001b[1;33m.\u001b[0m\u001b[0mValorObservado\u001b[0m\u001b[1;33m)\u001b[0m\u001b[1;33m\u001b[0m\u001b[1;33m\u001b[0m\u001b[0m\n\u001b[0m\u001b[0;32m      5\u001b[0m \u001b[0mplt\u001b[0m\u001b[1;33m.\u001b[0m\u001b[0mhist\u001b[0m\u001b[1;33m(\u001b[0m\u001b[0mdata\u001b[0m\u001b[1;33m.\u001b[0m\u001b[0mValorObservado\u001b[0m\u001b[1;33m,\u001b[0m \u001b[0mbins\u001b[0m\u001b[1;33m=\u001b[0m\u001b[1;36m20\u001b[0m\u001b[1;33m,\u001b[0m \u001b[0mdensity\u001b[0m\u001b[1;33m=\u001b[0m\u001b[1;32mTrue\u001b[0m\u001b[1;33m,\u001b[0m \u001b[0malpha\u001b[0m\u001b[1;33m=\u001b[0m\u001b[1;36m0.6\u001b[0m\u001b[1;33m,\u001b[0m \u001b[0mcolor\u001b[0m\u001b[1;33m=\u001b[0m\u001b[1;34m'g'\u001b[0m\u001b[1;33m)\u001b[0m\u001b[1;33m\u001b[0m\u001b[1;33m\u001b[0m\u001b[0m\n\u001b[0;32m      6\u001b[0m \u001b[0mxmin\u001b[0m\u001b[1;33m,\u001b[0m \u001b[0mxmax\u001b[0m \u001b[1;33m=\u001b[0m \u001b[0mplt\u001b[0m\u001b[1;33m.\u001b[0m\u001b[0mxlim\u001b[0m\u001b[1;33m(\u001b[0m\u001b[1;33m)\u001b[0m\u001b[1;33m\u001b[0m\u001b[1;33m\u001b[0m\u001b[0m\n\u001b[0;32m      7\u001b[0m \u001b[0mx\u001b[0m \u001b[1;33m=\u001b[0m \u001b[0mnp\u001b[0m\u001b[1;33m.\u001b[0m\u001b[0mlinspace\u001b[0m\u001b[1;33m(\u001b[0m\u001b[0mxmin\u001b[0m\u001b[1;33m,\u001b[0m \u001b[0mxmax\u001b[0m\u001b[1;33m,\u001b[0m \u001b[1;36m100\u001b[0m\u001b[1;33m)\u001b[0m\u001b[1;33m\u001b[0m\u001b[1;33m\u001b[0m\u001b[0m\n",
      "\u001b[1;32m~\\AppData\\Local\\Packages\\PythonSoftwareFoundation.Python.3.12_qbz5n2kfra8p0\\LocalCache\\local-packages\\Python312\\site-packages\\scipy\\stats\\_continuous_distns.py\u001b[0m in \u001b[0;36m?\u001b[1;34m(self, data, *args, **kwds)\u001b[0m\n\u001b[0;32m     70\u001b[0m                 \u001b[1;31m# data is an instance of CensoredData, but actually holds\u001b[0m\u001b[1;33m\u001b[0m\u001b[1;33m\u001b[0m\u001b[0m\n\u001b[0;32m     71\u001b[0m                 \u001b[1;31m# no censored values, so replace it with the array of\u001b[0m\u001b[1;33m\u001b[0m\u001b[1;33m\u001b[0m\u001b[0m\n\u001b[0;32m     72\u001b[0m                 \u001b[1;31m# uncensored values.\u001b[0m\u001b[1;33m\u001b[0m\u001b[1;33m\u001b[0m\u001b[0m\n\u001b[0;32m     73\u001b[0m                 \u001b[0mdata\u001b[0m \u001b[1;33m=\u001b[0m \u001b[0mdata\u001b[0m\u001b[1;33m.\u001b[0m\u001b[0m_uncensored\u001b[0m\u001b[1;33m\u001b[0m\u001b[1;33m\u001b[0m\u001b[0m\n\u001b[1;32m---> 74\u001b[1;33m             \u001b[1;32mreturn\u001b[0m \u001b[0mfun\u001b[0m\u001b[1;33m(\u001b[0m\u001b[0mself\u001b[0m\u001b[1;33m,\u001b[0m \u001b[0mdata\u001b[0m\u001b[1;33m,\u001b[0m \u001b[1;33m*\u001b[0m\u001b[0margs\u001b[0m\u001b[1;33m,\u001b[0m \u001b[1;33m**\u001b[0m\u001b[0mkwds\u001b[0m\u001b[1;33m)\u001b[0m\u001b[1;33m\u001b[0m\u001b[1;33m\u001b[0m\u001b[0m\n\u001b[0m",
      "\u001b[1;32m~\\AppData\\Local\\Packages\\PythonSoftwareFoundation.Python.3.12_qbz5n2kfra8p0\\LocalCache\\local-packages\\Python312\\site-packages\\scipy\\stats\\_continuous_distns.py\u001b[0m in \u001b[0;36m?\u001b[1;34m(self, data, **kwds)\u001b[0m\n\u001b[0;32m    472\u001b[0m \u001b[1;33m\u001b[0m\u001b[0m\n\u001b[0;32m    473\u001b[0m         \u001b[0mdata\u001b[0m \u001b[1;33m=\u001b[0m \u001b[0mnp\u001b[0m\u001b[1;33m.\u001b[0m\u001b[0masarray\u001b[0m\u001b[1;33m(\u001b[0m\u001b[0mdata\u001b[0m\u001b[1;33m)\u001b[0m\u001b[1;33m\u001b[0m\u001b[1;33m\u001b[0m\u001b[0m\n\u001b[0;32m    474\u001b[0m \u001b[1;33m\u001b[0m\u001b[0m\n\u001b[0;32m    475\u001b[0m         \u001b[1;32mif\u001b[0m \u001b[1;32mnot\u001b[0m \u001b[0mnp\u001b[0m\u001b[1;33m.\u001b[0m\u001b[0misfinite\u001b[0m\u001b[1;33m(\u001b[0m\u001b[0mdata\u001b[0m\u001b[1;33m)\u001b[0m\u001b[1;33m.\u001b[0m\u001b[0mall\u001b[0m\u001b[1;33m(\u001b[0m\u001b[1;33m)\u001b[0m\u001b[1;33m:\u001b[0m\u001b[1;33m\u001b[0m\u001b[1;33m\u001b[0m\u001b[0m\n\u001b[1;32m--> 476\u001b[1;33m             \u001b[1;32mraise\u001b[0m \u001b[0mValueError\u001b[0m\u001b[1;33m(\u001b[0m\u001b[1;34m\"The data contains non-finite values.\"\u001b[0m\u001b[1;33m)\u001b[0m\u001b[1;33m\u001b[0m\u001b[1;33m\u001b[0m\u001b[0m\n\u001b[0m\u001b[0;32m    477\u001b[0m \u001b[1;33m\u001b[0m\u001b[0m\n\u001b[0;32m    478\u001b[0m         \u001b[1;32mif\u001b[0m \u001b[0mfloc\u001b[0m \u001b[1;32mis\u001b[0m \u001b[1;32mNone\u001b[0m\u001b[1;33m:\u001b[0m\u001b[1;33m\u001b[0m\u001b[1;33m\u001b[0m\u001b[0m\n\u001b[0;32m    479\u001b[0m             \u001b[0mloc\u001b[0m \u001b[1;33m=\u001b[0m \u001b[0mdata\u001b[0m\u001b[1;33m.\u001b[0m\u001b[0mmean\u001b[0m\u001b[1;33m(\u001b[0m\u001b[1;33m)\u001b[0m\u001b[1;33m\u001b[0m\u001b[1;33m\u001b[0m\u001b[0m\n",
      "\u001b[1;31mValueError\u001b[0m: The data contains non-finite values."
     ]
    }
   ],
   "source": [
    "\n",
    "from scipy.stats import norm\n",
    "import matplotlib.pyplot as plt\n",
    "\n",
    "mu, sigma = norm.fit(data.ValorObservado)\n",
    "plt.hist(data.ValorObservado, bins=20, density=True, alpha=0.6, color='g')\n",
    "xmin, xmax = plt.xlim()\n",
    "x = np.linspace(xmin, xmax, 100)\n",
    "p = norm.pdf(x, mu, sigma)\n",
    "plt.plot(x, p, 'k', linewidth=2)\n",
    "plt.title(f\"Fit results: mu = {mu:.2f},  sigma = {sigma:.2f}\")\n",
    "plt.show()\n",
    "        \n"
   ]
  },
  {
   "cell_type": "markdown",
   "id": "8820460a",
   "metadata": {},
   "source": [
    "     3. **Responder preguntas prácticas:** ¿Cuál es la probabilidad de que la precipitación sea mayor a 100 mm en un día típico?\n",
    "        ```python\n",
    "        prob = 1 - norm.cdf(100, mu, sigma)\n",
    "        print(f\"P(precip > 100 mm) = {prob:.4f}\")\n",
    "        ```\n",
    "\n",
    "**Fase 4: Discusión (20 min)**\n",
    "   - Reflexionar sobre las aplicaciones de las técnicas matemáticas y computacionales en la resolución de problemas reales en ciencias agrarias.\n",
    "   - Resaltar la importancia de usar datos abiertos como los del IDEAM para promover la sostenibilidad.\n",
    "\n",
    "---\n",
    "\n",
    "### **3. Después de Clase: Consolidación**\n",
    "**Tareas:**\n",
    "- Resolver un problema similar de cálculo de volúmenes usando otra curva y región.\n",
    "- Ajustar una distribución exponencial a los datos de temperatura de otra estación meteorológica del IDEAM.\n",
    "- Escribir una breve reflexión sobre el impacto del análisis meteorológico en la toma de decisiones agrícolas.\n",
    "\n",
    "**Recursos Adicionales:**\n",
    "- Notebooks de clase compartidos en GitHub.\n",
    "- Enlace a datos abiertos del IDEAM.\n",
    "\n",
    "---\n",
    "\n",
    "### **Evaluación**\n",
    "- **Criterios:**\n",
    "  - Correctitud en la aplicación de la integral definida.\n",
    "  - Capacidad para ajustar y analizar distribuciones de probabilidad.\n",
    "  - Claridad y precisión en la interpretación de resultados.\n",
    "- **Instrumentos:** \n",
    "  - Rúbrica de evaluación para notebooks en Python.\n",
    "  - Cuestionario sobre aplicaciones prácticas en ciencias agrarias. \n",
    "\n",
    "--- \n",
    "\n",
    "Este diseño integra matemáticas, programación y aplicaciones prácticas, fomentando habilidades interdisciplinarias esenciales en ciencias agrarias."
   ]
  },
  {
   "cell_type": "markdown",
   "id": "ec048afb",
   "metadata": {},
   "source": [
    "# Implementación del diseño  \n",
    "\n",
    "### Diseño de Clase: Aplicaciones de la Integral Definida al Cálculo de Volúmenes en Ciencias Agrarias y Uso de Distribuciones de Probabilidad para Describir Variables Meteorológicas\n",
    "\n",
    "---\n",
    "\n",
    "#### **Información General**\n",
    "- **Asignatura**: Cálculo Integral\n",
    "- **Duración**: 3 horas\n",
    "- **Modalidad**: Aula invertida con metodología ABP (Aprendizaje Basado en Problemas)\n",
    "- **Nivel**: Estudiantes de programas como Ingeniería Agropecuaria y Licenciatura en Matemáticas\n",
    "- **Recursos**: Jupyter Notebooks, Python (bibliotecas: NumPy, SciPy, Matplotlib, SymPy), datos meteorológicos del IDEAM (2007-2024), videos introductorios en el canal de YouTube _DiMathData_.\n",
    "\n",
    "---\n",
    "\n",
    "#### **Objetivos de Aprendizaje**\n",
    "1. **Matemáticos**: \n",
    "   - Comprender y aplicar la integral definida para calcular volúmenes de sólidos de revolución.\n",
    "   - Identificar la relación entre distribuciones de probabilidad y el modelado de variables meteorológicas.\n",
    "\n",
    "2. **Aplicados**:\n",
    "   - Modelar el volumen de almacenamiento de agua en un tanque diseñado para cultivos utilizando la integral definida.\n",
    "   - Analizar datos meteorológicos del IDEAM utilizando distribuciones de probabilidad para describir variables como precipitación y temperatura.\n",
    "\n",
    "3. **Tecnológicos**:\n",
    "   - Implementar cálculos y visualizaciones en Python para resolver problemas agrarios y meteorológicos.\n",
    "\n",
    "---\n",
    "\n",
    "#### **Etapas de la Clase**\n",
    "\n",
    "### **1. Antes de Clase: Preparación**\n",
    "**Actividades Previas:**\n",
    "- **Videos:** \n",
    "  - Introducción a las aplicaciones de la integral definida en el cálculo de volúmenes.\n",
    "  - Conceptos básicos de distribuciones de probabilidad (Normal, Exponencial) con aplicaciones en meteorología.\n",
    "- **Lectura Asignada:**\n",
    "  - Capítulo sobre sólidos de revolución.\n",
    "  - Documento introductorio sobre el uso de datos meteorológicos en ciencias agrarias (disponible en GitHub del curso).\n",
    "\n",
    "---\n",
    "\n",
    "### **2. Durante la Clase: Actividades Prácticas**\n",
    "**Fase 1: Introducción Rápida (20 min)**\n",
    "   - Breve repaso de conceptos clave sobre sólidos de revolución y distribuciones de probabilidad.\n",
    "   - Presentación del problema agrario: \n",
    "     > *Diseñar un tanque cilíndrico para capturar y almacenar agua durante temporadas de lluvia, con datos históricos de precipitación del IDEAM.*\n",
    "\n",
    "**Fase 2: Actividad 1 - Volumen del Tanque de Almacenamiento (50 min)**\n",
    "   - **Problema:** Dado el perfil de un tanque con ecuación \\(y = x^2\\), calcular el volumen mediante la rotación de la curva respecto al eje \\(x\\) en el intervalo [0, 3].\n",
    "   - **Pasos:**\n",
    "     1. Derivar la fórmula del volumen usando la integral definida:\n",
    "        \\[\n",
    "        V = \\pi \\int_{a}^{b} [f(x)]^2 dx\n",
    "        \\]\n",
    "     2. Resolver la integral manualmente y luego verificar con Python:\n",
    "        ```python\n",
    "        from sympy import symbols, integrate, pi\n",
    "\n",
    "        x = symbols('x')\n",
    "        f = x**2\n",
    "        volume = pi * integrate(f**2, (x, 0, 3))\n",
    "        print(volume)\n",
    "        ```\n",
    "     3. Visualizar el sólido de revolución usando Matplotlib:\n",
    "        ```python\n",
    "        import matplotlib.pyplot as plt\n",
    "        import numpy as np\n",
    "        from mpl_toolkits.mplot3d import Axes3D\n",
    "\n",
    "        theta = np.linspace(0, 2*np.pi, 100)\n",
    "        x = np.linspace(0, 3, 50)\n",
    "        X, Theta = np.meshgrid(x, theta)\n",
    "        Y = X**2\n",
    "        Z = Y * np.cos(Theta)\n",
    "        W = Y * np.sin(Theta)\n",
    "\n",
    "        fig = plt.figure()\n",
    "        ax = fig.add_subplot(111, projection='3d')\n",
    "        ax.plot_surface(Z, W, X, alpha=0.7)\n",
    "        plt.show()\n",
    "        ```\n",
    "\n",
    "**Fase 3: Actividad 2 - Análisis de Variables Meteorológicas (50 min)**\n",
    "   - **Problema:** Analizar datos históricos de precipitación en Caucasia para ajustar una distribución de probabilidad y calcular probabilidades útiles para planificar riegos agrícolas.\n",
    "   - **Pasos:**\n",
    "     1. **Cargar los datos meteorológicos** (archivo .csv de IDEAM).\n",
    "        ```python\n",
    "        import pandas as pd\n",
    "\n",
    "        data = pd.read_csv('precipitation_data.csv')\n",
    "        precip = data['Precipitation']\n",
    "        ```\n",
    "     2. **Visualizar los datos y ajustar una distribución de probabilidad:**\n",
    "        ```python\n",
    "        from scipy.stats import norm\n",
    "        import matplotlib.pyplot as plt\n",
    "\n",
    "        mu, sigma = norm.fit(precip)\n",
    "        plt.hist(precip, bins=20, density=True, alpha=0.6, color='g')\n",
    "        xmin, xmax = plt.xlim()\n",
    "        x = np.linspace(xmin, xmax, 100)\n",
    "        p = norm.pdf(x, mu, sigma)\n",
    "        plt.plot(x, p, 'k', linewidth=2)\n",
    "        plt.title(f\"Fit results: mu = {mu:.2f},  sigma = {sigma:.2f}\")\n",
    "        plt.show()\n",
    "        ```\n",
    "     3. **Responder preguntas prácticas:** ¿Cuál es la probabilidad de que la precipitación sea mayor a 100 mm en un día típico?\n",
    "        ```python\n",
    "        prob = 1 - norm.cdf(100, mu, sigma)\n",
    "        print(f\"P(precip > 100 mm) = {prob:.4f}\")\n",
    "        ```\n",
    "\n",
    "**Fase 4: Discusión (20 min)**\n",
    "   - Reflexionar sobre las aplicaciones de las técnicas matemáticas y computacionales en la resolución de problemas reales en ciencias agrarias.\n",
    "   - Resaltar la importancia de usar datos abiertos como los del IDEAM para promover la sostenibilidad.\n",
    "\n",
    "---\n",
    "\n",
    "### **3. Después de Clase: Consolidación**\n",
    "**Tareas:**\n",
    "- Resolver un problema similar de cálculo de volúmenes usando otra curva y región.\n",
    "- Ajustar una distribución exponencial a los datos de temperatura de otra estación meteorológica del IDEAM.\n",
    "- Escribir una breve reflexión sobre el impacto del análisis meteorológico en la toma de decisiones agrícolas.\n",
    "\n",
    "**Recursos Adicionales:**\n",
    "- Notebooks de clase compartidos en GitHub.\n",
    "- Enlace a datos abiertos del IDEAM.\n",
    "\n",
    "---\n",
    "\n",
    "### **Evaluación**\n",
    "- **Criterios:**\n",
    "  - Correctitud en la aplicación de la integral definida.\n",
    "  - Capacidad para ajustar y analizar distribuciones de probabilidad.\n",
    "  - Claridad y precisión en la interpretación de resultados.\n",
    "- **Instrumentos:** \n",
    "  - Rúbrica de evaluación para notebooks en Python.\n",
    "  - Cuestionario sobre aplicaciones prácticas en ciencias agrarias. \n",
    "\n",
    "--- \n"
   ]
  },
  {
   "cell_type": "markdown",
   "id": "f2489f92",
   "metadata": {},
   "source": [
    "\n",
    "Este diseño integra matemáticas, programación y aplicaciones prácticas, fomentando habilidades interdisciplinarias esenciales en ciencias agrarias."
   ]
  },
  {
   "cell_type": "markdown",
   "id": "64ac8d32",
   "metadata": {},
   "source": [
    "# Ejemplo ilustrativo"
   ]
  },
  {
   "cell_type": "markdown",
   "id": "a3e5e6ab",
   "metadata": {},
   "source": [
    "# 10 ejercicios de entrenamiento o adquisición de habilidades obtenido a través de ChatGPT para una formación personalizada y centrada en la habilidad que se quiere lograr con la enseñanza del ejemplo anterior"
   ]
  },
  {
   "cell_type": "code",
   "execution_count": null,
   "id": "cc539357",
   "metadata": {},
   "outputs": [],
   "source": []
  },
  {
   "cell_type": "markdown",
   "id": "2f0141c3",
   "metadata": {},
   "source": [
    "## Tareas para realizar antes de la clase  \n",
    "\n",
    "1. Ver los videos respectivos []()\n",
    "2. Memorizar las definiciones []()\n",
    "3. Sintetizar o resumir la información en mapas conceptuales. []()\n",
    "4. Tareas para incentivar el uso de la calculadora Casio 991LA cw Para ingenieros, licenciados y administradores.  \n",
    "5. Leer los ejemplos resueltos y replicar la manera de hacerlos"
   ]
  },
  {
   "cell_type": "code",
   "execution_count": 1,
   "id": "83d849ab",
   "metadata": {},
   "outputs": [],
   "source": [
    "# Tarea 1 de lectura de ejemplos y completación de procedimientos\n",
    "# asignación de tarea para realizar antes de clase\n",
    "# Consiste en leer y completar un ejemplo de texto guía\n",
    "# Esta tarea es para realizar solo de manera manuscrita en su cuaderno de clase. \n",
    "# La otra opción de presentación es elaborada en cuadernos Jupyter (En este caso solo debe realizar la cuarta parte de los ejercicios asignados)\n",
    "# \n",
    "def asignador_de_tareas(nombre_tarea, ubicacion_tarea):\n",
    "    import pandas as pd\n",
    "    import numpy as np\n",
    "    import requests\n",
    "    np.random.seed(1213)  # establecer semilla aleatoria para hacer los resultados reproducibles\n",
    "\n",
    "    def asignar_tarea(nombre_tarea, grupo_estudiantes, nombre_texto_guia, pag_seccion, numero_ejemplos_seccion, numero_ejemplos_asignados):\n",
    "        students_path = \"/home/marco/Documentos/docencia/groups_list/\" + grupo_estudiantes + \".csv\"\n",
    "        examples = list(range(1, numero_ejemplos_de_la_seccion))  \n",
    "        students_data = pd.read_csv(students_path)\n",
    "        # Crear una lista para almacenar las asignaciones\n",
    "        assignments = []\n",
    "\n",
    "        # Asignar ejercicios aleatorios a cada estudiante\n",
    "        for index, student in students_data.iterrows():\n",
    "            # Seleccionar 5 ejercicios aleatorios sin repetición\n",
    "            random_exercises = np.sort(np.random.choice(examples, numero_de_ejemplos_asignados, \\\n",
    "                                                replace = False)+ 1)\n",
    "            assignments.append([students_data[\"Nombre\"][index], *random_exercises])  # Agregar asignación a la lista\n",
    "\n",
    "    # Crear un DataFrame con las asignaciones\n",
    "        columns = [\"Student\"] + [ \"Example\" + str(i+1) for i in range(numero_de_ejemplos_asignados)]\n",
    "        assignment_df = pd.DataFrame(assignments, columns=columns)\n",
    "\n",
    "    # Guardar el DataFrame en un archivo CSV\n",
    "        assignment_csv = nombre_tarea + \"_\" + nombre_texto_guia + \"_\"+ pagina_y_seccion + \".csv\"\n",
    "        assignment_df.to_csv(assignment_csv, index=False)\n",
    "\n",
    "        print(\"\"\"Tarea 1 de lectura de ejemplos y completación de procedimientos: \n",
    "     Si faltan los enunciados de los problemas, no se valora la tarea\n",
    "    Si faltan de la conclusión verbales, no se valora la tarea.\n",
    "    Esta tarea se valora solo si la presenta de manera manuscrita en su cuaderno de clase.  \n",
    "      \"\"\", assignment_csv)\n",
    "        return assignment_df"
   ]
  },
  {
   "cell_type": "markdown",
   "id": "740f3401",
   "metadata": {
    "slideshow": {
     "slide_type": "slide"
    }
   },
   "source": [
    "# Componente de manejo de calculadora Casio asociado al objetivo de aprendizaje de esta clase  \n",
    "\n",
    "## Pasos para lograr el objetivo de aprendizaje con la experimentación en la calculadora Casio 991LA cw  "
   ]
  },
  {
   "cell_type": "code",
   "execution_count": 2,
   "id": "0f1f0ab2",
   "metadata": {},
   "outputs": [
    {
     "ename": "NameError",
     "evalue": "name 'nombre_tarea' is not defined",
     "output_type": "error",
     "traceback": [
      "\u001b[1;31m---------------------------------------------------------------------------\u001b[0m",
      "\u001b[1;31mNameError\u001b[0m                                 Traceback (most recent call last)",
      "Cell \u001b[1;32mIn[2], line 1\u001b[0m\n\u001b[1;32m----> 1\u001b[0m asignador_de_tareas(\u001b[43mnombre_tarea\u001b[49m, ubicacion_tarea)\n",
      "\u001b[1;31mNameError\u001b[0m: name 'nombre_tarea' is not defined"
     ]
    }
   ],
   "source": [
    "asignador_de_tareas(nombre_tarea, ubicacion_tarea)\n",
    "\n"
   ]
  },
  {
   "cell_type": "code",
   "execution_count": null,
   "id": "0406f442",
   "metadata": {
    "slideshow": {
     "slide_type": "slide"
    }
   },
   "outputs": [
    {
     "name": "stdout",
     "output_type": "stream",
     "text": [
      "Tarea 3 Solución problemas describiendo y justificando verbalmente: \n",
      "      Si faltan los enunciados de los problemas, no se valora la tarea\n",
      "      Si faltan de la conclusión verbales, no se valora la tarea \n",
      "      Esta tarea se valora solo si la presenta de manera manuscrita en su cuaderno de clase  \n",
      "       tarea_Purcell_Página_202_Sección_3.8.csv\n"
     ]
    },
    {
     "data": {
      "text/html": [
       "<div>\n",
       "<style scoped>\n",
       "    .dataframe tbody tr th:only-of-type {\n",
       "        vertical-align: middle;\n",
       "    }\n",
       "\n",
       "    .dataframe tbody tr th {\n",
       "        vertical-align: top;\n",
       "    }\n",
       "\n",
       "    .dataframe thead th {\n",
       "        text-align: right;\n",
       "    }\n",
       "</style>\n",
       "<table border=\"1\" class=\"dataframe\">\n",
       "  <thead>\n",
       "    <tr style=\"text-align: right;\">\n",
       "      <th></th>\n",
       "      <th>Student</th>\n",
       "      <th>Exer1</th>\n",
       "      <th>Exer2</th>\n",
       "      <th>Exer3</th>\n",
       "      <th>Exer4</th>\n",
       "      <th>Exer5</th>\n",
       "      <th>Exer6</th>\n",
       "      <th>Exer7</th>\n",
       "      <th>Exer8</th>\n",
       "      <th>Exer9</th>\n",
       "      <th>Exer10</th>\n",
       "    </tr>\n",
       "  </thead>\n",
       "  <tbody>\n",
       "    <tr>\n",
       "      <th>0</th>\n",
       "      <td>AMARIS FERNANDEZ SEBASTIAN CAMILO</td>\n",
       "      <td>4</td>\n",
       "      <td>7</td>\n",
       "      <td>9</td>\n",
       "      <td>17</td>\n",
       "      <td>21</td>\n",
       "      <td>30</td>\n",
       "      <td>39</td>\n",
       "      <td>44</td>\n",
       "      <td>51</td>\n",
       "      <td>54</td>\n",
       "    </tr>\n",
       "    <tr>\n",
       "      <th>1</th>\n",
       "      <td>ARENAS HERAZO GABRIEL ENRIQUE</td>\n",
       "      <td>2</td>\n",
       "      <td>5</td>\n",
       "      <td>11</td>\n",
       "      <td>17</td>\n",
       "      <td>26</td>\n",
       "      <td>28</td>\n",
       "      <td>32</td>\n",
       "      <td>40</td>\n",
       "      <td>46</td>\n",
       "      <td>50</td>\n",
       "    </tr>\n",
       "    <tr>\n",
       "      <th>2</th>\n",
       "      <td>AYALA MENDOZA MARISOL YACIRA</td>\n",
       "      <td>10</td>\n",
       "      <td>18</td>\n",
       "      <td>21</td>\n",
       "      <td>37</td>\n",
       "      <td>39</td>\n",
       "      <td>45</td>\n",
       "      <td>46</td>\n",
       "      <td>47</td>\n",
       "      <td>51</td>\n",
       "      <td>52</td>\n",
       "    </tr>\n",
       "    <tr>\n",
       "      <th>3</th>\n",
       "      <td>BERTEL RODELO MICHELL SMIT</td>\n",
       "      <td>4</td>\n",
       "      <td>8</td>\n",
       "      <td>20</td>\n",
       "      <td>26</td>\n",
       "      <td>28</td>\n",
       "      <td>33</td>\n",
       "      <td>40</td>\n",
       "      <td>41</td>\n",
       "      <td>42</td>\n",
       "      <td>47</td>\n",
       "    </tr>\n",
       "    <tr>\n",
       "      <th>4</th>\n",
       "      <td>BULA VERGARA MARIA PAULA</td>\n",
       "      <td>12</td>\n",
       "      <td>13</td>\n",
       "      <td>20</td>\n",
       "      <td>23</td>\n",
       "      <td>25</td>\n",
       "      <td>27</td>\n",
       "      <td>29</td>\n",
       "      <td>30</td>\n",
       "      <td>34</td>\n",
       "      <td>48</td>\n",
       "    </tr>\n",
       "    <tr>\n",
       "      <th>5</th>\n",
       "      <td>CANTILLO ENSUCHO DANIEL</td>\n",
       "      <td>2</td>\n",
       "      <td>4</td>\n",
       "      <td>5</td>\n",
       "      <td>7</td>\n",
       "      <td>15</td>\n",
       "      <td>25</td>\n",
       "      <td>27</td>\n",
       "      <td>33</td>\n",
       "      <td>46</td>\n",
       "      <td>51</td>\n",
       "    </tr>\n",
       "    <tr>\n",
       "      <th>6</th>\n",
       "      <td>CERVANTES DURAN ANGELICA</td>\n",
       "      <td>2</td>\n",
       "      <td>4</td>\n",
       "      <td>5</td>\n",
       "      <td>14</td>\n",
       "      <td>17</td>\n",
       "      <td>19</td>\n",
       "      <td>22</td>\n",
       "      <td>24</td>\n",
       "      <td>34</td>\n",
       "      <td>52</td>\n",
       "    </tr>\n",
       "    <tr>\n",
       "      <th>7</th>\n",
       "      <td>GUERRA NORIEGA YONATHAN</td>\n",
       "      <td>3</td>\n",
       "      <td>20</td>\n",
       "      <td>24</td>\n",
       "      <td>26</td>\n",
       "      <td>28</td>\n",
       "      <td>35</td>\n",
       "      <td>39</td>\n",
       "      <td>48</td>\n",
       "      <td>49</td>\n",
       "      <td>53</td>\n",
       "    </tr>\n",
       "    <tr>\n",
       "      <th>8</th>\n",
       "      <td>HINCAPIE CASTRO JOHAN SEBASTIAN</td>\n",
       "      <td>10</td>\n",
       "      <td>17</td>\n",
       "      <td>27</td>\n",
       "      <td>28</td>\n",
       "      <td>29</td>\n",
       "      <td>32</td>\n",
       "      <td>36</td>\n",
       "      <td>44</td>\n",
       "      <td>48</td>\n",
       "      <td>54</td>\n",
       "    </tr>\n",
       "    <tr>\n",
       "      <th>9</th>\n",
       "      <td>HUMANEZ SANCHEZ CAMILO</td>\n",
       "      <td>3</td>\n",
       "      <td>16</td>\n",
       "      <td>19</td>\n",
       "      <td>24</td>\n",
       "      <td>33</td>\n",
       "      <td>41</td>\n",
       "      <td>43</td>\n",
       "      <td>44</td>\n",
       "      <td>47</td>\n",
       "      <td>49</td>\n",
       "    </tr>\n",
       "    <tr>\n",
       "      <th>10</th>\n",
       "      <td>IBAÑEZ MORENO FRANCISCO LUIS</td>\n",
       "      <td>3</td>\n",
       "      <td>8</td>\n",
       "      <td>13</td>\n",
       "      <td>16</td>\n",
       "      <td>21</td>\n",
       "      <td>27</td>\n",
       "      <td>28</td>\n",
       "      <td>31</td>\n",
       "      <td>42</td>\n",
       "      <td>43</td>\n",
       "    </tr>\n",
       "    <tr>\n",
       "      <th>11</th>\n",
       "      <td>MASS MIRANDA RIVALDO JOSE</td>\n",
       "      <td>2</td>\n",
       "      <td>3</td>\n",
       "      <td>12</td>\n",
       "      <td>13</td>\n",
       "      <td>23</td>\n",
       "      <td>24</td>\n",
       "      <td>31</td>\n",
       "      <td>35</td>\n",
       "      <td>46</td>\n",
       "      <td>52</td>\n",
       "    </tr>\n",
       "    <tr>\n",
       "      <th>12</th>\n",
       "      <td>MIRANDA MARTINEZ CARLOS ANDRES</td>\n",
       "      <td>10</td>\n",
       "      <td>12</td>\n",
       "      <td>21</td>\n",
       "      <td>24</td>\n",
       "      <td>25</td>\n",
       "      <td>26</td>\n",
       "      <td>27</td>\n",
       "      <td>29</td>\n",
       "      <td>39</td>\n",
       "      <td>50</td>\n",
       "    </tr>\n",
       "    <tr>\n",
       "      <th>13</th>\n",
       "      <td>MONTERROSA SOTO ABRIL</td>\n",
       "      <td>10</td>\n",
       "      <td>14</td>\n",
       "      <td>16</td>\n",
       "      <td>18</td>\n",
       "      <td>28</td>\n",
       "      <td>30</td>\n",
       "      <td>35</td>\n",
       "      <td>36</td>\n",
       "      <td>42</td>\n",
       "      <td>50</td>\n",
       "    </tr>\n",
       "    <tr>\n",
       "      <th>14</th>\n",
       "      <td>NORIEGA JIMENEZ GABRIELA</td>\n",
       "      <td>4</td>\n",
       "      <td>13</td>\n",
       "      <td>14</td>\n",
       "      <td>16</td>\n",
       "      <td>19</td>\n",
       "      <td>22</td>\n",
       "      <td>36</td>\n",
       "      <td>37</td>\n",
       "      <td>46</td>\n",
       "      <td>51</td>\n",
       "    </tr>\n",
       "    <tr>\n",
       "      <th>15</th>\n",
       "      <td>PEREZ REYES IVAN DARIO</td>\n",
       "      <td>17</td>\n",
       "      <td>19</td>\n",
       "      <td>23</td>\n",
       "      <td>26</td>\n",
       "      <td>30</td>\n",
       "      <td>33</td>\n",
       "      <td>34</td>\n",
       "      <td>40</td>\n",
       "      <td>46</td>\n",
       "      <td>53</td>\n",
       "    </tr>\n",
       "    <tr>\n",
       "      <th>16</th>\n",
       "      <td>PEREZ THERAN ERLINDA</td>\n",
       "      <td>3</td>\n",
       "      <td>6</td>\n",
       "      <td>19</td>\n",
       "      <td>21</td>\n",
       "      <td>25</td>\n",
       "      <td>30</td>\n",
       "      <td>32</td>\n",
       "      <td>39</td>\n",
       "      <td>42</td>\n",
       "      <td>45</td>\n",
       "    </tr>\n",
       "    <tr>\n",
       "      <th>17</th>\n",
       "      <td>PINEDA ROMERO YOSMERI</td>\n",
       "      <td>2</td>\n",
       "      <td>30</td>\n",
       "      <td>31</td>\n",
       "      <td>32</td>\n",
       "      <td>35</td>\n",
       "      <td>36</td>\n",
       "      <td>37</td>\n",
       "      <td>42</td>\n",
       "      <td>47</td>\n",
       "      <td>50</td>\n",
       "    </tr>\n",
       "    <tr>\n",
       "      <th>18</th>\n",
       "      <td>QUINONEZ CERVANTES MARIANA</td>\n",
       "      <td>5</td>\n",
       "      <td>6</td>\n",
       "      <td>8</td>\n",
       "      <td>13</td>\n",
       "      <td>15</td>\n",
       "      <td>32</td>\n",
       "      <td>33</td>\n",
       "      <td>42</td>\n",
       "      <td>46</td>\n",
       "      <td>49</td>\n",
       "    </tr>\n",
       "    <tr>\n",
       "      <th>19</th>\n",
       "      <td>RAMOS PEREZ YANINE</td>\n",
       "      <td>11</td>\n",
       "      <td>20</td>\n",
       "      <td>21</td>\n",
       "      <td>28</td>\n",
       "      <td>29</td>\n",
       "      <td>37</td>\n",
       "      <td>39</td>\n",
       "      <td>44</td>\n",
       "      <td>46</td>\n",
       "      <td>52</td>\n",
       "    </tr>\n",
       "    <tr>\n",
       "      <th>20</th>\n",
       "      <td>RIVAS HOYOS ESTEFANIA</td>\n",
       "      <td>7</td>\n",
       "      <td>10</td>\n",
       "      <td>12</td>\n",
       "      <td>14</td>\n",
       "      <td>17</td>\n",
       "      <td>25</td>\n",
       "      <td>28</td>\n",
       "      <td>30</td>\n",
       "      <td>37</td>\n",
       "      <td>48</td>\n",
       "    </tr>\n",
       "    <tr>\n",
       "      <th>21</th>\n",
       "      <td>ROSILLO TEJADA VANESA</td>\n",
       "      <td>12</td>\n",
       "      <td>22</td>\n",
       "      <td>23</td>\n",
       "      <td>27</td>\n",
       "      <td>28</td>\n",
       "      <td>30</td>\n",
       "      <td>34</td>\n",
       "      <td>36</td>\n",
       "      <td>40</td>\n",
       "      <td>44</td>\n",
       "    </tr>\n",
       "    <tr>\n",
       "      <th>22</th>\n",
       "      <td>SANCHEZ PADILLA SILVESTRE</td>\n",
       "      <td>4</td>\n",
       "      <td>7</td>\n",
       "      <td>15</td>\n",
       "      <td>22</td>\n",
       "      <td>32</td>\n",
       "      <td>34</td>\n",
       "      <td>38</td>\n",
       "      <td>43</td>\n",
       "      <td>48</td>\n",
       "      <td>53</td>\n",
       "    </tr>\n",
       "    <tr>\n",
       "      <th>23</th>\n",
       "      <td>SILVA ROYERO MAILY CRISTINA</td>\n",
       "      <td>4</td>\n",
       "      <td>5</td>\n",
       "      <td>12</td>\n",
       "      <td>13</td>\n",
       "      <td>20</td>\n",
       "      <td>25</td>\n",
       "      <td>30</td>\n",
       "      <td>35</td>\n",
       "      <td>42</td>\n",
       "      <td>54</td>\n",
       "    </tr>\n",
       "    <tr>\n",
       "      <th>24</th>\n",
       "      <td>USUGA GEORGE JHON ESTIVEN</td>\n",
       "      <td>5</td>\n",
       "      <td>7</td>\n",
       "      <td>8</td>\n",
       "      <td>10</td>\n",
       "      <td>22</td>\n",
       "      <td>37</td>\n",
       "      <td>39</td>\n",
       "      <td>42</td>\n",
       "      <td>44</td>\n",
       "      <td>51</td>\n",
       "    </tr>\n",
       "  </tbody>\n",
       "</table>\n",
       "</div>"
      ],
      "text/plain": [
       "                              Student  Exer1  Exer2  Exer3  Exer4  Exer5  \\\n",
       "0   AMARIS FERNANDEZ SEBASTIAN CAMILO      4      7      9     17     21   \n",
       "1       ARENAS HERAZO GABRIEL ENRIQUE      2      5     11     17     26   \n",
       "2        AYALA MENDOZA MARISOL YACIRA     10     18     21     37     39   \n",
       "3          BERTEL RODELO MICHELL SMIT      4      8     20     26     28   \n",
       "4            BULA VERGARA MARIA PAULA     12     13     20     23     25   \n",
       "5             CANTILLO ENSUCHO DANIEL      2      4      5      7     15   \n",
       "6            CERVANTES DURAN ANGELICA      2      4      5     14     17   \n",
       "7             GUERRA NORIEGA YONATHAN      3     20     24     26     28   \n",
       "8     HINCAPIE CASTRO JOHAN SEBASTIAN     10     17     27     28     29   \n",
       "9              HUMANEZ SANCHEZ CAMILO      3     16     19     24     33   \n",
       "10       IBAÑEZ MORENO FRANCISCO LUIS      3      8     13     16     21   \n",
       "11          MASS MIRANDA RIVALDO JOSE      2      3     12     13     23   \n",
       "12     MIRANDA MARTINEZ CARLOS ANDRES     10     12     21     24     25   \n",
       "13              MONTERROSA SOTO ABRIL     10     14     16     18     28   \n",
       "14           NORIEGA JIMENEZ GABRIELA      4     13     14     16     19   \n",
       "15             PEREZ REYES IVAN DARIO     17     19     23     26     30   \n",
       "16               PEREZ THERAN ERLINDA      3      6     19     21     25   \n",
       "17              PINEDA ROMERO YOSMERI      2     30     31     32     35   \n",
       "18         QUINONEZ CERVANTES MARIANA      5      6      8     13     15   \n",
       "19                 RAMOS PEREZ YANINE     11     20     21     28     29   \n",
       "20              RIVAS HOYOS ESTEFANIA      7     10     12     14     17   \n",
       "21              ROSILLO TEJADA VANESA     12     22     23     27     28   \n",
       "22          SANCHEZ PADILLA SILVESTRE      4      7     15     22     32   \n",
       "23        SILVA ROYERO MAILY CRISTINA      4      5     12     13     20   \n",
       "24          USUGA GEORGE JHON ESTIVEN      5      7      8     10     22   \n",
       "\n",
       "    Exer6  Exer7  Exer8  Exer9  Exer10  \n",
       "0      30     39     44     51      54  \n",
       "1      28     32     40     46      50  \n",
       "2      45     46     47     51      52  \n",
       "3      33     40     41     42      47  \n",
       "4      27     29     30     34      48  \n",
       "5      25     27     33     46      51  \n",
       "6      19     22     24     34      52  \n",
       "7      35     39     48     49      53  \n",
       "8      32     36     44     48      54  \n",
       "9      41     43     44     47      49  \n",
       "10     27     28     31     42      43  \n",
       "11     24     31     35     46      52  \n",
       "12     26     27     29     39      50  \n",
       "13     30     35     36     42      50  \n",
       "14     22     36     37     46      51  \n",
       "15     33     34     40     46      53  \n",
       "16     30     32     39     42      45  \n",
       "17     36     37     42     47      50  \n",
       "18     32     33     42     46      49  \n",
       "19     37     39     44     46      52  \n",
       "20     25     28     30     37      48  \n",
       "21     30     34     36     40      44  \n",
       "22     34     38     43     48      53  \n",
       "23     25     30     35     42      54  \n",
       "24     37     39     42     44      51  "
      ]
     },
     "execution_count": 5,
     "metadata": {},
     "output_type": "execute_result"
    }
   ],
   "source": [
    "asignador_de_tareas(nombre_tarea, ubicacion_tarea):\n",
    "\n",
    "\n",
    "\n"
   ]
  },
  {
   "cell_type": "markdown",
   "id": "8d41fe58",
   "metadata": {
    "slideshow": {
     "slide_type": "slide"
    }
   },
   "source": [
    "# Horario de clases del profesor Marco\n",
    "\n",
    "* Lunes 8-12: Cálculo Vectorial\n",
    "* Martes 8-12 M: Fundamentos de Aritmética. \n",
    "* Miércoles 8 a 12 M: Fundamentos de la Lógica\n",
    "* Jueves 2 a 6 PM: Desarrollo del pensamiento matemático en la infancia. \n",
    "* Viernes 8 - 12 M: Desarrollo del pensamiento matemático en la infancia. \n",
    "* Sábados 8-12 Asesorías y espacio para retroalimentación y apoyo al trabajo independiente. "
   ]
  },
  {
   "cell_type": "markdown",
   "id": "ae114e14",
   "metadata": {
    "slideshow": {
     "slide_type": "slide"
    }
   },
   "source": [
    "# Horarios de monitoría y asesoría  \n",
    "\n",
    "Coordinador de los cursos de la Facultad de Educación para regiones:    \n",
    "\n",
    "Andrés Vélez: regioneducacion.fedu@udea.edu.co  \n",
    "Coordinador Regiones  \n",
    "Facultad de Educación  \n",
    "Universidad de Antioquia  "
   ]
  },
  {
   "cell_type": "markdown",
   "id": "b1db4b6c",
   "metadata": {
    "slideshow": {
     "slide_type": "slide"
    }
   },
   "source": [
    "## Monitor Manuel San Juan Serrano\n",
    "\n",
    "Contactar escribiendo al correo: manuel.serrano1@udea.edu.co"
   ]
  },
  {
   "cell_type": "markdown",
   "id": "39559692",
   "metadata": {
    "slideshow": {
     "slide_type": "slide"
    }
   },
   "source": [
    "Martes y jueves de 8 - 12  \n",
    "Miércoles 10 - 12 y de 2 a 4 PM  \n",
    "Sábado: 8 - 12"
   ]
  },
  {
   "cell_type": "markdown",
   "id": "5a190057",
   "metadata": {},
   "source": [
    "## Monitoría virtual   \n",
    "\n",
    "Telefono del monitos en whatsApp: 3043936088  \n",
    "\n",
    "Juan David Cano Castrillón  \n",
    "Estudiante de Pregrado.  \n",
    "juan.canoc1@udea.edu.co  \n",
    "3043936088  \n"
   ]
  },
  {
   "cell_type": "markdown",
   "id": "10bce0d0",
   "metadata": {
    "slideshow": {
     "slide_type": "slide"
    }
   },
   "source": [
    "## Referentes "
   ]
  },
  {
   "cell_type": "markdown",
   "id": "1db3c468",
   "metadata": {
    "slideshow": {
     "slide_type": "slide"
    }
   },
   "source": [
    "* [Grajales Vanegas, L. M., Restrepo Estrada, C. E., Restrepo Ochoa, S. I., & Ruíz De Villalba, F. (2015). Matemáticas I para las ciencias económicas.](https://github.com/marco-canas/fundamentos_de_la_aritmetica/blob/main/referentes/2_grajales_logica/grajales_lina_matemticas.pdf)\n",
    "  \n",
    "* Duval, R. (2004). Semiosis y pensamiento humano: registros semióticos y aprendizajes intelectuales. Universidad del Valle.\n",
    "\n",
    "* [Aylwin, C. U. (2011). Lógica, conjuntos y números. Universidad de los Andes, Consejo de Publicaciones, Colección: Ciencias Básicas, Serie: Matemáticas.](https://github.com/marco-canas/fundamentos_logica/blob/main/referentes/2_uzcategui/uscategui.pdf)\n",
    "  \n",
    "* [Chollet, F. (2021). Deep learning with Python. Simon and Schuster.](https://github.com/marco-canas/didactica_ciencia_datos/blob/main/2_referentes/chollet/Fran%C3%A7ois%20Chollet%20-%20Deep%20Learning%20with%20Python-Manning%20(2018).pdf)  \n",
    "  \n",
    "* [Watson, S., Stewart, J., & Redlin, L. (2009). Precálculo. Matemáticas para el cálculo.](https://github.com/marco-canas/calculo/blob/main/referents/1_precalculo_stewart/stewart_precalculo.pdf)  \n",
    "\n",
    "* [Purcell, E. J., Varberg, D., & Rigdon, S. E. (2007). Cálculo diferencial e integral. Pearson Educación.](https://github.com/marco-canas/calculo/blob/main/referents/purcell/purcell_calculo.pdf)\n",
    "\n",
    "  \n",
    "\n",
    "* [stewart cálculo](https://udeaeduco-my.sharepoint.com/:b:/g/personal/marco_canas_udea_edu_co/EZgXZjAp8QxPqOAim2hs6LcBNPLGjSHf-xwYnUVYkwa04w?e=RZdTCy)  \n",
    "\n",
    "* [larson](https://udeaeduco-my.sharepoint.com/:b:/g/personal/marco_canas_udea_edu_co/ES71ChFeO9ZDhW3TwC5Ijk8BjxUK3Pdqz_fjHxTTFAfIAg?e=VDEjfu)\n",
    "\n",
    "\n",
    "\n",
    "* [Recomendación de la UNESCO sobre ciencia abierta](https://unesdoc.unesco.org/ark:/48223/pf0000379949_spa)\n",
    "\n",
    "* [chatGPT](https://openai.com/blog/chatgpt)  \n",
    "\n",
    "* [Géron, A. (2017). Hands-on machine learning with scikit-learn and tensorflow: Concepts. Tools, and Techniques to build intelligent systems.](https://github.com/marco-canas/didactica_ciencia_datos/blob/main/2_referentes/geron/Hands-On%20Machine%20Learning-3nd_Edition(2022).pdf)  \n",
    "\n",
    "* [McKinney, W. (2012). Python for data analysis: Data wrangling with Pandas, NumPy, and IPython. \" O'Reilly Media, Inc.\".](https://github.com/marco-canas/didactica_ciencia_datos/blob/main/2_referentes/mckinney/Wes_McKinney.pdf)  "
   ]
  },
  {
   "cell_type": "markdown",
   "id": "8e65d6f9",
   "metadata": {},
   "source": [
    "# Como estudiante, encuentro que...   \n",
    "\n",
    "F: Mis Fortalezas son:     \n",
    "O: Mis Oportunidades son:    \n",
    "D: Mis Debilidades son:    \n",
    "A: Lo que Amenazas mi aprendizaje es:  "
   ]
  },
  {
   "cell_type": "markdown",
   "id": "6b9e56a8",
   "metadata": {
    "slideshow": {
     "slide_type": "slide"
    }
   },
   "source": [
    "### [Evaluamos al profesor Marco Cañas Aquí](https://forms.office.com/Pages/ResponsePage.aspx?id=IefhmYRxjkmK_7KtTlPBwkanXIs1i1FEujpsZgO6dXpUREJPV1kxUk1JV1ozTFJIQVNIQjY5WEY3US4u)"
   ]
  },
  {
   "cell_type": "markdown",
   "id": "10f43536",
   "metadata": {
    "slideshow": {
     "slide_type": "slide"
    }
   },
   "source": [
    "### Continue su aprendizaje en la siguiente clase a través del siguiente [vínculo]()"
   ]
  },
  {
   "cell_type": "markdown",
   "id": "ba236f4d",
   "metadata": {},
   "source": [
    "### **Actividad de Clase: Expresar Ideas, Dudas y Emociones de Manera Respetuosa y Asertiva**\n"
   ]
  },
  {
   "cell_type": "markdown",
   "id": "33bcd185",
   "metadata": {},
   "source": [
    "\n",
    "**Objetivo:**  \n",
    "Desarrollar habilidades de comunicación efectiva en los estudiantes para que puedan expresar sus ideas, dudas y emociones de forma respetuosa y asertiva.\n"
   ]
  },
  {
   "cell_type": "markdown",
   "id": "701a6b0c",
   "metadata": {},
   "source": [
    "\n",
    "**Duración:**  \n",
    "15-20 minutos\n",
    "\n",
    "---\n"
   ]
  },
  {
   "cell_type": "markdown",
   "id": "f61da648",
   "metadata": {},
   "source": [
    "\n",
    "### **1. Introducción (5 minutos)**  \n",
    "- **Tema:** Introducir a los estudiantes al concepto de la comunicación asertiva, explicando cómo expresar pensamientos y emociones de manera clara y respetuosa sin agredir o ser pasivo.\n",
    "- **Dinámica:** Mostrar dos ejemplos contrastantes: uno de comunicación pasiva/agresiva y otro de comunicación asertiva. Preguntar a los estudiantes cuál creen que es más efectivo y por qué.\n"
   ]
  },
  {
   "cell_type": "markdown",
   "id": "fb5fcc8d",
   "metadata": {},
   "source": [
    "\n",
    "**Materiales:**  \n",
    "- Pizarra o diapositivas con ejemplos de frases pasivas, agresivas y asertivas.\n",
    "  \n",
    "**Ejemplo:**  \n",
    "- **Pasivo:** “Bueno… no sé si es una buena idea, pero… tal vez podrías intentarlo.”\n",
    "- **Agresivo:** “¡Tu idea es terrible, no va a funcionar!”\n",
    "- **Asertivo:** “Creo que podríamos mejorar esa idea si consideramos otro enfoque.”\n",
    "\n",
    "---\n"
   ]
  },
  {
   "cell_type": "markdown",
   "id": "b5445d5e",
   "metadata": {},
   "source": [
    "\n",
    "### **2. Ejercicio en Parejas (10 minutos)**  \n",
    "- **Instrucciones:** Dividir a los estudiantes en parejas. Darles diferentes situaciones cotidianas en las que deben comunicarse (pedir ayuda, expresar desacuerdo, compartir una idea, etc.). Cada pareja debe crear una breve conversación donde practiquen la comunicación asertiva.\n",
    "  \n",
    "**Situaciones propuestas:**\n",
    "  - Expresar desacuerdo con un compañero sobre una tarea de grupo.\n",
    "  - Pedirle ayuda al profesor sobre un concepto difícil.\n",
    "  - Expresar frustración por un malentendido en clase.\n",
    "\n",
    "- **Reglas:** Cada estudiante debe asegurarse de usar lenguaje respetuoso y asertivo para expresar su posición y emociones. Al final, cada pareja debe compartir con la clase un ejemplo de lo que discutieron.\n",
    "\n",
    "---\n"
   ]
  },
  {
   "cell_type": "markdown",
   "id": "9bcd1b30",
   "metadata": {},
   "source": [
    "\n",
    "### **3. Retroalimentación y Discusión (5 minutos)**  \n",
    "- **Discusión:** Invitar a algunos estudiantes a compartir sus experiencias de la actividad. \n",
    "- **Preguntas:** ¿Cómo se sintieron al intentar ser asertivos? ¿Les resultó difícil? ¿Cómo fue recibido el mensaje?\n",
    "  \n",
    "**Consejo:** Resaltar la importancia de practicar la asertividad como una herramienta para mejorar la comunicación interpersonal y reducir conflictos.\n",
    "\n",
    "---\n"
   ]
  },
  {
   "cell_type": "markdown",
   "id": "512fe655",
   "metadata": {},
   "source": [
    "\n",
    "### **Cierre**  \n",
    "- Resumir las características de la comunicación asertiva: uso de \"yo\" en lugar de \"tú\" para evitar culpabilizar, tono de voz calmado, y respeto hacia el interlocutor.\n",
    "- **Tarea opcional:** Pedirles que practiquen la comunicación asertiva en sus conversaciones durante la semana y escriban una reflexión breve sobre cómo les fue.\n"
   ]
  },
  {
   "cell_type": "markdown",
   "id": "42b177d7",
   "metadata": {},
   "source": [
    "\n",
    "**Material adicional:**  \n",
    "- Video corto o recurso digital sobre la importancia de la comunicación asertiva."
   ]
  },
  {
   "cell_type": "markdown",
   "id": "53cc9115",
   "metadata": {
    "slideshow": {
     "slide_type": "slide"
    }
   },
   "source": [
    "## Agradecimientos  \n",
    "\n",
    "Doy gracias a Dios por la vida de mi Hijo Joseph Cañas Osorio y la madurez que ha alcanzado. Este hijo me enorgullece y me hace falta abrazarlo cada día. \n",
    "\n",
    "Y a mi esposa Yasmira Emperatriz Barboza Mogollón por su apoyo, orientación y acompañamiento. "
   ]
  },
  {
   "cell_type": "markdown",
   "id": "88f7dbda",
   "metadata": {},
   "source": []
  }
 ],
 "metadata": {
  "celltoolbar": "Slideshow",
  "kernelspec": {
   "display_name": "Python 3",
   "language": "python",
   "name": "python3"
  },
  "language_info": {
   "codemirror_mode": {
    "name": "ipython",
    "version": 3
   },
   "file_extension": ".py",
   "mimetype": "text/x-python",
   "name": "python",
   "nbconvert_exporter": "python",
   "pygments_lexer": "ipython3",
   "version": "3.12.7"
  },
  "rise": {
   "enable_chalkboard": true,
   "theme": "sky",
   "transition": "zoom"
  }
 },
 "nbformat": 4,
 "nbformat_minor": 5
}
