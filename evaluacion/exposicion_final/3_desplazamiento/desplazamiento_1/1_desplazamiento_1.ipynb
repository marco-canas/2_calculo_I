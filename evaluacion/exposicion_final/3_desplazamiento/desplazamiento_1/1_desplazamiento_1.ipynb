{
 "cells": [
  {
   "cell_type": "markdown",
   "id": "dc06dec7",
   "metadata": {
    "slideshow": {
     "slide_type": "slide"
    }
   },
   "source": [
    "<table align=\"left\">\n",
    "  <td>\n",
    "    <a href=\"https://colab.research.google.com/github/ageron/handson-ml3/blob/main/tools_numpy.ipynb\" target=\"_parent\"><img src=\"https://colab.research.google.com/assets/colab-badge.svg\" alt=\"Open In Colab\"/></a>\n",
    "  </td>\n",
    "  <td>\n",
    "    <a target=\"_blank\" href=\"https://kaggle.com/kernels/welcome?src=https://github.com/ageron/handson-ml3/blob/main/tools_numpy.ipynb\"><img src=\"https://kaggle.com/static/images/open-in-kaggle.svg\" /></a>\n",
    "  </td>\n",
    "</table>"
   ]
  },
  {
   "cell_type": "markdown",
   "id": "e0c5b198",
   "metadata": {
    "slideshow": {
     "slide_type": "slide"
    }
   },
   "source": [
    "### [Video de apoyo a la lectura interactiva y experimental de este cuaderno]()"
   ]
  },
  {
   "cell_type": "markdown",
   "id": "41e82203",
   "metadata": {
    "slideshow": {
     "slide_type": "slide"
    }
   },
   "source": [
    "### [Vínculo al programa del curso:  ]()\n",
    "\n"
   ]
  },
  {
   "cell_type": "markdown",
   "id": "d11ab06d",
   "metadata": {
    "slideshow": {
     "slide_type": "slide"
    }
   },
   "source": [
    "Un reconocimiento a mis estudiantes que han construido conmigo este saber pedagógico:\n",
    "\n",
    "<img src = ''> \n",
    "\n"
   ]
  },
  {
   "cell_type": "markdown",
   "id": "8a74a56c-0ce6-4ad6-b985-553fd7fb68bb",
   "metadata": {},
   "source": [
    "Reconocimiento a las profesoras destacadas en enseñanza de la matemática en Colombia\n"
   ]
  },
  {
   "cell_type": "code",
   "execution_count": null,
   "id": "7604880f",
   "metadata": {
    "slideshow": {
     "slide_type": "slide"
    }
   },
   "outputs": [
    {
     "name": "stdout",
     "output_type": "stream",
     "text": [
      "Llamando a ROSILLO TEJADA VANESA...\n",
      "Cambios guardados en el archivo CSV.\n",
      "Llamando a QUINONEZ CERVANTES MARIANA...\n"
     ]
    }
   ],
   "source": [
    "import pandas as pd\n",
    "import numpy as np\n",
    "\n",
    "# Cargar la lista de estudiantes desde el archivo CSV\n",
    "path = 'C:/Users/marco/Documentos/docencia/groups_list/fundamentos_aritmetica.csv'\n",
    "estudiantes = pd.read_csv(path)\n",
    "estudiantes['Parcial'] = estudiantes['Parcial'].astype(float)  # Asegurar que la columna 'Parcial' es float\n",
    "\n",
    "# Convertir la columna 'Nombre' a una lista de Python\n",
    "lista_estudiantes = estudiantes['Nombre'].tolist()\n",
    "\n",
    "# Función para llamar a un estudiante aleatoriamente y registrar su nota de seguimiento\n",
    "def asistencia():\n",
    "    global lista_estudiantes\n",
    "    if lista_estudiantes:\n",
    "        estudiante_aleatorio = np.random.choice(lista_estudiantes)\n",
    "        print(f\"Llamando a {estudiante_aleatorio}...\")\n",
    "        asistencia = input(f\"¿Asistió {estudiante_aleatorio}? (s/n): \").strip().lower()\n",
    "        \n",
    "        # Validación de entrada\n",
    "        if asistencia == 's':\n",
    "            # Obtener el índice del estudiante en el DataFrame\n",
    "            indice = estudiantes[estudiantes['Nombre'] == estudiante_aleatorio].index[0]\n",
    "            # Incrementar su valor en la columna 'Parcial'\n",
    "            estudiantes.at[indice, 'Parcial'] += 0.3\n",
    "            print(f\"Actualizado: {estudiante_aleatorio} ahora tiene {estudiantes.at[indice, 'Parcial']} en la columna 'Parcial'.\")\n",
    "        \n",
    "        elif asistencia != 'n':\n",
    "            print(\"Entrada inválida. Por favor, introduce 's' para sí o 'n' para no.\")\n",
    "            return  # Volver a preguntar para el mismo estudiante si la entrada es inválida\n",
    "        \n",
    "        # Remover al estudiante de la lista para no llamarlo de nuevo\n",
    "        lista_estudiantes.remove(estudiante_aleatorio)\n",
    "    else:\n",
    "        print(\"Se han llamado a todos los estudiantes del grupo completo.\")\n",
    "\n",
    "# Función para guardar cambios al final de la sesión\n",
    "def guardar_cambios():\n",
    "    estudiantes.to_csv(path, index=False)\n",
    "    print(\"Cambios guardados en el archivo CSV.\")\n",
    "\n",
    "# Ejemplo de uso\n",
    "while lista_estudiantes:\n",
    "    asistencia()\n",
    "\n",
    "# Guardar los cambios una vez que todos los estudiantes hayan sido llamados\n",
    "guardar_cambios()\n",
    "\n"
   ]
  },
  {
   "cell_type": "markdown",
   "id": "d7598d0a-d9b7-4ae0-b029-a0ed6ed1130b",
   "metadata": {},
   "source": [
    "\n",
    "# Principios de mi labor docente"
   ]
  },
  {
   "cell_type": "markdown",
   "id": "4f9d8cf9",
   "metadata": {
    "slideshow": {
     "slide_type": "slide"
    }
   },
   "source": [
    "## Modelo general de clase: [aula invertida](https://www3.gobiernodecanarias.org/medusa/ecoescuela/pedagotic/aprendizaje-invertido-flipped-classroom/)"
   ]
  },
  {
   "cell_type": "markdown",
   "id": "eb6ed03a",
   "metadata": {},
   "source": [
    "<img src = 'https://resources.maneuveringthemiddle.com/wp-content/uploads/2020/07/04212706/1-5.png' width = 400>  \n",
    "\n"
   ]
  },
  {
   "cell_type": "markdown",
   "id": "34319cce-a71b-4f64-aab8-b53e521efa40",
   "metadata": {},
   "source": [
    "# Metodología de enseñanza basada en problemas (ABP)\n"
   ]
  },
  {
   "cell_type": "markdown",
   "id": "c4f73d81",
   "metadata": {},
   "source": [
    "\n",
    "<img src = 'https://www.unir.net/wp-content/uploads/2020/07/aprendizaje-problemas2-1-1-1-1.jpeg' width = 300>"
   ]
  },
  {
   "cell_type": "markdown",
   "id": "841a985c-bd9b-4dd3-8e4c-893983980af2",
   "metadata": {},
   "source": [
    "# Desarrollo del pensamiento computacional con python y cuadernos Jupyter  orientado a la formación en ciencia de datos \n",
    "\n"
   ]
  },
  {
   "cell_type": "markdown",
   "id": "3d0eba94",
   "metadata": {},
   "source": [
    "\n",
    "<img src = 'https://i.ytimg.com/vi/mcG_wcR4e6M/maxresdefault.jpg' width = 400>"
   ]
  },
  {
   "cell_type": "markdown",
   "id": "65aa0404-f7ae-495e-864c-1aec01b4255e",
   "metadata": {},
   "source": [
    "# Principio de fomento a la ciencia abierta, enseñar en el acceso a los datos públicos y el uso de software de código abierto  \n"
   ]
  },
  {
   "cell_type": "markdown",
   "id": "18ae9b87",
   "metadata": {},
   "source": [
    "\n",
    "<img src = 'https://unesdoc.unesco.org/in/rest/Thumb/image?id=p%3A%3Ausmarcdef_0000379949_spa&author=UNESCO&title=Recomendaci%C3%B3n+de+la+UNESCO+sobre+la+Ciencia+Abierta&year=2021&publisher=UNESCO&TypeOfDocument=UnescoPhysicalDocument&mat=PGD&ct=true&size=512&isPhysical=1' width = 200>"
   ]
  },
  {
   "cell_type": "markdown",
   "id": "d9559f85",
   "metadata": {},
   "source": [
    "El enfoque STEAMS en educación preescolar, primaria y secundaria es una extensión del enfoque STEM (Ciencia, Tecnología, Ingeniería y Matemáticas) y su variante STEAM, que incorpora el Arte. "
   ]
  },
  {
   "cell_type": "markdown",
   "id": "72e1cfd2",
   "metadata": {},
   "source": [
    "El acrónimo STEAMS incluye:\n"
   ]
  },
  {
   "cell_type": "markdown",
   "id": "03182fd1",
   "metadata": {},
   "source": [
    "\n",
    "1. **Science (Ciencia):** Fomenta la curiosidad por el mundo natural y el desarrollo de habilidades científicas, como la observación, experimentación y análisis.\n"
   ]
  },
  {
   "cell_type": "markdown",
   "id": "1306d0fa",
   "metadata": {},
   "source": [
    "\n",
    "2. **Technology (Tecnología):** Integra herramientas tecnológicas para potenciar el aprendizaje y la resolución de problemas, promoviendo la alfabetización digital desde edades tempranas.\n"
   ]
  },
  {
   "cell_type": "markdown",
   "id": "3b1a53e8",
   "metadata": {},
   "source": [
    "\n",
    "3. **Engineering (Ingeniería):** Introduce el pensamiento lógico y la resolución de problemas estructurados, fomentando habilidades como el diseño y la construcción de soluciones.\n"
   ]
  },
  {
   "cell_type": "markdown",
   "id": "0196de87",
   "metadata": {},
   "source": [
    "\n",
    "4. **Arts (Arte):** Añade creatividad y pensamiento crítico, permitiendo a los estudiantes expresarse y explorar el aprendizaje a través de formas artísticas (plásticas, música, teatro).\n"
   ]
  },
  {
   "cell_type": "markdown",
   "id": "8bcc485a",
   "metadata": {},
   "source": [
    "\n",
    "5. **Mathematics (Matemáticas):** Refuerza las habilidades numéricas y el razonamiento lógico, fundamentales en la resolución de problemas y comprensión de conceptos abstractos.\n"
   ]
  },
  {
   "cell_type": "markdown",
   "id": "907935f4",
   "metadata": {},
   "source": [
    "\n",
    "6. **Social Sciences (Ciencias Sociales):** Incorpora la comprensión del entorno social, político, cultural y económico, promoviendo el desarrollo de la conciencia crítica sobre el mundo y su historia, además de habilidades de empatía y ciudadanía.\n"
   ]
  },
  {
   "cell_type": "markdown",
   "id": "39967d63",
   "metadata": {},
   "source": [
    "\n",
    "El enfoque STEAMS pretende desarrollar un aprendizaje **interdisciplinario** que integre estas áreas para fomentar un pensamiento más holístico y práctico. "
   ]
  },
  {
   "cell_type": "markdown",
   "id": "5145f077",
   "metadata": {},
   "source": [
    "Se busca que los estudiantes no solo aprendan conocimientos técnicos, sino también cómo aplicarlos creativa y críticamente en situaciones reales, promoviendo habilidades como el trabajo en equipo, la comunicación y la innovación. "
   ]
  },
  {
   "cell_type": "markdown",
   "id": "9d556584",
   "metadata": {},
   "source": [
    "En educación preescolar, primaria, secundaria y superior, se adapta a las diferentes etapas de desarrollo cognitivo y emocional de los estudiantes, promoviendo el aprendizaje activo y contextualizado.  \n"
   ]
  },
  {
   "cell_type": "markdown",
   "id": "0130ec1b",
   "metadata": {},
   "source": [
    "\n",
    "<img src = 'https://www.campuseducacion.com/blog/wp-content/uploads/2023/03/foto01-1.jpg' width = 400>"
   ]
  },
  {
   "cell_type": "markdown",
   "id": "9d15c10d-2c02-4158-9419-b1ed79b4c1ee",
   "metadata": {},
   "source": [
    "# Qué estamos haciendo por la internalización en esta clase y este curso  \n"
   ]
  },
  {
   "cell_type": "markdown",
   "id": "6e4feef2",
   "metadata": {},
   "source": [
    "\n",
    "Para presentar tus acciones como docente de matemáticas en la Universidad de Antioquia con miras a la **internacionalización** de tu práctica docente y el desarrollo de competencias internacionales en tus estudiantes, te sugiero estructurar tu enfoque en los siguientes aspectos clave:"
   ]
  },
  {
   "cell_type": "markdown",
   "id": "964d9de7-53ee-4255-9bcd-d8e6454f2993",
   "metadata": {},
   "source": [
    "### 1. **Visión Global en la Formación Académica**\n"
   ]
  },
  {
   "cell_type": "markdown",
   "id": "d9bdd3e2",
   "metadata": {},
   "source": [
    "   - **Competencias Internacionales**: Asegúrate de que el contenido de tus cursos fomente habilidades que sean reconocidas globalmente. Al educar a los estudiantes en **Python, LaTeX, Markdown y Jupyter Notebooks** y en la **introducción a la ciencia de datos y técnicas de Machine Learning**, estás proporcionando competencias altamente demandadas en los sectores tecnológicos y académicos a nivel internacional.\n"
   ]
  },
  {
   "cell_type": "markdown",
   "id": "39b55206",
   "metadata": {},
   "source": [
    "   - **Relevancia de los Contenidos**: Destaca cómo los temas que enseñas, como el **desarrollo del pensamiento computacional** y la **ciencia de datos**, están alineados con las necesidades globales actuales en diversas industrias, desde la tecnología hasta las ciencias naturales y sociales.\n"
   ]
  },
  {
   "cell_type": "markdown",
   "id": "a054599e",
   "metadata": {},
   "source": [
    "   - **Referencias a Estándares Internacionales**: Puedes vincular tu enseñanza a estándares internacionales de competencias en programación y ciencia de datos (por ejemplo, frameworks del **IEEE, ACM**, y estándares de la **data science** o la **computación en la nube**)."
   ]
  },
  {
   "cell_type": "markdown",
   "id": "0f1d110c-3142-48fe-9e7d-5fbd9e8bb931",
   "metadata": {},
   "source": [
    "### 2. **Innovación Pedagógica con Enfoque Internacional**\n"
   ]
  },
  {
   "cell_type": "markdown",
   "id": "fae6ae34",
   "metadata": {},
   "source": [
    "   - **Aula Invertida y ABP**: Presenta cómo tu enfoque de **aula invertida** y **aprendizaje basado en problemas (ABP)** permite a los estudiantes trabajar de manera autónoma y colaborativa, lo que los prepara para escenarios laborales internacionales que requieren autoaprendizaje y habilidades de resolución de problemas en equipo.\n"
   ]
  },
  {
   "cell_type": "markdown",
   "id": "c83062d9",
   "metadata": {},
   "source": [
    "   - **Uso de Jupyter Notebooks**: El uso de **Jupyter Notebooks** en tus clases no solo facilita la **integración de código, matemáticas y texto**, sino que también es una plataforma utilizada globalmente en ambientes académicos y profesionales, lo que hace a tus estudiantes más competitivos internacionalmente."
   ]
  },
  {
   "cell_type": "markdown",
   "id": "960d52b7-03cd-4eb3-965e-5cdfeb7d9f8e",
   "metadata": {},
   "source": [
    "### 3. **Tecnología y Herramientas de Uso Global**\n"
   ]
  },
  {
   "cell_type": "markdown",
   "id": "4be7269f",
   "metadata": {},
   "source": [
    "   - **Lenguaje Python**: Python es uno de los lenguajes de programación más usados a nivel mundial, tanto en la academia como en la industria. Al formar a tus estudiantes en Python para ciencia de datos y machine learning, los preparas para operar en entornos tecnológicos globales.\n"
   ]
  },
  {
   "cell_type": "markdown",
   "id": "102655af",
   "metadata": {},
   "source": [
    "   - **Herramientas de Ciencia Abierta**: Resalta cómo herramientas como **GitHub**, **Google Colab** y otras plataformas de código abierto están alineadas con el movimiento de **ciencia abierta**, el cual es internacionalmente reconocido y permite que los estudiantes colaboren y compartan proyectos a nivel global."
   ]
  },
  {
   "cell_type": "markdown",
   "id": "3b2ffa32-7a6f-4545-ba7b-c6a69f51109f",
   "metadata": {},
   "source": [
    "### 4. **Investigación y Publicaciones Internacionales**\n"
   ]
  },
  {
   "cell_type": "markdown",
   "id": "bdbf52a5",
   "metadata": {},
   "source": [
    "   - **Promoción de la Investigación**: Detalla cómo promueves que tus estudiantes participen en proyectos de **investigación aplicada**, con posibilidad de publicación en revistas internacionales. Esto contribuye a la reputación internacional de la Universidad de Antioquia.\n"
   ]
  },
  {
   "cell_type": "markdown",
   "id": "ea01fcbc",
   "metadata": {},
   "source": [
    "   - **Colaboraciones Internacionales**: Si has colaborado con investigadores de otras instituciones o universidades en el extranjero, menciona estos proyectos y cómo han enriquecido tu enseñanza y proporcionado a los estudiantes una visión más globalizada."
   ]
  },
  {
   "cell_type": "markdown",
   "id": "5d1e396e-aece-4bf7-9421-32fa7809eaf4",
   "metadata": {},
   "source": [
    "### 5. **Uso del Inglés para la Internacionalización**\n",
    "   - **Comunicación Científica en Inglés**: Fomentar el aprendizaje del inglés como lengua científica es clave para que tus estudiantes puedan acceder a publicaciones internacionales, conferencias, y material académico que no está disponible en español. Esto es esencial para que adquieran competencias que les permitan desempeñarse en cualquier contexto internacional.\n"
   ]
  },
  {
   "cell_type": "markdown",
   "id": "adc7b402",
   "metadata": {},
   "source": [
    "   - **Material Bilingüe**: Al generar material educativo en Python, LaTeX y Markdown, considera ofrecer algunos de estos recursos en inglés, para que los estudiantes se familiaricen con el vocabulario técnico y científico internacional."
   ]
  },
  {
   "cell_type": "markdown",
   "id": "c6a8c3b0-426a-4692-a384-3065aea81c9a",
   "metadata": {},
   "source": [
    "### 6. **Certificaciones y Estándares Internacionales**\n"
   ]
  },
  {
   "cell_type": "markdown",
   "id": "b1f41da5",
   "metadata": {},
   "source": [
    "   - **Participación en Certificaciones Internacionales**: Impulsa que los estudiantes busquen certificaciones internacionales en Python o ciencia de datos (como las ofrecidas por **Coursera, edX,** o **Google**). Estas certificaciones no solo validan sus competencias, sino que también incrementan el reconocimiento de la Universidad de Antioquia en el contexto internacional.\n",
    "   - **Alineación con Acreditaciones Internacionales**: Vincula tu trabajo docente con los estándares de acreditación y certificación que garantizan que la universidad siga siendo reconocida internacionalmente. Puedes vincularte con organizaciones internacionales que promuevan la excelencia en la educación y tecnología, como **ABET** para la acreditación en ingeniería y ciencias computacionales."
   ]
  },
  {
   "cell_type": "markdown",
   "id": "65d3d9e1-ea84-43e0-8197-a2a9c9e21594",
   "metadata": {},
   "source": [
    "### 7. **Proyectos Abiertos y Ciencia Reproducible**\n",
    "   - **GitHub y Open Science**: La utilización de **GitHub** para almacenar los proyectos y materiales de enseñanza en repositorios públicos permite que otros investigadores y educadores internacionales puedan revisar y replicar tu trabajo. Esto contribuye a la creación de una red de colaboración científica abierta.\n",
    "   - **Transparencia y Reproducibilidad**: La ciencia de datos y machine learning están profundamente ligados a la reproducibilidad. Asegura que tus estudiantes desarrollen prácticas de transparencia y documentación en la investigación, que son pilares en la comunidad científica global.\n"
   ]
  },
  {
   "cell_type": "markdown",
   "id": "215cb551",
   "metadata": {},
   "source": [
    "\n",
    "### 8. **Participación en Redes y Conferencias Internacionales**\n",
    "   - **Presentación en Conferencias Internacionales**: Destaca cómo tu participación en conferencias internacionales (como la **ASCOLFA** o eventos sobre educación en matemáticas) contribuye al prestigio de la universidad y permite que tus prácticas sean evaluadas y reconocidas a nivel global.\n"
   ]
  },
  {
   "cell_type": "markdown",
   "id": "cdf46e29",
   "metadata": {},
   "source": [
    "   - **Promoción de Estudiantes en Eventos Internacionales**: Impulsa la participación de tus estudiantes en competiciones internacionales de programación o hackathons, como los organizados por **Google**, **ACM** o **Kaggle**. Esto no solo desarrolla sus habilidades, sino que también visibiliza el talento de la Universidad de Antioquia a nivel global.\n",
    "\n",
    "---"
   ]
  },
  {
   "cell_type": "markdown",
   "id": "233294a4-1983-4641-a7ad-866825e02315",
   "metadata": {},
   "source": [
    "Con esta estrategia, presento mis acciones docentes en términos de competencias internacionales, innovación pedagógica, tecnología, investigación y participación en redes globales, asegurando que tu práctica esté alineada con los estándares internacionales y que tus estudiantes estén preparados para competir en contextos internacionales."
   ]
  },
  {
   "cell_type": "markdown",
   "id": "8d97dc80",
   "metadata": {
    "slideshow": {
     "slide_type": "slide"
    }
   },
   "source": [
    "## Fomento de la lectura literaria asociada a Ingeniería agropecuaria y licenciatura en Matemáticas\n",
    "\n",
    "[Aprender a obtener el sí sin ceder]()"
   ]
  },
  {
   "cell_type": "markdown",
   "id": "96775931",
   "metadata": {
    "slideshow": {
     "slide_type": "slide"
    }
   },
   "source": [
    "## Título de la clase: Aplicaciones de la integral definida al cálculo al concepto físico de desplazamiento para estudiantes de ingeniería agropecuaria, con miras a articular la estadística con las ciencias agrarias, en especial en la modelación con las distribuciones de probabilidad   \n",
    "\n",
    "[]()"
   ]
  },
  {
   "cell_type": "markdown",
   "id": "ca7261b1",
   "metadata": {
    "slideshow": {
     "slide_type": "slide"
    }
   },
   "source": [
    "## Establecimiento de prerrequisitos conceptuales para alcanzar el objetivo de aprendizaje trazado.   \n",
    "\n",
    "(Elabore una lista de preguntas al rededor de los conceptos que consideres necesarios para empezar la clase).  \n",
    "\n",
    "1. \n",
    "2. \n",
    "3. "
   ]
  },
  {
   "cell_type": "markdown",
   "id": "2298e976",
   "metadata": {
    "slideshow": {
     "slide_type": "slide"
    }
   },
   "source": [
    "# Para el diseño de la clase tenga en cuenta algunos problemas de aprendizaje"
   ]
  },
  {
   "cell_type": "markdown",
   "id": "523d3acf",
   "metadata": {
    "slideshow": {
     "slide_type": "slide"
    }
   },
   "source": []
  },
  {
   "cell_type": "markdown",
   "id": "a40a4704",
   "metadata": {
    "slideshow": {
     "slide_type": "slide"
    }
   },
   "source": [
    "## Secuencia conceptual introductoria a la clase"
   ]
  },
  {
   "cell_type": "markdown",
   "id": "8853d874",
   "metadata": {},
   "source": [
    "## El componente histórico y epistemológico"
   ]
  },
  {
   "cell_type": "markdown",
   "id": "e3ffa494",
   "metadata": {},
   "source": [
    "# Vocabulary   \n",
    "\n",
    "1. \n",
    "2.  \n",
    "3.  \n",
    "4.  \n",
    "5.  "
   ]
  },
  {
   "cell_type": "code",
   "execution_count": 4,
   "id": "6ff395c3",
   "metadata": {},
   "outputs": [],
   "source": [
    "# Traducción del inglés al español con python\n",
    "\n",
    "def traducir(texto):\n",
    "    from googletrans import Translator\n",
    "\n",
    "    translator = Translator() # instancia la clase \n",
    "\n",
    "    # Traducir al español\n",
    "    translation = translator.translate(texto, src='en', dest='es')\n",
    "    return translation.text"
   ]
  },
  {
   "cell_type": "code",
   "execution_count": 5,
   "id": "b583f414-ac87-4912-8a86-b338234d83d7",
   "metadata": {},
   "outputs": [
    {
     "data": {
      "text/plain": [
       "'Hola'"
      ]
     },
     "execution_count": 5,
     "metadata": {},
     "output_type": "execute_result"
    }
   ],
   "source": [
    "traducir('Hi')"
   ]
  },
  {
   "cell_type": "code",
   "execution_count": null,
   "id": "bc0addfe",
   "metadata": {},
   "outputs": [
    {
     "data": {
      "text/plain": [
       "'/home/marco/Documentos/docencia/calculo/images/0_reales/ .pdf'"
      ]
     },
     "execution_count": 1,
     "metadata": {},
     "output_type": "execute_result"
    }
   ],
   "source": [
    "# mapa conceptual para cada clase  \n",
    "from graphviz import Digraph\n",
    "\n",
    "# Crear un nuevo grafo dirigido\n",
    "dot = Digraph()\n",
    "\n",
    "# Añadir nodos y relaciones al grafo\n",
    "main_concept = ' '\n",
    "dot.node('A', main_concept)\n",
    "dot.node('B', '')\n",
    "dot.node('C', '')\n",
    "dot.node('D', '')\n",
    "\n",
    "dot.edges(['AB'])\n",
    "\n",
    "\n",
    "# Guardar el grafo como un archivo de imagen\n",
    "dot.render(filename=main_concept, format='png', cleanup=True, \\\n",
    "           directory='C:/Users/marco/Documentos/docencia/')\n",
    "\n",
    "dot.view()\n"
   ]
  },
  {
   "cell_type": "markdown",
   "id": "10e55ccf",
   "metadata": {},
   "source": [
    "# Estructura general para todas las clases\n",
    "\n",
    "Dame, por favor, un diseño de clase sobre la estructura de datos llamada DataFrame de Pandas en python y su utilización en ciencia de datos con técnicas de machine learning siguiendo la siguiente estructura: \n",
    "1. Título de la clase \n",
    "2. Objetivo de aprendizaje\n",
    "3. Contenido de la clase\n",
    "4. Actividades de aprendizaje\n",
    "5. Tarea o actividades de ejercitación y fijación\n",
    "6. Diseño de actividad de retroalimentación. "
   ]
  },
  {
   "cell_type": "markdown",
   "id": "239427f7",
   "metadata": {},
   "source": [
    "### Diseño de Exposición en Jupyter Notebook: Aplicaciones de la Integral Definida al Concepto Físico de Desplazamiento\n",
    "\n",
    "#### **Título del Cuaderno**\n",
    "**Aplicaciones de la Integral Definida al Concepto Físico de Desplazamiento para la Ingeniería Agropecuaria**\n",
    "\n",
    "#### **Estructura del Cuaderno**\n",
    "El cuaderno se divide en secciones claras, utilizando Markdown para explicaciones teóricas y código en Python para experimentación práctica. A continuación, se detalla la estructura:\n",
    "\n",
    "---\n"
   ]
  },
  {
   "cell_type": "markdown",
   "id": "412271da",
   "metadata": {},
   "source": [
    "\n",
    "### 1. **Portada**\n",
    "```markdown\n",
    "# Aplicaciones de la Integral Definida al Cálculo del Concepto Físico de Desplazamiento\n",
    "## Curso: Matemáticas Aplicadas\n",
    "### Programa: Ingeniería Agropecuaria\n",
    "#### Autor: [Nombre del Docente]\n",
    "#### Universidad de Antioquia - Campus Caucasia\n",
    "#### Año: 2024\n",
    "```\n",
    "\n",
    "---\n"
   ]
  },
  {
   "cell_type": "markdown",
   "id": "32ff5ff8",
   "metadata": {},
   "source": [
    "\n",
    "### 2. **Objetivos**\n",
    "```markdown\n",
    "### Objetivos\n",
    "1. Comprender el concepto físico de desplazamiento a través de la integral definida.\n",
    "2. Analizar ejemplos prácticos en el contexto agropecuario que conecten el desplazamiento con la productividad agrícola.\n",
    "3. Introducir cómo las distribuciones de probabilidad permiten modelar fenómenos relacionados con desplazamientos.\n",
    "4. Fomentar el uso de Python para resolver problemas de cálculo y modelación.\n",
    "```\n"
   ]
  },
  {
   "cell_type": "markdown",
   "id": "fc1d406e",
   "metadata": {},
   "source": [
    "\n",
    "---\n",
    "\n",
    "### 3. **Introducción Teórica**\n",
    "\n",
    "### Introducción Teórica\n",
    "\n",
    "#### Integral Definida y Desplazamiento\n",
    "La integral definida permite calcular áreas bajo la curva y es ampliamente utilizada en física para determinar el desplazamiento a partir de la velocidad como función del tiempo:\n"
   ]
  },
  {
   "cell_type": "markdown",
   "id": "bdc476ee",
   "metadata": {},
   "source": [
    "\n",
    "$$\n",
    "s(t) = \\int_{a}^{b} v(t) \\, dt\n",
    "$$\n",
    "\n",
    "donde:\n",
    "- $s(t)$ es el desplazamiento.\n",
    "- $v(t)$ es la velocidad en función del tiempo.\n",
    "- $a, b$ son los límites del intervalo de integración.\n",
    "\n",
    "#### Relación con la Estadística\n",
    "En agronomía, los desplazamientos pueden modelar fenómenos como el movimiento de maquinaria agrícola o el transporte de nutrientes en el suelo. Usando distribuciones de probabilidad, es posible predecir la frecuencia de ciertos eventos.\n",
    "\n",
    "Ejemplo: Usar la distribución normal para modelar la velocidad promedio de una máquina agrícola.\n",
    "\n"
   ]
  },
  {
   "cell_type": "code",
   "execution_count": 3,
   "id": "885e4e06",
   "metadata": {},
   "outputs": [
    {
     "data": {
      "text/plain": [
       "2.8735632183908044"
      ]
     },
     "execution_count": 3,
     "metadata": {},
     "output_type": "execute_result"
    }
   ],
   "source": [
    "50/87*5"
   ]
  },
  {
   "cell_type": "markdown",
   "id": "2670596c",
   "metadata": {},
   "source": [
    "\n",
    "---\n",
    "\n",
    "### 4. **Ejemplo Práctico: Desplazamiento de una Máquina Agrícola**\n",
    "#### 4.1 Enunciado del problema\n",
    "```markdown\n",
    "#### Problema\n",
    "Un tractor recorre un campo con una velocidad variable descrita por la función:\n",
    "\n",
    "\\[\n",
    "v(t) = 5t - 0.5t^2 \\quad \\text{(m/s)}\n",
    "\\]\n",
    "\n",
    "donde \\(t\\) está en el intervalo \\([0, 10]\\). Determine el desplazamiento total del tractor.\n",
    "```\n",
    "\n",
    "#### 4.2 Solución Teórica\n",
    "```markdown\n",
    "La integral del desplazamiento es:\n",
    "\n",
    "\\[\n",
    "s(t) = \\int_{0}^{10} (5t - 0.5t^2) \\, dt\n",
    "\\]\n",
    "\n",
    "Desarrollando:\n",
    "\\[\n",
    "s(t) = \\left[ \\frac{5t^2}{2} - \\frac{0.5t^3}{3} \\right]_0^{10}\n",
    "\\]\n",
    "```\n",
    "\n",
    "#### 4.3 Solución en Python\n",
    "```python\n",
    "import sympy as sp\n",
    "\n",
    "# Definimos las variables y la función\n",
    "t = sp.Symbol('t')\n",
    "v = 5 * t - 0.5 * t**2\n",
    "\n",
    "# Calculamos la integral definida\n",
    "desplazamiento = sp.integrate(v, (t, 0, 10))\n",
    "desplazamiento\n",
    "```\n",
    "\n",
    "---\n",
    "\n",
    "### 5. **Extensión al Contexto Agronómico**\n",
    "#### 5.1 Ejemplo con Distribución Normal\n",
    "```markdown\n",
    "### Distribución de Velocidad\n",
    "En un análisis estadístico, la velocidad promedio de un tractor se modela como una variable aleatoria con distribución normal \\(N(\\mu=5, \\sigma=1)\\).\n",
    "\n",
    "#### Problema:\n",
    "Calcular el desplazamiento esperado después de 10 segundos usando Monte Carlo.\n",
    "```\n",
    "\n",
    "#### 5.2 Solución en Python\n",
    "```python\n",
    "import numpy as np\n",
    "\n",
    "# Parámetros de la distribución\n",
    "mu = 5\n",
    "sigma = 1\n",
    "t = 10  # Tiempo en segundos\n",
    "\n",
    "# Simulación de velocidades\n",
    "np.random.seed(42)  # Para reproducibilidad\n",
    "velocidades = np.random.normal(mu, sigma, 10000)\n",
    "\n",
    "# Desplazamiento esperado\n",
    "desplazamientos = velocidades * t\n",
    "desplazamiento_esperado = np.mean(desplazamientos)\n",
    "desplazamiento_esperado\n",
    "```\n",
    "\n",
    "---\n",
    "\n",
    "### 6. **Conexión con la Modelación Estadística**\n",
    "```markdown\n",
    "### Modelación con Distribuciones\n",
    "Las distribuciones de probabilidad permiten modelar fenómenos como:\n",
    "1. Velocidad promedio de máquinas.\n",
    "2. Transporte de agua en suelos.\n",
    "3. Distribución de nutrientes en cultivos.\n",
    "\n",
    "Usar distribuciones como la normal, uniforme o gamma es clave en las ciencias agrarias.\n",
    "```\n",
    "\n",
    "---\n",
    "\n",
    "### 7. **Ejercicios Propuestos**\n",
    "```markdown\n",
    "### Ejercicios Propuestos\n",
    "1. Encuentre el desplazamiento de un vehículo cuya velocidad está dada por \\(v(t) = 3\\sin(t) + 2\\), en el intervalo \\([0, \\pi]\\).\n",
    "2. Modele el desplazamiento de una máquina agrícola considerando una distribución uniforme entre 4 y 6 m/s para la velocidad.\n",
    "3. Use Python para calcular el área bajo la curva de una distribución normal con \\(\\mu=5, \\sigma=2\\) para velocidades entre 3 y 7 m/s.\n",
    "```\n",
    "\n",
    "---\n",
    "\n",
    "### 8. **Conclusión**\n",
    "```markdown\n",
    "### Conclusión\n",
    "1. La integral definida es una herramienta poderosa para modelar fenómenos físicos como el desplazamiento.\n",
    "2. En la agroindustria, las herramientas estadísticas y de modelación permiten predecir y optimizar procesos clave.\n",
    "3. Python es una herramienta fundamental para implementar y visualizar estos conceptos.\n",
    "```\n",
    "\n",
    "---\n"
   ]
  },
  {
   "cell_type": "markdown",
   "id": "1c27e825",
   "metadata": {},
   "source": [
    "\n",
    "### 9. **Referencias**\n",
    "\n",
    "1. Stewart, J. (2015). **Cálculo: Conceptos y Contextos**. Cengage Learning.\n",
    "2. Montgomery, D. C. (2012). **Probabilidad y Estadística para Ingeniería**. Wiley.\n",
    "3. Documentación de [SymPy](https://docs.sympy.org) y [NumPy](https://numpy.org).\n",
    "\n",
    "---\n",
    "\n",
    "Este diseño combina teoría, aplicaciones prácticas y modelación, promoviendo un aprendizaje significativo en el contexto de las ciencias agrarias."
   ]
  },
  {
   "cell_type": "markdown",
   "id": "a16baaaf",
   "metadata": {},
   "source": [
    "# Implementación del diseño  de la exposición  \n"
   ]
  },
  {
   "cell_type": "markdown",
   "id": "9c5c5427",
   "metadata": {},
   "source": [
    "\n",
    "### Diseño de Exposición en Jupyter Notebook: Aplicaciones de la Integral Definida al Concepto Físico de Desplazamiento\n"
   ]
  },
  {
   "cell_type": "markdown",
   "id": "c9ebc8d1",
   "metadata": {},
   "source": [
    "\n",
    "#### **Título del Cuaderno**\n",
    "**Aplicaciones de la Integral Definida al Concepto Físico de Desplazamiento para la Ingeniería Agropecuaria**\n"
   ]
  },
  {
   "cell_type": "markdown",
   "id": "770599c6",
   "metadata": {},
   "source": [
    "\n",
    "#### **Estructura del Cuaderno**\n",
    "El cuaderno se divide en secciones claras, utilizando Markdown para explicaciones teóricas y código en Python para experimentación práctica. A continuación, se detalla la estructura:\n",
    "\n",
    "---\n"
   ]
  },
  {
   "cell_type": "markdown",
   "id": "9b67b49c",
   "metadata": {},
   "source": [
    "\n",
    "### 1. **Portada**\n",
    "```markdown\n",
    "# Aplicaciones de la Integral Definida al Cálculo del Concepto Físico de Desplazamiento\n",
    "## Curso: Matemáticas Aplicadas\n",
    "### Programa: Ingeniería Agropecuaria\n",
    "#### Autor: Marco Julio Cañas Campillo\n",
    "#### Universidad de Antioquia - Campus Caucasia\n",
    "#### Año: 2024\n",
    "```\n",
    "\n",
    "---\n"
   ]
  },
  {
   "cell_type": "markdown",
   "id": "9dac8ecb",
   "metadata": {},
   "source": [
    "\n",
    "### 2. **Objetivos**\n",
    "```markdown\n",
    "### Objetivos\n",
    "1. Comprender el concepto físico de desplazamiento a través de la integral definida.\n",
    "2. Analizar ejemplos prácticos en el contexto agropecuario que conecten el desplazamiento con la productividad agrícola.\n",
    "3. Introducir cómo las distribuciones de probabilidad permiten modelar fenómenos relacionados con desplazamientos.\n",
    "4. Fomentar el uso de Python para resolver problemas de cálculo y modelación.\n",
    "```\n",
    "\n",
    "---\n"
   ]
  },
  {
   "cell_type": "markdown",
   "id": "8de687fe",
   "metadata": {},
   "source": [
    "\n",
    "### 3. **Introducción Teórica**\n"
   ]
  },
  {
   "cell_type": "markdown",
   "id": "6f383505",
   "metadata": {},
   "source": [
    "\n",
    "### Introducción Teórica\n",
    "\n",
    "#### Integral Definida y Desplazamiento\n",
    "La integral definida permite calcular áreas bajo la curva y es ampliamente utilizada en física para determinar el desplazamiento a partir de la velocidad como función del tiempo:\n",
    "\n",
    "$$\n",
    "s(t) = \\int_{a}^{b} v(t) \\, dt\n",
    "$$\n"
   ]
  },
  {
   "cell_type": "markdown",
   "id": "a4741e0f",
   "metadata": {},
   "source": [
    "\n",
    "donde:\n",
    "- $s(t)$ es el desplazamiento.\n",
    "- $v(t)$ es la velocidad en función del tiempo.\n",
    "- $a, b$ son los límites del intervalo de integración.\n"
   ]
  },
  {
   "cell_type": "markdown",
   "id": "5ae5b094",
   "metadata": {},
   "source": [
    "\n",
    "#### Relación con la Estadística\n",
    "En agronomía, los desplazamientos pueden modelar fenómenos como el movimiento de maquinaria agrícola o el transporte de nutrientes en el suelo. Usando distribuciones de probabilidad, es posible predecir la frecuencia de ciertos eventos.\n",
    "\n",
    "Ejemplo: Usar la distribución normal para modelar la velocidad promedio de una máquina agrícola.\n",
    "```\n",
    "\n",
    "---\n",
    "\n",
    "### 4. **Ejemplo Práctico: Desplazamiento de una Máquina Agrícola**\n",
    "#### 4.1 Enunciado del problema\n"
   ]
  },
  {
   "cell_type": "markdown",
   "id": "cd70d88c",
   "metadata": {},
   "source": [
    "\n",
    "#### Problema\n",
    "Un tractor recorre un campo con una velocidad variable descrita por la función:\n",
    "\n",
    "$$\n",
    "v(t) = 5t - 0.5t^2 \\quad \\text{(m/s)}\n",
    "$$\n",
    "\n",
    "donde $t$ está en el intervalo $[0, 10]$. Determine el desplazamiento total del tractor.\n",
    "\n"
   ]
  },
  {
   "cell_type": "markdown",
   "id": "224ba05b",
   "metadata": {},
   "source": [
    "\n",
    "#### 4.2 Solución Teórica\n",
    "\n",
    "La integral del desplazamiento es:\n",
    "\n",
    "$$\n",
    "s(t) = \\int_{0}^{10} (5t - 0.5t^2) \\, dt\n",
    "$$\n"
   ]
  },
  {
   "cell_type": "markdown",
   "id": "8b5edd5e",
   "metadata": {},
   "source": [
    "\n",
    "Desarrollando:\n",
    "$$\n",
    "s(t) = \\left[ \\frac{5t^2}{2} - \\frac{0.5t^3}{3} \\right]_0^{10}\n",
    "$$\n"
   ]
  },
  {
   "cell_type": "markdown",
   "id": "420ec1d0",
   "metadata": {},
   "source": [
    "\n",
    "\n",
    "#### 4.3 Solución en Python\n"
   ]
  },
  {
   "cell_type": "code",
   "execution_count": 1,
   "id": "25697331",
   "metadata": {},
   "outputs": [
    {
     "data": {
      "text/latex": [
       "$\\displaystyle 83.3333333333333$"
      ],
      "text/plain": [
       "83.3333333333333"
      ]
     },
     "execution_count": 1,
     "metadata": {},
     "output_type": "execute_result"
    }
   ],
   "source": [
    "\n",
    "import sympy as sp\n",
    "\n",
    "# Definimos las variables y la función\n",
    "t = sp.Symbol('t')\n",
    "v = 5 * t - 0.5 * t**2\n",
    "\n",
    "# Calculamos la integral definida\n",
    "desplazamiento = sp.integrate(v, (t, 0, 10))\n",
    "desplazamiento\n",
    "\n"
   ]
  },
  {
   "cell_type": "code",
   "execution_count": 14,
   "id": "16554f2d",
   "metadata": {},
   "outputs": [
    {
     "data": {
      "image/png": "[encoded data removed]",
      "text/plain": [
       "<Figure size 640x480 with 1 Axes>"
      ]
     },
     "metadata": {},
     "output_type": "display_data"
    }
   ],
   "source": [
    "import matplotlib.pyplot as plt\n",
    "tiempos = np.arange(0,10)\n",
    "def v(t):\n",
    "    return 5 * t - 0.5 * t**2\n",
    "velocidades = v(tiempos)\n",
    "plt.plot(tiempos, velocidades) \n",
    "plt.xlabel('tiempo (s)')\n",
    "plt.ylabel('velocidad (m/s)') \n",
    "plt.title('Gráfica de velocidad vs tiempo')\n",
    "plt.grid() "
   ]
  },
  {
   "cell_type": "code",
   "execution_count": 15,
   "id": "f2bc0534",
   "metadata": {},
   "outputs": [
    {
     "data": {
      "image/png": "[encoded data removed]",
      "text/plain": [
       "<Figure size 640x480 with 1 Axes>"
      ]
     },
     "metadata": {},
     "output_type": "display_data"
    },
    {
     "name": "stdout",
     "output_type": "stream",
     "text": [
      "El desplazamiento en el intervalo de 4 a 6 segundos es 24.67 m.\n"
     ]
    }
   ],
   "source": [
    "import numpy as np\n",
    "import matplotlib.pyplot as plt\n",
    "from scipy.integrate import quad\n",
    "\n",
    "# Definición de la función de velocidad\n",
    "def v(t):\n",
    "    return 5 * t - 0.5 * t**2\n",
    "\n",
    "# Intervalo de tiempo\n",
    "tiempos = np.arange(0, 10, 0.1)  # Resolución más fina para suavizar la curva\n",
    "velocidades = v(tiempos)\n",
    "\n",
    "# Cálculo del desplazamiento entre t=4 y t=6\n",
    "t_inicio = 4\n",
    "t_fin = 6\n",
    "desplazamiento, _ = quad(v, t_inicio, t_fin)\n",
    "\n",
    "# Gráfica de velocidad vs tiempo\n",
    "plt.plot(tiempos, velocidades, label='v(t) = 5t - 0.5t²')\n",
    "plt.fill_between(tiempos, 0, velocidades, where=(tiempos >= t_inicio) & (tiempos <= t_fin), \n",
    "                 color='orange', alpha=0.5, label=f'Área bajo la curva (desplazamiento)')\n",
    "\n",
    "# Etiquetas y leyenda\n",
    "plt.xlabel('Tiempo (s)')\n",
    "plt.ylabel('Velocidad (m/s)')\n",
    "plt.title('Gráfica de velocidad vs tiempo')\n",
    "plt.legend()\n",
    "plt.grid()\n",
    "\n",
    "# Mostrar la gráfica\n",
    "plt.show()\n",
    "\n",
    "# Imprimir el resultado del desplazamiento\n",
    "print(f\"El desplazamiento en el intervalo de {t_inicio} a {t_fin} segundos es {desplazamiento:.2f} m.\")\n"
   ]
  },
  {
   "cell_type": "markdown",
   "id": "3f0d659a",
   "metadata": {},
   "source": [
    "\n",
    "---\n",
    "\n",
    "### 5. **Extensión al Contexto Agronómico**\n",
    "#### 5.1 Ejemplo con Distribución Normal\n"
   ]
  },
  {
   "cell_type": "markdown",
   "id": "949c505f",
   "metadata": {},
   "source": [
    "### Distribución de Velocidad\n",
    "En un análisis estadístico, la velocidad promedio de un tractor se modela como una variable aleatoria con distribución normal $N(\\mu=5, \\sigma=1)$.\n"
   ]
  },
  {
   "cell_type": "markdown",
   "id": "5a98f1ca",
   "metadata": {},
   "source": [
    "\n",
    "#### Problema:\n",
    "Calcular el desplazamiento esperado después de 10 segundos usando Monte Carlo.\n"
   ]
  },
  {
   "cell_type": "markdown",
   "id": "6bc9e2c7",
   "metadata": {},
   "source": [
    "\n",
    "\n",
    "#### 5.2 Solución en Python\n"
   ]
  },
  {
   "cell_type": "code",
   "execution_count": 5,
   "id": "4034a1d5",
   "metadata": {},
   "outputs": [
    {
     "data": {
      "text/plain": [
       "array([5.49671415, 4.8617357 , 5.64768854, ..., 4.29468328, 5.49576557,\n",
       "       5.64438845])"
      ]
     },
     "execution_count": 5,
     "metadata": {},
     "output_type": "execute_result"
    }
   ],
   "source": [
    "import numpy as np\n",
    "\n",
    "# Parámetros de la distribución\n",
    "mu = 5\n",
    "sigma = 1\n",
    "t = 10  # Tiempo en segundos\n",
    "\n",
    "# Simulación de velocidades\n",
    "np.random.seed(42)  # Para reproducibilidad\n",
    "velocidades = np.random.normal(mu, sigma, 10000)\n",
    "velocidades"
   ]
  },
  {
   "cell_type": "code",
   "execution_count": 6,
   "id": "ed40ccd6",
   "metadata": {},
   "outputs": [
    {
     "data": {
      "text/plain": [
       "[<matplotlib.lines.Line2D at 0x246b71325d0>]"
      ]
     },
     "execution_count": 6,
     "metadata": {},
     "output_type": "execute_result"
    },
    {
     "data": {
      "image/png": "[encoded data removed]",
      "text/plain": [
       "<Figure size 640x480 with 1 Axes>"
      ]
     },
     "metadata": {},
     "output_type": "display_data"
    }
   ],
   "source": [
    "import matplotlib.pyplot as plt \n",
    "\n",
    "plt.plot(velocidades)"
   ]
  },
  {
   "cell_type": "code",
   "execution_count": 16,
   "id": "138823b9",
   "metadata": {},
   "outputs": [
    {
     "data": {
      "text/plain": [
       "np.float64(83.325)"
      ]
     },
     "execution_count": 16,
     "metadata": {},
     "output_type": "execute_result"
    }
   ],
   "source": [
    "\n",
    "# Desplazamiento esperado\n",
    "desplazamientos = velocidades * t\n",
    "desplazamiento_esperado = np.mean(desplazamientos)\n",
    "desplazamiento_esperado\n",
    "\n"
   ]
  },
  {
   "cell_type": "markdown",
   "id": "165cc06a",
   "metadata": {},
   "source": [
    "# Pertinencia y sentido del problama anterior  \n",
    "\n",
    "El problema que planteas es sumamente pertinente para enseñar la aplicabilidad del concepto de **integral definida** en el contexto de las ciencias agrarias, específicamente en el análisis del movimiento de maquinaria agrícola. Aquí se detalla la relevancia y beneficios pedagógicos:\n",
    "\n",
    "---\n"
   ]
  },
  {
   "cell_type": "markdown",
   "id": "3eb131f8",
   "metadata": {},
   "source": [
    "\n",
    "### **1. Contexto Realista y Motivador**\n",
    "En las ciencias agrarias, el uso de tractores y maquinaria es esencial para actividades como la siembra, cosecha y preparación del terreno. Modelar la velocidad de un tractor con una **distribución normal** refleja escenarios reales donde la velocidad no es constante debido a factores como las condiciones del terreno, el peso de la carga y la eficiencia del motor.\n",
    "\n",
    "El cálculo del desplazamiento esperado mediante simulaciones Monte Carlo añade un enfoque estadístico práctico, mostrando a los estudiantes cómo las matemáticas son útiles para tomar decisiones basadas en incertidumbre.\n",
    "\n",
    "---\n"
   ]
  },
  {
   "cell_type": "markdown",
   "id": "c9849311",
   "metadata": {},
   "source": [
    "\n",
    "### **2. Aplicación de la Integral Definida**\n",
    "El desplazamiento se relaciona directamente con la integral definida de la velocidad en un intervalo de tiempo. En este problema, la velocidad promedio del tractor no es una función determinista, sino una variable aleatoria \\( v(t) \\sim N(\\mu=5, \\sigma=1) \\). La simulación Monte Carlo permite estimar la integral en términos probabilísticos:\n",
    "\n",
    "$$\n",
    "\\text{Desplazamiento esperado} = \\mathbb{E}\\left[\\int_0^{10} v(t) \\, dt \\right] = \\int_0^{10} \\mathbb{E}[v(t)] \\, dt = 10 \\cdot \\mu\n",
    "$$\n",
    "\n",
    "El uso de Monte Carlo muestra a los estudiantes cómo resolver integrales con datos inciertos, un enfoque que combina probabilidad y cálculo.\n",
    "\n",
    "---\n"
   ]
  },
  {
   "cell_type": "markdown",
   "id": "d661c7e4",
   "metadata": {},
   "source": [
    "\n",
    "### **3. Desarrollo de Habilidades Computacionales**\n",
    "Este problema introduce a los estudiantes a herramientas computacionales modernas para resolver problemas complejos:\n",
    "- **Monte Carlo:** Simula el comportamiento de la velocidad para calcular el desplazamiento esperado. \n",
    "- **Python o software similar:** Se puede utilizar para generar simulaciones, calcular el desplazamiento y graficar resultados.\n",
    "- **Integración de datos reales:** Si los estudiantes tienen acceso a registros de maquinaria agrícola, podrían validar la distribución asumida y personalizar los parámetros $\\mu$ y $\\sigma$.\n",
    "\n",
    "---\n"
   ]
  },
  {
   "cell_type": "markdown",
   "id": "6d18b824",
   "metadata": {},
   "source": [
    "\n",
    "### **4. Competencias Reforzadas**\n",
    "El problema permite a los estudiantes conectar conceptos matemáticos con aplicaciones reales, fomentando competencias clave:\n",
    "- **Modelado matemático:** Representación de la velocidad como una variable aleatoria.\n",
    "- **Pensamiento computacional:** Uso de simulaciones para resolver un problema práctico.\n",
    "- **Razonamiento estadístico:** Interpretación de resultados obtenidos a partir de un modelo probabilístico.\n",
    "\n",
    "---\n",
    "\n",
    "### **5. Ejemplo de Resolución Práctica**\n",
    "Puedes implementar una simulación Monte Carlo como ejemplo práctico:\n"
   ]
  },
  {
   "cell_type": "code",
   "execution_count": null,
   "id": "5c0a25f3",
   "metadata": {},
   "outputs": [],
   "source": [
    "\n",
    "\n",
    "import numpy as np\n",
    "\n",
    "# Parámetros de la distribución normal\n",
    "mu = 5  # Velocidad promedio (m/s)\n",
    "sigma = 1  # Desviación estándar\n",
    "tiempo = 10  # Duración en segundos\n",
    "simulaciones = 100000  # Número de simulaciones\n",
    "\n",
    "# Generar muestras de velocidad\n",
    "velocidades = np.random.normal(mu, sigma, simulaciones)\n",
    "\n",
    "# Calcular desplazamientos\n",
    "desplazamientos = velocidades * tiempo\n",
    "\n",
    "# Desplazamiento esperado\n",
    "desplazamiento_esperado = np.mean(desplazamientos)\n",
    "\n",
    "print(f\"El desplazamiento esperado después de {tiempo} segundos es {desplazamiento_esperado:.2f} m.\")\n",
    "\n"
   ]
  },
  {
   "cell_type": "markdown",
   "id": "b12033f9",
   "metadata": {},
   "source": [
    "\n",
    "---\n"
   ]
  },
  {
   "cell_type": "markdown",
   "id": "ea2160aa",
   "metadata": {},
   "source": [
    "\n",
    "### **Conclusión**\n",
    "Este problema es un excelente ejemplo de cómo integrar el concepto de **integral definida** con modelos estadísticos y aplicaciones prácticas en las ciencias agrarias. Además, fomenta habilidades en programación y simulación, lo que prepara a los estudiantes para enfrentar desafíos interdisciplinarios en sus carreras."
   ]
  },
  {
   "cell_type": "markdown",
   "id": "738fbfe1",
   "metadata": {},
   "source": [
    "\n",
    "---\n",
    "\n",
    "### 6. **Conexión con la Modelación Estadística**\n",
    "\n",
    "### Modelación con Distribuciones\n",
    "Las distribuciones de probabilidad permiten modelar fenómenos como:\n",
    "1. Velocidad promedio de máquinas.\n",
    "2. Transporte de agua en suelos.\n",
    "3. Distribución de nutrientes en cultivos.\n",
    "\n",
    "Usar distribuciones como la normal, uniforme o gamma es clave en las ciencias agrarias.\n",
    "\n"
   ]
  },
  {
   "cell_type": "markdown",
   "id": "31489a8e",
   "metadata": {},
   "source": [
    "\n",
    "\n",
    "### 7. **Ejercicios Propuestos**\n",
    "\n",
    "### Ejercicios Propuestos\n",
    "1. Encuentre el desplazamiento de un vehículo cuya velocidad está dada por $v(t) = 3\\sin(t) + 2$, en el intervalo $[0, \\pi]$.\n",
    "2. Modele el desplazamiento de una máquina agrícola considerando una distribución uniforme entre 4 y 6 m/s para la velocidad.\n",
    "3. Use Python para calcular el área bajo la curva de una distribución normal con $\\mu=5, \\sigma=2$ para velocidades entre 3 y 7 m/s.\n",
    "\n"
   ]
  },
  {
   "cell_type": "markdown",
   "id": "5ee7a237",
   "metadata": {},
   "source": [
    "\n",
    "---\n",
    "\n",
    "### 8. **Conclusión**\n"
   ]
  },
  {
   "cell_type": "markdown",
   "id": "86fcfddb",
   "metadata": {},
   "source": [
    "\n",
    "### Conclusión\n",
    "1. La integral definida es una herramienta poderosa para modelar fenómenos físicos como el desplazamiento.\n",
    "2. En la agroindustria, las herramientas estadísticas y de modelación permiten predecir y optimizar procesos clave.\n",
    "3. Python es una herramienta fundamental para implementar y visualizar estos conceptos.\n",
    "\n"
   ]
  },
  {
   "cell_type": "markdown",
   "id": "2b8fcccb",
   "metadata": {},
   "source": [
    "\n",
    "### 9. **Referencias**\n",
    "\n",
    "1. Stewart, J. (2015). **Cálculo: Conceptos y Contextos**. Cengage Learning.\n",
    "2. Montgomery, D. C. (2012). **Probabilidad y Estadística para Ingeniería**. Wiley.\n",
    "3. Documentación de [SymPy](https://docs.sympy.org) y [NumPy](https://numpy.org).\n",
    "\n"
   ]
  },
  {
   "cell_type": "markdown",
   "id": "e2fb9375",
   "metadata": {},
   "source": [
    "\n",
    "---\n",
    "\n",
    "Este diseño combina teoría, aplicaciones prácticas y modelación, promoviendo un aprendizaje significativo en el contexto de las ciencias agrarias.\n",
    "\n"
   ]
  },
  {
   "cell_type": "code",
   "execution_count": null,
   "id": "5e2d8fa8",
   "metadata": {},
   "outputs": [],
   "source": []
  },
  {
   "cell_type": "code",
   "execution_count": null,
   "id": "ec048afb",
   "metadata": {},
   "outputs": [],
   "source": []
  },
  {
   "cell_type": "markdown",
   "id": "64ac8d32",
   "metadata": {},
   "source": [
    "# Ejemplo ilustrativo"
   ]
  },
  {
   "cell_type": "markdown",
   "id": "a3e5e6ab",
   "metadata": {},
   "source": [
    "# 10 ejercicios de entrenamiento o adquisición de habilidades obtenido a través de ChatGPT para una formación personalizada y centrada en la habilidad que se quiere lograr con la enseñanza del ejemplo anterior"
   ]
  },
  {
   "cell_type": "code",
   "execution_count": null,
   "id": "cc539357",
   "metadata": {},
   "outputs": [],
   "source": []
  },
  {
   "cell_type": "markdown",
   "id": "2f0141c3",
   "metadata": {},
   "source": [
    "## Tareas para realizar antes de la clase  \n",
    "\n",
    "1. Ver los videos respectivos []()\n",
    "2. Memorizar las definiciones []()\n",
    "3. Sintetizar o resumir la información en mapas conceptuales. []()\n",
    "4. Tareas para incentivar el uso de la calculadora Casio 991LA cw Para ingenieros, licenciados y administradores.  \n",
    "5. Leer los ejemplos resueltos y replicar la manera de hacerlos"
   ]
  },
  {
   "cell_type": "code",
   "execution_count": 1,
   "id": "83d849ab",
   "metadata": {},
   "outputs": [],
   "source": [
    "# Tarea 1 de lectura de ejemplos y completación de procedimientos\n",
    "# asignación de tarea para realizar antes de clase\n",
    "# Consiste en leer y completar un ejemplo de texto guía\n",
    "# Esta tarea es para realizar solo de manera manuscrita en su cuaderno de clase. \n",
    "# La otra opción de presentación es elaborada en cuadernos Jupyter (En este caso solo debe realizar la cuarta parte de los ejercicios asignados)\n",
    "# \n",
    "def asignador_de_tareas(nombre_tarea, ubicacion_tarea):\n",
    "    import pandas as pd\n",
    "    import numpy as np\n",
    "    import requests\n",
    "    np.random.seed(1213)  # establecer semilla aleatoria para hacer los resultados reproducibles\n",
    "\n",
    "    def asignar_tarea(nombre_tarea, grupo_estudiantes, nombre_texto_guia, pag_seccion, numero_ejemplos_seccion, numero_ejemplos_asignados):\n",
    "        students_path = \"/home/marco/Documentos/docencia/groups_list/\" + grupo_estudiantes + \".csv\"\n",
    "        examples = list(range(1, numero_ejemplos_de_la_seccion))  \n",
    "        students_data = pd.read_csv(students_path)\n",
    "        # Crear una lista para almacenar las asignaciones\n",
    "        assignments = []\n",
    "\n",
    "        # Asignar ejercicios aleatorios a cada estudiante\n",
    "        for index, student in students_data.iterrows():\n",
    "            # Seleccionar 5 ejercicios aleatorios sin repetición\n",
    "            random_exercises = np.sort(np.random.choice(examples, numero_de_ejemplos_asignados, \\\n",
    "                                                replace = False)+ 1)\n",
    "            assignments.append([students_data[\"Nombre\"][index], *random_exercises])  # Agregar asignación a la lista\n",
    "\n",
    "    # Crear un DataFrame con las asignaciones\n",
    "        columns = [\"Student\"] + [ \"Example\" + str(i+1) for i in range(numero_de_ejemplos_asignados)]\n",
    "        assignment_df = pd.DataFrame(assignments, columns=columns)\n",
    "\n",
    "    # Guardar el DataFrame en un archivo CSV\n",
    "        assignment_csv = nombre_tarea + \"_\" + nombre_texto_guia + \"_\"+ pagina_y_seccion + \".csv\"\n",
    "        assignment_df.to_csv(assignment_csv, index=False)\n",
    "\n",
    "        print(\"\"\"Tarea 1 de lectura de ejemplos y completación de procedimientos: \n",
    "     Si faltan los enunciados de los problemas, no se valora la tarea\n",
    "    Si faltan de la conclusión verbales, no se valora la tarea.\n",
    "    Esta tarea se valora solo si la presenta de manera manuscrita en su cuaderno de clase.  \n",
    "      \"\"\", assignment_csv)\n",
    "        return assignment_df"
   ]
  },
  {
   "cell_type": "markdown",
   "id": "740f3401",
   "metadata": {
    "slideshow": {
     "slide_type": "slide"
    }
   },
   "source": [
    "# Componente de manejo de calculadora Casio asociado al objetivo de aprendizaje de esta clase  \n",
    "\n",
    "## Pasos para lograr el objetivo de aprendizaje con la experimentación en la calculadora Casio 991LA cw  "
   ]
  },
  {
   "cell_type": "code",
   "execution_count": 2,
   "id": "0f1f0ab2",
   "metadata": {},
   "outputs": [
    {
     "ename": "NameError",
     "evalue": "name 'nombre_tarea' is not defined",
     "output_type": "error",
     "traceback": [
      "\u001b[1;31m---------------------------------------------------------------------------\u001b[0m",
      "\u001b[1;31mNameError\u001b[0m                                 Traceback (most recent call last)",
      "Cell \u001b[1;32mIn[2], line 1\u001b[0m\n\u001b[1;32m----> 1\u001b[0m asignador_de_tareas(\u001b[43mnombre_tarea\u001b[49m, ubicacion_tarea)\n",
      "\u001b[1;31mNameError\u001b[0m: name 'nombre_tarea' is not defined"
     ]
    }
   ],
   "source": [
    "asignador_de_tareas(nombre_tarea, ubicacion_tarea)\n",
    "\n"
   ]
  },
  {
   "cell_type": "code",
   "execution_count": null,
   "id": "0406f442",
   "metadata": {
    "slideshow": {
     "slide_type": "slide"
    }
   },
   "outputs": [
    {
     "name": "stdout",
     "output_type": "stream",
     "text": [
      "Tarea 3 Solución problemas describiendo y justificando verbalmente: \n",
      "      Si faltan los enunciados de los problemas, no se valora la tarea\n",
      "      Si faltan de la conclusión verbales, no se valora la tarea \n",
      "      Esta tarea se valora solo si la presenta de manera manuscrita en su cuaderno de clase  \n",
      "       tarea_Purcell_Página_202_Sección_3.8.csv\n"
     ]
    },
    {
     "data": {
      "text/html": [
       "<div>\n",
       "<style scoped>\n",
       "    .dataframe tbody tr th:only-of-type {\n",
       "        vertical-align: middle;\n",
       "    }\n",
       "\n",
       "    .dataframe tbody tr th {\n",
       "        vertical-align: top;\n",
       "    }\n",
       "\n",
       "    .dataframe thead th {\n",
       "        text-align: right;\n",
       "    }\n",
       "</style>\n",
       "<table border=\"1\" class=\"dataframe\">\n",
       "  <thead>\n",
       "    <tr style=\"text-align: right;\">\n",
       "      <th></th>\n",
       "      <th>Student</th>\n",
       "      <th>Exer1</th>\n",
       "      <th>Exer2</th>\n",
       "      <th>Exer3</th>\n",
       "      <th>Exer4</th>\n",
       "      <th>Exer5</th>\n",
       "      <th>Exer6</th>\n",
       "      <th>Exer7</th>\n",
       "      <th>Exer8</th>\n",
       "      <th>Exer9</th>\n",
       "      <th>Exer10</th>\n",
       "    </tr>\n",
       "  </thead>\n",
       "  <tbody>\n",
       "    <tr>\n",
       "      <th>0</th>\n",
       "      <td>AMARIS FERNANDEZ SEBASTIAN CAMILO</td>\n",
       "      <td>4</td>\n",
       "      <td>7</td>\n",
       "      <td>9</td>\n",
       "      <td>17</td>\n",
       "      <td>21</td>\n",
       "      <td>30</td>\n",
       "      <td>39</td>\n",
       "      <td>44</td>\n",
       "      <td>51</td>\n",
       "      <td>54</td>\n",
       "    </tr>\n",
       "    <tr>\n",
       "      <th>1</th>\n",
       "      <td>ARENAS HERAZO GABRIEL ENRIQUE</td>\n",
       "      <td>2</td>\n",
       "      <td>5</td>\n",
       "      <td>11</td>\n",
       "      <td>17</td>\n",
       "      <td>26</td>\n",
       "      <td>28</td>\n",
       "      <td>32</td>\n",
       "      <td>40</td>\n",
       "      <td>46</td>\n",
       "      <td>50</td>\n",
       "    </tr>\n",
       "    <tr>\n",
       "      <th>2</th>\n",
       "      <td>AYALA MENDOZA MARISOL YACIRA</td>\n",
       "      <td>10</td>\n",
       "      <td>18</td>\n",
       "      <td>21</td>\n",
       "      <td>37</td>\n",
       "      <td>39</td>\n",
       "      <td>45</td>\n",
       "      <td>46</td>\n",
       "      <td>47</td>\n",
       "      <td>51</td>\n",
       "      <td>52</td>\n",
       "    </tr>\n",
       "    <tr>\n",
       "      <th>3</th>\n",
       "      <td>BERTEL RODELO MICHELL SMIT</td>\n",
       "      <td>4</td>\n",
       "      <td>8</td>\n",
       "      <td>20</td>\n",
       "      <td>26</td>\n",
       "      <td>28</td>\n",
       "      <td>33</td>\n",
       "      <td>40</td>\n",
       "      <td>41</td>\n",
       "      <td>42</td>\n",
       "      <td>47</td>\n",
       "    </tr>\n",
       "    <tr>\n",
       "      <th>4</th>\n",
       "      <td>BULA VERGARA MARIA PAULA</td>\n",
       "      <td>12</td>\n",
       "      <td>13</td>\n",
       "      <td>20</td>\n",
       "      <td>23</td>\n",
       "      <td>25</td>\n",
       "      <td>27</td>\n",
       "      <td>29</td>\n",
       "      <td>30</td>\n",
       "      <td>34</td>\n",
       "      <td>48</td>\n",
       "    </tr>\n",
       "    <tr>\n",
       "      <th>5</th>\n",
       "      <td>CANTILLO ENSUCHO DANIEL</td>\n",
       "      <td>2</td>\n",
       "      <td>4</td>\n",
       "      <td>5</td>\n",
       "      <td>7</td>\n",
       "      <td>15</td>\n",
       "      <td>25</td>\n",
       "      <td>27</td>\n",
       "      <td>33</td>\n",
       "      <td>46</td>\n",
       "      <td>51</td>\n",
       "    </tr>\n",
       "    <tr>\n",
       "      <th>6</th>\n",
       "      <td>CERVANTES DURAN ANGELICA</td>\n",
       "      <td>2</td>\n",
       "      <td>4</td>\n",
       "      <td>5</td>\n",
       "      <td>14</td>\n",
       "      <td>17</td>\n",
       "      <td>19</td>\n",
       "      <td>22</td>\n",
       "      <td>24</td>\n",
       "      <td>34</td>\n",
       "      <td>52</td>\n",
       "    </tr>\n",
       "    <tr>\n",
       "      <th>7</th>\n",
       "      <td>GUERRA NORIEGA YONATHAN</td>\n",
       "      <td>3</td>\n",
       "      <td>20</td>\n",
       "      <td>24</td>\n",
       "      <td>26</td>\n",
       "      <td>28</td>\n",
       "      <td>35</td>\n",
       "      <td>39</td>\n",
       "      <td>48</td>\n",
       "      <td>49</td>\n",
       "      <td>53</td>\n",
       "    </tr>\n",
       "    <tr>\n",
       "      <th>8</th>\n",
       "      <td>HINCAPIE CASTRO JOHAN SEBASTIAN</td>\n",
       "      <td>10</td>\n",
       "      <td>17</td>\n",
       "      <td>27</td>\n",
       "      <td>28</td>\n",
       "      <td>29</td>\n",
       "      <td>32</td>\n",
       "      <td>36</td>\n",
       "      <td>44</td>\n",
       "      <td>48</td>\n",
       "      <td>54</td>\n",
       "    </tr>\n",
       "    <tr>\n",
       "      <th>9</th>\n",
       "      <td>HUMANEZ SANCHEZ CAMILO</td>\n",
       "      <td>3</td>\n",
       "      <td>16</td>\n",
       "      <td>19</td>\n",
       "      <td>24</td>\n",
       "      <td>33</td>\n",
       "      <td>41</td>\n",
       "      <td>43</td>\n",
       "      <td>44</td>\n",
       "      <td>47</td>\n",
       "      <td>49</td>\n",
       "    </tr>\n",
       "    <tr>\n",
       "      <th>10</th>\n",
       "      <td>IBAÑEZ MORENO FRANCISCO LUIS</td>\n",
       "      <td>3</td>\n",
       "      <td>8</td>\n",
       "      <td>13</td>\n",
       "      <td>16</td>\n",
       "      <td>21</td>\n",
       "      <td>27</td>\n",
       "      <td>28</td>\n",
       "      <td>31</td>\n",
       "      <td>42</td>\n",
       "      <td>43</td>\n",
       "    </tr>\n",
       "    <tr>\n",
       "      <th>11</th>\n",
       "      <td>MASS MIRANDA RIVALDO JOSE</td>\n",
       "      <td>2</td>\n",
       "      <td>3</td>\n",
       "      <td>12</td>\n",
       "      <td>13</td>\n",
       "      <td>23</td>\n",
       "      <td>24</td>\n",
       "      <td>31</td>\n",
       "      <td>35</td>\n",
       "      <td>46</td>\n",
       "      <td>52</td>\n",
       "    </tr>\n",
       "    <tr>\n",
       "      <th>12</th>\n",
       "      <td>MIRANDA MARTINEZ CARLOS ANDRES</td>\n",
       "      <td>10</td>\n",
       "      <td>12</td>\n",
       "      <td>21</td>\n",
       "      <td>24</td>\n",
       "      <td>25</td>\n",
       "      <td>26</td>\n",
       "      <td>27</td>\n",
       "      <td>29</td>\n",
       "      <td>39</td>\n",
       "      <td>50</td>\n",
       "    </tr>\n",
       "    <tr>\n",
       "      <th>13</th>\n",
       "      <td>MONTERROSA SOTO ABRIL</td>\n",
       "      <td>10</td>\n",
       "      <td>14</td>\n",
       "      <td>16</td>\n",
       "      <td>18</td>\n",
       "      <td>28</td>\n",
       "      <td>30</td>\n",
       "      <td>35</td>\n",
       "      <td>36</td>\n",
       "      <td>42</td>\n",
       "      <td>50</td>\n",
       "    </tr>\n",
       "    <tr>\n",
       "      <th>14</th>\n",
       "      <td>NORIEGA JIMENEZ GABRIELA</td>\n",
       "      <td>4</td>\n",
       "      <td>13</td>\n",
       "      <td>14</td>\n",
       "      <td>16</td>\n",
       "      <td>19</td>\n",
       "      <td>22</td>\n",
       "      <td>36</td>\n",
       "      <td>37</td>\n",
       "      <td>46</td>\n",
       "      <td>51</td>\n",
       "    </tr>\n",
       "    <tr>\n",
       "      <th>15</th>\n",
       "      <td>PEREZ REYES IVAN DARIO</td>\n",
       "      <td>17</td>\n",
       "      <td>19</td>\n",
       "      <td>23</td>\n",
       "      <td>26</td>\n",
       "      <td>30</td>\n",
       "      <td>33</td>\n",
       "      <td>34</td>\n",
       "      <td>40</td>\n",
       "      <td>46</td>\n",
       "      <td>53</td>\n",
       "    </tr>\n",
       "    <tr>\n",
       "      <th>16</th>\n",
       "      <td>PEREZ THERAN ERLINDA</td>\n",
       "      <td>3</td>\n",
       "      <td>6</td>\n",
       "      <td>19</td>\n",
       "      <td>21</td>\n",
       "      <td>25</td>\n",
       "      <td>30</td>\n",
       "      <td>32</td>\n",
       "      <td>39</td>\n",
       "      <td>42</td>\n",
       "      <td>45</td>\n",
       "    </tr>\n",
       "    <tr>\n",
       "      <th>17</th>\n",
       "      <td>PINEDA ROMERO YOSMERI</td>\n",
       "      <td>2</td>\n",
       "      <td>30</td>\n",
       "      <td>31</td>\n",
       "      <td>32</td>\n",
       "      <td>35</td>\n",
       "      <td>36</td>\n",
       "      <td>37</td>\n",
       "      <td>42</td>\n",
       "      <td>47</td>\n",
       "      <td>50</td>\n",
       "    </tr>\n",
       "    <tr>\n",
       "      <th>18</th>\n",
       "      <td>QUINONEZ CERVANTES MARIANA</td>\n",
       "      <td>5</td>\n",
       "      <td>6</td>\n",
       "      <td>8</td>\n",
       "      <td>13</td>\n",
       "      <td>15</td>\n",
       "      <td>32</td>\n",
       "      <td>33</td>\n",
       "      <td>42</td>\n",
       "      <td>46</td>\n",
       "      <td>49</td>\n",
       "    </tr>\n",
       "    <tr>\n",
       "      <th>19</th>\n",
       "      <td>RAMOS PEREZ YANINE</td>\n",
       "      <td>11</td>\n",
       "      <td>20</td>\n",
       "      <td>21</td>\n",
       "      <td>28</td>\n",
       "      <td>29</td>\n",
       "      <td>37</td>\n",
       "      <td>39</td>\n",
       "      <td>44</td>\n",
       "      <td>46</td>\n",
       "      <td>52</td>\n",
       "    </tr>\n",
       "    <tr>\n",
       "      <th>20</th>\n",
       "      <td>RIVAS HOYOS ESTEFANIA</td>\n",
       "      <td>7</td>\n",
       "      <td>10</td>\n",
       "      <td>12</td>\n",
       "      <td>14</td>\n",
       "      <td>17</td>\n",
       "      <td>25</td>\n",
       "      <td>28</td>\n",
       "      <td>30</td>\n",
       "      <td>37</td>\n",
       "      <td>48</td>\n",
       "    </tr>\n",
       "    <tr>\n",
       "      <th>21</th>\n",
       "      <td>ROSILLO TEJADA VANESA</td>\n",
       "      <td>12</td>\n",
       "      <td>22</td>\n",
       "      <td>23</td>\n",
       "      <td>27</td>\n",
       "      <td>28</td>\n",
       "      <td>30</td>\n",
       "      <td>34</td>\n",
       "      <td>36</td>\n",
       "      <td>40</td>\n",
       "      <td>44</td>\n",
       "    </tr>\n",
       "    <tr>\n",
       "      <th>22</th>\n",
       "      <td>SANCHEZ PADILLA SILVESTRE</td>\n",
       "      <td>4</td>\n",
       "      <td>7</td>\n",
       "      <td>15</td>\n",
       "      <td>22</td>\n",
       "      <td>32</td>\n",
       "      <td>34</td>\n",
       "      <td>38</td>\n",
       "      <td>43</td>\n",
       "      <td>48</td>\n",
       "      <td>53</td>\n",
       "    </tr>\n",
       "    <tr>\n",
       "      <th>23</th>\n",
       "      <td>SILVA ROYERO MAILY CRISTINA</td>\n",
       "      <td>4</td>\n",
       "      <td>5</td>\n",
       "      <td>12</td>\n",
       "      <td>13</td>\n",
       "      <td>20</td>\n",
       "      <td>25</td>\n",
       "      <td>30</td>\n",
       "      <td>35</td>\n",
       "      <td>42</td>\n",
       "      <td>54</td>\n",
       "    </tr>\n",
       "    <tr>\n",
       "      <th>24</th>\n",
       "      <td>USUGA GEORGE JHON ESTIVEN</td>\n",
       "      <td>5</td>\n",
       "      <td>7</td>\n",
       "      <td>8</td>\n",
       "      <td>10</td>\n",
       "      <td>22</td>\n",
       "      <td>37</td>\n",
       "      <td>39</td>\n",
       "      <td>42</td>\n",
       "      <td>44</td>\n",
       "      <td>51</td>\n",
       "    </tr>\n",
       "  </tbody>\n",
       "</table>\n",
       "</div>"
      ],
      "text/plain": [
       "                              Student  Exer1  Exer2  Exer3  Exer4  Exer5  \\\n",
       "0   AMARIS FERNANDEZ SEBASTIAN CAMILO      4      7      9     17     21   \n",
       "1       ARENAS HERAZO GABRIEL ENRIQUE      2      5     11     17     26   \n",
       "2        AYALA MENDOZA MARISOL YACIRA     10     18     21     37     39   \n",
       "3          BERTEL RODELO MICHELL SMIT      4      8     20     26     28   \n",
       "4            BULA VERGARA MARIA PAULA     12     13     20     23     25   \n",
       "5             CANTILLO ENSUCHO DANIEL      2      4      5      7     15   \n",
       "6            CERVANTES DURAN ANGELICA      2      4      5     14     17   \n",
       "7             GUERRA NORIEGA YONATHAN      3     20     24     26     28   \n",
       "8     HINCAPIE CASTRO JOHAN SEBASTIAN     10     17     27     28     29   \n",
       "9              HUMANEZ SANCHEZ CAMILO      3     16     19     24     33   \n",
       "10       IBAÑEZ MORENO FRANCISCO LUIS      3      8     13     16     21   \n",
       "11          MASS MIRANDA RIVALDO JOSE      2      3     12     13     23   \n",
       "12     MIRANDA MARTINEZ CARLOS ANDRES     10     12     21     24     25   \n",
       "13              MONTERROSA SOTO ABRIL     10     14     16     18     28   \n",
       "14           NORIEGA JIMENEZ GABRIELA      4     13     14     16     19   \n",
       "15             PEREZ REYES IVAN DARIO     17     19     23     26     30   \n",
       "16               PEREZ THERAN ERLINDA      3      6     19     21     25   \n",
       "17              PINEDA ROMERO YOSMERI      2     30     31     32     35   \n",
       "18         QUINONEZ CERVANTES MARIANA      5      6      8     13     15   \n",
       "19                 RAMOS PEREZ YANINE     11     20     21     28     29   \n",
       "20              RIVAS HOYOS ESTEFANIA      7     10     12     14     17   \n",
       "21              ROSILLO TEJADA VANESA     12     22     23     27     28   \n",
       "22          SANCHEZ PADILLA SILVESTRE      4      7     15     22     32   \n",
       "23        SILVA ROYERO MAILY CRISTINA      4      5     12     13     20   \n",
       "24          USUGA GEORGE JHON ESTIVEN      5      7      8     10     22   \n",
       "\n",
       "    Exer6  Exer7  Exer8  Exer9  Exer10  \n",
       "0      30     39     44     51      54  \n",
       "1      28     32     40     46      50  \n",
       "2      45     46     47     51      52  \n",
       "3      33     40     41     42      47  \n",
       "4      27     29     30     34      48  \n",
       "5      25     27     33     46      51  \n",
       "6      19     22     24     34      52  \n",
       "7      35     39     48     49      53  \n",
       "8      32     36     44     48      54  \n",
       "9      41     43     44     47      49  \n",
       "10     27     28     31     42      43  \n",
       "11     24     31     35     46      52  \n",
       "12     26     27     29     39      50  \n",
       "13     30     35     36     42      50  \n",
       "14     22     36     37     46      51  \n",
       "15     33     34     40     46      53  \n",
       "16     30     32     39     42      45  \n",
       "17     36     37     42     47      50  \n",
       "18     32     33     42     46      49  \n",
       "19     37     39     44     46      52  \n",
       "20     25     28     30     37      48  \n",
       "21     30     34     36     40      44  \n",
       "22     34     38     43     48      53  \n",
       "23     25     30     35     42      54  \n",
       "24     37     39     42     44      51  "
      ]
     },
     "execution_count": 5,
     "metadata": {},
     "output_type": "execute_result"
    }
   ],
   "source": [
    "asignador_de_tareas(nombre_tarea, ubicacion_tarea):\n",
    "\n",
    "\n",
    "\n"
   ]
  },
  {
   "cell_type": "markdown",
   "id": "8d41fe58",
   "metadata": {
    "slideshow": {
     "slide_type": "slide"
    }
   },
   "source": [
    "# Horario de clases del profesor Marco\n",
    "\n",
    "* Lunes 8-12: Cálculo Vectorial\n",
    "* Martes 8-12 M: Fundamentos de Aritmética. \n",
    "* Miércoles 8 a 12 M: Fundamentos de la Lógica\n",
    "* Jueves 2 a 6 PM: Desarrollo del pensamiento matemático en la infancia. \n",
    "* Viernes 8 - 12 M: Desarrollo del pensamiento matemático en la infancia. \n",
    "* Sábados 8-12 Asesorías y espacio para retroalimentación y apoyo al trabajo independiente. "
   ]
  },
  {
   "cell_type": "markdown",
   "id": "ae114e14",
   "metadata": {
    "slideshow": {
     "slide_type": "slide"
    }
   },
   "source": [
    "# Horarios de monitoría y asesoría  \n",
    "\n",
    "Coordinador de los cursos de la Facultad de Educación para regiones:    \n",
    "\n",
    "Andrés Vélez: regioneducacion.fedu@udea.edu.co  \n",
    "Coordinador Regiones  \n",
    "Facultad de Educación  \n",
    "Universidad de Antioquia  "
   ]
  },
  {
   "cell_type": "markdown",
   "id": "b1db4b6c",
   "metadata": {
    "slideshow": {
     "slide_type": "slide"
    }
   },
   "source": [
    "## Monitor Manuel San Juan Serrano\n",
    "\n",
    "Contactar escribiendo al correo: manuel.serrano1@udea.edu.co"
   ]
  },
  {
   "cell_type": "markdown",
   "id": "39559692",
   "metadata": {
    "slideshow": {
     "slide_type": "slide"
    }
   },
   "source": [
    "Martes y jueves de 8 - 12  \n",
    "Miércoles 10 - 12 y de 2 a 4 PM  \n",
    "Sábado: 8 - 12"
   ]
  },
  {
   "cell_type": "markdown",
   "id": "5a190057",
   "metadata": {},
   "source": [
    "## Monitoría virtual   \n",
    "\n",
    "Telefono del monitos en whatsApp: 3043936088  \n",
    "\n",
    "Juan David Cano Castrillón  \n",
    "Estudiante de Pregrado.  \n",
    "juan.canoc1@udea.edu.co  \n",
    "3043936088  \n"
   ]
  },
  {
   "cell_type": "markdown",
   "id": "10bce0d0",
   "metadata": {
    "slideshow": {
     "slide_type": "slide"
    }
   },
   "source": [
    "## Referentes "
   ]
  },
  {
   "cell_type": "markdown",
   "id": "1db3c468",
   "metadata": {
    "slideshow": {
     "slide_type": "slide"
    }
   },
   "source": [
    "* [Grajales Vanegas, L. M., Restrepo Estrada, C. E., Restrepo Ochoa, S. I., & Ruíz De Villalba, F. (2015). Matemáticas I para las ciencias económicas.](https://github.com/marco-canas/fundamentos_de_la_aritmetica/blob/main/referentes/2_grajales_logica/grajales_lina_matemticas.pdf)\n",
    "  \n",
    "* Duval, R. (2004). Semiosis y pensamiento humano: registros semióticos y aprendizajes intelectuales. Universidad del Valle.\n",
    "\n",
    "* [Aylwin, C. U. (2011). Lógica, conjuntos y números. Universidad de los Andes, Consejo de Publicaciones, Colección: Ciencias Básicas, Serie: Matemáticas.](https://github.com/marco-canas/fundamentos_logica/blob/main/referentes/2_uzcategui/uscategui.pdf)\n",
    "  \n",
    "* [Chollet, F. (2021). Deep learning with Python. Simon and Schuster.](https://github.com/marco-canas/didactica_ciencia_datos/blob/main/2_referentes/chollet/Fran%C3%A7ois%20Chollet%20-%20Deep%20Learning%20with%20Python-Manning%20(2018).pdf)  \n",
    "  \n",
    "* [Watson, S., Stewart, J., & Redlin, L. (2009). Precálculo. Matemáticas para el cálculo.](https://github.com/marco-canas/calculo/blob/main/referents/1_precalculo_stewart/stewart_precalculo.pdf)  \n",
    "\n",
    "* [Purcell, E. J., Varberg, D., & Rigdon, S. E. (2007). Cálculo diferencial e integral. Pearson Educación.](https://github.com/marco-canas/calculo/blob/main/referents/purcell/purcell_calculo.pdf)\n",
    "\n",
    "  \n",
    "\n",
    "* [stewart cálculo](https://udeaeduco-my.sharepoint.com/:b:/g/personal/marco_canas_udea_edu_co/EZgXZjAp8QxPqOAim2hs6LcBNPLGjSHf-xwYnUVYkwa04w?e=RZdTCy)  \n",
    "\n",
    "* [larson](https://udeaeduco-my.sharepoint.com/:b:/g/personal/marco_canas_udea_edu_co/ES71ChFeO9ZDhW3TwC5Ijk8BjxUK3Pdqz_fjHxTTFAfIAg?e=VDEjfu)\n",
    "\n",
    "\n",
    "\n",
    "* [Recomendación de la UNESCO sobre ciencia abierta](https://unesdoc.unesco.org/ark:/48223/pf0000379949_spa)\n",
    "\n",
    "* [chatGPT](https://openai.com/blog/chatgpt)  \n",
    "\n",
    "* [Géron, A. (2017). Hands-on machine learning with scikit-learn and tensorflow: Concepts. Tools, and Techniques to build intelligent systems.](https://github.com/marco-canas/didactica_ciencia_datos/blob/main/2_referentes/geron/Hands-On%20Machine%20Learning-3nd_Edition(2022).pdf)  \n",
    "\n",
    "* [McKinney, W. (2012). Python for data analysis: Data wrangling with Pandas, NumPy, and IPython. \" O'Reilly Media, Inc.\".](https://github.com/marco-canas/didactica_ciencia_datos/blob/main/2_referentes/mckinney/Wes_McKinney.pdf)  "
   ]
  },
  {
   "cell_type": "markdown",
   "id": "8e65d6f9",
   "metadata": {},
   "source": [
    "# Como estudiante, encuentro que...   \n",
    "\n",
    "F: Mis Fortalezas son:     \n",
    "O: Mis Oportunidades son:    \n",
    "D: Mis Debilidades son:    \n",
    "A: Lo que Amenazas mi aprendizaje es:  "
   ]
  },
  {
   "cell_type": "markdown",
   "id": "6b9e56a8",
   "metadata": {
    "slideshow": {
     "slide_type": "slide"
    }
   },
   "source": [
    "### [Evaluamos al profesor Marco Cañas Aquí](https://forms.office.com/Pages/ResponsePage.aspx?id=IefhmYRxjkmK_7KtTlPBwkanXIs1i1FEujpsZgO6dXpUREJPV1kxUk1JV1ozTFJIQVNIQjY5WEY3US4u)"
   ]
  },
  {
   "cell_type": "markdown",
   "id": "10f43536",
   "metadata": {
    "slideshow": {
     "slide_type": "slide"
    }
   },
   "source": [
    "### Continue su aprendizaje en la siguiente clase a través del siguiente [vínculo]()"
   ]
  },
  {
   "cell_type": "markdown",
   "id": "ba236f4d",
   "metadata": {},
   "source": [
    "### **Actividad de Clase: Expresar Ideas, Dudas y Emociones de Manera Respetuosa y Asertiva**\n"
   ]
  },
  {
   "cell_type": "markdown",
   "id": "33bcd185",
   "metadata": {},
   "source": [
    "\n",
    "**Objetivo:**  \n",
    "Desarrollar habilidades de comunicación efectiva en los estudiantes para que puedan expresar sus ideas, dudas y emociones de forma respetuosa y asertiva.\n"
   ]
  },
  {
   "cell_type": "markdown",
   "id": "701a6b0c",
   "metadata": {},
   "source": [
    "\n",
    "**Duración:**  \n",
    "15-20 minutos\n",
    "\n",
    "---\n"
   ]
  },
  {
   "cell_type": "markdown",
   "id": "f61da648",
   "metadata": {},
   "source": [
    "\n",
    "### **1. Introducción (5 minutos)**  \n",
    "- **Tema:** Introducir a los estudiantes al concepto de la comunicación asertiva, explicando cómo expresar pensamientos y emociones de manera clara y respetuosa sin agredir o ser pasivo.\n",
    "- **Dinámica:** Mostrar dos ejemplos contrastantes: uno de comunicación pasiva/agresiva y otro de comunicación asertiva. Preguntar a los estudiantes cuál creen que es más efectivo y por qué.\n"
   ]
  },
  {
   "cell_type": "markdown",
   "id": "fb5fcc8d",
   "metadata": {},
   "source": [
    "\n",
    "**Materiales:**  \n",
    "- Pizarra o diapositivas con ejemplos de frases pasivas, agresivas y asertivas.\n",
    "  \n",
    "**Ejemplo:**  \n",
    "- **Pasivo:** “Bueno… no sé si es una buena idea, pero… tal vez podrías intentarlo.”\n",
    "- **Agresivo:** “¡Tu idea es terrible, no va a funcionar!”\n",
    "- **Asertivo:** “Creo que podríamos mejorar esa idea si consideramos otro enfoque.”\n",
    "\n",
    "---\n"
   ]
  },
  {
   "cell_type": "markdown",
   "id": "b5445d5e",
   "metadata": {},
   "source": [
    "\n",
    "### **2. Ejercicio en Parejas (10 minutos)**  \n",
    "- **Instrucciones:** Dividir a los estudiantes en parejas. Darles diferentes situaciones cotidianas en las que deben comunicarse (pedir ayuda, expresar desacuerdo, compartir una idea, etc.). Cada pareja debe crear una breve conversación donde practiquen la comunicación asertiva.\n",
    "  \n",
    "**Situaciones propuestas:**\n",
    "  - Expresar desacuerdo con un compañero sobre una tarea de grupo.\n",
    "  - Pedirle ayuda al profesor sobre un concepto difícil.\n",
    "  - Expresar frustración por un malentendido en clase.\n",
    "\n",
    "- **Reglas:** Cada estudiante debe asegurarse de usar lenguaje respetuoso y asertivo para expresar su posición y emociones. Al final, cada pareja debe compartir con la clase un ejemplo de lo que discutieron.\n",
    "\n",
    "---\n"
   ]
  },
  {
   "cell_type": "markdown",
   "id": "9bcd1b30",
   "metadata": {},
   "source": [
    "\n",
    "### **3. Retroalimentación y Discusión (5 minutos)**  \n",
    "- **Discusión:** Invitar a algunos estudiantes a compartir sus experiencias de la actividad. \n",
    "- **Preguntas:** ¿Cómo se sintieron al intentar ser asertivos? ¿Les resultó difícil? ¿Cómo fue recibido el mensaje?\n",
    "  \n",
    "**Consejo:** Resaltar la importancia de practicar la asertividad como una herramienta para mejorar la comunicación interpersonal y reducir conflictos.\n",
    "\n",
    "---\n"
   ]
  },
  {
   "cell_type": "markdown",
   "id": "512fe655",
   "metadata": {},
   "source": [
    "\n",
    "### **Cierre**  \n",
    "- Resumir las características de la comunicación asertiva: uso de \"yo\" en lugar de \"tú\" para evitar culpabilizar, tono de voz calmado, y respeto hacia el interlocutor.\n",
    "- **Tarea opcional:** Pedirles que practiquen la comunicación asertiva en sus conversaciones durante la semana y escriban una reflexión breve sobre cómo les fue.\n"
   ]
  },
  {
   "cell_type": "markdown",
   "id": "42b177d7",
   "metadata": {},
   "source": [
    "\n",
    "**Material adicional:**  \n",
    "- Video corto o recurso digital sobre la importancia de la comunicación asertiva."
   ]
  },
  {
   "cell_type": "markdown",
   "id": "53cc9115",
   "metadata": {
    "slideshow": {
     "slide_type": "slide"
    }
   },
   "source": [
    "## Agradecimientos  \n",
    "\n",
    "Doy gracias a Dios por la vida de mi Hijo Joseph Cañas Osorio y la madurez que ha alcanzado. Este hijo me enorgullece y me hace falta abrazarlo cada día. \n",
    "\n",
    "Y a mi esposa Yasmira Emperatriz Barboza Mogollón por su apoyo, orientación y acompañamiento. "
   ]
  },
  {
   "cell_type": "markdown",
   "id": "88f7dbda",
   "metadata": {},
   "source": []
  }
 ],
 "metadata": {
  "celltoolbar": "Slideshow",
  "kernelspec": {
   "display_name": "Python 3",
   "language": "python",
   "name": "python3"
  },
  "language_info": {
   "codemirror_mode": {
    "name": "ipython",
    "version": 3
   },
   "file_extension": ".py",
   "mimetype": "text/x-python",
   "name": "python",
   "nbconvert_exporter": "python",
   "pygments_lexer": "ipython3",
   "version": "3.12.7"
  },
  "rise": {
   "enable_chalkboard": true,
   "theme": "sky",
   "transition": "zoom"
  }
 },
 "nbformat": 4,
 "nbformat_minor": 5
}
