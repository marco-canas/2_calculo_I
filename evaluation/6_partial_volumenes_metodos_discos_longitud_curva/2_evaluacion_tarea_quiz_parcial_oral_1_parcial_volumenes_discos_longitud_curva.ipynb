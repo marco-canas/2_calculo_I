{
 "cells": [
  {
   "cell_type": "markdown",
   "id": "dc06dec7",
   "metadata": {
    "slideshow": {
     "slide_type": "slide"
    }
   },
   "source": [
    "<table align=\"left\">\n",
    "  <td>\n",
    "    <a href=\"https://colab.research.google.com/github/marco-canas/didactica_ciencia_datos/blob/main/1_curso_machine_learning/1_evaluacion_oral_tarea_quiz_parcial.ipynb\" target=\"_parent\"><img src=\"https://colab.research.google.com/assets/colab-badge.svg\" alt=\"Open In Colab\"/></a>\n",
    "  </td>\n",
    "  <td>\n",
    "    <a target=\"_blank\" href=\"https://kaggle.com/kernels/welcome?src=https://github.com/marco-canas/didactica_ciencia_datos/blob/main/1_curso_machine_learning/1_evaluacion_oral_tarea_quiz_parcial.ipynb\"><img src=\"https://kaggle.com/static/images/open-in-kaggle.svg\" /></a>\n",
    "  </td>\n",
    "</table>"
   ]
  },
  {
   "cell_type": "markdown",
   "id": "e0c5b198",
   "metadata": {
    "slideshow": {
     "slide_type": "slide"
    }
   },
   "source": [
    "### [Video de apoyo a la lectura interactiva y experimental de este cuaderno]()"
   ]
  },
  {
   "cell_type": "markdown",
   "id": "41e82203",
   "metadata": {
    "slideshow": {
     "slide_type": "slide"
    }
   },
   "source": [
    "## [Vínculo al programa del curso:  ]()"
   ]
  },
  {
   "cell_type": "markdown",
   "id": "ca46c23b",
   "metadata": {
    "slideshow": {
     "slide_type": "slide"
    }
   },
   "source": [
    "# Modelo general de clase: [aula invertida](https://www3.gobiernodecanarias.org/medusa/ecoescuela/pedagotic/aprendizaje-invertido-flipped-classroom/)\n"
   ]
  },
  {
   "cell_type": "markdown",
   "id": "7f9be90f",
   "metadata": {
    "slideshow": {
     "slide_type": "slide"
    }
   },
   "source": [
    "# Fomento de la lectura literaria asociada a Ingeniería agropecuaria y licenciatura en Matemáticas y administración de empresas\n",
    "\n",
    "[Hábitos atómicos](https://github.com/marco-canas/habitos_atomicos/blob/main/13_como_dejar_de_postergar_usando_la_regla_de_los_dos_minutos/1_13_como_dejar_de_postergar_usando_la_regla_de_los_dos_minutos.ipynb)"
   ]
  },
  {
   "cell_type": "code",
   "execution_count": null,
   "id": "acf09fa6",
   "metadata": {},
   "outputs": [],
   "source": []
  },
  {
   "cell_type": "markdown",
   "id": "96775931",
   "metadata": {
    "slideshow": {
     "slide_type": "slide"
    }
   },
   "source": [
    "# Título de la clase: Realización evaluación oral, de Tareas en cuadernos Jupyter, Quiz o Parcial de selección múltiple o de preguntas cerradas.  \n",
    "\n"
   ]
  },
  {
   "cell_type": "markdown",
   "id": "1d38dd4e",
   "metadata": {
    "slideshow": {
     "slide_type": "slide"
    }
   },
   "source": [
    "### Objetivo de aprendizaje (Enunciar, de manera corta sencilla y clara para todos los asistentes)\n",
    "\n",
    "* [Hipervínculo para el cuaderno de enseñanza]()\n",
    "1. Evaluar las tareas realizadas de manera manúscrita\n",
    "2. Evaluar las tareas realizadas en los cuadernos Jupyter. (Solo realizar la tercera parte de las tareas asignadas de manera manuscrita)\n",
    "3. Evaluar con un quiz escrito\n",
    "4. Evaluar con un parcial escrito.\n",
    "5. Evaluar la capacidad de describir un problema y su solución de manera oral. "
   ]
  },
  {
   "cell_type": "markdown",
   "id": "ca7261b1",
   "metadata": {
    "slideshow": {
     "slide_type": "slide"
    }
   },
   "source": [
    "## Establecimiento de prerrequisitos conceptuales para alcanzar el objetivo de aprendizaje trazado.   \n",
    "\n",
    "(Elabore una lista de preguntas al rededor de los conceptos que consideres necesarios para empezar la clase).  \n",
    "\n",
    "1. \n",
    "2. \n",
    "3. "
   ]
  },
  {
   "cell_type": "markdown",
   "id": "2298e976",
   "metadata": {
    "slideshow": {
     "slide_type": "slide"
    }
   },
   "source": [
    "# Para el diseño de la clase tenga en cuenta algunos problemas de aprendizaje"
   ]
  },
  {
   "cell_type": "markdown",
   "id": "2d46be3a",
   "metadata": {},
   "source": [
    "# Diseño de evaluación oral de si se alcanzaron los objetivos de aprendizaje planteados\n",
    "\n",
    "* Describa verbalmente el objetivo de aprendizaje y evidencie de forma oral si lo logró o no. "
   ]
  },
  {
   "cell_type": "markdown",
   "id": "4566108f",
   "metadata": {},
   "source": [
    "## Cuestionario para realizar labores de memorización, observación y síntesis de la información (Además de diagnóstico)\n",
    "\n",
    "1. ¿?\n",
    "2. ¿?\n",
    "3. ¿?\n",
    "4. ¿?\n",
    "5. ¿?"
   ]
  },
  {
   "cell_type": "markdown",
   "id": "7ee3abc5",
   "metadata": {},
   "source": [
    "# Vocabulary \n",
    "\n",
    "1. length: longitud\n",
    "2. width: ancho. \n",
    "\n",
    "[length, width](https://voca.ro/1of14ffdXnZI)"
   ]
  },
  {
   "cell_type": "code",
   "execution_count": 5,
   "id": "ad098f40",
   "metadata": {},
   "outputs": [],
   "source": [
    "# algoritmo para llamar a evaluación oral individual\n",
    "import pandas as pd\n",
    "import numpy as np\n",
    "\n",
    "# Cargar la lista de estudiantes desde la URL\n",
    "path = '/home/marco/Documentos/docencia/groups_list/calculo_vectorial.csv'\n",
    "estudiantes = pd.read_csv(path)\n",
    "estudiantes['Parcial'] = estudiantes['Parcial'].astype(float) \n",
    "\n",
    "# Convertir la columna 'Nombre' a una lista de Python\n",
    "lista_estudiantes = estudiantes['Nombre'].tolist()\n",
    "\n",
    "# Función para llamar a un estudiante aleatoriamente y registrar su nota de seguimiento\n",
    "def eval_oral():\n",
    "    if lista_estudiantes:\n",
    "        estudiante_aleatorio = np.random.choice(lista_estudiantes)\n",
    "        print(f\"Llamando a {estudiante_aleatorio}...\")\n",
    "        asistencia = input(f\"¿Se expresó bien y correco {estudiante_aleatorio}? (s/n): \").strip().lower()\n",
    "        \n",
    "        if asistencia == 's':\n",
    "            # Obtener el índice del estudiante en el DataFrame\n",
    "            indice = estudiantes[estudiantes['Nombre'] == estudiante_aleatorio].index[0]\n",
    "            # Incrementar su valor en la columna 'Parcial'\n",
    "            estudiantes.at[indice, 'Parcial'] += 0.1\n",
    "            print(f\"Actualizado: {estudiante_aleatorio} ahora tiene {estudiantes.at[indice, 'Parcial']} en la columna 'Parcial'.\")\n",
    "        \n",
    "        lista_estudiantes.remove(estudiante_aleatorio)\n",
    "    else:\n",
    "        print(\"Se han llamado a todos los estudiantes del grupo completo.\")\n",
    "\n",
    "# Guardar los cambios en el archivo CSV\n",
    "def guardar_cambios():\n",
    "    estudiantes.to_csv(path, index=False)\n",
    "    print(\"Cambios guardados en el archivo CSV.\")\n",
    "\n",
    "# Ejemplo de uso\n",
    "#while lista_estudiantes:\n",
    "#    eval_oral()\n",
    "#    guardar_cambios()\n",
    "\n",
    "\n"
   ]
  },
  {
   "cell_type": "markdown",
   "id": "2abc6a71",
   "metadata": {},
   "source": [
    "# 1. Evaluar las tareas realizadas de manera manúscrita\n"
   ]
  },
  {
   "cell_type": "code",
   "execution_count": null,
   "id": "e1f297cd",
   "metadata": {},
   "outputs": [],
   "source": [
    "# Tarea 1 de lectura y completación de ejemplos del texto guia \n",
    "# Consiste en la lectura y completación de un ejemplo del texto guía\n",
    "\n",
    "import pandas as pd\n",
    "import numpy as np\n",
    "import requests\n",
    "np.random.seed(1213)  # establecer semilla aleatoria para hacer los resultados reproducibles\n",
    "\n",
    "\n",
    "\n",
    "grupo_estudiantes = 'calculo_vectorial'\n",
    "nombre_texto_guia = 'Purcell'\n",
    "pagina_y_seccion = 'Página_202_Sección_3.8'\n",
    "numero_ejemplos_texto = 27\n",
    "numero_ejemplos_asignados = 10\n",
    "\n",
    "# Descargar la lista de  estudiantes\n",
    "students_path = \"/home/marco/Documentos/docencia/groups_list/\" + grupo_estudiantes + \".csv\"\n",
    "examples = list(range(1, numero_ejemplos_texto))  \n",
    "\n",
    "students_data = pd.read_csv(students_path)\n",
    "\n",
    "# Crear una lista para almacenar las asignaciones\n",
    "assignments = []\n",
    "\n",
    "# Asignar ejercicios aleatorios a cada estudiante\n",
    "for index, student in students_data.iterrows():\n",
    "    # Seleccionar 5 ejercicios aleatorios sin repetición\n",
    "    random_exercises = np.sort(np.random.choice(examples, numero_ejemplos_asignados, \\\n",
    "                                                replace = False)+ 1 )\n",
    "    assignments.append([students_data[\"Nombre\"][index], *random_exercises])  # Agregar asignación a la lista\n",
    "\n",
    "# Crear un DataFrame con las asignaciones\n",
    "columns = [\"Student\"] + [ \"Example\" + str(i+1) for i in range(numero_ejemplos_asignados)]\n",
    "assignment_df = pd.DataFrame(assignments, columns=columns)\n",
    "\n",
    "# Guardar el DataFrame en un archivo CSV\n",
    "assignment_csv = \"tarea_1_lectura_y_completacion_de_ejemplos\" + \"_\" + nombre_texto_guia + \"_\"+ pagina_y_seccion + \".csv\"\n",
    "assignment_df.to_csv(assignment_csv, index=False)\n",
    "\n",
    "print(\"Tarea 1 asignada: \", assignment_csv)\n",
    "print('''Debe transcribir el ejemplo en su cuaderno manuscrito o Jupyter y completar los procedimientos\n",
    "      Se valora su tarea solo si incluye el enunciado o planteamiento del problema de cada ejercicio, \n",
    "      Si no incluye de la conclusión verbal de cada ejercicio, entonces no se le valora la tarea.\n",
    "       Esta tarea se valora solo si la presenta de manera manuscrita en su cuaderno de clase  \n",
    "      ''')\n",
    "assignment_df"
   ]
  },
  {
   "cell_type": "code",
   "execution_count": null,
   "id": "1da17798",
   "metadata": {},
   "outputs": [],
   "source": [
    "eval_oral()\n",
    "guardar_cambios()"
   ]
  },
  {
   "cell_type": "code",
   "execution_count": null,
   "id": "30b8ec1e",
   "metadata": {},
   "outputs": [],
   "source": [
    "# Tarea 2: Asignación de ejercicio\n",
    "# Ejercicios para adquirir habilidades de solución de problemas\n",
    "\n",
    "import pandas as pd\n",
    "import numpy as np\n",
    "import requests\n",
    "np.random.seed(424)  # establecer semilla aleatoria para hacer los resultados reproducibles\n",
    "\n",
    "\n",
    "\n",
    "grupo_estudiantes = 'calculo_vectorial'\n",
    "nombre_texto_guia = 'Purcell'\n",
    "pagina_y_seccion = 'Página_202_Sección_3.8'\n",
    "numero_ejercicios_taller = 54\n",
    "numero_de_ejercicios_asignados = 10\n",
    "\n",
    "\n",
    "# Descargar la lista de  estudiantes\n",
    "students_path = \"/home/marco/Documentos/docencia/groups_list/\" + grupo_estudiantes + \".csv\"\n",
    "exercises = list(range(1, numero_ejercicios_taller))  \n",
    "\n",
    "students_data = pd.read_csv(students_path)\n",
    "\n",
    "# Crear una lista para almacenar las asignaciones\n",
    "assignments = []\n",
    "\n",
    "# Asignar ejercicios aleatorios a cada estudiante\n",
    "for index, student in students_data.iterrows():\n",
    "    # Seleccionar 5 ejercicios aleatorios sin repetición\n",
    "    random_exercises = np.sort(np.random.choice(exercises, numero_de_ejercicios_asignados, \\\n",
    "                                                replace = False)+ 1 )\n",
    "    assignments.append([students_data[\"Nombre\"][index], *random_exercises])  # Agregar asignación a la lista\n",
    "\n",
    "# Crear un DataFrame con las asignaciones\n",
    "columns = [\"Student\"] + [ \"Exer\" + str(i+1) for i in range(numero_de_ejercicios_asignados)]\n",
    "assignment_df = pd.DataFrame(assignments, columns=columns)\n",
    "\n",
    "# Guardar el DataFrame en un archivo CSV\n",
    "assignment_csv = \"tarea_2_solucion_de_problemas\" + \"_\" + nombre_texto_guia + \"_\"+ pagina_y_seccion + \".csv\"\n",
    "assignment_df.to_csv(assignment_csv, index=False)\n",
    "\n",
    "print(\"\"\"Tarea 2 Solución de problemas para adquirir la metodología: \n",
    "    Se valora su tarea solo si incluye el enunciado o planteamiento del problema de cada ejercicio, \n",
    "    Si no incluye de la conclusión verbal de cada ejercicio, entonces no se le valora la tarea.\n",
    "    Esta tarea se valora solo si la presenta de manera manuscrita en su cuaderno de clase \n",
    "      \"\"\", assignment_csv)\n",
    "assignment_df"
   ]
  },
  {
   "cell_type": "code",
   "execution_count": null,
   "id": "22b59f0b",
   "metadata": {},
   "outputs": [],
   "source": [
    "eval_oral()\n",
    "guardar_cambios()"
   ]
  },
  {
   "cell_type": "code",
   "execution_count": null,
   "id": "e647d34e",
   "metadata": {},
   "outputs": [],
   "source": [
    "# Tarea 3 para después de la clase: asignación de ejercicios de un seccion del texto guía\n",
    "\n",
    "# Tarea para adquisición de habilidades solución, descripción y justificación\n",
    "\n",
    "\n",
    "import pandas as pd\n",
    "import numpy as np\n",
    "import requests\n",
    "np.random.seed(126)  # establecer semilla aleatoria para hacer los resultados reproducibles\n",
    "\n",
    "\n",
    "\n",
    "grupo_estudiantes = 'calculo_vectorial'\n",
    "nombre_texto_guia = 'Purcell'\n",
    "pagina_y_seccion = 'Página_202_Sección_3.8'\n",
    "numero_ejercicios_taller = 54\n",
    "numero_de_ejercicios_asignados = 10\n",
    "\n",
    "\n",
    "# Descargar la lista de  estudiantes\n",
    "students_path = \"/home/marco/Documentos/docencia/groups_list/\" + grupo_estudiantes + \".csv\"\n",
    "exercises = list(range(1, numero_ejercicios_taller))  \n",
    "\n",
    "students_data = pd.read_csv(students_path)\n",
    "\n",
    "# Crear una lista para almacenar las asignaciones\n",
    "assignments = []\n",
    "\n",
    "# Asignar ejercicios aleatorios a cada estudiante\n",
    "for index, student in students_data.iterrows():\n",
    "    # Seleccionar 5 ejercicios aleatorios sin repetición\n",
    "    random_exercises = np.sort(np.random.choice(exercises, numero_de_ejercicios_asignados, \\\n",
    "                                                replace = False)+ 1 )\n",
    "    assignments.append([students_data[\"Nombre\"][index], *random_exercises])  # Agregar asignación a la lista\n",
    "\n",
    "# Crear un DataFrame con las asignaciones\n",
    "columns = [\"Student\"] + [ \"Exer\" + str(i+1) for i in range(numero_de_ejercicios_asignados)]\n",
    "assignment_df = pd.DataFrame(assignments, columns=columns)\n",
    "\n",
    "# Guardar el DataFrame en un archivo CSV\n",
    "assignment_csv = \"tarea_3_solucion_describiendo_justificando\" + \"_\" + nombre_texto_guia + \"_\"+ pagina_y_seccion + \".csv\"\n",
    "assignment_df.to_csv(assignment_csv, index=False)\n",
    "\n",
    "print(\"\"\"Tarea 3 Descripción y Justificación:\n",
    "    Se valora su tarea solo si incluye el enunciado o planteamiento del problema de cada ejercicio, \n",
    "    Si no incluye de la conclusión verbal de cada ejercicio, entonces no se le valora la tarea.\n",
    "    Esta tarea se valora solo si la presenta de manera manuscrita en su cuaderno de clase \n",
    "       \"\"\", assignment_csv)\n",
    "assignment_df"
   ]
  },
  {
   "cell_type": "code",
   "execution_count": null,
   "id": "994cc338",
   "metadata": {},
   "outputs": [],
   "source": [
    "eval_oral()\n",
    "guardar_cambios() "
   ]
  },
  {
   "cell_type": "markdown",
   "id": "9377611e",
   "metadata": {},
   "source": [
    "\n",
    "# 3. Evaluar con un quiz escrito\n"
   ]
  },
  {
   "cell_type": "code",
   "execution_count": null,
   "id": "2fcbc55d",
   "metadata": {},
   "outputs": [],
   "source": [
    "# definición de los parámetros personalizados para el quiz\n",
    "import numpy as np \n",
    "import pandas as pd \n",
    "\n",
    "url = 'https://raw.githubusercontent.com/marco-canas/groups_list/main/calculo_vectorial.csv'\n",
    "\n",
    "df = pd.read_csv(url)\n",
    "#df.head()\n",
    "#df.info()\n",
    "df['Cedula'] = df.Cedula.astype(str)\n",
    "#type(df.Cédula[0])\n",
    "# tomar los seis primeros o los seis ultimos dígitos \n",
    "# para fomentar el trabajo concentrado en las pruebas escribas\n",
    "\n",
    "seleccionar_primeros_seis_digitos_o_los_ultimos = True\n",
    "\n",
    "indice_asociado_al_estudiante = 0\n",
    "\n",
    "if seleccionar_primeros_seis_digitos_o_los_ultimos:\n",
    "    seis_digitos_documento_identidad = df.Cedula.iloc[indice_asociado_al_estudiante][:6]\n",
    "else:\n",
    "    seis_digitos_documento_identidad = df.Cedula.iloc[indice_asociado_al_estudiante][-6:]    \n",
    "df.Cedula.iloc[indice_asociado_al_estudiante], seis_digitos_documento_identidad\n",
    "  \n",
    "\n"
   ]
  },
  {
   "cell_type": "code",
   "execution_count": null,
   "id": "abd0c6cd",
   "metadata": {},
   "outputs": [],
   "source": [
    "eval_oral()\n",
    "guardar_cambios() "
   ]
  },
  {
   "cell_type": "code",
   "execution_count": null,
   "id": "365c4a8a",
   "metadata": {},
   "outputs": [],
   "source": [
    "# Quiz escrito: \n",
    "\n",
    "\n",
    "\n",
    "import pandas as pd\n",
    "import numpy as np\n",
    "import requests\n",
    "np.random.seed(1213)  # establecer semilla aleatoria para hacer los resultados reproducibles\n",
    "\n",
    "\n",
    "\n",
    "grupo_estudiantes = 'calculo_vectorial'\n",
    "nombre_texto_guia = 'Purcell'\n",
    "pagina_y_seccion = 'Página_202_Sección_5_2 y 5_4'\n",
    "numero_ejercicios_taller = 54\n",
    "numero_de_ejercicios_asignados = 3\n",
    "\n",
    "\n",
    "# Asignar ejercicios aleatorios a cada estudiante\n",
    "\n",
    "random_exercises = np.sort(np.random.choice(numero_ejercicios_taller, \\\n",
    "                                    numero_de_ejercicios_asignados, \\\n",
    "                                        replace = False)+1) \n",
    "random_exercises    \n"
   ]
  },
  {
   "cell_type": "markdown",
   "id": "af3c0708",
   "metadata": {},
   "source": [
    "# 4. Evaluar con un parcial escrito.\n"
   ]
  },
  {
   "cell_type": "code",
   "execution_count": null,
   "id": "7f26d672",
   "metadata": {},
   "outputs": [],
   "source": [
    "# definición de los parámetros personalizados para el parcial\n",
    "import numpy as np \n",
    "import pandas as pd \n",
    "\n",
    "url = 'https://raw.githubusercontent.com/marco-canas/groups_list/main/calculo_vectorial.csv'\n",
    "\n",
    "df = pd.read_csv(url)\n",
    "#df.head()\n",
    "#df.info()\n",
    "df['Cedula'] = df.Cedula.astype(str)\n",
    "#type(df.Cédula[0])\n",
    "# tomar los seis primeros o los seis ultimos dígitos \n",
    "# para fomentar el trabajo concentrado en las pruebas escribas\n",
    "\n",
    "seleccionar_primeros_seis_digitos_o_los_ultimos = True\n",
    "\n",
    "indice_asociado_al_estudiante = 0\n",
    "\n",
    "if seleccionar_primeros_seis_digitos_o_los_ultimos:\n",
    "    seis_digitos_documento_identidad = df.Cedula.iloc[indice_asociado_al_estudiante][:6]\n",
    "else:\n",
    "    seis_digitos_documento_identidad = df.Cedula.iloc[indice_asociado_al_estudiante][-6:]    \n",
    "df.Cedula.iloc[indice_asociado_al_estudiante], seis_digitos_documento_identidad"
   ]
  },
  {
   "cell_type": "code",
   "execution_count": null,
   "id": "0df5ca5e",
   "metadata": {},
   "outputs": [],
   "source": [
    "# Parcial escrito: \n",
    "\n",
    "\n",
    "\n",
    "import pandas as pd\n",
    "import numpy as np\n",
    "import requests\n",
    "np.random.seed(1213)  # establecer semilla aleatoria para hacer los resultados reproducibles\n",
    "\n",
    "\n",
    "\n",
    "grupo_estudiantes = 'calculo_integral'\n",
    "nombre_texto_guia = 'Purcell'\n",
    "pagina_y_seccion = 'Página_202_Sección_3.8'\n",
    "numero_ejercicios_taller = 54\n",
    "numero_de_ejercicios_asignados = 5\n",
    "\n",
    "\n",
    "# Asignar ejercicios aleatorios a cada estudiante\n",
    "\n",
    "random_exercises = np.sort(np.random.choice(numero_ejercicios_taller, \\\n",
    "                                    numero_de_ejercicios_asignados, replace = False)+1) \n",
    "random_exercises    "
   ]
  },
  {
   "cell_type": "code",
   "execution_count": null,
   "id": "0d6c42ea",
   "metadata": {},
   "outputs": [],
   "source": [
    "eval_oral()\n",
    "guardar_cambios() "
   ]
  },
  {
   "cell_type": "markdown",
   "id": "03a68263",
   "metadata": {},
   "source": [
    "# Parcial aplicado el 30 de septiembre de 2024\n",
    "\n",
    "Todo el parcial lo debe resolver utilizando los parámetros $r,h$ que sin los dos últimos dígitos no nulos de su cédula. \n",
    " "
   ]
  },
  {
   "cell_type": "markdown",
   "id": "20bf9c08",
   "metadata": {},
   "source": [
    "## Punto 1 Volumen de un sólido de revolución  \n",
    "\n",
    "Determine el volumen del sólido de revolución generado al hacer girar en torno al eje $x$, la región acotada por $y = rx$ y $y = hx^{2}$"
   ]
  },
  {
   "cell_type": "code",
   "execution_count": 15,
   "id": "145d638e",
   "metadata": {},
   "outputs": [
    {
     "name": "stdout",
     "output_type": "stream",
     "text": [
      "0  y  2/3\n"
     ]
    }
   ],
   "source": [
    "# Determinemos los puntos de intersección de las funciones con sympy\n",
    "from sympy import *  \n",
    "x = var('x') \n",
    "r,h = 2,3\n",
    "funcion_lineal = r*x\n",
    "funcion_cuadratica = h*x**2  \n",
    "abscisas_de_los_puntos_de_interseccion = solve(Eq(funcion_lineal, funcion_cuadratica), x) \n",
    "print(abscisas_de_los_puntos_de_interseccion[0],' y ', abscisas_de_los_puntos_de_interseccion[1]) \n",
    " "
   ]
  },
  {
   "cell_type": "code",
   "execution_count": null,
   "id": "7f191b7e",
   "metadata": {},
   "outputs": [],
   "source": [
    "# Visualización de la región con matplotlib \n",
    "import numpy as np \n",
    "import matplotlib.pyplot as plt \n",
    "\n",
    "r,h = 2,3  \n",
    "\n",
    "# create two subplots with the shared x and y axes\n",
    "fig, (ax1, ax2) = plt.subplots(1, 2, sharex=True, sharey=True)\n",
    "paso = 1\n",
    "\n",
    "dominio_comun = np.arange(0,h+paso, paso)\n",
    "\n",
    "def funcion_lineal(x):\n",
    "    return (r/h)*x\n",
    "\n",
    "def funcion_constante(x):\n",
    "    return r*np.ones_like(x)\n",
    "\n",
    "ax1.plot(, lw=2)\n",
    "ax2.fill_between(, alpha=0.7)\n",
    "\n",
    "for ax in ax1, ax2:\n",
    "    ax.grid(True)\n",
    "    ax.label_outer()\n",
    "\n",
    "ax1.set_ylabel('x')\n",
    "\n",
    "fig.suptitle('Regiones que general cono y cilindro')\n",
    "fig.autofmt_xdate()\n"
   ]
  },
  {
   "cell_type": "markdown",
   "id": "b61d8662",
   "metadata": {},
   "source": [
    "# Punto 2 Sobre la pregunta: ¿Cuántas veces cabe el cono en un cilindro, los cuales coinciden en radio y altura?\n",
    "\n"
   ]
  },
  {
   "cell_type": "code",
   "execution_count": 11,
   "id": "3a8f05e0",
   "metadata": {},
   "outputs": [
    {
     "data": {
      "text/plain": [
       "Text(0.5, 0.98, 'Cono y Cilindro')"
      ]
     },
     "execution_count": 11,
     "metadata": {},
     "output_type": "execute_result"
    },
    {
     "data": {
      "image/png": "[encoded data removed]",
      "text/plain": [
       "<Figure size 600x400 with 2 Axes>"
      ]
     },
     "metadata": {},
     "output_type": "display_data"
    }
   ],
   "source": [
    "# grafica de la región triangular y la región rectangular \n",
    "import numpy as np \n",
    "import matplotlib.pyplot as plt  \n",
    "\n",
    "r,h = 2,3\n",
    "\n",
    "import matplotlib.pyplot as plt\n",
    "\n",
    "def funcion_genera_cono(x):\n",
    "    return (r/h)*x\n",
    "\n",
    "def funcion_genera_cilindro(x):\n",
    "    return r*np.ones_like(x)\n",
    "\n",
    "\n",
    "dominio_comun = np.arange(-1, h+1)\n",
    "rango_cono = funcion_genera_cono(dominio_comun)\n",
    "rango_cilindro = funcion_genera_cilindro(dominio_comun)\n",
    "\n",
    "\n",
    "fig, axs = plt.subplots(1, 2, figsize=(6, 4), sharey=True)\n",
    "axs[0].plot(dominio_comun, rango_cono)\n",
    "axs[0].grid()\n",
    "axs[1].plot(dominio_comun, rango_cilindro)\n",
    "axs[1].grid() \n",
    "\n",
    "fig.suptitle('Cono y Cilindro')\n"
   ]
  },
  {
   "cell_type": "markdown",
   "id": "c0deaaa3",
   "metadata": {},
   "source": [
    "# Punto 3   \n",
    "\n",
    "Plantee la integral que represente el perímetro de una circunferencia de radio $r$ usando la función semicircunferencia $y = \\sqrt{r^{2} - x^{2}}$ y luego evalue la integral usando sympy para comparar finalmente el resultado con el perímetro de esta circunferencia calculado con $Lc = 2\\pi r$. \n",
    "\n",
    "Luego, evalúe la integral utilizando calculadora Casio. "
   ]
  },
  {
   "cell_type": "code",
   "execution_count": 7,
   "id": "b135cec0",
   "metadata": {},
   "outputs": [
    {
     "data": {
      "image/png": "[encoded data removed]",
      "text/plain": [
       "<Figure size 600x400 with 1 Axes>"
      ]
     },
     "metadata": {},
     "output_type": "display_data"
    }
   ],
   "source": [
    "# Empecemos graficando la función semicircunferencia  \n",
    "import numpy as np \n",
    "import matplotlib.pyplot as plt     \n",
    "\n",
    "r,h = 5,5  \n",
    "paso = 0.01\n",
    "X = np.arange(start = -r, stop = r+paso, step = paso) # construye rangos aritméticos \n",
    "y = lambda x: np.sqrt(r**2 - x**2)\n",
    "Y = y(X)\n",
    "# Graficar según el algoritmo\n",
    "plt.figure(figsize = (6,4))\n",
    "plt.title(f'Semicircunferencia superior de radio {r} centrada en el origen')\n",
    "plt.axis('equal')\n",
    "plt.grid(alpha = 0.3)\n",
    "plt.plot(X, Y, color = 'red', label = r'$y = f(x) = \\sqrt{25 - x^{2}}$') # graficar o trazar la semicircunferencia\n",
    "plt.legend()  # indicar el significado de la curva o aqué función corresponde \n",
    "plt.xticks(np.arange(-r,r+1)) \n",
    "\n",
    "\n",
    "plt.savefig('semicircunferencia.jpg')"
   ]
  },
  {
   "cell_type": "code",
   "execution_count": 10,
   "id": "d777c919",
   "metadata": {},
   "outputs": [
    {
     "data": {
      "text/latex": [
       "$\\displaystyle 10 \\pi$"
      ],
      "text/plain": [
       "10*pi"
      ]
     },
     "execution_count": 10,
     "metadata": {},
     "output_type": "execute_result"
    }
   ],
   "source": [
    "# planteamiento de la integral que representa la longitud de la circunfarencia usando sympy  \n",
    "from sympy import * \n",
    "x = var('x') \n",
    "r = 5\n",
    "funcion_semicircunfarencia = sqrt(r**2 - x**2)\n",
    "\n",
    "longitud_semicircunferencia = integrate(sqrt(1 + (diff(funcion_semicircunfarencia, x))**2), (x, -r, r))\n",
    "\n",
    "longitud_de_toda_la_circunferencia = 2*longitud_semicircunferencia\n",
    "\n",
    "longitud_de_toda_la_circunferencia\n"
   ]
  },
  {
   "cell_type": "code",
   "execution_count": 12,
   "id": "5a6e0bf2",
   "metadata": {},
   "outputs": [
    {
     "data": {
      "text/plain": [
       "True"
      ]
     },
     "execution_count": 12,
     "metadata": {},
     "output_type": "execute_result"
    }
   ],
   "source": [
    "longitud_de_toda_la_circunferencia==2*pi*r"
   ]
  },
  {
   "cell_type": "code",
   "execution_count": 13,
   "id": "ba930557",
   "metadata": {},
   "outputs": [
    {
     "data": {
      "text/latex": [
       "$\\displaystyle 10 \\pi$"
      ],
      "text/plain": [
       "10*pi"
      ]
     },
     "execution_count": 13,
     "metadata": {},
     "output_type": "execute_result"
    }
   ],
   "source": [
    "Perimetro_circunferencia = 2*integrate(sqrt(1 + (diff(funcion_semicircunfarencia, x))**2), (x, -r, r))\n",
    "Perimetro_circunferencia"
   ]
  },
  {
   "cell_type": "markdown",
   "id": "fbbb82d6",
   "metadata": {},
   "source": [
    "[Video de apoyo para este tercer punto del parcial]()"
   ]
  },
  {
   "cell_type": "markdown",
   "id": "6fd4201f",
   "metadata": {},
   "source": [
    "# Punto 4    \n",
    "\n",
    "Determine el perímetro de una circunferencia de radio $r$ utilizando las ecuaciones paramétricas: \n",
    "\n",
    "\\begin{align*}\n",
    "x & = r\\sin(t) \\\\\n",
    "y & = r\\cos(t) \n",
    "\\end{align*}\n",
    "\n",
    "para $0 \\leq t \\leq 2\\pi$.  \n",
    "\n",
    "Explique cual es una utilidad para la física, de las ecuaciones paramétricas.. \n",
    "\n",
    "\n"
   ]
  },
  {
   "cell_type": "code",
   "execution_count": 2,
   "id": "f2e3c2c7",
   "metadata": {},
   "outputs": [
    {
     "data": {
      "application/vnd.jupyter.widget-view+json": {
       "model_id": "c20358a58509420fb58a1769ca5f649d",
       "version_major": 2,
       "version_minor": 0
      },
      "text/plain": [
       "interactive(children=(FloatSlider(value=0.0, description='t', max=6.383185307179586), Output()), _dom_classes=…"
      ]
     },
     "metadata": {},
     "output_type": "display_data"
    },
    {
     "data": {
      "text/plain": [
       "<function __main__.trazar_trayectoria_circular(t=0)>"
      ]
     },
     "execution_count": 2,
     "metadata": {},
     "output_type": "execute_result"
    }
   ],
   "source": [
    "# animación de trayectoria circular de una partícula.\n",
    "import numpy as np \n",
    "import matplotlib.pyplot as plt \n",
    "from ipywidgets import interact \n",
    "\n",
    "def trazar_trayectoria_circular(t = 0):\n",
    "    plt.figure(figsize = (6,4))\n",
    "    plt.title('Trayectoria circular de una partícula descrita a partir de ecuaciones paramétricas')\n",
    "    plt.xlabel('x') # indicar las variables a comparar o relacionar.\n",
    "    plt.ylabel('y')\n",
    "    \n",
    "paso = 0.1    \n",
    "interact(trazar_trayectoria_circular, t = (0,2*np.pi + paso, paso))    \n"
   ]
  },
  {
   "cell_type": "markdown",
   "id": "74c05093",
   "metadata": {},
   "source": [
    "# Punto 5   \n",
    "\n",
    "Redacte el algoritmo para graficar, a mano, una función\n"
   ]
  },
  {
   "cell_type": "markdown",
   "id": "4ba595ab",
   "metadata": {},
   "source": [
    "1. Importar la librería de cálculo numérico asociada a python llamada numpy  \n",
    "2. Importar la librería de visualización asociada a python llamada matplotlib. \n",
    "3. crear la figura con la función plt.figure() y definir su tamaño con el parámetro figsize.\n",
    "4. Definir el título del gráfico que describa lo que este pretende mostrar.   "
   ]
  },
  {
   "cell_type": "code",
   "execution_count": null,
   "id": "eb88950f",
   "metadata": {},
   "outputs": [],
   "source": [
    "# implementación con matplotlib del algoritmo\n",
    "import numpy as np \n",
    "import matplotlib.pyplot as plt\n",
    "plt.figure(figsize = (6,4))\n",
    " "
   ]
  },
  {
   "cell_type": "markdown",
   "id": "8295d7a0",
   "metadata": {},
   "source": [
    "# 5. Evaluación oral\n",
    "## 5. Evaluar la capacidad de describir un problema y su solución de manera oral. \n",
    "\n",
    "1. Evaluaremos la capacidad de describir cada uno de los pasos o fases para resolver un problema (Es decir, se pedirá al estudiante que describa la metodología de solución de un problema dado). "
   ]
  },
  {
   "cell_type": "code",
   "execution_count": null,
   "id": "c48ebcd1",
   "metadata": {},
   "outputs": [],
   "source": [
    "# algoritmo para llamar a evaluación oral individual\n",
    "import pandas as pd\n",
    "import numpy as np\n",
    "\n",
    "# Cargar la lista de estudiantes desde la URL\n",
    "path = '/home/marco/Documentos/docencia/groups_list/calculo_vectorial.csv'\n",
    "estudiantes = pd.read_csv(path)\n",
    "estudiantes['Parcial'] = estudiantes['Parcial'].astype(float) \n",
    "\n",
    "# Convertir la columna 'Nombre' a una lista de Python\n",
    "lista_estudiantes = estudiantes['Nombre'].tolist()\n",
    "\n",
    "# Función para llamar a un estudiante aleatoriamente y registrar su nota de seguimiento\n",
    "def eval_oral():\n",
    "    if lista_estudiantes:\n",
    "        estudiante_aleatorio = np.random.choice(lista_estudiantes)\n",
    "        print(f\"Llamando a {estudiante_aleatorio}...\")\n",
    "        asistencia = input(f\"¿Se expresó bien y correco {estudiante_aleatorio}? (s/n): \").strip().lower()\n",
    "        \n",
    "        if asistencia == 's':\n",
    "            # Obtener el índice del estudiante en el DataFrame\n",
    "            indice = estudiantes[estudiantes['Nombre'] == estudiante_aleatorio].index[0]\n",
    "            # Incrementar su valor en la columna 'Parcial'\n",
    "            estudiantes.at[indice, 'Parcial'] += 0.1\n",
    "            print(f\"Actualizado: {estudiante_aleatorio} ahora tiene {estudiantes.at[indice, 'Parcial']} en la columna 'Parcial'.\")\n",
    "        \n",
    "        lista_estudiantes.remove(estudiante_aleatorio)\n",
    "    else:\n",
    "        print(\"Se han llamado a todos los estudiantes del grupo completo.\")\n",
    "\n",
    "# Guardar los cambios en el archivo CSV\n",
    "def guardar_cambios():\n",
    "    estudiantes.to_csv(path, index=False)\n",
    "    print(\"Cambios guardados en el archivo CSV.\")\n",
    "\n",
    "# Ejemplo de uso\n",
    "while lista_estudiantes:\n",
    "    eval_oral()\n",
    "    guardar_cambios()\n",
    "\n",
    "\n"
   ]
  },
  {
   "cell_type": "markdown",
   "id": "318cb03f-8c7c-48e6-95a7-7c6b2044b603",
   "metadata": {},
   "source": [
    "# Autoevaluación "
   ]
  },
  {
   "cell_type": "code",
   "execution_count": null,
   "id": "6ace95c0-9ecc-487b-9cbe-c2974dbcf6f5",
   "metadata": {
    "slideshow": {
     "slide_type": "slide"
    }
   },
   "outputs": [],
   "source": [
    "import csv\n",
    "\n",
    "def recolectar_datos_autoavaluacion():\n",
    "    # Definir el nombre del archivo CSV\n",
    "    nombre_archivo = 'autoevaluacion_estudiantes.csv'\n",
    "    \n",
    "    # Definir los encabezados para el archivo CSV\n",
    "    encabezados = ['Nombre', 'Fortalezas', 'Áreas de Mejora']\n",
    "    \n",
    "    # Solicitar los datos del estudiante\n",
    "    nombre = input(\"Ingrese su nombre: \")\n",
    "    fortalezas = input(\"Describa sus fortalezas: \")\n",
    "    areas_mejora = input(\"Describa las áreas en las que necesita mejorar: \")\n",
    "    \n",
    "    # Crear una lista con los datos del estudiante\n",
    "    datos = [nombre, fortalezas, areas_mejora]\n",
    "    \n",
    "    # Abrir el archivo CSV para agregar los datos\n",
    "    with open(nombre_archivo, mode='a', newline='') as archivo_csv:\n",
    "        escritor_csv = csv.writer(archivo_csv)\n",
    "        \n",
    "        # Verificar si el archivo está vacío para escribir los encabezados\n",
    "        archivo_csv.seek(0, 2)  # Mover el cursor al final del archivo\n",
    "        if archivo_csv.tell() == 0:  # Verificar si el archivo está vacío\n",
    "            escritor_csv.writerow(encabezados)\n",
    "        \n",
    "        # Escribir los datos en el archivo CSV\n",
    "        escritor_csv.writerow(datos)\n",
    "    \n",
    "    print(\"La autoevaluación se ha guardado correctamente.\")\n",
    "\n",
    "# Ejecutar la función para recolectar datos\n",
    "recolectar_datos_autoavaluacion()\n"
   ]
  },
  {
   "cell_type": "markdown",
   "id": "fb9402bb",
   "metadata": {
    "slideshow": {
     "slide_type": "slide"
    }
   },
   "source": [
    "## Estrategias propuestas para la solución de las dificultades de aprendizaje detectadas"
   ]
  },
  {
   "cell_type": "markdown",
   "id": "2dd3bd5c",
   "metadata": {
    "slideshow": {
     "slide_type": "slide"
    }
   },
   "source": []
  },
  {
   "cell_type": "markdown",
   "id": "c6236d5d",
   "metadata": {},
   "source": [
    "# FODA del grupo y del profesor  \n",
    "\n",
    "* F: Fortalezas\n",
    "* O: Oportunidades\n",
    "* D: Dificultades\n",
    "* A: Amenazas."
   ]
  },
  {
   "cell_type": "markdown",
   "id": "b48f9542",
   "metadata": {},
   "source": [
    "## ¿Cómo se sintió en este espacio de enseñanza y aprendizaje?\n",
    "\n",
    "!Dios te bendiga¡"
   ]
  },
  {
   "cell_type": "markdown",
   "id": "10bce0d0",
   "metadata": {
    "slideshow": {
     "slide_type": "slide"
    }
   },
   "source": [
    "## Referentes "
   ]
  },
  {
   "cell_type": "markdown",
   "id": "1db3c468",
   "metadata": {
    "slideshow": {
     "slide_type": "slide"
    }
   },
   "source": [
    "* [Grajales Vanegas, L. M., Restrepo Estrada, C. E., Restrepo Ochoa, S. I., & Ruíz De Villalba, F. (2015). Matemáticas I para las ciencias económicas.](https://github.com/marco-canas/fundamentos_de_la_aritmetica/blob/main/referentes/2_grajales_logica/grajales_lina_matemticas.pdf)\n",
    "  \n",
    "* Duval, R. (2004). Semiosis y pensamiento humano: registros semióticos y aprendizajes intelectuales. Universidad del Valle.\n",
    "\n",
    "* [Aylwin, C. U. (2011). Lógica, conjuntos y números. Universidad de los Andes, Consejo de Publicaciones, Colección: Ciencias Básicas, Serie: Matemáticas.](https://github.com/marco-canas/fundamentos_logica/blob/main/referentes/2_uzcategui/uscategui.pdf)\n",
    "  \n",
    "* [Chollet, F. (2021). Deep learning with Python. Simon and Schuster.](https://github.com/marco-canas/didactica_ciencia_datos/blob/main/2_referentes/chollet/Fran%C3%A7ois%20Chollet%20-%20Deep%20Learning%20with%20Python-Manning%20(2018).pdf)  \n",
    "  \n",
    "* [Watson, S., Stewart, J., & Redlin, L. (2009). Precálculo. Matemáticas para el cálculo.](https://github.com/marco-canas/calculo/blob/main/referents/1_precalculo_stewart/stewart_precalculo.pdf)  \n",
    "\n",
    "* [Purcell, E. J., Varberg, D., & Rigdon, S. E. (2007). Cálculo diferencial e integral. Pearson Educación.](https://github.com/marco-canas/calculo/blob/main/referents/purcell/purcell_calculo.pdf)\n",
    "\n",
    "  \n",
    "\n",
    "* [stewart cálculo](https://udeaeduco-my.sharepoint.com/:b:/g/personal/marco_canas_udea_edu_co/EZgXZjAp8QxPqOAim2hs6LcBNPLGjSHf-xwYnUVYkwa04w?e=RZdTCy)  \n",
    "\n",
    "* [larson](https://udeaeduco-my.sharepoint.com/:b:/g/personal/marco_canas_udea_edu_co/ES71ChFeO9ZDhW3TwC5Ijk8BjxUK3Pdqz_fjHxTTFAfIAg?e=VDEjfu)\n",
    "\n",
    "\n",
    "\n",
    "* [Recomendación de la UNESCO sobre ciencia abierta](https://unesdoc.unesco.org/ark:/48223/pf0000379949_spa)\n",
    "\n",
    "* [chatGPT](https://openai.com/blog/chatgpt)  \n",
    "\n",
    "* [Géron, A. (2017). Hands-on machine learning with scikit-learn and tensorflow: Concepts. Tools, and Techniques to build intelligent systems.](https://github.com/marco-canas/didactica_ciencia_datos/blob/main/2_referentes/geron/Hands-On%20Machine%20Learning-3nd_Edition(2022).pdf)  \n",
    "\n",
    "* [McKinney, W. (2012). Python for data analysis: Data wrangling with Pandas, NumPy, and IPython. \" O'Reilly Media, Inc.\".](https://github.com/marco-canas/didactica_ciencia_datos/blob/main/2_referentes/mckinney/Wes_McKinney.pdf)  "
   ]
  },
  {
   "cell_type": "markdown",
   "id": "6b9e56a8",
   "metadata": {
    "slideshow": {
     "slide_type": "slide"
    }
   },
   "source": [
    "### [Evaluamos al profesor Marco Cañas Aquí](https://forms.office.com/Pages/ResponsePage.aspx?id=IefhmYRxjkmK_7KtTlPBwkanXIs1i1FEujpsZgO6dXpUREJPV1kxUk1JV1ozTFJIQVNIQjY5WEY3US4u)"
   ]
  },
  {
   "cell_type": "markdown",
   "id": "071afa04",
   "metadata": {
    "slideshow": {
     "slide_type": "slide"
    }
   },
   "source": [
    "## [Evaluación luego de alcanzar estos objetivos de aprendizaje]()"
   ]
  },
  {
   "cell_type": "markdown",
   "id": "a5d05e05",
   "metadata": {},
   "source": [
    "# Cómo inspirar a mis estudiantes hacia el amor a los habitos disciplinados de lectura y a amar el enfrentarse a los errores \n",
    "\n",
    "Fomentar una cultura de hábitos de estudio en cálculo integral y vectorial, así como en fundamentos de la lógica, implica crear un ambiente donde los estudiantes se sientan motivados y apoyados en su proceso de aprendizaje. Aquí hay algunas estrategias que pueden ayudar:\n",
    "\n",
    "### 1. **Establecer un Ambiente Positivo**\n",
    "   - **Celebrar Errores:** Recalca que los errores son oportunidades de aprendizaje. Crea un espacio seguro donde los estudiantes puedan compartir sus errores sin temor al juicio.\n",
    "   - **Reconocer Progresos:** Celebra pequeños logros y avances para motivar a los estudiantes y hacer que se sientan orgullosos de sus esfuerzos.\n",
    "\n",
    "### 2. **Promover la Curiosidad**\n",
    "   - **Conectar con la Realidad:** Muestra cómo los conceptos de cálculo y lógica se aplican en la vida real. Usa ejemplos de la física, la ingeniería, o la informática para que los estudiantes vean la relevancia de lo que están aprendiendo.\n",
    "   - **Plantear Preguntas Desafiantes:** Anima a los estudiantes a hacer preguntas y a explorar temas más allá del contenido del curso, fomentando la curiosidad natural.\n",
    "\n",
    "### 3. **Metodologías Activas**\n",
    "   - **Aprendizaje Colaborativo:** Fomenta el trabajo en grupo donde los estudiantes puedan resolver problemas juntos. Esto no solo enriquece su comprensión, sino que también les permite aprender de sus compañeros.\n",
    "   - **Proyectos Prácticos:** Asigna proyectos que requieran aplicar los conceptos de cálculo y lógica. Esto puede incluir simulaciones, análisis de datos o incluso programación.\n",
    "\n",
    "### 4. **Estrategias de Estudio**\n",
    "   - **Técnicas de Estudio Efectivas:** Enseña técnicas de estudio como el uso de mapas mentales, resúmenes y práctica deliberada. Las sesiones de repaso también pueden ser muy efectivas.\n",
    "   - **Organización del Tiempo:** Anima a los estudiantes a planificar su tiempo de estudio. Un calendario de revisión o sesiones regulares puede ayudarles a mantenerse al día.\n",
    "\n",
    "### 5. **Incorporar la Tecnología**\n",
    "   - **Herramientas Interactivas:** Utiliza software y aplicaciones que faciliten la visualización de conceptos, como gráficos 3D para cálculo vectorial o plataformas de lógica interactiva.\n",
    "   - **Recursos en Línea:** Recomienda videos, cursos y foros en línea donde puedan explorar los temas a su propio ritmo.\n",
    "\n",
    "### 6. **Cultivar una Mentalidad de Crecimiento**\n",
    "   - **Fomentar la Resiliencia:** Habla sobre la importancia de la perseverancia y cómo enfrentar desafíos puede llevar al crecimiento personal y académico.\n",
    "   - **Ejemplos de Éxito:** Comparte historias de matemáticos y lógicos que enfrentaron dificultades y cómo lograron superarlas.\n",
    "\n",
    "### 7. **Feedback Constructivo**\n",
    "   - **Retroalimentación Regular:** Proporciona comentarios constructivos y específicos sobre su trabajo. Esto les ayudará a entender dónde pueden mejorar y a apreciar el proceso de aprendizaje.\n",
    "\n",
    "### 8. **Involucrar a las Familias**\n",
    "   - **Comunicación con Padres:** Mantén a los padres informados sobre cómo pueden apoyar a sus hijos en casa, creando un entorno propicio para el estudio.\n",
    "\n",
    "Implementar estas estrategias puede no solo mejorar los hábitos de estudio de los estudiantes, sino también inspirar un amor genuino por el aprendizaje, ayudándoles a enfrentar las dificultades con una actitud positiva."
   ]
  },
  {
   "cell_type": "markdown",
   "id": "10f43536",
   "metadata": {
    "slideshow": {
     "slide_type": "slide"
    }
   },
   "source": [
    "### Continue su aprendizaje en la siguiente clase a través del siguiente [vínculo]()"
   ]
  },
  {
   "cell_type": "markdown",
   "id": "af751e30",
   "metadata": {
    "slideshow": {
     "slide_type": "slide"
    }
   },
   "source": [
    "# Conjeturas pedagógicas fruto de la aplicación del modelo de aprendizaje invertido y del enfoque hacia la ciencia de datos con python\n",
    "\n",
    "1. Todo cálculo o resultado debe ser interpretado en una línea markdown del cuaderno Jupyter, inmediatamente después de la enunciación del resultado y después de la presentación de una tabla o gráfico bidimensional, de tal menera que el estudiante explicite la comprensión verbal del resultado y las inferencias o estrategias que este resultado le sugieren.   "
   ]
  }
 ],
 "metadata": {
  "celltoolbar": "Slideshow",
  "kernelspec": {
   "display_name": "Python 3 (ipykernel)",
   "language": "python",
   "name": "python3"
  },
  "language_info": {
   "codemirror_mode": {
    "name": "ipython",
    "version": 3
   },
   "file_extension": ".py",
   "mimetype": "text/x-python",
   "name": "python",
   "nbconvert_exporter": "python",
   "pygments_lexer": "ipython3",
   "version": "3.12.4"
  },
  "rise": {
   "enable_chalkboard": true,
   "theme": "sky",
   "transition": "zoom"
  }
 },
 "nbformat": 4,
 "nbformat_minor": 5
}
