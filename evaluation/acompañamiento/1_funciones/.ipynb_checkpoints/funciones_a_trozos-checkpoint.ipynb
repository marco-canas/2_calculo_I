{
 "cells": [
  {
   "cell_type": "markdown",
   "id": "7d745337",
   "metadata": {
    "slideshow": {
     "slide_type": "slide"
    }
   },
   "source": [
    "\n",
    "<table align=\"left\">\n",
    "  <td>\n",
    "    <a href=\"https://colab.research.google.com/github/marco-canas/calculo_I/blob/main/banco_ejemplos/1_funciones/funciones_a_trozos.ipynb\" target=\"_parent\"><img src=\"https://colab.research.google.com/assets/colab-badge.svg\" alt=\"Open In Colab\"/></a>\n",
    "  </td>\n",
    "  <td>\n",
    "    <a target=\"_blank\" href=\"https://kaggle.com/kernels/welcome?src=https://github.com/marco-canas/calculo_I/blob/main/banco_ejemplos/1_funciones/funciones_a_trozos.ipynb\"><img src=\"https://kaggle.com/static/images/open-in-kaggle.svg\" /></a>\n",
    "  </td>\n",
    "</table>\n"
   ]
  },
  {
   "cell_type": "markdown",
   "id": "b18065b8",
   "metadata": {
    "slideshow": {
     "slide_type": "slide"
    }
   },
   "source": [
    "# Funciones definidas a trozos: Evaluación, dominio y rango"
   ]
  },
  {
   "cell_type": "markdown",
   "id": "6aee2741",
   "metadata": {
    "slideshow": {
     "slide_type": "slide"
    }
   },
   "source": [
    "## [Video de apoyo](https://www.youtube.com/watch?v=jIDpSvkg5ng)"
   ]
  },
  {
   "cell_type": "markdown",
   "id": "28e22b8d",
   "metadata": {
    "slideshow": {
     "slide_type": "slide"
    }
   },
   "source": [
    "## Ejercicio 29 "
   ]
  },
  {
   "cell_type": "markdown",
   "id": "0b770f98",
   "metadata": {
    "slideshow": {
     "slide_type": "slide"
    }
   },
   "source": [
    "* Evaluar la función como se indica. \n",
    "* Determinar su dominio y su recorrido o rango"
   ]
  },
  {
   "cell_type": "markdown",
   "id": "94f4a248",
   "metadata": {
    "slideshow": {
     "slide_type": "slide"
    }
   },
   "source": [
    "$$ f(x) = \\begin{cases} |x| + 1 & x < 1 \\\\ -x + 1 & x \\geq 1  \\end{cases} $$"
   ]
  },
  {
   "cell_type": "markdown",
   "id": "4bf11d26",
   "metadata": {
    "slideshow": {
     "slide_type": "slide"
    }
   },
   "source": [
    "a) $f(-3)$  \n",
    "b) $f(1)$  \n",
    "c) $f(3)$  \n",
    "d) $f(b^{2} + 1)$"
   ]
  },
  {
   "cell_type": "markdown",
   "id": "dedaaaf4",
   "metadata": {
    "slideshow": {
     "slide_type": "slide"
    }
   },
   "source": [
    "## Solución: "
   ]
  },
  {
   "cell_type": "markdown",
   "id": "57a91754",
   "metadata": {
    "slideshow": {
     "slide_type": "slide"
    }
   },
   "source": [
    "Empecemos calculando $f(-3)$, es decir, determinemos el valor de $f$ en $x = -3$. "
   ]
  },
  {
   "cell_type": "code",
   "execution_count": 66,
   "id": "933abb30",
   "metadata": {
    "slideshow": {
     "slide_type": "slide"
    }
   },
   "outputs": [],
   "source": [
    "from sympy import *\n",
    "x,f = symbols('x,f')\n",
    "b = symbols('b', real = True)\n",
    "\n",
    "def f(x):\n",
    "    if x < 1:\n",
    "        f = abs(x) + 1\n",
    "    else:\n",
    "        f = -x + 1\n",
    "    return f    "
   ]
  },
  {
   "cell_type": "code",
   "execution_count": 67,
   "id": "fe6dbbbb",
   "metadata": {
    "slideshow": {
     "slide_type": "slide"
    }
   },
   "outputs": [
    {
     "data": {
      "text/plain": [
       "4"
      ]
     },
     "execution_count": 67,
     "metadata": {},
     "output_type": "execute_result"
    }
   ],
   "source": [
    "f(-3)"
   ]
  },
  {
   "cell_type": "code",
   "execution_count": 68,
   "id": "063be0ba",
   "metadata": {
    "slideshow": {
     "slide_type": "slide"
    }
   },
   "outputs": [
    {
     "data": {
      "text/plain": [
       "0"
      ]
     },
     "execution_count": 68,
     "metadata": {},
     "output_type": "execute_result"
    }
   ],
   "source": [
    "f(1)"
   ]
  },
  {
   "cell_type": "code",
   "execution_count": 31,
   "id": "3bac9e93",
   "metadata": {
    "slideshow": {
     "slide_type": "slide"
    }
   },
   "outputs": [
    {
     "data": {
      "text/plain": [
       "-2"
      ]
     },
     "execution_count": 31,
     "metadata": {},
     "output_type": "execute_result"
    }
   ],
   "source": [
    "f(3)"
   ]
  },
  {
   "cell_type": "code",
   "execution_count": 35,
   "id": "133b98b8",
   "metadata": {
    "slideshow": {
     "slide_type": "slide"
    }
   },
   "outputs": [
    {
     "data": {
      "text/latex": [
       "$\\displaystyle - b^{2}$"
      ],
      "text/plain": [
       "-b**2"
      ]
     },
     "execution_count": 35,
     "metadata": {},
     "output_type": "execute_result"
    }
   ],
   "source": [
    "f(b**2+1)"
   ]
  },
  {
   "cell_type": "markdown",
   "id": "ab008aca",
   "metadata": {
    "slideshow": {
     "slide_type": "slide"
    }
   },
   "source": [
    "$$ f(b^{2} + 1) = -(b^{2} + 1) + 1  = -b^{2} - 1 + 1 = -b^{2} $$"
   ]
  },
  {
   "cell_type": "markdown",
   "id": "05d16a9d",
   "metadata": {
    "slideshow": {
     "slide_type": "slide"
    }
   },
   "source": [
    "## Determinación del dominio de $f$"
   ]
  },
  {
   "cell_type": "markdown",
   "id": "cf69ef3f",
   "metadata": {
    "slideshow": {
     "slide_type": "slide"
    }
   },
   "source": [
    "Como esta función está definida en los números menores que 1, en $1$ y el los números mayores que 1, entonces su dominio es todo el conjunto de los números reales. "
   ]
  },
  {
   "cell_type": "markdown",
   "id": "92e81781",
   "metadata": {
    "slideshow": {
     "slide_type": "slide"
    }
   },
   "source": [
    "## Secuencia de trazo de la gráfica de una función definida a trozos"
   ]
  },
  {
   "cell_type": "code",
   "execution_count": 85,
   "id": "d32011b8",
   "metadata": {
    "slideshow": {
     "slide_type": "slide"
    }
   },
   "outputs": [
    {
     "data": {
      "image/png": "[encoded data removed]",
      "text/plain": [
       "<Figure size 864x432 with 6 Axes>"
      ]
     },
     "metadata": {
      "needs_background": "light"
     },
     "output_type": "display_data"
    }
   ],
   "source": [
    "import numpy as np \n",
    "import matplotlib.pyplot as plt \n",
    "\n",
    "x1 = np.linspace(-4,1,40)\n",
    "x2 = np.linspace(1,4,10)\n",
    "x = np.concatenate((x1,x2),axis = 0) \n",
    "f1 = np.abs(x1) + 1\n",
    "f2 = -x2 + 1 \n",
    "\n",
    "f = np.concatenate((f1,f2), axis = 0)\n",
    "\n",
    "fig,ax = plt.subplots(2,3, figsize = (12,6)) \n",
    "\n",
    "# Trazado del primer trozo \n",
    "\n",
    "ax[0,0].plot(x, abs(x))\n",
    "ax[0,0].axis([-4,4,-4,4])\n",
    "ax[0,0].grid()\n",
    "ax[0,0].plot([-4,4],[0,0])      # eje x\n",
    "ax[0,0].set(title = r'$|x|$')\n",
    "\n",
    "ax[0,1].plot(x, abs(x)+1)\n",
    "ax[0,1].axis([-4,4,-4,4])\n",
    "ax[0,1].grid()\n",
    "ax[0,1].plot([-4,4],[0,0])      # eje x\n",
    "ax[0,1].set(title = r'$|x|+1$')\n",
    "\n",
    "ax[0,2].plot(x1, abs(x1)+1)\n",
    "ax[0,2].axis([-4,4,-4,4])\n",
    "ax[0,2].scatter([1],[0], color = 'red')\n",
    "ax[0,2].grid()\n",
    "ax[0,2].plot([-4,4],[0,0])      # eje x\n",
    "ax[0,2].set(title = r'$|x|+1$ para x < 1')\n",
    "\n",
    "# Trazado del segundo trozo \n",
    "\n",
    "ax[1,0].plot(x, -x, color = 'orange') \n",
    "ax[1,0].axis([-4,4,-4,4])\n",
    "ax[1,0].grid()\n",
    "ax[1,0].plot([-4,4],[0,0])      # eje x\n",
    "ax[1,0].set(title = r'$-x$')\n",
    "\n",
    "\n",
    "ax[1,1].plot(x, -x+1, color = 'orange')\n",
    "ax[1,1].axis([-4,4,-4,4])\n",
    "ax[1,1].grid()\n",
    "ax[1,1].plot([-4,4],[0,0])      # eje x\n",
    "ax[1,1].set(title = r'$-x + 1$')\n",
    "\n",
    "ax[1,2].plot(x2, -x2+1, color = 'orange')\n",
    "ax[1,2].axis([-4,4,-4,4])\n",
    "ax[1,2].scatter([1],[0], color = 'red')\n",
    "ax[1,2].grid()\n",
    "ax[1,2].plot([-4,4],[0,0])      # eje x\n",
    "ax[1,2].set(title = r'$-x + 1$ para $x \\geq 1$')\n",
    "\n",
    "\n",
    "plt.show() "
   ]
  },
  {
   "cell_type": "code",
   "execution_count": 74,
   "id": "ea330130",
   "metadata": {
    "scrolled": true,
    "slideshow": {
     "slide_type": "slide"
    }
   },
   "outputs": [
    {
     "data": {
      "image/png": "[encoded data removed]",
      "text/plain": [
       "<Figure size 432x288 with 1 Axes>"
      ]
     },
     "metadata": {
      "needs_background": "light"
     },
     "output_type": "display_data"
    }
   ],
   "source": [
    "import numpy as np \n",
    "import matplotlib.pyplot as plt \n",
    "x1 = np.linspace(-4,1,40)\n",
    "x2 = np.linspace(1,5,10)\n",
    "x = np.concatenate((x1,x2),axis = 0) \n",
    "f1 = np.abs(x1) + 1\n",
    "f2 = -x2 + 1 \n",
    "f = np.concatenate((f1,f2), axis = 0)\n",
    "\n",
    "fig,ax = plt.subplots() \n",
    "\n",
    "#ax.plot(x,f)\n",
    "\n",
    "ax.plot(x1,f1)\n",
    "ax.plot(x2,f2)\n",
    "\n",
    "ax.plot([0,0],[-4,5], alpha = 0.6)   # eje y\n",
    "\n",
    "ax.grid(alpha = 0.6) \n",
    "\n",
    "plt.show() \n",
    "\n"
   ]
  },
  {
   "cell_type": "markdown",
   "id": "7c77c73c",
   "metadata": {
    "slideshow": {
     "slide_type": "slide"
    }
   },
   "source": [
    "El rango de $f$ es la unión de los siguientes intervalos:\n",
    "\n",
    "$$ (-\\infty, 0] \\cup [1,+\\infty) $$\n"
   ]
  },
  {
   "cell_type": "markdown",
   "id": "eb824eb6",
   "metadata": {
    "slideshow": {
     "slide_type": "slide"
    }
   },
   "source": [
    "## Elementos conceptuales necesarios para realizar este ejercicio"
   ]
  },
  {
   "cell_type": "markdown",
   "id": "d9e47801",
   "metadata": {
    "slideshow": {
     "slide_type": "slide"
    }
   },
   "source": [
    "* El gráfico de la función $h(x) = x$ (La función identidad).\n",
    "* El gráfico de la función $i(x) = -x$ (La función inverso aditivo).\n",
    "* El gráfico de la función valor absoluto $j(x) = |x|$.\n",
    "* Desplazamiento vertical del gráfico de una función. "
   ]
  },
  {
   "cell_type": "code",
   "execution_count": 41,
   "id": "895eb6f7",
   "metadata": {
    "slideshow": {
     "slide_type": "slide"
    }
   },
   "outputs": [
    {
     "data": {
      "image/png": "[encoded data removed]",
      "text/plain": [
       "<Figure size 432x288 with 1 Axes>"
      ]
     },
     "metadata": {
      "needs_background": "light"
     },
     "output_type": "display_data"
    }
   ],
   "source": [
    "import numpy as np\n",
    "import matplotlib.pyplot as plt \n",
    "\n",
    "x = np.linspace(-5,5,100)\n",
    "f = abs(x)\n",
    "\n",
    "fig, ax = plt.subplots()\n",
    "ax.plot(x,f, color = 'blue')\n",
    "\n",
    "ax.plot([-8,8],[0,0])    # eje x\n",
    "\n",
    "ax.plot([0,0],[-4,4])    # eje y \n",
    "\n",
    "ax.axis([-8,8,-4,4])\n",
    "ax.grid()\n",
    "\n",
    "plt.show() \n",
    "\n"
   ]
  },
  {
   "cell_type": "markdown",
   "id": "8b3b33ae",
   "metadata": {
    "slideshow": {
     "slide_type": "slide"
    }
   },
   "source": [
    "### Animación sobre desplazamiento vertical de gráfico de funciones"
   ]
  },
  {
   "cell_type": "code",
   "execution_count": 46,
   "id": "0f0ba67a",
   "metadata": {
    "slideshow": {
     "slide_type": "slide"
    }
   },
   "outputs": [
    {
     "data": {
      "application/vnd.jupyter.widget-view+json": {
       "model_id": "fe89d242f716404da291783539de55b6",
       "version_major": 2,
       "version_minor": 0
      },
      "text/plain": [
       "interactive(children=(IntSlider(value=0, description='k', max=3, min=-3), Output()), _dom_classes=('widget-int…"
      ]
     },
     "metadata": {},
     "output_type": "display_data"
    },
    {
     "data": {
      "text/plain": [
       "<function __main__.desplazar(k=0)>"
      ]
     },
     "execution_count": 46,
     "metadata": {},
     "output_type": "execute_result"
    }
   ],
   "source": [
    "import numpy as np\n",
    "import matplotlib.pyplot as plt \n",
    "from ipywidgets import interact \n",
    "\n",
    "x = np.linspace(-5,5,100)\n",
    "f = abs(x) \n",
    "\n",
    "def desplazar(k = 0):\n",
    "    fig, ax = plt.subplots()\n",
    "    ax.plot(x,f+k, color = 'blue', linewidth = 2)\n",
    "    ax.axis([-8,8,-5,5])\n",
    "    ax.plot([-8,8],[0,0])\n",
    "    ax.plot([0,0],[-5,5])\n",
    "    ax.grid(alpha = 0.6)\n",
    "    \n",
    "interact(desplazar, k = (-3,3))    \n",
    "    \n"
   ]
  },
  {
   "cell_type": "markdown",
   "id": "a0897261",
   "metadata": {
    "slideshow": {
     "slide_type": "slide"
    }
   },
   "source": [
    "## Referentes  \n",
    "\n",
    "* Hipotesis para las variables simbólicas de sympy: https://docs.sympy.org/latest/modules/functions/index.html  \n",
    "\n"
   ]
  },
  {
   "cell_type": "code",
   "execution_count": null,
   "id": "5c6fb39c",
   "metadata": {},
   "outputs": [],
   "source": []
  }
 ],
 "metadata": {
  "celltoolbar": "Slideshow",
  "kernelspec": {
   "display_name": "Python 3",
   "language": "python",
   "name": "python3"
  },
  "language_info": {
   "codemirror_mode": {
    "name": "ipython",
    "version": 3
   },
   "file_extension": ".py",
   "mimetype": "text/x-python",
   "name": "python",
   "nbconvert_exporter": "python",
   "pygments_lexer": "ipython3",
   "version": "3.8.8"
  },
  "latex_envs": {
   "LaTeX_envs_menu_present": true,
   "autoclose": false,
   "autocomplete": false,
   "bibliofile": "biblio.bib",
   "cite_by": "apalike",
   "current_citInitial": 1,
   "eqLabelWithNumbers": true,
   "eqNumInitial": 1,
   "hotkeys": {
    "equation": "Ctrl-E",
    "itemize": "Ctrl-I"
   },
   "labels_anchors": false,
   "latex_user_defs": false,
   "report_style_numbering": false,
   "user_envs_cfg": false
  }
 },
 "nbformat": 4,
 "nbformat_minor": 5
}
