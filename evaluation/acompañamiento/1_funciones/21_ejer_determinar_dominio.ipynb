{
 "cells": [
  {
   "cell_type": "markdown",
   "id": "5b50a875",
   "metadata": {
    "slideshow": {
     "slide_type": "slide"
    }
   },
   "source": [
    "<table align=\"left\">\n",
    "  <td>\n",
    "    <a href=\"https://colab.research.google.com/github/marco-canas/calculo_I/blob/main/banco_ejemplos/1_funciones/funciones_a_trozos.ipynb\" target=\"_parent\"><img src=\"https://colab.research.google.com/assets/colab-badge.svg\" alt=\"Open In Colab\"/></a>\n",
    "  </td>\n",
    "  <td>\n",
    "    <a target=\"_blank\" href=\"https://kaggle.com/kernels/welcome?src=https://github.com/marco-canas/calculo_I/blob/main/banco_ejemplos/1_funciones/funciones_a_trozos.ipynb\"><img src=\"https://kaggle.com/static/images/open-in-kaggle.svg\" /></a>\n",
    "  </td>\n",
    "</table>\n"
   ]
  },
  {
   "cell_type": "markdown",
   "id": "b0c1ea08",
   "metadata": {
    "slideshow": {
     "slide_type": "slide"
    }
   },
   "source": [
    "# Ejercicio 21 Determinación de dominio "
   ]
  },
  {
   "cell_type": "markdown",
   "id": "19e7bb64",
   "metadata": {
    "slideshow": {
     "slide_type": "slide"
    }
   },
   "source": [
    "Encontrar el dominio de la función.\n",
    "\n",
    "$$ f(x) = \\sqrt{x} + \\sqrt{1-x} $$\n"
   ]
  },
  {
   "cell_type": "markdown",
   "id": "db91b339",
   "metadata": {
    "slideshow": {
     "slide_type": "slide"
    }
   },
   "source": [
    "## Solución"
   ]
  },
  {
   "cell_type": "markdown",
   "id": "8d318d14",
   "metadata": {},
   "source": [
    "Si $x$ pertenece al dominio $D(f)$ de $f$, entonces $x$ debe ser mayor o igual a cero y además $x$ debe ser menor o ogual a 1.  "
   ]
  },
  {
   "cell_type": "markdown",
   "id": "6c46786d",
   "metadata": {},
   "source": [
    "Por lo tanto, $x$ debe perteneces al intervalo cerrado $[0,1]$. "
   ]
  },
  {
   "cell_type": "code",
   "execution_count": 9,
   "id": "def23cad",
   "metadata": {},
   "outputs": [],
   "source": [
    "import numpy as np \n",
    "def f(x):\n",
    "    return np.sqrt(x) + np.sqrt(1-x)"
   ]
  },
  {
   "cell_type": "code",
   "execution_count": 11,
   "id": "1c3718cb",
   "metadata": {},
   "outputs": [
    {
     "data": {
      "text/plain": [
       "1.4142135623730951"
      ]
     },
     "execution_count": 11,
     "metadata": {},
     "output_type": "execute_result"
    }
   ],
   "source": [
    "f(0.5)"
   ]
  },
  {
   "cell_type": "code",
   "execution_count": 6,
   "id": "e6de11b2",
   "metadata": {},
   "outputs": [
    {
     "data": {
      "image/png": "[encoded data removed]",
      "text/plain": [
       "<Figure size 432x288 with 1 Axes>"
      ]
     },
     "metadata": {
      "needs_background": "light"
     },
     "output_type": "display_data"
    }
   ],
   "source": [
    "import numpy as np \n",
    "import matplotlib.pyplot as plt \n",
    "\n",
    "x = np.linspace(0,1,100)\n",
    "y = np.sqrt(x) + np.sqrt(1-x)\n",
    "\n",
    "fig,ax = plt.subplots()\n",
    "\n",
    "ax.plot(x,y, color = 'red') \n",
    "\n",
    "ax.axis([-1,2, 0, 2])\n",
    "ax.plot([-1,2],[0,0],color = 'blue') # eje x\n",
    "ax.plot([0,0],[0,2],color = 'blue') # eje y\n",
    "\n",
    "ax.grid() \n",
    "\n"
   ]
  },
  {
   "cell_type": "code",
   "execution_count": null,
   "id": "ded8cb1d",
   "metadata": {},
   "outputs": [],
   "source": []
  },
  {
   "cell_type": "code",
   "execution_count": null,
   "id": "f9ff2fee",
   "metadata": {},
   "outputs": [],
   "source": []
  },
  {
   "cell_type": "code",
   "execution_count": null,
   "id": "e4071a09",
   "metadata": {},
   "outputs": [],
   "source": []
  }
 ],
 "metadata": {
  "celltoolbar": "Slideshow",
  "kernelspec": {
   "display_name": "Python 3",
   "language": "python",
   "name": "python3"
  },
  "language_info": {
   "codemirror_mode": {
    "name": "ipython",
    "version": 3
   },
   "file_extension": ".py",
   "mimetype": "text/x-python",
   "name": "python",
   "nbconvert_exporter": "python",
   "pygments_lexer": "ipython3",
   "version": "3.8.8"
  },
  "latex_envs": {
   "LaTeX_envs_menu_present": true,
   "autoclose": false,
   "autocomplete": false,
   "bibliofile": "biblio.bib",
   "cite_by": "apalike",
   "current_citInitial": 1,
   "eqLabelWithNumbers": true,
   "eqNumInitial": 1,
   "hotkeys": {
    "equation": "Ctrl-E",
    "itemize": "Ctrl-I"
   },
   "labels_anchors": false,
   "latex_user_defs": false,
   "report_style_numbering": false,
   "user_envs_cfg": false
  }
 },
 "nbformat": 4,
 "nbformat_minor": 5
}
