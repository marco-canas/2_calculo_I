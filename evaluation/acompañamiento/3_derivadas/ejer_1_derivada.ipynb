{
 "cells": [
  {
   "cell_type": "markdown",
   "metadata": {
    "slideshow": {
     "slide_type": "slide"
    }
   },
   "source": [
    "# Ejercicio 1 sobre derivadas "
   ]
  },
  {
   "cell_type": "markdown",
   "metadata": {
    "slideshow": {
     "slide_type": "slide"
    }
   },
   "source": [
    "## Planteamiento del problema"
   ]
  },
  {
   "cell_type": "markdown",
   "metadata": {
    "slideshow": {
     "slide_type": "slide"
    }
   },
   "source": [
    "Determine la velocidad de crecimiento de la función $f(t) = t^{2}$ cuando $t = 1$. "
   ]
  },
  {
   "cell_type": "markdown",
   "metadata": {
    "slideshow": {
     "slide_type": "slide"
    }
   },
   "source": [
    "## Solución siguiendo el método reflexivo"
   ]
  },
  {
   "cell_type": "markdown",
   "metadata": {
    "slideshow": {
     "slide_type": "slide"
    }
   },
   "source": [
    "* Interpretación del problema\n",
    "* Identificación de conceptos relacionados\n",
    "* Diseño de una metodología de solución\n",
    "* Llevar a cabo el plan de solución de manera justificada.  \n",
    "* Verificar analíticamente la solución obtenida\n",
    "* Verificar con software la solución obtenida (Utilización de sympy).\n",
    "* Verificación gráfica con matplotlib.\n",
    "* Interpretación del gráfico realizado. \n",
    "* Redactar una conclusión "
   ]
  },
  {
   "cell_type": "markdown",
   "metadata": {
    "slideshow": {
     "slide_type": "slide"
    }
   },
   "source": [
    "**Interpretación del problema**:  \n",
    "\n",
    "Determinar la velocidad de crecimiento en un punto del dominio significa que debemos determinar la derivada $f'(t)$ en el punto $t = 1$. "
   ]
  },
  {
   "cell_type": "markdown",
   "metadata": {
    "slideshow": {
     "slide_type": "slide"
    }
   },
   "source": [
    "**Identificación y definición de conceptos relacionados**  \n",
    "\n",
    "1. Velocidad en un intervalo:\n",
    "\n",
    "$$ \\frac{f(t+h) - f(t)}{h} $$\n",
    "\n",
    "2. Velocidad instantánea: \n",
    "\n",
    "$$ v(t) = \\lim_{h \\to 0} \\frac{f(t+h) - f(t)}{h}\n",
    "$$\n",
    "\n",
    "3. Derivada en un punto: \n",
    "$$ \\frac{df}{dt} = f'(t) = \\lim_{h \\to 0} \\frac{f(t+h) - f(t)}{h}\n",
    "$$\n",
    "4. Regla de derivación de una potencia: \n",
    "\n",
    "$$ \\frac{d}{dt}t^{n} = nt^{n-1} $$\n"
   ]
  },
  {
   "cell_type": "markdown",
   "metadata": {
    "slideshow": {
     "slide_type": "slide"
    }
   },
   "source": [
    "**Diseño de una metodología de solución:**  \n",
    "\n",
    "1. Determine la función derivada $f'(t)$ utilizando la regla de derivación de la potencia.\n",
    "2. Evalúe a $f'(t)$ en el punto $t = 1$."
   ]
  },
  {
   "cell_type": "markdown",
   "metadata": {
    "slideshow": {
     "slide_type": "slide"
    }
   },
   "source": [
    "**Desarrollar el plan de solución:**  \n",
    "\n",
    "1. $f'(t) = 2t$\n",
    "2. $f'(1) = 2(1) = 2$\n"
   ]
  },
  {
   "cell_type": "markdown",
   "metadata": {
    "slideshow": {
     "slide_type": "slide"
    }
   },
   "source": [
    "**Verificación analítica:**  \n",
    "\n",
    "Utilicemos una de las definiciones de derivada en un punto para corroborar que la pendiente de la curva en $t = 1$ es 2. \n",
    "\n",
    "En efecto, \n",
    "\n",
    "\\begin{align*}\n",
    "f'(1) & = \\lim_{t \\to 1} \\frac{f(t) - f(1)}{t - 1} \\\\\n",
    "      & = \\lim_{t \\to 1} \\frac{t^{2} - 1}{t - 1} \\\\\n",
    "      & = \\lim_{t \\to 1} \\frac{(t - 1)(t + 1)}{t - 1} \\\\\n",
    "      & = \\lim_{t \\to 1} t + 1 \\\\\n",
    "      & = 2 \\quad \\text{porque $t+1$ es una función continua}\n",
    "\\end{align*}\n",
    "\n"
   ]
  },
  {
   "cell_type": "markdown",
   "metadata": {
    "slideshow": {
     "slide_type": "slide"
    }
   },
   "source": [
    "**Verificación con sympy**"
   ]
  },
  {
   "cell_type": "code",
   "execution_count": 1,
   "metadata": {
    "slideshow": {
     "slide_type": "slide"
    }
   },
   "outputs": [
    {
     "data": {
      "text/latex": [
       "$\\displaystyle 2$"
      ],
      "text/plain": [
       "2"
      ]
     },
     "execution_count": 1,
     "metadata": {},
     "output_type": "execute_result"
    }
   ],
   "source": [
    "from sympy import * \n",
    "t, f = symbols('t f')\n",
    "f = Function('f')(t)           # establecer que $f$ depende de t\n",
    "f = t**2\n",
    "derivada = diff(f,t)\n",
    "derivada.subs({t:1})"
   ]
  },
  {
   "cell_type": "markdown",
   "metadata": {
    "slideshow": {
     "slide_type": "slide"
    }
   },
   "source": [
    "**Verificación gráfica con Matplotlib**"
   ]
  },
  {
   "cell_type": "code",
   "execution_count": 2,
   "metadata": {
    "slideshow": {
     "slide_type": "slide"
    }
   },
   "outputs": [
    {
     "data": {
      "image/png": "[encoded data removed]",
      "text/plain": [
       "<Figure size 432x288 with 1 Axes>"
      ]
     },
     "metadata": {
      "needs_background": "light"
     },
     "output_type": "display_data"
    }
   ],
   "source": [
    "import numpy as np \n",
    "import matplotlib.pyplot as plt \n",
    "\n",
    "t = np.linspace(-1,2,100)\n",
    "\n",
    "fig = plt.figure()\n",
    "ax = fig.add_subplot()\n",
    "\n",
    "f = t**2\n",
    "\n",
    "ax.plot(t,f)\n",
    "\n",
    "# línea tangente\n",
    "\n",
    "y = 2*(t-1) + 1\n",
    "\n",
    "ax.plot(t,y) \n",
    "\n",
    "# punto de tangencia\n",
    "\n",
    "ax.scatter([1],[1], color = 'r') \n",
    "\n",
    "ax.set_xlabel('$t$')\n",
    "ax.set_ylabel('$f(t)$')\n",
    "ax.set_title('Gráfica de $f(t) = t^{2}$ y de la recta tangente en el punto $(1,1)$')\n",
    "\n",
    "ax.grid(True, alpha = 0.5)\n",
    "\n",
    "plt.savefig('velocidad.jpg')\n",
    "plt.show()\n"
   ]
  },
  {
   "cell_type": "markdown",
   "metadata": {
    "slideshow": {
     "slide_type": "slide"
    }
   },
   "source": [
    "**Interpretación del gráfico realizado**\n",
    "\n",
    "Podemos ver que la velocidad de crécimiento de $f$ en $t = 1$ si es 2 pues la recta que tiene esta pendiente y pasa por el punto $(1,f(1))$ si es tangente al gráfico de $f$. \n"
   ]
  },
  {
   "cell_type": "markdown",
   "metadata": {
    "slideshow": {
     "slide_type": "slide"
    }
   },
   "source": [
    "**Conclusión de este problema:**\n",
    "\n",
    "La derivada de una función en un punto es la pendiente de la gráfica de esta función y es la velocidad de variación de la función en tal punto, en este caso la velocidad de $f(t) = t^{2}$ en $t = 1$ es efectivamente 2. \n"
   ]
  },
  {
   "cell_type": "code",
   "execution_count": null,
   "metadata": {
    "slideshow": {
     "slide_type": "skip"
    }
   },
   "outputs": [],
   "source": []
  }
 ],
 "metadata": {
  "celltoolbar": "Slideshow",
  "kernelspec": {
   "display_name": "Python 3",
   "language": "python",
   "name": "python3"
  },
  "language_info": {
   "codemirror_mode": {
    "name": "ipython",
    "version": 3
   },
   "file_extension": ".py",
   "mimetype": "text/x-python",
   "name": "python",
   "nbconvert_exporter": "python",
   "pygments_lexer": "ipython3",
   "version": "3.8.3"
  },
  "rise": {
   "enable_chalkboard": true,
   "theme": "sky",
   "transition": "sky"
  },
  "widgets": {
   "application/vnd.jupyter.widget-state+json": {
    "state": {},
    "version_major": 2,
    "version_minor": 0
   }
  }
 },
 "nbformat": 4,
 "nbformat_minor": 4
}
