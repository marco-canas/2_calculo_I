{
 "cells": [
  {
   "cell_type": "markdown",
   "id": "129aaac0",
   "metadata": {
    "slideshow": {
     "slide_type": "slide"
    }
   },
   "source": [
    "<table align=\"left\">\n",
    "  <td>\n",
    "    <a href=\"https://colab.research.google.com/github/marco-canas/2_calculo_I/blob/main/evaluation/calendarizacion_evaluaciones.ipynb\" target=\"_parent\"><img src=\"https://colab.research.google.com/assets/colab-badge.svg\" alt=\"Open In Colab\"/></a>\n",
    "  </td>\n",
    "</table>"
   ]
  },
  {
   "cell_type": "markdown",
   "id": "8602e696",
   "metadata": {
    "slideshow": {
     "slide_type": "slide"
    }
   },
   "source": [
    "### [Video de apoyo]()"
   ]
  },
  {
   "cell_type": "markdown",
   "id": "0f84ccc7",
   "metadata": {
    "slideshow": {
     "slide_type": "slide"
    }
   },
   "source": [
    "# Calendarización de las evaluaciones "
   ]
  },
  {
   "cell_type": "markdown",
   "id": "528afb22",
   "metadata": {
    "slideshow": {
     "slide_type": "slide"
    }
   },
   "source": [
    "|tipo de evaluación|Fecha y hora de realización|Valor porcentual de la prueba|\n",
    "|------------------|---------------------------|-----------------------------|\n",
    "|primer parcial|31 de marzo de 7:30 a 9:30 am|20%|  \n",
    "|parcial 2|||\n",
    "|parcial 3|||\n",
    "|quiz 1|limite de entrega: 25 de marzo a las 11:59PM|10%|\n",
    "|quiz 1|||\n",
    "|trabajo final sobre aplicación de la derivada con cuaderno Jupyter y video en YouTube|||"
   ]
  },
  {
   "cell_type": "code",
   "execution_count": null,
   "id": "461de400",
   "metadata": {
    "slideshow": {
     "slide_type": "slide"
    }
   },
   "outputs": [],
   "source": []
  },
  {
   "cell_type": "code",
   "execution_count": null,
   "id": "35355d0b",
   "metadata": {
    "slideshow": {
     "slide_type": "slide"
    }
   },
   "outputs": [],
   "source": []
  }
 ],
 "metadata": {
  "celltoolbar": "Slideshow",
  "kernelspec": {
   "display_name": "Python 3 (ipykernel)",
   "language": "python",
   "name": "python3"
  },
  "language_info": {
   "codemirror_mode": {
    "name": "ipython",
    "version": 3
   },
   "file_extension": ".py",
   "mimetype": "text/x-python",
   "name": "python",
   "nbconvert_exporter": "python",
   "pygments_lexer": "ipython3",
   "version": "3.9.13"
  },
  "rise": {
   "enable_chalkboard": true,
   "theme": "sky",
   "transition": "zoom"
  }
 },
 "nbformat": 4,
 "nbformat_minor": 5
}
