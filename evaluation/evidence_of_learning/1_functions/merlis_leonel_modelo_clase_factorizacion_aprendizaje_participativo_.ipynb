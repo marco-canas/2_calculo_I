{
  "cells": [
    {
      "cell_type": "markdown",
      "source": [
        "# Esta clase es presentada por: MERLIS VELÁSQUEZ y LEONEL DORADO estudiantes de la universidad de Antioquia sede bajo cauca, del programa licenciatura en matemáticas, para el curso didáctica de ala aritmética.\n",
        "\n",
        "\n",
        "\n"
      ],
      "metadata": {
        "id": "lvC-Hyax_-x9"
      }
    },
    {
      "cell_type": "markdown",
      "source": [
        "# * Antes de entrar en materia sobre el modelo de clase, estilo de aprendizaje significativo, utilizando el tema a desarrollar (factorización de polinomios usando método de tanteo) pasaremos a definir primeramente que es el aprendizaje participativo y que es la factorización de polinomios utilizando el método de tanteo."
      ],
      "metadata": {
        "id": "cqamx7uwtgra"
      }
    },
    {
      "cell_type": "markdown",
      "source": [
        "# El aprendizaje participativo: Es un enfoque de la enseñanza y el aprendizaje centrado en el estudiante. Fomenta el aprendizaje mediante la práctica, usando grupos pequeños, materiales concretos, debates abiertos y la enseñanza entre pares. Por ejemplo, los estudiantes utilizan las actividades prácticas para entender los conceptos matemáticos o trabajar juntos para solucionar problemas, así como hacerse preguntas y responderlas. El aprendizaje participativo contrasta con la metodología basada en el docente, que se caracteriza por tener estudiantes pasivos sentados en sus pupitres, responder a preguntas cerradas y copiar de la pizarra. El aprendizaje participativo pueden utilizarlo docentes y autoridades educativas para ayudar a los estudiantes a analizar sus necesidades, identificar soluciones y desarrollar y aplicar un plan de acción. En este contexto, se puede incluir la participación comunitaria, la coordinación y el análisis.(https://inee.org/es)."
      ],
      "metadata": {
        "id": "nNAZnHVABRqu"
      }
    },
    {
      "cell_type": "markdown",
      "source": [
        "# La factorización de polinomios cuadráticos por el método de tanteo es una técnica utilizada para descomponer un polinomio cuadrático en un producto de dos polinomios más simples.\n",
        "\n",
        "# Un polinomio cuadrático tiene la forma general ax^2 + bx + c, donde \"a\", \"b\" y \"c\" son constantes y \"x\" es la variable. Para factorizarlo por el método de tanteo, se busca encontrar dos polinomios de primer grado (lineales) cuya multiplicación resulte en el polinomio cuadrático original.\n",
        "\n",
        "# En resumen, la factorización de polinomios cuadráticos por el método de tanteo implica probar diferentes combinaciones de factores lineales para encontrar aquellos que, al multiplicarse, generen el polinomio cuadrático original. Este método puede requerir cierto ensayo y error, pero una vez encontrados los factores, se obtiene la factorización deseada."
      ],
      "metadata": {
        "id": "hwp7vl58J7bg"
      }
    },
    {
      "cell_type": "markdown",
      "source": [
        "# Objetivos de aprendizaje:\n",
        "# •\tComprender el concepto de factorización de polinomios cuadráticos.\n",
        "# •\tConocer el método de tanteo como una estrategia para factorizar polinomios cuadráticos.\n",
        "# •\tAplicar el método de tanteo para factorizar polinomios cuadráticos.\n"
      ],
      "metadata": {
        "id": "LEiSWK4WQAvX"
      }
    },
    {
      "cell_type": "markdown",
      "source": [
        "# Desarrollo de la clase:"
      ],
      "metadata": {
        "id": "P5oYzv0CQMeF"
      }
    },
    {
      "cell_type": "markdown",
      "source": [
        "# 1.\tIntroducción:\n",
        "#a). Se inicia la clase con un saludo a los estudiantes y luego se pasa a la revisión de los objetivos de aprendizaje de la clase.\n",
        "#b). se prosigue con la explicación breve del concepto de factorización de polinomios cuadráticos y su importancia en matemáticas.\n",
        "#c). y de ultimo en lo que es esta introduccion a la clase seguimos con la presentación del método de tanteo como una estrategia para factorizar polinomios cuadráticos."
      ],
      "metadata": {
        "id": "vVK4nFjsQeql"
      }
    },
    {
      "cell_type": "markdown",
      "source": [
        "# 2.\tExplicación teórica:\n",
        "#a). En el pizarrón, el docente  escribe un polinomio cuadrático y explica los pasos para factorizarlo utilizando el método de tanteo.\n",
        "\n",
        "# ejemplo teorico: P(x) = 2x^2 - 5x - 3\n",
        "# Paso 1: Identificar los coeficientes del polinomio En este caso, los coeficientes son: a = 2 (coeficiente del término cuadrático) b = -5 (coeficiente del término lineal) c = -3 (término independiente)\n",
        "# Paso 2: Realizar el tanteo Comenzamos probando diferentes valores de x para ver si son raíces del polinomio. Empecemos por los números enteros pequeños, como -3, -2, -1, 0, 1, 2, 3, etc.\n",
        "# Sustituimos cada valor en el polinomio y verificamos si el resultado es cero. Si obtenemos cero, significa que ese valor es una raíz del polinomio.\n",
        "# $$ P(-3) = 2(-3)^2 - 5(-3) - 3 = 18 + 15 - 3 = 30 $$\n",
        "# $$ P(-2) = 2(-2)^2 - 5(-2) - 3 = 8 + 10 - 3 = 15 $$\n",
        "# $$P(-1) = 2(-1)^2 - 5(-1) - 3 = 2 + 5 - 3 = 4 $$\n",
        "# $$ P(0) = 2(0)^2 - 5(0) - 3 = 0 - 0 - 3 = -3 $$\n",
        "# $$ P(1) = 2(1)^2 - 5(1) - 3 = 2 - 5 - 3 = -6 $$\n",
        "# $$P(2) = 2(2)^2 - 5(2) - 3 = 8 - 10 - 3 = -5 $$\n",
        "# $$ P(3) = 2(3)^2 - 5(3) - 3 = 18 - 15 - 3 = 0 $$\n",
        "# Observamos que P(-3) = 30 y P(3) = 0, lo que significa que x = -3 y x = 3 son raíces del polinomio.\n",
        "# Paso 3: Factorizar el polinomio Ahora que hemos encontrado las raíces del polinomio, podemos factorizarlo utilizando el método de factorización por raíces. Utilizamos los valores encontrados en el paso anterior:\n",
        "# (x + 3)(x - 3) = 0\n",
        "# Paso 4: Obtener las soluciones Igualamos cada factor a cero y resolvemos para x:\n",
        "# x + 3 = 0 x = -3\n",
        "# x - 3 = 0 x = 3\n",
        "# Entonces, las soluciones del polinomio cuadrático $$ P(x) = 2x^2 - 5x - 3 $$ son x = -3 y x = 3.\n",
        "# Nota: el docente debe de resaltar que este método puede no ser eficiente para polinomios con raíces no enteras o para polinomios de mayor grado, en los que se recomienda utilizar métodos alternativos como la fórmula general o el método de completar el cuadrado.\n",
        "\n",
        "\n",
        "#b). El docente muestra ejemplos concretos de polinomios cuadráticos y guía a los estudiantes a través del proceso de factorización utilizando el método de tanteo.\n",
        "#c). Y ya ultimo del paso la explicacion teorica el docente responde a cualquier pregunta que los estudiantes puedan tener durante y terminada la explicación."
      ],
      "metadata": {
        "id": "XdV0-wApQn3j"
      }
    },
    {
      "cell_type": "markdown",
      "source": [
        "# 3.\tActividad participativa: En este paso consta de cinco numerales.\n",
        "\n",
        "# 3.1). Divide a los estudiantes en parejas o grupos pequeños.\n",
        "\n",
        "# 3.2). Proporciona una serie de ejercicios de factorización de polinomios cuadráticos por el método de tanteo.\n",
        "\n",
        "# Factorizar los siguientes polinomios con el método de tanteo:\n",
        "# $$  x^2+5x+6 $$\n",
        "# $$\t2x^2-7x-3 $$\n",
        "# $$\tx^2+3x+2 $$\n",
        "# $$\tx^2+7x+6 $$\n",
        "# $$\tx^2+8x+15 $$\n",
        "# $$\tx^2-4x+3 $$\n",
        "# $$  x^2-9x+18 $$\n",
        "# $$  x^2-10x+16 $$\n",
        "# $$\tx^2-2x-3 $$\n",
        "# $$  x^2-3x-10 $$\n",
        "# $$  x^2-2x-35 $$\n",
        "# $$  x^2+6x+9 $$\n",
        "# $$  x^2-x-6 $$\n",
        "\n",
        "\n",
        "# 3.3).El docente invita a los estudiantes a trabajar juntos en la resolución de los ejercicios.\n",
        "\n",
        "\n",
        "# 3.4). El docente circula por el aula para brindar apoyo y responder preguntas que puedan surgir.\n",
        "\n",
        "# 3.5).Y asi se fomenta la participación activa y la colaboración entre los estudiantes."
      ],
      "metadata": {
        "id": "Vlu98yDzQw1J"
      }
    },
    {
      "cell_type": "markdown",
      "source": [
        "# 4.\tPuesta en común y retroalimentación:\n",
        "\n",
        "# a). El docente solicita a los algunos grupos que compartan sus soluciones en el pizarrón.\n",
        "\n",
        "\n",
        "# b).el docente en este espacio debe fomentar el debate y discucion sobre  las diferentes estrategias utilizadas por los grupos y analiza los resultados obtenidos.\n",
        "\n",
        "\n",
        "# c). El docente Proporciona retroalimentación sobre los errores comunes y destaca las soluciones correctas."
      ],
      "metadata": {
        "id": "USGN0k0lQ70u"
      }
    },
    {
      "cell_type": "markdown",
      "source": [
        "# 5.\tCierre de la clase:\n",
        "\n",
        "\n",
        "# a). Recapitula los conceptos clave y los pasos del método de tanteo para factorizar polinomios cuadráticos.\n",
        "\n",
        "\n",
        "# b). Pregunta a los estudiantes si tienen alguna pregunta adicional o si hay algo que deseen revisar en futuras clases.\n",
        "\n",
        "\n",
        "# c). Agradece a los estudiantes por su participación y esfuerzo."
      ],
      "metadata": {
        "id": "7W8k-4_rRTo1"
      }
    },
    {
      "cell_type": "markdown",
      "source": [
        "# Observación: Este diseño de clase con estilo de aprendizaje participativo permite a los estudiantes trabajar juntos y participar activamente en el proceso de aprendizaje.\n"
      ],
      "metadata": {
        "id": "HxRPxqm7RnGi"
      }
    }
  ],
  "metadata": {
    "colab": {
      "provenance": []
    },
    "kernelspec": {
      "display_name": "Python 3",
      "name": "python3"
    }
  },
  "nbformat": 4,
  "nbformat_minor": 0
}