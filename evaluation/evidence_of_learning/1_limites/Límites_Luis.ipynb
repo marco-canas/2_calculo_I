{
 "cells": [
  {
   "cell_type": "markdown",
   "metadata": {
    "slideshow": {
     "slide_type": "slide"
    }
   },
   "source": [
    "<table align=\"left\">\n",
    "  <td>\n",
    "    <a href=\"https://colab.research.google.com/github/marco-canas/2_calculo_I/blob/main/evaluation/evidence_of_learning/1_limites/L%C3%ADmites_Luis.ipynb?authuser=1\" target=\"_parent\"><img src=\"https://colab.research.google.com/assets/colab-badge.svg\" alt=\"Open In Colab\"/></a>\n",
    "  </td>\n",
    "</table>"
   ]
  },
  {
   "cell_type": "markdown",
   "metadata": {
    "slideshow": {
     "slide_type": "slide"
    }
   },
   "source": [
    "## [Video de apoyo a la lectura interactiva y experimental de este cuaderno]()"
   ]
  },
  {
   "cell_type": "markdown",
   "metadata": {
    "slideshow": {
     "slide_type": "slide"
    }
   },
   "source": [
    "### Estudiante que realizó el video y este cuaderno: Luis Fernando Soto Gonzalez"
   ]
  },
  {
   "cell_type": "markdown",
   "metadata": {
    "id": "fSeZeVsj0BIX",
    "slideshow": {
     "slide_type": "slide"
    }
   },
   "source": [
    "## Hallar el límite \n",
    "### Objetivos\n",
    "- Encontrar el límite de la función (si existe).\n",
    "- Encontrar una función más simple que coincida con la dada salvo en un punto.\n",
    "- Utilizar una herramienta de graficación para confirmar el resultado.\n",
    "\n",
    "$$ \\lim_{x \\to 6} \\frac{x - 6}{x^{2} - 36} $$\n",
    "\n",
    "\n",
    "Primeramente, reemplazamos las $x$ por 6\n",
    "\n",
    "$$ \\frac{6-6}{36-36} $$\n",
    "\n",
    "$$ \\frac{0}{0} $$\n"
   ]
  },
  {
   "cell_type": "markdown",
   "metadata": {
    "slideshow": {
     "slide_type": "slide"
    }
   },
   "source": [
    "Lo que quiere decir, que no hemos podido encontrar el límite sustituyendo o evaluando en la función, pues al sustituir hemos obtenido una forma indeterminada $0/0$, lo que indica que la función racional dada \n",
    "\n",
    "$$ f(x) = \\frac{x-6}{x^{2} - 36} $$\n",
    "\n",
    "no está definida en $x = 6$. Por tanto, determinaremos el límite de esta función en $x = 6$ utilizando:  \n",
    "\n",
    "* estimación puntual\n",
    "* métodos numéricos,\n",
    "* gráficos y \n",
    "* analíticos. \n"
   ]
  },
  {
   "cell_type": "markdown",
   "metadata": {
    "id": "L6B8aha-1lQx",
    "slideshow": {
     "slide_type": "slide"
    }
   },
   "source": [
    "## Forma puntual \n",
    "\n",
    "### ¿Qué es lo que nos piden determinar?\n",
    "\n",
    "Nos piden hallar la tendencia del cociente $\\frac{x - 6}{x^{2} - 36}$ cuando o a medida que $x$ tiende o se acerca a 6.\n",
    "\n"
   ]
  },
  {
   "cell_type": "code",
   "execution_count": 1,
   "metadata": {
    "id": "tlcmhHay2V3y",
    "slideshow": {
     "slide_type": "slide"
    }
   },
   "outputs": [],
   "source": [
    "def f(x):\n",
    "    return (x - 6)/(x**2 - 36)"
   ]
  },
  {
   "cell_type": "code",
   "execution_count": 3,
   "metadata": {
    "colab": {
     "base_uri": "https://localhost:8080/"
    },
    "id": "2AcbYgds2kSh",
    "outputId": "c904a549-0a13-4a05-8c90-37a343203786",
    "slideshow": {
     "slide_type": "slide"
    }
   },
   "outputs": [
    {
     "data": {
      "text/plain": [
       "0.08333333259318466"
      ]
     },
     "execution_count": 3,
     "metadata": {},
     "output_type": "execute_result"
    }
   ],
   "source": [
    "f(6.0000001)"
   ]
  },
  {
   "cell_type": "markdown",
   "metadata": {
    "id": "caZRkbws2xDQ",
    "slideshow": {
     "slide_type": "slide"
    }
   },
   "source": [
    "$$ \\lim_{x \\to 6} f(x)= 0.083 $$\n",
    "\n",
    "### Y este símbolo como se lee: \"A medida que $x$ se aproxima a 6, $f(x)$ es 0.083"
   ]
  },
  {
   "cell_type": "markdown",
   "metadata": {
    "id": "MRzPJoTR3hy_",
    "slideshow": {
     "slide_type": "slide"
    }
   },
   "source": [
    "# Representación tabular"
   ]
  },
  {
   "cell_type": "code",
   "execution_count": 1,
   "metadata": {
    "id": "R6Yr_Zci3mnC",
    "slideshow": {
     "slide_type": "slide"
    }
   },
   "outputs": [],
   "source": [
    "def f(x):\n",
    "    return (x - 6)/(x**2 - 36)"
   ]
  },
  {
   "cell_type": "code",
   "execution_count": 2,
   "metadata": {
    "id": "NpQPiaIL3vlA",
    "slideshow": {
     "slide_type": "slide"
    }
   },
   "outputs": [],
   "source": [
    "import numpy as np\n",
    "import pandas as pd\n",
    "\n",
    "\n",
    "X= np.array ([5, 5.5, 5.9, 5.99, 5.999, 6.001, 6.01, 6.1, 6.5, 7])"
   ]
  },
  {
   "cell_type": "code",
   "execution_count": 3,
   "metadata": {
    "colab": {
     "base_uri": "https://localhost:8080/"
    },
    "id": "TdM-0Qah4ZBC",
    "outputId": "2ab0962c-6f03-4677-df04-0fe03d107a6d",
    "slideshow": {
     "slide_type": "slide"
    }
   },
   "outputs": [
    {
     "data": {
      "text/plain": [
       "array([5.   , 5.5  , 5.9  , 5.99 , 5.999, 6.001, 6.01 , 6.1  , 6.5  ,\n",
       "       7.   ])"
      ]
     },
     "execution_count": 3,
     "metadata": {},
     "output_type": "execute_result"
    }
   ],
   "source": [
    "X"
   ]
  },
  {
   "cell_type": "code",
   "execution_count": 14,
   "metadata": {
    "colab": {
     "base_uri": "https://localhost:8080/"
    },
    "id": "rhNXiCBu4a8u",
    "outputId": "07d3a337-a1e9-4752-d3fd-1201fc2c884e",
    "slideshow": {
     "slide_type": "slide"
    }
   },
   "outputs": [
    {
     "data": {
      "text/plain": [
       "array([0.09090909, 0.08695652, 0.08403361, 0.08340284, 0.08334028,\n",
       "       0.08332639, 0.08326395, 0.08264463, 0.08      , 0.07692308])"
      ]
     },
     "execution_count": 14,
     "metadata": {},
     "output_type": "execute_result"
    }
   ],
   "source": [
    "F = f(X)\n",
    "F"
   ]
  },
  {
   "cell_type": "code",
   "execution_count": 16,
   "metadata": {
    "colab": {
     "base_uri": "https://localhost:8080/",
     "height": 363
    },
    "id": "wXLtc7hD4axI",
    "outputId": "2c25cda4-4b3c-4838-b215-650b4176f056",
    "slideshow": {
     "slide_type": "slide"
    }
   },
   "outputs": [
    {
     "data": {
      "text/html": [
       "\n",
       "  <div id=\"df-063be6fe-1c34-4c4c-8e53-4c5104f748fb\">\n",
       "    <div class=\"colab-df-container\">\n",
       "      <div>\n",
       "<style scoped>\n",
       "    .dataframe tbody tr th:only-of-type {\n",
       "        vertical-align: middle;\n",
       "    }\n",
       "\n",
       "    .dataframe tbody tr th {\n",
       "        vertical-align: top;\n",
       "    }\n",
       "\n",
       "    .dataframe thead th {\n",
       "        text-align: right;\n",
       "    }\n",
       "</style>\n",
       "<table border=\"1\" class=\"dataframe\">\n",
       "  <thead>\n",
       "    <tr style=\"text-align: right;\">\n",
       "      <th></th>\n",
       "      <th>tendencia de la x</th>\n",
       "      <th>tendencia de la y</th>\n",
       "    </tr>\n",
       "  </thead>\n",
       "  <tbody>\n",
       "    <tr>\n",
       "      <th>0</th>\n",
       "      <td>5.000</td>\n",
       "      <td>0.090909</td>\n",
       "    </tr>\n",
       "    <tr>\n",
       "      <th>1</th>\n",
       "      <td>5.500</td>\n",
       "      <td>0.086957</td>\n",
       "    </tr>\n",
       "    <tr>\n",
       "      <th>2</th>\n",
       "      <td>5.900</td>\n",
       "      <td>0.084034</td>\n",
       "    </tr>\n",
       "    <tr>\n",
       "      <th>3</th>\n",
       "      <td>5.990</td>\n",
       "      <td>0.083403</td>\n",
       "    </tr>\n",
       "    <tr>\n",
       "      <th>4</th>\n",
       "      <td>5.999</td>\n",
       "      <td>0.083340</td>\n",
       "    </tr>\n",
       "    <tr>\n",
       "      <th>5</th>\n",
       "      <td>6.001</td>\n",
       "      <td>0.083326</td>\n",
       "    </tr>\n",
       "    <tr>\n",
       "      <th>6</th>\n",
       "      <td>6.010</td>\n",
       "      <td>0.083264</td>\n",
       "    </tr>\n",
       "    <tr>\n",
       "      <th>7</th>\n",
       "      <td>6.100</td>\n",
       "      <td>0.082645</td>\n",
       "    </tr>\n",
       "    <tr>\n",
       "      <th>8</th>\n",
       "      <td>6.500</td>\n",
       "      <td>0.080000</td>\n",
       "    </tr>\n",
       "    <tr>\n",
       "      <th>9</th>\n",
       "      <td>7.000</td>\n",
       "      <td>0.076923</td>\n",
       "    </tr>\n",
       "  </tbody>\n",
       "</table>\n",
       "</div>\n",
       "      <button class=\"colab-df-convert\" onclick=\"convertToInteractive('df-063be6fe-1c34-4c4c-8e53-4c5104f748fb')\"\n",
       "              title=\"Convert this dataframe to an interactive table.\"\n",
       "              style=\"display:none;\">\n",
       "        \n",
       "  <svg xmlns=\"http://www.w3.org/2000/svg\" height=\"24px\"viewBox=\"0 0 24 24\"\n",
       "       width=\"24px\">\n",
       "    <path d=\"M0 0h24v24H0V0z\" fill=\"none\"/>\n",
       "    <path d=\"M18.56 5.44l.94 2.06.94-2.06 2.06-.94-2.06-.94-.94-2.06-.94 2.06-2.06.94zm-11 1L8.5 8.5l.94-2.06 2.06-.94-2.06-.94L8.5 2.5l-.94 2.06-2.06.94zm10 10l.94 2.06.94-2.06 2.06-.94-2.06-.94-.94-2.06-.94 2.06-2.06.94z\"/><path d=\"M17.41 7.96l-1.37-1.37c-.4-.4-.92-.59-1.43-.59-.52 0-1.04.2-1.43.59L10.3 9.45l-7.72 7.72c-.78.78-.78 2.05 0 2.83L4 21.41c.39.39.9.59 1.41.59.51 0 1.02-.2 1.41-.59l7.78-7.78 2.81-2.81c.8-.78.8-2.07 0-2.86zM5.41 20L4 18.59l7.72-7.72 1.47 1.35L5.41 20z\"/>\n",
       "  </svg>\n",
       "      </button>\n",
       "      \n",
       "  <style>\n",
       "    .colab-df-container {\n",
       "      display:flex;\n",
       "      flex-wrap:wrap;\n",
       "      gap: 12px;\n",
       "    }\n",
       "\n",
       "    .colab-df-convert {\n",
       "      background-color: #E8F0FE;\n",
       "      border: none;\n",
       "      border-radius: 50%;\n",
       "      cursor: pointer;\n",
       "      display: none;\n",
       "      fill: #1967D2;\n",
       "      height: 32px;\n",
       "      padding: 0 0 0 0;\n",
       "      width: 32px;\n",
       "    }\n",
       "\n",
       "    .colab-df-convert:hover {\n",
       "      background-color: #E2EBFA;\n",
       "      box-shadow: 0px 1px 2px rgba(60, 64, 67, 0.3), 0px 1px 3px 1px rgba(60, 64, 67, 0.15);\n",
       "      fill: #174EA6;\n",
       "    }\n",
       "\n",
       "    [theme=dark] .colab-df-convert {\n",
       "      background-color: #3B4455;\n",
       "      fill: #D2E3FC;\n",
       "    }\n",
       "\n",
       "    [theme=dark] .colab-df-convert:hover {\n",
       "      background-color: #434B5C;\n",
       "      box-shadow: 0px 1px 3px 1px rgba(0, 0, 0, 0.15);\n",
       "      filter: drop-shadow(0px 1px 2px rgba(0, 0, 0, 0.3));\n",
       "      fill: #FFFFFF;\n",
       "    }\n",
       "  </style>\n",
       "\n",
       "      <script>\n",
       "        const buttonEl =\n",
       "          document.querySelector('#df-063be6fe-1c34-4c4c-8e53-4c5104f748fb button.colab-df-convert');\n",
       "        buttonEl.style.display =\n",
       "          google.colab.kernel.accessAllowed ? 'block' : 'none';\n",
       "\n",
       "        async function convertToInteractive(key) {\n",
       "          const element = document.querySelector('#df-063be6fe-1c34-4c4c-8e53-4c5104f748fb');\n",
       "          const dataTable =\n",
       "            await google.colab.kernel.invokeFunction('convertToInteractive',\n",
       "                                                     [key], {});\n",
       "          if (!dataTable) return;\n",
       "\n",
       "          const docLinkHtml = 'Like what you see? Visit the ' +\n",
       "            '<a target=\"_blank\" href=https://colab.research.google.com/notebooks/data_table.ipynb>data table notebook</a>'\n",
       "            + ' to learn more about interactive tables.';\n",
       "          element.innerHTML = '';\n",
       "          dataTable['output_type'] = 'display_data';\n",
       "          await google.colab.output.renderOutput(dataTable, element);\n",
       "          const docLink = document.createElement('div');\n",
       "          docLink.innerHTML = docLinkHtml;\n",
       "          element.appendChild(docLink);\n",
       "        }\n",
       "      </script>\n",
       "    </div>\n",
       "  </div>\n",
       "  "
      ],
      "text/plain": [
       "   tendencia de la x  tendencia de la y\n",
       "0              5.000           0.090909\n",
       "1              5.500           0.086957\n",
       "2              5.900           0.084034\n",
       "3              5.990           0.083403\n",
       "4              5.999           0.083340\n",
       "5              6.001           0.083326\n",
       "6              6.010           0.083264\n",
       "7              6.100           0.082645\n",
       "8              6.500           0.080000\n",
       "9              7.000           0.076923"
      ]
     },
     "execution_count": 16,
     "metadata": {},
     "output_type": "execute_result"
    }
   ],
   "source": [
    "diccionario={'tendencia de la x': X, 'tendencia de la y': F}\n",
    "pd.DataFrame(diccionario)"
   ]
  },
  {
   "cell_type": "markdown",
   "metadata": {
    "id": "EiJFfb-y4_Us",
    "slideshow": {
     "slide_type": "slide"
    }
   },
   "source": [
    "# Inferencias de la tabla\n",
    "\n",
    "- A medida que $x$ tiende a 6 por izquierda, $f(x)$ disminuye entre más valores cercanos a 0.083.\n",
    "- A medida que $x$ tiende a 6 por derecha, $f(x)$ aumenta entre más valores cercanos a 0.083.\n",
    "\n",
    "### Definitivamente\n",
    "\n",
    "$$ \\lim_{x \\to 6} f(x) = 0.083 $$"
   ]
  },
  {
   "cell_type": "markdown",
   "metadata": {
    "id": "UTfxR9bd5zT8"
   },
   "source": [
    "# Representación gráfica"
   ]
  },
  {
   "cell_type": "code",
   "execution_count": 17,
   "metadata": {
    "colab": {
     "base_uri": "https://localhost:8080/",
     "height": 430
    },
    "id": "HQVAtOzs53cC",
    "outputId": "0c350f30-be65-4b33-c990-ba2095104e14",
    "slideshow": {
     "slide_type": "slide"
    }
   },
   "outputs": [
    {
     "data": {
      "image/png": "[encoded data removed]",
      "text/plain": [
       "<Figure size 640x480 with 1 Axes>"
      ]
     },
     "metadata": {},
     "output_type": "display_data"
    }
   ],
   "source": [
    "import matplotlib.pyplot as plt\n",
    "plt.scatter(X, F)\n",
    "plt.grid()"
   ]
  },
  {
   "cell_type": "markdown",
   "metadata": {
    "slideshow": {
     "slide_type": "slide"
    }
   },
   "source": [
    "# Gráfica del diagrama de dispersión pero animada con plotly para una lectura dinámica"
   ]
  },
  {
   "cell_type": "markdown",
   "metadata": {
    "slideshow": {
     "slide_type": "slide"
    }
   },
   "source": [
    "Para hacer el gráfico animado se requiere que la tabla sea en forma de dataframe. "
   ]
  },
  {
   "cell_type": "code",
   "execution_count": 5,
   "metadata": {
    "slideshow": {
     "slide_type": "slide"
    }
   },
   "outputs": [
    {
     "ename": "NameError",
     "evalue": "name 'tabla' is not defined",
     "output_type": "error",
     "traceback": [
      "\u001b[1;31m---------------------------------------------------------------------------\u001b[0m",
      "\u001b[1;31mNameError\u001b[0m                                 Traceback (most recent call last)",
      "\u001b[1;32m~\\AppData\\Local\\Temp\\ipykernel_20684\\3364397120.py\u001b[0m in \u001b[0;36m<module>\u001b[1;34m\u001b[0m\n\u001b[0;32m      1\u001b[0m \u001b[1;32mimport\u001b[0m \u001b[0mpandas\u001b[0m \u001b[1;32mas\u001b[0m \u001b[0mpd\u001b[0m\u001b[1;33m\u001b[0m\u001b[1;33m\u001b[0m\u001b[0m\n\u001b[0;32m      2\u001b[0m \u001b[1;32mimport\u001b[0m \u001b[0mplotly\u001b[0m\u001b[1;33m.\u001b[0m\u001b[0mexpress\u001b[0m \u001b[1;32mas\u001b[0m \u001b[0mpx\u001b[0m\u001b[1;33m\u001b[0m\u001b[1;33m\u001b[0m\u001b[0m\n\u001b[1;32m----> 3\u001b[1;33m fig = px.line(tabla,x = tabla.keys()[0], y = tabla.keys()[1],\\\n\u001b[0m\u001b[0;32m      4\u001b[0m               title=r'Relación entre $x$ y $y$')\n\u001b[0;32m      5\u001b[0m \u001b[1;33m\u001b[0m\u001b[0m\n",
      "\u001b[1;31mNameError\u001b[0m: name 'tabla' is not defined"
     ]
    }
   ],
   "source": [
    "import pandas as pd \n",
    "import plotly.express as px\n",
    "fig = px.line(tabla,x = tabla.keys()[0], y = tabla.keys()[1],\\\n",
    "              title=r'Relación entre $x$ y $y$')\n",
    "\n",
    "\n",
    "fig.show()\n",
    "\n",
    "fig.write_html('relacion_entre_x_e_y.html', auto_open=True)"
   ]
  },
  {
   "cell_type": "markdown",
   "metadata": {
    "id": "dW1F5Msh6Exo",
    "slideshow": {
     "slide_type": "slide"
    }
   },
   "source": [
    "# Inferencias o interpretaciones del gráfico\n",
    "- A medida que me acerco a 6 por izquierda, los puntos van descenciendo a 0.083\n",
    "- A medida que me acerco a 6 por derecha, los puntos van ascendiendo a 0.083\n",
    "\n",
    "### Por lo tanto,\n",
    "\n",
    "$$ \\lim_{x \\to 6} f(x) = 0.083 $$\n"
   ]
  },
  {
   "cell_type": "markdown",
   "metadata": {
    "id": "102LLgZG6uJ0"
   },
   "source": [
    "# Forma analítica\n",
    "\n",
    "$$ \\lim_{x \\to 6} \\frac{x - 6}{x^{2} - 36} $$\n",
    "\n",
    "### Factorizamos con una diferencia de cuadradros\n",
    "\n",
    "$$ \\frac{x - 6}{(x - 6)(x + 6)} $$\n",
    "\n",
    "$$ \\frac{1}{x + 6} $$\n",
    "\n",
    "\n",
    "### Reemplazamos $x$ por 6\n",
    "\n",
    "$$ \\frac{1}{12} $$\n",
    "\n",
    "$$ \\lim_{x \\to 6} f(x)=0.083 $$"
   ]
  },
  {
   "cell_type": "markdown",
   "metadata": {
    "id": "J-bZ63cy8AOZ"
   },
   "source": [
    "# Conclusión \n",
    "\n",
    "\n",
    "$$ x \\to 6, y \\to 0.083 $$"
   ]
  }
 ],
 "metadata": {
  "celltoolbar": "Slideshow",
  "colab": {
   "provenance": []
  },
  "kernelspec": {
   "display_name": "Python 3 (ipykernel)",
   "language": "python",
   "name": "python3"
  },
  "language_info": {
   "codemirror_mode": {
    "name": "ipython",
    "version": 3
   },
   "file_extension": ".py",
   "mimetype": "text/x-python",
   "name": "python",
   "nbconvert_exporter": "python",
   "pygments_lexer": "ipython3",
   "version": "3.9.13"
  },
  "rise": {
   "enable_chalkboard": true,
   "theme": "sky",
   "transition": "zoom"
  }
 },
 "nbformat": 4,
 "nbformat_minor": 1
}
