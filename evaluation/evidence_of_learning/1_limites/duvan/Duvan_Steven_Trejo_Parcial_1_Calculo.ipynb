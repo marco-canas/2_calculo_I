{
  "nbformat": 4,
  "nbformat_minor": 0,
  "metadata": {
    "colab": {
      "provenance": []
    },
    "kernelspec": {
      "name": "python3",
      "display_name": "Python 3"
    },
    "language_info": {
      "name": "python"
    }
  },
  "cells": [
    {
      "cell_type": "code",
      "execution_count": null,
      "metadata": {
        "id": "km15HHyBTPh5"
      },
      "outputs": [],
      "source": []
    },
    {
      "cell_type": "markdown",
      "source": [
        "##**Parcial #1 Calculo 14/04/2023**##\n",
        " \n",
        "1) que significa el simbolo \n",
        "\n",
        "$$ lim X-C$$ $$F(X)=L $$\n",
        "\n",
        "2) Halle $$F(2)$$ para $$ F(X)= X-1/X(2)-1$$ Conclucion \n",
        "\n",
        " 3)  $$ Lim X-1$$ $$ X-1/X2-1$$ \n",
        "\n",
        "4) $$ Lim X-1$$  $$√x-1/X-1$$\n",
        "\n",
        "5) $$ lim X-1$$ $$(1/x - 1/1)/x-1$$\n",
        "\n",
        "\n"
      ],
      "metadata": {
        "id": "gOx2J3f5UKgG"
      }
    }
  ]
}