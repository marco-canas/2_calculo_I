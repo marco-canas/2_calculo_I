{
  "nbformat": 4,
  "nbformat_minor": 0,
  "metadata": {
    "colab": {
      "provenance": []
    },
    "kernelspec": {
      "name": "python3",
      "display_name": "Python 3"
    },
    "language_info": {
      "name": "python"
    }
  },
  "cells": [
    {
      "cell_type": "markdown",
      "source": [
        "##Clase del día 12 de mayo del año 2023\n",
        "\n",
        "\n",
        "\n",
        "\n",
        "1.   **Objetivo específico**\n",
        "\n",
        "Conocer las funciones básicas del cálculo\n",
        "\n",
        "\n",
        "\n",
        "\n",
        "1.   Constante  |  $ P(t)=600$\n",
        "2.   Líneal     |  $ f(x)=mx+b$\n",
        "3.   Cuadrática |  $f(x)=x^2$\n",
        "4.   Polinómica |  $f(x)=x^3$\n",
        "5.   Racionales |  $f(x)=1/2$\n",
        "6.   Seno       |  $f(x)=sin(x)$\n",
        "7.   Coseno     |  $f(x)=cos(x)$\n",
        "8.   Tangente   |  $f(x)=tan(x)$\n",
        "9.   Cosecante  |  $f(x)=csec(x)$\n",
        "10.  Secante    |  $f(x)=sec(x)$\n",
        "11.  Cotangente |  $f(x)=cotg(x)$\n",
        "12.  Seno inverso  |  $f(x)=sen^-1(x)$\n",
        "13.  Coseno inverso  | $f(x)=cos^-1(x)=arcos(x)$\n",
        "14.  Tangente inverso  |  $f(x)=tan^-1(x)$\n",
        "15.  Cosecante inversa  |  $f(x)=coscc^-1(x)$\n",
        "16.  Secante inverso  |  $f(x)sec^-1(x)$\n",
        "17.  Cotangente inverso  |  $f(x)=cot^-1(x)$\n",
        "18.  Raíz cuadrada  | $f(x)=sqrt(x)$\n",
        "19.  Raíz cúbica  |  $f(x)=cbrt(x)$\n",
        "20.  Valor absoluto  |  $f(x)=|X|=abs(x)$\n",
        "21.  Recíproca $(1/x)$  | $f(x)=1/x)$\n",
        "22.  Potencia de X  |  $f(x)=X^n$\n",
        "23.  Logarítmica  |  $f(x)=In(x)$\n",
        "24.  Exponencia  |  $e^x$\n",
        "\n",
        "\n",
        "\n",
        "\n",
        "2.   **Objetivo específico**\n",
        "\n",
        "Aprender todas las reglas de derivación\n",
        "\n",
        "* **Tarea**: Graficar todas las funciones con su derivada en un mismo plano en el Software a placer\n",
        "\n",
        "\n",
        "\n",
        "\n",
        "3.   **Objetivo**: Realizar una aplicación. (Por lo menos dos aplicaciones)\n",
        "\n"
      ],
      "metadata": {
        "id": "H6y70Qdkp8vi"
      }
    }
  ]
}