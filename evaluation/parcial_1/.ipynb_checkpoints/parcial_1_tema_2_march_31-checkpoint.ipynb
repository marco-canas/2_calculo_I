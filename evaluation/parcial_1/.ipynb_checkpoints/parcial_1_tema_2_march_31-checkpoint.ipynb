{
 "cells": [
  {
   "cell_type": "markdown",
   "id": "91ed5745",
   "metadata": {
    "slideshow": {
     "slide_type": "slide"
    }
   },
   "source": [
    "<table align=\"left\">\n",
    "  <td>\n",
    "    <a href=\"https://colab.research.google.com/github/marco-canas/2_calculo_I/blob/main/evaluation/parcial_1/parcial_1_march_31.ipynb\" target=\"_parent\"><img src=\"https://colab.research.google.com/assets/colab-badge.svg\" alt=\"Open In Colab\"/></a>\n",
    "  </td>\n",
    "</table>"
   ]
  },
  {
   "cell_type": "markdown",
   "id": "4393258c",
   "metadata": {
    "slideshow": {
     "slide_type": "slide"
    }
   },
   "source": [
    "# Parcial 1 Tema 2 March 31"
   ]
  },
  {
   "cell_type": "markdown",
   "id": "82ca0ec9",
   "metadata": {
    "slideshow": {
     "slide_type": "slide"
    }
   },
   "source": [
    "# Objetivos de aprendizaje por clase\n",
    "\n",
    "\n",
    "* Aprender a determinar un límite o tendencia de una función con la representación tabular y gráfica de una función. \n",
    "\n",
    "* aprender a determinar volúmenes de cilíndros y áreas de regiones poligonales. \n",
    "\n",
    "* adquirir los lenguajes propia del cálculo en cuanto a límites. \n",
    "\n",
    "\n",
    "* Aprender a determinar un límite o tendencia de una función con la representación tabular y gráfica de una función. \n",
    "\n",
    "* Aprender a determinar límites por racionalización   \n",
    "\n",
    "* Aprender a determinar límites por por simplificación de fracciones utilizando operaciones de fracciones.  \n",
    "* Aprender a describir comportamientos correlacionados. \n",
    "\n",
    "* utilice diversas herramientas tecnológicas para determinar límtes de funciones (excel, python, R, symbolab, GeoGebra, wolfram Alpha)\n"
   ]
  },
  {
   "cell_type": "markdown",
   "id": "90b5f383",
   "metadata": {
    "slideshow": {
     "slide_type": "slide"
    }
   },
   "source": [
    "## Primer Punto. Teórico (20$\\%$) "
   ]
  },
  {
   "cell_type": "markdown",
   "id": "6b8f688f",
   "metadata": {
    "slideshow": {
     "slide_type": "slide"
    }
   },
   "source": []
  },
  {
   "cell_type": "markdown",
   "id": "8cdf1172",
   "metadata": {
    "slideshow": {
     "slide_type": "slide"
    }
   },
   "source": [
    "## Segundo Punto (20$\\%$) "
   ]
  },
  {
   "cell_type": "markdown",
   "id": "fb9c1c48",
   "metadata": {
    "slideshow": {
     "slide_type": "slide"
    }
   },
   "source": []
  },
  {
   "cell_type": "markdown",
   "id": "2566850b",
   "metadata": {
    "slideshow": {
     "slide_type": "slide"
    }
   },
   "source": [
    "## Tercer Punto (20$\\%$) "
   ]
  },
  {
   "cell_type": "markdown",
   "id": "493f5706",
   "metadata": {
    "slideshow": {
     "slide_type": "slide"
    }
   },
   "source": []
  },
  {
   "cell_type": "markdown",
   "id": "c1d9a76d",
   "metadata": {
    "slideshow": {
     "slide_type": "slide"
    }
   },
   "source": [
    "## Cuarto Punto (20$\\%$) "
   ]
  },
  {
   "cell_type": "markdown",
   "id": "0d0e9d1e",
   "metadata": {
    "slideshow": {
     "slide_type": "slide"
    }
   },
   "source": []
  },
  {
   "cell_type": "markdown",
   "id": "4eaaabb0",
   "metadata": {
    "slideshow": {
     "slide_type": "slide"
    }
   },
   "source": [
    "## Quinto Punto (20$\\%$) "
   ]
  },
  {
   "cell_type": "markdown",
   "id": "8589ae96",
   "metadata": {
    "slideshow": {
     "slide_type": "slide"
    }
   },
   "source": []
  }
 ],
 "metadata": {
  "celltoolbar": "Slideshow",
  "kernelspec": {
   "display_name": "Python 3 (ipykernel)",
   "language": "python",
   "name": "python3"
  },
  "language_info": {
   "codemirror_mode": {
    "name": "ipython",
    "version": 3
   },
   "file_extension": ".py",
   "mimetype": "text/x-python",
   "name": "python",
   "nbconvert_exporter": "python",
   "pygments_lexer": "ipython3",
   "version": "3.9.13"
  },
  "rise": {
   "enable_chalkboard": true,
   "theme": "sky",
   "transition": "sky"
  }
 },
 "nbformat": 4,
 "nbformat_minor": 5
}
