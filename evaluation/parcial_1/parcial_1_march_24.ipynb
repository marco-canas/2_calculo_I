{
 "cells": [
  {
   "cell_type": "markdown",
   "id": "59e05671",
   "metadata": {
    "slideshow": {
     "slide_type": "slide"
    }
   },
   "source": [
    "<table align=\"left\">\n",
    "  <td>\n",
    "    <a href=\"https://colab.research.google.com/github/marco-canas/2_calculo_I/blob/main/evaluation/parcial_1/parcial_1_march_24.ipynb\" target=\"_parent\"><img src=\"https://colab.research.google.com/assets/colab-badge.svg\" alt=\"Open In Colab\"/></a>\n",
    "  </td>\n",
    "</table>"
   ]
  },
  {
   "cell_type": "markdown",
   "id": "52ce9a04",
   "metadata": {
    "slideshow": {
     "slide_type": "slide"
    }
   },
   "source": [
    "### [Video de apoyo]()"
   ]
  },
  {
   "cell_type": "markdown",
   "id": "7d60c038",
   "metadata": {
    "slideshow": {
     "slide_type": "slide"
    }
   },
   "source": [
    "# Parcial 1 Marzo 24 Viernes de 7 a 9 de la mañana"
   ]
  },
  {
   "cell_type": "markdown",
   "id": "067218ec",
   "metadata": {},
   "source": [
    "Punto teórico\n",
    "\n",
    "1. Defina que es pendiente de una recta y de ejemplos de utilización de ella. "
   ]
  },
  {
   "cell_type": "markdown",
   "id": "2dc30262",
   "metadata": {
    "slideshow": {
     "slide_type": "slide"
    }
   },
   "source": [
    "## Punto 1"
   ]
  },
  {
   "cell_type": "markdown",
   "id": "0a148ad7",
   "metadata": {
    "slideshow": {
     "slide_type": "slide"
    }
   },
   "source": [
    "En el ejercicio,   \n",
    "\n",
    "* decidir si el problema puede resolverse mediante el uso de las matemáticas previas al cálculo o si requiere del cálculo. \n",
    "* Resolver el problema si se puede utilizar precálculo. \n",
    "* En caso contrario explicar el razonamiento y aproximar la solución por procedimientos gráficos o numéricos.\n"
   ]
  },
  {
   "cell_type": "markdown",
   "id": "f05ccf32",
   "metadata": {
    "slideshow": {
     "slide_type": "slide"
    }
   },
   "source": [
    "<img src = 'https://github.com/marco-canas/2_calculo_I/blob/main/evaluation/parcial_1/fig_3_fig_4.png?raw=true'>"
   ]
  },
  {
   "cell_type": "markdown",
   "id": "33bb784f",
   "metadata": {},
   "source": [
    "## Solución\n",
    "\n",
    "* decido que el problema no puede resolverse mediante el uso de las matemáticas previas al cálculo, es decir, si requiere del cálculo. Porque la trayectoria no es rectilínea. Es parabólica. \n",
    "\n",
    "Saber la pendiente o velocidad de cambio en una recta es muy muy muy facil, porque se divide ascenso sobre avance. \n",
    "\n",
    "*  Ya dije que no se puede resolver el problema utilizado precálculo. \n",
    "\n",
    "*  En caso contrario explicar el razonamiento y aproximar la solución por procedimientos gráficos o numéricos.\n",
    "\n",
    "https://www.youtube.com/watch?v=ujXLWVj32YI. \n",
    "\n"
   ]
  },
  {
   "cell_type": "markdown",
   "id": "3a357100",
   "metadata": {
    "slideshow": {
     "slide_type": "slide"
    }
   },
   "source": [
    "## Punto 2"
   ]
  },
  {
   "cell_type": "code",
   "execution_count": null,
   "id": "0f53cb7d",
   "metadata": {},
   "outputs": [],
   "source": []
  },
  {
   "cell_type": "markdown",
   "id": "f73574af",
   "metadata": {
    "slideshow": {
     "slide_type": "slide"
    }
   },
   "source": [
    "## Punto 3"
   ]
  },
  {
   "cell_type": "code",
   "execution_count": null,
   "id": "c4a8faa0",
   "metadata": {},
   "outputs": [],
   "source": []
  },
  {
   "cell_type": "markdown",
   "id": "8f028508",
   "metadata": {
    "slideshow": {
     "slide_type": "slide"
    }
   },
   "source": [
    "## Punto 4"
   ]
  },
  {
   "cell_type": "code",
   "execution_count": null,
   "id": "ca72f503",
   "metadata": {},
   "outputs": [],
   "source": []
  },
  {
   "cell_type": "markdown",
   "id": "c362fd81",
   "metadata": {
    "slideshow": {
     "slide_type": "slide"
    }
   },
   "source": [
    "## Punto 5"
   ]
  },
  {
   "cell_type": "code",
   "execution_count": null,
   "id": "ef0e4fa1",
   "metadata": {},
   "outputs": [],
   "source": []
  },
  {
   "cell_type": "code",
   "execution_count": null,
   "id": "69eb3746",
   "metadata": {},
   "outputs": [],
   "source": []
  }
 ],
 "metadata": {
  "celltoolbar": "Slideshow",
  "kernelspec": {
   "display_name": "Python 3 (ipykernel)",
   "language": "python",
   "name": "python3"
  },
  "language_info": {
   "codemirror_mode": {
    "name": "ipython",
    "version": 3
   },
   "file_extension": ".py",
   "mimetype": "text/x-python",
   "name": "python",
   "nbconvert_exporter": "python",
   "pygments_lexer": "ipython3",
   "version": "3.9.13"
  },
  "rise": {
   "enable_chalkboard": true,
   "theme": "sky",
   "transition": "zoom"
  }
 },
 "nbformat": 4,
 "nbformat_minor": 5
}
