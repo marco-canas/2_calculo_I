{
 "cells": [
  {
   "cell_type": "markdown",
   "id": "59e05671",
   "metadata": {
    "slideshow": {
     "slide_type": "slide"
    }
   },
   "source": [
    "<table align=\"left\">\n",
    "  <td>\n",
    "    <a href=\"https://colab.research.google.com/github/marco-canas/2_calculo_I/blob/main/evaluation/parcial_1/parcial_1_march_31.ipynb\" target=\"_parent\"><img src=\"https://colab.research.google.com/assets/colab-badge.svg\" alt=\"Open In Colab\"/></a>\n",
    "  </td>\n",
    "</table>"
   ]
  },
  {
   "cell_type": "markdown",
   "id": "52ce9a04",
   "metadata": {
    "slideshow": {
     "slide_type": "slide"
    }
   },
   "source": [
    "### [Video de apoyo](https://www.youtube.com/watch?v=AaLiHc82x_k)"
   ]
  },
  {
   "cell_type": "markdown",
   "id": "7d60c038",
   "metadata": {
    "slideshow": {
     "slide_type": "slide"
    }
   },
   "source": [
    "# Parcial 1 Marzo 31 Viernes de 7:30 a 9:30 de la mañana"
   ]
  },
  {
   "cell_type": "markdown",
   "id": "fe825efd",
   "metadata": {
    "slideshow": {
     "slide_type": "slide"
    }
   },
   "source": [
    "# Objetivos de aprendizaje por clase\n",
    "\n",
    "\n",
    "* Aprender a determinar un límite o tendencia de una función con la representación tabular y gráfica de una función. \n",
    "\n",
    "* aprender a determinar volúmenes de cilíndros y áreas de regiones poligonales. \n",
    "\n",
    "* adquirir los lenguajes propia del cálculo en cuanto a límites. \n",
    "\n",
    "\n",
    "* Aprender a determinar un límite o tendencia de una función con la representación tabular y gráfica de una función. \n",
    "\n",
    "* Aprender a determinar límites por racionalización \n",
    "* Aprender a determinar límites por por simplificación de fracciones utilizando operaciones de fracciones.  \n",
    "* Aprender a describir comportamientos correlacionados. \n",
    "\n",
    "* utilice diversas herramientas tecnológicas para determinar límtes de funciones (excel, python, R, symbolab, GeoGebra, wolfram Alpha)\n",
    "\n",
    "\n"
   ]
  },
  {
   "cell_type": "markdown",
   "id": "2dc30262",
   "metadata": {
    "slideshow": {
     "slide_type": "slide"
    }
   },
   "source": [
    "## Punto 1 Teórico ($20\\ \\%$)"
   ]
  },
  {
   "cell_type": "markdown",
   "id": "8e4dc362",
   "metadata": {
    "slideshow": {
     "slide_type": "slide"
    }
   },
   "source": [
    "\n",
    "\n",
    "1. Defina que es pendiente de una recta y de ejemplos de utilización de ella. \n",
    "\n",
    "$$ m = \\frac{\\text{ascenso}}{\\text{avance}} = \\frac{y_{2} - y_{1}}{x_{2} - x_{1}}  $$\n",
    "\n",
    "2. Defina la pendiente de una curva en un punto de ella (Represente graficamente una curva y su pendiente en un punto de ella)\n",
    "\n",
    "la pendiente de la recta tangente a la curva en ese punto\n",
    "\n",
    "3. Enuncie verbalmente el significado de\n",
    "\n",
    "$$ \\lim_{x \\to c} f(x) = L$$\n",
    "\n",
    "4. Diga al menos tres representaciones de funciones que conoce:\n",
    "\n",
    "a. representación algebraica\n",
    "b. representación tabular\n",
    "c. representación gráfica.\n",
    "d. representación en diagrama de Venn\n",
    "\n",
    "5. ¿Cómo se lee una representación tabular de una fución y muestre un ejemplo?\n",
    "\n",
    "6. ¿Cómo se lee una gráfica?\n",
    "\n",
    "7. ¿Cual es la fórmula general del volumen de cualquier cilindro?\n",
    "\n",
    "8. ¿Cómo se puede desteminar el área de un trapecio?\n",
    "\n",
    "9. ¿Cuál es la diferencia entre cálculo y precálculo? y enuncie por lo menos una ejemplo. \n",
    "\n",
    "|precalculo|calculo|  \n",
    "|-|-|\n",
    "|pendiente de una recta|determina la pendiente de una curva|\n",
    "\n",
    "10. ¿Qué es una función polinómica y de por lo nos cuatro ejemplo de funciones polinímicas de diferentes grados?\n",
    "\n",
    "11. Qué son funciones racionales y de por lo menor un ejemplo de fracción propia y fracción impropia. "
   ]
  },
  {
   "cell_type": "markdown",
   "id": "b5dcd2d1",
   "metadata": {
    "slideshow": {
     "slide_type": "slide"
    }
   },
   "source": [
    "# Segundo punto del parcial ($20\\ \\%$)"
   ]
  },
  {
   "cell_type": "markdown",
   "id": "95dc9b39",
   "metadata": {
    "slideshow": {
     "slide_type": "slide"
    }
   },
   "source": [
    "En el ejercicio,   \n",
    "\n",
    "* decidir si el problema puede resolverse mediante el uso de las matemáticas previas al cálculo o si requiere del cálculo. \n",
    "* Resolver el problema si se puede utilizar precálculo. \n",
    "* En caso contrario explicar el razonamiento y aproximar la solución por procedimientos gráficos o numéricos.\n"
   ]
  },
  {
   "cell_type": "markdown",
   "id": "c778fb3f",
   "metadata": {
    "slideshow": {
     "slide_type": "slide"
    }
   },
   "source": [
    "<img src = 'https://github.com/marco-canas/2_calculo_I/blob/main/evaluation/parcial_1/fig_3_fig_4.png?raw=true'>"
   ]
  },
  {
   "cell_type": "markdown",
   "id": "09282d69",
   "metadata": {
    "slideshow": {
     "slide_type": "slide"
    }
   },
   "source": [
    "## Solución\n",
    "\n",
    "* decido que el problema no puede resolverse mediante el uso de las matemáticas previas al cálculo, es decir, si requiere del cálculo. Porque la trayectoria no es rectilínea. Es parabólica. \n",
    "\n",
    "Saber la pendiente o velocidad de cambio en una recta es muy muy muy facil, porque se divide ascenso sobre avance. \n",
    "\n",
    "*  Ya dije que no se puede resolver el problema utilizado precálculo. \n",
    "\n",
    "*  En caso contrario explicar el razonamiento y aproximar la solución por procedimientos gráficos o numéricos.\n",
    "\n",
    "https://www.youtube.com/watch?v=ujXLWVj32YI. \n",
    "\n"
   ]
  },
  {
   "cell_type": "markdown",
   "id": "e300815c",
   "metadata": {
    "slideshow": {
     "slide_type": "slide"
    }
   },
   "source": [
    "# Crear la animación con deslizador para aproximar la pendiente de la curva a través de la pendiente de la tangente"
   ]
  },
  {
   "cell_type": "code",
   "execution_count": 8,
   "id": "e9c2b6c2",
   "metadata": {
    "slideshow": {
     "slide_type": "slide"
    }
   },
   "outputs": [
    {
     "data": {
      "image/png": "[encoded data removed]",
      "text/plain": [
       "<Figure size 640x480 with 1 Axes>"
      ]
     },
     "metadata": {},
     "output_type": "display_data"
    },
    {
     "data": {
      "application/vnd.jupyter.widget-view+json": {
       "model_id": "6e51ecc6d54a4c1790cdfa9ad36e7c92",
       "version_major": 2,
       "version_minor": 0
      },
      "text/plain": [
       "interactive(children=(FloatSlider(value=1.0, description='h', max=1.0), Output()), _dom_classes=('widget-inter…"
      ]
     },
     "metadata": {},
     "output_type": "display_data"
    },
    {
     "data": {
      "text/plain": [
       "<function __main__.trace_secantes(h=1)>"
      ]
     },
     "execution_count": 8,
     "metadata": {},
     "output_type": "execute_result"
    }
   ],
   "source": [
    "import numpy as np\n",
    "\n",
    "import matplotlib.pyplot as plt\n",
    "\n",
    "from ipywidgets import interact \n",
    "\n",
    "def f(x):\n",
    "    return 0.04*(8*x - x**2)\n",
    "\n",
    "dominio = np.linspace(0,8)\n",
    "rango = f(dominio)\n",
    "plt.plot(dominio, rango)\n",
    "plt.axis('equal')\n",
    "plt.grid(alpha = 0.4)\n",
    "c = 2\n",
    "\n",
    "def trace_secantes(h = 1):\n",
    "    dominio_secante = [c-1, c+1]\n",
    "    \n",
    "    \n",
    "interact(trace_secantes, h = (0,1,0.1))    "
   ]
  },
  {
   "cell_type": "markdown",
   "id": "3a357100",
   "metadata": {
    "slideshow": {
     "slide_type": "slide"
    }
   },
   "source": [
    "## Tercer Punto "
   ]
  },
  {
   "cell_type": "markdown",
   "id": "5d5157d2",
   "metadata": {
    "slideshow": {
     "slide_type": "slide"
    }
   },
   "source": [
    "Determine de forma analítica el límite siguiente\n",
    "\n",
    "\\begin{align*}\n",
    "\\lim_{x \\to -3} \\frac{x^{2} + x - 6}{x^{2} - 9} & = \n",
    "\\end{align*}"
   ]
  },
  {
   "cell_type": "markdown",
   "id": "2273db5d",
   "metadata": {
    "slideshow": {
     "slide_type": "slide"
    }
   },
   "source": [
    "## Representación gráfica de la función racional anterior"
   ]
  },
  {
   "cell_type": "code",
   "execution_count": 4,
   "id": "d99b77d0",
   "metadata": {
    "slideshow": {
     "slide_type": "slide"
    }
   },
   "outputs": [
    {
     "data": {
      "image/png": "[encoded data removed]",
      "text/plain": [
       "<Figure size 640x480 with 1 Axes>"
      ]
     },
     "metadata": {},
     "output_type": "display_data"
    }
   ],
   "source": [
    "import numpy as np \n",
    "\n",
    "import matplotlib.pyplot as plt  \n",
    "\n",
    "def f(x):\n",
    "    return (x**2+x - 6)/(x**2-9)\n",
    "\n",
    "c = -3\n",
    "\n",
    "dominio = np.linspace(c-1, c+1)\n",
    "\n",
    "\n",
    "rango = f(dominio)\n",
    "\n",
    "plt.plot(dominio, rango)\n",
    "\n",
    "plt.plot([c], [5/6], 'ro' )\n",
    "\n",
    "plt.grid(alpha = 0.4)\n",
    "\n",
    "plt.savefig('funcion_racional_impropia.jpg')\n",
    "\n",
    "plt.show()"
   ]
  },
  {
   "cell_type": "markdown",
   "id": "d37cdb96",
   "metadata": {
    "slideshow": {
     "slide_type": "slide"
    }
   },
   "source": [
    "## Solución\n",
    "\n",
    "Siga la secuencia sugerida de solución:\n",
    "\n",
    "1. Forma indeterminada\n",
    "2. factorice el trinomio de la forma $x^{2} + bx + c$ y la diferencia de cuadrados. \n",
    "3. calcele el factor que causa la indeterminación\n",
    "4. evalue para calcular el límite\n",
    "5. Escriba la conclusión. \n",
    "\n"
   ]
  },
  {
   "cell_type": "markdown",
   "id": "d5e9d3dd",
   "metadata": {
    "slideshow": {
     "slide_type": "slide"
    }
   },
   "source": [
    "$$ \\lim_{x \\to -3} \\frac{(x+3)(x-2)}{(x-3)(x+3)} $$"
   ]
  },
  {
   "cell_type": "markdown",
   "id": "b01b5c04",
   "metadata": {
    "slideshow": {
     "slide_type": "slide"
    }
   },
   "source": [
    "$$ \\lim_{x \\to -3} \\frac{(x-2)}{(x-3)} $$"
   ]
  },
  {
   "cell_type": "markdown",
   "id": "3e0771bf",
   "metadata": {
    "slideshow": {
     "slide_type": "slide"
    }
   },
   "source": [
    "$$ \\frac{-5}{-6} = \\frac{5}{6} $$"
   ]
  },
  {
   "cell_type": "markdown",
   "id": "c4c3f3e6",
   "metadata": {
    "slideshow": {
     "slide_type": "slide"
    }
   },
   "source": [
    "### Cóncusión:  \n",
    "\n",
    "$$ x \\to -3, y \\to 5/6 $$"
   ]
  },
  {
   "cell_type": "markdown",
   "id": "f73574af",
   "metadata": {
    "slideshow": {
     "slide_type": "slide"
    }
   },
   "source": [
    "## Cuerto Punto "
   ]
  },
  {
   "cell_type": "markdown",
   "id": "f97eee88",
   "metadata": {
    "slideshow": {
     "slide_type": "slide"
    }
   },
   "source": [
    "Determine el siguiente límite utilizando el método analítico de racionalización: \n",
    "\n",
    "$$ \\lim_{x \\to 0} \\frac{\\sqrt{x + 5} -\\sqrt{5}}{x}$$ "
   ]
  },
  {
   "cell_type": "markdown",
   "id": "8f028508",
   "metadata": {
    "slideshow": {
     "slide_type": "slide"
    }
   },
   "source": [
    "## Quinto Punto "
   ]
  },
  {
   "cell_type": "markdown",
   "id": "a023aaec",
   "metadata": {
    "slideshow": {
     "slide_type": "slide"
    }
   },
   "source": [
    "Determinar el siguiente límite utilizando metodos analíticos como el de simplificación de fracciones:  \n",
    "\n",
    "$$ \\lim_{x \\to 0} \\frac{\\frac{1}{x+4} - \\frac{1}{4}}{x} $$"
   ]
  },
  {
   "cell_type": "code",
   "execution_count": null,
   "id": "69eb3746",
   "metadata": {},
   "outputs": [],
   "source": []
  }
 ],
 "metadata": {
  "celltoolbar": "Slideshow",
  "kernelspec": {
   "display_name": "Python 3 (ipykernel)",
   "language": "python",
   "name": "python3"
  },
  "language_info": {
   "codemirror_mode": {
    "name": "ipython",
    "version": 3
   },
   "file_extension": ".py",
   "mimetype": "text/x-python",
   "name": "python",
   "nbconvert_exporter": "python",
   "pygments_lexer": "ipython3",
   "version": "3.9.13"
  },
  "rise": {
   "enable_chalkboard": true,
   "theme": "sky",
   "transition": "zoom"
  }
 },
 "nbformat": 4,
 "nbformat_minor": 5
}
