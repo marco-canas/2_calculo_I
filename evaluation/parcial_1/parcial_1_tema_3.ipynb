{
 "cells": [
  {
   "cell_type": "markdown",
   "id": "b9b006e3",
   "metadata": {
    "slideshow": {
     "slide_type": "slide"
    }
   },
   "source": [
    "<table align=\"left\">\n",
    "  <td>\n",
    "    <a href=\"https://colab.research.google.com/github/marco-canas/2_calculo_I/blob/main/evaluation/parcial_1/parcial_1_march_31.ipynb\" target=\"_parent\"><img src=\"https://colab.research.google.com/assets/colab-badge.svg\" alt=\"Open In Colab\"/></a>\n",
    "  </td>\n",
    "</table>"
   ]
  },
  {
   "cell_type": "markdown",
   "id": "6624d131",
   "metadata": {
    "slideshow": {
     "slide_type": "slide"
    }
   },
   "source": []
  },
  {
   "cell_type": "markdown",
   "id": "7dce70b6",
   "metadata": {},
   "source": [
    "# Parcial 1 Tema 3 Evaluación no centrada en métodos analíticos"
   ]
  },
  {
   "cell_type": "markdown",
   "id": "31a42b6a",
   "metadata": {},
   "source": [
    "## Objetivo de este examen\n",
    "\n",
    "* evaluar la capacidad de determinar el límite de una función en un punto $x = c$, a partir de la lectura de la representación tabular y gráfica de la misma"
   ]
  },
  {
   "cell_type": "code",
   "execution_count": 8,
   "id": "8a992e86",
   "metadata": {
    "scrolled": true,
    "slideshow": {
     "slide_type": "slide"
    }
   },
   "outputs": [],
   "source": [
    "from calculo_limite_tabular_grafico import tabla_izquierda, tabla_derecha"
   ]
  },
  {
   "cell_type": "code",
   "execution_count": 9,
   "id": "1a05ec6f",
   "metadata": {},
   "outputs": [],
   "source": [
    "def f(x):\n",
    "    return x/(x**2-x)"
   ]
  },
  {
   "cell_type": "code",
   "execution_count": 10,
   "id": "ce436fe1",
   "metadata": {
    "scrolled": true
   },
   "outputs": [
    {
     "data": {
      "text/html": [
       "<div>\n",
       "<style scoped>\n",
       "    .dataframe tbody tr th:only-of-type {\n",
       "        vertical-align: middle;\n",
       "    }\n",
       "\n",
       "    .dataframe tbody tr th {\n",
       "        vertical-align: top;\n",
       "    }\n",
       "\n",
       "    .dataframe thead th {\n",
       "        text-align: right;\n",
       "    }\n",
       "</style>\n",
       "<table border=\"1\" class=\"dataframe\">\n",
       "  <thead>\n",
       "    <tr style=\"text-align: right;\">\n",
       "      <th></th>\n",
       "      <th>x</th>\n",
       "      <th>y</th>\n",
       "    </tr>\n",
       "  </thead>\n",
       "  <tbody>\n",
       "    <tr>\n",
       "      <th>0</th>\n",
       "      <td>-1.000</td>\n",
       "      <td>-0.500000</td>\n",
       "    </tr>\n",
       "    <tr>\n",
       "      <th>1</th>\n",
       "      <td>-0.889</td>\n",
       "      <td>-0.529381</td>\n",
       "    </tr>\n",
       "    <tr>\n",
       "      <th>2</th>\n",
       "      <td>-0.778</td>\n",
       "      <td>-0.562430</td>\n",
       "    </tr>\n",
       "    <tr>\n",
       "      <th>3</th>\n",
       "      <td>-0.667</td>\n",
       "      <td>-0.599880</td>\n",
       "    </tr>\n",
       "    <tr>\n",
       "      <th>4</th>\n",
       "      <td>-0.556</td>\n",
       "      <td>-0.642674</td>\n",
       "    </tr>\n",
       "    <tr>\n",
       "      <th>5</th>\n",
       "      <td>-0.445</td>\n",
       "      <td>-0.692042</td>\n",
       "    </tr>\n",
       "    <tr>\n",
       "      <th>6</th>\n",
       "      <td>-0.334</td>\n",
       "      <td>-0.749625</td>\n",
       "    </tr>\n",
       "    <tr>\n",
       "      <th>7</th>\n",
       "      <td>-0.223</td>\n",
       "      <td>-0.817661</td>\n",
       "    </tr>\n",
       "    <tr>\n",
       "      <th>8</th>\n",
       "      <td>-0.112</td>\n",
       "      <td>-0.899281</td>\n",
       "    </tr>\n",
       "    <tr>\n",
       "      <th>9</th>\n",
       "      <td>-0.001</td>\n",
       "      <td>-0.999001</td>\n",
       "    </tr>\n",
       "  </tbody>\n",
       "</table>\n",
       "</div>"
      ],
      "text/plain": [
       "       x         y\n",
       "0 -1.000 -0.500000\n",
       "1 -0.889 -0.529381\n",
       "2 -0.778 -0.562430\n",
       "3 -0.667 -0.599880\n",
       "4 -0.556 -0.642674\n",
       "5 -0.445 -0.692042\n",
       "6 -0.334 -0.749625\n",
       "7 -0.223 -0.817661\n",
       "8 -0.112 -0.899281\n",
       "9 -0.001 -0.999001"
      ]
     },
     "execution_count": 10,
     "metadata": {},
     "output_type": "execute_result"
    }
   ],
   "source": [
    "tabla_izquierda(f, c = 0)"
   ]
  },
  {
   "cell_type": "code",
   "execution_count": 11,
   "id": "c1a4854c",
   "metadata": {
    "slideshow": {
     "slide_type": "slide"
    }
   },
   "outputs": [
    {
     "data": {
      "text/html": [
       "<div>\n",
       "<style scoped>\n",
       "    .dataframe tbody tr th:only-of-type {\n",
       "        vertical-align: middle;\n",
       "    }\n",
       "\n",
       "    .dataframe tbody tr th {\n",
       "        vertical-align: top;\n",
       "    }\n",
       "\n",
       "    .dataframe thead th {\n",
       "        text-align: right;\n",
       "    }\n",
       "</style>\n",
       "<table border=\"1\" class=\"dataframe\">\n",
       "  <thead>\n",
       "    <tr style=\"text-align: right;\">\n",
       "      <th></th>\n",
       "      <th>x</th>\n",
       "      <th>y</th>\n",
       "    </tr>\n",
       "  </thead>\n",
       "  <tbody>\n",
       "    <tr>\n",
       "      <th>0</th>\n",
       "      <td>0.001000</td>\n",
       "      <td>-1.001001</td>\n",
       "    </tr>\n",
       "    <tr>\n",
       "      <th>1</th>\n",
       "      <td>0.111889</td>\n",
       "      <td>-1.125985</td>\n",
       "    </tr>\n",
       "    <tr>\n",
       "      <th>2</th>\n",
       "      <td>0.222778</td>\n",
       "      <td>-1.286633</td>\n",
       "    </tr>\n",
       "    <tr>\n",
       "      <th>3</th>\n",
       "      <td>0.333667</td>\n",
       "      <td>-1.500750</td>\n",
       "    </tr>\n",
       "    <tr>\n",
       "      <th>4</th>\n",
       "      <td>0.444556</td>\n",
       "      <td>-1.800360</td>\n",
       "    </tr>\n",
       "    <tr>\n",
       "      <th>5</th>\n",
       "      <td>0.555444</td>\n",
       "      <td>-2.249438</td>\n",
       "    </tr>\n",
       "    <tr>\n",
       "      <th>6</th>\n",
       "      <td>0.666333</td>\n",
       "      <td>-2.997003</td>\n",
       "    </tr>\n",
       "    <tr>\n",
       "      <th>7</th>\n",
       "      <td>0.777222</td>\n",
       "      <td>-4.488778</td>\n",
       "    </tr>\n",
       "    <tr>\n",
       "      <th>8</th>\n",
       "      <td>0.888111</td>\n",
       "      <td>-8.937438</td>\n",
       "    </tr>\n",
       "    <tr>\n",
       "      <th>9</th>\n",
       "      <td>0.999000</td>\n",
       "      <td>-1000.000000</td>\n",
       "    </tr>\n",
       "  </tbody>\n",
       "</table>\n",
       "</div>"
      ],
      "text/plain": [
       "          x            y\n",
       "0  0.001000    -1.001001\n",
       "1  0.111889    -1.125985\n",
       "2  0.222778    -1.286633\n",
       "3  0.333667    -1.500750\n",
       "4  0.444556    -1.800360\n",
       "5  0.555444    -2.249438\n",
       "6  0.666333    -2.997003\n",
       "7  0.777222    -4.488778\n",
       "8  0.888111    -8.937438\n",
       "9  0.999000 -1000.000000"
      ]
     },
     "execution_count": 11,
     "metadata": {},
     "output_type": "execute_result"
    }
   ],
   "source": [
    "tabla_derecha(f, c = 0)"
   ]
  },
  {
   "cell_type": "markdown",
   "id": "9d494e7d",
   "metadata": {},
   "source": [
    "## Solución: "
   ]
  },
  {
   "cell_type": "markdown",
   "id": "637dced2",
   "metadata": {},
   "source": [
    "### Inferencias de la lectura a la tabla que representa la función en su comportamiento a la izquierda de cero\n",
    "\n",
    "$$ \\lim_{x \\to 0^{-}} \\frac{x}{x^{2} - x} = -1 $$\n",
    "\n",
    "$$ \\lim_{x \\to 0^{+}} \\frac{x}{x^{2} - x} = -1 $$\n",
    "\n",
    "de donde \n",
    "\n",
    "$$ \\lim_{x \\to 0} \\frac{x}{x^{2} - x} = -1 $$"
   ]
  },
  {
   "cell_type": "code",
   "execution_count": null,
   "id": "84706dd9",
   "metadata": {},
   "outputs": [],
   "source": []
  }
 ],
 "metadata": {
  "celltoolbar": "Slideshow",
  "kernelspec": {
   "display_name": "Python 3 (ipykernel)",
   "language": "python",
   "name": "python3"
  },
  "language_info": {
   "codemirror_mode": {
    "name": "ipython",
    "version": 3
   },
   "file_extension": ".py",
   "mimetype": "text/x-python",
   "name": "python",
   "nbconvert_exporter": "python",
   "pygments_lexer": "ipython3",
   "version": "3.9.13"
  }
 },
 "nbformat": 4,
 "nbformat_minor": 5
}
