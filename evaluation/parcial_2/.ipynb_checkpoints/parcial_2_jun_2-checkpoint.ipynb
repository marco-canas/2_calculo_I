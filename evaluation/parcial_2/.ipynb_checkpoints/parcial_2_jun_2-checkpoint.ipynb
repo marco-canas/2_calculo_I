{
 "cells": [
  {
   "cell_type": "markdown",
   "id": "8441d4c1",
   "metadata": {
    "slideshow": {
     "slide_type": "slide"
    }
   },
   "source": [
    "## punto sobre funciones\n",
    "\n",
    "1. Qué es el dominio de una función?\n",
    "\n",
    "Son todos los que pueden entrar a la función. \n",
    "\n",
    "2. De un ejemplo de una función y su dominio\n",
    "\n",
    "3. De que maneras se puede expresar el dominio de una función?\n",
    "\n",
    "   - como desigualdad\n",
    "   - como intervalo\n",
    "   - de manera gráfica\n",
    "\n",
    "2. ¿Qué es el rango de una función?\n",
    "\n",
    "El conjunto de todos los que salen. "
   ]
  },
  {
   "cell_type": "markdown",
   "id": "b3468ba4",
   "metadata": {
    "slideshow": {
     "slide_type": "slide"
    }
   },
   "source": [
    "## Quiz de selección multiple de 3 preguntas"
   ]
  },
  {
   "cell_type": "code",
   "execution_count": 1,
   "id": "9fcc4655",
   "metadata": {
    "slideshow": {
     "slide_type": "slide"
    }
   },
   "outputs": [
    {
     "name": "stdout",
     "output_type": "stream",
     "text": [
      "Pregunta 1:\n",
      "1. ¿Cuál es la derivada de la función f(x) = 3x^2?\n",
      "a. f'(x) = 6x\n",
      "b. f'(x) = 3x\n",
      "c. f'(x) = 2x^2\n",
      "d. f'(x) = 9x\n",
      "Selecciona la opción correcta (a, b, c o d): a\n",
      "Pregunta 2:\n",
      "2. ¿Cuál es la integral indefinida de la función f(x) = 4x^3?\n",
      "a. F(x) = x^4\n",
      "b. F(x) = 2x^4\n",
      "c. F(x) = 4x^4\n",
      "d. F(x) = x^3\n",
      "Selecciona la opción correcta (a, b, c o d): a\n",
      "Pregunta 3:\n",
      "3. ¿Cuál es la derivada de la función f(x) = sin(x)?\n",
      "a. f'(x) = cos(x)\n",
      "b. f'(x) = -sin(x)\n",
      "c. f'(x) = cos^2(x)\n",
      "d. f'(x) = 1\n",
      "Selecciona la opción correcta (a, b, c o d): a\n",
      "Tu puntuación final es: 3/3\n"
     ]
    }
   ],
   "source": [
    "import random\n",
    "\n",
    "def pregunta_1():\n",
    "    print(\"1. ¿Cuál es la derivada de la función f(x) = 3x^2?\")\n",
    "    opciones = [\"a. f'(x) = 6x\", \"b. f'(x) = 3x\", \"c. f'(x) = 2x^2\", \"d. f'(x) = 9x\"]\n",
    "    respuesta_correcta = \"a\"\n",
    "    return opciones, respuesta_correcta\n",
    "\n",
    "def pregunta_2():\n",
    "    print(\"2. ¿Cuál es la integral indefinida de la función f(x) = 4x^3?\")\n",
    "    opciones = [\"a. F(x) = x^4\", \"b. F(x) = 2x^4\", \"c. F(x) = 4x^4\", \"d. F(x) = x^3\"]\n",
    "    respuesta_correcta = \"a\"\n",
    "    return opciones, respuesta_correcta\n",
    "\n",
    "def pregunta_3():\n",
    "    print(\"3. ¿Cuál es la derivada de la función f(x) = sin(x)?\")\n",
    "    opciones = [\"a. f'(x) = cos(x)\", \"b. f'(x) = -sin(x)\", \"c. f'(x) = cos^2(x)\", \"d. f'(x) = 1\"]\n",
    "    respuesta_correcta = \"a\"\n",
    "    return opciones, respuesta_correcta\n",
    "\n",
    "preguntas = [pregunta_1, pregunta_2, pregunta_3]\n",
    "puntuacion_total = 0\n",
    "\n",
    "random.shuffle(preguntas)\n",
    "\n",
    "for indice, pregunta in enumerate(preguntas):\n",
    "    print(f\"Pregunta {indice + 1}:\")\n",
    "    opciones, respuesta_correcta = pregunta()\n",
    "    for opcion in opciones:\n",
    "        print(opcion)\n",
    "    respuesta_usuario = input(\"Selecciona la opción correcta (a, b, c o d): \")\n",
    "    if respuesta_usuario == respuesta_correcta:\n",
    "        puntuacion_total += 1\n",
    "\n",
    "print(f\"Tu puntuación final es: {puntuacion_total}/{len(preguntas)}\")\n"
   ]
  },
  {
   "cell_type": "markdown",
   "id": "a4365784",
   "metadata": {
    "slideshow": {
     "slide_type": "slide"
    }
   },
   "source": [
    "# Ahora, un parcial de 20 preguntas de selección multiple"
   ]
  },
  {
   "cell_type": "code",
   "execution_count": 2,
   "id": "01a7a846",
   "metadata": {
    "slideshow": {
     "slide_type": "slide"
    }
   },
   "outputs": [
    {
     "ename": "NameError",
     "evalue": "name 'pregunta_4' is not defined",
     "output_type": "error",
     "traceback": [
      "\u001b[1;31m---------------------------------------------------------------------------\u001b[0m",
      "\u001b[1;31mNameError\u001b[0m                                 Traceback (most recent call last)",
      "\u001b[1;32m~\\AppData\\Local\\Temp\\ipykernel_6564\\2631343706.py\u001b[0m in \u001b[0;36m<module>\u001b[1;34m\u001b[0m\n\u001b[0;32m     21\u001b[0m     \u001b[1;32mreturn\u001b[0m \u001b[0mopciones\u001b[0m\u001b[1;33m,\u001b[0m \u001b[0mrespuesta_correcta\u001b[0m\u001b[1;33m\u001b[0m\u001b[1;33m\u001b[0m\u001b[0m\n\u001b[0;32m     22\u001b[0m \u001b[1;33m\u001b[0m\u001b[0m\n\u001b[1;32m---> 23\u001b[1;33m preguntas = [pregunta_1, pregunta_2, pregunta_3, pregunta_4, pregunta_5,\n\u001b[0m\u001b[0;32m     24\u001b[0m              \u001b[0mpregunta_6\u001b[0m\u001b[1;33m,\u001b[0m \u001b[0mpregunta_7\u001b[0m\u001b[1;33m,\u001b[0m \u001b[0mpregunta_8\u001b[0m\u001b[1;33m,\u001b[0m \u001b[0mpregunta_9\u001b[0m\u001b[1;33m,\u001b[0m \u001b[0mpregunta_10\u001b[0m\u001b[1;33m,\u001b[0m\u001b[1;33m\u001b[0m\u001b[1;33m\u001b[0m\u001b[0m\n\u001b[0;32m     25\u001b[0m              \u001b[0mpregunta_11\u001b[0m\u001b[1;33m,\u001b[0m \u001b[0mpregunta_12\u001b[0m\u001b[1;33m,\u001b[0m \u001b[0mpregunta_13\u001b[0m\u001b[1;33m,\u001b[0m \u001b[0mpregunta_14\u001b[0m\u001b[1;33m,\u001b[0m \u001b[0mpregunta_15\u001b[0m\u001b[1;33m,\u001b[0m\u001b[1;33m\u001b[0m\u001b[1;33m\u001b[0m\u001b[0m\n",
      "\u001b[1;31mNameError\u001b[0m: name 'pregunta_4' is not defined"
     ]
    }
   ],
   "source": [
    "import random\n",
    "\n",
    "def pregunta_1():\n",
    "    print(\"1. ¿Cuál es la derivada de la función f(x) = 3x^2?\")\n",
    "    opciones = [\"a. f'(x) = 6x\", \"b. f'(x) = 3x\", \"c. f'(x) = 2x^2\", \"d. f'(x) = 9x\"]\n",
    "    respuesta_correcta = \"a\"\n",
    "    return opciones, respuesta_correcta\n",
    "\n",
    "def pregunta_2():\n",
    "    print(\"2. ¿Cuál es la integral indefinida de la función f(x) = 4x^3?\")\n",
    "    opciones = [\"a. F(x) = x^4\", \"b. F(x) = 2x^4\", \"c. F(x) = 4x^4\", \"d. F(x) = x^3\"]\n",
    "    respuesta_correcta = \"a\"\n",
    "    return opciones, respuesta_correcta\n",
    "\n",
    "def pregunta_3():\n",
    "    print(\"2. ¿Cuál es derivada de f(x) = x^3?\")\n",
    "    opciones = [\"a. f'(x) = x^4\", \"b. f'(x) = 2x^4\", \"c. f'(x) = 3x^2\", \"d. f'(x) = x^3\"]\n",
    "    respuesta_correcta = \"a\"\n",
    "    return opciones, respuesta_correcta\n",
    "\n",
    "# Agrega más funciones de pregunta aquí...\n",
    "\n",
    "def pregunta_20():\n",
    "    print(\"20. ¿Cuál es la derivada de la función f(x) = e^x?\")\n",
    "    opciones = [\"a. f'(x) = e^x\", \"b. f'(x) = ln(x)\", \"c. f'(x) = x^2\", \"d. f'(x) = cos(x)\"]\n",
    "    respuesta_correcta = \"a\"\n",
    "    return opciones, respuesta_correcta\n",
    "\n",
    "preguntas = [pregunta_1, pregunta_2, pregunta_3, pregunta_4, pregunta_5,\n",
    "             pregunta_6, pregunta_7, pregunta_8, pregunta_9, pregunta_10,\n",
    "             pregunta_11, pregunta_12, pregunta_13, pregunta_14, pregunta_15,\n",
    "             pregunta_16, pregunta_17, pregunta_18, pregunta_19, pregunta_20]\n",
    "\n",
    "random.shuffle(preguntas)\n",
    "\n",
    "puntuacion_total = 0\n",
    "\n",
    "for indice, pregunta in enumerate(preguntas):\n",
    "    print(f\"Pregunta {indice + 1}:\")\n",
    "    opciones, respuesta_correcta = pregunta()\n",
    "    for opcion in opciones:\n",
    "        print(opcion)\n",
    "    respuesta_usuario = input(\"Selecciona la opción correcta (a, b, c o d): \")\n",
    "    if respuesta_usuario == respuesta_correcta:\n",
    "        puntuacion_total += 1\n",
    "\n",
    "print(f\"Tu puntuación final es: {puntuacion_total}/{len(preguntas)}\")\n"
   ]
  },
  {
   "cell_type": "code",
   "execution_count": null,
   "id": "c2139eac",
   "metadata": {},
   "outputs": [],
   "source": []
  },
  {
   "cell_type": "markdown",
   "id": "0e7eb4c9",
   "metadata": {},
   "source": [
    "Punto 1  \n",
    "\n",
    "a) Qué significa el símbolo\n",
    "\n",
    "$$ D_{x}f(x), \\ \\ \\ \\frac{dy}{dx}, \\ \\ \\ \\ f'(x), \\ \\ \\ \\ \\frac{d}{dx} f(x) $$\n",
    "\n",
    "y cómo se lee. \n",
    "\n",
    "b) calcule la derivada de la función $x^{2}$, por derifición"
   ]
  },
  {
   "cell_type": "markdown",
   "id": "f8724ee6",
   "metadata": {
    "slideshow": {
     "slide_type": "slide"
    }
   },
   "source": [
    "## Punto sobre aplicación de las reglas de derivación  \n",
    "\n",
    "$$ y = (5x^{2} - 7)(3x^{2} - 2x + 1) $$\n",
    "[Solución en symbolab](https://es.symbolab.com/solver/step-by-step/%20y%20%3D%20%5Cleft(5x%5E%7B2%7D%20-%207%5Cright)%5Cleft(3x%5E%7B2%7D%20-%202x%20%2B%201%5Cright)%20?or=input)\n",
    "1. Identifique la función\n",
    "\n",
    "Esta es una función polinómica de grado 4. "
   ]
  },
  {
   "cell_type": "markdown",
   "id": "e37e720e",
   "metadata": {
    "slideshow": {
     "slide_type": "slide"
    }
   },
   "source": [
    "## Punto de aplicación\n",
    "\n",
    "Una aplicación sobre optimización en el campo agropecuario. "
   ]
  }
 ],
 "metadata": {
  "celltoolbar": "Slideshow",
  "kernelspec": {
   "display_name": "Python 3 (ipykernel)",
   "language": "python",
   "name": "python3"
  },
  "language_info": {
   "codemirror_mode": {
    "name": "ipython",
    "version": 3
   },
   "file_extension": ".py",
   "mimetype": "text/x-python",
   "name": "python",
   "nbconvert_exporter": "python",
   "pygments_lexer": "ipython3",
   "version": "3.9.13"
  },
  "rise": {
   "enable_chalkboard": true,
   "theme": "sky",
   "transition": "zoom"
  }
 },
 "nbformat": 4,
 "nbformat_minor": 5
}
