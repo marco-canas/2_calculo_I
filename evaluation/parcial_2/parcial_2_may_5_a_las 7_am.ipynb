{
 "cells": [
  {
   "cell_type": "markdown",
   "id": "8441d4c1",
   "metadata": {
    "slideshow": {
     "slide_type": "slide"
    }
   },
   "source": [
    "## punto sobre funciones\n",
    "\n",
    "1. Qué es el dominio de una función?\n",
    "\n",
    "Son todos los que pueden entrar a la función. \n",
    "\n",
    "2. De un ejemplo de una función y su dominio\n",
    "\n",
    "3. De que maneras se puede expresar el dominio de una función?\n",
    "\n",
    "   - como desigualdad\n",
    "   - como intervalo\n",
    "   - de manera gráfica\n",
    "\n",
    "2. ¿Qué es el rango de una función?\n",
    "\n",
    "El conjunto de todos los que salen. "
   ]
  },
  {
   "cell_type": "markdown",
   "id": "0e7eb4c9",
   "metadata": {},
   "source": [
    "Punto 1  \n",
    "\n",
    "a) Qué significa el símbolo\n",
    "\n",
    "$$ D_{x}f(x), \\ \\ \\ \\frac{dy}{dx}, \\ \\ \\ \\ f'(x), \\ \\ \\ \\ \\frac{d}{dx} f(x) $$\n",
    "\n",
    "y cómo se lee. \n",
    "\n",
    "b) calcule la derivada de la función $x^{2}$, por derifición"
   ]
  },
  {
   "cell_type": "markdown",
   "id": "f8724ee6",
   "metadata": {
    "slideshow": {
     "slide_type": "slide"
    }
   },
   "source": [
    "## Punto sobre aplicación de las reglas de derivación  \n",
    "\n",
    "$$ y = (5x^{2} - 7)(3x^{2} - 2x + 1) $$\n",
    "[Solución en symbolab](https://es.symbolab.com/solver/step-by-step/%20y%20%3D%20%5Cleft(5x%5E%7B2%7D%20-%207%5Cright)%5Cleft(3x%5E%7B2%7D%20-%202x%20%2B%201%5Cright)%20?or=input)\n",
    "1. Identifique la función\n",
    "\n",
    "Esta es una función polinómica de grado 4. "
   ]
  },
  {
   "cell_type": "markdown",
   "id": "e37e720e",
   "metadata": {
    "slideshow": {
     "slide_type": "slide"
    }
   },
   "source": [
    "## Punto de aplicación\n",
    "\n",
    "Una aplicación sobre optimización en el campo agropecuario. "
   ]
  }
 ],
 "metadata": {
  "celltoolbar": "Slideshow",
  "kernelspec": {
   "display_name": "Python 3 (ipykernel)",
   "language": "python",
   "name": "python3"
  },
  "language_info": {
   "codemirror_mode": {
    "name": "ipython",
    "version": 3
   },
   "file_extension": ".py",
   "mimetype": "text/x-python",
   "name": "python",
   "nbconvert_exporter": "python",
   "pygments_lexer": "ipython3",
   "version": "3.9.13"
  },
  "rise": {
   "enable_chalkboard": true,
   "theme": "sky",
   "transition": "zoom"
  }
 },
 "nbformat": 4,
 "nbformat_minor": 5
}
