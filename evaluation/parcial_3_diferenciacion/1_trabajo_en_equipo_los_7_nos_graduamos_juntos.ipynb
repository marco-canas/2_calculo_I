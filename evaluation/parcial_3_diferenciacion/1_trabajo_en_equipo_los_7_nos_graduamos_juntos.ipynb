{
 "cells": [
  {
   "cell_type": "markdown",
   "id": "71295b26",
   "metadata": {
    "slideshow": {
     "slide_type": "slide"
    }
   },
   "source": [
    "Ejercicio 1 "
   ]
  },
  {
   "cell_type": "markdown",
   "id": "06571baa",
   "metadata": {
    "slideshow": {
     "slide_type": "slide"
    }
   },
   "source": [
    "En los problemas del 1 al 12 se dan una función f y su dominio. Deter\u0002mine los puntos críticos, evalúe f en estos puntos y encuentre los valo\u0002res máximo y mínimo (globales)\n",
    "\n",
    "Página 223 del PDF del Purcell(Página 210 del libro)\n",
    "\n",
    "$$ f(x) = x^{2} - 2x; [0,4] $$"
   ]
  },
  {
   "cell_type": "code",
   "execution_count": 1,
   "id": "c54dcab9",
   "metadata": {
    "slideshow": {
     "slide_type": "slide"
    }
   },
   "outputs": [
    {
     "data": {
      "image/png": "[encoded data removed]",
      "text/plain": [
       "<Figure size 640x480 with 1 Axes>"
      ]
     },
     "metadata": {},
     "output_type": "display_data"
    }
   ],
   "source": [
    "import numpy as np\n",
    "\n",
    "import matplotlib.pyplot as plt \n",
    "\n",
    "dominio = np.arange(0,4+0.05, 0.05)\n",
    "def f(x):\n",
    "    return x**2 - 2*x\n",
    "\n",
    "rango = f(dominio) \n",
    "\n",
    "plt.plot(dominio, rango)\n",
    "plt.grid()"
   ]
  },
  {
   "cell_type": "code",
   "execution_count": 9,
   "id": "9ed0a4db",
   "metadata": {
    "slideshow": {
     "slide_type": "slide"
    }
   },
   "outputs": [
    {
     "data": {
      "text/plain": [
       "[1]"
      ]
     },
     "execution_count": 9,
     "metadata": {},
     "output_type": "execute_result"
    }
   ],
   "source": [
    "from sympy import diff, Eq, solve, var\n",
    "\n",
    "x, f = var('x,f')\n",
    "funcion = x**2-2*x\n",
    "solve(Eq(diff(funcion, x), 0)) "
   ]
  },
  {
   "cell_type": "code",
   "execution_count": 12,
   "id": "043cb87f",
   "metadata": {
    "slideshow": {
     "slide_type": "slide"
    }
   },
   "outputs": [
    {
     "data": {
      "text/plain": [
       "0"
      ]
     },
     "execution_count": 12,
     "metadata": {},
     "output_type": "execute_result"
    }
   ],
   "source": [
    "f(0)"
   ]
  },
  {
   "cell_type": "code",
   "execution_count": 13,
   "id": "60ee76f3",
   "metadata": {
    "slideshow": {
     "slide_type": "slide"
    }
   },
   "outputs": [
    {
     "data": {
      "text/plain": [
       "8"
      ]
     },
     "execution_count": 13,
     "metadata": {},
     "output_type": "execute_result"
    }
   ],
   "source": [
    "f(4)"
   ]
  },
  {
   "cell_type": "code",
   "execution_count": 14,
   "id": "8548d3c8",
   "metadata": {
    "slideshow": {
     "slide_type": "slide"
    }
   },
   "outputs": [
    {
     "data": {
      "text/plain": [
       "-1"
      ]
     },
     "execution_count": 14,
     "metadata": {},
     "output_type": "execute_result"
    }
   ],
   "source": [
    "f(1)"
   ]
  },
  {
   "cell_type": "markdown",
   "id": "845ae6f5",
   "metadata": {
    "slideshow": {
     "slide_type": "slide"
    }
   },
   "source": [
    "Comclusiones\n",
    "\n",
    "* El valor m´nimo de $f$ es -1 y se en $x = 1$\n",
    "* El valor máximo de $f$ es 8 y se da en $x = 4$ \n"
   ]
  },
  {
   "cell_type": "code",
   "execution_count": null,
   "id": "a127196a",
   "metadata": {
    "slideshow": {
     "slide_type": "slide"
    }
   },
   "outputs": [],
   "source": []
  }
 ],
 "metadata": {
  "celltoolbar": "Slideshow",
  "kernelspec": {
   "display_name": "Python 3 (ipykernel)",
   "language": "python",
   "name": "python3"
  },
  "language_info": {
   "codemirror_mode": {
    "name": "ipython",
    "version": 3
   },
   "file_extension": ".py",
   "mimetype": "text/x-python",
   "name": "python",
   "nbconvert_exporter": "python",
   "pygments_lexer": "ipython3",
   "version": "3.9.13"
  },
  "rise": {
   "enable_chalkboard": true,
   "theme": "sky",
   "transition": "sky"
  }
 },
 "nbformat": 4,
 "nbformat_minor": 5
}
