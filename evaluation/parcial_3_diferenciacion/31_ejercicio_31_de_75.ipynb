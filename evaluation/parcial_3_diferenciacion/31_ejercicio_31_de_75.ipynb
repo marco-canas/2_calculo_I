{
 "cells": [
  {
   "cell_type": "markdown",
   "id": "dc06dec7",
   "metadata": {
    "slideshow": {
     "slide_type": "slide"
    }
   },
   "source": [
    "<table align=\"left\">\n",
    "  <td>\n",
    "    <a href=\"https://colab.research.google.com/github/marco-canas/4_didactica_aritmetica/blob/main/modelo_general_clase_aula_invertida.ipynb\" target=\"_parent\"><img src=\"https://colab.research.google.com/assets/colab-badge.svg\" alt=\"Open In Colab\"/></a>\n",
    "  </td>\n",
    "</table>"
   ]
  },
  {
   "cell_type": "markdown",
   "id": "e0c5b198",
   "metadata": {
    "slideshow": {
     "slide_type": "slide"
    }
   },
   "source": [
    "### [Video de apoyo a la lectura interactiva y experimental de este cuaderno](https://www.youtube.com/watch?v=PbMwBTSqLB4)"
   ]
  },
  {
   "cell_type": "markdown",
   "id": "41e82203",
   "metadata": {
    "slideshow": {
     "slide_type": "slide"
    }
   },
   "source": [
    "## [Vínculo al programa del curso:  ]()\n",
    "\n",
    "* Todos los profesores debemos proponer objetivos de formación\n",
    "* Propuesta de evaluación \n",
    "* Y propuesta de metodología\n",
    "* Y propuesta de bibliografía. "
   ]
  },
  {
   "cell_type": "markdown",
   "id": "d11ab06d",
   "metadata": {
    "slideshow": {
     "slide_type": "slide"
    }
   },
   "source": [
    "Un reconocimiento a mis estudiantes que han construido conmigo este saber pedagógico:\n",
    "\n",
    "<img src = ''> \n",
    "\n"
   ]
  },
  {
   "cell_type": "markdown",
   "id": "5e3936d8",
   "metadata": {
    "slideshow": {
     "slide_type": "slide"
    }
   },
   "source": []
  },
  {
   "cell_type": "code",
   "execution_count": 1,
   "id": "7604880f",
   "metadata": {
    "slideshow": {
     "slide_type": "slide"
    }
   },
   "outputs": [],
   "source": [
    "# Llamar a lista o tomar asistencia con \n",
    "# python o llamar el equipo para la tarea con video y cuaderno \n",
    "# Jupyter sobre medición indirecta de grandes alturas con imágenes\n",
    "def crear_lista_estudiantes(ubicacion_lista):\n",
    "    \"\"\"\n",
    "    \"\"\"\n",
    "    import pandas as pd     \n",
    "    grupo_df = pd.read_csv(ubicacion_lista, sep = ';') \n",
    "    # cuando el .csv file proviene de un .xlsx file, debe utilizarse sep = ';'\n",
    "    lista_estudiantes = list(grupo_df.nombre.values)\n",
    "    return lista_estudiantes "
   ]
  },
  {
   "cell_type": "code",
   "execution_count": 2,
   "id": "a359c096",
   "metadata": {
    "slideshow": {
     "slide_type": "slide"
    }
   },
   "outputs": [],
   "source": [
    "#llamar a lista o tomar registro de asistencia a clase\n",
    "def llamar_estudiantes_a_participar():\n",
    "    import numpy as np \n",
    "    from random import choice\n",
    "    if len(lista_estudiantes) != 0:\n",
    "        estudiante = choice(lista_estudiantes)\n",
    "        lista_estudiantes.remove(estudiante)\n",
    "        print(estudiante)\n",
    "    else:\n",
    "        print('Todos los estudiantes han participado.\\n \\\n",
    "               Muchas gracias y Felicitaciones')"
   ]
  },
  {
   "cell_type": "code",
   "execution_count": 3,
   "id": "37ae00fb",
   "metadata": {
    "slideshow": {
     "slide_type": "slide"
    }
   },
   "outputs": [],
   "source": [
    "ubicacion_lista='https://raw.githubusercontent.com/marco-canas/groups_list/main/2_calculo.csv'\n",
    "lista_estudiantes = crear_lista_estudiantes(ubicacion_lista)"
   ]
  },
  {
   "cell_type": "code",
   "execution_count": 4,
   "id": "33f85aea",
   "metadata": {
    "scrolled": true,
    "slideshow": {
     "slide_type": "slide"
    }
   },
   "outputs": [
    {
     "name": "stdout",
     "output_type": "stream",
     "text": [
      "TREJO CORDOBA DUVAN STEVEN\n"
     ]
    }
   ],
   "source": [
    "llamar_estudiantes_a_participar()"
   ]
  },
  {
   "cell_type": "markdown",
   "id": "4f9d8cf9",
   "metadata": {
    "slideshow": {
     "slide_type": "slide"
    }
   },
   "source": [
    "# Modelo general de clase: [aula invertida](https://www3.gobiernodecanarias.org/medusa/ecoescuela/pedagotic/aprendizaje-invertido-flipped-classroom/)"
   ]
  },
  {
   "cell_type": "markdown",
   "id": "777dbcb1",
   "metadata": {
    "slideshow": {
     "slide_type": "fragment"
    }
   },
   "source": [
    "## Definición y características de este [modelo](https://udearroba.udea.edu.co/blog/aprendizaje-invertido-otras-formas-de-ensenar-y-aprender/)  "
   ]
  },
  {
   "cell_type": "markdown",
   "id": "ed484cc1",
   "metadata": {
    "slideshow": {
     "slide_type": "fragment"
    }
   },
   "source": [
    "El aprendizaje invertido es un enfoque pedagógico que posibilita trascender del modelo tradicional de enseñanza. "
   ]
  },
  {
   "cell_type": "markdown",
   "id": "b3c6a8b1",
   "metadata": {
    "slideshow": {
     "slide_type": "fragment"
    }
   },
   "source": [
    "Dicho enfoque hace uso de entornos virtuales, en los cuales el docente dispone de una serie de recursos para abordar la enseñanza de los contenidos. "
   ]
  },
  {
   "cell_type": "markdown",
   "id": "2a9b05ad",
   "metadata": {
    "slideshow": {
     "slide_type": "fragment"
    }
   },
   "source": [
    "Uno de los recursos más utilizados es **la videoclase**, pues permite que los estudiantes puedan escuchar y observar al docente mientras explica una temática, así como demostraciones y procedimientos específicos. "
   ]
  },
  {
   "cell_type": "markdown",
   "id": "8da1d0f0",
   "metadata": {
    "slideshow": {
     "slide_type": "fragment"
    }
   },
   "source": [
    "Por tanto, este recurso resulta valioso para los estudiantes, quienes podrán revisarlo en el espacio temporal que deseen y las veces que lo consideren necesario para su aprendizaje. "
   ]
  },
  {
   "cell_type": "markdown",
   "id": "df333966",
   "metadata": {
    "slideshow": {
     "slide_type": "fragment"
    }
   },
   "source": [
    "Adicionalmente, es importante que \n",
    "* los docentes dispongan las indicaciones o instrucciones -por fuera del aula- en relación con las actividades/prácticas/ejercicios que los estudiantes deben llevar a cabo. "
   ]
  },
  {
   "cell_type": "markdown",
   "id": "ca46c23b",
   "metadata": {
    "slideshow": {
     "slide_type": "fragment"
    }
   },
   "source": [
    "Por ende, se espera que los estudiantes hagan la revisión de contenidos e indicaciones de manera previa al **encuentro sincrónico**."
   ]
  },
  {
   "cell_type": "markdown",
   "id": "d2b0e776",
   "metadata": {
    "slideshow": {
     "slide_type": "slide"
    }
   },
   "source": [
    "## ¿Qué es?  \n",
    "\n",
    "Flipped Learning o aprendizaje invertido es un enfoque pedagógico en el que:  \n",
    "\n",
    "* la instrucción directa se realiza fuera del aula y \n",
    "* se utiliza el tiempo de clase para llevar a cabo actividades que impliquen el desarrollo de procesos cognitivos de mayor complejidad, en las que son necesarias la ayuda y la experiencia del docente."
   ]
  },
  {
   "cell_type": "markdown",
   "id": "5fc4f731",
   "metadata": {
    "slideshow": {
     "slide_type": "slide"
    }
   },
   "source": [
    "## ¿Para qué sirve?  \n",
    "\n",
    "Mejora el proceso de enseñanza-aprendizaje realizando,   \n",
    "\n",
    "* fuera del aula, actividades de aprendizaje sencillas (observar, memorizar, resumir, etc.) y, \n",
    "* en el aula, actividades más complejas (razonar, examinar, priorizar, argumentar, proponer, etc.) que requieren la interacción entre iguales y la ayuda del docente como facilitador."
   ]
  },
  {
   "cell_type": "markdown",
   "id": "b42472d6",
   "metadata": {
    "slideshow": {
     "slide_type": "slide"
    }
   },
   "source": [
    "<img src = 'https://github.com/marco-canas/7_didactica_ciencia_datos/blob/main/propuesta/unidad_didac/atributos_aprendizaje_invertido.png?raw=true'>"
   ]
  },
  {
   "cell_type": "markdown",
   "id": "8cee33b3",
   "metadata": {
    "slideshow": {
     "slide_type": "slide"
    }
   },
   "source": [
    "# Proceso Flipped Learning\n",
    "\n",
    "## Fuera del Aula\n",
    "\n",
    "### Docente:"
   ]
  },
  {
   "cell_type": "markdown",
   "id": "5b022dc9",
   "metadata": {
    "slideshow": {
     "slide_type": "slide"
    }
   },
   "source": [
    "* Diseña y planea el proceso de enseñanza-aprendizaje del aula, integrando estrategias, modelos de enseñanza y metodologías (aprendizaje basado en proyectos, aprendizaje cooperativo y colaborativo,…).  \n",
    "\n",
    "* Diseña y planea actividades que se realizarán fuera del aula (ver vídeos, cumplimentar cuestionarios,…).  \n",
    "\n",
    "* Selecciona e integra la tecnología en actividades de aprendizaje activo.  \n",
    "\n",
    "* Diseña actividades de evaluación que promuevan el aprendizaje del alumnado."
   ]
  },
  {
   "cell_type": "markdown",
   "id": "467fb978",
   "metadata": {
    "slideshow": {
     "slide_type": "slide"
    }
   },
   "source": [
    "### Alumnado:"
   ]
  },
  {
   "cell_type": "markdown",
   "id": "87d6d661",
   "metadata": {
    "slideshow": {
     "slide_type": "slide"
    }
   },
   "source": [
    "* Accede, cuantas veces necesite, a las actividades facilitadas por el profesorado.\n",
    "* Realiza las actividades propuestas."
   ]
  },
  {
   "cell_type": "markdown",
   "id": "93cd48b6",
   "metadata": {
    "slideshow": {
     "slide_type": "slide"
    }
   },
   "source": [
    "## En el Aula"
   ]
  },
  {
   "cell_type": "markdown",
   "id": "79ea8675",
   "metadata": {
    "slideshow": {
     "slide_type": "fragment"
    }
   },
   "source": [
    "### Docente:"
   ]
  },
  {
   "cell_type": "markdown",
   "id": "d4d6f829",
   "metadata": {
    "slideshow": {
     "slide_type": "fragment"
    }
   },
   "source": [
    "* Guía y facilita los procesos de aprendizaje, atendiendo a la diversidad.\n",
    "* Retroalimenta el desempeño de los equipos/grupos y del alumnado individualmente.\n",
    "* Genera espacios para la coevaluación y autoevaluación."
   ]
  },
  {
   "cell_type": "markdown",
   "id": "7178794c",
   "metadata": {
    "slideshow": {
     "slide_type": "slide"
    }
   },
   "source": [
    "### Alumnado:"
   ]
  },
  {
   "cell_type": "markdown",
   "id": "88d1c0f7",
   "metadata": {
    "slideshow": {
     "slide_type": "slide"
    }
   },
   "source": [
    "* Realiza las actividades (debates, exposiciones orales, informes, diario de aprendizaje, cuaderno de trabajo cooperativo,…).\n",
    "* Recibe retroalimentación inmediata del profesorado y de sus compañeros y compañeras.\n",
    "* Accede, si fuera necesario, a las actividades previas facilitadas por el profesorado."
   ]
  },
  {
   "cell_type": "markdown",
   "id": "7dbfc4b9",
   "metadata": {
    "slideshow": {
     "slide_type": "slide"
    }
   },
   "source": [
    "## Ventajas de Flipped Learning  \n",
    "\n",
    "1. Incrementa el compromiso del alumnado porque éste se hace corresponsable de su aprendizaje y participa en él de forma activa mediante actividades de cooperación y colaboración en clase.  \n",
    "\n",
    "2. Permite que el alumnado aprenda a su propio ritmo, ya que tiene la posibilidad de acceder al material facilitado por el profesorado en cualquier momento y en cualquier lugar, todas las veces que necesite."
   ]
  },
  {
   "cell_type": "markdown",
   "id": "8d97dc80",
   "metadata": {
    "slideshow": {
     "slide_type": "slide"
    }
   },
   "source": [
    "## Fomento de la lectura literaria asociada a Ingeniería agropecuaria y licenciatura en Matemáticas\n",
    "\n",
    "### DAR DESDE EL CORAZÓN\n",
    "#### La esencia de la comunicación no violenta  \n",
    "\n",
    "Lo que quiero en la vida es compasión,  \n",
    "una corriente que fluya entre los demás y yo,\n",
    "basada en un mutuo dar desde el corazón.  \n",
    "\n",
    "[MARSHALL ROSENBERG](https://udeaeduco-my.sharepoint.com/:b:/g/personal/marco_canas_udea_edu_co/Efb_5fC50D5JnA4BzTKzgsIB9UeMjgs1kCU-sROZDlWTGw?e=gjRMdZ)"
   ]
  },
  {
   "cell_type": "markdown",
   "id": "bff96119",
   "metadata": {
    "slideshow": {
     "slide_type": "slide"
    }
   },
   "source": [
    "### Introducción"
   ]
  },
  {
   "cell_type": "markdown",
   "id": "c2ca8f2e",
   "metadata": {
    "slideshow": {
     "slide_type": "slide"
    }
   },
   "source": [
    "Como estoy plenamente convencido de que forma parte intrínseca de nuestra naturaleza sentirnos satisfechos cuando damos y recibimos algo de manera compasiva o solidaria, hay dos preguntas que me han preocupado durante la mayor parte de mi vida. "
   ]
  },
  {
   "cell_type": "markdown",
   "id": "4e4614ff",
   "metadata": {
    "slideshow": {
     "slide_type": "slide"
    }
   },
   "source": [
    "¿Qué ocurre que nos desconecta de nuestra naturaleza solidaria y nos lleva a comportarnos de manera violenta y abusiva?"
   ]
  },
  {
   "cell_type": "markdown",
   "id": "86dee509",
   "metadata": {
    "slideshow": {
     "slide_type": "slide"
    }
   },
   "source": [
    " Y a la inversa, ¿por qué algunas personas son consecuentes con esta actitud solidaria incluso en las circunstancias más adversas?"
   ]
  },
  {
   "cell_type": "markdown",
   "id": "e94f8489",
   "metadata": {
    "slideshow": {
     "slide_type": "slide"
    }
   },
   "source": [
    "Mi preocupación por estas preguntas se remonta a mi infancia, al verano de 1943, cuando mi familia se mudó a Detroit (Michigan)."
   ]
  },
  {
   "cell_type": "markdown",
   "id": "1f6f5f46",
   "metadata": {
    "slideshow": {
     "slide_type": "slide"
    }
   },
   "source": [
    "Dos semanas después de haber llegado, un incidente en un parque público desencadenó un enfrentamiento racial. "
   ]
  },
  {
   "cell_type": "markdown",
   "id": "b615da1e",
   "metadata": {
    "slideshow": {
     "slide_type": "slide"
    }
   },
   "source": [
    "Durante los días que siguieron al hecho fueron asesinadas más de cuarenta personas. "
   ]
  },
  {
   "cell_type": "markdown",
   "id": "ade89ed1",
   "metadata": {
    "slideshow": {
     "slide_type": "slide"
    }
   },
   "source": [
    "El barrio donde vivíamos estaba situado en el centro mismo del estallido de violencia, lo cual nos obligó a permanecer tres días encerrados en nuestra casa."
   ]
  },
  {
   "cell_type": "markdown",
   "id": "6e1390ac",
   "metadata": {
    "slideshow": {
     "slide_type": "slide"
    }
   },
   "source": [
    "Cuando terminaron los disturbios y empezaron las clases, descubrí que un apellido puede ser tan peligroso como el color de la piel. "
   ]
  },
  {
   "cell_type": "markdown",
   "id": "1a43bf35",
   "metadata": {
    "slideshow": {
     "slide_type": "slide"
    }
   },
   "source": [
    "El primer día, cuando el maestro pronunció mi nombre, dos chicos me miraron fijamente y murmuraron entre dientes: «¿Eres un kike?», dijeron. "
   ]
  },
  {
   "cell_type": "markdown",
   "id": "2be89d6a",
   "metadata": {
    "slideshow": {
     "slide_type": "slide"
    }
   },
   "source": [
    "No conocía la palabra ni sabía que algunas personas la usan de manera despectiva para referirse a los judíos. "
   ]
  },
  {
   "cell_type": "markdown",
   "id": "eae7d3b9",
   "metadata": {
    "slideshow": {
     "slide_type": "slide"
    }
   },
   "source": [
    "A la salida de clase, los dos chicos me estaban esperando y, de un empujón, me derribaron al suelo y me dieron una paliza."
   ]
  },
  {
   "cell_type": "markdown",
   "id": "93306ead",
   "metadata": {
    "slideshow": {
     "slide_type": "slide"
    }
   },
   "source": [
    "Desde aquel verano del año 1943, he estado analizando las dos preguntas que a lo largo de este libro, como en toda su obra sobre comunicación no violenta, Marshall Rosenberg utiliza con frecuencia el término \"compasión\". "
   ]
  },
  {
   "cell_type": "markdown",
   "id": "bb315608",
   "metadata": {
    "slideshow": {
     "slide_type": "slide"
    }
   },
   "source": [
    "Lo hace apelando al profundo impulso de humanidad común que existe en los seres humanos cuando nos comunicamos sin violencia. "
   ]
  },
  {
   "cell_type": "markdown",
   "id": "79c35435",
   "metadata": {
    "slideshow": {
     "slide_type": "slide"
    }
   },
   "source": [
    "Este significado se diferencia del uso habitual en castellano que asocia la compasión con la conmiseración y la lástima\n",
    "frente al sufrimiento de los demás. (N. de la T.)"
   ]
  },
  {
   "cell_type": "markdown",
   "id": "b39679b3",
   "metadata": {
    "slideshow": {
     "slide_type": "slide"
    }
   },
   "source": [
    "# Los juicios moralistas"
   ]
  },
  {
   "cell_type": "markdown",
   "id": "d4e8cd6b",
   "metadata": {
    "slideshow": {
     "slide_type": "slide"
    }
   },
   "source": [
    "Un tipo de comunicación que aliena de la vida es aquél en el que empleamos juicios moralistas que presuponen una actitud errónea o malvada por parte de aquellas personas que no actúan de acuerdo con nuestros valores. "
   ]
  },
  {
   "cell_type": "markdown",
   "id": "4d335b62",
   "metadata": {
    "slideshow": {
     "slide_type": "slide"
    }
   },
   "source": [
    "Estos juicios se reflejan en comentarios como: «Tu problema es que eres muy egoísta», «Es una perezosa», «Están llenos de prejuicios», «Esto es inapropiado». "
   ]
  },
  {
   "cell_type": "markdown",
   "id": "85046eae",
   "metadata": {
    "slideshow": {
     "slide_type": "slide"
    }
   },
   "source": [
    "Echar la culpa a al\u0002guien, insultarlo, rebajarlo, ponerle etiquetas, criticarlo, establecer comparaciones y emitir diagnósticos son distintas maneras de formular juicios."
   ]
  },
  {
   "cell_type": "markdown",
   "id": "e1d605f6",
   "metadata": {
    "slideshow": {
     "slide_type": "slide"
    }
   },
   "source": [
    "El poeta sufí Rumi escribió en cierta ocasión: «Más allá de las ideas de actuar\n",
    "bien y actuar mal, se extiende un campo. "
   ]
  },
  {
   "cell_type": "markdown",
   "id": "82bbf879",
   "metadata": {
    "slideshow": {
     "slide_type": "slide"
    }
   },
   "source": [
    "Allí nos encontraremos». Sin embargo, la comunicación que nos aliena de la vida nos atrapa en un mundo de ideas preconcebidas con respecto a lo que está bien y lo que está mal, un mundo hecho de juicios. "
   ]
  },
  {
   "cell_type": "markdown",
   "id": "ed974566",
   "metadata": {
    "slideshow": {
     "slide_type": "slide"
    }
   },
   "source": [
    "Emplea un lenguaje en el que abundan las palabras que establecen clasificaciones y dicotomías con respecto a las personas y a sus formas de actuar."
   ]
  },
  {
   "cell_type": "markdown",
   "id": "6024f894",
   "metadata": {
    "slideshow": {
     "slide_type": "slide"
    }
   },
   "source": [
    "Cuando utilizamos este lenguaje juzgamos a los demás y su comportamiento y nos centramos en quién es bueno, malo, normal, anormal, responsable, irresponsable, inteligente, ignorante, etcétera."
   ]
  },
  {
   "cell_type": "markdown",
   "id": "c1ea3dcc",
   "metadata": {
    "slideshow": {
     "slide_type": "slide"
    }
   },
   "source": [
    "Ciertas formas de comunicación nos alienan de nuestro estado natural de compasión o solidaridad."
   ]
  },
  {
   "cell_type": "markdown",
   "id": "5fc493ad",
   "metadata": {
    "slideshow": {
     "slide_type": "slide"
    }
   },
   "source": [
    "En el mundo de los juicios\n",
    "nuestra preocupación se\n",
    "centra en quién “es” qué."
   ]
  },
  {
   "cell_type": "markdown",
   "id": "23d1cf0a",
   "metadata": {
    "slideshow": {
     "slide_type": "slide"
    }
   },
   "source": [
    "Mucho antes de llegar a la edad adulta, aprendí a comunicarme con los demás de una manera impersonal en la que no necesitaba revelar lo que me estaba pasando internamente. "
   ]
  },
  {
   "cell_type": "markdown",
   "id": "fe92600c",
   "metadata": {
    "slideshow": {
     "slide_type": "slide"
    }
   },
   "source": [
    "Cada vez que me encontraba con personas o hechos que no me gustaban o no comprendía, mi reacción consistía en dictaminar que los equivocados eran ellos. "
   ]
  },
  {
   "cell_type": "markdown",
   "id": "02abdd5f",
   "metadata": {
    "slideshow": {
     "slide_type": "slide"
    }
   },
   "source": [
    "Cuando mis maestros me encomendaban una tarea que yo no tenía ganas de hacer, se convertían a mis ojos en unos «pesados» o unos «imbéciles». "
   ]
  },
  {
   "cell_type": "markdown",
   "id": "9fc2f7f6",
   "metadata": {
    "slideshow": {
     "slide_type": "slide"
    }
   },
   "source": [
    "Cuando estaba manejando y alguien me pasaba por delante, yo reaccionaba llamándolo «idiota». "
   ]
  },
  {
   "cell_type": "markdown",
   "id": "c4231c7a",
   "metadata": {
    "slideshow": {
     "slide_type": "slide"
    }
   },
   "source": [
    "Siempre que empleamos este lenguaje, pensamos y nos comunicamos desde la perspectiva de\n",
    "que algo falla en los demás porque se comportan de una determinada manera o, a veces, de que algo falla en nosotros porque no comprendemos o no responde\u0002mos como nos gustaría. "
   ]
  },
  {
   "cell_type": "markdown",
   "id": "16ce4f69",
   "metadata": {
    "slideshow": {
     "slide_type": "slide"
    }
   },
   "source": [
    "Centramos nuestra atención en clasificar, analizar y determinar niveles de error más que en lo que necesitamos (nosotros y los demás) y no conseguimos. "
   ]
  },
  {
   "cell_type": "markdown",
   "id": "ebef9721",
   "metadata": {
    "slideshow": {
     "slide_type": "slide"
    }
   },
   "source": [
    "En consecuencia, si mi pareja quiere más cariño del que yo le ofrezco, es una persona «dependiente y desvalida». Pero si yo quiero más cariño que el que ella me da, es «distante e insensible». "
   ]
  },
  {
   "cell_type": "markdown",
   "id": "9ce88487",
   "metadata": {
    "slideshow": {
     "slide_type": "slide"
    }
   },
   "source": [
    "Si mi compañero de trabajo se preocupa más que yo por los detalles, es «quisquilloso y compulsivo». "
   ]
  },
  {
   "cell_type": "markdown",
   "id": "3d2b12da",
   "metadata": {
    "slideshow": {
     "slide_type": "slide"
    }
   },
   "source": [
    "En cambio, si soy yo quien se preocupa más por los detalles, él es «descuidado y desorganizado»."
   ]
  },
  {
   "cell_type": "markdown",
   "id": "524e9f1e",
   "metadata": {
    "slideshow": {
     "slide_type": "slide"
    }
   },
   "source": [
    "Creo que este tipo de análisis de otros seres humanos no es más que una trágica expresión de nuestros propios valores y necesidades. "
   ]
  },
  {
   "cell_type": "markdown",
   "id": "a9439e5c",
   "metadata": {
    "slideshow": {
     "slide_type": "slide"
    }
   },
   "source": [
    "Trágica porque, cuando expresamos nuestros valores y necesidades de esta manera, lo único que conseguimos es potenciar una actitud defensiva y de resistencia en las mismas personas cuya conducta nos molesta. "
   ]
  },
  {
   "cell_type": "markdown",
   "id": "5fd61294",
   "metadata": {
    "slideshow": {
     "slide_type": "slide"
    }
   },
   "source": [
    "Y si aceptan actuar en consonancia con nuestra escala de valores porque coinciden en nuestro análisis de su ineptitud, es probable que sólo lo hagan por miedo, culpa o vergüenza."
   ]
  },
  {
   "cell_type": "markdown",
   "id": "040e30d2",
   "metadata": {
    "slideshow": {
     "slide_type": "slide"
    }
   },
   "source": [
    "Sin embargo, cuando los demás acceden a actuar de acuerdo con nuestros valores y necesidades, no porque lo deseen de corazón, sino porque tienen miedo o se sienten culpables o avergonzados, el precio que nos toca pagar es realmente muy alto. "
   ]
  },
  {
   "cell_type": "markdown",
   "id": "c2c631c8",
   "metadata": {
    "slideshow": {
     "slide_type": "slide"
    }
   },
   "source": [
    "Tarde o temprano vendrán las consecuencias bajo la forma de una fal\u0002ta de buena voluntad por parte de aquellos que responden a nuestros deseos por coerción externa o interna. "
   ]
  },
  {
   "cell_type": "markdown",
   "id": "e5a1e150",
   "metadata": {
    "slideshow": {
     "slide_type": "slide"
    }
   },
   "source": [
    "Por otro lado, cuando alguien hace algo por miedo, culpa o vergüenza, también paga un precio de tipo emocional, ya que abrigará un resentimiento contra nosotros al quedar rebajada su autoestima. "
   ]
  },
  {
   "cell_type": "markdown",
   "id": "9715eef7",
   "metadata": {
    "slideshow": {
     "slide_type": "slide"
    }
   },
   "source": [
    "Además, cada vez que otras personas nos asocien con cualquiera de estos sentimientos, disminuirá la probabilidad de que en el futuro respondan de una manera solidaria a nuestras necesidades y nuestros valores"
   ]
  },
  {
   "cell_type": "markdown",
   "id": "96775931",
   "metadata": {
    "slideshow": {
     "slide_type": "slide"
    }
   },
   "source": [
    "## Título de la clase: Ejercicio 31 de la página 230 del Purcell sobre Derivación y graficación de funciones.   \n",
    "\n"
   ]
  },
  {
   "cell_type": "markdown",
   "id": "1d38dd4e",
   "metadata": {
    "slideshow": {
     "slide_type": "slide"
    }
   },
   "source": [
    "### Objetivo de aprendizaje (Enunciar, de manera corta sencilla y clara para todos los asistentes)\n",
    "\n",
    "* Aprender a resolver problemas de optimización utilizando métodos gráficos y métodos analíticos. "
   ]
  },
  {
   "cell_type": "markdown",
   "id": "91c8c328",
   "metadata": {
    "slideshow": {
     "slide_type": "slide"
    }
   },
   "source": [
    "## Cuestionario para realizar labores de memorización, observación y síntesis de la información (Además de diagnóstico)\n",
    "\n",
    "1. ¿Qué es un máximo local?\n",
    "2. ¿Qué es un máximo global?"
   ]
  },
  {
   "cell_type": "markdown",
   "id": "30a55003",
   "metadata": {
    "slideshow": {
     "slide_type": "slide"
    }
   },
   "source": [
    "3. ¿Diferencia entre máximo local y máximo global?"
   ]
  },
  {
   "cell_type": "markdown",
   "id": "d04e7fad",
   "metadata": {
    "slideshow": {
     "slide_type": "fragment"
    }
   },
   "source": [
    "<img src = 'https://www.disfrutalasmatematicas.com/algebra/images/function-max-global.svg' width = 700>"
   ]
  },
  {
   "cell_type": "markdown",
   "id": "c910be34",
   "metadata": {
    "slideshow": {
     "slide_type": "fragment"
    }
   },
   "source": [
    "4. ¿la función numpy.arange()?\n",
    "\n",
    "<img src = 'https://files.realpython.com/media/fig-1.1d8bc9379e87.png'>"
   ]
  },
  {
   "cell_type": "markdown",
   "id": "540f0ec1",
   "metadata": {
    "slideshow": {
     "slide_type": "fragment"
    }
   },
   "source": [
    "5. ¿progresión aritmética de puntos del dominio de una función?"
   ]
  },
  {
   "cell_type": "markdown",
   "id": "ca7261b1",
   "metadata": {
    "slideshow": {
     "slide_type": "slide"
    }
   },
   "source": [
    "## Establecimiento de prerrequisitos conceptuales para alcanzar el objetivo de aprendizaje trazado.   \n",
    "\n",
    "(Elabore una lista de preguntas al rededor de los conceptos que consideres necesarios para empezar la clase).  \n",
    "\n",
    "1. Saber las reglas de derivación de funciones (Página página 126 del Purcell Reglas para encontrar\n",
    "derivadas)  \n",
    "2. Saber que los máximos globales de una función se encuentran en los extremos de su dominio o en los puntos del dominio donde la derivada sea cero. \n",
    "3. Saber que los mínimos globales de una función se encuentran en los extremos de su dominio o en los puntos del dominio donde la derivada sea cero. \n",
    "\n",
    "4. El concepto de recta asíntota al gráfico de una función\n",
    "\n",
    "<img src = 'https://movil.ematematicas.net/imagenes/asintota_vertical.png'>"
   ]
  },
  {
   "cell_type": "markdown",
   "id": "2298e976",
   "metadata": {
    "slideshow": {
     "slide_type": "slide"
    }
   },
   "source": [
    "# Para el diseño de la clase tenga en cuenta algunos problemas de aprendizaje"
   ]
  },
  {
   "cell_type": "markdown",
   "id": "67f5e750",
   "metadata": {
    "slideshow": {
     "slide_type": "fragment"
    }
   },
   "source": [
    "* Aprenderse de memoria los códigos de Python para la creación de un gráfico interactivo con la librería Plotly de Python. \n",
    "\n",
    "* Lógica de graficación del lenguaje Python. "
   ]
  },
  {
   "cell_type": "markdown",
   "id": "a40a4704",
   "metadata": {
    "slideshow": {
     "slide_type": "slide"
    }
   },
   "source": [
    "## Secuencia conceptual introductoria a la clase  (Se propone leer toda la secuencia conceptual antes de la clase, memorizarla y sintetizarla o reescribirla en sus palabras)"
   ]
  },
  {
   "cell_type": "markdown",
   "id": "1e2588f4",
   "metadata": {},
   "source": [
    "## Planteamiento del problema"
   ]
  },
  {
   "cell_type": "markdown",
   "id": "12cb2994",
   "metadata": {
    "slideshow": {
     "slide_type": "slide"
    }
   },
   "source": [
    "En los problemas del 31 al 36 haga la gráfica de la función $f$ en la región $(-\\pi, \\pi)$, a menos que se indique lo contrario, \n",
    "* etiquete todos los extremos (locales y globales) y los puntos de inflexión; \n",
    "* también muestre las asíntotas, si existen. \n",
    "* Asegúrese de utilizar $f'$ y $f''$.\n",
    "\n",
    "\n",
    "$$ f(x) = \\cos(x) - \\sin(x) $$"
   ]
  },
  {
   "cell_type": "markdown",
   "id": "7e493f0a",
   "metadata": {
    "slideshow": {
     "slide_type": "slide"
    }
   },
   "source": [
    "## Solución \n",
    "\n",
    "* Identificar la función: \n",
    "\n",
    "Esta es una función trigonométrica. "
   ]
  },
  {
   "cell_type": "markdown",
   "id": "93850e6f",
   "metadata": {
    "slideshow": {
     "slide_type": "slide"
    }
   },
   "source": [
    "# Gráfico estático con matplotlib "
   ]
  },
  {
   "cell_type": "code",
   "execution_count": 5,
   "id": "4ccffac1",
   "metadata": {
    "scrolled": true,
    "slideshow": {
     "slide_type": "slide"
    }
   },
   "outputs": [],
   "source": [
    "def grafico_estatico_matplotlib():\n",
    "    \"\"\"\n",
    "    INPUT: function: función lambda de python\n",
    "    dominio = lista de python\n",
    "    \"\"\"\n",
    "    import numpy as np \n",
    "    import matplotlib.pyplot as plt\n",
    "    incremento = 0.1 # una décima \n",
    "    dominio = np.arange(-np.pi, np.pi, incremento) # progresión aritmética\n",
    "    def f(x):\n",
    "        return np.cos(x) - np.sin(x) \n",
    "    rango = f(dominio)\n",
    "    plt.figure(figsize = (16, 8))\n",
    "    plt.plot(dominio, rango, 'r-', label = r'$f(t) = \\cos(x) - \\sin(x)$')\n",
    "    plt.plot([dominio[0], dominio[-1]],[0,0], 'g-')\n",
    "    plt.grid(alpha = 0.4) \n",
    "    plt.xlabel('x')\n",
    "    plt.ylabel(r'$f(x)$')\n",
    "    plt.yticks(np.arange(-2, 2, (1/10)*np.pi)) # escalar el eje y \n",
    "    plt.xticks(np.arange(dominio[0], dominio[-1], (1/4)*np.pi)) # escalar el eje x \n",
    "    plt.legend()\n",
    "    plt.savefig('función trigonométrica.jpg')\n",
    "    plt.show()\n"
   ]
  },
  {
   "cell_type": "code",
   "execution_count": 6,
   "id": "e1260b58",
   "metadata": {
    "slideshow": {
     "slide_type": "slide"
    }
   },
   "outputs": [
    {
     "data": {
      "image/png": "[encoded data removed]",
      "text/plain": [
       "<Figure size 1600x800 with 1 Axes>"
      ]
     },
     "metadata": {},
     "output_type": "display_data"
    }
   ],
   "source": [
    "grafico_estatico_matplotlib()"
   ]
  },
  {
   "cell_type": "markdown",
   "id": "324c7b57",
   "metadata": {},
   "source": [
    "# inferencias o lectura del gráfico"
   ]
  },
  {
   "cell_type": "markdown",
   "id": "13a9cca3",
   "metadata": {
    "slideshow": {
     "slide_type": "slide"
    }
   },
   "source": [
    "* El máximo local de la función es 1.456 y se dá en $x = -0.942$.   \n",
    "* El máximo global de la función es 1.456 y se dá en $x = -0.942$.   \n",
    "* El mínimo local de esta función $ $ y se da en $x = $  \n",
    "* El mínimo local de esta función $$ y se da en $x = $  "
   ]
  },
  {
   "cell_type": "markdown",
   "id": "73b65ef0",
   "metadata": {
    "slideshow": {
     "slide_type": "slide"
    }
   },
   "source": [
    "# Solución analítica del ejercicio con SymPy"
   ]
  },
  {
   "cell_type": "code",
   "execution_count": 12,
   "id": "633aa322",
   "metadata": {
    "slideshow": {
     "slide_type": "slide"
    }
   },
   "outputs": [],
   "source": [
    "#* etiquete todos los extremos (locales y globales) y los puntos de inflexión; \n",
    "#* también muestre las asíntotas, si existen. \n",
    "# f(x) = \\cos(x) - \\sin(x) \n",
    "from sympy import var, lambdify, cos, sin, diff, Eq, solve, pi"
   ]
  },
  {
   "cell_type": "code",
   "execution_count": 19,
   "id": "5dfca0ac",
   "metadata": {
    "slideshow": {
     "slide_type": "slide"
    }
   },
   "outputs": [],
   "source": [
    "x = var('x') # definición de la variable x\n",
    "funcion_expresion_python = cos(x) - sin(x)\n",
    "f = lambdify(x, funcion_expresion_python)# función como expresión de python"
   ]
  },
  {
   "cell_type": "code",
   "execution_count": 27,
   "id": "1026d203",
   "metadata": {
    "slideshow": {
     "slide_type": "slide"
    }
   },
   "outputs": [
    {
     "data": {
      "text/plain": [
       "3.141592653589793"
      ]
     },
     "execution_count": 27,
     "metadata": {},
     "output_type": "execute_result"
    }
   ],
   "source": [
    "a = float(pi.evalf()) \n",
    "a "
   ]
  },
  {
   "cell_type": "code",
   "execution_count": 28,
   "id": "34b944fb",
   "metadata": {
    "slideshow": {
     "slide_type": "slide"
    }
   },
   "outputs": [
    {
     "data": {
      "text/plain": [
       "-1.0000000000000002"
      ]
     },
     "execution_count": 28,
     "metadata": {},
     "output_type": "execute_result"
    }
   ],
   "source": [
    "f(a)"
   ]
  },
  {
   "cell_type": "code",
   "execution_count": 32,
   "id": "c9be9e6b",
   "metadata": {
    "slideshow": {
     "slide_type": "slide"
    }
   },
   "outputs": [
    {
     "name": "stdout",
     "output_type": "stream",
     "text": [
      "un punto crítico de la función es:  -pi/4\n"
     ]
    }
   ],
   "source": [
    "print('un punto crítico de la función es: ', solve(Eq(diff(funcion_expresion_python, x), 0))[0])"
   ]
  },
  {
   "cell_type": "code",
   "execution_count": 44,
   "id": "a46f6e53",
   "metadata": {},
   "outputs": [
    {
     "data": {
      "text/latex": [
       "$\\displaystyle \\frac{\\pi}{4}$"
      ],
      "text/plain": [
       "pi/4"
      ]
     },
     "execution_count": 44,
     "metadata": {},
     "output_type": "execute_result"
    }
   ],
   "source": [
    "solve(Eq(diff(funcion_expresion_python, x, 2), 0), x)[0] "
   ]
  },
  {
   "cell_type": "markdown",
   "id": "7c686ba7",
   "metadata": {
    "slideshow": {
     "slide_type": "slide"
    }
   },
   "source": [
    "# Gráfica interactiva con Plotly"
   ]
  },
  {
   "cell_type": "code",
   "execution_count": 49,
   "id": "a4683a38",
   "metadata": {
    "scrolled": true,
    "slideshow": {
     "slide_type": "slide"
    }
   },
   "outputs": [
    {
     "data": {
      "application/vnd.plotly.v1+json": {
       "config": {
        "plotlyServerURL": "https://plot.ly"
       },
       "data": [
        {
         "type": "scatter",
         "x": [
          -3.141592653589793,
          -3.1315926535897933,
          -3.1215926535897935,
          -3.1115926535897938,
          -3.101592653589794,
          -3.091592653589794,
          -3.0815926535897944,
          -3.0715926535897946,
          -3.061592653589795,
          -3.051592653589795,
          -3.0415926535897952,
          -3.0315926535897955,
          -3.0215926535897957,
          -3.011592653589796,
          -3.001592653589796,
          -2.9915926535897963,
          -2.9815926535897965,
          -2.9715926535897967,
          -2.961592653589797,
          -2.951592653589797,
          -2.9415926535897974,
          -2.9315926535897976,
          -2.921592653589798,
          -2.911592653589798,
          -2.9015926535897982,
          -2.8915926535897984,
          -2.8815926535897987,
          -2.871592653589799,
          -2.861592653589799,
          -2.8515926535897993,
          -2.8415926535897995,
          -2.8315926535897997,
          -2.8215926535898,
          -2.8115926535898,
          -2.8015926535898004,
          -2.7915926535898006,
          -2.781592653589801,
          -2.771592653589801,
          -2.761592653589801,
          -2.7515926535898014,
          -2.7415926535898016,
          -2.731592653589802,
          -2.721592653589802,
          -2.7115926535898023,
          -2.7015926535898025,
          -2.6915926535898027,
          -2.681592653589803,
          -2.671592653589803,
          -2.6615926535898033,
          -2.6515926535898036,
          -2.6415926535898038,
          -2.631592653589804,
          -2.621592653589804,
          -2.6115926535898044,
          -2.6015926535898046,
          -2.591592653589805,
          -2.581592653589805,
          -2.5715926535898053,
          -2.5615926535898055,
          -2.5515926535898057,
          -2.541592653589806,
          -2.531592653589806,
          -2.5215926535898063,
          -2.5115926535898065,
          -2.5015926535898068,
          -2.491592653589807,
          -2.481592653589807,
          -2.4715926535898074,
          -2.4615926535898076,
          -2.451592653589808,
          -2.441592653589808,
          -2.4315926535898083,
          -2.4215926535898085,
          -2.4115926535898087,
          -2.401592653589809,
          -2.391592653589809,
          -2.3815926535898093,
          -2.3715926535898095,
          -2.3615926535898097,
          -2.35159265358981,
          -2.34159265358981,
          -2.3315926535898104,
          -2.3215926535898106,
          -2.311592653589811,
          -2.301592653589811,
          -2.2915926535898112,
          -2.2815926535898114,
          -2.2715926535898117,
          -2.261592653589812,
          -2.251592653589812,
          -2.2415926535898123,
          -2.2315926535898125,
          -2.2215926535898127,
          -2.211592653589813,
          -2.201592653589813,
          -2.1915926535898134,
          -2.1815926535898136,
          -2.171592653589814,
          -2.161592653589814,
          -2.151592653589814,
          -2.1415926535898144,
          -2.1315926535898146,
          -2.121592653589815,
          -2.111592653589815,
          -2.1015926535898153,
          -2.0915926535898155,
          -2.0815926535898157,
          -2.071592653589816,
          -2.061592653589816,
          -2.0515926535898164,
          -2.0415926535898166,
          -2.0315926535898168,
          -2.021592653589817,
          -2.011592653589817,
          -2.0015926535898174,
          -1.9915926535898176,
          -1.9815926535898178,
          -1.971592653589818,
          -1.9615926535898183,
          -1.9515926535898185,
          -1.9415926535898187,
          -1.931592653589819,
          -1.9215926535898191,
          -1.9115926535898193,
          -1.9015926535898195,
          -1.8915926535898198,
          -1.88159265358982,
          -1.8715926535898202,
          -1.8615926535898204,
          -1.8515926535898206,
          -1.8415926535898208,
          -1.831592653589821,
          -1.8215926535898213,
          -1.8115926535898215,
          -1.8015926535898217,
          -1.791592653589822,
          -1.781592653589822,
          -1.7715926535898223,
          -1.7615926535898225,
          -1.7515926535898227,
          -1.741592653589823,
          -1.7315926535898232,
          -1.7215926535898234,
          -1.7115926535898236,
          -1.7015926535898238,
          -1.691592653589824,
          -1.6815926535898242,
          -1.6715926535898245,
          -1.6615926535898247,
          -1.6515926535898249,
          -1.641592653589825,
          -1.6315926535898253,
          -1.6215926535898255,
          -1.6115926535898257,
          -1.601592653589826,
          -1.5915926535898262,
          -1.5815926535898264,
          -1.5715926535898266,
          -1.5615926535898268,
          -1.551592653589827,
          -1.5415926535898272,
          -1.5315926535898274,
          -1.5215926535898276,
          -1.5115926535898279,
          -1.501592653589828,
          -1.4915926535898283,
          -1.4815926535898285,
          -1.4715926535898287,
          -1.461592653589829,
          -1.4515926535898291,
          -1.4415926535898294,
          -1.4315926535898296,
          -1.4215926535898298,
          -1.41159265358983,
          -1.4015926535898302,
          -1.3915926535898304,
          -1.3815926535898306,
          -1.3715926535898308,
          -1.361592653589831,
          -1.3515926535898313,
          -1.3415926535898315,
          -1.3315926535898317,
          -1.321592653589832,
          -1.3115926535898321,
          -1.3015926535898323,
          -1.2915926535898326,
          -1.2815926535898328,
          -1.271592653589833,
          -1.2615926535898332,
          -1.2515926535898334,
          -1.2415926535898336,
          -1.2315926535898338,
          -1.221592653589834,
          -1.2115926535898343,
          -1.2015926535898345,
          -1.1915926535898347,
          -1.181592653589835,
          -1.171592653589835,
          -1.1615926535898353,
          -1.1515926535898355,
          -1.1415926535898357,
          -1.131592653589836,
          -1.1215926535898362,
          -1.1115926535898364,
          -1.1015926535898366,
          -1.0915926535898368,
          -1.081592653589837,
          -1.0715926535898372,
          -1.0615926535898375,
          -1.0515926535898377,
          -1.0415926535898379,
          -1.031592653589838,
          -1.0215926535898383,
          -1.0115926535898385,
          -1.0015926535898387,
          -0.991592653589839,
          -0.9815926535898392,
          -0.9715926535898394,
          -0.9615926535898396,
          -0.9515926535898398,
          -0.94159265358984,
          -0.9315926535898402,
          -0.9215926535898404,
          -0.9115926535898407,
          -0.9015926535898409,
          -0.8915926535898411,
          -0.8815926535898413,
          -0.8715926535898415,
          -0.8615926535898417,
          -0.8515926535898419,
          -0.8415926535898421,
          -0.8315926535898424,
          -0.8215926535898426,
          -0.8115926535898428,
          -0.801592653589843,
          -0.7915926535898432,
          -0.7815926535898434,
          -0.7715926535898436,
          -0.7615926535898438,
          -0.7515926535898441,
          -0.7415926535898443,
          -0.7315926535898445,
          -0.7215926535898447,
          -0.7115926535898449,
          -0.7015926535898451,
          -0.6915926535898453,
          -0.6815926535898456,
          -0.6715926535898458,
          -0.661592653589846,
          -0.6515926535898462,
          -0.6415926535898464,
          -0.6315926535898466,
          -0.6215926535898468,
          -0.611592653589847,
          -0.6015926535898473,
          -0.5915926535898475,
          -0.5815926535898477,
          -0.5715926535898479,
          -0.5615926535898481,
          -0.5515926535898483,
          -0.5415926535898485,
          -0.5315926535898488,
          -0.521592653589849,
          -0.5115926535898492,
          -0.5015926535898494,
          -0.4915926535898496,
          -0.4815926535898498,
          -0.47159265358985003,
          -0.46159265358985024,
          -0.45159265358985046,
          -0.44159265358985067,
          -0.4315926535898509,
          -0.4215926535898511,
          -0.4115926535898513,
          -0.4015926535898515,
          -0.39159265358985174,
          -0.38159265358985195,
          -0.37159265358985216,
          -0.3615926535898524,
          -0.3515926535898526,
          -0.3415926535898528,
          -0.331592653589853,
          -0.32159265358985323,
          -0.31159265358985344,
          -0.30159265358985365,
          -0.29159265358985387,
          -0.2815926535898541,
          -0.2715926535898543,
          -0.2615926535898545,
          -0.2515926535898547,
          -0.24159265358985493,
          -0.23159265358985515,
          -0.22159265358985536,
          -0.21159265358985557,
          -0.20159265358985579,
          -0.191592653589856,
          -0.1815926535898562,
          -0.17159265358985643,
          -0.16159265358985664,
          -0.15159265358985685,
          -0.14159265358985706,
          -0.13159265358985728,
          -0.12159265358985749,
          -0.1115926535898577,
          -0.10159265358985792,
          -0.09159265358985813,
          -0.08159265358985834,
          -0.07159265358985856,
          -0.06159265358985877,
          -0.05159265358985898,
          -0.041592653589859196,
          -0.03159265358985941,
          -0.021592653589859623,
          -0.011592653589859836,
          -0.0015926535898600491,
          0.008407346410139738,
          0.018407346410139525,
          0.02840734641013931,
          0.0384073464101391,
          0.048407346410138885,
          0.05840734641013867,
          0.06840734641013846,
          0.07840734641013825,
          0.08840734641013803,
          0.09840734641013782,
          0.1084073464101376,
          0.11840734641013739,
          0.12840734641013718,
          0.13840734641013697,
          0.14840734641013675,
          0.15840734641013654,
          0.16840734641013633,
          0.17840734641013611,
          0.1884073464101359,
          0.1984073464101357,
          0.20840734641013547,
          0.21840734641013526,
          0.22840734641013505,
          0.23840734641013483,
          0.24840734641013462,
          0.2584073464101344,
          0.2684073464101342,
          0.278407346410134,
          0.28840734641013377,
          0.29840734641013356,
          0.30840734641013334,
          0.31840734641013313,
          0.3284073464101329,
          0.3384073464101327,
          0.3484073464101325,
          0.3584073464101323,
          0.36840734641013206,
          0.37840734641013185,
          0.38840734641013164,
          0.3984073464101314,
          0.4084073464101312,
          0.418407346410131,
          0.4284073464101308,
          0.43840734641013057,
          0.44840734641013036,
          0.45840734641013015,
          0.46840734641012993,
          0.4784073464101297,
          0.4884073464101295,
          0.4984073464101293,
          0.5084073464101291,
          0.5184073464101289,
          0.5284073464101287,
          0.5384073464101284,
          0.5484073464101282,
          0.558407346410128,
          0.5684073464101278,
          0.5784073464101276,
          0.5884073464101274,
          0.5984073464101272,
          0.608407346410127,
          0.6184073464101267,
          0.6284073464101265,
          0.6384073464101263,
          0.6484073464101261,
          0.6584073464101259,
          0.6684073464101257,
          0.6784073464101255,
          0.6884073464101252,
          0.698407346410125,
          0.7084073464101248,
          0.7184073464101246,
          0.7284073464101244,
          0.7384073464101242,
          0.748407346410124,
          0.7584073464101238,
          0.7684073464101235,
          0.7784073464101233,
          0.7884073464101231,
          0.7984073464101229,
          0.8084073464101227,
          0.8184073464101225,
          0.8284073464101223,
          0.838407346410122,
          0.8484073464101218,
          0.8584073464101216,
          0.8684073464101214,
          0.8784073464101212,
          0.888407346410121,
          0.8984073464101208,
          0.9084073464101206,
          0.9184073464101203,
          0.9284073464101201,
          0.9384073464101199,
          0.9484073464101197,
          0.9584073464101195,
          0.9684073464101193,
          0.9784073464101191,
          0.9884073464101188,
          0.9984073464101186,
          1.0084073464101184,
          1.0184073464101182,
          1.028407346410118,
          1.0384073464101178,
          1.0484073464101176,
          1.0584073464101174,
          1.0684073464101171,
          1.078407346410117,
          1.0884073464101167,
          1.0984073464101165,
          1.1084073464101163,
          1.118407346410116,
          1.1284073464101159,
          1.1384073464101157,
          1.1484073464101154,
          1.1584073464101152,
          1.168407346410115,
          1.1784073464101148,
          1.1884073464101146,
          1.1984073464101144,
          1.2084073464101142,
          1.218407346410114,
          1.2284073464101137,
          1.2384073464101135,
          1.2484073464101133,
          1.258407346410113,
          1.2684073464101129,
          1.2784073464101127,
          1.2884073464101125,
          1.2984073464101122,
          1.308407346410112,
          1.3184073464101118,
          1.3284073464101116,
          1.3384073464101114,
          1.3484073464101112,
          1.358407346410111,
          1.3684073464101107,
          1.3784073464101105,
          1.3884073464101103,
          1.39840734641011,
          1.40840734641011,
          1.4184073464101097,
          1.4284073464101095,
          1.4384073464101093,
          1.448407346410109,
          1.4584073464101088,
          1.4684073464101086,
          1.4784073464101084,
          1.4884073464101082,
          1.498407346410108,
          1.5084073464101078,
          1.5184073464101076,
          1.5284073464101073,
          1.5384073464101071,
          1.548407346410107,
          1.5584073464101067,
          1.5684073464101065,
          1.5784073464101063,
          1.588407346410106,
          1.5984073464101058,
          1.6084073464101056,
          1.6184073464101054,
          1.6284073464101052,
          1.638407346410105,
          1.6484073464101048,
          1.6584073464101046,
          1.6684073464101044,
          1.6784073464101041,
          1.688407346410104,
          1.6984073464101037,
          1.7084073464101035,
          1.7184073464101033,
          1.728407346410103,
          1.7384073464101029,
          1.7484073464101026,
          1.7584073464101024,
          1.7684073464101022,
          1.778407346410102,
          1.7884073464101018,
          1.7984073464101016,
          1.8084073464101014,
          1.8184073464101012,
          1.828407346410101,
          1.8384073464101007,
          1.8484073464101005,
          1.8584073464101003,
          1.8684073464101,
          1.8784073464100999,
          1.8884073464100997,
          1.8984073464100994,
          1.9084073464100992,
          1.918407346410099,
          1.9284073464100988,
          1.9384073464100986,
          1.9484073464100984,
          1.9584073464100982,
          1.968407346410098,
          1.9784073464100977,
          1.9884073464100975,
          1.9984073464100973,
          2.008407346410097,
          2.018407346410097,
          2.0284073464100967,
          2.0384073464100965,
          2.0484073464100963,
          2.058407346410096,
          2.068407346410096,
          2.0784073464100956,
          2.0884073464100954,
          2.098407346410095,
          2.108407346410095,
          2.1184073464100948,
          2.1284073464100945,
          2.1384073464100943,
          2.148407346410094,
          2.158407346410094,
          2.1684073464100937,
          2.1784073464100935,
          2.1884073464100933,
          2.198407346410093,
          2.208407346410093,
          2.2184073464100926,
          2.2284073464100924,
          2.238407346410092,
          2.248407346410092,
          2.2584073464100918,
          2.2684073464100916,
          2.2784073464100913,
          2.288407346410091,
          2.298407346410091,
          2.3084073464100907,
          2.3184073464100905,
          2.3284073464100903,
          2.33840734641009,
          2.34840734641009,
          2.3584073464100896,
          2.3684073464100894,
          2.378407346410089,
          2.388407346410089,
          2.398407346410089,
          2.4084073464100886,
          2.4184073464100884,
          2.428407346410088,
          2.438407346410088,
          2.4484073464100877,
          2.4584073464100875,
          2.4684073464100873,
          2.478407346410087,
          2.488407346410087,
          2.4984073464100867,
          2.5084073464100864,
          2.5184073464100862,
          2.528407346410086,
          2.538407346410086,
          2.5484073464100856,
          2.5584073464100854,
          2.568407346410085,
          2.578407346410085,
          2.5884073464100847,
          2.5984073464100845,
          2.6084073464100843,
          2.618407346410084,
          2.628407346410084,
          2.6384073464100837,
          2.6484073464100835,
          2.6584073464100832,
          2.668407346410083,
          2.678407346410083,
          2.6884073464100826,
          2.6984073464100824,
          2.708407346410082,
          2.718407346410082,
          2.7284073464100818,
          2.7384073464100815,
          2.7484073464100813,
          2.758407346410081,
          2.768407346410081,
          2.7784073464100807,
          2.7884073464100805,
          2.7984073464100803,
          2.80840734641008,
          2.81840734641008,
          2.8284073464100796,
          2.8384073464100794,
          2.848407346410079,
          2.858407346410079,
          2.8684073464100788,
          2.8784073464100786,
          2.8884073464100783,
          2.898407346410078,
          2.908407346410078,
          2.9184073464100777,
          2.9284073464100775,
          2.9384073464100773,
          2.948407346410077,
          2.958407346410077,
          2.9684073464100766,
          2.9784073464100764,
          2.988407346410076,
          2.998407346410076,
          3.008407346410076,
          3.0184073464100756,
          3.0284073464100754,
          3.038407346410075,
          3.048407346410075,
          3.0584073464100747,
          3.0684073464100745,
          3.0784073464100743,
          3.088407346410074,
          3.098407346410074,
          3.1084073464100737,
          3.1184073464100734,
          3.1284073464100732,
          3.138407346410073
         ],
         "y": [
          -0.9999999999999999,
          -0.9899501670824987,
          -0.979801339973245,
          -0.9695545335464923,
          -0.9592107724743445,
          -0.9487710911242889,
          -0.9382365334557607,
          -0.9276081529157483,
          -0.9168870123334485,
          -0.9060741838139851,
          -0.8951707486311997,
          -0.8841777971195246,
          -0.8730964285649496,
          -0.8619277510950962,
          -0.8506728815684039,
          -0.8393329454624466,
          -0.8279090767613848,
          -0.8164024178425687,
          -0.8048141193623016,
          -0.7931453401407744,
          -0.7813972470461852,
          -0.7695710148780539,
          -0.7576678262497416,
          -0.7456888714701921,
          -0.733635348424901,
          -0.7215084624561282,
          -0.7093094262423648,
          -0.6970394596770663,
          -0.6846997897466645,
          -0.6722916504078691,
          -0.6598162824642743,
          -0.647274933442278,
          -0.6346688574663315,
          -0.6219993151335275,
          -0.609267573387541,
          -0.5964749053919369,
          -0.5836225904028546,
          -0.5707119136410825,
          -0.5577441661635381,
          -0.5447206447341624,
          -0.5316426516942456,
          -0.5185114948321936,
          -0.5053284872527498,
          -0.4920949472456863,
          -0.47881219815397613,
          -0.4654815682414593,
          -0.45210439056001844,
          -0.43868200281627395,
          -0.4252157472378149,
          -0.4117069704389774,
          -0.398157023286184,
          -0.3845672607628584,
          -0.3709390418339281,
          -0.3572737293099294,
          -0.34357268971072663,
          -0.32983729312886256,
          -0.31606891309254903,
          -0.30226892642831615,
          -0.28843871312333036,
          -0.274579656187397,
          -0.2606931415146605,
          -0.24678055774501617,
          -0.23284329612524712,
          -0.218882750369901,
          -0.20490031652191942,
          -0.19089739281303553,
          -0.17687537952395083,
          -0.1628356788443095,
          -0.14877969473247954,
          -0.13470883277515922,
          -0.12062450004681824,
          -0.10652810496899268,
          -0.09242105716944338,
          -0.0783047673411944,
          -0.06418064710146498,
          -0.05005010885050909,
          -0.03591456563037654,
          -0.021775430983609678,
          -0.007634118811890467,
          0.0065079567653481,
          0.020649381552333312,
          0.034788741418371294,
          0.04892462243925777,
          0.06305561103867086,
          0.0771802941295261,
          0.09129725925528509,
          0.10540509473119941,
          0.11950238978547789,
          0.1335877347003629,
          0.14765972095310043,
          0.16171694135679215,
          0.17575799020111182,
          0.18978146339287594,
          0.20378595859645132,
          0.2177700753739883,
          0.23173241532546218,
          0.24567158222851326,
          0.25958618217806717,
          0.2734748237257244,
          0.2873361180189039,
          0.30116867893972754,
          0.3149711232436302,
          0.3287420706976837,
          0.34248014421861805,
          0.3561839700105298,
          0.3698521777022595,
          0.38348340048442814,
          0.39707627524611666,
          0.4106294427111764,
          0.4241415475741551,
          0.43761123863582657,
          0.45103716893830925,
          0.4644179958997611,
          0.47775238144863674,
          0.49103899215749314,
          0.5042764993763316,
          0.5174635793654614,
          0.5305989134278729,
          0.5436811880411059,
          0.5567090949886009,
          0.5696813314905198,
          0.5825966003340225,
          0.5954536100029875,
          0.6082510748071617,
          0.6209877150107292,
          0.6336622569602841,
          0.6462734332121928,
          0.6588199826593397,
          0.6713006506572357,
          0.6837141891494811,
          0.6960593567925717,
          0.7083349190800303,
          0.7205396484658583,
          0.7326723244872873,
          0.7447317338868257,
          0.7567166707335833,
          0.7686259365438626,
          0.7804583404010069,
          0.792212699074491,
          0.8038878371382427,
          0.8154825870881849,
          0.8269957894589849,
          0.8384262929399997,
          0.8497729544904068,
          0.8610346394535067,
          0.8722102216701877,
          0.883298583591541,
          0.8942986163906149,
          0.9052092200732963,
          0.9160293035883087,
          0.9267577849363176,
          0.9373935912781282,
          0.9479356590419699,
          0.9583829340298512,
          0.9687343715229793,
          0.978988936386231,
          0.9891456031716654,
          0.9992033562210679,
          1.0091611897675152,
          1.0190181080359504,
          1.0287731253427608,
          1.0384252661943454,
          1.0479735653846618,
          1.057417068091748,
          1.0667548299732035,
          1.0759859172606208,
          1.0851094068529639,
          1.0941243864088763,
          1.1030299544379156,
          1.1118252203906995,
          1.1205093047479622,
          1.1290813391085048,
          1.1375404662760344,
          1.1458858403448837,
          1.1541166267846004,
          1.162232002523399,
          1.1702311560304688,
          1.178113287397125,
          1.1858776084167992,
          1.1935233426638598,
          1.2010497255712538,
          1.208456004506962,
          1.2157414388492624,
          1.2229053000607926,
          1.229946871761401,
          1.2368654497997857,
          1.2436603423239083,
          1.2503308698501787,
          1.2568763653314028,
          1.2632961742234874,
          1.269589654550893,
          1.275756176970831,
          1.2817951248361987,
          1.287705894257242,
          1.293487894161944,
          1.299140546355133,
          1.3046632855763,
          1.3100555595561252,
          1.3153168290717039,
          1.3204465680004693,
          1.3254442633728032,
          1.3303094154233328,
          1.3350415376409077,
          1.3396401568172494,
          1.3441048130942725,
          1.3484350600100699,
          1.352630464543558,
          1.3566906071577804,
          1.3606150818418588,
          1.3644034961515952,
          1.3680554712487152,
          1.371570641938753,
          1.3749486567075686,
          1.3781891777565003,
          1.3812918810361432,
          1.3842564562787554,
          1.3870826070292832,
          1.389770050675006,
          1.3923185184737994,
          1.394727755581007,
          1.3969975210749257,
          1.3991275879808975,
          1.401117743294007,
          1.4029677880003815,
          1.4046775370970919,
          1.406246819610653,
          1.407675478614122,
          1.408963371242788,
          1.4101103687084624,
          1.4111163563123539,
          1.4119812334565405,
          1.4127049136540286,
          1.4132873245374014,
          1.413728407866056,
          1.414028119532027,
          1.4141864295643978,
          1.414203322132297,
          1.4140787955464815,
          1.4138128622595068,
          1.4134055488644792,
          1.4128568960923995,
          1.4121669588080874,
          1.4113358060046963,
          1.410363520796814,
          1.409250200412151,
          1.4079959561818178,
          1.406600913529193,
          1.4050652119573783,
          1.403389005035252,
          1.4015724603821091,
          1.3996157596509011,
          1.3975190985100703,
          1.3952826866239842,
          1.3929067476319674,
          1.390391519125939,
          1.3877372526266538,
          1.38494421355855,
          1.3820126812232063,
          1.378942948771414,
          1.3757353231738598,
          1.3723901251904302,
          1.3689076893381364,
          1.3652883638576616,
          1.3615325106785374,
          1.357640505382952,
          1.3536127371681914,
          1.3494496088077212,
          1.3451515366109077,
          1.340718950381389,
          1.3361522933740941,
          1.3314520222509185,
          1.3266186070350572,
          1.3216525310640046,
          1.316554290941219,
          1.3113243964864638,
          1.305963370684827,
          1.3004717496344207,
          1.294850082492774,
          1.2890989314219161,
          1.2832188715321615,
          1.2772104908245994,
          1.2710743901322932,
          1.2648111830601987,
          1.258421495923804,
          1.2519059676864983,
          1.2452652498956753,
          1.2385000066175804,
          1.2316109143709038,
          1.224598662059129,
          1.2174639509016436,
          1.210207494363618,
          1.202830018084659,
          1.1953322598062466,
          1.1877149692979603,
          1.1799789082825036,
          1.172124850359531,
          1.16415358092829,
          1.1560658971090807,
          1.1478626076635456,
          1.1395445329137934,
          1.1311125046603667,
          1.122567366099065,
          1.1139099717366228,
          1.1051411873052623,
          1.0962618896761192,
          1.087272966771557,
          1.0781753174763753,
          1.0689698515479225,
          1.0596574895251203,
          1.0502391626364103,
          1.0407158127066332,
          1.0310883920628457,
          1.0213578634390894,
          1.0115251998801178,
          1.0015913846440931,
          0.9915574111042609,
          0.9814242826496132,
          0.9711930125845514,
          0.9608646240275559,
          0.9504401498088756,
          0.9399206323672451,
          0.9293071236456426,
          0.9186006849860955,
          0.9078023870235479,
          0.8969133095787973,
          0.8859345415505141,
          0.8748671808063522,
          0.8637123340731632,
          0.8524711168263248,
          0.8411446531781941,
          0.8297340757656969,
          0.818240525637066,
          0.8066651521377363,
          0.7950091127954114,
          0.7832735732043126,
          0.771459706908619,
          0.7595686952851154,
          0.7476017274250553,
          0.7355600000152519,
          0.7234447172184116,
          0.7112570905527181,
          0.6989983387706815,
          0.6866696877372647,
          0.674272370307297,
          0.6618076262021902,
          0.6492767018859678,
          0.636680850440619,
          0.6240213314407914,
          0.6112994108278361,
          0.5985163607832125,
          0.5856734596012723,
          0.5727719915614318,
          0.5598132467997434,
          0.5467985211798847,
          0.5337291161635718,
          0.5206063386804153,
          0.5074315009972279,
          0.49420592058679913,
          0.4809309199961485,
          0.46760782671427253,
          0.4542379730393973,
          0.44082269594574836,
          0.4273633369498558,
          0.41386124197640334,
          0.4003177612236364,
          0.3867342490283441,
          0.3731120637304263,
          0.35945256753706134,
          0.3457571263864855,
          0.3320271098114008,
          0.31826389080202344,
          0.30446884566878496,
          0.29064335390470264,
          0.27678879804743195,
          0.26290656354101305,
          0.24899803859732805,
          0.23506461405728107,
          0.22110768325171493,
          0.20712864186207935,
          0.19312888778086412,
          0.17910982097181116,
          0.16507284332991856,
          0.15101935854125326,
          0.13695077194258287,
          0.12286849038084346,
          0.10877392207245618,
          0.0946684764625062,
          0.0805535640838001,
          0.06643059641581339,
          0.05230098574354369,
          0.03816614501628368,
          0.02402748770632701,
          0.00988642766762271,
          -0.004255621005609944,
          -0.018397244120288203,
          -0.0325370275258855,
          -0.04667355725584432,
          -0.060805419668971905,
          -0.0749312015908038,
          -0.08904949045491883,
          -0.10315887444419625,
          -0.11725794263199463,
          -0.1313452851232445,
          -0.1454194931954359,
          -0.15947915943949043,
          -0.1735228779004998,
          -0.1875492442183211,
          -0.20155685576801097,
          -0.2155443118000876,
          -0.22951021358060386,
          -0.24345316453101995,
          -0.2573717703678601,
          -0.27126463924213884,
          -0.28513038187854667,
          -0.29896761171437447,
          -0.3127749450381698,
          -0.3265510011281061,
          -0.3402944023900546,
          -0.3540037744953418,
          -0.3676777465181817,
          -0.38131495107276675,
          -0.3949140244500059,
          -0.40847360675389405,
          -0.42199234203750047,
          -0.435468878438562,
          -0.44890186831466944,
          -0.46228996837802894,
          -0.47563183982979096,
          -0.4889261484939286,
          -0.502171564950654,
          -0.5153667646693592,
          -0.5285104281410682,
          -0.5416012410103872,
          -0.5546378942069379,
          -0.5676190840762647,
          -0.5805435125101981,
          -0.5934098870766651,
          -0.6062169211489312,
          -0.6189633340342615,
          -0.6316478511019893,
          -0.6442692039109783,
          -0.6568261303364655,
          -0.6693173746962724,
          -0.6817416878763722,
          -0.6940978274558007,
          -0.7063845578308964,
          -0.7186006503388609,
          -0.7307448833806234,
          -0.7428160425429999,
          -0.7548129207201334,
          -0.7667343182342036,
          -0.7785790429553934,
          -0.7903459104211014,
          -0.8020337439543868,
          -0.8136413747816358,
          -0.8251676421494389,
          -0.8366113934406647,
          -0.8479714842897201,
          -0.8592467786969871,
          -0.870436149142421,
          -0.8815384766983015,
          -0.8925526511411255,
          -0.9034775710626265,
          -0.9143121439799169,
          -0.9250552864447334,
          -0.9357059241517824,
          -0.9462629920461685,
          -0.9567254344298999,
          -0.9670922050674567,
          -0.9773622672904144,
          -0.9875345941011088,
          -0.9976081682753359,
          -1.0075819824640728,
          -1.0174550392942123,
          -1.0272263514682987,
          -1.0368949418632574,
          -1.0464598436281058,
          -1.0559201002806384,
          -1.0652747658030737,
          -1.0745229047366545,
          -1.0836635922751943,
          -1.0926959143575568,
          -1.1016189677590604,
          -1.1104318601818008,
          -1.1191337103438799,
          -1.1277236480675328,
          -1.1362008143661455,
          -1.1445643615301524,
          -1.152813453211807,
          -1.160947264508815,
          -1.1689649820468249,
          -1.1768658040607645,
          -1.184648940475016,
          -1.1923136129824243,
          -1.1998590551221258,
          -1.2072845123561942,
          -1.2145892421450941,
          -1.221772514021934,
          -1.2288336096655117,
          -1.2357718229721477,
          -1.2425864601262928,
          -1.2492768396699105,
          -1.255842292570622,
          -1.2622821622886082,
          -1.2685958048422636,
          -1.2747825888725945,
          -1.2808418957063537,
          -1.2867731194179066,
          -1.2925756668898252,
          -1.2982489578721976,
          -1.3037924250406534,
          -1.3092055140530952,
          -1.3144876836051325,
          -1.319638405484212,
          -1.3246571646224383,
          -1.3295434591480797,
          -1.3342968004357554,
          -1.3389167131552977,
          -1.3434027353192848,
          -1.3477544183292385,
          -1.3519713270204843,
          -1.356053039705667,
          -1.3599991482169196,
          -1.3638092579466794,
          -1.3674829878871484,
          -1.371019970668394,
          -1.3744198525950857,
          -1.3776822936818638,
          -1.3808069676873385,
          -1.3837935621467132,
          -1.3866417784030307,
          -1.389351331637039,
          -1.3919219508956722,
          -1.3943533791191471,
          -1.3966453731666673,
          -1.3987977038407382,
          -1.4008101559100858,
          -1.4026825281311806,
          -1.40441463326836,
          -1.4060062981125547,
          -1.4074573634986058,
          -1.4087676843211845,
          -1.4099371295493,
          -1.4109655822394043,
          -1.4118529395470856,
          -1.4125991127373525,
          -1.4132040271935074,
          -1.413667622424609,
          -1.4139898520715208,
          -1.4141706839115462,
          -1.4142100998616522,
          -1.4141080959802765,
          -1.4138646824677223,
          -1.413479883665138,
          -1.4129537380520831,
          -1.4122862982426807,
          -1.4114776309803552,
          -1.4105278171311588,
          -1.4094369516756857,
          -1.408205143699572,
          -1.4068325163825883,
          -1.4053192069863232,
          -1.4036653668404546,
          -1.4018711613276194,
          -1.3999367698668734,
          -1.3978623858957508,
          -1.3956482168509203,
          -1.3932944841474408,
          -1.3908014231566215,
          -1.388169283182484,
          -1.3853983274368318,
          -1.382488833012931,
          -1.379441090857799,
          -1.3762554057431116,
          -1.3729320962347256,
          -1.3694714946608224,
          -1.3658739470786756,
          -1.3621398132400455,
          -1.3582694665552038,
          -1.3542632940555943,
          -1.3501216963551284,
          -1.3458450876101242,
          -1.341433895477893,
          -1.336888561073972,
          -1.3322095389280135,
          -1.3273972969383334,
          -1.32245231632512,
          -1.3173750915823141,
          -1.3121661304281589,
          -1.3068259537544291,
          -1.3013550955743416,
          -1.295754102969156,
          -1.2900235360334644,
          -1.284163967819186,
          -1.2781759842782587,
          -1.2720601842040464,
          -1.2658171791714607,
          -1.2594475934758018,
          -1.2529520640703313,
          -1.2463312405025775,
          -1.2395857848493788,
          -1.2327163716506804,
          -1.2257236878420767,
          -1.218608432686122,
          -1.2113713177024024,
          -1.204013066596385,
          -1.1965344151870492,
          -1.1889361113333032,
          -1.1812189148592007,
          -1.1733835974779583,
          -1.1654309427147842,
          -1.1573617458285281,
          -1.1491768137321539,
          -1.1408769649120507,
          -1.132463029346184,
          -1.1239358484210984,
          -1.115296274847781,
          -1.1065451725763893,
          -1.097683416709858,
          -1.0887118934163886,
          -1.0796314998408347,
          -1.0704431440149864,
          -1.0611477447667699,
          -1.0517462316283632,
          -1.0422395447432462,
          -1.032628634772185,
          -1.0229144627981672,
          -1.0130980002302958,
          -1.0031802287066467
         ]
        },
        {
         "type": "scatter",
         "x": [
          -0.7853981633974483
         ],
         "y": [
          1.4142135623730951
         ]
        },
        {
         "type": "scatter",
         "x": [
          2.356194490192345
         ],
         "y": [
          -1.414213562373095
         ]
        },
        {
         "type": "scatter",
         "x": [
          0.7853981633974483
         ],
         "y": [
          0
         ]
        }
       ],
       "layout": {
        "template": {
         "data": {
          "bar": [
           {
            "error_x": {
             "color": "#2a3f5f"
            },
            "error_y": {
             "color": "#2a3f5f"
            },
            "marker": {
             "line": {
              "color": "#E5ECF6",
              "width": 0.5
             },
             "pattern": {
              "fillmode": "overlay",
              "size": 10,
              "solidity": 0.2
             }
            },
            "type": "bar"
           }
          ],
          "barpolar": [
           {
            "marker": {
             "line": {
              "color": "#E5ECF6",
              "width": 0.5
             },
             "pattern": {
              "fillmode": "overlay",
              "size": 10,
              "solidity": 0.2
             }
            },
            "type": "barpolar"
           }
          ],
          "carpet": [
           {
            "aaxis": {
             "endlinecolor": "#2a3f5f",
             "gridcolor": "white",
             "linecolor": "white",
             "minorgridcolor": "white",
             "startlinecolor": "#2a3f5f"
            },
            "baxis": {
             "endlinecolor": "#2a3f5f",
             "gridcolor": "white",
             "linecolor": "white",
             "minorgridcolor": "white",
             "startlinecolor": "#2a3f5f"
            },
            "type": "carpet"
           }
          ],
          "choropleth": [
           {
            "colorbar": {
             "outlinewidth": 0,
             "ticks": ""
            },
            "type": "choropleth"
           }
          ],
          "contour": [
           {
            "colorbar": {
             "outlinewidth": 0,
             "ticks": ""
            },
            "colorscale": [
             [
              0,
              "#0d0887"
             ],
             [
              0.1111111111111111,
              "#46039f"
             ],
             [
              0.2222222222222222,
              "#7201a8"
             ],
             [
              0.3333333333333333,
              "#9c179e"
             ],
             [
              0.4444444444444444,
              "#bd3786"
             ],
             [
              0.5555555555555556,
              "#d8576b"
             ],
             [
              0.6666666666666666,
              "#ed7953"
             ],
             [
              0.7777777777777778,
              "#fb9f3a"
             ],
             [
              0.8888888888888888,
              "#fdca26"
             ],
             [
              1,
              "#f0f921"
             ]
            ],
            "type": "contour"
           }
          ],
          "contourcarpet": [
           {
            "colorbar": {
             "outlinewidth": 0,
             "ticks": ""
            },
            "type": "contourcarpet"
           }
          ],
          "heatmap": [
           {
            "colorbar": {
             "outlinewidth": 0,
             "ticks": ""
            },
            "colorscale": [
             [
              0,
              "#0d0887"
             ],
             [
              0.1111111111111111,
              "#46039f"
             ],
             [
              0.2222222222222222,
              "#7201a8"
             ],
             [
              0.3333333333333333,
              "#9c179e"
             ],
             [
              0.4444444444444444,
              "#bd3786"
             ],
             [
              0.5555555555555556,
              "#d8576b"
             ],
             [
              0.6666666666666666,
              "#ed7953"
             ],
             [
              0.7777777777777778,
              "#fb9f3a"
             ],
             [
              0.8888888888888888,
              "#fdca26"
             ],
             [
              1,
              "#f0f921"
             ]
            ],
            "type": "heatmap"
           }
          ],
          "heatmapgl": [
           {
            "colorbar": {
             "outlinewidth": 0,
             "ticks": ""
            },
            "colorscale": [
             [
              0,
              "#0d0887"
             ],
             [
              0.1111111111111111,
              "#46039f"
             ],
             [
              0.2222222222222222,
              "#7201a8"
             ],
             [
              0.3333333333333333,
              "#9c179e"
             ],
             [
              0.4444444444444444,
              "#bd3786"
             ],
             [
              0.5555555555555556,
              "#d8576b"
             ],
             [
              0.6666666666666666,
              "#ed7953"
             ],
             [
              0.7777777777777778,
              "#fb9f3a"
             ],
             [
              0.8888888888888888,
              "#fdca26"
             ],
             [
              1,
              "#f0f921"
             ]
            ],
            "type": "heatmapgl"
           }
          ],
          "histogram": [
           {
            "marker": {
             "pattern": {
              "fillmode": "overlay",
              "size": 10,
              "solidity": 0.2
             }
            },
            "type": "histogram"
           }
          ],
          "histogram2d": [
           {
            "colorbar": {
             "outlinewidth": 0,
             "ticks": ""
            },
            "colorscale": [
             [
              0,
              "#0d0887"
             ],
             [
              0.1111111111111111,
              "#46039f"
             ],
             [
              0.2222222222222222,
              "#7201a8"
             ],
             [
              0.3333333333333333,
              "#9c179e"
             ],
             [
              0.4444444444444444,
              "#bd3786"
             ],
             [
              0.5555555555555556,
              "#d8576b"
             ],
             [
              0.6666666666666666,
              "#ed7953"
             ],
             [
              0.7777777777777778,
              "#fb9f3a"
             ],
             [
              0.8888888888888888,
              "#fdca26"
             ],
             [
              1,
              "#f0f921"
             ]
            ],
            "type": "histogram2d"
           }
          ],
          "histogram2dcontour": [
           {
            "colorbar": {
             "outlinewidth": 0,
             "ticks": ""
            },
            "colorscale": [
             [
              0,
              "#0d0887"
             ],
             [
              0.1111111111111111,
              "#46039f"
             ],
             [
              0.2222222222222222,
              "#7201a8"
             ],
             [
              0.3333333333333333,
              "#9c179e"
             ],
             [
              0.4444444444444444,
              "#bd3786"
             ],
             [
              0.5555555555555556,
              "#d8576b"
             ],
             [
              0.6666666666666666,
              "#ed7953"
             ],
             [
              0.7777777777777778,
              "#fb9f3a"
             ],
             [
              0.8888888888888888,
              "#fdca26"
             ],
             [
              1,
              "#f0f921"
             ]
            ],
            "type": "histogram2dcontour"
           }
          ],
          "mesh3d": [
           {
            "colorbar": {
             "outlinewidth": 0,
             "ticks": ""
            },
            "type": "mesh3d"
           }
          ],
          "parcoords": [
           {
            "line": {
             "colorbar": {
              "outlinewidth": 0,
              "ticks": ""
             }
            },
            "type": "parcoords"
           }
          ],
          "pie": [
           {
            "automargin": true,
            "type": "pie"
           }
          ],
          "scatter": [
           {
            "fillpattern": {
             "fillmode": "overlay",
             "size": 10,
             "solidity": 0.2
            },
            "type": "scatter"
           }
          ],
          "scatter3d": [
           {
            "line": {
             "colorbar": {
              "outlinewidth": 0,
              "ticks": ""
             }
            },
            "marker": {
             "colorbar": {
              "outlinewidth": 0,
              "ticks": ""
             }
            },
            "type": "scatter3d"
           }
          ],
          "scattercarpet": [
           {
            "marker": {
             "colorbar": {
              "outlinewidth": 0,
              "ticks": ""
             }
            },
            "type": "scattercarpet"
           }
          ],
          "scattergeo": [
           {
            "marker": {
             "colorbar": {
              "outlinewidth": 0,
              "ticks": ""
             }
            },
            "type": "scattergeo"
           }
          ],
          "scattergl": [
           {
            "marker": {
             "colorbar": {
              "outlinewidth": 0,
              "ticks": ""
             }
            },
            "type": "scattergl"
           }
          ],
          "scattermapbox": [
           {
            "marker": {
             "colorbar": {
              "outlinewidth": 0,
              "ticks": ""
             }
            },
            "type": "scattermapbox"
           }
          ],
          "scatterpolar": [
           {
            "marker": {
             "colorbar": {
              "outlinewidth": 0,
              "ticks": ""
             }
            },
            "type": "scatterpolar"
           }
          ],
          "scatterpolargl": [
           {
            "marker": {
             "colorbar": {
              "outlinewidth": 0,
              "ticks": ""
             }
            },
            "type": "scatterpolargl"
           }
          ],
          "scatterternary": [
           {
            "marker": {
             "colorbar": {
              "outlinewidth": 0,
              "ticks": ""
             }
            },
            "type": "scatterternary"
           }
          ],
          "surface": [
           {
            "colorbar": {
             "outlinewidth": 0,
             "ticks": ""
            },
            "colorscale": [
             [
              0,
              "#0d0887"
             ],
             [
              0.1111111111111111,
              "#46039f"
             ],
             [
              0.2222222222222222,
              "#7201a8"
             ],
             [
              0.3333333333333333,
              "#9c179e"
             ],
             [
              0.4444444444444444,
              "#bd3786"
             ],
             [
              0.5555555555555556,
              "#d8576b"
             ],
             [
              0.6666666666666666,
              "#ed7953"
             ],
             [
              0.7777777777777778,
              "#fb9f3a"
             ],
             [
              0.8888888888888888,
              "#fdca26"
             ],
             [
              1,
              "#f0f921"
             ]
            ],
            "type": "surface"
           }
          ],
          "table": [
           {
            "cells": {
             "fill": {
              "color": "#EBF0F8"
             },
             "line": {
              "color": "white"
             }
            },
            "header": {
             "fill": {
              "color": "#C8D4E3"
             },
             "line": {
              "color": "white"
             }
            },
            "type": "table"
           }
          ]
         },
         "layout": {
          "annotationdefaults": {
           "arrowcolor": "#2a3f5f",
           "arrowhead": 0,
           "arrowwidth": 1
          },
          "autotypenumbers": "strict",
          "coloraxis": {
           "colorbar": {
            "outlinewidth": 0,
            "ticks": ""
           }
          },
          "colorscale": {
           "diverging": [
            [
             0,
             "#8e0152"
            ],
            [
             0.1,
             "#c51b7d"
            ],
            [
             0.2,
             "#de77ae"
            ],
            [
             0.3,
             "#f1b6da"
            ],
            [
             0.4,
             "#fde0ef"
            ],
            [
             0.5,
             "#f7f7f7"
            ],
            [
             0.6,
             "#e6f5d0"
            ],
            [
             0.7,
             "#b8e186"
            ],
            [
             0.8,
             "#7fbc41"
            ],
            [
             0.9,
             "#4d9221"
            ],
            [
             1,
             "#276419"
            ]
           ],
           "sequential": [
            [
             0,
             "#0d0887"
            ],
            [
             0.1111111111111111,
             "#46039f"
            ],
            [
             0.2222222222222222,
             "#7201a8"
            ],
            [
             0.3333333333333333,
             "#9c179e"
            ],
            [
             0.4444444444444444,
             "#bd3786"
            ],
            [
             0.5555555555555556,
             "#d8576b"
            ],
            [
             0.6666666666666666,
             "#ed7953"
            ],
            [
             0.7777777777777778,
             "#fb9f3a"
            ],
            [
             0.8888888888888888,
             "#fdca26"
            ],
            [
             1,
             "#f0f921"
            ]
           ],
           "sequentialminus": [
            [
             0,
             "#0d0887"
            ],
            [
             0.1111111111111111,
             "#46039f"
            ],
            [
             0.2222222222222222,
             "#7201a8"
            ],
            [
             0.3333333333333333,
             "#9c179e"
            ],
            [
             0.4444444444444444,
             "#bd3786"
            ],
            [
             0.5555555555555556,
             "#d8576b"
            ],
            [
             0.6666666666666666,
             "#ed7953"
            ],
            [
             0.7777777777777778,
             "#fb9f3a"
            ],
            [
             0.8888888888888888,
             "#fdca26"
            ],
            [
             1,
             "#f0f921"
            ]
           ]
          },
          "colorway": [
           "#636efa",
           "#EF553B",
           "#00cc96",
           "#ab63fa",
           "#FFA15A",
           "#19d3f3",
           "#FF6692",
           "#B6E880",
           "#FF97FF",
           "#FECB52"
          ],
          "font": {
           "color": "#2a3f5f"
          },
          "geo": {
           "bgcolor": "white",
           "lakecolor": "white",
           "landcolor": "#E5ECF6",
           "showlakes": true,
           "showland": true,
           "subunitcolor": "white"
          },
          "hoverlabel": {
           "align": "left"
          },
          "hovermode": "closest",
          "mapbox": {
           "style": "light"
          },
          "paper_bgcolor": "white",
          "plot_bgcolor": "#E5ECF6",
          "polar": {
           "angularaxis": {
            "gridcolor": "white",
            "linecolor": "white",
            "ticks": ""
           },
           "bgcolor": "#E5ECF6",
           "radialaxis": {
            "gridcolor": "white",
            "linecolor": "white",
            "ticks": ""
           }
          },
          "scene": {
           "xaxis": {
            "backgroundcolor": "#E5ECF6",
            "gridcolor": "white",
            "gridwidth": 2,
            "linecolor": "white",
            "showbackground": true,
            "ticks": "",
            "zerolinecolor": "white"
           },
           "yaxis": {
            "backgroundcolor": "#E5ECF6",
            "gridcolor": "white",
            "gridwidth": 2,
            "linecolor": "white",
            "showbackground": true,
            "ticks": "",
            "zerolinecolor": "white"
           },
           "zaxis": {
            "backgroundcolor": "#E5ECF6",
            "gridcolor": "white",
            "gridwidth": 2,
            "linecolor": "white",
            "showbackground": true,
            "ticks": "",
            "zerolinecolor": "white"
           }
          },
          "shapedefaults": {
           "line": {
            "color": "#2a3f5f"
           }
          },
          "ternary": {
           "aaxis": {
            "gridcolor": "white",
            "linecolor": "white",
            "ticks": ""
           },
           "baxis": {
            "gridcolor": "white",
            "linecolor": "white",
            "ticks": ""
           },
           "bgcolor": "#E5ECF6",
           "caxis": {
            "gridcolor": "white",
            "linecolor": "white",
            "ticks": ""
           }
          },
          "title": {
           "x": 0.05
          },
          "xaxis": {
           "automargin": true,
           "gridcolor": "white",
           "linecolor": "white",
           "ticks": "",
           "title": {
            "standoff": 15
           },
           "zerolinecolor": "white",
           "zerolinewidth": 2
          },
          "yaxis": {
           "automargin": true,
           "gridcolor": "white",
           "linecolor": "white",
           "ticks": "",
           "title": {
            "standoff": 15
           },
           "zerolinecolor": "white",
           "zerolinewidth": 2
          }
         }
        },
        "title": {
         "text": "Gráfico de la función $f(x) = \\cos(x) - \\sin(x)$"
        },
        "xaxis": {
         "title": {
          "text": "x"
         }
        },
        "yaxis": {
         "title": {
          "text": "y"
         }
        }
       }
      },
      "text/html": [
       "<div>                            <div id=\"035c8192-a927-4e21-a20c-a04d11b417bc\" class=\"plotly-graph-div\" style=\"height:525px; width:100%;\"></div>            <script type=\"text/javascript\">                require([\"plotly\"], function(Plotly) {                    window.PLOTLYENV=window.PLOTLYENV || {};                                    if (document.getElementById(\"035c8192-a927-4e21-a20c-a04d11b417bc\")) {                    Plotly.newPlot(                        \"035c8192-a927-4e21-a20c-a04d11b417bc\",                        [{\"x\":[-3.141592653589793,-3.1315926535897933,-3.1215926535897935,-3.1115926535897938,-3.101592653589794,-3.091592653589794,-3.0815926535897944,-3.0715926535897946,-3.061592653589795,-3.051592653589795,-3.0415926535897952,-3.0315926535897955,-3.0215926535897957,-3.011592653589796,-3.001592653589796,-2.9915926535897963,-2.9815926535897965,-2.9715926535897967,-2.961592653589797,-2.951592653589797,-2.9415926535897974,-2.9315926535897976,-2.921592653589798,-2.911592653589798,-2.9015926535897982,-2.8915926535897984,-2.8815926535897987,-2.871592653589799,-2.861592653589799,-2.8515926535897993,-2.8415926535897995,-2.8315926535897997,-2.8215926535898,-2.8115926535898,-2.8015926535898004,-2.7915926535898006,-2.781592653589801,-2.771592653589801,-2.761592653589801,-2.7515926535898014,-2.7415926535898016,-2.731592653589802,-2.721592653589802,-2.7115926535898023,-2.7015926535898025,-2.6915926535898027,-2.681592653589803,-2.671592653589803,-2.6615926535898033,-2.6515926535898036,-2.6415926535898038,-2.631592653589804,-2.621592653589804,-2.6115926535898044,-2.6015926535898046,-2.591592653589805,-2.581592653589805,-2.5715926535898053,-2.5615926535898055,-2.5515926535898057,-2.541592653589806,-2.531592653589806,-2.5215926535898063,-2.5115926535898065,-2.5015926535898068,-2.491592653589807,-2.481592653589807,-2.4715926535898074,-2.4615926535898076,-2.451592653589808,-2.441592653589808,-2.4315926535898083,-2.4215926535898085,-2.4115926535898087,-2.401592653589809,-2.391592653589809,-2.3815926535898093,-2.3715926535898095,-2.3615926535898097,-2.35159265358981,-2.34159265358981,-2.3315926535898104,-2.3215926535898106,-2.311592653589811,-2.301592653589811,-2.2915926535898112,-2.2815926535898114,-2.2715926535898117,-2.261592653589812,-2.251592653589812,-2.2415926535898123,-2.2315926535898125,-2.2215926535898127,-2.211592653589813,-2.201592653589813,-2.1915926535898134,-2.1815926535898136,-2.171592653589814,-2.161592653589814,-2.151592653589814,-2.1415926535898144,-2.1315926535898146,-2.121592653589815,-2.111592653589815,-2.1015926535898153,-2.0915926535898155,-2.0815926535898157,-2.071592653589816,-2.061592653589816,-2.0515926535898164,-2.0415926535898166,-2.0315926535898168,-2.021592653589817,-2.011592653589817,-2.0015926535898174,-1.9915926535898176,-1.9815926535898178,-1.971592653589818,-1.9615926535898183,-1.9515926535898185,-1.9415926535898187,-1.931592653589819,-1.9215926535898191,-1.9115926535898193,-1.9015926535898195,-1.8915926535898198,-1.88159265358982,-1.8715926535898202,-1.8615926535898204,-1.8515926535898206,-1.8415926535898208,-1.831592653589821,-1.8215926535898213,-1.8115926535898215,-1.8015926535898217,-1.791592653589822,-1.781592653589822,-1.7715926535898223,-1.7615926535898225,-1.7515926535898227,-1.741592653589823,-1.7315926535898232,-1.7215926535898234,-1.7115926535898236,-1.7015926535898238,-1.691592653589824,-1.6815926535898242,-1.6715926535898245,-1.6615926535898247,-1.6515926535898249,-1.641592653589825,-1.6315926535898253,-1.6215926535898255,-1.6115926535898257,-1.601592653589826,-1.5915926535898262,-1.5815926535898264,-1.5715926535898266,-1.5615926535898268,-1.551592653589827,-1.5415926535898272,-1.5315926535898274,-1.5215926535898276,-1.5115926535898279,-1.501592653589828,-1.4915926535898283,-1.4815926535898285,-1.4715926535898287,-1.461592653589829,-1.4515926535898291,-1.4415926535898294,-1.4315926535898296,-1.4215926535898298,-1.41159265358983,-1.4015926535898302,-1.3915926535898304,-1.3815926535898306,-1.3715926535898308,-1.361592653589831,-1.3515926535898313,-1.3415926535898315,-1.3315926535898317,-1.321592653589832,-1.3115926535898321,-1.3015926535898323,-1.2915926535898326,-1.2815926535898328,-1.271592653589833,-1.2615926535898332,-1.2515926535898334,-1.2415926535898336,-1.2315926535898338,-1.221592653589834,-1.2115926535898343,-1.2015926535898345,-1.1915926535898347,-1.181592653589835,-1.171592653589835,-1.1615926535898353,-1.1515926535898355,-1.1415926535898357,-1.131592653589836,-1.1215926535898362,-1.1115926535898364,-1.1015926535898366,-1.0915926535898368,-1.081592653589837,-1.0715926535898372,-1.0615926535898375,-1.0515926535898377,-1.0415926535898379,-1.031592653589838,-1.0215926535898383,-1.0115926535898385,-1.0015926535898387,-0.991592653589839,-0.9815926535898392,-0.9715926535898394,-0.9615926535898396,-0.9515926535898398,-0.94159265358984,-0.9315926535898402,-0.9215926535898404,-0.9115926535898407,-0.9015926535898409,-0.8915926535898411,-0.8815926535898413,-0.8715926535898415,-0.8615926535898417,-0.8515926535898419,-0.8415926535898421,-0.8315926535898424,-0.8215926535898426,-0.8115926535898428,-0.801592653589843,-0.7915926535898432,-0.7815926535898434,-0.7715926535898436,-0.7615926535898438,-0.7515926535898441,-0.7415926535898443,-0.7315926535898445,-0.7215926535898447,-0.7115926535898449,-0.7015926535898451,-0.6915926535898453,-0.6815926535898456,-0.6715926535898458,-0.661592653589846,-0.6515926535898462,-0.6415926535898464,-0.6315926535898466,-0.6215926535898468,-0.611592653589847,-0.6015926535898473,-0.5915926535898475,-0.5815926535898477,-0.5715926535898479,-0.5615926535898481,-0.5515926535898483,-0.5415926535898485,-0.5315926535898488,-0.521592653589849,-0.5115926535898492,-0.5015926535898494,-0.4915926535898496,-0.4815926535898498,-0.47159265358985003,-0.46159265358985024,-0.45159265358985046,-0.44159265358985067,-0.4315926535898509,-0.4215926535898511,-0.4115926535898513,-0.4015926535898515,-0.39159265358985174,-0.38159265358985195,-0.37159265358985216,-0.3615926535898524,-0.3515926535898526,-0.3415926535898528,-0.331592653589853,-0.32159265358985323,-0.31159265358985344,-0.30159265358985365,-0.29159265358985387,-0.2815926535898541,-0.2715926535898543,-0.2615926535898545,-0.2515926535898547,-0.24159265358985493,-0.23159265358985515,-0.22159265358985536,-0.21159265358985557,-0.20159265358985579,-0.191592653589856,-0.1815926535898562,-0.17159265358985643,-0.16159265358985664,-0.15159265358985685,-0.14159265358985706,-0.13159265358985728,-0.12159265358985749,-0.1115926535898577,-0.10159265358985792,-0.09159265358985813,-0.08159265358985834,-0.07159265358985856,-0.06159265358985877,-0.05159265358985898,-0.041592653589859196,-0.03159265358985941,-0.021592653589859623,-0.011592653589859836,-0.0015926535898600491,0.008407346410139738,0.018407346410139525,0.02840734641013931,0.0384073464101391,0.048407346410138885,0.05840734641013867,0.06840734641013846,0.07840734641013825,0.08840734641013803,0.09840734641013782,0.1084073464101376,0.11840734641013739,0.12840734641013718,0.13840734641013697,0.14840734641013675,0.15840734641013654,0.16840734641013633,0.17840734641013611,0.1884073464101359,0.1984073464101357,0.20840734641013547,0.21840734641013526,0.22840734641013505,0.23840734641013483,0.24840734641013462,0.2584073464101344,0.2684073464101342,0.278407346410134,0.28840734641013377,0.29840734641013356,0.30840734641013334,0.31840734641013313,0.3284073464101329,0.3384073464101327,0.3484073464101325,0.3584073464101323,0.36840734641013206,0.37840734641013185,0.38840734641013164,0.3984073464101314,0.4084073464101312,0.418407346410131,0.4284073464101308,0.43840734641013057,0.44840734641013036,0.45840734641013015,0.46840734641012993,0.4784073464101297,0.4884073464101295,0.4984073464101293,0.5084073464101291,0.5184073464101289,0.5284073464101287,0.5384073464101284,0.5484073464101282,0.558407346410128,0.5684073464101278,0.5784073464101276,0.5884073464101274,0.5984073464101272,0.608407346410127,0.6184073464101267,0.6284073464101265,0.6384073464101263,0.6484073464101261,0.6584073464101259,0.6684073464101257,0.6784073464101255,0.6884073464101252,0.698407346410125,0.7084073464101248,0.7184073464101246,0.7284073464101244,0.7384073464101242,0.748407346410124,0.7584073464101238,0.7684073464101235,0.7784073464101233,0.7884073464101231,0.7984073464101229,0.8084073464101227,0.8184073464101225,0.8284073464101223,0.838407346410122,0.8484073464101218,0.8584073464101216,0.8684073464101214,0.8784073464101212,0.888407346410121,0.8984073464101208,0.9084073464101206,0.9184073464101203,0.9284073464101201,0.9384073464101199,0.9484073464101197,0.9584073464101195,0.9684073464101193,0.9784073464101191,0.9884073464101188,0.9984073464101186,1.0084073464101184,1.0184073464101182,1.028407346410118,1.0384073464101178,1.0484073464101176,1.0584073464101174,1.0684073464101171,1.078407346410117,1.0884073464101167,1.0984073464101165,1.1084073464101163,1.118407346410116,1.1284073464101159,1.1384073464101157,1.1484073464101154,1.1584073464101152,1.168407346410115,1.1784073464101148,1.1884073464101146,1.1984073464101144,1.2084073464101142,1.218407346410114,1.2284073464101137,1.2384073464101135,1.2484073464101133,1.258407346410113,1.2684073464101129,1.2784073464101127,1.2884073464101125,1.2984073464101122,1.308407346410112,1.3184073464101118,1.3284073464101116,1.3384073464101114,1.3484073464101112,1.358407346410111,1.3684073464101107,1.3784073464101105,1.3884073464101103,1.39840734641011,1.40840734641011,1.4184073464101097,1.4284073464101095,1.4384073464101093,1.448407346410109,1.4584073464101088,1.4684073464101086,1.4784073464101084,1.4884073464101082,1.498407346410108,1.5084073464101078,1.5184073464101076,1.5284073464101073,1.5384073464101071,1.548407346410107,1.5584073464101067,1.5684073464101065,1.5784073464101063,1.588407346410106,1.5984073464101058,1.6084073464101056,1.6184073464101054,1.6284073464101052,1.638407346410105,1.6484073464101048,1.6584073464101046,1.6684073464101044,1.6784073464101041,1.688407346410104,1.6984073464101037,1.7084073464101035,1.7184073464101033,1.728407346410103,1.7384073464101029,1.7484073464101026,1.7584073464101024,1.7684073464101022,1.778407346410102,1.7884073464101018,1.7984073464101016,1.8084073464101014,1.8184073464101012,1.828407346410101,1.8384073464101007,1.8484073464101005,1.8584073464101003,1.8684073464101,1.8784073464100999,1.8884073464100997,1.8984073464100994,1.9084073464100992,1.918407346410099,1.9284073464100988,1.9384073464100986,1.9484073464100984,1.9584073464100982,1.968407346410098,1.9784073464100977,1.9884073464100975,1.9984073464100973,2.008407346410097,2.018407346410097,2.0284073464100967,2.0384073464100965,2.0484073464100963,2.058407346410096,2.068407346410096,2.0784073464100956,2.0884073464100954,2.098407346410095,2.108407346410095,2.1184073464100948,2.1284073464100945,2.1384073464100943,2.148407346410094,2.158407346410094,2.1684073464100937,2.1784073464100935,2.1884073464100933,2.198407346410093,2.208407346410093,2.2184073464100926,2.2284073464100924,2.238407346410092,2.248407346410092,2.2584073464100918,2.2684073464100916,2.2784073464100913,2.288407346410091,2.298407346410091,2.3084073464100907,2.3184073464100905,2.3284073464100903,2.33840734641009,2.34840734641009,2.3584073464100896,2.3684073464100894,2.378407346410089,2.388407346410089,2.398407346410089,2.4084073464100886,2.4184073464100884,2.428407346410088,2.438407346410088,2.4484073464100877,2.4584073464100875,2.4684073464100873,2.478407346410087,2.488407346410087,2.4984073464100867,2.5084073464100864,2.5184073464100862,2.528407346410086,2.538407346410086,2.5484073464100856,2.5584073464100854,2.568407346410085,2.578407346410085,2.5884073464100847,2.5984073464100845,2.6084073464100843,2.618407346410084,2.628407346410084,2.6384073464100837,2.6484073464100835,2.6584073464100832,2.668407346410083,2.678407346410083,2.6884073464100826,2.6984073464100824,2.708407346410082,2.718407346410082,2.7284073464100818,2.7384073464100815,2.7484073464100813,2.758407346410081,2.768407346410081,2.7784073464100807,2.7884073464100805,2.7984073464100803,2.80840734641008,2.81840734641008,2.8284073464100796,2.8384073464100794,2.848407346410079,2.858407346410079,2.8684073464100788,2.8784073464100786,2.8884073464100783,2.898407346410078,2.908407346410078,2.9184073464100777,2.9284073464100775,2.9384073464100773,2.948407346410077,2.958407346410077,2.9684073464100766,2.9784073464100764,2.988407346410076,2.998407346410076,3.008407346410076,3.0184073464100756,3.0284073464100754,3.038407346410075,3.048407346410075,3.0584073464100747,3.0684073464100745,3.0784073464100743,3.088407346410074,3.098407346410074,3.1084073464100737,3.1184073464100734,3.1284073464100732,3.138407346410073],\"y\":[-0.9999999999999999,-0.9899501670824987,-0.979801339973245,-0.9695545335464923,-0.9592107724743445,-0.9487710911242889,-0.9382365334557607,-0.9276081529157483,-0.9168870123334485,-0.9060741838139851,-0.8951707486311997,-0.8841777971195246,-0.8730964285649496,-0.8619277510950962,-0.8506728815684039,-0.8393329454624466,-0.8279090767613848,-0.8164024178425687,-0.8048141193623016,-0.7931453401407744,-0.7813972470461852,-0.7695710148780539,-0.7576678262497416,-0.7456888714701921,-0.733635348424901,-0.7215084624561282,-0.7093094262423648,-0.6970394596770663,-0.6846997897466645,-0.6722916504078691,-0.6598162824642743,-0.647274933442278,-0.6346688574663315,-0.6219993151335275,-0.609267573387541,-0.5964749053919369,-0.5836225904028546,-0.5707119136410825,-0.5577441661635381,-0.5447206447341624,-0.5316426516942456,-0.5185114948321936,-0.5053284872527498,-0.4920949472456863,-0.47881219815397613,-0.4654815682414593,-0.45210439056001844,-0.43868200281627395,-0.4252157472378149,-0.4117069704389774,-0.398157023286184,-0.3845672607628584,-0.3709390418339281,-0.3572737293099294,-0.34357268971072663,-0.32983729312886256,-0.31606891309254903,-0.30226892642831615,-0.28843871312333036,-0.274579656187397,-0.2606931415146605,-0.24678055774501617,-0.23284329612524712,-0.218882750369901,-0.20490031652191942,-0.19089739281303553,-0.17687537952395083,-0.1628356788443095,-0.14877969473247954,-0.13470883277515922,-0.12062450004681824,-0.10652810496899268,-0.09242105716944338,-0.0783047673411944,-0.06418064710146498,-0.05005010885050909,-0.03591456563037654,-0.021775430983609678,-0.007634118811890467,0.0065079567653481,0.020649381552333312,0.034788741418371294,0.04892462243925777,0.06305561103867086,0.0771802941295261,0.09129725925528509,0.10540509473119941,0.11950238978547789,0.1335877347003629,0.14765972095310043,0.16171694135679215,0.17575799020111182,0.18978146339287594,0.20378595859645132,0.2177700753739883,0.23173241532546218,0.24567158222851326,0.25958618217806717,0.2734748237257244,0.2873361180189039,0.30116867893972754,0.3149711232436302,0.3287420706976837,0.34248014421861805,0.3561839700105298,0.3698521777022595,0.38348340048442814,0.39707627524611666,0.4106294427111764,0.4241415475741551,0.43761123863582657,0.45103716893830925,0.4644179958997611,0.47775238144863674,0.49103899215749314,0.5042764993763316,0.5174635793654614,0.5305989134278729,0.5436811880411059,0.5567090949886009,0.5696813314905198,0.5825966003340225,0.5954536100029875,0.6082510748071617,0.6209877150107292,0.6336622569602841,0.6462734332121928,0.6588199826593397,0.6713006506572357,0.6837141891494811,0.6960593567925717,0.7083349190800303,0.7205396484658583,0.7326723244872873,0.7447317338868257,0.7567166707335833,0.7686259365438626,0.7804583404010069,0.792212699074491,0.8038878371382427,0.8154825870881849,0.8269957894589849,0.8384262929399997,0.8497729544904068,0.8610346394535067,0.8722102216701877,0.883298583591541,0.8942986163906149,0.9052092200732963,0.9160293035883087,0.9267577849363176,0.9373935912781282,0.9479356590419699,0.9583829340298512,0.9687343715229793,0.978988936386231,0.9891456031716654,0.9992033562210679,1.0091611897675152,1.0190181080359504,1.0287731253427608,1.0384252661943454,1.0479735653846618,1.057417068091748,1.0667548299732035,1.0759859172606208,1.0851094068529639,1.0941243864088763,1.1030299544379156,1.1118252203906995,1.1205093047479622,1.1290813391085048,1.1375404662760344,1.1458858403448837,1.1541166267846004,1.162232002523399,1.1702311560304688,1.178113287397125,1.1858776084167992,1.1935233426638598,1.2010497255712538,1.208456004506962,1.2157414388492624,1.2229053000607926,1.229946871761401,1.2368654497997857,1.2436603423239083,1.2503308698501787,1.2568763653314028,1.2632961742234874,1.269589654550893,1.275756176970831,1.2817951248361987,1.287705894257242,1.293487894161944,1.299140546355133,1.3046632855763,1.3100555595561252,1.3153168290717039,1.3204465680004693,1.3254442633728032,1.3303094154233328,1.3350415376409077,1.3396401568172494,1.3441048130942725,1.3484350600100699,1.352630464543558,1.3566906071577804,1.3606150818418588,1.3644034961515952,1.3680554712487152,1.371570641938753,1.3749486567075686,1.3781891777565003,1.3812918810361432,1.3842564562787554,1.3870826070292832,1.389770050675006,1.3923185184737994,1.394727755581007,1.3969975210749257,1.3991275879808975,1.401117743294007,1.4029677880003815,1.4046775370970919,1.406246819610653,1.407675478614122,1.408963371242788,1.4101103687084624,1.4111163563123539,1.4119812334565405,1.4127049136540286,1.4132873245374014,1.413728407866056,1.414028119532027,1.4141864295643978,1.414203322132297,1.4140787955464815,1.4138128622595068,1.4134055488644792,1.4128568960923995,1.4121669588080874,1.4113358060046963,1.410363520796814,1.409250200412151,1.4079959561818178,1.406600913529193,1.4050652119573783,1.403389005035252,1.4015724603821091,1.3996157596509011,1.3975190985100703,1.3952826866239842,1.3929067476319674,1.390391519125939,1.3877372526266538,1.38494421355855,1.3820126812232063,1.378942948771414,1.3757353231738598,1.3723901251904302,1.3689076893381364,1.3652883638576616,1.3615325106785374,1.357640505382952,1.3536127371681914,1.3494496088077212,1.3451515366109077,1.340718950381389,1.3361522933740941,1.3314520222509185,1.3266186070350572,1.3216525310640046,1.316554290941219,1.3113243964864638,1.305963370684827,1.3004717496344207,1.294850082492774,1.2890989314219161,1.2832188715321615,1.2772104908245994,1.2710743901322932,1.2648111830601987,1.258421495923804,1.2519059676864983,1.2452652498956753,1.2385000066175804,1.2316109143709038,1.224598662059129,1.2174639509016436,1.210207494363618,1.202830018084659,1.1953322598062466,1.1877149692979603,1.1799789082825036,1.172124850359531,1.16415358092829,1.1560658971090807,1.1478626076635456,1.1395445329137934,1.1311125046603667,1.122567366099065,1.1139099717366228,1.1051411873052623,1.0962618896761192,1.087272966771557,1.0781753174763753,1.0689698515479225,1.0596574895251203,1.0502391626364103,1.0407158127066332,1.0310883920628457,1.0213578634390894,1.0115251998801178,1.0015913846440931,0.9915574111042609,0.9814242826496132,0.9711930125845514,0.9608646240275559,0.9504401498088756,0.9399206323672451,0.9293071236456426,0.9186006849860955,0.9078023870235479,0.8969133095787973,0.8859345415505141,0.8748671808063522,0.8637123340731632,0.8524711168263248,0.8411446531781941,0.8297340757656969,0.818240525637066,0.8066651521377363,0.7950091127954114,0.7832735732043126,0.771459706908619,0.7595686952851154,0.7476017274250553,0.7355600000152519,0.7234447172184116,0.7112570905527181,0.6989983387706815,0.6866696877372647,0.674272370307297,0.6618076262021902,0.6492767018859678,0.636680850440619,0.6240213314407914,0.6112994108278361,0.5985163607832125,0.5856734596012723,0.5727719915614318,0.5598132467997434,0.5467985211798847,0.5337291161635718,0.5206063386804153,0.5074315009972279,0.49420592058679913,0.4809309199961485,0.46760782671427253,0.4542379730393973,0.44082269594574836,0.4273633369498558,0.41386124197640334,0.4003177612236364,0.3867342490283441,0.3731120637304263,0.35945256753706134,0.3457571263864855,0.3320271098114008,0.31826389080202344,0.30446884566878496,0.29064335390470264,0.27678879804743195,0.26290656354101305,0.24899803859732805,0.23506461405728107,0.22110768325171493,0.20712864186207935,0.19312888778086412,0.17910982097181116,0.16507284332991856,0.15101935854125326,0.13695077194258287,0.12286849038084346,0.10877392207245618,0.0946684764625062,0.0805535640838001,0.06643059641581339,0.05230098574354369,0.03816614501628368,0.02402748770632701,0.00988642766762271,-0.004255621005609944,-0.018397244120288203,-0.0325370275258855,-0.04667355725584432,-0.060805419668971905,-0.0749312015908038,-0.08904949045491883,-0.10315887444419625,-0.11725794263199463,-0.1313452851232445,-0.1454194931954359,-0.15947915943949043,-0.1735228779004998,-0.1875492442183211,-0.20155685576801097,-0.2155443118000876,-0.22951021358060386,-0.24345316453101995,-0.2573717703678601,-0.27126463924213884,-0.28513038187854667,-0.29896761171437447,-0.3127749450381698,-0.3265510011281061,-0.3402944023900546,-0.3540037744953418,-0.3676777465181817,-0.38131495107276675,-0.3949140244500059,-0.40847360675389405,-0.42199234203750047,-0.435468878438562,-0.44890186831466944,-0.46228996837802894,-0.47563183982979096,-0.4889261484939286,-0.502171564950654,-0.5153667646693592,-0.5285104281410682,-0.5416012410103872,-0.5546378942069379,-0.5676190840762647,-0.5805435125101981,-0.5934098870766651,-0.6062169211489312,-0.6189633340342615,-0.6316478511019893,-0.6442692039109783,-0.6568261303364655,-0.6693173746962724,-0.6817416878763722,-0.6940978274558007,-0.7063845578308964,-0.7186006503388609,-0.7307448833806234,-0.7428160425429999,-0.7548129207201334,-0.7667343182342036,-0.7785790429553934,-0.7903459104211014,-0.8020337439543868,-0.8136413747816358,-0.8251676421494389,-0.8366113934406647,-0.8479714842897201,-0.8592467786969871,-0.870436149142421,-0.8815384766983015,-0.8925526511411255,-0.9034775710626265,-0.9143121439799169,-0.9250552864447334,-0.9357059241517824,-0.9462629920461685,-0.9567254344298999,-0.9670922050674567,-0.9773622672904144,-0.9875345941011088,-0.9976081682753359,-1.0075819824640728,-1.0174550392942123,-1.0272263514682987,-1.0368949418632574,-1.0464598436281058,-1.0559201002806384,-1.0652747658030737,-1.0745229047366545,-1.0836635922751943,-1.0926959143575568,-1.1016189677590604,-1.1104318601818008,-1.1191337103438799,-1.1277236480675328,-1.1362008143661455,-1.1445643615301524,-1.152813453211807,-1.160947264508815,-1.1689649820468249,-1.1768658040607645,-1.184648940475016,-1.1923136129824243,-1.1998590551221258,-1.2072845123561942,-1.2145892421450941,-1.221772514021934,-1.2288336096655117,-1.2357718229721477,-1.2425864601262928,-1.2492768396699105,-1.255842292570622,-1.2622821622886082,-1.2685958048422636,-1.2747825888725945,-1.2808418957063537,-1.2867731194179066,-1.2925756668898252,-1.2982489578721976,-1.3037924250406534,-1.3092055140530952,-1.3144876836051325,-1.319638405484212,-1.3246571646224383,-1.3295434591480797,-1.3342968004357554,-1.3389167131552977,-1.3434027353192848,-1.3477544183292385,-1.3519713270204843,-1.356053039705667,-1.3599991482169196,-1.3638092579466794,-1.3674829878871484,-1.371019970668394,-1.3744198525950857,-1.3776822936818638,-1.3808069676873385,-1.3837935621467132,-1.3866417784030307,-1.389351331637039,-1.3919219508956722,-1.3943533791191471,-1.3966453731666673,-1.3987977038407382,-1.4008101559100858,-1.4026825281311806,-1.40441463326836,-1.4060062981125547,-1.4074573634986058,-1.4087676843211845,-1.4099371295493,-1.4109655822394043,-1.4118529395470856,-1.4125991127373525,-1.4132040271935074,-1.413667622424609,-1.4139898520715208,-1.4141706839115462,-1.4142100998616522,-1.4141080959802765,-1.4138646824677223,-1.413479883665138,-1.4129537380520831,-1.4122862982426807,-1.4114776309803552,-1.4105278171311588,-1.4094369516756857,-1.408205143699572,-1.4068325163825883,-1.4053192069863232,-1.4036653668404546,-1.4018711613276194,-1.3999367698668734,-1.3978623858957508,-1.3956482168509203,-1.3932944841474408,-1.3908014231566215,-1.388169283182484,-1.3853983274368318,-1.382488833012931,-1.379441090857799,-1.3762554057431116,-1.3729320962347256,-1.3694714946608224,-1.3658739470786756,-1.3621398132400455,-1.3582694665552038,-1.3542632940555943,-1.3501216963551284,-1.3458450876101242,-1.341433895477893,-1.336888561073972,-1.3322095389280135,-1.3273972969383334,-1.32245231632512,-1.3173750915823141,-1.3121661304281589,-1.3068259537544291,-1.3013550955743416,-1.295754102969156,-1.2900235360334644,-1.284163967819186,-1.2781759842782587,-1.2720601842040464,-1.2658171791714607,-1.2594475934758018,-1.2529520640703313,-1.2463312405025775,-1.2395857848493788,-1.2327163716506804,-1.2257236878420767,-1.218608432686122,-1.2113713177024024,-1.204013066596385,-1.1965344151870492,-1.1889361113333032,-1.1812189148592007,-1.1733835974779583,-1.1654309427147842,-1.1573617458285281,-1.1491768137321539,-1.1408769649120507,-1.132463029346184,-1.1239358484210984,-1.115296274847781,-1.1065451725763893,-1.097683416709858,-1.0887118934163886,-1.0796314998408347,-1.0704431440149864,-1.0611477447667699,-1.0517462316283632,-1.0422395447432462,-1.032628634772185,-1.0229144627981672,-1.0130980002302958,-1.0031802287066467],\"type\":\"scatter\"},{\"x\":[-0.7853981633974483],\"y\":[1.4142135623730951],\"type\":\"scatter\"},{\"x\":[2.356194490192345],\"y\":[-1.414213562373095],\"type\":\"scatter\"},{\"x\":[0.7853981633974483],\"y\":[0.0],\"type\":\"scatter\"}],                        {\"template\":{\"data\":{\"histogram2dcontour\":[{\"type\":\"histogram2dcontour\",\"colorbar\":{\"outlinewidth\":0,\"ticks\":\"\"},\"colorscale\":[[0.0,\"#0d0887\"],[0.1111111111111111,\"#46039f\"],[0.2222222222222222,\"#7201a8\"],[0.3333333333333333,\"#9c179e\"],[0.4444444444444444,\"#bd3786\"],[0.5555555555555556,\"#d8576b\"],[0.6666666666666666,\"#ed7953\"],[0.7777777777777778,\"#fb9f3a\"],[0.8888888888888888,\"#fdca26\"],[1.0,\"#f0f921\"]]}],\"choropleth\":[{\"type\":\"choropleth\",\"colorbar\":{\"outlinewidth\":0,\"ticks\":\"\"}}],\"histogram2d\":[{\"type\":\"histogram2d\",\"colorbar\":{\"outlinewidth\":0,\"ticks\":\"\"},\"colorscale\":[[0.0,\"#0d0887\"],[0.1111111111111111,\"#46039f\"],[0.2222222222222222,\"#7201a8\"],[0.3333333333333333,\"#9c179e\"],[0.4444444444444444,\"#bd3786\"],[0.5555555555555556,\"#d8576b\"],[0.6666666666666666,\"#ed7953\"],[0.7777777777777778,\"#fb9f3a\"],[0.8888888888888888,\"#fdca26\"],[1.0,\"#f0f921\"]]}],\"heatmap\":[{\"type\":\"heatmap\",\"colorbar\":{\"outlinewidth\":0,\"ticks\":\"\"},\"colorscale\":[[0.0,\"#0d0887\"],[0.1111111111111111,\"#46039f\"],[0.2222222222222222,\"#7201a8\"],[0.3333333333333333,\"#9c179e\"],[0.4444444444444444,\"#bd3786\"],[0.5555555555555556,\"#d8576b\"],[0.6666666666666666,\"#ed7953\"],[0.7777777777777778,\"#fb9f3a\"],[0.8888888888888888,\"#fdca26\"],[1.0,\"#f0f921\"]]}],\"heatmapgl\":[{\"type\":\"heatmapgl\",\"colorbar\":{\"outlinewidth\":0,\"ticks\":\"\"},\"colorscale\":[[0.0,\"#0d0887\"],[0.1111111111111111,\"#46039f\"],[0.2222222222222222,\"#7201a8\"],[0.3333333333333333,\"#9c179e\"],[0.4444444444444444,\"#bd3786\"],[0.5555555555555556,\"#d8576b\"],[0.6666666666666666,\"#ed7953\"],[0.7777777777777778,\"#fb9f3a\"],[0.8888888888888888,\"#fdca26\"],[1.0,\"#f0f921\"]]}],\"contourcarpet\":[{\"type\":\"contourcarpet\",\"colorbar\":{\"outlinewidth\":0,\"ticks\":\"\"}}],\"contour\":[{\"type\":\"contour\",\"colorbar\":{\"outlinewidth\":0,\"ticks\":\"\"},\"colorscale\":[[0.0,\"#0d0887\"],[0.1111111111111111,\"#46039f\"],[0.2222222222222222,\"#7201a8\"],[0.3333333333333333,\"#9c179e\"],[0.4444444444444444,\"#bd3786\"],[0.5555555555555556,\"#d8576b\"],[0.6666666666666666,\"#ed7953\"],[0.7777777777777778,\"#fb9f3a\"],[0.8888888888888888,\"#fdca26\"],[1.0,\"#f0f921\"]]}],\"surface\":[{\"type\":\"surface\",\"colorbar\":{\"outlinewidth\":0,\"ticks\":\"\"},\"colorscale\":[[0.0,\"#0d0887\"],[0.1111111111111111,\"#46039f\"],[0.2222222222222222,\"#7201a8\"],[0.3333333333333333,\"#9c179e\"],[0.4444444444444444,\"#bd3786\"],[0.5555555555555556,\"#d8576b\"],[0.6666666666666666,\"#ed7953\"],[0.7777777777777778,\"#fb9f3a\"],[0.8888888888888888,\"#fdca26\"],[1.0,\"#f0f921\"]]}],\"mesh3d\":[{\"type\":\"mesh3d\",\"colorbar\":{\"outlinewidth\":0,\"ticks\":\"\"}}],\"scatter\":[{\"fillpattern\":{\"fillmode\":\"overlay\",\"size\":10,\"solidity\":0.2},\"type\":\"scatter\"}],\"parcoords\":[{\"type\":\"parcoords\",\"line\":{\"colorbar\":{\"outlinewidth\":0,\"ticks\":\"\"}}}],\"scatterpolargl\":[{\"type\":\"scatterpolargl\",\"marker\":{\"colorbar\":{\"outlinewidth\":0,\"ticks\":\"\"}}}],\"bar\":[{\"error_x\":{\"color\":\"#2a3f5f\"},\"error_y\":{\"color\":\"#2a3f5f\"},\"marker\":{\"line\":{\"color\":\"#E5ECF6\",\"width\":0.5},\"pattern\":{\"fillmode\":\"overlay\",\"size\":10,\"solidity\":0.2}},\"type\":\"bar\"}],\"scattergeo\":[{\"type\":\"scattergeo\",\"marker\":{\"colorbar\":{\"outlinewidth\":0,\"ticks\":\"\"}}}],\"scatterpolar\":[{\"type\":\"scatterpolar\",\"marker\":{\"colorbar\":{\"outlinewidth\":0,\"ticks\":\"\"}}}],\"histogram\":[{\"marker\":{\"pattern\":{\"fillmode\":\"overlay\",\"size\":10,\"solidity\":0.2}},\"type\":\"histogram\"}],\"scattergl\":[{\"type\":\"scattergl\",\"marker\":{\"colorbar\":{\"outlinewidth\":0,\"ticks\":\"\"}}}],\"scatter3d\":[{\"type\":\"scatter3d\",\"line\":{\"colorbar\":{\"outlinewidth\":0,\"ticks\":\"\"}},\"marker\":{\"colorbar\":{\"outlinewidth\":0,\"ticks\":\"\"}}}],\"scattermapbox\":[{\"type\":\"scattermapbox\",\"marker\":{\"colorbar\":{\"outlinewidth\":0,\"ticks\":\"\"}}}],\"scatterternary\":[{\"type\":\"scatterternary\",\"marker\":{\"colorbar\":{\"outlinewidth\":0,\"ticks\":\"\"}}}],\"scattercarpet\":[{\"type\":\"scattercarpet\",\"marker\":{\"colorbar\":{\"outlinewidth\":0,\"ticks\":\"\"}}}],\"carpet\":[{\"aaxis\":{\"endlinecolor\":\"#2a3f5f\",\"gridcolor\":\"white\",\"linecolor\":\"white\",\"minorgridcolor\":\"white\",\"startlinecolor\":\"#2a3f5f\"},\"baxis\":{\"endlinecolor\":\"#2a3f5f\",\"gridcolor\":\"white\",\"linecolor\":\"white\",\"minorgridcolor\":\"white\",\"startlinecolor\":\"#2a3f5f\"},\"type\":\"carpet\"}],\"table\":[{\"cells\":{\"fill\":{\"color\":\"#EBF0F8\"},\"line\":{\"color\":\"white\"}},\"header\":{\"fill\":{\"color\":\"#C8D4E3\"},\"line\":{\"color\":\"white\"}},\"type\":\"table\"}],\"barpolar\":[{\"marker\":{\"line\":{\"color\":\"#E5ECF6\",\"width\":0.5},\"pattern\":{\"fillmode\":\"overlay\",\"size\":10,\"solidity\":0.2}},\"type\":\"barpolar\"}],\"pie\":[{\"automargin\":true,\"type\":\"pie\"}]},\"layout\":{\"autotypenumbers\":\"strict\",\"colorway\":[\"#636efa\",\"#EF553B\",\"#00cc96\",\"#ab63fa\",\"#FFA15A\",\"#19d3f3\",\"#FF6692\",\"#B6E880\",\"#FF97FF\",\"#FECB52\"],\"font\":{\"color\":\"#2a3f5f\"},\"hovermode\":\"closest\",\"hoverlabel\":{\"align\":\"left\"},\"paper_bgcolor\":\"white\",\"plot_bgcolor\":\"#E5ECF6\",\"polar\":{\"bgcolor\":\"#E5ECF6\",\"angularaxis\":{\"gridcolor\":\"white\",\"linecolor\":\"white\",\"ticks\":\"\"},\"radialaxis\":{\"gridcolor\":\"white\",\"linecolor\":\"white\",\"ticks\":\"\"}},\"ternary\":{\"bgcolor\":\"#E5ECF6\",\"aaxis\":{\"gridcolor\":\"white\",\"linecolor\":\"white\",\"ticks\":\"\"},\"baxis\":{\"gridcolor\":\"white\",\"linecolor\":\"white\",\"ticks\":\"\"},\"caxis\":{\"gridcolor\":\"white\",\"linecolor\":\"white\",\"ticks\":\"\"}},\"coloraxis\":{\"colorbar\":{\"outlinewidth\":0,\"ticks\":\"\"}},\"colorscale\":{\"sequential\":[[0.0,\"#0d0887\"],[0.1111111111111111,\"#46039f\"],[0.2222222222222222,\"#7201a8\"],[0.3333333333333333,\"#9c179e\"],[0.4444444444444444,\"#bd3786\"],[0.5555555555555556,\"#d8576b\"],[0.6666666666666666,\"#ed7953\"],[0.7777777777777778,\"#fb9f3a\"],[0.8888888888888888,\"#fdca26\"],[1.0,\"#f0f921\"]],\"sequentialminus\":[[0.0,\"#0d0887\"],[0.1111111111111111,\"#46039f\"],[0.2222222222222222,\"#7201a8\"],[0.3333333333333333,\"#9c179e\"],[0.4444444444444444,\"#bd3786\"],[0.5555555555555556,\"#d8576b\"],[0.6666666666666666,\"#ed7953\"],[0.7777777777777778,\"#fb9f3a\"],[0.8888888888888888,\"#fdca26\"],[1.0,\"#f0f921\"]],\"diverging\":[[0,\"#8e0152\"],[0.1,\"#c51b7d\"],[0.2,\"#de77ae\"],[0.3,\"#f1b6da\"],[0.4,\"#fde0ef\"],[0.5,\"#f7f7f7\"],[0.6,\"#e6f5d0\"],[0.7,\"#b8e186\"],[0.8,\"#7fbc41\"],[0.9,\"#4d9221\"],[1,\"#276419\"]]},\"xaxis\":{\"gridcolor\":\"white\",\"linecolor\":\"white\",\"ticks\":\"\",\"title\":{\"standoff\":15},\"zerolinecolor\":\"white\",\"automargin\":true,\"zerolinewidth\":2},\"yaxis\":{\"gridcolor\":\"white\",\"linecolor\":\"white\",\"ticks\":\"\",\"title\":{\"standoff\":15},\"zerolinecolor\":\"white\",\"automargin\":true,\"zerolinewidth\":2},\"scene\":{\"xaxis\":{\"backgroundcolor\":\"#E5ECF6\",\"gridcolor\":\"white\",\"linecolor\":\"white\",\"showbackground\":true,\"ticks\":\"\",\"zerolinecolor\":\"white\",\"gridwidth\":2},\"yaxis\":{\"backgroundcolor\":\"#E5ECF6\",\"gridcolor\":\"white\",\"linecolor\":\"white\",\"showbackground\":true,\"ticks\":\"\",\"zerolinecolor\":\"white\",\"gridwidth\":2},\"zaxis\":{\"backgroundcolor\":\"#E5ECF6\",\"gridcolor\":\"white\",\"linecolor\":\"white\",\"showbackground\":true,\"ticks\":\"\",\"zerolinecolor\":\"white\",\"gridwidth\":2}},\"shapedefaults\":{\"line\":{\"color\":\"#2a3f5f\"}},\"annotationdefaults\":{\"arrowcolor\":\"#2a3f5f\",\"arrowhead\":0,\"arrowwidth\":1},\"geo\":{\"bgcolor\":\"white\",\"landcolor\":\"#E5ECF6\",\"subunitcolor\":\"white\",\"showland\":true,\"showlakes\":true,\"lakecolor\":\"white\"},\"title\":{\"x\":0.05},\"mapbox\":{\"style\":\"light\"}}},\"title\":{\"text\":\"Gr\\u00e1fico de la funci\\u00f3n $f(x) = \\\\cos(x) - \\\\sin(x)$\"},\"xaxis\":{\"title\":{\"text\":\"x\"}},\"yaxis\":{\"title\":{\"text\":\"y\"}}},                        {\"responsive\": true}                    ).then(function(){\n",
       "                            \n",
       "var gd = document.getElementById('035c8192-a927-4e21-a20c-a04d11b417bc');\n",
       "var x = new MutationObserver(function (mutations, observer) {{\n",
       "        var display = window.getComputedStyle(gd).display;\n",
       "        if (!display || display === 'none') {{\n",
       "            console.log([gd, 'removed!']);\n",
       "            Plotly.purge(gd);\n",
       "            observer.disconnect();\n",
       "        }}\n",
       "}});\n",
       "\n",
       "// Listen for the removal of the full notebook cells\n",
       "var notebookContainer = gd.closest('#notebook-container');\n",
       "if (notebookContainer) {{\n",
       "    x.observe(notebookContainer, {childList: true});\n",
       "}}\n",
       "\n",
       "// Listen for the clearing of the current output cell\n",
       "var outputEl = gd.closest('.output');\n",
       "if (outputEl) {{\n",
       "    x.observe(outputEl, {childList: true});\n",
       "}}\n",
       "\n",
       "                        })                };                });            </script>        </div>"
      ]
     },
     "metadata": {},
     "output_type": "display_data"
    }
   ],
   "source": [
    "import plotly.graph_objects as go # importar el módulo objetos graficos \n",
    "import numpy as np \n",
    "# crear la tabla de puntos \n",
    "abscisas = np.arange(-np.pi, np.pi, 0.01)\n",
    "ordenadas = f(abscisas) \n",
    "fig = go.Figure()  # instanciamos la clase Figure() para crear un objeto fig\n",
    "\n",
    "fig.add_trace(go.Line(x = abscisas, y = ordenadas)) \n",
    "fig.add_trace(go.Scatter(x = [-np.pi/4], y = [f(-np.pi/4)]))\n",
    "fig.add_trace(go.Scatter(x = [3*np.pi/4], y = [f(3*np.pi/4)]))\n",
    "\n",
    "fig.add_trace(go.Scatter(x = [np.pi/4], y = [f(np.pi/4)])) # este es el punto de inflexión\n",
    "fig.update_layout(title=r'Gráfico de la función $f(x) = \\cos(x) - \\sin(x)$',\n",
    "                  xaxis_title='x',\n",
    "                  yaxis_title='y')\n",
    "fig.write_image('C:/Users/Marco/Documents/GitHub/2_calculo_I/images/3_derivada/coseno_menos_seno_ejer_31.png')\n",
    "fig.show() \n"
   ]
  },
  {
   "cell_type": "markdown",
   "id": "2923492b",
   "metadata": {
    "slideshow": {
     "slide_type": "slide"
    }
   },
   "source": [
    "# Lectura al gráfico interactivo realizado con Plotly"
   ]
  },
  {
   "cell_type": "markdown",
   "id": "c072abce",
   "metadata": {
    "slideshow": {
     "slide_type": "slide"
    }
   },
   "source": []
  },
  {
   "cell_type": "markdown",
   "id": "bf8d11a1",
   "metadata": {
    "slideshow": {
     "slide_type": "slide"
    }
   },
   "source": [
    "## Mapa conceptual de la clase elaborado en CMapTools"
   ]
  },
  {
   "cell_type": "markdown",
   "id": "aac04d00",
   "metadata": {
    "slideshow": {
     "slide_type": "slide"
    }
   },
   "source": [
    "<img src = ''>"
   ]
  },
  {
   "cell_type": "markdown",
   "id": "740f3401",
   "metadata": {
    "slideshow": {
     "slide_type": "slide"
    }
   },
   "source": [
    "# Componente de manejo de calculadora Casio asociado al objetivo de aprendizaje de esta clase"
   ]
  },
  {
   "cell_type": "markdown",
   "id": "8eecb2d9",
   "metadata": {
    "slideshow": {
     "slide_type": "slide"
    }
   },
   "source": [
    "## Descripción de la calculadora Casio  \n",
    "\n"
   ]
  },
  {
   "cell_type": "code",
   "execution_count": null,
   "id": "3cd72835",
   "metadata": {
    "slideshow": {
     "slide_type": "slide"
    }
   },
   "outputs": [],
   "source": []
  },
  {
   "cell_type": "code",
   "execution_count": null,
   "id": "d8a111c4",
   "metadata": {
    "slideshow": {
     "slide_type": "slide"
    }
   },
   "outputs": [],
   "source": []
  },
  {
   "cell_type": "markdown",
   "id": "8a6f7ef9",
   "metadata": {
    "slideshow": {
     "slide_type": "slide"
    }
   },
   "source": []
  },
  {
   "cell_type": "markdown",
   "id": "90cae469",
   "metadata": {
    "slideshow": {
     "slide_type": "slide"
    }
   },
   "source": [
    "## Tareas para realizar antes de la clase\n",
    "1. Ver los videos respectivos []()\n",
    "2. Memorizar las definiciones []()\n",
    "3. Sintetizar o resumir la información en mapas conceptuales. []()\n",
    "4. Tareas para incentivar el uso de la calculadora Casio Para ingenieros y licenciados. "
   ]
  },
  {
   "cell_type": "markdown",
   "id": "fccb447c",
   "metadata": {
    "slideshow": {
     "slide_type": "slide"
    }
   },
   "source": [
    "# Tareas para realizar en clase"
   ]
  },
  {
   "cell_type": "markdown",
   "id": "e5c48edf",
   "metadata": {
    "slideshow": {
     "slide_type": "slide"
    }
   },
   "source": [
    "* Modelación matemática \n",
    "* Trabajo en equipos"
   ]
  },
  {
   "cell_type": "markdown",
   "id": "8b6b0112",
   "metadata": {
    "slideshow": {
     "slide_type": "slide"
    }
   },
   "source": []
  },
  {
   "cell_type": "markdown",
   "id": "947460e3",
   "metadata": {
    "slideshow": {
     "slide_type": "slide"
    }
   },
   "source": [
    "\n",
    "# Tareas para realizar después de la realización de la clase\n",
    "* Actividades de memorización: \n",
    "  - escucha reiterada de grabaciones de formulas y resultados científicos. \n",
    "  - relectura de notas. \n",
    "  - ejercicios de mayor complejidad.\n",
    "\n",
    "\n",
    "### No olvide asignar las tareas a los estudiantes a través de Google Colab y compartiendole el cuaderno de asignación a su correo institucional con fecha de entrega. [Google Colab](https://colab.research.google.com/?hl=es)   \n",
    "  "
   ]
  },
  {
   "cell_type": "markdown",
   "id": "d34defb9",
   "metadata": {
    "slideshow": {
     "slide_type": "slide"
    }
   },
   "source": [
    "## Asignación individual de tareas semanales "
   ]
  },
  {
   "cell_type": "markdown",
   "id": "0406f442",
   "metadata": {
    "slideshow": {
     "slide_type": "slide"
    }
   },
   "source": []
  },
  {
   "cell_type": "markdown",
   "id": "8d41fe58",
   "metadata": {
    "slideshow": {
     "slide_type": "slide"
    }
   },
   "source": [
    "# Horario de clases del profesor Marco\n",
    "\n",
    "* Martes y jueves de 10 a 12: Fundamentos de las matemáticas\n",
    "* Martes y jueves de 2 a 4 PM: Fundamentos de la aritmética\n",
    "\n",
    "* Didáctica de la aritmética: Miércoles de 8 - 12\n",
    "\n"
   ]
  },
  {
   "cell_type": "markdown",
   "id": "ae114e14",
   "metadata": {
    "slideshow": {
     "slide_type": "slide"
    }
   },
   "source": [
    "# Horarios de monitoría y asesoría"
   ]
  },
  {
   "cell_type": "markdown",
   "id": "b1db4b6c",
   "metadata": {
    "slideshow": {
     "slide_type": "slide"
    }
   },
   "source": [
    "## Monitor Manuel"
   ]
  },
  {
   "cell_type": "markdown",
   "id": "39559692",
   "metadata": {
    "slideshow": {
     "slide_type": "slide"
    }
   },
   "source": [
    "Martes y jueves de 8 - 12  \n",
    "Miércoles 10 - 12 y de 2 a 4 PM  \n",
    "Sábado: 8 - 12"
   ]
  },
  {
   "cell_type": "markdown",
   "id": "4537ef79",
   "metadata": {
    "slideshow": {
     "slide_type": "slide"
    }
   },
   "source": [
    "## Monitor Giovanny Reales"
   ]
  },
  {
   "cell_type": "markdown",
   "id": "a54d2914",
   "metadata": {
    "slideshow": {
     "slide_type": "slide"
    }
   },
   "source": [
    "* Lunes a viernes de 6pm a 8pm\n",
    "* Miércoles de 1 pm a 8pm"
   ]
  },
  {
   "cell_type": "markdown",
   "id": "935a5567",
   "metadata": {
    "slideshow": {
     "slide_type": "slide"
    }
   },
   "source": [
    "## Dificultades de aprendizaje detectados durante la clase"
   ]
  },
  {
   "cell_type": "markdown",
   "id": "3bd7500d",
   "metadata": {
    "slideshow": {
     "slide_type": "slide"
    }
   },
   "source": []
  },
  {
   "cell_type": "markdown",
   "id": "fb9402bb",
   "metadata": {
    "slideshow": {
     "slide_type": "slide"
    }
   },
   "source": [
    "## Estrategias propuestas para la solución de las dificultades de aprendizaje detectadas"
   ]
  },
  {
   "cell_type": "markdown",
   "id": "d437294b",
   "metadata": {
    "slideshow": {
     "slide_type": "slide"
    }
   },
   "source": []
  },
  {
   "cell_type": "markdown",
   "id": "d11570a2",
   "metadata": {
    "slideshow": {
     "slide_type": "slide"
    }
   },
   "source": []
  },
  {
   "cell_type": "markdown",
   "id": "319f2ffa",
   "metadata": {
    "slideshow": {
     "slide_type": "slide"
    }
   },
   "source": [
    "## Grabaciones en audio para fomentar la capacidad de memorizar enunciados de teoremas y resultados científicos y la capacidad de parafrasear estos resultados. Y así desarrollar memoria muscular para los comandos comunes. \n",
    "Se dispondrá de un lugar en Vocaroo para albergar archivos de audio de fomento a la memorización, enunciación y parafraseo de los resultados científicos, propiedades, reglas, etc. \n",
    "\n",
    "[Vocaroo](https://vocaroo.com/)\n",
    "\n"
   ]
  },
  {
   "cell_type": "markdown",
   "id": "564fa59d",
   "metadata": {
    "slideshow": {
     "slide_type": "slide"
    }
   },
   "source": [
    "### Comparta sus cuadernos y videos, evidencias de su aprendizaje [aquí](https://forms.office.com/Pages/ResponsePage.aspx?id=IefhmYRxjkmK_7KtTlPBwkanXIs1i1FEujpsZgO6dXpUMEMwTEZVMzEwVVBPTElWNVg5OVEyWUhMUy4u)"
   ]
  },
  {
   "cell_type": "markdown",
   "id": "1a1a3e41",
   "metadata": {
    "slideshow": {
     "slide_type": "slide"
    }
   },
   "source": []
  },
  {
   "cell_type": "markdown",
   "id": "44be6d93",
   "metadata": {
    "slideshow": {
     "slide_type": "slide"
    }
   },
   "source": [
    "# Vocabulary "
   ]
  },
  {
   "cell_type": "markdown",
   "id": "35e2484a",
   "metadata": {
    "slideshow": {
     "slide_type": "slide"
    }
   },
   "source": [
    "1. \n",
    "2.  \n",
    "3.  \n",
    "4.  \n",
    "5.  "
   ]
  },
  {
   "cell_type": "markdown",
   "id": "ee46cb9a",
   "metadata": {
    "slideshow": {
     "slide_type": "slide"
    }
   },
   "source": [
    "## Mapa conceptual que vincula los conceptos asoaciados al objetivo de aprendizaje"
   ]
  },
  {
   "cell_type": "markdown",
   "id": "a6b7a17d",
   "metadata": {
    "slideshow": {
     "slide_type": "slide"
    }
   },
   "source": []
  },
  {
   "cell_type": "markdown",
   "id": "0266e3c5",
   "metadata": {
    "slideshow": {
     "slide_type": "slide"
    }
   },
   "source": [
    "## Quiz de 20 minutos para ejercitación y adquisición de habilidades "
   ]
  },
  {
   "cell_type": "markdown",
   "id": "3a1b127f",
   "metadata": {
    "slideshow": {
     "slide_type": "slide"
    }
   },
   "source": [
    "* Pregunta 1: \n",
    "* Pregunta 2: \n",
    "* Pregunta 3: "
   ]
  },
  {
   "cell_type": "markdown",
   "id": "10bce0d0",
   "metadata": {
    "slideshow": {
     "slide_type": "slide"
    }
   },
   "source": [
    "## Referentes "
   ]
  },
  {
   "cell_type": "markdown",
   "id": "1db3c468",
   "metadata": {
    "slideshow": {
     "slide_type": "slide"
    }
   },
   "source": [
    "* [stewart precálculo](https://udeaeduco-my.sharepoint.com/:b:/g/personal/marco_canas_udea_edu_co/ERHIq62I6qFNrmxy6LZb8ZMBci7kUsyNME1nIh9yCBMJ_w?e=0zMSla)  \n",
    "\n",
    "* [stewart cálculo](https://udeaeduco-my.sharepoint.com/:b:/g/personal/marco_canas_udea_edu_co/EZgXZjAp8QxPqOAim2hs6LcBNPLGjSHf-xwYnUVYkwa04w?e=RZdTCy)  \n",
    "\n",
    "* [larson](https://udeaeduco-my.sharepoint.com/:b:/g/personal/marco_canas_udea_edu_co/ES71ChFeO9ZDhW3TwC5Ijk8BjxUK3Pdqz_fjHxTTFAfIAg?e=VDEjfu)\n",
    "\n",
    "* [uzcategui](https://udeaeduco-my.sharepoint.com/:b:/g/personal/marco_canas_udea_edu_co/ETDikm-lVl1Or8XoEo9oyh0BEti9Zs8le-f0D-dBdtZmbA?e=bBsoyQ)\n",
    "\n",
    "* [Cálculo de Purcell](https://udeaeduco-my.sharepoint.com/:b:/g/personal/marco_canas_udea_edu_co/ES60UB4h-QFFqqRQUFmkpWcBIgoLBJeqTfZjNajWNWSeJA?e=9NxjKJ)\n",
    "\n",
    "* [Recomendación de la UNESCO sobre ciencia abierta](https://unesdoc.unesco.org/ark:/48223/pf0000379949_spa)\n",
    "\n",
    "* [Fórmulas más comunes en latex](https://wiki.geogebra.org/es/C%C3%B3digo_LaTeX_para_las_f%C3%B3rmulas_m%C3%A1s_comunes) \n",
    "\n",
    "* [chatGPT](https://openai.com/blog/chatgpt)  \n",
    "\n",
    "* Géron, A. (2017). Hands-on machine learning with scikit-learn and tensorflow: Concepts. Tools, and Techniques to build intelligent systems.[Geron, Aurelien. Hands on Machine Learning](https://udeaeduco-my.sharepoint.com/:b:/g/personal/marco_canas_udea_edu_co/Ecet27yjQzZIlT1Y_Bc2erkBUhbeYuIe6HG8i1FYZRlZww?e=dlvZ4v)  \n",
    "\n",
    "* McKinney, W. (2012). Python for data analysis: Data wrangling with Pandas, NumPy, and IPython. \" O'Reilly Media, Inc.\".[Wes Mackinney. ](https://udeaeduco-my.sharepoint.com/:b:/g/personal/marco_canas_udea_edu_co/EVbi5JIeBl9ErbiUnZfGe8YBhNTnZ8sxTK5hjIOPK4UpGw?e=fFclah)"
   ]
  },
  {
   "cell_type": "markdown",
   "id": "6b9e56a8",
   "metadata": {
    "slideshow": {
     "slide_type": "slide"
    }
   },
   "source": [
    "### [Evaluamos al profesor Marco Cañas Aquí](https://forms.office.com/Pages/ResponsePage.aspx?id=IefhmYRxjkmK_7KtTlPBwkanXIs1i1FEujpsZgO6dXpUREJPV1kxUk1JV1ozTFJIQVNIQjY5WEY3US4u)"
   ]
  },
  {
   "cell_type": "markdown",
   "id": "071afa04",
   "metadata": {
    "slideshow": {
     "slide_type": "slide"
    }
   },
   "source": [
    "## [Evaluación luego de alcanzar estos objetivos de aprendizaje]()"
   ]
  },
  {
   "cell_type": "markdown",
   "id": "10f43536",
   "metadata": {
    "slideshow": {
     "slide_type": "slide"
    }
   },
   "source": [
    "### Continue su aprendizaje en la siguiente clase a través del siguiente [vínculo]()"
   ]
  },
  {
   "cell_type": "markdown",
   "id": "af751e30",
   "metadata": {
    "slideshow": {
     "slide_type": "slide"
    }
   },
   "source": [
    "# Conjeturas pedagógicas fruto de la aplicación del modelo de aprendizaje invertido y del enfoque hacia la ciencia de datos con python\n",
    "\n",
    "1. Todo cálculo o resultado debe ser interpretado en una línea markdown del cuaderno Jupyter, inmediatamente después de la enunciación del resultado y después de la presentación de una tabla o gráfico bidimensional, de tal menera que el estudiante explicite la comprensión verbal del resultado y las inferencias o estrategias que este resultado le sugieren.  \n",
    "\n",
    "2. Debo colocar las conjeturas pedagógicas, que el uso en el aula de [ChatGPT](https://openai.com/blog/chatgpt/) traiga para la enseñanza y el aprendizaje de las matemáticas. \n",
    "\n",
    "3. Promover ciencia abierta en clase de matemáticas puede ser pidiendo a los estudiantes, tomar nota en clase pero en cuadernos Jupyter y entregar siempre al final de cada clase su cuaderno con todas las notas y experimentaciones de clase replicadas. \n",
    "\n",
    "4. En la formación de los ingenieros agropecuarios de la seccional Bajo Cauca. Puede resultrar innecesario incluir en el curso de Cálculo los conceptos de continuidad ya que Gilber Stran ha recomendado el razonamiento desde lo discreto. \n",
    "\n",
    "5. Para que el estudiante adquiera capacidad propositiva para resolver problemas y tomas decisiones utilizando modelos de machine learning, es necesario adquierir \"memoria muscular\"; es decir, la capacidad de codificar en tiempo corto utilizando de manera estrategica y comprensiva, las funciones asociadas al lengueje Python. \n",
    "\n",
    "6. Se requiere enfocar la formación en matemáticas hacia la adopción de los lenguajes Python, Latex e inglés. De tal manera que el enfasis de la formación matemática tal vez deba ser con objetivos de comunicación científica y de trabajo en equipo. "
   ]
  },
  {
   "cell_type": "markdown",
   "id": "53cc9115",
   "metadata": {
    "slideshow": {
     "slide_type": "slide"
    }
   },
   "source": [
    "## Agradecimientos  \n",
    "\n",
    "Doy gracias a Dios por la vida de mi Hijo Joseph Cañas Osorio y la madurez que ha alcanzado.\n",
    "\n",
    "Y a mi esposa Yasmira por su apoyo, orientación y acompañamiento. "
   ]
  },
  {
   "cell_type": "markdown",
   "id": "fce30a6e",
   "metadata": {
    "slideshow": {
     "slide_type": "slide"
    }
   },
   "source": [
    "# Desarrollo de competencias en Python y ciencia de datos"
   ]
  },
  {
   "cell_type": "markdown",
   "id": "cc151e69",
   "metadata": {
    "slideshow": {
     "slide_type": "slide"
    }
   },
   "source": [
    "## [West McKinney. Python for data Analysis](https://udeaeduco-my.sharepoint.com/:b:/g/personal/marco_canas_udea_edu_co/EVbi5JIeBl9ErbiUnZfGe8YBhNTnZ8sxTK5hjIOPK4UpGw?e=tfkShe)"
   ]
  },
  {
   "cell_type": "markdown",
   "id": "2e0a4e73",
   "metadata": {
    "slideshow": {
     "slide_type": "slide"
    }
   },
   "source": [
    "### CHAPTER 2  \n",
    "#### Python Language Basics, IPython, and Jupyter Notebooks  \n",
    "\n"
   ]
  },
  {
   "cell_type": "markdown",
   "id": "ecaa2ca7",
   "metadata": {
    "slideshow": {
     "slide_type": "slide"
    }
   },
   "source": [
    "When I wrote the first edition of this book in 2011 and 2012, there were fewer resources available for learning about doing data analysis in Python. "
   ]
  },
  {
   "cell_type": "markdown",
   "id": "6446710f",
   "metadata": {
    "slideshow": {
     "slide_type": "slide"
    }
   },
   "source": [
    "Cuando escribí la primera edición de este libro en 2011 y 2012, había menos recursos disponibles para aprender a realizar análisis de datos en Python."
   ]
  },
  {
   "cell_type": "markdown",
   "id": "963e527b",
   "metadata": {
    "slideshow": {
     "slide_type": "slide"
    }
   },
   "source": [
    "This was partially a chicken-and-egg problem; many libraries that we now take for granted, like pandas, scikit-learn, and statsmodels, were comparatively immature back then. "
   ]
  },
  {
   "cell_type": "markdown",
   "id": "d71467e3",
   "metadata": {
    "slideshow": {
     "slide_type": "slide"
    }
   },
   "source": [
    "Esto fue en parte un problema del huevo y la gallina; muchas bibliotecas que ahora damos por sentadas, como pandas, scikit-learn y statsmodels, eran comparativamente inmaduras en ese entonces."
   ]
  },
  {
   "cell_type": "markdown",
   "id": "4eb6ca46",
   "metadata": {
    "slideshow": {
     "slide_type": "slide"
    }
   },
   "source": [
    "In 2017, there is now a growing literature on data science, data analysis, and machine learning, supplementing the prior works on general-purpose scientific computing geared toward computational scientists, physicists, and professionals in other research fields. "
   ]
  },
  {
   "cell_type": "markdown",
   "id": "f8ced62a",
   "metadata": {
    "slideshow": {
     "slide_type": "slide"
    }
   },
   "source": [
    "En 2017, ahora hay una creciente literatura sobre ciencia de datos, análisis de datos y aprendizaje automático, que complementa los trabajos anteriores sobre computación científica de propósito general dirigidos a científicos computacionales, físicos y profesionales en otros campos de investigación."
   ]
  },
  {
   "cell_type": "markdown",
   "id": "739da03b",
   "metadata": {
    "slideshow": {
     "slide_type": "slide"
    }
   },
   "source": [
    "There are also excellent books about learning the Python programming language itself and becoming an effective software engineer. "
   ]
  },
  {
   "cell_type": "markdown",
   "id": "52955b55",
   "metadata": {
    "slideshow": {
     "slide_type": "fragment"
    }
   },
   "source": [
    "También hay excelentes libros sobre cómo aprender el lenguaje de programación Python y convertirse en un ingeniero de software efectivo."
   ]
  },
  {
   "cell_type": "markdown",
   "id": "e047085b",
   "metadata": {
    "slideshow": {
     "slide_type": "slide"
    }
   },
   "source": [
    "As this book is intended as an introductory text in working with data in Python, I feel it is valuable to have a self-contained overview of some of the most important features of Python’s built-in data structures and libraries from the perspective of data manipulation. "
   ]
  },
  {
   "cell_type": "markdown",
   "id": "663728a5",
   "metadata": {
    "slideshow": {
     "slide_type": "fragment"
    }
   },
   "source": [
    "Como este libro pretende ser un texto introductorio para trabajar con datos en Python, creo que es valioso tener una descripción general independiente de algunas de las características más importantes de las estructuras y bibliotecas de datos integradas de Python desde la perspectiva de la manipulación de datos. ."
   ]
  },
  {
   "cell_type": "markdown",
   "id": "15c6e904",
   "metadata": {
    "slideshow": {
     "slide_type": "slide"
    }
   },
   "source": [
    "So, I will only present roughly enough information in this chapter and Chapter 3 to enable you to follow along with the rest of the book."
   ]
  },
  {
   "cell_type": "markdown",
   "id": "6a1533ab",
   "metadata": {
    "slideshow": {
     "slide_type": "slide"
    }
   },
   "source": [
    "In my opinion, it is not necessary to become proficient at building good software in Python to be able to productively do data analysis. "
   ]
  },
  {
   "cell_type": "markdown",
   "id": "f1a1488d",
   "metadata": {
    "slideshow": {
     "slide_type": "slide"
    }
   },
   "source": [
    "I encourage you to use the IPython shell and Jupyter notebooks to experiment with the code examples and to explore the documentation for the various types, functions, and methods. "
   ]
  },
  {
   "cell_type": "markdown",
   "id": "a9ed6389",
   "metadata": {
    "slideshow": {
     "slide_type": "slide"
    }
   },
   "source": [
    "While I’ve made best efforts to present the book material in an incremental form, you may occasionally encounter things that have not yet been fully introduced."
   ]
  },
  {
   "cell_type": "markdown",
   "id": "617153d3",
   "metadata": {
    "slideshow": {
     "slide_type": "slide"
    }
   },
   "source": [
    "Much of this book focuses on table-based analytics and data preparation tools for working with large datasets. In order to use those tools you must often first do some munging to corral messy data into a more nicely tabular (or structured) form. "
   ]
  },
  {
   "cell_type": "markdown",
   "id": "72e2487b",
   "metadata": {
    "slideshow": {
     "slide_type": "fragment"
    }
   },
   "source": [
    "Gran parte de este libro se centra en el análisis basado en tablas y las herramientas de preparación de datos para trabajar con grandes conjuntos de datos. Para usar esas herramientas, a menudo primero debe hacer algo de munging para acorralar los datos desordenados en una forma tabular (o estructurada) más agradable."
   ]
  },
  {
   "cell_type": "markdown",
   "id": "3177be0a",
   "metadata": {
    "slideshow": {
     "slide_type": "slide"
    }
   },
   "source": [
    "Fortunately, Python is an ideal language for rapidly whipping your data into shape. "
   ]
  },
  {
   "cell_type": "markdown",
   "id": "2abc7796",
   "metadata": {
    "slideshow": {
     "slide_type": "slide"
    }
   },
   "source": [
    "The greater your facility with Python the language, the easier it will be for you to prepare new datasets for analysis. "
   ]
  },
  {
   "cell_type": "markdown",
   "id": "b8b54178",
   "metadata": {
    "slideshow": {
     "slide_type": "slide"
    }
   },
   "source": [
    "Some of the tools in this book are best explored from a live IPython or Jupyter session. "
   ]
  },
  {
   "cell_type": "markdown",
   "id": "0f7dca0d",
   "metadata": {
    "slideshow": {
     "slide_type": "slide"
    }
   },
   "source": [
    "Once you learn how to start up IPython and Jupyter, I recommend that you follow along with the examples so you can experiment and try different things. "
   ]
  },
  {
   "cell_type": "markdown",
   "id": "dc66ac81",
   "metadata": {
    "slideshow": {
     "slide_type": "slide"
    }
   },
   "source": [
    "As with any keyboard-driven console-like environment, developing muscle-memory for the common commands is also part of the learning curve. "
   ]
  },
  {
   "cell_type": "markdown",
   "id": "d6aba5c3",
   "metadata": {
    "slideshow": {
     "slide_type": "slide"
    }
   },
   "source": [
    "There are introductory Python concepts that this chapter does not cover, like classes and object-oriented programming, which you may find useful in your foray into data analysis in Python. "
   ]
  },
  {
   "cell_type": "markdown",
   "id": "37aae6e2",
   "metadata": {
    "slideshow": {
     "slide_type": "slide"
    }
   },
   "source": [
    "To deepen your Python language knowledge, I recommend that you supplement this chapter with the official Python tutorial and potentially one of the many excellent books on general-purpose Python programming. Some recommendations to get you started include:  \n",
    "\n",
    "* Python Cookbook, Third Edition, by David Beazley and Brian K. Jones (O’Reilly)\n",
    "* Fluent Python by Luciano Ramalho (O’Reilly)\n",
    "* Effective Python by Brett Slatkin (Pearson)"
   ]
  },
  {
   "cell_type": "markdown",
   "id": "59e8c4b1",
   "metadata": {
    "slideshow": {
     "slide_type": "slide"
    }
   },
   "source": [
    "# [Geron. Hand on Neuronal Networks]()\n",
    "\n",
    "Página 279 del libro. Segunda edición.\n",
    "\n",
    "## Chapter 10. Introduction to Artificial Neural Networks with Keras  "
   ]
  },
  {
   "cell_type": "markdown",
   "id": "bac0783c",
   "metadata": {
    "slideshow": {
     "slide_type": "slide"
    }
   },
   "source": [
    "### Implementing MLPs with Keras"
   ]
  },
  {
   "cell_type": "markdown",
   "id": "09740081",
   "metadata": {
    "slideshow": {
     "slide_type": "slide"
    }
   },
   "source": [
    "Keras is a high-level Deep Learning API that allows you to easily build, train, evaluate, and execute all sorts of neural networks. "
   ]
  },
  {
   "cell_type": "markdown",
   "id": "9f9bdeec",
   "metadata": {
    "slideshow": {
     "slide_type": "fragment"
    }
   },
   "source": [
    "Keras es una API de aprendizaje profundo de alto nivel que le permite construir, entrenar, evaluar y ejecutar fácilmente todo tipo de redes neuronales."
   ]
  },
  {
   "cell_type": "markdown",
   "id": "c4496881",
   "metadata": {
    "slideshow": {
     "slide_type": "slide"
    }
   },
   "source": [
    "Its documentation (or specification) is available at https://keras.io/. "
   ]
  },
  {
   "cell_type": "markdown",
   "id": "6ce046e3",
   "metadata": {
    "slideshow": {
     "slide_type": "slide"
    }
   },
   "source": [
    "The reference implementation, also called Keras, was developed by François Chollet as part of a research project and was released as an open source project in March 2015. "
   ]
  },
  {
   "cell_type": "markdown",
   "id": "307c7712",
   "metadata": {
    "slideshow": {
     "slide_type": "slide"
    }
   },
   "source": [
    "It quickly gained popularity, owing to its ease of use, flexibility, and beautiful design. "
   ]
  },
  {
   "cell_type": "markdown",
   "id": "3d7e450d",
   "metadata": {},
   "source": [
    "To perform the heavy computations required by neural networks, this reference implementation relies on a computation backend. At present, you can choose from three popular open source Deep Learning libraries: TensorFlow, Microsoft Cognitive Toolkit(CNTK), and Theano. Therefore, to avoid any confusion, we will refer to this reference implementation as multibackend Keras. Since late 2016, other implementations have been released. "
   ]
  },
  {
   "cell_type": "markdown",
   "id": "570f44cc",
   "metadata": {},
   "source": [
    "You can now run Keras on Apache MXNet, Apple’s Core ML, JavaScript or TypeScript (to run Keras code in a web browser), and PlaidML (which can run on all sorts of GPU devices, not just Nvidia). Moreover, TensorFlow itself now comes bundled with its own Keras implementation, tf.keras. It only supports TensorFlow as the backend, but it has the advantage of offering some very useful extra features (see Figure 10-10): for example, it supports TensorFlow’s Data API, which makes it easy to load and preprocess data efficiently. For this reason, we will use tf.keras in this book. However, in this chapter we will not use any of the TensorFlow-specific features, so the code should run fine on other Keras implementations as well (at least in Python), with only minor modifications, such as changing the imports."
   ]
  },
  {
   "cell_type": "markdown",
   "id": "4c9908ae",
   "metadata": {
    "slideshow": {
     "slide_type": "slide"
    }
   },
   "source": [
    "<img src = 'https://github.com/marco-canas/7_didactica_ciencia_datos/blob/main/referentes/geron/part_2/c_10/images/fig_10_10.png?raw=true'>"
   ]
  },
  {
   "cell_type": "markdown",
   "id": "fda3b750",
   "metadata": {
    "slideshow": {
     "slide_type": "slide"
    }
   },
   "source": [
    "The most popular Deep Learning library, after Keras and TensorFlow, is Facebook’s PyTorch library. "
   ]
  },
  {
   "cell_type": "markdown",
   "id": "b60f9d3c",
   "metadata": {
    "slideshow": {
     "slide_type": "slide"
    }
   },
   "source": [
    "The good news is that its API is quite similar to Keras’s (in part because both APIs were inspired by Scikit-Learn and Chainer), so once you know Keras, it is not difficult to switch to PyTorch, if you ever want to. "
   ]
  },
  {
   "cell_type": "markdown",
   "id": "0c8762f7",
   "metadata": {
    "slideshow": {
     "slide_type": "slide"
    }
   },
   "source": [
    "PyTorch’s popularity grew exponentially in 2018, largely thanks to its simplicity and excellent documentation, which were not TensorFlow 1.x’s main strengths. "
   ]
  },
  {
   "cell_type": "markdown",
   "id": "3597a3b1",
   "metadata": {
    "slideshow": {
     "slide_type": "slide"
    }
   },
   "source": [
    "However, TensorFlow 2 is arguably just as simple as PyTorch, as it has adopted Keras as its official high-level API and its developers have greatly simplified and cleaned up the rest of the\n",
    "API. "
   ]
  },
  {
   "cell_type": "markdown",
   "id": "bd6a9f63",
   "metadata": {
    "slideshow": {
     "slide_type": "slide"
    }
   },
   "source": [
    "The documentation has also been completely reorganized, and it is\n",
    "much easier to find what you need now. Similarly, PyTorch’s main\n",
    "weaknesses (e.g., limited portability and no computation graph analysis)\n",
    "have been largely addressed in PyTorch 1.0. Healthy competition is\n",
    "beneficial to everyone.\n",
    "All right, it’s time to code! As tf.keras is bundled with TensorFlow, let’s\n",
    "start by installing TensorFlow."
   ]
  },
  {
   "cell_type": "markdown",
   "id": "b09c05b6",
   "metadata": {
    "slideshow": {
     "slide_type": "slide"
    }
   },
   "source": [
    "## Installing TensorFlow 2"
   ]
  },
  {
   "cell_type": "markdown",
   "id": "77773ffc",
   "metadata": {
    "slideshow": {
     "slide_type": "slide"
    }
   },
   "source": [
    "Assuming you installed Jupyter and Scikit-Learn by following the\n",
    "installation instructions in Chapter 2, use pip to install TensorFlow. If you\n",
    "created an isolated environment using virtualenv, you first need to activate\n",
    "it:"
   ]
  },
  {
   "cell_type": "code",
   "execution_count": null,
   "id": "fb26a627",
   "metadata": {
    "slideshow": {
     "slide_type": "slide"
    }
   },
   "outputs": [],
   "source": [
    "!cd ML_PATH # Your ML working directory (e.g., $HOME/ml)\n",
    "!source my_env/bin/activate # on Linux or macOS\n",
    "!.\\my_env\\Scripts\\activate # on Windows"
   ]
  },
  {
   "cell_type": "markdown",
   "id": "7bf4f360",
   "metadata": {
    "slideshow": {
     "slide_type": "slide"
    }
   },
   "source": [
    "Next, install TensorFlow 2 (if you are not using a virtualenv, you will need administrator rights, or to add the --user option):"
   ]
  },
  {
   "cell_type": "code",
   "execution_count": null,
   "id": "47b2fb7c",
   "metadata": {
    "slideshow": {
     "slide_type": "slide"
    }
   },
   "outputs": [],
   "source": [
    "!python3 -m pip install --upgrade tensorflow"
   ]
  },
  {
   "cell_type": "markdown",
   "id": "368c5113",
   "metadata": {
    "slideshow": {
     "slide_type": "slide"
    }
   },
   "source": [
    "### NOTE"
   ]
  },
  {
   "cell_type": "markdown",
   "id": "779f1a06",
   "metadata": {
    "slideshow": {
     "slide_type": "slide"
    }
   },
   "source": [
    "For GPU support, at the time of this writing you need to install tensorflow-gpu instead of tensorflow, but the TensorFlow team is working on having a single library that will\n",
    "support both CPU-only and GPU-equipped systems. You will still need to install extra\n",
    "libraries for GPU support (see https://tensorflow.org/install for more details). We will\n",
    "look at GPUs in more depth in Chapter 19.\n",
    "To test your installation, open a Python shell or a Jupyter notebook, then\n",
    "import TensorFlow and tf.keras and print their versions:"
   ]
  },
  {
   "cell_type": "code",
   "execution_count": null,
   "id": "b8792cdf",
   "metadata": {
    "slideshow": {
     "slide_type": "slide"
    }
   },
   "outputs": [],
   "source": [
    "import tensorflow as tf "
   ]
  },
  {
   "cell_type": "code",
   "execution_count": null,
   "id": "342e2a47",
   "metadata": {},
   "outputs": [],
   "source": []
  },
  {
   "cell_type": "code",
   "execution_count": null,
   "id": "fce10188",
   "metadata": {},
   "outputs": [],
   "source": []
  },
  {
   "cell_type": "code",
   "execution_count": null,
   "id": "62b356f5",
   "metadata": {},
   "outputs": [],
   "source": []
  }
 ],
 "metadata": {
  "celltoolbar": "Slideshow",
  "kernelspec": {
   "display_name": "Python 3 (ipykernel)",
   "language": "python",
   "name": "python3"
  },
  "language_info": {
   "codemirror_mode": {
    "name": "ipython",
    "version": 3
   },
   "file_extension": ".py",
   "mimetype": "text/x-python",
   "name": "python",
   "nbconvert_exporter": "python",
   "pygments_lexer": "ipython3",
   "version": "3.9.13"
  },
  "rise": {
   "enable_chalkboard": true,
   "theme": "sky",
   "transition": "zoom"
  }
 },
 "nbformat": 4,
 "nbformat_minor": 5
}
