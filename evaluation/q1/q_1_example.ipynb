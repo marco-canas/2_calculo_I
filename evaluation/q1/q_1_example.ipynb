{
 "cells": [
  {
   "cell_type": "markdown",
   "id": "646152bf",
   "metadata": {
    "slideshow": {
     "slide_type": "slide"
    }
   },
   "source": [
    "<table align=\"left\">\n",
    "  <td>\n",
    "    <a href=\"https://colab.research.google.com/github/marco-canas/2_calculo_I/blob/main/evaluation/q1/q_1_example.ipynb\" target=\"_parent\"><img src=\"https://colab.research.google.com/assets/colab-badge.svg\" alt=\"Open In Colab\"/></a>\n",
    "  </td>\n",
    "</table>"
   ]
  },
  {
   "cell_type": "markdown",
   "id": "c5736287",
   "metadata": {
    "slideshow": {
     "slide_type": "slide"
    }
   },
   "source": [
    "## [Video de apoyo a la lectura de este cuaderno](https://www.youtube.com/watch?v=V_TxL4J9tJs)"
   ]
  },
  {
   "cell_type": "markdown",
   "id": "060aebc7",
   "metadata": {
    "slideshow": {
     "slide_type": "slide"
    }
   },
   "source": [
    "### [Video de apoyo para determinación de límites por medios numéricos utilizando excel]()"
   ]
  },
  {
   "cell_type": "markdown",
   "id": "5f83bc65",
   "metadata": {
    "slideshow": {
     "slide_type": "slide"
    }
   },
   "source": [
    "# Determinar un límite con diferentes formas y diferentes herramientas"
   ]
  },
  {
   "cell_type": "markdown",
   "id": "678d0b6b",
   "metadata": {
    "slideshow": {
     "slide_type": "slide"
    }
   },
   "source": [
    "$$ \\lim_{x \\to 9} \\frac{x - 9}{x^{2} - 81} $$"
   ]
  },
  {
   "cell_type": "markdown",
   "id": "b4ee1bff",
   "metadata": {
    "slideshow": {
     "slide_type": "slide"
    }
   },
   "source": [
    "## Interpretación verbal del problema"
   ]
  },
  {
   "cell_type": "markdown",
   "id": "47eecf3b",
   "metadata": {
    "slideshow": {
     "slide_type": "slide"
    }
   },
   "source": [
    "* Se da una función racional, o cociente de polinomios\n",
    "\n",
    "$$ f(x) = \\frac{x - 9}{x^{2} - 81} $$\n",
    "\n",
    "$D(f) = \\{ x \\in \\mathbb{R} \\mid x \\neq 9 \\}$\n",
    "\n",
    "Entonces, esta función no está definida en $x = 9$. Es decir, no tine valor en el punto $x = 9$. \n",
    "\n",
    "Pero nos piden la tendencia de la función $f(x)$ a medida que $x = 9$. \n"
   ]
  },
  {
   "cell_type": "markdown",
   "id": "790cbe91",
   "metadata": {
    "slideshow": {
     "slide_type": "slide"
    }
   },
   "source": [
    "# Solución analítica\n",
    "\n"
   ]
  },
  {
   "cell_type": "markdown",
   "id": "1d94de76",
   "metadata": {
    "slideshow": {
     "slide_type": "slide"
    }
   },
   "source": [
    "\\begin{align*}\n",
    "\\lim_{x \\to 9} \\frac{x - 9}{x^{2} - 81} & = \\lim_{x \\to 9} \\frac{x - 9}{(x - 9)(x+9)} \\qquad \\text{Factorización de una diferencia de cuadrados} \\\\\n",
    "               & = \\lim_{x \\to 9} \\frac{x - 9}{(x - 9)( x + 9 )} \\\\\n",
    "               & = \\lim_{x \\to 9} \\frac{1}{x+9} \\\\\n",
    "               & = \\frac{1}{9+9} = \\frac{1}{2(9)} = \\frac{1}{18} = 0.0\\overline{5}\n",
    "\\end{align*}"
   ]
  },
  {
   "cell_type": "markdown",
   "id": "56d1d3b8",
   "metadata": {
    "slideshow": {
     "slide_type": "slide"
    }
   },
   "source": [
    "Dos funciones iguales casi en todas partes: \n",
    "\n",
    "$$ f(x) = \\frac{x - 9}{x^{2} - 81}, \\quad \\qquad g(x) = \\frac{1}{x + 9}  $$"
   ]
  },
  {
   "cell_type": "markdown",
   "id": "c212bc42",
   "metadata": {
    "slideshow": {
     "slide_type": "slide"
    }
   },
   "source": [
    "# Determinar el límite de manera puntual"
   ]
  },
  {
   "cell_type": "code",
   "execution_count": 1,
   "id": "9e536f75",
   "metadata": {
    "slideshow": {
     "slide_type": "slide"
    }
   },
   "outputs": [],
   "source": [
    "def f(x): \n",
    "    return (x-9)/(x**2 - 81)"
   ]
  },
  {
   "cell_type": "code",
   "execution_count": 7,
   "id": "d6bdf3e2",
   "metadata": {
    "slideshow": {
     "slide_type": "slide"
    }
   },
   "outputs": [
    {
     "data": {
      "text/plain": [
       "0.05555586419927109"
      ]
     },
     "execution_count": 7,
     "metadata": {},
     "output_type": "execute_result"
    }
   ],
   "source": [
    "f(8.9999) # analisis puntual por izquierda"
   ]
  },
  {
   "cell_type": "markdown",
   "id": "33d43696",
   "metadata": {
    "slideshow": {
     "slide_type": "slide"
    }
   },
   "source": [
    "#### Conclusión es que \n",
    "\n",
    "$$ \\lim_{x \\to 9^{-}}f(x) = 0.0\\overline{5} $$\n"
   ]
  },
  {
   "cell_type": "code",
   "execution_count": 12,
   "id": "8e13d75b",
   "metadata": {
    "slideshow": {
     "slide_type": "slide"
    }
   },
   "outputs": [
    {
     "data": {
      "text/plain": [
       "0.05555552469301739"
      ]
     },
     "execution_count": 12,
     "metadata": {},
     "output_type": "execute_result"
    }
   ],
   "source": [
    "f(9.00001) # análisis puntual por derecha"
   ]
  },
  {
   "cell_type": "markdown",
   "id": "ff66bd72",
   "metadata": {
    "slideshow": {
     "slide_type": "slide"
    }
   },
   "source": [
    "#### Conclusión \n",
    "\n",
    "$$ \\lim_{x \\to 9^{+}} f(x) = 0.0\\overline{5} $$\n"
   ]
  },
  {
   "cell_type": "markdown",
   "id": "e1134346",
   "metadata": {
    "slideshow": {
     "slide_type": "slide"
    }
   },
   "source": [
    "#### Conclusión final\n",
    "\n",
    "$$ \\lim_{x \\to 9} f(x) = 0.0\\bar{5} $$\n"
   ]
  },
  {
   "cell_type": "markdown",
   "id": "ffbb4fbf",
   "metadata": {
    "slideshow": {
     "slide_type": "slide"
    }
   },
   "source": [
    "## Determinación del límite siguiendo el método de la representación tabular"
   ]
  },
  {
   "cell_type": "code",
   "execution_count": 18,
   "id": "bbbef51e",
   "metadata": {
    "slideshow": {
     "slide_type": "slide"
    }
   },
   "outputs": [
    {
     "data": {
      "text/html": [
       "<div>\n",
       "<style scoped>\n",
       "    .dataframe tbody tr th:only-of-type {\n",
       "        vertical-align: middle;\n",
       "    }\n",
       "\n",
       "    .dataframe tbody tr th {\n",
       "        vertical-align: top;\n",
       "    }\n",
       "\n",
       "    .dataframe thead th {\n",
       "        text-align: right;\n",
       "    }\n",
       "</style>\n",
       "<table border=\"1\" class=\"dataframe\">\n",
       "  <thead>\n",
       "    <tr style=\"text-align: right;\">\n",
       "      <th></th>\n",
       "      <th>variable x</th>\n",
       "      <th>variable f</th>\n",
       "    </tr>\n",
       "  </thead>\n",
       "  <tbody>\n",
       "    <tr>\n",
       "      <th>0</th>\n",
       "      <td>8.0000</td>\n",
       "      <td>0.058824</td>\n",
       "    </tr>\n",
       "    <tr>\n",
       "      <th>1</th>\n",
       "      <td>8.5000</td>\n",
       "      <td>0.057143</td>\n",
       "    </tr>\n",
       "    <tr>\n",
       "      <th>2</th>\n",
       "      <td>8.9000</td>\n",
       "      <td>0.055866</td>\n",
       "    </tr>\n",
       "    <tr>\n",
       "      <th>3</th>\n",
       "      <td>8.9900</td>\n",
       "      <td>0.055586</td>\n",
       "    </tr>\n",
       "    <tr>\n",
       "      <th>4</th>\n",
       "      <td>8.9990</td>\n",
       "      <td>0.055559</td>\n",
       "    </tr>\n",
       "    <tr>\n",
       "      <th>5</th>\n",
       "      <td>8.9999</td>\n",
       "      <td>0.055556</td>\n",
       "    </tr>\n",
       "  </tbody>\n",
       "</table>\n",
       "</div>"
      ],
      "text/plain": [
       "   variable x  variable f\n",
       "0      8.0000    0.058824\n",
       "1      8.5000    0.057143\n",
       "2      8.9000    0.055866\n",
       "3      8.9900    0.055586\n",
       "4      8.9990    0.055559\n",
       "5      8.9999    0.055556"
      ]
     },
     "execution_count": 18,
     "metadata": {},
     "output_type": "execute_result"
    }
   ],
   "source": [
    "import numpy as np \n",
    "\n",
    "import pandas as pd  \n",
    "\n",
    "# tabla de acercamiento por izquierda\n",
    "\n",
    "X_izq = np.array([8, 8.5, 8.9, 8.99, 8.999, 8.9999])\n",
    "\n",
    "F_izq = f(X_izq)\n",
    "F_izq\n",
    "\n",
    "dict_izq = {'variable x':X_izq, 'variable f':F_izq}\n",
    "\n",
    "tabla_izq = pd.DataFrame(dict_izq)\n",
    "tabla_izq"
   ]
  },
  {
   "cell_type": "markdown",
   "id": "d6e2e583",
   "metadata": {},
   "source": [
    "#### Conclusión es que \n",
    "\n",
    "$$ \\lim_{x \\to 9^{-}}f(x) = 0.0\\overline{5} $$\n"
   ]
  },
  {
   "cell_type": "code",
   "execution_count": 19,
   "id": "69a2661d",
   "metadata": {},
   "outputs": [
    {
     "data": {
      "text/html": [
       "<div>\n",
       "<style scoped>\n",
       "    .dataframe tbody tr th:only-of-type {\n",
       "        vertical-align: middle;\n",
       "    }\n",
       "\n",
       "    .dataframe tbody tr th {\n",
       "        vertical-align: top;\n",
       "    }\n",
       "\n",
       "    .dataframe thead th {\n",
       "        text-align: right;\n",
       "    }\n",
       "</style>\n",
       "<table border=\"1\" class=\"dataframe\">\n",
       "  <thead>\n",
       "    <tr style=\"text-align: right;\">\n",
       "      <th></th>\n",
       "      <th>variable x</th>\n",
       "      <th>variable f</th>\n",
       "    </tr>\n",
       "  </thead>\n",
       "  <tbody>\n",
       "    <tr>\n",
       "      <th>0</th>\n",
       "      <td>9.0001</td>\n",
       "      <td>0.055555</td>\n",
       "    </tr>\n",
       "    <tr>\n",
       "      <th>1</th>\n",
       "      <td>9.0010</td>\n",
       "      <td>0.055552</td>\n",
       "    </tr>\n",
       "    <tr>\n",
       "      <th>2</th>\n",
       "      <td>9.0100</td>\n",
       "      <td>0.055525</td>\n",
       "    </tr>\n",
       "    <tr>\n",
       "      <th>3</th>\n",
       "      <td>9.1000</td>\n",
       "      <td>0.055249</td>\n",
       "    </tr>\n",
       "    <tr>\n",
       "      <th>4</th>\n",
       "      <td>9.5000</td>\n",
       "      <td>0.054054</td>\n",
       "    </tr>\n",
       "    <tr>\n",
       "      <th>5</th>\n",
       "      <td>10.0000</td>\n",
       "      <td>0.052632</td>\n",
       "    </tr>\n",
       "  </tbody>\n",
       "</table>\n",
       "</div>"
      ],
      "text/plain": [
       "   variable x  variable f\n",
       "0      9.0001    0.055555\n",
       "1      9.0010    0.055552\n",
       "2      9.0100    0.055525\n",
       "3      9.1000    0.055249\n",
       "4      9.5000    0.054054\n",
       "5     10.0000    0.052632"
      ]
     },
     "execution_count": 19,
     "metadata": {},
     "output_type": "execute_result"
    }
   ],
   "source": [
    "import numpy as np \n",
    "\n",
    "import pandas as pd  \n",
    "\n",
    "# tabla de acercamiento por izquierda\n",
    "\n",
    "X_der = np.array([9.0001, 9.001, 9.01, 9.1, 9.5, 10])\n",
    "\n",
    "F_der = f(X_der)\n",
    "\n",
    "\n",
    "dict_der = {'variable x':X_der, 'variable f':F_der}\n",
    "\n",
    "tabla_der = pd.DataFrame(dict_der)\n",
    "tabla_der"
   ]
  },
  {
   "cell_type": "markdown",
   "id": "7ea121f2",
   "metadata": {
    "slideshow": {
     "slide_type": "slide"
    }
   },
   "source": [
    "#### Conclusión \n",
    "\n",
    "$$ \\lim_{x \\to 9^{+}} f(x) = 0.0\\overline{5} $$\n"
   ]
  },
  {
   "cell_type": "markdown",
   "id": "fed7bbbc",
   "metadata": {},
   "source": [
    "#### Conclusión final\n",
    "\n",
    "$$ \\lim_{x \\to 9} f(x) = 0.0\\bar{5} $$\n"
   ]
  },
  {
   "cell_type": "markdown",
   "id": "61b40dc9",
   "metadata": {
    "slideshow": {
     "slide_type": "slide"
    }
   },
   "source": [
    "## Determinación del límite a partir de la gráfica de la función"
   ]
  },
  {
   "cell_type": "code",
   "execution_count": 20,
   "id": "6cf491be",
   "metadata": {
    "slideshow": {
     "slide_type": "slide"
    }
   },
   "outputs": [
    {
     "data": {
      "text/plain": [
       "<matplotlib.collections.PathCollection at 0x17cb0f6f2e0>"
      ]
     },
     "execution_count": 20,
     "metadata": {},
     "output_type": "execute_result"
    },
    {
     "data": {
      "image/png": "[encoded data removed]",
      "text/plain": [
       "<Figure size 640x480 with 1 Axes>"
      ]
     },
     "metadata": {},
     "output_type": "display_data"
    }
   ],
   "source": [
    "import matplotlib.pyplot as plt \n",
    "\n",
    "plt.scatter(X_izq, F_izq)"
   ]
  },
  {
   "cell_type": "markdown",
   "id": "417807f0",
   "metadata": {},
   "source": [
    "#### Conclusión es que \n",
    "\n",
    "$$ \\lim_{x \\to 9^{-}}f(x) = 0.0\\overline{5} $$"
   ]
  },
  {
   "cell_type": "code",
   "execution_count": 21,
   "id": "e61a7ab7",
   "metadata": {},
   "outputs": [
    {
     "data": {
      "text/plain": [
       "<matplotlib.collections.PathCollection at 0x17cb1660ee0>"
      ]
     },
     "execution_count": 21,
     "metadata": {},
     "output_type": "execute_result"
    },
    {
     "data": {
      "image/png": "[encoded data removed]",
      "text/plain": [
       "<Figure size 640x480 with 1 Axes>"
      ]
     },
     "metadata": {},
     "output_type": "display_data"
    }
   ],
   "source": [
    "import matplotlib.pyplot as plt \n",
    "\n",
    "plt.scatter(X_der, F_der)"
   ]
  },
  {
   "cell_type": "markdown",
   "id": "cb8bab80",
   "metadata": {},
   "source": [
    "#### Conclusión \n",
    "\n",
    "$$ \\lim_{x \\to 9^{+}} f(x) = 0.0\\overline{5} $$\n"
   ]
  },
  {
   "cell_type": "markdown",
   "id": "75220c46",
   "metadata": {},
   "source": [
    "#### Conclusión final\n",
    "\n",
    "$$ \\lim_{x \\to 9} f(x) = 0.0\\bar{5} $$\n"
   ]
  },
  {
   "cell_type": "code",
   "execution_count": 24,
   "id": "e8fef9ae",
   "metadata": {},
   "outputs": [
    {
     "data": {
      "image/png": "[encoded data removed]",
      "text/plain": [
       "<Figure size 640x480 with 1 Axes>"
      ]
     },
     "metadata": {},
     "output_type": "display_data"
    }
   ],
   "source": [
    "import matplotlib.pyplot as plt \n",
    "\n",
    "plt.scatter(X_izq, F_izq, color = 'red')\n",
    "plt.scatter(X_der, F_der, color = 'blue')\n",
    "\n",
    "plt.grid(alpha = 0.4)\n",
    "\n",
    "plt.savefig('comportamiento_en_nueve.jpg')"
   ]
  },
  {
   "cell_type": "markdown",
   "id": "1a498474",
   "metadata": {
    "slideshow": {
     "slide_type": "slide"
    }
   },
   "source": [
    "La función al acercadnos a 9 por izquierda, deciende hacia $0.0\\bar{5}$.   \n",
    "\n",
    "La función al acercanos a 9 por derecha, asciende hacia $0.0\\bar{5}$. "
   ]
  },
  {
   "cell_type": "code",
   "execution_count": 28,
   "id": "4bcbc2a9",
   "metadata": {},
   "outputs": [],
   "source": [
    "from sympy import * \n",
    "\n",
    "x, f = var('x f')\n",
    "\n",
    "funcion = (x-9)/(x**2 - 81)"
   ]
  },
  {
   "cell_type": "code",
   "execution_count": 29,
   "id": "24011c30",
   "metadata": {},
   "outputs": [
    {
     "data": {
      "text/latex": [
       "$\\displaystyle \\frac{1}{18}$"
      ],
      "text/plain": [
       "1/18"
      ]
     },
     "execution_count": 29,
     "metadata": {},
     "output_type": "execute_result"
    }
   ],
   "source": [
    "limit(funcion, x, 9)"
   ]
  },
  {
   "cell_type": "code",
   "execution_count": 30,
   "id": "9e34ec2f",
   "metadata": {},
   "outputs": [
    {
     "data": {
      "text/plain": [
       "0.05555555555555555"
      ]
     },
     "execution_count": 30,
     "metadata": {},
     "output_type": "execute_result"
    }
   ],
   "source": [
    "1/18"
   ]
  },
  {
   "cell_type": "markdown",
   "id": "d47ae3ef",
   "metadata": {
    "slideshow": {
     "slide_type": "slide"
    }
   },
   "source": [
    "## Solucionar con [WolframAlpha](https://www.wolframalpha.com/input?i=limit%28%28x-9%29%2F%28x**2-81%29%2C+x%2C+9%29&lang=es)"
   ]
  },
  {
   "cell_type": "markdown",
   "id": "0cee7955",
   "metadata": {
    "slideshow": {
     "slide_type": "slide"
    }
   },
   "source": [
    "<img src = 'https://github.com/marco-canas/2_calculo_I/blob/main/evaluation/q1/wolfram.png?raw=true'>"
   ]
  },
  {
   "cell_type": "code",
   "execution_count": null,
   "id": "4fd65d5b",
   "metadata": {},
   "outputs": [],
   "source": []
  },
  {
   "cell_type": "markdown",
   "id": "838df188",
   "metadata": {
    "slideshow": {
     "slide_type": "slide"
    }
   },
   "source": [
    "# Sobre la [UNESCO](https://www.unesco.org/es/legal-affairs/recommendation-open-science)  y sus recomendaciones sobre la ciencia abierta\n",
    "\n",
    "Recordando que una de las principales funciones de la UNESCO, como se estipula en el artículo I de su Constitución, consiste en ayudar a la conservación, al progreso y a la difusión del saber, alentando la cooperación entre las naciones en todas las ramas de la actividad intelectual, en particular el intercambio de publicaciones, obras de arte, material de laboratorio y cualquier documentación útil al respecto, y facilitando, mediante métodos adecuados de cooperación internacional, el acceso de todos los pueblos a lo que cada uno de ellos publique,\n",
    "\n",
    "Basándose en la Recomendación sobre la Ciencia y los Investigadores Científicos (2017) de la UNESCO, aprobada por la Conferencia General de la UNESCO en su 39ª reunión, en la que se reconoce, entre otras cosas, el valor considerable de la ciencia como bien común,\n",
    "\n",
    "Recordando también la Recomendación sobre los Recursos Educativos Abiertos (REA) (2019) de la UNESCO y la Convención Universal sobre Derechos de Autor (1971) de la UNESCO, y tomando nota de la Estrategia sobre la contribución de la UNESCO a la promoción del libre acceso a la información y la investigación científicas y de la Carta sobre la preservación del patrimonio digital, aprobadas por la Conferencia General de la UNESCO en sus reuniones 36ª y 32ª, respectivamente,"
   ]
  },
  {
   "cell_type": "markdown",
   "id": "533aaad7",
   "metadata": {
    "slideshow": {
     "slide_type": "slide"
    }
   },
   "source": [
    "# Modelo pedagógico de [Aula invertida](https://www3.gobiernodecanarias.org/medusa/ecoescuela/pedagotic/files/2018/11/flipped-classroom.pdf)\n",
    "\n",
    "## El docente en el aula  \n",
    "\n",
    "* Guía y facilita los procesos de aprendizaje, atendiendo a la diversidad.\n",
    "* Retroalimenta el desempeño de los equipos/grupos y del alumnado individualmente.\n",
    "* Genera espacios para la coevaluación y autoevaluación.\n",
    "\n",
    "## El alumnado en el aula  \n",
    "\n",
    "* Realiza las actividades (debates, exposiciones orales, informes, diario de aprendizaje, cuaderno de trabajo cooperativo,...).\n",
    "* Recibe retroalimentación inmediata del/la docente y de sus compañeros y compañeras.\n",
    "* Accede, si fuera necesario, a las actividades previas facilitadas por el docente."
   ]
  },
  {
   "cell_type": "code",
   "execution_count": null,
   "id": "effdf7cd",
   "metadata": {
    "slideshow": {
     "slide_type": "slide"
    }
   },
   "outputs": [],
   "source": []
  },
  {
   "cell_type": "code",
   "execution_count": null,
   "id": "b143fc8e",
   "metadata": {
    "slideshow": {
     "slide_type": "slide"
    }
   },
   "outputs": [],
   "source": []
  },
  {
   "cell_type": "code",
   "execution_count": null,
   "id": "6da46a45",
   "metadata": {
    "slideshow": {
     "slide_type": "slide"
    }
   },
   "outputs": [],
   "source": []
  },
  {
   "cell_type": "markdown",
   "id": "be4cb7fb",
   "metadata": {
    "slideshow": {
     "slide_type": "slide"
    }
   },
   "source": [
    "## Referentes  \n",
    "\n",
    "* [symbolab](https://es.symbolab.com/solver/step-by-step/%5Clim_%7Bx%5Cto9%7D%5Cleft(%5Cfrac%7Bx-9%7D%7Bx%5E%7B2%7D-%2081%7D%5Cright)?or=input): "
   ]
  },
  {
   "cell_type": "code",
   "execution_count": null,
   "id": "f7543bd1",
   "metadata": {},
   "outputs": [],
   "source": []
  }
 ],
 "metadata": {
  "celltoolbar": "Slideshow",
  "kernelspec": {
   "display_name": "Python 3 (ipykernel)",
   "language": "python",
   "name": "python3"
  },
  "language_info": {
   "codemirror_mode": {
    "name": "ipython",
    "version": 3
   },
   "file_extension": ".py",
   "mimetype": "text/x-python",
   "name": "python",
   "nbconvert_exporter": "python",
   "pygments_lexer": "ipython3",
   "version": "3.9.13"
  },
  "rise": {
   "enable_chalkboard": true,
   "theme": "sky",
   "transition": "zoom"
  }
 },
 "nbformat": 4,
 "nbformat_minor": 5
}
