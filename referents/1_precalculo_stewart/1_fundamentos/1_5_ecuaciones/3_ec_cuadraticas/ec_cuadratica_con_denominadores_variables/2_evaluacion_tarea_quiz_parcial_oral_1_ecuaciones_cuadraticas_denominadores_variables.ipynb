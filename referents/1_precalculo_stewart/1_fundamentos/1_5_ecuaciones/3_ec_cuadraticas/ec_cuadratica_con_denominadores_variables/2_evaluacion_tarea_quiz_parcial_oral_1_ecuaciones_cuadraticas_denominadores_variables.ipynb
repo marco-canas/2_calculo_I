{
 "cells": [
  {
   "cell_type": "markdown",
   "id": "dc06dec7",
   "metadata": {
    "slideshow": {
     "slide_type": "slide"
    }
   },
   "source": [
    "<table align=\"left\">\n",
    "  <td>\n",
    "    <a href=\"https://colab.research.google.com/github/marco-canas/calculo/blob/main/referents/1_precalculo_stewart/1_fundamentos/1_5_ecuaciones/0_ecuaciones_segun_stewart/2_ec_cuadraticas/ec_cuadratica_con_denominadores_variables/2_evaluacion_tarea_quiz_parcial_oral_1_ecuaciones_cuadraticas_denominadores_variables.ipynb\" target=\"_parent\"><img src=\"https://colab.research.google.com/assets/colab-badge.svg\" alt=\"Open In Colab\"/></a>\n",
    "  </td>\n",
    "  <td>\n",
    "    <a target=\"_blank\" href=\"https://kaggle.com/kernels/welcome?src=https://github.com/marco-canas/calculo/blob/main/referents/1_precalculo_stewart/1_fundamentos/1_5_ecuaciones/0_ecuaciones_segun_stewart/2_ec_cuadraticas/ec_cuadratica_con_denominadores_variables/2_evaluacion_tarea_quiz_parcial_oral_1_ecuaciones_cuadraticas_denominadores_variables.ipynb\"><img src=\"https://kaggle.com/static/images/open-in-kaggle.svg\" /></a>\n",
    "  </td>\n",
    "</table>"
   ]
  },
  {
   "cell_type": "markdown",
   "id": "e0c5b198",
   "metadata": {
    "slideshow": {
     "slide_type": "slide"
    }
   },
   "source": [
    "### [Video de apoyo a la lectura interactiva y experimental de este cuaderno]()"
   ]
  },
  {
   "cell_type": "markdown",
   "id": "41e82203",
   "metadata": {
    "slideshow": {
     "slide_type": "slide"
    }
   },
   "source": [
    "## [Vínculo al programa del curso:  ]()"
   ]
  },
  {
   "cell_type": "markdown",
   "id": "f5eb2e69",
   "metadata": {},
   "source": [
    "Reconocimiento a mis estudiantes que me han aportado con su trabajo y participación a este saber didáctico \n",
    "\n",
    "<img src = 'https://github.com/marco-canas/calculo/blob/main/images/student_images/2_licenciatura_matematicas/licenciatura_matematica_2024-05-15.jpeg?raw=true'>"
   ]
  },
  {
   "cell_type": "markdown",
   "id": "ca46c23b",
   "metadata": {
    "slideshow": {
     "slide_type": "slide"
    }
   },
   "source": [
    "# Modelo general de clase: [aula invertida](https://www3.gobiernodecanarias.org/medusa/ecoescuela/pedagotic/aprendizaje-invertido-flipped-classroom/)\n"
   ]
  },
  {
   "cell_type": "markdown",
   "id": "7f9be90f",
   "metadata": {
    "slideshow": {
     "slide_type": "slide"
    }
   },
   "source": [
    "# Fomento de la lectura literaria asociada a Ingeniería agropecuaria y licenciatura en Matemáticas y administración de empresas\n",
    "\n",
    "[Hábitos atómicos](https://github.com/marco-canas/habitos_atomicos/blob/main/13_como_dejar_de_postergar_usando_la_regla_de_los_dos_minutos/1_13_como_dejar_de_postergar_usando_la_regla_de_los_dos_minutos.ipynb)"
   ]
  },
  {
   "cell_type": "markdown",
   "id": "96775931",
   "metadata": {
    "slideshow": {
     "slide_type": "slide"
    }
   },
   "source": [
    "# Título de la clase: Realización evaluación oral, de Tareas en cuadernos Jupyter, Quiz o Parcial de selección múltiple o de preguntas cerradas.  \n",
    "\n"
   ]
  },
  {
   "cell_type": "markdown",
   "id": "1d38dd4e",
   "metadata": {
    "slideshow": {
     "slide_type": "slide"
    }
   },
   "source": [
    "### Objetivo de aprendizaje (Enunciar, de manera corta sencilla y clara para todos los asistentes)\n",
    "\n",
    "* [Hipervínculo para el cuaderno de enseñanza]()\n",
    "1. Evaluar las tareas realizadas de manera manúscrita\n",
    "2. Evaluar las tareas realizadas en los cuadernos Jupyter. (Solo realizar la tercera parte de las tareas asignadas de manera manuscrita)\n",
    "3. Evaluar con un quiz escrito\n",
    "4. Evaluar con un parcial escrito.\n",
    "5. Evaluar la capacidad de describir un problema y su solución de manera oral. "
   ]
  },
  {
   "cell_type": "markdown",
   "id": "ca7261b1",
   "metadata": {
    "slideshow": {
     "slide_type": "slide"
    }
   },
   "source": [
    "## Establecimiento de prerrequisitos conceptuales para alcanzar el objetivo de aprendizaje trazado.   \n",
    "\n",
    "(Elabore una lista de preguntas al rededor de los conceptos que consideres necesarios para empezar la clase).  \n",
    "\n",
    "1. \n",
    "2. \n",
    "3. "
   ]
  },
  {
   "cell_type": "markdown",
   "id": "2298e976",
   "metadata": {
    "slideshow": {
     "slide_type": "slide"
    }
   },
   "source": [
    "# Para el diseño de la clase tenga en cuenta algunos problemas de aprendizaje"
   ]
  },
  {
   "cell_type": "markdown",
   "id": "2d46be3a",
   "metadata": {},
   "source": [
    "# Diseño de evaluación oral de si se alcanzaron los objetivos de aprendizaje planteados\n",
    "\n",
    "* Describa verbalmente el objetivo de aprendizaje y evidencie de forma oral si lo logró o no. "
   ]
  },
  {
   "cell_type": "markdown",
   "id": "4566108f",
   "metadata": {},
   "source": [
    "## Cuestionario para realizar labores de memorización, observación y síntesis de la información (Además de diagnóstico)\n",
    "\n",
    "1. ¿?\n",
    "2. ¿?\n",
    "3. ¿?\n",
    "4. ¿?\n",
    "5. ¿?"
   ]
  },
  {
   "cell_type": "markdown",
   "id": "7ee3abc5",
   "metadata": {},
   "source": [
    "# Vocabulary \n",
    "\n",
    "1. length: longitud\n",
    "2. width: ancho. \n",
    "\n",
    "[length, width](https://voca.ro/1of14ffdXnZI)"
   ]
  },
  {
   "cell_type": "markdown",
   "id": "4f235d3e",
   "metadata": {},
   "source": [
    "# 20 ejercicios de entrenamiento para ecuaciones cuadráticas con fracciones\n",
    "\n"
   ]
  },
  {
   "cell_type": "markdown",
   "id": "68dc5ad8",
   "metadata": {},
   "source": [
    "## Metodología sugerida de solución\n",
    "\n",
    "1. encontrar el mínimo común múltiplo de los denominadores de la ecuación.\n",
    "2. multipliicar la ecuación dada por este mínimo común múltiplo para obtener una ecuación sin denominadores.\n",
    "3. con suma de términos semejantes y transposición de términos, lleve la ecuación obtenida a la forma estándar $$ ax^{2} + bx + c = 0 $$\n",
    "4. Determine si el método de solución debe ser el de factorización, determinando la raíz del discriminante de la ecuación: $\\sqrt{b^{2} - 4ac}$ para ver si esta raíz le da racional, pues este es un indenticador de que la ecuación se puede resolver por factorización."
   ]
  },
  {
   "cell_type": "markdown",
   "id": "a8c74934",
   "metadata": {},
   "source": [
    "\n",
    "1. $$ \\frac{1}{x} - \\frac{2}{x-2} = \\frac{3}{x^{2} - 4} $$\n"
   ]
  },
  {
   "cell_type": "markdown",
   "id": "266e45f2",
   "metadata": {},
   "source": [
    "2. $$ \\frac{2}{x} - \\frac{1}{x-1} = \\frac{-4}{x^{2} - x} $$\n",
    "3. $$ \\frac{3}{x} - \\frac{2}{x-3} = \\frac{-5}{x^{2} - 9} $$\n",
    "4. $$ \\frac{4}{x} - \\frac{3}{x-1} = \\frac{-8}{x^{2} - x} $$\n",
    "5. $$ \\frac{1}{x} - \\frac{2}{x-4} = \\frac{-3}{x^{2} - 16} $$\n",
    "6. $$ \\frac{2}{x} - \\frac{3}{x-2} = \\frac{-6}{x^{2} - 4} $$\n",
    "7. $$ \\frac{1}{x} - \\frac{1}{x-1} = \\frac{-2}{x^{2} - x} $$\n",
    "8. $$ \\frac{3}{x} - \\frac{4}{x-3} = \\frac{-7}{x^{2} - 9} $$\n",
    "9. $$ \\frac{4}{x} - \\frac{1}{x-4} = \\frac{-5}{x^{2} - 16} $$\n",
    "10. $$ \\frac{2}{x} - \\frac{2}{x-2} = \\frac{-4}{x^{2} - 4} $$\n",
    "11. $$ \\frac{3}{x} - \\frac{1}{x-3} = \\frac{-6}{x^{2} - 9} $$\n",
    "12. $$ \\frac{1}{x} - \\frac{3}{x-1} = \\frac{-2}{x^{2} - x} $$\n",
    "13. $$ \\frac{4}{x} - \\frac{2}{x-4} = \\frac{-6}{x^{2} - 16} $$\n"
   ]
  },
  {
   "cell_type": "markdown",
   "id": "c4f36e8e",
   "metadata": {},
   "source": [
    "14. $$ \\frac{2}{x} - \\frac{4}{x-2} = \\frac{-8}{x^{2} - 4} $$\n",
    "15. $$ \\frac{3}{x} - \\frac{3}{x-3} = \\frac{-9}{x^{2} - 9} $$\n",
    "16. $$ \\frac{1}{x} - \\frac{4}{x-1} = \\frac{-5}{x^{2} - x} $$\n",
    "17. $$ \\frac{4}{x} - \\frac{3}{x-4} = \\frac{-7}{x^{2} - 16} $$\n",
    "18. $$ \\frac{2}{x} - \\frac{1}{x-2} = \\frac{-3}{x^{2} - 4} $$\n",
    "19. $$ \\frac{3}{x} - \\frac{2}{x-3} = \\frac{-5}{x^{2} - 9} $$\n",
    "20. $$ \\frac{4}{x} - \\frac{1}{x-4} = \\frac{-5}{x^{2} - 16} $$\n",
    "\n",
    "Espero que esto sea útil para tu visualización en Visual Studio Code. ¡Déjame saber si necesitas algo más!"
   ]
  },
  {
   "cell_type": "code",
   "execution_count": 2,
   "id": "dfd12a88",
   "metadata": {},
   "outputs": [
    {
     "name": "stdout",
     "output_type": "stream",
     "text": [
      "La primera solución no es correcta\n",
      "La segunda solución no es correcta\n"
     ]
    }
   ],
   "source": [
    "# programa para verificar \n",
    "\n",
    "from sympy import * \n",
    "x = var('x')\n",
    "\n",
    "# Verificación interactiva de soluciones encontradas\n",
    "\n",
    "ecuacion_python = Eq(1/x - 2/(x-2) - 3/(x**2 - 4), 0)\n",
    "solucion1 = 5   # candidato 1 a solución\n",
    "solucion2 = 4  # candidato 2 a solución\n",
    "\n",
    "\n",
    "\n",
    "if abs(ecuacion_python.lhs.subs(x,solucion1))<0.0001:\n",
    "    print('la primera solución que encontraste es correcta') \n",
    "else:\n",
    "    print('La primera solución no es correcta')     \n",
    "\n",
    "if abs(ecuacion_python.lhs.subs(x,solucion2))<0.0001:\n",
    "    print('la segunda solución que encontraste es correcta') \n",
    "else:\n",
    "    print('La segunda solución no es correcta')         \n"
   ]
  },
  {
   "cell_type": "code",
   "execution_count": 3,
   "id": "fac50541",
   "metadata": {},
   "outputs": [
    {
     "data": {
      "text/plain": [
       "(-6.37228132326901, -0.627718676730986)"
      ]
     },
     "execution_count": 3,
     "metadata": {},
     "output_type": "execute_result"
    }
   ],
   "source": [
    "# programa para hallar la solución\n",
    "soluciones = solve(ecuacion_python, x)\n",
    "solucion1 = soluciones[0].evalf()\n",
    "solucion2 = soluciones[1].evalf()\n",
    "\n",
    "solucion1, solucion2"
   ]
  },
  {
   "cell_type": "markdown",
   "id": "2abc6a71",
   "metadata": {},
   "source": [
    "# 1. Evaluar las tareas realizadas de manera manúscrita\n",
    "## 2. Evaluar las tareas realizadas en los cuadernos Jupyter. (Solo realizar la tercera parte de las tareas asignadas de manera manuscrita)"
   ]
  },
  {
   "cell_type": "code",
   "execution_count": null,
   "id": "e1f297cd",
   "metadata": {},
   "outputs": [],
   "source": [
    "# Tarea 1 para antes de realizada la clase\n",
    "# Consiste en la lectura y completación de un ejemplo del texto guía\n",
    "# Siempre incluir el enunciado. \n",
    "# Ojo, todo ejercicio debe llavar conclusión verbal. \n",
    "import pandas as pd\n",
    "import numpy as np\n",
    "import requests\n",
    "np.random.seed(1213)  # establecer semilla aleatoria para hacer los resultados reproducibles\n",
    "\n",
    "\n",
    "\n",
    "grupo_estudiantes = 'seminario_didactica_aritmetica'\n",
    "nombre_texto_guia = 'Purcell'\n",
    "pagina_y_seccion = 'Página_202_Sección_3.8'\n",
    "numero_ejercicios_taller = 14\n",
    "numero_de_ejercicios_asignados = 1\n",
    "\n",
    "\n",
    "# Descargar la lista de  estudiantes\n",
    "students_url = \"https://raw.githubusercontent.com/marco-canas/groups_list/main/\" + grupo_estudiantes + \".csv\"\n",
    "exercises = list(range(1, numero_ejercicios_taller))  \n",
    "\n",
    "students_data = pd.read_csv(students_url)\n",
    "\n",
    "# Crear una lista para almacenar las asignaciones\n",
    "assignments = []\n",
    "\n",
    "# Asignar ejercicios aleatorios a cada estudiante\n",
    "for index, student in students_data.iterrows():\n",
    "    # Seleccionar 5 ejercicios aleatorios sin repetición\n",
    "    random_exercises = np.random.choice(exercises, numero_de_ejercicios_asignados, replace = False)+ 1 \n",
    "    assignments.append([students_data[\"Nombre\"][index], *random_exercises])  # Agregar asignación a la lista\n",
    "\n",
    "# Crear un DataFrame con las asignaciones\n",
    "columns = [\"Student\"] + [ \"Example\" + str(i+1) for i in range(numero_de_ejercicios_asignados)]\n",
    "assignment_df = pd.DataFrame(assignments, columns=columns)\n",
    "\n",
    "# Guardar el DataFrame en un archivo CSV\n",
    "assignment_csv = \"tarea\" + \"_\" + nombre_texto_guia + \"_\"+ pagina_y_seccion + \".csv\"\n",
    "assignment_df.to_csv(assignment_csv, index=False)\n",
    "\n",
    "print(\"Tarea asignada: \", assignment_csv)\n",
    "print('Debe transcribir el ejemplo \\n en su cuaderno manuscrito y Jupyter y completar los procedimientos')\n",
    "assignment_df"
   ]
  },
  {
   "cell_type": "code",
   "execution_count": null,
   "id": "30b8ec1e",
   "metadata": {},
   "outputs": [],
   "source": [
    "# Tarea: Asignación de ejercicio para realizar en clase\n",
    "# Tarea 2 resolución de 10 ejercicios sin justificar ni describir \n",
    "\n",
    "import pandas as pd\n",
    "import numpy as np\n",
    "import requests\n",
    "np.random.seed(424)  # establecer semilla aleatoria para hacer los resultados reproducibles\n",
    "\n",
    "\n",
    "\n",
    "grupo_estudiantes = 'seminario_didactica_aritmetica'\n",
    "nombre_texto_guia = 'Precálculo de Stewart'\n",
    "pagina_y_seccion = 'Página_56_Sección_1.5'\n",
    "numero_ejercicios_taller = 141\n",
    "numero_de_ejercicios_asignados = 10\n",
    "\n",
    "\n",
    "# Descargar la lista de  estudiantes\n",
    "students_url = \"https://raw.githubusercontent.com/marco-canas/groups_list/main/\" + grupo_estudiantes + \".csv\"\n",
    "exercises = list(range(1, numero_ejercicios_taller))  \n",
    "\n",
    "students_data = pd.read_csv(students_url)\n",
    "\n",
    "# Crear una lista para almacenar las asignaciones\n",
    "assignments = []\n",
    "\n",
    "# Asignar ejercicios aleatorios a cada estudiante\n",
    "for index, student in students_data.iterrows():\n",
    "    # Seleccionar 5 ejercicios aleatorios sin repetición\n",
    "    random_exercises = np.random.choice(exercises, numero_de_ejercicios_asignados, replace = False)+ 1 \n",
    "    assignments.append([students_data[\"Nombre\"][index], *random_exercises])  # Agregar asignación a la lista\n",
    "\n",
    "# Crear un DataFrame con las asignaciones\n",
    "columns = [\"Student\"] + [ \"Exer\" + str(i+1) for i in range(numero_de_ejercicios_asignados)]\n",
    "assignment_df = pd.DataFrame(assignments, columns=columns)\n",
    "\n",
    "# Guardar el DataFrame en un archivo CSV\n",
    "assignment_csv = \"tarea\" + \"_\" + nombre_texto_guia + \"_\"+ pagina_y_seccion + \".csv\"\n",
    "assignment_df.to_csv(assignment_csv, index=False)\n",
    "\n",
    "print(\"Tarea asignada: \", assignment_csv)\n",
    "assignment_df"
   ]
  },
  {
   "cell_type": "code",
   "execution_count": null,
   "id": "e647d34e",
   "metadata": {},
   "outputs": [],
   "source": [
    "# Tarea para después de la clase: asignación de ejercicios de un seccion del texto guía\n",
    "# Tarea 3 RESOLVER 10 ejercicios justificando y describiendo \n",
    "# es usual que la descripción verbal tenga mucho valor en la calificación. \n",
    "# Tarea para adquisición de habilidades\n",
    "# \n",
    "\n",
    "import pandas as pd\n",
    "import numpy as np\n",
    "import requests\n",
    "np.random.seed(126)  # establecer semilla aleatoria para hacer los resultados reproducibles\n",
    "\n",
    "\n",
    "\n",
    "grupo_estudiantes = 'seminario_didactica_aritmetica'\n",
    "nombre_texto_guia = 'Purcell'\n",
    "pagina_y_seccion = 'Página_202_Sección_3.8'\n",
    "numero_ejercicios_taller = 141\n",
    "numero_de_ejercicios_asignados = 10\n",
    "\n",
    "\n",
    "# Descargar la lista de  estudiantes\n",
    "students_url = \"https://raw.githubusercontent.com/marco-canas/groups_list/main/\" + grupo_estudiantes + \".csv\"\n",
    "exercises = list(range(1, numero_ejercicios_taller))  \n",
    "\n",
    "students_data = pd.read_csv(students_url)\n",
    "\n",
    "# Crear una lista para almacenar las asignaciones\n",
    "assignments = []\n",
    "\n",
    "# Asignar ejercicios aleatorios a cada estudiante\n",
    "for index, student in students_data.iterrows():\n",
    "    # Seleccionar 5 ejercicios aleatorios sin repetición\n",
    "    random_exercises = np.random.choice(exercises, numero_de_ejercicios_asignados, replace = False)+ 1 \n",
    "    assignments.append([students_data[\"Nombre\"][index], *random_exercises])  # Agregar asignación a la lista\n",
    "\n",
    "# Crear un DataFrame con las asignaciones\n",
    "columns = [\"Student\"] + [ \"Exer\" + str(i+1) for i in range(numero_de_ejercicios_asignados)]\n",
    "assignment_df = pd.DataFrame(assignments, columns=columns)\n",
    "\n",
    "# Guardar el DataFrame en un archivo CSV\n",
    "assignment_csv = \"tarea\" + \"_\" + nombre_texto_guia + \"_\"+ pagina_y_seccion + \".csv\"\n",
    "assignment_df.to_csv(assignment_csv, index=False)\n",
    "\n",
    "print(\"Tarea asignada: \", assignment_csv)\n",
    "assignment_df"
   ]
  },
  {
   "cell_type": "markdown",
   "id": "9377611e",
   "metadata": {},
   "source": [
    "\n",
    "# 3. Evaluar con un quiz escrito\n"
   ]
  },
  {
   "cell_type": "code",
   "execution_count": null,
   "id": "365c4a8a",
   "metadata": {},
   "outputs": [],
   "source": [
    "# Quiz escrito: \n",
    "\n",
    "\n",
    "\n",
    "import pandas as pd\n",
    "import numpy as np\n",
    "import requests\n",
    "np.random.seed(1213)  # establecer semilla aleatoria para hacer los resultados reproducibles\n",
    "\n",
    "\n",
    "\n",
    "grupo_estudiantes = 'calculo_integral'\n",
    "nombre_texto_guia = 'Purcell'\n",
    "pagina_y_seccion = 'Página_202_Sección_3.8'\n",
    "numero_ejercicios_taller = 54\n",
    "numero_de_ejercicios_asignados = 2\n",
    "\n",
    "\n",
    "# Asignar ejercicios aleatorios a cada estudiante\n",
    "\n",
    "random_exercises = np.random.choice(exercises, numero_de_ejercicios_asignados, replace = False)+1 \n",
    "random_exercises    \n"
   ]
  },
  {
   "cell_type": "markdown",
   "id": "af3c0708",
   "metadata": {},
   "source": [
    "4. Evaluar con un parcial escrito.\n"
   ]
  },
  {
   "cell_type": "code",
   "execution_count": null,
   "id": "0df5ca5e",
   "metadata": {},
   "outputs": [],
   "source": [
    "# Parcial escrito: \n",
    "\n",
    "\n",
    "\n",
    "import pandas as pd\n",
    "import numpy as np\n",
    "import requests\n",
    "#np.random.seed(1213)  # establecer semilla aleatoria para hacer los resultados reproducibles\n",
    "\n",
    "\n",
    "\n",
    "grupo_estudiantes = 'seminario_didactica_aritmetica'\n",
    "nombre_texto_guia = 'Precálculo Stewart'\n",
    "pagina_y_seccion = 'Página_56_Sección_1.5'\n",
    "numero_ejercicios_taller = 141\n",
    "numero_de_ejercicios_asignados = 1\n",
    "\n",
    "\n",
    "# Asignar ejercicios aleatorios a cada estudiante\n",
    "\n",
    "random_exercises = np.random.choice(exercises, numero_de_ejercicios_asignados, replace = False)+1 \n",
    "random_exercises    "
   ]
  },
  {
   "cell_type": "markdown",
   "id": "8295d7a0",
   "metadata": {},
   "source": [
    "# 5. Evaluación oral\n",
    "## 5. Evaluar la capacidad de describir un problema y su solución de manera oral. \n",
    "\n",
    "1. Evaluaremos la capacidad de describir cada uno de los pasos o fases para resolver un problema (Es decir, se pedirá al estudiante que describa la metodología de solución de un problema dado). "
   ]
  },
  {
   "cell_type": "code",
   "execution_count": null,
   "id": "c48ebcd1",
   "metadata": {},
   "outputs": [],
   "source": [
    "# Llamar a lista o tomar asistencia con python \n",
    "\n",
    "import pandas as pd # convertir la lista de estudiantes en un dataframe\n",
    "import numpy as np # elección aleatoria\n",
    "\n",
    "# Cargar la lista de estudiantes desde la URL\n",
    "url = 'https://raw.githubusercontent.com/marco-canas/groups_list/main/english.csv'\n",
    "estudiantes = pd.read_csv(url) # convierte el csv en una dataframe\n",
    "\n",
    "# Convertir la columna 'Nombre' a una lista de Python\n",
    "lista_estudiantes = estudiantes['Nombre'].tolist()\n",
    "\n",
    "# Función para llamar a un estudiante aleatoriamente y registrar su nota de seguimiento\n",
    "def llamar_estudiante():\n",
    "    if lista_estudiantes:\n",
    "        estudiante_aleatorio = np.random.choice(lista_estudiantes)\n",
    "        print(f\"Llamando a {estudiante_aleatorio}...\")\n",
    "        lista_estudiantes.remove(estudiante_aleatorio)\n",
    "    else:\n",
    "        print(\"Se han llamado a todos los estudiantes del grupo completo.\")\n"
   ]
  },
  {
   "cell_type": "code",
   "execution_count": null,
   "id": "1d3b6c7e",
   "metadata": {},
   "outputs": [],
   "source": [
    "llamar_estudiante() "
   ]
  },
  {
   "cell_type": "code",
   "execution_count": null,
   "id": "7eede18b",
   "metadata": {},
   "outputs": [],
   "source": [
    "\n",
    "# Tarea para antes de realizada la clase\n",
    "# Consiste en la lectura y completación de un ejemplo del texto guía\n",
    "\n",
    "import pandas as pd\n",
    "import numpy as np\n",
    "import requests\n",
    "np.random.seed(126)  # establecer semilla aleatoria para hacer los resultados reproducibles\n",
    "\n",
    "\n",
    "\n",
    "grupo_estudiantes = 'calculo_integral'\n",
    "nombre_texto_guia = 'Purcell'\n",
    "pagina_y_seccion = 'Página_202_Sección_3.8'\n",
    "numero_ejercicios_taller = 54\n",
    "numero_de_ejercicios_asignados = 1\n",
    "\n",
    "\n",
    "# Descargar la lista de  estudiantes\n",
    "students_url = \"https://raw.githubusercontent.com/marco-canas/groups_list/main/\" + grupo_estudiantes + \".csv\"\n",
    "exercises = list(range(1, numero_ejercicios_taller))  \n",
    "\n",
    "students_data = pd.read_csv(students_url)\n",
    "\n",
    "# Crear una lista para almacenar las asignaciones\n",
    "assignments = []\n",
    "\n",
    "# Asignar ejercicios aleatorios a cada estudiante\n",
    "for index, student in students_data.iterrows():\n",
    "    # Seleccionar 5 ejercicios aleatorios sin repetición\n",
    "    random_exercises = np.random.choice(exercises, numero_de_ejercicios_asignados, replace = False)+ 1 \n",
    "    assignments.append([students_data[\"Nombre\"][index], *random_exercises])  # Agregar asignación a la lista\n",
    "\n",
    "# Crear un DataFrame con las asignaciones\n",
    "columns = [\"Student\"] + [ \"Example\" + str(i+1) for i in range(numero_de_ejercicios_asignados)]\n",
    "assignment_df = pd.DataFrame(assignments, columns=columns)\n",
    "\n",
    "# Guardar el DataFrame en un archivo CSV\n",
    "assignment_csv = \"tarea\" + \"_\" + nombre_texto_guia + \"_\"+ pagina_y_seccion + \".csv\"\n",
    "assignment_df.to_csv(assignment_csv, index=False)\n",
    "\n",
    "print(\"Tarea asignada: \", assignment_csv)\n",
    "print('Debe transcribir el ejemplo \\n en su cuaderno manuscrito y Jupyter y completar los procedimientos')\n",
    "assignment_df        \n"
   ]
  },
  {
   "cell_type": "markdown",
   "id": "384af1d4",
   "metadata": {},
   "source": [
    "# Programa para evaluación del seguimiento mensual de los estudiantes"
   ]
  },
  {
   "cell_type": "code",
   "execution_count": null,
   "id": "3fc8d3df",
   "metadata": {
    "slideshow": {
     "slide_type": "slide"
    }
   },
   "outputs": [],
   "source": [
    "# Programa para valoración cuantitativa por meses para los estudiantes de todos los cursos\n",
    "import numpy as np \n",
    "import pandas as pd   \n",
    "\n",
    "#weights\n",
    "weightAssistance = 12/100\n",
    "weightAttentionParticipation = 8/100\n",
    "weightHandwrittenNotebook = 8/100\n",
    "weightJupyterNotebook = 20/100\n",
    "weightQuiz = 16/100\n",
    "weightPartial = 48/100\n",
    "\n",
    "url_group = 'https://raw.githubusercontent.com/marco-canas/groups_list/main/seminario_didactica_aritmetica.csv'\n",
    "\n",
    "df = pd.read_csv(url_group, decimal = ',') \n",
    "\n",
    "df.Assistance = (df.Assistance/np.max(df.Assistance))*5.0\n",
    "df.AttentionParticipation = (df.AttentionParticipation/np.max(df.AttentionParticipation))*5.0\n",
    "df.HandwrittenNotebook = (df.HandwrittenNotebook/np.max(df.HandwrittenNotebook))*5.0\n",
    "df.JupyterNotebook = (df.JupyterNotebook/np.max(df.JupyterNotebook))*5.0  \n",
    "\n",
    "\n",
    "df['FollowUp'] = df.Assistance*weightAssistance + \\\n",
    "                 df.AttentionParticipation*weightAttentionParticipation + \\\n",
    "                 df.HandwrittenNotebook*weightHandwrittenNotebook+\\\n",
    "                 df.JupyterNotebook*weightJupyterNotebook+\\\n",
    "                 df.Quiz*weightQuiz + \\\n",
    "                 df.Partial*weightPartial\n",
    "\n",
    "df.FollowUp = df.FollowUp.round(1)\n",
    "\n",
    "df[['Nombre', 'FollowUp']] "
   ]
  },
  {
   "cell_type": "markdown",
   "id": "aac04d00",
   "metadata": {
    "slideshow": {
     "slide_type": "slide"
    }
   },
   "source": [
    "<img src = ''>"
   ]
  },
  {
   "cell_type": "markdown",
   "id": "fb9402bb",
   "metadata": {
    "slideshow": {
     "slide_type": "slide"
    }
   },
   "source": [
    "## Estrategias propuestas para la solución de las dificultades de aprendizaje detectadas"
   ]
  },
  {
   "cell_type": "markdown",
   "id": "2dd3bd5c",
   "metadata": {
    "slideshow": {
     "slide_type": "slide"
    }
   },
   "source": []
  },
  {
   "cell_type": "markdown",
   "id": "d11570a2",
   "metadata": {
    "slideshow": {
     "slide_type": "slide"
    }
   },
   "source": [
    "## Cuestionario para realizar labores de memorización y observación,  a la síntesis de la información"
   ]
  },
  {
   "cell_type": "markdown",
   "id": "540f0ec1",
   "metadata": {
    "slideshow": {
     "slide_type": "slide"
    }
   },
   "source": []
  },
  {
   "cell_type": "markdown",
   "id": "236b43fc",
   "metadata": {
    "slideshow": {
     "slide_type": "slide"
    }
   },
   "source": [
    "## Grabaciones en audio para fomentar la capacidad de memorizar enunciados de teoremas y resultados científicos y la capacidad de parafrasear estos resultados. "
   ]
  },
  {
   "cell_type": "markdown",
   "id": "319f2ffa",
   "metadata": {
    "slideshow": {
     "slide_type": "slide"
    }
   },
   "source": [
    "Se dispondrá de un lugar en el drive asociuado al correo institucional de la Universidad Nacional del Profesor Marso para albergar los archivosd de audio de fomento a la memoirización, enunciación y parafraseo de los resultados científicos, prtopiedades, reglas, etc. \n",
    "\n",
    "* Vocaroo"
   ]
  },
  {
   "cell_type": "markdown",
   "id": "564fa59d",
   "metadata": {
    "slideshow": {
     "slide_type": "slide"
    }
   },
   "source": [
    "### Comparta sus cuadernos y videos, evidencias de su aprendizaje [aquí](https://forms.office.com/Pages/ResponsePage.aspx?id=IefhmYRxjkmK_7KtTlPBwkanXIs1i1FEujpsZgO6dXpUMEMwTEZVMzEwVVBPTElWNVg5OVEyWUhMUy4u)"
   ]
  },
  {
   "cell_type": "code",
   "execution_count": null,
   "id": "5fe498b3",
   "metadata": {
    "slideshow": {
     "slide_type": "slide"
    }
   },
   "outputs": [],
   "source": []
  },
  {
   "cell_type": "markdown",
   "id": "c6236d5d",
   "metadata": {},
   "source": [
    "# FODA del grupo y del profesor  \n",
    "\n",
    "* F: Fortalezas\n",
    "* O: Oportunidades\n",
    "* D: Dificultades\n",
    "* A: Amenazas."
   ]
  },
  {
   "cell_type": "markdown",
   "id": "b48f9542",
   "metadata": {},
   "source": [
    "## ¿Cómo se sintió en este espacio de enseñanza y aprendizaje?\n",
    "\n",
    "!Dios te bendiga¡"
   ]
  },
  {
   "cell_type": "code",
   "execution_count": null,
   "id": "7225a54b",
   "metadata": {},
   "outputs": [],
   "source": [
    "# Programa para valoración cuantitativa por meses para los estudiantes de todos los cursos\n",
    "import numpy as np \n",
    "import pandas as pd   \n",
    "\n",
    "# Weights\n",
    "weightAssistance = 12/100\n",
    "weightAttentionParticipation = 8/100\n",
    "weight_tast_1_2_3 = 8/100\n",
    "weightJupyterNotebook = 20/100\n",
    "weightQuiz = 16/100\n",
    "weightPartial = 48/100\n",
    "\n",
    "url_group = 'https://raw.githubusercontent.com/marco-canas/groups_list/main/calculo_integral.csv'\n",
    "\n",
    "df = pd.read_csv(url_group, decimal = ',') \n",
    "\n",
    "df.Assistance = (df.Assistance/np.max(df.Assistance))*5.0\n",
    "df.AttentionParticipation = (df.AttentionParticipation/np.max(df.AttentionParticipation))*5.0\n",
    "df.task_1_2_3 = (df.task_1_2_3/np.max(df.task_1_2_3))*5.0\n",
    "df.JupyterNotebook = (df.JupyterNotebook/np.max(df.JupyterNotebook))*5.0  \n",
    "\n",
    "\n",
    "df['FollowUp'] = np.round(df.Assistance*weightAssistance+\\\n",
    "    df.AttentionParticipation*weightAttentionParticipation+\\\n",
    "    df.HandwrittenNotebook*weight_task_1_2_3+\\\n",
    "    df.JupyterNotebook*weightJupyterNotebook+\\\n",
    "    df.Quiz*weightQuiz+\\\n",
    "    df.Partial*weightPartial,1)\n",
    "df[['Nombre', 'FollowUp']] "
   ]
  },
  {
   "cell_type": "code",
   "execution_count": null,
   "id": "e2917525",
   "metadata": {},
   "outputs": [],
   "source": [
    "df.info()"
   ]
  },
  {
   "cell_type": "markdown",
   "id": "10bce0d0",
   "metadata": {
    "slideshow": {
     "slide_type": "slide"
    }
   },
   "source": [
    "## Referentes "
   ]
  },
  {
   "cell_type": "markdown",
   "id": "1db3c468",
   "metadata": {
    "slideshow": {
     "slide_type": "slide"
    }
   },
   "source": [
    "* [stewart precálculo](https://udeaeduco-my.sharepoint.com/:b:/g/personal/marco_canas_udea_edu_co/ERHIq62I6qFNrmxy6LZb8ZMBci7kUsyNME1nIh9yCBMJ_w?e=0zMSla)  \n",
    "\n",
    "* [stewart cálculo](https://udeaeduco-my.sharepoint.com/:b:/g/personal/marco_canas_udea_edu_co/EZgXZjAp8QxPqOAim2hs6LcBNPLGjSHf-xwYnUVYkwa04w?e=RZdTCy)  \n",
    "\n",
    "* [larson](https://udeaeduco-my.sharepoint.com/:b:/g/personal/marco_canas_udea_edu_co/ES71ChFeO9ZDhW3TwC5Ijk8BjxUK3Pdqz_fjHxTTFAfIAg?e=VDEjfu)\n",
    "\n",
    "* [uzcategui](https://udeaeduco-my.sharepoint.com/:b:/g/personal/marco_canas_udea_edu_co/ETDikm-lVl1Or8XoEo9oyh0BEti9Zs8le-f0D-dBdtZmbA?e=bBsoyQ)\n",
    "\n",
    "* [Recomendación de la UNESCO sobre ciencia abierta](https://unesdoc.unesco.org/ark:/48223/pf0000379949_spa)  \n",
    "\n",
    "* [chatGPT](https://openai.com/blog/chatgpt)  \n",
    "\n",
    "* Géron, A. (2017). Hands-on machine learning with scikit-learn and tensorflow: Concepts. Tools, and Techniques to build intelligent systems.[Geron, Aurelien. Hands on Machine Learning](https://udeaeduco-my.sharepoint.com/:b:/g/personal/marco_canas_udea_edu_co/Ecet27yjQzZIlT1Y_Bc2erkBUhbeYuIe6HG8i1FYZRlZww?e=dlvZ4v)  \n",
    "\n",
    "* McKinney, W. (2012). Python for data analysis: Data wrangling with Pandas, NumPy, and IPython. \" O'Reilly Media, Inc.\".[Wes Mackinney. ](https://udeaeduco-my.sharepoint.com/:b:/g/personal/marco_canas_udea_edu_co/EVbi5JIeBl9ErbiUnZfGe8YBhNTnZ8sxTK5hjIOPK4UpGw?e=fFclah)"
   ]
  },
  {
   "cell_type": "markdown",
   "id": "6b9e56a8",
   "metadata": {
    "slideshow": {
     "slide_type": "slide"
    }
   },
   "source": [
    "### [Evaluamos al profesor Marco Cañas Aquí](https://forms.office.com/Pages/ResponsePage.aspx?id=IefhmYRxjkmK_7KtTlPBwkanXIs1i1FEujpsZgO6dXpUREJPV1kxUk1JV1ozTFJIQVNIQjY5WEY3US4u)"
   ]
  },
  {
   "cell_type": "markdown",
   "id": "071afa04",
   "metadata": {
    "slideshow": {
     "slide_type": "slide"
    }
   },
   "source": [
    "## [Evaluación luego de alcanzar estos objetivos de aprendizaje]()"
   ]
  },
  {
   "cell_type": "markdown",
   "id": "10f43536",
   "metadata": {
    "slideshow": {
     "slide_type": "slide"
    }
   },
   "source": [
    "### Continue su aprendizaje en la siguiente clase a través del siguiente [vínculo]()"
   ]
  },
  {
   "cell_type": "markdown",
   "id": "af751e30",
   "metadata": {
    "slideshow": {
     "slide_type": "slide"
    }
   },
   "source": [
    "# Conjeturas pedagógicas fruto de la aplicación del modelo de aprendizaje invertido y del enfoque hacia la ciencia de datos con python\n",
    "\n",
    "1. Todo cálculo o resultado debe ser interpretado en una línea markdown del cuaderno Jupyter, inmediatamente después de la enunciación del resultado y después de la presentación de una tabla o gráfico bidimensional, de tal menera que el estudiante explicite la comprensión verbal del resultado y las inferencias o estrategias que este resultado le sugieren.   "
   ]
  }
 ],
 "metadata": {
  "celltoolbar": "Slideshow",
  "kernelspec": {
   "display_name": "Python 3 (ipykernel)",
   "language": "python",
   "name": "python3"
  },
  "language_info": {
   "codemirror_mode": {
    "name": "ipython",
    "version": 3
   },
   "file_extension": ".py",
   "mimetype": "text/x-python",
   "name": "python",
   "nbconvert_exporter": "python",
   "pygments_lexer": "ipython3",
   "version": "3.10.12"
  },
  "rise": {
   "enable_chalkboard": true,
   "theme": "sky",
   "transition": "zoom"
  }
 },
 "nbformat": 4,
 "nbformat_minor": 5
}
