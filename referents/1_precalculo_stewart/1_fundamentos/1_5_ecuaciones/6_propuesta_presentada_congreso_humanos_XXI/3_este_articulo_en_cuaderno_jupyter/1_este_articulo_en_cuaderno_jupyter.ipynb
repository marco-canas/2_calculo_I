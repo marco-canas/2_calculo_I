{
 "cells": [
  {
   "cell_type": "markdown",
   "id": "dc06dec7",
   "metadata": {
    "slideshow": {
     "slide_type": "slide"
    }
   },
   "source": [
    "<table align=\"left\">\n",
    "  <td>\n",
    "    <a href=\"https://colab.research.google.com/github/marco-canas/calculo/blob/main/referents/1_precalculo_stewart/1_fundamentos/1_5_ecuaciones/6_propuesta_presentada_congreso_humanos_XXI/3_este_articulo_en_cuaderno_jupyter/1_este_articulo_en_cuaderno_jupyter.ipynb\" target=\"_parent\"><img src=\"https://colab.research.google.com/assets/colab-badge.svg\" alt=\"Open In Colab\"/></a>\n",
    "  </td>\n",
    "  <td>\n",
    "    <a target=\"_blank\" href=\"https://kaggle.com/kernels/welcome?src=https://github.com/marco-canas/calculo/blob/main/referents/1_precalculo_stewart/1_fundamentos/1_5_ecuaciones/6_propuesta_presentada_congreso_humanos_XXI/3_este_articulo_en_cuaderno_jupyter/1_este_articulo_en_cuaderno_jupyter.ipynb\"><img src=\"https://kaggle.com/static/images/open-in-kaggle.svg\" /></a>\n",
    "  </td>\n",
    "</table>"
   ]
  },
  {
   "cell_type": "markdown",
   "id": "e0c5b198",
   "metadata": {
    "slideshow": {
     "slide_type": "slide"
    }
   },
   "source": [
    "### [Video de apoyo a la lectura interactiva y experimental de este cuaderno]()"
   ]
  },
  {
   "cell_type": "markdown",
   "id": "41e82203",
   "metadata": {
    "slideshow": {
     "slide_type": "slide"
    }
   },
   "source": [
    "## [Vínculo al programa del curso:  ]()\n",
    "\n"
   ]
  },
  {
   "cell_type": "markdown",
   "id": "8d97dc80",
   "metadata": {
    "slideshow": {
     "slide_type": "slide"
    }
   },
   "source": [
    "## Fomento al desarrollo de habilidades sociales\n",
    "\n",
    "[El arte de negociar sin ceder](https://www.youtube.com/watch?v=lKV_21kISVs)"
   ]
  },
  {
   "cell_type": "markdown",
   "id": "96775931",
   "metadata": {
    "slideshow": {
     "slide_type": "slide"
    }
   },
   "source": [
    "## Título de la clase:   \n",
    "\n",
    "[]()"
   ]
  },
  {
   "cell_type": "markdown",
   "id": "1d38dd4e",
   "metadata": {
    "slideshow": {
     "slide_type": "slide"
    }
   },
   "source": [
    "### Objetivo de aprendizaje (Enunciar, de manera corta sencilla y clara para todos los asistentes)\n",
    " \n",
    "\n",
    "Brindar a los estudiantes, otros modos de resolver ecuacione, no solo el método allgebraico, sino también ell método gráfico y ell método tabular. \n"
   ]
  },
  {
   "cell_type": "markdown",
   "id": "540f0ec1",
   "metadata": {
    "slideshow": {
     "slide_type": "slide"
    }
   },
   "source": [
    "## Cuestionario para realizar labores de memorización, observación y síntesis de la información (Además de diagnóstico)  \n",
    "[Realizar encuesta para participacion de todos los estudiantes para diagnosticar presaberes para la clase: mentimeter](https://www.mentimeter.com/es-ES/education/lectures)\n",
    "\n",
    "1. ¿?\n",
    "2. ¿?\n",
    "3. ¿?\n",
    "4. ¿?\n",
    "5. ¿?"
   ]
  },
  {
   "cell_type": "markdown",
   "id": "8e457ea2",
   "metadata": {},
   "source": [
    "# Definiciones y Resultados científicos a comprender y memorizar \n",
    "\n",
    "[Primera grabación en Vocaroo]()"
   ]
  },
  {
   "cell_type": "markdown",
   "id": "ca7261b1",
   "metadata": {
    "slideshow": {
     "slide_type": "slide"
    }
   },
   "source": [
    "## Establecimiento de prerrequisitos conceptuales para alcanzar el objetivo de aprendizaje trazado.   \n",
    "\n",
    "(Elabore una lista de preguntas al rededor de los conceptos que consideres necesarios para empezar la clase).  \n",
    "\n",
    "1. \n",
    "2. \n",
    "3. "
   ]
  },
  {
   "cell_type": "markdown",
   "id": "2298e976",
   "metadata": {
    "slideshow": {
     "slide_type": "slide"
    }
   },
   "source": [
    "# Para el diseño de la clase tenga en cuenta algunos problemas de aprendizaje"
   ]
  },
  {
   "cell_type": "markdown",
   "id": "523d3acf",
   "metadata": {
    "slideshow": {
     "slide_type": "slide"
    }
   },
   "source": []
  },
  {
   "cell_type": "code",
   "execution_count": 1,
   "id": "bc0addfe",
   "metadata": {},
   "outputs": [
    {
     "data": {
      "text/plain": [
       "'/home/marco/Documentos/docencia/calculo/images/0_reales/1_ecuaciones_en_los_numeros_reales/Resolver Ecuaciones solo observando.pdf'"
      ]
     },
     "execution_count": 1,
     "metadata": {},
     "output_type": "execute_result"
    }
   ],
   "source": [
    "# mapa conceptual para cada clase  \n",
    "from graphviz import Digraph\n",
    "\n",
    "# Crear un nuevo grafo dirigido\n",
    "dot = Digraph()\n",
    "\n",
    "# Añadir nodos y relaciones al grafo\n",
    "main_concept = 'Resolver Ecuaciones solo observando'\n",
    "dot.node('A', main_concept)\n",
    "dot.node('B', 'Igualdad de Funciones')\n",
    "dot.node('C', '')\n",
    "dot.node('D', '')\n",
    "dot.node('E', '')\n",
    "dot.node('F', '')\n",
    "\n",
    "\n",
    "dot.edges(['AB'])\n",
    "dot.edges(['AC'])\n",
    "dot.edges(['CD'])\n",
    "\n",
    "\n",
    "# Guardar el grafo como un archivo de imagen\n",
    "dot.render(filename=main_concept, format='png', cleanup=True, \\\n",
    "           directory='/home/marco/Documentos/docencia/calculo/images/0_reales/1_ecuaciones_en_los_numeros_reales')\n",
    "\n",
    "dot.view()\n"
   ]
  },
  {
   "cell_type": "markdown",
   "id": "d8ab9628-e6e7-40d7-90c3-be009ba8d7b1",
   "metadata": {},
   "source": [
    "# Resuelve ecuaciones solo observando.  \n",
    "\n",
    "## Enseñar a resolver ecuaciones desde el concepto de función haciendo uso del lenguaje Python implementado a través de cuadernos Jupyter y las representaciones tabular y gráfica de las funciones, dejando de privilegiar al razonamiento algebraico\n",
    "\n",
    "Marco Julio Cañas Campillo1  \n",
    "Universidad de Antioquia  \n",
    "Colombia  \n"
   ]
  },
  {
   "cell_type": "markdown",
   "id": "f4e5be85-b481-4357-b624-5eb8c8b29fca",
   "metadata": {},
   "source": [
    "# 1. Introducción\n",
    "\n",
    "## Contextualización del Problema\n",
    "\n",
    "En el Seminario en Didáctica de la Aritmética del semestre 2024-1, impartido a los estudiantes de licenciatura en matemáticas de la Universidad de Antioquia, Campus Caucasia, a un grupo de 15 estudiantes, se han observado una serie de problemas recurrentes en el proceso de enseñanza y aprendizaje de la resolución de ecuaciones en los números reales. Estas dificultades se manifiestan especialmente en el razonamiento algebraico, una habilidad fundamental en el estudio de las matemáticas.\n",
    "\n",
    "### Problemas Observados\n",
    "\n",
    "1. Dificultad con el Razonamiento Algebraico:\n",
    "   Muchos estudiantes presentan serias dificultades para comprender y aplicar el razonamiento algebraico. Esto se evidencia en su incapacidad para manipular y simplificar expresiones algebraicas, resolver ecuaciones y entender las propiedades fundamentales de las operaciones algebraicas (Hiebert & Carpenter, 1992)."
   ]
  },
  {
   "cell_type": "markdown",
   "id": "c76ae9ed-954d-4737-82da-6620a37483c5",
   "metadata": {},
   "source": [
    "2. Desconocimiento del Criterio de la Balanza:\n",
    "   El criterio de la balanza, que establece la equivalencia de ecuaciones cuando una se obtiene de la otra sumando la misma cantidad a ambos lados o multiplicando por la misma cantidad no nula a ambos lados, es desconocido o no utilizado por los estudiantes. Este criterio es esencial para entender la naturaleza de las ecuaciones y su resolución (Tall, 2004)."
   ]
  },
  {
   "cell_type": "markdown",
   "id": "d322bdc9-f65f-4c07-81c4-9295d2d020dd",
   "metadata": {},
   "source": [
    "3. Dificultades con Términos Semejantes:\n",
    "   Identificar y operar con términos semejantes es un desafío para los estudiantes. Esta habilidad es crucial para simplificar ecuaciones y trabajar eficientemente con expresiones algebraicas, y su falta de dominio impide el progreso en la resolución de problemas más complejos (Piaget, 1952)."
   ]
  },
  {
   "cell_type": "markdown",
   "id": "2a89d7e2-3d66-4735-bb6d-b17e116d5eb6",
   "metadata": {},
   "source": [
    "4. Problemas con Fracciones Algebraicas:\n",
    "   Los estudiantes muestran dificultades significativas al trabajar con fracciones algebraicas. Identificar, simplificar y operar con fracciones algebraicas y amplificar un grupo de fracciones para convertirlas en homogéneas son competencias necesarias para abordar una amplia gama de problemas matemáticos, y su ausencia limita la capacidad de los estudiantes para avanzar en su comprensión de las matemáticas (Santoro et al. (2021)."
   ]
  },
  {
   "cell_type": "markdown",
   "id": "eee02a28-0081-472c-828f-71142d026dc0",
   "metadata": {},
   "source": [
    "5. Variabilidad de Respuestas y Falta de Motivación:\n",
    "   Existe una notable variabilidad en las respuestas dentro del grupo, especialmente cuando el procedimiento de resolución de problemas se extiende a 1 o 2 páginas. Además, la falta de motivación para leer el texto guía de manera disciplinada y completar las tareas de entrenamiento se traduce en una preparación inadecuada y un rendimiento inconsistente (Freire, 1970)."
   ]
  },
  {
   "cell_type": "markdown",
   "id": "d3ad2885-c754-45b9-b4fc-c7645c51d1fb",
   "metadata": {},
   "source": [
    "# Propuesta de Innovación Didáctica\n",
    "\n",
    "Para abordar estos problemas, proponemos un enfoque innovador que se centra en enseñar la resolución de ecuaciones desde el concepto de función, utilizando el lenguaje Python implementado a través de cuadernos Jupyter y las representaciones tabular y gráfica de las funciones asociadas a la ecuación. Este enfoque tiene como objetivo:\n"
   ]
  },
  {
   "cell_type": "markdown",
   "id": "f9bed7cc",
   "metadata": {},
   "source": [
    "\n",
    "1. Reforzar la Comprensión Conceptual:\n",
    "   Introducir el concepto de función como base para la resolución de ecuaciones permite a los estudiantes visualizar de manera tabular y gráfica y así entender mejor las ecuaciones como igualdad de funciones o pregunta por los puntos donde, las funciones que forman los lados de la ecuación, son iguales. El uso de representaciones tabulares y gráficas facilita la comprensión de conceptos abstractos y su aplicación práctica (Guzman, 2002).\n",
    "\n",
    "2. Utilizar Python y Jupyter Notebooks:\n",
    "   La implementación de Python a través de Jupyter Notebooks proporciona un entorno interactivo y dinámico para la exploración matemática. Los estudiantes pueden experimentar con ecuaciones, funciones y datos en tiempo real, lo que promueve una comprensión más profunda y una mayor retención del conocimiento (Papert, 1980).\n",
    "\n",
    "3. Integración de la Tecnología en el Aprendizaje:\n",
    "   El uso de tecnología moderna no solo hace que el aprendizaje sea más atractivo, sino que también prepara a los estudiantes para utilizar herramientas computacionales en su futura carrera profesional. La programación en Python y el análisis de datos son habilidades valiosas en el campo de las matemáticas y más allá (Borba & Villareal, 2005).\n",
    "\n",
    "4. Promover la Disciplina y la Motivación:\n",
    "   Al involucrar a los estudiantes en actividades prácticas y proyectos interactivos, se fomenta la disciplina y la motivación. La realización de tareas de programación y el análisis de resultados en tiempo real pueden hacer que el aprendizaje sea más relevante y estimulante (Bruner, 1960).\n"
   ]
  },
  {
   "cell_type": "markdown",
   "id": "7bcc68d8",
   "metadata": {},
   "source": [
    "\n",
    "Esta propuesta busca transformar la manera en que se enseña la resolución de ecuaciones, superando las dificultades tradicionales del razonamiento algebraico mediante un enfoque centrado en la función y apoyado en herramientas tecnológicas modernas que faciliten al estudiante el resolver las ecuaciones por observación, lectura o interpretación de las representaciones tabular y gráfica."
   ]
  },
  {
   "cell_type": "markdown",
   "id": "7a384bb0-a8b4-455c-8c46-b8500402fdf1",
   "metadata": {},
   "source": [
    "# Objetivo General:  \n",
    "\n",
    "Presentar una perspectiva alternativa sobre la enseñanza de ecuaciones mediante funciones, utilizando herramientas tecnológicas como Jupyter Notebook y las librerías Sympy, Pandas, Matplotlib, ipywidgets y Plotly de Python, para resolver ecuaciones por inspección, observación, lectura o interpretación de representaciones tabulares y gráficas."
   ]
  },
  {
   "cell_type": "markdown",
   "id": "6b36b8ba-4b79-4a22-8ad4-731ae62db61f",
   "metadata": {},
   "source": [
    "## Objetivos Específicos:\n",
    "1. Explorar el concepto de ecuaciones como comparaciones de funciones:\n",
    "   - Analizar cómo la resolución de ecuaciones implica encontrar puntos del dominio donde dos funciones se igualan en valor.\n",
    "\n",
    "2. Mostrar la utilidad de las representaciones tabulares y gráficas:\n",
    "   - Demostrar cómo las representaciones tabulares y gráficas de funciones permiten a los estudiantes resolver ecuaciones por inspección, lectura o interpretación.\n",
    "\n",
    "3. Incorporar la tecnología en la enseñanza de ecuaciones:\n",
    "   - Utilizar Jupyter Notebooks y Python para crear representaciones visuales de funciones que faciliten la comprensión y resolución de ecuaciones.\n",
    "\n",
    "4. Proponer un modelo de enseñanza de la modelación matemática:\n",
    "   - Desarrollar un enfoque educativo que priorice la enseñanza de la modelación matemática sobre la mera resolución de ecuaciones por métodos algebraicos, enfatizando la importancia actual de plantear modelos matemáticos.\n",
    "  \n",
    "5. Evaluar la efectividad del enfoque propuesto:\n",
    "   - Analizar y reflexionar sobre la efectividad de este enfoque alternativo en la educación matemática, basado en la experiencia docente y resultados prácticos."
   ]
  },
  {
   "cell_type": "markdown",
   "id": "ee8b04af-1239-4e0f-ace8-5a3faa640a47",
   "metadata": {},
   "source": [
    "# Argumentación: La Importancia de la Tecnología en la Educación Matemática\n",
    "\n",
    "La integración de la tecnología en la educación matemática es esencial en el contexto educativo actual. La tecnología no solo facilita el acceso a herramientas avanzadas de cálculo (Sympy de Python) y visualización (Matplotlib y Plotly de Python), sino que también transforma la forma en que los estudiantes interactúan con conceptos matemáticos (Papert, 1980). En particular, el uso de plataformas como Jupyter Notebook y bibliotecas como Sympy, Pandas, Matplotlib y Plotly en Python, abre nuevas oportunidades para la enseñanza y aprendizaje de las matemáticas.\n",
    "\n",
    "Facilitación del Aprendizaje:\n",
    "La tecnología permite a los estudiantes visualizar problemas complejos y entender conceptos abstractos a través de representaciones gráficas y tabulares. Esto es especialmente útil en la resolución de ecuaciones, donde las representaciones visuales pueden ayudar a los estudiantes a identificar soluciones por inspección, lectura o interpretación (Guzman, 2002).\n"
   ]
  },
  {
   "cell_type": "markdown",
   "id": "98a739cb",
   "metadata": {},
   "source": [
    "\n",
    "Promoción de la Modelación Matemática:\n",
    "La enseñanza tradicional se ha centrado en gran medida en la resolución de ecuaciones, dejando en segundo plano la importante habilidad de plantear modelos matemáticos. Sin embargo, la tecnología permite a los estudiantes desarrollar modelos de problemas reales y resolverlos utilizando herramientas computacionales. Esto no solo prepara a los estudiantes para abordar problemas del mundo real, sino que también les proporciona una comprensión más profunda de los conceptos matemáticos (Borba & Villareal, 2005).\n",
    "\n",
    "## Acceso y Manipulación de Datos:\n",
    "Con herramientas como Pandas y Matplotlib, los estudiantes pueden manejar y visualizar grandes conjuntos de datos, lo que es crucial en un mundo cada vez más impulsado por los datos. La capacidad de analizar datos y extraer información relevante es una habilidad valiosa que trasciende el aula y se aplica en numerosas disciplinas y profesiones (Bruner, 1960).\n",
    "\n",
    "## Innovación y Creatividad:\n",
    "La tecnología fomenta la innovación y la creatividad en la resolución de problemas matemáticos. Los estudiantes pueden experimentar con diferentes enfoques y técnicas, desarrollando soluciones innovadoras a problemas complejos. Esto no solo enriquece su aprendizaje, sino que también los prepara para enfrentar los desafíos del futuro (Freire, 1970).\n",
    "\n",
    "En conclusión, la integración de la tecnología en la educación matemática no solo mejora la comprensión y la resolución de problemas, sino que también prepara a los estudiantes para un mundo en el que la tecnología y los datos juegan un papel crucial. En el contexto de este artículo reflexivo, la tecnología permite un enfoque alternativo y efectivo para la enseñanza de ecuaciones, facilitando una comprensión más profunda y práctica de los conceptos matemáticos.\n",
    "\n"
   ]
  },
  {
   "cell_type": "markdown",
   "id": "28edfb0f-061a-4634-8d27-94c47c92e020",
   "metadata": {},
   "source": [
    "# Marco Teórico\n",
    "\n",
    "## Definición de Ecuaciones y Funciones\n",
    "\n",
    "## Relación entre Expresiones Algebraicas y Funciones:\n",
    "\n",
    "Las ecuaciones son comparaciones de expresiones algebraicas que se igualan para encontrar los valores de las variables que satisfacen dicha igualdad. Las funciones, por otro lado, son relaciones entre un conjunto de entrada (dominio) y un conjunto de salida (rango) donde cada entrada está asociada con una única salida. La resolución de ecuaciones a través del enfoque funcional permite utilizar representaciones gráficas y tabulares para identificar soluciones sin necesidad de manipulación algebraica avanzada, facilitando el acceso a la comprensión de conceptos fundamentales.\n",
    "\n",
    "## Concepto de Igualdad y Diferencia de Funciones:\n",
    "\n",
    "La igualdad de funciones implica que dos funciones producen el mismo valor para cada punto de su dominio común. Esta perspectiva puede ser utilizada para resolver ecuaciones al identificar puntos donde dos funciones se intersectan gráficamente, es decir, donde tienen el mismo valor. Las diferencias entre funciones pueden analizarse gráficamente o mediante tablas para determinar intervalos y puntos específicos donde se cumple la igualdad, permitiendo un enfoque más visual y menos abstracto para los estudiantes.\n",
    "\n",
    "## Aprendizaje Basado en Problemas (ABP)\n",
    "\n",
    "### Justificación del Uso del ABP en la Enseñanza de Matemáticas:\n",
    "\n",
    "El ABP es una metodología pedagógica que se centra en el aprendizaje a través de la resolución de problemas reales. Este enfoque fomenta el pensamiento crítico, la creatividad y la capacidad de aplicar conocimientos teóricos a situaciones prácticas. En el contexto de la enseñanza de ecuaciones mediante funciones, el ABP permite a los estudiantes abordar problemas contextualizados que requieren la interpretación de datos y el uso de herramientas computacionales para encontrar soluciones, promoviendo así una comprensión más profunda y aplicada de los conceptos matemáticos.\n",
    "\n",
    "## Justificación de un Enfoque Pedagógico de Aula Invertida:\n",
    "\n",
    "El aula invertida es una estrategia donde los estudiantes interactúan con el material de aprendizaje antes de la clase, a menudo a través de recursos digitales como videos y cuadernos interactivos. Este enfoque es especialmente adecuado para la enseñanza de ecuaciones mediante funciones, ya que permite a los estudiantes explorar y experimentar con representaciones gráficas y tabulares de funciones a su propio ritmo.\n",
    "\n",
    "La utilización de cuadernos Jupyter publicados en repositorios como GitHub, junto con videos de apoyo en plataformas como YouTube (por ejemplo, el canal DiMathData), facilita un aprendizaje autónomo y experimental. Los estudiantes pueden acceder a recursos interactivos que les permiten manipular funciones y observar resultados inmediatos, desarrollando así habilidades prácticas y reforzando su comprensión teórica fuera del entorno tradicional de clase. Esto no solo mejora la accesibilidad y el compromiso, sino que también permite que el tiempo de clase se utilice para la discusión y resolución colaborativa de problemas más complejos.\n",
    "\n",
    "## Diferenciación entre el lenguaje algebraico y el lenguaje Python:\n",
    "\n",
    "### Lenguaje Algebraico en Educación Secundaria y Universitaria:\n",
    "\n",
    "En la educación secundaria y universitaria, se enseña el uso del lenguaje algebraico para representar relaciones matemáticas y resolver problemas. Este lenguaje es caracterizado por su concisión y simplicidad. \n",
    "\n",
    "- Simplicidad y Concisión: Las variables en el lenguaje algebraico suelen ser representadas por una sola letra (como  h  para altura,  t  para tiempo, x  e  y para coordenadas, etc.). Esto facilita la escritura y la manipulación de ecuaciones matemáticas, manteniéndolas cortas y directas.\n",
    "\n",
    "- Ejemplo: Una ecuación que describe el movimiento vertical de un objeto bajo la influencia de la gravedad puede ser expresada de manera compacta como:\n",
    "  \n",
    " $$ h = -16t^2 + 800t $$\n",
    "  \n",
    "donde  $h$  representa la altura y  $t$  el tiempo.\n"
   ]
  },
  {
   "cell_type": "markdown",
   "id": "b20fae6c",
   "metadata": {},
   "source": [
    "\n",
    "### Lenguaje Python:\n",
    "\n",
    "Python, por otro lado, es un lenguaje de programación ampliamente utilizado tanto en la enseñanza de programación como en la aplicación práctica de la matemática y la ciencia. Aunque también busca ser fácil de escribir y leer, utiliza convenciones diferentes para la nomenclatura de variables y estructuras.\n",
    "\n",
    "- Abreviaturas y Legibilidad: En Python, las variables suelen tener nombres más descriptivos, aunque abreviados, para mejorar la legibilidad del código y hacerlo más comprensible para otras personas que puedan leerlo. Esta práctica es conocida como \"self-documenting code\" o código autodescriptivo."
   ]
  },
  {
   "cell_type": "markdown",
   "id": "af570baf-aec3-4e23-8ba9-2d4f2abca73f",
   "metadata": {},
   "source": [
    "- Ejemplo: El mismo modelo de lanzamiento vertical se traduciría en Python de la siguiente manera:\n",
    "  `altura = -16 * tiempo**2 + 800 * tiempo`\n",
    "  \n",
    "  Aquí, `altura` y `tiempo` son nombres de variables que, aunque más largos que una sola letra, son intuitivos y hacen que el código sea más fácil de entender para alguien que lo lea, especialmente si no está familiarizado con la notación algebraica específica."
   ]
  },
  {
   "cell_type": "markdown",
   "id": "21c468b9-30b3-4c61-81fb-d71dd26087e1",
   "metadata": {},
   "source": [
    "Comparación y Beneficios de Cada Enfoque:\n",
    "\n",
    "1. Longitud y Complejidad:\n",
    "   - Lenguaje Algebraico: Utiliza notaciones breves, lo que es ventajoso para operaciones matemáticas rápidas y compactas.\n",
    "   - Python: Utiliza nombres de variables más largos y descriptivos, lo que puede aumentar ligeramente la longitud del código, pero mejora la claridad y la comprensión.\n",
    "\n",
    "2. Contexto de Uso:\n",
    "   - Lenguaje Algebraico: Ideal para entornos académicos y teóricos donde la rapidez y la simplicidad en la manipulación de ecuaciones es crucial.\n",
    "   - Python: Ideal para programación y desarrollo de software donde la claridad y la capacidad de mantenimiento del código son esenciales.\n",
    "\n",
    "3. Facilidad de Escritura y Lectura:\n",
    "   - Lenguaje Algebraico: Fácil de escribir rápidamente y manipular algebraicamente, pero puede ser menos claro para alguien que no esté familiarizado con la notación.\n",
    "   - Python: Puede requerir más tiempo para escribir debido a los nombres de variables más largos, pero la claridad resultante facilita la lectura y comprensión por parte de otros.\n",
    "\n",
    "En resumen, mientras que el lenguaje algebraico se destaca por su brevedad y facilidad de manipulación matemática, Python se distingue por su claridad y legibilidad, factores importantes en el desarrollo de software y en la colaboración entre múltiples programadores. Ambos enfoques tienen sus propios méritos y se utilizan en diferentes contextos dependiendo de las necesidades específicas de cada situación."
   ]
  },
  {
   "cell_type": "markdown",
   "id": "4f42b434-30d9-42f8-a7fa-0b80fb2dddcb",
   "metadata": {},
   "source": [
    "# 3. Metodología\n",
    "\n",
    "## Descripción de la implementación en el aula\n",
    "\n",
    "En este apartado, se describirá cómo se implementa la enseñanza de la resolución de ecuaciones a partir del concepto de función, utilizando Python a través de Jupyter Notebooks. La implementación se enfocará en el uso de representaciones tabulares y gráficas para favorecer el entendimiento conceptual sobre el algebraico tradicional.\n",
    "\n",
    "### Uso de Jupyter Notebooks y librerías de Python\n",
    "\n",
    "Jupyter Notebooks se utiliza como herramienta central para la enseñanza debido a su capacidad de combinar texto explicativo, código ejecutable y visualizaciones en un único documento interactivo. Las siguientes librerías de Python se integran en las actividades:\n",
    "\n",
    "- NumPy: Utilizada para manejar operaciones numéricas y manipulación de arreglos, proporcionando una base sólida para los cálculos necesarios en las actividades.\n",
    "- Pandas: Empleada para la manipulación y análisis de datos tabulares, permitiendo a los estudiantes trabajar con conjuntos de datos y comprender cómo se representan las funciones en forma de tablas.\n",
    "- Matplotlib y Plotly: Estas librerías son utilizadas para la creación de gráficos. Matplotlib ofrece gráficos estáticos y básicos, mientras que Plotly permite la creación de gráficos interactivos, ayudando a los estudiantes a visualizar y explorar funciones y sus soluciones gráficamente.\n",
    "- Ipywidgets: Esta librería se usa para crear widgets interactivos dentro de los cuadernos Jupyter, permitiendo a los estudiantes manipular parámetros de las funciones y observar en tiempo real cómo afectan las soluciones de las ecuaciones."
   ]
  },
  {
   "cell_type": "markdown",
   "id": "3b1598a0-7e95-4259-aabd-82c6eb9a2edc",
   "metadata": {},
   "source": [
    "Ejemplos de actividades y ejercicios realizados en clase\n",
    "\n",
    "- Actividad 1: Introducción a las funciones y su representación gráfica\n",
    "  - Los estudiantes usan NumPy para definir funciones matemáticas simples y Matplotlib para graficarlas. Se introduce el concepto de cómo una ecuación puede ser visualizada como una función en un gráfico.\n",
    "  - Ejercicio: Definir la función  f(x) = 2x + 3  y graficarla. Identificar visualmente la raíz de la función (donde cruza el eje x).\n",
    "\n",
    "- Actividad 2: Representación tabular de funciones\n",
    "  - Usando Pandas, los estudiantes crean tablas de valores para diferentes funciones. Se les enseña a interpretar las tablas y a conectar la representación tabular con la gráfica.\n",
    "  - Ejercicio: Crear una tabla de valores para la función  g(x) = x^2 - 4x + 4 y graficarla. Identificar los puntos críticos de la función.\n",
    "\n",
    "- Actividad 3: Solución de ecuaciones mediante gráficos interactivos**\n",
    "  - Con Ipywidgets y Plotly, los estudiantes interactúan con gráficos de funciones, ajustando parámetros para observar cómo cambian las soluciones de las ecuaciones.\n",
    "  - Ejercicio: Usar un slider para modificar los coeficientes de la ecuación cuadrática h(x) = ax^2 + bx + c y encontrar los valores de  x  que satisfacen  h(x) = 0.\n",
    "\n",
    "Recopilación de datos\n",
    "\n",
    "Para evaluar la efectividad de la metodología implementada, se recopilan datos a través de diferentes medios:\n",
    "\n",
    "- Observaciones en el aula: Se realizan observaciones sistemáticas para documentar el grado de participación de los estudiantes, su nivel de interés y su capacidad para aplicar los conceptos aprendidos.\n",
    "- Cuestionarios y encuestas: Se aplican cuestionarios pre y post intervención para medir el cambio en la comprensión de los estudiantes sobre la resolución de ecuaciones y el uso del concepto de función.\n",
    "- Evaluaciones de desempeño: Se recogen los resultados de los ejercicios y actividades realizados en clase, así como exámenes formales que evalúan la habilidad de los estudiantes para resolver ecuaciones utilizando métodos gráficos y tabulares.\n",
    "\n",
    "Métodos de evaluación del aprendizaje de los estudiantes\n",
    "\n",
    "Los métodos de evaluación utilizados para medir el aprendizaje de los estudiantes incluyen:\n",
    "\n",
    "- Evaluaciones formativas: A lo largo del curso, se realizan evaluaciones formativas que permiten a los estudiantes recibir retroalimentación continua sobre su progreso. Estas evaluaciones incluyen ejercicios prácticos en los cuadernos Jupyter, quizzes y actividades interactivas.\n",
    "- Evaluaciones sumativas: Al final de cada unidad temática, se realizan evaluaciones sumativas que miden la comprensión integral de los estudiantes sobre los conceptos enseñados. Estas evaluaciones incluyen exámenes escritos y proyectos en los que los estudiantes deben aplicar lo aprendido para resolver problemas complejos.\n",
    "- Autoevaluaciones y coevaluaciones: Se incentiva a los estudiantes a realizar autoevaluaciones y coevaluaciones para reflexionar sobre su propio aprendizaje y proporcionar retroalimentación a sus compañeros, promoviendo un aprendizaje colaborativo y reflexivo.\n",
    "\n",
    "A través de esta metodología, se espera que los estudiantes desarrollen una comprensión profunda y conceptual de la resolución de ecuaciones desde el enfoque de funciones, utilizando las herramientas tecnológicas y las representaciones tabulares y gráficas proporcionadas por Python y Jupyter Notebooks.\n",
    "\n",
    "\n",
    "Representaciones de Funciones\n",
    "\n",
    "Tablas y Gráficas\n",
    "\n",
    "Enseñar a resolver ecuaciones desde el concepto de función requiere que los estudiantes comprendan cómo construir y utilizar representaciones tabulares y gráficas de funciones. Esta habilidad no solo facilita la resolución de problemas, sino que también fomenta una comprensión más profunda de las relaciones entre variables. Para lograr este objetivo, se pueden emplear tanto métodos tradicionales (manuscritos) como herramientas computacionales modernas, como pandas, matplotlib, plotly e ipywidgets.\n",
    "\n",
    "Construcción de Representaciones Tabulares y Gráficas de Manera Manuscrita\n",
    "\n",
    "Tradicionalmente, las representaciones tabulares y gráficas de funciones se construyen a mano. Este enfoque sigue siendo valioso porque permite a los estudiantes:\n",
    "- Practicar la mecánica de la creación de tablas de valores.\n",
    "- Visualizar el comportamiento de una función mediante el trazado de puntos en un gráfico cartesiano.\n",
    "- Comprender intuitivamente cómo cambia una función en respuesta a variaciones en la variable independiente.\n",
    "\n",
    "Por ejemplo, para una función de proporcionalidad directa  y = kx  donde \\( k \\) es una constante de proporcionalidad, los estudiantes pueden crear una tabla de valores seleccionando diferentes valores de \\( x \\) y calculando los correspondientes valores de \\( y \\). Posteriormente, pueden graficar estos puntos en un plano cartesiano y dibujar la recta resultante.\n",
    "\n",
    "Construcción de Representaciones Tabulares y Gráficas con Pandas, Matplotlib, Plotly e Ipywidgets\n",
    "\n",
    "Las herramientas computacionales ofrecen una forma más eficiente y dinámica de construir representaciones tabulares y gráficas. A continuación, se presentan ejemplos concretos utilizando pandas, matplotlib, plotly e ipywidgets.\n",
    "\n",
    "1. Proporcionalidad Directa: Considere la función y = 3x. Usando pandas y matplotlib, se puede crear una tabla de valores y graficar la función.\n",
    "\n",
    "    import pandas as pd\n",
    "    import matplotlib.pyplot as plt\n",
    "\n",
    "    # Crear una tabla de valores\n",
    "    x = range(0, 11)\n",
    "    y = [3 * xi for xi in x]\n",
    "    tabla = pd.DataFrame({'x': x, 'y': y})\n",
    "    print(tabla)\n",
    "\n",
    "    # Graficar la función\n",
    "    plt.plot(tabla['x'], tabla['y'], marker='o')\n",
    "    plt.title('Proporcionalidad Directa: y = 3x')\n",
    "    plt.xlabel('x')\n",
    "    plt.ylabel('y')\n",
    "    plt.grid(True)\n",
    "    plt.show()\n",
    "    ```\n",
    "\n",
    "2. **Funciones Lineales**: Considere la función \\( y = 2x + 1 \\). Usando plotly para una visualización interactiva.\n",
    "\n",
    "    ```python\n",
    "    import plotly.graph_objs as go\n",
    "\n",
    "    # Crear una tabla de valores\n",
    "    x = range(-10, 11)\n",
    "    y = [2 * xi + 1 for xi in x]\n",
    "    tabla = pd.DataFrame({'x': x, 'y': y})\n",
    "\n",
    "    # Graficar la función\n",
    "    fig = go.Figure(data=go.Scatter(x=tabla['x'], y=tabla['y'], mode='lines+markers'))\n",
    "    fig.update_layout(title='Función Lineal: y = 2x + 1', xaxis_title='x', yaxis_title='y')\n",
    "    fig.show()\n",
    "    ```\n",
    "\n",
    "3. Funciones Cuadráticas: Considere la función y = -x^2 + 4x + 5. Usando ipywidgets para una visualización interactiva con un deslizador.\n",
    "\n",
    "    import numpy as np\n",
    "    import ipywidgets as widgets\n",
    "    from IPython.display import display\n",
    "\n",
    "    # Función cuadrática\n",
    "    def cuadratica(x):\n",
    "        return -x**2 + 4*x + 5\n",
    "\n",
    "    # Valores de x\n",
    "    x = np.linspace(-2, 6, 100)\n",
    "    y = cuadratica(x)\n",
    "\n",
    "    # Crear el gráfico interactivo\n",
    "    def actualizar_grafico(a, b, c):\n",
    "        y = a*x**2 + b*x + c\n",
    "        plt.figure(figsize=(8, 6))\n",
    "        plt.plot(x, y, label=f'y = {a}x^2 + {b}x + {c}')\n",
    "        plt.xlabel('x')\n",
    "        plt.ylabel('y')\n",
    "        plt.title('Función Cuadrática')\n",
    "        plt.legend()\n",
    "        plt.grid(True)\n",
    "        plt.show()\n",
    "\n",
    "    # Deslizadores para los coeficientes\n",
    "    a_slider = widgets.FloatSlider(value=-1, min=-10, max=10, step=0.1, description='a:')\n",
    "    b_slider = widgets.FloatSlider(value=4, min=-10, max=10, step=0.1, description='b:')\n",
    "    c_slider = widgets.FloatSlider(value=5, min=-10, max=10, step=0.1, description='c:')\n",
    "    widgets.interactive_output(actualizar_grafico, {'a': a_slider, 'b': b_slider, 'c': c_slider})\n",
    "    display(a_slider, b_slider, c_slider)\n",
    "    ```\n",
    "\n",
    "Interpretación de Representaciones Algebraicas, Tabulares y Gráficas\n",
    "\n",
    "El siguiente paso en la enseñanza de funciones es ayudar a los estudiantes a leer e interpretar las representaciones algebraicas, tabulares y gráficas de una función. Este proceso implica:\n",
    "- **Lectura de Tablas**: Entender cómo se relacionan los valores de entrada y salida de una función.\n",
    "- **Interpretación de Gráficas**: Analizar las características de una gráfica, como interceptos, pendientes, máximos y mínimos.\n",
    "- **Comparación con Expresiones Algebraicas**: Relacionar la forma de la gráfica con la estructura de la expresión algebraica de la función.\n",
    "\n",
    "Por ejemplo, al observar una tabla de valores para una función cuadrática, los estudiantes pueden identificar el vértice y la dirección de apertura de la parábola. Al analizar la gráfica, pueden confirmar estos hallazgos visualmente y relacionarlos con los coeficientes de la expresión algebraica.\n",
    "\n",
    "Comparaciones entre Diferentes Tipos de Funciones\n",
    "\n",
    "Finalmente, es importante que los estudiantes sean capaces de comparar diferentes tipos de funciones, como funciones lineales, cuadráticas y de proporcionalidad directa. Estas comparaciones pueden incluir:\n",
    "- **Forma de las Gráficas**: Líneas rectas para funciones lineales versus curvas para funciones cuadráticas.\n",
    "- **Comportamiento Asintótico**: Cómo se comportan las funciones cuando \\( x \\) tiende a infinito.\n",
    "- **Características Especiales**: Como los vértices de las parábolas o las pendientes constantes de las rectas.\n",
    "\n",
    "A través de la práctica con estas representaciones y comparaciones, los estudiantes desarrollarán una comprensión más rica y robusta de las funciones, lo que les permitirá resolver ecuaciones de manera más eficaz y versátil.\n",
    "\n",
    "\n",
    "\n",
    "Resolución de Ecuaciones\n",
    "\n",
    "Metodología para Resolver Ecuaciones\n",
    "\n",
    "En el contexto de enseñar a resolver ecuaciones desde el concepto de función, se propone una metodología que se centra en la identificación de los puntos donde dos funciones son iguales. Este enfoque permite a los estudiantes visualizar el problema de la resolución de ecuaciones de una manera más intuitiva y gráfica.\n",
    "\n",
    "Enfoque en la Identificación de Puntos donde las Funciones son Iguales\n",
    "\n",
    "Para resolver una ecuación del tipo  f(x) = g(x), el objetivo es encontrar los valores de \\( x \\) donde las funciones f  y  g se intersectan. Esto se puede hacer de manera efectiva utilizando representaciones tabulares y gráficas. La metodología incluye los siguientes pasos:\n",
    "\n",
    "1. Definir las Funciones: Especificar las funciones  f(x) y \\( g(x) \\) que se van a comparar.\n",
    "2. Generar Tablas de Valores: Crear tablas de valores para \\( f(x) \\) y \\( g(x) \\) utilizando pandas.\n",
    "3. Graficar las Funciones: Utilizar matplotlib y plotly para trazar las gráficas de f(x) y \\( g(x) \\).\n",
    "4. Identificar Intersecciones: Analizar las gráficas para encontrar los puntos de intersección, que corresponden a los valores de \\( x \\) que satisfacen la ecuación \\( f(x) = g(x) \\).\n",
    "\n",
    "Ejemplos Prácticos Utilizando Python para Resolver Ecuaciones Lineales y No Lineales\n",
    "\n",
    "Ejemplo 1: Ecuación Lineal\n",
    "\n",
    "Considere la ecuación  2x + 3 = 5. Esta ecuación puede ser interpretada como la igualdad de dos funciones: f(x) = 2x + 3 y g(x) = 5.\n",
    "\n",
    "import numpy as np\n",
    "import pandas as pd\n",
    "import matplotlib.pyplot as plt\n",
    "\n",
    "# Definir las funciones\n",
    "def f(x):\n",
    "    return 2 * x + 3\n",
    "\n",
    "def g(x):\n",
    "    return 5\n",
    "\n",
    "# Generar tabla de valores\n",
    "x_values = np.linspace(-10, 10, 400)\n",
    "f_values = f(x_values)\n",
    "g_values = g(x_values)\n",
    "\n",
    "tabla = pd.DataFrame({'x': x_values, 'f(x)': f_values, 'g(x)': g_values})\n",
    "print(tabla.head())\n",
    "\n",
    "# Graficar las funciones\n",
    "plt.plot(x_values, f_values, label='f(x) = 2x + 3')\n",
    "plt.axhline(y=5, color='r', linestyle='-', label='g(x) = 5')\n",
    "plt.xlabel('x')\n",
    "plt.ylabel('y')\n",
    "plt.title('Resolución de Ecuaciones Lineales')\n",
    "plt.legend()\n",
    "plt.grid(True)\n",
    "plt.show()\n",
    "\n",
    "Ejemplo 2: Ecuación No Lineal\n",
    "\n",
    "Considere la ecuación x^2 - 4 = 0. Esta ecuación puede ser interpretada como la igualdad de dos funciones: f(x) = x^2 \\) y \\( g(x) = 4.\n",
    "\n",
    "# Definir las funciones\n",
    "def f(x):\n",
    "    return x**2\n",
    "\n",
    "def g(x):\n",
    "    return 4\n",
    "\n",
    "# Generar tabla de valores\n",
    "x_values = np.linspace(-3, 3, 400)\n",
    "f_values = f(x_values)\n",
    "g_values = g(x_values)\n",
    "\n",
    "tabla = pd.DataFrame({'x': x_values, 'f(x)': f_values, 'g(x)': g_values})\n",
    "print(tabla.head())\n",
    "\n",
    "# Graficar las funciones\n",
    "plt.plot(x_values, f_values, label='f(x) = x^2')\n",
    "plt.axhline(y=4, color='r', linestyle='-', label='g(x) = 4')\n",
    "plt.xlabel('x')\n",
    "plt.ylabel('y')\n",
    "plt.title('Resolución de Ecuaciones No Lineales')\n",
    "plt.legend()\n",
    "plt.grid(True)\n",
    "plt.show()\n",
    "```\n",
    "\n",
    "Tener en Cuenta que para este Artículo Reflexivo, las Ecuaciones son Preguntas Asociadas a Igualdad de Funciones o Valores de Funciones\n",
    "\n",
    "Es fundamental enfatizar que en este artículo reflexivo, las ecuaciones se consideran preguntas sobre la igualdad de funciones o valores de funciones. Este enfoque ayuda a los estudiantes a visualizar el problema de la resolución de ecuaciones desde una perspectiva más conceptual y menos algebraica.\n",
    "\n",
    "Interacción con el Software\n",
    "\n",
    "El uso de herramientas de Python no solo facilita la construcción de tablas y gráficas, sino que también permite una interacción más dinámica con los problemas. Los estudiantes pueden utilizar interfaces interactivas para ajustar los parámetros de las funciones y observar cómo cambian las soluciones.\n",
    "\n",
    "Ejemplos de Cómo las Herramientas de Python Ayudan en la Visualización y Solución de Problemas\n",
    "\n",
    "Interactividad con Ipywidgets\n",
    "\n",
    "import ipywidgets as widgets\n",
    "from IPython.display import display\n",
    "\n",
    "# Función cuadrática\n",
    "def cuadratica(a, b, c):\n",
    "    return a*x_values**2 + b*x_values + c\n",
    "\n",
    "# Crear el gráfico interactivo\n",
    "def actualizar_grafico(a, b, c):\n",
    "    y = cuadratica(a, b, c)\n",
    "    plt.figure(figsize=(8, 6))\n",
    "    plt.plot(x_values, y, label=f'y = {a}x^2 + {b}x + {c}')\n",
    "    plt.axhline(y=0, color='r', linestyle='--', label='y = 0')\n",
    "    plt.xlabel('x')\n",
    "    plt.ylabel('y')\n",
    "    plt.title('Interacción con Ecuaciones Cuadráticas')\n",
    "    plt.legend()\n",
    "    plt.grid(True)\n",
    "    plt.show()\n",
    "\n",
    "# Deslizadores para los coeficientes\n",
    "a_slider = widgets.FloatSlider(value=1, min=-10, max=10, step=0.1, description='a:')\n",
    "b_slider = widgets.FloatSlider(value=0, min=-10, max=10, step=0.1, description='b:')\n",
    "c_slider = widgets.FloatSlider(value=-4, min=-10, max=10, step=0.1, description='c:')\n",
    "widgets.interactive_output(actualizar_grafico, {'a': a_slider, 'b': b_slider, 'c': c_slider})\n",
    "display(a_slider, b_slider, c_slider)\n",
    "\n",
    "A través de estos ejemplos, los estudiantes pueden interactuar directamente con los gráficos y ver cómo los cambios en los parámetros afectan la solución de las ecuaciones. Esto no solo facilita la comprensión conceptual, sino que también hace que el aprendizaje sea más atractivo y dinámico.\n",
    "\n",
    "La combinación de métodos tradicionales y herramientas modernas de Python en Jupyter Notebooks proporciona a los estudiantes una experiencia integral que mejora su capacidad para resolver ecuaciones desde el concepto de función."
   ]
  },
  {
   "cell_type": "markdown",
   "id": "616b9e81-1201-45e6-94fe-e09356d98c52",
   "metadata": {},
   "source": [
    "# Reflexiones y Resultados\n",
    "\n",
    "Análisis de la Experiencia en el Aula\n",
    "\n",
    "Resultados que se Espera Observar en el Aprendizaje de los Estudiantes\n",
    "\n",
    "La implementación de la enseñanza de ecuaciones desde el concepto de función, utilizando Jupyter Notebooks y Python, se espera que genere varios resultados positivos en el aprendizaje de los estudiantes:\n",
    "\n",
    "1. Comprensión Intuitiva de Funciones: Los estudiantes desarrollarán una comprensión más intuitiva de las funciones a través de representaciones gráficas y tabulares. Visualizar cómo cambian las funciones les permitirá entender mejor conceptos abstractos.\n",
    "   \n",
    "2. Habilidades de Resolución de Problemas: La capacidad de resolver ecuaciones utilizando herramientas computacionales fomentará habilidades prácticas en resolución de problemas. Los estudiantes estarán mejor equipados para abordar problemas complejos de la vida real.\n",
    "\n",
    "3. Engagement y Motivación: El uso de tecnología interactiva como Jupyter Notebooks y herramientas visuales de Python puede aumentar el interés y la motivación de los estudiantes. La interactividad y visualización hacen que el aprendizaje sea más dinámico y atractivo.\n",
    "\n",
    "4. Reducción de la Ansiedad Matemática: Al ofrecer múltiples formas de abordar problemas (más allá del razonamiento algebraico tradicional), los estudiantes pueden encontrar métodos que se adapten mejor a sus estilos de aprendizaje, reduciendo la ansiedad y el rechazo hacia las matemáticas.\n",
    "\n",
    "Beneficios de Utilizar Representaciones Gráficas y Tabulares\n",
    "\n",
    "El uso de representaciones gráficas y tabulares presenta varios beneficios significativos, especialmente en comparación con el enfoque exclusivo en el lenguaje algebraico:\n",
    "\n",
    "1. Accesibilidad y Claridad: Las gráficas y tablas hacen que la información sea más accesible y clara. Los estudiantes pueden ver visualmente la relación entre variables y entender cómo una función se comporta en diferentes intervalos.\n",
    "\n",
    "2. Visualización de Soluciones: Identificar puntos de intersección en gráficos facilita la comprensión de soluciones de ecuaciones. Los estudiantes pueden ver directamente dónde dos funciones se cruzan, lo cual es más intuitivo que resolver ecuaciones algebraicamente.\n",
    "\n",
    "3. Aplicación en Problemas Reales: Las representaciones gráficas y tabulares son herramientas poderosas para abordar problemas reales. Los estudiantes pueden modelar y analizar situaciones del mundo real, como el movimiento de proyectiles, la economía, y la biología, de manera más efectiva.\n",
    "\n",
    "4. Desarrollo de Habilidades Computacionales: El uso de Python y Jupyter Notebooks no solo enseña matemáticas, sino también habilidades valiosas en programación y análisis de datos, preparándolos mejor para el futuro académico y profesional.\n",
    "\n",
    "Desafíos Enfrentados\n",
    "\n",
    "Posibles Dificultades en la Implementación\n",
    "\n",
    "A pesar de los numerosos beneficios, la implementación de esta metodología también puede enfrentar varios desafíos:\n",
    "\n",
    "1. Curva de Aprendizaje Tecnológica: Para algunos estudiantes, especialmente aquellos con poca experiencia en programación, puede haber una curva de aprendizaje significativa para familiarizarse con Python y Jupyter Notebooks. Será crucial proporcionar apoyo adicional y recursos para estos estudiantes.\n",
    "\n",
    "2. Resistencia al Cambio: Algunos estudiantes y profesores pueden ser reacios a alejarse del enfoque tradicional centrado en el álgebra. Es necesario un esfuerzo consciente para demostrar los beneficios del nuevo enfoque y cómo puede complementar las técnicas algebraicas tradicionales.\n",
    "\n",
    "3. Acceso a Tecnología: La disponibilidad y el acceso a computadoras y software puede ser un obstáculo en algunas instituciones. Es importante asegurar que todos los estudiantes tengan acceso a las herramientas necesarias para participar plenamente en el curso.\n",
    "\n",
    "4. Evaluación de Aprendizaje: Evaluar el aprendizaje de los estudiantes puede ser más complejo cuando se utilizan métodos no tradicionales. Será necesario desarrollar nuevas estrategias y métricas para medir efectivamente el progreso y la comprensión de los estudiantes.\n",
    "\n",
    "Respuesta de los Estudiantes\n",
    "\n",
    "La respuesta de los estudiantes puede variar, y es crucial estar preparado para abordar cualquier desafío que surja:\n",
    "\n",
    "1. Diversidad de Estilos de Aprendizaje: Reconocer que los estudiantes tienen diferentes estilos de aprendizaje y adaptarse a ellos es fundamental. Proporcionar recursos adicionales, como tutoriales en video y sesiones de práctica, puede ayudar a aquellos que necesiten más tiempo para adaptarse.\n",
    "\n",
    "2. Feedback Continuo: Recopilar y actuar sobre el feedback de los estudiantes de manera continua permitirá ajustar la metodología según sea necesario. Esto puede incluir cambios en el ritmo de la clase, la forma de presentación del material y el nivel de soporte técnico proporcionado.\n",
    "\n",
    "3. Motivación y Participación: Fomentar un ambiente de apoyo y colaboración puede mejorar la motivación y participación de los estudiantes. Incluir actividades de grupo y proyectos colaborativos puede ayudar a mantener el interés y el compromiso.\n",
    "\n",
    "En resumen, aunque la implementación de esta metodología presenta desafíos, los beneficios potenciales en términos de comprensión, habilidades prácticas y motivación de los estudiantes justifican el esfuerzo. Con una planificación cuidadosa y un enfoque adaptable, es posible superar estos desafíos y proporcionar una experiencia educativa enriquecedora y efectiva.\n",
    "\n",
    "\n",
    "\n",
    "Conclusiones\n",
    "\n",
    "Síntesis de lo Esperado con la Implementación de esta propuesta\n",
    "\n",
    "La implementación de la enseñanza de ecuaciones desde la perspectiva de funciones utilizando Python y Jupyter Notebooks se espera que transforme significativamente la comprensión y habilidades de los estudiantes en matemáticas. Esta propuesta permite que los estudiantes:\n",
    "\n",
    "1. Comprendan Profundamente las Funciones: Al enfocarse en la representación gráfica y tabular de funciones, los estudiantes desarrollan una comprensión más profunda e intuitiva de las funciones y sus propiedades.\n",
    "2. Mejoren sus Habilidades de Resolución de Problemas: La capacidad de visualizar y analizar funciones mediante herramientas computacionales fomenta habilidades prácticas y aplicadas en la resolución de problemas.\n",
    "3. Reduzcan la Ansiedad Matemática: Al proporcionar métodos alternativos al razonamiento algebraico tradicional, los estudiantes pueden encontrar enfoques más accesibles y menos intimidantes para resolver ecuaciones.\n",
    "4. Desarrollen Habilidades Tecnológicas: La integración de Python y Jupyter Notebooks en el aula no solo enriquece el aprendizaje matemático, sino que también prepara a los estudiantes con habilidades tecnológicas valiosas para su futuro académico y profesional.\n",
    "\n",
    "Recomendaciones para Futuros Docentes\n",
    "\n",
    "Para maximizar los beneficios de esta propuesta, se recomiendan las siguientes estrategias para futuros docentes:\n",
    "\n",
    "Estrategias para Integrar Tecnología y el Concepto de Función como Relación entre Variables en el Aula\n",
    "\n",
    "1. Capacitación en Herramientas Tecnológicas: Es esencial que los docentes se familiaricen y se capaciten en el uso de Python y Jupyter Notebooks. Ofrecer talleres y cursos de actualización puede ser una buena forma de lograrlo.\n",
    "2. Uso de Ejemplos Concretos: Incorporar ejemplos concretos y relevantes que conecten la teoría matemática con aplicaciones del mundo real. Esto ayuda a los estudiantes a ver la utilidad y aplicación práctica del material que están aprendiendo.\n",
    "3. Enfoque Interactivo y Colaborativo: Fomentar un ambiente de aprendizaje interactivo y colaborativo donde los estudiantes puedan trabajar en proyectos y actividades grupales utilizando herramientas tecnológicas.\n",
    "\n",
    "Estrategias para Elaborar la Representación Tabular\n",
    "\n",
    "De Manera Manuscrita:\n",
    "1. Organización Clara: Asegurarse de que las tablas manuscritas estén organizadas de manera clara y lógica, con encabezados bien definidos para cada columna.\n",
    "2. Incluir Ejemplos Prácticos: Realizar ejercicios en clase donde los estudiantes creen tablas de valores para diferentes funciones, asegurándose de que comprendan el proceso de cálculo y organización de datos.\n",
    "\n",
    "En Cuadernos Jupyter:\n",
    "1. Uso de Pandas: Enseñar a los estudiantes a utilizar la librería pandas para crear y manipular tablas de valores. Proporcionar ejemplos y ejercicios prácticos.\n",
    "   \n",
    "   import pandas as pd\n",
    "   import numpy as np\n",
    "\n",
    "   # Definir la función\n",
    "   def f(x):\n",
    "       return x**2 - 4\n",
    "\n",
    "   # Generar tabla de valores\n",
    "   x_values = np.linspace(-10, 10, 400)\n",
    "   f_values = f(x_values)\n",
    "   tabla = pd.DataFrame({'x': x_values, 'f(x)': f_values})\n",
    "   display(tabla.head())\n",
    "   \n",
    "\n",
    "Estrategias para Elaborar la Representación Gráfica\n",
    "\n",
    "De Manera Manuscrita:\n",
    "1. Ejes y Escalas Claras: Asegurarse de que los gráficos manuscritos tengan ejes y escalas claramente etiquetadas. Esto ayuda a los estudiantes a interpretar los gráficos de manera correcta.\n",
    "2. Uso de Diferentes Colores: Utilizar diferentes colores para distinguir entre múltiples funciones en un mismo gráfico. Esto facilita la comparación y el análisis visual.\n",
    "\n",
    "En Cuadernos Jupyter:\n",
    "1. Uso de Matplotlib y Plotly: Enseñar a los estudiantes a utilizar matplotlib y plotly para crear gráficos interactivos y visualmente atractivos.\n",
    "   \n",
    "   import matplotlib.pyplot as plt\n",
    "\n",
    "   # Graficar la función\n",
    "   plt.plot(x_values, f_values, label='f(x) = x^2 - 4')\n",
    "   plt.axhline(y=0, color='r', linestyle='--', label='y = 0')\n",
    "   plt.xlabel('x')\n",
    "   plt.ylabel('y')\n",
    "   plt.title('Gráfico de la Función f(x)')\n",
    "   plt.legend()\n",
    "   plt.grid(True)\n",
    "   plt.show()\n",
    "   \n",
    "2. Incorporar Ipywidgets: Utilizar ipywidgets para crear gráficos interactivos que permitan a los estudiantes explorar cómo los cambios en los parámetros afectan la función.\n",
    "   \n",
    "   import ipywidgets as widgets\n",
    "   from IPython.display import display\n",
    "\n",
    "   def actualizar_grafico(a, b, c):\n",
    "       y = a*x_values**2 + b*x_values + c\n",
    "       plt.figure(figsize=(8, 6))\n",
    "       plt.plot(x_values, y, label=f'y = {a}x^2 + {b}x + {c}')\n",
    "       plt.axhline(y=0, color='r', linestyle='--', label='y = 0')\n",
    "       plt.xlabel('x')\n",
    "       plt.ylabel('y')\n",
    "       plt.title('Interacción con Ecuaciones Cuadráticas')\n",
    "       plt.legend()\n",
    "       plt.grid(True)\n",
    "       plt.show()\n",
    "\n",
    "   a_slider = widgets.FloatSlider(value=1, min=-10, max=10, step=0.1, description='a:')\n",
    "   b_slider = widgets.FloatSlider(value=0, min=-10, max=10, step=0.1, description='b:')\n",
    "   c_slider = widgets.FloatSlider(value=-4, min=-10, max=10, step=0.1, description='c:')\n",
    "   widgets.interactive_output(actualizar_grafico, {'a': a_slider, 'b': b_slider, 'c': c_slider})\n",
    "   display(a_slider, b_slider, c_slider)\n",
    "   \n",
    "\n",
    "Estas recomendaciones y estrategias pueden ayudar a futuros docentes a implementar de manera efectiva la enseñanza de ecuaciones desde el concepto de función, aprovechando al máximo las herramientas tecnológicas y fomentando un aprendizaje más profundo y significativo en sus estudiantes.\n",
    "\n",
    "Referentes  \n",
    "\n",
    "1. \"Teaching Strategies to Improve Algebra Learning\" - Este artículo discute estrategias para mejorar el aprendizaje del álgebra en estudiantes de secundaria y preparatoria, destacando la importancia de entender y manipular expresiones algebraicas para resolver ecuaciones. [JSTOR](https://www.jstor.org/stable/10.3102/0013189X14551945)\n",
    "\n",
    "2. \"A Systematic Review on Algebraic Thinking in Education\" - Una revisión sistemática sobre el pensamiento algebraico en la educación, explorando cómo la dificultad en la manipulación algebraica afecta la resolución de ecuaciones. [ERIC](https://files.eric.ed.gov/fulltext/ED590182.pdf)\n",
    "\n",
    "3. **\"Algebra Teaching and Learning\"** - Este artículo examina la enseñanza y el aprendizaje del álgebra, resaltando las dificultades que enfrentan los estudiantes con el lenguaje algebraico y la manipulación de símbolos. [SpringerLink](https://link.springer.com/book/10.1007/978-3-319-32260-5)\n",
    "\n",
    "4. **\"Students’ Difficulties, Conceptions and Attitudes Towards Algebra\"** - Analiza las dificultades de los estudiantes en la manipulación de símbolos algebraicos y la resolución de ecuaciones, destacando la transición problemática del lenguaje aritmético al algebraico. [Curtin University](https://espace.curtin.edu.au/handle/20.500.11937/29247)\n",
    "\n",
    "5. **\"Solving Equations: The Transition from Arithmetic to Algebra\"** - Este artículo investiga las diferencias conceptuales y simbólicas entre el pensamiento aritmético y algebraico, y cómo estas diferencias dificultan la resolución de ecuaciones. [Academia.edu](https://www.academia.edu/28698487/Solving_Equations_The_Transition_from_Arithmetic_to_Algebra)  \n",
    "\n",
    "- Borba, M. C., & Villareal, M. E. (2005). *Humans-with-media and the reorganization of mathematical thinking: Information and communication technologies, modeling, visualization, and experimentation*. Springer.\n",
    "- Bruner, J. S. (1960). *The process of education*. Harvard University Press.\n",
    "- Freire, P. (1970). *Pedagogy of the oppressed*. Continuum.\n",
    "- Guzman, M. (2002). *The role of visualization in the teaching and learning of mathematical analysis*. In A. Bishop et al. (Eds.), *Second international handbook\n",
    "\n",
    "1. Croft, T., & Davison, R. (2006). *A guide to mathematical problem solving*. Pearson Education.\n",
    "2. Prince, M. (2004). Does active learning work? A review of the research. *Journal of Engineering Education, 93*(3), 223-231.\n",
    "3. Lage, M. J., Platt, G. J., & Treglia, M. (2000). Inverting the classroom: A gateway to creating an inclusive learning environment. *The Journal of Economic Education, 31*(1), 30-43.\n",
    "4. Bergmann, J., & Sams, A. (2012). *Flip your classroom: Reach every student in every class every day*. International Society for Technology in Education.\n",
    "5. Project Jupyter. (n.d.). Retrieved from [Jupyter.org](https://jupyter.org).\n",
    "\n",
    "1. **Vygotsky, L. S.** (1978). *Mind in Society: The Development of Higher Psychological Processes*. Harvard University Press.\n",
    "   - Este texto destaca la importancia del aprendizaje social y colaborativo, y cómo el desarrollo cognitivo de los estudiantes se potencia a través de la interacción social y el uso de herramientas culturales, incluyendo las tecnologías.\n",
    "\n",
    "2. **Piaget, J.** (1952). *The Origins of Intelligence in Children*. International Universities Press.\n",
    "   - Piaget aborda cómo los estudiantes desarrollan el pensamiento lógico y matemático a través de etapas de desarrollo, subrayando la importancia de construir sobre el conocimiento previo y las experiencias prácticas.\n",
    "\n",
    "3. **Bruner, J. S.** (1960). *The Process of Education*. Harvard University Press.\n",
    "   - Bruner introduce la idea de la espiral del currículo, donde los conceptos se revisitan y se expanden, lo cual es relevante para la enseñanza iterativa y el aprendizaje de conceptos complejos como las ecuaciones.\n",
    "\n",
    "4. Freire, P. (1970). Pedagogy of the Oppressed. Continuum.\n",
    "   - Freire enfatiza la educación como un acto de liberación y la importancia de la pedagogía crítica, promoviendo la participación activa de los estudiantes y el aprendizaje significativo.\n",
    "\n",
    "5. **Papert, S.** (1980). *Mindstorms: Children, Computers, and Powerful Ideas*. Basic Books.\n",
    "   - Papert explora cómo la tecnología puede ser utilizada para fomentar el aprendizaje constructivista y cómo los entornos de programación como LOGO pueden transformar la educación matemática.\n",
    "\n",
    "6. Hiebert, J., & Carpenter, T. P. (1992). *Learning and Teaching with Understanding*. In D. A. Grouws (Ed.), *Handbook of Research on Mathematics Teaching and Learning* (pp. 65-97). Macmillan.\n",
    "\n",
    "   \n",
    "7. Borba, M. C., & Villareal, M. E. (2005). *Humans-with-Media and the Reorganization of Mathematical Thinking: Information and Communication Technologies, Modeling, Visualization, and Experimentation*. Springer.\n",
    "   \n",
    "\n",
    "8. Tall, D. (2004). Thinking Through Three Worlds of Mathematics. In M. J. Hoines & A. B. Fuglestad (Eds.), Proceedings of the 28th Conference of the International Group for the Psychology of Mathematics Education (pp. 281-288).\n",
    "   \n",
    "9. Hoffman, B.** (2014). *Teaching and Learning Mathematics through Variation: Confucian Heritage Meets Western Theories*. Springer.\n",
    "   - Hoffman discute la teoría de la variación y cómo puede aplicarse para mejorar la comprensión de los estudiantes sobre conceptos matemáticos mediante la exposición a diferentes representaciones y contextos.\n",
    "\n",
    "10. Guzman, M. (2002). *The Role of Visualization in the Teaching and Learning of Mathematical Analysis*. In A. Bishop et al. (Eds.), *Second International Handbook of Mathematics Education* (pp. 695-718). Springer.\n",
    "- Guzman resalta la importancia de la visualización en la enseñanza de las matemáticas, apoyando la idea de utilizar representaciones tabulares y gráficas en la enseñanza de ecuaciones.\n",
    "\n",
    "Gabriel, F., Van Hoof, J., Gómez, D. M., & Van Dooren, W. (2023). Obstacles in the Development of the Understanding of Fractions. In Mathematical Cognition and Understanding: Perspectives on Mathematical Minds in the Elementary and Middle School Years (pp. 209-225). Cham: Springer International Publishing.\n",
    "\n",
    "\n",
    "\n",
    "\n"
   ]
  },
  {
   "cell_type": "code",
   "execution_count": null,
   "id": "ec16c7d7-183c-4a4c-8314-59c6ba3f3443",
   "metadata": {},
   "outputs": [],
   "source": []
  },
  {
   "cell_type": "code",
   "execution_count": null,
   "id": "13940b04-0be7-419f-90ff-65b467e607c0",
   "metadata": {},
   "outputs": [],
   "source": []
  },
  {
   "cell_type": "code",
   "execution_count": null,
   "id": "152b6c44-2ef4-439a-8704-4cc5d462d0f0",
   "metadata": {},
   "outputs": [],
   "source": []
  },
  {
   "cell_type": "code",
   "execution_count": null,
   "id": "ec048afb",
   "metadata": {},
   "outputs": [],
   "source": []
  },
  {
   "cell_type": "markdown",
   "id": "64ac8d32",
   "metadata": {},
   "source": [
    "# Ejemplo ilustrativo"
   ]
  },
  {
   "cell_type": "markdown",
   "id": "a3e5e6ab",
   "metadata": {},
   "source": [
    "# 10 ejercicios de entrenamiento o adquisición de habilidades obtenido a través de ChatGPT para una formación personalizada y centrada en la habilidad que se quiere lograr con la enseñanza del ejemplo anterior"
   ]
  },
  {
   "cell_type": "code",
   "execution_count": null,
   "id": "cc539357",
   "metadata": {},
   "outputs": [],
   "source": []
  },
  {
   "cell_type": "markdown",
   "id": "8b6b0112",
   "metadata": {
    "slideshow": {
     "slide_type": "slide"
    }
   },
   "source": [
    "# Tareas para realizar después de la realización de la clase"
   ]
  },
  {
   "cell_type": "markdown",
   "id": "947460e3",
   "metadata": {
    "slideshow": {
     "slide_type": "slide"
    }
   },
   "source": [
    "* Actividades de memorización: \n",
    "  - escucha reiterada de grabaciones de formulas y resultados científicos. \n",
    "  - relectura de notas. \n",
    "  - ejercicios de mayor complejidad.\n",
    "\n",
    "\n",
    "### No olvide asignar las tareas a los estudiantes a través de Google Colab y compartiendole el cuaderno de asignación a su correo institucional con fecha de entrega. [Google Colab](https://colab.research.google.com/?hl=es)   \n",
    "  "
   ]
  },
  {
   "cell_type": "markdown",
   "id": "d34defb9",
   "metadata": {
    "slideshow": {
     "slide_type": "slide"
    }
   },
   "source": [
    "## Asignación individual de tareas semanales "
   ]
  },
  {
   "cell_type": "code",
   "execution_count": 9,
   "id": "0406f442",
   "metadata": {
    "slideshow": {
     "slide_type": "slide"
    }
   },
   "outputs": [
    {
     "name": "stdout",
     "output_type": "stream",
     "text": [
      "Tarea 3 Solución problemas describiendo y justificando:  tarea_Purcell_Página_202_Sección_3.8.csv\n"
     ]
    },
    {
     "data": {
      "text/html": [
       "<div>\n",
       "<style scoped>\n",
       "    .dataframe tbody tr th:only-of-type {\n",
       "        vertical-align: middle;\n",
       "    }\n",
       "\n",
       "    .dataframe tbody tr th {\n",
       "        vertical-align: top;\n",
       "    }\n",
       "\n",
       "    .dataframe thead th {\n",
       "        text-align: right;\n",
       "    }\n",
       "</style>\n",
       "<table border=\"1\" class=\"dataframe\">\n",
       "  <thead>\n",
       "    <tr style=\"text-align: right;\">\n",
       "      <th></th>\n",
       "      <th>Student</th>\n",
       "      <th>Exer1</th>\n",
       "      <th>Exer2</th>\n",
       "      <th>Exer3</th>\n",
       "      <th>Exer4</th>\n",
       "      <th>Exer5</th>\n",
       "      <th>Exer6</th>\n",
       "      <th>Exer7</th>\n",
       "      <th>Exer8</th>\n",
       "      <th>Exer9</th>\n",
       "      <th>Exer10</th>\n",
       "    </tr>\n",
       "  </thead>\n",
       "  <tbody>\n",
       "    <tr>\n",
       "      <th>0</th>\n",
       "      <td>AGUDELO MORENO RENATO DIRNEY</td>\n",
       "      <td>39</td>\n",
       "      <td>17</td>\n",
       "      <td>21</td>\n",
       "      <td>4</td>\n",
       "      <td>9</td>\n",
       "      <td>44</td>\n",
       "      <td>7</td>\n",
       "      <td>30</td>\n",
       "      <td>51</td>\n",
       "      <td>54</td>\n",
       "    </tr>\n",
       "    <tr>\n",
       "      <th>1</th>\n",
       "      <td>AMARIS FERNANDEZ SEBASTIAN CAMILO</td>\n",
       "      <td>2</td>\n",
       "      <td>28</td>\n",
       "      <td>32</td>\n",
       "      <td>5</td>\n",
       "      <td>17</td>\n",
       "      <td>40</td>\n",
       "      <td>46</td>\n",
       "      <td>26</td>\n",
       "      <td>11</td>\n",
       "      <td>50</td>\n",
       "    </tr>\n",
       "    <tr>\n",
       "      <th>2</th>\n",
       "      <td>ARENAS HERAZO GABRIEL ENRIQUE</td>\n",
       "      <td>37</td>\n",
       "      <td>10</td>\n",
       "      <td>39</td>\n",
       "      <td>51</td>\n",
       "      <td>47</td>\n",
       "      <td>21</td>\n",
       "      <td>52</td>\n",
       "      <td>45</td>\n",
       "      <td>18</td>\n",
       "      <td>46</td>\n",
       "    </tr>\n",
       "    <tr>\n",
       "      <th>3</th>\n",
       "      <td>AYALA MENDOZA MARISOL YACIRA</td>\n",
       "      <td>4</td>\n",
       "      <td>20</td>\n",
       "      <td>40</td>\n",
       "      <td>26</td>\n",
       "      <td>47</td>\n",
       "      <td>33</td>\n",
       "      <td>28</td>\n",
       "      <td>42</td>\n",
       "      <td>41</td>\n",
       "      <td>8</td>\n",
       "    </tr>\n",
       "    <tr>\n",
       "      <th>4</th>\n",
       "      <td>BERTEL RODELO MICHELL SMIT</td>\n",
       "      <td>12</td>\n",
       "      <td>13</td>\n",
       "      <td>48</td>\n",
       "      <td>30</td>\n",
       "      <td>29</td>\n",
       "      <td>20</td>\n",
       "      <td>23</td>\n",
       "      <td>27</td>\n",
       "      <td>34</td>\n",
       "      <td>25</td>\n",
       "    </tr>\n",
       "    <tr>\n",
       "      <th>5</th>\n",
       "      <td>BULA VERGARA MARIA PAULA</td>\n",
       "      <td>51</td>\n",
       "      <td>4</td>\n",
       "      <td>15</td>\n",
       "      <td>46</td>\n",
       "      <td>2</td>\n",
       "      <td>33</td>\n",
       "      <td>25</td>\n",
       "      <td>27</td>\n",
       "      <td>7</td>\n",
       "      <td>5</td>\n",
       "    </tr>\n",
       "    <tr>\n",
       "      <th>6</th>\n",
       "      <td>CANTILLO ENSUCHO DANIEL</td>\n",
       "      <td>5</td>\n",
       "      <td>52</td>\n",
       "      <td>24</td>\n",
       "      <td>34</td>\n",
       "      <td>19</td>\n",
       "      <td>17</td>\n",
       "      <td>14</td>\n",
       "      <td>22</td>\n",
       "      <td>2</td>\n",
       "      <td>4</td>\n",
       "    </tr>\n",
       "    <tr>\n",
       "      <th>7</th>\n",
       "      <td>CERVANTES DURAN ANGELICA</td>\n",
       "      <td>49</td>\n",
       "      <td>20</td>\n",
       "      <td>48</td>\n",
       "      <td>53</td>\n",
       "      <td>26</td>\n",
       "      <td>39</td>\n",
       "      <td>28</td>\n",
       "      <td>35</td>\n",
       "      <td>24</td>\n",
       "      <td>3</td>\n",
       "    </tr>\n",
       "    <tr>\n",
       "      <th>8</th>\n",
       "      <td>GALLEGO TEJADA JUAN ESTEBAN</td>\n",
       "      <td>28</td>\n",
       "      <td>17</td>\n",
       "      <td>29</td>\n",
       "      <td>32</td>\n",
       "      <td>27</td>\n",
       "      <td>48</td>\n",
       "      <td>36</td>\n",
       "      <td>44</td>\n",
       "      <td>10</td>\n",
       "      <td>54</td>\n",
       "    </tr>\n",
       "    <tr>\n",
       "      <th>9</th>\n",
       "      <td>GUERRA NORIEGA YONATHAN</td>\n",
       "      <td>33</td>\n",
       "      <td>41</td>\n",
       "      <td>49</td>\n",
       "      <td>19</td>\n",
       "      <td>3</td>\n",
       "      <td>44</td>\n",
       "      <td>24</td>\n",
       "      <td>47</td>\n",
       "      <td>16</td>\n",
       "      <td>43</td>\n",
       "    </tr>\n",
       "    <tr>\n",
       "      <th>10</th>\n",
       "      <td>HINCAPIE CASTRO JOHAN SEBASTIAN</td>\n",
       "      <td>27</td>\n",
       "      <td>43</td>\n",
       "      <td>31</td>\n",
       "      <td>16</td>\n",
       "      <td>42</td>\n",
       "      <td>28</td>\n",
       "      <td>13</td>\n",
       "      <td>3</td>\n",
       "      <td>8</td>\n",
       "      <td>21</td>\n",
       "    </tr>\n",
       "    <tr>\n",
       "      <th>11</th>\n",
       "      <td>HUMANEZ SANCHEZ CAMILO</td>\n",
       "      <td>46</td>\n",
       "      <td>3</td>\n",
       "      <td>12</td>\n",
       "      <td>31</td>\n",
       "      <td>35</td>\n",
       "      <td>2</td>\n",
       "      <td>13</td>\n",
       "      <td>23</td>\n",
       "      <td>52</td>\n",
       "      <td>24</td>\n",
       "    </tr>\n",
       "    <tr>\n",
       "      <th>12</th>\n",
       "      <td>IBAnEZ MORENO FRANCISCO LUIS</td>\n",
       "      <td>26</td>\n",
       "      <td>10</td>\n",
       "      <td>27</td>\n",
       "      <td>25</td>\n",
       "      <td>12</td>\n",
       "      <td>21</td>\n",
       "      <td>24</td>\n",
       "      <td>50</td>\n",
       "      <td>39</td>\n",
       "      <td>29</td>\n",
       "    </tr>\n",
       "    <tr>\n",
       "      <th>13</th>\n",
       "      <td>LONDONO CUADRADO CRISTIAN ALBERTO</td>\n",
       "      <td>42</td>\n",
       "      <td>35</td>\n",
       "      <td>30</td>\n",
       "      <td>36</td>\n",
       "      <td>28</td>\n",
       "      <td>14</td>\n",
       "      <td>10</td>\n",
       "      <td>18</td>\n",
       "      <td>16</td>\n",
       "      <td>50</td>\n",
       "    </tr>\n",
       "    <tr>\n",
       "      <th>14</th>\n",
       "      <td>MASS MIRANDA RIVALDO JOSE</td>\n",
       "      <td>16</td>\n",
       "      <td>13</td>\n",
       "      <td>14</td>\n",
       "      <td>36</td>\n",
       "      <td>37</td>\n",
       "      <td>22</td>\n",
       "      <td>4</td>\n",
       "      <td>46</td>\n",
       "      <td>51</td>\n",
       "      <td>19</td>\n",
       "    </tr>\n",
       "    <tr>\n",
       "      <th>15</th>\n",
       "      <td>MIRANDA MARTINEZ CARLOS ANDRES</td>\n",
       "      <td>46</td>\n",
       "      <td>17</td>\n",
       "      <td>53</td>\n",
       "      <td>40</td>\n",
       "      <td>34</td>\n",
       "      <td>33</td>\n",
       "      <td>26</td>\n",
       "      <td>23</td>\n",
       "      <td>19</td>\n",
       "      <td>30</td>\n",
       "    </tr>\n",
       "    <tr>\n",
       "      <th>16</th>\n",
       "      <td>MONTERROSA SOTO ABRIL</td>\n",
       "      <td>30</td>\n",
       "      <td>3</td>\n",
       "      <td>19</td>\n",
       "      <td>42</td>\n",
       "      <td>6</td>\n",
       "      <td>32</td>\n",
       "      <td>45</td>\n",
       "      <td>39</td>\n",
       "      <td>21</td>\n",
       "      <td>25</td>\n",
       "    </tr>\n",
       "    <tr>\n",
       "      <th>17</th>\n",
       "      <td>NORIEGA JIMENEZ GABRIELA</td>\n",
       "      <td>50</td>\n",
       "      <td>36</td>\n",
       "      <td>31</td>\n",
       "      <td>2</td>\n",
       "      <td>37</td>\n",
       "      <td>32</td>\n",
       "      <td>42</td>\n",
       "      <td>35</td>\n",
       "      <td>30</td>\n",
       "      <td>47</td>\n",
       "    </tr>\n",
       "    <tr>\n",
       "      <th>18</th>\n",
       "      <td>PEREZ REYES IVAN DARIO</td>\n",
       "      <td>15</td>\n",
       "      <td>13</td>\n",
       "      <td>6</td>\n",
       "      <td>46</td>\n",
       "      <td>5</td>\n",
       "      <td>32</td>\n",
       "      <td>33</td>\n",
       "      <td>49</td>\n",
       "      <td>8</td>\n",
       "      <td>42</td>\n",
       "    </tr>\n",
       "    <tr>\n",
       "      <th>19</th>\n",
       "      <td>PEREZ THERAN ERLINDA</td>\n",
       "      <td>46</td>\n",
       "      <td>52</td>\n",
       "      <td>37</td>\n",
       "      <td>29</td>\n",
       "      <td>28</td>\n",
       "      <td>11</td>\n",
       "      <td>39</td>\n",
       "      <td>20</td>\n",
       "      <td>44</td>\n",
       "      <td>21</td>\n",
       "    </tr>\n",
       "    <tr>\n",
       "      <th>20</th>\n",
       "      <td>PINEDA ROMERO YOSMERI</td>\n",
       "      <td>17</td>\n",
       "      <td>14</td>\n",
       "      <td>25</td>\n",
       "      <td>48</td>\n",
       "      <td>30</td>\n",
       "      <td>12</td>\n",
       "      <td>37</td>\n",
       "      <td>28</td>\n",
       "      <td>7</td>\n",
       "      <td>10</td>\n",
       "    </tr>\n",
       "    <tr>\n",
       "      <th>21</th>\n",
       "      <td>QUINONEZ CERVANTES MARIANA</td>\n",
       "      <td>23</td>\n",
       "      <td>40</td>\n",
       "      <td>27</td>\n",
       "      <td>36</td>\n",
       "      <td>22</td>\n",
       "      <td>34</td>\n",
       "      <td>28</td>\n",
       "      <td>12</td>\n",
       "      <td>44</td>\n",
       "      <td>30</td>\n",
       "    </tr>\n",
       "    <tr>\n",
       "      <th>22</th>\n",
       "      <td>QUIROZ DURAN JUAN MANUEL</td>\n",
       "      <td>38</td>\n",
       "      <td>53</td>\n",
       "      <td>4</td>\n",
       "      <td>43</td>\n",
       "      <td>22</td>\n",
       "      <td>7</td>\n",
       "      <td>48</td>\n",
       "      <td>32</td>\n",
       "      <td>15</td>\n",
       "      <td>34</td>\n",
       "    </tr>\n",
       "    <tr>\n",
       "      <th>23</th>\n",
       "      <td>RAMOS PEREZ YANINE</td>\n",
       "      <td>35</td>\n",
       "      <td>42</td>\n",
       "      <td>12</td>\n",
       "      <td>25</td>\n",
       "      <td>54</td>\n",
       "      <td>20</td>\n",
       "      <td>13</td>\n",
       "      <td>30</td>\n",
       "      <td>4</td>\n",
       "      <td>5</td>\n",
       "    </tr>\n",
       "    <tr>\n",
       "      <th>24</th>\n",
       "      <td>RIVAS HOYOS ESTEFANIA</td>\n",
       "      <td>10</td>\n",
       "      <td>42</td>\n",
       "      <td>5</td>\n",
       "      <td>44</td>\n",
       "      <td>37</td>\n",
       "      <td>51</td>\n",
       "      <td>39</td>\n",
       "      <td>7</td>\n",
       "      <td>22</td>\n",
       "      <td>8</td>\n",
       "    </tr>\n",
       "    <tr>\n",
       "      <th>25</th>\n",
       "      <td>ROSILLO TEJADA VANESA</td>\n",
       "      <td>29</td>\n",
       "      <td>12</td>\n",
       "      <td>17</td>\n",
       "      <td>24</td>\n",
       "      <td>7</td>\n",
       "      <td>31</td>\n",
       "      <td>9</td>\n",
       "      <td>33</td>\n",
       "      <td>16</td>\n",
       "      <td>46</td>\n",
       "    </tr>\n",
       "    <tr>\n",
       "      <th>26</th>\n",
       "      <td>SANCHEZ PADILLA SILVESTRE</td>\n",
       "      <td>46</td>\n",
       "      <td>48</td>\n",
       "      <td>53</td>\n",
       "      <td>28</td>\n",
       "      <td>17</td>\n",
       "      <td>19</td>\n",
       "      <td>14</td>\n",
       "      <td>47</td>\n",
       "      <td>23</td>\n",
       "      <td>20</td>\n",
       "    </tr>\n",
       "    <tr>\n",
       "      <th>27</th>\n",
       "      <td>SILVA ROYERO MAILY CRISTINA</td>\n",
       "      <td>3</td>\n",
       "      <td>24</td>\n",
       "      <td>26</td>\n",
       "      <td>49</td>\n",
       "      <td>6</td>\n",
       "      <td>48</td>\n",
       "      <td>8</td>\n",
       "      <td>34</td>\n",
       "      <td>2</td>\n",
       "      <td>19</td>\n",
       "    </tr>\n",
       "    <tr>\n",
       "      <th>28</th>\n",
       "      <td>USUGA GEORGE JHON ESTIVEN</td>\n",
       "      <td>29</td>\n",
       "      <td>35</td>\n",
       "      <td>24</td>\n",
       "      <td>41</td>\n",
       "      <td>33</td>\n",
       "      <td>39</td>\n",
       "      <td>6</td>\n",
       "      <td>31</td>\n",
       "      <td>21</td>\n",
       "      <td>44</td>\n",
       "    </tr>\n",
       "  </tbody>\n",
       "</table>\n",
       "</div>"
      ],
      "text/plain": [
       "                              Student  Exer1  Exer2  Exer3  Exer4  Exer5  \\\n",
       "0        AGUDELO MORENO RENATO DIRNEY     39     17     21      4      9   \n",
       "1   AMARIS FERNANDEZ SEBASTIAN CAMILO      2     28     32      5     17   \n",
       "2       ARENAS HERAZO GABRIEL ENRIQUE     37     10     39     51     47   \n",
       "3        AYALA MENDOZA MARISOL YACIRA      4     20     40     26     47   \n",
       "4          BERTEL RODELO MICHELL SMIT     12     13     48     30     29   \n",
       "5            BULA VERGARA MARIA PAULA     51      4     15     46      2   \n",
       "6             CANTILLO ENSUCHO DANIEL      5     52     24     34     19   \n",
       "7            CERVANTES DURAN ANGELICA     49     20     48     53     26   \n",
       "8         GALLEGO TEJADA JUAN ESTEBAN     28     17     29     32     27   \n",
       "9             GUERRA NORIEGA YONATHAN     33     41     49     19      3   \n",
       "10    HINCAPIE CASTRO JOHAN SEBASTIAN     27     43     31     16     42   \n",
       "11             HUMANEZ SANCHEZ CAMILO     46      3     12     31     35   \n",
       "12       IBAnEZ MORENO FRANCISCO LUIS     26     10     27     25     12   \n",
       "13  LONDONO CUADRADO CRISTIAN ALBERTO     42     35     30     36     28   \n",
       "14          MASS MIRANDA RIVALDO JOSE     16     13     14     36     37   \n",
       "15     MIRANDA MARTINEZ CARLOS ANDRES     46     17     53     40     34   \n",
       "16              MONTERROSA SOTO ABRIL     30      3     19     42      6   \n",
       "17           NORIEGA JIMENEZ GABRIELA     50     36     31      2     37   \n",
       "18             PEREZ REYES IVAN DARIO     15     13      6     46      5   \n",
       "19               PEREZ THERAN ERLINDA     46     52     37     29     28   \n",
       "20              PINEDA ROMERO YOSMERI     17     14     25     48     30   \n",
       "21         QUINONEZ CERVANTES MARIANA     23     40     27     36     22   \n",
       "22           QUIROZ DURAN JUAN MANUEL     38     53      4     43     22   \n",
       "23                 RAMOS PEREZ YANINE     35     42     12     25     54   \n",
       "24              RIVAS HOYOS ESTEFANIA     10     42      5     44     37   \n",
       "25              ROSILLO TEJADA VANESA     29     12     17     24      7   \n",
       "26          SANCHEZ PADILLA SILVESTRE     46     48     53     28     17   \n",
       "27        SILVA ROYERO MAILY CRISTINA      3     24     26     49      6   \n",
       "28          USUGA GEORGE JHON ESTIVEN     29     35     24     41     33   \n",
       "\n",
       "    Exer6  Exer7  Exer8  Exer9  Exer10  \n",
       "0      44      7     30     51      54  \n",
       "1      40     46     26     11      50  \n",
       "2      21     52     45     18      46  \n",
       "3      33     28     42     41       8  \n",
       "4      20     23     27     34      25  \n",
       "5      33     25     27      7       5  \n",
       "6      17     14     22      2       4  \n",
       "7      39     28     35     24       3  \n",
       "8      48     36     44     10      54  \n",
       "9      44     24     47     16      43  \n",
       "10     28     13      3      8      21  \n",
       "11      2     13     23     52      24  \n",
       "12     21     24     50     39      29  \n",
       "13     14     10     18     16      50  \n",
       "14     22      4     46     51      19  \n",
       "15     33     26     23     19      30  \n",
       "16     32     45     39     21      25  \n",
       "17     32     42     35     30      47  \n",
       "18     32     33     49      8      42  \n",
       "19     11     39     20     44      21  \n",
       "20     12     37     28      7      10  \n",
       "21     34     28     12     44      30  \n",
       "22      7     48     32     15      34  \n",
       "23     20     13     30      4       5  \n",
       "24     51     39      7     22       8  \n",
       "25     31      9     33     16      46  \n",
       "26     19     14     47     23      20  \n",
       "27     48      8     34      2      19  \n",
       "28     39      6     31     21      44  "
      ]
     },
     "execution_count": 9,
     "metadata": {},
     "output_type": "execute_result"
    }
   ],
   "source": [
    "# Tarea 3 de solución de problemas describiendo procedimientos y justificándolos\n",
    "\n",
    "# asignación de ejercicios de un seccion del texto guía\n",
    "\n",
    "# numpy.random.choice() obten la documentación de esta función en: \n",
    "# https://numpy.org/doc/stable/reference/random/generated/numpy.random.choice.html\n",
    "\n",
    "import pandas as pd\n",
    "import numpy as np\n",
    "import requests\n",
    "np.random.seed(126)  # establecer semilla aleatoria para hacer los resultados reproducibles\n",
    "\n",
    "\n",
    "\n",
    "grupo_estudiantes = 'calculo_integral'\n",
    "nombre_texto_guia = 'Purcell'\n",
    "pagina_y_seccion = 'Página_202_Sección_3.8'\n",
    "numero_ejercicios_taller = 54\n",
    "numero_de_ejercicios_asignados = 10\n",
    "\n",
    "\n",
    "# Descargar la lista de  estudiantes\n",
    "students_url = \"https://raw.githubusercontent.com/marco-canas/groups_list/main/\" + grupo_estudiantes + \".csv\"\n",
    "exercises = list(range(1, numero_ejercicios_taller))  \n",
    "\n",
    "students_data = pd.read_csv(students_url)\n",
    "\n",
    "# Crear una lista para almacenar las asignaciones\n",
    "assignments = []\n",
    "\n",
    "# Asignar ejercicios aleatorios a cada estudiante\n",
    "for index, student in students_data.iterrows():\n",
    "    # Seleccionar 5 ejercicios aleatorios sin repetición\n",
    "    random_exercises = np.random.choice(exercises, numero_de_ejercicios_asignados, replace = False)+ 1 \n",
    "    assignments.append([students_data[\"Nombre\"][index], *random_exercises])  # Agregar asignación a la lista\n",
    "\n",
    "# Crear un DataFrame con las asignaciones\n",
    "columns = [\"Student\"] + [ \"Exer\" + str(i+1) for i in range(numero_de_ejercicios_asignados)]\n",
    "assignment_df = pd.DataFrame(assignments, columns=columns)\n",
    "\n",
    "# Guardar el DataFrame en un archivo CSV\n",
    "assignment_csv = \"tarea\" + \"_\" + nombre_texto_guia + \"_\"+ pagina_y_seccion + \".csv\"\n",
    "assignment_df.to_csv(assignment_csv, index=False)\n",
    "\n",
    "print(\"\"\"Tarea 3 Solución problemas describiendo y justificando: \n",
    "      La falta de los enunciados de los problemas, te rebaja 1.0\n",
    "      La falta de la conclusión verbal te rebaja 1.0\n",
    "      La falta de la representación gráfica te rebaja 1.0\"\"\", assignment_csv)\n",
    "assignment_df"
   ]
  },
  {
   "cell_type": "markdown",
   "id": "742281f4",
   "metadata": {},
   "source": [
    "# No olvide la tarea de realizar la foda para autoevaluarse\n",
    "\n",
    "Fortalezas: F  \n",
    "Oportuniudades O:  \n",
    "Debilidades: D:   \n",
    "Amenazas: A:     "
   ]
  },
  {
   "cell_type": "markdown",
   "id": "8d41fe58",
   "metadata": {
    "slideshow": {
     "slide_type": "slide"
    }
   },
   "source": [
    "# Horario de clases del profesor Marco\n",
    "\n",
    "* Martes y jueves de 10 a 12: Fundamentos de las matemáticas\n",
    "* Martes y jueves de 2 a 4 PM: Fundamentos de la aritmética\n",
    "\n",
    "* Didáctica de la aritmética: Miércoles de 8 - 12\n",
    "\n"
   ]
  },
  {
   "cell_type": "markdown",
   "id": "ae114e14",
   "metadata": {
    "slideshow": {
     "slide_type": "slide"
    }
   },
   "source": [
    "# Horarios de monitoría y asesoría"
   ]
  },
  {
   "cell_type": "markdown",
   "id": "b1db4b6c",
   "metadata": {
    "slideshow": {
     "slide_type": "slide"
    }
   },
   "source": [
    "## Monitor Manuel"
   ]
  },
  {
   "cell_type": "markdown",
   "id": "39559692",
   "metadata": {
    "slideshow": {
     "slide_type": "slide"
    }
   },
   "source": [
    "Martes y jueves de 8 - 12  \n",
    "Miércoles 10 - 12 y de 2 a 4 PM  \n",
    "Sábado: 8 - 12"
   ]
  },
  {
   "cell_type": "markdown",
   "id": "935a5567",
   "metadata": {
    "slideshow": {
     "slide_type": "slide"
    }
   },
   "source": [
    "## Dificultades de aprendizaje detectados durante la clase"
   ]
  },
  {
   "cell_type": "markdown",
   "id": "3bd7500d",
   "metadata": {
    "slideshow": {
     "slide_type": "slide"
    }
   },
   "source": []
  },
  {
   "cell_type": "markdown",
   "id": "fb9402bb",
   "metadata": {
    "slideshow": {
     "slide_type": "slide"
    }
   },
   "source": [
    "## Estrategias propuestas para la solución de las dificultades de aprendizaje detectadas"
   ]
  },
  {
   "cell_type": "markdown",
   "id": "d437294b",
   "metadata": {
    "slideshow": {
     "slide_type": "slide"
    }
   },
   "source": []
  },
  {
   "cell_type": "markdown",
   "id": "d11570a2",
   "metadata": {
    "slideshow": {
     "slide_type": "slide"
    }
   },
   "source": []
  },
  {
   "cell_type": "markdown",
   "id": "319f2ffa",
   "metadata": {
    "slideshow": {
     "slide_type": "slide"
    }
   },
   "source": [
    "## Grabaciones en audio para fomentar la capacidad de memorizar enunciados de teoremas y resultados científicos y la capacidad de parafrasear estos resultados. Y así desarrollar memoria muscular para los comandos comunes. \n",
    "Se dispondrá de un lugar en Vocaroo para albergar archivos de audio de fomento a la memorización, enunciación y parafraseo de los resultados científicos, propiedades, reglas, etc. \n",
    "\n",
    "[Vocaroo](https://vocaroo.com/)\n",
    "\n"
   ]
  },
  {
   "cell_type": "markdown",
   "id": "564fa59d",
   "metadata": {
    "slideshow": {
     "slide_type": "slide"
    }
   },
   "source": [
    "### Comparta sus cuadernos y videos, evidencias de su aprendizaje [aquí](https://forms.office.com/Pages/ResponsePage.aspx?id=IefhmYRxjkmK_7KtTlPBwkanXIs1i1FEujpsZgO6dXpUMEMwTEZVMzEwVVBPTElWNVg5OVEyWUhMUy4u)"
   ]
  },
  {
   "cell_type": "markdown",
   "id": "1a1a3e41",
   "metadata": {
    "slideshow": {
     "slide_type": "slide"
    }
   },
   "source": []
  },
  {
   "cell_type": "markdown",
   "id": "10bce0d0",
   "metadata": {
    "slideshow": {
     "slide_type": "slide"
    }
   },
   "source": [
    "## Referentes "
   ]
  },
  {
   "cell_type": "markdown",
   "id": "1db3c468",
   "metadata": {
    "slideshow": {
     "slide_type": "slide"
    }
   },
   "source": [
    "* Chollet, F. (2021). Deep learning with Python. Simon and Schuster.  \n",
    "  \n",
    "* [stewart precálculo](https://udeaeduco-my.sharepoint.com/:b:/g/personal/marco_canas_udea_edu_co/ERHIq62I6qFNrmxy6LZb8ZMBci7kUsyNME1nIh9yCBMJ_w?e=0zMSla)  \n",
    "\n",
    "* [stewart cálculo](https://udeaeduco-my.sharepoint.com/:b:/g/personal/marco_canas_udea_edu_co/EZgXZjAp8QxPqOAim2hs6LcBNPLGjSHf-xwYnUVYkwa04w?e=RZdTCy)  \n",
    "\n",
    "* [larson](https://udeaeduco-my.sharepoint.com/:b:/g/personal/marco_canas_udea_edu_co/ES71ChFeO9ZDhW3TwC5Ijk8BjxUK3Pdqz_fjHxTTFAfIAg?e=VDEjfu)\n",
    "\n",
    "* [uzcategui](https://udeaeduco-my.sharepoint.com/:b:/g/personal/marco_canas_udea_edu_co/ETDikm-lVl1Or8XoEo9oyh0BEti9Zs8le-f0D-dBdtZmbA?e=bBsoyQ)\n",
    "\n",
    "* [Cálculo de Purcell](https://udeaeduco-my.sharepoint.com/:b:/g/personal/marco_canas_udea_edu_co/ES60UB4h-QFFqqRQUFmkpWcBIgoLBJeqTfZjNajWNWSeJA?e=9NxjKJ)\n",
    "\n",
    "* [Recomendación de la UNESCO sobre ciencia abierta](https://unesdoc.unesco.org/ark:/48223/pf0000379949_spa)\n",
    "\n",
    "* [Fórmulas más comunes en latex](https://wiki.geogebra.org/es/C%C3%B3digo_LaTeX_para_las_f%C3%B3rmulas_m%C3%A1s_comunes) \n",
    "\n",
    "* [chatGPT](https://openai.com/blog/chatgpt)  \n",
    "\n",
    "* Géron, A. (2017). Hands-on machine learning with scikit-learn and tensorflow: Concepts. Tools, and Techniques to build intelligent systems.[Geron, Aurelien. Hands on Machine Learning](https://udeaeduco-my.sharepoint.com/:b:/g/personal/marco_canas_udea_edu_co/Ecet27yjQzZIlT1Y_Bc2erkBUhbeYuIe6HG8i1FYZRlZww?e=dlvZ4v)  \n",
    "\n",
    "* McKinney, W. (2012). Python for data analysis: Data wrangling with Pandas, NumPy, and IPython. \" O'Reilly Media, Inc.\".[Wes Mackinney. ](https://udeaeduco-my.sharepoint.com/:b:/g/personal/marco_canas_udea_edu_co/EVbi5JIeBl9ErbiUnZfGe8YBhNTnZ8sxTK5hjIOPK4UpGw?e=fFclah)  \n",
    "\n",
    "* [Ledezma, C., Font, V., & Sala-Sebastià, G. MODELIZACIÓN MATEMÁTICA DESDE UNA ARTICULACIÓN TEÓRICA ENTRE LOS ENFOQUES COGNITIVO Y ONTO-SEMIÓTICO.](https://www.researchgate.net/profile/Carlos-Ledezma-4/publication/376076920_Modelizacion_matematica_desde_una_articulacion_teorica_entre_los_enfoques_cognitivo_y_onto-semiotico/links/6568cb363fa26f66f43b292a/Modelizacion-matematica-desde-una-articulacion-teorica-entre-los-enfoques-cognitivo-y-onto-semiotico.pdf)"
   ]
  },
  {
   "cell_type": "markdown",
   "id": "45c59aa9",
   "metadata": {},
   "source": [
    "[Autoevaluemonos para hacernos concientes de nuestro aprendizaje y en lo que debemos enfocarnos en mejorar]()  \n",
    "\n",
    "Aquí tienes una lista de preguntas de selección múltiple para una autoevaluación en un curso de cálculo con un enfoque pedagógico de aula invertida. Estas preguntas abarcan los objetivos de desarrollo del pensamiento variacional, pensamiento computacional a través de Python, capacidad de comunicación científica con LaTeX, Git y el uso de cuadernos Jupyter, así como la promoción de políticas de ciencia libre. \n",
    "\n",
    "1. **Pensamiento Variacional:**\n",
    "   a. ¿Qué significa el término \"variación\" en el contexto del pensamiento variacional?\n",
    "   b. ¿Cómo se relaciona el cálculo con el pensamiento variacional?\n",
    "   c. ¿Puede proporcionar un ejemplo práctico que ilustre el concepto de variación en un problema de cálculo?\n",
    "\n",
    "2. **Pensamiento Computacional (Python):**\n",
    "   a. ¿Cuál es el propósito principal de utilizar Python en un curso de cálculo?\n",
    "   b. ¿Cómo se puede utilizar Python para resolver problemas matemáticos complejos?\n",
    "   c. Menciona al menos dos ventajas de usar Python en comparación con otros lenguajes de programación en el contexto del cálculo.\n",
    "\n",
    "3. **Comunicación Científica (LaTeX):**\n",
    "   a. ¿Por qué es importante utilizar LaTeX para la comunicación científica en matemáticas y ciencias?\n",
    "   b. Enumera al menos tres comandos básicos de LaTeX utilizados para escribir ecuaciones matemáticas.\n",
    "   c. ¿Cómo mejorarías la presentación visual de una fórmula matemática utilizando LaTeX?\n",
    "\n",
    "4. **Gestión de Versiones (Git):**\n",
    "   a. ¿Cuál es el propósito principal de utilizar Git en el desarrollo de proyectos científicos?\n",
    "   b. Explica el concepto de \"commit\" en Git.\n",
    "   c. ¿Cómo resolverías un conflicto de fusión (merge conflict) en Git?\n",
    "\n",
    "5. **Cuadernos Jupyter:**\n",
    "   a. ¿Cuáles son las ventajas de utilizar cuadernos Jupyter en comparación con otros entornos de desarrollo?\n",
    "   b. Describe cómo se integra el código Python y la documentación en un cuaderno Jupyter.\n",
    "   c. ¿Cómo compartirías un cuaderno Jupyter con tus compañeros de clase utilizando GitHub?\n",
    "\n",
    "6. **Promoción de Políticas de Ciencia Libre:**\n",
    "   a. ¿Cuáles son los beneficios de utilizar plataformas como GitHub y YouTube para compartir recursos científicos?\n",
    "   b. ¿Cómo podrías contribuir a la promoción de la ciencia libre en tu comunidad académica?\n",
    "   c. ¿Por qué es importante la transparencia y accesibilidad en la investigación científica?\n",
    "\n",
    "Estas preguntas están diseñadas para evaluar la comprensión de los estudiantes en diversos aspectos del curso, abarcando desde los conceptos matemáticos hasta las habilidades tecnológicas y la conciencia sobre la ciencia libre."
   ]
  },
  {
   "cell_type": "markdown",
   "id": "8e65d6f9",
   "metadata": {},
   "source": [
    "# Como estudiante, encuentro que...   \n",
    "\n",
    "F: Mis Fortalezas son:     \n",
    "O: Mis Oportunidades son:    \n",
    "D: Mis Debilidades son:    \n",
    "A: Lo que Amenazas mi aprendizaje es:  "
   ]
  },
  {
   "cell_type": "markdown",
   "id": "6b9e56a8",
   "metadata": {
    "slideshow": {
     "slide_type": "slide"
    }
   },
   "source": [
    "### [Evaluamos al profesor Marco Cañas Aquí](https://forms.office.com/Pages/ResponsePage.aspx?id=IefhmYRxjkmK_7KtTlPBwkanXIs1i1FEujpsZgO6dXpUREJPV1kxUk1JV1ozTFJIQVNIQjY5WEY3US4u)"
   ]
  },
  {
   "cell_type": "markdown",
   "id": "050b9508",
   "metadata": {},
   "source": [
    "# Aportes de mis estudiantes a la metodología del curso  \n",
    "1. \n",
    "\n",
    "Sus opiniones y aportes son muy importantes para mi. Pues esta es una investigación educativa y un servicio de enseñanza para ustedes. Ustedes son la razón de ser de mi actividad docente. Dios los bendiga. "
   ]
  },
  {
   "cell_type": "markdown",
   "id": "6c4af91f",
   "metadata": {},
   "source": [
    "# Aportes de mis colegas docentes a la metodología que estoy aplicando en mis cursos. "
   ]
  },
  {
   "cell_type": "markdown",
   "id": "071afa04",
   "metadata": {
    "slideshow": {
     "slide_type": "slide"
    }
   },
   "source": [
    "## [Evaluación luego de alcanzar estos objetivos de aprendizaje]()"
   ]
  },
  {
   "cell_type": "markdown",
   "id": "10f43536",
   "metadata": {
    "slideshow": {
     "slide_type": "slide"
    }
   },
   "source": [
    "### Continue su aprendizaje en la siguiente clase a través del siguiente [vínculo]()"
   ]
  },
  {
   "cell_type": "markdown",
   "id": "af751e30",
   "metadata": {
    "slideshow": {
     "slide_type": "slide"
    }
   },
   "source": [
    "# Conjeturas pedagógicas fruto de la aplicación del modelo de aprendizaje invertido y del enfoque hacia la ciencia de datos con python\n",
    "\n",
    "1. Todo cálculo o resultado debe ser interpretado en una línea markdown del cuaderno Jupyter, inmediatamente después de la enunciación del resultado y después de la presentación de una tabla o gráfico bidimensional, de tal menera que el estudiante explicite la comprensión verbal del resultado y las inferencias o estrategias que este resultado le sugieren.  \n",
    "\n",
    "2. Debo colocar las conjeturas pedagógicas, que el uso en el aula de [ChatGPT](https://openai.com/blog/chatgpt/) traiga para la enseñanza y el aprendizaje de las matemáticas. \n",
    "\n",
    "3. Promover ciencia abierta en clase de matemáticas puede ser pidiendo a los estudiantes, tomar nota en clase pero en cuadernos Jupyter y entregar siempre al final de cada clase su cuaderno con todas las notas y experimentaciones de clase replicadas. \n",
    "4. Profesor Marco, ¿ha contemplado la posibilidad de intercambio de experiencias de aprendizaje y aplicación de Python al día a día con comfama? (Estudio Trabajo Social y allí, en comfama, aprendí los fundamentos, lo básico de Python)\n",
    "\n",
    "¿Conoce si en la Universidad de Antioquia hay medios para poder aprender Swift/XCODE? (Para programar para dispositivos de Apple)\n",
    "5. Debo considerar la metodología ABP, es decir, diseñar las clase bajo la metodología de Aprendizaje Basado en Problemas. \n",
    "\n"
   ]
  },
  {
   "cell_type": "markdown",
   "id": "53cc9115",
   "metadata": {
    "slideshow": {
     "slide_type": "slide"
    }
   },
   "source": [
    "## Agradecimientos  \n",
    "\n",
    "Doy gracias a Dios por la vida de mi Hijo Joseph Cañas Osorio y la madurez que ha alcanzado.\n",
    "\n",
    "Y a mi esposa Yasmira por su apoyo, orientación y acompañamiento. "
   ]
  }
 ],
 "metadata": {
  "celltoolbar": "Slideshow",
  "kernelspec": {
   "display_name": "Python 3 (ipykernel)",
   "language": "python",
   "name": "python3"
  },
  "language_info": {
   "codemirror_mode": {
    "name": "ipython",
    "version": 3
   },
   "file_extension": ".py",
   "mimetype": "text/x-python",
   "name": "python",
   "nbconvert_exporter": "python",
   "pygments_lexer": "ipython3",
   "version": "3.10.12"
  },
  "rise": {
   "enable_chalkboard": true,
   "theme": "sky",
   "transition": "zoom"
  }
 },
 "nbformat": 4,
 "nbformat_minor": 5
}
