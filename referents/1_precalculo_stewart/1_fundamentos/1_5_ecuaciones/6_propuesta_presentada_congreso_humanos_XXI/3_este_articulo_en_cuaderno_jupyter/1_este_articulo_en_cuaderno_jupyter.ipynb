{
 "cells": [
  {
   "cell_type": "markdown",
   "id": "dc06dec7",
   "metadata": {
    "slideshow": {
     "slide_type": "slide"
    }
   },
   "source": [
    "<table align=\"left\">\n",
    "  <td>\n",
    "    <a href=\"https://colab.research.google.com/github/marco-canas/calculo/blob/main/referents/1_precalculo_stewart/1_fundamentos/1_5_ecuaciones/6_propuesta_presentada_congreso_humanos_XXI/3_este_articulo_en_cuaderno_jupyter/1_este_articulo_en_cuaderno_jupyter.ipynb\" target=\"_parent\"><img src=\"https://colab.research.google.com/assets/colab-badge.svg\" alt=\"Open In Colab\"/></a>\n",
    "  </td>\n",
    "  <td>\n",
    "    <a target=\"_blank\" href=\"https://kaggle.com/kernels/welcome?src=https://github.com/marco-canas/calculo/blob/main/referents/1_precalculo_stewart/1_fundamentos/1_5_ecuaciones/6_propuesta_presentada_congreso_humanos_XXI/3_este_articulo_en_cuaderno_jupyter/1_este_articulo_en_cuaderno_jupyter.ipynb\"><img src=\"https://kaggle.com/static/images/open-in-kaggle.svg\" /></a>\n",
    "  </td>\n",
    "</table>"
   ]
  },
  {
   "cell_type": "markdown",
   "id": "e0c5b198",
   "metadata": {
    "slideshow": {
     "slide_type": "slide"
    }
   },
   "source": [
    "### [Video de apoyo a la lectura interactiva y experimental de este cuaderno]()"
   ]
  },
  {
   "cell_type": "code",
   "execution_count": 2,
   "id": "bc0addfe",
   "metadata": {},
   "outputs": [
    {
     "data": {
      "text/plain": [
       "'/home/marco/Documentos/docencia/calculo/referents/1_precalculo_stewart/1_fundamentos/1_5_ecuaciones/6_propuesta_presentada_congreso_humanos_XXI/3_este_articulo_en_cuaderno_jupyter/2_imagenes_y_tablas_de_este_articulo/Resolver Ecuaciones solo observando.pdf'"
      ]
     },
     "execution_count": 2,
     "metadata": {},
     "output_type": "execute_result"
    }
   ],
   "source": [
    "from graphviz import Digraph\n",
    "\n",
    "# Crear un nuevo grafo dirigido\n",
    "dot = Digraph()\n",
    "\n",
    "# Añadir nodos y relaciones al grafo\n",
    "main_concept = 'Resolver Ecuaciones solo observando'\n",
    "dot.node('A', main_concept)\n",
    "dot.node('B', 'Igualdad de Funciones')\n",
    "dot.node('C', 'Función Diferencia de los Lados')\n",
    "dot.node('D', 'Raíces de la Función Diferencia')\n",
    "dot.node('E', 'Soluciones para la Ecuación Original')\n",
    "dot.node('F', 'Verificación de Soluciones')\n",
    "dot.node('G', 'Aplicaciones en Física y Economía')\n",
    "\n",
    "# Añadir conexiones entre los nodos\n",
    "dot.edges(['AB', 'AC'])\n",
    "dot.edge('C', 'D', label='Calcular Raíces')\n",
    "dot.edge('D', 'E', label='Raíces son Soluciones')\n",
    "dot.edge('E', 'F', label='Comprobación')\n",
    "dot.edge('F', 'G', label='Aplicaciones Prácticas')\n",
    "\n",
    "# Guardar el grafo como un archivo de imagen\n",
    "output_path = '/home/marco/Documentos/docencia/calculo/referents/'\\\n",
    "              '1_precalculo_stewart/1_fundamentos/'\\\n",
    "              '1_5_ecuaciones/6_propuesta_presentada_congreso_humanos_XXI/'\\\n",
    "              '3_este_articulo_en_cuaderno_jupyter/'\\\n",
    "              '2_imagenes_y_tablas_de_este_articulo'\n",
    "\n",
    "dot.render(filename=main_concept, format='png', cleanup=True, directory=output_path)\n",
    "\n",
    "# Mostrar el grafo\n",
    "dot.view()\n"
   ]
  },
  {
   "cell_type": "markdown",
   "id": "d8ab9628-e6e7-40d7-90c3-be009ba8d7b1",
   "metadata": {},
   "source": [
    "# Resuelve ecuaciones solo observando.  \n",
    "\n",
    "## Enseñar a resolver ecuaciones desde el concepto de función haciendo uso del lenguaje Python implementado a través de cuadernos Jupyter y las representaciones tabular y gráfica de las funciones, dejando de privilegiar al razonamiento algebraico\n",
    "\n",
    "$\\text{Marco Julio Cañas Campillo}^{1}$  \n",
    "Universidad de Antioquia  \n",
    "Colombia  \n"
   ]
  },
  {
   "cell_type": "markdown",
   "id": "349757b3",
   "metadata": {},
   "source": [
    "## Resumen:  \n",
    "\n",
    "Este artículo aborda la enseñanza de la resolución de ecuaciones a través del concepto de función, utilizando Python y cuadernos Jupyter. Propone un enfoque innovador que se aleja del razonamiento algebraico tradicional, privilegiando la observación, lectura e interpretación de representaciones tabulares y gráficas de funciones. Este enfoque busca mejorar la comprensión conceptual, la motivación de los estudiantes y su capacidad para aplicar la tecnología en el aprendizaje matemático. La implementación se basa en la visualización de funciones de manera tabular gráfica y la identificación de soluciones de ecuaciones mediante gráficos interactivos.\n",
    "\n",
    "### Palabras clave:\n",
    "Resolución de ecuaciones, igualdad de funciones, la función diferencia de los lados de una ecuación, Python, Jupyter Notebooks, representación tabular, visualización gráfica, enseñanza de matemáticas."
   ]
  },
  {
   "cell_type": "markdown",
   "id": "ee355a59",
   "metadata": {},
   "source": [
    "## Abstract:\n",
    "\n",
    "This article addresses the teaching of equation solving through the concept of function, using Python and Jupyter Notebooks. It proposes an innovative approach that moves away from traditional algebraic reasoning, privileging the observation, reading and interpretation of tabular and graphical representations of functions. This approach seeks to improve conceptual understanding, student motivation and their ability to apply technology in mathematical learning. The implementation is based on the visualization of functions in a tabular graphical manner and the identification of equation solutions through interactive graphics.\n",
    "\n",
    "### Keywords:\n",
    "Equation solving, equality of functions, the function difference of the sides of an equation, Python, Jupyter Notebooks, tabular representation, graphical visualization, mathematics teaching."
   ]
  },
  {
   "cell_type": "markdown",
   "id": "444ca9df",
   "metadata": {},
   "source": [
    "## [Video de apoyo a la lectura del resumen](https://www.youtube.com/watch?v=0EN9recY1n8&ab_channel=DiMathData)"
   ]
  },
  {
   "cell_type": "markdown",
   "id": "f4e5be85-b481-4357-b624-5eb8c8b29fca",
   "metadata": {},
   "source": [
    "# 1. Introducción\n",
    "\n",
    "## 1.1 Contextualización del Problema\n"
   ]
  },
  {
   "cell_type": "markdown",
   "id": "176b8cc3",
   "metadata": {},
   "source": [
    "\n",
    "En el Seminario en Didáctica de la Aritmética del semestre 2024-1, impartido a los estudiantes de licenciatura en matemáticas de la Universidad de Antioquia, Campus Caucasia, a un grupo de 15 estudiantes, se han observado una serie de problemas recurrentes en el proceso de enseñanza y aprendizaje de la resolución de ecuaciones en los números reales. Estas dificultades se manifiestan especialmente en el razonamiento algebraico, una habilidad fundamental en el estudio de las matemáticas.\n"
   ]
  },
  {
   "cell_type": "markdown",
   "id": "3190040e",
   "metadata": {},
   "source": [
    "\n",
    "### 1.1.1 Problemas Observados\n",
    "\n",
    "1. **Dificultad con el Razonamiento Algebraico:**   \n",
    "   Muchos estudiantes presentan serias dificultades para comprender y aplicar el razonamiento algebraico. Esto se evidencia en su incapacidad para manipular y simplificar expresiones algebraicas, resolver ecuaciones y entender las propiedades fundamentales de las operaciones algebraicas [1]."
   ]
  },
  {
   "cell_type": "markdown",
   "id": "c76ae9ed-954d-4737-82da-6620a37483c5",
   "metadata": {},
   "source": [
    "2. Desconocimiento del Criterio de la Balanza:\n",
    "   El criterio de la balanza, que establece la equivalencia de ecuaciones cuando una se obtiene de la otra sumando la misma cantidad a ambos lados o multiplicando por la misma cantidad no nula a ambos lados, es desconocido o no utilizado por los estudiantes. Este criterio es esencial para entender la naturaleza de las ecuaciones y su resolución [2]."
   ]
  },
  {
   "cell_type": "markdown",
   "id": "d322bdc9-f65f-4c07-81c4-9295d2d020dd",
   "metadata": {},
   "source": [
    "3. Dificultades con Términos Semejantes:\n",
    "   Identificar y operar con términos semejantes es un desafío para los estudiantes. Esta habilidad es crucial para simplificar ecuaciones y trabajar eficientemente con expresiones algebraicas, y su falta de dominio impide el progreso en la resolución de problemas más complejos [3]."
   ]
  },
  {
   "cell_type": "markdown",
   "id": "2a89d7e2-3d66-4735-bb6d-b17e116d5eb6",
   "metadata": {},
   "source": [
    "4. Problemas con Fracciones Algebraicas:\n",
    "   Los estudiantes muestran dificultades significativas al trabajar con fracciones algebraicas. Identificar, simplificar y operar con fracciones algebraicas y amplificar un grupo de fracciones para convertirlas en homogéneas son competencias necesarias para abordar una amplia gama de problemas matemáticos, y su ausencia limita la capacidad de los estudiantes para avanzar en la solución de ecuaciones matemáticas[4]."
   ]
  },
  {
   "cell_type": "markdown",
   "id": "eee02a28-0081-472c-828f-71142d026dc0",
   "metadata": {},
   "source": [
    "5. Variabilidad de Respuestas y Falta de Motivación:  \n",
    "   Existe una notable variabilidad en las respuestas dentro del grupo, especialmente cuando el procedimiento de resolución de problemas se extiende a 1 o 2 páginas. Además, la falta de motivación para leer el texto guía de manera disciplinada y completar las tareas de entrenamiento se traduce en una preparación inadecuada y un rendimiento inconsistente [5]."
   ]
  },
  {
   "cell_type": "markdown",
   "id": "d3ad2885-c754-45b9-b4fc-c7645c51d1fb",
   "metadata": {},
   "source": [
    "# Propuesta de Innovación Didáctica\n",
    "\n",
    "Para abordar estos problemas, proponemos un enfoque innovador que se centra en enseñar la resolución de ecuaciones desde el concepto de función, utilizando el lenguaje Python implementado a través de cuadernos Jupyter y las representaciones tabular y gráfica de las funciones asociadas a la ecuación. Este enfoque tiene como objetivo:\n"
   ]
  },
  {
   "cell_type": "markdown",
   "id": "f9bed7cc",
   "metadata": {},
   "source": [
    "\n",
    "1. Reforzar la Comprensión Conceptual:  \n",
    "   Vincular el concepto de ecuación con los conceptos de función, de igualdad de funciones asociadas a los lados de una ecuación y de diferencia de funciones de los lados de una ecuación, como base para la resolución de ecuaciones permite a los estudiantes visualizar de manera tabular y gráfica a estas funciones y así entender mejor las ecuaciones como igualdad de funciones o pregunta por los puntos donde, la función diferencia de los lados que forman la ecuación, se anula o se hace cero. Así, El uso de representaciones tabulares y gráficas facilita la solución de ecuaciones en los números reales.[6]"
   ]
  },
  {
   "cell_type": "markdown",
   "id": "b8bbb433",
   "metadata": {},
   "source": [
    "\n",
    "2. Utilizar Python y Jupyter Notebooks:\n",
    "   La implementación de Python a través de Jupyter Notebooks proporciona un entorno interactivo y dinámico para la exploración matemática. Los estudiantes pueden experimentar con ecuaciones, funciones y datos en tiempo real, lo que promueve una comprensión más profunda y una mayor retención del conocimiento [7].\n"
   ]
  },
  {
   "cell_type": "markdown",
   "id": "8b5456a3",
   "metadata": {},
   "source": [
    "\n",
    "3. Integración de la Tecnología en el Aprendizaje:\n",
    "   El uso de tecnología moderna no solo hace que el aprendizaje sea más atractivo, sino que también prepara a los estudiantes para utilizar herramientas computacionales en su futura carrera profesional. La programación en Python y el análisis de datos son habilidades valiosas en el campo de las matemáticas y más allá [8].\n"
   ]
  },
  {
   "cell_type": "markdown",
   "id": "14917e95",
   "metadata": {},
   "source": [
    "\n",
    "4. Promover la Disciplina y la Motivación:\n",
    "   Al involucrar a los estudiantes en actividades prácticas y proyectos interactivos, se fomenta la disciplina y la motivación. La realización de tareas de programación y el análisis de resultados en tiempo real pueden hacer que el aprendizaje sea más relevante y estimulante (Bruner, 1960).\n"
   ]
  },
  {
   "cell_type": "markdown",
   "id": "b137af1b",
   "metadata": {},
   "source": [
    "5. Presentar un procedimiento de solución de ecuaciones que sea aplicable a todas las ecuaciones que se presentan en pregrado. Dado que los métodos algebraicos de solución de ecuaciones dependen del tipo de ecuación a resolver, presentamos un método que es independiente del tipo de ecuación, lo que le facilita al estudiante la solución de ecuaciones, para fomentar el análisis de las soluciones y la toma de decisiones informada, que es lo que se busca al enseñar a plantear y resolver ecuaciones. "
   ]
  },
  {
   "cell_type": "markdown",
   "id": "7bcc68d8",
   "metadata": {},
   "source": [
    "\n",
    "Esta propuesta busca transformar la manera en que se enseña la resolución de ecuaciones, superando las dificultades tradicionales del razonamiento algebraico mediante un enfoque centrado en la función y apoyado en herramientas tecnológicas modernas que faciliten al estudiante el resolver las ecuaciones por observación, lectura o interpretación de las representaciones tabular y gráfica."
   ]
  },
  {
   "cell_type": "markdown",
   "id": "7a384bb0-a8b4-455c-8c46-b8500402fdf1",
   "metadata": {},
   "source": [
    "# Objetivo General:  \n",
    "\n",
    "Presentar una perspectiva alternativa sobre la enseñanza de ecuaciones mediante funciones, utilizando herramientas tecnológicas como Jupyter Notebook y las librerías Sympy, Pandas, Matplotlib, ipywidgets y Plotly de Python, para resolver ecuaciones por inspección, observación, lectura o interpretación de representaciones tabulares y gráficas."
   ]
  },
  {
   "cell_type": "markdown",
   "id": "6b36b8ba-4b79-4a22-8ad4-731ae62db61f",
   "metadata": {},
   "source": [
    "## Objetivos Específicos:\n"
   ]
  },
  {
   "cell_type": "markdown",
   "id": "7a6902ed",
   "metadata": {},
   "source": [
    "1. Explorar el concepto de ecuaciones como comparaciones de funciones:\n",
    "   - Analizar cómo la resolución de ecuaciones implica encontrar puntos del dominio donde dos funciones se igualan en valor.\n"
   ]
  },
  {
   "cell_type": "markdown",
   "id": "e6be84d9",
   "metadata": {},
   "source": [
    "\n",
    "2. Mostrar la utilidad de las representaciones tabulares y gráficas:\n",
    "   - Demostrar cómo las representaciones tabulares y gráficas de funciones permiten a los estudiantes resolver ecuaciones por inspección, lectura o interpretación.\n"
   ]
  },
  {
   "cell_type": "markdown",
   "id": "52698782",
   "metadata": {},
   "source": [
    "\n",
    "3. Incorporar la tecnología en la enseñanza de ecuaciones:\n",
    "   - Utilizar Jupyter Notebooks y Python para crear representaciones visuales de funciones que faciliten la comprensión y resolución de ecuaciones.\n"
   ]
  },
  {
   "cell_type": "markdown",
   "id": "60278362",
   "metadata": {},
   "source": [
    "\n",
    "4. Proponer un modelo de enseñanza de la modelación matemática:\n",
    "   - Desarrollar un enfoque educativo que priorice la enseñanza de la modelación matemática sobre la mera resolución de ecuaciones por métodos algebraicos, enfatizando la importancia actual de plantear modelos matemáticos.\n",
    "  \n"
   ]
  },
  {
   "cell_type": "markdown",
   "id": "77c0e85e",
   "metadata": {},
   "source": [
    "5. Evaluar la efectividad del enfoque propuesto:\n",
    "   - Analizar y reflexionar sobre la efectividad de este enfoque alternativo en la educación matemática, basado en la experiencia docente y resultados prácticos."
   ]
  },
  {
   "cell_type": "markdown",
   "id": "ee8b04af-1239-4e0f-ace8-5a3faa640a47",
   "metadata": {},
   "source": [
    "# Argumentación: La Importancia de la Tecnología en la Educación Matemática\n",
    "\n",
    "La integración de la tecnología en la educación matemática es esencial en el contexto educativo actual. La tecnología no solo facilita el acceso a herramientas avanzadas de cálculo (Sympy de Python) y visualización (Matplotlib y Plotly de Python), sino que también transforma la forma en que los estudiantes interactúan con conceptos matemáticos (Papert, 1980). En particular, el uso de plataformas como Jupyter Notebook y bibliotecas como Sympy, Pandas, Matplotlib y Plotly en Python, abre nuevas oportunidades para la enseñanza y aprendizaje de las matemáticas.\n",
    "\n",
    "Facilitación del Aprendizaje:\n",
    "La tecnología permite a los estudiantes visualizar problemas complejos y entender conceptos abstractos a través de representaciones gráficas y tabulares. Esto es especialmente útil en la resolución de ecuaciones, donde las representaciones visuales pueden ayudar a los estudiantes a identificar soluciones por inspección, lectura o interpretación (Guzman, 2002).\n"
   ]
  },
  {
   "cell_type": "markdown",
   "id": "98a739cb",
   "metadata": {},
   "source": [
    "\n",
    "## Promoción de la Modelación Matemática:\n",
    "La enseñanza tradicional se ha centrado en gran medida en la resolución de ecuaciones, dejando en segundo plano la importante habilidad de plantear modelos matemáticos. Sin embargo, la tecnología permite a los estudiantes desarrollar modelos de problemas reales y resolverlos utilizando herramientas computacionales. Esto no solo prepara a los estudiantes para abordar problemas del mundo real, sino que también les proporciona una comprensión más profunda de los conceptos matemáticos (Borba & Villareal, 2005).\n"
   ]
  },
  {
   "cell_type": "markdown",
   "id": "a1105a16",
   "metadata": {},
   "source": [
    "\n",
    "## Acceso y Manipulación de Datos:\n",
    "Con herramientas como Pandas y Matplotlib, los estudiantes pueden manejar y visualizar grandes conjuntos de datos, lo que es crucial en un mundo cada vez más impulsado por los datos. La capacidad de analizar datos y extraer información relevante es una habilidad valiosa que trasciende el aula y se aplica en numerosas disciplinas y profesiones (Bruner, 1960).\n"
   ]
  },
  {
   "cell_type": "markdown",
   "id": "b54d3b42",
   "metadata": {},
   "source": [
    "\n",
    "## Innovación y Creatividad:\n",
    "La tecnología fomenta la innovación y la creatividad en la resolución de problemas matemáticos. Los estudiantes pueden experimentar con diferentes enfoques y técnicas, desarrollando soluciones innovadoras a problemas complejos. Esto no solo enriquece su aprendizaje, sino que también los prepara para enfrentar los desafíos del futuro (Freire, 1970).\n",
    "\n",
    "En conclusión, la integración de la tecnología en la educación matemática no solo mejora la comprensión y la resolución de problemas, sino que también prepara a los estudiantes para un mundo en el que la tecnología y los datos juegan un papel crucial. En el contexto de este artículo reflexivo, la tecnología permite un enfoque alternativo y efectivo para la enseñanza de ecuaciones, facilitando una comprensión más profunda y práctica de los conceptos matemáticos.\n",
    "\n"
   ]
  },
  {
   "cell_type": "markdown",
   "id": "28edfb0f-061a-4634-8d27-94c47c92e020",
   "metadata": {},
   "source": [
    "# Marco Teórico\n",
    "\n",
    "## Definición de Ecuaciones y Funciones\n",
    "\n",
    "## Relación entre Expresiones Algebraicas y Funciones:\n",
    "\n",
    "Las ecuaciones son comparaciones de expresiones algebraicas que se igualan para encontrar los valores de las variables que satisfacen dicha igualdad. Las funciones, por otro lado, son relaciones entre un conjunto de entrada (dominio) y un conjunto de salida (rango) donde cada entrada está asociada con una única salida. La resolución de ecuaciones a través del enfoque funcional permite utilizar representaciones gráficas y tabulares para identificar soluciones sin necesidad de manipulación algebraica avanzada, facilitando el acceso a la comprensión de conceptos fundamentales.\n"
   ]
  },
  {
   "cell_type": "markdown",
   "id": "8d280723",
   "metadata": {},
   "source": [
    "\n",
    "## Concepto de Igualdad y Diferencia de Funciones:\n",
    "\n",
    "La igualdad de funciones implica que dos funciones producen el mismo valor para cada punto de su dominio común. Esta perspectiva puede ser utilizada para resolver ecuaciones al identificar puntos donde dos funciones se intersectan gráficamente, es decir, donde tienen el mismo valor. Las diferencias entre funciones pueden analizarse gráficamente o mediante tablas para determinar intervalos y puntos específicos donde se cumple la igualdad, permitiendo un enfoque más visual y menos abstracto para los estudiantes.\n"
   ]
  },
  {
   "cell_type": "markdown",
   "id": "38fa7c48",
   "metadata": {},
   "source": [
    "\n",
    "## Aprendizaje Basado en Problemas (ABP)\n",
    "\n",
    "### Justificación del Uso del ABP en la Enseñanza de Matemáticas:\n",
    "\n",
    "El ABP es una metodología pedagógica que se centra en el aprendizaje a través de la resolución de problemas reales. Este enfoque fomenta el pensamiento crítico, la creatividad y la capacidad de aplicar conocimientos teóricos a situaciones prácticas. En el contexto de la enseñanza de ecuaciones mediante funciones, el ABP permite a los estudiantes abordar problemas contextualizados que requieren la interpretación de datos y el uso de herramientas computacionales para encontrar soluciones, promoviendo así una comprensión más profunda y aplicada de los conceptos matemáticos.\n"
   ]
  },
  {
   "cell_type": "markdown",
   "id": "ec51f578",
   "metadata": {},
   "source": [
    "\n",
    "## Justificación de un Enfoque Pedagógico de Aula Invertida:\n",
    "\n",
    "El aula invertida es una estrategia donde los estudiantes interactúan con el material de aprendizaje antes de la clase, a menudo a través de recursos digitales como videos y cuadernos interactivos. Este enfoque es especialmente adecuado para la enseñanza de ecuaciones mediante funciones, ya que permite a los estudiantes explorar y experimentar con representaciones gráficas y tabulares de funciones a su propio ritmo.\n",
    "\n",
    "La utilización de cuadernos Jupyter publicados en repositorios como GitHub, junto con videos de apoyo en plataformas como YouTube (por ejemplo, el canal DiMathData), facilita un aprendizaje autónomo y experimental. Los estudiantes pueden acceder a recursos interactivos que les permiten manipular funciones y observar resultados inmediatos, desarrollando así habilidades prácticas y reforzando su comprensión teórica fuera del entorno tradicional de clase. Esto no solo mejora la accesibilidad y el compromiso, sino que también permite que el tiempo de clase se utilice para la discusión y resolución colaborativa de problemas más complejos.\n"
   ]
  },
  {
   "cell_type": "markdown",
   "id": "b8c50131",
   "metadata": {},
   "source": [
    "\n",
    "## Diferenciación entre el lenguaje algebraico y el lenguaje Python:\n",
    "\n",
    "### Lenguaje Algebraico en Educación Secundaria y Universitaria:\n",
    "\n",
    "En la educación secundaria y universitaria, se enseña el uso del lenguaje algebraico para representar relaciones matemáticas y resolver problemas. Este lenguaje es caracterizado por su concisión y simplicidad. \n",
    "\n",
    "- Simplicidad y Concisión: Las variables en el lenguaje algebraico suelen ser representadas por una sola letra (como  h  para altura,  t  para tiempo, x  e  y para coordenadas, etc.). Esto facilita la escritura y la manipulación de ecuaciones matemáticas, manteniéndolas cortas y directas.\n",
    "\n",
    "- Ejemplo: Una ecuación que describe el movimiento vertical de un objeto bajo la influencia de la gravedad puede ser expresada de manera compacta como:\n",
    "  \n",
    " $$ h = -16t^2 + 800t $$\n",
    "  \n",
    "donde  $h$  representa la altura y  $t$  el tiempo.\n"
   ]
  },
  {
   "cell_type": "markdown",
   "id": "b20fae6c",
   "metadata": {},
   "source": [
    "\n",
    "### Lenguaje Python:\n",
    "\n",
    "Python, por otro lado, es un lenguaje de programación ampliamente utilizado tanto en la enseñanza de programación como en la aplicación práctica de la matemática y la ciencia. Aunque también busca ser fácil de escribir y leer, utiliza convenciones diferentes para la nomenclatura de variables y estructuras.\n",
    "\n",
    "- Abreviaturas y Legibilidad: En Python, las variables suelen tener nombres más descriptivos, aunque abreviados, para mejorar la legibilidad del código y hacerlo más comprensible para otras personas que puedan leerlo. Esta práctica es conocida como \"self-documenting code\" o código autodescriptivo."
   ]
  },
  {
   "cell_type": "markdown",
   "id": "af570baf-aec3-4e23-8ba9-2d4f2abca73f",
   "metadata": {},
   "source": [
    "- Ejemplo: El mismo modelo de lanzamiento vertical se traduciría en Python de la siguiente manera:\n",
    "  `altura = -16 * tiempo**2 + 800 * tiempo`\n",
    "  \n",
    "  Aquí, `altura` y `tiempo` son nombres de variables que, aunque más largos que una sola letra, son intuitivos y hacen que el código sea más fácil de entender para alguien que lo lea, especialmente si no está familiarizado con la notación algebraica específica."
   ]
  },
  {
   "cell_type": "markdown",
   "id": "21c468b9-30b3-4c61-81fb-d71dd26087e1",
   "metadata": {},
   "source": [
    "Comparación y Beneficios de Cada Enfoque:\n",
    "\n",
    "1. Longitud y Complejidad:\n",
    "   - Lenguaje Algebraico: Utiliza notaciones breves, lo que es ventajoso para operaciones matemáticas rápidas y compactas.\n",
    "   - Python: Utiliza nombres de variables más largos y descriptivos, lo que puede aumentar ligeramente la longitud del código, pero mejora la claridad y la comprensión.\n",
    "\n",
    "2. Contexto de Uso:\n",
    "   - Lenguaje Algebraico: Ideal para entornos académicos y teóricos donde la rapidez y la simplicidad en la manipulación de ecuaciones es crucial.\n",
    "   - Python: Ideal para programación y desarrollo de software donde la claridad y la capacidad de mantenimiento del código son esenciales.\n"
   ]
  },
  {
   "cell_type": "markdown",
   "id": "1bc543a6",
   "metadata": {},
   "source": [
    "\n",
    "3. Facilidad de Escritura y Lectura:\n",
    "   - Lenguaje Algebraico: Fácil de escribir rápidamente y manipular algebraicamente, pero puede ser menos claro para alguien que no esté familiarizado con la notación.\n",
    "   - Python: Puede requerir más tiempo para escribir debido a los nombres de variables más largos, pero la claridad resultante facilita la lectura y comprensión por parte de otros.\n",
    "\n",
    "En resumen, mientras que el lenguaje algebraico se destaca por su brevedad y facilidad de manipulación matemática, Python se distingue por su claridad y legibilidad, factores importantes en el desarrollo de software y en la colaboración entre múltiples programadores. Ambos enfoques tienen sus propios méritos y se utilizan en diferentes contextos dependiendo de las necesidades específicas de cada situación."
   ]
  },
  {
   "cell_type": "markdown",
   "id": "4f42b434-30d9-42f8-a7fa-0b80fb2dddcb",
   "metadata": {},
   "source": [
    "# 3. Metodología\n",
    "\n",
    "## Descripción de la implementación en el aula\n",
    "\n",
    "En este apartado, se describirá cómo se implementa la enseñanza de la resolución de ecuaciones a partir del concepto de función, utilizando Python a través de Jupyter Notebooks. La implementación se enfocará en el uso de representaciones tabulares y gráficas para favorecer el entendimiento conceptual sobre el algebraico tradicional.\n"
   ]
  },
  {
   "cell_type": "markdown",
   "id": "f3153e20",
   "metadata": {},
   "source": [
    "\n",
    "### Uso de Jupyter Notebooks y librerías de Python\n",
    "\n",
    "Jupyter Notebooks se utiliza como herramienta central para la enseñanza debido a su capacidad de combinar texto explicativo, código ejecutable y visualizaciones en un único documento interactivo. Las siguientes librerías de Python se integran en las actividades:\n"
   ]
  },
  {
   "cell_type": "markdown",
   "id": "309bfb44",
   "metadata": {},
   "source": [
    "\n",
    "- NumPy: Utilizada para manejar operaciones numéricas y manipulación de arreglos, proporcionando una base sólida para los cálculos necesarios en las actividades.\n",
    "- Pandas: Empleada para la manipulación y análisis de datos tabulares, permitiendo a los estudiantes trabajar con conjuntos de datos y comprender cómo se representan las funciones en forma de tablas.\n",
    "- Matplotlib y Plotly: Estas librerías son utilizadas para la creación de gráficos. Matplotlib ofrece gráficos estáticos y básicos, mientras que Plotly permite la creación de gráficos interactivos, ayudando a los estudiantes a visualizar y explorar funciones y sus soluciones gráficamente.\n",
    "- Ipywidgets: Esta librería se usa para crear widgets interactivos dentro de los cuadernos Jupyter, permitiendo a los estudiantes manipular parámetros de las funciones y observar en tiempo real cómo afectan las soluciones de las ecuaciones."
   ]
  },
  {
   "cell_type": "markdown",
   "id": "3b1598a0-7e95-4259-aabd-82c6eb9a2edc",
   "metadata": {},
   "source": [
    "## Ejemplos de actividades que suponemos ayudaran al aprendizaje de la solución de ecuaciones\n"
   ]
  },
  {
   "cell_type": "markdown",
   "id": "00917b94",
   "metadata": {},
   "source": [
    "\n",
    "- Actividad 1: Introducción a las funciones y su representación algebraica, tabular y gráfica\n",
    "  - Yo como investigador propongo a los estudiantes usar NumPy para definir funciones matemáticas simples, pandas para obtener representaciones tabulares y Matplotlib para graficarlas. Se introduce el concepto de cómo una ecuación puede ser visualizada como una función en un gráfico.\n",
    "  - Ejercicio: \n",
    "       Definir una ecuación a partir del enunciado verbal \"determine todos los números reales cuyo doble **es igual** a su cuadrado\", \n",
    "  - Luego modelo algebraicamente este enunciado verbal a través de una ecuación: \n",
    "    $$ 2x = x^{2} $$ \n",
    "\n",
    "    $$ \\text{encontrar x tal que los lados son iguales} \\iff \\text{funcion diferencia de los lados sea cero} $$\n",
    "\n",
    "  _ Luego defina la función diferencia de los lados de la ecuación anterior\n",
    "  $$ f(x) = 2x - x^{2} $$\n",
    "  - y graficarla. Identificar visualmente la raíz de la función (donde cruza el eje $x$). \n",
    "  - Tome funciones definidas como diferencias para interpretar los ceros de las mismas como puntos donde la diferencia se hace cero, o donde el minuendo es igual al sustraendo. \n"
   ]
  },
  {
   "cell_type": "code",
   "execution_count": 15,
   "id": "57a05e1d",
   "metadata": {},
   "outputs": [],
   "source": [
    "# x: es uno de los números que buscamos \n",
    "# 2x = x^{2}\n",
    "\n",
    "def crear_tabla_de_la_funcion(f,a,b):\n",
    "    import numpy as np \n",
    "    paso = 1\n",
    "    puntos_dominio = np.arange(a, b + paso, paso) # crea la progresión aritmética de puntos del dominio de la función\n",
    "    valores_funcion = f(puntos_dominio) \n",
    "    import pandas as pd \n",
    "    diccionario = {'numeros x': puntos_dominio, r'valores $y$ o $f(x)$': valores_funcion}\n",
    "    return pd.DataFrame(diccionario)\n",
    " \n"
   ]
  },
  {
   "cell_type": "code",
   "execution_count": 17,
   "id": "375c19c9",
   "metadata": {},
   "outputs": [
    {
     "data": {
      "text/html": [
       "<div>\n",
       "<style scoped>\n",
       "    .dataframe tbody tr th:only-of-type {\n",
       "        vertical-align: middle;\n",
       "    }\n",
       "\n",
       "    .dataframe tbody tr th {\n",
       "        vertical-align: top;\n",
       "    }\n",
       "\n",
       "    .dataframe thead th {\n",
       "        text-align: right;\n",
       "    }\n",
       "</style>\n",
       "<table border=\"1\" class=\"dataframe\">\n",
       "  <thead>\n",
       "    <tr style=\"text-align: right;\">\n",
       "      <th></th>\n",
       "      <th>numeros x</th>\n",
       "      <th>valores $y$ o $f(x)$</th>\n",
       "    </tr>\n",
       "  </thead>\n",
       "  <tbody>\n",
       "    <tr>\n",
       "      <th>0</th>\n",
       "      <td>-4</td>\n",
       "      <td>-24</td>\n",
       "    </tr>\n",
       "    <tr>\n",
       "      <th>1</th>\n",
       "      <td>-3</td>\n",
       "      <td>-15</td>\n",
       "    </tr>\n",
       "    <tr>\n",
       "      <th>2</th>\n",
       "      <td>-2</td>\n",
       "      <td>-8</td>\n",
       "    </tr>\n",
       "    <tr>\n",
       "      <th>3</th>\n",
       "      <td>-1</td>\n",
       "      <td>-3</td>\n",
       "    </tr>\n",
       "    <tr>\n",
       "      <th>4</th>\n",
       "      <td>0</td>\n",
       "      <td>0</td>\n",
       "    </tr>\n",
       "    <tr>\n",
       "      <th>5</th>\n",
       "      <td>1</td>\n",
       "      <td>1</td>\n",
       "    </tr>\n",
       "    <tr>\n",
       "      <th>6</th>\n",
       "      <td>2</td>\n",
       "      <td>0</td>\n",
       "    </tr>\n",
       "    <tr>\n",
       "      <th>7</th>\n",
       "      <td>3</td>\n",
       "      <td>-3</td>\n",
       "    </tr>\n",
       "    <tr>\n",
       "      <th>8</th>\n",
       "      <td>4</td>\n",
       "      <td>-8</td>\n",
       "    </tr>\n",
       "  </tbody>\n",
       "</table>\n",
       "</div>"
      ],
      "text/plain": [
       "   numeros x  valores $y$ o $f(x)$\n",
       "0         -4                   -24\n",
       "1         -3                   -15\n",
       "2         -2                    -8\n",
       "3         -1                    -3\n",
       "4          0                     0\n",
       "5          1                     1\n",
       "6          2                     0\n",
       "7          3                    -3\n",
       "8          4                    -8"
      ]
     },
     "execution_count": 17,
     "metadata": {},
     "output_type": "execute_result"
    }
   ],
   "source": [
    "crear_tabla_de_la_funcion(f = lambda x:2*x - x**2, a = -4, b = 4)"
   ]
  },
  {
   "cell_type": "markdown",
   "id": "de3aab3f",
   "metadata": {},
   "source": [
    "Las soluciones de la ecuación son dos a saber: $x = 0$ y $x = 2$. "
   ]
  },
  {
   "cell_type": "code",
   "execution_count": 38,
   "id": "d286cf1c",
   "metadata": {},
   "outputs": [],
   "source": [
    "import pandas as pd\n",
    "from docx import Document\n",
    "\n",
    "# Supongamos que tienes un DataFrame de ejemplo\n",
    "data = diccionario \n",
    "\n",
    "df = pd.DataFrame(data)\n",
    "\n",
    "# Crea un documento de Word\n",
    "doc = Document()\n",
    "\n",
    "# Agrega un título (opcional)\n",
    "doc.add_heading('Representación tabular de la función diferencia Actividad 1', level=1)\n",
    "\n",
    "# Crea una tabla en el documento con el mismo número de filas y columnas que el DataFrame\n",
    "table = doc.add_table(rows=df.shape[0]+1, cols=df.shape[1])\n",
    "\n",
    "# Agrega los encabezados\n",
    "for j, column_name in enumerate(df.columns):\n",
    "    table.cell(0, j).text = column_name\n",
    "\n",
    "# Agrega los datos de las filas\n",
    "for i in range(df.shape[0]):\n",
    "    for j in range(df.shape[1]):\n",
    "        table.cell(i+1, j).text = str(df.iloc[i, j])\n",
    "\n",
    "# Guarda el documento\n",
    "doc.save('/home/marco/Documentos/docencia/calculo/referents/1_precalculo_stewart/1_fundamentos/1_5_ecuaciones/6_propuesta_presentada_congreso_humanos_XXI/3_este_articulo_en_cuaderno_jupyter/2_imagenes_y_tablas_de_este_articulo/tabla_1.docx')\n"
   ]
  },
  {
   "cell_type": "code",
   "execution_count": 18,
   "id": "fcebc444",
   "metadata": {},
   "outputs": [],
   "source": [
    "# diseño de un método que me de la representación gráfica\n",
    "def crear_grafico_funcion_diferencia(f, a, b):\n",
    "    import matplotlib.pyplot as plt \n",
    "    plt.figure(figsize = (6,4))\n",
    "    plt.title('Función diferencia de los lados de la ecuación a resolver')\n",
    "    plt.xlabel('Puntos x')\n",
    "    plt.ylabel('Valores y o f(x)')\n",
    "    plt.grid(alpha = 0.3)\n",
    "    df = crear_tabla_de_la_funcion(f,a,b)\n",
    "    plt.plot(df.iloc[:,0].values, df.iloc[:,1].values, color = 'red') \n",
    "    plt.axhline(y = 0, xmin = a, xmax = b, color = 'green')\n",
    "    #plt.savefig('/home/marco/Documentos/docencia/calculo/referents/1_precalculo_stewart/1_fundamentos/1_5_ecuaciones/6_propuesta_presentada_congreso_humanos_XXI/3_este_articulo_en_cuaderno_jupyter/2_imagenes_y_tablas_de_este_articulo/figura_1_funcion_diferencia_numero_y_su_cuadrado.jpg')\n"
   ]
  },
  {
   "cell_type": "code",
   "execution_count": 19,
   "id": "39e9c0ba",
   "metadata": {},
   "outputs": [
    {
     "data": {
      "image/png": "[encoded data removed]",
      "text/plain": [
       "<Figure size 600x400 with 1 Axes>"
      ]
     },
     "metadata": {},
     "output_type": "display_data"
    }
   ],
   "source": [
    "crear_grafico_funcion_diferencia(f = lambda x:2*x - x**2, a = -4, b = 4)"
   ]
  },
  {
   "cell_type": "code",
   "execution_count": 20,
   "id": "80c5c258",
   "metadata": {},
   "outputs": [
    {
     "name": "stdout",
     "output_type": "stream",
     "text": [
      "   numeros x  valores $y$ o $f(x)$\n",
      "0         -4                   -24\n",
      "1         -3                   -15\n",
      "2         -2                    -8\n",
      "3         -1                    -3\n",
      "4          0                     0\n",
      "5          1                     1\n",
      "6          2                     0\n",
      "7          3                    -3\n",
      "8          4                    -8\n"
     ]
    },
    {
     "data": {
      "image/png": "[encoded data removed]",
      "text/plain": [
       "<Figure size 600x400 with 1 Axes>"
      ]
     },
     "metadata": {},
     "output_type": "display_data"
    }
   ],
   "source": [
    "import numpy as np\n",
    "import pandas as pd\n",
    "import matplotlib.pyplot as plt\n",
    "\n",
    "class FuncionDiferenciaLadosEcuacion:\n",
    "    def __init__(self, f, a, b):\n",
    "        \"\"\"\n",
    "        Inicializa la clase con la función lambda f y los extremos del dominio a y b.\n",
    "        \"\"\"\n",
    "        self.f = f\n",
    "        self.a = a\n",
    "        self.b = b\n",
    "    \n",
    "    def crear_tabla_de_la_funcion(self):\n",
    "        \"\"\"\n",
    "        Crea una tabla con los puntos del dominio de la función y sus valores correspondientes.\n",
    "        \"\"\"\n",
    "        paso = 1\n",
    "        puntos_dominio = np.arange(self.a, self.b + paso, paso)  # Crea una progresión aritmética de puntos del dominio\n",
    "        valores_funcion = self.f(puntos_dominio)  # Evalúa la función en esos puntos\n",
    "        \n",
    "        # Crear DataFrame\n",
    "        diccionario = {'numeros x': puntos_dominio, r'valores $y$ o $f(x)$': valores_funcion}\n",
    "        return pd.DataFrame(diccionario)\n",
    "\n",
    "    def crear_grafico_funcion_diferencia(self):\n",
    "        \"\"\"\n",
    "        Crea un gráfico de la función diferencia de los lados de la ecuación.\n",
    "        \"\"\"\n",
    "        # Configuración básica del gráfico\n",
    "        plt.figure(figsize=(6, 4))\n",
    "        plt.title('Función diferencia de los lados de la ecuación a resolver')\n",
    "        plt.xlabel('Puntos x')\n",
    "        plt.ylabel('Valores y o f(x)')\n",
    "        plt.grid(alpha=0.3)\n",
    "        \n",
    "        # Obtener los datos de la tabla de la función\n",
    "        df = self.crear_tabla_de_la_funcion()\n",
    "        \n",
    "        # Graficar los datos\n",
    "        plt.plot(df.iloc[:, 0].values, df.iloc[:, 1].values, color='red', label=r'$f(x)$')  # Graficar los puntos\n",
    "        plt.axhline(y=0, xmin=self.a, xmax=self.b, color='green', linestyle='--', label='y = 0')  # Línea horizontal en y=0\n",
    "        \n",
    "        # Añadir leyenda y mostrar gráfico\n",
    "        plt.legend()\n",
    "        plt.show()\n",
    "\n",
    "# Ejemplo de uso:\n",
    "f = lambda x: 2 * x - x**2  # Función ejemplo\n",
    "a = -4\n",
    "b = 4\n",
    "\n",
    "# Crear una instancia de la clase\n",
    "funcion = FuncionDiferenciaLadosEcuacion(f, a, b)\n",
    "\n",
    "# Crear la tabla y mostrarla\n",
    "tabla = funcion.crear_tabla_de_la_funcion()\n",
    "print(tabla)\n",
    "\n",
    "# Crear el gráfico\n",
    "funcion.crear_grafico_funcion_diferencia()\n"
   ]
  },
  {
   "cell_type": "code",
   "execution_count": null,
   "id": "20eec109",
   "metadata": {},
   "outputs": [],
   "source": []
  },
  {
   "cell_type": "markdown",
   "id": "250971ea",
   "metadata": {},
   "source": [
    "El gráfico confirma que las soluciones de la ecuación son en $x = 0$ y $x = 2$."
   ]
  },
  {
   "cell_type": "markdown",
   "id": "2ca45220",
   "metadata": {},
   "source": [
    "\\begin{align*}\n",
    "&\\text{Encontrar $x$ tal que los lados de la ecuación son iguales} \\\\\n",
    "&\\iff \\text{Encontrar los $x$ donde la función diferencia de los lados sea cero} \\\\\n",
    "&\\iff \\text{Encontrar los $x$ donde el gráfico de la función diferencia de los lados corta el eje horizontal}\n",
    "\\end{align*}\n"
   ]
  },
  {
   "cell_type": "markdown",
   "id": "94d3a3fd",
   "metadata": {},
   "source": [
    "## Interpretación de la lectura u observación del gráfico \n",
    "\n",
    "La solución de la ecuación es $\\{0, 2\\}$. "
   ]
  },
  {
   "cell_type": "markdown",
   "id": "2adcf140",
   "metadata": {},
   "source": [
    "\n",
    "- ## Actividad 2: Modelar con lenguaje python y lenguaje algebraico, resolver con sympy, Representación tabular y gráfica de funciones\n",
    "  ### Problema\n",
    "  - Actualmente, la edad del padre es tres veces la edad de su hijo. Y dentro de quince años, la edad del padre será el doble de la de su hijo. Determine las edades actuales de ellos.\n",
    "  - Los estudiantes utilizan lenguaje algebraico para modelar la situación  \n",
    "  - Usando Pandas, los estudiantes crean la representación tabular de la función diferencia. Se les enseña a interpretar la tabla para encontrar en ella la solución de la ecuación y a conectar la representación tabular con la gráfica.\n",
    "  - Usando Matplotlib los estudiantes grafican la función diferencia de los lados de la ecuación. Luego se les enseña a resolver el problema a partir de la observación del gráfico.    \n",
    "\n",
    "Veamos la tres maneras de solución de este problema, modelando para luego resolver por observación: \n",
    "\n",
    "Empieza la solución con un proceso de abstracción, es decir, de determinación del mínimo de variables necesarias ppara resolver el problema.  \n",
    "\n",
    "Note que la única variable necesaria es la edad actual del hijo $x$. Pues al tenerla o determinarla, podemos inferir la del padre utilizando la hipótesis de que la de este es tres veces la del hijo.. \n"
   ]
  },
  {
   "cell_type": "code",
   "execution_count": 35,
   "id": "bbb93db0",
   "metadata": {},
   "outputs": [
    {
     "data": {
      "text/latex": [
       "$\\displaystyle 3 x + 15 = 2 x + 30$"
      ],
      "text/plain": [
       "Eq(3*x + 15, 2*x + 30)"
      ]
     },
     "execution_count": 35,
     "metadata": {},
     "output_type": "execute_result"
    }
   ],
   "source": [
    "# importación de las librerías necesarias \n",
    "from sympy import *\n",
    "import numpy as np \n",
    "import pandas as pd  \n",
    "import matplotlib.pyplot as plt \n",
    "\n",
    "# modelación con el lenguaje legible python y ell lenguaje manipulable algebraico\n",
    "edad_actual_hijo = var('x')\n",
    "edad_actual_padre = 3*edad_actual_hijo\n",
    "edad_hijo_quince_años_despues = edad_actual_hijo+15\n",
    "edad_padre_qunce_años_despues = edad_actual_padre+15\n",
    "\n",
    "modelo = Eq(edad_padre_qunce_años_despues, 2*edad_hijo_quince_años_despues)\n",
    "modelo"
   ]
  },
  {
   "cell_type": "code",
   "execution_count": 39,
   "id": "1ef1efeb",
   "metadata": {},
   "outputs": [
    {
     "data": {
      "text/latex": [
       "$\\displaystyle 15$"
      ],
      "text/plain": [
       "15"
      ]
     },
     "execution_count": 39,
     "metadata": {},
     "output_type": "execute_result"
    }
   ],
   "source": [
    "solve(modelo, edad_actual_hijo)[0]"
   ]
  },
  {
   "cell_type": "code",
   "execution_count": 45,
   "id": "fba06335",
   "metadata": {},
   "outputs": [
    {
     "data": {
      "text/html": [
       "<div>\n",
       "<style scoped>\n",
       "    .dataframe tbody tr th:only-of-type {\n",
       "        vertical-align: middle;\n",
       "    }\n",
       "\n",
       "    .dataframe tbody tr th {\n",
       "        vertical-align: top;\n",
       "    }\n",
       "\n",
       "    .dataframe thead th {\n",
       "        text-align: right;\n",
       "    }\n",
       "</style>\n",
       "<table border=\"1\" class=\"dataframe\">\n",
       "  <thead>\n",
       "    <tr style=\"text-align: right;\">\n",
       "      <th></th>\n",
       "      <th>edades actuales posibles del hijo</th>\n",
       "      <th>valores de diferencia de edades dentro de 15 años</th>\n",
       "    </tr>\n",
       "  </thead>\n",
       "  <tbody>\n",
       "    <tr>\n",
       "      <th>0</th>\n",
       "      <td>0</td>\n",
       "      <td>-15</td>\n",
       "    </tr>\n",
       "    <tr>\n",
       "      <th>1</th>\n",
       "      <td>3</td>\n",
       "      <td>-12</td>\n",
       "    </tr>\n",
       "    <tr>\n",
       "      <th>2</th>\n",
       "      <td>6</td>\n",
       "      <td>-9</td>\n",
       "    </tr>\n",
       "    <tr>\n",
       "      <th>3</th>\n",
       "      <td>9</td>\n",
       "      <td>-6</td>\n",
       "    </tr>\n",
       "    <tr>\n",
       "      <th>4</th>\n",
       "      <td>12</td>\n",
       "      <td>-3</td>\n",
       "    </tr>\n",
       "    <tr>\n",
       "      <th>5</th>\n",
       "      <td>15</td>\n",
       "      <td>0</td>\n",
       "    </tr>\n",
       "    <tr>\n",
       "      <th>6</th>\n",
       "      <td>18</td>\n",
       "      <td>3</td>\n",
       "    </tr>\n",
       "    <tr>\n",
       "      <th>7</th>\n",
       "      <td>21</td>\n",
       "      <td>6</td>\n",
       "    </tr>\n",
       "    <tr>\n",
       "      <th>8</th>\n",
       "      <td>24</td>\n",
       "      <td>9</td>\n",
       "    </tr>\n",
       "    <tr>\n",
       "      <th>9</th>\n",
       "      <td>27</td>\n",
       "      <td>12</td>\n",
       "    </tr>\n",
       "    <tr>\n",
       "      <th>10</th>\n",
       "      <td>30</td>\n",
       "      <td>15</td>\n",
       "    </tr>\n",
       "  </tbody>\n",
       "</table>\n",
       "</div>"
      ],
      "text/plain": [
       "    edades actuales posibles del hijo  \\\n",
       "0                                   0   \n",
       "1                                   3   \n",
       "2                                   6   \n",
       "3                                   9   \n",
       "4                                  12   \n",
       "5                                  15   \n",
       "6                                  18   \n",
       "7                                  21   \n",
       "8                                  24   \n",
       "9                                  27   \n",
       "10                                 30   \n",
       "\n",
       "    valores de diferencia de edades dentro de 15 años  \n",
       "0                                                 -15  \n",
       "1                                                 -12  \n",
       "2                                                  -9  \n",
       "3                                                  -6  \n",
       "4                                                  -3  \n",
       "5                                                   0  \n",
       "6                                                   3  \n",
       "7                                                   6  \n",
       "8                                                   9  \n",
       "9                                                  12  \n",
       "10                                                 15  "
      ]
     },
     "execution_count": 45,
     "metadata": {},
     "output_type": "execute_result"
    }
   ],
   "source": [
    "# determinación de progresión geométrica de posibles edades actuales del hijo para explorar\n",
    "a,b = 0,30\n",
    "edades_actuales_posibles_del_hijo = np.arange(a, b+1, 3)\n",
    "# definición de la función diferencia de las edades futuras de padre e hijo\n",
    "lam_funcion_diferencia = lambdify(edad_actual_hijo, \\\n",
    "                              edad_padre_qunce_años_despues - 2*edad_hijo_quince_años_despues)\n",
    "# evaluación de edades del hijo para obtener la diferencia de las edades a los quince años\n",
    "diferencia_de_edades = lam_funcion_diferencia(edades_actuales_posibles_del_hijo)\n",
    "# Contrucción de la representación tabular de la función diferencia de los lados de la ecuación modelo\n",
    "diccionario = {'edades actuales posibles del hijo': edades_actuales_posibles_del_hijo, \\\n",
    "               'valores de diferencia de edades dentro de 15 años':diferencia_de_edades}\n",
    "\n",
    "funcion_en_forma_tabular = pd.DataFrame(diccionario)\n",
    "funcion_en_forma_tabular\n"
   ]
  },
  {
   "cell_type": "code",
   "execution_count": 1,
   "id": "6718367c",
   "metadata": {},
   "outputs": [
    {
     "ename": "NameError",
     "evalue": "name 'diccionario' is not defined",
     "output_type": "error",
     "traceback": [
      "\u001b[0;31m---------------------------------------------------------------------------\u001b[0m",
      "\u001b[0;31mNameError\u001b[0m                                 Traceback (most recent call last)",
      "Cell \u001b[0;32mIn[1], line 7\u001b[0m\n\u001b[1;32m      4\u001b[0m \u001b[38;5;28;01mfrom\u001b[39;00m \u001b[38;5;21;01mdocx\u001b[39;00m \u001b[38;5;28;01mimport\u001b[39;00m Document\n\u001b[1;32m      6\u001b[0m \u001b[38;5;66;03m# Supongamos que tienes un DataFrame de ejemplo\u001b[39;00m\n\u001b[0;32m----> 7\u001b[0m data \u001b[38;5;241m=\u001b[39m \u001b[43mdiccionario\u001b[49m \n\u001b[1;32m      9\u001b[0m df \u001b[38;5;241m=\u001b[39m pd\u001b[38;5;241m.\u001b[39mDataFrame(data)\n\u001b[1;32m     11\u001b[0m \u001b[38;5;66;03m# Crea un documento de Word\u001b[39;00m\n",
      "\u001b[0;31mNameError\u001b[0m: name 'diccionario' is not defined"
     ]
    }
   ],
   "source": [
    "# tabla en formato de archivo .docx\n",
    "\n",
    "import pandas as pd\n",
    "from docx import Document\n",
    "\n",
    "# Supongamos que tienes un DataFrame de ejemplo\n",
    "data = diccionario \n",
    "\n",
    "df = pd.DataFrame(data)\n",
    "\n",
    "# Crea un documento de Word\n",
    "doc = Document()\n",
    "\n",
    "# Agrega un título (opcional)\n",
    "doc.add_heading('Representación tabular de la función diferencia Actividad 2', level=1)\n",
    "\n",
    "# Crea una tabla en el documento con el mismo número de filas y columnas que el DataFrame\n",
    "table = doc.add_table(rows=df.shape[0]+1, cols=df.shape[1])\n",
    "\n",
    "# Agrega los encabezados\n",
    "for j, column_name in enumerate(df.columns):\n",
    "    table.cell(0, j).text = column_name\n",
    "\n",
    "# Agrega los datos de las filas\n",
    "for i in range(df.shape[0]):\n",
    "    for j in range(df.shape[1]):\n",
    "        table.cell(i+1, j).text = str(df.iloc[i, j])\n",
    "\n",
    "# Guarda el documento\n",
    "doc.save('/home/marco/Documentos/docencia/calculo/referents/'\n",
    "         +'1_precalculo_stewart/1_fundamentos/1_5_ecuaciones/6_propuesta_presentada_congreso_humanos_XXI/3_este_articulo_en_cuaderno_jupyter/2_imagenes_y_tablas_de_este_articulo/tabla_2.docx')\n"
   ]
  },
  {
   "cell_type": "code",
   "execution_count": 49,
   "id": "a693e229",
   "metadata": {},
   "outputs": [
    {
     "data": {
      "image/png": "[encoded data removed]",
      "text/plain": [
       "<Figure size 600x400 with 1 Axes>"
      ]
     },
     "metadata": {},
     "output_type": "display_data"
    }
   ],
   "source": [
    "plt.figure(figsize = (6,4))\n",
    "plt.title('Grafico de la función diferencia de los lados')\n",
    "plt.ylabel('Diferencia de edades')\n",
    "plt.xlabel('edad actual del hijo')\n",
    "plt.plot(edades_actuales_posibles_del_hijo, diferencia_de_edades, color = 'red', \\\n",
    "         label = 'Diferencias posibles de edades dentro de quince años')\n",
    "plt.axhline(y = 0, xmin = a, xmax = b, color = 'green')\n",
    "plt.grid(alpha = 0.4)\n",
    "plt.legend()\n",
    "plt.savefig('/home/marco/Documentos/docencia/calculo/referents/1_precalculo_stewart/1_fundamentos/1_5_ecuaciones/6_propuesta_presentada_congreso_humanos_XXI/3_este_articulo_en_cuaderno_jupyter/2_imagenes_y_tablas_de_este_articulo/figura_2.jpg')\n",
    "plt.show()  "
   ]
  },
  {
   "cell_type": "markdown",
   "id": "9ea806b9",
   "metadata": {},
   "source": [
    "\n",
    "- **Actividad 3: Solución de ecuaciones mediante gráficos interactivos**\n",
    "  - Con Ipywidgets y Plotly, los estudiantes interactúan con gráficos de funciones, ajustando parámetros para observar cómo cambian las soluciones de las ecuaciones.\n",
    "  - Ejercicio: Usar un slider para modificar los coeficientes de la ecuación cuadrática $h(x) = ax^2 + bx + c$ y encontrar los valores de  x  que satisfacen  $h(x) = 0$.\n"
   ]
  },
  {
   "cell_type": "markdown",
   "id": "f4feaa27",
   "metadata": {},
   "source": [
    "\n",
    "## Recopilación de datos\n",
    "\n",
    "Para evaluar la efectividad de la metodología implementada, se recopilan datos a través de diferentes medios:\n",
    "\n",
    "- Observaciones en el aula: Se realizan observaciones sistemáticas para documentar el grado de participación de los estudiantes, su nivel de interés y su capacidad para aplicar los conceptos aprendidos.\n",
    "- Cuestionarios y encuestas: Se aplican cuestionarios pre y post intervención para medir el cambio en la comprensión de los estudiantes sobre la resolución de ecuaciones y el uso del concepto de función.\n",
    "- Evaluaciones de desempeño: Se recogen los resultados de los ejercicios y actividades realizados en clase, así como exámenes formales que evalúan la habilidad de los estudiantes para resolver ecuaciones utilizando métodos gráficos y tabulares.\n"
   ]
  },
  {
   "cell_type": "markdown",
   "id": "136e1e9c",
   "metadata": {},
   "source": [
    "\n",
    "# Métodos de evaluación del aprendizaje de los estudiantes\n",
    "\n",
    "Los métodos de evaluación utilizados para medir el aprendizaje de los estudiantes incluyen:\n",
    "\n",
    "- Evaluaciones formativas: A lo largo del curso, se realizan evaluaciones formativas que permiten a los estudiantes recibir retroalimentación continua sobre su progreso. Estas evaluaciones incluyen ejercicios prácticos en los cuadernos Jupyter, quizzes y actividades interactivas.\n",
    "- Evaluaciones sumativas: Al final de cada unidad temática, se realizan evaluaciones sumativas que miden la comprensión integral de los estudiantes sobre los conceptos enseñados. Estas evaluaciones incluyen exámenes escritos y proyectos en los que los estudiantes deben aplicar lo aprendido para resolver problemas complejos.\n",
    "- Autoevaluaciones y coevaluaciones: Se incentiva a los estudiantes a realizar autoevaluaciones y coevaluaciones para reflexionar sobre su propio aprendizaje y proporcionar retroalimentación a sus compañeros, promoviendo un aprendizaje colaborativo y reflexivo.\n",
    "\n",
    "A través de esta metodología, se espera que los estudiantes desarrollen una comprensión profunda y conceptual de la resolución de ecuaciones desde el enfoque de funciones, utilizando las herramientas tecnológicas y las representaciones tabulares y gráficas proporcionadas por Python y Jupyter Notebooks.\n"
   ]
  },
  {
   "cell_type": "markdown",
   "id": "36b8daeb",
   "metadata": {},
   "source": [
    "\n",
    "\n",
    "# Representaciones de Funciones\n",
    "\n",
    "## Tablas y Gráficas\n",
    "\n",
    "Enseñar a resolver ecuaciones desde el concepto de función requiere que los estudiantes comprendan cómo construir y utilizar representaciones tabulares y gráficas de funciones. Esta habilidad no solo facilita la resolución de problemas, sino que también fomenta una comprensión más profunda de las relaciones entre variables. Para lograr este objetivo, se pueden emplear tanto métodos tradicionales (manuscritos) como herramientas computacionales modernas, como pandas, matplotlib, plotly e ipywidgets.\n"
   ]
  },
  {
   "cell_type": "markdown",
   "id": "d73801ac",
   "metadata": {},
   "source": [
    "\n",
    "### Construcción de Representaciones Tabulares y Gráficas de Manera Manuscrita\n",
    "\n",
    "Tradicionalmente, las representaciones tabulares y gráficas de funciones se construyen a mano. Este enfoque sigue siendo valioso porque permite a los estudiantes:\n",
    "- Practicar la mecánica de la creación de tablas de valores.\n",
    "- Visualizar el comportamiento de una función mediante el trazado de puntos en un gráfico cartesiano.\n",
    "- Comprender intuitivamente cómo cambia una función en respuesta a variaciones en la variable independiente.\n",
    "\n",
    "Por ejemplo, para una función de proporcionalidad directa  $y = kx$  donde $k$ es una constante de proporcionalidad, los estudiantes pueden crear una tabla de valores seleccionando diferentes valores de $x$ y calculando los correspondientes valores de $y$. Posteriormente, pueden graficar estos puntos en un plano cartesiano y dibujar la recta resultante.\n",
    "\n",
    "Construcción de Representaciones Tabulares y Gráficas con Pandas, Matplotlib, Plotly e Ipywidgets\n",
    "\n",
    "Las herramientas computacionales ofrecen una forma más eficiente y dinámica de construir representaciones tabulares y gráficas. A continuación, se presentan ejemplos concretos utilizando pandas, matplotlib, plotly e ipywidgets.\n"
   ]
  },
  {
   "cell_type": "markdown",
   "id": "17870ee5",
   "metadata": {},
   "source": [
    "\n",
    "1. Proporcionalidad Directa: Considere la función $y = 3x$. Usando pandas y matplotlib, se puede crear una tabla de valores y graficar la función.\n"
   ]
  },
  {
   "cell_type": "code",
   "execution_count": 1,
   "id": "a8bd42b8",
   "metadata": {},
   "outputs": [
    {
     "data": {
      "image/png": "[encoded data removed]",
      "text/plain": [
       "<Figure size 640x480 with 1 Axes>"
      ]
     },
     "metadata": {},
     "output_type": "display_data"
    }
   ],
   "source": [
    "\n",
    "import pandas as pd\n",
    "import matplotlib.pyplot as plt\n",
    "\n",
    "# Crear una tabla de valores\n",
    "x = range(0, 11)\n",
    "y = [3 * xi for xi in x]\n",
    "tabla = pd.DataFrame({'x': x, 'y': y})\n",
    "tabla\n",
    "\n",
    "# Graficar la función\n",
    "plt.plot(tabla['x'], tabla['y'], marker='o')\n",
    "plt.title('Proporcionalidad Directa: y = 3x')\n",
    "plt.xlabel('x')\n",
    "plt.ylabel('y')\n",
    "plt.grid(True)\n",
    "plt.show()\n",
    "\n"
   ]
  },
  {
   "cell_type": "markdown",
   "id": "f2cd3334",
   "metadata": {},
   "source": [
    "\n",
    "2. **Funciones Lineales**: Considere la función $y = x + 1$. Usando plotly para una visualización interactiva.\n"
   ]
  },
  {
   "cell_type": "code",
   "execution_count": 7,
   "id": "d351f1d5",
   "metadata": {},
   "outputs": [
    {
     "data": {
      "application/vnd.plotly.v1+json": {
       "config": {
        "plotlyServerURL": "https://plot.ly"
       },
       "data": [
        {
         "mode": "lines+markers",
         "type": "scatter",
         "x": [
          -4,
          -3,
          -2,
          -1,
          0,
          1,
          2,
          3,
          4
         ],
         "y": [
          -3,
          -2,
          -1,
          0,
          1,
          2,
          3,
          4,
          5
         ]
        }
       ],
       "layout": {
        "template": {
         "data": {
          "bar": [
           {
            "error_x": {
             "color": "#2a3f5f"
            },
            "error_y": {
             "color": "#2a3f5f"
            },
            "marker": {
             "line": {
              "color": "#E5ECF6",
              "width": 0.5
             },
             "pattern": {
              "fillmode": "overlay",
              "size": 10,
              "solidity": 0.2
             }
            },
            "type": "bar"
           }
          ],
          "barpolar": [
           {
            "marker": {
             "line": {
              "color": "#E5ECF6",
              "width": 0.5
             },
             "pattern": {
              "fillmode": "overlay",
              "size": 10,
              "solidity": 0.2
             }
            },
            "type": "barpolar"
           }
          ],
          "carpet": [
           {
            "aaxis": {
             "endlinecolor": "#2a3f5f",
             "gridcolor": "white",
             "linecolor": "white",
             "minorgridcolor": "white",
             "startlinecolor": "#2a3f5f"
            },
            "baxis": {
             "endlinecolor": "#2a3f5f",
             "gridcolor": "white",
             "linecolor": "white",
             "minorgridcolor": "white",
             "startlinecolor": "#2a3f5f"
            },
            "type": "carpet"
           }
          ],
          "choropleth": [
           {
            "colorbar": {
             "outlinewidth": 0,
             "ticks": ""
            },
            "type": "choropleth"
           }
          ],
          "contour": [
           {
            "colorbar": {
             "outlinewidth": 0,
             "ticks": ""
            },
            "colorscale": [
             [
              0,
              "#0d0887"
             ],
             [
              0.1111111111111111,
              "#46039f"
             ],
             [
              0.2222222222222222,
              "#7201a8"
             ],
             [
              0.3333333333333333,
              "#9c179e"
             ],
             [
              0.4444444444444444,
              "#bd3786"
             ],
             [
              0.5555555555555556,
              "#d8576b"
             ],
             [
              0.6666666666666666,
              "#ed7953"
             ],
             [
              0.7777777777777778,
              "#fb9f3a"
             ],
             [
              0.8888888888888888,
              "#fdca26"
             ],
             [
              1,
              "#f0f921"
             ]
            ],
            "type": "contour"
           }
          ],
          "contourcarpet": [
           {
            "colorbar": {
             "outlinewidth": 0,
             "ticks": ""
            },
            "type": "contourcarpet"
           }
          ],
          "heatmap": [
           {
            "colorbar": {
             "outlinewidth": 0,
             "ticks": ""
            },
            "colorscale": [
             [
              0,
              "#0d0887"
             ],
             [
              0.1111111111111111,
              "#46039f"
             ],
             [
              0.2222222222222222,
              "#7201a8"
             ],
             [
              0.3333333333333333,
              "#9c179e"
             ],
             [
              0.4444444444444444,
              "#bd3786"
             ],
             [
              0.5555555555555556,
              "#d8576b"
             ],
             [
              0.6666666666666666,
              "#ed7953"
             ],
             [
              0.7777777777777778,
              "#fb9f3a"
             ],
             [
              0.8888888888888888,
              "#fdca26"
             ],
             [
              1,
              "#f0f921"
             ]
            ],
            "type": "heatmap"
           }
          ],
          "heatmapgl": [
           {
            "colorbar": {
             "outlinewidth": 0,
             "ticks": ""
            },
            "colorscale": [
             [
              0,
              "#0d0887"
             ],
             [
              0.1111111111111111,
              "#46039f"
             ],
             [
              0.2222222222222222,
              "#7201a8"
             ],
             [
              0.3333333333333333,
              "#9c179e"
             ],
             [
              0.4444444444444444,
              "#bd3786"
             ],
             [
              0.5555555555555556,
              "#d8576b"
             ],
             [
              0.6666666666666666,
              "#ed7953"
             ],
             [
              0.7777777777777778,
              "#fb9f3a"
             ],
             [
              0.8888888888888888,
              "#fdca26"
             ],
             [
              1,
              "#f0f921"
             ]
            ],
            "type": "heatmapgl"
           }
          ],
          "histogram": [
           {
            "marker": {
             "pattern": {
              "fillmode": "overlay",
              "size": 10,
              "solidity": 0.2
             }
            },
            "type": "histogram"
           }
          ],
          "histogram2d": [
           {
            "colorbar": {
             "outlinewidth": 0,
             "ticks": ""
            },
            "colorscale": [
             [
              0,
              "#0d0887"
             ],
             [
              0.1111111111111111,
              "#46039f"
             ],
             [
              0.2222222222222222,
              "#7201a8"
             ],
             [
              0.3333333333333333,
              "#9c179e"
             ],
             [
              0.4444444444444444,
              "#bd3786"
             ],
             [
              0.5555555555555556,
              "#d8576b"
             ],
             [
              0.6666666666666666,
              "#ed7953"
             ],
             [
              0.7777777777777778,
              "#fb9f3a"
             ],
             [
              0.8888888888888888,
              "#fdca26"
             ],
             [
              1,
              "#f0f921"
             ]
            ],
            "type": "histogram2d"
           }
          ],
          "histogram2dcontour": [
           {
            "colorbar": {
             "outlinewidth": 0,
             "ticks": ""
            },
            "colorscale": [
             [
              0,
              "#0d0887"
             ],
             [
              0.1111111111111111,
              "#46039f"
             ],
             [
              0.2222222222222222,
              "#7201a8"
             ],
             [
              0.3333333333333333,
              "#9c179e"
             ],
             [
              0.4444444444444444,
              "#bd3786"
             ],
             [
              0.5555555555555556,
              "#d8576b"
             ],
             [
              0.6666666666666666,
              "#ed7953"
             ],
             [
              0.7777777777777778,
              "#fb9f3a"
             ],
             [
              0.8888888888888888,
              "#fdca26"
             ],
             [
              1,
              "#f0f921"
             ]
            ],
            "type": "histogram2dcontour"
           }
          ],
          "mesh3d": [
           {
            "colorbar": {
             "outlinewidth": 0,
             "ticks": ""
            },
            "type": "mesh3d"
           }
          ],
          "parcoords": [
           {
            "line": {
             "colorbar": {
              "outlinewidth": 0,
              "ticks": ""
             }
            },
            "type": "parcoords"
           }
          ],
          "pie": [
           {
            "automargin": true,
            "type": "pie"
           }
          ],
          "scatter": [
           {
            "fillpattern": {
             "fillmode": "overlay",
             "size": 10,
             "solidity": 0.2
            },
            "type": "scatter"
           }
          ],
          "scatter3d": [
           {
            "line": {
             "colorbar": {
              "outlinewidth": 0,
              "ticks": ""
             }
            },
            "marker": {
             "colorbar": {
              "outlinewidth": 0,
              "ticks": ""
             }
            },
            "type": "scatter3d"
           }
          ],
          "scattercarpet": [
           {
            "marker": {
             "colorbar": {
              "outlinewidth": 0,
              "ticks": ""
             }
            },
            "type": "scattercarpet"
           }
          ],
          "scattergeo": [
           {
            "marker": {
             "colorbar": {
              "outlinewidth": 0,
              "ticks": ""
             }
            },
            "type": "scattergeo"
           }
          ],
          "scattergl": [
           {
            "marker": {
             "colorbar": {
              "outlinewidth": 0,
              "ticks": ""
             }
            },
            "type": "scattergl"
           }
          ],
          "scattermapbox": [
           {
            "marker": {
             "colorbar": {
              "outlinewidth": 0,
              "ticks": ""
             }
            },
            "type": "scattermapbox"
           }
          ],
          "scatterpolar": [
           {
            "marker": {
             "colorbar": {
              "outlinewidth": 0,
              "ticks": ""
             }
            },
            "type": "scatterpolar"
           }
          ],
          "scatterpolargl": [
           {
            "marker": {
             "colorbar": {
              "outlinewidth": 0,
              "ticks": ""
             }
            },
            "type": "scatterpolargl"
           }
          ],
          "scatterternary": [
           {
            "marker": {
             "colorbar": {
              "outlinewidth": 0,
              "ticks": ""
             }
            },
            "type": "scatterternary"
           }
          ],
          "surface": [
           {
            "colorbar": {
             "outlinewidth": 0,
             "ticks": ""
            },
            "colorscale": [
             [
              0,
              "#0d0887"
             ],
             [
              0.1111111111111111,
              "#46039f"
             ],
             [
              0.2222222222222222,
              "#7201a8"
             ],
             [
              0.3333333333333333,
              "#9c179e"
             ],
             [
              0.4444444444444444,
              "#bd3786"
             ],
             [
              0.5555555555555556,
              "#d8576b"
             ],
             [
              0.6666666666666666,
              "#ed7953"
             ],
             [
              0.7777777777777778,
              "#fb9f3a"
             ],
             [
              0.8888888888888888,
              "#fdca26"
             ],
             [
              1,
              "#f0f921"
             ]
            ],
            "type": "surface"
           }
          ],
          "table": [
           {
            "cells": {
             "fill": {
              "color": "#EBF0F8"
             },
             "line": {
              "color": "white"
             }
            },
            "header": {
             "fill": {
              "color": "#C8D4E3"
             },
             "line": {
              "color": "white"
             }
            },
            "type": "table"
           }
          ]
         },
         "layout": {
          "annotationdefaults": {
           "arrowcolor": "#2a3f5f",
           "arrowhead": 0,
           "arrowwidth": 1
          },
          "autotypenumbers": "strict",
          "coloraxis": {
           "colorbar": {
            "outlinewidth": 0,
            "ticks": ""
           }
          },
          "colorscale": {
           "diverging": [
            [
             0,
             "#8e0152"
            ],
            [
             0.1,
             "#c51b7d"
            ],
            [
             0.2,
             "#de77ae"
            ],
            [
             0.3,
             "#f1b6da"
            ],
            [
             0.4,
             "#fde0ef"
            ],
            [
             0.5,
             "#f7f7f7"
            ],
            [
             0.6,
             "#e6f5d0"
            ],
            [
             0.7,
             "#b8e186"
            ],
            [
             0.8,
             "#7fbc41"
            ],
            [
             0.9,
             "#4d9221"
            ],
            [
             1,
             "#276419"
            ]
           ],
           "sequential": [
            [
             0,
             "#0d0887"
            ],
            [
             0.1111111111111111,
             "#46039f"
            ],
            [
             0.2222222222222222,
             "#7201a8"
            ],
            [
             0.3333333333333333,
             "#9c179e"
            ],
            [
             0.4444444444444444,
             "#bd3786"
            ],
            [
             0.5555555555555556,
             "#d8576b"
            ],
            [
             0.6666666666666666,
             "#ed7953"
            ],
            [
             0.7777777777777778,
             "#fb9f3a"
            ],
            [
             0.8888888888888888,
             "#fdca26"
            ],
            [
             1,
             "#f0f921"
            ]
           ],
           "sequentialminus": [
            [
             0,
             "#0d0887"
            ],
            [
             0.1111111111111111,
             "#46039f"
            ],
            [
             0.2222222222222222,
             "#7201a8"
            ],
            [
             0.3333333333333333,
             "#9c179e"
            ],
            [
             0.4444444444444444,
             "#bd3786"
            ],
            [
             0.5555555555555556,
             "#d8576b"
            ],
            [
             0.6666666666666666,
             "#ed7953"
            ],
            [
             0.7777777777777778,
             "#fb9f3a"
            ],
            [
             0.8888888888888888,
             "#fdca26"
            ],
            [
             1,
             "#f0f921"
            ]
           ]
          },
          "colorway": [
           "#636efa",
           "#EF553B",
           "#00cc96",
           "#ab63fa",
           "#FFA15A",
           "#19d3f3",
           "#FF6692",
           "#B6E880",
           "#FF97FF",
           "#FECB52"
          ],
          "font": {
           "color": "#2a3f5f"
          },
          "geo": {
           "bgcolor": "white",
           "lakecolor": "white",
           "landcolor": "#E5ECF6",
           "showlakes": true,
           "showland": true,
           "subunitcolor": "white"
          },
          "hoverlabel": {
           "align": "left"
          },
          "hovermode": "closest",
          "mapbox": {
           "style": "light"
          },
          "paper_bgcolor": "white",
          "plot_bgcolor": "#E5ECF6",
          "polar": {
           "angularaxis": {
            "gridcolor": "white",
            "linecolor": "white",
            "ticks": ""
           },
           "bgcolor": "#E5ECF6",
           "radialaxis": {
            "gridcolor": "white",
            "linecolor": "white",
            "ticks": ""
           }
          },
          "scene": {
           "xaxis": {
            "backgroundcolor": "#E5ECF6",
            "gridcolor": "white",
            "gridwidth": 2,
            "linecolor": "white",
            "showbackground": true,
            "ticks": "",
            "zerolinecolor": "white"
           },
           "yaxis": {
            "backgroundcolor": "#E5ECF6",
            "gridcolor": "white",
            "gridwidth": 2,
            "linecolor": "white",
            "showbackground": true,
            "ticks": "",
            "zerolinecolor": "white"
           },
           "zaxis": {
            "backgroundcolor": "#E5ECF6",
            "gridcolor": "white",
            "gridwidth": 2,
            "linecolor": "white",
            "showbackground": true,
            "ticks": "",
            "zerolinecolor": "white"
           }
          },
          "shapedefaults": {
           "line": {
            "color": "#2a3f5f"
           }
          },
          "ternary": {
           "aaxis": {
            "gridcolor": "white",
            "linecolor": "white",
            "ticks": ""
           },
           "baxis": {
            "gridcolor": "white",
            "linecolor": "white",
            "ticks": ""
           },
           "bgcolor": "#E5ECF6",
           "caxis": {
            "gridcolor": "white",
            "linecolor": "white",
            "ticks": ""
           }
          },
          "title": {
           "x": 0.05
          },
          "xaxis": {
           "automargin": true,
           "gridcolor": "white",
           "linecolor": "white",
           "ticks": "",
           "title": {
            "standoff": 15
           },
           "zerolinecolor": "white",
           "zerolinewidth": 2
          },
          "yaxis": {
           "automargin": true,
           "gridcolor": "white",
           "linecolor": "white",
           "ticks": "",
           "title": {
            "standoff": 15
           },
           "zerolinecolor": "white",
           "zerolinewidth": 2
          }
         }
        },
        "title": {
         "text": "Función Lineal: y = 2x + 1"
        },
        "xaxis": {
         "title": {
          "text": "x"
         }
        },
        "yaxis": {
         "title": {
          "text": "y"
         }
        }
       }
      }
     },
     "metadata": {},
     "output_type": "display_data"
    }
   ],
   "source": [
    "\n",
    "import plotly.graph_objs as go\n",
    "# Crear una tabla de valores\n",
    "x = range(-4, 5)\n",
    "y = [xi + 1 for xi in x]\n",
    "tabla = pd.DataFrame({'x': x, 'y': y})\n",
    "\n",
    "# Graficar la función\n",
    "fig = go.Figure(data=go.Scatter(x=tabla['x'], y=tabla['y'], mode='lines+markers'))\n",
    "fig.update_layout(title='Función Lineal: y = 2x + 1', xaxis_title='x', yaxis_title='y')\n",
    "fig.show()\n",
    "\n"
   ]
  },
  {
   "cell_type": "markdown",
   "id": "8e3f297c",
   "metadata": {},
   "source": [
    "\n",
    "3. Funciones Cuadráticas: Considere la función y = -x^2 + 4x + 5. Usando ipywidgets para una visualización interactiva con un deslizador.\n"
   ]
  },
  {
   "cell_type": "code",
   "execution_count": null,
   "id": "c9e2bd80",
   "metadata": {},
   "outputs": [],
   "source": [
    "\n",
    "import numpy as np\n",
    "import ipywidgets as widgets\n",
    "from IPython.display import display\n",
    "\n",
    "# Función cuadrática\n",
    "def cuadratica(x):\n",
    "    return -x**2 + 4*x + 5\n",
    "\n",
    "# Valores de x\n",
    "x = np.linspace(-2, 6, 100)\n",
    "y = cuadratica(x)\n",
    "\n",
    "    # Crear el gráfico interactivo\n",
    "    def actualizar_grafico(a, b, c):\n",
    "        y = a*x**2 + b*x + c\n",
    "        plt.figure(figsize=(8, 6))\n",
    "        plt.plot(x, y, label=f'y = {a}x^2 + {b}x + {c}')\n",
    "        plt.xlabel('x')\n",
    "        plt.ylabel('y')\n",
    "        plt.title('Función Cuadrática')\n",
    "        plt.legend()\n",
    "        plt.grid(True)\n",
    "        plt.show()\n",
    "\n",
    "    # Deslizadores para los coeficientes\n",
    "    a_slider = widgets.FloatSlider(value=-1, min=-10, max=10, step=0.1, description='a:')\n",
    "    b_slider = widgets.FloatSlider(value=4, min=-10, max=10, step=0.1, description='b:')\n",
    "    c_slider = widgets.FloatSlider(value=5, min=-10, max=10, step=0.1, description='c:')\n",
    "    widgets.interactive_output(actualizar_grafico, {'a': a_slider, 'b': b_slider, 'c': c_slider})\n",
    "    display(a_slider, b_slider, c_slider)\n"
   ]
  },
  {
   "cell_type": "markdown",
   "id": "f70ee8b6",
   "metadata": {},
   "source": [
    "\n",
    "# Interpretación de Representaciones Algebraicas, Tabulares y Gráficas\n",
    "\n",
    "El siguiente paso en la enseñanza de funciones es ayudar a los estudiantes a leer e interpretar las representaciones algebraicas, tabulares y gráficas de una función. Este proceso implica:\n",
    "- **Lectura de Tablas**: Entender cómo se relacionan los valores de entrada y salida de una función.\n",
    "- **Interpretación de Gráficas**: Analizar las características de una gráfica, como interceptos, pendientes, máximos y mínimos.\n",
    "- **Comparación con Expresiones Algebraicas**: Relacionar la forma de la gráfica con la estructura de la expresión algebraica de la función.\n",
    "\n",
    "Por ejemplo, al observar una tabla de valores para una función cuadrática, los estudiantes pueden identificar el vértice y la dirección de apertura de la parábola. Al analizar la gráfica, pueden confirmar estos hallazgos visualmente y relacionarlos con los coeficientes de la expresión algebraica.\n"
   ]
  },
  {
   "cell_type": "markdown",
   "id": "46515d4b",
   "metadata": {},
   "source": [
    "\n",
    "### Comparaciones entre Diferentes Tipos de Funciones\n",
    "\n",
    "Finalmente, es importante que los estudiantes sean capaces de comparar diferentes tipos de funciones, como funciones lineales, cuadráticas y de proporcionalidad directa. Estas comparaciones pueden incluir:\n",
    "- **Forma de las Gráficas**: Líneas rectas para funciones lineales versus curvas para funciones cuadráticas.\n",
    "- **Comportamiento Asintótico**: Cómo se comportan las funciones cuando \\( x \\) tiende a infinito.\n",
    "- **Características Especiales**: Como los vértices de las parábolas o las pendientes constantes de las rectas.\n",
    "\n",
    "A través de la práctica con estas representaciones y comparaciones, los estudiantes desarrollarán una comprensión más rica y robusta de las funciones, lo que les permitirá resolver ecuaciones de manera más eficaz y versátil.\n",
    "\n"
   ]
  },
  {
   "cell_type": "markdown",
   "id": "7cce4cc2",
   "metadata": {},
   "source": [
    "\n",
    "\n",
    "## Resolución de Ecuaciones\n",
    "\n",
    "### Metodología para Resolver Ecuaciones\n",
    "\n",
    "En el contexto de enseñar a resolver ecuaciones desde el concepto de función, se propone una metodología que se centra en la identificación de los puntos donde dos funciones son iguales. Este enfoque permite a los estudiantes visualizar el problema de la resolución de ecuaciones de una manera más intuitiva y gráfica.\n"
   ]
  },
  {
   "cell_type": "markdown",
   "id": "33281984",
   "metadata": {},
   "source": [
    "\n",
    "### Enfoque en la Identificación de Puntos donde las Funciones son Iguales\n",
    "\n",
    "Para resolver una ecuación del tipo  $f(x) = g(x)$, el objetivo es encontrar los valores de $x$ donde las funciones $f$ y $g$ se intersectan. Esto se puede hacer de manera efectiva utilizando representaciones tabulares y gráficas. La metodología incluye los siguientes pasos:\n",
    "\n",
    "1. Definir las Funciones: Especificar las funciones  f(x) y $g(x)$ que se van a comparar.\n",
    "2. Generar Tablas de Valores: Crear tablas de valores para \\( f(x) \\) y \\( g(x) \\) utilizando pandas.\n",
    "3. Graficar las Funciones: Utilizar matplotlib y plotly para trazar las gráficas de f(x) y \\( g(x) \\).\n",
    "4. Identificar Intersecciones: Analizar las gráficas para encontrar los puntos de intersección, que corresponden a los valores de $x$ que satisfacen la ecuación \\( f(x) = g(x) \\).\n"
   ]
  },
  {
   "cell_type": "markdown",
   "id": "2d447ac9",
   "metadata": {},
   "source": [
    "\n",
    "## Ejemplos Prácticos Utilizando Python para Resolver Ecuaciones Lineales y No Lineales\n",
    "\n",
    "### Ejemplo 1: Ecuación Lineal\n",
    "\n",
    "Considere la ecuación  $2x + 3 = 5$. Esta ecuación puede ser interpretada como la igualdad de dos funciones: $f(x) = 2x + 3$ y $g(x) = 5$.\n"
   ]
  },
  {
   "cell_type": "markdown",
   "id": "c4143127",
   "metadata": {},
   "source": [
    "\n",
    "import numpy as np\n",
    "import pandas as pd\n",
    "import matplotlib.pyplot as plt\n",
    "\n",
    "# Definir las funciones\n",
    "def f(x):\n",
    "    return 2 * x + 3\n",
    "\n",
    "def g(x):\n",
    "    return 5\n",
    "\n",
    "# Generar tabla de valores\n",
    "x_values = np.linspace(-10, 10, 400)\n",
    "f_values = f(x_values)\n",
    "g_values = g(x_values)\n",
    "\n",
    "tabla = pd.DataFrame({'x': x_values, 'f(x)': f_values, 'g(x)': g_values})\n",
    "print(tabla.head())\n",
    "\n",
    "# Graficar las funciones\n",
    "plt.plot(x_values, f_values, label='f(x) = 2x + 3')\n",
    "plt.axhline(y=5, color='r', linestyle='-', label='g(x) = 5')\n",
    "plt.xlabel('x')\n",
    "plt.ylabel('y')\n",
    "plt.title('Resolución de Ecuaciones Lineales')\n",
    "plt.legend()\n",
    "plt.grid(True)\n",
    "plt.show()\n",
    "\n",
    "Ejemplo 2: Ecuación No Lineal\n",
    "\n",
    "Considere la ecuación x^2 - 4 = 0. Esta ecuación puede ser interpretada como la igualdad de dos funciones: f(x) = x^2 \\) y \\( g(x) = 4.\n",
    "\n",
    "# Definir las funciones\n",
    "def f(x):\n",
    "    return x**2\n",
    "\n",
    "def g(x):\n",
    "    return 4\n",
    "\n",
    "# Generar tabla de valores\n",
    "x_values = np.linspace(-3, 3, 400)\n",
    "f_values = f(x_values)\n",
    "g_values = g(x_values)\n",
    "\n",
    "tabla = pd.DataFrame({'x': x_values, 'f(x)': f_values, 'g(x)': g_values})\n",
    "print(tabla.head())\n",
    "\n",
    "# Graficar las funciones\n",
    "plt.plot(x_values, f_values, label='f(x) = x^2')\n",
    "plt.axhline(y=4, color='r', linestyle='-', label='g(x) = 4')\n",
    "plt.xlabel('x')\n",
    "plt.ylabel('y')\n",
    "plt.title('Resolución de Ecuaciones No Lineales')\n",
    "plt.legend()\n",
    "plt.grid(True)\n",
    "plt.show()\n",
    "```\n",
    "\n",
    "Tener en Cuenta que para este Artículo Reflexivo, las Ecuaciones son Preguntas Asociadas a Igualdad de Funciones o Valores de Funciones\n",
    "\n",
    "Es fundamental enfatizar que en este artículo reflexivo, las ecuaciones se consideran preguntas sobre la igualdad de funciones o valores de funciones. Este enfoque ayuda a los estudiantes a visualizar el problema de la resolución de ecuaciones desde una perspectiva más conceptual y menos algebraica.\n",
    "\n",
    "Interacción con el Software\n",
    "\n",
    "El uso de herramientas de Python no solo facilita la construcción de tablas y gráficas, sino que también permite una interacción más dinámica con los problemas. Los estudiantes pueden utilizar interfaces interactivas para ajustar los parámetros de las funciones y observar cómo cambian las soluciones.\n",
    "\n",
    "Ejemplos de Cómo las Herramientas de Python Ayudan en la Visualización y Solución de Problemas\n",
    "\n",
    "Interactividad con Ipywidgets\n",
    "\n",
    "import ipywidgets as widgets\n",
    "from IPython.display import display\n",
    "\n",
    "# Función cuadrática\n",
    "def cuadratica(a, b, c):\n",
    "    return a*x_values**2 + b*x_values + c\n",
    "\n",
    "# Crear el gráfico interactivo\n",
    "def actualizar_grafico(a, b, c):\n",
    "    y = cuadratica(a, b, c)\n",
    "    plt.figure(figsize=(8, 6))\n",
    "    plt.plot(x_values, y, label=f'y = {a}x^2 + {b}x + {c}')\n",
    "    plt.axhline(y=0, color='r', linestyle='--', label='y = 0')\n",
    "    plt.xlabel('x')\n",
    "    plt.ylabel('y')\n",
    "    plt.title('Interacción con Ecuaciones Cuadráticas')\n",
    "    plt.legend()\n",
    "    plt.grid(True)\n",
    "    plt.show()\n",
    "\n",
    "# Deslizadores para los coeficientes\n",
    "a_slider = widgets.FloatSlider(value=1, min=-10, max=10, step=0.1, description='a:')\n",
    "b_slider = widgets.FloatSlider(value=0, min=-10, max=10, step=0.1, description='b:')\n",
    "c_slider = widgets.FloatSlider(value=-4, min=-10, max=10, step=0.1, description='c:')\n",
    "widgets.interactive_output(actualizar_grafico, {'a': a_slider, 'b': b_slider, 'c': c_slider})\n",
    "display(a_slider, b_slider, c_slider)\n",
    "\n",
    "A través de estos ejemplos, los estudiantes pueden interactuar directamente con los gráficos y ver cómo los cambios en los parámetros afectan la solución de las ecuaciones. Esto no solo facilita la comprensión conceptual, sino que también hace que el aprendizaje sea más atractivo y dinámico.\n",
    "\n",
    "La combinación de métodos tradicionales y herramientas modernas de Python en Jupyter Notebooks proporciona a los estudiantes una experiencia integral que mejora su capacidad para resolver ecuaciones desde el concepto de función."
   ]
  },
  {
   "cell_type": "markdown",
   "id": "616b9e81-1201-45e6-94fe-e09356d98c52",
   "metadata": {},
   "source": [
    "# Reflexiones y Resultados\n",
    "\n",
    "## Análisis de la Experiencia en el Aula\n",
    "\n",
    "### Resultados que se Espera Observar en el Aprendizaje de los Estudiantes\n"
   ]
  },
  {
   "cell_type": "markdown",
   "id": "fd4604ad",
   "metadata": {},
   "source": [
    "\n",
    "La implementación de la enseñanza de ecuaciones desde el concepto de función, utilizando Jupyter Notebooks y Python, se espera que genere varios resultados positivos en el aprendizaje de los estudiantes:\n"
   ]
  },
  {
   "cell_type": "markdown",
   "id": "fd662db9",
   "metadata": {},
   "source": [
    "\n",
    "1. Comprensión Intuitiva de Funciones: Los estudiantes desarrollarán una comprensión más intuitiva de las funciones a través de representaciones gráficas y tabulares. Visualizar cómo cambian las funciones les permitirá entender mejor conceptos abstractos.\n",
    "   \n",
    "2. Habilidades de Resolución de Problemas: La capacidad de resolver ecuaciones utilizando herramientas computacionales fomentará habilidades prácticas en resolución de problemas. Los estudiantes estarán mejor equipados para abordar problemas complejos de la vida real.\n",
    "\n",
    "3. Engagement y Motivación: El uso de tecnología interactiva como Jupyter Notebooks y herramientas visuales de Python puede aumentar el interés y la motivación de los estudiantes. La interactividad y visualización hacen que el aprendizaje sea más dinámico y atractivo.\n"
   ]
  },
  {
   "cell_type": "markdown",
   "id": "ef8332ce",
   "metadata": {},
   "source": [
    "\n",
    "4. Reducción de la Ansiedad Matemática: Al ofrecer múltiples formas de abordar problemas (más allá del razonamiento algebraico tradicional), los estudiantes pueden encontrar métodos que se adapten mejor a sus estilos de aprendizaje, reduciendo la ansiedad y el rechazo hacia las matemáticas.\n"
   ]
  },
  {
   "cell_type": "markdown",
   "id": "0ac521ba",
   "metadata": {},
   "source": [
    "\n",
    "## Beneficios de Utilizar Representaciones Gráficas y Tabulares\n",
    "\n",
    "El uso de representaciones gráficas y tabulares presenta varios beneficios significativos, especialmente en comparación con el enfoque exclusivo en el lenguaje algebraico:\n",
    "\n",
    "1. Accesibilidad y Claridad: Las gráficas y tablas hacen que la información sea más accesible y clara. Los estudiantes pueden ver visualmente la relación entre variables y entender cómo una función se comporta en diferentes intervalos.\n",
    "\n",
    "2. Visualización de Soluciones: Identificar puntos de intersección en gráficos facilita la comprensión de soluciones de ecuaciones. Los estudiantes pueden ver directamente dónde dos funciones se cruzan, lo cual es más intuitivo que resolver ecuaciones algebraicamente.\n",
    "\n",
    "3. Aplicación en Problemas Reales: Las representaciones gráficas y tabulares son herramientas poderosas para abordar problemas reales. Los estudiantes pueden modelar y analizar situaciones del mundo real, como el movimiento de proyectiles, la economía, y la biología, de manera más efectiva.\n",
    "\n",
    "4. Desarrollo de Habilidades Computacionales: El uso de Python y Jupyter Notebooks no solo enseña matemáticas, sino también habilidades valiosas en programación y análisis de datos, preparándolos mejor para el futuro académico y profesional.\n"
   ]
  },
  {
   "cell_type": "markdown",
   "id": "36ce5f82",
   "metadata": {},
   "source": [
    "\n",
    "# Desafíos Enfrentados\n",
    "\n",
    "## Posibles Dificultades en la Implementación\n",
    "\n",
    "A pesar de los numerosos beneficios, la implementación de esta metodología también puede enfrentar varios desafíos:\n",
    "\n",
    "1. Curva de Aprendizaje Tecnológica: Para algunos estudiantes, especialmente aquellos con poca experiencia en programación, puede haber una curva de aprendizaje significativa para familiarizarse con Python y Jupyter Notebooks. Será crucial proporcionar apoyo adicional y recursos para estos estudiantes.\n",
    "\n",
    "2. Resistencia al Cambio: Algunos estudiantes y profesores pueden ser reacios a alejarse del enfoque tradicional centrado en el álgebra. Es necesario un esfuerzo consciente para demostrar los beneficios del nuevo enfoque y cómo puede complementar las técnicas algebraicas tradicionales.\n",
    "\n",
    "3. Acceso a Tecnología: La disponibilidad y el acceso a computadoras y software puede ser un obstáculo en algunas instituciones. Es importante asegurar que todos los estudiantes tengan acceso a las herramientas necesarias para participar plenamente en el curso.\n",
    "\n",
    "4. Evaluación de Aprendizaje: Evaluar el aprendizaje de los estudiantes puede ser más complejo cuando se utilizan métodos no tradicionales. Será necesario desarrollar nuevas estrategias y métricas para medir efectivamente el progreso y la comprensión de los estudiantes.\n"
   ]
  },
  {
   "cell_type": "markdown",
   "id": "40b911d5",
   "metadata": {},
   "source": [
    "\n",
    "## Respuesta de los Estudiantes\n",
    "\n",
    "La respuesta de los estudiantes puede variar, y es crucial estar preparado para abordar cualquier desafío que surja:\n",
    "\n",
    "1. Diversidad de Estilos de Aprendizaje: Reconocer que los estudiantes tienen diferentes estilos de aprendizaje y adaptarse a ellos es fundamental. Proporcionar recursos adicionales, como tutoriales en video y sesiones de práctica, puede ayudar a aquellos que necesiten más tiempo para adaptarse.\n",
    "\n",
    "2. Feedback Continuo: Recopilar y actuar sobre el feedback de los estudiantes de manera continua permitirá ajustar la metodología según sea necesario. Esto puede incluir cambios en el ritmo de la clase, la forma de presentación del material y el nivel de soporte técnico proporcionado.\n",
    "\n",
    "3. Motivación y Participación: Fomentar un ambiente de apoyo y colaboración puede mejorar la motivación y participación de los estudiantes. Incluir actividades de grupo y proyectos colaborativos puede ayudar a mantener el interés y el compromiso.\n",
    "\n",
    "En resumen, aunque la implementación de esta metodología presenta desafíos, los beneficios potenciales en términos de comprensión, habilidades prácticas y motivación de los estudiantes justifican el esfuerzo. Con una planificación cuidadosa y un enfoque adaptable, es posible superar estos desafíos y proporcionar una experiencia educativa enriquecedora y efectiva.\n",
    "\n"
   ]
  },
  {
   "cell_type": "markdown",
   "id": "7545471b",
   "metadata": {},
   "source": [
    "\n",
    "\n",
    "## Conclusiones\n",
    "\n",
    "### Síntesis de lo Esperado con la Implementación de esta propuesta\n",
    "\n",
    "La implementación de la enseñanza de ecuaciones desde la perspectiva de funciones utilizando Python y Jupyter Notebooks se espera que transforme significativamente la comprensión y habilidades de los estudiantes en matemáticas. Esta propuesta permite que los estudiantes:\n",
    "\n",
    "1. Comprendan Profundamente las Funciones: Al enfocarse en la representación gráfica y tabular de funciones, los estudiantes desarrollan una comprensión más profunda e intuitiva de las funciones y sus propiedades.\n",
    "2. Mejoren sus Habilidades de Resolución de Problemas: La capacidad de visualizar y analizar funciones mediante herramientas computacionales fomenta habilidades prácticas y aplicadas en la resolución de problemas.\n",
    "3. Reduzcan la Ansiedad Matemática: Al proporcionar métodos alternativos al razonamiento algebraico tradicional, los estudiantes pueden encontrar enfoques más accesibles y menos intimidantes para resolver ecuaciones.\n",
    "4. Desarrollen Habilidades Tecnológicas: La integración de Python y Jupyter Notebooks en el aula no solo enriquece el aprendizaje matemático, sino que también prepara a los estudiantes con habilidades tecnológicas valiosas para su futuro académico y profesional.\n",
    "\n",
    "## Recomendaciones para Futuros Docentes\n",
    "\n",
    "Para maximizar los beneficios de esta propuesta, se recomiendan las siguientes estrategias para futuros docentes:\n"
   ]
  },
  {
   "cell_type": "markdown",
   "id": "be9b67f9",
   "metadata": {},
   "source": [
    "\n",
    "## Estrategias para Integrar Tecnología y el Concepto de Función como Relación entre Variables en el Aula\n",
    "\n",
    "1. Capacitación en Herramientas Tecnológicas: Es esencial que los docentes se familiaricen y se capaciten en el uso de Python y Jupyter Notebooks. Ofrecer talleres y cursos de actualización puede ser una buena forma de lograrlo.\n",
    "2. Uso de Ejemplos Concretos: Incorporar ejemplos concretos y relevantes que conecten la teoría matemática con aplicaciones del mundo real. Esto ayuda a los estudiantes a ver la utilidad y aplicación práctica del material que están aprendiendo.\n",
    "3. Enfoque Interactivo y Colaborativo: Fomentar un ambiente de aprendizaje interactivo y colaborativo donde los estudiantes puedan trabajar en proyectos y actividades grupales utilizando herramientas tecnológicas.\n"
   ]
  },
  {
   "cell_type": "markdown",
   "id": "5afd5daa",
   "metadata": {},
   "source": [
    "\n",
    "### Estrategias para Elaborar la Representación Tabular\n"
   ]
  },
  {
   "cell_type": "markdown",
   "id": "c8e2b947",
   "metadata": {},
   "source": [
    "\n",
    "De Manera Manuscrita:\n",
    "1. Organización Clara: Asegurarse de que las tablas manuscritas estén organizadas de manera clara y lógica, con encabezados bien definidos para cada columna.\n",
    "2. Incluir Ejemplos Prácticos: Realizar ejercicios en clase donde los estudiantes creen tablas de valores para diferentes funciones, asegurándose de que comprendan el proceso de cálculo y organización de datos.\n",
    "\n",
    "En Cuadernos Jupyter:\n",
    "1. Uso de Pandas: Enseñar a los estudiantes a utilizar la librería pandas para crear y manipular tablas de valores. Proporcionar ejemplos y ejercicios prácticos.\n"
   ]
  },
  {
   "cell_type": "code",
   "execution_count": 32,
   "id": "36db4915",
   "metadata": {},
   "outputs": [
    {
     "data": {
      "text/html": [
       "<div>\n",
       "<style scoped>\n",
       "    .dataframe tbody tr th:only-of-type {\n",
       "        vertical-align: middle;\n",
       "    }\n",
       "\n",
       "    .dataframe tbody tr th {\n",
       "        vertical-align: top;\n",
       "    }\n",
       "\n",
       "    .dataframe thead th {\n",
       "        text-align: right;\n",
       "    }\n",
       "</style>\n",
       "<table border=\"1\" class=\"dataframe\">\n",
       "  <thead>\n",
       "    <tr style=\"text-align: right;\">\n",
       "      <th></th>\n",
       "      <th>x</th>\n",
       "      <th>f(x)</th>\n",
       "    </tr>\n",
       "  </thead>\n",
       "  <tbody>\n",
       "    <tr>\n",
       "      <th>0</th>\n",
       "      <td>-4</td>\n",
       "      <td>12</td>\n",
       "    </tr>\n",
       "    <tr>\n",
       "      <th>1</th>\n",
       "      <td>-3</td>\n",
       "      <td>5</td>\n",
       "    </tr>\n",
       "    <tr>\n",
       "      <th>2</th>\n",
       "      <td>-2</td>\n",
       "      <td>0</td>\n",
       "    </tr>\n",
       "    <tr>\n",
       "      <th>3</th>\n",
       "      <td>-1</td>\n",
       "      <td>-3</td>\n",
       "    </tr>\n",
       "    <tr>\n",
       "      <th>4</th>\n",
       "      <td>0</td>\n",
       "      <td>-4</td>\n",
       "    </tr>\n",
       "  </tbody>\n",
       "</table>\n",
       "</div>"
      ],
      "text/plain": [
       "   x  f(x)\n",
       "0 -4    12\n",
       "1 -3     5\n",
       "2 -2     0\n",
       "3 -1    -3\n",
       "4  0    -4"
      ]
     },
     "execution_count": 32,
     "metadata": {},
     "output_type": "execute_result"
    }
   ],
   "source": [
    "   \n",
    "import pandas as pd\n",
    "import numpy as np\n",
    "\n",
    "   # Definir la función\n",
    "def f(x):\n",
    "    return x**2 - 4\n",
    "\n",
    "# Generar tabla de valores\n",
    "x_values = np.arange(-4, 4, 1)\n",
    "f_values = f(x_values)\n",
    "tabla = pd.DataFrame({'x': x_values, 'f(x)': f_values})\n",
    "tabla.head()\n",
    " "
   ]
  },
  {
   "cell_type": "code",
   "execution_count": 33,
   "id": "e7a051e3",
   "metadata": {},
   "outputs": [],
   "source": [
    "import pandas as pd\n",
    "from docx import Document\n",
    "from docx.shared import Pt\n",
    "from docx.enum.text import WD_ALIGN_PARAGRAPH\n",
    "\n",
    "df = tabla\n",
    "\n",
    "# Crear el archivo de Word\n",
    "doc = Document()\n",
    "\n",
    "# Agregar título de la tabla según IEEE (normalmente con estilo 'Tabla I')\n",
    "titulo = doc.add_paragraph('Tabla 10')\n",
    "titulo.alignment = WD_ALIGN_PARAGRAPH.CENTER\n",
    "\n",
    "# Crear tabla en el archivo Word\n",
    "table = doc.add_table(rows=df.shape[0]+1, cols=df.shape[1])\n",
    "\n",
    "# Dar formato a la tabla según IEEE\n",
    "table.style = 'Table Grid'  # Esto añade bordes a la tabla\n",
    "\n",
    "# Agregar los encabezados a la tabla\n",
    "for i, col in enumerate(df.columns):\n",
    "    cell = table.cell(0, i)\n",
    "    cell.text = col\n",
    "    cell.paragraphs[0].runs[0].bold = True  # Poner el encabezado en negrita\n",
    "    cell.paragraphs[0].alignment = WD_ALIGN_PARAGRAPH.CENTER\n",
    "\n",
    "# Llenar la tabla con los datos del DataFrame\n",
    "for i in range(df.shape[0]):\n",
    "    for j in range(df.shape[1]):\n",
    "        table.cell(i+1, j).text = str(df.iloc[i, j])\n",
    "        table.cell(i+1, j).paragraphs[0].alignment = WD_ALIGN_PARAGRAPH.CENTER\n",
    "\n",
    "# Ajustar el tamaño de la fuente a 10 pt según normas IEEE\n",
    "for row in table.rows:\n",
    "    for cell in row.cells:\n",
    "        for paragraph in cell.paragraphs:\n",
    "            for run in paragraph.runs:\n",
    "                run.font.size = Pt(10)\n",
    "\n",
    "# Guardar el archivo .docx\n",
    "doc.save('/home/marco/Documentos/docencia/calculo/referents/1_precalculo_stewart/'\\\n",
    "         +'1_fundamentos/1_5_ecuaciones/6_propuesta_presentada_congreso_humanos_XXI/3_este_articulo_en_cuaderno_jupyter/'\\\n",
    "            +'2_imagenes_y_tablas_de_este_articulo/tabla_10.docx')\n"
   ]
  },
  {
   "cell_type": "markdown",
   "id": "1ef0d4c2",
   "metadata": {},
   "source": [
    "  \n",
    "\n",
    "## Estrategias para Elaborar la Representación Gráfica\n",
    "\n",
    "De Manera Manuscrita:\n",
    "1. Ejes y Escalas Claras: Asegurarse de que los gráficos manuscritos tengan ejes y escalas claramente etiquetadas. Esto ayuda a los estudiantes a interpretar los gráficos de manera correcta.\n",
    "2. Uso de Diferentes Colores: Utilizar diferentes colores para distinguir entre múltiples funciones en un mismo gráfico. Esto facilita la comparación y el análisis visual.\n",
    "\n",
    "En Cuadernos Jupyter:\n",
    "1. Uso de Matplotlib y Plotly: Enseñar a los estudiantes a utilizar matplotlib y plotly para crear gráficos interactivos y visualmente atractivos.\n"
   ]
  },
  {
   "cell_type": "code",
   "execution_count": 22,
   "id": "b22f9f03",
   "metadata": {},
   "outputs": [
    {
     "data": {
      "image/png": "[encoded data removed]",
      "text/plain": [
       "<Figure size 400x200 with 1 Axes>"
      ]
     },
     "metadata": {},
     "output_type": "display_data"
    }
   ],
   "source": [
    "import numpy as np    \n",
    "import matplotlib.pyplot as plt\n",
    "\n",
    "# Graficar la función\n",
    "plt.figure(figsize = (4,2))\n",
    "incremento = 0.2\n",
    "x_values = np.arange(-4,4+incremento, incremento)\n",
    "def f(x):\n",
    "    return x**2-4\n",
    "f_values = f(x_values)\n",
    "plt.plot(x_values, f_values, label='f(x) = x^2 - 4')\n",
    "plt.axhline(y=0, color='r', linestyle='--', label='y = 0')\n",
    "plt.xlabel('x')\n",
    "plt.ylabel('y')\n",
    "plt.title('Gráfico de la Función f(x)')\n",
    "plt.legend()\n",
    "plt.grid(True)\n",
    "plt.savefig('/home/marco/Documentos/docencia/calculo/'\\\n",
    "            +'referents/1_precalculo_stewart/1_fundamentos/1_5_ecuaciones'\\\n",
    "                +'/6_propuesta_presentada_congreso_humanos_XXI/3_este_articulo_en_cuaderno_jupyter'\\\n",
    "                    +'/2_imagenes_y_tablas_de_este_articulo/figura_9.jpg')\n",
    "plt.show()\n"
   ]
  },
  {
   "cell_type": "markdown",
   "id": "3f0a12aa",
   "metadata": {},
   "source": [
    "   \n",
    "2. Incorporar Ipywidgets: Utilizar ipywidgets para crear gráficos interactivos que permitan a los estudiantes explorar cómo los cambios en los parámetros afectan la función.\n"
   ]
  },
  {
   "cell_type": "code",
   "execution_count": 1,
   "id": "afbadc34",
   "metadata": {},
   "outputs": [
    {
     "data": {
      "application/vnd.jupyter.widget-view+json": {
       "model_id": "d4e7730f70014ae58cb8a33eda958846",
       "version_major": 2,
       "version_minor": 0
      },
      "text/plain": [
       "interactive(children=(IntSlider(value=0, description='a', max=10, min=-10), IntSlider(value=0, description='b'…"
      ]
     },
     "metadata": {},
     "output_type": "display_data"
    },
    {
     "data": {
      "text/plain": [
       "<function __main__.actualizar_grafico(a, b, c)>"
      ]
     },
     "execution_count": 1,
     "metadata": {},
     "output_type": "execute_result"
    }
   ],
   "source": [
    "import matplotlib.pyplot as plt \n",
    "import numpy as np\n",
    "from ipywidgets import interact\n",
    "\n",
    "def actualizar_grafico(a, b, c):\n",
    "    x_values = np.arange(-10, 10, 0.1)\n",
    "    y = a*x_values**2 + b*x_values + c\n",
    "    plt.figure(figsize=(4, 2))\n",
    "    plt.plot(x_values, y, label=f'y = {a}x^2 + {b}x + {c}')\n",
    "    plt.axhline(y=0, color='r', linestyle='--', label='y = 0')\n",
    "    plt.xlabel('x')\n",
    "    plt.ylabel('y')\n",
    "    plt.title('Interacción con Ecuaciones Cuadráticas')\n",
    "    plt.legend()\n",
    "    plt.grid(True)\n",
    "    plt.axis([-6,6, -50, 50])\n",
    "    plt.savefig('/home/marco/Documentos/docencia/calculo/referents/1_precalculo_stewart/1_fundamentos/1_5_ecuaciones/6_propuesta_presentada_congreso_humanos_XXI/3_este_articulo_en_cuaderno_jupyter/2_imagenes_y_tablas_de_este_articulo/'\\\n",
    "                +'figura_10_experimentar_con_los_parametros_de_una_funcion_cuadratica.jpg')\n",
    "    plt.show()\n",
    "\n",
    "interact(actualizar_grafico, a = (-10, 10),b = (-10, 10), c = (-10, 10) )\n",
    "   \n"
   ]
  },
  {
   "cell_type": "markdown",
   "id": "a5d8cc6f",
   "metadata": {},
   "source": [
    "\n",
    "Estas recomendaciones y estrategias pueden ayudar a futuros docentes a implementar de manera efectiva la enseñanza de ecuaciones desde el concepto de función, aprovechando al máximo las herramientas tecnológicas y fomentando un aprendizaje más profundo y significativo en sus estudiantes.\n"
   ]
  },
  {
   "cell_type": "markdown",
   "id": "83b53d06",
   "metadata": {},
   "source": [
    "\n",
    "# REFERENCIAS  \n"
   ]
  },
  {
   "cell_type": "markdown",
   "id": "3c07f28c",
   "metadata": {},
   "source": [
    "\n",
    "[1]  Gasco-Txabarri, J. (2017). La resolución de problemas aritmético-algebraicos y las estrategias de aprendizaje en matemáticas. Un estudio en educación secundaria obligatoria (ESO). *Revista Latinoamericana de Investigación en Matemática Educativa, 20*(2), 167-192. Recuperado de: https://www.redalyc.org/journal/335/33552356003/33552356003.pdf  \n"
   ]
  },
  {
   "cell_type": "markdown",
   "id": "c441e5d1",
   "metadata": {},
   "source": [
    "[2] A. V. Maldonado Rodríguez, \"Estrategia didáctica basada en la caracterización de errores para desarrollar el pensamiento variacional en la solución de ecuaciones de primer grado con una incógnita en estudiantes de grado octavo de la Institución Educativa Santa Ana de San Sebastián de Mariquita,\" 2018. [Online]. Available: https://repository.ut.edu.co/server/api/core/bitstreams/81fe53d7-c581-4bd4-af6e-2b3a99e6e8c0/content\n"
   ]
  },
  {
   "cell_type": "markdown",
   "id": "b933d99b",
   "metadata": {},
   "source": [
    "[3] Aguhayon, H., Tingson, R., & Pentang, J. (2023). Addressing students learning gaps in mathematics through differentiated instruction. International Journal of Educational Management and Development Studies, 4(1), 69-87. Available: https://papers.ssrn.com/sol3/papers.cfm?abstract_id=4390130"
   ]
  },
  {
   "cell_type": "markdown",
   "id": "aa5b88cf",
   "metadata": {},
   "source": [
    "\n",
    "[4] Brousseau, G. (1986). Fundamentos y métodos de la Didáctica de la Matemática. Recherches en didactique des mathematiques, 7(2), 33-115.  "
   ]
  },
  {
   "cell_type": "markdown",
   "id": "99813e0d",
   "metadata": {},
   "source": [
    "[5] Brousseau, G. (2007). Iniciación al estudio de la teoría de las situaciones didácticas/Introduction to study the theory of didactic situations: didáctico/didactic to algebra study (Vol. 7). Libros del Zorzal.  \n"
   ]
  },
  {
   "cell_type": "markdown",
   "id": "62425561",
   "metadata": {},
   "source": [
    "[6] Guzman, M. (2002). *The Role of Visualization in the Teaching and Learning of Mathematical Analysis*. In A. Bishop et al. (Eds.), *Second International Handbook of Mathematics Education* (pp. 695-718). Springer.\n"
   ]
  },
  {
   "cell_type": "markdown",
   "id": "aa234608",
   "metadata": {},
   "source": [
    "[7] Barba, L. A., Barker, L. J., Blank, D. S., Brown, J., Downey, A. B., George, T., ... & Zingale, M. (2019). Teaching and learning with Jupyter. Recuperado: https://jupyter4edu. github. io/jupyter-edu-book, 1-77."
   ]
  },
  {
   "cell_type": "markdown",
   "id": "9d7ea307",
   "metadata": {},
   "source": [
    "[8] A. P. Gilakjani, \"A Review of the Literature on the Integration of Technology into the Learning and Teaching of English Language Skills,\" International Journal of English Linguistics, vol. 7, no. 5, pp. 95-106, 2017. DOI: 10.5539/ijel.v7n5p95."
   ]
  },
  {
   "cell_type": "markdown",
   "id": "ac81d90b",
   "metadata": {},
   "source": [
    "[9] Román, Ó. C., & Gaitero, Ó. G. (2017). El aprendizaje autorregulado y las estrategias de aprendizaje. Tendencias pedagógicas, (30), 117-130. Available: https://dialnet.unirioja.es/servlet/articulo?codigo=6164822 "
   ]
  },
  {
   "cell_type": "markdown",
   "id": "401d5537",
   "metadata": {},
   "source": [
    "[10] J. L. García, Estadística para Negocios, 1a ed., [Online]. Available: https://gc.scalahed.com/recursos/files/r157r/w13117w/Estad%20para%20Neg_1aEd_02.pdf. [Accessed: 08-Sep-2024]."
   ]
  },
  {
   "cell_type": "markdown",
   "id": "53cc9115",
   "metadata": {
    "slideshow": {
     "slide_type": "slide"
    }
   },
   "source": [
    "## Agradecimientos  \n",
    "\n",
    "Doy gracias a Dios por la vida de mi Hijo Joseph Cañas Osorio y la madurez que ha alcanzado.\n",
    "\n",
    "Y a mi esposa Yasmira por su apoyo, orientación y acompañamiento. "
   ]
  }
 ],
 "metadata": {
  "celltoolbar": "Slideshow",
  "kernelspec": {
   "display_name": "Python 3",
   "language": "python",
   "name": "python3"
  },
  "language_info": {
   "codemirror_mode": {
    "name": "ipython",
    "version": 3
   },
   "file_extension": ".py",
   "mimetype": "text/x-python",
   "name": "python",
   "nbconvert_exporter": "python",
   "pygments_lexer": "ipython3",
   "version": "3.12.7"
  },
  "rise": {
   "enable_chalkboard": true,
   "theme": "sky",
   "transition": "zoom"
  }
 },
 "nbformat": 4,
 "nbformat_minor": 5
}
