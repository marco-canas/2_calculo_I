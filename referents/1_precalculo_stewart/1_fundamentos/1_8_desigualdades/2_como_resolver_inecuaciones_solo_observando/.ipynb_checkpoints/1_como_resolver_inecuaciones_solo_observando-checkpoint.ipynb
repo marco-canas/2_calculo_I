{
 "cells": [
  {
   "cell_type": "markdown",
   "id": "dc06dec7",
   "metadata": {
    "slideshow": {
     "slide_type": "slide"
    }
   },
   "source": [
    "<table align=\"left\">\n",
    "  <td>\n",
    "    <a href=\"https://colab.research.google.com/github/ageron/handson-ml3/blob/main/tools_numpy.ipynb\" target=\"_parent\"><img src=\"https://colab.research.google.com/assets/colab-badge.svg\" alt=\"Open In Colab\"/></a>\n",
    "  </td>\n",
    "  <td>\n",
    "    <a target=\"_blank\" href=\"https://kaggle.com/kernels/welcome?src=https://github.com/ageron/handson-ml3/blob/main/tools_numpy.ipynb\"><img src=\"https://kaggle.com/static/images/open-in-kaggle.svg\" /></a>\n",
    "  </td>\n",
    "</table>"
   ]
  },
  {
   "cell_type": "markdown",
   "id": "e0c5b198",
   "metadata": {
    "slideshow": {
     "slide_type": "slide"
    }
   },
   "source": [
    "### [Video de apoyo a la lectura interactiva y experimental de este cuaderno]()"
   ]
  },
  {
   "cell_type": "markdown",
   "id": "41e82203",
   "metadata": {
    "slideshow": {
     "slide_type": "slide"
    }
   },
   "source": [
    "## [Vínculo al programa del curso:  ]()\n",
    "\n"
   ]
  },
  {
   "cell_type": "markdown",
   "id": "d11ab06d",
   "metadata": {
    "slideshow": {
     "slide_type": "slide"
    }
   },
   "source": [
    "Un reconocimiento a mis estudiantes que han construido conmigo este saber pedagógico:\n",
    "\n",
    "<img src = ''> \n",
    "\n"
   ]
  },
  {
   "cell_type": "markdown",
   "id": "2d83c6e2",
   "metadata": {},
   "source": [
    "Reconocimiento a las profesoras destacadas en enseñanza de la matemática en Colombia\n",
    "\n",
    "Aquí tienes algunas mujeres destacadas en Colombia en la enseñanza de la matemática, junto con una breve biografía de cada una:\n",
    "\n",
    "### **1. **María Teresa Ruiz**\n",
    "\n",
    "**Biografía:**\n",
    "María Teresa Ruiz es una matemática y educadora colombiana reconocida por su trabajo en la enseñanza de las matemáticas en niveles básicos y superiores. Se ha destacado por su compromiso con la mejora de la educación matemática en Colombia y por su contribución a la formación de futuros docentes. Ruiz ha trabajado en diversas instituciones educativas y ha participado en proyectos educativos para la reforma de la enseñanza de las matemáticas en el país.\n",
    "<img src = 'https://c.files.bbci.co.uk/7407/production/_97630792_mtruizenalma.jpg'>\n"
   ]
  },
  {
   "cell_type": "markdown",
   "id": "3cfe90e6",
   "metadata": {},
   "source": [
    "### **2. **Catalina Botero**\n",
    "\n",
    "**Biografía:**\n",
    "Catalina Botero es una matemática y profesora colombiana con una sólida trayectoria en el campo de la educación matemática. Ha sido parte de varias iniciativas para mejorar la calidad de la enseñanza de las matemáticas en Colombia, incluyendo la creación de recursos didácticos y la implementación de metodologías innovadoras en el aula. Botero también ha trabajado en la capacitación de maestros para fortalecer sus habilidades en la enseñanza de matemáticas.\n",
    "\n",
    "### **3. **Olga Lucía Gutiérrez**\n",
    "\n",
    "**Biografía:**\n",
    "Olga Lucía Gutiérrez es una matemática y académica colombiana que ha realizado importantes contribuciones a la enseñanza y divulgación de las matemáticas. Su trabajo se centra en el desarrollo de estrategias didácticas y materiales educativos para facilitar el aprendizaje de las matemáticas en la infancia. Gutiérrez ha sido profesora en universidades y ha participado en proyectos educativos nacionales que buscan mejorar la enseñanza matemática en Colombia.\n",
    "\n",
    "### **4. **Sandra Muñoz**\n",
    "\n",
    "**Biografía:**\n",
    "Sandra Muñoz es una matemática y educadora en Colombia, reconocida por su trabajo en la formación de docentes y en la implementación de programas educativos para la enseñanza de las matemáticas. Ha colaborado en el desarrollo de currículos matemáticos y en la promoción de metodologías didácticas que faciliten el aprendizaje de conceptos matemáticos en diferentes niveles educativos.\n",
    "\n",
    "Estas mujeres han hecho contribuciones significativas al campo de la enseñanza de las matemáticas en Colombia, promoviendo mejoras en la educación matemática y apoyando el desarrollo profesional de los docentes en el país."
   ]
  },
  {
   "cell_type": "markdown",
   "id": "ae9860dc",
   "metadata": {},
   "source": [
    "# Cómo mejorar cada día la propuesta didáctica y pedagógica para enseñanza de la matemática\n"
   ]
  },
  {
   "cell_type": "markdown",
   "id": "1014ce5d",
   "metadata": {},
   "source": [
    "\n",
    "Para estructurar una propuesta pedagógica y didáctica centrada en: \n",
    "*  mostrar la matemática como un conjunto de **lenguajes** que ayudan a la comunicación científica y cotidiana, y \n",
    "* la promoción del inglés, el lenguaje Markdown, el lenguaje Latex, el lenguaje Python en los cuadernos Jupyter, y \n",
    "* adoptar un enfoque pedagógico de aula invertida y una metodología de clase basada en problemas (ABP),  \n",
    "  \n",
    "puedes seguir los siguientes pasos:\n"
   ]
  },
  {
   "cell_type": "markdown",
   "id": "19b90db0",
   "metadata": {},
   "source": [
    "\n",
    "1. **Diagnóstico de necesidades:**\n",
    "   - Realiza un análisis detallado de las necesidades y habilidades de los estudiantes en matemáticas, inglés y tecnología.\n",
    "   - Identifica las áreas de dificultad y las áreas en las que los estudiantes muestran interés.\n"
   ]
  },
  {
   "cell_type": "markdown",
   "id": "4a85e2ae",
   "metadata": {},
   "source": [
    "\n",
    "2. **Definición de objetivos:**\n",
    "   - Establece objetivos claros y alcanzables que integren el aprendizaje de matemáticas, inglés y tecnología.\n",
    "   - Los objetivos deben centrarse en mejorar la comprensión de conceptos matemáticos, desarrollar habilidades en inglés y fomentar la competencia en el uso de herramientas tecnológicas.\n"
   ]
  },
  {
   "cell_type": "markdown",
   "id": "c1174613",
   "metadata": {},
   "source": [
    "\n",
    "3. **Diseño de actividades y recursos:**\n",
    "   - Diseña actividades interactivas y colaborativas que permitan a los estudiantes explorar conceptos matemáticos a través del uso de cuadernos Jupyter, Python y Markdown.\n",
    "   - Incorpora lecturas y ejercicios en inglés relacionados con conceptos matemáticos para fortalecer el vocabulario y la comprensión del idioma.\n",
    "   - Utiliza recursos multimedia, como videos y tutoriales en línea, para apoyar el aprendizaje autónomo de los estudiantes.\n"
   ]
  },
  {
   "cell_type": "markdown",
   "id": "94eb1010",
   "metadata": {},
   "source": [
    "\n",
    "4. **Implementación del enfoque pedagógico de aula invertida:**\n",
    "   - Proporciona a los estudiantes acceso a materiales de aprendizaje antes de la clase, como cuadernos Jupyter con ejercicios y lecturas en inglés.\n",
    "   - Utiliza el tiempo en clase para actividades prácticas y colaborativas, donde los estudiantes puedan aplicar los conceptos aprendidos, resolver problemas y discutir en grupos.\n"
   ]
  },
  {
   "cell_type": "markdown",
   "id": "75dda2d1",
   "metadata": {},
   "source": [
    "\n",
    "5. **Metodología de clase basada en problemas (ABP):**\n",
    "   - Plantea problemas y desafíos relacionados con situaciones reales que requieran el uso de conceptos matemáticos, el inglés y la tecnología para su solución.\n",
    "   - Fomenta la participación activa de los estudiantes en la resolución de problemas, la discusión de estrategias y la presentación de soluciones.\n"
   ]
  },
  {
   "cell_type": "markdown",
   "id": "f5262339",
   "metadata": {},
   "source": [
    "\n",
    "6. **Evaluación y retroalimentación:**\n",
    "   - Implementa un sistema de evaluación formativa que permita monitorear el progreso de los estudiantes de manera continua.\n",
    "   - Proporciona retroalimentación individualizada y oportunidades para la reflexión sobre el aprendizaje y el desarrollo de habilidades.\n"
   ]
  },
  {
   "cell_type": "markdown",
   "id": "7bb4e865",
   "metadata": {},
   "source": [
    "\n",
    "7. **Mejora continua:**\n",
    "   - Recopila retroalimentación de los estudiantes y realiza ajustes en el plan de enseñanza según sea necesario.\n",
    "   - Mantente al tanto de las nuevas tendencias y herramientas en matemáticas, tecnología y enseñanza de idiomas para seguir mejorando la propuesta pedagógica y didáctica.\n"
   ]
  },
  {
   "cell_type": "markdown",
   "id": "4dbe7644",
   "metadata": {},
   "source": [
    "\n",
    "Al seguir estos pasos, podrás estructurar una propuesta pedagógica y didáctica efectiva que integre la enseñanza de matemáticas, inglés y tecnología, y promueva el aprendizaje significativo y el desarrollo de habilidades clave en los estudiantes de la licenciatura en matemáticas."
   ]
  },
  {
   "cell_type": "code",
   "execution_count": 1,
   "id": "7604880f",
   "metadata": {
    "slideshow": {
     "slide_type": "slide"
    }
   },
   "outputs": [
    {
     "name": "stdout",
     "output_type": "stream",
     "text": [
      "Llamando a ROSILLO TEJADA VANESA...\n",
      "Cambios guardados en el archivo CSV.\n",
      "Llamando a QUINONEZ CERVANTES MARIANA...\n"
     ]
    }
   ],
   "source": [
    "import pandas as pd\n",
    "import numpy as np\n",
    "\n",
    "# Cargar la lista de estudiantes desde la URL\n",
    "path = '/home/marco/Documentos/docencia/groups_list/calculo_vectorial.csv'\n",
    "estudiantes = pd.read_csv(path)\n",
    "estudiantes['Parcial'] = estudiantes['Parcial'].astype(float) # hacer que todos los valores de la columna Parcial seen de tipo float\n",
    "\n",
    "# Convertir la columna 'Nombre' a una lista de Python\n",
    "lista_estudiantes = estudiantes['Nombre'].tolist()\n",
    "\n",
    "# Función para llamar a un estudiante aleatoriamente y registrar su nota de seguimiento\n",
    "def asistencia():\n",
    "    if lista_estudiantes:\n",
    "        estudiante_aleatorio = np.random.choice(lista_estudiantes)\n",
    "        print(f\"Llamando a {estudiante_aleatorio}...\")\n",
    "        asistencia = input(f\"¿Asistió {estudiante_aleatorio}? (s/n): \").strip().lower()\n",
    "        \n",
    "        if asistencia == 's':\n",
    "            # Obtener el índice del estudiante en el DataFrame\n",
    "            indice = estudiantes[estudiantes['Nombre'] == estudiante_aleatorio].index[0]\n",
    "            # Incrementar su valor en la columna 'Parcial'\n",
    "            estudiantes.at[indice, 'Parcial'] += 0.01\n",
    "            print(f\"Actualizado: {estudiante_aleatorio} ahora tiene {estudiantes.at[indice, 'Parcial']} en la columna 'Parcial'.\")\n",
    "        \n",
    "        lista_estudiantes.remove(estudiante_aleatorio)\n",
    "    else:\n",
    "        print(\"Se han llamado a todos los estudiantes del grupo completo.\")\n",
    "\n",
    "# Guardar los cambios en el archivo CSV\n",
    "def guardar_cambios():\n",
    "    estudiantes.to_csv(path, index=False)\n",
    "    print(\"Cambios guardados en el archivo CSV.\")\n",
    "\n",
    "# Ejemplo de uso\n",
    "while lista_estudiantes:\n",
    "    asistencia()\n",
    "    guardar_cambios()\n",
    "\n",
    "\n"
   ]
  },
  {
   "cell_type": "code",
   "execution_count": 8,
   "id": "d60b2bf1",
   "metadata": {},
   "outputs": [
    {
     "name": "stdout",
     "output_type": "stream",
     "text": [
      "Llamando a AYALA MENDOZA MARISOL YACIRA...\n"
     ]
    }
   ],
   "source": [
    "\n",
    "# Llamar a la función para realizar el proceso\n",
    "asistencia()\n"
   ]
  },
  {
   "cell_type": "markdown",
   "id": "4f9d8cf9",
   "metadata": {
    "slideshow": {
     "slide_type": "slide"
    }
   },
   "source": [
    "# Modelo general de clase: [aula invertida](https://www3.gobiernodecanarias.org/medusa/ecoescuela/pedagotic/aprendizaje-invertido-flipped-classroom/)"
   ]
  },
  {
   "cell_type": "markdown",
   "id": "eb6ed03a",
   "metadata": {},
   "source": [
    "![Definamos flipped learning de manera gráfica](https://resources.maneuveringthemiddle.com/wp-content/uploads/2020/07/04212706/1-5.png)"
   ]
  },
  {
   "cell_type": "markdown",
   "id": "8d97dc80",
   "metadata": {
    "slideshow": {
     "slide_type": "slide"
    }
   },
   "source": [
    "## Fomento de la lectura literaria asociada a Ingeniería agropecuaria y licenciatura en Matemáticas\n",
    "\n"
   ]
  },
  {
   "cell_type": "markdown",
   "id": "96775931",
   "metadata": {
    "slideshow": {
     "slide_type": "slide"
    }
   },
   "source": [
    "## Título de la clase:   \n",
    "\n",
    "[]()"
   ]
  },
  {
   "cell_type": "markdown",
   "id": "1d38dd4e",
   "metadata": {
    "slideshow": {
     "slide_type": "slide"
    }
   },
   "source": [
    "### Objetivo de aprendizaje (Enunciar, de manera corta sencilla y clara para todos los asistentes)\n",
    " De ahora en adelante, las clase tendran 4 objetivos de clase de acuerdo a las 4 dimensiones de mi práctica pedagógica\n",
    "\n",
    " \n"
   ]
  },
  {
   "cell_type": "markdown",
   "id": "1365025c",
   "metadata": {},
   "source": [
    "1. Conocimiento Teórico de Matemáticas\n",
    "\n",
    "Indicadores:\n",
    "\n",
    "* Comprensión de conceptos fundamentales de cálculo diferencial.\n",
    "* Capacidad para resolver ecuaciones diferenciales.\n",
    "* Habilidad para derivar funciones complejas.\n",
    "* Capacidad de leer, escribir e interpretar utilizando la notación y terminología matemática propia de esta clase.\n",
    "* Capacidad para aplicar resultados científicos en problemas.\n"
   ]
  },
  {
   "cell_type": "markdown",
   "id": "97ab69df",
   "metadata": {},
   "source": [
    "\n",
    "2. Habilidad en Programación con Python\n",
    "\n",
    "Indicadores:\n",
    "\n",
    "* Capacidad para escribir y ejecutar scripts básicos en Python.\n",
    "* Comprensión y uso de estructuras de control (condicionales, bucles).\n",
    "* Uso de funciones y módulos en Python.\n",
    "* Manejo de estructuras de datos (listas, diccionarios, tuplas).\n",
    "* Habilidad para depurar y solucionar errores en el código.\n",
    "* Uso de bibliotecas matemáticas como NumPy y SymPy.\n"
   ]
  },
  {
   "cell_type": "markdown",
   "id": "0dd775aa",
   "metadata": {},
   "source": [
    "\n",
    "3. Pensamiento Computacional\n",
    "\n",
    "Indicadores:\n",
    "\n",
    "* Capacidad para descomponer problemas complejos en subproblemas manejables.\n",
    "* Habilidad para diseñar algoritmos eficientes para resolver problemas específicos.\n",
    "* Comprensión de la lógica detrás de las estructuras de control y su aplicación en la programación.\n",
    "* Capacidad para abstraer conceptos matemáticos en soluciones programables.\n",
    "* Habilidad para identificar y aplicar patrones en la resolución de problemas.\n"
   ]
  },
  {
   "cell_type": "markdown",
   "id": "1a57907e",
   "metadata": {},
   "source": [
    "\n",
    "4. Aplicación de Matemáticas en Problemas Reales\n",
    "\n",
    "Indicadores:\n",
    "\n",
    "* Capacidad para modelar situaciones reales utilizando funciones matemáticas.\n",
    "* Habilidad para implementar soluciones matemáticas en código Python para resolver problemas prácticos.\n",
    "* Comprensión de cómo interpretar los resultados obtenidos mediante simulaciones o cálculos computacionales.\n",
    "* Uso de Python para la visualización de datos y resultados matemáticos.\n",
    "* Capacidad para integrar conocimientos matemáticos y de programación en proyectos interdisciplinarios."
   ]
  },
  {
   "cell_type": "markdown",
   "id": "540f0ec1",
   "metadata": {
    "slideshow": {
     "slide_type": "slide"
    }
   },
   "source": [
    "## Cuestionario para realizar labores de memorización, observación y síntesis de la información (Además de diagnóstico)  \n",
    "[Realizar encuesta para participacion de todos los estudiantes para diagnosticar presaberes para la clase: mentimeter](https://www.mentimeter.com/es-ES/education/lectures)\n",
    "\n",
    "1. ¿?\n",
    "2. ¿?\n",
    "3. ¿?\n",
    "4. ¿?\n",
    "5. ¿?"
   ]
  },
  {
   "cell_type": "markdown",
   "id": "8e457ea2",
   "metadata": {},
   "source": [
    "# Definiciones y Resultados científicos a comprender y memorizar \n",
    "\n",
    "[Primera grabación en Vocaroo]()"
   ]
  },
  {
   "cell_type": "markdown",
   "id": "ca7261b1",
   "metadata": {
    "slideshow": {
     "slide_type": "slide"
    }
   },
   "source": [
    "## Establecimiento de prerrequisitos conceptuales para alcanzar el objetivo de aprendizaje trazado.   \n",
    "\n",
    "(Elabore una lista de preguntas al rededor de los conceptos que consideres necesarios para empezar la clase).  \n",
    "\n",
    "1. \n",
    "2. \n",
    "3. "
   ]
  },
  {
   "cell_type": "markdown",
   "id": "2298e976",
   "metadata": {
    "slideshow": {
     "slide_type": "slide"
    }
   },
   "source": [
    "# Para el diseño de la clase tenga en cuenta algunos problemas de aprendizaje"
   ]
  },
  {
   "cell_type": "markdown",
   "id": "523d3acf",
   "metadata": {
    "slideshow": {
     "slide_type": "slide"
    }
   },
   "source": []
  },
  {
   "cell_type": "markdown",
   "id": "a40a4704",
   "metadata": {
    "slideshow": {
     "slide_type": "slide"
    }
   },
   "source": [
    "## Secuencia conceptual introductoria a la clase"
   ]
  },
  {
   "cell_type": "markdown",
   "id": "8853d874",
   "metadata": {},
   "source": [
    "## El componente histórico y epistemológico"
   ]
  },
  {
   "cell_type": "markdown",
   "id": "e3ffa494",
   "metadata": {},
   "source": [
    "# Vocabulary   \n",
    "\n",
    "1. \n",
    "2.  \n",
    "3.  \n",
    "4.  \n",
    "5.  "
   ]
  },
  {
   "cell_type": "code",
   "execution_count": 4,
   "id": "6ff395c3",
   "metadata": {},
   "outputs": [],
   "source": [
    "# Traducción del inglés al español con python\n",
    "\n",
    "def traducir(texto):\n",
    "    from googletrans import Translator\n",
    "\n",
    "    translator = Translator() # instancia la clase \n",
    "\n",
    "    # Traducir al español\n",
    "    translation = translator.translate(texto, src='en', dest='es')\n",
    "    return translation.text"
   ]
  },
  {
   "cell_type": "code",
   "execution_count": 5,
   "id": "b583f414-ac87-4912-8a86-b338234d83d7",
   "metadata": {},
   "outputs": [
    {
     "data": {
      "text/plain": [
       "'Hola'"
      ]
     },
     "execution_count": 5,
     "metadata": {},
     "output_type": "execute_result"
    }
   ],
   "source": [
    "traducir('Hi')"
   ]
  },
  {
   "cell_type": "code",
   "execution_count": 1,
   "id": "bc0addfe",
   "metadata": {},
   "outputs": [
    {
     "data": {
      "text/plain": [
       "'/home/marco/Documentos/docencia/calculo/images/0_reales/Solución de inecuaciones por observación.pdf'"
      ]
     },
     "execution_count": 1,
     "metadata": {},
     "output_type": "execute_result"
    }
   ],
   "source": [
    "# mapa conceptual para cada clase  \n",
    "from graphviz import Digraph\n",
    "\n",
    "# Crear un nuevo grafo dirigido\n",
    "dot = Digraph()\n",
    "\n",
    "# Añadir nodos y relaciones al grafo\n",
    "main_concept = 'Solución de inecuaciones por observación'\n",
    "dot.node('A', main_concept)\n",
    "dot.node('B', '')\n",
    "dot.node('C', '')\n",
    "dot.node('D', '')\n",
    "dot.node('E', '')\n",
    "dot.node('F', '')\n",
    "dot.node('G', '')\n",
    "dot.node('H', '')\n",
    "dot.node('I', '')\n",
    "dot.node('J', '')\n",
    "\n",
    "dot.edges(['AB'])\n",
    "dot.edges(['AC'])\n",
    "dot.edges(['CD'])\n",
    "dot.edges(['DJ'])\n",
    "dot.edges(['EF'])\n",
    "dot.edges(['FG'])\n",
    "dot.edges(['GH'])\n",
    "dot.edges(['HI'])\n",
    "dot.edges(['IJ'])\n",
    "\n",
    "# Guardar el grafo como un archivo de imagen\n",
    "dot.render(filename=main_concept, format='png', cleanup=True, \\\n",
    "           directory='/home/marco/Documentos/docencia/calculo/images/0_reales/')\n",
    "\n",
    "dot.view()\n"
   ]
  },
  {
   "cell_type": "markdown",
   "id": "10e55ccf",
   "metadata": {},
   "source": [
    "# "
   ]
  },
  {
   "cell_type": "code",
   "execution_count": null,
   "id": "239427f7",
   "metadata": {},
   "outputs": [],
   "source": []
  },
  {
   "cell_type": "code",
   "execution_count": null,
   "id": "ec048afb",
   "metadata": {},
   "outputs": [],
   "source": []
  },
  {
   "cell_type": "markdown",
   "id": "18b15691-12cb-46c1-b30d-72d078f6e7a6",
   "metadata": {},
   "source": [
    "# Dimensiones de cada clase  \n",
    "\n",
    "1. Conocimiento Teórico de Matemáticas\n",
    "\n",
    "Indicadores:\n",
    "\n",
    "* Comprensión de conceptos fundamentales de cálculo diferencial.\n",
    "* Capacidad para resolver ecuaciones diferenciales.\n",
    "* Habilidad para derivar funciones complejas.\n",
    "* Comprensión de límites y continuidad.\n",
    "* Capacidad para aplicar teoremas de cálculo en problemas matemáticos.\n"
   ]
  },
  {
   "cell_type": "markdown",
   "id": "8f4bcc4c",
   "metadata": {},
   "source": [
    "\n",
    "2. Habilidad en Programación con Python\n",
    "\n",
    "Indicadores:\n",
    "\n",
    "* Capacidad para escribir y ejecutar scripts básicos en Python.\n",
    "* Comprensión y uso de estructuras de control (condicionales, bucles).\n",
    "* Uso de funciones y módulos en Python.\n",
    "* Manejo de estructuras de datos (listas, diccionarios, tuplas).\n",
    "* Habilidad para depurar y solucionar errores en el código.\n",
    "* Uso de bibliotecas matemáticas como NumPy y SymPy.\n"
   ]
  },
  {
   "cell_type": "markdown",
   "id": "cfc7d43e",
   "metadata": {},
   "source": [
    "\n",
    "3. Pensamiento Computacional\n",
    "\n",
    "Indicadores:\n",
    "\n",
    "* Capacidad para descomponer problemas complejos en subproblemas manejables.\n",
    "* Habilidad para diseñar algoritmos eficientes para resolver problemas específicos.\n",
    "* Comprensión de la lógica detrás de las estructuras de control y su aplicación en la programación.\n",
    "* Capacidad para abstraer conceptos matemáticos en soluciones programables.\n",
    "* Habilidad para identificar y aplicar patrones en la resolución de problemas.\n"
   ]
  },
  {
   "cell_type": "markdown",
   "id": "5a345b3e",
   "metadata": {},
   "source": [
    "\n",
    "4. Aplicación de Matemáticas en Problemas Reales\n",
    "\n",
    "Indicadores:\n",
    "\n",
    "* Capacidad para modelar situaciones reales utilizando funciones matemáticas.\n",
    "* Habilidad para implementar soluciones matemáticas en código Python para resolver problemas prácticos.\n",
    "* Comprensión de cómo interpretar los resultados obtenidos mediante simulaciones o cálculos computacionales.\n",
    "* Uso de Python para la visualización de datos y resultados matemáticos.\n",
    "* Capacidad para integrar conocimientos matemáticos y de programación en proyectos interdisciplinarios."
   ]
  },
  {
   "cell_type": "markdown",
   "id": "64ac8d32",
   "metadata": {},
   "source": [
    "# Ejemplo ilustrativo\n",
    "\n",
    "$$ \\frac{3+x}{3-x} \\geq 1 $$"
   ]
  },
  {
   "cell_type": "code",
   "execution_count": 12,
   "id": "bc9f1072-14a4-41e2-ad3c-fab5559ba292",
   "metadata": {},
   "outputs": [
    {
     "data": {
      "text/plain": [
       "(0.0, 4.0, -100.0, 100.0)"
      ]
     },
     "execution_count": 12,
     "metadata": {},
     "output_type": "execute_result"
    },
    {
     "data": {
      "image/png": "[encoded data removed]",
      "text/plain": [
       "<Figure size 640x480 with 1 Axes>"
      ]
     },
     "metadata": {},
     "output_type": "display_data"
    }
   ],
   "source": [
    "import numpy as np \n",
    "\n",
    "import matplotlib.pyplot as plt   \n",
    "a,b = 0, 4\n",
    "dominio = np.arange(a,b, 0.011)\n",
    "\n",
    "def diferencia_de_los_lados(x):\n",
    "    return (3+x)/(3-x)-1\n",
    "\n",
    "rango = diferencia_de_los_lados(dominio) \n",
    "plt.axhline(y = 0, xmin = a, xmax = b, color = 'green')\n",
    "plt.plot(dominio, rango, color = 'red')\n",
    "plt.axis([a,b, -100,100])\n"
   ]
  },
  {
   "cell_type": "code",
   "execution_count": null,
   "id": "22d40396-e032-4a33-8494-dd5fd503a96f",
   "metadata": {},
   "outputs": [],
   "source": []
  },
  {
   "cell_type": "code",
   "execution_count": null,
   "id": "ee607f36-623c-421b-b0f9-2a6cc635a9d5",
   "metadata": {},
   "outputs": [],
   "source": []
  },
  {
   "cell_type": "code",
   "execution_count": null,
   "id": "fd66203b-1837-42b4-b0a4-c361918b3b3a",
   "metadata": {},
   "outputs": [],
   "source": []
  },
  {
   "cell_type": "markdown",
   "id": "a3e5e6ab",
   "metadata": {},
   "source": [
    "# 10 ejercicios de entrenamiento o adquisición de habilidades obtenido a través de ChatGPT para una formación personalizada y centrada en la habilidad que se quiere lograr con la enseñanza del ejemplo anterior"
   ]
  },
  {
   "cell_type": "code",
   "execution_count": null,
   "id": "cc539357",
   "metadata": {},
   "outputs": [],
   "source": []
  },
  {
   "cell_type": "code",
   "execution_count": null,
   "id": "0486a7d8",
   "metadata": {},
   "outputs": [
    {
     "data": {
      "application/vnd.plotly.v1+json": {
       "config": {
        "plotlyServerURL": "https://plot.ly"
       },
       "data": [
        {
         "hovertemplate": "x=%{x}<br>y=%{y}<extra></extra>",
         "legendgroup": "",
         "marker": {
          "color": "#636efa",
          "symbol": "circle"
         },
         "mode": "markers",
         "name": "",
         "orientation": "v",
         "showlegend": false,
         "type": "scatter",
         "x": [],
         "xaxis": "x",
         "y": [],
         "yaxis": "y"
        }
       ],
       "layout": {
        "legend": {
         "tracegroupgap": 0
        },
        "template": {
         "data": {
          "bar": [
           {
            "error_x": {
             "color": "#2a3f5f"
            },
            "error_y": {
             "color": "#2a3f5f"
            },
            "marker": {
             "line": {
              "color": "#E5ECF6",
              "width": 0.5
             },
             "pattern": {
              "fillmode": "overlay",
              "size": 10,
              "solidity": 0.2
             }
            },
            "type": "bar"
           }
          ],
          "barpolar": [
           {
            "marker": {
             "line": {
              "color": "#E5ECF6",
              "width": 0.5
             },
             "pattern": {
              "fillmode": "overlay",
              "size": 10,
              "solidity": 0.2
             }
            },
            "type": "barpolar"
           }
          ],
          "carpet": [
           {
            "aaxis": {
             "endlinecolor": "#2a3f5f",
             "gridcolor": "white",
             "linecolor": "white",
             "minorgridcolor": "white",
             "startlinecolor": "#2a3f5f"
            },
            "baxis": {
             "endlinecolor": "#2a3f5f",
             "gridcolor": "white",
             "linecolor": "white",
             "minorgridcolor": "white",
             "startlinecolor": "#2a3f5f"
            },
            "type": "carpet"
           }
          ],
          "choropleth": [
           {
            "colorbar": {
             "outlinewidth": 0,
             "ticks": ""
            },
            "type": "choropleth"
           }
          ],
          "contour": [
           {
            "colorbar": {
             "outlinewidth": 0,
             "ticks": ""
            },
            "colorscale": [
             [
              0,
              "#0d0887"
             ],
             [
              0.1111111111111111,
              "#46039f"
             ],
             [
              0.2222222222222222,
              "#7201a8"
             ],
             [
              0.3333333333333333,
              "#9c179e"
             ],
             [
              0.4444444444444444,
              "#bd3786"
             ],
             [
              0.5555555555555556,
              "#d8576b"
             ],
             [
              0.6666666666666666,
              "#ed7953"
             ],
             [
              0.7777777777777778,
              "#fb9f3a"
             ],
             [
              0.8888888888888888,
              "#fdca26"
             ],
             [
              1,
              "#f0f921"
             ]
            ],
            "type": "contour"
           }
          ],
          "contourcarpet": [
           {
            "colorbar": {
             "outlinewidth": 0,
             "ticks": ""
            },
            "type": "contourcarpet"
           }
          ],
          "heatmap": [
           {
            "colorbar": {
             "outlinewidth": 0,
             "ticks": ""
            },
            "colorscale": [
             [
              0,
              "#0d0887"
             ],
             [
              0.1111111111111111,
              "#46039f"
             ],
             [
              0.2222222222222222,
              "#7201a8"
             ],
             [
              0.3333333333333333,
              "#9c179e"
             ],
             [
              0.4444444444444444,
              "#bd3786"
             ],
             [
              0.5555555555555556,
              "#d8576b"
             ],
             [
              0.6666666666666666,
              "#ed7953"
             ],
             [
              0.7777777777777778,
              "#fb9f3a"
             ],
             [
              0.8888888888888888,
              "#fdca26"
             ],
             [
              1,
              "#f0f921"
             ]
            ],
            "type": "heatmap"
           }
          ],
          "heatmapgl": [
           {
            "colorbar": {
             "outlinewidth": 0,
             "ticks": ""
            },
            "colorscale": [
             [
              0,
              "#0d0887"
             ],
             [
              0.1111111111111111,
              "#46039f"
             ],
             [
              0.2222222222222222,
              "#7201a8"
             ],
             [
              0.3333333333333333,
              "#9c179e"
             ],
             [
              0.4444444444444444,
              "#bd3786"
             ],
             [
              0.5555555555555556,
              "#d8576b"
             ],
             [
              0.6666666666666666,
              "#ed7953"
             ],
             [
              0.7777777777777778,
              "#fb9f3a"
             ],
             [
              0.8888888888888888,
              "#fdca26"
             ],
             [
              1,
              "#f0f921"
             ]
            ],
            "type": "heatmapgl"
           }
          ],
          "histogram": [
           {
            "marker": {
             "pattern": {
              "fillmode": "overlay",
              "size": 10,
              "solidity": 0.2
             }
            },
            "type": "histogram"
           }
          ],
          "histogram2d": [
           {
            "colorbar": {
             "outlinewidth": 0,
             "ticks": ""
            },
            "colorscale": [
             [
              0,
              "#0d0887"
             ],
             [
              0.1111111111111111,
              "#46039f"
             ],
             [
              0.2222222222222222,
              "#7201a8"
             ],
             [
              0.3333333333333333,
              "#9c179e"
             ],
             [
              0.4444444444444444,
              "#bd3786"
             ],
             [
              0.5555555555555556,
              "#d8576b"
             ],
             [
              0.6666666666666666,
              "#ed7953"
             ],
             [
              0.7777777777777778,
              "#fb9f3a"
             ],
             [
              0.8888888888888888,
              "#fdca26"
             ],
             [
              1,
              "#f0f921"
             ]
            ],
            "type": "histogram2d"
           }
          ],
          "histogram2dcontour": [
           {
            "colorbar": {
             "outlinewidth": 0,
             "ticks": ""
            },
            "colorscale": [
             [
              0,
              "#0d0887"
             ],
             [
              0.1111111111111111,
              "#46039f"
             ],
             [
              0.2222222222222222,
              "#7201a8"
             ],
             [
              0.3333333333333333,
              "#9c179e"
             ],
             [
              0.4444444444444444,
              "#bd3786"
             ],
             [
              0.5555555555555556,
              "#d8576b"
             ],
             [
              0.6666666666666666,
              "#ed7953"
             ],
             [
              0.7777777777777778,
              "#fb9f3a"
             ],
             [
              0.8888888888888888,
              "#fdca26"
             ],
             [
              1,
              "#f0f921"
             ]
            ],
            "type": "histogram2dcontour"
           }
          ],
          "mesh3d": [
           {
            "colorbar": {
             "outlinewidth": 0,
             "ticks": ""
            },
            "type": "mesh3d"
           }
          ],
          "parcoords": [
           {
            "line": {
             "colorbar": {
              "outlinewidth": 0,
              "ticks": ""
             }
            },
            "type": "parcoords"
           }
          ],
          "pie": [
           {
            "automargin": true,
            "type": "pie"
           }
          ],
          "scatter": [
           {
            "fillpattern": {
             "fillmode": "overlay",
             "size": 10,
             "solidity": 0.2
            },
            "type": "scatter"
           }
          ],
          "scatter3d": [
           {
            "line": {
             "colorbar": {
              "outlinewidth": 0,
              "ticks": ""
             }
            },
            "marker": {
             "colorbar": {
              "outlinewidth": 0,
              "ticks": ""
             }
            },
            "type": "scatter3d"
           }
          ],
          "scattercarpet": [
           {
            "marker": {
             "colorbar": {
              "outlinewidth": 0,
              "ticks": ""
             }
            },
            "type": "scattercarpet"
           }
          ],
          "scattergeo": [
           {
            "marker": {
             "colorbar": {
              "outlinewidth": 0,
              "ticks": ""
             }
            },
            "type": "scattergeo"
           }
          ],
          "scattergl": [
           {
            "marker": {
             "colorbar": {
              "outlinewidth": 0,
              "ticks": ""
             }
            },
            "type": "scattergl"
           }
          ],
          "scattermapbox": [
           {
            "marker": {
             "colorbar": {
              "outlinewidth": 0,
              "ticks": ""
             }
            },
            "type": "scattermapbox"
           }
          ],
          "scatterpolar": [
           {
            "marker": {
             "colorbar": {
              "outlinewidth": 0,
              "ticks": ""
             }
            },
            "type": "scatterpolar"
           }
          ],
          "scatterpolargl": [
           {
            "marker": {
             "colorbar": {
              "outlinewidth": 0,
              "ticks": ""
             }
            },
            "type": "scatterpolargl"
           }
          ],
          "scatterternary": [
           {
            "marker": {
             "colorbar": {
              "outlinewidth": 0,
              "ticks": ""
             }
            },
            "type": "scatterternary"
           }
          ],
          "surface": [
           {
            "colorbar": {
             "outlinewidth": 0,
             "ticks": ""
            },
            "colorscale": [
             [
              0,
              "#0d0887"
             ],
             [
              0.1111111111111111,
              "#46039f"
             ],
             [
              0.2222222222222222,
              "#7201a8"
             ],
             [
              0.3333333333333333,
              "#9c179e"
             ],
             [
              0.4444444444444444,
              "#bd3786"
             ],
             [
              0.5555555555555556,
              "#d8576b"
             ],
             [
              0.6666666666666666,
              "#ed7953"
             ],
             [
              0.7777777777777778,
              "#fb9f3a"
             ],
             [
              0.8888888888888888,
              "#fdca26"
             ],
             [
              1,
              "#f0f921"
             ]
            ],
            "type": "surface"
           }
          ],
          "table": [
           {
            "cells": {
             "fill": {
              "color": "#EBF0F8"
             },
             "line": {
              "color": "white"
             }
            },
            "header": {
             "fill": {
              "color": "#C8D4E3"
             },
             "line": {
              "color": "white"
             }
            },
            "type": "table"
           }
          ]
         },
         "layout": {
          "annotationdefaults": {
           "arrowcolor": "#2a3f5f",
           "arrowhead": 0,
           "arrowwidth": 1
          },
          "autotypenumbers": "strict",
          "coloraxis": {
           "colorbar": {
            "outlinewidth": 0,
            "ticks": ""
           }
          },
          "colorscale": {
           "diverging": [
            [
             0,
             "#8e0152"
            ],
            [
             0.1,
             "#c51b7d"
            ],
            [
             0.2,
             "#de77ae"
            ],
            [
             0.3,
             "#f1b6da"
            ],
            [
             0.4,
             "#fde0ef"
            ],
            [
             0.5,
             "#f7f7f7"
            ],
            [
             0.6,
             "#e6f5d0"
            ],
            [
             0.7,
             "#b8e186"
            ],
            [
             0.8,
             "#7fbc41"
            ],
            [
             0.9,
             "#4d9221"
            ],
            [
             1,
             "#276419"
            ]
           ],
           "sequential": [
            [
             0,
             "#0d0887"
            ],
            [
             0.1111111111111111,
             "#46039f"
            ],
            [
             0.2222222222222222,
             "#7201a8"
            ],
            [
             0.3333333333333333,
             "#9c179e"
            ],
            [
             0.4444444444444444,
             "#bd3786"
            ],
            [
             0.5555555555555556,
             "#d8576b"
            ],
            [
             0.6666666666666666,
             "#ed7953"
            ],
            [
             0.7777777777777778,
             "#fb9f3a"
            ],
            [
             0.8888888888888888,
             "#fdca26"
            ],
            [
             1,
             "#f0f921"
            ]
           ],
           "sequentialminus": [
            [
             0,
             "#0d0887"
            ],
            [
             0.1111111111111111,
             "#46039f"
            ],
            [
             0.2222222222222222,
             "#7201a8"
            ],
            [
             0.3333333333333333,
             "#9c179e"
            ],
            [
             0.4444444444444444,
             "#bd3786"
            ],
            [
             0.5555555555555556,
             "#d8576b"
            ],
            [
             0.6666666666666666,
             "#ed7953"
            ],
            [
             0.7777777777777778,
             "#fb9f3a"
            ],
            [
             0.8888888888888888,
             "#fdca26"
            ],
            [
             1,
             "#f0f921"
            ]
           ]
          },
          "colorway": [
           "#636efa",
           "#EF553B",
           "#00cc96",
           "#ab63fa",
           "#FFA15A",
           "#19d3f3",
           "#FF6692",
           "#B6E880",
           "#FF97FF",
           "#FECB52"
          ],
          "font": {
           "color": "#2a3f5f"
          },
          "geo": {
           "bgcolor": "white",
           "lakecolor": "white",
           "landcolor": "#E5ECF6",
           "showlakes": true,
           "showland": true,
           "subunitcolor": "white"
          },
          "hoverlabel": {
           "align": "left"
          },
          "hovermode": "closest",
          "mapbox": {
           "style": "light"
          },
          "paper_bgcolor": "white",
          "plot_bgcolor": "#E5ECF6",
          "polar": {
           "angularaxis": {
            "gridcolor": "white",
            "linecolor": "white",
            "ticks": ""
           },
           "bgcolor": "#E5ECF6",
           "radialaxis": {
            "gridcolor": "white",
            "linecolor": "white",
            "ticks": ""
           }
          },
          "scene": {
           "xaxis": {
            "backgroundcolor": "#E5ECF6",
            "gridcolor": "white",
            "gridwidth": 2,
            "linecolor": "white",
            "showbackground": true,
            "ticks": "",
            "zerolinecolor": "white"
           },
           "yaxis": {
            "backgroundcolor": "#E5ECF6",
            "gridcolor": "white",
            "gridwidth": 2,
            "linecolor": "white",
            "showbackground": true,
            "ticks": "",
            "zerolinecolor": "white"
           },
           "zaxis": {
            "backgroundcolor": "#E5ECF6",
            "gridcolor": "white",
            "gridwidth": 2,
            "linecolor": "white",
            "showbackground": true,
            "ticks": "",
            "zerolinecolor": "white"
           }
          },
          "shapedefaults": {
           "line": {
            "color": "#2a3f5f"
           }
          },
          "ternary": {
           "aaxis": {
            "gridcolor": "white",
            "linecolor": "white",
            "ticks": ""
           },
           "baxis": {
            "gridcolor": "white",
            "linecolor": "white",
            "ticks": ""
           },
           "bgcolor": "#E5ECF6",
           "caxis": {
            "gridcolor": "white",
            "linecolor": "white",
            "ticks": ""
           }
          },
          "title": {
           "x": 0.05
          },
          "xaxis": {
           "automargin": true,
           "gridcolor": "white",
           "linecolor": "white",
           "ticks": "",
           "title": {
            "standoff": 15
           },
           "zerolinecolor": "white",
           "zerolinewidth": 2
          },
          "yaxis": {
           "automargin": true,
           "gridcolor": "white",
           "linecolor": "white",
           "ticks": "",
           "title": {
            "standoff": 15
           },
           "zerolinecolor": "white",
           "zerolinewidth": 2
          }
         }
        },
        "title": {
         "text": "Relación entre x e y"
        },
        "xaxis": {
         "anchor": "y",
         "domain": [
          0,
          1
         ],
         "title": {
          "text": "x"
         }
        },
        "yaxis": {
         "anchor": "x",
         "domain": [
          0,
          1
         ],
         "title": {
          "text": "y"
         }
        }
       }
      }
     },
     "metadata": {},
     "output_type": "display_data"
    }
   ],
   "source": [
    "## Visualización gráfica con plotly 1\n",
    "import numpy as np \n",
    "import pandas as pd \n",
    "import plotly.express as px\n",
    "# datos\n",
    "X = np.array([])\n",
    "\n",
    "Y = np.array([])\n",
    "\n",
    "# tabla de datos\n",
    "tabla = pd.DataFrame({'x':X, 'y':Y})\n",
    "#trazo de diagrama de dispersión o scatter\n",
    "fig = px.scatter(tabla,x = tabla.keys()[0], y = tabla.keys()[1], title='Relación entre x e y')\n",
    "fig.write_image('/home/marco/Documentos/docencia/calculo/images/images_ciencia_datos/temperatura_caucasia_2024.jpg')\n",
    "fig.show()\n",
    "\n",
    "#fig.write_html('relacion_entre_x_e_y.html', auto_open=True)"
   ]
  },
  {
   "cell_type": "code",
   "execution_count": null,
   "id": "1d46390f",
   "metadata": {},
   "outputs": [],
   "source": [
    "# Segunda opción de graficación con plotly\n",
    "\n",
    "from plotly import graph_objects as go \n",
    "\n",
    "fig = go.Figure()  \n",
    "\n",
    "fig.add_trace(go.Scatter(x = tiempos, y = velocidades, mode = 'markers' ))\n",
    "\n",
    "# Título del gráfico\n",
    "fig.update_layout(title='Velocidad en función del Tiempo')\n",
    "\n",
    "# Etiquetas para los ejes\n",
    "fig.update_xaxes(title_text='Tiempo')\n",
    "fig.update_yaxes(title_text='Velocidad')\n",
    "fig.write_image('/home/marco/Documentos/docencia/calculo/images/images_ciencia_datos/temperatura_caucasia_2024.jpg')\n",
    "# Mostrar el gráfico\n",
    "fig.show()"
   ]
  },
  {
   "cell_type": "markdown",
   "id": "2f0141c3",
   "metadata": {},
   "source": [
    "## Tareas para realizar antes de la clase  \n",
    "\n",
    "1. Ver los videos respectivos []()\n",
    "2. Memorizar las definiciones []()\n",
    "3. Sintetizar o resumir la información en mapas conceptuales. []()\n",
    "4. Tareas para incentivar el uso de la calculadora Casio Para ingenieros y licenciados. \n",
    "5. Leer los ejemplos resueltos y repricar la manera de hacerlos"
   ]
  },
  {
   "cell_type": "code",
   "execution_count": 5,
   "id": "83d849ab",
   "metadata": {},
   "outputs": [
    {
     "name": "stdout",
     "output_type": "stream",
     "text": [
      "Tarea 1 de lectura de ejemplos y completación de procedimientos: \n",
      "      La falta de los enunciados de los problemas, te rebaja 1.0\n",
      "      La falta de la conclusión verbal, te rebaja 1.0\n",
      "      La falta de la representación gráfica, te rebaja 1.0\n",
      "       tarea_Purcell_Página_202_Sección_3.8.csv\n"
     ]
    },
    {
     "data": {
      "text/html": [
       "<div>\n",
       "<style scoped>\n",
       "    .dataframe tbody tr th:only-of-type {\n",
       "        vertical-align: middle;\n",
       "    }\n",
       "\n",
       "    .dataframe tbody tr th {\n",
       "        vertical-align: top;\n",
       "    }\n",
       "\n",
       "    .dataframe thead th {\n",
       "        text-align: right;\n",
       "    }\n",
       "</style>\n",
       "<table border=\"1\" class=\"dataframe\">\n",
       "  <thead>\n",
       "    <tr style=\"text-align: right;\">\n",
       "      <th></th>\n",
       "      <th>Student</th>\n",
       "      <th>Example1</th>\n",
       "      <th>Example2</th>\n",
       "      <th>Example3</th>\n",
       "    </tr>\n",
       "  </thead>\n",
       "  <tbody>\n",
       "    <tr>\n",
       "      <th>0</th>\n",
       "      <td>AGUDELO MORENO RENATO DIRNEY</td>\n",
       "      <td>48</td>\n",
       "      <td>22</td>\n",
       "      <td>2</td>\n",
       "    </tr>\n",
       "    <tr>\n",
       "      <th>1</th>\n",
       "      <td>AMARIS FERNANDEZ SEBASTIAN CAMILO</td>\n",
       "      <td>37</td>\n",
       "      <td>18</td>\n",
       "      <td>20</td>\n",
       "    </tr>\n",
       "    <tr>\n",
       "      <th>2</th>\n",
       "      <td>ARENAS HERAZO GABRIEL ENRIQUE</td>\n",
       "      <td>29</td>\n",
       "      <td>47</td>\n",
       "      <td>49</td>\n",
       "    </tr>\n",
       "    <tr>\n",
       "      <th>3</th>\n",
       "      <td>AYALA MENDOZA MARISOL YACIRA</td>\n",
       "      <td>45</td>\n",
       "      <td>35</td>\n",
       "      <td>7</td>\n",
       "    </tr>\n",
       "    <tr>\n",
       "      <th>4</th>\n",
       "      <td>BERTEL RODELO MICHELL SMIT</td>\n",
       "      <td>41</td>\n",
       "      <td>14</td>\n",
       "      <td>29</td>\n",
       "    </tr>\n",
       "    <tr>\n",
       "      <th>5</th>\n",
       "      <td>BULA VERGARA MARIA PAULA</td>\n",
       "      <td>22</td>\n",
       "      <td>46</td>\n",
       "      <td>5</td>\n",
       "    </tr>\n",
       "    <tr>\n",
       "      <th>6</th>\n",
       "      <td>CANTILLO ENSUCHO DANIEL</td>\n",
       "      <td>19</td>\n",
       "      <td>50</td>\n",
       "      <td>46</td>\n",
       "    </tr>\n",
       "    <tr>\n",
       "      <th>7</th>\n",
       "      <td>CERVANTES DURAN ANGELICA</td>\n",
       "      <td>16</td>\n",
       "      <td>20</td>\n",
       "      <td>13</td>\n",
       "    </tr>\n",
       "    <tr>\n",
       "      <th>8</th>\n",
       "      <td>GALLEGO TEJADA JUAN ESTEBAN</td>\n",
       "      <td>36</td>\n",
       "      <td>11</td>\n",
       "      <td>49</td>\n",
       "    </tr>\n",
       "    <tr>\n",
       "      <th>9</th>\n",
       "      <td>GUERRA NORIEGA YONATHAN</td>\n",
       "      <td>47</td>\n",
       "      <td>43</td>\n",
       "      <td>51</td>\n",
       "    </tr>\n",
       "    <tr>\n",
       "      <th>10</th>\n",
       "      <td>HINCAPIE CASTRO JOHAN SEBASTIAN</td>\n",
       "      <td>35</td>\n",
       "      <td>51</td>\n",
       "      <td>2</td>\n",
       "    </tr>\n",
       "    <tr>\n",
       "      <th>11</th>\n",
       "      <td>HUMANEZ SANCHEZ CAMILO</td>\n",
       "      <td>20</td>\n",
       "      <td>26</td>\n",
       "      <td>50</td>\n",
       "    </tr>\n",
       "    <tr>\n",
       "      <th>12</th>\n",
       "      <td>IBAnEZ MORENO FRANCISCO LUIS</td>\n",
       "      <td>7</td>\n",
       "      <td>8</td>\n",
       "      <td>53</td>\n",
       "    </tr>\n",
       "    <tr>\n",
       "      <th>13</th>\n",
       "      <td>LONDONO CUADRADO CRISTIAN ALBERTO</td>\n",
       "      <td>37</td>\n",
       "      <td>10</td>\n",
       "      <td>6</td>\n",
       "    </tr>\n",
       "    <tr>\n",
       "      <th>14</th>\n",
       "      <td>MASS MIRANDA RIVALDO JOSE</td>\n",
       "      <td>35</td>\n",
       "      <td>14</td>\n",
       "      <td>23</td>\n",
       "    </tr>\n",
       "    <tr>\n",
       "      <th>15</th>\n",
       "      <td>MIRANDA MARTINEZ CARLOS ANDRES</td>\n",
       "      <td>11</td>\n",
       "      <td>30</td>\n",
       "      <td>29</td>\n",
       "    </tr>\n",
       "    <tr>\n",
       "      <th>16</th>\n",
       "      <td>MONTERROSA SOTO ABRIL</td>\n",
       "      <td>10</td>\n",
       "      <td>8</td>\n",
       "      <td>4</td>\n",
       "    </tr>\n",
       "    <tr>\n",
       "      <th>17</th>\n",
       "      <td>NORIEGA JIMENEZ GABRIELA</td>\n",
       "      <td>2</td>\n",
       "      <td>41</td>\n",
       "      <td>37</td>\n",
       "    </tr>\n",
       "    <tr>\n",
       "      <th>18</th>\n",
       "      <td>PEREZ REYES IVAN DARIO</td>\n",
       "      <td>6</td>\n",
       "      <td>13</td>\n",
       "      <td>34</td>\n",
       "    </tr>\n",
       "    <tr>\n",
       "      <th>19</th>\n",
       "      <td>PEREZ THERAN ERLINDA</td>\n",
       "      <td>49</td>\n",
       "      <td>4</td>\n",
       "      <td>47</td>\n",
       "    </tr>\n",
       "    <tr>\n",
       "      <th>20</th>\n",
       "      <td>PINEDA ROMERO YOSMERI</td>\n",
       "      <td>42</td>\n",
       "      <td>9</td>\n",
       "      <td>2</td>\n",
       "    </tr>\n",
       "    <tr>\n",
       "      <th>21</th>\n",
       "      <td>QUINONEZ CERVANTES MARIANA</td>\n",
       "      <td>11</td>\n",
       "      <td>49</td>\n",
       "      <td>32</td>\n",
       "    </tr>\n",
       "    <tr>\n",
       "      <th>22</th>\n",
       "      <td>QUIROZ DURAN JUAN MANUEL</td>\n",
       "      <td>43</td>\n",
       "      <td>14</td>\n",
       "      <td>21</td>\n",
       "    </tr>\n",
       "    <tr>\n",
       "      <th>23</th>\n",
       "      <td>RAMOS PEREZ YANINE</td>\n",
       "      <td>7</td>\n",
       "      <td>27</td>\n",
       "      <td>47</td>\n",
       "    </tr>\n",
       "    <tr>\n",
       "      <th>24</th>\n",
       "      <td>RIVAS HOYOS ESTEFANIA</td>\n",
       "      <td>23</td>\n",
       "      <td>27</td>\n",
       "      <td>39</td>\n",
       "    </tr>\n",
       "    <tr>\n",
       "      <th>25</th>\n",
       "      <td>ROSILLO TEJADA VANESA</td>\n",
       "      <td>49</td>\n",
       "      <td>11</td>\n",
       "      <td>16</td>\n",
       "    </tr>\n",
       "    <tr>\n",
       "      <th>26</th>\n",
       "      <td>SANCHEZ PADILLA SILVESTRE</td>\n",
       "      <td>25</td>\n",
       "      <td>37</td>\n",
       "      <td>50</td>\n",
       "    </tr>\n",
       "    <tr>\n",
       "      <th>27</th>\n",
       "      <td>SILVA ROYERO MAILY CRISTINA</td>\n",
       "      <td>11</td>\n",
       "      <td>25</td>\n",
       "      <td>2</td>\n",
       "    </tr>\n",
       "    <tr>\n",
       "      <th>28</th>\n",
       "      <td>USUGA GEORGE JHON ESTIVEN</td>\n",
       "      <td>29</td>\n",
       "      <td>20</td>\n",
       "      <td>12</td>\n",
       "    </tr>\n",
       "  </tbody>\n",
       "</table>\n",
       "</div>"
      ],
      "text/plain": [
       "                              Student  Example1  Example2  Example3\n",
       "0        AGUDELO MORENO RENATO DIRNEY        48        22         2\n",
       "1   AMARIS FERNANDEZ SEBASTIAN CAMILO        37        18        20\n",
       "2       ARENAS HERAZO GABRIEL ENRIQUE        29        47        49\n",
       "3        AYALA MENDOZA MARISOL YACIRA        45        35         7\n",
       "4          BERTEL RODELO MICHELL SMIT        41        14        29\n",
       "5            BULA VERGARA MARIA PAULA        22        46         5\n",
       "6             CANTILLO ENSUCHO DANIEL        19        50        46\n",
       "7            CERVANTES DURAN ANGELICA        16        20        13\n",
       "8         GALLEGO TEJADA JUAN ESTEBAN        36        11        49\n",
       "9             GUERRA NORIEGA YONATHAN        47        43        51\n",
       "10    HINCAPIE CASTRO JOHAN SEBASTIAN        35        51         2\n",
       "11             HUMANEZ SANCHEZ CAMILO        20        26        50\n",
       "12       IBAnEZ MORENO FRANCISCO LUIS         7         8        53\n",
       "13  LONDONO CUADRADO CRISTIAN ALBERTO        37        10         6\n",
       "14          MASS MIRANDA RIVALDO JOSE        35        14        23\n",
       "15     MIRANDA MARTINEZ CARLOS ANDRES        11        30        29\n",
       "16              MONTERROSA SOTO ABRIL        10         8         4\n",
       "17           NORIEGA JIMENEZ GABRIELA         2        41        37\n",
       "18             PEREZ REYES IVAN DARIO         6        13        34\n",
       "19               PEREZ THERAN ERLINDA        49         4        47\n",
       "20              PINEDA ROMERO YOSMERI        42         9         2\n",
       "21         QUINONEZ CERVANTES MARIANA        11        49        32\n",
       "22           QUIROZ DURAN JUAN MANUEL        43        14        21\n",
       "23                 RAMOS PEREZ YANINE         7        27        47\n",
       "24              RIVAS HOYOS ESTEFANIA        23        27        39\n",
       "25              ROSILLO TEJADA VANESA        49        11        16\n",
       "26          SANCHEZ PADILLA SILVESTRE        25        37        50\n",
       "27        SILVA ROYERO MAILY CRISTINA        11        25         2\n",
       "28          USUGA GEORGE JHON ESTIVEN        29        20        12"
      ]
     },
     "execution_count": 5,
     "metadata": {},
     "output_type": "execute_result"
    }
   ],
   "source": [
    "# Tarea 1 de lectura de ejemplos y completación de procedimientos\n",
    "# asignación de tarea para realizar antes de clase\n",
    "# Consiste en leer y completar un ejemplo de texto guía\n",
    "\n",
    "import pandas as pd\n",
    "import numpy as np\n",
    "import requests\n",
    "np.random.seed(1213)  # establecer semilla aleatoria para hacer los resultados reproducibles\n",
    "\n",
    "\n",
    "\n",
    "grupo_estudiantes = 'calculo_integral'\n",
    "nombre_texto_guia = 'Purcell'\n",
    "pagina_y_seccion = 'Página_202_Sección_3.8'\n",
    "numero_ejemplos_de_la_seccion = 54\n",
    "numero_de_ejemplos_asignados = 3\n",
    "\n",
    "\n",
    "# Descargar la lista de  estudiantes\n",
    "students_url = \"https://raw.githubusercontent.com/marco-canas/groups_list/main/\" + grupo_estudiantes + \".csv\"\n",
    "examples = list(range(1, numero_ejemplos_de_la_seccion))  \n",
    "\n",
    "students_data = pd.read_csv(students_url)\n",
    "\n",
    "# Crear una lista para almacenar las asignaciones\n",
    "assignments = []\n",
    "\n",
    "# Asignar ejercicios aleatorios a cada estudiante\n",
    "for index, student in students_data.iterrows():\n",
    "    # Seleccionar 5 ejercicios aleatorios sin repetición\n",
    "    random_exercises = np.random.choice(examples, numero_de_ejemplos_asignados, replace = False)+ 1 \n",
    "    assignments.append([students_data[\"Nombre\"][index], *random_exercises])  # Agregar asignación a la lista\n",
    "\n",
    "# Crear un DataFrame con las asignaciones\n",
    "columns = [\"Student\"] + [ \"Example\" + str(i+1) for i in range(numero_de_ejemplos_asignados)]\n",
    "assignment_df = pd.DataFrame(assignments, columns=columns)\n",
    "\n",
    "# Guardar el DataFrame en un archivo CSV\n",
    "assignment_csv = \"tarea\" + \"_\" + nombre_texto_guia + \"_\"+ pagina_y_seccion + \".csv\"\n",
    "assignment_df.to_csv(assignment_csv, index=False)\n",
    "\n",
    "print(\"\"\"Tarea 1 de lectura de ejemplos y completación de procedimientos: \n",
    "     Si faltan los enunciados de los problemas, no se valora la tarea\n",
    "      Si faltan de la conclusión verbales, no se valora la tarea \n",
    "      \"\"\", assignment_csv)\n",
    "assignment_df"
   ]
  },
  {
   "cell_type": "markdown",
   "id": "740f3401",
   "metadata": {
    "slideshow": {
     "slide_type": "slide"
    }
   },
   "source": [
    "# Componente de manejo de calculadora Casio asociado al objetivo de aprendizaje de esta clase  \n",
    "\n",
    "## Pasos para lograr el objetivo de aprendizaje con la experimentación en la calculadora casio 570 "
   ]
  },
  {
   "cell_type": "markdown",
   "id": "fccb447c",
   "metadata": {
    "slideshow": {
     "slide_type": "slide"
    }
   },
   "source": [
    "# Tareas para realizar en clase"
   ]
  },
  {
   "cell_type": "code",
   "execution_count": 3,
   "id": "0f1f0ab2",
   "metadata": {},
   "outputs": [
    {
     "name": "stdout",
     "output_type": "stream",
     "text": [
      "Tarea 2 de solución de problemas: \n",
      "       tarea_Purcell_Página_202_Sección_3.8.csv\n"
     ]
    },
    {
     "data": {
      "text/html": [
       "<div>\n",
       "<style scoped>\n",
       "    .dataframe tbody tr th:only-of-type {\n",
       "        vertical-align: middle;\n",
       "    }\n",
       "\n",
       "    .dataframe tbody tr th {\n",
       "        vertical-align: top;\n",
       "    }\n",
       "\n",
       "    .dataframe thead th {\n",
       "        text-align: right;\n",
       "    }\n",
       "</style>\n",
       "<table border=\"1\" class=\"dataframe\">\n",
       "  <thead>\n",
       "    <tr style=\"text-align: right;\">\n",
       "      <th></th>\n",
       "      <th>Student</th>\n",
       "      <th>Exer1</th>\n",
       "      <th>Exer2</th>\n",
       "      <th>Exer3</th>\n",
       "      <th>Exer4</th>\n",
       "      <th>Exer5</th>\n",
       "      <th>Exer6</th>\n",
       "      <th>Exer7</th>\n",
       "      <th>Exer8</th>\n",
       "      <th>Exer9</th>\n",
       "      <th>Exer10</th>\n",
       "    </tr>\n",
       "  </thead>\n",
       "  <tbody>\n",
       "    <tr>\n",
       "      <th>0</th>\n",
       "      <td>AGUDELO MORENO RENATO DIRNEY</td>\n",
       "      <td>47</td>\n",
       "      <td>2</td>\n",
       "      <td>52</td>\n",
       "      <td>29</td>\n",
       "      <td>21</td>\n",
       "      <td>4</td>\n",
       "      <td>36</td>\n",
       "      <td>54</td>\n",
       "      <td>35</td>\n",
       "      <td>53</td>\n",
       "    </tr>\n",
       "    <tr>\n",
       "      <th>1</th>\n",
       "      <td>AMARIS FERNANDEZ SEBASTIAN CAMILO</td>\n",
       "      <td>42</td>\n",
       "      <td>23</td>\n",
       "      <td>44</td>\n",
       "      <td>20</td>\n",
       "      <td>2</td>\n",
       "      <td>34</td>\n",
       "      <td>45</td>\n",
       "      <td>43</td>\n",
       "      <td>37</td>\n",
       "      <td>8</td>\n",
       "    </tr>\n",
       "    <tr>\n",
       "      <th>2</th>\n",
       "      <td>ARENAS HERAZO GABRIEL ENRIQUE</td>\n",
       "      <td>45</td>\n",
       "      <td>26</td>\n",
       "      <td>20</td>\n",
       "      <td>10</td>\n",
       "      <td>35</td>\n",
       "      <td>36</td>\n",
       "      <td>23</td>\n",
       "      <td>29</td>\n",
       "      <td>31</td>\n",
       "      <td>12</td>\n",
       "    </tr>\n",
       "    <tr>\n",
       "      <th>3</th>\n",
       "      <td>AYALA MENDOZA MARISOL YACIRA</td>\n",
       "      <td>24</td>\n",
       "      <td>18</td>\n",
       "      <td>39</td>\n",
       "      <td>54</td>\n",
       "      <td>5</td>\n",
       "      <td>19</td>\n",
       "      <td>38</td>\n",
       "      <td>41</td>\n",
       "      <td>30</td>\n",
       "      <td>28</td>\n",
       "    </tr>\n",
       "    <tr>\n",
       "      <th>4</th>\n",
       "      <td>BERTEL RODELO MICHELL SMIT</td>\n",
       "      <td>9</td>\n",
       "      <td>23</td>\n",
       "      <td>32</td>\n",
       "      <td>46</td>\n",
       "      <td>18</td>\n",
       "      <td>48</td>\n",
       "      <td>34</td>\n",
       "      <td>21</td>\n",
       "      <td>10</td>\n",
       "      <td>33</td>\n",
       "    </tr>\n",
       "    <tr>\n",
       "      <th>5</th>\n",
       "      <td>BULA VERGARA MARIA PAULA</td>\n",
       "      <td>34</td>\n",
       "      <td>5</td>\n",
       "      <td>44</td>\n",
       "      <td>43</td>\n",
       "      <td>21</td>\n",
       "      <td>23</td>\n",
       "      <td>40</td>\n",
       "      <td>36</td>\n",
       "      <td>18</td>\n",
       "      <td>51</td>\n",
       "    </tr>\n",
       "    <tr>\n",
       "      <th>6</th>\n",
       "      <td>CANTILLO ENSUCHO DANIEL</td>\n",
       "      <td>2</td>\n",
       "      <td>20</td>\n",
       "      <td>43</td>\n",
       "      <td>7</td>\n",
       "      <td>32</td>\n",
       "      <td>11</td>\n",
       "      <td>23</td>\n",
       "      <td>12</td>\n",
       "      <td>22</td>\n",
       "      <td>34</td>\n",
       "    </tr>\n",
       "    <tr>\n",
       "      <th>7</th>\n",
       "      <td>CERVANTES DURAN ANGELICA</td>\n",
       "      <td>46</td>\n",
       "      <td>39</td>\n",
       "      <td>20</td>\n",
       "      <td>19</td>\n",
       "      <td>36</td>\n",
       "      <td>42</td>\n",
       "      <td>12</td>\n",
       "      <td>23</td>\n",
       "      <td>25</td>\n",
       "      <td>34</td>\n",
       "    </tr>\n",
       "    <tr>\n",
       "      <th>8</th>\n",
       "      <td>GALLEGO TEJADA JUAN ESTEBAN</td>\n",
       "      <td>19</td>\n",
       "      <td>7</td>\n",
       "      <td>6</td>\n",
       "      <td>34</td>\n",
       "      <td>30</td>\n",
       "      <td>37</td>\n",
       "      <td>18</td>\n",
       "      <td>41</td>\n",
       "      <td>11</td>\n",
       "      <td>24</td>\n",
       "    </tr>\n",
       "    <tr>\n",
       "      <th>9</th>\n",
       "      <td>GUERRA NORIEGA YONATHAN</td>\n",
       "      <td>54</td>\n",
       "      <td>46</td>\n",
       "      <td>2</td>\n",
       "      <td>35</td>\n",
       "      <td>9</td>\n",
       "      <td>7</td>\n",
       "      <td>31</td>\n",
       "      <td>11</td>\n",
       "      <td>34</td>\n",
       "      <td>23</td>\n",
       "    </tr>\n",
       "    <tr>\n",
       "      <th>10</th>\n",
       "      <td>HINCAPIE CASTRO JOHAN SEBASTIAN</td>\n",
       "      <td>47</td>\n",
       "      <td>53</td>\n",
       "      <td>42</td>\n",
       "      <td>46</td>\n",
       "      <td>4</td>\n",
       "      <td>54</td>\n",
       "      <td>30</td>\n",
       "      <td>13</td>\n",
       "      <td>50</td>\n",
       "      <td>36</td>\n",
       "    </tr>\n",
       "    <tr>\n",
       "      <th>11</th>\n",
       "      <td>HUMANEZ SANCHEZ CAMILO</td>\n",
       "      <td>5</td>\n",
       "      <td>14</td>\n",
       "      <td>43</td>\n",
       "      <td>16</td>\n",
       "      <td>33</td>\n",
       "      <td>28</td>\n",
       "      <td>8</td>\n",
       "      <td>41</td>\n",
       "      <td>52</td>\n",
       "      <td>2</td>\n",
       "    </tr>\n",
       "    <tr>\n",
       "      <th>12</th>\n",
       "      <td>IBAnEZ MORENO FRANCISCO LUIS</td>\n",
       "      <td>25</td>\n",
       "      <td>31</td>\n",
       "      <td>16</td>\n",
       "      <td>47</td>\n",
       "      <td>26</td>\n",
       "      <td>48</td>\n",
       "      <td>32</td>\n",
       "      <td>40</td>\n",
       "      <td>27</td>\n",
       "      <td>3</td>\n",
       "    </tr>\n",
       "    <tr>\n",
       "      <th>13</th>\n",
       "      <td>LONDONO CUADRADO CRISTIAN ALBERTO</td>\n",
       "      <td>4</td>\n",
       "      <td>26</td>\n",
       "      <td>30</td>\n",
       "      <td>25</td>\n",
       "      <td>33</td>\n",
       "      <td>13</td>\n",
       "      <td>7</td>\n",
       "      <td>23</td>\n",
       "      <td>19</td>\n",
       "      <td>14</td>\n",
       "    </tr>\n",
       "    <tr>\n",
       "      <th>14</th>\n",
       "      <td>MASS MIRANDA RIVALDO JOSE</td>\n",
       "      <td>19</td>\n",
       "      <td>11</td>\n",
       "      <td>43</td>\n",
       "      <td>47</td>\n",
       "      <td>21</td>\n",
       "      <td>13</td>\n",
       "      <td>38</td>\n",
       "      <td>29</td>\n",
       "      <td>33</td>\n",
       "      <td>50</td>\n",
       "    </tr>\n",
       "    <tr>\n",
       "      <th>15</th>\n",
       "      <td>MIRANDA MARTINEZ CARLOS ANDRES</td>\n",
       "      <td>15</td>\n",
       "      <td>10</td>\n",
       "      <td>45</td>\n",
       "      <td>14</td>\n",
       "      <td>21</td>\n",
       "      <td>36</td>\n",
       "      <td>42</td>\n",
       "      <td>30</td>\n",
       "      <td>13</td>\n",
       "      <td>29</td>\n",
       "    </tr>\n",
       "    <tr>\n",
       "      <th>16</th>\n",
       "      <td>MONTERROSA SOTO ABRIL</td>\n",
       "      <td>5</td>\n",
       "      <td>52</td>\n",
       "      <td>10</td>\n",
       "      <td>32</td>\n",
       "      <td>35</td>\n",
       "      <td>21</td>\n",
       "      <td>11</td>\n",
       "      <td>15</td>\n",
       "      <td>46</td>\n",
       "      <td>39</td>\n",
       "    </tr>\n",
       "    <tr>\n",
       "      <th>17</th>\n",
       "      <td>NORIEGA JIMENEZ GABRIELA</td>\n",
       "      <td>10</td>\n",
       "      <td>52</td>\n",
       "      <td>24</td>\n",
       "      <td>6</td>\n",
       "      <td>50</td>\n",
       "      <td>26</td>\n",
       "      <td>41</td>\n",
       "      <td>18</td>\n",
       "      <td>7</td>\n",
       "      <td>21</td>\n",
       "    </tr>\n",
       "    <tr>\n",
       "      <th>18</th>\n",
       "      <td>PEREZ REYES IVAN DARIO</td>\n",
       "      <td>39</td>\n",
       "      <td>38</td>\n",
       "      <td>12</td>\n",
       "      <td>22</td>\n",
       "      <td>17</td>\n",
       "      <td>47</td>\n",
       "      <td>52</td>\n",
       "      <td>27</td>\n",
       "      <td>53</td>\n",
       "      <td>34</td>\n",
       "    </tr>\n",
       "    <tr>\n",
       "      <th>19</th>\n",
       "      <td>PEREZ THERAN ERLINDA</td>\n",
       "      <td>52</td>\n",
       "      <td>3</td>\n",
       "      <td>46</td>\n",
       "      <td>23</td>\n",
       "      <td>50</td>\n",
       "      <td>25</td>\n",
       "      <td>51</td>\n",
       "      <td>39</td>\n",
       "      <td>20</td>\n",
       "      <td>35</td>\n",
       "    </tr>\n",
       "    <tr>\n",
       "      <th>20</th>\n",
       "      <td>PINEDA ROMERO YOSMERI</td>\n",
       "      <td>6</td>\n",
       "      <td>20</td>\n",
       "      <td>49</td>\n",
       "      <td>37</td>\n",
       "      <td>18</td>\n",
       "      <td>15</td>\n",
       "      <td>33</td>\n",
       "      <td>25</td>\n",
       "      <td>43</td>\n",
       "      <td>24</td>\n",
       "    </tr>\n",
       "    <tr>\n",
       "      <th>21</th>\n",
       "      <td>QUINONEZ CERVANTES MARIANA</td>\n",
       "      <td>17</td>\n",
       "      <td>24</td>\n",
       "      <td>27</td>\n",
       "      <td>41</td>\n",
       "      <td>37</td>\n",
       "      <td>21</td>\n",
       "      <td>51</td>\n",
       "      <td>50</td>\n",
       "      <td>11</td>\n",
       "      <td>42</td>\n",
       "    </tr>\n",
       "    <tr>\n",
       "      <th>22</th>\n",
       "      <td>QUIROZ DURAN JUAN MANUEL</td>\n",
       "      <td>7</td>\n",
       "      <td>32</td>\n",
       "      <td>45</td>\n",
       "      <td>14</td>\n",
       "      <td>10</td>\n",
       "      <td>47</td>\n",
       "      <td>6</td>\n",
       "      <td>3</td>\n",
       "      <td>38</td>\n",
       "      <td>12</td>\n",
       "    </tr>\n",
       "    <tr>\n",
       "      <th>23</th>\n",
       "      <td>RAMOS PEREZ YANINE</td>\n",
       "      <td>14</td>\n",
       "      <td>13</td>\n",
       "      <td>18</td>\n",
       "      <td>38</td>\n",
       "      <td>11</td>\n",
       "      <td>2</td>\n",
       "      <td>3</td>\n",
       "      <td>4</td>\n",
       "      <td>22</td>\n",
       "      <td>32</td>\n",
       "    </tr>\n",
       "    <tr>\n",
       "      <th>24</th>\n",
       "      <td>RIVAS HOYOS ESTEFANIA</td>\n",
       "      <td>11</td>\n",
       "      <td>12</td>\n",
       "      <td>45</td>\n",
       "      <td>43</td>\n",
       "      <td>15</td>\n",
       "      <td>13</td>\n",
       "      <td>49</td>\n",
       "      <td>18</td>\n",
       "      <td>31</td>\n",
       "      <td>28</td>\n",
       "    </tr>\n",
       "    <tr>\n",
       "      <th>25</th>\n",
       "      <td>ROSILLO TEJADA VANESA</td>\n",
       "      <td>18</td>\n",
       "      <td>52</td>\n",
       "      <td>26</td>\n",
       "      <td>43</td>\n",
       "      <td>23</td>\n",
       "      <td>16</td>\n",
       "      <td>10</td>\n",
       "      <td>25</td>\n",
       "      <td>39</td>\n",
       "      <td>27</td>\n",
       "    </tr>\n",
       "    <tr>\n",
       "      <th>26</th>\n",
       "      <td>SANCHEZ PADILLA SILVESTRE</td>\n",
       "      <td>25</td>\n",
       "      <td>24</td>\n",
       "      <td>33</td>\n",
       "      <td>42</td>\n",
       "      <td>15</td>\n",
       "      <td>36</td>\n",
       "      <td>20</td>\n",
       "      <td>45</td>\n",
       "      <td>11</td>\n",
       "      <td>17</td>\n",
       "    </tr>\n",
       "    <tr>\n",
       "      <th>27</th>\n",
       "      <td>SILVA ROYERO MAILY CRISTINA</td>\n",
       "      <td>4</td>\n",
       "      <td>54</td>\n",
       "      <td>24</td>\n",
       "      <td>53</td>\n",
       "      <td>13</td>\n",
       "      <td>50</td>\n",
       "      <td>27</td>\n",
       "      <td>45</td>\n",
       "      <td>31</td>\n",
       "      <td>26</td>\n",
       "    </tr>\n",
       "    <tr>\n",
       "      <th>28</th>\n",
       "      <td>USUGA GEORGE JHON ESTIVEN</td>\n",
       "      <td>47</td>\n",
       "      <td>52</td>\n",
       "      <td>33</td>\n",
       "      <td>14</td>\n",
       "      <td>22</td>\n",
       "      <td>8</td>\n",
       "      <td>3</td>\n",
       "      <td>53</td>\n",
       "      <td>12</td>\n",
       "      <td>32</td>\n",
       "    </tr>\n",
       "  </tbody>\n",
       "</table>\n",
       "</div>"
      ],
      "text/plain": [
       "                              Student  Exer1  Exer2  Exer3  Exer4  Exer5  \\\n",
       "0        AGUDELO MORENO RENATO DIRNEY     47      2     52     29     21   \n",
       "1   AMARIS FERNANDEZ SEBASTIAN CAMILO     42     23     44     20      2   \n",
       "2       ARENAS HERAZO GABRIEL ENRIQUE     45     26     20     10     35   \n",
       "3        AYALA MENDOZA MARISOL YACIRA     24     18     39     54      5   \n",
       "4          BERTEL RODELO MICHELL SMIT      9     23     32     46     18   \n",
       "5            BULA VERGARA MARIA PAULA     34      5     44     43     21   \n",
       "6             CANTILLO ENSUCHO DANIEL      2     20     43      7     32   \n",
       "7            CERVANTES DURAN ANGELICA     46     39     20     19     36   \n",
       "8         GALLEGO TEJADA JUAN ESTEBAN     19      7      6     34     30   \n",
       "9             GUERRA NORIEGA YONATHAN     54     46      2     35      9   \n",
       "10    HINCAPIE CASTRO JOHAN SEBASTIAN     47     53     42     46      4   \n",
       "11             HUMANEZ SANCHEZ CAMILO      5     14     43     16     33   \n",
       "12       IBAnEZ MORENO FRANCISCO LUIS     25     31     16     47     26   \n",
       "13  LONDONO CUADRADO CRISTIAN ALBERTO      4     26     30     25     33   \n",
       "14          MASS MIRANDA RIVALDO JOSE     19     11     43     47     21   \n",
       "15     MIRANDA MARTINEZ CARLOS ANDRES     15     10     45     14     21   \n",
       "16              MONTERROSA SOTO ABRIL      5     52     10     32     35   \n",
       "17           NORIEGA JIMENEZ GABRIELA     10     52     24      6     50   \n",
       "18             PEREZ REYES IVAN DARIO     39     38     12     22     17   \n",
       "19               PEREZ THERAN ERLINDA     52      3     46     23     50   \n",
       "20              PINEDA ROMERO YOSMERI      6     20     49     37     18   \n",
       "21         QUINONEZ CERVANTES MARIANA     17     24     27     41     37   \n",
       "22           QUIROZ DURAN JUAN MANUEL      7     32     45     14     10   \n",
       "23                 RAMOS PEREZ YANINE     14     13     18     38     11   \n",
       "24              RIVAS HOYOS ESTEFANIA     11     12     45     43     15   \n",
       "25              ROSILLO TEJADA VANESA     18     52     26     43     23   \n",
       "26          SANCHEZ PADILLA SILVESTRE     25     24     33     42     15   \n",
       "27        SILVA ROYERO MAILY CRISTINA      4     54     24     53     13   \n",
       "28          USUGA GEORGE JHON ESTIVEN     47     52     33     14     22   \n",
       "\n",
       "    Exer6  Exer7  Exer8  Exer9  Exer10  \n",
       "0       4     36     54     35      53  \n",
       "1      34     45     43     37       8  \n",
       "2      36     23     29     31      12  \n",
       "3      19     38     41     30      28  \n",
       "4      48     34     21     10      33  \n",
       "5      23     40     36     18      51  \n",
       "6      11     23     12     22      34  \n",
       "7      42     12     23     25      34  \n",
       "8      37     18     41     11      24  \n",
       "9       7     31     11     34      23  \n",
       "10     54     30     13     50      36  \n",
       "11     28      8     41     52       2  \n",
       "12     48     32     40     27       3  \n",
       "13     13      7     23     19      14  \n",
       "14     13     38     29     33      50  \n",
       "15     36     42     30     13      29  \n",
       "16     21     11     15     46      39  \n",
       "17     26     41     18      7      21  \n",
       "18     47     52     27     53      34  \n",
       "19     25     51     39     20      35  \n",
       "20     15     33     25     43      24  \n",
       "21     21     51     50     11      42  \n",
       "22     47      6      3     38      12  \n",
       "23      2      3      4     22      32  \n",
       "24     13     49     18     31      28  \n",
       "25     16     10     25     39      27  \n",
       "26     36     20     45     11      17  \n",
       "27     50     27     45     31      26  \n",
       "28      8      3     53     12      32  "
      ]
     },
     "execution_count": 3,
     "metadata": {},
     "output_type": "execute_result"
    }
   ],
   "source": [
    "# Tarea 2 de solución de problemas \n",
    "# asignación de ejercicios de un seccion del texto guía\n",
    "\n",
    "# numpy.random.choice() obten la documentación de esta función en: \n",
    "# https://numpy.org/doc/stable/reference/random/generated/numpy.random.choice.html\n",
    "\n",
    "import pandas as pd\n",
    "import numpy as np\n",
    "import requests\n",
    "np.random.seed(424)  # establecer semilla aleatoria para hacer los resultados reproducibles\n",
    "\n",
    "\n",
    "\n",
    "grupo_estudiantes = 'calculo_integral'\n",
    "nombre_texto_guia = 'Purcell'\n",
    "pagina_y_seccion = 'Página_202_Sección_3.8'\n",
    "numero_ejercicios_taller = 54\n",
    "numero_de_ejercicios_asignados = 10\n",
    "\n",
    "\n",
    "# Descargar la lista de  estudiantes\n",
    "students_url = \"https://raw.githubusercontent.com/marco-canas/groups_list/main/\" + grupo_estudiantes + \".csv\"\n",
    "exercises = list(range(1, numero_ejercicios_taller))  \n",
    "\n",
    "students_data = pd.read_csv(students_url)\n",
    "\n",
    "# Crear una lista para almacenar las asignaciones\n",
    "assignments = []\n",
    "\n",
    "# Asignar ejercicios aleatorios a cada estudiante\n",
    "for index, student in students_data.iterrows():\n",
    "    # Seleccionar 5 ejercicios aleatorios sin repetición\n",
    "    random_exercises = np.random.choice(exercises, numero_de_ejercicios_asignados, replace = False)+ 1 \n",
    "    assignments.append([students_data[\"Nombre\"][index], *random_exercises])  # Agregar asignación a la lista\n",
    "\n",
    "# Crear un DataFrame con las asignaciones\n",
    "columns = [\"Student\"] + [ \"Exer\" + str(i+1) for i in range(numero_de_ejercicios_asignados)]\n",
    "assignment_df = pd.DataFrame(assignments, columns=columns)\n",
    "\n",
    "# Guardar el DataFrame en un archivo CSV\n",
    "assignment_csv = \"tarea\" + \"_\" + nombre_texto_guia + \"_\"+ pagina_y_seccion + \".csv\"\n",
    "assignment_df.to_csv(assignment_csv, index=False)\n",
    "\n",
    "print(\"\"\"Tarea 2 de solución de problemas:\n",
    "      Si faltan los enunciados de los problemas, no se valora la tarea\n",
    "      Si faltan de la conclusión verbales, no se valora la tarea \n",
    "        \"\"\", assignment_csv)\n",
    "assignment_df"
   ]
  },
  {
   "cell_type": "markdown",
   "id": "8b6b0112",
   "metadata": {
    "slideshow": {
     "slide_type": "slide"
    }
   },
   "source": [
    "# Tareas para realizar después de la realización de la clase"
   ]
  },
  {
   "cell_type": "markdown",
   "id": "947460e3",
   "metadata": {
    "slideshow": {
     "slide_type": "slide"
    }
   },
   "source": [
    "* Actividades de memorización: \n",
    "  - escucha reiterada de grabaciones de formulas y resultados científicos. \n",
    "  - relectura de notas. \n",
    "  - ejercicios de mayor complejidad.\n",
    "\n",
    "\n",
    "### No olvide asignar las tareas a los estudiantes a través de Google Colab y compartiendole el cuaderno de asignación a su correo institucional con fecha de entrega. [Google Colab](https://colab.research.google.com/?hl=es)   \n",
    "  "
   ]
  },
  {
   "cell_type": "markdown",
   "id": "d34defb9",
   "metadata": {
    "slideshow": {
     "slide_type": "slide"
    }
   },
   "source": [
    "## Asignación individual de tareas semanales "
   ]
  },
  {
   "cell_type": "code",
   "execution_count": 9,
   "id": "0406f442",
   "metadata": {
    "slideshow": {
     "slide_type": "slide"
    }
   },
   "outputs": [
    {
     "name": "stdout",
     "output_type": "stream",
     "text": [
      "Tarea 3 Solución problemas describiendo y justificando:  tarea_Purcell_Página_202_Sección_3.8.csv\n"
     ]
    },
    {
     "data": {
      "text/html": [
       "<div>\n",
       "<style scoped>\n",
       "    .dataframe tbody tr th:only-of-type {\n",
       "        vertical-align: middle;\n",
       "    }\n",
       "\n",
       "    .dataframe tbody tr th {\n",
       "        vertical-align: top;\n",
       "    }\n",
       "\n",
       "    .dataframe thead th {\n",
       "        text-align: right;\n",
       "    }\n",
       "</style>\n",
       "<table border=\"1\" class=\"dataframe\">\n",
       "  <thead>\n",
       "    <tr style=\"text-align: right;\">\n",
       "      <th></th>\n",
       "      <th>Student</th>\n",
       "      <th>Exer1</th>\n",
       "      <th>Exer2</th>\n",
       "      <th>Exer3</th>\n",
       "      <th>Exer4</th>\n",
       "      <th>Exer5</th>\n",
       "      <th>Exer6</th>\n",
       "      <th>Exer7</th>\n",
       "      <th>Exer8</th>\n",
       "      <th>Exer9</th>\n",
       "      <th>Exer10</th>\n",
       "    </tr>\n",
       "  </thead>\n",
       "  <tbody>\n",
       "    <tr>\n",
       "      <th>0</th>\n",
       "      <td>AGUDELO MORENO RENATO DIRNEY</td>\n",
       "      <td>39</td>\n",
       "      <td>17</td>\n",
       "      <td>21</td>\n",
       "      <td>4</td>\n",
       "      <td>9</td>\n",
       "      <td>44</td>\n",
       "      <td>7</td>\n",
       "      <td>30</td>\n",
       "      <td>51</td>\n",
       "      <td>54</td>\n",
       "    </tr>\n",
       "    <tr>\n",
       "      <th>1</th>\n",
       "      <td>AMARIS FERNANDEZ SEBASTIAN CAMILO</td>\n",
       "      <td>2</td>\n",
       "      <td>28</td>\n",
       "      <td>32</td>\n",
       "      <td>5</td>\n",
       "      <td>17</td>\n",
       "      <td>40</td>\n",
       "      <td>46</td>\n",
       "      <td>26</td>\n",
       "      <td>11</td>\n",
       "      <td>50</td>\n",
       "    </tr>\n",
       "    <tr>\n",
       "      <th>2</th>\n",
       "      <td>ARENAS HERAZO GABRIEL ENRIQUE</td>\n",
       "      <td>37</td>\n",
       "      <td>10</td>\n",
       "      <td>39</td>\n",
       "      <td>51</td>\n",
       "      <td>47</td>\n",
       "      <td>21</td>\n",
       "      <td>52</td>\n",
       "      <td>45</td>\n",
       "      <td>18</td>\n",
       "      <td>46</td>\n",
       "    </tr>\n",
       "    <tr>\n",
       "      <th>3</th>\n",
       "      <td>AYALA MENDOZA MARISOL YACIRA</td>\n",
       "      <td>4</td>\n",
       "      <td>20</td>\n",
       "      <td>40</td>\n",
       "      <td>26</td>\n",
       "      <td>47</td>\n",
       "      <td>33</td>\n",
       "      <td>28</td>\n",
       "      <td>42</td>\n",
       "      <td>41</td>\n",
       "      <td>8</td>\n",
       "    </tr>\n",
       "    <tr>\n",
       "      <th>4</th>\n",
       "      <td>BERTEL RODELO MICHELL SMIT</td>\n",
       "      <td>12</td>\n",
       "      <td>13</td>\n",
       "      <td>48</td>\n",
       "      <td>30</td>\n",
       "      <td>29</td>\n",
       "      <td>20</td>\n",
       "      <td>23</td>\n",
       "      <td>27</td>\n",
       "      <td>34</td>\n",
       "      <td>25</td>\n",
       "    </tr>\n",
       "    <tr>\n",
       "      <th>5</th>\n",
       "      <td>BULA VERGARA MARIA PAULA</td>\n",
       "      <td>51</td>\n",
       "      <td>4</td>\n",
       "      <td>15</td>\n",
       "      <td>46</td>\n",
       "      <td>2</td>\n",
       "      <td>33</td>\n",
       "      <td>25</td>\n",
       "      <td>27</td>\n",
       "      <td>7</td>\n",
       "      <td>5</td>\n",
       "    </tr>\n",
       "    <tr>\n",
       "      <th>6</th>\n",
       "      <td>CANTILLO ENSUCHO DANIEL</td>\n",
       "      <td>5</td>\n",
       "      <td>52</td>\n",
       "      <td>24</td>\n",
       "      <td>34</td>\n",
       "      <td>19</td>\n",
       "      <td>17</td>\n",
       "      <td>14</td>\n",
       "      <td>22</td>\n",
       "      <td>2</td>\n",
       "      <td>4</td>\n",
       "    </tr>\n",
       "    <tr>\n",
       "      <th>7</th>\n",
       "      <td>CERVANTES DURAN ANGELICA</td>\n",
       "      <td>49</td>\n",
       "      <td>20</td>\n",
       "      <td>48</td>\n",
       "      <td>53</td>\n",
       "      <td>26</td>\n",
       "      <td>39</td>\n",
       "      <td>28</td>\n",
       "      <td>35</td>\n",
       "      <td>24</td>\n",
       "      <td>3</td>\n",
       "    </tr>\n",
       "    <tr>\n",
       "      <th>8</th>\n",
       "      <td>GALLEGO TEJADA JUAN ESTEBAN</td>\n",
       "      <td>28</td>\n",
       "      <td>17</td>\n",
       "      <td>29</td>\n",
       "      <td>32</td>\n",
       "      <td>27</td>\n",
       "      <td>48</td>\n",
       "      <td>36</td>\n",
       "      <td>44</td>\n",
       "      <td>10</td>\n",
       "      <td>54</td>\n",
       "    </tr>\n",
       "    <tr>\n",
       "      <th>9</th>\n",
       "      <td>GUERRA NORIEGA YONATHAN</td>\n",
       "      <td>33</td>\n",
       "      <td>41</td>\n",
       "      <td>49</td>\n",
       "      <td>19</td>\n",
       "      <td>3</td>\n",
       "      <td>44</td>\n",
       "      <td>24</td>\n",
       "      <td>47</td>\n",
       "      <td>16</td>\n",
       "      <td>43</td>\n",
       "    </tr>\n",
       "    <tr>\n",
       "      <th>10</th>\n",
       "      <td>HINCAPIE CASTRO JOHAN SEBASTIAN</td>\n",
       "      <td>27</td>\n",
       "      <td>43</td>\n",
       "      <td>31</td>\n",
       "      <td>16</td>\n",
       "      <td>42</td>\n",
       "      <td>28</td>\n",
       "      <td>13</td>\n",
       "      <td>3</td>\n",
       "      <td>8</td>\n",
       "      <td>21</td>\n",
       "    </tr>\n",
       "    <tr>\n",
       "      <th>11</th>\n",
       "      <td>HUMANEZ SANCHEZ CAMILO</td>\n",
       "      <td>46</td>\n",
       "      <td>3</td>\n",
       "      <td>12</td>\n",
       "      <td>31</td>\n",
       "      <td>35</td>\n",
       "      <td>2</td>\n",
       "      <td>13</td>\n",
       "      <td>23</td>\n",
       "      <td>52</td>\n",
       "      <td>24</td>\n",
       "    </tr>\n",
       "    <tr>\n",
       "      <th>12</th>\n",
       "      <td>IBAnEZ MORENO FRANCISCO LUIS</td>\n",
       "      <td>26</td>\n",
       "      <td>10</td>\n",
       "      <td>27</td>\n",
       "      <td>25</td>\n",
       "      <td>12</td>\n",
       "      <td>21</td>\n",
       "      <td>24</td>\n",
       "      <td>50</td>\n",
       "      <td>39</td>\n",
       "      <td>29</td>\n",
       "    </tr>\n",
       "    <tr>\n",
       "      <th>13</th>\n",
       "      <td>LONDONO CUADRADO CRISTIAN ALBERTO</td>\n",
       "      <td>42</td>\n",
       "      <td>35</td>\n",
       "      <td>30</td>\n",
       "      <td>36</td>\n",
       "      <td>28</td>\n",
       "      <td>14</td>\n",
       "      <td>10</td>\n",
       "      <td>18</td>\n",
       "      <td>16</td>\n",
       "      <td>50</td>\n",
       "    </tr>\n",
       "    <tr>\n",
       "      <th>14</th>\n",
       "      <td>MASS MIRANDA RIVALDO JOSE</td>\n",
       "      <td>16</td>\n",
       "      <td>13</td>\n",
       "      <td>14</td>\n",
       "      <td>36</td>\n",
       "      <td>37</td>\n",
       "      <td>22</td>\n",
       "      <td>4</td>\n",
       "      <td>46</td>\n",
       "      <td>51</td>\n",
       "      <td>19</td>\n",
       "    </tr>\n",
       "    <tr>\n",
       "      <th>15</th>\n",
       "      <td>MIRANDA MARTINEZ CARLOS ANDRES</td>\n",
       "      <td>46</td>\n",
       "      <td>17</td>\n",
       "      <td>53</td>\n",
       "      <td>40</td>\n",
       "      <td>34</td>\n",
       "      <td>33</td>\n",
       "      <td>26</td>\n",
       "      <td>23</td>\n",
       "      <td>19</td>\n",
       "      <td>30</td>\n",
       "    </tr>\n",
       "    <tr>\n",
       "      <th>16</th>\n",
       "      <td>MONTERROSA SOTO ABRIL</td>\n",
       "      <td>30</td>\n",
       "      <td>3</td>\n",
       "      <td>19</td>\n",
       "      <td>42</td>\n",
       "      <td>6</td>\n",
       "      <td>32</td>\n",
       "      <td>45</td>\n",
       "      <td>39</td>\n",
       "      <td>21</td>\n",
       "      <td>25</td>\n",
       "    </tr>\n",
       "    <tr>\n",
       "      <th>17</th>\n",
       "      <td>NORIEGA JIMENEZ GABRIELA</td>\n",
       "      <td>50</td>\n",
       "      <td>36</td>\n",
       "      <td>31</td>\n",
       "      <td>2</td>\n",
       "      <td>37</td>\n",
       "      <td>32</td>\n",
       "      <td>42</td>\n",
       "      <td>35</td>\n",
       "      <td>30</td>\n",
       "      <td>47</td>\n",
       "    </tr>\n",
       "    <tr>\n",
       "      <th>18</th>\n",
       "      <td>PEREZ REYES IVAN DARIO</td>\n",
       "      <td>15</td>\n",
       "      <td>13</td>\n",
       "      <td>6</td>\n",
       "      <td>46</td>\n",
       "      <td>5</td>\n",
       "      <td>32</td>\n",
       "      <td>33</td>\n",
       "      <td>49</td>\n",
       "      <td>8</td>\n",
       "      <td>42</td>\n",
       "    </tr>\n",
       "    <tr>\n",
       "      <th>19</th>\n",
       "      <td>PEREZ THERAN ERLINDA</td>\n",
       "      <td>46</td>\n",
       "      <td>52</td>\n",
       "      <td>37</td>\n",
       "      <td>29</td>\n",
       "      <td>28</td>\n",
       "      <td>11</td>\n",
       "      <td>39</td>\n",
       "      <td>20</td>\n",
       "      <td>44</td>\n",
       "      <td>21</td>\n",
       "    </tr>\n",
       "    <tr>\n",
       "      <th>20</th>\n",
       "      <td>PINEDA ROMERO YOSMERI</td>\n",
       "      <td>17</td>\n",
       "      <td>14</td>\n",
       "      <td>25</td>\n",
       "      <td>48</td>\n",
       "      <td>30</td>\n",
       "      <td>12</td>\n",
       "      <td>37</td>\n",
       "      <td>28</td>\n",
       "      <td>7</td>\n",
       "      <td>10</td>\n",
       "    </tr>\n",
       "    <tr>\n",
       "      <th>21</th>\n",
       "      <td>QUINONEZ CERVANTES MARIANA</td>\n",
       "      <td>23</td>\n",
       "      <td>40</td>\n",
       "      <td>27</td>\n",
       "      <td>36</td>\n",
       "      <td>22</td>\n",
       "      <td>34</td>\n",
       "      <td>28</td>\n",
       "      <td>12</td>\n",
       "      <td>44</td>\n",
       "      <td>30</td>\n",
       "    </tr>\n",
       "    <tr>\n",
       "      <th>22</th>\n",
       "      <td>QUIROZ DURAN JUAN MANUEL</td>\n",
       "      <td>38</td>\n",
       "      <td>53</td>\n",
       "      <td>4</td>\n",
       "      <td>43</td>\n",
       "      <td>22</td>\n",
       "      <td>7</td>\n",
       "      <td>48</td>\n",
       "      <td>32</td>\n",
       "      <td>15</td>\n",
       "      <td>34</td>\n",
       "    </tr>\n",
       "    <tr>\n",
       "      <th>23</th>\n",
       "      <td>RAMOS PEREZ YANINE</td>\n",
       "      <td>35</td>\n",
       "      <td>42</td>\n",
       "      <td>12</td>\n",
       "      <td>25</td>\n",
       "      <td>54</td>\n",
       "      <td>20</td>\n",
       "      <td>13</td>\n",
       "      <td>30</td>\n",
       "      <td>4</td>\n",
       "      <td>5</td>\n",
       "    </tr>\n",
       "    <tr>\n",
       "      <th>24</th>\n",
       "      <td>RIVAS HOYOS ESTEFANIA</td>\n",
       "      <td>10</td>\n",
       "      <td>42</td>\n",
       "      <td>5</td>\n",
       "      <td>44</td>\n",
       "      <td>37</td>\n",
       "      <td>51</td>\n",
       "      <td>39</td>\n",
       "      <td>7</td>\n",
       "      <td>22</td>\n",
       "      <td>8</td>\n",
       "    </tr>\n",
       "    <tr>\n",
       "      <th>25</th>\n",
       "      <td>ROSILLO TEJADA VANESA</td>\n",
       "      <td>29</td>\n",
       "      <td>12</td>\n",
       "      <td>17</td>\n",
       "      <td>24</td>\n",
       "      <td>7</td>\n",
       "      <td>31</td>\n",
       "      <td>9</td>\n",
       "      <td>33</td>\n",
       "      <td>16</td>\n",
       "      <td>46</td>\n",
       "    </tr>\n",
       "    <tr>\n",
       "      <th>26</th>\n",
       "      <td>SANCHEZ PADILLA SILVESTRE</td>\n",
       "      <td>46</td>\n",
       "      <td>48</td>\n",
       "      <td>53</td>\n",
       "      <td>28</td>\n",
       "      <td>17</td>\n",
       "      <td>19</td>\n",
       "      <td>14</td>\n",
       "      <td>47</td>\n",
       "      <td>23</td>\n",
       "      <td>20</td>\n",
       "    </tr>\n",
       "    <tr>\n",
       "      <th>27</th>\n",
       "      <td>SILVA ROYERO MAILY CRISTINA</td>\n",
       "      <td>3</td>\n",
       "      <td>24</td>\n",
       "      <td>26</td>\n",
       "      <td>49</td>\n",
       "      <td>6</td>\n",
       "      <td>48</td>\n",
       "      <td>8</td>\n",
       "      <td>34</td>\n",
       "      <td>2</td>\n",
       "      <td>19</td>\n",
       "    </tr>\n",
       "    <tr>\n",
       "      <th>28</th>\n",
       "      <td>USUGA GEORGE JHON ESTIVEN</td>\n",
       "      <td>29</td>\n",
       "      <td>35</td>\n",
       "      <td>24</td>\n",
       "      <td>41</td>\n",
       "      <td>33</td>\n",
       "      <td>39</td>\n",
       "      <td>6</td>\n",
       "      <td>31</td>\n",
       "      <td>21</td>\n",
       "      <td>44</td>\n",
       "    </tr>\n",
       "  </tbody>\n",
       "</table>\n",
       "</div>"
      ],
      "text/plain": [
       "                              Student  Exer1  Exer2  Exer3  Exer4  Exer5  \\\n",
       "0        AGUDELO MORENO RENATO DIRNEY     39     17     21      4      9   \n",
       "1   AMARIS FERNANDEZ SEBASTIAN CAMILO      2     28     32      5     17   \n",
       "2       ARENAS HERAZO GABRIEL ENRIQUE     37     10     39     51     47   \n",
       "3        AYALA MENDOZA MARISOL YACIRA      4     20     40     26     47   \n",
       "4          BERTEL RODELO MICHELL SMIT     12     13     48     30     29   \n",
       "5            BULA VERGARA MARIA PAULA     51      4     15     46      2   \n",
       "6             CANTILLO ENSUCHO DANIEL      5     52     24     34     19   \n",
       "7            CERVANTES DURAN ANGELICA     49     20     48     53     26   \n",
       "8         GALLEGO TEJADA JUAN ESTEBAN     28     17     29     32     27   \n",
       "9             GUERRA NORIEGA YONATHAN     33     41     49     19      3   \n",
       "10    HINCAPIE CASTRO JOHAN SEBASTIAN     27     43     31     16     42   \n",
       "11             HUMANEZ SANCHEZ CAMILO     46      3     12     31     35   \n",
       "12       IBAnEZ MORENO FRANCISCO LUIS     26     10     27     25     12   \n",
       "13  LONDONO CUADRADO CRISTIAN ALBERTO     42     35     30     36     28   \n",
       "14          MASS MIRANDA RIVALDO JOSE     16     13     14     36     37   \n",
       "15     MIRANDA MARTINEZ CARLOS ANDRES     46     17     53     40     34   \n",
       "16              MONTERROSA SOTO ABRIL     30      3     19     42      6   \n",
       "17           NORIEGA JIMENEZ GABRIELA     50     36     31      2     37   \n",
       "18             PEREZ REYES IVAN DARIO     15     13      6     46      5   \n",
       "19               PEREZ THERAN ERLINDA     46     52     37     29     28   \n",
       "20              PINEDA ROMERO YOSMERI     17     14     25     48     30   \n",
       "21         QUINONEZ CERVANTES MARIANA     23     40     27     36     22   \n",
       "22           QUIROZ DURAN JUAN MANUEL     38     53      4     43     22   \n",
       "23                 RAMOS PEREZ YANINE     35     42     12     25     54   \n",
       "24              RIVAS HOYOS ESTEFANIA     10     42      5     44     37   \n",
       "25              ROSILLO TEJADA VANESA     29     12     17     24      7   \n",
       "26          SANCHEZ PADILLA SILVESTRE     46     48     53     28     17   \n",
       "27        SILVA ROYERO MAILY CRISTINA      3     24     26     49      6   \n",
       "28          USUGA GEORGE JHON ESTIVEN     29     35     24     41     33   \n",
       "\n",
       "    Exer6  Exer7  Exer8  Exer9  Exer10  \n",
       "0      44      7     30     51      54  \n",
       "1      40     46     26     11      50  \n",
       "2      21     52     45     18      46  \n",
       "3      33     28     42     41       8  \n",
       "4      20     23     27     34      25  \n",
       "5      33     25     27      7       5  \n",
       "6      17     14     22      2       4  \n",
       "7      39     28     35     24       3  \n",
       "8      48     36     44     10      54  \n",
       "9      44     24     47     16      43  \n",
       "10     28     13      3      8      21  \n",
       "11      2     13     23     52      24  \n",
       "12     21     24     50     39      29  \n",
       "13     14     10     18     16      50  \n",
       "14     22      4     46     51      19  \n",
       "15     33     26     23     19      30  \n",
       "16     32     45     39     21      25  \n",
       "17     32     42     35     30      47  \n",
       "18     32     33     49      8      42  \n",
       "19     11     39     20     44      21  \n",
       "20     12     37     28      7      10  \n",
       "21     34     28     12     44      30  \n",
       "22      7     48     32     15      34  \n",
       "23     20     13     30      4       5  \n",
       "24     51     39      7     22       8  \n",
       "25     31      9     33     16      46  \n",
       "26     19     14     47     23      20  \n",
       "27     48      8     34      2      19  \n",
       "28     39      6     31     21      44  "
      ]
     },
     "execution_count": 9,
     "metadata": {},
     "output_type": "execute_result"
    }
   ],
   "source": [
    "# Tarea 3 de solución de problemas describiendo procedimientos y justificándolos\n",
    "\n",
    "# asignación de ejercicios de un seccion del texto guía\n",
    "\n",
    "# numpy.random.choice() obten la documentación de esta función en: \n",
    "# https://numpy.org/doc/stable/reference/random/generated/numpy.random.choice.html\n",
    "\n",
    "import pandas as pd\n",
    "import numpy as np\n",
    "import requests\n",
    "np.random.seed(126)  # establecer semilla aleatoria para hacer los resultados reproducibles\n",
    "\n",
    "\n",
    "\n",
    "grupo_estudiantes = 'calculo_integral'\n",
    "nombre_texto_guia = 'Purcell'\n",
    "pagina_y_seccion = 'Página_202_Sección_3.8'\n",
    "numero_ejercicios_taller = 54\n",
    "numero_de_ejercicios_asignados = 10\n",
    "\n",
    "\n",
    "# Descargar la lista de  estudiantes\n",
    "students_url = \"https://raw.githubusercontent.com/marco-canas/groups_list/main/\" + grupo_estudiantes + \".csv\"\n",
    "exercises = list(range(1, numero_ejercicios_taller))  \n",
    "\n",
    "students_data = pd.read_csv(students_url)\n",
    "\n",
    "# Crear una lista para almacenar las asignaciones\n",
    "assignments = []\n",
    "\n",
    "# Asignar ejercicios aleatorios a cada estudiante\n",
    "for index, student in students_data.iterrows():\n",
    "    # Seleccionar 5 ejercicios aleatorios sin repetición\n",
    "    random_exercises = np.random.choice(exercises, numero_de_ejercicios_asignados, replace = False)+ 1 \n",
    "    assignments.append([students_data[\"Nombre\"][index], *random_exercises])  # Agregar asignación a la lista\n",
    "\n",
    "# Crear un DataFrame con las asignaciones\n",
    "columns = [\"Student\"] + [ \"Exer\" + str(i+1) for i in range(numero_de_ejercicios_asignados)]\n",
    "assignment_df = pd.DataFrame(assignments, columns=columns)\n",
    "\n",
    "# Guardar el DataFrame en un archivo CSV\n",
    "assignment_csv = \"tarea\" + \"_\" + nombre_texto_guia + \"_\"+ pagina_y_seccion + \".csv\"\n",
    "assignment_df.to_csv(assignment_csv, index=False)\n",
    "\n",
    "print(\"\"\"Tarea 3 Solución problemas describiendo y justificando verbalmente: \n",
    "      Si faltan los enunciados de los problemas, no se valora la tarea\n",
    "      Si faltan de la conclusión verbales, no se valora la tarea \"\"\", assignment_csv)\n",
    "assignment_df"
   ]
  },
  {
   "cell_type": "markdown",
   "id": "742281f4",
   "metadata": {},
   "source": [
    "# No olvide la tarea de realizar la foda para autoevaluarse\n",
    "\n",
    "Fortalezas: F  \n",
    "Oportuniudades O:  \n",
    "Debilidades: D:   \n",
    "Amenazas: A:     "
   ]
  },
  {
   "cell_type": "markdown",
   "id": "8d41fe58",
   "metadata": {
    "slideshow": {
     "slide_type": "slide"
    }
   },
   "source": [
    "# Horario de clases del profesor Marco\n",
    "\n",
    "* Martes y jueves de 10 a 12: Fundamentos de las matemáticas\n",
    "* Martes y jueves de 2 a 4 PM: Fundamentos de la aritmética\n",
    "\n",
    "* Didáctica de la aritmética: Miércoles de 8 - 12\n",
    "\n"
   ]
  },
  {
   "cell_type": "markdown",
   "id": "ae114e14",
   "metadata": {
    "slideshow": {
     "slide_type": "slide"
    }
   },
   "source": [
    "# Horarios de monitoría y asesoría"
   ]
  },
  {
   "cell_type": "markdown",
   "id": "b1db4b6c",
   "metadata": {
    "slideshow": {
     "slide_type": "slide"
    }
   },
   "source": [
    "## Monitor Manuel"
   ]
  },
  {
   "cell_type": "markdown",
   "id": "39559692",
   "metadata": {
    "slideshow": {
     "slide_type": "slide"
    }
   },
   "source": [
    "Martes y jueves de 8 - 12  \n",
    "Miércoles 10 - 12 y de 2 a 4 PM  \n",
    "Sábado: 8 - 12"
   ]
  },
  {
   "cell_type": "markdown",
   "id": "5a190057",
   "metadata": {},
   "source": [
    "## Monitoría virtual   \n",
    "\n",
    "Telefono del monitos en whatsApp: 3043936088  \n",
    "\n",
    "Juan David Cano Castrillón  \n",
    "Estudiante de Pregrado.  \n",
    "juan.canoc1@udea.edu.co  \n",
    "3043936088  \n"
   ]
  },
  {
   "cell_type": "markdown",
   "id": "10bce0d0",
   "metadata": {
    "slideshow": {
     "slide_type": "slide"
    }
   },
   "source": [
    "## Referentes "
   ]
  },
  {
   "cell_type": "markdown",
   "id": "1db3c468",
   "metadata": {
    "slideshow": {
     "slide_type": "slide"
    }
   },
   "source": [
    "* [Purcell, E. J., Varberg, D., & Rigdon, S. E. (2007). Cálculo diferencial e integral. Pearson Educación.](https://github.com/marco-canas/calculo/blob/main/referents/purcell/purcell_calculo.pdf)\n",
    "\n",
    "* [Chollet, F. (2021). Deep learning with Python. Simon and Schuster.](https://github.com/marco-canas/didactica_ciencia_datos/blob/main/2_referentes/chollet/Fran%C3%A7ois%20Chollet%20-%20Deep%20Learning%20with%20Python-Manning%20(2018).pdf)  \n",
    "  \n",
    "* [stewart precálculo](https://udeaeduco-my.sharepoint.com/:b:/g/personal/marco_canas_udea_edu_co/ERHIq62I6qFNrmxy6LZb8ZMBci7kUsyNME1nIh9yCBMJ_w?e=0zMSla)  \n",
    "\n",
    "* [stewart cálculo](https://udeaeduco-my.sharepoint.com/:b:/g/personal/marco_canas_udea_edu_co/EZgXZjAp8QxPqOAim2hs6LcBNPLGjSHf-xwYnUVYkwa04w?e=RZdTCy)  \n",
    "\n",
    "* [larson](https://udeaeduco-my.sharepoint.com/:b:/g/personal/marco_canas_udea_edu_co/ES71ChFeO9ZDhW3TwC5Ijk8BjxUK3Pdqz_fjHxTTFAfIAg?e=VDEjfu)\n",
    "\n",
    "* [Aylwin, C. U. (2011). Lógica, conjuntos y números. Universidad de los Andes, Consejo de Publicaciones, Colección: Ciencias Básicas, Serie: Matemáticas.](https://github.com/marco-canas/fundamentos_logica/blob/main/referentes/2_uzcategui/uscategui.pdf)\n",
    "\n",
    "* [Recomendación de la UNESCO sobre ciencia abierta](https://unesdoc.unesco.org/ark:/48223/pf0000379949_spa)\n",
    "\n",
    "* [chatGPT](https://openai.com/blog/chatgpt)  \n",
    "\n",
    "* [Géron, A. (2017). Hands-on machine learning with scikit-learn and tensorflow: Concepts. Tools, and Techniques to build intelligent systems.](https://github.com/marco-canas/didactica_ciencia_datos/blob/main/2_referentes/geron/Hands-On%20Machine%20Learning-3nd_Edition(2022).pdf)  \n",
    "\n",
    "* [McKinney, W. (2012). Python for data analysis: Data wrangling with Pandas, NumPy, and IPython. \" O'Reilly Media, Inc.\".](https://github.com/marco-canas/didactica_ciencia_datos/blob/main/2_referentes/mckinney/Wes_McKinney.pdf)  \n",
    "\n"
   ]
  },
  {
   "cell_type": "markdown",
   "id": "45c59aa9",
   "metadata": {},
   "source": [
    "[Autoevaluemonos para hacernos concientes de nuestro aprendizaje y en lo que debemos enfocarnos en mejorar]()  \n",
    "\n",
    "Aquí tienes una lista de preguntas de selección múltiple para una autoevaluación en un curso de cálculo con un enfoque pedagógico de aula invertida. Estas preguntas abarcan los objetivos de desarrollo del pensamiento variacional, pensamiento computacional a través de Python, capacidad de comunicación científica con LaTeX, Git y el uso de cuadernos Jupyter, así como la promoción de políticas de ciencia libre. \n",
    "\n",
    "1. **Pensamiento Variacional:**\n",
    "   a. ¿Qué significa el término \"variación\" en el contexto del pensamiento variacional?\n",
    "   b. ¿Cómo se relaciona el cálculo con el pensamiento variacional?\n",
    "   c. ¿Puede proporcionar un ejemplo práctico que ilustre el concepto de variación en un problema de cálculo?\n",
    "\n",
    "2. **Pensamiento Computacional (Python):**\n",
    "   a. ¿Cuál es el propósito principal de utilizar Python en un curso de cálculo?\n",
    "   b. ¿Cómo se puede utilizar Python para resolver problemas matemáticos complejos?\n",
    "   c. Menciona al menos dos ventajas de usar Python en comparación con otros lenguajes de programación en el contexto del cálculo.\n",
    "\n",
    "3. **Comunicación Científica (LaTeX):**\n",
    "   a. ¿Por qué es importante utilizar LaTeX para la comunicación científica en matemáticas y ciencias?\n",
    "   b. Enumera al menos tres comandos básicos de LaTeX utilizados para escribir ecuaciones matemáticas.\n",
    "   c. ¿Cómo mejorarías la presentación visual de una fórmula matemática utilizando LaTeX?\n",
    "\n",
    "4. **Gestión de Versiones (Git):**\n",
    "   a. ¿Cuál es el propósito principal de utilizar Git en el desarrollo de proyectos científicos?\n",
    "   b. Explica el concepto de \"commit\" en Git.\n",
    "   c. ¿Cómo resolverías un conflicto de fusión (merge conflict) en Git?\n",
    "\n",
    "5. **Cuadernos Jupyter:**\n",
    "   a. ¿Cuáles son las ventajas de utilizar cuadernos Jupyter en comparación con otros entornos de desarrollo?\n",
    "   b. Describe cómo se integra el código Python y la documentación en un cuaderno Jupyter.\n",
    "   c. ¿Cómo compartirías un cuaderno Jupyter con tus compañeros de clase utilizando GitHub?\n",
    "\n",
    "6. **Promoción de Políticas de Ciencia Libre:**\n",
    "   a. ¿Cuáles son los beneficios de utilizar plataformas como GitHub y YouTube para compartir recursos científicos?\n",
    "   b. ¿Cómo podrías contribuir a la promoción de la ciencia libre en tu comunidad académica?\n",
    "   c. ¿Por qué es importante la transparencia y accesibilidad en la investigación científica?\n",
    "\n",
    "Estas preguntas están diseñadas para evaluar la comprensión de los estudiantes en diversos aspectos del curso, abarcando desde los conceptos matemáticos hasta las habilidades tecnológicas y la conciencia sobre la ciencia libre."
   ]
  },
  {
   "cell_type": "markdown",
   "id": "8e65d6f9",
   "metadata": {},
   "source": [
    "# Como estudiante, encuentro que...   \n",
    "\n",
    "F: Mis Fortalezas son:     \n",
    "O: Mis Oportunidades son:    \n",
    "D: Mis Debilidades son:    \n",
    "A: Lo que Amenazas mi aprendizaje es:  "
   ]
  },
  {
   "cell_type": "markdown",
   "id": "6b9e56a8",
   "metadata": {
    "slideshow": {
     "slide_type": "slide"
    }
   },
   "source": [
    "### [Evaluamos al profesor Marco Cañas Aquí](https://forms.office.com/Pages/ResponsePage.aspx?id=IefhmYRxjkmK_7KtTlPBwkanXIs1i1FEujpsZgO6dXpUREJPV1kxUk1JV1ozTFJIQVNIQjY5WEY3US4u)"
   ]
  },
  {
   "cell_type": "markdown",
   "id": "050b9508",
   "metadata": {},
   "source": [
    "# Aportes de mis estudiantes a la metodología del curso  \n",
    "1. \n",
    "\n",
    "Sus opiniones y aportes son muy importantes para mi. Pues esta es una investigación educativa y un servicio de enseñanza para ustedes. Ustedes son la razón de ser de mi actividad docente. Dios los bendiga. "
   ]
  },
  {
   "cell_type": "markdown",
   "id": "6c4af91f",
   "metadata": {},
   "source": [
    "# Aportes de mis colegas docentes a la metodología que estoy aplicando en mis cursos. "
   ]
  },
  {
   "cell_type": "markdown",
   "id": "071afa04",
   "metadata": {
    "slideshow": {
     "slide_type": "slide"
    }
   },
   "source": [
    "## [Evaluación luego de alcanzar estos objetivos de aprendizaje]()"
   ]
  },
  {
   "cell_type": "markdown",
   "id": "10f43536",
   "metadata": {
    "slideshow": {
     "slide_type": "slide"
    }
   },
   "source": [
    "### Continue su aprendizaje en la siguiente clase a través del siguiente [vínculo]()"
   ]
  },
  {
   "cell_type": "markdown",
   "id": "af751e30",
   "metadata": {
    "slideshow": {
     "slide_type": "slide"
    }
   },
   "source": [
    "# Conjeturas pedagógicas fruto de la aplicación del modelo de aprendizaje invertido y del enfoque hacia la ciencia de datos con python\n",
    "\n",
    "1. Todo cálculo o resultado debe ser interpretado en una línea markdown del cuaderno Jupyter, inmediatamente después de la enunciación del resultado y después de la presentación de una tabla o gráfico bidimensional, de tal menera que el estudiante explicite la comprensión verbal del resultado y las inferencias o estrategias que este resultado le sugieren.  \n",
    "\n",
    "2. Debo colocar las conjeturas pedagógicas, que el uso en el aula de [ChatGPT](https://openai.com/blog/chatgpt/) traiga para la enseñanza y el aprendizaje de las matemáticas. \n",
    "\n",
    "3. Promover ciencia abierta en clase de matemáticas puede ser pidiendo a los estudiantes, tomar nota en clase pero en cuadernos Jupyter y entregar siempre al final de cada clase su cuaderno con todas las notas y experimentaciones de clase replicadas. \n",
    "4. Profesor Marco, ¿ha contemplado la posibilidad de intercambio de experiencias de aprendizaje y aplicación de Python al día a día con comfama? (Estudio Trabajo Social y allí, en comfama, aprendí los fundamentos, lo básico de Python)\n",
    "\n",
    "¿Conoce si en la Universidad de Antioquia hay medios para poder aprender Swift/XCODE? (Para programar para dispositivos de Apple)\n",
    "5. Debo considerar la metodología ABP, es decir, diseñar las clase bajo la metodología de Aprendizaje Basado en Problemas. \n",
    "\n"
   ]
  },
  {
   "cell_type": "markdown",
   "id": "53cc9115",
   "metadata": {
    "slideshow": {
     "slide_type": "slide"
    }
   },
   "source": [
    "## Agradecimientos  \n",
    "\n",
    "Doy gracias a Dios por la vida de mi Hijo Joseph Cañas Osorio y la madurez que ha alcanzado.\n",
    "\n",
    "Y a mi esposa Yasmira por su apoyo, orientación y acompañamiento. "
   ]
  }
 ],
 "metadata": {
  "celltoolbar": "Slideshow",
  "kernelspec": {
   "display_name": "Python 3 (ipykernel)",
   "language": "python",
   "name": "python3"
  },
  "language_info": {
   "codemirror_mode": {
    "name": "ipython",
    "version": 3
   },
   "file_extension": ".py",
   "mimetype": "text/x-python",
   "name": "python",
   "nbconvert_exporter": "python",
   "pygments_lexer": "ipython3",
   "version": "3.10.12"
  },
  "rise": {
   "enable_chalkboard": true,
   "theme": "sky",
   "transition": "zoom"
  }
 },
 "nbformat": 4,
 "nbformat_minor": 5
}
