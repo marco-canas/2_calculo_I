{
 "cells": [
  {
   "attachments": {},
   "cell_type": "markdown",
   "id": "dc06dec7",
   "metadata": {
    "slideshow": {
     "slide_type": "slide"
    }
   },
   "source": [
    "<table align=\"left\">\n",
    "  <td>\n",
    "    <a href=\"https://colab.research.google.com/github/marco-canas/calculo/blob/main/referents/grajales/5_limits/1_limites.ipynb\" target=\"_parent\"><img src=\"https://colab.research.google.com/assets/colab-badge.svg\" alt=\"Open In Colab\"/></a>\n",
    "  </td>\n",
    "</table>"
   ]
  },
  {
   "attachments": {},
   "cell_type": "markdown",
   "id": "9f0f1de9",
   "metadata": {},
   "source": [
    "Hoy dedico mi lectura a mi familia con Yas y Joseph\n",
    "\n",
    "<img src = 'https://github.com/marco-canas/didactica_ciencia_datos/blob/main/4_images/3_images_of_students/janis_joseph_marco_granizado.jpg?raw=true' width = 600>"
   ]
  },
  {
   "attachments": {},
   "cell_type": "markdown",
   "id": "e0c5b198",
   "metadata": {
    "slideshow": {
     "slide_type": "slide"
    }
   },
   "source": [
    "### [Video de apoyo a la lectura interactiva y experimental de este cuaderno](https://www.youtube.com/watch?v=n385JEhrC64)"
   ]
  },
  {
   "attachments": {},
   "cell_type": "markdown",
   "id": "41e82203",
   "metadata": {
    "slideshow": {
     "slide_type": "slide"
    }
   },
   "source": [
    "## [Vínculo al programa del curso de matemáticas I:](https://github.com/marco-canas/2_calculo_I/tree/main)\n",
    "\n",
    "## [Vínculo al programa del curso de matemáticas II](https://github.com/marco-canas/calculo/blob/main/2_programa_math_II.pdf)"
   ]
  },
  {
   "attachments": {},
   "cell_type": "markdown",
   "id": "d11ab06d",
   "metadata": {
    "slideshow": {
     "slide_type": "slide"
    }
   },
   "source": [
    "Un reconocimiento a mi hermana:\n",
    "\n",
    "<img src = 'https://github.com/marco-canas/didactica_ciencia_datos/blob/main/4_images/3_images_of_students/yorla_marco_2022_07_20.jpg?raw=true' width = 600> \n",
    "\n"
   ]
  },
  {
   "attachments": {},
   "cell_type": "markdown",
   "id": "5e3936d8",
   "metadata": {
    "slideshow": {
     "slide_type": "slide"
    }
   },
   "source": [
    "# Llamar a lista o tomar asistencia con python o llamar el equipo para la tarea con video y cuaderno Jupyter sobre medición indirecta de grandes alturas con imágenes"
   ]
  },
  {
   "cell_type": "code",
   "execution_count": 2,
   "id": "7604880f",
   "metadata": {
    "slideshow": {
     "slide_type": "slide"
    }
   },
   "outputs": [],
   "source": [
    "# Llamar a lista o tomar asistencia con python \n",
    "\n",
    "import pandas as pd # convertir la lista de estudiantes en un dataframe\n",
    "import numpy as np # elección aleatoria\n",
    "\n",
    "# Cargar la lista de estudiantes desde la URL\n",
    "url = 'https://raw.githubusercontent.com/marco-canas/groups_list/main/math1.csv'\n",
    "estudiantes = pd.read_csv(url) # convierte el csv en una dataframe\n",
    "\n",
    "# Convertir la columna 'Nombre' a una lista de Python\n",
    "lista_estudiantes = estudiantes['Nombre'].tolist()\n",
    "\n",
    "# Función para llamar a un estudiante aleatoriamente y registrar su nota de seguimiento\n",
    "def llamar_estudiante():\n",
    "    if lista_estudiantes:\n",
    "        estudiante_aleatorio = np.random.choice(lista_estudiantes)\n",
    "        print(f\"Llamando a {estudiante_aleatorio}...\")\n",
    "        lista_estudiantes.remove(estudiante_aleatorio)\n",
    "    else:\n",
    "        print(\"Se han llamado a todos los estudiantes del grupo completo.\")\n"
   ]
  },
  {
   "cell_type": "code",
   "execution_count": 8,
   "id": "a359c096",
   "metadata": {
    "slideshow": {
     "slide_type": "slide"
    }
   },
   "outputs": [
    {
     "name": "stdout",
     "output_type": "stream",
     "text": [
      "Llamando a VILLADIEGO GALLEGO JORGE ANDRES...\n"
     ]
    }
   ],
   "source": [
    "llamar_estudiante()"
   ]
  },
  {
   "attachments": {},
   "cell_type": "markdown",
   "id": "ca46c23b",
   "metadata": {
    "slideshow": {
     "slide_type": "slide"
    }
   },
   "source": [
    "# Modelo general de clase: [aula invertida](https://www3.gobiernodecanarias.org/medusa/ecoescuela/pedagotic/aprendizaje-invertido-flipped-classroom/)\n"
   ]
  },
  {
   "attachments": {},
   "cell_type": "markdown",
   "id": "79c35435",
   "metadata": {
    "slideshow": {
     "slide_type": "slide"
    }
   },
   "source": [
    "## Fomento de la lectura literaria asociada a Ingeniería agropecuaria, licenciatura en Matemáticas y ciencias económicas\n"
   ]
  },
  {
   "attachments": {},
   "cell_type": "markdown",
   "id": "3aa45870",
   "metadata": {},
   "source": [
    "[Daniel Goleman: La inteligencia emocional](https://github.com/marco-canas/inteligencia_emocional/tree/main/1_para_que_son_las_emociones) \n"
   ]
  },
  {
   "attachments": {},
   "cell_type": "markdown",
   "id": "96775931",
   "metadata": {
    "slideshow": {
     "slide_type": "slide"
    }
   },
   "source": [
    "## Título de la clase: Parte 5. Límites y continuidad de funciones que servirán como modelos económicos\n",
    "\n",
    "Página 280 del texto de [Lina Grajales: Matemáticas I para ciencias económicas.](https://github.com/marco-canas/calculo/blob/main/referents/grajales/GrajalesLina_2015_MatemticasCienciasEconmicas.pdf) \n",
    "\n"
   ]
  },
  {
   "attachments": {},
   "cell_type": "markdown",
   "id": "1d38dd4e",
   "metadata": {
    "slideshow": {
     "slide_type": "slide"
    }
   },
   "source": [
    "### Objetivo de aprendizaje (Enunciar, de manera corta sencilla y clara para todos los asistentes)\n",
    "\n",
    "* Aprender a describir tendencias correlacionadas utilizando la representación tabular de las funciones elaboradas a mano y con la librería pandas de python. \n",
    "* Aprender a describir tendencias o aproximaciones utilizando la representación gráfica de las funciones elaboradas a mano y con la librería plotly de python.\n",
    "* Que el administrador de empresas aprenda a describir comportamientos financieros con fluidez apoyado por representaciones tabulares, gráficas y algebraicas y de la mano del concepto de límite de funciones. "
   ]
  },
  {
   "attachments": {},
   "cell_type": "markdown",
   "id": "ca7261b1",
   "metadata": {
    "slideshow": {
     "slide_type": "slide"
    }
   },
   "source": [
    "## Establecimiento de prerrequisitos conceptuales para alcanzar el objetivo de aprendizaje trazado.   \n",
    "\n"
   ]
  },
  {
   "cell_type": "markdown",
   "id": "d0f44d5d",
   "metadata": {},
   "source": [
    "\n",
    "Antes de adentrarse en el tema de límites de funciones, es importante tener una base sólida de conceptos matemáticos y algebraicos. Aquí tienes una lista de prerrequisitos conceptuales recomendados:\n"
   ]
  },
  {
   "cell_type": "markdown",
   "id": "56a3ce0a",
   "metadata": {},
   "source": [
    "\n",
    "1. **Álgebra básica**: Debes estar familiarizado con operaciones aritméticas, resolución de ecuaciones lineales y cuadráticas, factorización y simplificación de expresiones algebraicas. (Página 123 de Lina Grajales: Matemáticas I para ciencias económicas). \n"
   ]
  },
  {
   "attachments": {},
   "cell_type": "markdown",
   "id": "25b74481",
   "metadata": {},
   "source": [
    "\n",
    "2. **Funciones**: Comprender qué es una función y cómo se representa, así como el concepto de dominio y rango de una función.\n"
   ]
  },
  {
   "cell_type": "markdown",
   "id": "bd9f076c",
   "metadata": {},
   "source": [
    "\n",
    "3. **Notación matemática**: Conocer la notación matemática estándar, como el uso de letras para variables y símbolos matemáticos como sumatorias, productos y exponentes.\n"
   ]
  },
  {
   "cell_type": "markdown",
   "id": "92e1efca",
   "metadata": {},
   "source": [
    "\n",
    "4. **Geometría**: Tener una comprensión básica de conceptos geométricos, como el plano cartesiano y las coordenadas.\n"
   ]
  },
  {
   "cell_type": "markdown",
   "id": "32c89257",
   "metadata": {},
   "source": [
    "\n",
    "5. **Trigonometría**: Familiarizarte con las funciones trigonométricas (seno, coseno, tangente) y sus propiedades básicas.\n"
   ]
  },
  {
   "cell_type": "markdown",
   "id": "4efa2861",
   "metadata": {},
   "source": [
    "\n",
    "6. **Reglas básicas de límites**: Conocer las reglas básicas para calcular límites, como las reglas de límites de suma, resta, multiplicación y división, así como el límite de una constante y el límite de una función polinómica.\n"
   ]
  },
  {
   "cell_type": "markdown",
   "id": "06bd95f9",
   "metadata": {},
   "source": [
    "\n",
    "7. **Asíntotas**: Comprender el concepto de asíntotas y cómo identificarlas en una función.\n"
   ]
  },
  {
   "cell_type": "markdown",
   "id": "5f1443ef",
   "metadata": {},
   "source": [
    "\n",
    "8. **Continuidad**: Saber qué significa que una función sea continua en un punto y cómo se define la continuidad en un intervalo.\n"
   ]
  },
  {
   "cell_type": "markdown",
   "id": "1d96f800",
   "metadata": {},
   "source": [
    "\n",
    "9. **Derivadas**: Tener una comprensión básica de las derivadas y su relación con los límites, aunque no es un prerrequisito absoluto, ya que los límites pueden ser introducidos antes o después del cálculo de derivadas.\n"
   ]
  },
  {
   "cell_type": "markdown",
   "id": "5c51172e",
   "metadata": {},
   "source": [
    "\n",
    "10. **Gráficas de funciones**: Saber cómo representar gráficamente funciones básicas y cómo analizar el comportamiento de la función alrededor de un punto.\n",
    "\n",
    "Estos prerrequisitos proporcionarán una base sólida para comprender y abordar el tema de límites de funciones. Si es necesario, puedes repasar o consultar recursos adicionales para fortalecer tu conocimiento en estos temas antes de abordar los límites de funciones.\n",
    " "
   ]
  },
  {
   "attachments": {},
   "cell_type": "markdown",
   "id": "2298e976",
   "metadata": {
    "slideshow": {
     "slide_type": "slide"
    }
   },
   "source": [
    "# Para el diseño de la clase tenga en cuenta algunos problemas de aprendizaje"
   ]
  },
  {
   "attachments": {},
   "cell_type": "markdown",
   "id": "523d3acf",
   "metadata": {
    "slideshow": {
     "slide_type": "slide"
    }
   },
   "source": [
    "Aquí tienes una lista de problemas de aprendizaje frecuentes que los estudiantes pueden enfrentar al estudiar el concepto de límites de funciones:\n"
   ]
  },
  {
   "cell_type": "markdown",
   "id": "b57e3518",
   "metadata": {},
   "source": [
    "\n",
    "1. **Entender la definición formal de límite**: Algunos estudiantes pueden tener dificultades para comprender la definición formal de límite, que implica expresiones matemáticas abstractas y símbolos como $\\epsilon$ (épsilon) y $\\delta$ (delta).\n"
   ]
  },
  {
   "cell_type": "markdown",
   "id": "aa86f6d6",
   "metadata": {},
   "source": [
    "\n",
    "2. **Interpretar el significado geométrico del límite**: Comprender el significado geométrico del límite como la aproximación del comportamiento de una función en un punto puede ser un desafío para algunos estudiantes.\n"
   ]
  },
  {
   "cell_type": "markdown",
   "id": "361161ba",
   "metadata": {},
   "source": [
    "\n",
    "3. **Resolver límites indeterminados**: Al calcular límites de funciones, pueden surgir situaciones de \"indeterminación\" como 0/0 o ∞/∞, que pueden ser confusas al principio.\n"
   ]
  },
  {
   "cell_type": "markdown",
   "id": "35c13cbf",
   "metadata": {},
   "source": [
    "\n",
    "4. **Aplicación de reglas de límites**: Aplicar correctamente las reglas de límites para funciones algebraicas, trigonométricas o exponenciales puede ser complicado, especialmente cuando se enfrentan a funciones más complejas.\n"
   ]
  },
  {
   "cell_type": "markdown",
   "id": "e0ab758d",
   "metadata": {},
   "source": [
    "\n",
    "5. **Diferenciar entre límites laterales y límites en un punto**: Comprender la diferencia entre límites laterales (uno desde el lado izquierdo y otro desde el lado derecho) y el límite en un punto puede ser confuso para algunos estudiantes.\n"
   ]
  },
  {
   "cell_type": "markdown",
   "id": "df996906",
   "metadata": {},
   "source": [
    "\n",
    "6. **Identificar asíntotas**: Al estudiar límites, es importante identificar las asíntotas verticales y horizontales de una función, lo cual puede ser un desafío.\n"
   ]
  },
  {
   "cell_type": "markdown",
   "id": "d84fff04",
   "metadata": {},
   "source": [
    "\n",
    "7. **Resolver límites que requieren técnicas especiales**: Algunos límites pueden requerir técnicas especiales, como la sustitución trigonométrica o el uso de la regla de L'Hôpital, lo cual puede ser difícil de aplicar correctamente.\n"
   ]
  },
  {
   "cell_type": "markdown",
   "id": "fbd7cb20",
   "metadata": {},
   "source": [
    "\n",
    "8. **Uso adecuado de notación límite**: Utilizar la notación de límite correctamente puede ser problemático para algunos estudiantes, especialmente al expresar límites en términos de variables.\n"
   ]
  },
  {
   "cell_type": "markdown",
   "id": "81cfc8f6",
   "metadata": {},
   "source": [
    "\n",
    "9. **Errores aritméticos y algebraicos**: Los estudiantes pueden cometer errores aritméticos o algebraicos al simplificar expresiones mientras calculan límites, lo que puede conducir a respuestas incorrectas.\n"
   ]
  },
  {
   "attachments": {},
   "cell_type": "markdown",
   "id": "b36ced6f",
   "metadata": {},
   "source": [
    "\n",
    "10. **Relacionar límites con otros conceptos matemáticos**: Algunos estudiantes pueden tener dificultades para relacionar el concepto de límites con otros temas matemáticos, como continuidad o derivadas.\n"
   ]
  },
  {
   "attachments": {},
   "cell_type": "markdown",
   "id": "81fd8cf4",
   "metadata": {},
   "source": [
    "\n",
    "Para superar estos problemas de aprendizaje, es esencial que los estudiantes practiquen con una variedad de ejercicios, busquen la ayuda de sus profesores o tutores cuando sea necesario y consulten recursos adicionales, como libros o tutoriales en línea. La paciencia y la perseverancia son clave para desarrollar una comprensión sólida de los límites de funciones."
   ]
  },
  {
   "attachments": {},
   "cell_type": "markdown",
   "id": "0481fc99",
   "metadata": {},
   "source": [
    "## Cuestionario para realizar labores de memorización, observación y síntesis de la información (Además de diagnóstico)\n"
   ]
  },
  {
   "attachments": {},
   "cell_type": "markdown",
   "id": "5e4e0a0d",
   "metadata": {},
   "source": [
    "\n",
    "Un cuestionario para establecer un diagnóstico de saberes previos de los estudiantes antes de abordar el tema de límites de funciones. Este cuestionario está diseñado para evaluar la comprensión de conceptos matemáticos fundamentales relacionados con funciones y álgebra, que son prerrequisitos para entender los límites de funciones.\n"
   ]
  },
  {
   "cell_type": "markdown",
   "id": "712930e2",
   "metadata": {},
   "source": [
    "\n",
    "1. ¿Qué es una función en matemáticas?    \n",
    "a) Un conjunto de números reales.  \n",
    "b) **Una relación entre dos conjuntos donde cada elemento del primer conjunto se asocia con un solo elemento del segundo conjunto.**  \n",
    "c) Una operación aritmética.  \n"
   ]
  },
  {
   "cell_type": "markdown",
   "id": "d61acefe",
   "metadata": {},
   "source": [
    "\n",
    "2. ¿Cuál es la diferencia entre una función y una ecuación?  \n",
    "a) Una función contiene variables y una ecuación no.  \n",
    "b) Una función es una igualdad matemática y una ecuación no.  \n",
    "c) No hay diferencia, ambos términos se usan indistintamente.  \n",
    "d) La función es una igualdad que establece una relación, mientras que una ecuación es una igualdad que estable una pregunta a resolver. \n"
   ]
  },
  {
   "cell_type": "markdown",
   "id": "acd8b1c3",
   "metadata": {},
   "source": [
    "\n",
    "3. ¿Cuál es el dominio de una función?\n",
    "a) El conjunto de todas las salidas posibles de la función.\n",
    "b) El conjunto de todas las entradas posibles de la función.\n",
    "c) El conjunto de todas las respuestas correctas de una función.\n"
   ]
  },
  {
   "cell_type": "markdown",
   "id": "4c68ab25",
   "metadata": {},
   "source": [
    "\n",
    "4. ¿Qué es una asíntota en una gráfica de función?\n",
    "a) Un punto donde la función alcanza su máximo o mínimo.\n",
    "b) Una recta vertical u horizontal que la gráfica de la función se acerca infinitamente pero nunca toca.\n",
    "c) Un punto donde la gráfica de la función se corta con el eje de coordenadas.\n"
   ]
  },
  {
   "cell_type": "markdown",
   "id": "b22ac26e",
   "metadata": {},
   "source": [
    "\n",
    "5. ¿Qué representa el límite de una función en un punto dado?  \n",
    "   a) El valor real de la función en ese punto.  \n",
    "   b) La tasa de cambio instantáneo de la función en ese punto.  \n",
    "   c) La aproximación del comportamiento de la función en ese punto.  \n"
   ]
  },
  {
   "cell_type": "markdown",
   "id": "650d12f5",
   "metadata": {},
   "source": [
    "\n",
    "6. ¿Qué significa que un límite sea \"indeterminado\"?  \n",
    "   a) Que el límite no existe.  \n",
    "   b) Que el límite es igual a cero.  \n",
    "   c) Que no se puede determinar el valor del límite usando las reglas estándar.  \n"
   ]
  },
  {
   "cell_type": "markdown",
   "id": "dd5d6365",
   "metadata": {},
   "source": [
    "\n",
    "7. ¿Cuál de las siguientes reglas de límites es válida?\n",
    "a) Límite de una suma es la suma de los límites.\n",
    "b) Límite de un producto es el producto de los límites.\n",
    "c) Límite de una división es la división de los límites.\n"
   ]
  },
  {
   "cell_type": "markdown",
   "id": "4869faf5",
   "metadata": {},
   "source": [
    "\n",
    "8. ¿Cuál es el límite de la función $f(x) = 3x + 5$ cuando $x$ se acerca a $2$?  \n",
    "a) 3  \n",
    "b) 7  \n",
    "c) 11  \n"
   ]
  },
  {
   "cell_type": "markdown",
   "id": "001191f2",
   "metadata": {},
   "source": [
    "\n",
    "9. ¿Cuál es el límite de la función $g(x) = sin(x) / x$ cuando $x$ se acerca a $0$?  \n",
    "a) 0  \n",
    "b) 1  \n",
    "c) No existe límite.  \n"
   ]
  },
  {
   "cell_type": "markdown",
   "id": "42c717d8",
   "metadata": {},
   "source": [
    "\n",
    "10. ¿Qué se puede concluir si el límite de una función en un punto dado es igual al valor de la función en ese punto?\n",
    "a) La función es continua en ese punto.\n",
    "b) La función tiene una asíntota en ese punto.\n",
    "c) El límite no existe.\n",
    "\n",
    "Espero que este cuestionario te ayude a evaluar los saberes previos de los estudiantes antes de abordar el tema de límites de funciones. Puedes utilizar las respuestas para identificar las áreas de mayor dificultad y adaptar tus estrategias de enseñanza para abordar esas necesidades específicas."
   ]
  },
  {
   "attachments": {},
   "cell_type": "markdown",
   "id": "3d03e2d0",
   "metadata": {},
   "source": [
    "## [Video de apoyo a la parte introduccitia de esta clase sobre límites de funciones](https://www.youtube.com/watch?v=QY3QPE-LchY)"
   ]
  },
  {
   "attachments": {},
   "cell_type": "markdown",
   "id": "a40a4704",
   "metadata": {
    "slideshow": {
     "slide_type": "slide"
    }
   },
   "source": [
    "## Secuencia conceptual introductoria a la clase"
   ]
  },
  {
   "attachments": {},
   "cell_type": "markdown",
   "id": "6acdd893",
   "metadata": {},
   "source": [
    "## Ejemplo ilustrativo desde una situación problemática aplicada a la administración de empresas 16.20  (Ejemplo tomado de la Página 211 de Lina Grajales)\n",
    "\n",
    "Un fabricante puede producir adobes para construcción en Caucasia a un costo de  $\\$ 1200$ COP la unidad.  \n",
    "Se estima que si los adobes se venden a un precio de $x$ pesos cada uno, los consumidores comprarán $10000 − x$ de estos al mes.   \n",
    "\n",
    "* Exprese el beneficio de la compañía como una función del precio unitario $B = B(x)$, \n",
    "* Identifique o diga que tipo de función es el beneficio. \n",
    "* Determine la representación tabular de la función de beneficio. \n",
    "* dibuje la gráfica de esta función y utilícela para \n",
    "* estimar el precio óptimo de venta, \n",
    "* el beneficio óptimo, y \n",
    "* determine el dominio y \n",
    "* recorrido de esta función.\n",
    "* Determine los siguientes límites que te ayudará a describir mejor el comportamiento económico de la función de beneficio $B = B(x)$. "
   ]
  },
  {
   "cell_type": "code",
   "execution_count": 9,
   "id": "34cb6403",
   "metadata": {},
   "outputs": [
    {
     "data": {
      "text/latex": [
       "$\\displaystyle x \\left(10000 - x\\right) + 1200 x - 12000000$"
      ],
      "text/plain": [
       "x*(10000 - x) + 1200*x - 12000000"
      ]
     },
     "execution_count": 9,
     "metadata": {},
     "output_type": "execute_result"
    }
   ],
   "source": [
    "# Ojo, recuerde graficar con plotly para facilitar la lectura de gráficos \n",
    "# y el establecimiento de tencencias de la función a partir del gráfico de la misma\n",
    "import numpy as np \n",
    "import pandas as pd \n",
    "import plotly.express as px\n",
    "from sympy import * \n",
    "x, I, C, B = var('x, I, C, B')\n",
    "\n",
    "def I(x):\n",
    "    precio_de_venta = x \n",
    "    n_adobes_que_vende_en_el_mes = 10_000 - x\n",
    "    ingreso = precio_de_venta*n_adobes_que_vende_en_el_mes \n",
    "    return ingreso \n",
    "\n",
    "def C(x): \n",
    "    costo_por_unidad = 1200\n",
    "    n_adobes_que_venda_por_mes = 10_000-x \n",
    "    costo_por_mes = costo_por_unidad*n_adobes_que_venda_por_mes\n",
    "    return costo_por_mes \n",
    "\n",
    "def B(x):\n",
    "    return I(x) - C(x)\n",
    "\n",
    "B(x)"
   ]
  },
  {
   "cell_type": "markdown",
   "id": "bfb3cf77",
   "metadata": {},
   "source": [
    "Identificación de la función de beneficio:  Esta función de beneficio se ve que es una función cuadrática, pues se puede llevar a la forma general $$y = ax^{2} + bx + c$$"
   ]
  },
  {
   "cell_type": "code",
   "execution_count": 16,
   "id": "6793a2ff",
   "metadata": {},
   "outputs": [
    {
     "data": {
      "text/html": [
       "<div>\n",
       "<style scoped>\n",
       "    .dataframe tbody tr th:only-of-type {\n",
       "        vertical-align: middle;\n",
       "    }\n",
       "\n",
       "    .dataframe tbody tr th {\n",
       "        vertical-align: top;\n",
       "    }\n",
       "\n",
       "    .dataframe thead th {\n",
       "        text-align: right;\n",
       "    }\n",
       "</style>\n",
       "<table border=\"1\" class=\"dataframe\">\n",
       "  <thead>\n",
       "    <tr style=\"text-align: right;\">\n",
       "      <th></th>\n",
       "      <th>Precios unitarios posibles</th>\n",
       "      <th>Beneficios por mes(dados en millones)</th>\n",
       "    </tr>\n",
       "  </thead>\n",
       "  <tbody>\n",
       "    <tr>\n",
       "      <th>0</th>\n",
       "      <td>1200</td>\n",
       "      <td>0.00</td>\n",
       "    </tr>\n",
       "    <tr>\n",
       "      <th>1</th>\n",
       "      <td>2200</td>\n",
       "      <td>7.80</td>\n",
       "    </tr>\n",
       "    <tr>\n",
       "      <th>2</th>\n",
       "      <td>3200</td>\n",
       "      <td>13.60</td>\n",
       "    </tr>\n",
       "    <tr>\n",
       "      <th>3</th>\n",
       "      <td>4200</td>\n",
       "      <td>17.40</td>\n",
       "    </tr>\n",
       "    <tr>\n",
       "      <th>4</th>\n",
       "      <td>5200</td>\n",
       "      <td>19.20</td>\n",
       "    </tr>\n",
       "    <tr>\n",
       "      <th>5</th>\n",
       "      <td>5300</td>\n",
       "      <td>19.27</td>\n",
       "    </tr>\n",
       "    <tr>\n",
       "      <th>6</th>\n",
       "      <td>5400</td>\n",
       "      <td>19.32</td>\n",
       "    </tr>\n",
       "    <tr>\n",
       "      <th>7</th>\n",
       "      <td>5500</td>\n",
       "      <td>19.35</td>\n",
       "    </tr>\n",
       "    <tr>\n",
       "      <th>8</th>\n",
       "      <td>5600</td>\n",
       "      <td>19.36</td>\n",
       "    </tr>\n",
       "    <tr>\n",
       "      <th>9</th>\n",
       "      <td>5700</td>\n",
       "      <td>19.35</td>\n",
       "    </tr>\n",
       "    <tr>\n",
       "      <th>10</th>\n",
       "      <td>6200</td>\n",
       "      <td>19.00</td>\n",
       "    </tr>\n",
       "    <tr>\n",
       "      <th>11</th>\n",
       "      <td>7200</td>\n",
       "      <td>16.80</td>\n",
       "    </tr>\n",
       "    <tr>\n",
       "      <th>12</th>\n",
       "      <td>8200</td>\n",
       "      <td>12.60</td>\n",
       "    </tr>\n",
       "    <tr>\n",
       "      <th>13</th>\n",
       "      <td>9200</td>\n",
       "      <td>6.40</td>\n",
       "    </tr>\n",
       "    <tr>\n",
       "      <th>14</th>\n",
       "      <td>10000</td>\n",
       "      <td>0.00</td>\n",
       "    </tr>\n",
       "  </tbody>\n",
       "</table>\n",
       "</div>"
      ],
      "text/plain": [
       "    Precios unitarios posibles  Beneficios por mes(dados en millones)\n",
       "0                         1200                                   0.00\n",
       "1                         2200                                   7.80\n",
       "2                         3200                                  13.60\n",
       "3                         4200                                  17.40\n",
       "4                         5200                                  19.20\n",
       "5                         5300                                  19.27\n",
       "6                         5400                                  19.32\n",
       "7                         5500                                  19.35\n",
       "8                         5600                                  19.36\n",
       "9                         5700                                  19.35\n",
       "10                        6200                                  19.00\n",
       "11                        7200                                  16.80\n",
       "12                        8200                                  12.60\n",
       "13                        9200                                   6.40\n",
       "14                       10000                                   0.00"
      ]
     },
     "execution_count": 16,
     "metadata": {},
     "output_type": "execute_result"
    }
   ],
   "source": [
    "\n",
    "precios_unitario = np.array([1200, 2200, 3200, 4200, 5200, 5300, 5400, 5500, 5600, 5700, 6200, 7200, 8200, 9200, 10_000])\n",
    "beneficios_por_mes = B(precios_unitario)  \n",
    "\n",
    "tabla = pd.DataFrame({'Precios unitarios posibles':precios_unitario,\\\n",
    "                    'Beneficios por mes(dados en millones)':beneficios_por_mes/1_000_000})\n",
    "tabla\n"
   ]
  },
  {
   "cell_type": "code",
   "execution_count": 13,
   "id": "6dd79612",
   "metadata": {},
   "outputs": [
    {
     "data": {
      "text/plain": [
       "[1200, 10000]"
      ]
     },
     "execution_count": 13,
     "metadata": {},
     "output_type": "execute_result"
    }
   ],
   "source": [
    "solve(Eq(B(x), 0))"
   ]
  },
  {
   "cell_type": "code",
   "execution_count": 15,
   "id": "79682606",
   "metadata": {},
   "outputs": [
    {
     "data": {
      "text/plain": [
       "5600.0"
      ]
     },
     "execution_count": 15,
     "metadata": {},
     "output_type": "execute_result"
    }
   ],
   "source": [
    "punto_medio = (1200 + 10_000)/2\n",
    "punto_medio"
   ]
  },
  {
   "cell_type": "markdown",
   "id": "9b0b20e2",
   "metadata": {},
   "source": [
    "Conclusión: \n",
    "* El precio optimo es 5600 pesos colombianos. \n",
    "* El beneficio máximo u optimo es de 19.36 millones de pesos\n"
   ]
  },
  {
   "cell_type": "code",
   "execution_count": 17,
   "id": "e2f4f6c2",
   "metadata": {},
   "outputs": [
    {
     "data": {
      "application/vnd.plotly.v1+json": {
       "config": {
        "plotlyServerURL": "https://plot.ly"
       },
       "data": [
        {
         "hovertemplate": "Precios unitarios posibles=%{x}<br>Beneficios por mes(dados en millones)=%{y}<extra></extra>",
         "legendgroup": "",
         "line": {
          "color": "#636efa",
          "dash": "solid"
         },
         "marker": {
          "symbol": "circle"
         },
         "mode": "lines",
         "name": "",
         "orientation": "v",
         "showlegend": false,
         "type": "scatter",
         "x": [
          1200,
          2200,
          3200,
          4200,
          5200,
          5300,
          5400,
          5500,
          5600,
          5700,
          6200,
          7200,
          8200,
          9200,
          10000
         ],
         "xaxis": "x",
         "y": [
          0,
          7.8,
          13.6,
          17.4,
          19.2,
          19.27,
          19.32,
          19.35,
          19.36,
          19.35,
          19,
          16.8,
          12.6,
          6.4,
          0
         ],
         "yaxis": "y"
        }
       ],
       "layout": {
        "legend": {
         "tracegroupgap": 0
        },
        "template": {
         "data": {
          "bar": [
           {
            "error_x": {
             "color": "#2a3f5f"
            },
            "error_y": {
             "color": "#2a3f5f"
            },
            "marker": {
             "line": {
              "color": "#E5ECF6",
              "width": 0.5
             },
             "pattern": {
              "fillmode": "overlay",
              "size": 10,
              "solidity": 0.2
             }
            },
            "type": "bar"
           }
          ],
          "barpolar": [
           {
            "marker": {
             "line": {
              "color": "#E5ECF6",
              "width": 0.5
             },
             "pattern": {
              "fillmode": "overlay",
              "size": 10,
              "solidity": 0.2
             }
            },
            "type": "barpolar"
           }
          ],
          "carpet": [
           {
            "aaxis": {
             "endlinecolor": "#2a3f5f",
             "gridcolor": "white",
             "linecolor": "white",
             "minorgridcolor": "white",
             "startlinecolor": "#2a3f5f"
            },
            "baxis": {
             "endlinecolor": "#2a3f5f",
             "gridcolor": "white",
             "linecolor": "white",
             "minorgridcolor": "white",
             "startlinecolor": "#2a3f5f"
            },
            "type": "carpet"
           }
          ],
          "choropleth": [
           {
            "colorbar": {
             "outlinewidth": 0,
             "ticks": ""
            },
            "type": "choropleth"
           }
          ],
          "contour": [
           {
            "colorbar": {
             "outlinewidth": 0,
             "ticks": ""
            },
            "colorscale": [
             [
              0,
              "#0d0887"
             ],
             [
              0.1111111111111111,
              "#46039f"
             ],
             [
              0.2222222222222222,
              "#7201a8"
             ],
             [
              0.3333333333333333,
              "#9c179e"
             ],
             [
              0.4444444444444444,
              "#bd3786"
             ],
             [
              0.5555555555555556,
              "#d8576b"
             ],
             [
              0.6666666666666666,
              "#ed7953"
             ],
             [
              0.7777777777777778,
              "#fb9f3a"
             ],
             [
              0.8888888888888888,
              "#fdca26"
             ],
             [
              1,
              "#f0f921"
             ]
            ],
            "type": "contour"
           }
          ],
          "contourcarpet": [
           {
            "colorbar": {
             "outlinewidth": 0,
             "ticks": ""
            },
            "type": "contourcarpet"
           }
          ],
          "heatmap": [
           {
            "colorbar": {
             "outlinewidth": 0,
             "ticks": ""
            },
            "colorscale": [
             [
              0,
              "#0d0887"
             ],
             [
              0.1111111111111111,
              "#46039f"
             ],
             [
              0.2222222222222222,
              "#7201a8"
             ],
             [
              0.3333333333333333,
              "#9c179e"
             ],
             [
              0.4444444444444444,
              "#bd3786"
             ],
             [
              0.5555555555555556,
              "#d8576b"
             ],
             [
              0.6666666666666666,
              "#ed7953"
             ],
             [
              0.7777777777777778,
              "#fb9f3a"
             ],
             [
              0.8888888888888888,
              "#fdca26"
             ],
             [
              1,
              "#f0f921"
             ]
            ],
            "type": "heatmap"
           }
          ],
          "heatmapgl": [
           {
            "colorbar": {
             "outlinewidth": 0,
             "ticks": ""
            },
            "colorscale": [
             [
              0,
              "#0d0887"
             ],
             [
              0.1111111111111111,
              "#46039f"
             ],
             [
              0.2222222222222222,
              "#7201a8"
             ],
             [
              0.3333333333333333,
              "#9c179e"
             ],
             [
              0.4444444444444444,
              "#bd3786"
             ],
             [
              0.5555555555555556,
              "#d8576b"
             ],
             [
              0.6666666666666666,
              "#ed7953"
             ],
             [
              0.7777777777777778,
              "#fb9f3a"
             ],
             [
              0.8888888888888888,
              "#fdca26"
             ],
             [
              1,
              "#f0f921"
             ]
            ],
            "type": "heatmapgl"
           }
          ],
          "histogram": [
           {
            "marker": {
             "pattern": {
              "fillmode": "overlay",
              "size": 10,
              "solidity": 0.2
             }
            },
            "type": "histogram"
           }
          ],
          "histogram2d": [
           {
            "colorbar": {
             "outlinewidth": 0,
             "ticks": ""
            },
            "colorscale": [
             [
              0,
              "#0d0887"
             ],
             [
              0.1111111111111111,
              "#46039f"
             ],
             [
              0.2222222222222222,
              "#7201a8"
             ],
             [
              0.3333333333333333,
              "#9c179e"
             ],
             [
              0.4444444444444444,
              "#bd3786"
             ],
             [
              0.5555555555555556,
              "#d8576b"
             ],
             [
              0.6666666666666666,
              "#ed7953"
             ],
             [
              0.7777777777777778,
              "#fb9f3a"
             ],
             [
              0.8888888888888888,
              "#fdca26"
             ],
             [
              1,
              "#f0f921"
             ]
            ],
            "type": "histogram2d"
           }
          ],
          "histogram2dcontour": [
           {
            "colorbar": {
             "outlinewidth": 0,
             "ticks": ""
            },
            "colorscale": [
             [
              0,
              "#0d0887"
             ],
             [
              0.1111111111111111,
              "#46039f"
             ],
             [
              0.2222222222222222,
              "#7201a8"
             ],
             [
              0.3333333333333333,
              "#9c179e"
             ],
             [
              0.4444444444444444,
              "#bd3786"
             ],
             [
              0.5555555555555556,
              "#d8576b"
             ],
             [
              0.6666666666666666,
              "#ed7953"
             ],
             [
              0.7777777777777778,
              "#fb9f3a"
             ],
             [
              0.8888888888888888,
              "#fdca26"
             ],
             [
              1,
              "#f0f921"
             ]
            ],
            "type": "histogram2dcontour"
           }
          ],
          "mesh3d": [
           {
            "colorbar": {
             "outlinewidth": 0,
             "ticks": ""
            },
            "type": "mesh3d"
           }
          ],
          "parcoords": [
           {
            "line": {
             "colorbar": {
              "outlinewidth": 0,
              "ticks": ""
             }
            },
            "type": "parcoords"
           }
          ],
          "pie": [
           {
            "automargin": true,
            "type": "pie"
           }
          ],
          "scatter": [
           {
            "fillpattern": {
             "fillmode": "overlay",
             "size": 10,
             "solidity": 0.2
            },
            "type": "scatter"
           }
          ],
          "scatter3d": [
           {
            "line": {
             "colorbar": {
              "outlinewidth": 0,
              "ticks": ""
             }
            },
            "marker": {
             "colorbar": {
              "outlinewidth": 0,
              "ticks": ""
             }
            },
            "type": "scatter3d"
           }
          ],
          "scattercarpet": [
           {
            "marker": {
             "colorbar": {
              "outlinewidth": 0,
              "ticks": ""
             }
            },
            "type": "scattercarpet"
           }
          ],
          "scattergeo": [
           {
            "marker": {
             "colorbar": {
              "outlinewidth": 0,
              "ticks": ""
             }
            },
            "type": "scattergeo"
           }
          ],
          "scattergl": [
           {
            "marker": {
             "colorbar": {
              "outlinewidth": 0,
              "ticks": ""
             }
            },
            "type": "scattergl"
           }
          ],
          "scattermapbox": [
           {
            "marker": {
             "colorbar": {
              "outlinewidth": 0,
              "ticks": ""
             }
            },
            "type": "scattermapbox"
           }
          ],
          "scatterpolar": [
           {
            "marker": {
             "colorbar": {
              "outlinewidth": 0,
              "ticks": ""
             }
            },
            "type": "scatterpolar"
           }
          ],
          "scatterpolargl": [
           {
            "marker": {
             "colorbar": {
              "outlinewidth": 0,
              "ticks": ""
             }
            },
            "type": "scatterpolargl"
           }
          ],
          "scatterternary": [
           {
            "marker": {
             "colorbar": {
              "outlinewidth": 0,
              "ticks": ""
             }
            },
            "type": "scatterternary"
           }
          ],
          "surface": [
           {
            "colorbar": {
             "outlinewidth": 0,
             "ticks": ""
            },
            "colorscale": [
             [
              0,
              "#0d0887"
             ],
             [
              0.1111111111111111,
              "#46039f"
             ],
             [
              0.2222222222222222,
              "#7201a8"
             ],
             [
              0.3333333333333333,
              "#9c179e"
             ],
             [
              0.4444444444444444,
              "#bd3786"
             ],
             [
              0.5555555555555556,
              "#d8576b"
             ],
             [
              0.6666666666666666,
              "#ed7953"
             ],
             [
              0.7777777777777778,
              "#fb9f3a"
             ],
             [
              0.8888888888888888,
              "#fdca26"
             ],
             [
              1,
              "#f0f921"
             ]
            ],
            "type": "surface"
           }
          ],
          "table": [
           {
            "cells": {
             "fill": {
              "color": "#EBF0F8"
             },
             "line": {
              "color": "white"
             }
            },
            "header": {
             "fill": {
              "color": "#C8D4E3"
             },
             "line": {
              "color": "white"
             }
            },
            "type": "table"
           }
          ]
         },
         "layout": {
          "annotationdefaults": {
           "arrowcolor": "#2a3f5f",
           "arrowhead": 0,
           "arrowwidth": 1
          },
          "autotypenumbers": "strict",
          "coloraxis": {
           "colorbar": {
            "outlinewidth": 0,
            "ticks": ""
           }
          },
          "colorscale": {
           "diverging": [
            [
             0,
             "#8e0152"
            ],
            [
             0.1,
             "#c51b7d"
            ],
            [
             0.2,
             "#de77ae"
            ],
            [
             0.3,
             "#f1b6da"
            ],
            [
             0.4,
             "#fde0ef"
            ],
            [
             0.5,
             "#f7f7f7"
            ],
            [
             0.6,
             "#e6f5d0"
            ],
            [
             0.7,
             "#b8e186"
            ],
            [
             0.8,
             "#7fbc41"
            ],
            [
             0.9,
             "#4d9221"
            ],
            [
             1,
             "#276419"
            ]
           ],
           "sequential": [
            [
             0,
             "#0d0887"
            ],
            [
             0.1111111111111111,
             "#46039f"
            ],
            [
             0.2222222222222222,
             "#7201a8"
            ],
            [
             0.3333333333333333,
             "#9c179e"
            ],
            [
             0.4444444444444444,
             "#bd3786"
            ],
            [
             0.5555555555555556,
             "#d8576b"
            ],
            [
             0.6666666666666666,
             "#ed7953"
            ],
            [
             0.7777777777777778,
             "#fb9f3a"
            ],
            [
             0.8888888888888888,
             "#fdca26"
            ],
            [
             1,
             "#f0f921"
            ]
           ],
           "sequentialminus": [
            [
             0,
             "#0d0887"
            ],
            [
             0.1111111111111111,
             "#46039f"
            ],
            [
             0.2222222222222222,
             "#7201a8"
            ],
            [
             0.3333333333333333,
             "#9c179e"
            ],
            [
             0.4444444444444444,
             "#bd3786"
            ],
            [
             0.5555555555555556,
             "#d8576b"
            ],
            [
             0.6666666666666666,
             "#ed7953"
            ],
            [
             0.7777777777777778,
             "#fb9f3a"
            ],
            [
             0.8888888888888888,
             "#fdca26"
            ],
            [
             1,
             "#f0f921"
            ]
           ]
          },
          "colorway": [
           "#636efa",
           "#EF553B",
           "#00cc96",
           "#ab63fa",
           "#FFA15A",
           "#19d3f3",
           "#FF6692",
           "#B6E880",
           "#FF97FF",
           "#FECB52"
          ],
          "font": {
           "color": "#2a3f5f"
          },
          "geo": {
           "bgcolor": "white",
           "lakecolor": "white",
           "landcolor": "#E5ECF6",
           "showlakes": true,
           "showland": true,
           "subunitcolor": "white"
          },
          "hoverlabel": {
           "align": "left"
          },
          "hovermode": "closest",
          "mapbox": {
           "style": "light"
          },
          "paper_bgcolor": "white",
          "plot_bgcolor": "#E5ECF6",
          "polar": {
           "angularaxis": {
            "gridcolor": "white",
            "linecolor": "white",
            "ticks": ""
           },
           "bgcolor": "#E5ECF6",
           "radialaxis": {
            "gridcolor": "white",
            "linecolor": "white",
            "ticks": ""
           }
          },
          "scene": {
           "xaxis": {
            "backgroundcolor": "#E5ECF6",
            "gridcolor": "white",
            "gridwidth": 2,
            "linecolor": "white",
            "showbackground": true,
            "ticks": "",
            "zerolinecolor": "white"
           },
           "yaxis": {
            "backgroundcolor": "#E5ECF6",
            "gridcolor": "white",
            "gridwidth": 2,
            "linecolor": "white",
            "showbackground": true,
            "ticks": "",
            "zerolinecolor": "white"
           },
           "zaxis": {
            "backgroundcolor": "#E5ECF6",
            "gridcolor": "white",
            "gridwidth": 2,
            "linecolor": "white",
            "showbackground": true,
            "ticks": "",
            "zerolinecolor": "white"
           }
          },
          "shapedefaults": {
           "line": {
            "color": "#2a3f5f"
           }
          },
          "ternary": {
           "aaxis": {
            "gridcolor": "white",
            "linecolor": "white",
            "ticks": ""
           },
           "baxis": {
            "gridcolor": "white",
            "linecolor": "white",
            "ticks": ""
           },
           "bgcolor": "#E5ECF6",
           "caxis": {
            "gridcolor": "white",
            "linecolor": "white",
            "ticks": ""
           }
          },
          "title": {
           "x": 0.05
          },
          "xaxis": {
           "automargin": true,
           "gridcolor": "white",
           "linecolor": "white",
           "ticks": "",
           "title": {
            "standoff": 15
           },
           "zerolinecolor": "white",
           "zerolinewidth": 2
          },
          "yaxis": {
           "automargin": true,
           "gridcolor": "white",
           "linecolor": "white",
           "ticks": "",
           "title": {
            "standoff": 15
           },
           "zerolinecolor": "white",
           "zerolinewidth": 2
          }
         }
        },
        "title": {
         "text": "Relación entre $x$ y $B$"
        },
        "xaxis": {
         "anchor": "y",
         "domain": [
          0,
          1
         ],
         "title": {
          "text": "Precios unitarios posibles"
         }
        },
        "yaxis": {
         "anchor": "x",
         "domain": [
          0,
          1
         ],
         "title": {
          "text": "Beneficios por mes(dados en millones)"
         }
        }
       }
      }
     },
     "metadata": {},
     "output_type": "display_data"
    }
   ],
   "source": [
    "\n",
    "\n",
    "#fig = px.line(tabla,x = tabla.keys()[0], y = tabla.keys()[1], title=r'Relación entre $x$ y $y$')\n",
    "\n",
    "fig = px.line(tabla,x = tabla.keys()[0], y = tabla.keys()[1], \\\n",
    "                 title=r'Relación entre $x$ y $B$')\n",
    "\n",
    "fig.show()\n",
    "\n",
    "#fig.write_html('relacion_entre_x_e_y.html', auto_open=True)"
   ]
  },
  {
   "cell_type": "markdown",
   "id": "aa074579",
   "metadata": {},
   "source": [
    "## Inferecias de la lectura del gráfico interactivo  \n",
    "\n",
    "$$ \\lim_{x \\to 1200^{+}} B(x) = 0 $$\n",
    "\n",
    "$$ \\lim_{x \\to 10000^{-}} B(x) = 0 $$\n",
    "\n",
    "El dominio de la función de beneficio es $[1200, 10000]$\n",
    "El rango o recorrido es el intervalo $[0, 19.36]$ millones de pesos. \n"
   ]
  },
  {
   "cell_type": "markdown",
   "id": "b9a1503e",
   "metadata": {},
   "source": [
    "[Video de apoyo](https://www.youtube.com/watch?v=t3hmq_LweZc)"
   ]
  },
  {
   "cell_type": "code",
   "execution_count": null,
   "id": "5868fd59",
   "metadata": {},
   "outputs": [],
   "source": []
  },
  {
   "cell_type": "markdown",
   "id": "c367fb8b",
   "metadata": {},
   "source": [
    "# Próxima semana Parcial sobre límites. "
   ]
  },
  {
   "attachments": {},
   "cell_type": "markdown",
   "id": "12cb2994",
   "metadata": {
    "slideshow": {
     "slide_type": "slide"
    }
   },
   "source": []
  },
  {
   "cell_type": "code",
   "execution_count": null,
   "id": "17e42f05",
   "metadata": {},
   "outputs": [],
   "source": []
  },
  {
   "cell_type": "markdown",
   "id": "d2341e6c",
   "metadata": {},
   "source": [
    "# Vocabulary \n",
    "1.  \n"
   ]
  },
  {
   "attachments": {},
   "cell_type": "markdown",
   "id": "1ccfb67e",
   "metadata": {
    "slideshow": {
     "slide_type": "slide"
    }
   },
   "source": [
    "# Visualizaciones tabulares y gráficas"
   ]
  },
  {
   "attachments": {},
   "cell_type": "markdown",
   "id": "0631fb05",
   "metadata": {
    "slideshow": {
     "slide_type": "slide"
    }
   },
   "source": [
    "## Visualización gráfica con plotly"
   ]
  },
  {
   "cell_type": "code",
   "execution_count": null,
   "id": "d1bff0f9",
   "metadata": {
    "slideshow": {
     "slide_type": "slide"
    }
   },
   "outputs": [],
   "source": [
    "import pandas as pd \n",
    "import plotly.express as px\n",
    "X=[]\n",
    "Y=[]\n",
    "tabla = pd.DataFrame({'anchos del cuadrado':X, 'Ordenadas':Y})\n",
    "\n",
    "\n",
    "\n",
    "#fig = px.line(tabla,x = tabla.keys()[0], y = tabla.keys()[1], title=r'Relación entre $x$ y $y$')\n",
    "\n",
    "fig = px.scatter(tabla,x = tabla.keys()[0], y = tabla.keys()[1], title=r'Relación entre $x$ y $y$')\n",
    "\n",
    "fig.show()\n",
    "\n",
    "#fig.write_html('relacion_entre_x_e_y.html', auto_open=True)"
   ]
  },
  {
   "cell_type": "code",
   "execution_count": null,
   "id": "6009af5a",
   "metadata": {
    "slideshow": {
     "slide_type": "slide"
    }
   },
   "outputs": [],
   "source": []
  },
  {
   "attachments": {},
   "cell_type": "markdown",
   "id": "bf8d11a1",
   "metadata": {
    "slideshow": {
     "slide_type": "slide"
    }
   },
   "source": [
    "## Mapa conceptual de la clase elaborado en CMapTools"
   ]
  },
  {
   "attachments": {},
   "cell_type": "markdown",
   "id": "aac04d00",
   "metadata": {
    "slideshow": {
     "slide_type": "slide"
    }
   },
   "source": [
    "<img src = ''>"
   ]
  },
  {
   "attachments": {},
   "cell_type": "markdown",
   "id": "740f3401",
   "metadata": {
    "slideshow": {
     "slide_type": "slide"
    }
   },
   "source": [
    "# Componente de manejo de calculadora Casio asociado al objetivo de aprendizaje de esta clase"
   ]
  },
  {
   "attachments": {},
   "cell_type": "markdown",
   "id": "8eecb2d9",
   "metadata": {
    "slideshow": {
     "slide_type": "slide"
    }
   },
   "source": [
    "## Descripción de la calculadora Casio  \n",
    "\n"
   ]
  },
  {
   "cell_type": "code",
   "execution_count": null,
   "id": "3cd72835",
   "metadata": {
    "slideshow": {
     "slide_type": "slide"
    }
   },
   "outputs": [],
   "source": []
  },
  {
   "cell_type": "code",
   "execution_count": null,
   "id": "d8a111c4",
   "metadata": {
    "slideshow": {
     "slide_type": "slide"
    }
   },
   "outputs": [],
   "source": []
  },
  {
   "attachments": {},
   "cell_type": "markdown",
   "id": "8a6f7ef9",
   "metadata": {
    "slideshow": {
     "slide_type": "slide"
    }
   },
   "source": [
    "## Tareas para realizar antes de la clase"
   ]
  },
  {
   "attachments": {},
   "cell_type": "markdown",
   "id": "90cae469",
   "metadata": {
    "slideshow": {
     "slide_type": "slide"
    }
   },
   "source": [
    "1. Ver los videos respectivos []()\n",
    "2. Memorizar las definiciones []()\n",
    "3. Sintetizar o resumir la información en mapas conceptuales. []()\n",
    "4. Tareas para incentivar el uso de la calculadora Casio Para ingenieros y licenciados. "
   ]
  },
  {
   "attachments": {},
   "cell_type": "markdown",
   "id": "fccb447c",
   "metadata": {
    "slideshow": {
     "slide_type": "slide"
    }
   },
   "source": [
    "# Tareas para realizar en clase"
   ]
  },
  {
   "attachments": {},
   "cell_type": "markdown",
   "id": "e5c48edf",
   "metadata": {
    "slideshow": {
     "slide_type": "slide"
    }
   },
   "source": [
    "* Modelación matemática \n",
    "* Trabajo en equipos"
   ]
  },
  {
   "attachments": {},
   "cell_type": "markdown",
   "id": "8b6b0112",
   "metadata": {
    "slideshow": {
     "slide_type": "slide"
    }
   },
   "source": [
    "# Tareas para realizar después de la realización de la clase"
   ]
  },
  {
   "attachments": {},
   "cell_type": "markdown",
   "id": "947460e3",
   "metadata": {
    "slideshow": {
     "slide_type": "slide"
    }
   },
   "source": [
    "* Actividades de memorización: \n",
    "  - escucha reiterada de grabaciones de formulas y resultados científicos. \n",
    "  - relectura de notas. \n",
    "  - ejercicios de mayor complejidad.\n",
    "\n",
    "\n",
    "### No olvide asignar las tareas a los estudiantes a través de Google Colab y compartiendole el cuaderno de asignación a su correo institucional con fecha de entrega. [Google Colab](https://colab.research.google.com/?hl=es)   \n",
    "  "
   ]
  },
  {
   "attachments": {},
   "cell_type": "markdown",
   "id": "d34defb9",
   "metadata": {
    "slideshow": {
     "slide_type": "slide"
    }
   },
   "source": [
    "## Asignación individual de tareas semanales "
   ]
  },
  {
   "attachments": {},
   "cell_type": "markdown",
   "id": "0406f442",
   "metadata": {
    "slideshow": {
     "slide_type": "slide"
    }
   },
   "source": []
  },
  {
   "attachments": {},
   "cell_type": "markdown",
   "id": "ae114e14",
   "metadata": {
    "slideshow": {
     "slide_type": "slide"
    }
   },
   "source": [
    "# Horarios de monitoría y asesoría"
   ]
  },
  {
   "attachments": {},
   "cell_type": "markdown",
   "id": "b1db4b6c",
   "metadata": {
    "slideshow": {
     "slide_type": "slide"
    }
   },
   "source": [
    "## Monitor Manuel"
   ]
  },
  {
   "attachments": {},
   "cell_type": "markdown",
   "id": "39559692",
   "metadata": {
    "slideshow": {
     "slide_type": "slide"
    }
   },
   "source": [
    "Martes y jueves de 8 - 12  \n",
    "Miércoles 10 - 12 y de 2 a 4 PM  \n",
    "Sábado: 8 - 12"
   ]
  },
  {
   "attachments": {},
   "cell_type": "markdown",
   "id": "4537ef79",
   "metadata": {
    "slideshow": {
     "slide_type": "slide"
    }
   },
   "source": [
    "## Monitor Giovanny Reales"
   ]
  },
  {
   "attachments": {},
   "cell_type": "markdown",
   "id": "a54d2914",
   "metadata": {
    "slideshow": {
     "slide_type": "slide"
    }
   },
   "source": [
    "* Lunes a viernes de 6pm a 8pm\n",
    "* Miércoles de 1 pm a 8pm"
   ]
  },
  {
   "attachments": {},
   "cell_type": "markdown",
   "id": "935a5567",
   "metadata": {
    "slideshow": {
     "slide_type": "slide"
    }
   },
   "source": [
    "## Dificultades de aprendizaje detectados durante la clase"
   ]
  },
  {
   "attachments": {},
   "cell_type": "markdown",
   "id": "3bd7500d",
   "metadata": {
    "slideshow": {
     "slide_type": "slide"
    }
   },
   "source": []
  },
  {
   "attachments": {},
   "cell_type": "markdown",
   "id": "fb9402bb",
   "metadata": {
    "slideshow": {
     "slide_type": "slide"
    }
   },
   "source": [
    "## Estrategias propuestas para la solución de las dificultades de aprendizaje detectadas"
   ]
  },
  {
   "attachments": {},
   "cell_type": "markdown",
   "id": "d437294b",
   "metadata": {
    "slideshow": {
     "slide_type": "slide"
    }
   },
   "source": []
  },
  {
   "attachments": {},
   "cell_type": "markdown",
   "id": "d11570a2",
   "metadata": {
    "slideshow": {
     "slide_type": "slide"
    }
   },
   "source": []
  },
  {
   "attachments": {},
   "cell_type": "markdown",
   "id": "236b43fc",
   "metadata": {
    "slideshow": {
     "slide_type": "slide"
    }
   },
   "source": [
    "## Grabaciones en audio para fomentar la capacidad de memorizar enunciados de teoremas y resultados científicos y la capacidad de parafrasear estos resultados. Y así desarrollar memoria muscular para los comandos comunes. "
   ]
  },
  {
   "attachments": {},
   "cell_type": "markdown",
   "id": "319f2ffa",
   "metadata": {
    "slideshow": {
     "slide_type": "slide"
    }
   },
   "source": [
    "Se dispondrá de un lugar en Vocaroo para albergar archivos de audio de fomento a la memorización, enunciación y parafraseo de los resultados científicos, propiedades, reglas, etc. \n",
    "\n",
    "[Vocaroo](https://vocaroo.com/)\n",
    "\n"
   ]
  },
  {
   "attachments": {},
   "cell_type": "markdown",
   "id": "564fa59d",
   "metadata": {
    "slideshow": {
     "slide_type": "slide"
    }
   },
   "source": [
    "### Comparta sus cuadernos y videos, evidencias de su aprendizaje [aquí](https://forms.office.com/Pages/ResponsePage.aspx?id=IefhmYRxjkmK_7KtTlPBwkanXIs1i1FEujpsZgO6dXpUMEMwTEZVMzEwVVBPTElWNVg5OVEyWUhMUy4u)"
   ]
  },
  {
   "attachments": {},
   "cell_type": "markdown",
   "id": "1a1a3e41",
   "metadata": {
    "slideshow": {
     "slide_type": "slide"
    }
   },
   "source": []
  },
  {
   "attachments": {},
   "cell_type": "markdown",
   "id": "10bce0d0",
   "metadata": {
    "slideshow": {
     "slide_type": "slide"
    }
   },
   "source": [
    "## Referentes "
   ]
  },
  {
   "attachments": {},
   "cell_type": "markdown",
   "id": "1db3c468",
   "metadata": {
    "slideshow": {
     "slide_type": "slide"
    }
   },
   "source": [
    "* [Lina Grajales: Matemáticas I para ciencias económicas](https://github.com/marco-canas/calculo/blob/main/referents/grajales/GrajalesLina_2015_MatemticasCienciasEconmicas.pdf)  \n",
    "  \n",
    "* [stewart precálculo](https://udeaeduco-my.sharepoint.com/:b:/g/personal/marco_canas_udea_edu_co/ERHIq62I6qFNrmxy6LZb8ZMBci7kUsyNME1nIh9yCBMJ_w?e=0zMSla)  \n",
    "\n",
    "* [stewart cálculo](https://udeaeduco-my.sharepoint.com/:b:/g/personal/marco_canas_udea_edu_co/EZgXZjAp8QxPqOAim2hs6LcBNPLGjSHf-xwYnUVYkwa04w?e=RZdTCy)  \n",
    "\n",
    "* [larson](https://udeaeduco-my.sharepoint.com/:b:/g/personal/marco_canas_udea_edu_co/ES71ChFeO9ZDhW3TwC5Ijk8BjxUK3Pdqz_fjHxTTFAfIAg?e=VDEjfu)\n",
    "\n",
    "* [uzcategui](https://udeaeduco-my.sharepoint.com/:b:/g/personal/marco_canas_udea_edu_co/ETDikm-lVl1Or8XoEo9oyh0BEti9Zs8le-f0D-dBdtZmbA?e=bBsoyQ)\n",
    "\n",
    "* [Cálculo de Purcell](https://udeaeduco-my.sharepoint.com/:b:/g/personal/marco_canas_udea_edu_co/ES60UB4h-QFFqqRQUFmkpWcBIgoLBJeqTfZjNajWNWSeJA?e=9NxjKJ)\n",
    "\n",
    "* [Recomendación de la UNESCO sobre ciencia abierta](https://unesdoc.unesco.org/ark:/48223/pf0000379949_spa)\n",
    "\n",
    "* [Geron, Aurelien. Hands on Machine Learning](https://udeaeduco-my.sharepoint.com/:b:/g/personal/marco_canas_udea_edu_co/Ecet27yjQzZIlT1Y_Bc2erkBUhbeYuIe6HG8i1FYZRlZww?e=gaOjqk)\n",
    "\n",
    "* [McKinney, West. Python for data Analysis.](https://udeaeduco-my.sharepoint.com/:b:/g/personal/marco_canas_udea_edu_co/EVbi5JIeBl9ErbiUnZfGe8YBhNTnZ8sxTK5hjIOPK4UpGw?e=tfkShe)\n",
    "\n",
    "* [ChatGPT](https://openai.com/blog/chatgpt/) \n",
    "\n",
    "* [Fórmulas más comunes en latex](https://wiki.geogebra.org/es/C%C3%B3digo_LaTeX_para_las_f%C3%B3rmulas_m%C3%A1s_comunes) "
   ]
  },
  {
   "attachments": {},
   "cell_type": "markdown",
   "id": "6b9e56a8",
   "metadata": {
    "slideshow": {
     "slide_type": "slide"
    }
   },
   "source": [
    "### [Evaluamos al profesor Marco Cañas Aquí](https://forms.office.com/Pages/ResponsePage.aspx?id=IefhmYRxjkmK_7KtTlPBwkanXIs1i1FEujpsZgO6dXpUREJPV1kxUk1JV1ozTFJIQVNIQjY5WEY3US4u)"
   ]
  },
  {
   "attachments": {},
   "cell_type": "markdown",
   "id": "071afa04",
   "metadata": {
    "slideshow": {
     "slide_type": "slide"
    }
   },
   "source": [
    "## [Evaluación luego de alcanzar estos objetivos de aprendizaje]()"
   ]
  },
  {
   "attachments": {},
   "cell_type": "markdown",
   "id": "10f43536",
   "metadata": {
    "slideshow": {
     "slide_type": "slide"
    }
   },
   "source": [
    "### Continue su aprendizaje en la siguiente clase a través del siguiente [vínculo]()"
   ]
  },
  {
   "attachments": {},
   "cell_type": "markdown",
   "id": "af751e30",
   "metadata": {
    "slideshow": {
     "slide_type": "slide"
    }
   },
   "source": [
    "# Conjeturas pedagógicas fruto de la aplicación del modelo de aprendizaje invertido y del enfoque hacia la ciencia de datos con python\n",
    "\n",
    "1. Todo cálculo o resultado debe ser interpretado en una línea markdown del cuaderno Jupyter, inmediatamente después de la enunciación del resultado y después de la presentación de una tabla o gráfico bidimensional, de tal menera que el estudiante explicite la comprensión verbal del resultado y las inferencias o estrategias que este resultado le sugieren.  \n",
    "\n",
    "2. Debo colocar las conjeturas pedagógicas, que el uso en el aula de [ChatGPT](https://openai.com/blog/chatgpt/) traiga para la enseñanza y el aprendizaje de las matemáticas. \n",
    "\n",
    "3. Promover ciencia abierta en clase de matemáticas puede ser pidiendo a los estudiantes, tomar nota en clase pero en cuadernos Jupyter y entregar siempre al final de cada clase su cuaderno con todas las notas y experimentaciones de clase replicadas. "
   ]
  },
  {
   "attachments": {},
   "cell_type": "markdown",
   "id": "53cc9115",
   "metadata": {
    "slideshow": {
     "slide_type": "slide"
    }
   },
   "source": [
    "## Agradecimientos  \n",
    "\n",
    "Doy gracias a Dios por la vida de mi Hijo Joseph Cañas Osorio y la madurez que ha alcanzado.\n",
    "\n",
    "Y a mi esposa Yasmira por su apoyo, orientación y acompañamiento. "
   ]
  }
 ],
 "metadata": {
  "celltoolbar": "Slideshow",
  "kernelspec": {
   "display_name": "Python 3 (ipykernel)",
   "language": "python",
   "name": "python3"
  },
  "language_info": {
   "codemirror_mode": {
    "name": "ipython",
    "version": 3
   },
   "file_extension": ".py",
   "mimetype": "text/x-python",
   "name": "python",
   "nbconvert_exporter": "python",
   "pygments_lexer": "ipython3",
   "version": "3.10.12"
  },
  "rise": {
   "enable_chalkboard": true,
   "theme": "sky",
   "transition": "zoom"
  }
 },
 "nbformat": 4,
 "nbformat_minor": 5
}
