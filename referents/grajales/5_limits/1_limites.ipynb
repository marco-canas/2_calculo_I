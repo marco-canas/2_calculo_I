{
 "cells": [
  {
   "attachments": {},
   "cell_type": "markdown",
   "id": "dc06dec7",
   "metadata": {
    "slideshow": {
     "slide_type": "slide"
    }
   },
   "source": [
    "<table align=\"left\">\n",
    "  <td>\n",
    "    <a href=\"https://colab.research.google.com/github/marco-canas/2_calculo_I/blob/main/referents/grajales/5_limites_y_continuidad/1_limites.ipynb\" target=\"_parent\"><img src=\"https://colab.research.google.com/assets/colab-badge.svg\" alt=\"Open In Colab\"/></a>\n",
    "  </td>\n",
    "</table>"
   ]
  },
  {
   "attachments": {},
   "cell_type": "markdown",
   "id": "9f0f1de9",
   "metadata": {},
   "source": [
    "Hoy dedico mi lectura a mi familia con Yas y Joseph\n",
    "\n",
    "<img src = 'https://github.com/marco-canas/2_calculo_I/blob/main/images/yas_enith_joseph_marleny_marco_nariguera_2023-07-22%20at%208.53.20%20AM.jpeg?raw=true' width = 600>"
   ]
  },
  {
   "attachments": {},
   "cell_type": "markdown",
   "id": "e0c5b198",
   "metadata": {
    "slideshow": {
     "slide_type": "slide"
    }
   },
   "source": [
    "### [Video de apoyo a la lectura interactiva y experimental de este cuaderno](https://www.youtube.com/watch?v=n385JEhrC64)"
   ]
  },
  {
   "attachments": {},
   "cell_type": "markdown",
   "id": "41e82203",
   "metadata": {
    "slideshow": {
     "slide_type": "slide"
    }
   },
   "source": [
    "## [Vínculo al programa del curso de matemáticas I:](https://github.com/marco-canas/2_calculo_I/tree/main)\n",
    "\n",
    "## [Vínculo al programa del curso de matemáticas II]()"
   ]
  },
  {
   "attachments": {},
   "cell_type": "markdown",
   "id": "d11ab06d",
   "metadata": {
    "slideshow": {
     "slide_type": "slide"
    }
   },
   "source": [
    "Un reconocimiento a mi hermana:\n",
    "\n",
    "<img src = 'https://github.com/marco-canas/2_calculo_I/blob/main/images/yorla_marco_2022_07_20.jpg?raw=true' width = 600> \n",
    "\n"
   ]
  },
  {
   "attachments": {},
   "cell_type": "markdown",
   "id": "5e3936d8",
   "metadata": {
    "slideshow": {
     "slide_type": "slide"
    }
   },
   "source": [
    "# Llamar a lista o tomar asistencia con python o llamar el equipo para la tarea con video y cuaderno Jupyter sobre medición indirecta de grandes alturas con imágenes"
   ]
  },
  {
   "cell_type": "code",
   "execution_count": null,
   "id": "7604880f",
   "metadata": {
    "slideshow": {
     "slide_type": "slide"
    }
   },
   "outputs": [],
   "source": [
    "def crear_lista_estudiantes(ubicacion_lista):\n",
    "    \"\"\"\n",
    "    \"\"\"\n",
    "    import pandas as pd     \n",
    "    grupo_df = pd.read_csv(ubicacion_lista) \n",
    "    # cuando el .csv file proviene de un .xlsx file, debe utilizarse sep = ';'\n",
    "    lista_estudiantes = list(grupo_df.nombre.values)\n",
    "    return lista_estudiantes "
   ]
  },
  {
   "cell_type": "code",
   "execution_count": null,
   "id": "a359c096",
   "metadata": {
    "slideshow": {
     "slide_type": "slide"
    }
   },
   "outputs": [],
   "source": [
    "#llamar a lista o tomar registro de asistencia a clase\n",
    "def llamar_estudiantes_a_participar():\n",
    "    import numpy as np \n",
    "    from random import choice\n",
    "    if len(lista_estudiantes) != 0:\n",
    "        estudiante = choice(lista_estudiantes)\n",
    "        lista_estudiantes.remove(estudiante)\n",
    "        return print(estudiante)\n",
    "    else:\n",
    "        print('Todos los estudiantes han participado.\\n \\\n",
    "               Muchas gracias y Felicitaciones')"
   ]
  },
  {
   "cell_type": "code",
   "execution_count": null,
   "id": "37ae00fb",
   "metadata": {
    "slideshow": {
     "slide_type": "slide"
    }
   },
   "outputs": [],
   "source": [
    "ubicacion_lista='https://raw.githubusercontent.com/marco-canas/groups_list/main/math_I.csv'\n",
    "lista_estudiantes = crear_lista_estudiantes(ubicacion_lista)"
   ]
  },
  {
   "cell_type": "code",
   "execution_count": null,
   "id": "33f85aea",
   "metadata": {
    "scrolled": true,
    "slideshow": {
     "slide_type": "slide"
    }
   },
   "outputs": [],
   "source": [
    "llamar_estudiantes_a_participar()"
   ]
  },
  {
   "attachments": {},
   "cell_type": "markdown",
   "id": "ca46c23b",
   "metadata": {
    "slideshow": {
     "slide_type": "slide"
    }
   },
   "source": [
    "# Modelo general de clase: [aula invertida](https://www3.gobiernodecanarias.org/medusa/ecoescuela/pedagotic/aprendizaje-invertido-flipped-classroom/)\n"
   ]
  },
  {
   "attachments": {},
   "cell_type": "markdown",
   "id": "79c35435",
   "metadata": {
    "slideshow": {
     "slide_type": "slide"
    }
   },
   "source": [
    "## Fomento de la lectura literaria asociada a Ingeniería agropecuaria, licenciatura en Matemáticas y ciencias económicas\n"
   ]
  },
  {
   "attachments": {},
   "cell_type": "markdown",
   "id": "3aa45870",
   "metadata": {},
   "source": [
    "[Daniel Goleman: La inteligencia emocional](https://github.com/marco-canas/inteligencia_emocional/tree/main/1_para_que_son_las_emociones) \n"
   ]
  },
  {
   "attachments": {},
   "cell_type": "markdown",
   "id": "cb6a7ca6",
   "metadata": {},
   "source": [
    "\n",
    "Capítulo 9: Enemigos intimos\n",
    "\n",
    "Amar y trabajar, le dijo en una ocasión Sigmund Freud a su discípulo Erik Erikson, son las capacidades gemelas que marcan la plana madurez. \n",
    "\n",
    "Si es así, entonces la madurez puede ser un peligroso apeadero en la vida... y las actuales tendencias en cuanto a matrimonio y divorcio hacen que la inteligencia emocional sea más crucial que nunca. \n",
    "\n",
    "\n"
   ]
  },
  {
   "attachments": {},
   "cell_type": "markdown",
   "id": "96775931",
   "metadata": {
    "slideshow": {
     "slide_type": "slide"
    }
   },
   "source": [
    "## Título de la clase: Parte 5. Límites y continuidad\n",
    "\n",
    "Página 280 del texto de [Lina Grajales: Matemáticas I para ciencias económicas.]() \n",
    "\n"
   ]
  },
  {
   "attachments": {},
   "cell_type": "markdown",
   "id": "1d38dd4e",
   "metadata": {
    "slideshow": {
     "slide_type": "slide"
    }
   },
   "source": [
    "### Objetivo de aprendizaje (Enunciar, de manera corta sencilla y clara para todos los asistentes)\n",
    "\n",
    "* Aprender a describir tendencias correlacionadas utilizando la representación tabular de las funciones elaborada a mano y con pandas de python. \n",
    "* Aprender a describir tendencias o aproximaciones utilizando la representación gráfica de las funciones elaborada a mano y con plotly."
   ]
  },
  {
   "attachments": {},
   "cell_type": "markdown",
   "id": "ca7261b1",
   "metadata": {
    "slideshow": {
     "slide_type": "slide"
    }
   },
   "source": [
    "## Establecimiento de prerrequisitos conceptuales para alcanzar el objetivo de aprendizaje trazado.   \n",
    "\n",
    "(Elabore una lista de preguntas al rededor de los conceptos que consideres necesarios para empezar la clase).  \n",
    "\n",
    "Antes de adentrarse en el tema de límites de funciones, es importante tener una base sólida de conceptos matemáticos y algebraicos. Aquí tienes una lista de prerrequisitos conceptuales recomendados:\n",
    "\n",
    "1. **Álgebra básica**: Debes estar familiarizado con operaciones aritméticas, resolución de ecuaciones lineales y cuadráticas, factorización y simplificación de expresiones algebraicas.\n"
   ]
  },
  {
   "attachments": {},
   "cell_type": "markdown",
   "id": "25b74481",
   "metadata": {},
   "source": [
    "\n",
    "2. **Funciones**: Comprender qué es una función y cómo se representa, así como el concepto de dominio y rango de una función.\n",
    "\n",
    "3. **Notación matemática**: Conocer la notación matemática estándar, como el uso de letras para variables y símbolos matemáticos como sumatorias, productos y exponentes.\n"
   ]
  },
  {
   "cell_type": "markdown",
   "id": "92e1efca",
   "metadata": {},
   "source": [
    "\n",
    "4. **Geometría**: Tener una comprensión básica de conceptos geométricos, como el plano cartesiano y las coordenadas.\n"
   ]
  },
  {
   "cell_type": "markdown",
   "id": "32c89257",
   "metadata": {},
   "source": [
    "\n",
    "5. **Trigonometría**: Familiarizarte con las funciones trigonométricas (seno, coseno, tangente) y sus propiedades básicas.\n",
    "\n",
    "6. **Reglas básicas de límites**: Conocer las reglas básicas para calcular límites, como las reglas de límites de suma, resta, multiplicación y división, así como el límite de una constante y el límite de una función polinómica.\n",
    "\n",
    "7. **Asíntotas**: Comprender el concepto de asíntotas y cómo identificarlas en una función.\n",
    "\n",
    "8. **Continuidad**: Saber qué significa que una función sea continua en un punto y cómo se define la continuidad en un intervalo.\n",
    "\n",
    "9. **Derivadas**: Tener una comprensión básica de las derivadas y su relación con los límites, aunque no es un prerrequisito absoluto, ya que los límites pueden ser introducidos antes o después del cálculo de derivadas.\n",
    "\n",
    "10. **Gráficas de funciones**: Saber cómo representar gráficamente funciones básicas y cómo analizar el comportamiento de la función alrededor de un punto.\n",
    "\n",
    "Estos prerrequisitos proporcionarán una base sólida para comprender y abordar el tema de límites de funciones. Si es necesario, puedes repasar o consultar recursos adicionales para fortalecer tu conocimiento en estos temas antes de abordar los límites de funciones.\n",
    " "
   ]
  },
  {
   "attachments": {},
   "cell_type": "markdown",
   "id": "2298e976",
   "metadata": {
    "slideshow": {
     "slide_type": "slide"
    }
   },
   "source": [
    "# Para el diseño de la clase tenga en cuenta algunos problemas de aprendizaje"
   ]
  },
  {
   "attachments": {},
   "cell_type": "markdown",
   "id": "523d3acf",
   "metadata": {
    "slideshow": {
     "slide_type": "slide"
    }
   },
   "source": [
    "Claro, aquí tienes una lista de problemas de aprendizaje frecuentes que los estudiantes pueden enfrentar al estudiar el concepto de límites de funciones:\n"
   ]
  },
  {
   "cell_type": "markdown",
   "id": "b57e3518",
   "metadata": {},
   "source": [
    "\n",
    "1. **Entender la definición formal de límite**: Algunos estudiantes pueden tener dificultades para comprender la definición formal de límite, que implica expresiones matemáticas abstractas y símbolos como $\\epsilon$ (épsilon) y $\\delta$ (delta).\n"
   ]
  },
  {
   "cell_type": "markdown",
   "id": "aa86f6d6",
   "metadata": {},
   "source": [
    "\n",
    "2. **Interpretar el significado geométrico del límite**: Comprender el significado geométrico del límite como la aproximación del comportamiento de una función en un punto puede ser un desafío para algunos estudiantes.\n"
   ]
  },
  {
   "cell_type": "markdown",
   "id": "361161ba",
   "metadata": {},
   "source": [
    "\n",
    "3. **Resolver límites indeterminados**: Al calcular límites de funciones, pueden surgir situaciones de \"indeterminación\" como 0/0 o ∞/∞, que pueden ser confusas al principio.\n",
    "\n",
    "4. **Aplicación de reglas de límites**: Aplicar correctamente las reglas de límites para funciones algebraicas, trigonométricas o exponenciales puede ser complicado, especialmente cuando se enfrentan a funciones más complejas.\n",
    "\n",
    "5. **Diferenciar entre límites laterales y límites en un punto**: Comprender la diferencia entre límites laterales (uno desde el lado izquierdo y otro desde el lado derecho) y el límite en un punto puede ser confuso para algunos estudiantes.\n",
    "\n",
    "6. **Identificar asíntotas**: Al estudiar límites, es importante identificar las asíntotas verticales y horizontales de una función, lo cual puede ser un desafío.\n",
    "\n",
    "7. **Resolver límites que requieren técnicas especiales**: Algunos límites pueden requerir técnicas especiales, como la sustitución trigonométrica o el uso de la regla de L'Hôpital, lo cual puede ser difícil de aplicar correctamente.\n",
    "\n",
    "8. **Uso adecuado de notación límite**: Utilizar la notación de límite correctamente puede ser problemático para algunos estudiantes, especialmente al expresar límites en términos de variables.\n",
    "\n",
    "9. **Errores aritméticos y algebraicos**: Los estudiantes pueden cometer errores aritméticos o algebraicos al simplificar expresiones mientras calculan límites, lo que puede conducir a respuestas incorrectas.\n"
   ]
  },
  {
   "attachments": {},
   "cell_type": "markdown",
   "id": "b36ced6f",
   "metadata": {},
   "source": [
    "\n",
    "10. **Relacionar límites con otros conceptos matemáticos**: Algunos estudiantes pueden tener dificultades para relacionar el concepto de límites con otros temas matemáticos, como continuidad o derivadas.\n"
   ]
  },
  {
   "attachments": {},
   "cell_type": "markdown",
   "id": "81fd8cf4",
   "metadata": {},
   "source": [
    "\n",
    "Para superar estos problemas de aprendizaje, es esencial que los estudiantes practiquen con una variedad de ejercicios, busquen la ayuda de sus profesores o tutores cuando sea necesario y consulten recursos adicionales, como libros o tutoriales en línea. La paciencia y la perseverancia son clave para desarrollar una comprensión sólida de los límites de funciones."
   ]
  },
  {
   "attachments": {},
   "cell_type": "markdown",
   "id": "0481fc99",
   "metadata": {},
   "source": [
    "## Cuestionario para realizar labores de memorización, observación y síntesis de la información (Además de diagnóstico)\n"
   ]
  },
  {
   "attachments": {},
   "cell_type": "markdown",
   "id": "5e4e0a0d",
   "metadata": {},
   "source": [
    "\n",
    "Un cuestionario para establecer un diagnóstico de saberes previos de los estudiantes antes de abordar el tema de límites de funciones. Este cuestionario está diseñado para evaluar la comprensión de conceptos matemáticos fundamentales relacionados con funciones y álgebra, que son prerrequisitos para entender los límites de funciones.\n"
   ]
  },
  {
   "cell_type": "markdown",
   "id": "712930e2",
   "metadata": {},
   "source": [
    "\n",
    "1. ¿Qué es una función en matemáticas?\n",
    "a) Un conjunto de números reales.\n",
    "b) Una relación entre dos conjuntos donde cada elemento del primer conjunto se asocia con un solo elemento del segundo conjunto.\n",
    "c) Una operación aritmética.\n"
   ]
  },
  {
   "cell_type": "markdown",
   "id": "d61acefe",
   "metadata": {},
   "source": [
    "\n",
    "2. ¿Cuál es la diferencia entre una función y una ecuación?\n",
    "a) Una función contiene variables y una ecuación no.\n",
    "b) Una función es una igualdad matemática y una ecuación no.\n",
    "c) No hay diferencia, ambos términos se usan indistintamente.\n",
    "\n",
    "3. ¿Cuál es el dominio de una función?\n",
    "a) El conjunto de todas las salidas posibles de la función.\n",
    "b) El conjunto de todas las entradas posibles de la función.\n",
    "c) El conjunto de todas las respuestas correctas de una función.\n",
    "\n",
    "4. ¿Qué es una asíntota en una gráfica de función?\n",
    "a) Un punto donde la función alcanza su máximo o mínimo.\n",
    "b) Una recta vertical u horizontal que la gráfica de la función se acerca infinitamente pero nunca toca.\n",
    "c) Un punto donde la gráfica de la función se corta con el eje de coordenadas.\n",
    "\n",
    "5. ¿Qué representa el límite de una función en un punto dado?\n",
    "a) El valor real de la función en ese punto.\n",
    "b) La tasa de cambio instantáneo de la función en ese punto.\n",
    "c) La aproximación del comportamiento de la función en ese punto.\n",
    "\n",
    "6. ¿Qué significa que un límite sea \"indeterminado\"?\n",
    "a) Que el límite no existe.\n",
    "b) Que el límite es igual a cero.\n",
    "c) Que no se puede determinar el valor del límite usando las reglas estándar.\n",
    "\n",
    "7. ¿Cuál de las siguientes reglas de límites es válida?\n",
    "a) Límite de una suma es la suma de los límites.\n",
    "b) Límite de un producto es el producto de los límites.\n",
    "c) Límite de una división es la división de los límites.\n",
    "\n",
    "8. ¿Cuál es el límite de la función f(x) = 3x + 5 cuando x se acerca a 2?\n",
    "a) 3\n",
    "b) 7\n",
    "c) 11\n",
    "\n",
    "9. ¿Cuál es el límite de la función g(x) = sin(x) / x cuando x se acerca a 0?\n",
    "a) 0\n",
    "b) 1\n",
    "c) No existe límite.\n",
    "\n",
    "10. ¿Qué se puede concluir si el límite de una función en un punto dado es igual al valor de la función en ese punto?\n",
    "a) La función es continua en ese punto.\n",
    "b) La función tiene una asíntota en ese punto.\n",
    "c) El límite no existe.\n",
    "\n",
    "Espero que este cuestionario te ayude a evaluar los saberes previos de los estudiantes antes de abordar el tema de límites de funciones. Puedes utilizar las respuestas para identificar las áreas de mayor dificultad y adaptar tus estrategias de enseñanza para abordar esas necesidades específicas."
   ]
  },
  {
   "attachments": {},
   "cell_type": "markdown",
   "id": "3d03e2d0",
   "metadata": {},
   "source": [
    "## [Video de apoyo a la parte introduccitia de esta clase sobre límites de funciones](https://www.youtube.com/watch?v=QY3QPE-LchY)"
   ]
  },
  {
   "attachments": {},
   "cell_type": "markdown",
   "id": "a40a4704",
   "metadata": {
    "slideshow": {
     "slide_type": "slide"
    }
   },
   "source": [
    "## Secuencia conceptual introductoria a la clase"
   ]
  },
  {
   "attachments": {},
   "cell_type": "markdown",
   "id": "6acdd893",
   "metadata": {},
   "source": [
    "Consideremos la función \n",
    "\n",
    "$$ f(x) = \\frac{x^{3} - 8}{x - 2}, \\quad D(f) = \\mathbb{R} - \\{2\\} $$"
   ]
  },
  {
   "attachments": {},
   "cell_type": "markdown",
   "id": "c034ab4e",
   "metadata": {},
   "source": [
    "Veamos cómo se comporta $f$ en cercanías de 2: "
   ]
  },
  {
   "cell_type": "code",
   "execution_count": 5,
   "id": "34cb6403",
   "metadata": {},
   "outputs": [
    {
     "name": "stderr",
     "output_type": "stream",
     "text": [
      "/tmp/ipykernel_8165/3973589202.py:8: RuntimeWarning:\n",
      "\n",
      "invalid value encountered in divide\n",
      "\n"
     ]
    },
    {
     "data": {
      "text/html": [
       "<div>\n",
       "<style scoped>\n",
       "    .dataframe tbody tr th:only-of-type {\n",
       "        vertical-align: middle;\n",
       "    }\n",
       "\n",
       "    .dataframe tbody tr th {\n",
       "        vertical-align: top;\n",
       "    }\n",
       "\n",
       "    .dataframe thead th {\n",
       "        text-align: right;\n",
       "    }\n",
       "</style>\n",
       "<table border=\"1\" class=\"dataframe\">\n",
       "  <thead>\n",
       "    <tr style=\"text-align: right;\">\n",
       "      <th></th>\n",
       "      <th>anchos del cuadrado</th>\n",
       "      <th>Ordenadas</th>\n",
       "    </tr>\n",
       "  </thead>\n",
       "  <tbody>\n",
       "    <tr>\n",
       "      <th>80</th>\n",
       "      <td>1.80</td>\n",
       "      <td>10.8400</td>\n",
       "    </tr>\n",
       "    <tr>\n",
       "      <th>81</th>\n",
       "      <td>1.81</td>\n",
       "      <td>10.8961</td>\n",
       "    </tr>\n",
       "    <tr>\n",
       "      <th>82</th>\n",
       "      <td>1.82</td>\n",
       "      <td>10.9524</td>\n",
       "    </tr>\n",
       "    <tr>\n",
       "      <th>83</th>\n",
       "      <td>1.83</td>\n",
       "      <td>11.0089</td>\n",
       "    </tr>\n",
       "    <tr>\n",
       "      <th>84</th>\n",
       "      <td>1.84</td>\n",
       "      <td>11.0656</td>\n",
       "    </tr>\n",
       "    <tr>\n",
       "      <th>85</th>\n",
       "      <td>1.85</td>\n",
       "      <td>11.1225</td>\n",
       "    </tr>\n",
       "    <tr>\n",
       "      <th>86</th>\n",
       "      <td>1.86</td>\n",
       "      <td>11.1796</td>\n",
       "    </tr>\n",
       "    <tr>\n",
       "      <th>87</th>\n",
       "      <td>1.87</td>\n",
       "      <td>11.2369</td>\n",
       "    </tr>\n",
       "    <tr>\n",
       "      <th>88</th>\n",
       "      <td>1.88</td>\n",
       "      <td>11.2944</td>\n",
       "    </tr>\n",
       "    <tr>\n",
       "      <th>89</th>\n",
       "      <td>1.89</td>\n",
       "      <td>11.3521</td>\n",
       "    </tr>\n",
       "    <tr>\n",
       "      <th>90</th>\n",
       "      <td>1.90</td>\n",
       "      <td>11.4100</td>\n",
       "    </tr>\n",
       "    <tr>\n",
       "      <th>91</th>\n",
       "      <td>1.91</td>\n",
       "      <td>11.4681</td>\n",
       "    </tr>\n",
       "    <tr>\n",
       "      <th>92</th>\n",
       "      <td>1.92</td>\n",
       "      <td>11.5264</td>\n",
       "    </tr>\n",
       "    <tr>\n",
       "      <th>93</th>\n",
       "      <td>1.93</td>\n",
       "      <td>11.5849</td>\n",
       "    </tr>\n",
       "    <tr>\n",
       "      <th>94</th>\n",
       "      <td>1.94</td>\n",
       "      <td>11.6436</td>\n",
       "    </tr>\n",
       "    <tr>\n",
       "      <th>95</th>\n",
       "      <td>1.95</td>\n",
       "      <td>11.7025</td>\n",
       "    </tr>\n",
       "    <tr>\n",
       "      <th>96</th>\n",
       "      <td>1.96</td>\n",
       "      <td>11.7616</td>\n",
       "    </tr>\n",
       "    <tr>\n",
       "      <th>97</th>\n",
       "      <td>1.97</td>\n",
       "      <td>11.8209</td>\n",
       "    </tr>\n",
       "    <tr>\n",
       "      <th>98</th>\n",
       "      <td>1.98</td>\n",
       "      <td>11.8804</td>\n",
       "    </tr>\n",
       "    <tr>\n",
       "      <th>99</th>\n",
       "      <td>1.99</td>\n",
       "      <td>11.9401</td>\n",
       "    </tr>\n",
       "  </tbody>\n",
       "</table>\n",
       "</div>"
      ],
      "text/plain": [
       "    anchos del cuadrado  Ordenadas\n",
       "80                 1.80    10.8400\n",
       "81                 1.81    10.8961\n",
       "82                 1.82    10.9524\n",
       "83                 1.83    11.0089\n",
       "84                 1.84    11.0656\n",
       "85                 1.85    11.1225\n",
       "86                 1.86    11.1796\n",
       "87                 1.87    11.2369\n",
       "88                 1.88    11.2944\n",
       "89                 1.89    11.3521\n",
       "90                 1.90    11.4100\n",
       "91                 1.91    11.4681\n",
       "92                 1.92    11.5264\n",
       "93                 1.93    11.5849\n",
       "94                 1.94    11.6436\n",
       "95                 1.95    11.7025\n",
       "96                 1.96    11.7616\n",
       "97                 1.97    11.8209\n",
       "98                 1.98    11.8804\n",
       "99                 1.99    11.9401"
      ]
     },
     "execution_count": 5,
     "metadata": {},
     "output_type": "execute_result"
    }
   ],
   "source": [
    "# Ojo, recuerde graficar con plotly para facilitar la lectura de gráficos \n",
    "# y el establecimiento de tencencias de la función a partir del gráfico de la misla\n",
    "import numpy as np \n",
    "import pandas as pd \n",
    "import plotly.express as px\n",
    "\n",
    "def f(x):\n",
    "    return (x**3-8)/(x-2)\n",
    "\n",
    "epsilon = 0.01\n",
    "X1=np.arange(1,2,epsilon)\n",
    "X2 = np.arange(2-epsilon,3, epsilon)\n",
    "X = np.array(list(X1)+list(X2))\n",
    "Y=f(X)\n",
    "tabla = pd.DataFrame({'anchos del cuadrado':X, 'Ordenadas':Y})\n",
    "tabla.iloc[80:100]\n"
   ]
  },
  {
   "cell_type": "markdown",
   "id": "5c65133a",
   "metadata": {},
   "source": [
    "$$ \\lim_{x \\to 3} f(x) =  12 $$"
   ]
  },
  {
   "cell_type": "code",
   "execution_count": 6,
   "id": "e2f4f6c2",
   "metadata": {},
   "outputs": [
    {
     "data": {
      "application/vnd.plotly.v1+json": {
       "config": {
        "plotlyServerURL": "https://plot.ly"
       },
       "data": [
        {
         "hovertemplate": "anchos del cuadrado=%{x}<br>Ordenadas=%{y}<extra></extra>",
         "legendgroup": "",
         "marker": {
          "color": "#636efa",
          "symbol": "circle"
         },
         "mode": "markers",
         "name": "",
         "orientation": "v",
         "showlegend": false,
         "type": "scatter",
         "x": [
          1,
          1.01,
          1.02,
          1.03,
          1.04,
          1.05,
          1.06,
          1.07,
          1.08,
          1.09,
          1.1,
          1.11,
          1.12,
          1.1300000000000001,
          1.1400000000000001,
          1.1500000000000001,
          1.1600000000000001,
          1.1700000000000002,
          1.1800000000000002,
          1.1900000000000002,
          1.2000000000000002,
          1.2100000000000002,
          1.2200000000000002,
          1.2300000000000002,
          1.2400000000000002,
          1.2500000000000002,
          1.2600000000000002,
          1.2700000000000002,
          1.2800000000000002,
          1.2900000000000003,
          1.3000000000000003,
          1.3100000000000003,
          1.3200000000000003,
          1.3300000000000003,
          1.3400000000000003,
          1.3500000000000003,
          1.3600000000000003,
          1.3700000000000003,
          1.3800000000000003,
          1.3900000000000003,
          1.4000000000000004,
          1.4100000000000004,
          1.4200000000000004,
          1.4300000000000004,
          1.4400000000000004,
          1.4500000000000004,
          1.4600000000000004,
          1.4700000000000004,
          1.4800000000000004,
          1.4900000000000004,
          1.5000000000000004,
          1.5100000000000005,
          1.5200000000000005,
          1.5300000000000005,
          1.5400000000000005,
          1.5500000000000005,
          1.5600000000000005,
          1.5700000000000005,
          1.5800000000000005,
          1.5900000000000005,
          1.6000000000000005,
          1.6100000000000005,
          1.6200000000000006,
          1.6300000000000006,
          1.6400000000000006,
          1.6500000000000006,
          1.6600000000000006,
          1.6700000000000006,
          1.6800000000000006,
          1.6900000000000006,
          1.7000000000000006,
          1.7100000000000006,
          1.7200000000000006,
          1.7300000000000006,
          1.7400000000000007,
          1.7500000000000007,
          1.7600000000000007,
          1.7700000000000007,
          1.7800000000000007,
          1.7900000000000007,
          1.8000000000000007,
          1.8100000000000007,
          1.8200000000000007,
          1.8300000000000007,
          1.8400000000000007,
          1.8500000000000008,
          1.8600000000000008,
          1.8700000000000008,
          1.8800000000000008,
          1.8900000000000008,
          1.9000000000000008,
          1.9100000000000008,
          1.9200000000000008,
          1.9300000000000008,
          1.9400000000000008,
          1.9500000000000008,
          1.9600000000000009,
          1.9700000000000009,
          1.9800000000000009,
          1.9900000000000009,
          1.99,
          2,
          2.01,
          2.02,
          2.0300000000000002,
          2.04,
          2.05,
          2.06,
          2.0700000000000003,
          2.08,
          2.09,
          2.1,
          2.1100000000000003,
          2.12,
          2.13,
          2.14,
          2.1500000000000004,
          2.16,
          2.17,
          2.18,
          2.1900000000000004,
          2.2,
          2.21,
          2.22,
          2.2300000000000004,
          2.24,
          2.25,
          2.2600000000000002,
          2.2700000000000005,
          2.2800000000000002,
          2.29,
          2.3000000000000003,
          2.3100000000000005,
          2.3200000000000003,
          2.33,
          2.3400000000000003,
          2.3500000000000005,
          2.3600000000000003,
          2.37,
          2.3800000000000003,
          2.3900000000000006,
          2.4000000000000004,
          2.41,
          2.4200000000000004,
          2.4300000000000006,
          2.4400000000000004,
          2.45,
          2.4600000000000004,
          2.4700000000000006,
          2.4800000000000004,
          2.49,
          2.5000000000000004,
          2.5100000000000007,
          2.5200000000000005,
          2.5300000000000002,
          2.5400000000000005,
          2.5500000000000007,
          2.5600000000000005,
          2.5700000000000003,
          2.5800000000000005,
          2.5900000000000007,
          2.6000000000000005,
          2.6100000000000003,
          2.6200000000000006,
          2.630000000000001,
          2.6400000000000006,
          2.6500000000000004,
          2.6600000000000006,
          2.670000000000001,
          2.6800000000000006,
          2.6900000000000004,
          2.7000000000000006,
          2.710000000000001,
          2.7200000000000006,
          2.7300000000000004,
          2.7400000000000007,
          2.750000000000001,
          2.7600000000000007,
          2.7700000000000005,
          2.7800000000000007,
          2.790000000000001,
          2.8000000000000007,
          2.8100000000000005,
          2.8200000000000007,
          2.830000000000001,
          2.8400000000000007,
          2.8500000000000005,
          2.8600000000000008,
          2.870000000000001,
          2.880000000000001,
          2.8900000000000006,
          2.900000000000001,
          2.910000000000001,
          2.920000000000001,
          2.9300000000000006,
          2.940000000000001,
          2.950000000000001,
          2.960000000000001,
          2.9700000000000006,
          2.980000000000001,
          2.990000000000001
         ],
         "xaxis": "x",
         "y": [
          7,
          7.040100000000001,
          7.080399999999999,
          7.1209,
          7.1616,
          7.2025,
          7.2436,
          7.2849,
          7.3264000000000005,
          7.3681,
          7.41,
          7.452100000000001,
          7.494400000000001,
          7.536900000000001,
          7.579600000000001,
          7.622500000000001,
          7.6656,
          7.708900000000001,
          7.752400000000001,
          7.796100000000001,
          7.840000000000001,
          7.8841,
          7.928400000000001,
          7.972900000000001,
          8.017600000000002,
          8.062500000000002,
          8.107600000000001,
          8.1529,
          8.198400000000001,
          8.244100000000001,
          8.290000000000001,
          8.336100000000002,
          8.3824,
          8.428900000000002,
          8.475600000000002,
          8.5225,
          8.569600000000001,
          8.616900000000001,
          8.664400000000002,
          8.712100000000001,
          8.760000000000003,
          8.808100000000001,
          8.8564,
          8.904900000000001,
          8.953600000000003,
          9.002500000000001,
          9.0516,
          9.100900000000001,
          9.150400000000001,
          9.200100000000003,
          9.250000000000002,
          9.300100000000004,
          9.3504,
          9.400900000000004,
          9.451600000000003,
          9.502500000000003,
          9.553600000000001,
          9.604900000000002,
          9.656400000000003,
          9.708100000000004,
          9.760000000000002,
          9.812100000000004,
          9.864400000000003,
          9.916900000000004,
          9.969600000000003,
          10.022500000000003,
          10.075600000000003,
          10.128900000000002,
          10.182400000000003,
          10.236100000000004,
          10.290000000000003,
          10.344100000000003,
          10.398400000000002,
          10.452900000000005,
          10.507600000000004,
          10.562500000000004,
          10.617600000000005,
          10.672900000000002,
          10.728400000000002,
          10.784100000000004,
          10.840000000000003,
          10.896100000000004,
          10.952400000000006,
          11.008900000000002,
          11.065600000000005,
          11.122500000000004,
          11.179600000000004,
          11.2369,
          11.294400000000008,
          11.352100000000004,
          11.410000000000002,
          11.468100000000007,
          11.52640000000001,
          11.58490000000001,
          11.643600000000005,
          11.702500000000013,
          11.761600000000001,
          11.820900000000007,
          11.88040000000002,
          11.94009999999997,
          11.940099999999976,
          null,
          12.060099999999965,
          12.120400000000043,
          12.18090000000003,
          12.24160000000002,
          12.30249999999999,
          12.36359999999999,
          12.424899999999996,
          12.486399999999998,
          12.548100000000003,
          12.61,
          12.672099999999999,
          12.734399999999994,
          12.796900000000006,
          12.859599999999995,
          12.922499999999998,
          12.985599999999996,
          13.048899999999996,
          13.112399999999997,
          13.176099999999998,
          13.240000000000004,
          13.3041,
          13.368399999999998,
          13.432900000000002,
          13.497600000000002,
          13.5625,
          13.627600000000005,
          13.6929,
          13.7584,
          13.824099999999998,
          13.889999999999999,
          13.956100000000003,
          14.0224,
          14.0889,
          14.155600000000002,
          14.222500000000002,
          14.289600000000004,
          14.356900000000003,
          14.424400000000002,
          14.492100000000004,
          14.560000000000004,
          14.628100000000002,
          14.696400000000002,
          14.764900000000006,
          14.8336,
          14.902500000000002,
          14.971600000000002,
          15.040900000000004,
          15.110400000000004,
          15.180100000000003,
          15.250000000000004,
          15.320100000000005,
          15.390400000000003,
          15.460899999999999,
          15.531600000000003,
          15.602500000000008,
          15.673600000000004,
          15.744900000000003,
          15.816400000000002,
          15.888100000000007,
          15.960000000000004,
          16.032100000000003,
          16.104400000000005,
          16.176900000000007,
          16.249600000000004,
          16.322500000000005,
          16.3956,
          16.468900000000005,
          16.542400000000008,
          16.616100000000003,
          16.690000000000005,
          16.764100000000006,
          16.838400000000004,
          16.912900000000004,
          16.987600000000008,
          17.062500000000007,
          17.137600000000003,
          17.212900000000005,
          17.288400000000006,
          17.364100000000008,
          17.440000000000005,
          17.516100000000005,
          17.592400000000005,
          17.668900000000008,
          17.745600000000003,
          17.8225,
          17.899600000000003,
          17.976900000000008,
          18.054400000000005,
          18.132100000000005,
          18.210000000000008,
          18.288100000000007,
          18.366400000000006,
          18.444900000000004,
          18.523600000000005,
          18.602500000000006,
          18.681600000000007,
          18.760900000000007,
          18.840400000000006,
          18.92010000000001
         ],
         "yaxis": "y"
        }
       ],
       "layout": {
        "legend": {
         "tracegroupgap": 0
        },
        "template": {
         "data": {
          "bar": [
           {
            "error_x": {
             "color": "#2a3f5f"
            },
            "error_y": {
             "color": "#2a3f5f"
            },
            "marker": {
             "line": {
              "color": "#E5ECF6",
              "width": 0.5
             },
             "pattern": {
              "fillmode": "overlay",
              "size": 10,
              "solidity": 0.2
             }
            },
            "type": "bar"
           }
          ],
          "barpolar": [
           {
            "marker": {
             "line": {
              "color": "#E5ECF6",
              "width": 0.5
             },
             "pattern": {
              "fillmode": "overlay",
              "size": 10,
              "solidity": 0.2
             }
            },
            "type": "barpolar"
           }
          ],
          "carpet": [
           {
            "aaxis": {
             "endlinecolor": "#2a3f5f",
             "gridcolor": "white",
             "linecolor": "white",
             "minorgridcolor": "white",
             "startlinecolor": "#2a3f5f"
            },
            "baxis": {
             "endlinecolor": "#2a3f5f",
             "gridcolor": "white",
             "linecolor": "white",
             "minorgridcolor": "white",
             "startlinecolor": "#2a3f5f"
            },
            "type": "carpet"
           }
          ],
          "choropleth": [
           {
            "colorbar": {
             "outlinewidth": 0,
             "ticks": ""
            },
            "type": "choropleth"
           }
          ],
          "contour": [
           {
            "colorbar": {
             "outlinewidth": 0,
             "ticks": ""
            },
            "colorscale": [
             [
              0,
              "#0d0887"
             ],
             [
              0.1111111111111111,
              "#46039f"
             ],
             [
              0.2222222222222222,
              "#7201a8"
             ],
             [
              0.3333333333333333,
              "#9c179e"
             ],
             [
              0.4444444444444444,
              "#bd3786"
             ],
             [
              0.5555555555555556,
              "#d8576b"
             ],
             [
              0.6666666666666666,
              "#ed7953"
             ],
             [
              0.7777777777777778,
              "#fb9f3a"
             ],
             [
              0.8888888888888888,
              "#fdca26"
             ],
             [
              1,
              "#f0f921"
             ]
            ],
            "type": "contour"
           }
          ],
          "contourcarpet": [
           {
            "colorbar": {
             "outlinewidth": 0,
             "ticks": ""
            },
            "type": "contourcarpet"
           }
          ],
          "heatmap": [
           {
            "colorbar": {
             "outlinewidth": 0,
             "ticks": ""
            },
            "colorscale": [
             [
              0,
              "#0d0887"
             ],
             [
              0.1111111111111111,
              "#46039f"
             ],
             [
              0.2222222222222222,
              "#7201a8"
             ],
             [
              0.3333333333333333,
              "#9c179e"
             ],
             [
              0.4444444444444444,
              "#bd3786"
             ],
             [
              0.5555555555555556,
              "#d8576b"
             ],
             [
              0.6666666666666666,
              "#ed7953"
             ],
             [
              0.7777777777777778,
              "#fb9f3a"
             ],
             [
              0.8888888888888888,
              "#fdca26"
             ],
             [
              1,
              "#f0f921"
             ]
            ],
            "type": "heatmap"
           }
          ],
          "heatmapgl": [
           {
            "colorbar": {
             "outlinewidth": 0,
             "ticks": ""
            },
            "colorscale": [
             [
              0,
              "#0d0887"
             ],
             [
              0.1111111111111111,
              "#46039f"
             ],
             [
              0.2222222222222222,
              "#7201a8"
             ],
             [
              0.3333333333333333,
              "#9c179e"
             ],
             [
              0.4444444444444444,
              "#bd3786"
             ],
             [
              0.5555555555555556,
              "#d8576b"
             ],
             [
              0.6666666666666666,
              "#ed7953"
             ],
             [
              0.7777777777777778,
              "#fb9f3a"
             ],
             [
              0.8888888888888888,
              "#fdca26"
             ],
             [
              1,
              "#f0f921"
             ]
            ],
            "type": "heatmapgl"
           }
          ],
          "histogram": [
           {
            "marker": {
             "pattern": {
              "fillmode": "overlay",
              "size": 10,
              "solidity": 0.2
             }
            },
            "type": "histogram"
           }
          ],
          "histogram2d": [
           {
            "colorbar": {
             "outlinewidth": 0,
             "ticks": ""
            },
            "colorscale": [
             [
              0,
              "#0d0887"
             ],
             [
              0.1111111111111111,
              "#46039f"
             ],
             [
              0.2222222222222222,
              "#7201a8"
             ],
             [
              0.3333333333333333,
              "#9c179e"
             ],
             [
              0.4444444444444444,
              "#bd3786"
             ],
             [
              0.5555555555555556,
              "#d8576b"
             ],
             [
              0.6666666666666666,
              "#ed7953"
             ],
             [
              0.7777777777777778,
              "#fb9f3a"
             ],
             [
              0.8888888888888888,
              "#fdca26"
             ],
             [
              1,
              "#f0f921"
             ]
            ],
            "type": "histogram2d"
           }
          ],
          "histogram2dcontour": [
           {
            "colorbar": {
             "outlinewidth": 0,
             "ticks": ""
            },
            "colorscale": [
             [
              0,
              "#0d0887"
             ],
             [
              0.1111111111111111,
              "#46039f"
             ],
             [
              0.2222222222222222,
              "#7201a8"
             ],
             [
              0.3333333333333333,
              "#9c179e"
             ],
             [
              0.4444444444444444,
              "#bd3786"
             ],
             [
              0.5555555555555556,
              "#d8576b"
             ],
             [
              0.6666666666666666,
              "#ed7953"
             ],
             [
              0.7777777777777778,
              "#fb9f3a"
             ],
             [
              0.8888888888888888,
              "#fdca26"
             ],
             [
              1,
              "#f0f921"
             ]
            ],
            "type": "histogram2dcontour"
           }
          ],
          "mesh3d": [
           {
            "colorbar": {
             "outlinewidth": 0,
             "ticks": ""
            },
            "type": "mesh3d"
           }
          ],
          "parcoords": [
           {
            "line": {
             "colorbar": {
              "outlinewidth": 0,
              "ticks": ""
             }
            },
            "type": "parcoords"
           }
          ],
          "pie": [
           {
            "automargin": true,
            "type": "pie"
           }
          ],
          "scatter": [
           {
            "fillpattern": {
             "fillmode": "overlay",
             "size": 10,
             "solidity": 0.2
            },
            "type": "scatter"
           }
          ],
          "scatter3d": [
           {
            "line": {
             "colorbar": {
              "outlinewidth": 0,
              "ticks": ""
             }
            },
            "marker": {
             "colorbar": {
              "outlinewidth": 0,
              "ticks": ""
             }
            },
            "type": "scatter3d"
           }
          ],
          "scattercarpet": [
           {
            "marker": {
             "colorbar": {
              "outlinewidth": 0,
              "ticks": ""
             }
            },
            "type": "scattercarpet"
           }
          ],
          "scattergeo": [
           {
            "marker": {
             "colorbar": {
              "outlinewidth": 0,
              "ticks": ""
             }
            },
            "type": "scattergeo"
           }
          ],
          "scattergl": [
           {
            "marker": {
             "colorbar": {
              "outlinewidth": 0,
              "ticks": ""
             }
            },
            "type": "scattergl"
           }
          ],
          "scattermapbox": [
           {
            "marker": {
             "colorbar": {
              "outlinewidth": 0,
              "ticks": ""
             }
            },
            "type": "scattermapbox"
           }
          ],
          "scatterpolar": [
           {
            "marker": {
             "colorbar": {
              "outlinewidth": 0,
              "ticks": ""
             }
            },
            "type": "scatterpolar"
           }
          ],
          "scatterpolargl": [
           {
            "marker": {
             "colorbar": {
              "outlinewidth": 0,
              "ticks": ""
             }
            },
            "type": "scatterpolargl"
           }
          ],
          "scatterternary": [
           {
            "marker": {
             "colorbar": {
              "outlinewidth": 0,
              "ticks": ""
             }
            },
            "type": "scatterternary"
           }
          ],
          "surface": [
           {
            "colorbar": {
             "outlinewidth": 0,
             "ticks": ""
            },
            "colorscale": [
             [
              0,
              "#0d0887"
             ],
             [
              0.1111111111111111,
              "#46039f"
             ],
             [
              0.2222222222222222,
              "#7201a8"
             ],
             [
              0.3333333333333333,
              "#9c179e"
             ],
             [
              0.4444444444444444,
              "#bd3786"
             ],
             [
              0.5555555555555556,
              "#d8576b"
             ],
             [
              0.6666666666666666,
              "#ed7953"
             ],
             [
              0.7777777777777778,
              "#fb9f3a"
             ],
             [
              0.8888888888888888,
              "#fdca26"
             ],
             [
              1,
              "#f0f921"
             ]
            ],
            "type": "surface"
           }
          ],
          "table": [
           {
            "cells": {
             "fill": {
              "color": "#EBF0F8"
             },
             "line": {
              "color": "white"
             }
            },
            "header": {
             "fill": {
              "color": "#C8D4E3"
             },
             "line": {
              "color": "white"
             }
            },
            "type": "table"
           }
          ]
         },
         "layout": {
          "annotationdefaults": {
           "arrowcolor": "#2a3f5f",
           "arrowhead": 0,
           "arrowwidth": 1
          },
          "autotypenumbers": "strict",
          "coloraxis": {
           "colorbar": {
            "outlinewidth": 0,
            "ticks": ""
           }
          },
          "colorscale": {
           "diverging": [
            [
             0,
             "#8e0152"
            ],
            [
             0.1,
             "#c51b7d"
            ],
            [
             0.2,
             "#de77ae"
            ],
            [
             0.3,
             "#f1b6da"
            ],
            [
             0.4,
             "#fde0ef"
            ],
            [
             0.5,
             "#f7f7f7"
            ],
            [
             0.6,
             "#e6f5d0"
            ],
            [
             0.7,
             "#b8e186"
            ],
            [
             0.8,
             "#7fbc41"
            ],
            [
             0.9,
             "#4d9221"
            ],
            [
             1,
             "#276419"
            ]
           ],
           "sequential": [
            [
             0,
             "#0d0887"
            ],
            [
             0.1111111111111111,
             "#46039f"
            ],
            [
             0.2222222222222222,
             "#7201a8"
            ],
            [
             0.3333333333333333,
             "#9c179e"
            ],
            [
             0.4444444444444444,
             "#bd3786"
            ],
            [
             0.5555555555555556,
             "#d8576b"
            ],
            [
             0.6666666666666666,
             "#ed7953"
            ],
            [
             0.7777777777777778,
             "#fb9f3a"
            ],
            [
             0.8888888888888888,
             "#fdca26"
            ],
            [
             1,
             "#f0f921"
            ]
           ],
           "sequentialminus": [
            [
             0,
             "#0d0887"
            ],
            [
             0.1111111111111111,
             "#46039f"
            ],
            [
             0.2222222222222222,
             "#7201a8"
            ],
            [
             0.3333333333333333,
             "#9c179e"
            ],
            [
             0.4444444444444444,
             "#bd3786"
            ],
            [
             0.5555555555555556,
             "#d8576b"
            ],
            [
             0.6666666666666666,
             "#ed7953"
            ],
            [
             0.7777777777777778,
             "#fb9f3a"
            ],
            [
             0.8888888888888888,
             "#fdca26"
            ],
            [
             1,
             "#f0f921"
            ]
           ]
          },
          "colorway": [
           "#636efa",
           "#EF553B",
           "#00cc96",
           "#ab63fa",
           "#FFA15A",
           "#19d3f3",
           "#FF6692",
           "#B6E880",
           "#FF97FF",
           "#FECB52"
          ],
          "font": {
           "color": "#2a3f5f"
          },
          "geo": {
           "bgcolor": "white",
           "lakecolor": "white",
           "landcolor": "#E5ECF6",
           "showlakes": true,
           "showland": true,
           "subunitcolor": "white"
          },
          "hoverlabel": {
           "align": "left"
          },
          "hovermode": "closest",
          "mapbox": {
           "style": "light"
          },
          "paper_bgcolor": "white",
          "plot_bgcolor": "#E5ECF6",
          "polar": {
           "angularaxis": {
            "gridcolor": "white",
            "linecolor": "white",
            "ticks": ""
           },
           "bgcolor": "#E5ECF6",
           "radialaxis": {
            "gridcolor": "white",
            "linecolor": "white",
            "ticks": ""
           }
          },
          "scene": {
           "xaxis": {
            "backgroundcolor": "#E5ECF6",
            "gridcolor": "white",
            "gridwidth": 2,
            "linecolor": "white",
            "showbackground": true,
            "ticks": "",
            "zerolinecolor": "white"
           },
           "yaxis": {
            "backgroundcolor": "#E5ECF6",
            "gridcolor": "white",
            "gridwidth": 2,
            "linecolor": "white",
            "showbackground": true,
            "ticks": "",
            "zerolinecolor": "white"
           },
           "zaxis": {
            "backgroundcolor": "#E5ECF6",
            "gridcolor": "white",
            "gridwidth": 2,
            "linecolor": "white",
            "showbackground": true,
            "ticks": "",
            "zerolinecolor": "white"
           }
          },
          "shapedefaults": {
           "line": {
            "color": "#2a3f5f"
           }
          },
          "ternary": {
           "aaxis": {
            "gridcolor": "white",
            "linecolor": "white",
            "ticks": ""
           },
           "baxis": {
            "gridcolor": "white",
            "linecolor": "white",
            "ticks": ""
           },
           "bgcolor": "#E5ECF6",
           "caxis": {
            "gridcolor": "white",
            "linecolor": "white",
            "ticks": ""
           }
          },
          "title": {
           "x": 0.05
          },
          "xaxis": {
           "automargin": true,
           "gridcolor": "white",
           "linecolor": "white",
           "ticks": "",
           "title": {
            "standoff": 15
           },
           "zerolinecolor": "white",
           "zerolinewidth": 2
          },
          "yaxis": {
           "automargin": true,
           "gridcolor": "white",
           "linecolor": "white",
           "ticks": "",
           "title": {
            "standoff": 15
           },
           "zerolinecolor": "white",
           "zerolinewidth": 2
          }
         }
        },
        "title": {
         "text": "Relación entre $x$ y $y$"
        },
        "xaxis": {
         "anchor": "y",
         "domain": [
          0,
          1
         ],
         "title": {
          "text": "anchos del cuadrado"
         }
        },
        "yaxis": {
         "anchor": "x",
         "domain": [
          0,
          1
         ],
         "title": {
          "text": "Ordenadas"
         }
        }
       }
      }
     },
     "metadata": {},
     "output_type": "display_data"
    }
   ],
   "source": [
    "\n",
    "\n",
    "#fig = px.line(tabla,x = tabla.keys()[0], y = tabla.keys()[1], title=r'Relación entre $x$ y $y$')\n",
    "\n",
    "fig = px.scatter(tabla,x = tabla.keys()[0], y = tabla.keys()[1], title=r'Relación entre $x$ y $y$')\n",
    "\n",
    "fig.show()\n",
    "\n",
    "#fig.write_html('relacion_entre_x_e_y.html', auto_open=True)"
   ]
  },
  {
   "attachments": {},
   "cell_type": "markdown",
   "id": "e9a53b63",
   "metadata": {},
   "source": [
    "Se ve que cuando 𝑥𝑥𝑥𝑥 se aproxima a 2 por la izquierda o por la derecha, la función 𝑓𝑓𝑓𝑓(𝑥𝑥𝑥𝑥) se aproxima\n",
    "cada vez más a 12. Observe que para $𝑥𝑥𝑥𝑥 \\neq 2$\n",
    "$$ 𝑥𝑥𝑥𝑥 3 − 8 (𝑥𝑥𝑥𝑥 − 2)(𝑥𝑥𝑥𝑥 2 + 2𝑥𝑥𝑥𝑥 + 4)\n",
    "𝑓𝑓𝑓𝑓(𝑥𝑥𝑥𝑥) =\n",
    "=\n",
    "= 𝑥𝑥𝑥𝑥 2 + 2𝑥𝑥𝑥𝑥 + 4 ⇒ 𝑦𝑦𝑦𝑦 = (𝑥𝑥𝑥𝑥 2 + 2𝑥𝑥𝑥𝑥 + 1) + 3\n",
    "𝑥𝑥𝑥𝑥 − 2\n",
    "𝑥𝑥𝑥𝑥 − 2\n",
    "⇒ 𝑦𝑦𝑦𝑦 − 3 = (𝑥𝑥𝑥𝑥 + 1) $$"
   ]
  },
  {
   "cell_type": "markdown",
   "id": "46e17cf3",
   "metadata": {},
   "source": []
  },
  {
   "cell_type": "markdown",
   "id": "1b9f818c",
   "metadata": {},
   "source": [
    "# Definición epsilon delta de límite\n",
    "\n"
   ]
  },
  {
   "cell_type": "code",
   "execution_count": null,
   "id": "b9a1503e",
   "metadata": {},
   "outputs": [],
   "source": []
  },
  {
   "cell_type": "code",
   "execution_count": null,
   "id": "5868fd59",
   "metadata": {},
   "outputs": [],
   "source": []
  },
  {
   "cell_type": "code",
   "execution_count": null,
   "id": "c367fb8b",
   "metadata": {},
   "outputs": [],
   "source": []
  },
  {
   "attachments": {},
   "cell_type": "markdown",
   "id": "12cb2994",
   "metadata": {
    "slideshow": {
     "slide_type": "slide"
    }
   },
   "source": []
  },
  {
   "cell_type": "code",
   "execution_count": null,
   "id": "17e42f05",
   "metadata": {},
   "outputs": [],
   "source": []
  },
  {
   "attachments": {},
   "cell_type": "markdown",
   "id": "1ccfb67e",
   "metadata": {
    "slideshow": {
     "slide_type": "slide"
    }
   },
   "source": [
    "# Visualizaciones tabulares y gráficas"
   ]
  },
  {
   "attachments": {},
   "cell_type": "markdown",
   "id": "0631fb05",
   "metadata": {
    "slideshow": {
     "slide_type": "slide"
    }
   },
   "source": [
    "## Visualización gráfica con plotly"
   ]
  },
  {
   "cell_type": "code",
   "execution_count": null,
   "id": "d1bff0f9",
   "metadata": {
    "slideshow": {
     "slide_type": "slide"
    }
   },
   "outputs": [],
   "source": [
    "import pandas as pd \n",
    "import plotly.express as px\n",
    "X=[]\n",
    "Y=[]\n",
    "tabla = pd.DataFrame({'anchos del cuadrado':X, 'Ordenadas':Y})\n",
    "\n",
    "\n",
    "\n",
    "#fig = px.line(tabla,x = tabla.keys()[0], y = tabla.keys()[1], title=r'Relación entre $x$ y $y$')\n",
    "\n",
    "fig = px.scatter(tabla,x = tabla.keys()[0], y = tabla.keys()[1], title=r'Relación entre $x$ y $y$')\n",
    "\n",
    "fig.show()\n",
    "\n",
    "#fig.write_html('relacion_entre_x_e_y.html', auto_open=True)"
   ]
  },
  {
   "cell_type": "code",
   "execution_count": null,
   "id": "6009af5a",
   "metadata": {
    "slideshow": {
     "slide_type": "slide"
    }
   },
   "outputs": [],
   "source": []
  },
  {
   "attachments": {},
   "cell_type": "markdown",
   "id": "bf8d11a1",
   "metadata": {
    "slideshow": {
     "slide_type": "slide"
    }
   },
   "source": [
    "## Mapa conceptual de la clase elaborado en CMapTools"
   ]
  },
  {
   "attachments": {},
   "cell_type": "markdown",
   "id": "aac04d00",
   "metadata": {
    "slideshow": {
     "slide_type": "slide"
    }
   },
   "source": [
    "<img src = ''>"
   ]
  },
  {
   "attachments": {},
   "cell_type": "markdown",
   "id": "740f3401",
   "metadata": {
    "slideshow": {
     "slide_type": "slide"
    }
   },
   "source": [
    "# Componente de manejo de calculadora Casio asociado al objetivo de aprendizaje de esta clase"
   ]
  },
  {
   "attachments": {},
   "cell_type": "markdown",
   "id": "8eecb2d9",
   "metadata": {
    "slideshow": {
     "slide_type": "slide"
    }
   },
   "source": [
    "## Descripción de la calculadora Casio  \n",
    "\n"
   ]
  },
  {
   "cell_type": "code",
   "execution_count": null,
   "id": "3cd72835",
   "metadata": {
    "slideshow": {
     "slide_type": "slide"
    }
   },
   "outputs": [],
   "source": []
  },
  {
   "cell_type": "code",
   "execution_count": null,
   "id": "d8a111c4",
   "metadata": {
    "slideshow": {
     "slide_type": "slide"
    }
   },
   "outputs": [],
   "source": []
  },
  {
   "attachments": {},
   "cell_type": "markdown",
   "id": "8a6f7ef9",
   "metadata": {
    "slideshow": {
     "slide_type": "slide"
    }
   },
   "source": [
    "## Tareas para realizar antes de la clase"
   ]
  },
  {
   "attachments": {},
   "cell_type": "markdown",
   "id": "90cae469",
   "metadata": {
    "slideshow": {
     "slide_type": "slide"
    }
   },
   "source": [
    "1. Ver los videos respectivos []()\n",
    "2. Memorizar las definiciones []()\n",
    "3. Sintetizar o resumir la información en mapas conceptuales. []()\n",
    "4. Tareas para incentivar el uso de la calculadora Casio Para ingenieros y licenciados. "
   ]
  },
  {
   "attachments": {},
   "cell_type": "markdown",
   "id": "fccb447c",
   "metadata": {
    "slideshow": {
     "slide_type": "slide"
    }
   },
   "source": [
    "# Tareas para realizar en clase"
   ]
  },
  {
   "attachments": {},
   "cell_type": "markdown",
   "id": "e5c48edf",
   "metadata": {
    "slideshow": {
     "slide_type": "slide"
    }
   },
   "source": [
    "* Modelación matemática \n",
    "* Trabajo en equipos"
   ]
  },
  {
   "attachments": {},
   "cell_type": "markdown",
   "id": "8b6b0112",
   "metadata": {
    "slideshow": {
     "slide_type": "slide"
    }
   },
   "source": [
    "# Tareas para realizar después de la realización de la clase"
   ]
  },
  {
   "attachments": {},
   "cell_type": "markdown",
   "id": "947460e3",
   "metadata": {
    "slideshow": {
     "slide_type": "slide"
    }
   },
   "source": [
    "* Actividades de memorización: \n",
    "  - escucha reiterada de grabaciones de formulas y resultados científicos. \n",
    "  - relectura de notas. \n",
    "  - ejercicios de mayor complejidad.\n",
    "\n",
    "\n",
    "### No olvide asignar las tareas a los estudiantes a través de Google Colab y compartiendole el cuaderno de asignación a su correo institucional con fecha de entrega. [Google Colab](https://colab.research.google.com/?hl=es)   \n",
    "  "
   ]
  },
  {
   "attachments": {},
   "cell_type": "markdown",
   "id": "d34defb9",
   "metadata": {
    "slideshow": {
     "slide_type": "slide"
    }
   },
   "source": [
    "## Asignación individual de tareas semanales "
   ]
  },
  {
   "attachments": {},
   "cell_type": "markdown",
   "id": "0406f442",
   "metadata": {
    "slideshow": {
     "slide_type": "slide"
    }
   },
   "source": []
  },
  {
   "attachments": {},
   "cell_type": "markdown",
   "id": "ae114e14",
   "metadata": {
    "slideshow": {
     "slide_type": "slide"
    }
   },
   "source": [
    "# Horarios de monitoría y asesoría"
   ]
  },
  {
   "attachments": {},
   "cell_type": "markdown",
   "id": "b1db4b6c",
   "metadata": {
    "slideshow": {
     "slide_type": "slide"
    }
   },
   "source": [
    "## Monitor Manuel"
   ]
  },
  {
   "attachments": {},
   "cell_type": "markdown",
   "id": "39559692",
   "metadata": {
    "slideshow": {
     "slide_type": "slide"
    }
   },
   "source": [
    "Martes y jueves de 8 - 12  \n",
    "Miércoles 10 - 12 y de 2 a 4 PM  \n",
    "Sábado: 8 - 12"
   ]
  },
  {
   "attachments": {},
   "cell_type": "markdown",
   "id": "4537ef79",
   "metadata": {
    "slideshow": {
     "slide_type": "slide"
    }
   },
   "source": [
    "## Monitor Giovanny Reales"
   ]
  },
  {
   "attachments": {},
   "cell_type": "markdown",
   "id": "a54d2914",
   "metadata": {
    "slideshow": {
     "slide_type": "slide"
    }
   },
   "source": [
    "* Lunes a viernes de 6pm a 8pm\n",
    "* Miércoles de 1 pm a 8pm"
   ]
  },
  {
   "attachments": {},
   "cell_type": "markdown",
   "id": "935a5567",
   "metadata": {
    "slideshow": {
     "slide_type": "slide"
    }
   },
   "source": [
    "## Dificultades de aprendizaje detectados durante la clase"
   ]
  },
  {
   "attachments": {},
   "cell_type": "markdown",
   "id": "3bd7500d",
   "metadata": {
    "slideshow": {
     "slide_type": "slide"
    }
   },
   "source": []
  },
  {
   "attachments": {},
   "cell_type": "markdown",
   "id": "fb9402bb",
   "metadata": {
    "slideshow": {
     "slide_type": "slide"
    }
   },
   "source": [
    "## Estrategias propuestas para la solución de las dificultades de aprendizaje detectadas"
   ]
  },
  {
   "attachments": {},
   "cell_type": "markdown",
   "id": "d437294b",
   "metadata": {
    "slideshow": {
     "slide_type": "slide"
    }
   },
   "source": []
  },
  {
   "attachments": {},
   "cell_type": "markdown",
   "id": "d11570a2",
   "metadata": {
    "slideshow": {
     "slide_type": "slide"
    }
   },
   "source": []
  },
  {
   "attachments": {},
   "cell_type": "markdown",
   "id": "236b43fc",
   "metadata": {
    "slideshow": {
     "slide_type": "slide"
    }
   },
   "source": [
    "## Grabaciones en audio para fomentar la capacidad de memorizar enunciados de teoremas y resultados científicos y la capacidad de parafrasear estos resultados. Y así desarrollar memoria muscular para los comandos comunes. "
   ]
  },
  {
   "attachments": {},
   "cell_type": "markdown",
   "id": "319f2ffa",
   "metadata": {
    "slideshow": {
     "slide_type": "slide"
    }
   },
   "source": [
    "Se dispondrá de un lugar en Vocaroo para albergar archivos de audio de fomento a la memorización, enunciación y parafraseo de los resultados científicos, propiedades, reglas, etc. \n",
    "\n",
    "[Vocaroo](https://vocaroo.com/)\n",
    "\n"
   ]
  },
  {
   "attachments": {},
   "cell_type": "markdown",
   "id": "564fa59d",
   "metadata": {
    "slideshow": {
     "slide_type": "slide"
    }
   },
   "source": [
    "### Comparta sus cuadernos y videos, evidencias de su aprendizaje [aquí](https://forms.office.com/Pages/ResponsePage.aspx?id=IefhmYRxjkmK_7KtTlPBwkanXIs1i1FEujpsZgO6dXpUMEMwTEZVMzEwVVBPTElWNVg5OVEyWUhMUy4u)"
   ]
  },
  {
   "attachments": {},
   "cell_type": "markdown",
   "id": "1a1a3e41",
   "metadata": {
    "slideshow": {
     "slide_type": "slide"
    }
   },
   "source": []
  },
  {
   "attachments": {},
   "cell_type": "markdown",
   "id": "44be6d93",
   "metadata": {
    "slideshow": {
     "slide_type": "slide"
    }
   },
   "source": [
    "# Vocabulary "
   ]
  },
  {
   "attachments": {},
   "cell_type": "markdown",
   "id": "35e2484a",
   "metadata": {
    "slideshow": {
     "slide_type": "slide"
    }
   },
   "source": [
    "1. \n",
    "2.  \n",
    "3.  \n",
    "4.  \n",
    "5.  "
   ]
  },
  {
   "attachments": {},
   "cell_type": "markdown",
   "id": "ee46cb9a",
   "metadata": {
    "slideshow": {
     "slide_type": "slide"
    }
   },
   "source": [
    "## Mapa conceptual que vincula los conceptos asoaciados al objetivo de aprendizaje"
   ]
  },
  {
   "attachments": {},
   "cell_type": "markdown",
   "id": "a6b7a17d",
   "metadata": {
    "slideshow": {
     "slide_type": "slide"
    }
   },
   "source": []
  },
  {
   "attachments": {},
   "cell_type": "markdown",
   "id": "0266e3c5",
   "metadata": {
    "slideshow": {
     "slide_type": "slide"
    }
   },
   "source": [
    "## Quiz de 20 minutos para ejercitación y adquisición de habilidades "
   ]
  },
  {
   "attachments": {},
   "cell_type": "markdown",
   "id": "3a1b127f",
   "metadata": {
    "slideshow": {
     "slide_type": "slide"
    }
   },
   "source": [
    "* Pregunta 1: \n",
    "* Pregunta 2: \n",
    "* Pregunta 3: "
   ]
  },
  {
   "attachments": {},
   "cell_type": "markdown",
   "id": "10bce0d0",
   "metadata": {
    "slideshow": {
     "slide_type": "slide"
    }
   },
   "source": [
    "## Referentes "
   ]
  },
  {
   "attachments": {},
   "cell_type": "markdown",
   "id": "1db3c468",
   "metadata": {
    "slideshow": {
     "slide_type": "slide"
    }
   },
   "source": [
    "* [stewart precálculo](https://udeaeduco-my.sharepoint.com/:b:/g/personal/marco_canas_udea_edu_co/ERHIq62I6qFNrmxy6LZb8ZMBci7kUsyNME1nIh9yCBMJ_w?e=0zMSla)  \n",
    "\n",
    "* [stewart cálculo](https://udeaeduco-my.sharepoint.com/:b:/g/personal/marco_canas_udea_edu_co/EZgXZjAp8QxPqOAim2hs6LcBNPLGjSHf-xwYnUVYkwa04w?e=RZdTCy)  \n",
    "\n",
    "* [larson](https://udeaeduco-my.sharepoint.com/:b:/g/personal/marco_canas_udea_edu_co/ES71ChFeO9ZDhW3TwC5Ijk8BjxUK3Pdqz_fjHxTTFAfIAg?e=VDEjfu)\n",
    "\n",
    "* [uzcategui](https://udeaeduco-my.sharepoint.com/:b:/g/personal/marco_canas_udea_edu_co/ETDikm-lVl1Or8XoEo9oyh0BEti9Zs8le-f0D-dBdtZmbA?e=bBsoyQ)\n",
    "\n",
    "* [Cálculo de Purcell](https://udeaeduco-my.sharepoint.com/:b:/g/personal/marco_canas_udea_edu_co/ES60UB4h-QFFqqRQUFmkpWcBIgoLBJeqTfZjNajWNWSeJA?e=9NxjKJ)\n",
    "\n",
    "* [Recomendación de la UNESCO sobre ciencia abierta](https://unesdoc.unesco.org/ark:/48223/pf0000379949_spa)\n",
    "\n",
    "* [Geron, Aurelien. Hands on Machine Learning](https://udeaeduco-my.sharepoint.com/:b:/g/personal/marco_canas_udea_edu_co/Ecet27yjQzZIlT1Y_Bc2erkBUhbeYuIe6HG8i1FYZRlZww?e=gaOjqk)\n",
    "\n",
    "* [McKinney, West. Python for data Analysis.](https://udeaeduco-my.sharepoint.com/:b:/g/personal/marco_canas_udea_edu_co/EVbi5JIeBl9ErbiUnZfGe8YBhNTnZ8sxTK5hjIOPK4UpGw?e=tfkShe)\n",
    "\n",
    "* [ChatGPT](https://openai.com/blog/chatgpt/) \n",
    "\n",
    "* [Fórmulas más comunes en latex](https://wiki.geogebra.org/es/C%C3%B3digo_LaTeX_para_las_f%C3%B3rmulas_m%C3%A1s_comunes) "
   ]
  },
  {
   "attachments": {},
   "cell_type": "markdown",
   "id": "6b9e56a8",
   "metadata": {
    "slideshow": {
     "slide_type": "slide"
    }
   },
   "source": [
    "### [Evaluamos al profesor Marco Cañas Aquí](https://forms.office.com/Pages/ResponsePage.aspx?id=IefhmYRxjkmK_7KtTlPBwkanXIs1i1FEujpsZgO6dXpUREJPV1kxUk1JV1ozTFJIQVNIQjY5WEY3US4u)"
   ]
  },
  {
   "attachments": {},
   "cell_type": "markdown",
   "id": "071afa04",
   "metadata": {
    "slideshow": {
     "slide_type": "slide"
    }
   },
   "source": [
    "## [Evaluación luego de alcanzar estos objetivos de aprendizaje]()"
   ]
  },
  {
   "attachments": {},
   "cell_type": "markdown",
   "id": "10f43536",
   "metadata": {
    "slideshow": {
     "slide_type": "slide"
    }
   },
   "source": [
    "### Continue su aprendizaje en la siguiente clase a través del siguiente [vínculo]()"
   ]
  },
  {
   "attachments": {},
   "cell_type": "markdown",
   "id": "af751e30",
   "metadata": {
    "slideshow": {
     "slide_type": "slide"
    }
   },
   "source": [
    "# Conjeturas pedagógicas fruto de la aplicación del modelo de aprendizaje invertido y del enfoque hacia la ciencia de datos con python\n",
    "\n",
    "1. Todo cálculo o resultado debe ser interpretado en una línea markdown del cuaderno Jupyter, inmediatamente después de la enunciación del resultado y después de la presentación de una tabla o gráfico bidimensional, de tal menera que el estudiante explicite la comprensión verbal del resultado y las inferencias o estrategias que este resultado le sugieren.  \n",
    "\n",
    "2. Debo colocar las conjeturas pedagógicas, que el uso en el aula de [ChatGPT](https://openai.com/blog/chatgpt/) traiga para la enseñanza y el aprendizaje de las matemáticas. \n",
    "\n",
    "3. Promover ciencia abierta en clase de matemáticas puede ser pidiendo a los estudiantes, tomar nota en clase pero en cuadernos Jupyter y entregar siempre al final de cada clase su cuaderno con todas las notas y experimentaciones de clase replicadas. "
   ]
  },
  {
   "attachments": {},
   "cell_type": "markdown",
   "id": "53cc9115",
   "metadata": {
    "slideshow": {
     "slide_type": "slide"
    }
   },
   "source": [
    "## Agradecimientos  \n",
    "\n",
    "Doy gracias a Dios por la vida de mi Hijo Joseph Cañas Osorio y la madurez que ha alcanzado.\n",
    "\n",
    "Y a mi esposa Yasmira por su apoyo, orientación y acompañamiento. "
   ]
  },
  {
   "attachments": {},
   "cell_type": "markdown",
   "id": "fce30a6e",
   "metadata": {
    "slideshow": {
     "slide_type": "slide"
    }
   },
   "source": [
    "# Desarrollo de competencias en Python y ciencia de datos"
   ]
  },
  {
   "attachments": {},
   "cell_type": "markdown",
   "id": "cc151e69",
   "metadata": {
    "slideshow": {
     "slide_type": "slide"
    }
   },
   "source": [
    "## [West McKinney. Python for data Analysis](https://udeaeduco-my.sharepoint.com/:b:/g/personal/marco_canas_udea_edu_co/EVbi5JIeBl9ErbiUnZfGe8YBhNTnZ8sxTK5hjIOPK4UpGw?e=tfkShe)"
   ]
  },
  {
   "attachments": {},
   "cell_type": "markdown",
   "id": "2e0a4e73",
   "metadata": {
    "slideshow": {
     "slide_type": "slide"
    }
   },
   "source": [
    "### CHAPTER 2  \n",
    "#### Python Language Basics, IPython, and Jupyter Notebooks  \n",
    "\n"
   ]
  },
  {
   "attachments": {},
   "cell_type": "markdown",
   "id": "ecaa2ca7",
   "metadata": {
    "slideshow": {
     "slide_type": "slide"
    }
   },
   "source": [
    "When I wrote the first edition of this book in 2011 and 2012, there were fewer resources available for learning about doing data analysis in Python. "
   ]
  },
  {
   "attachments": {},
   "cell_type": "markdown",
   "id": "963e527b",
   "metadata": {
    "slideshow": {
     "slide_type": "slide"
    }
   },
   "source": [
    "This was partially a chicken-and-egg problem; many libraries that we now take for granted, like pandas, scikit-learn, and statsmodels, were comparatively immature back then. "
   ]
  },
  {
   "attachments": {},
   "cell_type": "markdown",
   "id": "4eb6ca46",
   "metadata": {
    "slideshow": {
     "slide_type": "slide"
    }
   },
   "source": [
    "In 2017, there is now a growing literature on data science, data analysis, and machine learning, supplementing the prior works on general-purpose scientific computing geared toward computational scientists, physicists, and professionals in other research fields. "
   ]
  },
  {
   "attachments": {},
   "cell_type": "markdown",
   "id": "739da03b",
   "metadata": {
    "slideshow": {
     "slide_type": "slide"
    }
   },
   "source": [
    "There are also excellent books about learning the Python programming language itself and becoming an effective software engineer. "
   ]
  },
  {
   "attachments": {},
   "cell_type": "markdown",
   "id": "e047085b",
   "metadata": {
    "slideshow": {
     "slide_type": "slide"
    }
   },
   "source": [
    "As this book is intended as an introductory text in working with data in Python, I feel it is valuable to have a self-contained overview of some of the most important features of Python’s built-in data structures and libraries from the perspective of data manipulation. "
   ]
  },
  {
   "attachments": {},
   "cell_type": "markdown",
   "id": "15c6e904",
   "metadata": {
    "slideshow": {
     "slide_type": "slide"
    }
   },
   "source": [
    "So, I will only present roughly enough information in this chapter and Chapter 3 to enable you to follow along with the rest of the book."
   ]
  },
  {
   "attachments": {},
   "cell_type": "markdown",
   "id": "6a1533ab",
   "metadata": {
    "slideshow": {
     "slide_type": "slide"
    }
   },
   "source": [
    "In my opinion, it is not necessary to become proficient at building good software in Python to be able to productively do data analysis. "
   ]
  },
  {
   "attachments": {},
   "cell_type": "markdown",
   "id": "f1a1488d",
   "metadata": {
    "slideshow": {
     "slide_type": "slide"
    }
   },
   "source": [
    "I encourage you to use the IPython shell and Jupyter notebooks to experiment with the code examples and to explore the documentation for the various types, functions, and methods. "
   ]
  },
  {
   "attachments": {},
   "cell_type": "markdown",
   "id": "a9ed6389",
   "metadata": {
    "slideshow": {
     "slide_type": "slide"
    }
   },
   "source": [
    "While I’ve made best efforts to present the book material in an incremental form, you may occasionally encounter things that have not yet been fully introduced."
   ]
  },
  {
   "attachments": {},
   "cell_type": "markdown",
   "id": "617153d3",
   "metadata": {
    "slideshow": {
     "slide_type": "slide"
    }
   },
   "source": [
    "Much of this book focuses on table-based analytics and data preparation tools for working with large datasets. In order to use those tools you must often first do some munging to corral messy data into a more nicely tabular (or structured) form. "
   ]
  },
  {
   "attachments": {},
   "cell_type": "markdown",
   "id": "72e2487b",
   "metadata": {
    "slideshow": {
     "slide_type": "fragment"
    }
   },
   "source": [
    "Gran parte de este libro se centra en el análisis basado en tablas y las herramientas de preparación de datos para trabajar con grandes conjuntos de datos. Para usar esas herramientas, a menudo primero debe hacer algo de munging para acorralar los datos desordenados en una forma tabular (o estructurada) más agradable."
   ]
  },
  {
   "attachments": {},
   "cell_type": "markdown",
   "id": "3177be0a",
   "metadata": {
    "slideshow": {
     "slide_type": "slide"
    }
   },
   "source": [
    "Fortunately, Python is an ideal language for rapidly whipping your data into shape. "
   ]
  },
  {
   "attachments": {},
   "cell_type": "markdown",
   "id": "2abc7796",
   "metadata": {
    "slideshow": {
     "slide_type": "slide"
    }
   },
   "source": [
    "The greater your facility with Python the language, the easier it will be for you to prepare new datasets for analysis. "
   ]
  },
  {
   "attachments": {},
   "cell_type": "markdown",
   "id": "b8b54178",
   "metadata": {
    "slideshow": {
     "slide_type": "slide"
    }
   },
   "source": [
    "Some of the tools in this book are best explored from a live IPython or Jupyter session. "
   ]
  },
  {
   "attachments": {},
   "cell_type": "markdown",
   "id": "0f7dca0d",
   "metadata": {
    "slideshow": {
     "slide_type": "slide"
    }
   },
   "source": [
    "Once you learn how to start up IPython and Jupyter, I recommend that you follow along with the examples so you can experiment and try different things. "
   ]
  },
  {
   "attachments": {},
   "cell_type": "markdown",
   "id": "dc66ac81",
   "metadata": {
    "slideshow": {
     "slide_type": "slide"
    }
   },
   "source": [
    "As with any keyboard-driven console-like environment, developing muscle-memory for the common commands is also part of the learning curve. "
   ]
  },
  {
   "attachments": {},
   "cell_type": "markdown",
   "id": "d6aba5c3",
   "metadata": {
    "slideshow": {
     "slide_type": "slide"
    }
   },
   "source": [
    "There are introductory Python concepts that this chapter does not cover, like classes and object-oriented programming, which you may find useful in your foray into data analysis in Python. "
   ]
  },
  {
   "attachments": {},
   "cell_type": "markdown",
   "id": "37aae6e2",
   "metadata": {
    "slideshow": {
     "slide_type": "slide"
    }
   },
   "source": [
    "To deepen your Python language knowledge, I recommend that you supplement this chapter with the official Python tutorial and potentially one of the many excellent books on general-purpose Python programming. Some recommendations to get you started include:  \n",
    "\n",
    "* Python Cookbook, Third Edition, by David Beazley and Brian K. Jones (O’Reilly)\n",
    "* Fluent Python by Luciano Ramalho (O’Reilly)\n",
    "* Effective Python by Brett Slatkin (Pearson)"
   ]
  },
  {
   "attachments": {},
   "cell_type": "markdown",
   "id": "59e8c4b1",
   "metadata": {
    "slideshow": {
     "slide_type": "slide"
    }
   },
   "source": [
    "# [Geron. Hand on Neuronal Networks]()\n",
    "\n",
    "Página 279 del libro. Segunda edición.\n",
    "\n",
    "## Chapter 10. Introduction to Artificial Neural Networks with Keras  "
   ]
  },
  {
   "attachments": {},
   "cell_type": "markdown",
   "id": "bac0783c",
   "metadata": {
    "slideshow": {
     "slide_type": "slide"
    }
   },
   "source": [
    "### Implementing MLPs with Keras"
   ]
  },
  {
   "attachments": {},
   "cell_type": "markdown",
   "id": "09740081",
   "metadata": {
    "slideshow": {
     "slide_type": "slide"
    }
   },
   "source": [
    "Keras is a high-level Deep Learning API that allows you to easily build, train, evaluate, and execute all sorts of neural networks. "
   ]
  },
  {
   "attachments": {},
   "cell_type": "markdown",
   "id": "c4496881",
   "metadata": {
    "slideshow": {
     "slide_type": "slide"
    }
   },
   "source": [
    "Its documentation (or specification) is available at https://keras.io/. "
   ]
  },
  {
   "attachments": {},
   "cell_type": "markdown",
   "id": "6ce046e3",
   "metadata": {
    "slideshow": {
     "slide_type": "slide"
    }
   },
   "source": [
    "The reference implementation, also called Keras, was developed by François Chollet as part of a research project and was released as an open source project in March 2015. "
   ]
  },
  {
   "attachments": {},
   "cell_type": "markdown",
   "id": "307c7712",
   "metadata": {
    "slideshow": {
     "slide_type": "slide"
    }
   },
   "source": [
    "It quickly gained popularity, owing to its ease of use, flexibility, and beautiful design. "
   ]
  },
  {
   "attachments": {},
   "cell_type": "markdown",
   "id": "3d7e450d",
   "metadata": {},
   "source": [
    "To perform the heavy computations required by neural networks, this reference implementation relies on a computation backend. At present, you can choose from three popular open source Deep Learning libraries: TensorFlow, Microsoft Cognitive Toolkit(CNTK), and Theano. Therefore, to avoid any confusion, we will refer to this reference implementation as multibackend Keras. Since late 2016, other implementations have been released. "
   ]
  },
  {
   "attachments": {},
   "cell_type": "markdown",
   "id": "570f44cc",
   "metadata": {},
   "source": [
    "You can now run Keras on Apache MXNet, Apple’s Core ML, JavaScript or TypeScript (to run Keras code in a web browser), and PlaidML (which can run on all sorts of GPU devices, not just Nvidia). Moreover, TensorFlow itself now comes bundled with its own Keras implementation, tf.keras. It only supports TensorFlow as the backend, but it has the advantage of offering some very useful extra features (see Figure 10-10): for example, it supports TensorFlow’s Data API, which makes it easy to load and preprocess data efficiently. For this reason, we will use tf.keras in this book. However, in this chapter we will not use any of the TensorFlow-specific features, so the code should run fine on other Keras implementations as well (at least in Python), with only minor modifications, such as changing the imports."
   ]
  },
  {
   "attachments": {},
   "cell_type": "markdown",
   "id": "4c9908ae",
   "metadata": {
    "slideshow": {
     "slide_type": "slide"
    }
   },
   "source": [
    "<img src = 'https://github.com/marco-canas/7_didactica_ciencia_datos/blob/main/referentes/geron/part_2/c_10/images/fig_10_10.png?raw=true'>"
   ]
  },
  {
   "attachments": {},
   "cell_type": "markdown",
   "id": "fda3b750",
   "metadata": {
    "slideshow": {
     "slide_type": "slide"
    }
   },
   "source": [
    "The most popular Deep Learning library, after Keras and TensorFlow, is Facebook’s PyTorch library. "
   ]
  },
  {
   "attachments": {},
   "cell_type": "markdown",
   "id": "b60f9d3c",
   "metadata": {
    "slideshow": {
     "slide_type": "slide"
    }
   },
   "source": [
    "The good news is that its API is quite similar to Keras’s (in part because both APIs were inspired by Scikit-Learn and Chainer), so once you know Keras, it is not difficult to switch to PyTorch, if you ever want to. "
   ]
  },
  {
   "attachments": {},
   "cell_type": "markdown",
   "id": "0c8762f7",
   "metadata": {
    "slideshow": {
     "slide_type": "slide"
    }
   },
   "source": [
    "PyTorch’s popularity grew exponentially in 2018, largely thanks to its simplicity and excellent documentation, which were not TensorFlow 1.x’s main strengths. "
   ]
  },
  {
   "attachments": {},
   "cell_type": "markdown",
   "id": "3597a3b1",
   "metadata": {
    "slideshow": {
     "slide_type": "slide"
    }
   },
   "source": [
    "However, TensorFlow 2 is arguably just as simple as PyTorch, as it has adopted Keras as its official high-level API and its developers have greatly simplified and cleaned up the rest of the\n",
    "API. "
   ]
  },
  {
   "attachments": {},
   "cell_type": "markdown",
   "id": "bd6a9f63",
   "metadata": {
    "slideshow": {
     "slide_type": "slide"
    }
   },
   "source": [
    "The documentation has also been completely reorganized, and it is\n",
    "much easier to find what you need now. Similarly, PyTorch’s main\n",
    "weaknesses (e.g., limited portability and no computation graph analysis)\n",
    "have been largely addressed in PyTorch 1.0. Healthy competition is\n",
    "beneficial to everyone.\n",
    "All right, it’s time to code! As tf.keras is bundled with TensorFlow, let’s\n",
    "start by installing TensorFlow."
   ]
  },
  {
   "attachments": {},
   "cell_type": "markdown",
   "id": "b09c05b6",
   "metadata": {
    "slideshow": {
     "slide_type": "slide"
    }
   },
   "source": [
    "## Installing TensorFlow 2"
   ]
  },
  {
   "attachments": {},
   "cell_type": "markdown",
   "id": "77773ffc",
   "metadata": {
    "slideshow": {
     "slide_type": "slide"
    }
   },
   "source": [
    "Assuming you installed Jupyter and Scikit-Learn by following the\n",
    "installation instructions in Chapter 2, use pip to install TensorFlow. If you\n",
    "created an isolated environment using virtualenv, you first need to activate\n",
    "it:"
   ]
  },
  {
   "cell_type": "code",
   "execution_count": null,
   "id": "fb26a627",
   "metadata": {
    "slideshow": {
     "slide_type": "slide"
    }
   },
   "outputs": [],
   "source": [
    "!cd ML_PATH # Your ML working directory (e.g., $HOME/ml)\n",
    "!source my_env/bin/activate # on Linux or macOS\n",
    "!.\\my_env\\Scripts\\activate # on Windows"
   ]
  },
  {
   "attachments": {},
   "cell_type": "markdown",
   "id": "7bf4f360",
   "metadata": {
    "slideshow": {
     "slide_type": "slide"
    }
   },
   "source": [
    "Next, install TensorFlow 2 (if you are not using a virtualenv, you will need administrator rights, or to add the --user option):"
   ]
  },
  {
   "cell_type": "code",
   "execution_count": null,
   "id": "47b2fb7c",
   "metadata": {
    "slideshow": {
     "slide_type": "slide"
    }
   },
   "outputs": [],
   "source": [
    "!python3 -m pip install --upgrade tensorflow"
   ]
  },
  {
   "attachments": {},
   "cell_type": "markdown",
   "id": "368c5113",
   "metadata": {
    "slideshow": {
     "slide_type": "slide"
    }
   },
   "source": [
    "### NOTE"
   ]
  },
  {
   "attachments": {},
   "cell_type": "markdown",
   "id": "779f1a06",
   "metadata": {
    "slideshow": {
     "slide_type": "slide"
    }
   },
   "source": [
    "For GPU support, at the time of this writing you need to install tensorflow-gpu instead of tensorflow, but the TensorFlow team is working on having a single library that will\n",
    "support both CPU-only and GPU-equipped systems. You will still need to install extra\n",
    "libraries for GPU support (see https://tensorflow.org/install for more details). We will\n",
    "look at GPUs in more depth in Chapter 19.\n",
    "To test your installation, open a Python shell or a Jupyter notebook, then\n",
    "import TensorFlow and tf.keras and print their versions:"
   ]
  },
  {
   "cell_type": "code",
   "execution_count": null,
   "id": "b8792cdf",
   "metadata": {
    "slideshow": {
     "slide_type": "slide"
    }
   },
   "outputs": [],
   "source": [
    "import tensorflow as tf "
   ]
  },
  {
   "cell_type": "code",
   "execution_count": null,
   "id": "342e2a47",
   "metadata": {},
   "outputs": [],
   "source": []
  },
  {
   "cell_type": "code",
   "execution_count": null,
   "id": "fce10188",
   "metadata": {},
   "outputs": [],
   "source": []
  },
  {
   "cell_type": "code",
   "execution_count": null,
   "id": "62b356f5",
   "metadata": {},
   "outputs": [],
   "source": []
  }
 ],
 "metadata": {
  "celltoolbar": "Slideshow",
  "kernelspec": {
   "display_name": "Python 3 (ipykernel)",
   "language": "python",
   "name": "python3"
  },
  "language_info": {
   "codemirror_mode": {
    "name": "ipython",
    "version": 3
   },
   "file_extension": ".py",
   "mimetype": "text/x-python",
   "name": "python",
   "nbconvert_exporter": "python",
   "pygments_lexer": "ipython3",
   "version": "3.10.12"
  },
  "rise": {
   "enable_chalkboard": true,
   "theme": "sky",
   "transition": "zoom"
  }
 },
 "nbformat": 4,
 "nbformat_minor": 5
}
