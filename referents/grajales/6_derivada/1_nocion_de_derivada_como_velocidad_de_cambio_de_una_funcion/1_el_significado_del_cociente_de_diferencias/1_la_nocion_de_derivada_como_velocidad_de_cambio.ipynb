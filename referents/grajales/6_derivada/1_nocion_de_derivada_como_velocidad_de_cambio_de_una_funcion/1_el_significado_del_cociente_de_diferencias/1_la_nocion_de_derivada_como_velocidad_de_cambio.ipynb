{
 "cells": [
  {
   "attachments": {},
   "cell_type": "markdown",
   "id": "dc06dec7",
   "metadata": {
    "slideshow": {
     "slide_type": "slide"
    }
   },
   "source": [
    "<table align=\"left\">\n",
    "  <td>\n",
    "    <a href=\"https://colab.research.google.com/github/marco-canas/calculo/blob/main/referents/grajales/6_derivada/1_nocion_de_derivada_como_velocidad_de_cambio_de_una_funcion/1_el_significado_del_cociente_de_diferencias/1_la_nocion_de_derivada_como_velocidad_de_cambio.ipynb\" target=\"_parent\"><img src=\"https://colab.research.google.com/assets/colab-badge.svg\" alt=\"Open In Colab\"/></a>\n",
    "  </td>\n",
    "</table>"
   ]
  },
  {
   "attachments": {},
   "cell_type": "markdown",
   "id": "e0c5b198",
   "metadata": {
    "slideshow": {
     "slide_type": "slide"
    }
   },
   "source": [
    "### [Video de apoyo a la lectura interactiva y experimental de este cuaderno. Introducción inicial](https://www.youtube.com/watch?v=KVXR6WGnxow)"
   ]
  },
  {
   "attachments": {},
   "cell_type": "markdown",
   "id": "41e82203",
   "metadata": {
    "slideshow": {
     "slide_type": "slide"
    }
   },
   "source": [
    "## [Vínculo al programa del curso:  ](https://github.com/marco-canas/2_calculo_I/tree/main)\n",
    "\n",
    "* Todos los profesores debemos proponer objetivos de formación\n",
    "* Propuesta de evaluación \n",
    "* Y propuesta de metodología\n",
    "* Y propuesta de bibliografía. "
   ]
  },
  {
   "attachments": {},
   "cell_type": "markdown",
   "id": "d11ab06d",
   "metadata": {
    "slideshow": {
     "slide_type": "slide"
    }
   },
   "source": [
    "Un reconocimiento a mis estudiantes que han construido conmigo este saber pedagógico:\n",
    "![Gracias a unos estudiantes que le apuestan a la comunicación científica a través del inglés, la matemátiica, latex y python,,, además de apostar a la ciencia de datos](https://github.com/marco-canas/matematicas_I_grupo_experimental_grupo_control/blob/main/images/images_of_students/administracion_empresas_2024-03-22.jpeg?raw=true)"
   ]
  },
  {
   "cell_type": "markdown",
   "id": "23fa9bdf",
   "metadata": {},
   "source": [
    "\n",
    "<img src = 'https://github.com/marco-canas/2_calculo_I/blob/main/images/student_images/emotiva_20230616.jpg?raw=true' width = 500> \n",
    "\n"
   ]
  },
  {
   "cell_type": "markdown",
   "id": "2293345a",
   "metadata": {},
   "source": [
    "<img src = 'https://github.com/marco-canas/calculo/blob/main/images/student_images/4_administracion_de_empresas/aseroria_adminnistracion_2_2024-05-18.jpeg?raw=true' width = 600>"
   ]
  },
  {
   "attachments": {},
   "cell_type": "markdown",
   "id": "5e3936d8",
   "metadata": {
    "slideshow": {
     "slide_type": "slide"
    }
   },
   "source": [
    "# Llamar a lista o tomar asistencia con python o llamar el equipo para la tarea con video y cuaderno Jupyter sobre medición indirecta de grandes alturas con imágenes"
   ]
  },
  {
   "cell_type": "code",
   "execution_count": 1,
   "id": "7604880f",
   "metadata": {
    "slideshow": {
     "slide_type": "slide"
    }
   },
   "outputs": [],
   "source": [
    "# Llamar a lista o tomar asistencia con python \n",
    "\n",
    "import pandas as pd # convertir la lista de estudiantes en un dataframe\n",
    "import numpy as np # elección aleatoria\n",
    "\n",
    "# Cargar la lista de estudiantes desde la URL\n",
    "url = 'https://raw.githubusercontent.com/marco-canas/groups_list/main/math1.csv'\n",
    "estudiantes = pd.read_csv(url) # convierte el csv en una dataframe\n",
    "\n",
    "# Convertir la columna 'Nombre' a una lista de Python\n",
    "lista_estudiantes = estudiantes['Nombre'].tolist()\n",
    "\n",
    "# Función para llamar a un estudiante aleatoriamente y registrar su nota de seguimiento\n",
    "def llamar_estudiante():\n",
    "    if lista_estudiantes:\n",
    "        estudiante_aleatorio = np.random.choice(lista_estudiantes)\n",
    "        print(f\"Llamando a {estudiante_aleatorio}...\")\n",
    "        lista_estudiantes.remove(estudiante_aleatorio)\n",
    "    else:\n",
    "        print(\"Se han llamado a todos los estudiantes del grupo completo.\")\n"
   ]
  },
  {
   "cell_type": "code",
   "execution_count": 3,
   "id": "33f85aea",
   "metadata": {
    "scrolled": true,
    "slideshow": {
     "slide_type": "slide"
    }
   },
   "outputs": [
    {
     "name": "stdout",
     "output_type": "stream",
     "text": [
      "Llamando a QUINTERO CARDONA DEVISON MATEO...\n"
     ]
    }
   ],
   "source": [
    "llamar_estudiante()"
   ]
  },
  {
   "attachments": {},
   "cell_type": "markdown",
   "id": "ca46c23b",
   "metadata": {
    "slideshow": {
     "slide_type": "slide"
    }
   },
   "source": [
    "# Modelo general de clase: [aula invertida](https://www3.gobiernodecanarias.org/medusa/ecoescuela/pedagotic/aprendizaje-invertido-flipped-classroom/)\n"
   ]
  },
  {
   "attachments": {},
   "cell_type": "markdown",
   "id": "79c35435",
   "metadata": {
    "slideshow": {
     "slide_type": "slide"
    }
   },
   "source": [
    "## Fomento de la lectura literaria asociada a Ingeniería agropecuaria y licenciatura en Matemáticas  \n",
    "\n",
    "[Encuentra tu persona vitamina](https://github.com/marco-canas/encuentra_tu_persona_vitamina/blob/main/14_el_placer/14_1_no_me_se_su_nombre_solo_he_tenido_sexo_con_el/1_14_1_el_placer_no_me_se_su_nombre_solo_he_tenido_sexo_con_el.ipynb)\n"
   ]
  },
  {
   "attachments": {},
   "cell_type": "markdown",
   "id": "96775931",
   "metadata": {
    "slideshow": {
     "slide_type": "slide"
    }
   },
   "source": [
    "## Título de la clase: La Derivada como razón de cambio o tasa de cambio o velocidad de cambio de una función financiera. \n",
    "\n"
   ]
  },
  {
   "attachments": {},
   "cell_type": "markdown",
   "id": "1d38dd4e",
   "metadata": {
    "slideshow": {
     "slide_type": "slide"
    }
   },
   "source": [
    "### Objetivo de aprendizaje (Enunciar, de manera corta sencilla y clara para todos los asistentes)\n",
    "\n",
    "* que el estudiante adquiera significado financiero del cociente de diferencias:\n",
    "\n",
    "$$ \\frac{f(x+h) - f(x)}{h} $$\n",
    "\n",
    "* La enseñanza del concepto de derivada en el programa de contaduría y administración de empresas puede tener varios objetivos de aprendizaje, dependiendo del enfoque y el nivel de profundidad que se le dé en el plan de estudios. Algunos de los objetivos comunes podrían ser:\n"
   ]
  },
  {
   "cell_type": "markdown",
   "id": "e12116bd",
   "metadata": {},
   "source": [
    "\n",
    "1. **Aplicaciones en economía y finanzas**: La derivada es una herramienta matemática esencial para analizar y comprender el comportamiento de variables económicas y financieras, como costos, ingresos, tasas de interés y crecimiento económico.\n"
   ]
  },
  {
   "cell_type": "markdown",
   "id": "1960396d",
   "metadata": {},
   "source": [
    "\n",
    "2. **Optimización de funciones**: El cálculo de derivadas permite encontrar los puntos críticos de una función, que son fundamentales para maximizar o minimizar ciertas cantidades en situaciones contables y financieras.\n"
   ]
  },
  {
   "cell_type": "markdown",
   "id": "2b221090",
   "metadata": {},
   "source": [
    "\n",
    "3. **Tasas de cambio**: La derivada representa la tasa instantánea de cambio de una función en un punto dado, lo que es relevante para entender y calcular tasas de variación, como tasas de crecimiento y de interés.\n"
   ]
  },
  {
   "cell_type": "markdown",
   "id": "0d32b338",
   "metadata": {},
   "source": [
    "\n",
    "4. **Análisis de datos y gráficos**: Comprender el concepto de derivada permite analizar gráficos de funciones y determinar su pendiente en un punto específico, lo que es útil para interpretar datos en el contexto de contabilidad y finanzas.\n"
   ]
  },
  {
   "cell_type": "markdown",
   "id": "19208d2d",
   "metadata": {},
   "source": [
    "\n",
    "5. **Problemas de optimización**: La derivada se aplica en problemas de optimización, como maximizar beneficios o minimizar costos, que son fundamentales en la toma de decisiones financieras y contables.\n"
   ]
  },
  {
   "cell_type": "markdown",
   "id": "6be511a1",
   "metadata": {},
   "source": [
    "\n",
    "6. **Cálculo de límites**: La derivada también introduce conceptos relacionados con los límites de funciones, lo que es importante para el análisis y comprensión de ciertos comportamientos matemáticos.\n",
    "\n",
    "7. **Modelado y predicción**: La capacidad de modelar funciones y predecir cambios basados en la derivada puede ser útil en el análisis y proyección de datos financieros y contables.\n"
   ]
  },
  {
   "cell_type": "markdown",
   "id": "231a46a0",
   "metadata": {},
   "source": [
    "\n",
    "En general, la enseñanza del concepto de derivada en el programa de contaduría y administración de empresas busca proporcionar a los estudiantes una herramienta matemática poderosa para analizar y comprender fenómenos económicos y financieros, así como para tomar decisiones informadas y eficientes en el campo de la contabilidad y las finanzas. Además, la derivada es una base fundamental para la comprensión de otros conceptos matemáticos avanzados que pueden ser relevantes para la profesión contable."
   ]
  },
  {
   "attachments": {},
   "cell_type": "markdown",
   "id": "540f0ec1",
   "metadata": {
    "slideshow": {
     "slide_type": "slide"
    }
   },
   "source": [
    "## Cuestionario para realizar labores de memorización, observación y síntesis de la información (Además de diagnóstico)\n"
   ]
  },
  {
   "attachments": {},
   "cell_type": "markdown",
   "id": "5b272400",
   "metadata": {},
   "source": [
    "\n",
    "Claro, aquí tienes un cuestionario para diagnosticar los conceptos previos necesarios antes de abordar el concepto de derivada en el programa de contaduría. Estas preguntas ayudarán a evaluar el nivel de conocimiento y comprensión de los estudiantes en temas matemáticos relevantes:\n",
    "\n",
    "1. ¿Qué es una función en matemáticas y cómo se representa?  \n",
    "    a. Una relación entre dos conjuntos donde cada elemento del primer conjunto se asocia con un solo elemento del segundo conjunto.  \n",
    "    b. Una operación aritmética.  \n",
    "    c. Un conjunto de números reales.  \n"
   ]
  },
  {
   "attachments": {},
   "cell_type": "markdown",
   "id": "db122875",
   "metadata": {},
   "source": [
    "\n",
    "2. ¿Qué es el dominio de una función?  \n",
    "   a) El conjunto de todas las salidas posibles de la función.    \n",
    "   b) El conjunto de todas las entradas posibles de la función.    \n",
    "   c) El conjunto de todas las respuestas correctas de una función.    \n"
   ]
  },
  {
   "attachments": {},
   "cell_type": "markdown",
   "id": "36f78c0d",
   "metadata": {},
   "source": [
    "\n",
    "3. ¿Qué significa que una función sea continua en un punto?\n",
    "a) La función tiene un valor real en ese punto.\n",
    "b) La función tiene una asíntota en ese punto.\n",
    "c) La función no tiene saltos o discontinuidades en ese punto.\n"
   ]
  },
  {
   "cell_type": "markdown",
   "id": "098fe5d3",
   "metadata": {},
   "source": [
    "\n",
    "4. ¿Cuál es el objetivo principal de calcular la derivada de una función?\n",
    "a) Encontrar los puntos donde la función alcanza su máximo o mínimo.\n",
    "b) Determinar la tasa instantánea de cambio de la función en un punto.\n",
    "c) Calcular el área bajo la curva de la función.\n",
    "\n",
    "5. ¿Cómo se calcula la derivada de una función en un punto dado?\n",
    "a) Dividiendo el cambio en la función entre el cambio en la variable independiente.\n",
    "b) Encontrando la pendiente de la recta tangente a la curva de la función en ese punto.\n",
    "c) Sumando el valor de la función y su variable independiente.\n"
   ]
  },
  {
   "cell_type": "markdown",
   "id": "253cd9d2",
   "metadata": {},
   "source": [
    "\n",
    "6. ¿Qué es un punto crítico en una función?\n",
    "a) Un punto donde la función tiene una asíntota.\n",
    "b) Un punto donde la función tiene un valor máximo o mínimo.\n",
    "c) Un punto donde la función tiene una discontinuidad.\n"
   ]
  },
  {
   "cell_type": "markdown",
   "id": "c3b3322b",
   "metadata": {},
   "source": [
    "\n",
    "7. ¿Cuál es el concepto de límite y cómo se relaciona con la derivada?\n",
    "a) El límite representa el valor exacto de una función en un punto dado.\n",
    "b) El límite es la tasa instantánea de cambio de la función en un punto dado.\n",
    "c) El límite es una noción de aproximación de la función en un punto y es fundamental para calcular la derivada.\n"
   ]
  },
  {
   "cell_type": "markdown",
   "id": "9153777b",
   "metadata": {},
   "source": [
    "\n",
    "8. ¿Qué es una regla de derivación comúnmente utilizada para encontrar la derivada de una función polinómica?  \n",
    "   \n",
    "a) Regla de la suma.  \n",
    "b) Regla del producto.  \n",
    "c) Regla de la potencia.  \n"
   ]
  },
  {
   "cell_type": "markdown",
   "id": "7f63260b",
   "metadata": {},
   "source": [
    "\n",
    "9. ¿Qué es una asíntota en una gráfica de función y cómo se determina?\n",
    "a) Una asíntota es un punto donde la función alcanza su máximo o mínimo.\n",
    "b) Una asíntota es una recta vertical u horizontal que la gráfica de la función se acerca infinitamente pero nunca toca.\n",
    "c) Una asíntota es un punto donde la función se corta con el eje de coordenadas.\n",
    "\n",
    "10. ¿Cuál es la relación entre la derivada y la tasa de variación de una función?\n",
    "a) La derivada es igual a la tasa de variación de la función.\n",
    "b) La tasa de variación es igual a la derivada de la función.\n",
    "c) La derivada representa la tasa de variación instantánea de la función.\n",
    "\n",
    "Espero que este cuestionario te ayude a evaluar los conceptos previos necesarios para abordar el concepto de derivada en el programa de contaduría. Puedes utilizar las respuestas para identificar áreas de fortaleza y debilidad de los estudiantes y ajustar tu enfoque de enseñanza en consecuencia."
   ]
  },
  {
   "attachments": {},
   "cell_type": "markdown",
   "id": "ca7261b1",
   "metadata": {
    "slideshow": {
     "slide_type": "slide"
    }
   },
   "source": [
    "## Establecimiento de prerrequisitos conceptuales para alcanzar el objetivo de aprendizaje trazado.   \n",
    "\n",
    "(Elabore una lista de preguntas al rededor de los conceptos que consideres necesarios para empezar la clase).  \n",
    "\n",
    "Antes de abordar el concepto de derivada en el programa de contaduría, es importante contar con una serie de prerrequisitos conceptuales que brinden una base sólida en matemáticas y otras áreas relacionadas. Algunos de los prerrequisitos conceptuales más importantes son:\n",
    "\n",
    "1. **Álgebra y trigonometría**: Un conocimiento sólido de álgebra y trigonometría es esencial para comprender las operaciones matemáticas que se utilizan en el cálculo de derivadas.\n",
    "\n",
    "2. **Funciones**: Comprender el concepto de funciones, cómo se definen y cómo se representan, es fundamental para el estudio de derivadas.\n"
   ]
  },
  {
   "cell_type": "markdown",
   "id": "26cdf67b",
   "metadata": {},
   "source": [
    "\n",
    "3. **Límites**: Los límites son un concepto central en el cálculo de derivadas. Es importante entender cómo se calculan los límites y su relación con las derivadas.\n",
    "\n",
    "4. **Reglas básicas de derivación**: Familiarizarse con las reglas básicas de derivación, como la regla de la suma, regla del producto, regla de la cadena, etc., es esencial para calcular derivadas de funciones más complejas.\n",
    "\n",
    "5. **Geometría analítica**: Tener conocimientos de geometría analítica y el plano cartesiano es útil para entender la interpretación geométrica de las derivadas.\n"
   ]
  },
  {
   "cell_type": "markdown",
   "id": "d6b6efc6",
   "metadata": {},
   "source": [
    "\n",
    "6. **Tasa de cambio**: Entender el concepto de tasa de cambio y cómo se relaciona con las derivadas es importante para aplicaciones prácticas en contabilidad.\n",
    "\n",
    "7. **Interpretación económica**: En el contexto de la contaduría, es útil comprender la interpretación económica de las derivadas, como tasas de crecimiento, tasas de interés, costos marginales, entre otros.\n",
    "\n",
    "8. **Cálculo de áreas y volúmenes**: Si bien no es un prerrequisito absoluto, tener conocimientos básicos de cálculo de áreas y volúmenes puede facilitar el entendimiento de algunas aplicaciones de derivadas.\n",
    "\n",
    "9. **Notación matemática**: Es importante estar familiarizado con la notación matemática utilizada en el cálculo, incluyendo la notación de límite y la notación de derivada.\n",
    "\n",
    "10. **Problemas aplicados**: Tener habilidades para resolver problemas aplicados y situaciones prácticas utilizando conceptos matemáticos es útil para aplicar la derivada en contextos contables.\n",
    "\n",
    "Estos prerrequisitos proporcionarán a los estudiantes una base sólida para comprender y aplicar el concepto de derivada en el programa de contaduría. Si los estudiantes ya poseen estos conocimientos previos, estarán mejor preparados para abordar conceptos más avanzados relacionados con el cálculo y su aplicación en situaciones financieras y contables."
   ]
  },
  {
   "attachments": {},
   "cell_type": "markdown",
   "id": "f299273e",
   "metadata": {},
   "source": [
    "Aquí te agrego, ejemplos de tasas de crecimiento en contaduría. \n"
   ]
  },
  {
   "cell_type": "markdown",
   "id": "1c4c3909",
   "metadata": {},
   "source": [
    "\n",
    "En contaduría, las tasas de crecimiento son medidas que indican cómo ciertas variables han aumentado o disminuido en un período de tiempo específico. Estas tasas son importantes para analizar el desempeño financiero de una empresa y tomar decisiones estratégicas. Aquí tienes algunos ejemplos comunes de tasas de crecimiento utilizadas en contaduría:\n",
    "\n",
    "1. **Tasa de crecimiento de ventas**: Es la medida que indica el aumento porcentual o disminución de las ventas de una empresa en un período de tiempo determinado. Por ejemplo, si las ventas de una empresa aumentaron de $100,000 en el primer trimestre a $120,000 en el segundo trimestre, la tasa de crecimiento de ventas para el segundo trimestre sería del 20% ($120,000 - $100,000) / $100,000 * 100%.\n",
    "\n",
    "2. **Tasa de crecimiento de utilidades**: Muestra el aumento porcentual o disminución de las ganancias netas de una empresa en un período específico. Por ejemplo, si una empresa tuvo ganancias netas de $50,000 en el año anterior y $60,000 en el año actual, la tasa de crecimiento de utilidades sería del 20% ($60,000 - $50,000) / $50,000 * 100%.\n"
   ]
  },
  {
   "cell_type": "markdown",
   "id": "7d2405a7",
   "metadata": {},
   "source": [
    "\n",
    "3. **Tasa de crecimiento de ingresos por cliente**: Es útil para analizar cómo el ingreso promedio por cliente ha variado en un período de tiempo determinado. Por ejemplo, si una empresa tenía ingresos totales de $500,000 y 100 clientes en el año anterior, y en el año actual tuvo ingresos totales de $600,000 y 120 clientes, la tasa de crecimiento de ingresos por cliente sería del 10% ($600,000 - $500,000) / 100 * 100%.\n"
   ]
  },
  {
   "cell_type": "markdown",
   "id": "cd4cffc0",
   "metadata": {},
   "source": [
    "\n",
    "4. **Tasa de crecimiento de activos**: Muestra cómo el valor total de los activos de una empresa ha cambiado en un período de tiempo específico. Por ejemplo, si una empresa tenía activos por valor de $1,000,000 en el año anterior y $1,200,000 en el año actual, la tasa de crecimiento de activos sería del 20% ($1,200,000 - $1,000,000) / $1,000,000 * 100%.\n"
   ]
  },
  {
   "cell_type": "markdown",
   "id": "e5044490",
   "metadata": {},
   "source": [
    "\n",
    "5. **Tasa de crecimiento de deudas**: Indica cómo la deuda de una empresa ha variado en un período de tiempo determinado. Por ejemplo, si una empresa tenía deudas por valor de $200,000 en el año anterior y $180,000 en el año actual, la tasa de crecimiento de deudas sería del -10% ($180,000 - $200,000) / $200,000 * 100%.\n"
   ]
  },
  {
   "cell_type": "markdown",
   "id": "2c43fcbf",
   "metadata": {},
   "source": [
    "\n",
    "Estas tasas de crecimiento son solo algunos ejemplos de cómo se utilizan en contaduría para analizar el rendimiento financiero de una empresa y tomar decisiones informadas. Es importante recordar que las tasas de crecimiento deben ser analizadas en el contexto adecuado y considerar otros factores que puedan afectar los resultados financieros de una empresa."
   ]
  },
  {
   "attachments": {},
   "cell_type": "markdown",
   "id": "2298e976",
   "metadata": {
    "slideshow": {
     "slide_type": "slide"
    }
   },
   "source": [
    "# Para el diseño de la clase tenga en cuenta algunos problemas de aprendizaje"
   ]
  },
  {
   "attachments": {},
   "cell_type": "markdown",
   "id": "523d3acf",
   "metadata": {
    "slideshow": {
     "slide_type": "slide"
    }
   },
   "source": [
    "Los estudiantes de un programa de contaduría pueden enfrentar varios problemas de aprendizaje al abordar el concepto de derivada debido a su enfoque matemático y su aplicación en contextos contables y financieros. Algunos de los problemas de aprendizaje más comunes son:\n"
   ]
  },
  {
   "attachments": {},
   "cell_type": "markdown",
   "id": "129fb137",
   "metadata": {},
   "source": [
    "\n",
    "1. **Entender la interpretación geométrica**: Algunos estudiantes pueden tener dificultades para comprender la interpretación geométrica de la derivada como la pendiente de la recta tangente a la curva de una función en un punto dado.\n"
   ]
  },
  {
   "cell_type": "markdown",
   "id": "f7b3aa79",
   "metadata": {},
   "source": [
    "\n",
    "2. **Aplicación de las reglas de derivación**: Los estudiantes pueden tener dificultades para aplicar correctamente las reglas de derivación, especialmente cuando se trata de funciones más complejas o combinaciones de funciones.\n"
   ]
  },
  {
   "cell_type": "markdown",
   "id": "c1b13e76",
   "metadata": {},
   "source": [
    "\n",
    "3. **Relacionar la derivada con tasas de cambio**: Pueden surgir problemas para relacionar la derivada con conceptos prácticos en contabilidad, como tasas de crecimiento, costos marginales o tasas de interés.\n"
   ]
  },
  {
   "cell_type": "markdown",
   "id": "10144b95",
   "metadata": {},
   "source": [
    "\n",
    "4. **Entender la notación matemática**: La notación matemática utilizada en el cálculo de derivadas puede ser confusa para algunos estudiantes, especialmente la notación de límite y la notación de derivada.\n"
   ]
  },
  {
   "cell_type": "markdown",
   "id": "19421004",
   "metadata": {},
   "source": [
    "\n",
    "5. **Identificar puntos críticos y extremos**: La identificación de puntos críticos y extremos en una función puede ser un desafío, lo que es esencial para el análisis económico y financiero.\n"
   ]
  },
  {
   "cell_type": "markdown",
   "id": "e6c2844c",
   "metadata": {},
   "source": [
    "\n",
    "6. **Aplicación en problemas prácticos**: Algunos estudiantes pueden tener dificultades para aplicar el concepto de derivada en problemas prácticos de contabilidad, finanzas o economía.\n",
    "\n",
    "7. **Resolver problemas aplicados de optimización**: La resolución de problemas de optimización, como maximizar beneficios o minimizar costos, puede ser compleja para algunos estudiantes.\n",
    "\n",
    "8. **Comprensión de conceptos económicos relacionados**: Entender cómo la derivada se aplica en conceptos económicos, como elasticidad, ingreso marginal o producción marginal, puede ser un desafío.\n",
    "\n",
    "9. **Relación con otros temas de matemáticas**: Algunos estudiantes pueden tener dificultades para relacionar la derivada con otros conceptos matemáticos previamente aprendidos, como límites y funciones.\n",
    "\n",
    "10. **Conexión con la práctica contable real**: Relacionar el concepto abstracto de derivada con situaciones reales en el campo de la contaduría puede ser un desafío para algunos estudiantes.\n"
   ]
  },
  {
   "attachments": {},
   "cell_type": "markdown",
   "id": "c490859d",
   "metadata": {},
   "source": [
    "\n",
    "Para superar estos problemas de aprendizaje, es fundamental que los estudiantes practiquen activamente con una variedad de ejercicios y problemas aplicados. Además, los profesores pueden utilizar ejemplos y aplicaciones concretas en contabilidad y finanzas para hacer que el concepto de derivada sea más relevante y significativo para los estudiantes. Brindar apoyo adicional a través de tutorías o recursos de apoyo también puede ser beneficioso para aquellos estudiantes que enfrentan dificultades específicas."
   ]
  },
  {
   "attachments": {},
   "cell_type": "markdown",
   "id": "a40a4704",
   "metadata": {
    "slideshow": {
     "slide_type": "slide"
    }
   },
   "source": [
    "## Secuencia conceptual introductoria a la clase"
   ]
  },
  {
   "cell_type": "markdown",
   "id": "928f9e67",
   "metadata": {},
   "source": [
    "Se dispondrá de un lugar en Vocaroo para albergar archivos de audio de fomento a la memorización, enunciación y parafraseo de los resultados científicos, propiedades, reglas, etc. \n",
    "\n",
    "[La derivada de una función lineal](https://voca.ro/1cYm5xig9fyv)\n",
    "[La derivada de una función cuadrática]()\n",
    "[Vocaroo](https://vocaroo.com/)\n",
    "\n"
   ]
  },
  {
   "cell_type": "code",
   "execution_count": 1,
   "id": "841d5219",
   "metadata": {},
   "outputs": [
    {
     "data": {
      "text/plain": [
       "'/home/marco/Documentos/docencia/calculo/images/3_derivada/1_la_nocion_de_derivada/Derivada de una función.pdf'"
      ]
     },
     "execution_count": 1,
     "metadata": {},
     "output_type": "execute_result"
    },
    {
     "name": "stderr",
     "output_type": "stream",
     "text": [
      "/snap/core20/current/lib/x86_64-linux-gnu/libstdc++.so.6: version `GLIBCXX_3.4.29' not found (required by /lib/x86_64-linux-gnu/libproxy.so.1)\n",
      "Failed to load module: /home/marco/snap/code/common/.cache/gio-modules/libgiolibproxy.so\n",
      "\n",
      "(process:7579): Gtk-WARNING **: 15:47:27.182: Locale not supported by C library.\n",
      "\tUsing the fallback 'C' locale.\n",
      "/home/marco/snap/code/common/.cache/gio-modules/libgiolibproxy.so: cannot open shared object file: Permission denied\n",
      "Failed to load module: /home/marco/snap/code/common/.cache/gio-modules/libgiolibproxy.so\n",
      "\n",
      "(evince:7579): Gtk-WARNING **: 15:47:27.231: Theme parsing error: gtk-keys.css:1:0: Failed to import: Error opening file /snap/code/159/usr/share/themes/Default/gtk-3.0/gtk-keys.css: Permission denied\n",
      "Gtk-Message: 15:47:27.231: Failed to load module \"canberra-gtk-module\"\n",
      "Gtk-Message: 15:47:27.232: Failed to load module \"canberra-gtk-module\"\n",
      "/home/marco/snap/code/common/.cache/gio-modules/libdconfsettings.so: cannot open shared object file: Permission denied\n",
      "Failed to load module: /home/marco/snap/code/common/.cache/gio-modules/libdconfsettings.so\n",
      "\n",
      "(evince:7579): Gtk-WARNING **: 15:47:27.428: Could not load a pixbuf from icon theme.\n",
      "This may indicate that pixbuf loaders or the mime database could not be found.\n"
     ]
    }
   ],
   "source": [
    "# mapa conceptual para cada clase  \n",
    "from graphviz import Digraph\n",
    "\n",
    "# Crear un nuevo grafo dirigido\n",
    "dot = Digraph()\n",
    "\n",
    "# Añadir nodos y relaciones al grafo\n",
    "main_concept = 'Derivada de una función'\n",
    "dot.node('A', main_concept)\n",
    "dot.node('B', 'Tasa de variación de una función')\n",
    "dot.node('C', 'Pendiente de una recta')\n",
    "dot.node('D', 'Velocidad de cambio de una función')\n",
    "dot.node('E', 'Razón de cambio de una función')\n",
    "dot.node('F', 'Velocidad promedio')\n",
    "dot.node('G', 'Velocidad Instantánea')\n",
    "dot.node('H', 'Derivada de una función en un punto')\n",
    "dot.edges(['AB', 'AC', 'AD', 'AE'])\n",
    "dot.edges(['HG', 'FG'])\n",
    "\n",
    "# Guardar el grafo como un archivo de imagen\n",
    "dot.render(filename=main_concept, format='png', cleanup=True, \\\n",
    "           directory='/home/marco/Documentos/docencia/calculo/images/3_derivada/1_la_nocion_de_derivada')\n",
    "dot.view()\n"
   ]
  },
  {
   "cell_type": "markdown",
   "id": "605c7d3a",
   "metadata": {},
   "source": [
    "# La velocidad de cambio de una recta o función lineal"
   ]
  },
  {
   "cell_type": "code",
   "execution_count": 4,
   "id": "954ab39a",
   "metadata": {},
   "outputs": [
    {
     "data": {
      "text/html": [
       "<div>\n",
       "<style scoped>\n",
       "    .dataframe tbody tr th:only-of-type {\n",
       "        vertical-align: middle;\n",
       "    }\n",
       "\n",
       "    .dataframe tbody tr th {\n",
       "        vertical-align: top;\n",
       "    }\n",
       "\n",
       "    .dataframe thead th {\n",
       "        text-align: right;\n",
       "    }\n",
       "</style>\n",
       "<table border=\"1\" class=\"dataframe\">\n",
       "  <thead>\n",
       "    <tr style=\"text-align: right;\">\n",
       "      <th></th>\n",
       "      <th>tiempo</th>\n",
       "      <th>Temperatura (grado celsius)</th>\n",
       "    </tr>\n",
       "  </thead>\n",
       "  <tbody>\n",
       "    <tr>\n",
       "      <th>0</th>\n",
       "      <td>8:00 AM</td>\n",
       "      <td>24</td>\n",
       "    </tr>\n",
       "    <tr>\n",
       "      <th>1</th>\n",
       "      <td>9:00 AM</td>\n",
       "      <td>26</td>\n",
       "    </tr>\n",
       "    <tr>\n",
       "      <th>2</th>\n",
       "      <td>10:00 AM</td>\n",
       "      <td>28</td>\n",
       "    </tr>\n",
       "    <tr>\n",
       "      <th>3</th>\n",
       "      <td>11:00 AM</td>\n",
       "      <td>30</td>\n",
       "    </tr>\n",
       "    <tr>\n",
       "      <th>4</th>\n",
       "      <td>12:00 M</td>\n",
       "      <td>32</td>\n",
       "    </tr>\n",
       "    <tr>\n",
       "      <th>5</th>\n",
       "      <td>13:00 PM</td>\n",
       "      <td>34</td>\n",
       "    </tr>\n",
       "    <tr>\n",
       "      <th>6</th>\n",
       "      <td>14:00 PM</td>\n",
       "      <td>36</td>\n",
       "    </tr>\n",
       "  </tbody>\n",
       "</table>\n",
       "</div>"
      ],
      "text/plain": [
       "     tiempo  Temperatura (grado celsius)\n",
       "0   8:00 AM                           24\n",
       "1   9:00 AM                           26\n",
       "2  10:00 AM                           28\n",
       "3  11:00 AM                           30\n",
       "4   12:00 M                           32\n",
       "5  13:00 PM                           34\n",
       "6  14:00 PM                           36"
      ]
     },
     "execution_count": 4,
     "metadata": {},
     "output_type": "execute_result"
    }
   ],
   "source": [
    "import numpy as np  # Crear vectores de datos hipotéticos \n",
    "import pandas as pd \n",
    "import matplotlib.pyplot as plt \n",
    "\n",
    "Hora = np.array(['8:00 AM', '9:00 AM', '10:00 AM', '11:00 AM', '12:00 M', '13:00 PM', '14:00 PM' ])\n",
    "Temperatura_caucasia = np.array([24, 26, 28, 30, 32, 34, 36 ])\n",
    "\n",
    "dicccionario = {'tiempo': Hora, 'Temperatura (grado celsius)': Temperatura_caucasia}\n",
    "\n",
    "tabla = pd.DataFrame(dicccionario)\n",
    "tabla \n"
   ]
  },
  {
   "cell_type": "markdown",
   "id": "2560f384",
   "metadata": {},
   "source": [
    "La variación de la temperaura por cada unidad de tiempo es de 2 grados celsius. \n",
    "* Esta es la **tasa de variación** de la temperatura en Caucasia\n",
    "* Esta es la **razón de cambio** de la temperatura en Caucasia\n",
    "* Esta variación es **la pendiente** de la recta o función lineal \n",
    "* Esta es **la derivada** de la temperatura en Caucasia. "
   ]
  },
  {
   "cell_type": "code",
   "execution_count": 7,
   "id": "b79166cb",
   "metadata": {},
   "outputs": [
    {
     "data": {
      "text/plain": [
       "Text(0, 0.5, 'Temperatura en grados Celsius')"
      ]
     },
     "execution_count": 7,
     "metadata": {},
     "output_type": "execute_result"
    },
    {
     "data": {
      "image/png": "[encoded data removed]",
      "text/plain": [
       "<Figure size 1000x800 with 1 Axes>"
      ]
     },
     "metadata": {},
     "output_type": "display_data"
    }
   ],
   "source": [
    "# formar_el triangulito de la pendiente  \n",
    "import matplotlib.pyplot as plt \n",
    "\n",
    "plt.figure(figsize=(10, 8))\n",
    "\n",
    "plt.plot(Hora, Temperatura_caucasia)\n",
    "plt.grid(alpha = 0.4)\n",
    "punto1 = ['11:00 AM', 30]\n",
    "punto2 = ['12:00 M', 30]\n",
    "punto3 = ['12:00 M', 32] \n",
    "x_coords, y_coords = zip(punto1, punto2, punto3)  \n",
    "plt.plot(x_coords, y_coords, color = 'red') \n",
    "plt.title('Temperatura en caucasia')\n",
    "plt.xlabel('Tiempo en horas')\n",
    "plt.ylabel('Temperatura en grados Celsius') \n",
    "\n",
    "# Las funciones de variación constante son las rectas o funciones lineales. "
   ]
  },
  {
   "cell_type": "markdown",
   "id": "90dae6cf",
   "metadata": {},
   "source": [
    "# Conclusiones o interpretaciones del gráfico  \n",
    "\n",
    "* Las funciones de variación constante son las funciones lineales \n",
    "\n",
    "* La derivada de una recta es su pendiente y esta pendiente es una razón de cambio:\n",
    "\n",
    "$$ m = \\frac{y_{2} - y_{1}}{x_{2} - x_{1}}  = \\text{la pendiente es una razón o división de cambio o restas}$$"
   ]
  },
  {
   "cell_type": "markdown",
   "id": "715c45d4",
   "metadata": {},
   "source": [
    "# Ejemplo de problema a resolver en la evaluación oral  \n",
    "\n",
    "Orientaremos esta situación problemática hacia la construcción del concepto de derivada en un punto o velocudad de cambio en un punto o velocidad instantánea en un punto. \n",
    "\n",
    "11. La ganancia total (acumulada) para un negocio de computadoras después de $t$ en años está dada por la función $G(t) = 10500t^{2}$ dólares.  \n",
    "\n",
    "a) ¿Cuál fue la ganancia durante el tercer año (entre $t = 2$ y $t = 3$)?\n",
    "\n",
    "Note que la ganancia por año, cambia en cada año, para esta función de ganancia acumulada.  \n",
    "\n",
    "b) ¿Cuál fue su tasa promedio de ganancia durante la primera mitad del tercer año, entre $t = 2$ y $t = 2.5$?  \n",
    "\n",
    "c)\n",
    "\n",
    "d) ¿Cuál es la tasa instantánea de ganancia en $t = 2$?\n",
    "\n",
    "Página 352 de Lina Grajales: Matemáticas I para ciencias económicas. "
   ]
  },
  {
   "cell_type": "markdown",
   "id": "e6e70afa",
   "metadata": {},
   "source": [
    "## Metodología de solución:  \n",
    "a)\n",
    "   1. Calcule la variación en la ganancia acumulada e interprete esa variación. \n",
    "      $$ \\text{variación de la ganacia acumulada} = \\text{ganancia acumulada final} - \\text{ganacia acumulada inicial} $$\n",
    "   2. calcule la variación en el tiempo.\n",
    "   3. compare esta variaciones dividiendo. \n",
    "       $$ \\text{Ganancia por año durante el tercer año} = \\frac{G(3) - G(2)}{3 - 2} $$ \n"
   ]
  },
  {
   "cell_type": "code",
   "execution_count": 27,
   "id": "1b937523",
   "metadata": {},
   "outputs": [],
   "source": [
    "def G(t):\n",
    "    return 10_500*t**2"
   ]
  },
  {
   "cell_type": "code",
   "execution_count": 9,
   "id": "12652fcd",
   "metadata": {},
   "outputs": [
    {
     "data": {
      "text/plain": [
       "52500.0"
      ]
     },
     "execution_count": 9,
     "metadata": {},
     "output_type": "execute_result"
    }
   ],
   "source": [
    "(G(3) - G(2))/(3-2) # ganancia por año promedio en $t = 2$"
   ]
  },
  {
   "cell_type": "markdown",
   "id": "5fd7d52e",
   "metadata": {},
   "source": []
  },
  {
   "cell_type": "markdown",
   "id": "81cc977e",
   "metadata": {},
   "source": [
    "## Conclusión: \n",
    "\n",
    "* La ganancia percibida en el tercer año fue de 52500 dólores. \n",
    "* La ganancia promedio en un año es de 52500 dólares. "
   ]
  },
  {
   "cell_type": "code",
   "execution_count": 12,
   "id": "faea4751",
   "metadata": {},
   "outputs": [
    {
     "data": {
      "text/plain": [
       "47250.0"
      ]
     },
     "execution_count": 12,
     "metadata": {},
     "output_type": "execute_result"
    }
   ],
   "source": [
    "(G(2.5) - G(2))/(2.5-2) # ganancia por año promedio en t = 2"
   ]
  },
  {
   "cell_type": "markdown",
   "id": "4fcf1a47",
   "metadata": {},
   "source": [
    "* La ganancia promedio por año es de 47250 dólares, pero, esta estimada a lo largo de un semestre"
   ]
  },
  {
   "cell_type": "code",
   "execution_count": 11,
   "id": "cbd1d311",
   "metadata": {},
   "outputs": [
    {
     "data": {
      "text/plain": [
       "42874.999999999985"
      ]
     },
     "execution_count": 11,
     "metadata": {},
     "output_type": "execute_result"
    }
   ],
   "source": [
    "(G(2 + 1/12) - G(2))/(2 + 1/12 - 2) # ganancia por año promedio"
   ]
  },
  {
   "cell_type": "markdown",
   "id": "1ac0a9da",
   "metadata": {},
   "source": [
    "* La ganancia promedio por año es de 42874 dólares, pero, esta estimada a lo largo de un mes. "
   ]
  },
  {
   "cell_type": "code",
   "execution_count": 13,
   "id": "4e705b3c",
   "metadata": {},
   "outputs": [
    {
     "data": {
      "text/plain": [
       "42028.76712328751"
      ]
     },
     "execution_count": 13,
     "metadata": {},
     "output_type": "execute_result"
    }
   ],
   "source": [
    "(G(2 + 1/365) - G(2))/(2 + 1/365 - 2) # ganancia por año promedio por año en $t = 2$ peroo estimada a lo largo de un día"
   ]
  },
  {
   "cell_type": "markdown",
   "id": "f89cd4ed",
   "metadata": {},
   "source": [
    "* La ganancia promedio por año es de 42028 dólares, pero, esta estimada a lo largo de un día. "
   ]
  },
  {
   "cell_type": "code",
   "execution_count": 14,
   "id": "464179bc",
   "metadata": {},
   "outputs": [
    {
     "data": {
      "text/plain": [
       "42001.19863014622"
      ]
     },
     "execution_count": 14,
     "metadata": {},
     "output_type": "execute_result"
    }
   ],
   "source": [
    "(G(2 + 1/(365*24)) - G(2))/(2 + 1/(365*24) - 2) # ganancia por año promedio en $t = 2$ pero estimada a lo largo de una hora"
   ]
  },
  {
   "cell_type": "markdown",
   "id": "3b69dfb9",
   "metadata": {},
   "source": [
    "* La ganancia instantánea por año en $t = 2$ es de 42000 dólares. "
   ]
  },
  {
   "cell_type": "code",
   "execution_count": 32,
   "id": "5e0744b8",
   "metadata": {},
   "outputs": [
    {
     "data": {
      "text/html": [
       "<div>\n",
       "<style scoped>\n",
       "    .dataframe tbody tr th:only-of-type {\n",
       "        vertical-align: middle;\n",
       "    }\n",
       "\n",
       "    .dataframe tbody tr th {\n",
       "        vertical-align: top;\n",
       "    }\n",
       "\n",
       "    .dataframe thead th {\n",
       "        text-align: right;\n",
       "    }\n",
       "</style>\n",
       "<table border=\"1\" class=\"dataframe\">\n",
       "  <thead>\n",
       "    <tr style=\"text-align: right;\">\n",
       "      <th></th>\n",
       "      <th>t</th>\n",
       "      <th>Ganancia Acumulada</th>\n",
       "      <th>Ganancias por año promedio</th>\n",
       "    </tr>\n",
       "  </thead>\n",
       "  <tbody>\n",
       "    <tr>\n",
       "      <th>0</th>\n",
       "      <td>3.000000</td>\n",
       "      <td>94500.000000</td>\n",
       "      <td>52500.000000</td>\n",
       "    </tr>\n",
       "    <tr>\n",
       "      <th>1</th>\n",
       "      <td>2.500000</td>\n",
       "      <td>65625.000000</td>\n",
       "      <td>47250.000000</td>\n",
       "    </tr>\n",
       "    <tr>\n",
       "      <th>2</th>\n",
       "      <td>2.083333</td>\n",
       "      <td>45572.916667</td>\n",
       "      <td>42875.000000</td>\n",
       "    </tr>\n",
       "    <tr>\n",
       "      <th>3</th>\n",
       "      <td>2.002740</td>\n",
       "      <td>42115.147307</td>\n",
       "      <td>42028.767123</td>\n",
       "    </tr>\n",
       "    <tr>\n",
       "      <th>4</th>\n",
       "      <td>2.000114</td>\n",
       "      <td>42004.794657</td>\n",
       "      <td>42001.198630</td>\n",
       "    </tr>\n",
       "  </tbody>\n",
       "</table>\n",
       "</div>"
      ],
      "text/plain": [
       "          t  Ganancia Acumulada  Ganancias por año promedio\n",
       "0  3.000000        94500.000000                52500.000000\n",
       "1  2.500000        65625.000000                47250.000000\n",
       "2  2.083333        45572.916667                42875.000000\n",
       "3  2.002740        42115.147307                42028.767123\n",
       "4  2.000114        42004.794657                42001.198630"
      ]
     },
     "execution_count": 32,
     "metadata": {},
     "output_type": "execute_result"
    }
   ],
   "source": [
    "import numpy as np \n",
    "import pandas as pd \n",
    "\n",
    "tiempos = np.array([3, 2.5, 2+1/12, 2 + 1/365, 2 + 1/(365*24)])\n",
    "ganancias_acumuladas = G(tiempos) \n",
    "ganancias_por_año = np.array([(G(t) - G(2))/(t-2) for t in tiempos])\n",
    "\n",
    "diccionario2 = {'t': tiempos, 'Ganancia Acumulada': ganancias_acumuladas, 'Ganancias por año promedio': ganancias_por_año }\n",
    "\n",
    "tabla2 = pd.DataFrame(diccionario2)\n",
    "tabla2 "
   ]
  },
  {
   "cell_type": "code",
   "execution_count": 4,
   "id": "9a649e2b",
   "metadata": {},
   "outputs": [
    {
     "data": {
      "application/vnd.jupyter.widget-view+json": {
       "model_id": "52b885830a2e465dbcdcfc34e2015b67",
       "version_major": 2,
       "version_minor": 0
      },
      "text/plain": [
       "interactive(children=(FloatSlider(value=1.0, description='h', max=1.0, min=0.01, step=0.01), Output()), _dom_c…"
      ]
     },
     "metadata": {},
     "output_type": "display_data"
    }
   ],
   "source": [
    "# Veamos la animación de la estimación de la ganancia por año en t = 2\n",
    "import numpy as np \n",
    "from ipywidgets import interact \n",
    "\n",
    "import matplotlib.pyplot as plt \n",
    "\n",
    "def G(t):\n",
    "    return 10_500*t**2\n",
    "\n",
    "def trazo_ganancia_acumulada_y_segmento_cuya_pendiente_es_la_ganancia_por_año(h = 1): \n",
    "    dominio = np.arange(0, 4, 0.1)\n",
    "    rango = G(dominio)\n",
    "    pendiente_secante = (G(2+h) - G(2))/(h)\n",
    "    plt.plot(dominio, rango) \n",
    "    # trazar el segmento secante\n",
    "    plt.plot([2,2+h], [G(2), G(2+h)], color = 'red', label = f'{pendiente_secante}') \n",
    "    plt.plot([2, 2+h], [G(2), G(2)], color = 'red')\n",
    "    plt.plot([2+h, 2+h], [G(2), G(2+h)], color = 'red')\n",
    "    plt.legend() \n",
    "    plt.grid() \n",
    "    plt.axis([1.5, 3.5, 20_000, 120_000])\n",
    "    #plt.yticks(np.arange(0, 160_000, 5_000))\n",
    "\n",
    "\n",
    "interact(trazo_ganancia_acumulada_y_segmento_cuya_pendiente_es_la_ganancia_por_año, h = (0.01, 1, 0.01))    \n",
    "\n",
    "plt.show() "
   ]
  },
  {
   "cell_type": "markdown",
   "id": "0613eaef",
   "metadata": {},
   "source": [
    "## Conclusiones derivadas de la lectura de la anterios visualización dinámica\n",
    "\n",
    "* a medida que $h$ tiende a cero, el segmento secante se va acomodando más a la curva, de tal manera que su pendiente se va acercando más a la pendiente de la curva en el punto $(2, G(2))$"
   ]
  },
  {
   "cell_type": "markdown",
   "id": "eb997450",
   "metadata": {},
   "source": [
    "# Derivada en un punto \n",
    "\n",
    "$$ f'(c) = \\lim_{x \\to c}\\frac{f(x) - f(c)}{x - c} $$"
   ]
  },
  {
   "cell_type": "markdown",
   "id": "ccfec6a4",
   "metadata": {},
   "source": [
    "# Ejemplo de aplicación\n",
    "\n"
   ]
  },
  {
   "cell_type": "markdown",
   "id": "b1bd8515",
   "metadata": {},
   "source": [
    "# Función derivada "
   ]
  },
  {
   "cell_type": "markdown",
   "id": "b5de48d8",
   "metadata": {},
   "source": [
    "Ejercicios de aplicación "
   ]
  },
  {
   "cell_type": "code",
   "execution_count": null,
   "id": "390b20d1",
   "metadata": {},
   "outputs": [],
   "source": []
  },
  {
   "cell_type": "code",
   "execution_count": null,
   "id": "6ddfe9bc",
   "metadata": {},
   "outputs": [],
   "source": []
  },
  {
   "cell_type": "code",
   "execution_count": null,
   "id": "696438ff",
   "metadata": {},
   "outputs": [],
   "source": []
  },
  {
   "cell_type": "code",
   "execution_count": null,
   "id": "97d8717e",
   "metadata": {},
   "outputs": [],
   "source": []
  },
  {
   "cell_type": "markdown",
   "id": "52d47eee",
   "metadata": {},
   "source": [
    "# Vocabulary \n",
    "\n",
    "* Speak like a CEO in meeting:  "
   ]
  },
  {
   "attachments": {},
   "cell_type": "markdown",
   "id": "1ccfb67e",
   "metadata": {
    "slideshow": {
     "slide_type": "slide"
    }
   },
   "source": [
    "# Visualizaciones tabulares y gráficas"
   ]
  },
  {
   "attachments": {},
   "cell_type": "markdown",
   "id": "0631fb05",
   "metadata": {
    "slideshow": {
     "slide_type": "slide"
    }
   },
   "source": [
    "## Visualización gráfica con plotly"
   ]
  },
  {
   "cell_type": "code",
   "execution_count": 2,
   "id": "d1bff0f9",
   "metadata": {
    "slideshow": {
     "slide_type": "slide"
    }
   },
   "outputs": [
    {
     "data": {
      "application/vnd.plotly.v1+json": {
       "config": {
        "plotlyServerURL": "https://plot.ly"
       },
       "data": [
        {
         "hovertemplate": "Abscisas=%{x}<br>Ordenadas=%{y}<extra></extra>",
         "legendgroup": "",
         "marker": {
          "color": "#636efa",
          "symbol": "circle"
         },
         "mode": "markers",
         "name": "",
         "orientation": "v",
         "showlegend": false,
         "type": "scatter",
         "x": [],
         "xaxis": "x",
         "y": [],
         "yaxis": "y"
        }
       ],
       "layout": {
        "legend": {
         "tracegroupgap": 0
        },
        "template": {
         "data": {
          "bar": [
           {
            "error_x": {
             "color": "#2a3f5f"
            },
            "error_y": {
             "color": "#2a3f5f"
            },
            "marker": {
             "line": {
              "color": "#E5ECF6",
              "width": 0.5
             },
             "pattern": {
              "fillmode": "overlay",
              "size": 10,
              "solidity": 0.2
             }
            },
            "type": "bar"
           }
          ],
          "barpolar": [
           {
            "marker": {
             "line": {
              "color": "#E5ECF6",
              "width": 0.5
             },
             "pattern": {
              "fillmode": "overlay",
              "size": 10,
              "solidity": 0.2
             }
            },
            "type": "barpolar"
           }
          ],
          "carpet": [
           {
            "aaxis": {
             "endlinecolor": "#2a3f5f",
             "gridcolor": "white",
             "linecolor": "white",
             "minorgridcolor": "white",
             "startlinecolor": "#2a3f5f"
            },
            "baxis": {
             "endlinecolor": "#2a3f5f",
             "gridcolor": "white",
             "linecolor": "white",
             "minorgridcolor": "white",
             "startlinecolor": "#2a3f5f"
            },
            "type": "carpet"
           }
          ],
          "choropleth": [
           {
            "colorbar": {
             "outlinewidth": 0,
             "ticks": ""
            },
            "type": "choropleth"
           }
          ],
          "contour": [
           {
            "colorbar": {
             "outlinewidth": 0,
             "ticks": ""
            },
            "colorscale": [
             [
              0,
              "#0d0887"
             ],
             [
              0.1111111111111111,
              "#46039f"
             ],
             [
              0.2222222222222222,
              "#7201a8"
             ],
             [
              0.3333333333333333,
              "#9c179e"
             ],
             [
              0.4444444444444444,
              "#bd3786"
             ],
             [
              0.5555555555555556,
              "#d8576b"
             ],
             [
              0.6666666666666666,
              "#ed7953"
             ],
             [
              0.7777777777777778,
              "#fb9f3a"
             ],
             [
              0.8888888888888888,
              "#fdca26"
             ],
             [
              1,
              "#f0f921"
             ]
            ],
            "type": "contour"
           }
          ],
          "contourcarpet": [
           {
            "colorbar": {
             "outlinewidth": 0,
             "ticks": ""
            },
            "type": "contourcarpet"
           }
          ],
          "heatmap": [
           {
            "colorbar": {
             "outlinewidth": 0,
             "ticks": ""
            },
            "colorscale": [
             [
              0,
              "#0d0887"
             ],
             [
              0.1111111111111111,
              "#46039f"
             ],
             [
              0.2222222222222222,
              "#7201a8"
             ],
             [
              0.3333333333333333,
              "#9c179e"
             ],
             [
              0.4444444444444444,
              "#bd3786"
             ],
             [
              0.5555555555555556,
              "#d8576b"
             ],
             [
              0.6666666666666666,
              "#ed7953"
             ],
             [
              0.7777777777777778,
              "#fb9f3a"
             ],
             [
              0.8888888888888888,
              "#fdca26"
             ],
             [
              1,
              "#f0f921"
             ]
            ],
            "type": "heatmap"
           }
          ],
          "heatmapgl": [
           {
            "colorbar": {
             "outlinewidth": 0,
             "ticks": ""
            },
            "colorscale": [
             [
              0,
              "#0d0887"
             ],
             [
              0.1111111111111111,
              "#46039f"
             ],
             [
              0.2222222222222222,
              "#7201a8"
             ],
             [
              0.3333333333333333,
              "#9c179e"
             ],
             [
              0.4444444444444444,
              "#bd3786"
             ],
             [
              0.5555555555555556,
              "#d8576b"
             ],
             [
              0.6666666666666666,
              "#ed7953"
             ],
             [
              0.7777777777777778,
              "#fb9f3a"
             ],
             [
              0.8888888888888888,
              "#fdca26"
             ],
             [
              1,
              "#f0f921"
             ]
            ],
            "type": "heatmapgl"
           }
          ],
          "histogram": [
           {
            "marker": {
             "pattern": {
              "fillmode": "overlay",
              "size": 10,
              "solidity": 0.2
             }
            },
            "type": "histogram"
           }
          ],
          "histogram2d": [
           {
            "colorbar": {
             "outlinewidth": 0,
             "ticks": ""
            },
            "colorscale": [
             [
              0,
              "#0d0887"
             ],
             [
              0.1111111111111111,
              "#46039f"
             ],
             [
              0.2222222222222222,
              "#7201a8"
             ],
             [
              0.3333333333333333,
              "#9c179e"
             ],
             [
              0.4444444444444444,
              "#bd3786"
             ],
             [
              0.5555555555555556,
              "#d8576b"
             ],
             [
              0.6666666666666666,
              "#ed7953"
             ],
             [
              0.7777777777777778,
              "#fb9f3a"
             ],
             [
              0.8888888888888888,
              "#fdca26"
             ],
             [
              1,
              "#f0f921"
             ]
            ],
            "type": "histogram2d"
           }
          ],
          "histogram2dcontour": [
           {
            "colorbar": {
             "outlinewidth": 0,
             "ticks": ""
            },
            "colorscale": [
             [
              0,
              "#0d0887"
             ],
             [
              0.1111111111111111,
              "#46039f"
             ],
             [
              0.2222222222222222,
              "#7201a8"
             ],
             [
              0.3333333333333333,
              "#9c179e"
             ],
             [
              0.4444444444444444,
              "#bd3786"
             ],
             [
              0.5555555555555556,
              "#d8576b"
             ],
             [
              0.6666666666666666,
              "#ed7953"
             ],
             [
              0.7777777777777778,
              "#fb9f3a"
             ],
             [
              0.8888888888888888,
              "#fdca26"
             ],
             [
              1,
              "#f0f921"
             ]
            ],
            "type": "histogram2dcontour"
           }
          ],
          "mesh3d": [
           {
            "colorbar": {
             "outlinewidth": 0,
             "ticks": ""
            },
            "type": "mesh3d"
           }
          ],
          "parcoords": [
           {
            "line": {
             "colorbar": {
              "outlinewidth": 0,
              "ticks": ""
             }
            },
            "type": "parcoords"
           }
          ],
          "pie": [
           {
            "automargin": true,
            "type": "pie"
           }
          ],
          "scatter": [
           {
            "fillpattern": {
             "fillmode": "overlay",
             "size": 10,
             "solidity": 0.2
            },
            "type": "scatter"
           }
          ],
          "scatter3d": [
           {
            "line": {
             "colorbar": {
              "outlinewidth": 0,
              "ticks": ""
             }
            },
            "marker": {
             "colorbar": {
              "outlinewidth": 0,
              "ticks": ""
             }
            },
            "type": "scatter3d"
           }
          ],
          "scattercarpet": [
           {
            "marker": {
             "colorbar": {
              "outlinewidth": 0,
              "ticks": ""
             }
            },
            "type": "scattercarpet"
           }
          ],
          "scattergeo": [
           {
            "marker": {
             "colorbar": {
              "outlinewidth": 0,
              "ticks": ""
             }
            },
            "type": "scattergeo"
           }
          ],
          "scattergl": [
           {
            "marker": {
             "colorbar": {
              "outlinewidth": 0,
              "ticks": ""
             }
            },
            "type": "scattergl"
           }
          ],
          "scattermapbox": [
           {
            "marker": {
             "colorbar": {
              "outlinewidth": 0,
              "ticks": ""
             }
            },
            "type": "scattermapbox"
           }
          ],
          "scatterpolar": [
           {
            "marker": {
             "colorbar": {
              "outlinewidth": 0,
              "ticks": ""
             }
            },
            "type": "scatterpolar"
           }
          ],
          "scatterpolargl": [
           {
            "marker": {
             "colorbar": {
              "outlinewidth": 0,
              "ticks": ""
             }
            },
            "type": "scatterpolargl"
           }
          ],
          "scatterternary": [
           {
            "marker": {
             "colorbar": {
              "outlinewidth": 0,
              "ticks": ""
             }
            },
            "type": "scatterternary"
           }
          ],
          "surface": [
           {
            "colorbar": {
             "outlinewidth": 0,
             "ticks": ""
            },
            "colorscale": [
             [
              0,
              "#0d0887"
             ],
             [
              0.1111111111111111,
              "#46039f"
             ],
             [
              0.2222222222222222,
              "#7201a8"
             ],
             [
              0.3333333333333333,
              "#9c179e"
             ],
             [
              0.4444444444444444,
              "#bd3786"
             ],
             [
              0.5555555555555556,
              "#d8576b"
             ],
             [
              0.6666666666666666,
              "#ed7953"
             ],
             [
              0.7777777777777778,
              "#fb9f3a"
             ],
             [
              0.8888888888888888,
              "#fdca26"
             ],
             [
              1,
              "#f0f921"
             ]
            ],
            "type": "surface"
           }
          ],
          "table": [
           {
            "cells": {
             "fill": {
              "color": "#EBF0F8"
             },
             "line": {
              "color": "white"
             }
            },
            "header": {
             "fill": {
              "color": "#C8D4E3"
             },
             "line": {
              "color": "white"
             }
            },
            "type": "table"
           }
          ]
         },
         "layout": {
          "annotationdefaults": {
           "arrowcolor": "#2a3f5f",
           "arrowhead": 0,
           "arrowwidth": 1
          },
          "autotypenumbers": "strict",
          "coloraxis": {
           "colorbar": {
            "outlinewidth": 0,
            "ticks": ""
           }
          },
          "colorscale": {
           "diverging": [
            [
             0,
             "#8e0152"
            ],
            [
             0.1,
             "#c51b7d"
            ],
            [
             0.2,
             "#de77ae"
            ],
            [
             0.3,
             "#f1b6da"
            ],
            [
             0.4,
             "#fde0ef"
            ],
            [
             0.5,
             "#f7f7f7"
            ],
            [
             0.6,
             "#e6f5d0"
            ],
            [
             0.7,
             "#b8e186"
            ],
            [
             0.8,
             "#7fbc41"
            ],
            [
             0.9,
             "#4d9221"
            ],
            [
             1,
             "#276419"
            ]
           ],
           "sequential": [
            [
             0,
             "#0d0887"
            ],
            [
             0.1111111111111111,
             "#46039f"
            ],
            [
             0.2222222222222222,
             "#7201a8"
            ],
            [
             0.3333333333333333,
             "#9c179e"
            ],
            [
             0.4444444444444444,
             "#bd3786"
            ],
            [
             0.5555555555555556,
             "#d8576b"
            ],
            [
             0.6666666666666666,
             "#ed7953"
            ],
            [
             0.7777777777777778,
             "#fb9f3a"
            ],
            [
             0.8888888888888888,
             "#fdca26"
            ],
            [
             1,
             "#f0f921"
            ]
           ],
           "sequentialminus": [
            [
             0,
             "#0d0887"
            ],
            [
             0.1111111111111111,
             "#46039f"
            ],
            [
             0.2222222222222222,
             "#7201a8"
            ],
            [
             0.3333333333333333,
             "#9c179e"
            ],
            [
             0.4444444444444444,
             "#bd3786"
            ],
            [
             0.5555555555555556,
             "#d8576b"
            ],
            [
             0.6666666666666666,
             "#ed7953"
            ],
            [
             0.7777777777777778,
             "#fb9f3a"
            ],
            [
             0.8888888888888888,
             "#fdca26"
            ],
            [
             1,
             "#f0f921"
            ]
           ]
          },
          "colorway": [
           "#636efa",
           "#EF553B",
           "#00cc96",
           "#ab63fa",
           "#FFA15A",
           "#19d3f3",
           "#FF6692",
           "#B6E880",
           "#FF97FF",
           "#FECB52"
          ],
          "font": {
           "color": "#2a3f5f"
          },
          "geo": {
           "bgcolor": "white",
           "lakecolor": "white",
           "landcolor": "#E5ECF6",
           "showlakes": true,
           "showland": true,
           "subunitcolor": "white"
          },
          "hoverlabel": {
           "align": "left"
          },
          "hovermode": "closest",
          "mapbox": {
           "style": "light"
          },
          "paper_bgcolor": "white",
          "plot_bgcolor": "#E5ECF6",
          "polar": {
           "angularaxis": {
            "gridcolor": "white",
            "linecolor": "white",
            "ticks": ""
           },
           "bgcolor": "#E5ECF6",
           "radialaxis": {
            "gridcolor": "white",
            "linecolor": "white",
            "ticks": ""
           }
          },
          "scene": {
           "xaxis": {
            "backgroundcolor": "#E5ECF6",
            "gridcolor": "white",
            "gridwidth": 2,
            "linecolor": "white",
            "showbackground": true,
            "ticks": "",
            "zerolinecolor": "white"
           },
           "yaxis": {
            "backgroundcolor": "#E5ECF6",
            "gridcolor": "white",
            "gridwidth": 2,
            "linecolor": "white",
            "showbackground": true,
            "ticks": "",
            "zerolinecolor": "white"
           },
           "zaxis": {
            "backgroundcolor": "#E5ECF6",
            "gridcolor": "white",
            "gridwidth": 2,
            "linecolor": "white",
            "showbackground": true,
            "ticks": "",
            "zerolinecolor": "white"
           }
          },
          "shapedefaults": {
           "line": {
            "color": "#2a3f5f"
           }
          },
          "ternary": {
           "aaxis": {
            "gridcolor": "white",
            "linecolor": "white",
            "ticks": ""
           },
           "baxis": {
            "gridcolor": "white",
            "linecolor": "white",
            "ticks": ""
           },
           "bgcolor": "#E5ECF6",
           "caxis": {
            "gridcolor": "white",
            "linecolor": "white",
            "ticks": ""
           }
          },
          "title": {
           "x": 0.05
          },
          "xaxis": {
           "automargin": true,
           "gridcolor": "white",
           "linecolor": "white",
           "ticks": "",
           "title": {
            "standoff": 15
           },
           "zerolinecolor": "white",
           "zerolinewidth": 2
          },
          "yaxis": {
           "automargin": true,
           "gridcolor": "white",
           "linecolor": "white",
           "ticks": "",
           "title": {
            "standoff": 15
           },
           "zerolinecolor": "white",
           "zerolinewidth": 2
          }
         }
        },
        "title": {
         "text": "Relación entre $x$ y $y$"
        },
        "xaxis": {
         "anchor": "y",
         "domain": [
          0,
          1
         ],
         "title": {
          "text": "Abscisas"
         }
        },
        "yaxis": {
         "anchor": "x",
         "domain": [
          0,
          1
         ],
         "title": {
          "text": "Ordenadas"
         }
        }
       }
      }
     },
     "metadata": {},
     "output_type": "display_data"
    }
   ],
   "source": [
    "import pandas as pd \n",
    "import plotly.express as px\n",
    "X = []\n",
    "Y = []\n",
    "tabla = pd.DataFrame({'Abscisas':X, 'Ordenadas':Y})\n",
    "\n",
    "\n",
    "#fig = px.line(tabla,x = tabla.keys()[0], y = tabla.keys()[1], title=r'Relación entre $x$ y $y$')\n",
    "\n",
    "fig = px.scatter(tabla,x = tabla.keys()[0], y = tabla.keys()[1], title=r'Relación entre $x$ y $y$')\n",
    "\n",
    "fig.show()\n",
    "\n",
    "#fig.write_html('relacion_entre_x_e_y.html', auto_open=True)"
   ]
  },
  {
   "cell_type": "code",
   "execution_count": null,
   "id": "6009af5a",
   "metadata": {
    "slideshow": {
     "slide_type": "slide"
    }
   },
   "outputs": [],
   "source": []
  },
  {
   "attachments": {},
   "cell_type": "markdown",
   "id": "740f3401",
   "metadata": {
    "slideshow": {
     "slide_type": "slide"
    }
   },
   "source": [
    "# Componente de manejo de calculadora Casio asociado al objetivo de aprendizaje de esta clase"
   ]
  },
  {
   "attachments": {},
   "cell_type": "markdown",
   "id": "8eecb2d9",
   "metadata": {
    "slideshow": {
     "slide_type": "slide"
    }
   },
   "source": [
    "* La calculadora casio 570 elabora tablas de representación de una función pero en dominios que solo sean progresiones aritméticas de diferencia o paso positiva.  \n",
    "\n"
   ]
  },
  {
   "cell_type": "code",
   "execution_count": null,
   "id": "3cd72835",
   "metadata": {
    "slideshow": {
     "slide_type": "slide"
    }
   },
   "outputs": [],
   "source": []
  },
  {
   "cell_type": "code",
   "execution_count": null,
   "id": "d8a111c4",
   "metadata": {
    "slideshow": {
     "slide_type": "slide"
    }
   },
   "outputs": [],
   "source": []
  },
  {
   "attachments": {},
   "cell_type": "markdown",
   "id": "8a6f7ef9",
   "metadata": {
    "slideshow": {
     "slide_type": "slide"
    }
   },
   "source": [
    "## Tareas para realizar antes de la clase"
   ]
  },
  {
   "attachments": {},
   "cell_type": "markdown",
   "id": "90cae469",
   "metadata": {
    "slideshow": {
     "slide_type": "slide"
    }
   },
   "source": [
    "1. Ver los videos respectivos []()\n",
    "2. Memorizar las definiciones []()\n",
    "3. Sintetizar o resumir la información en mapas conceptuales. []()\n",
    "4. Tareas para incentivar el uso de la calculadora Casio Para ingenieros y licenciados. "
   ]
  },
  {
   "attachments": {},
   "cell_type": "markdown",
   "id": "fccb447c",
   "metadata": {
    "slideshow": {
     "slide_type": "slide"
    }
   },
   "source": [
    "# Tareas para realizar en clase"
   ]
  },
  {
   "attachments": {},
   "cell_type": "markdown",
   "id": "e5c48edf",
   "metadata": {
    "slideshow": {
     "slide_type": "slide"
    }
   },
   "source": [
    "* Modelación matemática \n",
    "* Trabajo en equipos"
   ]
  },
  {
   "attachments": {},
   "cell_type": "markdown",
   "id": "8b6b0112",
   "metadata": {
    "slideshow": {
     "slide_type": "slide"
    }
   },
   "source": [
    "# Tareas para realizar después de la realización de la clase"
   ]
  },
  {
   "attachments": {},
   "cell_type": "markdown",
   "id": "947460e3",
   "metadata": {
    "slideshow": {
     "slide_type": "slide"
    }
   },
   "source": [
    "* Actividades de memorización: \n",
    "  - escucha reiterada de grabaciones de formulas y resultados científicos. \n",
    "  - relectura de notas. \n",
    "  - ejercicios de mayor complejidad.\n",
    "\n",
    "\n",
    "### No olvide asignar las tareas a los estudiantes a través de Google Colab y compartiendole el cuaderno de asignación a su correo institucional con fecha de entrega. [Google Colab](https://colab.research.google.com/?hl=es)   \n",
    "  "
   ]
  },
  {
   "attachments": {},
   "cell_type": "markdown",
   "id": "d34defb9",
   "metadata": {
    "slideshow": {
     "slide_type": "slide"
    }
   },
   "source": [
    "## Asignación individual de tareas semanales "
   ]
  },
  {
   "attachments": {},
   "cell_type": "markdown",
   "id": "0406f442",
   "metadata": {
    "slideshow": {
     "slide_type": "slide"
    }
   },
   "source": []
  },
  {
   "attachments": {},
   "cell_type": "markdown",
   "id": "ae114e14",
   "metadata": {
    "slideshow": {
     "slide_type": "slide"
    }
   },
   "source": [
    "# Horarios de monitoría y asesoría"
   ]
  },
  {
   "attachments": {},
   "cell_type": "markdown",
   "id": "b1db4b6c",
   "metadata": {
    "slideshow": {
     "slide_type": "slide"
    }
   },
   "source": [
    "## Monitor Manuel"
   ]
  },
  {
   "attachments": {},
   "cell_type": "markdown",
   "id": "39559692",
   "metadata": {
    "slideshow": {
     "slide_type": "slide"
    }
   },
   "source": [
    "Martes y jueves de 8 - 12  \n",
    "Miércoles 10 - 12 y de 2 a 4 PM  \n",
    "Sábado: 8 - 12"
   ]
  },
  {
   "attachments": {},
   "cell_type": "markdown",
   "id": "4537ef79",
   "metadata": {
    "slideshow": {
     "slide_type": "slide"
    }
   },
   "source": [
    "## Monitor Giovanny Reales"
   ]
  },
  {
   "attachments": {},
   "cell_type": "markdown",
   "id": "a54d2914",
   "metadata": {
    "slideshow": {
     "slide_type": "slide"
    }
   },
   "source": [
    "* Lunes a viernes de 6pm a 8pm\n",
    "* Miércoles de 1 pm a 8pm"
   ]
  },
  {
   "attachments": {},
   "cell_type": "markdown",
   "id": "935a5567",
   "metadata": {
    "slideshow": {
     "slide_type": "slide"
    }
   },
   "source": [
    "## Dificultades de aprendizaje detectados durante la clase"
   ]
  },
  {
   "attachments": {},
   "cell_type": "markdown",
   "id": "3bd7500d",
   "metadata": {
    "slideshow": {
     "slide_type": "slide"
    }
   },
   "source": []
  },
  {
   "attachments": {},
   "cell_type": "markdown",
   "id": "fb9402bb",
   "metadata": {
    "slideshow": {
     "slide_type": "slide"
    }
   },
   "source": [
    "## Estrategias propuestas para la solución de las dificultades de aprendizaje detectadas"
   ]
  },
  {
   "attachments": {},
   "cell_type": "markdown",
   "id": "d437294b",
   "metadata": {
    "slideshow": {
     "slide_type": "slide"
    }
   },
   "source": []
  },
  {
   "attachments": {},
   "cell_type": "markdown",
   "id": "d11570a2",
   "metadata": {
    "slideshow": {
     "slide_type": "slide"
    }
   },
   "source": []
  },
  {
   "attachments": {},
   "cell_type": "markdown",
   "id": "236b43fc",
   "metadata": {
    "slideshow": {
     "slide_type": "slide"
    }
   },
   "source": [
    "## Grabaciones en audio para fomentar la capacidad de memorizar enunciados de teoremas y resultados científicos y la capacidad de parafrasear estos resultados. Y así desarrollar memoria muscular para los comandos comunes. "
   ]
  },
  {
   "attachments": {},
   "cell_type": "markdown",
   "id": "564fa59d",
   "metadata": {
    "slideshow": {
     "slide_type": "slide"
    }
   },
   "source": [
    "### Comparta sus cuadernos y videos, evidencias de su aprendizaje [aquí](https://forms.office.com/Pages/ResponsePage.aspx?id=IefhmYRxjkmK_7KtTlPBwkanXIs1i1FEujpsZgO6dXpUMEMwTEZVMzEwVVBPTElWNVg5OVEyWUhMUy4u)"
   ]
  },
  {
   "attachments": {},
   "cell_type": "markdown",
   "id": "1a1a3e41",
   "metadata": {
    "slideshow": {
     "slide_type": "slide"
    }
   },
   "source": []
  },
  {
   "attachments": {},
   "cell_type": "markdown",
   "id": "ee46cb9a",
   "metadata": {
    "slideshow": {
     "slide_type": "slide"
    }
   },
   "source": [
    "## Mapa conceptual que vincula los conceptos asoaciados al objetivo de aprendizaje"
   ]
  },
  {
   "attachments": {},
   "cell_type": "markdown",
   "id": "a6b7a17d",
   "metadata": {
    "slideshow": {
     "slide_type": "slide"
    }
   },
   "source": []
  },
  {
   "attachments": {},
   "cell_type": "markdown",
   "id": "10bce0d0",
   "metadata": {
    "slideshow": {
     "slide_type": "slide"
    }
   },
   "source": [
    "## Referentes \n",
    "\n",
    "[Hoja de vida de Lina Grajales](https://www.udea.edu.co/wps/wcm/connect/udea/580802a4-85e7-4de1-b6f1-783336f49589/Perfil+-+Lina+Maria+Grajales.pdf?MOD=AJPERES&CVID=nntzxTq)"
   ]
  },
  {
   "attachments": {},
   "cell_type": "markdown",
   "id": "1db3c468",
   "metadata": {
    "slideshow": {
     "slide_type": "slide"
    }
   },
   "source": [
    "* [stewart precálculo](https://udeaeduco-my.sharepoint.com/:b:/g/personal/marco_canas_udea_edu_co/ERHIq62I6qFNrmxy6LZb8ZMBci7kUsyNME1nIh9yCBMJ_w?e=0zMSla)  \n",
    "\n",
    "* [stewart cálculo](https://udeaeduco-my.sharepoint.com/:b:/g/personal/marco_canas_udea_edu_co/EZgXZjAp8QxPqOAim2hs6LcBNPLGjSHf-xwYnUVYkwa04w?e=RZdTCy)  \n",
    "\n",
    "* [larson](https://udeaeduco-my.sharepoint.com/:b:/g/personal/marco_canas_udea_edu_co/ES71ChFeO9ZDhW3TwC5Ijk8BjxUK3Pdqz_fjHxTTFAfIAg?e=VDEjfu)\n",
    "\n",
    "* [uzcategui](https://udeaeduco-my.sharepoint.com/:b:/g/personal/marco_canas_udea_edu_co/ETDikm-lVl1Or8XoEo9oyh0BEti9Zs8le-f0D-dBdtZmbA?e=bBsoyQ)\n",
    "\n",
    "* [Cálculo de Purcell](https://udeaeduco-my.sharepoint.com/:b:/g/personal/marco_canas_udea_edu_co/ES60UB4h-QFFqqRQUFmkpWcBIgoLBJeqTfZjNajWNWSeJA?e=9NxjKJ)\n",
    "\n",
    "* [Recomendación de la UNESCO sobre ciencia abierta](https://unesdoc.unesco.org/ark:/48223/pf0000379949_spa)\n",
    "\n",
    "* [Geron, Aurelien. Hands on Machine Learning](https://udeaeduco-my.sharepoint.com/:b:/g/personal/marco_canas_udea_edu_co/Ecet27yjQzZIlT1Y_Bc2erkBUhbeYuIe6HG8i1FYZRlZww?e=gaOjqk)\n",
    "\n",
    "* [McKinney, West. Python for data Analysis.](https://udeaeduco-my.sharepoint.com/:b:/g/personal/marco_canas_udea_edu_co/EVbi5JIeBl9ErbiUnZfGe8YBhNTnZ8sxTK5hjIOPK4UpGw?e=tfkShe)\n",
    "\n",
    "* [ChatGPT](https://openai.com/blog/chatgpt/) \n",
    "\n",
    "* [Fórmulas más comunes en latex](https://wiki.geogebra.org/es/C%C3%B3digo_LaTeX_para_las_f%C3%B3rmulas_m%C3%A1s_comunes) "
   ]
  },
  {
   "attachments": {},
   "cell_type": "markdown",
   "id": "6b9e56a8",
   "metadata": {
    "slideshow": {
     "slide_type": "slide"
    }
   },
   "source": [
    "### [Evaluamos al profesor Marco Cañas Aquí](https://forms.office.com/Pages/ResponsePage.aspx?id=IefhmYRxjkmK_7KtTlPBwkanXIs1i1FEujpsZgO6dXpUREJPV1kxUk1JV1ozTFJIQVNIQjY5WEY3US4u)"
   ]
  },
  {
   "attachments": {},
   "cell_type": "markdown",
   "id": "071afa04",
   "metadata": {
    "slideshow": {
     "slide_type": "slide"
    }
   },
   "source": [
    "## [Evaluación luego de alcanzar estos objetivos de aprendizaje]()"
   ]
  },
  {
   "attachments": {},
   "cell_type": "markdown",
   "id": "10f43536",
   "metadata": {
    "slideshow": {
     "slide_type": "slide"
    }
   },
   "source": [
    "### Continue su aprendizaje en la siguiente clase a través del siguiente [vínculo]()"
   ]
  },
  {
   "attachments": {},
   "cell_type": "markdown",
   "id": "af751e30",
   "metadata": {
    "slideshow": {
     "slide_type": "slide"
    }
   },
   "source": [
    "# Conjeturas pedagógicas fruto de la aplicación del modelo de aprendizaje invertido y del enfoque hacia la ciencia de datos con python\n",
    "\n",
    "1. Todo cálculo o resultado debe ser interpretado en una línea markdown del cuaderno Jupyter, inmediatamente después de la enunciación del resultado y después de la presentación de una tabla o gráfico bidimensional, de tal menera que el estudiante explicite la comprensión verbal del resultado y las inferencias o estrategias que este resultado le sugieren.  \n",
    "\n",
    "2. Debo colocar las conjeturas pedagógicas, que el uso en el aula de [ChatGPT](https://openai.com/blog/chatgpt/) traiga para la enseñanza y el aprendizaje de las matemáticas. \n",
    "\n",
    "3. Promover ciencia abierta en clase de matemáticas puede ser pidiendo a los estudiantes, tomar nota en clase pero en cuadernos Jupyter y entregar siempre al final de cada clase su cuaderno con todas las notas y experimentaciones de clase replicadas. "
   ]
  },
  {
   "attachments": {},
   "cell_type": "markdown",
   "id": "53cc9115",
   "metadata": {
    "slideshow": {
     "slide_type": "slide"
    }
   },
   "source": [
    "## Agradecimientos  \n",
    "\n",
    "Doy gracias a Dios por la vida de mi Hijo Joseph Cañas Osorio y la madurez que ha alcanzado.\n",
    "\n",
    "Y a mi esposa Yasmira por su apoyo, orientación y acompañamiento. "
   ]
  }
 ],
 "metadata": {
  "celltoolbar": "Slideshow",
  "kernelspec": {
   "display_name": "Python 3 (ipykernel)",
   "language": "python",
   "name": "python3"
  },
  "language_info": {
   "codemirror_mode": {
    "name": "ipython",
    "version": 3
   },
   "file_extension": ".py",
   "mimetype": "text/x-python",
   "name": "python",
   "nbconvert_exporter": "python",
   "pygments_lexer": "ipython3",
   "version": "3.10.12"
  },
  "rise": {
   "enable_chalkboard": true,
   "theme": "sky",
   "transition": "zoom"
  }
 },
 "nbformat": 4,
 "nbformat_minor": 5
}
