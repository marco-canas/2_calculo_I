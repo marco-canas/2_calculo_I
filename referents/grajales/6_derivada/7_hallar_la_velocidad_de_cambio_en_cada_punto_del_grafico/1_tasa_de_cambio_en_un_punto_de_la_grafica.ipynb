{
 "cells": [
  {
   "cell_type": "markdown",
   "id": "dc06dec7",
   "metadata": {
    "slideshow": {
     "slide_type": "slide"
    }
   },
   "source": [
    "<table align=\"left\">\n",
    "  <td>\n",
    "    <a href=\"https://colab.research.google.com/github/marco-canas/calculo/blob/main/referents/grajales/6_derivada/7_hallar_la_velocidad_de_cambio_en_cada_punto_del_grafico/1_velocidad_de_cambio_en_un_punto_de_la_grafica.ipynb\" target=\"_parent\"><img src=\"https://colab.research.google.com/assets/colab-badge.svg\" alt=\"Open In Colab\"/></a>\n",
    "  </td>\n",
    "  <td>\n",
    "    <a target=\"_blank\" href=\"https://kaggle.com/kernels/welcome?src=https://github.com/marco-canas/calculo/blob/main/referents/grajales/6_derivada/7_hallar_la_velocidad_de_cambio_en_cada_punto_del_grafico/1_velocidad_de_cambio_en_un_punto_de_la_grafica.ipynb\"><img src=\"https://kaggle.com/static/images/open-in-kaggle.svg\" /></a>\n",
    "  </td>\n",
    "</table>"
   ]
  },
  {
   "cell_type": "markdown",
   "id": "e0c5b198",
   "metadata": {
    "slideshow": {
     "slide_type": "slide"
    }
   },
   "source": [
    "### [Video de apoyo a la lectura interactiva y experimental de este cuaderno](https://www.youtube.com/watch?v=6KTN959kDpA)"
   ]
  },
  {
   "cell_type": "markdown",
   "id": "41e82203",
   "metadata": {
    "slideshow": {
     "slide_type": "slide"
    }
   },
   "source": [
    "## [Vínculo al programa del curso de matemáticas 1:  ](https://github.com/marco-canas/calculo/blob/main/plan%20del%20curso_matematicas_I_administracion_empresas.docx)\n",
    "\n"
   ]
  },
  {
   "cell_type": "markdown",
   "id": "d11ab06d",
   "metadata": {
    "slideshow": {
     "slide_type": "slide"
    }
   },
   "source": [
    "Un reconocimiento a mis estudiantes que han construido conmigo este saber pedagógico:\n",
    "\n",
    "<img src = 'https://github.com/marco-canas/calculo/blob/main/images/student_images/4_administracion_de_empresas/administracion_de_empresas_2024-05.jpeg?raw=true'> \n",
    "\n"
   ]
  },
  {
   "cell_type": "markdown",
   "id": "ae9860dc",
   "metadata": {},
   "source": [
    "# Cómo mejorar cada día la propuesta didáctica y pedagógica para enseñanza de la matemática\n"
   ]
  },
  {
   "cell_type": "markdown",
   "id": "1014ce5d",
   "metadata": {},
   "source": [
    "\n",
    "Para estructurar una propuesta pedagógica y didáctica centrada en mostrar la matemática como un lenguaje que ayuda a la comunicación científica y cotidiana, e integrar la enseñanza del inglés, el lenguaje Markdown, el lenguaje Python en los cuadernos Jupyter, y adoptar un enfoque pedagógico de aula invertida y una metodología de clase basada en problemas (ABP), puedes seguir los siguientes pasos:\n"
   ]
  },
  {
   "cell_type": "markdown",
   "id": "19b90db0",
   "metadata": {},
   "source": [
    "\n",
    "1. **Diagnóstico de necesidades:**\n",
    "   - Realiza un análisis detallado de las necesidades y habilidades de los estudiantes en matemáticas, inglés y tecnología.\n",
    "   - Identifica las áreas de dificultad y las áreas en las que los estudiantes muestran interés.\n"
   ]
  },
  {
   "cell_type": "markdown",
   "id": "4a85e2ae",
   "metadata": {},
   "source": [
    "\n",
    "2. **Definición de objetivos:**\n",
    "   - Establece objetivos claros y alcanzables que integren el aprendizaje de matemáticas, inglés y tecnología.\n",
    "   - Los objetivos deben centrarse en mejorar la comprensión de conceptos matemáticos, desarrollar habilidades en inglés y fomentar la competencia en el uso de herramientas tecnológicas.\n"
   ]
  },
  {
   "cell_type": "markdown",
   "id": "c1174613",
   "metadata": {},
   "source": [
    "\n",
    "3. **Diseño de actividades y recursos:**\n",
    "   - Diseña actividades interactivas y colaborativas que permitan a los estudiantes explorar conceptos matemáticos a través del uso de cuadernos Jupyter, Python y Markdown.\n",
    "   - Incorpora lecturas y ejercicios en inglés relacionados con conceptos matemáticos para fortalecer el vocabulario y la comprensión del idioma.\n",
    "   - Utiliza recursos multimedia, como videos y tutoriales en línea, para apoyar el aprendizaje autónomo de los estudiantes.\n"
   ]
  },
  {
   "cell_type": "markdown",
   "id": "2bff1531",
   "metadata": {},
   "source": [
    "\n",
    "4. **Implementación del enfoque pedagógico de aula invertida:**\n",
    "   - Proporciona a los estudiantes acceso a materiales de aprendizaje antes de la clase, como cuadernos Jupyter con ejercicios y lecturas en inglés.\n",
    "   - Utiliza el tiempo en clase para actividades prácticas y colaborativas, donde los estudiantes puedan aplicar los conceptos aprendidos, resolver problemas y discutir en grupos.\n"
   ]
  },
  {
   "cell_type": "markdown",
   "id": "b869fe32",
   "metadata": {},
   "source": [
    "\n",
    "5. **Metodología de clase basada en problemas (ABP):**\n",
    "   - Plantea problemas y desafíos relacionados con situaciones reales que requieran el uso de conceptos matemáticos, el inglés y la tecnología para su solución.\n",
    "   - Fomenta la participación activa de los estudiantes en la resolución de problemas, la discusión de estrategias y la presentación de soluciones.\n",
    "\n",
    "6. **Evaluación y retroalimentación:**\n",
    "   - Implementa un sistema de evaluación formativa que permita monitorear el progreso de los estudiantes de manera continua.\n",
    "   - Proporciona retroalimentación individualizada y oportunidades para la reflexión sobre el aprendizaje y el desarrollo de habilidades.\n"
   ]
  },
  {
   "cell_type": "markdown",
   "id": "2ebadf37",
   "metadata": {},
   "source": [
    "\n",
    "7. **Mejora continua:**\n",
    "   - Recopila retroalimentación de los estudiantes y realiza ajustes en el plan de enseñanza según sea necesario.\n",
    "   - Mantente al tanto de las nuevas tendencias y herramientas en matemáticas, tecnología y enseñanza de idiomas para seguir mejorando la propuesta pedagógica y didáctica.\n",
    "\n",
    "Al seguir estos pasos, podrás estructurar una propuesta pedagógica y didáctica efectiva que integre la enseñanza de matemáticas, inglés y tecnología, y promueva el aprendizaje significativo y el desarrollo de habilidades clave en los estudiantes de la licenciatura en matemáticas."
   ]
  },
  {
   "cell_type": "code",
   "execution_count": 3,
   "id": "7604880f",
   "metadata": {
    "slideshow": {
     "slide_type": "slide"
    }
   },
   "outputs": [],
   "source": [
    "# Llamar a lista o tomar asistencia con python \n",
    "\n",
    "import pandas as pd # convertir la lista de estudiantes en un dataframe\n",
    "import numpy as np # elección aleatoria\n",
    "\n",
    "# Cargar la lista de estudiantes desde la URL\n",
    "url = 'https://raw.githubusercontent.com/marco-canas/groups_list/main/math1.csv'\n",
    "estudiantes = pd.read_csv(url) # convierte el csv en una dataframe\n",
    "\n",
    "# Convertir la columna 'Nombre' a una lista de Python\n",
    "lista_estudiantes = estudiantes['Nombre'].tolist()\n",
    "\n",
    "# Función para llamar a un estudiante aleatoriamente y registrar su nota de seguimiento\n",
    "def llamar_estudiante():\n",
    "    if lista_estudiantes:\n",
    "        estudiante_aleatorio = np.random.choice(lista_estudiantes)\n",
    "        print(f\"Llamando a {estudiante_aleatorio}...\")\n",
    "        lista_estudiantes.remove(estudiante_aleatorio)\n",
    "    else:\n",
    "        print(\"Se han llamado a todos los estudiantes del grupo completo.\")\n"
   ]
  },
  {
   "cell_type": "code",
   "execution_count": 4,
   "id": "d60b2bf1",
   "metadata": {},
   "outputs": [
    {
     "name": "stdout",
     "output_type": "stream",
     "text": [
      "Llamando a MARTINEZ BUENO DIEGO ESTEBAN...\n"
     ]
    }
   ],
   "source": [
    "\n",
    "# Llamar a la función para realizar el proceso\n",
    "llamar_estudiante()\n"
   ]
  },
  {
   "cell_type": "markdown",
   "id": "4f9d8cf9",
   "metadata": {
    "slideshow": {
     "slide_type": "slide"
    }
   },
   "source": [
    "# Modelo general de clase: [aula invertida](https://www3.gobiernodecanarias.org/medusa/ecoescuela/pedagotic/aprendizaje-invertido-flipped-classroom/)"
   ]
  },
  {
   "cell_type": "markdown",
   "id": "eb6ed03a",
   "metadata": {},
   "source": [
    "![Definamos flipped learning de manera gráfica](https://resources.maneuveringthemiddle.com/wp-content/uploads/2020/07/04212706/1-5.png)"
   ]
  },
  {
   "cell_type": "markdown",
   "id": "8d97dc80",
   "metadata": {
    "slideshow": {
     "slide_type": "slide"
    }
   },
   "source": [
    "## Fomento de la lectura literaria asociada a Ingeniería agropecuaria y licenciatura en Matemáticas\n",
    "\n",
    "[Deshacer la ansiedad](https://github.com/marco-canas/deshacer_la_ansiedad/blob/main/13_cap_ajusta_la_dosis/13_cap_ajusta_la_dosis.ipynb)"
   ]
  },
  {
   "cell_type": "markdown",
   "id": "96775931",
   "metadata": {
    "slideshow": {
     "slide_type": "slide"
    }
   },
   "source": [
    "## Título de la clase: Cálculo de la velocidad de cambio de una función en un punto de su gráfico  \n",
    "\n"
   ]
  },
  {
   "cell_type": "markdown",
   "id": "1d38dd4e",
   "metadata": {
    "slideshow": {
     "slide_type": "slide"
    }
   },
   "source": [
    "### Objetivo de aprendizaje (Enunciar, de manera corta sencilla y clara para todos los asistentes)\n",
    "\n",
    "* que el estudiante pueda dar una interpretación verbal de la derivada de una función en cada punto de su gráfica. "
   ]
  },
  {
   "cell_type": "markdown",
   "id": "540f0ec1",
   "metadata": {
    "slideshow": {
     "slide_type": "slide"
    }
   },
   "source": [
    "## Cuestionario para realizar labores de memorización, observación y síntesis de la información (Además de diagnóstico)  \n",
    "[Realizar encuesta para participacion de todos los estudiantes para diagnosticar presaberes para la clase: mentimeter](https://www.mentimeter.com/es-ES/education/lectures)\n",
    "\n",
    "1. ¿?\n",
    "2. ¿?\n",
    "3. ¿?\n",
    "4. ¿?\n",
    "5. ¿?"
   ]
  },
  {
   "cell_type": "markdown",
   "id": "8e457ea2",
   "metadata": {},
   "source": [
    "# Definiciones y Resultados científicos a comprender y memorizar \n",
    "\n",
    "[Primera grabación en Vocaroo](https://vocaroo.com/)\n",
    "\n",
    "1. [La primera regla de derivación](https://voca.ro/164tm6dytGGp)\n",
    "2. [La regla del múltiplo constante]()"
   ]
  },
  {
   "cell_type": "markdown",
   "id": "ca7261b1",
   "metadata": {
    "slideshow": {
     "slide_type": "slide"
    }
   },
   "source": [
    "## Establecimiento de prerrequisitos conceptuales para alcanzar el objetivo de aprendizaje trazado.   \n",
    "\n",
    "(Elabore una lista de preguntas al rededor de los conceptos que consideres necesarios para empezar la clase).  \n",
    "\n",
    "1. \n",
    "2. \n",
    "3. "
   ]
  },
  {
   "cell_type": "markdown",
   "id": "2298e976",
   "metadata": {
    "slideshow": {
     "slide_type": "slide"
    }
   },
   "source": [
    "# Para el diseño de la clase tenga en cuenta algunos problemas de aprendizaje"
   ]
  },
  {
   "cell_type": "markdown",
   "id": "523d3acf",
   "metadata": {
    "slideshow": {
     "slide_type": "slide"
    }
   },
   "source": []
  },
  {
   "cell_type": "markdown",
   "id": "a40a4704",
   "metadata": {
    "slideshow": {
     "slide_type": "slide"
    }
   },
   "source": [
    "## Secuencia conceptual introductoria a la clase"
   ]
  },
  {
   "cell_type": "markdown",
   "id": "8853d874",
   "metadata": {},
   "source": [
    "## El componente histórico y epistemológico    \n",
    "\n",
    "A continuación te doy un resumen de los componentes históricos y epistemológicos para el concepto de la \"recta tangente al gráfico de una función $y = f(x) $ en un punto $ (c, f(c)) $\":\n"
   ]
  },
  {
   "cell_type": "markdown",
   "id": "bfea7de4",
   "metadata": {},
   "source": [
    "\n",
    "### Componentes Históricos\n",
    "\n",
    "1. **Antigüedad y Edad Media**:\n",
    "   - **Geometría Clásica**: Los antiguos matemáticos griegos, como Euclides, ya estaban interesados en problemas relacionados con tangentes, pero en un contexto puramente geométrico, especialmente en relación con los círculos.\n",
    "   - **Apolonio de Perga**: Estudió las cónicas y las tangentes a estas curvas, sentando algunas bases conceptuales.\n",
    "\n",
    "<img src = 'https://dibujonavarres.wordpress.com/wp-content/uploads/2014/11/tangente-a-una-circunf-por-un-punto.jpg'>"
   ]
  },
  {
   "cell_type": "markdown",
   "id": "078c6a16",
   "metadata": {},
   "source": [
    "\n",
    "2. **Renacimiento y Siglo XVII**:\n",
    "   - **Descartes y la Geometría Analítica**: René Descartes desarrolló la geometría analítica, permitiendo describir curvas mediante ecuaciones algebraicas y facilitando el estudio de tangentes.\n",
    "   - **Fermat y el Método de Máximos y Mínimos**: Pierre de Fermat utilizó ideas cercanas a las derivadas para determinar tangentes, aplicándolas a problemas de optimización.\n",
    "   - **Newton y Leibniz**: Isaac Newton y Gottfried Wilhelm Leibniz desarrollaron independientemente el cálculo diferencial. Introdujeron el concepto de derivada, que formaliza la pendiente de la tangente en un punto.\n",
    "\n",
    "3. **Siglo XVIII y XIX**:\n",
    "   - **Formalización del Cálculo**: Matemáticos como Augustin-Louis Cauchy y Karl Weierstrass contribuyeron a la rigurosa definición de límite y derivada, consolidando la teoría.\n"
   ]
  },
  {
   "cell_type": "markdown",
   "id": "717e3cda",
   "metadata": {},
   "source": [
    "\n",
    "### Componentes Epistemológicos\n",
    "\n",
    "1. **Concepto de Límite**:\n",
    "   - La idea de límite es fundamental para definir la tangente. La pendiente de la tangente en el punto $ (c, f(c)) $ se define como el límite del cociente de diferencias:  \n",
    "  \n",
    "     $$m = \\lim_{h \\to 0} \\frac{f(c+h) - f(c)}{h}$$\n",
    "\n",
    "2. **Derivada**:  \n",
    "   - La derivada de $f(x)$ en $x = c$, denotada como $f'(c)$, es precisamente la pendiente de la tangente al gráfico de $ y = f(x)$ en $ (c, f(c)) $:  \n",
    "   - \n",
    "     $$     f'(c) = \\lim_{h \\to 0} \\frac{f(c+h) - f(c)}{h} $$\n",
    "\n",
    "3. **Ecuación de la Tangente**:\n",
    "   - Utilizando la pendiente obtenida mediante la derivada, la ecuación de la tangente al gráfico de $ y = f(x)$ en el punto $ (c, f(c)) $ se expresa como:\n",
    "     $$      y - f(c) = f'(c)(x - c)      $$\n",
    "\n",
    "4. **Interpretación Geométrica y Analítica**:\n",
    "   - **Geométrica**: La tangente en $(c, f(c)) $ es la línea recta que \"toca\" la curva en ese punto sin cruzarla localmente, proporcionando la mejor aproximación lineal de la curva en ese punto.\n",
    "   - **Analítica**: Representa el comportamiento local de la función cerca de $ x = c $. La tangente proporciona una aproximación lineal que se utiliza en varias aplicaciones, como en la resolución de ecuaciones y la optimización.\n",
    "\n",
    "Estos componentes históricos y epistemológicos son esenciales para entender el desarrollo y la formalización del concepto de la recta tangente y su importancia en el análisis matemático."
   ]
  },
  {
   "cell_type": "markdown",
   "id": "64ac8d32",
   "metadata": {},
   "source": [
    "# Ejemplo ilustrativo\n",
    "\n",
    "Determine la ecuación de la recta tangente a la curva siguiente en el punto $(-1,-1)$. \n",
    "\n",
    "$$ f(x) = 2x^{3} -x  $$"
   ]
  },
  {
   "cell_type": "markdown",
   "id": "e8bb2ed2",
   "metadata": {},
   "source": [
    "## Solución:  \n",
    "\n",
    "Empezando por la identificación de esta función, podemos decir que esta función es polinómica( son las que se definen solo a través de sumas, restas y multiplicaciones) de grado 3. \n",
    "\n"
   ]
  },
  {
   "cell_type": "markdown",
   "id": "cf6c1b7b",
   "metadata": {},
   "source": [
    "De la recta tangente, tenemos un punto por donde ella pasa\n",
    "\n",
    "$$ y - y_{0} = m(x - x_{0})$$\n",
    "\n",
    "Sustituimos el punto que tenemos $(x_{0}, y_{0}) = (-1,1)$\n",
    "\n",
    "$$ y - (-1) = m(x - (-1)) $$\n",
    "\n",
    "$$ y + 1 = m(x + 1) $$\n",
    "\n",
    "Ahora ya no me falta sino la pendiente $m$ de esa recta para tener toda la ecuación que me han pedido.\n",
    "\n",
    "Calculemos la función derivada: \n",
    "\n",
    "$$ f'(x) = 6x^{2} - 1 $$\n",
    "\n",
    "Y la derivada en $x = -1$ es:\n",
    "\n",
    "$$ f'(-1) = 6(-1)^{2} - 1 = 6-1 = 5 = m $$\n",
    "\n",
    "Y así, la recta tangente es\n",
    "\n",
    "$$ y+1 = 5(x+1) $$\n",
    "\n",
    "$$ y = 5x + 5 - 1 $$\n",
    "\n",
    "$$ y = 5x + 4 $$\n",
    "\n",
    "\n",
    "Conculsión: la pendiente $m = 5$ significa que en el punto $(-1,-1)$, la velocidad instantánes de esta función de 5 unidaddes de la variable $y$, por cada unidad de la variable. "
   ]
  },
  {
   "cell_type": "code",
   "execution_count": 1,
   "id": "f97022bc",
   "metadata": {},
   "outputs": [
    {
     "data": {
      "application/vnd.jupyter.widget-view+json": {
       "model_id": "903d06eab37a494ab0e1e3c3670c8b84",
       "version_major": 2,
       "version_minor": 0
      },
      "text/plain": [
       "interactive(children=(IntSlider(value=-1, description='c', max=0, min=-2), Output()), _dom_classes=('widget-in…"
      ]
     },
     "metadata": {},
     "output_type": "display_data"
    },
    {
     "data": {
      "text/plain": [
       "<function __main__.trazar_grafico_y_segmento_tangente(c=-1)>"
      ]
     },
     "execution_count": 1,
     "metadata": {},
     "output_type": "execute_result"
    }
   ],
   "source": [
    "# animación que entregue la velocidad de cambio en cada punto\n",
    "from ipywidgets import interact \n",
    "import matplotlib.pyplot as plt   \n",
    "import numpy as np \n",
    "\n",
    "def trazar_grafico_y_segmento_tangente(c = -1):\n",
    "    dominio = np.arange(start = -2, stop = 0 + 0.1, step = 0.1)\n",
    "    def f(x): \n",
    "        return 2*x**3-x\n",
    "    rango = f(dominio)\n",
    "    plt.plot(dominio, rango )\n",
    "    plt.scatter([c], [f(c)], linewidths=4, color = 'red')\n",
    "    plt.grid()\n",
    "    dominio_segmento_tangente = np.array([c-0.5, c+0.5]) \n",
    "    h = 0.000001 \n",
    "    mTangente = (f(c+h) - f(c))/(h)\n",
    "    def segmento_tangente(x):\n",
    "        return mTangente*x + 4\n",
    "    rango_segmento_tangente = segmento_tangente(dominio_segmento_tangente)\n",
    "    plt.plot(dominio_segmento_tangente, rango_segmento_tangente)\n",
    "    plt.yticks(np.arange(np.min(rango), np.max(rango) + 1))\n",
    "    plt.legend()\n",
    "\n",
    "interact(trazar_grafico_y_segmento_tangente, c = (-2, 0))    "
   ]
  },
  {
   "cell_type": "markdown",
   "id": "a3e5e6ab",
   "metadata": {},
   "source": [
    "# 10 ejercicios de entenamiento o adquisición de habilidades obtenido a través de ChatGPT para una formación personalizada y centrada en la habilidad que se quiere lograr con la enseñanza del ejemplo annterior"
   ]
  },
  {
   "cell_type": "markdown",
   "id": "cc539357",
   "metadata": {},
   "source": [
    "Claro, aquí tienes 10 ejercicios similares para practicar la determinación de la ecuación de la recta tangente a una curva en un punto dado:\n",
    "\n",
    "1. **Determine la ecuación de la recta tangente a la siguiente curva en el punto \\((1, 1)\\):**\n",
    "   $$ f(x) = x^2 + 2x + 1 $$\n",
    "\n",
    "2. **Determine la ecuación de la recta tangente a la siguiente curva en el punto \\((0, 0)\\):**\n",
    "   $$ f(x) = x^3 - 3x $$\n",
    "\n",
    "3. **Determine la ecuación de la recta tangente a la siguiente curva en el punto \\((2, 4)\\):**\n",
    "   $$ f(x) = x^2 $$\n",
    "\n",
    "4. **Determine la ecuación de la recta tangente a la siguiente curva en el punto \\((1, e)\\):**\n",
    "   $$ f(x) = e^x $$\n",
    "\n",
    "5. **Determine la ecuación de la recta tangente a la siguiente curva en el punto \\((0, 1)\\):**\n",
    "   $$ f(x) = \\cos(x) $$\n",
    "\n",
    "6. **Determine la ecuación de la recta tangente a la siguiente curva en el punto \\((1, \\ln(2))\\):**\n",
    "   $$ f(x) = \\ln(x+1) $$\n",
    "\n",
    "7. **Determine la ecuación de la recta tangente a la siguiente curva en el punto \\((2, 2)\\):**\n",
    "   $$ f(x) = \\sqrt{x} $$\n",
    "\n",
    "8. **Determine la ecuación de la recta tangente a la siguiente curva en el punto \\((1, 3)\\):**\n",
    "   $$ f(x) = x^3 - x + 3 $$\n",
    "\n",
    "9. **Determine la ecuación de la recta tangente a la siguiente curva en el punto \\((2, 1)\\):**\n",
    "   $$ f(x) = \\frac{1}{x} $$\n",
    "\n",
    "10. **Determine la ecuación de la recta tangente a la siguiente curva en el punto \\((0, 1)\\):**\n",
    "    $$ f(x) = \\sin(x) $$\n",
    "\n",
    "Para cada ejercicio, sigue estos pasos:\n",
    "\n",
    "1. Calcula la derivada de la función \\( f(x) \\).\n",
    "2. Evalúa la derivada en el punto dado para encontrar la pendiente de la tangente.\n",
    "3. Utiliza la fórmula de la recta tangente \\( y - f(c) = f'(c)(x - c) \\) para encontrar la ecuación de la recta tangente en el punto especificado \\((c, f(c))\\)."
   ]
  },
  {
   "cell_type": "markdown",
   "id": "ff5dc3f1",
   "metadata": {},
   "source": [
    "# El ejercicio que preguntó Maira  \n",
    "\n"
   ]
  },
  {
   "cell_type": "code",
   "execution_count": 2,
   "id": "6a0b6012",
   "metadata": {},
   "outputs": [],
   "source": [
    "import numpy as np \n",
    "\n",
    "valor_x_Q = np.array([3, 2.5, 2.2, 2.1, 2.01, 2.001]) "
   ]
  },
  {
   "cell_type": "code",
   "execution_count": 4,
   "id": "dca1a79c",
   "metadata": {},
   "outputs": [
    {
     "data": {
      "text/plain": [
       "array([19.      , 15.25    , 13.24    , 12.61    , 12.0601  , 12.006001])"
      ]
     },
     "execution_count": 4,
     "metadata": {},
     "output_type": "execute_result"
    }
   ],
   "source": [
    "def f(x):\n",
    "    return x**3+3\n",
    "\n",
    "def mpq(x2):\n",
    "    x1 = 2\n",
    "    y1 = 11\n",
    "    y2 = f(x2)\n",
    "    return (y2-y1)/(x2-x1)\n",
    "\n",
    "mpq(valor_x_Q)"
   ]
  },
  {
   "cell_type": "code",
   "execution_count": null,
   "id": "dad7ba7e",
   "metadata": {},
   "outputs": [],
   "source": []
  },
  {
   "cell_type": "code",
   "execution_count": null,
   "id": "0486a7d8",
   "metadata": {},
   "outputs": [
    {
     "data": {
      "application/vnd.plotly.v1+json": {
       "config": {
        "plotlyServerURL": "https://plot.ly"
       },
       "data": [
        {
         "hovertemplate": "x=%{x}<br>y=%{y}<extra></extra>",
         "legendgroup": "",
         "marker": {
          "color": "#636efa",
          "symbol": "circle"
         },
         "mode": "markers",
         "name": "",
         "orientation": "v",
         "showlegend": false,
         "type": "scatter",
         "x": [],
         "xaxis": "x",
         "y": [],
         "yaxis": "y"
        }
       ],
       "layout": {
        "legend": {
         "tracegroupgap": 0
        },
        "template": {
         "data": {
          "bar": [
           {
            "error_x": {
             "color": "#2a3f5f"
            },
            "error_y": {
             "color": "#2a3f5f"
            },
            "marker": {
             "line": {
              "color": "#E5ECF6",
              "width": 0.5
             },
             "pattern": {
              "fillmode": "overlay",
              "size": 10,
              "solidity": 0.2
             }
            },
            "type": "bar"
           }
          ],
          "barpolar": [
           {
            "marker": {
             "line": {
              "color": "#E5ECF6",
              "width": 0.5
             },
             "pattern": {
              "fillmode": "overlay",
              "size": 10,
              "solidity": 0.2
             }
            },
            "type": "barpolar"
           }
          ],
          "carpet": [
           {
            "aaxis": {
             "endlinecolor": "#2a3f5f",
             "gridcolor": "white",
             "linecolor": "white",
             "minorgridcolor": "white",
             "startlinecolor": "#2a3f5f"
            },
            "baxis": {
             "endlinecolor": "#2a3f5f",
             "gridcolor": "white",
             "linecolor": "white",
             "minorgridcolor": "white",
             "startlinecolor": "#2a3f5f"
            },
            "type": "carpet"
           }
          ],
          "choropleth": [
           {
            "colorbar": {
             "outlinewidth": 0,
             "ticks": ""
            },
            "type": "choropleth"
           }
          ],
          "contour": [
           {
            "colorbar": {
             "outlinewidth": 0,
             "ticks": ""
            },
            "colorscale": [
             [
              0,
              "#0d0887"
             ],
             [
              0.1111111111111111,
              "#46039f"
             ],
             [
              0.2222222222222222,
              "#7201a8"
             ],
             [
              0.3333333333333333,
              "#9c179e"
             ],
             [
              0.4444444444444444,
              "#bd3786"
             ],
             [
              0.5555555555555556,
              "#d8576b"
             ],
             [
              0.6666666666666666,
              "#ed7953"
             ],
             [
              0.7777777777777778,
              "#fb9f3a"
             ],
             [
              0.8888888888888888,
              "#fdca26"
             ],
             [
              1,
              "#f0f921"
             ]
            ],
            "type": "contour"
           }
          ],
          "contourcarpet": [
           {
            "colorbar": {
             "outlinewidth": 0,
             "ticks": ""
            },
            "type": "contourcarpet"
           }
          ],
          "heatmap": [
           {
            "colorbar": {
             "outlinewidth": 0,
             "ticks": ""
            },
            "colorscale": [
             [
              0,
              "#0d0887"
             ],
             [
              0.1111111111111111,
              "#46039f"
             ],
             [
              0.2222222222222222,
              "#7201a8"
             ],
             [
              0.3333333333333333,
              "#9c179e"
             ],
             [
              0.4444444444444444,
              "#bd3786"
             ],
             [
              0.5555555555555556,
              "#d8576b"
             ],
             [
              0.6666666666666666,
              "#ed7953"
             ],
             [
              0.7777777777777778,
              "#fb9f3a"
             ],
             [
              0.8888888888888888,
              "#fdca26"
             ],
             [
              1,
              "#f0f921"
             ]
            ],
            "type": "heatmap"
           }
          ],
          "heatmapgl": [
           {
            "colorbar": {
             "outlinewidth": 0,
             "ticks": ""
            },
            "colorscale": [
             [
              0,
              "#0d0887"
             ],
             [
              0.1111111111111111,
              "#46039f"
             ],
             [
              0.2222222222222222,
              "#7201a8"
             ],
             [
              0.3333333333333333,
              "#9c179e"
             ],
             [
              0.4444444444444444,
              "#bd3786"
             ],
             [
              0.5555555555555556,
              "#d8576b"
             ],
             [
              0.6666666666666666,
              "#ed7953"
             ],
             [
              0.7777777777777778,
              "#fb9f3a"
             ],
             [
              0.8888888888888888,
              "#fdca26"
             ],
             [
              1,
              "#f0f921"
             ]
            ],
            "type": "heatmapgl"
           }
          ],
          "histogram": [
           {
            "marker": {
             "pattern": {
              "fillmode": "overlay",
              "size": 10,
              "solidity": 0.2
             }
            },
            "type": "histogram"
           }
          ],
          "histogram2d": [
           {
            "colorbar": {
             "outlinewidth": 0,
             "ticks": ""
            },
            "colorscale": [
             [
              0,
              "#0d0887"
             ],
             [
              0.1111111111111111,
              "#46039f"
             ],
             [
              0.2222222222222222,
              "#7201a8"
             ],
             [
              0.3333333333333333,
              "#9c179e"
             ],
             [
              0.4444444444444444,
              "#bd3786"
             ],
             [
              0.5555555555555556,
              "#d8576b"
             ],
             [
              0.6666666666666666,
              "#ed7953"
             ],
             [
              0.7777777777777778,
              "#fb9f3a"
             ],
             [
              0.8888888888888888,
              "#fdca26"
             ],
             [
              1,
              "#f0f921"
             ]
            ],
            "type": "histogram2d"
           }
          ],
          "histogram2dcontour": [
           {
            "colorbar": {
             "outlinewidth": 0,
             "ticks": ""
            },
            "colorscale": [
             [
              0,
              "#0d0887"
             ],
             [
              0.1111111111111111,
              "#46039f"
             ],
             [
              0.2222222222222222,
              "#7201a8"
             ],
             [
              0.3333333333333333,
              "#9c179e"
             ],
             [
              0.4444444444444444,
              "#bd3786"
             ],
             [
              0.5555555555555556,
              "#d8576b"
             ],
             [
              0.6666666666666666,
              "#ed7953"
             ],
             [
              0.7777777777777778,
              "#fb9f3a"
             ],
             [
              0.8888888888888888,
              "#fdca26"
             ],
             [
              1,
              "#f0f921"
             ]
            ],
            "type": "histogram2dcontour"
           }
          ],
          "mesh3d": [
           {
            "colorbar": {
             "outlinewidth": 0,
             "ticks": ""
            },
            "type": "mesh3d"
           }
          ],
          "parcoords": [
           {
            "line": {
             "colorbar": {
              "outlinewidth": 0,
              "ticks": ""
             }
            },
            "type": "parcoords"
           }
          ],
          "pie": [
           {
            "automargin": true,
            "type": "pie"
           }
          ],
          "scatter": [
           {
            "fillpattern": {
             "fillmode": "overlay",
             "size": 10,
             "solidity": 0.2
            },
            "type": "scatter"
           }
          ],
          "scatter3d": [
           {
            "line": {
             "colorbar": {
              "outlinewidth": 0,
              "ticks": ""
             }
            },
            "marker": {
             "colorbar": {
              "outlinewidth": 0,
              "ticks": ""
             }
            },
            "type": "scatter3d"
           }
          ],
          "scattercarpet": [
           {
            "marker": {
             "colorbar": {
              "outlinewidth": 0,
              "ticks": ""
             }
            },
            "type": "scattercarpet"
           }
          ],
          "scattergeo": [
           {
            "marker": {
             "colorbar": {
              "outlinewidth": 0,
              "ticks": ""
             }
            },
            "type": "scattergeo"
           }
          ],
          "scattergl": [
           {
            "marker": {
             "colorbar": {
              "outlinewidth": 0,
              "ticks": ""
             }
            },
            "type": "scattergl"
           }
          ],
          "scattermapbox": [
           {
            "marker": {
             "colorbar": {
              "outlinewidth": 0,
              "ticks": ""
             }
            },
            "type": "scattermapbox"
           }
          ],
          "scatterpolar": [
           {
            "marker": {
             "colorbar": {
              "outlinewidth": 0,
              "ticks": ""
             }
            },
            "type": "scatterpolar"
           }
          ],
          "scatterpolargl": [
           {
            "marker": {
             "colorbar": {
              "outlinewidth": 0,
              "ticks": ""
             }
            },
            "type": "scatterpolargl"
           }
          ],
          "scatterternary": [
           {
            "marker": {
             "colorbar": {
              "outlinewidth": 0,
              "ticks": ""
             }
            },
            "type": "scatterternary"
           }
          ],
          "surface": [
           {
            "colorbar": {
             "outlinewidth": 0,
             "ticks": ""
            },
            "colorscale": [
             [
              0,
              "#0d0887"
             ],
             [
              0.1111111111111111,
              "#46039f"
             ],
             [
              0.2222222222222222,
              "#7201a8"
             ],
             [
              0.3333333333333333,
              "#9c179e"
             ],
             [
              0.4444444444444444,
              "#bd3786"
             ],
             [
              0.5555555555555556,
              "#d8576b"
             ],
             [
              0.6666666666666666,
              "#ed7953"
             ],
             [
              0.7777777777777778,
              "#fb9f3a"
             ],
             [
              0.8888888888888888,
              "#fdca26"
             ],
             [
              1,
              "#f0f921"
             ]
            ],
            "type": "surface"
           }
          ],
          "table": [
           {
            "cells": {
             "fill": {
              "color": "#EBF0F8"
             },
             "line": {
              "color": "white"
             }
            },
            "header": {
             "fill": {
              "color": "#C8D4E3"
             },
             "line": {
              "color": "white"
             }
            },
            "type": "table"
           }
          ]
         },
         "layout": {
          "annotationdefaults": {
           "arrowcolor": "#2a3f5f",
           "arrowhead": 0,
           "arrowwidth": 1
          },
          "autotypenumbers": "strict",
          "coloraxis": {
           "colorbar": {
            "outlinewidth": 0,
            "ticks": ""
           }
          },
          "colorscale": {
           "diverging": [
            [
             0,
             "#8e0152"
            ],
            [
             0.1,
             "#c51b7d"
            ],
            [
             0.2,
             "#de77ae"
            ],
            [
             0.3,
             "#f1b6da"
            ],
            [
             0.4,
             "#fde0ef"
            ],
            [
             0.5,
             "#f7f7f7"
            ],
            [
             0.6,
             "#e6f5d0"
            ],
            [
             0.7,
             "#b8e186"
            ],
            [
             0.8,
             "#7fbc41"
            ],
            [
             0.9,
             "#4d9221"
            ],
            [
             1,
             "#276419"
            ]
           ],
           "sequential": [
            [
             0,
             "#0d0887"
            ],
            [
             0.1111111111111111,
             "#46039f"
            ],
            [
             0.2222222222222222,
             "#7201a8"
            ],
            [
             0.3333333333333333,
             "#9c179e"
            ],
            [
             0.4444444444444444,
             "#bd3786"
            ],
            [
             0.5555555555555556,
             "#d8576b"
            ],
            [
             0.6666666666666666,
             "#ed7953"
            ],
            [
             0.7777777777777778,
             "#fb9f3a"
            ],
            [
             0.8888888888888888,
             "#fdca26"
            ],
            [
             1,
             "#f0f921"
            ]
           ],
           "sequentialminus": [
            [
             0,
             "#0d0887"
            ],
            [
             0.1111111111111111,
             "#46039f"
            ],
            [
             0.2222222222222222,
             "#7201a8"
            ],
            [
             0.3333333333333333,
             "#9c179e"
            ],
            [
             0.4444444444444444,
             "#bd3786"
            ],
            [
             0.5555555555555556,
             "#d8576b"
            ],
            [
             0.6666666666666666,
             "#ed7953"
            ],
            [
             0.7777777777777778,
             "#fb9f3a"
            ],
            [
             0.8888888888888888,
             "#fdca26"
            ],
            [
             1,
             "#f0f921"
            ]
           ]
          },
          "colorway": [
           "#636efa",
           "#EF553B",
           "#00cc96",
           "#ab63fa",
           "#FFA15A",
           "#19d3f3",
           "#FF6692",
           "#B6E880",
           "#FF97FF",
           "#FECB52"
          ],
          "font": {
           "color": "#2a3f5f"
          },
          "geo": {
           "bgcolor": "white",
           "lakecolor": "white",
           "landcolor": "#E5ECF6",
           "showlakes": true,
           "showland": true,
           "subunitcolor": "white"
          },
          "hoverlabel": {
           "align": "left"
          },
          "hovermode": "closest",
          "mapbox": {
           "style": "light"
          },
          "paper_bgcolor": "white",
          "plot_bgcolor": "#E5ECF6",
          "polar": {
           "angularaxis": {
            "gridcolor": "white",
            "linecolor": "white",
            "ticks": ""
           },
           "bgcolor": "#E5ECF6",
           "radialaxis": {
            "gridcolor": "white",
            "linecolor": "white",
            "ticks": ""
           }
          },
          "scene": {
           "xaxis": {
            "backgroundcolor": "#E5ECF6",
            "gridcolor": "white",
            "gridwidth": 2,
            "linecolor": "white",
            "showbackground": true,
            "ticks": "",
            "zerolinecolor": "white"
           },
           "yaxis": {
            "backgroundcolor": "#E5ECF6",
            "gridcolor": "white",
            "gridwidth": 2,
            "linecolor": "white",
            "showbackground": true,
            "ticks": "",
            "zerolinecolor": "white"
           },
           "zaxis": {
            "backgroundcolor": "#E5ECF6",
            "gridcolor": "white",
            "gridwidth": 2,
            "linecolor": "white",
            "showbackground": true,
            "ticks": "",
            "zerolinecolor": "white"
           }
          },
          "shapedefaults": {
           "line": {
            "color": "#2a3f5f"
           }
          },
          "ternary": {
           "aaxis": {
            "gridcolor": "white",
            "linecolor": "white",
            "ticks": ""
           },
           "baxis": {
            "gridcolor": "white",
            "linecolor": "white",
            "ticks": ""
           },
           "bgcolor": "#E5ECF6",
           "caxis": {
            "gridcolor": "white",
            "linecolor": "white",
            "ticks": ""
           }
          },
          "title": {
           "x": 0.05
          },
          "xaxis": {
           "automargin": true,
           "gridcolor": "white",
           "linecolor": "white",
           "ticks": "",
           "title": {
            "standoff": 15
           },
           "zerolinecolor": "white",
           "zerolinewidth": 2
          },
          "yaxis": {
           "automargin": true,
           "gridcolor": "white",
           "linecolor": "white",
           "ticks": "",
           "title": {
            "standoff": 15
           },
           "zerolinecolor": "white",
           "zerolinewidth": 2
          }
         }
        },
        "title": {
         "text": "Relación entre x e y"
        },
        "xaxis": {
         "anchor": "y",
         "domain": [
          0,
          1
         ],
         "title": {
          "text": "x"
         }
        },
        "yaxis": {
         "anchor": "x",
         "domain": [
          0,
          1
         ],
         "title": {
          "text": "y"
         }
        }
       }
      }
     },
     "metadata": {},
     "output_type": "display_data"
    }
   ],
   "source": [
    "## Visualización gráfica con plotly 1\n",
    "import numpy as np \n",
    "import pandas as pd \n",
    "import plotly.express as px\n",
    "# datos\n",
    "X = np.array([])\n",
    "\n",
    "Y = np.array([])\n",
    "\n",
    "# tabla de datos\n",
    "tabla = pd.DataFrame({'x':X, 'y':Y})\n",
    "#trazo de diagrama de dispersión o scatter\n",
    "fig = px.scatter(tabla,x = tabla.keys()[0], y = tabla.keys()[1], title='Relación entre x e y')\n",
    "fig.write_image('/home/marco/Documentos/docencia/calculo/images/images_ciencia_datos/temperatura_caucasia_2024.jpg')\n",
    "fig.show()\n",
    "\n",
    "#fig.write_html('relacion_entre_x_e_y.html', auto_open=True)"
   ]
  },
  {
   "cell_type": "code",
   "execution_count": null,
   "id": "1d46390f",
   "metadata": {},
   "outputs": [],
   "source": [
    "# Segunda opción de graficación con plotly\n",
    "\n",
    "from plotly import graph_objects as go \n",
    "\n",
    "fig = go.Figure()  \n",
    "\n",
    "fig.add_trace(go.Scatter(x = tiempos, y = velocidades, mode = 'markers' ))\n",
    "\n",
    "# Título del gráfico\n",
    "fig.update_layout(title='Velocidad en función del Tiempo')\n",
    "\n",
    "# Etiquetas para los ejes\n",
    "fig.update_xaxes(title_text='Tiempo')\n",
    "fig.update_yaxes(title_text='Velocidad')\n",
    "fig.write_image('/home/marco/Documentos/docencia/calculo/images/images_ciencia_datos/temperatura_caucasia_2024.jpg')\n",
    "# Mostrar el gráfico\n",
    "fig.show()"
   ]
  },
  {
   "cell_type": "markdown",
   "id": "2f0141c3",
   "metadata": {},
   "source": [
    "## Tareas para realizar antes de la clase  \n",
    "\n",
    "1. Ver los videos respectivos []()\n",
    "2. Memorizar las definiciones []()\n",
    "3. Sintetizar o resumir la información en mapas conceptuales. []()\n",
    "4. Tareas para incentivar el uso de la calculadora Casio Para ingenieros y licenciados. \n",
    "5. Leer los ejemplos resueltos y repricar la manera de hacerlos"
   ]
  },
  {
   "cell_type": "code",
   "execution_count": 1,
   "id": "3db51219",
   "metadata": {},
   "outputs": [
    {
     "data": {
      "text/plain": [
       "'/home/marco/Documentos/docencia/calculo/images/3_derivada/1_la_nocion_de_derivada/Velocidad de cambio en cualquier punto.pdf'"
      ]
     },
     "execution_count": 1,
     "metadata": {},
     "output_type": "execute_result"
    },
    {
     "name": "stderr",
     "output_type": "stream",
     "text": [
      "/snap/core20/current/lib/x86_64-linux-gnu/libstdc++.so.6: version `GLIBCXX_3.4.29' not found (required by /lib/x86_64-linux-gnu/libproxy.so.1)\n",
      "Failed to load module: /home/marco/snap/code/common/.cache/gio-modules/libgiolibproxy.so\n",
      "\n",
      "(process:8524): Gtk-WARNING **: 16:22:29.502: Locale not supported by C library.\n",
      "\tUsing the fallback 'C' locale.\n",
      "/home/marco/snap/code/common/.cache/gio-modules/libgiolibproxy.so: cannot open shared object file: Permission denied\n",
      "Failed to load module: /home/marco/snap/code/common/.cache/gio-modules/libgiolibproxy.so\n",
      "\n",
      "(evince:8524): Gtk-WARNING **: 16:22:29.554: Theme parsing error: gtk-keys.css:1:0: Failed to import: Error opening file /snap/code/159/usr/share/themes/Default/gtk-3.0/gtk-keys.css: Permission denied\n",
      "Gtk-Message: 16:22:29.554: Failed to load module \"canberra-gtk-module\"\n",
      "Gtk-Message: 16:22:29.555: Failed to load module \"canberra-gtk-module\"\n",
      "/home/marco/snap/code/common/.cache/gio-modules/libdconfsettings.so: cannot open shared object file: Permission denied\n",
      "Failed to load module: /home/marco/snap/code/common/.cache/gio-modules/libdconfsettings.so\n",
      "\n",
      "(evince:8524): Gtk-WARNING **: 16:22:29.758: Could not load a pixbuf from icon theme.\n",
      "This may indicate that pixbuf loaders or the mime database could not be found.\n"
     ]
    }
   ],
   "source": [
    "# mapa conceptual para cada clase  \n",
    "from graphviz import Digraph\n",
    "\n",
    "# Crear un nuevo grafo dirigido\n",
    "dot = Digraph()\n",
    "\n",
    "# Añadir nodos y relaciones al grafo\n",
    "main_concept = 'Velocidad de cambio en cualquier punto'\n",
    "dot.node('A', main_concept)\n",
    "dot.node('B', '')\n",
    "dot.node('C', '')\n",
    "dot.node('D', '')\n",
    "dot.node('E', '')\n",
    "dot.node('F', '')\n",
    "dot.node('G', '')\n",
    "dot.node('H', '')\n",
    "dot.node('I', '')\n",
    "dot.node('J', '')\n",
    "\n",
    "dot.edges(['AB'])\n",
    "dot.edges(['AC'])\n",
    "dot.edges(['CD'])\n",
    "dot.edges(['DJ'])\n",
    "dot.edges(['EF'])\n",
    "dot.edges(['FG'])\n",
    "dot.edges(['GH'])\n",
    "dot.edges(['HI'])\n",
    "dot.edges(['IJ'])\n",
    "\n",
    "# Guardar el grafo como un archivo de imagen\n",
    "dot.render(filename=main_concept, format='png', cleanup=True, \\\n",
    "           directory='/home/marco/Documentos/docencia/calculo/images/3_derivada/1_la_nocion_de_derivada')\n",
    "\n",
    "dot.view()\n"
   ]
  },
  {
   "cell_type": "code",
   "execution_count": 9,
   "metadata": {},
   "outputs": [
    {
     "name": "stdout",
     "output_type": "stream",
     "text": [
      "Tarea 1 de lectura de ejemplos y completación de procedimientos:  tarea_Lina Grajales_Página_348_Parte_6.csv\n"
     ]
    },
    {
     "data": {
      "text/html": [
       "<div>\n",
       "<style scoped>\n",
       "    .dataframe tbody tr th:only-of-type {\n",
       "        vertical-align: middle;\n",
       "    }\n",
       "\n",
       "    .dataframe tbody tr th {\n",
       "        vertical-align: top;\n",
       "    }\n",
       "\n",
       "    .dataframe thead th {\n",
       "        text-align: right;\n",
       "    }\n",
       "</style>\n",
       "<table border=\"1\" class=\"dataframe\">\n",
       "  <thead>\n",
       "    <tr style=\"text-align: right;\">\n",
       "      <th></th>\n",
       "      <th>Student</th>\n",
       "      <th>Example1</th>\n",
       "      <th>Example2</th>\n",
       "      <th>Example3</th>\n",
       "      <th>Example4</th>\n",
       "    </tr>\n",
       "  </thead>\n",
       "  <tbody>\n",
       "    <tr>\n",
       "      <th>0</th>\n",
       "      <td>ACEVEDO CASTILLO MAIRA DAYANA</td>\n",
       "      <td>16</td>\n",
       "      <td>4</td>\n",
       "      <td>3</td>\n",
       "      <td>19</td>\n",
       "    </tr>\n",
       "    <tr>\n",
       "      <th>1</th>\n",
       "      <td>ACOSTA RUIZ YIRLENA</td>\n",
       "      <td>18</td>\n",
       "      <td>7</td>\n",
       "      <td>10</td>\n",
       "      <td>19</td>\n",
       "    </tr>\n",
       "    <tr>\n",
       "      <th>2</th>\n",
       "      <td>GUERRERO SANTOS ISABELLA</td>\n",
       "      <td>20</td>\n",
       "      <td>2</td>\n",
       "      <td>6</td>\n",
       "      <td>5</td>\n",
       "    </tr>\n",
       "    <tr>\n",
       "      <th>3</th>\n",
       "      <td>LEGUIA MEJIA ESTEFANY</td>\n",
       "      <td>4</td>\n",
       "      <td>2</td>\n",
       "      <td>11</td>\n",
       "      <td>14</td>\n",
       "    </tr>\n",
       "    <tr>\n",
       "      <th>4</th>\n",
       "      <td>LLANO DAVILA DORIAN ANDRES</td>\n",
       "      <td>18</td>\n",
       "      <td>12</td>\n",
       "      <td>7</td>\n",
       "      <td>2</td>\n",
       "    </tr>\n",
       "    <tr>\n",
       "      <th>5</th>\n",
       "      <td>MARTINEZ BUENO DIEGO ESTEBAN</td>\n",
       "      <td>11</td>\n",
       "      <td>16</td>\n",
       "      <td>14</td>\n",
       "      <td>5</td>\n",
       "    </tr>\n",
       "    <tr>\n",
       "      <th>6</th>\n",
       "      <td>MORENO BENJUMEA JULIETH FERNANDA</td>\n",
       "      <td>11</td>\n",
       "      <td>7</td>\n",
       "      <td>5</td>\n",
       "      <td>3</td>\n",
       "    </tr>\n",
       "    <tr>\n",
       "      <th>7</th>\n",
       "      <td>NUNEZ FERNANDEZ TULIO MANUEL</td>\n",
       "      <td>14</td>\n",
       "      <td>19</td>\n",
       "      <td>4</td>\n",
       "      <td>20</td>\n",
       "    </tr>\n",
       "    <tr>\n",
       "      <th>8</th>\n",
       "      <td>PATERNINA SOLORZANO MARIA ISABEL</td>\n",
       "      <td>19</td>\n",
       "      <td>6</td>\n",
       "      <td>18</td>\n",
       "      <td>15</td>\n",
       "    </tr>\n",
       "    <tr>\n",
       "      <th>9</th>\n",
       "      <td>PEREZ GARCIA ALEJANDRO</td>\n",
       "      <td>4</td>\n",
       "      <td>5</td>\n",
       "      <td>12</td>\n",
       "      <td>9</td>\n",
       "    </tr>\n",
       "    <tr>\n",
       "      <th>10</th>\n",
       "      <td>SERENO GUEVARA MARIA CELESTE</td>\n",
       "      <td>16</td>\n",
       "      <td>13</td>\n",
       "      <td>4</td>\n",
       "      <td>6</td>\n",
       "    </tr>\n",
       "    <tr>\n",
       "      <th>11</th>\n",
       "      <td>SIERRA SERPA YENIFER</td>\n",
       "      <td>20</td>\n",
       "      <td>19</td>\n",
       "      <td>8</td>\n",
       "      <td>9</td>\n",
       "    </tr>\n",
       "    <tr>\n",
       "      <th>12</th>\n",
       "      <td>VIDAL QUINTERO ELIACIB</td>\n",
       "      <td>6</td>\n",
       "      <td>19</td>\n",
       "      <td>15</td>\n",
       "      <td>16</td>\n",
       "    </tr>\n",
       "    <tr>\n",
       "      <th>13</th>\n",
       "      <td>VILLADIEGO GALLEGO JORGE ANDRES</td>\n",
       "      <td>4</td>\n",
       "      <td>13</td>\n",
       "      <td>16</td>\n",
       "      <td>6</td>\n",
       "    </tr>\n",
       "  </tbody>\n",
       "</table>\n",
       "</div>"
      ],
      "text/plain": [
       "                             Student  Example1  Example2  Example3  Example4\n",
       "0      ACEVEDO CASTILLO MAIRA DAYANA        16         4         3        19\n",
       "1                ACOSTA RUIZ YIRLENA        18         7        10        19\n",
       "2           GUERRERO SANTOS ISABELLA        20         2         6         5\n",
       "3              LEGUIA MEJIA ESTEFANY         4         2        11        14\n",
       "4         LLANO DAVILA DORIAN ANDRES        18        12         7         2\n",
       "5       MARTINEZ BUENO DIEGO ESTEBAN        11        16        14         5\n",
       "6   MORENO BENJUMEA JULIETH FERNANDA        11         7         5         3\n",
       "7       NUNEZ FERNANDEZ TULIO MANUEL        14        19         4        20\n",
       "8   PATERNINA SOLORZANO MARIA ISABEL        19         6        18        15\n",
       "9             PEREZ GARCIA ALEJANDRO         4         5        12         9\n",
       "10      SERENO GUEVARA MARIA CELESTE        16        13         4         6\n",
       "11              SIERRA SERPA YENIFER        20        19         8         9\n",
       "12            VIDAL QUINTERO ELIACIB         6        19        15        16\n",
       "13   VILLADIEGO GALLEGO JORGE ANDRES         4        13        16         6"
      ]
     },
     "execution_count": 9,
     "metadata": {},
     "output_type": "execute_result"
    }
   ],
   "source": [
    "# Tarea 1 de lectura de ejemplos y completación de procedimientos\n",
    "# asignación de tarea para realizar antes de clase\n",
    "# Consiste en leer y completar un ejemplo de texto guía\n",
    "\n",
    "import pandas as pd\n",
    "import numpy as np\n",
    "import requests\n",
    "np.random.seed(1213)  # establecer semilla aleatoria para hacer los resultados reproducibles\n",
    "\n",
    "\n",
    "\n",
    "grupo_estudiantes = 'math1'\n",
    "nombre_texto_guia = 'Lina Grajales'\n",
    "pagina_y_seccion = 'Página_348_Parte_6'\n",
    "numero_ejemplos_de_la_seccion = 20\n",
    "numero_de_ejemplos_asignados = 4\n",
    "\n",
    "\n",
    "# Descargar la lista de  estudiantes\n",
    "students_url = \"https://raw.githubusercontent.com/marco-canas/groups_list/main/\" + grupo_estudiantes + \".csv\"\n",
    "examples = list(range(1, numero_ejemplos_de_la_seccion))  \n",
    "\n",
    "students_data = pd.read_csv(students_url)\n",
    "\n",
    "# Crear una lista para almacenar las asignaciones\n",
    "assignments = []\n",
    "\n",
    "# Asignar ejercicios aleatorios a cada estudiante\n",
    "for index, student in students_data.iterrows():\n",
    "    # Seleccionar 5 ejercicios aleatorios sin repetición\n",
    "    random_exercises = np.random.choice(examples, numero_de_ejemplos_asignados, replace = False)+ 1 \n",
    "    assignments.append([students_data[\"Nombre\"][index], *random_exercises])  # Agregar asignación a la lista\n",
    "\n",
    "# Crear un DataFrame con las asignaciones\n",
    "columns = [\"Student\"] + [ \"Example\" + str(i+1) for i in range(numero_de_ejemplos_asignados)]\n",
    "assignment_df = pd.DataFrame(assignments, columns=columns)\n",
    "\n",
    "# Guardar el DataFrame en un archivo CSV\n",
    "assignment_csv = \"tarea\" + \"_\" + nombre_texto_guia + \"_\"+ pagina_y_seccion + \".csv\"\n",
    "assignment_df.to_csv(assignment_csv, index=False)\n",
    "\n",
    "print(\"Tarea 1 de lectura de ejemplos y completación de procedimientos: \", assignment_csv)\n",
    "assignment_df"
   ]
  },
  {
   "cell_type": "markdown",
   "id": "740f3401",
   "metadata": {
    "slideshow": {
     "slide_type": "slide"
    }
   },
   "source": [
    "# Componente de manejo de calculadora Casio asociado al objetivo de aprendizaje de esta clase  \n",
    "\n",
    "## Pasos para lograr el objetivo de aprendizaje con la experimentación en la calculadora casio 570 "
   ]
  },
  {
   "cell_type": "markdown",
   "id": "fccb447c",
   "metadata": {
    "slideshow": {
     "slide_type": "slide"
    }
   },
   "source": [
    "# Tareas para realizar en clase"
   ]
  },
  {
   "cell_type": "code",
   "execution_count": 13,
   "metadata": {},
   "outputs": [
    {
     "name": "stdout",
     "output_type": "stream",
     "text": [
      "Tarea 3 de solución de problemas:  tarea_Grajales_Página_348_Parte_6.csv\n"
     ]
    },
    {
     "data": {
      "text/html": [
       "<div>\n",
       "<style scoped>\n",
       "    .dataframe tbody tr th:only-of-type {\n",
       "        vertical-align: middle;\n",
       "    }\n",
       "\n",
       "    .dataframe tbody tr th {\n",
       "        vertical-align: top;\n",
       "    }\n",
       "\n",
       "    .dataframe thead th {\n",
       "        text-align: right;\n",
       "    }\n",
       "</style>\n",
       "<table border=\"1\" class=\"dataframe\">\n",
       "  <thead>\n",
       "    <tr style=\"text-align: right;\">\n",
       "      <th></th>\n",
       "      <th>Student</th>\n",
       "      <th>Exer1</th>\n",
       "      <th>Exer2</th>\n",
       "      <th>Exer3</th>\n",
       "      <th>Exer4</th>\n",
       "      <th>Exer5</th>\n",
       "      <th>Exer6</th>\n",
       "      <th>Exer7</th>\n",
       "      <th>Exer8</th>\n",
       "      <th>Exer9</th>\n",
       "      <th>Exer10</th>\n",
       "    </tr>\n",
       "  </thead>\n",
       "  <tbody>\n",
       "    <tr>\n",
       "      <th>0</th>\n",
       "      <td>ACEVEDO CASTILLO MAIRA DAYANA</td>\n",
       "      <td>2</td>\n",
       "      <td>3</td>\n",
       "      <td>4</td>\n",
       "      <td>5</td>\n",
       "      <td>6</td>\n",
       "      <td>7</td>\n",
       "      <td>8</td>\n",
       "      <td>9</td>\n",
       "      <td>10</td>\n",
       "      <td>11</td>\n",
       "    </tr>\n",
       "    <tr>\n",
       "      <th>1</th>\n",
       "      <td>ACOSTA RUIZ YIRLENA</td>\n",
       "      <td>2</td>\n",
       "      <td>3</td>\n",
       "      <td>4</td>\n",
       "      <td>5</td>\n",
       "      <td>6</td>\n",
       "      <td>7</td>\n",
       "      <td>8</td>\n",
       "      <td>9</td>\n",
       "      <td>10</td>\n",
       "      <td>11</td>\n",
       "    </tr>\n",
       "    <tr>\n",
       "      <th>2</th>\n",
       "      <td>GUERRERO SANTOS ISABELLA</td>\n",
       "      <td>2</td>\n",
       "      <td>3</td>\n",
       "      <td>4</td>\n",
       "      <td>5</td>\n",
       "      <td>6</td>\n",
       "      <td>7</td>\n",
       "      <td>8</td>\n",
       "      <td>9</td>\n",
       "      <td>10</td>\n",
       "      <td>11</td>\n",
       "    </tr>\n",
       "    <tr>\n",
       "      <th>3</th>\n",
       "      <td>LEGUIA MEJIA ESTEFANY</td>\n",
       "      <td>2</td>\n",
       "      <td>3</td>\n",
       "      <td>4</td>\n",
       "      <td>5</td>\n",
       "      <td>6</td>\n",
       "      <td>7</td>\n",
       "      <td>8</td>\n",
       "      <td>9</td>\n",
       "      <td>10</td>\n",
       "      <td>11</td>\n",
       "    </tr>\n",
       "    <tr>\n",
       "      <th>4</th>\n",
       "      <td>LLANO DAVILA DORIAN ANDRES</td>\n",
       "      <td>2</td>\n",
       "      <td>3</td>\n",
       "      <td>4</td>\n",
       "      <td>5</td>\n",
       "      <td>6</td>\n",
       "      <td>7</td>\n",
       "      <td>8</td>\n",
       "      <td>9</td>\n",
       "      <td>10</td>\n",
       "      <td>11</td>\n",
       "    </tr>\n",
       "    <tr>\n",
       "      <th>5</th>\n",
       "      <td>MARTINEZ BUENO DIEGO ESTEBAN</td>\n",
       "      <td>2</td>\n",
       "      <td>3</td>\n",
       "      <td>4</td>\n",
       "      <td>5</td>\n",
       "      <td>6</td>\n",
       "      <td>7</td>\n",
       "      <td>8</td>\n",
       "      <td>9</td>\n",
       "      <td>10</td>\n",
       "      <td>11</td>\n",
       "    </tr>\n",
       "    <tr>\n",
       "      <th>6</th>\n",
       "      <td>MORENO BENJUMEA JULIETH FERNANDA</td>\n",
       "      <td>2</td>\n",
       "      <td>3</td>\n",
       "      <td>4</td>\n",
       "      <td>5</td>\n",
       "      <td>6</td>\n",
       "      <td>7</td>\n",
       "      <td>8</td>\n",
       "      <td>9</td>\n",
       "      <td>10</td>\n",
       "      <td>11</td>\n",
       "    </tr>\n",
       "    <tr>\n",
       "      <th>7</th>\n",
       "      <td>NUNEZ FERNANDEZ TULIO MANUEL</td>\n",
       "      <td>2</td>\n",
       "      <td>3</td>\n",
       "      <td>4</td>\n",
       "      <td>5</td>\n",
       "      <td>6</td>\n",
       "      <td>7</td>\n",
       "      <td>8</td>\n",
       "      <td>9</td>\n",
       "      <td>10</td>\n",
       "      <td>11</td>\n",
       "    </tr>\n",
       "    <tr>\n",
       "      <th>8</th>\n",
       "      <td>PATERNINA SOLORZANO MARIA ISABEL</td>\n",
       "      <td>2</td>\n",
       "      <td>3</td>\n",
       "      <td>4</td>\n",
       "      <td>5</td>\n",
       "      <td>6</td>\n",
       "      <td>7</td>\n",
       "      <td>8</td>\n",
       "      <td>9</td>\n",
       "      <td>10</td>\n",
       "      <td>11</td>\n",
       "    </tr>\n",
       "    <tr>\n",
       "      <th>9</th>\n",
       "      <td>PEREZ GARCIA ALEJANDRO</td>\n",
       "      <td>2</td>\n",
       "      <td>3</td>\n",
       "      <td>4</td>\n",
       "      <td>5</td>\n",
       "      <td>6</td>\n",
       "      <td>7</td>\n",
       "      <td>8</td>\n",
       "      <td>9</td>\n",
       "      <td>10</td>\n",
       "      <td>11</td>\n",
       "    </tr>\n",
       "    <tr>\n",
       "      <th>10</th>\n",
       "      <td>SERENO GUEVARA MARIA CELESTE</td>\n",
       "      <td>2</td>\n",
       "      <td>3</td>\n",
       "      <td>4</td>\n",
       "      <td>5</td>\n",
       "      <td>6</td>\n",
       "      <td>7</td>\n",
       "      <td>8</td>\n",
       "      <td>9</td>\n",
       "      <td>10</td>\n",
       "      <td>11</td>\n",
       "    </tr>\n",
       "    <tr>\n",
       "      <th>11</th>\n",
       "      <td>SIERRA SERPA YENIFER</td>\n",
       "      <td>2</td>\n",
       "      <td>3</td>\n",
       "      <td>4</td>\n",
       "      <td>5</td>\n",
       "      <td>6</td>\n",
       "      <td>7</td>\n",
       "      <td>8</td>\n",
       "      <td>9</td>\n",
       "      <td>10</td>\n",
       "      <td>11</td>\n",
       "    </tr>\n",
       "    <tr>\n",
       "      <th>12</th>\n",
       "      <td>VIDAL QUINTERO ELIACIB</td>\n",
       "      <td>2</td>\n",
       "      <td>3</td>\n",
       "      <td>4</td>\n",
       "      <td>5</td>\n",
       "      <td>6</td>\n",
       "      <td>7</td>\n",
       "      <td>8</td>\n",
       "      <td>9</td>\n",
       "      <td>10</td>\n",
       "      <td>11</td>\n",
       "    </tr>\n",
       "    <tr>\n",
       "      <th>13</th>\n",
       "      <td>VILLADIEGO GALLEGO JORGE ANDRES</td>\n",
       "      <td>2</td>\n",
       "      <td>3</td>\n",
       "      <td>4</td>\n",
       "      <td>5</td>\n",
       "      <td>6</td>\n",
       "      <td>7</td>\n",
       "      <td>8</td>\n",
       "      <td>9</td>\n",
       "      <td>10</td>\n",
       "      <td>11</td>\n",
       "    </tr>\n",
       "  </tbody>\n",
       "</table>\n",
       "</div>"
      ],
      "text/plain": [
       "                             Student  Exer1  Exer2  Exer3  Exer4  Exer5  \\\n",
       "0      ACEVEDO CASTILLO MAIRA DAYANA      2      3      4      5      6   \n",
       "1                ACOSTA RUIZ YIRLENA      2      3      4      5      6   \n",
       "2           GUERRERO SANTOS ISABELLA      2      3      4      5      6   \n",
       "3              LEGUIA MEJIA ESTEFANY      2      3      4      5      6   \n",
       "4         LLANO DAVILA DORIAN ANDRES      2      3      4      5      6   \n",
       "5       MARTINEZ BUENO DIEGO ESTEBAN      2      3      4      5      6   \n",
       "6   MORENO BENJUMEA JULIETH FERNANDA      2      3      4      5      6   \n",
       "7       NUNEZ FERNANDEZ TULIO MANUEL      2      3      4      5      6   \n",
       "8   PATERNINA SOLORZANO MARIA ISABEL      2      3      4      5      6   \n",
       "9             PEREZ GARCIA ALEJANDRO      2      3      4      5      6   \n",
       "10      SERENO GUEVARA MARIA CELESTE      2      3      4      5      6   \n",
       "11              SIERRA SERPA YENIFER      2      3      4      5      6   \n",
       "12            VIDAL QUINTERO ELIACIB      2      3      4      5      6   \n",
       "13   VILLADIEGO GALLEGO JORGE ANDRES      2      3      4      5      6   \n",
       "\n",
       "    Exer6  Exer7  Exer8  Exer9  Exer10  \n",
       "0       7      8      9     10      11  \n",
       "1       7      8      9     10      11  \n",
       "2       7      8      9     10      11  \n",
       "3       7      8      9     10      11  \n",
       "4       7      8      9     10      11  \n",
       "5       7      8      9     10      11  \n",
       "6       7      8      9     10      11  \n",
       "7       7      8      9     10      11  \n",
       "8       7      8      9     10      11  \n",
       "9       7      8      9     10      11  \n",
       "10      7      8      9     10      11  \n",
       "11      7      8      9     10      11  \n",
       "12      7      8      9     10      11  \n",
       "13      7      8      9     10      11  "
      ]
     },
     "execution_count": 13,
     "metadata": {},
     "output_type": "execute_result"
    }
   ],
   "source": [
    "# Tarea 2 de solución de problemas \n",
    "# asignación de ejercicios de un seccion del texto guía\n",
    "\n",
    "# numpy.random.choice() obten la documentación de esta función en: \n",
    "# https://numpy.org/doc/stable/reference/random/generated/numpy.random.choice.html\n",
    "\n",
    "import pandas as pd\n",
    "import numpy as np\n",
    "import requests\n",
    "np.random.seed(424)  # establecer semilla aleatoria para hacer los resultados reproducibles\n",
    "\n",
    "\n",
    "\n",
    "grupo_estudiantes = 'math1'\n",
    "nombre_texto_guia = 'Grajales'\n",
    "pagina_y_seccion = 'Página_348_Parte_6'\n",
    "numero_ejercicios_taller = 11\n",
    "numero_de_ejercicios_asignados = 10\n",
    "\n",
    "\n",
    "# Descargar la lista de  estudiantes\n",
    "students_url = \"https://raw.githubusercontent.com/marco-canas/groups_list/main/\" + grupo_estudiantes + \".csv\"\n",
    "exercises = list(range(1, numero_ejercicios_taller))  \n",
    "\n",
    "students_data = pd.read_csv(students_url)\n",
    "\n",
    "# Crear una lista para almacenar las asignaciones\n",
    "assignments = []\n",
    "\n",
    "# Asignar ejercicios aleatorios a cada estudiante\n",
    "for index, student in students_data.iterrows():\n",
    "    # Seleccionar 5 ejercicios aleatorios sin repetición\n",
    "    random_exercises = np.sort(np.random.choice(exercises, numero_de_ejercicios_asignados, replace = False)+ 1 )\n",
    "    assignments.append([students_data[\"Nombre\"][index], *random_exercises])  # Agregar asignación a la lista\n",
    "\n",
    "# Crear un DataFrame con las asignaciones\n",
    "columns = [\"Student\"] + [ \"Exer\" + str(i+1) for i in range(numero_de_ejercicios_asignados)]\n",
    "assignment_df = pd.DataFrame(assignments, columns=columns)\n",
    "\n",
    "# Guardar el DataFrame en un archivo CSV\n",
    "assignment_csv = \"tarea\" + \"_\" + nombre_texto_guia + \"_\"+ pagina_y_seccion + \".csv\"\n",
    "assignment_df.to_csv(assignment_csv, index=False)\n",
    "\n",
    "print(\"Tarea 3 de solución de problemas: \", assignment_csv)\n",
    "assignment_df"
   ]
  },
  {
   "cell_type": "markdown",
   "id": "8b6b0112",
   "metadata": {
    "slideshow": {
     "slide_type": "slide"
    }
   },
   "source": [
    "# Tareas para realizar después de la realización de la clase"
   ]
  },
  {
   "cell_type": "markdown",
   "id": "947460e3",
   "metadata": {
    "slideshow": {
     "slide_type": "slide"
    }
   },
   "source": [
    "* Actividades de memorización: \n",
    "  - escucha reiterada de grabaciones de formulas y resultados científicos. \n",
    "  - relectura de notas. \n",
    "  - ejercicios de mayor complejidad.\n",
    "\n",
    "\n",
    "### No olvide asignar las tareas a los estudiantes a través de Google Colab y compartiendole el cuaderno de asignación a su correo institucional con fecha de entrega. [Google Colab](https://colab.research.google.com/?hl=es)   \n",
    "  "
   ]
  },
  {
   "cell_type": "markdown",
   "id": "d34defb9",
   "metadata": {
    "slideshow": {
     "slide_type": "slide"
    }
   },
   "source": [
    "## Asignación individual de tareas semanales "
   ]
  },
  {
   "cell_type": "code",
   "execution_count": 12,
   "id": "0406f442",
   "metadata": {
    "slideshow": {
     "slide_type": "slide"
    }
   },
   "outputs": [
    {
     "name": "stdout",
     "output_type": "stream",
     "text": [
      "Tarea 3 Solución problemas describiendo y justificando:  tarea_Grajales_Página_348_Parte_6.csv\n"
     ]
    },
    {
     "data": {
      "text/html": [
       "<div>\n",
       "<style scoped>\n",
       "    .dataframe tbody tr th:only-of-type {\n",
       "        vertical-align: middle;\n",
       "    }\n",
       "\n",
       "    .dataframe tbody tr th {\n",
       "        vertical-align: top;\n",
       "    }\n",
       "\n",
       "    .dataframe thead th {\n",
       "        text-align: right;\n",
       "    }\n",
       "</style>\n",
       "<table border=\"1\" class=\"dataframe\">\n",
       "  <thead>\n",
       "    <tr style=\"text-align: right;\">\n",
       "      <th></th>\n",
       "      <th>Student</th>\n",
       "      <th>Exer1</th>\n",
       "      <th>Exer2</th>\n",
       "      <th>Exer3</th>\n",
       "      <th>Exer4</th>\n",
       "      <th>Exer5</th>\n",
       "      <th>Exer6</th>\n",
       "      <th>Exer7</th>\n",
       "      <th>Exer8</th>\n",
       "      <th>Exer9</th>\n",
       "      <th>Exer10</th>\n",
       "    </tr>\n",
       "  </thead>\n",
       "  <tbody>\n",
       "    <tr>\n",
       "      <th>0</th>\n",
       "      <td>ACEVEDO CASTILLO MAIRA DAYANA</td>\n",
       "      <td>2</td>\n",
       "      <td>3</td>\n",
       "      <td>4</td>\n",
       "      <td>5</td>\n",
       "      <td>6</td>\n",
       "      <td>7</td>\n",
       "      <td>8</td>\n",
       "      <td>9</td>\n",
       "      <td>10</td>\n",
       "      <td>11</td>\n",
       "    </tr>\n",
       "    <tr>\n",
       "      <th>1</th>\n",
       "      <td>ACOSTA RUIZ YIRLENA</td>\n",
       "      <td>2</td>\n",
       "      <td>3</td>\n",
       "      <td>4</td>\n",
       "      <td>5</td>\n",
       "      <td>6</td>\n",
       "      <td>7</td>\n",
       "      <td>8</td>\n",
       "      <td>9</td>\n",
       "      <td>10</td>\n",
       "      <td>11</td>\n",
       "    </tr>\n",
       "    <tr>\n",
       "      <th>2</th>\n",
       "      <td>GUERRERO SANTOS ISABELLA</td>\n",
       "      <td>2</td>\n",
       "      <td>3</td>\n",
       "      <td>4</td>\n",
       "      <td>5</td>\n",
       "      <td>6</td>\n",
       "      <td>7</td>\n",
       "      <td>8</td>\n",
       "      <td>9</td>\n",
       "      <td>10</td>\n",
       "      <td>11</td>\n",
       "    </tr>\n",
       "    <tr>\n",
       "      <th>3</th>\n",
       "      <td>LEGUIA MEJIA ESTEFANY</td>\n",
       "      <td>2</td>\n",
       "      <td>3</td>\n",
       "      <td>4</td>\n",
       "      <td>5</td>\n",
       "      <td>6</td>\n",
       "      <td>7</td>\n",
       "      <td>8</td>\n",
       "      <td>9</td>\n",
       "      <td>10</td>\n",
       "      <td>11</td>\n",
       "    </tr>\n",
       "    <tr>\n",
       "      <th>4</th>\n",
       "      <td>LLANO DAVILA DORIAN ANDRES</td>\n",
       "      <td>2</td>\n",
       "      <td>3</td>\n",
       "      <td>4</td>\n",
       "      <td>5</td>\n",
       "      <td>6</td>\n",
       "      <td>7</td>\n",
       "      <td>8</td>\n",
       "      <td>9</td>\n",
       "      <td>10</td>\n",
       "      <td>11</td>\n",
       "    </tr>\n",
       "    <tr>\n",
       "      <th>5</th>\n",
       "      <td>MARTINEZ BUENO DIEGO ESTEBAN</td>\n",
       "      <td>2</td>\n",
       "      <td>3</td>\n",
       "      <td>4</td>\n",
       "      <td>5</td>\n",
       "      <td>6</td>\n",
       "      <td>7</td>\n",
       "      <td>8</td>\n",
       "      <td>9</td>\n",
       "      <td>10</td>\n",
       "      <td>11</td>\n",
       "    </tr>\n",
       "    <tr>\n",
       "      <th>6</th>\n",
       "      <td>MORENO BENJUMEA JULIETH FERNANDA</td>\n",
       "      <td>2</td>\n",
       "      <td>3</td>\n",
       "      <td>4</td>\n",
       "      <td>5</td>\n",
       "      <td>6</td>\n",
       "      <td>7</td>\n",
       "      <td>8</td>\n",
       "      <td>9</td>\n",
       "      <td>10</td>\n",
       "      <td>11</td>\n",
       "    </tr>\n",
       "    <tr>\n",
       "      <th>7</th>\n",
       "      <td>NUNEZ FERNANDEZ TULIO MANUEL</td>\n",
       "      <td>2</td>\n",
       "      <td>3</td>\n",
       "      <td>4</td>\n",
       "      <td>5</td>\n",
       "      <td>6</td>\n",
       "      <td>7</td>\n",
       "      <td>8</td>\n",
       "      <td>9</td>\n",
       "      <td>10</td>\n",
       "      <td>11</td>\n",
       "    </tr>\n",
       "    <tr>\n",
       "      <th>8</th>\n",
       "      <td>PATERNINA SOLORZANO MARIA ISABEL</td>\n",
       "      <td>2</td>\n",
       "      <td>3</td>\n",
       "      <td>4</td>\n",
       "      <td>5</td>\n",
       "      <td>6</td>\n",
       "      <td>7</td>\n",
       "      <td>8</td>\n",
       "      <td>9</td>\n",
       "      <td>10</td>\n",
       "      <td>11</td>\n",
       "    </tr>\n",
       "    <tr>\n",
       "      <th>9</th>\n",
       "      <td>PEREZ GARCIA ALEJANDRO</td>\n",
       "      <td>2</td>\n",
       "      <td>3</td>\n",
       "      <td>4</td>\n",
       "      <td>5</td>\n",
       "      <td>6</td>\n",
       "      <td>7</td>\n",
       "      <td>8</td>\n",
       "      <td>9</td>\n",
       "      <td>10</td>\n",
       "      <td>11</td>\n",
       "    </tr>\n",
       "    <tr>\n",
       "      <th>10</th>\n",
       "      <td>SERENO GUEVARA MARIA CELESTE</td>\n",
       "      <td>2</td>\n",
       "      <td>3</td>\n",
       "      <td>4</td>\n",
       "      <td>5</td>\n",
       "      <td>6</td>\n",
       "      <td>7</td>\n",
       "      <td>8</td>\n",
       "      <td>9</td>\n",
       "      <td>10</td>\n",
       "      <td>11</td>\n",
       "    </tr>\n",
       "    <tr>\n",
       "      <th>11</th>\n",
       "      <td>SIERRA SERPA YENIFER</td>\n",
       "      <td>2</td>\n",
       "      <td>3</td>\n",
       "      <td>4</td>\n",
       "      <td>5</td>\n",
       "      <td>6</td>\n",
       "      <td>7</td>\n",
       "      <td>8</td>\n",
       "      <td>9</td>\n",
       "      <td>10</td>\n",
       "      <td>11</td>\n",
       "    </tr>\n",
       "    <tr>\n",
       "      <th>12</th>\n",
       "      <td>VIDAL QUINTERO ELIACIB</td>\n",
       "      <td>2</td>\n",
       "      <td>3</td>\n",
       "      <td>4</td>\n",
       "      <td>5</td>\n",
       "      <td>6</td>\n",
       "      <td>7</td>\n",
       "      <td>8</td>\n",
       "      <td>9</td>\n",
       "      <td>10</td>\n",
       "      <td>11</td>\n",
       "    </tr>\n",
       "    <tr>\n",
       "      <th>13</th>\n",
       "      <td>VILLADIEGO GALLEGO JORGE ANDRES</td>\n",
       "      <td>2</td>\n",
       "      <td>3</td>\n",
       "      <td>4</td>\n",
       "      <td>5</td>\n",
       "      <td>6</td>\n",
       "      <td>7</td>\n",
       "      <td>8</td>\n",
       "      <td>9</td>\n",
       "      <td>10</td>\n",
       "      <td>11</td>\n",
       "    </tr>\n",
       "  </tbody>\n",
       "</table>\n",
       "</div>"
      ],
      "text/plain": [
       "                             Student  Exer1  Exer2  Exer3  Exer4  Exer5  \\\n",
       "0      ACEVEDO CASTILLO MAIRA DAYANA      2      3      4      5      6   \n",
       "1                ACOSTA RUIZ YIRLENA      2      3      4      5      6   \n",
       "2           GUERRERO SANTOS ISABELLA      2      3      4      5      6   \n",
       "3              LEGUIA MEJIA ESTEFANY      2      3      4      5      6   \n",
       "4         LLANO DAVILA DORIAN ANDRES      2      3      4      5      6   \n",
       "5       MARTINEZ BUENO DIEGO ESTEBAN      2      3      4      5      6   \n",
       "6   MORENO BENJUMEA JULIETH FERNANDA      2      3      4      5      6   \n",
       "7       NUNEZ FERNANDEZ TULIO MANUEL      2      3      4      5      6   \n",
       "8   PATERNINA SOLORZANO MARIA ISABEL      2      3      4      5      6   \n",
       "9             PEREZ GARCIA ALEJANDRO      2      3      4      5      6   \n",
       "10      SERENO GUEVARA MARIA CELESTE      2      3      4      5      6   \n",
       "11              SIERRA SERPA YENIFER      2      3      4      5      6   \n",
       "12            VIDAL QUINTERO ELIACIB      2      3      4      5      6   \n",
       "13   VILLADIEGO GALLEGO JORGE ANDRES      2      3      4      5      6   \n",
       "\n",
       "    Exer6  Exer7  Exer8  Exer9  Exer10  \n",
       "0       7      8      9     10      11  \n",
       "1       7      8      9     10      11  \n",
       "2       7      8      9     10      11  \n",
       "3       7      8      9     10      11  \n",
       "4       7      8      9     10      11  \n",
       "5       7      8      9     10      11  \n",
       "6       7      8      9     10      11  \n",
       "7       7      8      9     10      11  \n",
       "8       7      8      9     10      11  \n",
       "9       7      8      9     10      11  \n",
       "10      7      8      9     10      11  \n",
       "11      7      8      9     10      11  \n",
       "12      7      8      9     10      11  \n",
       "13      7      8      9     10      11  "
      ]
     },
     "execution_count": 12,
     "metadata": {},
     "output_type": "execute_result"
    }
   ],
   "source": [
    "# Tarea 3 de solución de problemas describiendo procedimientos y justificándolos\n",
    "\n",
    "# asignación de ejercicios de un seccion del texto guía\n",
    "\n",
    "# numpy.random.choice() obten la documentación de esta función en: \n",
    "# https://numpy.org/doc/stable/reference/random/generated/numpy.random.choice.html\n",
    "\n",
    "import pandas as pd\n",
    "import numpy as np\n",
    "import requests\n",
    "np.random.seed(126)  # establecer semilla aleatoria para hacer los resultados reproducibles\n",
    "\n",
    "\n",
    "\n",
    "grupo_estudiantes = 'math1'\n",
    "nombre_texto_guia = 'Grajales'\n",
    "pagina_y_seccion = 'Página_348_Parte_6'\n",
    "numero_ejercicios_taller = 11\n",
    "numero_de_ejercicios_asignados = 10\n",
    "\n",
    "# Descargar la lista de  estudiantes\n",
    "students_url = \"https://raw.githubusercontent.com/marco-canas/groups_list/main/\" + grupo_estudiantes + \".csv\"\n",
    "exercises = list(range(1, numero_ejercicios_taller))  \n",
    "\n",
    "students_data = pd.read_csv(students_url)\n",
    "\n",
    "# Crear una lista para almacenar las asignaciones\n",
    "assignments = []\n",
    "\n",
    "# Asignar ejercicios aleatorios a cada estudiante\n",
    "for index, student in students_data.iterrows():\n",
    "    # Seleccionar 5 ejercicios aleatorios sin repetición\n",
    "    random_exercises = np.sort(np.random.choice(exercises, numero_de_ejercicios_asignados, replace = False)+ 1 )\n",
    "    assignments.append([students_data[\"Nombre\"][index], *random_exercises])  # Agregar asignación a la lista\n",
    "\n",
    "# Crear un DataFrame con las asignaciones\n",
    "columns = [\"Student\"] + [ \"Exer\" + str(i+1) for i in range(numero_de_ejercicios_asignados)]\n",
    "assignment_df = pd.DataFrame(assignments, columns=columns)\n",
    "\n",
    "# Guardar el DataFrame en un archivo CSV\n",
    "assignment_csv = \"tarea\" + \"_\" + nombre_texto_guia + \"_\"+ pagina_y_seccion + \".csv\"\n",
    "assignment_df.to_csv(assignment_csv, index=False)\n",
    "\n",
    "print(\"Tarea 3 Solución problemas describiendo y justificando: \", assignment_csv)\n",
    "assignment_df"
   ]
  },
  {
   "cell_type": "markdown",
   "id": "742281f4",
   "metadata": {},
   "source": [
    "# No olvide la tarea de realizar la foda para autoevaluarse\n",
    "\n",
    "Fortalezas: F  \n",
    "Oportuniudades O:  \n",
    "Debilidades: D:   \n",
    "Amenazas: A:     "
   ]
  },
  {
   "cell_type": "markdown",
   "id": "8d41fe58",
   "metadata": {
    "slideshow": {
     "slide_type": "slide"
    }
   },
   "source": [
    "# Horario de clases del profesor Marco\n",
    "\n",
    "* Martes y jueves de 10 a 12: Fundamentos de las matemáticas\n",
    "* Martes y jueves de 2 a 4 PM: Fundamentos de la aritmética\n",
    "\n",
    "* Didáctica de la aritmética: Miércoles de 8 - 12\n",
    "\n"
   ]
  },
  {
   "cell_type": "markdown",
   "id": "ae114e14",
   "metadata": {
    "slideshow": {
     "slide_type": "slide"
    }
   },
   "source": [
    "# Horarios de monitoría y asesoría"
   ]
  },
  {
   "cell_type": "markdown",
   "id": "b1db4b6c",
   "metadata": {
    "slideshow": {
     "slide_type": "slide"
    }
   },
   "source": [
    "## Monitor Manuel"
   ]
  },
  {
   "cell_type": "markdown",
   "id": "39559692",
   "metadata": {
    "slideshow": {
     "slide_type": "slide"
    }
   },
   "source": [
    "Martes y jueves de 8 - 12  \n",
    "Miércoles 10 - 12 y de 2 a 4 PM  \n",
    "Sábado: 8 - 12"
   ]
  },
  {
   "cell_type": "markdown",
   "id": "935a5567",
   "metadata": {
    "slideshow": {
     "slide_type": "slide"
    }
   },
   "source": [
    "## Dificultades de aprendizaje detectados durante la clase"
   ]
  },
  {
   "cell_type": "markdown",
   "id": "3bd7500d",
   "metadata": {
    "slideshow": {
     "slide_type": "slide"
    }
   },
   "source": []
  },
  {
   "cell_type": "markdown",
   "id": "fb9402bb",
   "metadata": {
    "slideshow": {
     "slide_type": "slide"
    }
   },
   "source": [
    "## Estrategias propuestas para la solución de las dificultades de aprendizaje detectadas"
   ]
  },
  {
   "cell_type": "markdown",
   "id": "d437294b",
   "metadata": {
    "slideshow": {
     "slide_type": "slide"
    }
   },
   "source": []
  },
  {
   "cell_type": "markdown",
   "id": "d11570a2",
   "metadata": {
    "slideshow": {
     "slide_type": "slide"
    }
   },
   "source": []
  },
  {
   "cell_type": "markdown",
   "id": "319f2ffa",
   "metadata": {
    "slideshow": {
     "slide_type": "slide"
    }
   },
   "source": [
    "## Grabaciones en audio para fomentar la capacidad de memorizar enunciados de teoremas y resultados científicos y la capacidad de parafrasear estos resultados. Y así desarrollar memoria muscular para los comandos comunes. \n",
    "Se dispondrá de un lugar en Vocaroo para albergar archivos de audio de fomento a la memorización, enunciación y parafraseo de los resultados científicos, propiedades, reglas, etc. \n",
    "\n",
    "[Vocaroo](https://vocaroo.com/)\n",
    "\n"
   ]
  },
  {
   "cell_type": "markdown",
   "id": "564fa59d",
   "metadata": {
    "slideshow": {
     "slide_type": "slide"
    }
   },
   "source": [
    "### Comparta sus cuadernos y videos, evidencias de su aprendizaje [aquí](https://forms.office.com/Pages/ResponsePage.aspx?id=IefhmYRxjkmK_7KtTlPBwkanXIs1i1FEujpsZgO6dXpUMEMwTEZVMzEwVVBPTElWNVg5OVEyWUhMUy4u)"
   ]
  },
  {
   "cell_type": "markdown",
   "id": "1a1a3e41",
   "metadata": {
    "slideshow": {
     "slide_type": "slide"
    }
   },
   "source": []
  },
  {
   "cell_type": "markdown",
   "id": "44be6d93",
   "metadata": {
    "slideshow": {
     "slide_type": "slide"
    }
   },
   "source": [
    "# Vocabulary "
   ]
  },
  {
   "cell_type": "markdown",
   "id": "35e2484a",
   "metadata": {
    "slideshow": {
     "slide_type": "slide"
    }
   },
   "source": [
    "1. \n",
    "2.  \n",
    "3.  \n",
    "4.  \n",
    "5.  "
   ]
  },
  {
   "cell_type": "markdown",
   "id": "94187562",
   "metadata": {},
   "source": [
    "# Colección de verbos irregulares aprendidos\n",
    "\n",
    "|Verbo irregular en presente|en español|Pasado|\n",
    "|---------------------------|----------|------|  \n",
    "|choose|elegir|chose|"
   ]
  },
  {
   "cell_type": "markdown",
   "id": "0266e3c5",
   "metadata": {
    "slideshow": {
     "slide_type": "slide"
    }
   },
   "source": [
    "## Quiz de 20 minutos para ejercitación y adquisición de habilidades "
   ]
  },
  {
   "cell_type": "markdown",
   "id": "3a1b127f",
   "metadata": {
    "slideshow": {
     "slide_type": "slide"
    }
   },
   "source": [
    "* Pregunta 1: \n",
    "* Pregunta 2: \n",
    "* Pregunta 3: "
   ]
  },
  {
   "cell_type": "markdown",
   "id": "10bce0d0",
   "metadata": {
    "slideshow": {
     "slide_type": "slide"
    }
   },
   "source": [
    "## Referentes "
   ]
  },
  {
   "cell_type": "markdown",
   "id": "1db3c468",
   "metadata": {
    "slideshow": {
     "slide_type": "slide"
    }
   },
   "source": [
    "* Chollet, F. (2021). Deep learning with Python. Simon and Schuster.  \n",
    "  \n",
    "* [stewart precálculo](https://udeaeduco-my.sharepoint.com/:b:/g/personal/marco_canas_udea_edu_co/ERHIq62I6qFNrmxy6LZb8ZMBci7kUsyNME1nIh9yCBMJ_w?e=0zMSla)  \n",
    "\n",
    "* [stewart cálculo](https://udeaeduco-my.sharepoint.com/:b:/g/personal/marco_canas_udea_edu_co/EZgXZjAp8QxPqOAim2hs6LcBNPLGjSHf-xwYnUVYkwa04w?e=RZdTCy)  \n",
    "\n",
    "* [larson](https://udeaeduco-my.sharepoint.com/:b:/g/personal/marco_canas_udea_edu_co/ES71ChFeO9ZDhW3TwC5Ijk8BjxUK3Pdqz_fjHxTTFAfIAg?e=VDEjfu)\n",
    "\n",
    "* [uzcategui](https://udeaeduco-my.sharepoint.com/:b:/g/personal/marco_canas_udea_edu_co/ETDikm-lVl1Or8XoEo9oyh0BEti9Zs8le-f0D-dBdtZmbA?e=bBsoyQ)\n",
    "\n",
    "* [Cálculo de Purcell](https://udeaeduco-my.sharepoint.com/:b:/g/personal/marco_canas_udea_edu_co/ES60UB4h-QFFqqRQUFmkpWcBIgoLBJeqTfZjNajWNWSeJA?e=9NxjKJ)\n",
    "\n",
    "* [Recomendación de la UNESCO sobre ciencia abierta](https://unesdoc.unesco.org/ark:/48223/pf0000379949_spa)\n",
    "\n",
    "* [Fórmulas más comunes en latex](https://wiki.geogebra.org/es/C%C3%B3digo_LaTeX_para_las_f%C3%B3rmulas_m%C3%A1s_comunes) \n",
    "\n",
    "* [chatGPT](https://openai.com/blog/chatgpt)  \n",
    "\n",
    "* Géron, A. (2017). Hands-on machine learning with scikit-learn and tensorflow: Concepts. Tools, and Techniques to build intelligent systems.[Geron, Aurelien. Hands on Machine Learning](https://udeaeduco-my.sharepoint.com/:b:/g/personal/marco_canas_udea_edu_co/Ecet27yjQzZIlT1Y_Bc2erkBUhbeYuIe6HG8i1FYZRlZww?e=dlvZ4v)  \n",
    "\n",
    "* McKinney, W. (2012). Python for data analysis: Data wrangling with Pandas, NumPy, and IPython. \" O'Reilly Media, Inc.\".[Wes Mackinney. ](https://udeaeduco-my.sharepoint.com/:b:/g/personal/marco_canas_udea_edu_co/EVbi5JIeBl9ErbiUnZfGe8YBhNTnZ8sxTK5hjIOPK4UpGw?e=fFclah)  \n",
    "\n",
    "* [Ledezma, C., Font, V., & Sala-Sebastià, G. MODELIZACIÓN MATEMÁTICA DESDE UNA ARTICULACIÓN TEÓRICA ENTRE LOS ENFOQUES COGNITIVO Y ONTO-SEMIÓTICO.](https://www.researchgate.net/profile/Carlos-Ledezma-4/publication/376076920_Modelizacion_matematica_desde_una_articulacion_teorica_entre_los_enfoques_cognitivo_y_onto-semiotico/links/6568cb363fa26f66f43b292a/Modelizacion-matematica-desde-una-articulacion-teorica-entre-los-enfoques-cognitivo-y-onto-semiotico.pdf)"
   ]
  },
  {
   "cell_type": "markdown",
   "id": "45c59aa9",
   "metadata": {},
   "source": [
    "[Autoevaluemonos para hacernos concientes de nuestro aprendizaje y en lo que debemos enfocarnos en mejorar]()  \n",
    "\n",
    "Aquí tienes una lista de preguntas de selección múltiple para una autoevaluación en un curso de cálculo con un enfoque pedagógico de aula invertida. Estas preguntas abarcan los objetivos de desarrollo del pensamiento variacional, pensamiento computacional a través de Python, capacidad de comunicación científica con LaTeX, Git y el uso de cuadernos Jupyter, así como la promoción de políticas de ciencia libre. \n",
    "\n",
    "1. **Pensamiento Variacional:**\n",
    "   a. ¿Qué significa el término \"variación\" en el contexto del pensamiento variacional?\n",
    "   b. ¿Cómo se relaciona el cálculo con el pensamiento variacional?\n",
    "   c. ¿Puede proporcionar un ejemplo práctico que ilustre el concepto de variación en un problema de cálculo?\n",
    "\n",
    "2. **Pensamiento Computacional (Python):**\n",
    "   a. ¿Cuál es el propósito principal de utilizar Python en un curso de cálculo?\n",
    "   b. ¿Cómo se puede utilizar Python para resolver problemas matemáticos complejos?\n",
    "   c. Menciona al menos dos ventajas de usar Python en comparación con otros lenguajes de programación en el contexto del cálculo.\n"
   ]
  },
  {
   "cell_type": "markdown",
   "id": "5a87c8c8",
   "metadata": {},
   "source": [
    "\n",
    "3. **Comunicación Científica (LaTeX):**\n",
    "   a. ¿Por qué es importante utilizar LaTeX para la comunicación científica en matemáticas y ciencias?\n",
    "   b. Enumera al menos tres comandos básicos de LaTeX utilizados para escribir ecuaciones matemáticas.\n",
    "   c. ¿Cómo mejorarías la presentación visual de una fórmula matemática utilizando LaTeX?\n",
    "\n",
    "4. **Gestión de Versiones (Git):**\n",
    "   a. ¿Cuál es el propósito principal de utilizar Git en el desarrollo de proyectos científicos?\n",
    "   b. Explica el concepto de \"commit\" en Git.\n",
    "   c. ¿Cómo resolverías un conflicto de fusión (merge conflict) en Git?\n",
    "\n",
    "5. **Cuadernos Jupyter:**\n",
    "   a. ¿Cuáles son las ventajas de utilizar cuadernos Jupyter en comparación con otros entornos de desarrollo?\n",
    "   b. Describe cómo se integra el código Python y la documentación en un cuaderno Jupyter.\n",
    "   c. ¿Cómo compartirías un cuaderno Jupyter con tus compañeros de clase utilizando GitHub?\n",
    "\n",
    "6. **Promoción de Políticas de Ciencia Libre:**\n",
    "   a. ¿Cuáles son los beneficios de utilizar plataformas como GitHub y YouTube para compartir recursos científicos?\n",
    "   b. ¿Cómo podrías contribuir a la promoción de la ciencia libre en tu comunidad académica?\n",
    "   c. ¿Por qué es importante la transparencia y accesibilidad en la investigación científica?\n",
    "\n",
    "Estas preguntas están diseñadas para evaluar la comprensión de los estudiantes en diversos aspectos del curso, abarcando desde los conceptos matemáticos hasta las habilidades tecnológicas y la conciencia sobre la ciencia libre."
   ]
  },
  {
   "cell_type": "markdown",
   "id": "8e65d6f9",
   "metadata": {},
   "source": [
    "# Como estudiante, encuentro que...   \n",
    "\n",
    "F: Mis Fortalezas son:     \n",
    "O: Mis Oportunidades son:    \n",
    "D: Mis Debilidades son:    \n",
    "A: Lo que Amenazas mi aprendizaje es:  "
   ]
  },
  {
   "cell_type": "markdown",
   "id": "6b9e56a8",
   "metadata": {
    "slideshow": {
     "slide_type": "slide"
    }
   },
   "source": [
    "### [Evaluamos al profesor Marco Cañas Aquí](https://forms.office.com/Pages/ResponsePage.aspx?id=IefhmYRxjkmK_7KtTlPBwkanXIs1i1FEujpsZgO6dXpUREJPV1kxUk1JV1ozTFJIQVNIQjY5WEY3US4u)"
   ]
  },
  {
   "cell_type": "markdown",
   "id": "050b9508",
   "metadata": {},
   "source": [
    "# Aportes de mis estudiantes a la metodología del curso  \n",
    "1. \n",
    "\n",
    "Sus opiniones y aportes son muy importantes para mi. Pues esta es una investigación educativa y un servicio de enseñanza para ustedes. Ustedes son la razón de ser de mi actividad docente. Dios los bendiga. "
   ]
  },
  {
   "cell_type": "markdown",
   "id": "6c4af91f",
   "metadata": {},
   "source": [
    "# Aportes de mis colegas docentes a la metodología que estoy aplicando en mis cursos. "
   ]
  },
  {
   "cell_type": "markdown",
   "id": "071afa04",
   "metadata": {
    "slideshow": {
     "slide_type": "slide"
    }
   },
   "source": [
    "## [Evaluación luego de alcanzar estos objetivos de aprendizaje]()"
   ]
  },
  {
   "cell_type": "markdown",
   "id": "10f43536",
   "metadata": {
    "slideshow": {
     "slide_type": "slide"
    }
   },
   "source": [
    "### Continue su aprendizaje en la siguiente clase a través del siguiente [vínculo]()"
   ]
  },
  {
   "cell_type": "markdown",
   "id": "af751e30",
   "metadata": {
    "slideshow": {
     "slide_type": "slide"
    }
   },
   "source": [
    "# Conjeturas pedagógicas fruto de la aplicación del modelo de aprendizaje invertido y del enfoque hacia la ciencia de datos con python\n",
    "\n",
    "1. Todo cálculo o resultado debe ser interpretado en una línea markdown del cuaderno Jupyter, inmediatamente después de la enunciación del resultado y después de la presentación de una tabla o gráfico bidimensional, de tal menera que el estudiante explicite la comprensión verbal del resultado y las inferencias o estrategias que este resultado le sugieren.  \n",
    "\n",
    "2. Debo colocar las conjeturas pedagógicas, que el uso en el aula de [ChatGPT](https://openai.com/blog/chatgpt/) traiga para la enseñanza y el aprendizaje de las matemáticas. \n",
    "\n",
    "3. Promover ciencia abierta en clase de matemáticas puede ser pidiendo a los estudiantes, tomar nota en clase pero en cuadernos Jupyter y entregar siempre al final de cada clase su cuaderno con todas las notas y experimentaciones de clase replicadas. \n",
    "4. Profesor Marco, ¿ha contemplado la posibilidad de intercambio de experiencias de aprendizaje y aplicación de Python al día a día con comfama? (Estudio Trabajo Social y allí, en comfama, aprendí los fundamentos, lo básico de Python)\n",
    "\n",
    "¿Conoce si en la Universidad de Antioquia hay medios para poder aprender Swift/XCODE? (Para programar para dispositivos de Apple)\n",
    "5. Debo considerar la metodología ABP, es decir, diseñar las clase bajo la metodología de Aprendizaje Basado en Problemas. \n",
    "\n"
   ]
  },
  {
   "cell_type": "markdown",
   "id": "53cc9115",
   "metadata": {
    "slideshow": {
     "slide_type": "slide"
    }
   },
   "source": [
    "## Agradecimientos  \n",
    "\n",
    "Doy gracias a Dios por la vida de mi Hijo Joseph Cañas Osorio y la madurez que ha alcanzado.\n",
    "\n",
    "Y a mi esposa Yasmira por su apoyo, orientación y acompañamiento. "
   ]
  }
 ],
 "metadata": {
  "celltoolbar": "Slideshow",
  "kernelspec": {
   "display_name": "Python 3 (ipykernel)",
   "language": "python",
   "name": "python3"
  },
  "language_info": {
   "codemirror_mode": {
    "name": "ipython",
    "version": 3
   },
   "file_extension": ".py",
   "mimetype": "text/x-python",
   "name": "python",
   "nbconvert_exporter": "python",
   "pygments_lexer": "ipython3",
   "version": "3.10.12"
  },
  "rise": {
   "enable_chalkboard": true,
   "theme": "sky",
   "transition": "zoom"
  }
 },
 "nbformat": 4,
 "nbformat_minor": 5
}
