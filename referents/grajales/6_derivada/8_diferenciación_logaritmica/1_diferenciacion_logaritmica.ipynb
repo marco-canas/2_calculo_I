{
 "cells": [
  {
   "cell_type": "markdown",
   "id": "dc06dec7",
   "metadata": {
    "slideshow": {
     "slide_type": "slide"
    }
   },
   "source": [
    "<table align=\"left\">\n",
    "  <td>\n",
    "    <a href=\"https://colab.research.google.com/github/marco-canas/calculo/blob/main/referents/grajales/6_derivada/8_diferenciaci%C3%B3n_logaritmica/1_diferenciacion_logaritmica.ipynb\" target=\"_parent\"><img src=\"https://colab.research.google.com/assets/colab-badge.svg\" alt=\"Open In Colab\"/></a>\n",
    "  </td>\n",
    "  <td>\n",
    "    <a target=\"_blank\" href=\"https://kaggle.com/kernels/welcome?src=https://github.com/marco-canas/calculo/blob/main/referents/grajales/6_derivada/8_diferenciaci%C3%B3n_logaritmica/1_diferenciacion_logaritmica.ipynb\"><img src=\"https://kaggle.com/static/images/open-in-kaggle.svg\" /></a>\n",
    "  </td>\n",
    "</table>"
   ]
  },
  {
   "cell_type": "markdown",
   "id": "e0c5b198",
   "metadata": {
    "slideshow": {
     "slide_type": "slide"
    }
   },
   "source": [
    "### [Video de apoyo a la lectura interactiva y experimental de este cuaderno](https://www.youtube.com/watch?v=Kjmah_u1b0E)"
   ]
  },
  {
   "cell_type": "markdown",
   "id": "41e82203",
   "metadata": {
    "slideshow": {
     "slide_type": "slide"
    }
   },
   "source": [
    "## [Vínculo al programa del curso de matemáticas I:](https://github.com/marco-canas/calculo/blob/main/programas_de_curso/plan%20del%20curso_matematicas_I_administracion_empresas.docx)\n",
    "\n"
   ]
  },
  {
   "cell_type": "markdown",
   "id": "d11ab06d",
   "metadata": {
    "slideshow": {
     "slide_type": "slide"
    }
   },
   "source": [
    "Un reconocimiento a mis estudiantes que han construido conmigo este saber pedagógico:\n",
    "\n",
    "<img src = 'https://github.com/marco-canas/calculo/blob/main/images/student_images/5_administracion_de_empresas/administracion_de_empresas_2024-06-15.jpeg?raw=true' width = 400>  \n",
    "\n"
   ]
  },
  {
   "cell_type": "markdown",
   "id": "ae9860dc",
   "metadata": {},
   "source": [
    "# Cómo mejorar cada día la propuesta didáctica y pedagógica para enseñanza de la matemática\n"
   ]
  },
  {
   "cell_type": "markdown",
   "id": "1014ce5d",
   "metadata": {},
   "source": [
    "\n",
    "Para estructurar una propuesta pedagógica y didáctica centrada en mostrar la matemática como un lenguaje que ayuda a la comunicación científica y cotidiana, e integrar la enseñanza del inglés, el lenguaje Markdown, el lenguaje Python en los cuadernos Jupyter, y adoptar un enfoque pedagógico de aula invertida y una metodología de clase basada en problemas (ABP), puedes seguir los siguientes pasos:\n"
   ]
  },
  {
   "cell_type": "markdown",
   "id": "19b90db0",
   "metadata": {},
   "source": [
    "\n",
    "1. **Diagnóstico de necesidades:**\n",
    "   - Realiza un análisis detallado de las necesidades y habilidades de los estudiantes en matemáticas, inglés y tecnología.\n",
    "   - Identifica las áreas de dificultad y las áreas en las que los estudiantes muestran interés.\n"
   ]
  },
  {
   "cell_type": "markdown",
   "id": "4a85e2ae",
   "metadata": {},
   "source": [
    "\n",
    "2. **Definición de objetivos:**\n",
    "   - Establece objetivos claros y alcanzables que integren el aprendizaje de matemáticas, inglés y tecnología.\n",
    "   - Los objetivos deben centrarse en mejorar la comprensión de conceptos matemáticos, desarrollar habilidades en inglés y fomentar la competencia en el uso de herramientas tecnológicas.\n"
   ]
  },
  {
   "cell_type": "markdown",
   "id": "095a99c2-08ff-42bc-95f6-928b0fdd158d",
   "metadata": {},
   "source": [
    "3. **Diseño de actividades y recursos:**\n",
    "   - Diseña actividades interactivas y colaborativas que permitan a los estudiantes explorar conceptos matemáticos a través del uso de cuadernos Jupyter, Python y Markdown.\n",
    "   - Incorpora lecturas y ejercicios en inglés relacionados con conceptos matemáticos para fortalecer el vocabulario y la comprensión del idioma.\n",
    "   - Utiliza recursos multimedia, como videos y tutoriales en línea, para apoyar el aprendizaje autónomo de los estudiantes."
   ]
  },
  {
   "cell_type": "markdown",
   "id": "4de25cc0-499b-4bff-b45a-216cf96d4075",
   "metadata": {},
   "source": [
    "4. **Implementación del enfoque pedagógico de aula invertida:**\n",
    "   - Proporciona a los estudiantes acceso a materiales de aprendizaje antes de la clase, como cuadernos Jupyter con ejercicios y lecturas en inglés.\n",
    "   - Utiliza el tiempo en clase para actividades prácticas y colaborativas, donde los estudiantes puedan aplicar los conceptos aprendidos, resolver problemas y discutir en grupos.\n"
   ]
  },
  {
   "cell_type": "markdown",
   "id": "d204b846",
   "metadata": {},
   "source": [
    "\n",
    "5. **Metodología de clase basada en problemas (ABP):**\n",
    "   - Plantea problemas y desafíos relacionados con situaciones reales que requieran el uso de conceptos matemáticos, el inglés y la tecnología para su solución.\n",
    "   - Fomenta la participación activa de los estudiantes en la resolución de problemas, la discusión de estrategias y la presentación de soluciones.\n"
   ]
  },
  {
   "cell_type": "markdown",
   "id": "325fabcb",
   "metadata": {},
   "source": [
    "\n",
    "6. **Evaluación y retroalimentación:**\n",
    "   - Implementa un sistema de evaluación formativa que permita monitorear el progreso de los estudiantes de manera continua.\n",
    "   - Proporciona retroalimentación individualizada y oportunidades para la reflexión sobre el aprendizaje y el desarrollo de habilidades.\n"
   ]
  },
  {
   "cell_type": "markdown",
   "id": "00b9eb9b",
   "metadata": {},
   "source": [
    "\n",
    "7. **Mejora continua:**\n",
    "   - Recopila retroalimentación de los estudiantes y realiza ajustes en el plan de enseñanza según sea necesario.\n",
    "   - Mantente al tanto de las nuevas tendencias y herramientas en matemáticas, tecnología y enseñanza de idiomas para seguir mejorando la propuesta pedagógica y didáctica.\n"
   ]
  },
  {
   "cell_type": "markdown",
   "id": "abe17a1d",
   "metadata": {},
   "source": [
    "\n",
    "Al seguir estos pasos, podrás estructurar una propuesta pedagógica y didáctica efectiva que integre la enseñanza de matemáticas, inglés y tecnología, y promueva el aprendizaje significativo y el desarrollo de habilidades clave en los estudiantes de la licenciatura en matemáticas."
   ]
  },
  {
   "cell_type": "code",
   "execution_count": 9,
   "id": "7604880f",
   "metadata": {
    "slideshow": {
     "slide_type": "slide"
    }
   },
   "outputs": [],
   "source": [
    "# Llamar a lista o tomar asistencia con python \n",
    "\n",
    "import pandas as pd # convertir la lista de estudiantes en un dataframe\n",
    "import numpy as np # elección aleatoria\n",
    "\n",
    "# Cargar la lista de estudiantes desde la URL\n",
    "url = 'https://raw.githubusercontent.com/marco-canas/groups_list/main/math1.csv'\n",
    "estudiantes = pd.read_csv(url) # convierte el csv en una dataframe\n",
    "\n",
    "# Convertir la columna 'Nombre' a una lista de Python\n",
    "lista_estudiantes = estudiantes['Nombre'].tolist()\n",
    "\n",
    "# Función para llamar a un estudiante aleatoriamente y registrar su nota de seguimiento\n",
    "def llamar_estudiante():\n",
    "    if lista_estudiantes:\n",
    "        estudiante_aleatorio = np.random.choice(lista_estudiantes)\n",
    "        print(f\"Llamando a {estudiante_aleatorio}...\")\n",
    "        lista_estudiantes.remove(estudiante_aleatorio)\n",
    "    else:\n",
    "        print(\"Se han llamado a todos los estudiantes del grupo completo.\")\n"
   ]
  },
  {
   "cell_type": "code",
   "execution_count": 11,
   "id": "d60b2bf1",
   "metadata": {},
   "outputs": [
    {
     "name": "stdout",
     "output_type": "stream",
     "text": [
      "Llamando a ACOSTA RUIZ YIRLENA...\n"
     ]
    }
   ],
   "source": [
    "\n",
    "# Llamar a la función para realizar el proceso\n",
    "llamar_estudiante()\n"
   ]
  },
  {
   "cell_type": "markdown",
   "id": "4f9d8cf9",
   "metadata": {
    "slideshow": {
     "slide_type": "slide"
    }
   },
   "source": [
    "# Modelo general de clase: [aula invertida](https://www3.gobiernodecanarias.org/medusa/ecoescuela/pedagotic/aprendizaje-invertido-flipped-classroom/)"
   ]
  },
  {
   "cell_type": "markdown",
   "id": "eb6ed03a",
   "metadata": {},
   "source": [
    "![Definamos flipped learning de manera gráfica](https://resources.maneuveringthemiddle.com/wp-content/uploads/2020/07/04212706/1-5.png)"
   ]
  },
  {
   "cell_type": "markdown",
   "id": "8d97dc80",
   "metadata": {
    "slideshow": {
     "slide_type": "slide"
    }
   },
   "source": [
    "## Fomento de la lectura literaria asociada a Ingeniería agropecuaria y licenciatura en Matemáticas\n",
    "\n",
    "[Deshacer la ansiedad](https://github.com/marco-canas/deshacer_la_ansiedad/blob/main/13_cap_ajusta_la_dosis/13_cap_ajusta_la_dosis.ipynb)"
   ]
  },
  {
   "cell_type": "markdown",
   "id": "96775931",
   "metadata": {
    "slideshow": {
     "slide_type": "slide"
    }
   },
   "source": [
    "## Título de la clase: Cómo determinar la derivada de una función que está definida con potencias de exponentes grandes o fraccionarios  \n",
    "\n"
   ]
  },
  {
   "cell_type": "markdown",
   "id": "1d38dd4e",
   "metadata": {
    "slideshow": {
     "slide_type": "slide"
    }
   },
   "source": [
    "### Objetivo de aprendizaje (Enunciar, de manera corta sencilla y clara para todos los asistentes)\n",
    "\n",
    "* Que el estudiante de administración de empresas aprenda a derivar función definidas de manera muy compleja utilizando las bondades del operador logaritmo. "
   ]
  },
  {
   "cell_type": "markdown",
   "id": "913db9ab",
   "metadata": {},
   "source": [
    "### Objetivo de aprendizaje (Enunciar, de manera corta sencilla y clara para todos los asistentes)\n",
    " De ahora en adelante, las clase tendran 4 objetivos de clase de acuerdo a las 4 dimensiones de mi práctica pedagógica\n",
    "\n"
   ]
  },
  {
   "cell_type": "markdown",
   "id": "6d8f8b04",
   "metadata": {},
   "source": [
    " \n",
    "1. Conocimiento Teórico de Matemáticas\n",
    "\n",
    "Indicadores:\n",
    "\n",
    "    Comprensión de conceptos fundamentales de cálculo diferencial.\n",
    "    Capacidad para determinar derivadas de funciones utilizando la función logaritmo.\n",
    "    Habilidad para derivar funciones complejas.\n",
    "    \n",
    "\n",
    "2. Habilidad en Programación con Python\n",
    "\n",
    "Indicadores:\n",
    "\n",
    "    Capacidad para escribir y ejecutar scripts básicos en Python.\n",
    "    Comprensión y uso de estructuras de control (condicionales, bucles).\n",
    "    Uso de funciones y módulos en Python.\n",
    "    Manejo de estructuras de datos (listas, diccionarios, tuplas).\n",
    "    Habilidad para depurar y solucionar errores en el código.\n",
    "    Uso de bibliotecas matemáticas como NumPy y SymPy.\n",
    "\n",
    "3. Pensamiento Computacional\n",
    "\n",
    "Indicadores:\n",
    "\n",
    "    Capacidad para descomponer problemas complejos en subproblemas manejables: Capacidad para disminuir la complejidad de un problema utilizando las propiedades de los logaritmos. \n",
    "    Habilidad para diseñar algoritmos eficientes para resolver problemas específicos.\n",
    "    Comprensión de la lógica detrás de las estructuras de control y su aplicación en la programación.\n",
    "    Capacidad para abstraer conceptos matemáticos en soluciones programables.\n",
    "    Habilidad para identificar y aplicar patrones en la resolución de problemas.\n"
   ]
  },
  {
   "cell_type": "markdown",
   "id": "044f3372",
   "metadata": {},
   "source": [
    "\n",
    "4. Aplicación de Matemáticas en Problemas Reales\n",
    "\n",
    "Indicadores:\n",
    "\n",
    "* Capacidad para modelar situaciones reales utilizando funciones matemáticas.\n",
    "* Habilidad para implementar soluciones matemáticas en código Python para resolver problemas prácticos.\n",
    "* Comprensión de cómo interpretar los resultados obtenidos mediante simulaciones o cálculos computacionales.\n",
    "* Uso de Python para la visualización de datos y resultados matemáticos.\n",
    "* Capacidad para integrar conocimientos matemáticos y de programación en proyectos interdisciplinarios."
   ]
  },
  {
   "cell_type": "markdown",
   "id": "540f0ec1",
   "metadata": {
    "slideshow": {
     "slide_type": "slide"
    }
   },
   "source": [
    "## Cuestionario para realizar labores de memorización, observación y síntesis de la información (Además de diagnóstico)  \n",
    "[Realizar encuesta para participacion de todos los estudiantes para diagnosticar presaberes para la clase: mentimeter](https://www.mentimeter.com/es-ES/education/lectures)\n",
    "\n",
    "1. ¿Cómo se expresa una raiz como una potencia?\n",
    "\n",
    "$$ \\sqrt{a} = a^{1/2} $$\n",
    "\n",
    "$$ \\sqrt[n]{a^{m}} = a^{m/n} $$\n",
    "\n",
    "2. ¿Sabe cuando aplicar el logaritmo a una igualdad?\n",
    "Si $a > 0$, entonces \n",
    "\n",
    "$$ a = b \\quad \\Rightarrow \\quad  \\ln a = \\ln b $$\n",
    "\n",
    "1. ¿Sabía que los logaritmos transforman potencias en multiplicaciones?\n",
    "\n",
    "$$ \\ln a^{n} = n\\ln (a) $$\n",
    "\n",
    "2. ¿Cómo transformar cocientes en restas con la función logaritmo?\n",
    "\n",
    "$$ \\ln \\frac{a}{b} = \\ln a - \\ln b $$\n",
    "\n",
    "3. ¿Cómo transformar multiplicaciones en sumas con la función logaritmica?\n",
    "\n",
    "$$ \\ln ab = \\ln a + \\ln b $$"
   ]
  },
  {
   "cell_type": "markdown",
   "id": "8e457ea2",
   "metadata": {},
   "source": [
    "# Definiciones y Resultados científicos a comprender y memorizar \n",
    "\n",
    "\n",
    "[Para qué se aplica el logaritmo en el procesod e derivación](https://voca.ro/1fENuUX2Himp)"
   ]
  },
  {
   "cell_type": "markdown",
   "id": "ca7261b1",
   "metadata": {
    "slideshow": {
     "slide_type": "slide"
    }
   },
   "source": [
    "## Establecimiento de prerrequisitos conceptuales para alcanzar el objetivo de aprendizaje trazado.   \n",
    "\n",
    "(Elabore una lista de preguntas al rededor de los conceptos que consideres necesarios para empezar la clase).  \n",
    "\n",
    "1. Saber que el logaritmo se puede aplicar a igualdades de lados positivos.\n",
    "2. Saber que el logaritmo convierte las potencias en multiplicaciones, es decir, simplifica el problema de derivación. \n",
    "3. Lista de propiedades de los logaritmos que necesitamos para derivar con el proceso de diferenciación logarítmica. \n",
    "\n",
    "$$ \\ln \\frac{a}{b} = \\ln a - \\ln b $$\n",
    "\n",
    "$$ \\ln ab = \\ln a + \\ln b $$\n",
    "\n",
    "$$ \\ln a^{n} = n \\ln a $$"
   ]
  },
  {
   "cell_type": "markdown",
   "id": "57775f1c",
   "metadata": {},
   "source": [
    "### Prerrequisito de la regla de la cadena\n",
    "\n",
    "Sea $y = \\ln(x^{3} + 1)$, entonces \n",
    "\n",
    "$$ y' = \\frac{1}{x^{3} + 1} \\cdot (3x^{2}) = \\frac{3x^{2}}{x^{3} + 1} $$\n",
    "\n",
    "\n",
    "esto porque podemos interpretar a la función $y = \\ln(x³+ 1)$ como la composición de dos funciones a saber: \n",
    "\n",
    "Para expresar la composición de las funciones $ f(x) = x^3 + 1$ y $ g(x) = \\ln(x) $ utilizando el símbolo de LaTeX $\\mapsto$, puedes escribirlo de la siguiente manera:\n"
   ]
  },
  {
   "cell_type": "markdown",
   "id": "af61dd53",
   "metadata": {},
   "source": [
    "\n",
    "$$ x \\mapsto f(x) = x^{3} + 1 \\mapsto g(f(x)) = \\ln(x^3 + 1) $$\n",
    "\n",
    "Esto indica que $x$ se transforma mediante $f(x)$, y luego el resultado de $f(x)$ se transforma mediante $g(x)$."
   ]
  },
  {
   "cell_type": "markdown",
   "id": "2298e976",
   "metadata": {
    "slideshow": {
     "slide_type": "slide"
    }
   },
   "source": [
    "# Para el diseño de la clase tenga en cuenta algunos problemas de aprendizaje"
   ]
  },
  {
   "cell_type": "markdown",
   "id": "523d3acf",
   "metadata": {
    "slideshow": {
     "slide_type": "slide"
    }
   },
   "source": []
  },
  {
   "cell_type": "markdown",
   "id": "a40a4704",
   "metadata": {
    "slideshow": {
     "slide_type": "slide"
    }
   },
   "source": [
    "## Secuencia conceptual introductoria a la clase"
   ]
  },
  {
   "cell_type": "markdown",
   "id": "8853d874",
   "metadata": {},
   "source": [
    "## El componente histórico y epistemológico"
   ]
  },
  {
   "cell_type": "code",
   "execution_count": 13,
   "id": "f03fdc99",
   "metadata": {},
   "outputs": [
    {
     "data": {
      "text/plain": [
       "'/home/marco/Documentos/docencia/calculo/images/3_derivada/1_la_nocion_de_derivada/Diferenciación logarítmica.pdf'"
      ]
     },
     "execution_count": 13,
     "metadata": {},
     "output_type": "execute_result"
    }
   ],
   "source": [
    "# mapa conceptual para cada clase  \n",
    "from graphviz import Digraph\n",
    "\n",
    "# Crear un nuevo grafo dirigido\n",
    "dot = Digraph()\n",
    "\n",
    "# Añadir nodos y relaciones al grafo\n",
    "main_concept = 'Diferenciación logarítmica'\n",
    "dot.node('A', main_concept)\n",
    "dot.node('B', 'Propiedades de logaritmo')\n",
    "dot.node('C', 'Diferenciación implícita')\n",
    "dot.node('D', 'Regla de la cadena')\n",
    "dot.node('E', 'Logaritmo de un cociente')\n",
    "dot.node('F', 'Logaritmo de una producto')\n",
    "dot.node('G', 'Logaritmo de una potencia')\n",
    "\n",
    "\n",
    "dot.edges(['AB'])\n",
    "dot.edges(['AC'])\n",
    "dot.edges(['CD'])\n",
    "dot.edges(['BE', 'BF', 'BG'])\n",
    "\n",
    "\n",
    "# Guardar el grafo como un archivo de imagen\n",
    "dot.render(filename=main_concept, format='png', cleanup=True, \\\n",
    "           directory='/home/marco/Documentos/docencia/calculo/images/3_derivada/1_la_nocion_de_derivada')\n",
    "\n",
    "dot.view()\n"
   ]
  },
  {
   "cell_type": "markdown",
   "id": "5cf9100f",
   "metadata": {},
   "source": [
    "# 38.1 Derivación logarítmica  \n",
    "\n",
    "Página 347 de Lina Grajales: [Matemáticas I para ciencias económicas](https://github.com/marco-canas/calculo/blob/main/referents/grajales/GrajalesLina_2015_MatemticasCienciasEconmicas.pdf)  Para la descarga del texto guía, utilice el vínculo de descarga en la parte superior derecha de la página a la que lo lleva este hipervínculo. \n"
   ]
  },
  {
   "cell_type": "markdown",
   "id": "5e8c13f9",
   "metadata": {},
   "source": [
    "\n",
    "Aplicando primero la función logaritmo y usando sus propiedades se puede simplificar el trabajo\n",
    "de derivar expresiones que incluyan productos, cocientes y potencias. Este método se llama\n",
    "derivación logarítmica."
   ]
  },
  {
   "cell_type": "code",
   "execution_count": null,
   "id": "e7855abe",
   "metadata": {},
   "outputs": [],
   "source": []
  },
  {
   "cell_type": "markdown",
   "id": "64ac8d32",
   "metadata": {},
   "source": [
    "# Ejemplo ilustrativo\n",
    "\n",
    "Ejemplo 36.8 de Lina Grajales\n",
    "\n",
    "$$ y = \\frac{x^{2} \\sqrt{5x + 2}}{(x^{3} + 1)^{3}} $$\n",
    "\n",
    "\n",
    "Hallar a $y'$. "
   ]
  },
  {
   "cell_type": "code",
   "execution_count": 15,
   "id": "f1db0b77",
   "metadata": {},
   "outputs": [
    {
     "data": {
      "text/latex": [
       "$\\displaystyle \\frac{x \\left(- 9 x^{3} \\left(5 x + 2\\right)^{1.0} + 2.5 x \\left(x^{3} + 1\\right) + 2 \\left(5 x + 2\\right)^{1.0} \\left(x^{3} + 1\\right)\\right)}{\\left(5 x + 2\\right)^{0.5} \\left(x^{3} + 1\\right)^{4}}$"
      ],
      "text/plain": [
       "x*(-9*x**3*(5*x + 2)**1.0 + 2.5*x*(x**3 + 1) + 2*(5*x + 2)**1.0*(x**3 + 1))/((5*x + 2)**0.5*(x**3 + 1)**4)"
      ]
     },
     "execution_count": 15,
     "metadata": {},
     "output_type": "execute_result"
    }
   ],
   "source": [
    "# programma que las ayude a verificar\n",
    "from sympy import * \n",
    "x, y = var('x, y')\n",
    "y = Function('y')(x)\n",
    "\n",
    "\n",
    "y = (x**2*(5*x + 2)**(1/2))/((x**3+1)**3) # escriba aquí su función\n",
    "\n",
    "derivada_de_la_funcion = diff(y, x).simplify() \n",
    "derivada_de_la_funcion"
   ]
  },
  {
   "cell_type": "code",
   "execution_count": 20,
   "id": "8c539996",
   "metadata": {},
   "outputs": [],
   "source": [
    "f = lambdify(x, y)\n",
    "f_prima_lambda = lambdify(x, derivada_de_la_funcion) # primer la variable independiente\n",
    "\n"
   ]
  },
  {
   "cell_type": "code",
   "execution_count": 18,
   "id": "0b16274f",
   "metadata": {},
   "outputs": [
    {
     "data": {
      "text/latex": [
       "$\\displaystyle \\left[- \\frac{2}{5}, \\infty\\right)$"
      ],
      "text/plain": [
       "Interval(-2/5, oo)"
      ]
     },
     "execution_count": 18,
     "metadata": {},
     "output_type": "execute_result"
    }
   ],
   "source": [
    "# script para determinar el dominio de graficación \n",
    "\n",
    "import sympy as sp\n",
    "\n",
    "# Definir la variable simbólica\n",
    "x = sp.symbols('x')\n",
    "\n",
    "# Definir las inecuaciones\n",
    "ineq1 = 5*x + 2 >= 0\n",
    "ineq2 = x**3 + 1 > 0\n",
    "\n",
    "# Resolver las inecuaciones\n",
    "sol_ineq1 = sp.solve(ineq1, x)\n",
    "sol_ineq2 = sp.solve(ineq2, x)\n",
    "\n",
    "# Encontrar las soluciones en forma de intervalos\n",
    "interval_ineq1 = sp.solve_univariate_inequality(ineq1, x, relational=False)\n",
    "interval_ineq2 = sp.solve_univariate_inequality(ineq2, x, relational=False)\n",
    "\n",
    "# Intersección de las soluciones\n",
    "solution = sp.Intersection(interval_ineq1, interval_ineq2)\n",
    "\n",
    "# Mostrar la solución\n",
    "solution\n"
   ]
  },
  {
   "cell_type": "markdown",
   "id": "dc891b15",
   "metadata": {},
   "source": [
    "## Describamos el proceso de derivación logaritmica paso a paso\n",
    "\n"
   ]
  },
  {
   "cell_type": "markdown",
   "id": "62ab3264",
   "metadata": {},
   "source": [
    "Esta es la función a derivar: \n",
    "\n",
    "$$ y = \\frac{x^{2} \\sqrt{5x + 2}}{(x^{3} + 1)^{3}} $$"
   ]
  },
  {
   "cell_type": "markdown",
   "id": "55771b80",
   "metadata": {},
   "source": [
    "Aplica logaritmo a ambos lados de la igualdad: \n",
    "\n",
    "$$ \\ln(y) = \\ln \\left( \\frac{x^{2} \\sqrt{5x + 2}}{(x^{3} + 1)^{3}} \\right) $$"
   ]
  },
  {
   "cell_type": "markdown",
   "id": "43a529ac",
   "metadata": {},
   "source": [
    "$$ \\ln(y) = \\ln(x^{2}\\sqrt{5x + 2}) - \\ln((x^{3} + 1)^{3}) $$"
   ]
  },
  {
   "cell_type": "markdown",
   "id": "e2c68394",
   "metadata": {},
   "source": [
    "$$ \\ln(y) = \\ln(x^{2}) + \\ln(\\sqrt{5x + 2}) - \\ln((x^{3} + 1)³) $$"
   ]
  },
  {
   "cell_type": "markdown",
   "id": "c0a13059",
   "metadata": {},
   "source": [
    "Expresamos la raíz como una potencia:   \n",
    "\n",
    "$$ \\ln(y) = \\ln(x^{2}) + \\ln(5x + 2)^{1/2} - \\ln((x^{3} + 1)³) $$"
   ]
  },
  {
   "cell_type": "markdown",
   "id": "60cfab33",
   "metadata": {},
   "source": [
    "$$ \\ln y = 2\\ln(x) + \\frac{1}{2}\\ln(5x + 2) - 3\\ln(x^{3} + 1) $$"
   ]
  },
  {
   "cell_type": "markdown",
   "id": "622ff4c7",
   "metadata": {},
   "source": [
    "Aplicamos diferenciación implícita para determinar a $y'$ \n",
    "\n",
    "$$ \\frac{1}{y} \\cdot y' = 2\\cdot \\frac{1}{x} + \\frac{1}{2} \\cdot \\frac{1}{5x + 2} \\cdot 5 - 3 \\cdot \\frac{1}{x^{3} + 1} \\cdot 3x^{2}  $$"
   ]
  },
  {
   "cell_type": "markdown",
   "id": "ae39275c",
   "metadata": {},
   "source": [
    "$$ y' = y\\left( 2\\cdot \\frac{1}{x} + \\frac{1}{2} \\cdot \\frac{5}{5x + 2} - 3 \\cdot \\frac{3x^{2}}{x^{3} + 1} \\right) $$"
   ]
  },
  {
   "cell_type": "markdown",
   "id": "734816c6",
   "metadata": {},
   "source": [
    "$$ y' = \\left(\\frac{x^{2} \\sqrt{5x + 2}}{(x^{3} + 1)^{3}} \\right)\\left( 2\\cdot \\frac{1}{x} + \\frac{1}{2} \\cdot \\frac{5}{5x + 2} - 3 \\cdot \\frac{3x^{2}}{x^{3} + 1} \\right) $$"
   ]
  },
  {
   "cell_type": "code",
   "execution_count": 25,
   "id": "f2ce0c1a",
   "metadata": {},
   "outputs": [],
   "source": [
    "f_prima_2_sympy = ((x**2*((5*x + 2)**(1/2)))/((x**3 + 1)**3))*(2/x+5/(2*(5*x+2))-(9*x**2)/(x**3 + 1))\n",
    "f_prima_2_lambda = lambdify(x, f_prima_2_sympy) "
   ]
  },
  {
   "cell_type": "code",
   "execution_count": null,
   "id": "1bc08e8c",
   "metadata": {},
   "outputs": [
    {
     "name": "stderr",
     "output_type": "stream",
     "text": [
      "<lambdifygenerated-4>:2: RuntimeWarning: divide by zero encountered in power\n",
      "  return x*(5*x + 2)**(-0.5)*(-9*x**3*(5*x + 2)**1.0 + 2.5*x*(x**3 + 1) + 2*(5*x + 2)**1.0*(x**3 + 1))/(x**3 + 1)**4\n",
      "<lambdifygenerated-5>:2: RuntimeWarning: divide by zero encountered in divide\n",
      "  return x**2*sqrt(5*x + 2)*(-9*x**2/(x**3 + 1) + 5/(10*x + 4) + 2/x)/(x**3 + 1)**3\n",
      "<lambdifygenerated-5>:2: RuntimeWarning: invalid value encountered in multiply\n",
      "  return x**2*sqrt(5*x + 2)*(-9*x**2/(x**3 + 1) + 5/(10*x + 4) + 2/x)/(x**3 + 1)**3\n"
     ]
    },
    {
     "data": {
      "image/png": "[encoded data removed]",
      "text/plain": [
       "<Figure size 1400x600 with 2 Axes>"
      ]
     },
     "metadata": {},
     "output_type": "display_data"
    }
   ],
   "source": [
    "# Este es un instrumento de verificación gráfica, de que la derivada obtenida es correcta. \n",
    "# script para graficar la función dada u la derivada en un mismo plano y \n",
    "# en un nuevo plano la derivada obtenida con otro método\n",
    "import numpy as np \n",
    "import matplotlib.pyplot as plt \n",
    "\n",
    "dominio_comun = np.arange(-2/5, 10, 0.1)\n",
    "\n",
    "fig, (ax1, ax2) = plt.subplots(1, 2, figsize=(14, 6))\n",
    "\n",
    "# Gráfico de la función de costo\n",
    "ax1.plot(dominio_comun, f(dominio_comun), label='La función dada', color='blue')\n",
    "ax1.plot(dominio_comun, f_prima_lambda(dominio_comun),\\\n",
    "          label='La derivada de la función dada', color='red')\n",
    "ax1.set_title('Función y derivada')\n",
    "ax1.set_xlabel('x')\n",
    "ax1.set_ylabel('y')\n",
    "ax1.hlines(y = 0, xmin = min(dominio_comun), xmax = max(dominio_comun))\n",
    "ax1.legend()\n",
    "ax1.grid(True, alpha = 0.4)\n",
    "\n",
    "\n",
    "ax2.plot(dominio_comun, f_prima_2_lambda(dominio_comun), label='Derivada obtenida con otro método', color='red')\n",
    "ax2.set_title('Segunda derivada')\n",
    "ax2.set_xlabel('x')\n",
    "ax2.set_ylabel('y')\n",
    "ax2.legend()\n",
    "ax2.grid(True, alpha = 0.3)\n",
    "\n"
   ]
  },
  {
   "cell_type": "markdown",
   "id": "a3e5e6ab",
   "metadata": {},
   "source": [
    "# 10 ejercicios de entrenamiento o adquisición de habilidades obtenido a través de ChatGPT para una formación personalizada y centrada en la habilidad que se quiere lograr con la enseñanza del ejemplo anterior"
   ]
  },
  {
   "cell_type": "markdown",
   "id": "cc539357",
   "metadata": {},
   "source": [
    "¡Claro! Aquí tienes veinte ejercicios para desarrollar la habilidad de derivar utilizando la función logaritmo o el proceso de diferenciación logarítmica. Cada uno requiere que halles la derivada de $ y $.\n"
   ]
  },
  {
   "cell_type": "markdown",
   "id": "ce87f292",
   "metadata": {},
   "source": [
    "\n",
    "1. $$ y = \\frac{\\sqrt{x^2 + 4x + 4}}{x \\ln(x)} $$\n",
    "2. $$ y = \\frac{x^2 \\sqrt{3x + 7}}{(x^4 + 2)^{2}} $$\n",
    "3. $$ y = \\frac{\\ln(x^2 + 1)}{x \\sqrt{x + 3}} $$\n",
    "4. $$ y = \\frac{e^{x^2} \\sqrt{x + 5}}{x^3 + 1} $$\n",
    "5. $$ y = \\frac{(x^3 + 2)^{5}}{x^2 \\sqrt{x - 4}} $$\n",
    "6. $$ y = \\frac{x^4 \\ln(x + 2)}{\\sqrt{x^3 + 5}} $$\n",
    "7. $$ y = \\frac{\\sin(x) \\sqrt{x^2 + 3}}{(x^5 + 4)^{2}} $$\n",
    "8. $$ y = \\frac{x \\cos(x)}{\\sqrt{x^2 + 2x + 1}} $$\n",
    "9. $$ y = \\frac{(x^2 + 1)^{3/2}}{x \\ln(x^3 + 4)} $$\n",
    "10. $$ y = \\frac{x^3 \\sqrt{\\ln(x + 1)}}{(x^2 + 3)^{4}} $$\n",
    "11. $$ y = \\frac{x^2 + \\ln(x)}{\\sqrt{x^4 + 2x + 1}} $$\n",
    "12. $$ y = \\frac{\\sqrt{x \\ln(x^2 + 1)}}{x^3 + 5} $$\n",
    "13. $$ y = \\frac{x^3 e^{x}}{\\sqrt{x^2 + 4x + 4}} $$\n",
    "14. $$ y = \\frac{\\cos(x^2)}{x \\sqrt{x^3 + 3}} $$\n",
    "15. $$ y = \\frac{\\sqrt{x + \\sin(x)}}{x^2 \\ln(x^3 + 1)} $$\n",
    "16. $$ y = \\frac{(x^2 + 1)^{2} \\sqrt{e^{x}}}{x^3 + \\ln(x)} $$\n",
    "17. $$ y = \\frac{\\ln(x^2 + x)}{x \\sqrt{x^3 + 1}} $$\n",
    "18. $$ y = \\frac{x^3 \\sqrt{x^2 + \\cos(x)}}{(x + 1)^{3}} $$\n",
    "19. $$ y = \\frac{x^2 \\ln(x + 4)}{\\sqrt{x^3 + 2x}} $$\n",
    "20. $$ y = \\frac{e^{x^2 + x}}{\\sqrt{x^3 + \\ln(x + 1)}} $$\n",
    "\n",
    "Para cada uno de estos ejercicios, aplica las técnicas de derivación logarítmica y el cálculo de derivadas para encontrar \\( y' \\)."
   ]
  },
  {
   "cell_type": "code",
   "execution_count": null,
   "id": "86408e57",
   "metadata": {},
   "outputs": [],
   "source": []
  },
  {
   "cell_type": "markdown",
   "id": "d85c3a25",
   "metadata": {},
   "source": [
    "# Componente de manejo de calculadora Casio asociado al objetivo de aprendizaje de esta clase  \n",
    "\n",
    "## Pasos para lograr el objetivo de aprendizaje con la experimentación en la calculadora casio 570 \n",
    "\n",
    "Para encontrar la derivada de una función \\( y = f(x) \\) en un punto \\( x = c \\) usando la calculadora Casio fx-570 (modelos como fx-570ES, fx-570ES PLUS, fx-570EX, etc.), puedes seguir estos pasos:\n",
    "\n",
    "### Paso 1: Ingresar el Modo Derivada\n",
    "\n",
    "1. Enciende la calculadora.\n",
    "2. Presiona el botón `MODE` repetidamente hasta que aparezca la opción `3:TABLE` en la pantalla. Selecciona esta opción presionando `3`.\n",
    "\n",
    "### Paso 2: Ingresar la Función\n",
    "\n",
    "1. Aparecerá una pantalla donde puedes ingresar la función \\( f(x) \\). Ingresa la función que deseas derivar. Por ejemplo, si \\( f(x) = x^2 + 3x + 2 \\), ingresa `x^2 + 3x + 2`.\n",
    "2. Después de ingresar la función, presiona `=` para confirmar.\n",
    "\n",
    "### Paso 3: Configurar el Intervalo y el Paso\n",
    "\n",
    "1. La calculadora te pedirá un valor de inicio (Start), un valor final (End) y un paso (Step). Puedes ingresar cualquier valor para estos campos, ya que no afectarán el cálculo de la derivada en el punto específico que deseas. Por ejemplo, ingresa `1` para Start, `2` para End, y `1` para Step.\n",
    "2. Después de ingresar cada uno de estos valores, presiona `=` para confirmar.\n",
    "\n",
    "### Paso 4: Ver la Tabla de Valores\n",
    "\n",
    "1. La calculadora generará una tabla de valores de \\( x \\) y \\( f(x) \\).\n",
    "2. Presiona `AC` para salir de la tabla y regresar a la pantalla principal.\n",
    "\n",
    "### Paso 5: Calcular la Derivada en el Punto Específico\n",
    "\n",
    "1. Presiona `SHIFT` seguido de `7` (esto te lleva al menú `CALC`).\n",
    "2. Presiona `6` para seleccionar la opción `∂/∂x`.\n",
    "3. Ingresa la función nuevamente. Por ejemplo, `x^2 + 3x + 2`.\n",
    "4. Luego, presiona `,` (la tecla `,` se encuentra en el mismo botón que el paréntesis derecho `)` en algunos modelos).\n",
    "5. Ingresa el valor del punto \\( c \\) en el cual deseas evaluar la derivada. Por ejemplo, si \\( c = 1 \\), ingresa `1`.\n",
    "6. Finalmente, presiona `=` para calcular la derivada en ese punto.\n",
    "\n",
    "La calculadora te mostrará el valor de la derivada de la función \\( f(x) \\) en el punto \\( x = c \\).\n",
    "\n",
    "### Ejemplo\n",
    "\n",
    "Si queremos encontrar la derivada de \\( f(x) = x^2 + 3x + 2 \\) en \\( x = 1 \\):\n",
    "\n",
    "1. En el modo `TABLE`, ingresamos `x^2 + 3x + 2`.\n",
    "2. Configuramos Start en `1`, End en `2`, y Step en `1`.\n",
    "3. Salimos de la tabla presionando `AC`.\n",
    "4. Usamos `SHIFT` + `7` para entrar al menú `CALC`.\n",
    "5. Seleccionamos `∂/∂x` (opción `6`).\n",
    "6. Ingresamos la función `x^2 + 3x + 2`.\n",
    "7. Presionamos `,` y luego `1`.\n",
    "8. Finalmente, presionamos `=`.\n",
    "\n",
    "El resultado será la derivada evaluada en \\( x = 1 \\)."
   ]
  },
  {
   "cell_type": "markdown",
   "id": "4babdec6",
   "metadata": {},
   "source": [
    "ChatGPT. (2024). Lista de ejercicios de diferenciación logarítmica. OpenAI."
   ]
  },
  {
   "cell_type": "markdown",
   "id": "2f0141c3",
   "metadata": {},
   "source": [
    "## Tareas para realizar antes de la clase  \n",
    "\n",
    "1. Ver los videos respectivos []()\n",
    "2. Memorizar las definiciones []()\n",
    "3. Sintetizar o resumir la información en mapas conceptuales. []()\n",
    "4. Tareas para incentivar el uso de la calculadora Casio Para ingenieros y licenciados. \n",
    "5. Leer los ejemplos resueltos y repricar la manera de hacerlos"
   ]
  },
  {
   "cell_type": "code",
   "execution_count": 6,
   "id": "23ba38c1",
   "metadata": {},
   "outputs": [
    {
     "name": "stdout",
     "output_type": "stream",
     "text": [
      "Tarea 1 de lectura de ejemplos y\n",
      "       completación de procedimientos:  tarea_Lina Grajales_Página_322_Parte_6_La_derivada_ Seccion_31.csv\n"
     ]
    },
    {
     "data": {
      "text/html": [
       "<div>\n",
       "<style scoped>\n",
       "    .dataframe tbody tr th:only-of-type {\n",
       "        vertical-align: middle;\n",
       "    }\n",
       "\n",
       "    .dataframe tbody tr th {\n",
       "        vertical-align: top;\n",
       "    }\n",
       "\n",
       "    .dataframe thead th {\n",
       "        text-align: right;\n",
       "    }\n",
       "</style>\n",
       "<table border=\"1\" class=\"dataframe\">\n",
       "  <thead>\n",
       "    <tr style=\"text-align: right;\">\n",
       "      <th></th>\n",
       "      <th>Student</th>\n",
       "      <th>Example1</th>\n",
       "      <th>Example2</th>\n",
       "      <th>Example3</th>\n",
       "      <th>Example4</th>\n",
       "      <th>Example5</th>\n",
       "      <th>Example6</th>\n",
       "      <th>Example7</th>\n",
       "      <th>Example8</th>\n",
       "      <th>Example9</th>\n",
       "      <th>Example10</th>\n",
       "    </tr>\n",
       "  </thead>\n",
       "  <tbody>\n",
       "    <tr>\n",
       "      <th>0</th>\n",
       "      <td>ACEVEDO CASTILLO MAIRA DAYANA</td>\n",
       "      <td>3</td>\n",
       "      <td>4</td>\n",
       "      <td>5</td>\n",
       "      <td>8</td>\n",
       "      <td>9</td>\n",
       "      <td>11</td>\n",
       "      <td>14</td>\n",
       "      <td>16</td>\n",
       "      <td>19</td>\n",
       "      <td>20</td>\n",
       "    </tr>\n",
       "    <tr>\n",
       "      <th>1</th>\n",
       "      <td>ACOSTA RUIZ YIRLENA</td>\n",
       "      <td>2</td>\n",
       "      <td>6</td>\n",
       "      <td>7</td>\n",
       "      <td>8</td>\n",
       "      <td>9</td>\n",
       "      <td>10</td>\n",
       "      <td>12</td>\n",
       "      <td>17</td>\n",
       "      <td>18</td>\n",
       "      <td>19</td>\n",
       "    </tr>\n",
       "    <tr>\n",
       "      <th>2</th>\n",
       "      <td>GUERRERO SANTOS ISABELLA</td>\n",
       "      <td>2</td>\n",
       "      <td>3</td>\n",
       "      <td>5</td>\n",
       "      <td>6</td>\n",
       "      <td>7</td>\n",
       "      <td>11</td>\n",
       "      <td>13</td>\n",
       "      <td>15</td>\n",
       "      <td>16</td>\n",
       "      <td>20</td>\n",
       "    </tr>\n",
       "    <tr>\n",
       "      <th>3</th>\n",
       "      <td>LEGUIA MEJIA ESTEFANY</td>\n",
       "      <td>2</td>\n",
       "      <td>4</td>\n",
       "      <td>5</td>\n",
       "      <td>6</td>\n",
       "      <td>8</td>\n",
       "      <td>9</td>\n",
       "      <td>10</td>\n",
       "      <td>11</td>\n",
       "      <td>14</td>\n",
       "      <td>16</td>\n",
       "    </tr>\n",
       "    <tr>\n",
       "      <th>4</th>\n",
       "      <td>LLANO DAVILA DORIAN ANDRES</td>\n",
       "      <td>2</td>\n",
       "      <td>4</td>\n",
       "      <td>5</td>\n",
       "      <td>7</td>\n",
       "      <td>9</td>\n",
       "      <td>11</td>\n",
       "      <td>12</td>\n",
       "      <td>14</td>\n",
       "      <td>15</td>\n",
       "      <td>18</td>\n",
       "    </tr>\n",
       "    <tr>\n",
       "      <th>5</th>\n",
       "      <td>MARTINEZ BUENO DIEGO ESTEBAN</td>\n",
       "      <td>5</td>\n",
       "      <td>6</td>\n",
       "      <td>10</td>\n",
       "      <td>11</td>\n",
       "      <td>14</td>\n",
       "      <td>15</td>\n",
       "      <td>16</td>\n",
       "      <td>17</td>\n",
       "      <td>18</td>\n",
       "      <td>20</td>\n",
       "    </tr>\n",
       "    <tr>\n",
       "      <th>6</th>\n",
       "      <td>MORENO BENJUMEA JULIETH FERNANDA</td>\n",
       "      <td>3</td>\n",
       "      <td>5</td>\n",
       "      <td>6</td>\n",
       "      <td>7</td>\n",
       "      <td>9</td>\n",
       "      <td>10</td>\n",
       "      <td>11</td>\n",
       "      <td>16</td>\n",
       "      <td>18</td>\n",
       "      <td>19</td>\n",
       "    </tr>\n",
       "    <tr>\n",
       "      <th>7</th>\n",
       "      <td>NUNEZ FERNANDEZ TULIO MANUEL</td>\n",
       "      <td>2</td>\n",
       "      <td>4</td>\n",
       "      <td>5</td>\n",
       "      <td>6</td>\n",
       "      <td>7</td>\n",
       "      <td>10</td>\n",
       "      <td>12</td>\n",
       "      <td>14</td>\n",
       "      <td>19</td>\n",
       "      <td>20</td>\n",
       "    </tr>\n",
       "    <tr>\n",
       "      <th>8</th>\n",
       "      <td>PATERNINA SOLORZANO MARIA ISABEL</td>\n",
       "      <td>6</td>\n",
       "      <td>8</td>\n",
       "      <td>9</td>\n",
       "      <td>11</td>\n",
       "      <td>15</td>\n",
       "      <td>16</td>\n",
       "      <td>17</td>\n",
       "      <td>18</td>\n",
       "      <td>19</td>\n",
       "      <td>20</td>\n",
       "    </tr>\n",
       "    <tr>\n",
       "      <th>9</th>\n",
       "      <td>PEREZ GARCIA ALEJANDRO</td>\n",
       "      <td>3</td>\n",
       "      <td>4</td>\n",
       "      <td>5</td>\n",
       "      <td>7</td>\n",
       "      <td>8</td>\n",
       "      <td>9</td>\n",
       "      <td>12</td>\n",
       "      <td>15</td>\n",
       "      <td>18</td>\n",
       "      <td>19</td>\n",
       "    </tr>\n",
       "    <tr>\n",
       "      <th>10</th>\n",
       "      <td>SERENO GUEVARA MARIA CELESTE</td>\n",
       "      <td>2</td>\n",
       "      <td>4</td>\n",
       "      <td>5</td>\n",
       "      <td>6</td>\n",
       "      <td>7</td>\n",
       "      <td>8</td>\n",
       "      <td>11</td>\n",
       "      <td>13</td>\n",
       "      <td>15</td>\n",
       "      <td>16</td>\n",
       "    </tr>\n",
       "    <tr>\n",
       "      <th>11</th>\n",
       "      <td>SIERRA SERPA YENIFER</td>\n",
       "      <td>3</td>\n",
       "      <td>7</td>\n",
       "      <td>8</td>\n",
       "      <td>9</td>\n",
       "      <td>11</td>\n",
       "      <td>15</td>\n",
       "      <td>16</td>\n",
       "      <td>17</td>\n",
       "      <td>19</td>\n",
       "      <td>20</td>\n",
       "    </tr>\n",
       "    <tr>\n",
       "      <th>12</th>\n",
       "      <td>VIDAL QUINTERO ELIACIB</td>\n",
       "      <td>2</td>\n",
       "      <td>4</td>\n",
       "      <td>6</td>\n",
       "      <td>8</td>\n",
       "      <td>10</td>\n",
       "      <td>12</td>\n",
       "      <td>15</td>\n",
       "      <td>16</td>\n",
       "      <td>19</td>\n",
       "      <td>20</td>\n",
       "    </tr>\n",
       "    <tr>\n",
       "      <th>13</th>\n",
       "      <td>VILLADIEGO GALLEGO JORGE ANDRES</td>\n",
       "      <td>2</td>\n",
       "      <td>4</td>\n",
       "      <td>5</td>\n",
       "      <td>6</td>\n",
       "      <td>8</td>\n",
       "      <td>9</td>\n",
       "      <td>10</td>\n",
       "      <td>13</td>\n",
       "      <td>16</td>\n",
       "      <td>17</td>\n",
       "    </tr>\n",
       "  </tbody>\n",
       "</table>\n",
       "</div>"
      ],
      "text/plain": [
       "                             Student  Example1  Example2  Example3  Example4  \\\n",
       "0      ACEVEDO CASTILLO MAIRA DAYANA         3         4         5         8   \n",
       "1                ACOSTA RUIZ YIRLENA         2         6         7         8   \n",
       "2           GUERRERO SANTOS ISABELLA         2         3         5         6   \n",
       "3              LEGUIA MEJIA ESTEFANY         2         4         5         6   \n",
       "4         LLANO DAVILA DORIAN ANDRES         2         4         5         7   \n",
       "5       MARTINEZ BUENO DIEGO ESTEBAN         5         6        10        11   \n",
       "6   MORENO BENJUMEA JULIETH FERNANDA         3         5         6         7   \n",
       "7       NUNEZ FERNANDEZ TULIO MANUEL         2         4         5         6   \n",
       "8   PATERNINA SOLORZANO MARIA ISABEL         6         8         9        11   \n",
       "9             PEREZ GARCIA ALEJANDRO         3         4         5         7   \n",
       "10      SERENO GUEVARA MARIA CELESTE         2         4         5         6   \n",
       "11              SIERRA SERPA YENIFER         3         7         8         9   \n",
       "12            VIDAL QUINTERO ELIACIB         2         4         6         8   \n",
       "13   VILLADIEGO GALLEGO JORGE ANDRES         2         4         5         6   \n",
       "\n",
       "    Example5  Example6  Example7  Example8  Example9  Example10  \n",
       "0          9        11        14        16        19         20  \n",
       "1          9        10        12        17        18         19  \n",
       "2          7        11        13        15        16         20  \n",
       "3          8         9        10        11        14         16  \n",
       "4          9        11        12        14        15         18  \n",
       "5         14        15        16        17        18         20  \n",
       "6          9        10        11        16        18         19  \n",
       "7          7        10        12        14        19         20  \n",
       "8         15        16        17        18        19         20  \n",
       "9          8         9        12        15        18         19  \n",
       "10         7         8        11        13        15         16  \n",
       "11        11        15        16        17        19         20  \n",
       "12        10        12        15        16        19         20  \n",
       "13         8         9        10        13        16         17  "
      ]
     },
     "execution_count": 6,
     "metadata": {},
     "output_type": "execute_result"
    }
   ],
   "source": [
    "# Tarea 1 de lectura de ejemplos y completación de procedimientos\n",
    "# asignación de tarea para realizar antes de clase\n",
    "# Consiste en leer y completar un ejemplo de texto guía\n",
    "\n",
    "import pandas as pd\n",
    "import numpy as np\n",
    "import requests\n",
    "np.random.seed(1213)  # establecer semilla aleatoria para hacer los resultados reproducibles\n",
    "\n",
    "\n",
    "\n",
    "grupo_estudiantes = 'math1'\n",
    "nombre_texto_guia = 'Lina Grajales'\n",
    "pagina_y_seccion = 'Página_322_Parte_6_La_derivada_ Seccion_31'\n",
    "numero_ejemplos_de_la_seccion = 20\n",
    "numero_de_ejemplos_asignados = 10\n",
    "\n",
    "\n",
    "# Descargar la lista de  estudiantes\n",
    "students_url = \"https://raw.githubusercontent.com/marco-canas/groups_list/main/\" + grupo_estudiantes + \".csv\"\n",
    "examples = list(range(1, numero_ejemplos_de_la_seccion))  \n",
    "\n",
    "students_data = pd.read_csv(students_url)\n",
    "\n",
    "# Crear una lista para almacenar las asignaciones\n",
    "assignments = []\n",
    "\n",
    "# Asignar ejercicios aleatorios a cada estudiante\n",
    "for index, student in students_data.iterrows():\n",
    "    # Seleccionar 5 ejercicios aleatorios sin repetición\n",
    "    random_exercises = np.sort(np.random.choice(examples, \\\n",
    "                                                numero_de_ejemplos_asignados, replace = False)+ 1) \n",
    "    assignments.append([students_data[\"Nombre\"][index], *random_exercises])  # Agregar asignación a la lista\n",
    "\n",
    "# Crear un DataFrame con las asignaciones\n",
    "columns = [\"Student\"] + [ \"Example\" + str(i+1) for i in range(numero_de_ejemplos_asignados)]\n",
    "assignment_df = pd.DataFrame(assignments, columns=columns)\n",
    "\n",
    "# Guardar el DataFrame en un archivo CSV\n",
    "assignment_csv = \"tarea\" + \"_\" + nombre_texto_guia + \"_\"+ pagina_y_seccion + \".csv\"\n",
    "assignment_df.to_csv(assignment_csv, index=False)\n",
    "\n",
    "print(\"\"\"Tarea 1 de lectura de ejemplos y\n",
    "       completación de procedimientos: \"\"\", assignment_csv)\n",
    "assignment_df"
   ]
  },
  {
   "cell_type": "markdown",
   "id": "fccb447c",
   "metadata": {
    "slideshow": {
     "slide_type": "slide"
    }
   },
   "source": [
    "# Tareas para realizar en clase"
   ]
  },
  {
   "cell_type": "code",
   "execution_count": 28,
   "id": "9ee30da8",
   "metadata": {},
   "outputs": [
    {
     "name": "stdout",
     "output_type": "stream",
     "text": [
      "Tarea 2 de solución de problemas: \n",
      "       tarea_Lina_Grajales_Página_348_Sección_31-38.csv\n"
     ]
    },
    {
     "data": {
      "text/html": [
       "<div>\n",
       "<style scoped>\n",
       "    .dataframe tbody tr th:only-of-type {\n",
       "        vertical-align: middle;\n",
       "    }\n",
       "\n",
       "    .dataframe tbody tr th {\n",
       "        vertical-align: top;\n",
       "    }\n",
       "\n",
       "    .dataframe thead th {\n",
       "        text-align: right;\n",
       "    }\n",
       "</style>\n",
       "<table border=\"1\" class=\"dataframe\">\n",
       "  <thead>\n",
       "    <tr style=\"text-align: right;\">\n",
       "      <th></th>\n",
       "      <th>Student</th>\n",
       "      <th>Exer1</th>\n",
       "      <th>Exer2</th>\n",
       "      <th>Exer3</th>\n",
       "      <th>Exer4</th>\n",
       "      <th>Exer5</th>\n",
       "      <th>Exer6</th>\n",
       "      <th>Exer7</th>\n",
       "      <th>Exer8</th>\n",
       "      <th>Exer9</th>\n",
       "      <th>Exer10</th>\n",
       "    </tr>\n",
       "  </thead>\n",
       "  <tbody>\n",
       "    <tr>\n",
       "      <th>0</th>\n",
       "      <td>ACEVEDO CASTILLO MAIRA DAYANA</td>\n",
       "      <td>2</td>\n",
       "      <td>3</td>\n",
       "      <td>4</td>\n",
       "      <td>5</td>\n",
       "      <td>6</td>\n",
       "      <td>7</td>\n",
       "      <td>8</td>\n",
       "      <td>10</td>\n",
       "      <td>11</td>\n",
       "      <td>12</td>\n",
       "    </tr>\n",
       "    <tr>\n",
       "      <th>1</th>\n",
       "      <td>ACOSTA RUIZ YIRLENA</td>\n",
       "      <td>2</td>\n",
       "      <td>3</td>\n",
       "      <td>4</td>\n",
       "      <td>6</td>\n",
       "      <td>7</td>\n",
       "      <td>8</td>\n",
       "      <td>9</td>\n",
       "      <td>10</td>\n",
       "      <td>11</td>\n",
       "      <td>12</td>\n",
       "    </tr>\n",
       "    <tr>\n",
       "      <th>2</th>\n",
       "      <td>GUERRERO SANTOS ISABELLA</td>\n",
       "      <td>2</td>\n",
       "      <td>3</td>\n",
       "      <td>4</td>\n",
       "      <td>5</td>\n",
       "      <td>6</td>\n",
       "      <td>7</td>\n",
       "      <td>8</td>\n",
       "      <td>9</td>\n",
       "      <td>10</td>\n",
       "      <td>11</td>\n",
       "    </tr>\n",
       "    <tr>\n",
       "      <th>3</th>\n",
       "      <td>LEGUIA MEJIA ESTEFANY</td>\n",
       "      <td>2</td>\n",
       "      <td>3</td>\n",
       "      <td>4</td>\n",
       "      <td>5</td>\n",
       "      <td>6</td>\n",
       "      <td>7</td>\n",
       "      <td>8</td>\n",
       "      <td>9</td>\n",
       "      <td>10</td>\n",
       "      <td>12</td>\n",
       "    </tr>\n",
       "    <tr>\n",
       "      <th>4</th>\n",
       "      <td>LLANO DAVILA DORIAN ANDRES</td>\n",
       "      <td>2</td>\n",
       "      <td>3</td>\n",
       "      <td>4</td>\n",
       "      <td>5</td>\n",
       "      <td>6</td>\n",
       "      <td>7</td>\n",
       "      <td>9</td>\n",
       "      <td>10</td>\n",
       "      <td>11</td>\n",
       "      <td>12</td>\n",
       "    </tr>\n",
       "    <tr>\n",
       "      <th>5</th>\n",
       "      <td>MARTINEZ BUENO DIEGO ESTEBAN</td>\n",
       "      <td>2</td>\n",
       "      <td>4</td>\n",
       "      <td>5</td>\n",
       "      <td>6</td>\n",
       "      <td>7</td>\n",
       "      <td>8</td>\n",
       "      <td>9</td>\n",
       "      <td>10</td>\n",
       "      <td>11</td>\n",
       "      <td>12</td>\n",
       "    </tr>\n",
       "    <tr>\n",
       "      <th>6</th>\n",
       "      <td>MORENO BENJUMEA JULIETH FERNANDA</td>\n",
       "      <td>2</td>\n",
       "      <td>3</td>\n",
       "      <td>4</td>\n",
       "      <td>6</td>\n",
       "      <td>7</td>\n",
       "      <td>8</td>\n",
       "      <td>9</td>\n",
       "      <td>10</td>\n",
       "      <td>11</td>\n",
       "      <td>12</td>\n",
       "    </tr>\n",
       "    <tr>\n",
       "      <th>7</th>\n",
       "      <td>NUNEZ FERNANDEZ TULIO MANUEL</td>\n",
       "      <td>2</td>\n",
       "      <td>4</td>\n",
       "      <td>5</td>\n",
       "      <td>6</td>\n",
       "      <td>7</td>\n",
       "      <td>8</td>\n",
       "      <td>9</td>\n",
       "      <td>10</td>\n",
       "      <td>11</td>\n",
       "      <td>12</td>\n",
       "    </tr>\n",
       "    <tr>\n",
       "      <th>8</th>\n",
       "      <td>PATERNINA SOLORZANO MARIA ISABEL</td>\n",
       "      <td>2</td>\n",
       "      <td>3</td>\n",
       "      <td>4</td>\n",
       "      <td>6</td>\n",
       "      <td>7</td>\n",
       "      <td>8</td>\n",
       "      <td>9</td>\n",
       "      <td>10</td>\n",
       "      <td>11</td>\n",
       "      <td>12</td>\n",
       "    </tr>\n",
       "    <tr>\n",
       "      <th>9</th>\n",
       "      <td>PEREZ GARCIA ALEJANDRO</td>\n",
       "      <td>3</td>\n",
       "      <td>4</td>\n",
       "      <td>5</td>\n",
       "      <td>6</td>\n",
       "      <td>7</td>\n",
       "      <td>8</td>\n",
       "      <td>9</td>\n",
       "      <td>10</td>\n",
       "      <td>11</td>\n",
       "      <td>12</td>\n",
       "    </tr>\n",
       "    <tr>\n",
       "      <th>10</th>\n",
       "      <td>SERENO GUEVARA MARIA CELESTE</td>\n",
       "      <td>2</td>\n",
       "      <td>3</td>\n",
       "      <td>4</td>\n",
       "      <td>5</td>\n",
       "      <td>6</td>\n",
       "      <td>7</td>\n",
       "      <td>9</td>\n",
       "      <td>10</td>\n",
       "      <td>11</td>\n",
       "      <td>12</td>\n",
       "    </tr>\n",
       "    <tr>\n",
       "      <th>11</th>\n",
       "      <td>SIERRA SERPA YENIFER</td>\n",
       "      <td>2</td>\n",
       "      <td>3</td>\n",
       "      <td>4</td>\n",
       "      <td>5</td>\n",
       "      <td>6</td>\n",
       "      <td>7</td>\n",
       "      <td>8</td>\n",
       "      <td>10</td>\n",
       "      <td>11</td>\n",
       "      <td>12</td>\n",
       "    </tr>\n",
       "    <tr>\n",
       "      <th>12</th>\n",
       "      <td>VIDAL QUINTERO ELIACIB</td>\n",
       "      <td>2</td>\n",
       "      <td>3</td>\n",
       "      <td>4</td>\n",
       "      <td>5</td>\n",
       "      <td>6</td>\n",
       "      <td>8</td>\n",
       "      <td>9</td>\n",
       "      <td>10</td>\n",
       "      <td>11</td>\n",
       "      <td>12</td>\n",
       "    </tr>\n",
       "    <tr>\n",
       "      <th>13</th>\n",
       "      <td>VILLADIEGO GALLEGO JORGE ANDRES</td>\n",
       "      <td>2</td>\n",
       "      <td>4</td>\n",
       "      <td>5</td>\n",
       "      <td>6</td>\n",
       "      <td>7</td>\n",
       "      <td>8</td>\n",
       "      <td>9</td>\n",
       "      <td>10</td>\n",
       "      <td>11</td>\n",
       "      <td>12</td>\n",
       "    </tr>\n",
       "  </tbody>\n",
       "</table>\n",
       "</div>"
      ],
      "text/plain": [
       "                             Student  Exer1  Exer2  Exer3  Exer4  Exer5  \\\n",
       "0      ACEVEDO CASTILLO MAIRA DAYANA      2      3      4      5      6   \n",
       "1                ACOSTA RUIZ YIRLENA      2      3      4      6      7   \n",
       "2           GUERRERO SANTOS ISABELLA      2      3      4      5      6   \n",
       "3              LEGUIA MEJIA ESTEFANY      2      3      4      5      6   \n",
       "4         LLANO DAVILA DORIAN ANDRES      2      3      4      5      6   \n",
       "5       MARTINEZ BUENO DIEGO ESTEBAN      2      4      5      6      7   \n",
       "6   MORENO BENJUMEA JULIETH FERNANDA      2      3      4      6      7   \n",
       "7       NUNEZ FERNANDEZ TULIO MANUEL      2      4      5      6      7   \n",
       "8   PATERNINA SOLORZANO MARIA ISABEL      2      3      4      6      7   \n",
       "9             PEREZ GARCIA ALEJANDRO      3      4      5      6      7   \n",
       "10      SERENO GUEVARA MARIA CELESTE      2      3      4      5      6   \n",
       "11              SIERRA SERPA YENIFER      2      3      4      5      6   \n",
       "12            VIDAL QUINTERO ELIACIB      2      3      4      5      6   \n",
       "13   VILLADIEGO GALLEGO JORGE ANDRES      2      4      5      6      7   \n",
       "\n",
       "    Exer6  Exer7  Exer8  Exer9  Exer10  \n",
       "0       7      8     10     11      12  \n",
       "1       8      9     10     11      12  \n",
       "2       7      8      9     10      11  \n",
       "3       7      8      9     10      12  \n",
       "4       7      9     10     11      12  \n",
       "5       8      9     10     11      12  \n",
       "6       8      9     10     11      12  \n",
       "7       8      9     10     11      12  \n",
       "8       8      9     10     11      12  \n",
       "9       8      9     10     11      12  \n",
       "10      7      9     10     11      12  \n",
       "11      7      8     10     11      12  \n",
       "12      8      9     10     11      12  \n",
       "13      8      9     10     11      12  "
      ]
     },
     "execution_count": 28,
     "metadata": {},
     "output_type": "execute_result"
    }
   ],
   "source": [
    "# Tarea 2 de solución de problemas \n",
    "# asignación de ejercicios de un seccion del texto guía\n",
    "\n",
    "# numpy.random.choice() obten la documentación de esta función en: \n",
    "# https://numpy.org/doc/stable/reference/random/generated/numpy.random.choice.html\n",
    "\n",
    "import pandas as pd\n",
    "import numpy as np\n",
    "import requests\n",
    "np.random.seed(424)  # establecer semilla aleatoria para hacer los resultados reproducibles\n",
    "\n",
    "\n",
    "\n",
    "grupo_estudiantes = 'math1'\n",
    "nombre_texto_guia = 'Lina_Grajales'\n",
    "pagina_y_seccion = 'Página_348_Sección_31-38'\n",
    "numero_ejercicios_taller = 12\n",
    "numero_de_ejercicios_asignados = 10\n",
    "\n",
    "\n",
    "# Descargar la lista de  estudiantes\n",
    "students_url = \"https://raw.githubusercontent.com/marco-canas/groups_list/main/\" + grupo_estudiantes + \".csv\"\n",
    "exercises = list(range(1, numero_ejercicios_taller))  \n",
    "\n",
    "students_data = pd.read_csv(students_url)\n",
    "\n",
    "# Crear una lista para almacenar las asignaciones\n",
    "assignments = []\n",
    "\n",
    "# Asignar ejercicios aleatorios a cada estudiante\n",
    "for index, student in students_data.iterrows():\n",
    "    # Seleccionar 5 ejercicios aleatorios sin repetición\n",
    "    random_exercises = np.sort(np.random.choice(exercises, \\\n",
    "                                        numero_de_ejercicios_asignados, replace = False)+ 1 )\n",
    "    assignments.append([students_data[\"Nombre\"][index], *random_exercises])  # Agregar asignación a la lista\n",
    "\n",
    "# Crear un DataFrame con las asignaciones\n",
    "columns = [\"Student\"] + [ \"Exer\" + str(i+1) for i in range(numero_de_ejercicios_asignados)]\n",
    "assignment_df = pd.DataFrame(assignments, columns=columns)\n",
    "\n",
    "# Guardar el DataFrame en un archivo CSV\n",
    "assignment_csv = \"tarea\" + \"_\" + nombre_texto_guia + \"_\"+ pagina_y_seccion + \".csv\"\n",
    "assignment_df.to_csv(assignment_csv, index=False)\n",
    "\n",
    "print(\"\"\"Tarea 2 de solución de problemas: \n",
    "      \"\"\", assignment_csv)\n",
    "assignment_df"
   ]
  },
  {
   "cell_type": "markdown",
   "id": "8b6b0112",
   "metadata": {
    "slideshow": {
     "slide_type": "slide"
    }
   },
   "source": [
    "# Tareas para realizar después de la realización de la clase"
   ]
  },
  {
   "cell_type": "markdown",
   "id": "947460e3",
   "metadata": {
    "slideshow": {
     "slide_type": "slide"
    }
   },
   "source": [
    "* Actividades de memorización: \n",
    "  - escucha reiterada de grabaciones de formulas y resultados científicos. \n",
    "  - relectura de notas. \n",
    "  - ejercicios de mayor complejidad.\n"
   ]
  },
  {
   "cell_type": "markdown",
   "id": "d34defb9",
   "metadata": {
    "slideshow": {
     "slide_type": "slide"
    }
   },
   "source": [
    "## Asignación individual de tareas semanales "
   ]
  },
  {
   "cell_type": "code",
   "execution_count": 30,
   "id": "0406f442",
   "metadata": {
    "slideshow": {
     "slide_type": "slide"
    }
   },
   "outputs": [
    {
     "name": "stdout",
     "output_type": "stream",
     "text": [
      "Tarea 3 Solución problemas \n",
      "      describiendo o justificando cada paso:  tarea_Lina Grajales_Matemáticas_I_para_ciencias_económicas_Página_348_Sección_31-38.csv\n"
     ]
    },
    {
     "data": {
      "text/html": [
       "<div>\n",
       "<style scoped>\n",
       "    .dataframe tbody tr th:only-of-type {\n",
       "        vertical-align: middle;\n",
       "    }\n",
       "\n",
       "    .dataframe tbody tr th {\n",
       "        vertical-align: top;\n",
       "    }\n",
       "\n",
       "    .dataframe thead th {\n",
       "        text-align: right;\n",
       "    }\n",
       "</style>\n",
       "<table border=\"1\" class=\"dataframe\">\n",
       "  <thead>\n",
       "    <tr style=\"text-align: right;\">\n",
       "      <th></th>\n",
       "      <th>Student</th>\n",
       "      <th>Exer1</th>\n",
       "      <th>Exer2</th>\n",
       "      <th>Exer3</th>\n",
       "      <th>Exer4</th>\n",
       "      <th>Exer5</th>\n",
       "      <th>Exer6</th>\n",
       "      <th>Exer7</th>\n",
       "      <th>Exer8</th>\n",
       "      <th>Exer9</th>\n",
       "      <th>Exer10</th>\n",
       "    </tr>\n",
       "  </thead>\n",
       "  <tbody>\n",
       "    <tr>\n",
       "      <th>0</th>\n",
       "      <td>ACEVEDO CASTILLO MAIRA DAYANA</td>\n",
       "      <td>2</td>\n",
       "      <td>3</td>\n",
       "      <td>4</td>\n",
       "      <td>5</td>\n",
       "      <td>6</td>\n",
       "      <td>7</td>\n",
       "      <td>9</td>\n",
       "      <td>10</td>\n",
       "      <td>11</td>\n",
       "      <td>12</td>\n",
       "    </tr>\n",
       "    <tr>\n",
       "      <th>1</th>\n",
       "      <td>ACOSTA RUIZ YIRLENA</td>\n",
       "      <td>2</td>\n",
       "      <td>3</td>\n",
       "      <td>5</td>\n",
       "      <td>6</td>\n",
       "      <td>7</td>\n",
       "      <td>8</td>\n",
       "      <td>9</td>\n",
       "      <td>10</td>\n",
       "      <td>11</td>\n",
       "      <td>12</td>\n",
       "    </tr>\n",
       "    <tr>\n",
       "      <th>2</th>\n",
       "      <td>GUERRERO SANTOS ISABELLA</td>\n",
       "      <td>2</td>\n",
       "      <td>3</td>\n",
       "      <td>5</td>\n",
       "      <td>6</td>\n",
       "      <td>7</td>\n",
       "      <td>8</td>\n",
       "      <td>9</td>\n",
       "      <td>10</td>\n",
       "      <td>11</td>\n",
       "      <td>12</td>\n",
       "    </tr>\n",
       "    <tr>\n",
       "      <th>3</th>\n",
       "      <td>LEGUIA MEJIA ESTEFANY</td>\n",
       "      <td>2</td>\n",
       "      <td>4</td>\n",
       "      <td>5</td>\n",
       "      <td>6</td>\n",
       "      <td>7</td>\n",
       "      <td>8</td>\n",
       "      <td>9</td>\n",
       "      <td>10</td>\n",
       "      <td>11</td>\n",
       "      <td>12</td>\n",
       "    </tr>\n",
       "    <tr>\n",
       "      <th>4</th>\n",
       "      <td>LLANO DAVILA DORIAN ANDRES</td>\n",
       "      <td>2</td>\n",
       "      <td>3</td>\n",
       "      <td>4</td>\n",
       "      <td>5</td>\n",
       "      <td>6</td>\n",
       "      <td>7</td>\n",
       "      <td>8</td>\n",
       "      <td>9</td>\n",
       "      <td>10</td>\n",
       "      <td>11</td>\n",
       "    </tr>\n",
       "    <tr>\n",
       "      <th>5</th>\n",
       "      <td>MARTINEZ BUENO DIEGO ESTEBAN</td>\n",
       "      <td>2</td>\n",
       "      <td>3</td>\n",
       "      <td>4</td>\n",
       "      <td>5</td>\n",
       "      <td>6</td>\n",
       "      <td>7</td>\n",
       "      <td>8</td>\n",
       "      <td>9</td>\n",
       "      <td>10</td>\n",
       "      <td>12</td>\n",
       "    </tr>\n",
       "    <tr>\n",
       "      <th>6</th>\n",
       "      <td>MORENO BENJUMEA JULIETH FERNANDA</td>\n",
       "      <td>2</td>\n",
       "      <td>4</td>\n",
       "      <td>5</td>\n",
       "      <td>6</td>\n",
       "      <td>7</td>\n",
       "      <td>8</td>\n",
       "      <td>9</td>\n",
       "      <td>10</td>\n",
       "      <td>11</td>\n",
       "      <td>12</td>\n",
       "    </tr>\n",
       "    <tr>\n",
       "      <th>7</th>\n",
       "      <td>NUNEZ FERNANDEZ TULIO MANUEL</td>\n",
       "      <td>2</td>\n",
       "      <td>3</td>\n",
       "      <td>4</td>\n",
       "      <td>5</td>\n",
       "      <td>6</td>\n",
       "      <td>8</td>\n",
       "      <td>9</td>\n",
       "      <td>10</td>\n",
       "      <td>11</td>\n",
       "      <td>12</td>\n",
       "    </tr>\n",
       "    <tr>\n",
       "      <th>8</th>\n",
       "      <td>PATERNINA SOLORZANO MARIA ISABEL</td>\n",
       "      <td>2</td>\n",
       "      <td>3</td>\n",
       "      <td>4</td>\n",
       "      <td>5</td>\n",
       "      <td>6</td>\n",
       "      <td>7</td>\n",
       "      <td>8</td>\n",
       "      <td>10</td>\n",
       "      <td>11</td>\n",
       "      <td>12</td>\n",
       "    </tr>\n",
       "    <tr>\n",
       "      <th>9</th>\n",
       "      <td>PEREZ GARCIA ALEJANDRO</td>\n",
       "      <td>2</td>\n",
       "      <td>3</td>\n",
       "      <td>4</td>\n",
       "      <td>5</td>\n",
       "      <td>6</td>\n",
       "      <td>7</td>\n",
       "      <td>8</td>\n",
       "      <td>9</td>\n",
       "      <td>10</td>\n",
       "      <td>11</td>\n",
       "    </tr>\n",
       "    <tr>\n",
       "      <th>10</th>\n",
       "      <td>SERENO GUEVARA MARIA CELESTE</td>\n",
       "      <td>2</td>\n",
       "      <td>4</td>\n",
       "      <td>5</td>\n",
       "      <td>6</td>\n",
       "      <td>7</td>\n",
       "      <td>8</td>\n",
       "      <td>9</td>\n",
       "      <td>10</td>\n",
       "      <td>11</td>\n",
       "      <td>12</td>\n",
       "    </tr>\n",
       "    <tr>\n",
       "      <th>11</th>\n",
       "      <td>SIERRA SERPA YENIFER</td>\n",
       "      <td>2</td>\n",
       "      <td>4</td>\n",
       "      <td>5</td>\n",
       "      <td>6</td>\n",
       "      <td>7</td>\n",
       "      <td>8</td>\n",
       "      <td>9</td>\n",
       "      <td>10</td>\n",
       "      <td>11</td>\n",
       "      <td>12</td>\n",
       "    </tr>\n",
       "    <tr>\n",
       "      <th>12</th>\n",
       "      <td>VIDAL QUINTERO ELIACIB</td>\n",
       "      <td>2</td>\n",
       "      <td>3</td>\n",
       "      <td>4</td>\n",
       "      <td>5</td>\n",
       "      <td>6</td>\n",
       "      <td>7</td>\n",
       "      <td>8</td>\n",
       "      <td>10</td>\n",
       "      <td>11</td>\n",
       "      <td>12</td>\n",
       "    </tr>\n",
       "    <tr>\n",
       "      <th>13</th>\n",
       "      <td>VILLADIEGO GALLEGO JORGE ANDRES</td>\n",
       "      <td>2</td>\n",
       "      <td>3</td>\n",
       "      <td>4</td>\n",
       "      <td>5</td>\n",
       "      <td>6</td>\n",
       "      <td>7</td>\n",
       "      <td>8</td>\n",
       "      <td>9</td>\n",
       "      <td>10</td>\n",
       "      <td>12</td>\n",
       "    </tr>\n",
       "  </tbody>\n",
       "</table>\n",
       "</div>"
      ],
      "text/plain": [
       "                             Student  Exer1  Exer2  Exer3  Exer4  Exer5  \\\n",
       "0      ACEVEDO CASTILLO MAIRA DAYANA      2      3      4      5      6   \n",
       "1                ACOSTA RUIZ YIRLENA      2      3      5      6      7   \n",
       "2           GUERRERO SANTOS ISABELLA      2      3      5      6      7   \n",
       "3              LEGUIA MEJIA ESTEFANY      2      4      5      6      7   \n",
       "4         LLANO DAVILA DORIAN ANDRES      2      3      4      5      6   \n",
       "5       MARTINEZ BUENO DIEGO ESTEBAN      2      3      4      5      6   \n",
       "6   MORENO BENJUMEA JULIETH FERNANDA      2      4      5      6      7   \n",
       "7       NUNEZ FERNANDEZ TULIO MANUEL      2      3      4      5      6   \n",
       "8   PATERNINA SOLORZANO MARIA ISABEL      2      3      4      5      6   \n",
       "9             PEREZ GARCIA ALEJANDRO      2      3      4      5      6   \n",
       "10      SERENO GUEVARA MARIA CELESTE      2      4      5      6      7   \n",
       "11              SIERRA SERPA YENIFER      2      4      5      6      7   \n",
       "12            VIDAL QUINTERO ELIACIB      2      3      4      5      6   \n",
       "13   VILLADIEGO GALLEGO JORGE ANDRES      2      3      4      5      6   \n",
       "\n",
       "    Exer6  Exer7  Exer8  Exer9  Exer10  \n",
       "0       7      9     10     11      12  \n",
       "1       8      9     10     11      12  \n",
       "2       8      9     10     11      12  \n",
       "3       8      9     10     11      12  \n",
       "4       7      8      9     10      11  \n",
       "5       7      8      9     10      12  \n",
       "6       8      9     10     11      12  \n",
       "7       8      9     10     11      12  \n",
       "8       7      8     10     11      12  \n",
       "9       7      8      9     10      11  \n",
       "10      8      9     10     11      12  \n",
       "11      8      9     10     11      12  \n",
       "12      7      8     10     11      12  \n",
       "13      7      8      9     10      12  "
      ]
     },
     "execution_count": 30,
     "metadata": {},
     "output_type": "execute_result"
    }
   ],
   "source": [
    "# Tarea 3 de solución de problemas describiendo procedimientos y justificándolos\n",
    "\n",
    "# asignación de ejercicios de un seccion del texto guía\n",
    "\n",
    "# numpy.random.choice() obten la documentación de esta función en: \n",
    "# https://numpy.org/doc/stable/reference/random/generated/numpy.random.choice.html\n",
    "\n",
    "import pandas as pd\n",
    "import numpy as np\n",
    "import requests\n",
    "np.random.seed(126)  # establecer semilla aleatoria para hacer los resultados reproducibles\n",
    "\n",
    "\n",
    "\n",
    "grupo_estudiantes = 'math1'\n",
    "nombre_texto_guia = 'Lina Grajales_Matemáticas_I_para_ciencias_económicas'\n",
    "pagina_y_seccion = 'Página_348_Sección_31-38'\n",
    "numero_ejercicios_taller = 12\n",
    "numero_de_ejercicios_asignados = 10\n",
    "\n",
    "\n",
    "# Descargar la lista de  estudiantes\n",
    "students_url = \"https://raw.githubusercontent.com/marco-canas/groups_list/main/\" + grupo_estudiantes + \".csv\"\n",
    "exercises = list(range(1, numero_ejercicios_taller))  \n",
    "\n",
    "students_data = pd.read_csv(students_url)\n",
    "\n",
    "# Crear una lista para almacenar las asignaciones\n",
    "assignments = []\n",
    "\n",
    "# Asignar ejercicios aleatorios a cada estudiante\n",
    "for index, student in students_data.iterrows():\n",
    "    # Seleccionar 5 ejercicios aleatorios sin repetición\n",
    "    random_exercises = np.sort(np.random.choice(exercises, numero_de_ejercicios_asignados, \\\n",
    "                                                replace = False)+ 1 )\n",
    "    assignments.append([students_data[\"Nombre\"][index], *random_exercises])  # Agregar asignación a la lista\n",
    "\n",
    "# Crear un DataFrame con las asignaciones\n",
    "columns = [\"Student\"] + [ \"Exer\" + str(i+1) for i in range(numero_de_ejercicios_asignados)]\n",
    "assignment_df = pd.DataFrame(assignments, columns=columns)\n",
    "\n",
    "# Guardar el DataFrame en un archivo CSV\n",
    "assignment_csv = \"tarea\" + \"_\" + nombre_texto_guia + \"_\"+ pagina_y_seccion + \".csv\"\n",
    "assignment_df.to_csv(assignment_csv, index=False)\n",
    "\n",
    "print(\"\"\"Tarea 3 Solución problemas \n",
    "      describiendo o justificando cada paso: \"\"\", assignment_csv)\n",
    "assignment_df"
   ]
  },
  {
   "cell_type": "markdown",
   "id": "742281f4",
   "metadata": {},
   "source": [
    "# No olvide la tarea de realizar la foda para autoevaluarse\n",
    "\n",
    "Fortalezas: F  \n",
    "Oportuniudades O:  \n",
    "Debilidades: D:   \n",
    "Amenazas: A:     "
   ]
  },
  {
   "cell_type": "markdown",
   "id": "8d41fe58",
   "metadata": {
    "slideshow": {
     "slide_type": "slide"
    }
   },
   "source": [
    "# Horario de clases del profesor Marco\n",
    "\n",
    "* Martes y jueves de 10 a 12: Fundamentos de las matemáticas\n",
    "* Martes y jueves de 2 a 4 PM: Fundamentos de la aritmética\n",
    "\n",
    "* Didáctica de la aritmética: Miércoles de 8 - 12\n",
    "\n"
   ]
  },
  {
   "cell_type": "markdown",
   "id": "ae114e14",
   "metadata": {
    "slideshow": {
     "slide_type": "slide"
    }
   },
   "source": [
    "# Horarios de monitoría y asesoría"
   ]
  },
  {
   "cell_type": "markdown",
   "id": "b1db4b6c",
   "metadata": {
    "slideshow": {
     "slide_type": "slide"
    }
   },
   "source": [
    "## Monitor Manuel"
   ]
  },
  {
   "cell_type": "markdown",
   "id": "39559692",
   "metadata": {
    "slideshow": {
     "slide_type": "slide"
    }
   },
   "source": [
    "Martes y jueves de 8 - 12  \n",
    "Miércoles 10 - 12 y de 2 a 4 PM  \n",
    "Sábado: 8 - 12"
   ]
  },
  {
   "cell_type": "markdown",
   "id": "935a5567",
   "metadata": {
    "slideshow": {
     "slide_type": "slide"
    }
   },
   "source": [
    "## Dificultades de aprendizaje detectados durante la clase"
   ]
  },
  {
   "cell_type": "markdown",
   "id": "3bd7500d",
   "metadata": {
    "slideshow": {
     "slide_type": "slide"
    }
   },
   "source": []
  },
  {
   "cell_type": "markdown",
   "id": "fb9402bb",
   "metadata": {
    "slideshow": {
     "slide_type": "slide"
    }
   },
   "source": [
    "## Estrategias propuestas para la solución de las dificultades de aprendizaje detectadas"
   ]
  },
  {
   "cell_type": "markdown",
   "id": "d437294b",
   "metadata": {
    "slideshow": {
     "slide_type": "slide"
    }
   },
   "source": []
  },
  {
   "cell_type": "markdown",
   "id": "d11570a2",
   "metadata": {
    "slideshow": {
     "slide_type": "slide"
    }
   },
   "source": []
  },
  {
   "cell_type": "markdown",
   "id": "319f2ffa",
   "metadata": {
    "slideshow": {
     "slide_type": "slide"
    }
   },
   "source": [
    "## Grabaciones en audio para fomentar la capacidad de memorizar enunciados de teoremas y resultados científicos y la capacidad de parafrasear estos resultados. Y así desarrollar memoria muscular para los comandos comunes. \n",
    "Se dispondrá de un lugar en Vocaroo para albergar archivos de audio de fomento a la memorización, enunciación y parafraseo de los resultados científicos, propiedades, reglas, etc. \n",
    "\n",
    "[Vocaroo](https://vocaroo.com/)\n",
    "\n"
   ]
  },
  {
   "cell_type": "markdown",
   "id": "564fa59d",
   "metadata": {
    "slideshow": {
     "slide_type": "slide"
    }
   },
   "source": [
    "### Comparta sus cuadernos y videos, evidencias de su aprendizaje [aquí](https://forms.office.com/Pages/ResponsePage.aspx?id=IefhmYRxjkmK_7KtTlPBwkanXIs1i1FEujpsZgO6dXpUMEMwTEZVMzEwVVBPTElWNVg5OVEyWUhMUy4u)"
   ]
  },
  {
   "cell_type": "markdown",
   "id": "1a1a3e41",
   "metadata": {
    "slideshow": {
     "slide_type": "slide"
    }
   },
   "source": []
  },
  {
   "cell_type": "markdown",
   "id": "44be6d93",
   "metadata": {
    "slideshow": {
     "slide_type": "slide"
    }
   },
   "source": [
    "# Vocabulary "
   ]
  },
  {
   "cell_type": "markdown",
   "id": "35e2484a",
   "metadata": {
    "slideshow": {
     "slide_type": "slide"
    }
   },
   "source": [
    "1. \n",
    "2.  \n",
    "3.  \n",
    "4.  \n",
    "5.  "
   ]
  },
  {
   "cell_type": "markdown",
   "id": "94187562",
   "metadata": {},
   "source": [
    "# Colección de verbos irregulares aprendidos\n",
    "\n",
    "|Verbo irregular en presente|en español|Pasado|\n",
    "|---------------------------|----------|------|  \n",
    "|choose|elegir|chose|"
   ]
  },
  {
   "cell_type": "markdown",
   "id": "10bce0d0",
   "metadata": {
    "slideshow": {
     "slide_type": "slide"
    }
   },
   "source": [
    "## Referentes "
   ]
  },
  {
   "cell_type": "markdown",
   "id": "1db3c468",
   "metadata": {
    "slideshow": {
     "slide_type": "slide"
    }
   },
   "source": [
    "* Chollet, F. (2021). Deep learning with Python. Simon and Schuster.  \n",
    "  \n",
    "* [stewart precálculo](https://udeaeduco-my.sharepoint.com/:b:/g/personal/marco_canas_udea_edu_co/ERHIq62I6qFNrmxy6LZb8ZMBci7kUsyNME1nIh9yCBMJ_w?e=0zMSla)  \n",
    "\n",
    "* [stewart cálculo](https://udeaeduco-my.sharepoint.com/:b:/g/personal/marco_canas_udea_edu_co/EZgXZjAp8QxPqOAim2hs6LcBNPLGjSHf-xwYnUVYkwa04w?e=RZdTCy)  \n",
    "\n",
    "* [larson](https://udeaeduco-my.sharepoint.com/:b:/g/personal/marco_canas_udea_edu_co/ES71ChFeO9ZDhW3TwC5Ijk8BjxUK3Pdqz_fjHxTTFAfIAg?e=VDEjfu)\n",
    "\n",
    "* [uzcategui](https://udeaeduco-my.sharepoint.com/:b:/g/personal/marco_canas_udea_edu_co/ETDikm-lVl1Or8XoEo9oyh0BEti9Zs8le-f0D-dBdtZmbA?e=bBsoyQ)\n",
    "\n",
    "* [Cálculo de Purcell](https://udeaeduco-my.sharepoint.com/:b:/g/personal/marco_canas_udea_edu_co/ES60UB4h-QFFqqRQUFmkpWcBIgoLBJeqTfZjNajWNWSeJA?e=9NxjKJ)\n",
    "\n",
    "* [Recomendación de la UNESCO sobre ciencia abierta](https://unesdoc.unesco.org/ark:/48223/pf0000379949_spa)\n",
    "\n",
    "* [Fórmulas más comunes en latex](https://wiki.geogebra.org/es/C%C3%B3digo_LaTeX_para_las_f%C3%B3rmulas_m%C3%A1s_comunes) \n",
    "\n",
    "* [chatGPT](https://openai.com/blog/chatgpt)  \n",
    "\n",
    "* Géron, A. (2017). Hands-on machine learning with scikit-learn and tensorflow: Concepts. Tools, and Techniques to build intelligent systems.[Geron, Aurelien. Hands on Machine Learning](https://udeaeduco-my.sharepoint.com/:b:/g/personal/marco_canas_udea_edu_co/Ecet27yjQzZIlT1Y_Bc2erkBUhbeYuIe6HG8i1FYZRlZww?e=dlvZ4v)  \n",
    "\n",
    "* McKinney, W. (2012). Python for data analysis: Data wrangling with Pandas, NumPy, and IPython. \" O'Reilly Media, Inc.\".[Wes Mackinney. ](https://udeaeduco-my.sharepoint.com/:b:/g/personal/marco_canas_udea_edu_co/EVbi5JIeBl9ErbiUnZfGe8YBhNTnZ8sxTK5hjIOPK4UpGw?e=fFclah)  \n",
    "\n"
   ]
  },
  {
   "cell_type": "markdown",
   "id": "45c59aa9",
   "metadata": {},
   "source": [
    "[Autoevaluemonos para hacernos concientes de nuestro aprendizaje y en lo que debemos enfocarnos en mejorar]()  \n"
   ]
  },
  {
   "cell_type": "markdown",
   "id": "f227190a",
   "metadata": {},
   "source": [
    "\n",
    "Aquí tienes una lista de preguntas de selección múltiple para una autoevaluación en un curso de cálculo con un enfoque pedagógico de aula invertida. Estas preguntas abarcan los objetivos de desarrollo del pensamiento variacional, pensamiento computacional a través de Python, capacidad de comunicación científica con LaTeX, Git y el uso de cuadernos Jupyter, así como la promoción de políticas de ciencia libre. \n"
   ]
  },
  {
   "cell_type": "markdown",
   "id": "423b864e",
   "metadata": {},
   "source": [
    "\n",
    "1. **Pensamiento Variacional:**\n",
    "   a. ¿Qué significa el término \"variación\" en el contexto del pensamiento variacional?\n",
    "   b. ¿Cómo se relaciona el cálculo con el pensamiento variacional?\n",
    "   c. ¿Puede proporcionar un ejemplo práctico que ilustre el concepto de variación en un problema de cálculo?\n"
   ]
  },
  {
   "cell_type": "markdown",
   "id": "e5271024",
   "metadata": {},
   "source": [
    "\n",
    "2. **Pensamiento Computacional (Python):**\n",
    "   a. ¿Cuál es el propósito principal de utilizar Python en un curso de cálculo?\n",
    "   b. ¿Cómo se puede utilizar Python para resolver problemas matemáticos complejos?\n",
    "   c. Menciona al menos dos ventajas de usar Python en comparación con otros lenguajes de programación en el contexto del cálculo.\n"
   ]
  },
  {
   "cell_type": "markdown",
   "id": "4ed32b1b",
   "metadata": {},
   "source": [
    "\n",
    "3. **Comunicación Científica (LaTeX):**\n",
    "   a. ¿Por qué es importante utilizar LaTeX para la comunicación científica en matemáticas y ciencias?\n",
    "   b. Enumera al menos tres comandos básicos de LaTeX utilizados para escribir ecuaciones matemáticas.\n",
    "   c. ¿Cómo mejorarías la presentación visual de una fórmula matemática utilizando LaTeX?\n"
   ]
  },
  {
   "cell_type": "markdown",
   "id": "59eea066",
   "metadata": {},
   "source": [
    "\n",
    "4. **Gestión de Versiones (Git):**\n",
    "   a. ¿Cuál es el propósito principal de utilizar Git en el desarrollo de proyectos científicos?\n",
    "   b. Explica el concepto de \"commit\" en Git.\n",
    "   c. ¿Cómo resolverías un conflicto de fusión (merge conflict) en Git?\n",
    "\n",
    "5. **Cuadernos Jupyter:**\n",
    "   a. ¿Cuáles son las ventajas de utilizar cuadernos Jupyter en comparación con otros entornos de desarrollo?\n",
    "   b. Describe cómo se integra el código Python y la documentación en un cuaderno Jupyter.\n",
    "   c. ¿Cómo compartirías un cuaderno Jupyter con tus compañeros de clase utilizando GitHub?\n",
    "\n",
    "6. **Promoción de Políticas de Ciencia Libre:**\n",
    "   a. ¿Cuáles son los beneficios de utilizar plataformas como GitHub y YouTube para compartir recursos científicos?\n",
    "   b. ¿Cómo podrías contribuir a la promoción de la ciencia libre en tu comunidad académica?\n",
    "   c. ¿Por qué es importante la transparencia y accesibilidad en la investigación científica?\n",
    "\n",
    "Estas preguntas están diseñadas para evaluar la comprensión de los estudiantes en diversos aspectos del curso, abarcando desde los conceptos matemáticos hasta las habilidades tecnológicas y la conciencia sobre la ciencia libre."
   ]
  },
  {
   "cell_type": "markdown",
   "id": "8e65d6f9",
   "metadata": {},
   "source": [
    "# Como estudiante, encuentro que...   \n",
    "\n",
    "F: Mis Fortalezas son:     \n",
    "O: Mis Oportunidades son:    \n",
    "D: Mis Debilidades son:    \n",
    "A: Lo que Amenazas mi aprendizaje es:  "
   ]
  },
  {
   "cell_type": "markdown",
   "id": "6b9e56a8",
   "metadata": {
    "slideshow": {
     "slide_type": "slide"
    }
   },
   "source": [
    "### [Evaluamos al profesor Marco Cañas Aquí](https://forms.office.com/Pages/ResponsePage.aspx?id=IefhmYRxjkmK_7KtTlPBwkanXIs1i1FEujpsZgO6dXpUREJPV1kxUk1JV1ozTFJIQVNIQjY5WEY3US4u)"
   ]
  },
  {
   "cell_type": "markdown",
   "id": "050b9508",
   "metadata": {},
   "source": [
    "# Aportes de mis estudiantes a la metodología del curso  \n",
    "1. \n",
    "\n",
    "Sus opiniones y aportes son muy importantes para mi. Pues esta es una investigación educativa y un servicio de enseñanza para ustedes. Ustedes son la razón de ser de mi actividad docente. Dios los bendiga. "
   ]
  },
  {
   "cell_type": "markdown",
   "id": "6c4af91f",
   "metadata": {},
   "source": [
    "# Aportes de mis colegas docentes a la metodología que estoy aplicando en mis cursos. "
   ]
  },
  {
   "cell_type": "markdown",
   "id": "071afa04",
   "metadata": {
    "slideshow": {
     "slide_type": "slide"
    }
   },
   "source": [
    "## [Evaluación luego de alcanzar estos objetivos de aprendizaje]()"
   ]
  },
  {
   "cell_type": "markdown",
   "id": "10f43536",
   "metadata": {
    "slideshow": {
     "slide_type": "slide"
    }
   },
   "source": [
    "### Continue su aprendizaje en la siguiente clase a través del siguiente [vínculo]()"
   ]
  },
  {
   "cell_type": "markdown",
   "id": "af751e30",
   "metadata": {
    "slideshow": {
     "slide_type": "slide"
    }
   },
   "source": [
    "# Conjeturas pedagógicas fruto de la aplicación del modelo de aprendizaje invertido y del enfoque hacia la ciencia de datos con python\n",
    "\n",
    "1. Todo cálculo o resultado debe ser interpretado en una línea markdown del cuaderno Jupyter, inmediatamente después de la enunciación del resultado y después de la presentación de una tabla o gráfico bidimensional, de tal menera que el estudiante explicite la comprensión verbal del resultado y las inferencias o estrategias que este resultado le sugieren.  \n"
   ]
  },
  {
   "cell_type": "markdown",
   "id": "93adf890",
   "metadata": {},
   "source": [
    "\n",
    "2. Debo colocar las conjeturas pedagógicas, que el uso en el aula de [ChatGPT](https://openai.com/blog/chatgpt/) traiga para la enseñanza y el aprendizaje de las matemáticas. \n"
   ]
  },
  {
   "cell_type": "markdown",
   "id": "d5a080ce",
   "metadata": {},
   "source": [
    "\n",
    "3. Promover ciencia abierta en clase de matemáticas puede ser pidiendo a los estudiantes, tomar nota en clase pero en cuadernos Jupyter y entregar siempre al final de cada clase su cuaderno con todas las notas y experimentaciones de clase replicadas. \n",
    "4. Profesor Marco, ¿ha contemplado la posibilidad de intercambio de experiencias de aprendizaje y aplicación de Python al día a día con comfama? (Estudio Trabajo Social y allí, en comfama, aprendí los fundamentos, lo básico de Python)\n",
    "\n",
    "¿Conoce si en la Universidad de Antioquia hay medios para poder aprender Swift/XCODE? (Para programar para dispositivos de Apple)\n",
    "5. Debo considerar la metodología ABP, es decir, diseñar las clase bajo la metodología de Aprendizaje Basado en Problemas. \n",
    "\n"
   ]
  },
  {
   "cell_type": "markdown",
   "id": "53cc9115",
   "metadata": {
    "slideshow": {
     "slide_type": "slide"
    }
   },
   "source": [
    "## Agradecimientos  \n",
    "\n",
    "Doy gracias a Dios por la vida de mi Hijo Joseph Cañas Osorio y la madurez que ha alcanzado.\n",
    "\n",
    "Y a mi esposa Yasmira por su apoyo, orientación y acompañamiento. "
   ]
  }
 ],
 "metadata": {
  "celltoolbar": "Slideshow",
  "kernelspec": {
   "display_name": "Python 3 (ipykernel)",
   "language": "python",
   "name": "python3"
  },
  "language_info": {
   "codemirror_mode": {
    "name": "ipython",
    "version": 3
   },
   "file_extension": ".py",
   "mimetype": "text/x-python",
   "name": "python",
   "nbconvert_exporter": "python",
   "pygments_lexer": "ipython3",
   "version": "3.10.12"
  },
  "rise": {
   "enable_chalkboard": true,
   "theme": "sky",
   "transition": "zoom"
  }
 },
 "nbformat": 4,
 "nbformat_minor": 5
}
