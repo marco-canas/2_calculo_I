{
 "cells": [
  {
   "cell_type": "markdown",
   "id": "dc06dec7",
   "metadata": {
    "slideshow": {
     "slide_type": "slide"
    }
   },
   "source": [
    "<table align=\"left\">\n",
    "  <td>\n",
    "    <a href=\"https://colab.research.google.com/github/marco-canas/didactica_ciencia_datos/blob/main/1_curso_machine_learning/7_models/1_modelo_general_clase_aula_invertida.ipynb\" target=\"_parent\"><img src=\"https://colab.research.google.com/assets/colab-badge.svg\" alt=\"Open In Colab\"/></a>\n",
    "  </td>\n",
    "</table>"
   ]
  },
  {
   "cell_type": "markdown",
   "id": "e0c5b198",
   "metadata": {
    "slideshow": {
     "slide_type": "slide"
    }
   },
   "source": [
    "### [Video de apoyo a la lectura interactiva y experimental de este cuaderno]()"
   ]
  },
  {
   "cell_type": "markdown",
   "id": "41e82203",
   "metadata": {
    "slideshow": {
     "slide_type": "slide"
    }
   },
   "source": [
    "## [Vínculo al programa del curso:  ]()\n",
    "\n"
   ]
  },
  {
   "cell_type": "markdown",
   "id": "d11ab06d",
   "metadata": {
    "slideshow": {
     "slide_type": "slide"
    }
   },
   "source": [
    "Un reconocimiento a mis estudiantes que han construido conmigo este saber pedagógico:\n",
    "\n",
    "<img src = ''> \n",
    "\n"
   ]
  },
  {
   "cell_type": "markdown",
   "id": "5e3936d8",
   "metadata": {
    "slideshow": {
     "slide_type": "slide"
    }
   },
   "source": [
    "# Llamar a lista o tomar asistencia con python o llamar el equipo para la tarea con video y cuaderno Jupyter sobre medición indirecta de grandes alturas con imágenes"
   ]
  },
  {
   "cell_type": "code",
   "execution_count": null,
   "id": "7604880f",
   "metadata": {
    "slideshow": {
     "slide_type": "slide"
    }
   },
   "outputs": [],
   "source": [
    "import pandas as pd\n",
    "import random\n",
    "\n",
    "# Cargar la lista de estudiantes desde la URL\n",
    "url = 'https://raw.githubusercontent.com/marco-canas/groups_list/main/calculo_diferencial.csv'\n",
    "estudiantes = pd.read_csv(url)\n",
    "\n",
    "# Función para llamar a un estudiante aleatoriamente y registrar su nota de seguimiento\n",
    "def llamar_estudiante():\n",
    "    estudiante_aleatorio = random.choice(estudiantes['Nombre'])\n",
    "    print(f\"Llamando a {estudiante_aleatorio}...\")\n",
    "    \n",
    "    \n",
    "# Llamar a la función para realizar el proceso\n",
    "llamar_estudiante()\n"
   ]
  },
  {
   "cell_type": "markdown",
   "id": "4f9d8cf9",
   "metadata": {
    "slideshow": {
     "slide_type": "slide"
    }
   },
   "source": [
    "# Modelo general de clase: [aula invertida](https://www3.gobiernodecanarias.org/medusa/ecoescuela/pedagotic/aprendizaje-invertido-flipped-classroom/)"
   ]
  },
  {
   "cell_type": "markdown",
   "id": "eb6ed03a",
   "metadata": {},
   "source": [
    "![Definamos flipped learning de manera gráfica](https://resources.maneuveringthemiddle.com/wp-content/uploads/2020/07/04212706/1-5.png)"
   ]
  },
  {
   "cell_type": "markdown",
   "id": "8d97dc80",
   "metadata": {
    "slideshow": {
     "slide_type": "slide"
    }
   },
   "source": [
    "## Fomento de la lectura literaria asociada a Ingeniería agropecuaria y licenciatura en Matemáticas\n",
    "\n",
    "\n",
    "[MARSHALL ROSENBERG](https://udeaeduco-my.sharepoint.com/:b:/g/personal/marco_canas_udea_edu_co/Efb_5fC50D5JnA4BzTKzgsIB9UeMjgs1kCU-sROZDlWTGw?e=gjRMdZ)"
   ]
  },
  {
   "cell_type": "markdown",
   "id": "bff96119",
   "metadata": {
    "slideshow": {
     "slide_type": "slide"
    }
   },
   "source": [
    "### Introducción"
   ]
  },
  {
   "cell_type": "markdown",
   "id": "c2ca8f2e",
   "metadata": {
    "slideshow": {
     "slide_type": "slide"
    }
   },
   "source": [
    "* forma parte intrínseca de nuestra naturaleza sentirnos satisfechos cuando damos y recibimos algo de manera compasiva o solidaria, \n",
    "* hay dos preguntas que me han preocupado durante la mayor parte de mi vida. "
   ]
  },
  {
   "cell_type": "markdown",
   "id": "4e4614ff",
   "metadata": {
    "slideshow": {
     "slide_type": "slide"
    }
   },
   "source": [
    "¿Qué ocurre que nos desconecta de nuestra naturaleza solidaria y nos lleva a comportarnos de manera violenta y abusiva?"
   ]
  },
  {
   "cell_type": "markdown",
   "id": "86dee509",
   "metadata": {
    "slideshow": {
     "slide_type": "slide"
    }
   },
   "source": [
    " Y a la inversa, ¿por qué algunas personas son consecuentes con esta actitud solidaria incluso en las circunstancias más adversas?"
   ]
  },
  {
   "cell_type": "markdown",
   "id": "93306ead",
   "metadata": {
    "slideshow": {
     "slide_type": "slide"
    }
   },
   "source": [
    "Desde aquel verano del año 1943, he estado analizando las dos preguntas que a lo largo de este libro, como en toda su obra sobre comunicación no violenta, Marshall Rosenberg utiliza con frecuencia el término \"compasión\". "
   ]
  },
  {
   "cell_type": "markdown",
   "id": "bb315608",
   "metadata": {
    "slideshow": {
     "slide_type": "slide"
    }
   },
   "source": [
    "Lo hace apelando al profundo impulso de humanidad común que existe en los seres humanos cuando nos comunicamos sin violencia. "
   ]
  },
  {
   "cell_type": "markdown",
   "id": "b39679b3",
   "metadata": {
    "slideshow": {
     "slide_type": "slide"
    }
   },
   "source": [
    "# Los juicios moralistas"
   ]
  },
  {
   "cell_type": "markdown",
   "id": "d4e8cd6b",
   "metadata": {
    "slideshow": {
     "slide_type": "slide"
    }
   },
   "source": [
    "Un tipo de comunicación que aliena de la vida es aquél en el que empleamos juicios moralistas que presuponen una actitud errónea o malvada por parte de aquellas personas que no actúan de acuerdo con nuestros valores. "
   ]
  },
  {
   "cell_type": "markdown",
   "id": "c1ea3dcc",
   "metadata": {
    "slideshow": {
     "slide_type": "slide"
    }
   },
   "source": [
    "Estos juicios se reflejan en comentarios como:   \n",
    "\n",
    "* «Tu problema es que eres muy egoísta», \n",
    "* «Es una perezosa», \n",
    "* «Están llenos de prejuicios», \n",
    "* «Esto es inapropiado».   \n",
    "  \n",
    "Echar la culpa a alguien, insultarlo, rebajarlo, ponerle etiquetas, criticarlo, establecer comparaciones y emitir diagnósticos son distintas maneras de formular juicios.\n"
   ]
  },
  {
   "cell_type": "markdown",
   "metadata": {},
   "source": [
    "Sin embargo, la comunicación que nos aliena de la vida nos atrapa en un mundo de ideas preconcebidas con respecto a lo que está bien y lo que está mal, un mundo hecho de juicios. "
   ]
  },
  {
   "cell_type": "markdown",
   "metadata": {},
   "source": [
    "Emplea un lenguaje en el que abundan las palabras que establecen clasificaciones y dicotomías con respecto a las personas y a sus formas de actuar.\n"
   ]
  },
  {
   "cell_type": "markdown",
   "metadata": {},
   "source": [
    "Cuando utilizamos este lenguaje juzgamos a los demás y su comportamiento y nos centramos en quién es bueno, malo, normal, anormal, responsable, irresponsable, inteligente, ignorante, etcétera. "
   ]
  },
  {
   "cell_type": "markdown",
   "metadata": {},
   "source": [
    "Estas formas de comunicación nos alienan de nuestro estado natural de compasión o solidaridad."
   ]
  },
  {
   "cell_type": "markdown",
   "id": "5fc493ad",
   "metadata": {
    "slideshow": {
     "slide_type": "slide"
    }
   },
   "source": [
    "En el mundo de los juicios\n",
    "nuestra preocupación se\n",
    "centra en quién “es” qué."
   ]
  },
  {
   "cell_type": "markdown",
   "id": "23d1cf0a",
   "metadata": {
    "slideshow": {
     "slide_type": "slide"
    }
   },
   "source": [
    "Mucho antes de llegar a la edad adulta, aprendí a comunicarme con los demás de una manera impersonal en la que no necesitaba revelar lo que me estaba pasando internamente. "
   ]
  },
  {
   "cell_type": "markdown",
   "id": "fe92600c",
   "metadata": {
    "slideshow": {
     "slide_type": "slide"
    }
   },
   "source": [
    "Cada vez que me encontraba con personas o hechos que no me gustaban o no comprendía, mi reacción consistía en dictaminar que los equivocados eran ellos. "
   ]
  },
  {
   "cell_type": "markdown",
   "id": "02abdd5f",
   "metadata": {
    "slideshow": {
     "slide_type": "slide"
    }
   },
   "source": [
    "Cuando mis maestros me encomendaban una tarea que yo no tenía ganas de hacer, se convertían a mis ojos en unos «pesados» o unos «imbéciles». "
   ]
  },
  {
   "cell_type": "markdown",
   "id": "9fc2f7f6",
   "metadata": {
    "slideshow": {
     "slide_type": "slide"
    }
   },
   "source": [
    "Cuando estaba manejando y alguien me pasaba por delante, yo reaccionaba llamándolo «idiota». "
   ]
  },
  {
   "cell_type": "markdown",
   "id": "c4231c7a",
   "metadata": {
    "slideshow": {
     "slide_type": "slide"
    }
   },
   "source": [
    "Siempre que empleamos este lenguaje, pensamos y nos comunicamos desde la perspectiva de que algo falla en los demás porque se comportan de una determinada manera o, a veces, de que algo falla en nosotros porque no comprendemos o no respondemos como nos gustaría. "
   ]
  },
  {
   "cell_type": "markdown",
   "id": "16ce4f69",
   "metadata": {
    "slideshow": {
     "slide_type": "slide"
    }
   },
   "source": [
    "Centramos nuestra atención en clasificar, analizar y determinar niveles de error más que en lo que necesitamos (nosotros y los demás) y no conseguimos. "
   ]
  },
  {
   "cell_type": "markdown",
   "id": "9715eef7",
   "metadata": {
    "slideshow": {
     "slide_type": "slide"
    }
   },
   "source": [
    "En consecuencia, si mi pareja quiere más cariño del que yo le ofrezco, es una persona «dependiente y desvalida». "
   ]
  },
  {
   "cell_type": "markdown",
   "metadata": {},
   "source": [
    "Pero si yo quiero más cariño que el que ella me da, es «distante e insensible». "
   ]
  },
  {
   "cell_type": "markdown",
   "metadata": {},
   "source": [
    "Si mi compañero de trabajo se preocupa más que yo por los detalles, es «quisquilloso y compulsivo». "
   ]
  },
  {
   "cell_type": "markdown",
   "metadata": {},
   "source": [
    "En cambio, si soy yo quien se preocupa más por los detalles, él es «descuidado y desorganizado».\n"
   ]
  },
  {
   "cell_type": "markdown",
   "metadata": {},
   "source": [
    "Creo que este tipo de análisis de otros seres humanos no es más que una trágica expresión de nuestros propios valores y necesidades. "
   ]
  },
  {
   "cell_type": "markdown",
   "metadata": {},
   "source": [
    "Trágica porque, cuando expresamos nuestros valores y necesidades de esta manera, lo único que conseguimos es potenciar una actitud defensiva y de resistencia en las mismas personas cuya conducta nos molesta. "
   ]
  },
  {
   "cell_type": "markdown",
   "metadata": {},
   "source": [
    "Y si aceptan actuar en consonancia con nuestra escala de valores porque coinciden en nuestro análisis de su ineptitud, es probable que sólo lo hagan por miedo, culpa o vergüenza.\n"
   ]
  },
  {
   "cell_type": "markdown",
   "metadata": {},
   "source": [
    "Sin embargo, cuando los demás acceden a actuar de acuerdo con nuestros valores y necesidades, no porque lo deseen de corazón, sino porque tienen miedo o se sienten culpables o avergonzados, el precio que nos toca pagar es realmente muy alto. "
   ]
  },
  {
   "cell_type": "markdown",
   "metadata": {},
   "source": [
    "Tarde o temprano vendrán las consecuencias bajo la forma de una falta de buena voluntad por parte de aquellos que responden a nuestros deseos por coerción externa o interna. "
   ]
  },
  {
   "cell_type": "markdown",
   "metadata": {},
   "source": [
    "Por otro lado, cuando alguien hace algo por miedo, culpa o vergüenza, también paga un precio de tipo emocional, ya que abrigará un resentimiento contra nosotros al quedar rebajada su autoestima. "
   ]
  },
  {
   "cell_type": "markdown",
   "metadata": {},
   "source": [
    "Además, cada\n",
    "vez que otras personas nos asocien con cualquiera de estos sentimientos, disminuirá la probabilidad de que en el futuro respondan de una manera solidaria a nuestras necesidades y nuestros valores."
   ]
  },
  {
   "cell_type": "markdown",
   "id": "96775931",
   "metadata": {
    "slideshow": {
     "slide_type": "slide"
    }
   },
   "source": [
    "## Título de la clase: 11.1 Vectores en el plano  \n",
    "\n"
   ]
  },
  {
   "cell_type": "markdown",
   "id": "1d38dd4e",
   "metadata": {
    "slideshow": {
     "slide_type": "slide"
    }
   },
   "source": [
    "### Objetivo de aprendizaje (Enunciar, de manera corta sencilla y clara para todos los asistentes)\n",
    "\n",
    "* Expresar un vector mediante sus componentes.\n",
    "* Realizar operaciones vectoriales e interpretar los resultados geométricamente.\n",
    "* Expresar un vector como combinación lineal de vectores unitarios estándar o canónicos.\n",
    "* Usar vectores para resolver problemas de fuerza o velocidad.\n",
    "* Aprender a manipular vectores a través de la librería numpy de python"
   ]
  },
  {
   "cell_type": "markdown",
   "id": "540f0ec1",
   "metadata": {
    "slideshow": {
     "slide_type": "slide"
    }
   },
   "source": [
    "## Cuestionario para realizar labores de memorización, observación y síntesis de la información (Además de diagnóstico)\n",
    "\n",
    "**Cuestionario sobre Vectores en el Plano con NumPy y el Libro de Cálculo de Larson**\n"
   ]
  },
  {
   "cell_type": "markdown",
   "id": "07e9fbac",
   "metadata": {},
   "source": [
    "\n",
    "1. ¿Qué es un vector en el contexto del cálculo vectorial?\n",
    "   - Respuesta: Un vector es una cantidad que tiene magnitud y dirección, representada por una flecha en el plano o en el espacio.\n"
   ]
  },
  {
   "cell_type": "markdown",
   "id": "7659831a",
   "metadata": {},
   "source": [
    "\n",
    "2. ¿Cómo se expresa un vector mediante sus componentes en el plano?\n",
    "   - Respuesta: Un vector en el plano se puede expresar como una combinación de sus componentes en las direcciones $x$ e $y$. Por ejemplo, el vector $\\mathbf{v}$ se puede escribir como $\\mathbf{v} = \\langle v_x, v_y \\rangle$.\n"
   ]
  },
  {
   "cell_type": "markdown",
   "id": "960f760f",
   "metadata": {},
   "source": [
    "\n",
    "3. ¿Qué operaciones se pueden realizar con vectores en el plano?\n",
    "   - Respuesta: Se pueden realizar operaciones como la suma y resta de vectores, el producto por un escalar y el producto punto.\n",
    "\n",
    "4. ¿Cómo se interpretan geométricamente los resultados de las operaciones vectoriales?\n",
    "   - Respuesta: La suma y resta de vectores se interpretan como desplazamientos en el plano, mientras que el producto por un escalar escala la magnitud del vector. El producto punto entre dos vectores produce un nuevo vector cuya magnitud es el producto de las magnitudes de los vectores originales y el coseno del ángulo entre ellos.\n"
   ]
  },
  {
   "cell_type": "markdown",
   "id": "44105f80",
   "metadata": {},
   "source": [
    "\n",
    "5. ¿Qué significa expresar un vector como una combinación lineal de vectores unitarios estándar o canónicos?\n",
    "   - Respuesta: Significa expresar un vector como la suma ponderada de vectores unitarios que apuntan en las direcciones estándar (horizontal y vertical en el plano xy). Por ejemplo, el vector \\(\\mathbf{v}\\) se puede expresar como \\(\\mathbf{v} = v_x \\mathbf{i} + v_y \\mathbf{j}\\), donde \\(\\mathbf{i}\\) y \\(\\mathbf{j}\\) son los vectores unitarios en las direcciones x e y, respectivamente.\n"
   ]
  },
  {
   "cell_type": "markdown",
   "id": "23a3a429",
   "metadata": {},
   "source": [
    "\n",
    "6. ¿Cómo se pueden usar vectores para resolver problemas de fuerza o velocidad?\n",
    "   - Respuesta: Se pueden usar vectores para representar fuerzas y velocidades en problemas de mecánica. Por ejemplo, en un problema de fuerza, las fuerzas pueden representarse como vectores y sumarse para encontrar la fuerza resultante. En un problema de velocidad, las velocidades pueden sumarse vectorialmente para encontrar la velocidad resultante.\n"
   ]
  },
  {
   "cell_type": "markdown",
   "id": "537be876",
   "metadata": {},
   "source": [
    "\n",
    "7. ¿Cuál es la función de la librería NumPy de Python en el contexto de vectores?\n",
    "   - Respuesta: NumPy es una librería de Python que proporciona funciones y herramientas para trabajar con arreglos numéricos de manera eficiente. En el contexto de vectores, NumPy permite crear, manipular y realizar operaciones matemáticas con vectores de forma sencilla y eficiente."
   ]
  },
  {
   "cell_type": "markdown",
   "id": "ca7261b1",
   "metadata": {
    "slideshow": {
     "slide_type": "slide"
    }
   },
   "source": [
    "## Establecimiento de prerrequisitos conceptuales para alcanzar el objetivo de aprendizaje trazado.   \n",
    "\n",
    "(Elabore una lista de preguntas al rededor de los conceptos que consideres necesarios para empezar la clase).  \n"
   ]
  },
  {
   "cell_type": "markdown",
   "id": "0a8aa660",
   "metadata": {},
   "source": [
    "\n",
    "Aquí tienes una lista de prerrequisitos conceptuales que serían útiles para que los ingenieros y administradores de empresas comprendan la clase sobre ciencia de datos utilizando NumPy en Python:\n",
    "\n",
    "1. **Conceptos básicos de programación**: Familiaridad con conceptos fundamentales de programación como variables, tipos de datos, estructuras de control (if, else, bucles), funciones y modularidad.\n"
   ]
  },
  {
   "cell_type": "markdown",
   "id": "4575e8fb",
   "metadata": {},
   "source": [
    "\n",
    "2. **Álgebra lineal básica**: Comprensión de conceptos básicos de álgebra lineal como vectores, matrices, operaciones básicas con vectores y matrices (suma, resta, multiplicación por un escalar), transposición y multiplicación de matrices.\n"
   ]
  },
  {
   "cell_type": "markdown",
   "id": "8e5b69b0",
   "metadata": {},
   "source": [
    "\n",
    "3. **Estadística elemental**: Conocimientos básicos sobre estadística descriptiva, como media, mediana, moda, desviación estándar, varianza y distribuciones de probabilidad.\n"
   ]
  },
  {
   "cell_type": "markdown",
   "id": "0dc25b27",
   "metadata": {},
   "source": [
    "\n",
    "4. **Conceptos de ciencia de datos**: Entendimiento básico de los conceptos de ciencia de datos, como conjuntos de datos, variables, observaciones, y la importancia del análisis de datos en la toma de decisiones.\n"
   ]
  },
  {
   "cell_type": "markdown",
   "id": "47b52cee",
   "metadata": {},
   "source": [
    "\n",
    "5. **Uso básico de Python**: Familiaridad con el lenguaje de programación Python y su sintaxis básica, así como comprensión de cómo instalar y gestionar bibliotecas externas.\n",
    "\n",
    "6. **Conocimiento de NumPy**: Comprensión de los conceptos básicos de NumPy, incluyendo la creación de arrays, indexación y segmentación de arrays, operaciones básicas de arrays y funciones matemáticas proporcionadas por NumPy.\n",
    "\n",
    "7. **Manipulación de datos**: Conocimiento sobre cómo manipular y procesar datos utilizando NumPy, incluyendo la limpieza de datos, la transformación de datos y la combinación de conjuntos de datos.\n",
    "\n",
    "8. **Visualización de datos**: Comprensión de cómo visualizar datos utilizando herramientas como Matplotlib, Pandas y otras bibliotecas de visualización en Python.\n",
    "\n",
    "9. **Problemas de optimización**: Entendimiento básico de problemas de optimización y cómo abordarlos utilizando métodos numéricos, como el descenso de gradiente.\n",
    "\n",
    "10. **Resolución de problemas**: Habilidad para abordar problemas de manera analítica y creativa, y aplicar los conceptos aprendidos para resolver problemas prácticos en el contexto de la ciencia de datos.\n",
    "\n",
    "Estos prerrequisitos proporcionarán una base sólida para que los estudiantes comprendan y apliquen los conceptos de ciencia de datos utilizando NumPy en Python."
   ]
  },
  {
   "cell_type": "markdown",
   "id": "2298e976",
   "metadata": {
    "slideshow": {
     "slide_type": "slide"
    }
   },
   "source": [
    "# Para el diseño de la clase tenga en cuenta algunos problemas de aprendizaje"
   ]
  },
  {
   "cell_type": "markdown",
   "id": "523d3acf",
   "metadata": {
    "slideshow": {
     "slide_type": "slide"
    }
   },
   "source": [
    "Aquí tienes una lista de problemas de aprendizaje que podrían utilizarse en la clase sobre ciencia de datos utilizando NumPy en Python:\n",
    "\n",
    "1. **Creación de arrays**: Solicitar a los estudiantes que creen arrays NumPy de diferentes dimensiones y tipos de datos (enteros, flotantes, booleanos) utilizando diferentes métodos de creación (como `np.array()`, `np.zeros()`, `np.ones()`, `np.arange()`, etc.).\n",
    "\n",
    "2. **Indexación y segmentación**: Pedir a los estudiantes que practiquen la indexación y segmentación de arrays NumPy para acceder a elementos individuales, filas, columnas o secciones específicas de un array.\n",
    "\n",
    "3. **Operaciones aritméticas básicas**: Plantear problemas que requieran realizar operaciones aritméticas básicas (suma, resta, multiplicación, división) entre arrays NumPy, tanto elemento a elemento como entre arrays de diferentes dimensiones.\n"
   ]
  },
  {
   "cell_type": "markdown",
   "id": "b43a07b2",
   "metadata": {},
   "source": [
    "\n",
    "4. **Funciones matemáticas**: Proponer ejercicios que impliquen el uso de funciones matemáticas proporcionadas por NumPy, como `np.sin()`, `np.cos()`, `np.exp()`, `np.log()`, etc., para realizar cálculos numéricos y manipulaciones de datos.\n",
    "\n",
    "5. **Estadísticas descriptivas**: Presentar problemas que requieran calcular estadísticas descriptivas básicas (media, mediana, desviación estándar, varianza, etc.) sobre conjuntos de datos representados como arrays NumPy.\n",
    "\n",
    "6. **Manipulación de datos**: Solicitar a los estudiantes que realicen operaciones de limpieza, transformación y manipulación de datos utilizando arrays NumPy, como eliminar valores nulos, reemplazar valores, o aplicar funciones a columnas específicas de un array.\n",
    "\n",
    "7. **Visualización de datos**: Proporcionar conjuntos de datos simples y pedir a los estudiantes que visualicen los datos utilizando herramientas de visualización como Matplotlib, basándose en los arrays NumPy que representan los datos.\n",
    "\n",
    "8. **Aplicación en problemas de ingeniería o negocios**: Plantear problemas prácticos relacionados con la ingeniería o la gestión empresarial que requieran el uso de arrays NumPy para analizar datos, tomar decisiones o resolver problemas específicos.\n",
    "\n",
    "9. **Optimización numérica**: Presentar problemas de optimización que requieran utilizar métodos numéricos y arrays NumPy para encontrar soluciones óptimas a problemas de maximización o minimización.\n",
    "\n",
    "10. **Desarrollo de algoritmos**: Desafiar a los estudiantes a desarrollar algoritmos utilizando arrays NumPy para resolver problemas complejos, como la clasificación, regresión, clustering u otros problemas de aprendizaje automático básico.\n",
    "\n",
    "Estos problemas de aprendizaje ayudarán a los estudiantes a familiarizarse con el uso de NumPy en el contexto de la ciencia de datos y a desarrollar habilidades prácticas para manipular datos, realizar cálculos numéricos y resolver problemas en Python."
   ]
  },
  {
   "cell_type": "markdown",
   "id": "a40a4704",
   "metadata": {
    "slideshow": {
     "slide_type": "slide"
    }
   },
   "source": [
    "## Secuencia conceptual introductoria a la clase"
   ]
  },
  {
   "cell_type": "code",
   "execution_count": null,
   "id": "e736a9e4",
   "metadata": {},
   "outputs": [],
   "source": [
    "# Mapa conceptual de la clase\n",
    "import networkx as nx \n",
    "import matplotlib.pyplot as plt \n",
    "plt.figure(figsize = (10,8))\n",
    "G = nx.DiGraph()\n",
    "\n",
    "# Agregar lísta de conceptos\n",
    "c1 = 'vectores \\n en el plano'\n",
    "c2 = 'numpy'\n",
    "c3 = 'cantidades \\n escalares'\n",
    "c4='cantidades \\n vectoriales'\n",
    "c5='componentes de un vector'\n",
    "c6 = 'operaciones vectoriales'\n",
    "c7 = 'representación geométrica de los vectores'\n",
    "c8 = 'combinacion lineal de vectores'\n",
    "c9 = 'vector unitario'\n",
    "c10 = 'vectores canónicos o estándar'\n",
    "c11 = 'fuerza'\n",
    "c12 = 'velocidad'\n",
    "lista_conceptos = [c1, c2, c3, c4, c5]\n",
    "\n",
    "G.add_nodes_from(lista_conceptos)\n",
    "\n",
    "# Agregar las flechas de vinculación de conceptos\n",
    "\n",
    "pares_conceptos_vinculados = [(c1, c2), \\\n",
    "                              (c3,c4), \\\n",
    "                              (c4, c11), \\\n",
    "                                (c4, c12)]\n",
    "\n",
    "G.add_edges_from(pares_conceptos_vinculados)\n",
    "\n",
    "pos = nx.spring_layout(G, seed = 513)\n",
    "\n",
    "nx.draw(G, pos, with_labels = True, node_size = 6000 )\n",
    "\n",
    "plt.savefig('.jpg')\n"
   ]
  },
  {
   "cell_type": "code",
   "execution_count": null,
   "id": "87c49241",
   "metadata": {},
   "outputs": [],
   "source": [
    "# mapa conceptual hecho con Graphviz\n",
    "\n"
   ]
  },
  {
   "cell_type": "markdown",
   "id": "558d11b7",
   "metadata": {},
   "source": [
    "# Secuencia según Larson\n",
    "\n",
    "# Las componentes de un vector \n"
   ]
  },
  {
   "cell_type": "markdown",
   "id": "971f0c32",
   "metadata": {},
   "source": [
    "Muchas cantidades en geometría y física, como el área, el volumen, la temperatura, la masa y el tiempo, se pueden caracterizar por medio de un solo número real en unidades de medición apropiadas. "
   ]
  },
  {
   "cell_type": "markdown",
   "id": "f4d61890",
   "metadata": {},
   "source": [
    "Estas cantidades se llaman escalares, y al número real se le llama escalar.\n"
   ]
  },
  {
   "cell_type": "markdown",
   "id": "43faebc8",
   "metadata": {},
   "source": [
    "Otras cantidades, como la fuerza, la velocidad y la aceleración, tienen magnitud y dirección y no pueden caracterizarse completamente por medio de un solo número real.\n"
   ]
  },
  {
   "cell_type": "markdown",
   "id": "733a9de5",
   "metadata": {},
   "source": [
    "Para representar estas cantidades se usa un segmento de recta dirigido, como se muestra en la figura 11.1. "
   ]
  },
  {
   "cell_type": "markdown",
   "id": "be9aa0fc",
   "metadata": {},
   "source": [
    "El segmento de recta dirigido $\\overrightarrow{PQ}$ tiene como punto inicial $P$ y como punto final $Q$ y su longitud (o magnitud) se denota por $\\Vert \\overrightarrow{PQ} \\Vert$. "
   ]
  },
  {
   "cell_type": "markdown",
   "id": "c16bcd36",
   "metadata": {},
   "source": [
    "Segmentos de recta dirigidos que tienen la misma longitud y dirección son equivalentes, como se muestra en la figura 11.2. "
   ]
  },
  {
   "cell_type": "markdown",
   "id": "2aaa9b3b",
   "metadata": {},
   "source": [
    "![figuras 11.1 y 11.2](https://github.com/marco-canas/calculo/blob/main/images/5_calculo_vectorial/1_dic_20023_python_aplicaciones_ingenieria_agropecuariaevento.png?raw=true)"
   ]
  },
  {
   "cell_type": "markdown",
   "id": "3e0010c1",
   "metadata": {},
   "source": [
    "El conjunto de todos los segmentos de recta dirigidos que son equivalentes a un segmento de recta dirigido dado $\\overrightarrow{PQ}$ es un vector en el plano y se denota por $\\mathbf{v} = \\overrightarrow{PQ}$.\n"
   ]
  },
  {
   "cell_type": "markdown",
   "id": "38cc4b96",
   "metadata": {},
   "source": [
    "En los libros, los vectores se denotan normalmente con letras minúsculas, en negrita, como\n",
    "$\\mathbf{u}, \\mathbf{v}$ y $\\mathbf{w}$. "
   ]
  },
  {
   "cell_type": "markdown",
   "id": "d47aa21b",
   "metadata": {},
   "source": [
    "Cuando se escriben a mano, se suelen denotar por medio de letras con una flecha\n",
    "sobre ellas, como $\\overrightarrow{u}$, $\\overrightarrow{v}$ y $\\overrightarrow{w}$ "
   ]
  },
  {
   "cell_type": "markdown",
   "id": "51599fe6",
   "metadata": {},
   "source": [
    "Es importante notar que un vector en el plano se puede representar por medio de muchos segmentos de recta dirigidos diferentes, todos apuntando en la misma dirección y todos de la misma longitud."
   ]
  },
  {
   "cell_type": "markdown",
   "id": "980af83d",
   "metadata": {},
   "source": [
    "## EJEMPLO 1 Representación de vectores por medio de segmentos de recta dirigidos  \n",
    "\n",
    "Sea $\\mathbf{v}$ el vector representado por el segmento dirigido que va de $(0, 0)$ a $(3, 2)$, y sea u el vector representado por el segmento dirigido que va de (1, 2) a (4, 4). Mostrar que v y u\n",
    "son equivalentes."
   ]
  },
  {
   "cell_type": "markdown",
   "id": "bab6da08",
   "metadata": {},
   "source": [
    "## Solución   \n",
    "\n",
    "Sean $P(0, 0)$ y $Q(3, 2)$ los puntos inicial y final de v, y sean R(l, 2) y S(4, 4) los puntos inicial y final de u, como se muestra en la figura 11.3. Para mostrar que PQ y RS tienen la misma longitud se usa la fórmula de la distancia."
   ]
  },
  {
   "cell_type": "markdown",
   "id": "f3eaf7dd",
   "metadata": {},
   "source": [
    "$$ \\left\\Vert  \\overrightarrow{PQ} \\right\\Vert $$"
   ]
  },
  {
   "cell_type": "markdown",
   "id": "b649ac2f",
   "metadata": {},
   "source": []
  },
  {
   "cell_type": "code",
   "execution_count": null,
   "id": "6a6bb3b9",
   "metadata": {},
   "outputs": [],
   "source": []
  },
  {
   "cell_type": "markdown",
   "id": "45849ea6",
   "metadata": {},
   "source": [
    "# [Tools Numpy](https://github.com/ageron/handson-ml3/blob/main/tools_numpy.ipynb)\n",
    "\n",
    "[Primer video de apoyo a las tareas de preparación previa a la clase sobre vectores en el plano]()"
   ]
  },
  {
   "cell_type": "markdown",
   "id": "75b31930",
   "metadata": {},
   "source": [
    "\n",
    "NumPy is the fundamental library for scientific computing with Python. "
   ]
  },
  {
   "cell_type": "markdown",
   "id": "9b7a82cd",
   "metadata": {},
   "source": [
    "NumPy is centered around a powerful N-dimensional array object, and it also contains useful linear algebra, Fourier transform, and random number functions.*"
   ]
  },
  {
   "cell_type": "markdown",
   "id": "8bdda312",
   "metadata": {},
   "source": [
    "# Creating Arrays\n",
    "\n",
    "Now let's import `numpy`. Most people import it as `np`:"
   ]
  },
  {
   "cell_type": "code",
   "execution_count": null,
   "id": "428d3d3b",
   "metadata": {},
   "outputs": [],
   "source": [
    "import numpy as np \n",
    "\n"
   ]
  },
  {
   "cell_type": "markdown",
   "id": "e9c24895",
   "metadata": {},
   "source": [
    "## `np.zeros()`\n",
    "\n",
    "The `zeros` function creates an array containing any number of zeros:"
   ]
  },
  {
   "cell_type": "code",
   "execution_count": null,
   "id": "da6d1c9f",
   "metadata": {},
   "outputs": [],
   "source": [
    "np.zeros(5)"
   ]
  },
  {
   "cell_type": "markdown",
   "id": "39311b50",
   "metadata": {},
   "source": [
    "It's just as easy to create a 2D array (i.e. a matrix) by providing a tuple with the desired number of rows and columns. For example, here's a 3x4 matrix:"
   ]
  },
  {
   "cell_type": "code",
   "execution_count": null,
   "id": "46aa2d03",
   "metadata": {},
   "outputs": [],
   "source": [
    "a = np.zeros((4,4))\n",
    "a "
   ]
  },
  {
   "cell_type": "code",
   "execution_count": null,
   "id": "32431b4c",
   "metadata": {},
   "outputs": [],
   "source": [
    "a.shape  # obtenemos el orden de la matriz con el atributo shape"
   ]
  },
  {
   "cell_type": "code",
   "execution_count": null,
   "id": "282ebb9f",
   "metadata": {},
   "outputs": [],
   "source": [
    "a.ndim  # igual a len(a.shape)"
   ]
  },
  {
   "cell_type": "code",
   "execution_count": null,
   "id": "2f07c2ff",
   "metadata": {},
   "outputs": [],
   "source": [
    "len(a.shape)"
   ]
  },
  {
   "cell_type": "code",
   "execution_count": null,
   "id": "e61a5ed7",
   "metadata": {},
   "outputs": [],
   "source": [
    "a.size"
   ]
  },
  {
   "cell_type": "markdown",
   "id": "e5197ee5",
   "metadata": {},
   "source": [
    "## Some vocabulary\n",
    "\n",
    "* In NumPy, each dimension is called an **axis**.\n",
    "* The number of axes is called the **rank**.\n",
    "    * For example, the above 3x4 matrix is an array of rank 2 (it is 2-dimensional).\n",
    "    * The first axis has length 3, the second has length 4.\n",
    "* An array's list of axis lengths is called the **shape** of the array.\n",
    "    * For example, the above matrix's shape is `(3, 4)`.\n",
    "    * The rank is equal to the shape's length.\n",
    "* The **size** of an array is the total number of elements, which is the product of all axis lengths (e.g. 3*4=12)"
   ]
  },
  {
   "cell_type": "markdown",
   "id": "58f94010",
   "metadata": {},
   "source": [
    "\n",
    "# N-dimensional arrays  \n",
    "\n",
    "You can also create an N-dimensional array of arbitrary rank. For example, here's a 3D array (rank=3), with shape (2,3,4):\n"
   ]
  },
  {
   "cell_type": "code",
   "execution_count": null,
   "id": "d0e3580a",
   "metadata": {},
   "outputs": [],
   "source": [
    "np.zeros((2,3,4))"
   ]
  },
  {
   "cell_type": "markdown",
   "id": "e91b1d20",
   "metadata": {},
   "source": [
    "\n",
    "# Array type\n",
    "\n",
    "NumPy arrays have the type ndarrays:\n"
   ]
  },
  {
   "cell_type": "code",
   "execution_count": null,
   "id": "aa849be6",
   "metadata": {},
   "outputs": [],
   "source": [
    "import numpy as np \n",
    "type(np.zeros((3,4)))"
   ]
  },
  {
   "cell_type": "markdown",
   "id": "dfba8d25",
   "metadata": {},
   "source": [
    "\n",
    "# np.ones\n",
    "\n",
    "Many other NumPy functions create ndarrays.\n",
    "\n",
    "Here's a 3x4 matrix full of ones:\n"
   ]
  },
  {
   "cell_type": "code",
   "execution_count": null,
   "id": "9111fa38",
   "metadata": {},
   "outputs": [],
   "source": [
    "np.ones((3,4))"
   ]
  },
  {
   "cell_type": "markdown",
   "id": "c5397178",
   "metadata": {},
   "source": [
    "\n",
    "# np.full\n",
    "\n",
    "Creates an array of the given shape initialized with the given value. Here's a 3x4 matrix full of π.\n"
   ]
  },
  {
   "cell_type": "code",
   "execution_count": null,
   "id": "68ae0889",
   "metadata": {},
   "outputs": [],
   "source": [
    "np.full((3,4), 3)"
   ]
  },
  {
   "cell_type": "markdown",
   "id": "5cb6560c",
   "metadata": {},
   "source": [
    "\n",
    "# np.empty\n",
    "\n",
    "An uninitialized 2x3 array (its content is not predictable, as it is whatever is in memory at that point):\n"
   ]
  },
  {
   "cell_type": "code",
   "execution_count": 3,
   "id": "b165903d",
   "metadata": {},
   "outputs": [
    {
     "data": {
      "text/plain": [
       "array([[4.65005050e-310, 0.00000000e+000],\n",
       "       [4.65073514e-310, 4.65073500e-310]])"
      ]
     },
     "execution_count": 3,
     "metadata": {},
     "output_type": "execute_result"
    }
   ],
   "source": [
    "import numpy as np \n",
    "a = np.empty((2,2))\n",
    "a"
   ]
  },
  {
   "cell_type": "code",
   "execution_count": null,
   "id": "57fa7ffa",
   "metadata": {},
   "outputs": [],
   "source": []
  },
  {
   "cell_type": "code",
   "execution_count": null,
   "id": "e57da01c",
   "metadata": {},
   "outputs": [],
   "source": []
  },
  {
   "cell_type": "markdown",
   "id": "2f0141c3",
   "metadata": {},
   "source": [
    "## Tareas para realizar antes de la clase  \n",
    "\n",
    "1. Ver los videos respectivos [Leer del larson la teoría sobre vectores en el plano](https://www.youtube.com/watch?v=7pDIJdcwjW4)\n",
    "2. Memorizar las definiciones [obtenga el texto de Larson Aquí](https://github.com/marco-canas/calculo/blob/main/referents/larson/larson.pdf) Leer la teoría sobre vectores en el plano en el texto de Larson página del pdf 887 que corresponde a la página 764 del libro de Larson. \n",
    "3. Sintetizar o resumir la información en mapas conceptuales utilizando la librería Graphviz. []()\n",
    "4. Tareas para incentivar el uso de la calculadora Casio Para ingenieros y licenciados. Consulte sobre cómo manipular vectores con la la calculadora casio 570[ Obtenga video aquí](https://www.youtube.com/watch?v=RJT6zqrbL08). "
   ]
  },
  {
   "cell_type": "code",
   "execution_count": null,
   "id": "6425d2f9",
   "metadata": {},
   "outputs": [],
   "source": []
  },
  {
   "cell_type": "markdown",
   "id": "3ce0557f",
   "metadata": {},
   "source": [
    " [Secuencia metodológica que seguiremos en cada modelación fundamentada en Borromeo citado por Carlos Ledezma](https://www.researchgate.net/profile/Carlos-Ledezma-4/publication/376076920_Modelizacion_matematica_desde_una_articulacion_teorica_entre_los_enfoques_cognitivo_y_onto-semiotico/links/6568cb363fa26f66f43b292a/Modelizacion-matematica-desde-una-articulacion-teorica-entre-los-enfoques-cognitivo-y-onto-semiotico.pdf)\n",
    "\n",
    "1. Entender la tarea\n",
    "2. Simplificar y estructurar la tarea\n",
    "3. Matemátizar\n",
    "4. Trabajar matemáticamente utilizando las competencias matemáticas del estudiante.\n",
    "5. Interpretar y \n",
    "6. validar"
   ]
  },
  {
   "cell_type": "markdown",
   "id": "7dbbd46e",
   "metadata": {},
   "source": []
  },
  {
   "cell_type": "markdown",
   "id": "1ccfb67e",
   "metadata": {
    "slideshow": {
     "slide_type": "slide"
    }
   },
   "source": [
    "# Visualizaciones tabulares y gráficas"
   ]
  },
  {
   "cell_type": "markdown",
   "id": "0631fb05",
   "metadata": {
    "slideshow": {
     "slide_type": "slide"
    }
   },
   "source": [
    "## Visualización gráfica con plotly"
   ]
  },
  {
   "cell_type": "code",
   "execution_count": null,
   "id": "6009af5a",
   "metadata": {
    "slideshow": {
     "slide_type": "slide"
    }
   },
   "outputs": [],
   "source": [
    "import numpy as np \n",
    "import pandas as pd \n",
    "import plotly.express as px\n",
    "# datos\n",
    "X = np.array([])\n",
    "\n",
    "Y = np.array([])\n",
    "\n",
    "# tabla de datos\n",
    "tabla = pd.DataFrame({'x':X, 'y':Y})\n",
    "#trazo de diagrama de dispersión o scatter\n",
    "fig = px.scatter(tabla,x = tabla.keys()[0], y = tabla.keys()[1], title='Relación entre x e y')\n",
    "\n",
    "fig.show()\n",
    "\n",
    "#fig.write_html('relacion_entre_x_e_y.html', auto_open=True)"
   ]
  },
  {
   "cell_type": "markdown",
   "id": "740f3401",
   "metadata": {
    "slideshow": {
     "slide_type": "slide"
    }
   },
   "source": [
    "# Componente de manejo de calculadora Casio asociado al objetivo de aprendizaje de esta clase"
   ]
  },
  {
   "cell_type": "markdown",
   "id": "8eecb2d9",
   "metadata": {
    "slideshow": {
     "slide_type": "slide"
    }
   },
   "source": [
    "## Descripción de la calculadora Casio  \n",
    "\n"
   ]
  },
  {
   "cell_type": "markdown",
   "id": "3cd72835",
   "metadata": {
    "slideshow": {
     "slide_type": "slide"
    }
   },
   "source": [
    "* Ir al modo vector o mode 8"
   ]
  },
  {
   "cell_type": "code",
   "execution_count": null,
   "id": "d8a111c4",
   "metadata": {
    "slideshow": {
     "slide_type": "slide"
    }
   },
   "outputs": [],
   "source": []
  },
  {
   "cell_type": "markdown",
   "id": "fccb447c",
   "metadata": {
    "slideshow": {
     "slide_type": "slide"
    }
   },
   "source": [
    "# Tareas para realizar en clase"
   ]
  },
  {
   "cell_type": "markdown",
   "id": "e5c48edf",
   "metadata": {
    "slideshow": {
     "slide_type": "slide"
    }
   },
   "source": [
    "* Modelación matemática \n",
    "* Trabajo en equipos"
   ]
  },
  {
   "cell_type": "code",
   "execution_count": null,
   "metadata": {},
   "outputs": [],
   "source": [
    "## Quiz de 15 minutos para ejercitación y adquisición de habilidades computacionales y de pensamiento variacional\n",
    "\n",
    "# Resolver con sympy el punto sobre centro de masa que se le haya propuesto. \n",
    "\n",
    "# Puede utilizar chatGPT, pero debe revisar y corregir, lo que este modelo le entregue. \n",
    "\n",
    "\n",
    "import pandas as pd\n",
    "import numpy as np\n",
    "import random\n",
    "import requests\n",
    "\n",
    "\n",
    "texto_guia_seccion_pagina = 'purcell_seccion_5.6_pagina 313'\n",
    "n_exercises_del_taller_del_texto = 36\n",
    "n_ejercicios_asignados_al_estudiante = 1\n",
    "\n",
    "\n",
    "\n",
    "# Descargar la lista de estudiantes y ejercicios\n",
    "students_url = \"https://raw.githubusercontent.com/marco-canas/groups_list/main/calculo_integral.csv\"\n",
    "exercises = list(range(1, n_exercises_del_taller_del_texto))  # Lista de ejercicios del 1 al 83\n",
    "\n",
    "# Cargar la lista de estudiantes\n",
    "students_data = pd.read_csv(students_url)\n",
    "\n",
    "# Crear una lista para almacenar las asignaciones\n",
    "assignments = []\n",
    "\n",
    "# Asignar ejercicios aleatorios a cada estudiante\n",
    "for index, student in students_data.iterrows():\n",
    "    random_exercises = random.sample(exercises, n_ejercicios_asignados_al_estudiante)  # Seleccionar 5 ejercicios aleatorios sin repetición\n",
    "    assignments.append([students_data[\"Nombre\"][index], *random_exercises])  # Agregar asignación a la lista\n",
    "\n",
    "# Crear un DataFrame con las asignaciones\n",
    "columns = [\"Student\", \"Exer1\"]\n",
    "assignment_df = pd.DataFrame(assignments, columns=columns)\n",
    "\n",
    "# Guardar el DataFrame en un archivo CSV\n",
    "assignment_csv = texto_guia_seccion_pagina \n",
    "assignment_df.to_csv(assignment_csv, index=False)\n",
    "\n",
    "print(\"Asignaciones guardadas en\", assignment_csv)\n",
    "assignment_df"
   ]
  },
  {
   "cell_type": "markdown",
   "id": "8b6b0112",
   "metadata": {
    "slideshow": {
     "slide_type": "slide"
    }
   },
   "source": [
    "# Tareas para realizar después de la realización de la clase"
   ]
  },
  {
   "cell_type": "markdown",
   "id": "947460e3",
   "metadata": {
    "slideshow": {
     "slide_type": "slide"
    }
   },
   "source": [
    "* Actividades de memorización: \n",
    "  - escucha reiterada de grabaciones de formulas y resultados científicos. \n",
    "  - relectura de notas. \n",
    "  - ejercicios de mayor complejidad.\n",
    "\n",
    "\n",
    "### No olvide asignar las tareas a los estudiantes a través de Google Colab y compartiendole el cuaderno de asignación a su correo institucional con fecha de entrega. [Google Colab](https://colab.research.google.com/?hl=es)   \n",
    "  "
   ]
  },
  {
   "cell_type": "markdown",
   "id": "d34defb9",
   "metadata": {
    "slideshow": {
     "slide_type": "slide"
    }
   },
   "source": [
    "## Asignación individual de tareas semanales "
   ]
  },
  {
   "cell_type": "code",
   "execution_count": null,
   "id": "0406f442",
   "metadata": {
    "slideshow": {
     "slide_type": "slide"
    }
   },
   "outputs": [],
   "source": [
    "# asignación de ejercicios de un seccion del texto guía\n",
    "\n",
    "# numpy.random.choice() obten la documentación de esta función en: \n",
    "# https://numpy.org/doc/stable/reference/random/generated/numpy.random.choice.html\n",
    "\n",
    "import pandas as pd\n",
    "import numpy as np\n",
    "import requests\n",
    "np.random.seed(42)  # establecer semilla aleatoria para hacer los resultados reproducibles\n",
    "\n",
    "\n",
    "\n",
    "grupo_estudiantes = 'fund_math'\n",
    "nombre_texto_guia = 'Precalculo_Stewart'\n",
    "pagina_y_seccion = 'Página_32_Sección_1.3'\n",
    "numero_ejercicios_taller = 135\n",
    "numero_de_ejercicios_asignados = 5\n",
    "\n",
    "\n",
    "# Descargar la lista de  estudiantes\n",
    "students_url = \"https://raw.githubusercontent.com/marco-canas/groups_list/main/\" + grupo_estudiantes + \".csv\"\n",
    "exercises = list(range(1, numero_ejercicios_taller))  \n",
    "\n",
    "students_data = pd.read_csv(students_url)\n",
    "\n",
    "# Crear una lista para almacenar las asignaciones\n",
    "assignments = []\n",
    "\n",
    "# Asignar ejercicios aleatorios a cada estudiante\n",
    "for index, student in students_data.iterrows():\n",
    "    # Seleccionar 5 ejercicios aleatorios sin repetición\n",
    "    random_exercises = np.random.choice(exercises, numero_de_ejercicios_asignados, replace = False)+ 1 \n",
    "    assignments.append([students_data[\"Nombre\"][index], *random_exercises])  # Agregar asignación a la lista\n",
    "\n",
    "# Crear un DataFrame con las asignaciones\n",
    "columns = [\"Student\"] + [ \"Exer\" + str(i+1) for i in range(numero_de_ejercicios_asignados)]\n",
    "assignment_df = pd.DataFrame(assignments, columns=columns)\n",
    "\n",
    "# Guardar el DataFrame en un archivo CSV\n",
    "assignment_csv = \"tarea\" + \"_\" + nombre_texto_guia + \"_\"+ pagina_y_seccion + \".csv\"\n",
    "assignment_df.to_csv(assignment_csv, index=False)\n",
    "\n",
    "print(\"Tarea asignada: \", assignment_csv)\n",
    "assignment_df"
   ]
  },
  {
   "cell_type": "markdown",
   "id": "742281f4",
   "metadata": {},
   "source": [
    "# No olvide la tarea de realizar la foda para autoevaluarse\n",
    "\n",
    "Fortalezas: F  \n",
    "Oportuniudades O:  \n",
    "Debilidades: D:   \n",
    "Amenazas: A:     "
   ]
  },
  {
   "cell_type": "markdown",
   "id": "8d41fe58",
   "metadata": {
    "slideshow": {
     "slide_type": "slide"
    }
   },
   "source": [
    "# Horario de clases del profesor Marco\n",
    "\n",
    "* Martes y jueves de 10 a 12: Fundamentos de las matemáticas\n",
    "* Martes y jueves de 2 a 4 PM: Fundamentos de la aritmética\n",
    "\n",
    "* Didáctica de la aritmética: Miércoles de 8 - 12\n",
    "\n"
   ]
  },
  {
   "cell_type": "markdown",
   "id": "ae114e14",
   "metadata": {
    "slideshow": {
     "slide_type": "slide"
    }
   },
   "source": [
    "# Horarios de monitoría y asesoría"
   ]
  },
  {
   "cell_type": "markdown",
   "id": "b1db4b6c",
   "metadata": {
    "slideshow": {
     "slide_type": "slide"
    }
   },
   "source": [
    "## Monitor Manuel"
   ]
  },
  {
   "cell_type": "markdown",
   "id": "39559692",
   "metadata": {
    "slideshow": {
     "slide_type": "slide"
    }
   },
   "source": [
    "Martes y jueves de 8 - 12  \n",
    "Miércoles 10 - 12 y de 2 a 4 PM  \n",
    "Sábado: 8 - 12"
   ]
  },
  {
   "cell_type": "markdown",
   "id": "935a5567",
   "metadata": {
    "slideshow": {
     "slide_type": "slide"
    }
   },
   "source": [
    "## Dificultades de aprendizaje detectados durante la clase"
   ]
  },
  {
   "cell_type": "markdown",
   "id": "3bd7500d",
   "metadata": {
    "slideshow": {
     "slide_type": "slide"
    }
   },
   "source": []
  },
  {
   "cell_type": "markdown",
   "id": "fb9402bb",
   "metadata": {
    "slideshow": {
     "slide_type": "slide"
    }
   },
   "source": [
    "## Estrategias propuestas para la solución de las dificultades de aprendizaje detectadas"
   ]
  },
  {
   "cell_type": "markdown",
   "id": "d437294b",
   "metadata": {
    "slideshow": {
     "slide_type": "slide"
    }
   },
   "source": []
  },
  {
   "cell_type": "markdown",
   "id": "d11570a2",
   "metadata": {
    "slideshow": {
     "slide_type": "slide"
    }
   },
   "source": []
  },
  {
   "cell_type": "markdown",
   "id": "319f2ffa",
   "metadata": {
    "slideshow": {
     "slide_type": "slide"
    }
   },
   "source": [
    "## Grabaciones en audio para fomentar la capacidad de memorizar enunciados de teoremas y resultados científicos y la capacidad de parafrasear estos resultados. Y así desarrollar memoria muscular para los comandos comunes. \n",
    "Se dispondrá de un lugar en Vocaroo para albergar archivos de audio de fomento a la memorización, enunciación y parafraseo de los resultados científicos, propiedades, reglas, etc. \n",
    "\n",
    "[Vocaroo](https://vocaroo.com/)\n",
    "\n"
   ]
  },
  {
   "cell_type": "markdown",
   "id": "564fa59d",
   "metadata": {
    "slideshow": {
     "slide_type": "slide"
    }
   },
   "source": [
    "### Comparta sus cuadernos y videos, evidencias de su aprendizaje [aquí](https://forms.office.com/Pages/ResponsePage.aspx?id=IefhmYRxjkmK_7KtTlPBwkanXIs1i1FEujpsZgO6dXpUMEMwTEZVMzEwVVBPTElWNVg5OVEyWUhMUy4u)"
   ]
  },
  {
   "cell_type": "markdown",
   "id": "1a1a3e41",
   "metadata": {
    "slideshow": {
     "slide_type": "slide"
    }
   },
   "source": []
  },
  {
   "cell_type": "markdown",
   "id": "44be6d93",
   "metadata": {
    "slideshow": {
     "slide_type": "slide"
    }
   },
   "source": [
    "# Vocabulary "
   ]
  },
  {
   "cell_type": "markdown",
   "id": "35e2484a",
   "metadata": {
    "slideshow": {
     "slide_type": "slide"
    }
   },
   "source": [
    "1. \n",
    "2.  \n",
    "3.  \n",
    "4.  \n",
    "5.  "
   ]
  },
  {
   "cell_type": "markdown",
   "id": "94187562",
   "metadata": {},
   "source": [
    "# Colección de verbos irregulares aprendidos\n",
    "\n",
    "|Verbo irregular en presente|en español|Pasado|\n",
    "|---------------------------|----------|------|  \n",
    "|choose|elegir|chose|"
   ]
  },
  {
   "cell_type": "markdown",
   "id": "10bce0d0",
   "metadata": {
    "slideshow": {
     "slide_type": "slide"
    }
   },
   "source": [
    "## Referentes "
   ]
  },
  {
   "cell_type": "markdown",
   "id": "1db3c468",
   "metadata": {
    "slideshow": {
     "slide_type": "slide"
    }
   },
   "source": [
    "* [Cuaderno de Aurelien Geron sobre Numpy](https://github.com/ageron/handson-ml3/blob/main/tools_numpy.ipynb)\n",
    "  \n",
    "* [stewart precálculo](https://udeaeduco-my.sharepoint.com/:b:/g/personal/marco_canas_udea_edu_co/ERHIq62I6qFNrmxy6LZb8ZMBci7kUsyNME1nIh9yCBMJ_w?e=0zMSla)  \n",
    "\n",
    "* [stewart cálculo](https://udeaeduco-my.sharepoint.com/:b:/g/personal/marco_canas_udea_edu_co/EZgXZjAp8QxPqOAim2hs6LcBNPLGjSHf-xwYnUVYkwa04w?e=RZdTCy)  \n",
    "\n",
    "* [larson](https://udeaeduco-my.sharepoint.com/:b:/g/personal/marco_canas_udea_edu_co/ES71ChFeO9ZDhW3TwC5Ijk8BjxUK3Pdqz_fjHxTTFAfIAg?e=VDEjfu)\n",
    "\n",
    "* [uzcategui](https://udeaeduco-my.sharepoint.com/:b:/g/personal/marco_canas_udea_edu_co/ETDikm-lVl1Or8XoEo9oyh0BEti9Zs8le-f0D-dBdtZmbA?e=bBsoyQ)\n",
    "\n",
    "* [Cálculo de Purcell](https://udeaeduco-my.sharepoint.com/:b:/g/personal/marco_canas_udea_edu_co/ES60UB4h-QFFqqRQUFmkpWcBIgoLBJeqTfZjNajWNWSeJA?e=9NxjKJ)\n",
    "\n",
    "* [Recomendación de la UNESCO sobre ciencia abierta](https://unesdoc.unesco.org/ark:/48223/pf0000379949_spa)\n",
    "\n",
    "* [Fórmulas más comunes en latex](https://wiki.geogebra.org/es/C%C3%B3digo_LaTeX_para_las_f%C3%B3rmulas_m%C3%A1s_comunes) \n",
    "\n",
    "* [chatGPT](https://openai.com/blog/chatgpt)  \n",
    "\n",
    "* Géron, A. (2017). Hands-on machine learning with scikit-learn and tensorflow: Concepts. Tools, and Techniques to build intelligent systems.[Geron, Aurelien. Hands on Machine Learning](https://udeaeduco-my.sharepoint.com/:b:/g/personal/marco_canas_udea_edu_co/Ecet27yjQzZIlT1Y_Bc2erkBUhbeYuIe6HG8i1FYZRlZww?e=dlvZ4v)  \n",
    "\n",
    "* McKinney, W. (2012). Python for data analysis: Data wrangling with Pandas, NumPy, and IPython. \" O'Reilly Media, Inc.\".[Wes Mackinney. ](https://udeaeduco-my.sharepoint.com/:b:/g/personal/marco_canas_udea_edu_co/EVbi5JIeBl9ErbiUnZfGe8YBhNTnZ8sxTK5hjIOPK4UpGw?e=fFclah)  \n",
    "\n",
    "* [Ledezma, C., Font, V., & Sala-Sebastià, G. MODELIZACIÓN MATEMÁTICA DESDE UNA ARTICULACIÓN TEÓRICA ENTRE LOS ENFOQUES COGNITIVO Y ONTO-SEMIÓTICO.](https://www.researchgate.net/profile/Carlos-Ledezma-4/publication/376076920_Modelizacion_matematica_desde_una_articulacion_teorica_entre_los_enfoques_cognitivo_y_onto-semiotico/links/6568cb363fa26f66f43b292a/Modelizacion-matematica-desde-una-articulacion-teorica-entre-los-enfoques-cognitivo-y-onto-semiotico.pdf)"
   ]
  },
  {
   "cell_type": "markdown",
   "id": "45c59aa9",
   "metadata": {},
   "source": [
    "[Autoevaluemonos para hacernos concientes de nuestro aprendizaje y en lo que debemos enfocarnos en mejorar]()  \n",
    "\n",
    "Aquí tienes una lista de preguntas de selección múltiple para una autoevaluación en un curso de cálculo con un enfoque pedagógico de aula invertida. Estas preguntas abarcan los objetivos de desarrollo del pensamiento variacional, pensamiento computacional a través de Python, capacidad de comunicación científica con LaTeX, Git y el uso de cuadernos Jupyter, así como la promoción de políticas de ciencia libre. \n",
    "\n",
    "1. **Pensamiento Variacional:**\n",
    "   a. ¿Qué significa el término \"variación\" en el contexto del pensamiento variacional?\n",
    "   b. ¿Cómo se relaciona el cálculo con el pensamiento variacional?\n",
    "   c. ¿Puede proporcionar un ejemplo práctico que ilustre el concepto de variación en un problema de cálculo?\n",
    "\n",
    "2. **Pensamiento Computacional (Python):**\n",
    "   a. ¿Cuál es el propósito principal de utilizar Python en un curso de cálculo?\n",
    "   b. ¿Cómo se puede utilizar Python para resolver problemas matemáticos complejos?\n",
    "   c. Menciona al menos dos ventajas de usar Python en comparación con otros lenguajes de programación en el contexto del cálculo.\n",
    "\n",
    "3. **Comunicación Científica (LaTeX):**\n",
    "   a. ¿Por qué es importante utilizar LaTeX para la comunicación científica en matemáticas y ciencias?\n",
    "   b. Enumera al menos tres comandos básicos de LaTeX utilizados para escribir ecuaciones matemáticas.\n",
    "   c. ¿Cómo mejorarías la presentación visual de una fórmula matemática utilizando LaTeX?\n",
    "\n",
    "4. **Gestión de Versiones (Git):**\n",
    "   a. ¿Cuál es el propósito principal de utilizar Git en el desarrollo de proyectos científicos?\n",
    "   b. Explica el concepto de \"commit\" en Git.\n",
    "   c. ¿Cómo resolverías un conflicto de fusión (merge conflict) en Git?\n",
    "\n",
    "5. **Cuadernos Jupyter:**\n",
    "   a. ¿Cuáles son las ventajas de utilizar cuadernos Jupyter en comparación con otros entornos de desarrollo?\n",
    "   b. Describe cómo se integra el código Python y la documentación en un cuaderno Jupyter.\n",
    "   c. ¿Cómo compartirías un cuaderno Jupyter con tus compañeros de clase utilizando GitHub?\n",
    "\n",
    "6. **Promoción de Políticas de Ciencia Libre:**\n",
    "   a. ¿Cuáles son los beneficios de utilizar plataformas como GitHub y YouTube para compartir recursos científicos?\n",
    "   b. ¿Cómo podrías contribuir a la promoción de la ciencia libre en tu comunidad académica?\n",
    "   c. ¿Por qué es importante la transparencia y accesibilidad en la investigación científica?\n",
    "\n",
    "Estas preguntas están diseñadas para evaluar la comprensión de los estudiantes en diversos aspectos del curso, abarcando desde los conceptos matemáticos hasta las habilidades tecnológicas y la conciencia sobre la ciencia libre."
   ]
  },
  {
   "cell_type": "markdown",
   "id": "8e65d6f9",
   "metadata": {},
   "source": [
    "# Como estudiante, encuentro que...   \n",
    "\n",
    "F: Mis Fortalezas son:     \n",
    "O: Mis Oportunidades son:    \n",
    "D: Mis Debilidades son:    \n",
    "A: Lo que Amenazas mi aprendizaje es:  "
   ]
  },
  {
   "cell_type": "markdown",
   "id": "6b9e56a8",
   "metadata": {
    "slideshow": {
     "slide_type": "slide"
    }
   },
   "source": [
    "### [Evaluamos al profesor Marco Cañas Aquí](https://forms.office.com/Pages/ResponsePage.aspx?id=IefhmYRxjkmK_7KtTlPBwkanXIs1i1FEujpsZgO6dXpUREJPV1kxUk1JV1ozTFJIQVNIQjY5WEY3US4u)"
   ]
  },
  {
   "cell_type": "markdown",
   "id": "050b9508",
   "metadata": {},
   "source": [
    "# Aportes de mis estudiantes a la metodología del curso  \n",
    "1. \n",
    "\n",
    "Sus opiniones y aportes son muy importantes para mi. Pues esta es una investigación educativa y un servicio de enseñanza para ustedes. Ustedes son la razón de ser de mi actividad docente. Dios los bendiga. "
   ]
  },
  {
   "cell_type": "markdown",
   "id": "6c4af91f",
   "metadata": {},
   "source": [
    "# Aportes de mis colegas docentes a la metodología que estoy aplicando en mis cursos. "
   ]
  },
  {
   "cell_type": "markdown",
   "id": "071afa04",
   "metadata": {
    "slideshow": {
     "slide_type": "slide"
    }
   },
   "source": [
    "## [Evaluación luego de alcanzar estos objetivos de aprendizaje]()"
   ]
  },
  {
   "cell_type": "markdown",
   "id": "10f43536",
   "metadata": {
    "slideshow": {
     "slide_type": "slide"
    }
   },
   "source": [
    "### Continue su aprendizaje en la siguiente clase a través del siguiente [vínculo]()"
   ]
  },
  {
   "cell_type": "markdown",
   "id": "af751e30",
   "metadata": {
    "slideshow": {
     "slide_type": "slide"
    }
   },
   "source": [
    "# Conjeturas pedagógicas fruto de la aplicación del modelo de aprendizaje invertido y del enfoque hacia la ciencia de datos con python\n",
    "\n",
    "1. Todo cálculo o resultado debe ser interpretado en una línea markdown del cuaderno Jupyter, inmediatamente después de la enunciación del resultado y después de la presentación de una tabla o gráfico bidimensional, de tal menera que el estudiante explicite la comprensión verbal del resultado y las inferencias o estrategias que este resultado le sugieren.  \n",
    "\n",
    "2. Debo colocar las conjeturas pedagógicas, que el uso en el aula de [ChatGPT](https://openai.com/blog/chatgpt/) traiga para la enseñanza y el aprendizaje de las matemáticas. \n",
    "\n",
    "3. Promover ciencia abierta en clase de matemáticas puede ser pidiendo a los estudiantes, tomar nota en clase pero en cuadernos Jupyter y entregar siempre al final de cada clase su cuaderno con todas las notas y experimentaciones de clase replicadas. \n",
    "4. Profesor Marco, ¿ha contemplado la posibilidad de intercambio de experiencias de aprendizaje y aplicación de Python al día a día con comfama? (Estudio Trabajo Social y allí, en comfama, aprendí los fundamentos, lo básico de Python)\n",
    "\n",
    "¿Conoce si en la Universidad de Antioquia hay medios para poder aprender Swift/XCODE? (Para programar para dispositivos de Apple)\n",
    "5. Debo considerar la metodología ABP, es decir, diseñar las clase bajo la metodología de Aprendizaje Basado en Problemas. \n",
    "\n"
   ]
  },
  {
   "cell_type": "markdown",
   "id": "53cc9115",
   "metadata": {
    "slideshow": {
     "slide_type": "slide"
    }
   },
   "source": [
    "## Agradecimientos  \n",
    "\n",
    "Doy gracias a Dios por la vida de mi Hijo Joseph Cañas Osorio y la madurez que ha alcanzado.\n",
    "\n",
    "Y a mi esposa Yasmira por su apoyo, orientación y acompañamiento. "
   ]
  }
 ],
 "metadata": {
  "celltoolbar": "Slideshow",
  "kernelspec": {
   "display_name": "Python 3 (ipykernel)",
   "language": "python",
   "name": "python3"
  },
  "language_info": {
   "codemirror_mode": {
    "name": "ipython",
    "version": 3
   },
   "file_extension": ".py",
   "mimetype": "text/x-python",
   "name": "python",
   "nbconvert_exporter": "python",
   "pygments_lexer": "ipython3",
   "version": "3.10.12"
  },
  "rise": {
   "enable_chalkboard": true,
   "theme": "sky",
   "transition": "zoom"
  }
 },
 "nbformat": 4,
 "nbformat_minor": 5
}
