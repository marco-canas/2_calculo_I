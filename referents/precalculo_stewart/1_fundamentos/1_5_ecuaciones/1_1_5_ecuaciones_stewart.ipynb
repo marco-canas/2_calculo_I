{
 "cells": [
  {
   "cell_type": "markdown",
   "id": "dc06dec7",
   "metadata": {
    "slideshow": {
     "slide_type": "slide"
    }
   },
   "source": [
    "<table align=\"left\">\n",
    "  <td>\n",
    "    <a href=\"https://colab.research.google.com/github/marco-canas/calculo/blob/main/referents/precalculo_stewart/1_fundamentos/1_5_ecuaciones/1_1_5_ecuaciones_stewart.ipynb\" target=\"_parent\"><img src=\"https://colab.research.google.com/assets/colab-badge.svg\" alt=\"Open In Colab\"/></a>\n",
    "  </td>\n",
    "</table>"
   ]
  },
  {
   "cell_type": "markdown",
   "id": "e0c5b198",
   "metadata": {
    "slideshow": {
     "slide_type": "slide"
    }
   },
   "source": [
    "### [Video de apoyo a la lectura interactiva y experimental de este cuaderno](https://www.youtube.com/watch?v=nMWAskoZqEE)"
   ]
  },
  {
   "cell_type": "markdown",
   "id": "41e82203",
   "metadata": {
    "slideshow": {
     "slide_type": "slide"
    }
   },
   "source": [
    "### [Vínculo al programa del curso en licenciatura:](https://github.com/marco-canas/fundamentos_de_las_matematicas/blob/main/mathematics_fundamentals_course_program_flleped_learning.docx)\n",
    "\n",
    "### [Programa del curso en Ingeniería agropecuaria](https://github.com/marco-canas/calculo/blob/main/2_programa_calculo_Integral_ingenieria_agropecuaria.docx)"
   ]
  },
  {
   "cell_type": "markdown",
   "id": "d11ab06d",
   "metadata": {
    "slideshow": {
     "slide_type": "slide"
    }
   },
   "source": [
    "Un reconocimiento a mis estudiantes que han construido conmigo este saber pedagógico:\n",
    "\n",
    "<img src = 'https://github.com/marco-canas/fundamentos_de_las_matematicas/blob/main/images/photos/estudiantes_lic_math_2023-08-01.jpeg?raw=true'> \n",
    "\n"
   ]
  },
  {
   "cell_type": "markdown",
   "id": "5e3936d8",
   "metadata": {
    "slideshow": {
     "slide_type": "slide"
    }
   },
   "source": [
    "# Llamar a lista o tomar asistencia con python o llamar el equipo para la tarea con video y cuaderno Jupyter sobre medición indirecta de grandes alturas con imágenes"
   ]
  },
  {
   "cell_type": "code",
   "execution_count": null,
   "id": "7604880f",
   "metadata": {
    "slideshow": {
     "slide_type": "slide"
    }
   },
   "outputs": [],
   "source": [
    "import pandas as pd\n",
    "import random\n",
    "\n",
    "# Cargar la lista de estudiantes desde la URL\n",
    "url = 'https://raw.githubusercontent.com/marco-canas/groups_list/main/seminario_didactica_aritmetica.csv'\n",
    "estudiantes = pd.read_csv(url)\n",
    "\n",
    "# Función para llamar a un estudiante aleatoriamente y registrar su nota de seguimiento\n",
    "def llamar_estudiante():\n",
    "    estudiante_aleatorio = random.choice(estudiantes['Nombre'])\n",
    "    print(f\"Llamando a {estudiante_aleatorio}...\")\n",
    "    \n",
    "    \n",
    "# Llamar a la función para realizar el proceso\n",
    "llamar_estudiante()\n"
   ]
  },
  {
   "cell_type": "markdown",
   "id": "076b93c7",
   "metadata": {},
   "source": []
  },
  {
   "cell_type": "markdown",
   "id": "4f9d8cf9",
   "metadata": {
    "slideshow": {
     "slide_type": "slide"
    }
   },
   "source": [
    "# Modelo general de clase: [aula invertida](https://www3.gobiernodecanarias.org/medusa/ecoescuela/pedagotic/aprendizaje-invertido-flipped-classroom/)"
   ]
  },
  {
   "cell_type": "markdown",
   "id": "eb6ed03a",
   "metadata": {},
   "source": [
    "![Definamos flipped learning de manera gráfica](https://resources.maneuveringthemiddle.com/wp-content/uploads/2020/07/04212706/1-5.png)"
   ]
  },
  {
   "cell_type": "markdown",
   "id": "8d97dc80",
   "metadata": {
    "slideshow": {
     "slide_type": "slide"
    }
   },
   "source": [
    "## Fomento de la lectura literaria asociada a Ingeniería agropecuaria y licenciatura en Matemáticas\n",
    "\n",
    "[Daniel Goleman: El costo del analfabetismo emocional](https://github.com/marco-canas/inteligencia_emocional)"
   ]
  },
  {
   "cell_type": "markdown",
   "id": "96775931",
   "metadata": {
    "slideshow": {
     "slide_type": "slide"
    }
   },
   "source": [
    "## Título de la clase: 1.5 Ecuaciones y funciones Según el Precálculo de Stewart\n",
    "\n",
    "Página 45 del PDF y del Libro de Stewart PreCálculo. \n",
    "\n",
    "Metodología Aprendizaje Basado en problemas (ABP)  \n",
    "Con un enfoque pedagógico de aula invertida. \n",
    "\n",
    "Se considera a Python y en particular a sympy, como dos lengaujes que permiten una enseñanza de la metemática desde una postura experimental, lo que le permita al estudiantes, aprender investigando. \n",
    "\n"
   ]
  },
  {
   "cell_type": "markdown",
   "id": "1d38dd4e",
   "metadata": {
    "slideshow": {
     "slide_type": "slide"
    }
   },
   "source": [
    "### Objetivo de aprendizaje (Enunciar, de manera corta sencilla y clara para todos los asistentes)\n",
    "\n",
    "* Diferenciar los conceptos de ecuación lineal $ax + b = 0$ y función lineal $y = ax + b$. \n",
    "* Diferenciar los conceptos de ecuación cuadrática y de función cuadrática. \n",
    "* Utilizar el concepto de ecuación lineal en la solución de problemas reales. \n",
    "* que el estudiante pueda experimentar modelando ayudado por sympy, en especial su función `solve()`. \n",
    "* Aprender a editar ecuaciones en lenguaje latex, lo que le ayude a desarrollar habilidades de comunicación científica. "
   ]
  },
  {
   "cell_type": "markdown",
   "id": "1ec2944c",
   "metadata": {},
   "source": [
    "# Competencias a evaluar en educación matemática. \n",
    "\n",
    "1. Capacidad para interpretar y analizar ecuaciones.   \n",
    "   \n",
    "2. Capacidad para resolver ecuaciones y Capacidad de identificar los coeficientes de una ecuación lineal o cuadrática.  \n",
    "   \n",
    "3. Capacidad de justificar el proceso de solución de manera escrita. \n",
    "\n",
    "4. Capacidad para describir el proceso de solución de manera oral.   \n",
    "   \n",
    "  "
   ]
  },
  {
   "cell_type": "markdown",
   "id": "540f0ec1",
   "metadata": {
    "slideshow": {
     "slide_type": "slide"
    }
   },
   "source": [
    "## Cuestionario para realizar labores de memorización, observación y síntesis de la información (Además de diagnóstico)\n",
    "\n"
   ]
  },
  {
   "cell_type": "markdown",
   "id": "bc34d250",
   "metadata": {},
   "source": [
    "\n",
    "1. Define una ecuación lineal y una función lineal. ¿Cuáles son las principales diferencias entre ambas?\n"
   ]
  },
  {
   "cell_type": "markdown",
   "id": "d15af757",
   "metadata": {},
   "source": [
    "\n",
    "2. Explica cómo se puede utilizar el concepto de ecuación lineal para resolver problemas reales. Proporciona al menos un ejemplo.\n"
   ]
  },
  {
   "cell_type": "markdown",
   "id": "658dead2",
   "metadata": {},
   "source": [
    "\n",
    "3. ¿Cuál es el propósito de utilizar SymPy en la modelización matemática? ¿Qué función específica de SymPy se utiliza comúnmente para resolver ecuaciones?\n"
   ]
  },
  {
   "cell_type": "markdown",
   "id": "5cadc7bb",
   "metadata": {},
   "source": [
    "\n",
    "4. Describe brevemente cómo usar la función `solve()` de SymPy para resolver una ecuación lineal.\n"
   ]
  },
  {
   "cell_type": "markdown",
   "id": "f69c6b19",
   "metadata": {},
   "source": [
    "\n",
    "5. ¿Cuál es la diferencia entre una ecuación lineal con una única solución, infinitas soluciones y ninguna solución? Proporciona un ejemplo de cada caso.\n",
    "\n",
    "6. ¿Cómo se puede interpretar geométricamente una ecuación lineal en dos variables? ¿Qué representa la pendiente y la ordenada al origen en este contexto?\n"
   ]
  },
  {
   "cell_type": "markdown",
   "id": "5584228e",
   "metadata": {},
   "source": [
    "\n",
    "## **Respuestas:**\n",
    "\n",
    "1. Una ecuación lineal es una expresión matemática en la que las variables están elevadas a la primera potencia y tiene la forma $ax + b = 0$. Una función lineal es una función matemática que puede expresarse en la forma $y = f(x) = mx + b$, donde $m$ representa la pendiente de la recta y $b$ representa la ordenada al origen. La principal diferencia es que una ecuación lineal es una igualdad mientras que una función lineal es una relación funcional entre dos variables.\n"
   ]
  },
  {
   "cell_type": "markdown",
   "id": "f98444b1",
   "metadata": {},
   "source": [
    "\n",
    "2. El concepto de ecuación lineal se puede utilizar para resolver problemas relacionados con cantidades que cambian de manera constante y proporcional. Por ejemplo, calcular el costo total de comprar un número determinado de artículos a un precio fijo por unidad.\n"
   ]
  },
  {
   "cell_type": "markdown",
   "id": "911e8d13",
   "metadata": {},
   "source": [
    "\n",
    "3. SymPy se utiliza en la modelización matemática para realizar cálculos simbólicos y resolver problemas matemáticos complejos. La función `solve()` de SymPy se utiliza comúnmente para encontrar soluciones a ecuaciones algebraicas y diferenciales.\n",
    "\n",
    "4. Para resolver una ecuación lineal utilizando SymPy, primero se define la ecuación utilizando símbolos y luego se utiliza la función `solve()` proporcionando la ecuación y la variable a resolver. Por ejemplo, para resolver la ecuación 2x + 3 = 7, se puede escribir `solve(2*x + 3 - 7, x)`.\n"
   ]
  },
  {
   "cell_type": "markdown",
   "id": "89f5ba40",
   "metadata": {},
   "source": [
    "\n",
    "5. Una ecuación lineal con una única solución tiene un único punto de intersección en un gráfico, como por ejemplo: 2x + 3 = 7, que tiene solución x = 2. Una ecuación lineal con infinitas soluciones representa una recta que coincide con la línea del gráfico, como por ejemplo: $y = 2x + 3$. Una ecuación lineal sin soluciones representa dos rectas paralelas que nunca se cruzan, como por ejemplo: $2x + 3 = 2x + 5$.\n"
   ]
  },
  {
   "cell_type": "markdown",
   "id": "e0c86c19",
   "metadata": {},
   "source": [
    "\n",
    "6. Geométricamente, una ecuación lineal en dos variables representa una recta en el plano cartesiano. La pendiente (m) representa la inclinación de la recta y la ordenada al origen (b) representa el punto donde la recta intersecta el eje vertical (y) cuando x es igual a cero. Por ejemplo, la ecuación y = 2x + 3 representa una recta con pendiente 2 y ordenada al origen 3."
   ]
  },
  {
   "cell_type": "markdown",
   "id": "ca7261b1",
   "metadata": {
    "slideshow": {
     "slide_type": "slide"
    }
   },
   "source": [
    "## Establecimiento de prerrequisitos conceptuales para alcanzar el objetivo de aprendizaje trazado.   \n",
    "\n",
    "Para alcanzar los objetivos de aprendizaje en una clase sobre ecuaciones en precálculo, se necesitan algunos prerrequisitos conceptuales sólidos. Aquí tienes una lista de prerrequisitos y algunas actividades sugeridas para alcanzarlos:\n"
   ]
  },
  {
   "cell_type": "markdown",
   "id": "dd2c2eb7",
   "metadata": {},
   "source": [
    "\n",
    "1. **Conocimiento básico de álgebra elemental:**\n",
    "   - Actividades sugeridas:\n",
    "     - Revisión de las propiedades básicas de las operaciones aritméticas (suma, resta, multiplicación, división).\n",
    "     - Práctica con la simplificación de expresiones algebraicas simples.\n",
    "     - Resolución de ecuaciones lineales simples.\n"
   ]
  },
  {
   "cell_type": "markdown",
   "id": "f34444ad",
   "metadata": {},
   "source": [
    "\n",
    "2. **Comprensión de gráficos cartesianos:**\n",
    "   - Actividades sugeridas:\n",
    "     - Estudio de la representación de puntos en el plano cartesiano.\n",
    "     - Graficación de ecuaciones lineales simples en el plano cartesiano.\n",
    "     - Interpretación de la pendiente y la ordenada al origen en el contexto de una línea.\n"
   ]
  },
  {
   "cell_type": "markdown",
   "id": "228711b8",
   "metadata": {},
   "source": [
    "\n",
    "3. **Familiaridad con los conceptos de variables y funciones:**\n",
    "   - Actividades sugeridas:\n",
    "     - Estudio de las definiciones de variable y función.\n",
    "     - Práctica con la evaluación de funciones para diferentes valores de la variable independiente.\n",
    "     - Exploración de gráficos de funciones lineales y no lineales.\n"
   ]
  },
  {
   "cell_type": "markdown",
   "id": "e8ce2b14",
   "metadata": {},
   "source": [
    "\n",
    "4. **Conocimiento de la resolución de ecuaciones lineales:**\n",
    "   - Actividades sugeridas:\n",
    "     - Resolución de ecuaciones lineales de primer grado utilizando diferentes métodos (sustitución, eliminación, método gráfico).\n",
    "     - Aplicación de la resolución de ecuaciones lineales en problemas del mundo real.\n"
   ]
  },
  {
   "cell_type": "markdown",
   "id": "ba340933",
   "metadata": {},
   "source": [
    "\n",
    "5. **Comprensión de la relación entre ecuaciones y gráficos:**\n",
    "   - Actividades sugeridas:\n",
    "     - Relación de ecuaciones lineales con la representación gráfica de líneas en el plano cartesiano.\n",
    "     - Identificación de características importantes de la línea a partir de su ecuación (pendiente, ordenada al origen).\n"
   ]
  },
  {
   "cell_type": "markdown",
   "id": "752d2bde",
   "metadata": {},
   "source": [
    "\n",
    "6. **Introducción a la programación simbólica con herramientas como SymPy:**\n",
    "   - Actividades sugeridas:\n",
    "     - Introducción a SymPy y sus capacidades para manipulación simbólica.\n",
    "     - Práctica con la definición de símbolos y la manipulación de expresiones simbólicas.\n",
    "     - Experimentación con la función `solve()` de SymPy para resolver ecuaciones lineales.\n"
   ]
  },
  {
   "cell_type": "markdown",
   "id": "ed05b572",
   "metadata": {},
   "source": [
    "\n",
    "Estas actividades pueden realizarse a través de ejercicios prácticos, problemas de aplicación, ejemplos guiados y actividades de modelado utilizando herramientas como SymPy para fortalecer los prerrequisitos conceptuales necesarios para alcanzar los objetivos de aprendizaje en la clase sobre ecuaciones en precálculo."
   ]
  },
  {
   "cell_type": "markdown",
   "id": "2298e976",
   "metadata": {
    "slideshow": {
     "slide_type": "slide"
    }
   },
   "source": [
    "# Para el diseño de la clase tenga en cuenta algunos problemas de aprendizaje"
   ]
  },
  {
   "cell_type": "markdown",
   "id": "523d3acf",
   "metadata": {
    "slideshow": {
     "slide_type": "slide"
    }
   },
   "source": [
    "Al tratar de alcanzar los objetivos de aprendizaje en una clase sobre ecuaciones en precálculo, pueden surgir varios problemas de aprendizaje para los estudiantes. Aquí hay una lista de posibles problemas y algunas sugerencias de solución utilizando la experimentación con la librería SymPy de Python como apoyo para el aprendizaje:\n"
   ]
  },
  {
   "cell_type": "markdown",
   "id": "fae4741b",
   "metadata": {},
   "source": [
    "\n",
    "1. **Dificultades con la comprensión de conceptos abstractos:**\n",
    "   - Problema: Los estudiantes pueden tener dificultades para comprender conceptos abstractos como funciones lineales y ecuaciones lineales.\n",
    "   - Solución: Utilizar SymPy para visualizar gráficos de funciones lineales y resolver ecuaciones lineales de manera interactiva. Esto proporciona una representación concreta de conceptos abstractos y facilita la comprensión.\n"
   ]
  },
  {
   "cell_type": "markdown",
   "id": "3d4054fb",
   "metadata": {},
   "source": [
    "\n",
    "2. **Desafíos en la resolución de problemas reales:**\n",
    "   - Problema: Los estudiantes pueden tener dificultades para aplicar conceptos matemáticos a problemas del mundo real.\n",
    "   - Solución: Presentar problemas del mundo real que se pueden modelar utilizando ecuaciones lineales y guiar a los estudiantes para resolverlos utilizando SymPy. Esto ayuda a los estudiantes a ver la relevancia de los conceptos matemáticos en situaciones prácticas.\n"
   ]
  },
  {
   "cell_type": "markdown",
   "id": "f54a2c17",
   "metadata": {},
   "source": [
    "\n",
    "3. **Falta de práctica en la resolución de ecuaciones lineales:**\n",
    "   - Problema: Los estudiantes pueden carecer de práctica en la resolución de ecuaciones lineales utilizando diferentes métodos.\n",
    "   - Solución: Proporcionar ejercicios variados que requieran la resolución de ecuaciones lineales utilizando SymPy. Además, animar a los estudiantes a explorar diferentes métodos de resolución y comparar resultados.\n"
   ]
  },
  {
   "cell_type": "markdown",
   "id": "c5766dfd",
   "metadata": {},
   "source": [
    "\n",
    "4. **Confusión en la interpretación de resultados:**\n",
    "   - Problema: Los estudiantes pueden tener dificultades para interpretar los resultados de las ecuaciones lineales en el contexto del problema.\n",
    "   - Solución: Guiar a los estudiantes para que interpreten los resultados de manera significativa en el contexto del problema. Utilizar SymPy para verificar y visualizar soluciones puede ayudar a reforzar la comprensión de los resultados.\n"
   ]
  },
  {
   "cell_type": "markdown",
   "id": "962eb3ab",
   "metadata": {},
   "source": [
    "\n",
    "5. **Falta de motivación y compromiso con el aprendizaje:**\n",
    "   - Problema: Los estudiantes pueden perder interés en el tema debido a la falta de motivación o relevancia percibida.\n",
    "   - Solución: Integrar la programación con SymPy en el currículo para involucrar a los estudiantes en actividades prácticas y aplicadas. Proporcionar problemas desafiantes y proyectos de modelado que requieran el uso de SymPy puede aumentar la motivación y el compromiso con el aprendizaje.\n"
   ]
  },
  {
   "cell_type": "markdown",
   "id": "184c556d",
   "metadata": {},
   "source": [
    "\n",
    "6. **Inseguridad en el uso de herramientas tecnológicas:**\n",
    "   - Problema: Los estudiantes pueden sentirse inseguros al utilizar herramientas tecnológicas como SymPy.\n",
    "   - Solución: Proporcionar instrucciones claras y recursos de apoyo para ayudar a los estudiantes a familiarizarse con SymPy. Ofrecer sesiones de práctica guiada y tutoriales para desarrollar confianza en el uso de la herramienta.\n"
   ]
  },
  {
   "cell_type": "markdown",
   "id": "3ec7d92f",
   "metadata": {},
   "source": [
    "\n",
    "Al abordar estos problemas de aprendizaje utilizando la experimentación con la librería SymPy de Python como apoyo para el aprendizaje, los estudiantes pueden mejorar su comprensión de los conceptos matemáticos y desarrollar habilidades prácticas en la resolución de problemas."
   ]
  },
  {
   "cell_type": "markdown",
   "id": "d95d1aaf",
   "metadata": {},
   "source": [
    "El siguiente procedimiento es erroneo y diga porque: \n",
    "\n",
    "\n",
    "$$ 2x = 1 $$\n",
    "\n",
    "$$ x = \\frac{1}{-2} $$"
   ]
  },
  {
   "cell_type": "markdown",
   "id": "a40a4704",
   "metadata": {
    "slideshow": {
     "slide_type": "slide"
    }
   },
   "source": [
    "## Secuencia conceptual introductoria a la clase"
   ]
  },
  {
   "cell_type": "markdown",
   "id": "8853d874",
   "metadata": {},
   "source": [
    "## El componente histórico y epistemológico"
   ]
  },
  {
   "cell_type": "markdown",
   "id": "66a18c56",
   "metadata": {},
   "source": [
    "La enseñanza de los conceptos de ecuación lineal y ecuación cuadrática en el contexto universitario y de formación de maestros se beneficia de una comprensión tanto histórica como epistemológica. Aquí hay algunos componentes clave:\n",
    "\n",
    "### Históricos:\n"
   ]
  },
  {
   "cell_type": "markdown",
   "id": "922de7ba",
   "metadata": {},
   "source": [
    "\n",
    "1. **Desarrollo en la Antigüedad:** Las ecuaciones lineales tienen una historia que se remonta a las antiguas civilizaciones mesopotámicas y egipcias, donde se utilizaron métodos geométricos para resolver problemas de proporción. Los matemáticos griegos como Euclides también trabajaron en problemas relacionados con líneas y proporciones, estableciendo algunas de las bases de la geometría que es esencial para las ecuaciones lineales.\n"
   ]
  },
  {
   "cell_type": "markdown",
   "id": "b1ca4f8e",
   "metadata": {},
   "source": [
    "\n",
    "2. **Renacimiento y Edad Moderna:** Durante el Renacimiento y la Edad Moderna, matemáticos como Descartes y Fermat desarrollaron sistemas algebraicos que permitieron la resolución de ecuaciones polinómicas, incluidas las cuadráticas. El surgimiento del álgebra moderna y la notación simbólica sentaron las bases para el tratamiento sistemático de las ecuaciones.\n",
    "\n",
    "![Rene Descartes y Fermat](https://uruguayeduca.anep.edu.uy/sites/default/files/styles/wide/public/2017-10/Descartes%20-%20Fermat.png?itok=ekCTT_tx)"
   ]
  },
  {
   "cell_type": "markdown",
   "id": "fd401a7a",
   "metadata": {},
   "source": [
    "\n",
    "3. **Contribuciones en el siglo XIX:** Matemáticos como Gauss y Euler hicieron contribuciones significativas al campo de las ecuaciones, desarrollando métodos para resolver ecuaciones lineales y cuadráticas de manera más general y formal. La teoría de matrices y determinantes también surgió durante este período, lo que proporcionó herramientas poderosas para trabajar con sistemas de ecuaciones.\n"
   ]
  },
  {
   "cell_type": "markdown",
   "id": "90312db7",
   "metadata": {},
   "source": [
    "\n",
    "### Epistemológicos:\n"
   ]
  },
  {
   "cell_type": "markdown",
   "id": "24c5a48a",
   "metadata": {},
   "source": [
    "\n",
    "1. **Modelado Matemático:** Enseñar ecuaciones lineales y cuadráticas implica mostrar cómo estas ecuaciones surgen en situaciones del mundo real. La epistemología del modelado matemático es esencial para conectar conceptos abstractos con aplicaciones prácticas.\n"
   ]
  },
  {
   "cell_type": "markdown",
   "id": "61f30ad1",
   "metadata": {},
   "source": [
    "\n",
    "2. **Métodos de Resolución:** Comprender los métodos históricos de resolución de ecuaciones (como la factorización, completar el cuadrado, etc.) proporciona una visión epistemológica de cómo se desarrollaron estos conceptos y cómo evolucionaron a lo largo del tiempo. Esto también permite a los estudiantes apreciar la belleza y la eficacia de los métodos matemáticos.\n"
   ]
  },
  {
   "cell_type": "markdown",
   "id": "3ab70823",
   "metadata": {},
   "source": [
    "\n",
    "3. **Relación con otras áreas de las matemáticas:** Explorar cómo las ecuaciones lineales y cuadráticas se relacionan con otros conceptos matemáticos, como las funciones, el álgebra abstracta y el cálculo, ayuda a los estudiantes a comprender la importancia y la ubicuidad de estos conceptos en toda la disciplina matemática.\n"
   ]
  },
  {
   "cell_type": "markdown",
   "id": "7adaf779",
   "metadata": {},
   "source": [
    "\n",
    "4. **Enfoque Constructivista:** Un enfoque epistemológico constructivista alienta a los estudiantes a construir su comprensión a través de la exploración activa y la resolución de problemas. Esto implica proporcionar oportunidades para la experimentación, la resolución de problemas auténticos y la discusión de diferentes enfoques para resolver ecuaciones lineales y cuadráticas.\n",
    "\n",
    "Al integrar estos componentes históricos y epistemológicos en la enseñanza de las ecuaciones lineales y cuadráticas, los estudiantes pueden desarrollar una comprensión más profunda y significativa de estos conceptos fundamentales de las matemáticas."
   ]
  },
  {
   "cell_type": "markdown",
   "id": "3aa78ceb",
   "metadata": {},
   "source": [
    "# 1.5 ECUACIONES  \n",
    "\n",
    "* Solución de ecuaciones lineales \n",
    "* Solución de ecuaciones cuadráticas \n",
    "* Otros tipos de ecuaciones\n",
    "\n",
    "Página 45 del Precálculo de Stewart. "
   ]
  },
  {
   "cell_type": "markdown",
   "id": "eeb54401",
   "metadata": {},
   "source": [
    "Una ecuación es un enunciado de que dos expresiones matemáticas son iguales. Por\n",
    "ejemplo,  \n",
    "\n",
    "$$ 3+ 5 = 8 $$\n",
    "\n",
    "\n",
    "es una ecuación. "
   ]
  },
  {
   "cell_type": "markdown",
   "id": "be18c554",
   "metadata": {},
   "source": [
    "Casi todas las ecuaciones que estudiamos en álgebra contienen variables, que son símbolos (por lo general literales) que representan números. "
   ]
  },
  {
   "cell_type": "markdown",
   "id": "ce23abd6",
   "metadata": {},
   "source": [
    "En la ecuación  \n",
    "\n",
    "$$ x + 7 = 10 $$  \n",
    "\n",
    "la letra $x$ es la variable. "
   ]
  },
  {
   "cell_type": "markdown",
   "id": "a500f7b6",
   "metadata": {},
   "source": [
    "Consideramos $x$ como la “incógnita” de la ecuación, y nuestro objetivo es encontrar el valor de $x$ que haga que la ecuación sea verdadera. "
   ]
  },
  {
   "cell_type": "markdown",
   "id": "abe7e6f7",
   "metadata": {},
   "source": [
    "Los valores de la incógnita que hacen que la ecuación sea verdadera se denominan **soluciones o\n",
    "raíces de la ecuación**, y el proceso de encontrar las soluciones se llama **resolver la ecuación**.\n"
   ]
  },
  {
   "cell_type": "markdown",
   "id": "19e7ba2e",
   "metadata": {},
   "source": [
    "# Ecuaciones equivalentes "
   ]
  },
  {
   "cell_type": "markdown",
   "id": "83a70c0c",
   "metadata": {},
   "source": [
    "Dos ecuaciones con exactamente las mismas soluciones reciben el nombre de **ecuaciones equivalentes**. "
   ]
  },
  {
   "cell_type": "markdown",
   "id": "896b0f12",
   "metadata": {},
   "source": [
    "Para resolver una ecuación tratamos de encontrar una ecuación equivalente más sencilla en la que la variable está solo en un lado del signo “igual”. "
   ]
  },
  {
   "cell_type": "markdown",
   "id": "33408261",
   "metadata": {},
   "source": [
    "A\n",
    "continuación veamos las propiedades que usamos para resolver una ecuación. (En estas\n",
    "propiedades, A, B y C representan cualquier expresión algebraica, y el símbolo 3 sig-\n",
    "nifica “es equivalente a”)."
   ]
  },
  {
   "cell_type": "markdown",
   "id": "b8faa0d8",
   "metadata": {},
   "source": [
    "# PROPIEDADES DE LA IGUALDAD   \n",
    "\n",
    "|Propiedad|Descripción|\n",
    "|---------|-----------|\n",
    "|$A = B \\iff A + C = B+ C $| Sumar la misma cantidad a ambos lados de una ecuación da una ecuación equivalente.|\n",
    "|2. $A = B \\iff AC = BC, \\quad C \\neq 0$|Multiplicar ambos lados de una ecuación por la misma cantidad diferente de cero da una ecuación equivalente|"
   ]
  },
  {
   "cell_type": "markdown",
   "id": "76e5858f",
   "metadata": {},
   "source": [
    "Estas propiedades requieren que, al resolverla, el estudiante realice la misma operación en ambos lados de una ecuación. "
   ]
  },
  {
   "cell_type": "markdown",
   "id": "ec9010d4",
   "metadata": {},
   "source": [
    "Entonces, si decimos “sume 27” al resolver una ecuación, es una forma breve de decir “sume 27 a cada lado de la ecuación”.\n"
   ]
  },
  {
   "cell_type": "markdown",
   "id": "a05ad061",
   "metadata": {},
   "source": [
    "# Solución de ecuaciones lineales  \n",
    "\n",
    "El tipo más sencillo de ecuación es una ecuación lineal, o ecuación de primer grado, que es una ecuación en la que cada término es una constante o un múltiplo diferente de cero de la variable.\n"
   ]
  },
  {
   "cell_type": "markdown",
   "id": "349dd088",
   "metadata": {},
   "source": [
    "# ECUACIONES LINEALES  \n",
    "\n",
    "Una ecuación lineal en una variable es una ecuación equivalente a una de la forma  \n",
    "\n",
    "$$ ax + b = 0 $$  \n",
    "\n",
    "donde $a$ y $b$ son números reales y $x$ es la variable."
   ]
  },
  {
   "cell_type": "markdown",
   "id": "0f02db87",
   "metadata": {},
   "source": [
    "A continuación veamos algunos ejemplos que ilustran la diferencia entre ecuaciones\n",
    "lineales y no lineales.\n",
    "\n",
    "|Ecuaciones lineales|Ecuaciones no lineales|\n",
    "|-------------------|----------------------|  \n",
    "|$4x - 5 = 3$|$x^{2} + 2x = 8$ No lineal pues contiene el cuadrado de la variable| \n",
    "|$2x = \\frac{1}{2}x - 7$|$\\sqrt{x} - 6 = 0$ no lineal pues contiene la raíz cuadrada de la variable|  \n",
    "|$x - 6 = \\frac{x}{3}$|$\\frac{3}{x} - 2x = 1$ no lineal pues contiene el recíroco de la variable|\n",
    "||xy = 1 es no lineal  porque hay productos entre las variables|\n",
    "\n",
    "\n",
    "Ser linal es que la ecuaión este definida como suma de myltiplos de las variables. \n",
    "\n",
    "Una lineal pudes ser de una, dos , 3 o n variables\n",
    "\n",
    "Debemos saber clasificar las ecuaciones para poder determinar el método de solución adecuado. "
   ]
  },
  {
   "cell_type": "markdown",
   "id": "14268b4c",
   "metadata": {},
   "source": [
    "## EJEMPLO 1 Solución de una ecuación lineal  \n",
    "\n",
    "Resuelva la ecuación $$ 7x - 4 = 3x + 8. $$  \n"
   ]
  },
  {
   "cell_type": "markdown",
   "id": "2f0e45cf",
   "metadata": {},
   "source": [
    "\n",
    "### SOLUCIÓN   \n"
   ]
  },
  {
   "cell_type": "markdown",
   "id": "d4756d74",
   "metadata": {},
   "source": [
    "\n",
    "Resolvemos esta ecuación al cambiarla a una ecuación equivalente con todos los términos que tenga la variable $x$ en un lado y todos los términos constantes en el otro."
   ]
  },
  {
   "cell_type": "markdown",
   "id": "c012f01b",
   "metadata": {},
   "source": [
    "\\begin{align*}\n",
    "7x - 4 & = 3x + 8 \\quad \\text{Esta es la ecuación dada} \\\\\n",
    "7x - 4 -3x & = 3x + 8 -3x \\quad \\text{sumó $-3x$} \\\\ \n",
    "4x - 4 & = 8\\quad \\text{suma de términos semejantes} \\\\ \n",
    "4x - 4 + 4 & = 8 + 4 \\quad \\text{suma 4 a ambos lados} \\\\ \n",
    "4x & = 12 \\quad \\text{} \\\\ \n",
    "\\frac{1}{4} \\cdot 4x & = \\frac{1}{4} \\cdot 12\\quad \\text{multiplica por $1/4$} \\\\ \n",
    "x & = 3 \\quad \\text{} \n",
    "\\end{align*}\n",
    "\n",
    "Por lo tanto, la raíz o solución de la ecuación es $3$. "
   ]
  },
  {
   "cell_type": "markdown",
   "id": "59145f23",
   "metadata": {},
   "source": [
    "# Verificación de la solución \n",
    "\n"
   ]
  },
  {
   "cell_type": "markdown",
   "id": "7ba6c677",
   "metadata": {},
   "source": [
    "## Algoritmo de verificación \n",
    "\n",
    "1. Traiga la ecuación original\n",
    "2. reemplaza $x$ por el valor encontrado. \n",
    "3. Si obtengo una igualdad verdadera, concluyo que la solución es correcta.\n",
    "4. Si obtengo una igual falsa, concluyo que la solución es incorrecta. "
   ]
  },
  {
   "cell_type": "markdown",
   "id": "3d3521eb",
   "metadata": {},
   "source": [
    "# Conceptos asociados a la verificación\n",
    "\n",
    "1. Operadores de comparación\n",
    "2. Proposición\n",
    "3. Valor de verdad. \n",
    "\n"
   ]
  },
  {
   "cell_type": "code",
   "execution_count": 1,
   "id": "370dc9b2",
   "metadata": {},
   "outputs": [
    {
     "data": {
      "text/plain": [
       "True"
      ]
     },
     "execution_count": 1,
     "metadata": {},
     "output_type": "execute_result"
    }
   ],
   "source": [
    "2==2 # Primer operador de comparación\n",
    "1!=2 # segundo operador de comparación\n",
    "1>2 # \n",
    "1<2\n",
    "1>=2\n",
    "1<=2"
   ]
  },
  {
   "cell_type": "code",
   "execution_count": null,
   "id": "69764ed3",
   "metadata": {},
   "outputs": [
    {
     "data": {
      "text/plain": [
       "True"
      ]
     },
     "metadata": {},
     "output_type": "display_data"
    }
   ],
   "source": [
    "#programa para verificar soluciones de ecuaciones en python\n",
    "x = 3  # coloque el valor de x a probar \n",
    "lado_izquierdo  = 7*x - 4\n",
    "lado_derecho = 3*x + 8 \n",
    "lado_izquierdo == lado_derecho  # si el booleano es True, se concluye que la solución es correcta"
   ]
  },
  {
   "cell_type": "code",
   "execution_count": null,
   "id": "6f3c87ce",
   "metadata": {},
   "outputs": [],
   "source": [
    "x = 3  # coloque el valor de x a probar \n",
    "if 7*x - 4 == 3*x + 8: \n",
    "    print(f'x={x} si es solución de la ecuación dada')\n",
    "else:     \n",
    "    print(f'x={x} no es solución de la ecuación dada')"
   ]
  },
  {
   "cell_type": "markdown",
   "id": "92d8c3c0",
   "metadata": {},
   "source": [
    "# La necesidad de expresar una variable en términos de otras \n",
    "\n",
    "En las ciencias muchas fórmulas involucran varias variables, por lo que es necesario expresar una en términos de otras. En el siguiente ejemplo resolvemos la ley gravitacional de Newton para una variable."
   ]
  },
  {
   "cell_type": "markdown",
   "id": "bc77ae7c",
   "metadata": {},
   "source": [
    "[Video sobre cómo resolver ecuaciones lineales](https://www.youtube.com/watch?v=nMWAskoZqEE)"
   ]
  },
  {
   "cell_type": "markdown",
   "id": "5521c5a9",
   "metadata": {},
   "source": [
    "## EJEMPLO 2   \n",
    "\n",
    "### Solución para una variable en términos de otras    \n",
    "\n",
    "Despeje $M$ de la ecuación  \n",
    "\n",
    "$$ F = G \\frac{mM}{r^{2}}  $$  \n",
    "\n",
    "Esta es la ley de Newton de gravitación universal. Da la fuerza gravitacional $F$ entre dos masas $m$ y $M$ que están a una\n",
    "distancia $r$ entre sí. La constante $G$ es la constante universal de gravitación.  \n"
   ]
  },
  {
   "cell_type": "code",
   "execution_count": null,
   "id": "d3a7bef1",
   "metadata": {},
   "outputs": [],
   "source": [
    "# como despejar variables con sympy\n",
    "from sympy import * \n",
    "\n",
    "F, G, m, M, r = var('F, G, m, M, r')\n",
    "\n",
    "equation = Eq(F, G*m*M/(r**2))\n",
    "equation "
   ]
  },
  {
   "cell_type": "code",
   "execution_count": null,
   "id": "5bfd5e2c",
   "metadata": {},
   "outputs": [],
   "source": [
    "solve(equation, r)"
   ]
  },
  {
   "cell_type": "markdown",
   "id": "806d2e2a",
   "metadata": {},
   "source": [
    "## La intención de enseñar a despejar variables de una ecuación\n",
    "\n",
    "Responder diver preguntas que el investigador tenga\n",
    "\n",
    "¿Estime, una distancia $r$ aproximada, para que la fuerza $F$ de atracción gravitatoria de gana casi cero?\n",
    "\n",
    "$$ r = f(F, G, m, M) $$"
   ]
  },
  {
   "cell_type": "markdown",
   "id": "d52fcf56",
   "metadata": {},
   "source": [
    "# Ejemplo 3  \n",
    "\n",
    "Despejar una variable en términos de otras\n",
    "\n",
    "$$ A = 2lw + 2wh + 2lh $$  \n",
    "\n",
    "El área superficial $A$ del rectángulo cerrado que se muestra en la figura 1 puede calcularse a partir de la longitud $l$, el ancho $w$ y la altura $h$ de acuerdo con la fórmula.  \n",
    "\n",
    "Despeje $w$ en términos de las otras variables de esta ecuación."
   ]
  },
  {
   "cell_type": "code",
   "execution_count": null,
   "id": "f138a6c7",
   "metadata": {},
   "outputs": [],
   "source": [
    "# como despejar variables con sympy\n",
    "from sympy import * \n",
    "\n",
    "A, l, w, h = var('A, l, w, h')\n",
    "\n",
    "equation = Eq(A, 2*l*w + 2*w*h + 2*l*h)\n",
    "equation "
   ]
  },
  {
   "cell_type": "code",
   "execution_count": null,
   "id": "a15e6b05",
   "metadata": {},
   "outputs": [],
   "source": [
    "solve(equation, l)[0]"
   ]
  },
  {
   "cell_type": "markdown",
   "id": "800bf0b4",
   "metadata": {},
   "source": [
    "# Solución de ecuaciones cuadráticas  \n",
    "\n",
    "Las ecuaciones lineales son ecuaciones de primer grado como $2x + 1 = 5$ o $4 - 3x = 2$. Las ecuaciones cuadráticas son ecuaciones de segundo grado como $x^{2} + 2x - 2 = 0$, $2x^{2} + 3 = 5x$.  \n"
   ]
  },
  {
   "cell_type": "markdown",
   "id": "58cf3835",
   "metadata": {},
   "source": [
    "# Ecuaciones cuadráticas  \n",
    "[Video de apoyo solo para ecuaciones cuadráticas]()\n",
    "Una ecuación cuadrática es una ecuación de la forma:\n",
    "\n",
    "$$ ax^{2} + bx + c = 0 $$"
   ]
  },
  {
   "cell_type": "markdown",
   "id": "d0818b85",
   "metadata": {},
   "source": [
    "Algunas ecuaciones cuadráticas pueden resolverse al factorizar y usar las siguientes propiedades básicas de números reales."
   ]
  },
  {
   "cell_type": "markdown",
   "id": "503dfe14",
   "metadata": {},
   "source": [
    "# PROPIEDAD DE PRODUCTO CERO  \n",
    "\n",
    "$ AB = 0$  si y sólo si $A=0$ o $B=0$. "
   ]
  },
  {
   "cell_type": "markdown",
   "id": "d86f6489",
   "metadata": {},
   "source": [
    "Esto significa que si podemos factorizar el lado izquierdo de una ecuación cuadrática (o de otro grado), entonces podemos resolverla igualando a 0 cada factor a la vez. "
   ]
  },
  {
   "cell_type": "markdown",
   "id": "f0ccd669",
   "metadata": {},
   "source": [
    "Este\n",
    "método funciona sólo cuando el lado derecho de la ecuación es $0$."
   ]
  },
  {
   "cell_type": "markdown",
   "id": "0d8de3ea",
   "metadata": {},
   "source": [
    "## EJEMPLO 4 \n",
    "### Solución de una ecuación cuadrática por factorización  \n",
    "\n",
    "Encuentre las raíces reales de la ecuación $x^{2} + 5x = 24$.  \n"
   ]
  },
  {
   "cell_type": "markdown",
   "id": "a758e5bf",
   "metadata": {},
   "source": [
    "\n",
    "### SOLUCIÓN  \n",
    "#### Metodología\n",
    "1. iguale a cero. \n",
    "2. factorizar el lado no nulo.\n",
    "3. aplica la propiedad del producto cero para que la ecuación cuadrática se convierta en dos ecuaciiones lineales que son más simples. \n",
    "4. Finaliza, resolviendo cada una de las ecuaciones lineales por transposición de términos. \n"
   ]
  },
  {
   "cell_type": "markdown",
   "id": "3d9300e9",
   "metadata": {},
   "source": [
    "## Proceso de solución con lenguaje latex\n",
    "Resolvamos \n",
    "$x^{2} + 5x = 24$. \n",
    "resto 24 a ambos lados. \n",
    "$$ x^{2}  + 5x - 24 = 0$$\n",
    "\n",
    "Ahora si, factoriza el lado no nulo. \n",
    "\n",
    "$$ (x + 8)(x - 3) = 0 $$  \n",
    "\n",
    "ahora, aplico el principio de producto cero para obtener dos ecuaciones lineales: \n",
    "\n",
    "$$ \\to x + 8 = 0 \\vee x-3 = 0 $$\n",
    "\n",
    "$$ x = -8 \\vee x = 3 $$\n",
    "\n",
    "Conclusión: \n",
    "\n",
    "Las dos soluciones de la ecuacion cuadrática dada son -8 y 3. "
   ]
  },
  {
   "cell_type": "code",
   "execution_count": 3,
   "id": "1d501930",
   "metadata": {},
   "outputs": [],
   "source": [
    "# como resolver este problema con python\n",
    "\n",
    "def resuelve_cualquier_ecuacion_ciadrática(a,b,c):\n",
    "    return (-b + (b**2 - 4*a*c)**(1/2) )/(2*a), (-b - (b**2 - 4*a*c)**(1/2) )/(2*a)"
   ]
  },
  {
   "cell_type": "code",
   "execution_count": 4,
   "id": "90ba37f6",
   "metadata": {},
   "outputs": [
    {
     "data": {
      "text/plain": [
       "(3.0, -8.0)"
      ]
     },
     "execution_count": 4,
     "metadata": {},
     "output_type": "execute_result"
    }
   ],
   "source": [
    "resuelve_cualquier_ecuacion_ciadrática(a = 1, b = 5, c = -24)"
   ]
  },
  {
   "cell_type": "markdown",
   "id": "bfc89e90",
   "metadata": {},
   "source": [
    "¿Se da cuenta de por qué un lado de la ecuación debe ser 0 en el ejemplo 4?   \n",
    "Factorizar la ecuación como $x(x + 5) = 24$ no nos ayuda a encontrar soluciones porque\n",
    "24 se puede factorizar en un número infinito de formas, por ejemplo $6 \\cdot 4$, $1/2 \\cdot 48$,\n",
    "$(-2/5) \\cdot (-60)$, etcétera.  \n"
   ]
  },
  {
   "cell_type": "markdown",
   "id": "af657429",
   "metadata": {},
   "source": [
    "Una ecuación cuadrática de la forma $x 2 2 c 5 0$, donde c es una constante positiva y\n",
    "se factoriza como (x 2 \u0002c)(x 1 \u0002c) 5 0, de modo que las soluciones son x 5 \u0002c\n",
    "y x 5 2\u0002c. Con frecuencia abreviamos esto como x 5 6\u0002c."
   ]
  },
  {
   "cell_type": "markdown",
   "id": "a72f3877",
   "metadata": {},
   "source": [
    "# SOLUCIÓN DE UNA ECUACIÓN CUADRÁTICA SENCILLA \"Método Dina\" \n",
    "\n",
    "Las soluciones de la ecuación $x^{2} = c$ son $x  = \\sqrt{c}$ y $x = -\\sqrt{c}$."
   ]
  },
  {
   "cell_type": "code",
   "execution_count": null,
   "id": "a0e53eb0",
   "metadata": {},
   "outputs": [],
   "source": []
  },
  {
   "cell_type": "code",
   "execution_count": null,
   "id": "3ededada",
   "metadata": {},
   "outputs": [],
   "source": []
  },
  {
   "cell_type": "code",
   "execution_count": null,
   "id": "285c19b0",
   "metadata": {},
   "outputs": [],
   "source": []
  },
  {
   "cell_type": "code",
   "execution_count": null,
   "id": "8481498b",
   "metadata": {},
   "outputs": [],
   "source": []
  },
  {
   "cell_type": "markdown",
   "id": "2f0141c3",
   "metadata": {},
   "source": [
    "## Tareas para realizar antes de la clase  \n",
    "\n",
    "1. Ver los videos respectivos []()\n",
    "2. Memorizar las definiciones [](https://github.com/marco-canas/calculo/blob/main/referents/precalculo_stewart/James%20Stewart_%20Saleem%20Watson_%20Lothar%20Redlin%20-%20Prec%C3%A1lculo_%20matem%C3%A1ticas%20para%20el%20c%C3%A1lculo-Cengage%20(2017).pdf) Página 45 del PDF del precálculo de stewart. \n",
    "3. Sintetizar o resumir la información en mapas conceptuales. []()\n",
    "4. Tareas para incentivar el uso de la calculadora Casio Para ingenieros y licenciados. \n",
    "5. Leer los ejemplos resueltos y replicar la manera de hacerlos. Consigne su lectura en el cuaderno Manuscrito. Y de manera opcional, consigne la lectura de un ejemplo en su cuaderno Jupyter.  "
   ]
  },
  {
   "cell_type": "code",
   "execution_count": null,
   "id": "3db51219",
   "metadata": {},
   "outputs": [],
   "source": [
    "from graphviz import Digraph\n",
    "\n",
    "# Crear un nuevo grafo dirigido\n",
    "dot = Digraph()\n",
    "\n",
    "# Añadir nodos y relaciones al grafo\n",
    "dot.node('A', 'Ecuación de variable real')\n",
    "dot.node('B', 'Ecuación lineal')\n",
    "dot.node('C', 'Ecuación cuadrática')\n",
    "dot.node('D', 'Resolver una ecuación')\n",
    "dot.node('E', 'Raíz de una ecuación')\n",
    "dot.node('F', '')\n",
    "dot.node('G', '')\n",
    "dot.node('H', '')\n",
    "dot.node('I', '')\n",
    "dot.node('J', '')\n",
    "\n",
    "dot.edges(['AB'])\n",
    "dot.edges(['AC'])\n",
    "dot.edges(['CD'])\n",
    "dot.edges(['DJ'])\n",
    "dot.edges(['EF'])\n",
    "dot.edges(['FG'])\n",
    "dot.edges(['GH'])\n",
    "dot.edges(['HI'])\n",
    "dot.edges(['IJ'])\n",
    "\n",
    "# Guardar el grafo como un archivo de imagen\n",
    "dot.render(filename='ecuaciones', format='png', cleanup=True, \\\n",
    "           directory='/home/marco/Documentos/docencia/calculo/images/0_reales/')\n",
    "\n",
    "dot.view()\n"
   ]
  },
  {
   "cell_type": "code",
   "execution_count": 1,
   "metadata": {},
   "outputs": [
    {
     "name": "stdout",
     "output_type": "stream",
     "text": [
      "Tarea asignada:  tarea_Stewart_ Precálculo_Página_45_Sección_1.5.csv\n"
     ]
    },
    {
     "data": {
      "text/html": [
       "<div>\n",
       "<style scoped>\n",
       "    .dataframe tbody tr th:only-of-type {\n",
       "        vertical-align: middle;\n",
       "    }\n",
       "\n",
       "    .dataframe tbody tr th {\n",
       "        vertical-align: top;\n",
       "    }\n",
       "\n",
       "    .dataframe thead th {\n",
       "        text-align: right;\n",
       "    }\n",
       "</style>\n",
       "<table border=\"1\" class=\"dataframe\">\n",
       "  <thead>\n",
       "    <tr style=\"text-align: right;\">\n",
       "      <th></th>\n",
       "      <th>Student</th>\n",
       "      <th>Example1</th>\n",
       "    </tr>\n",
       "  </thead>\n",
       "  <tbody>\n",
       "    <tr>\n",
       "      <th>0</th>\n",
       "      <td>ARIAS ARRIETA FREDY</td>\n",
       "      <td>13</td>\n",
       "    </tr>\n",
       "    <tr>\n",
       "      <th>1</th>\n",
       "      <td>BOHORQUEZ NAVARRO DINA ESTELA</td>\n",
       "      <td>10</td>\n",
       "    </tr>\n",
       "    <tr>\n",
       "      <th>2</th>\n",
       "      <td>CARDONA RAMIREZ SARA PAULINA</td>\n",
       "      <td>14</td>\n",
       "    </tr>\n",
       "    <tr>\n",
       "      <th>3</th>\n",
       "      <td>CASTANEDA REINOZA DIEGO</td>\n",
       "      <td>11</td>\n",
       "    </tr>\n",
       "    <tr>\n",
       "      <th>4</th>\n",
       "      <td>ESPEJO PEREZ LUIS DAVID</td>\n",
       "      <td>2</td>\n",
       "    </tr>\n",
       "    <tr>\n",
       "      <th>5</th>\n",
       "      <td>HERNANDEZ GUERRA FABIAN ALEJANDRO</td>\n",
       "      <td>10</td>\n",
       "    </tr>\n",
       "    <tr>\n",
       "      <th>6</th>\n",
       "      <td>LUCAS FLOREZ NAYELIS NATALIA</td>\n",
       "      <td>6</td>\n",
       "    </tr>\n",
       "    <tr>\n",
       "      <th>7</th>\n",
       "      <td>MARTINEZ BALLESTEROS VICTOR HUGO</td>\n",
       "      <td>13</td>\n",
       "    </tr>\n",
       "    <tr>\n",
       "      <th>8</th>\n",
       "      <td>MARTINEZ MENDOZA JAIR MIGUEL</td>\n",
       "      <td>7</td>\n",
       "    </tr>\n",
       "    <tr>\n",
       "      <th>9</th>\n",
       "      <td>OCHOA ARRIETA JUAN ANDRES</td>\n",
       "      <td>13</td>\n",
       "    </tr>\n",
       "    <tr>\n",
       "      <th>10</th>\n",
       "      <td>RODRIGUEZ VERONA CARLOS MARIO</td>\n",
       "      <td>3</td>\n",
       "    </tr>\n",
       "    <tr>\n",
       "      <th>11</th>\n",
       "      <td>RUIZ CARDENAS LUIS MARIO</td>\n",
       "      <td>12</td>\n",
       "    </tr>\n",
       "    <tr>\n",
       "      <th>12</th>\n",
       "      <td>SIERRA OLIVEROS OMAR DARIO</td>\n",
       "      <td>3</td>\n",
       "    </tr>\n",
       "    <tr>\n",
       "      <th>13</th>\n",
       "      <td>SUAREZ RESTREPO MARIA ANGELICA</td>\n",
       "      <td>9</td>\n",
       "    </tr>\n",
       "    <tr>\n",
       "      <th>14</th>\n",
       "      <td>TAMAYO DE LA OSSA SARA</td>\n",
       "      <td>3</td>\n",
       "    </tr>\n",
       "  </tbody>\n",
       "</table>\n",
       "</div>"
      ],
      "text/plain": [
       "                              Student  Example1\n",
       "0                 ARIAS ARRIETA FREDY        13\n",
       "1       BOHORQUEZ NAVARRO DINA ESTELA        10\n",
       "2        CARDONA RAMIREZ SARA PAULINA        14\n",
       "3             CASTANEDA REINOZA DIEGO        11\n",
       "4             ESPEJO PEREZ LUIS DAVID         2\n",
       "5   HERNANDEZ GUERRA FABIAN ALEJANDRO        10\n",
       "6        LUCAS FLOREZ NAYELIS NATALIA         6\n",
       "7    MARTINEZ BALLESTEROS VICTOR HUGO        13\n",
       "8        MARTINEZ MENDOZA JAIR MIGUEL         7\n",
       "9           OCHOA ARRIETA JUAN ANDRES        13\n",
       "10      RODRIGUEZ VERONA CARLOS MARIO         3\n",
       "11           RUIZ CARDENAS LUIS MARIO        12\n",
       "12         SIERRA OLIVEROS OMAR DARIO         3\n",
       "13     SUAREZ RESTREPO MARIA ANGELICA         9\n",
       "14             TAMAYO DE LA OSSA SARA         3"
      ]
     },
     "execution_count": 1,
     "metadata": {},
     "output_type": "execute_result"
    }
   ],
   "source": [
    "# asignación de ejercicios de un seccion del texto guía\n",
    "\n",
    "# numpy.random.choice() obten la documentación de esta función en: \n",
    "# https://numpy.org/doc/stable/reference/random/generated/numpy.random.choice.html\n",
    "\n",
    "import pandas as pd\n",
    "import numpy as np\n",
    "import requests\n",
    "np.random.seed(42)  # establecer semilla aleatoria para hacer los resultados reproducibles\n",
    "\n",
    "\n",
    "\n",
    "grupo_estudiantes = 'seminario_didactica_aritmetica'\n",
    "nombre_texto_guia = 'Stewart_ Precálculo'\n",
    "pagina_y_seccion = 'Página_45_Sección_1.5'\n",
    "numero_ejercicios_taller = 14\n",
    "numero_de_ejercicios_asignados = 1\n",
    "\n",
    "\n",
    "# Descargar la lista de  estudiantes\n",
    "students_url = \"https://raw.githubusercontent.com/marco-canas/groups_list/main/\" + grupo_estudiantes + \".csv\"\n",
    "exercises = list(range(1, numero_ejercicios_taller))  \n",
    "\n",
    "students_data = pd.read_csv(students_url)\n",
    "\n",
    "# Crear una lista para almacenar las asignaciones\n",
    "assignments = []\n",
    "\n",
    "# Asignar ejercicios aleatorios a cada estudiante\n",
    "for index, student in students_data.iterrows():\n",
    "    # Seleccionar 5 ejercicios aleatorios sin repetición\n",
    "    random_exercises = np.random.choice(exercises, numero_de_ejercicios_asignados, replace = False)+ 1 \n",
    "    assignments.append([students_data[\"Nombre\"][index], *random_exercises])  # Agregar asignación a la lista\n",
    "\n",
    "# Crear un DataFrame con las asignaciones\n",
    "columns = [\"Student\"] + [ \"Example\" + str(i+1) for i in range(numero_de_ejercicios_asignados)]\n",
    "assignment_df = pd.DataFrame(assignments, columns=columns)\n",
    "\n",
    "# Guardar el DataFrame en un archivo CSV\n",
    "assignment_csv = \"tarea\" + \"_\" + nombre_texto_guia + \"_\"+ pagina_y_seccion + \".csv\"\n",
    "assignment_df.to_csv(assignment_csv, index=False)\n",
    "\n",
    "print(\"Tarea asignada: \", assignment_csv)\n",
    "assignment_df"
   ]
  },
  {
   "cell_type": "markdown",
   "id": "3ce0557f",
   "metadata": {},
   "source": [
    " [Secuencia metodológica que seguiremos en cada modelación fundamentada en Borromeo citado por Carlos Ledezma](https://www.researchgate.net/profile/Carlos-Ledezma-4/publication/376076920_Modelizacion_matematica_desde_una_articulacion_teorica_entre_los_enfoques_cognitivo_y_onto-semiotico/links/6568cb363fa26f66f43b292a/Modelizacion-matematica-desde-una-articulacion-teorica-entre-los-enfoques-cognitivo-y-onto-semiotico.pdf)\n",
    "\n",
    "1. Entender la tarea\n",
    "2. Simplificar y estructurar la tarea\n",
    "3. Matemátizar\n",
    "4. Trabajar matemáticamente utilizando las competencias matemáticas del estudiante.\n",
    "5. Interpretar y \n",
    "6. validar"
   ]
  },
  {
   "cell_type": "markdown",
   "id": "7dbbd46e",
   "metadata": {},
   "source": []
  },
  {
   "cell_type": "markdown",
   "id": "1ccfb67e",
   "metadata": {
    "slideshow": {
     "slide_type": "slide"
    }
   },
   "source": [
    "# Visualizaciones tabulares y gráficas"
   ]
  },
  {
   "cell_type": "markdown",
   "id": "0631fb05",
   "metadata": {
    "slideshow": {
     "slide_type": "slide"
    }
   },
   "source": [
    "## Visualización gráfica con plotly"
   ]
  },
  {
   "cell_type": "code",
   "execution_count": null,
   "id": "6009af5a",
   "metadata": {
    "slideshow": {
     "slide_type": "slide"
    }
   },
   "outputs": [],
   "source": [
    "import numpy as np \n",
    "import pandas as pd \n",
    "import plotly.express as px\n",
    "# datos\n",
    "X = np.array([])\n",
    "\n",
    "Y = np.array([])\n",
    "\n",
    "# tabla de datos\n",
    "tabla = pd.DataFrame({'x':X, 'y':Y})\n",
    "#trazo de diagrama de dispersión o scatter\n",
    "fig = px.scatter(tabla,x = tabla.keys()[0], y = tabla.keys()[1], title='Relación entre x e y')\n",
    "\n",
    "fig.show()\n",
    "\n",
    "#fig.write_html('relacion_entre_x_e_y.html', auto_open=True)"
   ]
  },
  {
   "cell_type": "markdown",
   "id": "740f3401",
   "metadata": {
    "slideshow": {
     "slide_type": "slide"
    }
   },
   "source": [
    "# Componente de manejo de calculadora Casio asociado al objetivo de aprendizaje de esta clase"
   ]
  },
  {
   "cell_type": "markdown",
   "id": "8eecb2d9",
   "metadata": {
    "slideshow": {
     "slide_type": "slide"
    }
   },
   "source": [
    "## Descripción de la calculadora Casio  \n",
    "\n"
   ]
  },
  {
   "cell_type": "code",
   "execution_count": null,
   "id": "3cd72835",
   "metadata": {
    "slideshow": {
     "slide_type": "slide"
    }
   },
   "outputs": [],
   "source": []
  },
  {
   "cell_type": "code",
   "execution_count": null,
   "id": "d8a111c4",
   "metadata": {
    "slideshow": {
     "slide_type": "slide"
    }
   },
   "outputs": [],
   "source": []
  },
  {
   "cell_type": "markdown",
   "id": "fccb447c",
   "metadata": {
    "slideshow": {
     "slide_type": "slide"
    }
   },
   "source": [
    "# Tareas para realizar en clase"
   ]
  },
  {
   "cell_type": "markdown",
   "id": "e5c48edf",
   "metadata": {
    "slideshow": {
     "slide_type": "slide"
    }
   },
   "source": [
    "* Modelación matemática \n",
    "* Trabajo en equipos"
   ]
  },
  {
   "cell_type": "code",
   "execution_count": 2,
   "metadata": {},
   "outputs": [
    {
     "name": "stdout",
     "output_type": "stream",
     "text": [
      "Tarea asignada:  tarea_PreCálculo_Stewart_Página_56_Sección_1.5.csv\n"
     ]
    },
    {
     "data": {
      "text/html": [
       "<div>\n",
       "<style scoped>\n",
       "    .dataframe tbody tr th:only-of-type {\n",
       "        vertical-align: middle;\n",
       "    }\n",
       "\n",
       "    .dataframe tbody tr th {\n",
       "        vertical-align: top;\n",
       "    }\n",
       "\n",
       "    .dataframe thead th {\n",
       "        text-align: right;\n",
       "    }\n",
       "</style>\n",
       "<table border=\"1\" class=\"dataframe\">\n",
       "  <thead>\n",
       "    <tr style=\"text-align: right;\">\n",
       "      <th></th>\n",
       "      <th>Student</th>\n",
       "      <th>Exer1</th>\n",
       "      <th>Exer2</th>\n",
       "      <th>Exer3</th>\n",
       "      <th>Exer4</th>\n",
       "      <th>Exer5</th>\n",
       "      <th>Exer6</th>\n",
       "      <th>Exer7</th>\n",
       "      <th>Exer8</th>\n",
       "      <th>Exer9</th>\n",
       "      <th>Exer10</th>\n",
       "    </tr>\n",
       "  </thead>\n",
       "  <tbody>\n",
       "    <tr>\n",
       "      <th>0</th>\n",
       "      <td>ARIAS ARRIETA FREDY</td>\n",
       "      <td>110</td>\n",
       "      <td>69</td>\n",
       "      <td>33</td>\n",
       "      <td>121</td>\n",
       "      <td>44</td>\n",
       "      <td>14</td>\n",
       "      <td>83</td>\n",
       "      <td>71</td>\n",
       "      <td>106</td>\n",
       "      <td>111</td>\n",
       "    </tr>\n",
       "    <tr>\n",
       "      <th>1</th>\n",
       "      <td>BOHORQUEZ NAVARRO DINA ESTELA</td>\n",
       "      <td>15</td>\n",
       "      <td>121</td>\n",
       "      <td>141</td>\n",
       "      <td>22</td>\n",
       "      <td>47</td>\n",
       "      <td>101</td>\n",
       "      <td>49</td>\n",
       "      <td>117</td>\n",
       "      <td>99</td>\n",
       "      <td>88</td>\n",
       "    </tr>\n",
       "    <tr>\n",
       "      <th>2</th>\n",
       "      <td>CARDONA RAMIREZ SARA PAULINA</td>\n",
       "      <td>129</td>\n",
       "      <td>6</td>\n",
       "      <td>35</td>\n",
       "      <td>63</td>\n",
       "      <td>95</td>\n",
       "      <td>86</td>\n",
       "      <td>53</td>\n",
       "      <td>96</td>\n",
       "      <td>12</td>\n",
       "      <td>128</td>\n",
       "    </tr>\n",
       "    <tr>\n",
       "      <th>3</th>\n",
       "      <td>CASTANEDA REINOZA DIEGO</td>\n",
       "      <td>98</td>\n",
       "      <td>135</td>\n",
       "      <td>57</td>\n",
       "      <td>39</td>\n",
       "      <td>72</td>\n",
       "      <td>45</td>\n",
       "      <td>46</td>\n",
       "      <td>83</td>\n",
       "      <td>15</td>\n",
       "      <td>16</td>\n",
       "    </tr>\n",
       "    <tr>\n",
       "      <th>4</th>\n",
       "      <td>ESPEJO PEREZ LUIS DAVID</td>\n",
       "      <td>89</td>\n",
       "      <td>35</td>\n",
       "      <td>107</td>\n",
       "      <td>119</td>\n",
       "      <td>74</td>\n",
       "      <td>99</td>\n",
       "      <td>129</td>\n",
       "      <td>133</td>\n",
       "      <td>49</td>\n",
       "      <td>126</td>\n",
       "    </tr>\n",
       "    <tr>\n",
       "      <th>5</th>\n",
       "      <td>HERNANDEZ GUERRA FABIAN ALEJANDRO</td>\n",
       "      <td>133</td>\n",
       "      <td>71</td>\n",
       "      <td>106</td>\n",
       "      <td>129</td>\n",
       "      <td>121</td>\n",
       "      <td>65</td>\n",
       "      <td>20</td>\n",
       "      <td>76</td>\n",
       "      <td>138</td>\n",
       "      <td>94</td>\n",
       "    </tr>\n",
       "    <tr>\n",
       "      <th>6</th>\n",
       "      <td>LUCAS FLOREZ NAYELIS NATALIA</td>\n",
       "      <td>55</td>\n",
       "      <td>117</td>\n",
       "      <td>17</td>\n",
       "      <td>36</td>\n",
       "      <td>96</td>\n",
       "      <td>132</td>\n",
       "      <td>115</td>\n",
       "      <td>107</td>\n",
       "      <td>72</td>\n",
       "      <td>84</td>\n",
       "    </tr>\n",
       "    <tr>\n",
       "      <th>7</th>\n",
       "      <td>MARTINEZ BALLESTEROS VICTOR HUGO</td>\n",
       "      <td>57</td>\n",
       "      <td>103</td>\n",
       "      <td>60</td>\n",
       "      <td>20</td>\n",
       "      <td>93</td>\n",
       "      <td>81</td>\n",
       "      <td>108</td>\n",
       "      <td>62</td>\n",
       "      <td>130</td>\n",
       "      <td>116</td>\n",
       "    </tr>\n",
       "    <tr>\n",
       "      <th>8</th>\n",
       "      <td>MARTINEZ MENDOZA JAIR MIGUEL</td>\n",
       "      <td>63</td>\n",
       "      <td>96</td>\n",
       "      <td>45</td>\n",
       "      <td>133</td>\n",
       "      <td>95</td>\n",
       "      <td>129</td>\n",
       "      <td>6</td>\n",
       "      <td>28</td>\n",
       "      <td>127</td>\n",
       "      <td>117</td>\n",
       "    </tr>\n",
       "    <tr>\n",
       "      <th>9</th>\n",
       "      <td>OCHOA ARRIETA JUAN ANDRES</td>\n",
       "      <td>134</td>\n",
       "      <td>81</td>\n",
       "      <td>14</td>\n",
       "      <td>51</td>\n",
       "      <td>128</td>\n",
       "      <td>136</td>\n",
       "      <td>62</td>\n",
       "      <td>44</td>\n",
       "      <td>80</td>\n",
       "      <td>58</td>\n",
       "    </tr>\n",
       "    <tr>\n",
       "      <th>10</th>\n",
       "      <td>RODRIGUEZ VERONA CARLOS MARIO</td>\n",
       "      <td>12</td>\n",
       "      <td>65</td>\n",
       "      <td>7</td>\n",
       "      <td>39</td>\n",
       "      <td>116</td>\n",
       "      <td>28</td>\n",
       "      <td>55</td>\n",
       "      <td>51</td>\n",
       "      <td>134</td>\n",
       "      <td>113</td>\n",
       "    </tr>\n",
       "    <tr>\n",
       "      <th>11</th>\n",
       "      <td>RUIZ CARDENAS LUIS MARIO</td>\n",
       "      <td>107</td>\n",
       "      <td>54</td>\n",
       "      <td>56</td>\n",
       "      <td>137</td>\n",
       "      <td>102</td>\n",
       "      <td>79</td>\n",
       "      <td>103</td>\n",
       "      <td>9</td>\n",
       "      <td>16</td>\n",
       "      <td>131</td>\n",
       "    </tr>\n",
       "    <tr>\n",
       "      <th>12</th>\n",
       "      <td>SIERRA OLIVEROS OMAR DARIO</td>\n",
       "      <td>24</td>\n",
       "      <td>6</td>\n",
       "      <td>110</td>\n",
       "      <td>89</td>\n",
       "      <td>126</td>\n",
       "      <td>11</td>\n",
       "      <td>42</td>\n",
       "      <td>114</td>\n",
       "      <td>138</td>\n",
       "      <td>140</td>\n",
       "    </tr>\n",
       "    <tr>\n",
       "      <th>13</th>\n",
       "      <td>SUAREZ RESTREPO MARIA ANGELICA</td>\n",
       "      <td>40</td>\n",
       "      <td>24</td>\n",
       "      <td>17</td>\n",
       "      <td>12</td>\n",
       "      <td>137</td>\n",
       "      <td>18</td>\n",
       "      <td>53</td>\n",
       "      <td>110</td>\n",
       "      <td>6</td>\n",
       "      <td>41</td>\n",
       "    </tr>\n",
       "    <tr>\n",
       "      <th>14</th>\n",
       "      <td>TAMAYO DE LA OSSA SARA</td>\n",
       "      <td>93</td>\n",
       "      <td>8</td>\n",
       "      <td>4</td>\n",
       "      <td>91</td>\n",
       "      <td>42</td>\n",
       "      <td>115</td>\n",
       "      <td>141</td>\n",
       "      <td>63</td>\n",
       "      <td>41</td>\n",
       "      <td>83</td>\n",
       "    </tr>\n",
       "  </tbody>\n",
       "</table>\n",
       "</div>"
      ],
      "text/plain": [
       "                              Student  Exer1  Exer2  Exer3  Exer4  Exer5  \\\n",
       "0                 ARIAS ARRIETA FREDY    110     69     33    121     44   \n",
       "1       BOHORQUEZ NAVARRO DINA ESTELA     15    121    141     22     47   \n",
       "2        CARDONA RAMIREZ SARA PAULINA    129      6     35     63     95   \n",
       "3             CASTANEDA REINOZA DIEGO     98    135     57     39     72   \n",
       "4             ESPEJO PEREZ LUIS DAVID     89     35    107    119     74   \n",
       "5   HERNANDEZ GUERRA FABIAN ALEJANDRO    133     71    106    129    121   \n",
       "6        LUCAS FLOREZ NAYELIS NATALIA     55    117     17     36     96   \n",
       "7    MARTINEZ BALLESTEROS VICTOR HUGO     57    103     60     20     93   \n",
       "8        MARTINEZ MENDOZA JAIR MIGUEL     63     96     45    133     95   \n",
       "9           OCHOA ARRIETA JUAN ANDRES    134     81     14     51    128   \n",
       "10      RODRIGUEZ VERONA CARLOS MARIO     12     65      7     39    116   \n",
       "11           RUIZ CARDENAS LUIS MARIO    107     54     56    137    102   \n",
       "12         SIERRA OLIVEROS OMAR DARIO     24      6    110     89    126   \n",
       "13     SUAREZ RESTREPO MARIA ANGELICA     40     24     17     12    137   \n",
       "14             TAMAYO DE LA OSSA SARA     93      8      4     91     42   \n",
       "\n",
       "    Exer6  Exer7  Exer8  Exer9  Exer10  \n",
       "0      14     83     71    106     111  \n",
       "1     101     49    117     99      88  \n",
       "2      86     53     96     12     128  \n",
       "3      45     46     83     15      16  \n",
       "4      99    129    133     49     126  \n",
       "5      65     20     76    138      94  \n",
       "6     132    115    107     72      84  \n",
       "7      81    108     62    130     116  \n",
       "8     129      6     28    127     117  \n",
       "9     136     62     44     80      58  \n",
       "10     28     55     51    134     113  \n",
       "11     79    103      9     16     131  \n",
       "12     11     42    114    138     140  \n",
       "13     18     53    110      6      41  \n",
       "14    115    141     63     41      83  "
      ]
     },
     "execution_count": 2,
     "metadata": {},
     "output_type": "execute_result"
    }
   ],
   "source": [
    "# asignación de ejercicios de un seccion del texto guía\n",
    "\n",
    "# numpy.random.choice() obten la documentación de esta función en: \n",
    "# https://numpy.org/doc/stable/reference/random/generated/numpy.random.choice.html\n",
    "\n",
    "import pandas as pd\n",
    "import numpy as np\n",
    "import requests\n",
    "np.random.seed(42)  # establecer semilla aleatoria para hacer los resultados reproducibles\n",
    "\n",
    "\n",
    "\n",
    "grupo_estudiantes = 'seminario_didactica_aritmetica'\n",
    "nombre_texto_guia = 'PreCálculo_Stewart'\n",
    "pagina_y_seccion = 'Página_56_Sección_1.5'\n",
    "numero_ejercicios_taller = 141\n",
    "numero_de_ejercicios_asignados = 10\n",
    "\n",
    "\n",
    "# Descargar la lista de  estudiantes\n",
    "students_url = \"https://raw.githubusercontent.com/marco-canas/groups_list/main/\" + grupo_estudiantes + \".csv\"\n",
    "exercises = list(range(1, numero_ejercicios_taller))  \n",
    "\n",
    "students_data = pd.read_csv(students_url)\n",
    "\n",
    "# Crear una lista para almacenar las asignaciones\n",
    "assignments = []\n",
    "\n",
    "# Asignar ejercicios aleatorios a cada estudiante\n",
    "for index, student in students_data.iterrows():\n",
    "    # Seleccionar 5 ejercicios aleatorios sin repetición\n",
    "    random_exercises = np.random.choice(exercises, numero_de_ejercicios_asignados, replace = False)+ 1 \n",
    "    assignments.append([students_data[\"Nombre\"][index], *random_exercises])  # Agregar asignación a la lista\n",
    "\n",
    "# Crear un DataFrame con las asignaciones\n",
    "columns = [\"Student\"] + [ \"Exer\" + str(i+1) for i in range(numero_de_ejercicios_asignados)]\n",
    "assignment_df = pd.DataFrame(assignments, columns=columns)\n",
    "\n",
    "# Guardar el DataFrame en un archivo CSV\n",
    "assignment_csv = \"tarea\" + \"_\" + nombre_texto_guia + \"_\"+ pagina_y_seccion + \".csv\"\n",
    "assignment_df.to_csv(assignment_csv, index=False)\n",
    "\n",
    "print(\"Tarea asignada: \", assignment_csv)\n",
    "assignment_df"
   ]
  },
  {
   "cell_type": "markdown",
   "id": "8b6b0112",
   "metadata": {
    "slideshow": {
     "slide_type": "slide"
    }
   },
   "source": [
    "# Tareas para realizar después de la realización de la clase"
   ]
  },
  {
   "cell_type": "markdown",
   "id": "947460e3",
   "metadata": {
    "slideshow": {
     "slide_type": "slide"
    }
   },
   "source": [
    "* Actividades de memorización: \n",
    "  - escucha reiterada de grabaciones de formulas y resultados científicos. \n",
    "  - relectura de notas. \n",
    "  - ejercicios de mayor complejidad.\n",
    "\n",
    "\n",
    "### No olvide asignar las tareas a los estudiantes a través de Google Colab y compartiendole el cuaderno de asignación a su correo institucional con fecha de entrega. [Google Colab](https://colab.research.google.com/?hl=es)   \n",
    "  "
   ]
  },
  {
   "cell_type": "markdown",
   "id": "d34defb9",
   "metadata": {
    "slideshow": {
     "slide_type": "slide"
    }
   },
   "source": [
    "## Asignación individual de tareas semanales "
   ]
  },
  {
   "cell_type": "code",
   "execution_count": 3,
   "id": "0406f442",
   "metadata": {
    "slideshow": {
     "slide_type": "slide"
    }
   },
   "outputs": [
    {
     "name": "stdout",
     "output_type": "stream",
     "text": [
      "Tarea asignada:  tarea_PreCálculo_Stewart_Página_56_Sección_1.5.csv\n"
     ]
    },
    {
     "data": {
      "text/html": [
       "<div>\n",
       "<style scoped>\n",
       "    .dataframe tbody tr th:only-of-type {\n",
       "        vertical-align: middle;\n",
       "    }\n",
       "\n",
       "    .dataframe tbody tr th {\n",
       "        vertical-align: top;\n",
       "    }\n",
       "\n",
       "    .dataframe thead th {\n",
       "        text-align: right;\n",
       "    }\n",
       "</style>\n",
       "<table border=\"1\" class=\"dataframe\">\n",
       "  <thead>\n",
       "    <tr style=\"text-align: right;\">\n",
       "      <th></th>\n",
       "      <th>Student</th>\n",
       "      <th>Exer1</th>\n",
       "      <th>Exer2</th>\n",
       "      <th>Exer3</th>\n",
       "      <th>Exer4</th>\n",
       "      <th>Exer5</th>\n",
       "      <th>Exer6</th>\n",
       "      <th>Exer7</th>\n",
       "      <th>Exer8</th>\n",
       "      <th>Exer9</th>\n",
       "      <th>Exer10</th>\n",
       "    </tr>\n",
       "  </thead>\n",
       "  <tbody>\n",
       "    <tr>\n",
       "      <th>0</th>\n",
       "      <td>ARIAS ARRIETA FREDY</td>\n",
       "      <td>110</td>\n",
       "      <td>69</td>\n",
       "      <td>33</td>\n",
       "      <td>121</td>\n",
       "      <td>44</td>\n",
       "      <td>14</td>\n",
       "      <td>83</td>\n",
       "      <td>71</td>\n",
       "      <td>106</td>\n",
       "      <td>111</td>\n",
       "    </tr>\n",
       "    <tr>\n",
       "      <th>1</th>\n",
       "      <td>BOHORQUEZ NAVARRO DINA ESTELA</td>\n",
       "      <td>15</td>\n",
       "      <td>121</td>\n",
       "      <td>141</td>\n",
       "      <td>22</td>\n",
       "      <td>47</td>\n",
       "      <td>101</td>\n",
       "      <td>49</td>\n",
       "      <td>117</td>\n",
       "      <td>99</td>\n",
       "      <td>88</td>\n",
       "    </tr>\n",
       "    <tr>\n",
       "      <th>2</th>\n",
       "      <td>CARDONA RAMIREZ SARA PAULINA</td>\n",
       "      <td>129</td>\n",
       "      <td>6</td>\n",
       "      <td>35</td>\n",
       "      <td>63</td>\n",
       "      <td>95</td>\n",
       "      <td>86</td>\n",
       "      <td>53</td>\n",
       "      <td>96</td>\n",
       "      <td>12</td>\n",
       "      <td>128</td>\n",
       "    </tr>\n",
       "    <tr>\n",
       "      <th>3</th>\n",
       "      <td>CASTANEDA REINOZA DIEGO</td>\n",
       "      <td>98</td>\n",
       "      <td>135</td>\n",
       "      <td>57</td>\n",
       "      <td>39</td>\n",
       "      <td>72</td>\n",
       "      <td>45</td>\n",
       "      <td>46</td>\n",
       "      <td>83</td>\n",
       "      <td>15</td>\n",
       "      <td>16</td>\n",
       "    </tr>\n",
       "    <tr>\n",
       "      <th>4</th>\n",
       "      <td>ESPEJO PEREZ LUIS DAVID</td>\n",
       "      <td>89</td>\n",
       "      <td>35</td>\n",
       "      <td>107</td>\n",
       "      <td>119</td>\n",
       "      <td>74</td>\n",
       "      <td>99</td>\n",
       "      <td>129</td>\n",
       "      <td>133</td>\n",
       "      <td>49</td>\n",
       "      <td>126</td>\n",
       "    </tr>\n",
       "    <tr>\n",
       "      <th>5</th>\n",
       "      <td>HERNANDEZ GUERRA FABIAN ALEJANDRO</td>\n",
       "      <td>133</td>\n",
       "      <td>71</td>\n",
       "      <td>106</td>\n",
       "      <td>129</td>\n",
       "      <td>121</td>\n",
       "      <td>65</td>\n",
       "      <td>20</td>\n",
       "      <td>76</td>\n",
       "      <td>138</td>\n",
       "      <td>94</td>\n",
       "    </tr>\n",
       "    <tr>\n",
       "      <th>6</th>\n",
       "      <td>LUCAS FLOREZ NAYELIS NATALIA</td>\n",
       "      <td>55</td>\n",
       "      <td>117</td>\n",
       "      <td>17</td>\n",
       "      <td>36</td>\n",
       "      <td>96</td>\n",
       "      <td>132</td>\n",
       "      <td>115</td>\n",
       "      <td>107</td>\n",
       "      <td>72</td>\n",
       "      <td>84</td>\n",
       "    </tr>\n",
       "    <tr>\n",
       "      <th>7</th>\n",
       "      <td>MARTINEZ BALLESTEROS VICTOR HUGO</td>\n",
       "      <td>57</td>\n",
       "      <td>103</td>\n",
       "      <td>60</td>\n",
       "      <td>20</td>\n",
       "      <td>93</td>\n",
       "      <td>81</td>\n",
       "      <td>108</td>\n",
       "      <td>62</td>\n",
       "      <td>130</td>\n",
       "      <td>116</td>\n",
       "    </tr>\n",
       "    <tr>\n",
       "      <th>8</th>\n",
       "      <td>MARTINEZ MENDOZA JAIR MIGUEL</td>\n",
       "      <td>63</td>\n",
       "      <td>96</td>\n",
       "      <td>45</td>\n",
       "      <td>133</td>\n",
       "      <td>95</td>\n",
       "      <td>129</td>\n",
       "      <td>6</td>\n",
       "      <td>28</td>\n",
       "      <td>127</td>\n",
       "      <td>117</td>\n",
       "    </tr>\n",
       "    <tr>\n",
       "      <th>9</th>\n",
       "      <td>OCHOA ARRIETA JUAN ANDRES</td>\n",
       "      <td>134</td>\n",
       "      <td>81</td>\n",
       "      <td>14</td>\n",
       "      <td>51</td>\n",
       "      <td>128</td>\n",
       "      <td>136</td>\n",
       "      <td>62</td>\n",
       "      <td>44</td>\n",
       "      <td>80</td>\n",
       "      <td>58</td>\n",
       "    </tr>\n",
       "    <tr>\n",
       "      <th>10</th>\n",
       "      <td>RODRIGUEZ VERONA CARLOS MARIO</td>\n",
       "      <td>12</td>\n",
       "      <td>65</td>\n",
       "      <td>7</td>\n",
       "      <td>39</td>\n",
       "      <td>116</td>\n",
       "      <td>28</td>\n",
       "      <td>55</td>\n",
       "      <td>51</td>\n",
       "      <td>134</td>\n",
       "      <td>113</td>\n",
       "    </tr>\n",
       "    <tr>\n",
       "      <th>11</th>\n",
       "      <td>RUIZ CARDENAS LUIS MARIO</td>\n",
       "      <td>107</td>\n",
       "      <td>54</td>\n",
       "      <td>56</td>\n",
       "      <td>137</td>\n",
       "      <td>102</td>\n",
       "      <td>79</td>\n",
       "      <td>103</td>\n",
       "      <td>9</td>\n",
       "      <td>16</td>\n",
       "      <td>131</td>\n",
       "    </tr>\n",
       "    <tr>\n",
       "      <th>12</th>\n",
       "      <td>SIERRA OLIVEROS OMAR DARIO</td>\n",
       "      <td>24</td>\n",
       "      <td>6</td>\n",
       "      <td>110</td>\n",
       "      <td>89</td>\n",
       "      <td>126</td>\n",
       "      <td>11</td>\n",
       "      <td>42</td>\n",
       "      <td>114</td>\n",
       "      <td>138</td>\n",
       "      <td>140</td>\n",
       "    </tr>\n",
       "    <tr>\n",
       "      <th>13</th>\n",
       "      <td>SUAREZ RESTREPO MARIA ANGELICA</td>\n",
       "      <td>40</td>\n",
       "      <td>24</td>\n",
       "      <td>17</td>\n",
       "      <td>12</td>\n",
       "      <td>137</td>\n",
       "      <td>18</td>\n",
       "      <td>53</td>\n",
       "      <td>110</td>\n",
       "      <td>6</td>\n",
       "      <td>41</td>\n",
       "    </tr>\n",
       "    <tr>\n",
       "      <th>14</th>\n",
       "      <td>TAMAYO DE LA OSSA SARA</td>\n",
       "      <td>93</td>\n",
       "      <td>8</td>\n",
       "      <td>4</td>\n",
       "      <td>91</td>\n",
       "      <td>42</td>\n",
       "      <td>115</td>\n",
       "      <td>141</td>\n",
       "      <td>63</td>\n",
       "      <td>41</td>\n",
       "      <td>83</td>\n",
       "    </tr>\n",
       "  </tbody>\n",
       "</table>\n",
       "</div>"
      ],
      "text/plain": [
       "                              Student  Exer1  Exer2  Exer3  Exer4  Exer5  \\\n",
       "0                 ARIAS ARRIETA FREDY    110     69     33    121     44   \n",
       "1       BOHORQUEZ NAVARRO DINA ESTELA     15    121    141     22     47   \n",
       "2        CARDONA RAMIREZ SARA PAULINA    129      6     35     63     95   \n",
       "3             CASTANEDA REINOZA DIEGO     98    135     57     39     72   \n",
       "4             ESPEJO PEREZ LUIS DAVID     89     35    107    119     74   \n",
       "5   HERNANDEZ GUERRA FABIAN ALEJANDRO    133     71    106    129    121   \n",
       "6        LUCAS FLOREZ NAYELIS NATALIA     55    117     17     36     96   \n",
       "7    MARTINEZ BALLESTEROS VICTOR HUGO     57    103     60     20     93   \n",
       "8        MARTINEZ MENDOZA JAIR MIGUEL     63     96     45    133     95   \n",
       "9           OCHOA ARRIETA JUAN ANDRES    134     81     14     51    128   \n",
       "10      RODRIGUEZ VERONA CARLOS MARIO     12     65      7     39    116   \n",
       "11           RUIZ CARDENAS LUIS MARIO    107     54     56    137    102   \n",
       "12         SIERRA OLIVEROS OMAR DARIO     24      6    110     89    126   \n",
       "13     SUAREZ RESTREPO MARIA ANGELICA     40     24     17     12    137   \n",
       "14             TAMAYO DE LA OSSA SARA     93      8      4     91     42   \n",
       "\n",
       "    Exer6  Exer7  Exer8  Exer9  Exer10  \n",
       "0      14     83     71    106     111  \n",
       "1     101     49    117     99      88  \n",
       "2      86     53     96     12     128  \n",
       "3      45     46     83     15      16  \n",
       "4      99    129    133     49     126  \n",
       "5      65     20     76    138      94  \n",
       "6     132    115    107     72      84  \n",
       "7      81    108     62    130     116  \n",
       "8     129      6     28    127     117  \n",
       "9     136     62     44     80      58  \n",
       "10     28     55     51    134     113  \n",
       "11     79    103      9     16     131  \n",
       "12     11     42    114    138     140  \n",
       "13     18     53    110      6      41  \n",
       "14    115    141     63     41      83  "
      ]
     },
     "execution_count": 3,
     "metadata": {},
     "output_type": "execute_result"
    }
   ],
   "source": [
    "# asignación de ejercicios de un seccion del texto guía\n",
    "\n",
    "# numpy.random.choice() obten la documentación de esta función en: \n",
    "# https://numpy.org/doc/stable/reference/random/generated/numpy.random.choice.html\n",
    "\n",
    "import pandas as pd\n",
    "import numpy as np\n",
    "import requests\n",
    "np.random.seed(42)  # establecer semilla aleatoria para hacer los resultados reproducibles\n",
    "\n",
    "\n",
    "\n",
    "grupo_estudiantes = 'seminario_didactica_aritmetica'\n",
    "nombre_texto_guia = 'PreCálculo_Stewart'\n",
    "pagina_y_seccion = 'Página_56_Sección_1.5'\n",
    "numero_ejercicios_taller = 141\n",
    "numero_de_ejercicios_asignados = 10\n",
    "\n",
    "\n",
    "# Descargar la lista de  estudiantes\n",
    "students_url = \"https://raw.githubusercontent.com/marco-canas/groups_list/main/\" + grupo_estudiantes + \".csv\"\n",
    "exercises = list(range(1, numero_ejercicios_taller))  \n",
    "\n",
    "students_data = pd.read_csv(students_url)\n",
    "\n",
    "# Crear una lista para almacenar las asignaciones\n",
    "assignments = []\n",
    "\n",
    "# Asignar ejercicios aleatorios a cada estudiante\n",
    "for index, student in students_data.iterrows():\n",
    "    # Seleccionar 5 ejercicios aleatorios sin repetición\n",
    "    random_exercises = np.random.choice(exercises, numero_de_ejercicios_asignados, replace = False)+ 1 \n",
    "    assignments.append([students_data[\"Nombre\"][index], *random_exercises])  # Agregar asignación a la lista\n",
    "\n",
    "# Crear un DataFrame con las asignaciones\n",
    "columns = [\"Student\"] + [ \"Exer\" + str(i+1) for i in range(numero_de_ejercicios_asignados)]\n",
    "assignment_df = pd.DataFrame(assignments, columns=columns)\n",
    "\n",
    "# Guardar el DataFrame en un archivo CSV\n",
    "assignment_csv = \"tarea\" + \"_\" + nombre_texto_guia + \"_\"+ pagina_y_seccion + \".csv\"\n",
    "assignment_df.to_csv(assignment_csv, index=False)\n",
    "\n",
    "print(\"Tarea asignada: \", assignment_csv)\n",
    "assignment_df"
   ]
  },
  {
   "cell_type": "markdown",
   "id": "742281f4",
   "metadata": {},
   "source": [
    "# No olvide la tarea de realizar la foda para autoevaluarse\n",
    "\n",
    "Fortalezas: F  \n",
    "Oportuniudades O:  \n",
    "Debilidades: D:   \n",
    "Amenazas: A:     "
   ]
  },
  {
   "cell_type": "markdown",
   "id": "8d41fe58",
   "metadata": {
    "slideshow": {
     "slide_type": "slide"
    }
   },
   "source": [
    "# Horario de clases del profesor Marco\n",
    "\n",
    "* Miércoles: 8:00 a 12 M: Seminario en didática de la aritmética. \n",
    "\n"
   ]
  },
  {
   "cell_type": "markdown",
   "id": "ae114e14",
   "metadata": {
    "slideshow": {
     "slide_type": "slide"
    }
   },
   "source": [
    "# Horarios de monitoría y asesoría\n",
    "\n",
    "Sábado 9- 10 AM: Presencial con el profe Marco. \n",
    "\n",
    "Viernes de 2 a 3 PM. Atención a los estudiantes de liceciatura en matemáticas. "
   ]
  },
  {
   "cell_type": "markdown",
   "id": "b1db4b6c",
   "metadata": {
    "slideshow": {
     "slide_type": "slide"
    }
   },
   "source": [
    "## Monitor Manuel  \n",
    "\n",
    "Martes y jueves de 8 - 12  \n",
    "Miércoles 10 - 12 y de 2 a 4 PM  \n",
    "Sábado: 8 - 12"
   ]
  },
  {
   "cell_type": "markdown",
   "id": "319f2ffa",
   "metadata": {
    "slideshow": {
     "slide_type": "slide"
    }
   },
   "source": [
    "## Grabaciones en audio para fomentar la capacidad de memorizar enunciados de teoremas y resultados científicos y la capacidad de parafrasear estos resultados. Y así desarrollar memoria muscular para los comandos comunes. \n",
    "Se dispondrá de un lugar en Vocaroo para albergar archivos de audio de fomento a la memorización, enunciación y parafraseo de los resultados científicos, propiedades, reglas, etc. \n",
    "\n",
    "[Vocaroo](https://vocaroo.com/)\n",
    "\n"
   ]
  },
  {
   "cell_type": "markdown",
   "id": "564fa59d",
   "metadata": {
    "slideshow": {
     "slide_type": "slide"
    }
   },
   "source": [
    "### Comparta sus cuadernos y videos, evidencias de su aprendizaje [aquí](https://forms.office.com/Pages/ResponsePage.aspx?id=IefhmYRxjkmK_7KtTlPBwkanXIs1i1FEujpsZgO6dXpUMEMwTEZVMzEwVVBPTElWNVg5OVEyWUhMUy4u)"
   ]
  },
  {
   "cell_type": "markdown",
   "id": "1a1a3e41",
   "metadata": {
    "slideshow": {
     "slide_type": "slide"
    }
   },
   "source": []
  },
  {
   "cell_type": "markdown",
   "id": "44be6d93",
   "metadata": {
    "slideshow": {
     "slide_type": "slide"
    }
   },
   "source": [
    "# Vocabulary "
   ]
  },
  {
   "cell_type": "markdown",
   "id": "35e2484a",
   "metadata": {
    "slideshow": {
     "slide_type": "slide"
    }
   },
   "source": [
    "1. \n",
    "2.  \n",
    "3.  \n",
    "4.  \n",
    "5.  "
   ]
  },
  {
   "cell_type": "markdown",
   "id": "94187562",
   "metadata": {},
   "source": [
    "# Colección de verbos irregulares aprendidos\n",
    "\n",
    "|Verbo irregular en presente|en español|Pasado|\n",
    "|---------------------------|----------|------|  \n",
    "|choose|elegir|chose|"
   ]
  },
  {
   "cell_type": "markdown",
   "id": "10bce0d0",
   "metadata": {
    "slideshow": {
     "slide_type": "slide"
    }
   },
   "source": [
    "## Referentes "
   ]
  },
  {
   "cell_type": "markdown",
   "id": "1db3c468",
   "metadata": {
    "slideshow": {
     "slide_type": "slide"
    }
   },
   "source": [
    "* [stewart precálculo](https://udeaeduco-my.sharepoint.com/:b:/g/personal/marco_canas_udea_edu_co/ERHIq62I6qFNrmxy6LZb8ZMBci7kUsyNME1nIh9yCBMJ_w?e=0zMSla)  \n",
    "\n",
    "* [stewart cálculo](https://udeaeduco-my.sharepoint.com/:b:/g/personal/marco_canas_udea_edu_co/EZgXZjAp8QxPqOAim2hs6LcBNPLGjSHf-xwYnUVYkwa04w?e=RZdTCy)  \n",
    "\n",
    "* [larson](https://udeaeduco-my.sharepoint.com/:b:/g/personal/marco_canas_udea_edu_co/ES71ChFeO9ZDhW3TwC5Ijk8BjxUK3Pdqz_fjHxTTFAfIAg?e=VDEjfu)\n",
    "\n",
    "* [uzcategui](https://udeaeduco-my.sharepoint.com/:b:/g/personal/marco_canas_udea_edu_co/ETDikm-lVl1Or8XoEo9oyh0BEti9Zs8le-f0D-dBdtZmbA?e=bBsoyQ)\n",
    "\n",
    "* [Cálculo de Purcell](https://udeaeduco-my.sharepoint.com/:b:/g/personal/marco_canas_udea_edu_co/ES60UB4h-QFFqqRQUFmkpWcBIgoLBJeqTfZjNajWNWSeJA?e=9NxjKJ)\n",
    "\n",
    "* [Recomendación de la UNESCO sobre ciencia abierta](https://unesdoc.unesco.org/ark:/48223/pf0000379949_spa)\n",
    "\n",
    "* [Fórmulas más comunes en latex](https://wiki.geogebra.org/es/C%C3%B3digo_LaTeX_para_las_f%C3%B3rmulas_m%C3%A1s_comunes) \n",
    "\n",
    "* [chatGPT](https://openai.com/blog/chatgpt)  \n",
    "\n",
    "* Géron, A. (2017). Hands-on machine learning with scikit-learn and tensorflow: Concepts. Tools, and Techniques to build intelligent systems.[Geron, Aurelien. Hands on Machine Learning](https://udeaeduco-my.sharepoint.com/:b:/g/personal/marco_canas_udea_edu_co/Ecet27yjQzZIlT1Y_Bc2erkBUhbeYuIe6HG8i1FYZRlZww?e=dlvZ4v)  \n",
    "\n",
    "* McKinney, W. (2012). Python for data analysis: Data wrangling with Pandas, NumPy, and IPython. \" O'Reilly Media, Inc.\".[Wes Mackinney. ](https://udeaeduco-my.sharepoint.com/:b:/g/personal/marco_canas_udea_edu_co/EVbi5JIeBl9ErbiUnZfGe8YBhNTnZ8sxTK5hjIOPK4UpGw?e=fFclah)  \n",
    "\n",
    "* [Ledezma, C., Font, V., & Sala-Sebastià, G. MODELIZACIÓN MATEMÁTICA DESDE UNA ARTICULACIÓN TEÓRICA ENTRE LOS ENFOQUES COGNITIVO Y ONTO-SEMIÓTICO.](https://www.researchgate.net/profile/Carlos-Ledezma-4/publication/376076920_Modelizacion_matematica_desde_una_articulacion_teorica_entre_los_enfoques_cognitivo_y_onto-semiotico/links/6568cb363fa26f66f43b292a/Modelizacion-matematica-desde-una-articulacion-teorica-entre-los-enfoques-cognitivo-y-onto-semiotico.pdf)"
   ]
  },
  {
   "cell_type": "markdown",
   "id": "45c59aa9",
   "metadata": {},
   "source": [
    "[Autoevaluemonos para hacernos concientes de nuestro aprendizaje y en lo que debemos enfocarnos en mejorar]()  \n",
    "\n",
    "Aquí tienes una lista de preguntas de selección múltiple para una autoevaluación en un curso de cálculo con un enfoque pedagógico de aula invertida. Estas preguntas abarcan los objetivos de desarrollo del pensamiento variacional, pensamiento computacional a través de Python, capacidad de comunicación científica con LaTeX, Git y el uso de cuadernos Jupyter, así como la promoción de políticas de ciencia libre. \n",
    "\n",
    "1. **Pensamiento Variacional:**\n",
    "   a. ¿Qué significa el término \"variación\" en el contexto del pensamiento variacional?\n",
    "   b. ¿Cómo se relaciona el cálculo con el pensamiento variacional?\n",
    "   c. ¿Puede proporcionar un ejemplo práctico que ilustre el concepto de variación en un problema de cálculo?\n"
   ]
  },
  {
   "cell_type": "markdown",
   "id": "cb59bb4a",
   "metadata": {},
   "source": [
    "\n",
    "2. **Pensamiento Computacional (Python):**\n",
    "   a. ¿Cuál es el propósito principal de utilizar Python en un curso de cálculo?\n",
    "   b. ¿Cómo se puede utilizar Python para resolver problemas matemáticos complejos?\n",
    "   c. Menciona al menos dos ventajas de usar Python en comparación con otros lenguajes de programación en el contexto del cálculo.\n",
    "\n",
    "3. **Comunicación Científica (LaTeX):**\n",
    "   a. ¿Por qué es importante utilizar LaTeX para la comunicación científica en matemáticas y ciencias?\n",
    "   b. Enumera al menos tres comandos básicos de LaTeX utilizados para escribir ecuaciones matemáticas.\n",
    "   c. ¿Cómo mejorarías la presentación visual de una fórmula matemática utilizando LaTeX?\n",
    "\n",
    "4. **Gestión de Versiones (Git):**\n",
    "   a. ¿Cuál es el propósito principal de utilizar Git en el desarrollo de proyectos científicos?\n",
    "   b. Explica el concepto de \"commit\" en Git.\n",
    "   c. ¿Cómo resolverías un conflicto de fusión (merge conflict) en Git?\n",
    "\n",
    "5. **Cuadernos Jupyter:**\n",
    "   a. ¿Cuáles son las ventajas de utilizar cuadernos Jupyter en comparación con otros entornos de desarrollo?\n",
    "   b. Describe cómo se integra el código Python y la documentación en un cuaderno Jupyter.\n",
    "   c. ¿Cómo compartirías un cuaderno Jupyter con tus compañeros de clase utilizando GitHub?\n",
    "\n",
    "6. **Promoción de Políticas de Ciencia Libre:**\n",
    "   a. ¿Cuáles son los beneficios de utilizar plataformas como GitHub y YouTube para compartir recursos científicos?\n",
    "   b. ¿Cómo podrías contribuir a la promoción de la ciencia libre en tu comunidad académica?\n",
    "   c. ¿Por qué es importante la transparencia y accesibilidad en la investigación científica?\n",
    "\n",
    "Estas preguntas están diseñadas para evaluar la comprensión de los estudiantes en diversos aspectos del curso, abarcando desde los conceptos matemáticos hasta las habilidades tecnológicas y la conciencia sobre la ciencia libre."
   ]
  },
  {
   "cell_type": "markdown",
   "id": "6b9e56a8",
   "metadata": {
    "slideshow": {
     "slide_type": "slide"
    }
   },
   "source": [
    "### [Evaluamos al profesor Marco Cañas Aquí](https://forms.office.com/Pages/ResponsePage.aspx?id=IefhmYRxjkmK_7KtTlPBwkanXIs1i1FEujpsZgO6dXpUREJPV1kxUk1JV1ozTFJIQVNIQjY5WEY3US4u)"
   ]
  },
  {
   "cell_type": "markdown",
   "id": "050b9508",
   "metadata": {},
   "source": [
    "# Aportes de mis estudiantes a la metodología del curso  \n",
    "1. \n",
    "\n",
    "Sus opiniones y aportes son muy importantes para mi. Pues esta es una investigación educativa y un servicio de enseñanza para ustedes. Ustedes son la razón de ser de mi actividad docente. Dios los bendiga. "
   ]
  },
  {
   "cell_type": "markdown",
   "id": "6c4af91f",
   "metadata": {},
   "source": [
    "# Aportes de mis colegas docentes a la metodología que estoy aplicando en mis cursos. "
   ]
  },
  {
   "cell_type": "markdown",
   "id": "071afa04",
   "metadata": {
    "slideshow": {
     "slide_type": "slide"
    }
   },
   "source": [
    "## [Evaluación luego de alcanzar estos objetivos de aprendizaje]()"
   ]
  },
  {
   "cell_type": "markdown",
   "id": "10f43536",
   "metadata": {
    "slideshow": {
     "slide_type": "slide"
    }
   },
   "source": [
    "### Continue su aprendizaje en la siguiente clase a través del siguiente [vínculo](https://github.com/marco-canas/calculo/blob/main/referents/precalculo_stewart/1_fundamentos/1_5_ecuaciones/2_1_5_evaluacion_oral_tarea_quiz_parcial_1_5_ecuaciones_stewart.ipynb)"
   ]
  },
  {
   "cell_type": "markdown",
   "id": "af751e30",
   "metadata": {
    "slideshow": {
     "slide_type": "slide"
    }
   },
   "source": [
    "# Conjeturas pedagógicas fruto de la aplicación del modelo de aprendizaje invertido y del enfoque hacia la ciencia de datos con python\n",
    "\n",
    "1. Todo cálculo o resultado debe ser interpretado en una línea markdown del cuaderno Jupyter, inmediatamente después de la enunciación del resultado y después de la presentación de una tabla o gráfico bidimensional, de tal menera que el estudiante explicite la comprensión verbal del resultado y las inferencias o estrategias que este resultado le sugieren.  \n",
    "\n",
    "2. Debo colocar las conjeturas pedagógicas, que el uso en el aula de [ChatGPT](https://openai.com/blog/chatgpt/) traiga para la enseñanza y el aprendizaje de las matemáticas. \n",
    "\n",
    "3. Promover ciencia abierta en clase de matemáticas puede ser pidiendo a los estudiantes, tomar nota en clase pero en cuadernos Jupyter y entregar siempre al final de cada clase su cuaderno con todas las notas y experimentaciones de clase replicadas. \n",
    "4. Profesor Marco, ¿ha contemplado la posibilidad de intercambio de experiencias de aprendizaje y aplicación de Python al día a día con comfama? (Estudio Trabajo Social y allí, en comfama, aprendí los fundamentos, lo básico de Python)\n",
    "\n",
    "¿Conoce si en la Universidad de Antioquia hay medios para poder aprender Swift/XCODE? (Para programar para dispositivos de Apple)\n",
    "5. Debo considerar la metodología ABP, es decir, diseñar las clase bajo la metodología de Aprendizaje Basado en Problemas. \n",
    "\n"
   ]
  },
  {
   "cell_type": "markdown",
   "id": "53cc9115",
   "metadata": {
    "slideshow": {
     "slide_type": "slide"
    }
   },
   "source": [
    "## Agradecimientos  \n",
    "\n",
    "Doy gracias a Dios por la vida de mi Hijo Joseph Cañas Osorio y la madurez que ha alcanzado.\n",
    "\n",
    "Y a mi esposa Yasmira por su apoyo, orientación y acompañamiento. "
   ]
  }
 ],
 "metadata": {
  "celltoolbar": "Slideshow",
  "kernelspec": {
   "display_name": "Python 3 (ipykernel)",
   "language": "python",
   "name": "python3"
  },
  "language_info": {
   "codemirror_mode": {
    "name": "ipython",
    "version": 3
   },
   "file_extension": ".py",
   "mimetype": "text/x-python",
   "name": "python",
   "nbconvert_exporter": "python",
   "pygments_lexer": "ipython3",
   "version": "3.10.12"
  },
  "rise": {
   "enable_chalkboard": true,
   "theme": "sky",
   "transition": "zoom"
  }
 },
 "nbformat": 4,
 "nbformat_minor": 5
}
