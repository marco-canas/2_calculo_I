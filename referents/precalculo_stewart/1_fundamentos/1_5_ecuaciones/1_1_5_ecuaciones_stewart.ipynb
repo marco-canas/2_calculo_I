{
 "cells": [
  {
   "cell_type": "markdown",
   "id": "dc06dec7",
   "metadata": {
    "slideshow": {
     "slide_type": "slide"
    }
   },
   "source": [
    "<table align=\"left\">\n",
    "  <td>\n",
    "    <a href=\"https://colab.research.google.com/github/marco-canas/calculo/blob/main/referents/stewart_precalculo/1_5_ecuaciones/1_1_5_ecuaciones_segun_stewart_precalculo.ipynb\" target=\"_parent\"><img src=\"https://colab.research.google.com/assets/colab-badge.svg\" alt=\"Open In Colab\"/></a>\n",
    "  </td>\n",
    "</table>"
   ]
  },
  {
   "cell_type": "markdown",
   "id": "e0c5b198",
   "metadata": {
    "slideshow": {
     "slide_type": "slide"
    }
   },
   "source": [
    "### [Video de apoyo a la lectura interactiva y experimental de este cuaderno]()"
   ]
  },
  {
   "cell_type": "markdown",
   "id": "41e82203",
   "metadata": {
    "slideshow": {
     "slide_type": "slide"
    }
   },
   "source": [
    "## [Vínculo al programa del curso:](https://github.com/marco-canas/fundamentos_de_las_matematicas/blob/main/mathematics_fundamentals_course_program_flleped_learning.docx)\n",
    "\n"
   ]
  },
  {
   "cell_type": "markdown",
   "id": "d11ab06d",
   "metadata": {
    "slideshow": {
     "slide_type": "slide"
    }
   },
   "source": [
    "Un reconocimiento a mis estudiantes que han construido conmigo este saber pedagógico:\n",
    "\n",
    "<img src = 'https://github.com/marco-canas/fundamentos_de_las_matematicas/blob/main/images/photos/estudiantes_lic_math_2023-08-01.jpeg?raw=true'> \n",
    "\n"
   ]
  },
  {
   "cell_type": "markdown",
   "id": "5e3936d8",
   "metadata": {
    "slideshow": {
     "slide_type": "slide"
    }
   },
   "source": [
    "# Llamar a lista o tomar asistencia con python o llamar el equipo para la tarea con video y cuaderno Jupyter sobre medición indirecta de grandes alturas con imágenes"
   ]
  },
  {
   "cell_type": "code",
   "execution_count": 2,
   "id": "7604880f",
   "metadata": {
    "slideshow": {
     "slide_type": "slide"
    }
   },
   "outputs": [
    {
     "name": "stdout",
     "output_type": "stream",
     "text": [
      "Llamando a MARTINEZ BALLESTEROS VICTOR HUGO...\n"
     ]
    }
   ],
   "source": [
    "import pandas as pd\n",
    "import random\n",
    "\n",
    "# Cargar la lista de estudiantes desde la URL\n",
    "url = 'https://raw.githubusercontent.com/marco-canas/groups_list/main/seminario_didactica_aritmetica.csv'\n",
    "estudiantes = pd.read_csv(url)\n",
    "\n",
    "# Función para llamar a un estudiante aleatoriamente y registrar su nota de seguimiento\n",
    "def llamar_estudiante():\n",
    "    estudiante_aleatorio = random.choice(estudiantes['Nombre'])\n",
    "    print(f\"Llamando a {estudiante_aleatorio}...\")\n",
    "    \n",
    "    \n",
    "# Llamar a la función para realizar el proceso\n",
    "llamar_estudiante()\n"
   ]
  },
  {
   "cell_type": "markdown",
   "id": "4f9d8cf9",
   "metadata": {
    "slideshow": {
     "slide_type": "slide"
    }
   },
   "source": [
    "# Modelo general de clase: [aula invertida](https://www3.gobiernodecanarias.org/medusa/ecoescuela/pedagotic/aprendizaje-invertido-flipped-classroom/)"
   ]
  },
  {
   "cell_type": "markdown",
   "id": "eb6ed03a",
   "metadata": {},
   "source": [
    "![Definamos flipped learning de manera gráfica](https://resources.maneuveringthemiddle.com/wp-content/uploads/2020/07/04212706/1-5.png)"
   ]
  },
  {
   "cell_type": "markdown",
   "id": "8d97dc80",
   "metadata": {
    "slideshow": {
     "slide_type": "slide"
    }
   },
   "source": [
    "## Fomento de la lectura literaria asociada a Ingeniería agropecuaria y licenciatura en Matemáticas\n",
    "\n",
    "[Daniel Goleman: El costo del analfabetismo emocional](https://github.com/marco-canas/inteligencia_emocional)"
   ]
  },
  {
   "cell_type": "markdown",
   "id": "96775931",
   "metadata": {
    "slideshow": {
     "slide_type": "slide"
    }
   },
   "source": [
    "## Título de la clase: 1.5 Ecuaciones Stewart\n",
    "\n",
    "Página 45 del PDF y del Libro de Stewart PreCálculo. \n",
    "\n",
    "Metodología Aprendizaje Basado en problemas (ABP)\n",
    "Con un enfoque pedagógico de aula invertida. \n",
    "\n"
   ]
  },
  {
   "cell_type": "markdown",
   "id": "1d38dd4e",
   "metadata": {
    "slideshow": {
     "slide_type": "slide"
    }
   },
   "source": [
    "### Objetivo de aprendizaje (Enunciar, de manera corta sencilla y clara para todos los asistentes)\n",
    "\n",
    "* Diferenciar los conceptos de ecuación lineal y función lineal. \n",
    "* Utilizar el concepto de ecuación lineal en la solución de problemas reales. \n",
    "* que el estudiante pueda experimentar modelando ayudado por sympy, en especial su función solve. "
   ]
  },
  {
   "cell_type": "markdown",
   "id": "540f0ec1",
   "metadata": {
    "slideshow": {
     "slide_type": "slide"
    }
   },
   "source": [
    "## Cuestionario para realizar labores de memorización, observación y síntesis de la información (Además de diagnóstico)\n",
    "\n",
    "**Cuestionario de diagnóstico sobre ecuaciones en precálculo para formación de licenciado en matemáticas**\n",
    "\n",
    "1. Define una ecuación lineal y una función lineal. ¿Cuáles son las principales diferencias entre ambas?\n",
    "\n",
    "2. Explica cómo se puede utilizar el concepto de ecuación lineal para resolver problemas reales. Proporciona al menos un ejemplo.\n",
    "\n",
    "3. ¿Cuál es el propósito de utilizar SymPy en la modelización matemática? ¿Qué función específica de SymPy se utiliza comúnmente para resolver ecuaciones?\n"
   ]
  },
  {
   "cell_type": "markdown",
   "id": "5cadc7bb",
   "metadata": {},
   "source": [
    "\n",
    "4. Describe brevemente cómo usar la función `solve()` de SymPy para resolver una ecuación lineal.\n",
    "\n",
    "5. ¿Cuál es la diferencia entre una ecuación lineal con una única solución, infinitas soluciones y ninguna solución? Proporciona un ejemplo de cada caso.\n",
    "\n",
    "6. ¿Cómo se puede interpretar geométricamente una ecuación lineal en dos variables? ¿Qué representa la pendiente y la ordenada al origen en este contexto?\n",
    "\n",
    "**Respuestas:**\n",
    "\n",
    "1. Una ecuación lineal es una expresión matemática en la que las variables están elevadas a la primera potencia y se relacionan linealmente a través de operaciones de suma y/o resta. Una función lineal es una función matemática que puede expresarse en la forma f(x) = mx + b, donde m representa la pendiente de la recta y b representa la ordenada al origen. La principal diferencia es que una ecuación lineal es una igualdad mientras que una función lineal es una relación funcional entre dos variables.\n"
   ]
  },
  {
   "cell_type": "markdown",
   "id": "f98444b1",
   "metadata": {},
   "source": [
    "\n",
    "2. El concepto de ecuación lineal se puede utilizar para resolver problemas relacionados con cantidades que cambian de manera constante y proporcional. Por ejemplo, calcular el costo total de comprar un número determinado de artículos a un precio fijo por unidad.\n",
    "\n",
    "3. SymPy se utiliza en la modelización matemática para realizar cálculos simbólicos y resolver problemas matemáticos complejos. La función `solve()` de SymPy se utiliza comúnmente para encontrar soluciones a ecuaciones algebraicas y diferenciales.\n",
    "\n",
    "4. Para resolver una ecuación lineal utilizando SymPy, primero se define la ecuación utilizando símbolos y luego se utiliza la función `solve()` proporcionando la ecuación y la variable a resolver. Por ejemplo, para resolver la ecuación 2x + 3 = 7, se puede escribir `solve(2*x + 3 - 7, x)`.\n"
   ]
  },
  {
   "cell_type": "markdown",
   "id": "89f5ba40",
   "metadata": {},
   "source": [
    "\n",
    "5. Una ecuación lineal con una única solución tiene un único punto de intersección en un gráfico, como por ejemplo: 2x + 3 = 7, que tiene solución x = 2. Una ecuación lineal con infinitas soluciones representa una recta que coincide con la línea del gráfico, como por ejemplo: y = 2x + 3. Una ecuación lineal sin soluciones representa dos rectas paralelas que nunca se cruzan, como por ejemplo: 2x + 3 = 2x + 5.\n",
    "\n",
    "6. Geométricamente, una ecuación lineal en dos variables representa una recta en el plano cartesiano. La pendiente (m) representa la inclinación de la recta y la ordenada al origen (b) representa el punto donde la recta intersecta el eje vertical (y) cuando x es igual a cero. Por ejemplo, la ecuación y = 2x + 3 representa una recta con pendiente 2 y ordenada al origen 3."
   ]
  },
  {
   "cell_type": "markdown",
   "id": "ca7261b1",
   "metadata": {
    "slideshow": {
     "slide_type": "slide"
    }
   },
   "source": [
    "## Establecimiento de prerrequisitos conceptuales para alcanzar el objetivo de aprendizaje trazado.   \n",
    "\n",
    "(Elabore una lista de preguntas al rededor de los conceptos que consideres necesarios para empezar la clase).  \n",
    "\n",
    "Para alcanzar los objetivos de aprendizaje en una clase sobre ecuaciones en precálculo, se necesitan algunos prerrequisitos conceptuales sólidos. Aquí tienes una lista de prerrequisitos y algunas actividades sugeridas para alcanzarlos:\n",
    "\n",
    "1. **Conocimiento básico de álgebra elemental:**\n",
    "   - Actividades sugeridas:\n",
    "     - Revisión de las propiedades básicas de las operaciones aritméticas (suma, resta, multiplicación, división).\n",
    "     - Práctica con la simplificación de expresiones algebraicas simples.\n",
    "     - Resolución de ecuaciones lineales simples.\n"
   ]
  },
  {
   "cell_type": "markdown",
   "id": "f34444ad",
   "metadata": {},
   "source": [
    "\n",
    "2. **Comprensión de gráficos cartesianos:**\n",
    "   - Actividades sugeridas:\n",
    "     - Estudio de la representación de puntos en el plano cartesiano.\n",
    "     - Graficación de ecuaciones lineales simples en el plano cartesiano.\n",
    "     - Interpretación de la pendiente y la ordenada al origen en el contexto de una línea.\n",
    "\n",
    "3. **Familiaridad con los conceptos de variables y funciones:**\n",
    "   - Actividades sugeridas:\n",
    "     - Estudio de las definiciones de variable y función.\n",
    "     - Práctica con la evaluación de funciones para diferentes valores de la variable independiente.\n",
    "     - Exploración de gráficos de funciones lineales y no lineales.\n",
    "\n",
    "4. **Conocimiento de la resolución de ecuaciones lineales:**\n",
    "   - Actividades sugeridas:\n",
    "     - Resolución de ecuaciones lineales de primer grado utilizando diferentes métodos (sustitución, eliminación, método gráfico).\n",
    "     - Aplicación de la resolución de ecuaciones lineales en problemas del mundo real.\n",
    "\n",
    "5. **Comprensión de la relación entre ecuaciones y gráficos:**\n",
    "   - Actividades sugeridas:\n",
    "     - Relación de ecuaciones lineales con la representación gráfica de líneas en el plano cartesiano.\n",
    "     - Identificación de características importantes de la línea a partir de su ecuación (pendiente, ordenada al origen).\n"
   ]
  },
  {
   "cell_type": "markdown",
   "id": "752d2bde",
   "metadata": {},
   "source": [
    "\n",
    "6. **Introducción a la programación simbólica con herramientas como SymPy:**\n",
    "   - Actividades sugeridas:\n",
    "     - Introducción a SymPy y sus capacidades para manipulación simbólica.\n",
    "     - Práctica con la definición de símbolos y la manipulación de expresiones simbólicas.\n",
    "     - Experimentación con la función `solve()` de SymPy para resolver ecuaciones lineales.\n",
    "\n",
    "Estas actividades pueden realizarse a través de ejercicios prácticos, problemas de aplicación, ejemplos guiados y actividades de modelado utilizando herramientas como SymPy para fortalecer los prerrequisitos conceptuales necesarios para alcanzar los objetivos de aprendizaje en la clase sobre ecuaciones en precálculo."
   ]
  },
  {
   "cell_type": "markdown",
   "id": "2298e976",
   "metadata": {
    "slideshow": {
     "slide_type": "slide"
    }
   },
   "source": [
    "# Para el diseño de la clase tenga en cuenta algunos problemas de aprendizaje"
   ]
  },
  {
   "cell_type": "markdown",
   "id": "523d3acf",
   "metadata": {
    "slideshow": {
     "slide_type": "slide"
    }
   },
   "source": [
    "Al tratar de alcanzar los objetivos de aprendizaje en una clase sobre ecuaciones en precálculo, pueden surgir varios problemas de aprendizaje para los estudiantes. Aquí hay una lista de posibles problemas y algunas sugerencias de solución utilizando la experimentación con la librería SymPy de Python como apoyo para el aprendizaje:\n",
    "\n",
    "1. **Dificultades con la comprensión de conceptos abstractos:**\n",
    "   - Problema: Los estudiantes pueden tener dificultades para comprender conceptos abstractos como funciones lineales y ecuaciones lineales.\n",
    "   - Solución: Utilizar SymPy para visualizar gráficos de funciones lineales y resolver ecuaciones lineales de manera interactiva. Esto proporciona una representación concreta de conceptos abstractos y facilita la comprensión.\n"
   ]
  },
  {
   "cell_type": "markdown",
   "id": "3d4054fb",
   "metadata": {},
   "source": [
    "\n",
    "2. **Desafíos en la resolución de problemas reales:**\n",
    "   - Problema: Los estudiantes pueden tener dificultades para aplicar conceptos matemáticos a problemas del mundo real.\n",
    "   - Solución: Presentar problemas del mundo real que se pueden modelar utilizando ecuaciones lineales y guiar a los estudiantes para resolverlos utilizando SymPy. Esto ayuda a los estudiantes a ver la relevancia de los conceptos matemáticos en situaciones prácticas.\n",
    "\n",
    "3. **Falta de práctica en la resolución de ecuaciones lineales:**\n",
    "   - Problema: Los estudiantes pueden carecer de práctica en la resolución de ecuaciones lineales utilizando diferentes métodos.\n",
    "   - Solución: Proporcionar ejercicios variados que requieran la resolución de ecuaciones lineales utilizando SymPy. Además, animar a los estudiantes a explorar diferentes métodos de resolución y comparar resultados.\n",
    "\n",
    "4. **Confusión en la interpretación de resultados:**\n",
    "   - Problema: Los estudiantes pueden tener dificultades para interpretar los resultados de las ecuaciones lineales en el contexto del problema.\n",
    "   - Solución: Guiar a los estudiantes para que interpreten los resultados de manera significativa en el contexto del problema. Utilizar SymPy para verificar y visualizar soluciones puede ayudar a reforzar la comprensión de los resultados.\n",
    "\n",
    "5. **Falta de motivación y compromiso con el aprendizaje:**\n",
    "   - Problema: Los estudiantes pueden perder interés en el tema debido a la falta de motivación o relevancia percibida.\n",
    "   - Solución: Integrar la programación con SymPy en el currículo para involucrar a los estudiantes en actividades prácticas y aplicadas. Proporcionar problemas desafiantes y proyectos de modelado que requieran el uso de SymPy puede aumentar la motivación y el compromiso con el aprendizaje.\n"
   ]
  },
  {
   "cell_type": "markdown",
   "id": "184c556d",
   "metadata": {},
   "source": [
    "\n",
    "6. **Inseguridad en el uso de herramientas tecnológicas:**\n",
    "   - Problema: Los estudiantes pueden sentirse inseguros al utilizar herramientas tecnológicas como SymPy.\n",
    "   - Solución: Proporcionar instrucciones claras y recursos de apoyo para ayudar a los estudiantes a familiarizarse con SymPy. Ofrecer sesiones de práctica guiada y tutoriales para desarrollar confianza en el uso de la herramienta.\n",
    "\n",
    "Al abordar estos problemas de aprendizaje utilizando la experimentación con la librería SymPy de Python como apoyo para el aprendizaje, los estudiantes pueden mejorar su comprensión de los conceptos matemáticos y desarrollar habilidades prácticas en la resolución de problemas."
   ]
  },
  {
   "cell_type": "markdown",
   "id": "a40a4704",
   "metadata": {
    "slideshow": {
     "slide_type": "slide"
    }
   },
   "source": [
    "## Secuencia conceptual introductoria a la clase"
   ]
  },
  {
   "cell_type": "markdown",
   "id": "8853d874",
   "metadata": {},
   "source": [
    "## El componente histórico y epistemológico"
   ]
  },
  {
   "cell_type": "markdown",
   "id": "66a18c56",
   "metadata": {},
   "source": [
    "La enseñanza de los conceptos de ecuación lineal y ecuación cuadrática en el contexto universitario y de formación de maestros se beneficia de una comprensión tanto histórica como epistemológica. Aquí hay algunos componentes clave:\n",
    "\n",
    "### Históricos:\n"
   ]
  },
  {
   "cell_type": "markdown",
   "id": "922de7ba",
   "metadata": {},
   "source": [
    "\n",
    "1. **Desarrollo en la Antigüedad:** Las ecuaciones lineales tienen una historia que se remonta a las antiguas civilizaciones mesopotámicas y egipcias, donde se utilizaron métodos geométricos para resolver problemas de proporción. Los matemáticos griegos como Euclides también trabajaron en problemas relacionados con líneas y proporciones, estableciendo algunas de las bases de la geometría que es esencial para las ecuaciones lineales.\n",
    "\n",
    "2. **Renacimiento y Edad Moderna:** Durante el Renacimiento y la Edad Moderna, matemáticos como Descartes y Fermat desarrollaron sistemas algebraicos que permitieron la resolución de ecuaciones polinómicas, incluidas las cuadráticas. El surgimiento del álgebra moderna y la notación simbólica sentaron las bases para el tratamiento sistemático de las ecuaciones.\n",
    "\n",
    "3. **Contribuciones en el siglo XIX:** Matemáticos como Gauss y Euler hicieron contribuciones significativas al campo de las ecuaciones, desarrollando métodos para resolver ecuaciones lineales y cuadráticas de manera más general y formal. La teoría de matrices y determinantes también surgió durante este período, lo que proporcionó herramientas poderosas para trabajar con sistemas de ecuaciones.\n"
   ]
  },
  {
   "cell_type": "markdown",
   "id": "90312db7",
   "metadata": {},
   "source": [
    "\n",
    "### Epistemológicos:\n"
   ]
  },
  {
   "cell_type": "markdown",
   "id": "24c5a48a",
   "metadata": {},
   "source": [
    "\n",
    "1. **Modelado Matemático:** Enseñar ecuaciones lineales y cuadráticas implica mostrar cómo estas ecuaciones surgen en situaciones del mundo real. La epistemología del modelado matemático es esencial para conectar conceptos abstractos con aplicaciones prácticas.\n",
    "\n",
    "2. **Métodos de Resolución:** Comprender los métodos históricos de resolución de ecuaciones (como la factorización, completar el cuadrado, etc.) proporciona una visión epistemológica de cómo se desarrollaron estos conceptos y cómo evolucionaron a lo largo del tiempo. Esto también permite a los estudiantes apreciar la belleza y la eficacia de los métodos matemáticos.\n"
   ]
  },
  {
   "cell_type": "markdown",
   "id": "3ab70823",
   "metadata": {},
   "source": [
    "\n",
    "3. **Relación con otras áreas de las matemáticas:** Explorar cómo las ecuaciones lineales y cuadráticas se relacionan con otros conceptos matemáticos, como las funciones, el álgebra abstracta y el cálculo, ayuda a los estudiantes a comprender la importancia y la ubicuidad de estos conceptos en toda la disciplina matemática.\n"
   ]
  },
  {
   "cell_type": "markdown",
   "id": "7adaf779",
   "metadata": {},
   "source": [
    "\n",
    "4. **Enfoque Constructivista:** Un enfoque epistemológico constructivista alienta a los estudiantes a construir su comprensión a través de la exploración activa y la resolución de problemas. Esto implica proporcionar oportunidades para la experimentación, la resolución de problemas auténticos y la discusión de diferentes enfoques para resolver ecuaciones lineales y cuadráticas.\n",
    "\n",
    "Al integrar estos componentes históricos y epistemológicos en la enseñanza de las ecuaciones lineales y cuadráticas, los estudiantes pueden desarrollar una comprensión más profunda y significativa de estos conceptos fundamentales de las matemáticas."
   ]
  },
  {
   "cell_type": "markdown",
   "id": "3aa78ceb",
   "metadata": {},
   "source": [
    "# 1.5 ECUACIONES\n",
    "■ Solución de ecuaciones lineales ■ Solución de ecuaciones cuadráticas ■ Otros tipos de ecuaciones\n",
    "\n",
    "Página 45 del Stewart. "
   ]
  },
  {
   "cell_type": "markdown",
   "id": "eeb54401",
   "metadata": {},
   "source": [
    "Una ecuación es un enunciado de que dos expresiones matemáticas son iguales. Por\n",
    "ejemplo,  \n",
    "\n",
    "$$ 3+ 5 = 8 $$\n",
    "\n",
    "\n",
    "es una ecuación. "
   ]
  },
  {
   "cell_type": "markdown",
   "id": "be18c554",
   "metadata": {},
   "source": [
    "Casi todas las ecuaciones que estudiamos en álgebra contienen variables, que son símbolos (por lo general literales) que representan números. "
   ]
  },
  {
   "cell_type": "markdown",
   "id": "ce23abd6",
   "metadata": {},
   "source": [
    "En la ecuación  \n",
    "\n",
    "$$4x + 7 = 19 $$  \n",
    "\n",
    "la letra $x$ es la variable. "
   ]
  },
  {
   "cell_type": "markdown",
   "id": "a500f7b6",
   "metadata": {},
   "source": [
    "Consideramos $x$ como la “incógnita” de la ecuación, y nuestro objetivo es encontrar el valor de $x$ que haga que la ecuación sea verdadera. "
   ]
  },
  {
   "cell_type": "markdown",
   "id": "abe7e6f7",
   "metadata": {},
   "source": [
    "Los valores de la incógnita que hacen que la ecuación sea verdadera se denominan **soluciones o\n",
    "raíces de la ecuación**, y el proceso de encontrar las soluciones se llama **resolver la ecuación**.\n"
   ]
  },
  {
   "cell_type": "markdown",
   "id": "83a70c0c",
   "metadata": {},
   "source": [
    "Dos ecuaciones con exactamente las mismas soluciones reciben el nombre de **ecuaciones equivalentes**. "
   ]
  },
  {
   "cell_type": "markdown",
   "id": "896b0f12",
   "metadata": {},
   "source": [
    "Para resolver una ecuación tratamos de encontrar una ecuación equivalente más sencilla en la que la variable está solo en un lado del signo “igual”. "
   ]
  },
  {
   "cell_type": "markdown",
   "id": "33408261",
   "metadata": {},
   "source": [
    "A\n",
    "continuación veamos las propiedades que usamos para resolver una ecuación. (En estas\n",
    "propiedades, A, B y C representan cualquier expresión algebraica, y el símbolo 3 sig-\n",
    "nifica “es equivalente a”)."
   ]
  },
  {
   "cell_type": "markdown",
   "id": "b8faa0d8",
   "metadata": {},
   "source": [
    "# PROPIEDADES DE LA IGUALDAD   \n",
    "\n",
    "|Propiedad|Descripción|\n",
    "|---------|-----------|\n",
    "|$A = B \\iff A + C = B+ C $| Sumar la misma cantidad a ambos lados de una ecuación da una ecuación equivalente.|\n",
    "|2. $A = B \\iff AC = BC, \\quad C \\neq 0$|Multiplicar ambos lados de una ecuación por la misma cantidad diferente de cero da una ecuación equivalente|"
   ]
  },
  {
   "cell_type": "markdown",
   "id": "76e5858f",
   "metadata": {},
   "source": [
    "Estas propiedades requieren que, al resolverla, el estudiante realice la misma operación en ambos lados de una ecuación. Entonces, si decimos “sume 27” al resolver una ecuación, es una forma breve de decir “sume 27 a cada lado de la ecuación”.\n",
    "■ Solución de ecuaciones lineales\n",
    "El tipo más sencillo de ecuación es una ecuación lineal, o ecuación de primer grado,\n",
    "que es una ecuación en la que cada término es una constante o un múltiplo diferente de\n",
    "cero de la variable.\n"
   ]
  },
  {
   "cell_type": "markdown",
   "id": "349dd088",
   "metadata": {},
   "source": [
    "# ECUACIONES LINEALES  \n",
    "\n",
    "Una ecuación lineal en una variable es una ecuación equivalente a una de la forma  \n",
    "\n",
    "$$ ax + b = 0 $$  \n",
    "\n",
    "donde $a$ y $b$ son números reales y $x$ es la variable."
   ]
  },
  {
   "cell_type": "markdown",
   "id": "0f02db87",
   "metadata": {},
   "source": [
    "A continuación veamos algunos ejemplos que ilustran la diferencia entre ecuaciones\n",
    "lineales y no lineales.\n",
    "\n",
    "|Ecuaciones lineales|Ecuaciones no lineales|\n",
    "|-------------------|----------------------|  \n",
    "||| \n",
    "|||  \n",
    "\n"
   ]
  },
  {
   "cell_type": "code",
   "execution_count": null,
   "id": "14268b4c",
   "metadata": {},
   "outputs": [],
   "source": []
  },
  {
   "cell_type": "code",
   "execution_count": null,
   "id": "c012f01b",
   "metadata": {},
   "outputs": [],
   "source": []
  },
  {
   "cell_type": "code",
   "execution_count": null,
   "id": "58cf3835",
   "metadata": {},
   "outputs": [],
   "source": []
  },
  {
   "cell_type": "markdown",
   "id": "2f0141c3",
   "metadata": {},
   "source": [
    "## Tareas para realizar antes de la clase  \n",
    "\n",
    "1. Ver los videos respectivos []()\n",
    "2. Memorizar las definiciones [](https://github.com/marco-canas/calculo/blob/main/referents/precalculo_stewart/James%20Stewart_%20Saleem%20Watson_%20Lothar%20Redlin%20-%20Prec%C3%A1lculo_%20matem%C3%A1ticas%20para%20el%20c%C3%A1lculo-Cengage%20(2017).pdf) Página 45 del PDF del precálculo de stewart. \n",
    "3. Sintetizar o resumir la información en mapas conceptuales. []()\n",
    "4. Tareas para incentivar el uso de la calculadora Casio Para ingenieros y licenciados. \n",
    "5. Leer los ejemplos resueltos y replicar la manera de hacerlos. Consigne su lectura en el cuaderno Manuscrito. Y de manera opcional, consigne la lectura de un ejemplo en su cuaderno Jupyter.  "
   ]
  },
  {
   "cell_type": "code",
   "execution_count": null,
   "id": "3db51219",
   "metadata": {},
   "outputs": [
    {
     "data": {
      "text/plain": [
       "'/home/marco/Documentos/docencia/calculo/images/0_reales/ecuaciones.pdf'"
      ]
     },
     "execution_count": 3,
     "metadata": {},
     "output_type": "execute_result"
    },
    {
     "name": "stderr",
     "output_type": "stream",
     "text": [
      "/snap/core20/current/lib/x86_64-linux-gnu/libstdc++.so.6: version `GLIBCXX_3.4.29' not found (required by /lib/x86_64-linux-gnu/libproxy.so.1)\n",
      "Failed to load module: /home/marco/snap/code/common/.cache/gio-modules/libgiolibproxy.so\n"
     ]
    },
    {
     "name": "stderr",
     "output_type": "stream",
     "text": [
      "\n",
      "(process:15249): Gtk-WARNING **: 14:15:16.653: Locale not supported by C library.\n",
      "\tUsing the fallback 'C' locale.\n",
      "/home/marco/snap/code/common/.cache/gio-modules/libgiolibproxy.so: cannot open shared object file: Permission denied\n",
      "Failed to load module: /home/marco/snap/code/common/.cache/gio-modules/libgiolibproxy.so\n",
      "\n",
      "(evince:15249): Gtk-WARNING **: 14:15:16.696: Theme parsing error: gtk-keys.css:1:0: Failed to import: Error opening file /snap/code/153/usr/share/themes/Default/gtk-3.0/gtk-keys.css: Permission denied\n",
      "Gtk-Message: 14:15:16.696: Failed to load module \"canberra-gtk-module\"\n",
      "Gtk-Message: 14:15:16.698: Failed to load module \"canberra-gtk-module\"\n",
      "/home/marco/snap/code/common/.cache/gio-modules/libdconfsettings.so: cannot open shared object file: Permission denied\n",
      "Failed to load module: /home/marco/snap/code/common/.cache/gio-modules/libdconfsettings.so\n",
      "\n",
      "(evince:15249): Gtk-WARNING **: 14:15:16.870: Could not load a pixbuf from icon theme.\n",
      "This may indicate that pixbuf loaders or the mime database could not be found.\n"
     ]
    }
   ],
   "source": [
    "from graphviz import Digraph\n",
    "\n",
    "# Crear un nuevo grafo dirigido\n",
    "dot = Digraph()\n",
    "\n",
    "# Añadir nodos y relaciones al grafo\n",
    "dot.node('A', 'Ecuación de variable real')\n",
    "dot.node('B', 'Ecuación lineal')\n",
    "dot.node('C', 'Ecuación cuadrática')\n",
    "dot.node('D', 'Resolver una ecuación')\n",
    "dot.node('E', 'Raíz de una ecuación')\n",
    "dot.node('F', '')\n",
    "dot.node('G', '')\n",
    "dot.node('H', '')\n",
    "dot.node('I', '')\n",
    "dot.node('J', '')\n",
    "\n",
    "dot.edges(['AB'])\n",
    "dot.edges(['AC'])\n",
    "dot.edges(['CD'])\n",
    "dot.edges(['DJ'])\n",
    "dot.edges(['EF'])\n",
    "dot.edges(['FG'])\n",
    "dot.edges(['GH'])\n",
    "dot.edges(['HI'])\n",
    "dot.edges(['IJ'])\n",
    "\n",
    "# Guardar el grafo como un archivo de imagen\n",
    "dot.render(filename='ecuaciones', format='png', cleanup=True, \\\n",
    "           directory='/home/marco/Documentos/docencia/calculo/images/0_reales/')\n",
    "\n",
    "dot.view()\n"
   ]
  },
  {
   "cell_type": "code",
   "execution_count": 4,
   "metadata": {},
   "outputs": [
    {
     "name": "stdout",
     "output_type": "stream",
     "text": [
      "Tarea asignada:  tarea_Stewart_ Precálculo_Página_45_Sección_1.5.csv\n"
     ]
    },
    {
     "data": {
      "text/html": [
       "<div>\n",
       "<style scoped>\n",
       "    .dataframe tbody tr th:only-of-type {\n",
       "        vertical-align: middle;\n",
       "    }\n",
       "\n",
       "    .dataframe tbody tr th {\n",
       "        vertical-align: top;\n",
       "    }\n",
       "\n",
       "    .dataframe thead th {\n",
       "        text-align: right;\n",
       "    }\n",
       "</style>\n",
       "<table border=\"1\" class=\"dataframe\">\n",
       "  <thead>\n",
       "    <tr style=\"text-align: right;\">\n",
       "      <th></th>\n",
       "      <th>Student</th>\n",
       "      <th>Example1</th>\n",
       "      <th>Example2</th>\n",
       "      <th>Example3</th>\n",
       "    </tr>\n",
       "  </thead>\n",
       "  <tbody>\n",
       "    <tr>\n",
       "      <th>0</th>\n",
       "      <td>ARIAS ARRIETA FREDY</td>\n",
       "      <td>13</td>\n",
       "      <td>11</td>\n",
       "      <td>2</td>\n",
       "    </tr>\n",
       "    <tr>\n",
       "      <th>1</th>\n",
       "      <td>BOHORQUEZ NAVARRO DINA ESTELA</td>\n",
       "      <td>10</td>\n",
       "      <td>12</td>\n",
       "      <td>2</td>\n",
       "    </tr>\n",
       "    <tr>\n",
       "      <th>2</th>\n",
       "      <td>CARDONA RAMIREZ SARA PAULINA</td>\n",
       "      <td>14</td>\n",
       "      <td>12</td>\n",
       "      <td>8</td>\n",
       "    </tr>\n",
       "    <tr>\n",
       "      <th>3</th>\n",
       "      <td>CASTANEDA REINOZA DIEGO</td>\n",
       "      <td>11</td>\n",
       "      <td>3</td>\n",
       "      <td>7</td>\n",
       "    </tr>\n",
       "    <tr>\n",
       "      <th>4</th>\n",
       "      <td>ESPEJO PEREZ LUIS DAVID</td>\n",
       "      <td>2</td>\n",
       "      <td>7</td>\n",
       "      <td>4</td>\n",
       "    </tr>\n",
       "    <tr>\n",
       "      <th>5</th>\n",
       "      <td>HERNANDEZ GUERRA FABIAN ALEJANDRO</td>\n",
       "      <td>10</td>\n",
       "      <td>11</td>\n",
       "      <td>7</td>\n",
       "    </tr>\n",
       "    <tr>\n",
       "      <th>6</th>\n",
       "      <td>LUCAS FLOREZ NAYELIS NATALIA</td>\n",
       "      <td>6</td>\n",
       "      <td>4</td>\n",
       "      <td>9</td>\n",
       "    </tr>\n",
       "    <tr>\n",
       "      <th>7</th>\n",
       "      <td>MARTINEZ BALLESTEROS VICTOR HUGO</td>\n",
       "      <td>13</td>\n",
       "      <td>4</td>\n",
       "      <td>7</td>\n",
       "    </tr>\n",
       "    <tr>\n",
       "      <th>8</th>\n",
       "      <td>MARTINEZ MENDOZA JAIR MIGUEL</td>\n",
       "      <td>7</td>\n",
       "      <td>3</td>\n",
       "      <td>11</td>\n",
       "    </tr>\n",
       "    <tr>\n",
       "      <th>9</th>\n",
       "      <td>OCHOA ARRIETA JUAN ANDRES</td>\n",
       "      <td>13</td>\n",
       "      <td>11</td>\n",
       "      <td>9</td>\n",
       "    </tr>\n",
       "    <tr>\n",
       "      <th>10</th>\n",
       "      <td>RODRIGUEZ VERONA CARLOS MARIO</td>\n",
       "      <td>3</td>\n",
       "      <td>12</td>\n",
       "      <td>11</td>\n",
       "    </tr>\n",
       "    <tr>\n",
       "      <th>11</th>\n",
       "      <td>RUIZ CARDENAS LUIS MARIO</td>\n",
       "      <td>12</td>\n",
       "      <td>3</td>\n",
       "      <td>5</td>\n",
       "    </tr>\n",
       "    <tr>\n",
       "      <th>12</th>\n",
       "      <td>SIERRA OLIVEROS OMAR DARIO</td>\n",
       "      <td>3</td>\n",
       "      <td>10</td>\n",
       "      <td>7</td>\n",
       "    </tr>\n",
       "    <tr>\n",
       "      <th>13</th>\n",
       "      <td>SUAREZ RESTREPO MARIA ANGELICA</td>\n",
       "      <td>9</td>\n",
       "      <td>11</td>\n",
       "      <td>2</td>\n",
       "    </tr>\n",
       "    <tr>\n",
       "      <th>14</th>\n",
       "      <td>TAMAYO DE LA OSSA SARA</td>\n",
       "      <td>3</td>\n",
       "      <td>4</td>\n",
       "      <td>9</td>\n",
       "    </tr>\n",
       "    <tr>\n",
       "      <th>15</th>\n",
       "      <td>el profesor Marco</td>\n",
       "      <td>13</td>\n",
       "      <td>3</td>\n",
       "      <td>12</td>\n",
       "    </tr>\n",
       "  </tbody>\n",
       "</table>\n",
       "</div>"
      ],
      "text/plain": [
       "                              Student  Example1  Example2  Example3\n",
       "0                 ARIAS ARRIETA FREDY        13        11         2\n",
       "1       BOHORQUEZ NAVARRO DINA ESTELA        10        12         2\n",
       "2        CARDONA RAMIREZ SARA PAULINA        14        12         8\n",
       "3             CASTANEDA REINOZA DIEGO        11         3         7\n",
       "4             ESPEJO PEREZ LUIS DAVID         2         7         4\n",
       "5   HERNANDEZ GUERRA FABIAN ALEJANDRO        10        11         7\n",
       "6        LUCAS FLOREZ NAYELIS NATALIA         6         4         9\n",
       "7    MARTINEZ BALLESTEROS VICTOR HUGO        13         4         7\n",
       "8        MARTINEZ MENDOZA JAIR MIGUEL         7         3        11\n",
       "9           OCHOA ARRIETA JUAN ANDRES        13        11         9\n",
       "10      RODRIGUEZ VERONA CARLOS MARIO         3        12        11\n",
       "11           RUIZ CARDENAS LUIS MARIO        12         3         5\n",
       "12         SIERRA OLIVEROS OMAR DARIO         3        10         7\n",
       "13     SUAREZ RESTREPO MARIA ANGELICA         9        11         2\n",
       "14             TAMAYO DE LA OSSA SARA         3         4         9\n",
       "15                  el profesor Marco        13         3        12"
      ]
     },
     "execution_count": 4,
     "metadata": {},
     "output_type": "execute_result"
    }
   ],
   "source": [
    "# asignación de ejercicios de un seccion del texto guía\n",
    "\n",
    "# numpy.random.choice() obten la documentación de esta función en: \n",
    "# https://numpy.org/doc/stable/reference/random/generated/numpy.random.choice.html\n",
    "\n",
    "import pandas as pd\n",
    "import numpy as np\n",
    "import requests\n",
    "np.random.seed(42)  # establecer semilla aleatoria para hacer los resultados reproducibles\n",
    "\n",
    "\n",
    "\n",
    "grupo_estudiantes = 'seminario_didactica_aritmetica'\n",
    "nombre_texto_guia = 'Stewart_ Precálculo'\n",
    "pagina_y_seccion = 'Página_45_Sección_1.5'\n",
    "numero_ejercicios_taller = 14\n",
    "numero_de_ejercicios_asignados = 3\n",
    "\n",
    "\n",
    "# Descargar la lista de  estudiantes\n",
    "students_url = \"https://raw.githubusercontent.com/marco-canas/groups_list/main/\" + grupo_estudiantes + \".csv\"\n",
    "exercises = list(range(1, numero_ejercicios_taller))  \n",
    "\n",
    "students_data = pd.read_csv(students_url)\n",
    "\n",
    "# Crear una lista para almacenar las asignaciones\n",
    "assignments = []\n",
    "\n",
    "# Asignar ejercicios aleatorios a cada estudiante\n",
    "for index, student in students_data.iterrows():\n",
    "    # Seleccionar 5 ejercicios aleatorios sin repetición\n",
    "    random_exercises = np.random.choice(exercises, numero_de_ejercicios_asignados, replace = False)+ 1 \n",
    "    assignments.append([students_data[\"Nombre\"][index], *random_exercises])  # Agregar asignación a la lista\n",
    "\n",
    "# Crear un DataFrame con las asignaciones\n",
    "columns = [\"Student\"] + [ \"Example\" + str(i+1) for i in range(numero_de_ejercicios_asignados)]\n",
    "assignment_df = pd.DataFrame(assignments, columns=columns)\n",
    "\n",
    "# Guardar el DataFrame en un archivo CSV\n",
    "assignment_csv = \"tarea\" + \"_\" + nombre_texto_guia + \"_\"+ pagina_y_seccion + \".csv\"\n",
    "assignment_df.to_csv(assignment_csv, index=False)\n",
    "\n",
    "print(\"Tarea asignada: \", assignment_csv)\n",
    "assignment_df"
   ]
  },
  {
   "cell_type": "markdown",
   "id": "3ce0557f",
   "metadata": {},
   "source": [
    " [Secuencia metodológica que seguiremos en cada modelación fundamentada en Borromeo citado por Carlos Ledezma](https://www.researchgate.net/profile/Carlos-Ledezma-4/publication/376076920_Modelizacion_matematica_desde_una_articulacion_teorica_entre_los_enfoques_cognitivo_y_onto-semiotico/links/6568cb363fa26f66f43b292a/Modelizacion-matematica-desde-una-articulacion-teorica-entre-los-enfoques-cognitivo-y-onto-semiotico.pdf)\n",
    "\n",
    "1. Entender la tarea\n",
    "2. Simplificar y estructurar la tarea\n",
    "3. Matemátizar\n",
    "4. Trabajar matemáticamente utilizando las competencias matemáticas del estudiante.\n",
    "5. Interpretar y \n",
    "6. validar"
   ]
  },
  {
   "cell_type": "markdown",
   "id": "7dbbd46e",
   "metadata": {},
   "source": []
  },
  {
   "cell_type": "markdown",
   "id": "1ccfb67e",
   "metadata": {
    "slideshow": {
     "slide_type": "slide"
    }
   },
   "source": [
    "# Visualizaciones tabulares y gráficas"
   ]
  },
  {
   "cell_type": "markdown",
   "id": "0631fb05",
   "metadata": {
    "slideshow": {
     "slide_type": "slide"
    }
   },
   "source": [
    "## Visualización gráfica con plotly"
   ]
  },
  {
   "cell_type": "code",
   "execution_count": 4,
   "id": "6009af5a",
   "metadata": {
    "slideshow": {
     "slide_type": "slide"
    }
   },
   "outputs": [
    {
     "data": {
      "application/vnd.plotly.v1+json": {
       "config": {
        "plotlyServerURL": "https://plot.ly"
       },
       "data": [
        {
         "hovertemplate": "x=%{x}<br>y=%{y}<extra></extra>",
         "legendgroup": "",
         "marker": {
          "color": "#636efa",
          "symbol": "circle"
         },
         "mode": "markers",
         "name": "",
         "orientation": "v",
         "showlegend": false,
         "type": "scatter",
         "x": [],
         "xaxis": "x",
         "y": [],
         "yaxis": "y"
        }
       ],
       "layout": {
        "legend": {
         "tracegroupgap": 0
        },
        "template": {
         "data": {
          "bar": [
           {
            "error_x": {
             "color": "#2a3f5f"
            },
            "error_y": {
             "color": "#2a3f5f"
            },
            "marker": {
             "line": {
              "color": "#E5ECF6",
              "width": 0.5
             },
             "pattern": {
              "fillmode": "overlay",
              "size": 10,
              "solidity": 0.2
             }
            },
            "type": "bar"
           }
          ],
          "barpolar": [
           {
            "marker": {
             "line": {
              "color": "#E5ECF6",
              "width": 0.5
             },
             "pattern": {
              "fillmode": "overlay",
              "size": 10,
              "solidity": 0.2
             }
            },
            "type": "barpolar"
           }
          ],
          "carpet": [
           {
            "aaxis": {
             "endlinecolor": "#2a3f5f",
             "gridcolor": "white",
             "linecolor": "white",
             "minorgridcolor": "white",
             "startlinecolor": "#2a3f5f"
            },
            "baxis": {
             "endlinecolor": "#2a3f5f",
             "gridcolor": "white",
             "linecolor": "white",
             "minorgridcolor": "white",
             "startlinecolor": "#2a3f5f"
            },
            "type": "carpet"
           }
          ],
          "choropleth": [
           {
            "colorbar": {
             "outlinewidth": 0,
             "ticks": ""
            },
            "type": "choropleth"
           }
          ],
          "contour": [
           {
            "colorbar": {
             "outlinewidth": 0,
             "ticks": ""
            },
            "colorscale": [
             [
              0,
              "#0d0887"
             ],
             [
              0.1111111111111111,
              "#46039f"
             ],
             [
              0.2222222222222222,
              "#7201a8"
             ],
             [
              0.3333333333333333,
              "#9c179e"
             ],
             [
              0.4444444444444444,
              "#bd3786"
             ],
             [
              0.5555555555555556,
              "#d8576b"
             ],
             [
              0.6666666666666666,
              "#ed7953"
             ],
             [
              0.7777777777777778,
              "#fb9f3a"
             ],
             [
              0.8888888888888888,
              "#fdca26"
             ],
             [
              1,
              "#f0f921"
             ]
            ],
            "type": "contour"
           }
          ],
          "contourcarpet": [
           {
            "colorbar": {
             "outlinewidth": 0,
             "ticks": ""
            },
            "type": "contourcarpet"
           }
          ],
          "heatmap": [
           {
            "colorbar": {
             "outlinewidth": 0,
             "ticks": ""
            },
            "colorscale": [
             [
              0,
              "#0d0887"
             ],
             [
              0.1111111111111111,
              "#46039f"
             ],
             [
              0.2222222222222222,
              "#7201a8"
             ],
             [
              0.3333333333333333,
              "#9c179e"
             ],
             [
              0.4444444444444444,
              "#bd3786"
             ],
             [
              0.5555555555555556,
              "#d8576b"
             ],
             [
              0.6666666666666666,
              "#ed7953"
             ],
             [
              0.7777777777777778,
              "#fb9f3a"
             ],
             [
              0.8888888888888888,
              "#fdca26"
             ],
             [
              1,
              "#f0f921"
             ]
            ],
            "type": "heatmap"
           }
          ],
          "heatmapgl": [
           {
            "colorbar": {
             "outlinewidth": 0,
             "ticks": ""
            },
            "colorscale": [
             [
              0,
              "#0d0887"
             ],
             [
              0.1111111111111111,
              "#46039f"
             ],
             [
              0.2222222222222222,
              "#7201a8"
             ],
             [
              0.3333333333333333,
              "#9c179e"
             ],
             [
              0.4444444444444444,
              "#bd3786"
             ],
             [
              0.5555555555555556,
              "#d8576b"
             ],
             [
              0.6666666666666666,
              "#ed7953"
             ],
             [
              0.7777777777777778,
              "#fb9f3a"
             ],
             [
              0.8888888888888888,
              "#fdca26"
             ],
             [
              1,
              "#f0f921"
             ]
            ],
            "type": "heatmapgl"
           }
          ],
          "histogram": [
           {
            "marker": {
             "pattern": {
              "fillmode": "overlay",
              "size": 10,
              "solidity": 0.2
             }
            },
            "type": "histogram"
           }
          ],
          "histogram2d": [
           {
            "colorbar": {
             "outlinewidth": 0,
             "ticks": ""
            },
            "colorscale": [
             [
              0,
              "#0d0887"
             ],
             [
              0.1111111111111111,
              "#46039f"
             ],
             [
              0.2222222222222222,
              "#7201a8"
             ],
             [
              0.3333333333333333,
              "#9c179e"
             ],
             [
              0.4444444444444444,
              "#bd3786"
             ],
             [
              0.5555555555555556,
              "#d8576b"
             ],
             [
              0.6666666666666666,
              "#ed7953"
             ],
             [
              0.7777777777777778,
              "#fb9f3a"
             ],
             [
              0.8888888888888888,
              "#fdca26"
             ],
             [
              1,
              "#f0f921"
             ]
            ],
            "type": "histogram2d"
           }
          ],
          "histogram2dcontour": [
           {
            "colorbar": {
             "outlinewidth": 0,
             "ticks": ""
            },
            "colorscale": [
             [
              0,
              "#0d0887"
             ],
             [
              0.1111111111111111,
              "#46039f"
             ],
             [
              0.2222222222222222,
              "#7201a8"
             ],
             [
              0.3333333333333333,
              "#9c179e"
             ],
             [
              0.4444444444444444,
              "#bd3786"
             ],
             [
              0.5555555555555556,
              "#d8576b"
             ],
             [
              0.6666666666666666,
              "#ed7953"
             ],
             [
              0.7777777777777778,
              "#fb9f3a"
             ],
             [
              0.8888888888888888,
              "#fdca26"
             ],
             [
              1,
              "#f0f921"
             ]
            ],
            "type": "histogram2dcontour"
           }
          ],
          "mesh3d": [
           {
            "colorbar": {
             "outlinewidth": 0,
             "ticks": ""
            },
            "type": "mesh3d"
           }
          ],
          "parcoords": [
           {
            "line": {
             "colorbar": {
              "outlinewidth": 0,
              "ticks": ""
             }
            },
            "type": "parcoords"
           }
          ],
          "pie": [
           {
            "automargin": true,
            "type": "pie"
           }
          ],
          "scatter": [
           {
            "fillpattern": {
             "fillmode": "overlay",
             "size": 10,
             "solidity": 0.2
            },
            "type": "scatter"
           }
          ],
          "scatter3d": [
           {
            "line": {
             "colorbar": {
              "outlinewidth": 0,
              "ticks": ""
             }
            },
            "marker": {
             "colorbar": {
              "outlinewidth": 0,
              "ticks": ""
             }
            },
            "type": "scatter3d"
           }
          ],
          "scattercarpet": [
           {
            "marker": {
             "colorbar": {
              "outlinewidth": 0,
              "ticks": ""
             }
            },
            "type": "scattercarpet"
           }
          ],
          "scattergeo": [
           {
            "marker": {
             "colorbar": {
              "outlinewidth": 0,
              "ticks": ""
             }
            },
            "type": "scattergeo"
           }
          ],
          "scattergl": [
           {
            "marker": {
             "colorbar": {
              "outlinewidth": 0,
              "ticks": ""
             }
            },
            "type": "scattergl"
           }
          ],
          "scattermapbox": [
           {
            "marker": {
             "colorbar": {
              "outlinewidth": 0,
              "ticks": ""
             }
            },
            "type": "scattermapbox"
           }
          ],
          "scatterpolar": [
           {
            "marker": {
             "colorbar": {
              "outlinewidth": 0,
              "ticks": ""
             }
            },
            "type": "scatterpolar"
           }
          ],
          "scatterpolargl": [
           {
            "marker": {
             "colorbar": {
              "outlinewidth": 0,
              "ticks": ""
             }
            },
            "type": "scatterpolargl"
           }
          ],
          "scatterternary": [
           {
            "marker": {
             "colorbar": {
              "outlinewidth": 0,
              "ticks": ""
             }
            },
            "type": "scatterternary"
           }
          ],
          "surface": [
           {
            "colorbar": {
             "outlinewidth": 0,
             "ticks": ""
            },
            "colorscale": [
             [
              0,
              "#0d0887"
             ],
             [
              0.1111111111111111,
              "#46039f"
             ],
             [
              0.2222222222222222,
              "#7201a8"
             ],
             [
              0.3333333333333333,
              "#9c179e"
             ],
             [
              0.4444444444444444,
              "#bd3786"
             ],
             [
              0.5555555555555556,
              "#d8576b"
             ],
             [
              0.6666666666666666,
              "#ed7953"
             ],
             [
              0.7777777777777778,
              "#fb9f3a"
             ],
             [
              0.8888888888888888,
              "#fdca26"
             ],
             [
              1,
              "#f0f921"
             ]
            ],
            "type": "surface"
           }
          ],
          "table": [
           {
            "cells": {
             "fill": {
              "color": "#EBF0F8"
             },
             "line": {
              "color": "white"
             }
            },
            "header": {
             "fill": {
              "color": "#C8D4E3"
             },
             "line": {
              "color": "white"
             }
            },
            "type": "table"
           }
          ]
         },
         "layout": {
          "annotationdefaults": {
           "arrowcolor": "#2a3f5f",
           "arrowhead": 0,
           "arrowwidth": 1
          },
          "autotypenumbers": "strict",
          "coloraxis": {
           "colorbar": {
            "outlinewidth": 0,
            "ticks": ""
           }
          },
          "colorscale": {
           "diverging": [
            [
             0,
             "#8e0152"
            ],
            [
             0.1,
             "#c51b7d"
            ],
            [
             0.2,
             "#de77ae"
            ],
            [
             0.3,
             "#f1b6da"
            ],
            [
             0.4,
             "#fde0ef"
            ],
            [
             0.5,
             "#f7f7f7"
            ],
            [
             0.6,
             "#e6f5d0"
            ],
            [
             0.7,
             "#b8e186"
            ],
            [
             0.8,
             "#7fbc41"
            ],
            [
             0.9,
             "#4d9221"
            ],
            [
             1,
             "#276419"
            ]
           ],
           "sequential": [
            [
             0,
             "#0d0887"
            ],
            [
             0.1111111111111111,
             "#46039f"
            ],
            [
             0.2222222222222222,
             "#7201a8"
            ],
            [
             0.3333333333333333,
             "#9c179e"
            ],
            [
             0.4444444444444444,
             "#bd3786"
            ],
            [
             0.5555555555555556,
             "#d8576b"
            ],
            [
             0.6666666666666666,
             "#ed7953"
            ],
            [
             0.7777777777777778,
             "#fb9f3a"
            ],
            [
             0.8888888888888888,
             "#fdca26"
            ],
            [
             1,
             "#f0f921"
            ]
           ],
           "sequentialminus": [
            [
             0,
             "#0d0887"
            ],
            [
             0.1111111111111111,
             "#46039f"
            ],
            [
             0.2222222222222222,
             "#7201a8"
            ],
            [
             0.3333333333333333,
             "#9c179e"
            ],
            [
             0.4444444444444444,
             "#bd3786"
            ],
            [
             0.5555555555555556,
             "#d8576b"
            ],
            [
             0.6666666666666666,
             "#ed7953"
            ],
            [
             0.7777777777777778,
             "#fb9f3a"
            ],
            [
             0.8888888888888888,
             "#fdca26"
            ],
            [
             1,
             "#f0f921"
            ]
           ]
          },
          "colorway": [
           "#636efa",
           "#EF553B",
           "#00cc96",
           "#ab63fa",
           "#FFA15A",
           "#19d3f3",
           "#FF6692",
           "#B6E880",
           "#FF97FF",
           "#FECB52"
          ],
          "font": {
           "color": "#2a3f5f"
          },
          "geo": {
           "bgcolor": "white",
           "lakecolor": "white",
           "landcolor": "#E5ECF6",
           "showlakes": true,
           "showland": true,
           "subunitcolor": "white"
          },
          "hoverlabel": {
           "align": "left"
          },
          "hovermode": "closest",
          "mapbox": {
           "style": "light"
          },
          "paper_bgcolor": "white",
          "plot_bgcolor": "#E5ECF6",
          "polar": {
           "angularaxis": {
            "gridcolor": "white",
            "linecolor": "white",
            "ticks": ""
           },
           "bgcolor": "#E5ECF6",
           "radialaxis": {
            "gridcolor": "white",
            "linecolor": "white",
            "ticks": ""
           }
          },
          "scene": {
           "xaxis": {
            "backgroundcolor": "#E5ECF6",
            "gridcolor": "white",
            "gridwidth": 2,
            "linecolor": "white",
            "showbackground": true,
            "ticks": "",
            "zerolinecolor": "white"
           },
           "yaxis": {
            "backgroundcolor": "#E5ECF6",
            "gridcolor": "white",
            "gridwidth": 2,
            "linecolor": "white",
            "showbackground": true,
            "ticks": "",
            "zerolinecolor": "white"
           },
           "zaxis": {
            "backgroundcolor": "#E5ECF6",
            "gridcolor": "white",
            "gridwidth": 2,
            "linecolor": "white",
            "showbackground": true,
            "ticks": "",
            "zerolinecolor": "white"
           }
          },
          "shapedefaults": {
           "line": {
            "color": "#2a3f5f"
           }
          },
          "ternary": {
           "aaxis": {
            "gridcolor": "white",
            "linecolor": "white",
            "ticks": ""
           },
           "baxis": {
            "gridcolor": "white",
            "linecolor": "white",
            "ticks": ""
           },
           "bgcolor": "#E5ECF6",
           "caxis": {
            "gridcolor": "white",
            "linecolor": "white",
            "ticks": ""
           }
          },
          "title": {
           "x": 0.05
          },
          "xaxis": {
           "automargin": true,
           "gridcolor": "white",
           "linecolor": "white",
           "ticks": "",
           "title": {
            "standoff": 15
           },
           "zerolinecolor": "white",
           "zerolinewidth": 2
          },
          "yaxis": {
           "automargin": true,
           "gridcolor": "white",
           "linecolor": "white",
           "ticks": "",
           "title": {
            "standoff": 15
           },
           "zerolinecolor": "white",
           "zerolinewidth": 2
          }
         }
        },
        "title": {
         "text": "Relación entre x e y"
        },
        "xaxis": {
         "anchor": "y",
         "domain": [
          0,
          1
         ],
         "title": {
          "text": "x"
         }
        },
        "yaxis": {
         "anchor": "x",
         "domain": [
          0,
          1
         ],
         "title": {
          "text": "y"
         }
        }
       }
      }
     },
     "metadata": {},
     "output_type": "display_data"
    }
   ],
   "source": [
    "import numpy as np \n",
    "import pandas as pd \n",
    "import plotly.express as px\n",
    "# datos\n",
    "X = np.array([])\n",
    "\n",
    "Y = np.array([])\n",
    "\n",
    "# tabla de datos\n",
    "tabla = pd.DataFrame({'x':X, 'y':Y})\n",
    "#trazo de diagrama de dispersión o scatter\n",
    "fig = px.scatter(tabla,x = tabla.keys()[0], y = tabla.keys()[1], title='Relación entre x e y')\n",
    "\n",
    "fig.show()\n",
    "\n",
    "#fig.write_html('relacion_entre_x_e_y.html', auto_open=True)"
   ]
  },
  {
   "cell_type": "markdown",
   "id": "740f3401",
   "metadata": {
    "slideshow": {
     "slide_type": "slide"
    }
   },
   "source": [
    "# Componente de manejo de calculadora Casio asociado al objetivo de aprendizaje de esta clase"
   ]
  },
  {
   "cell_type": "markdown",
   "id": "8eecb2d9",
   "metadata": {
    "slideshow": {
     "slide_type": "slide"
    }
   },
   "source": [
    "## Descripción de la calculadora Casio  \n",
    "\n"
   ]
  },
  {
   "cell_type": "code",
   "execution_count": null,
   "id": "3cd72835",
   "metadata": {
    "slideshow": {
     "slide_type": "slide"
    }
   },
   "outputs": [],
   "source": []
  },
  {
   "cell_type": "code",
   "execution_count": null,
   "id": "d8a111c4",
   "metadata": {
    "slideshow": {
     "slide_type": "slide"
    }
   },
   "outputs": [],
   "source": []
  },
  {
   "cell_type": "markdown",
   "id": "fccb447c",
   "metadata": {
    "slideshow": {
     "slide_type": "slide"
    }
   },
   "source": [
    "# Tareas para realizar en clase"
   ]
  },
  {
   "cell_type": "markdown",
   "id": "e5c48edf",
   "metadata": {
    "slideshow": {
     "slide_type": "slide"
    }
   },
   "source": [
    "* Modelación matemática \n",
    "* Trabajo en equipos"
   ]
  },
  {
   "cell_type": "code",
   "execution_count": 5,
   "metadata": {},
   "outputs": [
    {
     "name": "stdout",
     "output_type": "stream",
     "text": [
      "Tarea asignada:  tarea_PreCálculo_Stewart_Página_56_Sección_1.5.csv\n"
     ]
    },
    {
     "data": {
      "text/html": [
       "<div>\n",
       "<style scoped>\n",
       "    .dataframe tbody tr th:only-of-type {\n",
       "        vertical-align: middle;\n",
       "    }\n",
       "\n",
       "    .dataframe tbody tr th {\n",
       "        vertical-align: top;\n",
       "    }\n",
       "\n",
       "    .dataframe thead th {\n",
       "        text-align: right;\n",
       "    }\n",
       "</style>\n",
       "<table border=\"1\" class=\"dataframe\">\n",
       "  <thead>\n",
       "    <tr style=\"text-align: right;\">\n",
       "      <th></th>\n",
       "      <th>Student</th>\n",
       "      <th>Exer1</th>\n",
       "    </tr>\n",
       "  </thead>\n",
       "  <tbody>\n",
       "    <tr>\n",
       "      <th>0</th>\n",
       "      <td>ARIAS ARRIETA FREDY</td>\n",
       "      <td>110</td>\n",
       "    </tr>\n",
       "    <tr>\n",
       "      <th>1</th>\n",
       "      <td>BOHORQUEZ NAVARRO DINA ESTELA</td>\n",
       "      <td>15</td>\n",
       "    </tr>\n",
       "    <tr>\n",
       "      <th>2</th>\n",
       "      <td>CARDONA RAMIREZ SARA PAULINA</td>\n",
       "      <td>129</td>\n",
       "    </tr>\n",
       "    <tr>\n",
       "      <th>3</th>\n",
       "      <td>CASTANEDA REINOZA DIEGO</td>\n",
       "      <td>98</td>\n",
       "    </tr>\n",
       "    <tr>\n",
       "      <th>4</th>\n",
       "      <td>ESPEJO PEREZ LUIS DAVID</td>\n",
       "      <td>89</td>\n",
       "    </tr>\n",
       "    <tr>\n",
       "      <th>5</th>\n",
       "      <td>HERNANDEZ GUERRA FABIAN ALEJANDRO</td>\n",
       "      <td>133</td>\n",
       "    </tr>\n",
       "    <tr>\n",
       "      <th>6</th>\n",
       "      <td>LUCAS FLOREZ NAYELIS NATALIA</td>\n",
       "      <td>55</td>\n",
       "    </tr>\n",
       "    <tr>\n",
       "      <th>7</th>\n",
       "      <td>MARTINEZ BALLESTEROS VICTOR HUGO</td>\n",
       "      <td>57</td>\n",
       "    </tr>\n",
       "    <tr>\n",
       "      <th>8</th>\n",
       "      <td>MARTINEZ MENDOZA JAIR MIGUEL</td>\n",
       "      <td>63</td>\n",
       "    </tr>\n",
       "    <tr>\n",
       "      <th>9</th>\n",
       "      <td>OCHOA ARRIETA JUAN ANDRES</td>\n",
       "      <td>134</td>\n",
       "    </tr>\n",
       "    <tr>\n",
       "      <th>10</th>\n",
       "      <td>RODRIGUEZ VERONA CARLOS MARIO</td>\n",
       "      <td>12</td>\n",
       "    </tr>\n",
       "    <tr>\n",
       "      <th>11</th>\n",
       "      <td>RUIZ CARDENAS LUIS MARIO</td>\n",
       "      <td>107</td>\n",
       "    </tr>\n",
       "    <tr>\n",
       "      <th>12</th>\n",
       "      <td>SIERRA OLIVEROS OMAR DARIO</td>\n",
       "      <td>24</td>\n",
       "    </tr>\n",
       "    <tr>\n",
       "      <th>13</th>\n",
       "      <td>SUAREZ RESTREPO MARIA ANGELICA</td>\n",
       "      <td>40</td>\n",
       "    </tr>\n",
       "    <tr>\n",
       "      <th>14</th>\n",
       "      <td>TAMAYO DE LA OSSA SARA</td>\n",
       "      <td>93</td>\n",
       "    </tr>\n",
       "    <tr>\n",
       "      <th>15</th>\n",
       "      <td>el profesor Marco</td>\n",
       "      <td>15</td>\n",
       "    </tr>\n",
       "  </tbody>\n",
       "</table>\n",
       "</div>"
      ],
      "text/plain": [
       "                              Student  Exer1\n",
       "0                 ARIAS ARRIETA FREDY    110\n",
       "1       BOHORQUEZ NAVARRO DINA ESTELA     15\n",
       "2        CARDONA RAMIREZ SARA PAULINA    129\n",
       "3             CASTANEDA REINOZA DIEGO     98\n",
       "4             ESPEJO PEREZ LUIS DAVID     89\n",
       "5   HERNANDEZ GUERRA FABIAN ALEJANDRO    133\n",
       "6        LUCAS FLOREZ NAYELIS NATALIA     55\n",
       "7    MARTINEZ BALLESTEROS VICTOR HUGO     57\n",
       "8        MARTINEZ MENDOZA JAIR MIGUEL     63\n",
       "9           OCHOA ARRIETA JUAN ANDRES    134\n",
       "10      RODRIGUEZ VERONA CARLOS MARIO     12\n",
       "11           RUIZ CARDENAS LUIS MARIO    107\n",
       "12         SIERRA OLIVEROS OMAR DARIO     24\n",
       "13     SUAREZ RESTREPO MARIA ANGELICA     40\n",
       "14             TAMAYO DE LA OSSA SARA     93\n",
       "15                  el profesor Marco     15"
      ]
     },
     "execution_count": 5,
     "metadata": {},
     "output_type": "execute_result"
    }
   ],
   "source": [
    "# asignación de ejercicios de un seccion del texto guía\n",
    "\n",
    "# numpy.random.choice() obten la documentación de esta función en: \n",
    "# https://numpy.org/doc/stable/reference/random/generated/numpy.random.choice.html\n",
    "\n",
    "import pandas as pd\n",
    "import numpy as np\n",
    "import requests\n",
    "np.random.seed(42)  # establecer semilla aleatoria para hacer los resultados reproducibles\n",
    "\n",
    "\n",
    "\n",
    "grupo_estudiantes = 'seminario_didactica_aritmetica'\n",
    "nombre_texto_guia = 'PreCálculo_Stewart'\n",
    "pagina_y_seccion = 'Página_56_Sección_1.5'\n",
    "numero_ejercicios_taller = 141\n",
    "numero_de_ejercicios_asignados = 1\n",
    "\n",
    "\n",
    "# Descargar la lista de  estudiantes\n",
    "students_url = \"https://raw.githubusercontent.com/marco-canas/groups_list/main/\" + grupo_estudiantes + \".csv\"\n",
    "exercises = list(range(1, numero_ejercicios_taller))  \n",
    "\n",
    "students_data = pd.read_csv(students_url)\n",
    "\n",
    "# Crear una lista para almacenar las asignaciones\n",
    "assignments = []\n",
    "\n",
    "# Asignar ejercicios aleatorios a cada estudiante\n",
    "for index, student in students_data.iterrows():\n",
    "    # Seleccionar 5 ejercicios aleatorios sin repetición\n",
    "    random_exercises = np.random.choice(exercises, numero_de_ejercicios_asignados, replace = False)+ 1 \n",
    "    assignments.append([students_data[\"Nombre\"][index], *random_exercises])  # Agregar asignación a la lista\n",
    "\n",
    "# Crear un DataFrame con las asignaciones\n",
    "columns = [\"Student\"] + [ \"Exer\" + str(i+1) for i in range(numero_de_ejercicios_asignados)]\n",
    "assignment_df = pd.DataFrame(assignments, columns=columns)\n",
    "\n",
    "# Guardar el DataFrame en un archivo CSV\n",
    "assignment_csv = \"tarea\" + \"_\" + nombre_texto_guia + \"_\"+ pagina_y_seccion + \".csv\"\n",
    "assignment_df.to_csv(assignment_csv, index=False)\n",
    "\n",
    "print(\"Tarea asignada: \", assignment_csv)\n",
    "assignment_df"
   ]
  },
  {
   "cell_type": "markdown",
   "id": "8b6b0112",
   "metadata": {
    "slideshow": {
     "slide_type": "slide"
    }
   },
   "source": [
    "# Tareas para realizar después de la realización de la clase"
   ]
  },
  {
   "cell_type": "markdown",
   "id": "947460e3",
   "metadata": {
    "slideshow": {
     "slide_type": "slide"
    }
   },
   "source": [
    "* Actividades de memorización: \n",
    "  - escucha reiterada de grabaciones de formulas y resultados científicos. \n",
    "  - relectura de notas. \n",
    "  - ejercicios de mayor complejidad.\n",
    "\n",
    "\n",
    "### No olvide asignar las tareas a los estudiantes a través de Google Colab y compartiendole el cuaderno de asignación a su correo institucional con fecha de entrega. [Google Colab](https://colab.research.google.com/?hl=es)   \n",
    "  "
   ]
  },
  {
   "cell_type": "markdown",
   "id": "d34defb9",
   "metadata": {
    "slideshow": {
     "slide_type": "slide"
    }
   },
   "source": [
    "## Asignación individual de tareas semanales "
   ]
  },
  {
   "cell_type": "code",
   "execution_count": 6,
   "id": "0406f442",
   "metadata": {
    "slideshow": {
     "slide_type": "slide"
    }
   },
   "outputs": [
    {
     "name": "stdout",
     "output_type": "stream",
     "text": [
      "Tarea asignada:  tarea_PreCálculo_Stewart_Página_56_Sección_1.5.csv\n"
     ]
    },
    {
     "data": {
      "text/html": [
       "<div>\n",
       "<style scoped>\n",
       "    .dataframe tbody tr th:only-of-type {\n",
       "        vertical-align: middle;\n",
       "    }\n",
       "\n",
       "    .dataframe tbody tr th {\n",
       "        vertical-align: top;\n",
       "    }\n",
       "\n",
       "    .dataframe thead th {\n",
       "        text-align: right;\n",
       "    }\n",
       "</style>\n",
       "<table border=\"1\" class=\"dataframe\">\n",
       "  <thead>\n",
       "    <tr style=\"text-align: right;\">\n",
       "      <th></th>\n",
       "      <th>Student</th>\n",
       "      <th>Exer1</th>\n",
       "      <th>Exer2</th>\n",
       "      <th>Exer3</th>\n",
       "      <th>Exer4</th>\n",
       "      <th>Exer5</th>\n",
       "      <th>Exer6</th>\n",
       "      <th>Exer7</th>\n",
       "      <th>Exer8</th>\n",
       "      <th>Exer9</th>\n",
       "      <th>Exer10</th>\n",
       "    </tr>\n",
       "  </thead>\n",
       "  <tbody>\n",
       "    <tr>\n",
       "      <th>0</th>\n",
       "      <td>ARIAS ARRIETA FREDY</td>\n",
       "      <td>110</td>\n",
       "      <td>69</td>\n",
       "      <td>33</td>\n",
       "      <td>121</td>\n",
       "      <td>44</td>\n",
       "      <td>14</td>\n",
       "      <td>83</td>\n",
       "      <td>71</td>\n",
       "      <td>106</td>\n",
       "      <td>111</td>\n",
       "    </tr>\n",
       "    <tr>\n",
       "      <th>1</th>\n",
       "      <td>BOHORQUEZ NAVARRO DINA ESTELA</td>\n",
       "      <td>15</td>\n",
       "      <td>121</td>\n",
       "      <td>141</td>\n",
       "      <td>22</td>\n",
       "      <td>47</td>\n",
       "      <td>101</td>\n",
       "      <td>49</td>\n",
       "      <td>117</td>\n",
       "      <td>99</td>\n",
       "      <td>88</td>\n",
       "    </tr>\n",
       "    <tr>\n",
       "      <th>2</th>\n",
       "      <td>CARDONA RAMIREZ SARA PAULINA</td>\n",
       "      <td>129</td>\n",
       "      <td>6</td>\n",
       "      <td>35</td>\n",
       "      <td>63</td>\n",
       "      <td>95</td>\n",
       "      <td>86</td>\n",
       "      <td>53</td>\n",
       "      <td>96</td>\n",
       "      <td>12</td>\n",
       "      <td>128</td>\n",
       "    </tr>\n",
       "    <tr>\n",
       "      <th>3</th>\n",
       "      <td>CASTANEDA REINOZA DIEGO</td>\n",
       "      <td>98</td>\n",
       "      <td>135</td>\n",
       "      <td>57</td>\n",
       "      <td>39</td>\n",
       "      <td>72</td>\n",
       "      <td>45</td>\n",
       "      <td>46</td>\n",
       "      <td>83</td>\n",
       "      <td>15</td>\n",
       "      <td>16</td>\n",
       "    </tr>\n",
       "    <tr>\n",
       "      <th>4</th>\n",
       "      <td>ESPEJO PEREZ LUIS DAVID</td>\n",
       "      <td>89</td>\n",
       "      <td>35</td>\n",
       "      <td>107</td>\n",
       "      <td>119</td>\n",
       "      <td>74</td>\n",
       "      <td>99</td>\n",
       "      <td>129</td>\n",
       "      <td>133</td>\n",
       "      <td>49</td>\n",
       "      <td>126</td>\n",
       "    </tr>\n",
       "    <tr>\n",
       "      <th>5</th>\n",
       "      <td>HERNANDEZ GUERRA FABIAN ALEJANDRO</td>\n",
       "      <td>133</td>\n",
       "      <td>71</td>\n",
       "      <td>106</td>\n",
       "      <td>129</td>\n",
       "      <td>121</td>\n",
       "      <td>65</td>\n",
       "      <td>20</td>\n",
       "      <td>76</td>\n",
       "      <td>138</td>\n",
       "      <td>94</td>\n",
       "    </tr>\n",
       "    <tr>\n",
       "      <th>6</th>\n",
       "      <td>LUCAS FLOREZ NAYELIS NATALIA</td>\n",
       "      <td>55</td>\n",
       "      <td>117</td>\n",
       "      <td>17</td>\n",
       "      <td>36</td>\n",
       "      <td>96</td>\n",
       "      <td>132</td>\n",
       "      <td>115</td>\n",
       "      <td>107</td>\n",
       "      <td>72</td>\n",
       "      <td>84</td>\n",
       "    </tr>\n",
       "    <tr>\n",
       "      <th>7</th>\n",
       "      <td>MARTINEZ BALLESTEROS VICTOR HUGO</td>\n",
       "      <td>57</td>\n",
       "      <td>103</td>\n",
       "      <td>60</td>\n",
       "      <td>20</td>\n",
       "      <td>93</td>\n",
       "      <td>81</td>\n",
       "      <td>108</td>\n",
       "      <td>62</td>\n",
       "      <td>130</td>\n",
       "      <td>116</td>\n",
       "    </tr>\n",
       "    <tr>\n",
       "      <th>8</th>\n",
       "      <td>MARTINEZ MENDOZA JAIR MIGUEL</td>\n",
       "      <td>63</td>\n",
       "      <td>96</td>\n",
       "      <td>45</td>\n",
       "      <td>133</td>\n",
       "      <td>95</td>\n",
       "      <td>129</td>\n",
       "      <td>6</td>\n",
       "      <td>28</td>\n",
       "      <td>127</td>\n",
       "      <td>117</td>\n",
       "    </tr>\n",
       "    <tr>\n",
       "      <th>9</th>\n",
       "      <td>OCHOA ARRIETA JUAN ANDRES</td>\n",
       "      <td>134</td>\n",
       "      <td>81</td>\n",
       "      <td>14</td>\n",
       "      <td>51</td>\n",
       "      <td>128</td>\n",
       "      <td>136</td>\n",
       "      <td>62</td>\n",
       "      <td>44</td>\n",
       "      <td>80</td>\n",
       "      <td>58</td>\n",
       "    </tr>\n",
       "    <tr>\n",
       "      <th>10</th>\n",
       "      <td>RODRIGUEZ VERONA CARLOS MARIO</td>\n",
       "      <td>12</td>\n",
       "      <td>65</td>\n",
       "      <td>7</td>\n",
       "      <td>39</td>\n",
       "      <td>116</td>\n",
       "      <td>28</td>\n",
       "      <td>55</td>\n",
       "      <td>51</td>\n",
       "      <td>134</td>\n",
       "      <td>113</td>\n",
       "    </tr>\n",
       "    <tr>\n",
       "      <th>11</th>\n",
       "      <td>RUIZ CARDENAS LUIS MARIO</td>\n",
       "      <td>107</td>\n",
       "      <td>54</td>\n",
       "      <td>56</td>\n",
       "      <td>137</td>\n",
       "      <td>102</td>\n",
       "      <td>79</td>\n",
       "      <td>103</td>\n",
       "      <td>9</td>\n",
       "      <td>16</td>\n",
       "      <td>131</td>\n",
       "    </tr>\n",
       "    <tr>\n",
       "      <th>12</th>\n",
       "      <td>SIERRA OLIVEROS OMAR DARIO</td>\n",
       "      <td>24</td>\n",
       "      <td>6</td>\n",
       "      <td>110</td>\n",
       "      <td>89</td>\n",
       "      <td>126</td>\n",
       "      <td>11</td>\n",
       "      <td>42</td>\n",
       "      <td>114</td>\n",
       "      <td>138</td>\n",
       "      <td>140</td>\n",
       "    </tr>\n",
       "    <tr>\n",
       "      <th>13</th>\n",
       "      <td>SUAREZ RESTREPO MARIA ANGELICA</td>\n",
       "      <td>40</td>\n",
       "      <td>24</td>\n",
       "      <td>17</td>\n",
       "      <td>12</td>\n",
       "      <td>137</td>\n",
       "      <td>18</td>\n",
       "      <td>53</td>\n",
       "      <td>110</td>\n",
       "      <td>6</td>\n",
       "      <td>41</td>\n",
       "    </tr>\n",
       "    <tr>\n",
       "      <th>14</th>\n",
       "      <td>TAMAYO DE LA OSSA SARA</td>\n",
       "      <td>93</td>\n",
       "      <td>8</td>\n",
       "      <td>4</td>\n",
       "      <td>91</td>\n",
       "      <td>42</td>\n",
       "      <td>115</td>\n",
       "      <td>141</td>\n",
       "      <td>63</td>\n",
       "      <td>41</td>\n",
       "      <td>83</td>\n",
       "    </tr>\n",
       "    <tr>\n",
       "      <th>15</th>\n",
       "      <td>el profesor Marco</td>\n",
       "      <td>15</td>\n",
       "      <td>7</td>\n",
       "      <td>85</td>\n",
       "      <td>78</td>\n",
       "      <td>42</td>\n",
       "      <td>41</td>\n",
       "      <td>127</td>\n",
       "      <td>33</td>\n",
       "      <td>96</td>\n",
       "      <td>72</td>\n",
       "    </tr>\n",
       "  </tbody>\n",
       "</table>\n",
       "</div>"
      ],
      "text/plain": [
       "                              Student  Exer1  Exer2  Exer3  Exer4  Exer5  \\\n",
       "0                 ARIAS ARRIETA FREDY    110     69     33    121     44   \n",
       "1       BOHORQUEZ NAVARRO DINA ESTELA     15    121    141     22     47   \n",
       "2        CARDONA RAMIREZ SARA PAULINA    129      6     35     63     95   \n",
       "3             CASTANEDA REINOZA DIEGO     98    135     57     39     72   \n",
       "4             ESPEJO PEREZ LUIS DAVID     89     35    107    119     74   \n",
       "5   HERNANDEZ GUERRA FABIAN ALEJANDRO    133     71    106    129    121   \n",
       "6        LUCAS FLOREZ NAYELIS NATALIA     55    117     17     36     96   \n",
       "7    MARTINEZ BALLESTEROS VICTOR HUGO     57    103     60     20     93   \n",
       "8        MARTINEZ MENDOZA JAIR MIGUEL     63     96     45    133     95   \n",
       "9           OCHOA ARRIETA JUAN ANDRES    134     81     14     51    128   \n",
       "10      RODRIGUEZ VERONA CARLOS MARIO     12     65      7     39    116   \n",
       "11           RUIZ CARDENAS LUIS MARIO    107     54     56    137    102   \n",
       "12         SIERRA OLIVEROS OMAR DARIO     24      6    110     89    126   \n",
       "13     SUAREZ RESTREPO MARIA ANGELICA     40     24     17     12    137   \n",
       "14             TAMAYO DE LA OSSA SARA     93      8      4     91     42   \n",
       "15                  el profesor Marco     15      7     85     78     42   \n",
       "\n",
       "    Exer6  Exer7  Exer8  Exer9  Exer10  \n",
       "0      14     83     71    106     111  \n",
       "1     101     49    117     99      88  \n",
       "2      86     53     96     12     128  \n",
       "3      45     46     83     15      16  \n",
       "4      99    129    133     49     126  \n",
       "5      65     20     76    138      94  \n",
       "6     132    115    107     72      84  \n",
       "7      81    108     62    130     116  \n",
       "8     129      6     28    127     117  \n",
       "9     136     62     44     80      58  \n",
       "10     28     55     51    134     113  \n",
       "11     79    103      9     16     131  \n",
       "12     11     42    114    138     140  \n",
       "13     18     53    110      6      41  \n",
       "14    115    141     63     41      83  \n",
       "15     41    127     33     96      72  "
      ]
     },
     "execution_count": 6,
     "metadata": {},
     "output_type": "execute_result"
    }
   ],
   "source": [
    "# asignación de ejercicios de un seccion del texto guía\n",
    "\n",
    "# numpy.random.choice() obten la documentación de esta función en: \n",
    "# https://numpy.org/doc/stable/reference/random/generated/numpy.random.choice.html\n",
    "\n",
    "import pandas as pd\n",
    "import numpy as np\n",
    "import requests\n",
    "np.random.seed(42)  # establecer semilla aleatoria para hacer los resultados reproducibles\n",
    "\n",
    "\n",
    "\n",
    "grupo_estudiantes = 'seminario_didactica_aritmetica'\n",
    "nombre_texto_guia = 'PreCálculo_Stewart'\n",
    "pagina_y_seccion = 'Página_56_Sección_1.5'\n",
    "numero_ejercicios_taller = 141\n",
    "numero_de_ejercicios_asignados = 10\n",
    "\n",
    "\n",
    "# Descargar la lista de  estudiantes\n",
    "students_url = \"https://raw.githubusercontent.com/marco-canas/groups_list/main/\" + grupo_estudiantes + \".csv\"\n",
    "exercises = list(range(1, numero_ejercicios_taller))  \n",
    "\n",
    "students_data = pd.read_csv(students_url)\n",
    "\n",
    "# Crear una lista para almacenar las asignaciones\n",
    "assignments = []\n",
    "\n",
    "# Asignar ejercicios aleatorios a cada estudiante\n",
    "for index, student in students_data.iterrows():\n",
    "    # Seleccionar 5 ejercicios aleatorios sin repetición\n",
    "    random_exercises = np.random.choice(exercises, numero_de_ejercicios_asignados, replace = False)+ 1 \n",
    "    assignments.append([students_data[\"Nombre\"][index], *random_exercises])  # Agregar asignación a la lista\n",
    "\n",
    "# Crear un DataFrame con las asignaciones\n",
    "columns = [\"Student\"] + [ \"Exer\" + str(i+1) for i in range(numero_de_ejercicios_asignados)]\n",
    "assignment_df = pd.DataFrame(assignments, columns=columns)\n",
    "\n",
    "# Guardar el DataFrame en un archivo CSV\n",
    "assignment_csv = \"tarea\" + \"_\" + nombre_texto_guia + \"_\"+ pagina_y_seccion + \".csv\"\n",
    "assignment_df.to_csv(assignment_csv, index=False)\n",
    "\n",
    "print(\"Tarea asignada: \", assignment_csv)\n",
    "assignment_df"
   ]
  },
  {
   "cell_type": "markdown",
   "id": "742281f4",
   "metadata": {},
   "source": [
    "# No olvide la tarea de realizar la foda para autoevaluarse\n",
    "\n",
    "Fortalezas: F  \n",
    "Oportuniudades O:  \n",
    "Debilidades: D:   \n",
    "Amenazas: A:     "
   ]
  },
  {
   "cell_type": "markdown",
   "id": "8d41fe58",
   "metadata": {
    "slideshow": {
     "slide_type": "slide"
    }
   },
   "source": [
    "# Horario de clases del profesor Marco\n",
    "\n",
    "* Miércoles: 8:00 a 12 M: Seminario en didática de la aritmética. \n",
    "\n"
   ]
  },
  {
   "cell_type": "markdown",
   "id": "ae114e14",
   "metadata": {
    "slideshow": {
     "slide_type": "slide"
    }
   },
   "source": [
    "# Horarios de monitoría y asesoría"
   ]
  },
  {
   "cell_type": "markdown",
   "id": "b1db4b6c",
   "metadata": {
    "slideshow": {
     "slide_type": "slide"
    }
   },
   "source": [
    "## Monitor Manuel"
   ]
  },
  {
   "cell_type": "markdown",
   "id": "39559692",
   "metadata": {
    "slideshow": {
     "slide_type": "slide"
    }
   },
   "source": [
    "Martes y jueves de 8 - 12  \n",
    "Miércoles 10 - 12 y de 2 a 4 PM  \n",
    "Sábado: 8 - 12"
   ]
  },
  {
   "cell_type": "markdown",
   "id": "319f2ffa",
   "metadata": {
    "slideshow": {
     "slide_type": "slide"
    }
   },
   "source": [
    "## Grabaciones en audio para fomentar la capacidad de memorizar enunciados de teoremas y resultados científicos y la capacidad de parafrasear estos resultados. Y así desarrollar memoria muscular para los comandos comunes. \n",
    "Se dispondrá de un lugar en Vocaroo para albergar archivos de audio de fomento a la memorización, enunciación y parafraseo de los resultados científicos, propiedades, reglas, etc. \n",
    "\n",
    "[Vocaroo](https://vocaroo.com/)\n",
    "\n"
   ]
  },
  {
   "cell_type": "markdown",
   "id": "564fa59d",
   "metadata": {
    "slideshow": {
     "slide_type": "slide"
    }
   },
   "source": [
    "### Comparta sus cuadernos y videos, evidencias de su aprendizaje [aquí](https://forms.office.com/Pages/ResponsePage.aspx?id=IefhmYRxjkmK_7KtTlPBwkanXIs1i1FEujpsZgO6dXpUMEMwTEZVMzEwVVBPTElWNVg5OVEyWUhMUy4u)"
   ]
  },
  {
   "cell_type": "markdown",
   "id": "1a1a3e41",
   "metadata": {
    "slideshow": {
     "slide_type": "slide"
    }
   },
   "source": []
  },
  {
   "cell_type": "markdown",
   "id": "44be6d93",
   "metadata": {
    "slideshow": {
     "slide_type": "slide"
    }
   },
   "source": [
    "# Vocabulary "
   ]
  },
  {
   "cell_type": "markdown",
   "id": "35e2484a",
   "metadata": {
    "slideshow": {
     "slide_type": "slide"
    }
   },
   "source": [
    "1. \n",
    "2.  \n",
    "3.  \n",
    "4.  \n",
    "5.  "
   ]
  },
  {
   "cell_type": "markdown",
   "id": "94187562",
   "metadata": {},
   "source": [
    "# Colección de verbos irregulares aprendidos\n",
    "\n",
    "|Verbo irregular en presente|en español|Pasado|\n",
    "|---------------------------|----------|------|  \n",
    "|choose|elegir|chose|"
   ]
  },
  {
   "cell_type": "markdown",
   "id": "10bce0d0",
   "metadata": {
    "slideshow": {
     "slide_type": "slide"
    }
   },
   "source": [
    "## Referentes "
   ]
  },
  {
   "cell_type": "markdown",
   "id": "1db3c468",
   "metadata": {
    "slideshow": {
     "slide_type": "slide"
    }
   },
   "source": [
    "* [stewart precálculo](https://udeaeduco-my.sharepoint.com/:b:/g/personal/marco_canas_udea_edu_co/ERHIq62I6qFNrmxy6LZb8ZMBci7kUsyNME1nIh9yCBMJ_w?e=0zMSla)  \n",
    "\n",
    "* [stewart cálculo](https://udeaeduco-my.sharepoint.com/:b:/g/personal/marco_canas_udea_edu_co/EZgXZjAp8QxPqOAim2hs6LcBNPLGjSHf-xwYnUVYkwa04w?e=RZdTCy)  \n",
    "\n",
    "* [larson](https://udeaeduco-my.sharepoint.com/:b:/g/personal/marco_canas_udea_edu_co/ES71ChFeO9ZDhW3TwC5Ijk8BjxUK3Pdqz_fjHxTTFAfIAg?e=VDEjfu)\n",
    "\n",
    "* [uzcategui](https://udeaeduco-my.sharepoint.com/:b:/g/personal/marco_canas_udea_edu_co/ETDikm-lVl1Or8XoEo9oyh0BEti9Zs8le-f0D-dBdtZmbA?e=bBsoyQ)\n",
    "\n",
    "* [Cálculo de Purcell](https://udeaeduco-my.sharepoint.com/:b:/g/personal/marco_canas_udea_edu_co/ES60UB4h-QFFqqRQUFmkpWcBIgoLBJeqTfZjNajWNWSeJA?e=9NxjKJ)\n",
    "\n",
    "* [Recomendación de la UNESCO sobre ciencia abierta](https://unesdoc.unesco.org/ark:/48223/pf0000379949_spa)\n",
    "\n",
    "* [Fórmulas más comunes en latex](https://wiki.geogebra.org/es/C%C3%B3digo_LaTeX_para_las_f%C3%B3rmulas_m%C3%A1s_comunes) \n",
    "\n",
    "* [chatGPT](https://openai.com/blog/chatgpt)  \n",
    "\n",
    "* Géron, A. (2017). Hands-on machine learning with scikit-learn and tensorflow: Concepts. Tools, and Techniques to build intelligent systems.[Geron, Aurelien. Hands on Machine Learning](https://udeaeduco-my.sharepoint.com/:b:/g/personal/marco_canas_udea_edu_co/Ecet27yjQzZIlT1Y_Bc2erkBUhbeYuIe6HG8i1FYZRlZww?e=dlvZ4v)  \n",
    "\n",
    "* McKinney, W. (2012). Python for data analysis: Data wrangling with Pandas, NumPy, and IPython. \" O'Reilly Media, Inc.\".[Wes Mackinney. ](https://udeaeduco-my.sharepoint.com/:b:/g/personal/marco_canas_udea_edu_co/EVbi5JIeBl9ErbiUnZfGe8YBhNTnZ8sxTK5hjIOPK4UpGw?e=fFclah)  \n",
    "\n",
    "* [Ledezma, C., Font, V., & Sala-Sebastià, G. MODELIZACIÓN MATEMÁTICA DESDE UNA ARTICULACIÓN TEÓRICA ENTRE LOS ENFOQUES COGNITIVO Y ONTO-SEMIÓTICO.](https://www.researchgate.net/profile/Carlos-Ledezma-4/publication/376076920_Modelizacion_matematica_desde_una_articulacion_teorica_entre_los_enfoques_cognitivo_y_onto-semiotico/links/6568cb363fa26f66f43b292a/Modelizacion-matematica-desde-una-articulacion-teorica-entre-los-enfoques-cognitivo-y-onto-semiotico.pdf)"
   ]
  },
  {
   "cell_type": "markdown",
   "id": "45c59aa9",
   "metadata": {},
   "source": [
    "[Autoevaluemonos para hacernos concientes de nuestro aprendizaje y en lo que debemos enfocarnos en mejorar]()  \n",
    "\n",
    "Aquí tienes una lista de preguntas de selección múltiple para una autoevaluación en un curso de cálculo con un enfoque pedagógico de aula invertida. Estas preguntas abarcan los objetivos de desarrollo del pensamiento variacional, pensamiento computacional a través de Python, capacidad de comunicación científica con LaTeX, Git y el uso de cuadernos Jupyter, así como la promoción de políticas de ciencia libre. \n",
    "\n",
    "1. **Pensamiento Variacional:**\n",
    "   a. ¿Qué significa el término \"variación\" en el contexto del pensamiento variacional?\n",
    "   b. ¿Cómo se relaciona el cálculo con el pensamiento variacional?\n",
    "   c. ¿Puede proporcionar un ejemplo práctico que ilustre el concepto de variación en un problema de cálculo?\n",
    "\n",
    "2. **Pensamiento Computacional (Python):**\n",
    "   a. ¿Cuál es el propósito principal de utilizar Python en un curso de cálculo?\n",
    "   b. ¿Cómo se puede utilizar Python para resolver problemas matemáticos complejos?\n",
    "   c. Menciona al menos dos ventajas de usar Python en comparación con otros lenguajes de programación en el contexto del cálculo.\n",
    "\n",
    "3. **Comunicación Científica (LaTeX):**\n",
    "   a. ¿Por qué es importante utilizar LaTeX para la comunicación científica en matemáticas y ciencias?\n",
    "   b. Enumera al menos tres comandos básicos de LaTeX utilizados para escribir ecuaciones matemáticas.\n",
    "   c. ¿Cómo mejorarías la presentación visual de una fórmula matemática utilizando LaTeX?\n",
    "\n",
    "4. **Gestión de Versiones (Git):**\n",
    "   a. ¿Cuál es el propósito principal de utilizar Git en el desarrollo de proyectos científicos?\n",
    "   b. Explica el concepto de \"commit\" en Git.\n",
    "   c. ¿Cómo resolverías un conflicto de fusión (merge conflict) en Git?\n",
    "\n",
    "5. **Cuadernos Jupyter:**\n",
    "   a. ¿Cuáles son las ventajas de utilizar cuadernos Jupyter en comparación con otros entornos de desarrollo?\n",
    "   b. Describe cómo se integra el código Python y la documentación en un cuaderno Jupyter.\n",
    "   c. ¿Cómo compartirías un cuaderno Jupyter con tus compañeros de clase utilizando GitHub?\n",
    "\n",
    "6. **Promoción de Políticas de Ciencia Libre:**\n",
    "   a. ¿Cuáles son los beneficios de utilizar plataformas como GitHub y YouTube para compartir recursos científicos?\n",
    "   b. ¿Cómo podrías contribuir a la promoción de la ciencia libre en tu comunidad académica?\n",
    "   c. ¿Por qué es importante la transparencia y accesibilidad en la investigación científica?\n",
    "\n",
    "Estas preguntas están diseñadas para evaluar la comprensión de los estudiantes en diversos aspectos del curso, abarcando desde los conceptos matemáticos hasta las habilidades tecnológicas y la conciencia sobre la ciencia libre."
   ]
  },
  {
   "cell_type": "markdown",
   "id": "6b9e56a8",
   "metadata": {
    "slideshow": {
     "slide_type": "slide"
    }
   },
   "source": [
    "### [Evaluamos al profesor Marco Cañas Aquí](https://forms.office.com/Pages/ResponsePage.aspx?id=IefhmYRxjkmK_7KtTlPBwkanXIs1i1FEujpsZgO6dXpUREJPV1kxUk1JV1ozTFJIQVNIQjY5WEY3US4u)"
   ]
  },
  {
   "cell_type": "markdown",
   "id": "050b9508",
   "metadata": {},
   "source": [
    "# Aportes de mis estudiantes a la metodología del curso  \n",
    "1. \n",
    "\n",
    "Sus opiniones y aportes son muy importantes para mi. Pues esta es una investigación educativa y un servicio de enseñanza para ustedes. Ustedes son la razón de ser de mi actividad docente. Dios los bendiga. "
   ]
  },
  {
   "cell_type": "markdown",
   "id": "6c4af91f",
   "metadata": {},
   "source": [
    "# Aportes de mis colegas docentes a la metodología que estoy aplicando en mis cursos. "
   ]
  },
  {
   "cell_type": "markdown",
   "id": "071afa04",
   "metadata": {
    "slideshow": {
     "slide_type": "slide"
    }
   },
   "source": [
    "## [Evaluación luego de alcanzar estos objetivos de aprendizaje]()"
   ]
  },
  {
   "cell_type": "markdown",
   "id": "10f43536",
   "metadata": {
    "slideshow": {
     "slide_type": "slide"
    }
   },
   "source": [
    "### Continue su aprendizaje en la siguiente clase a través del siguiente [vínculo](https://github.com/marco-canas/calculo/blob/main/referents/precalculo_stewart/1_fundamentos/1_5_ecuaciones/2_1_5_evaluacion_oral_tarea_quiz_parcial_1_5_ecuaciones_stewart.ipynb)"
   ]
  },
  {
   "cell_type": "markdown",
   "id": "af751e30",
   "metadata": {
    "slideshow": {
     "slide_type": "slide"
    }
   },
   "source": [
    "# Conjeturas pedagógicas fruto de la aplicación del modelo de aprendizaje invertido y del enfoque hacia la ciencia de datos con python\n",
    "\n",
    "1. Todo cálculo o resultado debe ser interpretado en una línea markdown del cuaderno Jupyter, inmediatamente después de la enunciación del resultado y después de la presentación de una tabla o gráfico bidimensional, de tal menera que el estudiante explicite la comprensión verbal del resultado y las inferencias o estrategias que este resultado le sugieren.  \n",
    "\n",
    "2. Debo colocar las conjeturas pedagógicas, que el uso en el aula de [ChatGPT](https://openai.com/blog/chatgpt/) traiga para la enseñanza y el aprendizaje de las matemáticas. \n",
    "\n",
    "3. Promover ciencia abierta en clase de matemáticas puede ser pidiendo a los estudiantes, tomar nota en clase pero en cuadernos Jupyter y entregar siempre al final de cada clase su cuaderno con todas las notas y experimentaciones de clase replicadas. \n",
    "4. Profesor Marco, ¿ha contemplado la posibilidad de intercambio de experiencias de aprendizaje y aplicación de Python al día a día con comfama? (Estudio Trabajo Social y allí, en comfama, aprendí los fundamentos, lo básico de Python)\n",
    "\n",
    "¿Conoce si en la Universidad de Antioquia hay medios para poder aprender Swift/XCODE? (Para programar para dispositivos de Apple)\n",
    "5. Debo considerar la metodología ABP, es decir, diseñar las clase bajo la metodología de Aprendizaje Basado en Problemas. \n",
    "\n"
   ]
  },
  {
   "cell_type": "markdown",
   "id": "53cc9115",
   "metadata": {
    "slideshow": {
     "slide_type": "slide"
    }
   },
   "source": [
    "## Agradecimientos  \n",
    "\n",
    "Doy gracias a Dios por la vida de mi Hijo Joseph Cañas Osorio y la madurez que ha alcanzado.\n",
    "\n",
    "Y a mi esposa Yasmira por su apoyo, orientación y acompañamiento. "
   ]
  }
 ],
 "metadata": {
  "celltoolbar": "Slideshow",
  "kernelspec": {
   "display_name": "Python 3 (ipykernel)",
   "language": "python",
   "name": "python3"
  },
  "language_info": {
   "codemirror_mode": {
    "name": "ipython",
    "version": 3
   },
   "file_extension": ".py",
   "mimetype": "text/x-python",
   "name": "python",
   "nbconvert_exporter": "python",
   "pygments_lexer": "ipython3",
   "version": "3.10.12"
  },
  "rise": {
   "enable_chalkboard": true,
   "theme": "sky",
   "transition": "zoom"
  }
 },
 "nbformat": 4,
 "nbformat_minor": 5
}
