{
 "cells": [
  {
   "cell_type": "markdown",
   "id": "dc06dec7",
   "metadata": {
    "slideshow": {
     "slide_type": "slide"
    }
   },
   "source": [
    "<table align=\"left\">\n",
    "  <td>\n",
    "    <a href=\"https://colab.research.google.com/github/marco-canas/calculo/blob/main/referents/purcell/5_aplicaciones_de_la_integral/5_4_longitud_curva/1_ejemplos_seccion_5_4_longitud_curva/1_ejemplo_1_dibujo_curva_determinada_por_ecuaciones_parametricas/1_ejemplo_1_dibujo_curva_determinada_por_ecuaciones_parametricas.ipynb\" target=\"_parent\"><img src=\"https://colab.research.google.com/assets/colab-badge.svg\" alt=\"Open In Colab\"/></a>\n",
    "  </td>\n",
    "  <td>\n",
    "    <a target=\"_blank\" href=\"https://kaggle.com/kernels/welcome?src=https://github.com/marco-canas/calculo/blob/main/referents/purcell/5_aplicaciones_de_la_integral/5_4_longitud_curva/1_ejemplos_seccion_5_4_longitud_curva/1_ejemplo_1_dibujo_curva_determinada_por_ecuaciones_parametricas/1_ejemplo_1_dibujo_curva_determinada_por_ecuaciones_parametricas.ipynb\"><img src=\"https://kaggle.com/static/images/open-in-kaggle.svg\" /></a>\n",
    "  </td>\n",
    "</table>"
   ]
  },
  {
   "cell_type": "markdown",
   "id": "e0c5b198",
   "metadata": {
    "slideshow": {
     "slide_type": "slide"
    }
   },
   "source": [
    "### [Video de apoyo a la lectura interactiva y experimental de este cuaderno](https://www.youtube.com/watch?v=xWlgEXD1lZI&ab_channel=DiMathData)"
   ]
  },
  {
   "cell_type": "markdown",
   "id": "41e82203",
   "metadata": {
    "slideshow": {
     "slide_type": "slide"
    }
   },
   "source": [
    "## [Vínculo al programa del curso Cálculo Integral para ingeniería agropecuaria:](https://github.com/marco-canas/calculo/blob/main/programas_de_curso/2_programa_calculo_Integral_ingenieria_agropecuaria.docx)\n",
    "\n"
   ]
  },
  {
   "cell_type": "markdown",
   "id": "d11ab06d",
   "metadata": {
    "slideshow": {
     "slide_type": "slide"
    }
   },
   "source": [
    "Un reconocimiento a mis estudiantes que han construido conmigo este saber pedagógico:\n",
    "\n",
    "<img src = 'https://github.com/marco-canas/fundamentos_de_la_aritmetica/blob/main/images/images_of_students/2024_2/asesoria_fundamentos_aritmetica_calculo_2024-09-14.jpeg?raw=true'> \n",
    "\n"
   ]
  },
  {
   "cell_type": "markdown",
   "id": "8a74a56c-0ce6-4ad6-b985-553fd7fb68bb",
   "metadata": {},
   "source": [
    "Reconocimiento a las profesoras destacadas en enseñanza de la matemática en Colombia\n",
    "[mujeres en el campo](https://ingenieria.bogota.unal.edu.co/es/noticias/item/391-mujeres-campo-e-ingenieria-ii.html)\n",
    "Aquí tienes algunas mujeres destacadas en Colombia en la enseñanza de la matemática, junto con una breve biografía de cada una:\n",
    "<img src = 'https://ingenieria.bogota.unal.edu.co/images/recursos/noticias/Mujercampo.jpg'>"
   ]
  },
  {
   "cell_type": "code",
   "execution_count": 5,
   "id": "7604880f",
   "metadata": {
    "slideshow": {
     "slide_type": "slide"
    }
   },
   "outputs": [
    {
     "name": "stdout",
     "output_type": "stream",
     "text": [
      "Llamando a MIRANDA MARTINEZ CARLOS ANDRES...\n"
     ]
    },
    {
     "name": "stdout",
     "output_type": "stream",
     "text": [
      "¿Asistió MIRANDA MARTINEZ CARLOS ANDRES? (s/n):  s\n"
     ]
    },
    {
     "name": "stdout",
     "output_type": "stream",
     "text": [
      "Actualizado: MIRANDA MARTINEZ CARLOS ANDRES ahora tiene 0.1 en la columna 'Parcial'.\n",
      "Cambios guardados en el archivo CSV.\n",
      "Llamando a HUMANEZ SANCHEZ CAMILO...\n"
     ]
    },
    {
     "name": "stdout",
     "output_type": "stream",
     "text": [
      "¿Asistió HUMANEZ SANCHEZ CAMILO? (s/n):  s\n"
     ]
    },
    {
     "name": "stdout",
     "output_type": "stream",
     "text": [
      "Actualizado: HUMANEZ SANCHEZ CAMILO ahora tiene 0.2 en la columna 'Parcial'.\n",
      "Cambios guardados en el archivo CSV.\n",
      "Llamando a SILVA ROYERO MAILY CRISTINA...\n"
     ]
    },
    {
     "name": "stdout",
     "output_type": "stream",
     "text": [
      "¿Asistió SILVA ROYERO MAILY CRISTINA? (s/n):  s\n"
     ]
    },
    {
     "name": "stdout",
     "output_type": "stream",
     "text": [
      "Actualizado: SILVA ROYERO MAILY CRISTINA ahora tiene 0.2 en la columna 'Parcial'.\n",
      "Cambios guardados en el archivo CSV.\n",
      "Llamando a SANCHEZ PADILLA SILVESTRE...\n"
     ]
    },
    {
     "name": "stdout",
     "output_type": "stream",
     "text": [
      "¿Asistió SANCHEZ PADILLA SILVESTRE? (s/n):  s\n"
     ]
    },
    {
     "name": "stdout",
     "output_type": "stream",
     "text": [
      "Actualizado: SANCHEZ PADILLA SILVESTRE ahora tiene 0.30000000000000004 en la columna 'Parcial'.\n",
      "Cambios guardados en el archivo CSV.\n",
      "Llamando a MASS MIRANDA RIVALDO JOSE...\n"
     ]
    },
    {
     "name": "stdout",
     "output_type": "stream",
     "text": [
      "¿Asistió MASS MIRANDA RIVALDO JOSE? (s/n):  s\n"
     ]
    },
    {
     "name": "stdout",
     "output_type": "stream",
     "text": [
      "Actualizado: MASS MIRANDA RIVALDO JOSE ahora tiene 0.2 en la columna 'Parcial'.\n",
      "Cambios guardados en el archivo CSV.\n",
      "Llamando a CERVANTES DURAN ANGELICA...\n"
     ]
    },
    {
     "name": "stdout",
     "output_type": "stream",
     "text": [
      "¿Asistió CERVANTES DURAN ANGELICA? (s/n):  s\n"
     ]
    },
    {
     "name": "stdout",
     "output_type": "stream",
     "text": [
      "Actualizado: CERVANTES DURAN ANGELICA ahora tiene 0.4 en la columna 'Parcial'.\n",
      "Cambios guardados en el archivo CSV.\n",
      "Llamando a MONTERROSA SOTO ABRIL...\n"
     ]
    },
    {
     "name": "stdout",
     "output_type": "stream",
     "text": [
      "¿Asistió MONTERROSA SOTO ABRIL? (s/n):  n\n"
     ]
    },
    {
     "name": "stdout",
     "output_type": "stream",
     "text": [
      "Cambios guardados en el archivo CSV.\n",
      "Llamando a USUGA GEORGE JHON ESTIVEN...\n"
     ]
    },
    {
     "name": "stdout",
     "output_type": "stream",
     "text": [
      "¿Asistió USUGA GEORGE JHON ESTIVEN? (s/n):  n\n"
     ]
    },
    {
     "name": "stdout",
     "output_type": "stream",
     "text": [
      "Cambios guardados en el archivo CSV.\n",
      "Llamando a RAMOS PEREZ YANINE...\n"
     ]
    },
    {
     "name": "stdout",
     "output_type": "stream",
     "text": [
      "¿Asistió RAMOS PEREZ YANINE? (s/n):  s\n"
     ]
    },
    {
     "name": "stdout",
     "output_type": "stream",
     "text": [
      "Actualizado: RAMOS PEREZ YANINE ahora tiene 0.30000000000000004 en la columna 'Parcial'.\n",
      "Cambios guardados en el archivo CSV.\n",
      "Llamando a IBAÑEZ MORENO FRANCISCO LUIS...\n"
     ]
    },
    {
     "name": "stdout",
     "output_type": "stream",
     "text": [
      "¿Asistió IBAÑEZ MORENO FRANCISCO LUIS? (s/n):  s\n"
     ]
    },
    {
     "name": "stdout",
     "output_type": "stream",
     "text": [
      "Actualizado: IBAÑEZ MORENO FRANCISCO LUIS ahora tiene 0.7999999999999999 en la columna 'Parcial'.\n",
      "Cambios guardados en el archivo CSV.\n",
      "Llamando a AMARIS FERNANDEZ SEBASTIAN CAMILO...\n"
     ]
    },
    {
     "name": "stdout",
     "output_type": "stream",
     "text": [
      "¿Asistió AMARIS FERNANDEZ SEBASTIAN CAMILO? (s/n):  s\n"
     ]
    },
    {
     "name": "stdout",
     "output_type": "stream",
     "text": [
      "Actualizado: AMARIS FERNANDEZ SEBASTIAN CAMILO ahora tiene 0.2 en la columna 'Parcial'.\n",
      "Cambios guardados en el archivo CSV.\n",
      "Llamando a CANTILLO ENSUCHO DANIEL...\n"
     ]
    },
    {
     "name": "stdout",
     "output_type": "stream",
     "text": [
      "¿Asistió CANTILLO ENSUCHO DANIEL? (s/n):  n\n"
     ]
    },
    {
     "name": "stdout",
     "output_type": "stream",
     "text": [
      "Cambios guardados en el archivo CSV.\n",
      "Llamando a BULA VERGARA MARIA PAULA...\n"
     ]
    },
    {
     "name": "stdout",
     "output_type": "stream",
     "text": [
      "¿Asistió BULA VERGARA MARIA PAULA? (s/n):  s\n"
     ]
    },
    {
     "name": "stdout",
     "output_type": "stream",
     "text": [
      "Actualizado: BULA VERGARA MARIA PAULA ahora tiene 0.1 en la columna 'Parcial'.\n",
      "Cambios guardados en el archivo CSV.\n",
      "Llamando a GUERRA NORIEGA YONATHAN...\n"
     ]
    },
    {
     "name": "stdout",
     "output_type": "stream",
     "text": [
      "¿Asistió GUERRA NORIEGA YONATHAN? (s/n):  s\n"
     ]
    },
    {
     "name": "stdout",
     "output_type": "stream",
     "text": [
      "Actualizado: GUERRA NORIEGA YONATHAN ahora tiene 0.30000000000000004 en la columna 'Parcial'.\n",
      "Cambios guardados en el archivo CSV.\n",
      "Llamando a QUINONEZ CERVANTES MARIANA...\n"
     ]
    },
    {
     "name": "stdout",
     "output_type": "stream",
     "text": [
      "¿Asistió QUINONEZ CERVANTES MARIANA? (s/n):  s\n"
     ]
    },
    {
     "name": "stdout",
     "output_type": "stream",
     "text": [
      "Actualizado: QUINONEZ CERVANTES MARIANA ahora tiene 0.1 en la columna 'Parcial'.\n",
      "Cambios guardados en el archivo CSV.\n",
      "Llamando a RIVAS HOYOS ESTEFANIA...\n"
     ]
    },
    {
     "name": "stdout",
     "output_type": "stream",
     "text": [
      "¿Asistió RIVAS HOYOS ESTEFANIA? (s/n):  s\n"
     ]
    },
    {
     "name": "stdout",
     "output_type": "stream",
     "text": [
      "Actualizado: RIVAS HOYOS ESTEFANIA ahora tiene 0.2 en la columna 'Parcial'.\n",
      "Cambios guardados en el archivo CSV.\n",
      "Llamando a ARENAS HERAZO GABRIEL ENRIQUE...\n"
     ]
    },
    {
     "name": "stdout",
     "output_type": "stream",
     "text": [
      "¿Asistió ARENAS HERAZO GABRIEL ENRIQUE? (s/n):  s\n"
     ]
    },
    {
     "name": "stdout",
     "output_type": "stream",
     "text": [
      "Actualizado: ARENAS HERAZO GABRIEL ENRIQUE ahora tiene 0.2 en la columna 'Parcial'.\n",
      "Cambios guardados en el archivo CSV.\n",
      "Llamando a NORIEGA JIMENEZ GABRIELA...\n"
     ]
    },
    {
     "name": "stdout",
     "output_type": "stream",
     "text": [
      "¿Asistió NORIEGA JIMENEZ GABRIELA? (s/n):  s\n"
     ]
    },
    {
     "name": "stdout",
     "output_type": "stream",
     "text": [
      "Actualizado: NORIEGA JIMENEZ GABRIELA ahora tiene 0.4 en la columna 'Parcial'.\n",
      "Cambios guardados en el archivo CSV.\n",
      "Llamando a PINEDA ROMERO YOSMERI...\n"
     ]
    },
    {
     "name": "stdout",
     "output_type": "stream",
     "text": [
      "¿Asistió PINEDA ROMERO YOSMERI? (s/n):  s\n"
     ]
    },
    {
     "name": "stdout",
     "output_type": "stream",
     "text": [
      "Actualizado: PINEDA ROMERO YOSMERI ahora tiene 0.1 en la columna 'Parcial'.\n",
      "Cambios guardados en el archivo CSV.\n",
      "Llamando a BERTEL RODELO MICHELL SMIT...\n"
     ]
    },
    {
     "name": "stdout",
     "output_type": "stream",
     "text": [
      "¿Asistió BERTEL RODELO MICHELL SMIT? (s/n):  s\n"
     ]
    },
    {
     "name": "stdout",
     "output_type": "stream",
     "text": [
      "Actualizado: BERTEL RODELO MICHELL SMIT ahora tiene 0.30000000000000004 en la columna 'Parcial'.\n",
      "Cambios guardados en el archivo CSV.\n",
      "Llamando a ROSILLO TEJADA VANESA...\n"
     ]
    },
    {
     "name": "stdout",
     "output_type": "stream",
     "text": [
      "¿Asistió ROSILLO TEJADA VANESA? (s/n):  s\n"
     ]
    },
    {
     "name": "stdout",
     "output_type": "stream",
     "text": [
      "Actualizado: ROSILLO TEJADA VANESA ahora tiene 0.4 en la columna 'Parcial'.\n",
      "Cambios guardados en el archivo CSV.\n",
      "Llamando a AYALA MENDOZA MARISOL YACIRA...\n"
     ]
    },
    {
     "name": "stdout",
     "output_type": "stream",
     "text": [
      "¿Asistió AYALA MENDOZA MARISOL YACIRA? (s/n):  s\n"
     ]
    },
    {
     "name": "stdout",
     "output_type": "stream",
     "text": [
      "Actualizado: AYALA MENDOZA MARISOL YACIRA ahora tiene 0.2 en la columna 'Parcial'.\n",
      "Cambios guardados en el archivo CSV.\n",
      "Llamando a HINCAPIE CASTRO JOHAN SEBASTIAN...\n"
     ]
    },
    {
     "name": "stdout",
     "output_type": "stream",
     "text": [
      "¿Asistió HINCAPIE CASTRO JOHAN SEBASTIAN? (s/n):  s\n"
     ]
    },
    {
     "name": "stdout",
     "output_type": "stream",
     "text": [
      "Actualizado: HINCAPIE CASTRO JOHAN SEBASTIAN ahora tiene 0.2 en la columna 'Parcial'.\n",
      "Cambios guardados en el archivo CSV.\n",
      "Llamando a PEREZ REYES IVAN DARIO...\n"
     ]
    },
    {
     "name": "stdout",
     "output_type": "stream",
     "text": [
      "¿Asistió PEREZ REYES IVAN DARIO? (s/n):  n\n"
     ]
    },
    {
     "name": "stdout",
     "output_type": "stream",
     "text": [
      "Cambios guardados en el archivo CSV.\n",
      "Llamando a PEREZ THERAN ERLINDA...\n"
     ]
    },
    {
     "name": "stdout",
     "output_type": "stream",
     "text": [
      "¿Asistió PEREZ THERAN ERLINDA? (s/n):  s\n"
     ]
    },
    {
     "name": "stdout",
     "output_type": "stream",
     "text": [
      "Actualizado: PEREZ THERAN ERLINDA ahora tiene 0.2 en la columna 'Parcial'.\n",
      "Cambios guardados en el archivo CSV.\n"
     ]
    }
   ],
   "source": [
    "import pandas as pd\n",
    "import numpy as np\n",
    "\n",
    "# Cargar la lista de estudiantes desde la URL\n",
    "path = '/home/marco/Documentos/docencia/groups_list/calculo_vectorial.csv'\n",
    "estudiantes = pd.read_csv(path)\n",
    "estudiantes['Parcial'] = estudiantes['Parcial'].astype(float) # hacer que todos los valores de la columna Parcial seen de tipo float\n",
    "\n",
    "# Convertir la columna 'Nombre' a una lista de Python\n",
    "lista_estudiantes = estudiantes['Nombre'].tolist()\n",
    "\n",
    "# Función para llamar a un estudiante aleatoriamente y registrar su nota de seguimiento\n",
    "def asistencia():\n",
    "    if lista_estudiantes:\n",
    "        estudiante_aleatorio = np.random.choice(lista_estudiantes)\n",
    "        print(f\"Llamando a {estudiante_aleatorio}...\")\n",
    "        asistencia = input(f\"¿Asistió {estudiante_aleatorio}? (s/n): \").strip().lower()\n",
    "        \n",
    "        if asistencia == 's':\n",
    "            # Obtener el índice del estudiante en el DataFrame\n",
    "            indice = estudiantes[estudiantes['Nombre'] == estudiante_aleatorio].index[0]\n",
    "            # Incrementar su valor en la columna 'Parcial'\n",
    "            estudiantes.at[indice, 'Parcial'] += 0.1\n",
    "            print(f\"Actualizado: {estudiante_aleatorio} ahora tiene {estudiantes.at[indice, 'Parcial']} en la columna 'Parcial'.\")\n",
    "        \n",
    "        lista_estudiantes.remove(estudiante_aleatorio)\n",
    "    else:\n",
    "        print(\"Se han llamado a todos los estudiantes del grupo completo.\")\n",
    "\n",
    "# Guardar los cambios en el archivo CSV\n",
    "def guardar_cambios():\n",
    "    estudiantes.to_csv(path, index=False)\n",
    "    print(\"Cambios guardados en el archivo CSV.\")\n",
    "\n",
    "# Ejemplo de uso\n",
    "while lista_estudiantes:\n",
    "    asistencia()\n",
    "    guardar_cambios()\n",
    "\n",
    "\n"
   ]
  },
  {
   "cell_type": "markdown",
   "id": "d7598d0a-d9b7-4ae0-b029-a0ed6ed1130b",
   "metadata": {},
   "source": [
    "\n",
    "# Principios de mi labor docente"
   ]
  },
  {
   "cell_type": "markdown",
   "id": "4f9d8cf9",
   "metadata": {
    "slideshow": {
     "slide_type": "slide"
    }
   },
   "source": [
    "# Modelo general de clase: [aula invertida](https://www3.gobiernodecanarias.org/medusa/ecoescuela/pedagotic/aprendizaje-invertido-flipped-classroom/)"
   ]
  },
  {
   "cell_type": "markdown",
   "id": "eb6ed03a",
   "metadata": {},
   "source": [
    "![Definamos flipped learning de manera gráfica](https://resources.maneuveringthemiddle.com/wp-content/uploads/2020/07/04212706/1-5.png)"
   ]
  },
  {
   "cell_type": "markdown",
   "id": "34319cce-a71b-4f64-aab8-b53e521efa40",
   "metadata": {},
   "source": [
    "# Metodología de enseñanza basada en problemas (ABP)\n",
    "\n",
    "<img src = 'https://www.unir.net/wp-content/uploads/2020/07/aprendizaje-problemas2-1-1-1-1.jpeg'>"
   ]
  },
  {
   "cell_type": "markdown",
   "id": "841a985c-bd9b-4dd3-8e4c-893983980af2",
   "metadata": {},
   "source": [
    "# Desarrollo del pensamiento coomputacional con python y cuadernos Jupyter  orientado a la formación en ciencia de datos \n",
    "\n",
    "\n",
    "<img src = 'https://i.ytimg.com/vi/mcG_wcR4e6M/maxresdefault.jpg'>"
   ]
  },
  {
   "cell_type": "markdown",
   "id": "65aa0404-f7ae-495e-864c-1aec01b4255e",
   "metadata": {},
   "source": [
    "# Proncipio de fomento a la ciencia abierta, enseñar en el acceso a los datos públicos y el uso de software de código abierto  \n",
    "\n",
    "<img src = 'https://unesdoc.unesco.org/in/rest/Thumb/image?id=p%3A%3Ausmarcdef_0000379949_spa&author=UNESCO&title=Recomendaci%C3%B3n+de+la+UNESCO+sobre+la+Ciencia+Abierta&year=2021&publisher=UNESCO&TypeOfDocument=UnescoPhysicalDocument&mat=PGD&ct=true&size=512&isPhysical=1'>"
   ]
  },
  {
   "cell_type": "markdown",
   "id": "d9559f85",
   "metadata": {},
   "source": [
    "El enfoque STEAMS en educación preescolar, primaria y secundaria es una extensión del enfoque STEM (Ciencia, Tecnología, Ingeniería y Matemáticas) y su variante STEAM, que incorpora el Arte. El acrónimo STEAMS incluye:\n",
    "\n",
    "1. **Science (Ciencia):** Fomenta la curiosidad por el mundo natural y el desarrollo de habilidades científicas, como la observación, experimentación y análisis.\n",
    "\n",
    "2. **Technology (Tecnología):** Integra herramientas tecnológicas para potenciar el aprendizaje y la resolución de problemas, promoviendo la alfabetización digital desde edades tempranas.\n",
    "\n",
    "3. **Engineering (Ingeniería):** Introduce el pensamiento lógico y la resolución de problemas estructurados, fomentando habilidades como el diseño y la construcción de soluciones.\n",
    "\n",
    "4. **Arts (Arte):** Añade creatividad y pensamiento crítico, permitiendo a los estudiantes expresarse y explorar el aprendizaje a través de formas artísticas (plásticas, música, teatro).\n",
    "\n",
    "5. **Mathematics (Matemáticas):** Refuerza las habilidades numéricas y el razonamiento lógico, fundamentales en la resolución de problemas y comprensión de conceptos abstractos.\n",
    "\n",
    "6. **Social Sciences (Ciencias Sociales):** Incorpora la comprensión del entorno social, político, cultural y económico, promoviendo el desarrollo de la conciencia crítica sobre el mundo y su historia, además de habilidades de empatía y ciudadanía.\n",
    "\n",
    "El enfoque STEAMS pretende desarrollar un aprendizaje **interdisciplinario** que integre estas áreas para fomentar un pensamiento más holístico y práctico. Se busca que los estudiantes no solo aprendan conocimientos técnicos, sino también cómo aplicarlos creativa y críticamente en situaciones reales, promoviendo habilidades como el trabajo en equipo, la comunicación y la innovación. En educación preescolar, primaria y secundaria, se adapta a las diferentes etapas de desarrollo cognitivo y emocional de los estudiantes, promoviendo el aprendizaje activo y contextualizado.  \n",
    "\n",
    "<img src = 'https://www.campuseducacion.com/blog/wp-content/uploads/2023/03/foto01-1.jpg'>"
   ]
  },
  {
   "cell_type": "markdown",
   "id": "8d97dc80",
   "metadata": {
    "jp-MarkdownHeadingCollapsed": true,
    "slideshow": {
     "slide_type": "slide"
    }
   },
   "source": [
    "## Fomento de la lectura literaria asociada a Ingeniería agropecuaria y licenciatura en Matemáticas\n",
    "\n",
    "[Aprender a negociar de Roger Fisher](https://github.com/marco-canas/el_arte_de_aprender_a_negociar/blob/main/Fisher-Roger-Obtenga-El-Si-psicologia.pdf)\n"
   ]
  },
  {
   "cell_type": "markdown",
   "id": "96775931",
   "metadata": {
    "slideshow": {
     "slide_type": "slide"
    }
   },
   "source": [
    "## Título de la clase: Apoyo a la lectura del ejemplo 1 de la sección 5.4 del Purcell sobre longitud de curva\n",
    "\n",
    "Página 295 del Purcell\n",
    "\n",
    "[Obtenga el texto guía aquí](https://github.com/marco-canas/calculo/blob/main/referents/purcell/purcell_calculo.pdf)"
   ]
  },
  {
   "cell_type": "markdown",
   "id": "1d38dd4e",
   "metadata": {
    "slideshow": {
     "slide_type": "slide"
    }
   },
   "source": [
    "### Objetivo de aprendizaje (Enunciar, de manera corta sencilla y clara para todos los asistentes)\n",
    " De ahora en adelante, las clase tendran 4 objetivos de clase de acuerdo a las 4 dimensiones de mi práctica pedagógica\n",
    "\n",
    " 1. Que el ingeniero agropecuario aprenda a describir un movimiento bidimensional a través de curvas paramétricas.\n",
    " 2. Aprender a determinar la distancia recorrida por una partícula que describe una curva paramétrica.  \n"
   ]
  },
  {
   "cell_type": "markdown",
   "id": "1365025c",
   "metadata": {},
   "source": [
    "1. Conocimiento Teórico de Matemáticas\n",
    "\n",
    "Indicadores:\n",
    "\n",
    "* Comprensión de conceptos fundamentales de cálculo diferencial e integral.\n",
    "* Capacidad para resolver integrales definidas.\n",
    "* Habilidad para derivar funciones complejas.\n",
    "* Capacidad de leer, escribir e interpretar utilizando la notación y terminología matemática propia de esta clase.\n",
    "* Capacidad para aplicar resultados científicos en problemas.\n"
   ]
  },
  {
   "cell_type": "markdown",
   "id": "97ab69df",
   "metadata": {},
   "source": [
    "\n",
    "2. Habilidad en Programación con Python\n",
    "\n",
    "Indicadores:\n",
    "\n",
    "* Capacidad para escribir y ejecutar scripts básicos en Python.\n",
    "* Comprensión y uso de estructuras de control (condicionales, bucles).\n",
    "* Uso de funciones y módulos en Python.\n",
    "* Manejo de estructuras de datos (listas, diccionarios, tuplas).\n",
    "* Habilidad para depurar y solucionar errores en el código.\n",
    "* Uso de bibliotecas matemáticas como NumPy y SymPy.\n"
   ]
  },
  {
   "cell_type": "markdown",
   "id": "0dd775aa",
   "metadata": {},
   "source": [
    "\n",
    "3. Pensamiento Computacional\n",
    "\n",
    "Indicadores:\n",
    "\n",
    "* Capacidad para descomponer problemas complejos en subproblemas manejables.\n",
    "* Habilidad para diseñar algoritmos eficientes para resolver problemas específicos.\n",
    "* Comprensión de la lógica detrás de las estructuras de control y su aplicación en la programación.\n",
    "* Capacidad para abstraer conceptos matemáticos en soluciones programables.\n",
    "* Habilidad para identificar y aplicar patrones en la resolución de problemas.\n"
   ]
  },
  {
   "cell_type": "markdown",
   "id": "1a57907e",
   "metadata": {},
   "source": [
    "\n",
    "4. Aplicación de Matemáticas en Problemas Reales\n",
    "\n",
    "Indicadores:\n",
    "\n",
    "* Capacidad para modelar situaciones reales utilizando funciones matemáticas.\n",
    "* Habilidad para implementar soluciones matemáticas en código Python para resolver problemas prácticos.\n",
    "* Comprensión de cómo interpretar los resultados obtenidos mediante simulaciones o cálculos computacionales.\n",
    "* Uso de Python para la visualización de datos y resultados matemáticos.\n",
    "* Capacidad para integrar conocimientos matemáticos y de programación en proyectos interdisciplinarios."
   ]
  },
  {
   "cell_type": "markdown",
   "id": "540f0ec1",
   "metadata": {
    "slideshow": {
     "slide_type": "slide"
    }
   },
   "source": [
    "## Cuestionario para realizar labores de memorización, observación y síntesis de la información (Además de diagnóstico) \n",
    "\n",
    "1. ¿Qué es una conjunto de ecuaciones paramétricas?\n",
    "2. ¿Cómo se determina la distancia entre dos puntos $A = (x_{A}, y_{A})$ y $B = (x_{B}, y_{B})$ en el plano?\n",
    "   $$ dist(A,B) = \\sqrt{(x_{A} - x_{B})^{2} + (y_{A} - y_{B})^{2}} $$\n",
    "   \n",
    "4. ¿Cómo se determina la longitud de una curva determinada por una función $y = f(x)$, para $a \\leq x \\leq b$?\n"
   ]
  },
  {
   "cell_type": "markdown",
   "id": "d1dfbc22",
   "metadata": {},
   "source": [
    "5. ¿Cómo se determinal la longitud de una curva paramétrica?\n",
    "\n",
    "$$ L = \\int_{a}^{b} \\sqrt{(x'(t))^{2} + (g'(t))^{2}} \\ dt $$\n",
    "\n",
    "6. ¿la resta es conmutativa? Justifique y presente ejemplos. \n",
    "7. ¿el cuadrado de un número real negativo es negativo? Diga verdadero o falso y justifique.\n",
    "8. Que da $-3^{2}$ y justifique. "
   ]
  },
  {
   "cell_type": "markdown",
   "id": "8e457ea2",
   "metadata": {},
   "source": [
    "# Definiciones y Resultados científicos a comprender y memorizar \n",
    "\n",
    "[Primera grabación en Vocaroo]()"
   ]
  },
  {
   "cell_type": "markdown",
   "id": "ca7261b1",
   "metadata": {
    "slideshow": {
     "slide_type": "slide"
    }
   },
   "source": [
    "## Establecimiento de prerrequisitos conceptuales para alcanzar el objetivo de aprendizaje trazado.   \n",
    "\n",
    "(Elabore una lista de preguntas al rededor de los conceptos que consideres necesarios para empezar la clase).  \n",
    "\n",
    "1. \n",
    "2. \n",
    "3. "
   ]
  },
  {
   "cell_type": "markdown",
   "id": "2298e976",
   "metadata": {
    "slideshow": {
     "slide_type": "slide"
    }
   },
   "source": [
    "# Para el diseño de la clase tenga en cuenta algunos problemas de aprendizaje"
   ]
  },
  {
   "cell_type": "markdown",
   "id": "523d3acf",
   "metadata": {
    "slideshow": {
     "slide_type": "slide"
    }
   },
   "source": []
  },
  {
   "cell_type": "markdown",
   "id": "a40a4704",
   "metadata": {
    "slideshow": {
     "slide_type": "slide"
    }
   },
   "source": [
    "## Secuencia conceptual introductoria a la clase"
   ]
  },
  {
   "cell_type": "markdown",
   "id": "55199640-bdcb-4feb-af7b-09dc6c93a3ad",
   "metadata": {},
   "source": [
    "## El componente histórico y epistemológico  \n",
    "\n",
    "Para una clase sobre la \"Longitud de una curva plana determinada por ecuaciones paramétricas\", se pueden incluir varios componentes históricos y epistemológicos que ayuden a los estudiantes a entender tanto el desarrollo del concepto como su relevancia en las matemáticas. Aquí te presento algunas ideas para estos componentes:\n",
    "\n",
    "### Componentes Históricos\n",
    "\n",
    "1. **Antigüedad y la Búsqueda de la Medida de la Curva**: \n",
    "   - Desde la Antigüedad, matemáticos griegos como Arquímedes se preocuparon por medir la longitud de curvas, como la circunferencia. Aunque no usaban ecuaciones paramétricas, su trabajo estableció las bases para entender la relación entre curvas y líneas rectas.\n",
    "   \n",
    "2. **Desarrollo del Cálculo Diferencial e Integral**:\n",
    "   - En el siglo XVII, el surgimiento del cálculo diferencial e integral por Newton y Leibniz permitió una formalización más rigurosa de la longitud de curvas. El concepto de límite y la derivada proporcionaron herramientas para aproximar la longitud de curvas irregulares.\n",
    "\n",
    "3. **Ecuaciones Paramétricas**:\n",
    "   - Las ecuaciones paramétricas como forma de representar curvas fueron desarrolladas para simplificar la descripción de movimientos en física y geometría. Pierre de Fermat y René Descartes hicieron contribuciones significativas a la geometría analítica, lo que sentó las bases para el uso de ecuaciones paramétricas.\n",
    "   \n",
    "4. **Gauss y la Curvatura**:\n",
    "   - Carl Friedrich Gauss, en su trabajo sobre geometría diferencial, avanzó en el estudio de curvas y superficies. Aunque se enfocó más en la curvatura, su trabajo influyó en la comprensión geométrica y métrica de las curvas."
   ]
  },
  {
   "cell_type": "markdown",
   "id": "b77ec745-9080-425e-bce5-a4ece77c4388",
   "metadata": {},
   "source": [
    "### Componentes Epistemológicos\n",
    "\n",
    "1. **Naturaleza del Concepto de Longitud**:\n",
    "   - La longitud de una curva plantea preguntas epistemológicas sobre cómo definimos y medimos algo que no es recto. La transición de medir líneas rectas a curvas plantea la idea de aproximación y límite, fundamentales en el cálculo.\n",
    "\n",
    "2. **La Integral Como Suma Acumulativa**:\n",
    "   - La fórmula para la longitud de una curva en términos de una integral introduce la idea de acumular infinitesimales, mostrando cómo la integral se utiliza para generalizar conceptos geométricos a objetos más complejos.\n",
    "\n",
    "3. **Representación Paramétrica y Movimiento**:\n",
    "   - El uso de ecuaciones paramétricas introduce una forma dinámica de ver las curvas, donde el parámetro puede interpretarse como tiempo o alguna otra variable. Esto refleja un cambio epistemológico al considerar las curvas no solo como objetos geométricos sino como trayectorias de movimiento.\n",
    "\n",
    "4. **Visualización y Experimentación**:\n",
    "   - Trazar curvas a mano y con Python en cuadernos Jupyter permite a los estudiantes explorar la relación entre las ecuaciones paramétricas y la curva que describen. La visualización facilita la comprensión de cómo la longitud se acumula a lo largo de la curva.\n",
    "\n",
    "5. **Abstracción y Aplicación**:\n",
    "   - Entender la longitud de una curva paramétrica implica una abstracción matemática que tiene aplicaciones en física, ingeniería y otras ciencias. Este componente epistemológico destaca cómo las matemáticas aplican conceptos abstractos a problemas del mundo real."
   ]
  },
  {
   "cell_type": "markdown",
   "id": "5df26a3d-5bcd-4614-9bea-dc3873af269a",
   "metadata": {},
   "source": [
    "### Integración en la Clase\n",
    "\n",
    "- **Introducción Histórica**: Comienza la clase con una breve reseña histórica sobre la búsqueda de medir curvas, mencionando a matemáticos clave como Arquímedes, Newton y Fermat. \n",
    "- **Desarrollo Teórico**: Introduce la fórmula de la longitud de una curva paramétrica y explica su relación con el cálculo integral. \n",
    "- **Ejercicio Manual**: Pide a los estudiantes que tracen una curva simple, como una parábola o una circunferencia, y estimen su longitud a través de aproximaciones lineales.\n",
    "- **Implementación en Python**: Utiliza un cuaderno Jupyter para mostrar cómo graficar curvas paramétricas y calcular su longitud usando integrales numéricas. \n",
    "- **Reflexión Epistemológica**: Concluye con una discusión sobre las implicaciones epistemológicas de medir curvas y cómo las herramientas modernas, como Python, facilitan la comprensión y el cálculo de conceptos complejos.\n",
    "\n",
    "Esta estructura proporcionará a los estudiantes una comprensión profunda de la longitud de las curvas paramétricas, combinando la historia, la teoría y la práctica computacional."
   ]
  },
  {
   "cell_type": "markdown",
   "id": "e3ffa494",
   "metadata": {},
   "source": [
    "# Vocabulary   \n",
    "\n",
    "1. \n",
    "2.  \n",
    "3.  \n",
    "4.  \n",
    "5.  "
   ]
  },
  {
   "cell_type": "code",
   "execution_count": 4,
   "id": "6ff395c3",
   "metadata": {},
   "outputs": [],
   "source": [
    "# Traducción del inglés al español con python\n",
    "\n",
    "def traducir(texto):\n",
    "    from googletrans import Translator\n",
    "\n",
    "    translator = Translator() # instancia la clase \n",
    "\n",
    "    # Traducir al español\n",
    "    translation = translator.translate(texto, src='en', dest='es')\n",
    "    return translation.text"
   ]
  },
  {
   "cell_type": "code",
   "execution_count": 5,
   "id": "b583f414-ac87-4912-8a86-b338234d83d7",
   "metadata": {},
   "outputs": [
    {
     "data": {
      "text/plain": [
       "'Hola'"
      ]
     },
     "execution_count": 5,
     "metadata": {},
     "output_type": "execute_result"
    }
   ],
   "source": [
    "traducir('Hi')"
   ]
  },
  {
   "cell_type": "code",
   "execution_count": 1,
   "id": "bc0addfe",
   "metadata": {},
   "outputs": [
    {
     "data": {
      "text/plain": [
       "'/home/marco/Documentos/docencia/calculo/images/0_reales/ .pdf'"
      ]
     },
     "execution_count": 1,
     "metadata": {},
     "output_type": "execute_result"
    }
   ],
   "source": [
    "# mapa conceptual para cada clase  \n",
    "from graphviz import Digraph\n",
    "\n",
    "# Crear un nuevo grafo dirigido\n",
    "dot = Digraph()\n",
    "\n",
    "# Añadir nodos y relaciones al grafo\n",
    "main_concept = 'Longitud de \\n una curva paramétrica'\n",
    "dot.node('A', main_concept)\n",
    "dot.node('B', '')\n",
    "dot.node('C', '')\n",
    "dot.node('D', '')\n",
    "dot.node('E', '')\n",
    "dot.node('F', '')\n",
    "dot.node('G', '')\n",
    "dot.node('H', '')\n",
    "dot.node('I', '')\n",
    "dot.node('J', '')\n",
    "\n",
    "dot.edges(['AB'])\n",
    "dot.edges(['AC'])\n",
    "dot.edges(['CD'])\n",
    "dot.edges(['DJ'])\n",
    "dot.edges(['EF'])\n",
    "dot.edges(['FG'])\n",
    "dot.edges(['GH'])\n",
    "dot.edges(['HI'])\n",
    "dot.edges(['IJ'])\n",
    "\n",
    "# Guardar el grafo como un archivo de imagen\n",
    "dot.render(filename=main_concept, format='png', cleanup=True, \\\n",
    "           directory='/home/marco/Documentos/docencia/calculo/'+\\\n",
    "           'images/4_integral/2_aplicaciones_integral_definida/4_longitud_curva_plana')\n",
    "\n",
    "dot.view()\n"
   ]
  },
  {
   "cell_type": "markdown",
   "id": "7ce0846a-9cd7-442e-9d16-7fb9479f396a",
   "metadata": {},
   "source": [
    "# Normas para el trabajo en clase y en el taller de clase  "
   ]
  },
  {
   "cell_type": "markdown",
   "id": "db1fa735-2d3e-4a22-9f54-7b566deda309",
   "metadata": {},
   "source": [
    "Para orientar el comportamiento en un aula de Cálculo Integral y asegurarse de que los estudiantes respeten al profesor durante los talleres, especialmente cuando no todas las dudas pueden ser atendidas individualmente, puedes seguir estos pasos:"
   ]
  },
  {
   "cell_type": "markdown",
   "id": "463d7c20-f56c-467d-85db-8205e887af90",
   "metadata": {},
   "source": [
    "### 1. **Establecer Expectativas Claras desde el Inicio**\n",
    "   - **Normas de Participación:** Desde la primera clase, establece reglas claras sobre la dinámica del taller. Por ejemplo, especifica que el profesor estará disponible para atender dudas, pero que los estudiantes deben intentar resolver los problemas por sí mismos o en grupos antes de solicitar ayuda.\n",
    "   - **Rol del Profesor:** Explica tu papel como facilitador que guía y apoya el aprendizaje, en lugar de resolver cada problema por ellos. Esto ayuda a fomentar la independencia y la autogestión. Les recomiendo, redactar sus preguntas por escrito, y si no se alcanzan a resolver en el taller, pues las envié al correo institucional del profesor: marco.canas@udea.edu.co"
   ]
  },
  {
   "cell_type": "markdown",
   "id": "940a3316-a8b7-4a0c-bd02-2af54d1ceaec",
   "metadata": {},
   "source": [
    "### 2. **Fomentar la Colaboración entre Estudiantes**\n",
    "   - **Trabajo en Grupo:** Anima a los estudiantes a trabajar en pequeños grupos o parejas durante los talleres. Esto no solo reduce la carga de preguntas individuales hacia el profesor, sino que también les permite aprender unos de otros.\n",
    "   - **Líderes de Grupo:** Designa estudiantes con más habilidades en cálculo como líderes de grupo, quienes puedan ayudar a sus compañeros antes de que te busquen a ti."
   ]
  },
  {
   "cell_type": "markdown",
   "id": "49e1da70-62b2-4bf2-9dfc-17728d276f93",
   "metadata": {},
   "source": [
    "### 3. **Establecer un Sistema para Preguntas**\n",
    "   - **Lista de Espera para Preguntas:** Implementa un sistema donde los estudiantes se inscriban en una lista de espera para recibir ayuda. Esto puede hacerse de manera física (con papel y lápiz) o digital (usando herramientas como Google Forms).\n",
    "   - **Tiempo Limitado para Cada Interacción:** Establece un tiempo límite para cada interacción, por ejemplo, 3-5 minutos por pregunta. Esto permite atender a más estudiantes en un tiempo razonable."
   ]
  },
  {
   "cell_type": "markdown",
   "id": "1a5a5a43-bac1-4a0f-9f39-ac2a3f9503a9",
   "metadata": {},
   "source": [
    "### 4. **Utilizar Recursos Adicionales**\n",
    "   - **Materiales de Apoyo:** Crea y distribuye materiales de apoyo como guías paso a paso, videos explicativos, y ejemplos resueltos que los estudiantes puedan consultar antes de solicitar ayuda directa.\n",
    "   - **Uso de Tecnología:** Utiliza plataformas como foros de discusión, o chats en línea (como Slack o Discord) donde los estudiantes puedan plantear dudas y recibir respuestas tanto de sus compañeros como de ti fuera del horario de clase. Utiliza el whatsApp del grupo de Cálculo Integral para enviar tus dudas. "
   ]
  },
  {
   "cell_type": "markdown",
   "id": "f59a2b0e-4709-40ac-a6f2-8ab5039d4b0a",
   "metadata": {},
   "source": [
    "### 5. **Fomentar la Autoevaluación y la Reflexión**\n",
    "   - **Cuestionamiento Guiado:** Antes de responder a una duda, guía a los estudiantes con preguntas que les hagan reflexionar sobre su proceso. Pregunta, por ejemplo, \"¿Qué pasos has seguido hasta ahora?\" o \"¿Qué parte del problema te parece más confusa?\" Esto les ayuda a desarrollar habilidades de resolución de problemas.\n",
    "   - **Autoevaluación:** Anima a los estudiantes a autoevaluar su trabajo antes de solicitar revisión. Proporciona una lista de verificación de puntos clave que deben revisar en sus ejercicios."
   ]
  },
  {
   "cell_type": "markdown",
   "id": "ab99c4df-d8b5-4b2d-a0ee-69d6d5402273",
   "metadata": {},
   "source": [
    "### 6. **Comunicación Abierta y Feedback**\n",
    "   - **Explicación de la Metodología:** Comparte con los estudiantes la razón detrás de tu enfoque, enfatizando la importancia de desarrollar habilidades de resolución independiente y colaboración.\n",
    "   - **Recoger Feedback:** Regularmente pide feedback a los estudiantes sobre la dinámica del taller y ajusta según sea necesario, demostrando que sus opiniones son valoradas y que estás comprometido con su aprendizaje.\n",
    "\n",
    "### 7. **Modelar el Comportamiento Respetuoso**\n",
    "   - **Respeto y Paciencia:** Modela el comportamiento que esperas de tus estudiantes. Trata sus preguntas con respeto y paciencia, lo que establecerá un tono positivo en el aula.\n",
    "   - **Reconocimiento del Esfuerzo:** Reconoce y valora el esfuerzo de los estudiantes por tratar de resolver problemas por sí mismos, y fomenta una cultura de aprendizaje y esfuerzo continuo.\n",
    "\n",
    "### 8. **Distribución del Tiempo de Manera Equitativa**\n",
    "   - **Ruedas de Atención:** Considera implementar un sistema de \"ruedas de atención\", donde te mueves por el aula de manera sistemática para asegurar que todos los estudiantes tengan la oportunidad de recibir ayuda.\n",
    "   - **Secciones de Consulta Programadas:** Reserva momentos específicos durante el taller para responder preguntas generales o problemas comunes que has observado, permitiendo atender dudas colectivamente."
   ]
  },
  {
   "cell_type": "markdown",
   "id": "d00baf66-052b-4ec1-80d0-800c93f12ca7",
   "metadata": {},
   "source": [
    "### 9. **Desarrollo de la Resiliencia Académica**\n",
    "   - **Fomentar la Tolerancia a la Frustración:** Anima a los estudiantes a ver las dificultades como una parte natural del proceso de aprendizaje en Cálculo Integral. Esto puede ayudar a reducir la ansiedad y la expectativa de recibir respuestas inmediatas.\n",
    "   - **Recompensa el Proceso, No Solo el Resultado:** Elogia los esfuerzos y procesos de pensamiento de los estudiantes, no solo las respuestas correctas. Esto puede motivarlos a perseverar incluso cuando no entienden algo de inmediato.\n",
    "\n",
    "Implementar estas estrategias puede crear un ambiente más productivo y respetuoso en el aula, donde los estudiantes se sientan apoyados y motivados para aprender de manera autónoma y colaborativa."
   ]
  },
  {
   "cell_type": "markdown",
   "id": "806bab6a-7157-49b4-b450-5c525cfb1f3c",
   "metadata": {},
   "source": [
    "# Teoría para el ejemplo 1\n",
    "\n",
    "Página 296 del purcell  \n",
    "\n",
    "\n"
   ]
  },
  {
   "cell_type": "markdown",
   "id": "70525d3e-ccb5-4bcd-ad06-949e6e4db795",
   "metadata": {},
   "source": [
    "# La noción de curva suave  \n",
    "\n",
    "El adjetivo **suave** se eligió para indicar que un objeto que se mueve a lo largo de la curva, de modo que su posición en el instante $t$, que es $(x, y)$:\n",
    "* no sufrirá cambios repentinos de dirección (la continuidad de $f'$ y de $g'$, aseguran esto) y\n",
    "* no se detiene ni regresa por la misma curva (esto se asegura si $f'(t)$ y $g'(t)$ no son cero de manera simultánea)."
   ]
  },
  {
   "cell_type": "markdown",
   "id": "5a40ae44-079d-434f-9656-965b431082bb",
   "metadata": {},
   "source": [
    "## Longitud de arco  \n",
    "\n",
    "\n",
    "Por último, estamos preparados para la pregunta principal."
   ]
  },
  {
   "cell_type": "markdown",
   "id": "91c713bc-1fe4-44a9-ab2c-2385daab578d",
   "metadata": {},
   "source": [
    "¿Qué significa la longitud de la curva suave dada de forma paramétrica por $x = f (t)$, $y = g(t)$, $a \\leq t \\leq b$?"
   ]
  },
  {
   "cell_type": "markdown",
   "id": "3f5da573-f729-43c1-adf4-9965e5a712b2",
   "metadata": {},
   "source": [
    "Divida el intervalo $[a, b]$ en n subintervalos por medio de los puntos $t_{i}$:  \n",
    "\n",
    "$$ a = t_{0} < t_{1} < t_{2} < \\cdots < t_{n} = b  $$\n",
    "\n",
    "Esto corta a la curva en $n$ pedazos con correspondientes puntos extremos $Q_{0}$, $Q_{1}$, $Q_{2}, \\ldots, Q_{n-1}, Q_{n}$, como se muestra en la figura 7.  \n",
    "\n",
    "Nuestra idea es aproximar la curva por medio del segmento de línea poligonal indicada, calcular su longitud total y después tomar el límite cuando la norma de la partición tiende a cero.  \n",
    "\n",
    "En particular, aproximamos la longitud $\\Delta s_{i}$ del $i$-ésimo segmento (véase la figura 7) por    \n",
    "\n",
    "<img src = 'https://github.com/marco-canas/calculo/blob/main/images/4_integral/2_aplicaciones_integral_definida/4_longitud_curva_plana/figura_7.png?raw=true' width = 600>  "
   ]
  },
  {
   "cell_type": "markdown",
   "id": "acced6e5-e427-47d5-a4f8-f767cda3e394",
   "metadata": {},
   "source": [
    "\\begin{align*} \n",
    "\\Delta s_{i} \\approx \\Delta w_{i} & = \\sqrt{(\\Delta x_{i})^{2} + (\\Delta y_{i})^{2}} \\\\\n",
    "                                  & = \\sqrt{[f(t_{i}) - f(t_{i-1})]^{2} + [g(t_{i}) - g(t_{i-1})]^{2}} \n",
    "\\end{align*}"
   ]
  },
  {
   "cell_type": "markdown",
   "id": "de248e87-ae9f-491a-8cfc-067ea41794fd",
   "metadata": {},
   "source": [
    "Del teorema del valor medio para derivadas (teorema 3.6A), sabemos que existen puntos $ti$ y $tNi$ en $(t_{i-1}, t_{i})$ tales que  \n",
    "\n",
    "\\begin{align*}\n",
    "f(t_{i}) - f(t_{i-1}) & = f'(\\bar{t}_{i})\\Delta t_{i} \\\\\n",
    "g(t_{i}) - g(t_{i-1}) & = g'(\\hat{t}_{i})\\Delta t_{i}\n",
    "\\end{align*}\n",
    "\n",
    "en donde $\\Delta t_{i} = t_{i} - t_{i-1}$. Por lo tanto,"
   ]
  },
  {
   "cell_type": "markdown",
   "id": "e54e86fa-0c5d-4f2e-9adc-e3462fc6f97f",
   "metadata": {},
   "source": [
    "\\begin{align*}\n",
    "\\Delta w_{i} & = \\sqrt{[f'(\\bar{t}_{i}) \\Delta t_{i}]^{2} + [g'(\\hat{t}_{i}) \\Delta t_{i}]^{2}}\\\\\n",
    "             & = \\sqrt{[f'(\\bar{t_{i}})]^{2} + [g'(\\hat{t_{i}})]^{2}} \\Delta t_{i}\n",
    "\\end{align*}\n"
   ]
  },
  {
   "cell_type": "markdown",
   "id": "6f816392-ba02-4418-ba27-cf7a5b961443",
   "metadata": {},
   "source": [
    "y la longitud total del segmento de línea poligonal es\n",
    "\n",
    "$$ \\sum_{i = 1}^{n} \\Delta w_{i} = \\sum_{i = 1}^{n}  \\sqrt{[f'(\\bar{t_{i}})]^{2} + [g'(\\hat{t_{i}})]^{2}} \\Delta t_{i} $$"
   ]
  },
  {
   "cell_type": "markdown",
   "id": "5a4239c3-53c0-48b7-bd7c-8e3b25607b65",
   "metadata": {},
   "source": [
    "La última expresión es casi una suma de Riemann, la única dificultad es que $\\bar{t}_{i}$ y $\\hat{t}_{i}$ no parecen ser el mismo punto. Sin embargo, se demuestra en textos de cálculo avanzado que en el límite (cuando la norma de la partición tiende a 0) esto no importa.   \n",
    "\n",
    "Por esto, podemos definir la longitud de arco $L$ de la curva como el límite de la expresión anterior cuando la norma de la partición tiende a cero; es decir,  \n",
    "\n",
    "$$ L = \\text{distancia recorrida por la partícula} = \\int_{a}^{b} \\sqrt{[f'(t)]^{2} + [g'(t)]^{2}} \\ dt $$"
   ]
  },
  {
   "cell_type": "code",
   "execution_count": null,
   "id": "940b33c8-db37-4ca9-9028-46e4e73296cb",
   "metadata": {},
   "outputs": [],
   "source": []
  },
  {
   "cell_type": "code",
   "execution_count": null,
   "id": "12c61e38-fc4b-4558-9cbf-bbaf59ddcec4",
   "metadata": {},
   "outputs": [],
   "source": []
  },
  {
   "cell_type": "markdown",
   "id": "19b8c492-385a-48c3-ba11-41594c37055a",
   "metadata": {},
   "source": [
    "# Ejemplo 1  \n",
    "\n",
    "* Dibuje la curva determinada por las ecuaciones paramétricas $x = 2t + 1$, $y = t^{2} - 1$, $0 \\leq t \\leq 3$\n",
    "  \n",
    "    - Primero elabore la tabla de tres columnas\n",
    "        - La columna del tiempo debe establecer la progresión aritmética que define los valores de esta columna\n",
    "        - Luego evalúa en la función $x(t)$ para obtener los valores de la segunda columna.\n",
    "        - Finalmente evalúa en la función $y(t)$ para obtener los valores de la tercera columna.\n",
    "        - Redacta una interpretación de la tabla, leyendo las tres columnas e interpretando la segunda columna, como la que describe\n",
    "            el   movimiento horizontal de la partícula, y la tercera columna como la que describe el movimiento vertical. \n",
    "    - Luego, grafícas y para ello:\n",
    "        - trazar los ejes y etiquetarlos\n",
    "        - metrizar los ejes, definiendo cada cuadrito qué valor tendrá. \n",
    "        - trace los puntos en el plano\n",
    "        - una los puntos con segmentos rectilíneos.\n",
    "        - Pinta las flechas que describan el sentido de movimiento.\n",
    "        - Redacta una interpretación del gráfico que describa verbalmente el movimiento de la partícula u objeto.\n",
    "    - Finalmente, determina la distancia recorrida por la partícula utilizando la fórmula de distancia entre dos puntos en el plano,\n",
    "        o la fórmula con integral definida\n",
    "        - Redactar una conclusión verbal del resultado obtenido con la fórmula de longitud de un segmento rectilíneo o la fórmula\n",
    "          de longitud de una corva no rectilínea con integral definida.  \n"
   ]
  },
  {
   "cell_type": "markdown",
   "id": "8ab67504-a70d-40d1-a226-acf425d6c790",
   "metadata": {},
   "source": [
    "## SOLUCIÓN:   \n",
    "\n",
    "1. Construimos una tabla de valores, con tres columnas,\n",
    "2. después trazamos las parejas ordenadas $(x, y)$, y por último\n",
    "3. conectamos estos puntos en el orden creciente de $t$, como se muestra en la figura 5.\n",
    "\n",
    "\n",
    "Para producir tal gráfica, puede utilizarse una calculadora gráfica o un CAS (del inglés computer algebra sistem: sistema de álgebra computacional).   \n",
    "\n",
    "Por lo regular, tal software produce una gráfica creando una tabla, al igual que nosotros, y conecta los puntos."
   ]
  },
  {
   "cell_type": "code",
   "execution_count": 6,
   "id": "8701ef10-0b7d-4741-9020-6b39e29e213b",
   "metadata": {},
   "outputs": [
    {
     "data": {
      "application/vnd.jupyter.widget-view+json": {
       "model_id": "c6083aa671554638887fe9d4f8a86368",
       "version_major": 2,
       "version_minor": 0
      },
      "text/plain": [
       "interactive(children=(FloatSlider(value=0.0, description='tiempo', max=3.0, step=0.01), Output()), _dom_classe…"
      ]
     },
     "metadata": {},
     "output_type": "display_data"
    },
    {
     "data": {
      "text/plain": [
       "<function __main__.trazar_movimiento(tiempo=0)>"
      ]
     },
     "execution_count": 6,
     "metadata": {},
     "output_type": "execute_result"
    }
   ],
   "source": [
    "import numpy as np \n",
    "import matplotlib.pyplot as plt \n",
    "from ipywidgets import interact  \n",
    "\n",
    "def x(t):\n",
    "    return 2*t + 1\n",
    "def y(t):\n",
    "    return t**2 - 1   \n",
    "        \n",
    "rastro_x, rastro_y = [x(0)], [y(0)]  \n",
    "\n",
    "\n",
    "def trazar_movimiento(tiempo = 0):\n",
    "    plt.figure(figsize = (6,6))\n",
    "    plt.title('Trayectoria de una particula dada por $x = 2t + 1, y = t^{2}- 1$')\n",
    "    plt.axis([-1,9, -2, 9])\n",
    "    plt.xlabel('avance x')\n",
    "    plt.ylabel('altura y')\n",
    "    plt.scatter(x(tiempo), y(tiempo), color = 'red', marker = 's')\n",
    "    rastro_x.append(x(tiempo))\n",
    "    rastro_y.append(y(tiempo))\n",
    "    plt.plot(rastro_x, rastro_y)\n",
    "    plt.grid(alpha = 0.4)\n",
    "    plt.yticks(np.arange(-1,10))\n",
    "    plt.savefig('/home/marco/Documentos/docencia/calculo/images/4_integral/'\\\n",
    "                +'2_aplicaciones_integral_definida/4_longitud_curva_plana/ejemplo_1_longitud_curva.jpg')  \n",
    "    plt.show()\n",
    "    \n",
    "interact(trazar_movimiento, tiempo = (0, 3, 0.01))    "
   ]
  },
  {
   "cell_type": "markdown",
   "id": "e1787a79-f5a9-4845-a6d8-1c703d80adec",
   "metadata": {},
   "source": [
    "## Inferencias o interpretaciones del gráfico  \n",
    "\n"
   ]
  },
  {
   "cell_type": "markdown",
   "id": "dfbe11a1-e2ec-4725-b209-71e03323f14e",
   "metadata": {},
   "source": []
  },
  {
   "cell_type": "code",
   "execution_count": 4,
   "id": "7b9d9aca-d210-4d45-ba54-6ef25ad50bfe",
   "metadata": {},
   "outputs": [
    {
     "data": {
      "text/latex": [
       "$\\displaystyle 11.3052794397372$"
      ],
      "text/plain": [
       "11.3052794397372"
      ]
     },
     "execution_count": 4,
     "metadata": {},
     "output_type": "execute_result"
    }
   ],
   "source": [
    "from sympy import * \n",
    "x = var('x') \n",
    "integrate(sqrt(4+4*x**2), (x, 0,3)).evalf()"
   ]
  },
  {
   "cell_type": "markdown",
   "id": "18b15691-12cb-46c1-b30d-72d078f6e7a6",
   "metadata": {},
   "source": [
    "# Dimensiones de cada clase  \n",
    "\n",
    "1. Conocimiento Teórico de Matemáticas\n",
    "\n",
    "Indicadores:\n",
    "\n",
    "* Comprensión de conceptos fundamentales de cálculo diferencial.\n",
    "* Capacidad para resolver ecuaciones diferenciales.\n",
    "* Habilidad para derivar funciones complejas.\n",
    "* Comprensión de límites y continuidad.\n",
    "* Capacidad para aplicar teoremas de cálculo en problemas matemáticos.\n"
   ]
  },
  {
   "cell_type": "markdown",
   "id": "8f4bcc4c",
   "metadata": {},
   "source": [
    "\n",
    "2. Habilidad en Programación con Python\n",
    "\n",
    "Indicadores:\n",
    "\n",
    "* Capacidad para escribir y ejecutar scripts básicos en Python.\n",
    "* Comprensión y uso de estructuras de control (condicionales, bucles).\n",
    "* Uso de funciones y módulos en Python.\n",
    "* Manejo de estructuras de datos (listas, diccionarios, tuplas).\n",
    "* Habilidad para depurar y solucionar errores en el código.\n",
    "* Uso de bibliotecas matemáticas como NumPy y SymPy.\n"
   ]
  },
  {
   "cell_type": "markdown",
   "id": "cfc7d43e",
   "metadata": {},
   "source": [
    "\n",
    "3. Pensamiento Computacional\n",
    "\n",
    "Indicadores:\n",
    "\n",
    "* Capacidad para descomponer problemas complejos en subproblemas manejables.\n",
    "* Habilidad para diseñar algoritmos eficientes para resolver problemas específicos.\n",
    "* Comprensión de la lógica detrás de las estructuras de control y su aplicación en la programación.\n",
    "* Capacidad para abstraer conceptos matemáticos en soluciones programables.\n",
    "* Habilidad para identificar y aplicar patrones en la resolución de problemas.\n"
   ]
  },
  {
   "cell_type": "markdown",
   "id": "5a345b3e",
   "metadata": {},
   "source": [
    "\n",
    "4. Aplicación de Matemáticas en Problemas Reales\n",
    "\n",
    "Indicadores:\n",
    "\n",
    "* Capacidad para modelar situaciones reales utilizando funciones matemáticas.\n",
    "* Habilidad para implementar soluciones matemáticas en código Python para resolver problemas prácticos.\n",
    "* Comprensión de cómo interpretar los resultados obtenidos mediante simulaciones o cálculos computacionales.\n",
    "* Uso de Python para la visualización de datos y resultados matemáticos.\n",
    "* Capacidad para integrar conocimientos matemáticos y de programación en proyectos interdisciplinarios."
   ]
  },
  {
   "cell_type": "markdown",
   "id": "a3e5e6ab",
   "metadata": {},
   "source": [
    "# 20 ejercicios de entrenamiento o adquisición de habilidades obtenido a través de ChatGPT para una formación personalizada y centrada en la habilidad que se quiere lograr con la enseñanza del ejemplo anterior"
   ]
  },
  {
   "cell_type": "markdown",
   "id": "1c5355ac-f651-4caf-9f32-36732552a2fb",
   "metadata": {},
   "source": [
    "Aquí tienes 20 ejercicios similares para que tus estudiantes de ingeniería agropecuaria practiquen el trazado manual de curvas paramétricas y luego los realicen con GeoGebra o ipywidgets de Python:\n",
    "\n",
    "1. **Ejercicio 1**:\n",
    "   - Dibuje la curva determinada por las ecuaciones paramétricas $x = 3t - 2$, $y = t^2 - 2t$, $ -1 \\leq t \\leq 2$.\n",
    "   - Primero elabore la tabla de tres columnas.\n",
    "   - Trace los puntos en el plano.\n",
    "   - Una los puntos con segmentos rectilíneos."
   ]
  },
  {
   "cell_type": "code",
   "execution_count": 16,
   "id": "620433b4-ff81-4566-b743-595440eb717b",
   "metadata": {},
   "outputs": [
    {
     "data": {
      "application/vnd.jupyter.widget-view+json": {
       "model_id": "8ddf1774abbd4d78ac259116c8b6b646",
       "version_major": 2,
       "version_minor": 0
      },
      "text/plain": [
       "interactive(children=(FloatSlider(value=-1.0, description='tiempo', max=2.0, min=-1.0, step=0.01), Output()), …"
      ]
     },
     "metadata": {},
     "output_type": "display_data"
    },
    {
     "data": {
      "text/plain": [
       "<function __main__.trazar_movimiento(tiempo=-1)>"
      ]
     },
     "execution_count": 16,
     "metadata": {},
     "output_type": "execute_result"
    }
   ],
   "source": [
    "#animación \n",
    "import numpy as np \n",
    "import matplotlib.pyplot as plt \n",
    "from ipywidgets import interact  \n",
    "\n",
    "\n",
    "\n",
    "def x(t):\n",
    "    return 3*t - 2\n",
    "def y(t):\n",
    "    return  t**2 - 2*t \n",
    "\n",
    "punto_inicial_de_t = -1\n",
    "punto_final_de_t = 2\n",
    "rastro_x, rastro_y = [x(punto_inicial_de_t)], [y(punto_inicial_de_t)]  \n",
    "\n",
    "\n",
    "def trazar_movimiento(tiempo = punto_inicial_de_t):\n",
    "    plt.figure(figsize = (6,6))\n",
    "    plt.title('Trayectoria de una particula')\n",
    "    plt.axis([x(punto_inicial_de_t) - 1, 9, -2, 9])\n",
    "    plt.xlabel('avance x')\n",
    "    plt.ylabel('altura y')\n",
    "    plt.scatter(x(tiempo), y(tiempo), color = 'red', marker = 's')\n",
    "    rastro_x.append(x(tiempo))\n",
    "    rastro_y.append(y(tiempo))\n",
    "    plt.plot(rastro_x, rastro_y)\n",
    "    plt.grid(alpha = 0.4)\n",
    "    plt.yticks(np.arange(-1,10))\n",
    "    plt.xticks(np.arange(int(x(punto_inicial_de_t))-1,10))\n",
    "    plt.savefig('/home/marco/Documentos/docencia/calculo/images/4_integral/'\\\n",
    "                +'2_aplicaciones_integral_definida/4_longitud_curva_plana/ejemplo_1_longitud_curva.jpg')  \n",
    "    plt.show()\n",
    "    \n",
    "interact(trazar_movimiento, tiempo = (punto_inicial_de_t, punto_final_de_t, 0.01))    "
   ]
  },
  {
   "cell_type": "code",
   "execution_count": null,
   "id": "9b684c41-f2c9-428e-8de9-ca7aae59dd65",
   "metadata": {},
   "outputs": [],
   "source": [
    "# tabla\n",
    "import pandas as pd \n"
   ]
  },
  {
   "cell_type": "code",
   "execution_count": null,
   "id": "8da358a1-0ffb-440d-8fbc-f074a317cf0f",
   "metadata": {},
   "outputs": [],
   "source": [
    "#Grafico\n",
    "import matplotlib.pyplot as plt \n"
   ]
  },
  {
   "cell_type": "code",
   "execution_count": null,
   "id": "92692906-004e-4b3f-986d-b2a809abe765",
   "metadata": {},
   "outputs": [],
   "source": [
    "# longitud de la curva o distancia recirrida\n",
    "from sympy import * \n"
   ]
  },
  {
   "cell_type": "markdown",
   "id": "8b89ad0f-7103-47f6-abc7-181175377210",
   "metadata": {},
   "source": [
    "2. **Ejercicio 2**:\n",
    "   - Para la curva determinada por las ecuaciones paramétricas $x = \\cos(t)$, $y = \\sin(t)$, $ 0 \\leq t \\leq 2\\pi $. \n",
    "     \n",
    "- Primero elabore la tabla de tres columnas\n",
    "        - La columna del tiempo debe establecer la progresión aritmética que define los valores de esta columna\n",
    "        - Luego evalúa en la función $x(t)$ para obtener los valores de la segunda columna.\n",
    "        - Finalmente evalúa en la función $y(t)$ para obtener los valores de la tercera columna.\n",
    "        - Redacta una interpretación de la tabla, leyendo las tres columnas e interpretando la segunda columna, como la que describe\n",
    "            el   movimiento horizontal de la partícula, y la tercera columna como la que describe el movimiento vertical. \n",
    "    - Luego, grafícas y para ello:\n",
    "        - trazar los ejes y etiquetarlos\n",
    "        - metrizar los ejes, definiendo cada cuadrito qué valor tendrá. \n",
    "        - trace los puntos en el plano\n",
    "        - una los puntos con segmentos rectilíneos.\n",
    "        - Pinta las flechas que describan el sentido de movimiento.\n",
    "        - Redacta una interpretación del gráfico que describa verbalmente el movimiento de la partícula u objeto.\n",
    "    - Finalmente, determina la distancia recorrida por la partícula utilizando la fórmula de distancia entre dos puntos en el plano,\n",
    "        o la fórmula con integral definida\n",
    "        - Redactar una conclusión verbal del resultado obtenido con la fórmula de longitud de un segmento rectilíneo o la fórmula\n",
    "          de longitud de una corva no rectilínea con integral definida.  \n"
   ]
  },
  {
   "cell_type": "code",
   "execution_count": 3,
   "id": "2b2f7220-bd13-468e-b082-f7fa5cd2fbf1",
   "metadata": {},
   "outputs": [
    {
     "data": {
      "application/vnd.jupyter.widget-view+json": {
       "model_id": "82b0f336a2c14102a832e64acc2d73be",
       "version_major": 2,
       "version_minor": 0
      },
      "text/plain": [
       "interactive(children=(FloatSlider(value=0.0, description='tiempo', max=6.293185307179586, step=0.01), Output()…"
      ]
     },
     "metadata": {},
     "output_type": "display_data"
    },
    {
     "data": {
      "text/plain": [
       "<function __main__.trazar_movimiento(tiempo=0)>"
      ]
     },
     "execution_count": 3,
     "metadata": {},
     "output_type": "execute_result"
    }
   ],
   "source": [
    "#animación \n",
    "import numpy as np \n",
    "import matplotlib.pyplot as plt \n",
    "from ipywidgets import interact  \n",
    "\n",
    "\n",
    "\n",
    "def x(t):\n",
    "    return np.cos(t)\n",
    "def y(t):\n",
    "    return  np.sin(t)\n",
    "\n",
    "punto_inicial_de_t = 0\n",
    "punto_final_de_t = 2*np.pi\n",
    "rastro_x, rastro_y = [x(punto_inicial_de_t)], [y(punto_inicial_de_t)]  \n",
    "\n",
    "\n",
    "def trazar_movimiento(tiempo = punto_inicial_de_t):\n",
    "    plt.figure(figsize = (6,6)) # crea el lienzo\n",
    "    plt.title('Trayectoria de una particula') # le da título\n",
    "    plt.axis([x(punto_inicial_de_t) - 3, x(punto_inicial_de_t) + 2, y(punto_inicial_de_t) - 3, y(punto_inicial_de_t) + 2]) # define el rectángulo de visualización\n",
    "    plt.xlabel('avance x')\n",
    "    plt.ylabel('altura y')\n",
    "    plt.scatter(x(tiempo), y(tiempo), color = 'red', marker = 's') # grafico de la posición de la partícula en el instante t\n",
    "    rastro_x.append(x(tiempo)) # agrega la posición actual a la lista de posiciones anteriores \n",
    "    rastro_y.append(y(tiempo))\n",
    "    plt.plot(rastro_x, rastro_y)\n",
    "    plt.grid(alpha = 0.4)\n",
    "    #plt.yticks(np.arange(-1,10))\n",
    "    #plt.xticks(np.arange(int(x(punto_inicial_de_t))-1,10))\n",
    "    plt.savefig('/home/marco/Documentos/docencia/calculo/images/4_integral/'\\\n",
    "                +'2_aplicaciones_integral_definida/4_longitud_curva_plana/ejemplo_1_longitud_curva.jpg')  \n",
    "    plt.show()\n",
    "    \n",
    "interact(trazar_movimiento, tiempo = (punto_inicial_de_t, punto_final_de_t + 0.01, 0.01))    \n"
   ]
  },
  {
   "cell_type": "markdown",
   "id": "fb80897f-338e-4498-bc16-33f56ea6b997",
   "metadata": {},
   "source": [
    "# Conclusión de la animación\n",
    "\n",
    "La trayectória de la partícula es una circunferencia y la recorre en el sentido contrario al de las manecillas del relog "
   ]
  },
  {
   "cell_type": "code",
   "execution_count": null,
   "id": "39e4e2e4-c178-445b-8c2c-2c960bb1ccb1",
   "metadata": {},
   "outputs": [],
   "source": [
    "#tabla\n",
    "import numpy as np \n",
    "import pandas as pd \n",
    "\n",
    "punto_inicial = 0\n",
    "punto_final = 2*np.pi\n",
    "\n",
    "t_ = np.arange(punto_inicial, punto_final, incremento) # np.arange cre progresiones aritméticas \n",
    "x_ = x(t)\n",
    "y_ = y(t)\n",
    "diccionario = {'x':x_, }\n"
   ]
  },
  {
   "cell_type": "markdown",
   "id": "322bb0ea-c8ce-4f96-b075-d536c48a5663",
   "metadata": {},
   "source": [
    "# Conclusión del tabla"
   ]
  },
  {
   "cell_type": "code",
   "execution_count": null,
   "id": "9382f7b1-f785-4f3c-81c1-5ad2d6c83c12",
   "metadata": {},
   "outputs": [],
   "source": [
    "#Grafico"
   ]
  },
  {
   "cell_type": "markdown",
   "id": "7111cb31-d1b0-45ae-a020-a71395c165b8",
   "metadata": {},
   "source": [
    "# Conclusión del gráfico"
   ]
  },
  {
   "cell_type": "code",
   "execution_count": null,
   "id": "50504688",
   "metadata": {},
   "outputs": [],
   "source": [
    "# Evaluar la integral definida que determina la distancia recorrida por la partícula. "
   ]
  },
  {
   "cell_type": "markdown",
   "id": "13f0f177",
   "metadata": {},
   "source": [
    "## Redacta la conclusión o interpretación del resultado de la integral "
   ]
  },
  {
   "cell_type": "markdown",
   "id": "7d374f00-eb3c-42e2-acf6-932966f9b6ca",
   "metadata": {},
   "source": [
    "3. **Ejercicio 3**:\n",
    "   - Dibuje la curva determinada por las ecuaciones paramétricas $x = t^2 - 4$, $y = 2t + 1$, $ -2 \\leq t \\leq 2 $.\n",
    "   - Primero elabore la tabla de tres columnas.\n",
    "   - Trace los puntos en el plano.\n",
    "   - Una los puntos con segmentos rectilíneos.\n",
    "   - Finalmente determine la distancia recorrida por la partícula. "
   ]
  },
  {
   "cell_type": "markdown",
   "id": "bdca65b0-a540-4585-b341-198247fe961c",
   "metadata": {},
   "source": [
    "4. **Ejercicio 4**:\n",
    "   - Dibuje la curva determinada por las ecuaciones paramétricas $x = \\sin(t)$, $y = \\cos(2t)$, $ 0 \\leq t \\leq 2\\pi $.\n",
    "   - Primero elabore la tabla de tres columnas.\n",
    "   - Trace los puntos en el plano.\n",
    "   - Una los puntos con segmentos rectilíneos.\n",
    "   - Y finalmente hallar la longitud de la curva.\n",
    "  \n",
    "   - Enviarle un videito de repuesta (michel, yanine y silvestre). "
   ]
  },
  {
   "cell_type": "markdown",
   "id": "47647268-e9ce-4018-b790-5e7f6c350fe6",
   "metadata": {},
   "source": [
    "5. **Ejercicio 5**:\n",
    "   - Dibuje la curva determinada por las ecuaciones paramétricas $x = t^3 - 3t$, $y = t^{2}$, $ -2 \\leq t \\leq 2 $.\n",
    "   - Primero elabore la tabla de tres columnas.\n",
    "   - Trace los puntos en el plano.\n",
    "   - Una los puntos con segmentos rectilíneos.\n"
   ]
  },
  {
   "cell_type": "markdown",
   "id": "d7643c7c",
   "metadata": {},
   "source": [
    "\n",
    "6. **Ejercicio 6**:\n",
    "   - Dibuje la curva determinada por las ecuaciones paramétricas \\(x = 4\\cos(t)\\), \\(y = 3\\sin(t)\\), \\( 0 \\leq t \\leq 2\\pi \\).\n",
    "   - Primero elabore la tabla de tres columnas.\n",
    "   - Trace los puntos en el plano.\n",
    "   - Una los puntos con segmentos rectilíneos."
   ]
  },
  {
   "cell_type": "code",
   "execution_count": null,
   "id": "7d3af196-1e0b-408c-ba38-89acdfdcbfcb",
   "metadata": {},
   "outputs": [],
   "source": [
    "# animación"
   ]
  },
  {
   "cell_type": "code",
   "execution_count": 25,
   "id": "4062bbfe-583f-4f35-a495-02779cbc1bdf",
   "metadata": {},
   "outputs": [
    {
     "data": {
      "text/html": [
       "<div>\n",
       "<style scoped>\n",
       "    .dataframe tbody tr th:only-of-type {\n",
       "        vertical-align: middle;\n",
       "    }\n",
       "\n",
       "    .dataframe tbody tr th {\n",
       "        vertical-align: top;\n",
       "    }\n",
       "\n",
       "    .dataframe thead th {\n",
       "        text-align: right;\n",
       "    }\n",
       "</style>\n",
       "<table border=\"1\" class=\"dataframe\">\n",
       "  <thead>\n",
       "    <tr style=\"text-align: right;\">\n",
       "      <th></th>\n",
       "      <th>t</th>\n",
       "      <th>x</th>\n",
       "      <th>y</th>\n",
       "    </tr>\n",
       "  </thead>\n",
       "  <tbody>\n",
       "    <tr>\n",
       "      <th>0</th>\n",
       "      <td>0.000000</td>\n",
       "      <td>4.000000e+00</td>\n",
       "      <td>0.000000e+00</td>\n",
       "    </tr>\n",
       "    <tr>\n",
       "      <th>1</th>\n",
       "      <td>0.785398</td>\n",
       "      <td>2.828427e+00</td>\n",
       "      <td>2.121320e+00</td>\n",
       "    </tr>\n",
       "    <tr>\n",
       "      <th>2</th>\n",
       "      <td>1.570796</td>\n",
       "      <td>2.449294e-16</td>\n",
       "      <td>3.000000e+00</td>\n",
       "    </tr>\n",
       "    <tr>\n",
       "      <th>3</th>\n",
       "      <td>2.356194</td>\n",
       "      <td>-2.828427e+00</td>\n",
       "      <td>2.121320e+00</td>\n",
       "    </tr>\n",
       "    <tr>\n",
       "      <th>4</th>\n",
       "      <td>3.141593</td>\n",
       "      <td>-4.000000e+00</td>\n",
       "      <td>3.673940e-16</td>\n",
       "    </tr>\n",
       "    <tr>\n",
       "      <th>5</th>\n",
       "      <td>3.926991</td>\n",
       "      <td>-2.828427e+00</td>\n",
       "      <td>-2.121320e+00</td>\n",
       "    </tr>\n",
       "    <tr>\n",
       "      <th>6</th>\n",
       "      <td>4.712389</td>\n",
       "      <td>-7.347881e-16</td>\n",
       "      <td>-3.000000e+00</td>\n",
       "    </tr>\n",
       "    <tr>\n",
       "      <th>7</th>\n",
       "      <td>5.497787</td>\n",
       "      <td>2.828427e+00</td>\n",
       "      <td>-2.121320e+00</td>\n",
       "    </tr>\n",
       "    <tr>\n",
       "      <th>8</th>\n",
       "      <td>6.283185</td>\n",
       "      <td>4.000000e+00</td>\n",
       "      <td>-7.347881e-16</td>\n",
       "    </tr>\n",
       "  </tbody>\n",
       "</table>\n",
       "</div>"
      ],
      "text/plain": [
       "          t             x             y\n",
       "0  0.000000  4.000000e+00  0.000000e+00\n",
       "1  0.785398  2.828427e+00  2.121320e+00\n",
       "2  1.570796  2.449294e-16  3.000000e+00\n",
       "3  2.356194 -2.828427e+00  2.121320e+00\n",
       "4  3.141593 -4.000000e+00  3.673940e-16\n",
       "5  3.926991 -2.828427e+00 -2.121320e+00\n",
       "6  4.712389 -7.347881e-16 -3.000000e+00\n",
       "7  5.497787  2.828427e+00 -2.121320e+00\n",
       "8  6.283185  4.000000e+00 -7.347881e-16"
      ]
     },
     "execution_count": 25,
     "metadata": {},
     "output_type": "execute_result"
    }
   ],
   "source": [
    "# # tabla  \n",
    "\n",
    "#tabla\n",
    "import numpy as np \n",
    "import pandas as pd \n",
    "\n",
    "def x(t):\n",
    "    return 4*np.cos(t)\n",
    "\n",
    "def y(t):\n",
    "    return 3*np.sin(t)\n",
    "punto_inicial = 0\n",
    "punto_final = 2*np.pi\n",
    "incremento = np.pi/4\n",
    "t_ = np.arange(punto_inicial, punto_final + incremento, incremento) # np.arange cre progresiones aritméticas \n",
    "x_ = x(t_)\n",
    "y_ = y(t_)\n",
    "diccionario = {'t':t_,'x':x_,'y':y_}\n",
    "\n",
    "pd.DataFrame(diccionario)\n"
   ]
  },
  {
   "cell_type": "code",
   "execution_count": null,
   "id": "c22bfe0f-8bc6-4f02-8aaa-cd6cd24d8e1c",
   "metadata": {},
   "outputs": [],
   "source": []
  },
  {
   "cell_type": "markdown",
   "id": "f6d6a39e-c631-4746-8de7-54439e2d1c8d",
   "metadata": {},
   "source": [
    "7. **Ejercicio 7**:\n",
    "   - Dibuje la curva determinada por las ecuaciones paramétricas $x = e^t$, $y = e^{-t}$, $ -1 \\leq t \\leq 1 $.\n",
    "   - Primero elabore la tabla de tres columnas.\n",
    "   - Trace los puntos en el plano.\n",
    "   - Una los puntos con segmentos rectilíneos."
   ]
  },
  {
   "cell_type": "markdown",
   "id": "db5f1365-dd92-4b2d-af16-22afa27e1b76",
   "metadata": {},
   "source": [
    "8. **Ejercicio 8**:\n",
    "   - Dibuje la curva determinada por las ecuaciones paramétricas $x = \\tan(t)$, $y = \\sec(t)$, $ -\\frac{\\pi}{4} \\leq t \\leq \\frac{\\pi}{4} $.\n",
    "   - Primero elabore la tabla de tres columnas.\n",
    "   - Trace los puntos en el plano.\n",
    "   - Una los puntos con segmentos rectilíneos.\n",
    "   - Y finalmente determine la longitud de la curva utilizando integración definida. "
   ]
  },
  {
   "cell_type": "markdown",
   "id": "cb3541a7-7775-46e7-ab3b-798773976011",
   "metadata": {},
   "source": [
    "9. **Ejercicio 9**:\n",
    "   - Dibuje la curva determinada por las ecuaciones paramétricas \\(x = \\ln(t+1)\\), \\(y = t^2\\), \\( 0 \\leq t \\leq 2 \\).\n",
    "   - Primero elabore la tabla de tres columnas.\n",
    "   - Trace los puntos en el plano.\n",
    "   - Una los puntos con segmentos rectilíneos."
   ]
  },
  {
   "cell_type": "markdown",
   "id": "e3ba3858-78a7-4050-b9cd-d5985ee290e4",
   "metadata": {},
   "source": [
    "10. **Ejercicio 10**:\n",
    "    - Dibuje la curva determinada por las ecuaciones paramétricas \\(x = \\sqrt{t}\\), \\(y = t^3 - 2\\), \\( 0 \\leq t \\leq 2 \\).\n",
    "    - Primero elabore la tabla de tres columnas.\n",
    "    - Trace los puntos en el plano.\n",
    "    - Una los puntos con segmentos rectilíneos."
   ]
  },
  {
   "cell_type": "markdown",
   "id": "0845a2f8-2293-4e12-8f1d-a89a59e29955",
   "metadata": {},
   "source": [
    "11. **Ejercicio 11**:\n",
    "    - Dibuje la curva determinada por las ecuaciones paramétricas \\(x = 2 + \\cos(2t)\\), \\(y = \\sin(3t)\\), \\( 0 \\leq t \\leq 2\\pi \\).\n",
    "    - Primero elabore la tabla de tres columnas.\n",
    "    - Trace los puntos en el plano.\n",
    "    - Una los puntos con segmentos rectilíneos."
   ]
  },
  {
   "cell_type": "markdown",
   "id": "8abad1c3-35bd-4f26-aac7-9bf81faf7b84",
   "metadata": {},
   "source": [
    "12. **Ejercicio 12**:\n",
    "    - Dibuje la curva determinada por las ecuaciones paramétricas $x = t\\sin(t)$, $y = t\\cos(t)$, $ 0 \\leq t \\leq 4\\pi $.\n",
    "    - Primero elabore la tabla de tres columnas.\n",
    "    - Trace los puntos en el plano.\n",
    "    - Una los puntos con segmentos rectilíneos.\n",
    "    - Y finalmente determine la longitud de la curva"
   ]
  },
  {
   "cell_type": "code",
   "execution_count": null,
   "id": "3eb15894-38bb-4005-9c92-57e75a115c29",
   "metadata": {},
   "outputs": [],
   "source": [
    "#animación \n",
    "import numpy as np \n",
    "import matplotlib.pyplot as plt \n",
    "from ipywidgets import interact  \n",
    "\n",
    "\n",
    "\n",
    "def x(t):\n",
    "    return 3*t - 2\n",
    "def y(t):\n",
    "    return  t**2 - 2*t \n",
    "\n",
    "punto_inicial_de_t = -1\n",
    "punto_final_de_t = 2\n",
    "rastro_x, rastro_y = [x(punto_inicial_de_t)], [y(punto_inicial_de_t)]  \n",
    "\n",
    "\n",
    "def trazar_movimiento(tiempo = punto_inicial_de_t):\n",
    "    plt.figure(figsize = (6,6))\n",
    "    plt.title('Trayectoria de una particula')\n",
    "    plt.axis([x(punto_inicial_de_t) - 1, 9, -2, 9])\n",
    "    plt.xlabel('avance x')\n",
    "    plt.ylabel('altura y')\n",
    "    plt.scatter(x(tiempo), y(tiempo), color = 'red', marker = 's')\n",
    "    rastro_x.append(x(tiempo))\n",
    "    rastro_y.append(y(tiempo))\n",
    "    plt.plot(rastro_x, rastro_y)\n",
    "    plt.grid(alpha = 0.4)\n",
    "    plt.yticks(np.arange(-1,10))\n",
    "    plt.xticks(np.arange(int(x(punto_inicial_de_t))-1,10))\n",
    "    plt.savefig('/home/marco/Documentos/docencia/calculo/images/4_integral/'\\\n",
    "                +'2_aplicaciones_integral_definida/4_longitud_curva_plana/ejemplo_1_longitud_curva.jpg')  \n",
    "    plt.show()\n",
    "    \n",
    "interact(trazar_movimiento, tiempo = (punto_inicial_de_t, punto_final_de_t, 0.01))    "
   ]
  },
  {
   "cell_type": "code",
   "execution_count": 26,
   "id": "dfb7f416-2e85-4386-a313-82e39ff3d264",
   "metadata": {},
   "outputs": [
    {
     "data": {
      "text/html": [
       "<div>\n",
       "<style scoped>\n",
       "    .dataframe tbody tr th:only-of-type {\n",
       "        vertical-align: middle;\n",
       "    }\n",
       "\n",
       "    .dataframe tbody tr th {\n",
       "        vertical-align: top;\n",
       "    }\n",
       "\n",
       "    .dataframe thead th {\n",
       "        text-align: right;\n",
       "    }\n",
       "</style>\n",
       "<table border=\"1\" class=\"dataframe\">\n",
       "  <thead>\n",
       "    <tr style=\"text-align: right;\">\n",
       "      <th></th>\n",
       "      <th>t</th>\n",
       "      <th>x</th>\n",
       "      <th>y</th>\n",
       "    </tr>\n",
       "  </thead>\n",
       "  <tbody>\n",
       "    <tr>\n",
       "      <th>0</th>\n",
       "      <td>0.000000</td>\n",
       "      <td>0.000000e+00</td>\n",
       "      <td>0.000000e+00</td>\n",
       "    </tr>\n",
       "    <tr>\n",
       "      <th>1</th>\n",
       "      <td>1.570796</td>\n",
       "      <td>1.570796e+00</td>\n",
       "      <td>9.618353e-17</td>\n",
       "    </tr>\n",
       "    <tr>\n",
       "      <th>2</th>\n",
       "      <td>3.141593</td>\n",
       "      <td>3.847341e-16</td>\n",
       "      <td>-3.141593e+00</td>\n",
       "    </tr>\n",
       "    <tr>\n",
       "      <th>3</th>\n",
       "      <td>4.712389</td>\n",
       "      <td>-4.712389e+00</td>\n",
       "      <td>-8.656518e-16</td>\n",
       "    </tr>\n",
       "    <tr>\n",
       "      <th>4</th>\n",
       "      <td>6.283185</td>\n",
       "      <td>-1.538937e-15</td>\n",
       "      <td>6.283185e+00</td>\n",
       "    </tr>\n",
       "    <tr>\n",
       "      <th>5</th>\n",
       "      <td>7.853982</td>\n",
       "      <td>7.853982e+00</td>\n",
       "      <td>2.404588e-15</td>\n",
       "    </tr>\n",
       "    <tr>\n",
       "      <th>6</th>\n",
       "      <td>9.424778</td>\n",
       "      <td>3.462607e-15</td>\n",
       "      <td>-9.424778e+00</td>\n",
       "    </tr>\n",
       "    <tr>\n",
       "      <th>7</th>\n",
       "      <td>10.995574</td>\n",
       "      <td>-1.099557e+01</td>\n",
       "      <td>-4.712993e-15</td>\n",
       "    </tr>\n",
       "    <tr>\n",
       "      <th>8</th>\n",
       "      <td>12.566371</td>\n",
       "      <td>-6.155746e-15</td>\n",
       "      <td>1.256637e+01</td>\n",
       "    </tr>\n",
       "  </tbody>\n",
       "</table>\n",
       "</div>"
      ],
      "text/plain": [
       "           t             x             y\n",
       "0   0.000000  0.000000e+00  0.000000e+00\n",
       "1   1.570796  1.570796e+00  9.618353e-17\n",
       "2   3.141593  3.847341e-16 -3.141593e+00\n",
       "3   4.712389 -4.712389e+00 -8.656518e-16\n",
       "4   6.283185 -1.538937e-15  6.283185e+00\n",
       "5   7.853982  7.853982e+00  2.404588e-15\n",
       "6   9.424778  3.462607e-15 -9.424778e+00\n",
       "7  10.995574 -1.099557e+01 -4.712993e-15\n",
       "8  12.566371 -6.155746e-15  1.256637e+01"
      ]
     },
     "execution_count": 26,
     "metadata": {},
     "output_type": "execute_result"
    }
   ],
   "source": [
    "# tabla  \n",
    "\n",
    "#tabla\n",
    "import numpy as np \n",
    "import pandas as pd \n",
    "\n",
    "def x(t):\n",
    "    return t*np.sin(t)\n",
    "\n",
    "def y(t):\n",
    "    return t*np.cos(t)\n",
    "    \n",
    "punto_inicial = 0\n",
    "punto_final = 4*np.pi\n",
    "incremento = np.pi/2\n",
    "t_ = np.arange(punto_inicial, punto_final + incremento, incremento) # np.arange cre progresiones aritméticas \n",
    "x_ = x(t_)\n",
    "y_ = y(t_)\n",
    "diccionario = {'t':t_,'x':x_,'y':y_}\n",
    "\n",
    "pd.DataFrame(diccionario)\n"
   ]
  },
  {
   "cell_type": "code",
   "execution_count": null,
   "id": "a8370b4a-0405-4512-a67b-f5fca23788b6",
   "metadata": {},
   "outputs": [],
   "source": []
  },
  {
   "cell_type": "code",
   "execution_count": null,
   "id": "c51a367c-bda1-41ee-b0cb-871c9dfd4fac",
   "metadata": {},
   "outputs": [],
   "source": []
  },
  {
   "cell_type": "markdown",
   "id": "80e56251-9e2a-4cd0-90e0-d324941235ae",
   "metadata": {},
   "source": [
    "13. **Ejercicio 13**:\n",
    "    - Dibuje la curva determinada por las ecuaciones paramétricas \\(x = \\cosh(t)\\), \\(y = \\sinh(t)\\), \\( -1 \\leq t \\leq 1 \\).\n",
    "    - Primero elabore la tabla de tres columnas.\n",
    "    - Trace los puntos en el plano.\n",
    "    - Una los puntos con segmentos rectilíneos.\n"
   ]
  },
  {
   "cell_type": "markdown",
   "id": "39c6943e",
   "metadata": {},
   "source": [
    "\n",
    "14. **Ejercicio 14**:\n",
    "    - Dibuje la curva determinada por las ecuaciones paramétricas $x = t$, $y = \\sqrt{4 - t^2}$, $ -2 \\leq t \\leq 2 $.\n",
    "    - Primero elabore la tabla de tres columnas.\n",
    "    - Trace los puntos en el plano.\n",
    "    - Una los puntos con segmentos rectilíneos."
   ]
  },
  {
   "cell_type": "markdown",
   "id": "43d92004-83e4-4f39-ac21-76962f68a0fe",
   "metadata": {},
   "source": [
    "15. **Ejercicio 15**:\n",
    "    - Dibuje la curva determinada por las ecuaciones paramétricas $x = \\ln(t + 1)$, $y = \\cosh(t)$, $ 0 \\leq t \\leq 2 $.\n",
    "    - Primero elabore la tabla de tres columnas.\n",
    "    - Trace los puntos en el plano.\n",
    "    - Una los puntos con segmentos rectilíneos.\n",
    "    - y finalmente determine la longitud de la curva usando integración definida"
   ]
  },
  {
   "cell_type": "code",
   "execution_count": null,
   "id": "e5d77d8d-3f06-43c6-82e7-c40f1f642708",
   "metadata": {},
   "outputs": [],
   "source": []
  },
  {
   "cell_type": "code",
   "execution_count": null,
   "id": "d572914d-4142-4038-b13f-b261c939fe22",
   "metadata": {},
   "outputs": [],
   "source": []
  },
  {
   "cell_type": "code",
   "execution_count": null,
   "id": "2513ca4b-8b48-4356-9906-30d12ae14970",
   "metadata": {},
   "outputs": [],
   "source": []
  },
  {
   "cell_type": "code",
   "execution_count": null,
   "id": "c5d832b2-31ea-44db-ba3e-3e6cb9088803",
   "metadata": {},
   "outputs": [],
   "source": []
  },
  {
   "cell_type": "code",
   "execution_count": null,
   "id": "64d2d0bd-eb2a-4b1c-aef5-316fe840ed61",
   "metadata": {},
   "outputs": [],
   "source": []
  },
  {
   "cell_type": "markdown",
   "id": "22427e51-8c90-4bc0-8582-36c12c22dcfe",
   "metadata": {},
   "source": [
    "16. **Ejercicio 16**:\n",
    "    - Dibuje la curva determinada por las ecuaciones paramétricas $x = 1 - t^2$, $y = 2t + 3$, $ -2 \\leq t \\leq 2 $.\n",
    "    - Primero elabore la tabla de tres columnas.\n",
    "    - Trace los puntos en el plano.\n",
    "    - Una los puntos con segmentos rectilíneos.\n",
    "    - Y finalmente calcule la distancia recorrida por la partícula utilizando integral definida:\n",
    "   \n",
    "      $$ L = \\int_{a}^{b} \\sqrt{(x')^{2} + (y')^{2} } \\ dt$$ "
   ]
  },
  {
   "cell_type": "code",
   "execution_count": 29,
   "id": "71241abe-3c92-4deb-8a5b-ab2fd9f11b5a",
   "metadata": {},
   "outputs": [
    {
     "data": {
      "application/vnd.jupyter.widget-view+json": {
       "model_id": "9874bfc88708430aacbfc3d86812704a",
       "version_major": 2,
       "version_minor": 0
      },
      "text/plain": [
       "interactive(children=(FloatSlider(value=-2.0, description='tiempo', max=2.0, min=-2.0, step=0.01), Output()), …"
      ]
     },
     "metadata": {},
     "output_type": "display_data"
    },
    {
     "data": {
      "text/plain": [
       "<function __main__.trazar_movimiento(tiempo=-2)>"
      ]
     },
     "execution_count": 29,
     "metadata": {},
     "output_type": "execute_result"
    }
   ],
   "source": [
    "#animación \n",
    "import numpy as np \n",
    "import matplotlib.pyplot as plt \n",
    "from ipywidgets import interact  \n",
    "\n",
    "\n",
    "\n",
    "def x(t):\n",
    "    return 1-t**2\n",
    "def y(t):\n",
    "    return  2*t+3\n",
    "\n",
    "punto_inicial_de_t = -2\n",
    "punto_final_de_t = 2\n",
    "rastro_x, rastro_y = [x(punto_inicial_de_t)], [y(punto_inicial_de_t)]  \n",
    "\n",
    "\n",
    "def trazar_movimiento(tiempo = punto_inicial_de_t):\n",
    "    plt.figure(figsize = (6,6))\n",
    "    plt.title('Trayectoria de una particula')\n",
    "    plt.axis([x(punto_inicial_de_t) - 1, 9, -2, 9])\n",
    "    plt.xlabel('avance x')\n",
    "    plt.ylabel('altura y')\n",
    "    plt.scatter(x(tiempo), y(tiempo), color = 'red', marker = 's')\n",
    "    rastro_x.append(x(tiempo))\n",
    "    rastro_y.append(y(tiempo))\n",
    "    plt.plot(rastro_x, rastro_y)\n",
    "    plt.grid(alpha = 0.4)\n",
    "    plt.yticks(np.arange(-1,10))\n",
    "    plt.xticks(np.arange(int(x(punto_inicial_de_t))-1,10))\n",
    "    plt.savefig('/home/marco/Documentos/docencia/calculo/images/4_integral/'\\\n",
    "                +'2_aplicaciones_integral_definida/4_longitud_curva_plana/ejemplo_1_longitud_curva.jpg')  \n",
    "    plt.show()\n",
    "    \n",
    "interact(trazar_movimiento, tiempo = (punto_inicial_de_t, punto_final_de_t, 0.01))    \n"
   ]
  },
  {
   "cell_type": "code",
   "execution_count": 24,
   "id": "25b7f175-674f-4b87-b14f-97345bdecb3a",
   "metadata": {},
   "outputs": [
    {
     "data": {
      "text/html": [
       "<div>\n",
       "<style scoped>\n",
       "    .dataframe tbody tr th:only-of-type {\n",
       "        vertical-align: middle;\n",
       "    }\n",
       "\n",
       "    .dataframe tbody tr th {\n",
       "        vertical-align: top;\n",
       "    }\n",
       "\n",
       "    .dataframe thead th {\n",
       "        text-align: right;\n",
       "    }\n",
       "</style>\n",
       "<table border=\"1\" class=\"dataframe\">\n",
       "  <thead>\n",
       "    <tr style=\"text-align: right;\">\n",
       "      <th></th>\n",
       "      <th>t</th>\n",
       "      <th>x</th>\n",
       "      <th>y</th>\n",
       "    </tr>\n",
       "  </thead>\n",
       "  <tbody>\n",
       "    <tr>\n",
       "      <th>0</th>\n",
       "      <td>-2</td>\n",
       "      <td>-3</td>\n",
       "      <td>-1</td>\n",
       "    </tr>\n",
       "    <tr>\n",
       "      <th>1</th>\n",
       "      <td>-1</td>\n",
       "      <td>0</td>\n",
       "      <td>1</td>\n",
       "    </tr>\n",
       "    <tr>\n",
       "      <th>2</th>\n",
       "      <td>0</td>\n",
       "      <td>1</td>\n",
       "      <td>3</td>\n",
       "    </tr>\n",
       "    <tr>\n",
       "      <th>3</th>\n",
       "      <td>1</td>\n",
       "      <td>0</td>\n",
       "      <td>5</td>\n",
       "    </tr>\n",
       "    <tr>\n",
       "      <th>4</th>\n",
       "      <td>2</td>\n",
       "      <td>-3</td>\n",
       "      <td>7</td>\n",
       "    </tr>\n",
       "  </tbody>\n",
       "</table>\n",
       "</div>"
      ],
      "text/plain": [
       "   t  x  y\n",
       "0 -2 -3 -1\n",
       "1 -1  0  1\n",
       "2  0  1  3\n",
       "3  1  0  5\n",
       "4  2 -3  7"
      ]
     },
     "execution_count": 24,
     "metadata": {},
     "output_type": "execute_result"
    }
   ],
   "source": [
    "# tabla  \n",
    "\n",
    "#tabla\n",
    "import numpy as np \n",
    "import pandas as pd \n",
    "\n",
    "def x(t):\n",
    "    return 1-t**2\n",
    "\n",
    "def y(t):\n",
    "    return 2*t + 3\n",
    "punto_inicial = -2\n",
    "punto_final = 2\n",
    "incremento = 1\n",
    "t_ = np.arange(punto_inicial, punto_final + incremento, incremento) # np.arange cre progresiones aritméticas \n",
    "x_ = x(t_)\n",
    "y_ = y(t_)\n",
    "diccionario = {'t':t_,'x':x_,'y':y_}\n",
    "\n",
    "pd.DataFrame(diccionario)\n"
   ]
  },
  {
   "cell_type": "code",
   "execution_count": null,
   "id": "97b00ffd-e61a-4f5c-b8ca-7fae73c7c89c",
   "metadata": {},
   "outputs": [],
   "source": [
    "# grafico"
   ]
  },
  {
   "cell_type": "markdown",
   "id": "2bfd4199-9fd6-45b6-8f29-d5d74d8aaa03",
   "metadata": {},
   "source": [
    "# Conclusión del gráfico  \n",
    "\n"
   ]
  },
  {
   "cell_type": "code",
   "execution_count": 28,
   "id": "29d4a8a9-57ae-4e5d-8813-4e7bffa90926",
   "metadata": {},
   "outputs": [
    {
     "data": {
      "text/latex": [
       "$\\displaystyle 11.8315428603568$"
      ],
      "text/plain": [
       "11.8315428603568"
      ]
     },
     "execution_count": 28,
     "metadata": {},
     "output_type": "execute_result"
    }
   ],
   "source": [
    "# calculo de la distacia recorrida  \n",
    "\n",
    "from sympy import * \n",
    "t = var('t')\n",
    "integrate(sqrt(4*t**2+4), (t, -2, 2)).evalf()"
   ]
  },
  {
   "cell_type": "markdown",
   "id": "58cac9dd-1234-40f2-bb44-574424b84549",
   "metadata": {},
   "source": [
    "# "
   ]
  },
  {
   "cell_type": "markdown",
   "id": "7945b8fe-0b35-4c96-bdf9-8841825a7970",
   "metadata": {},
   "source": [
    "17. **Ejercicio 17**:\n",
    "    - Dibuje la curva determinada por las ecuaciones paramétricas \\(x = e^{-t}\\cos(t)\\), \\(y = e^{-t}\\sin(t)\\), \\( 0 \\leq t \\leq 2\\pi \\).\n",
    "    - Primero elabore la tabla de tres columnas.\n",
    "    - Trace los puntos en el plano.\n",
    "    - Una los puntos con segmentos rectilíneos."
   ]
  },
  {
   "cell_type": "markdown",
   "id": "271b66a4-c350-4b33-be04-1d68752fea19",
   "metadata": {},
   "source": [
    "18. **Ejercicio 18**:\n",
    "    - Dibuje la curva determinada por las ecuaciones paramétricas $x = 2\\sin(t)\\cos(t)$, $y = \\cos^2(t)$, $ 0 \\leq t \\leq \\pi $.\n",
    "    - Primero elabore la tabla de tres columnas.\n",
    "    - Trace los puntos en el plano.\n",
    "    - Una los puntos con segmentos rectilíneos."
   ]
  },
  {
   "cell_type": "markdown",
   "id": "4bf5562f-953f-43f1-9b36-5ba349043bf1",
   "metadata": {},
   "source": [
    "19. **Ejercicio 19**:\n",
    "    - Dibuje la curva determinada por las ecuaciones paramétricas $x = 1 - e^{-t}$, $y = t^2 - t$, $ 0 \\leq t \\leq 3 $.\n",
    "    - Primero elabore la tabla de tres columnas.\n",
    "    - Trace los puntos en el plano.\n",
    "    - Una los puntos con segmentos rectilíneos.\n",
    "    - Y finalmente determine la longitud de la curva. "
   ]
  },
  {
   "cell_type": "markdown",
   "id": "979e2f7e-fe5f-4149-a415-06dcfabae92c",
   "metadata": {},
   "source": [
    "20. **Ejercicio 20**:\n",
    "    - Dibuje la curva determinada por las ecuaciones paramétricas $x = t^2 + t$, $y = 3t - t^2$, $ -1 \\leq t \\leq 2 $.\n",
    "    - Primero elabore la tabla de tres columnas.\n",
    "    - Trace los puntos en el plano.\n",
    "    - Una los puntos con segmentos rectilíneos.\n",
    "\n",
    "Estos ejercicios permitirán a los estudiantes explorar una variedad de formas y comportamientos de curvas paramétricas, desde funciones polinómicas hasta funciones trascendentales como senos y cosenos, exponenciales y logarítmicas."
   ]
  },
  {
   "cell_type": "code",
   "execution_count": 4,
   "id": "ac962568-012b-4581-9f6f-87d2851bcd54",
   "metadata": {},
   "outputs": [
    {
     "name": "stdout",
     "output_type": "stream",
     "text": [
      "Taller del 16 de septiembre y completación de procedimientos: \n",
      "    Si faltan los enunciados de los problemas, no se valora la tarea\n",
      "    Si faltan de la conclusión verbales, no se valora la tarea.\n",
      "    Esta tarea se valora solo si la presenta de manera manuscrita en su cuaderno de clase.  \n",
      "       taller_1_Purcell_Página_295_Sección_5.4.csv\n"
     ]
    },
    {
     "data": {
      "text/html": [
       "<div>\n",
       "<style scoped>\n",
       "    .dataframe tbody tr th:only-of-type {\n",
       "        vertical-align: middle;\n",
       "    }\n",
       "\n",
       "    .dataframe tbody tr th {\n",
       "        vertical-align: top;\n",
       "    }\n",
       "\n",
       "    .dataframe thead th {\n",
       "        text-align: right;\n",
       "    }\n",
       "</style>\n",
       "<table border=\"1\" class=\"dataframe\">\n",
       "  <thead>\n",
       "    <tr style=\"text-align: right;\">\n",
       "      <th></th>\n",
       "      <th>Student</th>\n",
       "      <th>Example1</th>\n",
       "      <th>Example2</th>\n",
       "    </tr>\n",
       "  </thead>\n",
       "  <tbody>\n",
       "    <tr>\n",
       "      <th>0</th>\n",
       "      <td>AMARIS FERNANDEZ SEBASTIAN CAMILO</td>\n",
       "      <td>4</td>\n",
       "      <td>16</td>\n",
       "    </tr>\n",
       "    <tr>\n",
       "      <th>1</th>\n",
       "      <td>ARENAS HERAZO GABRIEL ENRIQUE</td>\n",
       "      <td>7</td>\n",
       "      <td>18</td>\n",
       "    </tr>\n",
       "    <tr>\n",
       "      <th>2</th>\n",
       "      <td>AYALA MENDOZA MARISOL YACIRA</td>\n",
       "      <td>2</td>\n",
       "      <td>20</td>\n",
       "    </tr>\n",
       "    <tr>\n",
       "      <th>3</th>\n",
       "      <td>BERTEL RODELO MICHELL SMIT</td>\n",
       "      <td>2</td>\n",
       "      <td>4</td>\n",
       "    </tr>\n",
       "    <tr>\n",
       "      <th>4</th>\n",
       "      <td>BULA VERGARA MARIA PAULA</td>\n",
       "      <td>12</td>\n",
       "      <td>18</td>\n",
       "    </tr>\n",
       "    <tr>\n",
       "      <th>5</th>\n",
       "      <td>CANTILLO ENSUCHO DANIEL</td>\n",
       "      <td>11</td>\n",
       "      <td>16</td>\n",
       "    </tr>\n",
       "    <tr>\n",
       "      <th>6</th>\n",
       "      <td>CERVANTES DURAN ANGELICA</td>\n",
       "      <td>7</td>\n",
       "      <td>11</td>\n",
       "    </tr>\n",
       "    <tr>\n",
       "      <th>7</th>\n",
       "      <td>GUERRA NORIEGA YONATHAN</td>\n",
       "      <td>14</td>\n",
       "      <td>19</td>\n",
       "    </tr>\n",
       "    <tr>\n",
       "      <th>8</th>\n",
       "      <td>HINCAPIE CASTRO JOHAN SEBASTIAN</td>\n",
       "      <td>6</td>\n",
       "      <td>19</td>\n",
       "    </tr>\n",
       "    <tr>\n",
       "      <th>9</th>\n",
       "      <td>HUMANEZ SANCHEZ CAMILO</td>\n",
       "      <td>4</td>\n",
       "      <td>5</td>\n",
       "    </tr>\n",
       "    <tr>\n",
       "      <th>10</th>\n",
       "      <td>IBAÑEZ MORENO FRANCISCO LUIS</td>\n",
       "      <td>13</td>\n",
       "      <td>16</td>\n",
       "    </tr>\n",
       "    <tr>\n",
       "      <th>11</th>\n",
       "      <td>MASS MIRANDA RIVALDO JOSE</td>\n",
       "      <td>19</td>\n",
       "      <td>20</td>\n",
       "    </tr>\n",
       "    <tr>\n",
       "      <th>12</th>\n",
       "      <td>MIRANDA MARTINEZ CARLOS ANDRES</td>\n",
       "      <td>6</td>\n",
       "      <td>19</td>\n",
       "    </tr>\n",
       "    <tr>\n",
       "      <th>13</th>\n",
       "      <td>MONTERROSA SOTO ABRIL</td>\n",
       "      <td>4</td>\n",
       "      <td>13</td>\n",
       "    </tr>\n",
       "    <tr>\n",
       "      <th>14</th>\n",
       "      <td>NORIEGA JIMENEZ GABRIELA</td>\n",
       "      <td>16</td>\n",
       "      <td>20</td>\n",
       "    </tr>\n",
       "    <tr>\n",
       "      <th>15</th>\n",
       "      <td>PEREZ REYES IVAN DARIO</td>\n",
       "      <td>2</td>\n",
       "      <td>16</td>\n",
       "    </tr>\n",
       "    <tr>\n",
       "      <th>16</th>\n",
       "      <td>PEREZ THERAN ERLINDA</td>\n",
       "      <td>15</td>\n",
       "      <td>17</td>\n",
       "    </tr>\n",
       "    <tr>\n",
       "      <th>17</th>\n",
       "      <td>PINEDA ROMERO YOSMERI</td>\n",
       "      <td>8</td>\n",
       "      <td>19</td>\n",
       "    </tr>\n",
       "    <tr>\n",
       "      <th>18</th>\n",
       "      <td>QUINONEZ CERVANTES MARIANA</td>\n",
       "      <td>12</td>\n",
       "      <td>16</td>\n",
       "    </tr>\n",
       "    <tr>\n",
       "      <th>19</th>\n",
       "      <td>RAMOS PEREZ YANINE</td>\n",
       "      <td>4</td>\n",
       "      <td>17</td>\n",
       "    </tr>\n",
       "    <tr>\n",
       "      <th>20</th>\n",
       "      <td>RIVAS HOYOS ESTEFANIA</td>\n",
       "      <td>8</td>\n",
       "      <td>13</td>\n",
       "    </tr>\n",
       "    <tr>\n",
       "      <th>21</th>\n",
       "      <td>ROSILLO TEJADA VANESA</td>\n",
       "      <td>7</td>\n",
       "      <td>10</td>\n",
       "    </tr>\n",
       "    <tr>\n",
       "      <th>22</th>\n",
       "      <td>SANCHEZ PADILLA SILVESTRE</td>\n",
       "      <td>6</td>\n",
       "      <td>13</td>\n",
       "    </tr>\n",
       "    <tr>\n",
       "      <th>23</th>\n",
       "      <td>SILVA ROYERO MAILY CRISTINA</td>\n",
       "      <td>15</td>\n",
       "      <td>19</td>\n",
       "    </tr>\n",
       "    <tr>\n",
       "      <th>24</th>\n",
       "      <td>USUGA GEORGE JHON ESTIVEN</td>\n",
       "      <td>4</td>\n",
       "      <td>5</td>\n",
       "    </tr>\n",
       "  </tbody>\n",
       "</table>\n",
       "</div>"
      ],
      "text/plain": [
       "                              Student  Example1  Example2\n",
       "0   AMARIS FERNANDEZ SEBASTIAN CAMILO         4        16\n",
       "1       ARENAS HERAZO GABRIEL ENRIQUE         7        18\n",
       "2        AYALA MENDOZA MARISOL YACIRA         2        20\n",
       "3          BERTEL RODELO MICHELL SMIT         2         4\n",
       "4            BULA VERGARA MARIA PAULA        12        18\n",
       "5             CANTILLO ENSUCHO DANIEL        11        16\n",
       "6            CERVANTES DURAN ANGELICA         7        11\n",
       "7             GUERRA NORIEGA YONATHAN        14        19\n",
       "8     HINCAPIE CASTRO JOHAN SEBASTIAN         6        19\n",
       "9              HUMANEZ SANCHEZ CAMILO         4         5\n",
       "10       IBAÑEZ MORENO FRANCISCO LUIS        13        16\n",
       "11          MASS MIRANDA RIVALDO JOSE        19        20\n",
       "12     MIRANDA MARTINEZ CARLOS ANDRES         6        19\n",
       "13              MONTERROSA SOTO ABRIL         4        13\n",
       "14           NORIEGA JIMENEZ GABRIELA        16        20\n",
       "15             PEREZ REYES IVAN DARIO         2        16\n",
       "16               PEREZ THERAN ERLINDA        15        17\n",
       "17              PINEDA ROMERO YOSMERI         8        19\n",
       "18         QUINONEZ CERVANTES MARIANA        12        16\n",
       "19                 RAMOS PEREZ YANINE         4        17\n",
       "20              RIVAS HOYOS ESTEFANIA         8        13\n",
       "21              ROSILLO TEJADA VANESA         7        10\n",
       "22          SANCHEZ PADILLA SILVESTRE         6        13\n",
       "23        SILVA ROYERO MAILY CRISTINA        15        19\n",
       "24          USUGA GEORGE JHON ESTIVEN         4         5"
      ]
     },
     "execution_count": 4,
     "metadata": {},
     "output_type": "execute_result"
    }
   ],
   "source": [
    "# Taller de clase \n",
    "\n",
    "# Tarea 1 de lectura de ejemplos y completación de procedimientos\n",
    "# asignación de tarea para realizar antes de clase\n",
    "# Consiste en leer y completar un ejemplo de texto guía\n",
    "# Esta tarea es para realizar solo de manera manuscrita en su cuaderno de clase. \n",
    "# La otra opción de presentación es elaborada en cuadernos Jupyter (En este caso solo debe realizar la cuarta parte de los ejercicios asignados)\n",
    "# \n",
    "\n",
    "import pandas as pd\n",
    "import numpy as np\n",
    "import requests\n",
    "np.random.seed(1213)  # establecer semilla aleatoria para hacer los resultados reproducibles\n",
    "\n",
    "\n",
    "nombre_tarea = \"taller_1\"\n",
    "grupo_estudiantes = 'calculo_vectorial'\n",
    "nombre_texto_guia = 'Purcell'\n",
    "pagina_y_seccion = 'Página_295_Sección_5.4'\n",
    "numero_ejemplos_de_la_seccion = 20\n",
    "numero_de_ejemplos_asignados = 2\n",
    "\n",
    "\n",
    "# Descargar la lista de  estudiantes\n",
    "students_path = \"/home/marco/Documentos/docencia/groups_list/\" + grupo_estudiantes + \".csv\"\n",
    "examples = list(range(1, numero_ejemplos_de_la_seccion))  \n",
    "\n",
    "students_data = pd.read_csv(students_path)\n",
    "\n",
    "# Crear una lista para almacenar las asignaciones\n",
    "assignments = []\n",
    "\n",
    "# Asignar ejercicios aleatorios a cada estudiante\n",
    "for index, student in students_data.iterrows():\n",
    "    # Seleccionar 5 ejercicios aleatorios sin repetición\n",
    "    random_exercises = np.sort(np.random.choice(examples, numero_de_ejemplos_asignados, \\\n",
    "                                                replace = False)+ 1)\n",
    "    assignments.append([students_data[\"Nombre\"][index], *random_exercises])  # Agregar asignación a la lista\n",
    "\n",
    "# Crear un DataFrame con las asignaciones\n",
    "columns = [\"Student\"] + [ \"Example\" + str(i+1) for i in range(numero_de_ejemplos_asignados)]\n",
    "assignment_df = pd.DataFrame(assignments, columns=columns)\n",
    "\n",
    "# Guardar el DataFrame en un archivo CSV\n",
    "assignment_csv = nombre_tarea + \"_\" + nombre_texto_guia + \"_\"+ pagina_y_seccion + \".csv\"\n",
    "assignment_df.to_csv(assignment_csv, index=False)\n",
    "\n",
    "print(\"\"\"Taller del 16 de septiembre y completación de procedimientos: \n",
    "    Si faltan los enunciados de los problemas, no se valora la tarea\n",
    "    Si faltan de la conclusión verbales, no se valora la tarea.\n",
    "    Esta tarea se valora solo si la presenta de manera manuscrita en su cuaderno de clase.  \n",
    "      \"\"\", assignment_csv)\n",
    "assignment_df"
   ]
  },
  {
   "cell_type": "markdown",
   "id": "2f0141c3",
   "metadata": {},
   "source": [
    "## Tareas para realizar antes de la clase  \n",
    "\n",
    "1. Ver los videos respectivos []()\n",
    "2. Memorizar las definiciones []()\n",
    "3. Sintetizar o resumir la información en mapas conceptuales. []()\n",
    "4. Tareas para incentivar el uso de la calculadora Casio Para ingenieros y licenciados. \n",
    "5. Leer los ejemplos resueltos y repricar la manera de hacerlos"
   ]
  },
  {
   "cell_type": "code",
   "execution_count": 2,
   "id": "83d849ab",
   "metadata": {},
   "outputs": [
    {
     "name": "stdout",
     "output_type": "stream",
     "text": [
      "Tarea 1 de lectura de ejemplos y completación de procedimientos: \n",
      "     Si faltan los enunciados de los problemas, no se valora la tarea\n",
      "    Si faltan de la conclusión verbales, no se valora la tarea.\n",
      "    Esta tarea se valora solo si la presenta de manera manuscrita en su cuaderno de clase.  \n",
      "       tarea_1_lectura_y_completacion_ejemplos_Purcell_Página_202_Sección_3.8.csv\n"
     ]
    },
    {
     "data": {
      "text/html": [
       "<div>\n",
       "<style scoped>\n",
       "    .dataframe tbody tr th:only-of-type {\n",
       "        vertical-align: middle;\n",
       "    }\n",
       "\n",
       "    .dataframe tbody tr th {\n",
       "        vertical-align: top;\n",
       "    }\n",
       "\n",
       "    .dataframe thead th {\n",
       "        text-align: right;\n",
       "    }\n",
       "</style>\n",
       "<table border=\"1\" class=\"dataframe\">\n",
       "  <thead>\n",
       "    <tr style=\"text-align: right;\">\n",
       "      <th></th>\n",
       "      <th>Student</th>\n",
       "      <th>Example1</th>\n",
       "      <th>Example2</th>\n",
       "      <th>Example3</th>\n",
       "      <th>Example4</th>\n",
       "      <th>Example5</th>\n",
       "      <th>Example6</th>\n",
       "      <th>Example7</th>\n",
       "      <th>Example8</th>\n",
       "      <th>Example9</th>\n",
       "      <th>Example10</th>\n",
       "    </tr>\n",
       "  </thead>\n",
       "  <tbody>\n",
       "    <tr>\n",
       "      <th>0</th>\n",
       "      <td>AMARIS FERNANDEZ SEBASTIAN CAMILO</td>\n",
       "      <td>4</td>\n",
       "      <td>9</td>\n",
       "      <td>10</td>\n",
       "      <td>11</td>\n",
       "      <td>15</td>\n",
       "      <td>19</td>\n",
       "      <td>20</td>\n",
       "      <td>21</td>\n",
       "      <td>22</td>\n",
       "      <td>24</td>\n",
       "    </tr>\n",
       "    <tr>\n",
       "      <th>1</th>\n",
       "      <td>ARENAS HERAZO GABRIEL ENRIQUE</td>\n",
       "      <td>2</td>\n",
       "      <td>6</td>\n",
       "      <td>7</td>\n",
       "      <td>15</td>\n",
       "      <td>16</td>\n",
       "      <td>17</td>\n",
       "      <td>18</td>\n",
       "      <td>19</td>\n",
       "      <td>22</td>\n",
       "      <td>27</td>\n",
       "    </tr>\n",
       "    <tr>\n",
       "      <th>2</th>\n",
       "      <td>AYALA MENDOZA MARISOL YACIRA</td>\n",
       "      <td>2</td>\n",
       "      <td>4</td>\n",
       "      <td>8</td>\n",
       "      <td>10</td>\n",
       "      <td>11</td>\n",
       "      <td>14</td>\n",
       "      <td>16</td>\n",
       "      <td>20</td>\n",
       "      <td>25</td>\n",
       "      <td>26</td>\n",
       "    </tr>\n",
       "    <tr>\n",
       "      <th>3</th>\n",
       "      <td>BERTEL RODELO MICHELL SMIT</td>\n",
       "      <td>10</td>\n",
       "      <td>11</td>\n",
       "      <td>14</td>\n",
       "      <td>15</td>\n",
       "      <td>16</td>\n",
       "      <td>17</td>\n",
       "      <td>18</td>\n",
       "      <td>20</td>\n",
       "      <td>24</td>\n",
       "      <td>27</td>\n",
       "    </tr>\n",
       "    <tr>\n",
       "      <th>4</th>\n",
       "      <td>BULA VERGARA MARIA PAULA</td>\n",
       "      <td>5</td>\n",
       "      <td>7</td>\n",
       "      <td>9</td>\n",
       "      <td>16</td>\n",
       "      <td>17</td>\n",
       "      <td>19</td>\n",
       "      <td>22</td>\n",
       "      <td>24</td>\n",
       "      <td>25</td>\n",
       "      <td>26</td>\n",
       "    </tr>\n",
       "    <tr>\n",
       "      <th>5</th>\n",
       "      <td>CANTILLO ENSUCHO DANIEL</td>\n",
       "      <td>5</td>\n",
       "      <td>6</td>\n",
       "      <td>9</td>\n",
       "      <td>15</td>\n",
       "      <td>17</td>\n",
       "      <td>18</td>\n",
       "      <td>20</td>\n",
       "      <td>23</td>\n",
       "      <td>24</td>\n",
       "      <td>26</td>\n",
       "    </tr>\n",
       "    <tr>\n",
       "      <th>6</th>\n",
       "      <td>CERVANTES DURAN ANGELICA</td>\n",
       "      <td>4</td>\n",
       "      <td>5</td>\n",
       "      <td>8</td>\n",
       "      <td>9</td>\n",
       "      <td>12</td>\n",
       "      <td>13</td>\n",
       "      <td>19</td>\n",
       "      <td>23</td>\n",
       "      <td>26</td>\n",
       "      <td>27</td>\n",
       "    </tr>\n",
       "    <tr>\n",
       "      <th>7</th>\n",
       "      <td>GUERRA NORIEGA YONATHAN</td>\n",
       "      <td>2</td>\n",
       "      <td>3</td>\n",
       "      <td>6</td>\n",
       "      <td>7</td>\n",
       "      <td>10</td>\n",
       "      <td>11</td>\n",
       "      <td>21</td>\n",
       "      <td>23</td>\n",
       "      <td>24</td>\n",
       "      <td>26</td>\n",
       "    </tr>\n",
       "    <tr>\n",
       "      <th>8</th>\n",
       "      <td>HINCAPIE CASTRO JOHAN SEBASTIAN</td>\n",
       "      <td>4</td>\n",
       "      <td>8</td>\n",
       "      <td>10</td>\n",
       "      <td>12</td>\n",
       "      <td>15</td>\n",
       "      <td>16</td>\n",
       "      <td>20</td>\n",
       "      <td>23</td>\n",
       "      <td>24</td>\n",
       "      <td>27</td>\n",
       "    </tr>\n",
       "    <tr>\n",
       "      <th>9</th>\n",
       "      <td>HUMANEZ SANCHEZ CAMILO</td>\n",
       "      <td>4</td>\n",
       "      <td>5</td>\n",
       "      <td>14</td>\n",
       "      <td>16</td>\n",
       "      <td>20</td>\n",
       "      <td>21</td>\n",
       "      <td>23</td>\n",
       "      <td>24</td>\n",
       "      <td>25</td>\n",
       "      <td>26</td>\n",
       "    </tr>\n",
       "    <tr>\n",
       "      <th>10</th>\n",
       "      <td>IBAÑEZ MORENO FRANCISCO LUIS</td>\n",
       "      <td>2</td>\n",
       "      <td>3</td>\n",
       "      <td>10</td>\n",
       "      <td>13</td>\n",
       "      <td>14</td>\n",
       "      <td>18</td>\n",
       "      <td>19</td>\n",
       "      <td>21</td>\n",
       "      <td>23</td>\n",
       "      <td>26</td>\n",
       "    </tr>\n",
       "    <tr>\n",
       "      <th>11</th>\n",
       "      <td>MASS MIRANDA RIVALDO JOSE</td>\n",
       "      <td>2</td>\n",
       "      <td>4</td>\n",
       "      <td>5</td>\n",
       "      <td>7</td>\n",
       "      <td>9</td>\n",
       "      <td>10</td>\n",
       "      <td>11</td>\n",
       "      <td>17</td>\n",
       "      <td>21</td>\n",
       "      <td>23</td>\n",
       "    </tr>\n",
       "    <tr>\n",
       "      <th>12</th>\n",
       "      <td>MIRANDA MARTINEZ CARLOS ANDRES</td>\n",
       "      <td>7</td>\n",
       "      <td>11</td>\n",
       "      <td>12</td>\n",
       "      <td>13</td>\n",
       "      <td>16</td>\n",
       "      <td>17</td>\n",
       "      <td>18</td>\n",
       "      <td>21</td>\n",
       "      <td>22</td>\n",
       "      <td>24</td>\n",
       "    </tr>\n",
       "    <tr>\n",
       "      <th>13</th>\n",
       "      <td>MONTERROSA SOTO ABRIL</td>\n",
       "      <td>4</td>\n",
       "      <td>12</td>\n",
       "      <td>13</td>\n",
       "      <td>14</td>\n",
       "      <td>16</td>\n",
       "      <td>19</td>\n",
       "      <td>21</td>\n",
       "      <td>23</td>\n",
       "      <td>26</td>\n",
       "      <td>27</td>\n",
       "    </tr>\n",
       "    <tr>\n",
       "      <th>14</th>\n",
       "      <td>NORIEGA JIMENEZ GABRIELA</td>\n",
       "      <td>3</td>\n",
       "      <td>6</td>\n",
       "      <td>8</td>\n",
       "      <td>9</td>\n",
       "      <td>10</td>\n",
       "      <td>11</td>\n",
       "      <td>13</td>\n",
       "      <td>15</td>\n",
       "      <td>16</td>\n",
       "      <td>27</td>\n",
       "    </tr>\n",
       "    <tr>\n",
       "      <th>15</th>\n",
       "      <td>PEREZ REYES IVAN DARIO</td>\n",
       "      <td>2</td>\n",
       "      <td>3</td>\n",
       "      <td>10</td>\n",
       "      <td>13</td>\n",
       "      <td>17</td>\n",
       "      <td>22</td>\n",
       "      <td>24</td>\n",
       "      <td>25</td>\n",
       "      <td>26</td>\n",
       "      <td>27</td>\n",
       "    </tr>\n",
       "    <tr>\n",
       "      <th>16</th>\n",
       "      <td>PEREZ THERAN ERLINDA</td>\n",
       "      <td>4</td>\n",
       "      <td>5</td>\n",
       "      <td>11</td>\n",
       "      <td>13</td>\n",
       "      <td>16</td>\n",
       "      <td>19</td>\n",
       "      <td>20</td>\n",
       "      <td>21</td>\n",
       "      <td>22</td>\n",
       "      <td>25</td>\n",
       "    </tr>\n",
       "    <tr>\n",
       "      <th>17</th>\n",
       "      <td>PINEDA ROMERO YOSMERI</td>\n",
       "      <td>4</td>\n",
       "      <td>5</td>\n",
       "      <td>6</td>\n",
       "      <td>8</td>\n",
       "      <td>9</td>\n",
       "      <td>11</td>\n",
       "      <td>12</td>\n",
       "      <td>16</td>\n",
       "      <td>17</td>\n",
       "      <td>27</td>\n",
       "    </tr>\n",
       "    <tr>\n",
       "      <th>18</th>\n",
       "      <td>QUINONEZ CERVANTES MARIANA</td>\n",
       "      <td>8</td>\n",
       "      <td>10</td>\n",
       "      <td>11</td>\n",
       "      <td>12</td>\n",
       "      <td>15</td>\n",
       "      <td>17</td>\n",
       "      <td>21</td>\n",
       "      <td>22</td>\n",
       "      <td>24</td>\n",
       "      <td>26</td>\n",
       "    </tr>\n",
       "    <tr>\n",
       "      <th>19</th>\n",
       "      <td>RAMOS PEREZ YANINE</td>\n",
       "      <td>6</td>\n",
       "      <td>7</td>\n",
       "      <td>10</td>\n",
       "      <td>14</td>\n",
       "      <td>16</td>\n",
       "      <td>20</td>\n",
       "      <td>21</td>\n",
       "      <td>23</td>\n",
       "      <td>24</td>\n",
       "      <td>25</td>\n",
       "    </tr>\n",
       "    <tr>\n",
       "      <th>20</th>\n",
       "      <td>RIVAS HOYOS ESTEFANIA</td>\n",
       "      <td>3</td>\n",
       "      <td>4</td>\n",
       "      <td>6</td>\n",
       "      <td>7</td>\n",
       "      <td>11</td>\n",
       "      <td>16</td>\n",
       "      <td>22</td>\n",
       "      <td>23</td>\n",
       "      <td>25</td>\n",
       "      <td>26</td>\n",
       "    </tr>\n",
       "    <tr>\n",
       "      <th>21</th>\n",
       "      <td>ROSILLO TEJADA VANESA</td>\n",
       "      <td>2</td>\n",
       "      <td>4</td>\n",
       "      <td>14</td>\n",
       "      <td>15</td>\n",
       "      <td>16</td>\n",
       "      <td>20</td>\n",
       "      <td>22</td>\n",
       "      <td>25</td>\n",
       "      <td>26</td>\n",
       "      <td>27</td>\n",
       "    </tr>\n",
       "    <tr>\n",
       "      <th>22</th>\n",
       "      <td>SANCHEZ PADILLA SILVESTRE</td>\n",
       "      <td>4</td>\n",
       "      <td>6</td>\n",
       "      <td>8</td>\n",
       "      <td>11</td>\n",
       "      <td>15</td>\n",
       "      <td>19</td>\n",
       "      <td>22</td>\n",
       "      <td>23</td>\n",
       "      <td>25</td>\n",
       "      <td>26</td>\n",
       "    </tr>\n",
       "    <tr>\n",
       "      <th>23</th>\n",
       "      <td>SILVA ROYERO MAILY CRISTINA</td>\n",
       "      <td>7</td>\n",
       "      <td>8</td>\n",
       "      <td>12</td>\n",
       "      <td>14</td>\n",
       "      <td>15</td>\n",
       "      <td>17</td>\n",
       "      <td>18</td>\n",
       "      <td>21</td>\n",
       "      <td>26</td>\n",
       "      <td>27</td>\n",
       "    </tr>\n",
       "    <tr>\n",
       "      <th>24</th>\n",
       "      <td>USUGA GEORGE JHON ESTIVEN</td>\n",
       "      <td>3</td>\n",
       "      <td>7</td>\n",
       "      <td>8</td>\n",
       "      <td>10</td>\n",
       "      <td>16</td>\n",
       "      <td>18</td>\n",
       "      <td>23</td>\n",
       "      <td>24</td>\n",
       "      <td>25</td>\n",
       "      <td>27</td>\n",
       "    </tr>\n",
       "  </tbody>\n",
       "</table>\n",
       "</div>"
      ],
      "text/plain": [
       "                              Student  Example1  Example2  Example3  Example4  \\\n",
       "0   AMARIS FERNANDEZ SEBASTIAN CAMILO         4         9        10        11   \n",
       "1       ARENAS HERAZO GABRIEL ENRIQUE         2         6         7        15   \n",
       "2        AYALA MENDOZA MARISOL YACIRA         2         4         8        10   \n",
       "3          BERTEL RODELO MICHELL SMIT        10        11        14        15   \n",
       "4            BULA VERGARA MARIA PAULA         5         7         9        16   \n",
       "5             CANTILLO ENSUCHO DANIEL         5         6         9        15   \n",
       "6            CERVANTES DURAN ANGELICA         4         5         8         9   \n",
       "7             GUERRA NORIEGA YONATHAN         2         3         6         7   \n",
       "8     HINCAPIE CASTRO JOHAN SEBASTIAN         4         8        10        12   \n",
       "9              HUMANEZ SANCHEZ CAMILO         4         5        14        16   \n",
       "10       IBAÑEZ MORENO FRANCISCO LUIS         2         3        10        13   \n",
       "11          MASS MIRANDA RIVALDO JOSE         2         4         5         7   \n",
       "12     MIRANDA MARTINEZ CARLOS ANDRES         7        11        12        13   \n",
       "13              MONTERROSA SOTO ABRIL         4        12        13        14   \n",
       "14           NORIEGA JIMENEZ GABRIELA         3         6         8         9   \n",
       "15             PEREZ REYES IVAN DARIO         2         3        10        13   \n",
       "16               PEREZ THERAN ERLINDA         4         5        11        13   \n",
       "17              PINEDA ROMERO YOSMERI         4         5         6         8   \n",
       "18         QUINONEZ CERVANTES MARIANA         8        10        11        12   \n",
       "19                 RAMOS PEREZ YANINE         6         7        10        14   \n",
       "20              RIVAS HOYOS ESTEFANIA         3         4         6         7   \n",
       "21              ROSILLO TEJADA VANESA         2         4        14        15   \n",
       "22          SANCHEZ PADILLA SILVESTRE         4         6         8        11   \n",
       "23        SILVA ROYERO MAILY CRISTINA         7         8        12        14   \n",
       "24          USUGA GEORGE JHON ESTIVEN         3         7         8        10   \n",
       "\n",
       "    Example5  Example6  Example7  Example8  Example9  Example10  \n",
       "0         15        19        20        21        22         24  \n",
       "1         16        17        18        19        22         27  \n",
       "2         11        14        16        20        25         26  \n",
       "3         16        17        18        20        24         27  \n",
       "4         17        19        22        24        25         26  \n",
       "5         17        18        20        23        24         26  \n",
       "6         12        13        19        23        26         27  \n",
       "7         10        11        21        23        24         26  \n",
       "8         15        16        20        23        24         27  \n",
       "9         20        21        23        24        25         26  \n",
       "10        14        18        19        21        23         26  \n",
       "11         9        10        11        17        21         23  \n",
       "12        16        17        18        21        22         24  \n",
       "13        16        19        21        23        26         27  \n",
       "14        10        11        13        15        16         27  \n",
       "15        17        22        24        25        26         27  \n",
       "16        16        19        20        21        22         25  \n",
       "17         9        11        12        16        17         27  \n",
       "18        15        17        21        22        24         26  \n",
       "19        16        20        21        23        24         25  \n",
       "20        11        16        22        23        25         26  \n",
       "21        16        20        22        25        26         27  \n",
       "22        15        19        22        23        25         26  \n",
       "23        15        17        18        21        26         27  \n",
       "24        16        18        23        24        25         27  "
      ]
     },
     "execution_count": 2,
     "metadata": {},
     "output_type": "execute_result"
    }
   ],
   "source": [
    "# Tarea 1 de lectura de ejemplos y completación de procedimientos\n",
    "# asignación de tarea para realizar antes de clase\n",
    "# Consiste en leer y completar un ejemplo de texto guía\n",
    "# Esta tarea es para realizar solo de manera manuscrita en su cuaderno de clase. \n",
    "# La otra opción de presentación es elaborada en cuadernos Jupyter (En este caso solo debe realizar la cuarta parte de los ejercicios asignados)\n",
    "# \n",
    "\n",
    "import pandas as pd\n",
    "import numpy as np\n",
    "import requests\n",
    "np.random.seed(1213)  # establecer semilla aleatoria para hacer los resultados reproducibles\n",
    "\n",
    "\n",
    "nombre_tarea = \"tarea_1_lectura_y_completacion_ejemplos\"\n",
    "grupo_estudiantes = 'calculo_vectorial'\n",
    "nombre_texto_guia = 'Purcell'\n",
    "pagina_y_seccion = 'Página_202_Sección_3.8'\n",
    "numero_ejemplos_de_la_seccion = 27\n",
    "numero_de_ejemplos_asignados = 10\n",
    "\n",
    "\n",
    "# Descargar la lista de  estudiantes\n",
    "students_path = \"/home/marco/Documentos/docencia/groups_list/\" + grupo_estudiantes + \".csv\"\n",
    "examples = list(range(1, numero_ejemplos_de_la_seccion))  \n",
    "\n",
    "students_data = pd.read_csv(students_path)\n",
    "\n",
    "# Crear una lista para almacenar las asignaciones\n",
    "assignments = []\n",
    "\n",
    "# Asignar ejercicios aleatorios a cada estudiante\n",
    "for index, student in students_data.iterrows():\n",
    "    # Seleccionar 5 ejercicios aleatorios sin repetición\n",
    "    random_exercises = np.sort(np.random.choice(examples, numero_de_ejemplos_asignados, \\\n",
    "                                                replace = False)+ 1)\n",
    "    assignments.append([students_data[\"Nombre\"][index], *random_exercises])  # Agregar asignación a la lista\n",
    "\n",
    "# Crear un DataFrame con las asignaciones\n",
    "columns = [\"Student\"] + [ \"Example\" + str(i+1) for i in range(numero_de_ejemplos_asignados)]\n",
    "assignment_df = pd.DataFrame(assignments, columns=columns)\n",
    "\n",
    "# Guardar el DataFrame en un archivo CSV\n",
    "assignment_csv = nombre_tarea + \"_\" + nombre_texto_guia + \"_\"+ pagina_y_seccion + \".csv\"\n",
    "assignment_df.to_csv(assignment_csv, index=False)\n",
    "\n",
    "print(\"\"\"Tarea 1 de lectura de ejemplos y completación de procedimientos: \n",
    "     Si faltan los enunciados de los problemas, no se valora la tarea\n",
    "    Si faltan de la conclusión verbales, no se valora la tarea.\n",
    "    Esta tarea se valora solo si la presenta de manera manuscrita en su cuaderno de clase.  \n",
    "      \"\"\", assignment_csv)\n",
    "assignment_df"
   ]
  },
  {
   "cell_type": "markdown",
   "id": "740f3401",
   "metadata": {
    "jp-MarkdownHeadingCollapsed": true,
    "slideshow": {
     "slide_type": "slide"
    }
   },
   "source": [
    "# Componente de manejo de calculadora Casio asociado al objetivo de aprendizaje de esta clase  \n",
    "\n",
    "## Pasos para lograr el objetivo de aprendizaje con la experimentación en la calculadora casio 991LA cw  "
   ]
  },
  {
   "cell_type": "markdown",
   "id": "fccb447c",
   "metadata": {
    "slideshow": {
     "slide_type": "slide"
    }
   },
   "source": [
    "# Tareas para realizar en clase"
   ]
  },
  {
   "cell_type": "code",
   "execution_count": 1,
   "id": "0f1f0ab2",
   "metadata": {},
   "outputs": [
    {
     "name": "stdout",
     "output_type": "stream",
     "text": [
      "Tarea 2 de solución de problemas:\n",
      "      Si faltan los enunciados de los problemas, no se valora la tarea.\n",
      "      Si faltan de la conclusión verbales, no se valora la tarea.\n",
      "      Esta tarea se valora solo si la presenta de manera manuscrita en su cuaderno de clase.  \n",
      "         Tarea_2_Purcell_Página_202_Sección_3.8.csv\n"
     ]
    },
    {
     "data": {
      "text/html": [
       "<div>\n",
       "<style scoped>\n",
       "    .dataframe tbody tr th:only-of-type {\n",
       "        vertical-align: middle;\n",
       "    }\n",
       "\n",
       "    .dataframe tbody tr th {\n",
       "        vertical-align: top;\n",
       "    }\n",
       "\n",
       "    .dataframe thead th {\n",
       "        text-align: right;\n",
       "    }\n",
       "</style>\n",
       "<table border=\"1\" class=\"dataframe\">\n",
       "  <thead>\n",
       "    <tr style=\"text-align: right;\">\n",
       "      <th></th>\n",
       "      <th>Student</th>\n",
       "      <th>Exer1</th>\n",
       "      <th>Exer2</th>\n",
       "      <th>Exer3</th>\n",
       "      <th>Exer4</th>\n",
       "      <th>Exer5</th>\n",
       "      <th>Exer6</th>\n",
       "      <th>Exer7</th>\n",
       "      <th>Exer8</th>\n",
       "      <th>Exer9</th>\n",
       "      <th>Exer10</th>\n",
       "    </tr>\n",
       "  </thead>\n",
       "  <tbody>\n",
       "    <tr>\n",
       "      <th>0</th>\n",
       "      <td>AMARIS FERNANDEZ SEBASTIAN CAMILO</td>\n",
       "      <td>47</td>\n",
       "      <td>2</td>\n",
       "      <td>52</td>\n",
       "      <td>29</td>\n",
       "      <td>21</td>\n",
       "      <td>4</td>\n",
       "      <td>36</td>\n",
       "      <td>54</td>\n",
       "      <td>35</td>\n",
       "      <td>53</td>\n",
       "    </tr>\n",
       "    <tr>\n",
       "      <th>1</th>\n",
       "      <td>ARENAS HERAZO GABRIEL ENRIQUE</td>\n",
       "      <td>42</td>\n",
       "      <td>23</td>\n",
       "      <td>44</td>\n",
       "      <td>20</td>\n",
       "      <td>2</td>\n",
       "      <td>34</td>\n",
       "      <td>45</td>\n",
       "      <td>43</td>\n",
       "      <td>37</td>\n",
       "      <td>8</td>\n",
       "    </tr>\n",
       "    <tr>\n",
       "      <th>2</th>\n",
       "      <td>AYALA MENDOZA MARISOL YACIRA</td>\n",
       "      <td>45</td>\n",
       "      <td>26</td>\n",
       "      <td>20</td>\n",
       "      <td>10</td>\n",
       "      <td>35</td>\n",
       "      <td>36</td>\n",
       "      <td>23</td>\n",
       "      <td>29</td>\n",
       "      <td>31</td>\n",
       "      <td>12</td>\n",
       "    </tr>\n",
       "    <tr>\n",
       "      <th>3</th>\n",
       "      <td>BERTEL RODELO MICHELL SMIT</td>\n",
       "      <td>24</td>\n",
       "      <td>18</td>\n",
       "      <td>39</td>\n",
       "      <td>54</td>\n",
       "      <td>5</td>\n",
       "      <td>19</td>\n",
       "      <td>38</td>\n",
       "      <td>41</td>\n",
       "      <td>30</td>\n",
       "      <td>28</td>\n",
       "    </tr>\n",
       "    <tr>\n",
       "      <th>4</th>\n",
       "      <td>BULA VERGARA MARIA PAULA</td>\n",
       "      <td>9</td>\n",
       "      <td>23</td>\n",
       "      <td>32</td>\n",
       "      <td>46</td>\n",
       "      <td>18</td>\n",
       "      <td>48</td>\n",
       "      <td>34</td>\n",
       "      <td>21</td>\n",
       "      <td>10</td>\n",
       "      <td>33</td>\n",
       "    </tr>\n",
       "    <tr>\n",
       "      <th>5</th>\n",
       "      <td>CANTILLO ENSUCHO DANIEL</td>\n",
       "      <td>34</td>\n",
       "      <td>5</td>\n",
       "      <td>44</td>\n",
       "      <td>43</td>\n",
       "      <td>21</td>\n",
       "      <td>23</td>\n",
       "      <td>40</td>\n",
       "      <td>36</td>\n",
       "      <td>18</td>\n",
       "      <td>51</td>\n",
       "    </tr>\n",
       "    <tr>\n",
       "      <th>6</th>\n",
       "      <td>CERVANTES DURAN ANGELICA</td>\n",
       "      <td>2</td>\n",
       "      <td>20</td>\n",
       "      <td>43</td>\n",
       "      <td>7</td>\n",
       "      <td>32</td>\n",
       "      <td>11</td>\n",
       "      <td>23</td>\n",
       "      <td>12</td>\n",
       "      <td>22</td>\n",
       "      <td>34</td>\n",
       "    </tr>\n",
       "    <tr>\n",
       "      <th>7</th>\n",
       "      <td>GUERRA NORIEGA YONATHAN</td>\n",
       "      <td>46</td>\n",
       "      <td>39</td>\n",
       "      <td>20</td>\n",
       "      <td>19</td>\n",
       "      <td>36</td>\n",
       "      <td>42</td>\n",
       "      <td>12</td>\n",
       "      <td>23</td>\n",
       "      <td>25</td>\n",
       "      <td>34</td>\n",
       "    </tr>\n",
       "    <tr>\n",
       "      <th>8</th>\n",
       "      <td>HINCAPIE CASTRO JOHAN SEBASTIAN</td>\n",
       "      <td>19</td>\n",
       "      <td>7</td>\n",
       "      <td>6</td>\n",
       "      <td>34</td>\n",
       "      <td>30</td>\n",
       "      <td>37</td>\n",
       "      <td>18</td>\n",
       "      <td>41</td>\n",
       "      <td>11</td>\n",
       "      <td>24</td>\n",
       "    </tr>\n",
       "    <tr>\n",
       "      <th>9</th>\n",
       "      <td>HUMANEZ SANCHEZ CAMILO</td>\n",
       "      <td>54</td>\n",
       "      <td>46</td>\n",
       "      <td>2</td>\n",
       "      <td>35</td>\n",
       "      <td>9</td>\n",
       "      <td>7</td>\n",
       "      <td>31</td>\n",
       "      <td>11</td>\n",
       "      <td>34</td>\n",
       "      <td>23</td>\n",
       "    </tr>\n",
       "    <tr>\n",
       "      <th>10</th>\n",
       "      <td>IBAÑEZ MORENO FRANCISCO LUIS</td>\n",
       "      <td>47</td>\n",
       "      <td>53</td>\n",
       "      <td>42</td>\n",
       "      <td>46</td>\n",
       "      <td>4</td>\n",
       "      <td>54</td>\n",
       "      <td>30</td>\n",
       "      <td>13</td>\n",
       "      <td>50</td>\n",
       "      <td>36</td>\n",
       "    </tr>\n",
       "    <tr>\n",
       "      <th>11</th>\n",
       "      <td>MASS MIRANDA RIVALDO JOSE</td>\n",
       "      <td>5</td>\n",
       "      <td>14</td>\n",
       "      <td>43</td>\n",
       "      <td>16</td>\n",
       "      <td>33</td>\n",
       "      <td>28</td>\n",
       "      <td>8</td>\n",
       "      <td>41</td>\n",
       "      <td>52</td>\n",
       "      <td>2</td>\n",
       "    </tr>\n",
       "    <tr>\n",
       "      <th>12</th>\n",
       "      <td>MIRANDA MARTINEZ CARLOS ANDRES</td>\n",
       "      <td>25</td>\n",
       "      <td>31</td>\n",
       "      <td>16</td>\n",
       "      <td>47</td>\n",
       "      <td>26</td>\n",
       "      <td>48</td>\n",
       "      <td>32</td>\n",
       "      <td>40</td>\n",
       "      <td>27</td>\n",
       "      <td>3</td>\n",
       "    </tr>\n",
       "    <tr>\n",
       "      <th>13</th>\n",
       "      <td>MONTERROSA SOTO ABRIL</td>\n",
       "      <td>4</td>\n",
       "      <td>26</td>\n",
       "      <td>30</td>\n",
       "      <td>25</td>\n",
       "      <td>33</td>\n",
       "      <td>13</td>\n",
       "      <td>7</td>\n",
       "      <td>23</td>\n",
       "      <td>19</td>\n",
       "      <td>14</td>\n",
       "    </tr>\n",
       "    <tr>\n",
       "      <th>14</th>\n",
       "      <td>NORIEGA JIMENEZ GABRIELA</td>\n",
       "      <td>19</td>\n",
       "      <td>11</td>\n",
       "      <td>43</td>\n",
       "      <td>47</td>\n",
       "      <td>21</td>\n",
       "      <td>13</td>\n",
       "      <td>38</td>\n",
       "      <td>29</td>\n",
       "      <td>33</td>\n",
       "      <td>50</td>\n",
       "    </tr>\n",
       "    <tr>\n",
       "      <th>15</th>\n",
       "      <td>PEREZ REYES IVAN DARIO</td>\n",
       "      <td>15</td>\n",
       "      <td>10</td>\n",
       "      <td>45</td>\n",
       "      <td>14</td>\n",
       "      <td>21</td>\n",
       "      <td>36</td>\n",
       "      <td>42</td>\n",
       "      <td>30</td>\n",
       "      <td>13</td>\n",
       "      <td>29</td>\n",
       "    </tr>\n",
       "    <tr>\n",
       "      <th>16</th>\n",
       "      <td>PEREZ THERAN ERLINDA</td>\n",
       "      <td>5</td>\n",
       "      <td>52</td>\n",
       "      <td>10</td>\n",
       "      <td>32</td>\n",
       "      <td>35</td>\n",
       "      <td>21</td>\n",
       "      <td>11</td>\n",
       "      <td>15</td>\n",
       "      <td>46</td>\n",
       "      <td>39</td>\n",
       "    </tr>\n",
       "    <tr>\n",
       "      <th>17</th>\n",
       "      <td>PINEDA ROMERO YOSMERI</td>\n",
       "      <td>10</td>\n",
       "      <td>52</td>\n",
       "      <td>24</td>\n",
       "      <td>6</td>\n",
       "      <td>50</td>\n",
       "      <td>26</td>\n",
       "      <td>41</td>\n",
       "      <td>18</td>\n",
       "      <td>7</td>\n",
       "      <td>21</td>\n",
       "    </tr>\n",
       "    <tr>\n",
       "      <th>18</th>\n",
       "      <td>QUINONEZ CERVANTES MARIANA</td>\n",
       "      <td>39</td>\n",
       "      <td>38</td>\n",
       "      <td>12</td>\n",
       "      <td>22</td>\n",
       "      <td>17</td>\n",
       "      <td>47</td>\n",
       "      <td>52</td>\n",
       "      <td>27</td>\n",
       "      <td>53</td>\n",
       "      <td>34</td>\n",
       "    </tr>\n",
       "    <tr>\n",
       "      <th>19</th>\n",
       "      <td>RAMOS PEREZ YANINE</td>\n",
       "      <td>52</td>\n",
       "      <td>3</td>\n",
       "      <td>46</td>\n",
       "      <td>23</td>\n",
       "      <td>50</td>\n",
       "      <td>25</td>\n",
       "      <td>51</td>\n",
       "      <td>39</td>\n",
       "      <td>20</td>\n",
       "      <td>35</td>\n",
       "    </tr>\n",
       "    <tr>\n",
       "      <th>20</th>\n",
       "      <td>RIVAS HOYOS ESTEFANIA</td>\n",
       "      <td>6</td>\n",
       "      <td>20</td>\n",
       "      <td>49</td>\n",
       "      <td>37</td>\n",
       "      <td>18</td>\n",
       "      <td>15</td>\n",
       "      <td>33</td>\n",
       "      <td>25</td>\n",
       "      <td>43</td>\n",
       "      <td>24</td>\n",
       "    </tr>\n",
       "    <tr>\n",
       "      <th>21</th>\n",
       "      <td>ROSILLO TEJADA VANESA</td>\n",
       "      <td>17</td>\n",
       "      <td>24</td>\n",
       "      <td>27</td>\n",
       "      <td>41</td>\n",
       "      <td>37</td>\n",
       "      <td>21</td>\n",
       "      <td>51</td>\n",
       "      <td>50</td>\n",
       "      <td>11</td>\n",
       "      <td>42</td>\n",
       "    </tr>\n",
       "    <tr>\n",
       "      <th>22</th>\n",
       "      <td>SANCHEZ PADILLA SILVESTRE</td>\n",
       "      <td>7</td>\n",
       "      <td>32</td>\n",
       "      <td>45</td>\n",
       "      <td>14</td>\n",
       "      <td>10</td>\n",
       "      <td>47</td>\n",
       "      <td>6</td>\n",
       "      <td>3</td>\n",
       "      <td>38</td>\n",
       "      <td>12</td>\n",
       "    </tr>\n",
       "    <tr>\n",
       "      <th>23</th>\n",
       "      <td>SILVA ROYERO MAILY CRISTINA</td>\n",
       "      <td>14</td>\n",
       "      <td>13</td>\n",
       "      <td>18</td>\n",
       "      <td>38</td>\n",
       "      <td>11</td>\n",
       "      <td>2</td>\n",
       "      <td>3</td>\n",
       "      <td>4</td>\n",
       "      <td>22</td>\n",
       "      <td>32</td>\n",
       "    </tr>\n",
       "    <tr>\n",
       "      <th>24</th>\n",
       "      <td>USUGA GEORGE JHON ESTIVEN</td>\n",
       "      <td>11</td>\n",
       "      <td>12</td>\n",
       "      <td>45</td>\n",
       "      <td>43</td>\n",
       "      <td>15</td>\n",
       "      <td>13</td>\n",
       "      <td>49</td>\n",
       "      <td>18</td>\n",
       "      <td>31</td>\n",
       "      <td>28</td>\n",
       "    </tr>\n",
       "  </tbody>\n",
       "</table>\n",
       "</div>"
      ],
      "text/plain": [
       "                              Student  Exer1  Exer2  Exer3  Exer4  Exer5  \\\n",
       "0   AMARIS FERNANDEZ SEBASTIAN CAMILO     47      2     52     29     21   \n",
       "1       ARENAS HERAZO GABRIEL ENRIQUE     42     23     44     20      2   \n",
       "2        AYALA MENDOZA MARISOL YACIRA     45     26     20     10     35   \n",
       "3          BERTEL RODELO MICHELL SMIT     24     18     39     54      5   \n",
       "4            BULA VERGARA MARIA PAULA      9     23     32     46     18   \n",
       "5             CANTILLO ENSUCHO DANIEL     34      5     44     43     21   \n",
       "6            CERVANTES DURAN ANGELICA      2     20     43      7     32   \n",
       "7             GUERRA NORIEGA YONATHAN     46     39     20     19     36   \n",
       "8     HINCAPIE CASTRO JOHAN SEBASTIAN     19      7      6     34     30   \n",
       "9              HUMANEZ SANCHEZ CAMILO     54     46      2     35      9   \n",
       "10       IBAÑEZ MORENO FRANCISCO LUIS     47     53     42     46      4   \n",
       "11          MASS MIRANDA RIVALDO JOSE      5     14     43     16     33   \n",
       "12     MIRANDA MARTINEZ CARLOS ANDRES     25     31     16     47     26   \n",
       "13              MONTERROSA SOTO ABRIL      4     26     30     25     33   \n",
       "14           NORIEGA JIMENEZ GABRIELA     19     11     43     47     21   \n",
       "15             PEREZ REYES IVAN DARIO     15     10     45     14     21   \n",
       "16               PEREZ THERAN ERLINDA      5     52     10     32     35   \n",
       "17              PINEDA ROMERO YOSMERI     10     52     24      6     50   \n",
       "18         QUINONEZ CERVANTES MARIANA     39     38     12     22     17   \n",
       "19                 RAMOS PEREZ YANINE     52      3     46     23     50   \n",
       "20              RIVAS HOYOS ESTEFANIA      6     20     49     37     18   \n",
       "21              ROSILLO TEJADA VANESA     17     24     27     41     37   \n",
       "22          SANCHEZ PADILLA SILVESTRE      7     32     45     14     10   \n",
       "23        SILVA ROYERO MAILY CRISTINA     14     13     18     38     11   \n",
       "24          USUGA GEORGE JHON ESTIVEN     11     12     45     43     15   \n",
       "\n",
       "    Exer6  Exer7  Exer8  Exer9  Exer10  \n",
       "0       4     36     54     35      53  \n",
       "1      34     45     43     37       8  \n",
       "2      36     23     29     31      12  \n",
       "3      19     38     41     30      28  \n",
       "4      48     34     21     10      33  \n",
       "5      23     40     36     18      51  \n",
       "6      11     23     12     22      34  \n",
       "7      42     12     23     25      34  \n",
       "8      37     18     41     11      24  \n",
       "9       7     31     11     34      23  \n",
       "10     54     30     13     50      36  \n",
       "11     28      8     41     52       2  \n",
       "12     48     32     40     27       3  \n",
       "13     13      7     23     19      14  \n",
       "14     13     38     29     33      50  \n",
       "15     36     42     30     13      29  \n",
       "16     21     11     15     46      39  \n",
       "17     26     41     18      7      21  \n",
       "18     47     52     27     53      34  \n",
       "19     25     51     39     20      35  \n",
       "20     15     33     25     43      24  \n",
       "21     21     51     50     11      42  \n",
       "22     47      6      3     38      12  \n",
       "23      2      3      4     22      32  \n",
       "24     13     49     18     31      28  "
      ]
     },
     "execution_count": 1,
     "metadata": {},
     "output_type": "execute_result"
    }
   ],
   "source": [
    "# Tarea 2 de solución de problemas \n",
    "# asignación de ejercicios de un seccion del texto guía\n",
    "\n",
    "# numpy.random.choice() obten la documentación de esta función en: \n",
    "# https://numpy.org/doc/stable/reference/random/generated/numpy.random.choice.html\n",
    "\n",
    "import pandas as pd\n",
    "import numpy as np\n",
    "import requests\n",
    "np.random.seed(424)  # establecer semilla aleatoria para hacer los resultados reproducibles\n",
    "\n",
    "\n",
    "nombre_tarea = 'Tarea_2'\n",
    "grupo_estudiantes = 'calculo_vectorial'\n",
    "nombre_texto_guia = 'Purcell'\n",
    "pagina_y_seccion = 'Página_202_Sección_3.8'\n",
    "numero_ejercicios_taller = 54\n",
    "numero_de_ejercicios_asignados = 10\n",
    "\n",
    "\n",
    "# Descargar la lista de  estudiantes\n",
    "students_path = \"/home/marco/Documentos/docencia/groups_list/\" + grupo_estudiantes + \".csv\"\n",
    "exercises = list(range(1, numero_ejercicios_taller))  \n",
    "\n",
    "students_data = pd.read_csv(students_path)\n",
    "\n",
    "# Crear una lista para almacenar las asignaciones\n",
    "assignments = []\n",
    "\n",
    "# Asignar ejercicios aleatorios a cada estudiante\n",
    "for index, student in students_data.iterrows():\n",
    "    # Seleccionar 5 ejercicios aleatorios sin repetición\n",
    "    random_exercises = np.random.choice(exercises, numero_de_ejercicios_asignados, replace = False)+ 1 \n",
    "    assignments.append([students_data[\"Nombre\"][index], *random_exercises])  # Agregar asignación a la lista\n",
    "\n",
    "# Crear un DataFrame con las asignaciones\n",
    "columns = [\"Student\"] + [ \"Exer\" + str(i+1) for i in range(numero_de_ejercicios_asignados)]\n",
    "assignment_df = pd.DataFrame(assignments, columns=columns)\n",
    "\n",
    "# Guardar el DataFrame en un archivo CSV\n",
    "assignment_csv = nombre_tarea + \"_\" + nombre_texto_guia + \"_\"+ pagina_y_seccion + \".csv\"\n",
    "assignment_df.to_csv(assignment_csv, index=False)\n",
    "\n",
    "print(\"\"\"Tarea 2 de solución de problemas:\n",
    "      Si faltan los enunciados de los problemas, no se valora la tarea.\n",
    "      Si faltan de la conclusión verbales, no se valora la tarea.\n",
    "      Esta tarea se valora solo si la presenta de manera manuscrita en su cuaderno de clase.  \n",
    "        \"\"\", assignment_csv)\n",
    "assignment_df"
   ]
  },
  {
   "cell_type": "markdown",
   "id": "d34defb9",
   "metadata": {
    "slideshow": {
     "slide_type": "slide"
    }
   },
   "source": [
    "## Asignación individual de tareas semanales "
   ]
  },
  {
   "cell_type": "code",
   "execution_count": 5,
   "id": "0406f442",
   "metadata": {
    "slideshow": {
     "slide_type": "slide"
    }
   },
   "outputs": [
    {
     "name": "stdout",
     "output_type": "stream",
     "text": [
      "Tarea 3 Solución problemas describiendo y justificando verbalmente: \n",
      "      Si faltan los enunciados de los problemas, no se valora la tarea\n",
      "      Si faltan de la conclusión verbales, no se valora la tarea \n",
      "      Esta tarea se valora solo si la presenta de manera manuscrita en su cuaderno de clase  \n",
      "       tarea_Purcell_Página_202_Sección_3.8.csv\n"
     ]
    },
    {
     "data": {
      "text/html": [
       "<div>\n",
       "<style scoped>\n",
       "    .dataframe tbody tr th:only-of-type {\n",
       "        vertical-align: middle;\n",
       "    }\n",
       "\n",
       "    .dataframe tbody tr th {\n",
       "        vertical-align: top;\n",
       "    }\n",
       "\n",
       "    .dataframe thead th {\n",
       "        text-align: right;\n",
       "    }\n",
       "</style>\n",
       "<table border=\"1\" class=\"dataframe\">\n",
       "  <thead>\n",
       "    <tr style=\"text-align: right;\">\n",
       "      <th></th>\n",
       "      <th>Student</th>\n",
       "      <th>Exer1</th>\n",
       "      <th>Exer2</th>\n",
       "      <th>Exer3</th>\n",
       "      <th>Exer4</th>\n",
       "      <th>Exer5</th>\n",
       "      <th>Exer6</th>\n",
       "      <th>Exer7</th>\n",
       "      <th>Exer8</th>\n",
       "      <th>Exer9</th>\n",
       "      <th>Exer10</th>\n",
       "    </tr>\n",
       "  </thead>\n",
       "  <tbody>\n",
       "    <tr>\n",
       "      <th>0</th>\n",
       "      <td>AMARIS FERNANDEZ SEBASTIAN CAMILO</td>\n",
       "      <td>4</td>\n",
       "      <td>7</td>\n",
       "      <td>9</td>\n",
       "      <td>17</td>\n",
       "      <td>21</td>\n",
       "      <td>30</td>\n",
       "      <td>39</td>\n",
       "      <td>44</td>\n",
       "      <td>51</td>\n",
       "      <td>54</td>\n",
       "    </tr>\n",
       "    <tr>\n",
       "      <th>1</th>\n",
       "      <td>ARENAS HERAZO GABRIEL ENRIQUE</td>\n",
       "      <td>2</td>\n",
       "      <td>5</td>\n",
       "      <td>11</td>\n",
       "      <td>17</td>\n",
       "      <td>26</td>\n",
       "      <td>28</td>\n",
       "      <td>32</td>\n",
       "      <td>40</td>\n",
       "      <td>46</td>\n",
       "      <td>50</td>\n",
       "    </tr>\n",
       "    <tr>\n",
       "      <th>2</th>\n",
       "      <td>AYALA MENDOZA MARISOL YACIRA</td>\n",
       "      <td>10</td>\n",
       "      <td>18</td>\n",
       "      <td>21</td>\n",
       "      <td>37</td>\n",
       "      <td>39</td>\n",
       "      <td>45</td>\n",
       "      <td>46</td>\n",
       "      <td>47</td>\n",
       "      <td>51</td>\n",
       "      <td>52</td>\n",
       "    </tr>\n",
       "    <tr>\n",
       "      <th>3</th>\n",
       "      <td>BERTEL RODELO MICHELL SMIT</td>\n",
       "      <td>4</td>\n",
       "      <td>8</td>\n",
       "      <td>20</td>\n",
       "      <td>26</td>\n",
       "      <td>28</td>\n",
       "      <td>33</td>\n",
       "      <td>40</td>\n",
       "      <td>41</td>\n",
       "      <td>42</td>\n",
       "      <td>47</td>\n",
       "    </tr>\n",
       "    <tr>\n",
       "      <th>4</th>\n",
       "      <td>BULA VERGARA MARIA PAULA</td>\n",
       "      <td>12</td>\n",
       "      <td>13</td>\n",
       "      <td>20</td>\n",
       "      <td>23</td>\n",
       "      <td>25</td>\n",
       "      <td>27</td>\n",
       "      <td>29</td>\n",
       "      <td>30</td>\n",
       "      <td>34</td>\n",
       "      <td>48</td>\n",
       "    </tr>\n",
       "    <tr>\n",
       "      <th>5</th>\n",
       "      <td>CANTILLO ENSUCHO DANIEL</td>\n",
       "      <td>2</td>\n",
       "      <td>4</td>\n",
       "      <td>5</td>\n",
       "      <td>7</td>\n",
       "      <td>15</td>\n",
       "      <td>25</td>\n",
       "      <td>27</td>\n",
       "      <td>33</td>\n",
       "      <td>46</td>\n",
       "      <td>51</td>\n",
       "    </tr>\n",
       "    <tr>\n",
       "      <th>6</th>\n",
       "      <td>CERVANTES DURAN ANGELICA</td>\n",
       "      <td>2</td>\n",
       "      <td>4</td>\n",
       "      <td>5</td>\n",
       "      <td>14</td>\n",
       "      <td>17</td>\n",
       "      <td>19</td>\n",
       "      <td>22</td>\n",
       "      <td>24</td>\n",
       "      <td>34</td>\n",
       "      <td>52</td>\n",
       "    </tr>\n",
       "    <tr>\n",
       "      <th>7</th>\n",
       "      <td>GUERRA NORIEGA YONATHAN</td>\n",
       "      <td>3</td>\n",
       "      <td>20</td>\n",
       "      <td>24</td>\n",
       "      <td>26</td>\n",
       "      <td>28</td>\n",
       "      <td>35</td>\n",
       "      <td>39</td>\n",
       "      <td>48</td>\n",
       "      <td>49</td>\n",
       "      <td>53</td>\n",
       "    </tr>\n",
       "    <tr>\n",
       "      <th>8</th>\n",
       "      <td>HINCAPIE CASTRO JOHAN SEBASTIAN</td>\n",
       "      <td>10</td>\n",
       "      <td>17</td>\n",
       "      <td>27</td>\n",
       "      <td>28</td>\n",
       "      <td>29</td>\n",
       "      <td>32</td>\n",
       "      <td>36</td>\n",
       "      <td>44</td>\n",
       "      <td>48</td>\n",
       "      <td>54</td>\n",
       "    </tr>\n",
       "    <tr>\n",
       "      <th>9</th>\n",
       "      <td>HUMANEZ SANCHEZ CAMILO</td>\n",
       "      <td>3</td>\n",
       "      <td>16</td>\n",
       "      <td>19</td>\n",
       "      <td>24</td>\n",
       "      <td>33</td>\n",
       "      <td>41</td>\n",
       "      <td>43</td>\n",
       "      <td>44</td>\n",
       "      <td>47</td>\n",
       "      <td>49</td>\n",
       "    </tr>\n",
       "    <tr>\n",
       "      <th>10</th>\n",
       "      <td>IBAÑEZ MORENO FRANCISCO LUIS</td>\n",
       "      <td>3</td>\n",
       "      <td>8</td>\n",
       "      <td>13</td>\n",
       "      <td>16</td>\n",
       "      <td>21</td>\n",
       "      <td>27</td>\n",
       "      <td>28</td>\n",
       "      <td>31</td>\n",
       "      <td>42</td>\n",
       "      <td>43</td>\n",
       "    </tr>\n",
       "    <tr>\n",
       "      <th>11</th>\n",
       "      <td>MASS MIRANDA RIVALDO JOSE</td>\n",
       "      <td>2</td>\n",
       "      <td>3</td>\n",
       "      <td>12</td>\n",
       "      <td>13</td>\n",
       "      <td>23</td>\n",
       "      <td>24</td>\n",
       "      <td>31</td>\n",
       "      <td>35</td>\n",
       "      <td>46</td>\n",
       "      <td>52</td>\n",
       "    </tr>\n",
       "    <tr>\n",
       "      <th>12</th>\n",
       "      <td>MIRANDA MARTINEZ CARLOS ANDRES</td>\n",
       "      <td>10</td>\n",
       "      <td>12</td>\n",
       "      <td>21</td>\n",
       "      <td>24</td>\n",
       "      <td>25</td>\n",
       "      <td>26</td>\n",
       "      <td>27</td>\n",
       "      <td>29</td>\n",
       "      <td>39</td>\n",
       "      <td>50</td>\n",
       "    </tr>\n",
       "    <tr>\n",
       "      <th>13</th>\n",
       "      <td>MONTERROSA SOTO ABRIL</td>\n",
       "      <td>10</td>\n",
       "      <td>14</td>\n",
       "      <td>16</td>\n",
       "      <td>18</td>\n",
       "      <td>28</td>\n",
       "      <td>30</td>\n",
       "      <td>35</td>\n",
       "      <td>36</td>\n",
       "      <td>42</td>\n",
       "      <td>50</td>\n",
       "    </tr>\n",
       "    <tr>\n",
       "      <th>14</th>\n",
       "      <td>NORIEGA JIMENEZ GABRIELA</td>\n",
       "      <td>4</td>\n",
       "      <td>13</td>\n",
       "      <td>14</td>\n",
       "      <td>16</td>\n",
       "      <td>19</td>\n",
       "      <td>22</td>\n",
       "      <td>36</td>\n",
       "      <td>37</td>\n",
       "      <td>46</td>\n",
       "      <td>51</td>\n",
       "    </tr>\n",
       "    <tr>\n",
       "      <th>15</th>\n",
       "      <td>PEREZ REYES IVAN DARIO</td>\n",
       "      <td>17</td>\n",
       "      <td>19</td>\n",
       "      <td>23</td>\n",
       "      <td>26</td>\n",
       "      <td>30</td>\n",
       "      <td>33</td>\n",
       "      <td>34</td>\n",
       "      <td>40</td>\n",
       "      <td>46</td>\n",
       "      <td>53</td>\n",
       "    </tr>\n",
       "    <tr>\n",
       "      <th>16</th>\n",
       "      <td>PEREZ THERAN ERLINDA</td>\n",
       "      <td>3</td>\n",
       "      <td>6</td>\n",
       "      <td>19</td>\n",
       "      <td>21</td>\n",
       "      <td>25</td>\n",
       "      <td>30</td>\n",
       "      <td>32</td>\n",
       "      <td>39</td>\n",
       "      <td>42</td>\n",
       "      <td>45</td>\n",
       "    </tr>\n",
       "    <tr>\n",
       "      <th>17</th>\n",
       "      <td>PINEDA ROMERO YOSMERI</td>\n",
       "      <td>2</td>\n",
       "      <td>30</td>\n",
       "      <td>31</td>\n",
       "      <td>32</td>\n",
       "      <td>35</td>\n",
       "      <td>36</td>\n",
       "      <td>37</td>\n",
       "      <td>42</td>\n",
       "      <td>47</td>\n",
       "      <td>50</td>\n",
       "    </tr>\n",
       "    <tr>\n",
       "      <th>18</th>\n",
       "      <td>QUINONEZ CERVANTES MARIANA</td>\n",
       "      <td>5</td>\n",
       "      <td>6</td>\n",
       "      <td>8</td>\n",
       "      <td>13</td>\n",
       "      <td>15</td>\n",
       "      <td>32</td>\n",
       "      <td>33</td>\n",
       "      <td>42</td>\n",
       "      <td>46</td>\n",
       "      <td>49</td>\n",
       "    </tr>\n",
       "    <tr>\n",
       "      <th>19</th>\n",
       "      <td>RAMOS PEREZ YANINE</td>\n",
       "      <td>11</td>\n",
       "      <td>20</td>\n",
       "      <td>21</td>\n",
       "      <td>28</td>\n",
       "      <td>29</td>\n",
       "      <td>37</td>\n",
       "      <td>39</td>\n",
       "      <td>44</td>\n",
       "      <td>46</td>\n",
       "      <td>52</td>\n",
       "    </tr>\n",
       "    <tr>\n",
       "      <th>20</th>\n",
       "      <td>RIVAS HOYOS ESTEFANIA</td>\n",
       "      <td>7</td>\n",
       "      <td>10</td>\n",
       "      <td>12</td>\n",
       "      <td>14</td>\n",
       "      <td>17</td>\n",
       "      <td>25</td>\n",
       "      <td>28</td>\n",
       "      <td>30</td>\n",
       "      <td>37</td>\n",
       "      <td>48</td>\n",
       "    </tr>\n",
       "    <tr>\n",
       "      <th>21</th>\n",
       "      <td>ROSILLO TEJADA VANESA</td>\n",
       "      <td>12</td>\n",
       "      <td>22</td>\n",
       "      <td>23</td>\n",
       "      <td>27</td>\n",
       "      <td>28</td>\n",
       "      <td>30</td>\n",
       "      <td>34</td>\n",
       "      <td>36</td>\n",
       "      <td>40</td>\n",
       "      <td>44</td>\n",
       "    </tr>\n",
       "    <tr>\n",
       "      <th>22</th>\n",
       "      <td>SANCHEZ PADILLA SILVESTRE</td>\n",
       "      <td>4</td>\n",
       "      <td>7</td>\n",
       "      <td>15</td>\n",
       "      <td>22</td>\n",
       "      <td>32</td>\n",
       "      <td>34</td>\n",
       "      <td>38</td>\n",
       "      <td>43</td>\n",
       "      <td>48</td>\n",
       "      <td>53</td>\n",
       "    </tr>\n",
       "    <tr>\n",
       "      <th>23</th>\n",
       "      <td>SILVA ROYERO MAILY CRISTINA</td>\n",
       "      <td>4</td>\n",
       "      <td>5</td>\n",
       "      <td>12</td>\n",
       "      <td>13</td>\n",
       "      <td>20</td>\n",
       "      <td>25</td>\n",
       "      <td>30</td>\n",
       "      <td>35</td>\n",
       "      <td>42</td>\n",
       "      <td>54</td>\n",
       "    </tr>\n",
       "    <tr>\n",
       "      <th>24</th>\n",
       "      <td>USUGA GEORGE JHON ESTIVEN</td>\n",
       "      <td>5</td>\n",
       "      <td>7</td>\n",
       "      <td>8</td>\n",
       "      <td>10</td>\n",
       "      <td>22</td>\n",
       "      <td>37</td>\n",
       "      <td>39</td>\n",
       "      <td>42</td>\n",
       "      <td>44</td>\n",
       "      <td>51</td>\n",
       "    </tr>\n",
       "  </tbody>\n",
       "</table>\n",
       "</div>"
      ],
      "text/plain": [
       "                              Student  Exer1  Exer2  Exer3  Exer4  Exer5  \\\n",
       "0   AMARIS FERNANDEZ SEBASTIAN CAMILO      4      7      9     17     21   \n",
       "1       ARENAS HERAZO GABRIEL ENRIQUE      2      5     11     17     26   \n",
       "2        AYALA MENDOZA MARISOL YACIRA     10     18     21     37     39   \n",
       "3          BERTEL RODELO MICHELL SMIT      4      8     20     26     28   \n",
       "4            BULA VERGARA MARIA PAULA     12     13     20     23     25   \n",
       "5             CANTILLO ENSUCHO DANIEL      2      4      5      7     15   \n",
       "6            CERVANTES DURAN ANGELICA      2      4      5     14     17   \n",
       "7             GUERRA NORIEGA YONATHAN      3     20     24     26     28   \n",
       "8     HINCAPIE CASTRO JOHAN SEBASTIAN     10     17     27     28     29   \n",
       "9              HUMANEZ SANCHEZ CAMILO      3     16     19     24     33   \n",
       "10       IBAÑEZ MORENO FRANCISCO LUIS      3      8     13     16     21   \n",
       "11          MASS MIRANDA RIVALDO JOSE      2      3     12     13     23   \n",
       "12     MIRANDA MARTINEZ CARLOS ANDRES     10     12     21     24     25   \n",
       "13              MONTERROSA SOTO ABRIL     10     14     16     18     28   \n",
       "14           NORIEGA JIMENEZ GABRIELA      4     13     14     16     19   \n",
       "15             PEREZ REYES IVAN DARIO     17     19     23     26     30   \n",
       "16               PEREZ THERAN ERLINDA      3      6     19     21     25   \n",
       "17              PINEDA ROMERO YOSMERI      2     30     31     32     35   \n",
       "18         QUINONEZ CERVANTES MARIANA      5      6      8     13     15   \n",
       "19                 RAMOS PEREZ YANINE     11     20     21     28     29   \n",
       "20              RIVAS HOYOS ESTEFANIA      7     10     12     14     17   \n",
       "21              ROSILLO TEJADA VANESA     12     22     23     27     28   \n",
       "22          SANCHEZ PADILLA SILVESTRE      4      7     15     22     32   \n",
       "23        SILVA ROYERO MAILY CRISTINA      4      5     12     13     20   \n",
       "24          USUGA GEORGE JHON ESTIVEN      5      7      8     10     22   \n",
       "\n",
       "    Exer6  Exer7  Exer8  Exer9  Exer10  \n",
       "0      30     39     44     51      54  \n",
       "1      28     32     40     46      50  \n",
       "2      45     46     47     51      52  \n",
       "3      33     40     41     42      47  \n",
       "4      27     29     30     34      48  \n",
       "5      25     27     33     46      51  \n",
       "6      19     22     24     34      52  \n",
       "7      35     39     48     49      53  \n",
       "8      32     36     44     48      54  \n",
       "9      41     43     44     47      49  \n",
       "10     27     28     31     42      43  \n",
       "11     24     31     35     46      52  \n",
       "12     26     27     29     39      50  \n",
       "13     30     35     36     42      50  \n",
       "14     22     36     37     46      51  \n",
       "15     33     34     40     46      53  \n",
       "16     30     32     39     42      45  \n",
       "17     36     37     42     47      50  \n",
       "18     32     33     42     46      49  \n",
       "19     37     39     44     46      52  \n",
       "20     25     28     30     37      48  \n",
       "21     30     34     36     40      44  \n",
       "22     34     38     43     48      53  \n",
       "23     25     30     35     42      54  \n",
       "24     37     39     42     44      51  "
      ]
     },
     "execution_count": 5,
     "metadata": {},
     "output_type": "execute_result"
    }
   ],
   "source": [
    "# Tarea 3 de solución de problemas describiendo procedimientos y justificándolos\n",
    "\n",
    "# asignación de ejercicios de un seccion del texto guía\n",
    "\n",
    "# numpy.random.choice() obten la documentación de esta función en: \n",
    "# https://numpy.org/doc/stable/reference/random/generated/numpy.random.choice.html\n",
    "\n",
    "import pandas as pd\n",
    "import numpy as np\n",
    "import requests\n",
    "np.random.seed(126)  # establecer semilla aleatoria para hacer los resultados reproducibles\n",
    "\n",
    "\n",
    "nombre_tarea = 'Tarea_3_Solución_problemas_describiendo_y_justificando_verbalmente'\n",
    "grupo_estudiantes = 'calculo_vectorial'\n",
    "nombre_texto_guia = 'Purcell'\n",
    "pagina_y_seccion = 'Página_202_Sección_3.8'\n",
    "numero_ejercicios_taller = 54\n",
    "numero_de_ejercicios_asignados = 10\n",
    "\n",
    "\n",
    "# Descargar la lista de  estudiantes\n",
    "students_path = \"/home/marco/Documentos/docencia/groups_list/\" + grupo_estudiantes + \".csv\"\n",
    "exercises = list(range(1, numero_ejercicios_taller))  \n",
    "\n",
    "students_data = pd.read_csv(students_path)\n",
    "\n",
    "# Crear una lista para almacenar las asignaciones\n",
    "assignments = []\n",
    "\n",
    "# Asignar ejercicios aleatorios a cada estudiante\n",
    "for index, student in students_data.iterrows():\n",
    "    # Seleccionar 5 ejercicios aleatorios sin repetición\n",
    "    random_exercises = np.sort(np.random.choice(exercises, numero_de_ejercicios_asignados,\\\n",
    "                                                 replace = False)+ 1) \n",
    "    assignments.append([students_data[\"Nombre\"][index], *random_exercises])  # Agregar asignación a la lista\n",
    "\n",
    "# Crear un DataFrame con las asignaciones\n",
    "columns = [\"Student\"] + [ \"Exer\" + str(i+1) for i in range(numero_de_ejercicios_asignados)]\n",
    "assignment_df = pd.DataFrame(assignments, columns=columns)\n",
    "\n",
    "# Guardar el DataFrame en un archivo CSV\n",
    "assignment_csv = nombre_tarea + \"_\" + nombre_texto_guia + \"_\"+ pagina_y_seccion + \".csv\"\n",
    "assignment_df.to_csv(assignment_csv, index=False)\n",
    "\n",
    "print(\"\"\"Tarea 3 Solución problemas describiendo y justificando verbalmente: \n",
    "      Si faltan los enunciados de los problemas, no se valora la tarea\n",
    "      Si faltan de la conclusión verbales, no se valora la tarea \n",
    "      Esta tarea se valora solo si la presenta de manera manuscrita en su cuaderno de clase  \n",
    "      \"\"\", assignment_csv)\n",
    "assignment_df"
   ]
  },
  {
   "cell_type": "markdown",
   "id": "8d41fe58",
   "metadata": {
    "slideshow": {
     "slide_type": "slide"
    }
   },
   "source": [
    "# Horario de clases del profesor Marco\n",
    "\n",
    "* Lunes 8-12: Cálculo Vectorial\n",
    "* Martes 8-12 M: Fundamentos de Aritmética. \n",
    "* Miércoles 8 a 12 M: Fundamentos de la Lógica\n",
    "* Jueves 2 a 6PM: Desarrollo del pensamiento matemático en la infancia. \n",
    "* Viernes 8 - 12 M: Desarrollo del pensamiento matemático en la infancia. \n",
    "* Sábados 8-12 Asesorías "
   ]
  },
  {
   "cell_type": "markdown",
   "id": "ae114e14",
   "metadata": {
    "slideshow": {
     "slide_type": "slide"
    }
   },
   "source": [
    "# Horarios de monitoría y asesoría  \n",
    "\n",
    "Coordinador de los cursos de la Facultad de Educación para regiones:    \n",
    "\n",
    "Andrés Vélez: regioneducacion.fedu@udea.edu.co  \n",
    "Coordinador Regiones  \n",
    "Facultad de Educación  \n",
    "Universidad de Antioquia  "
   ]
  },
  {
   "cell_type": "markdown",
   "id": "b1db4b6c",
   "metadata": {
    "slideshow": {
     "slide_type": "slide"
    }
   },
   "source": [
    "## Monitor Manuel San Juan Serrano\n",
    "\n",
    "Contactar escribiendo al correo: manuel.serrano1@udea.edu.co"
   ]
  },
  {
   "cell_type": "markdown",
   "id": "39559692",
   "metadata": {
    "slideshow": {
     "slide_type": "slide"
    }
   },
   "source": [
    "Martes y jueves de 8 - 12  \n",
    "Miércoles 10 - 12 y de 2 a 4 PM  \n",
    "Sábado: 8 - 12"
   ]
  },
  {
   "cell_type": "markdown",
   "id": "5a190057",
   "metadata": {},
   "source": [
    "## Monitoría virtual   \n",
    "\n",
    "Telefono del monitos en whatsApp: 3043936088  \n",
    "\n",
    "Juan David Cano Castrillón  \n",
    "Estudiante de Pregrado.  \n",
    "juan.canoc1@udea.edu.co  \n",
    "3043936088  \n"
   ]
  },
  {
   "cell_type": "markdown",
   "id": "10bce0d0",
   "metadata": {
    "slideshow": {
     "slide_type": "slide"
    }
   },
   "source": [
    "## Referentes "
   ]
  },
  {
   "cell_type": "markdown",
   "id": "1db3c468",
   "metadata": {
    "slideshow": {
     "slide_type": "slide"
    }
   },
   "source": [
    "* [Grajales Vanegas, L. M., Restrepo Estrada, C. E., Restrepo Ochoa, S. I., & Ruíz De Villalba, F. (2015). Matemáticas I para las ciencias económicas.](https://github.com/marco-canas/fundamentos_de_la_aritmetica/blob/main/referentes/2_grajales_logica/grajales_lina_matemticas.pdf)\n",
    "  \n",
    "* Duval, R. (2004). Semiosis y pensamiento humano: registros semióticos y aprendizajes intelectuales. Universidad del Valle.\n",
    "\n",
    "* [Aylwin, C. U. (2011). Lógica, conjuntos y números. Universidad de los Andes, Consejo de Publicaciones, Colección: Ciencias Básicas, Serie: Matemáticas.](https://github.com/marco-canas/fundamentos_logica/blob/main/referentes/2_uzcategui/uscategui.pdf)\n",
    "  \n",
    "* [Chollet, F. (2021). Deep learning with Python. Simon and Schuster.](https://github.com/marco-canas/didactica_ciencia_datos/blob/main/2_referentes/chollet/Fran%C3%A7ois%20Chollet%20-%20Deep%20Learning%20with%20Python-Manning%20(2018).pdf)  \n",
    "  \n",
    "* [Watson, S., Stewart, J., & Redlin, L. (2009). Precálculo. Matemáticas para el cálculo.](https://github.com/marco-canas/calculo/blob/main/referents/1_precalculo_stewart/stewart_precalculo.pdf)  \n",
    "\n",
    "* [Purcell, E. J., Varberg, D., & Rigdon, S. E. (2007). Cálculo diferencial e integral. Pearson Educación.](https://github.com/marco-canas/calculo/blob/main/referents/purcell/purcell_calculo.pdf)\n",
    "\n",
    "  \n",
    "\n",
    "* [stewart cálculo](https://udeaeduco-my.sharepoint.com/:b:/g/personal/marco_canas_udea_edu_co/EZgXZjAp8QxPqOAim2hs6LcBNPLGjSHf-xwYnUVYkwa04w?e=RZdTCy)  \n",
    "\n",
    "* [larson](https://udeaeduco-my.sharepoint.com/:b:/g/personal/marco_canas_udea_edu_co/ES71ChFeO9ZDhW3TwC5Ijk8BjxUK3Pdqz_fjHxTTFAfIAg?e=VDEjfu)\n",
    "\n",
    "\n",
    "\n",
    "* [Recomendación de la UNESCO sobre ciencia abierta](https://unesdoc.unesco.org/ark:/48223/pf0000379949_spa)\n",
    "\n",
    "* [chatGPT](https://openai.com/blog/chatgpt)  \n",
    "\n",
    "* [Géron, A. (2017). Hands-on machine learning with scikit-learn and tensorflow: Concepts. Tools, and Techniques to build intelligent systems.](https://github.com/marco-canas/didactica_ciencia_datos/blob/main/2_referentes/geron/Hands-On%20Machine%20Learning-3nd_Edition(2022).pdf)  \n",
    "\n",
    "* [McKinney, W. (2012). Python for data analysis: Data wrangling with Pandas, NumPy, and IPython. \" O'Reilly Media, Inc.\".](https://github.com/marco-canas/didactica_ciencia_datos/blob/main/2_referentes/mckinney/Wes_McKinney.pdf)  "
   ]
  },
  {
   "cell_type": "markdown",
   "id": "8e65d6f9",
   "metadata": {},
   "source": [
    "# Como estudiante, encuentro que...   \n",
    "\n",
    "F: Mis Fortalezas son:     \n",
    "O: Mis Oportunidades son:    \n",
    "D: Mis Debilidades son:    \n",
    "A: Lo que Amenazas mi aprendizaje es:  "
   ]
  },
  {
   "cell_type": "markdown",
   "id": "6b9e56a8",
   "metadata": {
    "slideshow": {
     "slide_type": "slide"
    }
   },
   "source": [
    "### [Evaluamos al profesor Marco Cañas Aquí](https://forms.office.com/Pages/ResponsePage.aspx?id=IefhmYRxjkmK_7KtTlPBwkanXIs1i1FEujpsZgO6dXpUREJPV1kxUk1JV1ozTFJIQVNIQjY5WEY3US4u)"
   ]
  },
  {
   "cell_type": "markdown",
   "id": "050b9508",
   "metadata": {},
   "source": [
    "# Aportes de mis estudiantes a la metodología del curso  \n",
    "1. \n",
    "\n",
    "Sus opiniones y aportes son muy importantes para mi. Pues esta es una investigación educativa y un servicio de enseñanza para ustedes. Ustedes son la razón de ser de mi actividad docente. Dios los bendiga. "
   ]
  },
  {
   "cell_type": "markdown",
   "id": "6c4af91f",
   "metadata": {},
   "source": [
    "# Aportes de mis colegas docentes a la metodología que estoy aplicando en mis cursos. "
   ]
  },
  {
   "cell_type": "markdown",
   "id": "071afa04",
   "metadata": {
    "slideshow": {
     "slide_type": "slide"
    }
   },
   "source": [
    "## [Evaluación luego de alcanzar estos objetivos de aprendizaje]()"
   ]
  },
  {
   "cell_type": "markdown",
   "id": "10f43536",
   "metadata": {
    "slideshow": {
     "slide_type": "slide"
    }
   },
   "source": [
    "### Continue su aprendizaje en la siguiente clase a través del siguiente [vínculo]()"
   ]
  },
  {
   "cell_type": "markdown",
   "id": "ba236f4d",
   "metadata": {},
   "source": [
    "### **Actividad de Clase: Expresar Ideas, Dudas y Emociones de Manera Respetuosa y Asertiva**\n"
   ]
  },
  {
   "cell_type": "markdown",
   "id": "33bcd185",
   "metadata": {},
   "source": [
    "\n",
    "**Objetivo:**  \n",
    "Desarrollar habilidades de comunicación efectiva en los estudiantes para que puedan expresar sus ideas, dudas y emociones de forma respetuosa y asertiva.\n",
    "\n",
    "**Duración:**  \n",
    "15-20 minutos\n",
    "\n",
    "---\n"
   ]
  },
  {
   "cell_type": "markdown",
   "id": "f61da648",
   "metadata": {},
   "source": [
    "\n",
    "### **1. Introducción (5 minutos)**  \n",
    "- **Tema:** Introducir a los estudiantes al concepto de la comunicación asertiva, explicando cómo expresar pensamientos y emociones de manera clara y respetuosa sin agredir o ser pasivo.\n",
    "- **Dinámica:** Mostrar dos ejemplos contrastantes: uno de comunicación pasiva/agresiva y otro de comunicación asertiva. Preguntar a los estudiantes cuál creen que es más efectivo y por qué.\n",
    "\n",
    "**Materiales:**  \n",
    "- Pizarra o diapositivas con ejemplos de frases pasivas, agresivas y asertivas.\n",
    "  \n",
    "**Ejemplo:**  \n",
    "- **Pasivo:** “Bueno… no sé si es una buena idea, pero… tal vez podrías intentarlo.”\n",
    "- **Agresivo:** “¡Tu idea es terrible, no va a funcionar!”\n",
    "- **Asertivo:** “Creo que podríamos mejorar esa idea si consideramos otro enfoque.”\n",
    "\n",
    "---\n",
    "\n",
    "### **2. Ejercicio en Parejas (10 minutos)**  \n",
    "- **Instrucciones:** Dividir a los estudiantes en parejas. Darles diferentes situaciones cotidianas en las que deben comunicarse (pedir ayuda, expresar desacuerdo, compartir una idea, etc.). Cada pareja debe crear una breve conversación donde practiquen la comunicación asertiva.\n",
    "  \n",
    "**Situaciones propuestas:**\n",
    "  - Expresar desacuerdo con un compañero sobre una tarea de grupo.\n",
    "  - Pedirle ayuda al profesor sobre un concepto difícil.\n",
    "  - Expresar frustración por un malentendido en clase.\n",
    "\n",
    "- **Reglas:** Cada estudiante debe asegurarse de usar lenguaje respetuoso y asertivo para expresar su posición y emociones. Al final, cada pareja debe compartir con la clase un ejemplo de lo que discutieron.\n",
    "\n",
    "---\n",
    "\n",
    "### **3. Retroalimentación y Discusión (5 minutos)**  \n",
    "- **Discusión:** Invitar a algunos estudiantes a compartir sus experiencias de la actividad. \n",
    "- **Preguntas:** ¿Cómo se sintieron al intentar ser asertivos? ¿Les resultó difícil? ¿Cómo fue recibido el mensaje?\n",
    "  \n",
    "**Consejo:** Resaltar la importancia de practicar la asertividad como una herramienta para mejorar la comunicación interpersonal y reducir conflictos.\n",
    "\n",
    "---\n",
    "\n",
    "### **Cierre**  \n",
    "- Resumir las características de la comunicación asertiva: uso de \"yo\" en lugar de \"tú\" para evitar culpabilizar, tono de voz calmado, y respeto hacia el interlocutor.\n",
    "- **Tarea opcional:** Pedirles que practiquen la comunicación asertiva en sus conversaciones durante la semana y escriban una reflexión breve sobre cómo les fue.\n",
    "\n",
    "**Material adicional:**  \n",
    "- Video corto o recurso digital sobre la importancia de la comunicación asertiva."
   ]
  },
  {
   "cell_type": "markdown",
   "id": "53cc9115",
   "metadata": {
    "slideshow": {
     "slide_type": "slide"
    }
   },
   "source": [
    "## Agradecimientos  \n",
    "\n",
    "Doy gracias a Dios por la vida de mi Hijo Joseph Cañas Osorio y la madurez que ha alcanzado.\n",
    "\n",
    "Y a mi esposa Yasmira por su apoyo, orientación y acompañamiento. "
   ]
  }
 ],
 "metadata": {
  "celltoolbar": "Slideshow",
  "kernelspec": {
   "display_name": "Python 3 (ipykernel)",
   "language": "python",
   "name": "python3"
  },
  "language_info": {
   "codemirror_mode": {
    "name": "ipython",
    "version": 3
   },
   "file_extension": ".py",
   "mimetype": "text/x-python",
   "name": "python",
   "nbconvert_exporter": "python",
   "pygments_lexer": "ipython3",
   "version": "3.10.12"
  },
  "rise": {
   "enable_chalkboard": true,
   "theme": "sky",
   "transition": "zoom"
  }
 },
 "nbformat": 4,
 "nbformat_minor": 5
}
