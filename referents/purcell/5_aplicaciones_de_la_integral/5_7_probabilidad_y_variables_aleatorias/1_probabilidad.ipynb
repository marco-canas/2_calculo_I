{
 "cells": [
  {
   "cell_type": "markdown",
   "id": "dc06dec7",
   "metadata": {
    "slideshow": {
     "slide_type": "slide"
    }
   },
   "source": [
    "<table align=\"left\">\n",
    "  <td>\n",
    "    <a href=\"https://colab.research.google.com/github/marco-canas/calculo/blob/main/referents/purcell/5_aplicaciones_de_la_integral/5_7_probabilidad_y_variables_aleatorias/1_probabilidad.ipynb\" target=\"_parent\"><img src=\"https://colab.research.google.com/assets/colab-badge.svg\" alt=\"Open In Colab\"/></a>\n",
    "  </td>\n",
    "  <td>\n",
    "    <a target=\"_blank\" href=\"https://kaggle.com/kernels/welcome?src=https://github.com/marco-canas/calculo/blob/main/referents/purcell/5_aplicaciones_de_la_integral/5_7_probabilidad_y_variables_aleatorias/1_probabilidad.ipynb\"><img src=\"https://kaggle.com/static/images/open-in-kaggle.svg\" /></a>\n",
    "  </td>\n",
    "</table>"
   ]
  },
  {
   "cell_type": "markdown",
   "id": "e0c5b198",
   "metadata": {
    "slideshow": {
     "slide_type": "slide"
    }
   },
   "source": [
    "### [Video de apoyo a la lectura interactiva y experimental de este cuaderno]()"
   ]
  },
  {
   "cell_type": "markdown",
   "id": "41e82203",
   "metadata": {
    "slideshow": {
     "slide_type": "slide"
    }
   },
   "source": [
    "## [Vínculo al programa del curso:  ]()\n",
    "\n"
   ]
  },
  {
   "cell_type": "markdown",
   "id": "d7598d0a-d9b7-4ae0-b029-a0ed6ed1130b",
   "metadata": {},
   "source": [
    "\n",
    "# Principios de mi labor docente"
   ]
  },
  {
   "cell_type": "markdown",
   "id": "4f9d8cf9",
   "metadata": {
    "slideshow": {
     "slide_type": "slide"
    }
   },
   "source": [
    "## Modelo general de clase: [aula invertida](https://www3.gobiernodecanarias.org/medusa/ecoescuela/pedagotic/aprendizaje-invertido-flipped-classroom/)"
   ]
  },
  {
   "cell_type": "markdown",
   "id": "eb6ed03a",
   "metadata": {},
   "source": [
    "<img src = 'https://resources.maneuveringthemiddle.com/wp-content/uploads/2020/07/04212706/1-5.png' width = 400>"
   ]
  },
  {
   "cell_type": "markdown",
   "id": "34319cce-a71b-4f64-aab8-b53e521efa40",
   "metadata": {},
   "source": [
    "# Metodología de enseñanza basada en problemas (ABP)\n"
   ]
  },
  {
   "cell_type": "markdown",
   "id": "5e010f9e",
   "metadata": {},
   "source": [
    "\n",
    "<img src = 'https://www.unir.net/wp-content/uploads/2020/07/aprendizaje-problemas2-1-1-1-1.jpeg' width = 400>"
   ]
  },
  {
   "cell_type": "markdown",
   "id": "841a985c-bd9b-4dd3-8e4c-893983980af2",
   "metadata": {},
   "source": [
    "# Desarrollo del pensamiento computacional con python y cuadernos Jupyter  orientado a la formación en ciencia de datos \n"
   ]
  },
  {
   "cell_type": "markdown",
   "id": "ad77bd3c",
   "metadata": {},
   "source": [
    "\n",
    "\n",
    "<img src = 'https://i.ytimg.com/vi/mcG_wcR4e6M/maxresdefault.jpg' width = 400>"
   ]
  },
  {
   "cell_type": "markdown",
   "id": "65aa0404-f7ae-495e-864c-1aec01b4255e",
   "metadata": {},
   "source": [
    "# Principio de fomento a la ciencia abierta, enseñar en el acceso a los datos públicos y el uso de software de código abierto  \n"
   ]
  },
  {
   "cell_type": "markdown",
   "id": "37a689ab",
   "metadata": {},
   "source": [
    "\n",
    "<img src = 'https://unesdoc.unesco.org/in/rest/Thumb/image?id=p%3A%3Ausmarcdef_0000379949_spa&author=UNESCO&title=Recomendaci%C3%B3n+de+la+UNESCO+sobre+la+Ciencia+Abierta&year=2021&publisher=UNESCO&TypeOfDocument=UnescoPhysicalDocument&mat=PGD&ct=true&size=512&isPhysical=1' width = 400>"
   ]
  },
  {
   "cell_type": "markdown",
   "id": "d9559f85",
   "metadata": {},
   "source": [
    "El enfoque STEAMS en educación preescolar, primaria y secundaria es una extensión del enfoque STEM (Ciencia, Tecnología, Ingeniería y Matemáticas) y su variante STEAM, que incorpora el Arte. El acrónimo STEAMS incluye:\n",
    "\n",
    "1. **Science (Ciencia):** Fomenta la curiosidad por el mundo natural y el desarrollo de habilidades científicas, como la observación, experimentación y análisis.\n",
    "\n",
    "2. **Technology (Tecnología):** Integra herramientas tecnológicas para potenciar el aprendizaje y la resolución de problemas, promoviendo la alfabetización digital desde edades tempranas.\n",
    "\n",
    "3. **Engineering (Ingeniería):** Introduce el pensamiento lógico y la resolución de problemas estructurados, fomentando habilidades como el diseño y la construcción de soluciones.\n",
    "\n",
    "4. **Arts (Arte):** Añade creatividad y pensamiento crítico, permitiendo a los estudiantes expresarse y explorar el aprendizaje a través de formas artísticas (plásticas, música, teatro).\n",
    "\n",
    "5. **Mathematics (Matemáticas):** Refuerza las habilidades numéricas y el razonamiento lógico, fundamentales en la resolución de problemas y comprensión de conceptos abstractos.\n",
    "\n",
    "6. **Social Sciences (Ciencias Sociales):** Incorpora la comprensión del entorno social, político, cultural y económico, promoviendo el desarrollo de la conciencia crítica sobre el mundo y su historia, además de habilidades de empatía y ciudadanía.\n"
   ]
  },
  {
   "cell_type": "markdown",
   "id": "2d0e1217",
   "metadata": {},
   "source": [
    "\n",
    "El enfoque STEAMS pretende desarrollar un aprendizaje **interdisciplinario** que integre estas áreas para fomentar un pensamiento más holístico y práctico. Se busca que los estudiantes no solo aprendan conocimientos técnicos, sino también cómo aplicarlos creativa y críticamente en situaciones reales, promoviendo habilidades como el trabajo en equipo, la comunicación y la innovación. En educación preescolar, primaria y secundaria, se adapta a las diferentes etapas de desarrollo cognitivo y emocional de los estudiantes, promoviendo el aprendizaje activo y contextualizado.  \n",
    "\n",
    "<img src = 'https://www.campuseducacion.com/blog/wp-content/uploads/2023/03/foto01-1.jpg'>"
   ]
  },
  {
   "cell_type": "markdown",
   "id": "9d15c10d-2c02-4158-9419-b1ed79b4c1ee",
   "metadata": {},
   "source": [
    "# Qué estamos haciendo por la internalización en esta clase y este curso  \n",
    "\n",
    "Para presentar tus acciones como docente de matemáticas en la Universidad de Antioquia con miras a la **internacionalización** de tu práctica docente y el desarrollo de competencias internacionales en tus estudiantes, te sugiero estructurar tu enfoque en los siguientes aspectos clave:"
   ]
  },
  {
   "cell_type": "markdown",
   "id": "964d9de7-53ee-4255-9bcd-d8e6454f2993",
   "metadata": {},
   "source": [
    "### 1. **Visión Global en la Formación Académica**\n",
    "   - **Competencias Internacionales**: Asegúrate de que el contenido de tus cursos fomente habilidades que sean reconocidas globalmente. Al educar a los estudiantes en **Python, LaTeX, Markdown y Jupyter Notebooks** y en la **introducción a la ciencia de datos y técnicas de Machine Learning**, estás proporcionando competencias altamente demandadas en los sectores tecnológicos y académicos a nivel internacional.\n",
    "   - **Relevancia de los Contenidos**: Destaca cómo los temas que enseñas, como el **desarrollo del pensamiento computacional** y la **ciencia de datos**, están alineados con las necesidades globales actuales en diversas industrias, desde la tecnología hasta las ciencias naturales y sociales.\n",
    "   - **Referencias a Estándares Internacionales**: Puedes vincular tu enseñanza a estándares internacionales de competencias en programación y ciencia de datos (por ejemplo, frameworks del **IEEE, ACM**, y estándares de la **data science** o la **computación en la nube**)."
   ]
  },
  {
   "cell_type": "markdown",
   "id": "0f1d110c-3142-48fe-9e7d-5fbd9e8bb931",
   "metadata": {},
   "source": [
    "### 2. **Innovación Pedagógica con Enfoque Internacional**\n",
    "   - **Aula Invertida y ABP**: Presenta cómo tu enfoque de **aula invertida** y **aprendizaje basado en problemas (ABP)** permite a los estudiantes trabajar de manera autónoma y colaborativa, lo que los prepara para escenarios laborales internacionales que requieren autoaprendizaje y habilidades de resolución de problemas en equipo.\n",
    "   - **Uso de Jupyter Notebooks**: El uso de **Jupyter Notebooks** en tus clases no solo facilita la **integración de código, matemáticas y texto**, sino que también es una plataforma utilizada globalmente en ambientes académicos y profesionales, lo que hace a tus estudiantes más competitivos internacionalmente."
   ]
  },
  {
   "cell_type": "markdown",
   "id": "960d52b7-03cd-4eb3-965e-5cdfeb7d9f8e",
   "metadata": {},
   "source": [
    "### 3. **Tecnología y Herramientas de Uso Global**\n",
    "   - **Lenguaje Python**: Python es uno de los lenguajes de programación más usados a nivel mundial, tanto en la academia como en la industria. Al formar a tus estudiantes en Python para ciencia de datos y machine learning, los preparas para operar en entornos tecnológicos globales.\n",
    "   - **Herramientas de Ciencia Abierta**: Resalta cómo herramientas como **GitHub**, **Google Colab** y otras plataformas de código abierto están alineadas con el movimiento de **ciencia abierta**, el cual es internacionalmente reconocido y permite que los estudiantes colaboren y compartan proyectos a nivel global."
   ]
  },
  {
   "cell_type": "markdown",
   "id": "3b2ffa32-7a6f-4545-ba7b-c6a69f51109f",
   "metadata": {},
   "source": [
    "### 4. **Investigación y Publicaciones Internacionales**\n",
    "   - **Promoción de la Investigación**: Detalla cómo promueves que tus estudiantes participen en proyectos de **investigación aplicada**, con posibilidad de publicación en revistas internacionales. Esto contribuye a la reputación internacional de la Universidad de Antioquia.\n",
    "   - **Colaboraciones Internacionales**: Si has colaborado con investigadores de otras instituciones o universidades en el extranjero, menciona estos proyectos y cómo han enriquecido tu enseñanza y proporcionado a los estudiantes una visión más globalizada."
   ]
  },
  {
   "cell_type": "markdown",
   "id": "5d1e396e-aece-4bf7-9421-32fa7809eaf4",
   "metadata": {},
   "source": [
    "### 5. **Uso del Inglés para la Internacionalización**\n",
    "   - **Comunicación Científica en Inglés**: Fomentar el aprendizaje del inglés como lengua científica es clave para que tus estudiantes puedan acceder a publicaciones internacionales, conferencias, y material académico que no está disponible en español. Esto es esencial para que adquieran competencias que les permitan desempeñarse en cualquier contexto internacional.\n",
    "   - **Material Bilingüe**: Al generar material educativo en Python, LaTeX y Markdown, considera ofrecer algunos de estos recursos en inglés, para que los estudiantes se familiaricen con el vocabulario técnico y científico internacional."
   ]
  },
  {
   "cell_type": "markdown",
   "id": "c6a8c3b0-426a-4692-a384-3065aea81c9a",
   "metadata": {},
   "source": [
    "### 6. **Certificaciones y Estándares Internacionales**\n",
    "   - **Participación en Certificaciones Internacionales**: Impulsa que los estudiantes busquen certificaciones internacionales en Python o ciencia de datos (como las ofrecidas por **Coursera, edX,** o **Google**). Estas certificaciones no solo validan sus competencias, sino que también incrementan el reconocimiento de la Universidad de Antioquia en el contexto internacional.\n",
    "   - **Alineación con Acreditaciones Internacionales**: Vincula tu trabajo docente con los estándares de acreditación y certificación que garantizan que la universidad siga siendo reconocida internacionalmente. Puedes vincularte con organizaciones internacionales que promuevan la excelencia en la educación y tecnología, como **ABET** para la acreditación en ingeniería y ciencias computacionales."
   ]
  },
  {
   "cell_type": "markdown",
   "id": "65d3d9e1-ea84-43e0-8197-a2a9c9e21594",
   "metadata": {},
   "source": [
    "### 7. **Proyectos Abiertos y Ciencia Reproducible**\n",
    "   - **GitHub y Open Science**: La utilización de **GitHub** para almacenar los proyectos y materiales de enseñanza en repositorios públicos permite que otros investigadores y educadores internacionales puedan revisar y replicar tu trabajo. Esto contribuye a la creación de una red de colaboración científica abierta.\n",
    "   - **Transparencia y Reproducibilidad**: La ciencia de datos y machine learning están profundamente ligados a la reproducibilidad. Asegura que tus estudiantes desarrollen prácticas de transparencia y documentación en la investigación, que son pilares en la comunidad científica global.\n"
   ]
  },
  {
   "cell_type": "markdown",
   "id": "eb2a78e3",
   "metadata": {},
   "source": [
    "\n",
    "### 8. **Participación en Redes y Conferencias Internacionales**\n",
    "   - **Presentación en Conferencias Internacionales**: Destaca cómo tu participación en conferencias internacionales (como la **ASCOLFA** o eventos sobre educación en matemáticas) contribuye al prestigio de la universidad y permite que tus prácticas sean evaluadas y reconocidas a nivel global.\n",
    "   - **Promoción de Estudiantes en Eventos Internacionales**: Impulsa la participación de tus estudiantes en competiciones internacionales de programación o hackathons, como los organizados por **Google**, **ACM** o **Kaggle**. Esto no solo desarrolla sus habilidades, sino que también visibiliza el talento de la Universidad de Antioquia a nivel global.\n",
    "\n",
    "---"
   ]
  },
  {
   "cell_type": "markdown",
   "id": "233294a4-1983-4641-a7ad-866825e02315",
   "metadata": {},
   "source": [
    "Con esta estrategia, puedes presentar tus acciones docentes en términos de competencias internacionales, innovación pedagógica, tecnología, investigación y participación en redes globales, asegurando que tu práctica esté alineada con los estándares internacionales y que tus estudiantes estén preparados para competir en contextos internacionales."
   ]
  },
  {
   "cell_type": "markdown",
   "id": "8d97dc80",
   "metadata": {
    "slideshow": {
     "slide_type": "slide"
    }
   },
   "source": [
    "## Fomento de la lectura literaria asociada a Ingeniería agropecuaria y licenciatura en Matemáticas\n",
    "\n"
   ]
  },
  {
   "cell_type": "markdown",
   "id": "96775931",
   "metadata": {
    "slideshow": {
     "slide_type": "slide"
    }
   },
   "source": [
    "## Título de la clase: Aplicación de la integral definida a la probabilidad  \n",
    "  \n",
    "\n",
    "[]()"
   ]
  },
  {
   "cell_type": "markdown",
   "id": "1d38dd4e",
   "metadata": {
    "slideshow": {
     "slide_type": "slide"
    }
   },
   "source": [
    "### Objetivo de aprendizaje (Enunciar, de manera corta sencilla y clara para todos los asistentes)\n",
    " "
   ]
  },
  {
   "cell_type": "markdown",
   "id": "540f0ec1",
   "metadata": {
    "slideshow": {
     "slide_type": "slide"
    }
   },
   "source": [
    "## Cuestionario para realizar labores de memorización, observación y síntesis de la información (Además de diagnóstico)  \n",
    "\n",
    "1. ¿Qué es un experimento aleatorio?\n",
    "2. ¿Qué es un experimento determinístico?\n",
    "3. ¿Qué es un espacio muestral $S$?\n",
    "4. ¿Que se entiende por variable aleatoria  $X$? \n",
    "5. ¿Que se entiende por variable aleatoria  $X$ discreta? Y dar ejemplos\n",
    "6. ¿Que se entiende por variable aleatoria  $X$ continua? Y dar ejemplos.  \n",
    "7. ¿Cómo se le llama a cada elemento del espacio muestral $S$?\n",
    "8. ¿Qué es la prabalilidad de un punto muestral?\n",
    "9. ¿Qué es eso de equiprobabilidad? \n",
    "10. ¿Qué es un evento aleatorio? \n",
    "   Es un conjunto de puntos del espacio muestral que satisfacen una condición dada.  \n",
    "\n",
    "11. ¿Que es eso de distribución de probabilidad? \n",
    "\n",
    "$$ P:S \\to [0,1] $$  "
   ]
  },
  {
   "cell_type": "markdown",
   "id": "8e457ea2",
   "metadata": {},
   "source": [
    "# Definiciones y Resultados científicos a comprender y memorizar \n",
    "\n",
    "[Primera grabación en Vocaroo]()"
   ]
  },
  {
   "cell_type": "markdown",
   "id": "ca7261b1",
   "metadata": {
    "slideshow": {
     "slide_type": "slide"
    }
   },
   "source": [
    "## Establecimiento de prerrequisitos conceptuales para alcanzar el objetivo de aprendizaje trazado.   \n",
    "\n",
    "(Elabore una lista de preguntas al rededor de los conceptos que consideres necesarios para empezar la clase).  \n",
    "\n",
    "1. \n",
    "2. \n",
    "3. "
   ]
  },
  {
   "cell_type": "markdown",
   "id": "2298e976",
   "metadata": {
    "slideshow": {
     "slide_type": "slide"
    }
   },
   "source": [
    "# Para el diseño de la clase tenga en cuenta algunos problemas de aprendizaje"
   ]
  },
  {
   "cell_type": "markdown",
   "id": "523d3acf",
   "metadata": {
    "slideshow": {
     "slide_type": "slide"
    }
   },
   "source": []
  },
  {
   "cell_type": "markdown",
   "id": "a40a4704",
   "metadata": {
    "slideshow": {
     "slide_type": "slide"
    }
   },
   "source": [
    "## Secuencia conceptual introductoria a la clase"
   ]
  },
  {
   "cell_type": "markdown",
   "id": "8853d874",
   "metadata": {},
   "source": [
    "## El componente histórico y epistemológico"
   ]
  },
  {
   "cell_type": "markdown",
   "id": "e3ffa494",
   "metadata": {},
   "source": [
    "# Vocabulary   \n",
    "\n",
    "1. \n",
    "2.  \n",
    "3.  \n",
    "4.  \n",
    "5.  "
   ]
  },
  {
   "cell_type": "code",
   "execution_count": 4,
   "id": "6ff395c3",
   "metadata": {},
   "outputs": [],
   "source": [
    "# Traducción del inglés al español con python\n",
    "\n",
    "def traducir(texto):\n",
    "    from googletrans import Translator\n",
    "\n",
    "    translator = Translator() # instancia la clase \n",
    "\n",
    "    # Traducir al español\n",
    "    translation = translator.translate(texto, src='en', dest='es')\n",
    "    return translation.text"
   ]
  },
  {
   "cell_type": "code",
   "execution_count": 5,
   "id": "b583f414-ac87-4912-8a86-b338234d83d7",
   "metadata": {},
   "outputs": [
    {
     "data": {
      "text/plain": [
       "'Hola'"
      ]
     },
     "execution_count": 5,
     "metadata": {},
     "output_type": "execute_result"
    }
   ],
   "source": [
    "traducir('Hi')"
   ]
  },
  {
   "cell_type": "code",
   "execution_count": 2,
   "id": "bc0addfe",
   "metadata": {},
   "outputs": [
    {
     "data": {
      "text/plain": [
       "'Probabilidad.pdf'"
      ]
     },
     "execution_count": 2,
     "metadata": {},
     "output_type": "execute_result"
    }
   ],
   "source": [
    "# Mapa conceptual para la aplicación de la integral definida en probabilidades\n",
    "from graphviz import Digraph\n",
    "\n",
    "# Crear un nuevo grafo dirigido\n",
    "dot = Digraph()\n",
    "\n",
    "# Concepto principal\n",
    "main_concept = 'Probabilidad'\n",
    "dot.node('A', main_concept)\n",
    "\n",
    "# Subconceptos iniciales: Experimentos deterministas y aleatorios\n",
    "dot.node('B', 'Experimentos deterministas')\n",
    "dot.node('C', 'Experimentos aleatorios')\n",
    "\n",
    "# Espacio muestral y puntos muestrales\n",
    "dot.node('D', 'Espacio muestral (S)')\n",
    "dot.node('E', 'Puntos muestrales')\n",
    "\n",
    "# Eventos\n",
    "dot.node('F', 'Eventos')\n",
    "\n",
    "# Variable aleatoria (discreta y continua)\n",
    "dot.node('G', 'Variable aleatoria')\n",
    "dot.node('H', 'Variable aleatoria discreta')\n",
    "dot.node('I', 'Variable aleatoria continua')\n",
    "\n",
    "# Distribuciones de probabilidad\n",
    "dot.node('J', 'Distribución de probabilidad discreta')\n",
    "dot.node('K', 'Distribución de probabilidad continua')\n",
    "\n",
    "# Aplicación de la integral definida\n",
    "dot.node('L', 'Aplicación de la integral definida a la probabilidad')\n",
    "\n",
    "# Relación entre integral definida y cálculo de probabilidades\n",
    "dot.node('M', 'Cálculo de áreas bajo la curva')\n",
    "\n",
    "# Añadir relaciones entre conceptos\n",
    "dot.edges(['AB', 'AC']) # Experimentos deterministas y aleatorios\n",
    "dot.edge('C', 'D')      # Espacio muestral\n",
    "dot.edge('D', 'E')      # Puntos muestrales\n",
    "dot.edge('E', 'F')      # Eventos\n",
    "dot.edge('F', 'G')      # Variables aleatorias\n",
    "dot.edge('G', 'H')      # Variable aleatoria discreta\n",
    "dot.edge('G', 'I')      # Variable aleatoria continua\n",
    "dot.edge('H', 'J')      # Distribución de probabilidad discreta\n",
    "dot.edge('I', 'K')      # Distribución de probabilidad continua\n",
    "dot.edge('K', 'L')      # Aplicación de la integral definida\n",
    "dot.edge('L', 'M')      # Integral para el cálculo de áreas bajo la curva (Probabilidad)\n",
    "\n",
    "# Guardar el grafo como un archivo de imagen\n",
    "dot.render(filename=main_concept, format='png', cleanup=True)\n",
    "\n",
    "# Mostrar el grafo\n",
    "dot.view()\n"
   ]
  },
  {
   "cell_type": "markdown",
   "id": "10e55ccf",
   "metadata": {},
   "source": [
    "# Aplicación de la integral definida a la probabilidad  \n"
   ]
  },
  {
   "cell_type": "markdown",
   "id": "239427f7",
   "metadata": {},
   "source": [
    "## Probabilidad y variables aleatorias   \n"
   ]
  },
  {
   "cell_type": "markdown",
   "id": "075a1623",
   "metadata": {},
   "source": [
    "## Variables aletorias discretas "
   ]
  },
  {
   "cell_type": "markdown",
   "id": "b65fe93f",
   "metadata": {},
   "source": [
    "### Experimento aleatorio. "
   ]
  },
  {
   "cell_type": "markdown",
   "id": "60ebf9dc",
   "metadata": {},
   "source": [
    "\n",
    "Página 316 del Purcell. \n",
    "\n",
    "En muchas situaciones, el resultado de un experimento varía de un ensayo al siguiente.\n"
   ]
  },
  {
   "cell_type": "markdown",
   "id": "74d64455",
   "metadata": {},
   "source": [
    "Por ejemplo, \n",
    "* al lanzar una moneda algunas veces caerá cara y otras, cruz;\n",
    "* un lanzador de las ligas mayores puede lanzar 2 entradas en un juego y 7 en otro;\n",
    "* una batería de un automóvil puede durar 20 meses y otra, 40 meses. "
   ]
  },
  {
   "cell_type": "markdown",
   "id": "a5a7a1fc",
   "metadata": {},
   "source": [
    "Decimos que el resultado de un experimento es aleatorio si el resultado varía de un ensayo a otro, pero que a la larga, esto es, después de un número grande de repeticiones, existe una distribución regular de los resultados.\n"
   ]
  },
  {
   "cell_type": "markdown",
   "id": "67bb4502",
   "metadata": {},
   "source": [
    "* Algunos resultados ocurren de forma frecuente, tal como la llegada segura a su destino después de un vuelo,\n",
    "* mientras que algunos eventos ocurren rara vez, como ganar en la lotería. "
   ]
  },
  {
   "cell_type": "markdown",
   "id": "5f95678c",
   "metadata": {},
   "source": [
    "Utilizamos la probabilidad para medir qué tan probables son los resultados o eventos (conjunto de resultados). "
   ]
  },
  {
   "cell_type": "markdown",
   "id": "6d65e9b9",
   "metadata": {},
   "source": [
    "Un evento que es casi seguro que suceda tiene una probabilidad cercana a 1. "
   ]
  },
  {
   "cell_type": "markdown",
   "id": "18bb6094",
   "metadata": {},
   "source": [
    "Un evento que raramente ocurre tiene probabilidad cercana a cero. "
   ]
  },
  {
   "cell_type": "markdown",
   "id": "f6dcde07",
   "metadata": {},
   "source": [
    "Un evento que es tan probable que suceda como de que no ocurra, como obtener una cara en el lanzamiento de una moneda balanceada, tendrá una probabilidad de $\\frac{1}{2}$. "
   ]
  },
  {
   "cell_type": "markdown",
   "id": "074c96f7",
   "metadata": {},
   "source": [
    " En general, la probabilidad de un evento es la proporción de veces que el evento ocurrirá en una sucesión grande de ensayos. "
   ]
  },
  {
   "cell_type": "markdown",
   "id": "99fa2169",
   "metadata": {},
   "source": [
    "Si $A$ es un evento, esto es, un conjunto de posibles resultados, entonces denotamos la probabilidad de $A$ por $P(A)$. "
   ]
  },
  {
   "cell_type": "markdown",
   "id": "19d06d64",
   "metadata": {},
   "source": [
    "Las probabilidades deben satisfacer las siguientes propiedades:"
   ]
  },
  {
   "cell_type": "markdown",
   "id": "a48ba182",
   "metadata": {},
   "source": [
    "1. $0 \\leq P(A) \\leq 1$ para todo evento $A$.  \n",
    "2. Si $S$ es el conjunto de todos los resultados posibles, denominado espacio muestral, entonces $P(S) = 1$.\n",
    "3. Si los eventos $A$ y $B$ son disjuntos, esto es, no tienen resultados en común, entonces $P(A \\cup B) = P(A) + P(B)$. (En realidad, se requiere una condición más fuerte, pero por ahora esto funcionará).\n"
   ]
  },
  {
   "cell_type": "markdown",
   "id": "1ea81d60",
   "metadata": {},
   "source": [
    "Con estos enunciados podemos deducir lo siguiente: si $A^{c}$ denota al complemento del evento $A$, esto es, el conjunto de todos los resultados en el espacio muestral $S$ que no están en el evento $A$, entonces $P(A^{c}) = 1 - P(A)$. "
   ]
  },
  {
   "cell_type": "markdown",
   "id": "25ff4718",
   "metadata": {},
   "source": [
    "Además, si $A_{1}, A_{2}, \\ldots, A_{n}$ son disjuntos, entonces $P(A_{1} \\cup A_{2} \\cup \\cdots \\cup A_{n}) = P(A_{1}) + P(A_{2}) + \\cdots + P(A_{n})$.\n"
   ]
  },
  {
   "cell_type": "markdown",
   "id": "8c57ad74",
   "metadata": {},
   "source": [
    "Una regla que asigna un valor numérico al resultado de un experimento se denomina **variable aleatoria**. "
   ]
  },
  {
   "cell_type": "markdown",
   "id": "829c0d6c",
   "metadata": {},
   "source": [
    "Es costumbre utilizar letras mayúsculas para denotar a las variables aleatorias y letras minúsculas para denotar valores posibles o reales para las variables aleatorias. "
   ]
  },
  {
   "cell_type": "markdown",
   "id": "70756df0",
   "metadata": {},
   "source": [
    "# Ejemplo: Lanzamiento de tres monedas  "
   ]
  },
  {
   "cell_type": "markdown",
   "id": "2f03a6d1",
   "metadata": {},
   "source": [
    "Por ejemplo, nuestro experimento podría ser el lanzamiento de tres monedas balanceadas. "
   ]
  },
  {
   "cell_type": "markdown",
   "id": "c99745f0",
   "metadata": {},
   "source": [
    "En este caso, el espacio muestral es el conjunto \n",
    "\n",
    "$$ \\{HHH, HHT, HTH, THH, HTT,THT, TTH, TTT.\\} $$  \n",
    "\n",
    "Podríamos definir la variable aleatoria $X$ como el número de caras en los tres lanzamientos. "
   ]
  },
  {
   "cell_type": "markdown",
   "id": "37b86f96",
   "metadata": {},
   "source": [
    "En el lanzamiento de monedas, los posibles resultados se simbolizan con **H** y **T** debido a una convención simple y clara:\n",
    "\n",
    "- **H** representa \"heads\" (en inglés, \"cara\"), que simboliza el lado de la moneda que muestra la cara o la imagen de alguna figura.\n",
    "- **T** representa \"tails\" (en inglés, \"cruz\"), que simboliza el lado opuesto de la moneda, generalmente con un diseño diferente.\n",
    "\n",
    "Esta convención se usa internacionalmente porque es fácil de recordar y permite una representación rápida de los dos resultados posibles en un lanzamiento de moneda, que es un ejemplo clásico de un **experimento aleatorio** con dos posibles resultados igualmente probables. Además, el uso de las letras H y T es conveniente para modelar y simular este tipo de experimentos en matemáticas, probabilidad y estadística."
   ]
  },
  {
   "cell_type": "markdown",
   "id": "edb50b01",
   "metadata": {},
   "source": [
    "La distribución de probabilidad de X, esto es, una lista de todos los valores posibles de $X$, junto con sus probabilidades\n",
    "correspondientes, se mostrará en una tabla como la siguiente."
   ]
  },
  {
   "cell_type": "markdown",
   "id": "df82ab66",
   "metadata": {},
   "source": [
    "|x|P(X = x)|  \n",
    "|-|--------| \n",
    "|0|1/8|\n",
    "|1|3/8|\n",
    "|2|3/8|\n",
    "|3|1/8|\n"
   ]
  },
  {
   "cell_type": "markdown",
   "id": "c5ed1b76",
   "metadata": {},
   "source": [
    "# El concepto de esperanza de una variable aletoria"
   ]
  },
  {
   "cell_type": "markdown",
   "id": "6d8e57e3",
   "metadata": {},
   "source": [
    "Un concepto importante en probabilidad y estadística es el de la esperanza de una variable aleatoria. "
   ]
  },
  {
   "cell_type": "markdown",
   "id": "3885cf5c",
   "metadata": {},
   "source": [
    "Para motivar la definición, que se dará más adelante, considere el siguiente experimento. "
   ]
  },
  {
   "cell_type": "markdown",
   "id": "3e75a895",
   "metadata": {},
   "source": [
    "Imagine el lanzamiento repetido de tres monedas a la vez. "
   ]
  },
  {
   "cell_type": "markdown",
   "id": "0fa33513",
   "metadata": {},
   "source": [
    "Para ilustrar esto, suponga que las tres monedas se lanzarán 10,000 veces. "
   ]
  },
  {
   "cell_type": "markdown",
   "id": "c0575cde",
   "metadata": {},
   "source": [
    "Por medio de nuestra definición de probabilidad, “esperamos” ver cero caras un octavo de las veces en los ensayos, esto es veces en una secuencia de 10,000. "
   ]
  },
  {
   "cell_type": "markdown",
   "id": "4a03d7f8",
   "metadata": {},
   "source": [
    "De forma análoga, esperaríamos ocurrencias de una cara, ocurrencias de dos caras y ocurrencias de tres caras. "
   ]
  },
  {
   "cell_type": "markdown",
   "id": "d29dfa91",
   "metadata": {},
   "source": [
    "¿Cuántas caras\n",
    "en total esperaríamos ver en 10,000 lanzamientos de 3 monedas? Esperaríamos  \n",
    "\n"
   ]
  },
  {
   "cell_type": "markdown",
   "id": "03529c47",
   "metadata": {},
   "source": [
    "cero caras 1250 veces, para un total de 0 caras,  \n",
    "una cara 3750 veces, para un total de 3750 caras,  \n",
    "dos caras 3750 veces, para un total de 7500 caras,  \n",
    "tres caras 1250 veces, para un total de 3750 caras.  "
   ]
  },
  {
   "cell_type": "markdown",
   "id": "39287a50",
   "metadata": {},
   "source": [
    "Esta metodología para calcular el número de caras esperadas nos está llevando a la siguiente fórmula:  \n",
    "\n",
    "$$ (\\text{valor de la variable})(\\text{probabilidad del punto muestral})(\\text{número de veces que se repite el expeimento}) $$"
   ]
  },
  {
   "cell_type": "markdown",
   "id": "389c4924",
   "metadata": {},
   "source": [
    "En total, esperaríamos 0 + 3759 + 7500 + 3750 = 15,000 caras. "
   ]
  },
  {
   "cell_type": "markdown",
   "id": "11ec542c",
   "metadata": {},
   "source": [
    "Por lo tanto, esperamos $15,000 / 10,000 = 1.5$ caras por ensayo (lanzamiento de tres monedas). "
   ]
  },
  {
   "cell_type": "markdown",
   "id": "f3c4d3c1",
   "metadata": {},
   "source": [
    "Un poco de reflexión sobre los cálculos sugiere que 10,000 es arbitrario y que se eliminará de todos modos. "
   ]
  },
  {
   "cell_type": "markdown",
   "id": "4ea5e05c",
   "metadata": {},
   "source": [
    "Multiplicamos cada probabilidad por 10,000 para obtener la frecuencia esperada,\n",
    "pero luego dividimos entre 10,000. Esto es,  \n",
    "\n",
    "\\begin{align*}  \n",
    "1.5 & = \\frac{15000}{10000} \\\\\n",
    "    & = \\frac{1}{10000}[0P(X = 0)10000+ 1P(X = 1)10000 + 2P(X = 2)10000 + 3P(X = 3)10000] \\\\ \n",
    "    & = 0P(X = 0) + 1P(X = 1) + 2P(X = 2) + 3P(X = 3) \n",
    "\\end{align*}"
   ]
  },
  {
   "cell_type": "markdown",
   "id": "1fc8bd3c",
   "metadata": {},
   "source": [
    "# Definición Esperanza de una variable aleatoria  \n",
    "\n",
    "Si $X$ es una variable aleatoria con distribución de probabilidad \n",
    "\n",
    "|x|P(x)|\n",
    "|-|----|\n",
    "|x_{1}|p_{1}|\n",
    "|x_{2}|p_{2}|\n",
    "|$\\vdots$|$\\vdots$|\n",
    "|x_{n}|p_{n}|\n",
    "\n",
    "\n",
    "entonces la esperanza de $X$, denotada por $E(X)$, que también se denomina media de $X$ y se denota con $\\mu$, es \n",
    "\n",
    "$$ \\mu = E(X) = x_{1}p_{1} + x_{2}p_{2} + \\cdots + x_{n}p_{n} = \\sum_{i = 1}^{n} x_{i}p_{i} $$\n"
   ]
  },
  {
   "cell_type": "markdown",
   "id": "e09c45da",
   "metadata": {},
   "source": [
    "# Realiza experimentos aleatorios con python"
   ]
  },
  {
   "cell_type": "markdown",
   "id": "a1c6ba7c",
   "metadata": {},
   "source": [
    "## Cómo emular lanzamiento de monedas con python"
   ]
  },
  {
   "cell_type": "code",
   "execution_count": 5,
   "id": "ec048afb",
   "metadata": {},
   "outputs": [],
   "source": [
    "import numpy as np\n",
    "import pandas as pd\n",
    "import plotly.express as px\n",
    "\n",
    "def lanzar_monedas(n, m):\n",
    "    '''\n",
    "    n es número de monedas a lanzar\n",
    "    m : es el número de experimentos aleatorios a realizar\n",
    "    '''\n",
    "    # Generar todos los lanzamientos\n",
    "    resultados = []\n",
    "    \n",
    "    for _ in range(m):\n",
    "        lanzamiento = ''.join(np.random.choice(['C', 'S'], size=n))  # C = Cara, S = Sello\n",
    "        resultados.append(lanzamiento)\n",
    "    return resultados     \n",
    "    \n"
   ]
  },
  {
   "cell_type": "code",
   "execution_count": 9,
   "id": "eb0ec6d1",
   "metadata": {},
   "outputs": [
    {
     "data": {
      "text/plain": [
       "['CSC', 'CSS', 'SSS', 'CSS', 'CCS', 'CCS', 'SSC', 'CSC', 'SCC', 'CCC']"
      ]
     },
     "execution_count": 9,
     "metadata": {},
     "output_type": "execute_result"
    }
   ],
   "source": [
    "resultados = lanzar_monedas(3, 10) \n",
    "resultados "
   ]
  },
  {
   "cell_type": "markdown",
   "id": "922e6e69",
   "metadata": {},
   "source": [
    "# Cómo se tabulan los resultados del experimento aleatorio "
   ]
  },
  {
   "cell_type": "code",
   "execution_count": 10,
   "id": "000e7679",
   "metadata": {},
   "outputs": [
    {
     "data": {
      "text/html": [
       "<div>\n",
       "<style scoped>\n",
       "    .dataframe tbody tr th:only-of-type {\n",
       "        vertical-align: middle;\n",
       "    }\n",
       "\n",
       "    .dataframe tbody tr th {\n",
       "        vertical-align: top;\n",
       "    }\n",
       "\n",
       "    .dataframe thead th {\n",
       "        text-align: right;\n",
       "    }\n",
       "</style>\n",
       "<table border=\"1\" class=\"dataframe\">\n",
       "  <thead>\n",
       "    <tr style=\"text-align: right;\">\n",
       "      <th></th>\n",
       "      <th>Lanzamientos</th>\n",
       "    </tr>\n",
       "  </thead>\n",
       "  <tbody>\n",
       "    <tr>\n",
       "      <th>0</th>\n",
       "      <td>CSC</td>\n",
       "    </tr>\n",
       "    <tr>\n",
       "      <th>1</th>\n",
       "      <td>CSS</td>\n",
       "    </tr>\n",
       "    <tr>\n",
       "      <th>2</th>\n",
       "      <td>SSS</td>\n",
       "    </tr>\n",
       "    <tr>\n",
       "      <th>3</th>\n",
       "      <td>CSS</td>\n",
       "    </tr>\n",
       "    <tr>\n",
       "      <th>4</th>\n",
       "      <td>CCS</td>\n",
       "    </tr>\n",
       "    <tr>\n",
       "      <th>5</th>\n",
       "      <td>CCS</td>\n",
       "    </tr>\n",
       "    <tr>\n",
       "      <th>6</th>\n",
       "      <td>SSC</td>\n",
       "    </tr>\n",
       "    <tr>\n",
       "      <th>7</th>\n",
       "      <td>CSC</td>\n",
       "    </tr>\n",
       "    <tr>\n",
       "      <th>8</th>\n",
       "      <td>SCC</td>\n",
       "    </tr>\n",
       "    <tr>\n",
       "      <th>9</th>\n",
       "      <td>CCC</td>\n",
       "    </tr>\n",
       "  </tbody>\n",
       "</table>\n",
       "</div>"
      ],
      "text/plain": [
       "  Lanzamientos\n",
       "0          CSC\n",
       "1          CSS\n",
       "2          SSS\n",
       "3          CSS\n",
       "4          CCS\n",
       "5          CCS\n",
       "6          SSC\n",
       "7          CSC\n",
       "8          SCC\n",
       "9          CCC"
      ]
     },
     "execution_count": 10,
     "metadata": {},
     "output_type": "execute_result"
    }
   ],
   "source": [
    "    # Crear un DataFrame para contar las ocurrencias de cada punto muestral\n",
    "df = pd.DataFrame(resultados, columns=['Lanzamientos'])\n",
    "df \n"
   ]
  },
  {
   "cell_type": "code",
   "execution_count": 11,
   "id": "f23b0644",
   "metadata": {},
   "outputs": [
    {
     "data": {
      "text/html": [
       "<div>\n",
       "<style scoped>\n",
       "    .dataframe tbody tr th:only-of-type {\n",
       "        vertical-align: middle;\n",
       "    }\n",
       "\n",
       "    .dataframe tbody tr th {\n",
       "        vertical-align: top;\n",
       "    }\n",
       "\n",
       "    .dataframe thead th {\n",
       "        text-align: right;\n",
       "    }\n",
       "</style>\n",
       "<table border=\"1\" class=\"dataframe\">\n",
       "  <thead>\n",
       "    <tr style=\"text-align: right;\">\n",
       "      <th></th>\n",
       "      <th>Evento muestral</th>\n",
       "      <th>Frecuencia</th>\n",
       "    </tr>\n",
       "  </thead>\n",
       "  <tbody>\n",
       "    <tr>\n",
       "      <th>0</th>\n",
       "      <td>CSC</td>\n",
       "      <td>2</td>\n",
       "    </tr>\n",
       "    <tr>\n",
       "      <th>1</th>\n",
       "      <td>CSS</td>\n",
       "      <td>2</td>\n",
       "    </tr>\n",
       "    <tr>\n",
       "      <th>2</th>\n",
       "      <td>CCS</td>\n",
       "      <td>2</td>\n",
       "    </tr>\n",
       "    <tr>\n",
       "      <th>3</th>\n",
       "      <td>SSS</td>\n",
       "      <td>1</td>\n",
       "    </tr>\n",
       "    <tr>\n",
       "      <th>4</th>\n",
       "      <td>SSC</td>\n",
       "      <td>1</td>\n",
       "    </tr>\n",
       "    <tr>\n",
       "      <th>5</th>\n",
       "      <td>SCC</td>\n",
       "      <td>1</td>\n",
       "    </tr>\n",
       "    <tr>\n",
       "      <th>6</th>\n",
       "      <td>CCC</td>\n",
       "      <td>1</td>\n",
       "    </tr>\n",
       "  </tbody>\n",
       "</table>\n",
       "</div>"
      ],
      "text/plain": [
       "  Evento muestral  Frecuencia\n",
       "0             CSC           2\n",
       "1             CSS           2\n",
       "2             CCS           2\n",
       "3             SSS           1\n",
       "4             SSC           1\n",
       "5             SCC           1\n",
       "6             CCC           1"
      ]
     },
     "execution_count": 11,
     "metadata": {},
     "output_type": "execute_result"
    }
   ],
   "source": [
    "frecuencia = df['Lanzamientos'].value_counts().reset_index()\n",
    "frecuencia.columns = ['Evento muestral', 'Frecuencia']\n",
    "frecuencia\n"
   ]
  },
  {
   "cell_type": "code",
   "execution_count": 13,
   "id": "03c41ffc",
   "metadata": {},
   "outputs": [],
   "source": [
    "\n",
    "def graficar_frecuencias(frecuencia):\n",
    "    # Crear gráfico de barras con Plotly\n",
    "    fig = px.bar(frecuencia, x='Evento muestral', y='Frecuencia', title=\"Frecuencia de los eventos muestrales\")\n",
    "    fig.show()\n"
   ]
  },
  {
   "cell_type": "code",
   "execution_count": 14,
   "id": "b76a05e7",
   "metadata": {},
   "outputs": [
    {
     "data": {
      "application/vnd.plotly.v1+json": {
       "config": {
        "plotlyServerURL": "https://plot.ly"
       },
       "data": [
        {
         "alignmentgroup": "True",
         "hovertemplate": "Evento muestral=%{x}<br>Frecuencia=%{y}<extra></extra>",
         "legendgroup": "",
         "marker": {
          "color": "#636efa",
          "pattern": {
           "shape": ""
          }
         },
         "name": "",
         "offsetgroup": "",
         "orientation": "v",
         "showlegend": false,
         "textposition": "auto",
         "type": "bar",
         "x": [
          "CSC",
          "CSS",
          "CCS",
          "SSS",
          "SSC",
          "SCC",
          "CCC"
         ],
         "xaxis": "x",
         "y": [
          2,
          2,
          2,
          1,
          1,
          1,
          1
         ],
         "yaxis": "y"
        }
       ],
       "layout": {
        "barmode": "relative",
        "legend": {
         "tracegroupgap": 0
        },
        "template": {
         "data": {
          "bar": [
           {
            "error_x": {
             "color": "#2a3f5f"
            },
            "error_y": {
             "color": "#2a3f5f"
            },
            "marker": {
             "line": {
              "color": "#E5ECF6",
              "width": 0.5
             },
             "pattern": {
              "fillmode": "overlay",
              "size": 10,
              "solidity": 0.2
             }
            },
            "type": "bar"
           }
          ],
          "barpolar": [
           {
            "marker": {
             "line": {
              "color": "#E5ECF6",
              "width": 0.5
             },
             "pattern": {
              "fillmode": "overlay",
              "size": 10,
              "solidity": 0.2
             }
            },
            "type": "barpolar"
           }
          ],
          "carpet": [
           {
            "aaxis": {
             "endlinecolor": "#2a3f5f",
             "gridcolor": "white",
             "linecolor": "white",
             "minorgridcolor": "white",
             "startlinecolor": "#2a3f5f"
            },
            "baxis": {
             "endlinecolor": "#2a3f5f",
             "gridcolor": "white",
             "linecolor": "white",
             "minorgridcolor": "white",
             "startlinecolor": "#2a3f5f"
            },
            "type": "carpet"
           }
          ],
          "choropleth": [
           {
            "colorbar": {
             "outlinewidth": 0,
             "ticks": ""
            },
            "type": "choropleth"
           }
          ],
          "contour": [
           {
            "colorbar": {
             "outlinewidth": 0,
             "ticks": ""
            },
            "colorscale": [
             [
              0,
              "#0d0887"
             ],
             [
              0.1111111111111111,
              "#46039f"
             ],
             [
              0.2222222222222222,
              "#7201a8"
             ],
             [
              0.3333333333333333,
              "#9c179e"
             ],
             [
              0.4444444444444444,
              "#bd3786"
             ],
             [
              0.5555555555555556,
              "#d8576b"
             ],
             [
              0.6666666666666666,
              "#ed7953"
             ],
             [
              0.7777777777777778,
              "#fb9f3a"
             ],
             [
              0.8888888888888888,
              "#fdca26"
             ],
             [
              1,
              "#f0f921"
             ]
            ],
            "type": "contour"
           }
          ],
          "contourcarpet": [
           {
            "colorbar": {
             "outlinewidth": 0,
             "ticks": ""
            },
            "type": "contourcarpet"
           }
          ],
          "heatmap": [
           {
            "colorbar": {
             "outlinewidth": 0,
             "ticks": ""
            },
            "colorscale": [
             [
              0,
              "#0d0887"
             ],
             [
              0.1111111111111111,
              "#46039f"
             ],
             [
              0.2222222222222222,
              "#7201a8"
             ],
             [
              0.3333333333333333,
              "#9c179e"
             ],
             [
              0.4444444444444444,
              "#bd3786"
             ],
             [
              0.5555555555555556,
              "#d8576b"
             ],
             [
              0.6666666666666666,
              "#ed7953"
             ],
             [
              0.7777777777777778,
              "#fb9f3a"
             ],
             [
              0.8888888888888888,
              "#fdca26"
             ],
             [
              1,
              "#f0f921"
             ]
            ],
            "type": "heatmap"
           }
          ],
          "heatmapgl": [
           {
            "colorbar": {
             "outlinewidth": 0,
             "ticks": ""
            },
            "colorscale": [
             [
              0,
              "#0d0887"
             ],
             [
              0.1111111111111111,
              "#46039f"
             ],
             [
              0.2222222222222222,
              "#7201a8"
             ],
             [
              0.3333333333333333,
              "#9c179e"
             ],
             [
              0.4444444444444444,
              "#bd3786"
             ],
             [
              0.5555555555555556,
              "#d8576b"
             ],
             [
              0.6666666666666666,
              "#ed7953"
             ],
             [
              0.7777777777777778,
              "#fb9f3a"
             ],
             [
              0.8888888888888888,
              "#fdca26"
             ],
             [
              1,
              "#f0f921"
             ]
            ],
            "type": "heatmapgl"
           }
          ],
          "histogram": [
           {
            "marker": {
             "pattern": {
              "fillmode": "overlay",
              "size": 10,
              "solidity": 0.2
             }
            },
            "type": "histogram"
           }
          ],
          "histogram2d": [
           {
            "colorbar": {
             "outlinewidth": 0,
             "ticks": ""
            },
            "colorscale": [
             [
              0,
              "#0d0887"
             ],
             [
              0.1111111111111111,
              "#46039f"
             ],
             [
              0.2222222222222222,
              "#7201a8"
             ],
             [
              0.3333333333333333,
              "#9c179e"
             ],
             [
              0.4444444444444444,
              "#bd3786"
             ],
             [
              0.5555555555555556,
              "#d8576b"
             ],
             [
              0.6666666666666666,
              "#ed7953"
             ],
             [
              0.7777777777777778,
              "#fb9f3a"
             ],
             [
              0.8888888888888888,
              "#fdca26"
             ],
             [
              1,
              "#f0f921"
             ]
            ],
            "type": "histogram2d"
           }
          ],
          "histogram2dcontour": [
           {
            "colorbar": {
             "outlinewidth": 0,
             "ticks": ""
            },
            "colorscale": [
             [
              0,
              "#0d0887"
             ],
             [
              0.1111111111111111,
              "#46039f"
             ],
             [
              0.2222222222222222,
              "#7201a8"
             ],
             [
              0.3333333333333333,
              "#9c179e"
             ],
             [
              0.4444444444444444,
              "#bd3786"
             ],
             [
              0.5555555555555556,
              "#d8576b"
             ],
             [
              0.6666666666666666,
              "#ed7953"
             ],
             [
              0.7777777777777778,
              "#fb9f3a"
             ],
             [
              0.8888888888888888,
              "#fdca26"
             ],
             [
              1,
              "#f0f921"
             ]
            ],
            "type": "histogram2dcontour"
           }
          ],
          "mesh3d": [
           {
            "colorbar": {
             "outlinewidth": 0,
             "ticks": ""
            },
            "type": "mesh3d"
           }
          ],
          "parcoords": [
           {
            "line": {
             "colorbar": {
              "outlinewidth": 0,
              "ticks": ""
             }
            },
            "type": "parcoords"
           }
          ],
          "pie": [
           {
            "automargin": true,
            "type": "pie"
           }
          ],
          "scatter": [
           {
            "fillpattern": {
             "fillmode": "overlay",
             "size": 10,
             "solidity": 0.2
            },
            "type": "scatter"
           }
          ],
          "scatter3d": [
           {
            "line": {
             "colorbar": {
              "outlinewidth": 0,
              "ticks": ""
             }
            },
            "marker": {
             "colorbar": {
              "outlinewidth": 0,
              "ticks": ""
             }
            },
            "type": "scatter3d"
           }
          ],
          "scattercarpet": [
           {
            "marker": {
             "colorbar": {
              "outlinewidth": 0,
              "ticks": ""
             }
            },
            "type": "scattercarpet"
           }
          ],
          "scattergeo": [
           {
            "marker": {
             "colorbar": {
              "outlinewidth": 0,
              "ticks": ""
             }
            },
            "type": "scattergeo"
           }
          ],
          "scattergl": [
           {
            "marker": {
             "colorbar": {
              "outlinewidth": 0,
              "ticks": ""
             }
            },
            "type": "scattergl"
           }
          ],
          "scattermapbox": [
           {
            "marker": {
             "colorbar": {
              "outlinewidth": 0,
              "ticks": ""
             }
            },
            "type": "scattermapbox"
           }
          ],
          "scatterpolar": [
           {
            "marker": {
             "colorbar": {
              "outlinewidth": 0,
              "ticks": ""
             }
            },
            "type": "scatterpolar"
           }
          ],
          "scatterpolargl": [
           {
            "marker": {
             "colorbar": {
              "outlinewidth": 0,
              "ticks": ""
             }
            },
            "type": "scatterpolargl"
           }
          ],
          "scatterternary": [
           {
            "marker": {
             "colorbar": {
              "outlinewidth": 0,
              "ticks": ""
             }
            },
            "type": "scatterternary"
           }
          ],
          "surface": [
           {
            "colorbar": {
             "outlinewidth": 0,
             "ticks": ""
            },
            "colorscale": [
             [
              0,
              "#0d0887"
             ],
             [
              0.1111111111111111,
              "#46039f"
             ],
             [
              0.2222222222222222,
              "#7201a8"
             ],
             [
              0.3333333333333333,
              "#9c179e"
             ],
             [
              0.4444444444444444,
              "#bd3786"
             ],
             [
              0.5555555555555556,
              "#d8576b"
             ],
             [
              0.6666666666666666,
              "#ed7953"
             ],
             [
              0.7777777777777778,
              "#fb9f3a"
             ],
             [
              0.8888888888888888,
              "#fdca26"
             ],
             [
              1,
              "#f0f921"
             ]
            ],
            "type": "surface"
           }
          ],
          "table": [
           {
            "cells": {
             "fill": {
              "color": "#EBF0F8"
             },
             "line": {
              "color": "white"
             }
            },
            "header": {
             "fill": {
              "color": "#C8D4E3"
             },
             "line": {
              "color": "white"
             }
            },
            "type": "table"
           }
          ]
         },
         "layout": {
          "annotationdefaults": {
           "arrowcolor": "#2a3f5f",
           "arrowhead": 0,
           "arrowwidth": 1
          },
          "autotypenumbers": "strict",
          "coloraxis": {
           "colorbar": {
            "outlinewidth": 0,
            "ticks": ""
           }
          },
          "colorscale": {
           "diverging": [
            [
             0,
             "#8e0152"
            ],
            [
             0.1,
             "#c51b7d"
            ],
            [
             0.2,
             "#de77ae"
            ],
            [
             0.3,
             "#f1b6da"
            ],
            [
             0.4,
             "#fde0ef"
            ],
            [
             0.5,
             "#f7f7f7"
            ],
            [
             0.6,
             "#e6f5d0"
            ],
            [
             0.7,
             "#b8e186"
            ],
            [
             0.8,
             "#7fbc41"
            ],
            [
             0.9,
             "#4d9221"
            ],
            [
             1,
             "#276419"
            ]
           ],
           "sequential": [
            [
             0,
             "#0d0887"
            ],
            [
             0.1111111111111111,
             "#46039f"
            ],
            [
             0.2222222222222222,
             "#7201a8"
            ],
            [
             0.3333333333333333,
             "#9c179e"
            ],
            [
             0.4444444444444444,
             "#bd3786"
            ],
            [
             0.5555555555555556,
             "#d8576b"
            ],
            [
             0.6666666666666666,
             "#ed7953"
            ],
            [
             0.7777777777777778,
             "#fb9f3a"
            ],
            [
             0.8888888888888888,
             "#fdca26"
            ],
            [
             1,
             "#f0f921"
            ]
           ],
           "sequentialminus": [
            [
             0,
             "#0d0887"
            ],
            [
             0.1111111111111111,
             "#46039f"
            ],
            [
             0.2222222222222222,
             "#7201a8"
            ],
            [
             0.3333333333333333,
             "#9c179e"
            ],
            [
             0.4444444444444444,
             "#bd3786"
            ],
            [
             0.5555555555555556,
             "#d8576b"
            ],
            [
             0.6666666666666666,
             "#ed7953"
            ],
            [
             0.7777777777777778,
             "#fb9f3a"
            ],
            [
             0.8888888888888888,
             "#fdca26"
            ],
            [
             1,
             "#f0f921"
            ]
           ]
          },
          "colorway": [
           "#636efa",
           "#EF553B",
           "#00cc96",
           "#ab63fa",
           "#FFA15A",
           "#19d3f3",
           "#FF6692",
           "#B6E880",
           "#FF97FF",
           "#FECB52"
          ],
          "font": {
           "color": "#2a3f5f"
          },
          "geo": {
           "bgcolor": "white",
           "lakecolor": "white",
           "landcolor": "#E5ECF6",
           "showlakes": true,
           "showland": true,
           "subunitcolor": "white"
          },
          "hoverlabel": {
           "align": "left"
          },
          "hovermode": "closest",
          "mapbox": {
           "style": "light"
          },
          "paper_bgcolor": "white",
          "plot_bgcolor": "#E5ECF6",
          "polar": {
           "angularaxis": {
            "gridcolor": "white",
            "linecolor": "white",
            "ticks": ""
           },
           "bgcolor": "#E5ECF6",
           "radialaxis": {
            "gridcolor": "white",
            "linecolor": "white",
            "ticks": ""
           }
          },
          "scene": {
           "xaxis": {
            "backgroundcolor": "#E5ECF6",
            "gridcolor": "white",
            "gridwidth": 2,
            "linecolor": "white",
            "showbackground": true,
            "ticks": "",
            "zerolinecolor": "white"
           },
           "yaxis": {
            "backgroundcolor": "#E5ECF6",
            "gridcolor": "white",
            "gridwidth": 2,
            "linecolor": "white",
            "showbackground": true,
            "ticks": "",
            "zerolinecolor": "white"
           },
           "zaxis": {
            "backgroundcolor": "#E5ECF6",
            "gridcolor": "white",
            "gridwidth": 2,
            "linecolor": "white",
            "showbackground": true,
            "ticks": "",
            "zerolinecolor": "white"
           }
          },
          "shapedefaults": {
           "line": {
            "color": "#2a3f5f"
           }
          },
          "ternary": {
           "aaxis": {
            "gridcolor": "white",
            "linecolor": "white",
            "ticks": ""
           },
           "baxis": {
            "gridcolor": "white",
            "linecolor": "white",
            "ticks": ""
           },
           "bgcolor": "#E5ECF6",
           "caxis": {
            "gridcolor": "white",
            "linecolor": "white",
            "ticks": ""
           }
          },
          "title": {
           "x": 0.05
          },
          "xaxis": {
           "automargin": true,
           "gridcolor": "white",
           "linecolor": "white",
           "ticks": "",
           "title": {
            "standoff": 15
           },
           "zerolinecolor": "white",
           "zerolinewidth": 2
          },
          "yaxis": {
           "automargin": true,
           "gridcolor": "white",
           "linecolor": "white",
           "ticks": "",
           "title": {
            "standoff": 15
           },
           "zerolinecolor": "white",
           "zerolinewidth": 2
          }
         }
        },
        "title": {
         "text": "Frecuencia de los eventos muestrales"
        },
        "xaxis": {
         "anchor": "y",
         "domain": [
          0,
          1
         ],
         "title": {
          "text": "Evento muestral"
         }
        },
        "yaxis": {
         "anchor": "x",
         "domain": [
          0,
          1
         ],
         "title": {
          "text": "Frecuencia"
         }
        }
       }
      }
     },
     "metadata": {},
     "output_type": "display_data"
    }
   ],
   "source": [
    "graficar_frecuencias(frecuencia)"
   ]
  },
  {
   "cell_type": "markdown",
   "id": "f6d425e6",
   "metadata": {},
   "source": [
    "# Ejemplo de lanzamiento de un dado no cargado"
   ]
  },
  {
   "cell_type": "code",
   "execution_count": 53,
   "id": "19fddad2",
   "metadata": {},
   "outputs": [
    {
     "name": "stdout",
     "output_type": "stream",
     "text": [
      "El porcentaje de veces que obtive par en 1000000 lanzamientos fue de:  49.9578 %\n",
      "CPU times: total: 15.6 ms\n",
      "Wall time: 38 ms\n"
     ]
    }
   ],
   "source": [
    "%%time\n",
    "# un experimento de lanzar un dado un número de veces dada por el usuario \n",
    "# La variable aleatoria es X = {2, 4, 6}\n",
    "# P(X)  = P(2) + P(4) + P(6)\n",
    "\n",
    "import numpy as np \n",
    "S = [1,2,3,4,5,6] # espacio muestral \n",
    "numero_lanzamientos = 1000_000\n",
    "resultados_lanzamientos = np.random.choice(S, size = numero_lanzamientos)\n",
    "numero_pares = np.sum(resultados_lanzamientos % 2)\n",
    "probabilidad_de_obtener_par = numero_pares/numero_lanzamientos\n",
    "print(f'El porcentaje de veces que obtive par en {numero_lanzamientos} lanzamientos fue de: ',  probabilidad_de_obtener_par*100, '%')\n"
   ]
  },
  {
   "cell_type": "markdown",
   "id": "59614826",
   "metadata": {},
   "source": [
    "[Video para probabilidad de variable discreta](https://www.youtube.com/watch?v=vVh92O02lZc)"
   ]
  },
  {
   "cell_type": "markdown",
   "id": "8da1e837",
   "metadata": {},
   "source": [
    "# Ahora si, probabilidad con integral definida  \n"
   ]
  },
  {
   "cell_type": "markdown",
   "id": "f032b15f",
   "metadata": {},
   "source": [
    "## Variable aleatoria continua"
   ]
  },
  {
   "cell_type": "markdown",
   "id": "9145c8d8",
   "metadata": {},
   "source": [
    "\n",
    "Hasta ahora, en esta sección hemos tratado con variables aleatorias en donde el número de valores posibles es finito; esta situación es análoga a tener masas puntuales en la sección anterior. "
   ]
  },
  {
   "cell_type": "markdown",
   "id": "ce718c2f",
   "metadata": {},
   "source": [
    "Existen otras situaciones en donde hay un número infinito de posibles resultados. "
   ]
  },
  {
   "cell_type": "markdown",
   "id": "db980089",
   "metadata": {},
   "source": [
    "Si el conjunto de valores posibles de una variable aleatoria $X$ es finito, tal como $\\{x_{1}, x_{2}, \\ldots , x_{n}\\}$, o es infinito, pero puede ponerse en una lista, tal como $\\{x_{1}, x_{2}, \\ldots\\}$, entonces se dice que la variable aleatoria $X$ es discreta. "
   ]
  },
  {
   "cell_type": "markdown",
   "id": "edb54922",
   "metadata": {},
   "source": [
    "Si una variable aleatoria $X$ puede tomar cualquier valor en algún intervalo de números reales, entonces decimos que $X$ es una variable aleatoria continua. "
   ]
  },
  {
   "cell_type": "markdown",
   "id": "1f1fbae2",
   "metadata": {},
   "source": [
    "Existe una gran cantidad de situaciones en donde, al menos teóricamente, el resultado puede ser cualquier número real en un intervalo:\n",
    "por ejemplo, el tiempo de espera para la luz de alto, la masa de una pieza moldeada o el tiempo de vida de una batería. "
   ]
  },
  {
   "cell_type": "markdown",
   "id": "a2035bc1",
   "metadata": {},
   "source": [
    "En la práctica, por supuesto, cada medida se redondea; por ejemplo, al segundo, miligramo, día, etcétera, más cercano. "
   ]
  },
  {
   "cell_type": "markdown",
   "id": "e84c9c50",
   "metadata": {},
   "source": [
    "En situaciones como ésta, la variable aleatoria en realidad es discreta (con muchos posibles resultados), pero, con frecuencia, una variable aleatoria continua es una buena aproximación.\n"
   ]
  },
  {
   "cell_type": "markdown",
   "id": "7f1c3107",
   "metadata": {},
   "source": [
    "Las variables aleatorias continuas se estudian de una manera análoga a la distribución continua de masa de la sección anterior. "
   ]
  },
  {
   "cell_type": "markdown",
   "id": "180dfd52",
   "metadata": {},
   "source": [
    "Para una variable aleatoria continua debemos especificar la función de densidad de probabilidad (FDP). "
   ]
  },
  {
   "cell_type": "markdown",
   "id": "9a1c56dd",
   "metadata": {},
   "source": [
    "Una FDP para una variable aleatoria $X$ que toma valores en el intervalo $[A, B]$ es una función que satisface"
   ]
  },
  {
   "cell_type": "markdown",
   "id": "162e6b56",
   "metadata": {},
   "source": [
    "1. $f(x) \\geq 0$. \n",
    "2. $\\int_{A}^{B} f(x) dx = 1$\n",
    "3. $P(a \\leq X \\leq b) = \\int_{a}^{b} f(x) dx$ para todo $a,b$ en el intervalo $[A, B]$.   "
   ]
  },
  {
   "cell_type": "markdown",
   "id": "f9f2e8ea",
   "metadata": {},
   "source": [
    "La tercera propiedad dice que podemos determinar probabilidades para una variable aleatoria continua determinando áreas bajo la FDP (vea y explore la animación siguiente). "
   ]
  },
  {
   "cell_type": "code",
   "execution_count": 41,
   "id": "ca4a3428",
   "metadata": {},
   "outputs": [],
   "source": [
    "def identidad(x):\n",
    "    return x*np.ones_like(x)"
   ]
  },
  {
   "cell_type": "code",
   "execution_count": 45,
   "id": "ad9495e6",
   "metadata": {},
   "outputs": [],
   "source": [
    "def f1(x):\n",
    "    '''\n",
    "    INPUT: \n",
    "    x debe ser un arreglo de numpy\n",
    "    '''\n",
    "    if 0 <= x <= 10:\n",
    "        return (1/10)*np.ones_like(x) \n",
    "    else:\n",
    "        return np.zeros_like(x)\n",
    "# para funciones constante, debemos  usar np.ones_like(x) para poder evaluar la función en  todos los puntos de x\n",
    "\n"
   ]
  },
  {
   "cell_type": "code",
   "execution_count": 46,
   "id": "bbe7ffb9",
   "metadata": {},
   "outputs": [],
   "source": [
    "def product(x):\n",
    "    return identidad(x)*f1(x)"
   ]
  },
  {
   "cell_type": "code",
   "execution_count": 61,
   "id": "3e710d60",
   "metadata": {},
   "outputs": [],
   "source": [
    "# Animación de la integral de \n",
    "\n",
    "def dibujar_region_area_probabilidad(f, A, B):\n",
    "    import numpy as np \n",
    "    import matplotlib.pyplot as plt \n",
    "    from ipywidgets import  interact\n",
    "    from  scipy.integrate import quad\n",
    "\n",
    "\n",
    "    def dibujar_region(a=0, b=0):\n",
    "        plt.figure(figsize=(6, 4))\n",
    "        \n",
    "        # Dominio de la función completo\n",
    "        dominio_AB = np.arange(A, B + 0.1, 0.1)\n",
    "        \n",
    "        # Dominio entre los límites de integración a y b\n",
    "        if b <= B:\n",
    "            dominio_ab = np.arange(a, b + 0.1, 0.1)\n",
    "        else:\n",
    "            dominio_ab = np.arange(a, B + 0.1, 0.1)\n",
    "        \n",
    "        # Graficar la función\n",
    "        plt.plot(dominio_AB, f(dominio_AB), 'k-')\n",
    "        \n",
    "        # Calcular la integral entre a y b\n",
    "        resultado, error = quad(f, a, b)\n",
    "        \n",
    "        # Colorear el área bajo la curva\n",
    "        plt.fill_between(dominio_ab, f(dominio_ab), label=f'Área = {resultado:.2f}')\n",
    "        \n",
    "        # Añadir leyenda y grid\n",
    "        plt.grid(alpha=0.4)\n",
    "        plt.legend()\n",
    "        plt.show()\n",
    "\n",
    "    # Crear un widget interactivo para los límites de integración\n",
    "    interact(dibujar_region, a=(A, A + (B-A), 0.1), b = (B - 0.9*(B-A), B, 0.1))\n",
    "\n"
   ]
  },
  {
   "cell_type": "code",
   "execution_count": 62,
   "id": "8345fce3",
   "metadata": {},
   "outputs": [
    {
     "data": {
      "application/vnd.jupyter.widget-view+json": {
       "model_id": "ea84e0a8494c4a06b7da04cc57cc0c06",
       "version_major": 2,
       "version_minor": 0
      },
      "text/plain": [
       "interactive(children=(FloatSlider(value=0.0, description='a', max=6.283185307179586), FloatSlider(value=0.6283…"
      ]
     },
     "metadata": {},
     "output_type": "display_data"
    }
   ],
   "source": [
    "dibujar_region_area_probabilidad(f = lambda x: x*np.cos(x),  A = 0, B = 2*np.pi)"
   ]
  },
  {
   "cell_type": "markdown",
   "id": "5283d709",
   "metadata": {},
   "source": [
    "Es costumbre definir a la FDP como cero fuera del intervalo $[A, B]$."
   ]
  },
  {
   "cell_type": "markdown",
   "id": "1cc8d49e",
   "metadata": {},
   "source": [
    "El valor esperado, o media, de una variable aleatoria continua $X$ es \n",
    "\n",
    "$$ \\mu = E(X) = \\int_{a}^{b} xf(x) dx $$ "
   ]
  },
  {
   "cell_type": "markdown",
   "id": "a20440fb",
   "metadata": {},
   "source": [
    "## Ejemplo 2 del Purcell  \n",
    "\n",
    "Página 318.  \n",
    "\n",
    "Una variable aleatoria continua $X$ tiene FDP \n",
    "\n",
    "$$ \\begin{cases} \\frac{1}{10} & 0 \\leq x \\leq 10 \\\\\n",
    "0 & \\text{en otro caso}  \\end{cases} $$  \n",
    "\n",
    "a. Determine $P(1 \\leq X \\leq 9)$  \n",
    "b. Determine $P(X \\geq 4)$ \n",
    "c. Determine $E(X)$.  \n",
    "\n",
    "\n",
    "\n",
    "\n"
   ]
  },
  {
   "cell_type": "code",
   "execution_count": 36,
   "id": "2237ca3a",
   "metadata": {},
   "outputs": [
    {
     "data": {
      "text/plain": [
       "(0.8000000000000002, 8.881784197001254e-15)"
      ]
     },
     "execution_count": 36,
     "metadata": {},
     "output_type": "execute_result"
    }
   ],
   "source": [
    "# solución del item a \n",
    "\n",
    "quad(f1, 1,9) "
   ]
  },
  {
   "cell_type": "code",
   "execution_count": 39,
   "id": "e84e24e5",
   "metadata": {},
   "outputs": [
    {
     "data": {
      "text/plain": [
       "np.float64(0.6)"
      ]
     },
     "execution_count": 39,
     "metadata": {},
     "output_type": "execute_result"
    }
   ],
   "source": [
    "# solución de item b\n",
    "\n",
    "np.round(quad(f1, 4, np.inf), 1)[0]"
   ]
  },
  {
   "cell_type": "code",
   "execution_count": 48,
   "id": "16cd12e0",
   "metadata": {},
   "outputs": [
    {
     "data": {
      "text/plain": [
       "(5.0, 5.551115123125783e-14)"
      ]
     },
     "execution_count": 48,
     "metadata": {},
     "output_type": "execute_result"
    }
   ],
   "source": [
    "quad(product, 0,10)"
   ]
  },
  {
   "cell_type": "markdown",
   "id": "9ade9a10",
   "metadata": {},
   "source": [
    "¿Son razonables estas respuestas?   \n",
    "\n",
    "La variable aleatoria $X$ se distribuye de manera uniforme en el intervalo $[0, 10]$, por lo que $80 \\%$ de la probabilidad debe estar entre 1 y 9, al igual que $80 \\%$ de la masa de una varilla uniforme estaría entre 1 y 9. "
   ]
  },
  {
   "cell_type": "markdown",
   "id": "81319d4c",
   "metadata": {},
   "source": [
    "Por simetría, esperaríamos que la media, o esperanza, de $X$ sea 5, al igual que esperaríamos que el centro de masa de una barra uniforme de longitud 10 se encuentre a 5 unidades de cualquiera de los extremos."
   ]
  },
  {
   "cell_type": "markdown",
   "id": "73890e01",
   "metadata": {},
   "source": [
    "### EJEMPLO 3   \n",
    "\n",
    "En teoría de confiabilidad, con frecuencia la variable aleatoria es el tiempo de vida de algún artículo, tal como la batería de una laptop. La FDP puede usarse para determinar las probabilidades y esperanzas respecto al tiempo de vida. Entonces, suponga que el tiempo de vida, en horas, de una batería es una variable aleatoria continua $X$ que tiene FDP  \n",
    "\n",
    "$$ \n",
    "F(x) = \n",
    "\\begin{cases} \\frac{12}{625} x^{2}(5-x)  & \\text{si } 0 \\leq x \\leq 5 \\\\\n",
    " 0  &  \\text{en otro caso} \n",
    " \\end{cases} \n",
    " $$ \n"
   ]
  },
  {
   "cell_type": "markdown",
   "id": "0e3e16d0",
   "metadata": {},
   "source": [
    "\n",
    "1. Verifique que esto es una FDP válida y dibuje su gráfica.  \n",
    "2. Determine la probabilidad de que la batería dure al menos tres horas.\n",
    "3. Determine el valor esperado del tiempo de vida.  \n",
    "4. Determine y dibuje una gráfica de la FDA.\n",
    "\n"
   ]
  },
  {
   "cell_type": "code",
   "execution_count": 66,
   "id": "85807342",
   "metadata": {},
   "outputs": [],
   "source": [
    "# Definamos a Función de Distributividad de probabilidad (FDP) \n",
    "\n",
    "def F(x):\n",
    "    '''Función que queremos integrar, adaptada para trabajar con valores escalares y arrays'''\n",
    "    # Si x es un array, aplicamos la función de manera vectorizada\n",
    "    if isinstance(x, np.ndarray):\n",
    "        result = np.zeros_like(x)\n",
    "        mask = (x >= 0) & (x <= 5)\n",
    "        result[mask] = (12 / 625) * x[mask]**2 * (5 - x[mask])\n",
    "        return result\n",
    "    # Si x es un valor escalar, trabajamos con él directamente\n",
    "    else:\n",
    "        if 0 <= x <= 5:\n",
    "            return (12 / 625) * x**2 * (5 - x)\n",
    "        else:\n",
    "            return 0"
   ]
  },
  {
   "cell_type": "code",
   "execution_count": 67,
   "id": "f50aa6d9",
   "metadata": {},
   "outputs": [
    {
     "data": {
      "application/vnd.jupyter.widget-view+json": {
       "model_id": "f9cd88a3973a446d993029b1e41679bc",
       "version_major": 2,
       "version_minor": 0
      },
      "text/plain": [
       "interactive(children=(FloatSlider(value=0.0, description='a', max=5.0), FloatSlider(value=0.5, description='b'…"
      ]
     },
     "metadata": {},
     "output_type": "display_data"
    }
   ],
   "source": [
    "dibujar_region_area_probabilidad(F, 0, 5)"
   ]
  },
  {
   "cell_type": "code",
   "execution_count": null,
   "id": "16d85872",
   "metadata": {},
   "outputs": [],
   "source": []
  },
  {
   "cell_type": "code",
   "execution_count": null,
   "id": "71034e65",
   "metadata": {},
   "outputs": [],
   "source": []
  },
  {
   "cell_type": "markdown",
   "id": "a6fcb1b6",
   "metadata": {},
   "source": [
    "# La librería scipy para integración numérica  \n"
   ]
  },
  {
   "cell_type": "markdown",
   "id": "a2142adf",
   "metadata": {},
   "source": [
    "\n",
    "La función `quad` de `scipy.integrate` es una herramienta del módulo **SciPy** en Python, utilizada para realizar **integración numérica** de funciones unidimensionales. Es especialmente útil para calcular integrales definidas cuando no es posible resolverlas analíticamente.\n",
    "\n",
    "### Importación\n",
    "\n",
    "Para usar `quad`, primero debes importar la función desde el submódulo `scipy.integrate`:\n"
   ]
  },
  {
   "cell_type": "markdown",
   "id": "b607ae84",
   "metadata": {},
   "source": [
    "\n",
    "```python\n",
    "from scipy.integrate import quad\n",
    "```\n",
    "\n",
    "### Sintaxis básica\n",
    "\n",
    "La sintaxis básica para usar `quad` es la siguiente:\n"
   ]
  },
  {
   "cell_type": "markdown",
   "id": "90419e0b",
   "metadata": {},
   "source": [
    "\n",
    "```python\n",
    "result, error = quad(func, a, b)\n",
    "```\n"
   ]
  },
  {
   "cell_type": "markdown",
   "id": "3f41c699",
   "metadata": {},
   "source": [
    "\n",
    "- `func`: La función que se desea integrar. Puede ser una función definida en Python o una expresión lambda.\n",
    "- `a`: Límite inferior de la integral.\n",
    "- `b`: Límite superior de la integral.\n",
    "\n",
    "### Retorno\n",
    "\n",
    "La función `quad` devuelve dos valores:\n",
    "\n",
    "1. **`result`**: El valor numérico de la integral.\n",
    "2. **`error`**: La estimación del error absoluto en el cálculo de la integral.\n",
    "\n",
    "### Ejemplo básico\n",
    "\n",
    "Aquí tienes un ejemplo en el que se calcula la integral de $f(x) = x^2$ en el intervalo \\([0, 1]\\):\n"
   ]
  },
  {
   "cell_type": "markdown",
   "id": "309f7722",
   "metadata": {},
   "source": [
    "\n",
    "```python\n",
    "from scipy.integrate import quad\n",
    "\n",
    "# Definir la función a integrar\n",
    "def f(x):\n",
    "    return x**2\n",
    "\n",
    "# Calcular la integral de 0 a 1\n",
    "result, error = quad(f, 0, 1)\n",
    "\n",
    "print(\"Resultado de la integral:\", result)\n",
    "print(\"Error estimado:\", error)\n",
    "```\n"
   ]
  },
  {
   "cell_type": "markdown",
   "id": "35b2edfa",
   "metadata": {},
   "source": [
    "\n",
    "**Salida esperada:**\n",
    "```\n",
    "Resultado de la integral: 0.33333333333333337\n",
    "Error estimado: 3.700743415417189e-15\n",
    "```\n",
    "\n",
    "Este resultado es cercano a \\( \\frac{1}{3} \\), que es la solución exacta de la integral de \\( x^2 \\) en el intervalo \\([0, 1]\\).\n",
    "\n",
    "### Funciones lambda\n",
    "\n",
    "También puedes usar expresiones lambda para definir funciones de forma más compacta:\n",
    "\n",
    "```python\n",
    "result, error = quad(lambda x: x**2, 0, 1)\n",
    "print(\"Resultado de la integral:\", result)\n",
    "```\n",
    "\n",
    "### Integración de funciones con parámetros adicionales\n",
    "\n",
    "Si tu función depende de más variables además de la variable de integración, puedes pasar parámetros adicionales a la función utilizando la opción `args`. Por ejemplo:\n"
   ]
  },
  {
   "cell_type": "code",
   "execution_count": 16,
   "id": "5e350cee",
   "metadata": {},
   "outputs": [
    {
     "name": "stdout",
     "output_type": "stream",
     "text": [
      "Resultado de la integral con a=2: 0.6666666666666667\n"
     ]
    }
   ],
   "source": [
    "def f(x, a):\n",
    "    return a * x**2\n",
    "\n",
    "# Calcular la integral de 0 a 1 con a = 2\n",
    "result, error = quad(f, 0, 1, args=(2,))\n",
    "print(\"Resultado de la integral con a=2:\", result)\n"
   ]
  },
  {
   "cell_type": "markdown",
   "id": "387684cd",
   "metadata": {},
   "source": [
    "\n",
    "### Integración impropia\n",
    "\n",
    "`quad` también es capaz de manejar integrales impropias, como aquellas en las que uno de los límites es infinito. En este caso, puedes usar `np.inf` o `-np.inf` para representar límites infinitos.\n",
    "\n",
    "Ejemplo de una integral impropia:\n"
   ]
  },
  {
   "cell_type": "code",
   "execution_count": null,
   "id": "751249a8",
   "metadata": {},
   "outputs": [],
   "source": [
    "\n",
    "from scipy.integrate import quad\n",
    "import numpy as np\n",
    "\n",
    "# Definir la función a integrar\n",
    "def f(x):\n",
    "    return 1/(x**2 + 1)\n",
    "\n",
    "# Calcular la integral desde 0 hasta infinito\n",
    "result, error = quad(f, 0, np.inf)\n",
    "\n",
    "print(\"Resultado de la integral impropia:\", result)\n",
    "\n"
   ]
  },
  {
   "cell_type": "markdown",
   "id": "1405b331",
   "metadata": {},
   "source": [
    "\n",
    "Este ejemplo calcula la integral $ \\int_0^\\infty \\frac{1}{x^2 + 1} \\, dx$, cuya solución es \\( \\frac{\\pi}{2} \\).\n",
    "\n",
    "### Ventajas de `quad`\n",
    "\n",
    "- Es fácil de usar para integrales unidimensionales.\n",
    "- Maneja integrales con límites finitos e infinitos.\n",
    "- Proporciona una estimación del error numérico.\n",
    "- Puede usarse para integrar funciones complejas.\n",
    "\n",
    "### Limitaciones\n",
    "\n",
    "- No está optimizada para funciones altamente oscilatorias o discontinuas.\n",
    "- Es solo para integrales unidimensionales; para integrales multidimensionales, se deben usar otras funciones como `dblquad`, `tplquad`, o `nquad`.\n",
    "\n",
    "### Conclusión\n",
    "\n",
    "La función `quad` de SciPy es una herramienta poderosa para calcular integrales definidas de manera numérica, aplicable en una amplia gama de problemas en matemáticas, física, ingeniería, y otros campos."
   ]
  },
  {
   "cell_type": "markdown",
   "id": "64ac8d32",
   "metadata": {},
   "source": [
    "# Ejemplo ilustrativo"
   ]
  },
  {
   "cell_type": "markdown",
   "id": "a3e5e6ab",
   "metadata": {},
   "source": [
    "# 20 ejercicios de entrenamiento o adquisición de habilidades obtenido a través de ChatGPT para una formación personalizada y centrada en la habilidad que se quiere lograr con la enseñanza del ejemplo anterior"
   ]
  },
  {
   "cell_type": "code",
   "execution_count": null,
   "id": "cc539357",
   "metadata": {},
   "outputs": [],
   "source": []
  },
  {
   "cell_type": "markdown",
   "id": "2f0141c3",
   "metadata": {},
   "source": [
    "## Tareas para realizar antes de la clase  \n",
    "\n",
    "1. Ver los videos respectivos []()\n",
    "2. Memorizar las definiciones []()\n",
    "3. Sintetizar o resumir la información en mapas conceptuales. []()\n",
    "4. Tareas para incentivar el uso de la calculadora Casio Para ingenieros y licenciados. \n",
    "5. Leer los ejemplos resueltos y repricar la manera de hacerlos"
   ]
  },
  {
   "cell_type": "code",
   "execution_count": 1,
   "id": "83d849ab",
   "metadata": {},
   "outputs": [
    {
     "name": "stdout",
     "output_type": "stream",
     "text": [
      "Tarea 1 de lectura de ejemplos y completación de procedimientos: \n",
      "     Si faltan los enunciados de los problemas, no se valora la tarea\n",
      "    Si faltan de la conclusión verbales, no se valora la tarea.\n",
      "    Esta tarea se valora solo si la presenta de manera manuscrita en su cuaderno de clase.  \n",
      "       tarea_1_probabilidad_Purcell_Página_316_Sección_5_7.csv\n"
     ]
    },
    {
     "data": {
      "text/html": [
       "<div>\n",
       "<style scoped>\n",
       "    .dataframe tbody tr th:only-of-type {\n",
       "        vertical-align: middle;\n",
       "    }\n",
       "\n",
       "    .dataframe tbody tr th {\n",
       "        vertical-align: top;\n",
       "    }\n",
       "\n",
       "    .dataframe thead th {\n",
       "        text-align: right;\n",
       "    }\n",
       "</style>\n",
       "<table border=\"1\" class=\"dataframe\">\n",
       "  <thead>\n",
       "    <tr style=\"text-align: right;\">\n",
       "      <th></th>\n",
       "      <th>Student</th>\n",
       "      <th>Example1</th>\n",
       "      <th>Example2</th>\n",
       "    </tr>\n",
       "  </thead>\n",
       "  <tbody>\n",
       "    <tr>\n",
       "      <th>0</th>\n",
       "      <td>AMARIS FERNANDEZ SEBASTIAN CAMILO</td>\n",
       "      <td>2</td>\n",
       "      <td>3</td>\n",
       "    </tr>\n",
       "    <tr>\n",
       "      <th>1</th>\n",
       "      <td>ARENAS HERAZO GABRIEL ENRIQUE</td>\n",
       "      <td>2</td>\n",
       "      <td>3</td>\n",
       "    </tr>\n",
       "    <tr>\n",
       "      <th>2</th>\n",
       "      <td>AYALA MENDOZA MARISOL YACIRA</td>\n",
       "      <td>2</td>\n",
       "      <td>3</td>\n",
       "    </tr>\n",
       "    <tr>\n",
       "      <th>3</th>\n",
       "      <td>BERTEL RODELO MICHELL SMIT</td>\n",
       "      <td>2</td>\n",
       "      <td>3</td>\n",
       "    </tr>\n",
       "    <tr>\n",
       "      <th>4</th>\n",
       "      <td>BULA VERGARA MARIA PAULA</td>\n",
       "      <td>2</td>\n",
       "      <td>3</td>\n",
       "    </tr>\n",
       "    <tr>\n",
       "      <th>5</th>\n",
       "      <td>CANTILLO ENSUCHO DANIEL</td>\n",
       "      <td>2</td>\n",
       "      <td>3</td>\n",
       "    </tr>\n",
       "    <tr>\n",
       "      <th>6</th>\n",
       "      <td>CERVANTES DURAN ANGELICA</td>\n",
       "      <td>2</td>\n",
       "      <td>3</td>\n",
       "    </tr>\n",
       "    <tr>\n",
       "      <th>7</th>\n",
       "      <td>GUERRA NORIEGA YONATHAN</td>\n",
       "      <td>2</td>\n",
       "      <td>3</td>\n",
       "    </tr>\n",
       "    <tr>\n",
       "      <th>8</th>\n",
       "      <td>HINCAPIE CASTRO JOHAN SEBASTIAN</td>\n",
       "      <td>2</td>\n",
       "      <td>3</td>\n",
       "    </tr>\n",
       "    <tr>\n",
       "      <th>9</th>\n",
       "      <td>HUMANEZ SANCHEZ CAMILO</td>\n",
       "      <td>2</td>\n",
       "      <td>3</td>\n",
       "    </tr>\n",
       "    <tr>\n",
       "      <th>10</th>\n",
       "      <td>IBAÑEZ MORENO FRANCISCO LUIS</td>\n",
       "      <td>2</td>\n",
       "      <td>3</td>\n",
       "    </tr>\n",
       "    <tr>\n",
       "      <th>11</th>\n",
       "      <td>MASS MIRANDA RIVALDO JOSE</td>\n",
       "      <td>2</td>\n",
       "      <td>3</td>\n",
       "    </tr>\n",
       "    <tr>\n",
       "      <th>12</th>\n",
       "      <td>MIRANDA MARTINEZ CARLOS ANDRES</td>\n",
       "      <td>2</td>\n",
       "      <td>3</td>\n",
       "    </tr>\n",
       "    <tr>\n",
       "      <th>13</th>\n",
       "      <td>MONTERROSA SOTO ABRIL</td>\n",
       "      <td>2</td>\n",
       "      <td>3</td>\n",
       "    </tr>\n",
       "    <tr>\n",
       "      <th>14</th>\n",
       "      <td>NORIEGA JIMENEZ GABRIELA</td>\n",
       "      <td>2</td>\n",
       "      <td>3</td>\n",
       "    </tr>\n",
       "    <tr>\n",
       "      <th>15</th>\n",
       "      <td>PEREZ REYES IVAN DARIO</td>\n",
       "      <td>2</td>\n",
       "      <td>3</td>\n",
       "    </tr>\n",
       "    <tr>\n",
       "      <th>16</th>\n",
       "      <td>PEREZ THERAN ERLINDA</td>\n",
       "      <td>2</td>\n",
       "      <td>3</td>\n",
       "    </tr>\n",
       "    <tr>\n",
       "      <th>17</th>\n",
       "      <td>PINEDA ROMERO YOSMERI</td>\n",
       "      <td>2</td>\n",
       "      <td>3</td>\n",
       "    </tr>\n",
       "    <tr>\n",
       "      <th>18</th>\n",
       "      <td>QUINONEZ CERVANTES MARIANA</td>\n",
       "      <td>2</td>\n",
       "      <td>3</td>\n",
       "    </tr>\n",
       "    <tr>\n",
       "      <th>19</th>\n",
       "      <td>RAMOS PEREZ YANINE</td>\n",
       "      <td>2</td>\n",
       "      <td>3</td>\n",
       "    </tr>\n",
       "    <tr>\n",
       "      <th>20</th>\n",
       "      <td>RIVAS HOYOS ESTEFANIA</td>\n",
       "      <td>2</td>\n",
       "      <td>3</td>\n",
       "    </tr>\n",
       "    <tr>\n",
       "      <th>21</th>\n",
       "      <td>ROSILLO TEJADA VANESA</td>\n",
       "      <td>2</td>\n",
       "      <td>3</td>\n",
       "    </tr>\n",
       "    <tr>\n",
       "      <th>22</th>\n",
       "      <td>SANCHEZ PADILLA SILVESTRE</td>\n",
       "      <td>2</td>\n",
       "      <td>3</td>\n",
       "    </tr>\n",
       "    <tr>\n",
       "      <th>23</th>\n",
       "      <td>SILVA ROYERO MAILY CRISTINA</td>\n",
       "      <td>2</td>\n",
       "      <td>3</td>\n",
       "    </tr>\n",
       "    <tr>\n",
       "      <th>24</th>\n",
       "      <td>USUGA GEORGE JHON ESTIVEN</td>\n",
       "      <td>2</td>\n",
       "      <td>3</td>\n",
       "    </tr>\n",
       "  </tbody>\n",
       "</table>\n",
       "</div>"
      ],
      "text/plain": [
       "                              Student  Example1  Example2\n",
       "0   AMARIS FERNANDEZ SEBASTIAN CAMILO         2         3\n",
       "1       ARENAS HERAZO GABRIEL ENRIQUE         2         3\n",
       "2        AYALA MENDOZA MARISOL YACIRA         2         3\n",
       "3          BERTEL RODELO MICHELL SMIT         2         3\n",
       "4            BULA VERGARA MARIA PAULA         2         3\n",
       "5             CANTILLO ENSUCHO DANIEL         2         3\n",
       "6            CERVANTES DURAN ANGELICA         2         3\n",
       "7             GUERRA NORIEGA YONATHAN         2         3\n",
       "8     HINCAPIE CASTRO JOHAN SEBASTIAN         2         3\n",
       "9              HUMANEZ SANCHEZ CAMILO         2         3\n",
       "10       IBAÑEZ MORENO FRANCISCO LUIS         2         3\n",
       "11          MASS MIRANDA RIVALDO JOSE         2         3\n",
       "12     MIRANDA MARTINEZ CARLOS ANDRES         2         3\n",
       "13              MONTERROSA SOTO ABRIL         2         3\n",
       "14           NORIEGA JIMENEZ GABRIELA         2         3\n",
       "15             PEREZ REYES IVAN DARIO         2         3\n",
       "16               PEREZ THERAN ERLINDA         2         3\n",
       "17              PINEDA ROMERO YOSMERI         2         3\n",
       "18         QUINONEZ CERVANTES MARIANA         2         3\n",
       "19                 RAMOS PEREZ YANINE         2         3\n",
       "20              RIVAS HOYOS ESTEFANIA         2         3\n",
       "21              ROSILLO TEJADA VANESA         2         3\n",
       "22          SANCHEZ PADILLA SILVESTRE         2         3\n",
       "23        SILVA ROYERO MAILY CRISTINA         2         3\n",
       "24          USUGA GEORGE JHON ESTIVEN         2         3"
      ]
     },
     "execution_count": 1,
     "metadata": {},
     "output_type": "execute_result"
    }
   ],
   "source": [
    "# Tarea 1 de lectura de ejemplos y completación de procedimientos\n",
    "# asignación de tarea para realizar antes de clase\n",
    "# Consiste en leer y completar un ejemplo de texto guía\n",
    "# Esta tarea es para realizar solo de manera manuscrita en su cuaderno de clase. \n",
    "# La otra opción de presentación es elaborada en cuadernos Jupyter (En este caso solo debe realizar la cuarta parte de los ejercicios asignados)\n",
    "# \n",
    "\n",
    "import pandas as pd\n",
    "import numpy as np\n",
    "import requests\n",
    "np.random.seed(1213)  # establecer semilla aleatoria para hacer los resultados reproducibles\n",
    "\n",
    "\n",
    "nombre_tarea = \"tarea_1_probabilidad\"\n",
    "grupo_estudiantes = 'calculo_vectorial'\n",
    "nombre_texto_guia = 'Purcell'\n",
    "pagina_y_seccion = 'Página_316_Sección_5_7'\n",
    "numero_ejemplos_de_la_seccion = 3\n",
    "numero_de_ejemplos_asignados = 2\n",
    "\n",
    "\n",
    "# Descargar la lista de  estudiantes\n",
    "students_path = \"/Users/marco/Documentos/docencia/groups_list/\" + grupo_estudiantes + \".csv\"\n",
    "examples = list(range(1, numero_ejemplos_de_la_seccion))  \n",
    "\n",
    "students_data = pd.read_csv(students_path)\n",
    "\n",
    "# Crear una lista para almacenar las asignaciones\n",
    "assignments = []\n",
    "\n",
    "# Asignar ejercicios aleatorios a cada estudiante\n",
    "for index, student in students_data.iterrows():\n",
    "    # Seleccionar 5 ejercicios aleatorios sin repetición\n",
    "    random_exercises = np.sort(np.random.choice(examples, numero_de_ejemplos_asignados, \\\n",
    "                                                replace = False)+ 1)\n",
    "    assignments.append([students_data[\"Nombre\"][index], *random_exercises])  # Agregar asignación a la lista\n",
    "\n",
    "# Crear un DataFrame con las asignaciones\n",
    "columns = [\"Student\"] + [ \"Example\" + str(i+1) for i in range(numero_de_ejemplos_asignados)]\n",
    "assignment_df = pd.DataFrame(assignments, columns=columns)\n",
    "\n",
    "# Guardar el DataFrame en un archivo CSV\n",
    "assignment_csv = nombre_tarea + \"_\" + nombre_texto_guia + \"_\"+ pagina_y_seccion + \".csv\"\n",
    "assignment_df.to_csv(assignment_csv, index=False)\n",
    "\n",
    "print(\"\"\"Tarea 1 de lectura de ejemplos y completación de procedimientos: \n",
    "     Si faltan los enunciados de los problemas, no se valora la tarea\n",
    "    Si faltan de la conclusión verbales, no se valora la tarea.\n",
    "    Esta tarea se valora solo si la presenta de manera manuscrita en su cuaderno de clase.  \n",
    "      \"\"\", assignment_csv)\n",
    "assignment_df"
   ]
  },
  {
   "cell_type": "markdown",
   "id": "740f3401",
   "metadata": {
    "slideshow": {
     "slide_type": "slide"
    }
   },
   "source": [
    "# Componente de manejo de calculadora Casio asociado al objetivo de aprendizaje de esta clase  \n",
    "\n",
    "## Pasos para lograr el objetivo de aprendizaje con la experimentación en la calculadora casio 991LA cw \n",
    "\n",
    "¿Cómo emular el lanzamiento de un dado con la calculadora?  \n",
    "\n",
    "\n",
    "\n"
   ]
  },
  {
   "cell_type": "markdown",
   "id": "fccb447c",
   "metadata": {
    "slideshow": {
     "slide_type": "slide"
    }
   },
   "source": [
    "# Tareas para realizar en clase"
   ]
  },
  {
   "cell_type": "code",
   "execution_count": 1,
   "id": "0f1f0ab2",
   "metadata": {},
   "outputs": [
    {
     "name": "stdout",
     "output_type": "stream",
     "text": [
      "Tarea 2 de solución de problemas:\n",
      "      Si faltan los enunciados de los problemas, no se valora la tarea.\n",
      "      Si faltan de la conclusión verbales, no se valora la tarea.\n",
      "      Esta tarea se valora solo si la presenta de manera manuscrita en su cuaderno de clase.  \n",
      "         Tarea_2_Purcell_Página_202_Sección_3.8.csv\n"
     ]
    },
    {
     "data": {
      "text/html": [
       "<div>\n",
       "<style scoped>\n",
       "    .dataframe tbody tr th:only-of-type {\n",
       "        vertical-align: middle;\n",
       "    }\n",
       "\n",
       "    .dataframe tbody tr th {\n",
       "        vertical-align: top;\n",
       "    }\n",
       "\n",
       "    .dataframe thead th {\n",
       "        text-align: right;\n",
       "    }\n",
       "</style>\n",
       "<table border=\"1\" class=\"dataframe\">\n",
       "  <thead>\n",
       "    <tr style=\"text-align: right;\">\n",
       "      <th></th>\n",
       "      <th>Student</th>\n",
       "      <th>Exer1</th>\n",
       "      <th>Exer2</th>\n",
       "      <th>Exer3</th>\n",
       "      <th>Exer4</th>\n",
       "      <th>Exer5</th>\n",
       "      <th>Exer6</th>\n",
       "      <th>Exer7</th>\n",
       "      <th>Exer8</th>\n",
       "      <th>Exer9</th>\n",
       "      <th>Exer10</th>\n",
       "    </tr>\n",
       "  </thead>\n",
       "  <tbody>\n",
       "    <tr>\n",
       "      <th>0</th>\n",
       "      <td>AMARIS FERNANDEZ SEBASTIAN CAMILO</td>\n",
       "      <td>47</td>\n",
       "      <td>2</td>\n",
       "      <td>52</td>\n",
       "      <td>29</td>\n",
       "      <td>21</td>\n",
       "      <td>4</td>\n",
       "      <td>36</td>\n",
       "      <td>54</td>\n",
       "      <td>35</td>\n",
       "      <td>53</td>\n",
       "    </tr>\n",
       "    <tr>\n",
       "      <th>1</th>\n",
       "      <td>ARENAS HERAZO GABRIEL ENRIQUE</td>\n",
       "      <td>42</td>\n",
       "      <td>23</td>\n",
       "      <td>44</td>\n",
       "      <td>20</td>\n",
       "      <td>2</td>\n",
       "      <td>34</td>\n",
       "      <td>45</td>\n",
       "      <td>43</td>\n",
       "      <td>37</td>\n",
       "      <td>8</td>\n",
       "    </tr>\n",
       "    <tr>\n",
       "      <th>2</th>\n",
       "      <td>AYALA MENDOZA MARISOL YACIRA</td>\n",
       "      <td>45</td>\n",
       "      <td>26</td>\n",
       "      <td>20</td>\n",
       "      <td>10</td>\n",
       "      <td>35</td>\n",
       "      <td>36</td>\n",
       "      <td>23</td>\n",
       "      <td>29</td>\n",
       "      <td>31</td>\n",
       "      <td>12</td>\n",
       "    </tr>\n",
       "    <tr>\n",
       "      <th>3</th>\n",
       "      <td>BERTEL RODELO MICHELL SMIT</td>\n",
       "      <td>24</td>\n",
       "      <td>18</td>\n",
       "      <td>39</td>\n",
       "      <td>54</td>\n",
       "      <td>5</td>\n",
       "      <td>19</td>\n",
       "      <td>38</td>\n",
       "      <td>41</td>\n",
       "      <td>30</td>\n",
       "      <td>28</td>\n",
       "    </tr>\n",
       "    <tr>\n",
       "      <th>4</th>\n",
       "      <td>BULA VERGARA MARIA PAULA</td>\n",
       "      <td>9</td>\n",
       "      <td>23</td>\n",
       "      <td>32</td>\n",
       "      <td>46</td>\n",
       "      <td>18</td>\n",
       "      <td>48</td>\n",
       "      <td>34</td>\n",
       "      <td>21</td>\n",
       "      <td>10</td>\n",
       "      <td>33</td>\n",
       "    </tr>\n",
       "    <tr>\n",
       "      <th>5</th>\n",
       "      <td>CANTILLO ENSUCHO DANIEL</td>\n",
       "      <td>34</td>\n",
       "      <td>5</td>\n",
       "      <td>44</td>\n",
       "      <td>43</td>\n",
       "      <td>21</td>\n",
       "      <td>23</td>\n",
       "      <td>40</td>\n",
       "      <td>36</td>\n",
       "      <td>18</td>\n",
       "      <td>51</td>\n",
       "    </tr>\n",
       "    <tr>\n",
       "      <th>6</th>\n",
       "      <td>CERVANTES DURAN ANGELICA</td>\n",
       "      <td>2</td>\n",
       "      <td>20</td>\n",
       "      <td>43</td>\n",
       "      <td>7</td>\n",
       "      <td>32</td>\n",
       "      <td>11</td>\n",
       "      <td>23</td>\n",
       "      <td>12</td>\n",
       "      <td>22</td>\n",
       "      <td>34</td>\n",
       "    </tr>\n",
       "    <tr>\n",
       "      <th>7</th>\n",
       "      <td>GUERRA NORIEGA YONATHAN</td>\n",
       "      <td>46</td>\n",
       "      <td>39</td>\n",
       "      <td>20</td>\n",
       "      <td>19</td>\n",
       "      <td>36</td>\n",
       "      <td>42</td>\n",
       "      <td>12</td>\n",
       "      <td>23</td>\n",
       "      <td>25</td>\n",
       "      <td>34</td>\n",
       "    </tr>\n",
       "    <tr>\n",
       "      <th>8</th>\n",
       "      <td>HINCAPIE CASTRO JOHAN SEBASTIAN</td>\n",
       "      <td>19</td>\n",
       "      <td>7</td>\n",
       "      <td>6</td>\n",
       "      <td>34</td>\n",
       "      <td>30</td>\n",
       "      <td>37</td>\n",
       "      <td>18</td>\n",
       "      <td>41</td>\n",
       "      <td>11</td>\n",
       "      <td>24</td>\n",
       "    </tr>\n",
       "    <tr>\n",
       "      <th>9</th>\n",
       "      <td>HUMANEZ SANCHEZ CAMILO</td>\n",
       "      <td>54</td>\n",
       "      <td>46</td>\n",
       "      <td>2</td>\n",
       "      <td>35</td>\n",
       "      <td>9</td>\n",
       "      <td>7</td>\n",
       "      <td>31</td>\n",
       "      <td>11</td>\n",
       "      <td>34</td>\n",
       "      <td>23</td>\n",
       "    </tr>\n",
       "    <tr>\n",
       "      <th>10</th>\n",
       "      <td>IBAÑEZ MORENO FRANCISCO LUIS</td>\n",
       "      <td>47</td>\n",
       "      <td>53</td>\n",
       "      <td>42</td>\n",
       "      <td>46</td>\n",
       "      <td>4</td>\n",
       "      <td>54</td>\n",
       "      <td>30</td>\n",
       "      <td>13</td>\n",
       "      <td>50</td>\n",
       "      <td>36</td>\n",
       "    </tr>\n",
       "    <tr>\n",
       "      <th>11</th>\n",
       "      <td>MASS MIRANDA RIVALDO JOSE</td>\n",
       "      <td>5</td>\n",
       "      <td>14</td>\n",
       "      <td>43</td>\n",
       "      <td>16</td>\n",
       "      <td>33</td>\n",
       "      <td>28</td>\n",
       "      <td>8</td>\n",
       "      <td>41</td>\n",
       "      <td>52</td>\n",
       "      <td>2</td>\n",
       "    </tr>\n",
       "    <tr>\n",
       "      <th>12</th>\n",
       "      <td>MIRANDA MARTINEZ CARLOS ANDRES</td>\n",
       "      <td>25</td>\n",
       "      <td>31</td>\n",
       "      <td>16</td>\n",
       "      <td>47</td>\n",
       "      <td>26</td>\n",
       "      <td>48</td>\n",
       "      <td>32</td>\n",
       "      <td>40</td>\n",
       "      <td>27</td>\n",
       "      <td>3</td>\n",
       "    </tr>\n",
       "    <tr>\n",
       "      <th>13</th>\n",
       "      <td>MONTERROSA SOTO ABRIL</td>\n",
       "      <td>4</td>\n",
       "      <td>26</td>\n",
       "      <td>30</td>\n",
       "      <td>25</td>\n",
       "      <td>33</td>\n",
       "      <td>13</td>\n",
       "      <td>7</td>\n",
       "      <td>23</td>\n",
       "      <td>19</td>\n",
       "      <td>14</td>\n",
       "    </tr>\n",
       "    <tr>\n",
       "      <th>14</th>\n",
       "      <td>NORIEGA JIMENEZ GABRIELA</td>\n",
       "      <td>19</td>\n",
       "      <td>11</td>\n",
       "      <td>43</td>\n",
       "      <td>47</td>\n",
       "      <td>21</td>\n",
       "      <td>13</td>\n",
       "      <td>38</td>\n",
       "      <td>29</td>\n",
       "      <td>33</td>\n",
       "      <td>50</td>\n",
       "    </tr>\n",
       "    <tr>\n",
       "      <th>15</th>\n",
       "      <td>PEREZ REYES IVAN DARIO</td>\n",
       "      <td>15</td>\n",
       "      <td>10</td>\n",
       "      <td>45</td>\n",
       "      <td>14</td>\n",
       "      <td>21</td>\n",
       "      <td>36</td>\n",
       "      <td>42</td>\n",
       "      <td>30</td>\n",
       "      <td>13</td>\n",
       "      <td>29</td>\n",
       "    </tr>\n",
       "    <tr>\n",
       "      <th>16</th>\n",
       "      <td>PEREZ THERAN ERLINDA</td>\n",
       "      <td>5</td>\n",
       "      <td>52</td>\n",
       "      <td>10</td>\n",
       "      <td>32</td>\n",
       "      <td>35</td>\n",
       "      <td>21</td>\n",
       "      <td>11</td>\n",
       "      <td>15</td>\n",
       "      <td>46</td>\n",
       "      <td>39</td>\n",
       "    </tr>\n",
       "    <tr>\n",
       "      <th>17</th>\n",
       "      <td>PINEDA ROMERO YOSMERI</td>\n",
       "      <td>10</td>\n",
       "      <td>52</td>\n",
       "      <td>24</td>\n",
       "      <td>6</td>\n",
       "      <td>50</td>\n",
       "      <td>26</td>\n",
       "      <td>41</td>\n",
       "      <td>18</td>\n",
       "      <td>7</td>\n",
       "      <td>21</td>\n",
       "    </tr>\n",
       "    <tr>\n",
       "      <th>18</th>\n",
       "      <td>QUINONEZ CERVANTES MARIANA</td>\n",
       "      <td>39</td>\n",
       "      <td>38</td>\n",
       "      <td>12</td>\n",
       "      <td>22</td>\n",
       "      <td>17</td>\n",
       "      <td>47</td>\n",
       "      <td>52</td>\n",
       "      <td>27</td>\n",
       "      <td>53</td>\n",
       "      <td>34</td>\n",
       "    </tr>\n",
       "    <tr>\n",
       "      <th>19</th>\n",
       "      <td>RAMOS PEREZ YANINE</td>\n",
       "      <td>52</td>\n",
       "      <td>3</td>\n",
       "      <td>46</td>\n",
       "      <td>23</td>\n",
       "      <td>50</td>\n",
       "      <td>25</td>\n",
       "      <td>51</td>\n",
       "      <td>39</td>\n",
       "      <td>20</td>\n",
       "      <td>35</td>\n",
       "    </tr>\n",
       "    <tr>\n",
       "      <th>20</th>\n",
       "      <td>RIVAS HOYOS ESTEFANIA</td>\n",
       "      <td>6</td>\n",
       "      <td>20</td>\n",
       "      <td>49</td>\n",
       "      <td>37</td>\n",
       "      <td>18</td>\n",
       "      <td>15</td>\n",
       "      <td>33</td>\n",
       "      <td>25</td>\n",
       "      <td>43</td>\n",
       "      <td>24</td>\n",
       "    </tr>\n",
       "    <tr>\n",
       "      <th>21</th>\n",
       "      <td>ROSILLO TEJADA VANESA</td>\n",
       "      <td>17</td>\n",
       "      <td>24</td>\n",
       "      <td>27</td>\n",
       "      <td>41</td>\n",
       "      <td>37</td>\n",
       "      <td>21</td>\n",
       "      <td>51</td>\n",
       "      <td>50</td>\n",
       "      <td>11</td>\n",
       "      <td>42</td>\n",
       "    </tr>\n",
       "    <tr>\n",
       "      <th>22</th>\n",
       "      <td>SANCHEZ PADILLA SILVESTRE</td>\n",
       "      <td>7</td>\n",
       "      <td>32</td>\n",
       "      <td>45</td>\n",
       "      <td>14</td>\n",
       "      <td>10</td>\n",
       "      <td>47</td>\n",
       "      <td>6</td>\n",
       "      <td>3</td>\n",
       "      <td>38</td>\n",
       "      <td>12</td>\n",
       "    </tr>\n",
       "    <tr>\n",
       "      <th>23</th>\n",
       "      <td>SILVA ROYERO MAILY CRISTINA</td>\n",
       "      <td>14</td>\n",
       "      <td>13</td>\n",
       "      <td>18</td>\n",
       "      <td>38</td>\n",
       "      <td>11</td>\n",
       "      <td>2</td>\n",
       "      <td>3</td>\n",
       "      <td>4</td>\n",
       "      <td>22</td>\n",
       "      <td>32</td>\n",
       "    </tr>\n",
       "    <tr>\n",
       "      <th>24</th>\n",
       "      <td>USUGA GEORGE JHON ESTIVEN</td>\n",
       "      <td>11</td>\n",
       "      <td>12</td>\n",
       "      <td>45</td>\n",
       "      <td>43</td>\n",
       "      <td>15</td>\n",
       "      <td>13</td>\n",
       "      <td>49</td>\n",
       "      <td>18</td>\n",
       "      <td>31</td>\n",
       "      <td>28</td>\n",
       "    </tr>\n",
       "  </tbody>\n",
       "</table>\n",
       "</div>"
      ],
      "text/plain": [
       "                              Student  Exer1  Exer2  Exer3  Exer4  Exer5  \\\n",
       "0   AMARIS FERNANDEZ SEBASTIAN CAMILO     47      2     52     29     21   \n",
       "1       ARENAS HERAZO GABRIEL ENRIQUE     42     23     44     20      2   \n",
       "2        AYALA MENDOZA MARISOL YACIRA     45     26     20     10     35   \n",
       "3          BERTEL RODELO MICHELL SMIT     24     18     39     54      5   \n",
       "4            BULA VERGARA MARIA PAULA      9     23     32     46     18   \n",
       "5             CANTILLO ENSUCHO DANIEL     34      5     44     43     21   \n",
       "6            CERVANTES DURAN ANGELICA      2     20     43      7     32   \n",
       "7             GUERRA NORIEGA YONATHAN     46     39     20     19     36   \n",
       "8     HINCAPIE CASTRO JOHAN SEBASTIAN     19      7      6     34     30   \n",
       "9              HUMANEZ SANCHEZ CAMILO     54     46      2     35      9   \n",
       "10       IBAÑEZ MORENO FRANCISCO LUIS     47     53     42     46      4   \n",
       "11          MASS MIRANDA RIVALDO JOSE      5     14     43     16     33   \n",
       "12     MIRANDA MARTINEZ CARLOS ANDRES     25     31     16     47     26   \n",
       "13              MONTERROSA SOTO ABRIL      4     26     30     25     33   \n",
       "14           NORIEGA JIMENEZ GABRIELA     19     11     43     47     21   \n",
       "15             PEREZ REYES IVAN DARIO     15     10     45     14     21   \n",
       "16               PEREZ THERAN ERLINDA      5     52     10     32     35   \n",
       "17              PINEDA ROMERO YOSMERI     10     52     24      6     50   \n",
       "18         QUINONEZ CERVANTES MARIANA     39     38     12     22     17   \n",
       "19                 RAMOS PEREZ YANINE     52      3     46     23     50   \n",
       "20              RIVAS HOYOS ESTEFANIA      6     20     49     37     18   \n",
       "21              ROSILLO TEJADA VANESA     17     24     27     41     37   \n",
       "22          SANCHEZ PADILLA SILVESTRE      7     32     45     14     10   \n",
       "23        SILVA ROYERO MAILY CRISTINA     14     13     18     38     11   \n",
       "24          USUGA GEORGE JHON ESTIVEN     11     12     45     43     15   \n",
       "\n",
       "    Exer6  Exer7  Exer8  Exer9  Exer10  \n",
       "0       4     36     54     35      53  \n",
       "1      34     45     43     37       8  \n",
       "2      36     23     29     31      12  \n",
       "3      19     38     41     30      28  \n",
       "4      48     34     21     10      33  \n",
       "5      23     40     36     18      51  \n",
       "6      11     23     12     22      34  \n",
       "7      42     12     23     25      34  \n",
       "8      37     18     41     11      24  \n",
       "9       7     31     11     34      23  \n",
       "10     54     30     13     50      36  \n",
       "11     28      8     41     52       2  \n",
       "12     48     32     40     27       3  \n",
       "13     13      7     23     19      14  \n",
       "14     13     38     29     33      50  \n",
       "15     36     42     30     13      29  \n",
       "16     21     11     15     46      39  \n",
       "17     26     41     18      7      21  \n",
       "18     47     52     27     53      34  \n",
       "19     25     51     39     20      35  \n",
       "20     15     33     25     43      24  \n",
       "21     21     51     50     11      42  \n",
       "22     47      6      3     38      12  \n",
       "23      2      3      4     22      32  \n",
       "24     13     49     18     31      28  "
      ]
     },
     "execution_count": 1,
     "metadata": {},
     "output_type": "execute_result"
    }
   ],
   "source": [
    "# Tarea 2 de solución de problemas \n",
    "# asignación de ejercicios de un seccion del texto guía\n",
    "\n",
    "# numpy.random.choice() obten la documentación de esta función en: \n",
    "# https://numpy.org/doc/stable/reference/random/generated/numpy.random.choice.html\n",
    "\n",
    "import pandas as pd\n",
    "import numpy as np\n",
    "import requests\n",
    "np.random.seed(424)  # establecer semilla aleatoria para hacer los resultados reproducibles\n",
    "\n",
    "\n",
    "nombre_tarea = 'Tarea_2'\n",
    "grupo_estudiantes = 'calculo_vectorial'\n",
    "nombre_texto_guia = 'Purcell'\n",
    "pagina_y_seccion = 'Página_202_Sección_3.8'\n",
    "numero_ejercicios_taller = 54\n",
    "numero_de_ejercicios_asignados = 10\n",
    "\n",
    "\n",
    "# Descargar la lista de  estudiantes\n",
    "students_path = \"/home/marco/Documentos/docencia/groups_list/\" + grupo_estudiantes + \".csv\"\n",
    "exercises = list(range(1, numero_ejercicios_taller))  \n",
    "\n",
    "students_data = pd.read_csv(students_path)\n",
    "\n",
    "# Crear una lista para almacenar las asignaciones\n",
    "assignments = []\n",
    "\n",
    "# Asignar ejercicios aleatorios a cada estudiante\n",
    "for index, student in students_data.iterrows():\n",
    "    # Seleccionar 5 ejercicios aleatorios sin repetición\n",
    "    random_exercises = np.random.choice(exercises, numero_de_ejercicios_asignados, replace = False)+ 1 \n",
    "    assignments.append([students_data[\"Nombre\"][index], *random_exercises])  # Agregar asignación a la lista\n",
    "\n",
    "# Crear un DataFrame con las asignaciones\n",
    "columns = [\"Student\"] + [ \"Exer\" + str(i+1) for i in range(numero_de_ejercicios_asignados)]\n",
    "assignment_df = pd.DataFrame(assignments, columns=columns)\n",
    "\n",
    "# Guardar el DataFrame en un archivo CSV\n",
    "assignment_csv = nombre_tarea + \"_\" + nombre_texto_guia + \"_\"+ pagina_y_seccion + \".csv\"\n",
    "assignment_df.to_csv(assignment_csv, index=False)\n",
    "\n",
    "print(\"\"\"Tarea 2 de solución de problemas:\n",
    "      Si faltan los enunciados de los problemas, no se valora la tarea.\n",
    "      Si faltan de la conclusión verbales, no se valora la tarea.\n",
    "      Esta tarea se valora solo si la presenta de manera manuscrita en su cuaderno de clase.  \n",
    "        \"\"\", assignment_csv)\n",
    "assignment_df"
   ]
  },
  {
   "cell_type": "markdown",
   "id": "d34defb9",
   "metadata": {
    "slideshow": {
     "slide_type": "slide"
    }
   },
   "source": [
    "## Asignación individual de tareas semanales "
   ]
  },
  {
   "cell_type": "code",
   "execution_count": 5,
   "id": "0406f442",
   "metadata": {
    "slideshow": {
     "slide_type": "slide"
    }
   },
   "outputs": [
    {
     "name": "stdout",
     "output_type": "stream",
     "text": [
      "Tarea 3 Solución problemas describiendo y justificando verbalmente: \n",
      "      Si faltan los enunciados de los problemas, no se valora la tarea\n",
      "      Si faltan de la conclusión verbales, no se valora la tarea \n",
      "      Esta tarea se valora solo si la presenta de manera manuscrita en su cuaderno de clase  \n",
      "       tarea_Purcell_Página_202_Sección_3.8.csv\n"
     ]
    },
    {
     "data": {
      "text/html": [
       "<div>\n",
       "<style scoped>\n",
       "    .dataframe tbody tr th:only-of-type {\n",
       "        vertical-align: middle;\n",
       "    }\n",
       "\n",
       "    .dataframe tbody tr th {\n",
       "        vertical-align: top;\n",
       "    }\n",
       "\n",
       "    .dataframe thead th {\n",
       "        text-align: right;\n",
       "    }\n",
       "</style>\n",
       "<table border=\"1\" class=\"dataframe\">\n",
       "  <thead>\n",
       "    <tr style=\"text-align: right;\">\n",
       "      <th></th>\n",
       "      <th>Student</th>\n",
       "      <th>Exer1</th>\n",
       "      <th>Exer2</th>\n",
       "      <th>Exer3</th>\n",
       "      <th>Exer4</th>\n",
       "      <th>Exer5</th>\n",
       "      <th>Exer6</th>\n",
       "      <th>Exer7</th>\n",
       "      <th>Exer8</th>\n",
       "      <th>Exer9</th>\n",
       "      <th>Exer10</th>\n",
       "    </tr>\n",
       "  </thead>\n",
       "  <tbody>\n",
       "    <tr>\n",
       "      <th>0</th>\n",
       "      <td>AMARIS FERNANDEZ SEBASTIAN CAMILO</td>\n",
       "      <td>4</td>\n",
       "      <td>7</td>\n",
       "      <td>9</td>\n",
       "      <td>17</td>\n",
       "      <td>21</td>\n",
       "      <td>30</td>\n",
       "      <td>39</td>\n",
       "      <td>44</td>\n",
       "      <td>51</td>\n",
       "      <td>54</td>\n",
       "    </tr>\n",
       "    <tr>\n",
       "      <th>1</th>\n",
       "      <td>ARENAS HERAZO GABRIEL ENRIQUE</td>\n",
       "      <td>2</td>\n",
       "      <td>5</td>\n",
       "      <td>11</td>\n",
       "      <td>17</td>\n",
       "      <td>26</td>\n",
       "      <td>28</td>\n",
       "      <td>32</td>\n",
       "      <td>40</td>\n",
       "      <td>46</td>\n",
       "      <td>50</td>\n",
       "    </tr>\n",
       "    <tr>\n",
       "      <th>2</th>\n",
       "      <td>AYALA MENDOZA MARISOL YACIRA</td>\n",
       "      <td>10</td>\n",
       "      <td>18</td>\n",
       "      <td>21</td>\n",
       "      <td>37</td>\n",
       "      <td>39</td>\n",
       "      <td>45</td>\n",
       "      <td>46</td>\n",
       "      <td>47</td>\n",
       "      <td>51</td>\n",
       "      <td>52</td>\n",
       "    </tr>\n",
       "    <tr>\n",
       "      <th>3</th>\n",
       "      <td>BERTEL RODELO MICHELL SMIT</td>\n",
       "      <td>4</td>\n",
       "      <td>8</td>\n",
       "      <td>20</td>\n",
       "      <td>26</td>\n",
       "      <td>28</td>\n",
       "      <td>33</td>\n",
       "      <td>40</td>\n",
       "      <td>41</td>\n",
       "      <td>42</td>\n",
       "      <td>47</td>\n",
       "    </tr>\n",
       "    <tr>\n",
       "      <th>4</th>\n",
       "      <td>BULA VERGARA MARIA PAULA</td>\n",
       "      <td>12</td>\n",
       "      <td>13</td>\n",
       "      <td>20</td>\n",
       "      <td>23</td>\n",
       "      <td>25</td>\n",
       "      <td>27</td>\n",
       "      <td>29</td>\n",
       "      <td>30</td>\n",
       "      <td>34</td>\n",
       "      <td>48</td>\n",
       "    </tr>\n",
       "    <tr>\n",
       "      <th>5</th>\n",
       "      <td>CANTILLO ENSUCHO DANIEL</td>\n",
       "      <td>2</td>\n",
       "      <td>4</td>\n",
       "      <td>5</td>\n",
       "      <td>7</td>\n",
       "      <td>15</td>\n",
       "      <td>25</td>\n",
       "      <td>27</td>\n",
       "      <td>33</td>\n",
       "      <td>46</td>\n",
       "      <td>51</td>\n",
       "    </tr>\n",
       "    <tr>\n",
       "      <th>6</th>\n",
       "      <td>CERVANTES DURAN ANGELICA</td>\n",
       "      <td>2</td>\n",
       "      <td>4</td>\n",
       "      <td>5</td>\n",
       "      <td>14</td>\n",
       "      <td>17</td>\n",
       "      <td>19</td>\n",
       "      <td>22</td>\n",
       "      <td>24</td>\n",
       "      <td>34</td>\n",
       "      <td>52</td>\n",
       "    </tr>\n",
       "    <tr>\n",
       "      <th>7</th>\n",
       "      <td>GUERRA NORIEGA YONATHAN</td>\n",
       "      <td>3</td>\n",
       "      <td>20</td>\n",
       "      <td>24</td>\n",
       "      <td>26</td>\n",
       "      <td>28</td>\n",
       "      <td>35</td>\n",
       "      <td>39</td>\n",
       "      <td>48</td>\n",
       "      <td>49</td>\n",
       "      <td>53</td>\n",
       "    </tr>\n",
       "    <tr>\n",
       "      <th>8</th>\n",
       "      <td>HINCAPIE CASTRO JOHAN SEBASTIAN</td>\n",
       "      <td>10</td>\n",
       "      <td>17</td>\n",
       "      <td>27</td>\n",
       "      <td>28</td>\n",
       "      <td>29</td>\n",
       "      <td>32</td>\n",
       "      <td>36</td>\n",
       "      <td>44</td>\n",
       "      <td>48</td>\n",
       "      <td>54</td>\n",
       "    </tr>\n",
       "    <tr>\n",
       "      <th>9</th>\n",
       "      <td>HUMANEZ SANCHEZ CAMILO</td>\n",
       "      <td>3</td>\n",
       "      <td>16</td>\n",
       "      <td>19</td>\n",
       "      <td>24</td>\n",
       "      <td>33</td>\n",
       "      <td>41</td>\n",
       "      <td>43</td>\n",
       "      <td>44</td>\n",
       "      <td>47</td>\n",
       "      <td>49</td>\n",
       "    </tr>\n",
       "    <tr>\n",
       "      <th>10</th>\n",
       "      <td>IBAÑEZ MORENO FRANCISCO LUIS</td>\n",
       "      <td>3</td>\n",
       "      <td>8</td>\n",
       "      <td>13</td>\n",
       "      <td>16</td>\n",
       "      <td>21</td>\n",
       "      <td>27</td>\n",
       "      <td>28</td>\n",
       "      <td>31</td>\n",
       "      <td>42</td>\n",
       "      <td>43</td>\n",
       "    </tr>\n",
       "    <tr>\n",
       "      <th>11</th>\n",
       "      <td>MASS MIRANDA RIVALDO JOSE</td>\n",
       "      <td>2</td>\n",
       "      <td>3</td>\n",
       "      <td>12</td>\n",
       "      <td>13</td>\n",
       "      <td>23</td>\n",
       "      <td>24</td>\n",
       "      <td>31</td>\n",
       "      <td>35</td>\n",
       "      <td>46</td>\n",
       "      <td>52</td>\n",
       "    </tr>\n",
       "    <tr>\n",
       "      <th>12</th>\n",
       "      <td>MIRANDA MARTINEZ CARLOS ANDRES</td>\n",
       "      <td>10</td>\n",
       "      <td>12</td>\n",
       "      <td>21</td>\n",
       "      <td>24</td>\n",
       "      <td>25</td>\n",
       "      <td>26</td>\n",
       "      <td>27</td>\n",
       "      <td>29</td>\n",
       "      <td>39</td>\n",
       "      <td>50</td>\n",
       "    </tr>\n",
       "    <tr>\n",
       "      <th>13</th>\n",
       "      <td>MONTERROSA SOTO ABRIL</td>\n",
       "      <td>10</td>\n",
       "      <td>14</td>\n",
       "      <td>16</td>\n",
       "      <td>18</td>\n",
       "      <td>28</td>\n",
       "      <td>30</td>\n",
       "      <td>35</td>\n",
       "      <td>36</td>\n",
       "      <td>42</td>\n",
       "      <td>50</td>\n",
       "    </tr>\n",
       "    <tr>\n",
       "      <th>14</th>\n",
       "      <td>NORIEGA JIMENEZ GABRIELA</td>\n",
       "      <td>4</td>\n",
       "      <td>13</td>\n",
       "      <td>14</td>\n",
       "      <td>16</td>\n",
       "      <td>19</td>\n",
       "      <td>22</td>\n",
       "      <td>36</td>\n",
       "      <td>37</td>\n",
       "      <td>46</td>\n",
       "      <td>51</td>\n",
       "    </tr>\n",
       "    <tr>\n",
       "      <th>15</th>\n",
       "      <td>PEREZ REYES IVAN DARIO</td>\n",
       "      <td>17</td>\n",
       "      <td>19</td>\n",
       "      <td>23</td>\n",
       "      <td>26</td>\n",
       "      <td>30</td>\n",
       "      <td>33</td>\n",
       "      <td>34</td>\n",
       "      <td>40</td>\n",
       "      <td>46</td>\n",
       "      <td>53</td>\n",
       "    </tr>\n",
       "    <tr>\n",
       "      <th>16</th>\n",
       "      <td>PEREZ THERAN ERLINDA</td>\n",
       "      <td>3</td>\n",
       "      <td>6</td>\n",
       "      <td>19</td>\n",
       "      <td>21</td>\n",
       "      <td>25</td>\n",
       "      <td>30</td>\n",
       "      <td>32</td>\n",
       "      <td>39</td>\n",
       "      <td>42</td>\n",
       "      <td>45</td>\n",
       "    </tr>\n",
       "    <tr>\n",
       "      <th>17</th>\n",
       "      <td>PINEDA ROMERO YOSMERI</td>\n",
       "      <td>2</td>\n",
       "      <td>30</td>\n",
       "      <td>31</td>\n",
       "      <td>32</td>\n",
       "      <td>35</td>\n",
       "      <td>36</td>\n",
       "      <td>37</td>\n",
       "      <td>42</td>\n",
       "      <td>47</td>\n",
       "      <td>50</td>\n",
       "    </tr>\n",
       "    <tr>\n",
       "      <th>18</th>\n",
       "      <td>QUINONEZ CERVANTES MARIANA</td>\n",
       "      <td>5</td>\n",
       "      <td>6</td>\n",
       "      <td>8</td>\n",
       "      <td>13</td>\n",
       "      <td>15</td>\n",
       "      <td>32</td>\n",
       "      <td>33</td>\n",
       "      <td>42</td>\n",
       "      <td>46</td>\n",
       "      <td>49</td>\n",
       "    </tr>\n",
       "    <tr>\n",
       "      <th>19</th>\n",
       "      <td>RAMOS PEREZ YANINE</td>\n",
       "      <td>11</td>\n",
       "      <td>20</td>\n",
       "      <td>21</td>\n",
       "      <td>28</td>\n",
       "      <td>29</td>\n",
       "      <td>37</td>\n",
       "      <td>39</td>\n",
       "      <td>44</td>\n",
       "      <td>46</td>\n",
       "      <td>52</td>\n",
       "    </tr>\n",
       "    <tr>\n",
       "      <th>20</th>\n",
       "      <td>RIVAS HOYOS ESTEFANIA</td>\n",
       "      <td>7</td>\n",
       "      <td>10</td>\n",
       "      <td>12</td>\n",
       "      <td>14</td>\n",
       "      <td>17</td>\n",
       "      <td>25</td>\n",
       "      <td>28</td>\n",
       "      <td>30</td>\n",
       "      <td>37</td>\n",
       "      <td>48</td>\n",
       "    </tr>\n",
       "    <tr>\n",
       "      <th>21</th>\n",
       "      <td>ROSILLO TEJADA VANESA</td>\n",
       "      <td>12</td>\n",
       "      <td>22</td>\n",
       "      <td>23</td>\n",
       "      <td>27</td>\n",
       "      <td>28</td>\n",
       "      <td>30</td>\n",
       "      <td>34</td>\n",
       "      <td>36</td>\n",
       "      <td>40</td>\n",
       "      <td>44</td>\n",
       "    </tr>\n",
       "    <tr>\n",
       "      <th>22</th>\n",
       "      <td>SANCHEZ PADILLA SILVESTRE</td>\n",
       "      <td>4</td>\n",
       "      <td>7</td>\n",
       "      <td>15</td>\n",
       "      <td>22</td>\n",
       "      <td>32</td>\n",
       "      <td>34</td>\n",
       "      <td>38</td>\n",
       "      <td>43</td>\n",
       "      <td>48</td>\n",
       "      <td>53</td>\n",
       "    </tr>\n",
       "    <tr>\n",
       "      <th>23</th>\n",
       "      <td>SILVA ROYERO MAILY CRISTINA</td>\n",
       "      <td>4</td>\n",
       "      <td>5</td>\n",
       "      <td>12</td>\n",
       "      <td>13</td>\n",
       "      <td>20</td>\n",
       "      <td>25</td>\n",
       "      <td>30</td>\n",
       "      <td>35</td>\n",
       "      <td>42</td>\n",
       "      <td>54</td>\n",
       "    </tr>\n",
       "    <tr>\n",
       "      <th>24</th>\n",
       "      <td>USUGA GEORGE JHON ESTIVEN</td>\n",
       "      <td>5</td>\n",
       "      <td>7</td>\n",
       "      <td>8</td>\n",
       "      <td>10</td>\n",
       "      <td>22</td>\n",
       "      <td>37</td>\n",
       "      <td>39</td>\n",
       "      <td>42</td>\n",
       "      <td>44</td>\n",
       "      <td>51</td>\n",
       "    </tr>\n",
       "  </tbody>\n",
       "</table>\n",
       "</div>"
      ],
      "text/plain": [
       "                              Student  Exer1  Exer2  Exer3  Exer4  Exer5  \\\n",
       "0   AMARIS FERNANDEZ SEBASTIAN CAMILO      4      7      9     17     21   \n",
       "1       ARENAS HERAZO GABRIEL ENRIQUE      2      5     11     17     26   \n",
       "2        AYALA MENDOZA MARISOL YACIRA     10     18     21     37     39   \n",
       "3          BERTEL RODELO MICHELL SMIT      4      8     20     26     28   \n",
       "4            BULA VERGARA MARIA PAULA     12     13     20     23     25   \n",
       "5             CANTILLO ENSUCHO DANIEL      2      4      5      7     15   \n",
       "6            CERVANTES DURAN ANGELICA      2      4      5     14     17   \n",
       "7             GUERRA NORIEGA YONATHAN      3     20     24     26     28   \n",
       "8     HINCAPIE CASTRO JOHAN SEBASTIAN     10     17     27     28     29   \n",
       "9              HUMANEZ SANCHEZ CAMILO      3     16     19     24     33   \n",
       "10       IBAÑEZ MORENO FRANCISCO LUIS      3      8     13     16     21   \n",
       "11          MASS MIRANDA RIVALDO JOSE      2      3     12     13     23   \n",
       "12     MIRANDA MARTINEZ CARLOS ANDRES     10     12     21     24     25   \n",
       "13              MONTERROSA SOTO ABRIL     10     14     16     18     28   \n",
       "14           NORIEGA JIMENEZ GABRIELA      4     13     14     16     19   \n",
       "15             PEREZ REYES IVAN DARIO     17     19     23     26     30   \n",
       "16               PEREZ THERAN ERLINDA      3      6     19     21     25   \n",
       "17              PINEDA ROMERO YOSMERI      2     30     31     32     35   \n",
       "18         QUINONEZ CERVANTES MARIANA      5      6      8     13     15   \n",
       "19                 RAMOS PEREZ YANINE     11     20     21     28     29   \n",
       "20              RIVAS HOYOS ESTEFANIA      7     10     12     14     17   \n",
       "21              ROSILLO TEJADA VANESA     12     22     23     27     28   \n",
       "22          SANCHEZ PADILLA SILVESTRE      4      7     15     22     32   \n",
       "23        SILVA ROYERO MAILY CRISTINA      4      5     12     13     20   \n",
       "24          USUGA GEORGE JHON ESTIVEN      5      7      8     10     22   \n",
       "\n",
       "    Exer6  Exer7  Exer8  Exer9  Exer10  \n",
       "0      30     39     44     51      54  \n",
       "1      28     32     40     46      50  \n",
       "2      45     46     47     51      52  \n",
       "3      33     40     41     42      47  \n",
       "4      27     29     30     34      48  \n",
       "5      25     27     33     46      51  \n",
       "6      19     22     24     34      52  \n",
       "7      35     39     48     49      53  \n",
       "8      32     36     44     48      54  \n",
       "9      41     43     44     47      49  \n",
       "10     27     28     31     42      43  \n",
       "11     24     31     35     46      52  \n",
       "12     26     27     29     39      50  \n",
       "13     30     35     36     42      50  \n",
       "14     22     36     37     46      51  \n",
       "15     33     34     40     46      53  \n",
       "16     30     32     39     42      45  \n",
       "17     36     37     42     47      50  \n",
       "18     32     33     42     46      49  \n",
       "19     37     39     44     46      52  \n",
       "20     25     28     30     37      48  \n",
       "21     30     34     36     40      44  \n",
       "22     34     38     43     48      53  \n",
       "23     25     30     35     42      54  \n",
       "24     37     39     42     44      51  "
      ]
     },
     "execution_count": 5,
     "metadata": {},
     "output_type": "execute_result"
    }
   ],
   "source": [
    "# Tarea 3 de solución de problemas describiendo procedimientos y justificándolos\n",
    "\n",
    "# asignación de ejercicios de un seccion del texto guía\n",
    "\n",
    "import pandas as pd\n",
    "import numpy as np\n",
    "import requests\n",
    "np.random.seed(126)  # establecer semilla aleatoria para hacer los resultados reproducibles\n",
    "\n",
    "\n",
    "nombre_tarea = 'Tarea_3_Probabilidad_Solu_problem_describ_justifi'\n",
    "grupo_estudiantes = 'calculo_vectorial'\n",
    "nombre_texto_guia = 'Purcell'\n",
    "pagina_y_seccion = 'Página_320_Sección_5_7'\n",
    "numero_ejercicios_taller = 41\n",
    "numero_de_ejercicios_asignados = 5\n",
    "\n",
    "\n",
    "# Descargar la lista de  estudiantes\n",
    "students_path = \"/home/marco/Documentos/docencia/groups_list/\" + grupo_estudiantes + \".csv\"\n",
    "exercises = list(range(1, numero_ejercicios_taller))  \n",
    "\n",
    "students_data = pd.read_csv(students_path)\n",
    "\n",
    "# Crear una lista para almacenar las asignaciones\n",
    "assignments = []\n",
    "\n",
    "# Asignar ejercicios aleatorios a cada estudiante\n",
    "for index, student in students_data.iterrows():\n",
    "    # Seleccionar 5 ejercicios aleatorios sin repetición\n",
    "    random_exercises = np.sort(np.random.choice(exercises, numero_de_ejercicios_asignados,\\\n",
    "                                                 replace = False)+ 1) \n",
    "    assignments.append([students_data[\"Nombre\"][index], *random_exercises])  # Agregar asignación a la lista\n",
    "\n",
    "# Crear un DataFrame con las asignaciones\n",
    "columns = [\"Student\"] + [ \"Exer\" + str(i+1) for i in range(numero_de_ejercicios_asignados)]\n",
    "assignment_df = pd.DataFrame(assignments, columns=columns)\n",
    "\n",
    "# Guardar el DataFrame en un archivo CSV\n",
    "assignment_csv = nombre_tarea + \"_\" + nombre_texto_guia + \"_\"+ pagina_y_seccion + \".csv\"\n",
    "assignment_df.to_csv(assignment_csv, index=False)\n",
    "\n",
    "print(\"\"\"Tarea 3 Solución problemas describiendo y justificando verbalmente: \n",
    "      Si faltan los enunciados de los problemas, no se valora la tarea\n",
    "      Si faltan de la conclusión verbales, no se valora la tarea \n",
    "      Esta tarea se valora solo si la presenta de manera manuscrita en su cuaderno de clase  \n",
    "      \"\"\", assignment_csv)\n",
    "assignment_df"
   ]
  },
  {
   "cell_type": "markdown",
   "id": "8d41fe58",
   "metadata": {
    "slideshow": {
     "slide_type": "slide"
    }
   },
   "source": [
    "# Horario de clases del profesor Marco\n",
    "\n",
    "* Lunes 8-12: Cálculo Vectorial\n",
    "* Martes 8-12 M: Fundamentos de Aritmética. \n",
    "* Miércoles 8 a 12 M: Fundamentos de la Lógica\n",
    "* Jueves 2 a 6 PM: Desarrollo del pensamiento matemático en la infancia. \n",
    "* Viernes 8 - 12 M: Desarrollo del pensamiento matemático en la infancia. \n",
    "* Sábados 8 - 12 Asesorías "
   ]
  },
  {
   "cell_type": "markdown",
   "id": "ae114e14",
   "metadata": {
    "slideshow": {
     "slide_type": "slide"
    }
   },
   "source": [
    "# Horarios de monitoría y asesoría  \n",
    "\n",
    "Coordinador de los cursos de la Facultad de Educación para regiones:    \n",
    "\n",
    "Andrés Vélez: regioneducacion.fedu@udea.edu.co  \n",
    "Coordinador Regiones  \n",
    "Facultad de Educación  \n",
    "Universidad de Antioquia  "
   ]
  },
  {
   "cell_type": "markdown",
   "id": "b1db4b6c",
   "metadata": {
    "slideshow": {
     "slide_type": "slide"
    }
   },
   "source": [
    "## Monitor Manuel San Juan Serrano y Yeifry  \n",
    "\n",
    "Contactar escribiendo al correo: manuel.serrano1@udea.edu.co\n",
    "\n",
    "yeifry.uribe@udea.edu.co  \n",
    "\n"
   ]
  },
  {
   "cell_type": "markdown",
   "id": "39559692",
   "metadata": {
    "slideshow": {
     "slide_type": "slide"
    }
   },
   "source": [
    "Martes y jueves de 8 - 12  \n",
    "Miércoles 10 - 12 y de 2 a 4 PM  \n",
    "Sábado: 8 - 12"
   ]
  },
  {
   "cell_type": "markdown",
   "id": "5a190057",
   "metadata": {},
   "source": [
    "## Monitoría virtual   \n",
    "\n",
    "Telefono del monitos en whatsApp: 3043936088  \n",
    "\n",
    "Juan David Cano Castrillón  \n",
    "Estudiante de Pregrado.  \n",
    "juan.canoc1@udea.edu.co  \n",
    "3043936088  \n"
   ]
  },
  {
   "cell_type": "markdown",
   "id": "10bce0d0",
   "metadata": {
    "slideshow": {
     "slide_type": "slide"
    }
   },
   "source": [
    "## Referentes "
   ]
  },
  {
   "cell_type": "markdown",
   "id": "1db3c468",
   "metadata": {
    "slideshow": {
     "slide_type": "slide"
    }
   },
   "source": [
    "* [Purcell, E. J., Varberg, D., & Rigdon, S. E. (2007). Cálculo diferencial e integral. Pearson Educación.](chrome-extension://efaidnbmnnnibpcajpcglclefindmkaj/https://www.cimat.mx/ciencia_para_jovenes/bachillerato/libros/[Purcell,Varberg,Rigdon]Calculo/[Purcell,Varberg,Rigdon]Calculo.pdf)\n",
    "\n",
    "* [Grajales Vanegas, L. M., Restrepo Estrada, C. E., Restrepo Ochoa, S. I., & Ruíz De Villalba, F. (2015). Matemáticas I para las ciencias económicas.](https://github.com/marco-canas/fundamentos_de_la_aritmetica/blob/main/referentes/2_grajales_logica/grajales_lina_matemticas.pdf)\n",
    "  \n",
    "* Duval, R. (2004). Semiosis y pensamiento humano: registros semióticos y aprendizajes intelectuales. Universidad del Valle.\n",
    "\n",
    "* [Aylwin, C. U. (2011). Lógica, conjuntos y números. Universidad de los Andes, Consejo de Publicaciones, Colección: Ciencias Básicas, Serie: Matemáticas.](https://github.com/marco-canas/fundamentos_logica/blob/main/referentes/2_uzcategui/uscategui.pdf)\n",
    "  \n",
    "* [Chollet, F. (2021). Deep learning with Python. Simon and Schuster.](https://github.com/marco-canas/didactica_ciencia_datos/blob/main/2_referentes/chollet/Fran%C3%A7ois%20Chollet%20-%20Deep%20Learning%20with%20Python-Manning%20(2018).pdf)  \n",
    "  \n",
    "* [Watson, S., Stewart, J., & Redlin, L. (2009). Precálculo. Matemáticas para el cálculo.](https://github.com/marco-canas/calculo/blob/main/referents/1_precalculo_stewart/stewart_precalculo.pdf)  \n",
    "\n",
    "\n",
    "\n",
    "  \n",
    "\n",
    "* [stewart cálculo](https://udeaeduco-my.sharepoint.com/:b:/g/personal/marco_canas_udea_edu_co/EZgXZjAp8QxPqOAim2hs6LcBNPLGjSHf-xwYnUVYkwa04w?e=RZdTCy)  \n",
    "\n",
    "* [larson](https://udeaeduco-my.sharepoint.com/:b:/g/personal/marco_canas_udea_edu_co/ES71ChFeO9ZDhW3TwC5Ijk8BjxUK3Pdqz_fjHxTTFAfIAg?e=VDEjfu)\n",
    "\n",
    "\n",
    "\n",
    "* [Recomendación de la UNESCO sobre ciencia abierta](https://unesdoc.unesco.org/ark:/48223/pf0000379949_spa)\n",
    "\n",
    "* [chatGPT](https://openai.com/blog/chatgpt)  \n",
    "\n",
    "* [Géron, A. (2017). Hands-on machine learning with scikit-learn and tensorflow: Concepts. Tools, and Techniques to build intelligent systems.](https://github.com/marco-canas/didactica_ciencia_datos/blob/main/2_referentes/geron/Hands-On%20Machine%20Learning-3nd_Edition(2022).pdf)  \n",
    "\n",
    "* [McKinney, W. (2012). Python for data analysis: Data wrangling with Pandas, NumPy, and IPython. \" O'Reilly Media, Inc.\".](https://github.com/marco-canas/didactica_ciencia_datos/blob/main/2_referentes/mckinney/Wes_McKinney.pdf)  "
   ]
  },
  {
   "cell_type": "markdown",
   "id": "8e65d6f9",
   "metadata": {},
   "source": [
    "# Como estudiante, encuentro que...   \n",
    "\n",
    "F: Mis Fortalezas son:     \n",
    "O: Mis Oportunidades son:    \n",
    "D: Mis Debilidades son:    \n",
    "A: Lo que Amenazas mi aprendizaje es:  "
   ]
  },
  {
   "cell_type": "markdown",
   "id": "8312cddb",
   "metadata": {},
   "source": [
    "Abordar el fraude en los exámenes es un desafío delicado, especialmente cuando tienes estudiantes que son, por lo demás, amables y alegres, pero que están recurriendo a prácticas deshonestas debido a una falta de preparación. Aquí te ofrezco estrategias de inspiración y asertividad que pueden ayudarte a tratar esta situación de manera constructiva y ética, invitando a la reflexión y promoviendo el compromiso de los estudiantes:\n"
   ]
  },
  {
   "cell_type": "markdown",
   "id": "e5ebd42b",
   "metadata": {},
   "source": [
    "\n",
    "### 1. **Fomentar la Reflexión a Través del Diálogo Asertivo**\n",
    "   Organiza una charla antes de los próximos exámenes para que, de forma calmada y respetuosa, abordes el tema del fraude. Puedes inspirar a los estudiantes con una reflexión sobre la importancia de la honestidad y cómo el aprendizaje real los prepara para su futuro profesional:\n"
   ]
  },
  {
   "cell_type": "markdown",
   "id": "4fe01f9f",
   "metadata": {},
   "source": [
    "   - **Ejemplo de mensaje**: \"Sé que algunos de ustedes recurren al celular durante el examen. Entiendo la presión y las dificultades que pueden estar enfrentando. Sin embargo, quiero que reflexionen: ¿cómo este tipo de comportamiento puede afectar su aprendizaje a largo plazo? Alguien que aprende a engañar, se engaña a sí mismo. En su carrera profesional como ingenieros agropecuarios, su habilidad para aplicar correctamente conceptos como el cálculo de volúmenes será fundamental. Vamos a buscar juntos alternativas para que cada uno pueda superar estas dificultades, sin necesidad de recurrir a trampas.\"\n"
   ]
  },
  {
   "cell_type": "markdown",
   "id": "4d3e3d2c",
   "metadata": {},
   "source": [
    "\n",
    "### 2. **Crear un Contrato de Honestidad**\n",
    "   Puedes implementar un contrato simbólico de honestidad, en el que los estudiantes se comprometan a no hacer uso del celular ni cualquier otro recurso fraudulento. Este contrato no solo sirve como un recordatorio, sino también como un paso hacia la autoregulación ética:\n",
    "   - **Formato del contrato**: “Me comprometo a ser honesto durante los exámenes, y a no utilizar mi celular ni ningún recurso externo para obtener una ventaja desleal. Sé que el éxito en este curso dependerá de mi propio esfuerzo y dedicación.”\n",
    "\n",
    "### 3. **Promover Espacios de Ayuda y Reflexión**\n",
    "   Dado que has notado que los estudiantes no están utilizando los espacios de asesoría, podrías plantear una dinámica que los motive a participar activamente:\n",
    "   - **Crear sesiones prácticas previas al examen**: Estas sesiones pueden centrarse en ejercicios específicos que se relacionen con los temas del examen, como el cálculo de volúmenes de sólidos de revolución. Haz hincapié en que los exámenes incluirán aspectos vistos en estas sesiones.\n",
    "   - **Premiar la asistencia y el esfuerzo en las asesorías**: Ofrecer puntos adicionales o reconocimientos para quienes participen en estas sesiones puede fomentar la asistencia y el compromiso.\n",
    "\n",
    "### 4. **Utilizar un Tono Inspirador en Clase**\n",
    "   Introduce mensajes que apelen al sentido de logro y crecimiento personal, inspirándolos a ver el valor de la autodisciplina y el esfuerzo. Puedes compartir anécdotas propias o ejemplos de éxito profesional que conecten con los retos que enfrentan.\n",
    "   - **Ejemplo**: \"Al principio de mi carrera, también tuve dificultades para entender conceptos avanzados como el cálculo de volúmenes. Sin embargo, la clave fue la persistencia, el estudio y aprender de mis errores. Hoy, ustedes están en una posición similar. Si dedican tiempo y esfuerzo, podrán manejar estos conceptos y mucho más, y lo más importante, con integridad.\"\n",
    "\n",
    "### 5. **Implementar Evaluaciones con Enfoque en el Proceso**\n",
    "   Puedes modificar ligeramente el formato del examen para que no se centre solo en el resultado final, sino también en el **proceso** de resolución. Esto puede incluir preguntas que requieran que expliquen los pasos que siguieron para llegar a la solución:\n",
    "   - **Preguntas que fomenten la reflexión y el razonamiento**: “Explica detalladamente por qué elegiste este método de integración para calcular el volumen, y cómo se relaciona con el sólido de revolución dado.”\n",
    "   - **Preguntas conceptuales**: \"¿Por qué es importante el concepto de integral definida en el contexto del cálculo de volúmenes? ¿Cómo este proceso matemático tiene relevancia en el campo de la ingeniería agropecuaria?\"\n"
   ]
  },
  {
   "cell_type": "markdown",
   "id": "55556491",
   "metadata": {},
   "source": [
    "\n",
    "### 6. **Mecanismos de Control y Consecuencias Claras**\n",
    "   Asegúrate de que haya claridad sobre las **consecuencias** del fraude en tu clase, pero sin caer en un tono excesivamente punitivo. Es importante que los estudiantes entiendan que las reglas existen para asegurar que todos tengan igualdad de condiciones.\n",
    "   - **Ejemplo de asertividad**: \"El uso de celulares o cualquier tipo de consulta no permitida durante el examen tendrá consecuencias académicas. No es un castigo, sino una forma de garantizar que lo que logres aquí te sirva a largo plazo en tu carrera profesional.\"\n"
   ]
  },
  {
   "cell_type": "markdown",
   "id": "96ed44e9",
   "metadata": {},
   "source": [
    "\n",
    "### 7. **Reforzar el Valor de la Preparación Constante**\n",
    "   Enfatiza que la preparación no es solo para el examen, sino para el desarrollo de sus habilidades como futuros ingenieros. Ayúdalos a ver cómo los temas que estudian (como los volúmenes de sólidos de revolución) son aplicables en el campo de la ingeniería agropecuaria:\n",
    "   - **Relación con su carrera**: \"Al aplicar estos conceptos en la ingeniería agropecuaria, tendrán la capacidad de calcular volúmenes de silos, reservas de agua, entre otros. Serán herramientas clave que necesitarán dominar para su futuro trabajo.\"\n",
    "\n",
    "### 8. **Proporcionar Alternativas en Exámenes**\n",
    "   Una estrategia para reducir el fraude es permitir el uso de recursos controlados durante el examen. Por ejemplo, en lugar de prohibir el celular, podrías permitirles usar calculadoras avanzadas o tablas de fórmulas. Así, el enfoque se trasladará al razonamiento, no a la memorización.\n",
    "\n",
    "Estas estrategias buscan construir un ambiente de confianza y responsabilidad mutua, inspirando a los estudiantes a mejorar su comportamiento y acercarse a su aprendizaje con integridad. Además de promover el uso de recursos disponibles, como las asesorías, estas técnicas permiten generar un cambio en la dinámica del aula."
   ]
  },
  {
   "cell_type": "markdown",
   "id": "6b9e56a8",
   "metadata": {
    "slideshow": {
     "slide_type": "slide"
    }
   },
   "source": [
    "### [Evaluamos al profesor Marco Cañas Aquí](https://forms.office.com/Pages/ResponsePage.aspx?id=IefhmYRxjkmK_7KtTlPBwkanXIs1i1FEujpsZgO6dXpUREJPV1kxUk1JV1ozTFJIQVNIQjY5WEY3US4u)"
   ]
  },
  {
   "cell_type": "markdown",
   "id": "050b9508",
   "metadata": {},
   "source": [
    "# Aportes de mis estudiantes a la metodología del curso  \n",
    "1. \n",
    "\n",
    "Sus opiniones y aportes son muy importantes para mi. Pues esta es una investigación educativa y un servicio de enseñanza para ustedes. Ustedes son la razón de ser de mi actividad docente. Dios los bendiga. "
   ]
  },
  {
   "cell_type": "markdown",
   "id": "6c4af91f",
   "metadata": {},
   "source": [
    "# Aportes de mis colegas docentes a la metodología que estoy aplicando en mis cursos. "
   ]
  },
  {
   "cell_type": "markdown",
   "id": "071afa04",
   "metadata": {
    "slideshow": {
     "slide_type": "slide"
    }
   },
   "source": [
    "## [Evaluación luego de alcanzar estos objetivos de aprendizaje]()"
   ]
  },
  {
   "cell_type": "markdown",
   "id": "10f43536",
   "metadata": {
    "slideshow": {
     "slide_type": "slide"
    }
   },
   "source": [
    "### Continue su aprendizaje en la siguiente clase a través del siguiente [vínculo]()"
   ]
  },
  {
   "cell_type": "markdown",
   "id": "ba236f4d",
   "metadata": {},
   "source": [
    "### **Actividad de Clase: Expresar Ideas, Dudas y Emociones de Manera Respetuosa y Asertiva**\n"
   ]
  },
  {
   "cell_type": "markdown",
   "id": "33bcd185",
   "metadata": {},
   "source": [
    "\n",
    "**Objetivo:**  \n",
    "Desarrollar habilidades de comunicación efectiva en los estudiantes para que puedan expresar sus ideas, dudas y emociones de forma respetuosa y asertiva.\n",
    "\n",
    "**Duración:**  \n",
    "15-20 minutos\n",
    "\n",
    "---\n"
   ]
  },
  {
   "cell_type": "markdown",
   "id": "f61da648",
   "metadata": {},
   "source": [
    "\n",
    "### **1. Introducción (5 minutos)**  \n",
    "- **Tema:** Introducir a los estudiantes al concepto de la comunicación asertiva, explicando cómo expresar pensamientos y emociones de manera clara y respetuosa sin agredir o ser pasivo.\n",
    "- **Dinámica:** Mostrar dos ejemplos contrastantes: uno de comunicación pasiva/agresiva y otro de comunicación asertiva. Preguntar a los estudiantes cuál creen que es más efectivo y por qué.\n",
    "\n",
    "**Materiales:**  \n",
    "- Pizarra o diapositivas con ejemplos de frases pasivas, agresivas y asertivas.\n",
    "  \n",
    "**Ejemplo:**  \n",
    "- **Pasivo:** “Bueno… no sé si es una buena idea, pero… tal vez podrías intentarlo.”\n",
    "- **Agresivo:** “¡Tu idea es terrible, no va a funcionar!”\n",
    "- **Asertivo:** “Creo que podríamos mejorar esa idea si consideramos otro enfoque.”\n",
    "\n",
    "---\n"
   ]
  },
  {
   "cell_type": "markdown",
   "id": "8fd54692",
   "metadata": {},
   "source": [
    "\n",
    "### **2. Ejercicio en Parejas (10 minutos)**  \n",
    "- **Instrucciones:** Dividir a los estudiantes en parejas. Darles diferentes situaciones cotidianas en las que deben comunicarse (pedir ayuda, expresar desacuerdo, compartir una idea, etc.). Cada pareja debe crear una breve conversación donde practiquen la comunicación asertiva.\n",
    "  \n",
    "**Situaciones propuestas:**\n",
    "  - Expresar desacuerdo con un compañero sobre una tarea de grupo.\n",
    "  - Pedirle ayuda al profesor sobre un concepto difícil.\n",
    "  - Expresar frustración por un malentendido en clase.\n",
    "\n",
    "- **Reglas:** Cada estudiante debe asegurarse de usar lenguaje respetuoso y asertivo para expresar su posición y emociones. Al final, cada pareja debe compartir con la clase un ejemplo de lo que discutieron.\n",
    "\n",
    "---\n",
    "\n",
    "### **3. Retroalimentación y Discusión (5 minutos)**  \n",
    "- **Discusión:** Invitar a algunos estudiantes a compartir sus experiencias de la actividad. \n",
    "- **Preguntas:** ¿Cómo se sintieron al intentar ser asertivos? ¿Les resultó difícil? ¿Cómo fue recibido el mensaje?\n",
    "  \n",
    "**Consejo:** Resaltar la importancia de practicar la asertividad como una herramienta para mejorar la comunicación interpersonal y reducir conflictos.\n",
    "\n",
    "---\n",
    "\n",
    "### **Cierre**  \n",
    "- Resumir las características de la comunicación asertiva: uso de \"yo\" en lugar de \"tú\" para evitar culpabilizar, tono de voz calmado, y respeto hacia el interlocutor.\n",
    "- **Tarea opcional:** Pedirles que practiquen la comunicación asertiva en sus conversaciones durante la semana y escriban una reflexión breve sobre cómo les fue.\n",
    "\n",
    "**Material adicional:**  \n",
    "- Video corto o recurso digital sobre la importancia de la comunicación asertiva."
   ]
  },
  {
   "cell_type": "markdown",
   "id": "53cc9115",
   "metadata": {
    "slideshow": {
     "slide_type": "slide"
    }
   },
   "source": [
    "## Agradecimientos  \n",
    "\n",
    "Doy gracias a Dios por la vida de mi Hijo Joseph Cañas Osorio y la madurez que ha alcanzado.\n",
    "\n",
    "Y a mi esposa Yasmira por su apoyo, orientación y acompañamiento. "
   ]
  }
 ],
 "metadata": {
  "celltoolbar": "Slideshow",
  "kernelspec": {
   "display_name": "Python 3",
   "language": "python",
   "name": "python3"
  },
  "language_info": {
   "codemirror_mode": {
    "name": "ipython",
    "version": 3
   },
   "file_extension": ".py",
   "mimetype": "text/x-python",
   "name": "python",
   "nbconvert_exporter": "python",
   "pygments_lexer": "ipython3",
   "version": "3.12.7"
  },
  "rise": {
   "enable_chalkboard": true,
   "theme": "sky",
   "transition": "zoom"
  }
 },
 "nbformat": 4,
 "nbformat_minor": 5
}
